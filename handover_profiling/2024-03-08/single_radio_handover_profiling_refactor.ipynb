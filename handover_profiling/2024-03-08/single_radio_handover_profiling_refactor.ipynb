{
 "cells": [
  {
   "cell_type": "markdown",
   "metadata": {},
   "source": [
    "# Import Modules & Util Functions"
   ]
  },
  {
   "cell_type": "code",
   "execution_count": 7,
   "metadata": {},
   "outputs": [],
   "source": [
    "import os\n",
    "import sys\n",
    "import glob\n",
    "import re\n",
    "import ast\n",
    "import warnings\n",
    "\n",
    "import csv\n",
    "import json\n",
    "import pickle\n",
    "\n",
    "import math\n",
    "import random\n",
    "import numpy as np\n",
    "import scipy as sp\n",
    "import datetime as dt\n",
    "import pandas as pd\n",
    "import swifter\n",
    "from scipy.stats import gaussian_kde\n",
    "from scipy.integrate import quad\n",
    "from sklearn.metrics import mean_squared_error\n",
    "\n",
    "import portion as P\n",
    "import itertools as it\n",
    "import copy\n",
    "from tqdm.notebook import tqdm\n",
    "from collections import namedtuple\n",
    "from pprint import pprint\n",
    "from pytictoc import TicToc\n",
    "\n",
    "import matplotlib\n",
    "import matplotlib.pyplot as plt\n",
    "import seaborn as sns\n",
    "\n",
    "from my_utils import *\n",
    "\n",
    "# Configure display options\n",
    "# pd.set_option('display.max_rows', 100)\n",
    "pd.set_option('display.max_columns', 100)\n",
    "%config InlineBackend.figure_format = 'retina'\n",
    "\n",
    "# Set plot style\n",
    "# plt.style.use('ggplot')"
   ]
  },
  {
   "cell_type": "markdown",
   "metadata": {},
   "source": [
    "# Single Radio Evaluation"
   ]
  },
  {
   "cell_type": "code",
   "execution_count": 32,
   "metadata": {},
   "outputs": [],
   "source": [
    "class Eval:\n",
    "    def __init__(self, filepaths, model_name='Trial',\n",
    "                 sp_columns=['type'], ts_column='Timestamp',\n",
    "                 metrics=['dl_lost', 'dl_excl', 'ul_lost', 'ul_excl']):\n",
    "        # Initialize instance variables\n",
    "        self.filepaths = copy.deepcopy(filepaths)\n",
    "        self.model_name = model_name\n",
    "        with open(f'../models/{model_name}_kde_models.pkl', 'rb') as f:\n",
    "            self.kde_models = pickle.load(f)\n",
    "        with open(f'../models/{model_name}_hist_models.pkl', 'rb') as f:\n",
    "            self.hist_models = pickle.load(f)\n",
    "        with open(f'../models/{model_name}_scope_models.pkl', 'rb') as f:\n",
    "            self.scope_models = pickle.load(f)\n",
    "        with open(f'../models/{model_name}_sr_prob_models.pkl', 'rb') as f:\n",
    "            self.sr_prob_models = pickle.load(f)\n",
    "        self.sp_columns = sp_columns[:]\n",
    "        self.ts_column = ts_column\n",
    "        self.metrics = metrics[:]\n",
    "        \n",
    "        \n",
    "        # Sample data\n",
    "        self.LOSS_GT = []\n",
    "        self.LOSS_EV = []\n",
    "\n",
    "        # Standard deviations for error bars\n",
    "        self.LOSS_STD = []\n",
    "        \n",
    "        self.DEVICES = []\n",
    "        self.TRACES = []\n",
    "        \n",
    "        # all records\n",
    "        self.records = []\n",
    "\n",
    "    @staticmethod\n",
    "    def generate_random_boolean(probability_true):\n",
    "        return random.random() < probability_true\n",
    "    \n",
    "    @staticmethod\n",
    "    def interpolate(x, y, ratio=0.5):\n",
    "        \"\"\"\n",
    "        Args:\n",
    "            x, y (datetime.datetime): x < y\n",
    "            ratio (float): a decimal numeral in a range [0, 1]; 0 means break at x, 1 means break at y.\n",
    "        Returns:\n",
    "            (datetime.datetime): breakpoint of interpolation\n",
    "        \"\"\"\n",
    "        return x + (y - x) * ratio\n",
    "    \n",
    "    def hist_method(self, df, ho_df, mode_mets, mets, RATE_TYPE):\n",
    "        scope = self.scope_models[mode_mets]\n",
    "        hist_model = self.hist_models[mode_mets]\n",
    "        prob_model = self.sr_prob_models[mode_mets]\n",
    "        \n",
    "        this_df = df.copy()\n",
    "        for i, row in ho_df.iterrows():\n",
    "            prior_row = ho_df.iloc[i-1] if i != 0 else None\n",
    "            post_row = ho_df.iloc[i+1] if i != len(ho_df) - 1 else None\n",
    "\n",
    "            # Peek the next event to avoid HO overlapping with handoverFailure (skip!!)\n",
    "            if i != len(ho_df) - 1 and pd.notna(row.end) and row.end > post_row.start:\n",
    "                # print('Overlapping event occurs!!')\n",
    "                # print(i, row['start'], row['end'], row['type'], row['cause'])\n",
    "                # print(i+1, post_row['start'], post_row['end'], post_row['type'], post_row['cause'])\n",
    "                continue\n",
    "            \n",
    "            # Set prior event if the prior loop is skipped\n",
    "            if i != 0 and pd.notna(prior_row.end) and prior_row.end > row.start:\n",
    "                prior_row = ho_df.iloc[i-2] if i > 1 else None\n",
    "            \n",
    "            # Basic information of the current row\n",
    "            tag = '_'.join([s for s in row[self.sp_columns] if pd.notna(s)])  # specific column name\n",
    "            start_ts, end_ts = row['start'], row['end']  # handover start/end time\n",
    "            interruption_time = (end_ts - start_ts).total_seconds() if pd.notna(end_ts) else 0  # handover interruption time\n",
    "            \n",
    "            # Set simple left/right bounds\n",
    "            current_left_bound = start_ts + pd.Timedelta(seconds=(scope[tag][0]))\n",
    "            current_right_bound = start_ts + pd.Timedelta(seconds=(scope[tag][1]))\n",
    "            \n",
    "            # Set left/right bounds to avoid event overlapping with each other\n",
    "            if prior_row is not None:\n",
    "                prior_tag = '_'.join([s for s in prior_row[self.sp_columns] if pd.notna(s)])\n",
    "                prior_right_bound = prior_row['start'] + pd.Timedelta(seconds=(scope[prior_tag][1]))\n",
    "                if pd.notna(prior_row['end']):\n",
    "                    left_bound = min(max(current_left_bound, Eval.interpolate(prior_right_bound, current_left_bound), prior_row['end']), start_ts)\n",
    "                else:\n",
    "                    left_bound = min(max(current_left_bound, Eval.interpolate(prior_right_bound, current_left_bound), prior_row['start']), start_ts)\n",
    "            else:\n",
    "                left_bound = current_left_bound\n",
    "            \n",
    "            if post_row is not None:\n",
    "                post_tag = '_'.join([s for s in post_row[self.sp_columns] if pd.notna(s)])\n",
    "                post_left_bound = post_row['start'] + pd.Timedelta(seconds=(scope[post_tag][0]))\n",
    "                if pd.notna(end_ts):\n",
    "                    right_bound = max(min(current_right_bound, Eval.interpolate(current_right_bound, post_left_bound), post_row['start']), end_ts)\n",
    "                else:\n",
    "                    right_bound = max(min(current_right_bound, Eval.interpolate(current_right_bound, post_left_bound), post_row['start']), start_ts)\n",
    "            else:\n",
    "                right_bound = current_right_bound\n",
    "            \n",
    "            interval = P.closed(left_bound, right_bound)\n",
    "            \n",
    "            # Concatenate PLR from mapping list\n",
    "            current_df = this_df[this_df['Timestamp'] < interval.upper].copy()\n",
    "            plr_mapping = hist_model[tag].copy()\n",
    "            \n",
    "            current_df[f'relative_time'] = (current_df['Timestamp'] - start_ts).dt.total_seconds()\n",
    "            current_df[f'window_id'] = ((current_df[f'relative_time'] + 0.005) // 0.01) * 0.01\n",
    "            \n",
    "            trigger_probability = prob_model[tag]\n",
    "            \n",
    "            if plr_mapping.empty:\n",
    "                tmp = current_df.copy().rename(columns={mets: f'{mets}_x'})\n",
    "            else:\n",
    "                tmp = pd.merge(current_df, plr_mapping, on='window_id', how='left')\n",
    "                tmp[RATE_TYPE] = tmp[RATE_TYPE].fillna(0)\n",
    "                \n",
    "                if not Eval.generate_random_boolean(trigger_probability):\n",
    "                    tmp[RATE_TYPE] = 0\n",
    "            \n",
    "            if i == 0:\n",
    "                answer = tmp.copy()\n",
    "            else:\n",
    "                answer = pd.concat([answer, tmp], axis=0)\n",
    "            \n",
    "            # Update dataframe to accelerate the speed\n",
    "            this_df = this_df[this_df[self.ts_column] >= interval.upper].copy()\n",
    "        \n",
    "        answer = pd.concat([answer, this_df], axis=0)\n",
    "        # display(answer)\n",
    "        \n",
    "        # Consider stable duration\n",
    "        stable_df = answer[answer['tx_count'].isnull()].copy()[['seq', 'lost_x', 'excl', 'Timestamp']].rename(columns={'lost_x': 'lost'})\n",
    "\n",
    "        stable_df['Timestamp_sec'] = stable_df['Timestamp'].dt.floor('S')\n",
    "        stable_df['relative_time'] = (stable_df['Timestamp'] - stable_df['Timestamp_sec']).dt.total_seconds() - 0.5\n",
    "        stable_df['window_id'] = ((stable_df['relative_time'] + 0.01 / 2) // 0.01) * 0.01\n",
    "\n",
    "        plr_mapping = hist_model['Stable'].copy()\n",
    "        stable_df = pd.merge(stable_df, plr_mapping, on='window_id', how='left').rename(columns={'PLR': 'PLR_trig'})\n",
    "\n",
    "        trig_p_mapping = stable_df[~stable_df['Timestamp_sec'].duplicated()].reset_index(drop=True)\n",
    "        triggered_p = prob_model['Stable']\n",
    "        random_bool_array = [Eval.generate_random_boolean(triggered_p) for _ in range(len(trig_p_mapping))]\n",
    "        trig_p_mapping['trigger'] = random_bool_array\n",
    "        trig_p_mapping = trig_p_mapping[['Timestamp_sec', 'trigger']]\n",
    "\n",
    "        stable_df = pd.merge(stable_df, trig_p_mapping, on='Timestamp_sec', how='left')\n",
    "        stable_df['PLR'] = stable_df['PLR_trig'] * stable_df['trigger']\n",
    "\n",
    "        del stable_df['Timestamp_sec'], stable_df['PLR_trig'], stable_df['trigger']\n",
    "        \n",
    "        answer = answer[answer['tx_count'].notnull()].copy()\n",
    "        # display(answer)\n",
    "        \n",
    "        answer = pd.concat([answer, stable_df], axis=0)\n",
    "        answer = answer.sort_values(by='Timestamp').reset_index(drop=True)\n",
    "        answer['PLR'] = answer['PLR'] / 100\n",
    "        answer['Y'] = answer['PLR'].apply(Eval.generate_random_boolean)\n",
    "        \n",
    "        eval_value = answer['Y'].mean() * 100\n",
    "        ground_value = df['lost'].mean() * 100\n",
    "        \n",
    "        return answer, eval_value, ground_value\n",
    "    \n",
    "    \n",
    "    def hist_method_all(self, N=3):\n",
    "        n = len(self.filepaths)\n",
    "        for mode_mets in ['dl_lost']:\n",
    "            for i, filepath in enumerate(self.filepaths):\n",
    "                \n",
    "                # if i > 0:\n",
    "                #     break\n",
    "                \n",
    "                ho_df = pd.read_csv(filepath[0], parse_dates=['start', 'end'])\n",
    "                \n",
    "                print(f'{i+1}/{n}', filepath[0]); print(f'{i+1}/{n}', filepath[1])\n",
    "                \n",
    "                if ho_df.empty:\n",
    "                    print('******** Empty RRC Data ********')\n",
    "                    continue\n",
    "                \n",
    "                df = pd.read_csv(filepath[1], parse_dates=['Timestamp'])[['seq', 'Timestamp', 'lost', 'excl', 'latency']]\n",
    "                df, ho_df, empty_data = data_aligner(df, ho_df)\n",
    "                \n",
    "                if empty_data:\n",
    "                    print('******** Empty Data:', mode_mets, '********')\n",
    "                    continue\n",
    "                \n",
    "                loss_rate_list = []\n",
    "                for iter_round in tqdm(range(N), ncols=1000):\n",
    "                    _, eval_value, ground_value = eval.hist_method(df, ho_df, mode_mets='dl_lost', mets='lost', RATE_TYPE='PLR')\n",
    "                    loss_rate_list.append(eval_value)\n",
    "        \n",
    "                mean_value = np.mean(loss_rate_list)\n",
    "                std_deviation = np.std(loss_rate_list)\n",
    "\n",
    "                print()\n",
    "                print(\"Mean:\", mean_value)\n",
    "                print(\"Standard Deviation:\", std_deviation)\n",
    "                print(\"Ground Truth:\", ground_value)\n",
    "                \n",
    "                self.LOSS_GT.append(ground_value)\n",
    "                self.LOSS_EV.append(mean_value)\n",
    "                self.LOSS_STD.append(std_deviation)\n",
    "                \n",
    "                error = mean_value - ground_value\n",
    "                path = filepath[1]\n",
    "                \n",
    "                self.records.append((mean_value, std_deviation, ground_value, error, path))\n",
    "\n",
    "                # 找到 \"sm\" 的位置\n",
    "                sm_index = path.index(\"sm\")\n",
    "                # 从 \"sm\" 的位置开始找到下一个斜杠 \"/\"\n",
    "                next_slash_index = path.index(\"/\", sm_index)\n",
    "                # 截取 \"sm00\" 标签\n",
    "                sm_label = path[sm_index:next_slash_index]\n",
    "                # print(\"截取的标签为:\", sm_label)\n",
    "                \n",
    "                self.DEVICES.append(sm_label)\n",
    "                \n",
    "                # 找到 \"sm\" 的位置\n",
    "                sm_index = path.index(\"#\")\n",
    "                # 从 \"sm\" 的位置开始找到下一个斜杠 \"/\"\n",
    "                next_slash_index = path.index(\"/\", sm_index)\n",
    "                # 截取 \"sm00\" 标签\n",
    "                sm_label = path[sm_index:next_slash_index]\n",
    "                # print(\"截取的标签为:\", sm_label)\n",
    "                \n",
    "                self.TRACES.append(sm_label)\n",
    "    \n",
    "    \n",
    "    def plot(self, save_path='./plot.png'):\n",
    "        # Sample data\n",
    "        x = self.LOSS_GT.copy()\n",
    "        y = self.LOSS_EV.copy()\n",
    "\n",
    "        # Standard deviations for error bars\n",
    "        y_error = self.LOSS_STD.copy()\n",
    "\n",
    "        # Create figure and axes\n",
    "        fig, ax = plt.subplots(figsize=(6, 4))\n",
    "\n",
    "        # Scatter plot with error bars and horizontal caps\n",
    "        ax.errorbar(x, y, yerr=y_error, linestyle='None', marker='o', color='tab:blue', capsize=5)\n",
    "        ax.scatter([], [], linestyle='None', marker='o', color='tab:blue', label='Data Points')\n",
    "\n",
    "        # Regression line\n",
    "        coefficients = np.polyfit(x, y, 1)\n",
    "        regression_line = np.poly1d(coefficients)\n",
    "        ax.plot(ax.get_xlim(), regression_line(ax.get_xlim()), linestyle='--', linewidth=1.1, color='tab:blue', label='Regression Line')\n",
    "\n",
    "        # Annotate the slope of the regression line\n",
    "        # slope_annotation = f'Slope: {coefficients[0]:.2f}'\n",
    "        # ax.annotate(slope_annotation, xy=(0.5, 0.85), xycoords='axes fraction', fontsize=10, fontstyle='italic', fontweight='bold', color='tab:blue')\n",
    "\n",
    "        # Annotate MSE From the regression line\n",
    "        y_pred = regression_line(x)\n",
    "        # mse = mean_squared_error(y, y_pred)\n",
    "        mse = np.sqrt(mean_squared_error(x, y))\n",
    "        mse_rate = mse / np.mean(x) * 100\n",
    "        slope_annotation = f'RMSE: {mse:.3f} ({mse_rate:.1f} %)'\n",
    "        ax.annotate(slope_annotation, xy=(0.5, 0.85), xycoords='axes fraction', fontsize=10, fontstyle='italic', fontweight='bold', color='tab:blue')\n",
    "\n",
    "        # 45-Degree Line\n",
    "        ax.plot(ax.get_xlim(), ax.get_xlim(), linestyle='-', linewidth=1.1, color='tab:pink', label='45-Degree Line', alpha=0.9)\n",
    "        # ax.plot(ax.get_xlim(), 1.1 * ax.get_xlim(), linestyle='-', linewidth=1.1, color='tab:pink', label='45-Degree Line', alpha=0.9)\n",
    "        # ax.plot(ax.get_xlim(), 0.9 * ax.get_xlim(), linestyle='-', linewidth=1.1, color='tab:pink', label='45-Degree Line', alpha=0.9)\n",
    "        \n",
    "        # 获取 x 的边界\n",
    "        x_limits = ax.get_xlim()\n",
    "\n",
    "        # 创建 x 值范围\n",
    "        x_values = np.linspace(x_limits[0], x_limits[1], 100)  # 使用 x 的边界值作为范围\n",
    "\n",
    "        # 计算 y = 1.1x 和 y = 0.9x 的值\n",
    "        y_upper = 1.1 * x_values\n",
    "        y_lower = 0.9 * x_values\n",
    "\n",
    "        # 绘制 y = 1.1x 和 y = 0.9x 线\n",
    "        ax.plot(x_values, y_upper, linestyle='-', linewidth=1.1, color='tab:orange')\n",
    "        ax.plot(x_values, y_lower, linestyle='-', linewidth=1.1, color='tab:orange')\n",
    "\n",
    "        # 在两条线之间填充颜色\n",
    "        ax.fill_between(x_values, y_lower, y_upper, color='tab:orange', alpha=0.3)\n",
    "\n",
    "        # Set labels and title\n",
    "        ax.set_xlabel('PLR Ground Truth')\n",
    "        ax.set_ylabel('PLR Evaluated')\n",
    "        # ax.set_title('A Profile Evaluate 9 Traces From A5 Data: Single')\n",
    "\n",
    "        for i, sm_label in enumerate(self.DEVICES):\n",
    "            ax.annotate(sm_label, xy=(x[i], y[i]))\n",
    "            \n",
    "        # Add a legend\n",
    "        ax.legend()\n",
    "        \n",
    "        if not os.path.isdir(os.path.dirname(save_path)):\n",
    "            os.makedirs(os.path.dirname(save_path))\n",
    "        fig.savefig(save_path, dpi=300)\n",
    "\n",
    "        # Show the plot\n",
    "        plt.show()\n",
    "    \n",
    "    \n",
    "    def calculate_mse(self):\n",
    "        arr = np.array([item[3] for item in self.records])\n",
    "        # Calculate RMS\n",
    "        rms = np.sqrt(np.mean(arr**2))\n",
    "        return rms\n",
    "        "
   ]
  },
  {
   "cell_type": "markdown",
   "metadata": {},
   "source": [
    "# BR Eval"
   ]
  },
  {
   "cell_type": "code",
   "execution_count": 33,
   "metadata": {},
   "outputs": [
    {
     "name": "stdout",
     "output_type": "stream",
     "text": [
      "54\n",
      "[['/Users/jackbedford/Desktop/MOXA/Code/data/2023-09-12-2/UDP_Bandlock_9S_Phone_Brown/sm00/#01/data/handover_info_log.csv',\n",
      "  '/Users/jackbedford/Desktop/MOXA/Code/data/2023-09-12-2/UDP_Bandlock_9S_Phone_Brown/sm00/#01/data/udp_dnlk_loss_latency.csv',\n",
      "  '/Users/jackbedford/Desktop/MOXA/Code/data/2023-09-12-2/UDP_Bandlock_9S_Phone_Brown/sm00/#01/data/udp_uplk_loss_latency.csv',\n",
      "  '/Users/jackbedford/Desktop/MOXA/Code/data/2023-09-12-2/UDP_Bandlock_9S_Phone_Brown/sm00/#01/data/diag_log_sm00_2023-09-12_13-34-15_rrc.csv',\n",
      "  '/Users/jackbedford/Desktop/MOXA/Code/data/2023-09-12-2/UDP_Bandlock_9S_Phone_Brown/sm00/#01/data/diag_log_sm00_2023-09-12_13-34-15_ml1.csv',\n",
      "  '/Users/jackbedford/Desktop/MOXA/Code/data/2023-09-12-2/UDP_Bandlock_9S_Phone_Brown/sm00/#01/data/diag_log_sm00_2023-09-12_13-34-15_nr_ml1.csv'],\n",
      " ['/Users/jackbedford/Desktop/MOXA/Code/data/2023-09-12-2/UDP_Bandlock_9S_Phone_Brown/sm01/#01/data/handover_info_log.csv',\n",
      "  '/Users/jackbedford/Desktop/MOXA/Code/data/2023-09-12-2/UDP_Bandlock_9S_Phone_Brown/sm01/#01/data/udp_dnlk_loss_latency.csv',\n",
      "  '/Users/jackbedford/Desktop/MOXA/Code/data/2023-09-12-2/UDP_Bandlock_9S_Phone_Brown/sm01/#01/data/udp_uplk_loss_latency.csv',\n",
      "  '/Users/jackbedford/Desktop/MOXA/Code/data/2023-09-12-2/UDP_Bandlock_9S_Phone_Brown/sm01/#01/data/diag_log_sm01_2023-09-12_13-34-15_rrc.csv',\n",
      "  '/Users/jackbedford/Desktop/MOXA/Code/data/2023-09-12-2/UDP_Bandlock_9S_Phone_Brown/sm01/#01/data/diag_log_sm01_2023-09-12_13-34-15_ml1.csv',\n",
      "  '/Users/jackbedford/Desktop/MOXA/Code/data/2023-09-12-2/UDP_Bandlock_9S_Phone_Brown/sm01/#01/data/diag_log_sm01_2023-09-12_13-34-15_nr_ml1.csv'],\n",
      " ['/Users/jackbedford/Desktop/MOXA/Code/data/2023-09-12-2/UDP_Bandlock_9S_Phone_Brown/sm02/#01/data/handover_info_log.csv',\n",
      "  '/Users/jackbedford/Desktop/MOXA/Code/data/2023-09-12-2/UDP_Bandlock_9S_Phone_Brown/sm02/#01/data/udp_dnlk_loss_latency.csv',\n",
      "  '/Users/jackbedford/Desktop/MOXA/Code/data/2023-09-12-2/UDP_Bandlock_9S_Phone_Brown/sm02/#01/data/udp_uplk_loss_latency.csv',\n",
      "  '/Users/jackbedford/Desktop/MOXA/Code/data/2023-09-12-2/UDP_Bandlock_9S_Phone_Brown/sm02/#01/data/diag_log_sm02_2023-09-12_13-34-15_rrc.csv',\n",
      "  '/Users/jackbedford/Desktop/MOXA/Code/data/2023-09-12-2/UDP_Bandlock_9S_Phone_Brown/sm02/#01/data/diag_log_sm02_2023-09-12_13-34-15_ml1.csv',\n",
      "  '/Users/jackbedford/Desktop/MOXA/Code/data/2023-09-12-2/UDP_Bandlock_9S_Phone_Brown/sm02/#01/data/diag_log_sm02_2023-09-12_13-34-15_nr_ml1.csv'],\n",
      " ['/Users/jackbedford/Desktop/MOXA/Code/data/2023-09-12-2/UDP_Bandlock_9S_Phone_Brown/sm03/#01/data/handover_info_log.csv',\n",
      "  '/Users/jackbedford/Desktop/MOXA/Code/data/2023-09-12-2/UDP_Bandlock_9S_Phone_Brown/sm03/#01/data/udp_dnlk_loss_latency.csv',\n",
      "  '/Users/jackbedford/Desktop/MOXA/Code/data/2023-09-12-2/UDP_Bandlock_9S_Phone_Brown/sm03/#01/data/udp_uplk_loss_latency.csv',\n",
      "  '/Users/jackbedford/Desktop/MOXA/Code/data/2023-09-12-2/UDP_Bandlock_9S_Phone_Brown/sm03/#01/data/diag_log_sm03_2023-09-12_13-34-15_rrc.csv',\n",
      "  '/Users/jackbedford/Desktop/MOXA/Code/data/2023-09-12-2/UDP_Bandlock_9S_Phone_Brown/sm03/#01/data/diag_log_sm03_2023-09-12_13-34-15_ml1.csv',\n",
      "  '/Users/jackbedford/Desktop/MOXA/Code/data/2023-09-12-2/UDP_Bandlock_9S_Phone_Brown/sm03/#01/data/diag_log_sm03_2023-09-12_13-34-15_nr_ml1.csv'],\n",
      " ['/Users/jackbedford/Desktop/MOXA/Code/data/2023-09-12-2/UDP_Bandlock_9S_Phone_Brown/sm04/#01/data/handover_info_log.csv',\n",
      "  '/Users/jackbedford/Desktop/MOXA/Code/data/2023-09-12-2/UDP_Bandlock_9S_Phone_Brown/sm04/#01/data/udp_dnlk_loss_latency.csv',\n",
      "  '/Users/jackbedford/Desktop/MOXA/Code/data/2023-09-12-2/UDP_Bandlock_9S_Phone_Brown/sm04/#01/data/udp_uplk_loss_latency.csv',\n",
      "  '/Users/jackbedford/Desktop/MOXA/Code/data/2023-09-12-2/UDP_Bandlock_9S_Phone_Brown/sm04/#01/data/diag_log_sm04_2023-09-12_13-34-15_rrc.csv',\n",
      "  '/Users/jackbedford/Desktop/MOXA/Code/data/2023-09-12-2/UDP_Bandlock_9S_Phone_Brown/sm04/#01/data/diag_log_sm04_2023-09-12_13-34-15_ml1.csv',\n",
      "  '/Users/jackbedford/Desktop/MOXA/Code/data/2023-09-12-2/UDP_Bandlock_9S_Phone_Brown/sm04/#01/data/diag_log_sm04_2023-09-12_13-34-15_nr_ml1.csv'],\n",
      " ['/Users/jackbedford/Desktop/MOXA/Code/data/2023-09-12-2/UDP_Bandlock_9S_Phone_Brown/sm05/#01/data/handover_info_log.csv',\n",
      "  '/Users/jackbedford/Desktop/MOXA/Code/data/2023-09-12-2/UDP_Bandlock_9S_Phone_Brown/sm05/#01/data/udp_dnlk_loss_latency.csv',\n",
      "  '/Users/jackbedford/Desktop/MOXA/Code/data/2023-09-12-2/UDP_Bandlock_9S_Phone_Brown/sm05/#01/data/udp_uplk_loss_latency.csv',\n",
      "  '/Users/jackbedford/Desktop/MOXA/Code/data/2023-09-12-2/UDP_Bandlock_9S_Phone_Brown/sm05/#01/data/diag_log_sm05_2023-09-12_13-34-15_rrc.csv',\n",
      "  '/Users/jackbedford/Desktop/MOXA/Code/data/2023-09-12-2/UDP_Bandlock_9S_Phone_Brown/sm05/#01/data/diag_log_sm05_2023-09-12_13-34-15_ml1.csv',\n",
      "  '/Users/jackbedford/Desktop/MOXA/Code/data/2023-09-12-2/UDP_Bandlock_9S_Phone_Brown/sm05/#01/data/diag_log_sm05_2023-09-12_13-34-15_nr_ml1.csv'],\n",
      " ['/Users/jackbedford/Desktop/MOXA/Code/data/2023-09-12-2/UDP_Bandlock_9S_Phone_Brown/sm06/#01/data/handover_info_log.csv',\n",
      "  '/Users/jackbedford/Desktop/MOXA/Code/data/2023-09-12-2/UDP_Bandlock_9S_Phone_Brown/sm06/#01/data/udp_dnlk_loss_latency.csv',\n",
      "  '/Users/jackbedford/Desktop/MOXA/Code/data/2023-09-12-2/UDP_Bandlock_9S_Phone_Brown/sm06/#01/data/udp_uplk_loss_latency.csv',\n",
      "  '/Users/jackbedford/Desktop/MOXA/Code/data/2023-09-12-2/UDP_Bandlock_9S_Phone_Brown/sm06/#01/data/diag_log_sm06_2023-09-12_13-34-15_rrc.csv',\n",
      "  '/Users/jackbedford/Desktop/MOXA/Code/data/2023-09-12-2/UDP_Bandlock_9S_Phone_Brown/sm06/#01/data/diag_log_sm06_2023-09-12_13-34-15_ml1.csv',\n",
      "  '/Users/jackbedford/Desktop/MOXA/Code/data/2023-09-12-2/UDP_Bandlock_9S_Phone_Brown/sm06/#01/data/diag_log_sm06_2023-09-12_13-34-15_nr_ml1.csv'],\n",
      " ['/Users/jackbedford/Desktop/MOXA/Code/data/2023-09-12-2/UDP_Bandlock_9S_Phone_Brown/sm07/#01/data/handover_info_log.csv',\n",
      "  '/Users/jackbedford/Desktop/MOXA/Code/data/2023-09-12-2/UDP_Bandlock_9S_Phone_Brown/sm07/#01/data/udp_dnlk_loss_latency.csv',\n",
      "  '/Users/jackbedford/Desktop/MOXA/Code/data/2023-09-12-2/UDP_Bandlock_9S_Phone_Brown/sm07/#01/data/udp_uplk_loss_latency.csv',\n",
      "  '/Users/jackbedford/Desktop/MOXA/Code/data/2023-09-12-2/UDP_Bandlock_9S_Phone_Brown/sm07/#01/data/diag_log_sm07_2023-09-12_13-34-15_rrc.csv',\n",
      "  '/Users/jackbedford/Desktop/MOXA/Code/data/2023-09-12-2/UDP_Bandlock_9S_Phone_Brown/sm07/#01/data/diag_log_sm07_2023-09-12_13-34-15_ml1.csv',\n",
      "  '/Users/jackbedford/Desktop/MOXA/Code/data/2023-09-12-2/UDP_Bandlock_9S_Phone_Brown/sm07/#01/data/diag_log_sm07_2023-09-12_13-34-15_nr_ml1.csv'],\n",
      " ['/Users/jackbedford/Desktop/MOXA/Code/data/2023-09-12-2/UDP_Bandlock_9S_Phone_Brown/sm08/#01/data/handover_info_log.csv',\n",
      "  '/Users/jackbedford/Desktop/MOXA/Code/data/2023-09-12-2/UDP_Bandlock_9S_Phone_Brown/sm08/#01/data/udp_dnlk_loss_latency.csv',\n",
      "  '/Users/jackbedford/Desktop/MOXA/Code/data/2023-09-12-2/UDP_Bandlock_9S_Phone_Brown/sm08/#01/data/udp_uplk_loss_latency.csv',\n",
      "  '/Users/jackbedford/Desktop/MOXA/Code/data/2023-09-12-2/UDP_Bandlock_9S_Phone_Brown/sm08/#01/data/diag_log_sm08_2023-09-12_13-34-15_rrc.csv',\n",
      "  '/Users/jackbedford/Desktop/MOXA/Code/data/2023-09-12-2/UDP_Bandlock_9S_Phone_Brown/sm08/#01/data/diag_log_sm08_2023-09-12_13-34-15_ml1.csv',\n",
      "  '/Users/jackbedford/Desktop/MOXA/Code/data/2023-09-12-2/UDP_Bandlock_9S_Phone_Brown/sm08/#01/data/diag_log_sm08_2023-09-12_13-34-15_nr_ml1.csv'],\n",
      " ['/Users/jackbedford/Desktop/MOXA/Code/data/2023-09-12-2/UDP_Bandlock_9S_Phone_Brown/sm00/#02/data/handover_info_log.csv',\n",
      "  '/Users/jackbedford/Desktop/MOXA/Code/data/2023-09-12-2/UDP_Bandlock_9S_Phone_Brown/sm00/#02/data/udp_dnlk_loss_latency.csv',\n",
      "  '/Users/jackbedford/Desktop/MOXA/Code/data/2023-09-12-2/UDP_Bandlock_9S_Phone_Brown/sm00/#02/data/udp_uplk_loss_latency.csv',\n",
      "  '/Users/jackbedford/Desktop/MOXA/Code/data/2023-09-12-2/UDP_Bandlock_9S_Phone_Brown/sm00/#02/data/diag_log_sm00_2023-09-12_14-52-28_rrc.csv',\n",
      "  '/Users/jackbedford/Desktop/MOXA/Code/data/2023-09-12-2/UDP_Bandlock_9S_Phone_Brown/sm00/#02/data/diag_log_sm00_2023-09-12_14-52-28_ml1.csv',\n",
      "  '/Users/jackbedford/Desktop/MOXA/Code/data/2023-09-12-2/UDP_Bandlock_9S_Phone_Brown/sm00/#02/data/diag_log_sm00_2023-09-12_14-52-28_nr_ml1.csv'],\n",
      " ['/Users/jackbedford/Desktop/MOXA/Code/data/2023-09-12-2/UDP_Bandlock_9S_Phone_Brown/sm01/#02/data/handover_info_log.csv',\n",
      "  '/Users/jackbedford/Desktop/MOXA/Code/data/2023-09-12-2/UDP_Bandlock_9S_Phone_Brown/sm01/#02/data/udp_dnlk_loss_latency.csv',\n",
      "  '/Users/jackbedford/Desktop/MOXA/Code/data/2023-09-12-2/UDP_Bandlock_9S_Phone_Brown/sm01/#02/data/udp_uplk_loss_latency.csv',\n",
      "  '/Users/jackbedford/Desktop/MOXA/Code/data/2023-09-12-2/UDP_Bandlock_9S_Phone_Brown/sm01/#02/data/diag_log_sm01_2023-09-12_14-52-27_rrc.csv',\n",
      "  '/Users/jackbedford/Desktop/MOXA/Code/data/2023-09-12-2/UDP_Bandlock_9S_Phone_Brown/sm01/#02/data/diag_log_sm01_2023-09-12_14-52-27_ml1.csv',\n",
      "  '/Users/jackbedford/Desktop/MOXA/Code/data/2023-09-12-2/UDP_Bandlock_9S_Phone_Brown/sm01/#02/data/diag_log_sm01_2023-09-12_14-52-27_nr_ml1.csv'],\n",
      " ['/Users/jackbedford/Desktop/MOXA/Code/data/2023-09-12-2/UDP_Bandlock_9S_Phone_Brown/sm02/#02/data/handover_info_log.csv',\n",
      "  '/Users/jackbedford/Desktop/MOXA/Code/data/2023-09-12-2/UDP_Bandlock_9S_Phone_Brown/sm02/#02/data/udp_dnlk_loss_latency.csv',\n",
      "  '/Users/jackbedford/Desktop/MOXA/Code/data/2023-09-12-2/UDP_Bandlock_9S_Phone_Brown/sm02/#02/data/udp_uplk_loss_latency.csv',\n",
      "  '/Users/jackbedford/Desktop/MOXA/Code/data/2023-09-12-2/UDP_Bandlock_9S_Phone_Brown/sm02/#02/data/diag_log_sm02_2023-09-12_14-52-27_rrc.csv',\n",
      "  '/Users/jackbedford/Desktop/MOXA/Code/data/2023-09-12-2/UDP_Bandlock_9S_Phone_Brown/sm02/#02/data/diag_log_sm02_2023-09-12_14-52-27_ml1.csv',\n",
      "  '/Users/jackbedford/Desktop/MOXA/Code/data/2023-09-12-2/UDP_Bandlock_9S_Phone_Brown/sm02/#02/data/diag_log_sm02_2023-09-12_14-52-27_nr_ml1.csv'],\n",
      " ['/Users/jackbedford/Desktop/MOXA/Code/data/2023-09-12-2/UDP_Bandlock_9S_Phone_Brown/sm03/#02/data/handover_info_log.csv',\n",
      "  '/Users/jackbedford/Desktop/MOXA/Code/data/2023-09-12-2/UDP_Bandlock_9S_Phone_Brown/sm03/#02/data/udp_dnlk_loss_latency.csv',\n",
      "  '/Users/jackbedford/Desktop/MOXA/Code/data/2023-09-12-2/UDP_Bandlock_9S_Phone_Brown/sm03/#02/data/udp_uplk_loss_latency.csv',\n",
      "  '/Users/jackbedford/Desktop/MOXA/Code/data/2023-09-12-2/UDP_Bandlock_9S_Phone_Brown/sm03/#02/data/diag_log_sm03_2023-09-12_14-52-28_rrc.csv',\n",
      "  '/Users/jackbedford/Desktop/MOXA/Code/data/2023-09-12-2/UDP_Bandlock_9S_Phone_Brown/sm03/#02/data/diag_log_sm03_2023-09-12_14-52-28_ml1.csv',\n",
      "  '/Users/jackbedford/Desktop/MOXA/Code/data/2023-09-12-2/UDP_Bandlock_9S_Phone_Brown/sm03/#02/data/diag_log_sm03_2023-09-12_14-52-28_nr_ml1.csv'],\n",
      " ['/Users/jackbedford/Desktop/MOXA/Code/data/2023-09-12-2/UDP_Bandlock_9S_Phone_Brown/sm04/#02/data/handover_info_log.csv',\n",
      "  '/Users/jackbedford/Desktop/MOXA/Code/data/2023-09-12-2/UDP_Bandlock_9S_Phone_Brown/sm04/#02/data/udp_dnlk_loss_latency.csv',\n",
      "  '/Users/jackbedford/Desktop/MOXA/Code/data/2023-09-12-2/UDP_Bandlock_9S_Phone_Brown/sm04/#02/data/udp_uplk_loss_latency.csv',\n",
      "  '/Users/jackbedford/Desktop/MOXA/Code/data/2023-09-12-2/UDP_Bandlock_9S_Phone_Brown/sm04/#02/data/diag_log_sm04_2023-09-12_14-52-28_rrc.csv',\n",
      "  '/Users/jackbedford/Desktop/MOXA/Code/data/2023-09-12-2/UDP_Bandlock_9S_Phone_Brown/sm04/#02/data/diag_log_sm04_2023-09-12_14-52-28_ml1.csv',\n",
      "  '/Users/jackbedford/Desktop/MOXA/Code/data/2023-09-12-2/UDP_Bandlock_9S_Phone_Brown/sm04/#02/data/diag_log_sm04_2023-09-12_14-52-28_nr_ml1.csv'],\n",
      " ['/Users/jackbedford/Desktop/MOXA/Code/data/2023-09-12-2/UDP_Bandlock_9S_Phone_Brown/sm05/#02/data/handover_info_log.csv',\n",
      "  '/Users/jackbedford/Desktop/MOXA/Code/data/2023-09-12-2/UDP_Bandlock_9S_Phone_Brown/sm05/#02/data/udp_dnlk_loss_latency.csv',\n",
      "  '/Users/jackbedford/Desktop/MOXA/Code/data/2023-09-12-2/UDP_Bandlock_9S_Phone_Brown/sm05/#02/data/udp_uplk_loss_latency.csv',\n",
      "  '/Users/jackbedford/Desktop/MOXA/Code/data/2023-09-12-2/UDP_Bandlock_9S_Phone_Brown/sm05/#02/data/diag_log_sm05_2023-09-12_14-52-28_rrc.csv',\n",
      "  '/Users/jackbedford/Desktop/MOXA/Code/data/2023-09-12-2/UDP_Bandlock_9S_Phone_Brown/sm05/#02/data/diag_log_sm05_2023-09-12_14-52-28_ml1.csv',\n",
      "  '/Users/jackbedford/Desktop/MOXA/Code/data/2023-09-12-2/UDP_Bandlock_9S_Phone_Brown/sm05/#02/data/diag_log_sm05_2023-09-12_14-52-28_nr_ml1.csv'],\n",
      " ['/Users/jackbedford/Desktop/MOXA/Code/data/2023-09-12-2/UDP_Bandlock_9S_Phone_Brown/sm06/#02/data/handover_info_log.csv',\n",
      "  '/Users/jackbedford/Desktop/MOXA/Code/data/2023-09-12-2/UDP_Bandlock_9S_Phone_Brown/sm06/#02/data/udp_dnlk_loss_latency.csv',\n",
      "  '/Users/jackbedford/Desktop/MOXA/Code/data/2023-09-12-2/UDP_Bandlock_9S_Phone_Brown/sm06/#02/data/udp_uplk_loss_latency.csv',\n",
      "  '/Users/jackbedford/Desktop/MOXA/Code/data/2023-09-12-2/UDP_Bandlock_9S_Phone_Brown/sm06/#02/data/diag_log_sm06_2023-09-12_14-52-28_rrc.csv',\n",
      "  '/Users/jackbedford/Desktop/MOXA/Code/data/2023-09-12-2/UDP_Bandlock_9S_Phone_Brown/sm06/#02/data/diag_log_sm06_2023-09-12_14-52-28_ml1.csv',\n",
      "  '/Users/jackbedford/Desktop/MOXA/Code/data/2023-09-12-2/UDP_Bandlock_9S_Phone_Brown/sm06/#02/data/diag_log_sm06_2023-09-12_14-52-28_nr_ml1.csv'],\n",
      " ['/Users/jackbedford/Desktop/MOXA/Code/data/2023-09-12-2/UDP_Bandlock_9S_Phone_Brown/sm07/#02/data/handover_info_log.csv',\n",
      "  '/Users/jackbedford/Desktop/MOXA/Code/data/2023-09-12-2/UDP_Bandlock_9S_Phone_Brown/sm07/#02/data/udp_dnlk_loss_latency.csv',\n",
      "  '/Users/jackbedford/Desktop/MOXA/Code/data/2023-09-12-2/UDP_Bandlock_9S_Phone_Brown/sm07/#02/data/udp_uplk_loss_latency.csv',\n",
      "  '/Users/jackbedford/Desktop/MOXA/Code/data/2023-09-12-2/UDP_Bandlock_9S_Phone_Brown/sm07/#02/data/diag_log_sm07_2023-09-12_14-52-28_rrc.csv',\n",
      "  '/Users/jackbedford/Desktop/MOXA/Code/data/2023-09-12-2/UDP_Bandlock_9S_Phone_Brown/sm07/#02/data/diag_log_sm07_2023-09-12_14-52-28_ml1.csv',\n",
      "  '/Users/jackbedford/Desktop/MOXA/Code/data/2023-09-12-2/UDP_Bandlock_9S_Phone_Brown/sm07/#02/data/diag_log_sm07_2023-09-12_14-52-28_nr_ml1.csv'],\n",
      " ['/Users/jackbedford/Desktop/MOXA/Code/data/2023-09-12-2/UDP_Bandlock_9S_Phone_Brown/sm08/#02/data/handover_info_log.csv',\n",
      "  '/Users/jackbedford/Desktop/MOXA/Code/data/2023-09-12-2/UDP_Bandlock_9S_Phone_Brown/sm08/#02/data/udp_dnlk_loss_latency.csv',\n",
      "  '/Users/jackbedford/Desktop/MOXA/Code/data/2023-09-12-2/UDP_Bandlock_9S_Phone_Brown/sm08/#02/data/udp_uplk_loss_latency.csv',\n",
      "  '/Users/jackbedford/Desktop/MOXA/Code/data/2023-09-12-2/UDP_Bandlock_9S_Phone_Brown/sm08/#02/data/diag_log_sm08_2023-09-12_14-52-28_rrc.csv',\n",
      "  '/Users/jackbedford/Desktop/MOXA/Code/data/2023-09-12-2/UDP_Bandlock_9S_Phone_Brown/sm08/#02/data/diag_log_sm08_2023-09-12_14-52-28_ml1.csv',\n",
      "  '/Users/jackbedford/Desktop/MOXA/Code/data/2023-09-12-2/UDP_Bandlock_9S_Phone_Brown/sm08/#02/data/diag_log_sm08_2023-09-12_14-52-28_nr_ml1.csv'],\n",
      " ['/Users/jackbedford/Desktop/MOXA/Code/data/2023-09-21/UDP_Bandlock_9S_Phone_Brown/sm00/#01/data/handover_info_log.csv',\n",
      "  '/Users/jackbedford/Desktop/MOXA/Code/data/2023-09-21/UDP_Bandlock_9S_Phone_Brown/sm00/#01/data/udp_dnlk_loss_latency.csv',\n",
      "  '/Users/jackbedford/Desktop/MOXA/Code/data/2023-09-21/UDP_Bandlock_9S_Phone_Brown/sm00/#01/data/udp_uplk_loss_latency.csv',\n",
      "  '/Users/jackbedford/Desktop/MOXA/Code/data/2023-09-21/UDP_Bandlock_9S_Phone_Brown/sm00/#01/data/diag_log_sm00_2023-09-21_14-29-12_rrc.csv',\n",
      "  '/Users/jackbedford/Desktop/MOXA/Code/data/2023-09-21/UDP_Bandlock_9S_Phone_Brown/sm00/#01/data/diag_log_sm00_2023-09-21_14-29-12_ml1.csv',\n",
      "  '/Users/jackbedford/Desktop/MOXA/Code/data/2023-09-21/UDP_Bandlock_9S_Phone_Brown/sm00/#01/data/diag_log_sm00_2023-09-21_14-29-12_nr_ml1.csv'],\n",
      " ['/Users/jackbedford/Desktop/MOXA/Code/data/2023-09-21/UDP_Bandlock_9S_Phone_Brown/sm01/#01/data/handover_info_log.csv',\n",
      "  '/Users/jackbedford/Desktop/MOXA/Code/data/2023-09-21/UDP_Bandlock_9S_Phone_Brown/sm01/#01/data/udp_dnlk_loss_latency.csv',\n",
      "  '/Users/jackbedford/Desktop/MOXA/Code/data/2023-09-21/UDP_Bandlock_9S_Phone_Brown/sm01/#01/data/udp_uplk_loss_latency.csv',\n",
      "  '/Users/jackbedford/Desktop/MOXA/Code/data/2023-09-21/UDP_Bandlock_9S_Phone_Brown/sm01/#01/data/diag_log_sm01_2023-09-21_14-29-12_rrc.csv',\n",
      "  '/Users/jackbedford/Desktop/MOXA/Code/data/2023-09-21/UDP_Bandlock_9S_Phone_Brown/sm01/#01/data/diag_log_sm01_2023-09-21_14-29-12_ml1.csv',\n",
      "  '/Users/jackbedford/Desktop/MOXA/Code/data/2023-09-21/UDP_Bandlock_9S_Phone_Brown/sm01/#01/data/diag_log_sm01_2023-09-21_14-29-12_nr_ml1.csv'],\n",
      " ['/Users/jackbedford/Desktop/MOXA/Code/data/2023-09-21/UDP_Bandlock_9S_Phone_Brown/sm02/#01/data/handover_info_log.csv',\n",
      "  '/Users/jackbedford/Desktop/MOXA/Code/data/2023-09-21/UDP_Bandlock_9S_Phone_Brown/sm02/#01/data/udp_dnlk_loss_latency.csv',\n",
      "  '/Users/jackbedford/Desktop/MOXA/Code/data/2023-09-21/UDP_Bandlock_9S_Phone_Brown/sm02/#01/data/udp_uplk_loss_latency.csv',\n",
      "  '/Users/jackbedford/Desktop/MOXA/Code/data/2023-09-21/UDP_Bandlock_9S_Phone_Brown/sm02/#01/data/diag_log_sm02_2023-09-21_14-29-12_rrc.csv',\n",
      "  '/Users/jackbedford/Desktop/MOXA/Code/data/2023-09-21/UDP_Bandlock_9S_Phone_Brown/sm02/#01/data/diag_log_sm02_2023-09-21_14-29-12_ml1.csv',\n",
      "  '/Users/jackbedford/Desktop/MOXA/Code/data/2023-09-21/UDP_Bandlock_9S_Phone_Brown/sm02/#01/data/diag_log_sm02_2023-09-21_14-29-12_nr_ml1.csv'],\n",
      " ['/Users/jackbedford/Desktop/MOXA/Code/data/2023-09-21/UDP_Bandlock_9S_Phone_Brown/sm03/#01/data/handover_info_log.csv',\n",
      "  '/Users/jackbedford/Desktop/MOXA/Code/data/2023-09-21/UDP_Bandlock_9S_Phone_Brown/sm03/#01/data/udp_dnlk_loss_latency.csv',\n",
      "  '/Users/jackbedford/Desktop/MOXA/Code/data/2023-09-21/UDP_Bandlock_9S_Phone_Brown/sm03/#01/data/udp_uplk_loss_latency.csv',\n",
      "  '/Users/jackbedford/Desktop/MOXA/Code/data/2023-09-21/UDP_Bandlock_9S_Phone_Brown/sm03/#01/data/diag_log_sm03_2023-09-21_14-29-12_rrc.csv',\n",
      "  '/Users/jackbedford/Desktop/MOXA/Code/data/2023-09-21/UDP_Bandlock_9S_Phone_Brown/sm03/#01/data/diag_log_sm03_2023-09-21_14-29-12_ml1.csv',\n",
      "  '/Users/jackbedford/Desktop/MOXA/Code/data/2023-09-21/UDP_Bandlock_9S_Phone_Brown/sm03/#01/data/diag_log_sm03_2023-09-21_14-29-12_nr_ml1.csv'],\n",
      " ['/Users/jackbedford/Desktop/MOXA/Code/data/2023-09-21/UDP_Bandlock_9S_Phone_Brown/sm04/#01/data/handover_info_log.csv',\n",
      "  '/Users/jackbedford/Desktop/MOXA/Code/data/2023-09-21/UDP_Bandlock_9S_Phone_Brown/sm04/#01/data/udp_dnlk_loss_latency.csv',\n",
      "  '/Users/jackbedford/Desktop/MOXA/Code/data/2023-09-21/UDP_Bandlock_9S_Phone_Brown/sm04/#01/data/udp_uplk_loss_latency.csv',\n",
      "  '/Users/jackbedford/Desktop/MOXA/Code/data/2023-09-21/UDP_Bandlock_9S_Phone_Brown/sm04/#01/data/diag_log_sm04_2023-09-21_14-29-12_rrc.csv',\n",
      "  '/Users/jackbedford/Desktop/MOXA/Code/data/2023-09-21/UDP_Bandlock_9S_Phone_Brown/sm04/#01/data/diag_log_sm04_2023-09-21_14-29-12_ml1.csv',\n",
      "  '/Users/jackbedford/Desktop/MOXA/Code/data/2023-09-21/UDP_Bandlock_9S_Phone_Brown/sm04/#01/data/diag_log_sm04_2023-09-21_14-29-12_nr_ml1.csv'],\n",
      " ['/Users/jackbedford/Desktop/MOXA/Code/data/2023-09-21/UDP_Bandlock_9S_Phone_Brown/sm05/#01/data/handover_info_log.csv',\n",
      "  '/Users/jackbedford/Desktop/MOXA/Code/data/2023-09-21/UDP_Bandlock_9S_Phone_Brown/sm05/#01/data/udp_dnlk_loss_latency.csv',\n",
      "  '/Users/jackbedford/Desktop/MOXA/Code/data/2023-09-21/UDP_Bandlock_9S_Phone_Brown/sm05/#01/data/udp_uplk_loss_latency.csv',\n",
      "  '/Users/jackbedford/Desktop/MOXA/Code/data/2023-09-21/UDP_Bandlock_9S_Phone_Brown/sm05/#01/data/diag_log_sm05_2023-09-21_14-29-12_rrc.csv',\n",
      "  '/Users/jackbedford/Desktop/MOXA/Code/data/2023-09-21/UDP_Bandlock_9S_Phone_Brown/sm05/#01/data/diag_log_sm05_2023-09-21_14-29-12_ml1.csv',\n",
      "  '/Users/jackbedford/Desktop/MOXA/Code/data/2023-09-21/UDP_Bandlock_9S_Phone_Brown/sm05/#01/data/diag_log_sm05_2023-09-21_14-29-12_nr_ml1.csv'],\n",
      " ['/Users/jackbedford/Desktop/MOXA/Code/data/2023-09-21/UDP_Bandlock_9S_Phone_Brown/sm06/#01/data/handover_info_log.csv',\n",
      "  '/Users/jackbedford/Desktop/MOXA/Code/data/2023-09-21/UDP_Bandlock_9S_Phone_Brown/sm06/#01/data/udp_dnlk_loss_latency.csv',\n",
      "  '/Users/jackbedford/Desktop/MOXA/Code/data/2023-09-21/UDP_Bandlock_9S_Phone_Brown/sm06/#01/data/udp_uplk_loss_latency.csv',\n",
      "  '/Users/jackbedford/Desktop/MOXA/Code/data/2023-09-21/UDP_Bandlock_9S_Phone_Brown/sm06/#01/data/diag_log_sm06_2023-09-21_14-29-12_rrc.csv',\n",
      "  '/Users/jackbedford/Desktop/MOXA/Code/data/2023-09-21/UDP_Bandlock_9S_Phone_Brown/sm06/#01/data/diag_log_sm06_2023-09-21_14-29-12_ml1.csv',\n",
      "  '/Users/jackbedford/Desktop/MOXA/Code/data/2023-09-21/UDP_Bandlock_9S_Phone_Brown/sm06/#01/data/diag_log_sm06_2023-09-21_14-29-12_nr_ml1.csv'],\n",
      " ['/Users/jackbedford/Desktop/MOXA/Code/data/2023-09-21/UDP_Bandlock_9S_Phone_Brown/sm07/#01/data/handover_info_log.csv',\n",
      "  '/Users/jackbedford/Desktop/MOXA/Code/data/2023-09-21/UDP_Bandlock_9S_Phone_Brown/sm07/#01/data/udp_dnlk_loss_latency.csv',\n",
      "  '/Users/jackbedford/Desktop/MOXA/Code/data/2023-09-21/UDP_Bandlock_9S_Phone_Brown/sm07/#01/data/udp_uplk_loss_latency.csv',\n",
      "  '/Users/jackbedford/Desktop/MOXA/Code/data/2023-09-21/UDP_Bandlock_9S_Phone_Brown/sm07/#01/data/diag_log_sm07_2023-09-21_14-29-12_rrc.csv',\n",
      "  '/Users/jackbedford/Desktop/MOXA/Code/data/2023-09-21/UDP_Bandlock_9S_Phone_Brown/sm07/#01/data/diag_log_sm07_2023-09-21_14-29-12_ml1.csv',\n",
      "  '/Users/jackbedford/Desktop/MOXA/Code/data/2023-09-21/UDP_Bandlock_9S_Phone_Brown/sm07/#01/data/diag_log_sm07_2023-09-21_14-29-12_nr_ml1.csv'],\n",
      " ['/Users/jackbedford/Desktop/MOXA/Code/data/2023-09-21/UDP_Bandlock_9S_Phone_Brown/sm08/#01/data/handover_info_log.csv',\n",
      "  '/Users/jackbedford/Desktop/MOXA/Code/data/2023-09-21/UDP_Bandlock_9S_Phone_Brown/sm08/#01/data/udp_dnlk_loss_latency.csv',\n",
      "  '/Users/jackbedford/Desktop/MOXA/Code/data/2023-09-21/UDP_Bandlock_9S_Phone_Brown/sm08/#01/data/udp_uplk_loss_latency.csv',\n",
      "  '/Users/jackbedford/Desktop/MOXA/Code/data/2023-09-21/UDP_Bandlock_9S_Phone_Brown/sm08/#01/data/diag_log_sm08_2023-09-21_14-29-12_rrc.csv',\n",
      "  '/Users/jackbedford/Desktop/MOXA/Code/data/2023-09-21/UDP_Bandlock_9S_Phone_Brown/sm08/#01/data/diag_log_sm08_2023-09-21_14-29-12_ml1.csv',\n",
      "  '/Users/jackbedford/Desktop/MOXA/Code/data/2023-09-21/UDP_Bandlock_9S_Phone_Brown/sm08/#01/data/diag_log_sm08_2023-09-21_14-29-12_nr_ml1.csv'],\n",
      " ['/Users/jackbedford/Desktop/MOXA/Code/data/2023-09-21/UDP_Bandlock_9S_Phone_Brown/sm00/#02/data/handover_info_log.csv',\n",
      "  '/Users/jackbedford/Desktop/MOXA/Code/data/2023-09-21/UDP_Bandlock_9S_Phone_Brown/sm00/#02/data/udp_dnlk_loss_latency.csv',\n",
      "  '/Users/jackbedford/Desktop/MOXA/Code/data/2023-09-21/UDP_Bandlock_9S_Phone_Brown/sm00/#02/data/udp_uplk_loss_latency.csv',\n",
      "  '/Users/jackbedford/Desktop/MOXA/Code/data/2023-09-21/UDP_Bandlock_9S_Phone_Brown/sm00/#02/data/diag_log_sm00_2023-09-21_15-28-46_rrc.csv',\n",
      "  '/Users/jackbedford/Desktop/MOXA/Code/data/2023-09-21/UDP_Bandlock_9S_Phone_Brown/sm00/#02/data/diag_log_sm00_2023-09-21_15-28-46_ml1.csv',\n",
      "  '/Users/jackbedford/Desktop/MOXA/Code/data/2023-09-21/UDP_Bandlock_9S_Phone_Brown/sm00/#02/data/diag_log_sm00_2023-09-21_15-28-46_nr_ml1.csv'],\n",
      " ['/Users/jackbedford/Desktop/MOXA/Code/data/2023-09-21/UDP_Bandlock_9S_Phone_Brown/sm01/#02/data/handover_info_log.csv',\n",
      "  '/Users/jackbedford/Desktop/MOXA/Code/data/2023-09-21/UDP_Bandlock_9S_Phone_Brown/sm01/#02/data/udp_dnlk_loss_latency.csv',\n",
      "  '/Users/jackbedford/Desktop/MOXA/Code/data/2023-09-21/UDP_Bandlock_9S_Phone_Brown/sm01/#02/data/udp_uplk_loss_latency.csv',\n",
      "  '/Users/jackbedford/Desktop/MOXA/Code/data/2023-09-21/UDP_Bandlock_9S_Phone_Brown/sm01/#02/data/diag_log_sm01_2023-09-21_15-28-46_rrc.csv',\n",
      "  '/Users/jackbedford/Desktop/MOXA/Code/data/2023-09-21/UDP_Bandlock_9S_Phone_Brown/sm01/#02/data/diag_log_sm01_2023-09-21_15-28-46_ml1.csv',\n",
      "  '/Users/jackbedford/Desktop/MOXA/Code/data/2023-09-21/UDP_Bandlock_9S_Phone_Brown/sm01/#02/data/diag_log_sm01_2023-09-21_15-28-46_nr_ml1.csv'],\n",
      " ['/Users/jackbedford/Desktop/MOXA/Code/data/2023-09-21/UDP_Bandlock_9S_Phone_Brown/sm02/#02/data/handover_info_log.csv',\n",
      "  '/Users/jackbedford/Desktop/MOXA/Code/data/2023-09-21/UDP_Bandlock_9S_Phone_Brown/sm02/#02/data/udp_dnlk_loss_latency.csv',\n",
      "  '/Users/jackbedford/Desktop/MOXA/Code/data/2023-09-21/UDP_Bandlock_9S_Phone_Brown/sm02/#02/data/udp_uplk_loss_latency.csv',\n",
      "  '/Users/jackbedford/Desktop/MOXA/Code/data/2023-09-21/UDP_Bandlock_9S_Phone_Brown/sm02/#02/data/diag_log_sm02_2023-09-21_15-28-46_rrc.csv',\n",
      "  '/Users/jackbedford/Desktop/MOXA/Code/data/2023-09-21/UDP_Bandlock_9S_Phone_Brown/sm02/#02/data/diag_log_sm02_2023-09-21_15-28-46_ml1.csv',\n",
      "  '/Users/jackbedford/Desktop/MOXA/Code/data/2023-09-21/UDP_Bandlock_9S_Phone_Brown/sm02/#02/data/diag_log_sm02_2023-09-21_15-28-46_nr_ml1.csv'],\n",
      " ['/Users/jackbedford/Desktop/MOXA/Code/data/2023-09-21/UDP_Bandlock_9S_Phone_Brown/sm03/#02/data/handover_info_log.csv',\n",
      "  '/Users/jackbedford/Desktop/MOXA/Code/data/2023-09-21/UDP_Bandlock_9S_Phone_Brown/sm03/#02/data/udp_dnlk_loss_latency.csv',\n",
      "  '/Users/jackbedford/Desktop/MOXA/Code/data/2023-09-21/UDP_Bandlock_9S_Phone_Brown/sm03/#02/data/udp_uplk_loss_latency.csv',\n",
      "  '/Users/jackbedford/Desktop/MOXA/Code/data/2023-09-21/UDP_Bandlock_9S_Phone_Brown/sm03/#02/data/diag_log_sm03_2023-09-21_15-28-46_rrc.csv',\n",
      "  '/Users/jackbedford/Desktop/MOXA/Code/data/2023-09-21/UDP_Bandlock_9S_Phone_Brown/sm03/#02/data/diag_log_sm03_2023-09-21_15-28-46_ml1.csv',\n",
      "  '/Users/jackbedford/Desktop/MOXA/Code/data/2023-09-21/UDP_Bandlock_9S_Phone_Brown/sm03/#02/data/diag_log_sm03_2023-09-21_15-28-46_nr_ml1.csv'],\n",
      " ['/Users/jackbedford/Desktop/MOXA/Code/data/2023-09-21/UDP_Bandlock_9S_Phone_Brown/sm04/#02/data/handover_info_log.csv',\n",
      "  '/Users/jackbedford/Desktop/MOXA/Code/data/2023-09-21/UDP_Bandlock_9S_Phone_Brown/sm04/#02/data/udp_dnlk_loss_latency.csv',\n",
      "  '/Users/jackbedford/Desktop/MOXA/Code/data/2023-09-21/UDP_Bandlock_9S_Phone_Brown/sm04/#02/data/udp_uplk_loss_latency.csv',\n",
      "  '/Users/jackbedford/Desktop/MOXA/Code/data/2023-09-21/UDP_Bandlock_9S_Phone_Brown/sm04/#02/data/diag_log_sm04_2023-09-21_15-28-46_rrc.csv',\n",
      "  '/Users/jackbedford/Desktop/MOXA/Code/data/2023-09-21/UDP_Bandlock_9S_Phone_Brown/sm04/#02/data/diag_log_sm04_2023-09-21_15-28-46_ml1.csv',\n",
      "  '/Users/jackbedford/Desktop/MOXA/Code/data/2023-09-21/UDP_Bandlock_9S_Phone_Brown/sm04/#02/data/diag_log_sm04_2023-09-21_15-28-46_nr_ml1.csv'],\n",
      " ['/Users/jackbedford/Desktop/MOXA/Code/data/2023-09-21/UDP_Bandlock_9S_Phone_Brown/sm05/#02/data/handover_info_log.csv',\n",
      "  '/Users/jackbedford/Desktop/MOXA/Code/data/2023-09-21/UDP_Bandlock_9S_Phone_Brown/sm05/#02/data/udp_dnlk_loss_latency.csv',\n",
      "  '/Users/jackbedford/Desktop/MOXA/Code/data/2023-09-21/UDP_Bandlock_9S_Phone_Brown/sm05/#02/data/udp_uplk_loss_latency.csv',\n",
      "  '/Users/jackbedford/Desktop/MOXA/Code/data/2023-09-21/UDP_Bandlock_9S_Phone_Brown/sm05/#02/data/diag_log_sm05_2023-09-21_15-28-46_rrc.csv',\n",
      "  '/Users/jackbedford/Desktop/MOXA/Code/data/2023-09-21/UDP_Bandlock_9S_Phone_Brown/sm05/#02/data/diag_log_sm05_2023-09-21_15-28-46_ml1.csv',\n",
      "  '/Users/jackbedford/Desktop/MOXA/Code/data/2023-09-21/UDP_Bandlock_9S_Phone_Brown/sm05/#02/data/diag_log_sm05_2023-09-21_15-28-46_nr_ml1.csv'],\n",
      " ['/Users/jackbedford/Desktop/MOXA/Code/data/2023-09-21/UDP_Bandlock_9S_Phone_Brown/sm06/#02/data/handover_info_log.csv',\n",
      "  '/Users/jackbedford/Desktop/MOXA/Code/data/2023-09-21/UDP_Bandlock_9S_Phone_Brown/sm06/#02/data/udp_dnlk_loss_latency.csv',\n",
      "  '/Users/jackbedford/Desktop/MOXA/Code/data/2023-09-21/UDP_Bandlock_9S_Phone_Brown/sm06/#02/data/udp_uplk_loss_latency.csv',\n",
      "  '/Users/jackbedford/Desktop/MOXA/Code/data/2023-09-21/UDP_Bandlock_9S_Phone_Brown/sm06/#02/data/diag_log_sm06_2023-09-21_15-28-46_rrc.csv',\n",
      "  '/Users/jackbedford/Desktop/MOXA/Code/data/2023-09-21/UDP_Bandlock_9S_Phone_Brown/sm06/#02/data/diag_log_sm06_2023-09-21_15-28-46_ml1.csv',\n",
      "  '/Users/jackbedford/Desktop/MOXA/Code/data/2023-09-21/UDP_Bandlock_9S_Phone_Brown/sm06/#02/data/diag_log_sm06_2023-09-21_15-28-46_nr_ml1.csv'],\n",
      " ['/Users/jackbedford/Desktop/MOXA/Code/data/2023-09-21/UDP_Bandlock_9S_Phone_Brown/sm07/#02/data/handover_info_log.csv',\n",
      "  '/Users/jackbedford/Desktop/MOXA/Code/data/2023-09-21/UDP_Bandlock_9S_Phone_Brown/sm07/#02/data/udp_dnlk_loss_latency.csv',\n",
      "  '/Users/jackbedford/Desktop/MOXA/Code/data/2023-09-21/UDP_Bandlock_9S_Phone_Brown/sm07/#02/data/udp_uplk_loss_latency.csv',\n",
      "  '/Users/jackbedford/Desktop/MOXA/Code/data/2023-09-21/UDP_Bandlock_9S_Phone_Brown/sm07/#02/data/diag_log_sm07_2023-09-21_15-28-46_rrc.csv',\n",
      "  '/Users/jackbedford/Desktop/MOXA/Code/data/2023-09-21/UDP_Bandlock_9S_Phone_Brown/sm07/#02/data/diag_log_sm07_2023-09-21_15-28-46_ml1.csv',\n",
      "  '/Users/jackbedford/Desktop/MOXA/Code/data/2023-09-21/UDP_Bandlock_9S_Phone_Brown/sm07/#02/data/diag_log_sm07_2023-09-21_15-28-46_nr_ml1.csv'],\n",
      " ['/Users/jackbedford/Desktop/MOXA/Code/data/2023-09-21/UDP_Bandlock_9S_Phone_Brown/sm08/#02/data/handover_info_log.csv',\n",
      "  '/Users/jackbedford/Desktop/MOXA/Code/data/2023-09-21/UDP_Bandlock_9S_Phone_Brown/sm08/#02/data/udp_dnlk_loss_latency.csv',\n",
      "  '/Users/jackbedford/Desktop/MOXA/Code/data/2023-09-21/UDP_Bandlock_9S_Phone_Brown/sm08/#02/data/udp_uplk_loss_latency.csv',\n",
      "  '/Users/jackbedford/Desktop/MOXA/Code/data/2023-09-21/UDP_Bandlock_9S_Phone_Brown/sm08/#02/data/diag_log_sm08_2023-09-21_15-28-46_rrc.csv',\n",
      "  '/Users/jackbedford/Desktop/MOXA/Code/data/2023-09-21/UDP_Bandlock_9S_Phone_Brown/sm08/#02/data/diag_log_sm08_2023-09-21_15-28-46_ml1.csv',\n",
      "  '/Users/jackbedford/Desktop/MOXA/Code/data/2023-09-21/UDP_Bandlock_9S_Phone_Brown/sm08/#02/data/diag_log_sm08_2023-09-21_15-28-46_nr_ml1.csv'],\n",
      " ['/Users/jackbedford/Desktop/MOXA/Code/data/2023-11-09/UDP_Bandlock_9S_Phone_Brown/sm00/#01/data/handover_info_log.csv',\n",
      "  '/Users/jackbedford/Desktop/MOXA/Code/data/2023-11-09/UDP_Bandlock_9S_Phone_Brown/sm00/#01/data/udp_dnlk_loss_latency.csv',\n",
      "  '/Users/jackbedford/Desktop/MOXA/Code/data/2023-11-09/UDP_Bandlock_9S_Phone_Brown/sm00/#01/data/udp_uplk_loss_latency.csv',\n",
      "  '/Users/jackbedford/Desktop/MOXA/Code/data/2023-11-09/UDP_Bandlock_9S_Phone_Brown/sm00/#01/data/diag_log_sm00_2023-11-09_12-20-44_rrc.csv',\n",
      "  '/Users/jackbedford/Desktop/MOXA/Code/data/2023-11-09/UDP_Bandlock_9S_Phone_Brown/sm00/#01/data/diag_log_sm00_2023-11-09_12-20-44_ml1.csv',\n",
      "  '/Users/jackbedford/Desktop/MOXA/Code/data/2023-11-09/UDP_Bandlock_9S_Phone_Brown/sm00/#01/data/diag_log_sm00_2023-11-09_12-20-44_nr_ml1.csv'],\n",
      " ['/Users/jackbedford/Desktop/MOXA/Code/data/2023-11-09/UDP_Bandlock_9S_Phone_Brown/sm01/#01/data/handover_info_log.csv',\n",
      "  '/Users/jackbedford/Desktop/MOXA/Code/data/2023-11-09/UDP_Bandlock_9S_Phone_Brown/sm01/#01/data/udp_dnlk_loss_latency.csv',\n",
      "  '/Users/jackbedford/Desktop/MOXA/Code/data/2023-11-09/UDP_Bandlock_9S_Phone_Brown/sm01/#01/data/udp_uplk_loss_latency.csv',\n",
      "  '/Users/jackbedford/Desktop/MOXA/Code/data/2023-11-09/UDP_Bandlock_9S_Phone_Brown/sm01/#01/data/diag_log_sm01_2023-11-09_12-20-44_rrc.csv',\n",
      "  '/Users/jackbedford/Desktop/MOXA/Code/data/2023-11-09/UDP_Bandlock_9S_Phone_Brown/sm01/#01/data/diag_log_sm01_2023-11-09_12-20-44_ml1.csv',\n",
      "  '/Users/jackbedford/Desktop/MOXA/Code/data/2023-11-09/UDP_Bandlock_9S_Phone_Brown/sm01/#01/data/diag_log_sm01_2023-11-09_12-20-44_nr_ml1.csv'],\n",
      " ['/Users/jackbedford/Desktop/MOXA/Code/data/2023-11-09/UDP_Bandlock_9S_Phone_Brown/sm02/#01/data/handover_info_log.csv',\n",
      "  '/Users/jackbedford/Desktop/MOXA/Code/data/2023-11-09/UDP_Bandlock_9S_Phone_Brown/sm02/#01/data/udp_dnlk_loss_latency.csv',\n",
      "  '/Users/jackbedford/Desktop/MOXA/Code/data/2023-11-09/UDP_Bandlock_9S_Phone_Brown/sm02/#01/data/udp_uplk_loss_latency.csv',\n",
      "  '/Users/jackbedford/Desktop/MOXA/Code/data/2023-11-09/UDP_Bandlock_9S_Phone_Brown/sm02/#01/data/diag_log_sm02_2023-11-09_12-20-44_rrc.csv',\n",
      "  '/Users/jackbedford/Desktop/MOXA/Code/data/2023-11-09/UDP_Bandlock_9S_Phone_Brown/sm02/#01/data/diag_log_sm02_2023-11-09_12-20-44_ml1.csv',\n",
      "  '/Users/jackbedford/Desktop/MOXA/Code/data/2023-11-09/UDP_Bandlock_9S_Phone_Brown/sm02/#01/data/diag_log_sm02_2023-11-09_12-20-44_nr_ml1.csv'],\n",
      " ['/Users/jackbedford/Desktop/MOXA/Code/data/2023-11-09/UDP_Bandlock_9S_Phone_Brown/sm03/#01/data/handover_info_log.csv',\n",
      "  '/Users/jackbedford/Desktop/MOXA/Code/data/2023-11-09/UDP_Bandlock_9S_Phone_Brown/sm03/#01/data/udp_dnlk_loss_latency.csv',\n",
      "  '/Users/jackbedford/Desktop/MOXA/Code/data/2023-11-09/UDP_Bandlock_9S_Phone_Brown/sm03/#01/data/udp_uplk_loss_latency.csv',\n",
      "  '/Users/jackbedford/Desktop/MOXA/Code/data/2023-11-09/UDP_Bandlock_9S_Phone_Brown/sm03/#01/data/diag_log_sm03_2023-11-09_12-20-44_rrc.csv',\n",
      "  '/Users/jackbedford/Desktop/MOXA/Code/data/2023-11-09/UDP_Bandlock_9S_Phone_Brown/sm03/#01/data/diag_log_sm03_2023-11-09_12-20-44_ml1.csv',\n",
      "  '/Users/jackbedford/Desktop/MOXA/Code/data/2023-11-09/UDP_Bandlock_9S_Phone_Brown/sm03/#01/data/diag_log_sm03_2023-11-09_12-20-44_nr_ml1.csv'],\n",
      " ['/Users/jackbedford/Desktop/MOXA/Code/data/2023-11-09/UDP_Bandlock_9S_Phone_Brown/sm04/#01/data/handover_info_log.csv',\n",
      "  '/Users/jackbedford/Desktop/MOXA/Code/data/2023-11-09/UDP_Bandlock_9S_Phone_Brown/sm04/#01/data/udp_dnlk_loss_latency.csv',\n",
      "  '/Users/jackbedford/Desktop/MOXA/Code/data/2023-11-09/UDP_Bandlock_9S_Phone_Brown/sm04/#01/data/udp_uplk_loss_latency.csv',\n",
      "  '/Users/jackbedford/Desktop/MOXA/Code/data/2023-11-09/UDP_Bandlock_9S_Phone_Brown/sm04/#01/data/diag_log_sm04_2023-11-09_12-20-44_rrc.csv',\n",
      "  '/Users/jackbedford/Desktop/MOXA/Code/data/2023-11-09/UDP_Bandlock_9S_Phone_Brown/sm04/#01/data/diag_log_sm04_2023-11-09_12-20-44_ml1.csv',\n",
      "  '/Users/jackbedford/Desktop/MOXA/Code/data/2023-11-09/UDP_Bandlock_9S_Phone_Brown/sm04/#01/data/diag_log_sm04_2023-11-09_12-20-44_nr_ml1.csv'],\n",
      " ['/Users/jackbedford/Desktop/MOXA/Code/data/2023-11-09/UDP_Bandlock_9S_Phone_Brown/sm05/#01/data/handover_info_log.csv',\n",
      "  '/Users/jackbedford/Desktop/MOXA/Code/data/2023-11-09/UDP_Bandlock_9S_Phone_Brown/sm05/#01/data/udp_dnlk_loss_latency.csv',\n",
      "  '/Users/jackbedford/Desktop/MOXA/Code/data/2023-11-09/UDP_Bandlock_9S_Phone_Brown/sm05/#01/data/udp_uplk_loss_latency.csv',\n",
      "  '/Users/jackbedford/Desktop/MOXA/Code/data/2023-11-09/UDP_Bandlock_9S_Phone_Brown/sm05/#01/data/diag_log_sm05_2023-11-09_12-20-44_rrc.csv',\n",
      "  '/Users/jackbedford/Desktop/MOXA/Code/data/2023-11-09/UDP_Bandlock_9S_Phone_Brown/sm05/#01/data/diag_log_sm05_2023-11-09_12-20-44_ml1.csv',\n",
      "  '/Users/jackbedford/Desktop/MOXA/Code/data/2023-11-09/UDP_Bandlock_9S_Phone_Brown/sm05/#01/data/diag_log_sm05_2023-11-09_12-20-44_nr_ml1.csv'],\n",
      " ['/Users/jackbedford/Desktop/MOXA/Code/data/2023-11-09/UDP_Bandlock_9S_Phone_Brown/sm06/#01/data/handover_info_log.csv',\n",
      "  '/Users/jackbedford/Desktop/MOXA/Code/data/2023-11-09/UDP_Bandlock_9S_Phone_Brown/sm06/#01/data/udp_dnlk_loss_latency.csv',\n",
      "  '/Users/jackbedford/Desktop/MOXA/Code/data/2023-11-09/UDP_Bandlock_9S_Phone_Brown/sm06/#01/data/udp_uplk_loss_latency.csv',\n",
      "  '/Users/jackbedford/Desktop/MOXA/Code/data/2023-11-09/UDP_Bandlock_9S_Phone_Brown/sm06/#01/data/diag_log_sm06_2023-11-09_12-20-44_rrc.csv',\n",
      "  '/Users/jackbedford/Desktop/MOXA/Code/data/2023-11-09/UDP_Bandlock_9S_Phone_Brown/sm06/#01/data/diag_log_sm06_2023-11-09_12-20-44_ml1.csv',\n",
      "  '/Users/jackbedford/Desktop/MOXA/Code/data/2023-11-09/UDP_Bandlock_9S_Phone_Brown/sm06/#01/data/diag_log_sm06_2023-11-09_12-20-44_nr_ml1.csv'],\n",
      " ['/Users/jackbedford/Desktop/MOXA/Code/data/2023-11-09/UDP_Bandlock_9S_Phone_Brown/sm07/#01/data/handover_info_log.csv',\n",
      "  '/Users/jackbedford/Desktop/MOXA/Code/data/2023-11-09/UDP_Bandlock_9S_Phone_Brown/sm07/#01/data/udp_dnlk_loss_latency.csv',\n",
      "  '/Users/jackbedford/Desktop/MOXA/Code/data/2023-11-09/UDP_Bandlock_9S_Phone_Brown/sm07/#01/data/udp_uplk_loss_latency.csv',\n",
      "  '/Users/jackbedford/Desktop/MOXA/Code/data/2023-11-09/UDP_Bandlock_9S_Phone_Brown/sm07/#01/data/diag_log_sm07_2023-11-09_12-20-44_rrc.csv',\n",
      "  '/Users/jackbedford/Desktop/MOXA/Code/data/2023-11-09/UDP_Bandlock_9S_Phone_Brown/sm07/#01/data/diag_log_sm07_2023-11-09_12-20-44_ml1.csv',\n",
      "  '/Users/jackbedford/Desktop/MOXA/Code/data/2023-11-09/UDP_Bandlock_9S_Phone_Brown/sm07/#01/data/diag_log_sm07_2023-11-09_12-20-44_nr_ml1.csv'],\n",
      " ['/Users/jackbedford/Desktop/MOXA/Code/data/2023-11-09/UDP_Bandlock_9S_Phone_Brown/sm08/#01/data/handover_info_log.csv',\n",
      "  '/Users/jackbedford/Desktop/MOXA/Code/data/2023-11-09/UDP_Bandlock_9S_Phone_Brown/sm08/#01/data/udp_dnlk_loss_latency.csv',\n",
      "  '/Users/jackbedford/Desktop/MOXA/Code/data/2023-11-09/UDP_Bandlock_9S_Phone_Brown/sm08/#01/data/udp_uplk_loss_latency.csv',\n",
      "  '/Users/jackbedford/Desktop/MOXA/Code/data/2023-11-09/UDP_Bandlock_9S_Phone_Brown/sm08/#01/data/diag_log_sm08_2023-11-09_12-20-44_rrc.csv',\n",
      "  '/Users/jackbedford/Desktop/MOXA/Code/data/2023-11-09/UDP_Bandlock_9S_Phone_Brown/sm08/#01/data/diag_log_sm08_2023-11-09_12-20-44_ml1.csv',\n",
      "  '/Users/jackbedford/Desktop/MOXA/Code/data/2023-11-09/UDP_Bandlock_9S_Phone_Brown/sm08/#01/data/diag_log_sm08_2023-11-09_12-20-44_nr_ml1.csv'],\n",
      " ['/Users/jackbedford/Desktop/MOXA/Code/data/2023-11-09/UDP_Bandlock_9S_Phone_Brown/sm00/#02/data/handover_info_log.csv',\n",
      "  '/Users/jackbedford/Desktop/MOXA/Code/data/2023-11-09/UDP_Bandlock_9S_Phone_Brown/sm00/#02/data/udp_dnlk_loss_latency.csv',\n",
      "  '/Users/jackbedford/Desktop/MOXA/Code/data/2023-11-09/UDP_Bandlock_9S_Phone_Brown/sm00/#02/data/udp_uplk_loss_latency.csv',\n",
      "  '/Users/jackbedford/Desktop/MOXA/Code/data/2023-11-09/UDP_Bandlock_9S_Phone_Brown/sm00/#02/data/diag_log_sm00_2023-11-09_13-40-46_rrc.csv',\n",
      "  '/Users/jackbedford/Desktop/MOXA/Code/data/2023-11-09/UDP_Bandlock_9S_Phone_Brown/sm00/#02/data/diag_log_sm00_2023-11-09_13-40-46_ml1.csv',\n",
      "  '/Users/jackbedford/Desktop/MOXA/Code/data/2023-11-09/UDP_Bandlock_9S_Phone_Brown/sm00/#02/data/diag_log_sm00_2023-11-09_13-40-46_nr_ml1.csv'],\n",
      " ['/Users/jackbedford/Desktop/MOXA/Code/data/2023-11-09/UDP_Bandlock_9S_Phone_Brown/sm01/#02/data/handover_info_log.csv',\n",
      "  '/Users/jackbedford/Desktop/MOXA/Code/data/2023-11-09/UDP_Bandlock_9S_Phone_Brown/sm01/#02/data/udp_dnlk_loss_latency.csv',\n",
      "  '/Users/jackbedford/Desktop/MOXA/Code/data/2023-11-09/UDP_Bandlock_9S_Phone_Brown/sm01/#02/data/udp_uplk_loss_latency.csv',\n",
      "  '/Users/jackbedford/Desktop/MOXA/Code/data/2023-11-09/UDP_Bandlock_9S_Phone_Brown/sm01/#02/data/diag_log_sm01_2023-11-09_13-40-46_rrc.csv',\n",
      "  '/Users/jackbedford/Desktop/MOXA/Code/data/2023-11-09/UDP_Bandlock_9S_Phone_Brown/sm01/#02/data/diag_log_sm01_2023-11-09_13-40-46_ml1.csv',\n",
      "  '/Users/jackbedford/Desktop/MOXA/Code/data/2023-11-09/UDP_Bandlock_9S_Phone_Brown/sm01/#02/data/diag_log_sm01_2023-11-09_13-40-46_nr_ml1.csv'],\n",
      " ['/Users/jackbedford/Desktop/MOXA/Code/data/2023-11-09/UDP_Bandlock_9S_Phone_Brown/sm02/#02/data/handover_info_log.csv',\n",
      "  '/Users/jackbedford/Desktop/MOXA/Code/data/2023-11-09/UDP_Bandlock_9S_Phone_Brown/sm02/#02/data/udp_dnlk_loss_latency.csv',\n",
      "  '/Users/jackbedford/Desktop/MOXA/Code/data/2023-11-09/UDP_Bandlock_9S_Phone_Brown/sm02/#02/data/udp_uplk_loss_latency.csv',\n",
      "  '/Users/jackbedford/Desktop/MOXA/Code/data/2023-11-09/UDP_Bandlock_9S_Phone_Brown/sm02/#02/data/diag_log_sm02_2023-11-09_13-40-46_rrc.csv',\n",
      "  '/Users/jackbedford/Desktop/MOXA/Code/data/2023-11-09/UDP_Bandlock_9S_Phone_Brown/sm02/#02/data/diag_log_sm02_2023-11-09_13-40-46_ml1.csv',\n",
      "  '/Users/jackbedford/Desktop/MOXA/Code/data/2023-11-09/UDP_Bandlock_9S_Phone_Brown/sm02/#02/data/diag_log_sm02_2023-11-09_13-40-46_nr_ml1.csv'],\n",
      " ['/Users/jackbedford/Desktop/MOXA/Code/data/2023-11-09/UDP_Bandlock_9S_Phone_Brown/sm03/#02/data/handover_info_log.csv',\n",
      "  '/Users/jackbedford/Desktop/MOXA/Code/data/2023-11-09/UDP_Bandlock_9S_Phone_Brown/sm03/#02/data/udp_dnlk_loss_latency.csv',\n",
      "  '/Users/jackbedford/Desktop/MOXA/Code/data/2023-11-09/UDP_Bandlock_9S_Phone_Brown/sm03/#02/data/udp_uplk_loss_latency.csv',\n",
      "  '/Users/jackbedford/Desktop/MOXA/Code/data/2023-11-09/UDP_Bandlock_9S_Phone_Brown/sm03/#02/data/diag_log_sm03_2023-11-09_13-40-46_rrc.csv',\n",
      "  '/Users/jackbedford/Desktop/MOXA/Code/data/2023-11-09/UDP_Bandlock_9S_Phone_Brown/sm03/#02/data/diag_log_sm03_2023-11-09_13-40-46_ml1.csv',\n",
      "  '/Users/jackbedford/Desktop/MOXA/Code/data/2023-11-09/UDP_Bandlock_9S_Phone_Brown/sm03/#02/data/diag_log_sm03_2023-11-09_13-40-46_nr_ml1.csv'],\n",
      " ['/Users/jackbedford/Desktop/MOXA/Code/data/2023-11-09/UDP_Bandlock_9S_Phone_Brown/sm04/#02/data/handover_info_log.csv',\n",
      "  '/Users/jackbedford/Desktop/MOXA/Code/data/2023-11-09/UDP_Bandlock_9S_Phone_Brown/sm04/#02/data/udp_dnlk_loss_latency.csv',\n",
      "  '/Users/jackbedford/Desktop/MOXA/Code/data/2023-11-09/UDP_Bandlock_9S_Phone_Brown/sm04/#02/data/udp_uplk_loss_latency.csv',\n",
      "  '/Users/jackbedford/Desktop/MOXA/Code/data/2023-11-09/UDP_Bandlock_9S_Phone_Brown/sm04/#02/data/diag_log_sm04_2023-11-09_13-40-46_rrc.csv',\n",
      "  '/Users/jackbedford/Desktop/MOXA/Code/data/2023-11-09/UDP_Bandlock_9S_Phone_Brown/sm04/#02/data/diag_log_sm04_2023-11-09_13-40-46_ml1.csv',\n",
      "  '/Users/jackbedford/Desktop/MOXA/Code/data/2023-11-09/UDP_Bandlock_9S_Phone_Brown/sm04/#02/data/diag_log_sm04_2023-11-09_13-40-46_nr_ml1.csv'],\n",
      " ['/Users/jackbedford/Desktop/MOXA/Code/data/2023-11-09/UDP_Bandlock_9S_Phone_Brown/sm05/#02/data/handover_info_log.csv',\n",
      "  '/Users/jackbedford/Desktop/MOXA/Code/data/2023-11-09/UDP_Bandlock_9S_Phone_Brown/sm05/#02/data/udp_dnlk_loss_latency.csv',\n",
      "  '/Users/jackbedford/Desktop/MOXA/Code/data/2023-11-09/UDP_Bandlock_9S_Phone_Brown/sm05/#02/data/udp_uplk_loss_latency.csv',\n",
      "  '/Users/jackbedford/Desktop/MOXA/Code/data/2023-11-09/UDP_Bandlock_9S_Phone_Brown/sm05/#02/data/diag_log_sm05_2023-11-09_13-40-46_rrc.csv',\n",
      "  '/Users/jackbedford/Desktop/MOXA/Code/data/2023-11-09/UDP_Bandlock_9S_Phone_Brown/sm05/#02/data/diag_log_sm05_2023-11-09_13-40-46_ml1.csv',\n",
      "  '/Users/jackbedford/Desktop/MOXA/Code/data/2023-11-09/UDP_Bandlock_9S_Phone_Brown/sm05/#02/data/diag_log_sm05_2023-11-09_13-40-46_nr_ml1.csv'],\n",
      " ['/Users/jackbedford/Desktop/MOXA/Code/data/2023-11-09/UDP_Bandlock_9S_Phone_Brown/sm06/#02/data/handover_info_log.csv',\n",
      "  '/Users/jackbedford/Desktop/MOXA/Code/data/2023-11-09/UDP_Bandlock_9S_Phone_Brown/sm06/#02/data/udp_dnlk_loss_latency.csv',\n",
      "  '/Users/jackbedford/Desktop/MOXA/Code/data/2023-11-09/UDP_Bandlock_9S_Phone_Brown/sm06/#02/data/udp_uplk_loss_latency.csv',\n",
      "  '/Users/jackbedford/Desktop/MOXA/Code/data/2023-11-09/UDP_Bandlock_9S_Phone_Brown/sm06/#02/data/diag_log_sm06_2023-11-09_13-40-46_rrc.csv',\n",
      "  '/Users/jackbedford/Desktop/MOXA/Code/data/2023-11-09/UDP_Bandlock_9S_Phone_Brown/sm06/#02/data/diag_log_sm06_2023-11-09_13-40-46_ml1.csv',\n",
      "  '/Users/jackbedford/Desktop/MOXA/Code/data/2023-11-09/UDP_Bandlock_9S_Phone_Brown/sm06/#02/data/diag_log_sm06_2023-11-09_13-40-46_nr_ml1.csv'],\n",
      " ['/Users/jackbedford/Desktop/MOXA/Code/data/2023-11-09/UDP_Bandlock_9S_Phone_Brown/sm07/#02/data/handover_info_log.csv',\n",
      "  '/Users/jackbedford/Desktop/MOXA/Code/data/2023-11-09/UDP_Bandlock_9S_Phone_Brown/sm07/#02/data/udp_dnlk_loss_latency.csv',\n",
      "  '/Users/jackbedford/Desktop/MOXA/Code/data/2023-11-09/UDP_Bandlock_9S_Phone_Brown/sm07/#02/data/udp_uplk_loss_latency.csv',\n",
      "  '/Users/jackbedford/Desktop/MOXA/Code/data/2023-11-09/UDP_Bandlock_9S_Phone_Brown/sm07/#02/data/diag_log_sm07_2023-11-09_13-40-46_rrc.csv',\n",
      "  '/Users/jackbedford/Desktop/MOXA/Code/data/2023-11-09/UDP_Bandlock_9S_Phone_Brown/sm07/#02/data/diag_log_sm07_2023-11-09_13-40-46_ml1.csv',\n",
      "  '/Users/jackbedford/Desktop/MOXA/Code/data/2023-11-09/UDP_Bandlock_9S_Phone_Brown/sm07/#02/data/diag_log_sm07_2023-11-09_13-40-46_nr_ml1.csv'],\n",
      " ['/Users/jackbedford/Desktop/MOXA/Code/data/2023-11-09/UDP_Bandlock_9S_Phone_Brown/sm08/#02/data/handover_info_log.csv',\n",
      "  '/Users/jackbedford/Desktop/MOXA/Code/data/2023-11-09/UDP_Bandlock_9S_Phone_Brown/sm08/#02/data/udp_dnlk_loss_latency.csv',\n",
      "  '/Users/jackbedford/Desktop/MOXA/Code/data/2023-11-09/UDP_Bandlock_9S_Phone_Brown/sm08/#02/data/udp_uplk_loss_latency.csv',\n",
      "  '/Users/jackbedford/Desktop/MOXA/Code/data/2023-11-09/UDP_Bandlock_9S_Phone_Brown/sm08/#02/data/diag_log_sm08_2023-11-09_13-40-46_rrc.csv',\n",
      "  '/Users/jackbedford/Desktop/MOXA/Code/data/2023-11-09/UDP_Bandlock_9S_Phone_Brown/sm08/#02/data/diag_log_sm08_2023-11-09_13-40-46_ml1.csv',\n",
      "  '/Users/jackbedford/Desktop/MOXA/Code/data/2023-11-09/UDP_Bandlock_9S_Phone_Brown/sm08/#02/data/diag_log_sm08_2023-11-09_13-40-46_nr_ml1.csv']]\n"
     ]
    }
   ],
   "source": [
    "# Single Radio Example\n",
    "dates = data_loader(query_dates=True)\n",
    "\n",
    "selected_dates = [s for s in dates if s >= '2023-09-12']\n",
    "# excluded_dates = []\n",
    "# selected_exps = []\n",
    "# excluded_exps = ['Modem_Action_Test', 'Control_Group', 'Control_Group2', 'Control_Group3']\n",
    "selected_routes = ['BR']\n",
    "# excluded_routes = []\n",
    "filepaths = data_loader(mode='sr', selected_dates=selected_dates, selected_routes=selected_routes)\n",
    "\n",
    "print(len(filepaths))\n",
    "pprint(filepaths)"
   ]
  },
  {
   "cell_type": "code",
   "execution_count": 34,
   "metadata": {},
   "outputs": [
    {
     "name": "stdout",
     "output_type": "stream",
     "text": [
      "0/54 /Users/jackbedford/Desktop/MOXA/Code/data/2023-09-12-2/UDP_Bandlock_9S_Phone_Brown/sm00/#01/data/handover_info_log.csv\n",
      "0/54 /Users/jackbedford/Desktop/MOXA/Code/data/2023-09-12-2/UDP_Bandlock_9S_Phone_Brown/sm00/#01/data/udp_dnlk_loss_latency.csv\n"
     ]
    },
    {
     "data": {
      "application/vnd.jupyter.widget-view+json": {
       "model_id": "13244400a5bf4949a217b5bbcbb33dee",
       "version_major": 2,
       "version_minor": 0
      },
      "text/plain": [
       "  0%|                                                                                                         …"
      ]
     },
     "metadata": {},
     "output_type": "display_data"
    },
    {
     "name": "stdout",
     "output_type": "stream",
     "text": [
      "\n",
      "Mean: 0.472901297668439\n",
      "Standard Deviation: 0.02061027156143223\n",
      "Ground Truth: 0.47852155675062485\n"
     ]
    },
    {
     "name": "stderr",
     "output_type": "stream",
     "text": [
      "/var/folders/vy/w6g3hxgj76s0gzty27t2d6gm0000gn/T/ipykernel_97035/1214052124.py:3: RankWarning: Polyfit may be poorly conditioned\n",
      "  eval.plot('./figures/BR.png')\n"
     ]
    },
    {
     "data": {
      "image/png": "[encoded data removed]",
      "text/plain": [
       "<Figure size 600x400 with 1 Axes>"
      ]
     },
     "metadata": {
      "image/png": {
       "height": 371,
       "width": 545
      }
     },
     "output_type": "display_data"
    }
   ],
   "source": [
    "eval = Eval(filepaths, model_name='BR')\n",
    "eval.hist_method_all()\n",
    "eval.plot('./figures/BR.png')"
   ]
  },
  {
   "cell_type": "markdown",
   "metadata": {},
   "source": [
    "# A Eval"
   ]
  },
  {
   "cell_type": "code",
   "execution_count": 23,
   "metadata": {},
   "outputs": [],
   "source": [
    "# Single Radio Example\n",
    "dates = data_loader(query_dates=True)\n",
    "\n",
    "selected_dates = [s for s in dates if s >= '2023-09-12']\n",
    "# excluded_dates = []\n",
    "# selected_exps = []\n",
    "# excluded_exps = ['Modem_Action_Test', 'Control_Group', 'Control_Group2', 'Control_Group3']\n",
    "selected_routes = ['A']\n",
    "# excluded_routes = []\n",
    "filepaths = data_loader(mode='sr', selected_dates=selected_dates, selected_routes=selected_routes)\n",
    "\n",
    "# print(len(filepaths))\n",
    "# pprint(filepaths)"
   ]
  },
  {
   "cell_type": "code",
   "execution_count": 24,
   "metadata": {},
   "outputs": [
    {
     "data": {
      "application/vnd.jupyter.widget-view+json": {
       "model_id": "0282071723ea44408cfd161e6afefd61",
       "version_major": 2,
       "version_minor": 0
      },
      "text/plain": [
       "  0%|                                                                                                         …"
      ]
     },
     "metadata": {},
     "output_type": "display_data"
    },
    {
     "name": "stdout",
     "output_type": "stream",
     "text": [
      "Overlapping event occurs!!\n",
      "Overlapping event occurs!!\n",
      "Overlapping event occurs!!\n",
      "Overlapping event occurs!!\n",
      "Overlapping event occurs!!\n",
      "Overlapping event occurs!!\n",
      "Overlapping event occurs!!\n",
      "Overlapping event occurs!!\n",
      "Overlapping event occurs!!\n",
      "Overlapping event occurs!!\n",
      "Overlapping event occurs!!\n",
      "Overlapping event occurs!!\n",
      "\n",
      "Mean: 1.8882208139198076\n",
      "Standard Deviation: 0.05425633741245463\n",
      "Ground Truth: 1.6379561519907104\n"
     ]
    },
    {
     "data": {
      "application/vnd.jupyter.widget-view+json": {
       "model_id": "09c8318de45d46f893f85c0cd4333dba",
       "version_major": 2,
       "version_minor": 0
      },
      "text/plain": [
       "  0%|                                                                                                         …"
      ]
     },
     "metadata": {},
     "output_type": "display_data"
    },
    {
     "name": "stdout",
     "output_type": "stream",
     "text": [
      "Overlapping event occurs!!\n",
      "Overlapping event occurs!!\n",
      "Overlapping event occurs!!\n",
      "Overlapping event occurs!!\n",
      "Overlapping event occurs!!\n",
      "Overlapping event occurs!!\n",
      "Overlapping event occurs!!\n",
      "Overlapping event occurs!!\n",
      "Overlapping event occurs!!\n",
      "Overlapping event occurs!!\n",
      "Overlapping event occurs!!\n",
      "Overlapping event occurs!!\n",
      "\n",
      "Mean: 2.2424443925927258\n",
      "Standard Deviation: 0.07500925369618781\n",
      "Ground Truth: 2.3746092958736003\n"
     ]
    },
    {
     "data": {
      "application/vnd.jupyter.widget-view+json": {
       "model_id": "e4f3b92a9530451281e3f01b190a295f",
       "version_major": 2,
       "version_minor": 0
      },
      "text/plain": [
       "  0%|                                                                                                         …"
      ]
     },
     "metadata": {},
     "output_type": "display_data"
    },
    {
     "name": "stdout",
     "output_type": "stream",
     "text": [
      "Overlapping event occurs!!\n",
      "Overlapping event occurs!!\n",
      "Overlapping event occurs!!\n",
      "Overlapping event occurs!!\n",
      "Overlapping event occurs!!\n",
      "Overlapping event occurs!!\n",
      "Overlapping event occurs!!\n",
      "Overlapping event occurs!!\n",
      "Overlapping event occurs!!\n",
      "Overlapping event occurs!!\n",
      "Overlapping event occurs!!\n",
      "Overlapping event occurs!!\n",
      "\n",
      "Mean: 2.1797479460796043\n",
      "Standard Deviation: 0.04101682406798107\n",
      "Ground Truth: 2.217037568796363\n",
      "******** Empty RRC Data ********\n"
     ]
    },
    {
     "data": {
      "application/vnd.jupyter.widget-view+json": {
       "model_id": "e0232d5720064fc18628f1eb932b80ed",
       "version_major": 2,
       "version_minor": 0
      },
      "text/plain": [
       "  0%|                                                                                                         …"
      ]
     },
     "metadata": {},
     "output_type": "display_data"
    },
    {
     "name": "stdout",
     "output_type": "stream",
     "text": [
      "\n",
      "Mean: 1.2648037271394155\n",
      "Standard Deviation: 0.032933457242587526\n",
      "Ground Truth: 0.9734397834195736\n"
     ]
    },
    {
     "data": {
      "application/vnd.jupyter.widget-view+json": {
       "model_id": "65ce318850554651b08ad4b071d239ef",
       "version_major": 2,
       "version_minor": 0
      },
      "text/plain": [
       "  0%|                                                                                                         …"
      ]
     },
     "metadata": {},
     "output_type": "display_data"
    },
    {
     "name": "stdout",
     "output_type": "stream",
     "text": [
      "Overlapping event occurs!!\n",
      "Overlapping event occurs!!\n",
      "Overlapping event occurs!!\n",
      "Overlapping event occurs!!\n",
      "Overlapping event occurs!!\n",
      "Overlapping event occurs!!\n",
      "\n",
      "Mean: 2.337270742378743\n",
      "Standard Deviation: 0.11529370611528748\n",
      "Ground Truth: 2.744135292163575\n"
     ]
    },
    {
     "data": {
      "application/vnd.jupyter.widget-view+json": {
       "model_id": "ec64230b69304f868b1a529bb9426735",
       "version_major": 2,
       "version_minor": 0
      },
      "text/plain": [
       "  0%|                                                                                                         …"
      ]
     },
     "metadata": {},
     "output_type": "display_data"
    },
    {
     "name": "stdout",
     "output_type": "stream",
     "text": [
      "\n",
      "Mean: 2.4057269687164933\n",
      "Standard Deviation: 0.19723278800272656\n",
      "Ground Truth: 2.562141346596212\n"
     ]
    },
    {
     "data": {
      "application/vnd.jupyter.widget-view+json": {
       "model_id": "9daa6a9f685144c5beb2a0acc10eb8c3",
       "version_major": 2,
       "version_minor": 0
      },
      "text/plain": [
       "  0%|                                                                                                         …"
      ]
     },
     "metadata": {},
     "output_type": "display_data"
    },
    {
     "name": "stdout",
     "output_type": "stream",
     "text": [
      "Overlapping event occurs!!\n",
      "Overlapping event occurs!!\n",
      "Overlapping event occurs!!\n",
      "Overlapping event occurs!!\n",
      "Overlapping event occurs!!\n",
      "Overlapping event occurs!!\n",
      "\n",
      "Mean: 1.6322174289376121\n",
      "Standard Deviation: 0.10019764340902107\n",
      "Ground Truth: 1.3897898624867375\n"
     ]
    },
    {
     "data": {
      "application/vnd.jupyter.widget-view+json": {
       "model_id": "1f6a67cd29494684aa0f98555c6bf766",
       "version_major": 2,
       "version_minor": 0
      },
      "text/plain": [
       "  0%|                                                                                                         …"
      ]
     },
     "metadata": {},
     "output_type": "display_data"
    },
    {
     "name": "stdout",
     "output_type": "stream",
     "text": [
      "\n",
      "Mean: 1.6244278949668434\n",
      "Standard Deviation: 0.11555597154145682\n",
      "Ground Truth: 0.44073382138529044\n"
     ]
    },
    {
     "data": {
      "application/vnd.jupyter.widget-view+json": {
       "model_id": "269d7d1318134877819ef6bc7bf1bd4f",
       "version_major": 2,
       "version_minor": 0
      },
      "text/plain": [
       "  0%|                                                                                                         …"
      ]
     },
     "metadata": {},
     "output_type": "display_data"
    },
    {
     "name": "stdout",
     "output_type": "stream",
     "text": [
      "Overlapping event occurs!!\n",
      "Overlapping event occurs!!\n",
      "Overlapping event occurs!!\n",
      "\n",
      "Mean: 2.040284941024604\n",
      "Standard Deviation: 0.14136397247278681\n",
      "Ground Truth: 1.5684648077140004\n"
     ]
    },
    {
     "data": {
      "application/vnd.jupyter.widget-view+json": {
       "model_id": "d626a42d0bc54b8598b8e68933972ef8",
       "version_major": 2,
       "version_minor": 0
      },
      "text/plain": [
       "  0%|                                                                                                         …"
      ]
     },
     "metadata": {},
     "output_type": "display_data"
    },
    {
     "name": "stdout",
     "output_type": "stream",
     "text": [
      "\n",
      "Mean: 2.0958196243491316\n",
      "Standard Deviation: 0.10250002771757755\n",
      "Ground Truth: 1.8816136585944214\n"
     ]
    },
    {
     "data": {
      "application/vnd.jupyter.widget-view+json": {
       "model_id": "e8d2e2bbaf8c4ec1a73a649d0d1f35c6",
       "version_major": 2,
       "version_minor": 0
      },
      "text/plain": [
       "  0%|                                                                                                         …"
      ]
     },
     "metadata": {},
     "output_type": "display_data"
    },
    {
     "name": "stdout",
     "output_type": "stream",
     "text": [
      "\n",
      "Mean: 1.7337401539396307\n",
      "Standard Deviation: 0.3634222120444903\n",
      "Ground Truth: 2.0673710717207765\n"
     ]
    },
    {
     "data": {
      "application/vnd.jupyter.widget-view+json": {
       "model_id": "45d3a23cec6f4c21aa1a1c088ea07331",
       "version_major": 2,
       "version_minor": 0
      },
      "text/plain": [
       "  0%|                                                                                                         …"
      ]
     },
     "metadata": {},
     "output_type": "display_data"
    },
    {
     "name": "stdout",
     "output_type": "stream",
     "text": [
      "\n",
      "Mean: 1.7908883711271966\n",
      "Standard Deviation: 0.02134858041645214\n",
      "Ground Truth: 6.382264672485946\n"
     ]
    },
    {
     "data": {
      "application/vnd.jupyter.widget-view+json": {
       "model_id": "be834f42dff14c7599d4d33e00268be3",
       "version_major": 2,
       "version_minor": 0
      },
      "text/plain": [
       "  0%|                                                                                                         …"
      ]
     },
     "metadata": {},
     "output_type": "display_data"
    },
    {
     "name": "stdout",
     "output_type": "stream",
     "text": [
      "\n",
      "Mean: 1.4299171843648246\n",
      "Standard Deviation: 0.11711834272839798\n",
      "Ground Truth: 1.0299646232896194\n"
     ]
    },
    {
     "data": {
      "application/vnd.jupyter.widget-view+json": {
       "model_id": "3ea5a8feb78047b4b9f67610d58ea700",
       "version_major": 2,
       "version_minor": 0
      },
      "text/plain": [
       "  0%|                                                                                                         …"
      ]
     },
     "metadata": {},
     "output_type": "display_data"
    },
    {
     "name": "stdout",
     "output_type": "stream",
     "text": [
      "\n",
      "Mean: 2.3303880027566617\n",
      "Standard Deviation: 0.01596140621992792\n",
      "Ground Truth: 2.299205232416455\n"
     ]
    },
    {
     "data": {
      "application/vnd.jupyter.widget-view+json": {
       "model_id": "41a3f9e5d2484952a11acfb9ae502ac1",
       "version_major": 2,
       "version_minor": 0
      },
      "text/plain": [
       "  0%|                                                                                                         …"
      ]
     },
     "metadata": {},
     "output_type": "display_data"
    },
    {
     "name": "stdout",
     "output_type": "stream",
     "text": [
      "Overlapping event occurs!!\n",
      "Overlapping event occurs!!\n",
      "Overlapping event occurs!!\n",
      "\n",
      "Mean: 1.8819621327349474\n",
      "Standard Deviation: 0.05207061797280019\n",
      "Ground Truth: 1.8903402284197095\n"
     ]
    },
    {
     "data": {
      "application/vnd.jupyter.widget-view+json": {
       "model_id": "b8dc965649ab4ee1843ad24f3f68c8fc",
       "version_major": 2,
       "version_minor": 0
      },
      "text/plain": [
       "  0%|                                                                                                         …"
      ]
     },
     "metadata": {},
     "output_type": "display_data"
    },
    {
     "name": "stdout",
     "output_type": "stream",
     "text": [
      "\n",
      "Mean: 1.6193552804151272\n",
      "Standard Deviation: 0.05934446232399365\n",
      "Ground Truth: 1.738552651131886\n"
     ]
    },
    {
     "data": {
      "application/vnd.jupyter.widget-view+json": {
       "model_id": "55ba1a57cf1a486290cbc86ab89a9ab4",
       "version_major": 2,
       "version_minor": 0
      },
      "text/plain": [
       "  0%|                                                                                                         …"
      ]
     },
     "metadata": {},
     "output_type": "display_data"
    },
    {
     "name": "stdout",
     "output_type": "stream",
     "text": [
      "\n",
      "Mean: 1.7244625716220652\n",
      "Standard Deviation: 0.14645431351255964\n",
      "Ground Truth: 0.44681836697880156\n"
     ]
    },
    {
     "data": {
      "application/vnd.jupyter.widget-view+json": {
       "model_id": "b8696d55b2b9438089001930abc198e9",
       "version_major": 2,
       "version_minor": 0
      },
      "text/plain": [
       "  0%|                                                                                                         …"
      ]
     },
     "metadata": {},
     "output_type": "display_data"
    },
    {
     "name": "stdout",
     "output_type": "stream",
     "text": [
      "Overlapping event occurs!!\n",
      "Overlapping event occurs!!\n",
      "Overlapping event occurs!!\n",
      "\n",
      "Mean: 2.316708880975806\n",
      "Standard Deviation: 0.05530304063494105\n",
      "Ground Truth: 2.74148794391893\n"
     ]
    },
    {
     "data": {
      "application/vnd.jupyter.widget-view+json": {
       "model_id": "b5db6326655f4ed9b77d8f303691cf48",
       "version_major": 2,
       "version_minor": 0
      },
      "text/plain": [
       "  0%|                                                                                                         …"
      ]
     },
     "metadata": {},
     "output_type": "display_data"
    },
    {
     "name": "stdout",
     "output_type": "stream",
     "text": [
      "Overlapping event occurs!!\n",
      "Overlapping event occurs!!\n",
      "Overlapping event occurs!!\n",
      "Overlapping event occurs!!\n",
      "Overlapping event occurs!!\n",
      "Overlapping event occurs!!\n",
      "\n",
      "Mean: 2.542443906172073\n",
      "Standard Deviation: 0.09419720455959492\n",
      "Ground Truth: 2.2319373821002606\n"
     ]
    },
    {
     "data": {
      "application/vnd.jupyter.widget-view+json": {
       "model_id": "aa7bfda6aeb841358e4a96bc3d54b6d1",
       "version_major": 2,
       "version_minor": 0
      },
      "text/plain": [
       "  0%|                                                                                                         …"
      ]
     },
     "metadata": {},
     "output_type": "display_data"
    },
    {
     "name": "stdout",
     "output_type": "stream",
     "text": [
      "Overlapping event occurs!!\n",
      "Overlapping event occurs!!\n",
      "Overlapping event occurs!!\n",
      "\n",
      "Mean: 1.7933864333984708\n",
      "Standard Deviation: 0.08905548093126185\n",
      "Ground Truth: 1.3810003620166706\n"
     ]
    },
    {
     "data": {
      "application/vnd.jupyter.widget-view+json": {
       "model_id": "421b99929e2040dc945fc71aa3d19abe",
       "version_major": 2,
       "version_minor": 0
      },
      "text/plain": [
       "  0%|                                                                                                         …"
      ]
     },
     "metadata": {},
     "output_type": "display_data"
    },
    {
     "name": "stdout",
     "output_type": "stream",
     "text": [
      "Overlapping event occurs!!\n",
      "Overlapping event occurs!!\n",
      "Overlapping event occurs!!\n",
      "Overlapping event occurs!!\n",
      "Overlapping event occurs!!\n",
      "Overlapping event occurs!!\n",
      "\n",
      "Mean: 1.5162472340396382\n",
      "Standard Deviation: 0.08291128297217526\n",
      "Ground Truth: 3.6874833014776907\n"
     ]
    },
    {
     "data": {
      "application/vnd.jupyter.widget-view+json": {
       "model_id": "ad265ee87af64b96bc0a2ccf50267faf",
       "version_major": 2,
       "version_minor": 0
      },
      "text/plain": [
       "  0%|                                                                                                         …"
      ]
     },
     "metadata": {},
     "output_type": "display_data"
    },
    {
     "name": "stdout",
     "output_type": "stream",
     "text": [
      "Overlapping event occurs!!\n",
      "Overlapping event occurs!!\n",
      "Overlapping event occurs!!\n",
      "Overlapping event occurs!!\n",
      "Overlapping event occurs!!\n",
      "Overlapping event occurs!!\n",
      "Overlapping event occurs!!\n",
      "Overlapping event occurs!!\n",
      "Overlapping event occurs!!\n",
      "Overlapping event occurs!!\n",
      "Overlapping event occurs!!\n",
      "Overlapping event occurs!!\n",
      "Overlapping event occurs!!\n",
      "Overlapping event occurs!!\n",
      "Overlapping event occurs!!\n",
      "Overlapping event occurs!!\n",
      "Overlapping event occurs!!\n",
      "Overlapping event occurs!!\n",
      "\n",
      "Mean: 1.2901753243263439\n",
      "Standard Deviation: 0.06595577047010436\n",
      "Ground Truth: 0.603484989314558\n"
     ]
    },
    {
     "data": {
      "application/vnd.jupyter.widget-view+json": {
       "model_id": "14f5c5e0407a4345bcdec49c53de0a12",
       "version_major": 2,
       "version_minor": 0
      },
      "text/plain": [
       "  0%|                                                                                                         …"
      ]
     },
     "metadata": {},
     "output_type": "display_data"
    },
    {
     "name": "stdout",
     "output_type": "stream",
     "text": [
      "Overlapping event occurs!!\n",
      "Overlapping event occurs!!\n",
      "Overlapping event occurs!!\n",
      "Overlapping event occurs!!\n",
      "Overlapping event occurs!!\n",
      "Overlapping event occurs!!\n",
      "Overlapping event occurs!!\n",
      "Overlapping event occurs!!\n",
      "Overlapping event occurs!!\n",
      "\n",
      "Mean: 1.6740099423242432\n",
      "Standard Deviation: 0.036499909069313496\n",
      "Ground Truth: 0.9581369060617348\n"
     ]
    },
    {
     "data": {
      "application/vnd.jupyter.widget-view+json": {
       "model_id": "045bf66aa6b54b6d8cf327f3485d3346",
       "version_major": 2,
       "version_minor": 0
      },
      "text/plain": [
       "  0%|                                                                                                         …"
      ]
     },
     "metadata": {},
     "output_type": "display_data"
    },
    {
     "name": "stdout",
     "output_type": "stream",
     "text": [
      "Overlapping event occurs!!\n",
      "Overlapping event occurs!!\n",
      "Overlapping event occurs!!\n",
      "Overlapping event occurs!!\n",
      "Overlapping event occurs!!\n",
      "Overlapping event occurs!!\n",
      "Overlapping event occurs!!\n",
      "Overlapping event occurs!!\n",
      "Overlapping event occurs!!\n",
      "\n",
      "Mean: 1.8764130164322115\n",
      "Standard Deviation: 0.0761916113585895\n",
      "Ground Truth: 1.578252898196007\n"
     ]
    },
    {
     "data": {
      "application/vnd.jupyter.widget-view+json": {
       "model_id": "bf713ff640f74271be35a320b0a4e848",
       "version_major": 2,
       "version_minor": 0
      },
      "text/plain": [
       "  0%|                                                                                                         …"
      ]
     },
     "metadata": {},
     "output_type": "display_data"
    },
    {
     "name": "stdout",
     "output_type": "stream",
     "text": [
      "Overlapping event occurs!!\n",
      "Overlapping event occurs!!\n",
      "Overlapping event occurs!!\n",
      "\n",
      "Mean: 1.5682374737577829\n",
      "Standard Deviation: 0.011225361003593153\n",
      "Ground Truth: 0.9718292849011854\n"
     ]
    },
    {
     "data": {
      "application/vnd.jupyter.widget-view+json": {
       "model_id": "afe03ba61cde4b838f1fe07be1c0ea5e",
       "version_major": 2,
       "version_minor": 0
      },
      "text/plain": [
       "  0%|                                                                                                         …"
      ]
     },
     "metadata": {},
     "output_type": "display_data"
    },
    {
     "name": "stdout",
     "output_type": "stream",
     "text": [
      "\n",
      "Mean: 1.3669740190363633\n",
      "Standard Deviation: 0.03501144296119629\n",
      "Ground Truth: 0.5094277208071452\n"
     ]
    },
    {
     "data": {
      "application/vnd.jupyter.widget-view+json": {
       "model_id": "9235141c59954632a316eed5c52ee776",
       "version_major": 2,
       "version_minor": 0
      },
      "text/plain": [
       "  0%|                                                                                                         …"
      ]
     },
     "metadata": {},
     "output_type": "display_data"
    },
    {
     "name": "stdout",
     "output_type": "stream",
     "text": [
      "\n",
      "Mean: 1.7266577413118502\n",
      "Standard Deviation: 0.008451239446426326\n",
      "Ground Truth: 1.4311977197974024\n"
     ]
    },
    {
     "data": {
      "application/vnd.jupyter.widget-view+json": {
       "model_id": "2a999169efa7495ca098184694caca6e",
       "version_major": 2,
       "version_minor": 0
      },
      "text/plain": [
       "  0%|                                                                                                         …"
      ]
     },
     "metadata": {},
     "output_type": "display_data"
    },
    {
     "name": "stdout",
     "output_type": "stream",
     "text": [
      "Overlapping event occurs!!\n",
      "Overlapping event occurs!!\n",
      "Overlapping event occurs!!\n",
      "\n",
      "Mean: 1.7026895178921013\n",
      "Standard Deviation: 0.051503953943344324\n",
      "Ground Truth: 1.236207614067443\n"
     ]
    },
    {
     "data": {
      "application/vnd.jupyter.widget-view+json": {
       "model_id": "f1475b4de0f049aebdbe594bed92a374",
       "version_major": 2,
       "version_minor": 0
      },
      "text/plain": [
       "  0%|                                                                                                         …"
      ]
     },
     "metadata": {},
     "output_type": "display_data"
    },
    {
     "name": "stdout",
     "output_type": "stream",
     "text": [
      "\n",
      "Mean: 1.6464970462299167\n",
      "Standard Deviation: 0.06769347856844635\n",
      "Ground Truth: 1.1670469550787477\n"
     ]
    },
    {
     "data": {
      "application/vnd.jupyter.widget-view+json": {
       "model_id": "855c2c7c83b7448b88357a67342858bd",
       "version_major": 2,
       "version_minor": 0
      },
      "text/plain": [
       "  0%|                                                                                                         …"
      ]
     },
     "metadata": {},
     "output_type": "display_data"
    },
    {
     "name": "stdout",
     "output_type": "stream",
     "text": [
      "Overlapping event occurs!!\n",
      "Overlapping event occurs!!\n",
      "Overlapping event occurs!!\n",
      "Overlapping event occurs!!\n",
      "Overlapping event occurs!!\n",
      "Overlapping event occurs!!\n",
      "\n",
      "Mean: 1.4178516181986123\n",
      "Standard Deviation: 0.05747581285837866\n",
      "Ground Truth: 3.495177440707094\n"
     ]
    },
    {
     "data": {
      "application/vnd.jupyter.widget-view+json": {
       "model_id": "d27845e6f37d4d61b4493724eb929060",
       "version_major": 2,
       "version_minor": 0
      },
      "text/plain": [
       "  0%|                                                                                                         …"
      ]
     },
     "metadata": {},
     "output_type": "display_data"
    },
    {
     "name": "stdout",
     "output_type": "stream",
     "text": [
      "Overlapping event occurs!!\n",
      "Overlapping event occurs!!\n",
      "Overlapping event occurs!!\n",
      "Overlapping event occurs!!\n",
      "Overlapping event occurs!!\n",
      "Overlapping event occurs!!\n",
      "Overlapping event occurs!!\n",
      "Overlapping event occurs!!\n",
      "Overlapping event occurs!!\n",
      "Overlapping event occurs!!\n",
      "Overlapping event occurs!!\n",
      "Overlapping event occurs!!\n",
      "Overlapping event occurs!!\n",
      "Overlapping event occurs!!\n",
      "Overlapping event occurs!!\n",
      "\n",
      "Mean: 1.3816108346507845\n",
      "Standard Deviation: 0.08139202632423158\n",
      "Ground Truth: 0.7262687498889788\n"
     ]
    },
    {
     "data": {
      "application/vnd.jupyter.widget-view+json": {
       "model_id": "c7f0791b6f74402fb5468a6324b895c4",
       "version_major": 2,
       "version_minor": 0
      },
      "text/plain": [
       "  0%|                                                                                                         …"
      ]
     },
     "metadata": {},
     "output_type": "display_data"
    },
    {
     "name": "stdout",
     "output_type": "stream",
     "text": [
      "\n",
      "Mean: 1.708076908580874\n",
      "Standard Deviation: 0.07331964150042905\n",
      "Ground Truth: 1.166938571128592\n"
     ]
    },
    {
     "data": {
      "application/vnd.jupyter.widget-view+json": {
       "model_id": "a043683a7b7b4b918330bd238ee3fe9a",
       "version_major": 2,
       "version_minor": 0
      },
      "text/plain": [
       "  0%|                                                                                                         …"
      ]
     },
     "metadata": {},
     "output_type": "display_data"
    },
    {
     "name": "stdout",
     "output_type": "stream",
     "text": [
      "Overlapping event occurs!!\n",
      "Overlapping event occurs!!\n",
      "Overlapping event occurs!!\n",
      "\n",
      "Mean: 1.751281102512447\n",
      "Standard Deviation: 0.1310436859819943\n",
      "Ground Truth: 1.2368160557117511\n"
     ]
    },
    {
     "data": {
      "application/vnd.jupyter.widget-view+json": {
       "model_id": "b7d596458e8841c3b1ffb9adeb9afe25",
       "version_major": 2,
       "version_minor": 0
      },
      "text/plain": [
       "  0%|                                                                                                         …"
      ]
     },
     "metadata": {},
     "output_type": "display_data"
    },
    {
     "name": "stdout",
     "output_type": "stream",
     "text": [
      "\n",
      "Mean: 1.5099476011566235\n",
      "Standard Deviation: 0.06649578041477858\n",
      "Ground Truth: 0.7457934102293791\n"
     ]
    },
    {
     "data": {
      "application/vnd.jupyter.widget-view+json": {
       "model_id": "51445f8cecbf44a98f1da01d149d8d53",
       "version_major": 2,
       "version_minor": 0
      },
      "text/plain": [
       "  0%|                                                                                                         …"
      ]
     },
     "metadata": {},
     "output_type": "display_data"
    },
    {
     "name": "stdout",
     "output_type": "stream",
     "text": [
      "\n",
      "Mean: 1.3444118061300996\n",
      "Standard Deviation: 0.23528094299286034\n",
      "Ground Truth: 0.4749001242280027\n"
     ]
    },
    {
     "data": {
      "application/vnd.jupyter.widget-view+json": {
       "model_id": "a65aa2b4393149b3a106f818bd780cd8",
       "version_major": 2,
       "version_minor": 0
      },
      "text/plain": [
       "  0%|                                                                                                         …"
      ]
     },
     "metadata": {},
     "output_type": "display_data"
    },
    {
     "name": "stdout",
     "output_type": "stream",
     "text": [
      "\n",
      "Mean: 1.3223073211466096\n",
      "Standard Deviation: 0.08756770755868445\n",
      "Ground Truth: 0.622930101864757\n"
     ]
    },
    {
     "data": {
      "application/vnd.jupyter.widget-view+json": {
       "model_id": "5ffaee2c29c64406b51ffc482926250b",
       "version_major": 2,
       "version_minor": 0
      },
      "text/plain": [
       "  0%|                                                                                                         …"
      ]
     },
     "metadata": {},
     "output_type": "display_data"
    },
    {
     "name": "stdout",
     "output_type": "stream",
     "text": [
      "\n",
      "Mean: 1.1347805550323915\n",
      "Standard Deviation: 0.04355986112907982\n",
      "Ground Truth: 0.6658012035766495\n"
     ]
    },
    {
     "data": {
      "application/vnd.jupyter.widget-view+json": {
       "model_id": "d2dbb1da406d4fcaaa687fd5b9cee34b",
       "version_major": 2,
       "version_minor": 0
      },
      "text/plain": [
       "  0%|                                                                                                         …"
      ]
     },
     "metadata": {},
     "output_type": "display_data"
    },
    {
     "name": "stdout",
     "output_type": "stream",
     "text": [
      "\n",
      "Mean: 1.0656755353331666\n",
      "Standard Deviation: 0.051687945561295696\n",
      "Ground Truth: 0.5200523529088501\n"
     ]
    },
    {
     "data": {
      "application/vnd.jupyter.widget-view+json": {
       "model_id": "e99b5c096bbb45e7ae7048fb19fd6184",
       "version_major": 2,
       "version_minor": 0
      },
      "text/plain": [
       "  0%|                                                                                                         …"
      ]
     },
     "metadata": {},
     "output_type": "display_data"
    },
    {
     "name": "stdout",
     "output_type": "stream",
     "text": [
      "\n",
      "Mean: 1.086418978964722\n",
      "Standard Deviation: 0.13263354108862088\n",
      "Ground Truth: 0.6217759300045796\n",
      "******** Empty RRC Data ********\n",
      "******** Empty RRC Data ********\n"
     ]
    },
    {
     "data": {
      "application/vnd.jupyter.widget-view+json": {
       "model_id": "19d4426a8611467c9fc28bac8c18b741",
       "version_major": 2,
       "version_minor": 0
      },
      "text/plain": [
       "  0%|                                                                                                         …"
      ]
     },
     "metadata": {},
     "output_type": "display_data"
    },
    {
     "name": "stdout",
     "output_type": "stream",
     "text": [
      "\n",
      "Mean: 0.9485866059571239\n",
      "Standard Deviation: 0.3540842448864829\n",
      "Ground Truth: 0.04580979219012452\n",
      "******** Empty RRC Data ********\n"
     ]
    },
    {
     "data": {
      "application/vnd.jupyter.widget-view+json": {
       "model_id": "e0c6603e08cb4cb396fb155910b2e6fb",
       "version_major": 2,
       "version_minor": 0
      },
      "text/plain": [
       "  0%|                                                                                                         …"
      ]
     },
     "metadata": {},
     "output_type": "display_data"
    },
    {
     "name": "stdout",
     "output_type": "stream",
     "text": [
      "\n",
      "Mean: 0.9116709300645537\n",
      "Standard Deviation: 0.09543785900036898\n",
      "Ground Truth: 0.19763600388983588\n"
     ]
    },
    {
     "data": {
      "application/vnd.jupyter.widget-view+json": {
       "model_id": "86e4f284fe354451abd71881537478c3",
       "version_major": 2,
       "version_minor": 0
      },
      "text/plain": [
       "  0%|                                                                                                         …"
      ]
     },
     "metadata": {},
     "output_type": "display_data"
    },
    {
     "name": "stdout",
     "output_type": "stream",
     "text": [
      "Overlapping event occurs!!\n",
      "Overlapping event occurs!!\n",
      "Overlapping event occurs!!\n",
      "Overlapping event occurs!!\n",
      "Overlapping event occurs!!\n",
      "Overlapping event occurs!!\n",
      "\n",
      "Mean: 2.23048502524216\n",
      "Standard Deviation: 0.06677627581832056\n",
      "Ground Truth: 2.760555124931417\n"
     ]
    },
    {
     "data": {
      "application/vnd.jupyter.widget-view+json": {
       "model_id": "bfa5f6fa29db47eb926a13ad2aef56cd",
       "version_major": 2,
       "version_minor": 0
      },
      "text/plain": [
       "  0%|                                                                                                         …"
      ]
     },
     "metadata": {},
     "output_type": "display_data"
    },
    {
     "name": "stdout",
     "output_type": "stream",
     "text": [
      "\n",
      "Mean: 2.4198975274670365\n",
      "Standard Deviation: 0.1897821158017852\n",
      "Ground Truth: 3.552642099021247\n"
     ]
    },
    {
     "data": {
      "application/vnd.jupyter.widget-view+json": {
       "model_id": "57c2606a31004cf8ba8612dcc9df2510",
       "version_major": 2,
       "version_minor": 0
      },
      "text/plain": [
       "  0%|                                                                                                         …"
      ]
     },
     "metadata": {},
     "output_type": "display_data"
    },
    {
     "name": "stdout",
     "output_type": "stream",
     "text": [
      "Overlapping event occurs!!\n",
      "Overlapping event occurs!!\n",
      "Overlapping event occurs!!\n",
      "Overlapping event occurs!!\n",
      "Overlapping event occurs!!\n",
      "Overlapping event occurs!!\n",
      "\n",
      "Mean: 2.3147623837788984\n",
      "Standard Deviation: 0.03293734565648668\n",
      "Ground Truth: 3.401611495646497\n"
     ]
    },
    {
     "data": {
      "application/vnd.jupyter.widget-view+json": {
       "model_id": "98018bb54f8e4ee0b5ff0a39178b5698",
       "version_major": 2,
       "version_minor": 0
      },
      "text/plain": [
       "  0%|                                                                                                         …"
      ]
     },
     "metadata": {},
     "output_type": "display_data"
    },
    {
     "name": "stdout",
     "output_type": "stream",
     "text": [
      "Overlapping event occurs!!\n",
      "Overlapping event occurs!!\n",
      "Overlapping event occurs!!\n",
      "Overlapping event occurs!!\n",
      "Overlapping event occurs!!\n",
      "Overlapping event occurs!!\n",
      "\n",
      "Mean: 2.121055512233797\n",
      "Standard Deviation: 0.017540780441616922\n",
      "Ground Truth: 6.178330114022685\n"
     ]
    },
    {
     "data": {
      "application/vnd.jupyter.widget-view+json": {
       "model_id": "582c8922555e4fb39a6334ee8162e4e0",
       "version_major": 2,
       "version_minor": 0
      },
      "text/plain": [
       "  0%|                                                                                                         …"
      ]
     },
     "metadata": {},
     "output_type": "display_data"
    },
    {
     "name": "stdout",
     "output_type": "stream",
     "text": [
      "Overlapping event occurs!!\n",
      "Overlapping event occurs!!\n",
      "Overlapping event occurs!!\n",
      "Overlapping event occurs!!\n",
      "Overlapping event occurs!!\n",
      "Overlapping event occurs!!\n",
      "Overlapping event occurs!!\n",
      "Overlapping event occurs!!\n",
      "Overlapping event occurs!!\n",
      "Overlapping event occurs!!\n",
      "Overlapping event occurs!!\n",
      "Overlapping event occurs!!\n",
      "Overlapping event occurs!!\n",
      "Overlapping event occurs!!\n",
      "Overlapping event occurs!!\n",
      "Overlapping event occurs!!\n",
      "Overlapping event occurs!!\n",
      "Overlapping event occurs!!\n",
      "Overlapping event occurs!!\n",
      "Overlapping event occurs!!\n",
      "Overlapping event occurs!!\n",
      "Overlapping event occurs!!\n",
      "Overlapping event occurs!!\n",
      "Overlapping event occurs!!\n",
      "Overlapping event occurs!!\n",
      "Overlapping event occurs!!\n",
      "Overlapping event occurs!!\n",
      "Overlapping event occurs!!\n",
      "Overlapping event occurs!!\n",
      "Overlapping event occurs!!\n",
      "Overlapping event occurs!!\n",
      "Overlapping event occurs!!\n",
      "Overlapping event occurs!!\n",
      "Overlapping event occurs!!\n",
      "Overlapping event occurs!!\n",
      "Overlapping event occurs!!\n",
      "\n",
      "Mean: 1.7348516893876063\n",
      "Standard Deviation: 0.18070280675185177\n",
      "Ground Truth: 1.9635321429404102\n"
     ]
    },
    {
     "data": {
      "application/vnd.jupyter.widget-view+json": {
       "model_id": "195def3e62764dd2aadbd4a51b207697",
       "version_major": 2,
       "version_minor": 0
      },
      "text/plain": [
       "  0%|                                                                                                         …"
      ]
     },
     "metadata": {},
     "output_type": "display_data"
    },
    {
     "name": "stdout",
     "output_type": "stream",
     "text": [
      "\n",
      "Mean: 1.9222570341614693\n",
      "Standard Deviation: 0.12687087857321272\n",
      "Ground Truth: 2.9138841386541507\n"
     ]
    },
    {
     "data": {
      "application/vnd.jupyter.widget-view+json": {
       "model_id": "2829c287d48b4303854579f464afc493",
       "version_major": 2,
       "version_minor": 0
      },
      "text/plain": [
       "  0%|                                                                                                         …"
      ]
     },
     "metadata": {},
     "output_type": "display_data"
    },
    {
     "name": "stdout",
     "output_type": "stream",
     "text": [
      "\n",
      "Mean: 2.4519240550457404\n",
      "Standard Deviation: 0.10812747621781996\n",
      "Ground Truth: 2.531956694946149\n"
     ]
    },
    {
     "data": {
      "application/vnd.jupyter.widget-view+json": {
       "model_id": "0181e13a5d21483ea46fb5b6d656770f",
       "version_major": 2,
       "version_minor": 0
      },
      "text/plain": [
       "  0%|                                                                                                         …"
      ]
     },
     "metadata": {},
     "output_type": "display_data"
    },
    {
     "name": "stdout",
     "output_type": "stream",
     "text": [
      "\n",
      "Mean: 1.5912913865825589\n",
      "Standard Deviation: 0.15887350176334258\n",
      "Ground Truth: 1.4710818277294302\n"
     ]
    },
    {
     "data": {
      "application/vnd.jupyter.widget-view+json": {
       "model_id": "eaeb9508d7924007853d280ca7cc843c",
       "version_major": 2,
       "version_minor": 0
      },
      "text/plain": [
       "  0%|                                                                                                         …"
      ]
     },
     "metadata": {},
     "output_type": "display_data"
    },
    {
     "name": "stdout",
     "output_type": "stream",
     "text": [
      "\n",
      "Mean: 1.8441259598309196\n",
      "Standard Deviation: 0.17298517277211922\n",
      "Ground Truth: 3.251294364823291\n"
     ]
    },
    {
     "data": {
      "image/png": "[encoded data removed]",
      "text/plain": [
       "<Figure size 600x400 with 1 Axes>"
      ]
     },
     "metadata": {
      "image/png": {
       "height": 371,
       "width": 534
      }
     },
     "output_type": "display_data"
    }
   ],
   "source": [
    "eval = Eval(filepaths, model_name='A')\n",
    "eval.hist_method_all()\n",
    "eval.plot('./figures/A.png')"
   ]
  },
  {
   "cell_type": "code",
   "execution_count": null,
   "metadata": {},
   "outputs": [],
   "source": []
  },
  {
   "cell_type": "code",
   "execution_count": null,
   "metadata": {},
   "outputs": [],
   "source": []
  }
 ],
 "metadata": {
  "kernelspec": {
   "display_name": "moxa",
   "language": "python",
   "name": "python3"
  },
  "language_info": {
   "codemirror_mode": {
    "name": "ipython",
    "version": 3
   },
   "file_extension": ".py",
   "mimetype": "text/x-python",
   "name": "python",
   "nbconvert_exporter": "python",
   "pygments_lexer": "ipython3",
   "version": "3.8.16"
  }
 },
 "nbformat": 4,
 "nbformat_minor": 2
}
