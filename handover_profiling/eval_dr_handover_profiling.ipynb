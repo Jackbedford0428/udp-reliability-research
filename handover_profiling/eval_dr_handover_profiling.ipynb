{
 "cells": [
  {
   "cell_type": "markdown",
   "metadata": {},
   "source": [
    "# Import Modules & Util Functions"
   ]
  },
  {
   "cell_type": "code",
   "execution_count": 1,
   "metadata": {},
   "outputs": [],
   "source": [
    "import os\n",
    "import sys\n",
    "import pandas as pd\n",
    "import itertools as it\n",
    "import matplotlib.pyplot as plt\n",
    "import seaborn as sns\n",
    "\n",
    "from scipy.stats import gaussian_kde\n",
    "from tqdm.notebook import tqdm\n",
    "from pprint import pprint\n",
    "from pytictoc import TicToc\n",
    "\n",
    "from myutils import *\n",
    "from profile import *\n",
    "\n",
    "# Configure display options\n",
    "pd.set_option('display.max_rows', 20)\n",
    "pd.set_option('display.max_columns', 100)\n",
    "%config InlineBackend.figure_format = 'retina'\n",
    "\n",
    "# Set plot style\n",
    "# plt.style.use('ggplot')"
   ]
  },
  {
   "cell_type": "markdown",
   "metadata": {},
   "source": [
    "# Set Paramaters"
   ]
  },
  {
   "cell_type": "code",
   "execution_count": 2,
   "metadata": {},
   "outputs": [],
   "source": [
    "# modeling\n",
    "dirc_mets = 'dl_lost'\n",
    "anchor_mode = 'by_event'\n",
    "test_mode = False\n",
    "# evaluate\n",
    "iter_num = 5\n",
    "save_answer = True\n",
    "corr_lst = [None, 'adjust']\n",
    "# corr_lst = ['max', 'zero', '25%', '50%', '75%']"
   ]
  },
  {
   "cell_type": "markdown",
   "metadata": {},
   "source": [
    "# Dual Radio Evaluation"
   ]
  },
  {
   "cell_type": "markdown",
   "metadata": {},
   "source": [
    "# Enter Model IDs"
   ]
  },
  {
   "cell_type": "code",
   "execution_count": 3,
   "metadata": {},
   "outputs": [
    {
     "name": "stdout",
     "output_type": "stream",
     "text": [
      "SR Model: 20240417_1333007d66 new_data_sync_v2\n",
      "DR Model: dr_20240417_1452001e84 anchor_by_event\n"
     ]
    }
   ],
   "source": [
    "sr_model_name = '20240417_1333007d66_new_data_sync_v2'\n",
    "dr_model_id = 'dr_20240417_1452001e84'\n",
    "\n",
    "sr_model_id = sr_model_name[:19] if len(sr_model_name) > 19 else sr_model_name\n",
    "sr_model_dscp = sr_model_name[20:] if len(sr_model_name) > 19 else None\n",
    "dr_model_dscp = f'anchor_{anchor_mode}'\n",
    "dr_model_name = f'{dr_model_id}_{dr_model_dscp}'\n",
    "\n",
    "print('SR Model:', sr_model_id, sr_model_dscp)\n",
    "print('DR Model:', dr_model_id, dr_model_dscp)"
   ]
  },
  {
   "cell_type": "markdown",
   "metadata": {},
   "source": [
    "# BR: DR Eval"
   ]
  },
  {
   "cell_type": "code",
   "execution_count": 7,
   "metadata": {},
   "outputs": [
    {
     "name": "stdout",
     "output_type": "stream",
     "text": [
      "72\n"
     ]
    }
   ],
   "source": [
    "# Dual Radio Example\n",
    "# dates = data_loader(query_dates=True, show_info=True)\n",
    "\n",
    "# selected_dates = [s for s in dates if s >= '2023-09-12']\n",
    "selected_dates = ['2024-03-19']\n",
    "# excluded_dates = []\n",
    "# selected_exps = []\n",
    "# excluded_exps = ['Modem_Action_Test', 'Control_Group', 'Control_Group2', 'Control_Group3']\n",
    "selected_routes = ['BR']\n",
    "# excluded_routes = []\n",
    "filepaths = data_loader(mode='dr', selected_dates=selected_dates, selected_routes=selected_routes)\n",
    "\n",
    "print(len(filepaths))\n",
    "# pprint(filepaths)"
   ]
  },
  {
   "cell_type": "code",
   "execution_count": null,
   "metadata": {},
   "outputs": [],
   "source": [
    "for mode in corr_lst:\n",
    "    model_corr = mode if mode == None or mode == 'adjust' else f'{mode}_corr'\n",
    "    print('=======================', model_corr, '=======================')\n",
    "    eval = DrEval(filepaths, 'BR', model_corr, sr_model_id, sr_model_dscp, dr_model_id, dr_model_dscp, dirc_mets=dirc_mets,\n",
    "              anchor_mode=anchor_mode, test_mode=test_mode, save_answer=save_answer)\n",
    "    eval.run_hist_method(N=iter_num)\n",
    "    eval.plot()"
   ]
  },
  {
   "cell_type": "markdown",
   "metadata": {},
   "source": [
    "# A: Dual Eval"
   ]
  },
  {
   "cell_type": "code",
   "execution_count": 110,
   "metadata": {},
   "outputs": [
    {
     "name": "stdout",
     "output_type": "stream",
     "text": [
      "72\n"
     ]
    }
   ],
   "source": [
    "# Dual Radio Example\n",
    "# dates = data_loader(query_dates=True)\n",
    "\n",
    "# selected_dates = [s for s in dates if s >= '2023-09-12']\n",
    "selected_dates = ['2024-03-20']\n",
    "# excluded_dates = []\n",
    "# selected_exps = []\n",
    "# excluded_exps = ['Modem_Action_Test', 'Control_Group', 'Control_Group2', 'Control_Group3']\n",
    "selected_routes = ['A']\n",
    "# excluded_routes = []\n",
    "filepaths = data_loader(mode='dr', selected_dates=selected_dates, selected_routes=selected_routes)\n",
    "\n",
    "print(len(filepaths))\n",
    "# pprint(filepaths)"
   ]
  },
  {
   "cell_type": "code",
   "execution_count": 111,
   "metadata": {},
   "outputs": [
    {
     "name": "stdout",
     "output_type": "stream",
     "text": [
      ". 20240329_160006be6c_new_dataset_sync dr_20240408_0555003db4_anchor_by_packet A dl_lost\n",
      "./20240329_160006be6c_new_dataset_sync/dl_lost/models/A\n",
      "./20240329_160006be6c_new_dataset_sync/dr_20240408_0555003db4_anchor_by_packet/dl_lost/models/A\n",
      "./20240329_160006be6c_new_dataset_sync/dr_20240408_0555003db4_anchor_by_packet/dl_lost/models/A_dr_prob_models.pkl\n",
      "1/72 /home/wmnlab/F/database/2024-03-20/UDP_Bandlock_9S_Phone_A/sm00/#01/data/handover_info_log.csv\n",
      "1/72 /home/wmnlab/F/database/2024-03-20/UDP_Bandlock_9S_Phone_A/sm00/#01/data/udp_dnlk_loss_latency.csv\n",
      "1/72 /home/wmnlab/F/database/2024-03-20/UDP_Bandlock_9S_Phone_A/sm01/#01/data/handover_info_log.csv\n",
      "1/72 /home/wmnlab/F/database/2024-03-20/UDP_Bandlock_9S_Phone_A/sm01/#01/data/udp_dnlk_loss_latency.csv\n"
     ]
    },
    {
     "data": {
      "application/vnd.jupyter.widget-view+json": {
       "model_id": "4bfc76b828cb47d29d8be5ca268b59c9",
       "version_major": 2,
       "version_minor": 0
      },
      "text/plain": [
       "  0%|                                                                                                         …"
      ]
     },
     "metadata": {},
     "output_type": "display_data"
    },
    {
     "name": "stdout",
     "output_type": "stream",
     "text": [
      "/home/wmnlab/F/results/20240329_160006be6c_new_dataset_sync/dr_20240408_0555003db4_anchor_by_packet/dl_lost/A_20240408_0345025_35035/\\home\\wmnlab\\F\\database\\2024-03-20\\UDP_Bandlock_9S_Phone_A\\sm00\\#01\\data\\udp_dnlk_loss_latency\\home\\wmnlab\\F\\database\\2024-03-20\\UDP_Bandlock_9S_Phone_A\\sm01\\#01\\data\\udp_dnlk_loss_latency.csv\n",
      "./20240329_160006be6c_new_dataset_sync/dr_20240408_0555003db4_anchor_by_packet/dl_lost/results/A_20240408_0345025_35035.pkl\n",
      "2/72 /home/wmnlab/F/database/2024-03-20/UDP_Bandlock_9S_Phone_A/sm00/#01/data/handover_info_log.csv\n",
      "2/72 /home/wmnlab/F/database/2024-03-20/UDP_Bandlock_9S_Phone_A/sm00/#01/data/udp_dnlk_loss_latency.csv\n",
      "2/72 /home/wmnlab/F/database/2024-03-20/UDP_Bandlock_9S_Phone_A/sm02/#01/data/handover_info_log.csv\n",
      "2/72 /home/wmnlab/F/database/2024-03-20/UDP_Bandlock_9S_Phone_A/sm02/#01/data/udp_dnlk_loss_latency.csv\n"
     ]
    },
    {
     "data": {
      "application/vnd.jupyter.widget-view+json": {
       "model_id": "57f4a21d987445e5a23251d2a54cc383",
       "version_major": 2,
       "version_minor": 0
      },
      "text/plain": [
       "  0%|                                                                                                         …"
      ]
     },
     "metadata": {},
     "output_type": "display_data"
    },
    {
     "name": "stdout",
     "output_type": "stream",
     "text": [
      "/home/wmnlab/F/results/20240329_160006be6c_new_dataset_sync/dr_20240408_0555003db4_anchor_by_packet/dl_lost/A_20240408_0345025_35035/\\home\\wmnlab\\F\\database\\2024-03-20\\UDP_Bandlock_9S_Phone_A\\sm00\\#01\\data\\udp_dnlk_loss_latency\\home\\wmnlab\\F\\database\\2024-03-20\\UDP_Bandlock_9S_Phone_A\\sm02\\#01\\data\\udp_dnlk_loss_latency.csv\n",
      "./20240329_160006be6c_new_dataset_sync/dr_20240408_0555003db4_anchor_by_packet/dl_lost/results/A_20240408_0345025_35035.pkl\n",
      "3/72 /home/wmnlab/F/database/2024-03-20/UDP_Bandlock_9S_Phone_A/sm00/#01/data/handover_info_log.csv\n",
      "3/72 /home/wmnlab/F/database/2024-03-20/UDP_Bandlock_9S_Phone_A/sm00/#01/data/udp_dnlk_loss_latency.csv\n",
      "3/72 /home/wmnlab/F/database/2024-03-20/UDP_Bandlock_9S_Phone_A/sm03/#01/data/handover_info_log.csv\n",
      "3/72 /home/wmnlab/F/database/2024-03-20/UDP_Bandlock_9S_Phone_A/sm03/#01/data/udp_dnlk_loss_latency.csv\n"
     ]
    },
    {
     "data": {
      "application/vnd.jupyter.widget-view+json": {
       "model_id": "0a6913f169d345eaaf2fedf8217b8ef0",
       "version_major": 2,
       "version_minor": 0
      },
      "text/plain": [
       "  0%|                                                                                                         …"
      ]
     },
     "metadata": {},
     "output_type": "display_data"
    },
    {
     "name": "stdout",
     "output_type": "stream",
     "text": [
      "/home/wmnlab/F/results/20240329_160006be6c_new_dataset_sync/dr_20240408_0555003db4_anchor_by_packet/dl_lost/A_20240408_0345025_35035/\\home\\wmnlab\\F\\database\\2024-03-20\\UDP_Bandlock_9S_Phone_A\\sm00\\#01\\data\\udp_dnlk_loss_latency\\home\\wmnlab\\F\\database\\2024-03-20\\UDP_Bandlock_9S_Phone_A\\sm03\\#01\\data\\udp_dnlk_loss_latency.csv\n",
      "./20240329_160006be6c_new_dataset_sync/dr_20240408_0555003db4_anchor_by_packet/dl_lost/results/A_20240408_0345025_35035.pkl\n",
      "4/72 /home/wmnlab/F/database/2024-03-20/UDP_Bandlock_9S_Phone_A/sm00/#01/data/handover_info_log.csv\n",
      "4/72 /home/wmnlab/F/database/2024-03-20/UDP_Bandlock_9S_Phone_A/sm00/#01/data/udp_dnlk_loss_latency.csv\n",
      "4/72 /home/wmnlab/F/database/2024-03-20/UDP_Bandlock_9S_Phone_A/sm04/#01/data/handover_info_log.csv\n",
      "4/72 /home/wmnlab/F/database/2024-03-20/UDP_Bandlock_9S_Phone_A/sm04/#01/data/udp_dnlk_loss_latency.csv\n"
     ]
    },
    {
     "data": {
      "application/vnd.jupyter.widget-view+json": {
       "model_id": "5baea92c4cad4dfdac5494366b96e6f6",
       "version_major": 2,
       "version_minor": 0
      },
      "text/plain": [
       "  0%|                                                                                                         …"
      ]
     },
     "metadata": {},
     "output_type": "display_data"
    },
    {
     "name": "stdout",
     "output_type": "stream",
     "text": [
      "/home/wmnlab/F/results/20240329_160006be6c_new_dataset_sync/dr_20240408_0555003db4_anchor_by_packet/dl_lost/A_20240408_0345025_35035/\\home\\wmnlab\\F\\database\\2024-03-20\\UDP_Bandlock_9S_Phone_A\\sm00\\#01\\data\\udp_dnlk_loss_latency\\home\\wmnlab\\F\\database\\2024-03-20\\UDP_Bandlock_9S_Phone_A\\sm04\\#01\\data\\udp_dnlk_loss_latency.csv\n",
      "./20240329_160006be6c_new_dataset_sync/dr_20240408_0555003db4_anchor_by_packet/dl_lost/results/A_20240408_0345025_35035.pkl\n",
      "5/72 /home/wmnlab/F/database/2024-03-20/UDP_Bandlock_9S_Phone_A/sm00/#01/data/handover_info_log.csv\n",
      "5/72 /home/wmnlab/F/database/2024-03-20/UDP_Bandlock_9S_Phone_A/sm00/#01/data/udp_dnlk_loss_latency.csv\n",
      "5/72 /home/wmnlab/F/database/2024-03-20/UDP_Bandlock_9S_Phone_A/sm05/#01/data/handover_info_log.csv\n",
      "5/72 /home/wmnlab/F/database/2024-03-20/UDP_Bandlock_9S_Phone_A/sm05/#01/data/udp_dnlk_loss_latency.csv\n"
     ]
    },
    {
     "data": {
      "application/vnd.jupyter.widget-view+json": {
       "model_id": "2d23b39766ed4890990ad010255d2f43",
       "version_major": 2,
       "version_minor": 0
      },
      "text/plain": [
       "  0%|                                                                                                         …"
      ]
     },
     "metadata": {},
     "output_type": "display_data"
    },
    {
     "name": "stdout",
     "output_type": "stream",
     "text": [
      "/home/wmnlab/F/results/20240329_160006be6c_new_dataset_sync/dr_20240408_0555003db4_anchor_by_packet/dl_lost/A_20240408_0345025_35035/\\home\\wmnlab\\F\\database\\2024-03-20\\UDP_Bandlock_9S_Phone_A\\sm00\\#01\\data\\udp_dnlk_loss_latency\\home\\wmnlab\\F\\database\\2024-03-20\\UDP_Bandlock_9S_Phone_A\\sm05\\#01\\data\\udp_dnlk_loss_latency.csv\n",
      "./20240329_160006be6c_new_dataset_sync/dr_20240408_0555003db4_anchor_by_packet/dl_lost/results/A_20240408_0345025_35035.pkl\n",
      "6/72 /home/wmnlab/F/database/2024-03-20/UDP_Bandlock_9S_Phone_A/sm00/#01/data/handover_info_log.csv\n",
      "6/72 /home/wmnlab/F/database/2024-03-20/UDP_Bandlock_9S_Phone_A/sm00/#01/data/udp_dnlk_loss_latency.csv\n",
      "6/72 /home/wmnlab/F/database/2024-03-20/UDP_Bandlock_9S_Phone_A/sm06/#01/data/handover_info_log.csv\n",
      "6/72 /home/wmnlab/F/database/2024-03-20/UDP_Bandlock_9S_Phone_A/sm06/#01/data/udp_dnlk_loss_latency.csv\n"
     ]
    },
    {
     "data": {
      "application/vnd.jupyter.widget-view+json": {
       "model_id": "784a24569343414dbbfc1458fb36f030",
       "version_major": 2,
       "version_minor": 0
      },
      "text/plain": [
       "  0%|                                                                                                         …"
      ]
     },
     "metadata": {},
     "output_type": "display_data"
    },
    {
     "name": "stdout",
     "output_type": "stream",
     "text": [
      "/home/wmnlab/F/results/20240329_160006be6c_new_dataset_sync/dr_20240408_0555003db4_anchor_by_packet/dl_lost/A_20240408_0345025_35035/\\home\\wmnlab\\F\\database\\2024-03-20\\UDP_Bandlock_9S_Phone_A\\sm00\\#01\\data\\udp_dnlk_loss_latency\\home\\wmnlab\\F\\database\\2024-03-20\\UDP_Bandlock_9S_Phone_A\\sm06\\#01\\data\\udp_dnlk_loss_latency.csv\n",
      "./20240329_160006be6c_new_dataset_sync/dr_20240408_0555003db4_anchor_by_packet/dl_lost/results/A_20240408_0345025_35035.pkl\n",
      "7/72 /home/wmnlab/F/database/2024-03-20/UDP_Bandlock_9S_Phone_A/sm00/#01/data/handover_info_log.csv\n",
      "7/72 /home/wmnlab/F/database/2024-03-20/UDP_Bandlock_9S_Phone_A/sm00/#01/data/udp_dnlk_loss_latency.csv\n",
      "7/72 /home/wmnlab/F/database/2024-03-20/UDP_Bandlock_9S_Phone_A/sm07/#01/data/handover_info_log.csv\n",
      "7/72 /home/wmnlab/F/database/2024-03-20/UDP_Bandlock_9S_Phone_A/sm07/#01/data/udp_dnlk_loss_latency.csv\n"
     ]
    },
    {
     "data": {
      "application/vnd.jupyter.widget-view+json": {
       "model_id": "b41f1138d7534de48b1236f27e9dea7e",
       "version_major": 2,
       "version_minor": 0
      },
      "text/plain": [
       "  0%|                                                                                                         …"
      ]
     },
     "metadata": {},
     "output_type": "display_data"
    },
    {
     "name": "stdout",
     "output_type": "stream",
     "text": [
      "/home/wmnlab/F/results/20240329_160006be6c_new_dataset_sync/dr_20240408_0555003db4_anchor_by_packet/dl_lost/A_20240408_0345025_35035/\\home\\wmnlab\\F\\database\\2024-03-20\\UDP_Bandlock_9S_Phone_A\\sm00\\#01\\data\\udp_dnlk_loss_latency\\home\\wmnlab\\F\\database\\2024-03-20\\UDP_Bandlock_9S_Phone_A\\sm07\\#01\\data\\udp_dnlk_loss_latency.csv\n",
      "./20240329_160006be6c_new_dataset_sync/dr_20240408_0555003db4_anchor_by_packet/dl_lost/results/A_20240408_0345025_35035.pkl\n",
      "8/72 /home/wmnlab/F/database/2024-03-20/UDP_Bandlock_9S_Phone_A/sm00/#01/data/handover_info_log.csv\n",
      "8/72 /home/wmnlab/F/database/2024-03-20/UDP_Bandlock_9S_Phone_A/sm00/#01/data/udp_dnlk_loss_latency.csv\n",
      "8/72 /home/wmnlab/F/database/2024-03-20/UDP_Bandlock_9S_Phone_A/sm08/#01/data/handover_info_log.csv\n",
      "8/72 /home/wmnlab/F/database/2024-03-20/UDP_Bandlock_9S_Phone_A/sm08/#01/data/udp_dnlk_loss_latency.csv\n"
     ]
    },
    {
     "data": {
      "application/vnd.jupyter.widget-view+json": {
       "model_id": "09be7f2cd7e84fc9899fe6174682d56a",
       "version_major": 2,
       "version_minor": 0
      },
      "text/plain": [
       "  0%|                                                                                                         …"
      ]
     },
     "metadata": {},
     "output_type": "display_data"
    },
    {
     "name": "stdout",
     "output_type": "stream",
     "text": [
      "/home/wmnlab/F/results/20240329_160006be6c_new_dataset_sync/dr_20240408_0555003db4_anchor_by_packet/dl_lost/A_20240408_0345025_35035/\\home\\wmnlab\\F\\database\\2024-03-20\\UDP_Bandlock_9S_Phone_A\\sm00\\#01\\data\\udp_dnlk_loss_latency\\home\\wmnlab\\F\\database\\2024-03-20\\UDP_Bandlock_9S_Phone_A\\sm08\\#01\\data\\udp_dnlk_loss_latency.csv\n",
      "./20240329_160006be6c_new_dataset_sync/dr_20240408_0555003db4_anchor_by_packet/dl_lost/results/A_20240408_0345025_35035.pkl\n",
      "9/72 /home/wmnlab/F/database/2024-03-20/UDP_Bandlock_9S_Phone_A/sm01/#01/data/handover_info_log.csv\n",
      "9/72 /home/wmnlab/F/database/2024-03-20/UDP_Bandlock_9S_Phone_A/sm01/#01/data/udp_dnlk_loss_latency.csv\n",
      "9/72 /home/wmnlab/F/database/2024-03-20/UDP_Bandlock_9S_Phone_A/sm02/#01/data/handover_info_log.csv\n",
      "9/72 /home/wmnlab/F/database/2024-03-20/UDP_Bandlock_9S_Phone_A/sm02/#01/data/udp_dnlk_loss_latency.csv\n"
     ]
    },
    {
     "data": {
      "application/vnd.jupyter.widget-view+json": {
       "model_id": "084a4ba33ad14659a216fe354864165e",
       "version_major": 2,
       "version_minor": 0
      },
      "text/plain": [
       "  0%|                                                                                                         …"
      ]
     },
     "metadata": {},
     "output_type": "display_data"
    },
    {
     "name": "stdout",
     "output_type": "stream",
     "text": [
      "/home/wmnlab/F/results/20240329_160006be6c_new_dataset_sync/dr_20240408_0555003db4_anchor_by_packet/dl_lost/A_20240408_0345025_35035/\\home\\wmnlab\\F\\database\\2024-03-20\\UDP_Bandlock_9S_Phone_A\\sm01\\#01\\data\\udp_dnlk_loss_latency\\home\\wmnlab\\F\\database\\2024-03-20\\UDP_Bandlock_9S_Phone_A\\sm02\\#01\\data\\udp_dnlk_loss_latency.csv\n",
      "./20240329_160006be6c_new_dataset_sync/dr_20240408_0555003db4_anchor_by_packet/dl_lost/results/A_20240408_0345025_35035.pkl\n",
      "10/72 /home/wmnlab/F/database/2024-03-20/UDP_Bandlock_9S_Phone_A/sm01/#01/data/handover_info_log.csv\n",
      "10/72 /home/wmnlab/F/database/2024-03-20/UDP_Bandlock_9S_Phone_A/sm01/#01/data/udp_dnlk_loss_latency.csv\n",
      "10/72 /home/wmnlab/F/database/2024-03-20/UDP_Bandlock_9S_Phone_A/sm03/#01/data/handover_info_log.csv\n",
      "10/72 /home/wmnlab/F/database/2024-03-20/UDP_Bandlock_9S_Phone_A/sm03/#01/data/udp_dnlk_loss_latency.csv\n"
     ]
    },
    {
     "data": {
      "application/vnd.jupyter.widget-view+json": {
       "model_id": "22e39081e7fe44c5801246bfcb835cf7",
       "version_major": 2,
       "version_minor": 0
      },
      "text/plain": [
       "  0%|                                                                                                         …"
      ]
     },
     "metadata": {},
     "output_type": "display_data"
    },
    {
     "name": "stdout",
     "output_type": "stream",
     "text": [
      "/home/wmnlab/F/results/20240329_160006be6c_new_dataset_sync/dr_20240408_0555003db4_anchor_by_packet/dl_lost/A_20240408_0345025_35035/\\home\\wmnlab\\F\\database\\2024-03-20\\UDP_Bandlock_9S_Phone_A\\sm01\\#01\\data\\udp_dnlk_loss_latency\\home\\wmnlab\\F\\database\\2024-03-20\\UDP_Bandlock_9S_Phone_A\\sm03\\#01\\data\\udp_dnlk_loss_latency.csv\n",
      "./20240329_160006be6c_new_dataset_sync/dr_20240408_0555003db4_anchor_by_packet/dl_lost/results/A_20240408_0345025_35035.pkl\n",
      "11/72 /home/wmnlab/F/database/2024-03-20/UDP_Bandlock_9S_Phone_A/sm01/#01/data/handover_info_log.csv\n",
      "11/72 /home/wmnlab/F/database/2024-03-20/UDP_Bandlock_9S_Phone_A/sm01/#01/data/udp_dnlk_loss_latency.csv\n",
      "11/72 /home/wmnlab/F/database/2024-03-20/UDP_Bandlock_9S_Phone_A/sm04/#01/data/handover_info_log.csv\n",
      "11/72 /home/wmnlab/F/database/2024-03-20/UDP_Bandlock_9S_Phone_A/sm04/#01/data/udp_dnlk_loss_latency.csv\n"
     ]
    },
    {
     "data": {
      "application/vnd.jupyter.widget-view+json": {
       "model_id": "42668fc64ae64d61a4d0120115651f5e",
       "version_major": 2,
       "version_minor": 0
      },
      "text/plain": [
       "  0%|                                                                                                         …"
      ]
     },
     "metadata": {},
     "output_type": "display_data"
    },
    {
     "name": "stdout",
     "output_type": "stream",
     "text": [
      "/home/wmnlab/F/results/20240329_160006be6c_new_dataset_sync/dr_20240408_0555003db4_anchor_by_packet/dl_lost/A_20240408_0345025_35035/\\home\\wmnlab\\F\\database\\2024-03-20\\UDP_Bandlock_9S_Phone_A\\sm01\\#01\\data\\udp_dnlk_loss_latency\\home\\wmnlab\\F\\database\\2024-03-20\\UDP_Bandlock_9S_Phone_A\\sm04\\#01\\data\\udp_dnlk_loss_latency.csv\n",
      "./20240329_160006be6c_new_dataset_sync/dr_20240408_0555003db4_anchor_by_packet/dl_lost/results/A_20240408_0345025_35035.pkl\n",
      "12/72 /home/wmnlab/F/database/2024-03-20/UDP_Bandlock_9S_Phone_A/sm01/#01/data/handover_info_log.csv\n",
      "12/72 /home/wmnlab/F/database/2024-03-20/UDP_Bandlock_9S_Phone_A/sm01/#01/data/udp_dnlk_loss_latency.csv\n",
      "12/72 /home/wmnlab/F/database/2024-03-20/UDP_Bandlock_9S_Phone_A/sm05/#01/data/handover_info_log.csv\n",
      "12/72 /home/wmnlab/F/database/2024-03-20/UDP_Bandlock_9S_Phone_A/sm05/#01/data/udp_dnlk_loss_latency.csv\n"
     ]
    },
    {
     "data": {
      "application/vnd.jupyter.widget-view+json": {
       "model_id": "c6ab1e02907e4feb8429d7cff5943cf9",
       "version_major": 2,
       "version_minor": 0
      },
      "text/plain": [
       "  0%|                                                                                                         …"
      ]
     },
     "metadata": {},
     "output_type": "display_data"
    },
    {
     "name": "stdout",
     "output_type": "stream",
     "text": [
      "/home/wmnlab/F/results/20240329_160006be6c_new_dataset_sync/dr_20240408_0555003db4_anchor_by_packet/dl_lost/A_20240408_0345025_35035/\\home\\wmnlab\\F\\database\\2024-03-20\\UDP_Bandlock_9S_Phone_A\\sm01\\#01\\data\\udp_dnlk_loss_latency\\home\\wmnlab\\F\\database\\2024-03-20\\UDP_Bandlock_9S_Phone_A\\sm05\\#01\\data\\udp_dnlk_loss_latency.csv\n",
      "./20240329_160006be6c_new_dataset_sync/dr_20240408_0555003db4_anchor_by_packet/dl_lost/results/A_20240408_0345025_35035.pkl\n",
      "13/72 /home/wmnlab/F/database/2024-03-20/UDP_Bandlock_9S_Phone_A/sm01/#01/data/handover_info_log.csv\n",
      "13/72 /home/wmnlab/F/database/2024-03-20/UDP_Bandlock_9S_Phone_A/sm01/#01/data/udp_dnlk_loss_latency.csv\n",
      "13/72 /home/wmnlab/F/database/2024-03-20/UDP_Bandlock_9S_Phone_A/sm06/#01/data/handover_info_log.csv\n",
      "13/72 /home/wmnlab/F/database/2024-03-20/UDP_Bandlock_9S_Phone_A/sm06/#01/data/udp_dnlk_loss_latency.csv\n"
     ]
    },
    {
     "data": {
      "application/vnd.jupyter.widget-view+json": {
       "model_id": "f92819ed52d84027bbf6aae54c006a53",
       "version_major": 2,
       "version_minor": 0
      },
      "text/plain": [
       "  0%|                                                                                                         …"
      ]
     },
     "metadata": {},
     "output_type": "display_data"
    },
    {
     "name": "stdout",
     "output_type": "stream",
     "text": [
      "/home/wmnlab/F/results/20240329_160006be6c_new_dataset_sync/dr_20240408_0555003db4_anchor_by_packet/dl_lost/A_20240408_0345025_35035/\\home\\wmnlab\\F\\database\\2024-03-20\\UDP_Bandlock_9S_Phone_A\\sm01\\#01\\data\\udp_dnlk_loss_latency\\home\\wmnlab\\F\\database\\2024-03-20\\UDP_Bandlock_9S_Phone_A\\sm06\\#01\\data\\udp_dnlk_loss_latency.csv\n",
      "./20240329_160006be6c_new_dataset_sync/dr_20240408_0555003db4_anchor_by_packet/dl_lost/results/A_20240408_0345025_35035.pkl\n",
      "14/72 /home/wmnlab/F/database/2024-03-20/UDP_Bandlock_9S_Phone_A/sm01/#01/data/handover_info_log.csv\n",
      "14/72 /home/wmnlab/F/database/2024-03-20/UDP_Bandlock_9S_Phone_A/sm01/#01/data/udp_dnlk_loss_latency.csv\n",
      "14/72 /home/wmnlab/F/database/2024-03-20/UDP_Bandlock_9S_Phone_A/sm07/#01/data/handover_info_log.csv\n",
      "14/72 /home/wmnlab/F/database/2024-03-20/UDP_Bandlock_9S_Phone_A/sm07/#01/data/udp_dnlk_loss_latency.csv\n"
     ]
    },
    {
     "data": {
      "application/vnd.jupyter.widget-view+json": {
       "model_id": "08e515c9a9f44c24a7d4259c8caa0c3f",
       "version_major": 2,
       "version_minor": 0
      },
      "text/plain": [
       "  0%|                                                                                                         …"
      ]
     },
     "metadata": {},
     "output_type": "display_data"
    },
    {
     "name": "stdout",
     "output_type": "stream",
     "text": [
      "/home/wmnlab/F/results/20240329_160006be6c_new_dataset_sync/dr_20240408_0555003db4_anchor_by_packet/dl_lost/A_20240408_0345025_35035/\\home\\wmnlab\\F\\database\\2024-03-20\\UDP_Bandlock_9S_Phone_A\\sm01\\#01\\data\\udp_dnlk_loss_latency\\home\\wmnlab\\F\\database\\2024-03-20\\UDP_Bandlock_9S_Phone_A\\sm07\\#01\\data\\udp_dnlk_loss_latency.csv\n",
      "./20240329_160006be6c_new_dataset_sync/dr_20240408_0555003db4_anchor_by_packet/dl_lost/results/A_20240408_0345025_35035.pkl\n",
      "15/72 /home/wmnlab/F/database/2024-03-20/UDP_Bandlock_9S_Phone_A/sm01/#01/data/handover_info_log.csv\n",
      "15/72 /home/wmnlab/F/database/2024-03-20/UDP_Bandlock_9S_Phone_A/sm01/#01/data/udp_dnlk_loss_latency.csv\n",
      "15/72 /home/wmnlab/F/database/2024-03-20/UDP_Bandlock_9S_Phone_A/sm08/#01/data/handover_info_log.csv\n",
      "15/72 /home/wmnlab/F/database/2024-03-20/UDP_Bandlock_9S_Phone_A/sm08/#01/data/udp_dnlk_loss_latency.csv\n"
     ]
    },
    {
     "data": {
      "application/vnd.jupyter.widget-view+json": {
       "model_id": "57f2788a13674c7195ca76a2ca38246b",
       "version_major": 2,
       "version_minor": 0
      },
      "text/plain": [
       "  0%|                                                                                                         …"
      ]
     },
     "metadata": {},
     "output_type": "display_data"
    },
    {
     "name": "stdout",
     "output_type": "stream",
     "text": [
      "/home/wmnlab/F/results/20240329_160006be6c_new_dataset_sync/dr_20240408_0555003db4_anchor_by_packet/dl_lost/A_20240408_0345025_35035/\\home\\wmnlab\\F\\database\\2024-03-20\\UDP_Bandlock_9S_Phone_A\\sm01\\#01\\data\\udp_dnlk_loss_latency\\home\\wmnlab\\F\\database\\2024-03-20\\UDP_Bandlock_9S_Phone_A\\sm08\\#01\\data\\udp_dnlk_loss_latency.csv\n",
      "./20240329_160006be6c_new_dataset_sync/dr_20240408_0555003db4_anchor_by_packet/dl_lost/results/A_20240408_0345025_35035.pkl\n",
      "16/72 /home/wmnlab/F/database/2024-03-20/UDP_Bandlock_9S_Phone_A/sm02/#01/data/handover_info_log.csv\n",
      "16/72 /home/wmnlab/F/database/2024-03-20/UDP_Bandlock_9S_Phone_A/sm02/#01/data/udp_dnlk_loss_latency.csv\n",
      "16/72 /home/wmnlab/F/database/2024-03-20/UDP_Bandlock_9S_Phone_A/sm03/#01/data/handover_info_log.csv\n",
      "16/72 /home/wmnlab/F/database/2024-03-20/UDP_Bandlock_9S_Phone_A/sm03/#01/data/udp_dnlk_loss_latency.csv\n"
     ]
    },
    {
     "data": {
      "application/vnd.jupyter.widget-view+json": {
       "model_id": "88cf2926186246658b6fde144d59acb3",
       "version_major": 2,
       "version_minor": 0
      },
      "text/plain": [
       "  0%|                                                                                                         …"
      ]
     },
     "metadata": {},
     "output_type": "display_data"
    },
    {
     "name": "stdout",
     "output_type": "stream",
     "text": [
      "/home/wmnlab/F/results/20240329_160006be6c_new_dataset_sync/dr_20240408_0555003db4_anchor_by_packet/dl_lost/A_20240408_0345025_35035/\\home\\wmnlab\\F\\database\\2024-03-20\\UDP_Bandlock_9S_Phone_A\\sm02\\#01\\data\\udp_dnlk_loss_latency\\home\\wmnlab\\F\\database\\2024-03-20\\UDP_Bandlock_9S_Phone_A\\sm03\\#01\\data\\udp_dnlk_loss_latency.csv\n",
      "./20240329_160006be6c_new_dataset_sync/dr_20240408_0555003db4_anchor_by_packet/dl_lost/results/A_20240408_0345025_35035.pkl\n",
      "17/72 /home/wmnlab/F/database/2024-03-20/UDP_Bandlock_9S_Phone_A/sm02/#01/data/handover_info_log.csv\n",
      "17/72 /home/wmnlab/F/database/2024-03-20/UDP_Bandlock_9S_Phone_A/sm02/#01/data/udp_dnlk_loss_latency.csv\n",
      "17/72 /home/wmnlab/F/database/2024-03-20/UDP_Bandlock_9S_Phone_A/sm04/#01/data/handover_info_log.csv\n",
      "17/72 /home/wmnlab/F/database/2024-03-20/UDP_Bandlock_9S_Phone_A/sm04/#01/data/udp_dnlk_loss_latency.csv\n"
     ]
    },
    {
     "data": {
      "application/vnd.jupyter.widget-view+json": {
       "model_id": "b335c7d4c1e74586aa7956af33f3d245",
       "version_major": 2,
       "version_minor": 0
      },
      "text/plain": [
       "  0%|                                                                                                         …"
      ]
     },
     "metadata": {},
     "output_type": "display_data"
    },
    {
     "name": "stdout",
     "output_type": "stream",
     "text": [
      "/home/wmnlab/F/results/20240329_160006be6c_new_dataset_sync/dr_20240408_0555003db4_anchor_by_packet/dl_lost/A_20240408_0345025_35035/\\home\\wmnlab\\F\\database\\2024-03-20\\UDP_Bandlock_9S_Phone_A\\sm02\\#01\\data\\udp_dnlk_loss_latency\\home\\wmnlab\\F\\database\\2024-03-20\\UDP_Bandlock_9S_Phone_A\\sm04\\#01\\data\\udp_dnlk_loss_latency.csv\n",
      "./20240329_160006be6c_new_dataset_sync/dr_20240408_0555003db4_anchor_by_packet/dl_lost/results/A_20240408_0345025_35035.pkl\n",
      "18/72 /home/wmnlab/F/database/2024-03-20/UDP_Bandlock_9S_Phone_A/sm02/#01/data/handover_info_log.csv\n",
      "18/72 /home/wmnlab/F/database/2024-03-20/UDP_Bandlock_9S_Phone_A/sm02/#01/data/udp_dnlk_loss_latency.csv\n",
      "18/72 /home/wmnlab/F/database/2024-03-20/UDP_Bandlock_9S_Phone_A/sm05/#01/data/handover_info_log.csv\n",
      "18/72 /home/wmnlab/F/database/2024-03-20/UDP_Bandlock_9S_Phone_A/sm05/#01/data/udp_dnlk_loss_latency.csv\n"
     ]
    },
    {
     "data": {
      "application/vnd.jupyter.widget-view+json": {
       "model_id": "e3db5482898c4cc88d625e26cd94c598",
       "version_major": 2,
       "version_minor": 0
      },
      "text/plain": [
       "  0%|                                                                                                         …"
      ]
     },
     "metadata": {},
     "output_type": "display_data"
    },
    {
     "name": "stdout",
     "output_type": "stream",
     "text": [
      "/home/wmnlab/F/results/20240329_160006be6c_new_dataset_sync/dr_20240408_0555003db4_anchor_by_packet/dl_lost/A_20240408_0345025_35035/\\home\\wmnlab\\F\\database\\2024-03-20\\UDP_Bandlock_9S_Phone_A\\sm02\\#01\\data\\udp_dnlk_loss_latency\\home\\wmnlab\\F\\database\\2024-03-20\\UDP_Bandlock_9S_Phone_A\\sm05\\#01\\data\\udp_dnlk_loss_latency.csv\n",
      "./20240329_160006be6c_new_dataset_sync/dr_20240408_0555003db4_anchor_by_packet/dl_lost/results/A_20240408_0345025_35035.pkl\n",
      "19/72 /home/wmnlab/F/database/2024-03-20/UDP_Bandlock_9S_Phone_A/sm02/#01/data/handover_info_log.csv\n",
      "19/72 /home/wmnlab/F/database/2024-03-20/UDP_Bandlock_9S_Phone_A/sm02/#01/data/udp_dnlk_loss_latency.csv\n",
      "19/72 /home/wmnlab/F/database/2024-03-20/UDP_Bandlock_9S_Phone_A/sm06/#01/data/handover_info_log.csv\n",
      "19/72 /home/wmnlab/F/database/2024-03-20/UDP_Bandlock_9S_Phone_A/sm06/#01/data/udp_dnlk_loss_latency.csv\n"
     ]
    },
    {
     "data": {
      "application/vnd.jupyter.widget-view+json": {
       "model_id": "fea4ebb1a3224cf999668cbdf61e4580",
       "version_major": 2,
       "version_minor": 0
      },
      "text/plain": [
       "  0%|                                                                                                         …"
      ]
     },
     "metadata": {},
     "output_type": "display_data"
    },
    {
     "name": "stdout",
     "output_type": "stream",
     "text": [
      "/home/wmnlab/F/results/20240329_160006be6c_new_dataset_sync/dr_20240408_0555003db4_anchor_by_packet/dl_lost/A_20240408_0345025_35035/\\home\\wmnlab\\F\\database\\2024-03-20\\UDP_Bandlock_9S_Phone_A\\sm02\\#01\\data\\udp_dnlk_loss_latency\\home\\wmnlab\\F\\database\\2024-03-20\\UDP_Bandlock_9S_Phone_A\\sm06\\#01\\data\\udp_dnlk_loss_latency.csv\n",
      "./20240329_160006be6c_new_dataset_sync/dr_20240408_0555003db4_anchor_by_packet/dl_lost/results/A_20240408_0345025_35035.pkl\n",
      "20/72 /home/wmnlab/F/database/2024-03-20/UDP_Bandlock_9S_Phone_A/sm02/#01/data/handover_info_log.csv\n",
      "20/72 /home/wmnlab/F/database/2024-03-20/UDP_Bandlock_9S_Phone_A/sm02/#01/data/udp_dnlk_loss_latency.csv\n",
      "20/72 /home/wmnlab/F/database/2024-03-20/UDP_Bandlock_9S_Phone_A/sm07/#01/data/handover_info_log.csv\n",
      "20/72 /home/wmnlab/F/database/2024-03-20/UDP_Bandlock_9S_Phone_A/sm07/#01/data/udp_dnlk_loss_latency.csv\n"
     ]
    },
    {
     "data": {
      "application/vnd.jupyter.widget-view+json": {
       "model_id": "5c2f1b85507440899bd3c58528fbca11",
       "version_major": 2,
       "version_minor": 0
      },
      "text/plain": [
       "  0%|                                                                                                         …"
      ]
     },
     "metadata": {},
     "output_type": "display_data"
    },
    {
     "name": "stdout",
     "output_type": "stream",
     "text": [
      "/home/wmnlab/F/results/20240329_160006be6c_new_dataset_sync/dr_20240408_0555003db4_anchor_by_packet/dl_lost/A_20240408_0345025_35035/\\home\\wmnlab\\F\\database\\2024-03-20\\UDP_Bandlock_9S_Phone_A\\sm02\\#01\\data\\udp_dnlk_loss_latency\\home\\wmnlab\\F\\database\\2024-03-20\\UDP_Bandlock_9S_Phone_A\\sm07\\#01\\data\\udp_dnlk_loss_latency.csv\n",
      "./20240329_160006be6c_new_dataset_sync/dr_20240408_0555003db4_anchor_by_packet/dl_lost/results/A_20240408_0345025_35035.pkl\n",
      "21/72 /home/wmnlab/F/database/2024-03-20/UDP_Bandlock_9S_Phone_A/sm02/#01/data/handover_info_log.csv\n",
      "21/72 /home/wmnlab/F/database/2024-03-20/UDP_Bandlock_9S_Phone_A/sm02/#01/data/udp_dnlk_loss_latency.csv\n",
      "21/72 /home/wmnlab/F/database/2024-03-20/UDP_Bandlock_9S_Phone_A/sm08/#01/data/handover_info_log.csv\n",
      "21/72 /home/wmnlab/F/database/2024-03-20/UDP_Bandlock_9S_Phone_A/sm08/#01/data/udp_dnlk_loss_latency.csv\n"
     ]
    },
    {
     "data": {
      "application/vnd.jupyter.widget-view+json": {
       "model_id": "ce9c5deff32c4178b5af1af362cb0bff",
       "version_major": 2,
       "version_minor": 0
      },
      "text/plain": [
       "  0%|                                                                                                         …"
      ]
     },
     "metadata": {},
     "output_type": "display_data"
    },
    {
     "name": "stdout",
     "output_type": "stream",
     "text": [
      "/home/wmnlab/F/results/20240329_160006be6c_new_dataset_sync/dr_20240408_0555003db4_anchor_by_packet/dl_lost/A_20240408_0345025_35035/\\home\\wmnlab\\F\\database\\2024-03-20\\UDP_Bandlock_9S_Phone_A\\sm02\\#01\\data\\udp_dnlk_loss_latency\\home\\wmnlab\\F\\database\\2024-03-20\\UDP_Bandlock_9S_Phone_A\\sm08\\#01\\data\\udp_dnlk_loss_latency.csv\n",
      "./20240329_160006be6c_new_dataset_sync/dr_20240408_0555003db4_anchor_by_packet/dl_lost/results/A_20240408_0345025_35035.pkl\n",
      "22/72 /home/wmnlab/F/database/2024-03-20/UDP_Bandlock_9S_Phone_A/sm03/#01/data/handover_info_log.csv\n",
      "22/72 /home/wmnlab/F/database/2024-03-20/UDP_Bandlock_9S_Phone_A/sm03/#01/data/udp_dnlk_loss_latency.csv\n",
      "22/72 /home/wmnlab/F/database/2024-03-20/UDP_Bandlock_9S_Phone_A/sm04/#01/data/handover_info_log.csv\n",
      "22/72 /home/wmnlab/F/database/2024-03-20/UDP_Bandlock_9S_Phone_A/sm04/#01/data/udp_dnlk_loss_latency.csv\n"
     ]
    },
    {
     "data": {
      "application/vnd.jupyter.widget-view+json": {
       "model_id": "e7519fc9842b4d6ea29c4d1298f22047",
       "version_major": 2,
       "version_minor": 0
      },
      "text/plain": [
       "  0%|                                                                                                         …"
      ]
     },
     "metadata": {},
     "output_type": "display_data"
    },
    {
     "name": "stdout",
     "output_type": "stream",
     "text": [
      "/home/wmnlab/F/results/20240329_160006be6c_new_dataset_sync/dr_20240408_0555003db4_anchor_by_packet/dl_lost/A_20240408_0345025_35035/\\home\\wmnlab\\F\\database\\2024-03-20\\UDP_Bandlock_9S_Phone_A\\sm03\\#01\\data\\udp_dnlk_loss_latency\\home\\wmnlab\\F\\database\\2024-03-20\\UDP_Bandlock_9S_Phone_A\\sm04\\#01\\data\\udp_dnlk_loss_latency.csv\n",
      "./20240329_160006be6c_new_dataset_sync/dr_20240408_0555003db4_anchor_by_packet/dl_lost/results/A_20240408_0345025_35035.pkl\n",
      "23/72 /home/wmnlab/F/database/2024-03-20/UDP_Bandlock_9S_Phone_A/sm03/#01/data/handover_info_log.csv\n",
      "23/72 /home/wmnlab/F/database/2024-03-20/UDP_Bandlock_9S_Phone_A/sm03/#01/data/udp_dnlk_loss_latency.csv\n",
      "23/72 /home/wmnlab/F/database/2024-03-20/UDP_Bandlock_9S_Phone_A/sm05/#01/data/handover_info_log.csv\n",
      "23/72 /home/wmnlab/F/database/2024-03-20/UDP_Bandlock_9S_Phone_A/sm05/#01/data/udp_dnlk_loss_latency.csv\n"
     ]
    },
    {
     "data": {
      "application/vnd.jupyter.widget-view+json": {
       "model_id": "35ac949c22da4ac4b516c9dfb6b4fff3",
       "version_major": 2,
       "version_minor": 0
      },
      "text/plain": [
       "  0%|                                                                                                         …"
      ]
     },
     "metadata": {},
     "output_type": "display_data"
    },
    {
     "name": "stdout",
     "output_type": "stream",
     "text": [
      "/home/wmnlab/F/results/20240329_160006be6c_new_dataset_sync/dr_20240408_0555003db4_anchor_by_packet/dl_lost/A_20240408_0345025_35035/\\home\\wmnlab\\F\\database\\2024-03-20\\UDP_Bandlock_9S_Phone_A\\sm03\\#01\\data\\udp_dnlk_loss_latency\\home\\wmnlab\\F\\database\\2024-03-20\\UDP_Bandlock_9S_Phone_A\\sm05\\#01\\data\\udp_dnlk_loss_latency.csv\n",
      "./20240329_160006be6c_new_dataset_sync/dr_20240408_0555003db4_anchor_by_packet/dl_lost/results/A_20240408_0345025_35035.pkl\n",
      "24/72 /home/wmnlab/F/database/2024-03-20/UDP_Bandlock_9S_Phone_A/sm03/#01/data/handover_info_log.csv\n",
      "24/72 /home/wmnlab/F/database/2024-03-20/UDP_Bandlock_9S_Phone_A/sm03/#01/data/udp_dnlk_loss_latency.csv\n",
      "24/72 /home/wmnlab/F/database/2024-03-20/UDP_Bandlock_9S_Phone_A/sm06/#01/data/handover_info_log.csv\n",
      "24/72 /home/wmnlab/F/database/2024-03-20/UDP_Bandlock_9S_Phone_A/sm06/#01/data/udp_dnlk_loss_latency.csv\n"
     ]
    },
    {
     "data": {
      "application/vnd.jupyter.widget-view+json": {
       "model_id": "9f12d4061f8a4c449c3d049995160d95",
       "version_major": 2,
       "version_minor": 0
      },
      "text/plain": [
       "  0%|                                                                                                         …"
      ]
     },
     "metadata": {},
     "output_type": "display_data"
    },
    {
     "name": "stdout",
     "output_type": "stream",
     "text": [
      "/home/wmnlab/F/results/20240329_160006be6c_new_dataset_sync/dr_20240408_0555003db4_anchor_by_packet/dl_lost/A_20240408_0345025_35035/\\home\\wmnlab\\F\\database\\2024-03-20\\UDP_Bandlock_9S_Phone_A\\sm03\\#01\\data\\udp_dnlk_loss_latency\\home\\wmnlab\\F\\database\\2024-03-20\\UDP_Bandlock_9S_Phone_A\\sm06\\#01\\data\\udp_dnlk_loss_latency.csv\n",
      "./20240329_160006be6c_new_dataset_sync/dr_20240408_0555003db4_anchor_by_packet/dl_lost/results/A_20240408_0345025_35035.pkl\n",
      "25/72 /home/wmnlab/F/database/2024-03-20/UDP_Bandlock_9S_Phone_A/sm03/#01/data/handover_info_log.csv\n",
      "25/72 /home/wmnlab/F/database/2024-03-20/UDP_Bandlock_9S_Phone_A/sm03/#01/data/udp_dnlk_loss_latency.csv\n",
      "25/72 /home/wmnlab/F/database/2024-03-20/UDP_Bandlock_9S_Phone_A/sm07/#01/data/handover_info_log.csv\n",
      "25/72 /home/wmnlab/F/database/2024-03-20/UDP_Bandlock_9S_Phone_A/sm07/#01/data/udp_dnlk_loss_latency.csv\n"
     ]
    },
    {
     "data": {
      "application/vnd.jupyter.widget-view+json": {
       "model_id": "fee36100f0d245d3ab68a43f425b48a3",
       "version_major": 2,
       "version_minor": 0
      },
      "text/plain": [
       "  0%|                                                                                                         …"
      ]
     },
     "metadata": {},
     "output_type": "display_data"
    },
    {
     "name": "stdout",
     "output_type": "stream",
     "text": [
      "/home/wmnlab/F/results/20240329_160006be6c_new_dataset_sync/dr_20240408_0555003db4_anchor_by_packet/dl_lost/A_20240408_0345025_35035/\\home\\wmnlab\\F\\database\\2024-03-20\\UDP_Bandlock_9S_Phone_A\\sm03\\#01\\data\\udp_dnlk_loss_latency\\home\\wmnlab\\F\\database\\2024-03-20\\UDP_Bandlock_9S_Phone_A\\sm07\\#01\\data\\udp_dnlk_loss_latency.csv\n",
      "./20240329_160006be6c_new_dataset_sync/dr_20240408_0555003db4_anchor_by_packet/dl_lost/results/A_20240408_0345025_35035.pkl\n",
      "26/72 /home/wmnlab/F/database/2024-03-20/UDP_Bandlock_9S_Phone_A/sm03/#01/data/handover_info_log.csv\n",
      "26/72 /home/wmnlab/F/database/2024-03-20/UDP_Bandlock_9S_Phone_A/sm03/#01/data/udp_dnlk_loss_latency.csv\n",
      "26/72 /home/wmnlab/F/database/2024-03-20/UDP_Bandlock_9S_Phone_A/sm08/#01/data/handover_info_log.csv\n",
      "26/72 /home/wmnlab/F/database/2024-03-20/UDP_Bandlock_9S_Phone_A/sm08/#01/data/udp_dnlk_loss_latency.csv\n"
     ]
    },
    {
     "data": {
      "application/vnd.jupyter.widget-view+json": {
       "model_id": "e3cd27cc8aea435eacbc94bbc5ca3061",
       "version_major": 2,
       "version_minor": 0
      },
      "text/plain": [
       "  0%|                                                                                                         …"
      ]
     },
     "metadata": {},
     "output_type": "display_data"
    },
    {
     "name": "stdout",
     "output_type": "stream",
     "text": [
      "/home/wmnlab/F/results/20240329_160006be6c_new_dataset_sync/dr_20240408_0555003db4_anchor_by_packet/dl_lost/A_20240408_0345025_35035/\\home\\wmnlab\\F\\database\\2024-03-20\\UDP_Bandlock_9S_Phone_A\\sm03\\#01\\data\\udp_dnlk_loss_latency\\home\\wmnlab\\F\\database\\2024-03-20\\UDP_Bandlock_9S_Phone_A\\sm08\\#01\\data\\udp_dnlk_loss_latency.csv\n",
      "./20240329_160006be6c_new_dataset_sync/dr_20240408_0555003db4_anchor_by_packet/dl_lost/results/A_20240408_0345025_35035.pkl\n",
      "27/72 /home/wmnlab/F/database/2024-03-20/UDP_Bandlock_9S_Phone_A/sm04/#01/data/handover_info_log.csv\n",
      "27/72 /home/wmnlab/F/database/2024-03-20/UDP_Bandlock_9S_Phone_A/sm04/#01/data/udp_dnlk_loss_latency.csv\n",
      "27/72 /home/wmnlab/F/database/2024-03-20/UDP_Bandlock_9S_Phone_A/sm05/#01/data/handover_info_log.csv\n",
      "27/72 /home/wmnlab/F/database/2024-03-20/UDP_Bandlock_9S_Phone_A/sm05/#01/data/udp_dnlk_loss_latency.csv\n"
     ]
    },
    {
     "data": {
      "application/vnd.jupyter.widget-view+json": {
       "model_id": "64022c021d674386b9755c1133d3f84b",
       "version_major": 2,
       "version_minor": 0
      },
      "text/plain": [
       "  0%|                                                                                                         …"
      ]
     },
     "metadata": {},
     "output_type": "display_data"
    },
    {
     "name": "stdout",
     "output_type": "stream",
     "text": [
      "/home/wmnlab/F/results/20240329_160006be6c_new_dataset_sync/dr_20240408_0555003db4_anchor_by_packet/dl_lost/A_20240408_0345025_35035/\\home\\wmnlab\\F\\database\\2024-03-20\\UDP_Bandlock_9S_Phone_A\\sm04\\#01\\data\\udp_dnlk_loss_latency\\home\\wmnlab\\F\\database\\2024-03-20\\UDP_Bandlock_9S_Phone_A\\sm05\\#01\\data\\udp_dnlk_loss_latency.csv\n",
      "./20240329_160006be6c_new_dataset_sync/dr_20240408_0555003db4_anchor_by_packet/dl_lost/results/A_20240408_0345025_35035.pkl\n",
      "28/72 /home/wmnlab/F/database/2024-03-20/UDP_Bandlock_9S_Phone_A/sm04/#01/data/handover_info_log.csv\n",
      "28/72 /home/wmnlab/F/database/2024-03-20/UDP_Bandlock_9S_Phone_A/sm04/#01/data/udp_dnlk_loss_latency.csv\n",
      "28/72 /home/wmnlab/F/database/2024-03-20/UDP_Bandlock_9S_Phone_A/sm06/#01/data/handover_info_log.csv\n",
      "28/72 /home/wmnlab/F/database/2024-03-20/UDP_Bandlock_9S_Phone_A/sm06/#01/data/udp_dnlk_loss_latency.csv\n"
     ]
    },
    {
     "data": {
      "application/vnd.jupyter.widget-view+json": {
       "model_id": "ef8d5df0d774489ea048da9f1748a913",
       "version_major": 2,
       "version_minor": 0
      },
      "text/plain": [
       "  0%|                                                                                                         …"
      ]
     },
     "metadata": {},
     "output_type": "display_data"
    },
    {
     "name": "stdout",
     "output_type": "stream",
     "text": [
      "/home/wmnlab/F/results/20240329_160006be6c_new_dataset_sync/dr_20240408_0555003db4_anchor_by_packet/dl_lost/A_20240408_0345025_35035/\\home\\wmnlab\\F\\database\\2024-03-20\\UDP_Bandlock_9S_Phone_A\\sm04\\#01\\data\\udp_dnlk_loss_latency\\home\\wmnlab\\F\\database\\2024-03-20\\UDP_Bandlock_9S_Phone_A\\sm06\\#01\\data\\udp_dnlk_loss_latency.csv\n",
      "./20240329_160006be6c_new_dataset_sync/dr_20240408_0555003db4_anchor_by_packet/dl_lost/results/A_20240408_0345025_35035.pkl\n",
      "29/72 /home/wmnlab/F/database/2024-03-20/UDP_Bandlock_9S_Phone_A/sm04/#01/data/handover_info_log.csv\n",
      "29/72 /home/wmnlab/F/database/2024-03-20/UDP_Bandlock_9S_Phone_A/sm04/#01/data/udp_dnlk_loss_latency.csv\n",
      "29/72 /home/wmnlab/F/database/2024-03-20/UDP_Bandlock_9S_Phone_A/sm07/#01/data/handover_info_log.csv\n",
      "29/72 /home/wmnlab/F/database/2024-03-20/UDP_Bandlock_9S_Phone_A/sm07/#01/data/udp_dnlk_loss_latency.csv\n"
     ]
    },
    {
     "data": {
      "application/vnd.jupyter.widget-view+json": {
       "model_id": "477ebadba3504edbbfa8f0a0008db575",
       "version_major": 2,
       "version_minor": 0
      },
      "text/plain": [
       "  0%|                                                                                                         …"
      ]
     },
     "metadata": {},
     "output_type": "display_data"
    },
    {
     "name": "stdout",
     "output_type": "stream",
     "text": [
      "/home/wmnlab/F/results/20240329_160006be6c_new_dataset_sync/dr_20240408_0555003db4_anchor_by_packet/dl_lost/A_20240408_0345025_35035/\\home\\wmnlab\\F\\database\\2024-03-20\\UDP_Bandlock_9S_Phone_A\\sm04\\#01\\data\\udp_dnlk_loss_latency\\home\\wmnlab\\F\\database\\2024-03-20\\UDP_Bandlock_9S_Phone_A\\sm07\\#01\\data\\udp_dnlk_loss_latency.csv\n",
      "./20240329_160006be6c_new_dataset_sync/dr_20240408_0555003db4_anchor_by_packet/dl_lost/results/A_20240408_0345025_35035.pkl\n",
      "30/72 /home/wmnlab/F/database/2024-03-20/UDP_Bandlock_9S_Phone_A/sm04/#01/data/handover_info_log.csv\n",
      "30/72 /home/wmnlab/F/database/2024-03-20/UDP_Bandlock_9S_Phone_A/sm04/#01/data/udp_dnlk_loss_latency.csv\n",
      "30/72 /home/wmnlab/F/database/2024-03-20/UDP_Bandlock_9S_Phone_A/sm08/#01/data/handover_info_log.csv\n",
      "30/72 /home/wmnlab/F/database/2024-03-20/UDP_Bandlock_9S_Phone_A/sm08/#01/data/udp_dnlk_loss_latency.csv\n"
     ]
    },
    {
     "data": {
      "application/vnd.jupyter.widget-view+json": {
       "model_id": "04231f25c7bb467d8b3a06ee25e9224c",
       "version_major": 2,
       "version_minor": 0
      },
      "text/plain": [
       "  0%|                                                                                                         …"
      ]
     },
     "metadata": {},
     "output_type": "display_data"
    },
    {
     "name": "stdout",
     "output_type": "stream",
     "text": [
      "/home/wmnlab/F/results/20240329_160006be6c_new_dataset_sync/dr_20240408_0555003db4_anchor_by_packet/dl_lost/A_20240408_0345025_35035/\\home\\wmnlab\\F\\database\\2024-03-20\\UDP_Bandlock_9S_Phone_A\\sm04\\#01\\data\\udp_dnlk_loss_latency\\home\\wmnlab\\F\\database\\2024-03-20\\UDP_Bandlock_9S_Phone_A\\sm08\\#01\\data\\udp_dnlk_loss_latency.csv\n",
      "./20240329_160006be6c_new_dataset_sync/dr_20240408_0555003db4_anchor_by_packet/dl_lost/results/A_20240408_0345025_35035.pkl\n",
      "31/72 /home/wmnlab/F/database/2024-03-20/UDP_Bandlock_9S_Phone_A/sm05/#01/data/handover_info_log.csv\n",
      "31/72 /home/wmnlab/F/database/2024-03-20/UDP_Bandlock_9S_Phone_A/sm05/#01/data/udp_dnlk_loss_latency.csv\n",
      "31/72 /home/wmnlab/F/database/2024-03-20/UDP_Bandlock_9S_Phone_A/sm06/#01/data/handover_info_log.csv\n",
      "31/72 /home/wmnlab/F/database/2024-03-20/UDP_Bandlock_9S_Phone_A/sm06/#01/data/udp_dnlk_loss_latency.csv\n"
     ]
    },
    {
     "data": {
      "application/vnd.jupyter.widget-view+json": {
       "model_id": "409cf9ba93d54d7aaa7e06f5ecadbeda",
       "version_major": 2,
       "version_minor": 0
      },
      "text/plain": [
       "  0%|                                                                                                         …"
      ]
     },
     "metadata": {},
     "output_type": "display_data"
    },
    {
     "name": "stdout",
     "output_type": "stream",
     "text": [
      "/home/wmnlab/F/results/20240329_160006be6c_new_dataset_sync/dr_20240408_0555003db4_anchor_by_packet/dl_lost/A_20240408_0345025_35035/\\home\\wmnlab\\F\\database\\2024-03-20\\UDP_Bandlock_9S_Phone_A\\sm05\\#01\\data\\udp_dnlk_loss_latency\\home\\wmnlab\\F\\database\\2024-03-20\\UDP_Bandlock_9S_Phone_A\\sm06\\#01\\data\\udp_dnlk_loss_latency.csv\n",
      "./20240329_160006be6c_new_dataset_sync/dr_20240408_0555003db4_anchor_by_packet/dl_lost/results/A_20240408_0345025_35035.pkl\n",
      "32/72 /home/wmnlab/F/database/2024-03-20/UDP_Bandlock_9S_Phone_A/sm05/#01/data/handover_info_log.csv\n",
      "32/72 /home/wmnlab/F/database/2024-03-20/UDP_Bandlock_9S_Phone_A/sm05/#01/data/udp_dnlk_loss_latency.csv\n",
      "32/72 /home/wmnlab/F/database/2024-03-20/UDP_Bandlock_9S_Phone_A/sm07/#01/data/handover_info_log.csv\n",
      "32/72 /home/wmnlab/F/database/2024-03-20/UDP_Bandlock_9S_Phone_A/sm07/#01/data/udp_dnlk_loss_latency.csv\n"
     ]
    },
    {
     "data": {
      "application/vnd.jupyter.widget-view+json": {
       "model_id": "d57788a9d1b64a5ebfa6cdb0688558ab",
       "version_major": 2,
       "version_minor": 0
      },
      "text/plain": [
       "  0%|                                                                                                         …"
      ]
     },
     "metadata": {},
     "output_type": "display_data"
    },
    {
     "name": "stdout",
     "output_type": "stream",
     "text": [
      "/home/wmnlab/F/results/20240329_160006be6c_new_dataset_sync/dr_20240408_0555003db4_anchor_by_packet/dl_lost/A_20240408_0345025_35035/\\home\\wmnlab\\F\\database\\2024-03-20\\UDP_Bandlock_9S_Phone_A\\sm05\\#01\\data\\udp_dnlk_loss_latency\\home\\wmnlab\\F\\database\\2024-03-20\\UDP_Bandlock_9S_Phone_A\\sm07\\#01\\data\\udp_dnlk_loss_latency.csv\n",
      "./20240329_160006be6c_new_dataset_sync/dr_20240408_0555003db4_anchor_by_packet/dl_lost/results/A_20240408_0345025_35035.pkl\n",
      "33/72 /home/wmnlab/F/database/2024-03-20/UDP_Bandlock_9S_Phone_A/sm05/#01/data/handover_info_log.csv\n",
      "33/72 /home/wmnlab/F/database/2024-03-20/UDP_Bandlock_9S_Phone_A/sm05/#01/data/udp_dnlk_loss_latency.csv\n",
      "33/72 /home/wmnlab/F/database/2024-03-20/UDP_Bandlock_9S_Phone_A/sm08/#01/data/handover_info_log.csv\n",
      "33/72 /home/wmnlab/F/database/2024-03-20/UDP_Bandlock_9S_Phone_A/sm08/#01/data/udp_dnlk_loss_latency.csv\n"
     ]
    },
    {
     "data": {
      "application/vnd.jupyter.widget-view+json": {
       "model_id": "5501cca4df4a4f1d80f2c7459f6b224b",
       "version_major": 2,
       "version_minor": 0
      },
      "text/plain": [
       "  0%|                                                                                                         …"
      ]
     },
     "metadata": {},
     "output_type": "display_data"
    },
    {
     "name": "stdout",
     "output_type": "stream",
     "text": [
      "/home/wmnlab/F/results/20240329_160006be6c_new_dataset_sync/dr_20240408_0555003db4_anchor_by_packet/dl_lost/A_20240408_0345025_35035/\\home\\wmnlab\\F\\database\\2024-03-20\\UDP_Bandlock_9S_Phone_A\\sm05\\#01\\data\\udp_dnlk_loss_latency\\home\\wmnlab\\F\\database\\2024-03-20\\UDP_Bandlock_9S_Phone_A\\sm08\\#01\\data\\udp_dnlk_loss_latency.csv\n",
      "./20240329_160006be6c_new_dataset_sync/dr_20240408_0555003db4_anchor_by_packet/dl_lost/results/A_20240408_0345025_35035.pkl\n",
      "34/72 /home/wmnlab/F/database/2024-03-20/UDP_Bandlock_9S_Phone_A/sm06/#01/data/handover_info_log.csv\n",
      "34/72 /home/wmnlab/F/database/2024-03-20/UDP_Bandlock_9S_Phone_A/sm06/#01/data/udp_dnlk_loss_latency.csv\n",
      "34/72 /home/wmnlab/F/database/2024-03-20/UDP_Bandlock_9S_Phone_A/sm07/#01/data/handover_info_log.csv\n",
      "34/72 /home/wmnlab/F/database/2024-03-20/UDP_Bandlock_9S_Phone_A/sm07/#01/data/udp_dnlk_loss_latency.csv\n"
     ]
    },
    {
     "data": {
      "application/vnd.jupyter.widget-view+json": {
       "model_id": "70fb6336a94c46e390aa72efc4e35283",
       "version_major": 2,
       "version_minor": 0
      },
      "text/plain": [
       "  0%|                                                                                                         …"
      ]
     },
     "metadata": {},
     "output_type": "display_data"
    },
    {
     "name": "stdout",
     "output_type": "stream",
     "text": [
      "/home/wmnlab/F/results/20240329_160006be6c_new_dataset_sync/dr_20240408_0555003db4_anchor_by_packet/dl_lost/A_20240408_0345025_35035/\\home\\wmnlab\\F\\database\\2024-03-20\\UDP_Bandlock_9S_Phone_A\\sm06\\#01\\data\\udp_dnlk_loss_latency\\home\\wmnlab\\F\\database\\2024-03-20\\UDP_Bandlock_9S_Phone_A\\sm07\\#01\\data\\udp_dnlk_loss_latency.csv\n",
      "./20240329_160006be6c_new_dataset_sync/dr_20240408_0555003db4_anchor_by_packet/dl_lost/results/A_20240408_0345025_35035.pkl\n",
      "35/72 /home/wmnlab/F/database/2024-03-20/UDP_Bandlock_9S_Phone_A/sm06/#01/data/handover_info_log.csv\n",
      "35/72 /home/wmnlab/F/database/2024-03-20/UDP_Bandlock_9S_Phone_A/sm06/#01/data/udp_dnlk_loss_latency.csv\n",
      "35/72 /home/wmnlab/F/database/2024-03-20/UDP_Bandlock_9S_Phone_A/sm08/#01/data/handover_info_log.csv\n",
      "35/72 /home/wmnlab/F/database/2024-03-20/UDP_Bandlock_9S_Phone_A/sm08/#01/data/udp_dnlk_loss_latency.csv\n"
     ]
    },
    {
     "data": {
      "application/vnd.jupyter.widget-view+json": {
       "model_id": "a31620059bcd464888fcbac532dc2718",
       "version_major": 2,
       "version_minor": 0
      },
      "text/plain": [
       "  0%|                                                                                                         …"
      ]
     },
     "metadata": {},
     "output_type": "display_data"
    },
    {
     "name": "stdout",
     "output_type": "stream",
     "text": [
      "/home/wmnlab/F/results/20240329_160006be6c_new_dataset_sync/dr_20240408_0555003db4_anchor_by_packet/dl_lost/A_20240408_0345025_35035/\\home\\wmnlab\\F\\database\\2024-03-20\\UDP_Bandlock_9S_Phone_A\\sm06\\#01\\data\\udp_dnlk_loss_latency\\home\\wmnlab\\F\\database\\2024-03-20\\UDP_Bandlock_9S_Phone_A\\sm08\\#01\\data\\udp_dnlk_loss_latency.csv\n",
      "./20240329_160006be6c_new_dataset_sync/dr_20240408_0555003db4_anchor_by_packet/dl_lost/results/A_20240408_0345025_35035.pkl\n",
      "36/72 /home/wmnlab/F/database/2024-03-20/UDP_Bandlock_9S_Phone_A/sm07/#01/data/handover_info_log.csv\n",
      "36/72 /home/wmnlab/F/database/2024-03-20/UDP_Bandlock_9S_Phone_A/sm07/#01/data/udp_dnlk_loss_latency.csv\n",
      "36/72 /home/wmnlab/F/database/2024-03-20/UDP_Bandlock_9S_Phone_A/sm08/#01/data/handover_info_log.csv\n",
      "36/72 /home/wmnlab/F/database/2024-03-20/UDP_Bandlock_9S_Phone_A/sm08/#01/data/udp_dnlk_loss_latency.csv\n"
     ]
    },
    {
     "data": {
      "application/vnd.jupyter.widget-view+json": {
       "model_id": "0c07d5f0dc0c46ac96ddcda9a9ccdd0a",
       "version_major": 2,
       "version_minor": 0
      },
      "text/plain": [
       "  0%|                                                                                                         …"
      ]
     },
     "metadata": {},
     "output_type": "display_data"
    },
    {
     "name": "stdout",
     "output_type": "stream",
     "text": [
      "/home/wmnlab/F/results/20240329_160006be6c_new_dataset_sync/dr_20240408_0555003db4_anchor_by_packet/dl_lost/A_20240408_0345025_35035/\\home\\wmnlab\\F\\database\\2024-03-20\\UDP_Bandlock_9S_Phone_A\\sm07\\#01\\data\\udp_dnlk_loss_latency\\home\\wmnlab\\F\\database\\2024-03-20\\UDP_Bandlock_9S_Phone_A\\sm08\\#01\\data\\udp_dnlk_loss_latency.csv\n",
      "./20240329_160006be6c_new_dataset_sync/dr_20240408_0555003db4_anchor_by_packet/dl_lost/results/A_20240408_0345025_35035.pkl\n",
      "37/72 /home/wmnlab/F/database/2024-03-20/UDP_Bandlock_9S_Phone_A/sm00/#02/data/handover_info_log.csv\n",
      "37/72 /home/wmnlab/F/database/2024-03-20/UDP_Bandlock_9S_Phone_A/sm00/#02/data/udp_dnlk_loss_latency.csv\n",
      "37/72 /home/wmnlab/F/database/2024-03-20/UDP_Bandlock_9S_Phone_A/sm01/#02/data/handover_info_log.csv\n",
      "37/72 /home/wmnlab/F/database/2024-03-20/UDP_Bandlock_9S_Phone_A/sm01/#02/data/udp_dnlk_loss_latency.csv\n"
     ]
    },
    {
     "data": {
      "application/vnd.jupyter.widget-view+json": {
       "model_id": "5997853d81794da2b077d4364ce19b3f",
       "version_major": 2,
       "version_minor": 0
      },
      "text/plain": [
       "  0%|                                                                                                         …"
      ]
     },
     "metadata": {},
     "output_type": "display_data"
    },
    {
     "name": "stdout",
     "output_type": "stream",
     "text": [
      "/home/wmnlab/F/results/20240329_160006be6c_new_dataset_sync/dr_20240408_0555003db4_anchor_by_packet/dl_lost/A_20240408_0345025_35035/\\home\\wmnlab\\F\\database\\2024-03-20\\UDP_Bandlock_9S_Phone_A\\sm00\\#02\\data\\udp_dnlk_loss_latency\\home\\wmnlab\\F\\database\\2024-03-20\\UDP_Bandlock_9S_Phone_A\\sm01\\#02\\data\\udp_dnlk_loss_latency.csv\n",
      "./20240329_160006be6c_new_dataset_sync/dr_20240408_0555003db4_anchor_by_packet/dl_lost/results/A_20240408_0345025_35035.pkl\n",
      "38/72 /home/wmnlab/F/database/2024-03-20/UDP_Bandlock_9S_Phone_A/sm00/#02/data/handover_info_log.csv\n",
      "38/72 /home/wmnlab/F/database/2024-03-20/UDP_Bandlock_9S_Phone_A/sm00/#02/data/udp_dnlk_loss_latency.csv\n",
      "38/72 /home/wmnlab/F/database/2024-03-20/UDP_Bandlock_9S_Phone_A/sm02/#02/data/handover_info_log.csv\n",
      "38/72 /home/wmnlab/F/database/2024-03-20/UDP_Bandlock_9S_Phone_A/sm02/#02/data/udp_dnlk_loss_latency.csv\n"
     ]
    },
    {
     "data": {
      "application/vnd.jupyter.widget-view+json": {
       "model_id": "d0221567642147ad92622ff90710c999",
       "version_major": 2,
       "version_minor": 0
      },
      "text/plain": [
       "  0%|                                                                                                         …"
      ]
     },
     "metadata": {},
     "output_type": "display_data"
    },
    {
     "name": "stdout",
     "output_type": "stream",
     "text": [
      "/home/wmnlab/F/results/20240329_160006be6c_new_dataset_sync/dr_20240408_0555003db4_anchor_by_packet/dl_lost/A_20240408_0345025_35035/\\home\\wmnlab\\F\\database\\2024-03-20\\UDP_Bandlock_9S_Phone_A\\sm00\\#02\\data\\udp_dnlk_loss_latency\\home\\wmnlab\\F\\database\\2024-03-20\\UDP_Bandlock_9S_Phone_A\\sm02\\#02\\data\\udp_dnlk_loss_latency.csv\n",
      "./20240329_160006be6c_new_dataset_sync/dr_20240408_0555003db4_anchor_by_packet/dl_lost/results/A_20240408_0345025_35035.pkl\n",
      "39/72 /home/wmnlab/F/database/2024-03-20/UDP_Bandlock_9S_Phone_A/sm00/#02/data/handover_info_log.csv\n",
      "39/72 /home/wmnlab/F/database/2024-03-20/UDP_Bandlock_9S_Phone_A/sm00/#02/data/udp_dnlk_loss_latency.csv\n",
      "39/72 /home/wmnlab/F/database/2024-03-20/UDP_Bandlock_9S_Phone_A/sm03/#02/data/handover_info_log.csv\n",
      "39/72 /home/wmnlab/F/database/2024-03-20/UDP_Bandlock_9S_Phone_A/sm03/#02/data/udp_dnlk_loss_latency.csv\n"
     ]
    },
    {
     "data": {
      "application/vnd.jupyter.widget-view+json": {
       "model_id": "cd238f0ff124438c9a0525b6088c317c",
       "version_major": 2,
       "version_minor": 0
      },
      "text/plain": [
       "  0%|                                                                                                         …"
      ]
     },
     "metadata": {},
     "output_type": "display_data"
    },
    {
     "name": "stdout",
     "output_type": "stream",
     "text": [
      "/home/wmnlab/F/results/20240329_160006be6c_new_dataset_sync/dr_20240408_0555003db4_anchor_by_packet/dl_lost/A_20240408_0345025_35035/\\home\\wmnlab\\F\\database\\2024-03-20\\UDP_Bandlock_9S_Phone_A\\sm00\\#02\\data\\udp_dnlk_loss_latency\\home\\wmnlab\\F\\database\\2024-03-20\\UDP_Bandlock_9S_Phone_A\\sm03\\#02\\data\\udp_dnlk_loss_latency.csv\n",
      "./20240329_160006be6c_new_dataset_sync/dr_20240408_0555003db4_anchor_by_packet/dl_lost/results/A_20240408_0345025_35035.pkl\n",
      "40/72 /home/wmnlab/F/database/2024-03-20/UDP_Bandlock_9S_Phone_A/sm00/#02/data/handover_info_log.csv\n",
      "40/72 /home/wmnlab/F/database/2024-03-20/UDP_Bandlock_9S_Phone_A/sm00/#02/data/udp_dnlk_loss_latency.csv\n",
      "40/72 /home/wmnlab/F/database/2024-03-20/UDP_Bandlock_9S_Phone_A/sm04/#02/data/handover_info_log.csv\n",
      "40/72 /home/wmnlab/F/database/2024-03-20/UDP_Bandlock_9S_Phone_A/sm04/#02/data/udp_dnlk_loss_latency.csv\n"
     ]
    },
    {
     "data": {
      "application/vnd.jupyter.widget-view+json": {
       "model_id": "a512073ccdd74c378319e0556a0b9379",
       "version_major": 2,
       "version_minor": 0
      },
      "text/plain": [
       "  0%|                                                                                                         …"
      ]
     },
     "metadata": {},
     "output_type": "display_data"
    },
    {
     "name": "stdout",
     "output_type": "stream",
     "text": [
      "/home/wmnlab/F/results/20240329_160006be6c_new_dataset_sync/dr_20240408_0555003db4_anchor_by_packet/dl_lost/A_20240408_0345025_35035/\\home\\wmnlab\\F\\database\\2024-03-20\\UDP_Bandlock_9S_Phone_A\\sm00\\#02\\data\\udp_dnlk_loss_latency\\home\\wmnlab\\F\\database\\2024-03-20\\UDP_Bandlock_9S_Phone_A\\sm04\\#02\\data\\udp_dnlk_loss_latency.csv\n",
      "./20240329_160006be6c_new_dataset_sync/dr_20240408_0555003db4_anchor_by_packet/dl_lost/results/A_20240408_0345025_35035.pkl\n",
      "41/72 /home/wmnlab/F/database/2024-03-20/UDP_Bandlock_9S_Phone_A/sm00/#02/data/handover_info_log.csv\n",
      "41/72 /home/wmnlab/F/database/2024-03-20/UDP_Bandlock_9S_Phone_A/sm00/#02/data/udp_dnlk_loss_latency.csv\n",
      "41/72 /home/wmnlab/F/database/2024-03-20/UDP_Bandlock_9S_Phone_A/sm05/#02/data/handover_info_log.csv\n",
      "41/72 /home/wmnlab/F/database/2024-03-20/UDP_Bandlock_9S_Phone_A/sm05/#02/data/udp_dnlk_loss_latency.csv\n"
     ]
    },
    {
     "data": {
      "application/vnd.jupyter.widget-view+json": {
       "model_id": "54e1d5b1fbe24e0fb1e1dec4ed7b386b",
       "version_major": 2,
       "version_minor": 0
      },
      "text/plain": [
       "  0%|                                                                                                         …"
      ]
     },
     "metadata": {},
     "output_type": "display_data"
    },
    {
     "name": "stdout",
     "output_type": "stream",
     "text": [
      "/home/wmnlab/F/results/20240329_160006be6c_new_dataset_sync/dr_20240408_0555003db4_anchor_by_packet/dl_lost/A_20240408_0345025_35035/\\home\\wmnlab\\F\\database\\2024-03-20\\UDP_Bandlock_9S_Phone_A\\sm00\\#02\\data\\udp_dnlk_loss_latency\\home\\wmnlab\\F\\database\\2024-03-20\\UDP_Bandlock_9S_Phone_A\\sm05\\#02\\data\\udp_dnlk_loss_latency.csv\n",
      "./20240329_160006be6c_new_dataset_sync/dr_20240408_0555003db4_anchor_by_packet/dl_lost/results/A_20240408_0345025_35035.pkl\n",
      "42/72 /home/wmnlab/F/database/2024-03-20/UDP_Bandlock_9S_Phone_A/sm00/#02/data/handover_info_log.csv\n",
      "42/72 /home/wmnlab/F/database/2024-03-20/UDP_Bandlock_9S_Phone_A/sm00/#02/data/udp_dnlk_loss_latency.csv\n",
      "42/72 /home/wmnlab/F/database/2024-03-20/UDP_Bandlock_9S_Phone_A/sm06/#02/data/handover_info_log.csv\n",
      "42/72 /home/wmnlab/F/database/2024-03-20/UDP_Bandlock_9S_Phone_A/sm06/#02/data/udp_dnlk_loss_latency.csv\n"
     ]
    },
    {
     "data": {
      "application/vnd.jupyter.widget-view+json": {
       "model_id": "b96d78b4795243e89298e14f73e895ba",
       "version_major": 2,
       "version_minor": 0
      },
      "text/plain": [
       "  0%|                                                                                                         …"
      ]
     },
     "metadata": {},
     "output_type": "display_data"
    },
    {
     "name": "stdout",
     "output_type": "stream",
     "text": [
      "/home/wmnlab/F/results/20240329_160006be6c_new_dataset_sync/dr_20240408_0555003db4_anchor_by_packet/dl_lost/A_20240408_0345025_35035/\\home\\wmnlab\\F\\database\\2024-03-20\\UDP_Bandlock_9S_Phone_A\\sm00\\#02\\data\\udp_dnlk_loss_latency\\home\\wmnlab\\F\\database\\2024-03-20\\UDP_Bandlock_9S_Phone_A\\sm06\\#02\\data\\udp_dnlk_loss_latency.csv\n",
      "./20240329_160006be6c_new_dataset_sync/dr_20240408_0555003db4_anchor_by_packet/dl_lost/results/A_20240408_0345025_35035.pkl\n",
      "43/72 /home/wmnlab/F/database/2024-03-20/UDP_Bandlock_9S_Phone_A/sm00/#02/data/handover_info_log.csv\n",
      "43/72 /home/wmnlab/F/database/2024-03-20/UDP_Bandlock_9S_Phone_A/sm00/#02/data/udp_dnlk_loss_latency.csv\n",
      "43/72 /home/wmnlab/F/database/2024-03-20/UDP_Bandlock_9S_Phone_A/sm07/#02/data/handover_info_log.csv\n",
      "43/72 /home/wmnlab/F/database/2024-03-20/UDP_Bandlock_9S_Phone_A/sm07/#02/data/udp_dnlk_loss_latency.csv\n"
     ]
    },
    {
     "data": {
      "application/vnd.jupyter.widget-view+json": {
       "model_id": "a73f2a1ccf8f460ea3860b455b47e2c2",
       "version_major": 2,
       "version_minor": 0
      },
      "text/plain": [
       "  0%|                                                                                                         …"
      ]
     },
     "metadata": {},
     "output_type": "display_data"
    },
    {
     "name": "stdout",
     "output_type": "stream",
     "text": [
      "/home/wmnlab/F/results/20240329_160006be6c_new_dataset_sync/dr_20240408_0555003db4_anchor_by_packet/dl_lost/A_20240408_0345025_35035/\\home\\wmnlab\\F\\database\\2024-03-20\\UDP_Bandlock_9S_Phone_A\\sm00\\#02\\data\\udp_dnlk_loss_latency\\home\\wmnlab\\F\\database\\2024-03-20\\UDP_Bandlock_9S_Phone_A\\sm07\\#02\\data\\udp_dnlk_loss_latency.csv\n",
      "./20240329_160006be6c_new_dataset_sync/dr_20240408_0555003db4_anchor_by_packet/dl_lost/results/A_20240408_0345025_35035.pkl\n",
      "44/72 /home/wmnlab/F/database/2024-03-20/UDP_Bandlock_9S_Phone_A/sm00/#02/data/handover_info_log.csv\n",
      "44/72 /home/wmnlab/F/database/2024-03-20/UDP_Bandlock_9S_Phone_A/sm00/#02/data/udp_dnlk_loss_latency.csv\n",
      "44/72 /home/wmnlab/F/database/2024-03-20/UDP_Bandlock_9S_Phone_A/sm08/#02/data/handover_info_log.csv\n",
      "44/72 /home/wmnlab/F/database/2024-03-20/UDP_Bandlock_9S_Phone_A/sm08/#02/data/udp_dnlk_loss_latency.csv\n"
     ]
    },
    {
     "data": {
      "application/vnd.jupyter.widget-view+json": {
       "model_id": "7dfa0f06058c490697f7399e53dc1bbf",
       "version_major": 2,
       "version_minor": 0
      },
      "text/plain": [
       "  0%|                                                                                                         …"
      ]
     },
     "metadata": {},
     "output_type": "display_data"
    },
    {
     "name": "stdout",
     "output_type": "stream",
     "text": [
      "/home/wmnlab/F/results/20240329_160006be6c_new_dataset_sync/dr_20240408_0555003db4_anchor_by_packet/dl_lost/A_20240408_0345025_35035/\\home\\wmnlab\\F\\database\\2024-03-20\\UDP_Bandlock_9S_Phone_A\\sm00\\#02\\data\\udp_dnlk_loss_latency\\home\\wmnlab\\F\\database\\2024-03-20\\UDP_Bandlock_9S_Phone_A\\sm08\\#02\\data\\udp_dnlk_loss_latency.csv\n",
      "./20240329_160006be6c_new_dataset_sync/dr_20240408_0555003db4_anchor_by_packet/dl_lost/results/A_20240408_0345025_35035.pkl\n",
      "45/72 /home/wmnlab/F/database/2024-03-20/UDP_Bandlock_9S_Phone_A/sm01/#02/data/handover_info_log.csv\n",
      "45/72 /home/wmnlab/F/database/2024-03-20/UDP_Bandlock_9S_Phone_A/sm01/#02/data/udp_dnlk_loss_latency.csv\n",
      "45/72 /home/wmnlab/F/database/2024-03-20/UDP_Bandlock_9S_Phone_A/sm02/#02/data/handover_info_log.csv\n",
      "45/72 /home/wmnlab/F/database/2024-03-20/UDP_Bandlock_9S_Phone_A/sm02/#02/data/udp_dnlk_loss_latency.csv\n"
     ]
    },
    {
     "data": {
      "application/vnd.jupyter.widget-view+json": {
       "model_id": "9f5cb24b544b4fadb3123fc61261f470",
       "version_major": 2,
       "version_minor": 0
      },
      "text/plain": [
       "  0%|                                                                                                         …"
      ]
     },
     "metadata": {},
     "output_type": "display_data"
    },
    {
     "name": "stdout",
     "output_type": "stream",
     "text": [
      "/home/wmnlab/F/results/20240329_160006be6c_new_dataset_sync/dr_20240408_0555003db4_anchor_by_packet/dl_lost/A_20240408_0345025_35035/\\home\\wmnlab\\F\\database\\2024-03-20\\UDP_Bandlock_9S_Phone_A\\sm01\\#02\\data\\udp_dnlk_loss_latency\\home\\wmnlab\\F\\database\\2024-03-20\\UDP_Bandlock_9S_Phone_A\\sm02\\#02\\data\\udp_dnlk_loss_latency.csv\n",
      "./20240329_160006be6c_new_dataset_sync/dr_20240408_0555003db4_anchor_by_packet/dl_lost/results/A_20240408_0345025_35035.pkl\n",
      "46/72 /home/wmnlab/F/database/2024-03-20/UDP_Bandlock_9S_Phone_A/sm01/#02/data/handover_info_log.csv\n",
      "46/72 /home/wmnlab/F/database/2024-03-20/UDP_Bandlock_9S_Phone_A/sm01/#02/data/udp_dnlk_loss_latency.csv\n",
      "46/72 /home/wmnlab/F/database/2024-03-20/UDP_Bandlock_9S_Phone_A/sm03/#02/data/handover_info_log.csv\n",
      "46/72 /home/wmnlab/F/database/2024-03-20/UDP_Bandlock_9S_Phone_A/sm03/#02/data/udp_dnlk_loss_latency.csv\n"
     ]
    },
    {
     "data": {
      "application/vnd.jupyter.widget-view+json": {
       "model_id": "5b59963041b441e1a6dc39b6fcd8dbe3",
       "version_major": 2,
       "version_minor": 0
      },
      "text/plain": [
       "  0%|                                                                                                         …"
      ]
     },
     "metadata": {},
     "output_type": "display_data"
    },
    {
     "name": "stdout",
     "output_type": "stream",
     "text": [
      "/home/wmnlab/F/results/20240329_160006be6c_new_dataset_sync/dr_20240408_0555003db4_anchor_by_packet/dl_lost/A_20240408_0345025_35035/\\home\\wmnlab\\F\\database\\2024-03-20\\UDP_Bandlock_9S_Phone_A\\sm01\\#02\\data\\udp_dnlk_loss_latency\\home\\wmnlab\\F\\database\\2024-03-20\\UDP_Bandlock_9S_Phone_A\\sm03\\#02\\data\\udp_dnlk_loss_latency.csv\n",
      "./20240329_160006be6c_new_dataset_sync/dr_20240408_0555003db4_anchor_by_packet/dl_lost/results/A_20240408_0345025_35035.pkl\n",
      "47/72 /home/wmnlab/F/database/2024-03-20/UDP_Bandlock_9S_Phone_A/sm01/#02/data/handover_info_log.csv\n",
      "47/72 /home/wmnlab/F/database/2024-03-20/UDP_Bandlock_9S_Phone_A/sm01/#02/data/udp_dnlk_loss_latency.csv\n",
      "47/72 /home/wmnlab/F/database/2024-03-20/UDP_Bandlock_9S_Phone_A/sm04/#02/data/handover_info_log.csv\n",
      "47/72 /home/wmnlab/F/database/2024-03-20/UDP_Bandlock_9S_Phone_A/sm04/#02/data/udp_dnlk_loss_latency.csv\n"
     ]
    },
    {
     "data": {
      "application/vnd.jupyter.widget-view+json": {
       "model_id": "c7f2c20c9b9d407faf5653a1e372239b",
       "version_major": 2,
       "version_minor": 0
      },
      "text/plain": [
       "  0%|                                                                                                         …"
      ]
     },
     "metadata": {},
     "output_type": "display_data"
    },
    {
     "name": "stdout",
     "output_type": "stream",
     "text": [
      "/home/wmnlab/F/results/20240329_160006be6c_new_dataset_sync/dr_20240408_0555003db4_anchor_by_packet/dl_lost/A_20240408_0345025_35035/\\home\\wmnlab\\F\\database\\2024-03-20\\UDP_Bandlock_9S_Phone_A\\sm01\\#02\\data\\udp_dnlk_loss_latency\\home\\wmnlab\\F\\database\\2024-03-20\\UDP_Bandlock_9S_Phone_A\\sm04\\#02\\data\\udp_dnlk_loss_latency.csv\n",
      "./20240329_160006be6c_new_dataset_sync/dr_20240408_0555003db4_anchor_by_packet/dl_lost/results/A_20240408_0345025_35035.pkl\n",
      "48/72 /home/wmnlab/F/database/2024-03-20/UDP_Bandlock_9S_Phone_A/sm01/#02/data/handover_info_log.csv\n",
      "48/72 /home/wmnlab/F/database/2024-03-20/UDP_Bandlock_9S_Phone_A/sm01/#02/data/udp_dnlk_loss_latency.csv\n",
      "48/72 /home/wmnlab/F/database/2024-03-20/UDP_Bandlock_9S_Phone_A/sm05/#02/data/handover_info_log.csv\n",
      "48/72 /home/wmnlab/F/database/2024-03-20/UDP_Bandlock_9S_Phone_A/sm05/#02/data/udp_dnlk_loss_latency.csv\n"
     ]
    },
    {
     "data": {
      "application/vnd.jupyter.widget-view+json": {
       "model_id": "d88ff645961444d5b33f5ba29c9f8113",
       "version_major": 2,
       "version_minor": 0
      },
      "text/plain": [
       "  0%|                                                                                                         …"
      ]
     },
     "metadata": {},
     "output_type": "display_data"
    },
    {
     "name": "stdout",
     "output_type": "stream",
     "text": [
      "/home/wmnlab/F/results/20240329_160006be6c_new_dataset_sync/dr_20240408_0555003db4_anchor_by_packet/dl_lost/A_20240408_0345025_35035/\\home\\wmnlab\\F\\database\\2024-03-20\\UDP_Bandlock_9S_Phone_A\\sm01\\#02\\data\\udp_dnlk_loss_latency\\home\\wmnlab\\F\\database\\2024-03-20\\UDP_Bandlock_9S_Phone_A\\sm05\\#02\\data\\udp_dnlk_loss_latency.csv\n",
      "./20240329_160006be6c_new_dataset_sync/dr_20240408_0555003db4_anchor_by_packet/dl_lost/results/A_20240408_0345025_35035.pkl\n",
      "49/72 /home/wmnlab/F/database/2024-03-20/UDP_Bandlock_9S_Phone_A/sm01/#02/data/handover_info_log.csv\n",
      "49/72 /home/wmnlab/F/database/2024-03-20/UDP_Bandlock_9S_Phone_A/sm01/#02/data/udp_dnlk_loss_latency.csv\n",
      "49/72 /home/wmnlab/F/database/2024-03-20/UDP_Bandlock_9S_Phone_A/sm06/#02/data/handover_info_log.csv\n",
      "49/72 /home/wmnlab/F/database/2024-03-20/UDP_Bandlock_9S_Phone_A/sm06/#02/data/udp_dnlk_loss_latency.csv\n"
     ]
    },
    {
     "data": {
      "application/vnd.jupyter.widget-view+json": {
       "model_id": "478335de6bea418eae4a0643692b070b",
       "version_major": 2,
       "version_minor": 0
      },
      "text/plain": [
       "  0%|                                                                                                         …"
      ]
     },
     "metadata": {},
     "output_type": "display_data"
    },
    {
     "name": "stdout",
     "output_type": "stream",
     "text": [
      "/home/wmnlab/F/results/20240329_160006be6c_new_dataset_sync/dr_20240408_0555003db4_anchor_by_packet/dl_lost/A_20240408_0345025_35035/\\home\\wmnlab\\F\\database\\2024-03-20\\UDP_Bandlock_9S_Phone_A\\sm01\\#02\\data\\udp_dnlk_loss_latency\\home\\wmnlab\\F\\database\\2024-03-20\\UDP_Bandlock_9S_Phone_A\\sm06\\#02\\data\\udp_dnlk_loss_latency.csv\n",
      "./20240329_160006be6c_new_dataset_sync/dr_20240408_0555003db4_anchor_by_packet/dl_lost/results/A_20240408_0345025_35035.pkl\n",
      "50/72 /home/wmnlab/F/database/2024-03-20/UDP_Bandlock_9S_Phone_A/sm01/#02/data/handover_info_log.csv\n",
      "50/72 /home/wmnlab/F/database/2024-03-20/UDP_Bandlock_9S_Phone_A/sm01/#02/data/udp_dnlk_loss_latency.csv\n",
      "50/72 /home/wmnlab/F/database/2024-03-20/UDP_Bandlock_9S_Phone_A/sm07/#02/data/handover_info_log.csv\n",
      "50/72 /home/wmnlab/F/database/2024-03-20/UDP_Bandlock_9S_Phone_A/sm07/#02/data/udp_dnlk_loss_latency.csv\n"
     ]
    },
    {
     "data": {
      "application/vnd.jupyter.widget-view+json": {
       "model_id": "802e8dbbde224e409aa2b814664bf5cf",
       "version_major": 2,
       "version_minor": 0
      },
      "text/plain": [
       "  0%|                                                                                                         …"
      ]
     },
     "metadata": {},
     "output_type": "display_data"
    },
    {
     "name": "stdout",
     "output_type": "stream",
     "text": [
      "/home/wmnlab/F/results/20240329_160006be6c_new_dataset_sync/dr_20240408_0555003db4_anchor_by_packet/dl_lost/A_20240408_0345025_35035/\\home\\wmnlab\\F\\database\\2024-03-20\\UDP_Bandlock_9S_Phone_A\\sm01\\#02\\data\\udp_dnlk_loss_latency\\home\\wmnlab\\F\\database\\2024-03-20\\UDP_Bandlock_9S_Phone_A\\sm07\\#02\\data\\udp_dnlk_loss_latency.csv\n",
      "./20240329_160006be6c_new_dataset_sync/dr_20240408_0555003db4_anchor_by_packet/dl_lost/results/A_20240408_0345025_35035.pkl\n",
      "51/72 /home/wmnlab/F/database/2024-03-20/UDP_Bandlock_9S_Phone_A/sm01/#02/data/handover_info_log.csv\n",
      "51/72 /home/wmnlab/F/database/2024-03-20/UDP_Bandlock_9S_Phone_A/sm01/#02/data/udp_dnlk_loss_latency.csv\n",
      "51/72 /home/wmnlab/F/database/2024-03-20/UDP_Bandlock_9S_Phone_A/sm08/#02/data/handover_info_log.csv\n",
      "51/72 /home/wmnlab/F/database/2024-03-20/UDP_Bandlock_9S_Phone_A/sm08/#02/data/udp_dnlk_loss_latency.csv\n"
     ]
    },
    {
     "data": {
      "application/vnd.jupyter.widget-view+json": {
       "model_id": "d9bc396a5b7c4a809e4e5236c6262f73",
       "version_major": 2,
       "version_minor": 0
      },
      "text/plain": [
       "  0%|                                                                                                         …"
      ]
     },
     "metadata": {},
     "output_type": "display_data"
    },
    {
     "name": "stdout",
     "output_type": "stream",
     "text": [
      "/home/wmnlab/F/results/20240329_160006be6c_new_dataset_sync/dr_20240408_0555003db4_anchor_by_packet/dl_lost/A_20240408_0345025_35035/\\home\\wmnlab\\F\\database\\2024-03-20\\UDP_Bandlock_9S_Phone_A\\sm01\\#02\\data\\udp_dnlk_loss_latency\\home\\wmnlab\\F\\database\\2024-03-20\\UDP_Bandlock_9S_Phone_A\\sm08\\#02\\data\\udp_dnlk_loss_latency.csv\n",
      "./20240329_160006be6c_new_dataset_sync/dr_20240408_0555003db4_anchor_by_packet/dl_lost/results/A_20240408_0345025_35035.pkl\n",
      "52/72 /home/wmnlab/F/database/2024-03-20/UDP_Bandlock_9S_Phone_A/sm02/#02/data/handover_info_log.csv\n",
      "52/72 /home/wmnlab/F/database/2024-03-20/UDP_Bandlock_9S_Phone_A/sm02/#02/data/udp_dnlk_loss_latency.csv\n",
      "52/72 /home/wmnlab/F/database/2024-03-20/UDP_Bandlock_9S_Phone_A/sm03/#02/data/handover_info_log.csv\n",
      "52/72 /home/wmnlab/F/database/2024-03-20/UDP_Bandlock_9S_Phone_A/sm03/#02/data/udp_dnlk_loss_latency.csv\n"
     ]
    },
    {
     "data": {
      "application/vnd.jupyter.widget-view+json": {
       "model_id": "c20d0a76b1c644a3b8e3178ff6b86bdd",
       "version_major": 2,
       "version_minor": 0
      },
      "text/plain": [
       "  0%|                                                                                                         …"
      ]
     },
     "metadata": {},
     "output_type": "display_data"
    },
    {
     "name": "stdout",
     "output_type": "stream",
     "text": [
      "/home/wmnlab/F/results/20240329_160006be6c_new_dataset_sync/dr_20240408_0555003db4_anchor_by_packet/dl_lost/A_20240408_0345025_35035/\\home\\wmnlab\\F\\database\\2024-03-20\\UDP_Bandlock_9S_Phone_A\\sm02\\#02\\data\\udp_dnlk_loss_latency\\home\\wmnlab\\F\\database\\2024-03-20\\UDP_Bandlock_9S_Phone_A\\sm03\\#02\\data\\udp_dnlk_loss_latency.csv\n",
      "./20240329_160006be6c_new_dataset_sync/dr_20240408_0555003db4_anchor_by_packet/dl_lost/results/A_20240408_0345025_35035.pkl\n",
      "53/72 /home/wmnlab/F/database/2024-03-20/UDP_Bandlock_9S_Phone_A/sm02/#02/data/handover_info_log.csv\n",
      "53/72 /home/wmnlab/F/database/2024-03-20/UDP_Bandlock_9S_Phone_A/sm02/#02/data/udp_dnlk_loss_latency.csv\n",
      "53/72 /home/wmnlab/F/database/2024-03-20/UDP_Bandlock_9S_Phone_A/sm04/#02/data/handover_info_log.csv\n",
      "53/72 /home/wmnlab/F/database/2024-03-20/UDP_Bandlock_9S_Phone_A/sm04/#02/data/udp_dnlk_loss_latency.csv\n"
     ]
    },
    {
     "data": {
      "application/vnd.jupyter.widget-view+json": {
       "model_id": "49bb0bfd39804e7c938c42fb91ebc2bf",
       "version_major": 2,
       "version_minor": 0
      },
      "text/plain": [
       "  0%|                                                                                                         …"
      ]
     },
     "metadata": {},
     "output_type": "display_data"
    },
    {
     "name": "stdout",
     "output_type": "stream",
     "text": [
      "/home/wmnlab/F/results/20240329_160006be6c_new_dataset_sync/dr_20240408_0555003db4_anchor_by_packet/dl_lost/A_20240408_0345025_35035/\\home\\wmnlab\\F\\database\\2024-03-20\\UDP_Bandlock_9S_Phone_A\\sm02\\#02\\data\\udp_dnlk_loss_latency\\home\\wmnlab\\F\\database\\2024-03-20\\UDP_Bandlock_9S_Phone_A\\sm04\\#02\\data\\udp_dnlk_loss_latency.csv\n",
      "./20240329_160006be6c_new_dataset_sync/dr_20240408_0555003db4_anchor_by_packet/dl_lost/results/A_20240408_0345025_35035.pkl\n",
      "54/72 /home/wmnlab/F/database/2024-03-20/UDP_Bandlock_9S_Phone_A/sm02/#02/data/handover_info_log.csv\n",
      "54/72 /home/wmnlab/F/database/2024-03-20/UDP_Bandlock_9S_Phone_A/sm02/#02/data/udp_dnlk_loss_latency.csv\n",
      "54/72 /home/wmnlab/F/database/2024-03-20/UDP_Bandlock_9S_Phone_A/sm05/#02/data/handover_info_log.csv\n",
      "54/72 /home/wmnlab/F/database/2024-03-20/UDP_Bandlock_9S_Phone_A/sm05/#02/data/udp_dnlk_loss_latency.csv\n"
     ]
    },
    {
     "data": {
      "application/vnd.jupyter.widget-view+json": {
       "model_id": "d118a86d8b8a4ca1b6a1cd6337e64d7c",
       "version_major": 2,
       "version_minor": 0
      },
      "text/plain": [
       "  0%|                                                                                                         …"
      ]
     },
     "metadata": {},
     "output_type": "display_data"
    },
    {
     "name": "stdout",
     "output_type": "stream",
     "text": [
      "/home/wmnlab/F/results/20240329_160006be6c_new_dataset_sync/dr_20240408_0555003db4_anchor_by_packet/dl_lost/A_20240408_0345025_35035/\\home\\wmnlab\\F\\database\\2024-03-20\\UDP_Bandlock_9S_Phone_A\\sm02\\#02\\data\\udp_dnlk_loss_latency\\home\\wmnlab\\F\\database\\2024-03-20\\UDP_Bandlock_9S_Phone_A\\sm05\\#02\\data\\udp_dnlk_loss_latency.csv\n",
      "./20240329_160006be6c_new_dataset_sync/dr_20240408_0555003db4_anchor_by_packet/dl_lost/results/A_20240408_0345025_35035.pkl\n",
      "55/72 /home/wmnlab/F/database/2024-03-20/UDP_Bandlock_9S_Phone_A/sm02/#02/data/handover_info_log.csv\n",
      "55/72 /home/wmnlab/F/database/2024-03-20/UDP_Bandlock_9S_Phone_A/sm02/#02/data/udp_dnlk_loss_latency.csv\n",
      "55/72 /home/wmnlab/F/database/2024-03-20/UDP_Bandlock_9S_Phone_A/sm06/#02/data/handover_info_log.csv\n",
      "55/72 /home/wmnlab/F/database/2024-03-20/UDP_Bandlock_9S_Phone_A/sm06/#02/data/udp_dnlk_loss_latency.csv\n"
     ]
    },
    {
     "data": {
      "application/vnd.jupyter.widget-view+json": {
       "model_id": "466cf23400cf4aa9833643923d4286e7",
       "version_major": 2,
       "version_minor": 0
      },
      "text/plain": [
       "  0%|                                                                                                         …"
      ]
     },
     "metadata": {},
     "output_type": "display_data"
    },
    {
     "name": "stdout",
     "output_type": "stream",
     "text": [
      "/home/wmnlab/F/results/20240329_160006be6c_new_dataset_sync/dr_20240408_0555003db4_anchor_by_packet/dl_lost/A_20240408_0345025_35035/\\home\\wmnlab\\F\\database\\2024-03-20\\UDP_Bandlock_9S_Phone_A\\sm02\\#02\\data\\udp_dnlk_loss_latency\\home\\wmnlab\\F\\database\\2024-03-20\\UDP_Bandlock_9S_Phone_A\\sm06\\#02\\data\\udp_dnlk_loss_latency.csv\n",
      "./20240329_160006be6c_new_dataset_sync/dr_20240408_0555003db4_anchor_by_packet/dl_lost/results/A_20240408_0345025_35035.pkl\n",
      "56/72 /home/wmnlab/F/database/2024-03-20/UDP_Bandlock_9S_Phone_A/sm02/#02/data/handover_info_log.csv\n",
      "56/72 /home/wmnlab/F/database/2024-03-20/UDP_Bandlock_9S_Phone_A/sm02/#02/data/udp_dnlk_loss_latency.csv\n",
      "56/72 /home/wmnlab/F/database/2024-03-20/UDP_Bandlock_9S_Phone_A/sm07/#02/data/handover_info_log.csv\n",
      "56/72 /home/wmnlab/F/database/2024-03-20/UDP_Bandlock_9S_Phone_A/sm07/#02/data/udp_dnlk_loss_latency.csv\n"
     ]
    },
    {
     "data": {
      "application/vnd.jupyter.widget-view+json": {
       "model_id": "be034821f35b47aca2b9dd88d2f644ce",
       "version_major": 2,
       "version_minor": 0
      },
      "text/plain": [
       "  0%|                                                                                                         …"
      ]
     },
     "metadata": {},
     "output_type": "display_data"
    },
    {
     "name": "stdout",
     "output_type": "stream",
     "text": [
      "/home/wmnlab/F/results/20240329_160006be6c_new_dataset_sync/dr_20240408_0555003db4_anchor_by_packet/dl_lost/A_20240408_0345025_35035/\\home\\wmnlab\\F\\database\\2024-03-20\\UDP_Bandlock_9S_Phone_A\\sm02\\#02\\data\\udp_dnlk_loss_latency\\home\\wmnlab\\F\\database\\2024-03-20\\UDP_Bandlock_9S_Phone_A\\sm07\\#02\\data\\udp_dnlk_loss_latency.csv\n",
      "./20240329_160006be6c_new_dataset_sync/dr_20240408_0555003db4_anchor_by_packet/dl_lost/results/A_20240408_0345025_35035.pkl\n",
      "57/72 /home/wmnlab/F/database/2024-03-20/UDP_Bandlock_9S_Phone_A/sm02/#02/data/handover_info_log.csv\n",
      "57/72 /home/wmnlab/F/database/2024-03-20/UDP_Bandlock_9S_Phone_A/sm02/#02/data/udp_dnlk_loss_latency.csv\n",
      "57/72 /home/wmnlab/F/database/2024-03-20/UDP_Bandlock_9S_Phone_A/sm08/#02/data/handover_info_log.csv\n",
      "57/72 /home/wmnlab/F/database/2024-03-20/UDP_Bandlock_9S_Phone_A/sm08/#02/data/udp_dnlk_loss_latency.csv\n"
     ]
    },
    {
     "data": {
      "application/vnd.jupyter.widget-view+json": {
       "model_id": "5e3e945bae63465ab61c3ef8e421b14a",
       "version_major": 2,
       "version_minor": 0
      },
      "text/plain": [
       "  0%|                                                                                                         …"
      ]
     },
     "metadata": {},
     "output_type": "display_data"
    },
    {
     "name": "stdout",
     "output_type": "stream",
     "text": [
      "/home/wmnlab/F/results/20240329_160006be6c_new_dataset_sync/dr_20240408_0555003db4_anchor_by_packet/dl_lost/A_20240408_0345025_35035/\\home\\wmnlab\\F\\database\\2024-03-20\\UDP_Bandlock_9S_Phone_A\\sm02\\#02\\data\\udp_dnlk_loss_latency\\home\\wmnlab\\F\\database\\2024-03-20\\UDP_Bandlock_9S_Phone_A\\sm08\\#02\\data\\udp_dnlk_loss_latency.csv\n",
      "./20240329_160006be6c_new_dataset_sync/dr_20240408_0555003db4_anchor_by_packet/dl_lost/results/A_20240408_0345025_35035.pkl\n",
      "58/72 /home/wmnlab/F/database/2024-03-20/UDP_Bandlock_9S_Phone_A/sm03/#02/data/handover_info_log.csv\n",
      "58/72 /home/wmnlab/F/database/2024-03-20/UDP_Bandlock_9S_Phone_A/sm03/#02/data/udp_dnlk_loss_latency.csv\n",
      "58/72 /home/wmnlab/F/database/2024-03-20/UDP_Bandlock_9S_Phone_A/sm04/#02/data/handover_info_log.csv\n",
      "58/72 /home/wmnlab/F/database/2024-03-20/UDP_Bandlock_9S_Phone_A/sm04/#02/data/udp_dnlk_loss_latency.csv\n"
     ]
    },
    {
     "data": {
      "application/vnd.jupyter.widget-view+json": {
       "model_id": "1adce1855e564fa08843bb933a803ebb",
       "version_major": 2,
       "version_minor": 0
      },
      "text/plain": [
       "  0%|                                                                                                         …"
      ]
     },
     "metadata": {},
     "output_type": "display_data"
    },
    {
     "name": "stdout",
     "output_type": "stream",
     "text": [
      "/home/wmnlab/F/results/20240329_160006be6c_new_dataset_sync/dr_20240408_0555003db4_anchor_by_packet/dl_lost/A_20240408_0345025_35035/\\home\\wmnlab\\F\\database\\2024-03-20\\UDP_Bandlock_9S_Phone_A\\sm03\\#02\\data\\udp_dnlk_loss_latency\\home\\wmnlab\\F\\database\\2024-03-20\\UDP_Bandlock_9S_Phone_A\\sm04\\#02\\data\\udp_dnlk_loss_latency.csv\n",
      "./20240329_160006be6c_new_dataset_sync/dr_20240408_0555003db4_anchor_by_packet/dl_lost/results/A_20240408_0345025_35035.pkl\n",
      "59/72 /home/wmnlab/F/database/2024-03-20/UDP_Bandlock_9S_Phone_A/sm03/#02/data/handover_info_log.csv\n",
      "59/72 /home/wmnlab/F/database/2024-03-20/UDP_Bandlock_9S_Phone_A/sm03/#02/data/udp_dnlk_loss_latency.csv\n",
      "59/72 /home/wmnlab/F/database/2024-03-20/UDP_Bandlock_9S_Phone_A/sm05/#02/data/handover_info_log.csv\n",
      "59/72 /home/wmnlab/F/database/2024-03-20/UDP_Bandlock_9S_Phone_A/sm05/#02/data/udp_dnlk_loss_latency.csv\n"
     ]
    },
    {
     "data": {
      "application/vnd.jupyter.widget-view+json": {
       "model_id": "057895e92b154e6a85c277d5c74ae875",
       "version_major": 2,
       "version_minor": 0
      },
      "text/plain": [
       "  0%|                                                                                                         …"
      ]
     },
     "metadata": {},
     "output_type": "display_data"
    },
    {
     "name": "stdout",
     "output_type": "stream",
     "text": [
      "/home/wmnlab/F/results/20240329_160006be6c_new_dataset_sync/dr_20240408_0555003db4_anchor_by_packet/dl_lost/A_20240408_0345025_35035/\\home\\wmnlab\\F\\database\\2024-03-20\\UDP_Bandlock_9S_Phone_A\\sm03\\#02\\data\\udp_dnlk_loss_latency\\home\\wmnlab\\F\\database\\2024-03-20\\UDP_Bandlock_9S_Phone_A\\sm05\\#02\\data\\udp_dnlk_loss_latency.csv\n",
      "./20240329_160006be6c_new_dataset_sync/dr_20240408_0555003db4_anchor_by_packet/dl_lost/results/A_20240408_0345025_35035.pkl\n",
      "60/72 /home/wmnlab/F/database/2024-03-20/UDP_Bandlock_9S_Phone_A/sm03/#02/data/handover_info_log.csv\n",
      "60/72 /home/wmnlab/F/database/2024-03-20/UDP_Bandlock_9S_Phone_A/sm03/#02/data/udp_dnlk_loss_latency.csv\n",
      "60/72 /home/wmnlab/F/database/2024-03-20/UDP_Bandlock_9S_Phone_A/sm06/#02/data/handover_info_log.csv\n",
      "60/72 /home/wmnlab/F/database/2024-03-20/UDP_Bandlock_9S_Phone_A/sm06/#02/data/udp_dnlk_loss_latency.csv\n"
     ]
    },
    {
     "data": {
      "application/vnd.jupyter.widget-view+json": {
       "model_id": "f4cc113ca15b4eedb403f135887c0550",
       "version_major": 2,
       "version_minor": 0
      },
      "text/plain": [
       "  0%|                                                                                                         …"
      ]
     },
     "metadata": {},
     "output_type": "display_data"
    },
    {
     "name": "stdout",
     "output_type": "stream",
     "text": [
      "/home/wmnlab/F/results/20240329_160006be6c_new_dataset_sync/dr_20240408_0555003db4_anchor_by_packet/dl_lost/A_20240408_0345025_35035/\\home\\wmnlab\\F\\database\\2024-03-20\\UDP_Bandlock_9S_Phone_A\\sm03\\#02\\data\\udp_dnlk_loss_latency\\home\\wmnlab\\F\\database\\2024-03-20\\UDP_Bandlock_9S_Phone_A\\sm06\\#02\\data\\udp_dnlk_loss_latency.csv\n",
      "./20240329_160006be6c_new_dataset_sync/dr_20240408_0555003db4_anchor_by_packet/dl_lost/results/A_20240408_0345025_35035.pkl\n",
      "61/72 /home/wmnlab/F/database/2024-03-20/UDP_Bandlock_9S_Phone_A/sm03/#02/data/handover_info_log.csv\n",
      "61/72 /home/wmnlab/F/database/2024-03-20/UDP_Bandlock_9S_Phone_A/sm03/#02/data/udp_dnlk_loss_latency.csv\n",
      "61/72 /home/wmnlab/F/database/2024-03-20/UDP_Bandlock_9S_Phone_A/sm07/#02/data/handover_info_log.csv\n",
      "61/72 /home/wmnlab/F/database/2024-03-20/UDP_Bandlock_9S_Phone_A/sm07/#02/data/udp_dnlk_loss_latency.csv\n"
     ]
    },
    {
     "data": {
      "application/vnd.jupyter.widget-view+json": {
       "model_id": "5cefda16437b440f98674171476aea3d",
       "version_major": 2,
       "version_minor": 0
      },
      "text/plain": [
       "  0%|                                                                                                         …"
      ]
     },
     "metadata": {},
     "output_type": "display_data"
    },
    {
     "name": "stdout",
     "output_type": "stream",
     "text": [
      "/home/wmnlab/F/results/20240329_160006be6c_new_dataset_sync/dr_20240408_0555003db4_anchor_by_packet/dl_lost/A_20240408_0345025_35035/\\home\\wmnlab\\F\\database\\2024-03-20\\UDP_Bandlock_9S_Phone_A\\sm03\\#02\\data\\udp_dnlk_loss_latency\\home\\wmnlab\\F\\database\\2024-03-20\\UDP_Bandlock_9S_Phone_A\\sm07\\#02\\data\\udp_dnlk_loss_latency.csv\n",
      "./20240329_160006be6c_new_dataset_sync/dr_20240408_0555003db4_anchor_by_packet/dl_lost/results/A_20240408_0345025_35035.pkl\n",
      "62/72 /home/wmnlab/F/database/2024-03-20/UDP_Bandlock_9S_Phone_A/sm03/#02/data/handover_info_log.csv\n",
      "62/72 /home/wmnlab/F/database/2024-03-20/UDP_Bandlock_9S_Phone_A/sm03/#02/data/udp_dnlk_loss_latency.csv\n",
      "62/72 /home/wmnlab/F/database/2024-03-20/UDP_Bandlock_9S_Phone_A/sm08/#02/data/handover_info_log.csv\n",
      "62/72 /home/wmnlab/F/database/2024-03-20/UDP_Bandlock_9S_Phone_A/sm08/#02/data/udp_dnlk_loss_latency.csv\n"
     ]
    },
    {
     "data": {
      "application/vnd.jupyter.widget-view+json": {
       "model_id": "68744e10e46e4c33978978ffa757861a",
       "version_major": 2,
       "version_minor": 0
      },
      "text/plain": [
       "  0%|                                                                                                         …"
      ]
     },
     "metadata": {},
     "output_type": "display_data"
    },
    {
     "name": "stdout",
     "output_type": "stream",
     "text": [
      "/home/wmnlab/F/results/20240329_160006be6c_new_dataset_sync/dr_20240408_0555003db4_anchor_by_packet/dl_lost/A_20240408_0345025_35035/\\home\\wmnlab\\F\\database\\2024-03-20\\UDP_Bandlock_9S_Phone_A\\sm03\\#02\\data\\udp_dnlk_loss_latency\\home\\wmnlab\\F\\database\\2024-03-20\\UDP_Bandlock_9S_Phone_A\\sm08\\#02\\data\\udp_dnlk_loss_latency.csv\n",
      "./20240329_160006be6c_new_dataset_sync/dr_20240408_0555003db4_anchor_by_packet/dl_lost/results/A_20240408_0345025_35035.pkl\n",
      "63/72 /home/wmnlab/F/database/2024-03-20/UDP_Bandlock_9S_Phone_A/sm04/#02/data/handover_info_log.csv\n",
      "63/72 /home/wmnlab/F/database/2024-03-20/UDP_Bandlock_9S_Phone_A/sm04/#02/data/udp_dnlk_loss_latency.csv\n",
      "63/72 /home/wmnlab/F/database/2024-03-20/UDP_Bandlock_9S_Phone_A/sm05/#02/data/handover_info_log.csv\n",
      "63/72 /home/wmnlab/F/database/2024-03-20/UDP_Bandlock_9S_Phone_A/sm05/#02/data/udp_dnlk_loss_latency.csv\n"
     ]
    },
    {
     "data": {
      "application/vnd.jupyter.widget-view+json": {
       "model_id": "30db6e38dbf24980bbf0430f0ecf9a2b",
       "version_major": 2,
       "version_minor": 0
      },
      "text/plain": [
       "  0%|                                                                                                         …"
      ]
     },
     "metadata": {},
     "output_type": "display_data"
    },
    {
     "name": "stdout",
     "output_type": "stream",
     "text": [
      "/home/wmnlab/F/results/20240329_160006be6c_new_dataset_sync/dr_20240408_0555003db4_anchor_by_packet/dl_lost/A_20240408_0345025_35035/\\home\\wmnlab\\F\\database\\2024-03-20\\UDP_Bandlock_9S_Phone_A\\sm04\\#02\\data\\udp_dnlk_loss_latency\\home\\wmnlab\\F\\database\\2024-03-20\\UDP_Bandlock_9S_Phone_A\\sm05\\#02\\data\\udp_dnlk_loss_latency.csv\n",
      "./20240329_160006be6c_new_dataset_sync/dr_20240408_0555003db4_anchor_by_packet/dl_lost/results/A_20240408_0345025_35035.pkl\n",
      "64/72 /home/wmnlab/F/database/2024-03-20/UDP_Bandlock_9S_Phone_A/sm04/#02/data/handover_info_log.csv\n",
      "64/72 /home/wmnlab/F/database/2024-03-20/UDP_Bandlock_9S_Phone_A/sm04/#02/data/udp_dnlk_loss_latency.csv\n",
      "64/72 /home/wmnlab/F/database/2024-03-20/UDP_Bandlock_9S_Phone_A/sm06/#02/data/handover_info_log.csv\n",
      "64/72 /home/wmnlab/F/database/2024-03-20/UDP_Bandlock_9S_Phone_A/sm06/#02/data/udp_dnlk_loss_latency.csv\n"
     ]
    },
    {
     "data": {
      "application/vnd.jupyter.widget-view+json": {
       "model_id": "63116b6846d0411f89554e4dd7808474",
       "version_major": 2,
       "version_minor": 0
      },
      "text/plain": [
       "  0%|                                                                                                         …"
      ]
     },
     "metadata": {},
     "output_type": "display_data"
    },
    {
     "name": "stdout",
     "output_type": "stream",
     "text": [
      "/home/wmnlab/F/results/20240329_160006be6c_new_dataset_sync/dr_20240408_0555003db4_anchor_by_packet/dl_lost/A_20240408_0345025_35035/\\home\\wmnlab\\F\\database\\2024-03-20\\UDP_Bandlock_9S_Phone_A\\sm04\\#02\\data\\udp_dnlk_loss_latency\\home\\wmnlab\\F\\database\\2024-03-20\\UDP_Bandlock_9S_Phone_A\\sm06\\#02\\data\\udp_dnlk_loss_latency.csv\n",
      "./20240329_160006be6c_new_dataset_sync/dr_20240408_0555003db4_anchor_by_packet/dl_lost/results/A_20240408_0345025_35035.pkl\n",
      "65/72 /home/wmnlab/F/database/2024-03-20/UDP_Bandlock_9S_Phone_A/sm04/#02/data/handover_info_log.csv\n",
      "65/72 /home/wmnlab/F/database/2024-03-20/UDP_Bandlock_9S_Phone_A/sm04/#02/data/udp_dnlk_loss_latency.csv\n",
      "65/72 /home/wmnlab/F/database/2024-03-20/UDP_Bandlock_9S_Phone_A/sm07/#02/data/handover_info_log.csv\n",
      "65/72 /home/wmnlab/F/database/2024-03-20/UDP_Bandlock_9S_Phone_A/sm07/#02/data/udp_dnlk_loss_latency.csv\n"
     ]
    },
    {
     "data": {
      "application/vnd.jupyter.widget-view+json": {
       "model_id": "08cce7215656428a95876f28f033f330",
       "version_major": 2,
       "version_minor": 0
      },
      "text/plain": [
       "  0%|                                                                                                         …"
      ]
     },
     "metadata": {},
     "output_type": "display_data"
    },
    {
     "name": "stdout",
     "output_type": "stream",
     "text": [
      "/home/wmnlab/F/results/20240329_160006be6c_new_dataset_sync/dr_20240408_0555003db4_anchor_by_packet/dl_lost/A_20240408_0345025_35035/\\home\\wmnlab\\F\\database\\2024-03-20\\UDP_Bandlock_9S_Phone_A\\sm04\\#02\\data\\udp_dnlk_loss_latency\\home\\wmnlab\\F\\database\\2024-03-20\\UDP_Bandlock_9S_Phone_A\\sm07\\#02\\data\\udp_dnlk_loss_latency.csv\n",
      "./20240329_160006be6c_new_dataset_sync/dr_20240408_0555003db4_anchor_by_packet/dl_lost/results/A_20240408_0345025_35035.pkl\n",
      "66/72 /home/wmnlab/F/database/2024-03-20/UDP_Bandlock_9S_Phone_A/sm04/#02/data/handover_info_log.csv\n",
      "66/72 /home/wmnlab/F/database/2024-03-20/UDP_Bandlock_9S_Phone_A/sm04/#02/data/udp_dnlk_loss_latency.csv\n",
      "66/72 /home/wmnlab/F/database/2024-03-20/UDP_Bandlock_9S_Phone_A/sm08/#02/data/handover_info_log.csv\n",
      "66/72 /home/wmnlab/F/database/2024-03-20/UDP_Bandlock_9S_Phone_A/sm08/#02/data/udp_dnlk_loss_latency.csv\n"
     ]
    },
    {
     "data": {
      "application/vnd.jupyter.widget-view+json": {
       "model_id": "8c843bb5bd984c83b72266907a3dd2f2",
       "version_major": 2,
       "version_minor": 0
      },
      "text/plain": [
       "  0%|                                                                                                         …"
      ]
     },
     "metadata": {},
     "output_type": "display_data"
    },
    {
     "name": "stdout",
     "output_type": "stream",
     "text": [
      "/home/wmnlab/F/results/20240329_160006be6c_new_dataset_sync/dr_20240408_0555003db4_anchor_by_packet/dl_lost/A_20240408_0345025_35035/\\home\\wmnlab\\F\\database\\2024-03-20\\UDP_Bandlock_9S_Phone_A\\sm04\\#02\\data\\udp_dnlk_loss_latency\\home\\wmnlab\\F\\database\\2024-03-20\\UDP_Bandlock_9S_Phone_A\\sm08\\#02\\data\\udp_dnlk_loss_latency.csv\n",
      "./20240329_160006be6c_new_dataset_sync/dr_20240408_0555003db4_anchor_by_packet/dl_lost/results/A_20240408_0345025_35035.pkl\n",
      "67/72 /home/wmnlab/F/database/2024-03-20/UDP_Bandlock_9S_Phone_A/sm05/#02/data/handover_info_log.csv\n",
      "67/72 /home/wmnlab/F/database/2024-03-20/UDP_Bandlock_9S_Phone_A/sm05/#02/data/udp_dnlk_loss_latency.csv\n",
      "67/72 /home/wmnlab/F/database/2024-03-20/UDP_Bandlock_9S_Phone_A/sm06/#02/data/handover_info_log.csv\n",
      "67/72 /home/wmnlab/F/database/2024-03-20/UDP_Bandlock_9S_Phone_A/sm06/#02/data/udp_dnlk_loss_latency.csv\n"
     ]
    },
    {
     "data": {
      "application/vnd.jupyter.widget-view+json": {
       "model_id": "36c9744ca2e24678a70ae530de891152",
       "version_major": 2,
       "version_minor": 0
      },
      "text/plain": [
       "  0%|                                                                                                         …"
      ]
     },
     "metadata": {},
     "output_type": "display_data"
    },
    {
     "name": "stdout",
     "output_type": "stream",
     "text": [
      "/home/wmnlab/F/results/20240329_160006be6c_new_dataset_sync/dr_20240408_0555003db4_anchor_by_packet/dl_lost/A_20240408_0345025_35035/\\home\\wmnlab\\F\\database\\2024-03-20\\UDP_Bandlock_9S_Phone_A\\sm05\\#02\\data\\udp_dnlk_loss_latency\\home\\wmnlab\\F\\database\\2024-03-20\\UDP_Bandlock_9S_Phone_A\\sm06\\#02\\data\\udp_dnlk_loss_latency.csv\n",
      "./20240329_160006be6c_new_dataset_sync/dr_20240408_0555003db4_anchor_by_packet/dl_lost/results/A_20240408_0345025_35035.pkl\n",
      "68/72 /home/wmnlab/F/database/2024-03-20/UDP_Bandlock_9S_Phone_A/sm05/#02/data/handover_info_log.csv\n",
      "68/72 /home/wmnlab/F/database/2024-03-20/UDP_Bandlock_9S_Phone_A/sm05/#02/data/udp_dnlk_loss_latency.csv\n",
      "68/72 /home/wmnlab/F/database/2024-03-20/UDP_Bandlock_9S_Phone_A/sm07/#02/data/handover_info_log.csv\n",
      "68/72 /home/wmnlab/F/database/2024-03-20/UDP_Bandlock_9S_Phone_A/sm07/#02/data/udp_dnlk_loss_latency.csv\n"
     ]
    },
    {
     "data": {
      "application/vnd.jupyter.widget-view+json": {
       "model_id": "e116fa5e11034563bbdd54044627b820",
       "version_major": 2,
       "version_minor": 0
      },
      "text/plain": [
       "  0%|                                                                                                         …"
      ]
     },
     "metadata": {},
     "output_type": "display_data"
    },
    {
     "name": "stdout",
     "output_type": "stream",
     "text": [
      "/home/wmnlab/F/results/20240329_160006be6c_new_dataset_sync/dr_20240408_0555003db4_anchor_by_packet/dl_lost/A_20240408_0345025_35035/\\home\\wmnlab\\F\\database\\2024-03-20\\UDP_Bandlock_9S_Phone_A\\sm05\\#02\\data\\udp_dnlk_loss_latency\\home\\wmnlab\\F\\database\\2024-03-20\\UDP_Bandlock_9S_Phone_A\\sm07\\#02\\data\\udp_dnlk_loss_latency.csv\n",
      "./20240329_160006be6c_new_dataset_sync/dr_20240408_0555003db4_anchor_by_packet/dl_lost/results/A_20240408_0345025_35035.pkl\n",
      "69/72 /home/wmnlab/F/database/2024-03-20/UDP_Bandlock_9S_Phone_A/sm05/#02/data/handover_info_log.csv\n",
      "69/72 /home/wmnlab/F/database/2024-03-20/UDP_Bandlock_9S_Phone_A/sm05/#02/data/udp_dnlk_loss_latency.csv\n",
      "69/72 /home/wmnlab/F/database/2024-03-20/UDP_Bandlock_9S_Phone_A/sm08/#02/data/handover_info_log.csv\n",
      "69/72 /home/wmnlab/F/database/2024-03-20/UDP_Bandlock_9S_Phone_A/sm08/#02/data/udp_dnlk_loss_latency.csv\n"
     ]
    },
    {
     "data": {
      "application/vnd.jupyter.widget-view+json": {
       "model_id": "183ba6e84e164b6d912f7923f16892da",
       "version_major": 2,
       "version_minor": 0
      },
      "text/plain": [
       "  0%|                                                                                                         …"
      ]
     },
     "metadata": {},
     "output_type": "display_data"
    },
    {
     "name": "stdout",
     "output_type": "stream",
     "text": [
      "/home/wmnlab/F/results/20240329_160006be6c_new_dataset_sync/dr_20240408_0555003db4_anchor_by_packet/dl_lost/A_20240408_0345025_35035/\\home\\wmnlab\\F\\database\\2024-03-20\\UDP_Bandlock_9S_Phone_A\\sm05\\#02\\data\\udp_dnlk_loss_latency\\home\\wmnlab\\F\\database\\2024-03-20\\UDP_Bandlock_9S_Phone_A\\sm08\\#02\\data\\udp_dnlk_loss_latency.csv\n",
      "./20240329_160006be6c_new_dataset_sync/dr_20240408_0555003db4_anchor_by_packet/dl_lost/results/A_20240408_0345025_35035.pkl\n",
      "70/72 /home/wmnlab/F/database/2024-03-20/UDP_Bandlock_9S_Phone_A/sm06/#02/data/handover_info_log.csv\n",
      "70/72 /home/wmnlab/F/database/2024-03-20/UDP_Bandlock_9S_Phone_A/sm06/#02/data/udp_dnlk_loss_latency.csv\n",
      "70/72 /home/wmnlab/F/database/2024-03-20/UDP_Bandlock_9S_Phone_A/sm07/#02/data/handover_info_log.csv\n",
      "70/72 /home/wmnlab/F/database/2024-03-20/UDP_Bandlock_9S_Phone_A/sm07/#02/data/udp_dnlk_loss_latency.csv\n"
     ]
    },
    {
     "data": {
      "application/vnd.jupyter.widget-view+json": {
       "model_id": "5d8b8d0cb6624ee196a9acbcc98ebbad",
       "version_major": 2,
       "version_minor": 0
      },
      "text/plain": [
       "  0%|                                                                                                         …"
      ]
     },
     "metadata": {},
     "output_type": "display_data"
    },
    {
     "name": "stdout",
     "output_type": "stream",
     "text": [
      "/home/wmnlab/F/results/20240329_160006be6c_new_dataset_sync/dr_20240408_0555003db4_anchor_by_packet/dl_lost/A_20240408_0345025_35035/\\home\\wmnlab\\F\\database\\2024-03-20\\UDP_Bandlock_9S_Phone_A\\sm06\\#02\\data\\udp_dnlk_loss_latency\\home\\wmnlab\\F\\database\\2024-03-20\\UDP_Bandlock_9S_Phone_A\\sm07\\#02\\data\\udp_dnlk_loss_latency.csv\n",
      "./20240329_160006be6c_new_dataset_sync/dr_20240408_0555003db4_anchor_by_packet/dl_lost/results/A_20240408_0345025_35035.pkl\n",
      "71/72 /home/wmnlab/F/database/2024-03-20/UDP_Bandlock_9S_Phone_A/sm06/#02/data/handover_info_log.csv\n",
      "71/72 /home/wmnlab/F/database/2024-03-20/UDP_Bandlock_9S_Phone_A/sm06/#02/data/udp_dnlk_loss_latency.csv\n",
      "71/72 /home/wmnlab/F/database/2024-03-20/UDP_Bandlock_9S_Phone_A/sm08/#02/data/handover_info_log.csv\n",
      "71/72 /home/wmnlab/F/database/2024-03-20/UDP_Bandlock_9S_Phone_A/sm08/#02/data/udp_dnlk_loss_latency.csv\n"
     ]
    },
    {
     "data": {
      "application/vnd.jupyter.widget-view+json": {
       "model_id": "f1a468e949c6418b9166c34322ea340d",
       "version_major": 2,
       "version_minor": 0
      },
      "text/plain": [
       "  0%|                                                                                                         …"
      ]
     },
     "metadata": {},
     "output_type": "display_data"
    },
    {
     "name": "stdout",
     "output_type": "stream",
     "text": [
      "/home/wmnlab/F/results/20240329_160006be6c_new_dataset_sync/dr_20240408_0555003db4_anchor_by_packet/dl_lost/A_20240408_0345025_35035/\\home\\wmnlab\\F\\database\\2024-03-20\\UDP_Bandlock_9S_Phone_A\\sm06\\#02\\data\\udp_dnlk_loss_latency\\home\\wmnlab\\F\\database\\2024-03-20\\UDP_Bandlock_9S_Phone_A\\sm08\\#02\\data\\udp_dnlk_loss_latency.csv\n",
      "./20240329_160006be6c_new_dataset_sync/dr_20240408_0555003db4_anchor_by_packet/dl_lost/results/A_20240408_0345025_35035.pkl\n",
      "72/72 /home/wmnlab/F/database/2024-03-20/UDP_Bandlock_9S_Phone_A/sm07/#02/data/handover_info_log.csv\n",
      "72/72 /home/wmnlab/F/database/2024-03-20/UDP_Bandlock_9S_Phone_A/sm07/#02/data/udp_dnlk_loss_latency.csv\n",
      "72/72 /home/wmnlab/F/database/2024-03-20/UDP_Bandlock_9S_Phone_A/sm08/#02/data/handover_info_log.csv\n",
      "72/72 /home/wmnlab/F/database/2024-03-20/UDP_Bandlock_9S_Phone_A/sm08/#02/data/udp_dnlk_loss_latency.csv\n"
     ]
    },
    {
     "data": {
      "application/vnd.jupyter.widget-view+json": {
       "model_id": "e0b9ec2290074596bf7ba68a5ae033c3",
       "version_major": 2,
       "version_minor": 0
      },
      "text/plain": [
       "  0%|                                                                                                         …"
      ]
     },
     "metadata": {},
     "output_type": "display_data"
    },
    {
     "name": "stdout",
     "output_type": "stream",
     "text": [
      "/home/wmnlab/F/results/20240329_160006be6c_new_dataset_sync/dr_20240408_0555003db4_anchor_by_packet/dl_lost/A_20240408_0345025_35035/\\home\\wmnlab\\F\\database\\2024-03-20\\UDP_Bandlock_9S_Phone_A\\sm07\\#02\\data\\udp_dnlk_loss_latency\\home\\wmnlab\\F\\database\\2024-03-20\\UDP_Bandlock_9S_Phone_A\\sm08\\#02\\data\\udp_dnlk_loss_latency.csv\n",
      "./20240329_160006be6c_new_dataset_sync/dr_20240408_0555003db4_anchor_by_packet/dl_lost/results/A_20240408_0345025_35035.pkl\n",
      "./20240329_160006be6c_new_dataset_sync/dr_20240408_0555003db4_anchor_by_packet/dl_lost/figures/A_20240408_0345025_35035.png\n"
     ]
    },
    {
     "data": {
      "image/png": "[encoded data removed]",
      "text/plain": [
       "<Figure size 550x400 with 1 Axes>"
      ]
     },
     "metadata": {
      "image/png": {
       "height": 380,
       "width": 542
      }
     },
     "output_type": "display_data"
    },
    {
     "name": "stdout",
     "output_type": "stream",
     "text": [
      ". 20240329_160006be6c_new_dataset_sync dr_20240408_0555003db4_anchor_by_packet A dl_lost\n",
      "./20240329_160006be6c_new_dataset_sync/dl_lost/models/A\n",
      "./20240329_160006be6c_new_dataset_sync/dr_20240408_0555003db4_anchor_by_packet/dl_lost/models/A\n",
      "./20240329_160006be6c_new_dataset_sync/dr_20240408_0555003db4_anchor_by_packet/dl_lost/models/A_dr_prob_models_adjust.pkl\n",
      "1/72 /home/wmnlab/F/database/2024-03-20/UDP_Bandlock_9S_Phone_A/sm00/#01/data/handover_info_log.csv\n",
      "1/72 /home/wmnlab/F/database/2024-03-20/UDP_Bandlock_9S_Phone_A/sm00/#01/data/udp_dnlk_loss_latency.csv\n",
      "1/72 /home/wmnlab/F/database/2024-03-20/UDP_Bandlock_9S_Phone_A/sm01/#01/data/handover_info_log.csv\n",
      "1/72 /home/wmnlab/F/database/2024-03-20/UDP_Bandlock_9S_Phone_A/sm01/#01/data/udp_dnlk_loss_latency.csv\n"
     ]
    },
    {
     "data": {
      "application/vnd.jupyter.widget-view+json": {
       "model_id": "81fc7577f7334bb6a7d10bfc9db09ba3",
       "version_major": 2,
       "version_minor": 0
      },
      "text/plain": [
       "  0%|                                                                                                         …"
      ]
     },
     "metadata": {},
     "output_type": "display_data"
    },
    {
     "name": "stdout",
     "output_type": "stream",
     "text": [
      "/home/wmnlab/F/results/20240329_160006be6c_new_dataset_sync/dr_20240408_0555003db4_anchor_by_packet/dl_lost/A_adjust_20240408_0345026_917c7/\\home\\wmnlab\\F\\database\\2024-03-20\\UDP_Bandlock_9S_Phone_A\\sm00\\#01\\data\\udp_dnlk_loss_latency\\home\\wmnlab\\F\\database\\2024-03-20\\UDP_Bandlock_9S_Phone_A\\sm01\\#01\\data\\udp_dnlk_loss_latency.csv\n",
      "./20240329_160006be6c_new_dataset_sync/dr_20240408_0555003db4_anchor_by_packet/dl_lost/results/A_adjust_20240408_0345026_917c7.pkl\n",
      "2/72 /home/wmnlab/F/database/2024-03-20/UDP_Bandlock_9S_Phone_A/sm00/#01/data/handover_info_log.csv\n",
      "2/72 /home/wmnlab/F/database/2024-03-20/UDP_Bandlock_9S_Phone_A/sm00/#01/data/udp_dnlk_loss_latency.csv\n",
      "2/72 /home/wmnlab/F/database/2024-03-20/UDP_Bandlock_9S_Phone_A/sm02/#01/data/handover_info_log.csv\n",
      "2/72 /home/wmnlab/F/database/2024-03-20/UDP_Bandlock_9S_Phone_A/sm02/#01/data/udp_dnlk_loss_latency.csv\n"
     ]
    },
    {
     "data": {
      "application/vnd.jupyter.widget-view+json": {
       "model_id": "8c47b549a75446c7be36a0ad55d726a7",
       "version_major": 2,
       "version_minor": 0
      },
      "text/plain": [
       "  0%|                                                                                                         …"
      ]
     },
     "metadata": {},
     "output_type": "display_data"
    },
    {
     "name": "stdout",
     "output_type": "stream",
     "text": [
      "/home/wmnlab/F/results/20240329_160006be6c_new_dataset_sync/dr_20240408_0555003db4_anchor_by_packet/dl_lost/A_adjust_20240408_0345026_917c7/\\home\\wmnlab\\F\\database\\2024-03-20\\UDP_Bandlock_9S_Phone_A\\sm00\\#01\\data\\udp_dnlk_loss_latency\\home\\wmnlab\\F\\database\\2024-03-20\\UDP_Bandlock_9S_Phone_A\\sm02\\#01\\data\\udp_dnlk_loss_latency.csv\n",
      "./20240329_160006be6c_new_dataset_sync/dr_20240408_0555003db4_anchor_by_packet/dl_lost/results/A_adjust_20240408_0345026_917c7.pkl\n",
      "3/72 /home/wmnlab/F/database/2024-03-20/UDP_Bandlock_9S_Phone_A/sm00/#01/data/handover_info_log.csv\n",
      "3/72 /home/wmnlab/F/database/2024-03-20/UDP_Bandlock_9S_Phone_A/sm00/#01/data/udp_dnlk_loss_latency.csv\n",
      "3/72 /home/wmnlab/F/database/2024-03-20/UDP_Bandlock_9S_Phone_A/sm03/#01/data/handover_info_log.csv\n",
      "3/72 /home/wmnlab/F/database/2024-03-20/UDP_Bandlock_9S_Phone_A/sm03/#01/data/udp_dnlk_loss_latency.csv\n"
     ]
    },
    {
     "data": {
      "application/vnd.jupyter.widget-view+json": {
       "model_id": "1244dbc1966c43b297d146eb6e85ba91",
       "version_major": 2,
       "version_minor": 0
      },
      "text/plain": [
       "  0%|                                                                                                         …"
      ]
     },
     "metadata": {},
     "output_type": "display_data"
    },
    {
     "name": "stdout",
     "output_type": "stream",
     "text": [
      "/home/wmnlab/F/results/20240329_160006be6c_new_dataset_sync/dr_20240408_0555003db4_anchor_by_packet/dl_lost/A_adjust_20240408_0345026_917c7/\\home\\wmnlab\\F\\database\\2024-03-20\\UDP_Bandlock_9S_Phone_A\\sm00\\#01\\data\\udp_dnlk_loss_latency\\home\\wmnlab\\F\\database\\2024-03-20\\UDP_Bandlock_9S_Phone_A\\sm03\\#01\\data\\udp_dnlk_loss_latency.csv\n",
      "./20240329_160006be6c_new_dataset_sync/dr_20240408_0555003db4_anchor_by_packet/dl_lost/results/A_adjust_20240408_0345026_917c7.pkl\n",
      "4/72 /home/wmnlab/F/database/2024-03-20/UDP_Bandlock_9S_Phone_A/sm00/#01/data/handover_info_log.csv\n",
      "4/72 /home/wmnlab/F/database/2024-03-20/UDP_Bandlock_9S_Phone_A/sm00/#01/data/udp_dnlk_loss_latency.csv\n",
      "4/72 /home/wmnlab/F/database/2024-03-20/UDP_Bandlock_9S_Phone_A/sm04/#01/data/handover_info_log.csv\n",
      "4/72 /home/wmnlab/F/database/2024-03-20/UDP_Bandlock_9S_Phone_A/sm04/#01/data/udp_dnlk_loss_latency.csv\n"
     ]
    },
    {
     "data": {
      "application/vnd.jupyter.widget-view+json": {
       "model_id": "6ee1ad2252064b96bab0140e949063a1",
       "version_major": 2,
       "version_minor": 0
      },
      "text/plain": [
       "  0%|                                                                                                         …"
      ]
     },
     "metadata": {},
     "output_type": "display_data"
    },
    {
     "name": "stdout",
     "output_type": "stream",
     "text": [
      "/home/wmnlab/F/results/20240329_160006be6c_new_dataset_sync/dr_20240408_0555003db4_anchor_by_packet/dl_lost/A_adjust_20240408_0345026_917c7/\\home\\wmnlab\\F\\database\\2024-03-20\\UDP_Bandlock_9S_Phone_A\\sm00\\#01\\data\\udp_dnlk_loss_latency\\home\\wmnlab\\F\\database\\2024-03-20\\UDP_Bandlock_9S_Phone_A\\sm04\\#01\\data\\udp_dnlk_loss_latency.csv\n",
      "./20240329_160006be6c_new_dataset_sync/dr_20240408_0555003db4_anchor_by_packet/dl_lost/results/A_adjust_20240408_0345026_917c7.pkl\n",
      "5/72 /home/wmnlab/F/database/2024-03-20/UDP_Bandlock_9S_Phone_A/sm00/#01/data/handover_info_log.csv\n",
      "5/72 /home/wmnlab/F/database/2024-03-20/UDP_Bandlock_9S_Phone_A/sm00/#01/data/udp_dnlk_loss_latency.csv\n",
      "5/72 /home/wmnlab/F/database/2024-03-20/UDP_Bandlock_9S_Phone_A/sm05/#01/data/handover_info_log.csv\n",
      "5/72 /home/wmnlab/F/database/2024-03-20/UDP_Bandlock_9S_Phone_A/sm05/#01/data/udp_dnlk_loss_latency.csv\n"
     ]
    },
    {
     "data": {
      "application/vnd.jupyter.widget-view+json": {
       "model_id": "9e0245639e434bcf9fa9f3f39154bcae",
       "version_major": 2,
       "version_minor": 0
      },
      "text/plain": [
       "  0%|                                                                                                         …"
      ]
     },
     "metadata": {},
     "output_type": "display_data"
    },
    {
     "name": "stdout",
     "output_type": "stream",
     "text": [
      "/home/wmnlab/F/results/20240329_160006be6c_new_dataset_sync/dr_20240408_0555003db4_anchor_by_packet/dl_lost/A_adjust_20240408_0345026_917c7/\\home\\wmnlab\\F\\database\\2024-03-20\\UDP_Bandlock_9S_Phone_A\\sm00\\#01\\data\\udp_dnlk_loss_latency\\home\\wmnlab\\F\\database\\2024-03-20\\UDP_Bandlock_9S_Phone_A\\sm05\\#01\\data\\udp_dnlk_loss_latency.csv\n",
      "./20240329_160006be6c_new_dataset_sync/dr_20240408_0555003db4_anchor_by_packet/dl_lost/results/A_adjust_20240408_0345026_917c7.pkl\n",
      "6/72 /home/wmnlab/F/database/2024-03-20/UDP_Bandlock_9S_Phone_A/sm00/#01/data/handover_info_log.csv\n",
      "6/72 /home/wmnlab/F/database/2024-03-20/UDP_Bandlock_9S_Phone_A/sm00/#01/data/udp_dnlk_loss_latency.csv\n",
      "6/72 /home/wmnlab/F/database/2024-03-20/UDP_Bandlock_9S_Phone_A/sm06/#01/data/handover_info_log.csv\n",
      "6/72 /home/wmnlab/F/database/2024-03-20/UDP_Bandlock_9S_Phone_A/sm06/#01/data/udp_dnlk_loss_latency.csv\n"
     ]
    },
    {
     "data": {
      "application/vnd.jupyter.widget-view+json": {
       "model_id": "e53c6a8094a04b93b39c7b7697fc928c",
       "version_major": 2,
       "version_minor": 0
      },
      "text/plain": [
       "  0%|                                                                                                         …"
      ]
     },
     "metadata": {},
     "output_type": "display_data"
    },
    {
     "name": "stdout",
     "output_type": "stream",
     "text": [
      "/home/wmnlab/F/results/20240329_160006be6c_new_dataset_sync/dr_20240408_0555003db4_anchor_by_packet/dl_lost/A_adjust_20240408_0345026_917c7/\\home\\wmnlab\\F\\database\\2024-03-20\\UDP_Bandlock_9S_Phone_A\\sm00\\#01\\data\\udp_dnlk_loss_latency\\home\\wmnlab\\F\\database\\2024-03-20\\UDP_Bandlock_9S_Phone_A\\sm06\\#01\\data\\udp_dnlk_loss_latency.csv\n",
      "./20240329_160006be6c_new_dataset_sync/dr_20240408_0555003db4_anchor_by_packet/dl_lost/results/A_adjust_20240408_0345026_917c7.pkl\n",
      "7/72 /home/wmnlab/F/database/2024-03-20/UDP_Bandlock_9S_Phone_A/sm00/#01/data/handover_info_log.csv\n",
      "7/72 /home/wmnlab/F/database/2024-03-20/UDP_Bandlock_9S_Phone_A/sm00/#01/data/udp_dnlk_loss_latency.csv\n",
      "7/72 /home/wmnlab/F/database/2024-03-20/UDP_Bandlock_9S_Phone_A/sm07/#01/data/handover_info_log.csv\n",
      "7/72 /home/wmnlab/F/database/2024-03-20/UDP_Bandlock_9S_Phone_A/sm07/#01/data/udp_dnlk_loss_latency.csv\n"
     ]
    },
    {
     "data": {
      "application/vnd.jupyter.widget-view+json": {
       "model_id": "d91dd623b1ef447485988fb77a3bfdf7",
       "version_major": 2,
       "version_minor": 0
      },
      "text/plain": [
       "  0%|                                                                                                         …"
      ]
     },
     "metadata": {},
     "output_type": "display_data"
    },
    {
     "name": "stdout",
     "output_type": "stream",
     "text": [
      "/home/wmnlab/F/results/20240329_160006be6c_new_dataset_sync/dr_20240408_0555003db4_anchor_by_packet/dl_lost/A_adjust_20240408_0345026_917c7/\\home\\wmnlab\\F\\database\\2024-03-20\\UDP_Bandlock_9S_Phone_A\\sm00\\#01\\data\\udp_dnlk_loss_latency\\home\\wmnlab\\F\\database\\2024-03-20\\UDP_Bandlock_9S_Phone_A\\sm07\\#01\\data\\udp_dnlk_loss_latency.csv\n",
      "./20240329_160006be6c_new_dataset_sync/dr_20240408_0555003db4_anchor_by_packet/dl_lost/results/A_adjust_20240408_0345026_917c7.pkl\n",
      "8/72 /home/wmnlab/F/database/2024-03-20/UDP_Bandlock_9S_Phone_A/sm00/#01/data/handover_info_log.csv\n",
      "8/72 /home/wmnlab/F/database/2024-03-20/UDP_Bandlock_9S_Phone_A/sm00/#01/data/udp_dnlk_loss_latency.csv\n",
      "8/72 /home/wmnlab/F/database/2024-03-20/UDP_Bandlock_9S_Phone_A/sm08/#01/data/handover_info_log.csv\n",
      "8/72 /home/wmnlab/F/database/2024-03-20/UDP_Bandlock_9S_Phone_A/sm08/#01/data/udp_dnlk_loss_latency.csv\n"
     ]
    },
    {
     "data": {
      "application/vnd.jupyter.widget-view+json": {
       "model_id": "562591973b21403caf12c4e471fe7b92",
       "version_major": 2,
       "version_minor": 0
      },
      "text/plain": [
       "  0%|                                                                                                         …"
      ]
     },
     "metadata": {},
     "output_type": "display_data"
    },
    {
     "name": "stdout",
     "output_type": "stream",
     "text": [
      "/home/wmnlab/F/results/20240329_160006be6c_new_dataset_sync/dr_20240408_0555003db4_anchor_by_packet/dl_lost/A_adjust_20240408_0345026_917c7/\\home\\wmnlab\\F\\database\\2024-03-20\\UDP_Bandlock_9S_Phone_A\\sm00\\#01\\data\\udp_dnlk_loss_latency\\home\\wmnlab\\F\\database\\2024-03-20\\UDP_Bandlock_9S_Phone_A\\sm08\\#01\\data\\udp_dnlk_loss_latency.csv\n",
      "./20240329_160006be6c_new_dataset_sync/dr_20240408_0555003db4_anchor_by_packet/dl_lost/results/A_adjust_20240408_0345026_917c7.pkl\n",
      "9/72 /home/wmnlab/F/database/2024-03-20/UDP_Bandlock_9S_Phone_A/sm01/#01/data/handover_info_log.csv\n",
      "9/72 /home/wmnlab/F/database/2024-03-20/UDP_Bandlock_9S_Phone_A/sm01/#01/data/udp_dnlk_loss_latency.csv\n",
      "9/72 /home/wmnlab/F/database/2024-03-20/UDP_Bandlock_9S_Phone_A/sm02/#01/data/handover_info_log.csv\n",
      "9/72 /home/wmnlab/F/database/2024-03-20/UDP_Bandlock_9S_Phone_A/sm02/#01/data/udp_dnlk_loss_latency.csv\n"
     ]
    },
    {
     "data": {
      "application/vnd.jupyter.widget-view+json": {
       "model_id": "5ad60a257c5b40fabc2165315431311d",
       "version_major": 2,
       "version_minor": 0
      },
      "text/plain": [
       "  0%|                                                                                                         …"
      ]
     },
     "metadata": {},
     "output_type": "display_data"
    },
    {
     "name": "stdout",
     "output_type": "stream",
     "text": [
      "/home/wmnlab/F/results/20240329_160006be6c_new_dataset_sync/dr_20240408_0555003db4_anchor_by_packet/dl_lost/A_adjust_20240408_0345026_917c7/\\home\\wmnlab\\F\\database\\2024-03-20\\UDP_Bandlock_9S_Phone_A\\sm01\\#01\\data\\udp_dnlk_loss_latency\\home\\wmnlab\\F\\database\\2024-03-20\\UDP_Bandlock_9S_Phone_A\\sm02\\#01\\data\\udp_dnlk_loss_latency.csv\n",
      "./20240329_160006be6c_new_dataset_sync/dr_20240408_0555003db4_anchor_by_packet/dl_lost/results/A_adjust_20240408_0345026_917c7.pkl\n",
      "10/72 /home/wmnlab/F/database/2024-03-20/UDP_Bandlock_9S_Phone_A/sm01/#01/data/handover_info_log.csv\n",
      "10/72 /home/wmnlab/F/database/2024-03-20/UDP_Bandlock_9S_Phone_A/sm01/#01/data/udp_dnlk_loss_latency.csv\n",
      "10/72 /home/wmnlab/F/database/2024-03-20/UDP_Bandlock_9S_Phone_A/sm03/#01/data/handover_info_log.csv\n",
      "10/72 /home/wmnlab/F/database/2024-03-20/UDP_Bandlock_9S_Phone_A/sm03/#01/data/udp_dnlk_loss_latency.csv\n"
     ]
    },
    {
     "data": {
      "application/vnd.jupyter.widget-view+json": {
       "model_id": "5576dc2b95824e06aec50db24ad51971",
       "version_major": 2,
       "version_minor": 0
      },
      "text/plain": [
       "  0%|                                                                                                         …"
      ]
     },
     "metadata": {},
     "output_type": "display_data"
    },
    {
     "name": "stdout",
     "output_type": "stream",
     "text": [
      "/home/wmnlab/F/results/20240329_160006be6c_new_dataset_sync/dr_20240408_0555003db4_anchor_by_packet/dl_lost/A_adjust_20240408_0345026_917c7/\\home\\wmnlab\\F\\database\\2024-03-20\\UDP_Bandlock_9S_Phone_A\\sm01\\#01\\data\\udp_dnlk_loss_latency\\home\\wmnlab\\F\\database\\2024-03-20\\UDP_Bandlock_9S_Phone_A\\sm03\\#01\\data\\udp_dnlk_loss_latency.csv\n",
      "./20240329_160006be6c_new_dataset_sync/dr_20240408_0555003db4_anchor_by_packet/dl_lost/results/A_adjust_20240408_0345026_917c7.pkl\n",
      "11/72 /home/wmnlab/F/database/2024-03-20/UDP_Bandlock_9S_Phone_A/sm01/#01/data/handover_info_log.csv\n",
      "11/72 /home/wmnlab/F/database/2024-03-20/UDP_Bandlock_9S_Phone_A/sm01/#01/data/udp_dnlk_loss_latency.csv\n",
      "11/72 /home/wmnlab/F/database/2024-03-20/UDP_Bandlock_9S_Phone_A/sm04/#01/data/handover_info_log.csv\n",
      "11/72 /home/wmnlab/F/database/2024-03-20/UDP_Bandlock_9S_Phone_A/sm04/#01/data/udp_dnlk_loss_latency.csv\n"
     ]
    },
    {
     "data": {
      "application/vnd.jupyter.widget-view+json": {
       "model_id": "14b120374a944097bb83fd4b27700d53",
       "version_major": 2,
       "version_minor": 0
      },
      "text/plain": [
       "  0%|                                                                                                         …"
      ]
     },
     "metadata": {},
     "output_type": "display_data"
    },
    {
     "name": "stdout",
     "output_type": "stream",
     "text": [
      "/home/wmnlab/F/results/20240329_160006be6c_new_dataset_sync/dr_20240408_0555003db4_anchor_by_packet/dl_lost/A_adjust_20240408_0345026_917c7/\\home\\wmnlab\\F\\database\\2024-03-20\\UDP_Bandlock_9S_Phone_A\\sm01\\#01\\data\\udp_dnlk_loss_latency\\home\\wmnlab\\F\\database\\2024-03-20\\UDP_Bandlock_9S_Phone_A\\sm04\\#01\\data\\udp_dnlk_loss_latency.csv\n",
      "./20240329_160006be6c_new_dataset_sync/dr_20240408_0555003db4_anchor_by_packet/dl_lost/results/A_adjust_20240408_0345026_917c7.pkl\n",
      "12/72 /home/wmnlab/F/database/2024-03-20/UDP_Bandlock_9S_Phone_A/sm01/#01/data/handover_info_log.csv\n",
      "12/72 /home/wmnlab/F/database/2024-03-20/UDP_Bandlock_9S_Phone_A/sm01/#01/data/udp_dnlk_loss_latency.csv\n",
      "12/72 /home/wmnlab/F/database/2024-03-20/UDP_Bandlock_9S_Phone_A/sm05/#01/data/handover_info_log.csv\n",
      "12/72 /home/wmnlab/F/database/2024-03-20/UDP_Bandlock_9S_Phone_A/sm05/#01/data/udp_dnlk_loss_latency.csv\n"
     ]
    },
    {
     "data": {
      "application/vnd.jupyter.widget-view+json": {
       "model_id": "3f424639083349f39c75c5a43f050641",
       "version_major": 2,
       "version_minor": 0
      },
      "text/plain": [
       "  0%|                                                                                                         …"
      ]
     },
     "metadata": {},
     "output_type": "display_data"
    },
    {
     "name": "stdout",
     "output_type": "stream",
     "text": [
      "/home/wmnlab/F/results/20240329_160006be6c_new_dataset_sync/dr_20240408_0555003db4_anchor_by_packet/dl_lost/A_adjust_20240408_0345026_917c7/\\home\\wmnlab\\F\\database\\2024-03-20\\UDP_Bandlock_9S_Phone_A\\sm01\\#01\\data\\udp_dnlk_loss_latency\\home\\wmnlab\\F\\database\\2024-03-20\\UDP_Bandlock_9S_Phone_A\\sm05\\#01\\data\\udp_dnlk_loss_latency.csv\n",
      "./20240329_160006be6c_new_dataset_sync/dr_20240408_0555003db4_anchor_by_packet/dl_lost/results/A_adjust_20240408_0345026_917c7.pkl\n",
      "13/72 /home/wmnlab/F/database/2024-03-20/UDP_Bandlock_9S_Phone_A/sm01/#01/data/handover_info_log.csv\n",
      "13/72 /home/wmnlab/F/database/2024-03-20/UDP_Bandlock_9S_Phone_A/sm01/#01/data/udp_dnlk_loss_latency.csv\n",
      "13/72 /home/wmnlab/F/database/2024-03-20/UDP_Bandlock_9S_Phone_A/sm06/#01/data/handover_info_log.csv\n",
      "13/72 /home/wmnlab/F/database/2024-03-20/UDP_Bandlock_9S_Phone_A/sm06/#01/data/udp_dnlk_loss_latency.csv\n"
     ]
    },
    {
     "data": {
      "application/vnd.jupyter.widget-view+json": {
       "model_id": "4f0b76e3776743c28bcff00d15b07d05",
       "version_major": 2,
       "version_minor": 0
      },
      "text/plain": [
       "  0%|                                                                                                         …"
      ]
     },
     "metadata": {},
     "output_type": "display_data"
    },
    {
     "name": "stdout",
     "output_type": "stream",
     "text": [
      "/home/wmnlab/F/results/20240329_160006be6c_new_dataset_sync/dr_20240408_0555003db4_anchor_by_packet/dl_lost/A_adjust_20240408_0345026_917c7/\\home\\wmnlab\\F\\database\\2024-03-20\\UDP_Bandlock_9S_Phone_A\\sm01\\#01\\data\\udp_dnlk_loss_latency\\home\\wmnlab\\F\\database\\2024-03-20\\UDP_Bandlock_9S_Phone_A\\sm06\\#01\\data\\udp_dnlk_loss_latency.csv\n",
      "./20240329_160006be6c_new_dataset_sync/dr_20240408_0555003db4_anchor_by_packet/dl_lost/results/A_adjust_20240408_0345026_917c7.pkl\n",
      "14/72 /home/wmnlab/F/database/2024-03-20/UDP_Bandlock_9S_Phone_A/sm01/#01/data/handover_info_log.csv\n",
      "14/72 /home/wmnlab/F/database/2024-03-20/UDP_Bandlock_9S_Phone_A/sm01/#01/data/udp_dnlk_loss_latency.csv\n",
      "14/72 /home/wmnlab/F/database/2024-03-20/UDP_Bandlock_9S_Phone_A/sm07/#01/data/handover_info_log.csv\n",
      "14/72 /home/wmnlab/F/database/2024-03-20/UDP_Bandlock_9S_Phone_A/sm07/#01/data/udp_dnlk_loss_latency.csv\n"
     ]
    },
    {
     "data": {
      "application/vnd.jupyter.widget-view+json": {
       "model_id": "5d2ae0a491074f7a81e81d5d18394e0a",
       "version_major": 2,
       "version_minor": 0
      },
      "text/plain": [
       "  0%|                                                                                                         …"
      ]
     },
     "metadata": {},
     "output_type": "display_data"
    },
    {
     "name": "stdout",
     "output_type": "stream",
     "text": [
      "/home/wmnlab/F/results/20240329_160006be6c_new_dataset_sync/dr_20240408_0555003db4_anchor_by_packet/dl_lost/A_adjust_20240408_0345026_917c7/\\home\\wmnlab\\F\\database\\2024-03-20\\UDP_Bandlock_9S_Phone_A\\sm01\\#01\\data\\udp_dnlk_loss_latency\\home\\wmnlab\\F\\database\\2024-03-20\\UDP_Bandlock_9S_Phone_A\\sm07\\#01\\data\\udp_dnlk_loss_latency.csv\n",
      "./20240329_160006be6c_new_dataset_sync/dr_20240408_0555003db4_anchor_by_packet/dl_lost/results/A_adjust_20240408_0345026_917c7.pkl\n",
      "15/72 /home/wmnlab/F/database/2024-03-20/UDP_Bandlock_9S_Phone_A/sm01/#01/data/handover_info_log.csv\n",
      "15/72 /home/wmnlab/F/database/2024-03-20/UDP_Bandlock_9S_Phone_A/sm01/#01/data/udp_dnlk_loss_latency.csv\n",
      "15/72 /home/wmnlab/F/database/2024-03-20/UDP_Bandlock_9S_Phone_A/sm08/#01/data/handover_info_log.csv\n",
      "15/72 /home/wmnlab/F/database/2024-03-20/UDP_Bandlock_9S_Phone_A/sm08/#01/data/udp_dnlk_loss_latency.csv\n"
     ]
    },
    {
     "data": {
      "application/vnd.jupyter.widget-view+json": {
       "model_id": "57c5bccda83244869d15d169bc2fa67b",
       "version_major": 2,
       "version_minor": 0
      },
      "text/plain": [
       "  0%|                                                                                                         …"
      ]
     },
     "metadata": {},
     "output_type": "display_data"
    },
    {
     "name": "stdout",
     "output_type": "stream",
     "text": [
      "/home/wmnlab/F/results/20240329_160006be6c_new_dataset_sync/dr_20240408_0555003db4_anchor_by_packet/dl_lost/A_adjust_20240408_0345026_917c7/\\home\\wmnlab\\F\\database\\2024-03-20\\UDP_Bandlock_9S_Phone_A\\sm01\\#01\\data\\udp_dnlk_loss_latency\\home\\wmnlab\\F\\database\\2024-03-20\\UDP_Bandlock_9S_Phone_A\\sm08\\#01\\data\\udp_dnlk_loss_latency.csv\n",
      "./20240329_160006be6c_new_dataset_sync/dr_20240408_0555003db4_anchor_by_packet/dl_lost/results/A_adjust_20240408_0345026_917c7.pkl\n",
      "16/72 /home/wmnlab/F/database/2024-03-20/UDP_Bandlock_9S_Phone_A/sm02/#01/data/handover_info_log.csv\n",
      "16/72 /home/wmnlab/F/database/2024-03-20/UDP_Bandlock_9S_Phone_A/sm02/#01/data/udp_dnlk_loss_latency.csv\n",
      "16/72 /home/wmnlab/F/database/2024-03-20/UDP_Bandlock_9S_Phone_A/sm03/#01/data/handover_info_log.csv\n",
      "16/72 /home/wmnlab/F/database/2024-03-20/UDP_Bandlock_9S_Phone_A/sm03/#01/data/udp_dnlk_loss_latency.csv\n"
     ]
    },
    {
     "data": {
      "application/vnd.jupyter.widget-view+json": {
       "model_id": "57b28b11526445f79090c238c877177d",
       "version_major": 2,
       "version_minor": 0
      },
      "text/plain": [
       "  0%|                                                                                                         …"
      ]
     },
     "metadata": {},
     "output_type": "display_data"
    },
    {
     "name": "stdout",
     "output_type": "stream",
     "text": [
      "/home/wmnlab/F/results/20240329_160006be6c_new_dataset_sync/dr_20240408_0555003db4_anchor_by_packet/dl_lost/A_adjust_20240408_0345026_917c7/\\home\\wmnlab\\F\\database\\2024-03-20\\UDP_Bandlock_9S_Phone_A\\sm02\\#01\\data\\udp_dnlk_loss_latency\\home\\wmnlab\\F\\database\\2024-03-20\\UDP_Bandlock_9S_Phone_A\\sm03\\#01\\data\\udp_dnlk_loss_latency.csv\n",
      "./20240329_160006be6c_new_dataset_sync/dr_20240408_0555003db4_anchor_by_packet/dl_lost/results/A_adjust_20240408_0345026_917c7.pkl\n",
      "17/72 /home/wmnlab/F/database/2024-03-20/UDP_Bandlock_9S_Phone_A/sm02/#01/data/handover_info_log.csv\n",
      "17/72 /home/wmnlab/F/database/2024-03-20/UDP_Bandlock_9S_Phone_A/sm02/#01/data/udp_dnlk_loss_latency.csv\n",
      "17/72 /home/wmnlab/F/database/2024-03-20/UDP_Bandlock_9S_Phone_A/sm04/#01/data/handover_info_log.csv\n",
      "17/72 /home/wmnlab/F/database/2024-03-20/UDP_Bandlock_9S_Phone_A/sm04/#01/data/udp_dnlk_loss_latency.csv\n"
     ]
    },
    {
     "data": {
      "application/vnd.jupyter.widget-view+json": {
       "model_id": "528867f97de845ff95c59d9e63751bbd",
       "version_major": 2,
       "version_minor": 0
      },
      "text/plain": [
       "  0%|                                                                                                         …"
      ]
     },
     "metadata": {},
     "output_type": "display_data"
    },
    {
     "name": "stdout",
     "output_type": "stream",
     "text": [
      "/home/wmnlab/F/results/20240329_160006be6c_new_dataset_sync/dr_20240408_0555003db4_anchor_by_packet/dl_lost/A_adjust_20240408_0345026_917c7/\\home\\wmnlab\\F\\database\\2024-03-20\\UDP_Bandlock_9S_Phone_A\\sm02\\#01\\data\\udp_dnlk_loss_latency\\home\\wmnlab\\F\\database\\2024-03-20\\UDP_Bandlock_9S_Phone_A\\sm04\\#01\\data\\udp_dnlk_loss_latency.csv\n",
      "./20240329_160006be6c_new_dataset_sync/dr_20240408_0555003db4_anchor_by_packet/dl_lost/results/A_adjust_20240408_0345026_917c7.pkl\n",
      "18/72 /home/wmnlab/F/database/2024-03-20/UDP_Bandlock_9S_Phone_A/sm02/#01/data/handover_info_log.csv\n",
      "18/72 /home/wmnlab/F/database/2024-03-20/UDP_Bandlock_9S_Phone_A/sm02/#01/data/udp_dnlk_loss_latency.csv\n",
      "18/72 /home/wmnlab/F/database/2024-03-20/UDP_Bandlock_9S_Phone_A/sm05/#01/data/handover_info_log.csv\n",
      "18/72 /home/wmnlab/F/database/2024-03-20/UDP_Bandlock_9S_Phone_A/sm05/#01/data/udp_dnlk_loss_latency.csv\n"
     ]
    },
    {
     "data": {
      "application/vnd.jupyter.widget-view+json": {
       "model_id": "901ce39da59443068f98f0f6c542284b",
       "version_major": 2,
       "version_minor": 0
      },
      "text/plain": [
       "  0%|                                                                                                         …"
      ]
     },
     "metadata": {},
     "output_type": "display_data"
    },
    {
     "name": "stdout",
     "output_type": "stream",
     "text": [
      "/home/wmnlab/F/results/20240329_160006be6c_new_dataset_sync/dr_20240408_0555003db4_anchor_by_packet/dl_lost/A_adjust_20240408_0345026_917c7/\\home\\wmnlab\\F\\database\\2024-03-20\\UDP_Bandlock_9S_Phone_A\\sm02\\#01\\data\\udp_dnlk_loss_latency\\home\\wmnlab\\F\\database\\2024-03-20\\UDP_Bandlock_9S_Phone_A\\sm05\\#01\\data\\udp_dnlk_loss_latency.csv\n",
      "./20240329_160006be6c_new_dataset_sync/dr_20240408_0555003db4_anchor_by_packet/dl_lost/results/A_adjust_20240408_0345026_917c7.pkl\n",
      "19/72 /home/wmnlab/F/database/2024-03-20/UDP_Bandlock_9S_Phone_A/sm02/#01/data/handover_info_log.csv\n",
      "19/72 /home/wmnlab/F/database/2024-03-20/UDP_Bandlock_9S_Phone_A/sm02/#01/data/udp_dnlk_loss_latency.csv\n",
      "19/72 /home/wmnlab/F/database/2024-03-20/UDP_Bandlock_9S_Phone_A/sm06/#01/data/handover_info_log.csv\n",
      "19/72 /home/wmnlab/F/database/2024-03-20/UDP_Bandlock_9S_Phone_A/sm06/#01/data/udp_dnlk_loss_latency.csv\n"
     ]
    },
    {
     "data": {
      "application/vnd.jupyter.widget-view+json": {
       "model_id": "c86fcad3704548599d987f61b97c539d",
       "version_major": 2,
       "version_minor": 0
      },
      "text/plain": [
       "  0%|                                                                                                         …"
      ]
     },
     "metadata": {},
     "output_type": "display_data"
    },
    {
     "name": "stdout",
     "output_type": "stream",
     "text": [
      "/home/wmnlab/F/results/20240329_160006be6c_new_dataset_sync/dr_20240408_0555003db4_anchor_by_packet/dl_lost/A_adjust_20240408_0345026_917c7/\\home\\wmnlab\\F\\database\\2024-03-20\\UDP_Bandlock_9S_Phone_A\\sm02\\#01\\data\\udp_dnlk_loss_latency\\home\\wmnlab\\F\\database\\2024-03-20\\UDP_Bandlock_9S_Phone_A\\sm06\\#01\\data\\udp_dnlk_loss_latency.csv\n",
      "./20240329_160006be6c_new_dataset_sync/dr_20240408_0555003db4_anchor_by_packet/dl_lost/results/A_adjust_20240408_0345026_917c7.pkl\n",
      "20/72 /home/wmnlab/F/database/2024-03-20/UDP_Bandlock_9S_Phone_A/sm02/#01/data/handover_info_log.csv\n",
      "20/72 /home/wmnlab/F/database/2024-03-20/UDP_Bandlock_9S_Phone_A/sm02/#01/data/udp_dnlk_loss_latency.csv\n",
      "20/72 /home/wmnlab/F/database/2024-03-20/UDP_Bandlock_9S_Phone_A/sm07/#01/data/handover_info_log.csv\n",
      "20/72 /home/wmnlab/F/database/2024-03-20/UDP_Bandlock_9S_Phone_A/sm07/#01/data/udp_dnlk_loss_latency.csv\n"
     ]
    },
    {
     "data": {
      "application/vnd.jupyter.widget-view+json": {
       "model_id": "2628caed811a4af39170f7cc976d464c",
       "version_major": 2,
       "version_minor": 0
      },
      "text/plain": [
       "  0%|                                                                                                         …"
      ]
     },
     "metadata": {},
     "output_type": "display_data"
    },
    {
     "name": "stdout",
     "output_type": "stream",
     "text": [
      "/home/wmnlab/F/results/20240329_160006be6c_new_dataset_sync/dr_20240408_0555003db4_anchor_by_packet/dl_lost/A_adjust_20240408_0345026_917c7/\\home\\wmnlab\\F\\database\\2024-03-20\\UDP_Bandlock_9S_Phone_A\\sm02\\#01\\data\\udp_dnlk_loss_latency\\home\\wmnlab\\F\\database\\2024-03-20\\UDP_Bandlock_9S_Phone_A\\sm07\\#01\\data\\udp_dnlk_loss_latency.csv\n",
      "./20240329_160006be6c_new_dataset_sync/dr_20240408_0555003db4_anchor_by_packet/dl_lost/results/A_adjust_20240408_0345026_917c7.pkl\n",
      "21/72 /home/wmnlab/F/database/2024-03-20/UDP_Bandlock_9S_Phone_A/sm02/#01/data/handover_info_log.csv\n",
      "21/72 /home/wmnlab/F/database/2024-03-20/UDP_Bandlock_9S_Phone_A/sm02/#01/data/udp_dnlk_loss_latency.csv\n",
      "21/72 /home/wmnlab/F/database/2024-03-20/UDP_Bandlock_9S_Phone_A/sm08/#01/data/handover_info_log.csv\n",
      "21/72 /home/wmnlab/F/database/2024-03-20/UDP_Bandlock_9S_Phone_A/sm08/#01/data/udp_dnlk_loss_latency.csv\n"
     ]
    },
    {
     "data": {
      "application/vnd.jupyter.widget-view+json": {
       "model_id": "cfa556507083421ab66900faaa33264d",
       "version_major": 2,
       "version_minor": 0
      },
      "text/plain": [
       "  0%|                                                                                                         …"
      ]
     },
     "metadata": {},
     "output_type": "display_data"
    },
    {
     "name": "stdout",
     "output_type": "stream",
     "text": [
      "/home/wmnlab/F/results/20240329_160006be6c_new_dataset_sync/dr_20240408_0555003db4_anchor_by_packet/dl_lost/A_adjust_20240408_0345026_917c7/\\home\\wmnlab\\F\\database\\2024-03-20\\UDP_Bandlock_9S_Phone_A\\sm02\\#01\\data\\udp_dnlk_loss_latency\\home\\wmnlab\\F\\database\\2024-03-20\\UDP_Bandlock_9S_Phone_A\\sm08\\#01\\data\\udp_dnlk_loss_latency.csv\n",
      "./20240329_160006be6c_new_dataset_sync/dr_20240408_0555003db4_anchor_by_packet/dl_lost/results/A_adjust_20240408_0345026_917c7.pkl\n",
      "22/72 /home/wmnlab/F/database/2024-03-20/UDP_Bandlock_9S_Phone_A/sm03/#01/data/handover_info_log.csv\n",
      "22/72 /home/wmnlab/F/database/2024-03-20/UDP_Bandlock_9S_Phone_A/sm03/#01/data/udp_dnlk_loss_latency.csv\n",
      "22/72 /home/wmnlab/F/database/2024-03-20/UDP_Bandlock_9S_Phone_A/sm04/#01/data/handover_info_log.csv\n",
      "22/72 /home/wmnlab/F/database/2024-03-20/UDP_Bandlock_9S_Phone_A/sm04/#01/data/udp_dnlk_loss_latency.csv\n"
     ]
    },
    {
     "data": {
      "application/vnd.jupyter.widget-view+json": {
       "model_id": "69f68562634c461b96fb8419bb848be7",
       "version_major": 2,
       "version_minor": 0
      },
      "text/plain": [
       "  0%|                                                                                                         …"
      ]
     },
     "metadata": {},
     "output_type": "display_data"
    },
    {
     "name": "stdout",
     "output_type": "stream",
     "text": [
      "/home/wmnlab/F/results/20240329_160006be6c_new_dataset_sync/dr_20240408_0555003db4_anchor_by_packet/dl_lost/A_adjust_20240408_0345026_917c7/\\home\\wmnlab\\F\\database\\2024-03-20\\UDP_Bandlock_9S_Phone_A\\sm03\\#01\\data\\udp_dnlk_loss_latency\\home\\wmnlab\\F\\database\\2024-03-20\\UDP_Bandlock_9S_Phone_A\\sm04\\#01\\data\\udp_dnlk_loss_latency.csv\n",
      "./20240329_160006be6c_new_dataset_sync/dr_20240408_0555003db4_anchor_by_packet/dl_lost/results/A_adjust_20240408_0345026_917c7.pkl\n",
      "23/72 /home/wmnlab/F/database/2024-03-20/UDP_Bandlock_9S_Phone_A/sm03/#01/data/handover_info_log.csv\n",
      "23/72 /home/wmnlab/F/database/2024-03-20/UDP_Bandlock_9S_Phone_A/sm03/#01/data/udp_dnlk_loss_latency.csv\n",
      "23/72 /home/wmnlab/F/database/2024-03-20/UDP_Bandlock_9S_Phone_A/sm05/#01/data/handover_info_log.csv\n",
      "23/72 /home/wmnlab/F/database/2024-03-20/UDP_Bandlock_9S_Phone_A/sm05/#01/data/udp_dnlk_loss_latency.csv\n"
     ]
    },
    {
     "data": {
      "application/vnd.jupyter.widget-view+json": {
       "model_id": "391d584aa0c94f97b49584898aba3f06",
       "version_major": 2,
       "version_minor": 0
      },
      "text/plain": [
       "  0%|                                                                                                         …"
      ]
     },
     "metadata": {},
     "output_type": "display_data"
    },
    {
     "name": "stdout",
     "output_type": "stream",
     "text": [
      "/home/wmnlab/F/results/20240329_160006be6c_new_dataset_sync/dr_20240408_0555003db4_anchor_by_packet/dl_lost/A_adjust_20240408_0345026_917c7/\\home\\wmnlab\\F\\database\\2024-03-20\\UDP_Bandlock_9S_Phone_A\\sm03\\#01\\data\\udp_dnlk_loss_latency\\home\\wmnlab\\F\\database\\2024-03-20\\UDP_Bandlock_9S_Phone_A\\sm05\\#01\\data\\udp_dnlk_loss_latency.csv\n",
      "./20240329_160006be6c_new_dataset_sync/dr_20240408_0555003db4_anchor_by_packet/dl_lost/results/A_adjust_20240408_0345026_917c7.pkl\n",
      "24/72 /home/wmnlab/F/database/2024-03-20/UDP_Bandlock_9S_Phone_A/sm03/#01/data/handover_info_log.csv\n",
      "24/72 /home/wmnlab/F/database/2024-03-20/UDP_Bandlock_9S_Phone_A/sm03/#01/data/udp_dnlk_loss_latency.csv\n",
      "24/72 /home/wmnlab/F/database/2024-03-20/UDP_Bandlock_9S_Phone_A/sm06/#01/data/handover_info_log.csv\n",
      "24/72 /home/wmnlab/F/database/2024-03-20/UDP_Bandlock_9S_Phone_A/sm06/#01/data/udp_dnlk_loss_latency.csv\n"
     ]
    },
    {
     "data": {
      "application/vnd.jupyter.widget-view+json": {
       "model_id": "4daeae1f369d41cbb256dc5c235ee1d1",
       "version_major": 2,
       "version_minor": 0
      },
      "text/plain": [
       "  0%|                                                                                                         …"
      ]
     },
     "metadata": {},
     "output_type": "display_data"
    },
    {
     "name": "stdout",
     "output_type": "stream",
     "text": [
      "/home/wmnlab/F/results/20240329_160006be6c_new_dataset_sync/dr_20240408_0555003db4_anchor_by_packet/dl_lost/A_adjust_20240408_0345026_917c7/\\home\\wmnlab\\F\\database\\2024-03-20\\UDP_Bandlock_9S_Phone_A\\sm03\\#01\\data\\udp_dnlk_loss_latency\\home\\wmnlab\\F\\database\\2024-03-20\\UDP_Bandlock_9S_Phone_A\\sm06\\#01\\data\\udp_dnlk_loss_latency.csv\n",
      "./20240329_160006be6c_new_dataset_sync/dr_20240408_0555003db4_anchor_by_packet/dl_lost/results/A_adjust_20240408_0345026_917c7.pkl\n",
      "25/72 /home/wmnlab/F/database/2024-03-20/UDP_Bandlock_9S_Phone_A/sm03/#01/data/handover_info_log.csv\n",
      "25/72 /home/wmnlab/F/database/2024-03-20/UDP_Bandlock_9S_Phone_A/sm03/#01/data/udp_dnlk_loss_latency.csv\n",
      "25/72 /home/wmnlab/F/database/2024-03-20/UDP_Bandlock_9S_Phone_A/sm07/#01/data/handover_info_log.csv\n",
      "25/72 /home/wmnlab/F/database/2024-03-20/UDP_Bandlock_9S_Phone_A/sm07/#01/data/udp_dnlk_loss_latency.csv\n"
     ]
    },
    {
     "data": {
      "application/vnd.jupyter.widget-view+json": {
       "model_id": "e16868f092fe45419de5da4b4bfa5a33",
       "version_major": 2,
       "version_minor": 0
      },
      "text/plain": [
       "  0%|                                                                                                         …"
      ]
     },
     "metadata": {},
     "output_type": "display_data"
    },
    {
     "name": "stdout",
     "output_type": "stream",
     "text": [
      "/home/wmnlab/F/results/20240329_160006be6c_new_dataset_sync/dr_20240408_0555003db4_anchor_by_packet/dl_lost/A_adjust_20240408_0345026_917c7/\\home\\wmnlab\\F\\database\\2024-03-20\\UDP_Bandlock_9S_Phone_A\\sm03\\#01\\data\\udp_dnlk_loss_latency\\home\\wmnlab\\F\\database\\2024-03-20\\UDP_Bandlock_9S_Phone_A\\sm07\\#01\\data\\udp_dnlk_loss_latency.csv\n",
      "./20240329_160006be6c_new_dataset_sync/dr_20240408_0555003db4_anchor_by_packet/dl_lost/results/A_adjust_20240408_0345026_917c7.pkl\n",
      "26/72 /home/wmnlab/F/database/2024-03-20/UDP_Bandlock_9S_Phone_A/sm03/#01/data/handover_info_log.csv\n",
      "26/72 /home/wmnlab/F/database/2024-03-20/UDP_Bandlock_9S_Phone_A/sm03/#01/data/udp_dnlk_loss_latency.csv\n",
      "26/72 /home/wmnlab/F/database/2024-03-20/UDP_Bandlock_9S_Phone_A/sm08/#01/data/handover_info_log.csv\n",
      "26/72 /home/wmnlab/F/database/2024-03-20/UDP_Bandlock_9S_Phone_A/sm08/#01/data/udp_dnlk_loss_latency.csv\n"
     ]
    },
    {
     "data": {
      "application/vnd.jupyter.widget-view+json": {
       "model_id": "2f282012a7cd449b8a2db239cea58ad0",
       "version_major": 2,
       "version_minor": 0
      },
      "text/plain": [
       "  0%|                                                                                                         …"
      ]
     },
     "metadata": {},
     "output_type": "display_data"
    },
    {
     "name": "stdout",
     "output_type": "stream",
     "text": [
      "/home/wmnlab/F/results/20240329_160006be6c_new_dataset_sync/dr_20240408_0555003db4_anchor_by_packet/dl_lost/A_adjust_20240408_0345026_917c7/\\home\\wmnlab\\F\\database\\2024-03-20\\UDP_Bandlock_9S_Phone_A\\sm03\\#01\\data\\udp_dnlk_loss_latency\\home\\wmnlab\\F\\database\\2024-03-20\\UDP_Bandlock_9S_Phone_A\\sm08\\#01\\data\\udp_dnlk_loss_latency.csv\n",
      "./20240329_160006be6c_new_dataset_sync/dr_20240408_0555003db4_anchor_by_packet/dl_lost/results/A_adjust_20240408_0345026_917c7.pkl\n",
      "27/72 /home/wmnlab/F/database/2024-03-20/UDP_Bandlock_9S_Phone_A/sm04/#01/data/handover_info_log.csv\n",
      "27/72 /home/wmnlab/F/database/2024-03-20/UDP_Bandlock_9S_Phone_A/sm04/#01/data/udp_dnlk_loss_latency.csv\n",
      "27/72 /home/wmnlab/F/database/2024-03-20/UDP_Bandlock_9S_Phone_A/sm05/#01/data/handover_info_log.csv\n",
      "27/72 /home/wmnlab/F/database/2024-03-20/UDP_Bandlock_9S_Phone_A/sm05/#01/data/udp_dnlk_loss_latency.csv\n"
     ]
    },
    {
     "data": {
      "application/vnd.jupyter.widget-view+json": {
       "model_id": "91c0ce71d76e41f98b76a25a72bb6b46",
       "version_major": 2,
       "version_minor": 0
      },
      "text/plain": [
       "  0%|                                                                                                         …"
      ]
     },
     "metadata": {},
     "output_type": "display_data"
    },
    {
     "name": "stdout",
     "output_type": "stream",
     "text": [
      "/home/wmnlab/F/results/20240329_160006be6c_new_dataset_sync/dr_20240408_0555003db4_anchor_by_packet/dl_lost/A_adjust_20240408_0345026_917c7/\\home\\wmnlab\\F\\database\\2024-03-20\\UDP_Bandlock_9S_Phone_A\\sm04\\#01\\data\\udp_dnlk_loss_latency\\home\\wmnlab\\F\\database\\2024-03-20\\UDP_Bandlock_9S_Phone_A\\sm05\\#01\\data\\udp_dnlk_loss_latency.csv\n",
      "./20240329_160006be6c_new_dataset_sync/dr_20240408_0555003db4_anchor_by_packet/dl_lost/results/A_adjust_20240408_0345026_917c7.pkl\n",
      "28/72 /home/wmnlab/F/database/2024-03-20/UDP_Bandlock_9S_Phone_A/sm04/#01/data/handover_info_log.csv\n",
      "28/72 /home/wmnlab/F/database/2024-03-20/UDP_Bandlock_9S_Phone_A/sm04/#01/data/udp_dnlk_loss_latency.csv\n",
      "28/72 /home/wmnlab/F/database/2024-03-20/UDP_Bandlock_9S_Phone_A/sm06/#01/data/handover_info_log.csv\n",
      "28/72 /home/wmnlab/F/database/2024-03-20/UDP_Bandlock_9S_Phone_A/sm06/#01/data/udp_dnlk_loss_latency.csv\n"
     ]
    },
    {
     "data": {
      "application/vnd.jupyter.widget-view+json": {
       "model_id": "46affa415fea415da1db62255a0f47f0",
       "version_major": 2,
       "version_minor": 0
      },
      "text/plain": [
       "  0%|                                                                                                         …"
      ]
     },
     "metadata": {},
     "output_type": "display_data"
    },
    {
     "name": "stdout",
     "output_type": "stream",
     "text": [
      "/home/wmnlab/F/results/20240329_160006be6c_new_dataset_sync/dr_20240408_0555003db4_anchor_by_packet/dl_lost/A_adjust_20240408_0345026_917c7/\\home\\wmnlab\\F\\database\\2024-03-20\\UDP_Bandlock_9S_Phone_A\\sm04\\#01\\data\\udp_dnlk_loss_latency\\home\\wmnlab\\F\\database\\2024-03-20\\UDP_Bandlock_9S_Phone_A\\sm06\\#01\\data\\udp_dnlk_loss_latency.csv\n",
      "./20240329_160006be6c_new_dataset_sync/dr_20240408_0555003db4_anchor_by_packet/dl_lost/results/A_adjust_20240408_0345026_917c7.pkl\n",
      "29/72 /home/wmnlab/F/database/2024-03-20/UDP_Bandlock_9S_Phone_A/sm04/#01/data/handover_info_log.csv\n",
      "29/72 /home/wmnlab/F/database/2024-03-20/UDP_Bandlock_9S_Phone_A/sm04/#01/data/udp_dnlk_loss_latency.csv\n",
      "29/72 /home/wmnlab/F/database/2024-03-20/UDP_Bandlock_9S_Phone_A/sm07/#01/data/handover_info_log.csv\n",
      "29/72 /home/wmnlab/F/database/2024-03-20/UDP_Bandlock_9S_Phone_A/sm07/#01/data/udp_dnlk_loss_latency.csv\n"
     ]
    },
    {
     "data": {
      "application/vnd.jupyter.widget-view+json": {
       "model_id": "16fd44641af64aa39556e76d0427c9ce",
       "version_major": 2,
       "version_minor": 0
      },
      "text/plain": [
       "  0%|                                                                                                         …"
      ]
     },
     "metadata": {},
     "output_type": "display_data"
    },
    {
     "name": "stdout",
     "output_type": "stream",
     "text": [
      "/home/wmnlab/F/results/20240329_160006be6c_new_dataset_sync/dr_20240408_0555003db4_anchor_by_packet/dl_lost/A_adjust_20240408_0345026_917c7/\\home\\wmnlab\\F\\database\\2024-03-20\\UDP_Bandlock_9S_Phone_A\\sm04\\#01\\data\\udp_dnlk_loss_latency\\home\\wmnlab\\F\\database\\2024-03-20\\UDP_Bandlock_9S_Phone_A\\sm07\\#01\\data\\udp_dnlk_loss_latency.csv\n",
      "./20240329_160006be6c_new_dataset_sync/dr_20240408_0555003db4_anchor_by_packet/dl_lost/results/A_adjust_20240408_0345026_917c7.pkl\n",
      "30/72 /home/wmnlab/F/database/2024-03-20/UDP_Bandlock_9S_Phone_A/sm04/#01/data/handover_info_log.csv\n",
      "30/72 /home/wmnlab/F/database/2024-03-20/UDP_Bandlock_9S_Phone_A/sm04/#01/data/udp_dnlk_loss_latency.csv\n",
      "30/72 /home/wmnlab/F/database/2024-03-20/UDP_Bandlock_9S_Phone_A/sm08/#01/data/handover_info_log.csv\n",
      "30/72 /home/wmnlab/F/database/2024-03-20/UDP_Bandlock_9S_Phone_A/sm08/#01/data/udp_dnlk_loss_latency.csv\n"
     ]
    },
    {
     "data": {
      "application/vnd.jupyter.widget-view+json": {
       "model_id": "5277f6ba80f54d92ad5f70baa4c19037",
       "version_major": 2,
       "version_minor": 0
      },
      "text/plain": [
       "  0%|                                                                                                         …"
      ]
     },
     "metadata": {},
     "output_type": "display_data"
    },
    {
     "name": "stdout",
     "output_type": "stream",
     "text": [
      "/home/wmnlab/F/results/20240329_160006be6c_new_dataset_sync/dr_20240408_0555003db4_anchor_by_packet/dl_lost/A_adjust_20240408_0345026_917c7/\\home\\wmnlab\\F\\database\\2024-03-20\\UDP_Bandlock_9S_Phone_A\\sm04\\#01\\data\\udp_dnlk_loss_latency\\home\\wmnlab\\F\\database\\2024-03-20\\UDP_Bandlock_9S_Phone_A\\sm08\\#01\\data\\udp_dnlk_loss_latency.csv\n",
      "./20240329_160006be6c_new_dataset_sync/dr_20240408_0555003db4_anchor_by_packet/dl_lost/results/A_adjust_20240408_0345026_917c7.pkl\n",
      "31/72 /home/wmnlab/F/database/2024-03-20/UDP_Bandlock_9S_Phone_A/sm05/#01/data/handover_info_log.csv\n",
      "31/72 /home/wmnlab/F/database/2024-03-20/UDP_Bandlock_9S_Phone_A/sm05/#01/data/udp_dnlk_loss_latency.csv\n",
      "31/72 /home/wmnlab/F/database/2024-03-20/UDP_Bandlock_9S_Phone_A/sm06/#01/data/handover_info_log.csv\n",
      "31/72 /home/wmnlab/F/database/2024-03-20/UDP_Bandlock_9S_Phone_A/sm06/#01/data/udp_dnlk_loss_latency.csv\n"
     ]
    },
    {
     "data": {
      "application/vnd.jupyter.widget-view+json": {
       "model_id": "f5c60cded9214b97aeab5c3955a17f49",
       "version_major": 2,
       "version_minor": 0
      },
      "text/plain": [
       "  0%|                                                                                                         …"
      ]
     },
     "metadata": {},
     "output_type": "display_data"
    },
    {
     "name": "stdout",
     "output_type": "stream",
     "text": [
      "/home/wmnlab/F/results/20240329_160006be6c_new_dataset_sync/dr_20240408_0555003db4_anchor_by_packet/dl_lost/A_adjust_20240408_0345026_917c7/\\home\\wmnlab\\F\\database\\2024-03-20\\UDP_Bandlock_9S_Phone_A\\sm05\\#01\\data\\udp_dnlk_loss_latency\\home\\wmnlab\\F\\database\\2024-03-20\\UDP_Bandlock_9S_Phone_A\\sm06\\#01\\data\\udp_dnlk_loss_latency.csv\n",
      "./20240329_160006be6c_new_dataset_sync/dr_20240408_0555003db4_anchor_by_packet/dl_lost/results/A_adjust_20240408_0345026_917c7.pkl\n",
      "32/72 /home/wmnlab/F/database/2024-03-20/UDP_Bandlock_9S_Phone_A/sm05/#01/data/handover_info_log.csv\n",
      "32/72 /home/wmnlab/F/database/2024-03-20/UDP_Bandlock_9S_Phone_A/sm05/#01/data/udp_dnlk_loss_latency.csv\n",
      "32/72 /home/wmnlab/F/database/2024-03-20/UDP_Bandlock_9S_Phone_A/sm07/#01/data/handover_info_log.csv\n",
      "32/72 /home/wmnlab/F/database/2024-03-20/UDP_Bandlock_9S_Phone_A/sm07/#01/data/udp_dnlk_loss_latency.csv\n"
     ]
    },
    {
     "data": {
      "application/vnd.jupyter.widget-view+json": {
       "model_id": "c7f45a0beb3d41299e88da2d0fabc8d9",
       "version_major": 2,
       "version_minor": 0
      },
      "text/plain": [
       "  0%|                                                                                                         …"
      ]
     },
     "metadata": {},
     "output_type": "display_data"
    },
    {
     "name": "stdout",
     "output_type": "stream",
     "text": [
      "/home/wmnlab/F/results/20240329_160006be6c_new_dataset_sync/dr_20240408_0555003db4_anchor_by_packet/dl_lost/A_adjust_20240408_0345026_917c7/\\home\\wmnlab\\F\\database\\2024-03-20\\UDP_Bandlock_9S_Phone_A\\sm05\\#01\\data\\udp_dnlk_loss_latency\\home\\wmnlab\\F\\database\\2024-03-20\\UDP_Bandlock_9S_Phone_A\\sm07\\#01\\data\\udp_dnlk_loss_latency.csv\n",
      "./20240329_160006be6c_new_dataset_sync/dr_20240408_0555003db4_anchor_by_packet/dl_lost/results/A_adjust_20240408_0345026_917c7.pkl\n",
      "33/72 /home/wmnlab/F/database/2024-03-20/UDP_Bandlock_9S_Phone_A/sm05/#01/data/handover_info_log.csv\n",
      "33/72 /home/wmnlab/F/database/2024-03-20/UDP_Bandlock_9S_Phone_A/sm05/#01/data/udp_dnlk_loss_latency.csv\n",
      "33/72 /home/wmnlab/F/database/2024-03-20/UDP_Bandlock_9S_Phone_A/sm08/#01/data/handover_info_log.csv\n",
      "33/72 /home/wmnlab/F/database/2024-03-20/UDP_Bandlock_9S_Phone_A/sm08/#01/data/udp_dnlk_loss_latency.csv\n"
     ]
    },
    {
     "data": {
      "application/vnd.jupyter.widget-view+json": {
       "model_id": "8ca5c5658efc4211a859286af358baa4",
       "version_major": 2,
       "version_minor": 0
      },
      "text/plain": [
       "  0%|                                                                                                         …"
      ]
     },
     "metadata": {},
     "output_type": "display_data"
    },
    {
     "name": "stdout",
     "output_type": "stream",
     "text": [
      "/home/wmnlab/F/results/20240329_160006be6c_new_dataset_sync/dr_20240408_0555003db4_anchor_by_packet/dl_lost/A_adjust_20240408_0345026_917c7/\\home\\wmnlab\\F\\database\\2024-03-20\\UDP_Bandlock_9S_Phone_A\\sm05\\#01\\data\\udp_dnlk_loss_latency\\home\\wmnlab\\F\\database\\2024-03-20\\UDP_Bandlock_9S_Phone_A\\sm08\\#01\\data\\udp_dnlk_loss_latency.csv\n",
      "./20240329_160006be6c_new_dataset_sync/dr_20240408_0555003db4_anchor_by_packet/dl_lost/results/A_adjust_20240408_0345026_917c7.pkl\n",
      "34/72 /home/wmnlab/F/database/2024-03-20/UDP_Bandlock_9S_Phone_A/sm06/#01/data/handover_info_log.csv\n",
      "34/72 /home/wmnlab/F/database/2024-03-20/UDP_Bandlock_9S_Phone_A/sm06/#01/data/udp_dnlk_loss_latency.csv\n",
      "34/72 /home/wmnlab/F/database/2024-03-20/UDP_Bandlock_9S_Phone_A/sm07/#01/data/handover_info_log.csv\n",
      "34/72 /home/wmnlab/F/database/2024-03-20/UDP_Bandlock_9S_Phone_A/sm07/#01/data/udp_dnlk_loss_latency.csv\n"
     ]
    },
    {
     "data": {
      "application/vnd.jupyter.widget-view+json": {
       "model_id": "284f31c6b592434bb9a7a8ed1c189354",
       "version_major": 2,
       "version_minor": 0
      },
      "text/plain": [
       "  0%|                                                                                                         …"
      ]
     },
     "metadata": {},
     "output_type": "display_data"
    },
    {
     "name": "stdout",
     "output_type": "stream",
     "text": [
      "/home/wmnlab/F/results/20240329_160006be6c_new_dataset_sync/dr_20240408_0555003db4_anchor_by_packet/dl_lost/A_adjust_20240408_0345026_917c7/\\home\\wmnlab\\F\\database\\2024-03-20\\UDP_Bandlock_9S_Phone_A\\sm06\\#01\\data\\udp_dnlk_loss_latency\\home\\wmnlab\\F\\database\\2024-03-20\\UDP_Bandlock_9S_Phone_A\\sm07\\#01\\data\\udp_dnlk_loss_latency.csv\n",
      "./20240329_160006be6c_new_dataset_sync/dr_20240408_0555003db4_anchor_by_packet/dl_lost/results/A_adjust_20240408_0345026_917c7.pkl\n",
      "35/72 /home/wmnlab/F/database/2024-03-20/UDP_Bandlock_9S_Phone_A/sm06/#01/data/handover_info_log.csv\n",
      "35/72 /home/wmnlab/F/database/2024-03-20/UDP_Bandlock_9S_Phone_A/sm06/#01/data/udp_dnlk_loss_latency.csv\n",
      "35/72 /home/wmnlab/F/database/2024-03-20/UDP_Bandlock_9S_Phone_A/sm08/#01/data/handover_info_log.csv\n",
      "35/72 /home/wmnlab/F/database/2024-03-20/UDP_Bandlock_9S_Phone_A/sm08/#01/data/udp_dnlk_loss_latency.csv\n"
     ]
    },
    {
     "data": {
      "application/vnd.jupyter.widget-view+json": {
       "model_id": "fe144ee9ecbf4675a9179c2dab6549e1",
       "version_major": 2,
       "version_minor": 0
      },
      "text/plain": [
       "  0%|                                                                                                         …"
      ]
     },
     "metadata": {},
     "output_type": "display_data"
    },
    {
     "name": "stdout",
     "output_type": "stream",
     "text": [
      "/home/wmnlab/F/results/20240329_160006be6c_new_dataset_sync/dr_20240408_0555003db4_anchor_by_packet/dl_lost/A_adjust_20240408_0345026_917c7/\\home\\wmnlab\\F\\database\\2024-03-20\\UDP_Bandlock_9S_Phone_A\\sm06\\#01\\data\\udp_dnlk_loss_latency\\home\\wmnlab\\F\\database\\2024-03-20\\UDP_Bandlock_9S_Phone_A\\sm08\\#01\\data\\udp_dnlk_loss_latency.csv\n",
      "./20240329_160006be6c_new_dataset_sync/dr_20240408_0555003db4_anchor_by_packet/dl_lost/results/A_adjust_20240408_0345026_917c7.pkl\n",
      "36/72 /home/wmnlab/F/database/2024-03-20/UDP_Bandlock_9S_Phone_A/sm07/#01/data/handover_info_log.csv\n",
      "36/72 /home/wmnlab/F/database/2024-03-20/UDP_Bandlock_9S_Phone_A/sm07/#01/data/udp_dnlk_loss_latency.csv\n",
      "36/72 /home/wmnlab/F/database/2024-03-20/UDP_Bandlock_9S_Phone_A/sm08/#01/data/handover_info_log.csv\n",
      "36/72 /home/wmnlab/F/database/2024-03-20/UDP_Bandlock_9S_Phone_A/sm08/#01/data/udp_dnlk_loss_latency.csv\n"
     ]
    },
    {
     "data": {
      "application/vnd.jupyter.widget-view+json": {
       "model_id": "5b666b5f256d4797a2580833918a462d",
       "version_major": 2,
       "version_minor": 0
      },
      "text/plain": [
       "  0%|                                                                                                         …"
      ]
     },
     "metadata": {},
     "output_type": "display_data"
    },
    {
     "name": "stdout",
     "output_type": "stream",
     "text": [
      "/home/wmnlab/F/results/20240329_160006be6c_new_dataset_sync/dr_20240408_0555003db4_anchor_by_packet/dl_lost/A_adjust_20240408_0345026_917c7/\\home\\wmnlab\\F\\database\\2024-03-20\\UDP_Bandlock_9S_Phone_A\\sm07\\#01\\data\\udp_dnlk_loss_latency\\home\\wmnlab\\F\\database\\2024-03-20\\UDP_Bandlock_9S_Phone_A\\sm08\\#01\\data\\udp_dnlk_loss_latency.csv\n",
      "./20240329_160006be6c_new_dataset_sync/dr_20240408_0555003db4_anchor_by_packet/dl_lost/results/A_adjust_20240408_0345026_917c7.pkl\n",
      "37/72 /home/wmnlab/F/database/2024-03-20/UDP_Bandlock_9S_Phone_A/sm00/#02/data/handover_info_log.csv\n",
      "37/72 /home/wmnlab/F/database/2024-03-20/UDP_Bandlock_9S_Phone_A/sm00/#02/data/udp_dnlk_loss_latency.csv\n",
      "37/72 /home/wmnlab/F/database/2024-03-20/UDP_Bandlock_9S_Phone_A/sm01/#02/data/handover_info_log.csv\n",
      "37/72 /home/wmnlab/F/database/2024-03-20/UDP_Bandlock_9S_Phone_A/sm01/#02/data/udp_dnlk_loss_latency.csv\n"
     ]
    },
    {
     "data": {
      "application/vnd.jupyter.widget-view+json": {
       "model_id": "e15ab9f47ed743d8a9ef51c2b83b9268",
       "version_major": 2,
       "version_minor": 0
      },
      "text/plain": [
       "  0%|                                                                                                         …"
      ]
     },
     "metadata": {},
     "output_type": "display_data"
    },
    {
     "name": "stdout",
     "output_type": "stream",
     "text": [
      "/home/wmnlab/F/results/20240329_160006be6c_new_dataset_sync/dr_20240408_0555003db4_anchor_by_packet/dl_lost/A_adjust_20240408_0345026_917c7/\\home\\wmnlab\\F\\database\\2024-03-20\\UDP_Bandlock_9S_Phone_A\\sm00\\#02\\data\\udp_dnlk_loss_latency\\home\\wmnlab\\F\\database\\2024-03-20\\UDP_Bandlock_9S_Phone_A\\sm01\\#02\\data\\udp_dnlk_loss_latency.csv\n",
      "./20240329_160006be6c_new_dataset_sync/dr_20240408_0555003db4_anchor_by_packet/dl_lost/results/A_adjust_20240408_0345026_917c7.pkl\n",
      "38/72 /home/wmnlab/F/database/2024-03-20/UDP_Bandlock_9S_Phone_A/sm00/#02/data/handover_info_log.csv\n",
      "38/72 /home/wmnlab/F/database/2024-03-20/UDP_Bandlock_9S_Phone_A/sm00/#02/data/udp_dnlk_loss_latency.csv\n",
      "38/72 /home/wmnlab/F/database/2024-03-20/UDP_Bandlock_9S_Phone_A/sm02/#02/data/handover_info_log.csv\n",
      "38/72 /home/wmnlab/F/database/2024-03-20/UDP_Bandlock_9S_Phone_A/sm02/#02/data/udp_dnlk_loss_latency.csv\n"
     ]
    },
    {
     "data": {
      "application/vnd.jupyter.widget-view+json": {
       "model_id": "4023d3e40a184d1385516b94be4b87e6",
       "version_major": 2,
       "version_minor": 0
      },
      "text/plain": [
       "  0%|                                                                                                         …"
      ]
     },
     "metadata": {},
     "output_type": "display_data"
    },
    {
     "name": "stdout",
     "output_type": "stream",
     "text": [
      "/home/wmnlab/F/results/20240329_160006be6c_new_dataset_sync/dr_20240408_0555003db4_anchor_by_packet/dl_lost/A_adjust_20240408_0345026_917c7/\\home\\wmnlab\\F\\database\\2024-03-20\\UDP_Bandlock_9S_Phone_A\\sm00\\#02\\data\\udp_dnlk_loss_latency\\home\\wmnlab\\F\\database\\2024-03-20\\UDP_Bandlock_9S_Phone_A\\sm02\\#02\\data\\udp_dnlk_loss_latency.csv\n",
      "./20240329_160006be6c_new_dataset_sync/dr_20240408_0555003db4_anchor_by_packet/dl_lost/results/A_adjust_20240408_0345026_917c7.pkl\n",
      "39/72 /home/wmnlab/F/database/2024-03-20/UDP_Bandlock_9S_Phone_A/sm00/#02/data/handover_info_log.csv\n",
      "39/72 /home/wmnlab/F/database/2024-03-20/UDP_Bandlock_9S_Phone_A/sm00/#02/data/udp_dnlk_loss_latency.csv\n",
      "39/72 /home/wmnlab/F/database/2024-03-20/UDP_Bandlock_9S_Phone_A/sm03/#02/data/handover_info_log.csv\n",
      "39/72 /home/wmnlab/F/database/2024-03-20/UDP_Bandlock_9S_Phone_A/sm03/#02/data/udp_dnlk_loss_latency.csv\n"
     ]
    },
    {
     "data": {
      "application/vnd.jupyter.widget-view+json": {
       "model_id": "37cc806937684879b22e55b46cdd8fdd",
       "version_major": 2,
       "version_minor": 0
      },
      "text/plain": [
       "  0%|                                                                                                         …"
      ]
     },
     "metadata": {},
     "output_type": "display_data"
    },
    {
     "name": "stdout",
     "output_type": "stream",
     "text": [
      "/home/wmnlab/F/results/20240329_160006be6c_new_dataset_sync/dr_20240408_0555003db4_anchor_by_packet/dl_lost/A_adjust_20240408_0345026_917c7/\\home\\wmnlab\\F\\database\\2024-03-20\\UDP_Bandlock_9S_Phone_A\\sm00\\#02\\data\\udp_dnlk_loss_latency\\home\\wmnlab\\F\\database\\2024-03-20\\UDP_Bandlock_9S_Phone_A\\sm03\\#02\\data\\udp_dnlk_loss_latency.csv\n",
      "./20240329_160006be6c_new_dataset_sync/dr_20240408_0555003db4_anchor_by_packet/dl_lost/results/A_adjust_20240408_0345026_917c7.pkl\n",
      "40/72 /home/wmnlab/F/database/2024-03-20/UDP_Bandlock_9S_Phone_A/sm00/#02/data/handover_info_log.csv\n",
      "40/72 /home/wmnlab/F/database/2024-03-20/UDP_Bandlock_9S_Phone_A/sm00/#02/data/udp_dnlk_loss_latency.csv\n",
      "40/72 /home/wmnlab/F/database/2024-03-20/UDP_Bandlock_9S_Phone_A/sm04/#02/data/handover_info_log.csv\n",
      "40/72 /home/wmnlab/F/database/2024-03-20/UDP_Bandlock_9S_Phone_A/sm04/#02/data/udp_dnlk_loss_latency.csv\n"
     ]
    },
    {
     "data": {
      "application/vnd.jupyter.widget-view+json": {
       "model_id": "4c8d7e38663a4015962c0d7104855f69",
       "version_major": 2,
       "version_minor": 0
      },
      "text/plain": [
       "  0%|                                                                                                         …"
      ]
     },
     "metadata": {},
     "output_type": "display_data"
    },
    {
     "name": "stdout",
     "output_type": "stream",
     "text": [
      "/home/wmnlab/F/results/20240329_160006be6c_new_dataset_sync/dr_20240408_0555003db4_anchor_by_packet/dl_lost/A_adjust_20240408_0345026_917c7/\\home\\wmnlab\\F\\database\\2024-03-20\\UDP_Bandlock_9S_Phone_A\\sm00\\#02\\data\\udp_dnlk_loss_latency\\home\\wmnlab\\F\\database\\2024-03-20\\UDP_Bandlock_9S_Phone_A\\sm04\\#02\\data\\udp_dnlk_loss_latency.csv\n",
      "./20240329_160006be6c_new_dataset_sync/dr_20240408_0555003db4_anchor_by_packet/dl_lost/results/A_adjust_20240408_0345026_917c7.pkl\n",
      "41/72 /home/wmnlab/F/database/2024-03-20/UDP_Bandlock_9S_Phone_A/sm00/#02/data/handover_info_log.csv\n",
      "41/72 /home/wmnlab/F/database/2024-03-20/UDP_Bandlock_9S_Phone_A/sm00/#02/data/udp_dnlk_loss_latency.csv\n",
      "41/72 /home/wmnlab/F/database/2024-03-20/UDP_Bandlock_9S_Phone_A/sm05/#02/data/handover_info_log.csv\n",
      "41/72 /home/wmnlab/F/database/2024-03-20/UDP_Bandlock_9S_Phone_A/sm05/#02/data/udp_dnlk_loss_latency.csv\n"
     ]
    },
    {
     "data": {
      "application/vnd.jupyter.widget-view+json": {
       "model_id": "019b02c6c3224ee2a6d4678dd4ea9a3d",
       "version_major": 2,
       "version_minor": 0
      },
      "text/plain": [
       "  0%|                                                                                                         …"
      ]
     },
     "metadata": {},
     "output_type": "display_data"
    },
    {
     "name": "stdout",
     "output_type": "stream",
     "text": [
      "/home/wmnlab/F/results/20240329_160006be6c_new_dataset_sync/dr_20240408_0555003db4_anchor_by_packet/dl_lost/A_adjust_20240408_0345026_917c7/\\home\\wmnlab\\F\\database\\2024-03-20\\UDP_Bandlock_9S_Phone_A\\sm00\\#02\\data\\udp_dnlk_loss_latency\\home\\wmnlab\\F\\database\\2024-03-20\\UDP_Bandlock_9S_Phone_A\\sm05\\#02\\data\\udp_dnlk_loss_latency.csv\n",
      "./20240329_160006be6c_new_dataset_sync/dr_20240408_0555003db4_anchor_by_packet/dl_lost/results/A_adjust_20240408_0345026_917c7.pkl\n",
      "42/72 /home/wmnlab/F/database/2024-03-20/UDP_Bandlock_9S_Phone_A/sm00/#02/data/handover_info_log.csv\n",
      "42/72 /home/wmnlab/F/database/2024-03-20/UDP_Bandlock_9S_Phone_A/sm00/#02/data/udp_dnlk_loss_latency.csv\n",
      "42/72 /home/wmnlab/F/database/2024-03-20/UDP_Bandlock_9S_Phone_A/sm06/#02/data/handover_info_log.csv\n",
      "42/72 /home/wmnlab/F/database/2024-03-20/UDP_Bandlock_9S_Phone_A/sm06/#02/data/udp_dnlk_loss_latency.csv\n"
     ]
    },
    {
     "data": {
      "application/vnd.jupyter.widget-view+json": {
       "model_id": "34c8ee7801454299ae57b459a2e0862c",
       "version_major": 2,
       "version_minor": 0
      },
      "text/plain": [
       "  0%|                                                                                                         …"
      ]
     },
     "metadata": {},
     "output_type": "display_data"
    },
    {
     "name": "stdout",
     "output_type": "stream",
     "text": [
      "/home/wmnlab/F/results/20240329_160006be6c_new_dataset_sync/dr_20240408_0555003db4_anchor_by_packet/dl_lost/A_adjust_20240408_0345026_917c7/\\home\\wmnlab\\F\\database\\2024-03-20\\UDP_Bandlock_9S_Phone_A\\sm00\\#02\\data\\udp_dnlk_loss_latency\\home\\wmnlab\\F\\database\\2024-03-20\\UDP_Bandlock_9S_Phone_A\\sm06\\#02\\data\\udp_dnlk_loss_latency.csv\n",
      "./20240329_160006be6c_new_dataset_sync/dr_20240408_0555003db4_anchor_by_packet/dl_lost/results/A_adjust_20240408_0345026_917c7.pkl\n",
      "43/72 /home/wmnlab/F/database/2024-03-20/UDP_Bandlock_9S_Phone_A/sm00/#02/data/handover_info_log.csv\n",
      "43/72 /home/wmnlab/F/database/2024-03-20/UDP_Bandlock_9S_Phone_A/sm00/#02/data/udp_dnlk_loss_latency.csv\n",
      "43/72 /home/wmnlab/F/database/2024-03-20/UDP_Bandlock_9S_Phone_A/sm07/#02/data/handover_info_log.csv\n",
      "43/72 /home/wmnlab/F/database/2024-03-20/UDP_Bandlock_9S_Phone_A/sm07/#02/data/udp_dnlk_loss_latency.csv\n"
     ]
    },
    {
     "data": {
      "application/vnd.jupyter.widget-view+json": {
       "model_id": "8fab6e3de53c4a4fb34b5e627a93b454",
       "version_major": 2,
       "version_minor": 0
      },
      "text/plain": [
       "  0%|                                                                                                         …"
      ]
     },
     "metadata": {},
     "output_type": "display_data"
    },
    {
     "name": "stdout",
     "output_type": "stream",
     "text": [
      "/home/wmnlab/F/results/20240329_160006be6c_new_dataset_sync/dr_20240408_0555003db4_anchor_by_packet/dl_lost/A_adjust_20240408_0345026_917c7/\\home\\wmnlab\\F\\database\\2024-03-20\\UDP_Bandlock_9S_Phone_A\\sm00\\#02\\data\\udp_dnlk_loss_latency\\home\\wmnlab\\F\\database\\2024-03-20\\UDP_Bandlock_9S_Phone_A\\sm07\\#02\\data\\udp_dnlk_loss_latency.csv\n",
      "./20240329_160006be6c_new_dataset_sync/dr_20240408_0555003db4_anchor_by_packet/dl_lost/results/A_adjust_20240408_0345026_917c7.pkl\n",
      "44/72 /home/wmnlab/F/database/2024-03-20/UDP_Bandlock_9S_Phone_A/sm00/#02/data/handover_info_log.csv\n",
      "44/72 /home/wmnlab/F/database/2024-03-20/UDP_Bandlock_9S_Phone_A/sm00/#02/data/udp_dnlk_loss_latency.csv\n",
      "44/72 /home/wmnlab/F/database/2024-03-20/UDP_Bandlock_9S_Phone_A/sm08/#02/data/handover_info_log.csv\n",
      "44/72 /home/wmnlab/F/database/2024-03-20/UDP_Bandlock_9S_Phone_A/sm08/#02/data/udp_dnlk_loss_latency.csv\n"
     ]
    },
    {
     "data": {
      "application/vnd.jupyter.widget-view+json": {
       "model_id": "b97b0287dfc741969dc88570a0dfe86b",
       "version_major": 2,
       "version_minor": 0
      },
      "text/plain": [
       "  0%|                                                                                                         …"
      ]
     },
     "metadata": {},
     "output_type": "display_data"
    },
    {
     "name": "stdout",
     "output_type": "stream",
     "text": [
      "/home/wmnlab/F/results/20240329_160006be6c_new_dataset_sync/dr_20240408_0555003db4_anchor_by_packet/dl_lost/A_adjust_20240408_0345026_917c7/\\home\\wmnlab\\F\\database\\2024-03-20\\UDP_Bandlock_9S_Phone_A\\sm00\\#02\\data\\udp_dnlk_loss_latency\\home\\wmnlab\\F\\database\\2024-03-20\\UDP_Bandlock_9S_Phone_A\\sm08\\#02\\data\\udp_dnlk_loss_latency.csv\n",
      "./20240329_160006be6c_new_dataset_sync/dr_20240408_0555003db4_anchor_by_packet/dl_lost/results/A_adjust_20240408_0345026_917c7.pkl\n",
      "45/72 /home/wmnlab/F/database/2024-03-20/UDP_Bandlock_9S_Phone_A/sm01/#02/data/handover_info_log.csv\n",
      "45/72 /home/wmnlab/F/database/2024-03-20/UDP_Bandlock_9S_Phone_A/sm01/#02/data/udp_dnlk_loss_latency.csv\n",
      "45/72 /home/wmnlab/F/database/2024-03-20/UDP_Bandlock_9S_Phone_A/sm02/#02/data/handover_info_log.csv\n",
      "45/72 /home/wmnlab/F/database/2024-03-20/UDP_Bandlock_9S_Phone_A/sm02/#02/data/udp_dnlk_loss_latency.csv\n"
     ]
    },
    {
     "data": {
      "application/vnd.jupyter.widget-view+json": {
       "model_id": "b106ee4e821a45dd8f56d5cd116bdd2d",
       "version_major": 2,
       "version_minor": 0
      },
      "text/plain": [
       "  0%|                                                                                                         …"
      ]
     },
     "metadata": {},
     "output_type": "display_data"
    },
    {
     "name": "stdout",
     "output_type": "stream",
     "text": [
      "/home/wmnlab/F/results/20240329_160006be6c_new_dataset_sync/dr_20240408_0555003db4_anchor_by_packet/dl_lost/A_adjust_20240408_0345026_917c7/\\home\\wmnlab\\F\\database\\2024-03-20\\UDP_Bandlock_9S_Phone_A\\sm01\\#02\\data\\udp_dnlk_loss_latency\\home\\wmnlab\\F\\database\\2024-03-20\\UDP_Bandlock_9S_Phone_A\\sm02\\#02\\data\\udp_dnlk_loss_latency.csv\n",
      "./20240329_160006be6c_new_dataset_sync/dr_20240408_0555003db4_anchor_by_packet/dl_lost/results/A_adjust_20240408_0345026_917c7.pkl\n",
      "46/72 /home/wmnlab/F/database/2024-03-20/UDP_Bandlock_9S_Phone_A/sm01/#02/data/handover_info_log.csv\n",
      "46/72 /home/wmnlab/F/database/2024-03-20/UDP_Bandlock_9S_Phone_A/sm01/#02/data/udp_dnlk_loss_latency.csv\n",
      "46/72 /home/wmnlab/F/database/2024-03-20/UDP_Bandlock_9S_Phone_A/sm03/#02/data/handover_info_log.csv\n",
      "46/72 /home/wmnlab/F/database/2024-03-20/UDP_Bandlock_9S_Phone_A/sm03/#02/data/udp_dnlk_loss_latency.csv\n"
     ]
    },
    {
     "data": {
      "application/vnd.jupyter.widget-view+json": {
       "model_id": "9dd94f2dde734bfda0ae6db3fd589919",
       "version_major": 2,
       "version_minor": 0
      },
      "text/plain": [
       "  0%|                                                                                                         …"
      ]
     },
     "metadata": {},
     "output_type": "display_data"
    },
    {
     "name": "stdout",
     "output_type": "stream",
     "text": [
      "/home/wmnlab/F/results/20240329_160006be6c_new_dataset_sync/dr_20240408_0555003db4_anchor_by_packet/dl_lost/A_adjust_20240408_0345026_917c7/\\home\\wmnlab\\F\\database\\2024-03-20\\UDP_Bandlock_9S_Phone_A\\sm01\\#02\\data\\udp_dnlk_loss_latency\\home\\wmnlab\\F\\database\\2024-03-20\\UDP_Bandlock_9S_Phone_A\\sm03\\#02\\data\\udp_dnlk_loss_latency.csv\n",
      "./20240329_160006be6c_new_dataset_sync/dr_20240408_0555003db4_anchor_by_packet/dl_lost/results/A_adjust_20240408_0345026_917c7.pkl\n",
      "47/72 /home/wmnlab/F/database/2024-03-20/UDP_Bandlock_9S_Phone_A/sm01/#02/data/handover_info_log.csv\n",
      "47/72 /home/wmnlab/F/database/2024-03-20/UDP_Bandlock_9S_Phone_A/sm01/#02/data/udp_dnlk_loss_latency.csv\n",
      "47/72 /home/wmnlab/F/database/2024-03-20/UDP_Bandlock_9S_Phone_A/sm04/#02/data/handover_info_log.csv\n",
      "47/72 /home/wmnlab/F/database/2024-03-20/UDP_Bandlock_9S_Phone_A/sm04/#02/data/udp_dnlk_loss_latency.csv\n"
     ]
    },
    {
     "data": {
      "application/vnd.jupyter.widget-view+json": {
       "model_id": "a0119ea2cf6c4892af0635d201e7e14f",
       "version_major": 2,
       "version_minor": 0
      },
      "text/plain": [
       "  0%|                                                                                                         …"
      ]
     },
     "metadata": {},
     "output_type": "display_data"
    },
    {
     "name": "stdout",
     "output_type": "stream",
     "text": [
      "/home/wmnlab/F/results/20240329_160006be6c_new_dataset_sync/dr_20240408_0555003db4_anchor_by_packet/dl_lost/A_adjust_20240408_0345026_917c7/\\home\\wmnlab\\F\\database\\2024-03-20\\UDP_Bandlock_9S_Phone_A\\sm01\\#02\\data\\udp_dnlk_loss_latency\\home\\wmnlab\\F\\database\\2024-03-20\\UDP_Bandlock_9S_Phone_A\\sm04\\#02\\data\\udp_dnlk_loss_latency.csv\n",
      "./20240329_160006be6c_new_dataset_sync/dr_20240408_0555003db4_anchor_by_packet/dl_lost/results/A_adjust_20240408_0345026_917c7.pkl\n",
      "48/72 /home/wmnlab/F/database/2024-03-20/UDP_Bandlock_9S_Phone_A/sm01/#02/data/handover_info_log.csv\n",
      "48/72 /home/wmnlab/F/database/2024-03-20/UDP_Bandlock_9S_Phone_A/sm01/#02/data/udp_dnlk_loss_latency.csv\n",
      "48/72 /home/wmnlab/F/database/2024-03-20/UDP_Bandlock_9S_Phone_A/sm05/#02/data/handover_info_log.csv\n",
      "48/72 /home/wmnlab/F/database/2024-03-20/UDP_Bandlock_9S_Phone_A/sm05/#02/data/udp_dnlk_loss_latency.csv\n"
     ]
    },
    {
     "data": {
      "application/vnd.jupyter.widget-view+json": {
       "model_id": "8eb9ca7a78b540c38d7da9004fb6605c",
       "version_major": 2,
       "version_minor": 0
      },
      "text/plain": [
       "  0%|                                                                                                         …"
      ]
     },
     "metadata": {},
     "output_type": "display_data"
    },
    {
     "name": "stdout",
     "output_type": "stream",
     "text": [
      "/home/wmnlab/F/results/20240329_160006be6c_new_dataset_sync/dr_20240408_0555003db4_anchor_by_packet/dl_lost/A_adjust_20240408_0345026_917c7/\\home\\wmnlab\\F\\database\\2024-03-20\\UDP_Bandlock_9S_Phone_A\\sm01\\#02\\data\\udp_dnlk_loss_latency\\home\\wmnlab\\F\\database\\2024-03-20\\UDP_Bandlock_9S_Phone_A\\sm05\\#02\\data\\udp_dnlk_loss_latency.csv\n",
      "./20240329_160006be6c_new_dataset_sync/dr_20240408_0555003db4_anchor_by_packet/dl_lost/results/A_adjust_20240408_0345026_917c7.pkl\n",
      "49/72 /home/wmnlab/F/database/2024-03-20/UDP_Bandlock_9S_Phone_A/sm01/#02/data/handover_info_log.csv\n",
      "49/72 /home/wmnlab/F/database/2024-03-20/UDP_Bandlock_9S_Phone_A/sm01/#02/data/udp_dnlk_loss_latency.csv\n",
      "49/72 /home/wmnlab/F/database/2024-03-20/UDP_Bandlock_9S_Phone_A/sm06/#02/data/handover_info_log.csv\n",
      "49/72 /home/wmnlab/F/database/2024-03-20/UDP_Bandlock_9S_Phone_A/sm06/#02/data/udp_dnlk_loss_latency.csv\n"
     ]
    },
    {
     "data": {
      "application/vnd.jupyter.widget-view+json": {
       "model_id": "b730246f87e640a9951318c9fde4bc87",
       "version_major": 2,
       "version_minor": 0
      },
      "text/plain": [
       "  0%|                                                                                                         …"
      ]
     },
     "metadata": {},
     "output_type": "display_data"
    },
    {
     "name": "stdout",
     "output_type": "stream",
     "text": [
      "/home/wmnlab/F/results/20240329_160006be6c_new_dataset_sync/dr_20240408_0555003db4_anchor_by_packet/dl_lost/A_adjust_20240408_0345026_917c7/\\home\\wmnlab\\F\\database\\2024-03-20\\UDP_Bandlock_9S_Phone_A\\sm01\\#02\\data\\udp_dnlk_loss_latency\\home\\wmnlab\\F\\database\\2024-03-20\\UDP_Bandlock_9S_Phone_A\\sm06\\#02\\data\\udp_dnlk_loss_latency.csv\n",
      "./20240329_160006be6c_new_dataset_sync/dr_20240408_0555003db4_anchor_by_packet/dl_lost/results/A_adjust_20240408_0345026_917c7.pkl\n",
      "50/72 /home/wmnlab/F/database/2024-03-20/UDP_Bandlock_9S_Phone_A/sm01/#02/data/handover_info_log.csv\n",
      "50/72 /home/wmnlab/F/database/2024-03-20/UDP_Bandlock_9S_Phone_A/sm01/#02/data/udp_dnlk_loss_latency.csv\n",
      "50/72 /home/wmnlab/F/database/2024-03-20/UDP_Bandlock_9S_Phone_A/sm07/#02/data/handover_info_log.csv\n",
      "50/72 /home/wmnlab/F/database/2024-03-20/UDP_Bandlock_9S_Phone_A/sm07/#02/data/udp_dnlk_loss_latency.csv\n"
     ]
    },
    {
     "data": {
      "application/vnd.jupyter.widget-view+json": {
       "model_id": "2ab02bc8ce684cfc84609fd9af030c97",
       "version_major": 2,
       "version_minor": 0
      },
      "text/plain": [
       "  0%|                                                                                                         …"
      ]
     },
     "metadata": {},
     "output_type": "display_data"
    },
    {
     "name": "stdout",
     "output_type": "stream",
     "text": [
      "/home/wmnlab/F/results/20240329_160006be6c_new_dataset_sync/dr_20240408_0555003db4_anchor_by_packet/dl_lost/A_adjust_20240408_0345026_917c7/\\home\\wmnlab\\F\\database\\2024-03-20\\UDP_Bandlock_9S_Phone_A\\sm01\\#02\\data\\udp_dnlk_loss_latency\\home\\wmnlab\\F\\database\\2024-03-20\\UDP_Bandlock_9S_Phone_A\\sm07\\#02\\data\\udp_dnlk_loss_latency.csv\n",
      "./20240329_160006be6c_new_dataset_sync/dr_20240408_0555003db4_anchor_by_packet/dl_lost/results/A_adjust_20240408_0345026_917c7.pkl\n",
      "51/72 /home/wmnlab/F/database/2024-03-20/UDP_Bandlock_9S_Phone_A/sm01/#02/data/handover_info_log.csv\n",
      "51/72 /home/wmnlab/F/database/2024-03-20/UDP_Bandlock_9S_Phone_A/sm01/#02/data/udp_dnlk_loss_latency.csv\n",
      "51/72 /home/wmnlab/F/database/2024-03-20/UDP_Bandlock_9S_Phone_A/sm08/#02/data/handover_info_log.csv\n",
      "51/72 /home/wmnlab/F/database/2024-03-20/UDP_Bandlock_9S_Phone_A/sm08/#02/data/udp_dnlk_loss_latency.csv\n"
     ]
    },
    {
     "data": {
      "application/vnd.jupyter.widget-view+json": {
       "model_id": "9e2a897bdf954f1d8fd3a0f266c7a8f3",
       "version_major": 2,
       "version_minor": 0
      },
      "text/plain": [
       "  0%|                                                                                                         …"
      ]
     },
     "metadata": {},
     "output_type": "display_data"
    },
    {
     "name": "stdout",
     "output_type": "stream",
     "text": [
      "/home/wmnlab/F/results/20240329_160006be6c_new_dataset_sync/dr_20240408_0555003db4_anchor_by_packet/dl_lost/A_adjust_20240408_0345026_917c7/\\home\\wmnlab\\F\\database\\2024-03-20\\UDP_Bandlock_9S_Phone_A\\sm01\\#02\\data\\udp_dnlk_loss_latency\\home\\wmnlab\\F\\database\\2024-03-20\\UDP_Bandlock_9S_Phone_A\\sm08\\#02\\data\\udp_dnlk_loss_latency.csv\n",
      "./20240329_160006be6c_new_dataset_sync/dr_20240408_0555003db4_anchor_by_packet/dl_lost/results/A_adjust_20240408_0345026_917c7.pkl\n",
      "52/72 /home/wmnlab/F/database/2024-03-20/UDP_Bandlock_9S_Phone_A/sm02/#02/data/handover_info_log.csv\n",
      "52/72 /home/wmnlab/F/database/2024-03-20/UDP_Bandlock_9S_Phone_A/sm02/#02/data/udp_dnlk_loss_latency.csv\n",
      "52/72 /home/wmnlab/F/database/2024-03-20/UDP_Bandlock_9S_Phone_A/sm03/#02/data/handover_info_log.csv\n",
      "52/72 /home/wmnlab/F/database/2024-03-20/UDP_Bandlock_9S_Phone_A/sm03/#02/data/udp_dnlk_loss_latency.csv\n"
     ]
    },
    {
     "data": {
      "application/vnd.jupyter.widget-view+json": {
       "model_id": "7aea6e3136e84fb7b6c0967a19e0550f",
       "version_major": 2,
       "version_minor": 0
      },
      "text/plain": [
       "  0%|                                                                                                         …"
      ]
     },
     "metadata": {},
     "output_type": "display_data"
    },
    {
     "name": "stdout",
     "output_type": "stream",
     "text": [
      "/home/wmnlab/F/results/20240329_160006be6c_new_dataset_sync/dr_20240408_0555003db4_anchor_by_packet/dl_lost/A_adjust_20240408_0345026_917c7/\\home\\wmnlab\\F\\database\\2024-03-20\\UDP_Bandlock_9S_Phone_A\\sm02\\#02\\data\\udp_dnlk_loss_latency\\home\\wmnlab\\F\\database\\2024-03-20\\UDP_Bandlock_9S_Phone_A\\sm03\\#02\\data\\udp_dnlk_loss_latency.csv\n",
      "./20240329_160006be6c_new_dataset_sync/dr_20240408_0555003db4_anchor_by_packet/dl_lost/results/A_adjust_20240408_0345026_917c7.pkl\n",
      "53/72 /home/wmnlab/F/database/2024-03-20/UDP_Bandlock_9S_Phone_A/sm02/#02/data/handover_info_log.csv\n",
      "53/72 /home/wmnlab/F/database/2024-03-20/UDP_Bandlock_9S_Phone_A/sm02/#02/data/udp_dnlk_loss_latency.csv\n",
      "53/72 /home/wmnlab/F/database/2024-03-20/UDP_Bandlock_9S_Phone_A/sm04/#02/data/handover_info_log.csv\n",
      "53/72 /home/wmnlab/F/database/2024-03-20/UDP_Bandlock_9S_Phone_A/sm04/#02/data/udp_dnlk_loss_latency.csv\n"
     ]
    },
    {
     "data": {
      "application/vnd.jupyter.widget-view+json": {
       "model_id": "875a71b10cc74a73b1394f54f1805bfd",
       "version_major": 2,
       "version_minor": 0
      },
      "text/plain": [
       "  0%|                                                                                                         …"
      ]
     },
     "metadata": {},
     "output_type": "display_data"
    },
    {
     "name": "stdout",
     "output_type": "stream",
     "text": [
      "/home/wmnlab/F/results/20240329_160006be6c_new_dataset_sync/dr_20240408_0555003db4_anchor_by_packet/dl_lost/A_adjust_20240408_0345026_917c7/\\home\\wmnlab\\F\\database\\2024-03-20\\UDP_Bandlock_9S_Phone_A\\sm02\\#02\\data\\udp_dnlk_loss_latency\\home\\wmnlab\\F\\database\\2024-03-20\\UDP_Bandlock_9S_Phone_A\\sm04\\#02\\data\\udp_dnlk_loss_latency.csv\n",
      "./20240329_160006be6c_new_dataset_sync/dr_20240408_0555003db4_anchor_by_packet/dl_lost/results/A_adjust_20240408_0345026_917c7.pkl\n",
      "54/72 /home/wmnlab/F/database/2024-03-20/UDP_Bandlock_9S_Phone_A/sm02/#02/data/handover_info_log.csv\n",
      "54/72 /home/wmnlab/F/database/2024-03-20/UDP_Bandlock_9S_Phone_A/sm02/#02/data/udp_dnlk_loss_latency.csv\n",
      "54/72 /home/wmnlab/F/database/2024-03-20/UDP_Bandlock_9S_Phone_A/sm05/#02/data/handover_info_log.csv\n",
      "54/72 /home/wmnlab/F/database/2024-03-20/UDP_Bandlock_9S_Phone_A/sm05/#02/data/udp_dnlk_loss_latency.csv\n"
     ]
    },
    {
     "data": {
      "application/vnd.jupyter.widget-view+json": {
       "model_id": "e1b9f36112174eb2bed7e617acdf785a",
       "version_major": 2,
       "version_minor": 0
      },
      "text/plain": [
       "  0%|                                                                                                         …"
      ]
     },
     "metadata": {},
     "output_type": "display_data"
    },
    {
     "name": "stdout",
     "output_type": "stream",
     "text": [
      "/home/wmnlab/F/results/20240329_160006be6c_new_dataset_sync/dr_20240408_0555003db4_anchor_by_packet/dl_lost/A_adjust_20240408_0345026_917c7/\\home\\wmnlab\\F\\database\\2024-03-20\\UDP_Bandlock_9S_Phone_A\\sm02\\#02\\data\\udp_dnlk_loss_latency\\home\\wmnlab\\F\\database\\2024-03-20\\UDP_Bandlock_9S_Phone_A\\sm05\\#02\\data\\udp_dnlk_loss_latency.csv\n",
      "./20240329_160006be6c_new_dataset_sync/dr_20240408_0555003db4_anchor_by_packet/dl_lost/results/A_adjust_20240408_0345026_917c7.pkl\n",
      "55/72 /home/wmnlab/F/database/2024-03-20/UDP_Bandlock_9S_Phone_A/sm02/#02/data/handover_info_log.csv\n",
      "55/72 /home/wmnlab/F/database/2024-03-20/UDP_Bandlock_9S_Phone_A/sm02/#02/data/udp_dnlk_loss_latency.csv\n",
      "55/72 /home/wmnlab/F/database/2024-03-20/UDP_Bandlock_9S_Phone_A/sm06/#02/data/handover_info_log.csv\n",
      "55/72 /home/wmnlab/F/database/2024-03-20/UDP_Bandlock_9S_Phone_A/sm06/#02/data/udp_dnlk_loss_latency.csv\n"
     ]
    },
    {
     "data": {
      "application/vnd.jupyter.widget-view+json": {
       "model_id": "393238667de94a89bf1b10e4facae8b2",
       "version_major": 2,
       "version_minor": 0
      },
      "text/plain": [
       "  0%|                                                                                                         …"
      ]
     },
     "metadata": {},
     "output_type": "display_data"
    },
    {
     "name": "stdout",
     "output_type": "stream",
     "text": [
      "/home/wmnlab/F/results/20240329_160006be6c_new_dataset_sync/dr_20240408_0555003db4_anchor_by_packet/dl_lost/A_adjust_20240408_0345026_917c7/\\home\\wmnlab\\F\\database\\2024-03-20\\UDP_Bandlock_9S_Phone_A\\sm02\\#02\\data\\udp_dnlk_loss_latency\\home\\wmnlab\\F\\database\\2024-03-20\\UDP_Bandlock_9S_Phone_A\\sm06\\#02\\data\\udp_dnlk_loss_latency.csv\n",
      "./20240329_160006be6c_new_dataset_sync/dr_20240408_0555003db4_anchor_by_packet/dl_lost/results/A_adjust_20240408_0345026_917c7.pkl\n",
      "56/72 /home/wmnlab/F/database/2024-03-20/UDP_Bandlock_9S_Phone_A/sm02/#02/data/handover_info_log.csv\n",
      "56/72 /home/wmnlab/F/database/2024-03-20/UDP_Bandlock_9S_Phone_A/sm02/#02/data/udp_dnlk_loss_latency.csv\n",
      "56/72 /home/wmnlab/F/database/2024-03-20/UDP_Bandlock_9S_Phone_A/sm07/#02/data/handover_info_log.csv\n",
      "56/72 /home/wmnlab/F/database/2024-03-20/UDP_Bandlock_9S_Phone_A/sm07/#02/data/udp_dnlk_loss_latency.csv\n"
     ]
    },
    {
     "data": {
      "application/vnd.jupyter.widget-view+json": {
       "model_id": "fba4092c7f694f20afab500c62a2d323",
       "version_major": 2,
       "version_minor": 0
      },
      "text/plain": [
       "  0%|                                                                                                         …"
      ]
     },
     "metadata": {},
     "output_type": "display_data"
    },
    {
     "name": "stdout",
     "output_type": "stream",
     "text": [
      "/home/wmnlab/F/results/20240329_160006be6c_new_dataset_sync/dr_20240408_0555003db4_anchor_by_packet/dl_lost/A_adjust_20240408_0345026_917c7/\\home\\wmnlab\\F\\database\\2024-03-20\\UDP_Bandlock_9S_Phone_A\\sm02\\#02\\data\\udp_dnlk_loss_latency\\home\\wmnlab\\F\\database\\2024-03-20\\UDP_Bandlock_9S_Phone_A\\sm07\\#02\\data\\udp_dnlk_loss_latency.csv\n",
      "./20240329_160006be6c_new_dataset_sync/dr_20240408_0555003db4_anchor_by_packet/dl_lost/results/A_adjust_20240408_0345026_917c7.pkl\n",
      "57/72 /home/wmnlab/F/database/2024-03-20/UDP_Bandlock_9S_Phone_A/sm02/#02/data/handover_info_log.csv\n",
      "57/72 /home/wmnlab/F/database/2024-03-20/UDP_Bandlock_9S_Phone_A/sm02/#02/data/udp_dnlk_loss_latency.csv\n",
      "57/72 /home/wmnlab/F/database/2024-03-20/UDP_Bandlock_9S_Phone_A/sm08/#02/data/handover_info_log.csv\n",
      "57/72 /home/wmnlab/F/database/2024-03-20/UDP_Bandlock_9S_Phone_A/sm08/#02/data/udp_dnlk_loss_latency.csv\n"
     ]
    },
    {
     "data": {
      "application/vnd.jupyter.widget-view+json": {
       "model_id": "6ea2682b94624e3fbb546479c1c67c4c",
       "version_major": 2,
       "version_minor": 0
      },
      "text/plain": [
       "  0%|                                                                                                         …"
      ]
     },
     "metadata": {},
     "output_type": "display_data"
    },
    {
     "name": "stdout",
     "output_type": "stream",
     "text": [
      "/home/wmnlab/F/results/20240329_160006be6c_new_dataset_sync/dr_20240408_0555003db4_anchor_by_packet/dl_lost/A_adjust_20240408_0345026_917c7/\\home\\wmnlab\\F\\database\\2024-03-20\\UDP_Bandlock_9S_Phone_A\\sm02\\#02\\data\\udp_dnlk_loss_latency\\home\\wmnlab\\F\\database\\2024-03-20\\UDP_Bandlock_9S_Phone_A\\sm08\\#02\\data\\udp_dnlk_loss_latency.csv\n",
      "./20240329_160006be6c_new_dataset_sync/dr_20240408_0555003db4_anchor_by_packet/dl_lost/results/A_adjust_20240408_0345026_917c7.pkl\n",
      "58/72 /home/wmnlab/F/database/2024-03-20/UDP_Bandlock_9S_Phone_A/sm03/#02/data/handover_info_log.csv\n",
      "58/72 /home/wmnlab/F/database/2024-03-20/UDP_Bandlock_9S_Phone_A/sm03/#02/data/udp_dnlk_loss_latency.csv\n",
      "58/72 /home/wmnlab/F/database/2024-03-20/UDP_Bandlock_9S_Phone_A/sm04/#02/data/handover_info_log.csv\n",
      "58/72 /home/wmnlab/F/database/2024-03-20/UDP_Bandlock_9S_Phone_A/sm04/#02/data/udp_dnlk_loss_latency.csv\n"
     ]
    },
    {
     "data": {
      "application/vnd.jupyter.widget-view+json": {
       "model_id": "31e5a99224f946f3b1f89d33ffecc8fc",
       "version_major": 2,
       "version_minor": 0
      },
      "text/plain": [
       "  0%|                                                                                                         …"
      ]
     },
     "metadata": {},
     "output_type": "display_data"
    },
    {
     "name": "stdout",
     "output_type": "stream",
     "text": [
      "/home/wmnlab/F/results/20240329_160006be6c_new_dataset_sync/dr_20240408_0555003db4_anchor_by_packet/dl_lost/A_adjust_20240408_0345026_917c7/\\home\\wmnlab\\F\\database\\2024-03-20\\UDP_Bandlock_9S_Phone_A\\sm03\\#02\\data\\udp_dnlk_loss_latency\\home\\wmnlab\\F\\database\\2024-03-20\\UDP_Bandlock_9S_Phone_A\\sm04\\#02\\data\\udp_dnlk_loss_latency.csv\n",
      "./20240329_160006be6c_new_dataset_sync/dr_20240408_0555003db4_anchor_by_packet/dl_lost/results/A_adjust_20240408_0345026_917c7.pkl\n",
      "59/72 /home/wmnlab/F/database/2024-03-20/UDP_Bandlock_9S_Phone_A/sm03/#02/data/handover_info_log.csv\n",
      "59/72 /home/wmnlab/F/database/2024-03-20/UDP_Bandlock_9S_Phone_A/sm03/#02/data/udp_dnlk_loss_latency.csv\n",
      "59/72 /home/wmnlab/F/database/2024-03-20/UDP_Bandlock_9S_Phone_A/sm05/#02/data/handover_info_log.csv\n",
      "59/72 /home/wmnlab/F/database/2024-03-20/UDP_Bandlock_9S_Phone_A/sm05/#02/data/udp_dnlk_loss_latency.csv\n"
     ]
    },
    {
     "data": {
      "application/vnd.jupyter.widget-view+json": {
       "model_id": "8caa0ddbce04455d9f18ee7dd5f41fe8",
       "version_major": 2,
       "version_minor": 0
      },
      "text/plain": [
       "  0%|                                                                                                         …"
      ]
     },
     "metadata": {},
     "output_type": "display_data"
    },
    {
     "name": "stdout",
     "output_type": "stream",
     "text": [
      "/home/wmnlab/F/results/20240329_160006be6c_new_dataset_sync/dr_20240408_0555003db4_anchor_by_packet/dl_lost/A_adjust_20240408_0345026_917c7/\\home\\wmnlab\\F\\database\\2024-03-20\\UDP_Bandlock_9S_Phone_A\\sm03\\#02\\data\\udp_dnlk_loss_latency\\home\\wmnlab\\F\\database\\2024-03-20\\UDP_Bandlock_9S_Phone_A\\sm05\\#02\\data\\udp_dnlk_loss_latency.csv\n",
      "./20240329_160006be6c_new_dataset_sync/dr_20240408_0555003db4_anchor_by_packet/dl_lost/results/A_adjust_20240408_0345026_917c7.pkl\n",
      "60/72 /home/wmnlab/F/database/2024-03-20/UDP_Bandlock_9S_Phone_A/sm03/#02/data/handover_info_log.csv\n",
      "60/72 /home/wmnlab/F/database/2024-03-20/UDP_Bandlock_9S_Phone_A/sm03/#02/data/udp_dnlk_loss_latency.csv\n",
      "60/72 /home/wmnlab/F/database/2024-03-20/UDP_Bandlock_9S_Phone_A/sm06/#02/data/handover_info_log.csv\n",
      "60/72 /home/wmnlab/F/database/2024-03-20/UDP_Bandlock_9S_Phone_A/sm06/#02/data/udp_dnlk_loss_latency.csv\n"
     ]
    },
    {
     "data": {
      "application/vnd.jupyter.widget-view+json": {
       "model_id": "3bf0ad2a7f664888bac228780912362e",
       "version_major": 2,
       "version_minor": 0
      },
      "text/plain": [
       "  0%|                                                                                                         …"
      ]
     },
     "metadata": {},
     "output_type": "display_data"
    },
    {
     "name": "stdout",
     "output_type": "stream",
     "text": [
      "/home/wmnlab/F/results/20240329_160006be6c_new_dataset_sync/dr_20240408_0555003db4_anchor_by_packet/dl_lost/A_adjust_20240408_0345026_917c7/\\home\\wmnlab\\F\\database\\2024-03-20\\UDP_Bandlock_9S_Phone_A\\sm03\\#02\\data\\udp_dnlk_loss_latency\\home\\wmnlab\\F\\database\\2024-03-20\\UDP_Bandlock_9S_Phone_A\\sm06\\#02\\data\\udp_dnlk_loss_latency.csv\n",
      "./20240329_160006be6c_new_dataset_sync/dr_20240408_0555003db4_anchor_by_packet/dl_lost/results/A_adjust_20240408_0345026_917c7.pkl\n",
      "61/72 /home/wmnlab/F/database/2024-03-20/UDP_Bandlock_9S_Phone_A/sm03/#02/data/handover_info_log.csv\n",
      "61/72 /home/wmnlab/F/database/2024-03-20/UDP_Bandlock_9S_Phone_A/sm03/#02/data/udp_dnlk_loss_latency.csv\n",
      "61/72 /home/wmnlab/F/database/2024-03-20/UDP_Bandlock_9S_Phone_A/sm07/#02/data/handover_info_log.csv\n",
      "61/72 /home/wmnlab/F/database/2024-03-20/UDP_Bandlock_9S_Phone_A/sm07/#02/data/udp_dnlk_loss_latency.csv\n"
     ]
    },
    {
     "data": {
      "application/vnd.jupyter.widget-view+json": {
       "model_id": "86056c69fb594e379d7b69f9cfa5ff92",
       "version_major": 2,
       "version_minor": 0
      },
      "text/plain": [
       "  0%|                                                                                                         …"
      ]
     },
     "metadata": {},
     "output_type": "display_data"
    },
    {
     "name": "stdout",
     "output_type": "stream",
     "text": [
      "/home/wmnlab/F/results/20240329_160006be6c_new_dataset_sync/dr_20240408_0555003db4_anchor_by_packet/dl_lost/A_adjust_20240408_0345026_917c7/\\home\\wmnlab\\F\\database\\2024-03-20\\UDP_Bandlock_9S_Phone_A\\sm03\\#02\\data\\udp_dnlk_loss_latency\\home\\wmnlab\\F\\database\\2024-03-20\\UDP_Bandlock_9S_Phone_A\\sm07\\#02\\data\\udp_dnlk_loss_latency.csv\n",
      "./20240329_160006be6c_new_dataset_sync/dr_20240408_0555003db4_anchor_by_packet/dl_lost/results/A_adjust_20240408_0345026_917c7.pkl\n",
      "62/72 /home/wmnlab/F/database/2024-03-20/UDP_Bandlock_9S_Phone_A/sm03/#02/data/handover_info_log.csv\n",
      "62/72 /home/wmnlab/F/database/2024-03-20/UDP_Bandlock_9S_Phone_A/sm03/#02/data/udp_dnlk_loss_latency.csv\n",
      "62/72 /home/wmnlab/F/database/2024-03-20/UDP_Bandlock_9S_Phone_A/sm08/#02/data/handover_info_log.csv\n",
      "62/72 /home/wmnlab/F/database/2024-03-20/UDP_Bandlock_9S_Phone_A/sm08/#02/data/udp_dnlk_loss_latency.csv\n"
     ]
    },
    {
     "data": {
      "application/vnd.jupyter.widget-view+json": {
       "model_id": "8dae766afa0f443b939418296593317c",
       "version_major": 2,
       "version_minor": 0
      },
      "text/plain": [
       "  0%|                                                                                                         …"
      ]
     },
     "metadata": {},
     "output_type": "display_data"
    },
    {
     "name": "stdout",
     "output_type": "stream",
     "text": [
      "/home/wmnlab/F/results/20240329_160006be6c_new_dataset_sync/dr_20240408_0555003db4_anchor_by_packet/dl_lost/A_adjust_20240408_0345026_917c7/\\home\\wmnlab\\F\\database\\2024-03-20\\UDP_Bandlock_9S_Phone_A\\sm03\\#02\\data\\udp_dnlk_loss_latency\\home\\wmnlab\\F\\database\\2024-03-20\\UDP_Bandlock_9S_Phone_A\\sm08\\#02\\data\\udp_dnlk_loss_latency.csv\n",
      "./20240329_160006be6c_new_dataset_sync/dr_20240408_0555003db4_anchor_by_packet/dl_lost/results/A_adjust_20240408_0345026_917c7.pkl\n",
      "63/72 /home/wmnlab/F/database/2024-03-20/UDP_Bandlock_9S_Phone_A/sm04/#02/data/handover_info_log.csv\n",
      "63/72 /home/wmnlab/F/database/2024-03-20/UDP_Bandlock_9S_Phone_A/sm04/#02/data/udp_dnlk_loss_latency.csv\n",
      "63/72 /home/wmnlab/F/database/2024-03-20/UDP_Bandlock_9S_Phone_A/sm05/#02/data/handover_info_log.csv\n",
      "63/72 /home/wmnlab/F/database/2024-03-20/UDP_Bandlock_9S_Phone_A/sm05/#02/data/udp_dnlk_loss_latency.csv\n"
     ]
    },
    {
     "data": {
      "application/vnd.jupyter.widget-view+json": {
       "model_id": "84672550e6a1465784695a2ccd88213a",
       "version_major": 2,
       "version_minor": 0
      },
      "text/plain": [
       "  0%|                                                                                                         …"
      ]
     },
     "metadata": {},
     "output_type": "display_data"
    },
    {
     "name": "stdout",
     "output_type": "stream",
     "text": [
      "/home/wmnlab/F/results/20240329_160006be6c_new_dataset_sync/dr_20240408_0555003db4_anchor_by_packet/dl_lost/A_adjust_20240408_0345026_917c7/\\home\\wmnlab\\F\\database\\2024-03-20\\UDP_Bandlock_9S_Phone_A\\sm04\\#02\\data\\udp_dnlk_loss_latency\\home\\wmnlab\\F\\database\\2024-03-20\\UDP_Bandlock_9S_Phone_A\\sm05\\#02\\data\\udp_dnlk_loss_latency.csv\n",
      "./20240329_160006be6c_new_dataset_sync/dr_20240408_0555003db4_anchor_by_packet/dl_lost/results/A_adjust_20240408_0345026_917c7.pkl\n",
      "64/72 /home/wmnlab/F/database/2024-03-20/UDP_Bandlock_9S_Phone_A/sm04/#02/data/handover_info_log.csv\n",
      "64/72 /home/wmnlab/F/database/2024-03-20/UDP_Bandlock_9S_Phone_A/sm04/#02/data/udp_dnlk_loss_latency.csv\n",
      "64/72 /home/wmnlab/F/database/2024-03-20/UDP_Bandlock_9S_Phone_A/sm06/#02/data/handover_info_log.csv\n",
      "64/72 /home/wmnlab/F/database/2024-03-20/UDP_Bandlock_9S_Phone_A/sm06/#02/data/udp_dnlk_loss_latency.csv\n"
     ]
    },
    {
     "data": {
      "application/vnd.jupyter.widget-view+json": {
       "model_id": "80a532858f6f4b4e8fbae62df4b91ebb",
       "version_major": 2,
       "version_minor": 0
      },
      "text/plain": [
       "  0%|                                                                                                         …"
      ]
     },
     "metadata": {},
     "output_type": "display_data"
    },
    {
     "name": "stdout",
     "output_type": "stream",
     "text": [
      "/home/wmnlab/F/results/20240329_160006be6c_new_dataset_sync/dr_20240408_0555003db4_anchor_by_packet/dl_lost/A_adjust_20240408_0345026_917c7/\\home\\wmnlab\\F\\database\\2024-03-20\\UDP_Bandlock_9S_Phone_A\\sm04\\#02\\data\\udp_dnlk_loss_latency\\home\\wmnlab\\F\\database\\2024-03-20\\UDP_Bandlock_9S_Phone_A\\sm06\\#02\\data\\udp_dnlk_loss_latency.csv\n",
      "./20240329_160006be6c_new_dataset_sync/dr_20240408_0555003db4_anchor_by_packet/dl_lost/results/A_adjust_20240408_0345026_917c7.pkl\n",
      "65/72 /home/wmnlab/F/database/2024-03-20/UDP_Bandlock_9S_Phone_A/sm04/#02/data/handover_info_log.csv\n",
      "65/72 /home/wmnlab/F/database/2024-03-20/UDP_Bandlock_9S_Phone_A/sm04/#02/data/udp_dnlk_loss_latency.csv\n",
      "65/72 /home/wmnlab/F/database/2024-03-20/UDP_Bandlock_9S_Phone_A/sm07/#02/data/handover_info_log.csv\n",
      "65/72 /home/wmnlab/F/database/2024-03-20/UDP_Bandlock_9S_Phone_A/sm07/#02/data/udp_dnlk_loss_latency.csv\n"
     ]
    },
    {
     "data": {
      "application/vnd.jupyter.widget-view+json": {
       "model_id": "027a3c763b524ddaa667e81c6bc84966",
       "version_major": 2,
       "version_minor": 0
      },
      "text/plain": [
       "  0%|                                                                                                         …"
      ]
     },
     "metadata": {},
     "output_type": "display_data"
    },
    {
     "name": "stdout",
     "output_type": "stream",
     "text": [
      "/home/wmnlab/F/results/20240329_160006be6c_new_dataset_sync/dr_20240408_0555003db4_anchor_by_packet/dl_lost/A_adjust_20240408_0345026_917c7/\\home\\wmnlab\\F\\database\\2024-03-20\\UDP_Bandlock_9S_Phone_A\\sm04\\#02\\data\\udp_dnlk_loss_latency\\home\\wmnlab\\F\\database\\2024-03-20\\UDP_Bandlock_9S_Phone_A\\sm07\\#02\\data\\udp_dnlk_loss_latency.csv\n",
      "./20240329_160006be6c_new_dataset_sync/dr_20240408_0555003db4_anchor_by_packet/dl_lost/results/A_adjust_20240408_0345026_917c7.pkl\n",
      "66/72 /home/wmnlab/F/database/2024-03-20/UDP_Bandlock_9S_Phone_A/sm04/#02/data/handover_info_log.csv\n",
      "66/72 /home/wmnlab/F/database/2024-03-20/UDP_Bandlock_9S_Phone_A/sm04/#02/data/udp_dnlk_loss_latency.csv\n",
      "66/72 /home/wmnlab/F/database/2024-03-20/UDP_Bandlock_9S_Phone_A/sm08/#02/data/handover_info_log.csv\n",
      "66/72 /home/wmnlab/F/database/2024-03-20/UDP_Bandlock_9S_Phone_A/sm08/#02/data/udp_dnlk_loss_latency.csv\n"
     ]
    },
    {
     "data": {
      "application/vnd.jupyter.widget-view+json": {
       "model_id": "970e7bb2ff1e429895fc2ace8612ec5b",
       "version_major": 2,
       "version_minor": 0
      },
      "text/plain": [
       "  0%|                                                                                                         …"
      ]
     },
     "metadata": {},
     "output_type": "display_data"
    },
    {
     "name": "stdout",
     "output_type": "stream",
     "text": [
      "/home/wmnlab/F/results/20240329_160006be6c_new_dataset_sync/dr_20240408_0555003db4_anchor_by_packet/dl_lost/A_adjust_20240408_0345026_917c7/\\home\\wmnlab\\F\\database\\2024-03-20\\UDP_Bandlock_9S_Phone_A\\sm04\\#02\\data\\udp_dnlk_loss_latency\\home\\wmnlab\\F\\database\\2024-03-20\\UDP_Bandlock_9S_Phone_A\\sm08\\#02\\data\\udp_dnlk_loss_latency.csv\n",
      "./20240329_160006be6c_new_dataset_sync/dr_20240408_0555003db4_anchor_by_packet/dl_lost/results/A_adjust_20240408_0345026_917c7.pkl\n",
      "67/72 /home/wmnlab/F/database/2024-03-20/UDP_Bandlock_9S_Phone_A/sm05/#02/data/handover_info_log.csv\n",
      "67/72 /home/wmnlab/F/database/2024-03-20/UDP_Bandlock_9S_Phone_A/sm05/#02/data/udp_dnlk_loss_latency.csv\n",
      "67/72 /home/wmnlab/F/database/2024-03-20/UDP_Bandlock_9S_Phone_A/sm06/#02/data/handover_info_log.csv\n",
      "67/72 /home/wmnlab/F/database/2024-03-20/UDP_Bandlock_9S_Phone_A/sm06/#02/data/udp_dnlk_loss_latency.csv\n"
     ]
    },
    {
     "data": {
      "application/vnd.jupyter.widget-view+json": {
       "model_id": "9f89bc11bb36469b82cc56ab9aa230cf",
       "version_major": 2,
       "version_minor": 0
      },
      "text/plain": [
       "  0%|                                                                                                         …"
      ]
     },
     "metadata": {},
     "output_type": "display_data"
    },
    {
     "name": "stdout",
     "output_type": "stream",
     "text": [
      "/home/wmnlab/F/results/20240329_160006be6c_new_dataset_sync/dr_20240408_0555003db4_anchor_by_packet/dl_lost/A_adjust_20240408_0345026_917c7/\\home\\wmnlab\\F\\database\\2024-03-20\\UDP_Bandlock_9S_Phone_A\\sm05\\#02\\data\\udp_dnlk_loss_latency\\home\\wmnlab\\F\\database\\2024-03-20\\UDP_Bandlock_9S_Phone_A\\sm06\\#02\\data\\udp_dnlk_loss_latency.csv\n",
      "./20240329_160006be6c_new_dataset_sync/dr_20240408_0555003db4_anchor_by_packet/dl_lost/results/A_adjust_20240408_0345026_917c7.pkl\n",
      "68/72 /home/wmnlab/F/database/2024-03-20/UDP_Bandlock_9S_Phone_A/sm05/#02/data/handover_info_log.csv\n",
      "68/72 /home/wmnlab/F/database/2024-03-20/UDP_Bandlock_9S_Phone_A/sm05/#02/data/udp_dnlk_loss_latency.csv\n",
      "68/72 /home/wmnlab/F/database/2024-03-20/UDP_Bandlock_9S_Phone_A/sm07/#02/data/handover_info_log.csv\n",
      "68/72 /home/wmnlab/F/database/2024-03-20/UDP_Bandlock_9S_Phone_A/sm07/#02/data/udp_dnlk_loss_latency.csv\n"
     ]
    },
    {
     "data": {
      "application/vnd.jupyter.widget-view+json": {
       "model_id": "626075b584114c50a1ef68f6d2aaa7c5",
       "version_major": 2,
       "version_minor": 0
      },
      "text/plain": [
       "  0%|                                                                                                         …"
      ]
     },
     "metadata": {},
     "output_type": "display_data"
    },
    {
     "name": "stdout",
     "output_type": "stream",
     "text": [
      "/home/wmnlab/F/results/20240329_160006be6c_new_dataset_sync/dr_20240408_0555003db4_anchor_by_packet/dl_lost/A_adjust_20240408_0345026_917c7/\\home\\wmnlab\\F\\database\\2024-03-20\\UDP_Bandlock_9S_Phone_A\\sm05\\#02\\data\\udp_dnlk_loss_latency\\home\\wmnlab\\F\\database\\2024-03-20\\UDP_Bandlock_9S_Phone_A\\sm07\\#02\\data\\udp_dnlk_loss_latency.csv\n",
      "./20240329_160006be6c_new_dataset_sync/dr_20240408_0555003db4_anchor_by_packet/dl_lost/results/A_adjust_20240408_0345026_917c7.pkl\n",
      "69/72 /home/wmnlab/F/database/2024-03-20/UDP_Bandlock_9S_Phone_A/sm05/#02/data/handover_info_log.csv\n",
      "69/72 /home/wmnlab/F/database/2024-03-20/UDP_Bandlock_9S_Phone_A/sm05/#02/data/udp_dnlk_loss_latency.csv\n",
      "69/72 /home/wmnlab/F/database/2024-03-20/UDP_Bandlock_9S_Phone_A/sm08/#02/data/handover_info_log.csv\n",
      "69/72 /home/wmnlab/F/database/2024-03-20/UDP_Bandlock_9S_Phone_A/sm08/#02/data/udp_dnlk_loss_latency.csv\n"
     ]
    },
    {
     "data": {
      "application/vnd.jupyter.widget-view+json": {
       "model_id": "236bcd8a1bb24d7bb906c9b9d112e722",
       "version_major": 2,
       "version_minor": 0
      },
      "text/plain": [
       "  0%|                                                                                                         …"
      ]
     },
     "metadata": {},
     "output_type": "display_data"
    },
    {
     "name": "stdout",
     "output_type": "stream",
     "text": [
      "/home/wmnlab/F/results/20240329_160006be6c_new_dataset_sync/dr_20240408_0555003db4_anchor_by_packet/dl_lost/A_adjust_20240408_0345026_917c7/\\home\\wmnlab\\F\\database\\2024-03-20\\UDP_Bandlock_9S_Phone_A\\sm05\\#02\\data\\udp_dnlk_loss_latency\\home\\wmnlab\\F\\database\\2024-03-20\\UDP_Bandlock_9S_Phone_A\\sm08\\#02\\data\\udp_dnlk_loss_latency.csv\n",
      "./20240329_160006be6c_new_dataset_sync/dr_20240408_0555003db4_anchor_by_packet/dl_lost/results/A_adjust_20240408_0345026_917c7.pkl\n",
      "70/72 /home/wmnlab/F/database/2024-03-20/UDP_Bandlock_9S_Phone_A/sm06/#02/data/handover_info_log.csv\n",
      "70/72 /home/wmnlab/F/database/2024-03-20/UDP_Bandlock_9S_Phone_A/sm06/#02/data/udp_dnlk_loss_latency.csv\n",
      "70/72 /home/wmnlab/F/database/2024-03-20/UDP_Bandlock_9S_Phone_A/sm07/#02/data/handover_info_log.csv\n",
      "70/72 /home/wmnlab/F/database/2024-03-20/UDP_Bandlock_9S_Phone_A/sm07/#02/data/udp_dnlk_loss_latency.csv\n"
     ]
    },
    {
     "data": {
      "application/vnd.jupyter.widget-view+json": {
       "model_id": "94c256d312414e32aaee56d0cf4e6c62",
       "version_major": 2,
       "version_minor": 0
      },
      "text/plain": [
       "  0%|                                                                                                         …"
      ]
     },
     "metadata": {},
     "output_type": "display_data"
    },
    {
     "name": "stdout",
     "output_type": "stream",
     "text": [
      "/home/wmnlab/F/results/20240329_160006be6c_new_dataset_sync/dr_20240408_0555003db4_anchor_by_packet/dl_lost/A_adjust_20240408_0345026_917c7/\\home\\wmnlab\\F\\database\\2024-03-20\\UDP_Bandlock_9S_Phone_A\\sm06\\#02\\data\\udp_dnlk_loss_latency\\home\\wmnlab\\F\\database\\2024-03-20\\UDP_Bandlock_9S_Phone_A\\sm07\\#02\\data\\udp_dnlk_loss_latency.csv\n",
      "./20240329_160006be6c_new_dataset_sync/dr_20240408_0555003db4_anchor_by_packet/dl_lost/results/A_adjust_20240408_0345026_917c7.pkl\n",
      "71/72 /home/wmnlab/F/database/2024-03-20/UDP_Bandlock_9S_Phone_A/sm06/#02/data/handover_info_log.csv\n",
      "71/72 /home/wmnlab/F/database/2024-03-20/UDP_Bandlock_9S_Phone_A/sm06/#02/data/udp_dnlk_loss_latency.csv\n",
      "71/72 /home/wmnlab/F/database/2024-03-20/UDP_Bandlock_9S_Phone_A/sm08/#02/data/handover_info_log.csv\n",
      "71/72 /home/wmnlab/F/database/2024-03-20/UDP_Bandlock_9S_Phone_A/sm08/#02/data/udp_dnlk_loss_latency.csv\n"
     ]
    },
    {
     "data": {
      "application/vnd.jupyter.widget-view+json": {
       "model_id": "3406633b40574e399022d2b2330ac953",
       "version_major": 2,
       "version_minor": 0
      },
      "text/plain": [
       "  0%|                                                                                                         …"
      ]
     },
     "metadata": {},
     "output_type": "display_data"
    },
    {
     "name": "stdout",
     "output_type": "stream",
     "text": [
      "/home/wmnlab/F/results/20240329_160006be6c_new_dataset_sync/dr_20240408_0555003db4_anchor_by_packet/dl_lost/A_adjust_20240408_0345026_917c7/\\home\\wmnlab\\F\\database\\2024-03-20\\UDP_Bandlock_9S_Phone_A\\sm06\\#02\\data\\udp_dnlk_loss_latency\\home\\wmnlab\\F\\database\\2024-03-20\\UDP_Bandlock_9S_Phone_A\\sm08\\#02\\data\\udp_dnlk_loss_latency.csv\n",
      "./20240329_160006be6c_new_dataset_sync/dr_20240408_0555003db4_anchor_by_packet/dl_lost/results/A_adjust_20240408_0345026_917c7.pkl\n",
      "72/72 /home/wmnlab/F/database/2024-03-20/UDP_Bandlock_9S_Phone_A/sm07/#02/data/handover_info_log.csv\n",
      "72/72 /home/wmnlab/F/database/2024-03-20/UDP_Bandlock_9S_Phone_A/sm07/#02/data/udp_dnlk_loss_latency.csv\n",
      "72/72 /home/wmnlab/F/database/2024-03-20/UDP_Bandlock_9S_Phone_A/sm08/#02/data/handover_info_log.csv\n",
      "72/72 /home/wmnlab/F/database/2024-03-20/UDP_Bandlock_9S_Phone_A/sm08/#02/data/udp_dnlk_loss_latency.csv\n"
     ]
    },
    {
     "data": {
      "application/vnd.jupyter.widget-view+json": {
       "model_id": "4e955b692f194c1f8583ca291baeb5e5",
       "version_major": 2,
       "version_minor": 0
      },
      "text/plain": [
       "  0%|                                                                                                         …"
      ]
     },
     "metadata": {},
     "output_type": "display_data"
    },
    {
     "name": "stdout",
     "output_type": "stream",
     "text": [
      "/home/wmnlab/F/results/20240329_160006be6c_new_dataset_sync/dr_20240408_0555003db4_anchor_by_packet/dl_lost/A_adjust_20240408_0345026_917c7/\\home\\wmnlab\\F\\database\\2024-03-20\\UDP_Bandlock_9S_Phone_A\\sm07\\#02\\data\\udp_dnlk_loss_latency\\home\\wmnlab\\F\\database\\2024-03-20\\UDP_Bandlock_9S_Phone_A\\sm08\\#02\\data\\udp_dnlk_loss_latency.csv\n",
      "./20240329_160006be6c_new_dataset_sync/dr_20240408_0555003db4_anchor_by_packet/dl_lost/results/A_adjust_20240408_0345026_917c7.pkl\n",
      "./20240329_160006be6c_new_dataset_sync/dr_20240408_0555003db4_anchor_by_packet/dl_lost/figures/A_adjust_20240408_0345026_917c7.png\n"
     ]
    },
    {
     "data": {
      "image/png": "[encoded data removed]",
      "text/plain": [
       "<Figure size 550x400 with 1 Axes>"
      ]
     },
     "metadata": {
      "image/png": {
       "height": 380,
       "width": 542
      }
     },
     "output_type": "display_data"
    }
   ],
   "source": [
    "for mode in corr_lst:\n",
    "    model_corr = mode if mode == None or mode == 'adjust' else f'{mode}_corr'\n",
    "    print('=======================', model_corr, '=======================')\n",
    "    eval = DrEval(filepaths, 'A', model_corr, sr_model_id, sr_model_dscp, dr_model_id, dr_model_dscp, dirc_mets=dirc_mets,\n",
    "              anchor_mode=anchor_mode, test_mode=test_mode, save_answer=save_answer)\n",
    "    eval.run_hist_method(N=iter_num)\n",
    "    eval.plot()"
   ]
  },
  {
   "cell_type": "code",
   "execution_count": null,
   "metadata": {},
   "outputs": [],
   "source": []
  }
 ],
 "metadata": {
  "kernelspec": {
   "display_name": "moxa",
   "language": "python",
   "name": "python3"
  },
  "language_info": {
   "codemirror_mode": {
    "name": "ipython",
    "version": 3
   },
   "file_extension": ".py",
   "mimetype": "text/x-python",
   "name": "python",
   "nbconvert_exporter": "python",
   "pygments_lexer": "ipython3",
   "version": "3.8.18"
  },
  "vscode": {
   "interpreter": {
    "hash": "ac7929854b6d4d7e2ce5893f875cc9f600cfede08169dbb82e36bcbc7af2498e"
   }
  }
 },
 "nbformat": 4,
 "nbformat_minor": 2
}
