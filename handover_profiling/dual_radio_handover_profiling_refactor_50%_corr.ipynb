{
 "cells": [
  {
   "cell_type": "markdown",
   "metadata": {},
   "source": [
    "# Import Modules & Util Functions"
   ]
  },
  {
   "cell_type": "code",
   "execution_count": 1,
   "metadata": {},
   "outputs": [
    {
     "name": "stdout",
     "output_type": "stream",
     "text": [
      "/home/wmnlab/F/results\n"
     ]
    }
   ],
   "source": [
    "import os\n",
    "import sys\n",
    "import glob\n",
    "import re\n",
    "import ast\n",
    "import warnings\n",
    "import time\n",
    "\n",
    "import csv\n",
    "import json\n",
    "import pickle\n",
    "\n",
    "import math\n",
    "import random\n",
    "import numpy as np\n",
    "import scipy as sp\n",
    "import datetime as dt\n",
    "import pandas as pd\n",
    "import swifter\n",
    "from scipy.stats import gaussian_kde\n",
    "from scipy.integrate import quad\n",
    "from scipy.optimize import minimize\n",
    "from sklearn.metrics import mean_squared_error\n",
    "\n",
    "import portion as P\n",
    "import itertools as it\n",
    "import copy\n",
    "from tqdm.notebook import tqdm\n",
    "from collections import namedtuple\n",
    "from pprint import pprint\n",
    "from pytictoc import TicToc\n",
    "\n",
    "import matplotlib\n",
    "import matplotlib.pyplot as plt\n",
    "import seaborn as sns\n",
    "\n",
    "from myutils import *\n",
    "\n",
    "# Configure display options\n",
    "pd.set_option('display.max_rows', 200)\n",
    "pd.set_option('display.max_columns', 100)\n",
    "%config InlineBackend.figure_format = 'retina'\n",
    "\n",
    "# Set plot style\n",
    "# plt.style.use('ggplot')\n",
    "\n",
    "with open(os.path.join(os.getcwd(), \"result_save_path.txt\"), \"r\") as f:\n",
    "    PATH_TO_RESULTS = f.readline()\n",
    "    \n",
    "print(PATH_TO_RESULTS)"
   ]
  },
  {
   "cell_type": "markdown",
   "metadata": {},
   "source": [
    "# Manipulate Correlation Coefficient"
   ]
  },
  {
   "cell_type": "code",
   "execution_count": 2,
   "metadata": {},
   "outputs": [],
   "source": [
    "def manipulate_corr_coef(sr_model_id, dr_model_id, route='BR', mode='zero', rho_force=None):\n",
    "\n",
    "    def rho_restriction(p, q):\n",
    "        sigma = max(math.sqrt(p * q * (1 - p) * (1 - q)), 1e-9)  # sigma_x * sigma_y\n",
    "        R1 = P.closed(-1, 1)  # -1 <= rho <= 1\n",
    "        R2 = P.closed(-(p * q) / sigma, (1 - p * q) / sigma)  # 0 <= P(X=1, Y=1) <= 1\n",
    "        R3 = P.closed((p * (1 - q) - 1) / sigma, p * (1 - q) / sigma)  # 0 <= P(X=1, Y=0) <= 1\n",
    "        R4 = P.closed((q * (1 - p) - 1) / sigma, q * (1 - p) / sigma)  # 0 <= P(X=0, Y=1) <= 1\n",
    "        R5 = P.closed(-((1 - p) * (1 - q)) / sigma, (1 - (1 - p) * (1 - q)) / sigma)  # 0 <= P(X=0, Y=0) <= 1\n",
    "        R = R1 & R2 & R3 & R4 & R5\n",
    "        return R\n",
    "\n",
    "    def calculate_joint_probabilities(p, q, rho):\n",
    "        \"\"\"\n",
    "        p := P(X = 1); P(X = 0) = 1 - p\n",
    "        q := P(Y = 1); P(Y = 0) = 1 - q\n",
    "        rho: correlation coefficient\n",
    "        a := P(X = 1, Y = 1)\n",
    "        b := P(X = 1, Y = 0)\n",
    "        c := P(X = 0, Y = 1)\n",
    "        d := P(X = 0, Y = 0)\n",
    "        \"\"\"\n",
    "        sigma = max(math.sqrt(p * q * (1 - p) * (1 - q)), 1e-9)  # sigma_x * sigma_y\n",
    "        a = p * q + rho * sigma\n",
    "        b = p * (1 - q) - rho * sigma\n",
    "        c = q * (1 - p) - rho * sigma\n",
    "        d = (1 - p) * (1 - q) + rho * sigma\n",
    "        return a, b, c, d\n",
    "\n",
    "    def calculate_conditional_probabilities(p, q, rho):\n",
    "        \"\"\"\n",
    "        p := P(X = 1); P(X = 0) = 1 - p\n",
    "        q := P(Y = 1); P(Y = 0) = 1 - q\n",
    "        rho: correlation coefficient\n",
    "        alpha := P(Y = 1 | X = 1)\n",
    "        beta  := P(Y = 1 | X = 0)\n",
    "        gamma := P(X = 1 | Y = 1)\n",
    "        delta := P(X = 1 | Y = 0)\n",
    "        \"\"\"\n",
    "        sigma = max(math.sqrt(p * q * (1 - p) * (1 - q)), 1e-9)  # sigma_x * sigma_y\n",
    "        p = min(max(1e-9, p), 1 - 1e-9)\n",
    "        q = min(max(1e-9, q), 1 - 1e-9)\n",
    "        alpha = (p * q + rho * sigma) / p\n",
    "        beta = (q * (1 - p) - rho * sigma) / (1 - p)\n",
    "        gamma = (p * q + rho * sigma) / q\n",
    "        delta = (p * (1 - q) - rho * sigma) / (1 - q)\n",
    "        return alpha, beta, gamma, delta\n",
    "\n",
    "    def generate_combos(items):\n",
    "        combinations_result = list(it.combinations(items, 2))\n",
    "        self_combinations = [(x, x) for x in items]\n",
    "        def custom_sort(item):\n",
    "            return items.index(item[0]), items.index(item[1])\n",
    "        combos = sorted(self_combinations + combinations_result, key=custom_sort)\n",
    "        return combos\n",
    "\n",
    "    def adjust_rho(rho, rho_limit):\n",
    "        if rho > rho_limit.upper:\n",
    "            return rho_limit.upper\n",
    "        elif rho < rho_limit.lower:\n",
    "            return rho_limit.lower\n",
    "        else:\n",
    "            return rho\n",
    "    \n",
    "    load_path = os.path.join('.', sr_model_id, dr_model_id, 'models')\n",
    "    # print(load_path)\n",
    "    \n",
    "    with open(os.path.join(load_path, f'{route}_dr_prob_models.pkl'), 'rb') as f:\n",
    "        dr_prob_models = pickle.load(f)\n",
    "    dr_prob_models_table = pd.read_csv(os.path.join(load_path, f'{route}_dr_prob_models_table.csv'), index_col=[0, 1])\n",
    "    \n",
    "    # print(dr_prob_models)\n",
    "    # display(dr_prob_models_table)\n",
    "    \n",
    "    adjust_table = pd.DataFrame(columns=\"type1, type2, p, q, rho_lower, rho_upper, rho, alpha, beta, gamma, delta, a, b, c, d, sum\".split(\", \"))\n",
    "    items = ['LTEH', 'ENBH', 'MCGH', 'MNBH', 'SCGM', 'SCGA', 'SCGR-I', 'SCGR-II', 'SCGC-I', 'SCGC-II', 'SCGF', 'MCGF', 'NASR', 'Stable']\n",
    "    combos = generate_combos(items)\n",
    "\n",
    "    for pair in combos:\n",
    "        row = dr_prob_models_table.loc[pair]\n",
    "        p, q = row['p'], row['q']\n",
    "        # rho = row['rho']\n",
    "        rho_limit = rho_restriction(p, q)\n",
    "        \n",
    "        if rho_force is None:\n",
    "            if mode == 'zero':\n",
    "                rho_adjust = 0\n",
    "            elif mode == 'max':\n",
    "                rho_adjust = rho_limit.upper\n",
    "            else:\n",
    "                percentage = int(mode[:-1])\n",
    "                rho_adjust = percentage * rho_limit.upper / 100\n",
    "        else:\n",
    "            rho_adjust = rho_force\n",
    "        \n",
    "        alpha, beta, gamma, delta = calculate_conditional_probabilities(p, q, rho_adjust)\n",
    "        a, b, c, d = calculate_joint_probabilities(p, q, rho_adjust)\n",
    "        adjust_table.loc[len(adjust_table)] = [pair[0], pair[1], p, q, rho_limit.lower, rho_limit.upper, rho_adjust, alpha, beta, gamma, delta, a, b, c, d, sum([a, b, c, d])]\n",
    "    \n",
    "    adjust_table = adjust_table.set_index(['type1', 'type2'])\n",
    "    \n",
    "    model_adjust = copy.deepcopy(dr_prob_models)\n",
    "    for pair in combos:\n",
    "        row = adjust_table.loc[pair]\n",
    "        p, q, alpha, beta, gamma, delta = row['p'], row['q'], row['alpha'], row['beta'], row['gamma'], row['delta']\n",
    "        model_adjust['dl_lost'][pair] = (alpha, beta)\n",
    "        model_adjust['dl_lost'][(pair[1], pair[0])] = (gamma, delta)\n",
    "    \n",
    "    with open(os.path.join(load_path, f'{route}_dr_prob_models_{mode}_corr.pkl'), 'wb') as f:\n",
    "        pickle.dump(model_adjust, f)\n",
    "    adjust_table.to_csv(os.path.join(load_path, f'{route}_dr_prob_models_{mode}_corr_table.csv'))\n",
    "    \n",
    "    return adjust_table, model_adjust"
   ]
  },
  {
   "cell_type": "markdown",
   "metadata": {},
   "source": [
    "# Dual Radio Evaluation"
   ]
  },
  {
   "cell_type": "code",
   "execution_count": 3,
   "metadata": {},
   "outputs": [],
   "source": [
    "class DrEval:\n",
    "    def __init__(self, filepaths, model_name='Test', model_suffix=None, sr_model_id=None, dr_model_id=None, load_path='.', save_path='.',\n",
    "                 sp_columns=['type'], ts_column='Timestamp',\n",
    "                 metrics=['dl_lost']):\n",
    "        # Initialize instance variables\n",
    "        self.filepaths = copy.deepcopy(filepaths)\n",
    "        \n",
    "        if sr_model_id is None:\n",
    "            raise TypeError(\"請輸入SR模型編號\")\n",
    "        else:\n",
    "            self.sr_model_id = sr_model_id\n",
    "        \n",
    "        if dr_model_id is None:\n",
    "            raise TypeError(\"請輸入DR模型編號\")\n",
    "        else:\n",
    "            self.dr_model_id = dr_model_id\n",
    "        \n",
    "        self.model_name = model_name\n",
    "        self.save_path = save_path\n",
    "        \n",
    "        self.load_path = os.path.join(load_path, self.sr_model_id, 'models', self.model_name)\n",
    "        print(self.load_path)\n",
    "        with open(f'{self.load_path}_kde_models.pkl', 'rb') as f:\n",
    "            self.kde_models = pickle.load(f)\n",
    "        with open(f'{self.load_path}_hist_models.pkl', 'rb') as f:\n",
    "            self.hist_models = pickle.load(f)\n",
    "        with open(f'{self.load_path}_scope_models.pkl', 'rb') as f:\n",
    "            self.scope_models = pickle.load(f)\n",
    "        with open(f'{self.load_path}_plr_models.pkl', 'rb') as f:\n",
    "            self.plr_models = pickle.load(f)\n",
    "        with open(f'{self.load_path}_sr_prob_models.pkl', 'rb') as f:\n",
    "            self.sr_prob_models = pickle.load(f)\n",
    "            \n",
    "        self.load_path = os.path.join(load_path, self.sr_model_id, self.dr_model_id, 'models', self.model_name)\n",
    "        print(self.load_path)\n",
    "        if model_suffix is None:\n",
    "            print(f'{self.load_path}_dr_prob_models.pkl')\n",
    "            with open(f'{self.load_path}_dr_prob_models.pkl', 'rb') as f:\n",
    "                self.dr_prob_models = pickle.load(f)\n",
    "        else:\n",
    "            print(f'{self.load_path}_dr_prob_models_{model_suffix}.pkl')\n",
    "            with open(f'{self.load_path}_dr_prob_models_{model_suffix}.pkl', 'rb') as f:\n",
    "                self.dr_prob_models = pickle.load(f)\n",
    "        self.model_suffix = model_suffix\n",
    "        \n",
    "        self.sp_columns = sp_columns[:]\n",
    "        self.ts_column = ts_column\n",
    "        self.metrics = metrics[:]\n",
    "        \n",
    "        _, _, _, self.figure_id = figure_identity()\n",
    "        \n",
    "        # Sample data\n",
    "        self.LOSS_GT = []\n",
    "        self.LOSS_EV = []\n",
    "        self.LOSS_STD = []\n",
    "        self.DEVICES = []\n",
    "        self.TRACES = []\n",
    "        \n",
    "        # all records\n",
    "        self.records = []\n",
    "\n",
    "    @staticmethod\n",
    "    def generate_random_boolean(probability_true):\n",
    "        return random.random() < probability_true\n",
    "    \n",
    "    @staticmethod\n",
    "    def interpolate(x, y, ratio=0.5):\n",
    "        \"\"\"\n",
    "        Args:\n",
    "            x, y (datetime.datetime): x < y\n",
    "            ratio (float): a decimal numeral in a range [0, 1]; 0 means break at x, 1 means break at y.\n",
    "        Returns:\n",
    "            (datetime.datetime): breakpoint of interpolation\n",
    "        \"\"\"\n",
    "        return x + (y - x) * ratio\n",
    "    \n",
    "    def hist_method(self, df, ho_df, mode_mets, mets, RATE_TYPE):\n",
    "        scope = self.scope_models[mode_mets]\n",
    "        hist_model = self.hist_models[mode_mets]\n",
    "        prob_model = self.sr_prob_models[mode_mets]\n",
    "        plr_model = self.plr_models[mode_mets]\n",
    "        \n",
    "        this_df = df.copy()\n",
    "        for i, row in ho_df.iterrows():\n",
    "            prior_row = ho_df.iloc[i-1] if i != 0 else None\n",
    "            post_row = ho_df.iloc[i+1] if i != len(ho_df) - 1 else None\n",
    "\n",
    "            # Peek the next event to avoid HO overlapping with handoverFailure (skip!!)\n",
    "            if i != len(ho_df) - 1 and pd.notna(row.end) and row.end > post_row.start:\n",
    "                # print('Overlapping event occurs!!')\n",
    "                # print(i, row['start'], row['end'], row['type'], row['cause'])\n",
    "                # print(i+1, post_row['start'], post_row['end'], post_row['type'], post_row['cause'])\n",
    "                continue\n",
    "            \n",
    "            # Set prior event if the prior loop is skipped\n",
    "            if i != 0 and pd.notna(prior_row.end) and prior_row.end > row.start:\n",
    "                prior_row = ho_df.iloc[i-2] if i > 1 else None\n",
    "            \n",
    "            # Basic information of the current row\n",
    "            tag = '_'.join([s for s in row[self.sp_columns] if pd.notna(s)])  # specific column name\n",
    "            start_ts, end_ts = row['start'], row['end']  # handover start/end time\n",
    "            interruption_time = (end_ts - start_ts).total_seconds() if pd.notna(end_ts) else 0  # handover interruption time\n",
    "            \n",
    "            # Set simple left/right bounds\n",
    "            current_left_bound = start_ts + pd.Timedelta(seconds=(scope[tag][0]))\n",
    "            current_right_bound = start_ts + pd.Timedelta(seconds=(scope[tag][1]))\n",
    "            \n",
    "            # Set left/right bounds to avoid event overlapping with each other\n",
    "            if prior_row is not None:\n",
    "                prior_tag = '_'.join([s for s in prior_row[self.sp_columns] if pd.notna(s)])\n",
    "                prior_right_bound = prior_row['start'] + pd.Timedelta(seconds=(scope[prior_tag][1]))\n",
    "                if pd.notna(prior_row['end']):\n",
    "                    left_bound = min(max(current_left_bound, DrEval.interpolate(prior_right_bound, current_left_bound), prior_row['end']), start_ts)\n",
    "                else:\n",
    "                    left_bound = min(max(current_left_bound, DrEval.interpolate(prior_right_bound, current_left_bound), prior_row['start']), start_ts)\n",
    "            else:\n",
    "                left_bound = current_left_bound\n",
    "            \n",
    "            if post_row is not None:\n",
    "                post_tag = '_'.join([s for s in post_row[self.sp_columns] if pd.notna(s)])\n",
    "                post_left_bound = post_row['start'] + pd.Timedelta(seconds=(scope[post_tag][0]))\n",
    "                if pd.notna(end_ts):\n",
    "                    right_bound = max(min(current_right_bound, DrEval.interpolate(current_right_bound, post_left_bound), post_row['start']), end_ts)\n",
    "                else:\n",
    "                    right_bound = max(min(current_right_bound, DrEval.interpolate(current_right_bound, post_left_bound), post_row['start']), start_ts)\n",
    "            else:\n",
    "                right_bound = current_right_bound\n",
    "            \n",
    "            interval = P.closed(left_bound, right_bound)\n",
    "            \n",
    "            # Concatenate PLR from mapping list\n",
    "            current_df = this_df[this_df['Timestamp'] < interval.upper].copy()\n",
    "            plr_mapping = hist_model[tag].copy()\n",
    "            \n",
    "            current_df[f'relative_time'] = (current_df['Timestamp'] - start_ts).dt.total_seconds()\n",
    "            current_df[f'window_id'] = ((current_df[f'relative_time'] + 0.005) // 0.01) * 0.01\n",
    "            \n",
    "            trigger_probability = prob_model[tag]\n",
    "            \n",
    "            if plr_mapping.empty:\n",
    "                tmp = current_df.copy().rename(columns={mets: f'{mets}_x'})\n",
    "            else:\n",
    "                tmp = pd.merge(current_df, plr_mapping, on='window_id', how='left')\n",
    "                tmp[RATE_TYPE] = tmp[RATE_TYPE].fillna(0)\n",
    "                \n",
    "                if not DrEval.generate_random_boolean(trigger_probability):\n",
    "                    tmp[RATE_TYPE] = 0\n",
    "            \n",
    "            tmp['type'] = tag\n",
    "            \n",
    "            if i == 0:\n",
    "                answer = tmp.copy()\n",
    "            else:\n",
    "                answer = pd.concat([answer, tmp], axis=0)\n",
    "            \n",
    "            # Update dataframe to accelerate the speed\n",
    "            this_df = this_df[this_df[self.ts_column] >= interval.upper].copy()\n",
    "        \n",
    "        answer = pd.concat([answer, this_df], axis=0)\n",
    "        \n",
    "        # Consider stable duration\n",
    "        stable_df = answer[answer['tx_count'].isnull()].copy()[['seq', 'lost_x', 'excl', 'Timestamp']].rename(columns={'lost_x': 'lost'})\n",
    "\n",
    "        stable_df['Timestamp_sec'] = stable_df['Timestamp'].dt.floor('S')\n",
    "        stable_df['relative_time'] = (stable_df['Timestamp'] - stable_df['Timestamp_sec']).dt.total_seconds() - 0.5\n",
    "        stable_df['window_id'] = ((stable_df['relative_time'] + 0.01 / 2) // 0.01) * 0.01\n",
    "\n",
    "        plr_mapping = hist_model['Stable'].copy()        \n",
    "        stable_df = pd.merge(stable_df, plr_mapping, on='window_id', how='left').rename(columns={'PLR': 'PLR_if_trigger'})\n",
    "        trigger_prob_mapping = stable_df[~stable_df['Timestamp_sec'].duplicated()].reset_index(drop=True)[['Timestamp_sec']]\n",
    "        \n",
    "        trigger_probability = prob_model['Stable']\n",
    "        random_bool_array = [DrEval.generate_random_boolean(trigger_probability) for _ in range(len(trigger_prob_mapping))]\n",
    "        trigger_prob_mapping['trigger'] = random_bool_array\n",
    "\n",
    "        stable_df = pd.merge(stable_df, trigger_prob_mapping, on='Timestamp_sec', how='left')\n",
    "        stable_df['PLR'] = stable_df['PLR_if_trigger'] * stable_df['trigger']\n",
    "        \n",
    "        stable_df['type'] = 'Stable'\n",
    "\n",
    "        del stable_df['Timestamp_sec'], stable_df['PLR_if_trigger'], stable_df['trigger']\n",
    "        \n",
    "        answer = answer[answer['tx_count'].notnull()].copy()\n",
    "        \n",
    "        answer = pd.concat([answer, stable_df], axis=0)\n",
    "        answer = answer.sort_values(by='Timestamp').reset_index(drop=True)\n",
    "        answer['PLR'] = answer['PLR'] / 100\n",
    "        answer['Y'] = answer['PLR'].apply(DrEval.generate_random_boolean)\n",
    "        \n",
    "        eval_value = answer['Y'].mean() * 100\n",
    "        ground_value = df['lost'].mean() * 100\n",
    "        \n",
    "        answer = pd.concat([answer[['seq', 'Timestamp', 'type', 'relative_time', 'window_id']],\n",
    "                            df[['lost']],\n",
    "                            answer[[RATE_TYPE, 'Y']]], axis=1)\n",
    "        \n",
    "        return answer, eval_value, ground_value\n",
    "    \n",
    "    \n",
    "    def setup_profile(self, df, ho_df, df2, scope):\n",
    "        \n",
    "        this_df = df2.copy()\n",
    "        this_df = this_df[this_df['Y']].copy().reset_index(drop=True)\n",
    "        \n",
    "        df['anchor_type'] = 'Stable'\n",
    "        df['anchor_state'] = 0\n",
    "        for i, row in ho_df.iterrows():\n",
    "            prior_row = ho_df.iloc[i-1] if i != 0 else None\n",
    "            post_row = ho_df.iloc[i+1] if i != len(ho_df) - 1 else None\n",
    "\n",
    "            # Peek the next event to avoid HO overlapping with handoverFailure (skip!!)\n",
    "            if i != len(ho_df) - 1 and pd.notna(row.end) and row.end > post_row.start:\n",
    "                # print('Overlapping event occurs!!')\n",
    "                # print(i, row['start'], row['end'], row['type'], row['cause'])\n",
    "                # print(i+1, post_row['start'], post_row['end'], post_row['type'], post_row['cause'])\n",
    "                continue\n",
    "            \n",
    "            # Set prior event if the prior loop is skipped\n",
    "            if i != 0 and pd.notna(prior_row.end) and prior_row.end > row.start:\n",
    "                prior_row = ho_df.iloc[i-2] if i > 1 else None\n",
    "            \n",
    "            # Basic information of the current row\n",
    "            tag = '_'.join([s for s in row[self.sp_columns] if pd.notna(s)])  # specific column name\n",
    "            start_ts, end_ts = row['start'], row['end']  # handover start/end time\n",
    "            interruption_time = (end_ts - start_ts).total_seconds() if pd.notna(end_ts) else 0  # handover interruption time\n",
    "            \n",
    "            # Set simple left/right bounds\n",
    "            current_left_bound = start_ts + pd.Timedelta(seconds=(scope[tag][0]))\n",
    "            current_right_bound = start_ts + pd.Timedelta(seconds=(scope[tag][1]))\n",
    "            \n",
    "            # Set left/right bounds to avoid event overlapping with each other\n",
    "            if prior_row is not None:\n",
    "                prior_tag = '_'.join([s for s in prior_row[self.sp_columns] if pd.notna(s)])\n",
    "                prior_right_bound = prior_row['start'] + pd.Timedelta(seconds=(scope[prior_tag][1]))\n",
    "                if pd.notna(prior_row['end']):\n",
    "                    left_bound = min(max(current_left_bound, DrEval.interpolate(prior_right_bound, current_left_bound), prior_row['end']), start_ts)\n",
    "                else:\n",
    "                    left_bound = min(max(current_left_bound, DrEval.interpolate(prior_right_bound, current_left_bound), prior_row['start']), start_ts)\n",
    "            else:\n",
    "                left_bound = current_left_bound\n",
    "            \n",
    "            if post_row is not None:\n",
    "                post_tag = '_'.join([s for s in post_row[self.sp_columns] if pd.notna(s)])\n",
    "                post_left_bound = post_row['start'] + pd.Timedelta(seconds=(scope[post_tag][0]))\n",
    "                if pd.notna(end_ts):\n",
    "                    right_bound = max(min(current_right_bound, DrEval.interpolate(current_right_bound, post_left_bound), post_row['start']), end_ts)\n",
    "                else:\n",
    "                    right_bound = max(min(current_right_bound, DrEval.interpolate(current_right_bound, post_left_bound), post_row['start']), start_ts)\n",
    "            else:\n",
    "                right_bound = current_right_bound\n",
    "            \n",
    "            interval = P.closed(left_bound, right_bound)\n",
    "            \n",
    "            df.loc[(df['start'] >= interval.lower) & (df['start'] < interval.upper), 'anchor_type'] = tag\n",
    "            \n",
    "            if not this_df[(this_df['Timestamp'] >= interval.lower) & (this_df['Timestamp'] < interval.upper)].empty:\n",
    "                df.loc[(df['start'] >= interval.lower) & (df['start'] < interval.upper), 'anchor_state'] = 1\n",
    "                \n",
    "            # Update dataframe to accelerate the speed\n",
    "            this_df = this_df[this_df[self.ts_column] >= interval.upper].copy()\n",
    "            \n",
    "        return df\n",
    "    \n",
    "    \n",
    "    def hist_method_dual(self, df, ho_df, mode_mets, mets, RATE_TYPE):\n",
    "        scope = self.scope_models[mode_mets]\n",
    "        hist_model = self.hist_models[mode_mets]\n",
    "        dr_prob_model = self.dr_prob_models[mode_mets]\n",
    "        \n",
    "        this_df = df.copy()\n",
    "        for i, row in ho_df.iterrows():\n",
    "            prior_row = ho_df.iloc[i-1] if i != 0 else None\n",
    "            post_row = ho_df.iloc[i+1] if i != len(ho_df) - 1 else None\n",
    "\n",
    "            # Peek the next event to avoid HO overlapping with handoverFailure (skip!!)\n",
    "            if i != len(ho_df) - 1 and pd.notna(row.end) and row.end > post_row.start:\n",
    "                # print('Overlapping event occurs!!')\n",
    "                # print(i, row['start'], row['end'], row['type'], row['cause'])\n",
    "                # print(i+1, post_row['start'], post_row['end'], post_row['type'], post_row['cause'])\n",
    "                continue\n",
    "            \n",
    "            # Set prior event if the prior loop is skipped\n",
    "            if i != 0 and pd.notna(prior_row.end) and prior_row.end > row.start:\n",
    "                prior_row = ho_df.iloc[i-2] if i > 1 else None\n",
    "            \n",
    "            # Basic information of the current row\n",
    "            tag = '_'.join([s for s in row[self.sp_columns] if pd.notna(s)])  # specific column name\n",
    "            start_ts, end_ts = row['start'], row['end']  # handover start/end time\n",
    "            interruption_time = (end_ts - start_ts).total_seconds() if pd.notna(end_ts) else 0  # handover interruption time\n",
    "            \n",
    "            # Set simple left/right bounds\n",
    "            current_left_bound = start_ts + pd.Timedelta(seconds=(scope[tag][0]))\n",
    "            current_right_bound = start_ts + pd.Timedelta(seconds=(scope[tag][1]))\n",
    "            \n",
    "            # Set left/right bounds to avoid event overlapping with each other\n",
    "            if prior_row is not None:\n",
    "                prior_tag = '_'.join([s for s in prior_row[self.sp_columns] if pd.notna(s)])\n",
    "                prior_right_bound = prior_row['start'] + pd.Timedelta(seconds=(scope[prior_tag][1]))\n",
    "                if pd.notna(prior_row['end']):\n",
    "                    left_bound = min(max(current_left_bound, DrEval.interpolate(prior_right_bound, current_left_bound), prior_row['end']), start_ts)\n",
    "                else:\n",
    "                    left_bound = min(max(current_left_bound, DrEval.interpolate(prior_right_bound, current_left_bound), prior_row['start']), start_ts)\n",
    "            else:\n",
    "                left_bound = current_left_bound\n",
    "            \n",
    "            if post_row is not None:\n",
    "                post_tag = '_'.join([s for s in post_row[self.sp_columns] if pd.notna(s)])\n",
    "                post_left_bound = post_row['start'] + pd.Timedelta(seconds=(scope[post_tag][0]))\n",
    "                if pd.notna(end_ts):\n",
    "                    right_bound = max(min(current_right_bound, DrEval.interpolate(current_right_bound, post_left_bound), post_row['start']), end_ts)\n",
    "                else:\n",
    "                    right_bound = max(min(current_right_bound, DrEval.interpolate(current_right_bound, post_left_bound), post_row['start']), start_ts)\n",
    "            else:\n",
    "                right_bound = current_right_bound\n",
    "            \n",
    "            interval = P.closed(left_bound, right_bound)\n",
    "            \n",
    "            # Concatenate PLR from mapping list\n",
    "            current_df = this_df[this_df['Timestamp'] < interval.upper].copy()\n",
    "            plr_mapping = hist_model[tag].copy()\n",
    "            \n",
    "            current_df[f'relative_time'] = (current_df['Timestamp'] - start_ts).dt.total_seconds()\n",
    "            current_df[f'window_id'] = ((current_df[f'relative_time'] + 0.005) // 0.01) * 0.01\n",
    "            \n",
    "            anchor_tag = row['anchor_type']\n",
    "            anchor_state = row['anchor_state']\n",
    "            \n",
    "            if anchor_state == 1:\n",
    "                trigger_probability = dr_prob_model[(anchor_tag, tag)][0]\n",
    "            else:\n",
    "                trigger_probability = dr_prob_model[(anchor_tag, tag)][1]\n",
    "            \n",
    "            if plr_mapping.empty:\n",
    "                tmp = current_df.copy().rename(columns={mets: f'{mets}_x'})\n",
    "            else:\n",
    "                tmp = pd.merge(current_df, plr_mapping, on='window_id', how='left')\n",
    "                tmp[RATE_TYPE] = tmp[RATE_TYPE].fillna(0)\n",
    "                \n",
    "                if not DrEval.generate_random_boolean(trigger_probability):\n",
    "                    tmp[RATE_TYPE] = 0\n",
    "            \n",
    "            tmp['anchor_type'] = anchor_tag\n",
    "            tmp['anchor_state'] = anchor_state\n",
    "            tmp['type'] = tag\n",
    "            \n",
    "            if i == 0:\n",
    "                answer = tmp.copy()\n",
    "            else:\n",
    "                answer = pd.concat([answer, tmp], axis=0)\n",
    "            \n",
    "            # Update dataframe to accelerate the speed\n",
    "            this_df = this_df[this_df[self.ts_column] >= interval.upper].copy()\n",
    "        \n",
    "        answer = pd.concat([answer, this_df], axis=0)\n",
    "        # display(answer)\n",
    "        \n",
    "        # Consider stable duration\n",
    "        stable_df = answer[answer['tx_count'].isnull()].copy()[['seq', 'lost_x', 'excl', 'Timestamp']].rename(columns={'lost_x': 'lost'})\n",
    "\n",
    "        stable_df['Timestamp_sec'] = stable_df['Timestamp'].dt.floor('S')\n",
    "        stable_df['relative_time'] = (stable_df['Timestamp'] - stable_df['Timestamp_sec']).dt.total_seconds() - 0.5\n",
    "        stable_df['window_id'] = ((stable_df['relative_time'] + 0.01 / 2) // 0.01) * 0.01\n",
    "\n",
    "        plr_mapping = hist_model['Stable'].copy()        \n",
    "        stable_df = pd.merge(stable_df, plr_mapping, on='window_id', how='left').rename(columns={'PLR': 'PLR_if_trigger'})\n",
    "        trigger_prob_mapping = stable_df[~stable_df['Timestamp_sec'].duplicated()].reset_index(drop=True)[['Timestamp_sec']]\n",
    "        \n",
    "        trigger_probability = dr_prob_model[('Stable', 'Stable')][0]\n",
    "        \n",
    "        # if anchor_state == 1:\n",
    "        #     trigger_probability = dr_prob_model[(anchor_tag, tag)][0]\n",
    "        # else:\n",
    "        #     trigger_probability = dr_prob_model[(anchor_tag, tag)][1]\n",
    "                \n",
    "        random_bool_array = [DrEval.generate_random_boolean(trigger_probability) for _ in range(len(trigger_prob_mapping))]\n",
    "        trigger_prob_mapping['trigger'] = random_bool_array\n",
    "\n",
    "        stable_df = pd.merge(stable_df, trigger_prob_mapping, on='Timestamp_sec', how='left')\n",
    "        stable_df['PLR'] = stable_df['PLR_if_trigger'] * stable_df['trigger']\n",
    "        \n",
    "        # stable_df['type'] = 'Stable'\n",
    "        stable_df['anchor_type'] = 'Stable'\n",
    "        stable_df['anchor_state'] = 0\n",
    "        stable_df['type'] = 'Stable'\n",
    "\n",
    "        del stable_df['Timestamp_sec'], stable_df['PLR_if_trigger'], stable_df['trigger']\n",
    "        \n",
    "        answer = answer[answer['tx_count'].notnull()].copy()\n",
    "        \n",
    "        answer = pd.concat([answer, stable_df], axis=0)\n",
    "        answer = answer.sort_values(by='Timestamp').reset_index(drop=True)\n",
    "        answer['PLR'] = answer['PLR'] / 100\n",
    "        answer['Y'] = answer['PLR'].apply(DrEval.generate_random_boolean)\n",
    "        \n",
    "        eval_value = answer['Y'].mean() * 100\n",
    "        ground_value = df['lost'].mean() * 100\n",
    "        \n",
    "        answer = pd.concat([answer[['seq', 'Timestamp', 'anchor_type', 'anchor_state', 'type', 'relative_time', 'window_id']],\n",
    "                            df[['lost']],\n",
    "                            answer[[RATE_TYPE, 'Y']]], axis=1)\n",
    "\n",
    "        return answer, eval_value, ground_value\n",
    "\n",
    "        # return answer, eval_value, ground_value\n",
    "        \n",
    "        # # Consider stable duration\n",
    "        # stable_df = answer[answer['tx_count'].isnull()].copy()[['seq', 'lost_x', 'excl', 'Timestamp']].rename(columns={'lost_x': 'lost'})\n",
    "\n",
    "        # stable_df['Timestamp_sec'] = stable_df['Timestamp'].dt.floor('S')\n",
    "        # stable_df['relative_time'] = (stable_df['Timestamp'] - stable_df['Timestamp_sec']).dt.total_seconds() - 0.5\n",
    "        # stable_df['window_id'] = ((stable_df['relative_time'] + 0.01 / 2) // 0.01) * 0.01\n",
    "\n",
    "        # plr_mapping = hist_model['Stable'].copy()\n",
    "        # stable_df = pd.merge(stable_df, plr_mapping, on='window_id', how='left').rename(columns={'PLR': 'PLR_trig'})\n",
    "\n",
    "        # trig_p_mapping = stable_df[~stable_df['Timestamp_sec'].duplicated()].reset_index(drop=True)\n",
    "        \n",
    "        # triggered_p = dr_prob_model[('Stable', 'Stable')][0]\n",
    "        \n",
    "        # random_bool_array = [DrEval.generate_random_boolean(triggered_p) for _ in range(len(trig_p_mapping))]\n",
    "        # trig_p_mapping['trigger'] = random_bool_array\n",
    "        # trig_p_mapping = trig_p_mapping[['Timestamp_sec', 'trigger']]\n",
    "\n",
    "        # stable_df = pd.merge(stable_df, trig_p_mapping, on='Timestamp_sec', how='left')\n",
    "        # stable_df['PLR'] = stable_df['PLR_trig'] * stable_df['trigger']\n",
    "\n",
    "        # del stable_df['Timestamp_sec'], stable_df['PLR_trig'], stable_df['trigger']\n",
    "        \n",
    "        # answer = answer[answer['tx_count'].notnull()].copy()\n",
    "        # # display(answer)\n",
    "        \n",
    "        # answer = pd.concat([answer, stable_df], axis=0)\n",
    "        # answer = answer.sort_values(by='Timestamp').reset_index(drop=True)\n",
    "        # answer['PLR'] = answer['PLR'] / 100\n",
    "        # answer['Y'] = answer['PLR'].apply(DrEval.generate_random_boolean)\n",
    "        \n",
    "        # eval_value = answer['Y'].mean() * 100\n",
    "        # ground_value = df['lost'].mean() * 100\n",
    "    \n",
    "    \n",
    "    def run_hist_method(self, N=3):\n",
    "        scope = self.scope_models['dl_lost']\n",
    "        n = len(self.filepaths)\n",
    "        for mode_mets in ['dl_lost']:\n",
    "            for i, filepath in enumerate(self.filepaths):\n",
    "                \n",
    "                # if i > 35:\n",
    "                #     break\n",
    "                \n",
    "                # if i > 0:\n",
    "                #     break\n",
    "                \n",
    "                print(f'{i}/{n}', filepath[0][0]); print(f'{i}/{n}', filepath[0][1]); print(f'{i}/{n}', filepath[0][2])\n",
    "                print(f'{i}/{n}', filepath[1][0]); print(f'{i}/{n}', filepath[1][1]); print(f'{i}/{n}', filepath[1][2])\n",
    "                \n",
    "                # ho_df1 = pd.read_csv(filepath[0][0], parse_dates=['start', 'end'])\n",
    "                if os.path.isfile(filepath[0][0]):\n",
    "                    ho_df1 = pd.read_csv(filepath[0][0], parse_dates=['start', 'end'])\n",
    "                else:\n",
    "                    print('{} does not exist!!!'.format(filepath[0][0]))\n",
    "                    temp_dir = os.path.dirname(filepath[0][0])\n",
    "                    rrc_file = [os.path.join(temp_dir, s) for s in os.listdir(temp_dir) if s.endswith('rrc.csv')][0]\n",
    "                    ho_df1, _ = mi_parse_handover(pd.read_csv(rrc_file))\n",
    "                    print('makefile:', os.path.join(temp_dir, 'handover_info_log.csv'))\n",
    "                    ho_df1.to_csv(os.path.join(temp_dir, 'handover_info_log.csv'), index=False)\n",
    "                \n",
    "                # ho_df2 = pd.read_csv(filepath[1][0], parse_dates=['start', 'end'])\n",
    "                if os.path.isfile(filepath[1][0]):\n",
    "                    ho_df2 = pd.read_csv(filepath[1][0], parse_dates=['start', 'end'])\n",
    "                else:\n",
    "                    print('{} does not exist!!!'.format(filepath[1][0]))\n",
    "                    temp_dir = os.path.dirname(filepath[1][0])\n",
    "                    rrc_file = [os.path.join(temp_dir, s) for s in os.listdir(temp_dir) if s.endswith('rrc.csv')][0]\n",
    "                    ho_df2, _ = mi_parse_handover(pd.read_csv(rrc_file))\n",
    "                    print('makefile:', os.path.join(temp_dir, 'handover_info_log.csv'))\n",
    "                    ho_df2.to_csv(os.path.join(temp_dir, 'handover_info_log.csv'), index=False)\n",
    "                \n",
    "                if ho_df1.empty or ho_df2.empty:\n",
    "                    print('******** Empty RRC Data ********')\n",
    "                    continue\n",
    "                \n",
    "                # df, ho_df, empty_data = data_aligner(df, ho_df)\n",
    "                \n",
    "                df1 = pd.read_csv(filepath[0][1], parse_dates=['Timestamp'])[['seq', 'Timestamp', 'lost', 'excl', 'latency']]\n",
    "                df2 = pd.read_csv(filepath[1][1], parse_dates=['Timestamp'])[['seq', 'Timestamp', 'lost', 'excl', 'latency']]\n",
    "                df1, ho_df1, empty_data1 = data_aligner(df1, ho_df1)\n",
    "                df2, ho_df2, empty_data2 = data_aligner(df2, ho_df2)\n",
    "                \n",
    "                if empty_data1 or empty_data2:\n",
    "                    print('******** Empty RRC Data ********')\n",
    "                    continue\n",
    "                \n",
    "                df = pd.merge(df1, df2, on='seq', how='inner').reset_index(drop=True)\n",
    "                \n",
    "                df1 = df[['seq', 'Timestamp_x', 'lost_x', 'excl_x', 'latency_x']].rename(columns={'Timestamp_x': 'Timestamp', 'lost_x': 'lost', 'excl_x': 'excl', 'latency_x': 'latency'})\n",
    "                df2 = df[['seq', 'Timestamp_y', 'lost_y', 'excl_y', 'latency_y']].rename(columns={'Timestamp_y': 'Timestamp', 'lost_y': 'lost', 'excl_y': 'excl', 'latency_y': 'latency'})\n",
    "                \n",
    "                loss_rate_list = []\n",
    "                answer = None\n",
    "                for iter_round in tqdm(range(N), ncols=1000):\n",
    "                    ans1, eval_value1, ground_value1 = eval.hist_method(df1, ho_df1, mode_mets='dl_lost', mets='lost', RATE_TYPE='PLR')\n",
    "                    # display(answer1)\n",
    "                    \n",
    "                    # setup_profile\n",
    "                    # ho_df1 = self.setup_profile(ho_df1, ho_df2, df2, scope)\n",
    "                    avatar_ho_df2 = self.setup_profile(ho_df2.copy(), ho_df1, ans1, scope)\n",
    "                    \n",
    "                    # display(avatar_ho_df2)\n",
    "                    \n",
    "                    ans2, eval_value2, ground_value2 = eval.hist_method_dual(df2, avatar_ho_df2, mode_mets='dl_lost', mets='lost', RATE_TYPE='PLR')\n",
    "                    \n",
    "                    # display(ans1)\n",
    "                    # display(ans2)\n",
    "                    # display(answer2)\n",
    "                    \n",
    "                    ans = pd.merge(ans1, ans2, on='seq', how='inner').reset_index(drop=True)\n",
    "                    ans['lost'] = (ans['lost_x']) & (ans['lost_y'])\n",
    "                    ans['Y'] = (ans['Y_x']) & (ans['Y_y'])\n",
    "                    ans = ans[['seq', 'Timestamp_x', 'Timestamp_y', 'type_x', 'anchor_type', 'anchor_state', 'type_y', 'relative_time_x', 'window_id_x', 'relative_time_y', 'window_id_y', 'lost_x', 'lost_y', 'lost', 'PLR_x', 'Y_x', 'PLR_y', 'Y_y', 'Y']]\n",
    "                    \n",
    "                    # display(ans)\n",
    "                    \n",
    "                    handle = (ans1['Y']) & (ans2['Y'])\n",
    "                    eval_value = handle.mean() * 100\n",
    "                    # print('eval:', eval_value, len(handle))\n",
    "                    \n",
    "                    handle = (df1['lost']) & (df2['lost'])\n",
    "                    ground_value = handle.mean() * 100\n",
    "                    # print('ground:', ground_value, len(handle))\n",
    "                    \n",
    "                    if answer is None:\n",
    "                        answer = ans.copy()\n",
    "                        answer = answer.rename(columns={'PLR_x': f'PLR_x_0', 'Y_x': f'Y_x_0', 'PLR_y': f'PLR_y_0', 'Y_y': f'Y_y_0', 'Y': f'Y_0'})\n",
    "                    else:\n",
    "                        answer = pd.concat([answer, ans[['PLR_x', 'Y_x', 'PLR_y', 'Y_y', 'Y']]], axis=1)\n",
    "                        answer = answer.rename(columns={'PLR_x': f'PLR_x_{iter_round}', 'Y_x': f'Y_x_{iter_round}', 'PLR_y': f'PLR_y_{iter_round}', 'Y_y': f'Y_y_{iter_round}', 'Y': f'Y_{iter_round}'})\n",
    "                    \n",
    "                    loss_rate_list.append(eval_value)\n",
    "                \n",
    "                # display(answer)\n",
    "        \n",
    "                mean_value = np.mean(loss_rate_list)\n",
    "                std_deviation = np.std(loss_rate_list)\n",
    "\n",
    "                # print()\n",
    "                # print(\"Mean:\", mean_value)\n",
    "                # print(\"Standard Deviation:\", std_deviation)\n",
    "                # print(\"Ground Truth:\", ground_value)\n",
    "                \n",
    "                self.LOSS_GT.append(ground_value)\n",
    "                self.LOSS_EV.append(mean_value)\n",
    "                self.LOSS_STD.append(std_deviation)\n",
    "                \n",
    "                path1 = filepath[0][1]\n",
    "                path2 = filepath[1][1]\n",
    "                \n",
    "                error = mean_value - ground_value\n",
    "                self.records.append((mean_value, std_deviation, ground_value, error, path1, path2))\n",
    "\n",
    "                def find_sm_label(path):\n",
    "                    # 找到 \"sm\" 的位置\n",
    "                    sm_index = path.index(\"sm\")\n",
    "                    # 从 \"sm\" 的位置开始找到下一个斜杠 \"/\"\n",
    "                    next_slash_index = path.index(\"/\", sm_index)\n",
    "                    # 截取 \"sm00\" 标签\n",
    "                    # sm_label = path[sm_index:next_slash_index]\n",
    "                    sm_label = path[sm_index+2:next_slash_index]\n",
    "                    # print(\"截取的标签为:\", sm_label)\n",
    "                    return sm_label\n",
    "                \n",
    "                self.DEVICES.append(find_sm_label(path1)+'+'+find_sm_label(path2))\n",
    "                \n",
    "                def find_tr_label(path):\n",
    "                    # 找到 \"sm\" 的位置\n",
    "                    sm_index = path.index(\"#\")\n",
    "                    # 从 \"sm\" 的位置开始找到下一个斜杠 \"/\"\n",
    "                    next_slash_index = path.index(\"/\", sm_index)\n",
    "                    # 截取 \"sm00\" 标签\n",
    "                    # sm_label = path[sm_index:next_slash_index]\n",
    "                    sm_label = path[sm_index+1:next_slash_index]\n",
    "                    # print(\"截取的标签为:\", sm_label)\n",
    "                    return sm_label\n",
    "                \n",
    "                self.TRACES.append(find_tr_label(path1)+'+'+find_tr_label(path2))\n",
    "                \n",
    "                if self.model_suffix is None:\n",
    "                    # save_path = os.path.join(self.save_path, self.sr_model_id, self.dr_model_id, 'results', self.figure_id)\n",
    "                    save_path = os.path.join(PATH_TO_RESULTS, self.sr_model_id, 'dr_results', self.dr_model_id, self.figure_id)\n",
    "                else:\n",
    "                    # save_path = os.path.join(self.save_path, self.sr_model_id, self.dr_model_id, 'results', f'{self.figure_id}_{self.model_suffix}')\n",
    "                    save_path = os.path.join(PATH_TO_RESULTS, self.sr_model_id, 'dr_results', self.dr_model_id, f'{self.figure_id}_{self.model_suffix}')\n",
    "                    \n",
    "                if not os.path.isdir(save_path):\n",
    "                    os.makedirs(save_path)\n",
    "                \n",
    "                save_path = os.path.join(save_path, path1.replace('/', '\\\\')[:-4]+path2.replace('/', '\\\\'))\n",
    "                print(save_path)\n",
    "                answer.to_csv(save_path, index=False)\n",
    "    \n",
    "    \n",
    "    def plot(self, save_name='plot_example', save_path='.'):\n",
    "        # Sample data\n",
    "        x = self.LOSS_GT.copy()\n",
    "        y = self.LOSS_EV.copy()\n",
    "\n",
    "        # Standard deviations for error bars\n",
    "        y_error = self.LOSS_STD.copy()\n",
    "\n",
    "        # Create figure and axes\n",
    "        fig, ax = plt.subplots(figsize=(6, 4))\n",
    "\n",
    "        # Scatter plot with error bars and horizontal caps\n",
    "        ax.errorbar(x, y, yerr=y_error, linestyle='None', marker='o', color='tab:blue', capsize=5)\n",
    "        ax.scatter([], [], linestyle='None', marker='o', color='tab:blue', label='Data Points')\n",
    "\n",
    "        # Regression line\n",
    "        # coefficients = np.polyfit(x, y, 1)\n",
    "        # regression_line = np.poly1d(coefficients)\n",
    "        # ax.plot(ax.get_xlim(), regression_line(ax.get_xlim()), linestyle='--', linewidth=1.1, color='tab:blue', label='Regression Line')\n",
    "\n",
    "        # Annotate the slope of the regression line\n",
    "        # slope_annotation = f'Slope: {coefficients[0]:.2f}'\n",
    "        # ax.annotate(slope_annotation, xy=(0.5, 0.85), xycoords='axes fraction', fontsize=10, fontstyle='italic', fontweight='bold', color='tab:blue')\n",
    "\n",
    "        # Annotate MSE From the regression line\n",
    "        # y_pred = regression_line(x)\n",
    "        # mse = mean_squared_error(y, y_pred)\n",
    "        mse = np.sqrt(mean_squared_error(x, y))\n",
    "        mse_rate = mse / np.mean(x) * 100\n",
    "        slope_annotation = f'RMSE: {mse:.3f} ({mse_rate:.1f} %)'\n",
    "        ax.annotate(slope_annotation, xy=(0.5, 0.85), xycoords='axes fraction', fontsize=10, fontstyle='italic', fontweight='bold', color='tab:blue')\n",
    "\n",
    "        # 45-Degree Line\n",
    "        ax.plot(ax.get_xlim(), ax.get_xlim(), linestyle='-', linewidth=1.1, color='tab:pink', label='45-Degree Line', alpha=0.9)\n",
    "        # ax.plot(ax.get_xlim(), 1.1 * ax.get_xlim(), linestyle='-', linewidth=1.1, color='tab:pink', label='45-Degree Line', alpha=0.9)\n",
    "        # ax.plot(ax.get_xlim(), 0.9 * ax.get_xlim(), linestyle='-', linewidth=1.1, color='tab:pink', label='45-Degree Line', alpha=0.9)\n",
    "        \n",
    "        # 获取 x 的边界\n",
    "        x_limits = ax.get_xlim()\n",
    "\n",
    "        # 创建 x 值范围\n",
    "        x_values = np.linspace(x_limits[0], x_limits[1], 100)  # 使用 x 的边界值作为范围\n",
    "\n",
    "        # 计算 y = 1.1x 和 y = 0.9x 的值\n",
    "        y_upper = 1.1 * x_values\n",
    "        y_lower = 0.9 * x_values\n",
    "\n",
    "        # 绘制 y = 1.1x 和 y = 0.9x 线\n",
    "        ax.plot(x_values, y_upper, linestyle='-', linewidth=1.1, color='tab:orange')\n",
    "        ax.plot(x_values, y_lower, linestyle='-', linewidth=1.1, color='tab:orange')\n",
    "\n",
    "        # 在两条线之间填充颜色\n",
    "        ax.fill_between(x_values, y_lower, y_upper, color='tab:orange', alpha=0.3)\n",
    "\n",
    "        # Set labels and title\n",
    "        ax.set_xlabel('PLR Ground Truth')\n",
    "        ax.set_ylabel('PLR Evaluated')\n",
    "        # ax.set_title('A Profile Evaluate 9 Traces From A5 Data: Single')\n",
    "\n",
    "        for i, sm_label in enumerate(self.DEVICES):\n",
    "            ax.annotate(sm_label, xy=(x[i], y[i]))\n",
    "            \n",
    "        # Add a legend\n",
    "        ax.legend()\n",
    "        \n",
    "        save_path = os.path.join(save_path, self.sr_model_id, self.dr_model_id, 'figures')\n",
    "        if not os.path.isdir(save_path):\n",
    "            os.makedirs(save_path)\n",
    "        \n",
    "        if self.model_suffix is not None:\n",
    "            save_name = f'{save_name}_{self.model_suffix}'\n",
    "        save_path = os.path.join(save_path, figure_add_prefix_suffix(save_name, image_id=self.figure_id))\n",
    "        print(save_path)\n",
    "        fig.savefig(save_path, dpi=300)\n",
    "\n",
    "        # Show the plot\n",
    "        plt.show()"
   ]
  },
  {
   "cell_type": "markdown",
   "metadata": {},
   "source": [
    "# Enter Model IDs"
   ]
  },
  {
   "cell_type": "code",
   "execution_count": 4,
   "metadata": {},
   "outputs": [
    {
     "name": "stdout",
     "output_type": "stream",
     "text": [
      "SR Model ID: 20240329_160006be6c_new_dataset_sync\n",
      "DR Model ID: dr_20240329_1700005690\n",
      "Suffix: 50%_corr\n"
     ]
    }
   ],
   "source": [
    "sr_model_id = '20240329_160006be6c_new_dataset_sync'\n",
    "dr_model_id = 'dr_20240329_1700005690'\n",
    "print('SR Model ID:', sr_model_id)\n",
    "print('DR Model ID:', dr_model_id)\n",
    "\n",
    "mode = ['zero', 'max', '25%', '50%', '75%']\n",
    "mode = '50%'\n",
    "suffix = f'{mode}_corr'\n",
    "print('Suffix:', suffix)"
   ]
  },
  {
   "cell_type": "markdown",
   "metadata": {},
   "source": [
    "# BR: DR Eval"
   ]
  },
  {
   "cell_type": "code",
   "execution_count": 5,
   "metadata": {},
   "outputs": [],
   "source": [
    "adjust_table, model_adjust = manipulate_corr_coef(sr_model_id, dr_model_id, route='BR', mode=mode, rho_force=None)\n",
    "# display(adjust_table)\n",
    "# pprint(model_adjust)"
   ]
  },
  {
   "cell_type": "code",
   "execution_count": 6,
   "metadata": {},
   "outputs": [],
   "source": [
    "# Dual Radio Example\n",
    "# dates = data_loader(query_dates=True, show_info=True)\n",
    "\n",
    "# selected_dates = [s for s in dates if s >= '2023-09-12']\n",
    "selected_dates = ['2024-03-19']\n",
    "# excluded_dates = []\n",
    "# selected_exps = []\n",
    "# excluded_exps = ['Modem_Action_Test', 'Control_Group', 'Control_Group2', 'Control_Group3']\n",
    "selected_routes = ['BR']\n",
    "# excluded_routes = []\n",
    "filepaths = data_loader(mode='dr', selected_dates=selected_dates, selected_routes=selected_routes)\n",
    "\n",
    "# print(len(filepaths[:36]))\n",
    "# pprint(filepaths[:36])"
   ]
  },
  {
   "cell_type": "code",
   "execution_count": 7,
   "metadata": {},
   "outputs": [
    {
     "name": "stdout",
     "output_type": "stream",
     "text": [
      "./20240329_160006be6c_new_dataset_sync/models/BR\n",
      "./20240329_160006be6c_new_dataset_sync/dr_20240329_1700005690/models/BR\n",
      "./20240329_160006be6c_new_dataset_sync/dr_20240329_1700005690/models/BR_dr_prob_models_adjust.pkl\n",
      "0/72 /home/wmnlab/F/database/2024-03-19/UDP_Bandlock_9S_Phone_BR/sm00/#01/data/handover_info_log.csv\n",
      "0/72 /home/wmnlab/F/database/2024-03-19/UDP_Bandlock_9S_Phone_BR/sm00/#01/data/udp_dnlk_loss_latency.csv\n",
      "0/72 /home/wmnlab/F/database/2024-03-19/UDP_Bandlock_9S_Phone_BR/sm00/#01/data/udp_uplk_loss_latency.csv\n",
      "0/72 /home/wmnlab/F/database/2024-03-19/UDP_Bandlock_9S_Phone_BR/sm01/#01/data/handover_info_log.csv\n",
      "0/72 /home/wmnlab/F/database/2024-03-19/UDP_Bandlock_9S_Phone_BR/sm01/#01/data/udp_dnlk_loss_latency.csv\n",
      "0/72 /home/wmnlab/F/database/2024-03-19/UDP_Bandlock_9S_Phone_BR/sm01/#01/data/udp_uplk_loss_latency.csv\n"
     ]
    },
    {
     "data": {
      "application/vnd.jupyter.widget-view+json": {
       "model_id": "9ce4b5c3c71747f6b511d6a61c590f73",
       "version_major": 2,
       "version_minor": 0
      },
      "text/plain": [
       "  0%|                                                                                                         …"
      ]
     },
     "metadata": {},
     "output_type": "display_data"
    },
    {
     "name": "stdout",
     "output_type": "stream",
     "text": [
      "/home/wmnlab/F/results/20240329_160006be6c_new_dataset_sync/dr_results/dr_20240329_1700005690/20240329_20213200000_e9df4863be54cded_adjust/\\home\\wmnlab\\F\\database\\2024-03-19\\UDP_Bandlock_9S_Phone_BR\\sm00\\#01\\data\\udp_dnlk_loss_latency\\home\\wmnlab\\F\\database\\2024-03-19\\UDP_Bandlock_9S_Phone_BR\\sm01\\#01\\data\\udp_dnlk_loss_latency.csv\n",
      "1/72 /home/wmnlab/F/database/2024-03-19/UDP_Bandlock_9S_Phone_BR/sm00/#01/data/handover_info_log.csv\n",
      "1/72 /home/wmnlab/F/database/2024-03-19/UDP_Bandlock_9S_Phone_BR/sm00/#01/data/udp_dnlk_loss_latency.csv\n",
      "1/72 /home/wmnlab/F/database/2024-03-19/UDP_Bandlock_9S_Phone_BR/sm00/#01/data/udp_uplk_loss_latency.csv\n",
      "1/72 /home/wmnlab/F/database/2024-03-19/UDP_Bandlock_9S_Phone_BR/sm02/#01/data/handover_info_log.csv\n",
      "1/72 /home/wmnlab/F/database/2024-03-19/UDP_Bandlock_9S_Phone_BR/sm02/#01/data/udp_dnlk_loss_latency.csv\n",
      "1/72 /home/wmnlab/F/database/2024-03-19/UDP_Bandlock_9S_Phone_BR/sm02/#01/data/udp_uplk_loss_latency.csv\n"
     ]
    },
    {
     "data": {
      "application/vnd.jupyter.widget-view+json": {
       "model_id": "a3ff7155a2c24cb89e7b146426af4cdb",
       "version_major": 2,
       "version_minor": 0
      },
      "text/plain": [
       "  0%|                                                                                                         …"
      ]
     },
     "metadata": {},
     "output_type": "display_data"
    },
    {
     "name": "stdout",
     "output_type": "stream",
     "text": [
      "/home/wmnlab/F/results/20240329_160006be6c_new_dataset_sync/dr_results/dr_20240329_1700005690/20240329_20213200000_e9df4863be54cded_adjust/\\home\\wmnlab\\F\\database\\2024-03-19\\UDP_Bandlock_9S_Phone_BR\\sm00\\#01\\data\\udp_dnlk_loss_latency\\home\\wmnlab\\F\\database\\2024-03-19\\UDP_Bandlock_9S_Phone_BR\\sm02\\#01\\data\\udp_dnlk_loss_latency.csv\n",
      "2/72 /home/wmnlab/F/database/2024-03-19/UDP_Bandlock_9S_Phone_BR/sm00/#01/data/handover_info_log.csv\n",
      "2/72 /home/wmnlab/F/database/2024-03-19/UDP_Bandlock_9S_Phone_BR/sm00/#01/data/udp_dnlk_loss_latency.csv\n",
      "2/72 /home/wmnlab/F/database/2024-03-19/UDP_Bandlock_9S_Phone_BR/sm00/#01/data/udp_uplk_loss_latency.csv\n",
      "2/72 /home/wmnlab/F/database/2024-03-19/UDP_Bandlock_9S_Phone_BR/sm03/#01/data/handover_info_log.csv\n",
      "2/72 /home/wmnlab/F/database/2024-03-19/UDP_Bandlock_9S_Phone_BR/sm03/#01/data/udp_dnlk_loss_latency.csv\n",
      "2/72 /home/wmnlab/F/database/2024-03-19/UDP_Bandlock_9S_Phone_BR/sm03/#01/data/udp_uplk_loss_latency.csv\n"
     ]
    },
    {
     "data": {
      "application/vnd.jupyter.widget-view+json": {
       "model_id": "af96cac32d5a4102a0512474d759c681",
       "version_major": 2,
       "version_minor": 0
      },
      "text/plain": [
       "  0%|                                                                                                         …"
      ]
     },
     "metadata": {},
     "output_type": "display_data"
    },
    {
     "name": "stdout",
     "output_type": "stream",
     "text": [
      "/home/wmnlab/F/results/20240329_160006be6c_new_dataset_sync/dr_results/dr_20240329_1700005690/20240329_20213200000_e9df4863be54cded_adjust/\\home\\wmnlab\\F\\database\\2024-03-19\\UDP_Bandlock_9S_Phone_BR\\sm00\\#01\\data\\udp_dnlk_loss_latency\\home\\wmnlab\\F\\database\\2024-03-19\\UDP_Bandlock_9S_Phone_BR\\sm03\\#01\\data\\udp_dnlk_loss_latency.csv\n",
      "3/72 /home/wmnlab/F/database/2024-03-19/UDP_Bandlock_9S_Phone_BR/sm00/#01/data/handover_info_log.csv\n",
      "3/72 /home/wmnlab/F/database/2024-03-19/UDP_Bandlock_9S_Phone_BR/sm00/#01/data/udp_dnlk_loss_latency.csv\n",
      "3/72 /home/wmnlab/F/database/2024-03-19/UDP_Bandlock_9S_Phone_BR/sm00/#01/data/udp_uplk_loss_latency.csv\n",
      "3/72 /home/wmnlab/F/database/2024-03-19/UDP_Bandlock_9S_Phone_BR/sm04/#01/data/handover_info_log.csv\n",
      "3/72 /home/wmnlab/F/database/2024-03-19/UDP_Bandlock_9S_Phone_BR/sm04/#01/data/udp_dnlk_loss_latency.csv\n",
      "3/72 /home/wmnlab/F/database/2024-03-19/UDP_Bandlock_9S_Phone_BR/sm04/#01/data/udp_uplk_loss_latency.csv\n"
     ]
    },
    {
     "data": {
      "application/vnd.jupyter.widget-view+json": {
       "model_id": "c6add2c477654665b9b9f55c08e0e9ff",
       "version_major": 2,
       "version_minor": 0
      },
      "text/plain": [
       "  0%|                                                                                                         …"
      ]
     },
     "metadata": {},
     "output_type": "display_data"
    },
    {
     "name": "stdout",
     "output_type": "stream",
     "text": [
      "/home/wmnlab/F/results/20240329_160006be6c_new_dataset_sync/dr_results/dr_20240329_1700005690/20240329_20213200000_e9df4863be54cded_adjust/\\home\\wmnlab\\F\\database\\2024-03-19\\UDP_Bandlock_9S_Phone_BR\\sm00\\#01\\data\\udp_dnlk_loss_latency\\home\\wmnlab\\F\\database\\2024-03-19\\UDP_Bandlock_9S_Phone_BR\\sm04\\#01\\data\\udp_dnlk_loss_latency.csv\n",
      "4/72 /home/wmnlab/F/database/2024-03-19/UDP_Bandlock_9S_Phone_BR/sm00/#01/data/handover_info_log.csv\n",
      "4/72 /home/wmnlab/F/database/2024-03-19/UDP_Bandlock_9S_Phone_BR/sm00/#01/data/udp_dnlk_loss_latency.csv\n",
      "4/72 /home/wmnlab/F/database/2024-03-19/UDP_Bandlock_9S_Phone_BR/sm00/#01/data/udp_uplk_loss_latency.csv\n",
      "4/72 /home/wmnlab/F/database/2024-03-19/UDP_Bandlock_9S_Phone_BR/sm05/#01/data/handover_info_log.csv\n",
      "4/72 /home/wmnlab/F/database/2024-03-19/UDP_Bandlock_9S_Phone_BR/sm05/#01/data/udp_dnlk_loss_latency.csv\n",
      "4/72 /home/wmnlab/F/database/2024-03-19/UDP_Bandlock_9S_Phone_BR/sm05/#01/data/udp_uplk_loss_latency.csv\n"
     ]
    },
    {
     "data": {
      "application/vnd.jupyter.widget-view+json": {
       "model_id": "96a19144621a44bc9964e6da03bcdc36",
       "version_major": 2,
       "version_minor": 0
      },
      "text/plain": [
       "  0%|                                                                                                         …"
      ]
     },
     "metadata": {},
     "output_type": "display_data"
    },
    {
     "name": "stdout",
     "output_type": "stream",
     "text": [
      "/home/wmnlab/F/results/20240329_160006be6c_new_dataset_sync/dr_results/dr_20240329_1700005690/20240329_20213200000_e9df4863be54cded_adjust/\\home\\wmnlab\\F\\database\\2024-03-19\\UDP_Bandlock_9S_Phone_BR\\sm00\\#01\\data\\udp_dnlk_loss_latency\\home\\wmnlab\\F\\database\\2024-03-19\\UDP_Bandlock_9S_Phone_BR\\sm05\\#01\\data\\udp_dnlk_loss_latency.csv\n",
      "5/72 /home/wmnlab/F/database/2024-03-19/UDP_Bandlock_9S_Phone_BR/sm00/#01/data/handover_info_log.csv\n",
      "5/72 /home/wmnlab/F/database/2024-03-19/UDP_Bandlock_9S_Phone_BR/sm00/#01/data/udp_dnlk_loss_latency.csv\n",
      "5/72 /home/wmnlab/F/database/2024-03-19/UDP_Bandlock_9S_Phone_BR/sm00/#01/data/udp_uplk_loss_latency.csv\n",
      "5/72 /home/wmnlab/F/database/2024-03-19/UDP_Bandlock_9S_Phone_BR/sm06/#01/data/handover_info_log.csv\n",
      "5/72 /home/wmnlab/F/database/2024-03-19/UDP_Bandlock_9S_Phone_BR/sm06/#01/data/udp_dnlk_loss_latency.csv\n",
      "5/72 /home/wmnlab/F/database/2024-03-19/UDP_Bandlock_9S_Phone_BR/sm06/#01/data/udp_uplk_loss_latency.csv\n"
     ]
    },
    {
     "data": {
      "application/vnd.jupyter.widget-view+json": {
       "model_id": "f9c6d75f866c48d9b3b864def7287ee9",
       "version_major": 2,
       "version_minor": 0
      },
      "text/plain": [
       "  0%|                                                                                                         …"
      ]
     },
     "metadata": {},
     "output_type": "display_data"
    },
    {
     "name": "stdout",
     "output_type": "stream",
     "text": [
      "/home/wmnlab/F/results/20240329_160006be6c_new_dataset_sync/dr_results/dr_20240329_1700005690/20240329_20213200000_e9df4863be54cded_adjust/\\home\\wmnlab\\F\\database\\2024-03-19\\UDP_Bandlock_9S_Phone_BR\\sm00\\#01\\data\\udp_dnlk_loss_latency\\home\\wmnlab\\F\\database\\2024-03-19\\UDP_Bandlock_9S_Phone_BR\\sm06\\#01\\data\\udp_dnlk_loss_latency.csv\n",
      "6/72 /home/wmnlab/F/database/2024-03-19/UDP_Bandlock_9S_Phone_BR/sm00/#01/data/handover_info_log.csv\n",
      "6/72 /home/wmnlab/F/database/2024-03-19/UDP_Bandlock_9S_Phone_BR/sm00/#01/data/udp_dnlk_loss_latency.csv\n",
      "6/72 /home/wmnlab/F/database/2024-03-19/UDP_Bandlock_9S_Phone_BR/sm00/#01/data/udp_uplk_loss_latency.csv\n",
      "6/72 /home/wmnlab/F/database/2024-03-19/UDP_Bandlock_9S_Phone_BR/sm07/#01/data/handover_info_log.csv\n",
      "6/72 /home/wmnlab/F/database/2024-03-19/UDP_Bandlock_9S_Phone_BR/sm07/#01/data/udp_dnlk_loss_latency.csv\n",
      "6/72 /home/wmnlab/F/database/2024-03-19/UDP_Bandlock_9S_Phone_BR/sm07/#01/data/udp_uplk_loss_latency.csv\n"
     ]
    },
    {
     "data": {
      "application/vnd.jupyter.widget-view+json": {
       "model_id": "b54a86fa9c1147aa9f98b810e28475d2",
       "version_major": 2,
       "version_minor": 0
      },
      "text/plain": [
       "  0%|                                                                                                         …"
      ]
     },
     "metadata": {},
     "output_type": "display_data"
    },
    {
     "name": "stdout",
     "output_type": "stream",
     "text": [
      "/home/wmnlab/F/results/20240329_160006be6c_new_dataset_sync/dr_results/dr_20240329_1700005690/20240329_20213200000_e9df4863be54cded_adjust/\\home\\wmnlab\\F\\database\\2024-03-19\\UDP_Bandlock_9S_Phone_BR\\sm00\\#01\\data\\udp_dnlk_loss_latency\\home\\wmnlab\\F\\database\\2024-03-19\\UDP_Bandlock_9S_Phone_BR\\sm07\\#01\\data\\udp_dnlk_loss_latency.csv\n",
      "7/72 /home/wmnlab/F/database/2024-03-19/UDP_Bandlock_9S_Phone_BR/sm00/#01/data/handover_info_log.csv\n",
      "7/72 /home/wmnlab/F/database/2024-03-19/UDP_Bandlock_9S_Phone_BR/sm00/#01/data/udp_dnlk_loss_latency.csv\n",
      "7/72 /home/wmnlab/F/database/2024-03-19/UDP_Bandlock_9S_Phone_BR/sm00/#01/data/udp_uplk_loss_latency.csv\n",
      "7/72 /home/wmnlab/F/database/2024-03-19/UDP_Bandlock_9S_Phone_BR/sm08/#01/data/handover_info_log.csv\n",
      "7/72 /home/wmnlab/F/database/2024-03-19/UDP_Bandlock_9S_Phone_BR/sm08/#01/data/udp_dnlk_loss_latency.csv\n",
      "7/72 /home/wmnlab/F/database/2024-03-19/UDP_Bandlock_9S_Phone_BR/sm08/#01/data/udp_uplk_loss_latency.csv\n"
     ]
    },
    {
     "data": {
      "application/vnd.jupyter.widget-view+json": {
       "model_id": "c5a04ab0f0c84f6e9f8f498a67c99c54",
       "version_major": 2,
       "version_minor": 0
      },
      "text/plain": [
       "  0%|                                                                                                         …"
      ]
     },
     "metadata": {},
     "output_type": "display_data"
    },
    {
     "name": "stdout",
     "output_type": "stream",
     "text": [
      "/home/wmnlab/F/results/20240329_160006be6c_new_dataset_sync/dr_results/dr_20240329_1700005690/20240329_20213200000_e9df4863be54cded_adjust/\\home\\wmnlab\\F\\database\\2024-03-19\\UDP_Bandlock_9S_Phone_BR\\sm00\\#01\\data\\udp_dnlk_loss_latency\\home\\wmnlab\\F\\database\\2024-03-19\\UDP_Bandlock_9S_Phone_BR\\sm08\\#01\\data\\udp_dnlk_loss_latency.csv\n",
      "8/72 /home/wmnlab/F/database/2024-03-19/UDP_Bandlock_9S_Phone_BR/sm01/#01/data/handover_info_log.csv\n",
      "8/72 /home/wmnlab/F/database/2024-03-19/UDP_Bandlock_9S_Phone_BR/sm01/#01/data/udp_dnlk_loss_latency.csv\n",
      "8/72 /home/wmnlab/F/database/2024-03-19/UDP_Bandlock_9S_Phone_BR/sm01/#01/data/udp_uplk_loss_latency.csv\n",
      "8/72 /home/wmnlab/F/database/2024-03-19/UDP_Bandlock_9S_Phone_BR/sm02/#01/data/handover_info_log.csv\n",
      "8/72 /home/wmnlab/F/database/2024-03-19/UDP_Bandlock_9S_Phone_BR/sm02/#01/data/udp_dnlk_loss_latency.csv\n",
      "8/72 /home/wmnlab/F/database/2024-03-19/UDP_Bandlock_9S_Phone_BR/sm02/#01/data/udp_uplk_loss_latency.csv\n"
     ]
    },
    {
     "data": {
      "application/vnd.jupyter.widget-view+json": {
       "model_id": "ce0a4821c4de48cc8381e0baf844e617",
       "version_major": 2,
       "version_minor": 0
      },
      "text/plain": [
       "  0%|                                                                                                         …"
      ]
     },
     "metadata": {},
     "output_type": "display_data"
    },
    {
     "name": "stdout",
     "output_type": "stream",
     "text": [
      "/home/wmnlab/F/results/20240329_160006be6c_new_dataset_sync/dr_results/dr_20240329_1700005690/20240329_20213200000_e9df4863be54cded_adjust/\\home\\wmnlab\\F\\database\\2024-03-19\\UDP_Bandlock_9S_Phone_BR\\sm01\\#01\\data\\udp_dnlk_loss_latency\\home\\wmnlab\\F\\database\\2024-03-19\\UDP_Bandlock_9S_Phone_BR\\sm02\\#01\\data\\udp_dnlk_loss_latency.csv\n",
      "9/72 /home/wmnlab/F/database/2024-03-19/UDP_Bandlock_9S_Phone_BR/sm01/#01/data/handover_info_log.csv\n",
      "9/72 /home/wmnlab/F/database/2024-03-19/UDP_Bandlock_9S_Phone_BR/sm01/#01/data/udp_dnlk_loss_latency.csv\n",
      "9/72 /home/wmnlab/F/database/2024-03-19/UDP_Bandlock_9S_Phone_BR/sm01/#01/data/udp_uplk_loss_latency.csv\n",
      "9/72 /home/wmnlab/F/database/2024-03-19/UDP_Bandlock_9S_Phone_BR/sm03/#01/data/handover_info_log.csv\n",
      "9/72 /home/wmnlab/F/database/2024-03-19/UDP_Bandlock_9S_Phone_BR/sm03/#01/data/udp_dnlk_loss_latency.csv\n",
      "9/72 /home/wmnlab/F/database/2024-03-19/UDP_Bandlock_9S_Phone_BR/sm03/#01/data/udp_uplk_loss_latency.csv\n"
     ]
    },
    {
     "data": {
      "application/vnd.jupyter.widget-view+json": {
       "model_id": "dbc82301d49c4eab91c1dbfd87ba8207",
       "version_major": 2,
       "version_minor": 0
      },
      "text/plain": [
       "  0%|                                                                                                         …"
      ]
     },
     "metadata": {},
     "output_type": "display_data"
    },
    {
     "name": "stdout",
     "output_type": "stream",
     "text": [
      "/home/wmnlab/F/results/20240329_160006be6c_new_dataset_sync/dr_results/dr_20240329_1700005690/20240329_20213200000_e9df4863be54cded_adjust/\\home\\wmnlab\\F\\database\\2024-03-19\\UDP_Bandlock_9S_Phone_BR\\sm01\\#01\\data\\udp_dnlk_loss_latency\\home\\wmnlab\\F\\database\\2024-03-19\\UDP_Bandlock_9S_Phone_BR\\sm03\\#01\\data\\udp_dnlk_loss_latency.csv\n",
      "10/72 /home/wmnlab/F/database/2024-03-19/UDP_Bandlock_9S_Phone_BR/sm01/#01/data/handover_info_log.csv\n",
      "10/72 /home/wmnlab/F/database/2024-03-19/UDP_Bandlock_9S_Phone_BR/sm01/#01/data/udp_dnlk_loss_latency.csv\n",
      "10/72 /home/wmnlab/F/database/2024-03-19/UDP_Bandlock_9S_Phone_BR/sm01/#01/data/udp_uplk_loss_latency.csv\n",
      "10/72 /home/wmnlab/F/database/2024-03-19/UDP_Bandlock_9S_Phone_BR/sm04/#01/data/handover_info_log.csv\n",
      "10/72 /home/wmnlab/F/database/2024-03-19/UDP_Bandlock_9S_Phone_BR/sm04/#01/data/udp_dnlk_loss_latency.csv\n",
      "10/72 /home/wmnlab/F/database/2024-03-19/UDP_Bandlock_9S_Phone_BR/sm04/#01/data/udp_uplk_loss_latency.csv\n"
     ]
    },
    {
     "data": {
      "application/vnd.jupyter.widget-view+json": {
       "model_id": "e7b33e4e83bf4d14bbae37e5421e1c2a",
       "version_major": 2,
       "version_minor": 0
      },
      "text/plain": [
       "  0%|                                                                                                         …"
      ]
     },
     "metadata": {},
     "output_type": "display_data"
    },
    {
     "name": "stdout",
     "output_type": "stream",
     "text": [
      "/home/wmnlab/F/results/20240329_160006be6c_new_dataset_sync/dr_results/dr_20240329_1700005690/20240329_20213200000_e9df4863be54cded_adjust/\\home\\wmnlab\\F\\database\\2024-03-19\\UDP_Bandlock_9S_Phone_BR\\sm01\\#01\\data\\udp_dnlk_loss_latency\\home\\wmnlab\\F\\database\\2024-03-19\\UDP_Bandlock_9S_Phone_BR\\sm04\\#01\\data\\udp_dnlk_loss_latency.csv\n",
      "11/72 /home/wmnlab/F/database/2024-03-19/UDP_Bandlock_9S_Phone_BR/sm01/#01/data/handover_info_log.csv\n",
      "11/72 /home/wmnlab/F/database/2024-03-19/UDP_Bandlock_9S_Phone_BR/sm01/#01/data/udp_dnlk_loss_latency.csv\n",
      "11/72 /home/wmnlab/F/database/2024-03-19/UDP_Bandlock_9S_Phone_BR/sm01/#01/data/udp_uplk_loss_latency.csv\n",
      "11/72 /home/wmnlab/F/database/2024-03-19/UDP_Bandlock_9S_Phone_BR/sm05/#01/data/handover_info_log.csv\n",
      "11/72 /home/wmnlab/F/database/2024-03-19/UDP_Bandlock_9S_Phone_BR/sm05/#01/data/udp_dnlk_loss_latency.csv\n",
      "11/72 /home/wmnlab/F/database/2024-03-19/UDP_Bandlock_9S_Phone_BR/sm05/#01/data/udp_uplk_loss_latency.csv\n"
     ]
    },
    {
     "data": {
      "application/vnd.jupyter.widget-view+json": {
       "model_id": "421e30d62a6c411f8648b8d659f78b78",
       "version_major": 2,
       "version_minor": 0
      },
      "text/plain": [
       "  0%|                                                                                                         …"
      ]
     },
     "metadata": {},
     "output_type": "display_data"
    },
    {
     "name": "stdout",
     "output_type": "stream",
     "text": [
      "/home/wmnlab/F/results/20240329_160006be6c_new_dataset_sync/dr_results/dr_20240329_1700005690/20240329_20213200000_e9df4863be54cded_adjust/\\home\\wmnlab\\F\\database\\2024-03-19\\UDP_Bandlock_9S_Phone_BR\\sm01\\#01\\data\\udp_dnlk_loss_latency\\home\\wmnlab\\F\\database\\2024-03-19\\UDP_Bandlock_9S_Phone_BR\\sm05\\#01\\data\\udp_dnlk_loss_latency.csv\n",
      "12/72 /home/wmnlab/F/database/2024-03-19/UDP_Bandlock_9S_Phone_BR/sm01/#01/data/handover_info_log.csv\n",
      "12/72 /home/wmnlab/F/database/2024-03-19/UDP_Bandlock_9S_Phone_BR/sm01/#01/data/udp_dnlk_loss_latency.csv\n",
      "12/72 /home/wmnlab/F/database/2024-03-19/UDP_Bandlock_9S_Phone_BR/sm01/#01/data/udp_uplk_loss_latency.csv\n",
      "12/72 /home/wmnlab/F/database/2024-03-19/UDP_Bandlock_9S_Phone_BR/sm06/#01/data/handover_info_log.csv\n",
      "12/72 /home/wmnlab/F/database/2024-03-19/UDP_Bandlock_9S_Phone_BR/sm06/#01/data/udp_dnlk_loss_latency.csv\n",
      "12/72 /home/wmnlab/F/database/2024-03-19/UDP_Bandlock_9S_Phone_BR/sm06/#01/data/udp_uplk_loss_latency.csv\n"
     ]
    },
    {
     "data": {
      "application/vnd.jupyter.widget-view+json": {
       "model_id": "c3736bf9143241b6bc88dd2fe86cbda9",
       "version_major": 2,
       "version_minor": 0
      },
      "text/plain": [
       "  0%|                                                                                                         …"
      ]
     },
     "metadata": {},
     "output_type": "display_data"
    },
    {
     "name": "stdout",
     "output_type": "stream",
     "text": [
      "/home/wmnlab/F/results/20240329_160006be6c_new_dataset_sync/dr_results/dr_20240329_1700005690/20240329_20213200000_e9df4863be54cded_adjust/\\home\\wmnlab\\F\\database\\2024-03-19\\UDP_Bandlock_9S_Phone_BR\\sm01\\#01\\data\\udp_dnlk_loss_latency\\home\\wmnlab\\F\\database\\2024-03-19\\UDP_Bandlock_9S_Phone_BR\\sm06\\#01\\data\\udp_dnlk_loss_latency.csv\n",
      "13/72 /home/wmnlab/F/database/2024-03-19/UDP_Bandlock_9S_Phone_BR/sm01/#01/data/handover_info_log.csv\n",
      "13/72 /home/wmnlab/F/database/2024-03-19/UDP_Bandlock_9S_Phone_BR/sm01/#01/data/udp_dnlk_loss_latency.csv\n",
      "13/72 /home/wmnlab/F/database/2024-03-19/UDP_Bandlock_9S_Phone_BR/sm01/#01/data/udp_uplk_loss_latency.csv\n",
      "13/72 /home/wmnlab/F/database/2024-03-19/UDP_Bandlock_9S_Phone_BR/sm07/#01/data/handover_info_log.csv\n",
      "13/72 /home/wmnlab/F/database/2024-03-19/UDP_Bandlock_9S_Phone_BR/sm07/#01/data/udp_dnlk_loss_latency.csv\n",
      "13/72 /home/wmnlab/F/database/2024-03-19/UDP_Bandlock_9S_Phone_BR/sm07/#01/data/udp_uplk_loss_latency.csv\n"
     ]
    },
    {
     "data": {
      "application/vnd.jupyter.widget-view+json": {
       "model_id": "a505b5556ae24638bea2384994bd35a6",
       "version_major": 2,
       "version_minor": 0
      },
      "text/plain": [
       "  0%|                                                                                                         …"
      ]
     },
     "metadata": {},
     "output_type": "display_data"
    },
    {
     "name": "stdout",
     "output_type": "stream",
     "text": [
      "/home/wmnlab/F/results/20240329_160006be6c_new_dataset_sync/dr_results/dr_20240329_1700005690/20240329_20213200000_e9df4863be54cded_adjust/\\home\\wmnlab\\F\\database\\2024-03-19\\UDP_Bandlock_9S_Phone_BR\\sm01\\#01\\data\\udp_dnlk_loss_latency\\home\\wmnlab\\F\\database\\2024-03-19\\UDP_Bandlock_9S_Phone_BR\\sm07\\#01\\data\\udp_dnlk_loss_latency.csv\n",
      "14/72 /home/wmnlab/F/database/2024-03-19/UDP_Bandlock_9S_Phone_BR/sm01/#01/data/handover_info_log.csv\n",
      "14/72 /home/wmnlab/F/database/2024-03-19/UDP_Bandlock_9S_Phone_BR/sm01/#01/data/udp_dnlk_loss_latency.csv\n",
      "14/72 /home/wmnlab/F/database/2024-03-19/UDP_Bandlock_9S_Phone_BR/sm01/#01/data/udp_uplk_loss_latency.csv\n",
      "14/72 /home/wmnlab/F/database/2024-03-19/UDP_Bandlock_9S_Phone_BR/sm08/#01/data/handover_info_log.csv\n",
      "14/72 /home/wmnlab/F/database/2024-03-19/UDP_Bandlock_9S_Phone_BR/sm08/#01/data/udp_dnlk_loss_latency.csv\n",
      "14/72 /home/wmnlab/F/database/2024-03-19/UDP_Bandlock_9S_Phone_BR/sm08/#01/data/udp_uplk_loss_latency.csv\n"
     ]
    },
    {
     "data": {
      "application/vnd.jupyter.widget-view+json": {
       "model_id": "15e5feeb4590435b871893e1f0f07631",
       "version_major": 2,
       "version_minor": 0
      },
      "text/plain": [
       "  0%|                                                                                                         …"
      ]
     },
     "metadata": {},
     "output_type": "display_data"
    },
    {
     "name": "stdout",
     "output_type": "stream",
     "text": [
      "/home/wmnlab/F/results/20240329_160006be6c_new_dataset_sync/dr_results/dr_20240329_1700005690/20240329_20213200000_e9df4863be54cded_adjust/\\home\\wmnlab\\F\\database\\2024-03-19\\UDP_Bandlock_9S_Phone_BR\\sm01\\#01\\data\\udp_dnlk_loss_latency\\home\\wmnlab\\F\\database\\2024-03-19\\UDP_Bandlock_9S_Phone_BR\\sm08\\#01\\data\\udp_dnlk_loss_latency.csv\n",
      "15/72 /home/wmnlab/F/database/2024-03-19/UDP_Bandlock_9S_Phone_BR/sm02/#01/data/handover_info_log.csv\n",
      "15/72 /home/wmnlab/F/database/2024-03-19/UDP_Bandlock_9S_Phone_BR/sm02/#01/data/udp_dnlk_loss_latency.csv\n",
      "15/72 /home/wmnlab/F/database/2024-03-19/UDP_Bandlock_9S_Phone_BR/sm02/#01/data/udp_uplk_loss_latency.csv\n",
      "15/72 /home/wmnlab/F/database/2024-03-19/UDP_Bandlock_9S_Phone_BR/sm03/#01/data/handover_info_log.csv\n",
      "15/72 /home/wmnlab/F/database/2024-03-19/UDP_Bandlock_9S_Phone_BR/sm03/#01/data/udp_dnlk_loss_latency.csv\n",
      "15/72 /home/wmnlab/F/database/2024-03-19/UDP_Bandlock_9S_Phone_BR/sm03/#01/data/udp_uplk_loss_latency.csv\n"
     ]
    },
    {
     "data": {
      "application/vnd.jupyter.widget-view+json": {
       "model_id": "32c561bb36af4526b215c4d7df24e7d6",
       "version_major": 2,
       "version_minor": 0
      },
      "text/plain": [
       "  0%|                                                                                                         …"
      ]
     },
     "metadata": {},
     "output_type": "display_data"
    },
    {
     "name": "stdout",
     "output_type": "stream",
     "text": [
      "/home/wmnlab/F/results/20240329_160006be6c_new_dataset_sync/dr_results/dr_20240329_1700005690/20240329_20213200000_e9df4863be54cded_adjust/\\home\\wmnlab\\F\\database\\2024-03-19\\UDP_Bandlock_9S_Phone_BR\\sm02\\#01\\data\\udp_dnlk_loss_latency\\home\\wmnlab\\F\\database\\2024-03-19\\UDP_Bandlock_9S_Phone_BR\\sm03\\#01\\data\\udp_dnlk_loss_latency.csv\n",
      "16/72 /home/wmnlab/F/database/2024-03-19/UDP_Bandlock_9S_Phone_BR/sm02/#01/data/handover_info_log.csv\n",
      "16/72 /home/wmnlab/F/database/2024-03-19/UDP_Bandlock_9S_Phone_BR/sm02/#01/data/udp_dnlk_loss_latency.csv\n",
      "16/72 /home/wmnlab/F/database/2024-03-19/UDP_Bandlock_9S_Phone_BR/sm02/#01/data/udp_uplk_loss_latency.csv\n",
      "16/72 /home/wmnlab/F/database/2024-03-19/UDP_Bandlock_9S_Phone_BR/sm04/#01/data/handover_info_log.csv\n",
      "16/72 /home/wmnlab/F/database/2024-03-19/UDP_Bandlock_9S_Phone_BR/sm04/#01/data/udp_dnlk_loss_latency.csv\n",
      "16/72 /home/wmnlab/F/database/2024-03-19/UDP_Bandlock_9S_Phone_BR/sm04/#01/data/udp_uplk_loss_latency.csv\n"
     ]
    },
    {
     "data": {
      "application/vnd.jupyter.widget-view+json": {
       "model_id": "a4d1f197279544e2b8718a95054383c0",
       "version_major": 2,
       "version_minor": 0
      },
      "text/plain": [
       "  0%|                                                                                                         …"
      ]
     },
     "metadata": {},
     "output_type": "display_data"
    },
    {
     "name": "stdout",
     "output_type": "stream",
     "text": [
      "/home/wmnlab/F/results/20240329_160006be6c_new_dataset_sync/dr_results/dr_20240329_1700005690/20240329_20213200000_e9df4863be54cded_adjust/\\home\\wmnlab\\F\\database\\2024-03-19\\UDP_Bandlock_9S_Phone_BR\\sm02\\#01\\data\\udp_dnlk_loss_latency\\home\\wmnlab\\F\\database\\2024-03-19\\UDP_Bandlock_9S_Phone_BR\\sm04\\#01\\data\\udp_dnlk_loss_latency.csv\n",
      "17/72 /home/wmnlab/F/database/2024-03-19/UDP_Bandlock_9S_Phone_BR/sm02/#01/data/handover_info_log.csv\n",
      "17/72 /home/wmnlab/F/database/2024-03-19/UDP_Bandlock_9S_Phone_BR/sm02/#01/data/udp_dnlk_loss_latency.csv\n",
      "17/72 /home/wmnlab/F/database/2024-03-19/UDP_Bandlock_9S_Phone_BR/sm02/#01/data/udp_uplk_loss_latency.csv\n",
      "17/72 /home/wmnlab/F/database/2024-03-19/UDP_Bandlock_9S_Phone_BR/sm05/#01/data/handover_info_log.csv\n",
      "17/72 /home/wmnlab/F/database/2024-03-19/UDP_Bandlock_9S_Phone_BR/sm05/#01/data/udp_dnlk_loss_latency.csv\n",
      "17/72 /home/wmnlab/F/database/2024-03-19/UDP_Bandlock_9S_Phone_BR/sm05/#01/data/udp_uplk_loss_latency.csv\n"
     ]
    },
    {
     "data": {
      "application/vnd.jupyter.widget-view+json": {
       "model_id": "5c96033d43c14f998282b04444d82cc3",
       "version_major": 2,
       "version_minor": 0
      },
      "text/plain": [
       "  0%|                                                                                                         …"
      ]
     },
     "metadata": {},
     "output_type": "display_data"
    },
    {
     "name": "stdout",
     "output_type": "stream",
     "text": [
      "/home/wmnlab/F/results/20240329_160006be6c_new_dataset_sync/dr_results/dr_20240329_1700005690/20240329_20213200000_e9df4863be54cded_adjust/\\home\\wmnlab\\F\\database\\2024-03-19\\UDP_Bandlock_9S_Phone_BR\\sm02\\#01\\data\\udp_dnlk_loss_latency\\home\\wmnlab\\F\\database\\2024-03-19\\UDP_Bandlock_9S_Phone_BR\\sm05\\#01\\data\\udp_dnlk_loss_latency.csv\n",
      "18/72 /home/wmnlab/F/database/2024-03-19/UDP_Bandlock_9S_Phone_BR/sm02/#01/data/handover_info_log.csv\n",
      "18/72 /home/wmnlab/F/database/2024-03-19/UDP_Bandlock_9S_Phone_BR/sm02/#01/data/udp_dnlk_loss_latency.csv\n",
      "18/72 /home/wmnlab/F/database/2024-03-19/UDP_Bandlock_9S_Phone_BR/sm02/#01/data/udp_uplk_loss_latency.csv\n",
      "18/72 /home/wmnlab/F/database/2024-03-19/UDP_Bandlock_9S_Phone_BR/sm06/#01/data/handover_info_log.csv\n",
      "18/72 /home/wmnlab/F/database/2024-03-19/UDP_Bandlock_9S_Phone_BR/sm06/#01/data/udp_dnlk_loss_latency.csv\n",
      "18/72 /home/wmnlab/F/database/2024-03-19/UDP_Bandlock_9S_Phone_BR/sm06/#01/data/udp_uplk_loss_latency.csv\n"
     ]
    },
    {
     "data": {
      "application/vnd.jupyter.widget-view+json": {
       "model_id": "130ea69d87d441ddb4649acd7b08fea1",
       "version_major": 2,
       "version_minor": 0
      },
      "text/plain": [
       "  0%|                                                                                                         …"
      ]
     },
     "metadata": {},
     "output_type": "display_data"
    },
    {
     "name": "stdout",
     "output_type": "stream",
     "text": [
      "/home/wmnlab/F/results/20240329_160006be6c_new_dataset_sync/dr_results/dr_20240329_1700005690/20240329_20213200000_e9df4863be54cded_adjust/\\home\\wmnlab\\F\\database\\2024-03-19\\UDP_Bandlock_9S_Phone_BR\\sm02\\#01\\data\\udp_dnlk_loss_latency\\home\\wmnlab\\F\\database\\2024-03-19\\UDP_Bandlock_9S_Phone_BR\\sm06\\#01\\data\\udp_dnlk_loss_latency.csv\n",
      "19/72 /home/wmnlab/F/database/2024-03-19/UDP_Bandlock_9S_Phone_BR/sm02/#01/data/handover_info_log.csv\n",
      "19/72 /home/wmnlab/F/database/2024-03-19/UDP_Bandlock_9S_Phone_BR/sm02/#01/data/udp_dnlk_loss_latency.csv\n",
      "19/72 /home/wmnlab/F/database/2024-03-19/UDP_Bandlock_9S_Phone_BR/sm02/#01/data/udp_uplk_loss_latency.csv\n",
      "19/72 /home/wmnlab/F/database/2024-03-19/UDP_Bandlock_9S_Phone_BR/sm07/#01/data/handover_info_log.csv\n",
      "19/72 /home/wmnlab/F/database/2024-03-19/UDP_Bandlock_9S_Phone_BR/sm07/#01/data/udp_dnlk_loss_latency.csv\n",
      "19/72 /home/wmnlab/F/database/2024-03-19/UDP_Bandlock_9S_Phone_BR/sm07/#01/data/udp_uplk_loss_latency.csv\n"
     ]
    },
    {
     "data": {
      "application/vnd.jupyter.widget-view+json": {
       "model_id": "86d446a0c35d46e5a7ab104e617d9903",
       "version_major": 2,
       "version_minor": 0
      },
      "text/plain": [
       "  0%|                                                                                                         …"
      ]
     },
     "metadata": {},
     "output_type": "display_data"
    },
    {
     "name": "stdout",
     "output_type": "stream",
     "text": [
      "/home/wmnlab/F/results/20240329_160006be6c_new_dataset_sync/dr_results/dr_20240329_1700005690/20240329_20213200000_e9df4863be54cded_adjust/\\home\\wmnlab\\F\\database\\2024-03-19\\UDP_Bandlock_9S_Phone_BR\\sm02\\#01\\data\\udp_dnlk_loss_latency\\home\\wmnlab\\F\\database\\2024-03-19\\UDP_Bandlock_9S_Phone_BR\\sm07\\#01\\data\\udp_dnlk_loss_latency.csv\n",
      "20/72 /home/wmnlab/F/database/2024-03-19/UDP_Bandlock_9S_Phone_BR/sm02/#01/data/handover_info_log.csv\n",
      "20/72 /home/wmnlab/F/database/2024-03-19/UDP_Bandlock_9S_Phone_BR/sm02/#01/data/udp_dnlk_loss_latency.csv\n",
      "20/72 /home/wmnlab/F/database/2024-03-19/UDP_Bandlock_9S_Phone_BR/sm02/#01/data/udp_uplk_loss_latency.csv\n",
      "20/72 /home/wmnlab/F/database/2024-03-19/UDP_Bandlock_9S_Phone_BR/sm08/#01/data/handover_info_log.csv\n",
      "20/72 /home/wmnlab/F/database/2024-03-19/UDP_Bandlock_9S_Phone_BR/sm08/#01/data/udp_dnlk_loss_latency.csv\n",
      "20/72 /home/wmnlab/F/database/2024-03-19/UDP_Bandlock_9S_Phone_BR/sm08/#01/data/udp_uplk_loss_latency.csv\n"
     ]
    },
    {
     "data": {
      "application/vnd.jupyter.widget-view+json": {
       "model_id": "cfac6b9474b14f1f968260a2c080ff55",
       "version_major": 2,
       "version_minor": 0
      },
      "text/plain": [
       "  0%|                                                                                                         …"
      ]
     },
     "metadata": {},
     "output_type": "display_data"
    },
    {
     "name": "stdout",
     "output_type": "stream",
     "text": [
      "/home/wmnlab/F/results/20240329_160006be6c_new_dataset_sync/dr_results/dr_20240329_1700005690/20240329_20213200000_e9df4863be54cded_adjust/\\home\\wmnlab\\F\\database\\2024-03-19\\UDP_Bandlock_9S_Phone_BR\\sm02\\#01\\data\\udp_dnlk_loss_latency\\home\\wmnlab\\F\\database\\2024-03-19\\UDP_Bandlock_9S_Phone_BR\\sm08\\#01\\data\\udp_dnlk_loss_latency.csv\n",
      "21/72 /home/wmnlab/F/database/2024-03-19/UDP_Bandlock_9S_Phone_BR/sm03/#01/data/handover_info_log.csv\n",
      "21/72 /home/wmnlab/F/database/2024-03-19/UDP_Bandlock_9S_Phone_BR/sm03/#01/data/udp_dnlk_loss_latency.csv\n",
      "21/72 /home/wmnlab/F/database/2024-03-19/UDP_Bandlock_9S_Phone_BR/sm03/#01/data/udp_uplk_loss_latency.csv\n",
      "21/72 /home/wmnlab/F/database/2024-03-19/UDP_Bandlock_9S_Phone_BR/sm04/#01/data/handover_info_log.csv\n",
      "21/72 /home/wmnlab/F/database/2024-03-19/UDP_Bandlock_9S_Phone_BR/sm04/#01/data/udp_dnlk_loss_latency.csv\n",
      "21/72 /home/wmnlab/F/database/2024-03-19/UDP_Bandlock_9S_Phone_BR/sm04/#01/data/udp_uplk_loss_latency.csv\n"
     ]
    },
    {
     "data": {
      "application/vnd.jupyter.widget-view+json": {
       "model_id": "acf4f91c893e4f09bf2c93bd2b54687d",
       "version_major": 2,
       "version_minor": 0
      },
      "text/plain": [
       "  0%|                                                                                                         …"
      ]
     },
     "metadata": {},
     "output_type": "display_data"
    },
    {
     "name": "stdout",
     "output_type": "stream",
     "text": [
      "/home/wmnlab/F/results/20240329_160006be6c_new_dataset_sync/dr_results/dr_20240329_1700005690/20240329_20213200000_e9df4863be54cded_adjust/\\home\\wmnlab\\F\\database\\2024-03-19\\UDP_Bandlock_9S_Phone_BR\\sm03\\#01\\data\\udp_dnlk_loss_latency\\home\\wmnlab\\F\\database\\2024-03-19\\UDP_Bandlock_9S_Phone_BR\\sm04\\#01\\data\\udp_dnlk_loss_latency.csv\n",
      "22/72 /home/wmnlab/F/database/2024-03-19/UDP_Bandlock_9S_Phone_BR/sm03/#01/data/handover_info_log.csv\n",
      "22/72 /home/wmnlab/F/database/2024-03-19/UDP_Bandlock_9S_Phone_BR/sm03/#01/data/udp_dnlk_loss_latency.csv\n",
      "22/72 /home/wmnlab/F/database/2024-03-19/UDP_Bandlock_9S_Phone_BR/sm03/#01/data/udp_uplk_loss_latency.csv\n",
      "22/72 /home/wmnlab/F/database/2024-03-19/UDP_Bandlock_9S_Phone_BR/sm05/#01/data/handover_info_log.csv\n",
      "22/72 /home/wmnlab/F/database/2024-03-19/UDP_Bandlock_9S_Phone_BR/sm05/#01/data/udp_dnlk_loss_latency.csv\n",
      "22/72 /home/wmnlab/F/database/2024-03-19/UDP_Bandlock_9S_Phone_BR/sm05/#01/data/udp_uplk_loss_latency.csv\n"
     ]
    },
    {
     "data": {
      "application/vnd.jupyter.widget-view+json": {
       "model_id": "4cf4e954accf4225a6685bbb8f8b60bc",
       "version_major": 2,
       "version_minor": 0
      },
      "text/plain": [
       "  0%|                                                                                                         …"
      ]
     },
     "metadata": {},
     "output_type": "display_data"
    },
    {
     "name": "stdout",
     "output_type": "stream",
     "text": [
      "/home/wmnlab/F/results/20240329_160006be6c_new_dataset_sync/dr_results/dr_20240329_1700005690/20240329_20213200000_e9df4863be54cded_adjust/\\home\\wmnlab\\F\\database\\2024-03-19\\UDP_Bandlock_9S_Phone_BR\\sm03\\#01\\data\\udp_dnlk_loss_latency\\home\\wmnlab\\F\\database\\2024-03-19\\UDP_Bandlock_9S_Phone_BR\\sm05\\#01\\data\\udp_dnlk_loss_latency.csv\n",
      "23/72 /home/wmnlab/F/database/2024-03-19/UDP_Bandlock_9S_Phone_BR/sm03/#01/data/handover_info_log.csv\n",
      "23/72 /home/wmnlab/F/database/2024-03-19/UDP_Bandlock_9S_Phone_BR/sm03/#01/data/udp_dnlk_loss_latency.csv\n",
      "23/72 /home/wmnlab/F/database/2024-03-19/UDP_Bandlock_9S_Phone_BR/sm03/#01/data/udp_uplk_loss_latency.csv\n",
      "23/72 /home/wmnlab/F/database/2024-03-19/UDP_Bandlock_9S_Phone_BR/sm06/#01/data/handover_info_log.csv\n",
      "23/72 /home/wmnlab/F/database/2024-03-19/UDP_Bandlock_9S_Phone_BR/sm06/#01/data/udp_dnlk_loss_latency.csv\n",
      "23/72 /home/wmnlab/F/database/2024-03-19/UDP_Bandlock_9S_Phone_BR/sm06/#01/data/udp_uplk_loss_latency.csv\n"
     ]
    },
    {
     "data": {
      "application/vnd.jupyter.widget-view+json": {
       "model_id": "8760f91bdc3a4c089bf0bb0e2b5ab823",
       "version_major": 2,
       "version_minor": 0
      },
      "text/plain": [
       "  0%|                                                                                                         …"
      ]
     },
     "metadata": {},
     "output_type": "display_data"
    },
    {
     "name": "stdout",
     "output_type": "stream",
     "text": [
      "/home/wmnlab/F/results/20240329_160006be6c_new_dataset_sync/dr_results/dr_20240329_1700005690/20240329_20213200000_e9df4863be54cded_adjust/\\home\\wmnlab\\F\\database\\2024-03-19\\UDP_Bandlock_9S_Phone_BR\\sm03\\#01\\data\\udp_dnlk_loss_latency\\home\\wmnlab\\F\\database\\2024-03-19\\UDP_Bandlock_9S_Phone_BR\\sm06\\#01\\data\\udp_dnlk_loss_latency.csv\n",
      "24/72 /home/wmnlab/F/database/2024-03-19/UDP_Bandlock_9S_Phone_BR/sm03/#01/data/handover_info_log.csv\n",
      "24/72 /home/wmnlab/F/database/2024-03-19/UDP_Bandlock_9S_Phone_BR/sm03/#01/data/udp_dnlk_loss_latency.csv\n",
      "24/72 /home/wmnlab/F/database/2024-03-19/UDP_Bandlock_9S_Phone_BR/sm03/#01/data/udp_uplk_loss_latency.csv\n",
      "24/72 /home/wmnlab/F/database/2024-03-19/UDP_Bandlock_9S_Phone_BR/sm07/#01/data/handover_info_log.csv\n",
      "24/72 /home/wmnlab/F/database/2024-03-19/UDP_Bandlock_9S_Phone_BR/sm07/#01/data/udp_dnlk_loss_latency.csv\n",
      "24/72 /home/wmnlab/F/database/2024-03-19/UDP_Bandlock_9S_Phone_BR/sm07/#01/data/udp_uplk_loss_latency.csv\n"
     ]
    },
    {
     "data": {
      "application/vnd.jupyter.widget-view+json": {
       "model_id": "2711936952bf4373af2543ec97b39c9b",
       "version_major": 2,
       "version_minor": 0
      },
      "text/plain": [
       "  0%|                                                                                                         …"
      ]
     },
     "metadata": {},
     "output_type": "display_data"
    },
    {
     "name": "stdout",
     "output_type": "stream",
     "text": [
      "/home/wmnlab/F/results/20240329_160006be6c_new_dataset_sync/dr_results/dr_20240329_1700005690/20240329_20213200000_e9df4863be54cded_adjust/\\home\\wmnlab\\F\\database\\2024-03-19\\UDP_Bandlock_9S_Phone_BR\\sm03\\#01\\data\\udp_dnlk_loss_latency\\home\\wmnlab\\F\\database\\2024-03-19\\UDP_Bandlock_9S_Phone_BR\\sm07\\#01\\data\\udp_dnlk_loss_latency.csv\n",
      "25/72 /home/wmnlab/F/database/2024-03-19/UDP_Bandlock_9S_Phone_BR/sm03/#01/data/handover_info_log.csv\n",
      "25/72 /home/wmnlab/F/database/2024-03-19/UDP_Bandlock_9S_Phone_BR/sm03/#01/data/udp_dnlk_loss_latency.csv\n",
      "25/72 /home/wmnlab/F/database/2024-03-19/UDP_Bandlock_9S_Phone_BR/sm03/#01/data/udp_uplk_loss_latency.csv\n",
      "25/72 /home/wmnlab/F/database/2024-03-19/UDP_Bandlock_9S_Phone_BR/sm08/#01/data/handover_info_log.csv\n",
      "25/72 /home/wmnlab/F/database/2024-03-19/UDP_Bandlock_9S_Phone_BR/sm08/#01/data/udp_dnlk_loss_latency.csv\n",
      "25/72 /home/wmnlab/F/database/2024-03-19/UDP_Bandlock_9S_Phone_BR/sm08/#01/data/udp_uplk_loss_latency.csv\n"
     ]
    },
    {
     "data": {
      "application/vnd.jupyter.widget-view+json": {
       "model_id": "899da116c5484388bf6ee32f383f8509",
       "version_major": 2,
       "version_minor": 0
      },
      "text/plain": [
       "  0%|                                                                                                         …"
      ]
     },
     "metadata": {},
     "output_type": "display_data"
    },
    {
     "name": "stdout",
     "output_type": "stream",
     "text": [
      "/home/wmnlab/F/results/20240329_160006be6c_new_dataset_sync/dr_results/dr_20240329_1700005690/20240329_20213200000_e9df4863be54cded_adjust/\\home\\wmnlab\\F\\database\\2024-03-19\\UDP_Bandlock_9S_Phone_BR\\sm03\\#01\\data\\udp_dnlk_loss_latency\\home\\wmnlab\\F\\database\\2024-03-19\\UDP_Bandlock_9S_Phone_BR\\sm08\\#01\\data\\udp_dnlk_loss_latency.csv\n",
      "26/72 /home/wmnlab/F/database/2024-03-19/UDP_Bandlock_9S_Phone_BR/sm04/#01/data/handover_info_log.csv\n",
      "26/72 /home/wmnlab/F/database/2024-03-19/UDP_Bandlock_9S_Phone_BR/sm04/#01/data/udp_dnlk_loss_latency.csv\n",
      "26/72 /home/wmnlab/F/database/2024-03-19/UDP_Bandlock_9S_Phone_BR/sm04/#01/data/udp_uplk_loss_latency.csv\n",
      "26/72 /home/wmnlab/F/database/2024-03-19/UDP_Bandlock_9S_Phone_BR/sm05/#01/data/handover_info_log.csv\n",
      "26/72 /home/wmnlab/F/database/2024-03-19/UDP_Bandlock_9S_Phone_BR/sm05/#01/data/udp_dnlk_loss_latency.csv\n",
      "26/72 /home/wmnlab/F/database/2024-03-19/UDP_Bandlock_9S_Phone_BR/sm05/#01/data/udp_uplk_loss_latency.csv\n"
     ]
    },
    {
     "data": {
      "application/vnd.jupyter.widget-view+json": {
       "model_id": "65aa390bf8874e8d8fe4e503dd5ea859",
       "version_major": 2,
       "version_minor": 0
      },
      "text/plain": [
       "  0%|                                                                                                         …"
      ]
     },
     "metadata": {},
     "output_type": "display_data"
    },
    {
     "name": "stdout",
     "output_type": "stream",
     "text": [
      "/home/wmnlab/F/results/20240329_160006be6c_new_dataset_sync/dr_results/dr_20240329_1700005690/20240329_20213200000_e9df4863be54cded_adjust/\\home\\wmnlab\\F\\database\\2024-03-19\\UDP_Bandlock_9S_Phone_BR\\sm04\\#01\\data\\udp_dnlk_loss_latency\\home\\wmnlab\\F\\database\\2024-03-19\\UDP_Bandlock_9S_Phone_BR\\sm05\\#01\\data\\udp_dnlk_loss_latency.csv\n",
      "27/72 /home/wmnlab/F/database/2024-03-19/UDP_Bandlock_9S_Phone_BR/sm04/#01/data/handover_info_log.csv\n",
      "27/72 /home/wmnlab/F/database/2024-03-19/UDP_Bandlock_9S_Phone_BR/sm04/#01/data/udp_dnlk_loss_latency.csv\n",
      "27/72 /home/wmnlab/F/database/2024-03-19/UDP_Bandlock_9S_Phone_BR/sm04/#01/data/udp_uplk_loss_latency.csv\n",
      "27/72 /home/wmnlab/F/database/2024-03-19/UDP_Bandlock_9S_Phone_BR/sm06/#01/data/handover_info_log.csv\n",
      "27/72 /home/wmnlab/F/database/2024-03-19/UDP_Bandlock_9S_Phone_BR/sm06/#01/data/udp_dnlk_loss_latency.csv\n",
      "27/72 /home/wmnlab/F/database/2024-03-19/UDP_Bandlock_9S_Phone_BR/sm06/#01/data/udp_uplk_loss_latency.csv\n"
     ]
    },
    {
     "data": {
      "application/vnd.jupyter.widget-view+json": {
       "model_id": "57e1540718b84e45a7551010ed7e5298",
       "version_major": 2,
       "version_minor": 0
      },
      "text/plain": [
       "  0%|                                                                                                         …"
      ]
     },
     "metadata": {},
     "output_type": "display_data"
    },
    {
     "name": "stdout",
     "output_type": "stream",
     "text": [
      "/home/wmnlab/F/results/20240329_160006be6c_new_dataset_sync/dr_results/dr_20240329_1700005690/20240329_20213200000_e9df4863be54cded_adjust/\\home\\wmnlab\\F\\database\\2024-03-19\\UDP_Bandlock_9S_Phone_BR\\sm04\\#01\\data\\udp_dnlk_loss_latency\\home\\wmnlab\\F\\database\\2024-03-19\\UDP_Bandlock_9S_Phone_BR\\sm06\\#01\\data\\udp_dnlk_loss_latency.csv\n",
      "28/72 /home/wmnlab/F/database/2024-03-19/UDP_Bandlock_9S_Phone_BR/sm04/#01/data/handover_info_log.csv\n",
      "28/72 /home/wmnlab/F/database/2024-03-19/UDP_Bandlock_9S_Phone_BR/sm04/#01/data/udp_dnlk_loss_latency.csv\n",
      "28/72 /home/wmnlab/F/database/2024-03-19/UDP_Bandlock_9S_Phone_BR/sm04/#01/data/udp_uplk_loss_latency.csv\n",
      "28/72 /home/wmnlab/F/database/2024-03-19/UDP_Bandlock_9S_Phone_BR/sm07/#01/data/handover_info_log.csv\n",
      "28/72 /home/wmnlab/F/database/2024-03-19/UDP_Bandlock_9S_Phone_BR/sm07/#01/data/udp_dnlk_loss_latency.csv\n",
      "28/72 /home/wmnlab/F/database/2024-03-19/UDP_Bandlock_9S_Phone_BR/sm07/#01/data/udp_uplk_loss_latency.csv\n"
     ]
    },
    {
     "data": {
      "application/vnd.jupyter.widget-view+json": {
       "model_id": "4209a0bb5d6e4f1cabf6327c9aba3954",
       "version_major": 2,
       "version_minor": 0
      },
      "text/plain": [
       "  0%|                                                                                                         …"
      ]
     },
     "metadata": {},
     "output_type": "display_data"
    },
    {
     "name": "stdout",
     "output_type": "stream",
     "text": [
      "/home/wmnlab/F/results/20240329_160006be6c_new_dataset_sync/dr_results/dr_20240329_1700005690/20240329_20213200000_e9df4863be54cded_adjust/\\home\\wmnlab\\F\\database\\2024-03-19\\UDP_Bandlock_9S_Phone_BR\\sm04\\#01\\data\\udp_dnlk_loss_latency\\home\\wmnlab\\F\\database\\2024-03-19\\UDP_Bandlock_9S_Phone_BR\\sm07\\#01\\data\\udp_dnlk_loss_latency.csv\n",
      "29/72 /home/wmnlab/F/database/2024-03-19/UDP_Bandlock_9S_Phone_BR/sm04/#01/data/handover_info_log.csv\n",
      "29/72 /home/wmnlab/F/database/2024-03-19/UDP_Bandlock_9S_Phone_BR/sm04/#01/data/udp_dnlk_loss_latency.csv\n",
      "29/72 /home/wmnlab/F/database/2024-03-19/UDP_Bandlock_9S_Phone_BR/sm04/#01/data/udp_uplk_loss_latency.csv\n",
      "29/72 /home/wmnlab/F/database/2024-03-19/UDP_Bandlock_9S_Phone_BR/sm08/#01/data/handover_info_log.csv\n",
      "29/72 /home/wmnlab/F/database/2024-03-19/UDP_Bandlock_9S_Phone_BR/sm08/#01/data/udp_dnlk_loss_latency.csv\n",
      "29/72 /home/wmnlab/F/database/2024-03-19/UDP_Bandlock_9S_Phone_BR/sm08/#01/data/udp_uplk_loss_latency.csv\n"
     ]
    },
    {
     "data": {
      "application/vnd.jupyter.widget-view+json": {
       "model_id": "43d76dc91e2846d6a6a3f9a06508ca28",
       "version_major": 2,
       "version_minor": 0
      },
      "text/plain": [
       "  0%|                                                                                                         …"
      ]
     },
     "metadata": {},
     "output_type": "display_data"
    },
    {
     "name": "stdout",
     "output_type": "stream",
     "text": [
      "/home/wmnlab/F/results/20240329_160006be6c_new_dataset_sync/dr_results/dr_20240329_1700005690/20240329_20213200000_e9df4863be54cded_adjust/\\home\\wmnlab\\F\\database\\2024-03-19\\UDP_Bandlock_9S_Phone_BR\\sm04\\#01\\data\\udp_dnlk_loss_latency\\home\\wmnlab\\F\\database\\2024-03-19\\UDP_Bandlock_9S_Phone_BR\\sm08\\#01\\data\\udp_dnlk_loss_latency.csv\n",
      "30/72 /home/wmnlab/F/database/2024-03-19/UDP_Bandlock_9S_Phone_BR/sm05/#01/data/handover_info_log.csv\n",
      "30/72 /home/wmnlab/F/database/2024-03-19/UDP_Bandlock_9S_Phone_BR/sm05/#01/data/udp_dnlk_loss_latency.csv\n",
      "30/72 /home/wmnlab/F/database/2024-03-19/UDP_Bandlock_9S_Phone_BR/sm05/#01/data/udp_uplk_loss_latency.csv\n",
      "30/72 /home/wmnlab/F/database/2024-03-19/UDP_Bandlock_9S_Phone_BR/sm06/#01/data/handover_info_log.csv\n",
      "30/72 /home/wmnlab/F/database/2024-03-19/UDP_Bandlock_9S_Phone_BR/sm06/#01/data/udp_dnlk_loss_latency.csv\n",
      "30/72 /home/wmnlab/F/database/2024-03-19/UDP_Bandlock_9S_Phone_BR/sm06/#01/data/udp_uplk_loss_latency.csv\n"
     ]
    },
    {
     "data": {
      "application/vnd.jupyter.widget-view+json": {
       "model_id": "0e73bb15c19c43bdbf2b649cb2071240",
       "version_major": 2,
       "version_minor": 0
      },
      "text/plain": [
       "  0%|                                                                                                         …"
      ]
     },
     "metadata": {},
     "output_type": "display_data"
    },
    {
     "name": "stdout",
     "output_type": "stream",
     "text": [
      "/home/wmnlab/F/results/20240329_160006be6c_new_dataset_sync/dr_results/dr_20240329_1700005690/20240329_20213200000_e9df4863be54cded_adjust/\\home\\wmnlab\\F\\database\\2024-03-19\\UDP_Bandlock_9S_Phone_BR\\sm05\\#01\\data\\udp_dnlk_loss_latency\\home\\wmnlab\\F\\database\\2024-03-19\\UDP_Bandlock_9S_Phone_BR\\sm06\\#01\\data\\udp_dnlk_loss_latency.csv\n",
      "31/72 /home/wmnlab/F/database/2024-03-19/UDP_Bandlock_9S_Phone_BR/sm05/#01/data/handover_info_log.csv\n",
      "31/72 /home/wmnlab/F/database/2024-03-19/UDP_Bandlock_9S_Phone_BR/sm05/#01/data/udp_dnlk_loss_latency.csv\n",
      "31/72 /home/wmnlab/F/database/2024-03-19/UDP_Bandlock_9S_Phone_BR/sm05/#01/data/udp_uplk_loss_latency.csv\n",
      "31/72 /home/wmnlab/F/database/2024-03-19/UDP_Bandlock_9S_Phone_BR/sm07/#01/data/handover_info_log.csv\n",
      "31/72 /home/wmnlab/F/database/2024-03-19/UDP_Bandlock_9S_Phone_BR/sm07/#01/data/udp_dnlk_loss_latency.csv\n",
      "31/72 /home/wmnlab/F/database/2024-03-19/UDP_Bandlock_9S_Phone_BR/sm07/#01/data/udp_uplk_loss_latency.csv\n"
     ]
    },
    {
     "data": {
      "application/vnd.jupyter.widget-view+json": {
       "model_id": "418d9ff717ca4a90becffde343cb0ffd",
       "version_major": 2,
       "version_minor": 0
      },
      "text/plain": [
       "  0%|                                                                                                         …"
      ]
     },
     "metadata": {},
     "output_type": "display_data"
    },
    {
     "name": "stdout",
     "output_type": "stream",
     "text": [
      "/home/wmnlab/F/results/20240329_160006be6c_new_dataset_sync/dr_results/dr_20240329_1700005690/20240329_20213200000_e9df4863be54cded_adjust/\\home\\wmnlab\\F\\database\\2024-03-19\\UDP_Bandlock_9S_Phone_BR\\sm05\\#01\\data\\udp_dnlk_loss_latency\\home\\wmnlab\\F\\database\\2024-03-19\\UDP_Bandlock_9S_Phone_BR\\sm07\\#01\\data\\udp_dnlk_loss_latency.csv\n",
      "32/72 /home/wmnlab/F/database/2024-03-19/UDP_Bandlock_9S_Phone_BR/sm05/#01/data/handover_info_log.csv\n",
      "32/72 /home/wmnlab/F/database/2024-03-19/UDP_Bandlock_9S_Phone_BR/sm05/#01/data/udp_dnlk_loss_latency.csv\n",
      "32/72 /home/wmnlab/F/database/2024-03-19/UDP_Bandlock_9S_Phone_BR/sm05/#01/data/udp_uplk_loss_latency.csv\n",
      "32/72 /home/wmnlab/F/database/2024-03-19/UDP_Bandlock_9S_Phone_BR/sm08/#01/data/handover_info_log.csv\n",
      "32/72 /home/wmnlab/F/database/2024-03-19/UDP_Bandlock_9S_Phone_BR/sm08/#01/data/udp_dnlk_loss_latency.csv\n",
      "32/72 /home/wmnlab/F/database/2024-03-19/UDP_Bandlock_9S_Phone_BR/sm08/#01/data/udp_uplk_loss_latency.csv\n"
     ]
    },
    {
     "data": {
      "application/vnd.jupyter.widget-view+json": {
       "model_id": "d4e94cd7e611413abf528761bfbc8494",
       "version_major": 2,
       "version_minor": 0
      },
      "text/plain": [
       "  0%|                                                                                                         …"
      ]
     },
     "metadata": {},
     "output_type": "display_data"
    },
    {
     "name": "stdout",
     "output_type": "stream",
     "text": [
      "/home/wmnlab/F/results/20240329_160006be6c_new_dataset_sync/dr_results/dr_20240329_1700005690/20240329_20213200000_e9df4863be54cded_adjust/\\home\\wmnlab\\F\\database\\2024-03-19\\UDP_Bandlock_9S_Phone_BR\\sm05\\#01\\data\\udp_dnlk_loss_latency\\home\\wmnlab\\F\\database\\2024-03-19\\UDP_Bandlock_9S_Phone_BR\\sm08\\#01\\data\\udp_dnlk_loss_latency.csv\n",
      "33/72 /home/wmnlab/F/database/2024-03-19/UDP_Bandlock_9S_Phone_BR/sm06/#01/data/handover_info_log.csv\n",
      "33/72 /home/wmnlab/F/database/2024-03-19/UDP_Bandlock_9S_Phone_BR/sm06/#01/data/udp_dnlk_loss_latency.csv\n",
      "33/72 /home/wmnlab/F/database/2024-03-19/UDP_Bandlock_9S_Phone_BR/sm06/#01/data/udp_uplk_loss_latency.csv\n",
      "33/72 /home/wmnlab/F/database/2024-03-19/UDP_Bandlock_9S_Phone_BR/sm07/#01/data/handover_info_log.csv\n",
      "33/72 /home/wmnlab/F/database/2024-03-19/UDP_Bandlock_9S_Phone_BR/sm07/#01/data/udp_dnlk_loss_latency.csv\n",
      "33/72 /home/wmnlab/F/database/2024-03-19/UDP_Bandlock_9S_Phone_BR/sm07/#01/data/udp_uplk_loss_latency.csv\n"
     ]
    },
    {
     "data": {
      "application/vnd.jupyter.widget-view+json": {
       "model_id": "f470f60b897144448bcf5312f2ae095b",
       "version_major": 2,
       "version_minor": 0
      },
      "text/plain": [
       "  0%|                                                                                                         …"
      ]
     },
     "metadata": {},
     "output_type": "display_data"
    },
    {
     "name": "stdout",
     "output_type": "stream",
     "text": [
      "/home/wmnlab/F/results/20240329_160006be6c_new_dataset_sync/dr_results/dr_20240329_1700005690/20240329_20213200000_e9df4863be54cded_adjust/\\home\\wmnlab\\F\\database\\2024-03-19\\UDP_Bandlock_9S_Phone_BR\\sm06\\#01\\data\\udp_dnlk_loss_latency\\home\\wmnlab\\F\\database\\2024-03-19\\UDP_Bandlock_9S_Phone_BR\\sm07\\#01\\data\\udp_dnlk_loss_latency.csv\n",
      "34/72 /home/wmnlab/F/database/2024-03-19/UDP_Bandlock_9S_Phone_BR/sm06/#01/data/handover_info_log.csv\n",
      "34/72 /home/wmnlab/F/database/2024-03-19/UDP_Bandlock_9S_Phone_BR/sm06/#01/data/udp_dnlk_loss_latency.csv\n",
      "34/72 /home/wmnlab/F/database/2024-03-19/UDP_Bandlock_9S_Phone_BR/sm06/#01/data/udp_uplk_loss_latency.csv\n",
      "34/72 /home/wmnlab/F/database/2024-03-19/UDP_Bandlock_9S_Phone_BR/sm08/#01/data/handover_info_log.csv\n",
      "34/72 /home/wmnlab/F/database/2024-03-19/UDP_Bandlock_9S_Phone_BR/sm08/#01/data/udp_dnlk_loss_latency.csv\n",
      "34/72 /home/wmnlab/F/database/2024-03-19/UDP_Bandlock_9S_Phone_BR/sm08/#01/data/udp_uplk_loss_latency.csv\n"
     ]
    },
    {
     "data": {
      "application/vnd.jupyter.widget-view+json": {
       "model_id": "faeb4c55889b4c778d0d195e67c97d07",
       "version_major": 2,
       "version_minor": 0
      },
      "text/plain": [
       "  0%|                                                                                                         …"
      ]
     },
     "metadata": {},
     "output_type": "display_data"
    },
    {
     "name": "stdout",
     "output_type": "stream",
     "text": [
      "/home/wmnlab/F/results/20240329_160006be6c_new_dataset_sync/dr_results/dr_20240329_1700005690/20240329_20213200000_e9df4863be54cded_adjust/\\home\\wmnlab\\F\\database\\2024-03-19\\UDP_Bandlock_9S_Phone_BR\\sm06\\#01\\data\\udp_dnlk_loss_latency\\home\\wmnlab\\F\\database\\2024-03-19\\UDP_Bandlock_9S_Phone_BR\\sm08\\#01\\data\\udp_dnlk_loss_latency.csv\n",
      "35/72 /home/wmnlab/F/database/2024-03-19/UDP_Bandlock_9S_Phone_BR/sm07/#01/data/handover_info_log.csv\n",
      "35/72 /home/wmnlab/F/database/2024-03-19/UDP_Bandlock_9S_Phone_BR/sm07/#01/data/udp_dnlk_loss_latency.csv\n",
      "35/72 /home/wmnlab/F/database/2024-03-19/UDP_Bandlock_9S_Phone_BR/sm07/#01/data/udp_uplk_loss_latency.csv\n",
      "35/72 /home/wmnlab/F/database/2024-03-19/UDP_Bandlock_9S_Phone_BR/sm08/#01/data/handover_info_log.csv\n",
      "35/72 /home/wmnlab/F/database/2024-03-19/UDP_Bandlock_9S_Phone_BR/sm08/#01/data/udp_dnlk_loss_latency.csv\n",
      "35/72 /home/wmnlab/F/database/2024-03-19/UDP_Bandlock_9S_Phone_BR/sm08/#01/data/udp_uplk_loss_latency.csv\n"
     ]
    },
    {
     "data": {
      "application/vnd.jupyter.widget-view+json": {
       "model_id": "d1df3bbc009945c8b9e19c23f3e8aa4c",
       "version_major": 2,
       "version_minor": 0
      },
      "text/plain": [
       "  0%|                                                                                                         …"
      ]
     },
     "metadata": {},
     "output_type": "display_data"
    },
    {
     "name": "stdout",
     "output_type": "stream",
     "text": [
      "/home/wmnlab/F/results/20240329_160006be6c_new_dataset_sync/dr_results/dr_20240329_1700005690/20240329_20213200000_e9df4863be54cded_adjust/\\home\\wmnlab\\F\\database\\2024-03-19\\UDP_Bandlock_9S_Phone_BR\\sm07\\#01\\data\\udp_dnlk_loss_latency\\home\\wmnlab\\F\\database\\2024-03-19\\UDP_Bandlock_9S_Phone_BR\\sm08\\#01\\data\\udp_dnlk_loss_latency.csv\n",
      "36/72 /home/wmnlab/F/database/2024-03-19/UDP_Bandlock_9S_Phone_BR/sm00/#02/data/handover_info_log.csv\n",
      "36/72 /home/wmnlab/F/database/2024-03-19/UDP_Bandlock_9S_Phone_BR/sm00/#02/data/udp_dnlk_loss_latency.csv\n",
      "36/72 /home/wmnlab/F/database/2024-03-19/UDP_Bandlock_9S_Phone_BR/sm00/#02/data/udp_uplk_loss_latency.csv\n",
      "36/72 /home/wmnlab/F/database/2024-03-19/UDP_Bandlock_9S_Phone_BR/sm01/#02/data/handover_info_log.csv\n",
      "36/72 /home/wmnlab/F/database/2024-03-19/UDP_Bandlock_9S_Phone_BR/sm01/#02/data/udp_dnlk_loss_latency.csv\n",
      "36/72 /home/wmnlab/F/database/2024-03-19/UDP_Bandlock_9S_Phone_BR/sm01/#02/data/udp_uplk_loss_latency.csv\n"
     ]
    },
    {
     "data": {
      "application/vnd.jupyter.widget-view+json": {
       "model_id": "ada1305774e44d71aa4f384975216a75",
       "version_major": 2,
       "version_minor": 0
      },
      "text/plain": [
       "  0%|                                                                                                         …"
      ]
     },
     "metadata": {},
     "output_type": "display_data"
    },
    {
     "name": "stdout",
     "output_type": "stream",
     "text": [
      "/home/wmnlab/F/results/20240329_160006be6c_new_dataset_sync/dr_results/dr_20240329_1700005690/20240329_20213200000_e9df4863be54cded_adjust/\\home\\wmnlab\\F\\database\\2024-03-19\\UDP_Bandlock_9S_Phone_BR\\sm00\\#02\\data\\udp_dnlk_loss_latency\\home\\wmnlab\\F\\database\\2024-03-19\\UDP_Bandlock_9S_Phone_BR\\sm01\\#02\\data\\udp_dnlk_loss_latency.csv\n",
      "37/72 /home/wmnlab/F/database/2024-03-19/UDP_Bandlock_9S_Phone_BR/sm00/#02/data/handover_info_log.csv\n",
      "37/72 /home/wmnlab/F/database/2024-03-19/UDP_Bandlock_9S_Phone_BR/sm00/#02/data/udp_dnlk_loss_latency.csv\n",
      "37/72 /home/wmnlab/F/database/2024-03-19/UDP_Bandlock_9S_Phone_BR/sm00/#02/data/udp_uplk_loss_latency.csv\n",
      "37/72 /home/wmnlab/F/database/2024-03-19/UDP_Bandlock_9S_Phone_BR/sm02/#02/data/handover_info_log.csv\n",
      "37/72 /home/wmnlab/F/database/2024-03-19/UDP_Bandlock_9S_Phone_BR/sm02/#02/data/udp_dnlk_loss_latency.csv\n",
      "37/72 /home/wmnlab/F/database/2024-03-19/UDP_Bandlock_9S_Phone_BR/sm02/#02/data/udp_uplk_loss_latency.csv\n"
     ]
    },
    {
     "data": {
      "application/vnd.jupyter.widget-view+json": {
       "model_id": "18466cd2a1914019b9bcb5a280980318",
       "version_major": 2,
       "version_minor": 0
      },
      "text/plain": [
       "  0%|                                                                                                         …"
      ]
     },
     "metadata": {},
     "output_type": "display_data"
    },
    {
     "name": "stdout",
     "output_type": "stream",
     "text": [
      "/home/wmnlab/F/results/20240329_160006be6c_new_dataset_sync/dr_results/dr_20240329_1700005690/20240329_20213200000_e9df4863be54cded_adjust/\\home\\wmnlab\\F\\database\\2024-03-19\\UDP_Bandlock_9S_Phone_BR\\sm00\\#02\\data\\udp_dnlk_loss_latency\\home\\wmnlab\\F\\database\\2024-03-19\\UDP_Bandlock_9S_Phone_BR\\sm02\\#02\\data\\udp_dnlk_loss_latency.csv\n",
      "38/72 /home/wmnlab/F/database/2024-03-19/UDP_Bandlock_9S_Phone_BR/sm00/#02/data/handover_info_log.csv\n",
      "38/72 /home/wmnlab/F/database/2024-03-19/UDP_Bandlock_9S_Phone_BR/sm00/#02/data/udp_dnlk_loss_latency.csv\n",
      "38/72 /home/wmnlab/F/database/2024-03-19/UDP_Bandlock_9S_Phone_BR/sm00/#02/data/udp_uplk_loss_latency.csv\n",
      "38/72 /home/wmnlab/F/database/2024-03-19/UDP_Bandlock_9S_Phone_BR/sm03/#02/data/handover_info_log.csv\n",
      "38/72 /home/wmnlab/F/database/2024-03-19/UDP_Bandlock_9S_Phone_BR/sm03/#02/data/udp_dnlk_loss_latency.csv\n",
      "38/72 /home/wmnlab/F/database/2024-03-19/UDP_Bandlock_9S_Phone_BR/sm03/#02/data/udp_uplk_loss_latency.csv\n"
     ]
    },
    {
     "data": {
      "application/vnd.jupyter.widget-view+json": {
       "model_id": "0acd95713e9d43f8a7b585d672184d61",
       "version_major": 2,
       "version_minor": 0
      },
      "text/plain": [
       "  0%|                                                                                                         …"
      ]
     },
     "metadata": {},
     "output_type": "display_data"
    },
    {
     "name": "stdout",
     "output_type": "stream",
     "text": [
      "/home/wmnlab/F/results/20240329_160006be6c_new_dataset_sync/dr_results/dr_20240329_1700005690/20240329_20213200000_e9df4863be54cded_adjust/\\home\\wmnlab\\F\\database\\2024-03-19\\UDP_Bandlock_9S_Phone_BR\\sm00\\#02\\data\\udp_dnlk_loss_latency\\home\\wmnlab\\F\\database\\2024-03-19\\UDP_Bandlock_9S_Phone_BR\\sm03\\#02\\data\\udp_dnlk_loss_latency.csv\n",
      "39/72 /home/wmnlab/F/database/2024-03-19/UDP_Bandlock_9S_Phone_BR/sm00/#02/data/handover_info_log.csv\n",
      "39/72 /home/wmnlab/F/database/2024-03-19/UDP_Bandlock_9S_Phone_BR/sm00/#02/data/udp_dnlk_loss_latency.csv\n",
      "39/72 /home/wmnlab/F/database/2024-03-19/UDP_Bandlock_9S_Phone_BR/sm00/#02/data/udp_uplk_loss_latency.csv\n",
      "39/72 /home/wmnlab/F/database/2024-03-19/UDP_Bandlock_9S_Phone_BR/sm04/#02/data/handover_info_log.csv\n",
      "39/72 /home/wmnlab/F/database/2024-03-19/UDP_Bandlock_9S_Phone_BR/sm04/#02/data/udp_dnlk_loss_latency.csv\n",
      "39/72 /home/wmnlab/F/database/2024-03-19/UDP_Bandlock_9S_Phone_BR/sm04/#02/data/udp_uplk_loss_latency.csv\n"
     ]
    },
    {
     "data": {
      "application/vnd.jupyter.widget-view+json": {
       "model_id": "5ad24284922042aeb66f2dc9707d43b0",
       "version_major": 2,
       "version_minor": 0
      },
      "text/plain": [
       "  0%|                                                                                                         …"
      ]
     },
     "metadata": {},
     "output_type": "display_data"
    },
    {
     "name": "stdout",
     "output_type": "stream",
     "text": [
      "/home/wmnlab/F/results/20240329_160006be6c_new_dataset_sync/dr_results/dr_20240329_1700005690/20240329_20213200000_e9df4863be54cded_adjust/\\home\\wmnlab\\F\\database\\2024-03-19\\UDP_Bandlock_9S_Phone_BR\\sm00\\#02\\data\\udp_dnlk_loss_latency\\home\\wmnlab\\F\\database\\2024-03-19\\UDP_Bandlock_9S_Phone_BR\\sm04\\#02\\data\\udp_dnlk_loss_latency.csv\n",
      "40/72 /home/wmnlab/F/database/2024-03-19/UDP_Bandlock_9S_Phone_BR/sm00/#02/data/handover_info_log.csv\n",
      "40/72 /home/wmnlab/F/database/2024-03-19/UDP_Bandlock_9S_Phone_BR/sm00/#02/data/udp_dnlk_loss_latency.csv\n",
      "40/72 /home/wmnlab/F/database/2024-03-19/UDP_Bandlock_9S_Phone_BR/sm00/#02/data/udp_uplk_loss_latency.csv\n",
      "40/72 /home/wmnlab/F/database/2024-03-19/UDP_Bandlock_9S_Phone_BR/sm05/#02/data/handover_info_log.csv\n",
      "40/72 /home/wmnlab/F/database/2024-03-19/UDP_Bandlock_9S_Phone_BR/sm05/#02/data/udp_dnlk_loss_latency.csv\n",
      "40/72 /home/wmnlab/F/database/2024-03-19/UDP_Bandlock_9S_Phone_BR/sm05/#02/data/udp_uplk_loss_latency.csv\n"
     ]
    },
    {
     "data": {
      "application/vnd.jupyter.widget-view+json": {
       "model_id": "d09d8d76b2b14c48803ea8825a5753dd",
       "version_major": 2,
       "version_minor": 0
      },
      "text/plain": [
       "  0%|                                                                                                         …"
      ]
     },
     "metadata": {},
     "output_type": "display_data"
    },
    {
     "name": "stdout",
     "output_type": "stream",
     "text": [
      "/home/wmnlab/F/results/20240329_160006be6c_new_dataset_sync/dr_results/dr_20240329_1700005690/20240329_20213200000_e9df4863be54cded_adjust/\\home\\wmnlab\\F\\database\\2024-03-19\\UDP_Bandlock_9S_Phone_BR\\sm00\\#02\\data\\udp_dnlk_loss_latency\\home\\wmnlab\\F\\database\\2024-03-19\\UDP_Bandlock_9S_Phone_BR\\sm05\\#02\\data\\udp_dnlk_loss_latency.csv\n",
      "41/72 /home/wmnlab/F/database/2024-03-19/UDP_Bandlock_9S_Phone_BR/sm00/#02/data/handover_info_log.csv\n",
      "41/72 /home/wmnlab/F/database/2024-03-19/UDP_Bandlock_9S_Phone_BR/sm00/#02/data/udp_dnlk_loss_latency.csv\n",
      "41/72 /home/wmnlab/F/database/2024-03-19/UDP_Bandlock_9S_Phone_BR/sm00/#02/data/udp_uplk_loss_latency.csv\n",
      "41/72 /home/wmnlab/F/database/2024-03-19/UDP_Bandlock_9S_Phone_BR/sm06/#02/data/handover_info_log.csv\n",
      "41/72 /home/wmnlab/F/database/2024-03-19/UDP_Bandlock_9S_Phone_BR/sm06/#02/data/udp_dnlk_loss_latency.csv\n",
      "41/72 /home/wmnlab/F/database/2024-03-19/UDP_Bandlock_9S_Phone_BR/sm06/#02/data/udp_uplk_loss_latency.csv\n"
     ]
    },
    {
     "data": {
      "application/vnd.jupyter.widget-view+json": {
       "model_id": "f73a94be7ac14b5eae081bc7bc0b78bb",
       "version_major": 2,
       "version_minor": 0
      },
      "text/plain": [
       "  0%|                                                                                                         …"
      ]
     },
     "metadata": {},
     "output_type": "display_data"
    },
    {
     "name": "stdout",
     "output_type": "stream",
     "text": [
      "/home/wmnlab/F/results/20240329_160006be6c_new_dataset_sync/dr_results/dr_20240329_1700005690/20240329_20213200000_e9df4863be54cded_adjust/\\home\\wmnlab\\F\\database\\2024-03-19\\UDP_Bandlock_9S_Phone_BR\\sm00\\#02\\data\\udp_dnlk_loss_latency\\home\\wmnlab\\F\\database\\2024-03-19\\UDP_Bandlock_9S_Phone_BR\\sm06\\#02\\data\\udp_dnlk_loss_latency.csv\n",
      "42/72 /home/wmnlab/F/database/2024-03-19/UDP_Bandlock_9S_Phone_BR/sm00/#02/data/handover_info_log.csv\n",
      "42/72 /home/wmnlab/F/database/2024-03-19/UDP_Bandlock_9S_Phone_BR/sm00/#02/data/udp_dnlk_loss_latency.csv\n",
      "42/72 /home/wmnlab/F/database/2024-03-19/UDP_Bandlock_9S_Phone_BR/sm00/#02/data/udp_uplk_loss_latency.csv\n",
      "42/72 /home/wmnlab/F/database/2024-03-19/UDP_Bandlock_9S_Phone_BR/sm07/#02/data/handover_info_log.csv\n",
      "42/72 /home/wmnlab/F/database/2024-03-19/UDP_Bandlock_9S_Phone_BR/sm07/#02/data/udp_dnlk_loss_latency.csv\n",
      "42/72 /home/wmnlab/F/database/2024-03-19/UDP_Bandlock_9S_Phone_BR/sm07/#02/data/udp_uplk_loss_latency.csv\n"
     ]
    },
    {
     "data": {
      "application/vnd.jupyter.widget-view+json": {
       "model_id": "7f8218e0ab6147aab1e4abfac7c236f4",
       "version_major": 2,
       "version_minor": 0
      },
      "text/plain": [
       "  0%|                                                                                                         …"
      ]
     },
     "metadata": {},
     "output_type": "display_data"
    },
    {
     "name": "stdout",
     "output_type": "stream",
     "text": [
      "/home/wmnlab/F/results/20240329_160006be6c_new_dataset_sync/dr_results/dr_20240329_1700005690/20240329_20213200000_e9df4863be54cded_adjust/\\home\\wmnlab\\F\\database\\2024-03-19\\UDP_Bandlock_9S_Phone_BR\\sm00\\#02\\data\\udp_dnlk_loss_latency\\home\\wmnlab\\F\\database\\2024-03-19\\UDP_Bandlock_9S_Phone_BR\\sm07\\#02\\data\\udp_dnlk_loss_latency.csv\n",
      "43/72 /home/wmnlab/F/database/2024-03-19/UDP_Bandlock_9S_Phone_BR/sm00/#02/data/handover_info_log.csv\n",
      "43/72 /home/wmnlab/F/database/2024-03-19/UDP_Bandlock_9S_Phone_BR/sm00/#02/data/udp_dnlk_loss_latency.csv\n",
      "43/72 /home/wmnlab/F/database/2024-03-19/UDP_Bandlock_9S_Phone_BR/sm00/#02/data/udp_uplk_loss_latency.csv\n",
      "43/72 /home/wmnlab/F/database/2024-03-19/UDP_Bandlock_9S_Phone_BR/sm08/#02/data/handover_info_log.csv\n",
      "43/72 /home/wmnlab/F/database/2024-03-19/UDP_Bandlock_9S_Phone_BR/sm08/#02/data/udp_dnlk_loss_latency.csv\n",
      "43/72 /home/wmnlab/F/database/2024-03-19/UDP_Bandlock_9S_Phone_BR/sm08/#02/data/udp_uplk_loss_latency.csv\n"
     ]
    },
    {
     "data": {
      "application/vnd.jupyter.widget-view+json": {
       "model_id": "707809ea88f54707aa09ffa12487fda6",
       "version_major": 2,
       "version_minor": 0
      },
      "text/plain": [
       "  0%|                                                                                                         …"
      ]
     },
     "metadata": {},
     "output_type": "display_data"
    },
    {
     "name": "stdout",
     "output_type": "stream",
     "text": [
      "/home/wmnlab/F/results/20240329_160006be6c_new_dataset_sync/dr_results/dr_20240329_1700005690/20240329_20213200000_e9df4863be54cded_adjust/\\home\\wmnlab\\F\\database\\2024-03-19\\UDP_Bandlock_9S_Phone_BR\\sm00\\#02\\data\\udp_dnlk_loss_latency\\home\\wmnlab\\F\\database\\2024-03-19\\UDP_Bandlock_9S_Phone_BR\\sm08\\#02\\data\\udp_dnlk_loss_latency.csv\n",
      "44/72 /home/wmnlab/F/database/2024-03-19/UDP_Bandlock_9S_Phone_BR/sm01/#02/data/handover_info_log.csv\n",
      "44/72 /home/wmnlab/F/database/2024-03-19/UDP_Bandlock_9S_Phone_BR/sm01/#02/data/udp_dnlk_loss_latency.csv\n",
      "44/72 /home/wmnlab/F/database/2024-03-19/UDP_Bandlock_9S_Phone_BR/sm01/#02/data/udp_uplk_loss_latency.csv\n",
      "44/72 /home/wmnlab/F/database/2024-03-19/UDP_Bandlock_9S_Phone_BR/sm02/#02/data/handover_info_log.csv\n",
      "44/72 /home/wmnlab/F/database/2024-03-19/UDP_Bandlock_9S_Phone_BR/sm02/#02/data/udp_dnlk_loss_latency.csv\n",
      "44/72 /home/wmnlab/F/database/2024-03-19/UDP_Bandlock_9S_Phone_BR/sm02/#02/data/udp_uplk_loss_latency.csv\n"
     ]
    },
    {
     "data": {
      "application/vnd.jupyter.widget-view+json": {
       "model_id": "a2cc3745d48d43289ab167378fb23cc4",
       "version_major": 2,
       "version_minor": 0
      },
      "text/plain": [
       "  0%|                                                                                                         …"
      ]
     },
     "metadata": {},
     "output_type": "display_data"
    },
    {
     "name": "stdout",
     "output_type": "stream",
     "text": [
      "/home/wmnlab/F/results/20240329_160006be6c_new_dataset_sync/dr_results/dr_20240329_1700005690/20240329_20213200000_e9df4863be54cded_adjust/\\home\\wmnlab\\F\\database\\2024-03-19\\UDP_Bandlock_9S_Phone_BR\\sm01\\#02\\data\\udp_dnlk_loss_latency\\home\\wmnlab\\F\\database\\2024-03-19\\UDP_Bandlock_9S_Phone_BR\\sm02\\#02\\data\\udp_dnlk_loss_latency.csv\n",
      "45/72 /home/wmnlab/F/database/2024-03-19/UDP_Bandlock_9S_Phone_BR/sm01/#02/data/handover_info_log.csv\n",
      "45/72 /home/wmnlab/F/database/2024-03-19/UDP_Bandlock_9S_Phone_BR/sm01/#02/data/udp_dnlk_loss_latency.csv\n",
      "45/72 /home/wmnlab/F/database/2024-03-19/UDP_Bandlock_9S_Phone_BR/sm01/#02/data/udp_uplk_loss_latency.csv\n",
      "45/72 /home/wmnlab/F/database/2024-03-19/UDP_Bandlock_9S_Phone_BR/sm03/#02/data/handover_info_log.csv\n",
      "45/72 /home/wmnlab/F/database/2024-03-19/UDP_Bandlock_9S_Phone_BR/sm03/#02/data/udp_dnlk_loss_latency.csv\n",
      "45/72 /home/wmnlab/F/database/2024-03-19/UDP_Bandlock_9S_Phone_BR/sm03/#02/data/udp_uplk_loss_latency.csv\n"
     ]
    },
    {
     "data": {
      "application/vnd.jupyter.widget-view+json": {
       "model_id": "99af2624e2574d249a686ffc80383b6a",
       "version_major": 2,
       "version_minor": 0
      },
      "text/plain": [
       "  0%|                                                                                                         …"
      ]
     },
     "metadata": {},
     "output_type": "display_data"
    },
    {
     "name": "stdout",
     "output_type": "stream",
     "text": [
      "/home/wmnlab/F/results/20240329_160006be6c_new_dataset_sync/dr_results/dr_20240329_1700005690/20240329_20213200000_e9df4863be54cded_adjust/\\home\\wmnlab\\F\\database\\2024-03-19\\UDP_Bandlock_9S_Phone_BR\\sm01\\#02\\data\\udp_dnlk_loss_latency\\home\\wmnlab\\F\\database\\2024-03-19\\UDP_Bandlock_9S_Phone_BR\\sm03\\#02\\data\\udp_dnlk_loss_latency.csv\n",
      "46/72 /home/wmnlab/F/database/2024-03-19/UDP_Bandlock_9S_Phone_BR/sm01/#02/data/handover_info_log.csv\n",
      "46/72 /home/wmnlab/F/database/2024-03-19/UDP_Bandlock_9S_Phone_BR/sm01/#02/data/udp_dnlk_loss_latency.csv\n",
      "46/72 /home/wmnlab/F/database/2024-03-19/UDP_Bandlock_9S_Phone_BR/sm01/#02/data/udp_uplk_loss_latency.csv\n",
      "46/72 /home/wmnlab/F/database/2024-03-19/UDP_Bandlock_9S_Phone_BR/sm04/#02/data/handover_info_log.csv\n",
      "46/72 /home/wmnlab/F/database/2024-03-19/UDP_Bandlock_9S_Phone_BR/sm04/#02/data/udp_dnlk_loss_latency.csv\n",
      "46/72 /home/wmnlab/F/database/2024-03-19/UDP_Bandlock_9S_Phone_BR/sm04/#02/data/udp_uplk_loss_latency.csv\n"
     ]
    },
    {
     "data": {
      "application/vnd.jupyter.widget-view+json": {
       "model_id": "f0097a31d82e4f89b5bd79996da4199d",
       "version_major": 2,
       "version_minor": 0
      },
      "text/plain": [
       "  0%|                                                                                                         …"
      ]
     },
     "metadata": {},
     "output_type": "display_data"
    },
    {
     "name": "stdout",
     "output_type": "stream",
     "text": [
      "/home/wmnlab/F/results/20240329_160006be6c_new_dataset_sync/dr_results/dr_20240329_1700005690/20240329_20213200000_e9df4863be54cded_adjust/\\home\\wmnlab\\F\\database\\2024-03-19\\UDP_Bandlock_9S_Phone_BR\\sm01\\#02\\data\\udp_dnlk_loss_latency\\home\\wmnlab\\F\\database\\2024-03-19\\UDP_Bandlock_9S_Phone_BR\\sm04\\#02\\data\\udp_dnlk_loss_latency.csv\n",
      "47/72 /home/wmnlab/F/database/2024-03-19/UDP_Bandlock_9S_Phone_BR/sm01/#02/data/handover_info_log.csv\n",
      "47/72 /home/wmnlab/F/database/2024-03-19/UDP_Bandlock_9S_Phone_BR/sm01/#02/data/udp_dnlk_loss_latency.csv\n",
      "47/72 /home/wmnlab/F/database/2024-03-19/UDP_Bandlock_9S_Phone_BR/sm01/#02/data/udp_uplk_loss_latency.csv\n",
      "47/72 /home/wmnlab/F/database/2024-03-19/UDP_Bandlock_9S_Phone_BR/sm05/#02/data/handover_info_log.csv\n",
      "47/72 /home/wmnlab/F/database/2024-03-19/UDP_Bandlock_9S_Phone_BR/sm05/#02/data/udp_dnlk_loss_latency.csv\n",
      "47/72 /home/wmnlab/F/database/2024-03-19/UDP_Bandlock_9S_Phone_BR/sm05/#02/data/udp_uplk_loss_latency.csv\n"
     ]
    },
    {
     "data": {
      "application/vnd.jupyter.widget-view+json": {
       "model_id": "13f22edff22f4636922955f9fccb1fea",
       "version_major": 2,
       "version_minor": 0
      },
      "text/plain": [
       "  0%|                                                                                                         …"
      ]
     },
     "metadata": {},
     "output_type": "display_data"
    },
    {
     "name": "stdout",
     "output_type": "stream",
     "text": [
      "/home/wmnlab/F/results/20240329_160006be6c_new_dataset_sync/dr_results/dr_20240329_1700005690/20240329_20213200000_e9df4863be54cded_adjust/\\home\\wmnlab\\F\\database\\2024-03-19\\UDP_Bandlock_9S_Phone_BR\\sm01\\#02\\data\\udp_dnlk_loss_latency\\home\\wmnlab\\F\\database\\2024-03-19\\UDP_Bandlock_9S_Phone_BR\\sm05\\#02\\data\\udp_dnlk_loss_latency.csv\n",
      "48/72 /home/wmnlab/F/database/2024-03-19/UDP_Bandlock_9S_Phone_BR/sm01/#02/data/handover_info_log.csv\n",
      "48/72 /home/wmnlab/F/database/2024-03-19/UDP_Bandlock_9S_Phone_BR/sm01/#02/data/udp_dnlk_loss_latency.csv\n",
      "48/72 /home/wmnlab/F/database/2024-03-19/UDP_Bandlock_9S_Phone_BR/sm01/#02/data/udp_uplk_loss_latency.csv\n",
      "48/72 /home/wmnlab/F/database/2024-03-19/UDP_Bandlock_9S_Phone_BR/sm06/#02/data/handover_info_log.csv\n",
      "48/72 /home/wmnlab/F/database/2024-03-19/UDP_Bandlock_9S_Phone_BR/sm06/#02/data/udp_dnlk_loss_latency.csv\n",
      "48/72 /home/wmnlab/F/database/2024-03-19/UDP_Bandlock_9S_Phone_BR/sm06/#02/data/udp_uplk_loss_latency.csv\n"
     ]
    },
    {
     "data": {
      "application/vnd.jupyter.widget-view+json": {
       "model_id": "0665ee4921bd4e809113167d519b2d71",
       "version_major": 2,
       "version_minor": 0
      },
      "text/plain": [
       "  0%|                                                                                                         …"
      ]
     },
     "metadata": {},
     "output_type": "display_data"
    },
    {
     "name": "stdout",
     "output_type": "stream",
     "text": [
      "/home/wmnlab/F/results/20240329_160006be6c_new_dataset_sync/dr_results/dr_20240329_1700005690/20240329_20213200000_e9df4863be54cded_adjust/\\home\\wmnlab\\F\\database\\2024-03-19\\UDP_Bandlock_9S_Phone_BR\\sm01\\#02\\data\\udp_dnlk_loss_latency\\home\\wmnlab\\F\\database\\2024-03-19\\UDP_Bandlock_9S_Phone_BR\\sm06\\#02\\data\\udp_dnlk_loss_latency.csv\n",
      "49/72 /home/wmnlab/F/database/2024-03-19/UDP_Bandlock_9S_Phone_BR/sm01/#02/data/handover_info_log.csv\n",
      "49/72 /home/wmnlab/F/database/2024-03-19/UDP_Bandlock_9S_Phone_BR/sm01/#02/data/udp_dnlk_loss_latency.csv\n",
      "49/72 /home/wmnlab/F/database/2024-03-19/UDP_Bandlock_9S_Phone_BR/sm01/#02/data/udp_uplk_loss_latency.csv\n",
      "49/72 /home/wmnlab/F/database/2024-03-19/UDP_Bandlock_9S_Phone_BR/sm07/#02/data/handover_info_log.csv\n",
      "49/72 /home/wmnlab/F/database/2024-03-19/UDP_Bandlock_9S_Phone_BR/sm07/#02/data/udp_dnlk_loss_latency.csv\n",
      "49/72 /home/wmnlab/F/database/2024-03-19/UDP_Bandlock_9S_Phone_BR/sm07/#02/data/udp_uplk_loss_latency.csv\n"
     ]
    },
    {
     "data": {
      "application/vnd.jupyter.widget-view+json": {
       "model_id": "6ca64b1458074d4f8e5eb36024877d9d",
       "version_major": 2,
       "version_minor": 0
      },
      "text/plain": [
       "  0%|                                                                                                         …"
      ]
     },
     "metadata": {},
     "output_type": "display_data"
    },
    {
     "name": "stdout",
     "output_type": "stream",
     "text": [
      "/home/wmnlab/F/results/20240329_160006be6c_new_dataset_sync/dr_results/dr_20240329_1700005690/20240329_20213200000_e9df4863be54cded_adjust/\\home\\wmnlab\\F\\database\\2024-03-19\\UDP_Bandlock_9S_Phone_BR\\sm01\\#02\\data\\udp_dnlk_loss_latency\\home\\wmnlab\\F\\database\\2024-03-19\\UDP_Bandlock_9S_Phone_BR\\sm07\\#02\\data\\udp_dnlk_loss_latency.csv\n",
      "50/72 /home/wmnlab/F/database/2024-03-19/UDP_Bandlock_9S_Phone_BR/sm01/#02/data/handover_info_log.csv\n",
      "50/72 /home/wmnlab/F/database/2024-03-19/UDP_Bandlock_9S_Phone_BR/sm01/#02/data/udp_dnlk_loss_latency.csv\n",
      "50/72 /home/wmnlab/F/database/2024-03-19/UDP_Bandlock_9S_Phone_BR/sm01/#02/data/udp_uplk_loss_latency.csv\n",
      "50/72 /home/wmnlab/F/database/2024-03-19/UDP_Bandlock_9S_Phone_BR/sm08/#02/data/handover_info_log.csv\n",
      "50/72 /home/wmnlab/F/database/2024-03-19/UDP_Bandlock_9S_Phone_BR/sm08/#02/data/udp_dnlk_loss_latency.csv\n",
      "50/72 /home/wmnlab/F/database/2024-03-19/UDP_Bandlock_9S_Phone_BR/sm08/#02/data/udp_uplk_loss_latency.csv\n"
     ]
    },
    {
     "data": {
      "application/vnd.jupyter.widget-view+json": {
       "model_id": "6a1bd372f3c548ada29bb0d6b8623b1a",
       "version_major": 2,
       "version_minor": 0
      },
      "text/plain": [
       "  0%|                                                                                                         …"
      ]
     },
     "metadata": {},
     "output_type": "display_data"
    },
    {
     "name": "stdout",
     "output_type": "stream",
     "text": [
      "/home/wmnlab/F/results/20240329_160006be6c_new_dataset_sync/dr_results/dr_20240329_1700005690/20240329_20213200000_e9df4863be54cded_adjust/\\home\\wmnlab\\F\\database\\2024-03-19\\UDP_Bandlock_9S_Phone_BR\\sm01\\#02\\data\\udp_dnlk_loss_latency\\home\\wmnlab\\F\\database\\2024-03-19\\UDP_Bandlock_9S_Phone_BR\\sm08\\#02\\data\\udp_dnlk_loss_latency.csv\n",
      "51/72 /home/wmnlab/F/database/2024-03-19/UDP_Bandlock_9S_Phone_BR/sm02/#02/data/handover_info_log.csv\n",
      "51/72 /home/wmnlab/F/database/2024-03-19/UDP_Bandlock_9S_Phone_BR/sm02/#02/data/udp_dnlk_loss_latency.csv\n",
      "51/72 /home/wmnlab/F/database/2024-03-19/UDP_Bandlock_9S_Phone_BR/sm02/#02/data/udp_uplk_loss_latency.csv\n",
      "51/72 /home/wmnlab/F/database/2024-03-19/UDP_Bandlock_9S_Phone_BR/sm03/#02/data/handover_info_log.csv\n",
      "51/72 /home/wmnlab/F/database/2024-03-19/UDP_Bandlock_9S_Phone_BR/sm03/#02/data/udp_dnlk_loss_latency.csv\n",
      "51/72 /home/wmnlab/F/database/2024-03-19/UDP_Bandlock_9S_Phone_BR/sm03/#02/data/udp_uplk_loss_latency.csv\n"
     ]
    },
    {
     "data": {
      "application/vnd.jupyter.widget-view+json": {
       "model_id": "3f10f80ba4ff4192829923836b6469c2",
       "version_major": 2,
       "version_minor": 0
      },
      "text/plain": [
       "  0%|                                                                                                         …"
      ]
     },
     "metadata": {},
     "output_type": "display_data"
    },
    {
     "name": "stdout",
     "output_type": "stream",
     "text": [
      "/home/wmnlab/F/results/20240329_160006be6c_new_dataset_sync/dr_results/dr_20240329_1700005690/20240329_20213200000_e9df4863be54cded_adjust/\\home\\wmnlab\\F\\database\\2024-03-19\\UDP_Bandlock_9S_Phone_BR\\sm02\\#02\\data\\udp_dnlk_loss_latency\\home\\wmnlab\\F\\database\\2024-03-19\\UDP_Bandlock_9S_Phone_BR\\sm03\\#02\\data\\udp_dnlk_loss_latency.csv\n",
      "52/72 /home/wmnlab/F/database/2024-03-19/UDP_Bandlock_9S_Phone_BR/sm02/#02/data/handover_info_log.csv\n",
      "52/72 /home/wmnlab/F/database/2024-03-19/UDP_Bandlock_9S_Phone_BR/sm02/#02/data/udp_dnlk_loss_latency.csv\n",
      "52/72 /home/wmnlab/F/database/2024-03-19/UDP_Bandlock_9S_Phone_BR/sm02/#02/data/udp_uplk_loss_latency.csv\n",
      "52/72 /home/wmnlab/F/database/2024-03-19/UDP_Bandlock_9S_Phone_BR/sm04/#02/data/handover_info_log.csv\n",
      "52/72 /home/wmnlab/F/database/2024-03-19/UDP_Bandlock_9S_Phone_BR/sm04/#02/data/udp_dnlk_loss_latency.csv\n",
      "52/72 /home/wmnlab/F/database/2024-03-19/UDP_Bandlock_9S_Phone_BR/sm04/#02/data/udp_uplk_loss_latency.csv\n"
     ]
    },
    {
     "data": {
      "application/vnd.jupyter.widget-view+json": {
       "model_id": "1da074919b754fa891511ada28c627b6",
       "version_major": 2,
       "version_minor": 0
      },
      "text/plain": [
       "  0%|                                                                                                         …"
      ]
     },
     "metadata": {},
     "output_type": "display_data"
    },
    {
     "name": "stdout",
     "output_type": "stream",
     "text": [
      "/home/wmnlab/F/results/20240329_160006be6c_new_dataset_sync/dr_results/dr_20240329_1700005690/20240329_20213200000_e9df4863be54cded_adjust/\\home\\wmnlab\\F\\database\\2024-03-19\\UDP_Bandlock_9S_Phone_BR\\sm02\\#02\\data\\udp_dnlk_loss_latency\\home\\wmnlab\\F\\database\\2024-03-19\\UDP_Bandlock_9S_Phone_BR\\sm04\\#02\\data\\udp_dnlk_loss_latency.csv\n",
      "53/72 /home/wmnlab/F/database/2024-03-19/UDP_Bandlock_9S_Phone_BR/sm02/#02/data/handover_info_log.csv\n",
      "53/72 /home/wmnlab/F/database/2024-03-19/UDP_Bandlock_9S_Phone_BR/sm02/#02/data/udp_dnlk_loss_latency.csv\n",
      "53/72 /home/wmnlab/F/database/2024-03-19/UDP_Bandlock_9S_Phone_BR/sm02/#02/data/udp_uplk_loss_latency.csv\n",
      "53/72 /home/wmnlab/F/database/2024-03-19/UDP_Bandlock_9S_Phone_BR/sm05/#02/data/handover_info_log.csv\n",
      "53/72 /home/wmnlab/F/database/2024-03-19/UDP_Bandlock_9S_Phone_BR/sm05/#02/data/udp_dnlk_loss_latency.csv\n",
      "53/72 /home/wmnlab/F/database/2024-03-19/UDP_Bandlock_9S_Phone_BR/sm05/#02/data/udp_uplk_loss_latency.csv\n"
     ]
    },
    {
     "data": {
      "application/vnd.jupyter.widget-view+json": {
       "model_id": "c64aa2885e474c648e1826ef85baceb5",
       "version_major": 2,
       "version_minor": 0
      },
      "text/plain": [
       "  0%|                                                                                                         …"
      ]
     },
     "metadata": {},
     "output_type": "display_data"
    },
    {
     "name": "stdout",
     "output_type": "stream",
     "text": [
      "/home/wmnlab/F/results/20240329_160006be6c_new_dataset_sync/dr_results/dr_20240329_1700005690/20240329_20213200000_e9df4863be54cded_adjust/\\home\\wmnlab\\F\\database\\2024-03-19\\UDP_Bandlock_9S_Phone_BR\\sm02\\#02\\data\\udp_dnlk_loss_latency\\home\\wmnlab\\F\\database\\2024-03-19\\UDP_Bandlock_9S_Phone_BR\\sm05\\#02\\data\\udp_dnlk_loss_latency.csv\n",
      "54/72 /home/wmnlab/F/database/2024-03-19/UDP_Bandlock_9S_Phone_BR/sm02/#02/data/handover_info_log.csv\n",
      "54/72 /home/wmnlab/F/database/2024-03-19/UDP_Bandlock_9S_Phone_BR/sm02/#02/data/udp_dnlk_loss_latency.csv\n",
      "54/72 /home/wmnlab/F/database/2024-03-19/UDP_Bandlock_9S_Phone_BR/sm02/#02/data/udp_uplk_loss_latency.csv\n",
      "54/72 /home/wmnlab/F/database/2024-03-19/UDP_Bandlock_9S_Phone_BR/sm06/#02/data/handover_info_log.csv\n",
      "54/72 /home/wmnlab/F/database/2024-03-19/UDP_Bandlock_9S_Phone_BR/sm06/#02/data/udp_dnlk_loss_latency.csv\n",
      "54/72 /home/wmnlab/F/database/2024-03-19/UDP_Bandlock_9S_Phone_BR/sm06/#02/data/udp_uplk_loss_latency.csv\n"
     ]
    },
    {
     "data": {
      "application/vnd.jupyter.widget-view+json": {
       "model_id": "7ceb7915e55441ff9c3590cd67626b79",
       "version_major": 2,
       "version_minor": 0
      },
      "text/plain": [
       "  0%|                                                                                                         …"
      ]
     },
     "metadata": {},
     "output_type": "display_data"
    },
    {
     "name": "stdout",
     "output_type": "stream",
     "text": [
      "/home/wmnlab/F/results/20240329_160006be6c_new_dataset_sync/dr_results/dr_20240329_1700005690/20240329_20213200000_e9df4863be54cded_adjust/\\home\\wmnlab\\F\\database\\2024-03-19\\UDP_Bandlock_9S_Phone_BR\\sm02\\#02\\data\\udp_dnlk_loss_latency\\home\\wmnlab\\F\\database\\2024-03-19\\UDP_Bandlock_9S_Phone_BR\\sm06\\#02\\data\\udp_dnlk_loss_latency.csv\n",
      "55/72 /home/wmnlab/F/database/2024-03-19/UDP_Bandlock_9S_Phone_BR/sm02/#02/data/handover_info_log.csv\n",
      "55/72 /home/wmnlab/F/database/2024-03-19/UDP_Bandlock_9S_Phone_BR/sm02/#02/data/udp_dnlk_loss_latency.csv\n",
      "55/72 /home/wmnlab/F/database/2024-03-19/UDP_Bandlock_9S_Phone_BR/sm02/#02/data/udp_uplk_loss_latency.csv\n",
      "55/72 /home/wmnlab/F/database/2024-03-19/UDP_Bandlock_9S_Phone_BR/sm07/#02/data/handover_info_log.csv\n",
      "55/72 /home/wmnlab/F/database/2024-03-19/UDP_Bandlock_9S_Phone_BR/sm07/#02/data/udp_dnlk_loss_latency.csv\n",
      "55/72 /home/wmnlab/F/database/2024-03-19/UDP_Bandlock_9S_Phone_BR/sm07/#02/data/udp_uplk_loss_latency.csv\n"
     ]
    },
    {
     "data": {
      "application/vnd.jupyter.widget-view+json": {
       "model_id": "5a80399ccffe444f8f443bd1c8307441",
       "version_major": 2,
       "version_minor": 0
      },
      "text/plain": [
       "  0%|                                                                                                         …"
      ]
     },
     "metadata": {},
     "output_type": "display_data"
    },
    {
     "name": "stdout",
     "output_type": "stream",
     "text": [
      "/home/wmnlab/F/results/20240329_160006be6c_new_dataset_sync/dr_results/dr_20240329_1700005690/20240329_20213200000_e9df4863be54cded_adjust/\\home\\wmnlab\\F\\database\\2024-03-19\\UDP_Bandlock_9S_Phone_BR\\sm02\\#02\\data\\udp_dnlk_loss_latency\\home\\wmnlab\\F\\database\\2024-03-19\\UDP_Bandlock_9S_Phone_BR\\sm07\\#02\\data\\udp_dnlk_loss_latency.csv\n",
      "56/72 /home/wmnlab/F/database/2024-03-19/UDP_Bandlock_9S_Phone_BR/sm02/#02/data/handover_info_log.csv\n",
      "56/72 /home/wmnlab/F/database/2024-03-19/UDP_Bandlock_9S_Phone_BR/sm02/#02/data/udp_dnlk_loss_latency.csv\n",
      "56/72 /home/wmnlab/F/database/2024-03-19/UDP_Bandlock_9S_Phone_BR/sm02/#02/data/udp_uplk_loss_latency.csv\n",
      "56/72 /home/wmnlab/F/database/2024-03-19/UDP_Bandlock_9S_Phone_BR/sm08/#02/data/handover_info_log.csv\n",
      "56/72 /home/wmnlab/F/database/2024-03-19/UDP_Bandlock_9S_Phone_BR/sm08/#02/data/udp_dnlk_loss_latency.csv\n",
      "56/72 /home/wmnlab/F/database/2024-03-19/UDP_Bandlock_9S_Phone_BR/sm08/#02/data/udp_uplk_loss_latency.csv\n"
     ]
    },
    {
     "data": {
      "application/vnd.jupyter.widget-view+json": {
       "model_id": "facacc3357bb44578788781f22d8796f",
       "version_major": 2,
       "version_minor": 0
      },
      "text/plain": [
       "  0%|                                                                                                         …"
      ]
     },
     "metadata": {},
     "output_type": "display_data"
    },
    {
     "name": "stdout",
     "output_type": "stream",
     "text": [
      "/home/wmnlab/F/results/20240329_160006be6c_new_dataset_sync/dr_results/dr_20240329_1700005690/20240329_20213200000_e9df4863be54cded_adjust/\\home\\wmnlab\\F\\database\\2024-03-19\\UDP_Bandlock_9S_Phone_BR\\sm02\\#02\\data\\udp_dnlk_loss_latency\\home\\wmnlab\\F\\database\\2024-03-19\\UDP_Bandlock_9S_Phone_BR\\sm08\\#02\\data\\udp_dnlk_loss_latency.csv\n",
      "57/72 /home/wmnlab/F/database/2024-03-19/UDP_Bandlock_9S_Phone_BR/sm03/#02/data/handover_info_log.csv\n",
      "57/72 /home/wmnlab/F/database/2024-03-19/UDP_Bandlock_9S_Phone_BR/sm03/#02/data/udp_dnlk_loss_latency.csv\n",
      "57/72 /home/wmnlab/F/database/2024-03-19/UDP_Bandlock_9S_Phone_BR/sm03/#02/data/udp_uplk_loss_latency.csv\n",
      "57/72 /home/wmnlab/F/database/2024-03-19/UDP_Bandlock_9S_Phone_BR/sm04/#02/data/handover_info_log.csv\n",
      "57/72 /home/wmnlab/F/database/2024-03-19/UDP_Bandlock_9S_Phone_BR/sm04/#02/data/udp_dnlk_loss_latency.csv\n",
      "57/72 /home/wmnlab/F/database/2024-03-19/UDP_Bandlock_9S_Phone_BR/sm04/#02/data/udp_uplk_loss_latency.csv\n"
     ]
    },
    {
     "data": {
      "application/vnd.jupyter.widget-view+json": {
       "model_id": "cf739ea8701c4e208d601c18463d99d8",
       "version_major": 2,
       "version_minor": 0
      },
      "text/plain": [
       "  0%|                                                                                                         …"
      ]
     },
     "metadata": {},
     "output_type": "display_data"
    },
    {
     "name": "stdout",
     "output_type": "stream",
     "text": [
      "/home/wmnlab/F/results/20240329_160006be6c_new_dataset_sync/dr_results/dr_20240329_1700005690/20240329_20213200000_e9df4863be54cded_adjust/\\home\\wmnlab\\F\\database\\2024-03-19\\UDP_Bandlock_9S_Phone_BR\\sm03\\#02\\data\\udp_dnlk_loss_latency\\home\\wmnlab\\F\\database\\2024-03-19\\UDP_Bandlock_9S_Phone_BR\\sm04\\#02\\data\\udp_dnlk_loss_latency.csv\n",
      "58/72 /home/wmnlab/F/database/2024-03-19/UDP_Bandlock_9S_Phone_BR/sm03/#02/data/handover_info_log.csv\n",
      "58/72 /home/wmnlab/F/database/2024-03-19/UDP_Bandlock_9S_Phone_BR/sm03/#02/data/udp_dnlk_loss_latency.csv\n",
      "58/72 /home/wmnlab/F/database/2024-03-19/UDP_Bandlock_9S_Phone_BR/sm03/#02/data/udp_uplk_loss_latency.csv\n",
      "58/72 /home/wmnlab/F/database/2024-03-19/UDP_Bandlock_9S_Phone_BR/sm05/#02/data/handover_info_log.csv\n",
      "58/72 /home/wmnlab/F/database/2024-03-19/UDP_Bandlock_9S_Phone_BR/sm05/#02/data/udp_dnlk_loss_latency.csv\n",
      "58/72 /home/wmnlab/F/database/2024-03-19/UDP_Bandlock_9S_Phone_BR/sm05/#02/data/udp_uplk_loss_latency.csv\n"
     ]
    },
    {
     "data": {
      "application/vnd.jupyter.widget-view+json": {
       "model_id": "8edbc84b0eef47bbab7b718b13cf02c9",
       "version_major": 2,
       "version_minor": 0
      },
      "text/plain": [
       "  0%|                                                                                                         …"
      ]
     },
     "metadata": {},
     "output_type": "display_data"
    },
    {
     "name": "stdout",
     "output_type": "stream",
     "text": [
      "/home/wmnlab/F/results/20240329_160006be6c_new_dataset_sync/dr_results/dr_20240329_1700005690/20240329_20213200000_e9df4863be54cded_adjust/\\home\\wmnlab\\F\\database\\2024-03-19\\UDP_Bandlock_9S_Phone_BR\\sm03\\#02\\data\\udp_dnlk_loss_latency\\home\\wmnlab\\F\\database\\2024-03-19\\UDP_Bandlock_9S_Phone_BR\\sm05\\#02\\data\\udp_dnlk_loss_latency.csv\n",
      "59/72 /home/wmnlab/F/database/2024-03-19/UDP_Bandlock_9S_Phone_BR/sm03/#02/data/handover_info_log.csv\n",
      "59/72 /home/wmnlab/F/database/2024-03-19/UDP_Bandlock_9S_Phone_BR/sm03/#02/data/udp_dnlk_loss_latency.csv\n",
      "59/72 /home/wmnlab/F/database/2024-03-19/UDP_Bandlock_9S_Phone_BR/sm03/#02/data/udp_uplk_loss_latency.csv\n",
      "59/72 /home/wmnlab/F/database/2024-03-19/UDP_Bandlock_9S_Phone_BR/sm06/#02/data/handover_info_log.csv\n",
      "59/72 /home/wmnlab/F/database/2024-03-19/UDP_Bandlock_9S_Phone_BR/sm06/#02/data/udp_dnlk_loss_latency.csv\n",
      "59/72 /home/wmnlab/F/database/2024-03-19/UDP_Bandlock_9S_Phone_BR/sm06/#02/data/udp_uplk_loss_latency.csv\n"
     ]
    },
    {
     "data": {
      "application/vnd.jupyter.widget-view+json": {
       "model_id": "f913d90fa356409d954ef6abec57db7e",
       "version_major": 2,
       "version_minor": 0
      },
      "text/plain": [
       "  0%|                                                                                                         …"
      ]
     },
     "metadata": {},
     "output_type": "display_data"
    },
    {
     "name": "stdout",
     "output_type": "stream",
     "text": [
      "/home/wmnlab/F/results/20240329_160006be6c_new_dataset_sync/dr_results/dr_20240329_1700005690/20240329_20213200000_e9df4863be54cded_adjust/\\home\\wmnlab\\F\\database\\2024-03-19\\UDP_Bandlock_9S_Phone_BR\\sm03\\#02\\data\\udp_dnlk_loss_latency\\home\\wmnlab\\F\\database\\2024-03-19\\UDP_Bandlock_9S_Phone_BR\\sm06\\#02\\data\\udp_dnlk_loss_latency.csv\n",
      "60/72 /home/wmnlab/F/database/2024-03-19/UDP_Bandlock_9S_Phone_BR/sm03/#02/data/handover_info_log.csv\n",
      "60/72 /home/wmnlab/F/database/2024-03-19/UDP_Bandlock_9S_Phone_BR/sm03/#02/data/udp_dnlk_loss_latency.csv\n",
      "60/72 /home/wmnlab/F/database/2024-03-19/UDP_Bandlock_9S_Phone_BR/sm03/#02/data/udp_uplk_loss_latency.csv\n",
      "60/72 /home/wmnlab/F/database/2024-03-19/UDP_Bandlock_9S_Phone_BR/sm07/#02/data/handover_info_log.csv\n",
      "60/72 /home/wmnlab/F/database/2024-03-19/UDP_Bandlock_9S_Phone_BR/sm07/#02/data/udp_dnlk_loss_latency.csv\n",
      "60/72 /home/wmnlab/F/database/2024-03-19/UDP_Bandlock_9S_Phone_BR/sm07/#02/data/udp_uplk_loss_latency.csv\n"
     ]
    },
    {
     "data": {
      "application/vnd.jupyter.widget-view+json": {
       "model_id": "8bf8fefd5a4b45ff84154b41b19d7b72",
       "version_major": 2,
       "version_minor": 0
      },
      "text/plain": [
       "  0%|                                                                                                         …"
      ]
     },
     "metadata": {},
     "output_type": "display_data"
    },
    {
     "name": "stdout",
     "output_type": "stream",
     "text": [
      "/home/wmnlab/F/results/20240329_160006be6c_new_dataset_sync/dr_results/dr_20240329_1700005690/20240329_20213200000_e9df4863be54cded_adjust/\\home\\wmnlab\\F\\database\\2024-03-19\\UDP_Bandlock_9S_Phone_BR\\sm03\\#02\\data\\udp_dnlk_loss_latency\\home\\wmnlab\\F\\database\\2024-03-19\\UDP_Bandlock_9S_Phone_BR\\sm07\\#02\\data\\udp_dnlk_loss_latency.csv\n",
      "61/72 /home/wmnlab/F/database/2024-03-19/UDP_Bandlock_9S_Phone_BR/sm03/#02/data/handover_info_log.csv\n",
      "61/72 /home/wmnlab/F/database/2024-03-19/UDP_Bandlock_9S_Phone_BR/sm03/#02/data/udp_dnlk_loss_latency.csv\n",
      "61/72 /home/wmnlab/F/database/2024-03-19/UDP_Bandlock_9S_Phone_BR/sm03/#02/data/udp_uplk_loss_latency.csv\n",
      "61/72 /home/wmnlab/F/database/2024-03-19/UDP_Bandlock_9S_Phone_BR/sm08/#02/data/handover_info_log.csv\n",
      "61/72 /home/wmnlab/F/database/2024-03-19/UDP_Bandlock_9S_Phone_BR/sm08/#02/data/udp_dnlk_loss_latency.csv\n",
      "61/72 /home/wmnlab/F/database/2024-03-19/UDP_Bandlock_9S_Phone_BR/sm08/#02/data/udp_uplk_loss_latency.csv\n"
     ]
    },
    {
     "data": {
      "application/vnd.jupyter.widget-view+json": {
       "model_id": "6d85eb2e5c1f4777a11f5f2498a19059",
       "version_major": 2,
       "version_minor": 0
      },
      "text/plain": [
       "  0%|                                                                                                         …"
      ]
     },
     "metadata": {},
     "output_type": "display_data"
    },
    {
     "name": "stdout",
     "output_type": "stream",
     "text": [
      "/home/wmnlab/F/results/20240329_160006be6c_new_dataset_sync/dr_results/dr_20240329_1700005690/20240329_20213200000_e9df4863be54cded_adjust/\\home\\wmnlab\\F\\database\\2024-03-19\\UDP_Bandlock_9S_Phone_BR\\sm03\\#02\\data\\udp_dnlk_loss_latency\\home\\wmnlab\\F\\database\\2024-03-19\\UDP_Bandlock_9S_Phone_BR\\sm08\\#02\\data\\udp_dnlk_loss_latency.csv\n",
      "62/72 /home/wmnlab/F/database/2024-03-19/UDP_Bandlock_9S_Phone_BR/sm04/#02/data/handover_info_log.csv\n",
      "62/72 /home/wmnlab/F/database/2024-03-19/UDP_Bandlock_9S_Phone_BR/sm04/#02/data/udp_dnlk_loss_latency.csv\n",
      "62/72 /home/wmnlab/F/database/2024-03-19/UDP_Bandlock_9S_Phone_BR/sm04/#02/data/udp_uplk_loss_latency.csv\n",
      "62/72 /home/wmnlab/F/database/2024-03-19/UDP_Bandlock_9S_Phone_BR/sm05/#02/data/handover_info_log.csv\n",
      "62/72 /home/wmnlab/F/database/2024-03-19/UDP_Bandlock_9S_Phone_BR/sm05/#02/data/udp_dnlk_loss_latency.csv\n",
      "62/72 /home/wmnlab/F/database/2024-03-19/UDP_Bandlock_9S_Phone_BR/sm05/#02/data/udp_uplk_loss_latency.csv\n"
     ]
    },
    {
     "data": {
      "application/vnd.jupyter.widget-view+json": {
       "model_id": "80d9b02a878647a18650323f22019fe4",
       "version_major": 2,
       "version_minor": 0
      },
      "text/plain": [
       "  0%|                                                                                                         …"
      ]
     },
     "metadata": {},
     "output_type": "display_data"
    },
    {
     "name": "stdout",
     "output_type": "stream",
     "text": [
      "/home/wmnlab/F/results/20240329_160006be6c_new_dataset_sync/dr_results/dr_20240329_1700005690/20240329_20213200000_e9df4863be54cded_adjust/\\home\\wmnlab\\F\\database\\2024-03-19\\UDP_Bandlock_9S_Phone_BR\\sm04\\#02\\data\\udp_dnlk_loss_latency\\home\\wmnlab\\F\\database\\2024-03-19\\UDP_Bandlock_9S_Phone_BR\\sm05\\#02\\data\\udp_dnlk_loss_latency.csv\n",
      "63/72 /home/wmnlab/F/database/2024-03-19/UDP_Bandlock_9S_Phone_BR/sm04/#02/data/handover_info_log.csv\n",
      "63/72 /home/wmnlab/F/database/2024-03-19/UDP_Bandlock_9S_Phone_BR/sm04/#02/data/udp_dnlk_loss_latency.csv\n",
      "63/72 /home/wmnlab/F/database/2024-03-19/UDP_Bandlock_9S_Phone_BR/sm04/#02/data/udp_uplk_loss_latency.csv\n",
      "63/72 /home/wmnlab/F/database/2024-03-19/UDP_Bandlock_9S_Phone_BR/sm06/#02/data/handover_info_log.csv\n",
      "63/72 /home/wmnlab/F/database/2024-03-19/UDP_Bandlock_9S_Phone_BR/sm06/#02/data/udp_dnlk_loss_latency.csv\n",
      "63/72 /home/wmnlab/F/database/2024-03-19/UDP_Bandlock_9S_Phone_BR/sm06/#02/data/udp_uplk_loss_latency.csv\n"
     ]
    },
    {
     "data": {
      "application/vnd.jupyter.widget-view+json": {
       "model_id": "33bf59e3d5004375a66554d888b67c52",
       "version_major": 2,
       "version_minor": 0
      },
      "text/plain": [
       "  0%|                                                                                                         …"
      ]
     },
     "metadata": {},
     "output_type": "display_data"
    },
    {
     "name": "stdout",
     "output_type": "stream",
     "text": [
      "/home/wmnlab/F/results/20240329_160006be6c_new_dataset_sync/dr_results/dr_20240329_1700005690/20240329_20213200000_e9df4863be54cded_adjust/\\home\\wmnlab\\F\\database\\2024-03-19\\UDP_Bandlock_9S_Phone_BR\\sm04\\#02\\data\\udp_dnlk_loss_latency\\home\\wmnlab\\F\\database\\2024-03-19\\UDP_Bandlock_9S_Phone_BR\\sm06\\#02\\data\\udp_dnlk_loss_latency.csv\n",
      "64/72 /home/wmnlab/F/database/2024-03-19/UDP_Bandlock_9S_Phone_BR/sm04/#02/data/handover_info_log.csv\n",
      "64/72 /home/wmnlab/F/database/2024-03-19/UDP_Bandlock_9S_Phone_BR/sm04/#02/data/udp_dnlk_loss_latency.csv\n",
      "64/72 /home/wmnlab/F/database/2024-03-19/UDP_Bandlock_9S_Phone_BR/sm04/#02/data/udp_uplk_loss_latency.csv\n",
      "64/72 /home/wmnlab/F/database/2024-03-19/UDP_Bandlock_9S_Phone_BR/sm07/#02/data/handover_info_log.csv\n",
      "64/72 /home/wmnlab/F/database/2024-03-19/UDP_Bandlock_9S_Phone_BR/sm07/#02/data/udp_dnlk_loss_latency.csv\n",
      "64/72 /home/wmnlab/F/database/2024-03-19/UDP_Bandlock_9S_Phone_BR/sm07/#02/data/udp_uplk_loss_latency.csv\n"
     ]
    },
    {
     "data": {
      "application/vnd.jupyter.widget-view+json": {
       "model_id": "855b7d2f58e0432cb953b2256a9c2d48",
       "version_major": 2,
       "version_minor": 0
      },
      "text/plain": [
       "  0%|                                                                                                         …"
      ]
     },
     "metadata": {},
     "output_type": "display_data"
    },
    {
     "name": "stdout",
     "output_type": "stream",
     "text": [
      "/home/wmnlab/F/results/20240329_160006be6c_new_dataset_sync/dr_results/dr_20240329_1700005690/20240329_20213200000_e9df4863be54cded_adjust/\\home\\wmnlab\\F\\database\\2024-03-19\\UDP_Bandlock_9S_Phone_BR\\sm04\\#02\\data\\udp_dnlk_loss_latency\\home\\wmnlab\\F\\database\\2024-03-19\\UDP_Bandlock_9S_Phone_BR\\sm07\\#02\\data\\udp_dnlk_loss_latency.csv\n",
      "65/72 /home/wmnlab/F/database/2024-03-19/UDP_Bandlock_9S_Phone_BR/sm04/#02/data/handover_info_log.csv\n",
      "65/72 /home/wmnlab/F/database/2024-03-19/UDP_Bandlock_9S_Phone_BR/sm04/#02/data/udp_dnlk_loss_latency.csv\n",
      "65/72 /home/wmnlab/F/database/2024-03-19/UDP_Bandlock_9S_Phone_BR/sm04/#02/data/udp_uplk_loss_latency.csv\n",
      "65/72 /home/wmnlab/F/database/2024-03-19/UDP_Bandlock_9S_Phone_BR/sm08/#02/data/handover_info_log.csv\n",
      "65/72 /home/wmnlab/F/database/2024-03-19/UDP_Bandlock_9S_Phone_BR/sm08/#02/data/udp_dnlk_loss_latency.csv\n",
      "65/72 /home/wmnlab/F/database/2024-03-19/UDP_Bandlock_9S_Phone_BR/sm08/#02/data/udp_uplk_loss_latency.csv\n"
     ]
    },
    {
     "data": {
      "application/vnd.jupyter.widget-view+json": {
       "model_id": "65c5741fe1fa4442ab236c38f598ea31",
       "version_major": 2,
       "version_minor": 0
      },
      "text/plain": [
       "  0%|                                                                                                         …"
      ]
     },
     "metadata": {},
     "output_type": "display_data"
    },
    {
     "name": "stdout",
     "output_type": "stream",
     "text": [
      "/home/wmnlab/F/results/20240329_160006be6c_new_dataset_sync/dr_results/dr_20240329_1700005690/20240329_20213200000_e9df4863be54cded_adjust/\\home\\wmnlab\\F\\database\\2024-03-19\\UDP_Bandlock_9S_Phone_BR\\sm04\\#02\\data\\udp_dnlk_loss_latency\\home\\wmnlab\\F\\database\\2024-03-19\\UDP_Bandlock_9S_Phone_BR\\sm08\\#02\\data\\udp_dnlk_loss_latency.csv\n",
      "66/72 /home/wmnlab/F/database/2024-03-19/UDP_Bandlock_9S_Phone_BR/sm05/#02/data/handover_info_log.csv\n",
      "66/72 /home/wmnlab/F/database/2024-03-19/UDP_Bandlock_9S_Phone_BR/sm05/#02/data/udp_dnlk_loss_latency.csv\n",
      "66/72 /home/wmnlab/F/database/2024-03-19/UDP_Bandlock_9S_Phone_BR/sm05/#02/data/udp_uplk_loss_latency.csv\n",
      "66/72 /home/wmnlab/F/database/2024-03-19/UDP_Bandlock_9S_Phone_BR/sm06/#02/data/handover_info_log.csv\n",
      "66/72 /home/wmnlab/F/database/2024-03-19/UDP_Bandlock_9S_Phone_BR/sm06/#02/data/udp_dnlk_loss_latency.csv\n",
      "66/72 /home/wmnlab/F/database/2024-03-19/UDP_Bandlock_9S_Phone_BR/sm06/#02/data/udp_uplk_loss_latency.csv\n"
     ]
    },
    {
     "data": {
      "application/vnd.jupyter.widget-view+json": {
       "model_id": "0935a2fd11744fdea8cc8db433554d44",
       "version_major": 2,
       "version_minor": 0
      },
      "text/plain": [
       "  0%|                                                                                                         …"
      ]
     },
     "metadata": {},
     "output_type": "display_data"
    },
    {
     "name": "stdout",
     "output_type": "stream",
     "text": [
      "/home/wmnlab/F/results/20240329_160006be6c_new_dataset_sync/dr_results/dr_20240329_1700005690/20240329_20213200000_e9df4863be54cded_adjust/\\home\\wmnlab\\F\\database\\2024-03-19\\UDP_Bandlock_9S_Phone_BR\\sm05\\#02\\data\\udp_dnlk_loss_latency\\home\\wmnlab\\F\\database\\2024-03-19\\UDP_Bandlock_9S_Phone_BR\\sm06\\#02\\data\\udp_dnlk_loss_latency.csv\n",
      "67/72 /home/wmnlab/F/database/2024-03-19/UDP_Bandlock_9S_Phone_BR/sm05/#02/data/handover_info_log.csv\n",
      "67/72 /home/wmnlab/F/database/2024-03-19/UDP_Bandlock_9S_Phone_BR/sm05/#02/data/udp_dnlk_loss_latency.csv\n",
      "67/72 /home/wmnlab/F/database/2024-03-19/UDP_Bandlock_9S_Phone_BR/sm05/#02/data/udp_uplk_loss_latency.csv\n",
      "67/72 /home/wmnlab/F/database/2024-03-19/UDP_Bandlock_9S_Phone_BR/sm07/#02/data/handover_info_log.csv\n",
      "67/72 /home/wmnlab/F/database/2024-03-19/UDP_Bandlock_9S_Phone_BR/sm07/#02/data/udp_dnlk_loss_latency.csv\n",
      "67/72 /home/wmnlab/F/database/2024-03-19/UDP_Bandlock_9S_Phone_BR/sm07/#02/data/udp_uplk_loss_latency.csv\n"
     ]
    },
    {
     "data": {
      "application/vnd.jupyter.widget-view+json": {
       "model_id": "104ce09cdef64b24905f3d8007ab1792",
       "version_major": 2,
       "version_minor": 0
      },
      "text/plain": [
       "  0%|                                                                                                         …"
      ]
     },
     "metadata": {},
     "output_type": "display_data"
    },
    {
     "name": "stdout",
     "output_type": "stream",
     "text": [
      "/home/wmnlab/F/results/20240329_160006be6c_new_dataset_sync/dr_results/dr_20240329_1700005690/20240329_20213200000_e9df4863be54cded_adjust/\\home\\wmnlab\\F\\database\\2024-03-19\\UDP_Bandlock_9S_Phone_BR\\sm05\\#02\\data\\udp_dnlk_loss_latency\\home\\wmnlab\\F\\database\\2024-03-19\\UDP_Bandlock_9S_Phone_BR\\sm07\\#02\\data\\udp_dnlk_loss_latency.csv\n",
      "68/72 /home/wmnlab/F/database/2024-03-19/UDP_Bandlock_9S_Phone_BR/sm05/#02/data/handover_info_log.csv\n",
      "68/72 /home/wmnlab/F/database/2024-03-19/UDP_Bandlock_9S_Phone_BR/sm05/#02/data/udp_dnlk_loss_latency.csv\n",
      "68/72 /home/wmnlab/F/database/2024-03-19/UDP_Bandlock_9S_Phone_BR/sm05/#02/data/udp_uplk_loss_latency.csv\n",
      "68/72 /home/wmnlab/F/database/2024-03-19/UDP_Bandlock_9S_Phone_BR/sm08/#02/data/handover_info_log.csv\n",
      "68/72 /home/wmnlab/F/database/2024-03-19/UDP_Bandlock_9S_Phone_BR/sm08/#02/data/udp_dnlk_loss_latency.csv\n",
      "68/72 /home/wmnlab/F/database/2024-03-19/UDP_Bandlock_9S_Phone_BR/sm08/#02/data/udp_uplk_loss_latency.csv\n"
     ]
    },
    {
     "data": {
      "application/vnd.jupyter.widget-view+json": {
       "model_id": "008cdcc048f34c8888cfaa1a14c19bf4",
       "version_major": 2,
       "version_minor": 0
      },
      "text/plain": [
       "  0%|                                                                                                         …"
      ]
     },
     "metadata": {},
     "output_type": "display_data"
    },
    {
     "name": "stdout",
     "output_type": "stream",
     "text": [
      "/home/wmnlab/F/results/20240329_160006be6c_new_dataset_sync/dr_results/dr_20240329_1700005690/20240329_20213200000_e9df4863be54cded_adjust/\\home\\wmnlab\\F\\database\\2024-03-19\\UDP_Bandlock_9S_Phone_BR\\sm05\\#02\\data\\udp_dnlk_loss_latency\\home\\wmnlab\\F\\database\\2024-03-19\\UDP_Bandlock_9S_Phone_BR\\sm08\\#02\\data\\udp_dnlk_loss_latency.csv\n",
      "69/72 /home/wmnlab/F/database/2024-03-19/UDP_Bandlock_9S_Phone_BR/sm06/#02/data/handover_info_log.csv\n",
      "69/72 /home/wmnlab/F/database/2024-03-19/UDP_Bandlock_9S_Phone_BR/sm06/#02/data/udp_dnlk_loss_latency.csv\n",
      "69/72 /home/wmnlab/F/database/2024-03-19/UDP_Bandlock_9S_Phone_BR/sm06/#02/data/udp_uplk_loss_latency.csv\n",
      "69/72 /home/wmnlab/F/database/2024-03-19/UDP_Bandlock_9S_Phone_BR/sm07/#02/data/handover_info_log.csv\n",
      "69/72 /home/wmnlab/F/database/2024-03-19/UDP_Bandlock_9S_Phone_BR/sm07/#02/data/udp_dnlk_loss_latency.csv\n",
      "69/72 /home/wmnlab/F/database/2024-03-19/UDP_Bandlock_9S_Phone_BR/sm07/#02/data/udp_uplk_loss_latency.csv\n"
     ]
    },
    {
     "data": {
      "application/vnd.jupyter.widget-view+json": {
       "model_id": "ff45a03b6965458eb0bfc44cbb2f9ab2",
       "version_major": 2,
       "version_minor": 0
      },
      "text/plain": [
       "  0%|                                                                                                         …"
      ]
     },
     "metadata": {},
     "output_type": "display_data"
    },
    {
     "name": "stdout",
     "output_type": "stream",
     "text": [
      "/home/wmnlab/F/results/20240329_160006be6c_new_dataset_sync/dr_results/dr_20240329_1700005690/20240329_20213200000_e9df4863be54cded_adjust/\\home\\wmnlab\\F\\database\\2024-03-19\\UDP_Bandlock_9S_Phone_BR\\sm06\\#02\\data\\udp_dnlk_loss_latency\\home\\wmnlab\\F\\database\\2024-03-19\\UDP_Bandlock_9S_Phone_BR\\sm07\\#02\\data\\udp_dnlk_loss_latency.csv\n",
      "70/72 /home/wmnlab/F/database/2024-03-19/UDP_Bandlock_9S_Phone_BR/sm06/#02/data/handover_info_log.csv\n",
      "70/72 /home/wmnlab/F/database/2024-03-19/UDP_Bandlock_9S_Phone_BR/sm06/#02/data/udp_dnlk_loss_latency.csv\n",
      "70/72 /home/wmnlab/F/database/2024-03-19/UDP_Bandlock_9S_Phone_BR/sm06/#02/data/udp_uplk_loss_latency.csv\n",
      "70/72 /home/wmnlab/F/database/2024-03-19/UDP_Bandlock_9S_Phone_BR/sm08/#02/data/handover_info_log.csv\n",
      "70/72 /home/wmnlab/F/database/2024-03-19/UDP_Bandlock_9S_Phone_BR/sm08/#02/data/udp_dnlk_loss_latency.csv\n",
      "70/72 /home/wmnlab/F/database/2024-03-19/UDP_Bandlock_9S_Phone_BR/sm08/#02/data/udp_uplk_loss_latency.csv\n"
     ]
    },
    {
     "data": {
      "application/vnd.jupyter.widget-view+json": {
       "model_id": "98f5f95e8e364d488f6a34d45d6d5d4b",
       "version_major": 2,
       "version_minor": 0
      },
      "text/plain": [
       "  0%|                                                                                                         …"
      ]
     },
     "metadata": {},
     "output_type": "display_data"
    },
    {
     "name": "stdout",
     "output_type": "stream",
     "text": [
      "/home/wmnlab/F/results/20240329_160006be6c_new_dataset_sync/dr_results/dr_20240329_1700005690/20240329_20213200000_e9df4863be54cded_adjust/\\home\\wmnlab\\F\\database\\2024-03-19\\UDP_Bandlock_9S_Phone_BR\\sm06\\#02\\data\\udp_dnlk_loss_latency\\home\\wmnlab\\F\\database\\2024-03-19\\UDP_Bandlock_9S_Phone_BR\\sm08\\#02\\data\\udp_dnlk_loss_latency.csv\n",
      "71/72 /home/wmnlab/F/database/2024-03-19/UDP_Bandlock_9S_Phone_BR/sm07/#02/data/handover_info_log.csv\n",
      "71/72 /home/wmnlab/F/database/2024-03-19/UDP_Bandlock_9S_Phone_BR/sm07/#02/data/udp_dnlk_loss_latency.csv\n",
      "71/72 /home/wmnlab/F/database/2024-03-19/UDP_Bandlock_9S_Phone_BR/sm07/#02/data/udp_uplk_loss_latency.csv\n",
      "71/72 /home/wmnlab/F/database/2024-03-19/UDP_Bandlock_9S_Phone_BR/sm08/#02/data/handover_info_log.csv\n",
      "71/72 /home/wmnlab/F/database/2024-03-19/UDP_Bandlock_9S_Phone_BR/sm08/#02/data/udp_dnlk_loss_latency.csv\n",
      "71/72 /home/wmnlab/F/database/2024-03-19/UDP_Bandlock_9S_Phone_BR/sm08/#02/data/udp_uplk_loss_latency.csv\n"
     ]
    },
    {
     "data": {
      "application/vnd.jupyter.widget-view+json": {
       "model_id": "6c5cd1fcb51d4b4e9dd877db6f6c9a0a",
       "version_major": 2,
       "version_minor": 0
      },
      "text/plain": [
       "  0%|                                                                                                         …"
      ]
     },
     "metadata": {},
     "output_type": "display_data"
    },
    {
     "name": "stdout",
     "output_type": "stream",
     "text": [
      "/home/wmnlab/F/results/20240329_160006be6c_new_dataset_sync/dr_results/dr_20240329_1700005690/20240329_20213200000_e9df4863be54cded_adjust/\\home\\wmnlab\\F\\database\\2024-03-19\\UDP_Bandlock_9S_Phone_BR\\sm07\\#02\\data\\udp_dnlk_loss_latency\\home\\wmnlab\\F\\database\\2024-03-19\\UDP_Bandlock_9S_Phone_BR\\sm08\\#02\\data\\udp_dnlk_loss_latency.csv\n",
      "./20240329_160006be6c_new_dataset_sync/dr_20240329_1700005690/figures/20240329_BR_adjust_20213200000_e9df4863be54cded.png\n"
     ]
    },
    {
     "data": {
      "image/png": "[encoded data removed]",
      "text/plain": [
       "<Figure size 600x400 with 1 Axes>"
      ]
     },
     "metadata": {
      "image/png": {
       "height": 371,
       "width": 536
      }
     },
     "output_type": "display_data"
    }
   ],
   "source": [
    "eval = DrEval(filepaths, model_name='BR', model_suffix=suffix, sr_model_id=sr_model_id, dr_model_id=dr_model_id)\n",
    "eval.run_hist_method(N=1)\n",
    "eval.plot('BR')"
   ]
  },
  {
   "cell_type": "markdown",
   "metadata": {},
   "source": [
    "# A: Dual Eval"
   ]
  },
  {
   "cell_type": "code",
   "execution_count": 8,
   "metadata": {},
   "outputs": [],
   "source": [
    "adjust_table, model_adjust = manipulate_corr_coef(sr_model_id, dr_model_id, route='A', mode=mode, rho_force=None)\n",
    "# display(adjust_table)\n",
    "# pprint(model_adjust)"
   ]
  },
  {
   "cell_type": "code",
   "execution_count": 9,
   "metadata": {},
   "outputs": [],
   "source": [
    "# Dual Radio Example\n",
    "# dates = data_loader(query_dates=True, show_info=True)\n",
    "\n",
    "# selected_dates = [s for s in dates if s >= '2023-09-12']\n",
    "selected_dates = ['2024-03-20']\n",
    "# excluded_dates = []\n",
    "# selected_exps = []\n",
    "# excluded_exps = ['Modem_Action_Test', 'Control_Group', 'Control_Group2', 'Control_Group3']\n",
    "selected_routes = ['A']\n",
    "# excluded_routes = []\n",
    "filepaths = data_loader(mode='dr', selected_dates=selected_dates, selected_routes=selected_routes)\n",
    "\n",
    "# print(len(filepaths[:36]))\n",
    "# pprint(filepaths[:36])"
   ]
  },
  {
   "cell_type": "code",
   "execution_count": 10,
   "metadata": {},
   "outputs": [
    {
     "name": "stdout",
     "output_type": "stream",
     "text": [
      "./20240329_160006be6c_new_dataset_sync/models/A\n",
      "./20240329_160006be6c_new_dataset_sync/dr_20240329_1700005690/models/A\n",
      "./20240329_160006be6c_new_dataset_sync/dr_20240329_1700005690/models/A_dr_prob_models_50%_corr.pkl\n",
      "0/72 /home/wmnlab/F/database/2024-03-20/UDP_Bandlock_9S_Phone_A/sm00/#01/data/handover_info_log.csv\n",
      "0/72 /home/wmnlab/F/database/2024-03-20/UDP_Bandlock_9S_Phone_A/sm00/#01/data/udp_dnlk_loss_latency.csv\n",
      "0/72 /home/wmnlab/F/database/2024-03-20/UDP_Bandlock_9S_Phone_A/sm00/#01/data/udp_uplk_loss_latency.csv\n",
      "0/72 /home/wmnlab/F/database/2024-03-20/UDP_Bandlock_9S_Phone_A/sm01/#01/data/handover_info_log.csv\n",
      "0/72 /home/wmnlab/F/database/2024-03-20/UDP_Bandlock_9S_Phone_A/sm01/#01/data/udp_dnlk_loss_latency.csv\n",
      "0/72 /home/wmnlab/F/database/2024-03-20/UDP_Bandlock_9S_Phone_A/sm01/#01/data/udp_uplk_loss_latency.csv\n"
     ]
    },
    {
     "data": {
      "application/vnd.jupyter.widget-view+json": {
       "model_id": "b0ef647d44ef45b8acbef34822c7f3b6",
       "version_major": 2,
       "version_minor": 0
      },
      "text/plain": [
       "  0%|                                                                                                         …"
      ]
     },
     "metadata": {},
     "output_type": "display_data"
    },
    {
     "name": "stdout",
     "output_type": "stream",
     "text": [
      "/home/wmnlab/F/results/20240329_160006be6c_new_dataset_sync/dr_results/dr_20240329_1700005690/20240329_20213200001_0c03344f48d3f530_50%_corr/\\home\\wmnlab\\F\\database\\2024-03-20\\UDP_Bandlock_9S_Phone_A\\sm00\\#01\\data\\udp_dnlk_loss_latency\\home\\wmnlab\\F\\database\\2024-03-20\\UDP_Bandlock_9S_Phone_A\\sm01\\#01\\data\\udp_dnlk_loss_latency.csv\n",
      "1/72 /home/wmnlab/F/database/2024-03-20/UDP_Bandlock_9S_Phone_A/sm00/#01/data/handover_info_log.csv\n",
      "1/72 /home/wmnlab/F/database/2024-03-20/UDP_Bandlock_9S_Phone_A/sm00/#01/data/udp_dnlk_loss_latency.csv\n",
      "1/72 /home/wmnlab/F/database/2024-03-20/UDP_Bandlock_9S_Phone_A/sm00/#01/data/udp_uplk_loss_latency.csv\n",
      "1/72 /home/wmnlab/F/database/2024-03-20/UDP_Bandlock_9S_Phone_A/sm02/#01/data/handover_info_log.csv\n",
      "1/72 /home/wmnlab/F/database/2024-03-20/UDP_Bandlock_9S_Phone_A/sm02/#01/data/udp_dnlk_loss_latency.csv\n",
      "1/72 /home/wmnlab/F/database/2024-03-20/UDP_Bandlock_9S_Phone_A/sm02/#01/data/udp_uplk_loss_latency.csv\n"
     ]
    },
    {
     "data": {
      "application/vnd.jupyter.widget-view+json": {
       "model_id": "9b96f3d347b844e3a15b8ca4dd3a5038",
       "version_major": 2,
       "version_minor": 0
      },
      "text/plain": [
       "  0%|                                                                                                         …"
      ]
     },
     "metadata": {},
     "output_type": "display_data"
    },
    {
     "name": "stdout",
     "output_type": "stream",
     "text": [
      "/home/wmnlab/F/results/20240329_160006be6c_new_dataset_sync/dr_results/dr_20240329_1700005690/20240329_20213200001_0c03344f48d3f530_50%_corr/\\home\\wmnlab\\F\\database\\2024-03-20\\UDP_Bandlock_9S_Phone_A\\sm00\\#01\\data\\udp_dnlk_loss_latency\\home\\wmnlab\\F\\database\\2024-03-20\\UDP_Bandlock_9S_Phone_A\\sm02\\#01\\data\\udp_dnlk_loss_latency.csv\n",
      "2/72 /home/wmnlab/F/database/2024-03-20/UDP_Bandlock_9S_Phone_A/sm00/#01/data/handover_info_log.csv\n",
      "2/72 /home/wmnlab/F/database/2024-03-20/UDP_Bandlock_9S_Phone_A/sm00/#01/data/udp_dnlk_loss_latency.csv\n",
      "2/72 /home/wmnlab/F/database/2024-03-20/UDP_Bandlock_9S_Phone_A/sm00/#01/data/udp_uplk_loss_latency.csv\n",
      "2/72 /home/wmnlab/F/database/2024-03-20/UDP_Bandlock_9S_Phone_A/sm03/#01/data/handover_info_log.csv\n",
      "2/72 /home/wmnlab/F/database/2024-03-20/UDP_Bandlock_9S_Phone_A/sm03/#01/data/udp_dnlk_loss_latency.csv\n",
      "2/72 /home/wmnlab/F/database/2024-03-20/UDP_Bandlock_9S_Phone_A/sm03/#01/data/udp_uplk_loss_latency.csv\n"
     ]
    },
    {
     "data": {
      "application/vnd.jupyter.widget-view+json": {
       "model_id": "df3c5aad57cd4836afe8318742c0c3c1",
       "version_major": 2,
       "version_minor": 0
      },
      "text/plain": [
       "  0%|                                                                                                         …"
      ]
     },
     "metadata": {},
     "output_type": "display_data"
    },
    {
     "name": "stdout",
     "output_type": "stream",
     "text": [
      "/home/wmnlab/F/results/20240329_160006be6c_new_dataset_sync/dr_results/dr_20240329_1700005690/20240329_20213200001_0c03344f48d3f530_50%_corr/\\home\\wmnlab\\F\\database\\2024-03-20\\UDP_Bandlock_9S_Phone_A\\sm00\\#01\\data\\udp_dnlk_loss_latency\\home\\wmnlab\\F\\database\\2024-03-20\\UDP_Bandlock_9S_Phone_A\\sm03\\#01\\data\\udp_dnlk_loss_latency.csv\n",
      "3/72 /home/wmnlab/F/database/2024-03-20/UDP_Bandlock_9S_Phone_A/sm00/#01/data/handover_info_log.csv\n",
      "3/72 /home/wmnlab/F/database/2024-03-20/UDP_Bandlock_9S_Phone_A/sm00/#01/data/udp_dnlk_loss_latency.csv\n",
      "3/72 /home/wmnlab/F/database/2024-03-20/UDP_Bandlock_9S_Phone_A/sm00/#01/data/udp_uplk_loss_latency.csv\n",
      "3/72 /home/wmnlab/F/database/2024-03-20/UDP_Bandlock_9S_Phone_A/sm04/#01/data/handover_info_log.csv\n",
      "3/72 /home/wmnlab/F/database/2024-03-20/UDP_Bandlock_9S_Phone_A/sm04/#01/data/udp_dnlk_loss_latency.csv\n",
      "3/72 /home/wmnlab/F/database/2024-03-20/UDP_Bandlock_9S_Phone_A/sm04/#01/data/udp_uplk_loss_latency.csv\n"
     ]
    },
    {
     "data": {
      "application/vnd.jupyter.widget-view+json": {
       "model_id": "b616e3a30f4e44a9865126ac74039783",
       "version_major": 2,
       "version_minor": 0
      },
      "text/plain": [
       "  0%|                                                                                                         …"
      ]
     },
     "metadata": {},
     "output_type": "display_data"
    },
    {
     "name": "stdout",
     "output_type": "stream",
     "text": [
      "/home/wmnlab/F/results/20240329_160006be6c_new_dataset_sync/dr_results/dr_20240329_1700005690/20240329_20213200001_0c03344f48d3f530_50%_corr/\\home\\wmnlab\\F\\database\\2024-03-20\\UDP_Bandlock_9S_Phone_A\\sm00\\#01\\data\\udp_dnlk_loss_latency\\home\\wmnlab\\F\\database\\2024-03-20\\UDP_Bandlock_9S_Phone_A\\sm04\\#01\\data\\udp_dnlk_loss_latency.csv\n",
      "4/72 /home/wmnlab/F/database/2024-03-20/UDP_Bandlock_9S_Phone_A/sm00/#01/data/handover_info_log.csv\n",
      "4/72 /home/wmnlab/F/database/2024-03-20/UDP_Bandlock_9S_Phone_A/sm00/#01/data/udp_dnlk_loss_latency.csv\n",
      "4/72 /home/wmnlab/F/database/2024-03-20/UDP_Bandlock_9S_Phone_A/sm00/#01/data/udp_uplk_loss_latency.csv\n",
      "4/72 /home/wmnlab/F/database/2024-03-20/UDP_Bandlock_9S_Phone_A/sm05/#01/data/handover_info_log.csv\n",
      "4/72 /home/wmnlab/F/database/2024-03-20/UDP_Bandlock_9S_Phone_A/sm05/#01/data/udp_dnlk_loss_latency.csv\n",
      "4/72 /home/wmnlab/F/database/2024-03-20/UDP_Bandlock_9S_Phone_A/sm05/#01/data/udp_uplk_loss_latency.csv\n"
     ]
    },
    {
     "data": {
      "application/vnd.jupyter.widget-view+json": {
       "model_id": "338191da726f4afe94c9531ed3741ee0",
       "version_major": 2,
       "version_minor": 0
      },
      "text/plain": [
       "  0%|                                                                                                         …"
      ]
     },
     "metadata": {},
     "output_type": "display_data"
    },
    {
     "name": "stdout",
     "output_type": "stream",
     "text": [
      "/home/wmnlab/F/results/20240329_160006be6c_new_dataset_sync/dr_results/dr_20240329_1700005690/20240329_20213200001_0c03344f48d3f530_50%_corr/\\home\\wmnlab\\F\\database\\2024-03-20\\UDP_Bandlock_9S_Phone_A\\sm00\\#01\\data\\udp_dnlk_loss_latency\\home\\wmnlab\\F\\database\\2024-03-20\\UDP_Bandlock_9S_Phone_A\\sm05\\#01\\data\\udp_dnlk_loss_latency.csv\n",
      "5/72 /home/wmnlab/F/database/2024-03-20/UDP_Bandlock_9S_Phone_A/sm00/#01/data/handover_info_log.csv\n",
      "5/72 /home/wmnlab/F/database/2024-03-20/UDP_Bandlock_9S_Phone_A/sm00/#01/data/udp_dnlk_loss_latency.csv\n",
      "5/72 /home/wmnlab/F/database/2024-03-20/UDP_Bandlock_9S_Phone_A/sm00/#01/data/udp_uplk_loss_latency.csv\n",
      "5/72 /home/wmnlab/F/database/2024-03-20/UDP_Bandlock_9S_Phone_A/sm06/#01/data/handover_info_log.csv\n",
      "5/72 /home/wmnlab/F/database/2024-03-20/UDP_Bandlock_9S_Phone_A/sm06/#01/data/udp_dnlk_loss_latency.csv\n",
      "5/72 /home/wmnlab/F/database/2024-03-20/UDP_Bandlock_9S_Phone_A/sm06/#01/data/udp_uplk_loss_latency.csv\n"
     ]
    },
    {
     "data": {
      "application/vnd.jupyter.widget-view+json": {
       "model_id": "460fe8b10f3f485b89d0234f1466b359",
       "version_major": 2,
       "version_minor": 0
      },
      "text/plain": [
       "  0%|                                                                                                         …"
      ]
     },
     "metadata": {},
     "output_type": "display_data"
    },
    {
     "name": "stdout",
     "output_type": "stream",
     "text": [
      "/home/wmnlab/F/results/20240329_160006be6c_new_dataset_sync/dr_results/dr_20240329_1700005690/20240329_20213200001_0c03344f48d3f530_50%_corr/\\home\\wmnlab\\F\\database\\2024-03-20\\UDP_Bandlock_9S_Phone_A\\sm00\\#01\\data\\udp_dnlk_loss_latency\\home\\wmnlab\\F\\database\\2024-03-20\\UDP_Bandlock_9S_Phone_A\\sm06\\#01\\data\\udp_dnlk_loss_latency.csv\n",
      "6/72 /home/wmnlab/F/database/2024-03-20/UDP_Bandlock_9S_Phone_A/sm00/#01/data/handover_info_log.csv\n",
      "6/72 /home/wmnlab/F/database/2024-03-20/UDP_Bandlock_9S_Phone_A/sm00/#01/data/udp_dnlk_loss_latency.csv\n",
      "6/72 /home/wmnlab/F/database/2024-03-20/UDP_Bandlock_9S_Phone_A/sm00/#01/data/udp_uplk_loss_latency.csv\n",
      "6/72 /home/wmnlab/F/database/2024-03-20/UDP_Bandlock_9S_Phone_A/sm07/#01/data/handover_info_log.csv\n",
      "6/72 /home/wmnlab/F/database/2024-03-20/UDP_Bandlock_9S_Phone_A/sm07/#01/data/udp_dnlk_loss_latency.csv\n",
      "6/72 /home/wmnlab/F/database/2024-03-20/UDP_Bandlock_9S_Phone_A/sm07/#01/data/udp_uplk_loss_latency.csv\n"
     ]
    },
    {
     "data": {
      "application/vnd.jupyter.widget-view+json": {
       "model_id": "647ce75af7784755a4ea947c7cfa6ec6",
       "version_major": 2,
       "version_minor": 0
      },
      "text/plain": [
       "  0%|                                                                                                         …"
      ]
     },
     "metadata": {},
     "output_type": "display_data"
    },
    {
     "name": "stdout",
     "output_type": "stream",
     "text": [
      "/home/wmnlab/F/results/20240329_160006be6c_new_dataset_sync/dr_results/dr_20240329_1700005690/20240329_20213200001_0c03344f48d3f530_50%_corr/\\home\\wmnlab\\F\\database\\2024-03-20\\UDP_Bandlock_9S_Phone_A\\sm00\\#01\\data\\udp_dnlk_loss_latency\\home\\wmnlab\\F\\database\\2024-03-20\\UDP_Bandlock_9S_Phone_A\\sm07\\#01\\data\\udp_dnlk_loss_latency.csv\n",
      "7/72 /home/wmnlab/F/database/2024-03-20/UDP_Bandlock_9S_Phone_A/sm00/#01/data/handover_info_log.csv\n",
      "7/72 /home/wmnlab/F/database/2024-03-20/UDP_Bandlock_9S_Phone_A/sm00/#01/data/udp_dnlk_loss_latency.csv\n",
      "7/72 /home/wmnlab/F/database/2024-03-20/UDP_Bandlock_9S_Phone_A/sm00/#01/data/udp_uplk_loss_latency.csv\n",
      "7/72 /home/wmnlab/F/database/2024-03-20/UDP_Bandlock_9S_Phone_A/sm08/#01/data/handover_info_log.csv\n",
      "7/72 /home/wmnlab/F/database/2024-03-20/UDP_Bandlock_9S_Phone_A/sm08/#01/data/udp_dnlk_loss_latency.csv\n",
      "7/72 /home/wmnlab/F/database/2024-03-20/UDP_Bandlock_9S_Phone_A/sm08/#01/data/udp_uplk_loss_latency.csv\n"
     ]
    },
    {
     "data": {
      "application/vnd.jupyter.widget-view+json": {
       "model_id": "f777f240edfe45eea81e36b9f277f3ac",
       "version_major": 2,
       "version_minor": 0
      },
      "text/plain": [
       "  0%|                                                                                                         …"
      ]
     },
     "metadata": {},
     "output_type": "display_data"
    },
    {
     "name": "stdout",
     "output_type": "stream",
     "text": [
      "/home/wmnlab/F/results/20240329_160006be6c_new_dataset_sync/dr_results/dr_20240329_1700005690/20240329_20213200001_0c03344f48d3f530_50%_corr/\\home\\wmnlab\\F\\database\\2024-03-20\\UDP_Bandlock_9S_Phone_A\\sm00\\#01\\data\\udp_dnlk_loss_latency\\home\\wmnlab\\F\\database\\2024-03-20\\UDP_Bandlock_9S_Phone_A\\sm08\\#01\\data\\udp_dnlk_loss_latency.csv\n",
      "8/72 /home/wmnlab/F/database/2024-03-20/UDP_Bandlock_9S_Phone_A/sm01/#01/data/handover_info_log.csv\n",
      "8/72 /home/wmnlab/F/database/2024-03-20/UDP_Bandlock_9S_Phone_A/sm01/#01/data/udp_dnlk_loss_latency.csv\n",
      "8/72 /home/wmnlab/F/database/2024-03-20/UDP_Bandlock_9S_Phone_A/sm01/#01/data/udp_uplk_loss_latency.csv\n",
      "8/72 /home/wmnlab/F/database/2024-03-20/UDP_Bandlock_9S_Phone_A/sm02/#01/data/handover_info_log.csv\n",
      "8/72 /home/wmnlab/F/database/2024-03-20/UDP_Bandlock_9S_Phone_A/sm02/#01/data/udp_dnlk_loss_latency.csv\n",
      "8/72 /home/wmnlab/F/database/2024-03-20/UDP_Bandlock_9S_Phone_A/sm02/#01/data/udp_uplk_loss_latency.csv\n"
     ]
    },
    {
     "data": {
      "application/vnd.jupyter.widget-view+json": {
       "model_id": "5cd49b3343db4da88f56c73a212dfee5",
       "version_major": 2,
       "version_minor": 0
      },
      "text/plain": [
       "  0%|                                                                                                         …"
      ]
     },
     "metadata": {},
     "output_type": "display_data"
    },
    {
     "name": "stdout",
     "output_type": "stream",
     "text": [
      "/home/wmnlab/F/results/20240329_160006be6c_new_dataset_sync/dr_results/dr_20240329_1700005690/20240329_20213200001_0c03344f48d3f530_50%_corr/\\home\\wmnlab\\F\\database\\2024-03-20\\UDP_Bandlock_9S_Phone_A\\sm01\\#01\\data\\udp_dnlk_loss_latency\\home\\wmnlab\\F\\database\\2024-03-20\\UDP_Bandlock_9S_Phone_A\\sm02\\#01\\data\\udp_dnlk_loss_latency.csv\n",
      "9/72 /home/wmnlab/F/database/2024-03-20/UDP_Bandlock_9S_Phone_A/sm01/#01/data/handover_info_log.csv\n",
      "9/72 /home/wmnlab/F/database/2024-03-20/UDP_Bandlock_9S_Phone_A/sm01/#01/data/udp_dnlk_loss_latency.csv\n",
      "9/72 /home/wmnlab/F/database/2024-03-20/UDP_Bandlock_9S_Phone_A/sm01/#01/data/udp_uplk_loss_latency.csv\n",
      "9/72 /home/wmnlab/F/database/2024-03-20/UDP_Bandlock_9S_Phone_A/sm03/#01/data/handover_info_log.csv\n",
      "9/72 /home/wmnlab/F/database/2024-03-20/UDP_Bandlock_9S_Phone_A/sm03/#01/data/udp_dnlk_loss_latency.csv\n",
      "9/72 /home/wmnlab/F/database/2024-03-20/UDP_Bandlock_9S_Phone_A/sm03/#01/data/udp_uplk_loss_latency.csv\n"
     ]
    },
    {
     "data": {
      "application/vnd.jupyter.widget-view+json": {
       "model_id": "77df36bbf5864c26894acd97e540bbd7",
       "version_major": 2,
       "version_minor": 0
      },
      "text/plain": [
       "  0%|                                                                                                         …"
      ]
     },
     "metadata": {},
     "output_type": "display_data"
    },
    {
     "name": "stdout",
     "output_type": "stream",
     "text": [
      "/home/wmnlab/F/results/20240329_160006be6c_new_dataset_sync/dr_results/dr_20240329_1700005690/20240329_20213200001_0c03344f48d3f530_50%_corr/\\home\\wmnlab\\F\\database\\2024-03-20\\UDP_Bandlock_9S_Phone_A\\sm01\\#01\\data\\udp_dnlk_loss_latency\\home\\wmnlab\\F\\database\\2024-03-20\\UDP_Bandlock_9S_Phone_A\\sm03\\#01\\data\\udp_dnlk_loss_latency.csv\n",
      "10/72 /home/wmnlab/F/database/2024-03-20/UDP_Bandlock_9S_Phone_A/sm01/#01/data/handover_info_log.csv\n",
      "10/72 /home/wmnlab/F/database/2024-03-20/UDP_Bandlock_9S_Phone_A/sm01/#01/data/udp_dnlk_loss_latency.csv\n",
      "10/72 /home/wmnlab/F/database/2024-03-20/UDP_Bandlock_9S_Phone_A/sm01/#01/data/udp_uplk_loss_latency.csv\n",
      "10/72 /home/wmnlab/F/database/2024-03-20/UDP_Bandlock_9S_Phone_A/sm04/#01/data/handover_info_log.csv\n",
      "10/72 /home/wmnlab/F/database/2024-03-20/UDP_Bandlock_9S_Phone_A/sm04/#01/data/udp_dnlk_loss_latency.csv\n",
      "10/72 /home/wmnlab/F/database/2024-03-20/UDP_Bandlock_9S_Phone_A/sm04/#01/data/udp_uplk_loss_latency.csv\n"
     ]
    },
    {
     "data": {
      "application/vnd.jupyter.widget-view+json": {
       "model_id": "1016756e5ec14f4abe9174f284a25163",
       "version_major": 2,
       "version_minor": 0
      },
      "text/plain": [
       "  0%|                                                                                                         …"
      ]
     },
     "metadata": {},
     "output_type": "display_data"
    },
    {
     "name": "stdout",
     "output_type": "stream",
     "text": [
      "/home/wmnlab/F/results/20240329_160006be6c_new_dataset_sync/dr_results/dr_20240329_1700005690/20240329_20213200001_0c03344f48d3f530_50%_corr/\\home\\wmnlab\\F\\database\\2024-03-20\\UDP_Bandlock_9S_Phone_A\\sm01\\#01\\data\\udp_dnlk_loss_latency\\home\\wmnlab\\F\\database\\2024-03-20\\UDP_Bandlock_9S_Phone_A\\sm04\\#01\\data\\udp_dnlk_loss_latency.csv\n",
      "11/72 /home/wmnlab/F/database/2024-03-20/UDP_Bandlock_9S_Phone_A/sm01/#01/data/handover_info_log.csv\n",
      "11/72 /home/wmnlab/F/database/2024-03-20/UDP_Bandlock_9S_Phone_A/sm01/#01/data/udp_dnlk_loss_latency.csv\n",
      "11/72 /home/wmnlab/F/database/2024-03-20/UDP_Bandlock_9S_Phone_A/sm01/#01/data/udp_uplk_loss_latency.csv\n",
      "11/72 /home/wmnlab/F/database/2024-03-20/UDP_Bandlock_9S_Phone_A/sm05/#01/data/handover_info_log.csv\n",
      "11/72 /home/wmnlab/F/database/2024-03-20/UDP_Bandlock_9S_Phone_A/sm05/#01/data/udp_dnlk_loss_latency.csv\n",
      "11/72 /home/wmnlab/F/database/2024-03-20/UDP_Bandlock_9S_Phone_A/sm05/#01/data/udp_uplk_loss_latency.csv\n"
     ]
    },
    {
     "data": {
      "application/vnd.jupyter.widget-view+json": {
       "model_id": "62cc04260f9545619b28cf2cd4a90b43",
       "version_major": 2,
       "version_minor": 0
      },
      "text/plain": [
       "  0%|                                                                                                         …"
      ]
     },
     "metadata": {},
     "output_type": "display_data"
    },
    {
     "name": "stdout",
     "output_type": "stream",
     "text": [
      "/home/wmnlab/F/results/20240329_160006be6c_new_dataset_sync/dr_results/dr_20240329_1700005690/20240329_20213200001_0c03344f48d3f530_50%_corr/\\home\\wmnlab\\F\\database\\2024-03-20\\UDP_Bandlock_9S_Phone_A\\sm01\\#01\\data\\udp_dnlk_loss_latency\\home\\wmnlab\\F\\database\\2024-03-20\\UDP_Bandlock_9S_Phone_A\\sm05\\#01\\data\\udp_dnlk_loss_latency.csv\n",
      "12/72 /home/wmnlab/F/database/2024-03-20/UDP_Bandlock_9S_Phone_A/sm01/#01/data/handover_info_log.csv\n",
      "12/72 /home/wmnlab/F/database/2024-03-20/UDP_Bandlock_9S_Phone_A/sm01/#01/data/udp_dnlk_loss_latency.csv\n",
      "12/72 /home/wmnlab/F/database/2024-03-20/UDP_Bandlock_9S_Phone_A/sm01/#01/data/udp_uplk_loss_latency.csv\n",
      "12/72 /home/wmnlab/F/database/2024-03-20/UDP_Bandlock_9S_Phone_A/sm06/#01/data/handover_info_log.csv\n",
      "12/72 /home/wmnlab/F/database/2024-03-20/UDP_Bandlock_9S_Phone_A/sm06/#01/data/udp_dnlk_loss_latency.csv\n",
      "12/72 /home/wmnlab/F/database/2024-03-20/UDP_Bandlock_9S_Phone_A/sm06/#01/data/udp_uplk_loss_latency.csv\n"
     ]
    },
    {
     "data": {
      "application/vnd.jupyter.widget-view+json": {
       "model_id": "25283547c5ae4351a92ac39b27e1e9c7",
       "version_major": 2,
       "version_minor": 0
      },
      "text/plain": [
       "  0%|                                                                                                         …"
      ]
     },
     "metadata": {},
     "output_type": "display_data"
    },
    {
     "name": "stdout",
     "output_type": "stream",
     "text": [
      "/home/wmnlab/F/results/20240329_160006be6c_new_dataset_sync/dr_results/dr_20240329_1700005690/20240329_20213200001_0c03344f48d3f530_50%_corr/\\home\\wmnlab\\F\\database\\2024-03-20\\UDP_Bandlock_9S_Phone_A\\sm01\\#01\\data\\udp_dnlk_loss_latency\\home\\wmnlab\\F\\database\\2024-03-20\\UDP_Bandlock_9S_Phone_A\\sm06\\#01\\data\\udp_dnlk_loss_latency.csv\n",
      "13/72 /home/wmnlab/F/database/2024-03-20/UDP_Bandlock_9S_Phone_A/sm01/#01/data/handover_info_log.csv\n",
      "13/72 /home/wmnlab/F/database/2024-03-20/UDP_Bandlock_9S_Phone_A/sm01/#01/data/udp_dnlk_loss_latency.csv\n",
      "13/72 /home/wmnlab/F/database/2024-03-20/UDP_Bandlock_9S_Phone_A/sm01/#01/data/udp_uplk_loss_latency.csv\n",
      "13/72 /home/wmnlab/F/database/2024-03-20/UDP_Bandlock_9S_Phone_A/sm07/#01/data/handover_info_log.csv\n",
      "13/72 /home/wmnlab/F/database/2024-03-20/UDP_Bandlock_9S_Phone_A/sm07/#01/data/udp_dnlk_loss_latency.csv\n",
      "13/72 /home/wmnlab/F/database/2024-03-20/UDP_Bandlock_9S_Phone_A/sm07/#01/data/udp_uplk_loss_latency.csv\n"
     ]
    },
    {
     "data": {
      "application/vnd.jupyter.widget-view+json": {
       "model_id": "7276b599538f4692ba62e3681b7f5ef4",
       "version_major": 2,
       "version_minor": 0
      },
      "text/plain": [
       "  0%|                                                                                                         …"
      ]
     },
     "metadata": {},
     "output_type": "display_data"
    },
    {
     "name": "stdout",
     "output_type": "stream",
     "text": [
      "/home/wmnlab/F/results/20240329_160006be6c_new_dataset_sync/dr_results/dr_20240329_1700005690/20240329_20213200001_0c03344f48d3f530_50%_corr/\\home\\wmnlab\\F\\database\\2024-03-20\\UDP_Bandlock_9S_Phone_A\\sm01\\#01\\data\\udp_dnlk_loss_latency\\home\\wmnlab\\F\\database\\2024-03-20\\UDP_Bandlock_9S_Phone_A\\sm07\\#01\\data\\udp_dnlk_loss_latency.csv\n",
      "14/72 /home/wmnlab/F/database/2024-03-20/UDP_Bandlock_9S_Phone_A/sm01/#01/data/handover_info_log.csv\n",
      "14/72 /home/wmnlab/F/database/2024-03-20/UDP_Bandlock_9S_Phone_A/sm01/#01/data/udp_dnlk_loss_latency.csv\n",
      "14/72 /home/wmnlab/F/database/2024-03-20/UDP_Bandlock_9S_Phone_A/sm01/#01/data/udp_uplk_loss_latency.csv\n",
      "14/72 /home/wmnlab/F/database/2024-03-20/UDP_Bandlock_9S_Phone_A/sm08/#01/data/handover_info_log.csv\n",
      "14/72 /home/wmnlab/F/database/2024-03-20/UDP_Bandlock_9S_Phone_A/sm08/#01/data/udp_dnlk_loss_latency.csv\n",
      "14/72 /home/wmnlab/F/database/2024-03-20/UDP_Bandlock_9S_Phone_A/sm08/#01/data/udp_uplk_loss_latency.csv\n"
     ]
    },
    {
     "data": {
      "application/vnd.jupyter.widget-view+json": {
       "model_id": "73ff8c6e26c84815829e6df36c8dd5fb",
       "version_major": 2,
       "version_minor": 0
      },
      "text/plain": [
       "  0%|                                                                                                         …"
      ]
     },
     "metadata": {},
     "output_type": "display_data"
    },
    {
     "name": "stdout",
     "output_type": "stream",
     "text": [
      "/home/wmnlab/F/results/20240329_160006be6c_new_dataset_sync/dr_results/dr_20240329_1700005690/20240329_20213200001_0c03344f48d3f530_50%_corr/\\home\\wmnlab\\F\\database\\2024-03-20\\UDP_Bandlock_9S_Phone_A\\sm01\\#01\\data\\udp_dnlk_loss_latency\\home\\wmnlab\\F\\database\\2024-03-20\\UDP_Bandlock_9S_Phone_A\\sm08\\#01\\data\\udp_dnlk_loss_latency.csv\n",
      "15/72 /home/wmnlab/F/database/2024-03-20/UDP_Bandlock_9S_Phone_A/sm02/#01/data/handover_info_log.csv\n",
      "15/72 /home/wmnlab/F/database/2024-03-20/UDP_Bandlock_9S_Phone_A/sm02/#01/data/udp_dnlk_loss_latency.csv\n",
      "15/72 /home/wmnlab/F/database/2024-03-20/UDP_Bandlock_9S_Phone_A/sm02/#01/data/udp_uplk_loss_latency.csv\n",
      "15/72 /home/wmnlab/F/database/2024-03-20/UDP_Bandlock_9S_Phone_A/sm03/#01/data/handover_info_log.csv\n",
      "15/72 /home/wmnlab/F/database/2024-03-20/UDP_Bandlock_9S_Phone_A/sm03/#01/data/udp_dnlk_loss_latency.csv\n",
      "15/72 /home/wmnlab/F/database/2024-03-20/UDP_Bandlock_9S_Phone_A/sm03/#01/data/udp_uplk_loss_latency.csv\n"
     ]
    },
    {
     "data": {
      "application/vnd.jupyter.widget-view+json": {
       "model_id": "09309b06b5ae4e06899000e0b75233f8",
       "version_major": 2,
       "version_minor": 0
      },
      "text/plain": [
       "  0%|                                                                                                         …"
      ]
     },
     "metadata": {},
     "output_type": "display_data"
    },
    {
     "name": "stdout",
     "output_type": "stream",
     "text": [
      "/home/wmnlab/F/results/20240329_160006be6c_new_dataset_sync/dr_results/dr_20240329_1700005690/20240329_20213200001_0c03344f48d3f530_50%_corr/\\home\\wmnlab\\F\\database\\2024-03-20\\UDP_Bandlock_9S_Phone_A\\sm02\\#01\\data\\udp_dnlk_loss_latency\\home\\wmnlab\\F\\database\\2024-03-20\\UDP_Bandlock_9S_Phone_A\\sm03\\#01\\data\\udp_dnlk_loss_latency.csv\n",
      "16/72 /home/wmnlab/F/database/2024-03-20/UDP_Bandlock_9S_Phone_A/sm02/#01/data/handover_info_log.csv\n",
      "16/72 /home/wmnlab/F/database/2024-03-20/UDP_Bandlock_9S_Phone_A/sm02/#01/data/udp_dnlk_loss_latency.csv\n",
      "16/72 /home/wmnlab/F/database/2024-03-20/UDP_Bandlock_9S_Phone_A/sm02/#01/data/udp_uplk_loss_latency.csv\n",
      "16/72 /home/wmnlab/F/database/2024-03-20/UDP_Bandlock_9S_Phone_A/sm04/#01/data/handover_info_log.csv\n",
      "16/72 /home/wmnlab/F/database/2024-03-20/UDP_Bandlock_9S_Phone_A/sm04/#01/data/udp_dnlk_loss_latency.csv\n",
      "16/72 /home/wmnlab/F/database/2024-03-20/UDP_Bandlock_9S_Phone_A/sm04/#01/data/udp_uplk_loss_latency.csv\n"
     ]
    },
    {
     "data": {
      "application/vnd.jupyter.widget-view+json": {
       "model_id": "768117e2e0c94e619fcc523bdc6db4b9",
       "version_major": 2,
       "version_minor": 0
      },
      "text/plain": [
       "  0%|                                                                                                         …"
      ]
     },
     "metadata": {},
     "output_type": "display_data"
    },
    {
     "name": "stdout",
     "output_type": "stream",
     "text": [
      "/home/wmnlab/F/results/20240329_160006be6c_new_dataset_sync/dr_results/dr_20240329_1700005690/20240329_20213200001_0c03344f48d3f530_50%_corr/\\home\\wmnlab\\F\\database\\2024-03-20\\UDP_Bandlock_9S_Phone_A\\sm02\\#01\\data\\udp_dnlk_loss_latency\\home\\wmnlab\\F\\database\\2024-03-20\\UDP_Bandlock_9S_Phone_A\\sm04\\#01\\data\\udp_dnlk_loss_latency.csv\n",
      "17/72 /home/wmnlab/F/database/2024-03-20/UDP_Bandlock_9S_Phone_A/sm02/#01/data/handover_info_log.csv\n",
      "17/72 /home/wmnlab/F/database/2024-03-20/UDP_Bandlock_9S_Phone_A/sm02/#01/data/udp_dnlk_loss_latency.csv\n",
      "17/72 /home/wmnlab/F/database/2024-03-20/UDP_Bandlock_9S_Phone_A/sm02/#01/data/udp_uplk_loss_latency.csv\n",
      "17/72 /home/wmnlab/F/database/2024-03-20/UDP_Bandlock_9S_Phone_A/sm05/#01/data/handover_info_log.csv\n",
      "17/72 /home/wmnlab/F/database/2024-03-20/UDP_Bandlock_9S_Phone_A/sm05/#01/data/udp_dnlk_loss_latency.csv\n",
      "17/72 /home/wmnlab/F/database/2024-03-20/UDP_Bandlock_9S_Phone_A/sm05/#01/data/udp_uplk_loss_latency.csv\n"
     ]
    },
    {
     "data": {
      "application/vnd.jupyter.widget-view+json": {
       "model_id": "85e8e4b0fde84da8a12c9bcc58a5db47",
       "version_major": 2,
       "version_minor": 0
      },
      "text/plain": [
       "  0%|                                                                                                         …"
      ]
     },
     "metadata": {},
     "output_type": "display_data"
    },
    {
     "name": "stdout",
     "output_type": "stream",
     "text": [
      "/home/wmnlab/F/results/20240329_160006be6c_new_dataset_sync/dr_results/dr_20240329_1700005690/20240329_20213200001_0c03344f48d3f530_50%_corr/\\home\\wmnlab\\F\\database\\2024-03-20\\UDP_Bandlock_9S_Phone_A\\sm02\\#01\\data\\udp_dnlk_loss_latency\\home\\wmnlab\\F\\database\\2024-03-20\\UDP_Bandlock_9S_Phone_A\\sm05\\#01\\data\\udp_dnlk_loss_latency.csv\n",
      "18/72 /home/wmnlab/F/database/2024-03-20/UDP_Bandlock_9S_Phone_A/sm02/#01/data/handover_info_log.csv\n",
      "18/72 /home/wmnlab/F/database/2024-03-20/UDP_Bandlock_9S_Phone_A/sm02/#01/data/udp_dnlk_loss_latency.csv\n",
      "18/72 /home/wmnlab/F/database/2024-03-20/UDP_Bandlock_9S_Phone_A/sm02/#01/data/udp_uplk_loss_latency.csv\n",
      "18/72 /home/wmnlab/F/database/2024-03-20/UDP_Bandlock_9S_Phone_A/sm06/#01/data/handover_info_log.csv\n",
      "18/72 /home/wmnlab/F/database/2024-03-20/UDP_Bandlock_9S_Phone_A/sm06/#01/data/udp_dnlk_loss_latency.csv\n",
      "18/72 /home/wmnlab/F/database/2024-03-20/UDP_Bandlock_9S_Phone_A/sm06/#01/data/udp_uplk_loss_latency.csv\n"
     ]
    },
    {
     "data": {
      "application/vnd.jupyter.widget-view+json": {
       "model_id": "493f8ab85f4e48378803fd12f805a4ea",
       "version_major": 2,
       "version_minor": 0
      },
      "text/plain": [
       "  0%|                                                                                                         …"
      ]
     },
     "metadata": {},
     "output_type": "display_data"
    },
    {
     "name": "stdout",
     "output_type": "stream",
     "text": [
      "/home/wmnlab/F/results/20240329_160006be6c_new_dataset_sync/dr_results/dr_20240329_1700005690/20240329_20213200001_0c03344f48d3f530_50%_corr/\\home\\wmnlab\\F\\database\\2024-03-20\\UDP_Bandlock_9S_Phone_A\\sm02\\#01\\data\\udp_dnlk_loss_latency\\home\\wmnlab\\F\\database\\2024-03-20\\UDP_Bandlock_9S_Phone_A\\sm06\\#01\\data\\udp_dnlk_loss_latency.csv\n",
      "19/72 /home/wmnlab/F/database/2024-03-20/UDP_Bandlock_9S_Phone_A/sm02/#01/data/handover_info_log.csv\n",
      "19/72 /home/wmnlab/F/database/2024-03-20/UDP_Bandlock_9S_Phone_A/sm02/#01/data/udp_dnlk_loss_latency.csv\n",
      "19/72 /home/wmnlab/F/database/2024-03-20/UDP_Bandlock_9S_Phone_A/sm02/#01/data/udp_uplk_loss_latency.csv\n",
      "19/72 /home/wmnlab/F/database/2024-03-20/UDP_Bandlock_9S_Phone_A/sm07/#01/data/handover_info_log.csv\n",
      "19/72 /home/wmnlab/F/database/2024-03-20/UDP_Bandlock_9S_Phone_A/sm07/#01/data/udp_dnlk_loss_latency.csv\n",
      "19/72 /home/wmnlab/F/database/2024-03-20/UDP_Bandlock_9S_Phone_A/sm07/#01/data/udp_uplk_loss_latency.csv\n"
     ]
    },
    {
     "data": {
      "application/vnd.jupyter.widget-view+json": {
       "model_id": "a12eaaf0a4b64fae866578484d766823",
       "version_major": 2,
       "version_minor": 0
      },
      "text/plain": [
       "  0%|                                                                                                         …"
      ]
     },
     "metadata": {},
     "output_type": "display_data"
    },
    {
     "name": "stdout",
     "output_type": "stream",
     "text": [
      "/home/wmnlab/F/results/20240329_160006be6c_new_dataset_sync/dr_results/dr_20240329_1700005690/20240329_20213200001_0c03344f48d3f530_50%_corr/\\home\\wmnlab\\F\\database\\2024-03-20\\UDP_Bandlock_9S_Phone_A\\sm02\\#01\\data\\udp_dnlk_loss_latency\\home\\wmnlab\\F\\database\\2024-03-20\\UDP_Bandlock_9S_Phone_A\\sm07\\#01\\data\\udp_dnlk_loss_latency.csv\n",
      "20/72 /home/wmnlab/F/database/2024-03-20/UDP_Bandlock_9S_Phone_A/sm02/#01/data/handover_info_log.csv\n",
      "20/72 /home/wmnlab/F/database/2024-03-20/UDP_Bandlock_9S_Phone_A/sm02/#01/data/udp_dnlk_loss_latency.csv\n",
      "20/72 /home/wmnlab/F/database/2024-03-20/UDP_Bandlock_9S_Phone_A/sm02/#01/data/udp_uplk_loss_latency.csv\n",
      "20/72 /home/wmnlab/F/database/2024-03-20/UDP_Bandlock_9S_Phone_A/sm08/#01/data/handover_info_log.csv\n",
      "20/72 /home/wmnlab/F/database/2024-03-20/UDP_Bandlock_9S_Phone_A/sm08/#01/data/udp_dnlk_loss_latency.csv\n",
      "20/72 /home/wmnlab/F/database/2024-03-20/UDP_Bandlock_9S_Phone_A/sm08/#01/data/udp_uplk_loss_latency.csv\n"
     ]
    },
    {
     "data": {
      "application/vnd.jupyter.widget-view+json": {
       "model_id": "b755a76085a04fbb92b896c321d4cf34",
       "version_major": 2,
       "version_minor": 0
      },
      "text/plain": [
       "  0%|                                                                                                         …"
      ]
     },
     "metadata": {},
     "output_type": "display_data"
    },
    {
     "name": "stdout",
     "output_type": "stream",
     "text": [
      "/home/wmnlab/F/results/20240329_160006be6c_new_dataset_sync/dr_results/dr_20240329_1700005690/20240329_20213200001_0c03344f48d3f530_50%_corr/\\home\\wmnlab\\F\\database\\2024-03-20\\UDP_Bandlock_9S_Phone_A\\sm02\\#01\\data\\udp_dnlk_loss_latency\\home\\wmnlab\\F\\database\\2024-03-20\\UDP_Bandlock_9S_Phone_A\\sm08\\#01\\data\\udp_dnlk_loss_latency.csv\n",
      "21/72 /home/wmnlab/F/database/2024-03-20/UDP_Bandlock_9S_Phone_A/sm03/#01/data/handover_info_log.csv\n",
      "21/72 /home/wmnlab/F/database/2024-03-20/UDP_Bandlock_9S_Phone_A/sm03/#01/data/udp_dnlk_loss_latency.csv\n",
      "21/72 /home/wmnlab/F/database/2024-03-20/UDP_Bandlock_9S_Phone_A/sm03/#01/data/udp_uplk_loss_latency.csv\n",
      "21/72 /home/wmnlab/F/database/2024-03-20/UDP_Bandlock_9S_Phone_A/sm04/#01/data/handover_info_log.csv\n",
      "21/72 /home/wmnlab/F/database/2024-03-20/UDP_Bandlock_9S_Phone_A/sm04/#01/data/udp_dnlk_loss_latency.csv\n",
      "21/72 /home/wmnlab/F/database/2024-03-20/UDP_Bandlock_9S_Phone_A/sm04/#01/data/udp_uplk_loss_latency.csv\n"
     ]
    },
    {
     "data": {
      "application/vnd.jupyter.widget-view+json": {
       "model_id": "b0484da1f19b44e193ebfb79ef69bd1c",
       "version_major": 2,
       "version_minor": 0
      },
      "text/plain": [
       "  0%|                                                                                                         …"
      ]
     },
     "metadata": {},
     "output_type": "display_data"
    },
    {
     "name": "stdout",
     "output_type": "stream",
     "text": [
      "/home/wmnlab/F/results/20240329_160006be6c_new_dataset_sync/dr_results/dr_20240329_1700005690/20240329_20213200001_0c03344f48d3f530_50%_corr/\\home\\wmnlab\\F\\database\\2024-03-20\\UDP_Bandlock_9S_Phone_A\\sm03\\#01\\data\\udp_dnlk_loss_latency\\home\\wmnlab\\F\\database\\2024-03-20\\UDP_Bandlock_9S_Phone_A\\sm04\\#01\\data\\udp_dnlk_loss_latency.csv\n",
      "22/72 /home/wmnlab/F/database/2024-03-20/UDP_Bandlock_9S_Phone_A/sm03/#01/data/handover_info_log.csv\n",
      "22/72 /home/wmnlab/F/database/2024-03-20/UDP_Bandlock_9S_Phone_A/sm03/#01/data/udp_dnlk_loss_latency.csv\n",
      "22/72 /home/wmnlab/F/database/2024-03-20/UDP_Bandlock_9S_Phone_A/sm03/#01/data/udp_uplk_loss_latency.csv\n",
      "22/72 /home/wmnlab/F/database/2024-03-20/UDP_Bandlock_9S_Phone_A/sm05/#01/data/handover_info_log.csv\n",
      "22/72 /home/wmnlab/F/database/2024-03-20/UDP_Bandlock_9S_Phone_A/sm05/#01/data/udp_dnlk_loss_latency.csv\n",
      "22/72 /home/wmnlab/F/database/2024-03-20/UDP_Bandlock_9S_Phone_A/sm05/#01/data/udp_uplk_loss_latency.csv\n"
     ]
    },
    {
     "data": {
      "application/vnd.jupyter.widget-view+json": {
       "model_id": "37c1f82f7b57473aab85610c396abd56",
       "version_major": 2,
       "version_minor": 0
      },
      "text/plain": [
       "  0%|                                                                                                         …"
      ]
     },
     "metadata": {},
     "output_type": "display_data"
    },
    {
     "name": "stdout",
     "output_type": "stream",
     "text": [
      "/home/wmnlab/F/results/20240329_160006be6c_new_dataset_sync/dr_results/dr_20240329_1700005690/20240329_20213200001_0c03344f48d3f530_50%_corr/\\home\\wmnlab\\F\\database\\2024-03-20\\UDP_Bandlock_9S_Phone_A\\sm03\\#01\\data\\udp_dnlk_loss_latency\\home\\wmnlab\\F\\database\\2024-03-20\\UDP_Bandlock_9S_Phone_A\\sm05\\#01\\data\\udp_dnlk_loss_latency.csv\n",
      "23/72 /home/wmnlab/F/database/2024-03-20/UDP_Bandlock_9S_Phone_A/sm03/#01/data/handover_info_log.csv\n",
      "23/72 /home/wmnlab/F/database/2024-03-20/UDP_Bandlock_9S_Phone_A/sm03/#01/data/udp_dnlk_loss_latency.csv\n",
      "23/72 /home/wmnlab/F/database/2024-03-20/UDP_Bandlock_9S_Phone_A/sm03/#01/data/udp_uplk_loss_latency.csv\n",
      "23/72 /home/wmnlab/F/database/2024-03-20/UDP_Bandlock_9S_Phone_A/sm06/#01/data/handover_info_log.csv\n",
      "23/72 /home/wmnlab/F/database/2024-03-20/UDP_Bandlock_9S_Phone_A/sm06/#01/data/udp_dnlk_loss_latency.csv\n",
      "23/72 /home/wmnlab/F/database/2024-03-20/UDP_Bandlock_9S_Phone_A/sm06/#01/data/udp_uplk_loss_latency.csv\n"
     ]
    },
    {
     "data": {
      "application/vnd.jupyter.widget-view+json": {
       "model_id": "d5f28c2236b4421bbb0242b29a68c5e5",
       "version_major": 2,
       "version_minor": 0
      },
      "text/plain": [
       "  0%|                                                                                                         …"
      ]
     },
     "metadata": {},
     "output_type": "display_data"
    },
    {
     "name": "stdout",
     "output_type": "stream",
     "text": [
      "/home/wmnlab/F/results/20240329_160006be6c_new_dataset_sync/dr_results/dr_20240329_1700005690/20240329_20213200001_0c03344f48d3f530_50%_corr/\\home\\wmnlab\\F\\database\\2024-03-20\\UDP_Bandlock_9S_Phone_A\\sm03\\#01\\data\\udp_dnlk_loss_latency\\home\\wmnlab\\F\\database\\2024-03-20\\UDP_Bandlock_9S_Phone_A\\sm06\\#01\\data\\udp_dnlk_loss_latency.csv\n",
      "24/72 /home/wmnlab/F/database/2024-03-20/UDP_Bandlock_9S_Phone_A/sm03/#01/data/handover_info_log.csv\n",
      "24/72 /home/wmnlab/F/database/2024-03-20/UDP_Bandlock_9S_Phone_A/sm03/#01/data/udp_dnlk_loss_latency.csv\n",
      "24/72 /home/wmnlab/F/database/2024-03-20/UDP_Bandlock_9S_Phone_A/sm03/#01/data/udp_uplk_loss_latency.csv\n",
      "24/72 /home/wmnlab/F/database/2024-03-20/UDP_Bandlock_9S_Phone_A/sm07/#01/data/handover_info_log.csv\n",
      "24/72 /home/wmnlab/F/database/2024-03-20/UDP_Bandlock_9S_Phone_A/sm07/#01/data/udp_dnlk_loss_latency.csv\n",
      "24/72 /home/wmnlab/F/database/2024-03-20/UDP_Bandlock_9S_Phone_A/sm07/#01/data/udp_uplk_loss_latency.csv\n"
     ]
    },
    {
     "data": {
      "application/vnd.jupyter.widget-view+json": {
       "model_id": "e5de21106ec74e05b07cfdfabdb88640",
       "version_major": 2,
       "version_minor": 0
      },
      "text/plain": [
       "  0%|                                                                                                         …"
      ]
     },
     "metadata": {},
     "output_type": "display_data"
    },
    {
     "name": "stdout",
     "output_type": "stream",
     "text": [
      "/home/wmnlab/F/results/20240329_160006be6c_new_dataset_sync/dr_results/dr_20240329_1700005690/20240329_20213200001_0c03344f48d3f530_50%_corr/\\home\\wmnlab\\F\\database\\2024-03-20\\UDP_Bandlock_9S_Phone_A\\sm03\\#01\\data\\udp_dnlk_loss_latency\\home\\wmnlab\\F\\database\\2024-03-20\\UDP_Bandlock_9S_Phone_A\\sm07\\#01\\data\\udp_dnlk_loss_latency.csv\n",
      "25/72 /home/wmnlab/F/database/2024-03-20/UDP_Bandlock_9S_Phone_A/sm03/#01/data/handover_info_log.csv\n",
      "25/72 /home/wmnlab/F/database/2024-03-20/UDP_Bandlock_9S_Phone_A/sm03/#01/data/udp_dnlk_loss_latency.csv\n",
      "25/72 /home/wmnlab/F/database/2024-03-20/UDP_Bandlock_9S_Phone_A/sm03/#01/data/udp_uplk_loss_latency.csv\n",
      "25/72 /home/wmnlab/F/database/2024-03-20/UDP_Bandlock_9S_Phone_A/sm08/#01/data/handover_info_log.csv\n",
      "25/72 /home/wmnlab/F/database/2024-03-20/UDP_Bandlock_9S_Phone_A/sm08/#01/data/udp_dnlk_loss_latency.csv\n",
      "25/72 /home/wmnlab/F/database/2024-03-20/UDP_Bandlock_9S_Phone_A/sm08/#01/data/udp_uplk_loss_latency.csv\n"
     ]
    },
    {
     "data": {
      "application/vnd.jupyter.widget-view+json": {
       "model_id": "4de08d15c66c4cc0831f1b0c503e17a3",
       "version_major": 2,
       "version_minor": 0
      },
      "text/plain": [
       "  0%|                                                                                                         …"
      ]
     },
     "metadata": {},
     "output_type": "display_data"
    },
    {
     "name": "stdout",
     "output_type": "stream",
     "text": [
      "/home/wmnlab/F/results/20240329_160006be6c_new_dataset_sync/dr_results/dr_20240329_1700005690/20240329_20213200001_0c03344f48d3f530_50%_corr/\\home\\wmnlab\\F\\database\\2024-03-20\\UDP_Bandlock_9S_Phone_A\\sm03\\#01\\data\\udp_dnlk_loss_latency\\home\\wmnlab\\F\\database\\2024-03-20\\UDP_Bandlock_9S_Phone_A\\sm08\\#01\\data\\udp_dnlk_loss_latency.csv\n",
      "26/72 /home/wmnlab/F/database/2024-03-20/UDP_Bandlock_9S_Phone_A/sm04/#01/data/handover_info_log.csv\n",
      "26/72 /home/wmnlab/F/database/2024-03-20/UDP_Bandlock_9S_Phone_A/sm04/#01/data/udp_dnlk_loss_latency.csv\n",
      "26/72 /home/wmnlab/F/database/2024-03-20/UDP_Bandlock_9S_Phone_A/sm04/#01/data/udp_uplk_loss_latency.csv\n",
      "26/72 /home/wmnlab/F/database/2024-03-20/UDP_Bandlock_9S_Phone_A/sm05/#01/data/handover_info_log.csv\n",
      "26/72 /home/wmnlab/F/database/2024-03-20/UDP_Bandlock_9S_Phone_A/sm05/#01/data/udp_dnlk_loss_latency.csv\n",
      "26/72 /home/wmnlab/F/database/2024-03-20/UDP_Bandlock_9S_Phone_A/sm05/#01/data/udp_uplk_loss_latency.csv\n"
     ]
    },
    {
     "data": {
      "application/vnd.jupyter.widget-view+json": {
       "model_id": "68e4dc84393f4c5a88811b002689c0f3",
       "version_major": 2,
       "version_minor": 0
      },
      "text/plain": [
       "  0%|                                                                                                         …"
      ]
     },
     "metadata": {},
     "output_type": "display_data"
    },
    {
     "name": "stdout",
     "output_type": "stream",
     "text": [
      "/home/wmnlab/F/results/20240329_160006be6c_new_dataset_sync/dr_results/dr_20240329_1700005690/20240329_20213200001_0c03344f48d3f530_50%_corr/\\home\\wmnlab\\F\\database\\2024-03-20\\UDP_Bandlock_9S_Phone_A\\sm04\\#01\\data\\udp_dnlk_loss_latency\\home\\wmnlab\\F\\database\\2024-03-20\\UDP_Bandlock_9S_Phone_A\\sm05\\#01\\data\\udp_dnlk_loss_latency.csv\n",
      "27/72 /home/wmnlab/F/database/2024-03-20/UDP_Bandlock_9S_Phone_A/sm04/#01/data/handover_info_log.csv\n",
      "27/72 /home/wmnlab/F/database/2024-03-20/UDP_Bandlock_9S_Phone_A/sm04/#01/data/udp_dnlk_loss_latency.csv\n",
      "27/72 /home/wmnlab/F/database/2024-03-20/UDP_Bandlock_9S_Phone_A/sm04/#01/data/udp_uplk_loss_latency.csv\n",
      "27/72 /home/wmnlab/F/database/2024-03-20/UDP_Bandlock_9S_Phone_A/sm06/#01/data/handover_info_log.csv\n",
      "27/72 /home/wmnlab/F/database/2024-03-20/UDP_Bandlock_9S_Phone_A/sm06/#01/data/udp_dnlk_loss_latency.csv\n",
      "27/72 /home/wmnlab/F/database/2024-03-20/UDP_Bandlock_9S_Phone_A/sm06/#01/data/udp_uplk_loss_latency.csv\n"
     ]
    },
    {
     "data": {
      "application/vnd.jupyter.widget-view+json": {
       "model_id": "bdf7c5b6508f4d4dba1fede51cc4c8dc",
       "version_major": 2,
       "version_minor": 0
      },
      "text/plain": [
       "  0%|                                                                                                         …"
      ]
     },
     "metadata": {},
     "output_type": "display_data"
    },
    {
     "name": "stdout",
     "output_type": "stream",
     "text": [
      "/home/wmnlab/F/results/20240329_160006be6c_new_dataset_sync/dr_results/dr_20240329_1700005690/20240329_20213200001_0c03344f48d3f530_50%_corr/\\home\\wmnlab\\F\\database\\2024-03-20\\UDP_Bandlock_9S_Phone_A\\sm04\\#01\\data\\udp_dnlk_loss_latency\\home\\wmnlab\\F\\database\\2024-03-20\\UDP_Bandlock_9S_Phone_A\\sm06\\#01\\data\\udp_dnlk_loss_latency.csv\n",
      "28/72 /home/wmnlab/F/database/2024-03-20/UDP_Bandlock_9S_Phone_A/sm04/#01/data/handover_info_log.csv\n",
      "28/72 /home/wmnlab/F/database/2024-03-20/UDP_Bandlock_9S_Phone_A/sm04/#01/data/udp_dnlk_loss_latency.csv\n",
      "28/72 /home/wmnlab/F/database/2024-03-20/UDP_Bandlock_9S_Phone_A/sm04/#01/data/udp_uplk_loss_latency.csv\n",
      "28/72 /home/wmnlab/F/database/2024-03-20/UDP_Bandlock_9S_Phone_A/sm07/#01/data/handover_info_log.csv\n",
      "28/72 /home/wmnlab/F/database/2024-03-20/UDP_Bandlock_9S_Phone_A/sm07/#01/data/udp_dnlk_loss_latency.csv\n",
      "28/72 /home/wmnlab/F/database/2024-03-20/UDP_Bandlock_9S_Phone_A/sm07/#01/data/udp_uplk_loss_latency.csv\n"
     ]
    },
    {
     "data": {
      "application/vnd.jupyter.widget-view+json": {
       "model_id": "b4f3f6cbfed24e13baed453b4e196975",
       "version_major": 2,
       "version_minor": 0
      },
      "text/plain": [
       "  0%|                                                                                                         …"
      ]
     },
     "metadata": {},
     "output_type": "display_data"
    },
    {
     "name": "stdout",
     "output_type": "stream",
     "text": [
      "/home/wmnlab/F/results/20240329_160006be6c_new_dataset_sync/dr_results/dr_20240329_1700005690/20240329_20213200001_0c03344f48d3f530_50%_corr/\\home\\wmnlab\\F\\database\\2024-03-20\\UDP_Bandlock_9S_Phone_A\\sm04\\#01\\data\\udp_dnlk_loss_latency\\home\\wmnlab\\F\\database\\2024-03-20\\UDP_Bandlock_9S_Phone_A\\sm07\\#01\\data\\udp_dnlk_loss_latency.csv\n",
      "29/72 /home/wmnlab/F/database/2024-03-20/UDP_Bandlock_9S_Phone_A/sm04/#01/data/handover_info_log.csv\n",
      "29/72 /home/wmnlab/F/database/2024-03-20/UDP_Bandlock_9S_Phone_A/sm04/#01/data/udp_dnlk_loss_latency.csv\n",
      "29/72 /home/wmnlab/F/database/2024-03-20/UDP_Bandlock_9S_Phone_A/sm04/#01/data/udp_uplk_loss_latency.csv\n",
      "29/72 /home/wmnlab/F/database/2024-03-20/UDP_Bandlock_9S_Phone_A/sm08/#01/data/handover_info_log.csv\n",
      "29/72 /home/wmnlab/F/database/2024-03-20/UDP_Bandlock_9S_Phone_A/sm08/#01/data/udp_dnlk_loss_latency.csv\n",
      "29/72 /home/wmnlab/F/database/2024-03-20/UDP_Bandlock_9S_Phone_A/sm08/#01/data/udp_uplk_loss_latency.csv\n"
     ]
    },
    {
     "data": {
      "application/vnd.jupyter.widget-view+json": {
       "model_id": "6b528b0e08634a85bde70ff41c267f42",
       "version_major": 2,
       "version_minor": 0
      },
      "text/plain": [
       "  0%|                                                                                                         …"
      ]
     },
     "metadata": {},
     "output_type": "display_data"
    },
    {
     "name": "stdout",
     "output_type": "stream",
     "text": [
      "/home/wmnlab/F/results/20240329_160006be6c_new_dataset_sync/dr_results/dr_20240329_1700005690/20240329_20213200001_0c03344f48d3f530_50%_corr/\\home\\wmnlab\\F\\database\\2024-03-20\\UDP_Bandlock_9S_Phone_A\\sm04\\#01\\data\\udp_dnlk_loss_latency\\home\\wmnlab\\F\\database\\2024-03-20\\UDP_Bandlock_9S_Phone_A\\sm08\\#01\\data\\udp_dnlk_loss_latency.csv\n",
      "30/72 /home/wmnlab/F/database/2024-03-20/UDP_Bandlock_9S_Phone_A/sm05/#01/data/handover_info_log.csv\n",
      "30/72 /home/wmnlab/F/database/2024-03-20/UDP_Bandlock_9S_Phone_A/sm05/#01/data/udp_dnlk_loss_latency.csv\n",
      "30/72 /home/wmnlab/F/database/2024-03-20/UDP_Bandlock_9S_Phone_A/sm05/#01/data/udp_uplk_loss_latency.csv\n",
      "30/72 /home/wmnlab/F/database/2024-03-20/UDP_Bandlock_9S_Phone_A/sm06/#01/data/handover_info_log.csv\n",
      "30/72 /home/wmnlab/F/database/2024-03-20/UDP_Bandlock_9S_Phone_A/sm06/#01/data/udp_dnlk_loss_latency.csv\n",
      "30/72 /home/wmnlab/F/database/2024-03-20/UDP_Bandlock_9S_Phone_A/sm06/#01/data/udp_uplk_loss_latency.csv\n"
     ]
    },
    {
     "data": {
      "application/vnd.jupyter.widget-view+json": {
       "model_id": "88ebfa61e89444a99761eb73ac49c568",
       "version_major": 2,
       "version_minor": 0
      },
      "text/plain": [
       "  0%|                                                                                                         …"
      ]
     },
     "metadata": {},
     "output_type": "display_data"
    },
    {
     "name": "stdout",
     "output_type": "stream",
     "text": [
      "/home/wmnlab/F/results/20240329_160006be6c_new_dataset_sync/dr_results/dr_20240329_1700005690/20240329_20213200001_0c03344f48d3f530_50%_corr/\\home\\wmnlab\\F\\database\\2024-03-20\\UDP_Bandlock_9S_Phone_A\\sm05\\#01\\data\\udp_dnlk_loss_latency\\home\\wmnlab\\F\\database\\2024-03-20\\UDP_Bandlock_9S_Phone_A\\sm06\\#01\\data\\udp_dnlk_loss_latency.csv\n",
      "31/72 /home/wmnlab/F/database/2024-03-20/UDP_Bandlock_9S_Phone_A/sm05/#01/data/handover_info_log.csv\n",
      "31/72 /home/wmnlab/F/database/2024-03-20/UDP_Bandlock_9S_Phone_A/sm05/#01/data/udp_dnlk_loss_latency.csv\n",
      "31/72 /home/wmnlab/F/database/2024-03-20/UDP_Bandlock_9S_Phone_A/sm05/#01/data/udp_uplk_loss_latency.csv\n",
      "31/72 /home/wmnlab/F/database/2024-03-20/UDP_Bandlock_9S_Phone_A/sm07/#01/data/handover_info_log.csv\n",
      "31/72 /home/wmnlab/F/database/2024-03-20/UDP_Bandlock_9S_Phone_A/sm07/#01/data/udp_dnlk_loss_latency.csv\n",
      "31/72 /home/wmnlab/F/database/2024-03-20/UDP_Bandlock_9S_Phone_A/sm07/#01/data/udp_uplk_loss_latency.csv\n"
     ]
    },
    {
     "data": {
      "application/vnd.jupyter.widget-view+json": {
       "model_id": "4ee5f7e67d834bafa0ed9ece772454eb",
       "version_major": 2,
       "version_minor": 0
      },
      "text/plain": [
       "  0%|                                                                                                         …"
      ]
     },
     "metadata": {},
     "output_type": "display_data"
    },
    {
     "name": "stdout",
     "output_type": "stream",
     "text": [
      "/home/wmnlab/F/results/20240329_160006be6c_new_dataset_sync/dr_results/dr_20240329_1700005690/20240329_20213200001_0c03344f48d3f530_50%_corr/\\home\\wmnlab\\F\\database\\2024-03-20\\UDP_Bandlock_9S_Phone_A\\sm05\\#01\\data\\udp_dnlk_loss_latency\\home\\wmnlab\\F\\database\\2024-03-20\\UDP_Bandlock_9S_Phone_A\\sm07\\#01\\data\\udp_dnlk_loss_latency.csv\n",
      "32/72 /home/wmnlab/F/database/2024-03-20/UDP_Bandlock_9S_Phone_A/sm05/#01/data/handover_info_log.csv\n",
      "32/72 /home/wmnlab/F/database/2024-03-20/UDP_Bandlock_9S_Phone_A/sm05/#01/data/udp_dnlk_loss_latency.csv\n",
      "32/72 /home/wmnlab/F/database/2024-03-20/UDP_Bandlock_9S_Phone_A/sm05/#01/data/udp_uplk_loss_latency.csv\n",
      "32/72 /home/wmnlab/F/database/2024-03-20/UDP_Bandlock_9S_Phone_A/sm08/#01/data/handover_info_log.csv\n",
      "32/72 /home/wmnlab/F/database/2024-03-20/UDP_Bandlock_9S_Phone_A/sm08/#01/data/udp_dnlk_loss_latency.csv\n",
      "32/72 /home/wmnlab/F/database/2024-03-20/UDP_Bandlock_9S_Phone_A/sm08/#01/data/udp_uplk_loss_latency.csv\n"
     ]
    },
    {
     "data": {
      "application/vnd.jupyter.widget-view+json": {
       "model_id": "2d13223fc6c34774a926d91759b11a6e",
       "version_major": 2,
       "version_minor": 0
      },
      "text/plain": [
       "  0%|                                                                                                         …"
      ]
     },
     "metadata": {},
     "output_type": "display_data"
    },
    {
     "name": "stdout",
     "output_type": "stream",
     "text": [
      "/home/wmnlab/F/results/20240329_160006be6c_new_dataset_sync/dr_results/dr_20240329_1700005690/20240329_20213200001_0c03344f48d3f530_50%_corr/\\home\\wmnlab\\F\\database\\2024-03-20\\UDP_Bandlock_9S_Phone_A\\sm05\\#01\\data\\udp_dnlk_loss_latency\\home\\wmnlab\\F\\database\\2024-03-20\\UDP_Bandlock_9S_Phone_A\\sm08\\#01\\data\\udp_dnlk_loss_latency.csv\n",
      "33/72 /home/wmnlab/F/database/2024-03-20/UDP_Bandlock_9S_Phone_A/sm06/#01/data/handover_info_log.csv\n",
      "33/72 /home/wmnlab/F/database/2024-03-20/UDP_Bandlock_9S_Phone_A/sm06/#01/data/udp_dnlk_loss_latency.csv\n",
      "33/72 /home/wmnlab/F/database/2024-03-20/UDP_Bandlock_9S_Phone_A/sm06/#01/data/udp_uplk_loss_latency.csv\n",
      "33/72 /home/wmnlab/F/database/2024-03-20/UDP_Bandlock_9S_Phone_A/sm07/#01/data/handover_info_log.csv\n",
      "33/72 /home/wmnlab/F/database/2024-03-20/UDP_Bandlock_9S_Phone_A/sm07/#01/data/udp_dnlk_loss_latency.csv\n",
      "33/72 /home/wmnlab/F/database/2024-03-20/UDP_Bandlock_9S_Phone_A/sm07/#01/data/udp_uplk_loss_latency.csv\n"
     ]
    },
    {
     "data": {
      "application/vnd.jupyter.widget-view+json": {
       "model_id": "6a739f68a8ea4f0882b543e9c565363e",
       "version_major": 2,
       "version_minor": 0
      },
      "text/plain": [
       "  0%|                                                                                                         …"
      ]
     },
     "metadata": {},
     "output_type": "display_data"
    },
    {
     "name": "stdout",
     "output_type": "stream",
     "text": [
      "/home/wmnlab/F/results/20240329_160006be6c_new_dataset_sync/dr_results/dr_20240329_1700005690/20240329_20213200001_0c03344f48d3f530_50%_corr/\\home\\wmnlab\\F\\database\\2024-03-20\\UDP_Bandlock_9S_Phone_A\\sm06\\#01\\data\\udp_dnlk_loss_latency\\home\\wmnlab\\F\\database\\2024-03-20\\UDP_Bandlock_9S_Phone_A\\sm07\\#01\\data\\udp_dnlk_loss_latency.csv\n",
      "34/72 /home/wmnlab/F/database/2024-03-20/UDP_Bandlock_9S_Phone_A/sm06/#01/data/handover_info_log.csv\n",
      "34/72 /home/wmnlab/F/database/2024-03-20/UDP_Bandlock_9S_Phone_A/sm06/#01/data/udp_dnlk_loss_latency.csv\n",
      "34/72 /home/wmnlab/F/database/2024-03-20/UDP_Bandlock_9S_Phone_A/sm06/#01/data/udp_uplk_loss_latency.csv\n",
      "34/72 /home/wmnlab/F/database/2024-03-20/UDP_Bandlock_9S_Phone_A/sm08/#01/data/handover_info_log.csv\n",
      "34/72 /home/wmnlab/F/database/2024-03-20/UDP_Bandlock_9S_Phone_A/sm08/#01/data/udp_dnlk_loss_latency.csv\n",
      "34/72 /home/wmnlab/F/database/2024-03-20/UDP_Bandlock_9S_Phone_A/sm08/#01/data/udp_uplk_loss_latency.csv\n"
     ]
    },
    {
     "data": {
      "application/vnd.jupyter.widget-view+json": {
       "model_id": "6c556454f28d4972ab5cdd88e084f887",
       "version_major": 2,
       "version_minor": 0
      },
      "text/plain": [
       "  0%|                                                                                                         …"
      ]
     },
     "metadata": {},
     "output_type": "display_data"
    },
    {
     "name": "stdout",
     "output_type": "stream",
     "text": [
      "/home/wmnlab/F/results/20240329_160006be6c_new_dataset_sync/dr_results/dr_20240329_1700005690/20240329_20213200001_0c03344f48d3f530_50%_corr/\\home\\wmnlab\\F\\database\\2024-03-20\\UDP_Bandlock_9S_Phone_A\\sm06\\#01\\data\\udp_dnlk_loss_latency\\home\\wmnlab\\F\\database\\2024-03-20\\UDP_Bandlock_9S_Phone_A\\sm08\\#01\\data\\udp_dnlk_loss_latency.csv\n",
      "35/72 /home/wmnlab/F/database/2024-03-20/UDP_Bandlock_9S_Phone_A/sm07/#01/data/handover_info_log.csv\n",
      "35/72 /home/wmnlab/F/database/2024-03-20/UDP_Bandlock_9S_Phone_A/sm07/#01/data/udp_dnlk_loss_latency.csv\n",
      "35/72 /home/wmnlab/F/database/2024-03-20/UDP_Bandlock_9S_Phone_A/sm07/#01/data/udp_uplk_loss_latency.csv\n",
      "35/72 /home/wmnlab/F/database/2024-03-20/UDP_Bandlock_9S_Phone_A/sm08/#01/data/handover_info_log.csv\n",
      "35/72 /home/wmnlab/F/database/2024-03-20/UDP_Bandlock_9S_Phone_A/sm08/#01/data/udp_dnlk_loss_latency.csv\n",
      "35/72 /home/wmnlab/F/database/2024-03-20/UDP_Bandlock_9S_Phone_A/sm08/#01/data/udp_uplk_loss_latency.csv\n"
     ]
    },
    {
     "data": {
      "application/vnd.jupyter.widget-view+json": {
       "model_id": "dddd31c0c6a247879808717ff09976d8",
       "version_major": 2,
       "version_minor": 0
      },
      "text/plain": [
       "  0%|                                                                                                         …"
      ]
     },
     "metadata": {},
     "output_type": "display_data"
    },
    {
     "name": "stdout",
     "output_type": "stream",
     "text": [
      "/home/wmnlab/F/results/20240329_160006be6c_new_dataset_sync/dr_results/dr_20240329_1700005690/20240329_20213200001_0c03344f48d3f530_50%_corr/\\home\\wmnlab\\F\\database\\2024-03-20\\UDP_Bandlock_9S_Phone_A\\sm07\\#01\\data\\udp_dnlk_loss_latency\\home\\wmnlab\\F\\database\\2024-03-20\\UDP_Bandlock_9S_Phone_A\\sm08\\#01\\data\\udp_dnlk_loss_latency.csv\n",
      "36/72 /home/wmnlab/F/database/2024-03-20/UDP_Bandlock_9S_Phone_A/sm00/#02/data/handover_info_log.csv\n",
      "36/72 /home/wmnlab/F/database/2024-03-20/UDP_Bandlock_9S_Phone_A/sm00/#02/data/udp_dnlk_loss_latency.csv\n",
      "36/72 /home/wmnlab/F/database/2024-03-20/UDP_Bandlock_9S_Phone_A/sm00/#02/data/udp_uplk_loss_latency.csv\n",
      "36/72 /home/wmnlab/F/database/2024-03-20/UDP_Bandlock_9S_Phone_A/sm01/#02/data/handover_info_log.csv\n",
      "36/72 /home/wmnlab/F/database/2024-03-20/UDP_Bandlock_9S_Phone_A/sm01/#02/data/udp_dnlk_loss_latency.csv\n",
      "36/72 /home/wmnlab/F/database/2024-03-20/UDP_Bandlock_9S_Phone_A/sm01/#02/data/udp_uplk_loss_latency.csv\n"
     ]
    },
    {
     "data": {
      "application/vnd.jupyter.widget-view+json": {
       "model_id": "eb5f769114864a659ea6aaffb95cf6b9",
       "version_major": 2,
       "version_minor": 0
      },
      "text/plain": [
       "  0%|                                                                                                         …"
      ]
     },
     "metadata": {},
     "output_type": "display_data"
    },
    {
     "name": "stdout",
     "output_type": "stream",
     "text": [
      "/home/wmnlab/F/results/20240329_160006be6c_new_dataset_sync/dr_results/dr_20240329_1700005690/20240329_20213200001_0c03344f48d3f530_50%_corr/\\home\\wmnlab\\F\\database\\2024-03-20\\UDP_Bandlock_9S_Phone_A\\sm00\\#02\\data\\udp_dnlk_loss_latency\\home\\wmnlab\\F\\database\\2024-03-20\\UDP_Bandlock_9S_Phone_A\\sm01\\#02\\data\\udp_dnlk_loss_latency.csv\n",
      "37/72 /home/wmnlab/F/database/2024-03-20/UDP_Bandlock_9S_Phone_A/sm00/#02/data/handover_info_log.csv\n",
      "37/72 /home/wmnlab/F/database/2024-03-20/UDP_Bandlock_9S_Phone_A/sm00/#02/data/udp_dnlk_loss_latency.csv\n",
      "37/72 /home/wmnlab/F/database/2024-03-20/UDP_Bandlock_9S_Phone_A/sm00/#02/data/udp_uplk_loss_latency.csv\n",
      "37/72 /home/wmnlab/F/database/2024-03-20/UDP_Bandlock_9S_Phone_A/sm02/#02/data/handover_info_log.csv\n",
      "37/72 /home/wmnlab/F/database/2024-03-20/UDP_Bandlock_9S_Phone_A/sm02/#02/data/udp_dnlk_loss_latency.csv\n",
      "37/72 /home/wmnlab/F/database/2024-03-20/UDP_Bandlock_9S_Phone_A/sm02/#02/data/udp_uplk_loss_latency.csv\n"
     ]
    },
    {
     "data": {
      "application/vnd.jupyter.widget-view+json": {
       "model_id": "c9895073a07a47b6b08c091f9935bb6d",
       "version_major": 2,
       "version_minor": 0
      },
      "text/plain": [
       "  0%|                                                                                                         …"
      ]
     },
     "metadata": {},
     "output_type": "display_data"
    },
    {
     "name": "stdout",
     "output_type": "stream",
     "text": [
      "/home/wmnlab/F/results/20240329_160006be6c_new_dataset_sync/dr_results/dr_20240329_1700005690/20240329_20213200001_0c03344f48d3f530_50%_corr/\\home\\wmnlab\\F\\database\\2024-03-20\\UDP_Bandlock_9S_Phone_A\\sm00\\#02\\data\\udp_dnlk_loss_latency\\home\\wmnlab\\F\\database\\2024-03-20\\UDP_Bandlock_9S_Phone_A\\sm02\\#02\\data\\udp_dnlk_loss_latency.csv\n",
      "38/72 /home/wmnlab/F/database/2024-03-20/UDP_Bandlock_9S_Phone_A/sm00/#02/data/handover_info_log.csv\n",
      "38/72 /home/wmnlab/F/database/2024-03-20/UDP_Bandlock_9S_Phone_A/sm00/#02/data/udp_dnlk_loss_latency.csv\n",
      "38/72 /home/wmnlab/F/database/2024-03-20/UDP_Bandlock_9S_Phone_A/sm00/#02/data/udp_uplk_loss_latency.csv\n",
      "38/72 /home/wmnlab/F/database/2024-03-20/UDP_Bandlock_9S_Phone_A/sm03/#02/data/handover_info_log.csv\n",
      "38/72 /home/wmnlab/F/database/2024-03-20/UDP_Bandlock_9S_Phone_A/sm03/#02/data/udp_dnlk_loss_latency.csv\n",
      "38/72 /home/wmnlab/F/database/2024-03-20/UDP_Bandlock_9S_Phone_A/sm03/#02/data/udp_uplk_loss_latency.csv\n"
     ]
    },
    {
     "data": {
      "application/vnd.jupyter.widget-view+json": {
       "model_id": "68557cf1c9d545159eeaec5a06f4ce1e",
       "version_major": 2,
       "version_minor": 0
      },
      "text/plain": [
       "  0%|                                                                                                         …"
      ]
     },
     "metadata": {},
     "output_type": "display_data"
    },
    {
     "name": "stdout",
     "output_type": "stream",
     "text": [
      "/home/wmnlab/F/results/20240329_160006be6c_new_dataset_sync/dr_results/dr_20240329_1700005690/20240329_20213200001_0c03344f48d3f530_50%_corr/\\home\\wmnlab\\F\\database\\2024-03-20\\UDP_Bandlock_9S_Phone_A\\sm00\\#02\\data\\udp_dnlk_loss_latency\\home\\wmnlab\\F\\database\\2024-03-20\\UDP_Bandlock_9S_Phone_A\\sm03\\#02\\data\\udp_dnlk_loss_latency.csv\n",
      "39/72 /home/wmnlab/F/database/2024-03-20/UDP_Bandlock_9S_Phone_A/sm00/#02/data/handover_info_log.csv\n",
      "39/72 /home/wmnlab/F/database/2024-03-20/UDP_Bandlock_9S_Phone_A/sm00/#02/data/udp_dnlk_loss_latency.csv\n",
      "39/72 /home/wmnlab/F/database/2024-03-20/UDP_Bandlock_9S_Phone_A/sm00/#02/data/udp_uplk_loss_latency.csv\n",
      "39/72 /home/wmnlab/F/database/2024-03-20/UDP_Bandlock_9S_Phone_A/sm04/#02/data/handover_info_log.csv\n",
      "39/72 /home/wmnlab/F/database/2024-03-20/UDP_Bandlock_9S_Phone_A/sm04/#02/data/udp_dnlk_loss_latency.csv\n",
      "39/72 /home/wmnlab/F/database/2024-03-20/UDP_Bandlock_9S_Phone_A/sm04/#02/data/udp_uplk_loss_latency.csv\n"
     ]
    },
    {
     "data": {
      "application/vnd.jupyter.widget-view+json": {
       "model_id": "fabc2f5a7d8049efb5f5712703281226",
       "version_major": 2,
       "version_minor": 0
      },
      "text/plain": [
       "  0%|                                                                                                         …"
      ]
     },
     "metadata": {},
     "output_type": "display_data"
    },
    {
     "name": "stdout",
     "output_type": "stream",
     "text": [
      "/home/wmnlab/F/results/20240329_160006be6c_new_dataset_sync/dr_results/dr_20240329_1700005690/20240329_20213200001_0c03344f48d3f530_50%_corr/\\home\\wmnlab\\F\\database\\2024-03-20\\UDP_Bandlock_9S_Phone_A\\sm00\\#02\\data\\udp_dnlk_loss_latency\\home\\wmnlab\\F\\database\\2024-03-20\\UDP_Bandlock_9S_Phone_A\\sm04\\#02\\data\\udp_dnlk_loss_latency.csv\n",
      "40/72 /home/wmnlab/F/database/2024-03-20/UDP_Bandlock_9S_Phone_A/sm00/#02/data/handover_info_log.csv\n",
      "40/72 /home/wmnlab/F/database/2024-03-20/UDP_Bandlock_9S_Phone_A/sm00/#02/data/udp_dnlk_loss_latency.csv\n",
      "40/72 /home/wmnlab/F/database/2024-03-20/UDP_Bandlock_9S_Phone_A/sm00/#02/data/udp_uplk_loss_latency.csv\n",
      "40/72 /home/wmnlab/F/database/2024-03-20/UDP_Bandlock_9S_Phone_A/sm05/#02/data/handover_info_log.csv\n",
      "40/72 /home/wmnlab/F/database/2024-03-20/UDP_Bandlock_9S_Phone_A/sm05/#02/data/udp_dnlk_loss_latency.csv\n",
      "40/72 /home/wmnlab/F/database/2024-03-20/UDP_Bandlock_9S_Phone_A/sm05/#02/data/udp_uplk_loss_latency.csv\n"
     ]
    },
    {
     "data": {
      "application/vnd.jupyter.widget-view+json": {
       "model_id": "79e1e922d20a45cfb9db691c9375efc8",
       "version_major": 2,
       "version_minor": 0
      },
      "text/plain": [
       "  0%|                                                                                                         …"
      ]
     },
     "metadata": {},
     "output_type": "display_data"
    },
    {
     "name": "stdout",
     "output_type": "stream",
     "text": [
      "/home/wmnlab/F/results/20240329_160006be6c_new_dataset_sync/dr_results/dr_20240329_1700005690/20240329_20213200001_0c03344f48d3f530_50%_corr/\\home\\wmnlab\\F\\database\\2024-03-20\\UDP_Bandlock_9S_Phone_A\\sm00\\#02\\data\\udp_dnlk_loss_latency\\home\\wmnlab\\F\\database\\2024-03-20\\UDP_Bandlock_9S_Phone_A\\sm05\\#02\\data\\udp_dnlk_loss_latency.csv\n",
      "41/72 /home/wmnlab/F/database/2024-03-20/UDP_Bandlock_9S_Phone_A/sm00/#02/data/handover_info_log.csv\n",
      "41/72 /home/wmnlab/F/database/2024-03-20/UDP_Bandlock_9S_Phone_A/sm00/#02/data/udp_dnlk_loss_latency.csv\n",
      "41/72 /home/wmnlab/F/database/2024-03-20/UDP_Bandlock_9S_Phone_A/sm00/#02/data/udp_uplk_loss_latency.csv\n",
      "41/72 /home/wmnlab/F/database/2024-03-20/UDP_Bandlock_9S_Phone_A/sm06/#02/data/handover_info_log.csv\n",
      "41/72 /home/wmnlab/F/database/2024-03-20/UDP_Bandlock_9S_Phone_A/sm06/#02/data/udp_dnlk_loss_latency.csv\n",
      "41/72 /home/wmnlab/F/database/2024-03-20/UDP_Bandlock_9S_Phone_A/sm06/#02/data/udp_uplk_loss_latency.csv\n"
     ]
    },
    {
     "data": {
      "application/vnd.jupyter.widget-view+json": {
       "model_id": "787042e7e53c470d9a96a11ee530e51a",
       "version_major": 2,
       "version_minor": 0
      },
      "text/plain": [
       "  0%|                                                                                                         …"
      ]
     },
     "metadata": {},
     "output_type": "display_data"
    },
    {
     "name": "stdout",
     "output_type": "stream",
     "text": [
      "/home/wmnlab/F/results/20240329_160006be6c_new_dataset_sync/dr_results/dr_20240329_1700005690/20240329_20213200001_0c03344f48d3f530_50%_corr/\\home\\wmnlab\\F\\database\\2024-03-20\\UDP_Bandlock_9S_Phone_A\\sm00\\#02\\data\\udp_dnlk_loss_latency\\home\\wmnlab\\F\\database\\2024-03-20\\UDP_Bandlock_9S_Phone_A\\sm06\\#02\\data\\udp_dnlk_loss_latency.csv\n",
      "42/72 /home/wmnlab/F/database/2024-03-20/UDP_Bandlock_9S_Phone_A/sm00/#02/data/handover_info_log.csv\n",
      "42/72 /home/wmnlab/F/database/2024-03-20/UDP_Bandlock_9S_Phone_A/sm00/#02/data/udp_dnlk_loss_latency.csv\n",
      "42/72 /home/wmnlab/F/database/2024-03-20/UDP_Bandlock_9S_Phone_A/sm00/#02/data/udp_uplk_loss_latency.csv\n",
      "42/72 /home/wmnlab/F/database/2024-03-20/UDP_Bandlock_9S_Phone_A/sm07/#02/data/handover_info_log.csv\n",
      "42/72 /home/wmnlab/F/database/2024-03-20/UDP_Bandlock_9S_Phone_A/sm07/#02/data/udp_dnlk_loss_latency.csv\n",
      "42/72 /home/wmnlab/F/database/2024-03-20/UDP_Bandlock_9S_Phone_A/sm07/#02/data/udp_uplk_loss_latency.csv\n"
     ]
    },
    {
     "data": {
      "application/vnd.jupyter.widget-view+json": {
       "model_id": "bb37c31c7f594fe3b8c983f01f0bbbc1",
       "version_major": 2,
       "version_minor": 0
      },
      "text/plain": [
       "  0%|                                                                                                         …"
      ]
     },
     "metadata": {},
     "output_type": "display_data"
    },
    {
     "name": "stdout",
     "output_type": "stream",
     "text": [
      "/home/wmnlab/F/results/20240329_160006be6c_new_dataset_sync/dr_results/dr_20240329_1700005690/20240329_20213200001_0c03344f48d3f530_50%_corr/\\home\\wmnlab\\F\\database\\2024-03-20\\UDP_Bandlock_9S_Phone_A\\sm00\\#02\\data\\udp_dnlk_loss_latency\\home\\wmnlab\\F\\database\\2024-03-20\\UDP_Bandlock_9S_Phone_A\\sm07\\#02\\data\\udp_dnlk_loss_latency.csv\n",
      "43/72 /home/wmnlab/F/database/2024-03-20/UDP_Bandlock_9S_Phone_A/sm00/#02/data/handover_info_log.csv\n",
      "43/72 /home/wmnlab/F/database/2024-03-20/UDP_Bandlock_9S_Phone_A/sm00/#02/data/udp_dnlk_loss_latency.csv\n",
      "43/72 /home/wmnlab/F/database/2024-03-20/UDP_Bandlock_9S_Phone_A/sm00/#02/data/udp_uplk_loss_latency.csv\n",
      "43/72 /home/wmnlab/F/database/2024-03-20/UDP_Bandlock_9S_Phone_A/sm08/#02/data/handover_info_log.csv\n",
      "43/72 /home/wmnlab/F/database/2024-03-20/UDP_Bandlock_9S_Phone_A/sm08/#02/data/udp_dnlk_loss_latency.csv\n",
      "43/72 /home/wmnlab/F/database/2024-03-20/UDP_Bandlock_9S_Phone_A/sm08/#02/data/udp_uplk_loss_latency.csv\n"
     ]
    },
    {
     "data": {
      "application/vnd.jupyter.widget-view+json": {
       "model_id": "8e379b96bf5b4355981d9f56df73fb60",
       "version_major": 2,
       "version_minor": 0
      },
      "text/plain": [
       "  0%|                                                                                                         …"
      ]
     },
     "metadata": {},
     "output_type": "display_data"
    },
    {
     "name": "stdout",
     "output_type": "stream",
     "text": [
      "/home/wmnlab/F/results/20240329_160006be6c_new_dataset_sync/dr_results/dr_20240329_1700005690/20240329_20213200001_0c03344f48d3f530_50%_corr/\\home\\wmnlab\\F\\database\\2024-03-20\\UDP_Bandlock_9S_Phone_A\\sm00\\#02\\data\\udp_dnlk_loss_latency\\home\\wmnlab\\F\\database\\2024-03-20\\UDP_Bandlock_9S_Phone_A\\sm08\\#02\\data\\udp_dnlk_loss_latency.csv\n",
      "44/72 /home/wmnlab/F/database/2024-03-20/UDP_Bandlock_9S_Phone_A/sm01/#02/data/handover_info_log.csv\n",
      "44/72 /home/wmnlab/F/database/2024-03-20/UDP_Bandlock_9S_Phone_A/sm01/#02/data/udp_dnlk_loss_latency.csv\n",
      "44/72 /home/wmnlab/F/database/2024-03-20/UDP_Bandlock_9S_Phone_A/sm01/#02/data/udp_uplk_loss_latency.csv\n",
      "44/72 /home/wmnlab/F/database/2024-03-20/UDP_Bandlock_9S_Phone_A/sm02/#02/data/handover_info_log.csv\n",
      "44/72 /home/wmnlab/F/database/2024-03-20/UDP_Bandlock_9S_Phone_A/sm02/#02/data/udp_dnlk_loss_latency.csv\n",
      "44/72 /home/wmnlab/F/database/2024-03-20/UDP_Bandlock_9S_Phone_A/sm02/#02/data/udp_uplk_loss_latency.csv\n"
     ]
    },
    {
     "data": {
      "application/vnd.jupyter.widget-view+json": {
       "model_id": "28c338f69ce94b7095640174c2f621e5",
       "version_major": 2,
       "version_minor": 0
      },
      "text/plain": [
       "  0%|                                                                                                         …"
      ]
     },
     "metadata": {},
     "output_type": "display_data"
    },
    {
     "name": "stdout",
     "output_type": "stream",
     "text": [
      "/home/wmnlab/F/results/20240329_160006be6c_new_dataset_sync/dr_results/dr_20240329_1700005690/20240329_20213200001_0c03344f48d3f530_50%_corr/\\home\\wmnlab\\F\\database\\2024-03-20\\UDP_Bandlock_9S_Phone_A\\sm01\\#02\\data\\udp_dnlk_loss_latency\\home\\wmnlab\\F\\database\\2024-03-20\\UDP_Bandlock_9S_Phone_A\\sm02\\#02\\data\\udp_dnlk_loss_latency.csv\n",
      "45/72 /home/wmnlab/F/database/2024-03-20/UDP_Bandlock_9S_Phone_A/sm01/#02/data/handover_info_log.csv\n",
      "45/72 /home/wmnlab/F/database/2024-03-20/UDP_Bandlock_9S_Phone_A/sm01/#02/data/udp_dnlk_loss_latency.csv\n",
      "45/72 /home/wmnlab/F/database/2024-03-20/UDP_Bandlock_9S_Phone_A/sm01/#02/data/udp_uplk_loss_latency.csv\n",
      "45/72 /home/wmnlab/F/database/2024-03-20/UDP_Bandlock_9S_Phone_A/sm03/#02/data/handover_info_log.csv\n",
      "45/72 /home/wmnlab/F/database/2024-03-20/UDP_Bandlock_9S_Phone_A/sm03/#02/data/udp_dnlk_loss_latency.csv\n",
      "45/72 /home/wmnlab/F/database/2024-03-20/UDP_Bandlock_9S_Phone_A/sm03/#02/data/udp_uplk_loss_latency.csv\n"
     ]
    },
    {
     "data": {
      "application/vnd.jupyter.widget-view+json": {
       "model_id": "63154baed4e74cf29d6ada460f2fd7fc",
       "version_major": 2,
       "version_minor": 0
      },
      "text/plain": [
       "  0%|                                                                                                         …"
      ]
     },
     "metadata": {},
     "output_type": "display_data"
    },
    {
     "name": "stdout",
     "output_type": "stream",
     "text": [
      "/home/wmnlab/F/results/20240329_160006be6c_new_dataset_sync/dr_results/dr_20240329_1700005690/20240329_20213200001_0c03344f48d3f530_50%_corr/\\home\\wmnlab\\F\\database\\2024-03-20\\UDP_Bandlock_9S_Phone_A\\sm01\\#02\\data\\udp_dnlk_loss_latency\\home\\wmnlab\\F\\database\\2024-03-20\\UDP_Bandlock_9S_Phone_A\\sm03\\#02\\data\\udp_dnlk_loss_latency.csv\n",
      "46/72 /home/wmnlab/F/database/2024-03-20/UDP_Bandlock_9S_Phone_A/sm01/#02/data/handover_info_log.csv\n",
      "46/72 /home/wmnlab/F/database/2024-03-20/UDP_Bandlock_9S_Phone_A/sm01/#02/data/udp_dnlk_loss_latency.csv\n",
      "46/72 /home/wmnlab/F/database/2024-03-20/UDP_Bandlock_9S_Phone_A/sm01/#02/data/udp_uplk_loss_latency.csv\n",
      "46/72 /home/wmnlab/F/database/2024-03-20/UDP_Bandlock_9S_Phone_A/sm04/#02/data/handover_info_log.csv\n",
      "46/72 /home/wmnlab/F/database/2024-03-20/UDP_Bandlock_9S_Phone_A/sm04/#02/data/udp_dnlk_loss_latency.csv\n",
      "46/72 /home/wmnlab/F/database/2024-03-20/UDP_Bandlock_9S_Phone_A/sm04/#02/data/udp_uplk_loss_latency.csv\n"
     ]
    },
    {
     "data": {
      "application/vnd.jupyter.widget-view+json": {
       "model_id": "dbfbcf931de746d89dfb04970f5b8e70",
       "version_major": 2,
       "version_minor": 0
      },
      "text/plain": [
       "  0%|                                                                                                         …"
      ]
     },
     "metadata": {},
     "output_type": "display_data"
    },
    {
     "name": "stdout",
     "output_type": "stream",
     "text": [
      "/home/wmnlab/F/results/20240329_160006be6c_new_dataset_sync/dr_results/dr_20240329_1700005690/20240329_20213200001_0c03344f48d3f530_50%_corr/\\home\\wmnlab\\F\\database\\2024-03-20\\UDP_Bandlock_9S_Phone_A\\sm01\\#02\\data\\udp_dnlk_loss_latency\\home\\wmnlab\\F\\database\\2024-03-20\\UDP_Bandlock_9S_Phone_A\\sm04\\#02\\data\\udp_dnlk_loss_latency.csv\n",
      "47/72 /home/wmnlab/F/database/2024-03-20/UDP_Bandlock_9S_Phone_A/sm01/#02/data/handover_info_log.csv\n",
      "47/72 /home/wmnlab/F/database/2024-03-20/UDP_Bandlock_9S_Phone_A/sm01/#02/data/udp_dnlk_loss_latency.csv\n",
      "47/72 /home/wmnlab/F/database/2024-03-20/UDP_Bandlock_9S_Phone_A/sm01/#02/data/udp_uplk_loss_latency.csv\n",
      "47/72 /home/wmnlab/F/database/2024-03-20/UDP_Bandlock_9S_Phone_A/sm05/#02/data/handover_info_log.csv\n",
      "47/72 /home/wmnlab/F/database/2024-03-20/UDP_Bandlock_9S_Phone_A/sm05/#02/data/udp_dnlk_loss_latency.csv\n",
      "47/72 /home/wmnlab/F/database/2024-03-20/UDP_Bandlock_9S_Phone_A/sm05/#02/data/udp_uplk_loss_latency.csv\n"
     ]
    },
    {
     "data": {
      "application/vnd.jupyter.widget-view+json": {
       "model_id": "56b04f49b56d4cebab4353b0ef1b7341",
       "version_major": 2,
       "version_minor": 0
      },
      "text/plain": [
       "  0%|                                                                                                         …"
      ]
     },
     "metadata": {},
     "output_type": "display_data"
    },
    {
     "name": "stdout",
     "output_type": "stream",
     "text": [
      "/home/wmnlab/F/results/20240329_160006be6c_new_dataset_sync/dr_results/dr_20240329_1700005690/20240329_20213200001_0c03344f48d3f530_50%_corr/\\home\\wmnlab\\F\\database\\2024-03-20\\UDP_Bandlock_9S_Phone_A\\sm01\\#02\\data\\udp_dnlk_loss_latency\\home\\wmnlab\\F\\database\\2024-03-20\\UDP_Bandlock_9S_Phone_A\\sm05\\#02\\data\\udp_dnlk_loss_latency.csv\n",
      "48/72 /home/wmnlab/F/database/2024-03-20/UDP_Bandlock_9S_Phone_A/sm01/#02/data/handover_info_log.csv\n",
      "48/72 /home/wmnlab/F/database/2024-03-20/UDP_Bandlock_9S_Phone_A/sm01/#02/data/udp_dnlk_loss_latency.csv\n",
      "48/72 /home/wmnlab/F/database/2024-03-20/UDP_Bandlock_9S_Phone_A/sm01/#02/data/udp_uplk_loss_latency.csv\n",
      "48/72 /home/wmnlab/F/database/2024-03-20/UDP_Bandlock_9S_Phone_A/sm06/#02/data/handover_info_log.csv\n",
      "48/72 /home/wmnlab/F/database/2024-03-20/UDP_Bandlock_9S_Phone_A/sm06/#02/data/udp_dnlk_loss_latency.csv\n",
      "48/72 /home/wmnlab/F/database/2024-03-20/UDP_Bandlock_9S_Phone_A/sm06/#02/data/udp_uplk_loss_latency.csv\n"
     ]
    },
    {
     "data": {
      "application/vnd.jupyter.widget-view+json": {
       "model_id": "ef7ca157f3f643578910360ea07f53ab",
       "version_major": 2,
       "version_minor": 0
      },
      "text/plain": [
       "  0%|                                                                                                         …"
      ]
     },
     "metadata": {},
     "output_type": "display_data"
    },
    {
     "name": "stdout",
     "output_type": "stream",
     "text": [
      "/home/wmnlab/F/results/20240329_160006be6c_new_dataset_sync/dr_results/dr_20240329_1700005690/20240329_20213200001_0c03344f48d3f530_50%_corr/\\home\\wmnlab\\F\\database\\2024-03-20\\UDP_Bandlock_9S_Phone_A\\sm01\\#02\\data\\udp_dnlk_loss_latency\\home\\wmnlab\\F\\database\\2024-03-20\\UDP_Bandlock_9S_Phone_A\\sm06\\#02\\data\\udp_dnlk_loss_latency.csv\n",
      "49/72 /home/wmnlab/F/database/2024-03-20/UDP_Bandlock_9S_Phone_A/sm01/#02/data/handover_info_log.csv\n",
      "49/72 /home/wmnlab/F/database/2024-03-20/UDP_Bandlock_9S_Phone_A/sm01/#02/data/udp_dnlk_loss_latency.csv\n",
      "49/72 /home/wmnlab/F/database/2024-03-20/UDP_Bandlock_9S_Phone_A/sm01/#02/data/udp_uplk_loss_latency.csv\n",
      "49/72 /home/wmnlab/F/database/2024-03-20/UDP_Bandlock_9S_Phone_A/sm07/#02/data/handover_info_log.csv\n",
      "49/72 /home/wmnlab/F/database/2024-03-20/UDP_Bandlock_9S_Phone_A/sm07/#02/data/udp_dnlk_loss_latency.csv\n",
      "49/72 /home/wmnlab/F/database/2024-03-20/UDP_Bandlock_9S_Phone_A/sm07/#02/data/udp_uplk_loss_latency.csv\n"
     ]
    },
    {
     "data": {
      "application/vnd.jupyter.widget-view+json": {
       "model_id": "843843a4a90143c4990d7668293e7283",
       "version_major": 2,
       "version_minor": 0
      },
      "text/plain": [
       "  0%|                                                                                                         …"
      ]
     },
     "metadata": {},
     "output_type": "display_data"
    },
    {
     "name": "stdout",
     "output_type": "stream",
     "text": [
      "/home/wmnlab/F/results/20240329_160006be6c_new_dataset_sync/dr_results/dr_20240329_1700005690/20240329_20213200001_0c03344f48d3f530_50%_corr/\\home\\wmnlab\\F\\database\\2024-03-20\\UDP_Bandlock_9S_Phone_A\\sm01\\#02\\data\\udp_dnlk_loss_latency\\home\\wmnlab\\F\\database\\2024-03-20\\UDP_Bandlock_9S_Phone_A\\sm07\\#02\\data\\udp_dnlk_loss_latency.csv\n",
      "50/72 /home/wmnlab/F/database/2024-03-20/UDP_Bandlock_9S_Phone_A/sm01/#02/data/handover_info_log.csv\n",
      "50/72 /home/wmnlab/F/database/2024-03-20/UDP_Bandlock_9S_Phone_A/sm01/#02/data/udp_dnlk_loss_latency.csv\n",
      "50/72 /home/wmnlab/F/database/2024-03-20/UDP_Bandlock_9S_Phone_A/sm01/#02/data/udp_uplk_loss_latency.csv\n",
      "50/72 /home/wmnlab/F/database/2024-03-20/UDP_Bandlock_9S_Phone_A/sm08/#02/data/handover_info_log.csv\n",
      "50/72 /home/wmnlab/F/database/2024-03-20/UDP_Bandlock_9S_Phone_A/sm08/#02/data/udp_dnlk_loss_latency.csv\n",
      "50/72 /home/wmnlab/F/database/2024-03-20/UDP_Bandlock_9S_Phone_A/sm08/#02/data/udp_uplk_loss_latency.csv\n"
     ]
    },
    {
     "data": {
      "application/vnd.jupyter.widget-view+json": {
       "model_id": "39f4440e199348c8a29db4f4ce4db201",
       "version_major": 2,
       "version_minor": 0
      },
      "text/plain": [
       "  0%|                                                                                                         …"
      ]
     },
     "metadata": {},
     "output_type": "display_data"
    },
    {
     "name": "stdout",
     "output_type": "stream",
     "text": [
      "/home/wmnlab/F/results/20240329_160006be6c_new_dataset_sync/dr_results/dr_20240329_1700005690/20240329_20213200001_0c03344f48d3f530_50%_corr/\\home\\wmnlab\\F\\database\\2024-03-20\\UDP_Bandlock_9S_Phone_A\\sm01\\#02\\data\\udp_dnlk_loss_latency\\home\\wmnlab\\F\\database\\2024-03-20\\UDP_Bandlock_9S_Phone_A\\sm08\\#02\\data\\udp_dnlk_loss_latency.csv\n",
      "51/72 /home/wmnlab/F/database/2024-03-20/UDP_Bandlock_9S_Phone_A/sm02/#02/data/handover_info_log.csv\n",
      "51/72 /home/wmnlab/F/database/2024-03-20/UDP_Bandlock_9S_Phone_A/sm02/#02/data/udp_dnlk_loss_latency.csv\n",
      "51/72 /home/wmnlab/F/database/2024-03-20/UDP_Bandlock_9S_Phone_A/sm02/#02/data/udp_uplk_loss_latency.csv\n",
      "51/72 /home/wmnlab/F/database/2024-03-20/UDP_Bandlock_9S_Phone_A/sm03/#02/data/handover_info_log.csv\n",
      "51/72 /home/wmnlab/F/database/2024-03-20/UDP_Bandlock_9S_Phone_A/sm03/#02/data/udp_dnlk_loss_latency.csv\n",
      "51/72 /home/wmnlab/F/database/2024-03-20/UDP_Bandlock_9S_Phone_A/sm03/#02/data/udp_uplk_loss_latency.csv\n"
     ]
    },
    {
     "data": {
      "application/vnd.jupyter.widget-view+json": {
       "model_id": "15b7340591e44606be0112fd9402bf92",
       "version_major": 2,
       "version_minor": 0
      },
      "text/plain": [
       "  0%|                                                                                                         …"
      ]
     },
     "metadata": {},
     "output_type": "display_data"
    },
    {
     "name": "stdout",
     "output_type": "stream",
     "text": [
      "/home/wmnlab/F/results/20240329_160006be6c_new_dataset_sync/dr_results/dr_20240329_1700005690/20240329_20213200001_0c03344f48d3f530_50%_corr/\\home\\wmnlab\\F\\database\\2024-03-20\\UDP_Bandlock_9S_Phone_A\\sm02\\#02\\data\\udp_dnlk_loss_latency\\home\\wmnlab\\F\\database\\2024-03-20\\UDP_Bandlock_9S_Phone_A\\sm03\\#02\\data\\udp_dnlk_loss_latency.csv\n",
      "52/72 /home/wmnlab/F/database/2024-03-20/UDP_Bandlock_9S_Phone_A/sm02/#02/data/handover_info_log.csv\n",
      "52/72 /home/wmnlab/F/database/2024-03-20/UDP_Bandlock_9S_Phone_A/sm02/#02/data/udp_dnlk_loss_latency.csv\n",
      "52/72 /home/wmnlab/F/database/2024-03-20/UDP_Bandlock_9S_Phone_A/sm02/#02/data/udp_uplk_loss_latency.csv\n",
      "52/72 /home/wmnlab/F/database/2024-03-20/UDP_Bandlock_9S_Phone_A/sm04/#02/data/handover_info_log.csv\n",
      "52/72 /home/wmnlab/F/database/2024-03-20/UDP_Bandlock_9S_Phone_A/sm04/#02/data/udp_dnlk_loss_latency.csv\n",
      "52/72 /home/wmnlab/F/database/2024-03-20/UDP_Bandlock_9S_Phone_A/sm04/#02/data/udp_uplk_loss_latency.csv\n"
     ]
    },
    {
     "data": {
      "application/vnd.jupyter.widget-view+json": {
       "model_id": "99aa1e14bfa14aa3b246fcfb85f45fef",
       "version_major": 2,
       "version_minor": 0
      },
      "text/plain": [
       "  0%|                                                                                                         …"
      ]
     },
     "metadata": {},
     "output_type": "display_data"
    },
    {
     "name": "stdout",
     "output_type": "stream",
     "text": [
      "/home/wmnlab/F/results/20240329_160006be6c_new_dataset_sync/dr_results/dr_20240329_1700005690/20240329_20213200001_0c03344f48d3f530_50%_corr/\\home\\wmnlab\\F\\database\\2024-03-20\\UDP_Bandlock_9S_Phone_A\\sm02\\#02\\data\\udp_dnlk_loss_latency\\home\\wmnlab\\F\\database\\2024-03-20\\UDP_Bandlock_9S_Phone_A\\sm04\\#02\\data\\udp_dnlk_loss_latency.csv\n",
      "53/72 /home/wmnlab/F/database/2024-03-20/UDP_Bandlock_9S_Phone_A/sm02/#02/data/handover_info_log.csv\n",
      "53/72 /home/wmnlab/F/database/2024-03-20/UDP_Bandlock_9S_Phone_A/sm02/#02/data/udp_dnlk_loss_latency.csv\n",
      "53/72 /home/wmnlab/F/database/2024-03-20/UDP_Bandlock_9S_Phone_A/sm02/#02/data/udp_uplk_loss_latency.csv\n",
      "53/72 /home/wmnlab/F/database/2024-03-20/UDP_Bandlock_9S_Phone_A/sm05/#02/data/handover_info_log.csv\n",
      "53/72 /home/wmnlab/F/database/2024-03-20/UDP_Bandlock_9S_Phone_A/sm05/#02/data/udp_dnlk_loss_latency.csv\n",
      "53/72 /home/wmnlab/F/database/2024-03-20/UDP_Bandlock_9S_Phone_A/sm05/#02/data/udp_uplk_loss_latency.csv\n"
     ]
    },
    {
     "data": {
      "application/vnd.jupyter.widget-view+json": {
       "model_id": "d9a14160056d4020bcb0daa8a84eccba",
       "version_major": 2,
       "version_minor": 0
      },
      "text/plain": [
       "  0%|                                                                                                         …"
      ]
     },
     "metadata": {},
     "output_type": "display_data"
    },
    {
     "name": "stdout",
     "output_type": "stream",
     "text": [
      "/home/wmnlab/F/results/20240329_160006be6c_new_dataset_sync/dr_results/dr_20240329_1700005690/20240329_20213200001_0c03344f48d3f530_50%_corr/\\home\\wmnlab\\F\\database\\2024-03-20\\UDP_Bandlock_9S_Phone_A\\sm02\\#02\\data\\udp_dnlk_loss_latency\\home\\wmnlab\\F\\database\\2024-03-20\\UDP_Bandlock_9S_Phone_A\\sm05\\#02\\data\\udp_dnlk_loss_latency.csv\n",
      "54/72 /home/wmnlab/F/database/2024-03-20/UDP_Bandlock_9S_Phone_A/sm02/#02/data/handover_info_log.csv\n",
      "54/72 /home/wmnlab/F/database/2024-03-20/UDP_Bandlock_9S_Phone_A/sm02/#02/data/udp_dnlk_loss_latency.csv\n",
      "54/72 /home/wmnlab/F/database/2024-03-20/UDP_Bandlock_9S_Phone_A/sm02/#02/data/udp_uplk_loss_latency.csv\n",
      "54/72 /home/wmnlab/F/database/2024-03-20/UDP_Bandlock_9S_Phone_A/sm06/#02/data/handover_info_log.csv\n",
      "54/72 /home/wmnlab/F/database/2024-03-20/UDP_Bandlock_9S_Phone_A/sm06/#02/data/udp_dnlk_loss_latency.csv\n",
      "54/72 /home/wmnlab/F/database/2024-03-20/UDP_Bandlock_9S_Phone_A/sm06/#02/data/udp_uplk_loss_latency.csv\n"
     ]
    },
    {
     "data": {
      "application/vnd.jupyter.widget-view+json": {
       "model_id": "4359ee9e8b7047cd864fc0d4c03ee40c",
       "version_major": 2,
       "version_minor": 0
      },
      "text/plain": [
       "  0%|                                                                                                         …"
      ]
     },
     "metadata": {},
     "output_type": "display_data"
    },
    {
     "name": "stdout",
     "output_type": "stream",
     "text": [
      "/home/wmnlab/F/results/20240329_160006be6c_new_dataset_sync/dr_results/dr_20240329_1700005690/20240329_20213200001_0c03344f48d3f530_50%_corr/\\home\\wmnlab\\F\\database\\2024-03-20\\UDP_Bandlock_9S_Phone_A\\sm02\\#02\\data\\udp_dnlk_loss_latency\\home\\wmnlab\\F\\database\\2024-03-20\\UDP_Bandlock_9S_Phone_A\\sm06\\#02\\data\\udp_dnlk_loss_latency.csv\n",
      "55/72 /home/wmnlab/F/database/2024-03-20/UDP_Bandlock_9S_Phone_A/sm02/#02/data/handover_info_log.csv\n",
      "55/72 /home/wmnlab/F/database/2024-03-20/UDP_Bandlock_9S_Phone_A/sm02/#02/data/udp_dnlk_loss_latency.csv\n",
      "55/72 /home/wmnlab/F/database/2024-03-20/UDP_Bandlock_9S_Phone_A/sm02/#02/data/udp_uplk_loss_latency.csv\n",
      "55/72 /home/wmnlab/F/database/2024-03-20/UDP_Bandlock_9S_Phone_A/sm07/#02/data/handover_info_log.csv\n",
      "55/72 /home/wmnlab/F/database/2024-03-20/UDP_Bandlock_9S_Phone_A/sm07/#02/data/udp_dnlk_loss_latency.csv\n",
      "55/72 /home/wmnlab/F/database/2024-03-20/UDP_Bandlock_9S_Phone_A/sm07/#02/data/udp_uplk_loss_latency.csv\n"
     ]
    },
    {
     "data": {
      "application/vnd.jupyter.widget-view+json": {
       "model_id": "744bcb27179c445799fb96ab2c2e557d",
       "version_major": 2,
       "version_minor": 0
      },
      "text/plain": [
       "  0%|                                                                                                         …"
      ]
     },
     "metadata": {},
     "output_type": "display_data"
    },
    {
     "name": "stdout",
     "output_type": "stream",
     "text": [
      "/home/wmnlab/F/results/20240329_160006be6c_new_dataset_sync/dr_results/dr_20240329_1700005690/20240329_20213200001_0c03344f48d3f530_50%_corr/\\home\\wmnlab\\F\\database\\2024-03-20\\UDP_Bandlock_9S_Phone_A\\sm02\\#02\\data\\udp_dnlk_loss_latency\\home\\wmnlab\\F\\database\\2024-03-20\\UDP_Bandlock_9S_Phone_A\\sm07\\#02\\data\\udp_dnlk_loss_latency.csv\n",
      "56/72 /home/wmnlab/F/database/2024-03-20/UDP_Bandlock_9S_Phone_A/sm02/#02/data/handover_info_log.csv\n",
      "56/72 /home/wmnlab/F/database/2024-03-20/UDP_Bandlock_9S_Phone_A/sm02/#02/data/udp_dnlk_loss_latency.csv\n",
      "56/72 /home/wmnlab/F/database/2024-03-20/UDP_Bandlock_9S_Phone_A/sm02/#02/data/udp_uplk_loss_latency.csv\n",
      "56/72 /home/wmnlab/F/database/2024-03-20/UDP_Bandlock_9S_Phone_A/sm08/#02/data/handover_info_log.csv\n",
      "56/72 /home/wmnlab/F/database/2024-03-20/UDP_Bandlock_9S_Phone_A/sm08/#02/data/udp_dnlk_loss_latency.csv\n",
      "56/72 /home/wmnlab/F/database/2024-03-20/UDP_Bandlock_9S_Phone_A/sm08/#02/data/udp_uplk_loss_latency.csv\n"
     ]
    },
    {
     "data": {
      "application/vnd.jupyter.widget-view+json": {
       "model_id": "e486345ffdd14fcf8ebd560f0f050f75",
       "version_major": 2,
       "version_minor": 0
      },
      "text/plain": [
       "  0%|                                                                                                         …"
      ]
     },
     "metadata": {},
     "output_type": "display_data"
    },
    {
     "name": "stdout",
     "output_type": "stream",
     "text": [
      "/home/wmnlab/F/results/20240329_160006be6c_new_dataset_sync/dr_results/dr_20240329_1700005690/20240329_20213200001_0c03344f48d3f530_50%_corr/\\home\\wmnlab\\F\\database\\2024-03-20\\UDP_Bandlock_9S_Phone_A\\sm02\\#02\\data\\udp_dnlk_loss_latency\\home\\wmnlab\\F\\database\\2024-03-20\\UDP_Bandlock_9S_Phone_A\\sm08\\#02\\data\\udp_dnlk_loss_latency.csv\n",
      "57/72 /home/wmnlab/F/database/2024-03-20/UDP_Bandlock_9S_Phone_A/sm03/#02/data/handover_info_log.csv\n",
      "57/72 /home/wmnlab/F/database/2024-03-20/UDP_Bandlock_9S_Phone_A/sm03/#02/data/udp_dnlk_loss_latency.csv\n",
      "57/72 /home/wmnlab/F/database/2024-03-20/UDP_Bandlock_9S_Phone_A/sm03/#02/data/udp_uplk_loss_latency.csv\n",
      "57/72 /home/wmnlab/F/database/2024-03-20/UDP_Bandlock_9S_Phone_A/sm04/#02/data/handover_info_log.csv\n",
      "57/72 /home/wmnlab/F/database/2024-03-20/UDP_Bandlock_9S_Phone_A/sm04/#02/data/udp_dnlk_loss_latency.csv\n",
      "57/72 /home/wmnlab/F/database/2024-03-20/UDP_Bandlock_9S_Phone_A/sm04/#02/data/udp_uplk_loss_latency.csv\n"
     ]
    },
    {
     "data": {
      "application/vnd.jupyter.widget-view+json": {
       "model_id": "46a148c9bb0a4e5993513cb340b803c4",
       "version_major": 2,
       "version_minor": 0
      },
      "text/plain": [
       "  0%|                                                                                                         …"
      ]
     },
     "metadata": {},
     "output_type": "display_data"
    },
    {
     "name": "stdout",
     "output_type": "stream",
     "text": [
      "/home/wmnlab/F/results/20240329_160006be6c_new_dataset_sync/dr_results/dr_20240329_1700005690/20240329_20213200001_0c03344f48d3f530_50%_corr/\\home\\wmnlab\\F\\database\\2024-03-20\\UDP_Bandlock_9S_Phone_A\\sm03\\#02\\data\\udp_dnlk_loss_latency\\home\\wmnlab\\F\\database\\2024-03-20\\UDP_Bandlock_9S_Phone_A\\sm04\\#02\\data\\udp_dnlk_loss_latency.csv\n",
      "58/72 /home/wmnlab/F/database/2024-03-20/UDP_Bandlock_9S_Phone_A/sm03/#02/data/handover_info_log.csv\n",
      "58/72 /home/wmnlab/F/database/2024-03-20/UDP_Bandlock_9S_Phone_A/sm03/#02/data/udp_dnlk_loss_latency.csv\n",
      "58/72 /home/wmnlab/F/database/2024-03-20/UDP_Bandlock_9S_Phone_A/sm03/#02/data/udp_uplk_loss_latency.csv\n",
      "58/72 /home/wmnlab/F/database/2024-03-20/UDP_Bandlock_9S_Phone_A/sm05/#02/data/handover_info_log.csv\n",
      "58/72 /home/wmnlab/F/database/2024-03-20/UDP_Bandlock_9S_Phone_A/sm05/#02/data/udp_dnlk_loss_latency.csv\n",
      "58/72 /home/wmnlab/F/database/2024-03-20/UDP_Bandlock_9S_Phone_A/sm05/#02/data/udp_uplk_loss_latency.csv\n"
     ]
    },
    {
     "data": {
      "application/vnd.jupyter.widget-view+json": {
       "model_id": "9bf7a4dc37e648199c7c92d3cec2ad9e",
       "version_major": 2,
       "version_minor": 0
      },
      "text/plain": [
       "  0%|                                                                                                         …"
      ]
     },
     "metadata": {},
     "output_type": "display_data"
    },
    {
     "name": "stdout",
     "output_type": "stream",
     "text": [
      "/home/wmnlab/F/results/20240329_160006be6c_new_dataset_sync/dr_results/dr_20240329_1700005690/20240329_20213200001_0c03344f48d3f530_50%_corr/\\home\\wmnlab\\F\\database\\2024-03-20\\UDP_Bandlock_9S_Phone_A\\sm03\\#02\\data\\udp_dnlk_loss_latency\\home\\wmnlab\\F\\database\\2024-03-20\\UDP_Bandlock_9S_Phone_A\\sm05\\#02\\data\\udp_dnlk_loss_latency.csv\n",
      "59/72 /home/wmnlab/F/database/2024-03-20/UDP_Bandlock_9S_Phone_A/sm03/#02/data/handover_info_log.csv\n",
      "59/72 /home/wmnlab/F/database/2024-03-20/UDP_Bandlock_9S_Phone_A/sm03/#02/data/udp_dnlk_loss_latency.csv\n",
      "59/72 /home/wmnlab/F/database/2024-03-20/UDP_Bandlock_9S_Phone_A/sm03/#02/data/udp_uplk_loss_latency.csv\n",
      "59/72 /home/wmnlab/F/database/2024-03-20/UDP_Bandlock_9S_Phone_A/sm06/#02/data/handover_info_log.csv\n",
      "59/72 /home/wmnlab/F/database/2024-03-20/UDP_Bandlock_9S_Phone_A/sm06/#02/data/udp_dnlk_loss_latency.csv\n",
      "59/72 /home/wmnlab/F/database/2024-03-20/UDP_Bandlock_9S_Phone_A/sm06/#02/data/udp_uplk_loss_latency.csv\n"
     ]
    },
    {
     "data": {
      "application/vnd.jupyter.widget-view+json": {
       "model_id": "a5b93748b2ba43a69482150772da8d91",
       "version_major": 2,
       "version_minor": 0
      },
      "text/plain": [
       "  0%|                                                                                                         …"
      ]
     },
     "metadata": {},
     "output_type": "display_data"
    },
    {
     "name": "stdout",
     "output_type": "stream",
     "text": [
      "/home/wmnlab/F/results/20240329_160006be6c_new_dataset_sync/dr_results/dr_20240329_1700005690/20240329_20213200001_0c03344f48d3f530_50%_corr/\\home\\wmnlab\\F\\database\\2024-03-20\\UDP_Bandlock_9S_Phone_A\\sm03\\#02\\data\\udp_dnlk_loss_latency\\home\\wmnlab\\F\\database\\2024-03-20\\UDP_Bandlock_9S_Phone_A\\sm06\\#02\\data\\udp_dnlk_loss_latency.csv\n",
      "60/72 /home/wmnlab/F/database/2024-03-20/UDP_Bandlock_9S_Phone_A/sm03/#02/data/handover_info_log.csv\n",
      "60/72 /home/wmnlab/F/database/2024-03-20/UDP_Bandlock_9S_Phone_A/sm03/#02/data/udp_dnlk_loss_latency.csv\n",
      "60/72 /home/wmnlab/F/database/2024-03-20/UDP_Bandlock_9S_Phone_A/sm03/#02/data/udp_uplk_loss_latency.csv\n",
      "60/72 /home/wmnlab/F/database/2024-03-20/UDP_Bandlock_9S_Phone_A/sm07/#02/data/handover_info_log.csv\n",
      "60/72 /home/wmnlab/F/database/2024-03-20/UDP_Bandlock_9S_Phone_A/sm07/#02/data/udp_dnlk_loss_latency.csv\n",
      "60/72 /home/wmnlab/F/database/2024-03-20/UDP_Bandlock_9S_Phone_A/sm07/#02/data/udp_uplk_loss_latency.csv\n"
     ]
    },
    {
     "data": {
      "application/vnd.jupyter.widget-view+json": {
       "model_id": "a204c364a383439db41144122e1d2426",
       "version_major": 2,
       "version_minor": 0
      },
      "text/plain": [
       "  0%|                                                                                                         …"
      ]
     },
     "metadata": {},
     "output_type": "display_data"
    },
    {
     "name": "stdout",
     "output_type": "stream",
     "text": [
      "/home/wmnlab/F/results/20240329_160006be6c_new_dataset_sync/dr_results/dr_20240329_1700005690/20240329_20213200001_0c03344f48d3f530_50%_corr/\\home\\wmnlab\\F\\database\\2024-03-20\\UDP_Bandlock_9S_Phone_A\\sm03\\#02\\data\\udp_dnlk_loss_latency\\home\\wmnlab\\F\\database\\2024-03-20\\UDP_Bandlock_9S_Phone_A\\sm07\\#02\\data\\udp_dnlk_loss_latency.csv\n",
      "61/72 /home/wmnlab/F/database/2024-03-20/UDP_Bandlock_9S_Phone_A/sm03/#02/data/handover_info_log.csv\n",
      "61/72 /home/wmnlab/F/database/2024-03-20/UDP_Bandlock_9S_Phone_A/sm03/#02/data/udp_dnlk_loss_latency.csv\n",
      "61/72 /home/wmnlab/F/database/2024-03-20/UDP_Bandlock_9S_Phone_A/sm03/#02/data/udp_uplk_loss_latency.csv\n",
      "61/72 /home/wmnlab/F/database/2024-03-20/UDP_Bandlock_9S_Phone_A/sm08/#02/data/handover_info_log.csv\n",
      "61/72 /home/wmnlab/F/database/2024-03-20/UDP_Bandlock_9S_Phone_A/sm08/#02/data/udp_dnlk_loss_latency.csv\n",
      "61/72 /home/wmnlab/F/database/2024-03-20/UDP_Bandlock_9S_Phone_A/sm08/#02/data/udp_uplk_loss_latency.csv\n"
     ]
    },
    {
     "data": {
      "application/vnd.jupyter.widget-view+json": {
       "model_id": "221125d9075b49cb9df1c794da5d08bd",
       "version_major": 2,
       "version_minor": 0
      },
      "text/plain": [
       "  0%|                                                                                                         …"
      ]
     },
     "metadata": {},
     "output_type": "display_data"
    },
    {
     "name": "stdout",
     "output_type": "stream",
     "text": [
      "/home/wmnlab/F/results/20240329_160006be6c_new_dataset_sync/dr_results/dr_20240329_1700005690/20240329_20213200001_0c03344f48d3f530_50%_corr/\\home\\wmnlab\\F\\database\\2024-03-20\\UDP_Bandlock_9S_Phone_A\\sm03\\#02\\data\\udp_dnlk_loss_latency\\home\\wmnlab\\F\\database\\2024-03-20\\UDP_Bandlock_9S_Phone_A\\sm08\\#02\\data\\udp_dnlk_loss_latency.csv\n",
      "62/72 /home/wmnlab/F/database/2024-03-20/UDP_Bandlock_9S_Phone_A/sm04/#02/data/handover_info_log.csv\n",
      "62/72 /home/wmnlab/F/database/2024-03-20/UDP_Bandlock_9S_Phone_A/sm04/#02/data/udp_dnlk_loss_latency.csv\n",
      "62/72 /home/wmnlab/F/database/2024-03-20/UDP_Bandlock_9S_Phone_A/sm04/#02/data/udp_uplk_loss_latency.csv\n",
      "62/72 /home/wmnlab/F/database/2024-03-20/UDP_Bandlock_9S_Phone_A/sm05/#02/data/handover_info_log.csv\n",
      "62/72 /home/wmnlab/F/database/2024-03-20/UDP_Bandlock_9S_Phone_A/sm05/#02/data/udp_dnlk_loss_latency.csv\n",
      "62/72 /home/wmnlab/F/database/2024-03-20/UDP_Bandlock_9S_Phone_A/sm05/#02/data/udp_uplk_loss_latency.csv\n"
     ]
    },
    {
     "data": {
      "application/vnd.jupyter.widget-view+json": {
       "model_id": "e94b67499aef483e800380924dc3da1f",
       "version_major": 2,
       "version_minor": 0
      },
      "text/plain": [
       "  0%|                                                                                                         …"
      ]
     },
     "metadata": {},
     "output_type": "display_data"
    },
    {
     "name": "stdout",
     "output_type": "stream",
     "text": [
      "/home/wmnlab/F/results/20240329_160006be6c_new_dataset_sync/dr_results/dr_20240329_1700005690/20240329_20213200001_0c03344f48d3f530_50%_corr/\\home\\wmnlab\\F\\database\\2024-03-20\\UDP_Bandlock_9S_Phone_A\\sm04\\#02\\data\\udp_dnlk_loss_latency\\home\\wmnlab\\F\\database\\2024-03-20\\UDP_Bandlock_9S_Phone_A\\sm05\\#02\\data\\udp_dnlk_loss_latency.csv\n",
      "63/72 /home/wmnlab/F/database/2024-03-20/UDP_Bandlock_9S_Phone_A/sm04/#02/data/handover_info_log.csv\n",
      "63/72 /home/wmnlab/F/database/2024-03-20/UDP_Bandlock_9S_Phone_A/sm04/#02/data/udp_dnlk_loss_latency.csv\n",
      "63/72 /home/wmnlab/F/database/2024-03-20/UDP_Bandlock_9S_Phone_A/sm04/#02/data/udp_uplk_loss_latency.csv\n",
      "63/72 /home/wmnlab/F/database/2024-03-20/UDP_Bandlock_9S_Phone_A/sm06/#02/data/handover_info_log.csv\n",
      "63/72 /home/wmnlab/F/database/2024-03-20/UDP_Bandlock_9S_Phone_A/sm06/#02/data/udp_dnlk_loss_latency.csv\n",
      "63/72 /home/wmnlab/F/database/2024-03-20/UDP_Bandlock_9S_Phone_A/sm06/#02/data/udp_uplk_loss_latency.csv\n"
     ]
    },
    {
     "data": {
      "application/vnd.jupyter.widget-view+json": {
       "model_id": "1777e1ee62a74dd19b4a64f4985bf7aa",
       "version_major": 2,
       "version_minor": 0
      },
      "text/plain": [
       "  0%|                                                                                                         …"
      ]
     },
     "metadata": {},
     "output_type": "display_data"
    },
    {
     "name": "stdout",
     "output_type": "stream",
     "text": [
      "/home/wmnlab/F/results/20240329_160006be6c_new_dataset_sync/dr_results/dr_20240329_1700005690/20240329_20213200001_0c03344f48d3f530_50%_corr/\\home\\wmnlab\\F\\database\\2024-03-20\\UDP_Bandlock_9S_Phone_A\\sm04\\#02\\data\\udp_dnlk_loss_latency\\home\\wmnlab\\F\\database\\2024-03-20\\UDP_Bandlock_9S_Phone_A\\sm06\\#02\\data\\udp_dnlk_loss_latency.csv\n",
      "64/72 /home/wmnlab/F/database/2024-03-20/UDP_Bandlock_9S_Phone_A/sm04/#02/data/handover_info_log.csv\n",
      "64/72 /home/wmnlab/F/database/2024-03-20/UDP_Bandlock_9S_Phone_A/sm04/#02/data/udp_dnlk_loss_latency.csv\n",
      "64/72 /home/wmnlab/F/database/2024-03-20/UDP_Bandlock_9S_Phone_A/sm04/#02/data/udp_uplk_loss_latency.csv\n",
      "64/72 /home/wmnlab/F/database/2024-03-20/UDP_Bandlock_9S_Phone_A/sm07/#02/data/handover_info_log.csv\n",
      "64/72 /home/wmnlab/F/database/2024-03-20/UDP_Bandlock_9S_Phone_A/sm07/#02/data/udp_dnlk_loss_latency.csv\n",
      "64/72 /home/wmnlab/F/database/2024-03-20/UDP_Bandlock_9S_Phone_A/sm07/#02/data/udp_uplk_loss_latency.csv\n"
     ]
    },
    {
     "data": {
      "application/vnd.jupyter.widget-view+json": {
       "model_id": "1cf09eafd4264c16a7a49f8815ad576e",
       "version_major": 2,
       "version_minor": 0
      },
      "text/plain": [
       "  0%|                                                                                                         …"
      ]
     },
     "metadata": {},
     "output_type": "display_data"
    },
    {
     "name": "stdout",
     "output_type": "stream",
     "text": [
      "/home/wmnlab/F/results/20240329_160006be6c_new_dataset_sync/dr_results/dr_20240329_1700005690/20240329_20213200001_0c03344f48d3f530_50%_corr/\\home\\wmnlab\\F\\database\\2024-03-20\\UDP_Bandlock_9S_Phone_A\\sm04\\#02\\data\\udp_dnlk_loss_latency\\home\\wmnlab\\F\\database\\2024-03-20\\UDP_Bandlock_9S_Phone_A\\sm07\\#02\\data\\udp_dnlk_loss_latency.csv\n",
      "65/72 /home/wmnlab/F/database/2024-03-20/UDP_Bandlock_9S_Phone_A/sm04/#02/data/handover_info_log.csv\n",
      "65/72 /home/wmnlab/F/database/2024-03-20/UDP_Bandlock_9S_Phone_A/sm04/#02/data/udp_dnlk_loss_latency.csv\n",
      "65/72 /home/wmnlab/F/database/2024-03-20/UDP_Bandlock_9S_Phone_A/sm04/#02/data/udp_uplk_loss_latency.csv\n",
      "65/72 /home/wmnlab/F/database/2024-03-20/UDP_Bandlock_9S_Phone_A/sm08/#02/data/handover_info_log.csv\n",
      "65/72 /home/wmnlab/F/database/2024-03-20/UDP_Bandlock_9S_Phone_A/sm08/#02/data/udp_dnlk_loss_latency.csv\n",
      "65/72 /home/wmnlab/F/database/2024-03-20/UDP_Bandlock_9S_Phone_A/sm08/#02/data/udp_uplk_loss_latency.csv\n"
     ]
    },
    {
     "data": {
      "application/vnd.jupyter.widget-view+json": {
       "model_id": "c390c8f48b904d08828e82ec01d84d27",
       "version_major": 2,
       "version_minor": 0
      },
      "text/plain": [
       "  0%|                                                                                                         …"
      ]
     },
     "metadata": {},
     "output_type": "display_data"
    },
    {
     "name": "stdout",
     "output_type": "stream",
     "text": [
      "/home/wmnlab/F/results/20240329_160006be6c_new_dataset_sync/dr_results/dr_20240329_1700005690/20240329_20213200001_0c03344f48d3f530_50%_corr/\\home\\wmnlab\\F\\database\\2024-03-20\\UDP_Bandlock_9S_Phone_A\\sm04\\#02\\data\\udp_dnlk_loss_latency\\home\\wmnlab\\F\\database\\2024-03-20\\UDP_Bandlock_9S_Phone_A\\sm08\\#02\\data\\udp_dnlk_loss_latency.csv\n",
      "66/72 /home/wmnlab/F/database/2024-03-20/UDP_Bandlock_9S_Phone_A/sm05/#02/data/handover_info_log.csv\n",
      "66/72 /home/wmnlab/F/database/2024-03-20/UDP_Bandlock_9S_Phone_A/sm05/#02/data/udp_dnlk_loss_latency.csv\n",
      "66/72 /home/wmnlab/F/database/2024-03-20/UDP_Bandlock_9S_Phone_A/sm05/#02/data/udp_uplk_loss_latency.csv\n",
      "66/72 /home/wmnlab/F/database/2024-03-20/UDP_Bandlock_9S_Phone_A/sm06/#02/data/handover_info_log.csv\n",
      "66/72 /home/wmnlab/F/database/2024-03-20/UDP_Bandlock_9S_Phone_A/sm06/#02/data/udp_dnlk_loss_latency.csv\n",
      "66/72 /home/wmnlab/F/database/2024-03-20/UDP_Bandlock_9S_Phone_A/sm06/#02/data/udp_uplk_loss_latency.csv\n"
     ]
    },
    {
     "data": {
      "application/vnd.jupyter.widget-view+json": {
       "model_id": "91c4ec61e5f44e8a9272e04995c3af70",
       "version_major": 2,
       "version_minor": 0
      },
      "text/plain": [
       "  0%|                                                                                                         …"
      ]
     },
     "metadata": {},
     "output_type": "display_data"
    },
    {
     "name": "stdout",
     "output_type": "stream",
     "text": [
      "/home/wmnlab/F/results/20240329_160006be6c_new_dataset_sync/dr_results/dr_20240329_1700005690/20240329_20213200001_0c03344f48d3f530_50%_corr/\\home\\wmnlab\\F\\database\\2024-03-20\\UDP_Bandlock_9S_Phone_A\\sm05\\#02\\data\\udp_dnlk_loss_latency\\home\\wmnlab\\F\\database\\2024-03-20\\UDP_Bandlock_9S_Phone_A\\sm06\\#02\\data\\udp_dnlk_loss_latency.csv\n",
      "67/72 /home/wmnlab/F/database/2024-03-20/UDP_Bandlock_9S_Phone_A/sm05/#02/data/handover_info_log.csv\n",
      "67/72 /home/wmnlab/F/database/2024-03-20/UDP_Bandlock_9S_Phone_A/sm05/#02/data/udp_dnlk_loss_latency.csv\n",
      "67/72 /home/wmnlab/F/database/2024-03-20/UDP_Bandlock_9S_Phone_A/sm05/#02/data/udp_uplk_loss_latency.csv\n",
      "67/72 /home/wmnlab/F/database/2024-03-20/UDP_Bandlock_9S_Phone_A/sm07/#02/data/handover_info_log.csv\n",
      "67/72 /home/wmnlab/F/database/2024-03-20/UDP_Bandlock_9S_Phone_A/sm07/#02/data/udp_dnlk_loss_latency.csv\n",
      "67/72 /home/wmnlab/F/database/2024-03-20/UDP_Bandlock_9S_Phone_A/sm07/#02/data/udp_uplk_loss_latency.csv\n"
     ]
    },
    {
     "data": {
      "application/vnd.jupyter.widget-view+json": {
       "model_id": "688224f30d694c6d920abdd6e460e917",
       "version_major": 2,
       "version_minor": 0
      },
      "text/plain": [
       "  0%|                                                                                                         …"
      ]
     },
     "metadata": {},
     "output_type": "display_data"
    },
    {
     "name": "stdout",
     "output_type": "stream",
     "text": [
      "/home/wmnlab/F/results/20240329_160006be6c_new_dataset_sync/dr_results/dr_20240329_1700005690/20240329_20213200001_0c03344f48d3f530_50%_corr/\\home\\wmnlab\\F\\database\\2024-03-20\\UDP_Bandlock_9S_Phone_A\\sm05\\#02\\data\\udp_dnlk_loss_latency\\home\\wmnlab\\F\\database\\2024-03-20\\UDP_Bandlock_9S_Phone_A\\sm07\\#02\\data\\udp_dnlk_loss_latency.csv\n",
      "68/72 /home/wmnlab/F/database/2024-03-20/UDP_Bandlock_9S_Phone_A/sm05/#02/data/handover_info_log.csv\n",
      "68/72 /home/wmnlab/F/database/2024-03-20/UDP_Bandlock_9S_Phone_A/sm05/#02/data/udp_dnlk_loss_latency.csv\n",
      "68/72 /home/wmnlab/F/database/2024-03-20/UDP_Bandlock_9S_Phone_A/sm05/#02/data/udp_uplk_loss_latency.csv\n",
      "68/72 /home/wmnlab/F/database/2024-03-20/UDP_Bandlock_9S_Phone_A/sm08/#02/data/handover_info_log.csv\n",
      "68/72 /home/wmnlab/F/database/2024-03-20/UDP_Bandlock_9S_Phone_A/sm08/#02/data/udp_dnlk_loss_latency.csv\n",
      "68/72 /home/wmnlab/F/database/2024-03-20/UDP_Bandlock_9S_Phone_A/sm08/#02/data/udp_uplk_loss_latency.csv\n"
     ]
    },
    {
     "data": {
      "application/vnd.jupyter.widget-view+json": {
       "model_id": "ca2d63a2bf5743fe9ebaf358362fd463",
       "version_major": 2,
       "version_minor": 0
      },
      "text/plain": [
       "  0%|                                                                                                         …"
      ]
     },
     "metadata": {},
     "output_type": "display_data"
    },
    {
     "name": "stdout",
     "output_type": "stream",
     "text": [
      "/home/wmnlab/F/results/20240329_160006be6c_new_dataset_sync/dr_results/dr_20240329_1700005690/20240329_20213200001_0c03344f48d3f530_50%_corr/\\home\\wmnlab\\F\\database\\2024-03-20\\UDP_Bandlock_9S_Phone_A\\sm05\\#02\\data\\udp_dnlk_loss_latency\\home\\wmnlab\\F\\database\\2024-03-20\\UDP_Bandlock_9S_Phone_A\\sm08\\#02\\data\\udp_dnlk_loss_latency.csv\n",
      "69/72 /home/wmnlab/F/database/2024-03-20/UDP_Bandlock_9S_Phone_A/sm06/#02/data/handover_info_log.csv\n",
      "69/72 /home/wmnlab/F/database/2024-03-20/UDP_Bandlock_9S_Phone_A/sm06/#02/data/udp_dnlk_loss_latency.csv\n",
      "69/72 /home/wmnlab/F/database/2024-03-20/UDP_Bandlock_9S_Phone_A/sm06/#02/data/udp_uplk_loss_latency.csv\n",
      "69/72 /home/wmnlab/F/database/2024-03-20/UDP_Bandlock_9S_Phone_A/sm07/#02/data/handover_info_log.csv\n",
      "69/72 /home/wmnlab/F/database/2024-03-20/UDP_Bandlock_9S_Phone_A/sm07/#02/data/udp_dnlk_loss_latency.csv\n",
      "69/72 /home/wmnlab/F/database/2024-03-20/UDP_Bandlock_9S_Phone_A/sm07/#02/data/udp_uplk_loss_latency.csv\n"
     ]
    },
    {
     "data": {
      "application/vnd.jupyter.widget-view+json": {
       "model_id": "f9cf70ae5430494cad414d5da9387041",
       "version_major": 2,
       "version_minor": 0
      },
      "text/plain": [
       "  0%|                                                                                                         …"
      ]
     },
     "metadata": {},
     "output_type": "display_data"
    },
    {
     "name": "stdout",
     "output_type": "stream",
     "text": [
      "/home/wmnlab/F/results/20240329_160006be6c_new_dataset_sync/dr_results/dr_20240329_1700005690/20240329_20213200001_0c03344f48d3f530_50%_corr/\\home\\wmnlab\\F\\database\\2024-03-20\\UDP_Bandlock_9S_Phone_A\\sm06\\#02\\data\\udp_dnlk_loss_latency\\home\\wmnlab\\F\\database\\2024-03-20\\UDP_Bandlock_9S_Phone_A\\sm07\\#02\\data\\udp_dnlk_loss_latency.csv\n",
      "70/72 /home/wmnlab/F/database/2024-03-20/UDP_Bandlock_9S_Phone_A/sm06/#02/data/handover_info_log.csv\n",
      "70/72 /home/wmnlab/F/database/2024-03-20/UDP_Bandlock_9S_Phone_A/sm06/#02/data/udp_dnlk_loss_latency.csv\n",
      "70/72 /home/wmnlab/F/database/2024-03-20/UDP_Bandlock_9S_Phone_A/sm06/#02/data/udp_uplk_loss_latency.csv\n",
      "70/72 /home/wmnlab/F/database/2024-03-20/UDP_Bandlock_9S_Phone_A/sm08/#02/data/handover_info_log.csv\n",
      "70/72 /home/wmnlab/F/database/2024-03-20/UDP_Bandlock_9S_Phone_A/sm08/#02/data/udp_dnlk_loss_latency.csv\n",
      "70/72 /home/wmnlab/F/database/2024-03-20/UDP_Bandlock_9S_Phone_A/sm08/#02/data/udp_uplk_loss_latency.csv\n"
     ]
    },
    {
     "data": {
      "application/vnd.jupyter.widget-view+json": {
       "model_id": "b3441ae8c9f6411aa44b6ccc1b000656",
       "version_major": 2,
       "version_minor": 0
      },
      "text/plain": [
       "  0%|                                                                                                         …"
      ]
     },
     "metadata": {},
     "output_type": "display_data"
    },
    {
     "name": "stdout",
     "output_type": "stream",
     "text": [
      "/home/wmnlab/F/results/20240329_160006be6c_new_dataset_sync/dr_results/dr_20240329_1700005690/20240329_20213200001_0c03344f48d3f530_50%_corr/\\home\\wmnlab\\F\\database\\2024-03-20\\UDP_Bandlock_9S_Phone_A\\sm06\\#02\\data\\udp_dnlk_loss_latency\\home\\wmnlab\\F\\database\\2024-03-20\\UDP_Bandlock_9S_Phone_A\\sm08\\#02\\data\\udp_dnlk_loss_latency.csv\n",
      "71/72 /home/wmnlab/F/database/2024-03-20/UDP_Bandlock_9S_Phone_A/sm07/#02/data/handover_info_log.csv\n",
      "71/72 /home/wmnlab/F/database/2024-03-20/UDP_Bandlock_9S_Phone_A/sm07/#02/data/udp_dnlk_loss_latency.csv\n",
      "71/72 /home/wmnlab/F/database/2024-03-20/UDP_Bandlock_9S_Phone_A/sm07/#02/data/udp_uplk_loss_latency.csv\n",
      "71/72 /home/wmnlab/F/database/2024-03-20/UDP_Bandlock_9S_Phone_A/sm08/#02/data/handover_info_log.csv\n",
      "71/72 /home/wmnlab/F/database/2024-03-20/UDP_Bandlock_9S_Phone_A/sm08/#02/data/udp_dnlk_loss_latency.csv\n",
      "71/72 /home/wmnlab/F/database/2024-03-20/UDP_Bandlock_9S_Phone_A/sm08/#02/data/udp_uplk_loss_latency.csv\n"
     ]
    },
    {
     "data": {
      "application/vnd.jupyter.widget-view+json": {
       "model_id": "9d0aa290638144a3a180c32f81f3cb15",
       "version_major": 2,
       "version_minor": 0
      },
      "text/plain": [
       "  0%|                                                                                                         …"
      ]
     },
     "metadata": {},
     "output_type": "display_data"
    },
    {
     "name": "stdout",
     "output_type": "stream",
     "text": [
      "/home/wmnlab/F/results/20240329_160006be6c_new_dataset_sync/dr_results/dr_20240329_1700005690/20240329_20213200001_0c03344f48d3f530_50%_corr/\\home\\wmnlab\\F\\database\\2024-03-20\\UDP_Bandlock_9S_Phone_A\\sm07\\#02\\data\\udp_dnlk_loss_latency\\home\\wmnlab\\F\\database\\2024-03-20\\UDP_Bandlock_9S_Phone_A\\sm08\\#02\\data\\udp_dnlk_loss_latency.csv\n",
      "./20240329_160006be6c_new_dataset_sync/dr_20240329_1700005690/figures/20240329_A_50%_corr_20213200001_0c03344f48d3f530.png\n"
     ]
    },
    {
     "data": {
      "image/png": "[encoded data removed]",
      "text/plain": [
       "<Figure size 600x400 with 1 Axes>"
      ]
     },
     "metadata": {
      "image/png": {
       "height": 371,
       "width": 556
      }
     },
     "output_type": "display_data"
    }
   ],
   "source": [
    "eval = DrEval(filepaths, model_name='A', model_suffix=suffix, sr_model_id=sr_model_id, dr_model_id=dr_model_id)\n",
    "eval.run_hist_method(N=1)\n",
    "eval.plot('A')"
   ]
  },
  {
   "cell_type": "markdown",
   "metadata": {},
   "source": [
    "# Show Model IDs"
   ]
  },
  {
   "cell_type": "code",
   "execution_count": 11,
   "metadata": {},
   "outputs": [
    {
     "name": "stdout",
     "output_type": "stream",
     "text": [
      "SR Model ID: 20240329_160006be6c_new_dataset_sync\n",
      "DR Model ID: dr_20240329_1700005690\n"
     ]
    }
   ],
   "source": [
    "print('SR Model ID:', sr_model_id)\n",
    "print('DR Model ID:', dr_model_id)\n"
   ]
  },
  {
   "cell_type": "code",
   "execution_count": null,
   "metadata": {},
   "outputs": [],
   "source": []
  }
 ],
 "metadata": {
  "kernelspec": {
   "display_name": "moxa",
   "language": "python",
   "name": "python3"
  },
  "language_info": {
   "codemirror_mode": {
    "name": "ipython",
    "version": 3
   },
   "file_extension": ".py",
   "mimetype": "text/x-python",
   "name": "python",
   "nbconvert_exporter": "python",
   "pygments_lexer": "ipython3",
   "version": "3.8.18"
  },
  "vscode": {
   "interpreter": {
    "hash": "ac7929854b6d4d7e2ce5893f875cc9f600cfede08169dbb82e36bcbc7af2498e"
   }
  }
 },
 "nbformat": 4,
 "nbformat_minor": 2
}
