{
 "cells": [
  {
   "cell_type": "markdown",
   "metadata": {},
   "source": [
    "# Import Modules & Util Functions"
   ]
  },
  {
   "cell_type": "code",
   "execution_count": 1,
   "metadata": {},
   "outputs": [],
   "source": [
    "import os\n",
    "import sys\n",
    "import glob\n",
    "import re\n",
    "import ast\n",
    "import warnings\n",
    "import time\n",
    "\n",
    "import csv\n",
    "import json\n",
    "import pickle\n",
    "\n",
    "import math\n",
    "import random\n",
    "import numpy as np\n",
    "import scipy as sp\n",
    "import datetime as dt\n",
    "import pandas as pd\n",
    "import swifter\n",
    "from scipy.stats import gaussian_kde\n",
    "from scipy.integrate import quad\n",
    "from scipy.optimize import minimize\n",
    "from sklearn.metrics import mean_squared_error\n",
    "\n",
    "import portion as P\n",
    "import itertools as it\n",
    "import copy\n",
    "from tqdm.notebook import tqdm\n",
    "from collections import namedtuple\n",
    "from pprint import pprint\n",
    "from pytictoc import TicToc\n",
    "\n",
    "import matplotlib\n",
    "import matplotlib.pyplot as plt\n",
    "import seaborn as sns\n",
    "\n",
    "from my_utils import *\n",
    "\n",
    "# Configure display options\n",
    "# pd.set_option('display.max_rows', 200)\n",
    "pd.set_option('display.max_columns', 100)\n",
    "%config InlineBackend.figure_format = 'retina'\n",
    "\n",
    "# Set plot style\n",
    "# plt.style.use('ggplot')\n"
   ]
  },
  {
   "cell_type": "markdown",
   "metadata": {},
   "source": [
    "# Dual Radio Evaluation"
   ]
  },
  {
   "cell_type": "code",
   "execution_count": 2,
   "metadata": {},
   "outputs": [],
   "source": [
    "class DEval:\n",
    "    def __init__(self, filepaths, model_name='Test', model_suffix=None, sr_model_id=None, dr_model_id=None, load_path='.', save_path='.',\n",
    "                 sp_columns=['type'], ts_column='Timestamp',\n",
    "                 metrics=['dl_lost']):\n",
    "        # Initialize instance variables\n",
    "        self.filepaths = copy.deepcopy(filepaths)\n",
    "        \n",
    "        if sr_model_id is None:\n",
    "            raise TypeError(\"請輸入SR模型編號\")\n",
    "        else:\n",
    "            self.sr_model_id = sr_model_id\n",
    "        \n",
    "        if dr_model_id is None:\n",
    "            raise TypeError(\"請輸入DR模型編號\")\n",
    "        else:\n",
    "            self.dr_model_id = dr_model_id\n",
    "        \n",
    "        self.model_name = model_name\n",
    "        self.save_path = save_path\n",
    "        \n",
    "        self.load_path = os.path.join(load_path, self.sr_model_id, 'models', self.model_name)\n",
    "        print(self.load_path)\n",
    "        with open(f'{self.load_path}_kde_models.pkl', 'rb') as f:\n",
    "            self.kde_models = pickle.load(f)\n",
    "        with open(f'{self.load_path}_hist_models.pkl', 'rb') as f:\n",
    "            self.hist_models = pickle.load(f)\n",
    "        with open(f'{self.load_path}_scope_models.pkl', 'rb') as f:\n",
    "            self.scope_models = pickle.load(f)\n",
    "        with open(f'{self.load_path}_plr_models.pkl', 'rb') as f:\n",
    "            self.plr_models = pickle.load(f)\n",
    "        with open(f'{self.load_path}_sr_prob_models.pkl', 'rb') as f:\n",
    "            self.sr_prob_models = pickle.load(f)\n",
    "            \n",
    "        self.load_path = os.path.join(load_path, self.sr_model_id, self.dr_model_id, self.model_name)\n",
    "        print(self.load_path)\n",
    "        if model_suffix is None:\n",
    "            print(f'{self.load_path}_dr_prob_models.pkl')\n",
    "            with open(f'{self.load_path}_dr_prob_models.pkl', 'rb') as f:\n",
    "                self.dr_prob_models = pickle.load(f)\n",
    "        else:\n",
    "            print(f'{self.load_path}_dr_prob_models_{model_suffix}.pkl')\n",
    "            with open(f'{self.load_path}_dr_prob_models_{model_suffix}.pkl', 'rb') as f:\n",
    "                self.dr_prob_models = pickle.load(f)\n",
    "        self.model_suffix = model_suffix\n",
    "        \n",
    "        self.sp_columns = sp_columns[:]\n",
    "        self.ts_column = ts_column\n",
    "        self.metrics = metrics[:]\n",
    "        \n",
    "        _, _, _, self.figure_id = figure_identity()\n",
    "        \n",
    "        # Sample data\n",
    "        self.LOSS_GT = []\n",
    "        self.LOSS_EV = []\n",
    "        self.LOSS_STD = []\n",
    "        self.DEVICES = []\n",
    "        self.TRACES = []\n",
    "        \n",
    "        # all records\n",
    "        self.records = []\n",
    "\n",
    "    @staticmethod\n",
    "    def generate_random_boolean(probability_true):\n",
    "        return random.random() < probability_true\n",
    "    \n",
    "    @staticmethod\n",
    "    def interpolate(x, y, ratio=0.5):\n",
    "        \"\"\"\n",
    "        Args:\n",
    "            x, y (datetime.datetime): x < y\n",
    "            ratio (float): a decimal numeral in a range [0, 1]; 0 means break at x, 1 means break at y.\n",
    "        Returns:\n",
    "            (datetime.datetime): breakpoint of interpolation\n",
    "        \"\"\"\n",
    "        return x + (y - x) * ratio\n",
    "    \n",
    "    def hist_method(self, df, ho_df, mode_mets, mets, RATE_TYPE):\n",
    "        scope = self.scope_models[mode_mets]\n",
    "        hist_model = self.hist_models[mode_mets]\n",
    "        prob_model = self.sr_prob_models[mode_mets]\n",
    "        plr_model = self.plr_models[mode_mets]\n",
    "        \n",
    "        this_df = df.copy()\n",
    "        for i, row in ho_df.iterrows():\n",
    "            prior_row = ho_df.iloc[i-1] if i != 0 else None\n",
    "            post_row = ho_df.iloc[i+1] if i != len(ho_df) - 1 else None\n",
    "\n",
    "            # Peek the next event to avoid HO overlapping with handoverFailure (skip!!)\n",
    "            if i != len(ho_df) - 1 and pd.notna(row.end) and row.end > post_row.start:\n",
    "                # print('Overlapping event occurs!!')\n",
    "                # print(i, row['start'], row['end'], row['type'], row['cause'])\n",
    "                # print(i+1, post_row['start'], post_row['end'], post_row['type'], post_row['cause'])\n",
    "                continue\n",
    "            \n",
    "            # Set prior event if the prior loop is skipped\n",
    "            if i != 0 and pd.notna(prior_row.end) and prior_row.end > row.start:\n",
    "                prior_row = ho_df.iloc[i-2] if i > 1 else None\n",
    "            \n",
    "            # Basic information of the current row\n",
    "            tag = '_'.join([s for s in row[self.sp_columns] if pd.notna(s)])  # specific column name\n",
    "            start_ts, end_ts = row['start'], row['end']  # handover start/end time\n",
    "            interruption_time = (end_ts - start_ts).total_seconds() if pd.notna(end_ts) else 0  # handover interruption time\n",
    "            \n",
    "            # Set simple left/right bounds\n",
    "            current_left_bound = start_ts + pd.Timedelta(seconds=(scope[tag][0]))\n",
    "            current_right_bound = start_ts + pd.Timedelta(seconds=(scope[tag][1]))\n",
    "            \n",
    "            # Set left/right bounds to avoid event overlapping with each other\n",
    "            if prior_row is not None:\n",
    "                prior_tag = '_'.join([s for s in prior_row[self.sp_columns] if pd.notna(s)])\n",
    "                prior_right_bound = prior_row['start'] + pd.Timedelta(seconds=(scope[prior_tag][1]))\n",
    "                if pd.notna(prior_row['end']):\n",
    "                    left_bound = min(max(current_left_bound, DEval.interpolate(prior_right_bound, current_left_bound), prior_row['end']), start_ts)\n",
    "                else:\n",
    "                    left_bound = min(max(current_left_bound, DEval.interpolate(prior_right_bound, current_left_bound), prior_row['start']), start_ts)\n",
    "            else:\n",
    "                left_bound = current_left_bound\n",
    "            \n",
    "            if post_row is not None:\n",
    "                post_tag = '_'.join([s for s in post_row[self.sp_columns] if pd.notna(s)])\n",
    "                post_left_bound = post_row['start'] + pd.Timedelta(seconds=(scope[post_tag][0]))\n",
    "                if pd.notna(end_ts):\n",
    "                    right_bound = max(min(current_right_bound, DEval.interpolate(current_right_bound, post_left_bound), post_row['start']), end_ts)\n",
    "                else:\n",
    "                    right_bound = max(min(current_right_bound, DEval.interpolate(current_right_bound, post_left_bound), post_row['start']), start_ts)\n",
    "            else:\n",
    "                right_bound = current_right_bound\n",
    "            \n",
    "            interval = P.closed(left_bound, right_bound)\n",
    "            \n",
    "            # Concatenate PLR from mapping list\n",
    "            current_df = this_df[this_df['Timestamp'] < interval.upper].copy()\n",
    "            plr_mapping = hist_model[tag].copy()\n",
    "            \n",
    "            current_df[f'relative_time'] = (current_df['Timestamp'] - start_ts).dt.total_seconds()\n",
    "            current_df[f'window_id'] = ((current_df[f'relative_time'] + 0.005) // 0.01) * 0.01\n",
    "            \n",
    "            trigger_probability = prob_model[tag]\n",
    "            \n",
    "            if plr_mapping.empty:\n",
    "                tmp = current_df.copy().rename(columns={mets: f'{mets}_x'})\n",
    "            else:\n",
    "                tmp = pd.merge(current_df, plr_mapping, on='window_id', how='left')\n",
    "                tmp[RATE_TYPE] = tmp[RATE_TYPE].fillna(0)\n",
    "                \n",
    "                if not DEval.generate_random_boolean(trigger_probability):\n",
    "                    tmp[RATE_TYPE] = 0\n",
    "            \n",
    "            tmp['type'] = tag\n",
    "            \n",
    "            if i == 0:\n",
    "                answer = tmp.copy()\n",
    "            else:\n",
    "                answer = pd.concat([answer, tmp], axis=0)\n",
    "            \n",
    "            # Update dataframe to accelerate the speed\n",
    "            this_df = this_df[this_df[self.ts_column] >= interval.upper].copy()\n",
    "        \n",
    "        answer = pd.concat([answer, this_df], axis=0)\n",
    "        \n",
    "        # Consider stable duration\n",
    "        stable_df = answer[answer['tx_count'].isnull()].copy()[['seq', 'lost_x', 'excl', 'Timestamp']].rename(columns={'lost_x': 'lost'})\n",
    "\n",
    "        stable_df['Timestamp_sec'] = stable_df['Timestamp'].dt.floor('S')\n",
    "        stable_df['relative_time'] = (stable_df['Timestamp'] - stable_df['Timestamp_sec']).dt.total_seconds() - 0.5\n",
    "        stable_df['window_id'] = ((stable_df['relative_time'] + 0.01 / 2) // 0.01) * 0.01\n",
    "\n",
    "        plr_mapping = hist_model['Stable'].copy()        \n",
    "        stable_df = pd.merge(stable_df, plr_mapping, on='window_id', how='left').rename(columns={'PLR': 'PLR_if_trigger'})\n",
    "        trigger_prob_mapping = stable_df[~stable_df['Timestamp_sec'].duplicated()].reset_index(drop=True)[['Timestamp_sec']]\n",
    "        \n",
    "        trigger_probability = prob_model['Stable']\n",
    "        random_bool_array = [DEval.generate_random_boolean(trigger_probability) for _ in range(len(trigger_prob_mapping))]\n",
    "        trigger_prob_mapping['trigger'] = random_bool_array\n",
    "\n",
    "        stable_df = pd.merge(stable_df, trigger_prob_mapping, on='Timestamp_sec', how='left')\n",
    "        stable_df['PLR'] = stable_df['PLR_if_trigger'] * stable_df['trigger']\n",
    "        \n",
    "        stable_df['type'] = 'Stable'\n",
    "\n",
    "        del stable_df['Timestamp_sec'], stable_df['PLR_if_trigger'], stable_df['trigger']\n",
    "        \n",
    "        answer = answer[answer['tx_count'].notnull()].copy()\n",
    "        \n",
    "        answer = pd.concat([answer, stable_df], axis=0)\n",
    "        answer = answer.sort_values(by='Timestamp').reset_index(drop=True)\n",
    "        answer['PLR'] = answer['PLR'] / 100\n",
    "        answer['Y'] = answer['PLR'].apply(DEval.generate_random_boolean)\n",
    "        \n",
    "        eval_value = answer['Y'].mean() * 100\n",
    "        ground_value = df['lost'].mean() * 100\n",
    "        \n",
    "        answer = pd.concat([answer[['seq', 'Timestamp', 'type', 'relative_time', 'window_id']],\n",
    "                            df[['lost']],\n",
    "                            answer[[RATE_TYPE, 'Y']]], axis=1)\n",
    "        \n",
    "        return answer, eval_value, ground_value\n",
    "    \n",
    "    \n",
    "    def setup_profile(self, df, ho_df, df2, scope):\n",
    "        \n",
    "        this_df = df2.copy()\n",
    "        this_df = this_df[this_df['Y']].copy().reset_index(drop=True)\n",
    "        \n",
    "        df['anchor_type'] = 'Stable'\n",
    "        df['anchor_state'] = 0\n",
    "        for i, row in ho_df.iterrows():\n",
    "            prior_row = ho_df.iloc[i-1] if i != 0 else None\n",
    "            post_row = ho_df.iloc[i+1] if i != len(ho_df) - 1 else None\n",
    "\n",
    "            # Peek the next event to avoid HO overlapping with handoverFailure (skip!!)\n",
    "            if i != len(ho_df) - 1 and pd.notna(row.end) and row.end > post_row.start:\n",
    "                # print('Overlapping event occurs!!')\n",
    "                # print(i, row['start'], row['end'], row['type'], row['cause'])\n",
    "                # print(i+1, post_row['start'], post_row['end'], post_row['type'], post_row['cause'])\n",
    "                continue\n",
    "            \n",
    "            # Set prior event if the prior loop is skipped\n",
    "            if i != 0 and pd.notna(prior_row.end) and prior_row.end > row.start:\n",
    "                prior_row = ho_df.iloc[i-2] if i > 1 else None\n",
    "            \n",
    "            # Basic information of the current row\n",
    "            tag = '_'.join([s for s in row[self.sp_columns] if pd.notna(s)])  # specific column name\n",
    "            start_ts, end_ts = row['start'], row['end']  # handover start/end time\n",
    "            interruption_time = (end_ts - start_ts).total_seconds() if pd.notna(end_ts) else 0  # handover interruption time\n",
    "            \n",
    "            # Set simple left/right bounds\n",
    "            current_left_bound = start_ts + pd.Timedelta(seconds=(scope[tag][0]))\n",
    "            current_right_bound = start_ts + pd.Timedelta(seconds=(scope[tag][1]))\n",
    "            \n",
    "            # Set left/right bounds to avoid event overlapping with each other\n",
    "            if prior_row is not None:\n",
    "                prior_tag = '_'.join([s for s in prior_row[self.sp_columns] if pd.notna(s)])\n",
    "                prior_right_bound = prior_row['start'] + pd.Timedelta(seconds=(scope[prior_tag][1]))\n",
    "                if pd.notna(prior_row['end']):\n",
    "                    left_bound = min(max(current_left_bound, DEval.interpolate(prior_right_bound, current_left_bound), prior_row['end']), start_ts)\n",
    "                else:\n",
    "                    left_bound = min(max(current_left_bound, DEval.interpolate(prior_right_bound, current_left_bound), prior_row['start']), start_ts)\n",
    "            else:\n",
    "                left_bound = current_left_bound\n",
    "            \n",
    "            if post_row is not None:\n",
    "                post_tag = '_'.join([s for s in post_row[self.sp_columns] if pd.notna(s)])\n",
    "                post_left_bound = post_row['start'] + pd.Timedelta(seconds=(scope[post_tag][0]))\n",
    "                if pd.notna(end_ts):\n",
    "                    right_bound = max(min(current_right_bound, DEval.interpolate(current_right_bound, post_left_bound), post_row['start']), end_ts)\n",
    "                else:\n",
    "                    right_bound = max(min(current_right_bound, DEval.interpolate(current_right_bound, post_left_bound), post_row['start']), start_ts)\n",
    "            else:\n",
    "                right_bound = current_right_bound\n",
    "            \n",
    "            interval = P.closed(left_bound, right_bound)\n",
    "            \n",
    "            df.loc[(df['start'] >= interval.lower) & (df['start'] < interval.upper), 'anchor_type'] = tag\n",
    "            \n",
    "            if not this_df[(this_df['Timestamp'] >= interval.lower) & (this_df['Timestamp'] < interval.upper)].empty:\n",
    "                df.loc[(df['start'] >= interval.lower) & (df['start'] < interval.upper), 'anchor_state'] = 1\n",
    "                \n",
    "            # Update dataframe to accelerate the speed\n",
    "            this_df = this_df[this_df[self.ts_column] >= interval.upper].copy()\n",
    "            \n",
    "        return df\n",
    "    \n",
    "    \n",
    "    def hist_method_dual(self, df, ho_df, mode_mets, mets, RATE_TYPE):\n",
    "        scope = self.scope_models[mode_mets]\n",
    "        hist_model = self.hist_models[mode_mets]\n",
    "        dr_prob_model = self.dr_prob_models[mode_mets]\n",
    "        \n",
    "        this_df = df.copy()\n",
    "        for i, row in ho_df.iterrows():\n",
    "            prior_row = ho_df.iloc[i-1] if i != 0 else None\n",
    "            post_row = ho_df.iloc[i+1] if i != len(ho_df) - 1 else None\n",
    "\n",
    "            # Peek the next event to avoid HO overlapping with handoverFailure (skip!!)\n",
    "            if i != len(ho_df) - 1 and pd.notna(row.end) and row.end > post_row.start:\n",
    "                # print('Overlapping event occurs!!')\n",
    "                # print(i, row['start'], row['end'], row['type'], row['cause'])\n",
    "                # print(i+1, post_row['start'], post_row['end'], post_row['type'], post_row['cause'])\n",
    "                continue\n",
    "            \n",
    "            # Set prior event if the prior loop is skipped\n",
    "            if i != 0 and pd.notna(prior_row.end) and prior_row.end > row.start:\n",
    "                prior_row = ho_df.iloc[i-2] if i > 1 else None\n",
    "            \n",
    "            # Basic information of the current row\n",
    "            tag = '_'.join([s for s in row[self.sp_columns] if pd.notna(s)])  # specific column name\n",
    "            start_ts, end_ts = row['start'], row['end']  # handover start/end time\n",
    "            interruption_time = (end_ts - start_ts).total_seconds() if pd.notna(end_ts) else 0  # handover interruption time\n",
    "            \n",
    "            # Set simple left/right bounds\n",
    "            current_left_bound = start_ts + pd.Timedelta(seconds=(scope[tag][0]))\n",
    "            current_right_bound = start_ts + pd.Timedelta(seconds=(scope[tag][1]))\n",
    "            \n",
    "            # Set left/right bounds to avoid event overlapping with each other\n",
    "            if prior_row is not None:\n",
    "                prior_tag = '_'.join([s for s in prior_row[self.sp_columns] if pd.notna(s)])\n",
    "                prior_right_bound = prior_row['start'] + pd.Timedelta(seconds=(scope[prior_tag][1]))\n",
    "                if pd.notna(prior_row['end']):\n",
    "                    left_bound = min(max(current_left_bound, DEval.interpolate(prior_right_bound, current_left_bound), prior_row['end']), start_ts)\n",
    "                else:\n",
    "                    left_bound = min(max(current_left_bound, DEval.interpolate(prior_right_bound, current_left_bound), prior_row['start']), start_ts)\n",
    "            else:\n",
    "                left_bound = current_left_bound\n",
    "            \n",
    "            if post_row is not None:\n",
    "                post_tag = '_'.join([s for s in post_row[self.sp_columns] if pd.notna(s)])\n",
    "                post_left_bound = post_row['start'] + pd.Timedelta(seconds=(scope[post_tag][0]))\n",
    "                if pd.notna(end_ts):\n",
    "                    right_bound = max(min(current_right_bound, DEval.interpolate(current_right_bound, post_left_bound), post_row['start']), end_ts)\n",
    "                else:\n",
    "                    right_bound = max(min(current_right_bound, DEval.interpolate(current_right_bound, post_left_bound), post_row['start']), start_ts)\n",
    "            else:\n",
    "                right_bound = current_right_bound\n",
    "            \n",
    "            interval = P.closed(left_bound, right_bound)\n",
    "            \n",
    "            # Concatenate PLR from mapping list\n",
    "            current_df = this_df[this_df['Timestamp'] < interval.upper].copy()\n",
    "            plr_mapping = hist_model[tag].copy()\n",
    "            \n",
    "            current_df[f'relative_time'] = (current_df['Timestamp'] - start_ts).dt.total_seconds()\n",
    "            current_df[f'window_id'] = ((current_df[f'relative_time'] + 0.005) // 0.01) * 0.01\n",
    "            \n",
    "            anchor_tag = row['anchor_type']\n",
    "            anchor_state = row['anchor_state']\n",
    "            \n",
    "            if anchor_state == 1:\n",
    "                trigger_probability = dr_prob_model[(anchor_tag, tag)][0]\n",
    "            else:\n",
    "                trigger_probability = dr_prob_model[(anchor_tag, tag)][1]\n",
    "            \n",
    "            if plr_mapping.empty:\n",
    "                tmp = current_df.copy().rename(columns={mets: f'{mets}_x'})\n",
    "            else:\n",
    "                tmp = pd.merge(current_df, plr_mapping, on='window_id', how='left')\n",
    "                tmp[RATE_TYPE] = tmp[RATE_TYPE].fillna(0)\n",
    "                \n",
    "                if not DEval.generate_random_boolean(trigger_probability):\n",
    "                    tmp[RATE_TYPE] = 0\n",
    "            \n",
    "            tmp['anchor_type'] = anchor_tag\n",
    "            tmp['anchor_state'] = anchor_state\n",
    "            tmp['type'] = tag\n",
    "            \n",
    "            if i == 0:\n",
    "                answer = tmp.copy()\n",
    "            else:\n",
    "                answer = pd.concat([answer, tmp], axis=0)\n",
    "            \n",
    "            # Update dataframe to accelerate the speed\n",
    "            this_df = this_df[this_df[self.ts_column] >= interval.upper].copy()\n",
    "        \n",
    "        answer = pd.concat([answer, this_df], axis=0)\n",
    "        # display(answer)\n",
    "        \n",
    "        # Consider stable duration\n",
    "        stable_df = answer[answer['tx_count'].isnull()].copy()[['seq', 'lost_x', 'excl', 'Timestamp']].rename(columns={'lost_x': 'lost'})\n",
    "\n",
    "        stable_df['Timestamp_sec'] = stable_df['Timestamp'].dt.floor('S')\n",
    "        stable_df['relative_time'] = (stable_df['Timestamp'] - stable_df['Timestamp_sec']).dt.total_seconds() - 0.5\n",
    "        stable_df['window_id'] = ((stable_df['relative_time'] + 0.01 / 2) // 0.01) * 0.01\n",
    "\n",
    "        plr_mapping = hist_model['Stable'].copy()        \n",
    "        stable_df = pd.merge(stable_df, plr_mapping, on='window_id', how='left').rename(columns={'PLR': 'PLR_if_trigger'})\n",
    "        trigger_prob_mapping = stable_df[~stable_df['Timestamp_sec'].duplicated()].reset_index(drop=True)[['Timestamp_sec']]\n",
    "        \n",
    "        trigger_probability = dr_prob_model[('Stable', 'Stable')][0]\n",
    "        \n",
    "        # if anchor_state == 1:\n",
    "        #     trigger_probability = dr_prob_model[(anchor_tag, tag)][0]\n",
    "        # else:\n",
    "        #     trigger_probability = dr_prob_model[(anchor_tag, tag)][1]\n",
    "                \n",
    "        random_bool_array = [DEval.generate_random_boolean(trigger_probability) for _ in range(len(trigger_prob_mapping))]\n",
    "        trigger_prob_mapping['trigger'] = random_bool_array\n",
    "\n",
    "        stable_df = pd.merge(stable_df, trigger_prob_mapping, on='Timestamp_sec', how='left')\n",
    "        stable_df['PLR'] = stable_df['PLR_if_trigger'] * stable_df['trigger']\n",
    "        \n",
    "        # stable_df['type'] = 'Stable'\n",
    "        stable_df['anchor_type'] = 'Stable'\n",
    "        stable_df['anchor_state'] = 0\n",
    "        stable_df['type'] = 'Stable'\n",
    "\n",
    "        del stable_df['Timestamp_sec'], stable_df['PLR_if_trigger'], stable_df['trigger']\n",
    "        \n",
    "        answer = answer[answer['tx_count'].notnull()].copy()\n",
    "        \n",
    "        answer = pd.concat([answer, stable_df], axis=0)\n",
    "        answer = answer.sort_values(by='Timestamp').reset_index(drop=True)\n",
    "        answer['PLR'] = answer['PLR'] / 100\n",
    "        answer['Y'] = answer['PLR'].apply(DEval.generate_random_boolean)\n",
    "        \n",
    "        eval_value = answer['Y'].mean() * 100\n",
    "        ground_value = df['lost'].mean() * 100\n",
    "        \n",
    "        answer = pd.concat([answer[['seq', 'Timestamp', 'anchor_type', 'anchor_state', 'type', 'relative_time', 'window_id']],\n",
    "                            df[['lost']],\n",
    "                            answer[[RATE_TYPE, 'Y']]], axis=1)\n",
    "\n",
    "        return answer, eval_value, ground_value\n",
    "\n",
    "        # return answer, eval_value, ground_value\n",
    "        \n",
    "        # # Consider stable duration\n",
    "        # stable_df = answer[answer['tx_count'].isnull()].copy()[['seq', 'lost_x', 'excl', 'Timestamp']].rename(columns={'lost_x': 'lost'})\n",
    "\n",
    "        # stable_df['Timestamp_sec'] = stable_df['Timestamp'].dt.floor('S')\n",
    "        # stable_df['relative_time'] = (stable_df['Timestamp'] - stable_df['Timestamp_sec']).dt.total_seconds() - 0.5\n",
    "        # stable_df['window_id'] = ((stable_df['relative_time'] + 0.01 / 2) // 0.01) * 0.01\n",
    "\n",
    "        # plr_mapping = hist_model['Stable'].copy()\n",
    "        # stable_df = pd.merge(stable_df, plr_mapping, on='window_id', how='left').rename(columns={'PLR': 'PLR_trig'})\n",
    "\n",
    "        # trig_p_mapping = stable_df[~stable_df['Timestamp_sec'].duplicated()].reset_index(drop=True)\n",
    "        \n",
    "        # triggered_p = dr_prob_model[('Stable', 'Stable')][0]\n",
    "        \n",
    "        # random_bool_array = [DEval.generate_random_boolean(triggered_p) for _ in range(len(trig_p_mapping))]\n",
    "        # trig_p_mapping['trigger'] = random_bool_array\n",
    "        # trig_p_mapping = trig_p_mapping[['Timestamp_sec', 'trigger']]\n",
    "\n",
    "        # stable_df = pd.merge(stable_df, trig_p_mapping, on='Timestamp_sec', how='left')\n",
    "        # stable_df['PLR'] = stable_df['PLR_trig'] * stable_df['trigger']\n",
    "\n",
    "        # del stable_df['Timestamp_sec'], stable_df['PLR_trig'], stable_df['trigger']\n",
    "        \n",
    "        # answer = answer[answer['tx_count'].notnull()].copy()\n",
    "        # # display(answer)\n",
    "        \n",
    "        # answer = pd.concat([answer, stable_df], axis=0)\n",
    "        # answer = answer.sort_values(by='Timestamp').reset_index(drop=True)\n",
    "        # answer['PLR'] = answer['PLR'] / 100\n",
    "        # answer['Y'] = answer['PLR'].apply(DEval.generate_random_boolean)\n",
    "        \n",
    "        # eval_value = answer['Y'].mean() * 100\n",
    "        # ground_value = df['lost'].mean() * 100\n",
    "    \n",
    "    \n",
    "    def run_hist_method(self, N=3):\n",
    "        scope = self.scope_models['dl_lost']\n",
    "        n = len(self.filepaths)\n",
    "        for mode_mets in ['dl_lost']:\n",
    "            for i, filepath in enumerate(self.filepaths):\n",
    "                \n",
    "                # if i > 35:\n",
    "                #     break\n",
    "                \n",
    "                # if i > 0:\n",
    "                #     break\n",
    "                \n",
    "                print(f'{i}/{n}', filepath[0][0]); print(f'{i}/{n}', filepath[0][1]); print(f'{i}/{n}', filepath[0][2])\n",
    "                print(f'{i}/{n}', filepath[1][0]); print(f'{i}/{n}', filepath[1][1]); print(f'{i}/{n}', filepath[1][2])\n",
    "                    \n",
    "                ho_df1 = pd.read_csv(filepath[0][0], parse_dates=['start', 'end'])\n",
    "                ho_df2 = pd.read_csv(filepath[1][0], parse_dates=['start', 'end'])\n",
    "                \n",
    "                if ho_df1.empty or ho_df2.empty:\n",
    "                    print('******** Empty RRC Data ********')\n",
    "                    continue\n",
    "                \n",
    "                # df, ho_df, empty_data = data_aligner(df, ho_df)\n",
    "                \n",
    "                df1 = pd.read_csv(filepath[0][1], parse_dates=['Timestamp'])[['seq', 'Timestamp', 'lost', 'excl', 'latency']]\n",
    "                df2 = pd.read_csv(filepath[1][1], parse_dates=['Timestamp'])[['seq', 'Timestamp', 'lost', 'excl', 'latency']]\n",
    "                df1, ho_df1, empty_data1 = data_aligner(df1, ho_df1)\n",
    "                df2, ho_df2, empty_data2 = data_aligner(df2, ho_df2)\n",
    "                \n",
    "                if empty_data1 or empty_data2:\n",
    "                    print('******** Empty RRC Data ********')\n",
    "                    continue\n",
    "                \n",
    "                df = pd.merge(df1, df2, on='seq', how='inner').reset_index(drop=True)\n",
    "                \n",
    "                df1 = df[['seq', 'Timestamp_x', 'lost_x', 'excl_x', 'latency_x']].rename(columns={'Timestamp_x': 'Timestamp', 'lost_x': 'lost', 'excl_x': 'excl', 'latency_x': 'latency'})\n",
    "                df2 = df[['seq', 'Timestamp_y', 'lost_y', 'excl_y', 'latency_y']].rename(columns={'Timestamp_y': 'Timestamp', 'lost_y': 'lost', 'excl_y': 'excl', 'latency_y': 'latency'})\n",
    "                \n",
    "                loss_rate_list = []\n",
    "                answer = None\n",
    "                for iter_round in tqdm(range(N), ncols=1000):\n",
    "                    ans1, eval_value1, ground_value1 = eval.hist_method(df1, ho_df1, mode_mets='dl_lost', mets='lost', RATE_TYPE='PLR')\n",
    "                    # display(answer1)\n",
    "                    \n",
    "                    # setup_profile\n",
    "                    # ho_df1 = self.setup_profile(ho_df1, ho_df2, df2, scope)\n",
    "                    avatar_ho_df2 = self.setup_profile(ho_df2.copy(), ho_df1, ans1, scope)\n",
    "                    \n",
    "                    # display(avatar_ho_df2)\n",
    "                    \n",
    "                    ans2, eval_value2, ground_value2 = eval.hist_method_dual(df2, avatar_ho_df2, mode_mets='dl_lost', mets='lost', RATE_TYPE='PLR')\n",
    "                    \n",
    "                    # display(ans1)\n",
    "                    # display(ans2)\n",
    "                    # display(answer2)\n",
    "                    \n",
    "                    ans = pd.merge(ans1, ans2, on='seq', how='inner').reset_index(drop=True)\n",
    "                    ans['lost'] = (ans['lost_x']) & (ans['lost_y'])\n",
    "                    ans['Y'] = (ans['Y_x']) & (ans['Y_y'])\n",
    "                    ans = ans[['seq', 'Timestamp_x', 'Timestamp_y', 'type_x', 'anchor_type', 'anchor_state', 'type_y', 'relative_time_x', 'window_id_x', 'relative_time_y', 'window_id_y', 'lost_x', 'lost_y', 'lost', 'PLR_x', 'Y_x', 'PLR_y', 'Y_y', 'Y']]\n",
    "                    \n",
    "                    # display(ans)\n",
    "                    \n",
    "                    handle = (ans1['Y']) & (ans2['Y'])\n",
    "                    eval_value = handle.mean() * 100\n",
    "                    # print('eval:', eval_value, len(handle))\n",
    "                    \n",
    "                    handle = (df1['lost']) & (df2['lost'])\n",
    "                    ground_value = handle.mean() * 100\n",
    "                    # print('ground:', ground_value, len(handle))\n",
    "                    \n",
    "                    if answer is None:\n",
    "                        answer = ans.copy()\n",
    "                        answer = answer.rename(columns={'PLR_x': f'PLR_x_0', 'Y_x': f'Y_x_0', 'PLR_y': f'PLR_y_0', 'Y_y': f'Y_y_0', 'Y': f'Y_0'})\n",
    "                    else:\n",
    "                        answer = pd.concat([answer, ans[['PLR_x', 'Y_x', 'PLR_y', 'Y_y', 'Y']]], axis=1)\n",
    "                        answer = answer.rename(columns={'PLR_x': f'PLR_x_{iter_round}', 'Y_x': f'Y_x_{iter_round}', 'PLR_y': f'PLR_y_{iter_round}', 'Y_y': f'Y_y_{iter_round}', 'Y': f'Y_{iter_round}'})\n",
    "                    \n",
    "                    loss_rate_list.append(eval_value)\n",
    "                \n",
    "                # display(answer)\n",
    "        \n",
    "                mean_value = np.mean(loss_rate_list)\n",
    "                std_deviation = np.std(loss_rate_list)\n",
    "\n",
    "                # print()\n",
    "                # print(\"Mean:\", mean_value)\n",
    "                # print(\"Standard Deviation:\", std_deviation)\n",
    "                # print(\"Ground Truth:\", ground_value)\n",
    "                \n",
    "                self.LOSS_GT.append(ground_value)\n",
    "                self.LOSS_EV.append(mean_value)\n",
    "                self.LOSS_STD.append(std_deviation)\n",
    "                \n",
    "                path1 = filepath[0][1]\n",
    "                path2 = filepath[1][1]\n",
    "                \n",
    "                error = mean_value - ground_value\n",
    "                self.records.append((mean_value, std_deviation, ground_value, error, path1, path2))\n",
    "\n",
    "                def find_sm_label(path):\n",
    "                    # 找到 \"sm\" 的位置\n",
    "                    sm_index = path.index(\"sm\")\n",
    "                    # 从 \"sm\" 的位置开始找到下一个斜杠 \"/\"\n",
    "                    next_slash_index = path.index(\"/\", sm_index)\n",
    "                    # 截取 \"sm00\" 标签\n",
    "                    # sm_label = path[sm_index:next_slash_index]\n",
    "                    sm_label = path[sm_index+2:next_slash_index]\n",
    "                    # print(\"截取的标签为:\", sm_label)\n",
    "                    return sm_label\n",
    "                \n",
    "                self.DEVICES.append(find_sm_label(path1)+'+'+find_sm_label(path2))\n",
    "                \n",
    "                def find_tr_label(path):\n",
    "                    # 找到 \"sm\" 的位置\n",
    "                    sm_index = path.index(\"#\")\n",
    "                    # 从 \"sm\" 的位置开始找到下一个斜杠 \"/\"\n",
    "                    next_slash_index = path.index(\"/\", sm_index)\n",
    "                    # 截取 \"sm00\" 标签\n",
    "                    # sm_label = path[sm_index:next_slash_index]\n",
    "                    sm_label = path[sm_index+1:next_slash_index]\n",
    "                    # print(\"截取的标签为:\", sm_label)\n",
    "                    return sm_label\n",
    "                \n",
    "                self.TRACES.append(find_tr_label(path1)+'+'+find_tr_label(path2))\n",
    "                \n",
    "                if self.model_suffix is None:\n",
    "                    save_path = os.path.join(self.save_path, self.sr_model_id, self.dr_model_id, 'results', self.figure_id)\n",
    "                else:\n",
    "                    save_path = os.path.join(self.save_path, self.sr_model_id, self.dr_model_id, 'results', f'{self.figure_id}_{self.model_suffix}')\n",
    "                    \n",
    "                if not os.path.isdir(save_path):\n",
    "                    os.makedirs(save_path)\n",
    "                \n",
    "                save_path = os.path.join(save_path, path1.replace('/', '\\\\')[:-4]+path2.replace('/', '\\\\'))\n",
    "                print(save_path)\n",
    "                answer.to_csv(save_path, index=False)\n",
    "    \n",
    "    \n",
    "    def plot(self, save_name='plot_example', save_path='.'):\n",
    "        # Sample data\n",
    "        x = self.LOSS_GT.copy()\n",
    "        y = self.LOSS_EV.copy()\n",
    "\n",
    "        # Standard deviations for error bars\n",
    "        y_error = self.LOSS_STD.copy()\n",
    "\n",
    "        # Create figure and axes\n",
    "        fig, ax = plt.subplots(figsize=(6, 4))\n",
    "\n",
    "        # Scatter plot with error bars and horizontal caps\n",
    "        ax.errorbar(x, y, yerr=y_error, linestyle='None', marker='o', color='tab:blue', capsize=5)\n",
    "        ax.scatter([], [], linestyle='None', marker='o', color='tab:blue', label='Data Points')\n",
    "\n",
    "        # Regression line\n",
    "        coefficients = np.polyfit(x, y, 1)\n",
    "        regression_line = np.poly1d(coefficients)\n",
    "        ax.plot(ax.get_xlim(), regression_line(ax.get_xlim()), linestyle='--', linewidth=1.1, color='tab:blue', label='Regression Line')\n",
    "\n",
    "        # Annotate the slope of the regression line\n",
    "        # slope_annotation = f'Slope: {coefficients[0]:.2f}'\n",
    "        # ax.annotate(slope_annotation, xy=(0.5, 0.85), xycoords='axes fraction', fontsize=10, fontstyle='italic', fontweight='bold', color='tab:blue')\n",
    "\n",
    "        # Annotate MSE From the regression line\n",
    "        y_pred = regression_line(x)\n",
    "        # mse = mean_squared_error(y, y_pred)\n",
    "        mse = np.sqrt(mean_squared_error(x, y))\n",
    "        mse_rate = mse / np.mean(x) * 100\n",
    "        slope_annotation = f'RMSE: {mse:.3f} ({mse_rate:.1f} %)'\n",
    "        ax.annotate(slope_annotation, xy=(0.5, 0.85), xycoords='axes fraction', fontsize=10, fontstyle='italic', fontweight='bold', color='tab:blue')\n",
    "\n",
    "        # 45-Degree Line\n",
    "        ax.plot(ax.get_xlim(), ax.get_xlim(), linestyle='-', linewidth=1.1, color='tab:pink', label='45-Degree Line', alpha=0.9)\n",
    "        # ax.plot(ax.get_xlim(), 1.1 * ax.get_xlim(), linestyle='-', linewidth=1.1, color='tab:pink', label='45-Degree Line', alpha=0.9)\n",
    "        # ax.plot(ax.get_xlim(), 0.9 * ax.get_xlim(), linestyle='-', linewidth=1.1, color='tab:pink', label='45-Degree Line', alpha=0.9)\n",
    "        \n",
    "        # 获取 x 的边界\n",
    "        x_limits = ax.get_xlim()\n",
    "\n",
    "        # 创建 x 值范围\n",
    "        x_values = np.linspace(x_limits[0], x_limits[1], 100)  # 使用 x 的边界值作为范围\n",
    "\n",
    "        # 计算 y = 1.1x 和 y = 0.9x 的值\n",
    "        y_upper = 1.1 * x_values\n",
    "        y_lower = 0.9 * x_values\n",
    "\n",
    "        # 绘制 y = 1.1x 和 y = 0.9x 线\n",
    "        ax.plot(x_values, y_upper, linestyle='-', linewidth=1.1, color='tab:orange')\n",
    "        ax.plot(x_values, y_lower, linestyle='-', linewidth=1.1, color='tab:orange')\n",
    "\n",
    "        # 在两条线之间填充颜色\n",
    "        ax.fill_between(x_values, y_lower, y_upper, color='tab:orange', alpha=0.3)\n",
    "\n",
    "        # Set labels and title\n",
    "        ax.set_xlabel('PLR Ground Truth')\n",
    "        ax.set_ylabel('PLR Evaluated')\n",
    "        # ax.set_title('A Profile Evaluate 9 Traces From A5 Data: Single')\n",
    "\n",
    "        for i, sm_label in enumerate(self.DEVICES):\n",
    "            ax.annotate(sm_label, xy=(x[i], y[i]))\n",
    "            \n",
    "        # Add a legend\n",
    "        ax.legend()\n",
    "        \n",
    "        save_path = os.path.join(save_path, self.sr_model_id, self.dr_model_id, 'figures')\n",
    "        if not os.path.isdir(save_path):\n",
    "            os.makedirs(save_path)\n",
    "        \n",
    "        if self.model_suffix is not None:\n",
    "            save_name = f'{save_name}_{self.model_suffix}'\n",
    "        save_path = os.path.join(save_path, figure_add_prefix_suffix(save_name, image_id=self.figure_id))\n",
    "        print(save_path)\n",
    "        fig.savefig(save_path, dpi=300)\n",
    "\n",
    "        # Show the plot\n",
    "        plt.show()"
   ]
  },
  {
   "cell_type": "markdown",
   "metadata": {},
   "source": [
    "# Enter Model IDs"
   ]
  },
  {
   "cell_type": "code",
   "execution_count": 3,
   "metadata": {},
   "outputs": [
    {
     "name": "stdout",
     "output_type": "stream",
     "text": [
      "SR Model ID: 20240312_150032342e_newest\n",
      "DR Model ID: 20240314_060073cc2b\n"
     ]
    }
   ],
   "source": [
    "factor = 1.5\n",
    "suffix = f'{factor}corr'\n",
    "\n",
    "sr_model_id = '20240312_150032342e_newest'\n",
    "# dr_model_id = '20240314_060057288b_test'\n",
    "dr_model_id = '20240314_060073cc2b'\n",
    "print('SR Model ID:', sr_model_id)\n",
    "print('DR Model ID:', dr_model_id)\n"
   ]
  },
  {
   "cell_type": "markdown",
   "metadata": {},
   "source": [
    "# BR: DR Eval"
   ]
  },
  {
   "cell_type": "code",
   "execution_count": 4,
   "metadata": {},
   "outputs": [],
   "source": [
    "# Dual Radio Example\n",
    "dates = data_loader(query_dates=True)\n",
    "\n",
    "selected_dates = [s for s in dates if s >= '2023-09-12']\n",
    "# excluded_dates = []\n",
    "# selected_exps = []\n",
    "# excluded_exps = ['Modem_Action_Test', 'Control_Group', 'Control_Group2', 'Control_Group3']\n",
    "selected_routes = ['BR']\n",
    "# excluded_routes = []\n",
    "filepaths = data_loader(mode='dr', selected_dates=selected_dates, selected_routes=selected_routes)\n",
    "\n",
    "# print(len(filepaths[:36]))\n",
    "# pprint(filepaths[:36])"
   ]
  },
  {
   "cell_type": "code",
   "execution_count": 5,
   "metadata": {},
   "outputs": [
    {
     "name": "stdout",
     "output_type": "stream",
     "text": [
      "./20240312_150032342e_newest/models/BR\n",
      "./20240312_150032342e_newest/20240314_060073cc2b/BR\n",
      "./20240312_150032342e_newest/20240314_060073cc2b/BR_dr_prob_models_1.5corr.pkl\n",
      "0/216 /home/wmnlab/jackbedford/data/2023-09-12-2/UDP_Bandlock_9S_Phone_Brown/sm00/#01/data/handover_info_log.csv\n",
      "0/216 /home/wmnlab/jackbedford/data/2023-09-12-2/UDP_Bandlock_9S_Phone_Brown/sm00/#01/data/udp_dnlk_loss_latency.csv\n",
      "0/216 /home/wmnlab/jackbedford/data/2023-09-12-2/UDP_Bandlock_9S_Phone_Brown/sm00/#01/data/udp_uplk_loss_latency.csv\n",
      "0/216 /home/wmnlab/jackbedford/data/2023-09-12-2/UDP_Bandlock_9S_Phone_Brown/sm01/#01/data/handover_info_log.csv\n",
      "0/216 /home/wmnlab/jackbedford/data/2023-09-12-2/UDP_Bandlock_9S_Phone_Brown/sm01/#01/data/udp_dnlk_loss_latency.csv\n",
      "0/216 /home/wmnlab/jackbedford/data/2023-09-12-2/UDP_Bandlock_9S_Phone_Brown/sm01/#01/data/udp_uplk_loss_latency.csv\n"
     ]
    },
    {
     "data": {
      "application/vnd.jupyter.widget-view+json": {
       "model_id": "aeb10c334f174847af3280f797f28e3c",
       "version_major": 2,
       "version_minor": 0
      },
      "text/plain": [
       "  0%|                                                                                                         …"
      ]
     },
     "metadata": {},
     "output_type": "display_data"
    },
    {
     "name": "stdout",
     "output_type": "stream",
     "text": [
      "./20240312_150032342e_newest/20240314_060073cc2b/results/20240314_09355400000_d7d867943ca2abed_1.5corr/\\home\\wmnlab\\jackbedford\\data\\2023-09-12-2\\UDP_Bandlock_9S_Phone_Brown\\sm00\\#01\\data\\udp_dnlk_loss_latency\\home\\wmnlab\\jackbedford\\data\\2023-09-12-2\\UDP_Bandlock_9S_Phone_Brown\\sm01\\#01\\data\\udp_dnlk_loss_latency.csv\n",
      "1/216 /home/wmnlab/jackbedford/data/2023-09-12-2/UDP_Bandlock_9S_Phone_Brown/sm00/#01/data/handover_info_log.csv\n",
      "1/216 /home/wmnlab/jackbedford/data/2023-09-12-2/UDP_Bandlock_9S_Phone_Brown/sm00/#01/data/udp_dnlk_loss_latency.csv\n",
      "1/216 /home/wmnlab/jackbedford/data/2023-09-12-2/UDP_Bandlock_9S_Phone_Brown/sm00/#01/data/udp_uplk_loss_latency.csv\n",
      "1/216 /home/wmnlab/jackbedford/data/2023-09-12-2/UDP_Bandlock_9S_Phone_Brown/sm02/#01/data/handover_info_log.csv\n",
      "1/216 /home/wmnlab/jackbedford/data/2023-09-12-2/UDP_Bandlock_9S_Phone_Brown/sm02/#01/data/udp_dnlk_loss_latency.csv\n",
      "1/216 /home/wmnlab/jackbedford/data/2023-09-12-2/UDP_Bandlock_9S_Phone_Brown/sm02/#01/data/udp_uplk_loss_latency.csv\n"
     ]
    },
    {
     "data": {
      "application/vnd.jupyter.widget-view+json": {
       "model_id": "cc9d72055f1240fcb57aee1f04aed893",
       "version_major": 2,
       "version_minor": 0
      },
      "text/plain": [
       "  0%|                                                                                                         …"
      ]
     },
     "metadata": {},
     "output_type": "display_data"
    },
    {
     "name": "stdout",
     "output_type": "stream",
     "text": [
      "./20240312_150032342e_newest/20240314_060073cc2b/results/20240314_09355400000_d7d867943ca2abed_1.5corr/\\home\\wmnlab\\jackbedford\\data\\2023-09-12-2\\UDP_Bandlock_9S_Phone_Brown\\sm00\\#01\\data\\udp_dnlk_loss_latency\\home\\wmnlab\\jackbedford\\data\\2023-09-12-2\\UDP_Bandlock_9S_Phone_Brown\\sm02\\#01\\data\\udp_dnlk_loss_latency.csv\n",
      "2/216 /home/wmnlab/jackbedford/data/2023-09-12-2/UDP_Bandlock_9S_Phone_Brown/sm00/#01/data/handover_info_log.csv\n",
      "2/216 /home/wmnlab/jackbedford/data/2023-09-12-2/UDP_Bandlock_9S_Phone_Brown/sm00/#01/data/udp_dnlk_loss_latency.csv\n",
      "2/216 /home/wmnlab/jackbedford/data/2023-09-12-2/UDP_Bandlock_9S_Phone_Brown/sm00/#01/data/udp_uplk_loss_latency.csv\n",
      "2/216 /home/wmnlab/jackbedford/data/2023-09-12-2/UDP_Bandlock_9S_Phone_Brown/sm03/#01/data/handover_info_log.csv\n",
      "2/216 /home/wmnlab/jackbedford/data/2023-09-12-2/UDP_Bandlock_9S_Phone_Brown/sm03/#01/data/udp_dnlk_loss_latency.csv\n",
      "2/216 /home/wmnlab/jackbedford/data/2023-09-12-2/UDP_Bandlock_9S_Phone_Brown/sm03/#01/data/udp_uplk_loss_latency.csv\n"
     ]
    },
    {
     "data": {
      "application/vnd.jupyter.widget-view+json": {
       "model_id": "ed44387da69043f49aa9d1556f4f605c",
       "version_major": 2,
       "version_minor": 0
      },
      "text/plain": [
       "  0%|                                                                                                         …"
      ]
     },
     "metadata": {},
     "output_type": "display_data"
    },
    {
     "name": "stdout",
     "output_type": "stream",
     "text": [
      "./20240312_150032342e_newest/20240314_060073cc2b/results/20240314_09355400000_d7d867943ca2abed_1.5corr/\\home\\wmnlab\\jackbedford\\data\\2023-09-12-2\\UDP_Bandlock_9S_Phone_Brown\\sm00\\#01\\data\\udp_dnlk_loss_latency\\home\\wmnlab\\jackbedford\\data\\2023-09-12-2\\UDP_Bandlock_9S_Phone_Brown\\sm03\\#01\\data\\udp_dnlk_loss_latency.csv\n",
      "3/216 /home/wmnlab/jackbedford/data/2023-09-12-2/UDP_Bandlock_9S_Phone_Brown/sm00/#01/data/handover_info_log.csv\n",
      "3/216 /home/wmnlab/jackbedford/data/2023-09-12-2/UDP_Bandlock_9S_Phone_Brown/sm00/#01/data/udp_dnlk_loss_latency.csv\n",
      "3/216 /home/wmnlab/jackbedford/data/2023-09-12-2/UDP_Bandlock_9S_Phone_Brown/sm00/#01/data/udp_uplk_loss_latency.csv\n",
      "3/216 /home/wmnlab/jackbedford/data/2023-09-12-2/UDP_Bandlock_9S_Phone_Brown/sm04/#01/data/handover_info_log.csv\n",
      "3/216 /home/wmnlab/jackbedford/data/2023-09-12-2/UDP_Bandlock_9S_Phone_Brown/sm04/#01/data/udp_dnlk_loss_latency.csv\n",
      "3/216 /home/wmnlab/jackbedford/data/2023-09-12-2/UDP_Bandlock_9S_Phone_Brown/sm04/#01/data/udp_uplk_loss_latency.csv\n"
     ]
    },
    {
     "data": {
      "application/vnd.jupyter.widget-view+json": {
       "model_id": "a0742db598d24f8094e5a598c6387773",
       "version_major": 2,
       "version_minor": 0
      },
      "text/plain": [
       "  0%|                                                                                                         …"
      ]
     },
     "metadata": {},
     "output_type": "display_data"
    },
    {
     "name": "stdout",
     "output_type": "stream",
     "text": [
      "./20240312_150032342e_newest/20240314_060073cc2b/results/20240314_09355400000_d7d867943ca2abed_1.5corr/\\home\\wmnlab\\jackbedford\\data\\2023-09-12-2\\UDP_Bandlock_9S_Phone_Brown\\sm00\\#01\\data\\udp_dnlk_loss_latency\\home\\wmnlab\\jackbedford\\data\\2023-09-12-2\\UDP_Bandlock_9S_Phone_Brown\\sm04\\#01\\data\\udp_dnlk_loss_latency.csv\n",
      "4/216 /home/wmnlab/jackbedford/data/2023-09-12-2/UDP_Bandlock_9S_Phone_Brown/sm00/#01/data/handover_info_log.csv\n",
      "4/216 /home/wmnlab/jackbedford/data/2023-09-12-2/UDP_Bandlock_9S_Phone_Brown/sm00/#01/data/udp_dnlk_loss_latency.csv\n",
      "4/216 /home/wmnlab/jackbedford/data/2023-09-12-2/UDP_Bandlock_9S_Phone_Brown/sm00/#01/data/udp_uplk_loss_latency.csv\n",
      "4/216 /home/wmnlab/jackbedford/data/2023-09-12-2/UDP_Bandlock_9S_Phone_Brown/sm05/#01/data/handover_info_log.csv\n",
      "4/216 /home/wmnlab/jackbedford/data/2023-09-12-2/UDP_Bandlock_9S_Phone_Brown/sm05/#01/data/udp_dnlk_loss_latency.csv\n",
      "4/216 /home/wmnlab/jackbedford/data/2023-09-12-2/UDP_Bandlock_9S_Phone_Brown/sm05/#01/data/udp_uplk_loss_latency.csv\n"
     ]
    },
    {
     "data": {
      "application/vnd.jupyter.widget-view+json": {
       "model_id": "337910e356f54377b292be5f7677303d",
       "version_major": 2,
       "version_minor": 0
      },
      "text/plain": [
       "  0%|                                                                                                         …"
      ]
     },
     "metadata": {},
     "output_type": "display_data"
    },
    {
     "name": "stdout",
     "output_type": "stream",
     "text": [
      "./20240312_150032342e_newest/20240314_060073cc2b/results/20240314_09355400000_d7d867943ca2abed_1.5corr/\\home\\wmnlab\\jackbedford\\data\\2023-09-12-2\\UDP_Bandlock_9S_Phone_Brown\\sm00\\#01\\data\\udp_dnlk_loss_latency\\home\\wmnlab\\jackbedford\\data\\2023-09-12-2\\UDP_Bandlock_9S_Phone_Brown\\sm05\\#01\\data\\udp_dnlk_loss_latency.csv\n",
      "5/216 /home/wmnlab/jackbedford/data/2023-09-12-2/UDP_Bandlock_9S_Phone_Brown/sm00/#01/data/handover_info_log.csv\n",
      "5/216 /home/wmnlab/jackbedford/data/2023-09-12-2/UDP_Bandlock_9S_Phone_Brown/sm00/#01/data/udp_dnlk_loss_latency.csv\n",
      "5/216 /home/wmnlab/jackbedford/data/2023-09-12-2/UDP_Bandlock_9S_Phone_Brown/sm00/#01/data/udp_uplk_loss_latency.csv\n",
      "5/216 /home/wmnlab/jackbedford/data/2023-09-12-2/UDP_Bandlock_9S_Phone_Brown/sm06/#01/data/handover_info_log.csv\n",
      "5/216 /home/wmnlab/jackbedford/data/2023-09-12-2/UDP_Bandlock_9S_Phone_Brown/sm06/#01/data/udp_dnlk_loss_latency.csv\n",
      "5/216 /home/wmnlab/jackbedford/data/2023-09-12-2/UDP_Bandlock_9S_Phone_Brown/sm06/#01/data/udp_uplk_loss_latency.csv\n"
     ]
    },
    {
     "data": {
      "application/vnd.jupyter.widget-view+json": {
       "model_id": "4042cdd6704a4fcca17a010a90806358",
       "version_major": 2,
       "version_minor": 0
      },
      "text/plain": [
       "  0%|                                                                                                         …"
      ]
     },
     "metadata": {},
     "output_type": "display_data"
    },
    {
     "name": "stdout",
     "output_type": "stream",
     "text": [
      "./20240312_150032342e_newest/20240314_060073cc2b/results/20240314_09355400000_d7d867943ca2abed_1.5corr/\\home\\wmnlab\\jackbedford\\data\\2023-09-12-2\\UDP_Bandlock_9S_Phone_Brown\\sm00\\#01\\data\\udp_dnlk_loss_latency\\home\\wmnlab\\jackbedford\\data\\2023-09-12-2\\UDP_Bandlock_9S_Phone_Brown\\sm06\\#01\\data\\udp_dnlk_loss_latency.csv\n",
      "6/216 /home/wmnlab/jackbedford/data/2023-09-12-2/UDP_Bandlock_9S_Phone_Brown/sm00/#01/data/handover_info_log.csv\n",
      "6/216 /home/wmnlab/jackbedford/data/2023-09-12-2/UDP_Bandlock_9S_Phone_Brown/sm00/#01/data/udp_dnlk_loss_latency.csv\n",
      "6/216 /home/wmnlab/jackbedford/data/2023-09-12-2/UDP_Bandlock_9S_Phone_Brown/sm00/#01/data/udp_uplk_loss_latency.csv\n",
      "6/216 /home/wmnlab/jackbedford/data/2023-09-12-2/UDP_Bandlock_9S_Phone_Brown/sm07/#01/data/handover_info_log.csv\n",
      "6/216 /home/wmnlab/jackbedford/data/2023-09-12-2/UDP_Bandlock_9S_Phone_Brown/sm07/#01/data/udp_dnlk_loss_latency.csv\n",
      "6/216 /home/wmnlab/jackbedford/data/2023-09-12-2/UDP_Bandlock_9S_Phone_Brown/sm07/#01/data/udp_uplk_loss_latency.csv\n"
     ]
    },
    {
     "data": {
      "application/vnd.jupyter.widget-view+json": {
       "model_id": "ec7d2442366f4191aabd15752279ad42",
       "version_major": 2,
       "version_minor": 0
      },
      "text/plain": [
       "  0%|                                                                                                         …"
      ]
     },
     "metadata": {},
     "output_type": "display_data"
    },
    {
     "name": "stdout",
     "output_type": "stream",
     "text": [
      "./20240312_150032342e_newest/20240314_060073cc2b/results/20240314_09355400000_d7d867943ca2abed_1.5corr/\\home\\wmnlab\\jackbedford\\data\\2023-09-12-2\\UDP_Bandlock_9S_Phone_Brown\\sm00\\#01\\data\\udp_dnlk_loss_latency\\home\\wmnlab\\jackbedford\\data\\2023-09-12-2\\UDP_Bandlock_9S_Phone_Brown\\sm07\\#01\\data\\udp_dnlk_loss_latency.csv\n",
      "7/216 /home/wmnlab/jackbedford/data/2023-09-12-2/UDP_Bandlock_9S_Phone_Brown/sm00/#01/data/handover_info_log.csv\n",
      "7/216 /home/wmnlab/jackbedford/data/2023-09-12-2/UDP_Bandlock_9S_Phone_Brown/sm00/#01/data/udp_dnlk_loss_latency.csv\n",
      "7/216 /home/wmnlab/jackbedford/data/2023-09-12-2/UDP_Bandlock_9S_Phone_Brown/sm00/#01/data/udp_uplk_loss_latency.csv\n",
      "7/216 /home/wmnlab/jackbedford/data/2023-09-12-2/UDP_Bandlock_9S_Phone_Brown/sm08/#01/data/handover_info_log.csv\n",
      "7/216 /home/wmnlab/jackbedford/data/2023-09-12-2/UDP_Bandlock_9S_Phone_Brown/sm08/#01/data/udp_dnlk_loss_latency.csv\n",
      "7/216 /home/wmnlab/jackbedford/data/2023-09-12-2/UDP_Bandlock_9S_Phone_Brown/sm08/#01/data/udp_uplk_loss_latency.csv\n"
     ]
    },
    {
     "data": {
      "application/vnd.jupyter.widget-view+json": {
       "model_id": "3800c836fcdb42e2b67d0e0189e346c2",
       "version_major": 2,
       "version_minor": 0
      },
      "text/plain": [
       "  0%|                                                                                                         …"
      ]
     },
     "metadata": {},
     "output_type": "display_data"
    },
    {
     "name": "stdout",
     "output_type": "stream",
     "text": [
      "./20240312_150032342e_newest/20240314_060073cc2b/results/20240314_09355400000_d7d867943ca2abed_1.5corr/\\home\\wmnlab\\jackbedford\\data\\2023-09-12-2\\UDP_Bandlock_9S_Phone_Brown\\sm00\\#01\\data\\udp_dnlk_loss_latency\\home\\wmnlab\\jackbedford\\data\\2023-09-12-2\\UDP_Bandlock_9S_Phone_Brown\\sm08\\#01\\data\\udp_dnlk_loss_latency.csv\n",
      "8/216 /home/wmnlab/jackbedford/data/2023-09-12-2/UDP_Bandlock_9S_Phone_Brown/sm01/#01/data/handover_info_log.csv\n",
      "8/216 /home/wmnlab/jackbedford/data/2023-09-12-2/UDP_Bandlock_9S_Phone_Brown/sm01/#01/data/udp_dnlk_loss_latency.csv\n",
      "8/216 /home/wmnlab/jackbedford/data/2023-09-12-2/UDP_Bandlock_9S_Phone_Brown/sm01/#01/data/udp_uplk_loss_latency.csv\n",
      "8/216 /home/wmnlab/jackbedford/data/2023-09-12-2/UDP_Bandlock_9S_Phone_Brown/sm02/#01/data/handover_info_log.csv\n",
      "8/216 /home/wmnlab/jackbedford/data/2023-09-12-2/UDP_Bandlock_9S_Phone_Brown/sm02/#01/data/udp_dnlk_loss_latency.csv\n",
      "8/216 /home/wmnlab/jackbedford/data/2023-09-12-2/UDP_Bandlock_9S_Phone_Brown/sm02/#01/data/udp_uplk_loss_latency.csv\n"
     ]
    },
    {
     "data": {
      "application/vnd.jupyter.widget-view+json": {
       "model_id": "82fb560fbb8f4b84abc4b296b9be00bb",
       "version_major": 2,
       "version_minor": 0
      },
      "text/plain": [
       "  0%|                                                                                                         …"
      ]
     },
     "metadata": {},
     "output_type": "display_data"
    },
    {
     "name": "stdout",
     "output_type": "stream",
     "text": [
      "./20240312_150032342e_newest/20240314_060073cc2b/results/20240314_09355400000_d7d867943ca2abed_1.5corr/\\home\\wmnlab\\jackbedford\\data\\2023-09-12-2\\UDP_Bandlock_9S_Phone_Brown\\sm01\\#01\\data\\udp_dnlk_loss_latency\\home\\wmnlab\\jackbedford\\data\\2023-09-12-2\\UDP_Bandlock_9S_Phone_Brown\\sm02\\#01\\data\\udp_dnlk_loss_latency.csv\n",
      "9/216 /home/wmnlab/jackbedford/data/2023-09-12-2/UDP_Bandlock_9S_Phone_Brown/sm01/#01/data/handover_info_log.csv\n",
      "9/216 /home/wmnlab/jackbedford/data/2023-09-12-2/UDP_Bandlock_9S_Phone_Brown/sm01/#01/data/udp_dnlk_loss_latency.csv\n",
      "9/216 /home/wmnlab/jackbedford/data/2023-09-12-2/UDP_Bandlock_9S_Phone_Brown/sm01/#01/data/udp_uplk_loss_latency.csv\n",
      "9/216 /home/wmnlab/jackbedford/data/2023-09-12-2/UDP_Bandlock_9S_Phone_Brown/sm03/#01/data/handover_info_log.csv\n",
      "9/216 /home/wmnlab/jackbedford/data/2023-09-12-2/UDP_Bandlock_9S_Phone_Brown/sm03/#01/data/udp_dnlk_loss_latency.csv\n",
      "9/216 /home/wmnlab/jackbedford/data/2023-09-12-2/UDP_Bandlock_9S_Phone_Brown/sm03/#01/data/udp_uplk_loss_latency.csv\n"
     ]
    },
    {
     "data": {
      "application/vnd.jupyter.widget-view+json": {
       "model_id": "feae0f5f10bf4a6ea4fe1ddf63f73aa7",
       "version_major": 2,
       "version_minor": 0
      },
      "text/plain": [
       "  0%|                                                                                                         …"
      ]
     },
     "metadata": {},
     "output_type": "display_data"
    },
    {
     "name": "stdout",
     "output_type": "stream",
     "text": [
      "./20240312_150032342e_newest/20240314_060073cc2b/results/20240314_09355400000_d7d867943ca2abed_1.5corr/\\home\\wmnlab\\jackbedford\\data\\2023-09-12-2\\UDP_Bandlock_9S_Phone_Brown\\sm01\\#01\\data\\udp_dnlk_loss_latency\\home\\wmnlab\\jackbedford\\data\\2023-09-12-2\\UDP_Bandlock_9S_Phone_Brown\\sm03\\#01\\data\\udp_dnlk_loss_latency.csv\n",
      "10/216 /home/wmnlab/jackbedford/data/2023-09-12-2/UDP_Bandlock_9S_Phone_Brown/sm01/#01/data/handover_info_log.csv\n",
      "10/216 /home/wmnlab/jackbedford/data/2023-09-12-2/UDP_Bandlock_9S_Phone_Brown/sm01/#01/data/udp_dnlk_loss_latency.csv\n",
      "10/216 /home/wmnlab/jackbedford/data/2023-09-12-2/UDP_Bandlock_9S_Phone_Brown/sm01/#01/data/udp_uplk_loss_latency.csv\n",
      "10/216 /home/wmnlab/jackbedford/data/2023-09-12-2/UDP_Bandlock_9S_Phone_Brown/sm04/#01/data/handover_info_log.csv\n",
      "10/216 /home/wmnlab/jackbedford/data/2023-09-12-2/UDP_Bandlock_9S_Phone_Brown/sm04/#01/data/udp_dnlk_loss_latency.csv\n",
      "10/216 /home/wmnlab/jackbedford/data/2023-09-12-2/UDP_Bandlock_9S_Phone_Brown/sm04/#01/data/udp_uplk_loss_latency.csv\n"
     ]
    },
    {
     "data": {
      "application/vnd.jupyter.widget-view+json": {
       "model_id": "e41fd5410d064982a760418d532a9ce2",
       "version_major": 2,
       "version_minor": 0
      },
      "text/plain": [
       "  0%|                                                                                                         …"
      ]
     },
     "metadata": {},
     "output_type": "display_data"
    },
    {
     "name": "stdout",
     "output_type": "stream",
     "text": [
      "./20240312_150032342e_newest/20240314_060073cc2b/results/20240314_09355400000_d7d867943ca2abed_1.5corr/\\home\\wmnlab\\jackbedford\\data\\2023-09-12-2\\UDP_Bandlock_9S_Phone_Brown\\sm01\\#01\\data\\udp_dnlk_loss_latency\\home\\wmnlab\\jackbedford\\data\\2023-09-12-2\\UDP_Bandlock_9S_Phone_Brown\\sm04\\#01\\data\\udp_dnlk_loss_latency.csv\n",
      "11/216 /home/wmnlab/jackbedford/data/2023-09-12-2/UDP_Bandlock_9S_Phone_Brown/sm01/#01/data/handover_info_log.csv\n",
      "11/216 /home/wmnlab/jackbedford/data/2023-09-12-2/UDP_Bandlock_9S_Phone_Brown/sm01/#01/data/udp_dnlk_loss_latency.csv\n",
      "11/216 /home/wmnlab/jackbedford/data/2023-09-12-2/UDP_Bandlock_9S_Phone_Brown/sm01/#01/data/udp_uplk_loss_latency.csv\n",
      "11/216 /home/wmnlab/jackbedford/data/2023-09-12-2/UDP_Bandlock_9S_Phone_Brown/sm05/#01/data/handover_info_log.csv\n",
      "11/216 /home/wmnlab/jackbedford/data/2023-09-12-2/UDP_Bandlock_9S_Phone_Brown/sm05/#01/data/udp_dnlk_loss_latency.csv\n",
      "11/216 /home/wmnlab/jackbedford/data/2023-09-12-2/UDP_Bandlock_9S_Phone_Brown/sm05/#01/data/udp_uplk_loss_latency.csv\n"
     ]
    },
    {
     "data": {
      "application/vnd.jupyter.widget-view+json": {
       "model_id": "466b182d072a4446b113b4c9bf5fa8a1",
       "version_major": 2,
       "version_minor": 0
      },
      "text/plain": [
       "  0%|                                                                                                         …"
      ]
     },
     "metadata": {},
     "output_type": "display_data"
    },
    {
     "name": "stdout",
     "output_type": "stream",
     "text": [
      "./20240312_150032342e_newest/20240314_060073cc2b/results/20240314_09355400000_d7d867943ca2abed_1.5corr/\\home\\wmnlab\\jackbedford\\data\\2023-09-12-2\\UDP_Bandlock_9S_Phone_Brown\\sm01\\#01\\data\\udp_dnlk_loss_latency\\home\\wmnlab\\jackbedford\\data\\2023-09-12-2\\UDP_Bandlock_9S_Phone_Brown\\sm05\\#01\\data\\udp_dnlk_loss_latency.csv\n",
      "12/216 /home/wmnlab/jackbedford/data/2023-09-12-2/UDP_Bandlock_9S_Phone_Brown/sm01/#01/data/handover_info_log.csv\n",
      "12/216 /home/wmnlab/jackbedford/data/2023-09-12-2/UDP_Bandlock_9S_Phone_Brown/sm01/#01/data/udp_dnlk_loss_latency.csv\n",
      "12/216 /home/wmnlab/jackbedford/data/2023-09-12-2/UDP_Bandlock_9S_Phone_Brown/sm01/#01/data/udp_uplk_loss_latency.csv\n",
      "12/216 /home/wmnlab/jackbedford/data/2023-09-12-2/UDP_Bandlock_9S_Phone_Brown/sm06/#01/data/handover_info_log.csv\n",
      "12/216 /home/wmnlab/jackbedford/data/2023-09-12-2/UDP_Bandlock_9S_Phone_Brown/sm06/#01/data/udp_dnlk_loss_latency.csv\n",
      "12/216 /home/wmnlab/jackbedford/data/2023-09-12-2/UDP_Bandlock_9S_Phone_Brown/sm06/#01/data/udp_uplk_loss_latency.csv\n"
     ]
    },
    {
     "data": {
      "application/vnd.jupyter.widget-view+json": {
       "model_id": "d3b4e502ecde412bb526c088a4687484",
       "version_major": 2,
       "version_minor": 0
      },
      "text/plain": [
       "  0%|                                                                                                         …"
      ]
     },
     "metadata": {},
     "output_type": "display_data"
    },
    {
     "name": "stdout",
     "output_type": "stream",
     "text": [
      "./20240312_150032342e_newest/20240314_060073cc2b/results/20240314_09355400000_d7d867943ca2abed_1.5corr/\\home\\wmnlab\\jackbedford\\data\\2023-09-12-2\\UDP_Bandlock_9S_Phone_Brown\\sm01\\#01\\data\\udp_dnlk_loss_latency\\home\\wmnlab\\jackbedford\\data\\2023-09-12-2\\UDP_Bandlock_9S_Phone_Brown\\sm06\\#01\\data\\udp_dnlk_loss_latency.csv\n",
      "13/216 /home/wmnlab/jackbedford/data/2023-09-12-2/UDP_Bandlock_9S_Phone_Brown/sm01/#01/data/handover_info_log.csv\n",
      "13/216 /home/wmnlab/jackbedford/data/2023-09-12-2/UDP_Bandlock_9S_Phone_Brown/sm01/#01/data/udp_dnlk_loss_latency.csv\n",
      "13/216 /home/wmnlab/jackbedford/data/2023-09-12-2/UDP_Bandlock_9S_Phone_Brown/sm01/#01/data/udp_uplk_loss_latency.csv\n",
      "13/216 /home/wmnlab/jackbedford/data/2023-09-12-2/UDP_Bandlock_9S_Phone_Brown/sm07/#01/data/handover_info_log.csv\n",
      "13/216 /home/wmnlab/jackbedford/data/2023-09-12-2/UDP_Bandlock_9S_Phone_Brown/sm07/#01/data/udp_dnlk_loss_latency.csv\n",
      "13/216 /home/wmnlab/jackbedford/data/2023-09-12-2/UDP_Bandlock_9S_Phone_Brown/sm07/#01/data/udp_uplk_loss_latency.csv\n"
     ]
    },
    {
     "data": {
      "application/vnd.jupyter.widget-view+json": {
       "model_id": "d1e5dd695aae4a4fb3eca3a370d2d0ee",
       "version_major": 2,
       "version_minor": 0
      },
      "text/plain": [
       "  0%|                                                                                                         …"
      ]
     },
     "metadata": {},
     "output_type": "display_data"
    },
    {
     "name": "stdout",
     "output_type": "stream",
     "text": [
      "./20240312_150032342e_newest/20240314_060073cc2b/results/20240314_09355400000_d7d867943ca2abed_1.5corr/\\home\\wmnlab\\jackbedford\\data\\2023-09-12-2\\UDP_Bandlock_9S_Phone_Brown\\sm01\\#01\\data\\udp_dnlk_loss_latency\\home\\wmnlab\\jackbedford\\data\\2023-09-12-2\\UDP_Bandlock_9S_Phone_Brown\\sm07\\#01\\data\\udp_dnlk_loss_latency.csv\n",
      "14/216 /home/wmnlab/jackbedford/data/2023-09-12-2/UDP_Bandlock_9S_Phone_Brown/sm01/#01/data/handover_info_log.csv\n",
      "14/216 /home/wmnlab/jackbedford/data/2023-09-12-2/UDP_Bandlock_9S_Phone_Brown/sm01/#01/data/udp_dnlk_loss_latency.csv\n",
      "14/216 /home/wmnlab/jackbedford/data/2023-09-12-2/UDP_Bandlock_9S_Phone_Brown/sm01/#01/data/udp_uplk_loss_latency.csv\n",
      "14/216 /home/wmnlab/jackbedford/data/2023-09-12-2/UDP_Bandlock_9S_Phone_Brown/sm08/#01/data/handover_info_log.csv\n",
      "14/216 /home/wmnlab/jackbedford/data/2023-09-12-2/UDP_Bandlock_9S_Phone_Brown/sm08/#01/data/udp_dnlk_loss_latency.csv\n",
      "14/216 /home/wmnlab/jackbedford/data/2023-09-12-2/UDP_Bandlock_9S_Phone_Brown/sm08/#01/data/udp_uplk_loss_latency.csv\n"
     ]
    },
    {
     "data": {
      "application/vnd.jupyter.widget-view+json": {
       "model_id": "4c3b64755d0b4efeb9fb7358b47bdb0a",
       "version_major": 2,
       "version_minor": 0
      },
      "text/plain": [
       "  0%|                                                                                                         …"
      ]
     },
     "metadata": {},
     "output_type": "display_data"
    },
    {
     "name": "stdout",
     "output_type": "stream",
     "text": [
      "./20240312_150032342e_newest/20240314_060073cc2b/results/20240314_09355400000_d7d867943ca2abed_1.5corr/\\home\\wmnlab\\jackbedford\\data\\2023-09-12-2\\UDP_Bandlock_9S_Phone_Brown\\sm01\\#01\\data\\udp_dnlk_loss_latency\\home\\wmnlab\\jackbedford\\data\\2023-09-12-2\\UDP_Bandlock_9S_Phone_Brown\\sm08\\#01\\data\\udp_dnlk_loss_latency.csv\n",
      "15/216 /home/wmnlab/jackbedford/data/2023-09-12-2/UDP_Bandlock_9S_Phone_Brown/sm02/#01/data/handover_info_log.csv\n",
      "15/216 /home/wmnlab/jackbedford/data/2023-09-12-2/UDP_Bandlock_9S_Phone_Brown/sm02/#01/data/udp_dnlk_loss_latency.csv\n",
      "15/216 /home/wmnlab/jackbedford/data/2023-09-12-2/UDP_Bandlock_9S_Phone_Brown/sm02/#01/data/udp_uplk_loss_latency.csv\n",
      "15/216 /home/wmnlab/jackbedford/data/2023-09-12-2/UDP_Bandlock_9S_Phone_Brown/sm03/#01/data/handover_info_log.csv\n",
      "15/216 /home/wmnlab/jackbedford/data/2023-09-12-2/UDP_Bandlock_9S_Phone_Brown/sm03/#01/data/udp_dnlk_loss_latency.csv\n",
      "15/216 /home/wmnlab/jackbedford/data/2023-09-12-2/UDP_Bandlock_9S_Phone_Brown/sm03/#01/data/udp_uplk_loss_latency.csv\n"
     ]
    },
    {
     "data": {
      "application/vnd.jupyter.widget-view+json": {
       "model_id": "86f813de02334d01a29d24e2e6a7c107",
       "version_major": 2,
       "version_minor": 0
      },
      "text/plain": [
       "  0%|                                                                                                         …"
      ]
     },
     "metadata": {},
     "output_type": "display_data"
    },
    {
     "name": "stdout",
     "output_type": "stream",
     "text": [
      "./20240312_150032342e_newest/20240314_060073cc2b/results/20240314_09355400000_d7d867943ca2abed_1.5corr/\\home\\wmnlab\\jackbedford\\data\\2023-09-12-2\\UDP_Bandlock_9S_Phone_Brown\\sm02\\#01\\data\\udp_dnlk_loss_latency\\home\\wmnlab\\jackbedford\\data\\2023-09-12-2\\UDP_Bandlock_9S_Phone_Brown\\sm03\\#01\\data\\udp_dnlk_loss_latency.csv\n",
      "16/216 /home/wmnlab/jackbedford/data/2023-09-12-2/UDP_Bandlock_9S_Phone_Brown/sm02/#01/data/handover_info_log.csv\n",
      "16/216 /home/wmnlab/jackbedford/data/2023-09-12-2/UDP_Bandlock_9S_Phone_Brown/sm02/#01/data/udp_dnlk_loss_latency.csv\n",
      "16/216 /home/wmnlab/jackbedford/data/2023-09-12-2/UDP_Bandlock_9S_Phone_Brown/sm02/#01/data/udp_uplk_loss_latency.csv\n",
      "16/216 /home/wmnlab/jackbedford/data/2023-09-12-2/UDP_Bandlock_9S_Phone_Brown/sm04/#01/data/handover_info_log.csv\n",
      "16/216 /home/wmnlab/jackbedford/data/2023-09-12-2/UDP_Bandlock_9S_Phone_Brown/sm04/#01/data/udp_dnlk_loss_latency.csv\n",
      "16/216 /home/wmnlab/jackbedford/data/2023-09-12-2/UDP_Bandlock_9S_Phone_Brown/sm04/#01/data/udp_uplk_loss_latency.csv\n"
     ]
    },
    {
     "data": {
      "application/vnd.jupyter.widget-view+json": {
       "model_id": "830e56b2c51e4b2b9dd3af1c0d8850b0",
       "version_major": 2,
       "version_minor": 0
      },
      "text/plain": [
       "  0%|                                                                                                         …"
      ]
     },
     "metadata": {},
     "output_type": "display_data"
    },
    {
     "name": "stdout",
     "output_type": "stream",
     "text": [
      "./20240312_150032342e_newest/20240314_060073cc2b/results/20240314_09355400000_d7d867943ca2abed_1.5corr/\\home\\wmnlab\\jackbedford\\data\\2023-09-12-2\\UDP_Bandlock_9S_Phone_Brown\\sm02\\#01\\data\\udp_dnlk_loss_latency\\home\\wmnlab\\jackbedford\\data\\2023-09-12-2\\UDP_Bandlock_9S_Phone_Brown\\sm04\\#01\\data\\udp_dnlk_loss_latency.csv\n",
      "17/216 /home/wmnlab/jackbedford/data/2023-09-12-2/UDP_Bandlock_9S_Phone_Brown/sm02/#01/data/handover_info_log.csv\n",
      "17/216 /home/wmnlab/jackbedford/data/2023-09-12-2/UDP_Bandlock_9S_Phone_Brown/sm02/#01/data/udp_dnlk_loss_latency.csv\n",
      "17/216 /home/wmnlab/jackbedford/data/2023-09-12-2/UDP_Bandlock_9S_Phone_Brown/sm02/#01/data/udp_uplk_loss_latency.csv\n",
      "17/216 /home/wmnlab/jackbedford/data/2023-09-12-2/UDP_Bandlock_9S_Phone_Brown/sm05/#01/data/handover_info_log.csv\n",
      "17/216 /home/wmnlab/jackbedford/data/2023-09-12-2/UDP_Bandlock_9S_Phone_Brown/sm05/#01/data/udp_dnlk_loss_latency.csv\n",
      "17/216 /home/wmnlab/jackbedford/data/2023-09-12-2/UDP_Bandlock_9S_Phone_Brown/sm05/#01/data/udp_uplk_loss_latency.csv\n"
     ]
    },
    {
     "data": {
      "application/vnd.jupyter.widget-view+json": {
       "model_id": "766444d3d1ea4e8f9307ba20924b3b6d",
       "version_major": 2,
       "version_minor": 0
      },
      "text/plain": [
       "  0%|                                                                                                         …"
      ]
     },
     "metadata": {},
     "output_type": "display_data"
    },
    {
     "name": "stdout",
     "output_type": "stream",
     "text": [
      "./20240312_150032342e_newest/20240314_060073cc2b/results/20240314_09355400000_d7d867943ca2abed_1.5corr/\\home\\wmnlab\\jackbedford\\data\\2023-09-12-2\\UDP_Bandlock_9S_Phone_Brown\\sm02\\#01\\data\\udp_dnlk_loss_latency\\home\\wmnlab\\jackbedford\\data\\2023-09-12-2\\UDP_Bandlock_9S_Phone_Brown\\sm05\\#01\\data\\udp_dnlk_loss_latency.csv\n",
      "18/216 /home/wmnlab/jackbedford/data/2023-09-12-2/UDP_Bandlock_9S_Phone_Brown/sm02/#01/data/handover_info_log.csv\n",
      "18/216 /home/wmnlab/jackbedford/data/2023-09-12-2/UDP_Bandlock_9S_Phone_Brown/sm02/#01/data/udp_dnlk_loss_latency.csv\n",
      "18/216 /home/wmnlab/jackbedford/data/2023-09-12-2/UDP_Bandlock_9S_Phone_Brown/sm02/#01/data/udp_uplk_loss_latency.csv\n",
      "18/216 /home/wmnlab/jackbedford/data/2023-09-12-2/UDP_Bandlock_9S_Phone_Brown/sm06/#01/data/handover_info_log.csv\n",
      "18/216 /home/wmnlab/jackbedford/data/2023-09-12-2/UDP_Bandlock_9S_Phone_Brown/sm06/#01/data/udp_dnlk_loss_latency.csv\n",
      "18/216 /home/wmnlab/jackbedford/data/2023-09-12-2/UDP_Bandlock_9S_Phone_Brown/sm06/#01/data/udp_uplk_loss_latency.csv\n"
     ]
    },
    {
     "data": {
      "application/vnd.jupyter.widget-view+json": {
       "model_id": "177e1786b83f46c08c7265614aa1188c",
       "version_major": 2,
       "version_minor": 0
      },
      "text/plain": [
       "  0%|                                                                                                         …"
      ]
     },
     "metadata": {},
     "output_type": "display_data"
    },
    {
     "name": "stdout",
     "output_type": "stream",
     "text": [
      "./20240312_150032342e_newest/20240314_060073cc2b/results/20240314_09355400000_d7d867943ca2abed_1.5corr/\\home\\wmnlab\\jackbedford\\data\\2023-09-12-2\\UDP_Bandlock_9S_Phone_Brown\\sm02\\#01\\data\\udp_dnlk_loss_latency\\home\\wmnlab\\jackbedford\\data\\2023-09-12-2\\UDP_Bandlock_9S_Phone_Brown\\sm06\\#01\\data\\udp_dnlk_loss_latency.csv\n",
      "19/216 /home/wmnlab/jackbedford/data/2023-09-12-2/UDP_Bandlock_9S_Phone_Brown/sm02/#01/data/handover_info_log.csv\n",
      "19/216 /home/wmnlab/jackbedford/data/2023-09-12-2/UDP_Bandlock_9S_Phone_Brown/sm02/#01/data/udp_dnlk_loss_latency.csv\n",
      "19/216 /home/wmnlab/jackbedford/data/2023-09-12-2/UDP_Bandlock_9S_Phone_Brown/sm02/#01/data/udp_uplk_loss_latency.csv\n",
      "19/216 /home/wmnlab/jackbedford/data/2023-09-12-2/UDP_Bandlock_9S_Phone_Brown/sm07/#01/data/handover_info_log.csv\n",
      "19/216 /home/wmnlab/jackbedford/data/2023-09-12-2/UDP_Bandlock_9S_Phone_Brown/sm07/#01/data/udp_dnlk_loss_latency.csv\n",
      "19/216 /home/wmnlab/jackbedford/data/2023-09-12-2/UDP_Bandlock_9S_Phone_Brown/sm07/#01/data/udp_uplk_loss_latency.csv\n"
     ]
    },
    {
     "data": {
      "application/vnd.jupyter.widget-view+json": {
       "model_id": "12c08696483d406a9bf7154c5493ce03",
       "version_major": 2,
       "version_minor": 0
      },
      "text/plain": [
       "  0%|                                                                                                         …"
      ]
     },
     "metadata": {},
     "output_type": "display_data"
    },
    {
     "name": "stdout",
     "output_type": "stream",
     "text": [
      "./20240312_150032342e_newest/20240314_060073cc2b/results/20240314_09355400000_d7d867943ca2abed_1.5corr/\\home\\wmnlab\\jackbedford\\data\\2023-09-12-2\\UDP_Bandlock_9S_Phone_Brown\\sm02\\#01\\data\\udp_dnlk_loss_latency\\home\\wmnlab\\jackbedford\\data\\2023-09-12-2\\UDP_Bandlock_9S_Phone_Brown\\sm07\\#01\\data\\udp_dnlk_loss_latency.csv\n",
      "20/216 /home/wmnlab/jackbedford/data/2023-09-12-2/UDP_Bandlock_9S_Phone_Brown/sm02/#01/data/handover_info_log.csv\n",
      "20/216 /home/wmnlab/jackbedford/data/2023-09-12-2/UDP_Bandlock_9S_Phone_Brown/sm02/#01/data/udp_dnlk_loss_latency.csv\n",
      "20/216 /home/wmnlab/jackbedford/data/2023-09-12-2/UDP_Bandlock_9S_Phone_Brown/sm02/#01/data/udp_uplk_loss_latency.csv\n",
      "20/216 /home/wmnlab/jackbedford/data/2023-09-12-2/UDP_Bandlock_9S_Phone_Brown/sm08/#01/data/handover_info_log.csv\n",
      "20/216 /home/wmnlab/jackbedford/data/2023-09-12-2/UDP_Bandlock_9S_Phone_Brown/sm08/#01/data/udp_dnlk_loss_latency.csv\n",
      "20/216 /home/wmnlab/jackbedford/data/2023-09-12-2/UDP_Bandlock_9S_Phone_Brown/sm08/#01/data/udp_uplk_loss_latency.csv\n"
     ]
    },
    {
     "data": {
      "application/vnd.jupyter.widget-view+json": {
       "model_id": "5189b57fbd0f41d1bb3157f020518dab",
       "version_major": 2,
       "version_minor": 0
      },
      "text/plain": [
       "  0%|                                                                                                         …"
      ]
     },
     "metadata": {},
     "output_type": "display_data"
    },
    {
     "name": "stdout",
     "output_type": "stream",
     "text": [
      "./20240312_150032342e_newest/20240314_060073cc2b/results/20240314_09355400000_d7d867943ca2abed_1.5corr/\\home\\wmnlab\\jackbedford\\data\\2023-09-12-2\\UDP_Bandlock_9S_Phone_Brown\\sm02\\#01\\data\\udp_dnlk_loss_latency\\home\\wmnlab\\jackbedford\\data\\2023-09-12-2\\UDP_Bandlock_9S_Phone_Brown\\sm08\\#01\\data\\udp_dnlk_loss_latency.csv\n",
      "21/216 /home/wmnlab/jackbedford/data/2023-09-12-2/UDP_Bandlock_9S_Phone_Brown/sm03/#01/data/handover_info_log.csv\n",
      "21/216 /home/wmnlab/jackbedford/data/2023-09-12-2/UDP_Bandlock_9S_Phone_Brown/sm03/#01/data/udp_dnlk_loss_latency.csv\n",
      "21/216 /home/wmnlab/jackbedford/data/2023-09-12-2/UDP_Bandlock_9S_Phone_Brown/sm03/#01/data/udp_uplk_loss_latency.csv\n",
      "21/216 /home/wmnlab/jackbedford/data/2023-09-12-2/UDP_Bandlock_9S_Phone_Brown/sm04/#01/data/handover_info_log.csv\n",
      "21/216 /home/wmnlab/jackbedford/data/2023-09-12-2/UDP_Bandlock_9S_Phone_Brown/sm04/#01/data/udp_dnlk_loss_latency.csv\n",
      "21/216 /home/wmnlab/jackbedford/data/2023-09-12-2/UDP_Bandlock_9S_Phone_Brown/sm04/#01/data/udp_uplk_loss_latency.csv\n"
     ]
    },
    {
     "data": {
      "application/vnd.jupyter.widget-view+json": {
       "model_id": "d46f828a0b01438b8156e743c13499af",
       "version_major": 2,
       "version_minor": 0
      },
      "text/plain": [
       "  0%|                                                                                                         …"
      ]
     },
     "metadata": {},
     "output_type": "display_data"
    },
    {
     "name": "stdout",
     "output_type": "stream",
     "text": [
      "./20240312_150032342e_newest/20240314_060073cc2b/results/20240314_09355400000_d7d867943ca2abed_1.5corr/\\home\\wmnlab\\jackbedford\\data\\2023-09-12-2\\UDP_Bandlock_9S_Phone_Brown\\sm03\\#01\\data\\udp_dnlk_loss_latency\\home\\wmnlab\\jackbedford\\data\\2023-09-12-2\\UDP_Bandlock_9S_Phone_Brown\\sm04\\#01\\data\\udp_dnlk_loss_latency.csv\n",
      "22/216 /home/wmnlab/jackbedford/data/2023-09-12-2/UDP_Bandlock_9S_Phone_Brown/sm03/#01/data/handover_info_log.csv\n",
      "22/216 /home/wmnlab/jackbedford/data/2023-09-12-2/UDP_Bandlock_9S_Phone_Brown/sm03/#01/data/udp_dnlk_loss_latency.csv\n",
      "22/216 /home/wmnlab/jackbedford/data/2023-09-12-2/UDP_Bandlock_9S_Phone_Brown/sm03/#01/data/udp_uplk_loss_latency.csv\n",
      "22/216 /home/wmnlab/jackbedford/data/2023-09-12-2/UDP_Bandlock_9S_Phone_Brown/sm05/#01/data/handover_info_log.csv\n",
      "22/216 /home/wmnlab/jackbedford/data/2023-09-12-2/UDP_Bandlock_9S_Phone_Brown/sm05/#01/data/udp_dnlk_loss_latency.csv\n",
      "22/216 /home/wmnlab/jackbedford/data/2023-09-12-2/UDP_Bandlock_9S_Phone_Brown/sm05/#01/data/udp_uplk_loss_latency.csv\n"
     ]
    },
    {
     "data": {
      "application/vnd.jupyter.widget-view+json": {
       "model_id": "03b0f27f8bf945079f56802150186e43",
       "version_major": 2,
       "version_minor": 0
      },
      "text/plain": [
       "  0%|                                                                                                         …"
      ]
     },
     "metadata": {},
     "output_type": "display_data"
    },
    {
     "name": "stdout",
     "output_type": "stream",
     "text": [
      "./20240312_150032342e_newest/20240314_060073cc2b/results/20240314_09355400000_d7d867943ca2abed_1.5corr/\\home\\wmnlab\\jackbedford\\data\\2023-09-12-2\\UDP_Bandlock_9S_Phone_Brown\\sm03\\#01\\data\\udp_dnlk_loss_latency\\home\\wmnlab\\jackbedford\\data\\2023-09-12-2\\UDP_Bandlock_9S_Phone_Brown\\sm05\\#01\\data\\udp_dnlk_loss_latency.csv\n",
      "23/216 /home/wmnlab/jackbedford/data/2023-09-12-2/UDP_Bandlock_9S_Phone_Brown/sm03/#01/data/handover_info_log.csv\n",
      "23/216 /home/wmnlab/jackbedford/data/2023-09-12-2/UDP_Bandlock_9S_Phone_Brown/sm03/#01/data/udp_dnlk_loss_latency.csv\n",
      "23/216 /home/wmnlab/jackbedford/data/2023-09-12-2/UDP_Bandlock_9S_Phone_Brown/sm03/#01/data/udp_uplk_loss_latency.csv\n",
      "23/216 /home/wmnlab/jackbedford/data/2023-09-12-2/UDP_Bandlock_9S_Phone_Brown/sm06/#01/data/handover_info_log.csv\n",
      "23/216 /home/wmnlab/jackbedford/data/2023-09-12-2/UDP_Bandlock_9S_Phone_Brown/sm06/#01/data/udp_dnlk_loss_latency.csv\n",
      "23/216 /home/wmnlab/jackbedford/data/2023-09-12-2/UDP_Bandlock_9S_Phone_Brown/sm06/#01/data/udp_uplk_loss_latency.csv\n"
     ]
    },
    {
     "data": {
      "application/vnd.jupyter.widget-view+json": {
       "model_id": "cd1f836c6a494b77954f3c7520f1ab74",
       "version_major": 2,
       "version_minor": 0
      },
      "text/plain": [
       "  0%|                                                                                                         …"
      ]
     },
     "metadata": {},
     "output_type": "display_data"
    },
    {
     "name": "stdout",
     "output_type": "stream",
     "text": [
      "./20240312_150032342e_newest/20240314_060073cc2b/results/20240314_09355400000_d7d867943ca2abed_1.5corr/\\home\\wmnlab\\jackbedford\\data\\2023-09-12-2\\UDP_Bandlock_9S_Phone_Brown\\sm03\\#01\\data\\udp_dnlk_loss_latency\\home\\wmnlab\\jackbedford\\data\\2023-09-12-2\\UDP_Bandlock_9S_Phone_Brown\\sm06\\#01\\data\\udp_dnlk_loss_latency.csv\n",
      "24/216 /home/wmnlab/jackbedford/data/2023-09-12-2/UDP_Bandlock_9S_Phone_Brown/sm03/#01/data/handover_info_log.csv\n",
      "24/216 /home/wmnlab/jackbedford/data/2023-09-12-2/UDP_Bandlock_9S_Phone_Brown/sm03/#01/data/udp_dnlk_loss_latency.csv\n",
      "24/216 /home/wmnlab/jackbedford/data/2023-09-12-2/UDP_Bandlock_9S_Phone_Brown/sm03/#01/data/udp_uplk_loss_latency.csv\n",
      "24/216 /home/wmnlab/jackbedford/data/2023-09-12-2/UDP_Bandlock_9S_Phone_Brown/sm07/#01/data/handover_info_log.csv\n",
      "24/216 /home/wmnlab/jackbedford/data/2023-09-12-2/UDP_Bandlock_9S_Phone_Brown/sm07/#01/data/udp_dnlk_loss_latency.csv\n",
      "24/216 /home/wmnlab/jackbedford/data/2023-09-12-2/UDP_Bandlock_9S_Phone_Brown/sm07/#01/data/udp_uplk_loss_latency.csv\n"
     ]
    },
    {
     "data": {
      "application/vnd.jupyter.widget-view+json": {
       "model_id": "ec8703fbf03145e5b74fb5b2219959c4",
       "version_major": 2,
       "version_minor": 0
      },
      "text/plain": [
       "  0%|                                                                                                         …"
      ]
     },
     "metadata": {},
     "output_type": "display_data"
    },
    {
     "name": "stdout",
     "output_type": "stream",
     "text": [
      "./20240312_150032342e_newest/20240314_060073cc2b/results/20240314_09355400000_d7d867943ca2abed_1.5corr/\\home\\wmnlab\\jackbedford\\data\\2023-09-12-2\\UDP_Bandlock_9S_Phone_Brown\\sm03\\#01\\data\\udp_dnlk_loss_latency\\home\\wmnlab\\jackbedford\\data\\2023-09-12-2\\UDP_Bandlock_9S_Phone_Brown\\sm07\\#01\\data\\udp_dnlk_loss_latency.csv\n",
      "25/216 /home/wmnlab/jackbedford/data/2023-09-12-2/UDP_Bandlock_9S_Phone_Brown/sm03/#01/data/handover_info_log.csv\n",
      "25/216 /home/wmnlab/jackbedford/data/2023-09-12-2/UDP_Bandlock_9S_Phone_Brown/sm03/#01/data/udp_dnlk_loss_latency.csv\n",
      "25/216 /home/wmnlab/jackbedford/data/2023-09-12-2/UDP_Bandlock_9S_Phone_Brown/sm03/#01/data/udp_uplk_loss_latency.csv\n",
      "25/216 /home/wmnlab/jackbedford/data/2023-09-12-2/UDP_Bandlock_9S_Phone_Brown/sm08/#01/data/handover_info_log.csv\n",
      "25/216 /home/wmnlab/jackbedford/data/2023-09-12-2/UDP_Bandlock_9S_Phone_Brown/sm08/#01/data/udp_dnlk_loss_latency.csv\n",
      "25/216 /home/wmnlab/jackbedford/data/2023-09-12-2/UDP_Bandlock_9S_Phone_Brown/sm08/#01/data/udp_uplk_loss_latency.csv\n"
     ]
    },
    {
     "data": {
      "application/vnd.jupyter.widget-view+json": {
       "model_id": "0517913f9102433db2e89c356ce373ec",
       "version_major": 2,
       "version_minor": 0
      },
      "text/plain": [
       "  0%|                                                                                                         …"
      ]
     },
     "metadata": {},
     "output_type": "display_data"
    },
    {
     "name": "stdout",
     "output_type": "stream",
     "text": [
      "./20240312_150032342e_newest/20240314_060073cc2b/results/20240314_09355400000_d7d867943ca2abed_1.5corr/\\home\\wmnlab\\jackbedford\\data\\2023-09-12-2\\UDP_Bandlock_9S_Phone_Brown\\sm03\\#01\\data\\udp_dnlk_loss_latency\\home\\wmnlab\\jackbedford\\data\\2023-09-12-2\\UDP_Bandlock_9S_Phone_Brown\\sm08\\#01\\data\\udp_dnlk_loss_latency.csv\n",
      "26/216 /home/wmnlab/jackbedford/data/2023-09-12-2/UDP_Bandlock_9S_Phone_Brown/sm04/#01/data/handover_info_log.csv\n",
      "26/216 /home/wmnlab/jackbedford/data/2023-09-12-2/UDP_Bandlock_9S_Phone_Brown/sm04/#01/data/udp_dnlk_loss_latency.csv\n",
      "26/216 /home/wmnlab/jackbedford/data/2023-09-12-2/UDP_Bandlock_9S_Phone_Brown/sm04/#01/data/udp_uplk_loss_latency.csv\n",
      "26/216 /home/wmnlab/jackbedford/data/2023-09-12-2/UDP_Bandlock_9S_Phone_Brown/sm05/#01/data/handover_info_log.csv\n",
      "26/216 /home/wmnlab/jackbedford/data/2023-09-12-2/UDP_Bandlock_9S_Phone_Brown/sm05/#01/data/udp_dnlk_loss_latency.csv\n",
      "26/216 /home/wmnlab/jackbedford/data/2023-09-12-2/UDP_Bandlock_9S_Phone_Brown/sm05/#01/data/udp_uplk_loss_latency.csv\n"
     ]
    },
    {
     "data": {
      "application/vnd.jupyter.widget-view+json": {
       "model_id": "4af10702725f48f38eaa85f1d4ddb233",
       "version_major": 2,
       "version_minor": 0
      },
      "text/plain": [
       "  0%|                                                                                                         …"
      ]
     },
     "metadata": {},
     "output_type": "display_data"
    },
    {
     "name": "stdout",
     "output_type": "stream",
     "text": [
      "./20240312_150032342e_newest/20240314_060073cc2b/results/20240314_09355400000_d7d867943ca2abed_1.5corr/\\home\\wmnlab\\jackbedford\\data\\2023-09-12-2\\UDP_Bandlock_9S_Phone_Brown\\sm04\\#01\\data\\udp_dnlk_loss_latency\\home\\wmnlab\\jackbedford\\data\\2023-09-12-2\\UDP_Bandlock_9S_Phone_Brown\\sm05\\#01\\data\\udp_dnlk_loss_latency.csv\n",
      "27/216 /home/wmnlab/jackbedford/data/2023-09-12-2/UDP_Bandlock_9S_Phone_Brown/sm04/#01/data/handover_info_log.csv\n",
      "27/216 /home/wmnlab/jackbedford/data/2023-09-12-2/UDP_Bandlock_9S_Phone_Brown/sm04/#01/data/udp_dnlk_loss_latency.csv\n",
      "27/216 /home/wmnlab/jackbedford/data/2023-09-12-2/UDP_Bandlock_9S_Phone_Brown/sm04/#01/data/udp_uplk_loss_latency.csv\n",
      "27/216 /home/wmnlab/jackbedford/data/2023-09-12-2/UDP_Bandlock_9S_Phone_Brown/sm06/#01/data/handover_info_log.csv\n",
      "27/216 /home/wmnlab/jackbedford/data/2023-09-12-2/UDP_Bandlock_9S_Phone_Brown/sm06/#01/data/udp_dnlk_loss_latency.csv\n",
      "27/216 /home/wmnlab/jackbedford/data/2023-09-12-2/UDP_Bandlock_9S_Phone_Brown/sm06/#01/data/udp_uplk_loss_latency.csv\n"
     ]
    },
    {
     "data": {
      "application/vnd.jupyter.widget-view+json": {
       "model_id": "8638fde926f64fd796c04ad0dce77b40",
       "version_major": 2,
       "version_minor": 0
      },
      "text/plain": [
       "  0%|                                                                                                         …"
      ]
     },
     "metadata": {},
     "output_type": "display_data"
    },
    {
     "name": "stdout",
     "output_type": "stream",
     "text": [
      "./20240312_150032342e_newest/20240314_060073cc2b/results/20240314_09355400000_d7d867943ca2abed_1.5corr/\\home\\wmnlab\\jackbedford\\data\\2023-09-12-2\\UDP_Bandlock_9S_Phone_Brown\\sm04\\#01\\data\\udp_dnlk_loss_latency\\home\\wmnlab\\jackbedford\\data\\2023-09-12-2\\UDP_Bandlock_9S_Phone_Brown\\sm06\\#01\\data\\udp_dnlk_loss_latency.csv\n",
      "28/216 /home/wmnlab/jackbedford/data/2023-09-12-2/UDP_Bandlock_9S_Phone_Brown/sm04/#01/data/handover_info_log.csv\n",
      "28/216 /home/wmnlab/jackbedford/data/2023-09-12-2/UDP_Bandlock_9S_Phone_Brown/sm04/#01/data/udp_dnlk_loss_latency.csv\n",
      "28/216 /home/wmnlab/jackbedford/data/2023-09-12-2/UDP_Bandlock_9S_Phone_Brown/sm04/#01/data/udp_uplk_loss_latency.csv\n",
      "28/216 /home/wmnlab/jackbedford/data/2023-09-12-2/UDP_Bandlock_9S_Phone_Brown/sm07/#01/data/handover_info_log.csv\n",
      "28/216 /home/wmnlab/jackbedford/data/2023-09-12-2/UDP_Bandlock_9S_Phone_Brown/sm07/#01/data/udp_dnlk_loss_latency.csv\n",
      "28/216 /home/wmnlab/jackbedford/data/2023-09-12-2/UDP_Bandlock_9S_Phone_Brown/sm07/#01/data/udp_uplk_loss_latency.csv\n"
     ]
    },
    {
     "data": {
      "application/vnd.jupyter.widget-view+json": {
       "model_id": "58b9959e05f64290ab678b1781dc4eab",
       "version_major": 2,
       "version_minor": 0
      },
      "text/plain": [
       "  0%|                                                                                                         …"
      ]
     },
     "metadata": {},
     "output_type": "display_data"
    },
    {
     "name": "stdout",
     "output_type": "stream",
     "text": [
      "./20240312_150032342e_newest/20240314_060073cc2b/results/20240314_09355400000_d7d867943ca2abed_1.5corr/\\home\\wmnlab\\jackbedford\\data\\2023-09-12-2\\UDP_Bandlock_9S_Phone_Brown\\sm04\\#01\\data\\udp_dnlk_loss_latency\\home\\wmnlab\\jackbedford\\data\\2023-09-12-2\\UDP_Bandlock_9S_Phone_Brown\\sm07\\#01\\data\\udp_dnlk_loss_latency.csv\n",
      "29/216 /home/wmnlab/jackbedford/data/2023-09-12-2/UDP_Bandlock_9S_Phone_Brown/sm04/#01/data/handover_info_log.csv\n",
      "29/216 /home/wmnlab/jackbedford/data/2023-09-12-2/UDP_Bandlock_9S_Phone_Brown/sm04/#01/data/udp_dnlk_loss_latency.csv\n",
      "29/216 /home/wmnlab/jackbedford/data/2023-09-12-2/UDP_Bandlock_9S_Phone_Brown/sm04/#01/data/udp_uplk_loss_latency.csv\n",
      "29/216 /home/wmnlab/jackbedford/data/2023-09-12-2/UDP_Bandlock_9S_Phone_Brown/sm08/#01/data/handover_info_log.csv\n",
      "29/216 /home/wmnlab/jackbedford/data/2023-09-12-2/UDP_Bandlock_9S_Phone_Brown/sm08/#01/data/udp_dnlk_loss_latency.csv\n",
      "29/216 /home/wmnlab/jackbedford/data/2023-09-12-2/UDP_Bandlock_9S_Phone_Brown/sm08/#01/data/udp_uplk_loss_latency.csv\n"
     ]
    },
    {
     "data": {
      "application/vnd.jupyter.widget-view+json": {
       "model_id": "c446a567cf494fd79948735f2a0ffc3a",
       "version_major": 2,
       "version_minor": 0
      },
      "text/plain": [
       "  0%|                                                                                                         …"
      ]
     },
     "metadata": {},
     "output_type": "display_data"
    },
    {
     "name": "stdout",
     "output_type": "stream",
     "text": [
      "./20240312_150032342e_newest/20240314_060073cc2b/results/20240314_09355400000_d7d867943ca2abed_1.5corr/\\home\\wmnlab\\jackbedford\\data\\2023-09-12-2\\UDP_Bandlock_9S_Phone_Brown\\sm04\\#01\\data\\udp_dnlk_loss_latency\\home\\wmnlab\\jackbedford\\data\\2023-09-12-2\\UDP_Bandlock_9S_Phone_Brown\\sm08\\#01\\data\\udp_dnlk_loss_latency.csv\n",
      "30/216 /home/wmnlab/jackbedford/data/2023-09-12-2/UDP_Bandlock_9S_Phone_Brown/sm05/#01/data/handover_info_log.csv\n",
      "30/216 /home/wmnlab/jackbedford/data/2023-09-12-2/UDP_Bandlock_9S_Phone_Brown/sm05/#01/data/udp_dnlk_loss_latency.csv\n",
      "30/216 /home/wmnlab/jackbedford/data/2023-09-12-2/UDP_Bandlock_9S_Phone_Brown/sm05/#01/data/udp_uplk_loss_latency.csv\n",
      "30/216 /home/wmnlab/jackbedford/data/2023-09-12-2/UDP_Bandlock_9S_Phone_Brown/sm06/#01/data/handover_info_log.csv\n",
      "30/216 /home/wmnlab/jackbedford/data/2023-09-12-2/UDP_Bandlock_9S_Phone_Brown/sm06/#01/data/udp_dnlk_loss_latency.csv\n",
      "30/216 /home/wmnlab/jackbedford/data/2023-09-12-2/UDP_Bandlock_9S_Phone_Brown/sm06/#01/data/udp_uplk_loss_latency.csv\n"
     ]
    },
    {
     "data": {
      "application/vnd.jupyter.widget-view+json": {
       "model_id": "c7321380c2e64c99bf43d392535fc1ad",
       "version_major": 2,
       "version_minor": 0
      },
      "text/plain": [
       "  0%|                                                                                                         …"
      ]
     },
     "metadata": {},
     "output_type": "display_data"
    },
    {
     "name": "stdout",
     "output_type": "stream",
     "text": [
      "./20240312_150032342e_newest/20240314_060073cc2b/results/20240314_09355400000_d7d867943ca2abed_1.5corr/\\home\\wmnlab\\jackbedford\\data\\2023-09-12-2\\UDP_Bandlock_9S_Phone_Brown\\sm05\\#01\\data\\udp_dnlk_loss_latency\\home\\wmnlab\\jackbedford\\data\\2023-09-12-2\\UDP_Bandlock_9S_Phone_Brown\\sm06\\#01\\data\\udp_dnlk_loss_latency.csv\n",
      "31/216 /home/wmnlab/jackbedford/data/2023-09-12-2/UDP_Bandlock_9S_Phone_Brown/sm05/#01/data/handover_info_log.csv\n",
      "31/216 /home/wmnlab/jackbedford/data/2023-09-12-2/UDP_Bandlock_9S_Phone_Brown/sm05/#01/data/udp_dnlk_loss_latency.csv\n",
      "31/216 /home/wmnlab/jackbedford/data/2023-09-12-2/UDP_Bandlock_9S_Phone_Brown/sm05/#01/data/udp_uplk_loss_latency.csv\n",
      "31/216 /home/wmnlab/jackbedford/data/2023-09-12-2/UDP_Bandlock_9S_Phone_Brown/sm07/#01/data/handover_info_log.csv\n",
      "31/216 /home/wmnlab/jackbedford/data/2023-09-12-2/UDP_Bandlock_9S_Phone_Brown/sm07/#01/data/udp_dnlk_loss_latency.csv\n",
      "31/216 /home/wmnlab/jackbedford/data/2023-09-12-2/UDP_Bandlock_9S_Phone_Brown/sm07/#01/data/udp_uplk_loss_latency.csv\n"
     ]
    },
    {
     "data": {
      "application/vnd.jupyter.widget-view+json": {
       "model_id": "5015cf9b35ac4977a6231dac4e340934",
       "version_major": 2,
       "version_minor": 0
      },
      "text/plain": [
       "  0%|                                                                                                         …"
      ]
     },
     "metadata": {},
     "output_type": "display_data"
    },
    {
     "name": "stdout",
     "output_type": "stream",
     "text": [
      "./20240312_150032342e_newest/20240314_060073cc2b/results/20240314_09355400000_d7d867943ca2abed_1.5corr/\\home\\wmnlab\\jackbedford\\data\\2023-09-12-2\\UDP_Bandlock_9S_Phone_Brown\\sm05\\#01\\data\\udp_dnlk_loss_latency\\home\\wmnlab\\jackbedford\\data\\2023-09-12-2\\UDP_Bandlock_9S_Phone_Brown\\sm07\\#01\\data\\udp_dnlk_loss_latency.csv\n",
      "32/216 /home/wmnlab/jackbedford/data/2023-09-12-2/UDP_Bandlock_9S_Phone_Brown/sm05/#01/data/handover_info_log.csv\n",
      "32/216 /home/wmnlab/jackbedford/data/2023-09-12-2/UDP_Bandlock_9S_Phone_Brown/sm05/#01/data/udp_dnlk_loss_latency.csv\n",
      "32/216 /home/wmnlab/jackbedford/data/2023-09-12-2/UDP_Bandlock_9S_Phone_Brown/sm05/#01/data/udp_uplk_loss_latency.csv\n",
      "32/216 /home/wmnlab/jackbedford/data/2023-09-12-2/UDP_Bandlock_9S_Phone_Brown/sm08/#01/data/handover_info_log.csv\n",
      "32/216 /home/wmnlab/jackbedford/data/2023-09-12-2/UDP_Bandlock_9S_Phone_Brown/sm08/#01/data/udp_dnlk_loss_latency.csv\n",
      "32/216 /home/wmnlab/jackbedford/data/2023-09-12-2/UDP_Bandlock_9S_Phone_Brown/sm08/#01/data/udp_uplk_loss_latency.csv\n"
     ]
    },
    {
     "data": {
      "application/vnd.jupyter.widget-view+json": {
       "model_id": "ae467a44ed714f4fb22d7253e2961a0f",
       "version_major": 2,
       "version_minor": 0
      },
      "text/plain": [
       "  0%|                                                                                                         …"
      ]
     },
     "metadata": {},
     "output_type": "display_data"
    },
    {
     "name": "stdout",
     "output_type": "stream",
     "text": [
      "./20240312_150032342e_newest/20240314_060073cc2b/results/20240314_09355400000_d7d867943ca2abed_1.5corr/\\home\\wmnlab\\jackbedford\\data\\2023-09-12-2\\UDP_Bandlock_9S_Phone_Brown\\sm05\\#01\\data\\udp_dnlk_loss_latency\\home\\wmnlab\\jackbedford\\data\\2023-09-12-2\\UDP_Bandlock_9S_Phone_Brown\\sm08\\#01\\data\\udp_dnlk_loss_latency.csv\n",
      "33/216 /home/wmnlab/jackbedford/data/2023-09-12-2/UDP_Bandlock_9S_Phone_Brown/sm06/#01/data/handover_info_log.csv\n",
      "33/216 /home/wmnlab/jackbedford/data/2023-09-12-2/UDP_Bandlock_9S_Phone_Brown/sm06/#01/data/udp_dnlk_loss_latency.csv\n",
      "33/216 /home/wmnlab/jackbedford/data/2023-09-12-2/UDP_Bandlock_9S_Phone_Brown/sm06/#01/data/udp_uplk_loss_latency.csv\n",
      "33/216 /home/wmnlab/jackbedford/data/2023-09-12-2/UDP_Bandlock_9S_Phone_Brown/sm07/#01/data/handover_info_log.csv\n",
      "33/216 /home/wmnlab/jackbedford/data/2023-09-12-2/UDP_Bandlock_9S_Phone_Brown/sm07/#01/data/udp_dnlk_loss_latency.csv\n",
      "33/216 /home/wmnlab/jackbedford/data/2023-09-12-2/UDP_Bandlock_9S_Phone_Brown/sm07/#01/data/udp_uplk_loss_latency.csv\n"
     ]
    },
    {
     "data": {
      "application/vnd.jupyter.widget-view+json": {
       "model_id": "3947fa95c25048e2a882cbf940f8851d",
       "version_major": 2,
       "version_minor": 0
      },
      "text/plain": [
       "  0%|                                                                                                         …"
      ]
     },
     "metadata": {},
     "output_type": "display_data"
    },
    {
     "name": "stdout",
     "output_type": "stream",
     "text": [
      "./20240312_150032342e_newest/20240314_060073cc2b/results/20240314_09355400000_d7d867943ca2abed_1.5corr/\\home\\wmnlab\\jackbedford\\data\\2023-09-12-2\\UDP_Bandlock_9S_Phone_Brown\\sm06\\#01\\data\\udp_dnlk_loss_latency\\home\\wmnlab\\jackbedford\\data\\2023-09-12-2\\UDP_Bandlock_9S_Phone_Brown\\sm07\\#01\\data\\udp_dnlk_loss_latency.csv\n",
      "34/216 /home/wmnlab/jackbedford/data/2023-09-12-2/UDP_Bandlock_9S_Phone_Brown/sm06/#01/data/handover_info_log.csv\n",
      "34/216 /home/wmnlab/jackbedford/data/2023-09-12-2/UDP_Bandlock_9S_Phone_Brown/sm06/#01/data/udp_dnlk_loss_latency.csv\n",
      "34/216 /home/wmnlab/jackbedford/data/2023-09-12-2/UDP_Bandlock_9S_Phone_Brown/sm06/#01/data/udp_uplk_loss_latency.csv\n",
      "34/216 /home/wmnlab/jackbedford/data/2023-09-12-2/UDP_Bandlock_9S_Phone_Brown/sm08/#01/data/handover_info_log.csv\n",
      "34/216 /home/wmnlab/jackbedford/data/2023-09-12-2/UDP_Bandlock_9S_Phone_Brown/sm08/#01/data/udp_dnlk_loss_latency.csv\n",
      "34/216 /home/wmnlab/jackbedford/data/2023-09-12-2/UDP_Bandlock_9S_Phone_Brown/sm08/#01/data/udp_uplk_loss_latency.csv\n"
     ]
    },
    {
     "data": {
      "application/vnd.jupyter.widget-view+json": {
       "model_id": "19c9768a53ec4cd8837187f4de6680af",
       "version_major": 2,
       "version_minor": 0
      },
      "text/plain": [
       "  0%|                                                                                                         …"
      ]
     },
     "metadata": {},
     "output_type": "display_data"
    },
    {
     "name": "stdout",
     "output_type": "stream",
     "text": [
      "./20240312_150032342e_newest/20240314_060073cc2b/results/20240314_09355400000_d7d867943ca2abed_1.5corr/\\home\\wmnlab\\jackbedford\\data\\2023-09-12-2\\UDP_Bandlock_9S_Phone_Brown\\sm06\\#01\\data\\udp_dnlk_loss_latency\\home\\wmnlab\\jackbedford\\data\\2023-09-12-2\\UDP_Bandlock_9S_Phone_Brown\\sm08\\#01\\data\\udp_dnlk_loss_latency.csv\n",
      "35/216 /home/wmnlab/jackbedford/data/2023-09-12-2/UDP_Bandlock_9S_Phone_Brown/sm07/#01/data/handover_info_log.csv\n",
      "35/216 /home/wmnlab/jackbedford/data/2023-09-12-2/UDP_Bandlock_9S_Phone_Brown/sm07/#01/data/udp_dnlk_loss_latency.csv\n",
      "35/216 /home/wmnlab/jackbedford/data/2023-09-12-2/UDP_Bandlock_9S_Phone_Brown/sm07/#01/data/udp_uplk_loss_latency.csv\n",
      "35/216 /home/wmnlab/jackbedford/data/2023-09-12-2/UDP_Bandlock_9S_Phone_Brown/sm08/#01/data/handover_info_log.csv\n",
      "35/216 /home/wmnlab/jackbedford/data/2023-09-12-2/UDP_Bandlock_9S_Phone_Brown/sm08/#01/data/udp_dnlk_loss_latency.csv\n",
      "35/216 /home/wmnlab/jackbedford/data/2023-09-12-2/UDP_Bandlock_9S_Phone_Brown/sm08/#01/data/udp_uplk_loss_latency.csv\n"
     ]
    },
    {
     "data": {
      "application/vnd.jupyter.widget-view+json": {
       "model_id": "bf2710f992a84486b599efc5b59ef23c",
       "version_major": 2,
       "version_minor": 0
      },
      "text/plain": [
       "  0%|                                                                                                         …"
      ]
     },
     "metadata": {},
     "output_type": "display_data"
    },
    {
     "name": "stdout",
     "output_type": "stream",
     "text": [
      "./20240312_150032342e_newest/20240314_060073cc2b/results/20240314_09355400000_d7d867943ca2abed_1.5corr/\\home\\wmnlab\\jackbedford\\data\\2023-09-12-2\\UDP_Bandlock_9S_Phone_Brown\\sm07\\#01\\data\\udp_dnlk_loss_latency\\home\\wmnlab\\jackbedford\\data\\2023-09-12-2\\UDP_Bandlock_9S_Phone_Brown\\sm08\\#01\\data\\udp_dnlk_loss_latency.csv\n",
      "36/216 /home/wmnlab/jackbedford/data/2023-09-12-2/UDP_Bandlock_9S_Phone_Brown/sm00/#02/data/handover_info_log.csv\n",
      "36/216 /home/wmnlab/jackbedford/data/2023-09-12-2/UDP_Bandlock_9S_Phone_Brown/sm00/#02/data/udp_dnlk_loss_latency.csv\n",
      "36/216 /home/wmnlab/jackbedford/data/2023-09-12-2/UDP_Bandlock_9S_Phone_Brown/sm00/#02/data/udp_uplk_loss_latency.csv\n",
      "36/216 /home/wmnlab/jackbedford/data/2023-09-12-2/UDP_Bandlock_9S_Phone_Brown/sm01/#02/data/handover_info_log.csv\n",
      "36/216 /home/wmnlab/jackbedford/data/2023-09-12-2/UDP_Bandlock_9S_Phone_Brown/sm01/#02/data/udp_dnlk_loss_latency.csv\n",
      "36/216 /home/wmnlab/jackbedford/data/2023-09-12-2/UDP_Bandlock_9S_Phone_Brown/sm01/#02/data/udp_uplk_loss_latency.csv\n"
     ]
    },
    {
     "data": {
      "application/vnd.jupyter.widget-view+json": {
       "model_id": "fd8be0fafc3047b6860f5e6e4c613ae1",
       "version_major": 2,
       "version_minor": 0
      },
      "text/plain": [
       "  0%|                                                                                                         …"
      ]
     },
     "metadata": {},
     "output_type": "display_data"
    },
    {
     "name": "stdout",
     "output_type": "stream",
     "text": [
      "./20240312_150032342e_newest/20240314_060073cc2b/results/20240314_09355400000_d7d867943ca2abed_1.5corr/\\home\\wmnlab\\jackbedford\\data\\2023-09-12-2\\UDP_Bandlock_9S_Phone_Brown\\sm00\\#02\\data\\udp_dnlk_loss_latency\\home\\wmnlab\\jackbedford\\data\\2023-09-12-2\\UDP_Bandlock_9S_Phone_Brown\\sm01\\#02\\data\\udp_dnlk_loss_latency.csv\n",
      "37/216 /home/wmnlab/jackbedford/data/2023-09-12-2/UDP_Bandlock_9S_Phone_Brown/sm00/#02/data/handover_info_log.csv\n",
      "37/216 /home/wmnlab/jackbedford/data/2023-09-12-2/UDP_Bandlock_9S_Phone_Brown/sm00/#02/data/udp_dnlk_loss_latency.csv\n",
      "37/216 /home/wmnlab/jackbedford/data/2023-09-12-2/UDP_Bandlock_9S_Phone_Brown/sm00/#02/data/udp_uplk_loss_latency.csv\n",
      "37/216 /home/wmnlab/jackbedford/data/2023-09-12-2/UDP_Bandlock_9S_Phone_Brown/sm02/#02/data/handover_info_log.csv\n",
      "37/216 /home/wmnlab/jackbedford/data/2023-09-12-2/UDP_Bandlock_9S_Phone_Brown/sm02/#02/data/udp_dnlk_loss_latency.csv\n",
      "37/216 /home/wmnlab/jackbedford/data/2023-09-12-2/UDP_Bandlock_9S_Phone_Brown/sm02/#02/data/udp_uplk_loss_latency.csv\n"
     ]
    },
    {
     "data": {
      "application/vnd.jupyter.widget-view+json": {
       "model_id": "3c019a8cea7d4f328307ff4d9c530359",
       "version_major": 2,
       "version_minor": 0
      },
      "text/plain": [
       "  0%|                                                                                                         …"
      ]
     },
     "metadata": {},
     "output_type": "display_data"
    },
    {
     "name": "stdout",
     "output_type": "stream",
     "text": [
      "./20240312_150032342e_newest/20240314_060073cc2b/results/20240314_09355400000_d7d867943ca2abed_1.5corr/\\home\\wmnlab\\jackbedford\\data\\2023-09-12-2\\UDP_Bandlock_9S_Phone_Brown\\sm00\\#02\\data\\udp_dnlk_loss_latency\\home\\wmnlab\\jackbedford\\data\\2023-09-12-2\\UDP_Bandlock_9S_Phone_Brown\\sm02\\#02\\data\\udp_dnlk_loss_latency.csv\n",
      "38/216 /home/wmnlab/jackbedford/data/2023-09-12-2/UDP_Bandlock_9S_Phone_Brown/sm00/#02/data/handover_info_log.csv\n",
      "38/216 /home/wmnlab/jackbedford/data/2023-09-12-2/UDP_Bandlock_9S_Phone_Brown/sm00/#02/data/udp_dnlk_loss_latency.csv\n",
      "38/216 /home/wmnlab/jackbedford/data/2023-09-12-2/UDP_Bandlock_9S_Phone_Brown/sm00/#02/data/udp_uplk_loss_latency.csv\n",
      "38/216 /home/wmnlab/jackbedford/data/2023-09-12-2/UDP_Bandlock_9S_Phone_Brown/sm03/#02/data/handover_info_log.csv\n",
      "38/216 /home/wmnlab/jackbedford/data/2023-09-12-2/UDP_Bandlock_9S_Phone_Brown/sm03/#02/data/udp_dnlk_loss_latency.csv\n",
      "38/216 /home/wmnlab/jackbedford/data/2023-09-12-2/UDP_Bandlock_9S_Phone_Brown/sm03/#02/data/udp_uplk_loss_latency.csv\n"
     ]
    },
    {
     "data": {
      "application/vnd.jupyter.widget-view+json": {
       "model_id": "d0b48f49fefa4be1b9ea665ffda528ce",
       "version_major": 2,
       "version_minor": 0
      },
      "text/plain": [
       "  0%|                                                                                                         …"
      ]
     },
     "metadata": {},
     "output_type": "display_data"
    },
    {
     "name": "stdout",
     "output_type": "stream",
     "text": [
      "./20240312_150032342e_newest/20240314_060073cc2b/results/20240314_09355400000_d7d867943ca2abed_1.5corr/\\home\\wmnlab\\jackbedford\\data\\2023-09-12-2\\UDP_Bandlock_9S_Phone_Brown\\sm00\\#02\\data\\udp_dnlk_loss_latency\\home\\wmnlab\\jackbedford\\data\\2023-09-12-2\\UDP_Bandlock_9S_Phone_Brown\\sm03\\#02\\data\\udp_dnlk_loss_latency.csv\n",
      "39/216 /home/wmnlab/jackbedford/data/2023-09-12-2/UDP_Bandlock_9S_Phone_Brown/sm00/#02/data/handover_info_log.csv\n",
      "39/216 /home/wmnlab/jackbedford/data/2023-09-12-2/UDP_Bandlock_9S_Phone_Brown/sm00/#02/data/udp_dnlk_loss_latency.csv\n",
      "39/216 /home/wmnlab/jackbedford/data/2023-09-12-2/UDP_Bandlock_9S_Phone_Brown/sm00/#02/data/udp_uplk_loss_latency.csv\n",
      "39/216 /home/wmnlab/jackbedford/data/2023-09-12-2/UDP_Bandlock_9S_Phone_Brown/sm04/#02/data/handover_info_log.csv\n",
      "39/216 /home/wmnlab/jackbedford/data/2023-09-12-2/UDP_Bandlock_9S_Phone_Brown/sm04/#02/data/udp_dnlk_loss_latency.csv\n",
      "39/216 /home/wmnlab/jackbedford/data/2023-09-12-2/UDP_Bandlock_9S_Phone_Brown/sm04/#02/data/udp_uplk_loss_latency.csv\n"
     ]
    },
    {
     "data": {
      "application/vnd.jupyter.widget-view+json": {
       "model_id": "9abe0c4b1a75439a92595345cae38ffa",
       "version_major": 2,
       "version_minor": 0
      },
      "text/plain": [
       "  0%|                                                                                                         …"
      ]
     },
     "metadata": {},
     "output_type": "display_data"
    },
    {
     "name": "stdout",
     "output_type": "stream",
     "text": [
      "./20240312_150032342e_newest/20240314_060073cc2b/results/20240314_09355400000_d7d867943ca2abed_1.5corr/\\home\\wmnlab\\jackbedford\\data\\2023-09-12-2\\UDP_Bandlock_9S_Phone_Brown\\sm00\\#02\\data\\udp_dnlk_loss_latency\\home\\wmnlab\\jackbedford\\data\\2023-09-12-2\\UDP_Bandlock_9S_Phone_Brown\\sm04\\#02\\data\\udp_dnlk_loss_latency.csv\n",
      "40/216 /home/wmnlab/jackbedford/data/2023-09-12-2/UDP_Bandlock_9S_Phone_Brown/sm00/#02/data/handover_info_log.csv\n",
      "40/216 /home/wmnlab/jackbedford/data/2023-09-12-2/UDP_Bandlock_9S_Phone_Brown/sm00/#02/data/udp_dnlk_loss_latency.csv\n",
      "40/216 /home/wmnlab/jackbedford/data/2023-09-12-2/UDP_Bandlock_9S_Phone_Brown/sm00/#02/data/udp_uplk_loss_latency.csv\n",
      "40/216 /home/wmnlab/jackbedford/data/2023-09-12-2/UDP_Bandlock_9S_Phone_Brown/sm05/#02/data/handover_info_log.csv\n",
      "40/216 /home/wmnlab/jackbedford/data/2023-09-12-2/UDP_Bandlock_9S_Phone_Brown/sm05/#02/data/udp_dnlk_loss_latency.csv\n",
      "40/216 /home/wmnlab/jackbedford/data/2023-09-12-2/UDP_Bandlock_9S_Phone_Brown/sm05/#02/data/udp_uplk_loss_latency.csv\n"
     ]
    },
    {
     "data": {
      "application/vnd.jupyter.widget-view+json": {
       "model_id": "843681b22a9f410484cf4d758fbe0844",
       "version_major": 2,
       "version_minor": 0
      },
      "text/plain": [
       "  0%|                                                                                                         …"
      ]
     },
     "metadata": {},
     "output_type": "display_data"
    },
    {
     "name": "stdout",
     "output_type": "stream",
     "text": [
      "./20240312_150032342e_newest/20240314_060073cc2b/results/20240314_09355400000_d7d867943ca2abed_1.5corr/\\home\\wmnlab\\jackbedford\\data\\2023-09-12-2\\UDP_Bandlock_9S_Phone_Brown\\sm00\\#02\\data\\udp_dnlk_loss_latency\\home\\wmnlab\\jackbedford\\data\\2023-09-12-2\\UDP_Bandlock_9S_Phone_Brown\\sm05\\#02\\data\\udp_dnlk_loss_latency.csv\n",
      "41/216 /home/wmnlab/jackbedford/data/2023-09-12-2/UDP_Bandlock_9S_Phone_Brown/sm00/#02/data/handover_info_log.csv\n",
      "41/216 /home/wmnlab/jackbedford/data/2023-09-12-2/UDP_Bandlock_9S_Phone_Brown/sm00/#02/data/udp_dnlk_loss_latency.csv\n",
      "41/216 /home/wmnlab/jackbedford/data/2023-09-12-2/UDP_Bandlock_9S_Phone_Brown/sm00/#02/data/udp_uplk_loss_latency.csv\n",
      "41/216 /home/wmnlab/jackbedford/data/2023-09-12-2/UDP_Bandlock_9S_Phone_Brown/sm06/#02/data/handover_info_log.csv\n",
      "41/216 /home/wmnlab/jackbedford/data/2023-09-12-2/UDP_Bandlock_9S_Phone_Brown/sm06/#02/data/udp_dnlk_loss_latency.csv\n",
      "41/216 /home/wmnlab/jackbedford/data/2023-09-12-2/UDP_Bandlock_9S_Phone_Brown/sm06/#02/data/udp_uplk_loss_latency.csv\n"
     ]
    },
    {
     "data": {
      "application/vnd.jupyter.widget-view+json": {
       "model_id": "b8ed6e09c11e421ca32a6df32f665e2a",
       "version_major": 2,
       "version_minor": 0
      },
      "text/plain": [
       "  0%|                                                                                                         …"
      ]
     },
     "metadata": {},
     "output_type": "display_data"
    },
    {
     "name": "stdout",
     "output_type": "stream",
     "text": [
      "./20240312_150032342e_newest/20240314_060073cc2b/results/20240314_09355400000_d7d867943ca2abed_1.5corr/\\home\\wmnlab\\jackbedford\\data\\2023-09-12-2\\UDP_Bandlock_9S_Phone_Brown\\sm00\\#02\\data\\udp_dnlk_loss_latency\\home\\wmnlab\\jackbedford\\data\\2023-09-12-2\\UDP_Bandlock_9S_Phone_Brown\\sm06\\#02\\data\\udp_dnlk_loss_latency.csv\n",
      "42/216 /home/wmnlab/jackbedford/data/2023-09-12-2/UDP_Bandlock_9S_Phone_Brown/sm00/#02/data/handover_info_log.csv\n",
      "42/216 /home/wmnlab/jackbedford/data/2023-09-12-2/UDP_Bandlock_9S_Phone_Brown/sm00/#02/data/udp_dnlk_loss_latency.csv\n",
      "42/216 /home/wmnlab/jackbedford/data/2023-09-12-2/UDP_Bandlock_9S_Phone_Brown/sm00/#02/data/udp_uplk_loss_latency.csv\n",
      "42/216 /home/wmnlab/jackbedford/data/2023-09-12-2/UDP_Bandlock_9S_Phone_Brown/sm07/#02/data/handover_info_log.csv\n",
      "42/216 /home/wmnlab/jackbedford/data/2023-09-12-2/UDP_Bandlock_9S_Phone_Brown/sm07/#02/data/udp_dnlk_loss_latency.csv\n",
      "42/216 /home/wmnlab/jackbedford/data/2023-09-12-2/UDP_Bandlock_9S_Phone_Brown/sm07/#02/data/udp_uplk_loss_latency.csv\n"
     ]
    },
    {
     "data": {
      "application/vnd.jupyter.widget-view+json": {
       "model_id": "8be86a7c311a4af1b35ecc0fea777507",
       "version_major": 2,
       "version_minor": 0
      },
      "text/plain": [
       "  0%|                                                                                                         …"
      ]
     },
     "metadata": {},
     "output_type": "display_data"
    },
    {
     "name": "stdout",
     "output_type": "stream",
     "text": [
      "./20240312_150032342e_newest/20240314_060073cc2b/results/20240314_09355400000_d7d867943ca2abed_1.5corr/\\home\\wmnlab\\jackbedford\\data\\2023-09-12-2\\UDP_Bandlock_9S_Phone_Brown\\sm00\\#02\\data\\udp_dnlk_loss_latency\\home\\wmnlab\\jackbedford\\data\\2023-09-12-2\\UDP_Bandlock_9S_Phone_Brown\\sm07\\#02\\data\\udp_dnlk_loss_latency.csv\n",
      "43/216 /home/wmnlab/jackbedford/data/2023-09-12-2/UDP_Bandlock_9S_Phone_Brown/sm00/#02/data/handover_info_log.csv\n",
      "43/216 /home/wmnlab/jackbedford/data/2023-09-12-2/UDP_Bandlock_9S_Phone_Brown/sm00/#02/data/udp_dnlk_loss_latency.csv\n",
      "43/216 /home/wmnlab/jackbedford/data/2023-09-12-2/UDP_Bandlock_9S_Phone_Brown/sm00/#02/data/udp_uplk_loss_latency.csv\n",
      "43/216 /home/wmnlab/jackbedford/data/2023-09-12-2/UDP_Bandlock_9S_Phone_Brown/sm08/#02/data/handover_info_log.csv\n",
      "43/216 /home/wmnlab/jackbedford/data/2023-09-12-2/UDP_Bandlock_9S_Phone_Brown/sm08/#02/data/udp_dnlk_loss_latency.csv\n",
      "43/216 /home/wmnlab/jackbedford/data/2023-09-12-2/UDP_Bandlock_9S_Phone_Brown/sm08/#02/data/udp_uplk_loss_latency.csv\n"
     ]
    },
    {
     "data": {
      "application/vnd.jupyter.widget-view+json": {
       "model_id": "ce457906eca946c7a4cdc1fd17a1fd04",
       "version_major": 2,
       "version_minor": 0
      },
      "text/plain": [
       "  0%|                                                                                                         …"
      ]
     },
     "metadata": {},
     "output_type": "display_data"
    },
    {
     "name": "stdout",
     "output_type": "stream",
     "text": [
      "./20240312_150032342e_newest/20240314_060073cc2b/results/20240314_09355400000_d7d867943ca2abed_1.5corr/\\home\\wmnlab\\jackbedford\\data\\2023-09-12-2\\UDP_Bandlock_9S_Phone_Brown\\sm00\\#02\\data\\udp_dnlk_loss_latency\\home\\wmnlab\\jackbedford\\data\\2023-09-12-2\\UDP_Bandlock_9S_Phone_Brown\\sm08\\#02\\data\\udp_dnlk_loss_latency.csv\n",
      "44/216 /home/wmnlab/jackbedford/data/2023-09-12-2/UDP_Bandlock_9S_Phone_Brown/sm01/#02/data/handover_info_log.csv\n",
      "44/216 /home/wmnlab/jackbedford/data/2023-09-12-2/UDP_Bandlock_9S_Phone_Brown/sm01/#02/data/udp_dnlk_loss_latency.csv\n",
      "44/216 /home/wmnlab/jackbedford/data/2023-09-12-2/UDP_Bandlock_9S_Phone_Brown/sm01/#02/data/udp_uplk_loss_latency.csv\n",
      "44/216 /home/wmnlab/jackbedford/data/2023-09-12-2/UDP_Bandlock_9S_Phone_Brown/sm02/#02/data/handover_info_log.csv\n",
      "44/216 /home/wmnlab/jackbedford/data/2023-09-12-2/UDP_Bandlock_9S_Phone_Brown/sm02/#02/data/udp_dnlk_loss_latency.csv\n",
      "44/216 /home/wmnlab/jackbedford/data/2023-09-12-2/UDP_Bandlock_9S_Phone_Brown/sm02/#02/data/udp_uplk_loss_latency.csv\n"
     ]
    },
    {
     "data": {
      "application/vnd.jupyter.widget-view+json": {
       "model_id": "3ab796d6b1ad43ffafe944fc709cabdf",
       "version_major": 2,
       "version_minor": 0
      },
      "text/plain": [
       "  0%|                                                                                                         …"
      ]
     },
     "metadata": {},
     "output_type": "display_data"
    },
    {
     "name": "stdout",
     "output_type": "stream",
     "text": [
      "./20240312_150032342e_newest/20240314_060073cc2b/results/20240314_09355400000_d7d867943ca2abed_1.5corr/\\home\\wmnlab\\jackbedford\\data\\2023-09-12-2\\UDP_Bandlock_9S_Phone_Brown\\sm01\\#02\\data\\udp_dnlk_loss_latency\\home\\wmnlab\\jackbedford\\data\\2023-09-12-2\\UDP_Bandlock_9S_Phone_Brown\\sm02\\#02\\data\\udp_dnlk_loss_latency.csv\n",
      "45/216 /home/wmnlab/jackbedford/data/2023-09-12-2/UDP_Bandlock_9S_Phone_Brown/sm01/#02/data/handover_info_log.csv\n",
      "45/216 /home/wmnlab/jackbedford/data/2023-09-12-2/UDP_Bandlock_9S_Phone_Brown/sm01/#02/data/udp_dnlk_loss_latency.csv\n",
      "45/216 /home/wmnlab/jackbedford/data/2023-09-12-2/UDP_Bandlock_9S_Phone_Brown/sm01/#02/data/udp_uplk_loss_latency.csv\n",
      "45/216 /home/wmnlab/jackbedford/data/2023-09-12-2/UDP_Bandlock_9S_Phone_Brown/sm03/#02/data/handover_info_log.csv\n",
      "45/216 /home/wmnlab/jackbedford/data/2023-09-12-2/UDP_Bandlock_9S_Phone_Brown/sm03/#02/data/udp_dnlk_loss_latency.csv\n",
      "45/216 /home/wmnlab/jackbedford/data/2023-09-12-2/UDP_Bandlock_9S_Phone_Brown/sm03/#02/data/udp_uplk_loss_latency.csv\n"
     ]
    },
    {
     "data": {
      "application/vnd.jupyter.widget-view+json": {
       "model_id": "374cb9345c34414eb295862b308cb514",
       "version_major": 2,
       "version_minor": 0
      },
      "text/plain": [
       "  0%|                                                                                                         …"
      ]
     },
     "metadata": {},
     "output_type": "display_data"
    },
    {
     "name": "stdout",
     "output_type": "stream",
     "text": [
      "./20240312_150032342e_newest/20240314_060073cc2b/results/20240314_09355400000_d7d867943ca2abed_1.5corr/\\home\\wmnlab\\jackbedford\\data\\2023-09-12-2\\UDP_Bandlock_9S_Phone_Brown\\sm01\\#02\\data\\udp_dnlk_loss_latency\\home\\wmnlab\\jackbedford\\data\\2023-09-12-2\\UDP_Bandlock_9S_Phone_Brown\\sm03\\#02\\data\\udp_dnlk_loss_latency.csv\n",
      "46/216 /home/wmnlab/jackbedford/data/2023-09-12-2/UDP_Bandlock_9S_Phone_Brown/sm01/#02/data/handover_info_log.csv\n",
      "46/216 /home/wmnlab/jackbedford/data/2023-09-12-2/UDP_Bandlock_9S_Phone_Brown/sm01/#02/data/udp_dnlk_loss_latency.csv\n",
      "46/216 /home/wmnlab/jackbedford/data/2023-09-12-2/UDP_Bandlock_9S_Phone_Brown/sm01/#02/data/udp_uplk_loss_latency.csv\n",
      "46/216 /home/wmnlab/jackbedford/data/2023-09-12-2/UDP_Bandlock_9S_Phone_Brown/sm04/#02/data/handover_info_log.csv\n",
      "46/216 /home/wmnlab/jackbedford/data/2023-09-12-2/UDP_Bandlock_9S_Phone_Brown/sm04/#02/data/udp_dnlk_loss_latency.csv\n",
      "46/216 /home/wmnlab/jackbedford/data/2023-09-12-2/UDP_Bandlock_9S_Phone_Brown/sm04/#02/data/udp_uplk_loss_latency.csv\n"
     ]
    },
    {
     "data": {
      "application/vnd.jupyter.widget-view+json": {
       "model_id": "5f7b552198a140db8847f46e4855584a",
       "version_major": 2,
       "version_minor": 0
      },
      "text/plain": [
       "  0%|                                                                                                         …"
      ]
     },
     "metadata": {},
     "output_type": "display_data"
    },
    {
     "name": "stdout",
     "output_type": "stream",
     "text": [
      "./20240312_150032342e_newest/20240314_060073cc2b/results/20240314_09355400000_d7d867943ca2abed_1.5corr/\\home\\wmnlab\\jackbedford\\data\\2023-09-12-2\\UDP_Bandlock_9S_Phone_Brown\\sm01\\#02\\data\\udp_dnlk_loss_latency\\home\\wmnlab\\jackbedford\\data\\2023-09-12-2\\UDP_Bandlock_9S_Phone_Brown\\sm04\\#02\\data\\udp_dnlk_loss_latency.csv\n",
      "47/216 /home/wmnlab/jackbedford/data/2023-09-12-2/UDP_Bandlock_9S_Phone_Brown/sm01/#02/data/handover_info_log.csv\n",
      "47/216 /home/wmnlab/jackbedford/data/2023-09-12-2/UDP_Bandlock_9S_Phone_Brown/sm01/#02/data/udp_dnlk_loss_latency.csv\n",
      "47/216 /home/wmnlab/jackbedford/data/2023-09-12-2/UDP_Bandlock_9S_Phone_Brown/sm01/#02/data/udp_uplk_loss_latency.csv\n",
      "47/216 /home/wmnlab/jackbedford/data/2023-09-12-2/UDP_Bandlock_9S_Phone_Brown/sm05/#02/data/handover_info_log.csv\n",
      "47/216 /home/wmnlab/jackbedford/data/2023-09-12-2/UDP_Bandlock_9S_Phone_Brown/sm05/#02/data/udp_dnlk_loss_latency.csv\n",
      "47/216 /home/wmnlab/jackbedford/data/2023-09-12-2/UDP_Bandlock_9S_Phone_Brown/sm05/#02/data/udp_uplk_loss_latency.csv\n"
     ]
    },
    {
     "data": {
      "application/vnd.jupyter.widget-view+json": {
       "model_id": "037fde7fde774948824cbf864c5d5e81",
       "version_major": 2,
       "version_minor": 0
      },
      "text/plain": [
       "  0%|                                                                                                         …"
      ]
     },
     "metadata": {},
     "output_type": "display_data"
    },
    {
     "name": "stdout",
     "output_type": "stream",
     "text": [
      "./20240312_150032342e_newest/20240314_060073cc2b/results/20240314_09355400000_d7d867943ca2abed_1.5corr/\\home\\wmnlab\\jackbedford\\data\\2023-09-12-2\\UDP_Bandlock_9S_Phone_Brown\\sm01\\#02\\data\\udp_dnlk_loss_latency\\home\\wmnlab\\jackbedford\\data\\2023-09-12-2\\UDP_Bandlock_9S_Phone_Brown\\sm05\\#02\\data\\udp_dnlk_loss_latency.csv\n",
      "48/216 /home/wmnlab/jackbedford/data/2023-09-12-2/UDP_Bandlock_9S_Phone_Brown/sm01/#02/data/handover_info_log.csv\n",
      "48/216 /home/wmnlab/jackbedford/data/2023-09-12-2/UDP_Bandlock_9S_Phone_Brown/sm01/#02/data/udp_dnlk_loss_latency.csv\n",
      "48/216 /home/wmnlab/jackbedford/data/2023-09-12-2/UDP_Bandlock_9S_Phone_Brown/sm01/#02/data/udp_uplk_loss_latency.csv\n",
      "48/216 /home/wmnlab/jackbedford/data/2023-09-12-2/UDP_Bandlock_9S_Phone_Brown/sm06/#02/data/handover_info_log.csv\n",
      "48/216 /home/wmnlab/jackbedford/data/2023-09-12-2/UDP_Bandlock_9S_Phone_Brown/sm06/#02/data/udp_dnlk_loss_latency.csv\n",
      "48/216 /home/wmnlab/jackbedford/data/2023-09-12-2/UDP_Bandlock_9S_Phone_Brown/sm06/#02/data/udp_uplk_loss_latency.csv\n"
     ]
    },
    {
     "data": {
      "application/vnd.jupyter.widget-view+json": {
       "model_id": "f677654f00d8479d91a3ef07f18444b3",
       "version_major": 2,
       "version_minor": 0
      },
      "text/plain": [
       "  0%|                                                                                                         …"
      ]
     },
     "metadata": {},
     "output_type": "display_data"
    },
    {
     "name": "stdout",
     "output_type": "stream",
     "text": [
      "./20240312_150032342e_newest/20240314_060073cc2b/results/20240314_09355400000_d7d867943ca2abed_1.5corr/\\home\\wmnlab\\jackbedford\\data\\2023-09-12-2\\UDP_Bandlock_9S_Phone_Brown\\sm01\\#02\\data\\udp_dnlk_loss_latency\\home\\wmnlab\\jackbedford\\data\\2023-09-12-2\\UDP_Bandlock_9S_Phone_Brown\\sm06\\#02\\data\\udp_dnlk_loss_latency.csv\n",
      "49/216 /home/wmnlab/jackbedford/data/2023-09-12-2/UDP_Bandlock_9S_Phone_Brown/sm01/#02/data/handover_info_log.csv\n",
      "49/216 /home/wmnlab/jackbedford/data/2023-09-12-2/UDP_Bandlock_9S_Phone_Brown/sm01/#02/data/udp_dnlk_loss_latency.csv\n",
      "49/216 /home/wmnlab/jackbedford/data/2023-09-12-2/UDP_Bandlock_9S_Phone_Brown/sm01/#02/data/udp_uplk_loss_latency.csv\n",
      "49/216 /home/wmnlab/jackbedford/data/2023-09-12-2/UDP_Bandlock_9S_Phone_Brown/sm07/#02/data/handover_info_log.csv\n",
      "49/216 /home/wmnlab/jackbedford/data/2023-09-12-2/UDP_Bandlock_9S_Phone_Brown/sm07/#02/data/udp_dnlk_loss_latency.csv\n",
      "49/216 /home/wmnlab/jackbedford/data/2023-09-12-2/UDP_Bandlock_9S_Phone_Brown/sm07/#02/data/udp_uplk_loss_latency.csv\n"
     ]
    },
    {
     "data": {
      "application/vnd.jupyter.widget-view+json": {
       "model_id": "7627b22636b94122b66a26f4b2d64c5c",
       "version_major": 2,
       "version_minor": 0
      },
      "text/plain": [
       "  0%|                                                                                                         …"
      ]
     },
     "metadata": {},
     "output_type": "display_data"
    },
    {
     "name": "stdout",
     "output_type": "stream",
     "text": [
      "./20240312_150032342e_newest/20240314_060073cc2b/results/20240314_09355400000_d7d867943ca2abed_1.5corr/\\home\\wmnlab\\jackbedford\\data\\2023-09-12-2\\UDP_Bandlock_9S_Phone_Brown\\sm01\\#02\\data\\udp_dnlk_loss_latency\\home\\wmnlab\\jackbedford\\data\\2023-09-12-2\\UDP_Bandlock_9S_Phone_Brown\\sm07\\#02\\data\\udp_dnlk_loss_latency.csv\n",
      "50/216 /home/wmnlab/jackbedford/data/2023-09-12-2/UDP_Bandlock_9S_Phone_Brown/sm01/#02/data/handover_info_log.csv\n",
      "50/216 /home/wmnlab/jackbedford/data/2023-09-12-2/UDP_Bandlock_9S_Phone_Brown/sm01/#02/data/udp_dnlk_loss_latency.csv\n",
      "50/216 /home/wmnlab/jackbedford/data/2023-09-12-2/UDP_Bandlock_9S_Phone_Brown/sm01/#02/data/udp_uplk_loss_latency.csv\n",
      "50/216 /home/wmnlab/jackbedford/data/2023-09-12-2/UDP_Bandlock_9S_Phone_Brown/sm08/#02/data/handover_info_log.csv\n",
      "50/216 /home/wmnlab/jackbedford/data/2023-09-12-2/UDP_Bandlock_9S_Phone_Brown/sm08/#02/data/udp_dnlk_loss_latency.csv\n",
      "50/216 /home/wmnlab/jackbedford/data/2023-09-12-2/UDP_Bandlock_9S_Phone_Brown/sm08/#02/data/udp_uplk_loss_latency.csv\n"
     ]
    },
    {
     "data": {
      "application/vnd.jupyter.widget-view+json": {
       "model_id": "20da21c57056470e96d5836fb70af04a",
       "version_major": 2,
       "version_minor": 0
      },
      "text/plain": [
       "  0%|                                                                                                         …"
      ]
     },
     "metadata": {},
     "output_type": "display_data"
    },
    {
     "name": "stdout",
     "output_type": "stream",
     "text": [
      "./20240312_150032342e_newest/20240314_060073cc2b/results/20240314_09355400000_d7d867943ca2abed_1.5corr/\\home\\wmnlab\\jackbedford\\data\\2023-09-12-2\\UDP_Bandlock_9S_Phone_Brown\\sm01\\#02\\data\\udp_dnlk_loss_latency\\home\\wmnlab\\jackbedford\\data\\2023-09-12-2\\UDP_Bandlock_9S_Phone_Brown\\sm08\\#02\\data\\udp_dnlk_loss_latency.csv\n",
      "51/216 /home/wmnlab/jackbedford/data/2023-09-12-2/UDP_Bandlock_9S_Phone_Brown/sm02/#02/data/handover_info_log.csv\n",
      "51/216 /home/wmnlab/jackbedford/data/2023-09-12-2/UDP_Bandlock_9S_Phone_Brown/sm02/#02/data/udp_dnlk_loss_latency.csv\n",
      "51/216 /home/wmnlab/jackbedford/data/2023-09-12-2/UDP_Bandlock_9S_Phone_Brown/sm02/#02/data/udp_uplk_loss_latency.csv\n",
      "51/216 /home/wmnlab/jackbedford/data/2023-09-12-2/UDP_Bandlock_9S_Phone_Brown/sm03/#02/data/handover_info_log.csv\n",
      "51/216 /home/wmnlab/jackbedford/data/2023-09-12-2/UDP_Bandlock_9S_Phone_Brown/sm03/#02/data/udp_dnlk_loss_latency.csv\n",
      "51/216 /home/wmnlab/jackbedford/data/2023-09-12-2/UDP_Bandlock_9S_Phone_Brown/sm03/#02/data/udp_uplk_loss_latency.csv\n"
     ]
    },
    {
     "data": {
      "application/vnd.jupyter.widget-view+json": {
       "model_id": "0e1705c860044bbc9e0c18059481f3e1",
       "version_major": 2,
       "version_minor": 0
      },
      "text/plain": [
       "  0%|                                                                                                         …"
      ]
     },
     "metadata": {},
     "output_type": "display_data"
    },
    {
     "name": "stdout",
     "output_type": "stream",
     "text": [
      "./20240312_150032342e_newest/20240314_060073cc2b/results/20240314_09355400000_d7d867943ca2abed_1.5corr/\\home\\wmnlab\\jackbedford\\data\\2023-09-12-2\\UDP_Bandlock_9S_Phone_Brown\\sm02\\#02\\data\\udp_dnlk_loss_latency\\home\\wmnlab\\jackbedford\\data\\2023-09-12-2\\UDP_Bandlock_9S_Phone_Brown\\sm03\\#02\\data\\udp_dnlk_loss_latency.csv\n",
      "52/216 /home/wmnlab/jackbedford/data/2023-09-12-2/UDP_Bandlock_9S_Phone_Brown/sm02/#02/data/handover_info_log.csv\n",
      "52/216 /home/wmnlab/jackbedford/data/2023-09-12-2/UDP_Bandlock_9S_Phone_Brown/sm02/#02/data/udp_dnlk_loss_latency.csv\n",
      "52/216 /home/wmnlab/jackbedford/data/2023-09-12-2/UDP_Bandlock_9S_Phone_Brown/sm02/#02/data/udp_uplk_loss_latency.csv\n",
      "52/216 /home/wmnlab/jackbedford/data/2023-09-12-2/UDP_Bandlock_9S_Phone_Brown/sm04/#02/data/handover_info_log.csv\n",
      "52/216 /home/wmnlab/jackbedford/data/2023-09-12-2/UDP_Bandlock_9S_Phone_Brown/sm04/#02/data/udp_dnlk_loss_latency.csv\n",
      "52/216 /home/wmnlab/jackbedford/data/2023-09-12-2/UDP_Bandlock_9S_Phone_Brown/sm04/#02/data/udp_uplk_loss_latency.csv\n"
     ]
    },
    {
     "data": {
      "application/vnd.jupyter.widget-view+json": {
       "model_id": "1ab5a2822e1844e7af81e20bb695aa5c",
       "version_major": 2,
       "version_minor": 0
      },
      "text/plain": [
       "  0%|                                                                                                         …"
      ]
     },
     "metadata": {},
     "output_type": "display_data"
    },
    {
     "name": "stdout",
     "output_type": "stream",
     "text": [
      "./20240312_150032342e_newest/20240314_060073cc2b/results/20240314_09355400000_d7d867943ca2abed_1.5corr/\\home\\wmnlab\\jackbedford\\data\\2023-09-12-2\\UDP_Bandlock_9S_Phone_Brown\\sm02\\#02\\data\\udp_dnlk_loss_latency\\home\\wmnlab\\jackbedford\\data\\2023-09-12-2\\UDP_Bandlock_9S_Phone_Brown\\sm04\\#02\\data\\udp_dnlk_loss_latency.csv\n",
      "53/216 /home/wmnlab/jackbedford/data/2023-09-12-2/UDP_Bandlock_9S_Phone_Brown/sm02/#02/data/handover_info_log.csv\n",
      "53/216 /home/wmnlab/jackbedford/data/2023-09-12-2/UDP_Bandlock_9S_Phone_Brown/sm02/#02/data/udp_dnlk_loss_latency.csv\n",
      "53/216 /home/wmnlab/jackbedford/data/2023-09-12-2/UDP_Bandlock_9S_Phone_Brown/sm02/#02/data/udp_uplk_loss_latency.csv\n",
      "53/216 /home/wmnlab/jackbedford/data/2023-09-12-2/UDP_Bandlock_9S_Phone_Brown/sm05/#02/data/handover_info_log.csv\n",
      "53/216 /home/wmnlab/jackbedford/data/2023-09-12-2/UDP_Bandlock_9S_Phone_Brown/sm05/#02/data/udp_dnlk_loss_latency.csv\n",
      "53/216 /home/wmnlab/jackbedford/data/2023-09-12-2/UDP_Bandlock_9S_Phone_Brown/sm05/#02/data/udp_uplk_loss_latency.csv\n"
     ]
    },
    {
     "data": {
      "application/vnd.jupyter.widget-view+json": {
       "model_id": "5ad4dc27cd644b08832e0f3c27deeecc",
       "version_major": 2,
       "version_minor": 0
      },
      "text/plain": [
       "  0%|                                                                                                         …"
      ]
     },
     "metadata": {},
     "output_type": "display_data"
    },
    {
     "name": "stdout",
     "output_type": "stream",
     "text": [
      "./20240312_150032342e_newest/20240314_060073cc2b/results/20240314_09355400000_d7d867943ca2abed_1.5corr/\\home\\wmnlab\\jackbedford\\data\\2023-09-12-2\\UDP_Bandlock_9S_Phone_Brown\\sm02\\#02\\data\\udp_dnlk_loss_latency\\home\\wmnlab\\jackbedford\\data\\2023-09-12-2\\UDP_Bandlock_9S_Phone_Brown\\sm05\\#02\\data\\udp_dnlk_loss_latency.csv\n",
      "54/216 /home/wmnlab/jackbedford/data/2023-09-12-2/UDP_Bandlock_9S_Phone_Brown/sm02/#02/data/handover_info_log.csv\n",
      "54/216 /home/wmnlab/jackbedford/data/2023-09-12-2/UDP_Bandlock_9S_Phone_Brown/sm02/#02/data/udp_dnlk_loss_latency.csv\n",
      "54/216 /home/wmnlab/jackbedford/data/2023-09-12-2/UDP_Bandlock_9S_Phone_Brown/sm02/#02/data/udp_uplk_loss_latency.csv\n",
      "54/216 /home/wmnlab/jackbedford/data/2023-09-12-2/UDP_Bandlock_9S_Phone_Brown/sm06/#02/data/handover_info_log.csv\n",
      "54/216 /home/wmnlab/jackbedford/data/2023-09-12-2/UDP_Bandlock_9S_Phone_Brown/sm06/#02/data/udp_dnlk_loss_latency.csv\n",
      "54/216 /home/wmnlab/jackbedford/data/2023-09-12-2/UDP_Bandlock_9S_Phone_Brown/sm06/#02/data/udp_uplk_loss_latency.csv\n"
     ]
    },
    {
     "data": {
      "application/vnd.jupyter.widget-view+json": {
       "model_id": "27180123a1be4d08b5e34cecc5074172",
       "version_major": 2,
       "version_minor": 0
      },
      "text/plain": [
       "  0%|                                                                                                         …"
      ]
     },
     "metadata": {},
     "output_type": "display_data"
    },
    {
     "name": "stdout",
     "output_type": "stream",
     "text": [
      "./20240312_150032342e_newest/20240314_060073cc2b/results/20240314_09355400000_d7d867943ca2abed_1.5corr/\\home\\wmnlab\\jackbedford\\data\\2023-09-12-2\\UDP_Bandlock_9S_Phone_Brown\\sm02\\#02\\data\\udp_dnlk_loss_latency\\home\\wmnlab\\jackbedford\\data\\2023-09-12-2\\UDP_Bandlock_9S_Phone_Brown\\sm06\\#02\\data\\udp_dnlk_loss_latency.csv\n",
      "55/216 /home/wmnlab/jackbedford/data/2023-09-12-2/UDP_Bandlock_9S_Phone_Brown/sm02/#02/data/handover_info_log.csv\n",
      "55/216 /home/wmnlab/jackbedford/data/2023-09-12-2/UDP_Bandlock_9S_Phone_Brown/sm02/#02/data/udp_dnlk_loss_latency.csv\n",
      "55/216 /home/wmnlab/jackbedford/data/2023-09-12-2/UDP_Bandlock_9S_Phone_Brown/sm02/#02/data/udp_uplk_loss_latency.csv\n",
      "55/216 /home/wmnlab/jackbedford/data/2023-09-12-2/UDP_Bandlock_9S_Phone_Brown/sm07/#02/data/handover_info_log.csv\n",
      "55/216 /home/wmnlab/jackbedford/data/2023-09-12-2/UDP_Bandlock_9S_Phone_Brown/sm07/#02/data/udp_dnlk_loss_latency.csv\n",
      "55/216 /home/wmnlab/jackbedford/data/2023-09-12-2/UDP_Bandlock_9S_Phone_Brown/sm07/#02/data/udp_uplk_loss_latency.csv\n"
     ]
    },
    {
     "data": {
      "application/vnd.jupyter.widget-view+json": {
       "model_id": "19d4c1e769054744b8cebdfbf8cf19f0",
       "version_major": 2,
       "version_minor": 0
      },
      "text/plain": [
       "  0%|                                                                                                         …"
      ]
     },
     "metadata": {},
     "output_type": "display_data"
    },
    {
     "name": "stdout",
     "output_type": "stream",
     "text": [
      "./20240312_150032342e_newest/20240314_060073cc2b/results/20240314_09355400000_d7d867943ca2abed_1.5corr/\\home\\wmnlab\\jackbedford\\data\\2023-09-12-2\\UDP_Bandlock_9S_Phone_Brown\\sm02\\#02\\data\\udp_dnlk_loss_latency\\home\\wmnlab\\jackbedford\\data\\2023-09-12-2\\UDP_Bandlock_9S_Phone_Brown\\sm07\\#02\\data\\udp_dnlk_loss_latency.csv\n",
      "56/216 /home/wmnlab/jackbedford/data/2023-09-12-2/UDP_Bandlock_9S_Phone_Brown/sm02/#02/data/handover_info_log.csv\n",
      "56/216 /home/wmnlab/jackbedford/data/2023-09-12-2/UDP_Bandlock_9S_Phone_Brown/sm02/#02/data/udp_dnlk_loss_latency.csv\n",
      "56/216 /home/wmnlab/jackbedford/data/2023-09-12-2/UDP_Bandlock_9S_Phone_Brown/sm02/#02/data/udp_uplk_loss_latency.csv\n",
      "56/216 /home/wmnlab/jackbedford/data/2023-09-12-2/UDP_Bandlock_9S_Phone_Brown/sm08/#02/data/handover_info_log.csv\n",
      "56/216 /home/wmnlab/jackbedford/data/2023-09-12-2/UDP_Bandlock_9S_Phone_Brown/sm08/#02/data/udp_dnlk_loss_latency.csv\n",
      "56/216 /home/wmnlab/jackbedford/data/2023-09-12-2/UDP_Bandlock_9S_Phone_Brown/sm08/#02/data/udp_uplk_loss_latency.csv\n"
     ]
    },
    {
     "data": {
      "application/vnd.jupyter.widget-view+json": {
       "model_id": "891439c707244289a0b17c901bbd1129",
       "version_major": 2,
       "version_minor": 0
      },
      "text/plain": [
       "  0%|                                                                                                         …"
      ]
     },
     "metadata": {},
     "output_type": "display_data"
    },
    {
     "name": "stdout",
     "output_type": "stream",
     "text": [
      "./20240312_150032342e_newest/20240314_060073cc2b/results/20240314_09355400000_d7d867943ca2abed_1.5corr/\\home\\wmnlab\\jackbedford\\data\\2023-09-12-2\\UDP_Bandlock_9S_Phone_Brown\\sm02\\#02\\data\\udp_dnlk_loss_latency\\home\\wmnlab\\jackbedford\\data\\2023-09-12-2\\UDP_Bandlock_9S_Phone_Brown\\sm08\\#02\\data\\udp_dnlk_loss_latency.csv\n",
      "57/216 /home/wmnlab/jackbedford/data/2023-09-12-2/UDP_Bandlock_9S_Phone_Brown/sm03/#02/data/handover_info_log.csv\n",
      "57/216 /home/wmnlab/jackbedford/data/2023-09-12-2/UDP_Bandlock_9S_Phone_Brown/sm03/#02/data/udp_dnlk_loss_latency.csv\n",
      "57/216 /home/wmnlab/jackbedford/data/2023-09-12-2/UDP_Bandlock_9S_Phone_Brown/sm03/#02/data/udp_uplk_loss_latency.csv\n",
      "57/216 /home/wmnlab/jackbedford/data/2023-09-12-2/UDP_Bandlock_9S_Phone_Brown/sm04/#02/data/handover_info_log.csv\n",
      "57/216 /home/wmnlab/jackbedford/data/2023-09-12-2/UDP_Bandlock_9S_Phone_Brown/sm04/#02/data/udp_dnlk_loss_latency.csv\n",
      "57/216 /home/wmnlab/jackbedford/data/2023-09-12-2/UDP_Bandlock_9S_Phone_Brown/sm04/#02/data/udp_uplk_loss_latency.csv\n"
     ]
    },
    {
     "data": {
      "application/vnd.jupyter.widget-view+json": {
       "model_id": "ed683876c5a347d48d0ba3c560b78303",
       "version_major": 2,
       "version_minor": 0
      },
      "text/plain": [
       "  0%|                                                                                                         …"
      ]
     },
     "metadata": {},
     "output_type": "display_data"
    },
    {
     "name": "stdout",
     "output_type": "stream",
     "text": [
      "./20240312_150032342e_newest/20240314_060073cc2b/results/20240314_09355400000_d7d867943ca2abed_1.5corr/\\home\\wmnlab\\jackbedford\\data\\2023-09-12-2\\UDP_Bandlock_9S_Phone_Brown\\sm03\\#02\\data\\udp_dnlk_loss_latency\\home\\wmnlab\\jackbedford\\data\\2023-09-12-2\\UDP_Bandlock_9S_Phone_Brown\\sm04\\#02\\data\\udp_dnlk_loss_latency.csv\n",
      "58/216 /home/wmnlab/jackbedford/data/2023-09-12-2/UDP_Bandlock_9S_Phone_Brown/sm03/#02/data/handover_info_log.csv\n",
      "58/216 /home/wmnlab/jackbedford/data/2023-09-12-2/UDP_Bandlock_9S_Phone_Brown/sm03/#02/data/udp_dnlk_loss_latency.csv\n",
      "58/216 /home/wmnlab/jackbedford/data/2023-09-12-2/UDP_Bandlock_9S_Phone_Brown/sm03/#02/data/udp_uplk_loss_latency.csv\n",
      "58/216 /home/wmnlab/jackbedford/data/2023-09-12-2/UDP_Bandlock_9S_Phone_Brown/sm05/#02/data/handover_info_log.csv\n",
      "58/216 /home/wmnlab/jackbedford/data/2023-09-12-2/UDP_Bandlock_9S_Phone_Brown/sm05/#02/data/udp_dnlk_loss_latency.csv\n",
      "58/216 /home/wmnlab/jackbedford/data/2023-09-12-2/UDP_Bandlock_9S_Phone_Brown/sm05/#02/data/udp_uplk_loss_latency.csv\n"
     ]
    },
    {
     "data": {
      "application/vnd.jupyter.widget-view+json": {
       "model_id": "1b345d41073f4b39adf68d81ac52a17c",
       "version_major": 2,
       "version_minor": 0
      },
      "text/plain": [
       "  0%|                                                                                                         …"
      ]
     },
     "metadata": {},
     "output_type": "display_data"
    },
    {
     "name": "stdout",
     "output_type": "stream",
     "text": [
      "./20240312_150032342e_newest/20240314_060073cc2b/results/20240314_09355400000_d7d867943ca2abed_1.5corr/\\home\\wmnlab\\jackbedford\\data\\2023-09-12-2\\UDP_Bandlock_9S_Phone_Brown\\sm03\\#02\\data\\udp_dnlk_loss_latency\\home\\wmnlab\\jackbedford\\data\\2023-09-12-2\\UDP_Bandlock_9S_Phone_Brown\\sm05\\#02\\data\\udp_dnlk_loss_latency.csv\n",
      "59/216 /home/wmnlab/jackbedford/data/2023-09-12-2/UDP_Bandlock_9S_Phone_Brown/sm03/#02/data/handover_info_log.csv\n",
      "59/216 /home/wmnlab/jackbedford/data/2023-09-12-2/UDP_Bandlock_9S_Phone_Brown/sm03/#02/data/udp_dnlk_loss_latency.csv\n",
      "59/216 /home/wmnlab/jackbedford/data/2023-09-12-2/UDP_Bandlock_9S_Phone_Brown/sm03/#02/data/udp_uplk_loss_latency.csv\n",
      "59/216 /home/wmnlab/jackbedford/data/2023-09-12-2/UDP_Bandlock_9S_Phone_Brown/sm06/#02/data/handover_info_log.csv\n",
      "59/216 /home/wmnlab/jackbedford/data/2023-09-12-2/UDP_Bandlock_9S_Phone_Brown/sm06/#02/data/udp_dnlk_loss_latency.csv\n",
      "59/216 /home/wmnlab/jackbedford/data/2023-09-12-2/UDP_Bandlock_9S_Phone_Brown/sm06/#02/data/udp_uplk_loss_latency.csv\n"
     ]
    },
    {
     "data": {
      "application/vnd.jupyter.widget-view+json": {
       "model_id": "e689e5f0ca2948f6b29d54182575a0f4",
       "version_major": 2,
       "version_minor": 0
      },
      "text/plain": [
       "  0%|                                                                                                         …"
      ]
     },
     "metadata": {},
     "output_type": "display_data"
    },
    {
     "name": "stdout",
     "output_type": "stream",
     "text": [
      "./20240312_150032342e_newest/20240314_060073cc2b/results/20240314_09355400000_d7d867943ca2abed_1.5corr/\\home\\wmnlab\\jackbedford\\data\\2023-09-12-2\\UDP_Bandlock_9S_Phone_Brown\\sm03\\#02\\data\\udp_dnlk_loss_latency\\home\\wmnlab\\jackbedford\\data\\2023-09-12-2\\UDP_Bandlock_9S_Phone_Brown\\sm06\\#02\\data\\udp_dnlk_loss_latency.csv\n",
      "60/216 /home/wmnlab/jackbedford/data/2023-09-12-2/UDP_Bandlock_9S_Phone_Brown/sm03/#02/data/handover_info_log.csv\n",
      "60/216 /home/wmnlab/jackbedford/data/2023-09-12-2/UDP_Bandlock_9S_Phone_Brown/sm03/#02/data/udp_dnlk_loss_latency.csv\n",
      "60/216 /home/wmnlab/jackbedford/data/2023-09-12-2/UDP_Bandlock_9S_Phone_Brown/sm03/#02/data/udp_uplk_loss_latency.csv\n",
      "60/216 /home/wmnlab/jackbedford/data/2023-09-12-2/UDP_Bandlock_9S_Phone_Brown/sm07/#02/data/handover_info_log.csv\n",
      "60/216 /home/wmnlab/jackbedford/data/2023-09-12-2/UDP_Bandlock_9S_Phone_Brown/sm07/#02/data/udp_dnlk_loss_latency.csv\n",
      "60/216 /home/wmnlab/jackbedford/data/2023-09-12-2/UDP_Bandlock_9S_Phone_Brown/sm07/#02/data/udp_uplk_loss_latency.csv\n"
     ]
    },
    {
     "data": {
      "application/vnd.jupyter.widget-view+json": {
       "model_id": "2aeea264bc4f40148aa44fd19f32c333",
       "version_major": 2,
       "version_minor": 0
      },
      "text/plain": [
       "  0%|                                                                                                         …"
      ]
     },
     "metadata": {},
     "output_type": "display_data"
    },
    {
     "name": "stdout",
     "output_type": "stream",
     "text": [
      "./20240312_150032342e_newest/20240314_060073cc2b/results/20240314_09355400000_d7d867943ca2abed_1.5corr/\\home\\wmnlab\\jackbedford\\data\\2023-09-12-2\\UDP_Bandlock_9S_Phone_Brown\\sm03\\#02\\data\\udp_dnlk_loss_latency\\home\\wmnlab\\jackbedford\\data\\2023-09-12-2\\UDP_Bandlock_9S_Phone_Brown\\sm07\\#02\\data\\udp_dnlk_loss_latency.csv\n",
      "61/216 /home/wmnlab/jackbedford/data/2023-09-12-2/UDP_Bandlock_9S_Phone_Brown/sm03/#02/data/handover_info_log.csv\n",
      "61/216 /home/wmnlab/jackbedford/data/2023-09-12-2/UDP_Bandlock_9S_Phone_Brown/sm03/#02/data/udp_dnlk_loss_latency.csv\n",
      "61/216 /home/wmnlab/jackbedford/data/2023-09-12-2/UDP_Bandlock_9S_Phone_Brown/sm03/#02/data/udp_uplk_loss_latency.csv\n",
      "61/216 /home/wmnlab/jackbedford/data/2023-09-12-2/UDP_Bandlock_9S_Phone_Brown/sm08/#02/data/handover_info_log.csv\n",
      "61/216 /home/wmnlab/jackbedford/data/2023-09-12-2/UDP_Bandlock_9S_Phone_Brown/sm08/#02/data/udp_dnlk_loss_latency.csv\n",
      "61/216 /home/wmnlab/jackbedford/data/2023-09-12-2/UDP_Bandlock_9S_Phone_Brown/sm08/#02/data/udp_uplk_loss_latency.csv\n"
     ]
    },
    {
     "data": {
      "application/vnd.jupyter.widget-view+json": {
       "model_id": "c6837a2eb38a477db79e8ffecbde44bd",
       "version_major": 2,
       "version_minor": 0
      },
      "text/plain": [
       "  0%|                                                                                                         …"
      ]
     },
     "metadata": {},
     "output_type": "display_data"
    },
    {
     "name": "stdout",
     "output_type": "stream",
     "text": [
      "./20240312_150032342e_newest/20240314_060073cc2b/results/20240314_09355400000_d7d867943ca2abed_1.5corr/\\home\\wmnlab\\jackbedford\\data\\2023-09-12-2\\UDP_Bandlock_9S_Phone_Brown\\sm03\\#02\\data\\udp_dnlk_loss_latency\\home\\wmnlab\\jackbedford\\data\\2023-09-12-2\\UDP_Bandlock_9S_Phone_Brown\\sm08\\#02\\data\\udp_dnlk_loss_latency.csv\n",
      "62/216 /home/wmnlab/jackbedford/data/2023-09-12-2/UDP_Bandlock_9S_Phone_Brown/sm04/#02/data/handover_info_log.csv\n",
      "62/216 /home/wmnlab/jackbedford/data/2023-09-12-2/UDP_Bandlock_9S_Phone_Brown/sm04/#02/data/udp_dnlk_loss_latency.csv\n",
      "62/216 /home/wmnlab/jackbedford/data/2023-09-12-2/UDP_Bandlock_9S_Phone_Brown/sm04/#02/data/udp_uplk_loss_latency.csv\n",
      "62/216 /home/wmnlab/jackbedford/data/2023-09-12-2/UDP_Bandlock_9S_Phone_Brown/sm05/#02/data/handover_info_log.csv\n",
      "62/216 /home/wmnlab/jackbedford/data/2023-09-12-2/UDP_Bandlock_9S_Phone_Brown/sm05/#02/data/udp_dnlk_loss_latency.csv\n",
      "62/216 /home/wmnlab/jackbedford/data/2023-09-12-2/UDP_Bandlock_9S_Phone_Brown/sm05/#02/data/udp_uplk_loss_latency.csv\n"
     ]
    },
    {
     "data": {
      "application/vnd.jupyter.widget-view+json": {
       "model_id": "1182db5649074d60818aa45628327f20",
       "version_major": 2,
       "version_minor": 0
      },
      "text/plain": [
       "  0%|                                                                                                         …"
      ]
     },
     "metadata": {},
     "output_type": "display_data"
    },
    {
     "name": "stdout",
     "output_type": "stream",
     "text": [
      "./20240312_150032342e_newest/20240314_060073cc2b/results/20240314_09355400000_d7d867943ca2abed_1.5corr/\\home\\wmnlab\\jackbedford\\data\\2023-09-12-2\\UDP_Bandlock_9S_Phone_Brown\\sm04\\#02\\data\\udp_dnlk_loss_latency\\home\\wmnlab\\jackbedford\\data\\2023-09-12-2\\UDP_Bandlock_9S_Phone_Brown\\sm05\\#02\\data\\udp_dnlk_loss_latency.csv\n",
      "63/216 /home/wmnlab/jackbedford/data/2023-09-12-2/UDP_Bandlock_9S_Phone_Brown/sm04/#02/data/handover_info_log.csv\n",
      "63/216 /home/wmnlab/jackbedford/data/2023-09-12-2/UDP_Bandlock_9S_Phone_Brown/sm04/#02/data/udp_dnlk_loss_latency.csv\n",
      "63/216 /home/wmnlab/jackbedford/data/2023-09-12-2/UDP_Bandlock_9S_Phone_Brown/sm04/#02/data/udp_uplk_loss_latency.csv\n",
      "63/216 /home/wmnlab/jackbedford/data/2023-09-12-2/UDP_Bandlock_9S_Phone_Brown/sm06/#02/data/handover_info_log.csv\n",
      "63/216 /home/wmnlab/jackbedford/data/2023-09-12-2/UDP_Bandlock_9S_Phone_Brown/sm06/#02/data/udp_dnlk_loss_latency.csv\n",
      "63/216 /home/wmnlab/jackbedford/data/2023-09-12-2/UDP_Bandlock_9S_Phone_Brown/sm06/#02/data/udp_uplk_loss_latency.csv\n"
     ]
    },
    {
     "data": {
      "application/vnd.jupyter.widget-view+json": {
       "model_id": "2c9428cbf33f4708965ae3b1c1506cb2",
       "version_major": 2,
       "version_minor": 0
      },
      "text/plain": [
       "  0%|                                                                                                         …"
      ]
     },
     "metadata": {},
     "output_type": "display_data"
    },
    {
     "name": "stdout",
     "output_type": "stream",
     "text": [
      "./20240312_150032342e_newest/20240314_060073cc2b/results/20240314_09355400000_d7d867943ca2abed_1.5corr/\\home\\wmnlab\\jackbedford\\data\\2023-09-12-2\\UDP_Bandlock_9S_Phone_Brown\\sm04\\#02\\data\\udp_dnlk_loss_latency\\home\\wmnlab\\jackbedford\\data\\2023-09-12-2\\UDP_Bandlock_9S_Phone_Brown\\sm06\\#02\\data\\udp_dnlk_loss_latency.csv\n",
      "64/216 /home/wmnlab/jackbedford/data/2023-09-12-2/UDP_Bandlock_9S_Phone_Brown/sm04/#02/data/handover_info_log.csv\n",
      "64/216 /home/wmnlab/jackbedford/data/2023-09-12-2/UDP_Bandlock_9S_Phone_Brown/sm04/#02/data/udp_dnlk_loss_latency.csv\n",
      "64/216 /home/wmnlab/jackbedford/data/2023-09-12-2/UDP_Bandlock_9S_Phone_Brown/sm04/#02/data/udp_uplk_loss_latency.csv\n",
      "64/216 /home/wmnlab/jackbedford/data/2023-09-12-2/UDP_Bandlock_9S_Phone_Brown/sm07/#02/data/handover_info_log.csv\n",
      "64/216 /home/wmnlab/jackbedford/data/2023-09-12-2/UDP_Bandlock_9S_Phone_Brown/sm07/#02/data/udp_dnlk_loss_latency.csv\n",
      "64/216 /home/wmnlab/jackbedford/data/2023-09-12-2/UDP_Bandlock_9S_Phone_Brown/sm07/#02/data/udp_uplk_loss_latency.csv\n"
     ]
    },
    {
     "data": {
      "application/vnd.jupyter.widget-view+json": {
       "model_id": "08d3d1b959384b8b9a80a3587441ba03",
       "version_major": 2,
       "version_minor": 0
      },
      "text/plain": [
       "  0%|                                                                                                         …"
      ]
     },
     "metadata": {},
     "output_type": "display_data"
    },
    {
     "name": "stdout",
     "output_type": "stream",
     "text": [
      "./20240312_150032342e_newest/20240314_060073cc2b/results/20240314_09355400000_d7d867943ca2abed_1.5corr/\\home\\wmnlab\\jackbedford\\data\\2023-09-12-2\\UDP_Bandlock_9S_Phone_Brown\\sm04\\#02\\data\\udp_dnlk_loss_latency\\home\\wmnlab\\jackbedford\\data\\2023-09-12-2\\UDP_Bandlock_9S_Phone_Brown\\sm07\\#02\\data\\udp_dnlk_loss_latency.csv\n",
      "65/216 /home/wmnlab/jackbedford/data/2023-09-12-2/UDP_Bandlock_9S_Phone_Brown/sm04/#02/data/handover_info_log.csv\n",
      "65/216 /home/wmnlab/jackbedford/data/2023-09-12-2/UDP_Bandlock_9S_Phone_Brown/sm04/#02/data/udp_dnlk_loss_latency.csv\n",
      "65/216 /home/wmnlab/jackbedford/data/2023-09-12-2/UDP_Bandlock_9S_Phone_Brown/sm04/#02/data/udp_uplk_loss_latency.csv\n",
      "65/216 /home/wmnlab/jackbedford/data/2023-09-12-2/UDP_Bandlock_9S_Phone_Brown/sm08/#02/data/handover_info_log.csv\n",
      "65/216 /home/wmnlab/jackbedford/data/2023-09-12-2/UDP_Bandlock_9S_Phone_Brown/sm08/#02/data/udp_dnlk_loss_latency.csv\n",
      "65/216 /home/wmnlab/jackbedford/data/2023-09-12-2/UDP_Bandlock_9S_Phone_Brown/sm08/#02/data/udp_uplk_loss_latency.csv\n"
     ]
    },
    {
     "data": {
      "application/vnd.jupyter.widget-view+json": {
       "model_id": "dc8ad0b997184879a46b082fdbc47a24",
       "version_major": 2,
       "version_minor": 0
      },
      "text/plain": [
       "  0%|                                                                                                         …"
      ]
     },
     "metadata": {},
     "output_type": "display_data"
    },
    {
     "name": "stdout",
     "output_type": "stream",
     "text": [
      "./20240312_150032342e_newest/20240314_060073cc2b/results/20240314_09355400000_d7d867943ca2abed_1.5corr/\\home\\wmnlab\\jackbedford\\data\\2023-09-12-2\\UDP_Bandlock_9S_Phone_Brown\\sm04\\#02\\data\\udp_dnlk_loss_latency\\home\\wmnlab\\jackbedford\\data\\2023-09-12-2\\UDP_Bandlock_9S_Phone_Brown\\sm08\\#02\\data\\udp_dnlk_loss_latency.csv\n",
      "66/216 /home/wmnlab/jackbedford/data/2023-09-12-2/UDP_Bandlock_9S_Phone_Brown/sm05/#02/data/handover_info_log.csv\n",
      "66/216 /home/wmnlab/jackbedford/data/2023-09-12-2/UDP_Bandlock_9S_Phone_Brown/sm05/#02/data/udp_dnlk_loss_latency.csv\n",
      "66/216 /home/wmnlab/jackbedford/data/2023-09-12-2/UDP_Bandlock_9S_Phone_Brown/sm05/#02/data/udp_uplk_loss_latency.csv\n",
      "66/216 /home/wmnlab/jackbedford/data/2023-09-12-2/UDP_Bandlock_9S_Phone_Brown/sm06/#02/data/handover_info_log.csv\n",
      "66/216 /home/wmnlab/jackbedford/data/2023-09-12-2/UDP_Bandlock_9S_Phone_Brown/sm06/#02/data/udp_dnlk_loss_latency.csv\n",
      "66/216 /home/wmnlab/jackbedford/data/2023-09-12-2/UDP_Bandlock_9S_Phone_Brown/sm06/#02/data/udp_uplk_loss_latency.csv\n"
     ]
    },
    {
     "data": {
      "application/vnd.jupyter.widget-view+json": {
       "model_id": "a30038f42f4a4626a33c2d7e8adc68d3",
       "version_major": 2,
       "version_minor": 0
      },
      "text/plain": [
       "  0%|                                                                                                         …"
      ]
     },
     "metadata": {},
     "output_type": "display_data"
    },
    {
     "name": "stdout",
     "output_type": "stream",
     "text": [
      "./20240312_150032342e_newest/20240314_060073cc2b/results/20240314_09355400000_d7d867943ca2abed_1.5corr/\\home\\wmnlab\\jackbedford\\data\\2023-09-12-2\\UDP_Bandlock_9S_Phone_Brown\\sm05\\#02\\data\\udp_dnlk_loss_latency\\home\\wmnlab\\jackbedford\\data\\2023-09-12-2\\UDP_Bandlock_9S_Phone_Brown\\sm06\\#02\\data\\udp_dnlk_loss_latency.csv\n",
      "67/216 /home/wmnlab/jackbedford/data/2023-09-12-2/UDP_Bandlock_9S_Phone_Brown/sm05/#02/data/handover_info_log.csv\n",
      "67/216 /home/wmnlab/jackbedford/data/2023-09-12-2/UDP_Bandlock_9S_Phone_Brown/sm05/#02/data/udp_dnlk_loss_latency.csv\n",
      "67/216 /home/wmnlab/jackbedford/data/2023-09-12-2/UDP_Bandlock_9S_Phone_Brown/sm05/#02/data/udp_uplk_loss_latency.csv\n",
      "67/216 /home/wmnlab/jackbedford/data/2023-09-12-2/UDP_Bandlock_9S_Phone_Brown/sm07/#02/data/handover_info_log.csv\n",
      "67/216 /home/wmnlab/jackbedford/data/2023-09-12-2/UDP_Bandlock_9S_Phone_Brown/sm07/#02/data/udp_dnlk_loss_latency.csv\n",
      "67/216 /home/wmnlab/jackbedford/data/2023-09-12-2/UDP_Bandlock_9S_Phone_Brown/sm07/#02/data/udp_uplk_loss_latency.csv\n"
     ]
    },
    {
     "data": {
      "application/vnd.jupyter.widget-view+json": {
       "model_id": "38a4e866bab9449cb30996756e10833e",
       "version_major": 2,
       "version_minor": 0
      },
      "text/plain": [
       "  0%|                                                                                                         …"
      ]
     },
     "metadata": {},
     "output_type": "display_data"
    },
    {
     "name": "stdout",
     "output_type": "stream",
     "text": [
      "./20240312_150032342e_newest/20240314_060073cc2b/results/20240314_09355400000_d7d867943ca2abed_1.5corr/\\home\\wmnlab\\jackbedford\\data\\2023-09-12-2\\UDP_Bandlock_9S_Phone_Brown\\sm05\\#02\\data\\udp_dnlk_loss_latency\\home\\wmnlab\\jackbedford\\data\\2023-09-12-2\\UDP_Bandlock_9S_Phone_Brown\\sm07\\#02\\data\\udp_dnlk_loss_latency.csv\n",
      "68/216 /home/wmnlab/jackbedford/data/2023-09-12-2/UDP_Bandlock_9S_Phone_Brown/sm05/#02/data/handover_info_log.csv\n",
      "68/216 /home/wmnlab/jackbedford/data/2023-09-12-2/UDP_Bandlock_9S_Phone_Brown/sm05/#02/data/udp_dnlk_loss_latency.csv\n",
      "68/216 /home/wmnlab/jackbedford/data/2023-09-12-2/UDP_Bandlock_9S_Phone_Brown/sm05/#02/data/udp_uplk_loss_latency.csv\n",
      "68/216 /home/wmnlab/jackbedford/data/2023-09-12-2/UDP_Bandlock_9S_Phone_Brown/sm08/#02/data/handover_info_log.csv\n",
      "68/216 /home/wmnlab/jackbedford/data/2023-09-12-2/UDP_Bandlock_9S_Phone_Brown/sm08/#02/data/udp_dnlk_loss_latency.csv\n",
      "68/216 /home/wmnlab/jackbedford/data/2023-09-12-2/UDP_Bandlock_9S_Phone_Brown/sm08/#02/data/udp_uplk_loss_latency.csv\n"
     ]
    },
    {
     "data": {
      "application/vnd.jupyter.widget-view+json": {
       "model_id": "46503581a5d141cd9133f4d2e693b736",
       "version_major": 2,
       "version_minor": 0
      },
      "text/plain": [
       "  0%|                                                                                                         …"
      ]
     },
     "metadata": {},
     "output_type": "display_data"
    },
    {
     "name": "stdout",
     "output_type": "stream",
     "text": [
      "./20240312_150032342e_newest/20240314_060073cc2b/results/20240314_09355400000_d7d867943ca2abed_1.5corr/\\home\\wmnlab\\jackbedford\\data\\2023-09-12-2\\UDP_Bandlock_9S_Phone_Brown\\sm05\\#02\\data\\udp_dnlk_loss_latency\\home\\wmnlab\\jackbedford\\data\\2023-09-12-2\\UDP_Bandlock_9S_Phone_Brown\\sm08\\#02\\data\\udp_dnlk_loss_latency.csv\n",
      "69/216 /home/wmnlab/jackbedford/data/2023-09-12-2/UDP_Bandlock_9S_Phone_Brown/sm06/#02/data/handover_info_log.csv\n",
      "69/216 /home/wmnlab/jackbedford/data/2023-09-12-2/UDP_Bandlock_9S_Phone_Brown/sm06/#02/data/udp_dnlk_loss_latency.csv\n",
      "69/216 /home/wmnlab/jackbedford/data/2023-09-12-2/UDP_Bandlock_9S_Phone_Brown/sm06/#02/data/udp_uplk_loss_latency.csv\n",
      "69/216 /home/wmnlab/jackbedford/data/2023-09-12-2/UDP_Bandlock_9S_Phone_Brown/sm07/#02/data/handover_info_log.csv\n",
      "69/216 /home/wmnlab/jackbedford/data/2023-09-12-2/UDP_Bandlock_9S_Phone_Brown/sm07/#02/data/udp_dnlk_loss_latency.csv\n",
      "69/216 /home/wmnlab/jackbedford/data/2023-09-12-2/UDP_Bandlock_9S_Phone_Brown/sm07/#02/data/udp_uplk_loss_latency.csv\n"
     ]
    },
    {
     "data": {
      "application/vnd.jupyter.widget-view+json": {
       "model_id": "27000ff5fa234a27bed643107d23f048",
       "version_major": 2,
       "version_minor": 0
      },
      "text/plain": [
       "  0%|                                                                                                         …"
      ]
     },
     "metadata": {},
     "output_type": "display_data"
    },
    {
     "name": "stdout",
     "output_type": "stream",
     "text": [
      "./20240312_150032342e_newest/20240314_060073cc2b/results/20240314_09355400000_d7d867943ca2abed_1.5corr/\\home\\wmnlab\\jackbedford\\data\\2023-09-12-2\\UDP_Bandlock_9S_Phone_Brown\\sm06\\#02\\data\\udp_dnlk_loss_latency\\home\\wmnlab\\jackbedford\\data\\2023-09-12-2\\UDP_Bandlock_9S_Phone_Brown\\sm07\\#02\\data\\udp_dnlk_loss_latency.csv\n",
      "70/216 /home/wmnlab/jackbedford/data/2023-09-12-2/UDP_Bandlock_9S_Phone_Brown/sm06/#02/data/handover_info_log.csv\n",
      "70/216 /home/wmnlab/jackbedford/data/2023-09-12-2/UDP_Bandlock_9S_Phone_Brown/sm06/#02/data/udp_dnlk_loss_latency.csv\n",
      "70/216 /home/wmnlab/jackbedford/data/2023-09-12-2/UDP_Bandlock_9S_Phone_Brown/sm06/#02/data/udp_uplk_loss_latency.csv\n",
      "70/216 /home/wmnlab/jackbedford/data/2023-09-12-2/UDP_Bandlock_9S_Phone_Brown/sm08/#02/data/handover_info_log.csv\n",
      "70/216 /home/wmnlab/jackbedford/data/2023-09-12-2/UDP_Bandlock_9S_Phone_Brown/sm08/#02/data/udp_dnlk_loss_latency.csv\n",
      "70/216 /home/wmnlab/jackbedford/data/2023-09-12-2/UDP_Bandlock_9S_Phone_Brown/sm08/#02/data/udp_uplk_loss_latency.csv\n"
     ]
    },
    {
     "data": {
      "application/vnd.jupyter.widget-view+json": {
       "model_id": "e689330947f249c5a08cf69cf22b61d1",
       "version_major": 2,
       "version_minor": 0
      },
      "text/plain": [
       "  0%|                                                                                                         …"
      ]
     },
     "metadata": {},
     "output_type": "display_data"
    },
    {
     "name": "stdout",
     "output_type": "stream",
     "text": [
      "./20240312_150032342e_newest/20240314_060073cc2b/results/20240314_09355400000_d7d867943ca2abed_1.5corr/\\home\\wmnlab\\jackbedford\\data\\2023-09-12-2\\UDP_Bandlock_9S_Phone_Brown\\sm06\\#02\\data\\udp_dnlk_loss_latency\\home\\wmnlab\\jackbedford\\data\\2023-09-12-2\\UDP_Bandlock_9S_Phone_Brown\\sm08\\#02\\data\\udp_dnlk_loss_latency.csv\n",
      "71/216 /home/wmnlab/jackbedford/data/2023-09-12-2/UDP_Bandlock_9S_Phone_Brown/sm07/#02/data/handover_info_log.csv\n",
      "71/216 /home/wmnlab/jackbedford/data/2023-09-12-2/UDP_Bandlock_9S_Phone_Brown/sm07/#02/data/udp_dnlk_loss_latency.csv\n",
      "71/216 /home/wmnlab/jackbedford/data/2023-09-12-2/UDP_Bandlock_9S_Phone_Brown/sm07/#02/data/udp_uplk_loss_latency.csv\n",
      "71/216 /home/wmnlab/jackbedford/data/2023-09-12-2/UDP_Bandlock_9S_Phone_Brown/sm08/#02/data/handover_info_log.csv\n",
      "71/216 /home/wmnlab/jackbedford/data/2023-09-12-2/UDP_Bandlock_9S_Phone_Brown/sm08/#02/data/udp_dnlk_loss_latency.csv\n",
      "71/216 /home/wmnlab/jackbedford/data/2023-09-12-2/UDP_Bandlock_9S_Phone_Brown/sm08/#02/data/udp_uplk_loss_latency.csv\n"
     ]
    },
    {
     "data": {
      "application/vnd.jupyter.widget-view+json": {
       "model_id": "a80712f2b12a4aee904ce4e1fa145a61",
       "version_major": 2,
       "version_minor": 0
      },
      "text/plain": [
       "  0%|                                                                                                         …"
      ]
     },
     "metadata": {},
     "output_type": "display_data"
    },
    {
     "name": "stdout",
     "output_type": "stream",
     "text": [
      "./20240312_150032342e_newest/20240314_060073cc2b/results/20240314_09355400000_d7d867943ca2abed_1.5corr/\\home\\wmnlab\\jackbedford\\data\\2023-09-12-2\\UDP_Bandlock_9S_Phone_Brown\\sm07\\#02\\data\\udp_dnlk_loss_latency\\home\\wmnlab\\jackbedford\\data\\2023-09-12-2\\UDP_Bandlock_9S_Phone_Brown\\sm08\\#02\\data\\udp_dnlk_loss_latency.csv\n",
      "72/216 /home/wmnlab/jackbedford/data/2023-09-21/UDP_Bandlock_9S_Phone_Brown/sm00/#01/data/handover_info_log.csv\n",
      "72/216 /home/wmnlab/jackbedford/data/2023-09-21/UDP_Bandlock_9S_Phone_Brown/sm00/#01/data/udp_dnlk_loss_latency.csv\n",
      "72/216 /home/wmnlab/jackbedford/data/2023-09-21/UDP_Bandlock_9S_Phone_Brown/sm00/#01/data/udp_uplk_loss_latency.csv\n",
      "72/216 /home/wmnlab/jackbedford/data/2023-09-21/UDP_Bandlock_9S_Phone_Brown/sm01/#01/data/handover_info_log.csv\n",
      "72/216 /home/wmnlab/jackbedford/data/2023-09-21/UDP_Bandlock_9S_Phone_Brown/sm01/#01/data/udp_dnlk_loss_latency.csv\n",
      "72/216 /home/wmnlab/jackbedford/data/2023-09-21/UDP_Bandlock_9S_Phone_Brown/sm01/#01/data/udp_uplk_loss_latency.csv\n"
     ]
    },
    {
     "data": {
      "application/vnd.jupyter.widget-view+json": {
       "model_id": "0f64fcdecf454d2db8a0f13164a8e80e",
       "version_major": 2,
       "version_minor": 0
      },
      "text/plain": [
       "  0%|                                                                                                         …"
      ]
     },
     "metadata": {},
     "output_type": "display_data"
    },
    {
     "name": "stdout",
     "output_type": "stream",
     "text": [
      "./20240312_150032342e_newest/20240314_060073cc2b/results/20240314_09355400000_d7d867943ca2abed_1.5corr/\\home\\wmnlab\\jackbedford\\data\\2023-09-21\\UDP_Bandlock_9S_Phone_Brown\\sm00\\#01\\data\\udp_dnlk_loss_latency\\home\\wmnlab\\jackbedford\\data\\2023-09-21\\UDP_Bandlock_9S_Phone_Brown\\sm01\\#01\\data\\udp_dnlk_loss_latency.csv\n",
      "73/216 /home/wmnlab/jackbedford/data/2023-09-21/UDP_Bandlock_9S_Phone_Brown/sm00/#01/data/handover_info_log.csv\n",
      "73/216 /home/wmnlab/jackbedford/data/2023-09-21/UDP_Bandlock_9S_Phone_Brown/sm00/#01/data/udp_dnlk_loss_latency.csv\n",
      "73/216 /home/wmnlab/jackbedford/data/2023-09-21/UDP_Bandlock_9S_Phone_Brown/sm00/#01/data/udp_uplk_loss_latency.csv\n",
      "73/216 /home/wmnlab/jackbedford/data/2023-09-21/UDP_Bandlock_9S_Phone_Brown/sm02/#01/data/handover_info_log.csv\n",
      "73/216 /home/wmnlab/jackbedford/data/2023-09-21/UDP_Bandlock_9S_Phone_Brown/sm02/#01/data/udp_dnlk_loss_latency.csv\n",
      "73/216 /home/wmnlab/jackbedford/data/2023-09-21/UDP_Bandlock_9S_Phone_Brown/sm02/#01/data/udp_uplk_loss_latency.csv\n"
     ]
    },
    {
     "data": {
      "application/vnd.jupyter.widget-view+json": {
       "model_id": "ddad1c2da5934e51a6a6c822f4bfe595",
       "version_major": 2,
       "version_minor": 0
      },
      "text/plain": [
       "  0%|                                                                                                         …"
      ]
     },
     "metadata": {},
     "output_type": "display_data"
    },
    {
     "name": "stdout",
     "output_type": "stream",
     "text": [
      "./20240312_150032342e_newest/20240314_060073cc2b/results/20240314_09355400000_d7d867943ca2abed_1.5corr/\\home\\wmnlab\\jackbedford\\data\\2023-09-21\\UDP_Bandlock_9S_Phone_Brown\\sm00\\#01\\data\\udp_dnlk_loss_latency\\home\\wmnlab\\jackbedford\\data\\2023-09-21\\UDP_Bandlock_9S_Phone_Brown\\sm02\\#01\\data\\udp_dnlk_loss_latency.csv\n",
      "74/216 /home/wmnlab/jackbedford/data/2023-09-21/UDP_Bandlock_9S_Phone_Brown/sm00/#01/data/handover_info_log.csv\n",
      "74/216 /home/wmnlab/jackbedford/data/2023-09-21/UDP_Bandlock_9S_Phone_Brown/sm00/#01/data/udp_dnlk_loss_latency.csv\n",
      "74/216 /home/wmnlab/jackbedford/data/2023-09-21/UDP_Bandlock_9S_Phone_Brown/sm00/#01/data/udp_uplk_loss_latency.csv\n",
      "74/216 /home/wmnlab/jackbedford/data/2023-09-21/UDP_Bandlock_9S_Phone_Brown/sm03/#01/data/handover_info_log.csv\n",
      "74/216 /home/wmnlab/jackbedford/data/2023-09-21/UDP_Bandlock_9S_Phone_Brown/sm03/#01/data/udp_dnlk_loss_latency.csv\n",
      "74/216 /home/wmnlab/jackbedford/data/2023-09-21/UDP_Bandlock_9S_Phone_Brown/sm03/#01/data/udp_uplk_loss_latency.csv\n"
     ]
    },
    {
     "data": {
      "application/vnd.jupyter.widget-view+json": {
       "model_id": "6fb9df027a344547901002290341df06",
       "version_major": 2,
       "version_minor": 0
      },
      "text/plain": [
       "  0%|                                                                                                         …"
      ]
     },
     "metadata": {},
     "output_type": "display_data"
    },
    {
     "name": "stdout",
     "output_type": "stream",
     "text": [
      "./20240312_150032342e_newest/20240314_060073cc2b/results/20240314_09355400000_d7d867943ca2abed_1.5corr/\\home\\wmnlab\\jackbedford\\data\\2023-09-21\\UDP_Bandlock_9S_Phone_Brown\\sm00\\#01\\data\\udp_dnlk_loss_latency\\home\\wmnlab\\jackbedford\\data\\2023-09-21\\UDP_Bandlock_9S_Phone_Brown\\sm03\\#01\\data\\udp_dnlk_loss_latency.csv\n",
      "75/216 /home/wmnlab/jackbedford/data/2023-09-21/UDP_Bandlock_9S_Phone_Brown/sm00/#01/data/handover_info_log.csv\n",
      "75/216 /home/wmnlab/jackbedford/data/2023-09-21/UDP_Bandlock_9S_Phone_Brown/sm00/#01/data/udp_dnlk_loss_latency.csv\n",
      "75/216 /home/wmnlab/jackbedford/data/2023-09-21/UDP_Bandlock_9S_Phone_Brown/sm00/#01/data/udp_uplk_loss_latency.csv\n",
      "75/216 /home/wmnlab/jackbedford/data/2023-09-21/UDP_Bandlock_9S_Phone_Brown/sm04/#01/data/handover_info_log.csv\n",
      "75/216 /home/wmnlab/jackbedford/data/2023-09-21/UDP_Bandlock_9S_Phone_Brown/sm04/#01/data/udp_dnlk_loss_latency.csv\n",
      "75/216 /home/wmnlab/jackbedford/data/2023-09-21/UDP_Bandlock_9S_Phone_Brown/sm04/#01/data/udp_uplk_loss_latency.csv\n"
     ]
    },
    {
     "data": {
      "application/vnd.jupyter.widget-view+json": {
       "model_id": "903075f2dc8245689ea8ec074b3e0b7d",
       "version_major": 2,
       "version_minor": 0
      },
      "text/plain": [
       "  0%|                                                                                                         …"
      ]
     },
     "metadata": {},
     "output_type": "display_data"
    },
    {
     "name": "stdout",
     "output_type": "stream",
     "text": [
      "./20240312_150032342e_newest/20240314_060073cc2b/results/20240314_09355400000_d7d867943ca2abed_1.5corr/\\home\\wmnlab\\jackbedford\\data\\2023-09-21\\UDP_Bandlock_9S_Phone_Brown\\sm00\\#01\\data\\udp_dnlk_loss_latency\\home\\wmnlab\\jackbedford\\data\\2023-09-21\\UDP_Bandlock_9S_Phone_Brown\\sm04\\#01\\data\\udp_dnlk_loss_latency.csv\n",
      "76/216 /home/wmnlab/jackbedford/data/2023-09-21/UDP_Bandlock_9S_Phone_Brown/sm00/#01/data/handover_info_log.csv\n",
      "76/216 /home/wmnlab/jackbedford/data/2023-09-21/UDP_Bandlock_9S_Phone_Brown/sm00/#01/data/udp_dnlk_loss_latency.csv\n",
      "76/216 /home/wmnlab/jackbedford/data/2023-09-21/UDP_Bandlock_9S_Phone_Brown/sm00/#01/data/udp_uplk_loss_latency.csv\n",
      "76/216 /home/wmnlab/jackbedford/data/2023-09-21/UDP_Bandlock_9S_Phone_Brown/sm05/#01/data/handover_info_log.csv\n",
      "76/216 /home/wmnlab/jackbedford/data/2023-09-21/UDP_Bandlock_9S_Phone_Brown/sm05/#01/data/udp_dnlk_loss_latency.csv\n",
      "76/216 /home/wmnlab/jackbedford/data/2023-09-21/UDP_Bandlock_9S_Phone_Brown/sm05/#01/data/udp_uplk_loss_latency.csv\n"
     ]
    },
    {
     "data": {
      "application/vnd.jupyter.widget-view+json": {
       "model_id": "41052b574bae4d5db856154f82ef4314",
       "version_major": 2,
       "version_minor": 0
      },
      "text/plain": [
       "  0%|                                                                                                         …"
      ]
     },
     "metadata": {},
     "output_type": "display_data"
    },
    {
     "name": "stdout",
     "output_type": "stream",
     "text": [
      "./20240312_150032342e_newest/20240314_060073cc2b/results/20240314_09355400000_d7d867943ca2abed_1.5corr/\\home\\wmnlab\\jackbedford\\data\\2023-09-21\\UDP_Bandlock_9S_Phone_Brown\\sm00\\#01\\data\\udp_dnlk_loss_latency\\home\\wmnlab\\jackbedford\\data\\2023-09-21\\UDP_Bandlock_9S_Phone_Brown\\sm05\\#01\\data\\udp_dnlk_loss_latency.csv\n",
      "77/216 /home/wmnlab/jackbedford/data/2023-09-21/UDP_Bandlock_9S_Phone_Brown/sm00/#01/data/handover_info_log.csv\n",
      "77/216 /home/wmnlab/jackbedford/data/2023-09-21/UDP_Bandlock_9S_Phone_Brown/sm00/#01/data/udp_dnlk_loss_latency.csv\n",
      "77/216 /home/wmnlab/jackbedford/data/2023-09-21/UDP_Bandlock_9S_Phone_Brown/sm00/#01/data/udp_uplk_loss_latency.csv\n",
      "77/216 /home/wmnlab/jackbedford/data/2023-09-21/UDP_Bandlock_9S_Phone_Brown/sm06/#01/data/handover_info_log.csv\n",
      "77/216 /home/wmnlab/jackbedford/data/2023-09-21/UDP_Bandlock_9S_Phone_Brown/sm06/#01/data/udp_dnlk_loss_latency.csv\n",
      "77/216 /home/wmnlab/jackbedford/data/2023-09-21/UDP_Bandlock_9S_Phone_Brown/sm06/#01/data/udp_uplk_loss_latency.csv\n"
     ]
    },
    {
     "data": {
      "application/vnd.jupyter.widget-view+json": {
       "model_id": "5941a57f81b145a094974af9de837153",
       "version_major": 2,
       "version_minor": 0
      },
      "text/plain": [
       "  0%|                                                                                                         …"
      ]
     },
     "metadata": {},
     "output_type": "display_data"
    },
    {
     "name": "stdout",
     "output_type": "stream",
     "text": [
      "./20240312_150032342e_newest/20240314_060073cc2b/results/20240314_09355400000_d7d867943ca2abed_1.5corr/\\home\\wmnlab\\jackbedford\\data\\2023-09-21\\UDP_Bandlock_9S_Phone_Brown\\sm00\\#01\\data\\udp_dnlk_loss_latency\\home\\wmnlab\\jackbedford\\data\\2023-09-21\\UDP_Bandlock_9S_Phone_Brown\\sm06\\#01\\data\\udp_dnlk_loss_latency.csv\n",
      "78/216 /home/wmnlab/jackbedford/data/2023-09-21/UDP_Bandlock_9S_Phone_Brown/sm00/#01/data/handover_info_log.csv\n",
      "78/216 /home/wmnlab/jackbedford/data/2023-09-21/UDP_Bandlock_9S_Phone_Brown/sm00/#01/data/udp_dnlk_loss_latency.csv\n",
      "78/216 /home/wmnlab/jackbedford/data/2023-09-21/UDP_Bandlock_9S_Phone_Brown/sm00/#01/data/udp_uplk_loss_latency.csv\n",
      "78/216 /home/wmnlab/jackbedford/data/2023-09-21/UDP_Bandlock_9S_Phone_Brown/sm07/#01/data/handover_info_log.csv\n",
      "78/216 /home/wmnlab/jackbedford/data/2023-09-21/UDP_Bandlock_9S_Phone_Brown/sm07/#01/data/udp_dnlk_loss_latency.csv\n",
      "78/216 /home/wmnlab/jackbedford/data/2023-09-21/UDP_Bandlock_9S_Phone_Brown/sm07/#01/data/udp_uplk_loss_latency.csv\n"
     ]
    },
    {
     "data": {
      "application/vnd.jupyter.widget-view+json": {
       "model_id": "62f08fda151a4989b6ff73812ba11a27",
       "version_major": 2,
       "version_minor": 0
      },
      "text/plain": [
       "  0%|                                                                                                         …"
      ]
     },
     "metadata": {},
     "output_type": "display_data"
    },
    {
     "name": "stdout",
     "output_type": "stream",
     "text": [
      "./20240312_150032342e_newest/20240314_060073cc2b/results/20240314_09355400000_d7d867943ca2abed_1.5corr/\\home\\wmnlab\\jackbedford\\data\\2023-09-21\\UDP_Bandlock_9S_Phone_Brown\\sm00\\#01\\data\\udp_dnlk_loss_latency\\home\\wmnlab\\jackbedford\\data\\2023-09-21\\UDP_Bandlock_9S_Phone_Brown\\sm07\\#01\\data\\udp_dnlk_loss_latency.csv\n",
      "79/216 /home/wmnlab/jackbedford/data/2023-09-21/UDP_Bandlock_9S_Phone_Brown/sm00/#01/data/handover_info_log.csv\n",
      "79/216 /home/wmnlab/jackbedford/data/2023-09-21/UDP_Bandlock_9S_Phone_Brown/sm00/#01/data/udp_dnlk_loss_latency.csv\n",
      "79/216 /home/wmnlab/jackbedford/data/2023-09-21/UDP_Bandlock_9S_Phone_Brown/sm00/#01/data/udp_uplk_loss_latency.csv\n",
      "79/216 /home/wmnlab/jackbedford/data/2023-09-21/UDP_Bandlock_9S_Phone_Brown/sm08/#01/data/handover_info_log.csv\n",
      "79/216 /home/wmnlab/jackbedford/data/2023-09-21/UDP_Bandlock_9S_Phone_Brown/sm08/#01/data/udp_dnlk_loss_latency.csv\n",
      "79/216 /home/wmnlab/jackbedford/data/2023-09-21/UDP_Bandlock_9S_Phone_Brown/sm08/#01/data/udp_uplk_loss_latency.csv\n"
     ]
    },
    {
     "data": {
      "application/vnd.jupyter.widget-view+json": {
       "model_id": "75b4cf4a850c44388c064f1c7480fe6c",
       "version_major": 2,
       "version_minor": 0
      },
      "text/plain": [
       "  0%|                                                                                                         …"
      ]
     },
     "metadata": {},
     "output_type": "display_data"
    },
    {
     "name": "stdout",
     "output_type": "stream",
     "text": [
      "./20240312_150032342e_newest/20240314_060073cc2b/results/20240314_09355400000_d7d867943ca2abed_1.5corr/\\home\\wmnlab\\jackbedford\\data\\2023-09-21\\UDP_Bandlock_9S_Phone_Brown\\sm00\\#01\\data\\udp_dnlk_loss_latency\\home\\wmnlab\\jackbedford\\data\\2023-09-21\\UDP_Bandlock_9S_Phone_Brown\\sm08\\#01\\data\\udp_dnlk_loss_latency.csv\n",
      "80/216 /home/wmnlab/jackbedford/data/2023-09-21/UDP_Bandlock_9S_Phone_Brown/sm01/#01/data/handover_info_log.csv\n",
      "80/216 /home/wmnlab/jackbedford/data/2023-09-21/UDP_Bandlock_9S_Phone_Brown/sm01/#01/data/udp_dnlk_loss_latency.csv\n",
      "80/216 /home/wmnlab/jackbedford/data/2023-09-21/UDP_Bandlock_9S_Phone_Brown/sm01/#01/data/udp_uplk_loss_latency.csv\n",
      "80/216 /home/wmnlab/jackbedford/data/2023-09-21/UDP_Bandlock_9S_Phone_Brown/sm02/#01/data/handover_info_log.csv\n",
      "80/216 /home/wmnlab/jackbedford/data/2023-09-21/UDP_Bandlock_9S_Phone_Brown/sm02/#01/data/udp_dnlk_loss_latency.csv\n",
      "80/216 /home/wmnlab/jackbedford/data/2023-09-21/UDP_Bandlock_9S_Phone_Brown/sm02/#01/data/udp_uplk_loss_latency.csv\n"
     ]
    },
    {
     "data": {
      "application/vnd.jupyter.widget-view+json": {
       "model_id": "0946b539e2c94e6b8fb9187c667cb110",
       "version_major": 2,
       "version_minor": 0
      },
      "text/plain": [
       "  0%|                                                                                                         …"
      ]
     },
     "metadata": {},
     "output_type": "display_data"
    },
    {
     "name": "stdout",
     "output_type": "stream",
     "text": [
      "./20240312_150032342e_newest/20240314_060073cc2b/results/20240314_09355400000_d7d867943ca2abed_1.5corr/\\home\\wmnlab\\jackbedford\\data\\2023-09-21\\UDP_Bandlock_9S_Phone_Brown\\sm01\\#01\\data\\udp_dnlk_loss_latency\\home\\wmnlab\\jackbedford\\data\\2023-09-21\\UDP_Bandlock_9S_Phone_Brown\\sm02\\#01\\data\\udp_dnlk_loss_latency.csv\n",
      "81/216 /home/wmnlab/jackbedford/data/2023-09-21/UDP_Bandlock_9S_Phone_Brown/sm01/#01/data/handover_info_log.csv\n",
      "81/216 /home/wmnlab/jackbedford/data/2023-09-21/UDP_Bandlock_9S_Phone_Brown/sm01/#01/data/udp_dnlk_loss_latency.csv\n",
      "81/216 /home/wmnlab/jackbedford/data/2023-09-21/UDP_Bandlock_9S_Phone_Brown/sm01/#01/data/udp_uplk_loss_latency.csv\n",
      "81/216 /home/wmnlab/jackbedford/data/2023-09-21/UDP_Bandlock_9S_Phone_Brown/sm03/#01/data/handover_info_log.csv\n",
      "81/216 /home/wmnlab/jackbedford/data/2023-09-21/UDP_Bandlock_9S_Phone_Brown/sm03/#01/data/udp_dnlk_loss_latency.csv\n",
      "81/216 /home/wmnlab/jackbedford/data/2023-09-21/UDP_Bandlock_9S_Phone_Brown/sm03/#01/data/udp_uplk_loss_latency.csv\n"
     ]
    },
    {
     "data": {
      "application/vnd.jupyter.widget-view+json": {
       "model_id": "09030705ba6b496d98cc6fff65f34f97",
       "version_major": 2,
       "version_minor": 0
      },
      "text/plain": [
       "  0%|                                                                                                         …"
      ]
     },
     "metadata": {},
     "output_type": "display_data"
    },
    {
     "name": "stdout",
     "output_type": "stream",
     "text": [
      "./20240312_150032342e_newest/20240314_060073cc2b/results/20240314_09355400000_d7d867943ca2abed_1.5corr/\\home\\wmnlab\\jackbedford\\data\\2023-09-21\\UDP_Bandlock_9S_Phone_Brown\\sm01\\#01\\data\\udp_dnlk_loss_latency\\home\\wmnlab\\jackbedford\\data\\2023-09-21\\UDP_Bandlock_9S_Phone_Brown\\sm03\\#01\\data\\udp_dnlk_loss_latency.csv\n",
      "82/216 /home/wmnlab/jackbedford/data/2023-09-21/UDP_Bandlock_9S_Phone_Brown/sm01/#01/data/handover_info_log.csv\n",
      "82/216 /home/wmnlab/jackbedford/data/2023-09-21/UDP_Bandlock_9S_Phone_Brown/sm01/#01/data/udp_dnlk_loss_latency.csv\n",
      "82/216 /home/wmnlab/jackbedford/data/2023-09-21/UDP_Bandlock_9S_Phone_Brown/sm01/#01/data/udp_uplk_loss_latency.csv\n",
      "82/216 /home/wmnlab/jackbedford/data/2023-09-21/UDP_Bandlock_9S_Phone_Brown/sm04/#01/data/handover_info_log.csv\n",
      "82/216 /home/wmnlab/jackbedford/data/2023-09-21/UDP_Bandlock_9S_Phone_Brown/sm04/#01/data/udp_dnlk_loss_latency.csv\n",
      "82/216 /home/wmnlab/jackbedford/data/2023-09-21/UDP_Bandlock_9S_Phone_Brown/sm04/#01/data/udp_uplk_loss_latency.csv\n"
     ]
    },
    {
     "data": {
      "application/vnd.jupyter.widget-view+json": {
       "model_id": "5a4c292d6e4f42c2908a798243d52d59",
       "version_major": 2,
       "version_minor": 0
      },
      "text/plain": [
       "  0%|                                                                                                         …"
      ]
     },
     "metadata": {},
     "output_type": "display_data"
    },
    {
     "name": "stdout",
     "output_type": "stream",
     "text": [
      "./20240312_150032342e_newest/20240314_060073cc2b/results/20240314_09355400000_d7d867943ca2abed_1.5corr/\\home\\wmnlab\\jackbedford\\data\\2023-09-21\\UDP_Bandlock_9S_Phone_Brown\\sm01\\#01\\data\\udp_dnlk_loss_latency\\home\\wmnlab\\jackbedford\\data\\2023-09-21\\UDP_Bandlock_9S_Phone_Brown\\sm04\\#01\\data\\udp_dnlk_loss_latency.csv\n",
      "83/216 /home/wmnlab/jackbedford/data/2023-09-21/UDP_Bandlock_9S_Phone_Brown/sm01/#01/data/handover_info_log.csv\n",
      "83/216 /home/wmnlab/jackbedford/data/2023-09-21/UDP_Bandlock_9S_Phone_Brown/sm01/#01/data/udp_dnlk_loss_latency.csv\n",
      "83/216 /home/wmnlab/jackbedford/data/2023-09-21/UDP_Bandlock_9S_Phone_Brown/sm01/#01/data/udp_uplk_loss_latency.csv\n",
      "83/216 /home/wmnlab/jackbedford/data/2023-09-21/UDP_Bandlock_9S_Phone_Brown/sm05/#01/data/handover_info_log.csv\n",
      "83/216 /home/wmnlab/jackbedford/data/2023-09-21/UDP_Bandlock_9S_Phone_Brown/sm05/#01/data/udp_dnlk_loss_latency.csv\n",
      "83/216 /home/wmnlab/jackbedford/data/2023-09-21/UDP_Bandlock_9S_Phone_Brown/sm05/#01/data/udp_uplk_loss_latency.csv\n"
     ]
    },
    {
     "data": {
      "application/vnd.jupyter.widget-view+json": {
       "model_id": "323675bd399043a394770a24951af4f5",
       "version_major": 2,
       "version_minor": 0
      },
      "text/plain": [
       "  0%|                                                                                                         …"
      ]
     },
     "metadata": {},
     "output_type": "display_data"
    },
    {
     "name": "stdout",
     "output_type": "stream",
     "text": [
      "./20240312_150032342e_newest/20240314_060073cc2b/results/20240314_09355400000_d7d867943ca2abed_1.5corr/\\home\\wmnlab\\jackbedford\\data\\2023-09-21\\UDP_Bandlock_9S_Phone_Brown\\sm01\\#01\\data\\udp_dnlk_loss_latency\\home\\wmnlab\\jackbedford\\data\\2023-09-21\\UDP_Bandlock_9S_Phone_Brown\\sm05\\#01\\data\\udp_dnlk_loss_latency.csv\n",
      "84/216 /home/wmnlab/jackbedford/data/2023-09-21/UDP_Bandlock_9S_Phone_Brown/sm01/#01/data/handover_info_log.csv\n",
      "84/216 /home/wmnlab/jackbedford/data/2023-09-21/UDP_Bandlock_9S_Phone_Brown/sm01/#01/data/udp_dnlk_loss_latency.csv\n",
      "84/216 /home/wmnlab/jackbedford/data/2023-09-21/UDP_Bandlock_9S_Phone_Brown/sm01/#01/data/udp_uplk_loss_latency.csv\n",
      "84/216 /home/wmnlab/jackbedford/data/2023-09-21/UDP_Bandlock_9S_Phone_Brown/sm06/#01/data/handover_info_log.csv\n",
      "84/216 /home/wmnlab/jackbedford/data/2023-09-21/UDP_Bandlock_9S_Phone_Brown/sm06/#01/data/udp_dnlk_loss_latency.csv\n",
      "84/216 /home/wmnlab/jackbedford/data/2023-09-21/UDP_Bandlock_9S_Phone_Brown/sm06/#01/data/udp_uplk_loss_latency.csv\n"
     ]
    },
    {
     "data": {
      "application/vnd.jupyter.widget-view+json": {
       "model_id": "d7c6ef1185594a768d7d628c9d0f5f3b",
       "version_major": 2,
       "version_minor": 0
      },
      "text/plain": [
       "  0%|                                                                                                         …"
      ]
     },
     "metadata": {},
     "output_type": "display_data"
    },
    {
     "name": "stdout",
     "output_type": "stream",
     "text": [
      "./20240312_150032342e_newest/20240314_060073cc2b/results/20240314_09355400000_d7d867943ca2abed_1.5corr/\\home\\wmnlab\\jackbedford\\data\\2023-09-21\\UDP_Bandlock_9S_Phone_Brown\\sm01\\#01\\data\\udp_dnlk_loss_latency\\home\\wmnlab\\jackbedford\\data\\2023-09-21\\UDP_Bandlock_9S_Phone_Brown\\sm06\\#01\\data\\udp_dnlk_loss_latency.csv\n",
      "85/216 /home/wmnlab/jackbedford/data/2023-09-21/UDP_Bandlock_9S_Phone_Brown/sm01/#01/data/handover_info_log.csv\n",
      "85/216 /home/wmnlab/jackbedford/data/2023-09-21/UDP_Bandlock_9S_Phone_Brown/sm01/#01/data/udp_dnlk_loss_latency.csv\n",
      "85/216 /home/wmnlab/jackbedford/data/2023-09-21/UDP_Bandlock_9S_Phone_Brown/sm01/#01/data/udp_uplk_loss_latency.csv\n",
      "85/216 /home/wmnlab/jackbedford/data/2023-09-21/UDP_Bandlock_9S_Phone_Brown/sm07/#01/data/handover_info_log.csv\n",
      "85/216 /home/wmnlab/jackbedford/data/2023-09-21/UDP_Bandlock_9S_Phone_Brown/sm07/#01/data/udp_dnlk_loss_latency.csv\n",
      "85/216 /home/wmnlab/jackbedford/data/2023-09-21/UDP_Bandlock_9S_Phone_Brown/sm07/#01/data/udp_uplk_loss_latency.csv\n"
     ]
    },
    {
     "data": {
      "application/vnd.jupyter.widget-view+json": {
       "model_id": "4dc7202b7b1a40118c0732b7dd6f3b3d",
       "version_major": 2,
       "version_minor": 0
      },
      "text/plain": [
       "  0%|                                                                                                         …"
      ]
     },
     "metadata": {},
     "output_type": "display_data"
    },
    {
     "name": "stdout",
     "output_type": "stream",
     "text": [
      "./20240312_150032342e_newest/20240314_060073cc2b/results/20240314_09355400000_d7d867943ca2abed_1.5corr/\\home\\wmnlab\\jackbedford\\data\\2023-09-21\\UDP_Bandlock_9S_Phone_Brown\\sm01\\#01\\data\\udp_dnlk_loss_latency\\home\\wmnlab\\jackbedford\\data\\2023-09-21\\UDP_Bandlock_9S_Phone_Brown\\sm07\\#01\\data\\udp_dnlk_loss_latency.csv\n",
      "86/216 /home/wmnlab/jackbedford/data/2023-09-21/UDP_Bandlock_9S_Phone_Brown/sm01/#01/data/handover_info_log.csv\n",
      "86/216 /home/wmnlab/jackbedford/data/2023-09-21/UDP_Bandlock_9S_Phone_Brown/sm01/#01/data/udp_dnlk_loss_latency.csv\n",
      "86/216 /home/wmnlab/jackbedford/data/2023-09-21/UDP_Bandlock_9S_Phone_Brown/sm01/#01/data/udp_uplk_loss_latency.csv\n",
      "86/216 /home/wmnlab/jackbedford/data/2023-09-21/UDP_Bandlock_9S_Phone_Brown/sm08/#01/data/handover_info_log.csv\n",
      "86/216 /home/wmnlab/jackbedford/data/2023-09-21/UDP_Bandlock_9S_Phone_Brown/sm08/#01/data/udp_dnlk_loss_latency.csv\n",
      "86/216 /home/wmnlab/jackbedford/data/2023-09-21/UDP_Bandlock_9S_Phone_Brown/sm08/#01/data/udp_uplk_loss_latency.csv\n"
     ]
    },
    {
     "data": {
      "application/vnd.jupyter.widget-view+json": {
       "model_id": "2b0687d537f84117b82facfa84b55370",
       "version_major": 2,
       "version_minor": 0
      },
      "text/plain": [
       "  0%|                                                                                                         …"
      ]
     },
     "metadata": {},
     "output_type": "display_data"
    },
    {
     "name": "stdout",
     "output_type": "stream",
     "text": [
      "./20240312_150032342e_newest/20240314_060073cc2b/results/20240314_09355400000_d7d867943ca2abed_1.5corr/\\home\\wmnlab\\jackbedford\\data\\2023-09-21\\UDP_Bandlock_9S_Phone_Brown\\sm01\\#01\\data\\udp_dnlk_loss_latency\\home\\wmnlab\\jackbedford\\data\\2023-09-21\\UDP_Bandlock_9S_Phone_Brown\\sm08\\#01\\data\\udp_dnlk_loss_latency.csv\n",
      "87/216 /home/wmnlab/jackbedford/data/2023-09-21/UDP_Bandlock_9S_Phone_Brown/sm02/#01/data/handover_info_log.csv\n",
      "87/216 /home/wmnlab/jackbedford/data/2023-09-21/UDP_Bandlock_9S_Phone_Brown/sm02/#01/data/udp_dnlk_loss_latency.csv\n",
      "87/216 /home/wmnlab/jackbedford/data/2023-09-21/UDP_Bandlock_9S_Phone_Brown/sm02/#01/data/udp_uplk_loss_latency.csv\n",
      "87/216 /home/wmnlab/jackbedford/data/2023-09-21/UDP_Bandlock_9S_Phone_Brown/sm03/#01/data/handover_info_log.csv\n",
      "87/216 /home/wmnlab/jackbedford/data/2023-09-21/UDP_Bandlock_9S_Phone_Brown/sm03/#01/data/udp_dnlk_loss_latency.csv\n",
      "87/216 /home/wmnlab/jackbedford/data/2023-09-21/UDP_Bandlock_9S_Phone_Brown/sm03/#01/data/udp_uplk_loss_latency.csv\n"
     ]
    },
    {
     "data": {
      "application/vnd.jupyter.widget-view+json": {
       "model_id": "28be150c55f44df58399246ad3e8121c",
       "version_major": 2,
       "version_minor": 0
      },
      "text/plain": [
       "  0%|                                                                                                         …"
      ]
     },
     "metadata": {},
     "output_type": "display_data"
    },
    {
     "name": "stdout",
     "output_type": "stream",
     "text": [
      "./20240312_150032342e_newest/20240314_060073cc2b/results/20240314_09355400000_d7d867943ca2abed_1.5corr/\\home\\wmnlab\\jackbedford\\data\\2023-09-21\\UDP_Bandlock_9S_Phone_Brown\\sm02\\#01\\data\\udp_dnlk_loss_latency\\home\\wmnlab\\jackbedford\\data\\2023-09-21\\UDP_Bandlock_9S_Phone_Brown\\sm03\\#01\\data\\udp_dnlk_loss_latency.csv\n",
      "88/216 /home/wmnlab/jackbedford/data/2023-09-21/UDP_Bandlock_9S_Phone_Brown/sm02/#01/data/handover_info_log.csv\n",
      "88/216 /home/wmnlab/jackbedford/data/2023-09-21/UDP_Bandlock_9S_Phone_Brown/sm02/#01/data/udp_dnlk_loss_latency.csv\n",
      "88/216 /home/wmnlab/jackbedford/data/2023-09-21/UDP_Bandlock_9S_Phone_Brown/sm02/#01/data/udp_uplk_loss_latency.csv\n",
      "88/216 /home/wmnlab/jackbedford/data/2023-09-21/UDP_Bandlock_9S_Phone_Brown/sm04/#01/data/handover_info_log.csv\n",
      "88/216 /home/wmnlab/jackbedford/data/2023-09-21/UDP_Bandlock_9S_Phone_Brown/sm04/#01/data/udp_dnlk_loss_latency.csv\n",
      "88/216 /home/wmnlab/jackbedford/data/2023-09-21/UDP_Bandlock_9S_Phone_Brown/sm04/#01/data/udp_uplk_loss_latency.csv\n"
     ]
    },
    {
     "data": {
      "application/vnd.jupyter.widget-view+json": {
       "model_id": "6e689694822142649a871fa8b77818f9",
       "version_major": 2,
       "version_minor": 0
      },
      "text/plain": [
       "  0%|                                                                                                         …"
      ]
     },
     "metadata": {},
     "output_type": "display_data"
    },
    {
     "name": "stdout",
     "output_type": "stream",
     "text": [
      "./20240312_150032342e_newest/20240314_060073cc2b/results/20240314_09355400000_d7d867943ca2abed_1.5corr/\\home\\wmnlab\\jackbedford\\data\\2023-09-21\\UDP_Bandlock_9S_Phone_Brown\\sm02\\#01\\data\\udp_dnlk_loss_latency\\home\\wmnlab\\jackbedford\\data\\2023-09-21\\UDP_Bandlock_9S_Phone_Brown\\sm04\\#01\\data\\udp_dnlk_loss_latency.csv\n",
      "89/216 /home/wmnlab/jackbedford/data/2023-09-21/UDP_Bandlock_9S_Phone_Brown/sm02/#01/data/handover_info_log.csv\n",
      "89/216 /home/wmnlab/jackbedford/data/2023-09-21/UDP_Bandlock_9S_Phone_Brown/sm02/#01/data/udp_dnlk_loss_latency.csv\n",
      "89/216 /home/wmnlab/jackbedford/data/2023-09-21/UDP_Bandlock_9S_Phone_Brown/sm02/#01/data/udp_uplk_loss_latency.csv\n",
      "89/216 /home/wmnlab/jackbedford/data/2023-09-21/UDP_Bandlock_9S_Phone_Brown/sm05/#01/data/handover_info_log.csv\n",
      "89/216 /home/wmnlab/jackbedford/data/2023-09-21/UDP_Bandlock_9S_Phone_Brown/sm05/#01/data/udp_dnlk_loss_latency.csv\n",
      "89/216 /home/wmnlab/jackbedford/data/2023-09-21/UDP_Bandlock_9S_Phone_Brown/sm05/#01/data/udp_uplk_loss_latency.csv\n"
     ]
    },
    {
     "data": {
      "application/vnd.jupyter.widget-view+json": {
       "model_id": "5a78656a0ef54170bc3774f39309964e",
       "version_major": 2,
       "version_minor": 0
      },
      "text/plain": [
       "  0%|                                                                                                         …"
      ]
     },
     "metadata": {},
     "output_type": "display_data"
    },
    {
     "name": "stdout",
     "output_type": "stream",
     "text": [
      "./20240312_150032342e_newest/20240314_060073cc2b/results/20240314_09355400000_d7d867943ca2abed_1.5corr/\\home\\wmnlab\\jackbedford\\data\\2023-09-21\\UDP_Bandlock_9S_Phone_Brown\\sm02\\#01\\data\\udp_dnlk_loss_latency\\home\\wmnlab\\jackbedford\\data\\2023-09-21\\UDP_Bandlock_9S_Phone_Brown\\sm05\\#01\\data\\udp_dnlk_loss_latency.csv\n",
      "90/216 /home/wmnlab/jackbedford/data/2023-09-21/UDP_Bandlock_9S_Phone_Brown/sm02/#01/data/handover_info_log.csv\n",
      "90/216 /home/wmnlab/jackbedford/data/2023-09-21/UDP_Bandlock_9S_Phone_Brown/sm02/#01/data/udp_dnlk_loss_latency.csv\n",
      "90/216 /home/wmnlab/jackbedford/data/2023-09-21/UDP_Bandlock_9S_Phone_Brown/sm02/#01/data/udp_uplk_loss_latency.csv\n",
      "90/216 /home/wmnlab/jackbedford/data/2023-09-21/UDP_Bandlock_9S_Phone_Brown/sm06/#01/data/handover_info_log.csv\n",
      "90/216 /home/wmnlab/jackbedford/data/2023-09-21/UDP_Bandlock_9S_Phone_Brown/sm06/#01/data/udp_dnlk_loss_latency.csv\n",
      "90/216 /home/wmnlab/jackbedford/data/2023-09-21/UDP_Bandlock_9S_Phone_Brown/sm06/#01/data/udp_uplk_loss_latency.csv\n"
     ]
    },
    {
     "data": {
      "application/vnd.jupyter.widget-view+json": {
       "model_id": "dc859554a58d49678b120e17b0d64ccb",
       "version_major": 2,
       "version_minor": 0
      },
      "text/plain": [
       "  0%|                                                                                                         …"
      ]
     },
     "metadata": {},
     "output_type": "display_data"
    },
    {
     "name": "stdout",
     "output_type": "stream",
     "text": [
      "./20240312_150032342e_newest/20240314_060073cc2b/results/20240314_09355400000_d7d867943ca2abed_1.5corr/\\home\\wmnlab\\jackbedford\\data\\2023-09-21\\UDP_Bandlock_9S_Phone_Brown\\sm02\\#01\\data\\udp_dnlk_loss_latency\\home\\wmnlab\\jackbedford\\data\\2023-09-21\\UDP_Bandlock_9S_Phone_Brown\\sm06\\#01\\data\\udp_dnlk_loss_latency.csv\n",
      "91/216 /home/wmnlab/jackbedford/data/2023-09-21/UDP_Bandlock_9S_Phone_Brown/sm02/#01/data/handover_info_log.csv\n",
      "91/216 /home/wmnlab/jackbedford/data/2023-09-21/UDP_Bandlock_9S_Phone_Brown/sm02/#01/data/udp_dnlk_loss_latency.csv\n",
      "91/216 /home/wmnlab/jackbedford/data/2023-09-21/UDP_Bandlock_9S_Phone_Brown/sm02/#01/data/udp_uplk_loss_latency.csv\n",
      "91/216 /home/wmnlab/jackbedford/data/2023-09-21/UDP_Bandlock_9S_Phone_Brown/sm07/#01/data/handover_info_log.csv\n",
      "91/216 /home/wmnlab/jackbedford/data/2023-09-21/UDP_Bandlock_9S_Phone_Brown/sm07/#01/data/udp_dnlk_loss_latency.csv\n",
      "91/216 /home/wmnlab/jackbedford/data/2023-09-21/UDP_Bandlock_9S_Phone_Brown/sm07/#01/data/udp_uplk_loss_latency.csv\n"
     ]
    },
    {
     "data": {
      "application/vnd.jupyter.widget-view+json": {
       "model_id": "82ffed17d9714784852b7d06eb2eb7b1",
       "version_major": 2,
       "version_minor": 0
      },
      "text/plain": [
       "  0%|                                                                                                         …"
      ]
     },
     "metadata": {},
     "output_type": "display_data"
    },
    {
     "name": "stdout",
     "output_type": "stream",
     "text": [
      "./20240312_150032342e_newest/20240314_060073cc2b/results/20240314_09355400000_d7d867943ca2abed_1.5corr/\\home\\wmnlab\\jackbedford\\data\\2023-09-21\\UDP_Bandlock_9S_Phone_Brown\\sm02\\#01\\data\\udp_dnlk_loss_latency\\home\\wmnlab\\jackbedford\\data\\2023-09-21\\UDP_Bandlock_9S_Phone_Brown\\sm07\\#01\\data\\udp_dnlk_loss_latency.csv\n",
      "92/216 /home/wmnlab/jackbedford/data/2023-09-21/UDP_Bandlock_9S_Phone_Brown/sm02/#01/data/handover_info_log.csv\n",
      "92/216 /home/wmnlab/jackbedford/data/2023-09-21/UDP_Bandlock_9S_Phone_Brown/sm02/#01/data/udp_dnlk_loss_latency.csv\n",
      "92/216 /home/wmnlab/jackbedford/data/2023-09-21/UDP_Bandlock_9S_Phone_Brown/sm02/#01/data/udp_uplk_loss_latency.csv\n",
      "92/216 /home/wmnlab/jackbedford/data/2023-09-21/UDP_Bandlock_9S_Phone_Brown/sm08/#01/data/handover_info_log.csv\n",
      "92/216 /home/wmnlab/jackbedford/data/2023-09-21/UDP_Bandlock_9S_Phone_Brown/sm08/#01/data/udp_dnlk_loss_latency.csv\n",
      "92/216 /home/wmnlab/jackbedford/data/2023-09-21/UDP_Bandlock_9S_Phone_Brown/sm08/#01/data/udp_uplk_loss_latency.csv\n"
     ]
    },
    {
     "data": {
      "application/vnd.jupyter.widget-view+json": {
       "model_id": "e3306d12feaf4e978972f8777296f83b",
       "version_major": 2,
       "version_minor": 0
      },
      "text/plain": [
       "  0%|                                                                                                         …"
      ]
     },
     "metadata": {},
     "output_type": "display_data"
    },
    {
     "name": "stdout",
     "output_type": "stream",
     "text": [
      "./20240312_150032342e_newest/20240314_060073cc2b/results/20240314_09355400000_d7d867943ca2abed_1.5corr/\\home\\wmnlab\\jackbedford\\data\\2023-09-21\\UDP_Bandlock_9S_Phone_Brown\\sm02\\#01\\data\\udp_dnlk_loss_latency\\home\\wmnlab\\jackbedford\\data\\2023-09-21\\UDP_Bandlock_9S_Phone_Brown\\sm08\\#01\\data\\udp_dnlk_loss_latency.csv\n",
      "93/216 /home/wmnlab/jackbedford/data/2023-09-21/UDP_Bandlock_9S_Phone_Brown/sm03/#01/data/handover_info_log.csv\n",
      "93/216 /home/wmnlab/jackbedford/data/2023-09-21/UDP_Bandlock_9S_Phone_Brown/sm03/#01/data/udp_dnlk_loss_latency.csv\n",
      "93/216 /home/wmnlab/jackbedford/data/2023-09-21/UDP_Bandlock_9S_Phone_Brown/sm03/#01/data/udp_uplk_loss_latency.csv\n",
      "93/216 /home/wmnlab/jackbedford/data/2023-09-21/UDP_Bandlock_9S_Phone_Brown/sm04/#01/data/handover_info_log.csv\n",
      "93/216 /home/wmnlab/jackbedford/data/2023-09-21/UDP_Bandlock_9S_Phone_Brown/sm04/#01/data/udp_dnlk_loss_latency.csv\n",
      "93/216 /home/wmnlab/jackbedford/data/2023-09-21/UDP_Bandlock_9S_Phone_Brown/sm04/#01/data/udp_uplk_loss_latency.csv\n"
     ]
    },
    {
     "data": {
      "application/vnd.jupyter.widget-view+json": {
       "model_id": "cf4caa9af08c4b2f92f17b872b4ac620",
       "version_major": 2,
       "version_minor": 0
      },
      "text/plain": [
       "  0%|                                                                                                         …"
      ]
     },
     "metadata": {},
     "output_type": "display_data"
    },
    {
     "name": "stdout",
     "output_type": "stream",
     "text": [
      "./20240312_150032342e_newest/20240314_060073cc2b/results/20240314_09355400000_d7d867943ca2abed_1.5corr/\\home\\wmnlab\\jackbedford\\data\\2023-09-21\\UDP_Bandlock_9S_Phone_Brown\\sm03\\#01\\data\\udp_dnlk_loss_latency\\home\\wmnlab\\jackbedford\\data\\2023-09-21\\UDP_Bandlock_9S_Phone_Brown\\sm04\\#01\\data\\udp_dnlk_loss_latency.csv\n",
      "94/216 /home/wmnlab/jackbedford/data/2023-09-21/UDP_Bandlock_9S_Phone_Brown/sm03/#01/data/handover_info_log.csv\n",
      "94/216 /home/wmnlab/jackbedford/data/2023-09-21/UDP_Bandlock_9S_Phone_Brown/sm03/#01/data/udp_dnlk_loss_latency.csv\n",
      "94/216 /home/wmnlab/jackbedford/data/2023-09-21/UDP_Bandlock_9S_Phone_Brown/sm03/#01/data/udp_uplk_loss_latency.csv\n",
      "94/216 /home/wmnlab/jackbedford/data/2023-09-21/UDP_Bandlock_9S_Phone_Brown/sm05/#01/data/handover_info_log.csv\n",
      "94/216 /home/wmnlab/jackbedford/data/2023-09-21/UDP_Bandlock_9S_Phone_Brown/sm05/#01/data/udp_dnlk_loss_latency.csv\n",
      "94/216 /home/wmnlab/jackbedford/data/2023-09-21/UDP_Bandlock_9S_Phone_Brown/sm05/#01/data/udp_uplk_loss_latency.csv\n"
     ]
    },
    {
     "data": {
      "application/vnd.jupyter.widget-view+json": {
       "model_id": "151a8f40e9bf4b1b9e7058e071a0186e",
       "version_major": 2,
       "version_minor": 0
      },
      "text/plain": [
       "  0%|                                                                                                         …"
      ]
     },
     "metadata": {},
     "output_type": "display_data"
    },
    {
     "name": "stdout",
     "output_type": "stream",
     "text": [
      "./20240312_150032342e_newest/20240314_060073cc2b/results/20240314_09355400000_d7d867943ca2abed_1.5corr/\\home\\wmnlab\\jackbedford\\data\\2023-09-21\\UDP_Bandlock_9S_Phone_Brown\\sm03\\#01\\data\\udp_dnlk_loss_latency\\home\\wmnlab\\jackbedford\\data\\2023-09-21\\UDP_Bandlock_9S_Phone_Brown\\sm05\\#01\\data\\udp_dnlk_loss_latency.csv\n",
      "95/216 /home/wmnlab/jackbedford/data/2023-09-21/UDP_Bandlock_9S_Phone_Brown/sm03/#01/data/handover_info_log.csv\n",
      "95/216 /home/wmnlab/jackbedford/data/2023-09-21/UDP_Bandlock_9S_Phone_Brown/sm03/#01/data/udp_dnlk_loss_latency.csv\n",
      "95/216 /home/wmnlab/jackbedford/data/2023-09-21/UDP_Bandlock_9S_Phone_Brown/sm03/#01/data/udp_uplk_loss_latency.csv\n",
      "95/216 /home/wmnlab/jackbedford/data/2023-09-21/UDP_Bandlock_9S_Phone_Brown/sm06/#01/data/handover_info_log.csv\n",
      "95/216 /home/wmnlab/jackbedford/data/2023-09-21/UDP_Bandlock_9S_Phone_Brown/sm06/#01/data/udp_dnlk_loss_latency.csv\n",
      "95/216 /home/wmnlab/jackbedford/data/2023-09-21/UDP_Bandlock_9S_Phone_Brown/sm06/#01/data/udp_uplk_loss_latency.csv\n"
     ]
    },
    {
     "data": {
      "application/vnd.jupyter.widget-view+json": {
       "model_id": "3676a30c213f4afabb5be410a678f0a1",
       "version_major": 2,
       "version_minor": 0
      },
      "text/plain": [
       "  0%|                                                                                                         …"
      ]
     },
     "metadata": {},
     "output_type": "display_data"
    },
    {
     "name": "stdout",
     "output_type": "stream",
     "text": [
      "./20240312_150032342e_newest/20240314_060073cc2b/results/20240314_09355400000_d7d867943ca2abed_1.5corr/\\home\\wmnlab\\jackbedford\\data\\2023-09-21\\UDP_Bandlock_9S_Phone_Brown\\sm03\\#01\\data\\udp_dnlk_loss_latency\\home\\wmnlab\\jackbedford\\data\\2023-09-21\\UDP_Bandlock_9S_Phone_Brown\\sm06\\#01\\data\\udp_dnlk_loss_latency.csv\n",
      "96/216 /home/wmnlab/jackbedford/data/2023-09-21/UDP_Bandlock_9S_Phone_Brown/sm03/#01/data/handover_info_log.csv\n",
      "96/216 /home/wmnlab/jackbedford/data/2023-09-21/UDP_Bandlock_9S_Phone_Brown/sm03/#01/data/udp_dnlk_loss_latency.csv\n",
      "96/216 /home/wmnlab/jackbedford/data/2023-09-21/UDP_Bandlock_9S_Phone_Brown/sm03/#01/data/udp_uplk_loss_latency.csv\n",
      "96/216 /home/wmnlab/jackbedford/data/2023-09-21/UDP_Bandlock_9S_Phone_Brown/sm07/#01/data/handover_info_log.csv\n",
      "96/216 /home/wmnlab/jackbedford/data/2023-09-21/UDP_Bandlock_9S_Phone_Brown/sm07/#01/data/udp_dnlk_loss_latency.csv\n",
      "96/216 /home/wmnlab/jackbedford/data/2023-09-21/UDP_Bandlock_9S_Phone_Brown/sm07/#01/data/udp_uplk_loss_latency.csv\n"
     ]
    },
    {
     "data": {
      "application/vnd.jupyter.widget-view+json": {
       "model_id": "2b9b93363b324da8a3c1ac7d212f6761",
       "version_major": 2,
       "version_minor": 0
      },
      "text/plain": [
       "  0%|                                                                                                         …"
      ]
     },
     "metadata": {},
     "output_type": "display_data"
    },
    {
     "name": "stdout",
     "output_type": "stream",
     "text": [
      "./20240312_150032342e_newest/20240314_060073cc2b/results/20240314_09355400000_d7d867943ca2abed_1.5corr/\\home\\wmnlab\\jackbedford\\data\\2023-09-21\\UDP_Bandlock_9S_Phone_Brown\\sm03\\#01\\data\\udp_dnlk_loss_latency\\home\\wmnlab\\jackbedford\\data\\2023-09-21\\UDP_Bandlock_9S_Phone_Brown\\sm07\\#01\\data\\udp_dnlk_loss_latency.csv\n",
      "97/216 /home/wmnlab/jackbedford/data/2023-09-21/UDP_Bandlock_9S_Phone_Brown/sm03/#01/data/handover_info_log.csv\n",
      "97/216 /home/wmnlab/jackbedford/data/2023-09-21/UDP_Bandlock_9S_Phone_Brown/sm03/#01/data/udp_dnlk_loss_latency.csv\n",
      "97/216 /home/wmnlab/jackbedford/data/2023-09-21/UDP_Bandlock_9S_Phone_Brown/sm03/#01/data/udp_uplk_loss_latency.csv\n",
      "97/216 /home/wmnlab/jackbedford/data/2023-09-21/UDP_Bandlock_9S_Phone_Brown/sm08/#01/data/handover_info_log.csv\n",
      "97/216 /home/wmnlab/jackbedford/data/2023-09-21/UDP_Bandlock_9S_Phone_Brown/sm08/#01/data/udp_dnlk_loss_latency.csv\n",
      "97/216 /home/wmnlab/jackbedford/data/2023-09-21/UDP_Bandlock_9S_Phone_Brown/sm08/#01/data/udp_uplk_loss_latency.csv\n"
     ]
    },
    {
     "data": {
      "application/vnd.jupyter.widget-view+json": {
       "model_id": "0e1f773fd9ff4b2ea80cce964fccf980",
       "version_major": 2,
       "version_minor": 0
      },
      "text/plain": [
       "  0%|                                                                                                         …"
      ]
     },
     "metadata": {},
     "output_type": "display_data"
    },
    {
     "name": "stdout",
     "output_type": "stream",
     "text": [
      "./20240312_150032342e_newest/20240314_060073cc2b/results/20240314_09355400000_d7d867943ca2abed_1.5corr/\\home\\wmnlab\\jackbedford\\data\\2023-09-21\\UDP_Bandlock_9S_Phone_Brown\\sm03\\#01\\data\\udp_dnlk_loss_latency\\home\\wmnlab\\jackbedford\\data\\2023-09-21\\UDP_Bandlock_9S_Phone_Brown\\sm08\\#01\\data\\udp_dnlk_loss_latency.csv\n",
      "98/216 /home/wmnlab/jackbedford/data/2023-09-21/UDP_Bandlock_9S_Phone_Brown/sm04/#01/data/handover_info_log.csv\n",
      "98/216 /home/wmnlab/jackbedford/data/2023-09-21/UDP_Bandlock_9S_Phone_Brown/sm04/#01/data/udp_dnlk_loss_latency.csv\n",
      "98/216 /home/wmnlab/jackbedford/data/2023-09-21/UDP_Bandlock_9S_Phone_Brown/sm04/#01/data/udp_uplk_loss_latency.csv\n",
      "98/216 /home/wmnlab/jackbedford/data/2023-09-21/UDP_Bandlock_9S_Phone_Brown/sm05/#01/data/handover_info_log.csv\n",
      "98/216 /home/wmnlab/jackbedford/data/2023-09-21/UDP_Bandlock_9S_Phone_Brown/sm05/#01/data/udp_dnlk_loss_latency.csv\n",
      "98/216 /home/wmnlab/jackbedford/data/2023-09-21/UDP_Bandlock_9S_Phone_Brown/sm05/#01/data/udp_uplk_loss_latency.csv\n"
     ]
    },
    {
     "data": {
      "application/vnd.jupyter.widget-view+json": {
       "model_id": "f0bfe31f1a6a47f5b833e0d3c29d28e0",
       "version_major": 2,
       "version_minor": 0
      },
      "text/plain": [
       "  0%|                                                                                                         …"
      ]
     },
     "metadata": {},
     "output_type": "display_data"
    },
    {
     "name": "stdout",
     "output_type": "stream",
     "text": [
      "./20240312_150032342e_newest/20240314_060073cc2b/results/20240314_09355400000_d7d867943ca2abed_1.5corr/\\home\\wmnlab\\jackbedford\\data\\2023-09-21\\UDP_Bandlock_9S_Phone_Brown\\sm04\\#01\\data\\udp_dnlk_loss_latency\\home\\wmnlab\\jackbedford\\data\\2023-09-21\\UDP_Bandlock_9S_Phone_Brown\\sm05\\#01\\data\\udp_dnlk_loss_latency.csv\n",
      "99/216 /home/wmnlab/jackbedford/data/2023-09-21/UDP_Bandlock_9S_Phone_Brown/sm04/#01/data/handover_info_log.csv\n",
      "99/216 /home/wmnlab/jackbedford/data/2023-09-21/UDP_Bandlock_9S_Phone_Brown/sm04/#01/data/udp_dnlk_loss_latency.csv\n",
      "99/216 /home/wmnlab/jackbedford/data/2023-09-21/UDP_Bandlock_9S_Phone_Brown/sm04/#01/data/udp_uplk_loss_latency.csv\n",
      "99/216 /home/wmnlab/jackbedford/data/2023-09-21/UDP_Bandlock_9S_Phone_Brown/sm06/#01/data/handover_info_log.csv\n",
      "99/216 /home/wmnlab/jackbedford/data/2023-09-21/UDP_Bandlock_9S_Phone_Brown/sm06/#01/data/udp_dnlk_loss_latency.csv\n",
      "99/216 /home/wmnlab/jackbedford/data/2023-09-21/UDP_Bandlock_9S_Phone_Brown/sm06/#01/data/udp_uplk_loss_latency.csv\n"
     ]
    },
    {
     "data": {
      "application/vnd.jupyter.widget-view+json": {
       "model_id": "a3d00b962cda45358c268a2514919d75",
       "version_major": 2,
       "version_minor": 0
      },
      "text/plain": [
       "  0%|                                                                                                         …"
      ]
     },
     "metadata": {},
     "output_type": "display_data"
    },
    {
     "name": "stdout",
     "output_type": "stream",
     "text": [
      "./20240312_150032342e_newest/20240314_060073cc2b/results/20240314_09355400000_d7d867943ca2abed_1.5corr/\\home\\wmnlab\\jackbedford\\data\\2023-09-21\\UDP_Bandlock_9S_Phone_Brown\\sm04\\#01\\data\\udp_dnlk_loss_latency\\home\\wmnlab\\jackbedford\\data\\2023-09-21\\UDP_Bandlock_9S_Phone_Brown\\sm06\\#01\\data\\udp_dnlk_loss_latency.csv\n",
      "100/216 /home/wmnlab/jackbedford/data/2023-09-21/UDP_Bandlock_9S_Phone_Brown/sm04/#01/data/handover_info_log.csv\n",
      "100/216 /home/wmnlab/jackbedford/data/2023-09-21/UDP_Bandlock_9S_Phone_Brown/sm04/#01/data/udp_dnlk_loss_latency.csv\n",
      "100/216 /home/wmnlab/jackbedford/data/2023-09-21/UDP_Bandlock_9S_Phone_Brown/sm04/#01/data/udp_uplk_loss_latency.csv\n",
      "100/216 /home/wmnlab/jackbedford/data/2023-09-21/UDP_Bandlock_9S_Phone_Brown/sm07/#01/data/handover_info_log.csv\n",
      "100/216 /home/wmnlab/jackbedford/data/2023-09-21/UDP_Bandlock_9S_Phone_Brown/sm07/#01/data/udp_dnlk_loss_latency.csv\n",
      "100/216 /home/wmnlab/jackbedford/data/2023-09-21/UDP_Bandlock_9S_Phone_Brown/sm07/#01/data/udp_uplk_loss_latency.csv\n"
     ]
    },
    {
     "data": {
      "application/vnd.jupyter.widget-view+json": {
       "model_id": "7dfeaeed52e441d0a49437ef714fa47f",
       "version_major": 2,
       "version_minor": 0
      },
      "text/plain": [
       "  0%|                                                                                                         …"
      ]
     },
     "metadata": {},
     "output_type": "display_data"
    },
    {
     "name": "stdout",
     "output_type": "stream",
     "text": [
      "./20240312_150032342e_newest/20240314_060073cc2b/results/20240314_09355400000_d7d867943ca2abed_1.5corr/\\home\\wmnlab\\jackbedford\\data\\2023-09-21\\UDP_Bandlock_9S_Phone_Brown\\sm04\\#01\\data\\udp_dnlk_loss_latency\\home\\wmnlab\\jackbedford\\data\\2023-09-21\\UDP_Bandlock_9S_Phone_Brown\\sm07\\#01\\data\\udp_dnlk_loss_latency.csv\n",
      "101/216 /home/wmnlab/jackbedford/data/2023-09-21/UDP_Bandlock_9S_Phone_Brown/sm04/#01/data/handover_info_log.csv\n",
      "101/216 /home/wmnlab/jackbedford/data/2023-09-21/UDP_Bandlock_9S_Phone_Brown/sm04/#01/data/udp_dnlk_loss_latency.csv\n",
      "101/216 /home/wmnlab/jackbedford/data/2023-09-21/UDP_Bandlock_9S_Phone_Brown/sm04/#01/data/udp_uplk_loss_latency.csv\n",
      "101/216 /home/wmnlab/jackbedford/data/2023-09-21/UDP_Bandlock_9S_Phone_Brown/sm08/#01/data/handover_info_log.csv\n",
      "101/216 /home/wmnlab/jackbedford/data/2023-09-21/UDP_Bandlock_9S_Phone_Brown/sm08/#01/data/udp_dnlk_loss_latency.csv\n",
      "101/216 /home/wmnlab/jackbedford/data/2023-09-21/UDP_Bandlock_9S_Phone_Brown/sm08/#01/data/udp_uplk_loss_latency.csv\n"
     ]
    },
    {
     "data": {
      "application/vnd.jupyter.widget-view+json": {
       "model_id": "12fa7d4188954371ad00acbb063171ee",
       "version_major": 2,
       "version_minor": 0
      },
      "text/plain": [
       "  0%|                                                                                                         …"
      ]
     },
     "metadata": {},
     "output_type": "display_data"
    },
    {
     "name": "stdout",
     "output_type": "stream",
     "text": [
      "./20240312_150032342e_newest/20240314_060073cc2b/results/20240314_09355400000_d7d867943ca2abed_1.5corr/\\home\\wmnlab\\jackbedford\\data\\2023-09-21\\UDP_Bandlock_9S_Phone_Brown\\sm04\\#01\\data\\udp_dnlk_loss_latency\\home\\wmnlab\\jackbedford\\data\\2023-09-21\\UDP_Bandlock_9S_Phone_Brown\\sm08\\#01\\data\\udp_dnlk_loss_latency.csv\n",
      "102/216 /home/wmnlab/jackbedford/data/2023-09-21/UDP_Bandlock_9S_Phone_Brown/sm05/#01/data/handover_info_log.csv\n",
      "102/216 /home/wmnlab/jackbedford/data/2023-09-21/UDP_Bandlock_9S_Phone_Brown/sm05/#01/data/udp_dnlk_loss_latency.csv\n",
      "102/216 /home/wmnlab/jackbedford/data/2023-09-21/UDP_Bandlock_9S_Phone_Brown/sm05/#01/data/udp_uplk_loss_latency.csv\n",
      "102/216 /home/wmnlab/jackbedford/data/2023-09-21/UDP_Bandlock_9S_Phone_Brown/sm06/#01/data/handover_info_log.csv\n",
      "102/216 /home/wmnlab/jackbedford/data/2023-09-21/UDP_Bandlock_9S_Phone_Brown/sm06/#01/data/udp_dnlk_loss_latency.csv\n",
      "102/216 /home/wmnlab/jackbedford/data/2023-09-21/UDP_Bandlock_9S_Phone_Brown/sm06/#01/data/udp_uplk_loss_latency.csv\n"
     ]
    },
    {
     "data": {
      "application/vnd.jupyter.widget-view+json": {
       "model_id": "cb5b592092d14ba0aca021881c353c80",
       "version_major": 2,
       "version_minor": 0
      },
      "text/plain": [
       "  0%|                                                                                                         …"
      ]
     },
     "metadata": {},
     "output_type": "display_data"
    },
    {
     "name": "stdout",
     "output_type": "stream",
     "text": [
      "./20240312_150032342e_newest/20240314_060073cc2b/results/20240314_09355400000_d7d867943ca2abed_1.5corr/\\home\\wmnlab\\jackbedford\\data\\2023-09-21\\UDP_Bandlock_9S_Phone_Brown\\sm05\\#01\\data\\udp_dnlk_loss_latency\\home\\wmnlab\\jackbedford\\data\\2023-09-21\\UDP_Bandlock_9S_Phone_Brown\\sm06\\#01\\data\\udp_dnlk_loss_latency.csv\n",
      "103/216 /home/wmnlab/jackbedford/data/2023-09-21/UDP_Bandlock_9S_Phone_Brown/sm05/#01/data/handover_info_log.csv\n",
      "103/216 /home/wmnlab/jackbedford/data/2023-09-21/UDP_Bandlock_9S_Phone_Brown/sm05/#01/data/udp_dnlk_loss_latency.csv\n",
      "103/216 /home/wmnlab/jackbedford/data/2023-09-21/UDP_Bandlock_9S_Phone_Brown/sm05/#01/data/udp_uplk_loss_latency.csv\n",
      "103/216 /home/wmnlab/jackbedford/data/2023-09-21/UDP_Bandlock_9S_Phone_Brown/sm07/#01/data/handover_info_log.csv\n",
      "103/216 /home/wmnlab/jackbedford/data/2023-09-21/UDP_Bandlock_9S_Phone_Brown/sm07/#01/data/udp_dnlk_loss_latency.csv\n",
      "103/216 /home/wmnlab/jackbedford/data/2023-09-21/UDP_Bandlock_9S_Phone_Brown/sm07/#01/data/udp_uplk_loss_latency.csv\n"
     ]
    },
    {
     "data": {
      "application/vnd.jupyter.widget-view+json": {
       "model_id": "7efec1dfc05d450887c7e0264a0ff314",
       "version_major": 2,
       "version_minor": 0
      },
      "text/plain": [
       "  0%|                                                                                                         …"
      ]
     },
     "metadata": {},
     "output_type": "display_data"
    },
    {
     "name": "stdout",
     "output_type": "stream",
     "text": [
      "./20240312_150032342e_newest/20240314_060073cc2b/results/20240314_09355400000_d7d867943ca2abed_1.5corr/\\home\\wmnlab\\jackbedford\\data\\2023-09-21\\UDP_Bandlock_9S_Phone_Brown\\sm05\\#01\\data\\udp_dnlk_loss_latency\\home\\wmnlab\\jackbedford\\data\\2023-09-21\\UDP_Bandlock_9S_Phone_Brown\\sm07\\#01\\data\\udp_dnlk_loss_latency.csv\n",
      "104/216 /home/wmnlab/jackbedford/data/2023-09-21/UDP_Bandlock_9S_Phone_Brown/sm05/#01/data/handover_info_log.csv\n",
      "104/216 /home/wmnlab/jackbedford/data/2023-09-21/UDP_Bandlock_9S_Phone_Brown/sm05/#01/data/udp_dnlk_loss_latency.csv\n",
      "104/216 /home/wmnlab/jackbedford/data/2023-09-21/UDP_Bandlock_9S_Phone_Brown/sm05/#01/data/udp_uplk_loss_latency.csv\n",
      "104/216 /home/wmnlab/jackbedford/data/2023-09-21/UDP_Bandlock_9S_Phone_Brown/sm08/#01/data/handover_info_log.csv\n",
      "104/216 /home/wmnlab/jackbedford/data/2023-09-21/UDP_Bandlock_9S_Phone_Brown/sm08/#01/data/udp_dnlk_loss_latency.csv\n",
      "104/216 /home/wmnlab/jackbedford/data/2023-09-21/UDP_Bandlock_9S_Phone_Brown/sm08/#01/data/udp_uplk_loss_latency.csv\n"
     ]
    },
    {
     "data": {
      "application/vnd.jupyter.widget-view+json": {
       "model_id": "24592728e9db433caa9e1f485c1d0ff3",
       "version_major": 2,
       "version_minor": 0
      },
      "text/plain": [
       "  0%|                                                                                                         …"
      ]
     },
     "metadata": {},
     "output_type": "display_data"
    },
    {
     "name": "stdout",
     "output_type": "stream",
     "text": [
      "./20240312_150032342e_newest/20240314_060073cc2b/results/20240314_09355400000_d7d867943ca2abed_1.5corr/\\home\\wmnlab\\jackbedford\\data\\2023-09-21\\UDP_Bandlock_9S_Phone_Brown\\sm05\\#01\\data\\udp_dnlk_loss_latency\\home\\wmnlab\\jackbedford\\data\\2023-09-21\\UDP_Bandlock_9S_Phone_Brown\\sm08\\#01\\data\\udp_dnlk_loss_latency.csv\n",
      "105/216 /home/wmnlab/jackbedford/data/2023-09-21/UDP_Bandlock_9S_Phone_Brown/sm06/#01/data/handover_info_log.csv\n",
      "105/216 /home/wmnlab/jackbedford/data/2023-09-21/UDP_Bandlock_9S_Phone_Brown/sm06/#01/data/udp_dnlk_loss_latency.csv\n",
      "105/216 /home/wmnlab/jackbedford/data/2023-09-21/UDP_Bandlock_9S_Phone_Brown/sm06/#01/data/udp_uplk_loss_latency.csv\n",
      "105/216 /home/wmnlab/jackbedford/data/2023-09-21/UDP_Bandlock_9S_Phone_Brown/sm07/#01/data/handover_info_log.csv\n",
      "105/216 /home/wmnlab/jackbedford/data/2023-09-21/UDP_Bandlock_9S_Phone_Brown/sm07/#01/data/udp_dnlk_loss_latency.csv\n",
      "105/216 /home/wmnlab/jackbedford/data/2023-09-21/UDP_Bandlock_9S_Phone_Brown/sm07/#01/data/udp_uplk_loss_latency.csv\n"
     ]
    },
    {
     "data": {
      "application/vnd.jupyter.widget-view+json": {
       "model_id": "a790b88aaad849229d57ccc488444214",
       "version_major": 2,
       "version_minor": 0
      },
      "text/plain": [
       "  0%|                                                                                                         …"
      ]
     },
     "metadata": {},
     "output_type": "display_data"
    },
    {
     "name": "stdout",
     "output_type": "stream",
     "text": [
      "./20240312_150032342e_newest/20240314_060073cc2b/results/20240314_09355400000_d7d867943ca2abed_1.5corr/\\home\\wmnlab\\jackbedford\\data\\2023-09-21\\UDP_Bandlock_9S_Phone_Brown\\sm06\\#01\\data\\udp_dnlk_loss_latency\\home\\wmnlab\\jackbedford\\data\\2023-09-21\\UDP_Bandlock_9S_Phone_Brown\\sm07\\#01\\data\\udp_dnlk_loss_latency.csv\n",
      "106/216 /home/wmnlab/jackbedford/data/2023-09-21/UDP_Bandlock_9S_Phone_Brown/sm06/#01/data/handover_info_log.csv\n",
      "106/216 /home/wmnlab/jackbedford/data/2023-09-21/UDP_Bandlock_9S_Phone_Brown/sm06/#01/data/udp_dnlk_loss_latency.csv\n",
      "106/216 /home/wmnlab/jackbedford/data/2023-09-21/UDP_Bandlock_9S_Phone_Brown/sm06/#01/data/udp_uplk_loss_latency.csv\n",
      "106/216 /home/wmnlab/jackbedford/data/2023-09-21/UDP_Bandlock_9S_Phone_Brown/sm08/#01/data/handover_info_log.csv\n",
      "106/216 /home/wmnlab/jackbedford/data/2023-09-21/UDP_Bandlock_9S_Phone_Brown/sm08/#01/data/udp_dnlk_loss_latency.csv\n",
      "106/216 /home/wmnlab/jackbedford/data/2023-09-21/UDP_Bandlock_9S_Phone_Brown/sm08/#01/data/udp_uplk_loss_latency.csv\n"
     ]
    },
    {
     "data": {
      "application/vnd.jupyter.widget-view+json": {
       "model_id": "c110bb04bbdd40498c951b5084b4a341",
       "version_major": 2,
       "version_minor": 0
      },
      "text/plain": [
       "  0%|                                                                                                         …"
      ]
     },
     "metadata": {},
     "output_type": "display_data"
    },
    {
     "name": "stdout",
     "output_type": "stream",
     "text": [
      "./20240312_150032342e_newest/20240314_060073cc2b/results/20240314_09355400000_d7d867943ca2abed_1.5corr/\\home\\wmnlab\\jackbedford\\data\\2023-09-21\\UDP_Bandlock_9S_Phone_Brown\\sm06\\#01\\data\\udp_dnlk_loss_latency\\home\\wmnlab\\jackbedford\\data\\2023-09-21\\UDP_Bandlock_9S_Phone_Brown\\sm08\\#01\\data\\udp_dnlk_loss_latency.csv\n",
      "107/216 /home/wmnlab/jackbedford/data/2023-09-21/UDP_Bandlock_9S_Phone_Brown/sm07/#01/data/handover_info_log.csv\n",
      "107/216 /home/wmnlab/jackbedford/data/2023-09-21/UDP_Bandlock_9S_Phone_Brown/sm07/#01/data/udp_dnlk_loss_latency.csv\n",
      "107/216 /home/wmnlab/jackbedford/data/2023-09-21/UDP_Bandlock_9S_Phone_Brown/sm07/#01/data/udp_uplk_loss_latency.csv\n",
      "107/216 /home/wmnlab/jackbedford/data/2023-09-21/UDP_Bandlock_9S_Phone_Brown/sm08/#01/data/handover_info_log.csv\n",
      "107/216 /home/wmnlab/jackbedford/data/2023-09-21/UDP_Bandlock_9S_Phone_Brown/sm08/#01/data/udp_dnlk_loss_latency.csv\n",
      "107/216 /home/wmnlab/jackbedford/data/2023-09-21/UDP_Bandlock_9S_Phone_Brown/sm08/#01/data/udp_uplk_loss_latency.csv\n"
     ]
    },
    {
     "data": {
      "application/vnd.jupyter.widget-view+json": {
       "model_id": "2475d2d5be6842f7a38b11c84287499b",
       "version_major": 2,
       "version_minor": 0
      },
      "text/plain": [
       "  0%|                                                                                                         …"
      ]
     },
     "metadata": {},
     "output_type": "display_data"
    },
    {
     "name": "stdout",
     "output_type": "stream",
     "text": [
      "./20240312_150032342e_newest/20240314_060073cc2b/results/20240314_09355400000_d7d867943ca2abed_1.5corr/\\home\\wmnlab\\jackbedford\\data\\2023-09-21\\UDP_Bandlock_9S_Phone_Brown\\sm07\\#01\\data\\udp_dnlk_loss_latency\\home\\wmnlab\\jackbedford\\data\\2023-09-21\\UDP_Bandlock_9S_Phone_Brown\\sm08\\#01\\data\\udp_dnlk_loss_latency.csv\n",
      "108/216 /home/wmnlab/jackbedford/data/2023-09-21/UDP_Bandlock_9S_Phone_Brown/sm00/#02/data/handover_info_log.csv\n",
      "108/216 /home/wmnlab/jackbedford/data/2023-09-21/UDP_Bandlock_9S_Phone_Brown/sm00/#02/data/udp_dnlk_loss_latency.csv\n",
      "108/216 /home/wmnlab/jackbedford/data/2023-09-21/UDP_Bandlock_9S_Phone_Brown/sm00/#02/data/udp_uplk_loss_latency.csv\n",
      "108/216 /home/wmnlab/jackbedford/data/2023-09-21/UDP_Bandlock_9S_Phone_Brown/sm01/#02/data/handover_info_log.csv\n",
      "108/216 /home/wmnlab/jackbedford/data/2023-09-21/UDP_Bandlock_9S_Phone_Brown/sm01/#02/data/udp_dnlk_loss_latency.csv\n",
      "108/216 /home/wmnlab/jackbedford/data/2023-09-21/UDP_Bandlock_9S_Phone_Brown/sm01/#02/data/udp_uplk_loss_latency.csv\n"
     ]
    },
    {
     "data": {
      "application/vnd.jupyter.widget-view+json": {
       "model_id": "1ecf3ee0f0c44e32a89fed003da99d5e",
       "version_major": 2,
       "version_minor": 0
      },
      "text/plain": [
       "  0%|                                                                                                         …"
      ]
     },
     "metadata": {},
     "output_type": "display_data"
    },
    {
     "name": "stdout",
     "output_type": "stream",
     "text": [
      "./20240312_150032342e_newest/20240314_060073cc2b/results/20240314_09355400000_d7d867943ca2abed_1.5corr/\\home\\wmnlab\\jackbedford\\data\\2023-09-21\\UDP_Bandlock_9S_Phone_Brown\\sm00\\#02\\data\\udp_dnlk_loss_latency\\home\\wmnlab\\jackbedford\\data\\2023-09-21\\UDP_Bandlock_9S_Phone_Brown\\sm01\\#02\\data\\udp_dnlk_loss_latency.csv\n",
      "109/216 /home/wmnlab/jackbedford/data/2023-09-21/UDP_Bandlock_9S_Phone_Brown/sm00/#02/data/handover_info_log.csv\n",
      "109/216 /home/wmnlab/jackbedford/data/2023-09-21/UDP_Bandlock_9S_Phone_Brown/sm00/#02/data/udp_dnlk_loss_latency.csv\n",
      "109/216 /home/wmnlab/jackbedford/data/2023-09-21/UDP_Bandlock_9S_Phone_Brown/sm00/#02/data/udp_uplk_loss_latency.csv\n",
      "109/216 /home/wmnlab/jackbedford/data/2023-09-21/UDP_Bandlock_9S_Phone_Brown/sm02/#02/data/handover_info_log.csv\n",
      "109/216 /home/wmnlab/jackbedford/data/2023-09-21/UDP_Bandlock_9S_Phone_Brown/sm02/#02/data/udp_dnlk_loss_latency.csv\n",
      "109/216 /home/wmnlab/jackbedford/data/2023-09-21/UDP_Bandlock_9S_Phone_Brown/sm02/#02/data/udp_uplk_loss_latency.csv\n"
     ]
    },
    {
     "data": {
      "application/vnd.jupyter.widget-view+json": {
       "model_id": "60226c39ddc0430e91911338f5550abf",
       "version_major": 2,
       "version_minor": 0
      },
      "text/plain": [
       "  0%|                                                                                                         …"
      ]
     },
     "metadata": {},
     "output_type": "display_data"
    },
    {
     "name": "stdout",
     "output_type": "stream",
     "text": [
      "./20240312_150032342e_newest/20240314_060073cc2b/results/20240314_09355400000_d7d867943ca2abed_1.5corr/\\home\\wmnlab\\jackbedford\\data\\2023-09-21\\UDP_Bandlock_9S_Phone_Brown\\sm00\\#02\\data\\udp_dnlk_loss_latency\\home\\wmnlab\\jackbedford\\data\\2023-09-21\\UDP_Bandlock_9S_Phone_Brown\\sm02\\#02\\data\\udp_dnlk_loss_latency.csv\n",
      "110/216 /home/wmnlab/jackbedford/data/2023-09-21/UDP_Bandlock_9S_Phone_Brown/sm00/#02/data/handover_info_log.csv\n",
      "110/216 /home/wmnlab/jackbedford/data/2023-09-21/UDP_Bandlock_9S_Phone_Brown/sm00/#02/data/udp_dnlk_loss_latency.csv\n",
      "110/216 /home/wmnlab/jackbedford/data/2023-09-21/UDP_Bandlock_9S_Phone_Brown/sm00/#02/data/udp_uplk_loss_latency.csv\n",
      "110/216 /home/wmnlab/jackbedford/data/2023-09-21/UDP_Bandlock_9S_Phone_Brown/sm03/#02/data/handover_info_log.csv\n",
      "110/216 /home/wmnlab/jackbedford/data/2023-09-21/UDP_Bandlock_9S_Phone_Brown/sm03/#02/data/udp_dnlk_loss_latency.csv\n",
      "110/216 /home/wmnlab/jackbedford/data/2023-09-21/UDP_Bandlock_9S_Phone_Brown/sm03/#02/data/udp_uplk_loss_latency.csv\n"
     ]
    },
    {
     "data": {
      "application/vnd.jupyter.widget-view+json": {
       "model_id": "1ddaae816f6045c1ba60c3fa6c25d031",
       "version_major": 2,
       "version_minor": 0
      },
      "text/plain": [
       "  0%|                                                                                                         …"
      ]
     },
     "metadata": {},
     "output_type": "display_data"
    },
    {
     "name": "stdout",
     "output_type": "stream",
     "text": [
      "./20240312_150032342e_newest/20240314_060073cc2b/results/20240314_09355400000_d7d867943ca2abed_1.5corr/\\home\\wmnlab\\jackbedford\\data\\2023-09-21\\UDP_Bandlock_9S_Phone_Brown\\sm00\\#02\\data\\udp_dnlk_loss_latency\\home\\wmnlab\\jackbedford\\data\\2023-09-21\\UDP_Bandlock_9S_Phone_Brown\\sm03\\#02\\data\\udp_dnlk_loss_latency.csv\n",
      "111/216 /home/wmnlab/jackbedford/data/2023-09-21/UDP_Bandlock_9S_Phone_Brown/sm00/#02/data/handover_info_log.csv\n",
      "111/216 /home/wmnlab/jackbedford/data/2023-09-21/UDP_Bandlock_9S_Phone_Brown/sm00/#02/data/udp_dnlk_loss_latency.csv\n",
      "111/216 /home/wmnlab/jackbedford/data/2023-09-21/UDP_Bandlock_9S_Phone_Brown/sm00/#02/data/udp_uplk_loss_latency.csv\n",
      "111/216 /home/wmnlab/jackbedford/data/2023-09-21/UDP_Bandlock_9S_Phone_Brown/sm04/#02/data/handover_info_log.csv\n",
      "111/216 /home/wmnlab/jackbedford/data/2023-09-21/UDP_Bandlock_9S_Phone_Brown/sm04/#02/data/udp_dnlk_loss_latency.csv\n",
      "111/216 /home/wmnlab/jackbedford/data/2023-09-21/UDP_Bandlock_9S_Phone_Brown/sm04/#02/data/udp_uplk_loss_latency.csv\n"
     ]
    },
    {
     "data": {
      "application/vnd.jupyter.widget-view+json": {
       "model_id": "dc11b7264e2f4968927502137e517ccc",
       "version_major": 2,
       "version_minor": 0
      },
      "text/plain": [
       "  0%|                                                                                                         …"
      ]
     },
     "metadata": {},
     "output_type": "display_data"
    },
    {
     "name": "stdout",
     "output_type": "stream",
     "text": [
      "./20240312_150032342e_newest/20240314_060073cc2b/results/20240314_09355400000_d7d867943ca2abed_1.5corr/\\home\\wmnlab\\jackbedford\\data\\2023-09-21\\UDP_Bandlock_9S_Phone_Brown\\sm00\\#02\\data\\udp_dnlk_loss_latency\\home\\wmnlab\\jackbedford\\data\\2023-09-21\\UDP_Bandlock_9S_Phone_Brown\\sm04\\#02\\data\\udp_dnlk_loss_latency.csv\n",
      "112/216 /home/wmnlab/jackbedford/data/2023-09-21/UDP_Bandlock_9S_Phone_Brown/sm00/#02/data/handover_info_log.csv\n",
      "112/216 /home/wmnlab/jackbedford/data/2023-09-21/UDP_Bandlock_9S_Phone_Brown/sm00/#02/data/udp_dnlk_loss_latency.csv\n",
      "112/216 /home/wmnlab/jackbedford/data/2023-09-21/UDP_Bandlock_9S_Phone_Brown/sm00/#02/data/udp_uplk_loss_latency.csv\n",
      "112/216 /home/wmnlab/jackbedford/data/2023-09-21/UDP_Bandlock_9S_Phone_Brown/sm05/#02/data/handover_info_log.csv\n",
      "112/216 /home/wmnlab/jackbedford/data/2023-09-21/UDP_Bandlock_9S_Phone_Brown/sm05/#02/data/udp_dnlk_loss_latency.csv\n",
      "112/216 /home/wmnlab/jackbedford/data/2023-09-21/UDP_Bandlock_9S_Phone_Brown/sm05/#02/data/udp_uplk_loss_latency.csv\n"
     ]
    },
    {
     "data": {
      "application/vnd.jupyter.widget-view+json": {
       "model_id": "387ddc72034e4a7cb0a7bedea7aa52dc",
       "version_major": 2,
       "version_minor": 0
      },
      "text/plain": [
       "  0%|                                                                                                         …"
      ]
     },
     "metadata": {},
     "output_type": "display_data"
    },
    {
     "name": "stdout",
     "output_type": "stream",
     "text": [
      "./20240312_150032342e_newest/20240314_060073cc2b/results/20240314_09355400000_d7d867943ca2abed_1.5corr/\\home\\wmnlab\\jackbedford\\data\\2023-09-21\\UDP_Bandlock_9S_Phone_Brown\\sm00\\#02\\data\\udp_dnlk_loss_latency\\home\\wmnlab\\jackbedford\\data\\2023-09-21\\UDP_Bandlock_9S_Phone_Brown\\sm05\\#02\\data\\udp_dnlk_loss_latency.csv\n",
      "113/216 /home/wmnlab/jackbedford/data/2023-09-21/UDP_Bandlock_9S_Phone_Brown/sm00/#02/data/handover_info_log.csv\n",
      "113/216 /home/wmnlab/jackbedford/data/2023-09-21/UDP_Bandlock_9S_Phone_Brown/sm00/#02/data/udp_dnlk_loss_latency.csv\n",
      "113/216 /home/wmnlab/jackbedford/data/2023-09-21/UDP_Bandlock_9S_Phone_Brown/sm00/#02/data/udp_uplk_loss_latency.csv\n",
      "113/216 /home/wmnlab/jackbedford/data/2023-09-21/UDP_Bandlock_9S_Phone_Brown/sm06/#02/data/handover_info_log.csv\n",
      "113/216 /home/wmnlab/jackbedford/data/2023-09-21/UDP_Bandlock_9S_Phone_Brown/sm06/#02/data/udp_dnlk_loss_latency.csv\n",
      "113/216 /home/wmnlab/jackbedford/data/2023-09-21/UDP_Bandlock_9S_Phone_Brown/sm06/#02/data/udp_uplk_loss_latency.csv\n"
     ]
    },
    {
     "data": {
      "application/vnd.jupyter.widget-view+json": {
       "model_id": "7f7b8be2fe4444c6bcd8963937a6fad2",
       "version_major": 2,
       "version_minor": 0
      },
      "text/plain": [
       "  0%|                                                                                                         …"
      ]
     },
     "metadata": {},
     "output_type": "display_data"
    },
    {
     "name": "stdout",
     "output_type": "stream",
     "text": [
      "./20240312_150032342e_newest/20240314_060073cc2b/results/20240314_09355400000_d7d867943ca2abed_1.5corr/\\home\\wmnlab\\jackbedford\\data\\2023-09-21\\UDP_Bandlock_9S_Phone_Brown\\sm00\\#02\\data\\udp_dnlk_loss_latency\\home\\wmnlab\\jackbedford\\data\\2023-09-21\\UDP_Bandlock_9S_Phone_Brown\\sm06\\#02\\data\\udp_dnlk_loss_latency.csv\n",
      "114/216 /home/wmnlab/jackbedford/data/2023-09-21/UDP_Bandlock_9S_Phone_Brown/sm00/#02/data/handover_info_log.csv\n",
      "114/216 /home/wmnlab/jackbedford/data/2023-09-21/UDP_Bandlock_9S_Phone_Brown/sm00/#02/data/udp_dnlk_loss_latency.csv\n",
      "114/216 /home/wmnlab/jackbedford/data/2023-09-21/UDP_Bandlock_9S_Phone_Brown/sm00/#02/data/udp_uplk_loss_latency.csv\n",
      "114/216 /home/wmnlab/jackbedford/data/2023-09-21/UDP_Bandlock_9S_Phone_Brown/sm07/#02/data/handover_info_log.csv\n",
      "114/216 /home/wmnlab/jackbedford/data/2023-09-21/UDP_Bandlock_9S_Phone_Brown/sm07/#02/data/udp_dnlk_loss_latency.csv\n",
      "114/216 /home/wmnlab/jackbedford/data/2023-09-21/UDP_Bandlock_9S_Phone_Brown/sm07/#02/data/udp_uplk_loss_latency.csv\n"
     ]
    },
    {
     "data": {
      "application/vnd.jupyter.widget-view+json": {
       "model_id": "5a49b025f5444ec393fbee1d7b3a2d24",
       "version_major": 2,
       "version_minor": 0
      },
      "text/plain": [
       "  0%|                                                                                                         …"
      ]
     },
     "metadata": {},
     "output_type": "display_data"
    },
    {
     "name": "stdout",
     "output_type": "stream",
     "text": [
      "./20240312_150032342e_newest/20240314_060073cc2b/results/20240314_09355400000_d7d867943ca2abed_1.5corr/\\home\\wmnlab\\jackbedford\\data\\2023-09-21\\UDP_Bandlock_9S_Phone_Brown\\sm00\\#02\\data\\udp_dnlk_loss_latency\\home\\wmnlab\\jackbedford\\data\\2023-09-21\\UDP_Bandlock_9S_Phone_Brown\\sm07\\#02\\data\\udp_dnlk_loss_latency.csv\n",
      "115/216 /home/wmnlab/jackbedford/data/2023-09-21/UDP_Bandlock_9S_Phone_Brown/sm00/#02/data/handover_info_log.csv\n",
      "115/216 /home/wmnlab/jackbedford/data/2023-09-21/UDP_Bandlock_9S_Phone_Brown/sm00/#02/data/udp_dnlk_loss_latency.csv\n",
      "115/216 /home/wmnlab/jackbedford/data/2023-09-21/UDP_Bandlock_9S_Phone_Brown/sm00/#02/data/udp_uplk_loss_latency.csv\n",
      "115/216 /home/wmnlab/jackbedford/data/2023-09-21/UDP_Bandlock_9S_Phone_Brown/sm08/#02/data/handover_info_log.csv\n",
      "115/216 /home/wmnlab/jackbedford/data/2023-09-21/UDP_Bandlock_9S_Phone_Brown/sm08/#02/data/udp_dnlk_loss_latency.csv\n",
      "115/216 /home/wmnlab/jackbedford/data/2023-09-21/UDP_Bandlock_9S_Phone_Brown/sm08/#02/data/udp_uplk_loss_latency.csv\n"
     ]
    },
    {
     "data": {
      "application/vnd.jupyter.widget-view+json": {
       "model_id": "70230f2b3f824c8e939a95bad1e9d12a",
       "version_major": 2,
       "version_minor": 0
      },
      "text/plain": [
       "  0%|                                                                                                         …"
      ]
     },
     "metadata": {},
     "output_type": "display_data"
    },
    {
     "name": "stdout",
     "output_type": "stream",
     "text": [
      "./20240312_150032342e_newest/20240314_060073cc2b/results/20240314_09355400000_d7d867943ca2abed_1.5corr/\\home\\wmnlab\\jackbedford\\data\\2023-09-21\\UDP_Bandlock_9S_Phone_Brown\\sm00\\#02\\data\\udp_dnlk_loss_latency\\home\\wmnlab\\jackbedford\\data\\2023-09-21\\UDP_Bandlock_9S_Phone_Brown\\sm08\\#02\\data\\udp_dnlk_loss_latency.csv\n",
      "116/216 /home/wmnlab/jackbedford/data/2023-09-21/UDP_Bandlock_9S_Phone_Brown/sm01/#02/data/handover_info_log.csv\n",
      "116/216 /home/wmnlab/jackbedford/data/2023-09-21/UDP_Bandlock_9S_Phone_Brown/sm01/#02/data/udp_dnlk_loss_latency.csv\n",
      "116/216 /home/wmnlab/jackbedford/data/2023-09-21/UDP_Bandlock_9S_Phone_Brown/sm01/#02/data/udp_uplk_loss_latency.csv\n",
      "116/216 /home/wmnlab/jackbedford/data/2023-09-21/UDP_Bandlock_9S_Phone_Brown/sm02/#02/data/handover_info_log.csv\n",
      "116/216 /home/wmnlab/jackbedford/data/2023-09-21/UDP_Bandlock_9S_Phone_Brown/sm02/#02/data/udp_dnlk_loss_latency.csv\n",
      "116/216 /home/wmnlab/jackbedford/data/2023-09-21/UDP_Bandlock_9S_Phone_Brown/sm02/#02/data/udp_uplk_loss_latency.csv\n"
     ]
    },
    {
     "data": {
      "application/vnd.jupyter.widget-view+json": {
       "model_id": "1d60cee74b3b42e8a3bc711366119aa1",
       "version_major": 2,
       "version_minor": 0
      },
      "text/plain": [
       "  0%|                                                                                                         …"
      ]
     },
     "metadata": {},
     "output_type": "display_data"
    },
    {
     "name": "stdout",
     "output_type": "stream",
     "text": [
      "./20240312_150032342e_newest/20240314_060073cc2b/results/20240314_09355400000_d7d867943ca2abed_1.5corr/\\home\\wmnlab\\jackbedford\\data\\2023-09-21\\UDP_Bandlock_9S_Phone_Brown\\sm01\\#02\\data\\udp_dnlk_loss_latency\\home\\wmnlab\\jackbedford\\data\\2023-09-21\\UDP_Bandlock_9S_Phone_Brown\\sm02\\#02\\data\\udp_dnlk_loss_latency.csv\n",
      "117/216 /home/wmnlab/jackbedford/data/2023-09-21/UDP_Bandlock_9S_Phone_Brown/sm01/#02/data/handover_info_log.csv\n",
      "117/216 /home/wmnlab/jackbedford/data/2023-09-21/UDP_Bandlock_9S_Phone_Brown/sm01/#02/data/udp_dnlk_loss_latency.csv\n",
      "117/216 /home/wmnlab/jackbedford/data/2023-09-21/UDP_Bandlock_9S_Phone_Brown/sm01/#02/data/udp_uplk_loss_latency.csv\n",
      "117/216 /home/wmnlab/jackbedford/data/2023-09-21/UDP_Bandlock_9S_Phone_Brown/sm03/#02/data/handover_info_log.csv\n",
      "117/216 /home/wmnlab/jackbedford/data/2023-09-21/UDP_Bandlock_9S_Phone_Brown/sm03/#02/data/udp_dnlk_loss_latency.csv\n",
      "117/216 /home/wmnlab/jackbedford/data/2023-09-21/UDP_Bandlock_9S_Phone_Brown/sm03/#02/data/udp_uplk_loss_latency.csv\n"
     ]
    },
    {
     "data": {
      "application/vnd.jupyter.widget-view+json": {
       "model_id": "3ca8bf7b73b54cfcae263f21826d6e90",
       "version_major": 2,
       "version_minor": 0
      },
      "text/plain": [
       "  0%|                                                                                                         …"
      ]
     },
     "metadata": {},
     "output_type": "display_data"
    },
    {
     "name": "stdout",
     "output_type": "stream",
     "text": [
      "./20240312_150032342e_newest/20240314_060073cc2b/results/20240314_09355400000_d7d867943ca2abed_1.5corr/\\home\\wmnlab\\jackbedford\\data\\2023-09-21\\UDP_Bandlock_9S_Phone_Brown\\sm01\\#02\\data\\udp_dnlk_loss_latency\\home\\wmnlab\\jackbedford\\data\\2023-09-21\\UDP_Bandlock_9S_Phone_Brown\\sm03\\#02\\data\\udp_dnlk_loss_latency.csv\n",
      "118/216 /home/wmnlab/jackbedford/data/2023-09-21/UDP_Bandlock_9S_Phone_Brown/sm01/#02/data/handover_info_log.csv\n",
      "118/216 /home/wmnlab/jackbedford/data/2023-09-21/UDP_Bandlock_9S_Phone_Brown/sm01/#02/data/udp_dnlk_loss_latency.csv\n",
      "118/216 /home/wmnlab/jackbedford/data/2023-09-21/UDP_Bandlock_9S_Phone_Brown/sm01/#02/data/udp_uplk_loss_latency.csv\n",
      "118/216 /home/wmnlab/jackbedford/data/2023-09-21/UDP_Bandlock_9S_Phone_Brown/sm04/#02/data/handover_info_log.csv\n",
      "118/216 /home/wmnlab/jackbedford/data/2023-09-21/UDP_Bandlock_9S_Phone_Brown/sm04/#02/data/udp_dnlk_loss_latency.csv\n",
      "118/216 /home/wmnlab/jackbedford/data/2023-09-21/UDP_Bandlock_9S_Phone_Brown/sm04/#02/data/udp_uplk_loss_latency.csv\n"
     ]
    },
    {
     "data": {
      "application/vnd.jupyter.widget-view+json": {
       "model_id": "c852dbf5d4cd494aaed5377811cca5be",
       "version_major": 2,
       "version_minor": 0
      },
      "text/plain": [
       "  0%|                                                                                                         …"
      ]
     },
     "metadata": {},
     "output_type": "display_data"
    },
    {
     "name": "stdout",
     "output_type": "stream",
     "text": [
      "./20240312_150032342e_newest/20240314_060073cc2b/results/20240314_09355400000_d7d867943ca2abed_1.5corr/\\home\\wmnlab\\jackbedford\\data\\2023-09-21\\UDP_Bandlock_9S_Phone_Brown\\sm01\\#02\\data\\udp_dnlk_loss_latency\\home\\wmnlab\\jackbedford\\data\\2023-09-21\\UDP_Bandlock_9S_Phone_Brown\\sm04\\#02\\data\\udp_dnlk_loss_latency.csv\n",
      "119/216 /home/wmnlab/jackbedford/data/2023-09-21/UDP_Bandlock_9S_Phone_Brown/sm01/#02/data/handover_info_log.csv\n",
      "119/216 /home/wmnlab/jackbedford/data/2023-09-21/UDP_Bandlock_9S_Phone_Brown/sm01/#02/data/udp_dnlk_loss_latency.csv\n",
      "119/216 /home/wmnlab/jackbedford/data/2023-09-21/UDP_Bandlock_9S_Phone_Brown/sm01/#02/data/udp_uplk_loss_latency.csv\n",
      "119/216 /home/wmnlab/jackbedford/data/2023-09-21/UDP_Bandlock_9S_Phone_Brown/sm05/#02/data/handover_info_log.csv\n",
      "119/216 /home/wmnlab/jackbedford/data/2023-09-21/UDP_Bandlock_9S_Phone_Brown/sm05/#02/data/udp_dnlk_loss_latency.csv\n",
      "119/216 /home/wmnlab/jackbedford/data/2023-09-21/UDP_Bandlock_9S_Phone_Brown/sm05/#02/data/udp_uplk_loss_latency.csv\n"
     ]
    },
    {
     "data": {
      "application/vnd.jupyter.widget-view+json": {
       "model_id": "016c762c4e024663ad5a9b6917e26718",
       "version_major": 2,
       "version_minor": 0
      },
      "text/plain": [
       "  0%|                                                                                                         …"
      ]
     },
     "metadata": {},
     "output_type": "display_data"
    },
    {
     "name": "stdout",
     "output_type": "stream",
     "text": [
      "./20240312_150032342e_newest/20240314_060073cc2b/results/20240314_09355400000_d7d867943ca2abed_1.5corr/\\home\\wmnlab\\jackbedford\\data\\2023-09-21\\UDP_Bandlock_9S_Phone_Brown\\sm01\\#02\\data\\udp_dnlk_loss_latency\\home\\wmnlab\\jackbedford\\data\\2023-09-21\\UDP_Bandlock_9S_Phone_Brown\\sm05\\#02\\data\\udp_dnlk_loss_latency.csv\n",
      "120/216 /home/wmnlab/jackbedford/data/2023-09-21/UDP_Bandlock_9S_Phone_Brown/sm01/#02/data/handover_info_log.csv\n",
      "120/216 /home/wmnlab/jackbedford/data/2023-09-21/UDP_Bandlock_9S_Phone_Brown/sm01/#02/data/udp_dnlk_loss_latency.csv\n",
      "120/216 /home/wmnlab/jackbedford/data/2023-09-21/UDP_Bandlock_9S_Phone_Brown/sm01/#02/data/udp_uplk_loss_latency.csv\n",
      "120/216 /home/wmnlab/jackbedford/data/2023-09-21/UDP_Bandlock_9S_Phone_Brown/sm06/#02/data/handover_info_log.csv\n",
      "120/216 /home/wmnlab/jackbedford/data/2023-09-21/UDP_Bandlock_9S_Phone_Brown/sm06/#02/data/udp_dnlk_loss_latency.csv\n",
      "120/216 /home/wmnlab/jackbedford/data/2023-09-21/UDP_Bandlock_9S_Phone_Brown/sm06/#02/data/udp_uplk_loss_latency.csv\n"
     ]
    },
    {
     "data": {
      "application/vnd.jupyter.widget-view+json": {
       "model_id": "f1f09a37cb86490ba85d27b12dc5c1c7",
       "version_major": 2,
       "version_minor": 0
      },
      "text/plain": [
       "  0%|                                                                                                         …"
      ]
     },
     "metadata": {},
     "output_type": "display_data"
    },
    {
     "name": "stdout",
     "output_type": "stream",
     "text": [
      "./20240312_150032342e_newest/20240314_060073cc2b/results/20240314_09355400000_d7d867943ca2abed_1.5corr/\\home\\wmnlab\\jackbedford\\data\\2023-09-21\\UDP_Bandlock_9S_Phone_Brown\\sm01\\#02\\data\\udp_dnlk_loss_latency\\home\\wmnlab\\jackbedford\\data\\2023-09-21\\UDP_Bandlock_9S_Phone_Brown\\sm06\\#02\\data\\udp_dnlk_loss_latency.csv\n",
      "121/216 /home/wmnlab/jackbedford/data/2023-09-21/UDP_Bandlock_9S_Phone_Brown/sm01/#02/data/handover_info_log.csv\n",
      "121/216 /home/wmnlab/jackbedford/data/2023-09-21/UDP_Bandlock_9S_Phone_Brown/sm01/#02/data/udp_dnlk_loss_latency.csv\n",
      "121/216 /home/wmnlab/jackbedford/data/2023-09-21/UDP_Bandlock_9S_Phone_Brown/sm01/#02/data/udp_uplk_loss_latency.csv\n",
      "121/216 /home/wmnlab/jackbedford/data/2023-09-21/UDP_Bandlock_9S_Phone_Brown/sm07/#02/data/handover_info_log.csv\n",
      "121/216 /home/wmnlab/jackbedford/data/2023-09-21/UDP_Bandlock_9S_Phone_Brown/sm07/#02/data/udp_dnlk_loss_latency.csv\n",
      "121/216 /home/wmnlab/jackbedford/data/2023-09-21/UDP_Bandlock_9S_Phone_Brown/sm07/#02/data/udp_uplk_loss_latency.csv\n"
     ]
    },
    {
     "data": {
      "application/vnd.jupyter.widget-view+json": {
       "model_id": "611ec573bb1e46b193eaf20fcb881bb4",
       "version_major": 2,
       "version_minor": 0
      },
      "text/plain": [
       "  0%|                                                                                                         …"
      ]
     },
     "metadata": {},
     "output_type": "display_data"
    },
    {
     "name": "stdout",
     "output_type": "stream",
     "text": [
      "./20240312_150032342e_newest/20240314_060073cc2b/results/20240314_09355400000_d7d867943ca2abed_1.5corr/\\home\\wmnlab\\jackbedford\\data\\2023-09-21\\UDP_Bandlock_9S_Phone_Brown\\sm01\\#02\\data\\udp_dnlk_loss_latency\\home\\wmnlab\\jackbedford\\data\\2023-09-21\\UDP_Bandlock_9S_Phone_Brown\\sm07\\#02\\data\\udp_dnlk_loss_latency.csv\n",
      "122/216 /home/wmnlab/jackbedford/data/2023-09-21/UDP_Bandlock_9S_Phone_Brown/sm01/#02/data/handover_info_log.csv\n",
      "122/216 /home/wmnlab/jackbedford/data/2023-09-21/UDP_Bandlock_9S_Phone_Brown/sm01/#02/data/udp_dnlk_loss_latency.csv\n",
      "122/216 /home/wmnlab/jackbedford/data/2023-09-21/UDP_Bandlock_9S_Phone_Brown/sm01/#02/data/udp_uplk_loss_latency.csv\n",
      "122/216 /home/wmnlab/jackbedford/data/2023-09-21/UDP_Bandlock_9S_Phone_Brown/sm08/#02/data/handover_info_log.csv\n",
      "122/216 /home/wmnlab/jackbedford/data/2023-09-21/UDP_Bandlock_9S_Phone_Brown/sm08/#02/data/udp_dnlk_loss_latency.csv\n",
      "122/216 /home/wmnlab/jackbedford/data/2023-09-21/UDP_Bandlock_9S_Phone_Brown/sm08/#02/data/udp_uplk_loss_latency.csv\n"
     ]
    },
    {
     "data": {
      "application/vnd.jupyter.widget-view+json": {
       "model_id": "e79c5a99d0d246d6a0d97d5238c55bad",
       "version_major": 2,
       "version_minor": 0
      },
      "text/plain": [
       "  0%|                                                                                                         …"
      ]
     },
     "metadata": {},
     "output_type": "display_data"
    },
    {
     "name": "stdout",
     "output_type": "stream",
     "text": [
      "./20240312_150032342e_newest/20240314_060073cc2b/results/20240314_09355400000_d7d867943ca2abed_1.5corr/\\home\\wmnlab\\jackbedford\\data\\2023-09-21\\UDP_Bandlock_9S_Phone_Brown\\sm01\\#02\\data\\udp_dnlk_loss_latency\\home\\wmnlab\\jackbedford\\data\\2023-09-21\\UDP_Bandlock_9S_Phone_Brown\\sm08\\#02\\data\\udp_dnlk_loss_latency.csv\n",
      "123/216 /home/wmnlab/jackbedford/data/2023-09-21/UDP_Bandlock_9S_Phone_Brown/sm02/#02/data/handover_info_log.csv\n",
      "123/216 /home/wmnlab/jackbedford/data/2023-09-21/UDP_Bandlock_9S_Phone_Brown/sm02/#02/data/udp_dnlk_loss_latency.csv\n",
      "123/216 /home/wmnlab/jackbedford/data/2023-09-21/UDP_Bandlock_9S_Phone_Brown/sm02/#02/data/udp_uplk_loss_latency.csv\n",
      "123/216 /home/wmnlab/jackbedford/data/2023-09-21/UDP_Bandlock_9S_Phone_Brown/sm03/#02/data/handover_info_log.csv\n",
      "123/216 /home/wmnlab/jackbedford/data/2023-09-21/UDP_Bandlock_9S_Phone_Brown/sm03/#02/data/udp_dnlk_loss_latency.csv\n",
      "123/216 /home/wmnlab/jackbedford/data/2023-09-21/UDP_Bandlock_9S_Phone_Brown/sm03/#02/data/udp_uplk_loss_latency.csv\n"
     ]
    },
    {
     "data": {
      "application/vnd.jupyter.widget-view+json": {
       "model_id": "ec802c4fbf004252a1532f3b7eda2f5c",
       "version_major": 2,
       "version_minor": 0
      },
      "text/plain": [
       "  0%|                                                                                                         …"
      ]
     },
     "metadata": {},
     "output_type": "display_data"
    },
    {
     "name": "stdout",
     "output_type": "stream",
     "text": [
      "./20240312_150032342e_newest/20240314_060073cc2b/results/20240314_09355400000_d7d867943ca2abed_1.5corr/\\home\\wmnlab\\jackbedford\\data\\2023-09-21\\UDP_Bandlock_9S_Phone_Brown\\sm02\\#02\\data\\udp_dnlk_loss_latency\\home\\wmnlab\\jackbedford\\data\\2023-09-21\\UDP_Bandlock_9S_Phone_Brown\\sm03\\#02\\data\\udp_dnlk_loss_latency.csv\n",
      "124/216 /home/wmnlab/jackbedford/data/2023-09-21/UDP_Bandlock_9S_Phone_Brown/sm02/#02/data/handover_info_log.csv\n",
      "124/216 /home/wmnlab/jackbedford/data/2023-09-21/UDP_Bandlock_9S_Phone_Brown/sm02/#02/data/udp_dnlk_loss_latency.csv\n",
      "124/216 /home/wmnlab/jackbedford/data/2023-09-21/UDP_Bandlock_9S_Phone_Brown/sm02/#02/data/udp_uplk_loss_latency.csv\n",
      "124/216 /home/wmnlab/jackbedford/data/2023-09-21/UDP_Bandlock_9S_Phone_Brown/sm04/#02/data/handover_info_log.csv\n",
      "124/216 /home/wmnlab/jackbedford/data/2023-09-21/UDP_Bandlock_9S_Phone_Brown/sm04/#02/data/udp_dnlk_loss_latency.csv\n",
      "124/216 /home/wmnlab/jackbedford/data/2023-09-21/UDP_Bandlock_9S_Phone_Brown/sm04/#02/data/udp_uplk_loss_latency.csv\n"
     ]
    },
    {
     "data": {
      "application/vnd.jupyter.widget-view+json": {
       "model_id": "8a030028db184e92a6846321c7d72a4d",
       "version_major": 2,
       "version_minor": 0
      },
      "text/plain": [
       "  0%|                                                                                                         …"
      ]
     },
     "metadata": {},
     "output_type": "display_data"
    },
    {
     "name": "stdout",
     "output_type": "stream",
     "text": [
      "./20240312_150032342e_newest/20240314_060073cc2b/results/20240314_09355400000_d7d867943ca2abed_1.5corr/\\home\\wmnlab\\jackbedford\\data\\2023-09-21\\UDP_Bandlock_9S_Phone_Brown\\sm02\\#02\\data\\udp_dnlk_loss_latency\\home\\wmnlab\\jackbedford\\data\\2023-09-21\\UDP_Bandlock_9S_Phone_Brown\\sm04\\#02\\data\\udp_dnlk_loss_latency.csv\n",
      "125/216 /home/wmnlab/jackbedford/data/2023-09-21/UDP_Bandlock_9S_Phone_Brown/sm02/#02/data/handover_info_log.csv\n",
      "125/216 /home/wmnlab/jackbedford/data/2023-09-21/UDP_Bandlock_9S_Phone_Brown/sm02/#02/data/udp_dnlk_loss_latency.csv\n",
      "125/216 /home/wmnlab/jackbedford/data/2023-09-21/UDP_Bandlock_9S_Phone_Brown/sm02/#02/data/udp_uplk_loss_latency.csv\n",
      "125/216 /home/wmnlab/jackbedford/data/2023-09-21/UDP_Bandlock_9S_Phone_Brown/sm05/#02/data/handover_info_log.csv\n",
      "125/216 /home/wmnlab/jackbedford/data/2023-09-21/UDP_Bandlock_9S_Phone_Brown/sm05/#02/data/udp_dnlk_loss_latency.csv\n",
      "125/216 /home/wmnlab/jackbedford/data/2023-09-21/UDP_Bandlock_9S_Phone_Brown/sm05/#02/data/udp_uplk_loss_latency.csv\n"
     ]
    },
    {
     "data": {
      "application/vnd.jupyter.widget-view+json": {
       "model_id": "e1ab1560d5054f9db10cee1b76b44c6b",
       "version_major": 2,
       "version_minor": 0
      },
      "text/plain": [
       "  0%|                                                                                                         …"
      ]
     },
     "metadata": {},
     "output_type": "display_data"
    },
    {
     "name": "stdout",
     "output_type": "stream",
     "text": [
      "./20240312_150032342e_newest/20240314_060073cc2b/results/20240314_09355400000_d7d867943ca2abed_1.5corr/\\home\\wmnlab\\jackbedford\\data\\2023-09-21\\UDP_Bandlock_9S_Phone_Brown\\sm02\\#02\\data\\udp_dnlk_loss_latency\\home\\wmnlab\\jackbedford\\data\\2023-09-21\\UDP_Bandlock_9S_Phone_Brown\\sm05\\#02\\data\\udp_dnlk_loss_latency.csv\n",
      "126/216 /home/wmnlab/jackbedford/data/2023-09-21/UDP_Bandlock_9S_Phone_Brown/sm02/#02/data/handover_info_log.csv\n",
      "126/216 /home/wmnlab/jackbedford/data/2023-09-21/UDP_Bandlock_9S_Phone_Brown/sm02/#02/data/udp_dnlk_loss_latency.csv\n",
      "126/216 /home/wmnlab/jackbedford/data/2023-09-21/UDP_Bandlock_9S_Phone_Brown/sm02/#02/data/udp_uplk_loss_latency.csv\n",
      "126/216 /home/wmnlab/jackbedford/data/2023-09-21/UDP_Bandlock_9S_Phone_Brown/sm06/#02/data/handover_info_log.csv\n",
      "126/216 /home/wmnlab/jackbedford/data/2023-09-21/UDP_Bandlock_9S_Phone_Brown/sm06/#02/data/udp_dnlk_loss_latency.csv\n",
      "126/216 /home/wmnlab/jackbedford/data/2023-09-21/UDP_Bandlock_9S_Phone_Brown/sm06/#02/data/udp_uplk_loss_latency.csv\n"
     ]
    },
    {
     "data": {
      "application/vnd.jupyter.widget-view+json": {
       "model_id": "12ec58a3424045619aaf16577a6f1537",
       "version_major": 2,
       "version_minor": 0
      },
      "text/plain": [
       "  0%|                                                                                                         …"
      ]
     },
     "metadata": {},
     "output_type": "display_data"
    },
    {
     "name": "stdout",
     "output_type": "stream",
     "text": [
      "./20240312_150032342e_newest/20240314_060073cc2b/results/20240314_09355400000_d7d867943ca2abed_1.5corr/\\home\\wmnlab\\jackbedford\\data\\2023-09-21\\UDP_Bandlock_9S_Phone_Brown\\sm02\\#02\\data\\udp_dnlk_loss_latency\\home\\wmnlab\\jackbedford\\data\\2023-09-21\\UDP_Bandlock_9S_Phone_Brown\\sm06\\#02\\data\\udp_dnlk_loss_latency.csv\n",
      "127/216 /home/wmnlab/jackbedford/data/2023-09-21/UDP_Bandlock_9S_Phone_Brown/sm02/#02/data/handover_info_log.csv\n",
      "127/216 /home/wmnlab/jackbedford/data/2023-09-21/UDP_Bandlock_9S_Phone_Brown/sm02/#02/data/udp_dnlk_loss_latency.csv\n",
      "127/216 /home/wmnlab/jackbedford/data/2023-09-21/UDP_Bandlock_9S_Phone_Brown/sm02/#02/data/udp_uplk_loss_latency.csv\n",
      "127/216 /home/wmnlab/jackbedford/data/2023-09-21/UDP_Bandlock_9S_Phone_Brown/sm07/#02/data/handover_info_log.csv\n",
      "127/216 /home/wmnlab/jackbedford/data/2023-09-21/UDP_Bandlock_9S_Phone_Brown/sm07/#02/data/udp_dnlk_loss_latency.csv\n",
      "127/216 /home/wmnlab/jackbedford/data/2023-09-21/UDP_Bandlock_9S_Phone_Brown/sm07/#02/data/udp_uplk_loss_latency.csv\n"
     ]
    },
    {
     "data": {
      "application/vnd.jupyter.widget-view+json": {
       "model_id": "9068d5de14e141398cf8140758226e66",
       "version_major": 2,
       "version_minor": 0
      },
      "text/plain": [
       "  0%|                                                                                                         …"
      ]
     },
     "metadata": {},
     "output_type": "display_data"
    },
    {
     "name": "stdout",
     "output_type": "stream",
     "text": [
      "./20240312_150032342e_newest/20240314_060073cc2b/results/20240314_09355400000_d7d867943ca2abed_1.5corr/\\home\\wmnlab\\jackbedford\\data\\2023-09-21\\UDP_Bandlock_9S_Phone_Brown\\sm02\\#02\\data\\udp_dnlk_loss_latency\\home\\wmnlab\\jackbedford\\data\\2023-09-21\\UDP_Bandlock_9S_Phone_Brown\\sm07\\#02\\data\\udp_dnlk_loss_latency.csv\n",
      "128/216 /home/wmnlab/jackbedford/data/2023-09-21/UDP_Bandlock_9S_Phone_Brown/sm02/#02/data/handover_info_log.csv\n",
      "128/216 /home/wmnlab/jackbedford/data/2023-09-21/UDP_Bandlock_9S_Phone_Brown/sm02/#02/data/udp_dnlk_loss_latency.csv\n",
      "128/216 /home/wmnlab/jackbedford/data/2023-09-21/UDP_Bandlock_9S_Phone_Brown/sm02/#02/data/udp_uplk_loss_latency.csv\n",
      "128/216 /home/wmnlab/jackbedford/data/2023-09-21/UDP_Bandlock_9S_Phone_Brown/sm08/#02/data/handover_info_log.csv\n",
      "128/216 /home/wmnlab/jackbedford/data/2023-09-21/UDP_Bandlock_9S_Phone_Brown/sm08/#02/data/udp_dnlk_loss_latency.csv\n",
      "128/216 /home/wmnlab/jackbedford/data/2023-09-21/UDP_Bandlock_9S_Phone_Brown/sm08/#02/data/udp_uplk_loss_latency.csv\n"
     ]
    },
    {
     "data": {
      "application/vnd.jupyter.widget-view+json": {
       "model_id": "123392b58c884662a72121133003592b",
       "version_major": 2,
       "version_minor": 0
      },
      "text/plain": [
       "  0%|                                                                                                         …"
      ]
     },
     "metadata": {},
     "output_type": "display_data"
    },
    {
     "name": "stdout",
     "output_type": "stream",
     "text": [
      "./20240312_150032342e_newest/20240314_060073cc2b/results/20240314_09355400000_d7d867943ca2abed_1.5corr/\\home\\wmnlab\\jackbedford\\data\\2023-09-21\\UDP_Bandlock_9S_Phone_Brown\\sm02\\#02\\data\\udp_dnlk_loss_latency\\home\\wmnlab\\jackbedford\\data\\2023-09-21\\UDP_Bandlock_9S_Phone_Brown\\sm08\\#02\\data\\udp_dnlk_loss_latency.csv\n",
      "129/216 /home/wmnlab/jackbedford/data/2023-09-21/UDP_Bandlock_9S_Phone_Brown/sm03/#02/data/handover_info_log.csv\n",
      "129/216 /home/wmnlab/jackbedford/data/2023-09-21/UDP_Bandlock_9S_Phone_Brown/sm03/#02/data/udp_dnlk_loss_latency.csv\n",
      "129/216 /home/wmnlab/jackbedford/data/2023-09-21/UDP_Bandlock_9S_Phone_Brown/sm03/#02/data/udp_uplk_loss_latency.csv\n",
      "129/216 /home/wmnlab/jackbedford/data/2023-09-21/UDP_Bandlock_9S_Phone_Brown/sm04/#02/data/handover_info_log.csv\n",
      "129/216 /home/wmnlab/jackbedford/data/2023-09-21/UDP_Bandlock_9S_Phone_Brown/sm04/#02/data/udp_dnlk_loss_latency.csv\n",
      "129/216 /home/wmnlab/jackbedford/data/2023-09-21/UDP_Bandlock_9S_Phone_Brown/sm04/#02/data/udp_uplk_loss_latency.csv\n"
     ]
    },
    {
     "data": {
      "application/vnd.jupyter.widget-view+json": {
       "model_id": "7dc7e577af3f4a548a10a602bc27dbd0",
       "version_major": 2,
       "version_minor": 0
      },
      "text/plain": [
       "  0%|                                                                                                         …"
      ]
     },
     "metadata": {},
     "output_type": "display_data"
    },
    {
     "name": "stdout",
     "output_type": "stream",
     "text": [
      "./20240312_150032342e_newest/20240314_060073cc2b/results/20240314_09355400000_d7d867943ca2abed_1.5corr/\\home\\wmnlab\\jackbedford\\data\\2023-09-21\\UDP_Bandlock_9S_Phone_Brown\\sm03\\#02\\data\\udp_dnlk_loss_latency\\home\\wmnlab\\jackbedford\\data\\2023-09-21\\UDP_Bandlock_9S_Phone_Brown\\sm04\\#02\\data\\udp_dnlk_loss_latency.csv\n",
      "130/216 /home/wmnlab/jackbedford/data/2023-09-21/UDP_Bandlock_9S_Phone_Brown/sm03/#02/data/handover_info_log.csv\n",
      "130/216 /home/wmnlab/jackbedford/data/2023-09-21/UDP_Bandlock_9S_Phone_Brown/sm03/#02/data/udp_dnlk_loss_latency.csv\n",
      "130/216 /home/wmnlab/jackbedford/data/2023-09-21/UDP_Bandlock_9S_Phone_Brown/sm03/#02/data/udp_uplk_loss_latency.csv\n",
      "130/216 /home/wmnlab/jackbedford/data/2023-09-21/UDP_Bandlock_9S_Phone_Brown/sm05/#02/data/handover_info_log.csv\n",
      "130/216 /home/wmnlab/jackbedford/data/2023-09-21/UDP_Bandlock_9S_Phone_Brown/sm05/#02/data/udp_dnlk_loss_latency.csv\n",
      "130/216 /home/wmnlab/jackbedford/data/2023-09-21/UDP_Bandlock_9S_Phone_Brown/sm05/#02/data/udp_uplk_loss_latency.csv\n"
     ]
    },
    {
     "data": {
      "application/vnd.jupyter.widget-view+json": {
       "model_id": "1b214a01909d4b3596b84d0b1a6fb338",
       "version_major": 2,
       "version_minor": 0
      },
      "text/plain": [
       "  0%|                                                                                                         …"
      ]
     },
     "metadata": {},
     "output_type": "display_data"
    },
    {
     "name": "stdout",
     "output_type": "stream",
     "text": [
      "./20240312_150032342e_newest/20240314_060073cc2b/results/20240314_09355400000_d7d867943ca2abed_1.5corr/\\home\\wmnlab\\jackbedford\\data\\2023-09-21\\UDP_Bandlock_9S_Phone_Brown\\sm03\\#02\\data\\udp_dnlk_loss_latency\\home\\wmnlab\\jackbedford\\data\\2023-09-21\\UDP_Bandlock_9S_Phone_Brown\\sm05\\#02\\data\\udp_dnlk_loss_latency.csv\n",
      "131/216 /home/wmnlab/jackbedford/data/2023-09-21/UDP_Bandlock_9S_Phone_Brown/sm03/#02/data/handover_info_log.csv\n",
      "131/216 /home/wmnlab/jackbedford/data/2023-09-21/UDP_Bandlock_9S_Phone_Brown/sm03/#02/data/udp_dnlk_loss_latency.csv\n",
      "131/216 /home/wmnlab/jackbedford/data/2023-09-21/UDP_Bandlock_9S_Phone_Brown/sm03/#02/data/udp_uplk_loss_latency.csv\n",
      "131/216 /home/wmnlab/jackbedford/data/2023-09-21/UDP_Bandlock_9S_Phone_Brown/sm06/#02/data/handover_info_log.csv\n",
      "131/216 /home/wmnlab/jackbedford/data/2023-09-21/UDP_Bandlock_9S_Phone_Brown/sm06/#02/data/udp_dnlk_loss_latency.csv\n",
      "131/216 /home/wmnlab/jackbedford/data/2023-09-21/UDP_Bandlock_9S_Phone_Brown/sm06/#02/data/udp_uplk_loss_latency.csv\n"
     ]
    },
    {
     "data": {
      "application/vnd.jupyter.widget-view+json": {
       "model_id": "036d6d7c7eb34f0b9dcb53d8e40b4015",
       "version_major": 2,
       "version_minor": 0
      },
      "text/plain": [
       "  0%|                                                                                                         …"
      ]
     },
     "metadata": {},
     "output_type": "display_data"
    },
    {
     "name": "stdout",
     "output_type": "stream",
     "text": [
      "./20240312_150032342e_newest/20240314_060073cc2b/results/20240314_09355400000_d7d867943ca2abed_1.5corr/\\home\\wmnlab\\jackbedford\\data\\2023-09-21\\UDP_Bandlock_9S_Phone_Brown\\sm03\\#02\\data\\udp_dnlk_loss_latency\\home\\wmnlab\\jackbedford\\data\\2023-09-21\\UDP_Bandlock_9S_Phone_Brown\\sm06\\#02\\data\\udp_dnlk_loss_latency.csv\n",
      "132/216 /home/wmnlab/jackbedford/data/2023-09-21/UDP_Bandlock_9S_Phone_Brown/sm03/#02/data/handover_info_log.csv\n",
      "132/216 /home/wmnlab/jackbedford/data/2023-09-21/UDP_Bandlock_9S_Phone_Brown/sm03/#02/data/udp_dnlk_loss_latency.csv\n",
      "132/216 /home/wmnlab/jackbedford/data/2023-09-21/UDP_Bandlock_9S_Phone_Brown/sm03/#02/data/udp_uplk_loss_latency.csv\n",
      "132/216 /home/wmnlab/jackbedford/data/2023-09-21/UDP_Bandlock_9S_Phone_Brown/sm07/#02/data/handover_info_log.csv\n",
      "132/216 /home/wmnlab/jackbedford/data/2023-09-21/UDP_Bandlock_9S_Phone_Brown/sm07/#02/data/udp_dnlk_loss_latency.csv\n",
      "132/216 /home/wmnlab/jackbedford/data/2023-09-21/UDP_Bandlock_9S_Phone_Brown/sm07/#02/data/udp_uplk_loss_latency.csv\n"
     ]
    },
    {
     "data": {
      "application/vnd.jupyter.widget-view+json": {
       "model_id": "947e355d401e4ba38183ae5ef84c7691",
       "version_major": 2,
       "version_minor": 0
      },
      "text/plain": [
       "  0%|                                                                                                         …"
      ]
     },
     "metadata": {},
     "output_type": "display_data"
    },
    {
     "name": "stdout",
     "output_type": "stream",
     "text": [
      "./20240312_150032342e_newest/20240314_060073cc2b/results/20240314_09355400000_d7d867943ca2abed_1.5corr/\\home\\wmnlab\\jackbedford\\data\\2023-09-21\\UDP_Bandlock_9S_Phone_Brown\\sm03\\#02\\data\\udp_dnlk_loss_latency\\home\\wmnlab\\jackbedford\\data\\2023-09-21\\UDP_Bandlock_9S_Phone_Brown\\sm07\\#02\\data\\udp_dnlk_loss_latency.csv\n",
      "133/216 /home/wmnlab/jackbedford/data/2023-09-21/UDP_Bandlock_9S_Phone_Brown/sm03/#02/data/handover_info_log.csv\n",
      "133/216 /home/wmnlab/jackbedford/data/2023-09-21/UDP_Bandlock_9S_Phone_Brown/sm03/#02/data/udp_dnlk_loss_latency.csv\n",
      "133/216 /home/wmnlab/jackbedford/data/2023-09-21/UDP_Bandlock_9S_Phone_Brown/sm03/#02/data/udp_uplk_loss_latency.csv\n",
      "133/216 /home/wmnlab/jackbedford/data/2023-09-21/UDP_Bandlock_9S_Phone_Brown/sm08/#02/data/handover_info_log.csv\n",
      "133/216 /home/wmnlab/jackbedford/data/2023-09-21/UDP_Bandlock_9S_Phone_Brown/sm08/#02/data/udp_dnlk_loss_latency.csv\n",
      "133/216 /home/wmnlab/jackbedford/data/2023-09-21/UDP_Bandlock_9S_Phone_Brown/sm08/#02/data/udp_uplk_loss_latency.csv\n"
     ]
    },
    {
     "data": {
      "application/vnd.jupyter.widget-view+json": {
       "model_id": "7781a76ccc074c14a5191b2506fd4f52",
       "version_major": 2,
       "version_minor": 0
      },
      "text/plain": [
       "  0%|                                                                                                         …"
      ]
     },
     "metadata": {},
     "output_type": "display_data"
    },
    {
     "name": "stdout",
     "output_type": "stream",
     "text": [
      "./20240312_150032342e_newest/20240314_060073cc2b/results/20240314_09355400000_d7d867943ca2abed_1.5corr/\\home\\wmnlab\\jackbedford\\data\\2023-09-21\\UDP_Bandlock_9S_Phone_Brown\\sm03\\#02\\data\\udp_dnlk_loss_latency\\home\\wmnlab\\jackbedford\\data\\2023-09-21\\UDP_Bandlock_9S_Phone_Brown\\sm08\\#02\\data\\udp_dnlk_loss_latency.csv\n",
      "134/216 /home/wmnlab/jackbedford/data/2023-09-21/UDP_Bandlock_9S_Phone_Brown/sm04/#02/data/handover_info_log.csv\n",
      "134/216 /home/wmnlab/jackbedford/data/2023-09-21/UDP_Bandlock_9S_Phone_Brown/sm04/#02/data/udp_dnlk_loss_latency.csv\n",
      "134/216 /home/wmnlab/jackbedford/data/2023-09-21/UDP_Bandlock_9S_Phone_Brown/sm04/#02/data/udp_uplk_loss_latency.csv\n",
      "134/216 /home/wmnlab/jackbedford/data/2023-09-21/UDP_Bandlock_9S_Phone_Brown/sm05/#02/data/handover_info_log.csv\n",
      "134/216 /home/wmnlab/jackbedford/data/2023-09-21/UDP_Bandlock_9S_Phone_Brown/sm05/#02/data/udp_dnlk_loss_latency.csv\n",
      "134/216 /home/wmnlab/jackbedford/data/2023-09-21/UDP_Bandlock_9S_Phone_Brown/sm05/#02/data/udp_uplk_loss_latency.csv\n"
     ]
    },
    {
     "data": {
      "application/vnd.jupyter.widget-view+json": {
       "model_id": "1481e41766d14b82b81cc6b48a960717",
       "version_major": 2,
       "version_minor": 0
      },
      "text/plain": [
       "  0%|                                                                                                         …"
      ]
     },
     "metadata": {},
     "output_type": "display_data"
    },
    {
     "name": "stdout",
     "output_type": "stream",
     "text": [
      "./20240312_150032342e_newest/20240314_060073cc2b/results/20240314_09355400000_d7d867943ca2abed_1.5corr/\\home\\wmnlab\\jackbedford\\data\\2023-09-21\\UDP_Bandlock_9S_Phone_Brown\\sm04\\#02\\data\\udp_dnlk_loss_latency\\home\\wmnlab\\jackbedford\\data\\2023-09-21\\UDP_Bandlock_9S_Phone_Brown\\sm05\\#02\\data\\udp_dnlk_loss_latency.csv\n",
      "135/216 /home/wmnlab/jackbedford/data/2023-09-21/UDP_Bandlock_9S_Phone_Brown/sm04/#02/data/handover_info_log.csv\n",
      "135/216 /home/wmnlab/jackbedford/data/2023-09-21/UDP_Bandlock_9S_Phone_Brown/sm04/#02/data/udp_dnlk_loss_latency.csv\n",
      "135/216 /home/wmnlab/jackbedford/data/2023-09-21/UDP_Bandlock_9S_Phone_Brown/sm04/#02/data/udp_uplk_loss_latency.csv\n",
      "135/216 /home/wmnlab/jackbedford/data/2023-09-21/UDP_Bandlock_9S_Phone_Brown/sm06/#02/data/handover_info_log.csv\n",
      "135/216 /home/wmnlab/jackbedford/data/2023-09-21/UDP_Bandlock_9S_Phone_Brown/sm06/#02/data/udp_dnlk_loss_latency.csv\n",
      "135/216 /home/wmnlab/jackbedford/data/2023-09-21/UDP_Bandlock_9S_Phone_Brown/sm06/#02/data/udp_uplk_loss_latency.csv\n"
     ]
    },
    {
     "data": {
      "application/vnd.jupyter.widget-view+json": {
       "model_id": "dad2a7bd0d6549069d0eacaa4c770c4a",
       "version_major": 2,
       "version_minor": 0
      },
      "text/plain": [
       "  0%|                                                                                                         …"
      ]
     },
     "metadata": {},
     "output_type": "display_data"
    },
    {
     "name": "stdout",
     "output_type": "stream",
     "text": [
      "./20240312_150032342e_newest/20240314_060073cc2b/results/20240314_09355400000_d7d867943ca2abed_1.5corr/\\home\\wmnlab\\jackbedford\\data\\2023-09-21\\UDP_Bandlock_9S_Phone_Brown\\sm04\\#02\\data\\udp_dnlk_loss_latency\\home\\wmnlab\\jackbedford\\data\\2023-09-21\\UDP_Bandlock_9S_Phone_Brown\\sm06\\#02\\data\\udp_dnlk_loss_latency.csv\n",
      "136/216 /home/wmnlab/jackbedford/data/2023-09-21/UDP_Bandlock_9S_Phone_Brown/sm04/#02/data/handover_info_log.csv\n",
      "136/216 /home/wmnlab/jackbedford/data/2023-09-21/UDP_Bandlock_9S_Phone_Brown/sm04/#02/data/udp_dnlk_loss_latency.csv\n",
      "136/216 /home/wmnlab/jackbedford/data/2023-09-21/UDP_Bandlock_9S_Phone_Brown/sm04/#02/data/udp_uplk_loss_latency.csv\n",
      "136/216 /home/wmnlab/jackbedford/data/2023-09-21/UDP_Bandlock_9S_Phone_Brown/sm07/#02/data/handover_info_log.csv\n",
      "136/216 /home/wmnlab/jackbedford/data/2023-09-21/UDP_Bandlock_9S_Phone_Brown/sm07/#02/data/udp_dnlk_loss_latency.csv\n",
      "136/216 /home/wmnlab/jackbedford/data/2023-09-21/UDP_Bandlock_9S_Phone_Brown/sm07/#02/data/udp_uplk_loss_latency.csv\n"
     ]
    },
    {
     "data": {
      "application/vnd.jupyter.widget-view+json": {
       "model_id": "4733e68fde7d49339096bf8db7b42a22",
       "version_major": 2,
       "version_minor": 0
      },
      "text/plain": [
       "  0%|                                                                                                         …"
      ]
     },
     "metadata": {},
     "output_type": "display_data"
    },
    {
     "name": "stdout",
     "output_type": "stream",
     "text": [
      "./20240312_150032342e_newest/20240314_060073cc2b/results/20240314_09355400000_d7d867943ca2abed_1.5corr/\\home\\wmnlab\\jackbedford\\data\\2023-09-21\\UDP_Bandlock_9S_Phone_Brown\\sm04\\#02\\data\\udp_dnlk_loss_latency\\home\\wmnlab\\jackbedford\\data\\2023-09-21\\UDP_Bandlock_9S_Phone_Brown\\sm07\\#02\\data\\udp_dnlk_loss_latency.csv\n",
      "137/216 /home/wmnlab/jackbedford/data/2023-09-21/UDP_Bandlock_9S_Phone_Brown/sm04/#02/data/handover_info_log.csv\n",
      "137/216 /home/wmnlab/jackbedford/data/2023-09-21/UDP_Bandlock_9S_Phone_Brown/sm04/#02/data/udp_dnlk_loss_latency.csv\n",
      "137/216 /home/wmnlab/jackbedford/data/2023-09-21/UDP_Bandlock_9S_Phone_Brown/sm04/#02/data/udp_uplk_loss_latency.csv\n",
      "137/216 /home/wmnlab/jackbedford/data/2023-09-21/UDP_Bandlock_9S_Phone_Brown/sm08/#02/data/handover_info_log.csv\n",
      "137/216 /home/wmnlab/jackbedford/data/2023-09-21/UDP_Bandlock_9S_Phone_Brown/sm08/#02/data/udp_dnlk_loss_latency.csv\n",
      "137/216 /home/wmnlab/jackbedford/data/2023-09-21/UDP_Bandlock_9S_Phone_Brown/sm08/#02/data/udp_uplk_loss_latency.csv\n"
     ]
    },
    {
     "data": {
      "application/vnd.jupyter.widget-view+json": {
       "model_id": "0404ca9d185d40b6a9b6f6953fd308fe",
       "version_major": 2,
       "version_minor": 0
      },
      "text/plain": [
       "  0%|                                                                                                         …"
      ]
     },
     "metadata": {},
     "output_type": "display_data"
    },
    {
     "name": "stdout",
     "output_type": "stream",
     "text": [
      "./20240312_150032342e_newest/20240314_060073cc2b/results/20240314_09355400000_d7d867943ca2abed_1.5corr/\\home\\wmnlab\\jackbedford\\data\\2023-09-21\\UDP_Bandlock_9S_Phone_Brown\\sm04\\#02\\data\\udp_dnlk_loss_latency\\home\\wmnlab\\jackbedford\\data\\2023-09-21\\UDP_Bandlock_9S_Phone_Brown\\sm08\\#02\\data\\udp_dnlk_loss_latency.csv\n",
      "138/216 /home/wmnlab/jackbedford/data/2023-09-21/UDP_Bandlock_9S_Phone_Brown/sm05/#02/data/handover_info_log.csv\n",
      "138/216 /home/wmnlab/jackbedford/data/2023-09-21/UDP_Bandlock_9S_Phone_Brown/sm05/#02/data/udp_dnlk_loss_latency.csv\n",
      "138/216 /home/wmnlab/jackbedford/data/2023-09-21/UDP_Bandlock_9S_Phone_Brown/sm05/#02/data/udp_uplk_loss_latency.csv\n",
      "138/216 /home/wmnlab/jackbedford/data/2023-09-21/UDP_Bandlock_9S_Phone_Brown/sm06/#02/data/handover_info_log.csv\n",
      "138/216 /home/wmnlab/jackbedford/data/2023-09-21/UDP_Bandlock_9S_Phone_Brown/sm06/#02/data/udp_dnlk_loss_latency.csv\n",
      "138/216 /home/wmnlab/jackbedford/data/2023-09-21/UDP_Bandlock_9S_Phone_Brown/sm06/#02/data/udp_uplk_loss_latency.csv\n"
     ]
    },
    {
     "data": {
      "application/vnd.jupyter.widget-view+json": {
       "model_id": "e4123daaa3bd4add99c36fb66f2b7db4",
       "version_major": 2,
       "version_minor": 0
      },
      "text/plain": [
       "  0%|                                                                                                         …"
      ]
     },
     "metadata": {},
     "output_type": "display_data"
    },
    {
     "name": "stdout",
     "output_type": "stream",
     "text": [
      "./20240312_150032342e_newest/20240314_060073cc2b/results/20240314_09355400000_d7d867943ca2abed_1.5corr/\\home\\wmnlab\\jackbedford\\data\\2023-09-21\\UDP_Bandlock_9S_Phone_Brown\\sm05\\#02\\data\\udp_dnlk_loss_latency\\home\\wmnlab\\jackbedford\\data\\2023-09-21\\UDP_Bandlock_9S_Phone_Brown\\sm06\\#02\\data\\udp_dnlk_loss_latency.csv\n",
      "139/216 /home/wmnlab/jackbedford/data/2023-09-21/UDP_Bandlock_9S_Phone_Brown/sm05/#02/data/handover_info_log.csv\n",
      "139/216 /home/wmnlab/jackbedford/data/2023-09-21/UDP_Bandlock_9S_Phone_Brown/sm05/#02/data/udp_dnlk_loss_latency.csv\n",
      "139/216 /home/wmnlab/jackbedford/data/2023-09-21/UDP_Bandlock_9S_Phone_Brown/sm05/#02/data/udp_uplk_loss_latency.csv\n",
      "139/216 /home/wmnlab/jackbedford/data/2023-09-21/UDP_Bandlock_9S_Phone_Brown/sm07/#02/data/handover_info_log.csv\n",
      "139/216 /home/wmnlab/jackbedford/data/2023-09-21/UDP_Bandlock_9S_Phone_Brown/sm07/#02/data/udp_dnlk_loss_latency.csv\n",
      "139/216 /home/wmnlab/jackbedford/data/2023-09-21/UDP_Bandlock_9S_Phone_Brown/sm07/#02/data/udp_uplk_loss_latency.csv\n"
     ]
    },
    {
     "data": {
      "application/vnd.jupyter.widget-view+json": {
       "model_id": "13d972e34367434bbe08709d19298b06",
       "version_major": 2,
       "version_minor": 0
      },
      "text/plain": [
       "  0%|                                                                                                         …"
      ]
     },
     "metadata": {},
     "output_type": "display_data"
    },
    {
     "name": "stdout",
     "output_type": "stream",
     "text": [
      "./20240312_150032342e_newest/20240314_060073cc2b/results/20240314_09355400000_d7d867943ca2abed_1.5corr/\\home\\wmnlab\\jackbedford\\data\\2023-09-21\\UDP_Bandlock_9S_Phone_Brown\\sm05\\#02\\data\\udp_dnlk_loss_latency\\home\\wmnlab\\jackbedford\\data\\2023-09-21\\UDP_Bandlock_9S_Phone_Brown\\sm07\\#02\\data\\udp_dnlk_loss_latency.csv\n",
      "140/216 /home/wmnlab/jackbedford/data/2023-09-21/UDP_Bandlock_9S_Phone_Brown/sm05/#02/data/handover_info_log.csv\n",
      "140/216 /home/wmnlab/jackbedford/data/2023-09-21/UDP_Bandlock_9S_Phone_Brown/sm05/#02/data/udp_dnlk_loss_latency.csv\n",
      "140/216 /home/wmnlab/jackbedford/data/2023-09-21/UDP_Bandlock_9S_Phone_Brown/sm05/#02/data/udp_uplk_loss_latency.csv\n",
      "140/216 /home/wmnlab/jackbedford/data/2023-09-21/UDP_Bandlock_9S_Phone_Brown/sm08/#02/data/handover_info_log.csv\n",
      "140/216 /home/wmnlab/jackbedford/data/2023-09-21/UDP_Bandlock_9S_Phone_Brown/sm08/#02/data/udp_dnlk_loss_latency.csv\n",
      "140/216 /home/wmnlab/jackbedford/data/2023-09-21/UDP_Bandlock_9S_Phone_Brown/sm08/#02/data/udp_uplk_loss_latency.csv\n"
     ]
    },
    {
     "data": {
      "application/vnd.jupyter.widget-view+json": {
       "model_id": "adcc1a2f6d224dfca84e8d8a1023f188",
       "version_major": 2,
       "version_minor": 0
      },
      "text/plain": [
       "  0%|                                                                                                         …"
      ]
     },
     "metadata": {},
     "output_type": "display_data"
    },
    {
     "name": "stdout",
     "output_type": "stream",
     "text": [
      "./20240312_150032342e_newest/20240314_060073cc2b/results/20240314_09355400000_d7d867943ca2abed_1.5corr/\\home\\wmnlab\\jackbedford\\data\\2023-09-21\\UDP_Bandlock_9S_Phone_Brown\\sm05\\#02\\data\\udp_dnlk_loss_latency\\home\\wmnlab\\jackbedford\\data\\2023-09-21\\UDP_Bandlock_9S_Phone_Brown\\sm08\\#02\\data\\udp_dnlk_loss_latency.csv\n",
      "141/216 /home/wmnlab/jackbedford/data/2023-09-21/UDP_Bandlock_9S_Phone_Brown/sm06/#02/data/handover_info_log.csv\n",
      "141/216 /home/wmnlab/jackbedford/data/2023-09-21/UDP_Bandlock_9S_Phone_Brown/sm06/#02/data/udp_dnlk_loss_latency.csv\n",
      "141/216 /home/wmnlab/jackbedford/data/2023-09-21/UDP_Bandlock_9S_Phone_Brown/sm06/#02/data/udp_uplk_loss_latency.csv\n",
      "141/216 /home/wmnlab/jackbedford/data/2023-09-21/UDP_Bandlock_9S_Phone_Brown/sm07/#02/data/handover_info_log.csv\n",
      "141/216 /home/wmnlab/jackbedford/data/2023-09-21/UDP_Bandlock_9S_Phone_Brown/sm07/#02/data/udp_dnlk_loss_latency.csv\n",
      "141/216 /home/wmnlab/jackbedford/data/2023-09-21/UDP_Bandlock_9S_Phone_Brown/sm07/#02/data/udp_uplk_loss_latency.csv\n"
     ]
    },
    {
     "data": {
      "application/vnd.jupyter.widget-view+json": {
       "model_id": "a8547e6082ef43cc91e903ddd965f1ec",
       "version_major": 2,
       "version_minor": 0
      },
      "text/plain": [
       "  0%|                                                                                                         …"
      ]
     },
     "metadata": {},
     "output_type": "display_data"
    },
    {
     "name": "stdout",
     "output_type": "stream",
     "text": [
      "./20240312_150032342e_newest/20240314_060073cc2b/results/20240314_09355400000_d7d867943ca2abed_1.5corr/\\home\\wmnlab\\jackbedford\\data\\2023-09-21\\UDP_Bandlock_9S_Phone_Brown\\sm06\\#02\\data\\udp_dnlk_loss_latency\\home\\wmnlab\\jackbedford\\data\\2023-09-21\\UDP_Bandlock_9S_Phone_Brown\\sm07\\#02\\data\\udp_dnlk_loss_latency.csv\n",
      "142/216 /home/wmnlab/jackbedford/data/2023-09-21/UDP_Bandlock_9S_Phone_Brown/sm06/#02/data/handover_info_log.csv\n",
      "142/216 /home/wmnlab/jackbedford/data/2023-09-21/UDP_Bandlock_9S_Phone_Brown/sm06/#02/data/udp_dnlk_loss_latency.csv\n",
      "142/216 /home/wmnlab/jackbedford/data/2023-09-21/UDP_Bandlock_9S_Phone_Brown/sm06/#02/data/udp_uplk_loss_latency.csv\n",
      "142/216 /home/wmnlab/jackbedford/data/2023-09-21/UDP_Bandlock_9S_Phone_Brown/sm08/#02/data/handover_info_log.csv\n",
      "142/216 /home/wmnlab/jackbedford/data/2023-09-21/UDP_Bandlock_9S_Phone_Brown/sm08/#02/data/udp_dnlk_loss_latency.csv\n",
      "142/216 /home/wmnlab/jackbedford/data/2023-09-21/UDP_Bandlock_9S_Phone_Brown/sm08/#02/data/udp_uplk_loss_latency.csv\n"
     ]
    },
    {
     "data": {
      "application/vnd.jupyter.widget-view+json": {
       "model_id": "78e3bb30661f474585968adfcb4344ad",
       "version_major": 2,
       "version_minor": 0
      },
      "text/plain": [
       "  0%|                                                                                                         …"
      ]
     },
     "metadata": {},
     "output_type": "display_data"
    },
    {
     "name": "stdout",
     "output_type": "stream",
     "text": [
      "./20240312_150032342e_newest/20240314_060073cc2b/results/20240314_09355400000_d7d867943ca2abed_1.5corr/\\home\\wmnlab\\jackbedford\\data\\2023-09-21\\UDP_Bandlock_9S_Phone_Brown\\sm06\\#02\\data\\udp_dnlk_loss_latency\\home\\wmnlab\\jackbedford\\data\\2023-09-21\\UDP_Bandlock_9S_Phone_Brown\\sm08\\#02\\data\\udp_dnlk_loss_latency.csv\n",
      "143/216 /home/wmnlab/jackbedford/data/2023-09-21/UDP_Bandlock_9S_Phone_Brown/sm07/#02/data/handover_info_log.csv\n",
      "143/216 /home/wmnlab/jackbedford/data/2023-09-21/UDP_Bandlock_9S_Phone_Brown/sm07/#02/data/udp_dnlk_loss_latency.csv\n",
      "143/216 /home/wmnlab/jackbedford/data/2023-09-21/UDP_Bandlock_9S_Phone_Brown/sm07/#02/data/udp_uplk_loss_latency.csv\n",
      "143/216 /home/wmnlab/jackbedford/data/2023-09-21/UDP_Bandlock_9S_Phone_Brown/sm08/#02/data/handover_info_log.csv\n",
      "143/216 /home/wmnlab/jackbedford/data/2023-09-21/UDP_Bandlock_9S_Phone_Brown/sm08/#02/data/udp_dnlk_loss_latency.csv\n",
      "143/216 /home/wmnlab/jackbedford/data/2023-09-21/UDP_Bandlock_9S_Phone_Brown/sm08/#02/data/udp_uplk_loss_latency.csv\n"
     ]
    },
    {
     "data": {
      "application/vnd.jupyter.widget-view+json": {
       "model_id": "2c41b1fa8a7f4286a997ca6c5cd9d2fa",
       "version_major": 2,
       "version_minor": 0
      },
      "text/plain": [
       "  0%|                                                                                                         …"
      ]
     },
     "metadata": {},
     "output_type": "display_data"
    },
    {
     "name": "stdout",
     "output_type": "stream",
     "text": [
      "./20240312_150032342e_newest/20240314_060073cc2b/results/20240314_09355400000_d7d867943ca2abed_1.5corr/\\home\\wmnlab\\jackbedford\\data\\2023-09-21\\UDP_Bandlock_9S_Phone_Brown\\sm07\\#02\\data\\udp_dnlk_loss_latency\\home\\wmnlab\\jackbedford\\data\\2023-09-21\\UDP_Bandlock_9S_Phone_Brown\\sm08\\#02\\data\\udp_dnlk_loss_latency.csv\n",
      "144/216 /home/wmnlab/jackbedford/data/2023-11-09/UDP_Bandlock_9S_Phone_Brown/sm00/#01/data/handover_info_log.csv\n",
      "144/216 /home/wmnlab/jackbedford/data/2023-11-09/UDP_Bandlock_9S_Phone_Brown/sm00/#01/data/udp_dnlk_loss_latency.csv\n",
      "144/216 /home/wmnlab/jackbedford/data/2023-11-09/UDP_Bandlock_9S_Phone_Brown/sm00/#01/data/udp_uplk_loss_latency.csv\n",
      "144/216 /home/wmnlab/jackbedford/data/2023-11-09/UDP_Bandlock_9S_Phone_Brown/sm01/#01/data/handover_info_log.csv\n",
      "144/216 /home/wmnlab/jackbedford/data/2023-11-09/UDP_Bandlock_9S_Phone_Brown/sm01/#01/data/udp_dnlk_loss_latency.csv\n",
      "144/216 /home/wmnlab/jackbedford/data/2023-11-09/UDP_Bandlock_9S_Phone_Brown/sm01/#01/data/udp_uplk_loss_latency.csv\n"
     ]
    },
    {
     "data": {
      "application/vnd.jupyter.widget-view+json": {
       "model_id": "0a1f3f4a955c4623b067e5d7e37eaa18",
       "version_major": 2,
       "version_minor": 0
      },
      "text/plain": [
       "  0%|                                                                                                         …"
      ]
     },
     "metadata": {},
     "output_type": "display_data"
    },
    {
     "name": "stdout",
     "output_type": "stream",
     "text": [
      "./20240312_150032342e_newest/20240314_060073cc2b/results/20240314_09355400000_d7d867943ca2abed_1.5corr/\\home\\wmnlab\\jackbedford\\data\\2023-11-09\\UDP_Bandlock_9S_Phone_Brown\\sm00\\#01\\data\\udp_dnlk_loss_latency\\home\\wmnlab\\jackbedford\\data\\2023-11-09\\UDP_Bandlock_9S_Phone_Brown\\sm01\\#01\\data\\udp_dnlk_loss_latency.csv\n",
      "145/216 /home/wmnlab/jackbedford/data/2023-11-09/UDP_Bandlock_9S_Phone_Brown/sm00/#01/data/handover_info_log.csv\n",
      "145/216 /home/wmnlab/jackbedford/data/2023-11-09/UDP_Bandlock_9S_Phone_Brown/sm00/#01/data/udp_dnlk_loss_latency.csv\n",
      "145/216 /home/wmnlab/jackbedford/data/2023-11-09/UDP_Bandlock_9S_Phone_Brown/sm00/#01/data/udp_uplk_loss_latency.csv\n",
      "145/216 /home/wmnlab/jackbedford/data/2023-11-09/UDP_Bandlock_9S_Phone_Brown/sm02/#01/data/handover_info_log.csv\n",
      "145/216 /home/wmnlab/jackbedford/data/2023-11-09/UDP_Bandlock_9S_Phone_Brown/sm02/#01/data/udp_dnlk_loss_latency.csv\n",
      "145/216 /home/wmnlab/jackbedford/data/2023-11-09/UDP_Bandlock_9S_Phone_Brown/sm02/#01/data/udp_uplk_loss_latency.csv\n"
     ]
    },
    {
     "data": {
      "application/vnd.jupyter.widget-view+json": {
       "model_id": "45aeaf7942614624b881a69d21db1de2",
       "version_major": 2,
       "version_minor": 0
      },
      "text/plain": [
       "  0%|                                                                                                         …"
      ]
     },
     "metadata": {},
     "output_type": "display_data"
    },
    {
     "name": "stdout",
     "output_type": "stream",
     "text": [
      "./20240312_150032342e_newest/20240314_060073cc2b/results/20240314_09355400000_d7d867943ca2abed_1.5corr/\\home\\wmnlab\\jackbedford\\data\\2023-11-09\\UDP_Bandlock_9S_Phone_Brown\\sm00\\#01\\data\\udp_dnlk_loss_latency\\home\\wmnlab\\jackbedford\\data\\2023-11-09\\UDP_Bandlock_9S_Phone_Brown\\sm02\\#01\\data\\udp_dnlk_loss_latency.csv\n",
      "146/216 /home/wmnlab/jackbedford/data/2023-11-09/UDP_Bandlock_9S_Phone_Brown/sm00/#01/data/handover_info_log.csv\n",
      "146/216 /home/wmnlab/jackbedford/data/2023-11-09/UDP_Bandlock_9S_Phone_Brown/sm00/#01/data/udp_dnlk_loss_latency.csv\n",
      "146/216 /home/wmnlab/jackbedford/data/2023-11-09/UDP_Bandlock_9S_Phone_Brown/sm00/#01/data/udp_uplk_loss_latency.csv\n",
      "146/216 /home/wmnlab/jackbedford/data/2023-11-09/UDP_Bandlock_9S_Phone_Brown/sm03/#01/data/handover_info_log.csv\n",
      "146/216 /home/wmnlab/jackbedford/data/2023-11-09/UDP_Bandlock_9S_Phone_Brown/sm03/#01/data/udp_dnlk_loss_latency.csv\n",
      "146/216 /home/wmnlab/jackbedford/data/2023-11-09/UDP_Bandlock_9S_Phone_Brown/sm03/#01/data/udp_uplk_loss_latency.csv\n"
     ]
    },
    {
     "data": {
      "application/vnd.jupyter.widget-view+json": {
       "model_id": "6b4e53170aa444ed98088bc306543de2",
       "version_major": 2,
       "version_minor": 0
      },
      "text/plain": [
       "  0%|                                                                                                         …"
      ]
     },
     "metadata": {},
     "output_type": "display_data"
    },
    {
     "name": "stdout",
     "output_type": "stream",
     "text": [
      "./20240312_150032342e_newest/20240314_060073cc2b/results/20240314_09355400000_d7d867943ca2abed_1.5corr/\\home\\wmnlab\\jackbedford\\data\\2023-11-09\\UDP_Bandlock_9S_Phone_Brown\\sm00\\#01\\data\\udp_dnlk_loss_latency\\home\\wmnlab\\jackbedford\\data\\2023-11-09\\UDP_Bandlock_9S_Phone_Brown\\sm03\\#01\\data\\udp_dnlk_loss_latency.csv\n",
      "147/216 /home/wmnlab/jackbedford/data/2023-11-09/UDP_Bandlock_9S_Phone_Brown/sm00/#01/data/handover_info_log.csv\n",
      "147/216 /home/wmnlab/jackbedford/data/2023-11-09/UDP_Bandlock_9S_Phone_Brown/sm00/#01/data/udp_dnlk_loss_latency.csv\n",
      "147/216 /home/wmnlab/jackbedford/data/2023-11-09/UDP_Bandlock_9S_Phone_Brown/sm00/#01/data/udp_uplk_loss_latency.csv\n",
      "147/216 /home/wmnlab/jackbedford/data/2023-11-09/UDP_Bandlock_9S_Phone_Brown/sm04/#01/data/handover_info_log.csv\n",
      "147/216 /home/wmnlab/jackbedford/data/2023-11-09/UDP_Bandlock_9S_Phone_Brown/sm04/#01/data/udp_dnlk_loss_latency.csv\n",
      "147/216 /home/wmnlab/jackbedford/data/2023-11-09/UDP_Bandlock_9S_Phone_Brown/sm04/#01/data/udp_uplk_loss_latency.csv\n"
     ]
    },
    {
     "data": {
      "application/vnd.jupyter.widget-view+json": {
       "model_id": "a677ef6bbcd14fb5a5c909e9b891cf90",
       "version_major": 2,
       "version_minor": 0
      },
      "text/plain": [
       "  0%|                                                                                                         …"
      ]
     },
     "metadata": {},
     "output_type": "display_data"
    },
    {
     "name": "stdout",
     "output_type": "stream",
     "text": [
      "./20240312_150032342e_newest/20240314_060073cc2b/results/20240314_09355400000_d7d867943ca2abed_1.5corr/\\home\\wmnlab\\jackbedford\\data\\2023-11-09\\UDP_Bandlock_9S_Phone_Brown\\sm00\\#01\\data\\udp_dnlk_loss_latency\\home\\wmnlab\\jackbedford\\data\\2023-11-09\\UDP_Bandlock_9S_Phone_Brown\\sm04\\#01\\data\\udp_dnlk_loss_latency.csv\n",
      "148/216 /home/wmnlab/jackbedford/data/2023-11-09/UDP_Bandlock_9S_Phone_Brown/sm00/#01/data/handover_info_log.csv\n",
      "148/216 /home/wmnlab/jackbedford/data/2023-11-09/UDP_Bandlock_9S_Phone_Brown/sm00/#01/data/udp_dnlk_loss_latency.csv\n",
      "148/216 /home/wmnlab/jackbedford/data/2023-11-09/UDP_Bandlock_9S_Phone_Brown/sm00/#01/data/udp_uplk_loss_latency.csv\n",
      "148/216 /home/wmnlab/jackbedford/data/2023-11-09/UDP_Bandlock_9S_Phone_Brown/sm05/#01/data/handover_info_log.csv\n",
      "148/216 /home/wmnlab/jackbedford/data/2023-11-09/UDP_Bandlock_9S_Phone_Brown/sm05/#01/data/udp_dnlk_loss_latency.csv\n",
      "148/216 /home/wmnlab/jackbedford/data/2023-11-09/UDP_Bandlock_9S_Phone_Brown/sm05/#01/data/udp_uplk_loss_latency.csv\n"
     ]
    },
    {
     "data": {
      "application/vnd.jupyter.widget-view+json": {
       "model_id": "de442c51eff2472fa18fb450565044f7",
       "version_major": 2,
       "version_minor": 0
      },
      "text/plain": [
       "  0%|                                                                                                         …"
      ]
     },
     "metadata": {},
     "output_type": "display_data"
    },
    {
     "name": "stdout",
     "output_type": "stream",
     "text": [
      "./20240312_150032342e_newest/20240314_060073cc2b/results/20240314_09355400000_d7d867943ca2abed_1.5corr/\\home\\wmnlab\\jackbedford\\data\\2023-11-09\\UDP_Bandlock_9S_Phone_Brown\\sm00\\#01\\data\\udp_dnlk_loss_latency\\home\\wmnlab\\jackbedford\\data\\2023-11-09\\UDP_Bandlock_9S_Phone_Brown\\sm05\\#01\\data\\udp_dnlk_loss_latency.csv\n",
      "149/216 /home/wmnlab/jackbedford/data/2023-11-09/UDP_Bandlock_9S_Phone_Brown/sm00/#01/data/handover_info_log.csv\n",
      "149/216 /home/wmnlab/jackbedford/data/2023-11-09/UDP_Bandlock_9S_Phone_Brown/sm00/#01/data/udp_dnlk_loss_latency.csv\n",
      "149/216 /home/wmnlab/jackbedford/data/2023-11-09/UDP_Bandlock_9S_Phone_Brown/sm00/#01/data/udp_uplk_loss_latency.csv\n",
      "149/216 /home/wmnlab/jackbedford/data/2023-11-09/UDP_Bandlock_9S_Phone_Brown/sm06/#01/data/handover_info_log.csv\n",
      "149/216 /home/wmnlab/jackbedford/data/2023-11-09/UDP_Bandlock_9S_Phone_Brown/sm06/#01/data/udp_dnlk_loss_latency.csv\n",
      "149/216 /home/wmnlab/jackbedford/data/2023-11-09/UDP_Bandlock_9S_Phone_Brown/sm06/#01/data/udp_uplk_loss_latency.csv\n"
     ]
    },
    {
     "data": {
      "application/vnd.jupyter.widget-view+json": {
       "model_id": "d96456bad2f54c8e872ff4870e29d78f",
       "version_major": 2,
       "version_minor": 0
      },
      "text/plain": [
       "  0%|                                                                                                         …"
      ]
     },
     "metadata": {},
     "output_type": "display_data"
    },
    {
     "name": "stdout",
     "output_type": "stream",
     "text": [
      "./20240312_150032342e_newest/20240314_060073cc2b/results/20240314_09355400000_d7d867943ca2abed_1.5corr/\\home\\wmnlab\\jackbedford\\data\\2023-11-09\\UDP_Bandlock_9S_Phone_Brown\\sm00\\#01\\data\\udp_dnlk_loss_latency\\home\\wmnlab\\jackbedford\\data\\2023-11-09\\UDP_Bandlock_9S_Phone_Brown\\sm06\\#01\\data\\udp_dnlk_loss_latency.csv\n",
      "150/216 /home/wmnlab/jackbedford/data/2023-11-09/UDP_Bandlock_9S_Phone_Brown/sm00/#01/data/handover_info_log.csv\n",
      "150/216 /home/wmnlab/jackbedford/data/2023-11-09/UDP_Bandlock_9S_Phone_Brown/sm00/#01/data/udp_dnlk_loss_latency.csv\n",
      "150/216 /home/wmnlab/jackbedford/data/2023-11-09/UDP_Bandlock_9S_Phone_Brown/sm00/#01/data/udp_uplk_loss_latency.csv\n",
      "150/216 /home/wmnlab/jackbedford/data/2023-11-09/UDP_Bandlock_9S_Phone_Brown/sm07/#01/data/handover_info_log.csv\n",
      "150/216 /home/wmnlab/jackbedford/data/2023-11-09/UDP_Bandlock_9S_Phone_Brown/sm07/#01/data/udp_dnlk_loss_latency.csv\n",
      "150/216 /home/wmnlab/jackbedford/data/2023-11-09/UDP_Bandlock_9S_Phone_Brown/sm07/#01/data/udp_uplk_loss_latency.csv\n"
     ]
    },
    {
     "data": {
      "application/vnd.jupyter.widget-view+json": {
       "model_id": "e2af0a0eb2424583a297797bb466aec9",
       "version_major": 2,
       "version_minor": 0
      },
      "text/plain": [
       "  0%|                                                                                                         …"
      ]
     },
     "metadata": {},
     "output_type": "display_data"
    },
    {
     "name": "stdout",
     "output_type": "stream",
     "text": [
      "./20240312_150032342e_newest/20240314_060073cc2b/results/20240314_09355400000_d7d867943ca2abed_1.5corr/\\home\\wmnlab\\jackbedford\\data\\2023-11-09\\UDP_Bandlock_9S_Phone_Brown\\sm00\\#01\\data\\udp_dnlk_loss_latency\\home\\wmnlab\\jackbedford\\data\\2023-11-09\\UDP_Bandlock_9S_Phone_Brown\\sm07\\#01\\data\\udp_dnlk_loss_latency.csv\n",
      "151/216 /home/wmnlab/jackbedford/data/2023-11-09/UDP_Bandlock_9S_Phone_Brown/sm00/#01/data/handover_info_log.csv\n",
      "151/216 /home/wmnlab/jackbedford/data/2023-11-09/UDP_Bandlock_9S_Phone_Brown/sm00/#01/data/udp_dnlk_loss_latency.csv\n",
      "151/216 /home/wmnlab/jackbedford/data/2023-11-09/UDP_Bandlock_9S_Phone_Brown/sm00/#01/data/udp_uplk_loss_latency.csv\n",
      "151/216 /home/wmnlab/jackbedford/data/2023-11-09/UDP_Bandlock_9S_Phone_Brown/sm08/#01/data/handover_info_log.csv\n",
      "151/216 /home/wmnlab/jackbedford/data/2023-11-09/UDP_Bandlock_9S_Phone_Brown/sm08/#01/data/udp_dnlk_loss_latency.csv\n",
      "151/216 /home/wmnlab/jackbedford/data/2023-11-09/UDP_Bandlock_9S_Phone_Brown/sm08/#01/data/udp_uplk_loss_latency.csv\n"
     ]
    },
    {
     "data": {
      "application/vnd.jupyter.widget-view+json": {
       "model_id": "20b718ef29614939bff00a6e26dd69a0",
       "version_major": 2,
       "version_minor": 0
      },
      "text/plain": [
       "  0%|                                                                                                         …"
      ]
     },
     "metadata": {},
     "output_type": "display_data"
    },
    {
     "name": "stdout",
     "output_type": "stream",
     "text": [
      "./20240312_150032342e_newest/20240314_060073cc2b/results/20240314_09355400000_d7d867943ca2abed_1.5corr/\\home\\wmnlab\\jackbedford\\data\\2023-11-09\\UDP_Bandlock_9S_Phone_Brown\\sm00\\#01\\data\\udp_dnlk_loss_latency\\home\\wmnlab\\jackbedford\\data\\2023-11-09\\UDP_Bandlock_9S_Phone_Brown\\sm08\\#01\\data\\udp_dnlk_loss_latency.csv\n",
      "152/216 /home/wmnlab/jackbedford/data/2023-11-09/UDP_Bandlock_9S_Phone_Brown/sm01/#01/data/handover_info_log.csv\n",
      "152/216 /home/wmnlab/jackbedford/data/2023-11-09/UDP_Bandlock_9S_Phone_Brown/sm01/#01/data/udp_dnlk_loss_latency.csv\n",
      "152/216 /home/wmnlab/jackbedford/data/2023-11-09/UDP_Bandlock_9S_Phone_Brown/sm01/#01/data/udp_uplk_loss_latency.csv\n",
      "152/216 /home/wmnlab/jackbedford/data/2023-11-09/UDP_Bandlock_9S_Phone_Brown/sm02/#01/data/handover_info_log.csv\n",
      "152/216 /home/wmnlab/jackbedford/data/2023-11-09/UDP_Bandlock_9S_Phone_Brown/sm02/#01/data/udp_dnlk_loss_latency.csv\n",
      "152/216 /home/wmnlab/jackbedford/data/2023-11-09/UDP_Bandlock_9S_Phone_Brown/sm02/#01/data/udp_uplk_loss_latency.csv\n"
     ]
    },
    {
     "data": {
      "application/vnd.jupyter.widget-view+json": {
       "model_id": "4c371bfc11c54b4a9e62c69ab6c8371d",
       "version_major": 2,
       "version_minor": 0
      },
      "text/plain": [
       "  0%|                                                                                                         …"
      ]
     },
     "metadata": {},
     "output_type": "display_data"
    },
    {
     "name": "stdout",
     "output_type": "stream",
     "text": [
      "./20240312_150032342e_newest/20240314_060073cc2b/results/20240314_09355400000_d7d867943ca2abed_1.5corr/\\home\\wmnlab\\jackbedford\\data\\2023-11-09\\UDP_Bandlock_9S_Phone_Brown\\sm01\\#01\\data\\udp_dnlk_loss_latency\\home\\wmnlab\\jackbedford\\data\\2023-11-09\\UDP_Bandlock_9S_Phone_Brown\\sm02\\#01\\data\\udp_dnlk_loss_latency.csv\n",
      "153/216 /home/wmnlab/jackbedford/data/2023-11-09/UDP_Bandlock_9S_Phone_Brown/sm01/#01/data/handover_info_log.csv\n",
      "153/216 /home/wmnlab/jackbedford/data/2023-11-09/UDP_Bandlock_9S_Phone_Brown/sm01/#01/data/udp_dnlk_loss_latency.csv\n",
      "153/216 /home/wmnlab/jackbedford/data/2023-11-09/UDP_Bandlock_9S_Phone_Brown/sm01/#01/data/udp_uplk_loss_latency.csv\n",
      "153/216 /home/wmnlab/jackbedford/data/2023-11-09/UDP_Bandlock_9S_Phone_Brown/sm03/#01/data/handover_info_log.csv\n",
      "153/216 /home/wmnlab/jackbedford/data/2023-11-09/UDP_Bandlock_9S_Phone_Brown/sm03/#01/data/udp_dnlk_loss_latency.csv\n",
      "153/216 /home/wmnlab/jackbedford/data/2023-11-09/UDP_Bandlock_9S_Phone_Brown/sm03/#01/data/udp_uplk_loss_latency.csv\n"
     ]
    },
    {
     "data": {
      "application/vnd.jupyter.widget-view+json": {
       "model_id": "b6c20d762c0f4e669beae31baf4877c8",
       "version_major": 2,
       "version_minor": 0
      },
      "text/plain": [
       "  0%|                                                                                                         …"
      ]
     },
     "metadata": {},
     "output_type": "display_data"
    },
    {
     "name": "stdout",
     "output_type": "stream",
     "text": [
      "./20240312_150032342e_newest/20240314_060073cc2b/results/20240314_09355400000_d7d867943ca2abed_1.5corr/\\home\\wmnlab\\jackbedford\\data\\2023-11-09\\UDP_Bandlock_9S_Phone_Brown\\sm01\\#01\\data\\udp_dnlk_loss_latency\\home\\wmnlab\\jackbedford\\data\\2023-11-09\\UDP_Bandlock_9S_Phone_Brown\\sm03\\#01\\data\\udp_dnlk_loss_latency.csv\n",
      "154/216 /home/wmnlab/jackbedford/data/2023-11-09/UDP_Bandlock_9S_Phone_Brown/sm01/#01/data/handover_info_log.csv\n",
      "154/216 /home/wmnlab/jackbedford/data/2023-11-09/UDP_Bandlock_9S_Phone_Brown/sm01/#01/data/udp_dnlk_loss_latency.csv\n",
      "154/216 /home/wmnlab/jackbedford/data/2023-11-09/UDP_Bandlock_9S_Phone_Brown/sm01/#01/data/udp_uplk_loss_latency.csv\n",
      "154/216 /home/wmnlab/jackbedford/data/2023-11-09/UDP_Bandlock_9S_Phone_Brown/sm04/#01/data/handover_info_log.csv\n",
      "154/216 /home/wmnlab/jackbedford/data/2023-11-09/UDP_Bandlock_9S_Phone_Brown/sm04/#01/data/udp_dnlk_loss_latency.csv\n",
      "154/216 /home/wmnlab/jackbedford/data/2023-11-09/UDP_Bandlock_9S_Phone_Brown/sm04/#01/data/udp_uplk_loss_latency.csv\n"
     ]
    },
    {
     "data": {
      "application/vnd.jupyter.widget-view+json": {
       "model_id": "43efbbd2a33b4e35a06587ea6a3ea819",
       "version_major": 2,
       "version_minor": 0
      },
      "text/plain": [
       "  0%|                                                                                                         …"
      ]
     },
     "metadata": {},
     "output_type": "display_data"
    },
    {
     "name": "stdout",
     "output_type": "stream",
     "text": [
      "./20240312_150032342e_newest/20240314_060073cc2b/results/20240314_09355400000_d7d867943ca2abed_1.5corr/\\home\\wmnlab\\jackbedford\\data\\2023-11-09\\UDP_Bandlock_9S_Phone_Brown\\sm01\\#01\\data\\udp_dnlk_loss_latency\\home\\wmnlab\\jackbedford\\data\\2023-11-09\\UDP_Bandlock_9S_Phone_Brown\\sm04\\#01\\data\\udp_dnlk_loss_latency.csv\n",
      "155/216 /home/wmnlab/jackbedford/data/2023-11-09/UDP_Bandlock_9S_Phone_Brown/sm01/#01/data/handover_info_log.csv\n",
      "155/216 /home/wmnlab/jackbedford/data/2023-11-09/UDP_Bandlock_9S_Phone_Brown/sm01/#01/data/udp_dnlk_loss_latency.csv\n",
      "155/216 /home/wmnlab/jackbedford/data/2023-11-09/UDP_Bandlock_9S_Phone_Brown/sm01/#01/data/udp_uplk_loss_latency.csv\n",
      "155/216 /home/wmnlab/jackbedford/data/2023-11-09/UDP_Bandlock_9S_Phone_Brown/sm05/#01/data/handover_info_log.csv\n",
      "155/216 /home/wmnlab/jackbedford/data/2023-11-09/UDP_Bandlock_9S_Phone_Brown/sm05/#01/data/udp_dnlk_loss_latency.csv\n",
      "155/216 /home/wmnlab/jackbedford/data/2023-11-09/UDP_Bandlock_9S_Phone_Brown/sm05/#01/data/udp_uplk_loss_latency.csv\n"
     ]
    },
    {
     "data": {
      "application/vnd.jupyter.widget-view+json": {
       "model_id": "aacda2d4cca24e85905e8e6ea68ca13d",
       "version_major": 2,
       "version_minor": 0
      },
      "text/plain": [
       "  0%|                                                                                                         …"
      ]
     },
     "metadata": {},
     "output_type": "display_data"
    },
    {
     "name": "stdout",
     "output_type": "stream",
     "text": [
      "./20240312_150032342e_newest/20240314_060073cc2b/results/20240314_09355400000_d7d867943ca2abed_1.5corr/\\home\\wmnlab\\jackbedford\\data\\2023-11-09\\UDP_Bandlock_9S_Phone_Brown\\sm01\\#01\\data\\udp_dnlk_loss_latency\\home\\wmnlab\\jackbedford\\data\\2023-11-09\\UDP_Bandlock_9S_Phone_Brown\\sm05\\#01\\data\\udp_dnlk_loss_latency.csv\n",
      "156/216 /home/wmnlab/jackbedford/data/2023-11-09/UDP_Bandlock_9S_Phone_Brown/sm01/#01/data/handover_info_log.csv\n",
      "156/216 /home/wmnlab/jackbedford/data/2023-11-09/UDP_Bandlock_9S_Phone_Brown/sm01/#01/data/udp_dnlk_loss_latency.csv\n",
      "156/216 /home/wmnlab/jackbedford/data/2023-11-09/UDP_Bandlock_9S_Phone_Brown/sm01/#01/data/udp_uplk_loss_latency.csv\n",
      "156/216 /home/wmnlab/jackbedford/data/2023-11-09/UDP_Bandlock_9S_Phone_Brown/sm06/#01/data/handover_info_log.csv\n",
      "156/216 /home/wmnlab/jackbedford/data/2023-11-09/UDP_Bandlock_9S_Phone_Brown/sm06/#01/data/udp_dnlk_loss_latency.csv\n",
      "156/216 /home/wmnlab/jackbedford/data/2023-11-09/UDP_Bandlock_9S_Phone_Brown/sm06/#01/data/udp_uplk_loss_latency.csv\n"
     ]
    },
    {
     "data": {
      "application/vnd.jupyter.widget-view+json": {
       "model_id": "8090fe77cfe54fd4969c47ab88c3b5c8",
       "version_major": 2,
       "version_minor": 0
      },
      "text/plain": [
       "  0%|                                                                                                         …"
      ]
     },
     "metadata": {},
     "output_type": "display_data"
    },
    {
     "name": "stdout",
     "output_type": "stream",
     "text": [
      "./20240312_150032342e_newest/20240314_060073cc2b/results/20240314_09355400000_d7d867943ca2abed_1.5corr/\\home\\wmnlab\\jackbedford\\data\\2023-11-09\\UDP_Bandlock_9S_Phone_Brown\\sm01\\#01\\data\\udp_dnlk_loss_latency\\home\\wmnlab\\jackbedford\\data\\2023-11-09\\UDP_Bandlock_9S_Phone_Brown\\sm06\\#01\\data\\udp_dnlk_loss_latency.csv\n",
      "157/216 /home/wmnlab/jackbedford/data/2023-11-09/UDP_Bandlock_9S_Phone_Brown/sm01/#01/data/handover_info_log.csv\n",
      "157/216 /home/wmnlab/jackbedford/data/2023-11-09/UDP_Bandlock_9S_Phone_Brown/sm01/#01/data/udp_dnlk_loss_latency.csv\n",
      "157/216 /home/wmnlab/jackbedford/data/2023-11-09/UDP_Bandlock_9S_Phone_Brown/sm01/#01/data/udp_uplk_loss_latency.csv\n",
      "157/216 /home/wmnlab/jackbedford/data/2023-11-09/UDP_Bandlock_9S_Phone_Brown/sm07/#01/data/handover_info_log.csv\n",
      "157/216 /home/wmnlab/jackbedford/data/2023-11-09/UDP_Bandlock_9S_Phone_Brown/sm07/#01/data/udp_dnlk_loss_latency.csv\n",
      "157/216 /home/wmnlab/jackbedford/data/2023-11-09/UDP_Bandlock_9S_Phone_Brown/sm07/#01/data/udp_uplk_loss_latency.csv\n"
     ]
    },
    {
     "data": {
      "application/vnd.jupyter.widget-view+json": {
       "model_id": "d6246bcbd36d4f95b073d365ada4ea55",
       "version_major": 2,
       "version_minor": 0
      },
      "text/plain": [
       "  0%|                                                                                                         …"
      ]
     },
     "metadata": {},
     "output_type": "display_data"
    },
    {
     "name": "stdout",
     "output_type": "stream",
     "text": [
      "./20240312_150032342e_newest/20240314_060073cc2b/results/20240314_09355400000_d7d867943ca2abed_1.5corr/\\home\\wmnlab\\jackbedford\\data\\2023-11-09\\UDP_Bandlock_9S_Phone_Brown\\sm01\\#01\\data\\udp_dnlk_loss_latency\\home\\wmnlab\\jackbedford\\data\\2023-11-09\\UDP_Bandlock_9S_Phone_Brown\\sm07\\#01\\data\\udp_dnlk_loss_latency.csv\n",
      "158/216 /home/wmnlab/jackbedford/data/2023-11-09/UDP_Bandlock_9S_Phone_Brown/sm01/#01/data/handover_info_log.csv\n",
      "158/216 /home/wmnlab/jackbedford/data/2023-11-09/UDP_Bandlock_9S_Phone_Brown/sm01/#01/data/udp_dnlk_loss_latency.csv\n",
      "158/216 /home/wmnlab/jackbedford/data/2023-11-09/UDP_Bandlock_9S_Phone_Brown/sm01/#01/data/udp_uplk_loss_latency.csv\n",
      "158/216 /home/wmnlab/jackbedford/data/2023-11-09/UDP_Bandlock_9S_Phone_Brown/sm08/#01/data/handover_info_log.csv\n",
      "158/216 /home/wmnlab/jackbedford/data/2023-11-09/UDP_Bandlock_9S_Phone_Brown/sm08/#01/data/udp_dnlk_loss_latency.csv\n",
      "158/216 /home/wmnlab/jackbedford/data/2023-11-09/UDP_Bandlock_9S_Phone_Brown/sm08/#01/data/udp_uplk_loss_latency.csv\n"
     ]
    },
    {
     "data": {
      "application/vnd.jupyter.widget-view+json": {
       "model_id": "19ba15f8ee144aaebd66166d95de5ee6",
       "version_major": 2,
       "version_minor": 0
      },
      "text/plain": [
       "  0%|                                                                                                         …"
      ]
     },
     "metadata": {},
     "output_type": "display_data"
    },
    {
     "name": "stdout",
     "output_type": "stream",
     "text": [
      "./20240312_150032342e_newest/20240314_060073cc2b/results/20240314_09355400000_d7d867943ca2abed_1.5corr/\\home\\wmnlab\\jackbedford\\data\\2023-11-09\\UDP_Bandlock_9S_Phone_Brown\\sm01\\#01\\data\\udp_dnlk_loss_latency\\home\\wmnlab\\jackbedford\\data\\2023-11-09\\UDP_Bandlock_9S_Phone_Brown\\sm08\\#01\\data\\udp_dnlk_loss_latency.csv\n",
      "159/216 /home/wmnlab/jackbedford/data/2023-11-09/UDP_Bandlock_9S_Phone_Brown/sm02/#01/data/handover_info_log.csv\n",
      "159/216 /home/wmnlab/jackbedford/data/2023-11-09/UDP_Bandlock_9S_Phone_Brown/sm02/#01/data/udp_dnlk_loss_latency.csv\n",
      "159/216 /home/wmnlab/jackbedford/data/2023-11-09/UDP_Bandlock_9S_Phone_Brown/sm02/#01/data/udp_uplk_loss_latency.csv\n",
      "159/216 /home/wmnlab/jackbedford/data/2023-11-09/UDP_Bandlock_9S_Phone_Brown/sm03/#01/data/handover_info_log.csv\n",
      "159/216 /home/wmnlab/jackbedford/data/2023-11-09/UDP_Bandlock_9S_Phone_Brown/sm03/#01/data/udp_dnlk_loss_latency.csv\n",
      "159/216 /home/wmnlab/jackbedford/data/2023-11-09/UDP_Bandlock_9S_Phone_Brown/sm03/#01/data/udp_uplk_loss_latency.csv\n"
     ]
    },
    {
     "data": {
      "application/vnd.jupyter.widget-view+json": {
       "model_id": "2128184a0e334f1fb42b0e94bace211a",
       "version_major": 2,
       "version_minor": 0
      },
      "text/plain": [
       "  0%|                                                                                                         …"
      ]
     },
     "metadata": {},
     "output_type": "display_data"
    },
    {
     "name": "stdout",
     "output_type": "stream",
     "text": [
      "./20240312_150032342e_newest/20240314_060073cc2b/results/20240314_09355400000_d7d867943ca2abed_1.5corr/\\home\\wmnlab\\jackbedford\\data\\2023-11-09\\UDP_Bandlock_9S_Phone_Brown\\sm02\\#01\\data\\udp_dnlk_loss_latency\\home\\wmnlab\\jackbedford\\data\\2023-11-09\\UDP_Bandlock_9S_Phone_Brown\\sm03\\#01\\data\\udp_dnlk_loss_latency.csv\n",
      "160/216 /home/wmnlab/jackbedford/data/2023-11-09/UDP_Bandlock_9S_Phone_Brown/sm02/#01/data/handover_info_log.csv\n",
      "160/216 /home/wmnlab/jackbedford/data/2023-11-09/UDP_Bandlock_9S_Phone_Brown/sm02/#01/data/udp_dnlk_loss_latency.csv\n",
      "160/216 /home/wmnlab/jackbedford/data/2023-11-09/UDP_Bandlock_9S_Phone_Brown/sm02/#01/data/udp_uplk_loss_latency.csv\n",
      "160/216 /home/wmnlab/jackbedford/data/2023-11-09/UDP_Bandlock_9S_Phone_Brown/sm04/#01/data/handover_info_log.csv\n",
      "160/216 /home/wmnlab/jackbedford/data/2023-11-09/UDP_Bandlock_9S_Phone_Brown/sm04/#01/data/udp_dnlk_loss_latency.csv\n",
      "160/216 /home/wmnlab/jackbedford/data/2023-11-09/UDP_Bandlock_9S_Phone_Brown/sm04/#01/data/udp_uplk_loss_latency.csv\n"
     ]
    },
    {
     "data": {
      "application/vnd.jupyter.widget-view+json": {
       "model_id": "61bccdf82d7a43ea8f22432d3ab8a186",
       "version_major": 2,
       "version_minor": 0
      },
      "text/plain": [
       "  0%|                                                                                                         …"
      ]
     },
     "metadata": {},
     "output_type": "display_data"
    },
    {
     "name": "stdout",
     "output_type": "stream",
     "text": [
      "./20240312_150032342e_newest/20240314_060073cc2b/results/20240314_09355400000_d7d867943ca2abed_1.5corr/\\home\\wmnlab\\jackbedford\\data\\2023-11-09\\UDP_Bandlock_9S_Phone_Brown\\sm02\\#01\\data\\udp_dnlk_loss_latency\\home\\wmnlab\\jackbedford\\data\\2023-11-09\\UDP_Bandlock_9S_Phone_Brown\\sm04\\#01\\data\\udp_dnlk_loss_latency.csv\n",
      "161/216 /home/wmnlab/jackbedford/data/2023-11-09/UDP_Bandlock_9S_Phone_Brown/sm02/#01/data/handover_info_log.csv\n",
      "161/216 /home/wmnlab/jackbedford/data/2023-11-09/UDP_Bandlock_9S_Phone_Brown/sm02/#01/data/udp_dnlk_loss_latency.csv\n",
      "161/216 /home/wmnlab/jackbedford/data/2023-11-09/UDP_Bandlock_9S_Phone_Brown/sm02/#01/data/udp_uplk_loss_latency.csv\n",
      "161/216 /home/wmnlab/jackbedford/data/2023-11-09/UDP_Bandlock_9S_Phone_Brown/sm05/#01/data/handover_info_log.csv\n",
      "161/216 /home/wmnlab/jackbedford/data/2023-11-09/UDP_Bandlock_9S_Phone_Brown/sm05/#01/data/udp_dnlk_loss_latency.csv\n",
      "161/216 /home/wmnlab/jackbedford/data/2023-11-09/UDP_Bandlock_9S_Phone_Brown/sm05/#01/data/udp_uplk_loss_latency.csv\n"
     ]
    },
    {
     "data": {
      "application/vnd.jupyter.widget-view+json": {
       "model_id": "02cd9854820446e78a324b695ad3d902",
       "version_major": 2,
       "version_minor": 0
      },
      "text/plain": [
       "  0%|                                                                                                         …"
      ]
     },
     "metadata": {},
     "output_type": "display_data"
    },
    {
     "name": "stdout",
     "output_type": "stream",
     "text": [
      "./20240312_150032342e_newest/20240314_060073cc2b/results/20240314_09355400000_d7d867943ca2abed_1.5corr/\\home\\wmnlab\\jackbedford\\data\\2023-11-09\\UDP_Bandlock_9S_Phone_Brown\\sm02\\#01\\data\\udp_dnlk_loss_latency\\home\\wmnlab\\jackbedford\\data\\2023-11-09\\UDP_Bandlock_9S_Phone_Brown\\sm05\\#01\\data\\udp_dnlk_loss_latency.csv\n",
      "162/216 /home/wmnlab/jackbedford/data/2023-11-09/UDP_Bandlock_9S_Phone_Brown/sm02/#01/data/handover_info_log.csv\n",
      "162/216 /home/wmnlab/jackbedford/data/2023-11-09/UDP_Bandlock_9S_Phone_Brown/sm02/#01/data/udp_dnlk_loss_latency.csv\n",
      "162/216 /home/wmnlab/jackbedford/data/2023-11-09/UDP_Bandlock_9S_Phone_Brown/sm02/#01/data/udp_uplk_loss_latency.csv\n",
      "162/216 /home/wmnlab/jackbedford/data/2023-11-09/UDP_Bandlock_9S_Phone_Brown/sm06/#01/data/handover_info_log.csv\n",
      "162/216 /home/wmnlab/jackbedford/data/2023-11-09/UDP_Bandlock_9S_Phone_Brown/sm06/#01/data/udp_dnlk_loss_latency.csv\n",
      "162/216 /home/wmnlab/jackbedford/data/2023-11-09/UDP_Bandlock_9S_Phone_Brown/sm06/#01/data/udp_uplk_loss_latency.csv\n"
     ]
    },
    {
     "data": {
      "application/vnd.jupyter.widget-view+json": {
       "model_id": "cbb5148ceaf0423184551da390feecd0",
       "version_major": 2,
       "version_minor": 0
      },
      "text/plain": [
       "  0%|                                                                                                         …"
      ]
     },
     "metadata": {},
     "output_type": "display_data"
    },
    {
     "name": "stdout",
     "output_type": "stream",
     "text": [
      "./20240312_150032342e_newest/20240314_060073cc2b/results/20240314_09355400000_d7d867943ca2abed_1.5corr/\\home\\wmnlab\\jackbedford\\data\\2023-11-09\\UDP_Bandlock_9S_Phone_Brown\\sm02\\#01\\data\\udp_dnlk_loss_latency\\home\\wmnlab\\jackbedford\\data\\2023-11-09\\UDP_Bandlock_9S_Phone_Brown\\sm06\\#01\\data\\udp_dnlk_loss_latency.csv\n",
      "163/216 /home/wmnlab/jackbedford/data/2023-11-09/UDP_Bandlock_9S_Phone_Brown/sm02/#01/data/handover_info_log.csv\n",
      "163/216 /home/wmnlab/jackbedford/data/2023-11-09/UDP_Bandlock_9S_Phone_Brown/sm02/#01/data/udp_dnlk_loss_latency.csv\n",
      "163/216 /home/wmnlab/jackbedford/data/2023-11-09/UDP_Bandlock_9S_Phone_Brown/sm02/#01/data/udp_uplk_loss_latency.csv\n",
      "163/216 /home/wmnlab/jackbedford/data/2023-11-09/UDP_Bandlock_9S_Phone_Brown/sm07/#01/data/handover_info_log.csv\n",
      "163/216 /home/wmnlab/jackbedford/data/2023-11-09/UDP_Bandlock_9S_Phone_Brown/sm07/#01/data/udp_dnlk_loss_latency.csv\n",
      "163/216 /home/wmnlab/jackbedford/data/2023-11-09/UDP_Bandlock_9S_Phone_Brown/sm07/#01/data/udp_uplk_loss_latency.csv\n"
     ]
    },
    {
     "data": {
      "application/vnd.jupyter.widget-view+json": {
       "model_id": "b45eb676d5e14ee28a1bb512d6c52590",
       "version_major": 2,
       "version_minor": 0
      },
      "text/plain": [
       "  0%|                                                                                                         …"
      ]
     },
     "metadata": {},
     "output_type": "display_data"
    },
    {
     "name": "stdout",
     "output_type": "stream",
     "text": [
      "./20240312_150032342e_newest/20240314_060073cc2b/results/20240314_09355400000_d7d867943ca2abed_1.5corr/\\home\\wmnlab\\jackbedford\\data\\2023-11-09\\UDP_Bandlock_9S_Phone_Brown\\sm02\\#01\\data\\udp_dnlk_loss_latency\\home\\wmnlab\\jackbedford\\data\\2023-11-09\\UDP_Bandlock_9S_Phone_Brown\\sm07\\#01\\data\\udp_dnlk_loss_latency.csv\n",
      "164/216 /home/wmnlab/jackbedford/data/2023-11-09/UDP_Bandlock_9S_Phone_Brown/sm02/#01/data/handover_info_log.csv\n",
      "164/216 /home/wmnlab/jackbedford/data/2023-11-09/UDP_Bandlock_9S_Phone_Brown/sm02/#01/data/udp_dnlk_loss_latency.csv\n",
      "164/216 /home/wmnlab/jackbedford/data/2023-11-09/UDP_Bandlock_9S_Phone_Brown/sm02/#01/data/udp_uplk_loss_latency.csv\n",
      "164/216 /home/wmnlab/jackbedford/data/2023-11-09/UDP_Bandlock_9S_Phone_Brown/sm08/#01/data/handover_info_log.csv\n",
      "164/216 /home/wmnlab/jackbedford/data/2023-11-09/UDP_Bandlock_9S_Phone_Brown/sm08/#01/data/udp_dnlk_loss_latency.csv\n",
      "164/216 /home/wmnlab/jackbedford/data/2023-11-09/UDP_Bandlock_9S_Phone_Brown/sm08/#01/data/udp_uplk_loss_latency.csv\n"
     ]
    },
    {
     "data": {
      "application/vnd.jupyter.widget-view+json": {
       "model_id": "3e5bc27f43d740d2ba7ac770cd70ebf6",
       "version_major": 2,
       "version_minor": 0
      },
      "text/plain": [
       "  0%|                                                                                                         …"
      ]
     },
     "metadata": {},
     "output_type": "display_data"
    },
    {
     "name": "stdout",
     "output_type": "stream",
     "text": [
      "./20240312_150032342e_newest/20240314_060073cc2b/results/20240314_09355400000_d7d867943ca2abed_1.5corr/\\home\\wmnlab\\jackbedford\\data\\2023-11-09\\UDP_Bandlock_9S_Phone_Brown\\sm02\\#01\\data\\udp_dnlk_loss_latency\\home\\wmnlab\\jackbedford\\data\\2023-11-09\\UDP_Bandlock_9S_Phone_Brown\\sm08\\#01\\data\\udp_dnlk_loss_latency.csv\n",
      "165/216 /home/wmnlab/jackbedford/data/2023-11-09/UDP_Bandlock_9S_Phone_Brown/sm03/#01/data/handover_info_log.csv\n",
      "165/216 /home/wmnlab/jackbedford/data/2023-11-09/UDP_Bandlock_9S_Phone_Brown/sm03/#01/data/udp_dnlk_loss_latency.csv\n",
      "165/216 /home/wmnlab/jackbedford/data/2023-11-09/UDP_Bandlock_9S_Phone_Brown/sm03/#01/data/udp_uplk_loss_latency.csv\n",
      "165/216 /home/wmnlab/jackbedford/data/2023-11-09/UDP_Bandlock_9S_Phone_Brown/sm04/#01/data/handover_info_log.csv\n",
      "165/216 /home/wmnlab/jackbedford/data/2023-11-09/UDP_Bandlock_9S_Phone_Brown/sm04/#01/data/udp_dnlk_loss_latency.csv\n",
      "165/216 /home/wmnlab/jackbedford/data/2023-11-09/UDP_Bandlock_9S_Phone_Brown/sm04/#01/data/udp_uplk_loss_latency.csv\n"
     ]
    },
    {
     "data": {
      "application/vnd.jupyter.widget-view+json": {
       "model_id": "cae51e408409416ea0720aef7faf1984",
       "version_major": 2,
       "version_minor": 0
      },
      "text/plain": [
       "  0%|                                                                                                         …"
      ]
     },
     "metadata": {},
     "output_type": "display_data"
    },
    {
     "name": "stdout",
     "output_type": "stream",
     "text": [
      "./20240312_150032342e_newest/20240314_060073cc2b/results/20240314_09355400000_d7d867943ca2abed_1.5corr/\\home\\wmnlab\\jackbedford\\data\\2023-11-09\\UDP_Bandlock_9S_Phone_Brown\\sm03\\#01\\data\\udp_dnlk_loss_latency\\home\\wmnlab\\jackbedford\\data\\2023-11-09\\UDP_Bandlock_9S_Phone_Brown\\sm04\\#01\\data\\udp_dnlk_loss_latency.csv\n",
      "166/216 /home/wmnlab/jackbedford/data/2023-11-09/UDP_Bandlock_9S_Phone_Brown/sm03/#01/data/handover_info_log.csv\n",
      "166/216 /home/wmnlab/jackbedford/data/2023-11-09/UDP_Bandlock_9S_Phone_Brown/sm03/#01/data/udp_dnlk_loss_latency.csv\n",
      "166/216 /home/wmnlab/jackbedford/data/2023-11-09/UDP_Bandlock_9S_Phone_Brown/sm03/#01/data/udp_uplk_loss_latency.csv\n",
      "166/216 /home/wmnlab/jackbedford/data/2023-11-09/UDP_Bandlock_9S_Phone_Brown/sm05/#01/data/handover_info_log.csv\n",
      "166/216 /home/wmnlab/jackbedford/data/2023-11-09/UDP_Bandlock_9S_Phone_Brown/sm05/#01/data/udp_dnlk_loss_latency.csv\n",
      "166/216 /home/wmnlab/jackbedford/data/2023-11-09/UDP_Bandlock_9S_Phone_Brown/sm05/#01/data/udp_uplk_loss_latency.csv\n"
     ]
    },
    {
     "data": {
      "application/vnd.jupyter.widget-view+json": {
       "model_id": "51e373418c6f40e0a6a981a941b56608",
       "version_major": 2,
       "version_minor": 0
      },
      "text/plain": [
       "  0%|                                                                                                         …"
      ]
     },
     "metadata": {},
     "output_type": "display_data"
    },
    {
     "name": "stdout",
     "output_type": "stream",
     "text": [
      "./20240312_150032342e_newest/20240314_060073cc2b/results/20240314_09355400000_d7d867943ca2abed_1.5corr/\\home\\wmnlab\\jackbedford\\data\\2023-11-09\\UDP_Bandlock_9S_Phone_Brown\\sm03\\#01\\data\\udp_dnlk_loss_latency\\home\\wmnlab\\jackbedford\\data\\2023-11-09\\UDP_Bandlock_9S_Phone_Brown\\sm05\\#01\\data\\udp_dnlk_loss_latency.csv\n",
      "167/216 /home/wmnlab/jackbedford/data/2023-11-09/UDP_Bandlock_9S_Phone_Brown/sm03/#01/data/handover_info_log.csv\n",
      "167/216 /home/wmnlab/jackbedford/data/2023-11-09/UDP_Bandlock_9S_Phone_Brown/sm03/#01/data/udp_dnlk_loss_latency.csv\n",
      "167/216 /home/wmnlab/jackbedford/data/2023-11-09/UDP_Bandlock_9S_Phone_Brown/sm03/#01/data/udp_uplk_loss_latency.csv\n",
      "167/216 /home/wmnlab/jackbedford/data/2023-11-09/UDP_Bandlock_9S_Phone_Brown/sm06/#01/data/handover_info_log.csv\n",
      "167/216 /home/wmnlab/jackbedford/data/2023-11-09/UDP_Bandlock_9S_Phone_Brown/sm06/#01/data/udp_dnlk_loss_latency.csv\n",
      "167/216 /home/wmnlab/jackbedford/data/2023-11-09/UDP_Bandlock_9S_Phone_Brown/sm06/#01/data/udp_uplk_loss_latency.csv\n"
     ]
    },
    {
     "data": {
      "application/vnd.jupyter.widget-view+json": {
       "model_id": "53a17c77ff604c13b3eb934012d446b5",
       "version_major": 2,
       "version_minor": 0
      },
      "text/plain": [
       "  0%|                                                                                                         …"
      ]
     },
     "metadata": {},
     "output_type": "display_data"
    },
    {
     "name": "stdout",
     "output_type": "stream",
     "text": [
      "./20240312_150032342e_newest/20240314_060073cc2b/results/20240314_09355400000_d7d867943ca2abed_1.5corr/\\home\\wmnlab\\jackbedford\\data\\2023-11-09\\UDP_Bandlock_9S_Phone_Brown\\sm03\\#01\\data\\udp_dnlk_loss_latency\\home\\wmnlab\\jackbedford\\data\\2023-11-09\\UDP_Bandlock_9S_Phone_Brown\\sm06\\#01\\data\\udp_dnlk_loss_latency.csv\n",
      "168/216 /home/wmnlab/jackbedford/data/2023-11-09/UDP_Bandlock_9S_Phone_Brown/sm03/#01/data/handover_info_log.csv\n",
      "168/216 /home/wmnlab/jackbedford/data/2023-11-09/UDP_Bandlock_9S_Phone_Brown/sm03/#01/data/udp_dnlk_loss_latency.csv\n",
      "168/216 /home/wmnlab/jackbedford/data/2023-11-09/UDP_Bandlock_9S_Phone_Brown/sm03/#01/data/udp_uplk_loss_latency.csv\n",
      "168/216 /home/wmnlab/jackbedford/data/2023-11-09/UDP_Bandlock_9S_Phone_Brown/sm07/#01/data/handover_info_log.csv\n",
      "168/216 /home/wmnlab/jackbedford/data/2023-11-09/UDP_Bandlock_9S_Phone_Brown/sm07/#01/data/udp_dnlk_loss_latency.csv\n",
      "168/216 /home/wmnlab/jackbedford/data/2023-11-09/UDP_Bandlock_9S_Phone_Brown/sm07/#01/data/udp_uplk_loss_latency.csv\n"
     ]
    },
    {
     "data": {
      "application/vnd.jupyter.widget-view+json": {
       "model_id": "903401eed97c47ae9f1d06ccc268fc8c",
       "version_major": 2,
       "version_minor": 0
      },
      "text/plain": [
       "  0%|                                                                                                         …"
      ]
     },
     "metadata": {},
     "output_type": "display_data"
    },
    {
     "name": "stdout",
     "output_type": "stream",
     "text": [
      "./20240312_150032342e_newest/20240314_060073cc2b/results/20240314_09355400000_d7d867943ca2abed_1.5corr/\\home\\wmnlab\\jackbedford\\data\\2023-11-09\\UDP_Bandlock_9S_Phone_Brown\\sm03\\#01\\data\\udp_dnlk_loss_latency\\home\\wmnlab\\jackbedford\\data\\2023-11-09\\UDP_Bandlock_9S_Phone_Brown\\sm07\\#01\\data\\udp_dnlk_loss_latency.csv\n",
      "169/216 /home/wmnlab/jackbedford/data/2023-11-09/UDP_Bandlock_9S_Phone_Brown/sm03/#01/data/handover_info_log.csv\n",
      "169/216 /home/wmnlab/jackbedford/data/2023-11-09/UDP_Bandlock_9S_Phone_Brown/sm03/#01/data/udp_dnlk_loss_latency.csv\n",
      "169/216 /home/wmnlab/jackbedford/data/2023-11-09/UDP_Bandlock_9S_Phone_Brown/sm03/#01/data/udp_uplk_loss_latency.csv\n",
      "169/216 /home/wmnlab/jackbedford/data/2023-11-09/UDP_Bandlock_9S_Phone_Brown/sm08/#01/data/handover_info_log.csv\n",
      "169/216 /home/wmnlab/jackbedford/data/2023-11-09/UDP_Bandlock_9S_Phone_Brown/sm08/#01/data/udp_dnlk_loss_latency.csv\n",
      "169/216 /home/wmnlab/jackbedford/data/2023-11-09/UDP_Bandlock_9S_Phone_Brown/sm08/#01/data/udp_uplk_loss_latency.csv\n"
     ]
    },
    {
     "data": {
      "application/vnd.jupyter.widget-view+json": {
       "model_id": "1f71a52aef704d1f9ebb6e6c2415a39f",
       "version_major": 2,
       "version_minor": 0
      },
      "text/plain": [
       "  0%|                                                                                                         …"
      ]
     },
     "metadata": {},
     "output_type": "display_data"
    },
    {
     "name": "stdout",
     "output_type": "stream",
     "text": [
      "./20240312_150032342e_newest/20240314_060073cc2b/results/20240314_09355400000_d7d867943ca2abed_1.5corr/\\home\\wmnlab\\jackbedford\\data\\2023-11-09\\UDP_Bandlock_9S_Phone_Brown\\sm03\\#01\\data\\udp_dnlk_loss_latency\\home\\wmnlab\\jackbedford\\data\\2023-11-09\\UDP_Bandlock_9S_Phone_Brown\\sm08\\#01\\data\\udp_dnlk_loss_latency.csv\n",
      "170/216 /home/wmnlab/jackbedford/data/2023-11-09/UDP_Bandlock_9S_Phone_Brown/sm04/#01/data/handover_info_log.csv\n",
      "170/216 /home/wmnlab/jackbedford/data/2023-11-09/UDP_Bandlock_9S_Phone_Brown/sm04/#01/data/udp_dnlk_loss_latency.csv\n",
      "170/216 /home/wmnlab/jackbedford/data/2023-11-09/UDP_Bandlock_9S_Phone_Brown/sm04/#01/data/udp_uplk_loss_latency.csv\n",
      "170/216 /home/wmnlab/jackbedford/data/2023-11-09/UDP_Bandlock_9S_Phone_Brown/sm05/#01/data/handover_info_log.csv\n",
      "170/216 /home/wmnlab/jackbedford/data/2023-11-09/UDP_Bandlock_9S_Phone_Brown/sm05/#01/data/udp_dnlk_loss_latency.csv\n",
      "170/216 /home/wmnlab/jackbedford/data/2023-11-09/UDP_Bandlock_9S_Phone_Brown/sm05/#01/data/udp_uplk_loss_latency.csv\n"
     ]
    },
    {
     "data": {
      "application/vnd.jupyter.widget-view+json": {
       "model_id": "111d674003c24df9a8705c547d7b20ca",
       "version_major": 2,
       "version_minor": 0
      },
      "text/plain": [
       "  0%|                                                                                                         …"
      ]
     },
     "metadata": {},
     "output_type": "display_data"
    },
    {
     "name": "stdout",
     "output_type": "stream",
     "text": [
      "./20240312_150032342e_newest/20240314_060073cc2b/results/20240314_09355400000_d7d867943ca2abed_1.5corr/\\home\\wmnlab\\jackbedford\\data\\2023-11-09\\UDP_Bandlock_9S_Phone_Brown\\sm04\\#01\\data\\udp_dnlk_loss_latency\\home\\wmnlab\\jackbedford\\data\\2023-11-09\\UDP_Bandlock_9S_Phone_Brown\\sm05\\#01\\data\\udp_dnlk_loss_latency.csv\n",
      "171/216 /home/wmnlab/jackbedford/data/2023-11-09/UDP_Bandlock_9S_Phone_Brown/sm04/#01/data/handover_info_log.csv\n",
      "171/216 /home/wmnlab/jackbedford/data/2023-11-09/UDP_Bandlock_9S_Phone_Brown/sm04/#01/data/udp_dnlk_loss_latency.csv\n",
      "171/216 /home/wmnlab/jackbedford/data/2023-11-09/UDP_Bandlock_9S_Phone_Brown/sm04/#01/data/udp_uplk_loss_latency.csv\n",
      "171/216 /home/wmnlab/jackbedford/data/2023-11-09/UDP_Bandlock_9S_Phone_Brown/sm06/#01/data/handover_info_log.csv\n",
      "171/216 /home/wmnlab/jackbedford/data/2023-11-09/UDP_Bandlock_9S_Phone_Brown/sm06/#01/data/udp_dnlk_loss_latency.csv\n",
      "171/216 /home/wmnlab/jackbedford/data/2023-11-09/UDP_Bandlock_9S_Phone_Brown/sm06/#01/data/udp_uplk_loss_latency.csv\n"
     ]
    },
    {
     "data": {
      "application/vnd.jupyter.widget-view+json": {
       "model_id": "b611ece047c445f0a6bb3b091c1a6894",
       "version_major": 2,
       "version_minor": 0
      },
      "text/plain": [
       "  0%|                                                                                                         …"
      ]
     },
     "metadata": {},
     "output_type": "display_data"
    },
    {
     "name": "stdout",
     "output_type": "stream",
     "text": [
      "./20240312_150032342e_newest/20240314_060073cc2b/results/20240314_09355400000_d7d867943ca2abed_1.5corr/\\home\\wmnlab\\jackbedford\\data\\2023-11-09\\UDP_Bandlock_9S_Phone_Brown\\sm04\\#01\\data\\udp_dnlk_loss_latency\\home\\wmnlab\\jackbedford\\data\\2023-11-09\\UDP_Bandlock_9S_Phone_Brown\\sm06\\#01\\data\\udp_dnlk_loss_latency.csv\n",
      "172/216 /home/wmnlab/jackbedford/data/2023-11-09/UDP_Bandlock_9S_Phone_Brown/sm04/#01/data/handover_info_log.csv\n",
      "172/216 /home/wmnlab/jackbedford/data/2023-11-09/UDP_Bandlock_9S_Phone_Brown/sm04/#01/data/udp_dnlk_loss_latency.csv\n",
      "172/216 /home/wmnlab/jackbedford/data/2023-11-09/UDP_Bandlock_9S_Phone_Brown/sm04/#01/data/udp_uplk_loss_latency.csv\n",
      "172/216 /home/wmnlab/jackbedford/data/2023-11-09/UDP_Bandlock_9S_Phone_Brown/sm07/#01/data/handover_info_log.csv\n",
      "172/216 /home/wmnlab/jackbedford/data/2023-11-09/UDP_Bandlock_9S_Phone_Brown/sm07/#01/data/udp_dnlk_loss_latency.csv\n",
      "172/216 /home/wmnlab/jackbedford/data/2023-11-09/UDP_Bandlock_9S_Phone_Brown/sm07/#01/data/udp_uplk_loss_latency.csv\n"
     ]
    },
    {
     "data": {
      "application/vnd.jupyter.widget-view+json": {
       "model_id": "cf44c0a5f349496d80a2260749e24fa1",
       "version_major": 2,
       "version_minor": 0
      },
      "text/plain": [
       "  0%|                                                                                                         …"
      ]
     },
     "metadata": {},
     "output_type": "display_data"
    },
    {
     "name": "stdout",
     "output_type": "stream",
     "text": [
      "./20240312_150032342e_newest/20240314_060073cc2b/results/20240314_09355400000_d7d867943ca2abed_1.5corr/\\home\\wmnlab\\jackbedford\\data\\2023-11-09\\UDP_Bandlock_9S_Phone_Brown\\sm04\\#01\\data\\udp_dnlk_loss_latency\\home\\wmnlab\\jackbedford\\data\\2023-11-09\\UDP_Bandlock_9S_Phone_Brown\\sm07\\#01\\data\\udp_dnlk_loss_latency.csv\n",
      "173/216 /home/wmnlab/jackbedford/data/2023-11-09/UDP_Bandlock_9S_Phone_Brown/sm04/#01/data/handover_info_log.csv\n",
      "173/216 /home/wmnlab/jackbedford/data/2023-11-09/UDP_Bandlock_9S_Phone_Brown/sm04/#01/data/udp_dnlk_loss_latency.csv\n",
      "173/216 /home/wmnlab/jackbedford/data/2023-11-09/UDP_Bandlock_9S_Phone_Brown/sm04/#01/data/udp_uplk_loss_latency.csv\n",
      "173/216 /home/wmnlab/jackbedford/data/2023-11-09/UDP_Bandlock_9S_Phone_Brown/sm08/#01/data/handover_info_log.csv\n",
      "173/216 /home/wmnlab/jackbedford/data/2023-11-09/UDP_Bandlock_9S_Phone_Brown/sm08/#01/data/udp_dnlk_loss_latency.csv\n",
      "173/216 /home/wmnlab/jackbedford/data/2023-11-09/UDP_Bandlock_9S_Phone_Brown/sm08/#01/data/udp_uplk_loss_latency.csv\n"
     ]
    },
    {
     "data": {
      "application/vnd.jupyter.widget-view+json": {
       "model_id": "3e848610a580474c8d5885b11eef96cb",
       "version_major": 2,
       "version_minor": 0
      },
      "text/plain": [
       "  0%|                                                                                                         …"
      ]
     },
     "metadata": {},
     "output_type": "display_data"
    },
    {
     "name": "stdout",
     "output_type": "stream",
     "text": [
      "./20240312_150032342e_newest/20240314_060073cc2b/results/20240314_09355400000_d7d867943ca2abed_1.5corr/\\home\\wmnlab\\jackbedford\\data\\2023-11-09\\UDP_Bandlock_9S_Phone_Brown\\sm04\\#01\\data\\udp_dnlk_loss_latency\\home\\wmnlab\\jackbedford\\data\\2023-11-09\\UDP_Bandlock_9S_Phone_Brown\\sm08\\#01\\data\\udp_dnlk_loss_latency.csv\n",
      "174/216 /home/wmnlab/jackbedford/data/2023-11-09/UDP_Bandlock_9S_Phone_Brown/sm05/#01/data/handover_info_log.csv\n",
      "174/216 /home/wmnlab/jackbedford/data/2023-11-09/UDP_Bandlock_9S_Phone_Brown/sm05/#01/data/udp_dnlk_loss_latency.csv\n",
      "174/216 /home/wmnlab/jackbedford/data/2023-11-09/UDP_Bandlock_9S_Phone_Brown/sm05/#01/data/udp_uplk_loss_latency.csv\n",
      "174/216 /home/wmnlab/jackbedford/data/2023-11-09/UDP_Bandlock_9S_Phone_Brown/sm06/#01/data/handover_info_log.csv\n",
      "174/216 /home/wmnlab/jackbedford/data/2023-11-09/UDP_Bandlock_9S_Phone_Brown/sm06/#01/data/udp_dnlk_loss_latency.csv\n",
      "174/216 /home/wmnlab/jackbedford/data/2023-11-09/UDP_Bandlock_9S_Phone_Brown/sm06/#01/data/udp_uplk_loss_latency.csv\n"
     ]
    },
    {
     "data": {
      "application/vnd.jupyter.widget-view+json": {
       "model_id": "f61f8c4799c04c60b2b42103765c7b76",
       "version_major": 2,
       "version_minor": 0
      },
      "text/plain": [
       "  0%|                                                                                                         …"
      ]
     },
     "metadata": {},
     "output_type": "display_data"
    },
    {
     "name": "stdout",
     "output_type": "stream",
     "text": [
      "./20240312_150032342e_newest/20240314_060073cc2b/results/20240314_09355400000_d7d867943ca2abed_1.5corr/\\home\\wmnlab\\jackbedford\\data\\2023-11-09\\UDP_Bandlock_9S_Phone_Brown\\sm05\\#01\\data\\udp_dnlk_loss_latency\\home\\wmnlab\\jackbedford\\data\\2023-11-09\\UDP_Bandlock_9S_Phone_Brown\\sm06\\#01\\data\\udp_dnlk_loss_latency.csv\n",
      "175/216 /home/wmnlab/jackbedford/data/2023-11-09/UDP_Bandlock_9S_Phone_Brown/sm05/#01/data/handover_info_log.csv\n",
      "175/216 /home/wmnlab/jackbedford/data/2023-11-09/UDP_Bandlock_9S_Phone_Brown/sm05/#01/data/udp_dnlk_loss_latency.csv\n",
      "175/216 /home/wmnlab/jackbedford/data/2023-11-09/UDP_Bandlock_9S_Phone_Brown/sm05/#01/data/udp_uplk_loss_latency.csv\n",
      "175/216 /home/wmnlab/jackbedford/data/2023-11-09/UDP_Bandlock_9S_Phone_Brown/sm07/#01/data/handover_info_log.csv\n",
      "175/216 /home/wmnlab/jackbedford/data/2023-11-09/UDP_Bandlock_9S_Phone_Brown/sm07/#01/data/udp_dnlk_loss_latency.csv\n",
      "175/216 /home/wmnlab/jackbedford/data/2023-11-09/UDP_Bandlock_9S_Phone_Brown/sm07/#01/data/udp_uplk_loss_latency.csv\n"
     ]
    },
    {
     "data": {
      "application/vnd.jupyter.widget-view+json": {
       "model_id": "fdaaaf325d384ea1bc68f42f37c0863d",
       "version_major": 2,
       "version_minor": 0
      },
      "text/plain": [
       "  0%|                                                                                                         …"
      ]
     },
     "metadata": {},
     "output_type": "display_data"
    },
    {
     "name": "stdout",
     "output_type": "stream",
     "text": [
      "./20240312_150032342e_newest/20240314_060073cc2b/results/20240314_09355400000_d7d867943ca2abed_1.5corr/\\home\\wmnlab\\jackbedford\\data\\2023-11-09\\UDP_Bandlock_9S_Phone_Brown\\sm05\\#01\\data\\udp_dnlk_loss_latency\\home\\wmnlab\\jackbedford\\data\\2023-11-09\\UDP_Bandlock_9S_Phone_Brown\\sm07\\#01\\data\\udp_dnlk_loss_latency.csv\n",
      "176/216 /home/wmnlab/jackbedford/data/2023-11-09/UDP_Bandlock_9S_Phone_Brown/sm05/#01/data/handover_info_log.csv\n",
      "176/216 /home/wmnlab/jackbedford/data/2023-11-09/UDP_Bandlock_9S_Phone_Brown/sm05/#01/data/udp_dnlk_loss_latency.csv\n",
      "176/216 /home/wmnlab/jackbedford/data/2023-11-09/UDP_Bandlock_9S_Phone_Brown/sm05/#01/data/udp_uplk_loss_latency.csv\n",
      "176/216 /home/wmnlab/jackbedford/data/2023-11-09/UDP_Bandlock_9S_Phone_Brown/sm08/#01/data/handover_info_log.csv\n",
      "176/216 /home/wmnlab/jackbedford/data/2023-11-09/UDP_Bandlock_9S_Phone_Brown/sm08/#01/data/udp_dnlk_loss_latency.csv\n",
      "176/216 /home/wmnlab/jackbedford/data/2023-11-09/UDP_Bandlock_9S_Phone_Brown/sm08/#01/data/udp_uplk_loss_latency.csv\n"
     ]
    },
    {
     "data": {
      "application/vnd.jupyter.widget-view+json": {
       "model_id": "8b8770ce279f4f80b09f3e02fbae7982",
       "version_major": 2,
       "version_minor": 0
      },
      "text/plain": [
       "  0%|                                                                                                         …"
      ]
     },
     "metadata": {},
     "output_type": "display_data"
    },
    {
     "name": "stdout",
     "output_type": "stream",
     "text": [
      "./20240312_150032342e_newest/20240314_060073cc2b/results/20240314_09355400000_d7d867943ca2abed_1.5corr/\\home\\wmnlab\\jackbedford\\data\\2023-11-09\\UDP_Bandlock_9S_Phone_Brown\\sm05\\#01\\data\\udp_dnlk_loss_latency\\home\\wmnlab\\jackbedford\\data\\2023-11-09\\UDP_Bandlock_9S_Phone_Brown\\sm08\\#01\\data\\udp_dnlk_loss_latency.csv\n",
      "177/216 /home/wmnlab/jackbedford/data/2023-11-09/UDP_Bandlock_9S_Phone_Brown/sm06/#01/data/handover_info_log.csv\n",
      "177/216 /home/wmnlab/jackbedford/data/2023-11-09/UDP_Bandlock_9S_Phone_Brown/sm06/#01/data/udp_dnlk_loss_latency.csv\n",
      "177/216 /home/wmnlab/jackbedford/data/2023-11-09/UDP_Bandlock_9S_Phone_Brown/sm06/#01/data/udp_uplk_loss_latency.csv\n",
      "177/216 /home/wmnlab/jackbedford/data/2023-11-09/UDP_Bandlock_9S_Phone_Brown/sm07/#01/data/handover_info_log.csv\n",
      "177/216 /home/wmnlab/jackbedford/data/2023-11-09/UDP_Bandlock_9S_Phone_Brown/sm07/#01/data/udp_dnlk_loss_latency.csv\n",
      "177/216 /home/wmnlab/jackbedford/data/2023-11-09/UDP_Bandlock_9S_Phone_Brown/sm07/#01/data/udp_uplk_loss_latency.csv\n"
     ]
    },
    {
     "data": {
      "application/vnd.jupyter.widget-view+json": {
       "model_id": "447b906e0f324e2aaa4f71fa4d7c53bf",
       "version_major": 2,
       "version_minor": 0
      },
      "text/plain": [
       "  0%|                                                                                                         …"
      ]
     },
     "metadata": {},
     "output_type": "display_data"
    },
    {
     "name": "stdout",
     "output_type": "stream",
     "text": [
      "./20240312_150032342e_newest/20240314_060073cc2b/results/20240314_09355400000_d7d867943ca2abed_1.5corr/\\home\\wmnlab\\jackbedford\\data\\2023-11-09\\UDP_Bandlock_9S_Phone_Brown\\sm06\\#01\\data\\udp_dnlk_loss_latency\\home\\wmnlab\\jackbedford\\data\\2023-11-09\\UDP_Bandlock_9S_Phone_Brown\\sm07\\#01\\data\\udp_dnlk_loss_latency.csv\n",
      "178/216 /home/wmnlab/jackbedford/data/2023-11-09/UDP_Bandlock_9S_Phone_Brown/sm06/#01/data/handover_info_log.csv\n",
      "178/216 /home/wmnlab/jackbedford/data/2023-11-09/UDP_Bandlock_9S_Phone_Brown/sm06/#01/data/udp_dnlk_loss_latency.csv\n",
      "178/216 /home/wmnlab/jackbedford/data/2023-11-09/UDP_Bandlock_9S_Phone_Brown/sm06/#01/data/udp_uplk_loss_latency.csv\n",
      "178/216 /home/wmnlab/jackbedford/data/2023-11-09/UDP_Bandlock_9S_Phone_Brown/sm08/#01/data/handover_info_log.csv\n",
      "178/216 /home/wmnlab/jackbedford/data/2023-11-09/UDP_Bandlock_9S_Phone_Brown/sm08/#01/data/udp_dnlk_loss_latency.csv\n",
      "178/216 /home/wmnlab/jackbedford/data/2023-11-09/UDP_Bandlock_9S_Phone_Brown/sm08/#01/data/udp_uplk_loss_latency.csv\n"
     ]
    },
    {
     "data": {
      "application/vnd.jupyter.widget-view+json": {
       "model_id": "bbc4eae2646a4a9386c2f8016e8381a2",
       "version_major": 2,
       "version_minor": 0
      },
      "text/plain": [
       "  0%|                                                                                                         …"
      ]
     },
     "metadata": {},
     "output_type": "display_data"
    },
    {
     "name": "stdout",
     "output_type": "stream",
     "text": [
      "./20240312_150032342e_newest/20240314_060073cc2b/results/20240314_09355400000_d7d867943ca2abed_1.5corr/\\home\\wmnlab\\jackbedford\\data\\2023-11-09\\UDP_Bandlock_9S_Phone_Brown\\sm06\\#01\\data\\udp_dnlk_loss_latency\\home\\wmnlab\\jackbedford\\data\\2023-11-09\\UDP_Bandlock_9S_Phone_Brown\\sm08\\#01\\data\\udp_dnlk_loss_latency.csv\n",
      "179/216 /home/wmnlab/jackbedford/data/2023-11-09/UDP_Bandlock_9S_Phone_Brown/sm07/#01/data/handover_info_log.csv\n",
      "179/216 /home/wmnlab/jackbedford/data/2023-11-09/UDP_Bandlock_9S_Phone_Brown/sm07/#01/data/udp_dnlk_loss_latency.csv\n",
      "179/216 /home/wmnlab/jackbedford/data/2023-11-09/UDP_Bandlock_9S_Phone_Brown/sm07/#01/data/udp_uplk_loss_latency.csv\n",
      "179/216 /home/wmnlab/jackbedford/data/2023-11-09/UDP_Bandlock_9S_Phone_Brown/sm08/#01/data/handover_info_log.csv\n",
      "179/216 /home/wmnlab/jackbedford/data/2023-11-09/UDP_Bandlock_9S_Phone_Brown/sm08/#01/data/udp_dnlk_loss_latency.csv\n",
      "179/216 /home/wmnlab/jackbedford/data/2023-11-09/UDP_Bandlock_9S_Phone_Brown/sm08/#01/data/udp_uplk_loss_latency.csv\n"
     ]
    },
    {
     "data": {
      "application/vnd.jupyter.widget-view+json": {
       "model_id": "e861e9565a494d7392ee50c5a2d517d8",
       "version_major": 2,
       "version_minor": 0
      },
      "text/plain": [
       "  0%|                                                                                                         …"
      ]
     },
     "metadata": {},
     "output_type": "display_data"
    },
    {
     "name": "stdout",
     "output_type": "stream",
     "text": [
      "./20240312_150032342e_newest/20240314_060073cc2b/results/20240314_09355400000_d7d867943ca2abed_1.5corr/\\home\\wmnlab\\jackbedford\\data\\2023-11-09\\UDP_Bandlock_9S_Phone_Brown\\sm07\\#01\\data\\udp_dnlk_loss_latency\\home\\wmnlab\\jackbedford\\data\\2023-11-09\\UDP_Bandlock_9S_Phone_Brown\\sm08\\#01\\data\\udp_dnlk_loss_latency.csv\n",
      "180/216 /home/wmnlab/jackbedford/data/2023-11-09/UDP_Bandlock_9S_Phone_Brown/sm00/#02/data/handover_info_log.csv\n",
      "180/216 /home/wmnlab/jackbedford/data/2023-11-09/UDP_Bandlock_9S_Phone_Brown/sm00/#02/data/udp_dnlk_loss_latency.csv\n",
      "180/216 /home/wmnlab/jackbedford/data/2023-11-09/UDP_Bandlock_9S_Phone_Brown/sm00/#02/data/udp_uplk_loss_latency.csv\n",
      "180/216 /home/wmnlab/jackbedford/data/2023-11-09/UDP_Bandlock_9S_Phone_Brown/sm01/#02/data/handover_info_log.csv\n",
      "180/216 /home/wmnlab/jackbedford/data/2023-11-09/UDP_Bandlock_9S_Phone_Brown/sm01/#02/data/udp_dnlk_loss_latency.csv\n",
      "180/216 /home/wmnlab/jackbedford/data/2023-11-09/UDP_Bandlock_9S_Phone_Brown/sm01/#02/data/udp_uplk_loss_latency.csv\n"
     ]
    },
    {
     "data": {
      "application/vnd.jupyter.widget-view+json": {
       "model_id": "0b771029f9f1430d8bc56352ef73ad25",
       "version_major": 2,
       "version_minor": 0
      },
      "text/plain": [
       "  0%|                                                                                                         …"
      ]
     },
     "metadata": {},
     "output_type": "display_data"
    },
    {
     "name": "stdout",
     "output_type": "stream",
     "text": [
      "./20240312_150032342e_newest/20240314_060073cc2b/results/20240314_09355400000_d7d867943ca2abed_1.5corr/\\home\\wmnlab\\jackbedford\\data\\2023-11-09\\UDP_Bandlock_9S_Phone_Brown\\sm00\\#02\\data\\udp_dnlk_loss_latency\\home\\wmnlab\\jackbedford\\data\\2023-11-09\\UDP_Bandlock_9S_Phone_Brown\\sm01\\#02\\data\\udp_dnlk_loss_latency.csv\n",
      "181/216 /home/wmnlab/jackbedford/data/2023-11-09/UDP_Bandlock_9S_Phone_Brown/sm00/#02/data/handover_info_log.csv\n",
      "181/216 /home/wmnlab/jackbedford/data/2023-11-09/UDP_Bandlock_9S_Phone_Brown/sm00/#02/data/udp_dnlk_loss_latency.csv\n",
      "181/216 /home/wmnlab/jackbedford/data/2023-11-09/UDP_Bandlock_9S_Phone_Brown/sm00/#02/data/udp_uplk_loss_latency.csv\n",
      "181/216 /home/wmnlab/jackbedford/data/2023-11-09/UDP_Bandlock_9S_Phone_Brown/sm02/#02/data/handover_info_log.csv\n",
      "181/216 /home/wmnlab/jackbedford/data/2023-11-09/UDP_Bandlock_9S_Phone_Brown/sm02/#02/data/udp_dnlk_loss_latency.csv\n",
      "181/216 /home/wmnlab/jackbedford/data/2023-11-09/UDP_Bandlock_9S_Phone_Brown/sm02/#02/data/udp_uplk_loss_latency.csv\n"
     ]
    },
    {
     "data": {
      "application/vnd.jupyter.widget-view+json": {
       "model_id": "952e1d9788ae467892efdd5e7b6ea20c",
       "version_major": 2,
       "version_minor": 0
      },
      "text/plain": [
       "  0%|                                                                                                         …"
      ]
     },
     "metadata": {},
     "output_type": "display_data"
    },
    {
     "name": "stdout",
     "output_type": "stream",
     "text": [
      "./20240312_150032342e_newest/20240314_060073cc2b/results/20240314_09355400000_d7d867943ca2abed_1.5corr/\\home\\wmnlab\\jackbedford\\data\\2023-11-09\\UDP_Bandlock_9S_Phone_Brown\\sm00\\#02\\data\\udp_dnlk_loss_latency\\home\\wmnlab\\jackbedford\\data\\2023-11-09\\UDP_Bandlock_9S_Phone_Brown\\sm02\\#02\\data\\udp_dnlk_loss_latency.csv\n",
      "182/216 /home/wmnlab/jackbedford/data/2023-11-09/UDP_Bandlock_9S_Phone_Brown/sm00/#02/data/handover_info_log.csv\n",
      "182/216 /home/wmnlab/jackbedford/data/2023-11-09/UDP_Bandlock_9S_Phone_Brown/sm00/#02/data/udp_dnlk_loss_latency.csv\n",
      "182/216 /home/wmnlab/jackbedford/data/2023-11-09/UDP_Bandlock_9S_Phone_Brown/sm00/#02/data/udp_uplk_loss_latency.csv\n",
      "182/216 /home/wmnlab/jackbedford/data/2023-11-09/UDP_Bandlock_9S_Phone_Brown/sm03/#02/data/handover_info_log.csv\n",
      "182/216 /home/wmnlab/jackbedford/data/2023-11-09/UDP_Bandlock_9S_Phone_Brown/sm03/#02/data/udp_dnlk_loss_latency.csv\n",
      "182/216 /home/wmnlab/jackbedford/data/2023-11-09/UDP_Bandlock_9S_Phone_Brown/sm03/#02/data/udp_uplk_loss_latency.csv\n"
     ]
    },
    {
     "data": {
      "application/vnd.jupyter.widget-view+json": {
       "model_id": "e22bce5835d743bf91b8d2f1c9096222",
       "version_major": 2,
       "version_minor": 0
      },
      "text/plain": [
       "  0%|                                                                                                         …"
      ]
     },
     "metadata": {},
     "output_type": "display_data"
    },
    {
     "name": "stdout",
     "output_type": "stream",
     "text": [
      "./20240312_150032342e_newest/20240314_060073cc2b/results/20240314_09355400000_d7d867943ca2abed_1.5corr/\\home\\wmnlab\\jackbedford\\data\\2023-11-09\\UDP_Bandlock_9S_Phone_Brown\\sm00\\#02\\data\\udp_dnlk_loss_latency\\home\\wmnlab\\jackbedford\\data\\2023-11-09\\UDP_Bandlock_9S_Phone_Brown\\sm03\\#02\\data\\udp_dnlk_loss_latency.csv\n",
      "183/216 /home/wmnlab/jackbedford/data/2023-11-09/UDP_Bandlock_9S_Phone_Brown/sm00/#02/data/handover_info_log.csv\n",
      "183/216 /home/wmnlab/jackbedford/data/2023-11-09/UDP_Bandlock_9S_Phone_Brown/sm00/#02/data/udp_dnlk_loss_latency.csv\n",
      "183/216 /home/wmnlab/jackbedford/data/2023-11-09/UDP_Bandlock_9S_Phone_Brown/sm00/#02/data/udp_uplk_loss_latency.csv\n",
      "183/216 /home/wmnlab/jackbedford/data/2023-11-09/UDP_Bandlock_9S_Phone_Brown/sm04/#02/data/handover_info_log.csv\n",
      "183/216 /home/wmnlab/jackbedford/data/2023-11-09/UDP_Bandlock_9S_Phone_Brown/sm04/#02/data/udp_dnlk_loss_latency.csv\n",
      "183/216 /home/wmnlab/jackbedford/data/2023-11-09/UDP_Bandlock_9S_Phone_Brown/sm04/#02/data/udp_uplk_loss_latency.csv\n"
     ]
    },
    {
     "data": {
      "application/vnd.jupyter.widget-view+json": {
       "model_id": "d3d470e0ff7e4effb6d83b936941ae5e",
       "version_major": 2,
       "version_minor": 0
      },
      "text/plain": [
       "  0%|                                                                                                         …"
      ]
     },
     "metadata": {},
     "output_type": "display_data"
    },
    {
     "name": "stdout",
     "output_type": "stream",
     "text": [
      "./20240312_150032342e_newest/20240314_060073cc2b/results/20240314_09355400000_d7d867943ca2abed_1.5corr/\\home\\wmnlab\\jackbedford\\data\\2023-11-09\\UDP_Bandlock_9S_Phone_Brown\\sm00\\#02\\data\\udp_dnlk_loss_latency\\home\\wmnlab\\jackbedford\\data\\2023-11-09\\UDP_Bandlock_9S_Phone_Brown\\sm04\\#02\\data\\udp_dnlk_loss_latency.csv\n",
      "184/216 /home/wmnlab/jackbedford/data/2023-11-09/UDP_Bandlock_9S_Phone_Brown/sm00/#02/data/handover_info_log.csv\n",
      "184/216 /home/wmnlab/jackbedford/data/2023-11-09/UDP_Bandlock_9S_Phone_Brown/sm00/#02/data/udp_dnlk_loss_latency.csv\n",
      "184/216 /home/wmnlab/jackbedford/data/2023-11-09/UDP_Bandlock_9S_Phone_Brown/sm00/#02/data/udp_uplk_loss_latency.csv\n",
      "184/216 /home/wmnlab/jackbedford/data/2023-11-09/UDP_Bandlock_9S_Phone_Brown/sm05/#02/data/handover_info_log.csv\n",
      "184/216 /home/wmnlab/jackbedford/data/2023-11-09/UDP_Bandlock_9S_Phone_Brown/sm05/#02/data/udp_dnlk_loss_latency.csv\n",
      "184/216 /home/wmnlab/jackbedford/data/2023-11-09/UDP_Bandlock_9S_Phone_Brown/sm05/#02/data/udp_uplk_loss_latency.csv\n"
     ]
    },
    {
     "data": {
      "application/vnd.jupyter.widget-view+json": {
       "model_id": "33b367508b054c0ab4362890807271c9",
       "version_major": 2,
       "version_minor": 0
      },
      "text/plain": [
       "  0%|                                                                                                         …"
      ]
     },
     "metadata": {},
     "output_type": "display_data"
    },
    {
     "name": "stdout",
     "output_type": "stream",
     "text": [
      "./20240312_150032342e_newest/20240314_060073cc2b/results/20240314_09355400000_d7d867943ca2abed_1.5corr/\\home\\wmnlab\\jackbedford\\data\\2023-11-09\\UDP_Bandlock_9S_Phone_Brown\\sm00\\#02\\data\\udp_dnlk_loss_latency\\home\\wmnlab\\jackbedford\\data\\2023-11-09\\UDP_Bandlock_9S_Phone_Brown\\sm05\\#02\\data\\udp_dnlk_loss_latency.csv\n",
      "185/216 /home/wmnlab/jackbedford/data/2023-11-09/UDP_Bandlock_9S_Phone_Brown/sm00/#02/data/handover_info_log.csv\n",
      "185/216 /home/wmnlab/jackbedford/data/2023-11-09/UDP_Bandlock_9S_Phone_Brown/sm00/#02/data/udp_dnlk_loss_latency.csv\n",
      "185/216 /home/wmnlab/jackbedford/data/2023-11-09/UDP_Bandlock_9S_Phone_Brown/sm00/#02/data/udp_uplk_loss_latency.csv\n",
      "185/216 /home/wmnlab/jackbedford/data/2023-11-09/UDP_Bandlock_9S_Phone_Brown/sm06/#02/data/handover_info_log.csv\n",
      "185/216 /home/wmnlab/jackbedford/data/2023-11-09/UDP_Bandlock_9S_Phone_Brown/sm06/#02/data/udp_dnlk_loss_latency.csv\n",
      "185/216 /home/wmnlab/jackbedford/data/2023-11-09/UDP_Bandlock_9S_Phone_Brown/sm06/#02/data/udp_uplk_loss_latency.csv\n"
     ]
    },
    {
     "data": {
      "application/vnd.jupyter.widget-view+json": {
       "model_id": "bfedbad55eb142ff969045b587f85491",
       "version_major": 2,
       "version_minor": 0
      },
      "text/plain": [
       "  0%|                                                                                                         …"
      ]
     },
     "metadata": {},
     "output_type": "display_data"
    },
    {
     "name": "stdout",
     "output_type": "stream",
     "text": [
      "./20240312_150032342e_newest/20240314_060073cc2b/results/20240314_09355400000_d7d867943ca2abed_1.5corr/\\home\\wmnlab\\jackbedford\\data\\2023-11-09\\UDP_Bandlock_9S_Phone_Brown\\sm00\\#02\\data\\udp_dnlk_loss_latency\\home\\wmnlab\\jackbedford\\data\\2023-11-09\\UDP_Bandlock_9S_Phone_Brown\\sm06\\#02\\data\\udp_dnlk_loss_latency.csv\n",
      "186/216 /home/wmnlab/jackbedford/data/2023-11-09/UDP_Bandlock_9S_Phone_Brown/sm00/#02/data/handover_info_log.csv\n",
      "186/216 /home/wmnlab/jackbedford/data/2023-11-09/UDP_Bandlock_9S_Phone_Brown/sm00/#02/data/udp_dnlk_loss_latency.csv\n",
      "186/216 /home/wmnlab/jackbedford/data/2023-11-09/UDP_Bandlock_9S_Phone_Brown/sm00/#02/data/udp_uplk_loss_latency.csv\n",
      "186/216 /home/wmnlab/jackbedford/data/2023-11-09/UDP_Bandlock_9S_Phone_Brown/sm07/#02/data/handover_info_log.csv\n",
      "186/216 /home/wmnlab/jackbedford/data/2023-11-09/UDP_Bandlock_9S_Phone_Brown/sm07/#02/data/udp_dnlk_loss_latency.csv\n",
      "186/216 /home/wmnlab/jackbedford/data/2023-11-09/UDP_Bandlock_9S_Phone_Brown/sm07/#02/data/udp_uplk_loss_latency.csv\n"
     ]
    },
    {
     "data": {
      "application/vnd.jupyter.widget-view+json": {
       "model_id": "cf05810049ab4e1ca430bf3b2d24d79e",
       "version_major": 2,
       "version_minor": 0
      },
      "text/plain": [
       "  0%|                                                                                                         …"
      ]
     },
     "metadata": {},
     "output_type": "display_data"
    },
    {
     "name": "stdout",
     "output_type": "stream",
     "text": [
      "./20240312_150032342e_newest/20240314_060073cc2b/results/20240314_09355400000_d7d867943ca2abed_1.5corr/\\home\\wmnlab\\jackbedford\\data\\2023-11-09\\UDP_Bandlock_9S_Phone_Brown\\sm00\\#02\\data\\udp_dnlk_loss_latency\\home\\wmnlab\\jackbedford\\data\\2023-11-09\\UDP_Bandlock_9S_Phone_Brown\\sm07\\#02\\data\\udp_dnlk_loss_latency.csv\n",
      "187/216 /home/wmnlab/jackbedford/data/2023-11-09/UDP_Bandlock_9S_Phone_Brown/sm00/#02/data/handover_info_log.csv\n",
      "187/216 /home/wmnlab/jackbedford/data/2023-11-09/UDP_Bandlock_9S_Phone_Brown/sm00/#02/data/udp_dnlk_loss_latency.csv\n",
      "187/216 /home/wmnlab/jackbedford/data/2023-11-09/UDP_Bandlock_9S_Phone_Brown/sm00/#02/data/udp_uplk_loss_latency.csv\n",
      "187/216 /home/wmnlab/jackbedford/data/2023-11-09/UDP_Bandlock_9S_Phone_Brown/sm08/#02/data/handover_info_log.csv\n",
      "187/216 /home/wmnlab/jackbedford/data/2023-11-09/UDP_Bandlock_9S_Phone_Brown/sm08/#02/data/udp_dnlk_loss_latency.csv\n",
      "187/216 /home/wmnlab/jackbedford/data/2023-11-09/UDP_Bandlock_9S_Phone_Brown/sm08/#02/data/udp_uplk_loss_latency.csv\n"
     ]
    },
    {
     "data": {
      "application/vnd.jupyter.widget-view+json": {
       "model_id": "cec90deafb694f6d934f5dd754d6d0bb",
       "version_major": 2,
       "version_minor": 0
      },
      "text/plain": [
       "  0%|                                                                                                         …"
      ]
     },
     "metadata": {},
     "output_type": "display_data"
    },
    {
     "name": "stdout",
     "output_type": "stream",
     "text": [
      "./20240312_150032342e_newest/20240314_060073cc2b/results/20240314_09355400000_d7d867943ca2abed_1.5corr/\\home\\wmnlab\\jackbedford\\data\\2023-11-09\\UDP_Bandlock_9S_Phone_Brown\\sm00\\#02\\data\\udp_dnlk_loss_latency\\home\\wmnlab\\jackbedford\\data\\2023-11-09\\UDP_Bandlock_9S_Phone_Brown\\sm08\\#02\\data\\udp_dnlk_loss_latency.csv\n",
      "188/216 /home/wmnlab/jackbedford/data/2023-11-09/UDP_Bandlock_9S_Phone_Brown/sm01/#02/data/handover_info_log.csv\n",
      "188/216 /home/wmnlab/jackbedford/data/2023-11-09/UDP_Bandlock_9S_Phone_Brown/sm01/#02/data/udp_dnlk_loss_latency.csv\n",
      "188/216 /home/wmnlab/jackbedford/data/2023-11-09/UDP_Bandlock_9S_Phone_Brown/sm01/#02/data/udp_uplk_loss_latency.csv\n",
      "188/216 /home/wmnlab/jackbedford/data/2023-11-09/UDP_Bandlock_9S_Phone_Brown/sm02/#02/data/handover_info_log.csv\n",
      "188/216 /home/wmnlab/jackbedford/data/2023-11-09/UDP_Bandlock_9S_Phone_Brown/sm02/#02/data/udp_dnlk_loss_latency.csv\n",
      "188/216 /home/wmnlab/jackbedford/data/2023-11-09/UDP_Bandlock_9S_Phone_Brown/sm02/#02/data/udp_uplk_loss_latency.csv\n"
     ]
    },
    {
     "data": {
      "application/vnd.jupyter.widget-view+json": {
       "model_id": "884bed1a89bb47afac62efeb7f7e0af2",
       "version_major": 2,
       "version_minor": 0
      },
      "text/plain": [
       "  0%|                                                                                                         …"
      ]
     },
     "metadata": {},
     "output_type": "display_data"
    },
    {
     "name": "stdout",
     "output_type": "stream",
     "text": [
      "./20240312_150032342e_newest/20240314_060073cc2b/results/20240314_09355400000_d7d867943ca2abed_1.5corr/\\home\\wmnlab\\jackbedford\\data\\2023-11-09\\UDP_Bandlock_9S_Phone_Brown\\sm01\\#02\\data\\udp_dnlk_loss_latency\\home\\wmnlab\\jackbedford\\data\\2023-11-09\\UDP_Bandlock_9S_Phone_Brown\\sm02\\#02\\data\\udp_dnlk_loss_latency.csv\n",
      "189/216 /home/wmnlab/jackbedford/data/2023-11-09/UDP_Bandlock_9S_Phone_Brown/sm01/#02/data/handover_info_log.csv\n",
      "189/216 /home/wmnlab/jackbedford/data/2023-11-09/UDP_Bandlock_9S_Phone_Brown/sm01/#02/data/udp_dnlk_loss_latency.csv\n",
      "189/216 /home/wmnlab/jackbedford/data/2023-11-09/UDP_Bandlock_9S_Phone_Brown/sm01/#02/data/udp_uplk_loss_latency.csv\n",
      "189/216 /home/wmnlab/jackbedford/data/2023-11-09/UDP_Bandlock_9S_Phone_Brown/sm03/#02/data/handover_info_log.csv\n",
      "189/216 /home/wmnlab/jackbedford/data/2023-11-09/UDP_Bandlock_9S_Phone_Brown/sm03/#02/data/udp_dnlk_loss_latency.csv\n",
      "189/216 /home/wmnlab/jackbedford/data/2023-11-09/UDP_Bandlock_9S_Phone_Brown/sm03/#02/data/udp_uplk_loss_latency.csv\n"
     ]
    },
    {
     "data": {
      "application/vnd.jupyter.widget-view+json": {
       "model_id": "463076d5a35445ba80ff809a97cd1783",
       "version_major": 2,
       "version_minor": 0
      },
      "text/plain": [
       "  0%|                                                                                                         …"
      ]
     },
     "metadata": {},
     "output_type": "display_data"
    },
    {
     "name": "stdout",
     "output_type": "stream",
     "text": [
      "./20240312_150032342e_newest/20240314_060073cc2b/results/20240314_09355400000_d7d867943ca2abed_1.5corr/\\home\\wmnlab\\jackbedford\\data\\2023-11-09\\UDP_Bandlock_9S_Phone_Brown\\sm01\\#02\\data\\udp_dnlk_loss_latency\\home\\wmnlab\\jackbedford\\data\\2023-11-09\\UDP_Bandlock_9S_Phone_Brown\\sm03\\#02\\data\\udp_dnlk_loss_latency.csv\n",
      "190/216 /home/wmnlab/jackbedford/data/2023-11-09/UDP_Bandlock_9S_Phone_Brown/sm01/#02/data/handover_info_log.csv\n",
      "190/216 /home/wmnlab/jackbedford/data/2023-11-09/UDP_Bandlock_9S_Phone_Brown/sm01/#02/data/udp_dnlk_loss_latency.csv\n",
      "190/216 /home/wmnlab/jackbedford/data/2023-11-09/UDP_Bandlock_9S_Phone_Brown/sm01/#02/data/udp_uplk_loss_latency.csv\n",
      "190/216 /home/wmnlab/jackbedford/data/2023-11-09/UDP_Bandlock_9S_Phone_Brown/sm04/#02/data/handover_info_log.csv\n",
      "190/216 /home/wmnlab/jackbedford/data/2023-11-09/UDP_Bandlock_9S_Phone_Brown/sm04/#02/data/udp_dnlk_loss_latency.csv\n",
      "190/216 /home/wmnlab/jackbedford/data/2023-11-09/UDP_Bandlock_9S_Phone_Brown/sm04/#02/data/udp_uplk_loss_latency.csv\n"
     ]
    },
    {
     "data": {
      "application/vnd.jupyter.widget-view+json": {
       "model_id": "5e83396afdd149b28fb78a2427339569",
       "version_major": 2,
       "version_minor": 0
      },
      "text/plain": [
       "  0%|                                                                                                         …"
      ]
     },
     "metadata": {},
     "output_type": "display_data"
    },
    {
     "name": "stdout",
     "output_type": "stream",
     "text": [
      "./20240312_150032342e_newest/20240314_060073cc2b/results/20240314_09355400000_d7d867943ca2abed_1.5corr/\\home\\wmnlab\\jackbedford\\data\\2023-11-09\\UDP_Bandlock_9S_Phone_Brown\\sm01\\#02\\data\\udp_dnlk_loss_latency\\home\\wmnlab\\jackbedford\\data\\2023-11-09\\UDP_Bandlock_9S_Phone_Brown\\sm04\\#02\\data\\udp_dnlk_loss_latency.csv\n",
      "191/216 /home/wmnlab/jackbedford/data/2023-11-09/UDP_Bandlock_9S_Phone_Brown/sm01/#02/data/handover_info_log.csv\n",
      "191/216 /home/wmnlab/jackbedford/data/2023-11-09/UDP_Bandlock_9S_Phone_Brown/sm01/#02/data/udp_dnlk_loss_latency.csv\n",
      "191/216 /home/wmnlab/jackbedford/data/2023-11-09/UDP_Bandlock_9S_Phone_Brown/sm01/#02/data/udp_uplk_loss_latency.csv\n",
      "191/216 /home/wmnlab/jackbedford/data/2023-11-09/UDP_Bandlock_9S_Phone_Brown/sm05/#02/data/handover_info_log.csv\n",
      "191/216 /home/wmnlab/jackbedford/data/2023-11-09/UDP_Bandlock_9S_Phone_Brown/sm05/#02/data/udp_dnlk_loss_latency.csv\n",
      "191/216 /home/wmnlab/jackbedford/data/2023-11-09/UDP_Bandlock_9S_Phone_Brown/sm05/#02/data/udp_uplk_loss_latency.csv\n"
     ]
    },
    {
     "data": {
      "application/vnd.jupyter.widget-view+json": {
       "model_id": "8d5282b90d904467ab2874a3d8b2d2e8",
       "version_major": 2,
       "version_minor": 0
      },
      "text/plain": [
       "  0%|                                                                                                         …"
      ]
     },
     "metadata": {},
     "output_type": "display_data"
    },
    {
     "name": "stdout",
     "output_type": "stream",
     "text": [
      "./20240312_150032342e_newest/20240314_060073cc2b/results/20240314_09355400000_d7d867943ca2abed_1.5corr/\\home\\wmnlab\\jackbedford\\data\\2023-11-09\\UDP_Bandlock_9S_Phone_Brown\\sm01\\#02\\data\\udp_dnlk_loss_latency\\home\\wmnlab\\jackbedford\\data\\2023-11-09\\UDP_Bandlock_9S_Phone_Brown\\sm05\\#02\\data\\udp_dnlk_loss_latency.csv\n",
      "192/216 /home/wmnlab/jackbedford/data/2023-11-09/UDP_Bandlock_9S_Phone_Brown/sm01/#02/data/handover_info_log.csv\n",
      "192/216 /home/wmnlab/jackbedford/data/2023-11-09/UDP_Bandlock_9S_Phone_Brown/sm01/#02/data/udp_dnlk_loss_latency.csv\n",
      "192/216 /home/wmnlab/jackbedford/data/2023-11-09/UDP_Bandlock_9S_Phone_Brown/sm01/#02/data/udp_uplk_loss_latency.csv\n",
      "192/216 /home/wmnlab/jackbedford/data/2023-11-09/UDP_Bandlock_9S_Phone_Brown/sm06/#02/data/handover_info_log.csv\n",
      "192/216 /home/wmnlab/jackbedford/data/2023-11-09/UDP_Bandlock_9S_Phone_Brown/sm06/#02/data/udp_dnlk_loss_latency.csv\n",
      "192/216 /home/wmnlab/jackbedford/data/2023-11-09/UDP_Bandlock_9S_Phone_Brown/sm06/#02/data/udp_uplk_loss_latency.csv\n"
     ]
    },
    {
     "data": {
      "application/vnd.jupyter.widget-view+json": {
       "model_id": "62ae27b41ec644e9ba85d260b15cddd1",
       "version_major": 2,
       "version_minor": 0
      },
      "text/plain": [
       "  0%|                                                                                                         …"
      ]
     },
     "metadata": {},
     "output_type": "display_data"
    },
    {
     "name": "stdout",
     "output_type": "stream",
     "text": [
      "./20240312_150032342e_newest/20240314_060073cc2b/results/20240314_09355400000_d7d867943ca2abed_1.5corr/\\home\\wmnlab\\jackbedford\\data\\2023-11-09\\UDP_Bandlock_9S_Phone_Brown\\sm01\\#02\\data\\udp_dnlk_loss_latency\\home\\wmnlab\\jackbedford\\data\\2023-11-09\\UDP_Bandlock_9S_Phone_Brown\\sm06\\#02\\data\\udp_dnlk_loss_latency.csv\n",
      "193/216 /home/wmnlab/jackbedford/data/2023-11-09/UDP_Bandlock_9S_Phone_Brown/sm01/#02/data/handover_info_log.csv\n",
      "193/216 /home/wmnlab/jackbedford/data/2023-11-09/UDP_Bandlock_9S_Phone_Brown/sm01/#02/data/udp_dnlk_loss_latency.csv\n",
      "193/216 /home/wmnlab/jackbedford/data/2023-11-09/UDP_Bandlock_9S_Phone_Brown/sm01/#02/data/udp_uplk_loss_latency.csv\n",
      "193/216 /home/wmnlab/jackbedford/data/2023-11-09/UDP_Bandlock_9S_Phone_Brown/sm07/#02/data/handover_info_log.csv\n",
      "193/216 /home/wmnlab/jackbedford/data/2023-11-09/UDP_Bandlock_9S_Phone_Brown/sm07/#02/data/udp_dnlk_loss_latency.csv\n",
      "193/216 /home/wmnlab/jackbedford/data/2023-11-09/UDP_Bandlock_9S_Phone_Brown/sm07/#02/data/udp_uplk_loss_latency.csv\n"
     ]
    },
    {
     "data": {
      "application/vnd.jupyter.widget-view+json": {
       "model_id": "9b8c192ca0bc4da8a632fc70c3f4ff7f",
       "version_major": 2,
       "version_minor": 0
      },
      "text/plain": [
       "  0%|                                                                                                         …"
      ]
     },
     "metadata": {},
     "output_type": "display_data"
    },
    {
     "name": "stdout",
     "output_type": "stream",
     "text": [
      "./20240312_150032342e_newest/20240314_060073cc2b/results/20240314_09355400000_d7d867943ca2abed_1.5corr/\\home\\wmnlab\\jackbedford\\data\\2023-11-09\\UDP_Bandlock_9S_Phone_Brown\\sm01\\#02\\data\\udp_dnlk_loss_latency\\home\\wmnlab\\jackbedford\\data\\2023-11-09\\UDP_Bandlock_9S_Phone_Brown\\sm07\\#02\\data\\udp_dnlk_loss_latency.csv\n",
      "194/216 /home/wmnlab/jackbedford/data/2023-11-09/UDP_Bandlock_9S_Phone_Brown/sm01/#02/data/handover_info_log.csv\n",
      "194/216 /home/wmnlab/jackbedford/data/2023-11-09/UDP_Bandlock_9S_Phone_Brown/sm01/#02/data/udp_dnlk_loss_latency.csv\n",
      "194/216 /home/wmnlab/jackbedford/data/2023-11-09/UDP_Bandlock_9S_Phone_Brown/sm01/#02/data/udp_uplk_loss_latency.csv\n",
      "194/216 /home/wmnlab/jackbedford/data/2023-11-09/UDP_Bandlock_9S_Phone_Brown/sm08/#02/data/handover_info_log.csv\n",
      "194/216 /home/wmnlab/jackbedford/data/2023-11-09/UDP_Bandlock_9S_Phone_Brown/sm08/#02/data/udp_dnlk_loss_latency.csv\n",
      "194/216 /home/wmnlab/jackbedford/data/2023-11-09/UDP_Bandlock_9S_Phone_Brown/sm08/#02/data/udp_uplk_loss_latency.csv\n"
     ]
    },
    {
     "data": {
      "application/vnd.jupyter.widget-view+json": {
       "model_id": "5143e5a0104e42fbb05df7da2ecb6506",
       "version_major": 2,
       "version_minor": 0
      },
      "text/plain": [
       "  0%|                                                                                                         …"
      ]
     },
     "metadata": {},
     "output_type": "display_data"
    },
    {
     "name": "stdout",
     "output_type": "stream",
     "text": [
      "./20240312_150032342e_newest/20240314_060073cc2b/results/20240314_09355400000_d7d867943ca2abed_1.5corr/\\home\\wmnlab\\jackbedford\\data\\2023-11-09\\UDP_Bandlock_9S_Phone_Brown\\sm01\\#02\\data\\udp_dnlk_loss_latency\\home\\wmnlab\\jackbedford\\data\\2023-11-09\\UDP_Bandlock_9S_Phone_Brown\\sm08\\#02\\data\\udp_dnlk_loss_latency.csv\n",
      "195/216 /home/wmnlab/jackbedford/data/2023-11-09/UDP_Bandlock_9S_Phone_Brown/sm02/#02/data/handover_info_log.csv\n",
      "195/216 /home/wmnlab/jackbedford/data/2023-11-09/UDP_Bandlock_9S_Phone_Brown/sm02/#02/data/udp_dnlk_loss_latency.csv\n",
      "195/216 /home/wmnlab/jackbedford/data/2023-11-09/UDP_Bandlock_9S_Phone_Brown/sm02/#02/data/udp_uplk_loss_latency.csv\n",
      "195/216 /home/wmnlab/jackbedford/data/2023-11-09/UDP_Bandlock_9S_Phone_Brown/sm03/#02/data/handover_info_log.csv\n",
      "195/216 /home/wmnlab/jackbedford/data/2023-11-09/UDP_Bandlock_9S_Phone_Brown/sm03/#02/data/udp_dnlk_loss_latency.csv\n",
      "195/216 /home/wmnlab/jackbedford/data/2023-11-09/UDP_Bandlock_9S_Phone_Brown/sm03/#02/data/udp_uplk_loss_latency.csv\n"
     ]
    },
    {
     "data": {
      "application/vnd.jupyter.widget-view+json": {
       "model_id": "7f272a970e5a417a8728baadbe47b01c",
       "version_major": 2,
       "version_minor": 0
      },
      "text/plain": [
       "  0%|                                                                                                         …"
      ]
     },
     "metadata": {},
     "output_type": "display_data"
    },
    {
     "name": "stdout",
     "output_type": "stream",
     "text": [
      "./20240312_150032342e_newest/20240314_060073cc2b/results/20240314_09355400000_d7d867943ca2abed_1.5corr/\\home\\wmnlab\\jackbedford\\data\\2023-11-09\\UDP_Bandlock_9S_Phone_Brown\\sm02\\#02\\data\\udp_dnlk_loss_latency\\home\\wmnlab\\jackbedford\\data\\2023-11-09\\UDP_Bandlock_9S_Phone_Brown\\sm03\\#02\\data\\udp_dnlk_loss_latency.csv\n",
      "196/216 /home/wmnlab/jackbedford/data/2023-11-09/UDP_Bandlock_9S_Phone_Brown/sm02/#02/data/handover_info_log.csv\n",
      "196/216 /home/wmnlab/jackbedford/data/2023-11-09/UDP_Bandlock_9S_Phone_Brown/sm02/#02/data/udp_dnlk_loss_latency.csv\n",
      "196/216 /home/wmnlab/jackbedford/data/2023-11-09/UDP_Bandlock_9S_Phone_Brown/sm02/#02/data/udp_uplk_loss_latency.csv\n",
      "196/216 /home/wmnlab/jackbedford/data/2023-11-09/UDP_Bandlock_9S_Phone_Brown/sm04/#02/data/handover_info_log.csv\n",
      "196/216 /home/wmnlab/jackbedford/data/2023-11-09/UDP_Bandlock_9S_Phone_Brown/sm04/#02/data/udp_dnlk_loss_latency.csv\n",
      "196/216 /home/wmnlab/jackbedford/data/2023-11-09/UDP_Bandlock_9S_Phone_Brown/sm04/#02/data/udp_uplk_loss_latency.csv\n"
     ]
    },
    {
     "data": {
      "application/vnd.jupyter.widget-view+json": {
       "model_id": "f2eb905e114147d6af9969fdb3b778b4",
       "version_major": 2,
       "version_minor": 0
      },
      "text/plain": [
       "  0%|                                                                                                         …"
      ]
     },
     "metadata": {},
     "output_type": "display_data"
    },
    {
     "name": "stdout",
     "output_type": "stream",
     "text": [
      "./20240312_150032342e_newest/20240314_060073cc2b/results/20240314_09355400000_d7d867943ca2abed_1.5corr/\\home\\wmnlab\\jackbedford\\data\\2023-11-09\\UDP_Bandlock_9S_Phone_Brown\\sm02\\#02\\data\\udp_dnlk_loss_latency\\home\\wmnlab\\jackbedford\\data\\2023-11-09\\UDP_Bandlock_9S_Phone_Brown\\sm04\\#02\\data\\udp_dnlk_loss_latency.csv\n",
      "197/216 /home/wmnlab/jackbedford/data/2023-11-09/UDP_Bandlock_9S_Phone_Brown/sm02/#02/data/handover_info_log.csv\n",
      "197/216 /home/wmnlab/jackbedford/data/2023-11-09/UDP_Bandlock_9S_Phone_Brown/sm02/#02/data/udp_dnlk_loss_latency.csv\n",
      "197/216 /home/wmnlab/jackbedford/data/2023-11-09/UDP_Bandlock_9S_Phone_Brown/sm02/#02/data/udp_uplk_loss_latency.csv\n",
      "197/216 /home/wmnlab/jackbedford/data/2023-11-09/UDP_Bandlock_9S_Phone_Brown/sm05/#02/data/handover_info_log.csv\n",
      "197/216 /home/wmnlab/jackbedford/data/2023-11-09/UDP_Bandlock_9S_Phone_Brown/sm05/#02/data/udp_dnlk_loss_latency.csv\n",
      "197/216 /home/wmnlab/jackbedford/data/2023-11-09/UDP_Bandlock_9S_Phone_Brown/sm05/#02/data/udp_uplk_loss_latency.csv\n"
     ]
    },
    {
     "data": {
      "application/vnd.jupyter.widget-view+json": {
       "model_id": "0572b2e33c674b29b8fae60961faa6b5",
       "version_major": 2,
       "version_minor": 0
      },
      "text/plain": [
       "  0%|                                                                                                         …"
      ]
     },
     "metadata": {},
     "output_type": "display_data"
    },
    {
     "name": "stdout",
     "output_type": "stream",
     "text": [
      "./20240312_150032342e_newest/20240314_060073cc2b/results/20240314_09355400000_d7d867943ca2abed_1.5corr/\\home\\wmnlab\\jackbedford\\data\\2023-11-09\\UDP_Bandlock_9S_Phone_Brown\\sm02\\#02\\data\\udp_dnlk_loss_latency\\home\\wmnlab\\jackbedford\\data\\2023-11-09\\UDP_Bandlock_9S_Phone_Brown\\sm05\\#02\\data\\udp_dnlk_loss_latency.csv\n",
      "198/216 /home/wmnlab/jackbedford/data/2023-11-09/UDP_Bandlock_9S_Phone_Brown/sm02/#02/data/handover_info_log.csv\n",
      "198/216 /home/wmnlab/jackbedford/data/2023-11-09/UDP_Bandlock_9S_Phone_Brown/sm02/#02/data/udp_dnlk_loss_latency.csv\n",
      "198/216 /home/wmnlab/jackbedford/data/2023-11-09/UDP_Bandlock_9S_Phone_Brown/sm02/#02/data/udp_uplk_loss_latency.csv\n",
      "198/216 /home/wmnlab/jackbedford/data/2023-11-09/UDP_Bandlock_9S_Phone_Brown/sm06/#02/data/handover_info_log.csv\n",
      "198/216 /home/wmnlab/jackbedford/data/2023-11-09/UDP_Bandlock_9S_Phone_Brown/sm06/#02/data/udp_dnlk_loss_latency.csv\n",
      "198/216 /home/wmnlab/jackbedford/data/2023-11-09/UDP_Bandlock_9S_Phone_Brown/sm06/#02/data/udp_uplk_loss_latency.csv\n"
     ]
    },
    {
     "data": {
      "application/vnd.jupyter.widget-view+json": {
       "model_id": "f89da5ed57904d2fadf7261bbb08c4c0",
       "version_major": 2,
       "version_minor": 0
      },
      "text/plain": [
       "  0%|                                                                                                         …"
      ]
     },
     "metadata": {},
     "output_type": "display_data"
    },
    {
     "name": "stdout",
     "output_type": "stream",
     "text": [
      "./20240312_150032342e_newest/20240314_060073cc2b/results/20240314_09355400000_d7d867943ca2abed_1.5corr/\\home\\wmnlab\\jackbedford\\data\\2023-11-09\\UDP_Bandlock_9S_Phone_Brown\\sm02\\#02\\data\\udp_dnlk_loss_latency\\home\\wmnlab\\jackbedford\\data\\2023-11-09\\UDP_Bandlock_9S_Phone_Brown\\sm06\\#02\\data\\udp_dnlk_loss_latency.csv\n",
      "199/216 /home/wmnlab/jackbedford/data/2023-11-09/UDP_Bandlock_9S_Phone_Brown/sm02/#02/data/handover_info_log.csv\n",
      "199/216 /home/wmnlab/jackbedford/data/2023-11-09/UDP_Bandlock_9S_Phone_Brown/sm02/#02/data/udp_dnlk_loss_latency.csv\n",
      "199/216 /home/wmnlab/jackbedford/data/2023-11-09/UDP_Bandlock_9S_Phone_Brown/sm02/#02/data/udp_uplk_loss_latency.csv\n",
      "199/216 /home/wmnlab/jackbedford/data/2023-11-09/UDP_Bandlock_9S_Phone_Brown/sm07/#02/data/handover_info_log.csv\n",
      "199/216 /home/wmnlab/jackbedford/data/2023-11-09/UDP_Bandlock_9S_Phone_Brown/sm07/#02/data/udp_dnlk_loss_latency.csv\n",
      "199/216 /home/wmnlab/jackbedford/data/2023-11-09/UDP_Bandlock_9S_Phone_Brown/sm07/#02/data/udp_uplk_loss_latency.csv\n"
     ]
    },
    {
     "data": {
      "application/vnd.jupyter.widget-view+json": {
       "model_id": "b65daaee227a4913aa0df2768254d753",
       "version_major": 2,
       "version_minor": 0
      },
      "text/plain": [
       "  0%|                                                                                                         …"
      ]
     },
     "metadata": {},
     "output_type": "display_data"
    },
    {
     "name": "stdout",
     "output_type": "stream",
     "text": [
      "./20240312_150032342e_newest/20240314_060073cc2b/results/20240314_09355400000_d7d867943ca2abed_1.5corr/\\home\\wmnlab\\jackbedford\\data\\2023-11-09\\UDP_Bandlock_9S_Phone_Brown\\sm02\\#02\\data\\udp_dnlk_loss_latency\\home\\wmnlab\\jackbedford\\data\\2023-11-09\\UDP_Bandlock_9S_Phone_Brown\\sm07\\#02\\data\\udp_dnlk_loss_latency.csv\n",
      "200/216 /home/wmnlab/jackbedford/data/2023-11-09/UDP_Bandlock_9S_Phone_Brown/sm02/#02/data/handover_info_log.csv\n",
      "200/216 /home/wmnlab/jackbedford/data/2023-11-09/UDP_Bandlock_9S_Phone_Brown/sm02/#02/data/udp_dnlk_loss_latency.csv\n",
      "200/216 /home/wmnlab/jackbedford/data/2023-11-09/UDP_Bandlock_9S_Phone_Brown/sm02/#02/data/udp_uplk_loss_latency.csv\n",
      "200/216 /home/wmnlab/jackbedford/data/2023-11-09/UDP_Bandlock_9S_Phone_Brown/sm08/#02/data/handover_info_log.csv\n",
      "200/216 /home/wmnlab/jackbedford/data/2023-11-09/UDP_Bandlock_9S_Phone_Brown/sm08/#02/data/udp_dnlk_loss_latency.csv\n",
      "200/216 /home/wmnlab/jackbedford/data/2023-11-09/UDP_Bandlock_9S_Phone_Brown/sm08/#02/data/udp_uplk_loss_latency.csv\n"
     ]
    },
    {
     "data": {
      "application/vnd.jupyter.widget-view+json": {
       "model_id": "d2b771a6130e4d3ea04e202494740bcb",
       "version_major": 2,
       "version_minor": 0
      },
      "text/plain": [
       "  0%|                                                                                                         …"
      ]
     },
     "metadata": {},
     "output_type": "display_data"
    },
    {
     "name": "stdout",
     "output_type": "stream",
     "text": [
      "./20240312_150032342e_newest/20240314_060073cc2b/results/20240314_09355400000_d7d867943ca2abed_1.5corr/\\home\\wmnlab\\jackbedford\\data\\2023-11-09\\UDP_Bandlock_9S_Phone_Brown\\sm02\\#02\\data\\udp_dnlk_loss_latency\\home\\wmnlab\\jackbedford\\data\\2023-11-09\\UDP_Bandlock_9S_Phone_Brown\\sm08\\#02\\data\\udp_dnlk_loss_latency.csv\n",
      "201/216 /home/wmnlab/jackbedford/data/2023-11-09/UDP_Bandlock_9S_Phone_Brown/sm03/#02/data/handover_info_log.csv\n",
      "201/216 /home/wmnlab/jackbedford/data/2023-11-09/UDP_Bandlock_9S_Phone_Brown/sm03/#02/data/udp_dnlk_loss_latency.csv\n",
      "201/216 /home/wmnlab/jackbedford/data/2023-11-09/UDP_Bandlock_9S_Phone_Brown/sm03/#02/data/udp_uplk_loss_latency.csv\n",
      "201/216 /home/wmnlab/jackbedford/data/2023-11-09/UDP_Bandlock_9S_Phone_Brown/sm04/#02/data/handover_info_log.csv\n",
      "201/216 /home/wmnlab/jackbedford/data/2023-11-09/UDP_Bandlock_9S_Phone_Brown/sm04/#02/data/udp_dnlk_loss_latency.csv\n",
      "201/216 /home/wmnlab/jackbedford/data/2023-11-09/UDP_Bandlock_9S_Phone_Brown/sm04/#02/data/udp_uplk_loss_latency.csv\n"
     ]
    },
    {
     "data": {
      "application/vnd.jupyter.widget-view+json": {
       "model_id": "c12d4e0bcd724e558475c786cff413e3",
       "version_major": 2,
       "version_minor": 0
      },
      "text/plain": [
       "  0%|                                                                                                         …"
      ]
     },
     "metadata": {},
     "output_type": "display_data"
    },
    {
     "name": "stdout",
     "output_type": "stream",
     "text": [
      "./20240312_150032342e_newest/20240314_060073cc2b/results/20240314_09355400000_d7d867943ca2abed_1.5corr/\\home\\wmnlab\\jackbedford\\data\\2023-11-09\\UDP_Bandlock_9S_Phone_Brown\\sm03\\#02\\data\\udp_dnlk_loss_latency\\home\\wmnlab\\jackbedford\\data\\2023-11-09\\UDP_Bandlock_9S_Phone_Brown\\sm04\\#02\\data\\udp_dnlk_loss_latency.csv\n",
      "202/216 /home/wmnlab/jackbedford/data/2023-11-09/UDP_Bandlock_9S_Phone_Brown/sm03/#02/data/handover_info_log.csv\n",
      "202/216 /home/wmnlab/jackbedford/data/2023-11-09/UDP_Bandlock_9S_Phone_Brown/sm03/#02/data/udp_dnlk_loss_latency.csv\n",
      "202/216 /home/wmnlab/jackbedford/data/2023-11-09/UDP_Bandlock_9S_Phone_Brown/sm03/#02/data/udp_uplk_loss_latency.csv\n",
      "202/216 /home/wmnlab/jackbedford/data/2023-11-09/UDP_Bandlock_9S_Phone_Brown/sm05/#02/data/handover_info_log.csv\n",
      "202/216 /home/wmnlab/jackbedford/data/2023-11-09/UDP_Bandlock_9S_Phone_Brown/sm05/#02/data/udp_dnlk_loss_latency.csv\n",
      "202/216 /home/wmnlab/jackbedford/data/2023-11-09/UDP_Bandlock_9S_Phone_Brown/sm05/#02/data/udp_uplk_loss_latency.csv\n"
     ]
    },
    {
     "data": {
      "application/vnd.jupyter.widget-view+json": {
       "model_id": "c8d1925e9af84581aa742a3775904f8b",
       "version_major": 2,
       "version_minor": 0
      },
      "text/plain": [
       "  0%|                                                                                                         …"
      ]
     },
     "metadata": {},
     "output_type": "display_data"
    },
    {
     "name": "stdout",
     "output_type": "stream",
     "text": [
      "./20240312_150032342e_newest/20240314_060073cc2b/results/20240314_09355400000_d7d867943ca2abed_1.5corr/\\home\\wmnlab\\jackbedford\\data\\2023-11-09\\UDP_Bandlock_9S_Phone_Brown\\sm03\\#02\\data\\udp_dnlk_loss_latency\\home\\wmnlab\\jackbedford\\data\\2023-11-09\\UDP_Bandlock_9S_Phone_Brown\\sm05\\#02\\data\\udp_dnlk_loss_latency.csv\n",
      "203/216 /home/wmnlab/jackbedford/data/2023-11-09/UDP_Bandlock_9S_Phone_Brown/sm03/#02/data/handover_info_log.csv\n",
      "203/216 /home/wmnlab/jackbedford/data/2023-11-09/UDP_Bandlock_9S_Phone_Brown/sm03/#02/data/udp_dnlk_loss_latency.csv\n",
      "203/216 /home/wmnlab/jackbedford/data/2023-11-09/UDP_Bandlock_9S_Phone_Brown/sm03/#02/data/udp_uplk_loss_latency.csv\n",
      "203/216 /home/wmnlab/jackbedford/data/2023-11-09/UDP_Bandlock_9S_Phone_Brown/sm06/#02/data/handover_info_log.csv\n",
      "203/216 /home/wmnlab/jackbedford/data/2023-11-09/UDP_Bandlock_9S_Phone_Brown/sm06/#02/data/udp_dnlk_loss_latency.csv\n",
      "203/216 /home/wmnlab/jackbedford/data/2023-11-09/UDP_Bandlock_9S_Phone_Brown/sm06/#02/data/udp_uplk_loss_latency.csv\n"
     ]
    },
    {
     "data": {
      "application/vnd.jupyter.widget-view+json": {
       "model_id": "f26e8d0537884a3d8dfb4c12b47f25ee",
       "version_major": 2,
       "version_minor": 0
      },
      "text/plain": [
       "  0%|                                                                                                         …"
      ]
     },
     "metadata": {},
     "output_type": "display_data"
    },
    {
     "name": "stdout",
     "output_type": "stream",
     "text": [
      "./20240312_150032342e_newest/20240314_060073cc2b/results/20240314_09355400000_d7d867943ca2abed_1.5corr/\\home\\wmnlab\\jackbedford\\data\\2023-11-09\\UDP_Bandlock_9S_Phone_Brown\\sm03\\#02\\data\\udp_dnlk_loss_latency\\home\\wmnlab\\jackbedford\\data\\2023-11-09\\UDP_Bandlock_9S_Phone_Brown\\sm06\\#02\\data\\udp_dnlk_loss_latency.csv\n",
      "204/216 /home/wmnlab/jackbedford/data/2023-11-09/UDP_Bandlock_9S_Phone_Brown/sm03/#02/data/handover_info_log.csv\n",
      "204/216 /home/wmnlab/jackbedford/data/2023-11-09/UDP_Bandlock_9S_Phone_Brown/sm03/#02/data/udp_dnlk_loss_latency.csv\n",
      "204/216 /home/wmnlab/jackbedford/data/2023-11-09/UDP_Bandlock_9S_Phone_Brown/sm03/#02/data/udp_uplk_loss_latency.csv\n",
      "204/216 /home/wmnlab/jackbedford/data/2023-11-09/UDP_Bandlock_9S_Phone_Brown/sm07/#02/data/handover_info_log.csv\n",
      "204/216 /home/wmnlab/jackbedford/data/2023-11-09/UDP_Bandlock_9S_Phone_Brown/sm07/#02/data/udp_dnlk_loss_latency.csv\n",
      "204/216 /home/wmnlab/jackbedford/data/2023-11-09/UDP_Bandlock_9S_Phone_Brown/sm07/#02/data/udp_uplk_loss_latency.csv\n"
     ]
    },
    {
     "data": {
      "application/vnd.jupyter.widget-view+json": {
       "model_id": "87ea2179c0d3459f95ebf7e0de6f593f",
       "version_major": 2,
       "version_minor": 0
      },
      "text/plain": [
       "  0%|                                                                                                         …"
      ]
     },
     "metadata": {},
     "output_type": "display_data"
    },
    {
     "name": "stdout",
     "output_type": "stream",
     "text": [
      "./20240312_150032342e_newest/20240314_060073cc2b/results/20240314_09355400000_d7d867943ca2abed_1.5corr/\\home\\wmnlab\\jackbedford\\data\\2023-11-09\\UDP_Bandlock_9S_Phone_Brown\\sm03\\#02\\data\\udp_dnlk_loss_latency\\home\\wmnlab\\jackbedford\\data\\2023-11-09\\UDP_Bandlock_9S_Phone_Brown\\sm07\\#02\\data\\udp_dnlk_loss_latency.csv\n",
      "205/216 /home/wmnlab/jackbedford/data/2023-11-09/UDP_Bandlock_9S_Phone_Brown/sm03/#02/data/handover_info_log.csv\n",
      "205/216 /home/wmnlab/jackbedford/data/2023-11-09/UDP_Bandlock_9S_Phone_Brown/sm03/#02/data/udp_dnlk_loss_latency.csv\n",
      "205/216 /home/wmnlab/jackbedford/data/2023-11-09/UDP_Bandlock_9S_Phone_Brown/sm03/#02/data/udp_uplk_loss_latency.csv\n",
      "205/216 /home/wmnlab/jackbedford/data/2023-11-09/UDP_Bandlock_9S_Phone_Brown/sm08/#02/data/handover_info_log.csv\n",
      "205/216 /home/wmnlab/jackbedford/data/2023-11-09/UDP_Bandlock_9S_Phone_Brown/sm08/#02/data/udp_dnlk_loss_latency.csv\n",
      "205/216 /home/wmnlab/jackbedford/data/2023-11-09/UDP_Bandlock_9S_Phone_Brown/sm08/#02/data/udp_uplk_loss_latency.csv\n"
     ]
    },
    {
     "data": {
      "application/vnd.jupyter.widget-view+json": {
       "model_id": "a204cbcbcae9437b9e0232683ac582c6",
       "version_major": 2,
       "version_minor": 0
      },
      "text/plain": [
       "  0%|                                                                                                         …"
      ]
     },
     "metadata": {},
     "output_type": "display_data"
    },
    {
     "name": "stdout",
     "output_type": "stream",
     "text": [
      "./20240312_150032342e_newest/20240314_060073cc2b/results/20240314_09355400000_d7d867943ca2abed_1.5corr/\\home\\wmnlab\\jackbedford\\data\\2023-11-09\\UDP_Bandlock_9S_Phone_Brown\\sm03\\#02\\data\\udp_dnlk_loss_latency\\home\\wmnlab\\jackbedford\\data\\2023-11-09\\UDP_Bandlock_9S_Phone_Brown\\sm08\\#02\\data\\udp_dnlk_loss_latency.csv\n",
      "206/216 /home/wmnlab/jackbedford/data/2023-11-09/UDP_Bandlock_9S_Phone_Brown/sm04/#02/data/handover_info_log.csv\n",
      "206/216 /home/wmnlab/jackbedford/data/2023-11-09/UDP_Bandlock_9S_Phone_Brown/sm04/#02/data/udp_dnlk_loss_latency.csv\n",
      "206/216 /home/wmnlab/jackbedford/data/2023-11-09/UDP_Bandlock_9S_Phone_Brown/sm04/#02/data/udp_uplk_loss_latency.csv\n",
      "206/216 /home/wmnlab/jackbedford/data/2023-11-09/UDP_Bandlock_9S_Phone_Brown/sm05/#02/data/handover_info_log.csv\n",
      "206/216 /home/wmnlab/jackbedford/data/2023-11-09/UDP_Bandlock_9S_Phone_Brown/sm05/#02/data/udp_dnlk_loss_latency.csv\n",
      "206/216 /home/wmnlab/jackbedford/data/2023-11-09/UDP_Bandlock_9S_Phone_Brown/sm05/#02/data/udp_uplk_loss_latency.csv\n"
     ]
    },
    {
     "data": {
      "application/vnd.jupyter.widget-view+json": {
       "model_id": "e943a5d563a2449886acb7f7a1692c5c",
       "version_major": 2,
       "version_minor": 0
      },
      "text/plain": [
       "  0%|                                                                                                         …"
      ]
     },
     "metadata": {},
     "output_type": "display_data"
    },
    {
     "name": "stdout",
     "output_type": "stream",
     "text": [
      "./20240312_150032342e_newest/20240314_060073cc2b/results/20240314_09355400000_d7d867943ca2abed_1.5corr/\\home\\wmnlab\\jackbedford\\data\\2023-11-09\\UDP_Bandlock_9S_Phone_Brown\\sm04\\#02\\data\\udp_dnlk_loss_latency\\home\\wmnlab\\jackbedford\\data\\2023-11-09\\UDP_Bandlock_9S_Phone_Brown\\sm05\\#02\\data\\udp_dnlk_loss_latency.csv\n",
      "207/216 /home/wmnlab/jackbedford/data/2023-11-09/UDP_Bandlock_9S_Phone_Brown/sm04/#02/data/handover_info_log.csv\n",
      "207/216 /home/wmnlab/jackbedford/data/2023-11-09/UDP_Bandlock_9S_Phone_Brown/sm04/#02/data/udp_dnlk_loss_latency.csv\n",
      "207/216 /home/wmnlab/jackbedford/data/2023-11-09/UDP_Bandlock_9S_Phone_Brown/sm04/#02/data/udp_uplk_loss_latency.csv\n",
      "207/216 /home/wmnlab/jackbedford/data/2023-11-09/UDP_Bandlock_9S_Phone_Brown/sm06/#02/data/handover_info_log.csv\n",
      "207/216 /home/wmnlab/jackbedford/data/2023-11-09/UDP_Bandlock_9S_Phone_Brown/sm06/#02/data/udp_dnlk_loss_latency.csv\n",
      "207/216 /home/wmnlab/jackbedford/data/2023-11-09/UDP_Bandlock_9S_Phone_Brown/sm06/#02/data/udp_uplk_loss_latency.csv\n"
     ]
    },
    {
     "data": {
      "application/vnd.jupyter.widget-view+json": {
       "model_id": "4aca0bd714ce494b80e8530574af9ed7",
       "version_major": 2,
       "version_minor": 0
      },
      "text/plain": [
       "  0%|                                                                                                         …"
      ]
     },
     "metadata": {},
     "output_type": "display_data"
    },
    {
     "name": "stdout",
     "output_type": "stream",
     "text": [
      "./20240312_150032342e_newest/20240314_060073cc2b/results/20240314_09355400000_d7d867943ca2abed_1.5corr/\\home\\wmnlab\\jackbedford\\data\\2023-11-09\\UDP_Bandlock_9S_Phone_Brown\\sm04\\#02\\data\\udp_dnlk_loss_latency\\home\\wmnlab\\jackbedford\\data\\2023-11-09\\UDP_Bandlock_9S_Phone_Brown\\sm06\\#02\\data\\udp_dnlk_loss_latency.csv\n",
      "208/216 /home/wmnlab/jackbedford/data/2023-11-09/UDP_Bandlock_9S_Phone_Brown/sm04/#02/data/handover_info_log.csv\n",
      "208/216 /home/wmnlab/jackbedford/data/2023-11-09/UDP_Bandlock_9S_Phone_Brown/sm04/#02/data/udp_dnlk_loss_latency.csv\n",
      "208/216 /home/wmnlab/jackbedford/data/2023-11-09/UDP_Bandlock_9S_Phone_Brown/sm04/#02/data/udp_uplk_loss_latency.csv\n",
      "208/216 /home/wmnlab/jackbedford/data/2023-11-09/UDP_Bandlock_9S_Phone_Brown/sm07/#02/data/handover_info_log.csv\n",
      "208/216 /home/wmnlab/jackbedford/data/2023-11-09/UDP_Bandlock_9S_Phone_Brown/sm07/#02/data/udp_dnlk_loss_latency.csv\n",
      "208/216 /home/wmnlab/jackbedford/data/2023-11-09/UDP_Bandlock_9S_Phone_Brown/sm07/#02/data/udp_uplk_loss_latency.csv\n"
     ]
    },
    {
     "data": {
      "application/vnd.jupyter.widget-view+json": {
       "model_id": "4739863a54d940f982318bd9af984008",
       "version_major": 2,
       "version_minor": 0
      },
      "text/plain": [
       "  0%|                                                                                                         …"
      ]
     },
     "metadata": {},
     "output_type": "display_data"
    },
    {
     "name": "stdout",
     "output_type": "stream",
     "text": [
      "./20240312_150032342e_newest/20240314_060073cc2b/results/20240314_09355400000_d7d867943ca2abed_1.5corr/\\home\\wmnlab\\jackbedford\\data\\2023-11-09\\UDP_Bandlock_9S_Phone_Brown\\sm04\\#02\\data\\udp_dnlk_loss_latency\\home\\wmnlab\\jackbedford\\data\\2023-11-09\\UDP_Bandlock_9S_Phone_Brown\\sm07\\#02\\data\\udp_dnlk_loss_latency.csv\n",
      "209/216 /home/wmnlab/jackbedford/data/2023-11-09/UDP_Bandlock_9S_Phone_Brown/sm04/#02/data/handover_info_log.csv\n",
      "209/216 /home/wmnlab/jackbedford/data/2023-11-09/UDP_Bandlock_9S_Phone_Brown/sm04/#02/data/udp_dnlk_loss_latency.csv\n",
      "209/216 /home/wmnlab/jackbedford/data/2023-11-09/UDP_Bandlock_9S_Phone_Brown/sm04/#02/data/udp_uplk_loss_latency.csv\n",
      "209/216 /home/wmnlab/jackbedford/data/2023-11-09/UDP_Bandlock_9S_Phone_Brown/sm08/#02/data/handover_info_log.csv\n",
      "209/216 /home/wmnlab/jackbedford/data/2023-11-09/UDP_Bandlock_9S_Phone_Brown/sm08/#02/data/udp_dnlk_loss_latency.csv\n",
      "209/216 /home/wmnlab/jackbedford/data/2023-11-09/UDP_Bandlock_9S_Phone_Brown/sm08/#02/data/udp_uplk_loss_latency.csv\n"
     ]
    },
    {
     "data": {
      "application/vnd.jupyter.widget-view+json": {
       "model_id": "19fbd34e0c4149d382cf47070f309ca2",
       "version_major": 2,
       "version_minor": 0
      },
      "text/plain": [
       "  0%|                                                                                                         …"
      ]
     },
     "metadata": {},
     "output_type": "display_data"
    },
    {
     "name": "stdout",
     "output_type": "stream",
     "text": [
      "./20240312_150032342e_newest/20240314_060073cc2b/results/20240314_09355400000_d7d867943ca2abed_1.5corr/\\home\\wmnlab\\jackbedford\\data\\2023-11-09\\UDP_Bandlock_9S_Phone_Brown\\sm04\\#02\\data\\udp_dnlk_loss_latency\\home\\wmnlab\\jackbedford\\data\\2023-11-09\\UDP_Bandlock_9S_Phone_Brown\\sm08\\#02\\data\\udp_dnlk_loss_latency.csv\n",
      "210/216 /home/wmnlab/jackbedford/data/2023-11-09/UDP_Bandlock_9S_Phone_Brown/sm05/#02/data/handover_info_log.csv\n",
      "210/216 /home/wmnlab/jackbedford/data/2023-11-09/UDP_Bandlock_9S_Phone_Brown/sm05/#02/data/udp_dnlk_loss_latency.csv\n",
      "210/216 /home/wmnlab/jackbedford/data/2023-11-09/UDP_Bandlock_9S_Phone_Brown/sm05/#02/data/udp_uplk_loss_latency.csv\n",
      "210/216 /home/wmnlab/jackbedford/data/2023-11-09/UDP_Bandlock_9S_Phone_Brown/sm06/#02/data/handover_info_log.csv\n",
      "210/216 /home/wmnlab/jackbedford/data/2023-11-09/UDP_Bandlock_9S_Phone_Brown/sm06/#02/data/udp_dnlk_loss_latency.csv\n",
      "210/216 /home/wmnlab/jackbedford/data/2023-11-09/UDP_Bandlock_9S_Phone_Brown/sm06/#02/data/udp_uplk_loss_latency.csv\n"
     ]
    },
    {
     "data": {
      "application/vnd.jupyter.widget-view+json": {
       "model_id": "117315f5ce07411fb7f04492de551f28",
       "version_major": 2,
       "version_minor": 0
      },
      "text/plain": [
       "  0%|                                                                                                         …"
      ]
     },
     "metadata": {},
     "output_type": "display_data"
    },
    {
     "name": "stdout",
     "output_type": "stream",
     "text": [
      "./20240312_150032342e_newest/20240314_060073cc2b/results/20240314_09355400000_d7d867943ca2abed_1.5corr/\\home\\wmnlab\\jackbedford\\data\\2023-11-09\\UDP_Bandlock_9S_Phone_Brown\\sm05\\#02\\data\\udp_dnlk_loss_latency\\home\\wmnlab\\jackbedford\\data\\2023-11-09\\UDP_Bandlock_9S_Phone_Brown\\sm06\\#02\\data\\udp_dnlk_loss_latency.csv\n",
      "211/216 /home/wmnlab/jackbedford/data/2023-11-09/UDP_Bandlock_9S_Phone_Brown/sm05/#02/data/handover_info_log.csv\n",
      "211/216 /home/wmnlab/jackbedford/data/2023-11-09/UDP_Bandlock_9S_Phone_Brown/sm05/#02/data/udp_dnlk_loss_latency.csv\n",
      "211/216 /home/wmnlab/jackbedford/data/2023-11-09/UDP_Bandlock_9S_Phone_Brown/sm05/#02/data/udp_uplk_loss_latency.csv\n",
      "211/216 /home/wmnlab/jackbedford/data/2023-11-09/UDP_Bandlock_9S_Phone_Brown/sm07/#02/data/handover_info_log.csv\n",
      "211/216 /home/wmnlab/jackbedford/data/2023-11-09/UDP_Bandlock_9S_Phone_Brown/sm07/#02/data/udp_dnlk_loss_latency.csv\n",
      "211/216 /home/wmnlab/jackbedford/data/2023-11-09/UDP_Bandlock_9S_Phone_Brown/sm07/#02/data/udp_uplk_loss_latency.csv\n"
     ]
    },
    {
     "data": {
      "application/vnd.jupyter.widget-view+json": {
       "model_id": "e01ebd4b1eda4d86b0950ce8cfa4c86d",
       "version_major": 2,
       "version_minor": 0
      },
      "text/plain": [
       "  0%|                                                                                                         …"
      ]
     },
     "metadata": {},
     "output_type": "display_data"
    },
    {
     "name": "stdout",
     "output_type": "stream",
     "text": [
      "./20240312_150032342e_newest/20240314_060073cc2b/results/20240314_09355400000_d7d867943ca2abed_1.5corr/\\home\\wmnlab\\jackbedford\\data\\2023-11-09\\UDP_Bandlock_9S_Phone_Brown\\sm05\\#02\\data\\udp_dnlk_loss_latency\\home\\wmnlab\\jackbedford\\data\\2023-11-09\\UDP_Bandlock_9S_Phone_Brown\\sm07\\#02\\data\\udp_dnlk_loss_latency.csv\n",
      "212/216 /home/wmnlab/jackbedford/data/2023-11-09/UDP_Bandlock_9S_Phone_Brown/sm05/#02/data/handover_info_log.csv\n",
      "212/216 /home/wmnlab/jackbedford/data/2023-11-09/UDP_Bandlock_9S_Phone_Brown/sm05/#02/data/udp_dnlk_loss_latency.csv\n",
      "212/216 /home/wmnlab/jackbedford/data/2023-11-09/UDP_Bandlock_9S_Phone_Brown/sm05/#02/data/udp_uplk_loss_latency.csv\n",
      "212/216 /home/wmnlab/jackbedford/data/2023-11-09/UDP_Bandlock_9S_Phone_Brown/sm08/#02/data/handover_info_log.csv\n",
      "212/216 /home/wmnlab/jackbedford/data/2023-11-09/UDP_Bandlock_9S_Phone_Brown/sm08/#02/data/udp_dnlk_loss_latency.csv\n",
      "212/216 /home/wmnlab/jackbedford/data/2023-11-09/UDP_Bandlock_9S_Phone_Brown/sm08/#02/data/udp_uplk_loss_latency.csv\n"
     ]
    },
    {
     "data": {
      "application/vnd.jupyter.widget-view+json": {
       "model_id": "12df2974784b4c1194bf23afb4fd700f",
       "version_major": 2,
       "version_minor": 0
      },
      "text/plain": [
       "  0%|                                                                                                         …"
      ]
     },
     "metadata": {},
     "output_type": "display_data"
    },
    {
     "name": "stdout",
     "output_type": "stream",
     "text": [
      "./20240312_150032342e_newest/20240314_060073cc2b/results/20240314_09355400000_d7d867943ca2abed_1.5corr/\\home\\wmnlab\\jackbedford\\data\\2023-11-09\\UDP_Bandlock_9S_Phone_Brown\\sm05\\#02\\data\\udp_dnlk_loss_latency\\home\\wmnlab\\jackbedford\\data\\2023-11-09\\UDP_Bandlock_9S_Phone_Brown\\sm08\\#02\\data\\udp_dnlk_loss_latency.csv\n",
      "213/216 /home/wmnlab/jackbedford/data/2023-11-09/UDP_Bandlock_9S_Phone_Brown/sm06/#02/data/handover_info_log.csv\n",
      "213/216 /home/wmnlab/jackbedford/data/2023-11-09/UDP_Bandlock_9S_Phone_Brown/sm06/#02/data/udp_dnlk_loss_latency.csv\n",
      "213/216 /home/wmnlab/jackbedford/data/2023-11-09/UDP_Bandlock_9S_Phone_Brown/sm06/#02/data/udp_uplk_loss_latency.csv\n",
      "213/216 /home/wmnlab/jackbedford/data/2023-11-09/UDP_Bandlock_9S_Phone_Brown/sm07/#02/data/handover_info_log.csv\n",
      "213/216 /home/wmnlab/jackbedford/data/2023-11-09/UDP_Bandlock_9S_Phone_Brown/sm07/#02/data/udp_dnlk_loss_latency.csv\n",
      "213/216 /home/wmnlab/jackbedford/data/2023-11-09/UDP_Bandlock_9S_Phone_Brown/sm07/#02/data/udp_uplk_loss_latency.csv\n"
     ]
    },
    {
     "data": {
      "application/vnd.jupyter.widget-view+json": {
       "model_id": "acec3b03145b44cab6e17ae507b88b1f",
       "version_major": 2,
       "version_minor": 0
      },
      "text/plain": [
       "  0%|                                                                                                         …"
      ]
     },
     "metadata": {},
     "output_type": "display_data"
    },
    {
     "name": "stdout",
     "output_type": "stream",
     "text": [
      "./20240312_150032342e_newest/20240314_060073cc2b/results/20240314_09355400000_d7d867943ca2abed_1.5corr/\\home\\wmnlab\\jackbedford\\data\\2023-11-09\\UDP_Bandlock_9S_Phone_Brown\\sm06\\#02\\data\\udp_dnlk_loss_latency\\home\\wmnlab\\jackbedford\\data\\2023-11-09\\UDP_Bandlock_9S_Phone_Brown\\sm07\\#02\\data\\udp_dnlk_loss_latency.csv\n",
      "214/216 /home/wmnlab/jackbedford/data/2023-11-09/UDP_Bandlock_9S_Phone_Brown/sm06/#02/data/handover_info_log.csv\n",
      "214/216 /home/wmnlab/jackbedford/data/2023-11-09/UDP_Bandlock_9S_Phone_Brown/sm06/#02/data/udp_dnlk_loss_latency.csv\n",
      "214/216 /home/wmnlab/jackbedford/data/2023-11-09/UDP_Bandlock_9S_Phone_Brown/sm06/#02/data/udp_uplk_loss_latency.csv\n",
      "214/216 /home/wmnlab/jackbedford/data/2023-11-09/UDP_Bandlock_9S_Phone_Brown/sm08/#02/data/handover_info_log.csv\n",
      "214/216 /home/wmnlab/jackbedford/data/2023-11-09/UDP_Bandlock_9S_Phone_Brown/sm08/#02/data/udp_dnlk_loss_latency.csv\n",
      "214/216 /home/wmnlab/jackbedford/data/2023-11-09/UDP_Bandlock_9S_Phone_Brown/sm08/#02/data/udp_uplk_loss_latency.csv\n"
     ]
    },
    {
     "data": {
      "application/vnd.jupyter.widget-view+json": {
       "model_id": "a6a8fc6eea8b4de89d180c6e815930b3",
       "version_major": 2,
       "version_minor": 0
      },
      "text/plain": [
       "  0%|                                                                                                         …"
      ]
     },
     "metadata": {},
     "output_type": "display_data"
    },
    {
     "name": "stdout",
     "output_type": "stream",
     "text": [
      "./20240312_150032342e_newest/20240314_060073cc2b/results/20240314_09355400000_d7d867943ca2abed_1.5corr/\\home\\wmnlab\\jackbedford\\data\\2023-11-09\\UDP_Bandlock_9S_Phone_Brown\\sm06\\#02\\data\\udp_dnlk_loss_latency\\home\\wmnlab\\jackbedford\\data\\2023-11-09\\UDP_Bandlock_9S_Phone_Brown\\sm08\\#02\\data\\udp_dnlk_loss_latency.csv\n",
      "215/216 /home/wmnlab/jackbedford/data/2023-11-09/UDP_Bandlock_9S_Phone_Brown/sm07/#02/data/handover_info_log.csv\n",
      "215/216 /home/wmnlab/jackbedford/data/2023-11-09/UDP_Bandlock_9S_Phone_Brown/sm07/#02/data/udp_dnlk_loss_latency.csv\n",
      "215/216 /home/wmnlab/jackbedford/data/2023-11-09/UDP_Bandlock_9S_Phone_Brown/sm07/#02/data/udp_uplk_loss_latency.csv\n",
      "215/216 /home/wmnlab/jackbedford/data/2023-11-09/UDP_Bandlock_9S_Phone_Brown/sm08/#02/data/handover_info_log.csv\n",
      "215/216 /home/wmnlab/jackbedford/data/2023-11-09/UDP_Bandlock_9S_Phone_Brown/sm08/#02/data/udp_dnlk_loss_latency.csv\n",
      "215/216 /home/wmnlab/jackbedford/data/2023-11-09/UDP_Bandlock_9S_Phone_Brown/sm08/#02/data/udp_uplk_loss_latency.csv\n"
     ]
    },
    {
     "data": {
      "application/vnd.jupyter.widget-view+json": {
       "model_id": "7654c5cead584954b7e5ab5d33f67652",
       "version_major": 2,
       "version_minor": 0
      },
      "text/plain": [
       "  0%|                                                                                                         …"
      ]
     },
     "metadata": {},
     "output_type": "display_data"
    },
    {
     "name": "stdout",
     "output_type": "stream",
     "text": [
      "./20240312_150032342e_newest/20240314_060073cc2b/results/20240314_09355400000_d7d867943ca2abed_1.5corr/\\home\\wmnlab\\jackbedford\\data\\2023-11-09\\UDP_Bandlock_9S_Phone_Brown\\sm07\\#02\\data\\udp_dnlk_loss_latency\\home\\wmnlab\\jackbedford\\data\\2023-11-09\\UDP_Bandlock_9S_Phone_Brown\\sm08\\#02\\data\\udp_dnlk_loss_latency.csv\n",
      "./20240312_150032342e_newest/20240314_060073cc2b/figures/20240314_BR_1.5corr_09355400000_d7d867943ca2abed.png\n"
     ]
    },
    {
     "data": {
      "image/png": "[encoded data removed]",
      "text/plain": [
       "<Figure size 600x400 with 1 Axes>"
      ]
     },
     "metadata": {
      "image/png": {
       "height": 373,
       "width": 548
      }
     },
     "output_type": "display_data"
    }
   ],
   "source": [
    "eval = DEval(filepaths, model_name='BR', model_suffix=suffix, sr_model_id=sr_model_id, dr_model_id=dr_model_id)\n",
    "eval.run_hist_method(N=1)\n",
    "eval.plot('BR')"
   ]
  },
  {
   "cell_type": "code",
   "execution_count": null,
   "metadata": {},
   "outputs": [],
   "source": []
  }
 ],
 "metadata": {
  "kernelspec": {
   "display_name": "moxa",
   "language": "python",
   "name": "python3"
  },
  "language_info": {
   "codemirror_mode": {
    "name": "ipython",
    "version": 3
   },
   "file_extension": ".py",
   "mimetype": "text/x-python",
   "name": "python",
   "nbconvert_exporter": "python",
   "pygments_lexer": "ipython3",
   "version": "3.8.18"
  },
  "vscode": {
   "interpreter": {
    "hash": "ac7929854b6d4d7e2ce5893f875cc9f600cfede08169dbb82e36bcbc7af2498e"
   }
  }
 },
 "nbformat": 4,
 "nbformat_minor": 2
}
