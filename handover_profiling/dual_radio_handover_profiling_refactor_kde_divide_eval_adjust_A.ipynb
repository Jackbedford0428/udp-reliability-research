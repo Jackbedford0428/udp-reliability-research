{
 "cells": [
  {
   "cell_type": "markdown",
   "metadata": {},
   "source": [
    "# Import Modules & Util Functions"
   ]
  },
  {
   "cell_type": "code",
   "execution_count": 1,
   "metadata": {},
   "outputs": [],
   "source": [
    "import os\n",
    "import sys\n",
    "import glob\n",
    "import re\n",
    "import ast\n",
    "import warnings\n",
    "import time\n",
    "\n",
    "import csv\n",
    "import json\n",
    "import pickle\n",
    "\n",
    "import math\n",
    "import random\n",
    "import numpy as np\n",
    "import scipy as sp\n",
    "import datetime as dt\n",
    "import pandas as pd\n",
    "import swifter\n",
    "from scipy.stats import gaussian_kde\n",
    "from scipy.integrate import quad\n",
    "from scipy.optimize import minimize\n",
    "from sklearn.metrics import mean_squared_error\n",
    "\n",
    "import portion as P\n",
    "import itertools as it\n",
    "import copy\n",
    "from tqdm.notebook import tqdm\n",
    "from collections import namedtuple\n",
    "from pprint import pprint\n",
    "from pytictoc import TicToc\n",
    "\n",
    "import matplotlib\n",
    "import matplotlib.pyplot as plt\n",
    "import seaborn as sns\n",
    "\n",
    "from my_utils import *\n",
    "\n",
    "# Configure display options\n",
    "# pd.set_option('display.max_rows', 200)\n",
    "pd.set_option('display.max_columns', 100)\n",
    "%config InlineBackend.figure_format = 'retina'\n",
    "\n",
    "# Set plot style\n",
    "# plt.style.use('ggplot')\n"
   ]
  },
  {
   "cell_type": "markdown",
   "metadata": {},
   "source": [
    "# Dual Radio Evaluation"
   ]
  },
  {
   "cell_type": "code",
   "execution_count": 2,
   "metadata": {},
   "outputs": [],
   "source": [
    "class DEval:\n",
    "    def __init__(self, filepaths, model_name='Test', model_suffix=None, sr_model_id=None, dr_model_id=None, load_path='.', save_path='.',\n",
    "                 sp_columns=['type'], ts_column='Timestamp',\n",
    "                 metrics=['dl_lost']):\n",
    "        # Initialize instance variables\n",
    "        self.filepaths = copy.deepcopy(filepaths)\n",
    "        \n",
    "        if sr_model_id is None:\n",
    "            raise TypeError(\"請輸入SR模型編號\")\n",
    "        else:\n",
    "            self.sr_model_id = sr_model_id\n",
    "        \n",
    "        if dr_model_id is None:\n",
    "            raise TypeError(\"請輸入DR模型編號\")\n",
    "        else:\n",
    "            self.dr_model_id = dr_model_id\n",
    "        \n",
    "        self.model_name = model_name\n",
    "        self.save_path = save_path\n",
    "        \n",
    "        self.load_path = os.path.join(load_path, self.sr_model_id, 'models', self.model_name)\n",
    "        print(self.load_path)\n",
    "        with open(f'{self.load_path}_kde_models.pkl', 'rb') as f:\n",
    "            self.kde_models = pickle.load(f)\n",
    "        with open(f'{self.load_path}_hist_models.pkl', 'rb') as f:\n",
    "            self.hist_models = pickle.load(f)\n",
    "        with open(f'{self.load_path}_scope_models.pkl', 'rb') as f:\n",
    "            self.scope_models = pickle.load(f)\n",
    "        with open(f'{self.load_path}_plr_models.pkl', 'rb') as f:\n",
    "            self.plr_models = pickle.load(f)\n",
    "        with open(f'{self.load_path}_sr_prob_models.pkl', 'rb') as f:\n",
    "            self.sr_prob_models = pickle.load(f)\n",
    "            \n",
    "        self.load_path = os.path.join(load_path, self.sr_model_id, self.dr_model_id, self.model_name)\n",
    "        print(self.load_path)\n",
    "        if model_suffix is None:\n",
    "            print(f'{self.load_path}_dr_prob_models.pkl')\n",
    "            with open(f'{self.load_path}_dr_prob_models.pkl', 'rb') as f:\n",
    "                self.dr_prob_models = pickle.load(f)\n",
    "        else:\n",
    "            print(f'{self.load_path}_dr_prob_models_{model_suffix}.pkl')\n",
    "            with open(f'{self.load_path}_dr_prob_models_{model_suffix}.pkl', 'rb') as f:\n",
    "                self.dr_prob_models = pickle.load(f)\n",
    "        self.model_suffix = model_suffix\n",
    "        \n",
    "        self.sp_columns = sp_columns[:]\n",
    "        self.ts_column = ts_column\n",
    "        self.metrics = metrics[:]\n",
    "        \n",
    "        _, _, _, self.figure_id = figure_identity()\n",
    "        \n",
    "        # Sample data\n",
    "        self.LOSS_GT = []\n",
    "        self.LOSS_EV = []\n",
    "        self.LOSS_STD = []\n",
    "        self.DEVICES = []\n",
    "        self.TRACES = []\n",
    "        \n",
    "        # all records\n",
    "        self.records = []\n",
    "\n",
    "    @staticmethod\n",
    "    def generate_random_boolean(probability_true):\n",
    "        return random.random() < probability_true\n",
    "    \n",
    "    @staticmethod\n",
    "    def interpolate(x, y, ratio=0.5):\n",
    "        \"\"\"\n",
    "        Args:\n",
    "            x, y (datetime.datetime): x < y\n",
    "            ratio (float): a decimal numeral in a range [0, 1]; 0 means break at x, 1 means break at y.\n",
    "        Returns:\n",
    "            (datetime.datetime): breakpoint of interpolation\n",
    "        \"\"\"\n",
    "        return x + (y - x) * ratio\n",
    "    \n",
    "    def hist_method(self, df, ho_df, mode_mets, mets, RATE_TYPE):\n",
    "        scope = self.scope_models[mode_mets]\n",
    "        hist_model = self.hist_models[mode_mets]\n",
    "        prob_model = self.sr_prob_models[mode_mets]\n",
    "        plr_model = self.plr_models[mode_mets]\n",
    "        \n",
    "        this_df = df.copy()\n",
    "        for i, row in ho_df.iterrows():\n",
    "            prior_row = ho_df.iloc[i-1] if i != 0 else None\n",
    "            post_row = ho_df.iloc[i+1] if i != len(ho_df) - 1 else None\n",
    "\n",
    "            # Peek the next event to avoid HO overlapping with handoverFailure (skip!!)\n",
    "            if i != len(ho_df) - 1 and pd.notna(row.end) and row.end > post_row.start:\n",
    "                # print('Overlapping event occurs!!')\n",
    "                # print(i, row['start'], row['end'], row['type'], row['cause'])\n",
    "                # print(i+1, post_row['start'], post_row['end'], post_row['type'], post_row['cause'])\n",
    "                continue\n",
    "            \n",
    "            # Set prior event if the prior loop is skipped\n",
    "            if i != 0 and pd.notna(prior_row.end) and prior_row.end > row.start:\n",
    "                prior_row = ho_df.iloc[i-2] if i > 1 else None\n",
    "            \n",
    "            # Basic information of the current row\n",
    "            tag = '_'.join([s for s in row[self.sp_columns] if pd.notna(s)])  # specific column name\n",
    "            start_ts, end_ts = row['start'], row['end']  # handover start/end time\n",
    "            interruption_time = (end_ts - start_ts).total_seconds() if pd.notna(end_ts) else 0  # handover interruption time\n",
    "            \n",
    "            # Set simple left/right bounds\n",
    "            current_left_bound = start_ts + pd.Timedelta(seconds=(scope[tag][0]))\n",
    "            current_right_bound = start_ts + pd.Timedelta(seconds=(scope[tag][1]))\n",
    "            \n",
    "            # Set left/right bounds to avoid event overlapping with each other\n",
    "            if prior_row is not None:\n",
    "                prior_tag = '_'.join([s for s in prior_row[self.sp_columns] if pd.notna(s)])\n",
    "                prior_right_bound = prior_row['start'] + pd.Timedelta(seconds=(scope[prior_tag][1]))\n",
    "                if pd.notna(prior_row['end']):\n",
    "                    left_bound = min(max(current_left_bound, DEval.interpolate(prior_right_bound, current_left_bound), prior_row['end']), start_ts)\n",
    "                else:\n",
    "                    left_bound = min(max(current_left_bound, DEval.interpolate(prior_right_bound, current_left_bound), prior_row['start']), start_ts)\n",
    "            else:\n",
    "                left_bound = current_left_bound\n",
    "            \n",
    "            if post_row is not None:\n",
    "                post_tag = '_'.join([s for s in post_row[self.sp_columns] if pd.notna(s)])\n",
    "                post_left_bound = post_row['start'] + pd.Timedelta(seconds=(scope[post_tag][0]))\n",
    "                if pd.notna(end_ts):\n",
    "                    right_bound = max(min(current_right_bound, DEval.interpolate(current_right_bound, post_left_bound), post_row['start']), end_ts)\n",
    "                else:\n",
    "                    right_bound = max(min(current_right_bound, DEval.interpolate(current_right_bound, post_left_bound), post_row['start']), start_ts)\n",
    "            else:\n",
    "                right_bound = current_right_bound\n",
    "            \n",
    "            interval = P.closed(left_bound, right_bound)\n",
    "            \n",
    "            # Concatenate PLR from mapping list\n",
    "            current_df = this_df[this_df['Timestamp'] < interval.upper].copy()\n",
    "            plr_mapping = hist_model[tag].copy()\n",
    "            \n",
    "            current_df[f'relative_time'] = (current_df['Timestamp'] - start_ts).dt.total_seconds()\n",
    "            current_df[f'window_id'] = ((current_df[f'relative_time'] + 0.005) // 0.01) * 0.01\n",
    "            \n",
    "            trigger_probability = prob_model[tag]\n",
    "            \n",
    "            if plr_mapping.empty:\n",
    "                tmp = current_df.copy().rename(columns={mets: f'{mets}_x'})\n",
    "            else:\n",
    "                tmp = pd.merge(current_df, plr_mapping, on='window_id', how='left')\n",
    "                tmp[RATE_TYPE] = tmp[RATE_TYPE].fillna(0)\n",
    "                \n",
    "                if not DEval.generate_random_boolean(trigger_probability):\n",
    "                    tmp[RATE_TYPE] = 0\n",
    "            \n",
    "            tmp['type'] = tag\n",
    "            \n",
    "            if i == 0:\n",
    "                answer = tmp.copy()\n",
    "            else:\n",
    "                answer = pd.concat([answer, tmp], axis=0)\n",
    "            \n",
    "            # Update dataframe to accelerate the speed\n",
    "            this_df = this_df[this_df[self.ts_column] >= interval.upper].copy()\n",
    "        \n",
    "        answer = pd.concat([answer, this_df], axis=0)\n",
    "        \n",
    "        # Consider stable duration\n",
    "        stable_df = answer[answer['tx_count'].isnull()].copy()[['seq', 'lost_x', 'excl', 'Timestamp']].rename(columns={'lost_x': 'lost'})\n",
    "\n",
    "        stable_df['Timestamp_sec'] = stable_df['Timestamp'].dt.floor('S')\n",
    "        stable_df['relative_time'] = (stable_df['Timestamp'] - stable_df['Timestamp_sec']).dt.total_seconds() - 0.5\n",
    "        stable_df['window_id'] = ((stable_df['relative_time'] + 0.01 / 2) // 0.01) * 0.01\n",
    "\n",
    "        plr_mapping = hist_model['Stable'].copy()        \n",
    "        stable_df = pd.merge(stable_df, plr_mapping, on='window_id', how='left').rename(columns={'PLR': 'PLR_if_trigger'})\n",
    "        trigger_prob_mapping = stable_df[~stable_df['Timestamp_sec'].duplicated()].reset_index(drop=True)[['Timestamp_sec']]\n",
    "        \n",
    "        trigger_probability = prob_model['Stable']\n",
    "        random_bool_array = [DEval.generate_random_boolean(trigger_probability) for _ in range(len(trigger_prob_mapping))]\n",
    "        trigger_prob_mapping['trigger'] = random_bool_array\n",
    "\n",
    "        stable_df = pd.merge(stable_df, trigger_prob_mapping, on='Timestamp_sec', how='left')\n",
    "        stable_df['PLR'] = stable_df['PLR_if_trigger'] * stable_df['trigger']\n",
    "        \n",
    "        stable_df['type'] = 'Stable'\n",
    "\n",
    "        del stable_df['Timestamp_sec'], stable_df['PLR_if_trigger'], stable_df['trigger']\n",
    "        \n",
    "        answer = answer[answer['tx_count'].notnull()].copy()\n",
    "        \n",
    "        answer = pd.concat([answer, stable_df], axis=0)\n",
    "        answer = answer.sort_values(by='Timestamp').reset_index(drop=True)\n",
    "        answer['PLR'] = answer['PLR'] / 100\n",
    "        answer['Y'] = answer['PLR'].apply(DEval.generate_random_boolean)\n",
    "        \n",
    "        eval_value = answer['Y'].mean() * 100\n",
    "        ground_value = df['lost'].mean() * 100\n",
    "        \n",
    "        answer = pd.concat([answer[['seq', 'Timestamp', 'type', 'relative_time', 'window_id']],\n",
    "                            df[['lost']],\n",
    "                            answer[[RATE_TYPE, 'Y']]], axis=1)\n",
    "        \n",
    "        return answer, eval_value, ground_value\n",
    "    \n",
    "    \n",
    "    def setup_profile(self, df, ho_df, df2, scope):\n",
    "        \n",
    "        this_df = df2.copy()\n",
    "        this_df = this_df[this_df['Y']].copy().reset_index(drop=True)\n",
    "        \n",
    "        df['anchor_type'] = 'Stable'\n",
    "        df['anchor_state'] = 0\n",
    "        for i, row in ho_df.iterrows():\n",
    "            prior_row = ho_df.iloc[i-1] if i != 0 else None\n",
    "            post_row = ho_df.iloc[i+1] if i != len(ho_df) - 1 else None\n",
    "\n",
    "            # Peek the next event to avoid HO overlapping with handoverFailure (skip!!)\n",
    "            if i != len(ho_df) - 1 and pd.notna(row.end) and row.end > post_row.start:\n",
    "                # print('Overlapping event occurs!!')\n",
    "                # print(i, row['start'], row['end'], row['type'], row['cause'])\n",
    "                # print(i+1, post_row['start'], post_row['end'], post_row['type'], post_row['cause'])\n",
    "                continue\n",
    "            \n",
    "            # Set prior event if the prior loop is skipped\n",
    "            if i != 0 and pd.notna(prior_row.end) and prior_row.end > row.start:\n",
    "                prior_row = ho_df.iloc[i-2] if i > 1 else None\n",
    "            \n",
    "            # Basic information of the current row\n",
    "            tag = '_'.join([s for s in row[self.sp_columns] if pd.notna(s)])  # specific column name\n",
    "            start_ts, end_ts = row['start'], row['end']  # handover start/end time\n",
    "            interruption_time = (end_ts - start_ts).total_seconds() if pd.notna(end_ts) else 0  # handover interruption time\n",
    "            \n",
    "            # Set simple left/right bounds\n",
    "            current_left_bound = start_ts + pd.Timedelta(seconds=(scope[tag][0]))\n",
    "            current_right_bound = start_ts + pd.Timedelta(seconds=(scope[tag][1]))\n",
    "            \n",
    "            # Set left/right bounds to avoid event overlapping with each other\n",
    "            if prior_row is not None:\n",
    "                prior_tag = '_'.join([s for s in prior_row[self.sp_columns] if pd.notna(s)])\n",
    "                prior_right_bound = prior_row['start'] + pd.Timedelta(seconds=(scope[prior_tag][1]))\n",
    "                if pd.notna(prior_row['end']):\n",
    "                    left_bound = min(max(current_left_bound, DEval.interpolate(prior_right_bound, current_left_bound), prior_row['end']), start_ts)\n",
    "                else:\n",
    "                    left_bound = min(max(current_left_bound, DEval.interpolate(prior_right_bound, current_left_bound), prior_row['start']), start_ts)\n",
    "            else:\n",
    "                left_bound = current_left_bound\n",
    "            \n",
    "            if post_row is not None:\n",
    "                post_tag = '_'.join([s for s in post_row[self.sp_columns] if pd.notna(s)])\n",
    "                post_left_bound = post_row['start'] + pd.Timedelta(seconds=(scope[post_tag][0]))\n",
    "                if pd.notna(end_ts):\n",
    "                    right_bound = max(min(current_right_bound, DEval.interpolate(current_right_bound, post_left_bound), post_row['start']), end_ts)\n",
    "                else:\n",
    "                    right_bound = max(min(current_right_bound, DEval.interpolate(current_right_bound, post_left_bound), post_row['start']), start_ts)\n",
    "            else:\n",
    "                right_bound = current_right_bound\n",
    "            \n",
    "            interval = P.closed(left_bound, right_bound)\n",
    "            \n",
    "            df.loc[(df['start'] >= interval.lower) & (df['start'] < interval.upper), 'anchor_type'] = tag\n",
    "            \n",
    "            if not this_df[(this_df['Timestamp'] >= interval.lower) & (this_df['Timestamp'] < interval.upper)].empty:\n",
    "                df.loc[(df['start'] >= interval.lower) & (df['start'] < interval.upper), 'anchor_state'] = 1\n",
    "                \n",
    "            # Update dataframe to accelerate the speed\n",
    "            this_df = this_df[this_df[self.ts_column] >= interval.upper].copy()\n",
    "            \n",
    "        return df\n",
    "    \n",
    "    \n",
    "    def hist_method_dual(self, df, ho_df, mode_mets, mets, RATE_TYPE):\n",
    "        scope = self.scope_models[mode_mets]\n",
    "        hist_model = self.hist_models[mode_mets]\n",
    "        dr_prob_model = self.dr_prob_models[mode_mets]\n",
    "        \n",
    "        this_df = df.copy()\n",
    "        for i, row in ho_df.iterrows():\n",
    "            prior_row = ho_df.iloc[i-1] if i != 0 else None\n",
    "            post_row = ho_df.iloc[i+1] if i != len(ho_df) - 1 else None\n",
    "\n",
    "            # Peek the next event to avoid HO overlapping with handoverFailure (skip!!)\n",
    "            if i != len(ho_df) - 1 and pd.notna(row.end) and row.end > post_row.start:\n",
    "                # print('Overlapping event occurs!!')\n",
    "                # print(i, row['start'], row['end'], row['type'], row['cause'])\n",
    "                # print(i+1, post_row['start'], post_row['end'], post_row['type'], post_row['cause'])\n",
    "                continue\n",
    "            \n",
    "            # Set prior event if the prior loop is skipped\n",
    "            if i != 0 and pd.notna(prior_row.end) and prior_row.end > row.start:\n",
    "                prior_row = ho_df.iloc[i-2] if i > 1 else None\n",
    "            \n",
    "            # Basic information of the current row\n",
    "            tag = '_'.join([s for s in row[self.sp_columns] if pd.notna(s)])  # specific column name\n",
    "            start_ts, end_ts = row['start'], row['end']  # handover start/end time\n",
    "            interruption_time = (end_ts - start_ts).total_seconds() if pd.notna(end_ts) else 0  # handover interruption time\n",
    "            \n",
    "            # Set simple left/right bounds\n",
    "            current_left_bound = start_ts + pd.Timedelta(seconds=(scope[tag][0]))\n",
    "            current_right_bound = start_ts + pd.Timedelta(seconds=(scope[tag][1]))\n",
    "            \n",
    "            # Set left/right bounds to avoid event overlapping with each other\n",
    "            if prior_row is not None:\n",
    "                prior_tag = '_'.join([s for s in prior_row[self.sp_columns] if pd.notna(s)])\n",
    "                prior_right_bound = prior_row['start'] + pd.Timedelta(seconds=(scope[prior_tag][1]))\n",
    "                if pd.notna(prior_row['end']):\n",
    "                    left_bound = min(max(current_left_bound, DEval.interpolate(prior_right_bound, current_left_bound), prior_row['end']), start_ts)\n",
    "                else:\n",
    "                    left_bound = min(max(current_left_bound, DEval.interpolate(prior_right_bound, current_left_bound), prior_row['start']), start_ts)\n",
    "            else:\n",
    "                left_bound = current_left_bound\n",
    "            \n",
    "            if post_row is not None:\n",
    "                post_tag = '_'.join([s for s in post_row[self.sp_columns] if pd.notna(s)])\n",
    "                post_left_bound = post_row['start'] + pd.Timedelta(seconds=(scope[post_tag][0]))\n",
    "                if pd.notna(end_ts):\n",
    "                    right_bound = max(min(current_right_bound, DEval.interpolate(current_right_bound, post_left_bound), post_row['start']), end_ts)\n",
    "                else:\n",
    "                    right_bound = max(min(current_right_bound, DEval.interpolate(current_right_bound, post_left_bound), post_row['start']), start_ts)\n",
    "            else:\n",
    "                right_bound = current_right_bound\n",
    "            \n",
    "            interval = P.closed(left_bound, right_bound)\n",
    "            \n",
    "            # Concatenate PLR from mapping list\n",
    "            current_df = this_df[this_df['Timestamp'] < interval.upper].copy()\n",
    "            plr_mapping = hist_model[tag].copy()\n",
    "            \n",
    "            current_df[f'relative_time'] = (current_df['Timestamp'] - start_ts).dt.total_seconds()\n",
    "            current_df[f'window_id'] = ((current_df[f'relative_time'] + 0.005) // 0.01) * 0.01\n",
    "            \n",
    "            anchor_tag = row['anchor_type']\n",
    "            anchor_state = row['anchor_state']\n",
    "            \n",
    "            if anchor_state == 1:\n",
    "                trigger_probability = dr_prob_model[(anchor_tag, tag)][0]\n",
    "            else:\n",
    "                trigger_probability = dr_prob_model[(anchor_tag, tag)][1]\n",
    "            \n",
    "            if plr_mapping.empty:\n",
    "                tmp = current_df.copy().rename(columns={mets: f'{mets}_x'})\n",
    "            else:\n",
    "                tmp = pd.merge(current_df, plr_mapping, on='window_id', how='left')\n",
    "                tmp[RATE_TYPE] = tmp[RATE_TYPE].fillna(0)\n",
    "                \n",
    "                if not DEval.generate_random_boolean(trigger_probability):\n",
    "                    tmp[RATE_TYPE] = 0\n",
    "            \n",
    "            tmp['anchor_type'] = anchor_tag\n",
    "            tmp['anchor_state'] = anchor_state\n",
    "            tmp['type'] = tag\n",
    "            \n",
    "            if i == 0:\n",
    "                answer = tmp.copy()\n",
    "            else:\n",
    "                answer = pd.concat([answer, tmp], axis=0)\n",
    "            \n",
    "            # Update dataframe to accelerate the speed\n",
    "            this_df = this_df[this_df[self.ts_column] >= interval.upper].copy()\n",
    "        \n",
    "        answer = pd.concat([answer, this_df], axis=0)\n",
    "        # display(answer)\n",
    "        \n",
    "        # Consider stable duration\n",
    "        stable_df = answer[answer['tx_count'].isnull()].copy()[['seq', 'lost_x', 'excl', 'Timestamp']].rename(columns={'lost_x': 'lost'})\n",
    "\n",
    "        stable_df['Timestamp_sec'] = stable_df['Timestamp'].dt.floor('S')\n",
    "        stable_df['relative_time'] = (stable_df['Timestamp'] - stable_df['Timestamp_sec']).dt.total_seconds() - 0.5\n",
    "        stable_df['window_id'] = ((stable_df['relative_time'] + 0.01 / 2) // 0.01) * 0.01\n",
    "\n",
    "        plr_mapping = hist_model['Stable'].copy()        \n",
    "        stable_df = pd.merge(stable_df, plr_mapping, on='window_id', how='left').rename(columns={'PLR': 'PLR_if_trigger'})\n",
    "        trigger_prob_mapping = stable_df[~stable_df['Timestamp_sec'].duplicated()].reset_index(drop=True)[['Timestamp_sec']]\n",
    "        \n",
    "        trigger_probability = dr_prob_model[('Stable', 'Stable')][0]\n",
    "        \n",
    "        # if anchor_state == 1:\n",
    "        #     trigger_probability = dr_prob_model[(anchor_tag, tag)][0]\n",
    "        # else:\n",
    "        #     trigger_probability = dr_prob_model[(anchor_tag, tag)][1]\n",
    "                \n",
    "        random_bool_array = [DEval.generate_random_boolean(trigger_probability) for _ in range(len(trigger_prob_mapping))]\n",
    "        trigger_prob_mapping['trigger'] = random_bool_array\n",
    "\n",
    "        stable_df = pd.merge(stable_df, trigger_prob_mapping, on='Timestamp_sec', how='left')\n",
    "        stable_df['PLR'] = stable_df['PLR_if_trigger'] * stable_df['trigger']\n",
    "        \n",
    "        # stable_df['type'] = 'Stable'\n",
    "        stable_df['anchor_type'] = 'Stable'\n",
    "        stable_df['anchor_state'] = 0\n",
    "        stable_df['type'] = 'Stable'\n",
    "\n",
    "        del stable_df['Timestamp_sec'], stable_df['PLR_if_trigger'], stable_df['trigger']\n",
    "        \n",
    "        answer = answer[answer['tx_count'].notnull()].copy()\n",
    "        \n",
    "        answer = pd.concat([answer, stable_df], axis=0)\n",
    "        answer = answer.sort_values(by='Timestamp').reset_index(drop=True)\n",
    "        answer['PLR'] = answer['PLR'] / 100\n",
    "        answer['Y'] = answer['PLR'].apply(DEval.generate_random_boolean)\n",
    "        \n",
    "        eval_value = answer['Y'].mean() * 100\n",
    "        ground_value = df['lost'].mean() * 100\n",
    "        \n",
    "        answer = pd.concat([answer[['seq', 'Timestamp', 'anchor_type', 'anchor_state', 'type', 'relative_time', 'window_id']],\n",
    "                            df[['lost']],\n",
    "                            answer[[RATE_TYPE, 'Y']]], axis=1)\n",
    "\n",
    "        return answer, eval_value, ground_value\n",
    "\n",
    "        # return answer, eval_value, ground_value\n",
    "        \n",
    "        # # Consider stable duration\n",
    "        # stable_df = answer[answer['tx_count'].isnull()].copy()[['seq', 'lost_x', 'excl', 'Timestamp']].rename(columns={'lost_x': 'lost'})\n",
    "\n",
    "        # stable_df['Timestamp_sec'] = stable_df['Timestamp'].dt.floor('S')\n",
    "        # stable_df['relative_time'] = (stable_df['Timestamp'] - stable_df['Timestamp_sec']).dt.total_seconds() - 0.5\n",
    "        # stable_df['window_id'] = ((stable_df['relative_time'] + 0.01 / 2) // 0.01) * 0.01\n",
    "\n",
    "        # plr_mapping = hist_model['Stable'].copy()\n",
    "        # stable_df = pd.merge(stable_df, plr_mapping, on='window_id', how='left').rename(columns={'PLR': 'PLR_trig'})\n",
    "\n",
    "        # trig_p_mapping = stable_df[~stable_df['Timestamp_sec'].duplicated()].reset_index(drop=True)\n",
    "        \n",
    "        # triggered_p = dr_prob_model[('Stable', 'Stable')][0]\n",
    "        \n",
    "        # random_bool_array = [DEval.generate_random_boolean(triggered_p) for _ in range(len(trig_p_mapping))]\n",
    "        # trig_p_mapping['trigger'] = random_bool_array\n",
    "        # trig_p_mapping = trig_p_mapping[['Timestamp_sec', 'trigger']]\n",
    "\n",
    "        # stable_df = pd.merge(stable_df, trig_p_mapping, on='Timestamp_sec', how='left')\n",
    "        # stable_df['PLR'] = stable_df['PLR_trig'] * stable_df['trigger']\n",
    "\n",
    "        # del stable_df['Timestamp_sec'], stable_df['PLR_trig'], stable_df['trigger']\n",
    "        \n",
    "        # answer = answer[answer['tx_count'].notnull()].copy()\n",
    "        # # display(answer)\n",
    "        \n",
    "        # answer = pd.concat([answer, stable_df], axis=0)\n",
    "        # answer = answer.sort_values(by='Timestamp').reset_index(drop=True)\n",
    "        # answer['PLR'] = answer['PLR'] / 100\n",
    "        # answer['Y'] = answer['PLR'].apply(DEval.generate_random_boolean)\n",
    "        \n",
    "        # eval_value = answer['Y'].mean() * 100\n",
    "        # ground_value = df['lost'].mean() * 100\n",
    "    \n",
    "    \n",
    "    def run_hist_method(self, N=3):\n",
    "        scope = self.scope_models['dl_lost']\n",
    "        n = len(self.filepaths)\n",
    "        for mode_mets in ['dl_lost']:\n",
    "            for i, filepath in enumerate(self.filepaths):\n",
    "                \n",
    "                # if i > 35:\n",
    "                #     break\n",
    "                \n",
    "                # if i > 0:\n",
    "                #     break\n",
    "                \n",
    "                print(f'{i}/{n}', filepath[0][0]); print(f'{i}/{n}', filepath[0][1]); print(f'{i}/{n}', filepath[0][2])\n",
    "                print(f'{i}/{n}', filepath[1][0]); print(f'{i}/{n}', filepath[1][1]); print(f'{i}/{n}', filepath[1][2])\n",
    "                    \n",
    "                ho_df1 = pd.read_csv(filepath[0][0], parse_dates=['start', 'end'])\n",
    "                ho_df2 = pd.read_csv(filepath[1][0], parse_dates=['start', 'end'])\n",
    "                \n",
    "                if ho_df1.empty or ho_df2.empty:\n",
    "                    print('******** Empty RRC Data ********')\n",
    "                    continue\n",
    "                \n",
    "                # df, ho_df, empty_data = data_aligner(df, ho_df)\n",
    "                \n",
    "                df1 = pd.read_csv(filepath[0][1], parse_dates=['Timestamp'])[['seq', 'Timestamp', 'lost', 'excl', 'latency']]\n",
    "                df2 = pd.read_csv(filepath[1][1], parse_dates=['Timestamp'])[['seq', 'Timestamp', 'lost', 'excl', 'latency']]\n",
    "                df1, ho_df1, empty_data1 = data_aligner(df1, ho_df1)\n",
    "                df2, ho_df2, empty_data2 = data_aligner(df2, ho_df2)\n",
    "                \n",
    "                if empty_data1 or empty_data2:\n",
    "                    print('******** Empty RRC Data ********')\n",
    "                    continue\n",
    "                \n",
    "                df = pd.merge(df1, df2, on='seq', how='inner').reset_index(drop=True)\n",
    "                \n",
    "                df1 = df[['seq', 'Timestamp_x', 'lost_x', 'excl_x', 'latency_x']].rename(columns={'Timestamp_x': 'Timestamp', 'lost_x': 'lost', 'excl_x': 'excl', 'latency_x': 'latency'})\n",
    "                df2 = df[['seq', 'Timestamp_y', 'lost_y', 'excl_y', 'latency_y']].rename(columns={'Timestamp_y': 'Timestamp', 'lost_y': 'lost', 'excl_y': 'excl', 'latency_y': 'latency'})\n",
    "                \n",
    "                loss_rate_list = []\n",
    "                answer = None\n",
    "                for iter_round in tqdm(range(N), ncols=1000):\n",
    "                    ans1, eval_value1, ground_value1 = eval.hist_method(df1, ho_df1, mode_mets='dl_lost', mets='lost', RATE_TYPE='PLR')\n",
    "                    # display(answer1)\n",
    "                    \n",
    "                    # setup_profile\n",
    "                    # ho_df1 = self.setup_profile(ho_df1, ho_df2, df2, scope)\n",
    "                    avatar_ho_df2 = self.setup_profile(ho_df2.copy(), ho_df1, ans1, scope)\n",
    "                    \n",
    "                    # display(avatar_ho_df2)\n",
    "                    \n",
    "                    ans2, eval_value2, ground_value2 = eval.hist_method_dual(df2, avatar_ho_df2, mode_mets='dl_lost', mets='lost', RATE_TYPE='PLR')\n",
    "                    \n",
    "                    # display(ans1)\n",
    "                    # display(ans2)\n",
    "                    # display(answer2)\n",
    "                    \n",
    "                    ans = pd.merge(ans1, ans2, on='seq', how='inner').reset_index(drop=True)\n",
    "                    ans['lost'] = (ans['lost_x']) & (ans['lost_y'])\n",
    "                    ans['Y'] = (ans['Y_x']) & (ans['Y_y'])\n",
    "                    ans = ans[['seq', 'Timestamp_x', 'Timestamp_y', 'type_x', 'anchor_type', 'anchor_state', 'type_y', 'relative_time_x', 'window_id_x', 'relative_time_y', 'window_id_y', 'lost_x', 'lost_y', 'lost', 'PLR_x', 'Y_x', 'PLR_y', 'Y_y', 'Y']]\n",
    "                    \n",
    "                    # display(ans)\n",
    "                    \n",
    "                    handle = (ans1['Y']) & (ans2['Y'])\n",
    "                    eval_value = handle.mean() * 100\n",
    "                    # print('eval:', eval_value, len(handle))\n",
    "                    \n",
    "                    handle = (df1['lost']) & (df2['lost'])\n",
    "                    ground_value = handle.mean() * 100\n",
    "                    # print('ground:', ground_value, len(handle))\n",
    "                    \n",
    "                    if answer is None:\n",
    "                        answer = ans.copy()\n",
    "                        answer = answer.rename(columns={'PLR_x': f'PLR_x_0', 'Y_x': f'Y_x_0', 'PLR_y': f'PLR_y_0', 'Y_y': f'Y_y_0', 'Y': f'Y_0'})\n",
    "                    else:\n",
    "                        answer = pd.concat([answer, ans[['PLR_x', 'Y_x', 'PLR_y', 'Y_y', 'Y']]], axis=1)\n",
    "                        answer = answer.rename(columns={'PLR_x': f'PLR_x_{iter_round}', 'Y_x': f'Y_x_{iter_round}', 'PLR_y': f'PLR_y_{iter_round}', 'Y_y': f'Y_y_{iter_round}', 'Y': f'Y_{iter_round}'})\n",
    "                    \n",
    "                    loss_rate_list.append(eval_value)\n",
    "                \n",
    "                # display(answer)\n",
    "        \n",
    "                mean_value = np.mean(loss_rate_list)\n",
    "                std_deviation = np.std(loss_rate_list)\n",
    "\n",
    "                # print()\n",
    "                # print(\"Mean:\", mean_value)\n",
    "                # print(\"Standard Deviation:\", std_deviation)\n",
    "                # print(\"Ground Truth:\", ground_value)\n",
    "                \n",
    "                self.LOSS_GT.append(ground_value)\n",
    "                self.LOSS_EV.append(mean_value)\n",
    "                self.LOSS_STD.append(std_deviation)\n",
    "                \n",
    "                path1 = filepath[0][1]\n",
    "                path2 = filepath[1][1]\n",
    "                \n",
    "                error = mean_value - ground_value\n",
    "                self.records.append((mean_value, std_deviation, ground_value, error, path1, path2))\n",
    "\n",
    "                def find_sm_label(path):\n",
    "                    # 找到 \"sm\" 的位置\n",
    "                    sm_index = path.index(\"sm\")\n",
    "                    # 从 \"sm\" 的位置开始找到下一个斜杠 \"/\"\n",
    "                    next_slash_index = path.index(\"/\", sm_index)\n",
    "                    # 截取 \"sm00\" 标签\n",
    "                    # sm_label = path[sm_index:next_slash_index]\n",
    "                    sm_label = path[sm_index+2:next_slash_index]\n",
    "                    # print(\"截取的标签为:\", sm_label)\n",
    "                    return sm_label\n",
    "                \n",
    "                self.DEVICES.append(find_sm_label(path1)+'+'+find_sm_label(path2))\n",
    "                \n",
    "                def find_tr_label(path):\n",
    "                    # 找到 \"sm\" 的位置\n",
    "                    sm_index = path.index(\"#\")\n",
    "                    # 从 \"sm\" 的位置开始找到下一个斜杠 \"/\"\n",
    "                    next_slash_index = path.index(\"/\", sm_index)\n",
    "                    # 截取 \"sm00\" 标签\n",
    "                    # sm_label = path[sm_index:next_slash_index]\n",
    "                    sm_label = path[sm_index+1:next_slash_index]\n",
    "                    # print(\"截取的标签为:\", sm_label)\n",
    "                    return sm_label\n",
    "                \n",
    "                self.TRACES.append(find_tr_label(path1)+'+'+find_tr_label(path2))\n",
    "                \n",
    "                if self.model_suffix is None:\n",
    "                    save_path = os.path.join(self.save_path, self.sr_model_id, self.dr_model_id, 'results', self.figure_id)\n",
    "                else:\n",
    "                    save_path = os.path.join(self.save_path, self.sr_model_id, self.dr_model_id, 'results', f'{self.figure_id}_{self.model_suffix}')\n",
    "                    \n",
    "                if not os.path.isdir(save_path):\n",
    "                    os.makedirs(save_path)\n",
    "                \n",
    "                save_path = os.path.join(save_path, path1.replace('/', '\\\\')[:-4]+path2.replace('/', '\\\\'))\n",
    "                print(save_path)\n",
    "                answer.to_csv(save_path, index=False)\n",
    "    \n",
    "    \n",
    "    def plot(self, save_name='plot_example', save_path='.'):\n",
    "        # Sample data\n",
    "        x = self.LOSS_GT.copy()\n",
    "        y = self.LOSS_EV.copy()\n",
    "\n",
    "        # Standard deviations for error bars\n",
    "        y_error = self.LOSS_STD.copy()\n",
    "\n",
    "        # Create figure and axes\n",
    "        fig, ax = plt.subplots(figsize=(6, 4))\n",
    "\n",
    "        # Scatter plot with error bars and horizontal caps\n",
    "        ax.errorbar(x, y, yerr=y_error, linestyle='None', marker='o', color='tab:blue', capsize=5)\n",
    "        ax.scatter([], [], linestyle='None', marker='o', color='tab:blue', label='Data Points')\n",
    "\n",
    "        # Regression line\n",
    "        coefficients = np.polyfit(x, y, 1)\n",
    "        regression_line = np.poly1d(coefficients)\n",
    "        ax.plot(ax.get_xlim(), regression_line(ax.get_xlim()), linestyle='--', linewidth=1.1, color='tab:blue', label='Regression Line')\n",
    "\n",
    "        # Annotate the slope of the regression line\n",
    "        # slope_annotation = f'Slope: {coefficients[0]:.2f}'\n",
    "        # ax.annotate(slope_annotation, xy=(0.5, 0.85), xycoords='axes fraction', fontsize=10, fontstyle='italic', fontweight='bold', color='tab:blue')\n",
    "\n",
    "        # Annotate MSE From the regression line\n",
    "        y_pred = regression_line(x)\n",
    "        # mse = mean_squared_error(y, y_pred)\n",
    "        mse = np.sqrt(mean_squared_error(x, y))\n",
    "        mse_rate = mse / np.mean(x) * 100\n",
    "        slope_annotation = f'RMSE: {mse:.3f} ({mse_rate:.1f} %)'\n",
    "        ax.annotate(slope_annotation, xy=(0.5, 0.85), xycoords='axes fraction', fontsize=10, fontstyle='italic', fontweight='bold', color='tab:blue')\n",
    "\n",
    "        # 45-Degree Line\n",
    "        ax.plot(ax.get_xlim(), ax.get_xlim(), linestyle='-', linewidth=1.1, color='tab:pink', label='45-Degree Line', alpha=0.9)\n",
    "        # ax.plot(ax.get_xlim(), 1.1 * ax.get_xlim(), linestyle='-', linewidth=1.1, color='tab:pink', label='45-Degree Line', alpha=0.9)\n",
    "        # ax.plot(ax.get_xlim(), 0.9 * ax.get_xlim(), linestyle='-', linewidth=1.1, color='tab:pink', label='45-Degree Line', alpha=0.9)\n",
    "        \n",
    "        # 获取 x 的边界\n",
    "        x_limits = ax.get_xlim()\n",
    "\n",
    "        # 创建 x 值范围\n",
    "        x_values = np.linspace(x_limits[0], x_limits[1], 100)  # 使用 x 的边界值作为范围\n",
    "\n",
    "        # 计算 y = 1.1x 和 y = 0.9x 的值\n",
    "        y_upper = 1.1 * x_values\n",
    "        y_lower = 0.9 * x_values\n",
    "\n",
    "        # 绘制 y = 1.1x 和 y = 0.9x 线\n",
    "        ax.plot(x_values, y_upper, linestyle='-', linewidth=1.1, color='tab:orange')\n",
    "        ax.plot(x_values, y_lower, linestyle='-', linewidth=1.1, color='tab:orange')\n",
    "\n",
    "        # 在两条线之间填充颜色\n",
    "        ax.fill_between(x_values, y_lower, y_upper, color='tab:orange', alpha=0.3)\n",
    "\n",
    "        # Set labels and title\n",
    "        ax.set_xlabel('PLR Ground Truth')\n",
    "        ax.set_ylabel('PLR Evaluated')\n",
    "        # ax.set_title('A Profile Evaluate 9 Traces From A5 Data: Single')\n",
    "\n",
    "        for i, sm_label in enumerate(self.DEVICES):\n",
    "            ax.annotate(sm_label, xy=(x[i], y[i]))\n",
    "            \n",
    "        # Add a legend\n",
    "        ax.legend()\n",
    "        \n",
    "        save_path = os.path.join(save_path, self.sr_model_id, self.dr_model_id, 'figures')\n",
    "        if not os.path.isdir(save_path):\n",
    "            os.makedirs(save_path)\n",
    "        \n",
    "        if self.model_suffix is not None:\n",
    "            save_name = f'{save_name}_{self.model_suffix}'\n",
    "        save_path = os.path.join(save_path, figure_add_prefix_suffix(save_name, image_id=self.figure_id))\n",
    "        print(save_path)\n",
    "        fig.savefig(save_path, dpi=300)\n",
    "\n",
    "        # Show the plot\n",
    "        plt.show()"
   ]
  },
  {
   "cell_type": "markdown",
   "metadata": {},
   "source": [
    "# Enter Model IDs"
   ]
  },
  {
   "cell_type": "code",
   "execution_count": 3,
   "metadata": {},
   "outputs": [
    {
     "name": "stdout",
     "output_type": "stream",
     "text": [
      "SR Model ID: 20240312_150032342e_newest\n",
      "DR Model ID: 20240314_060073cc2b\n"
     ]
    }
   ],
   "source": [
    "sr_model_id = '20240312_150032342e_newest'\n",
    "# dr_model_id = '20240314_060057288b_test'\n",
    "dr_model_id = '20240314_060073cc2b'\n",
    "print('SR Model ID:', sr_model_id)\n",
    "print('DR Model ID:', dr_model_id)\n"
   ]
  },
  {
   "cell_type": "markdown",
   "metadata": {},
   "source": [
    "# A: Dual Eval"
   ]
  },
  {
   "cell_type": "code",
   "execution_count": 4,
   "metadata": {},
   "outputs": [],
   "source": [
    "# Dual Radio Example\n",
    "dates = data_loader(query_dates=True)\n",
    "\n",
    "selected_dates = [s for s in dates if s >= '2023-09-12']\n",
    "# excluded_dates = []\n",
    "# selected_exps = []\n",
    "# excluded_exps = ['Modem_Action_Test', 'Control_Group', 'Control_Group2', 'Control_Group3']\n",
    "selected_routes = ['A']\n",
    "# excluded_routes = []\n",
    "filepaths = data_loader(mode='dr', selected_dates=selected_dates, selected_routes=selected_routes)\n",
    "\n",
    "# print(len(filepaths[:36]))\n",
    "# pprint(filepaths[:36])"
   ]
  },
  {
   "cell_type": "code",
   "execution_count": 5,
   "metadata": {},
   "outputs": [
    {
     "name": "stdout",
     "output_type": "stream",
     "text": [
      "./20240312_150032342e_newest/models/A\n",
      "./20240312_150032342e_newest/20240314_060073cc2b/A\n",
      "./20240312_150032342e_newest/20240314_060073cc2b/A_dr_prob_models_adjust.pkl\n",
      "0/216 /home/wmnlab/jackbedford/data/2023-10-26/UDP_Bandlock_9S_Phone_Airport/sm00/#01/data/handover_info_log.csv\n",
      "0/216 /home/wmnlab/jackbedford/data/2023-10-26/UDP_Bandlock_9S_Phone_Airport/sm00/#01/data/udp_dnlk_loss_latency.csv\n",
      "0/216 /home/wmnlab/jackbedford/data/2023-10-26/UDP_Bandlock_9S_Phone_Airport/sm00/#01/data/udp_uplk_loss_latency.csv\n",
      "0/216 /home/wmnlab/jackbedford/data/2023-10-26/UDP_Bandlock_9S_Phone_Airport/sm01/#01/data/handover_info_log.csv\n",
      "0/216 /home/wmnlab/jackbedford/data/2023-10-26/UDP_Bandlock_9S_Phone_Airport/sm01/#01/data/udp_dnlk_loss_latency.csv\n",
      "0/216 /home/wmnlab/jackbedford/data/2023-10-26/UDP_Bandlock_9S_Phone_Airport/sm01/#01/data/udp_uplk_loss_latency.csv\n"
     ]
    },
    {
     "data": {
      "application/vnd.jupyter.widget-view+json": {
       "model_id": "15ca641b538441069c4172822506de74",
       "version_major": 2,
       "version_minor": 0
      },
      "text/plain": [
       "  0%|                                                                                                         …"
      ]
     },
     "metadata": {},
     "output_type": "display_data"
    },
    {
     "name": "stdout",
     "output_type": "stream",
     "text": [
      "./20240312_150032342e_newest/20240314_060073cc2b/results/20240314_07552300000_3eeecdf13ff695a6_adjust/\\home\\wmnlab\\jackbedford\\data\\2023-10-26\\UDP_Bandlock_9S_Phone_Airport\\sm00\\#01\\data\\udp_dnlk_loss_latency\\home\\wmnlab\\jackbedford\\data\\2023-10-26\\UDP_Bandlock_9S_Phone_Airport\\sm01\\#01\\data\\udp_dnlk_loss_latency.csv\n",
      "1/216 /home/wmnlab/jackbedford/data/2023-10-26/UDP_Bandlock_9S_Phone_Airport/sm00/#01/data/handover_info_log.csv\n",
      "1/216 /home/wmnlab/jackbedford/data/2023-10-26/UDP_Bandlock_9S_Phone_Airport/sm00/#01/data/udp_dnlk_loss_latency.csv\n",
      "1/216 /home/wmnlab/jackbedford/data/2023-10-26/UDP_Bandlock_9S_Phone_Airport/sm00/#01/data/udp_uplk_loss_latency.csv\n",
      "1/216 /home/wmnlab/jackbedford/data/2023-10-26/UDP_Bandlock_9S_Phone_Airport/sm02/#01/data/handover_info_log.csv\n",
      "1/216 /home/wmnlab/jackbedford/data/2023-10-26/UDP_Bandlock_9S_Phone_Airport/sm02/#01/data/udp_dnlk_loss_latency.csv\n",
      "1/216 /home/wmnlab/jackbedford/data/2023-10-26/UDP_Bandlock_9S_Phone_Airport/sm02/#01/data/udp_uplk_loss_latency.csv\n"
     ]
    },
    {
     "data": {
      "application/vnd.jupyter.widget-view+json": {
       "model_id": "9aeefde2091a46e890a5fba90e449775",
       "version_major": 2,
       "version_minor": 0
      },
      "text/plain": [
       "  0%|                                                                                                         …"
      ]
     },
     "metadata": {},
     "output_type": "display_data"
    },
    {
     "name": "stdout",
     "output_type": "stream",
     "text": [
      "./20240312_150032342e_newest/20240314_060073cc2b/results/20240314_07552300000_3eeecdf13ff695a6_adjust/\\home\\wmnlab\\jackbedford\\data\\2023-10-26\\UDP_Bandlock_9S_Phone_Airport\\sm00\\#01\\data\\udp_dnlk_loss_latency\\home\\wmnlab\\jackbedford\\data\\2023-10-26\\UDP_Bandlock_9S_Phone_Airport\\sm02\\#01\\data\\udp_dnlk_loss_latency.csv\n",
      "2/216 /home/wmnlab/jackbedford/data/2023-10-26/UDP_Bandlock_9S_Phone_Airport/sm00/#01/data/handover_info_log.csv\n",
      "2/216 /home/wmnlab/jackbedford/data/2023-10-26/UDP_Bandlock_9S_Phone_Airport/sm00/#01/data/udp_dnlk_loss_latency.csv\n",
      "2/216 /home/wmnlab/jackbedford/data/2023-10-26/UDP_Bandlock_9S_Phone_Airport/sm00/#01/data/udp_uplk_loss_latency.csv\n",
      "2/216 /home/wmnlab/jackbedford/data/2023-10-26/UDP_Bandlock_9S_Phone_Airport/sm03/#01/data/handover_info_log.csv\n",
      "2/216 /home/wmnlab/jackbedford/data/2023-10-26/UDP_Bandlock_9S_Phone_Airport/sm03/#01/data/udp_dnlk_loss_latency.csv\n",
      "2/216 /home/wmnlab/jackbedford/data/2023-10-26/UDP_Bandlock_9S_Phone_Airport/sm03/#01/data/udp_uplk_loss_latency.csv\n",
      "******** Empty RRC Data ********\n",
      "3/216 /home/wmnlab/jackbedford/data/2023-10-26/UDP_Bandlock_9S_Phone_Airport/sm00/#01/data/handover_info_log.csv\n",
      "3/216 /home/wmnlab/jackbedford/data/2023-10-26/UDP_Bandlock_9S_Phone_Airport/sm00/#01/data/udp_dnlk_loss_latency.csv\n",
      "3/216 /home/wmnlab/jackbedford/data/2023-10-26/UDP_Bandlock_9S_Phone_Airport/sm00/#01/data/udp_uplk_loss_latency.csv\n",
      "3/216 /home/wmnlab/jackbedford/data/2023-10-26/UDP_Bandlock_9S_Phone_Airport/sm04/#01/data/handover_info_log.csv\n",
      "3/216 /home/wmnlab/jackbedford/data/2023-10-26/UDP_Bandlock_9S_Phone_Airport/sm04/#01/data/udp_dnlk_loss_latency.csv\n",
      "3/216 /home/wmnlab/jackbedford/data/2023-10-26/UDP_Bandlock_9S_Phone_Airport/sm04/#01/data/udp_uplk_loss_latency.csv\n"
     ]
    },
    {
     "data": {
      "application/vnd.jupyter.widget-view+json": {
       "model_id": "91a55e9a9c2f4ba1b6a262e43b70ae0c",
       "version_major": 2,
       "version_minor": 0
      },
      "text/plain": [
       "  0%|                                                                                                         …"
      ]
     },
     "metadata": {},
     "output_type": "display_data"
    },
    {
     "name": "stdout",
     "output_type": "stream",
     "text": [
      "./20240312_150032342e_newest/20240314_060073cc2b/results/20240314_07552300000_3eeecdf13ff695a6_adjust/\\home\\wmnlab\\jackbedford\\data\\2023-10-26\\UDP_Bandlock_9S_Phone_Airport\\sm00\\#01\\data\\udp_dnlk_loss_latency\\home\\wmnlab\\jackbedford\\data\\2023-10-26\\UDP_Bandlock_9S_Phone_Airport\\sm04\\#01\\data\\udp_dnlk_loss_latency.csv\n",
      "4/216 /home/wmnlab/jackbedford/data/2023-10-26/UDP_Bandlock_9S_Phone_Airport/sm00/#01/data/handover_info_log.csv\n",
      "4/216 /home/wmnlab/jackbedford/data/2023-10-26/UDP_Bandlock_9S_Phone_Airport/sm00/#01/data/udp_dnlk_loss_latency.csv\n",
      "4/216 /home/wmnlab/jackbedford/data/2023-10-26/UDP_Bandlock_9S_Phone_Airport/sm00/#01/data/udp_uplk_loss_latency.csv\n",
      "4/216 /home/wmnlab/jackbedford/data/2023-10-26/UDP_Bandlock_9S_Phone_Airport/sm05/#01/data/handover_info_log.csv\n",
      "4/216 /home/wmnlab/jackbedford/data/2023-10-26/UDP_Bandlock_9S_Phone_Airport/sm05/#01/data/udp_dnlk_loss_latency.csv\n",
      "4/216 /home/wmnlab/jackbedford/data/2023-10-26/UDP_Bandlock_9S_Phone_Airport/sm05/#01/data/udp_uplk_loss_latency.csv\n"
     ]
    },
    {
     "data": {
      "application/vnd.jupyter.widget-view+json": {
       "model_id": "479f266269c146ae977b4a5d31af9ea6",
       "version_major": 2,
       "version_minor": 0
      },
      "text/plain": [
       "  0%|                                                                                                         …"
      ]
     },
     "metadata": {},
     "output_type": "display_data"
    },
    {
     "name": "stdout",
     "output_type": "stream",
     "text": [
      "./20240312_150032342e_newest/20240314_060073cc2b/results/20240314_07552300000_3eeecdf13ff695a6_adjust/\\home\\wmnlab\\jackbedford\\data\\2023-10-26\\UDP_Bandlock_9S_Phone_Airport\\sm00\\#01\\data\\udp_dnlk_loss_latency\\home\\wmnlab\\jackbedford\\data\\2023-10-26\\UDP_Bandlock_9S_Phone_Airport\\sm05\\#01\\data\\udp_dnlk_loss_latency.csv\n",
      "5/216 /home/wmnlab/jackbedford/data/2023-10-26/UDP_Bandlock_9S_Phone_Airport/sm00/#01/data/handover_info_log.csv\n",
      "5/216 /home/wmnlab/jackbedford/data/2023-10-26/UDP_Bandlock_9S_Phone_Airport/sm00/#01/data/udp_dnlk_loss_latency.csv\n",
      "5/216 /home/wmnlab/jackbedford/data/2023-10-26/UDP_Bandlock_9S_Phone_Airport/sm00/#01/data/udp_uplk_loss_latency.csv\n",
      "5/216 /home/wmnlab/jackbedford/data/2023-10-26/UDP_Bandlock_9S_Phone_Airport/sm06/#01/data/handover_info_log.csv\n",
      "5/216 /home/wmnlab/jackbedford/data/2023-10-26/UDP_Bandlock_9S_Phone_Airport/sm06/#01/data/udp_dnlk_loss_latency.csv\n",
      "5/216 /home/wmnlab/jackbedford/data/2023-10-26/UDP_Bandlock_9S_Phone_Airport/sm06/#01/data/udp_uplk_loss_latency.csv\n"
     ]
    },
    {
     "data": {
      "application/vnd.jupyter.widget-view+json": {
       "model_id": "65bad68943e84dbf9751c475df05b82d",
       "version_major": 2,
       "version_minor": 0
      },
      "text/plain": [
       "  0%|                                                                                                         …"
      ]
     },
     "metadata": {},
     "output_type": "display_data"
    },
    {
     "name": "stdout",
     "output_type": "stream",
     "text": [
      "./20240312_150032342e_newest/20240314_060073cc2b/results/20240314_07552300000_3eeecdf13ff695a6_adjust/\\home\\wmnlab\\jackbedford\\data\\2023-10-26\\UDP_Bandlock_9S_Phone_Airport\\sm00\\#01\\data\\udp_dnlk_loss_latency\\home\\wmnlab\\jackbedford\\data\\2023-10-26\\UDP_Bandlock_9S_Phone_Airport\\sm06\\#01\\data\\udp_dnlk_loss_latency.csv\n",
      "6/216 /home/wmnlab/jackbedford/data/2023-10-26/UDP_Bandlock_9S_Phone_Airport/sm00/#01/data/handover_info_log.csv\n",
      "6/216 /home/wmnlab/jackbedford/data/2023-10-26/UDP_Bandlock_9S_Phone_Airport/sm00/#01/data/udp_dnlk_loss_latency.csv\n",
      "6/216 /home/wmnlab/jackbedford/data/2023-10-26/UDP_Bandlock_9S_Phone_Airport/sm00/#01/data/udp_uplk_loss_latency.csv\n",
      "6/216 /home/wmnlab/jackbedford/data/2023-10-26/UDP_Bandlock_9S_Phone_Airport/sm07/#01/data/handover_info_log.csv\n",
      "6/216 /home/wmnlab/jackbedford/data/2023-10-26/UDP_Bandlock_9S_Phone_Airport/sm07/#01/data/udp_dnlk_loss_latency.csv\n",
      "6/216 /home/wmnlab/jackbedford/data/2023-10-26/UDP_Bandlock_9S_Phone_Airport/sm07/#01/data/udp_uplk_loss_latency.csv\n"
     ]
    },
    {
     "data": {
      "application/vnd.jupyter.widget-view+json": {
       "model_id": "8c76ac27efbc47be87dfce9b79d601d4",
       "version_major": 2,
       "version_minor": 0
      },
      "text/plain": [
       "  0%|                                                                                                         …"
      ]
     },
     "metadata": {},
     "output_type": "display_data"
    },
    {
     "name": "stdout",
     "output_type": "stream",
     "text": [
      "./20240312_150032342e_newest/20240314_060073cc2b/results/20240314_07552300000_3eeecdf13ff695a6_adjust/\\home\\wmnlab\\jackbedford\\data\\2023-10-26\\UDP_Bandlock_9S_Phone_Airport\\sm00\\#01\\data\\udp_dnlk_loss_latency\\home\\wmnlab\\jackbedford\\data\\2023-10-26\\UDP_Bandlock_9S_Phone_Airport\\sm07\\#01\\data\\udp_dnlk_loss_latency.csv\n",
      "7/216 /home/wmnlab/jackbedford/data/2023-10-26/UDP_Bandlock_9S_Phone_Airport/sm00/#01/data/handover_info_log.csv\n",
      "7/216 /home/wmnlab/jackbedford/data/2023-10-26/UDP_Bandlock_9S_Phone_Airport/sm00/#01/data/udp_dnlk_loss_latency.csv\n",
      "7/216 /home/wmnlab/jackbedford/data/2023-10-26/UDP_Bandlock_9S_Phone_Airport/sm00/#01/data/udp_uplk_loss_latency.csv\n",
      "7/216 /home/wmnlab/jackbedford/data/2023-10-26/UDP_Bandlock_9S_Phone_Airport/sm08/#01/data/handover_info_log.csv\n",
      "7/216 /home/wmnlab/jackbedford/data/2023-10-26/UDP_Bandlock_9S_Phone_Airport/sm08/#01/data/udp_dnlk_loss_latency.csv\n",
      "7/216 /home/wmnlab/jackbedford/data/2023-10-26/UDP_Bandlock_9S_Phone_Airport/sm08/#01/data/udp_uplk_loss_latency.csv\n"
     ]
    },
    {
     "data": {
      "application/vnd.jupyter.widget-view+json": {
       "model_id": "41821372e1ca4f00bb13e061d333f655",
       "version_major": 2,
       "version_minor": 0
      },
      "text/plain": [
       "  0%|                                                                                                         …"
      ]
     },
     "metadata": {},
     "output_type": "display_data"
    },
    {
     "name": "stdout",
     "output_type": "stream",
     "text": [
      "./20240312_150032342e_newest/20240314_060073cc2b/results/20240314_07552300000_3eeecdf13ff695a6_adjust/\\home\\wmnlab\\jackbedford\\data\\2023-10-26\\UDP_Bandlock_9S_Phone_Airport\\sm00\\#01\\data\\udp_dnlk_loss_latency\\home\\wmnlab\\jackbedford\\data\\2023-10-26\\UDP_Bandlock_9S_Phone_Airport\\sm08\\#01\\data\\udp_dnlk_loss_latency.csv\n",
      "8/216 /home/wmnlab/jackbedford/data/2023-10-26/UDP_Bandlock_9S_Phone_Airport/sm01/#01/data/handover_info_log.csv\n",
      "8/216 /home/wmnlab/jackbedford/data/2023-10-26/UDP_Bandlock_9S_Phone_Airport/sm01/#01/data/udp_dnlk_loss_latency.csv\n",
      "8/216 /home/wmnlab/jackbedford/data/2023-10-26/UDP_Bandlock_9S_Phone_Airport/sm01/#01/data/udp_uplk_loss_latency.csv\n",
      "8/216 /home/wmnlab/jackbedford/data/2023-10-26/UDP_Bandlock_9S_Phone_Airport/sm02/#01/data/handover_info_log.csv\n",
      "8/216 /home/wmnlab/jackbedford/data/2023-10-26/UDP_Bandlock_9S_Phone_Airport/sm02/#01/data/udp_dnlk_loss_latency.csv\n",
      "8/216 /home/wmnlab/jackbedford/data/2023-10-26/UDP_Bandlock_9S_Phone_Airport/sm02/#01/data/udp_uplk_loss_latency.csv\n"
     ]
    },
    {
     "data": {
      "application/vnd.jupyter.widget-view+json": {
       "model_id": "d65dc6f455ff45ccbf9061aee8eac268",
       "version_major": 2,
       "version_minor": 0
      },
      "text/plain": [
       "  0%|                                                                                                         …"
      ]
     },
     "metadata": {},
     "output_type": "display_data"
    },
    {
     "name": "stdout",
     "output_type": "stream",
     "text": [
      "./20240312_150032342e_newest/20240314_060073cc2b/results/20240314_07552300000_3eeecdf13ff695a6_adjust/\\home\\wmnlab\\jackbedford\\data\\2023-10-26\\UDP_Bandlock_9S_Phone_Airport\\sm01\\#01\\data\\udp_dnlk_loss_latency\\home\\wmnlab\\jackbedford\\data\\2023-10-26\\UDP_Bandlock_9S_Phone_Airport\\sm02\\#01\\data\\udp_dnlk_loss_latency.csv\n",
      "9/216 /home/wmnlab/jackbedford/data/2023-10-26/UDP_Bandlock_9S_Phone_Airport/sm01/#01/data/handover_info_log.csv\n",
      "9/216 /home/wmnlab/jackbedford/data/2023-10-26/UDP_Bandlock_9S_Phone_Airport/sm01/#01/data/udp_dnlk_loss_latency.csv\n",
      "9/216 /home/wmnlab/jackbedford/data/2023-10-26/UDP_Bandlock_9S_Phone_Airport/sm01/#01/data/udp_uplk_loss_latency.csv\n",
      "9/216 /home/wmnlab/jackbedford/data/2023-10-26/UDP_Bandlock_9S_Phone_Airport/sm03/#01/data/handover_info_log.csv\n",
      "9/216 /home/wmnlab/jackbedford/data/2023-10-26/UDP_Bandlock_9S_Phone_Airport/sm03/#01/data/udp_dnlk_loss_latency.csv\n",
      "9/216 /home/wmnlab/jackbedford/data/2023-10-26/UDP_Bandlock_9S_Phone_Airport/sm03/#01/data/udp_uplk_loss_latency.csv\n",
      "******** Empty RRC Data ********\n",
      "10/216 /home/wmnlab/jackbedford/data/2023-10-26/UDP_Bandlock_9S_Phone_Airport/sm01/#01/data/handover_info_log.csv\n",
      "10/216 /home/wmnlab/jackbedford/data/2023-10-26/UDP_Bandlock_9S_Phone_Airport/sm01/#01/data/udp_dnlk_loss_latency.csv\n",
      "10/216 /home/wmnlab/jackbedford/data/2023-10-26/UDP_Bandlock_9S_Phone_Airport/sm01/#01/data/udp_uplk_loss_latency.csv\n",
      "10/216 /home/wmnlab/jackbedford/data/2023-10-26/UDP_Bandlock_9S_Phone_Airport/sm04/#01/data/handover_info_log.csv\n",
      "10/216 /home/wmnlab/jackbedford/data/2023-10-26/UDP_Bandlock_9S_Phone_Airport/sm04/#01/data/udp_dnlk_loss_latency.csv\n",
      "10/216 /home/wmnlab/jackbedford/data/2023-10-26/UDP_Bandlock_9S_Phone_Airport/sm04/#01/data/udp_uplk_loss_latency.csv\n"
     ]
    },
    {
     "data": {
      "application/vnd.jupyter.widget-view+json": {
       "model_id": "b80b23a7547a4dedac214645b219193c",
       "version_major": 2,
       "version_minor": 0
      },
      "text/plain": [
       "  0%|                                                                                                         …"
      ]
     },
     "metadata": {},
     "output_type": "display_data"
    },
    {
     "name": "stdout",
     "output_type": "stream",
     "text": [
      "./20240312_150032342e_newest/20240314_060073cc2b/results/20240314_07552300000_3eeecdf13ff695a6_adjust/\\home\\wmnlab\\jackbedford\\data\\2023-10-26\\UDP_Bandlock_9S_Phone_Airport\\sm01\\#01\\data\\udp_dnlk_loss_latency\\home\\wmnlab\\jackbedford\\data\\2023-10-26\\UDP_Bandlock_9S_Phone_Airport\\sm04\\#01\\data\\udp_dnlk_loss_latency.csv\n",
      "11/216 /home/wmnlab/jackbedford/data/2023-10-26/UDP_Bandlock_9S_Phone_Airport/sm01/#01/data/handover_info_log.csv\n",
      "11/216 /home/wmnlab/jackbedford/data/2023-10-26/UDP_Bandlock_9S_Phone_Airport/sm01/#01/data/udp_dnlk_loss_latency.csv\n",
      "11/216 /home/wmnlab/jackbedford/data/2023-10-26/UDP_Bandlock_9S_Phone_Airport/sm01/#01/data/udp_uplk_loss_latency.csv\n",
      "11/216 /home/wmnlab/jackbedford/data/2023-10-26/UDP_Bandlock_9S_Phone_Airport/sm05/#01/data/handover_info_log.csv\n",
      "11/216 /home/wmnlab/jackbedford/data/2023-10-26/UDP_Bandlock_9S_Phone_Airport/sm05/#01/data/udp_dnlk_loss_latency.csv\n",
      "11/216 /home/wmnlab/jackbedford/data/2023-10-26/UDP_Bandlock_9S_Phone_Airport/sm05/#01/data/udp_uplk_loss_latency.csv\n"
     ]
    },
    {
     "data": {
      "application/vnd.jupyter.widget-view+json": {
       "model_id": "26fcfbbbfcae42b094bcf283402227da",
       "version_major": 2,
       "version_minor": 0
      },
      "text/plain": [
       "  0%|                                                                                                         …"
      ]
     },
     "metadata": {},
     "output_type": "display_data"
    },
    {
     "name": "stdout",
     "output_type": "stream",
     "text": [
      "./20240312_150032342e_newest/20240314_060073cc2b/results/20240314_07552300000_3eeecdf13ff695a6_adjust/\\home\\wmnlab\\jackbedford\\data\\2023-10-26\\UDP_Bandlock_9S_Phone_Airport\\sm01\\#01\\data\\udp_dnlk_loss_latency\\home\\wmnlab\\jackbedford\\data\\2023-10-26\\UDP_Bandlock_9S_Phone_Airport\\sm05\\#01\\data\\udp_dnlk_loss_latency.csv\n",
      "12/216 /home/wmnlab/jackbedford/data/2023-10-26/UDP_Bandlock_9S_Phone_Airport/sm01/#01/data/handover_info_log.csv\n",
      "12/216 /home/wmnlab/jackbedford/data/2023-10-26/UDP_Bandlock_9S_Phone_Airport/sm01/#01/data/udp_dnlk_loss_latency.csv\n",
      "12/216 /home/wmnlab/jackbedford/data/2023-10-26/UDP_Bandlock_9S_Phone_Airport/sm01/#01/data/udp_uplk_loss_latency.csv\n",
      "12/216 /home/wmnlab/jackbedford/data/2023-10-26/UDP_Bandlock_9S_Phone_Airport/sm06/#01/data/handover_info_log.csv\n",
      "12/216 /home/wmnlab/jackbedford/data/2023-10-26/UDP_Bandlock_9S_Phone_Airport/sm06/#01/data/udp_dnlk_loss_latency.csv\n",
      "12/216 /home/wmnlab/jackbedford/data/2023-10-26/UDP_Bandlock_9S_Phone_Airport/sm06/#01/data/udp_uplk_loss_latency.csv\n"
     ]
    },
    {
     "data": {
      "application/vnd.jupyter.widget-view+json": {
       "model_id": "0c0171b58c8d47688529b7d8b52cd901",
       "version_major": 2,
       "version_minor": 0
      },
      "text/plain": [
       "  0%|                                                                                                         …"
      ]
     },
     "metadata": {},
     "output_type": "display_data"
    },
    {
     "name": "stdout",
     "output_type": "stream",
     "text": [
      "./20240312_150032342e_newest/20240314_060073cc2b/results/20240314_07552300000_3eeecdf13ff695a6_adjust/\\home\\wmnlab\\jackbedford\\data\\2023-10-26\\UDP_Bandlock_9S_Phone_Airport\\sm01\\#01\\data\\udp_dnlk_loss_latency\\home\\wmnlab\\jackbedford\\data\\2023-10-26\\UDP_Bandlock_9S_Phone_Airport\\sm06\\#01\\data\\udp_dnlk_loss_latency.csv\n",
      "13/216 /home/wmnlab/jackbedford/data/2023-10-26/UDP_Bandlock_9S_Phone_Airport/sm01/#01/data/handover_info_log.csv\n",
      "13/216 /home/wmnlab/jackbedford/data/2023-10-26/UDP_Bandlock_9S_Phone_Airport/sm01/#01/data/udp_dnlk_loss_latency.csv\n",
      "13/216 /home/wmnlab/jackbedford/data/2023-10-26/UDP_Bandlock_9S_Phone_Airport/sm01/#01/data/udp_uplk_loss_latency.csv\n",
      "13/216 /home/wmnlab/jackbedford/data/2023-10-26/UDP_Bandlock_9S_Phone_Airport/sm07/#01/data/handover_info_log.csv\n",
      "13/216 /home/wmnlab/jackbedford/data/2023-10-26/UDP_Bandlock_9S_Phone_Airport/sm07/#01/data/udp_dnlk_loss_latency.csv\n",
      "13/216 /home/wmnlab/jackbedford/data/2023-10-26/UDP_Bandlock_9S_Phone_Airport/sm07/#01/data/udp_uplk_loss_latency.csv\n"
     ]
    },
    {
     "data": {
      "application/vnd.jupyter.widget-view+json": {
       "model_id": "8baf2db333fa4d33bac658377f1af987",
       "version_major": 2,
       "version_minor": 0
      },
      "text/plain": [
       "  0%|                                                                                                         …"
      ]
     },
     "metadata": {},
     "output_type": "display_data"
    },
    {
     "name": "stdout",
     "output_type": "stream",
     "text": [
      "./20240312_150032342e_newest/20240314_060073cc2b/results/20240314_07552300000_3eeecdf13ff695a6_adjust/\\home\\wmnlab\\jackbedford\\data\\2023-10-26\\UDP_Bandlock_9S_Phone_Airport\\sm01\\#01\\data\\udp_dnlk_loss_latency\\home\\wmnlab\\jackbedford\\data\\2023-10-26\\UDP_Bandlock_9S_Phone_Airport\\sm07\\#01\\data\\udp_dnlk_loss_latency.csv\n",
      "14/216 /home/wmnlab/jackbedford/data/2023-10-26/UDP_Bandlock_9S_Phone_Airport/sm01/#01/data/handover_info_log.csv\n",
      "14/216 /home/wmnlab/jackbedford/data/2023-10-26/UDP_Bandlock_9S_Phone_Airport/sm01/#01/data/udp_dnlk_loss_latency.csv\n",
      "14/216 /home/wmnlab/jackbedford/data/2023-10-26/UDP_Bandlock_9S_Phone_Airport/sm01/#01/data/udp_uplk_loss_latency.csv\n",
      "14/216 /home/wmnlab/jackbedford/data/2023-10-26/UDP_Bandlock_9S_Phone_Airport/sm08/#01/data/handover_info_log.csv\n",
      "14/216 /home/wmnlab/jackbedford/data/2023-10-26/UDP_Bandlock_9S_Phone_Airport/sm08/#01/data/udp_dnlk_loss_latency.csv\n",
      "14/216 /home/wmnlab/jackbedford/data/2023-10-26/UDP_Bandlock_9S_Phone_Airport/sm08/#01/data/udp_uplk_loss_latency.csv\n"
     ]
    },
    {
     "data": {
      "application/vnd.jupyter.widget-view+json": {
       "model_id": "8b72f13573ee4db5a9a72aee5227a8b1",
       "version_major": 2,
       "version_minor": 0
      },
      "text/plain": [
       "  0%|                                                                                                         …"
      ]
     },
     "metadata": {},
     "output_type": "display_data"
    },
    {
     "name": "stdout",
     "output_type": "stream",
     "text": [
      "./20240312_150032342e_newest/20240314_060073cc2b/results/20240314_07552300000_3eeecdf13ff695a6_adjust/\\home\\wmnlab\\jackbedford\\data\\2023-10-26\\UDP_Bandlock_9S_Phone_Airport\\sm01\\#01\\data\\udp_dnlk_loss_latency\\home\\wmnlab\\jackbedford\\data\\2023-10-26\\UDP_Bandlock_9S_Phone_Airport\\sm08\\#01\\data\\udp_dnlk_loss_latency.csv\n",
      "15/216 /home/wmnlab/jackbedford/data/2023-10-26/UDP_Bandlock_9S_Phone_Airport/sm02/#01/data/handover_info_log.csv\n",
      "15/216 /home/wmnlab/jackbedford/data/2023-10-26/UDP_Bandlock_9S_Phone_Airport/sm02/#01/data/udp_dnlk_loss_latency.csv\n",
      "15/216 /home/wmnlab/jackbedford/data/2023-10-26/UDP_Bandlock_9S_Phone_Airport/sm02/#01/data/udp_uplk_loss_latency.csv\n",
      "15/216 /home/wmnlab/jackbedford/data/2023-10-26/UDP_Bandlock_9S_Phone_Airport/sm03/#01/data/handover_info_log.csv\n",
      "15/216 /home/wmnlab/jackbedford/data/2023-10-26/UDP_Bandlock_9S_Phone_Airport/sm03/#01/data/udp_dnlk_loss_latency.csv\n",
      "15/216 /home/wmnlab/jackbedford/data/2023-10-26/UDP_Bandlock_9S_Phone_Airport/sm03/#01/data/udp_uplk_loss_latency.csv\n",
      "******** Empty RRC Data ********\n",
      "16/216 /home/wmnlab/jackbedford/data/2023-10-26/UDP_Bandlock_9S_Phone_Airport/sm02/#01/data/handover_info_log.csv\n",
      "16/216 /home/wmnlab/jackbedford/data/2023-10-26/UDP_Bandlock_9S_Phone_Airport/sm02/#01/data/udp_dnlk_loss_latency.csv\n",
      "16/216 /home/wmnlab/jackbedford/data/2023-10-26/UDP_Bandlock_9S_Phone_Airport/sm02/#01/data/udp_uplk_loss_latency.csv\n",
      "16/216 /home/wmnlab/jackbedford/data/2023-10-26/UDP_Bandlock_9S_Phone_Airport/sm04/#01/data/handover_info_log.csv\n",
      "16/216 /home/wmnlab/jackbedford/data/2023-10-26/UDP_Bandlock_9S_Phone_Airport/sm04/#01/data/udp_dnlk_loss_latency.csv\n",
      "16/216 /home/wmnlab/jackbedford/data/2023-10-26/UDP_Bandlock_9S_Phone_Airport/sm04/#01/data/udp_uplk_loss_latency.csv\n"
     ]
    },
    {
     "data": {
      "application/vnd.jupyter.widget-view+json": {
       "model_id": "ff8e217f945d4a1faaf61513d94cebb9",
       "version_major": 2,
       "version_minor": 0
      },
      "text/plain": [
       "  0%|                                                                                                         …"
      ]
     },
     "metadata": {},
     "output_type": "display_data"
    },
    {
     "name": "stdout",
     "output_type": "stream",
     "text": [
      "./20240312_150032342e_newest/20240314_060073cc2b/results/20240314_07552300000_3eeecdf13ff695a6_adjust/\\home\\wmnlab\\jackbedford\\data\\2023-10-26\\UDP_Bandlock_9S_Phone_Airport\\sm02\\#01\\data\\udp_dnlk_loss_latency\\home\\wmnlab\\jackbedford\\data\\2023-10-26\\UDP_Bandlock_9S_Phone_Airport\\sm04\\#01\\data\\udp_dnlk_loss_latency.csv\n",
      "17/216 /home/wmnlab/jackbedford/data/2023-10-26/UDP_Bandlock_9S_Phone_Airport/sm02/#01/data/handover_info_log.csv\n",
      "17/216 /home/wmnlab/jackbedford/data/2023-10-26/UDP_Bandlock_9S_Phone_Airport/sm02/#01/data/udp_dnlk_loss_latency.csv\n",
      "17/216 /home/wmnlab/jackbedford/data/2023-10-26/UDP_Bandlock_9S_Phone_Airport/sm02/#01/data/udp_uplk_loss_latency.csv\n",
      "17/216 /home/wmnlab/jackbedford/data/2023-10-26/UDP_Bandlock_9S_Phone_Airport/sm05/#01/data/handover_info_log.csv\n",
      "17/216 /home/wmnlab/jackbedford/data/2023-10-26/UDP_Bandlock_9S_Phone_Airport/sm05/#01/data/udp_dnlk_loss_latency.csv\n",
      "17/216 /home/wmnlab/jackbedford/data/2023-10-26/UDP_Bandlock_9S_Phone_Airport/sm05/#01/data/udp_uplk_loss_latency.csv\n"
     ]
    },
    {
     "data": {
      "application/vnd.jupyter.widget-view+json": {
       "model_id": "16791ff424cc4e19a346379090266b39",
       "version_major": 2,
       "version_minor": 0
      },
      "text/plain": [
       "  0%|                                                                                                         …"
      ]
     },
     "metadata": {},
     "output_type": "display_data"
    },
    {
     "name": "stdout",
     "output_type": "stream",
     "text": [
      "./20240312_150032342e_newest/20240314_060073cc2b/results/20240314_07552300000_3eeecdf13ff695a6_adjust/\\home\\wmnlab\\jackbedford\\data\\2023-10-26\\UDP_Bandlock_9S_Phone_Airport\\sm02\\#01\\data\\udp_dnlk_loss_latency\\home\\wmnlab\\jackbedford\\data\\2023-10-26\\UDP_Bandlock_9S_Phone_Airport\\sm05\\#01\\data\\udp_dnlk_loss_latency.csv\n",
      "18/216 /home/wmnlab/jackbedford/data/2023-10-26/UDP_Bandlock_9S_Phone_Airport/sm02/#01/data/handover_info_log.csv\n",
      "18/216 /home/wmnlab/jackbedford/data/2023-10-26/UDP_Bandlock_9S_Phone_Airport/sm02/#01/data/udp_dnlk_loss_latency.csv\n",
      "18/216 /home/wmnlab/jackbedford/data/2023-10-26/UDP_Bandlock_9S_Phone_Airport/sm02/#01/data/udp_uplk_loss_latency.csv\n",
      "18/216 /home/wmnlab/jackbedford/data/2023-10-26/UDP_Bandlock_9S_Phone_Airport/sm06/#01/data/handover_info_log.csv\n",
      "18/216 /home/wmnlab/jackbedford/data/2023-10-26/UDP_Bandlock_9S_Phone_Airport/sm06/#01/data/udp_dnlk_loss_latency.csv\n",
      "18/216 /home/wmnlab/jackbedford/data/2023-10-26/UDP_Bandlock_9S_Phone_Airport/sm06/#01/data/udp_uplk_loss_latency.csv\n"
     ]
    },
    {
     "data": {
      "application/vnd.jupyter.widget-view+json": {
       "model_id": "6795715b194c4befa5d9dafed7c513a9",
       "version_major": 2,
       "version_minor": 0
      },
      "text/plain": [
       "  0%|                                                                                                         …"
      ]
     },
     "metadata": {},
     "output_type": "display_data"
    },
    {
     "name": "stdout",
     "output_type": "stream",
     "text": [
      "./20240312_150032342e_newest/20240314_060073cc2b/results/20240314_07552300000_3eeecdf13ff695a6_adjust/\\home\\wmnlab\\jackbedford\\data\\2023-10-26\\UDP_Bandlock_9S_Phone_Airport\\sm02\\#01\\data\\udp_dnlk_loss_latency\\home\\wmnlab\\jackbedford\\data\\2023-10-26\\UDP_Bandlock_9S_Phone_Airport\\sm06\\#01\\data\\udp_dnlk_loss_latency.csv\n",
      "19/216 /home/wmnlab/jackbedford/data/2023-10-26/UDP_Bandlock_9S_Phone_Airport/sm02/#01/data/handover_info_log.csv\n",
      "19/216 /home/wmnlab/jackbedford/data/2023-10-26/UDP_Bandlock_9S_Phone_Airport/sm02/#01/data/udp_dnlk_loss_latency.csv\n",
      "19/216 /home/wmnlab/jackbedford/data/2023-10-26/UDP_Bandlock_9S_Phone_Airport/sm02/#01/data/udp_uplk_loss_latency.csv\n",
      "19/216 /home/wmnlab/jackbedford/data/2023-10-26/UDP_Bandlock_9S_Phone_Airport/sm07/#01/data/handover_info_log.csv\n",
      "19/216 /home/wmnlab/jackbedford/data/2023-10-26/UDP_Bandlock_9S_Phone_Airport/sm07/#01/data/udp_dnlk_loss_latency.csv\n",
      "19/216 /home/wmnlab/jackbedford/data/2023-10-26/UDP_Bandlock_9S_Phone_Airport/sm07/#01/data/udp_uplk_loss_latency.csv\n"
     ]
    },
    {
     "data": {
      "application/vnd.jupyter.widget-view+json": {
       "model_id": "afb05fe845f94d4f8acdf4aa8c52258b",
       "version_major": 2,
       "version_minor": 0
      },
      "text/plain": [
       "  0%|                                                                                                         …"
      ]
     },
     "metadata": {},
     "output_type": "display_data"
    },
    {
     "name": "stdout",
     "output_type": "stream",
     "text": [
      "./20240312_150032342e_newest/20240314_060073cc2b/results/20240314_07552300000_3eeecdf13ff695a6_adjust/\\home\\wmnlab\\jackbedford\\data\\2023-10-26\\UDP_Bandlock_9S_Phone_Airport\\sm02\\#01\\data\\udp_dnlk_loss_latency\\home\\wmnlab\\jackbedford\\data\\2023-10-26\\UDP_Bandlock_9S_Phone_Airport\\sm07\\#01\\data\\udp_dnlk_loss_latency.csv\n",
      "20/216 /home/wmnlab/jackbedford/data/2023-10-26/UDP_Bandlock_9S_Phone_Airport/sm02/#01/data/handover_info_log.csv\n",
      "20/216 /home/wmnlab/jackbedford/data/2023-10-26/UDP_Bandlock_9S_Phone_Airport/sm02/#01/data/udp_dnlk_loss_latency.csv\n",
      "20/216 /home/wmnlab/jackbedford/data/2023-10-26/UDP_Bandlock_9S_Phone_Airport/sm02/#01/data/udp_uplk_loss_latency.csv\n",
      "20/216 /home/wmnlab/jackbedford/data/2023-10-26/UDP_Bandlock_9S_Phone_Airport/sm08/#01/data/handover_info_log.csv\n",
      "20/216 /home/wmnlab/jackbedford/data/2023-10-26/UDP_Bandlock_9S_Phone_Airport/sm08/#01/data/udp_dnlk_loss_latency.csv\n",
      "20/216 /home/wmnlab/jackbedford/data/2023-10-26/UDP_Bandlock_9S_Phone_Airport/sm08/#01/data/udp_uplk_loss_latency.csv\n"
     ]
    },
    {
     "data": {
      "application/vnd.jupyter.widget-view+json": {
       "model_id": "a8ff8830c0764ffdbdddd43b95092489",
       "version_major": 2,
       "version_minor": 0
      },
      "text/plain": [
       "  0%|                                                                                                         …"
      ]
     },
     "metadata": {},
     "output_type": "display_data"
    },
    {
     "name": "stdout",
     "output_type": "stream",
     "text": [
      "./20240312_150032342e_newest/20240314_060073cc2b/results/20240314_07552300000_3eeecdf13ff695a6_adjust/\\home\\wmnlab\\jackbedford\\data\\2023-10-26\\UDP_Bandlock_9S_Phone_Airport\\sm02\\#01\\data\\udp_dnlk_loss_latency\\home\\wmnlab\\jackbedford\\data\\2023-10-26\\UDP_Bandlock_9S_Phone_Airport\\sm08\\#01\\data\\udp_dnlk_loss_latency.csv\n",
      "21/216 /home/wmnlab/jackbedford/data/2023-10-26/UDP_Bandlock_9S_Phone_Airport/sm03/#01/data/handover_info_log.csv\n",
      "21/216 /home/wmnlab/jackbedford/data/2023-10-26/UDP_Bandlock_9S_Phone_Airport/sm03/#01/data/udp_dnlk_loss_latency.csv\n",
      "21/216 /home/wmnlab/jackbedford/data/2023-10-26/UDP_Bandlock_9S_Phone_Airport/sm03/#01/data/udp_uplk_loss_latency.csv\n",
      "21/216 /home/wmnlab/jackbedford/data/2023-10-26/UDP_Bandlock_9S_Phone_Airport/sm04/#01/data/handover_info_log.csv\n",
      "21/216 /home/wmnlab/jackbedford/data/2023-10-26/UDP_Bandlock_9S_Phone_Airport/sm04/#01/data/udp_dnlk_loss_latency.csv\n",
      "21/216 /home/wmnlab/jackbedford/data/2023-10-26/UDP_Bandlock_9S_Phone_Airport/sm04/#01/data/udp_uplk_loss_latency.csv\n",
      "******** Empty RRC Data ********\n",
      "22/216 /home/wmnlab/jackbedford/data/2023-10-26/UDP_Bandlock_9S_Phone_Airport/sm03/#01/data/handover_info_log.csv\n",
      "22/216 /home/wmnlab/jackbedford/data/2023-10-26/UDP_Bandlock_9S_Phone_Airport/sm03/#01/data/udp_dnlk_loss_latency.csv\n",
      "22/216 /home/wmnlab/jackbedford/data/2023-10-26/UDP_Bandlock_9S_Phone_Airport/sm03/#01/data/udp_uplk_loss_latency.csv\n",
      "22/216 /home/wmnlab/jackbedford/data/2023-10-26/UDP_Bandlock_9S_Phone_Airport/sm05/#01/data/handover_info_log.csv\n",
      "22/216 /home/wmnlab/jackbedford/data/2023-10-26/UDP_Bandlock_9S_Phone_Airport/sm05/#01/data/udp_dnlk_loss_latency.csv\n",
      "22/216 /home/wmnlab/jackbedford/data/2023-10-26/UDP_Bandlock_9S_Phone_Airport/sm05/#01/data/udp_uplk_loss_latency.csv\n",
      "******** Empty RRC Data ********\n",
      "23/216 /home/wmnlab/jackbedford/data/2023-10-26/UDP_Bandlock_9S_Phone_Airport/sm03/#01/data/handover_info_log.csv\n",
      "23/216 /home/wmnlab/jackbedford/data/2023-10-26/UDP_Bandlock_9S_Phone_Airport/sm03/#01/data/udp_dnlk_loss_latency.csv\n",
      "23/216 /home/wmnlab/jackbedford/data/2023-10-26/UDP_Bandlock_9S_Phone_Airport/sm03/#01/data/udp_uplk_loss_latency.csv\n",
      "23/216 /home/wmnlab/jackbedford/data/2023-10-26/UDP_Bandlock_9S_Phone_Airport/sm06/#01/data/handover_info_log.csv\n",
      "23/216 /home/wmnlab/jackbedford/data/2023-10-26/UDP_Bandlock_9S_Phone_Airport/sm06/#01/data/udp_dnlk_loss_latency.csv\n",
      "23/216 /home/wmnlab/jackbedford/data/2023-10-26/UDP_Bandlock_9S_Phone_Airport/sm06/#01/data/udp_uplk_loss_latency.csv\n",
      "******** Empty RRC Data ********\n",
      "24/216 /home/wmnlab/jackbedford/data/2023-10-26/UDP_Bandlock_9S_Phone_Airport/sm03/#01/data/handover_info_log.csv\n",
      "24/216 /home/wmnlab/jackbedford/data/2023-10-26/UDP_Bandlock_9S_Phone_Airport/sm03/#01/data/udp_dnlk_loss_latency.csv\n",
      "24/216 /home/wmnlab/jackbedford/data/2023-10-26/UDP_Bandlock_9S_Phone_Airport/sm03/#01/data/udp_uplk_loss_latency.csv\n",
      "24/216 /home/wmnlab/jackbedford/data/2023-10-26/UDP_Bandlock_9S_Phone_Airport/sm07/#01/data/handover_info_log.csv\n",
      "24/216 /home/wmnlab/jackbedford/data/2023-10-26/UDP_Bandlock_9S_Phone_Airport/sm07/#01/data/udp_dnlk_loss_latency.csv\n",
      "24/216 /home/wmnlab/jackbedford/data/2023-10-26/UDP_Bandlock_9S_Phone_Airport/sm07/#01/data/udp_uplk_loss_latency.csv\n",
      "******** Empty RRC Data ********\n",
      "25/216 /home/wmnlab/jackbedford/data/2023-10-26/UDP_Bandlock_9S_Phone_Airport/sm03/#01/data/handover_info_log.csv\n",
      "25/216 /home/wmnlab/jackbedford/data/2023-10-26/UDP_Bandlock_9S_Phone_Airport/sm03/#01/data/udp_dnlk_loss_latency.csv\n",
      "25/216 /home/wmnlab/jackbedford/data/2023-10-26/UDP_Bandlock_9S_Phone_Airport/sm03/#01/data/udp_uplk_loss_latency.csv\n",
      "25/216 /home/wmnlab/jackbedford/data/2023-10-26/UDP_Bandlock_9S_Phone_Airport/sm08/#01/data/handover_info_log.csv\n",
      "25/216 /home/wmnlab/jackbedford/data/2023-10-26/UDP_Bandlock_9S_Phone_Airport/sm08/#01/data/udp_dnlk_loss_latency.csv\n",
      "25/216 /home/wmnlab/jackbedford/data/2023-10-26/UDP_Bandlock_9S_Phone_Airport/sm08/#01/data/udp_uplk_loss_latency.csv\n",
      "******** Empty RRC Data ********\n",
      "26/216 /home/wmnlab/jackbedford/data/2023-10-26/UDP_Bandlock_9S_Phone_Airport/sm04/#01/data/handover_info_log.csv\n",
      "26/216 /home/wmnlab/jackbedford/data/2023-10-26/UDP_Bandlock_9S_Phone_Airport/sm04/#01/data/udp_dnlk_loss_latency.csv\n",
      "26/216 /home/wmnlab/jackbedford/data/2023-10-26/UDP_Bandlock_9S_Phone_Airport/sm04/#01/data/udp_uplk_loss_latency.csv\n",
      "26/216 /home/wmnlab/jackbedford/data/2023-10-26/UDP_Bandlock_9S_Phone_Airport/sm05/#01/data/handover_info_log.csv\n",
      "26/216 /home/wmnlab/jackbedford/data/2023-10-26/UDP_Bandlock_9S_Phone_Airport/sm05/#01/data/udp_dnlk_loss_latency.csv\n",
      "26/216 /home/wmnlab/jackbedford/data/2023-10-26/UDP_Bandlock_9S_Phone_Airport/sm05/#01/data/udp_uplk_loss_latency.csv\n"
     ]
    },
    {
     "data": {
      "application/vnd.jupyter.widget-view+json": {
       "model_id": "ea86d63d15d74d55b9c8abb898d851dd",
       "version_major": 2,
       "version_minor": 0
      },
      "text/plain": [
       "  0%|                                                                                                         …"
      ]
     },
     "metadata": {},
     "output_type": "display_data"
    },
    {
     "name": "stdout",
     "output_type": "stream",
     "text": [
      "./20240312_150032342e_newest/20240314_060073cc2b/results/20240314_07552300000_3eeecdf13ff695a6_adjust/\\home\\wmnlab\\jackbedford\\data\\2023-10-26\\UDP_Bandlock_9S_Phone_Airport\\sm04\\#01\\data\\udp_dnlk_loss_latency\\home\\wmnlab\\jackbedford\\data\\2023-10-26\\UDP_Bandlock_9S_Phone_Airport\\sm05\\#01\\data\\udp_dnlk_loss_latency.csv\n",
      "27/216 /home/wmnlab/jackbedford/data/2023-10-26/UDP_Bandlock_9S_Phone_Airport/sm04/#01/data/handover_info_log.csv\n",
      "27/216 /home/wmnlab/jackbedford/data/2023-10-26/UDP_Bandlock_9S_Phone_Airport/sm04/#01/data/udp_dnlk_loss_latency.csv\n",
      "27/216 /home/wmnlab/jackbedford/data/2023-10-26/UDP_Bandlock_9S_Phone_Airport/sm04/#01/data/udp_uplk_loss_latency.csv\n",
      "27/216 /home/wmnlab/jackbedford/data/2023-10-26/UDP_Bandlock_9S_Phone_Airport/sm06/#01/data/handover_info_log.csv\n",
      "27/216 /home/wmnlab/jackbedford/data/2023-10-26/UDP_Bandlock_9S_Phone_Airport/sm06/#01/data/udp_dnlk_loss_latency.csv\n",
      "27/216 /home/wmnlab/jackbedford/data/2023-10-26/UDP_Bandlock_9S_Phone_Airport/sm06/#01/data/udp_uplk_loss_latency.csv\n"
     ]
    },
    {
     "data": {
      "application/vnd.jupyter.widget-view+json": {
       "model_id": "0a9a8512ad7340698a8992936bbe2d12",
       "version_major": 2,
       "version_minor": 0
      },
      "text/plain": [
       "  0%|                                                                                                         …"
      ]
     },
     "metadata": {},
     "output_type": "display_data"
    },
    {
     "name": "stdout",
     "output_type": "stream",
     "text": [
      "./20240312_150032342e_newest/20240314_060073cc2b/results/20240314_07552300000_3eeecdf13ff695a6_adjust/\\home\\wmnlab\\jackbedford\\data\\2023-10-26\\UDP_Bandlock_9S_Phone_Airport\\sm04\\#01\\data\\udp_dnlk_loss_latency\\home\\wmnlab\\jackbedford\\data\\2023-10-26\\UDP_Bandlock_9S_Phone_Airport\\sm06\\#01\\data\\udp_dnlk_loss_latency.csv\n",
      "28/216 /home/wmnlab/jackbedford/data/2023-10-26/UDP_Bandlock_9S_Phone_Airport/sm04/#01/data/handover_info_log.csv\n",
      "28/216 /home/wmnlab/jackbedford/data/2023-10-26/UDP_Bandlock_9S_Phone_Airport/sm04/#01/data/udp_dnlk_loss_latency.csv\n",
      "28/216 /home/wmnlab/jackbedford/data/2023-10-26/UDP_Bandlock_9S_Phone_Airport/sm04/#01/data/udp_uplk_loss_latency.csv\n",
      "28/216 /home/wmnlab/jackbedford/data/2023-10-26/UDP_Bandlock_9S_Phone_Airport/sm07/#01/data/handover_info_log.csv\n",
      "28/216 /home/wmnlab/jackbedford/data/2023-10-26/UDP_Bandlock_9S_Phone_Airport/sm07/#01/data/udp_dnlk_loss_latency.csv\n",
      "28/216 /home/wmnlab/jackbedford/data/2023-10-26/UDP_Bandlock_9S_Phone_Airport/sm07/#01/data/udp_uplk_loss_latency.csv\n"
     ]
    },
    {
     "data": {
      "application/vnd.jupyter.widget-view+json": {
       "model_id": "a5f223fc5d3c45abaebe8ec24133dfd3",
       "version_major": 2,
       "version_minor": 0
      },
      "text/plain": [
       "  0%|                                                                                                         …"
      ]
     },
     "metadata": {},
     "output_type": "display_data"
    },
    {
     "name": "stdout",
     "output_type": "stream",
     "text": [
      "./20240312_150032342e_newest/20240314_060073cc2b/results/20240314_07552300000_3eeecdf13ff695a6_adjust/\\home\\wmnlab\\jackbedford\\data\\2023-10-26\\UDP_Bandlock_9S_Phone_Airport\\sm04\\#01\\data\\udp_dnlk_loss_latency\\home\\wmnlab\\jackbedford\\data\\2023-10-26\\UDP_Bandlock_9S_Phone_Airport\\sm07\\#01\\data\\udp_dnlk_loss_latency.csv\n",
      "29/216 /home/wmnlab/jackbedford/data/2023-10-26/UDP_Bandlock_9S_Phone_Airport/sm04/#01/data/handover_info_log.csv\n",
      "29/216 /home/wmnlab/jackbedford/data/2023-10-26/UDP_Bandlock_9S_Phone_Airport/sm04/#01/data/udp_dnlk_loss_latency.csv\n",
      "29/216 /home/wmnlab/jackbedford/data/2023-10-26/UDP_Bandlock_9S_Phone_Airport/sm04/#01/data/udp_uplk_loss_latency.csv\n",
      "29/216 /home/wmnlab/jackbedford/data/2023-10-26/UDP_Bandlock_9S_Phone_Airport/sm08/#01/data/handover_info_log.csv\n",
      "29/216 /home/wmnlab/jackbedford/data/2023-10-26/UDP_Bandlock_9S_Phone_Airport/sm08/#01/data/udp_dnlk_loss_latency.csv\n",
      "29/216 /home/wmnlab/jackbedford/data/2023-10-26/UDP_Bandlock_9S_Phone_Airport/sm08/#01/data/udp_uplk_loss_latency.csv\n"
     ]
    },
    {
     "data": {
      "application/vnd.jupyter.widget-view+json": {
       "model_id": "5222708d31af4112b661698fede68ead",
       "version_major": 2,
       "version_minor": 0
      },
      "text/plain": [
       "  0%|                                                                                                         …"
      ]
     },
     "metadata": {},
     "output_type": "display_data"
    },
    {
     "name": "stdout",
     "output_type": "stream",
     "text": [
      "./20240312_150032342e_newest/20240314_060073cc2b/results/20240314_07552300000_3eeecdf13ff695a6_adjust/\\home\\wmnlab\\jackbedford\\data\\2023-10-26\\UDP_Bandlock_9S_Phone_Airport\\sm04\\#01\\data\\udp_dnlk_loss_latency\\home\\wmnlab\\jackbedford\\data\\2023-10-26\\UDP_Bandlock_9S_Phone_Airport\\sm08\\#01\\data\\udp_dnlk_loss_latency.csv\n",
      "30/216 /home/wmnlab/jackbedford/data/2023-10-26/UDP_Bandlock_9S_Phone_Airport/sm05/#01/data/handover_info_log.csv\n",
      "30/216 /home/wmnlab/jackbedford/data/2023-10-26/UDP_Bandlock_9S_Phone_Airport/sm05/#01/data/udp_dnlk_loss_latency.csv\n",
      "30/216 /home/wmnlab/jackbedford/data/2023-10-26/UDP_Bandlock_9S_Phone_Airport/sm05/#01/data/udp_uplk_loss_latency.csv\n",
      "30/216 /home/wmnlab/jackbedford/data/2023-10-26/UDP_Bandlock_9S_Phone_Airport/sm06/#01/data/handover_info_log.csv\n",
      "30/216 /home/wmnlab/jackbedford/data/2023-10-26/UDP_Bandlock_9S_Phone_Airport/sm06/#01/data/udp_dnlk_loss_latency.csv\n",
      "30/216 /home/wmnlab/jackbedford/data/2023-10-26/UDP_Bandlock_9S_Phone_Airport/sm06/#01/data/udp_uplk_loss_latency.csv\n"
     ]
    },
    {
     "data": {
      "application/vnd.jupyter.widget-view+json": {
       "model_id": "2fe1eda0569440118d0b135329e13fe5",
       "version_major": 2,
       "version_minor": 0
      },
      "text/plain": [
       "  0%|                                                                                                         …"
      ]
     },
     "metadata": {},
     "output_type": "display_data"
    },
    {
     "name": "stdout",
     "output_type": "stream",
     "text": [
      "./20240312_150032342e_newest/20240314_060073cc2b/results/20240314_07552300000_3eeecdf13ff695a6_adjust/\\home\\wmnlab\\jackbedford\\data\\2023-10-26\\UDP_Bandlock_9S_Phone_Airport\\sm05\\#01\\data\\udp_dnlk_loss_latency\\home\\wmnlab\\jackbedford\\data\\2023-10-26\\UDP_Bandlock_9S_Phone_Airport\\sm06\\#01\\data\\udp_dnlk_loss_latency.csv\n",
      "31/216 /home/wmnlab/jackbedford/data/2023-10-26/UDP_Bandlock_9S_Phone_Airport/sm05/#01/data/handover_info_log.csv\n",
      "31/216 /home/wmnlab/jackbedford/data/2023-10-26/UDP_Bandlock_9S_Phone_Airport/sm05/#01/data/udp_dnlk_loss_latency.csv\n",
      "31/216 /home/wmnlab/jackbedford/data/2023-10-26/UDP_Bandlock_9S_Phone_Airport/sm05/#01/data/udp_uplk_loss_latency.csv\n",
      "31/216 /home/wmnlab/jackbedford/data/2023-10-26/UDP_Bandlock_9S_Phone_Airport/sm07/#01/data/handover_info_log.csv\n",
      "31/216 /home/wmnlab/jackbedford/data/2023-10-26/UDP_Bandlock_9S_Phone_Airport/sm07/#01/data/udp_dnlk_loss_latency.csv\n",
      "31/216 /home/wmnlab/jackbedford/data/2023-10-26/UDP_Bandlock_9S_Phone_Airport/sm07/#01/data/udp_uplk_loss_latency.csv\n"
     ]
    },
    {
     "data": {
      "application/vnd.jupyter.widget-view+json": {
       "model_id": "5daf27c2bcca44fd862fc87740258f01",
       "version_major": 2,
       "version_minor": 0
      },
      "text/plain": [
       "  0%|                                                                                                         …"
      ]
     },
     "metadata": {},
     "output_type": "display_data"
    },
    {
     "name": "stdout",
     "output_type": "stream",
     "text": [
      "./20240312_150032342e_newest/20240314_060073cc2b/results/20240314_07552300000_3eeecdf13ff695a6_adjust/\\home\\wmnlab\\jackbedford\\data\\2023-10-26\\UDP_Bandlock_9S_Phone_Airport\\sm05\\#01\\data\\udp_dnlk_loss_latency\\home\\wmnlab\\jackbedford\\data\\2023-10-26\\UDP_Bandlock_9S_Phone_Airport\\sm07\\#01\\data\\udp_dnlk_loss_latency.csv\n",
      "32/216 /home/wmnlab/jackbedford/data/2023-10-26/UDP_Bandlock_9S_Phone_Airport/sm05/#01/data/handover_info_log.csv\n",
      "32/216 /home/wmnlab/jackbedford/data/2023-10-26/UDP_Bandlock_9S_Phone_Airport/sm05/#01/data/udp_dnlk_loss_latency.csv\n",
      "32/216 /home/wmnlab/jackbedford/data/2023-10-26/UDP_Bandlock_9S_Phone_Airport/sm05/#01/data/udp_uplk_loss_latency.csv\n",
      "32/216 /home/wmnlab/jackbedford/data/2023-10-26/UDP_Bandlock_9S_Phone_Airport/sm08/#01/data/handover_info_log.csv\n",
      "32/216 /home/wmnlab/jackbedford/data/2023-10-26/UDP_Bandlock_9S_Phone_Airport/sm08/#01/data/udp_dnlk_loss_latency.csv\n",
      "32/216 /home/wmnlab/jackbedford/data/2023-10-26/UDP_Bandlock_9S_Phone_Airport/sm08/#01/data/udp_uplk_loss_latency.csv\n"
     ]
    },
    {
     "data": {
      "application/vnd.jupyter.widget-view+json": {
       "model_id": "618162d206474dadb7c1beb1d64ce529",
       "version_major": 2,
       "version_minor": 0
      },
      "text/plain": [
       "  0%|                                                                                                         …"
      ]
     },
     "metadata": {},
     "output_type": "display_data"
    },
    {
     "name": "stdout",
     "output_type": "stream",
     "text": [
      "./20240312_150032342e_newest/20240314_060073cc2b/results/20240314_07552300000_3eeecdf13ff695a6_adjust/\\home\\wmnlab\\jackbedford\\data\\2023-10-26\\UDP_Bandlock_9S_Phone_Airport\\sm05\\#01\\data\\udp_dnlk_loss_latency\\home\\wmnlab\\jackbedford\\data\\2023-10-26\\UDP_Bandlock_9S_Phone_Airport\\sm08\\#01\\data\\udp_dnlk_loss_latency.csv\n",
      "33/216 /home/wmnlab/jackbedford/data/2023-10-26/UDP_Bandlock_9S_Phone_Airport/sm06/#01/data/handover_info_log.csv\n",
      "33/216 /home/wmnlab/jackbedford/data/2023-10-26/UDP_Bandlock_9S_Phone_Airport/sm06/#01/data/udp_dnlk_loss_latency.csv\n",
      "33/216 /home/wmnlab/jackbedford/data/2023-10-26/UDP_Bandlock_9S_Phone_Airport/sm06/#01/data/udp_uplk_loss_latency.csv\n",
      "33/216 /home/wmnlab/jackbedford/data/2023-10-26/UDP_Bandlock_9S_Phone_Airport/sm07/#01/data/handover_info_log.csv\n",
      "33/216 /home/wmnlab/jackbedford/data/2023-10-26/UDP_Bandlock_9S_Phone_Airport/sm07/#01/data/udp_dnlk_loss_latency.csv\n",
      "33/216 /home/wmnlab/jackbedford/data/2023-10-26/UDP_Bandlock_9S_Phone_Airport/sm07/#01/data/udp_uplk_loss_latency.csv\n"
     ]
    },
    {
     "data": {
      "application/vnd.jupyter.widget-view+json": {
       "model_id": "404bf1e5c17b42fe9b2201b4a08d9d26",
       "version_major": 2,
       "version_minor": 0
      },
      "text/plain": [
       "  0%|                                                                                                         …"
      ]
     },
     "metadata": {},
     "output_type": "display_data"
    },
    {
     "name": "stdout",
     "output_type": "stream",
     "text": [
      "./20240312_150032342e_newest/20240314_060073cc2b/results/20240314_07552300000_3eeecdf13ff695a6_adjust/\\home\\wmnlab\\jackbedford\\data\\2023-10-26\\UDP_Bandlock_9S_Phone_Airport\\sm06\\#01\\data\\udp_dnlk_loss_latency\\home\\wmnlab\\jackbedford\\data\\2023-10-26\\UDP_Bandlock_9S_Phone_Airport\\sm07\\#01\\data\\udp_dnlk_loss_latency.csv\n",
      "34/216 /home/wmnlab/jackbedford/data/2023-10-26/UDP_Bandlock_9S_Phone_Airport/sm06/#01/data/handover_info_log.csv\n",
      "34/216 /home/wmnlab/jackbedford/data/2023-10-26/UDP_Bandlock_9S_Phone_Airport/sm06/#01/data/udp_dnlk_loss_latency.csv\n",
      "34/216 /home/wmnlab/jackbedford/data/2023-10-26/UDP_Bandlock_9S_Phone_Airport/sm06/#01/data/udp_uplk_loss_latency.csv\n",
      "34/216 /home/wmnlab/jackbedford/data/2023-10-26/UDP_Bandlock_9S_Phone_Airport/sm08/#01/data/handover_info_log.csv\n",
      "34/216 /home/wmnlab/jackbedford/data/2023-10-26/UDP_Bandlock_9S_Phone_Airport/sm08/#01/data/udp_dnlk_loss_latency.csv\n",
      "34/216 /home/wmnlab/jackbedford/data/2023-10-26/UDP_Bandlock_9S_Phone_Airport/sm08/#01/data/udp_uplk_loss_latency.csv\n"
     ]
    },
    {
     "data": {
      "application/vnd.jupyter.widget-view+json": {
       "model_id": "94c857c7413f473f9316e1afdd776296",
       "version_major": 2,
       "version_minor": 0
      },
      "text/plain": [
       "  0%|                                                                                                         …"
      ]
     },
     "metadata": {},
     "output_type": "display_data"
    },
    {
     "name": "stdout",
     "output_type": "stream",
     "text": [
      "./20240312_150032342e_newest/20240314_060073cc2b/results/20240314_07552300000_3eeecdf13ff695a6_adjust/\\home\\wmnlab\\jackbedford\\data\\2023-10-26\\UDP_Bandlock_9S_Phone_Airport\\sm06\\#01\\data\\udp_dnlk_loss_latency\\home\\wmnlab\\jackbedford\\data\\2023-10-26\\UDP_Bandlock_9S_Phone_Airport\\sm08\\#01\\data\\udp_dnlk_loss_latency.csv\n",
      "35/216 /home/wmnlab/jackbedford/data/2023-10-26/UDP_Bandlock_9S_Phone_Airport/sm07/#01/data/handover_info_log.csv\n",
      "35/216 /home/wmnlab/jackbedford/data/2023-10-26/UDP_Bandlock_9S_Phone_Airport/sm07/#01/data/udp_dnlk_loss_latency.csv\n",
      "35/216 /home/wmnlab/jackbedford/data/2023-10-26/UDP_Bandlock_9S_Phone_Airport/sm07/#01/data/udp_uplk_loss_latency.csv\n",
      "35/216 /home/wmnlab/jackbedford/data/2023-10-26/UDP_Bandlock_9S_Phone_Airport/sm08/#01/data/handover_info_log.csv\n",
      "35/216 /home/wmnlab/jackbedford/data/2023-10-26/UDP_Bandlock_9S_Phone_Airport/sm08/#01/data/udp_dnlk_loss_latency.csv\n",
      "35/216 /home/wmnlab/jackbedford/data/2023-10-26/UDP_Bandlock_9S_Phone_Airport/sm08/#01/data/udp_uplk_loss_latency.csv\n"
     ]
    },
    {
     "data": {
      "application/vnd.jupyter.widget-view+json": {
       "model_id": "6fe1a5ef920a476b846e69f5c31c4a59",
       "version_major": 2,
       "version_minor": 0
      },
      "text/plain": [
       "  0%|                                                                                                         …"
      ]
     },
     "metadata": {},
     "output_type": "display_data"
    },
    {
     "name": "stdout",
     "output_type": "stream",
     "text": [
      "./20240312_150032342e_newest/20240314_060073cc2b/results/20240314_07552300000_3eeecdf13ff695a6_adjust/\\home\\wmnlab\\jackbedford\\data\\2023-10-26\\UDP_Bandlock_9S_Phone_Airport\\sm07\\#01\\data\\udp_dnlk_loss_latency\\home\\wmnlab\\jackbedford\\data\\2023-10-26\\UDP_Bandlock_9S_Phone_Airport\\sm08\\#01\\data\\udp_dnlk_loss_latency.csv\n",
      "36/216 /home/wmnlab/jackbedford/data/2023-10-26/UDP_Bandlock_9S_Phone_Airport/sm00/#02/data/handover_info_log.csv\n",
      "36/216 /home/wmnlab/jackbedford/data/2023-10-26/UDP_Bandlock_9S_Phone_Airport/sm00/#02/data/udp_dnlk_loss_latency.csv\n",
      "36/216 /home/wmnlab/jackbedford/data/2023-10-26/UDP_Bandlock_9S_Phone_Airport/sm00/#02/data/udp_uplk_loss_latency.csv\n",
      "36/216 /home/wmnlab/jackbedford/data/2023-10-26/UDP_Bandlock_9S_Phone_Airport/sm01/#02/data/handover_info_log.csv\n",
      "36/216 /home/wmnlab/jackbedford/data/2023-10-26/UDP_Bandlock_9S_Phone_Airport/sm01/#02/data/udp_dnlk_loss_latency.csv\n",
      "36/216 /home/wmnlab/jackbedford/data/2023-10-26/UDP_Bandlock_9S_Phone_Airport/sm01/#02/data/udp_uplk_loss_latency.csv\n"
     ]
    },
    {
     "data": {
      "application/vnd.jupyter.widget-view+json": {
       "model_id": "81396f5450c242fb902d0175e119571a",
       "version_major": 2,
       "version_minor": 0
      },
      "text/plain": [
       "  0%|                                                                                                         …"
      ]
     },
     "metadata": {},
     "output_type": "display_data"
    },
    {
     "name": "stdout",
     "output_type": "stream",
     "text": [
      "./20240312_150032342e_newest/20240314_060073cc2b/results/20240314_07552300000_3eeecdf13ff695a6_adjust/\\home\\wmnlab\\jackbedford\\data\\2023-10-26\\UDP_Bandlock_9S_Phone_Airport\\sm00\\#02\\data\\udp_dnlk_loss_latency\\home\\wmnlab\\jackbedford\\data\\2023-10-26\\UDP_Bandlock_9S_Phone_Airport\\sm01\\#02\\data\\udp_dnlk_loss_latency.csv\n",
      "37/216 /home/wmnlab/jackbedford/data/2023-10-26/UDP_Bandlock_9S_Phone_Airport/sm00/#02/data/handover_info_log.csv\n",
      "37/216 /home/wmnlab/jackbedford/data/2023-10-26/UDP_Bandlock_9S_Phone_Airport/sm00/#02/data/udp_dnlk_loss_latency.csv\n",
      "37/216 /home/wmnlab/jackbedford/data/2023-10-26/UDP_Bandlock_9S_Phone_Airport/sm00/#02/data/udp_uplk_loss_latency.csv\n",
      "37/216 /home/wmnlab/jackbedford/data/2023-10-26/UDP_Bandlock_9S_Phone_Airport/sm02/#02/data/handover_info_log.csv\n",
      "37/216 /home/wmnlab/jackbedford/data/2023-10-26/UDP_Bandlock_9S_Phone_Airport/sm02/#02/data/udp_dnlk_loss_latency.csv\n",
      "37/216 /home/wmnlab/jackbedford/data/2023-10-26/UDP_Bandlock_9S_Phone_Airport/sm02/#02/data/udp_uplk_loss_latency.csv\n"
     ]
    },
    {
     "data": {
      "application/vnd.jupyter.widget-view+json": {
       "model_id": "ead1c2f96c954621afe3fab8659339cb",
       "version_major": 2,
       "version_minor": 0
      },
      "text/plain": [
       "  0%|                                                                                                         …"
      ]
     },
     "metadata": {},
     "output_type": "display_data"
    },
    {
     "name": "stdout",
     "output_type": "stream",
     "text": [
      "./20240312_150032342e_newest/20240314_060073cc2b/results/20240314_07552300000_3eeecdf13ff695a6_adjust/\\home\\wmnlab\\jackbedford\\data\\2023-10-26\\UDP_Bandlock_9S_Phone_Airport\\sm00\\#02\\data\\udp_dnlk_loss_latency\\home\\wmnlab\\jackbedford\\data\\2023-10-26\\UDP_Bandlock_9S_Phone_Airport\\sm02\\#02\\data\\udp_dnlk_loss_latency.csv\n",
      "38/216 /home/wmnlab/jackbedford/data/2023-10-26/UDP_Bandlock_9S_Phone_Airport/sm00/#02/data/handover_info_log.csv\n",
      "38/216 /home/wmnlab/jackbedford/data/2023-10-26/UDP_Bandlock_9S_Phone_Airport/sm00/#02/data/udp_dnlk_loss_latency.csv\n",
      "38/216 /home/wmnlab/jackbedford/data/2023-10-26/UDP_Bandlock_9S_Phone_Airport/sm00/#02/data/udp_uplk_loss_latency.csv\n",
      "38/216 /home/wmnlab/jackbedford/data/2023-10-26/UDP_Bandlock_9S_Phone_Airport/sm03/#02/data/handover_info_log.csv\n",
      "38/216 /home/wmnlab/jackbedford/data/2023-10-26/UDP_Bandlock_9S_Phone_Airport/sm03/#02/data/udp_dnlk_loss_latency.csv\n",
      "38/216 /home/wmnlab/jackbedford/data/2023-10-26/UDP_Bandlock_9S_Phone_Airport/sm03/#02/data/udp_uplk_loss_latency.csv\n"
     ]
    },
    {
     "data": {
      "application/vnd.jupyter.widget-view+json": {
       "model_id": "aed17b9287d843efb0dc56f017fc4d38",
       "version_major": 2,
       "version_minor": 0
      },
      "text/plain": [
       "  0%|                                                                                                         …"
      ]
     },
     "metadata": {},
     "output_type": "display_data"
    },
    {
     "name": "stdout",
     "output_type": "stream",
     "text": [
      "./20240312_150032342e_newest/20240314_060073cc2b/results/20240314_07552300000_3eeecdf13ff695a6_adjust/\\home\\wmnlab\\jackbedford\\data\\2023-10-26\\UDP_Bandlock_9S_Phone_Airport\\sm00\\#02\\data\\udp_dnlk_loss_latency\\home\\wmnlab\\jackbedford\\data\\2023-10-26\\UDP_Bandlock_9S_Phone_Airport\\sm03\\#02\\data\\udp_dnlk_loss_latency.csv\n",
      "39/216 /home/wmnlab/jackbedford/data/2023-10-26/UDP_Bandlock_9S_Phone_Airport/sm00/#02/data/handover_info_log.csv\n",
      "39/216 /home/wmnlab/jackbedford/data/2023-10-26/UDP_Bandlock_9S_Phone_Airport/sm00/#02/data/udp_dnlk_loss_latency.csv\n",
      "39/216 /home/wmnlab/jackbedford/data/2023-10-26/UDP_Bandlock_9S_Phone_Airport/sm00/#02/data/udp_uplk_loss_latency.csv\n",
      "39/216 /home/wmnlab/jackbedford/data/2023-10-26/UDP_Bandlock_9S_Phone_Airport/sm04/#02/data/handover_info_log.csv\n",
      "39/216 /home/wmnlab/jackbedford/data/2023-10-26/UDP_Bandlock_9S_Phone_Airport/sm04/#02/data/udp_dnlk_loss_latency.csv\n",
      "39/216 /home/wmnlab/jackbedford/data/2023-10-26/UDP_Bandlock_9S_Phone_Airport/sm04/#02/data/udp_uplk_loss_latency.csv\n"
     ]
    },
    {
     "data": {
      "application/vnd.jupyter.widget-view+json": {
       "model_id": "248a79b4f7234d238736cb88f7010efb",
       "version_major": 2,
       "version_minor": 0
      },
      "text/plain": [
       "  0%|                                                                                                         …"
      ]
     },
     "metadata": {},
     "output_type": "display_data"
    },
    {
     "name": "stdout",
     "output_type": "stream",
     "text": [
      "./20240312_150032342e_newest/20240314_060073cc2b/results/20240314_07552300000_3eeecdf13ff695a6_adjust/\\home\\wmnlab\\jackbedford\\data\\2023-10-26\\UDP_Bandlock_9S_Phone_Airport\\sm00\\#02\\data\\udp_dnlk_loss_latency\\home\\wmnlab\\jackbedford\\data\\2023-10-26\\UDP_Bandlock_9S_Phone_Airport\\sm04\\#02\\data\\udp_dnlk_loss_latency.csv\n",
      "40/216 /home/wmnlab/jackbedford/data/2023-10-26/UDP_Bandlock_9S_Phone_Airport/sm00/#02/data/handover_info_log.csv\n",
      "40/216 /home/wmnlab/jackbedford/data/2023-10-26/UDP_Bandlock_9S_Phone_Airport/sm00/#02/data/udp_dnlk_loss_latency.csv\n",
      "40/216 /home/wmnlab/jackbedford/data/2023-10-26/UDP_Bandlock_9S_Phone_Airport/sm00/#02/data/udp_uplk_loss_latency.csv\n",
      "40/216 /home/wmnlab/jackbedford/data/2023-10-26/UDP_Bandlock_9S_Phone_Airport/sm05/#02/data/handover_info_log.csv\n",
      "40/216 /home/wmnlab/jackbedford/data/2023-10-26/UDP_Bandlock_9S_Phone_Airport/sm05/#02/data/udp_dnlk_loss_latency.csv\n",
      "40/216 /home/wmnlab/jackbedford/data/2023-10-26/UDP_Bandlock_9S_Phone_Airport/sm05/#02/data/udp_uplk_loss_latency.csv\n"
     ]
    },
    {
     "data": {
      "application/vnd.jupyter.widget-view+json": {
       "model_id": "5fcc0d576b4e4b8d9138f48a383a259f",
       "version_major": 2,
       "version_minor": 0
      },
      "text/plain": [
       "  0%|                                                                                                         …"
      ]
     },
     "metadata": {},
     "output_type": "display_data"
    },
    {
     "name": "stdout",
     "output_type": "stream",
     "text": [
      "./20240312_150032342e_newest/20240314_060073cc2b/results/20240314_07552300000_3eeecdf13ff695a6_adjust/\\home\\wmnlab\\jackbedford\\data\\2023-10-26\\UDP_Bandlock_9S_Phone_Airport\\sm00\\#02\\data\\udp_dnlk_loss_latency\\home\\wmnlab\\jackbedford\\data\\2023-10-26\\UDP_Bandlock_9S_Phone_Airport\\sm05\\#02\\data\\udp_dnlk_loss_latency.csv\n",
      "41/216 /home/wmnlab/jackbedford/data/2023-10-26/UDP_Bandlock_9S_Phone_Airport/sm00/#02/data/handover_info_log.csv\n",
      "41/216 /home/wmnlab/jackbedford/data/2023-10-26/UDP_Bandlock_9S_Phone_Airport/sm00/#02/data/udp_dnlk_loss_latency.csv\n",
      "41/216 /home/wmnlab/jackbedford/data/2023-10-26/UDP_Bandlock_9S_Phone_Airport/sm00/#02/data/udp_uplk_loss_latency.csv\n",
      "41/216 /home/wmnlab/jackbedford/data/2023-10-26/UDP_Bandlock_9S_Phone_Airport/sm06/#02/data/handover_info_log.csv\n",
      "41/216 /home/wmnlab/jackbedford/data/2023-10-26/UDP_Bandlock_9S_Phone_Airport/sm06/#02/data/udp_dnlk_loss_latency.csv\n",
      "41/216 /home/wmnlab/jackbedford/data/2023-10-26/UDP_Bandlock_9S_Phone_Airport/sm06/#02/data/udp_uplk_loss_latency.csv\n"
     ]
    },
    {
     "data": {
      "application/vnd.jupyter.widget-view+json": {
       "model_id": "a44156a7b1c54d149a05bd49ceb59948",
       "version_major": 2,
       "version_minor": 0
      },
      "text/plain": [
       "  0%|                                                                                                         …"
      ]
     },
     "metadata": {},
     "output_type": "display_data"
    },
    {
     "name": "stdout",
     "output_type": "stream",
     "text": [
      "./20240312_150032342e_newest/20240314_060073cc2b/results/20240314_07552300000_3eeecdf13ff695a6_adjust/\\home\\wmnlab\\jackbedford\\data\\2023-10-26\\UDP_Bandlock_9S_Phone_Airport\\sm00\\#02\\data\\udp_dnlk_loss_latency\\home\\wmnlab\\jackbedford\\data\\2023-10-26\\UDP_Bandlock_9S_Phone_Airport\\sm06\\#02\\data\\udp_dnlk_loss_latency.csv\n",
      "42/216 /home/wmnlab/jackbedford/data/2023-10-26/UDP_Bandlock_9S_Phone_Airport/sm00/#02/data/handover_info_log.csv\n",
      "42/216 /home/wmnlab/jackbedford/data/2023-10-26/UDP_Bandlock_9S_Phone_Airport/sm00/#02/data/udp_dnlk_loss_latency.csv\n",
      "42/216 /home/wmnlab/jackbedford/data/2023-10-26/UDP_Bandlock_9S_Phone_Airport/sm00/#02/data/udp_uplk_loss_latency.csv\n",
      "42/216 /home/wmnlab/jackbedford/data/2023-10-26/UDP_Bandlock_9S_Phone_Airport/sm07/#02/data/handover_info_log.csv\n",
      "42/216 /home/wmnlab/jackbedford/data/2023-10-26/UDP_Bandlock_9S_Phone_Airport/sm07/#02/data/udp_dnlk_loss_latency.csv\n",
      "42/216 /home/wmnlab/jackbedford/data/2023-10-26/UDP_Bandlock_9S_Phone_Airport/sm07/#02/data/udp_uplk_loss_latency.csv\n"
     ]
    },
    {
     "data": {
      "application/vnd.jupyter.widget-view+json": {
       "model_id": "62f8ceafae14420084e39ea40d0fa7ec",
       "version_major": 2,
       "version_minor": 0
      },
      "text/plain": [
       "  0%|                                                                                                         …"
      ]
     },
     "metadata": {},
     "output_type": "display_data"
    },
    {
     "name": "stdout",
     "output_type": "stream",
     "text": [
      "./20240312_150032342e_newest/20240314_060073cc2b/results/20240314_07552300000_3eeecdf13ff695a6_adjust/\\home\\wmnlab\\jackbedford\\data\\2023-10-26\\UDP_Bandlock_9S_Phone_Airport\\sm00\\#02\\data\\udp_dnlk_loss_latency\\home\\wmnlab\\jackbedford\\data\\2023-10-26\\UDP_Bandlock_9S_Phone_Airport\\sm07\\#02\\data\\udp_dnlk_loss_latency.csv\n",
      "43/216 /home/wmnlab/jackbedford/data/2023-10-26/UDP_Bandlock_9S_Phone_Airport/sm00/#02/data/handover_info_log.csv\n",
      "43/216 /home/wmnlab/jackbedford/data/2023-10-26/UDP_Bandlock_9S_Phone_Airport/sm00/#02/data/udp_dnlk_loss_latency.csv\n",
      "43/216 /home/wmnlab/jackbedford/data/2023-10-26/UDP_Bandlock_9S_Phone_Airport/sm00/#02/data/udp_uplk_loss_latency.csv\n",
      "43/216 /home/wmnlab/jackbedford/data/2023-10-26/UDP_Bandlock_9S_Phone_Airport/sm08/#02/data/handover_info_log.csv\n",
      "43/216 /home/wmnlab/jackbedford/data/2023-10-26/UDP_Bandlock_9S_Phone_Airport/sm08/#02/data/udp_dnlk_loss_latency.csv\n",
      "43/216 /home/wmnlab/jackbedford/data/2023-10-26/UDP_Bandlock_9S_Phone_Airport/sm08/#02/data/udp_uplk_loss_latency.csv\n"
     ]
    },
    {
     "data": {
      "application/vnd.jupyter.widget-view+json": {
       "model_id": "0763340738e449bb837651813bfd3fb4",
       "version_major": 2,
       "version_minor": 0
      },
      "text/plain": [
       "  0%|                                                                                                         …"
      ]
     },
     "metadata": {},
     "output_type": "display_data"
    },
    {
     "name": "stdout",
     "output_type": "stream",
     "text": [
      "./20240312_150032342e_newest/20240314_060073cc2b/results/20240314_07552300000_3eeecdf13ff695a6_adjust/\\home\\wmnlab\\jackbedford\\data\\2023-10-26\\UDP_Bandlock_9S_Phone_Airport\\sm00\\#02\\data\\udp_dnlk_loss_latency\\home\\wmnlab\\jackbedford\\data\\2023-10-26\\UDP_Bandlock_9S_Phone_Airport\\sm08\\#02\\data\\udp_dnlk_loss_latency.csv\n",
      "44/216 /home/wmnlab/jackbedford/data/2023-10-26/UDP_Bandlock_9S_Phone_Airport/sm01/#02/data/handover_info_log.csv\n",
      "44/216 /home/wmnlab/jackbedford/data/2023-10-26/UDP_Bandlock_9S_Phone_Airport/sm01/#02/data/udp_dnlk_loss_latency.csv\n",
      "44/216 /home/wmnlab/jackbedford/data/2023-10-26/UDP_Bandlock_9S_Phone_Airport/sm01/#02/data/udp_uplk_loss_latency.csv\n",
      "44/216 /home/wmnlab/jackbedford/data/2023-10-26/UDP_Bandlock_9S_Phone_Airport/sm02/#02/data/handover_info_log.csv\n",
      "44/216 /home/wmnlab/jackbedford/data/2023-10-26/UDP_Bandlock_9S_Phone_Airport/sm02/#02/data/udp_dnlk_loss_latency.csv\n",
      "44/216 /home/wmnlab/jackbedford/data/2023-10-26/UDP_Bandlock_9S_Phone_Airport/sm02/#02/data/udp_uplk_loss_latency.csv\n"
     ]
    },
    {
     "data": {
      "application/vnd.jupyter.widget-view+json": {
       "model_id": "849c5a1ce23b4261b69a23c8b1ed3450",
       "version_major": 2,
       "version_minor": 0
      },
      "text/plain": [
       "  0%|                                                                                                         …"
      ]
     },
     "metadata": {},
     "output_type": "display_data"
    },
    {
     "name": "stdout",
     "output_type": "stream",
     "text": [
      "./20240312_150032342e_newest/20240314_060073cc2b/results/20240314_07552300000_3eeecdf13ff695a6_adjust/\\home\\wmnlab\\jackbedford\\data\\2023-10-26\\UDP_Bandlock_9S_Phone_Airport\\sm01\\#02\\data\\udp_dnlk_loss_latency\\home\\wmnlab\\jackbedford\\data\\2023-10-26\\UDP_Bandlock_9S_Phone_Airport\\sm02\\#02\\data\\udp_dnlk_loss_latency.csv\n",
      "45/216 /home/wmnlab/jackbedford/data/2023-10-26/UDP_Bandlock_9S_Phone_Airport/sm01/#02/data/handover_info_log.csv\n",
      "45/216 /home/wmnlab/jackbedford/data/2023-10-26/UDP_Bandlock_9S_Phone_Airport/sm01/#02/data/udp_dnlk_loss_latency.csv\n",
      "45/216 /home/wmnlab/jackbedford/data/2023-10-26/UDP_Bandlock_9S_Phone_Airport/sm01/#02/data/udp_uplk_loss_latency.csv\n",
      "45/216 /home/wmnlab/jackbedford/data/2023-10-26/UDP_Bandlock_9S_Phone_Airport/sm03/#02/data/handover_info_log.csv\n",
      "45/216 /home/wmnlab/jackbedford/data/2023-10-26/UDP_Bandlock_9S_Phone_Airport/sm03/#02/data/udp_dnlk_loss_latency.csv\n",
      "45/216 /home/wmnlab/jackbedford/data/2023-10-26/UDP_Bandlock_9S_Phone_Airport/sm03/#02/data/udp_uplk_loss_latency.csv\n"
     ]
    },
    {
     "data": {
      "application/vnd.jupyter.widget-view+json": {
       "model_id": "cb6ac5134ea645e68f7d8ff74c96ffcc",
       "version_major": 2,
       "version_minor": 0
      },
      "text/plain": [
       "  0%|                                                                                                         …"
      ]
     },
     "metadata": {},
     "output_type": "display_data"
    },
    {
     "name": "stdout",
     "output_type": "stream",
     "text": [
      "./20240312_150032342e_newest/20240314_060073cc2b/results/20240314_07552300000_3eeecdf13ff695a6_adjust/\\home\\wmnlab\\jackbedford\\data\\2023-10-26\\UDP_Bandlock_9S_Phone_Airport\\sm01\\#02\\data\\udp_dnlk_loss_latency\\home\\wmnlab\\jackbedford\\data\\2023-10-26\\UDP_Bandlock_9S_Phone_Airport\\sm03\\#02\\data\\udp_dnlk_loss_latency.csv\n",
      "46/216 /home/wmnlab/jackbedford/data/2023-10-26/UDP_Bandlock_9S_Phone_Airport/sm01/#02/data/handover_info_log.csv\n",
      "46/216 /home/wmnlab/jackbedford/data/2023-10-26/UDP_Bandlock_9S_Phone_Airport/sm01/#02/data/udp_dnlk_loss_latency.csv\n",
      "46/216 /home/wmnlab/jackbedford/data/2023-10-26/UDP_Bandlock_9S_Phone_Airport/sm01/#02/data/udp_uplk_loss_latency.csv\n",
      "46/216 /home/wmnlab/jackbedford/data/2023-10-26/UDP_Bandlock_9S_Phone_Airport/sm04/#02/data/handover_info_log.csv\n",
      "46/216 /home/wmnlab/jackbedford/data/2023-10-26/UDP_Bandlock_9S_Phone_Airport/sm04/#02/data/udp_dnlk_loss_latency.csv\n",
      "46/216 /home/wmnlab/jackbedford/data/2023-10-26/UDP_Bandlock_9S_Phone_Airport/sm04/#02/data/udp_uplk_loss_latency.csv\n"
     ]
    },
    {
     "data": {
      "application/vnd.jupyter.widget-view+json": {
       "model_id": "23d80f8e640e442a96bb3a1066a6f402",
       "version_major": 2,
       "version_minor": 0
      },
      "text/plain": [
       "  0%|                                                                                                         …"
      ]
     },
     "metadata": {},
     "output_type": "display_data"
    },
    {
     "name": "stdout",
     "output_type": "stream",
     "text": [
      "./20240312_150032342e_newest/20240314_060073cc2b/results/20240314_07552300000_3eeecdf13ff695a6_adjust/\\home\\wmnlab\\jackbedford\\data\\2023-10-26\\UDP_Bandlock_9S_Phone_Airport\\sm01\\#02\\data\\udp_dnlk_loss_latency\\home\\wmnlab\\jackbedford\\data\\2023-10-26\\UDP_Bandlock_9S_Phone_Airport\\sm04\\#02\\data\\udp_dnlk_loss_latency.csv\n",
      "47/216 /home/wmnlab/jackbedford/data/2023-10-26/UDP_Bandlock_9S_Phone_Airport/sm01/#02/data/handover_info_log.csv\n",
      "47/216 /home/wmnlab/jackbedford/data/2023-10-26/UDP_Bandlock_9S_Phone_Airport/sm01/#02/data/udp_dnlk_loss_latency.csv\n",
      "47/216 /home/wmnlab/jackbedford/data/2023-10-26/UDP_Bandlock_9S_Phone_Airport/sm01/#02/data/udp_uplk_loss_latency.csv\n",
      "47/216 /home/wmnlab/jackbedford/data/2023-10-26/UDP_Bandlock_9S_Phone_Airport/sm05/#02/data/handover_info_log.csv\n",
      "47/216 /home/wmnlab/jackbedford/data/2023-10-26/UDP_Bandlock_9S_Phone_Airport/sm05/#02/data/udp_dnlk_loss_latency.csv\n",
      "47/216 /home/wmnlab/jackbedford/data/2023-10-26/UDP_Bandlock_9S_Phone_Airport/sm05/#02/data/udp_uplk_loss_latency.csv\n"
     ]
    },
    {
     "data": {
      "application/vnd.jupyter.widget-view+json": {
       "model_id": "cfd1ada0926f41fe9beee2c3878e75d2",
       "version_major": 2,
       "version_minor": 0
      },
      "text/plain": [
       "  0%|                                                                                                         …"
      ]
     },
     "metadata": {},
     "output_type": "display_data"
    },
    {
     "name": "stdout",
     "output_type": "stream",
     "text": [
      "./20240312_150032342e_newest/20240314_060073cc2b/results/20240314_07552300000_3eeecdf13ff695a6_adjust/\\home\\wmnlab\\jackbedford\\data\\2023-10-26\\UDP_Bandlock_9S_Phone_Airport\\sm01\\#02\\data\\udp_dnlk_loss_latency\\home\\wmnlab\\jackbedford\\data\\2023-10-26\\UDP_Bandlock_9S_Phone_Airport\\sm05\\#02\\data\\udp_dnlk_loss_latency.csv\n",
      "48/216 /home/wmnlab/jackbedford/data/2023-10-26/UDP_Bandlock_9S_Phone_Airport/sm01/#02/data/handover_info_log.csv\n",
      "48/216 /home/wmnlab/jackbedford/data/2023-10-26/UDP_Bandlock_9S_Phone_Airport/sm01/#02/data/udp_dnlk_loss_latency.csv\n",
      "48/216 /home/wmnlab/jackbedford/data/2023-10-26/UDP_Bandlock_9S_Phone_Airport/sm01/#02/data/udp_uplk_loss_latency.csv\n",
      "48/216 /home/wmnlab/jackbedford/data/2023-10-26/UDP_Bandlock_9S_Phone_Airport/sm06/#02/data/handover_info_log.csv\n",
      "48/216 /home/wmnlab/jackbedford/data/2023-10-26/UDP_Bandlock_9S_Phone_Airport/sm06/#02/data/udp_dnlk_loss_latency.csv\n",
      "48/216 /home/wmnlab/jackbedford/data/2023-10-26/UDP_Bandlock_9S_Phone_Airport/sm06/#02/data/udp_uplk_loss_latency.csv\n"
     ]
    },
    {
     "data": {
      "application/vnd.jupyter.widget-view+json": {
       "model_id": "f13cfefa68844257bbac88f890f9c847",
       "version_major": 2,
       "version_minor": 0
      },
      "text/plain": [
       "  0%|                                                                                                         …"
      ]
     },
     "metadata": {},
     "output_type": "display_data"
    },
    {
     "name": "stdout",
     "output_type": "stream",
     "text": [
      "./20240312_150032342e_newest/20240314_060073cc2b/results/20240314_07552300000_3eeecdf13ff695a6_adjust/\\home\\wmnlab\\jackbedford\\data\\2023-10-26\\UDP_Bandlock_9S_Phone_Airport\\sm01\\#02\\data\\udp_dnlk_loss_latency\\home\\wmnlab\\jackbedford\\data\\2023-10-26\\UDP_Bandlock_9S_Phone_Airport\\sm06\\#02\\data\\udp_dnlk_loss_latency.csv\n",
      "49/216 /home/wmnlab/jackbedford/data/2023-10-26/UDP_Bandlock_9S_Phone_Airport/sm01/#02/data/handover_info_log.csv\n",
      "49/216 /home/wmnlab/jackbedford/data/2023-10-26/UDP_Bandlock_9S_Phone_Airport/sm01/#02/data/udp_dnlk_loss_latency.csv\n",
      "49/216 /home/wmnlab/jackbedford/data/2023-10-26/UDP_Bandlock_9S_Phone_Airport/sm01/#02/data/udp_uplk_loss_latency.csv\n",
      "49/216 /home/wmnlab/jackbedford/data/2023-10-26/UDP_Bandlock_9S_Phone_Airport/sm07/#02/data/handover_info_log.csv\n",
      "49/216 /home/wmnlab/jackbedford/data/2023-10-26/UDP_Bandlock_9S_Phone_Airport/sm07/#02/data/udp_dnlk_loss_latency.csv\n",
      "49/216 /home/wmnlab/jackbedford/data/2023-10-26/UDP_Bandlock_9S_Phone_Airport/sm07/#02/data/udp_uplk_loss_latency.csv\n"
     ]
    },
    {
     "data": {
      "application/vnd.jupyter.widget-view+json": {
       "model_id": "faa8afc065584e0591b62ffb80b35776",
       "version_major": 2,
       "version_minor": 0
      },
      "text/plain": [
       "  0%|                                                                                                         …"
      ]
     },
     "metadata": {},
     "output_type": "display_data"
    },
    {
     "name": "stdout",
     "output_type": "stream",
     "text": [
      "./20240312_150032342e_newest/20240314_060073cc2b/results/20240314_07552300000_3eeecdf13ff695a6_adjust/\\home\\wmnlab\\jackbedford\\data\\2023-10-26\\UDP_Bandlock_9S_Phone_Airport\\sm01\\#02\\data\\udp_dnlk_loss_latency\\home\\wmnlab\\jackbedford\\data\\2023-10-26\\UDP_Bandlock_9S_Phone_Airport\\sm07\\#02\\data\\udp_dnlk_loss_latency.csv\n",
      "50/216 /home/wmnlab/jackbedford/data/2023-10-26/UDP_Bandlock_9S_Phone_Airport/sm01/#02/data/handover_info_log.csv\n",
      "50/216 /home/wmnlab/jackbedford/data/2023-10-26/UDP_Bandlock_9S_Phone_Airport/sm01/#02/data/udp_dnlk_loss_latency.csv\n",
      "50/216 /home/wmnlab/jackbedford/data/2023-10-26/UDP_Bandlock_9S_Phone_Airport/sm01/#02/data/udp_uplk_loss_latency.csv\n",
      "50/216 /home/wmnlab/jackbedford/data/2023-10-26/UDP_Bandlock_9S_Phone_Airport/sm08/#02/data/handover_info_log.csv\n",
      "50/216 /home/wmnlab/jackbedford/data/2023-10-26/UDP_Bandlock_9S_Phone_Airport/sm08/#02/data/udp_dnlk_loss_latency.csv\n",
      "50/216 /home/wmnlab/jackbedford/data/2023-10-26/UDP_Bandlock_9S_Phone_Airport/sm08/#02/data/udp_uplk_loss_latency.csv\n"
     ]
    },
    {
     "data": {
      "application/vnd.jupyter.widget-view+json": {
       "model_id": "4a7131662b8246df93bc2615678b38da",
       "version_major": 2,
       "version_minor": 0
      },
      "text/plain": [
       "  0%|                                                                                                         …"
      ]
     },
     "metadata": {},
     "output_type": "display_data"
    },
    {
     "name": "stdout",
     "output_type": "stream",
     "text": [
      "./20240312_150032342e_newest/20240314_060073cc2b/results/20240314_07552300000_3eeecdf13ff695a6_adjust/\\home\\wmnlab\\jackbedford\\data\\2023-10-26\\UDP_Bandlock_9S_Phone_Airport\\sm01\\#02\\data\\udp_dnlk_loss_latency\\home\\wmnlab\\jackbedford\\data\\2023-10-26\\UDP_Bandlock_9S_Phone_Airport\\sm08\\#02\\data\\udp_dnlk_loss_latency.csv\n",
      "51/216 /home/wmnlab/jackbedford/data/2023-10-26/UDP_Bandlock_9S_Phone_Airport/sm02/#02/data/handover_info_log.csv\n",
      "51/216 /home/wmnlab/jackbedford/data/2023-10-26/UDP_Bandlock_9S_Phone_Airport/sm02/#02/data/udp_dnlk_loss_latency.csv\n",
      "51/216 /home/wmnlab/jackbedford/data/2023-10-26/UDP_Bandlock_9S_Phone_Airport/sm02/#02/data/udp_uplk_loss_latency.csv\n",
      "51/216 /home/wmnlab/jackbedford/data/2023-10-26/UDP_Bandlock_9S_Phone_Airport/sm03/#02/data/handover_info_log.csv\n",
      "51/216 /home/wmnlab/jackbedford/data/2023-10-26/UDP_Bandlock_9S_Phone_Airport/sm03/#02/data/udp_dnlk_loss_latency.csv\n",
      "51/216 /home/wmnlab/jackbedford/data/2023-10-26/UDP_Bandlock_9S_Phone_Airport/sm03/#02/data/udp_uplk_loss_latency.csv\n"
     ]
    },
    {
     "data": {
      "application/vnd.jupyter.widget-view+json": {
       "model_id": "76a716829e1b4d77a409fa90551265c6",
       "version_major": 2,
       "version_minor": 0
      },
      "text/plain": [
       "  0%|                                                                                                         …"
      ]
     },
     "metadata": {},
     "output_type": "display_data"
    },
    {
     "name": "stdout",
     "output_type": "stream",
     "text": [
      "./20240312_150032342e_newest/20240314_060073cc2b/results/20240314_07552300000_3eeecdf13ff695a6_adjust/\\home\\wmnlab\\jackbedford\\data\\2023-10-26\\UDP_Bandlock_9S_Phone_Airport\\sm02\\#02\\data\\udp_dnlk_loss_latency\\home\\wmnlab\\jackbedford\\data\\2023-10-26\\UDP_Bandlock_9S_Phone_Airport\\sm03\\#02\\data\\udp_dnlk_loss_latency.csv\n",
      "52/216 /home/wmnlab/jackbedford/data/2023-10-26/UDP_Bandlock_9S_Phone_Airport/sm02/#02/data/handover_info_log.csv\n",
      "52/216 /home/wmnlab/jackbedford/data/2023-10-26/UDP_Bandlock_9S_Phone_Airport/sm02/#02/data/udp_dnlk_loss_latency.csv\n",
      "52/216 /home/wmnlab/jackbedford/data/2023-10-26/UDP_Bandlock_9S_Phone_Airport/sm02/#02/data/udp_uplk_loss_latency.csv\n",
      "52/216 /home/wmnlab/jackbedford/data/2023-10-26/UDP_Bandlock_9S_Phone_Airport/sm04/#02/data/handover_info_log.csv\n",
      "52/216 /home/wmnlab/jackbedford/data/2023-10-26/UDP_Bandlock_9S_Phone_Airport/sm04/#02/data/udp_dnlk_loss_latency.csv\n",
      "52/216 /home/wmnlab/jackbedford/data/2023-10-26/UDP_Bandlock_9S_Phone_Airport/sm04/#02/data/udp_uplk_loss_latency.csv\n"
     ]
    },
    {
     "data": {
      "application/vnd.jupyter.widget-view+json": {
       "model_id": "3845ce445c154abb8011bf62ad7a62c9",
       "version_major": 2,
       "version_minor": 0
      },
      "text/plain": [
       "  0%|                                                                                                         …"
      ]
     },
     "metadata": {},
     "output_type": "display_data"
    },
    {
     "name": "stdout",
     "output_type": "stream",
     "text": [
      "./20240312_150032342e_newest/20240314_060073cc2b/results/20240314_07552300000_3eeecdf13ff695a6_adjust/\\home\\wmnlab\\jackbedford\\data\\2023-10-26\\UDP_Bandlock_9S_Phone_Airport\\sm02\\#02\\data\\udp_dnlk_loss_latency\\home\\wmnlab\\jackbedford\\data\\2023-10-26\\UDP_Bandlock_9S_Phone_Airport\\sm04\\#02\\data\\udp_dnlk_loss_latency.csv\n",
      "53/216 /home/wmnlab/jackbedford/data/2023-10-26/UDP_Bandlock_9S_Phone_Airport/sm02/#02/data/handover_info_log.csv\n",
      "53/216 /home/wmnlab/jackbedford/data/2023-10-26/UDP_Bandlock_9S_Phone_Airport/sm02/#02/data/udp_dnlk_loss_latency.csv\n",
      "53/216 /home/wmnlab/jackbedford/data/2023-10-26/UDP_Bandlock_9S_Phone_Airport/sm02/#02/data/udp_uplk_loss_latency.csv\n",
      "53/216 /home/wmnlab/jackbedford/data/2023-10-26/UDP_Bandlock_9S_Phone_Airport/sm05/#02/data/handover_info_log.csv\n",
      "53/216 /home/wmnlab/jackbedford/data/2023-10-26/UDP_Bandlock_9S_Phone_Airport/sm05/#02/data/udp_dnlk_loss_latency.csv\n",
      "53/216 /home/wmnlab/jackbedford/data/2023-10-26/UDP_Bandlock_9S_Phone_Airport/sm05/#02/data/udp_uplk_loss_latency.csv\n"
     ]
    },
    {
     "data": {
      "application/vnd.jupyter.widget-view+json": {
       "model_id": "148c74f535944d82b5ae7f36c159fc34",
       "version_major": 2,
       "version_minor": 0
      },
      "text/plain": [
       "  0%|                                                                                                         …"
      ]
     },
     "metadata": {},
     "output_type": "display_data"
    },
    {
     "name": "stdout",
     "output_type": "stream",
     "text": [
      "./20240312_150032342e_newest/20240314_060073cc2b/results/20240314_07552300000_3eeecdf13ff695a6_adjust/\\home\\wmnlab\\jackbedford\\data\\2023-10-26\\UDP_Bandlock_9S_Phone_Airport\\sm02\\#02\\data\\udp_dnlk_loss_latency\\home\\wmnlab\\jackbedford\\data\\2023-10-26\\UDP_Bandlock_9S_Phone_Airport\\sm05\\#02\\data\\udp_dnlk_loss_latency.csv\n",
      "54/216 /home/wmnlab/jackbedford/data/2023-10-26/UDP_Bandlock_9S_Phone_Airport/sm02/#02/data/handover_info_log.csv\n",
      "54/216 /home/wmnlab/jackbedford/data/2023-10-26/UDP_Bandlock_9S_Phone_Airport/sm02/#02/data/udp_dnlk_loss_latency.csv\n",
      "54/216 /home/wmnlab/jackbedford/data/2023-10-26/UDP_Bandlock_9S_Phone_Airport/sm02/#02/data/udp_uplk_loss_latency.csv\n",
      "54/216 /home/wmnlab/jackbedford/data/2023-10-26/UDP_Bandlock_9S_Phone_Airport/sm06/#02/data/handover_info_log.csv\n",
      "54/216 /home/wmnlab/jackbedford/data/2023-10-26/UDP_Bandlock_9S_Phone_Airport/sm06/#02/data/udp_dnlk_loss_latency.csv\n",
      "54/216 /home/wmnlab/jackbedford/data/2023-10-26/UDP_Bandlock_9S_Phone_Airport/sm06/#02/data/udp_uplk_loss_latency.csv\n"
     ]
    },
    {
     "data": {
      "application/vnd.jupyter.widget-view+json": {
       "model_id": "9021e171554f4cb5998b5c187929f07a",
       "version_major": 2,
       "version_minor": 0
      },
      "text/plain": [
       "  0%|                                                                                                         …"
      ]
     },
     "metadata": {},
     "output_type": "display_data"
    },
    {
     "name": "stdout",
     "output_type": "stream",
     "text": [
      "./20240312_150032342e_newest/20240314_060073cc2b/results/20240314_07552300000_3eeecdf13ff695a6_adjust/\\home\\wmnlab\\jackbedford\\data\\2023-10-26\\UDP_Bandlock_9S_Phone_Airport\\sm02\\#02\\data\\udp_dnlk_loss_latency\\home\\wmnlab\\jackbedford\\data\\2023-10-26\\UDP_Bandlock_9S_Phone_Airport\\sm06\\#02\\data\\udp_dnlk_loss_latency.csv\n",
      "55/216 /home/wmnlab/jackbedford/data/2023-10-26/UDP_Bandlock_9S_Phone_Airport/sm02/#02/data/handover_info_log.csv\n",
      "55/216 /home/wmnlab/jackbedford/data/2023-10-26/UDP_Bandlock_9S_Phone_Airport/sm02/#02/data/udp_dnlk_loss_latency.csv\n",
      "55/216 /home/wmnlab/jackbedford/data/2023-10-26/UDP_Bandlock_9S_Phone_Airport/sm02/#02/data/udp_uplk_loss_latency.csv\n",
      "55/216 /home/wmnlab/jackbedford/data/2023-10-26/UDP_Bandlock_9S_Phone_Airport/sm07/#02/data/handover_info_log.csv\n",
      "55/216 /home/wmnlab/jackbedford/data/2023-10-26/UDP_Bandlock_9S_Phone_Airport/sm07/#02/data/udp_dnlk_loss_latency.csv\n",
      "55/216 /home/wmnlab/jackbedford/data/2023-10-26/UDP_Bandlock_9S_Phone_Airport/sm07/#02/data/udp_uplk_loss_latency.csv\n"
     ]
    },
    {
     "data": {
      "application/vnd.jupyter.widget-view+json": {
       "model_id": "bf94c716240b43b281394b22536e3ad1",
       "version_major": 2,
       "version_minor": 0
      },
      "text/plain": [
       "  0%|                                                                                                         …"
      ]
     },
     "metadata": {},
     "output_type": "display_data"
    },
    {
     "name": "stdout",
     "output_type": "stream",
     "text": [
      "./20240312_150032342e_newest/20240314_060073cc2b/results/20240314_07552300000_3eeecdf13ff695a6_adjust/\\home\\wmnlab\\jackbedford\\data\\2023-10-26\\UDP_Bandlock_9S_Phone_Airport\\sm02\\#02\\data\\udp_dnlk_loss_latency\\home\\wmnlab\\jackbedford\\data\\2023-10-26\\UDP_Bandlock_9S_Phone_Airport\\sm07\\#02\\data\\udp_dnlk_loss_latency.csv\n",
      "56/216 /home/wmnlab/jackbedford/data/2023-10-26/UDP_Bandlock_9S_Phone_Airport/sm02/#02/data/handover_info_log.csv\n",
      "56/216 /home/wmnlab/jackbedford/data/2023-10-26/UDP_Bandlock_9S_Phone_Airport/sm02/#02/data/udp_dnlk_loss_latency.csv\n",
      "56/216 /home/wmnlab/jackbedford/data/2023-10-26/UDP_Bandlock_9S_Phone_Airport/sm02/#02/data/udp_uplk_loss_latency.csv\n",
      "56/216 /home/wmnlab/jackbedford/data/2023-10-26/UDP_Bandlock_9S_Phone_Airport/sm08/#02/data/handover_info_log.csv\n",
      "56/216 /home/wmnlab/jackbedford/data/2023-10-26/UDP_Bandlock_9S_Phone_Airport/sm08/#02/data/udp_dnlk_loss_latency.csv\n",
      "56/216 /home/wmnlab/jackbedford/data/2023-10-26/UDP_Bandlock_9S_Phone_Airport/sm08/#02/data/udp_uplk_loss_latency.csv\n"
     ]
    },
    {
     "data": {
      "application/vnd.jupyter.widget-view+json": {
       "model_id": "488b8db7bf58489581e9b5288ebc186e",
       "version_major": 2,
       "version_minor": 0
      },
      "text/plain": [
       "  0%|                                                                                                         …"
      ]
     },
     "metadata": {},
     "output_type": "display_data"
    },
    {
     "name": "stdout",
     "output_type": "stream",
     "text": [
      "./20240312_150032342e_newest/20240314_060073cc2b/results/20240314_07552300000_3eeecdf13ff695a6_adjust/\\home\\wmnlab\\jackbedford\\data\\2023-10-26\\UDP_Bandlock_9S_Phone_Airport\\sm02\\#02\\data\\udp_dnlk_loss_latency\\home\\wmnlab\\jackbedford\\data\\2023-10-26\\UDP_Bandlock_9S_Phone_Airport\\sm08\\#02\\data\\udp_dnlk_loss_latency.csv\n",
      "57/216 /home/wmnlab/jackbedford/data/2023-10-26/UDP_Bandlock_9S_Phone_Airport/sm03/#02/data/handover_info_log.csv\n",
      "57/216 /home/wmnlab/jackbedford/data/2023-10-26/UDP_Bandlock_9S_Phone_Airport/sm03/#02/data/udp_dnlk_loss_latency.csv\n",
      "57/216 /home/wmnlab/jackbedford/data/2023-10-26/UDP_Bandlock_9S_Phone_Airport/sm03/#02/data/udp_uplk_loss_latency.csv\n",
      "57/216 /home/wmnlab/jackbedford/data/2023-10-26/UDP_Bandlock_9S_Phone_Airport/sm04/#02/data/handover_info_log.csv\n",
      "57/216 /home/wmnlab/jackbedford/data/2023-10-26/UDP_Bandlock_9S_Phone_Airport/sm04/#02/data/udp_dnlk_loss_latency.csv\n",
      "57/216 /home/wmnlab/jackbedford/data/2023-10-26/UDP_Bandlock_9S_Phone_Airport/sm04/#02/data/udp_uplk_loss_latency.csv\n"
     ]
    },
    {
     "data": {
      "application/vnd.jupyter.widget-view+json": {
       "model_id": "4795b32ada6a4c928e67533527c7044a",
       "version_major": 2,
       "version_minor": 0
      },
      "text/plain": [
       "  0%|                                                                                                         …"
      ]
     },
     "metadata": {},
     "output_type": "display_data"
    },
    {
     "name": "stdout",
     "output_type": "stream",
     "text": [
      "./20240312_150032342e_newest/20240314_060073cc2b/results/20240314_07552300000_3eeecdf13ff695a6_adjust/\\home\\wmnlab\\jackbedford\\data\\2023-10-26\\UDP_Bandlock_9S_Phone_Airport\\sm03\\#02\\data\\udp_dnlk_loss_latency\\home\\wmnlab\\jackbedford\\data\\2023-10-26\\UDP_Bandlock_9S_Phone_Airport\\sm04\\#02\\data\\udp_dnlk_loss_latency.csv\n",
      "58/216 /home/wmnlab/jackbedford/data/2023-10-26/UDP_Bandlock_9S_Phone_Airport/sm03/#02/data/handover_info_log.csv\n",
      "58/216 /home/wmnlab/jackbedford/data/2023-10-26/UDP_Bandlock_9S_Phone_Airport/sm03/#02/data/udp_dnlk_loss_latency.csv\n",
      "58/216 /home/wmnlab/jackbedford/data/2023-10-26/UDP_Bandlock_9S_Phone_Airport/sm03/#02/data/udp_uplk_loss_latency.csv\n",
      "58/216 /home/wmnlab/jackbedford/data/2023-10-26/UDP_Bandlock_9S_Phone_Airport/sm05/#02/data/handover_info_log.csv\n",
      "58/216 /home/wmnlab/jackbedford/data/2023-10-26/UDP_Bandlock_9S_Phone_Airport/sm05/#02/data/udp_dnlk_loss_latency.csv\n",
      "58/216 /home/wmnlab/jackbedford/data/2023-10-26/UDP_Bandlock_9S_Phone_Airport/sm05/#02/data/udp_uplk_loss_latency.csv\n"
     ]
    },
    {
     "data": {
      "application/vnd.jupyter.widget-view+json": {
       "model_id": "ce27b34f2e6043a4a46e4e7370f6fcfa",
       "version_major": 2,
       "version_minor": 0
      },
      "text/plain": [
       "  0%|                                                                                                         …"
      ]
     },
     "metadata": {},
     "output_type": "display_data"
    },
    {
     "name": "stdout",
     "output_type": "stream",
     "text": [
      "./20240312_150032342e_newest/20240314_060073cc2b/results/20240314_07552300000_3eeecdf13ff695a6_adjust/\\home\\wmnlab\\jackbedford\\data\\2023-10-26\\UDP_Bandlock_9S_Phone_Airport\\sm03\\#02\\data\\udp_dnlk_loss_latency\\home\\wmnlab\\jackbedford\\data\\2023-10-26\\UDP_Bandlock_9S_Phone_Airport\\sm05\\#02\\data\\udp_dnlk_loss_latency.csv\n",
      "59/216 /home/wmnlab/jackbedford/data/2023-10-26/UDP_Bandlock_9S_Phone_Airport/sm03/#02/data/handover_info_log.csv\n",
      "59/216 /home/wmnlab/jackbedford/data/2023-10-26/UDP_Bandlock_9S_Phone_Airport/sm03/#02/data/udp_dnlk_loss_latency.csv\n",
      "59/216 /home/wmnlab/jackbedford/data/2023-10-26/UDP_Bandlock_9S_Phone_Airport/sm03/#02/data/udp_uplk_loss_latency.csv\n",
      "59/216 /home/wmnlab/jackbedford/data/2023-10-26/UDP_Bandlock_9S_Phone_Airport/sm06/#02/data/handover_info_log.csv\n",
      "59/216 /home/wmnlab/jackbedford/data/2023-10-26/UDP_Bandlock_9S_Phone_Airport/sm06/#02/data/udp_dnlk_loss_latency.csv\n",
      "59/216 /home/wmnlab/jackbedford/data/2023-10-26/UDP_Bandlock_9S_Phone_Airport/sm06/#02/data/udp_uplk_loss_latency.csv\n"
     ]
    },
    {
     "data": {
      "application/vnd.jupyter.widget-view+json": {
       "model_id": "bb7373cc5d334c1ab3d721c13c570141",
       "version_major": 2,
       "version_minor": 0
      },
      "text/plain": [
       "  0%|                                                                                                         …"
      ]
     },
     "metadata": {},
     "output_type": "display_data"
    },
    {
     "name": "stdout",
     "output_type": "stream",
     "text": [
      "./20240312_150032342e_newest/20240314_060073cc2b/results/20240314_07552300000_3eeecdf13ff695a6_adjust/\\home\\wmnlab\\jackbedford\\data\\2023-10-26\\UDP_Bandlock_9S_Phone_Airport\\sm03\\#02\\data\\udp_dnlk_loss_latency\\home\\wmnlab\\jackbedford\\data\\2023-10-26\\UDP_Bandlock_9S_Phone_Airport\\sm06\\#02\\data\\udp_dnlk_loss_latency.csv\n",
      "60/216 /home/wmnlab/jackbedford/data/2023-10-26/UDP_Bandlock_9S_Phone_Airport/sm03/#02/data/handover_info_log.csv\n",
      "60/216 /home/wmnlab/jackbedford/data/2023-10-26/UDP_Bandlock_9S_Phone_Airport/sm03/#02/data/udp_dnlk_loss_latency.csv\n",
      "60/216 /home/wmnlab/jackbedford/data/2023-10-26/UDP_Bandlock_9S_Phone_Airport/sm03/#02/data/udp_uplk_loss_latency.csv\n",
      "60/216 /home/wmnlab/jackbedford/data/2023-10-26/UDP_Bandlock_9S_Phone_Airport/sm07/#02/data/handover_info_log.csv\n",
      "60/216 /home/wmnlab/jackbedford/data/2023-10-26/UDP_Bandlock_9S_Phone_Airport/sm07/#02/data/udp_dnlk_loss_latency.csv\n",
      "60/216 /home/wmnlab/jackbedford/data/2023-10-26/UDP_Bandlock_9S_Phone_Airport/sm07/#02/data/udp_uplk_loss_latency.csv\n"
     ]
    },
    {
     "data": {
      "application/vnd.jupyter.widget-view+json": {
       "model_id": "b1bc0133ca9a42d5ac742fecebf672ba",
       "version_major": 2,
       "version_minor": 0
      },
      "text/plain": [
       "  0%|                                                                                                         …"
      ]
     },
     "metadata": {},
     "output_type": "display_data"
    },
    {
     "name": "stdout",
     "output_type": "stream",
     "text": [
      "./20240312_150032342e_newest/20240314_060073cc2b/results/20240314_07552300000_3eeecdf13ff695a6_adjust/\\home\\wmnlab\\jackbedford\\data\\2023-10-26\\UDP_Bandlock_9S_Phone_Airport\\sm03\\#02\\data\\udp_dnlk_loss_latency\\home\\wmnlab\\jackbedford\\data\\2023-10-26\\UDP_Bandlock_9S_Phone_Airport\\sm07\\#02\\data\\udp_dnlk_loss_latency.csv\n",
      "61/216 /home/wmnlab/jackbedford/data/2023-10-26/UDP_Bandlock_9S_Phone_Airport/sm03/#02/data/handover_info_log.csv\n",
      "61/216 /home/wmnlab/jackbedford/data/2023-10-26/UDP_Bandlock_9S_Phone_Airport/sm03/#02/data/udp_dnlk_loss_latency.csv\n",
      "61/216 /home/wmnlab/jackbedford/data/2023-10-26/UDP_Bandlock_9S_Phone_Airport/sm03/#02/data/udp_uplk_loss_latency.csv\n",
      "61/216 /home/wmnlab/jackbedford/data/2023-10-26/UDP_Bandlock_9S_Phone_Airport/sm08/#02/data/handover_info_log.csv\n",
      "61/216 /home/wmnlab/jackbedford/data/2023-10-26/UDP_Bandlock_9S_Phone_Airport/sm08/#02/data/udp_dnlk_loss_latency.csv\n",
      "61/216 /home/wmnlab/jackbedford/data/2023-10-26/UDP_Bandlock_9S_Phone_Airport/sm08/#02/data/udp_uplk_loss_latency.csv\n"
     ]
    },
    {
     "data": {
      "application/vnd.jupyter.widget-view+json": {
       "model_id": "256c0ead2d0a4cc48abd62be972d6ee9",
       "version_major": 2,
       "version_minor": 0
      },
      "text/plain": [
       "  0%|                                                                                                         …"
      ]
     },
     "metadata": {},
     "output_type": "display_data"
    },
    {
     "name": "stdout",
     "output_type": "stream",
     "text": [
      "./20240312_150032342e_newest/20240314_060073cc2b/results/20240314_07552300000_3eeecdf13ff695a6_adjust/\\home\\wmnlab\\jackbedford\\data\\2023-10-26\\UDP_Bandlock_9S_Phone_Airport\\sm03\\#02\\data\\udp_dnlk_loss_latency\\home\\wmnlab\\jackbedford\\data\\2023-10-26\\UDP_Bandlock_9S_Phone_Airport\\sm08\\#02\\data\\udp_dnlk_loss_latency.csv\n",
      "62/216 /home/wmnlab/jackbedford/data/2023-10-26/UDP_Bandlock_9S_Phone_Airport/sm04/#02/data/handover_info_log.csv\n",
      "62/216 /home/wmnlab/jackbedford/data/2023-10-26/UDP_Bandlock_9S_Phone_Airport/sm04/#02/data/udp_dnlk_loss_latency.csv\n",
      "62/216 /home/wmnlab/jackbedford/data/2023-10-26/UDP_Bandlock_9S_Phone_Airport/sm04/#02/data/udp_uplk_loss_latency.csv\n",
      "62/216 /home/wmnlab/jackbedford/data/2023-10-26/UDP_Bandlock_9S_Phone_Airport/sm05/#02/data/handover_info_log.csv\n",
      "62/216 /home/wmnlab/jackbedford/data/2023-10-26/UDP_Bandlock_9S_Phone_Airport/sm05/#02/data/udp_dnlk_loss_latency.csv\n",
      "62/216 /home/wmnlab/jackbedford/data/2023-10-26/UDP_Bandlock_9S_Phone_Airport/sm05/#02/data/udp_uplk_loss_latency.csv\n"
     ]
    },
    {
     "data": {
      "application/vnd.jupyter.widget-view+json": {
       "model_id": "5ee4a1cfc86446e2947e3d783466f988",
       "version_major": 2,
       "version_minor": 0
      },
      "text/plain": [
       "  0%|                                                                                                         …"
      ]
     },
     "metadata": {},
     "output_type": "display_data"
    },
    {
     "name": "stdout",
     "output_type": "stream",
     "text": [
      "./20240312_150032342e_newest/20240314_060073cc2b/results/20240314_07552300000_3eeecdf13ff695a6_adjust/\\home\\wmnlab\\jackbedford\\data\\2023-10-26\\UDP_Bandlock_9S_Phone_Airport\\sm04\\#02\\data\\udp_dnlk_loss_latency\\home\\wmnlab\\jackbedford\\data\\2023-10-26\\UDP_Bandlock_9S_Phone_Airport\\sm05\\#02\\data\\udp_dnlk_loss_latency.csv\n",
      "63/216 /home/wmnlab/jackbedford/data/2023-10-26/UDP_Bandlock_9S_Phone_Airport/sm04/#02/data/handover_info_log.csv\n",
      "63/216 /home/wmnlab/jackbedford/data/2023-10-26/UDP_Bandlock_9S_Phone_Airport/sm04/#02/data/udp_dnlk_loss_latency.csv\n",
      "63/216 /home/wmnlab/jackbedford/data/2023-10-26/UDP_Bandlock_9S_Phone_Airport/sm04/#02/data/udp_uplk_loss_latency.csv\n",
      "63/216 /home/wmnlab/jackbedford/data/2023-10-26/UDP_Bandlock_9S_Phone_Airport/sm06/#02/data/handover_info_log.csv\n",
      "63/216 /home/wmnlab/jackbedford/data/2023-10-26/UDP_Bandlock_9S_Phone_Airport/sm06/#02/data/udp_dnlk_loss_latency.csv\n",
      "63/216 /home/wmnlab/jackbedford/data/2023-10-26/UDP_Bandlock_9S_Phone_Airport/sm06/#02/data/udp_uplk_loss_latency.csv\n"
     ]
    },
    {
     "data": {
      "application/vnd.jupyter.widget-view+json": {
       "model_id": "c3c39d312ce440888cb88898607ad064",
       "version_major": 2,
       "version_minor": 0
      },
      "text/plain": [
       "  0%|                                                                                                         …"
      ]
     },
     "metadata": {},
     "output_type": "display_data"
    },
    {
     "name": "stdout",
     "output_type": "stream",
     "text": [
      "./20240312_150032342e_newest/20240314_060073cc2b/results/20240314_07552300000_3eeecdf13ff695a6_adjust/\\home\\wmnlab\\jackbedford\\data\\2023-10-26\\UDP_Bandlock_9S_Phone_Airport\\sm04\\#02\\data\\udp_dnlk_loss_latency\\home\\wmnlab\\jackbedford\\data\\2023-10-26\\UDP_Bandlock_9S_Phone_Airport\\sm06\\#02\\data\\udp_dnlk_loss_latency.csv\n",
      "64/216 /home/wmnlab/jackbedford/data/2023-10-26/UDP_Bandlock_9S_Phone_Airport/sm04/#02/data/handover_info_log.csv\n",
      "64/216 /home/wmnlab/jackbedford/data/2023-10-26/UDP_Bandlock_9S_Phone_Airport/sm04/#02/data/udp_dnlk_loss_latency.csv\n",
      "64/216 /home/wmnlab/jackbedford/data/2023-10-26/UDP_Bandlock_9S_Phone_Airport/sm04/#02/data/udp_uplk_loss_latency.csv\n",
      "64/216 /home/wmnlab/jackbedford/data/2023-10-26/UDP_Bandlock_9S_Phone_Airport/sm07/#02/data/handover_info_log.csv\n",
      "64/216 /home/wmnlab/jackbedford/data/2023-10-26/UDP_Bandlock_9S_Phone_Airport/sm07/#02/data/udp_dnlk_loss_latency.csv\n",
      "64/216 /home/wmnlab/jackbedford/data/2023-10-26/UDP_Bandlock_9S_Phone_Airport/sm07/#02/data/udp_uplk_loss_latency.csv\n"
     ]
    },
    {
     "data": {
      "application/vnd.jupyter.widget-view+json": {
       "model_id": "3c09c3d552494c15b1a3dc5e1d145a11",
       "version_major": 2,
       "version_minor": 0
      },
      "text/plain": [
       "  0%|                                                                                                         …"
      ]
     },
     "metadata": {},
     "output_type": "display_data"
    },
    {
     "name": "stdout",
     "output_type": "stream",
     "text": [
      "./20240312_150032342e_newest/20240314_060073cc2b/results/20240314_07552300000_3eeecdf13ff695a6_adjust/\\home\\wmnlab\\jackbedford\\data\\2023-10-26\\UDP_Bandlock_9S_Phone_Airport\\sm04\\#02\\data\\udp_dnlk_loss_latency\\home\\wmnlab\\jackbedford\\data\\2023-10-26\\UDP_Bandlock_9S_Phone_Airport\\sm07\\#02\\data\\udp_dnlk_loss_latency.csv\n",
      "65/216 /home/wmnlab/jackbedford/data/2023-10-26/UDP_Bandlock_9S_Phone_Airport/sm04/#02/data/handover_info_log.csv\n",
      "65/216 /home/wmnlab/jackbedford/data/2023-10-26/UDP_Bandlock_9S_Phone_Airport/sm04/#02/data/udp_dnlk_loss_latency.csv\n",
      "65/216 /home/wmnlab/jackbedford/data/2023-10-26/UDP_Bandlock_9S_Phone_Airport/sm04/#02/data/udp_uplk_loss_latency.csv\n",
      "65/216 /home/wmnlab/jackbedford/data/2023-10-26/UDP_Bandlock_9S_Phone_Airport/sm08/#02/data/handover_info_log.csv\n",
      "65/216 /home/wmnlab/jackbedford/data/2023-10-26/UDP_Bandlock_9S_Phone_Airport/sm08/#02/data/udp_dnlk_loss_latency.csv\n",
      "65/216 /home/wmnlab/jackbedford/data/2023-10-26/UDP_Bandlock_9S_Phone_Airport/sm08/#02/data/udp_uplk_loss_latency.csv\n"
     ]
    },
    {
     "data": {
      "application/vnd.jupyter.widget-view+json": {
       "model_id": "74cc418c1ed04b268c63e1ec4bbed5ec",
       "version_major": 2,
       "version_minor": 0
      },
      "text/plain": [
       "  0%|                                                                                                         …"
      ]
     },
     "metadata": {},
     "output_type": "display_data"
    },
    {
     "name": "stdout",
     "output_type": "stream",
     "text": [
      "./20240312_150032342e_newest/20240314_060073cc2b/results/20240314_07552300000_3eeecdf13ff695a6_adjust/\\home\\wmnlab\\jackbedford\\data\\2023-10-26\\UDP_Bandlock_9S_Phone_Airport\\sm04\\#02\\data\\udp_dnlk_loss_latency\\home\\wmnlab\\jackbedford\\data\\2023-10-26\\UDP_Bandlock_9S_Phone_Airport\\sm08\\#02\\data\\udp_dnlk_loss_latency.csv\n",
      "66/216 /home/wmnlab/jackbedford/data/2023-10-26/UDP_Bandlock_9S_Phone_Airport/sm05/#02/data/handover_info_log.csv\n",
      "66/216 /home/wmnlab/jackbedford/data/2023-10-26/UDP_Bandlock_9S_Phone_Airport/sm05/#02/data/udp_dnlk_loss_latency.csv\n",
      "66/216 /home/wmnlab/jackbedford/data/2023-10-26/UDP_Bandlock_9S_Phone_Airport/sm05/#02/data/udp_uplk_loss_latency.csv\n",
      "66/216 /home/wmnlab/jackbedford/data/2023-10-26/UDP_Bandlock_9S_Phone_Airport/sm06/#02/data/handover_info_log.csv\n",
      "66/216 /home/wmnlab/jackbedford/data/2023-10-26/UDP_Bandlock_9S_Phone_Airport/sm06/#02/data/udp_dnlk_loss_latency.csv\n",
      "66/216 /home/wmnlab/jackbedford/data/2023-10-26/UDP_Bandlock_9S_Phone_Airport/sm06/#02/data/udp_uplk_loss_latency.csv\n"
     ]
    },
    {
     "data": {
      "application/vnd.jupyter.widget-view+json": {
       "model_id": "0cc9ae7cfed540d4bc140a5b16763ecb",
       "version_major": 2,
       "version_minor": 0
      },
      "text/plain": [
       "  0%|                                                                                                         …"
      ]
     },
     "metadata": {},
     "output_type": "display_data"
    },
    {
     "name": "stdout",
     "output_type": "stream",
     "text": [
      "./20240312_150032342e_newest/20240314_060073cc2b/results/20240314_07552300000_3eeecdf13ff695a6_adjust/\\home\\wmnlab\\jackbedford\\data\\2023-10-26\\UDP_Bandlock_9S_Phone_Airport\\sm05\\#02\\data\\udp_dnlk_loss_latency\\home\\wmnlab\\jackbedford\\data\\2023-10-26\\UDP_Bandlock_9S_Phone_Airport\\sm06\\#02\\data\\udp_dnlk_loss_latency.csv\n",
      "67/216 /home/wmnlab/jackbedford/data/2023-10-26/UDP_Bandlock_9S_Phone_Airport/sm05/#02/data/handover_info_log.csv\n",
      "67/216 /home/wmnlab/jackbedford/data/2023-10-26/UDP_Bandlock_9S_Phone_Airport/sm05/#02/data/udp_dnlk_loss_latency.csv\n",
      "67/216 /home/wmnlab/jackbedford/data/2023-10-26/UDP_Bandlock_9S_Phone_Airport/sm05/#02/data/udp_uplk_loss_latency.csv\n",
      "67/216 /home/wmnlab/jackbedford/data/2023-10-26/UDP_Bandlock_9S_Phone_Airport/sm07/#02/data/handover_info_log.csv\n",
      "67/216 /home/wmnlab/jackbedford/data/2023-10-26/UDP_Bandlock_9S_Phone_Airport/sm07/#02/data/udp_dnlk_loss_latency.csv\n",
      "67/216 /home/wmnlab/jackbedford/data/2023-10-26/UDP_Bandlock_9S_Phone_Airport/sm07/#02/data/udp_uplk_loss_latency.csv\n"
     ]
    },
    {
     "data": {
      "application/vnd.jupyter.widget-view+json": {
       "model_id": "2c1a558925094009a41d60204df9287e",
       "version_major": 2,
       "version_minor": 0
      },
      "text/plain": [
       "  0%|                                                                                                         …"
      ]
     },
     "metadata": {},
     "output_type": "display_data"
    },
    {
     "name": "stdout",
     "output_type": "stream",
     "text": [
      "./20240312_150032342e_newest/20240314_060073cc2b/results/20240314_07552300000_3eeecdf13ff695a6_adjust/\\home\\wmnlab\\jackbedford\\data\\2023-10-26\\UDP_Bandlock_9S_Phone_Airport\\sm05\\#02\\data\\udp_dnlk_loss_latency\\home\\wmnlab\\jackbedford\\data\\2023-10-26\\UDP_Bandlock_9S_Phone_Airport\\sm07\\#02\\data\\udp_dnlk_loss_latency.csv\n",
      "68/216 /home/wmnlab/jackbedford/data/2023-10-26/UDP_Bandlock_9S_Phone_Airport/sm05/#02/data/handover_info_log.csv\n",
      "68/216 /home/wmnlab/jackbedford/data/2023-10-26/UDP_Bandlock_9S_Phone_Airport/sm05/#02/data/udp_dnlk_loss_latency.csv\n",
      "68/216 /home/wmnlab/jackbedford/data/2023-10-26/UDP_Bandlock_9S_Phone_Airport/sm05/#02/data/udp_uplk_loss_latency.csv\n",
      "68/216 /home/wmnlab/jackbedford/data/2023-10-26/UDP_Bandlock_9S_Phone_Airport/sm08/#02/data/handover_info_log.csv\n",
      "68/216 /home/wmnlab/jackbedford/data/2023-10-26/UDP_Bandlock_9S_Phone_Airport/sm08/#02/data/udp_dnlk_loss_latency.csv\n",
      "68/216 /home/wmnlab/jackbedford/data/2023-10-26/UDP_Bandlock_9S_Phone_Airport/sm08/#02/data/udp_uplk_loss_latency.csv\n"
     ]
    },
    {
     "data": {
      "application/vnd.jupyter.widget-view+json": {
       "model_id": "f9f13a1c59794924b13cb244fe686633",
       "version_major": 2,
       "version_minor": 0
      },
      "text/plain": [
       "  0%|                                                                                                         …"
      ]
     },
     "metadata": {},
     "output_type": "display_data"
    },
    {
     "name": "stdout",
     "output_type": "stream",
     "text": [
      "./20240312_150032342e_newest/20240314_060073cc2b/results/20240314_07552300000_3eeecdf13ff695a6_adjust/\\home\\wmnlab\\jackbedford\\data\\2023-10-26\\UDP_Bandlock_9S_Phone_Airport\\sm05\\#02\\data\\udp_dnlk_loss_latency\\home\\wmnlab\\jackbedford\\data\\2023-10-26\\UDP_Bandlock_9S_Phone_Airport\\sm08\\#02\\data\\udp_dnlk_loss_latency.csv\n",
      "69/216 /home/wmnlab/jackbedford/data/2023-10-26/UDP_Bandlock_9S_Phone_Airport/sm06/#02/data/handover_info_log.csv\n",
      "69/216 /home/wmnlab/jackbedford/data/2023-10-26/UDP_Bandlock_9S_Phone_Airport/sm06/#02/data/udp_dnlk_loss_latency.csv\n",
      "69/216 /home/wmnlab/jackbedford/data/2023-10-26/UDP_Bandlock_9S_Phone_Airport/sm06/#02/data/udp_uplk_loss_latency.csv\n",
      "69/216 /home/wmnlab/jackbedford/data/2023-10-26/UDP_Bandlock_9S_Phone_Airport/sm07/#02/data/handover_info_log.csv\n",
      "69/216 /home/wmnlab/jackbedford/data/2023-10-26/UDP_Bandlock_9S_Phone_Airport/sm07/#02/data/udp_dnlk_loss_latency.csv\n",
      "69/216 /home/wmnlab/jackbedford/data/2023-10-26/UDP_Bandlock_9S_Phone_Airport/sm07/#02/data/udp_uplk_loss_latency.csv\n"
     ]
    },
    {
     "data": {
      "application/vnd.jupyter.widget-view+json": {
       "model_id": "7de3f27b23ac494296147f351d68015c",
       "version_major": 2,
       "version_minor": 0
      },
      "text/plain": [
       "  0%|                                                                                                         …"
      ]
     },
     "metadata": {},
     "output_type": "display_data"
    },
    {
     "name": "stdout",
     "output_type": "stream",
     "text": [
      "./20240312_150032342e_newest/20240314_060073cc2b/results/20240314_07552300000_3eeecdf13ff695a6_adjust/\\home\\wmnlab\\jackbedford\\data\\2023-10-26\\UDP_Bandlock_9S_Phone_Airport\\sm06\\#02\\data\\udp_dnlk_loss_latency\\home\\wmnlab\\jackbedford\\data\\2023-10-26\\UDP_Bandlock_9S_Phone_Airport\\sm07\\#02\\data\\udp_dnlk_loss_latency.csv\n",
      "70/216 /home/wmnlab/jackbedford/data/2023-10-26/UDP_Bandlock_9S_Phone_Airport/sm06/#02/data/handover_info_log.csv\n",
      "70/216 /home/wmnlab/jackbedford/data/2023-10-26/UDP_Bandlock_9S_Phone_Airport/sm06/#02/data/udp_dnlk_loss_latency.csv\n",
      "70/216 /home/wmnlab/jackbedford/data/2023-10-26/UDP_Bandlock_9S_Phone_Airport/sm06/#02/data/udp_uplk_loss_latency.csv\n",
      "70/216 /home/wmnlab/jackbedford/data/2023-10-26/UDP_Bandlock_9S_Phone_Airport/sm08/#02/data/handover_info_log.csv\n",
      "70/216 /home/wmnlab/jackbedford/data/2023-10-26/UDP_Bandlock_9S_Phone_Airport/sm08/#02/data/udp_dnlk_loss_latency.csv\n",
      "70/216 /home/wmnlab/jackbedford/data/2023-10-26/UDP_Bandlock_9S_Phone_Airport/sm08/#02/data/udp_uplk_loss_latency.csv\n"
     ]
    },
    {
     "data": {
      "application/vnd.jupyter.widget-view+json": {
       "model_id": "34815e3cb46d4985ac1118d348eea00b",
       "version_major": 2,
       "version_minor": 0
      },
      "text/plain": [
       "  0%|                                                                                                         …"
      ]
     },
     "metadata": {},
     "output_type": "display_data"
    },
    {
     "name": "stdout",
     "output_type": "stream",
     "text": [
      "./20240312_150032342e_newest/20240314_060073cc2b/results/20240314_07552300000_3eeecdf13ff695a6_adjust/\\home\\wmnlab\\jackbedford\\data\\2023-10-26\\UDP_Bandlock_9S_Phone_Airport\\sm06\\#02\\data\\udp_dnlk_loss_latency\\home\\wmnlab\\jackbedford\\data\\2023-10-26\\UDP_Bandlock_9S_Phone_Airport\\sm08\\#02\\data\\udp_dnlk_loss_latency.csv\n",
      "71/216 /home/wmnlab/jackbedford/data/2023-10-26/UDP_Bandlock_9S_Phone_Airport/sm07/#02/data/handover_info_log.csv\n",
      "71/216 /home/wmnlab/jackbedford/data/2023-10-26/UDP_Bandlock_9S_Phone_Airport/sm07/#02/data/udp_dnlk_loss_latency.csv\n",
      "71/216 /home/wmnlab/jackbedford/data/2023-10-26/UDP_Bandlock_9S_Phone_Airport/sm07/#02/data/udp_uplk_loss_latency.csv\n",
      "71/216 /home/wmnlab/jackbedford/data/2023-10-26/UDP_Bandlock_9S_Phone_Airport/sm08/#02/data/handover_info_log.csv\n",
      "71/216 /home/wmnlab/jackbedford/data/2023-10-26/UDP_Bandlock_9S_Phone_Airport/sm08/#02/data/udp_dnlk_loss_latency.csv\n",
      "71/216 /home/wmnlab/jackbedford/data/2023-10-26/UDP_Bandlock_9S_Phone_Airport/sm08/#02/data/udp_uplk_loss_latency.csv\n"
     ]
    },
    {
     "data": {
      "application/vnd.jupyter.widget-view+json": {
       "model_id": "cf897543cad04424a7bcb39c30ffafc3",
       "version_major": 2,
       "version_minor": 0
      },
      "text/plain": [
       "  0%|                                                                                                         …"
      ]
     },
     "metadata": {},
     "output_type": "display_data"
    },
    {
     "name": "stdout",
     "output_type": "stream",
     "text": [
      "./20240312_150032342e_newest/20240314_060073cc2b/results/20240314_07552300000_3eeecdf13ff695a6_adjust/\\home\\wmnlab\\jackbedford\\data\\2023-10-26\\UDP_Bandlock_9S_Phone_Airport\\sm07\\#02\\data\\udp_dnlk_loss_latency\\home\\wmnlab\\jackbedford\\data\\2023-10-26\\UDP_Bandlock_9S_Phone_Airport\\sm08\\#02\\data\\udp_dnlk_loss_latency.csv\n",
      "72/216 /home/wmnlab/jackbedford/data/2023-11-01/UDP_Bandlock_9S_Phone_Airport/sm00/#01/data/handover_info_log.csv\n",
      "72/216 /home/wmnlab/jackbedford/data/2023-11-01/UDP_Bandlock_9S_Phone_Airport/sm00/#01/data/udp_dnlk_loss_latency.csv\n",
      "72/216 /home/wmnlab/jackbedford/data/2023-11-01/UDP_Bandlock_9S_Phone_Airport/sm00/#01/data/udp_uplk_loss_latency.csv\n",
      "72/216 /home/wmnlab/jackbedford/data/2023-11-01/UDP_Bandlock_9S_Phone_Airport/sm01/#01/data/handover_info_log.csv\n",
      "72/216 /home/wmnlab/jackbedford/data/2023-11-01/UDP_Bandlock_9S_Phone_Airport/sm01/#01/data/udp_dnlk_loss_latency.csv\n",
      "72/216 /home/wmnlab/jackbedford/data/2023-11-01/UDP_Bandlock_9S_Phone_Airport/sm01/#01/data/udp_uplk_loss_latency.csv\n"
     ]
    },
    {
     "data": {
      "application/vnd.jupyter.widget-view+json": {
       "model_id": "4012d09904a04748962d94342fd39d45",
       "version_major": 2,
       "version_minor": 0
      },
      "text/plain": [
       "  0%|                                                                                                         …"
      ]
     },
     "metadata": {},
     "output_type": "display_data"
    },
    {
     "name": "stdout",
     "output_type": "stream",
     "text": [
      "./20240312_150032342e_newest/20240314_060073cc2b/results/20240314_07552300000_3eeecdf13ff695a6_adjust/\\home\\wmnlab\\jackbedford\\data\\2023-11-01\\UDP_Bandlock_9S_Phone_Airport\\sm00\\#01\\data\\udp_dnlk_loss_latency\\home\\wmnlab\\jackbedford\\data\\2023-11-01\\UDP_Bandlock_9S_Phone_Airport\\sm01\\#01\\data\\udp_dnlk_loss_latency.csv\n",
      "73/216 /home/wmnlab/jackbedford/data/2023-11-01/UDP_Bandlock_9S_Phone_Airport/sm00/#01/data/handover_info_log.csv\n",
      "73/216 /home/wmnlab/jackbedford/data/2023-11-01/UDP_Bandlock_9S_Phone_Airport/sm00/#01/data/udp_dnlk_loss_latency.csv\n",
      "73/216 /home/wmnlab/jackbedford/data/2023-11-01/UDP_Bandlock_9S_Phone_Airport/sm00/#01/data/udp_uplk_loss_latency.csv\n",
      "73/216 /home/wmnlab/jackbedford/data/2023-11-01/UDP_Bandlock_9S_Phone_Airport/sm02/#01/data/handover_info_log.csv\n",
      "73/216 /home/wmnlab/jackbedford/data/2023-11-01/UDP_Bandlock_9S_Phone_Airport/sm02/#01/data/udp_dnlk_loss_latency.csv\n",
      "73/216 /home/wmnlab/jackbedford/data/2023-11-01/UDP_Bandlock_9S_Phone_Airport/sm02/#01/data/udp_uplk_loss_latency.csv\n"
     ]
    },
    {
     "data": {
      "application/vnd.jupyter.widget-view+json": {
       "model_id": "13117c10d5394653a9f9082c2b12368c",
       "version_major": 2,
       "version_minor": 0
      },
      "text/plain": [
       "  0%|                                                                                                         …"
      ]
     },
     "metadata": {},
     "output_type": "display_data"
    },
    {
     "name": "stdout",
     "output_type": "stream",
     "text": [
      "./20240312_150032342e_newest/20240314_060073cc2b/results/20240314_07552300000_3eeecdf13ff695a6_adjust/\\home\\wmnlab\\jackbedford\\data\\2023-11-01\\UDP_Bandlock_9S_Phone_Airport\\sm00\\#01\\data\\udp_dnlk_loss_latency\\home\\wmnlab\\jackbedford\\data\\2023-11-01\\UDP_Bandlock_9S_Phone_Airport\\sm02\\#01\\data\\udp_dnlk_loss_latency.csv\n",
      "74/216 /home/wmnlab/jackbedford/data/2023-11-01/UDP_Bandlock_9S_Phone_Airport/sm00/#01/data/handover_info_log.csv\n",
      "74/216 /home/wmnlab/jackbedford/data/2023-11-01/UDP_Bandlock_9S_Phone_Airport/sm00/#01/data/udp_dnlk_loss_latency.csv\n",
      "74/216 /home/wmnlab/jackbedford/data/2023-11-01/UDP_Bandlock_9S_Phone_Airport/sm00/#01/data/udp_uplk_loss_latency.csv\n",
      "74/216 /home/wmnlab/jackbedford/data/2023-11-01/UDP_Bandlock_9S_Phone_Airport/sm03/#01/data/handover_info_log.csv\n",
      "74/216 /home/wmnlab/jackbedford/data/2023-11-01/UDP_Bandlock_9S_Phone_Airport/sm03/#01/data/udp_dnlk_loss_latency.csv\n",
      "74/216 /home/wmnlab/jackbedford/data/2023-11-01/UDP_Bandlock_9S_Phone_Airport/sm03/#01/data/udp_uplk_loss_latency.csv\n"
     ]
    },
    {
     "data": {
      "application/vnd.jupyter.widget-view+json": {
       "model_id": "7175214d08f94678b10a7c6eee6dd092",
       "version_major": 2,
       "version_minor": 0
      },
      "text/plain": [
       "  0%|                                                                                                         …"
      ]
     },
     "metadata": {},
     "output_type": "display_data"
    },
    {
     "name": "stdout",
     "output_type": "stream",
     "text": [
      "./20240312_150032342e_newest/20240314_060073cc2b/results/20240314_07552300000_3eeecdf13ff695a6_adjust/\\home\\wmnlab\\jackbedford\\data\\2023-11-01\\UDP_Bandlock_9S_Phone_Airport\\sm00\\#01\\data\\udp_dnlk_loss_latency\\home\\wmnlab\\jackbedford\\data\\2023-11-01\\UDP_Bandlock_9S_Phone_Airport\\sm03\\#01\\data\\udp_dnlk_loss_latency.csv\n",
      "75/216 /home/wmnlab/jackbedford/data/2023-11-01/UDP_Bandlock_9S_Phone_Airport/sm00/#01/data/handover_info_log.csv\n",
      "75/216 /home/wmnlab/jackbedford/data/2023-11-01/UDP_Bandlock_9S_Phone_Airport/sm00/#01/data/udp_dnlk_loss_latency.csv\n",
      "75/216 /home/wmnlab/jackbedford/data/2023-11-01/UDP_Bandlock_9S_Phone_Airport/sm00/#01/data/udp_uplk_loss_latency.csv\n",
      "75/216 /home/wmnlab/jackbedford/data/2023-11-01/UDP_Bandlock_9S_Phone_Airport/sm04/#01/data/handover_info_log.csv\n",
      "75/216 /home/wmnlab/jackbedford/data/2023-11-01/UDP_Bandlock_9S_Phone_Airport/sm04/#01/data/udp_dnlk_loss_latency.csv\n",
      "75/216 /home/wmnlab/jackbedford/data/2023-11-01/UDP_Bandlock_9S_Phone_Airport/sm04/#01/data/udp_uplk_loss_latency.csv\n"
     ]
    },
    {
     "data": {
      "application/vnd.jupyter.widget-view+json": {
       "model_id": "c8b7c684677e48139d59d8fff91f0cb2",
       "version_major": 2,
       "version_minor": 0
      },
      "text/plain": [
       "  0%|                                                                                                         …"
      ]
     },
     "metadata": {},
     "output_type": "display_data"
    },
    {
     "name": "stdout",
     "output_type": "stream",
     "text": [
      "./20240312_150032342e_newest/20240314_060073cc2b/results/20240314_07552300000_3eeecdf13ff695a6_adjust/\\home\\wmnlab\\jackbedford\\data\\2023-11-01\\UDP_Bandlock_9S_Phone_Airport\\sm00\\#01\\data\\udp_dnlk_loss_latency\\home\\wmnlab\\jackbedford\\data\\2023-11-01\\UDP_Bandlock_9S_Phone_Airport\\sm04\\#01\\data\\udp_dnlk_loss_latency.csv\n",
      "76/216 /home/wmnlab/jackbedford/data/2023-11-01/UDP_Bandlock_9S_Phone_Airport/sm00/#01/data/handover_info_log.csv\n",
      "76/216 /home/wmnlab/jackbedford/data/2023-11-01/UDP_Bandlock_9S_Phone_Airport/sm00/#01/data/udp_dnlk_loss_latency.csv\n",
      "76/216 /home/wmnlab/jackbedford/data/2023-11-01/UDP_Bandlock_9S_Phone_Airport/sm00/#01/data/udp_uplk_loss_latency.csv\n",
      "76/216 /home/wmnlab/jackbedford/data/2023-11-01/UDP_Bandlock_9S_Phone_Airport/sm05/#01/data/handover_info_log.csv\n",
      "76/216 /home/wmnlab/jackbedford/data/2023-11-01/UDP_Bandlock_9S_Phone_Airport/sm05/#01/data/udp_dnlk_loss_latency.csv\n",
      "76/216 /home/wmnlab/jackbedford/data/2023-11-01/UDP_Bandlock_9S_Phone_Airport/sm05/#01/data/udp_uplk_loss_latency.csv\n"
     ]
    },
    {
     "data": {
      "application/vnd.jupyter.widget-view+json": {
       "model_id": "61d0c5f5ab794193bf50928f88fa459e",
       "version_major": 2,
       "version_minor": 0
      },
      "text/plain": [
       "  0%|                                                                                                         …"
      ]
     },
     "metadata": {},
     "output_type": "display_data"
    },
    {
     "name": "stdout",
     "output_type": "stream",
     "text": [
      "./20240312_150032342e_newest/20240314_060073cc2b/results/20240314_07552300000_3eeecdf13ff695a6_adjust/\\home\\wmnlab\\jackbedford\\data\\2023-11-01\\UDP_Bandlock_9S_Phone_Airport\\sm00\\#01\\data\\udp_dnlk_loss_latency\\home\\wmnlab\\jackbedford\\data\\2023-11-01\\UDP_Bandlock_9S_Phone_Airport\\sm05\\#01\\data\\udp_dnlk_loss_latency.csv\n",
      "77/216 /home/wmnlab/jackbedford/data/2023-11-01/UDP_Bandlock_9S_Phone_Airport/sm00/#01/data/handover_info_log.csv\n",
      "77/216 /home/wmnlab/jackbedford/data/2023-11-01/UDP_Bandlock_9S_Phone_Airport/sm00/#01/data/udp_dnlk_loss_latency.csv\n",
      "77/216 /home/wmnlab/jackbedford/data/2023-11-01/UDP_Bandlock_9S_Phone_Airport/sm00/#01/data/udp_uplk_loss_latency.csv\n",
      "77/216 /home/wmnlab/jackbedford/data/2023-11-01/UDP_Bandlock_9S_Phone_Airport/sm06/#01/data/handover_info_log.csv\n",
      "77/216 /home/wmnlab/jackbedford/data/2023-11-01/UDP_Bandlock_9S_Phone_Airport/sm06/#01/data/udp_dnlk_loss_latency.csv\n",
      "77/216 /home/wmnlab/jackbedford/data/2023-11-01/UDP_Bandlock_9S_Phone_Airport/sm06/#01/data/udp_uplk_loss_latency.csv\n"
     ]
    },
    {
     "data": {
      "application/vnd.jupyter.widget-view+json": {
       "model_id": "fec7d3aff2dc4445b9c04de4f499fbed",
       "version_major": 2,
       "version_minor": 0
      },
      "text/plain": [
       "  0%|                                                                                                         …"
      ]
     },
     "metadata": {},
     "output_type": "display_data"
    },
    {
     "name": "stdout",
     "output_type": "stream",
     "text": [
      "./20240312_150032342e_newest/20240314_060073cc2b/results/20240314_07552300000_3eeecdf13ff695a6_adjust/\\home\\wmnlab\\jackbedford\\data\\2023-11-01\\UDP_Bandlock_9S_Phone_Airport\\sm00\\#01\\data\\udp_dnlk_loss_latency\\home\\wmnlab\\jackbedford\\data\\2023-11-01\\UDP_Bandlock_9S_Phone_Airport\\sm06\\#01\\data\\udp_dnlk_loss_latency.csv\n",
      "78/216 /home/wmnlab/jackbedford/data/2023-11-01/UDP_Bandlock_9S_Phone_Airport/sm00/#01/data/handover_info_log.csv\n",
      "78/216 /home/wmnlab/jackbedford/data/2023-11-01/UDP_Bandlock_9S_Phone_Airport/sm00/#01/data/udp_dnlk_loss_latency.csv\n",
      "78/216 /home/wmnlab/jackbedford/data/2023-11-01/UDP_Bandlock_9S_Phone_Airport/sm00/#01/data/udp_uplk_loss_latency.csv\n",
      "78/216 /home/wmnlab/jackbedford/data/2023-11-01/UDP_Bandlock_9S_Phone_Airport/sm07/#01/data/handover_info_log.csv\n",
      "78/216 /home/wmnlab/jackbedford/data/2023-11-01/UDP_Bandlock_9S_Phone_Airport/sm07/#01/data/udp_dnlk_loss_latency.csv\n",
      "78/216 /home/wmnlab/jackbedford/data/2023-11-01/UDP_Bandlock_9S_Phone_Airport/sm07/#01/data/udp_uplk_loss_latency.csv\n"
     ]
    },
    {
     "data": {
      "application/vnd.jupyter.widget-view+json": {
       "model_id": "8eb50f8d4c774f49b4d2ae96734bd7e4",
       "version_major": 2,
       "version_minor": 0
      },
      "text/plain": [
       "  0%|                                                                                                         …"
      ]
     },
     "metadata": {},
     "output_type": "display_data"
    },
    {
     "name": "stdout",
     "output_type": "stream",
     "text": [
      "./20240312_150032342e_newest/20240314_060073cc2b/results/20240314_07552300000_3eeecdf13ff695a6_adjust/\\home\\wmnlab\\jackbedford\\data\\2023-11-01\\UDP_Bandlock_9S_Phone_Airport\\sm00\\#01\\data\\udp_dnlk_loss_latency\\home\\wmnlab\\jackbedford\\data\\2023-11-01\\UDP_Bandlock_9S_Phone_Airport\\sm07\\#01\\data\\udp_dnlk_loss_latency.csv\n",
      "79/216 /home/wmnlab/jackbedford/data/2023-11-01/UDP_Bandlock_9S_Phone_Airport/sm00/#01/data/handover_info_log.csv\n",
      "79/216 /home/wmnlab/jackbedford/data/2023-11-01/UDP_Bandlock_9S_Phone_Airport/sm00/#01/data/udp_dnlk_loss_latency.csv\n",
      "79/216 /home/wmnlab/jackbedford/data/2023-11-01/UDP_Bandlock_9S_Phone_Airport/sm00/#01/data/udp_uplk_loss_latency.csv\n",
      "79/216 /home/wmnlab/jackbedford/data/2023-11-01/UDP_Bandlock_9S_Phone_Airport/sm08/#01/data/handover_info_log.csv\n",
      "79/216 /home/wmnlab/jackbedford/data/2023-11-01/UDP_Bandlock_9S_Phone_Airport/sm08/#01/data/udp_dnlk_loss_latency.csv\n",
      "79/216 /home/wmnlab/jackbedford/data/2023-11-01/UDP_Bandlock_9S_Phone_Airport/sm08/#01/data/udp_uplk_loss_latency.csv\n"
     ]
    },
    {
     "data": {
      "application/vnd.jupyter.widget-view+json": {
       "model_id": "0240594ba7ae4beca0474d57eeae86f6",
       "version_major": 2,
       "version_minor": 0
      },
      "text/plain": [
       "  0%|                                                                                                         …"
      ]
     },
     "metadata": {},
     "output_type": "display_data"
    },
    {
     "name": "stdout",
     "output_type": "stream",
     "text": [
      "./20240312_150032342e_newest/20240314_060073cc2b/results/20240314_07552300000_3eeecdf13ff695a6_adjust/\\home\\wmnlab\\jackbedford\\data\\2023-11-01\\UDP_Bandlock_9S_Phone_Airport\\sm00\\#01\\data\\udp_dnlk_loss_latency\\home\\wmnlab\\jackbedford\\data\\2023-11-01\\UDP_Bandlock_9S_Phone_Airport\\sm08\\#01\\data\\udp_dnlk_loss_latency.csv\n",
      "80/216 /home/wmnlab/jackbedford/data/2023-11-01/UDP_Bandlock_9S_Phone_Airport/sm01/#01/data/handover_info_log.csv\n",
      "80/216 /home/wmnlab/jackbedford/data/2023-11-01/UDP_Bandlock_9S_Phone_Airport/sm01/#01/data/udp_dnlk_loss_latency.csv\n",
      "80/216 /home/wmnlab/jackbedford/data/2023-11-01/UDP_Bandlock_9S_Phone_Airport/sm01/#01/data/udp_uplk_loss_latency.csv\n",
      "80/216 /home/wmnlab/jackbedford/data/2023-11-01/UDP_Bandlock_9S_Phone_Airport/sm02/#01/data/handover_info_log.csv\n",
      "80/216 /home/wmnlab/jackbedford/data/2023-11-01/UDP_Bandlock_9S_Phone_Airport/sm02/#01/data/udp_dnlk_loss_latency.csv\n",
      "80/216 /home/wmnlab/jackbedford/data/2023-11-01/UDP_Bandlock_9S_Phone_Airport/sm02/#01/data/udp_uplk_loss_latency.csv\n"
     ]
    },
    {
     "data": {
      "application/vnd.jupyter.widget-view+json": {
       "model_id": "d12d51e75a854370b17ef232c3564457",
       "version_major": 2,
       "version_minor": 0
      },
      "text/plain": [
       "  0%|                                                                                                         …"
      ]
     },
     "metadata": {},
     "output_type": "display_data"
    },
    {
     "name": "stdout",
     "output_type": "stream",
     "text": [
      "./20240312_150032342e_newest/20240314_060073cc2b/results/20240314_07552300000_3eeecdf13ff695a6_adjust/\\home\\wmnlab\\jackbedford\\data\\2023-11-01\\UDP_Bandlock_9S_Phone_Airport\\sm01\\#01\\data\\udp_dnlk_loss_latency\\home\\wmnlab\\jackbedford\\data\\2023-11-01\\UDP_Bandlock_9S_Phone_Airport\\sm02\\#01\\data\\udp_dnlk_loss_latency.csv\n",
      "81/216 /home/wmnlab/jackbedford/data/2023-11-01/UDP_Bandlock_9S_Phone_Airport/sm01/#01/data/handover_info_log.csv\n",
      "81/216 /home/wmnlab/jackbedford/data/2023-11-01/UDP_Bandlock_9S_Phone_Airport/sm01/#01/data/udp_dnlk_loss_latency.csv\n",
      "81/216 /home/wmnlab/jackbedford/data/2023-11-01/UDP_Bandlock_9S_Phone_Airport/sm01/#01/data/udp_uplk_loss_latency.csv\n",
      "81/216 /home/wmnlab/jackbedford/data/2023-11-01/UDP_Bandlock_9S_Phone_Airport/sm03/#01/data/handover_info_log.csv\n",
      "81/216 /home/wmnlab/jackbedford/data/2023-11-01/UDP_Bandlock_9S_Phone_Airport/sm03/#01/data/udp_dnlk_loss_latency.csv\n",
      "81/216 /home/wmnlab/jackbedford/data/2023-11-01/UDP_Bandlock_9S_Phone_Airport/sm03/#01/data/udp_uplk_loss_latency.csv\n"
     ]
    },
    {
     "data": {
      "application/vnd.jupyter.widget-view+json": {
       "model_id": "c58d75baae844badbf885ce8371ab9fb",
       "version_major": 2,
       "version_minor": 0
      },
      "text/plain": [
       "  0%|                                                                                                         …"
      ]
     },
     "metadata": {},
     "output_type": "display_data"
    },
    {
     "name": "stdout",
     "output_type": "stream",
     "text": [
      "./20240312_150032342e_newest/20240314_060073cc2b/results/20240314_07552300000_3eeecdf13ff695a6_adjust/\\home\\wmnlab\\jackbedford\\data\\2023-11-01\\UDP_Bandlock_9S_Phone_Airport\\sm01\\#01\\data\\udp_dnlk_loss_latency\\home\\wmnlab\\jackbedford\\data\\2023-11-01\\UDP_Bandlock_9S_Phone_Airport\\sm03\\#01\\data\\udp_dnlk_loss_latency.csv\n",
      "82/216 /home/wmnlab/jackbedford/data/2023-11-01/UDP_Bandlock_9S_Phone_Airport/sm01/#01/data/handover_info_log.csv\n",
      "82/216 /home/wmnlab/jackbedford/data/2023-11-01/UDP_Bandlock_9S_Phone_Airport/sm01/#01/data/udp_dnlk_loss_latency.csv\n",
      "82/216 /home/wmnlab/jackbedford/data/2023-11-01/UDP_Bandlock_9S_Phone_Airport/sm01/#01/data/udp_uplk_loss_latency.csv\n",
      "82/216 /home/wmnlab/jackbedford/data/2023-11-01/UDP_Bandlock_9S_Phone_Airport/sm04/#01/data/handover_info_log.csv\n",
      "82/216 /home/wmnlab/jackbedford/data/2023-11-01/UDP_Bandlock_9S_Phone_Airport/sm04/#01/data/udp_dnlk_loss_latency.csv\n",
      "82/216 /home/wmnlab/jackbedford/data/2023-11-01/UDP_Bandlock_9S_Phone_Airport/sm04/#01/data/udp_uplk_loss_latency.csv\n"
     ]
    },
    {
     "data": {
      "application/vnd.jupyter.widget-view+json": {
       "model_id": "8969d229f6884be6a8e978c0bce6b2d7",
       "version_major": 2,
       "version_minor": 0
      },
      "text/plain": [
       "  0%|                                                                                                         …"
      ]
     },
     "metadata": {},
     "output_type": "display_data"
    },
    {
     "name": "stdout",
     "output_type": "stream",
     "text": [
      "./20240312_150032342e_newest/20240314_060073cc2b/results/20240314_07552300000_3eeecdf13ff695a6_adjust/\\home\\wmnlab\\jackbedford\\data\\2023-11-01\\UDP_Bandlock_9S_Phone_Airport\\sm01\\#01\\data\\udp_dnlk_loss_latency\\home\\wmnlab\\jackbedford\\data\\2023-11-01\\UDP_Bandlock_9S_Phone_Airport\\sm04\\#01\\data\\udp_dnlk_loss_latency.csv\n",
      "83/216 /home/wmnlab/jackbedford/data/2023-11-01/UDP_Bandlock_9S_Phone_Airport/sm01/#01/data/handover_info_log.csv\n",
      "83/216 /home/wmnlab/jackbedford/data/2023-11-01/UDP_Bandlock_9S_Phone_Airport/sm01/#01/data/udp_dnlk_loss_latency.csv\n",
      "83/216 /home/wmnlab/jackbedford/data/2023-11-01/UDP_Bandlock_9S_Phone_Airport/sm01/#01/data/udp_uplk_loss_latency.csv\n",
      "83/216 /home/wmnlab/jackbedford/data/2023-11-01/UDP_Bandlock_9S_Phone_Airport/sm05/#01/data/handover_info_log.csv\n",
      "83/216 /home/wmnlab/jackbedford/data/2023-11-01/UDP_Bandlock_9S_Phone_Airport/sm05/#01/data/udp_dnlk_loss_latency.csv\n",
      "83/216 /home/wmnlab/jackbedford/data/2023-11-01/UDP_Bandlock_9S_Phone_Airport/sm05/#01/data/udp_uplk_loss_latency.csv\n"
     ]
    },
    {
     "data": {
      "application/vnd.jupyter.widget-view+json": {
       "model_id": "0094f2d4b46744b78d0111cef559fdba",
       "version_major": 2,
       "version_minor": 0
      },
      "text/plain": [
       "  0%|                                                                                                         …"
      ]
     },
     "metadata": {},
     "output_type": "display_data"
    },
    {
     "name": "stdout",
     "output_type": "stream",
     "text": [
      "./20240312_150032342e_newest/20240314_060073cc2b/results/20240314_07552300000_3eeecdf13ff695a6_adjust/\\home\\wmnlab\\jackbedford\\data\\2023-11-01\\UDP_Bandlock_9S_Phone_Airport\\sm01\\#01\\data\\udp_dnlk_loss_latency\\home\\wmnlab\\jackbedford\\data\\2023-11-01\\UDP_Bandlock_9S_Phone_Airport\\sm05\\#01\\data\\udp_dnlk_loss_latency.csv\n",
      "84/216 /home/wmnlab/jackbedford/data/2023-11-01/UDP_Bandlock_9S_Phone_Airport/sm01/#01/data/handover_info_log.csv\n",
      "84/216 /home/wmnlab/jackbedford/data/2023-11-01/UDP_Bandlock_9S_Phone_Airport/sm01/#01/data/udp_dnlk_loss_latency.csv\n",
      "84/216 /home/wmnlab/jackbedford/data/2023-11-01/UDP_Bandlock_9S_Phone_Airport/sm01/#01/data/udp_uplk_loss_latency.csv\n",
      "84/216 /home/wmnlab/jackbedford/data/2023-11-01/UDP_Bandlock_9S_Phone_Airport/sm06/#01/data/handover_info_log.csv\n",
      "84/216 /home/wmnlab/jackbedford/data/2023-11-01/UDP_Bandlock_9S_Phone_Airport/sm06/#01/data/udp_dnlk_loss_latency.csv\n",
      "84/216 /home/wmnlab/jackbedford/data/2023-11-01/UDP_Bandlock_9S_Phone_Airport/sm06/#01/data/udp_uplk_loss_latency.csv\n"
     ]
    },
    {
     "data": {
      "application/vnd.jupyter.widget-view+json": {
       "model_id": "381c18553ba64fc892db6193b09962a1",
       "version_major": 2,
       "version_minor": 0
      },
      "text/plain": [
       "  0%|                                                                                                         …"
      ]
     },
     "metadata": {},
     "output_type": "display_data"
    },
    {
     "name": "stdout",
     "output_type": "stream",
     "text": [
      "./20240312_150032342e_newest/20240314_060073cc2b/results/20240314_07552300000_3eeecdf13ff695a6_adjust/\\home\\wmnlab\\jackbedford\\data\\2023-11-01\\UDP_Bandlock_9S_Phone_Airport\\sm01\\#01\\data\\udp_dnlk_loss_latency\\home\\wmnlab\\jackbedford\\data\\2023-11-01\\UDP_Bandlock_9S_Phone_Airport\\sm06\\#01\\data\\udp_dnlk_loss_latency.csv\n",
      "85/216 /home/wmnlab/jackbedford/data/2023-11-01/UDP_Bandlock_9S_Phone_Airport/sm01/#01/data/handover_info_log.csv\n",
      "85/216 /home/wmnlab/jackbedford/data/2023-11-01/UDP_Bandlock_9S_Phone_Airport/sm01/#01/data/udp_dnlk_loss_latency.csv\n",
      "85/216 /home/wmnlab/jackbedford/data/2023-11-01/UDP_Bandlock_9S_Phone_Airport/sm01/#01/data/udp_uplk_loss_latency.csv\n",
      "85/216 /home/wmnlab/jackbedford/data/2023-11-01/UDP_Bandlock_9S_Phone_Airport/sm07/#01/data/handover_info_log.csv\n",
      "85/216 /home/wmnlab/jackbedford/data/2023-11-01/UDP_Bandlock_9S_Phone_Airport/sm07/#01/data/udp_dnlk_loss_latency.csv\n",
      "85/216 /home/wmnlab/jackbedford/data/2023-11-01/UDP_Bandlock_9S_Phone_Airport/sm07/#01/data/udp_uplk_loss_latency.csv\n"
     ]
    },
    {
     "data": {
      "application/vnd.jupyter.widget-view+json": {
       "model_id": "e32581d964224c68841c0853d006258f",
       "version_major": 2,
       "version_minor": 0
      },
      "text/plain": [
       "  0%|                                                                                                         …"
      ]
     },
     "metadata": {},
     "output_type": "display_data"
    },
    {
     "name": "stdout",
     "output_type": "stream",
     "text": [
      "./20240312_150032342e_newest/20240314_060073cc2b/results/20240314_07552300000_3eeecdf13ff695a6_adjust/\\home\\wmnlab\\jackbedford\\data\\2023-11-01\\UDP_Bandlock_9S_Phone_Airport\\sm01\\#01\\data\\udp_dnlk_loss_latency\\home\\wmnlab\\jackbedford\\data\\2023-11-01\\UDP_Bandlock_9S_Phone_Airport\\sm07\\#01\\data\\udp_dnlk_loss_latency.csv\n",
      "86/216 /home/wmnlab/jackbedford/data/2023-11-01/UDP_Bandlock_9S_Phone_Airport/sm01/#01/data/handover_info_log.csv\n",
      "86/216 /home/wmnlab/jackbedford/data/2023-11-01/UDP_Bandlock_9S_Phone_Airport/sm01/#01/data/udp_dnlk_loss_latency.csv\n",
      "86/216 /home/wmnlab/jackbedford/data/2023-11-01/UDP_Bandlock_9S_Phone_Airport/sm01/#01/data/udp_uplk_loss_latency.csv\n",
      "86/216 /home/wmnlab/jackbedford/data/2023-11-01/UDP_Bandlock_9S_Phone_Airport/sm08/#01/data/handover_info_log.csv\n",
      "86/216 /home/wmnlab/jackbedford/data/2023-11-01/UDP_Bandlock_9S_Phone_Airport/sm08/#01/data/udp_dnlk_loss_latency.csv\n",
      "86/216 /home/wmnlab/jackbedford/data/2023-11-01/UDP_Bandlock_9S_Phone_Airport/sm08/#01/data/udp_uplk_loss_latency.csv\n"
     ]
    },
    {
     "data": {
      "application/vnd.jupyter.widget-view+json": {
       "model_id": "278e6c9862c84368b015ebecc083b3f9",
       "version_major": 2,
       "version_minor": 0
      },
      "text/plain": [
       "  0%|                                                                                                         …"
      ]
     },
     "metadata": {},
     "output_type": "display_data"
    },
    {
     "name": "stdout",
     "output_type": "stream",
     "text": [
      "./20240312_150032342e_newest/20240314_060073cc2b/results/20240314_07552300000_3eeecdf13ff695a6_adjust/\\home\\wmnlab\\jackbedford\\data\\2023-11-01\\UDP_Bandlock_9S_Phone_Airport\\sm01\\#01\\data\\udp_dnlk_loss_latency\\home\\wmnlab\\jackbedford\\data\\2023-11-01\\UDP_Bandlock_9S_Phone_Airport\\sm08\\#01\\data\\udp_dnlk_loss_latency.csv\n",
      "87/216 /home/wmnlab/jackbedford/data/2023-11-01/UDP_Bandlock_9S_Phone_Airport/sm02/#01/data/handover_info_log.csv\n",
      "87/216 /home/wmnlab/jackbedford/data/2023-11-01/UDP_Bandlock_9S_Phone_Airport/sm02/#01/data/udp_dnlk_loss_latency.csv\n",
      "87/216 /home/wmnlab/jackbedford/data/2023-11-01/UDP_Bandlock_9S_Phone_Airport/sm02/#01/data/udp_uplk_loss_latency.csv\n",
      "87/216 /home/wmnlab/jackbedford/data/2023-11-01/UDP_Bandlock_9S_Phone_Airport/sm03/#01/data/handover_info_log.csv\n",
      "87/216 /home/wmnlab/jackbedford/data/2023-11-01/UDP_Bandlock_9S_Phone_Airport/sm03/#01/data/udp_dnlk_loss_latency.csv\n",
      "87/216 /home/wmnlab/jackbedford/data/2023-11-01/UDP_Bandlock_9S_Phone_Airport/sm03/#01/data/udp_uplk_loss_latency.csv\n"
     ]
    },
    {
     "data": {
      "application/vnd.jupyter.widget-view+json": {
       "model_id": "155a7e1f6b014fb8b5b6e22665ecc58a",
       "version_major": 2,
       "version_minor": 0
      },
      "text/plain": [
       "  0%|                                                                                                         …"
      ]
     },
     "metadata": {},
     "output_type": "display_data"
    },
    {
     "name": "stdout",
     "output_type": "stream",
     "text": [
      "./20240312_150032342e_newest/20240314_060073cc2b/results/20240314_07552300000_3eeecdf13ff695a6_adjust/\\home\\wmnlab\\jackbedford\\data\\2023-11-01\\UDP_Bandlock_9S_Phone_Airport\\sm02\\#01\\data\\udp_dnlk_loss_latency\\home\\wmnlab\\jackbedford\\data\\2023-11-01\\UDP_Bandlock_9S_Phone_Airport\\sm03\\#01\\data\\udp_dnlk_loss_latency.csv\n",
      "88/216 /home/wmnlab/jackbedford/data/2023-11-01/UDP_Bandlock_9S_Phone_Airport/sm02/#01/data/handover_info_log.csv\n",
      "88/216 /home/wmnlab/jackbedford/data/2023-11-01/UDP_Bandlock_9S_Phone_Airport/sm02/#01/data/udp_dnlk_loss_latency.csv\n",
      "88/216 /home/wmnlab/jackbedford/data/2023-11-01/UDP_Bandlock_9S_Phone_Airport/sm02/#01/data/udp_uplk_loss_latency.csv\n",
      "88/216 /home/wmnlab/jackbedford/data/2023-11-01/UDP_Bandlock_9S_Phone_Airport/sm04/#01/data/handover_info_log.csv\n",
      "88/216 /home/wmnlab/jackbedford/data/2023-11-01/UDP_Bandlock_9S_Phone_Airport/sm04/#01/data/udp_dnlk_loss_latency.csv\n",
      "88/216 /home/wmnlab/jackbedford/data/2023-11-01/UDP_Bandlock_9S_Phone_Airport/sm04/#01/data/udp_uplk_loss_latency.csv\n"
     ]
    },
    {
     "data": {
      "application/vnd.jupyter.widget-view+json": {
       "model_id": "746ee1f883c947a1b92f9a94c42dd738",
       "version_major": 2,
       "version_minor": 0
      },
      "text/plain": [
       "  0%|                                                                                                         …"
      ]
     },
     "metadata": {},
     "output_type": "display_data"
    },
    {
     "name": "stdout",
     "output_type": "stream",
     "text": [
      "./20240312_150032342e_newest/20240314_060073cc2b/results/20240314_07552300000_3eeecdf13ff695a6_adjust/\\home\\wmnlab\\jackbedford\\data\\2023-11-01\\UDP_Bandlock_9S_Phone_Airport\\sm02\\#01\\data\\udp_dnlk_loss_latency\\home\\wmnlab\\jackbedford\\data\\2023-11-01\\UDP_Bandlock_9S_Phone_Airport\\sm04\\#01\\data\\udp_dnlk_loss_latency.csv\n",
      "89/216 /home/wmnlab/jackbedford/data/2023-11-01/UDP_Bandlock_9S_Phone_Airport/sm02/#01/data/handover_info_log.csv\n",
      "89/216 /home/wmnlab/jackbedford/data/2023-11-01/UDP_Bandlock_9S_Phone_Airport/sm02/#01/data/udp_dnlk_loss_latency.csv\n",
      "89/216 /home/wmnlab/jackbedford/data/2023-11-01/UDP_Bandlock_9S_Phone_Airport/sm02/#01/data/udp_uplk_loss_latency.csv\n",
      "89/216 /home/wmnlab/jackbedford/data/2023-11-01/UDP_Bandlock_9S_Phone_Airport/sm05/#01/data/handover_info_log.csv\n",
      "89/216 /home/wmnlab/jackbedford/data/2023-11-01/UDP_Bandlock_9S_Phone_Airport/sm05/#01/data/udp_dnlk_loss_latency.csv\n",
      "89/216 /home/wmnlab/jackbedford/data/2023-11-01/UDP_Bandlock_9S_Phone_Airport/sm05/#01/data/udp_uplk_loss_latency.csv\n"
     ]
    },
    {
     "data": {
      "application/vnd.jupyter.widget-view+json": {
       "model_id": "c188f53792f14905bae8e875ba05fabb",
       "version_major": 2,
       "version_minor": 0
      },
      "text/plain": [
       "  0%|                                                                                                         …"
      ]
     },
     "metadata": {},
     "output_type": "display_data"
    },
    {
     "name": "stdout",
     "output_type": "stream",
     "text": [
      "./20240312_150032342e_newest/20240314_060073cc2b/results/20240314_07552300000_3eeecdf13ff695a6_adjust/\\home\\wmnlab\\jackbedford\\data\\2023-11-01\\UDP_Bandlock_9S_Phone_Airport\\sm02\\#01\\data\\udp_dnlk_loss_latency\\home\\wmnlab\\jackbedford\\data\\2023-11-01\\UDP_Bandlock_9S_Phone_Airport\\sm05\\#01\\data\\udp_dnlk_loss_latency.csv\n",
      "90/216 /home/wmnlab/jackbedford/data/2023-11-01/UDP_Bandlock_9S_Phone_Airport/sm02/#01/data/handover_info_log.csv\n",
      "90/216 /home/wmnlab/jackbedford/data/2023-11-01/UDP_Bandlock_9S_Phone_Airport/sm02/#01/data/udp_dnlk_loss_latency.csv\n",
      "90/216 /home/wmnlab/jackbedford/data/2023-11-01/UDP_Bandlock_9S_Phone_Airport/sm02/#01/data/udp_uplk_loss_latency.csv\n",
      "90/216 /home/wmnlab/jackbedford/data/2023-11-01/UDP_Bandlock_9S_Phone_Airport/sm06/#01/data/handover_info_log.csv\n",
      "90/216 /home/wmnlab/jackbedford/data/2023-11-01/UDP_Bandlock_9S_Phone_Airport/sm06/#01/data/udp_dnlk_loss_latency.csv\n",
      "90/216 /home/wmnlab/jackbedford/data/2023-11-01/UDP_Bandlock_9S_Phone_Airport/sm06/#01/data/udp_uplk_loss_latency.csv\n"
     ]
    },
    {
     "data": {
      "application/vnd.jupyter.widget-view+json": {
       "model_id": "aca964961f764214a9eb9ea55882f0f6",
       "version_major": 2,
       "version_minor": 0
      },
      "text/plain": [
       "  0%|                                                                                                         …"
      ]
     },
     "metadata": {},
     "output_type": "display_data"
    },
    {
     "name": "stdout",
     "output_type": "stream",
     "text": [
      "./20240312_150032342e_newest/20240314_060073cc2b/results/20240314_07552300000_3eeecdf13ff695a6_adjust/\\home\\wmnlab\\jackbedford\\data\\2023-11-01\\UDP_Bandlock_9S_Phone_Airport\\sm02\\#01\\data\\udp_dnlk_loss_latency\\home\\wmnlab\\jackbedford\\data\\2023-11-01\\UDP_Bandlock_9S_Phone_Airport\\sm06\\#01\\data\\udp_dnlk_loss_latency.csv\n",
      "91/216 /home/wmnlab/jackbedford/data/2023-11-01/UDP_Bandlock_9S_Phone_Airport/sm02/#01/data/handover_info_log.csv\n",
      "91/216 /home/wmnlab/jackbedford/data/2023-11-01/UDP_Bandlock_9S_Phone_Airport/sm02/#01/data/udp_dnlk_loss_latency.csv\n",
      "91/216 /home/wmnlab/jackbedford/data/2023-11-01/UDP_Bandlock_9S_Phone_Airport/sm02/#01/data/udp_uplk_loss_latency.csv\n",
      "91/216 /home/wmnlab/jackbedford/data/2023-11-01/UDP_Bandlock_9S_Phone_Airport/sm07/#01/data/handover_info_log.csv\n",
      "91/216 /home/wmnlab/jackbedford/data/2023-11-01/UDP_Bandlock_9S_Phone_Airport/sm07/#01/data/udp_dnlk_loss_latency.csv\n",
      "91/216 /home/wmnlab/jackbedford/data/2023-11-01/UDP_Bandlock_9S_Phone_Airport/sm07/#01/data/udp_uplk_loss_latency.csv\n"
     ]
    },
    {
     "data": {
      "application/vnd.jupyter.widget-view+json": {
       "model_id": "c9f6168321974cc69f3b7e230b0d8fc3",
       "version_major": 2,
       "version_minor": 0
      },
      "text/plain": [
       "  0%|                                                                                                         …"
      ]
     },
     "metadata": {},
     "output_type": "display_data"
    },
    {
     "name": "stdout",
     "output_type": "stream",
     "text": [
      "./20240312_150032342e_newest/20240314_060073cc2b/results/20240314_07552300000_3eeecdf13ff695a6_adjust/\\home\\wmnlab\\jackbedford\\data\\2023-11-01\\UDP_Bandlock_9S_Phone_Airport\\sm02\\#01\\data\\udp_dnlk_loss_latency\\home\\wmnlab\\jackbedford\\data\\2023-11-01\\UDP_Bandlock_9S_Phone_Airport\\sm07\\#01\\data\\udp_dnlk_loss_latency.csv\n",
      "92/216 /home/wmnlab/jackbedford/data/2023-11-01/UDP_Bandlock_9S_Phone_Airport/sm02/#01/data/handover_info_log.csv\n",
      "92/216 /home/wmnlab/jackbedford/data/2023-11-01/UDP_Bandlock_9S_Phone_Airport/sm02/#01/data/udp_dnlk_loss_latency.csv\n",
      "92/216 /home/wmnlab/jackbedford/data/2023-11-01/UDP_Bandlock_9S_Phone_Airport/sm02/#01/data/udp_uplk_loss_latency.csv\n",
      "92/216 /home/wmnlab/jackbedford/data/2023-11-01/UDP_Bandlock_9S_Phone_Airport/sm08/#01/data/handover_info_log.csv\n",
      "92/216 /home/wmnlab/jackbedford/data/2023-11-01/UDP_Bandlock_9S_Phone_Airport/sm08/#01/data/udp_dnlk_loss_latency.csv\n",
      "92/216 /home/wmnlab/jackbedford/data/2023-11-01/UDP_Bandlock_9S_Phone_Airport/sm08/#01/data/udp_uplk_loss_latency.csv\n"
     ]
    },
    {
     "data": {
      "application/vnd.jupyter.widget-view+json": {
       "model_id": "bd324422c3404963824da6e6f04dbb2a",
       "version_major": 2,
       "version_minor": 0
      },
      "text/plain": [
       "  0%|                                                                                                         …"
      ]
     },
     "metadata": {},
     "output_type": "display_data"
    },
    {
     "name": "stdout",
     "output_type": "stream",
     "text": [
      "./20240312_150032342e_newest/20240314_060073cc2b/results/20240314_07552300000_3eeecdf13ff695a6_adjust/\\home\\wmnlab\\jackbedford\\data\\2023-11-01\\UDP_Bandlock_9S_Phone_Airport\\sm02\\#01\\data\\udp_dnlk_loss_latency\\home\\wmnlab\\jackbedford\\data\\2023-11-01\\UDP_Bandlock_9S_Phone_Airport\\sm08\\#01\\data\\udp_dnlk_loss_latency.csv\n",
      "93/216 /home/wmnlab/jackbedford/data/2023-11-01/UDP_Bandlock_9S_Phone_Airport/sm03/#01/data/handover_info_log.csv\n",
      "93/216 /home/wmnlab/jackbedford/data/2023-11-01/UDP_Bandlock_9S_Phone_Airport/sm03/#01/data/udp_dnlk_loss_latency.csv\n",
      "93/216 /home/wmnlab/jackbedford/data/2023-11-01/UDP_Bandlock_9S_Phone_Airport/sm03/#01/data/udp_uplk_loss_latency.csv\n",
      "93/216 /home/wmnlab/jackbedford/data/2023-11-01/UDP_Bandlock_9S_Phone_Airport/sm04/#01/data/handover_info_log.csv\n",
      "93/216 /home/wmnlab/jackbedford/data/2023-11-01/UDP_Bandlock_9S_Phone_Airport/sm04/#01/data/udp_dnlk_loss_latency.csv\n",
      "93/216 /home/wmnlab/jackbedford/data/2023-11-01/UDP_Bandlock_9S_Phone_Airport/sm04/#01/data/udp_uplk_loss_latency.csv\n"
     ]
    },
    {
     "data": {
      "application/vnd.jupyter.widget-view+json": {
       "model_id": "9f38ba8beca4456d9c65c26e7c07bbf3",
       "version_major": 2,
       "version_minor": 0
      },
      "text/plain": [
       "  0%|                                                                                                         …"
      ]
     },
     "metadata": {},
     "output_type": "display_data"
    },
    {
     "name": "stdout",
     "output_type": "stream",
     "text": [
      "./20240312_150032342e_newest/20240314_060073cc2b/results/20240314_07552300000_3eeecdf13ff695a6_adjust/\\home\\wmnlab\\jackbedford\\data\\2023-11-01\\UDP_Bandlock_9S_Phone_Airport\\sm03\\#01\\data\\udp_dnlk_loss_latency\\home\\wmnlab\\jackbedford\\data\\2023-11-01\\UDP_Bandlock_9S_Phone_Airport\\sm04\\#01\\data\\udp_dnlk_loss_latency.csv\n",
      "94/216 /home/wmnlab/jackbedford/data/2023-11-01/UDP_Bandlock_9S_Phone_Airport/sm03/#01/data/handover_info_log.csv\n",
      "94/216 /home/wmnlab/jackbedford/data/2023-11-01/UDP_Bandlock_9S_Phone_Airport/sm03/#01/data/udp_dnlk_loss_latency.csv\n",
      "94/216 /home/wmnlab/jackbedford/data/2023-11-01/UDP_Bandlock_9S_Phone_Airport/sm03/#01/data/udp_uplk_loss_latency.csv\n",
      "94/216 /home/wmnlab/jackbedford/data/2023-11-01/UDP_Bandlock_9S_Phone_Airport/sm05/#01/data/handover_info_log.csv\n",
      "94/216 /home/wmnlab/jackbedford/data/2023-11-01/UDP_Bandlock_9S_Phone_Airport/sm05/#01/data/udp_dnlk_loss_latency.csv\n",
      "94/216 /home/wmnlab/jackbedford/data/2023-11-01/UDP_Bandlock_9S_Phone_Airport/sm05/#01/data/udp_uplk_loss_latency.csv\n"
     ]
    },
    {
     "data": {
      "application/vnd.jupyter.widget-view+json": {
       "model_id": "95fe05eeab81493584dcc0f5e2789400",
       "version_major": 2,
       "version_minor": 0
      },
      "text/plain": [
       "  0%|                                                                                                         …"
      ]
     },
     "metadata": {},
     "output_type": "display_data"
    },
    {
     "name": "stdout",
     "output_type": "stream",
     "text": [
      "./20240312_150032342e_newest/20240314_060073cc2b/results/20240314_07552300000_3eeecdf13ff695a6_adjust/\\home\\wmnlab\\jackbedford\\data\\2023-11-01\\UDP_Bandlock_9S_Phone_Airport\\sm03\\#01\\data\\udp_dnlk_loss_latency\\home\\wmnlab\\jackbedford\\data\\2023-11-01\\UDP_Bandlock_9S_Phone_Airport\\sm05\\#01\\data\\udp_dnlk_loss_latency.csv\n",
      "95/216 /home/wmnlab/jackbedford/data/2023-11-01/UDP_Bandlock_9S_Phone_Airport/sm03/#01/data/handover_info_log.csv\n",
      "95/216 /home/wmnlab/jackbedford/data/2023-11-01/UDP_Bandlock_9S_Phone_Airport/sm03/#01/data/udp_dnlk_loss_latency.csv\n",
      "95/216 /home/wmnlab/jackbedford/data/2023-11-01/UDP_Bandlock_9S_Phone_Airport/sm03/#01/data/udp_uplk_loss_latency.csv\n",
      "95/216 /home/wmnlab/jackbedford/data/2023-11-01/UDP_Bandlock_9S_Phone_Airport/sm06/#01/data/handover_info_log.csv\n",
      "95/216 /home/wmnlab/jackbedford/data/2023-11-01/UDP_Bandlock_9S_Phone_Airport/sm06/#01/data/udp_dnlk_loss_latency.csv\n",
      "95/216 /home/wmnlab/jackbedford/data/2023-11-01/UDP_Bandlock_9S_Phone_Airport/sm06/#01/data/udp_uplk_loss_latency.csv\n"
     ]
    },
    {
     "data": {
      "application/vnd.jupyter.widget-view+json": {
       "model_id": "a02d03d3c2614aa3b532bcb010c59b94",
       "version_major": 2,
       "version_minor": 0
      },
      "text/plain": [
       "  0%|                                                                                                         …"
      ]
     },
     "metadata": {},
     "output_type": "display_data"
    },
    {
     "name": "stdout",
     "output_type": "stream",
     "text": [
      "./20240312_150032342e_newest/20240314_060073cc2b/results/20240314_07552300000_3eeecdf13ff695a6_adjust/\\home\\wmnlab\\jackbedford\\data\\2023-11-01\\UDP_Bandlock_9S_Phone_Airport\\sm03\\#01\\data\\udp_dnlk_loss_latency\\home\\wmnlab\\jackbedford\\data\\2023-11-01\\UDP_Bandlock_9S_Phone_Airport\\sm06\\#01\\data\\udp_dnlk_loss_latency.csv\n",
      "96/216 /home/wmnlab/jackbedford/data/2023-11-01/UDP_Bandlock_9S_Phone_Airport/sm03/#01/data/handover_info_log.csv\n",
      "96/216 /home/wmnlab/jackbedford/data/2023-11-01/UDP_Bandlock_9S_Phone_Airport/sm03/#01/data/udp_dnlk_loss_latency.csv\n",
      "96/216 /home/wmnlab/jackbedford/data/2023-11-01/UDP_Bandlock_9S_Phone_Airport/sm03/#01/data/udp_uplk_loss_latency.csv\n",
      "96/216 /home/wmnlab/jackbedford/data/2023-11-01/UDP_Bandlock_9S_Phone_Airport/sm07/#01/data/handover_info_log.csv\n",
      "96/216 /home/wmnlab/jackbedford/data/2023-11-01/UDP_Bandlock_9S_Phone_Airport/sm07/#01/data/udp_dnlk_loss_latency.csv\n",
      "96/216 /home/wmnlab/jackbedford/data/2023-11-01/UDP_Bandlock_9S_Phone_Airport/sm07/#01/data/udp_uplk_loss_latency.csv\n"
     ]
    },
    {
     "data": {
      "application/vnd.jupyter.widget-view+json": {
       "model_id": "2367786f938f4bd890db598993f4d4ba",
       "version_major": 2,
       "version_minor": 0
      },
      "text/plain": [
       "  0%|                                                                                                         …"
      ]
     },
     "metadata": {},
     "output_type": "display_data"
    },
    {
     "name": "stdout",
     "output_type": "stream",
     "text": [
      "./20240312_150032342e_newest/20240314_060073cc2b/results/20240314_07552300000_3eeecdf13ff695a6_adjust/\\home\\wmnlab\\jackbedford\\data\\2023-11-01\\UDP_Bandlock_9S_Phone_Airport\\sm03\\#01\\data\\udp_dnlk_loss_latency\\home\\wmnlab\\jackbedford\\data\\2023-11-01\\UDP_Bandlock_9S_Phone_Airport\\sm07\\#01\\data\\udp_dnlk_loss_latency.csv\n",
      "97/216 /home/wmnlab/jackbedford/data/2023-11-01/UDP_Bandlock_9S_Phone_Airport/sm03/#01/data/handover_info_log.csv\n",
      "97/216 /home/wmnlab/jackbedford/data/2023-11-01/UDP_Bandlock_9S_Phone_Airport/sm03/#01/data/udp_dnlk_loss_latency.csv\n",
      "97/216 /home/wmnlab/jackbedford/data/2023-11-01/UDP_Bandlock_9S_Phone_Airport/sm03/#01/data/udp_uplk_loss_latency.csv\n",
      "97/216 /home/wmnlab/jackbedford/data/2023-11-01/UDP_Bandlock_9S_Phone_Airport/sm08/#01/data/handover_info_log.csv\n",
      "97/216 /home/wmnlab/jackbedford/data/2023-11-01/UDP_Bandlock_9S_Phone_Airport/sm08/#01/data/udp_dnlk_loss_latency.csv\n",
      "97/216 /home/wmnlab/jackbedford/data/2023-11-01/UDP_Bandlock_9S_Phone_Airport/sm08/#01/data/udp_uplk_loss_latency.csv\n"
     ]
    },
    {
     "data": {
      "application/vnd.jupyter.widget-view+json": {
       "model_id": "eae71d00e3594fed9fa664d06814c9b8",
       "version_major": 2,
       "version_minor": 0
      },
      "text/plain": [
       "  0%|                                                                                                         …"
      ]
     },
     "metadata": {},
     "output_type": "display_data"
    },
    {
     "name": "stdout",
     "output_type": "stream",
     "text": [
      "./20240312_150032342e_newest/20240314_060073cc2b/results/20240314_07552300000_3eeecdf13ff695a6_adjust/\\home\\wmnlab\\jackbedford\\data\\2023-11-01\\UDP_Bandlock_9S_Phone_Airport\\sm03\\#01\\data\\udp_dnlk_loss_latency\\home\\wmnlab\\jackbedford\\data\\2023-11-01\\UDP_Bandlock_9S_Phone_Airport\\sm08\\#01\\data\\udp_dnlk_loss_latency.csv\n",
      "98/216 /home/wmnlab/jackbedford/data/2023-11-01/UDP_Bandlock_9S_Phone_Airport/sm04/#01/data/handover_info_log.csv\n",
      "98/216 /home/wmnlab/jackbedford/data/2023-11-01/UDP_Bandlock_9S_Phone_Airport/sm04/#01/data/udp_dnlk_loss_latency.csv\n",
      "98/216 /home/wmnlab/jackbedford/data/2023-11-01/UDP_Bandlock_9S_Phone_Airport/sm04/#01/data/udp_uplk_loss_latency.csv\n",
      "98/216 /home/wmnlab/jackbedford/data/2023-11-01/UDP_Bandlock_9S_Phone_Airport/sm05/#01/data/handover_info_log.csv\n",
      "98/216 /home/wmnlab/jackbedford/data/2023-11-01/UDP_Bandlock_9S_Phone_Airport/sm05/#01/data/udp_dnlk_loss_latency.csv\n",
      "98/216 /home/wmnlab/jackbedford/data/2023-11-01/UDP_Bandlock_9S_Phone_Airport/sm05/#01/data/udp_uplk_loss_latency.csv\n"
     ]
    },
    {
     "data": {
      "application/vnd.jupyter.widget-view+json": {
       "model_id": "68e4e42dd8a34b86a6e607c19c9e4833",
       "version_major": 2,
       "version_minor": 0
      },
      "text/plain": [
       "  0%|                                                                                                         …"
      ]
     },
     "metadata": {},
     "output_type": "display_data"
    },
    {
     "name": "stdout",
     "output_type": "stream",
     "text": [
      "./20240312_150032342e_newest/20240314_060073cc2b/results/20240314_07552300000_3eeecdf13ff695a6_adjust/\\home\\wmnlab\\jackbedford\\data\\2023-11-01\\UDP_Bandlock_9S_Phone_Airport\\sm04\\#01\\data\\udp_dnlk_loss_latency\\home\\wmnlab\\jackbedford\\data\\2023-11-01\\UDP_Bandlock_9S_Phone_Airport\\sm05\\#01\\data\\udp_dnlk_loss_latency.csv\n",
      "99/216 /home/wmnlab/jackbedford/data/2023-11-01/UDP_Bandlock_9S_Phone_Airport/sm04/#01/data/handover_info_log.csv\n",
      "99/216 /home/wmnlab/jackbedford/data/2023-11-01/UDP_Bandlock_9S_Phone_Airport/sm04/#01/data/udp_dnlk_loss_latency.csv\n",
      "99/216 /home/wmnlab/jackbedford/data/2023-11-01/UDP_Bandlock_9S_Phone_Airport/sm04/#01/data/udp_uplk_loss_latency.csv\n",
      "99/216 /home/wmnlab/jackbedford/data/2023-11-01/UDP_Bandlock_9S_Phone_Airport/sm06/#01/data/handover_info_log.csv\n",
      "99/216 /home/wmnlab/jackbedford/data/2023-11-01/UDP_Bandlock_9S_Phone_Airport/sm06/#01/data/udp_dnlk_loss_latency.csv\n",
      "99/216 /home/wmnlab/jackbedford/data/2023-11-01/UDP_Bandlock_9S_Phone_Airport/sm06/#01/data/udp_uplk_loss_latency.csv\n"
     ]
    },
    {
     "data": {
      "application/vnd.jupyter.widget-view+json": {
       "model_id": "6fd074049b4f425a975feeec7c32f604",
       "version_major": 2,
       "version_minor": 0
      },
      "text/plain": [
       "  0%|                                                                                                         …"
      ]
     },
     "metadata": {},
     "output_type": "display_data"
    },
    {
     "name": "stdout",
     "output_type": "stream",
     "text": [
      "./20240312_150032342e_newest/20240314_060073cc2b/results/20240314_07552300000_3eeecdf13ff695a6_adjust/\\home\\wmnlab\\jackbedford\\data\\2023-11-01\\UDP_Bandlock_9S_Phone_Airport\\sm04\\#01\\data\\udp_dnlk_loss_latency\\home\\wmnlab\\jackbedford\\data\\2023-11-01\\UDP_Bandlock_9S_Phone_Airport\\sm06\\#01\\data\\udp_dnlk_loss_latency.csv\n",
      "100/216 /home/wmnlab/jackbedford/data/2023-11-01/UDP_Bandlock_9S_Phone_Airport/sm04/#01/data/handover_info_log.csv\n",
      "100/216 /home/wmnlab/jackbedford/data/2023-11-01/UDP_Bandlock_9S_Phone_Airport/sm04/#01/data/udp_dnlk_loss_latency.csv\n",
      "100/216 /home/wmnlab/jackbedford/data/2023-11-01/UDP_Bandlock_9S_Phone_Airport/sm04/#01/data/udp_uplk_loss_latency.csv\n",
      "100/216 /home/wmnlab/jackbedford/data/2023-11-01/UDP_Bandlock_9S_Phone_Airport/sm07/#01/data/handover_info_log.csv\n",
      "100/216 /home/wmnlab/jackbedford/data/2023-11-01/UDP_Bandlock_9S_Phone_Airport/sm07/#01/data/udp_dnlk_loss_latency.csv\n",
      "100/216 /home/wmnlab/jackbedford/data/2023-11-01/UDP_Bandlock_9S_Phone_Airport/sm07/#01/data/udp_uplk_loss_latency.csv\n"
     ]
    },
    {
     "data": {
      "application/vnd.jupyter.widget-view+json": {
       "model_id": "124654a8735641079b66f47508866c8f",
       "version_major": 2,
       "version_minor": 0
      },
      "text/plain": [
       "  0%|                                                                                                         …"
      ]
     },
     "metadata": {},
     "output_type": "display_data"
    },
    {
     "name": "stdout",
     "output_type": "stream",
     "text": [
      "./20240312_150032342e_newest/20240314_060073cc2b/results/20240314_07552300000_3eeecdf13ff695a6_adjust/\\home\\wmnlab\\jackbedford\\data\\2023-11-01\\UDP_Bandlock_9S_Phone_Airport\\sm04\\#01\\data\\udp_dnlk_loss_latency\\home\\wmnlab\\jackbedford\\data\\2023-11-01\\UDP_Bandlock_9S_Phone_Airport\\sm07\\#01\\data\\udp_dnlk_loss_latency.csv\n",
      "101/216 /home/wmnlab/jackbedford/data/2023-11-01/UDP_Bandlock_9S_Phone_Airport/sm04/#01/data/handover_info_log.csv\n",
      "101/216 /home/wmnlab/jackbedford/data/2023-11-01/UDP_Bandlock_9S_Phone_Airport/sm04/#01/data/udp_dnlk_loss_latency.csv\n",
      "101/216 /home/wmnlab/jackbedford/data/2023-11-01/UDP_Bandlock_9S_Phone_Airport/sm04/#01/data/udp_uplk_loss_latency.csv\n",
      "101/216 /home/wmnlab/jackbedford/data/2023-11-01/UDP_Bandlock_9S_Phone_Airport/sm08/#01/data/handover_info_log.csv\n",
      "101/216 /home/wmnlab/jackbedford/data/2023-11-01/UDP_Bandlock_9S_Phone_Airport/sm08/#01/data/udp_dnlk_loss_latency.csv\n",
      "101/216 /home/wmnlab/jackbedford/data/2023-11-01/UDP_Bandlock_9S_Phone_Airport/sm08/#01/data/udp_uplk_loss_latency.csv\n"
     ]
    },
    {
     "data": {
      "application/vnd.jupyter.widget-view+json": {
       "model_id": "97038865793f4f0ca6f5967f172dc1fd",
       "version_major": 2,
       "version_minor": 0
      },
      "text/plain": [
       "  0%|                                                                                                         …"
      ]
     },
     "metadata": {},
     "output_type": "display_data"
    },
    {
     "name": "stdout",
     "output_type": "stream",
     "text": [
      "./20240312_150032342e_newest/20240314_060073cc2b/results/20240314_07552300000_3eeecdf13ff695a6_adjust/\\home\\wmnlab\\jackbedford\\data\\2023-11-01\\UDP_Bandlock_9S_Phone_Airport\\sm04\\#01\\data\\udp_dnlk_loss_latency\\home\\wmnlab\\jackbedford\\data\\2023-11-01\\UDP_Bandlock_9S_Phone_Airport\\sm08\\#01\\data\\udp_dnlk_loss_latency.csv\n",
      "102/216 /home/wmnlab/jackbedford/data/2023-11-01/UDP_Bandlock_9S_Phone_Airport/sm05/#01/data/handover_info_log.csv\n",
      "102/216 /home/wmnlab/jackbedford/data/2023-11-01/UDP_Bandlock_9S_Phone_Airport/sm05/#01/data/udp_dnlk_loss_latency.csv\n",
      "102/216 /home/wmnlab/jackbedford/data/2023-11-01/UDP_Bandlock_9S_Phone_Airport/sm05/#01/data/udp_uplk_loss_latency.csv\n",
      "102/216 /home/wmnlab/jackbedford/data/2023-11-01/UDP_Bandlock_9S_Phone_Airport/sm06/#01/data/handover_info_log.csv\n",
      "102/216 /home/wmnlab/jackbedford/data/2023-11-01/UDP_Bandlock_9S_Phone_Airport/sm06/#01/data/udp_dnlk_loss_latency.csv\n",
      "102/216 /home/wmnlab/jackbedford/data/2023-11-01/UDP_Bandlock_9S_Phone_Airport/sm06/#01/data/udp_uplk_loss_latency.csv\n"
     ]
    },
    {
     "data": {
      "application/vnd.jupyter.widget-view+json": {
       "model_id": "622c8e5e02aa4413a1d2d2f8e16eb1fe",
       "version_major": 2,
       "version_minor": 0
      },
      "text/plain": [
       "  0%|                                                                                                         …"
      ]
     },
     "metadata": {},
     "output_type": "display_data"
    },
    {
     "name": "stdout",
     "output_type": "stream",
     "text": [
      "./20240312_150032342e_newest/20240314_060073cc2b/results/20240314_07552300000_3eeecdf13ff695a6_adjust/\\home\\wmnlab\\jackbedford\\data\\2023-11-01\\UDP_Bandlock_9S_Phone_Airport\\sm05\\#01\\data\\udp_dnlk_loss_latency\\home\\wmnlab\\jackbedford\\data\\2023-11-01\\UDP_Bandlock_9S_Phone_Airport\\sm06\\#01\\data\\udp_dnlk_loss_latency.csv\n",
      "103/216 /home/wmnlab/jackbedford/data/2023-11-01/UDP_Bandlock_9S_Phone_Airport/sm05/#01/data/handover_info_log.csv\n",
      "103/216 /home/wmnlab/jackbedford/data/2023-11-01/UDP_Bandlock_9S_Phone_Airport/sm05/#01/data/udp_dnlk_loss_latency.csv\n",
      "103/216 /home/wmnlab/jackbedford/data/2023-11-01/UDP_Bandlock_9S_Phone_Airport/sm05/#01/data/udp_uplk_loss_latency.csv\n",
      "103/216 /home/wmnlab/jackbedford/data/2023-11-01/UDP_Bandlock_9S_Phone_Airport/sm07/#01/data/handover_info_log.csv\n",
      "103/216 /home/wmnlab/jackbedford/data/2023-11-01/UDP_Bandlock_9S_Phone_Airport/sm07/#01/data/udp_dnlk_loss_latency.csv\n",
      "103/216 /home/wmnlab/jackbedford/data/2023-11-01/UDP_Bandlock_9S_Phone_Airport/sm07/#01/data/udp_uplk_loss_latency.csv\n"
     ]
    },
    {
     "data": {
      "application/vnd.jupyter.widget-view+json": {
       "model_id": "f601434d979a4667b70007434c1df0f5",
       "version_major": 2,
       "version_minor": 0
      },
      "text/plain": [
       "  0%|                                                                                                         …"
      ]
     },
     "metadata": {},
     "output_type": "display_data"
    },
    {
     "name": "stdout",
     "output_type": "stream",
     "text": [
      "./20240312_150032342e_newest/20240314_060073cc2b/results/20240314_07552300000_3eeecdf13ff695a6_adjust/\\home\\wmnlab\\jackbedford\\data\\2023-11-01\\UDP_Bandlock_9S_Phone_Airport\\sm05\\#01\\data\\udp_dnlk_loss_latency\\home\\wmnlab\\jackbedford\\data\\2023-11-01\\UDP_Bandlock_9S_Phone_Airport\\sm07\\#01\\data\\udp_dnlk_loss_latency.csv\n",
      "104/216 /home/wmnlab/jackbedford/data/2023-11-01/UDP_Bandlock_9S_Phone_Airport/sm05/#01/data/handover_info_log.csv\n",
      "104/216 /home/wmnlab/jackbedford/data/2023-11-01/UDP_Bandlock_9S_Phone_Airport/sm05/#01/data/udp_dnlk_loss_latency.csv\n",
      "104/216 /home/wmnlab/jackbedford/data/2023-11-01/UDP_Bandlock_9S_Phone_Airport/sm05/#01/data/udp_uplk_loss_latency.csv\n",
      "104/216 /home/wmnlab/jackbedford/data/2023-11-01/UDP_Bandlock_9S_Phone_Airport/sm08/#01/data/handover_info_log.csv\n",
      "104/216 /home/wmnlab/jackbedford/data/2023-11-01/UDP_Bandlock_9S_Phone_Airport/sm08/#01/data/udp_dnlk_loss_latency.csv\n",
      "104/216 /home/wmnlab/jackbedford/data/2023-11-01/UDP_Bandlock_9S_Phone_Airport/sm08/#01/data/udp_uplk_loss_latency.csv\n"
     ]
    },
    {
     "data": {
      "application/vnd.jupyter.widget-view+json": {
       "model_id": "32f409ce4fe44b0a976f1e023fb0a4f8",
       "version_major": 2,
       "version_minor": 0
      },
      "text/plain": [
       "  0%|                                                                                                         …"
      ]
     },
     "metadata": {},
     "output_type": "display_data"
    },
    {
     "name": "stdout",
     "output_type": "stream",
     "text": [
      "./20240312_150032342e_newest/20240314_060073cc2b/results/20240314_07552300000_3eeecdf13ff695a6_adjust/\\home\\wmnlab\\jackbedford\\data\\2023-11-01\\UDP_Bandlock_9S_Phone_Airport\\sm05\\#01\\data\\udp_dnlk_loss_latency\\home\\wmnlab\\jackbedford\\data\\2023-11-01\\UDP_Bandlock_9S_Phone_Airport\\sm08\\#01\\data\\udp_dnlk_loss_latency.csv\n",
      "105/216 /home/wmnlab/jackbedford/data/2023-11-01/UDP_Bandlock_9S_Phone_Airport/sm06/#01/data/handover_info_log.csv\n",
      "105/216 /home/wmnlab/jackbedford/data/2023-11-01/UDP_Bandlock_9S_Phone_Airport/sm06/#01/data/udp_dnlk_loss_latency.csv\n",
      "105/216 /home/wmnlab/jackbedford/data/2023-11-01/UDP_Bandlock_9S_Phone_Airport/sm06/#01/data/udp_uplk_loss_latency.csv\n",
      "105/216 /home/wmnlab/jackbedford/data/2023-11-01/UDP_Bandlock_9S_Phone_Airport/sm07/#01/data/handover_info_log.csv\n",
      "105/216 /home/wmnlab/jackbedford/data/2023-11-01/UDP_Bandlock_9S_Phone_Airport/sm07/#01/data/udp_dnlk_loss_latency.csv\n",
      "105/216 /home/wmnlab/jackbedford/data/2023-11-01/UDP_Bandlock_9S_Phone_Airport/sm07/#01/data/udp_uplk_loss_latency.csv\n"
     ]
    },
    {
     "data": {
      "application/vnd.jupyter.widget-view+json": {
       "model_id": "c102f5368fa24ef6ae2c981379450959",
       "version_major": 2,
       "version_minor": 0
      },
      "text/plain": [
       "  0%|                                                                                                         …"
      ]
     },
     "metadata": {},
     "output_type": "display_data"
    },
    {
     "name": "stdout",
     "output_type": "stream",
     "text": [
      "./20240312_150032342e_newest/20240314_060073cc2b/results/20240314_07552300000_3eeecdf13ff695a6_adjust/\\home\\wmnlab\\jackbedford\\data\\2023-11-01\\UDP_Bandlock_9S_Phone_Airport\\sm06\\#01\\data\\udp_dnlk_loss_latency\\home\\wmnlab\\jackbedford\\data\\2023-11-01\\UDP_Bandlock_9S_Phone_Airport\\sm07\\#01\\data\\udp_dnlk_loss_latency.csv\n",
      "106/216 /home/wmnlab/jackbedford/data/2023-11-01/UDP_Bandlock_9S_Phone_Airport/sm06/#01/data/handover_info_log.csv\n",
      "106/216 /home/wmnlab/jackbedford/data/2023-11-01/UDP_Bandlock_9S_Phone_Airport/sm06/#01/data/udp_dnlk_loss_latency.csv\n",
      "106/216 /home/wmnlab/jackbedford/data/2023-11-01/UDP_Bandlock_9S_Phone_Airport/sm06/#01/data/udp_uplk_loss_latency.csv\n",
      "106/216 /home/wmnlab/jackbedford/data/2023-11-01/UDP_Bandlock_9S_Phone_Airport/sm08/#01/data/handover_info_log.csv\n",
      "106/216 /home/wmnlab/jackbedford/data/2023-11-01/UDP_Bandlock_9S_Phone_Airport/sm08/#01/data/udp_dnlk_loss_latency.csv\n",
      "106/216 /home/wmnlab/jackbedford/data/2023-11-01/UDP_Bandlock_9S_Phone_Airport/sm08/#01/data/udp_uplk_loss_latency.csv\n"
     ]
    },
    {
     "data": {
      "application/vnd.jupyter.widget-view+json": {
       "model_id": "0f419118b35d4ea398db57b5ede2b200",
       "version_major": 2,
       "version_minor": 0
      },
      "text/plain": [
       "  0%|                                                                                                         …"
      ]
     },
     "metadata": {},
     "output_type": "display_data"
    },
    {
     "name": "stdout",
     "output_type": "stream",
     "text": [
      "./20240312_150032342e_newest/20240314_060073cc2b/results/20240314_07552300000_3eeecdf13ff695a6_adjust/\\home\\wmnlab\\jackbedford\\data\\2023-11-01\\UDP_Bandlock_9S_Phone_Airport\\sm06\\#01\\data\\udp_dnlk_loss_latency\\home\\wmnlab\\jackbedford\\data\\2023-11-01\\UDP_Bandlock_9S_Phone_Airport\\sm08\\#01\\data\\udp_dnlk_loss_latency.csv\n",
      "107/216 /home/wmnlab/jackbedford/data/2023-11-01/UDP_Bandlock_9S_Phone_Airport/sm07/#01/data/handover_info_log.csv\n",
      "107/216 /home/wmnlab/jackbedford/data/2023-11-01/UDP_Bandlock_9S_Phone_Airport/sm07/#01/data/udp_dnlk_loss_latency.csv\n",
      "107/216 /home/wmnlab/jackbedford/data/2023-11-01/UDP_Bandlock_9S_Phone_Airport/sm07/#01/data/udp_uplk_loss_latency.csv\n",
      "107/216 /home/wmnlab/jackbedford/data/2023-11-01/UDP_Bandlock_9S_Phone_Airport/sm08/#01/data/handover_info_log.csv\n",
      "107/216 /home/wmnlab/jackbedford/data/2023-11-01/UDP_Bandlock_9S_Phone_Airport/sm08/#01/data/udp_dnlk_loss_latency.csv\n",
      "107/216 /home/wmnlab/jackbedford/data/2023-11-01/UDP_Bandlock_9S_Phone_Airport/sm08/#01/data/udp_uplk_loss_latency.csv\n"
     ]
    },
    {
     "data": {
      "application/vnd.jupyter.widget-view+json": {
       "model_id": "9ce34b20b62740069a0b21c6f37c0536",
       "version_major": 2,
       "version_minor": 0
      },
      "text/plain": [
       "  0%|                                                                                                         …"
      ]
     },
     "metadata": {},
     "output_type": "display_data"
    },
    {
     "name": "stdout",
     "output_type": "stream",
     "text": [
      "./20240312_150032342e_newest/20240314_060073cc2b/results/20240314_07552300000_3eeecdf13ff695a6_adjust/\\home\\wmnlab\\jackbedford\\data\\2023-11-01\\UDP_Bandlock_9S_Phone_Airport\\sm07\\#01\\data\\udp_dnlk_loss_latency\\home\\wmnlab\\jackbedford\\data\\2023-11-01\\UDP_Bandlock_9S_Phone_Airport\\sm08\\#01\\data\\udp_dnlk_loss_latency.csv\n",
      "108/216 /home/wmnlab/jackbedford/data/2023-11-01/UDP_Bandlock_9S_Phone_Airport/sm00/#02/data/handover_info_log.csv\n",
      "108/216 /home/wmnlab/jackbedford/data/2023-11-01/UDP_Bandlock_9S_Phone_Airport/sm00/#02/data/udp_dnlk_loss_latency.csv\n",
      "108/216 /home/wmnlab/jackbedford/data/2023-11-01/UDP_Bandlock_9S_Phone_Airport/sm00/#02/data/udp_uplk_loss_latency.csv\n",
      "108/216 /home/wmnlab/jackbedford/data/2023-11-01/UDP_Bandlock_9S_Phone_Airport/sm01/#02/data/handover_info_log.csv\n",
      "108/216 /home/wmnlab/jackbedford/data/2023-11-01/UDP_Bandlock_9S_Phone_Airport/sm01/#02/data/udp_dnlk_loss_latency.csv\n",
      "108/216 /home/wmnlab/jackbedford/data/2023-11-01/UDP_Bandlock_9S_Phone_Airport/sm01/#02/data/udp_uplk_loss_latency.csv\n"
     ]
    },
    {
     "data": {
      "application/vnd.jupyter.widget-view+json": {
       "model_id": "199c48b74bdb47d6b11319a62812b842",
       "version_major": 2,
       "version_minor": 0
      },
      "text/plain": [
       "  0%|                                                                                                         …"
      ]
     },
     "metadata": {},
     "output_type": "display_data"
    },
    {
     "name": "stdout",
     "output_type": "stream",
     "text": [
      "./20240312_150032342e_newest/20240314_060073cc2b/results/20240314_07552300000_3eeecdf13ff695a6_adjust/\\home\\wmnlab\\jackbedford\\data\\2023-11-01\\UDP_Bandlock_9S_Phone_Airport\\sm00\\#02\\data\\udp_dnlk_loss_latency\\home\\wmnlab\\jackbedford\\data\\2023-11-01\\UDP_Bandlock_9S_Phone_Airport\\sm01\\#02\\data\\udp_dnlk_loss_latency.csv\n",
      "109/216 /home/wmnlab/jackbedford/data/2023-11-01/UDP_Bandlock_9S_Phone_Airport/sm00/#02/data/handover_info_log.csv\n",
      "109/216 /home/wmnlab/jackbedford/data/2023-11-01/UDP_Bandlock_9S_Phone_Airport/sm00/#02/data/udp_dnlk_loss_latency.csv\n",
      "109/216 /home/wmnlab/jackbedford/data/2023-11-01/UDP_Bandlock_9S_Phone_Airport/sm00/#02/data/udp_uplk_loss_latency.csv\n",
      "109/216 /home/wmnlab/jackbedford/data/2023-11-01/UDP_Bandlock_9S_Phone_Airport/sm02/#02/data/handover_info_log.csv\n",
      "109/216 /home/wmnlab/jackbedford/data/2023-11-01/UDP_Bandlock_9S_Phone_Airport/sm02/#02/data/udp_dnlk_loss_latency.csv\n",
      "109/216 /home/wmnlab/jackbedford/data/2023-11-01/UDP_Bandlock_9S_Phone_Airport/sm02/#02/data/udp_uplk_loss_latency.csv\n"
     ]
    },
    {
     "data": {
      "application/vnd.jupyter.widget-view+json": {
       "model_id": "843e2a87da544eec9ab28f89b736987a",
       "version_major": 2,
       "version_minor": 0
      },
      "text/plain": [
       "  0%|                                                                                                         …"
      ]
     },
     "metadata": {},
     "output_type": "display_data"
    },
    {
     "name": "stdout",
     "output_type": "stream",
     "text": [
      "./20240312_150032342e_newest/20240314_060073cc2b/results/20240314_07552300000_3eeecdf13ff695a6_adjust/\\home\\wmnlab\\jackbedford\\data\\2023-11-01\\UDP_Bandlock_9S_Phone_Airport\\sm00\\#02\\data\\udp_dnlk_loss_latency\\home\\wmnlab\\jackbedford\\data\\2023-11-01\\UDP_Bandlock_9S_Phone_Airport\\sm02\\#02\\data\\udp_dnlk_loss_latency.csv\n",
      "110/216 /home/wmnlab/jackbedford/data/2023-11-01/UDP_Bandlock_9S_Phone_Airport/sm00/#02/data/handover_info_log.csv\n",
      "110/216 /home/wmnlab/jackbedford/data/2023-11-01/UDP_Bandlock_9S_Phone_Airport/sm00/#02/data/udp_dnlk_loss_latency.csv\n",
      "110/216 /home/wmnlab/jackbedford/data/2023-11-01/UDP_Bandlock_9S_Phone_Airport/sm00/#02/data/udp_uplk_loss_latency.csv\n",
      "110/216 /home/wmnlab/jackbedford/data/2023-11-01/UDP_Bandlock_9S_Phone_Airport/sm03/#02/data/handover_info_log.csv\n",
      "110/216 /home/wmnlab/jackbedford/data/2023-11-01/UDP_Bandlock_9S_Phone_Airport/sm03/#02/data/udp_dnlk_loss_latency.csv\n",
      "110/216 /home/wmnlab/jackbedford/data/2023-11-01/UDP_Bandlock_9S_Phone_Airport/sm03/#02/data/udp_uplk_loss_latency.csv\n"
     ]
    },
    {
     "data": {
      "application/vnd.jupyter.widget-view+json": {
       "model_id": "b2917e6696c04cb39db5ad0a93df6994",
       "version_major": 2,
       "version_minor": 0
      },
      "text/plain": [
       "  0%|                                                                                                         …"
      ]
     },
     "metadata": {},
     "output_type": "display_data"
    },
    {
     "name": "stdout",
     "output_type": "stream",
     "text": [
      "./20240312_150032342e_newest/20240314_060073cc2b/results/20240314_07552300000_3eeecdf13ff695a6_adjust/\\home\\wmnlab\\jackbedford\\data\\2023-11-01\\UDP_Bandlock_9S_Phone_Airport\\sm00\\#02\\data\\udp_dnlk_loss_latency\\home\\wmnlab\\jackbedford\\data\\2023-11-01\\UDP_Bandlock_9S_Phone_Airport\\sm03\\#02\\data\\udp_dnlk_loss_latency.csv\n",
      "111/216 /home/wmnlab/jackbedford/data/2023-11-01/UDP_Bandlock_9S_Phone_Airport/sm00/#02/data/handover_info_log.csv\n",
      "111/216 /home/wmnlab/jackbedford/data/2023-11-01/UDP_Bandlock_9S_Phone_Airport/sm00/#02/data/udp_dnlk_loss_latency.csv\n",
      "111/216 /home/wmnlab/jackbedford/data/2023-11-01/UDP_Bandlock_9S_Phone_Airport/sm00/#02/data/udp_uplk_loss_latency.csv\n",
      "111/216 /home/wmnlab/jackbedford/data/2023-11-01/UDP_Bandlock_9S_Phone_Airport/sm04/#02/data/handover_info_log.csv\n",
      "111/216 /home/wmnlab/jackbedford/data/2023-11-01/UDP_Bandlock_9S_Phone_Airport/sm04/#02/data/udp_dnlk_loss_latency.csv\n",
      "111/216 /home/wmnlab/jackbedford/data/2023-11-01/UDP_Bandlock_9S_Phone_Airport/sm04/#02/data/udp_uplk_loss_latency.csv\n"
     ]
    },
    {
     "data": {
      "application/vnd.jupyter.widget-view+json": {
       "model_id": "64d3a02448b1401ab3abd83e1fa7c668",
       "version_major": 2,
       "version_minor": 0
      },
      "text/plain": [
       "  0%|                                                                                                         …"
      ]
     },
     "metadata": {},
     "output_type": "display_data"
    },
    {
     "name": "stdout",
     "output_type": "stream",
     "text": [
      "./20240312_150032342e_newest/20240314_060073cc2b/results/20240314_07552300000_3eeecdf13ff695a6_adjust/\\home\\wmnlab\\jackbedford\\data\\2023-11-01\\UDP_Bandlock_9S_Phone_Airport\\sm00\\#02\\data\\udp_dnlk_loss_latency\\home\\wmnlab\\jackbedford\\data\\2023-11-01\\UDP_Bandlock_9S_Phone_Airport\\sm04\\#02\\data\\udp_dnlk_loss_latency.csv\n",
      "112/216 /home/wmnlab/jackbedford/data/2023-11-01/UDP_Bandlock_9S_Phone_Airport/sm00/#02/data/handover_info_log.csv\n",
      "112/216 /home/wmnlab/jackbedford/data/2023-11-01/UDP_Bandlock_9S_Phone_Airport/sm00/#02/data/udp_dnlk_loss_latency.csv\n",
      "112/216 /home/wmnlab/jackbedford/data/2023-11-01/UDP_Bandlock_9S_Phone_Airport/sm00/#02/data/udp_uplk_loss_latency.csv\n",
      "112/216 /home/wmnlab/jackbedford/data/2023-11-01/UDP_Bandlock_9S_Phone_Airport/sm05/#02/data/handover_info_log.csv\n",
      "112/216 /home/wmnlab/jackbedford/data/2023-11-01/UDP_Bandlock_9S_Phone_Airport/sm05/#02/data/udp_dnlk_loss_latency.csv\n",
      "112/216 /home/wmnlab/jackbedford/data/2023-11-01/UDP_Bandlock_9S_Phone_Airport/sm05/#02/data/udp_uplk_loss_latency.csv\n"
     ]
    },
    {
     "data": {
      "application/vnd.jupyter.widget-view+json": {
       "model_id": "6198cd5583f34a0780dcef77d8358ca0",
       "version_major": 2,
       "version_minor": 0
      },
      "text/plain": [
       "  0%|                                                                                                         …"
      ]
     },
     "metadata": {},
     "output_type": "display_data"
    },
    {
     "name": "stdout",
     "output_type": "stream",
     "text": [
      "./20240312_150032342e_newest/20240314_060073cc2b/results/20240314_07552300000_3eeecdf13ff695a6_adjust/\\home\\wmnlab\\jackbedford\\data\\2023-11-01\\UDP_Bandlock_9S_Phone_Airport\\sm00\\#02\\data\\udp_dnlk_loss_latency\\home\\wmnlab\\jackbedford\\data\\2023-11-01\\UDP_Bandlock_9S_Phone_Airport\\sm05\\#02\\data\\udp_dnlk_loss_latency.csv\n",
      "113/216 /home/wmnlab/jackbedford/data/2023-11-01/UDP_Bandlock_9S_Phone_Airport/sm00/#02/data/handover_info_log.csv\n",
      "113/216 /home/wmnlab/jackbedford/data/2023-11-01/UDP_Bandlock_9S_Phone_Airport/sm00/#02/data/udp_dnlk_loss_latency.csv\n",
      "113/216 /home/wmnlab/jackbedford/data/2023-11-01/UDP_Bandlock_9S_Phone_Airport/sm00/#02/data/udp_uplk_loss_latency.csv\n",
      "113/216 /home/wmnlab/jackbedford/data/2023-11-01/UDP_Bandlock_9S_Phone_Airport/sm06/#02/data/handover_info_log.csv\n",
      "113/216 /home/wmnlab/jackbedford/data/2023-11-01/UDP_Bandlock_9S_Phone_Airport/sm06/#02/data/udp_dnlk_loss_latency.csv\n",
      "113/216 /home/wmnlab/jackbedford/data/2023-11-01/UDP_Bandlock_9S_Phone_Airport/sm06/#02/data/udp_uplk_loss_latency.csv\n"
     ]
    },
    {
     "data": {
      "application/vnd.jupyter.widget-view+json": {
       "model_id": "513ff9575d114f319d28ed1e9c83c900",
       "version_major": 2,
       "version_minor": 0
      },
      "text/plain": [
       "  0%|                                                                                                         …"
      ]
     },
     "metadata": {},
     "output_type": "display_data"
    },
    {
     "name": "stdout",
     "output_type": "stream",
     "text": [
      "./20240312_150032342e_newest/20240314_060073cc2b/results/20240314_07552300000_3eeecdf13ff695a6_adjust/\\home\\wmnlab\\jackbedford\\data\\2023-11-01\\UDP_Bandlock_9S_Phone_Airport\\sm00\\#02\\data\\udp_dnlk_loss_latency\\home\\wmnlab\\jackbedford\\data\\2023-11-01\\UDP_Bandlock_9S_Phone_Airport\\sm06\\#02\\data\\udp_dnlk_loss_latency.csv\n",
      "114/216 /home/wmnlab/jackbedford/data/2023-11-01/UDP_Bandlock_9S_Phone_Airport/sm00/#02/data/handover_info_log.csv\n",
      "114/216 /home/wmnlab/jackbedford/data/2023-11-01/UDP_Bandlock_9S_Phone_Airport/sm00/#02/data/udp_dnlk_loss_latency.csv\n",
      "114/216 /home/wmnlab/jackbedford/data/2023-11-01/UDP_Bandlock_9S_Phone_Airport/sm00/#02/data/udp_uplk_loss_latency.csv\n",
      "114/216 /home/wmnlab/jackbedford/data/2023-11-01/UDP_Bandlock_9S_Phone_Airport/sm07/#02/data/handover_info_log.csv\n",
      "114/216 /home/wmnlab/jackbedford/data/2023-11-01/UDP_Bandlock_9S_Phone_Airport/sm07/#02/data/udp_dnlk_loss_latency.csv\n",
      "114/216 /home/wmnlab/jackbedford/data/2023-11-01/UDP_Bandlock_9S_Phone_Airport/sm07/#02/data/udp_uplk_loss_latency.csv\n"
     ]
    },
    {
     "data": {
      "application/vnd.jupyter.widget-view+json": {
       "model_id": "64d1cd26d57b4a0596c92e207cb5dafa",
       "version_major": 2,
       "version_minor": 0
      },
      "text/plain": [
       "  0%|                                                                                                         …"
      ]
     },
     "metadata": {},
     "output_type": "display_data"
    },
    {
     "name": "stdout",
     "output_type": "stream",
     "text": [
      "./20240312_150032342e_newest/20240314_060073cc2b/results/20240314_07552300000_3eeecdf13ff695a6_adjust/\\home\\wmnlab\\jackbedford\\data\\2023-11-01\\UDP_Bandlock_9S_Phone_Airport\\sm00\\#02\\data\\udp_dnlk_loss_latency\\home\\wmnlab\\jackbedford\\data\\2023-11-01\\UDP_Bandlock_9S_Phone_Airport\\sm07\\#02\\data\\udp_dnlk_loss_latency.csv\n",
      "115/216 /home/wmnlab/jackbedford/data/2023-11-01/UDP_Bandlock_9S_Phone_Airport/sm00/#02/data/handover_info_log.csv\n",
      "115/216 /home/wmnlab/jackbedford/data/2023-11-01/UDP_Bandlock_9S_Phone_Airport/sm00/#02/data/udp_dnlk_loss_latency.csv\n",
      "115/216 /home/wmnlab/jackbedford/data/2023-11-01/UDP_Bandlock_9S_Phone_Airport/sm00/#02/data/udp_uplk_loss_latency.csv\n",
      "115/216 /home/wmnlab/jackbedford/data/2023-11-01/UDP_Bandlock_9S_Phone_Airport/sm08/#02/data/handover_info_log.csv\n",
      "115/216 /home/wmnlab/jackbedford/data/2023-11-01/UDP_Bandlock_9S_Phone_Airport/sm08/#02/data/udp_dnlk_loss_latency.csv\n",
      "115/216 /home/wmnlab/jackbedford/data/2023-11-01/UDP_Bandlock_9S_Phone_Airport/sm08/#02/data/udp_uplk_loss_latency.csv\n"
     ]
    },
    {
     "data": {
      "application/vnd.jupyter.widget-view+json": {
       "model_id": "a4bd23daa2e94ea8b2176230e79302f9",
       "version_major": 2,
       "version_minor": 0
      },
      "text/plain": [
       "  0%|                                                                                                         …"
      ]
     },
     "metadata": {},
     "output_type": "display_data"
    },
    {
     "name": "stdout",
     "output_type": "stream",
     "text": [
      "./20240312_150032342e_newest/20240314_060073cc2b/results/20240314_07552300000_3eeecdf13ff695a6_adjust/\\home\\wmnlab\\jackbedford\\data\\2023-11-01\\UDP_Bandlock_9S_Phone_Airport\\sm00\\#02\\data\\udp_dnlk_loss_latency\\home\\wmnlab\\jackbedford\\data\\2023-11-01\\UDP_Bandlock_9S_Phone_Airport\\sm08\\#02\\data\\udp_dnlk_loss_latency.csv\n",
      "116/216 /home/wmnlab/jackbedford/data/2023-11-01/UDP_Bandlock_9S_Phone_Airport/sm01/#02/data/handover_info_log.csv\n",
      "116/216 /home/wmnlab/jackbedford/data/2023-11-01/UDP_Bandlock_9S_Phone_Airport/sm01/#02/data/udp_dnlk_loss_latency.csv\n",
      "116/216 /home/wmnlab/jackbedford/data/2023-11-01/UDP_Bandlock_9S_Phone_Airport/sm01/#02/data/udp_uplk_loss_latency.csv\n",
      "116/216 /home/wmnlab/jackbedford/data/2023-11-01/UDP_Bandlock_9S_Phone_Airport/sm02/#02/data/handover_info_log.csv\n",
      "116/216 /home/wmnlab/jackbedford/data/2023-11-01/UDP_Bandlock_9S_Phone_Airport/sm02/#02/data/udp_dnlk_loss_latency.csv\n",
      "116/216 /home/wmnlab/jackbedford/data/2023-11-01/UDP_Bandlock_9S_Phone_Airport/sm02/#02/data/udp_uplk_loss_latency.csv\n"
     ]
    },
    {
     "data": {
      "application/vnd.jupyter.widget-view+json": {
       "model_id": "997231fde30347d7a40369894b22686c",
       "version_major": 2,
       "version_minor": 0
      },
      "text/plain": [
       "  0%|                                                                                                         …"
      ]
     },
     "metadata": {},
     "output_type": "display_data"
    },
    {
     "name": "stdout",
     "output_type": "stream",
     "text": [
      "./20240312_150032342e_newest/20240314_060073cc2b/results/20240314_07552300000_3eeecdf13ff695a6_adjust/\\home\\wmnlab\\jackbedford\\data\\2023-11-01\\UDP_Bandlock_9S_Phone_Airport\\sm01\\#02\\data\\udp_dnlk_loss_latency\\home\\wmnlab\\jackbedford\\data\\2023-11-01\\UDP_Bandlock_9S_Phone_Airport\\sm02\\#02\\data\\udp_dnlk_loss_latency.csv\n",
      "117/216 /home/wmnlab/jackbedford/data/2023-11-01/UDP_Bandlock_9S_Phone_Airport/sm01/#02/data/handover_info_log.csv\n",
      "117/216 /home/wmnlab/jackbedford/data/2023-11-01/UDP_Bandlock_9S_Phone_Airport/sm01/#02/data/udp_dnlk_loss_latency.csv\n",
      "117/216 /home/wmnlab/jackbedford/data/2023-11-01/UDP_Bandlock_9S_Phone_Airport/sm01/#02/data/udp_uplk_loss_latency.csv\n",
      "117/216 /home/wmnlab/jackbedford/data/2023-11-01/UDP_Bandlock_9S_Phone_Airport/sm03/#02/data/handover_info_log.csv\n",
      "117/216 /home/wmnlab/jackbedford/data/2023-11-01/UDP_Bandlock_9S_Phone_Airport/sm03/#02/data/udp_dnlk_loss_latency.csv\n",
      "117/216 /home/wmnlab/jackbedford/data/2023-11-01/UDP_Bandlock_9S_Phone_Airport/sm03/#02/data/udp_uplk_loss_latency.csv\n"
     ]
    },
    {
     "data": {
      "application/vnd.jupyter.widget-view+json": {
       "model_id": "c461607b3ba24aca8b59f9d5344e0034",
       "version_major": 2,
       "version_minor": 0
      },
      "text/plain": [
       "  0%|                                                                                                         …"
      ]
     },
     "metadata": {},
     "output_type": "display_data"
    },
    {
     "name": "stdout",
     "output_type": "stream",
     "text": [
      "./20240312_150032342e_newest/20240314_060073cc2b/results/20240314_07552300000_3eeecdf13ff695a6_adjust/\\home\\wmnlab\\jackbedford\\data\\2023-11-01\\UDP_Bandlock_9S_Phone_Airport\\sm01\\#02\\data\\udp_dnlk_loss_latency\\home\\wmnlab\\jackbedford\\data\\2023-11-01\\UDP_Bandlock_9S_Phone_Airport\\sm03\\#02\\data\\udp_dnlk_loss_latency.csv\n",
      "118/216 /home/wmnlab/jackbedford/data/2023-11-01/UDP_Bandlock_9S_Phone_Airport/sm01/#02/data/handover_info_log.csv\n",
      "118/216 /home/wmnlab/jackbedford/data/2023-11-01/UDP_Bandlock_9S_Phone_Airport/sm01/#02/data/udp_dnlk_loss_latency.csv\n",
      "118/216 /home/wmnlab/jackbedford/data/2023-11-01/UDP_Bandlock_9S_Phone_Airport/sm01/#02/data/udp_uplk_loss_latency.csv\n",
      "118/216 /home/wmnlab/jackbedford/data/2023-11-01/UDP_Bandlock_9S_Phone_Airport/sm04/#02/data/handover_info_log.csv\n",
      "118/216 /home/wmnlab/jackbedford/data/2023-11-01/UDP_Bandlock_9S_Phone_Airport/sm04/#02/data/udp_dnlk_loss_latency.csv\n",
      "118/216 /home/wmnlab/jackbedford/data/2023-11-01/UDP_Bandlock_9S_Phone_Airport/sm04/#02/data/udp_uplk_loss_latency.csv\n"
     ]
    },
    {
     "data": {
      "application/vnd.jupyter.widget-view+json": {
       "model_id": "38970766cf884b149b67ccb736cc37f3",
       "version_major": 2,
       "version_minor": 0
      },
      "text/plain": [
       "  0%|                                                                                                         …"
      ]
     },
     "metadata": {},
     "output_type": "display_data"
    },
    {
     "name": "stdout",
     "output_type": "stream",
     "text": [
      "./20240312_150032342e_newest/20240314_060073cc2b/results/20240314_07552300000_3eeecdf13ff695a6_adjust/\\home\\wmnlab\\jackbedford\\data\\2023-11-01\\UDP_Bandlock_9S_Phone_Airport\\sm01\\#02\\data\\udp_dnlk_loss_latency\\home\\wmnlab\\jackbedford\\data\\2023-11-01\\UDP_Bandlock_9S_Phone_Airport\\sm04\\#02\\data\\udp_dnlk_loss_latency.csv\n",
      "119/216 /home/wmnlab/jackbedford/data/2023-11-01/UDP_Bandlock_9S_Phone_Airport/sm01/#02/data/handover_info_log.csv\n",
      "119/216 /home/wmnlab/jackbedford/data/2023-11-01/UDP_Bandlock_9S_Phone_Airport/sm01/#02/data/udp_dnlk_loss_latency.csv\n",
      "119/216 /home/wmnlab/jackbedford/data/2023-11-01/UDP_Bandlock_9S_Phone_Airport/sm01/#02/data/udp_uplk_loss_latency.csv\n",
      "119/216 /home/wmnlab/jackbedford/data/2023-11-01/UDP_Bandlock_9S_Phone_Airport/sm05/#02/data/handover_info_log.csv\n",
      "119/216 /home/wmnlab/jackbedford/data/2023-11-01/UDP_Bandlock_9S_Phone_Airport/sm05/#02/data/udp_dnlk_loss_latency.csv\n",
      "119/216 /home/wmnlab/jackbedford/data/2023-11-01/UDP_Bandlock_9S_Phone_Airport/sm05/#02/data/udp_uplk_loss_latency.csv\n"
     ]
    },
    {
     "data": {
      "application/vnd.jupyter.widget-view+json": {
       "model_id": "26a357804281498f9f8ffc2c49af4eea",
       "version_major": 2,
       "version_minor": 0
      },
      "text/plain": [
       "  0%|                                                                                                         …"
      ]
     },
     "metadata": {},
     "output_type": "display_data"
    },
    {
     "name": "stdout",
     "output_type": "stream",
     "text": [
      "./20240312_150032342e_newest/20240314_060073cc2b/results/20240314_07552300000_3eeecdf13ff695a6_adjust/\\home\\wmnlab\\jackbedford\\data\\2023-11-01\\UDP_Bandlock_9S_Phone_Airport\\sm01\\#02\\data\\udp_dnlk_loss_latency\\home\\wmnlab\\jackbedford\\data\\2023-11-01\\UDP_Bandlock_9S_Phone_Airport\\sm05\\#02\\data\\udp_dnlk_loss_latency.csv\n",
      "120/216 /home/wmnlab/jackbedford/data/2023-11-01/UDP_Bandlock_9S_Phone_Airport/sm01/#02/data/handover_info_log.csv\n",
      "120/216 /home/wmnlab/jackbedford/data/2023-11-01/UDP_Bandlock_9S_Phone_Airport/sm01/#02/data/udp_dnlk_loss_latency.csv\n",
      "120/216 /home/wmnlab/jackbedford/data/2023-11-01/UDP_Bandlock_9S_Phone_Airport/sm01/#02/data/udp_uplk_loss_latency.csv\n",
      "120/216 /home/wmnlab/jackbedford/data/2023-11-01/UDP_Bandlock_9S_Phone_Airport/sm06/#02/data/handover_info_log.csv\n",
      "120/216 /home/wmnlab/jackbedford/data/2023-11-01/UDP_Bandlock_9S_Phone_Airport/sm06/#02/data/udp_dnlk_loss_latency.csv\n",
      "120/216 /home/wmnlab/jackbedford/data/2023-11-01/UDP_Bandlock_9S_Phone_Airport/sm06/#02/data/udp_uplk_loss_latency.csv\n"
     ]
    },
    {
     "data": {
      "application/vnd.jupyter.widget-view+json": {
       "model_id": "f8d64c02bf3243d3a2dcaf7f0b6b08f9",
       "version_major": 2,
       "version_minor": 0
      },
      "text/plain": [
       "  0%|                                                                                                         …"
      ]
     },
     "metadata": {},
     "output_type": "display_data"
    },
    {
     "name": "stdout",
     "output_type": "stream",
     "text": [
      "./20240312_150032342e_newest/20240314_060073cc2b/results/20240314_07552300000_3eeecdf13ff695a6_adjust/\\home\\wmnlab\\jackbedford\\data\\2023-11-01\\UDP_Bandlock_9S_Phone_Airport\\sm01\\#02\\data\\udp_dnlk_loss_latency\\home\\wmnlab\\jackbedford\\data\\2023-11-01\\UDP_Bandlock_9S_Phone_Airport\\sm06\\#02\\data\\udp_dnlk_loss_latency.csv\n",
      "121/216 /home/wmnlab/jackbedford/data/2023-11-01/UDP_Bandlock_9S_Phone_Airport/sm01/#02/data/handover_info_log.csv\n",
      "121/216 /home/wmnlab/jackbedford/data/2023-11-01/UDP_Bandlock_9S_Phone_Airport/sm01/#02/data/udp_dnlk_loss_latency.csv\n",
      "121/216 /home/wmnlab/jackbedford/data/2023-11-01/UDP_Bandlock_9S_Phone_Airport/sm01/#02/data/udp_uplk_loss_latency.csv\n",
      "121/216 /home/wmnlab/jackbedford/data/2023-11-01/UDP_Bandlock_9S_Phone_Airport/sm07/#02/data/handover_info_log.csv\n",
      "121/216 /home/wmnlab/jackbedford/data/2023-11-01/UDP_Bandlock_9S_Phone_Airport/sm07/#02/data/udp_dnlk_loss_latency.csv\n",
      "121/216 /home/wmnlab/jackbedford/data/2023-11-01/UDP_Bandlock_9S_Phone_Airport/sm07/#02/data/udp_uplk_loss_latency.csv\n"
     ]
    },
    {
     "data": {
      "application/vnd.jupyter.widget-view+json": {
       "model_id": "2f135e640916455d91727fa90bcd81b7",
       "version_major": 2,
       "version_minor": 0
      },
      "text/plain": [
       "  0%|                                                                                                         …"
      ]
     },
     "metadata": {},
     "output_type": "display_data"
    },
    {
     "name": "stdout",
     "output_type": "stream",
     "text": [
      "./20240312_150032342e_newest/20240314_060073cc2b/results/20240314_07552300000_3eeecdf13ff695a6_adjust/\\home\\wmnlab\\jackbedford\\data\\2023-11-01\\UDP_Bandlock_9S_Phone_Airport\\sm01\\#02\\data\\udp_dnlk_loss_latency\\home\\wmnlab\\jackbedford\\data\\2023-11-01\\UDP_Bandlock_9S_Phone_Airport\\sm07\\#02\\data\\udp_dnlk_loss_latency.csv\n",
      "122/216 /home/wmnlab/jackbedford/data/2023-11-01/UDP_Bandlock_9S_Phone_Airport/sm01/#02/data/handover_info_log.csv\n",
      "122/216 /home/wmnlab/jackbedford/data/2023-11-01/UDP_Bandlock_9S_Phone_Airport/sm01/#02/data/udp_dnlk_loss_latency.csv\n",
      "122/216 /home/wmnlab/jackbedford/data/2023-11-01/UDP_Bandlock_9S_Phone_Airport/sm01/#02/data/udp_uplk_loss_latency.csv\n",
      "122/216 /home/wmnlab/jackbedford/data/2023-11-01/UDP_Bandlock_9S_Phone_Airport/sm08/#02/data/handover_info_log.csv\n",
      "122/216 /home/wmnlab/jackbedford/data/2023-11-01/UDP_Bandlock_9S_Phone_Airport/sm08/#02/data/udp_dnlk_loss_latency.csv\n",
      "122/216 /home/wmnlab/jackbedford/data/2023-11-01/UDP_Bandlock_9S_Phone_Airport/sm08/#02/data/udp_uplk_loss_latency.csv\n"
     ]
    },
    {
     "data": {
      "application/vnd.jupyter.widget-view+json": {
       "model_id": "c93b4ff32c34457c9bcff9fbf6119409",
       "version_major": 2,
       "version_minor": 0
      },
      "text/plain": [
       "  0%|                                                                                                         …"
      ]
     },
     "metadata": {},
     "output_type": "display_data"
    },
    {
     "name": "stdout",
     "output_type": "stream",
     "text": [
      "./20240312_150032342e_newest/20240314_060073cc2b/results/20240314_07552300000_3eeecdf13ff695a6_adjust/\\home\\wmnlab\\jackbedford\\data\\2023-11-01\\UDP_Bandlock_9S_Phone_Airport\\sm01\\#02\\data\\udp_dnlk_loss_latency\\home\\wmnlab\\jackbedford\\data\\2023-11-01\\UDP_Bandlock_9S_Phone_Airport\\sm08\\#02\\data\\udp_dnlk_loss_latency.csv\n",
      "123/216 /home/wmnlab/jackbedford/data/2023-11-01/UDP_Bandlock_9S_Phone_Airport/sm02/#02/data/handover_info_log.csv\n",
      "123/216 /home/wmnlab/jackbedford/data/2023-11-01/UDP_Bandlock_9S_Phone_Airport/sm02/#02/data/udp_dnlk_loss_latency.csv\n",
      "123/216 /home/wmnlab/jackbedford/data/2023-11-01/UDP_Bandlock_9S_Phone_Airport/sm02/#02/data/udp_uplk_loss_latency.csv\n",
      "123/216 /home/wmnlab/jackbedford/data/2023-11-01/UDP_Bandlock_9S_Phone_Airport/sm03/#02/data/handover_info_log.csv\n",
      "123/216 /home/wmnlab/jackbedford/data/2023-11-01/UDP_Bandlock_9S_Phone_Airport/sm03/#02/data/udp_dnlk_loss_latency.csv\n",
      "123/216 /home/wmnlab/jackbedford/data/2023-11-01/UDP_Bandlock_9S_Phone_Airport/sm03/#02/data/udp_uplk_loss_latency.csv\n"
     ]
    },
    {
     "data": {
      "application/vnd.jupyter.widget-view+json": {
       "model_id": "83ac4191811e4b69b127305c1453c02b",
       "version_major": 2,
       "version_minor": 0
      },
      "text/plain": [
       "  0%|                                                                                                         …"
      ]
     },
     "metadata": {},
     "output_type": "display_data"
    },
    {
     "name": "stdout",
     "output_type": "stream",
     "text": [
      "./20240312_150032342e_newest/20240314_060073cc2b/results/20240314_07552300000_3eeecdf13ff695a6_adjust/\\home\\wmnlab\\jackbedford\\data\\2023-11-01\\UDP_Bandlock_9S_Phone_Airport\\sm02\\#02\\data\\udp_dnlk_loss_latency\\home\\wmnlab\\jackbedford\\data\\2023-11-01\\UDP_Bandlock_9S_Phone_Airport\\sm03\\#02\\data\\udp_dnlk_loss_latency.csv\n",
      "124/216 /home/wmnlab/jackbedford/data/2023-11-01/UDP_Bandlock_9S_Phone_Airport/sm02/#02/data/handover_info_log.csv\n",
      "124/216 /home/wmnlab/jackbedford/data/2023-11-01/UDP_Bandlock_9S_Phone_Airport/sm02/#02/data/udp_dnlk_loss_latency.csv\n",
      "124/216 /home/wmnlab/jackbedford/data/2023-11-01/UDP_Bandlock_9S_Phone_Airport/sm02/#02/data/udp_uplk_loss_latency.csv\n",
      "124/216 /home/wmnlab/jackbedford/data/2023-11-01/UDP_Bandlock_9S_Phone_Airport/sm04/#02/data/handover_info_log.csv\n",
      "124/216 /home/wmnlab/jackbedford/data/2023-11-01/UDP_Bandlock_9S_Phone_Airport/sm04/#02/data/udp_dnlk_loss_latency.csv\n",
      "124/216 /home/wmnlab/jackbedford/data/2023-11-01/UDP_Bandlock_9S_Phone_Airport/sm04/#02/data/udp_uplk_loss_latency.csv\n"
     ]
    },
    {
     "data": {
      "application/vnd.jupyter.widget-view+json": {
       "model_id": "abf3d22968844ddfab91262ff59b996b",
       "version_major": 2,
       "version_minor": 0
      },
      "text/plain": [
       "  0%|                                                                                                         …"
      ]
     },
     "metadata": {},
     "output_type": "display_data"
    },
    {
     "name": "stdout",
     "output_type": "stream",
     "text": [
      "./20240312_150032342e_newest/20240314_060073cc2b/results/20240314_07552300000_3eeecdf13ff695a6_adjust/\\home\\wmnlab\\jackbedford\\data\\2023-11-01\\UDP_Bandlock_9S_Phone_Airport\\sm02\\#02\\data\\udp_dnlk_loss_latency\\home\\wmnlab\\jackbedford\\data\\2023-11-01\\UDP_Bandlock_9S_Phone_Airport\\sm04\\#02\\data\\udp_dnlk_loss_latency.csv\n",
      "125/216 /home/wmnlab/jackbedford/data/2023-11-01/UDP_Bandlock_9S_Phone_Airport/sm02/#02/data/handover_info_log.csv\n",
      "125/216 /home/wmnlab/jackbedford/data/2023-11-01/UDP_Bandlock_9S_Phone_Airport/sm02/#02/data/udp_dnlk_loss_latency.csv\n",
      "125/216 /home/wmnlab/jackbedford/data/2023-11-01/UDP_Bandlock_9S_Phone_Airport/sm02/#02/data/udp_uplk_loss_latency.csv\n",
      "125/216 /home/wmnlab/jackbedford/data/2023-11-01/UDP_Bandlock_9S_Phone_Airport/sm05/#02/data/handover_info_log.csv\n",
      "125/216 /home/wmnlab/jackbedford/data/2023-11-01/UDP_Bandlock_9S_Phone_Airport/sm05/#02/data/udp_dnlk_loss_latency.csv\n",
      "125/216 /home/wmnlab/jackbedford/data/2023-11-01/UDP_Bandlock_9S_Phone_Airport/sm05/#02/data/udp_uplk_loss_latency.csv\n"
     ]
    },
    {
     "data": {
      "application/vnd.jupyter.widget-view+json": {
       "model_id": "dd406bddfe0143d292773869271fdc27",
       "version_major": 2,
       "version_minor": 0
      },
      "text/plain": [
       "  0%|                                                                                                         …"
      ]
     },
     "metadata": {},
     "output_type": "display_data"
    },
    {
     "name": "stdout",
     "output_type": "stream",
     "text": [
      "./20240312_150032342e_newest/20240314_060073cc2b/results/20240314_07552300000_3eeecdf13ff695a6_adjust/\\home\\wmnlab\\jackbedford\\data\\2023-11-01\\UDP_Bandlock_9S_Phone_Airport\\sm02\\#02\\data\\udp_dnlk_loss_latency\\home\\wmnlab\\jackbedford\\data\\2023-11-01\\UDP_Bandlock_9S_Phone_Airport\\sm05\\#02\\data\\udp_dnlk_loss_latency.csv\n",
      "126/216 /home/wmnlab/jackbedford/data/2023-11-01/UDP_Bandlock_9S_Phone_Airport/sm02/#02/data/handover_info_log.csv\n",
      "126/216 /home/wmnlab/jackbedford/data/2023-11-01/UDP_Bandlock_9S_Phone_Airport/sm02/#02/data/udp_dnlk_loss_latency.csv\n",
      "126/216 /home/wmnlab/jackbedford/data/2023-11-01/UDP_Bandlock_9S_Phone_Airport/sm02/#02/data/udp_uplk_loss_latency.csv\n",
      "126/216 /home/wmnlab/jackbedford/data/2023-11-01/UDP_Bandlock_9S_Phone_Airport/sm06/#02/data/handover_info_log.csv\n",
      "126/216 /home/wmnlab/jackbedford/data/2023-11-01/UDP_Bandlock_9S_Phone_Airport/sm06/#02/data/udp_dnlk_loss_latency.csv\n",
      "126/216 /home/wmnlab/jackbedford/data/2023-11-01/UDP_Bandlock_9S_Phone_Airport/sm06/#02/data/udp_uplk_loss_latency.csv\n"
     ]
    },
    {
     "data": {
      "application/vnd.jupyter.widget-view+json": {
       "model_id": "970f23df07564fa7bf58b185015045ad",
       "version_major": 2,
       "version_minor": 0
      },
      "text/plain": [
       "  0%|                                                                                                         …"
      ]
     },
     "metadata": {},
     "output_type": "display_data"
    },
    {
     "name": "stdout",
     "output_type": "stream",
     "text": [
      "./20240312_150032342e_newest/20240314_060073cc2b/results/20240314_07552300000_3eeecdf13ff695a6_adjust/\\home\\wmnlab\\jackbedford\\data\\2023-11-01\\UDP_Bandlock_9S_Phone_Airport\\sm02\\#02\\data\\udp_dnlk_loss_latency\\home\\wmnlab\\jackbedford\\data\\2023-11-01\\UDP_Bandlock_9S_Phone_Airport\\sm06\\#02\\data\\udp_dnlk_loss_latency.csv\n",
      "127/216 /home/wmnlab/jackbedford/data/2023-11-01/UDP_Bandlock_9S_Phone_Airport/sm02/#02/data/handover_info_log.csv\n",
      "127/216 /home/wmnlab/jackbedford/data/2023-11-01/UDP_Bandlock_9S_Phone_Airport/sm02/#02/data/udp_dnlk_loss_latency.csv\n",
      "127/216 /home/wmnlab/jackbedford/data/2023-11-01/UDP_Bandlock_9S_Phone_Airport/sm02/#02/data/udp_uplk_loss_latency.csv\n",
      "127/216 /home/wmnlab/jackbedford/data/2023-11-01/UDP_Bandlock_9S_Phone_Airport/sm07/#02/data/handover_info_log.csv\n",
      "127/216 /home/wmnlab/jackbedford/data/2023-11-01/UDP_Bandlock_9S_Phone_Airport/sm07/#02/data/udp_dnlk_loss_latency.csv\n",
      "127/216 /home/wmnlab/jackbedford/data/2023-11-01/UDP_Bandlock_9S_Phone_Airport/sm07/#02/data/udp_uplk_loss_latency.csv\n"
     ]
    },
    {
     "data": {
      "application/vnd.jupyter.widget-view+json": {
       "model_id": "dce94717ade545faa865e8755e9a17fb",
       "version_major": 2,
       "version_minor": 0
      },
      "text/plain": [
       "  0%|                                                                                                         …"
      ]
     },
     "metadata": {},
     "output_type": "display_data"
    },
    {
     "name": "stdout",
     "output_type": "stream",
     "text": [
      "./20240312_150032342e_newest/20240314_060073cc2b/results/20240314_07552300000_3eeecdf13ff695a6_adjust/\\home\\wmnlab\\jackbedford\\data\\2023-11-01\\UDP_Bandlock_9S_Phone_Airport\\sm02\\#02\\data\\udp_dnlk_loss_latency\\home\\wmnlab\\jackbedford\\data\\2023-11-01\\UDP_Bandlock_9S_Phone_Airport\\sm07\\#02\\data\\udp_dnlk_loss_latency.csv\n",
      "128/216 /home/wmnlab/jackbedford/data/2023-11-01/UDP_Bandlock_9S_Phone_Airport/sm02/#02/data/handover_info_log.csv\n",
      "128/216 /home/wmnlab/jackbedford/data/2023-11-01/UDP_Bandlock_9S_Phone_Airport/sm02/#02/data/udp_dnlk_loss_latency.csv\n",
      "128/216 /home/wmnlab/jackbedford/data/2023-11-01/UDP_Bandlock_9S_Phone_Airport/sm02/#02/data/udp_uplk_loss_latency.csv\n",
      "128/216 /home/wmnlab/jackbedford/data/2023-11-01/UDP_Bandlock_9S_Phone_Airport/sm08/#02/data/handover_info_log.csv\n",
      "128/216 /home/wmnlab/jackbedford/data/2023-11-01/UDP_Bandlock_9S_Phone_Airport/sm08/#02/data/udp_dnlk_loss_latency.csv\n",
      "128/216 /home/wmnlab/jackbedford/data/2023-11-01/UDP_Bandlock_9S_Phone_Airport/sm08/#02/data/udp_uplk_loss_latency.csv\n"
     ]
    },
    {
     "data": {
      "application/vnd.jupyter.widget-view+json": {
       "model_id": "a776138f84b647e6b572bfe7e180cc67",
       "version_major": 2,
       "version_minor": 0
      },
      "text/plain": [
       "  0%|                                                                                                         …"
      ]
     },
     "metadata": {},
     "output_type": "display_data"
    },
    {
     "name": "stdout",
     "output_type": "stream",
     "text": [
      "./20240312_150032342e_newest/20240314_060073cc2b/results/20240314_07552300000_3eeecdf13ff695a6_adjust/\\home\\wmnlab\\jackbedford\\data\\2023-11-01\\UDP_Bandlock_9S_Phone_Airport\\sm02\\#02\\data\\udp_dnlk_loss_latency\\home\\wmnlab\\jackbedford\\data\\2023-11-01\\UDP_Bandlock_9S_Phone_Airport\\sm08\\#02\\data\\udp_dnlk_loss_latency.csv\n",
      "129/216 /home/wmnlab/jackbedford/data/2023-11-01/UDP_Bandlock_9S_Phone_Airport/sm03/#02/data/handover_info_log.csv\n",
      "129/216 /home/wmnlab/jackbedford/data/2023-11-01/UDP_Bandlock_9S_Phone_Airport/sm03/#02/data/udp_dnlk_loss_latency.csv\n",
      "129/216 /home/wmnlab/jackbedford/data/2023-11-01/UDP_Bandlock_9S_Phone_Airport/sm03/#02/data/udp_uplk_loss_latency.csv\n",
      "129/216 /home/wmnlab/jackbedford/data/2023-11-01/UDP_Bandlock_9S_Phone_Airport/sm04/#02/data/handover_info_log.csv\n",
      "129/216 /home/wmnlab/jackbedford/data/2023-11-01/UDP_Bandlock_9S_Phone_Airport/sm04/#02/data/udp_dnlk_loss_latency.csv\n",
      "129/216 /home/wmnlab/jackbedford/data/2023-11-01/UDP_Bandlock_9S_Phone_Airport/sm04/#02/data/udp_uplk_loss_latency.csv\n"
     ]
    },
    {
     "data": {
      "application/vnd.jupyter.widget-view+json": {
       "model_id": "53ac67d7388549328eec99dd204d83ac",
       "version_major": 2,
       "version_minor": 0
      },
      "text/plain": [
       "  0%|                                                                                                         …"
      ]
     },
     "metadata": {},
     "output_type": "display_data"
    },
    {
     "name": "stdout",
     "output_type": "stream",
     "text": [
      "./20240312_150032342e_newest/20240314_060073cc2b/results/20240314_07552300000_3eeecdf13ff695a6_adjust/\\home\\wmnlab\\jackbedford\\data\\2023-11-01\\UDP_Bandlock_9S_Phone_Airport\\sm03\\#02\\data\\udp_dnlk_loss_latency\\home\\wmnlab\\jackbedford\\data\\2023-11-01\\UDP_Bandlock_9S_Phone_Airport\\sm04\\#02\\data\\udp_dnlk_loss_latency.csv\n",
      "130/216 /home/wmnlab/jackbedford/data/2023-11-01/UDP_Bandlock_9S_Phone_Airport/sm03/#02/data/handover_info_log.csv\n",
      "130/216 /home/wmnlab/jackbedford/data/2023-11-01/UDP_Bandlock_9S_Phone_Airport/sm03/#02/data/udp_dnlk_loss_latency.csv\n",
      "130/216 /home/wmnlab/jackbedford/data/2023-11-01/UDP_Bandlock_9S_Phone_Airport/sm03/#02/data/udp_uplk_loss_latency.csv\n",
      "130/216 /home/wmnlab/jackbedford/data/2023-11-01/UDP_Bandlock_9S_Phone_Airport/sm05/#02/data/handover_info_log.csv\n",
      "130/216 /home/wmnlab/jackbedford/data/2023-11-01/UDP_Bandlock_9S_Phone_Airport/sm05/#02/data/udp_dnlk_loss_latency.csv\n",
      "130/216 /home/wmnlab/jackbedford/data/2023-11-01/UDP_Bandlock_9S_Phone_Airport/sm05/#02/data/udp_uplk_loss_latency.csv\n"
     ]
    },
    {
     "data": {
      "application/vnd.jupyter.widget-view+json": {
       "model_id": "ca5a9c12443546bba73314c19109960b",
       "version_major": 2,
       "version_minor": 0
      },
      "text/plain": [
       "  0%|                                                                                                         …"
      ]
     },
     "metadata": {},
     "output_type": "display_data"
    },
    {
     "name": "stdout",
     "output_type": "stream",
     "text": [
      "./20240312_150032342e_newest/20240314_060073cc2b/results/20240314_07552300000_3eeecdf13ff695a6_adjust/\\home\\wmnlab\\jackbedford\\data\\2023-11-01\\UDP_Bandlock_9S_Phone_Airport\\sm03\\#02\\data\\udp_dnlk_loss_latency\\home\\wmnlab\\jackbedford\\data\\2023-11-01\\UDP_Bandlock_9S_Phone_Airport\\sm05\\#02\\data\\udp_dnlk_loss_latency.csv\n",
      "131/216 /home/wmnlab/jackbedford/data/2023-11-01/UDP_Bandlock_9S_Phone_Airport/sm03/#02/data/handover_info_log.csv\n",
      "131/216 /home/wmnlab/jackbedford/data/2023-11-01/UDP_Bandlock_9S_Phone_Airport/sm03/#02/data/udp_dnlk_loss_latency.csv\n",
      "131/216 /home/wmnlab/jackbedford/data/2023-11-01/UDP_Bandlock_9S_Phone_Airport/sm03/#02/data/udp_uplk_loss_latency.csv\n",
      "131/216 /home/wmnlab/jackbedford/data/2023-11-01/UDP_Bandlock_9S_Phone_Airport/sm06/#02/data/handover_info_log.csv\n",
      "131/216 /home/wmnlab/jackbedford/data/2023-11-01/UDP_Bandlock_9S_Phone_Airport/sm06/#02/data/udp_dnlk_loss_latency.csv\n",
      "131/216 /home/wmnlab/jackbedford/data/2023-11-01/UDP_Bandlock_9S_Phone_Airport/sm06/#02/data/udp_uplk_loss_latency.csv\n"
     ]
    },
    {
     "data": {
      "application/vnd.jupyter.widget-view+json": {
       "model_id": "416ebdb499dd416c894b74a79963e662",
       "version_major": 2,
       "version_minor": 0
      },
      "text/plain": [
       "  0%|                                                                                                         …"
      ]
     },
     "metadata": {},
     "output_type": "display_data"
    },
    {
     "name": "stdout",
     "output_type": "stream",
     "text": [
      "./20240312_150032342e_newest/20240314_060073cc2b/results/20240314_07552300000_3eeecdf13ff695a6_adjust/\\home\\wmnlab\\jackbedford\\data\\2023-11-01\\UDP_Bandlock_9S_Phone_Airport\\sm03\\#02\\data\\udp_dnlk_loss_latency\\home\\wmnlab\\jackbedford\\data\\2023-11-01\\UDP_Bandlock_9S_Phone_Airport\\sm06\\#02\\data\\udp_dnlk_loss_latency.csv\n",
      "132/216 /home/wmnlab/jackbedford/data/2023-11-01/UDP_Bandlock_9S_Phone_Airport/sm03/#02/data/handover_info_log.csv\n",
      "132/216 /home/wmnlab/jackbedford/data/2023-11-01/UDP_Bandlock_9S_Phone_Airport/sm03/#02/data/udp_dnlk_loss_latency.csv\n",
      "132/216 /home/wmnlab/jackbedford/data/2023-11-01/UDP_Bandlock_9S_Phone_Airport/sm03/#02/data/udp_uplk_loss_latency.csv\n",
      "132/216 /home/wmnlab/jackbedford/data/2023-11-01/UDP_Bandlock_9S_Phone_Airport/sm07/#02/data/handover_info_log.csv\n",
      "132/216 /home/wmnlab/jackbedford/data/2023-11-01/UDP_Bandlock_9S_Phone_Airport/sm07/#02/data/udp_dnlk_loss_latency.csv\n",
      "132/216 /home/wmnlab/jackbedford/data/2023-11-01/UDP_Bandlock_9S_Phone_Airport/sm07/#02/data/udp_uplk_loss_latency.csv\n"
     ]
    },
    {
     "data": {
      "application/vnd.jupyter.widget-view+json": {
       "model_id": "5ce1fd6b02064e75b5a7f5192bf22623",
       "version_major": 2,
       "version_minor": 0
      },
      "text/plain": [
       "  0%|                                                                                                         …"
      ]
     },
     "metadata": {},
     "output_type": "display_data"
    },
    {
     "name": "stdout",
     "output_type": "stream",
     "text": [
      "./20240312_150032342e_newest/20240314_060073cc2b/results/20240314_07552300000_3eeecdf13ff695a6_adjust/\\home\\wmnlab\\jackbedford\\data\\2023-11-01\\UDP_Bandlock_9S_Phone_Airport\\sm03\\#02\\data\\udp_dnlk_loss_latency\\home\\wmnlab\\jackbedford\\data\\2023-11-01\\UDP_Bandlock_9S_Phone_Airport\\sm07\\#02\\data\\udp_dnlk_loss_latency.csv\n",
      "133/216 /home/wmnlab/jackbedford/data/2023-11-01/UDP_Bandlock_9S_Phone_Airport/sm03/#02/data/handover_info_log.csv\n",
      "133/216 /home/wmnlab/jackbedford/data/2023-11-01/UDP_Bandlock_9S_Phone_Airport/sm03/#02/data/udp_dnlk_loss_latency.csv\n",
      "133/216 /home/wmnlab/jackbedford/data/2023-11-01/UDP_Bandlock_9S_Phone_Airport/sm03/#02/data/udp_uplk_loss_latency.csv\n",
      "133/216 /home/wmnlab/jackbedford/data/2023-11-01/UDP_Bandlock_9S_Phone_Airport/sm08/#02/data/handover_info_log.csv\n",
      "133/216 /home/wmnlab/jackbedford/data/2023-11-01/UDP_Bandlock_9S_Phone_Airport/sm08/#02/data/udp_dnlk_loss_latency.csv\n",
      "133/216 /home/wmnlab/jackbedford/data/2023-11-01/UDP_Bandlock_9S_Phone_Airport/sm08/#02/data/udp_uplk_loss_latency.csv\n"
     ]
    },
    {
     "data": {
      "application/vnd.jupyter.widget-view+json": {
       "model_id": "93ffc7229841474191fb2a4988fa51ad",
       "version_major": 2,
       "version_minor": 0
      },
      "text/plain": [
       "  0%|                                                                                                         …"
      ]
     },
     "metadata": {},
     "output_type": "display_data"
    },
    {
     "name": "stdout",
     "output_type": "stream",
     "text": [
      "./20240312_150032342e_newest/20240314_060073cc2b/results/20240314_07552300000_3eeecdf13ff695a6_adjust/\\home\\wmnlab\\jackbedford\\data\\2023-11-01\\UDP_Bandlock_9S_Phone_Airport\\sm03\\#02\\data\\udp_dnlk_loss_latency\\home\\wmnlab\\jackbedford\\data\\2023-11-01\\UDP_Bandlock_9S_Phone_Airport\\sm08\\#02\\data\\udp_dnlk_loss_latency.csv\n",
      "134/216 /home/wmnlab/jackbedford/data/2023-11-01/UDP_Bandlock_9S_Phone_Airport/sm04/#02/data/handover_info_log.csv\n",
      "134/216 /home/wmnlab/jackbedford/data/2023-11-01/UDP_Bandlock_9S_Phone_Airport/sm04/#02/data/udp_dnlk_loss_latency.csv\n",
      "134/216 /home/wmnlab/jackbedford/data/2023-11-01/UDP_Bandlock_9S_Phone_Airport/sm04/#02/data/udp_uplk_loss_latency.csv\n",
      "134/216 /home/wmnlab/jackbedford/data/2023-11-01/UDP_Bandlock_9S_Phone_Airport/sm05/#02/data/handover_info_log.csv\n",
      "134/216 /home/wmnlab/jackbedford/data/2023-11-01/UDP_Bandlock_9S_Phone_Airport/sm05/#02/data/udp_dnlk_loss_latency.csv\n",
      "134/216 /home/wmnlab/jackbedford/data/2023-11-01/UDP_Bandlock_9S_Phone_Airport/sm05/#02/data/udp_uplk_loss_latency.csv\n"
     ]
    },
    {
     "data": {
      "application/vnd.jupyter.widget-view+json": {
       "model_id": "a557e8cad81d42b8850cbd5218b18283",
       "version_major": 2,
       "version_minor": 0
      },
      "text/plain": [
       "  0%|                                                                                                         …"
      ]
     },
     "metadata": {},
     "output_type": "display_data"
    },
    {
     "name": "stdout",
     "output_type": "stream",
     "text": [
      "./20240312_150032342e_newest/20240314_060073cc2b/results/20240314_07552300000_3eeecdf13ff695a6_adjust/\\home\\wmnlab\\jackbedford\\data\\2023-11-01\\UDP_Bandlock_9S_Phone_Airport\\sm04\\#02\\data\\udp_dnlk_loss_latency\\home\\wmnlab\\jackbedford\\data\\2023-11-01\\UDP_Bandlock_9S_Phone_Airport\\sm05\\#02\\data\\udp_dnlk_loss_latency.csv\n",
      "135/216 /home/wmnlab/jackbedford/data/2023-11-01/UDP_Bandlock_9S_Phone_Airport/sm04/#02/data/handover_info_log.csv\n",
      "135/216 /home/wmnlab/jackbedford/data/2023-11-01/UDP_Bandlock_9S_Phone_Airport/sm04/#02/data/udp_dnlk_loss_latency.csv\n",
      "135/216 /home/wmnlab/jackbedford/data/2023-11-01/UDP_Bandlock_9S_Phone_Airport/sm04/#02/data/udp_uplk_loss_latency.csv\n",
      "135/216 /home/wmnlab/jackbedford/data/2023-11-01/UDP_Bandlock_9S_Phone_Airport/sm06/#02/data/handover_info_log.csv\n",
      "135/216 /home/wmnlab/jackbedford/data/2023-11-01/UDP_Bandlock_9S_Phone_Airport/sm06/#02/data/udp_dnlk_loss_latency.csv\n",
      "135/216 /home/wmnlab/jackbedford/data/2023-11-01/UDP_Bandlock_9S_Phone_Airport/sm06/#02/data/udp_uplk_loss_latency.csv\n"
     ]
    },
    {
     "data": {
      "application/vnd.jupyter.widget-view+json": {
       "model_id": "3c760eccde954e3da8a1863c8f4e5d97",
       "version_major": 2,
       "version_minor": 0
      },
      "text/plain": [
       "  0%|                                                                                                         …"
      ]
     },
     "metadata": {},
     "output_type": "display_data"
    },
    {
     "name": "stdout",
     "output_type": "stream",
     "text": [
      "./20240312_150032342e_newest/20240314_060073cc2b/results/20240314_07552300000_3eeecdf13ff695a6_adjust/\\home\\wmnlab\\jackbedford\\data\\2023-11-01\\UDP_Bandlock_9S_Phone_Airport\\sm04\\#02\\data\\udp_dnlk_loss_latency\\home\\wmnlab\\jackbedford\\data\\2023-11-01\\UDP_Bandlock_9S_Phone_Airport\\sm06\\#02\\data\\udp_dnlk_loss_latency.csv\n",
      "136/216 /home/wmnlab/jackbedford/data/2023-11-01/UDP_Bandlock_9S_Phone_Airport/sm04/#02/data/handover_info_log.csv\n",
      "136/216 /home/wmnlab/jackbedford/data/2023-11-01/UDP_Bandlock_9S_Phone_Airport/sm04/#02/data/udp_dnlk_loss_latency.csv\n",
      "136/216 /home/wmnlab/jackbedford/data/2023-11-01/UDP_Bandlock_9S_Phone_Airport/sm04/#02/data/udp_uplk_loss_latency.csv\n",
      "136/216 /home/wmnlab/jackbedford/data/2023-11-01/UDP_Bandlock_9S_Phone_Airport/sm07/#02/data/handover_info_log.csv\n",
      "136/216 /home/wmnlab/jackbedford/data/2023-11-01/UDP_Bandlock_9S_Phone_Airport/sm07/#02/data/udp_dnlk_loss_latency.csv\n",
      "136/216 /home/wmnlab/jackbedford/data/2023-11-01/UDP_Bandlock_9S_Phone_Airport/sm07/#02/data/udp_uplk_loss_latency.csv\n"
     ]
    },
    {
     "data": {
      "application/vnd.jupyter.widget-view+json": {
       "model_id": "aa9c07e8a9404626929f8ed5b20e4d2f",
       "version_major": 2,
       "version_minor": 0
      },
      "text/plain": [
       "  0%|                                                                                                         …"
      ]
     },
     "metadata": {},
     "output_type": "display_data"
    },
    {
     "name": "stdout",
     "output_type": "stream",
     "text": [
      "./20240312_150032342e_newest/20240314_060073cc2b/results/20240314_07552300000_3eeecdf13ff695a6_adjust/\\home\\wmnlab\\jackbedford\\data\\2023-11-01\\UDP_Bandlock_9S_Phone_Airport\\sm04\\#02\\data\\udp_dnlk_loss_latency\\home\\wmnlab\\jackbedford\\data\\2023-11-01\\UDP_Bandlock_9S_Phone_Airport\\sm07\\#02\\data\\udp_dnlk_loss_latency.csv\n",
      "137/216 /home/wmnlab/jackbedford/data/2023-11-01/UDP_Bandlock_9S_Phone_Airport/sm04/#02/data/handover_info_log.csv\n",
      "137/216 /home/wmnlab/jackbedford/data/2023-11-01/UDP_Bandlock_9S_Phone_Airport/sm04/#02/data/udp_dnlk_loss_latency.csv\n",
      "137/216 /home/wmnlab/jackbedford/data/2023-11-01/UDP_Bandlock_9S_Phone_Airport/sm04/#02/data/udp_uplk_loss_latency.csv\n",
      "137/216 /home/wmnlab/jackbedford/data/2023-11-01/UDP_Bandlock_9S_Phone_Airport/sm08/#02/data/handover_info_log.csv\n",
      "137/216 /home/wmnlab/jackbedford/data/2023-11-01/UDP_Bandlock_9S_Phone_Airport/sm08/#02/data/udp_dnlk_loss_latency.csv\n",
      "137/216 /home/wmnlab/jackbedford/data/2023-11-01/UDP_Bandlock_9S_Phone_Airport/sm08/#02/data/udp_uplk_loss_latency.csv\n"
     ]
    },
    {
     "data": {
      "application/vnd.jupyter.widget-view+json": {
       "model_id": "d9edc8652a42453495068008dd17bb0a",
       "version_major": 2,
       "version_minor": 0
      },
      "text/plain": [
       "  0%|                                                                                                         …"
      ]
     },
     "metadata": {},
     "output_type": "display_data"
    },
    {
     "name": "stdout",
     "output_type": "stream",
     "text": [
      "./20240312_150032342e_newest/20240314_060073cc2b/results/20240314_07552300000_3eeecdf13ff695a6_adjust/\\home\\wmnlab\\jackbedford\\data\\2023-11-01\\UDP_Bandlock_9S_Phone_Airport\\sm04\\#02\\data\\udp_dnlk_loss_latency\\home\\wmnlab\\jackbedford\\data\\2023-11-01\\UDP_Bandlock_9S_Phone_Airport\\sm08\\#02\\data\\udp_dnlk_loss_latency.csv\n",
      "138/216 /home/wmnlab/jackbedford/data/2023-11-01/UDP_Bandlock_9S_Phone_Airport/sm05/#02/data/handover_info_log.csv\n",
      "138/216 /home/wmnlab/jackbedford/data/2023-11-01/UDP_Bandlock_9S_Phone_Airport/sm05/#02/data/udp_dnlk_loss_latency.csv\n",
      "138/216 /home/wmnlab/jackbedford/data/2023-11-01/UDP_Bandlock_9S_Phone_Airport/sm05/#02/data/udp_uplk_loss_latency.csv\n",
      "138/216 /home/wmnlab/jackbedford/data/2023-11-01/UDP_Bandlock_9S_Phone_Airport/sm06/#02/data/handover_info_log.csv\n",
      "138/216 /home/wmnlab/jackbedford/data/2023-11-01/UDP_Bandlock_9S_Phone_Airport/sm06/#02/data/udp_dnlk_loss_latency.csv\n",
      "138/216 /home/wmnlab/jackbedford/data/2023-11-01/UDP_Bandlock_9S_Phone_Airport/sm06/#02/data/udp_uplk_loss_latency.csv\n"
     ]
    },
    {
     "data": {
      "application/vnd.jupyter.widget-view+json": {
       "model_id": "5f038c23a9a34ea4ba2bade2ab7aad06",
       "version_major": 2,
       "version_minor": 0
      },
      "text/plain": [
       "  0%|                                                                                                         …"
      ]
     },
     "metadata": {},
     "output_type": "display_data"
    },
    {
     "name": "stdout",
     "output_type": "stream",
     "text": [
      "./20240312_150032342e_newest/20240314_060073cc2b/results/20240314_07552300000_3eeecdf13ff695a6_adjust/\\home\\wmnlab\\jackbedford\\data\\2023-11-01\\UDP_Bandlock_9S_Phone_Airport\\sm05\\#02\\data\\udp_dnlk_loss_latency\\home\\wmnlab\\jackbedford\\data\\2023-11-01\\UDP_Bandlock_9S_Phone_Airport\\sm06\\#02\\data\\udp_dnlk_loss_latency.csv\n",
      "139/216 /home/wmnlab/jackbedford/data/2023-11-01/UDP_Bandlock_9S_Phone_Airport/sm05/#02/data/handover_info_log.csv\n",
      "139/216 /home/wmnlab/jackbedford/data/2023-11-01/UDP_Bandlock_9S_Phone_Airport/sm05/#02/data/udp_dnlk_loss_latency.csv\n",
      "139/216 /home/wmnlab/jackbedford/data/2023-11-01/UDP_Bandlock_9S_Phone_Airport/sm05/#02/data/udp_uplk_loss_latency.csv\n",
      "139/216 /home/wmnlab/jackbedford/data/2023-11-01/UDP_Bandlock_9S_Phone_Airport/sm07/#02/data/handover_info_log.csv\n",
      "139/216 /home/wmnlab/jackbedford/data/2023-11-01/UDP_Bandlock_9S_Phone_Airport/sm07/#02/data/udp_dnlk_loss_latency.csv\n",
      "139/216 /home/wmnlab/jackbedford/data/2023-11-01/UDP_Bandlock_9S_Phone_Airport/sm07/#02/data/udp_uplk_loss_latency.csv\n"
     ]
    },
    {
     "data": {
      "application/vnd.jupyter.widget-view+json": {
       "model_id": "87ad914feb744d8b84d87aae36ba56f4",
       "version_major": 2,
       "version_minor": 0
      },
      "text/plain": [
       "  0%|                                                                                                         …"
      ]
     },
     "metadata": {},
     "output_type": "display_data"
    },
    {
     "name": "stdout",
     "output_type": "stream",
     "text": [
      "./20240312_150032342e_newest/20240314_060073cc2b/results/20240314_07552300000_3eeecdf13ff695a6_adjust/\\home\\wmnlab\\jackbedford\\data\\2023-11-01\\UDP_Bandlock_9S_Phone_Airport\\sm05\\#02\\data\\udp_dnlk_loss_latency\\home\\wmnlab\\jackbedford\\data\\2023-11-01\\UDP_Bandlock_9S_Phone_Airport\\sm07\\#02\\data\\udp_dnlk_loss_latency.csv\n",
      "140/216 /home/wmnlab/jackbedford/data/2023-11-01/UDP_Bandlock_9S_Phone_Airport/sm05/#02/data/handover_info_log.csv\n",
      "140/216 /home/wmnlab/jackbedford/data/2023-11-01/UDP_Bandlock_9S_Phone_Airport/sm05/#02/data/udp_dnlk_loss_latency.csv\n",
      "140/216 /home/wmnlab/jackbedford/data/2023-11-01/UDP_Bandlock_9S_Phone_Airport/sm05/#02/data/udp_uplk_loss_latency.csv\n",
      "140/216 /home/wmnlab/jackbedford/data/2023-11-01/UDP_Bandlock_9S_Phone_Airport/sm08/#02/data/handover_info_log.csv\n",
      "140/216 /home/wmnlab/jackbedford/data/2023-11-01/UDP_Bandlock_9S_Phone_Airport/sm08/#02/data/udp_dnlk_loss_latency.csv\n",
      "140/216 /home/wmnlab/jackbedford/data/2023-11-01/UDP_Bandlock_9S_Phone_Airport/sm08/#02/data/udp_uplk_loss_latency.csv\n"
     ]
    },
    {
     "data": {
      "application/vnd.jupyter.widget-view+json": {
       "model_id": "6afea3734484412f8a2fb660b83d34e4",
       "version_major": 2,
       "version_minor": 0
      },
      "text/plain": [
       "  0%|                                                                                                         …"
      ]
     },
     "metadata": {},
     "output_type": "display_data"
    },
    {
     "name": "stdout",
     "output_type": "stream",
     "text": [
      "./20240312_150032342e_newest/20240314_060073cc2b/results/20240314_07552300000_3eeecdf13ff695a6_adjust/\\home\\wmnlab\\jackbedford\\data\\2023-11-01\\UDP_Bandlock_9S_Phone_Airport\\sm05\\#02\\data\\udp_dnlk_loss_latency\\home\\wmnlab\\jackbedford\\data\\2023-11-01\\UDP_Bandlock_9S_Phone_Airport\\sm08\\#02\\data\\udp_dnlk_loss_latency.csv\n",
      "141/216 /home/wmnlab/jackbedford/data/2023-11-01/UDP_Bandlock_9S_Phone_Airport/sm06/#02/data/handover_info_log.csv\n",
      "141/216 /home/wmnlab/jackbedford/data/2023-11-01/UDP_Bandlock_9S_Phone_Airport/sm06/#02/data/udp_dnlk_loss_latency.csv\n",
      "141/216 /home/wmnlab/jackbedford/data/2023-11-01/UDP_Bandlock_9S_Phone_Airport/sm06/#02/data/udp_uplk_loss_latency.csv\n",
      "141/216 /home/wmnlab/jackbedford/data/2023-11-01/UDP_Bandlock_9S_Phone_Airport/sm07/#02/data/handover_info_log.csv\n",
      "141/216 /home/wmnlab/jackbedford/data/2023-11-01/UDP_Bandlock_9S_Phone_Airport/sm07/#02/data/udp_dnlk_loss_latency.csv\n",
      "141/216 /home/wmnlab/jackbedford/data/2023-11-01/UDP_Bandlock_9S_Phone_Airport/sm07/#02/data/udp_uplk_loss_latency.csv\n"
     ]
    },
    {
     "data": {
      "application/vnd.jupyter.widget-view+json": {
       "model_id": "cf7b4bc895db413e9c776c626e372f7b",
       "version_major": 2,
       "version_minor": 0
      },
      "text/plain": [
       "  0%|                                                                                                         …"
      ]
     },
     "metadata": {},
     "output_type": "display_data"
    },
    {
     "name": "stdout",
     "output_type": "stream",
     "text": [
      "./20240312_150032342e_newest/20240314_060073cc2b/results/20240314_07552300000_3eeecdf13ff695a6_adjust/\\home\\wmnlab\\jackbedford\\data\\2023-11-01\\UDP_Bandlock_9S_Phone_Airport\\sm06\\#02\\data\\udp_dnlk_loss_latency\\home\\wmnlab\\jackbedford\\data\\2023-11-01\\UDP_Bandlock_9S_Phone_Airport\\sm07\\#02\\data\\udp_dnlk_loss_latency.csv\n",
      "142/216 /home/wmnlab/jackbedford/data/2023-11-01/UDP_Bandlock_9S_Phone_Airport/sm06/#02/data/handover_info_log.csv\n",
      "142/216 /home/wmnlab/jackbedford/data/2023-11-01/UDP_Bandlock_9S_Phone_Airport/sm06/#02/data/udp_dnlk_loss_latency.csv\n",
      "142/216 /home/wmnlab/jackbedford/data/2023-11-01/UDP_Bandlock_9S_Phone_Airport/sm06/#02/data/udp_uplk_loss_latency.csv\n",
      "142/216 /home/wmnlab/jackbedford/data/2023-11-01/UDP_Bandlock_9S_Phone_Airport/sm08/#02/data/handover_info_log.csv\n",
      "142/216 /home/wmnlab/jackbedford/data/2023-11-01/UDP_Bandlock_9S_Phone_Airport/sm08/#02/data/udp_dnlk_loss_latency.csv\n",
      "142/216 /home/wmnlab/jackbedford/data/2023-11-01/UDP_Bandlock_9S_Phone_Airport/sm08/#02/data/udp_uplk_loss_latency.csv\n"
     ]
    },
    {
     "data": {
      "application/vnd.jupyter.widget-view+json": {
       "model_id": "854887600a58402b85bb5976f1eb1a7b",
       "version_major": 2,
       "version_minor": 0
      },
      "text/plain": [
       "  0%|                                                                                                         …"
      ]
     },
     "metadata": {},
     "output_type": "display_data"
    },
    {
     "name": "stdout",
     "output_type": "stream",
     "text": [
      "./20240312_150032342e_newest/20240314_060073cc2b/results/20240314_07552300000_3eeecdf13ff695a6_adjust/\\home\\wmnlab\\jackbedford\\data\\2023-11-01\\UDP_Bandlock_9S_Phone_Airport\\sm06\\#02\\data\\udp_dnlk_loss_latency\\home\\wmnlab\\jackbedford\\data\\2023-11-01\\UDP_Bandlock_9S_Phone_Airport\\sm08\\#02\\data\\udp_dnlk_loss_latency.csv\n",
      "143/216 /home/wmnlab/jackbedford/data/2023-11-01/UDP_Bandlock_9S_Phone_Airport/sm07/#02/data/handover_info_log.csv\n",
      "143/216 /home/wmnlab/jackbedford/data/2023-11-01/UDP_Bandlock_9S_Phone_Airport/sm07/#02/data/udp_dnlk_loss_latency.csv\n",
      "143/216 /home/wmnlab/jackbedford/data/2023-11-01/UDP_Bandlock_9S_Phone_Airport/sm07/#02/data/udp_uplk_loss_latency.csv\n",
      "143/216 /home/wmnlab/jackbedford/data/2023-11-01/UDP_Bandlock_9S_Phone_Airport/sm08/#02/data/handover_info_log.csv\n",
      "143/216 /home/wmnlab/jackbedford/data/2023-11-01/UDP_Bandlock_9S_Phone_Airport/sm08/#02/data/udp_dnlk_loss_latency.csv\n",
      "143/216 /home/wmnlab/jackbedford/data/2023-11-01/UDP_Bandlock_9S_Phone_Airport/sm08/#02/data/udp_uplk_loss_latency.csv\n"
     ]
    },
    {
     "data": {
      "application/vnd.jupyter.widget-view+json": {
       "model_id": "b3f5b9a9645e4e0b848a42ad864db71a",
       "version_major": 2,
       "version_minor": 0
      },
      "text/plain": [
       "  0%|                                                                                                         …"
      ]
     },
     "metadata": {},
     "output_type": "display_data"
    },
    {
     "name": "stdout",
     "output_type": "stream",
     "text": [
      "./20240312_150032342e_newest/20240314_060073cc2b/results/20240314_07552300000_3eeecdf13ff695a6_adjust/\\home\\wmnlab\\jackbedford\\data\\2023-11-01\\UDP_Bandlock_9S_Phone_Airport\\sm07\\#02\\data\\udp_dnlk_loss_latency\\home\\wmnlab\\jackbedford\\data\\2023-11-01\\UDP_Bandlock_9S_Phone_Airport\\sm08\\#02\\data\\udp_dnlk_loss_latency.csv\n",
      "144/216 /home/wmnlab/jackbedford/data/2023-11-02/UDP_Bandlock_9S_Phone_Airport/sm00/#01/data/handover_info_log.csv\n",
      "144/216 /home/wmnlab/jackbedford/data/2023-11-02/UDP_Bandlock_9S_Phone_Airport/sm00/#01/data/udp_dnlk_loss_latency.csv\n",
      "144/216 /home/wmnlab/jackbedford/data/2023-11-02/UDP_Bandlock_9S_Phone_Airport/sm00/#01/data/udp_uplk_loss_latency.csv\n",
      "144/216 /home/wmnlab/jackbedford/data/2023-11-02/UDP_Bandlock_9S_Phone_Airport/sm01/#01/data/handover_info_log.csv\n",
      "144/216 /home/wmnlab/jackbedford/data/2023-11-02/UDP_Bandlock_9S_Phone_Airport/sm01/#01/data/udp_dnlk_loss_latency.csv\n",
      "144/216 /home/wmnlab/jackbedford/data/2023-11-02/UDP_Bandlock_9S_Phone_Airport/sm01/#01/data/udp_uplk_loss_latency.csv\n"
     ]
    },
    {
     "data": {
      "application/vnd.jupyter.widget-view+json": {
       "model_id": "c8c1ae69b90445b2be4364bf6b39b20e",
       "version_major": 2,
       "version_minor": 0
      },
      "text/plain": [
       "  0%|                                                                                                         …"
      ]
     },
     "metadata": {},
     "output_type": "display_data"
    },
    {
     "name": "stdout",
     "output_type": "stream",
     "text": [
      "./20240312_150032342e_newest/20240314_060073cc2b/results/20240314_07552300000_3eeecdf13ff695a6_adjust/\\home\\wmnlab\\jackbedford\\data\\2023-11-02\\UDP_Bandlock_9S_Phone_Airport\\sm00\\#01\\data\\udp_dnlk_loss_latency\\home\\wmnlab\\jackbedford\\data\\2023-11-02\\UDP_Bandlock_9S_Phone_Airport\\sm01\\#01\\data\\udp_dnlk_loss_latency.csv\n",
      "145/216 /home/wmnlab/jackbedford/data/2023-11-02/UDP_Bandlock_9S_Phone_Airport/sm00/#01/data/handover_info_log.csv\n",
      "145/216 /home/wmnlab/jackbedford/data/2023-11-02/UDP_Bandlock_9S_Phone_Airport/sm00/#01/data/udp_dnlk_loss_latency.csv\n",
      "145/216 /home/wmnlab/jackbedford/data/2023-11-02/UDP_Bandlock_9S_Phone_Airport/sm00/#01/data/udp_uplk_loss_latency.csv\n",
      "145/216 /home/wmnlab/jackbedford/data/2023-11-02/UDP_Bandlock_9S_Phone_Airport/sm02/#01/data/handover_info_log.csv\n",
      "145/216 /home/wmnlab/jackbedford/data/2023-11-02/UDP_Bandlock_9S_Phone_Airport/sm02/#01/data/udp_dnlk_loss_latency.csv\n",
      "145/216 /home/wmnlab/jackbedford/data/2023-11-02/UDP_Bandlock_9S_Phone_Airport/sm02/#01/data/udp_uplk_loss_latency.csv\n"
     ]
    },
    {
     "data": {
      "application/vnd.jupyter.widget-view+json": {
       "model_id": "b0727aa841054bc5bae76d74793a7590",
       "version_major": 2,
       "version_minor": 0
      },
      "text/plain": [
       "  0%|                                                                                                         …"
      ]
     },
     "metadata": {},
     "output_type": "display_data"
    },
    {
     "name": "stdout",
     "output_type": "stream",
     "text": [
      "./20240312_150032342e_newest/20240314_060073cc2b/results/20240314_07552300000_3eeecdf13ff695a6_adjust/\\home\\wmnlab\\jackbedford\\data\\2023-11-02\\UDP_Bandlock_9S_Phone_Airport\\sm00\\#01\\data\\udp_dnlk_loss_latency\\home\\wmnlab\\jackbedford\\data\\2023-11-02\\UDP_Bandlock_9S_Phone_Airport\\sm02\\#01\\data\\udp_dnlk_loss_latency.csv\n",
      "146/216 /home/wmnlab/jackbedford/data/2023-11-02/UDP_Bandlock_9S_Phone_Airport/sm00/#01/data/handover_info_log.csv\n",
      "146/216 /home/wmnlab/jackbedford/data/2023-11-02/UDP_Bandlock_9S_Phone_Airport/sm00/#01/data/udp_dnlk_loss_latency.csv\n",
      "146/216 /home/wmnlab/jackbedford/data/2023-11-02/UDP_Bandlock_9S_Phone_Airport/sm00/#01/data/udp_uplk_loss_latency.csv\n",
      "146/216 /home/wmnlab/jackbedford/data/2023-11-02/UDP_Bandlock_9S_Phone_Airport/sm03/#01/data/handover_info_log.csv\n",
      "146/216 /home/wmnlab/jackbedford/data/2023-11-02/UDP_Bandlock_9S_Phone_Airport/sm03/#01/data/udp_dnlk_loss_latency.csv\n",
      "146/216 /home/wmnlab/jackbedford/data/2023-11-02/UDP_Bandlock_9S_Phone_Airport/sm03/#01/data/udp_uplk_loss_latency.csv\n"
     ]
    },
    {
     "data": {
      "application/vnd.jupyter.widget-view+json": {
       "model_id": "837e3752f5474faa9817c5dd8a4b2a4e",
       "version_major": 2,
       "version_minor": 0
      },
      "text/plain": [
       "  0%|                                                                                                         …"
      ]
     },
     "metadata": {},
     "output_type": "display_data"
    },
    {
     "name": "stdout",
     "output_type": "stream",
     "text": [
      "./20240312_150032342e_newest/20240314_060073cc2b/results/20240314_07552300000_3eeecdf13ff695a6_adjust/\\home\\wmnlab\\jackbedford\\data\\2023-11-02\\UDP_Bandlock_9S_Phone_Airport\\sm00\\#01\\data\\udp_dnlk_loss_latency\\home\\wmnlab\\jackbedford\\data\\2023-11-02\\UDP_Bandlock_9S_Phone_Airport\\sm03\\#01\\data\\udp_dnlk_loss_latency.csv\n",
      "147/216 /home/wmnlab/jackbedford/data/2023-11-02/UDP_Bandlock_9S_Phone_Airport/sm00/#01/data/handover_info_log.csv\n",
      "147/216 /home/wmnlab/jackbedford/data/2023-11-02/UDP_Bandlock_9S_Phone_Airport/sm00/#01/data/udp_dnlk_loss_latency.csv\n",
      "147/216 /home/wmnlab/jackbedford/data/2023-11-02/UDP_Bandlock_9S_Phone_Airport/sm00/#01/data/udp_uplk_loss_latency.csv\n",
      "147/216 /home/wmnlab/jackbedford/data/2023-11-02/UDP_Bandlock_9S_Phone_Airport/sm04/#01/data/handover_info_log.csv\n",
      "147/216 /home/wmnlab/jackbedford/data/2023-11-02/UDP_Bandlock_9S_Phone_Airport/sm04/#01/data/udp_dnlk_loss_latency.csv\n",
      "147/216 /home/wmnlab/jackbedford/data/2023-11-02/UDP_Bandlock_9S_Phone_Airport/sm04/#01/data/udp_uplk_loss_latency.csv\n",
      "******** Empty RRC Data ********\n",
      "148/216 /home/wmnlab/jackbedford/data/2023-11-02/UDP_Bandlock_9S_Phone_Airport/sm00/#01/data/handover_info_log.csv\n",
      "148/216 /home/wmnlab/jackbedford/data/2023-11-02/UDP_Bandlock_9S_Phone_Airport/sm00/#01/data/udp_dnlk_loss_latency.csv\n",
      "148/216 /home/wmnlab/jackbedford/data/2023-11-02/UDP_Bandlock_9S_Phone_Airport/sm00/#01/data/udp_uplk_loss_latency.csv\n",
      "148/216 /home/wmnlab/jackbedford/data/2023-11-02/UDP_Bandlock_9S_Phone_Airport/sm05/#01/data/handover_info_log.csv\n",
      "148/216 /home/wmnlab/jackbedford/data/2023-11-02/UDP_Bandlock_9S_Phone_Airport/sm05/#01/data/udp_dnlk_loss_latency.csv\n",
      "148/216 /home/wmnlab/jackbedford/data/2023-11-02/UDP_Bandlock_9S_Phone_Airport/sm05/#01/data/udp_uplk_loss_latency.csv\n",
      "******** Empty RRC Data ********\n",
      "149/216 /home/wmnlab/jackbedford/data/2023-11-02/UDP_Bandlock_9S_Phone_Airport/sm00/#01/data/handover_info_log.csv\n",
      "149/216 /home/wmnlab/jackbedford/data/2023-11-02/UDP_Bandlock_9S_Phone_Airport/sm00/#01/data/udp_dnlk_loss_latency.csv\n",
      "149/216 /home/wmnlab/jackbedford/data/2023-11-02/UDP_Bandlock_9S_Phone_Airport/sm00/#01/data/udp_uplk_loss_latency.csv\n",
      "149/216 /home/wmnlab/jackbedford/data/2023-11-02/UDP_Bandlock_9S_Phone_Airport/sm06/#01/data/handover_info_log.csv\n",
      "149/216 /home/wmnlab/jackbedford/data/2023-11-02/UDP_Bandlock_9S_Phone_Airport/sm06/#01/data/udp_dnlk_loss_latency.csv\n",
      "149/216 /home/wmnlab/jackbedford/data/2023-11-02/UDP_Bandlock_9S_Phone_Airport/sm06/#01/data/udp_uplk_loss_latency.csv\n"
     ]
    },
    {
     "data": {
      "application/vnd.jupyter.widget-view+json": {
       "model_id": "c9a7730c3e33475abaebfb238431d707",
       "version_major": 2,
       "version_minor": 0
      },
      "text/plain": [
       "  0%|                                                                                                         …"
      ]
     },
     "metadata": {},
     "output_type": "display_data"
    },
    {
     "name": "stdout",
     "output_type": "stream",
     "text": [
      "./20240312_150032342e_newest/20240314_060073cc2b/results/20240314_07552300000_3eeecdf13ff695a6_adjust/\\home\\wmnlab\\jackbedford\\data\\2023-11-02\\UDP_Bandlock_9S_Phone_Airport\\sm00\\#01\\data\\udp_dnlk_loss_latency\\home\\wmnlab\\jackbedford\\data\\2023-11-02\\UDP_Bandlock_9S_Phone_Airport\\sm06\\#01\\data\\udp_dnlk_loss_latency.csv\n",
      "150/216 /home/wmnlab/jackbedford/data/2023-11-02/UDP_Bandlock_9S_Phone_Airport/sm00/#01/data/handover_info_log.csv\n",
      "150/216 /home/wmnlab/jackbedford/data/2023-11-02/UDP_Bandlock_9S_Phone_Airport/sm00/#01/data/udp_dnlk_loss_latency.csv\n",
      "150/216 /home/wmnlab/jackbedford/data/2023-11-02/UDP_Bandlock_9S_Phone_Airport/sm00/#01/data/udp_uplk_loss_latency.csv\n",
      "150/216 /home/wmnlab/jackbedford/data/2023-11-02/UDP_Bandlock_9S_Phone_Airport/sm07/#01/data/handover_info_log.csv\n",
      "150/216 /home/wmnlab/jackbedford/data/2023-11-02/UDP_Bandlock_9S_Phone_Airport/sm07/#01/data/udp_dnlk_loss_latency.csv\n",
      "150/216 /home/wmnlab/jackbedford/data/2023-11-02/UDP_Bandlock_9S_Phone_Airport/sm07/#01/data/udp_uplk_loss_latency.csv\n",
      "******** Empty RRC Data ********\n",
      "151/216 /home/wmnlab/jackbedford/data/2023-11-02/UDP_Bandlock_9S_Phone_Airport/sm00/#01/data/handover_info_log.csv\n",
      "151/216 /home/wmnlab/jackbedford/data/2023-11-02/UDP_Bandlock_9S_Phone_Airport/sm00/#01/data/udp_dnlk_loss_latency.csv\n",
      "151/216 /home/wmnlab/jackbedford/data/2023-11-02/UDP_Bandlock_9S_Phone_Airport/sm00/#01/data/udp_uplk_loss_latency.csv\n",
      "151/216 /home/wmnlab/jackbedford/data/2023-11-02/UDP_Bandlock_9S_Phone_Airport/sm08/#01/data/handover_info_log.csv\n",
      "151/216 /home/wmnlab/jackbedford/data/2023-11-02/UDP_Bandlock_9S_Phone_Airport/sm08/#01/data/udp_dnlk_loss_latency.csv\n",
      "151/216 /home/wmnlab/jackbedford/data/2023-11-02/UDP_Bandlock_9S_Phone_Airport/sm08/#01/data/udp_uplk_loss_latency.csv\n"
     ]
    },
    {
     "data": {
      "application/vnd.jupyter.widget-view+json": {
       "model_id": "5f4e2506a1bd48d982567ae87785ba43",
       "version_major": 2,
       "version_minor": 0
      },
      "text/plain": [
       "  0%|                                                                                                         …"
      ]
     },
     "metadata": {},
     "output_type": "display_data"
    },
    {
     "name": "stdout",
     "output_type": "stream",
     "text": [
      "./20240312_150032342e_newest/20240314_060073cc2b/results/20240314_07552300000_3eeecdf13ff695a6_adjust/\\home\\wmnlab\\jackbedford\\data\\2023-11-02\\UDP_Bandlock_9S_Phone_Airport\\sm00\\#01\\data\\udp_dnlk_loss_latency\\home\\wmnlab\\jackbedford\\data\\2023-11-02\\UDP_Bandlock_9S_Phone_Airport\\sm08\\#01\\data\\udp_dnlk_loss_latency.csv\n",
      "152/216 /home/wmnlab/jackbedford/data/2023-11-02/UDP_Bandlock_9S_Phone_Airport/sm01/#01/data/handover_info_log.csv\n",
      "152/216 /home/wmnlab/jackbedford/data/2023-11-02/UDP_Bandlock_9S_Phone_Airport/sm01/#01/data/udp_dnlk_loss_latency.csv\n",
      "152/216 /home/wmnlab/jackbedford/data/2023-11-02/UDP_Bandlock_9S_Phone_Airport/sm01/#01/data/udp_uplk_loss_latency.csv\n",
      "152/216 /home/wmnlab/jackbedford/data/2023-11-02/UDP_Bandlock_9S_Phone_Airport/sm02/#01/data/handover_info_log.csv\n",
      "152/216 /home/wmnlab/jackbedford/data/2023-11-02/UDP_Bandlock_9S_Phone_Airport/sm02/#01/data/udp_dnlk_loss_latency.csv\n",
      "152/216 /home/wmnlab/jackbedford/data/2023-11-02/UDP_Bandlock_9S_Phone_Airport/sm02/#01/data/udp_uplk_loss_latency.csv\n"
     ]
    },
    {
     "data": {
      "application/vnd.jupyter.widget-view+json": {
       "model_id": "a883952865094da8ad5bdf59c191c684",
       "version_major": 2,
       "version_minor": 0
      },
      "text/plain": [
       "  0%|                                                                                                         …"
      ]
     },
     "metadata": {},
     "output_type": "display_data"
    },
    {
     "name": "stdout",
     "output_type": "stream",
     "text": [
      "./20240312_150032342e_newest/20240314_060073cc2b/results/20240314_07552300000_3eeecdf13ff695a6_adjust/\\home\\wmnlab\\jackbedford\\data\\2023-11-02\\UDP_Bandlock_9S_Phone_Airport\\sm01\\#01\\data\\udp_dnlk_loss_latency\\home\\wmnlab\\jackbedford\\data\\2023-11-02\\UDP_Bandlock_9S_Phone_Airport\\sm02\\#01\\data\\udp_dnlk_loss_latency.csv\n",
      "153/216 /home/wmnlab/jackbedford/data/2023-11-02/UDP_Bandlock_9S_Phone_Airport/sm01/#01/data/handover_info_log.csv\n",
      "153/216 /home/wmnlab/jackbedford/data/2023-11-02/UDP_Bandlock_9S_Phone_Airport/sm01/#01/data/udp_dnlk_loss_latency.csv\n",
      "153/216 /home/wmnlab/jackbedford/data/2023-11-02/UDP_Bandlock_9S_Phone_Airport/sm01/#01/data/udp_uplk_loss_latency.csv\n",
      "153/216 /home/wmnlab/jackbedford/data/2023-11-02/UDP_Bandlock_9S_Phone_Airport/sm03/#01/data/handover_info_log.csv\n",
      "153/216 /home/wmnlab/jackbedford/data/2023-11-02/UDP_Bandlock_9S_Phone_Airport/sm03/#01/data/udp_dnlk_loss_latency.csv\n",
      "153/216 /home/wmnlab/jackbedford/data/2023-11-02/UDP_Bandlock_9S_Phone_Airport/sm03/#01/data/udp_uplk_loss_latency.csv\n"
     ]
    },
    {
     "data": {
      "application/vnd.jupyter.widget-view+json": {
       "model_id": "4ba7ba4b2ad147e6b28ec671a8baa9e9",
       "version_major": 2,
       "version_minor": 0
      },
      "text/plain": [
       "  0%|                                                                                                         …"
      ]
     },
     "metadata": {},
     "output_type": "display_data"
    },
    {
     "name": "stdout",
     "output_type": "stream",
     "text": [
      "./20240312_150032342e_newest/20240314_060073cc2b/results/20240314_07552300000_3eeecdf13ff695a6_adjust/\\home\\wmnlab\\jackbedford\\data\\2023-11-02\\UDP_Bandlock_9S_Phone_Airport\\sm01\\#01\\data\\udp_dnlk_loss_latency\\home\\wmnlab\\jackbedford\\data\\2023-11-02\\UDP_Bandlock_9S_Phone_Airport\\sm03\\#01\\data\\udp_dnlk_loss_latency.csv\n",
      "154/216 /home/wmnlab/jackbedford/data/2023-11-02/UDP_Bandlock_9S_Phone_Airport/sm01/#01/data/handover_info_log.csv\n",
      "154/216 /home/wmnlab/jackbedford/data/2023-11-02/UDP_Bandlock_9S_Phone_Airport/sm01/#01/data/udp_dnlk_loss_latency.csv\n",
      "154/216 /home/wmnlab/jackbedford/data/2023-11-02/UDP_Bandlock_9S_Phone_Airport/sm01/#01/data/udp_uplk_loss_latency.csv\n",
      "154/216 /home/wmnlab/jackbedford/data/2023-11-02/UDP_Bandlock_9S_Phone_Airport/sm04/#01/data/handover_info_log.csv\n",
      "154/216 /home/wmnlab/jackbedford/data/2023-11-02/UDP_Bandlock_9S_Phone_Airport/sm04/#01/data/udp_dnlk_loss_latency.csv\n",
      "154/216 /home/wmnlab/jackbedford/data/2023-11-02/UDP_Bandlock_9S_Phone_Airport/sm04/#01/data/udp_uplk_loss_latency.csv\n",
      "******** Empty RRC Data ********\n",
      "155/216 /home/wmnlab/jackbedford/data/2023-11-02/UDP_Bandlock_9S_Phone_Airport/sm01/#01/data/handover_info_log.csv\n",
      "155/216 /home/wmnlab/jackbedford/data/2023-11-02/UDP_Bandlock_9S_Phone_Airport/sm01/#01/data/udp_dnlk_loss_latency.csv\n",
      "155/216 /home/wmnlab/jackbedford/data/2023-11-02/UDP_Bandlock_9S_Phone_Airport/sm01/#01/data/udp_uplk_loss_latency.csv\n",
      "155/216 /home/wmnlab/jackbedford/data/2023-11-02/UDP_Bandlock_9S_Phone_Airport/sm05/#01/data/handover_info_log.csv\n",
      "155/216 /home/wmnlab/jackbedford/data/2023-11-02/UDP_Bandlock_9S_Phone_Airport/sm05/#01/data/udp_dnlk_loss_latency.csv\n",
      "155/216 /home/wmnlab/jackbedford/data/2023-11-02/UDP_Bandlock_9S_Phone_Airport/sm05/#01/data/udp_uplk_loss_latency.csv\n",
      "******** Empty RRC Data ********\n",
      "156/216 /home/wmnlab/jackbedford/data/2023-11-02/UDP_Bandlock_9S_Phone_Airport/sm01/#01/data/handover_info_log.csv\n",
      "156/216 /home/wmnlab/jackbedford/data/2023-11-02/UDP_Bandlock_9S_Phone_Airport/sm01/#01/data/udp_dnlk_loss_latency.csv\n",
      "156/216 /home/wmnlab/jackbedford/data/2023-11-02/UDP_Bandlock_9S_Phone_Airport/sm01/#01/data/udp_uplk_loss_latency.csv\n",
      "156/216 /home/wmnlab/jackbedford/data/2023-11-02/UDP_Bandlock_9S_Phone_Airport/sm06/#01/data/handover_info_log.csv\n",
      "156/216 /home/wmnlab/jackbedford/data/2023-11-02/UDP_Bandlock_9S_Phone_Airport/sm06/#01/data/udp_dnlk_loss_latency.csv\n",
      "156/216 /home/wmnlab/jackbedford/data/2023-11-02/UDP_Bandlock_9S_Phone_Airport/sm06/#01/data/udp_uplk_loss_latency.csv\n"
     ]
    },
    {
     "data": {
      "application/vnd.jupyter.widget-view+json": {
       "model_id": "524b9b3d64744b0094c1e44a0626a704",
       "version_major": 2,
       "version_minor": 0
      },
      "text/plain": [
       "  0%|                                                                                                         …"
      ]
     },
     "metadata": {},
     "output_type": "display_data"
    },
    {
     "name": "stdout",
     "output_type": "stream",
     "text": [
      "./20240312_150032342e_newest/20240314_060073cc2b/results/20240314_07552300000_3eeecdf13ff695a6_adjust/\\home\\wmnlab\\jackbedford\\data\\2023-11-02\\UDP_Bandlock_9S_Phone_Airport\\sm01\\#01\\data\\udp_dnlk_loss_latency\\home\\wmnlab\\jackbedford\\data\\2023-11-02\\UDP_Bandlock_9S_Phone_Airport\\sm06\\#01\\data\\udp_dnlk_loss_latency.csv\n",
      "157/216 /home/wmnlab/jackbedford/data/2023-11-02/UDP_Bandlock_9S_Phone_Airport/sm01/#01/data/handover_info_log.csv\n",
      "157/216 /home/wmnlab/jackbedford/data/2023-11-02/UDP_Bandlock_9S_Phone_Airport/sm01/#01/data/udp_dnlk_loss_latency.csv\n",
      "157/216 /home/wmnlab/jackbedford/data/2023-11-02/UDP_Bandlock_9S_Phone_Airport/sm01/#01/data/udp_uplk_loss_latency.csv\n",
      "157/216 /home/wmnlab/jackbedford/data/2023-11-02/UDP_Bandlock_9S_Phone_Airport/sm07/#01/data/handover_info_log.csv\n",
      "157/216 /home/wmnlab/jackbedford/data/2023-11-02/UDP_Bandlock_9S_Phone_Airport/sm07/#01/data/udp_dnlk_loss_latency.csv\n",
      "157/216 /home/wmnlab/jackbedford/data/2023-11-02/UDP_Bandlock_9S_Phone_Airport/sm07/#01/data/udp_uplk_loss_latency.csv\n",
      "******** Empty RRC Data ********\n",
      "158/216 /home/wmnlab/jackbedford/data/2023-11-02/UDP_Bandlock_9S_Phone_Airport/sm01/#01/data/handover_info_log.csv\n",
      "158/216 /home/wmnlab/jackbedford/data/2023-11-02/UDP_Bandlock_9S_Phone_Airport/sm01/#01/data/udp_dnlk_loss_latency.csv\n",
      "158/216 /home/wmnlab/jackbedford/data/2023-11-02/UDP_Bandlock_9S_Phone_Airport/sm01/#01/data/udp_uplk_loss_latency.csv\n",
      "158/216 /home/wmnlab/jackbedford/data/2023-11-02/UDP_Bandlock_9S_Phone_Airport/sm08/#01/data/handover_info_log.csv\n",
      "158/216 /home/wmnlab/jackbedford/data/2023-11-02/UDP_Bandlock_9S_Phone_Airport/sm08/#01/data/udp_dnlk_loss_latency.csv\n",
      "158/216 /home/wmnlab/jackbedford/data/2023-11-02/UDP_Bandlock_9S_Phone_Airport/sm08/#01/data/udp_uplk_loss_latency.csv\n"
     ]
    },
    {
     "data": {
      "application/vnd.jupyter.widget-view+json": {
       "model_id": "ac0f84b32fd44cbdbe04d4ae83edb90f",
       "version_major": 2,
       "version_minor": 0
      },
      "text/plain": [
       "  0%|                                                                                                         …"
      ]
     },
     "metadata": {},
     "output_type": "display_data"
    },
    {
     "name": "stdout",
     "output_type": "stream",
     "text": [
      "./20240312_150032342e_newest/20240314_060073cc2b/results/20240314_07552300000_3eeecdf13ff695a6_adjust/\\home\\wmnlab\\jackbedford\\data\\2023-11-02\\UDP_Bandlock_9S_Phone_Airport\\sm01\\#01\\data\\udp_dnlk_loss_latency\\home\\wmnlab\\jackbedford\\data\\2023-11-02\\UDP_Bandlock_9S_Phone_Airport\\sm08\\#01\\data\\udp_dnlk_loss_latency.csv\n",
      "159/216 /home/wmnlab/jackbedford/data/2023-11-02/UDP_Bandlock_9S_Phone_Airport/sm02/#01/data/handover_info_log.csv\n",
      "159/216 /home/wmnlab/jackbedford/data/2023-11-02/UDP_Bandlock_9S_Phone_Airport/sm02/#01/data/udp_dnlk_loss_latency.csv\n",
      "159/216 /home/wmnlab/jackbedford/data/2023-11-02/UDP_Bandlock_9S_Phone_Airport/sm02/#01/data/udp_uplk_loss_latency.csv\n",
      "159/216 /home/wmnlab/jackbedford/data/2023-11-02/UDP_Bandlock_9S_Phone_Airport/sm03/#01/data/handover_info_log.csv\n",
      "159/216 /home/wmnlab/jackbedford/data/2023-11-02/UDP_Bandlock_9S_Phone_Airport/sm03/#01/data/udp_dnlk_loss_latency.csv\n",
      "159/216 /home/wmnlab/jackbedford/data/2023-11-02/UDP_Bandlock_9S_Phone_Airport/sm03/#01/data/udp_uplk_loss_latency.csv\n"
     ]
    },
    {
     "data": {
      "application/vnd.jupyter.widget-view+json": {
       "model_id": "2d0b040a77324836ada9b30db54ea31f",
       "version_major": 2,
       "version_minor": 0
      },
      "text/plain": [
       "  0%|                                                                                                         …"
      ]
     },
     "metadata": {},
     "output_type": "display_data"
    },
    {
     "name": "stdout",
     "output_type": "stream",
     "text": [
      "./20240312_150032342e_newest/20240314_060073cc2b/results/20240314_07552300000_3eeecdf13ff695a6_adjust/\\home\\wmnlab\\jackbedford\\data\\2023-11-02\\UDP_Bandlock_9S_Phone_Airport\\sm02\\#01\\data\\udp_dnlk_loss_latency\\home\\wmnlab\\jackbedford\\data\\2023-11-02\\UDP_Bandlock_9S_Phone_Airport\\sm03\\#01\\data\\udp_dnlk_loss_latency.csv\n",
      "160/216 /home/wmnlab/jackbedford/data/2023-11-02/UDP_Bandlock_9S_Phone_Airport/sm02/#01/data/handover_info_log.csv\n",
      "160/216 /home/wmnlab/jackbedford/data/2023-11-02/UDP_Bandlock_9S_Phone_Airport/sm02/#01/data/udp_dnlk_loss_latency.csv\n",
      "160/216 /home/wmnlab/jackbedford/data/2023-11-02/UDP_Bandlock_9S_Phone_Airport/sm02/#01/data/udp_uplk_loss_latency.csv\n",
      "160/216 /home/wmnlab/jackbedford/data/2023-11-02/UDP_Bandlock_9S_Phone_Airport/sm04/#01/data/handover_info_log.csv\n",
      "160/216 /home/wmnlab/jackbedford/data/2023-11-02/UDP_Bandlock_9S_Phone_Airport/sm04/#01/data/udp_dnlk_loss_latency.csv\n",
      "160/216 /home/wmnlab/jackbedford/data/2023-11-02/UDP_Bandlock_9S_Phone_Airport/sm04/#01/data/udp_uplk_loss_latency.csv\n",
      "******** Empty RRC Data ********\n",
      "161/216 /home/wmnlab/jackbedford/data/2023-11-02/UDP_Bandlock_9S_Phone_Airport/sm02/#01/data/handover_info_log.csv\n",
      "161/216 /home/wmnlab/jackbedford/data/2023-11-02/UDP_Bandlock_9S_Phone_Airport/sm02/#01/data/udp_dnlk_loss_latency.csv\n",
      "161/216 /home/wmnlab/jackbedford/data/2023-11-02/UDP_Bandlock_9S_Phone_Airport/sm02/#01/data/udp_uplk_loss_latency.csv\n",
      "161/216 /home/wmnlab/jackbedford/data/2023-11-02/UDP_Bandlock_9S_Phone_Airport/sm05/#01/data/handover_info_log.csv\n",
      "161/216 /home/wmnlab/jackbedford/data/2023-11-02/UDP_Bandlock_9S_Phone_Airport/sm05/#01/data/udp_dnlk_loss_latency.csv\n",
      "161/216 /home/wmnlab/jackbedford/data/2023-11-02/UDP_Bandlock_9S_Phone_Airport/sm05/#01/data/udp_uplk_loss_latency.csv\n",
      "******** Empty RRC Data ********\n",
      "162/216 /home/wmnlab/jackbedford/data/2023-11-02/UDP_Bandlock_9S_Phone_Airport/sm02/#01/data/handover_info_log.csv\n",
      "162/216 /home/wmnlab/jackbedford/data/2023-11-02/UDP_Bandlock_9S_Phone_Airport/sm02/#01/data/udp_dnlk_loss_latency.csv\n",
      "162/216 /home/wmnlab/jackbedford/data/2023-11-02/UDP_Bandlock_9S_Phone_Airport/sm02/#01/data/udp_uplk_loss_latency.csv\n",
      "162/216 /home/wmnlab/jackbedford/data/2023-11-02/UDP_Bandlock_9S_Phone_Airport/sm06/#01/data/handover_info_log.csv\n",
      "162/216 /home/wmnlab/jackbedford/data/2023-11-02/UDP_Bandlock_9S_Phone_Airport/sm06/#01/data/udp_dnlk_loss_latency.csv\n",
      "162/216 /home/wmnlab/jackbedford/data/2023-11-02/UDP_Bandlock_9S_Phone_Airport/sm06/#01/data/udp_uplk_loss_latency.csv\n"
     ]
    },
    {
     "data": {
      "application/vnd.jupyter.widget-view+json": {
       "model_id": "289a13883982469993ae90457657feb7",
       "version_major": 2,
       "version_minor": 0
      },
      "text/plain": [
       "  0%|                                                                                                         …"
      ]
     },
     "metadata": {},
     "output_type": "display_data"
    },
    {
     "name": "stdout",
     "output_type": "stream",
     "text": [
      "./20240312_150032342e_newest/20240314_060073cc2b/results/20240314_07552300000_3eeecdf13ff695a6_adjust/\\home\\wmnlab\\jackbedford\\data\\2023-11-02\\UDP_Bandlock_9S_Phone_Airport\\sm02\\#01\\data\\udp_dnlk_loss_latency\\home\\wmnlab\\jackbedford\\data\\2023-11-02\\UDP_Bandlock_9S_Phone_Airport\\sm06\\#01\\data\\udp_dnlk_loss_latency.csv\n",
      "163/216 /home/wmnlab/jackbedford/data/2023-11-02/UDP_Bandlock_9S_Phone_Airport/sm02/#01/data/handover_info_log.csv\n",
      "163/216 /home/wmnlab/jackbedford/data/2023-11-02/UDP_Bandlock_9S_Phone_Airport/sm02/#01/data/udp_dnlk_loss_latency.csv\n",
      "163/216 /home/wmnlab/jackbedford/data/2023-11-02/UDP_Bandlock_9S_Phone_Airport/sm02/#01/data/udp_uplk_loss_latency.csv\n",
      "163/216 /home/wmnlab/jackbedford/data/2023-11-02/UDP_Bandlock_9S_Phone_Airport/sm07/#01/data/handover_info_log.csv\n",
      "163/216 /home/wmnlab/jackbedford/data/2023-11-02/UDP_Bandlock_9S_Phone_Airport/sm07/#01/data/udp_dnlk_loss_latency.csv\n",
      "163/216 /home/wmnlab/jackbedford/data/2023-11-02/UDP_Bandlock_9S_Phone_Airport/sm07/#01/data/udp_uplk_loss_latency.csv\n",
      "******** Empty RRC Data ********\n",
      "164/216 /home/wmnlab/jackbedford/data/2023-11-02/UDP_Bandlock_9S_Phone_Airport/sm02/#01/data/handover_info_log.csv\n",
      "164/216 /home/wmnlab/jackbedford/data/2023-11-02/UDP_Bandlock_9S_Phone_Airport/sm02/#01/data/udp_dnlk_loss_latency.csv\n",
      "164/216 /home/wmnlab/jackbedford/data/2023-11-02/UDP_Bandlock_9S_Phone_Airport/sm02/#01/data/udp_uplk_loss_latency.csv\n",
      "164/216 /home/wmnlab/jackbedford/data/2023-11-02/UDP_Bandlock_9S_Phone_Airport/sm08/#01/data/handover_info_log.csv\n",
      "164/216 /home/wmnlab/jackbedford/data/2023-11-02/UDP_Bandlock_9S_Phone_Airport/sm08/#01/data/udp_dnlk_loss_latency.csv\n",
      "164/216 /home/wmnlab/jackbedford/data/2023-11-02/UDP_Bandlock_9S_Phone_Airport/sm08/#01/data/udp_uplk_loss_latency.csv\n"
     ]
    },
    {
     "data": {
      "application/vnd.jupyter.widget-view+json": {
       "model_id": "23ca927c63f74e70989c3ba537acb15b",
       "version_major": 2,
       "version_minor": 0
      },
      "text/plain": [
       "  0%|                                                                                                         …"
      ]
     },
     "metadata": {},
     "output_type": "display_data"
    },
    {
     "name": "stdout",
     "output_type": "stream",
     "text": [
      "./20240312_150032342e_newest/20240314_060073cc2b/results/20240314_07552300000_3eeecdf13ff695a6_adjust/\\home\\wmnlab\\jackbedford\\data\\2023-11-02\\UDP_Bandlock_9S_Phone_Airport\\sm02\\#01\\data\\udp_dnlk_loss_latency\\home\\wmnlab\\jackbedford\\data\\2023-11-02\\UDP_Bandlock_9S_Phone_Airport\\sm08\\#01\\data\\udp_dnlk_loss_latency.csv\n",
      "165/216 /home/wmnlab/jackbedford/data/2023-11-02/UDP_Bandlock_9S_Phone_Airport/sm03/#01/data/handover_info_log.csv\n",
      "165/216 /home/wmnlab/jackbedford/data/2023-11-02/UDP_Bandlock_9S_Phone_Airport/sm03/#01/data/udp_dnlk_loss_latency.csv\n",
      "165/216 /home/wmnlab/jackbedford/data/2023-11-02/UDP_Bandlock_9S_Phone_Airport/sm03/#01/data/udp_uplk_loss_latency.csv\n",
      "165/216 /home/wmnlab/jackbedford/data/2023-11-02/UDP_Bandlock_9S_Phone_Airport/sm04/#01/data/handover_info_log.csv\n",
      "165/216 /home/wmnlab/jackbedford/data/2023-11-02/UDP_Bandlock_9S_Phone_Airport/sm04/#01/data/udp_dnlk_loss_latency.csv\n",
      "165/216 /home/wmnlab/jackbedford/data/2023-11-02/UDP_Bandlock_9S_Phone_Airport/sm04/#01/data/udp_uplk_loss_latency.csv\n",
      "******** Empty RRC Data ********\n",
      "166/216 /home/wmnlab/jackbedford/data/2023-11-02/UDP_Bandlock_9S_Phone_Airport/sm03/#01/data/handover_info_log.csv\n",
      "166/216 /home/wmnlab/jackbedford/data/2023-11-02/UDP_Bandlock_9S_Phone_Airport/sm03/#01/data/udp_dnlk_loss_latency.csv\n",
      "166/216 /home/wmnlab/jackbedford/data/2023-11-02/UDP_Bandlock_9S_Phone_Airport/sm03/#01/data/udp_uplk_loss_latency.csv\n",
      "166/216 /home/wmnlab/jackbedford/data/2023-11-02/UDP_Bandlock_9S_Phone_Airport/sm05/#01/data/handover_info_log.csv\n",
      "166/216 /home/wmnlab/jackbedford/data/2023-11-02/UDP_Bandlock_9S_Phone_Airport/sm05/#01/data/udp_dnlk_loss_latency.csv\n",
      "166/216 /home/wmnlab/jackbedford/data/2023-11-02/UDP_Bandlock_9S_Phone_Airport/sm05/#01/data/udp_uplk_loss_latency.csv\n",
      "******** Empty RRC Data ********\n",
      "167/216 /home/wmnlab/jackbedford/data/2023-11-02/UDP_Bandlock_9S_Phone_Airport/sm03/#01/data/handover_info_log.csv\n",
      "167/216 /home/wmnlab/jackbedford/data/2023-11-02/UDP_Bandlock_9S_Phone_Airport/sm03/#01/data/udp_dnlk_loss_latency.csv\n",
      "167/216 /home/wmnlab/jackbedford/data/2023-11-02/UDP_Bandlock_9S_Phone_Airport/sm03/#01/data/udp_uplk_loss_latency.csv\n",
      "167/216 /home/wmnlab/jackbedford/data/2023-11-02/UDP_Bandlock_9S_Phone_Airport/sm06/#01/data/handover_info_log.csv\n",
      "167/216 /home/wmnlab/jackbedford/data/2023-11-02/UDP_Bandlock_9S_Phone_Airport/sm06/#01/data/udp_dnlk_loss_latency.csv\n",
      "167/216 /home/wmnlab/jackbedford/data/2023-11-02/UDP_Bandlock_9S_Phone_Airport/sm06/#01/data/udp_uplk_loss_latency.csv\n"
     ]
    },
    {
     "data": {
      "application/vnd.jupyter.widget-view+json": {
       "model_id": "82b1aa582e4a48ae899daae077eee9cc",
       "version_major": 2,
       "version_minor": 0
      },
      "text/plain": [
       "  0%|                                                                                                         …"
      ]
     },
     "metadata": {},
     "output_type": "display_data"
    },
    {
     "name": "stdout",
     "output_type": "stream",
     "text": [
      "./20240312_150032342e_newest/20240314_060073cc2b/results/20240314_07552300000_3eeecdf13ff695a6_adjust/\\home\\wmnlab\\jackbedford\\data\\2023-11-02\\UDP_Bandlock_9S_Phone_Airport\\sm03\\#01\\data\\udp_dnlk_loss_latency\\home\\wmnlab\\jackbedford\\data\\2023-11-02\\UDP_Bandlock_9S_Phone_Airport\\sm06\\#01\\data\\udp_dnlk_loss_latency.csv\n",
      "168/216 /home/wmnlab/jackbedford/data/2023-11-02/UDP_Bandlock_9S_Phone_Airport/sm03/#01/data/handover_info_log.csv\n",
      "168/216 /home/wmnlab/jackbedford/data/2023-11-02/UDP_Bandlock_9S_Phone_Airport/sm03/#01/data/udp_dnlk_loss_latency.csv\n",
      "168/216 /home/wmnlab/jackbedford/data/2023-11-02/UDP_Bandlock_9S_Phone_Airport/sm03/#01/data/udp_uplk_loss_latency.csv\n",
      "168/216 /home/wmnlab/jackbedford/data/2023-11-02/UDP_Bandlock_9S_Phone_Airport/sm07/#01/data/handover_info_log.csv\n",
      "168/216 /home/wmnlab/jackbedford/data/2023-11-02/UDP_Bandlock_9S_Phone_Airport/sm07/#01/data/udp_dnlk_loss_latency.csv\n",
      "168/216 /home/wmnlab/jackbedford/data/2023-11-02/UDP_Bandlock_9S_Phone_Airport/sm07/#01/data/udp_uplk_loss_latency.csv\n",
      "******** Empty RRC Data ********\n",
      "169/216 /home/wmnlab/jackbedford/data/2023-11-02/UDP_Bandlock_9S_Phone_Airport/sm03/#01/data/handover_info_log.csv\n",
      "169/216 /home/wmnlab/jackbedford/data/2023-11-02/UDP_Bandlock_9S_Phone_Airport/sm03/#01/data/udp_dnlk_loss_latency.csv\n",
      "169/216 /home/wmnlab/jackbedford/data/2023-11-02/UDP_Bandlock_9S_Phone_Airport/sm03/#01/data/udp_uplk_loss_latency.csv\n",
      "169/216 /home/wmnlab/jackbedford/data/2023-11-02/UDP_Bandlock_9S_Phone_Airport/sm08/#01/data/handover_info_log.csv\n",
      "169/216 /home/wmnlab/jackbedford/data/2023-11-02/UDP_Bandlock_9S_Phone_Airport/sm08/#01/data/udp_dnlk_loss_latency.csv\n",
      "169/216 /home/wmnlab/jackbedford/data/2023-11-02/UDP_Bandlock_9S_Phone_Airport/sm08/#01/data/udp_uplk_loss_latency.csv\n"
     ]
    },
    {
     "data": {
      "application/vnd.jupyter.widget-view+json": {
       "model_id": "d50e06d65c4147e09b707ba526414e82",
       "version_major": 2,
       "version_minor": 0
      },
      "text/plain": [
       "  0%|                                                                                                         …"
      ]
     },
     "metadata": {},
     "output_type": "display_data"
    },
    {
     "name": "stdout",
     "output_type": "stream",
     "text": [
      "./20240312_150032342e_newest/20240314_060073cc2b/results/20240314_07552300000_3eeecdf13ff695a6_adjust/\\home\\wmnlab\\jackbedford\\data\\2023-11-02\\UDP_Bandlock_9S_Phone_Airport\\sm03\\#01\\data\\udp_dnlk_loss_latency\\home\\wmnlab\\jackbedford\\data\\2023-11-02\\UDP_Bandlock_9S_Phone_Airport\\sm08\\#01\\data\\udp_dnlk_loss_latency.csv\n",
      "170/216 /home/wmnlab/jackbedford/data/2023-11-02/UDP_Bandlock_9S_Phone_Airport/sm04/#01/data/handover_info_log.csv\n",
      "170/216 /home/wmnlab/jackbedford/data/2023-11-02/UDP_Bandlock_9S_Phone_Airport/sm04/#01/data/udp_dnlk_loss_latency.csv\n",
      "170/216 /home/wmnlab/jackbedford/data/2023-11-02/UDP_Bandlock_9S_Phone_Airport/sm04/#01/data/udp_uplk_loss_latency.csv\n",
      "170/216 /home/wmnlab/jackbedford/data/2023-11-02/UDP_Bandlock_9S_Phone_Airport/sm05/#01/data/handover_info_log.csv\n",
      "170/216 /home/wmnlab/jackbedford/data/2023-11-02/UDP_Bandlock_9S_Phone_Airport/sm05/#01/data/udp_dnlk_loss_latency.csv\n",
      "170/216 /home/wmnlab/jackbedford/data/2023-11-02/UDP_Bandlock_9S_Phone_Airport/sm05/#01/data/udp_uplk_loss_latency.csv\n",
      "******** Empty RRC Data ********\n",
      "171/216 /home/wmnlab/jackbedford/data/2023-11-02/UDP_Bandlock_9S_Phone_Airport/sm04/#01/data/handover_info_log.csv\n",
      "171/216 /home/wmnlab/jackbedford/data/2023-11-02/UDP_Bandlock_9S_Phone_Airport/sm04/#01/data/udp_dnlk_loss_latency.csv\n",
      "171/216 /home/wmnlab/jackbedford/data/2023-11-02/UDP_Bandlock_9S_Phone_Airport/sm04/#01/data/udp_uplk_loss_latency.csv\n",
      "171/216 /home/wmnlab/jackbedford/data/2023-11-02/UDP_Bandlock_9S_Phone_Airport/sm06/#01/data/handover_info_log.csv\n",
      "171/216 /home/wmnlab/jackbedford/data/2023-11-02/UDP_Bandlock_9S_Phone_Airport/sm06/#01/data/udp_dnlk_loss_latency.csv\n",
      "171/216 /home/wmnlab/jackbedford/data/2023-11-02/UDP_Bandlock_9S_Phone_Airport/sm06/#01/data/udp_uplk_loss_latency.csv\n",
      "******** Empty RRC Data ********\n",
      "172/216 /home/wmnlab/jackbedford/data/2023-11-02/UDP_Bandlock_9S_Phone_Airport/sm04/#01/data/handover_info_log.csv\n",
      "172/216 /home/wmnlab/jackbedford/data/2023-11-02/UDP_Bandlock_9S_Phone_Airport/sm04/#01/data/udp_dnlk_loss_latency.csv\n",
      "172/216 /home/wmnlab/jackbedford/data/2023-11-02/UDP_Bandlock_9S_Phone_Airport/sm04/#01/data/udp_uplk_loss_latency.csv\n",
      "172/216 /home/wmnlab/jackbedford/data/2023-11-02/UDP_Bandlock_9S_Phone_Airport/sm07/#01/data/handover_info_log.csv\n",
      "172/216 /home/wmnlab/jackbedford/data/2023-11-02/UDP_Bandlock_9S_Phone_Airport/sm07/#01/data/udp_dnlk_loss_latency.csv\n",
      "172/216 /home/wmnlab/jackbedford/data/2023-11-02/UDP_Bandlock_9S_Phone_Airport/sm07/#01/data/udp_uplk_loss_latency.csv\n",
      "******** Empty RRC Data ********\n",
      "173/216 /home/wmnlab/jackbedford/data/2023-11-02/UDP_Bandlock_9S_Phone_Airport/sm04/#01/data/handover_info_log.csv\n",
      "173/216 /home/wmnlab/jackbedford/data/2023-11-02/UDP_Bandlock_9S_Phone_Airport/sm04/#01/data/udp_dnlk_loss_latency.csv\n",
      "173/216 /home/wmnlab/jackbedford/data/2023-11-02/UDP_Bandlock_9S_Phone_Airport/sm04/#01/data/udp_uplk_loss_latency.csv\n",
      "173/216 /home/wmnlab/jackbedford/data/2023-11-02/UDP_Bandlock_9S_Phone_Airport/sm08/#01/data/handover_info_log.csv\n",
      "173/216 /home/wmnlab/jackbedford/data/2023-11-02/UDP_Bandlock_9S_Phone_Airport/sm08/#01/data/udp_dnlk_loss_latency.csv\n",
      "173/216 /home/wmnlab/jackbedford/data/2023-11-02/UDP_Bandlock_9S_Phone_Airport/sm08/#01/data/udp_uplk_loss_latency.csv\n",
      "******** Empty RRC Data ********\n",
      "174/216 /home/wmnlab/jackbedford/data/2023-11-02/UDP_Bandlock_9S_Phone_Airport/sm05/#01/data/handover_info_log.csv\n",
      "174/216 /home/wmnlab/jackbedford/data/2023-11-02/UDP_Bandlock_9S_Phone_Airport/sm05/#01/data/udp_dnlk_loss_latency.csv\n",
      "174/216 /home/wmnlab/jackbedford/data/2023-11-02/UDP_Bandlock_9S_Phone_Airport/sm05/#01/data/udp_uplk_loss_latency.csv\n",
      "174/216 /home/wmnlab/jackbedford/data/2023-11-02/UDP_Bandlock_9S_Phone_Airport/sm06/#01/data/handover_info_log.csv\n",
      "174/216 /home/wmnlab/jackbedford/data/2023-11-02/UDP_Bandlock_9S_Phone_Airport/sm06/#01/data/udp_dnlk_loss_latency.csv\n",
      "174/216 /home/wmnlab/jackbedford/data/2023-11-02/UDP_Bandlock_9S_Phone_Airport/sm06/#01/data/udp_uplk_loss_latency.csv\n",
      "******** Empty RRC Data ********\n",
      "175/216 /home/wmnlab/jackbedford/data/2023-11-02/UDP_Bandlock_9S_Phone_Airport/sm05/#01/data/handover_info_log.csv\n",
      "175/216 /home/wmnlab/jackbedford/data/2023-11-02/UDP_Bandlock_9S_Phone_Airport/sm05/#01/data/udp_dnlk_loss_latency.csv\n",
      "175/216 /home/wmnlab/jackbedford/data/2023-11-02/UDP_Bandlock_9S_Phone_Airport/sm05/#01/data/udp_uplk_loss_latency.csv\n",
      "175/216 /home/wmnlab/jackbedford/data/2023-11-02/UDP_Bandlock_9S_Phone_Airport/sm07/#01/data/handover_info_log.csv\n",
      "175/216 /home/wmnlab/jackbedford/data/2023-11-02/UDP_Bandlock_9S_Phone_Airport/sm07/#01/data/udp_dnlk_loss_latency.csv\n",
      "175/216 /home/wmnlab/jackbedford/data/2023-11-02/UDP_Bandlock_9S_Phone_Airport/sm07/#01/data/udp_uplk_loss_latency.csv\n",
      "******** Empty RRC Data ********\n",
      "176/216 /home/wmnlab/jackbedford/data/2023-11-02/UDP_Bandlock_9S_Phone_Airport/sm05/#01/data/handover_info_log.csv\n",
      "176/216 /home/wmnlab/jackbedford/data/2023-11-02/UDP_Bandlock_9S_Phone_Airport/sm05/#01/data/udp_dnlk_loss_latency.csv\n",
      "176/216 /home/wmnlab/jackbedford/data/2023-11-02/UDP_Bandlock_9S_Phone_Airport/sm05/#01/data/udp_uplk_loss_latency.csv\n",
      "176/216 /home/wmnlab/jackbedford/data/2023-11-02/UDP_Bandlock_9S_Phone_Airport/sm08/#01/data/handover_info_log.csv\n",
      "176/216 /home/wmnlab/jackbedford/data/2023-11-02/UDP_Bandlock_9S_Phone_Airport/sm08/#01/data/udp_dnlk_loss_latency.csv\n",
      "176/216 /home/wmnlab/jackbedford/data/2023-11-02/UDP_Bandlock_9S_Phone_Airport/sm08/#01/data/udp_uplk_loss_latency.csv\n",
      "******** Empty RRC Data ********\n",
      "177/216 /home/wmnlab/jackbedford/data/2023-11-02/UDP_Bandlock_9S_Phone_Airport/sm06/#01/data/handover_info_log.csv\n",
      "177/216 /home/wmnlab/jackbedford/data/2023-11-02/UDP_Bandlock_9S_Phone_Airport/sm06/#01/data/udp_dnlk_loss_latency.csv\n",
      "177/216 /home/wmnlab/jackbedford/data/2023-11-02/UDP_Bandlock_9S_Phone_Airport/sm06/#01/data/udp_uplk_loss_latency.csv\n",
      "177/216 /home/wmnlab/jackbedford/data/2023-11-02/UDP_Bandlock_9S_Phone_Airport/sm07/#01/data/handover_info_log.csv\n",
      "177/216 /home/wmnlab/jackbedford/data/2023-11-02/UDP_Bandlock_9S_Phone_Airport/sm07/#01/data/udp_dnlk_loss_latency.csv\n",
      "177/216 /home/wmnlab/jackbedford/data/2023-11-02/UDP_Bandlock_9S_Phone_Airport/sm07/#01/data/udp_uplk_loss_latency.csv\n",
      "******** Empty RRC Data ********\n",
      "178/216 /home/wmnlab/jackbedford/data/2023-11-02/UDP_Bandlock_9S_Phone_Airport/sm06/#01/data/handover_info_log.csv\n",
      "178/216 /home/wmnlab/jackbedford/data/2023-11-02/UDP_Bandlock_9S_Phone_Airport/sm06/#01/data/udp_dnlk_loss_latency.csv\n",
      "178/216 /home/wmnlab/jackbedford/data/2023-11-02/UDP_Bandlock_9S_Phone_Airport/sm06/#01/data/udp_uplk_loss_latency.csv\n",
      "178/216 /home/wmnlab/jackbedford/data/2023-11-02/UDP_Bandlock_9S_Phone_Airport/sm08/#01/data/handover_info_log.csv\n",
      "178/216 /home/wmnlab/jackbedford/data/2023-11-02/UDP_Bandlock_9S_Phone_Airport/sm08/#01/data/udp_dnlk_loss_latency.csv\n",
      "178/216 /home/wmnlab/jackbedford/data/2023-11-02/UDP_Bandlock_9S_Phone_Airport/sm08/#01/data/udp_uplk_loss_latency.csv\n"
     ]
    },
    {
     "data": {
      "application/vnd.jupyter.widget-view+json": {
       "model_id": "b67a28467b5d4eea8b54715ed120d5d0",
       "version_major": 2,
       "version_minor": 0
      },
      "text/plain": [
       "  0%|                                                                                                         …"
      ]
     },
     "metadata": {},
     "output_type": "display_data"
    },
    {
     "name": "stdout",
     "output_type": "stream",
     "text": [
      "./20240312_150032342e_newest/20240314_060073cc2b/results/20240314_07552300000_3eeecdf13ff695a6_adjust/\\home\\wmnlab\\jackbedford\\data\\2023-11-02\\UDP_Bandlock_9S_Phone_Airport\\sm06\\#01\\data\\udp_dnlk_loss_latency\\home\\wmnlab\\jackbedford\\data\\2023-11-02\\UDP_Bandlock_9S_Phone_Airport\\sm08\\#01\\data\\udp_dnlk_loss_latency.csv\n",
      "179/216 /home/wmnlab/jackbedford/data/2023-11-02/UDP_Bandlock_9S_Phone_Airport/sm07/#01/data/handover_info_log.csv\n",
      "179/216 /home/wmnlab/jackbedford/data/2023-11-02/UDP_Bandlock_9S_Phone_Airport/sm07/#01/data/udp_dnlk_loss_latency.csv\n",
      "179/216 /home/wmnlab/jackbedford/data/2023-11-02/UDP_Bandlock_9S_Phone_Airport/sm07/#01/data/udp_uplk_loss_latency.csv\n",
      "179/216 /home/wmnlab/jackbedford/data/2023-11-02/UDP_Bandlock_9S_Phone_Airport/sm08/#01/data/handover_info_log.csv\n",
      "179/216 /home/wmnlab/jackbedford/data/2023-11-02/UDP_Bandlock_9S_Phone_Airport/sm08/#01/data/udp_dnlk_loss_latency.csv\n",
      "179/216 /home/wmnlab/jackbedford/data/2023-11-02/UDP_Bandlock_9S_Phone_Airport/sm08/#01/data/udp_uplk_loss_latency.csv\n",
      "******** Empty RRC Data ********\n",
      "180/216 /home/wmnlab/jackbedford/data/2023-11-02/UDP_Bandlock_9S_Phone_Airport/sm00/#02/data/handover_info_log.csv\n",
      "180/216 /home/wmnlab/jackbedford/data/2023-11-02/UDP_Bandlock_9S_Phone_Airport/sm00/#02/data/udp_dnlk_loss_latency.csv\n",
      "180/216 /home/wmnlab/jackbedford/data/2023-11-02/UDP_Bandlock_9S_Phone_Airport/sm00/#02/data/udp_uplk_loss_latency.csv\n",
      "180/216 /home/wmnlab/jackbedford/data/2023-11-02/UDP_Bandlock_9S_Phone_Airport/sm01/#02/data/handover_info_log.csv\n",
      "180/216 /home/wmnlab/jackbedford/data/2023-11-02/UDP_Bandlock_9S_Phone_Airport/sm01/#02/data/udp_dnlk_loss_latency.csv\n",
      "180/216 /home/wmnlab/jackbedford/data/2023-11-02/UDP_Bandlock_9S_Phone_Airport/sm01/#02/data/udp_uplk_loss_latency.csv\n"
     ]
    },
    {
     "data": {
      "application/vnd.jupyter.widget-view+json": {
       "model_id": "dd4a38ff5ea44b8ba0ec002d5dceae51",
       "version_major": 2,
       "version_minor": 0
      },
      "text/plain": [
       "  0%|                                                                                                         …"
      ]
     },
     "metadata": {},
     "output_type": "display_data"
    },
    {
     "name": "stdout",
     "output_type": "stream",
     "text": [
      "./20240312_150032342e_newest/20240314_060073cc2b/results/20240314_07552300000_3eeecdf13ff695a6_adjust/\\home\\wmnlab\\jackbedford\\data\\2023-11-02\\UDP_Bandlock_9S_Phone_Airport\\sm00\\#02\\data\\udp_dnlk_loss_latency\\home\\wmnlab\\jackbedford\\data\\2023-11-02\\UDP_Bandlock_9S_Phone_Airport\\sm01\\#02\\data\\udp_dnlk_loss_latency.csv\n",
      "181/216 /home/wmnlab/jackbedford/data/2023-11-02/UDP_Bandlock_9S_Phone_Airport/sm00/#02/data/handover_info_log.csv\n",
      "181/216 /home/wmnlab/jackbedford/data/2023-11-02/UDP_Bandlock_9S_Phone_Airport/sm00/#02/data/udp_dnlk_loss_latency.csv\n",
      "181/216 /home/wmnlab/jackbedford/data/2023-11-02/UDP_Bandlock_9S_Phone_Airport/sm00/#02/data/udp_uplk_loss_latency.csv\n",
      "181/216 /home/wmnlab/jackbedford/data/2023-11-02/UDP_Bandlock_9S_Phone_Airport/sm02/#02/data/handover_info_log.csv\n",
      "181/216 /home/wmnlab/jackbedford/data/2023-11-02/UDP_Bandlock_9S_Phone_Airport/sm02/#02/data/udp_dnlk_loss_latency.csv\n",
      "181/216 /home/wmnlab/jackbedford/data/2023-11-02/UDP_Bandlock_9S_Phone_Airport/sm02/#02/data/udp_uplk_loss_latency.csv\n"
     ]
    },
    {
     "data": {
      "application/vnd.jupyter.widget-view+json": {
       "model_id": "37e8c2fcb1904256bc408c58e44b6c4e",
       "version_major": 2,
       "version_minor": 0
      },
      "text/plain": [
       "  0%|                                                                                                         …"
      ]
     },
     "metadata": {},
     "output_type": "display_data"
    },
    {
     "name": "stdout",
     "output_type": "stream",
     "text": [
      "./20240312_150032342e_newest/20240314_060073cc2b/results/20240314_07552300000_3eeecdf13ff695a6_adjust/\\home\\wmnlab\\jackbedford\\data\\2023-11-02\\UDP_Bandlock_9S_Phone_Airport\\sm00\\#02\\data\\udp_dnlk_loss_latency\\home\\wmnlab\\jackbedford\\data\\2023-11-02\\UDP_Bandlock_9S_Phone_Airport\\sm02\\#02\\data\\udp_dnlk_loss_latency.csv\n",
      "182/216 /home/wmnlab/jackbedford/data/2023-11-02/UDP_Bandlock_9S_Phone_Airport/sm00/#02/data/handover_info_log.csv\n",
      "182/216 /home/wmnlab/jackbedford/data/2023-11-02/UDP_Bandlock_9S_Phone_Airport/sm00/#02/data/udp_dnlk_loss_latency.csv\n",
      "182/216 /home/wmnlab/jackbedford/data/2023-11-02/UDP_Bandlock_9S_Phone_Airport/sm00/#02/data/udp_uplk_loss_latency.csv\n",
      "182/216 /home/wmnlab/jackbedford/data/2023-11-02/UDP_Bandlock_9S_Phone_Airport/sm03/#02/data/handover_info_log.csv\n",
      "182/216 /home/wmnlab/jackbedford/data/2023-11-02/UDP_Bandlock_9S_Phone_Airport/sm03/#02/data/udp_dnlk_loss_latency.csv\n",
      "182/216 /home/wmnlab/jackbedford/data/2023-11-02/UDP_Bandlock_9S_Phone_Airport/sm03/#02/data/udp_uplk_loss_latency.csv\n"
     ]
    },
    {
     "data": {
      "application/vnd.jupyter.widget-view+json": {
       "model_id": "e1aeeaa3b8d649ca99f977bfe7009ffb",
       "version_major": 2,
       "version_minor": 0
      },
      "text/plain": [
       "  0%|                                                                                                         …"
      ]
     },
     "metadata": {},
     "output_type": "display_data"
    },
    {
     "name": "stdout",
     "output_type": "stream",
     "text": [
      "./20240312_150032342e_newest/20240314_060073cc2b/results/20240314_07552300000_3eeecdf13ff695a6_adjust/\\home\\wmnlab\\jackbedford\\data\\2023-11-02\\UDP_Bandlock_9S_Phone_Airport\\sm00\\#02\\data\\udp_dnlk_loss_latency\\home\\wmnlab\\jackbedford\\data\\2023-11-02\\UDP_Bandlock_9S_Phone_Airport\\sm03\\#02\\data\\udp_dnlk_loss_latency.csv\n",
      "183/216 /home/wmnlab/jackbedford/data/2023-11-02/UDP_Bandlock_9S_Phone_Airport/sm00/#02/data/handover_info_log.csv\n",
      "183/216 /home/wmnlab/jackbedford/data/2023-11-02/UDP_Bandlock_9S_Phone_Airport/sm00/#02/data/udp_dnlk_loss_latency.csv\n",
      "183/216 /home/wmnlab/jackbedford/data/2023-11-02/UDP_Bandlock_9S_Phone_Airport/sm00/#02/data/udp_uplk_loss_latency.csv\n",
      "183/216 /home/wmnlab/jackbedford/data/2023-11-02/UDP_Bandlock_9S_Phone_Airport/sm04/#02/data/handover_info_log.csv\n",
      "183/216 /home/wmnlab/jackbedford/data/2023-11-02/UDP_Bandlock_9S_Phone_Airport/sm04/#02/data/udp_dnlk_loss_latency.csv\n",
      "183/216 /home/wmnlab/jackbedford/data/2023-11-02/UDP_Bandlock_9S_Phone_Airport/sm04/#02/data/udp_uplk_loss_latency.csv\n"
     ]
    },
    {
     "data": {
      "application/vnd.jupyter.widget-view+json": {
       "model_id": "959e65262d3142af9ed5e1095308d815",
       "version_major": 2,
       "version_minor": 0
      },
      "text/plain": [
       "  0%|                                                                                                         …"
      ]
     },
     "metadata": {},
     "output_type": "display_data"
    },
    {
     "name": "stdout",
     "output_type": "stream",
     "text": [
      "./20240312_150032342e_newest/20240314_060073cc2b/results/20240314_07552300000_3eeecdf13ff695a6_adjust/\\home\\wmnlab\\jackbedford\\data\\2023-11-02\\UDP_Bandlock_9S_Phone_Airport\\sm00\\#02\\data\\udp_dnlk_loss_latency\\home\\wmnlab\\jackbedford\\data\\2023-11-02\\UDP_Bandlock_9S_Phone_Airport\\sm04\\#02\\data\\udp_dnlk_loss_latency.csv\n",
      "184/216 /home/wmnlab/jackbedford/data/2023-11-02/UDP_Bandlock_9S_Phone_Airport/sm00/#02/data/handover_info_log.csv\n",
      "184/216 /home/wmnlab/jackbedford/data/2023-11-02/UDP_Bandlock_9S_Phone_Airport/sm00/#02/data/udp_dnlk_loss_latency.csv\n",
      "184/216 /home/wmnlab/jackbedford/data/2023-11-02/UDP_Bandlock_9S_Phone_Airport/sm00/#02/data/udp_uplk_loss_latency.csv\n",
      "184/216 /home/wmnlab/jackbedford/data/2023-11-02/UDP_Bandlock_9S_Phone_Airport/sm05/#02/data/handover_info_log.csv\n",
      "184/216 /home/wmnlab/jackbedford/data/2023-11-02/UDP_Bandlock_9S_Phone_Airport/sm05/#02/data/udp_dnlk_loss_latency.csv\n",
      "184/216 /home/wmnlab/jackbedford/data/2023-11-02/UDP_Bandlock_9S_Phone_Airport/sm05/#02/data/udp_uplk_loss_latency.csv\n"
     ]
    },
    {
     "data": {
      "application/vnd.jupyter.widget-view+json": {
       "model_id": "6fdb96e90cda4978a1a9778485e0e244",
       "version_major": 2,
       "version_minor": 0
      },
      "text/plain": [
       "  0%|                                                                                                         …"
      ]
     },
     "metadata": {},
     "output_type": "display_data"
    },
    {
     "name": "stdout",
     "output_type": "stream",
     "text": [
      "./20240312_150032342e_newest/20240314_060073cc2b/results/20240314_07552300000_3eeecdf13ff695a6_adjust/\\home\\wmnlab\\jackbedford\\data\\2023-11-02\\UDP_Bandlock_9S_Phone_Airport\\sm00\\#02\\data\\udp_dnlk_loss_latency\\home\\wmnlab\\jackbedford\\data\\2023-11-02\\UDP_Bandlock_9S_Phone_Airport\\sm05\\#02\\data\\udp_dnlk_loss_latency.csv\n",
      "185/216 /home/wmnlab/jackbedford/data/2023-11-02/UDP_Bandlock_9S_Phone_Airport/sm00/#02/data/handover_info_log.csv\n",
      "185/216 /home/wmnlab/jackbedford/data/2023-11-02/UDP_Bandlock_9S_Phone_Airport/sm00/#02/data/udp_dnlk_loss_latency.csv\n",
      "185/216 /home/wmnlab/jackbedford/data/2023-11-02/UDP_Bandlock_9S_Phone_Airport/sm00/#02/data/udp_uplk_loss_latency.csv\n",
      "185/216 /home/wmnlab/jackbedford/data/2023-11-02/UDP_Bandlock_9S_Phone_Airport/sm06/#02/data/handover_info_log.csv\n",
      "185/216 /home/wmnlab/jackbedford/data/2023-11-02/UDP_Bandlock_9S_Phone_Airport/sm06/#02/data/udp_dnlk_loss_latency.csv\n",
      "185/216 /home/wmnlab/jackbedford/data/2023-11-02/UDP_Bandlock_9S_Phone_Airport/sm06/#02/data/udp_uplk_loss_latency.csv\n"
     ]
    },
    {
     "data": {
      "application/vnd.jupyter.widget-view+json": {
       "model_id": "ba418530d1344caca8eb5a89a7e76513",
       "version_major": 2,
       "version_minor": 0
      },
      "text/plain": [
       "  0%|                                                                                                         …"
      ]
     },
     "metadata": {},
     "output_type": "display_data"
    },
    {
     "name": "stdout",
     "output_type": "stream",
     "text": [
      "./20240312_150032342e_newest/20240314_060073cc2b/results/20240314_07552300000_3eeecdf13ff695a6_adjust/\\home\\wmnlab\\jackbedford\\data\\2023-11-02\\UDP_Bandlock_9S_Phone_Airport\\sm00\\#02\\data\\udp_dnlk_loss_latency\\home\\wmnlab\\jackbedford\\data\\2023-11-02\\UDP_Bandlock_9S_Phone_Airport\\sm06\\#02\\data\\udp_dnlk_loss_latency.csv\n",
      "186/216 /home/wmnlab/jackbedford/data/2023-11-02/UDP_Bandlock_9S_Phone_Airport/sm00/#02/data/handover_info_log.csv\n",
      "186/216 /home/wmnlab/jackbedford/data/2023-11-02/UDP_Bandlock_9S_Phone_Airport/sm00/#02/data/udp_dnlk_loss_latency.csv\n",
      "186/216 /home/wmnlab/jackbedford/data/2023-11-02/UDP_Bandlock_9S_Phone_Airport/sm00/#02/data/udp_uplk_loss_latency.csv\n",
      "186/216 /home/wmnlab/jackbedford/data/2023-11-02/UDP_Bandlock_9S_Phone_Airport/sm07/#02/data/handover_info_log.csv\n",
      "186/216 /home/wmnlab/jackbedford/data/2023-11-02/UDP_Bandlock_9S_Phone_Airport/sm07/#02/data/udp_dnlk_loss_latency.csv\n",
      "186/216 /home/wmnlab/jackbedford/data/2023-11-02/UDP_Bandlock_9S_Phone_Airport/sm07/#02/data/udp_uplk_loss_latency.csv\n"
     ]
    },
    {
     "data": {
      "application/vnd.jupyter.widget-view+json": {
       "model_id": "94d3bee82c8c47f096767ad70e374e49",
       "version_major": 2,
       "version_minor": 0
      },
      "text/plain": [
       "  0%|                                                                                                         …"
      ]
     },
     "metadata": {},
     "output_type": "display_data"
    },
    {
     "name": "stdout",
     "output_type": "stream",
     "text": [
      "./20240312_150032342e_newest/20240314_060073cc2b/results/20240314_07552300000_3eeecdf13ff695a6_adjust/\\home\\wmnlab\\jackbedford\\data\\2023-11-02\\UDP_Bandlock_9S_Phone_Airport\\sm00\\#02\\data\\udp_dnlk_loss_latency\\home\\wmnlab\\jackbedford\\data\\2023-11-02\\UDP_Bandlock_9S_Phone_Airport\\sm07\\#02\\data\\udp_dnlk_loss_latency.csv\n",
      "187/216 /home/wmnlab/jackbedford/data/2023-11-02/UDP_Bandlock_9S_Phone_Airport/sm00/#02/data/handover_info_log.csv\n",
      "187/216 /home/wmnlab/jackbedford/data/2023-11-02/UDP_Bandlock_9S_Phone_Airport/sm00/#02/data/udp_dnlk_loss_latency.csv\n",
      "187/216 /home/wmnlab/jackbedford/data/2023-11-02/UDP_Bandlock_9S_Phone_Airport/sm00/#02/data/udp_uplk_loss_latency.csv\n",
      "187/216 /home/wmnlab/jackbedford/data/2023-11-02/UDP_Bandlock_9S_Phone_Airport/sm08/#02/data/handover_info_log.csv\n",
      "187/216 /home/wmnlab/jackbedford/data/2023-11-02/UDP_Bandlock_9S_Phone_Airport/sm08/#02/data/udp_dnlk_loss_latency.csv\n",
      "187/216 /home/wmnlab/jackbedford/data/2023-11-02/UDP_Bandlock_9S_Phone_Airport/sm08/#02/data/udp_uplk_loss_latency.csv\n"
     ]
    },
    {
     "data": {
      "application/vnd.jupyter.widget-view+json": {
       "model_id": "c030d3c1b7ec413194ae0ac3932dcba4",
       "version_major": 2,
       "version_minor": 0
      },
      "text/plain": [
       "  0%|                                                                                                         …"
      ]
     },
     "metadata": {},
     "output_type": "display_data"
    },
    {
     "name": "stdout",
     "output_type": "stream",
     "text": [
      "./20240312_150032342e_newest/20240314_060073cc2b/results/20240314_07552300000_3eeecdf13ff695a6_adjust/\\home\\wmnlab\\jackbedford\\data\\2023-11-02\\UDP_Bandlock_9S_Phone_Airport\\sm00\\#02\\data\\udp_dnlk_loss_latency\\home\\wmnlab\\jackbedford\\data\\2023-11-02\\UDP_Bandlock_9S_Phone_Airport\\sm08\\#02\\data\\udp_dnlk_loss_latency.csv\n",
      "188/216 /home/wmnlab/jackbedford/data/2023-11-02/UDP_Bandlock_9S_Phone_Airport/sm01/#02/data/handover_info_log.csv\n",
      "188/216 /home/wmnlab/jackbedford/data/2023-11-02/UDP_Bandlock_9S_Phone_Airport/sm01/#02/data/udp_dnlk_loss_latency.csv\n",
      "188/216 /home/wmnlab/jackbedford/data/2023-11-02/UDP_Bandlock_9S_Phone_Airport/sm01/#02/data/udp_uplk_loss_latency.csv\n",
      "188/216 /home/wmnlab/jackbedford/data/2023-11-02/UDP_Bandlock_9S_Phone_Airport/sm02/#02/data/handover_info_log.csv\n",
      "188/216 /home/wmnlab/jackbedford/data/2023-11-02/UDP_Bandlock_9S_Phone_Airport/sm02/#02/data/udp_dnlk_loss_latency.csv\n",
      "188/216 /home/wmnlab/jackbedford/data/2023-11-02/UDP_Bandlock_9S_Phone_Airport/sm02/#02/data/udp_uplk_loss_latency.csv\n"
     ]
    },
    {
     "data": {
      "application/vnd.jupyter.widget-view+json": {
       "model_id": "f68a9e37fbd64a3ea78db19addb21116",
       "version_major": 2,
       "version_minor": 0
      },
      "text/plain": [
       "  0%|                                                                                                         …"
      ]
     },
     "metadata": {},
     "output_type": "display_data"
    },
    {
     "name": "stdout",
     "output_type": "stream",
     "text": [
      "./20240312_150032342e_newest/20240314_060073cc2b/results/20240314_07552300000_3eeecdf13ff695a6_adjust/\\home\\wmnlab\\jackbedford\\data\\2023-11-02\\UDP_Bandlock_9S_Phone_Airport\\sm01\\#02\\data\\udp_dnlk_loss_latency\\home\\wmnlab\\jackbedford\\data\\2023-11-02\\UDP_Bandlock_9S_Phone_Airport\\sm02\\#02\\data\\udp_dnlk_loss_latency.csv\n",
      "189/216 /home/wmnlab/jackbedford/data/2023-11-02/UDP_Bandlock_9S_Phone_Airport/sm01/#02/data/handover_info_log.csv\n",
      "189/216 /home/wmnlab/jackbedford/data/2023-11-02/UDP_Bandlock_9S_Phone_Airport/sm01/#02/data/udp_dnlk_loss_latency.csv\n",
      "189/216 /home/wmnlab/jackbedford/data/2023-11-02/UDP_Bandlock_9S_Phone_Airport/sm01/#02/data/udp_uplk_loss_latency.csv\n",
      "189/216 /home/wmnlab/jackbedford/data/2023-11-02/UDP_Bandlock_9S_Phone_Airport/sm03/#02/data/handover_info_log.csv\n",
      "189/216 /home/wmnlab/jackbedford/data/2023-11-02/UDP_Bandlock_9S_Phone_Airport/sm03/#02/data/udp_dnlk_loss_latency.csv\n",
      "189/216 /home/wmnlab/jackbedford/data/2023-11-02/UDP_Bandlock_9S_Phone_Airport/sm03/#02/data/udp_uplk_loss_latency.csv\n"
     ]
    },
    {
     "data": {
      "application/vnd.jupyter.widget-view+json": {
       "model_id": "0e6c13dcaef8481689ecd700eb6907f0",
       "version_major": 2,
       "version_minor": 0
      },
      "text/plain": [
       "  0%|                                                                                                         …"
      ]
     },
     "metadata": {},
     "output_type": "display_data"
    },
    {
     "name": "stdout",
     "output_type": "stream",
     "text": [
      "./20240312_150032342e_newest/20240314_060073cc2b/results/20240314_07552300000_3eeecdf13ff695a6_adjust/\\home\\wmnlab\\jackbedford\\data\\2023-11-02\\UDP_Bandlock_9S_Phone_Airport\\sm01\\#02\\data\\udp_dnlk_loss_latency\\home\\wmnlab\\jackbedford\\data\\2023-11-02\\UDP_Bandlock_9S_Phone_Airport\\sm03\\#02\\data\\udp_dnlk_loss_latency.csv\n",
      "190/216 /home/wmnlab/jackbedford/data/2023-11-02/UDP_Bandlock_9S_Phone_Airport/sm01/#02/data/handover_info_log.csv\n",
      "190/216 /home/wmnlab/jackbedford/data/2023-11-02/UDP_Bandlock_9S_Phone_Airport/sm01/#02/data/udp_dnlk_loss_latency.csv\n",
      "190/216 /home/wmnlab/jackbedford/data/2023-11-02/UDP_Bandlock_9S_Phone_Airport/sm01/#02/data/udp_uplk_loss_latency.csv\n",
      "190/216 /home/wmnlab/jackbedford/data/2023-11-02/UDP_Bandlock_9S_Phone_Airport/sm04/#02/data/handover_info_log.csv\n",
      "190/216 /home/wmnlab/jackbedford/data/2023-11-02/UDP_Bandlock_9S_Phone_Airport/sm04/#02/data/udp_dnlk_loss_latency.csv\n",
      "190/216 /home/wmnlab/jackbedford/data/2023-11-02/UDP_Bandlock_9S_Phone_Airport/sm04/#02/data/udp_uplk_loss_latency.csv\n"
     ]
    },
    {
     "data": {
      "application/vnd.jupyter.widget-view+json": {
       "model_id": "b4a4bf85b8974fd2bc564615f6db89c2",
       "version_major": 2,
       "version_minor": 0
      },
      "text/plain": [
       "  0%|                                                                                                         …"
      ]
     },
     "metadata": {},
     "output_type": "display_data"
    },
    {
     "name": "stdout",
     "output_type": "stream",
     "text": [
      "./20240312_150032342e_newest/20240314_060073cc2b/results/20240314_07552300000_3eeecdf13ff695a6_adjust/\\home\\wmnlab\\jackbedford\\data\\2023-11-02\\UDP_Bandlock_9S_Phone_Airport\\sm01\\#02\\data\\udp_dnlk_loss_latency\\home\\wmnlab\\jackbedford\\data\\2023-11-02\\UDP_Bandlock_9S_Phone_Airport\\sm04\\#02\\data\\udp_dnlk_loss_latency.csv\n",
      "191/216 /home/wmnlab/jackbedford/data/2023-11-02/UDP_Bandlock_9S_Phone_Airport/sm01/#02/data/handover_info_log.csv\n",
      "191/216 /home/wmnlab/jackbedford/data/2023-11-02/UDP_Bandlock_9S_Phone_Airport/sm01/#02/data/udp_dnlk_loss_latency.csv\n",
      "191/216 /home/wmnlab/jackbedford/data/2023-11-02/UDP_Bandlock_9S_Phone_Airport/sm01/#02/data/udp_uplk_loss_latency.csv\n",
      "191/216 /home/wmnlab/jackbedford/data/2023-11-02/UDP_Bandlock_9S_Phone_Airport/sm05/#02/data/handover_info_log.csv\n",
      "191/216 /home/wmnlab/jackbedford/data/2023-11-02/UDP_Bandlock_9S_Phone_Airport/sm05/#02/data/udp_dnlk_loss_latency.csv\n",
      "191/216 /home/wmnlab/jackbedford/data/2023-11-02/UDP_Bandlock_9S_Phone_Airport/sm05/#02/data/udp_uplk_loss_latency.csv\n"
     ]
    },
    {
     "data": {
      "application/vnd.jupyter.widget-view+json": {
       "model_id": "364a641fb12745edb35c5625718dcff4",
       "version_major": 2,
       "version_minor": 0
      },
      "text/plain": [
       "  0%|                                                                                                         …"
      ]
     },
     "metadata": {},
     "output_type": "display_data"
    },
    {
     "name": "stdout",
     "output_type": "stream",
     "text": [
      "./20240312_150032342e_newest/20240314_060073cc2b/results/20240314_07552300000_3eeecdf13ff695a6_adjust/\\home\\wmnlab\\jackbedford\\data\\2023-11-02\\UDP_Bandlock_9S_Phone_Airport\\sm01\\#02\\data\\udp_dnlk_loss_latency\\home\\wmnlab\\jackbedford\\data\\2023-11-02\\UDP_Bandlock_9S_Phone_Airport\\sm05\\#02\\data\\udp_dnlk_loss_latency.csv\n",
      "192/216 /home/wmnlab/jackbedford/data/2023-11-02/UDP_Bandlock_9S_Phone_Airport/sm01/#02/data/handover_info_log.csv\n",
      "192/216 /home/wmnlab/jackbedford/data/2023-11-02/UDP_Bandlock_9S_Phone_Airport/sm01/#02/data/udp_dnlk_loss_latency.csv\n",
      "192/216 /home/wmnlab/jackbedford/data/2023-11-02/UDP_Bandlock_9S_Phone_Airport/sm01/#02/data/udp_uplk_loss_latency.csv\n",
      "192/216 /home/wmnlab/jackbedford/data/2023-11-02/UDP_Bandlock_9S_Phone_Airport/sm06/#02/data/handover_info_log.csv\n",
      "192/216 /home/wmnlab/jackbedford/data/2023-11-02/UDP_Bandlock_9S_Phone_Airport/sm06/#02/data/udp_dnlk_loss_latency.csv\n",
      "192/216 /home/wmnlab/jackbedford/data/2023-11-02/UDP_Bandlock_9S_Phone_Airport/sm06/#02/data/udp_uplk_loss_latency.csv\n"
     ]
    },
    {
     "data": {
      "application/vnd.jupyter.widget-view+json": {
       "model_id": "6ab6d086eb494fa8978e93dfc33b6c2d",
       "version_major": 2,
       "version_minor": 0
      },
      "text/plain": [
       "  0%|                                                                                                         …"
      ]
     },
     "metadata": {},
     "output_type": "display_data"
    },
    {
     "name": "stdout",
     "output_type": "stream",
     "text": [
      "./20240312_150032342e_newest/20240314_060073cc2b/results/20240314_07552300000_3eeecdf13ff695a6_adjust/\\home\\wmnlab\\jackbedford\\data\\2023-11-02\\UDP_Bandlock_9S_Phone_Airport\\sm01\\#02\\data\\udp_dnlk_loss_latency\\home\\wmnlab\\jackbedford\\data\\2023-11-02\\UDP_Bandlock_9S_Phone_Airport\\sm06\\#02\\data\\udp_dnlk_loss_latency.csv\n",
      "193/216 /home/wmnlab/jackbedford/data/2023-11-02/UDP_Bandlock_9S_Phone_Airport/sm01/#02/data/handover_info_log.csv\n",
      "193/216 /home/wmnlab/jackbedford/data/2023-11-02/UDP_Bandlock_9S_Phone_Airport/sm01/#02/data/udp_dnlk_loss_latency.csv\n",
      "193/216 /home/wmnlab/jackbedford/data/2023-11-02/UDP_Bandlock_9S_Phone_Airport/sm01/#02/data/udp_uplk_loss_latency.csv\n",
      "193/216 /home/wmnlab/jackbedford/data/2023-11-02/UDP_Bandlock_9S_Phone_Airport/sm07/#02/data/handover_info_log.csv\n",
      "193/216 /home/wmnlab/jackbedford/data/2023-11-02/UDP_Bandlock_9S_Phone_Airport/sm07/#02/data/udp_dnlk_loss_latency.csv\n",
      "193/216 /home/wmnlab/jackbedford/data/2023-11-02/UDP_Bandlock_9S_Phone_Airport/sm07/#02/data/udp_uplk_loss_latency.csv\n"
     ]
    },
    {
     "data": {
      "application/vnd.jupyter.widget-view+json": {
       "model_id": "5985e7095343462e97433d304190312e",
       "version_major": 2,
       "version_minor": 0
      },
      "text/plain": [
       "  0%|                                                                                                         …"
      ]
     },
     "metadata": {},
     "output_type": "display_data"
    },
    {
     "name": "stdout",
     "output_type": "stream",
     "text": [
      "./20240312_150032342e_newest/20240314_060073cc2b/results/20240314_07552300000_3eeecdf13ff695a6_adjust/\\home\\wmnlab\\jackbedford\\data\\2023-11-02\\UDP_Bandlock_9S_Phone_Airport\\sm01\\#02\\data\\udp_dnlk_loss_latency\\home\\wmnlab\\jackbedford\\data\\2023-11-02\\UDP_Bandlock_9S_Phone_Airport\\sm07\\#02\\data\\udp_dnlk_loss_latency.csv\n",
      "194/216 /home/wmnlab/jackbedford/data/2023-11-02/UDP_Bandlock_9S_Phone_Airport/sm01/#02/data/handover_info_log.csv\n",
      "194/216 /home/wmnlab/jackbedford/data/2023-11-02/UDP_Bandlock_9S_Phone_Airport/sm01/#02/data/udp_dnlk_loss_latency.csv\n",
      "194/216 /home/wmnlab/jackbedford/data/2023-11-02/UDP_Bandlock_9S_Phone_Airport/sm01/#02/data/udp_uplk_loss_latency.csv\n",
      "194/216 /home/wmnlab/jackbedford/data/2023-11-02/UDP_Bandlock_9S_Phone_Airport/sm08/#02/data/handover_info_log.csv\n",
      "194/216 /home/wmnlab/jackbedford/data/2023-11-02/UDP_Bandlock_9S_Phone_Airport/sm08/#02/data/udp_dnlk_loss_latency.csv\n",
      "194/216 /home/wmnlab/jackbedford/data/2023-11-02/UDP_Bandlock_9S_Phone_Airport/sm08/#02/data/udp_uplk_loss_latency.csv\n"
     ]
    },
    {
     "data": {
      "application/vnd.jupyter.widget-view+json": {
       "model_id": "db024dc33d2e49d183ed5edbc727f020",
       "version_major": 2,
       "version_minor": 0
      },
      "text/plain": [
       "  0%|                                                                                                         …"
      ]
     },
     "metadata": {},
     "output_type": "display_data"
    },
    {
     "name": "stdout",
     "output_type": "stream",
     "text": [
      "./20240312_150032342e_newest/20240314_060073cc2b/results/20240314_07552300000_3eeecdf13ff695a6_adjust/\\home\\wmnlab\\jackbedford\\data\\2023-11-02\\UDP_Bandlock_9S_Phone_Airport\\sm01\\#02\\data\\udp_dnlk_loss_latency\\home\\wmnlab\\jackbedford\\data\\2023-11-02\\UDP_Bandlock_9S_Phone_Airport\\sm08\\#02\\data\\udp_dnlk_loss_latency.csv\n",
      "195/216 /home/wmnlab/jackbedford/data/2023-11-02/UDP_Bandlock_9S_Phone_Airport/sm02/#02/data/handover_info_log.csv\n",
      "195/216 /home/wmnlab/jackbedford/data/2023-11-02/UDP_Bandlock_9S_Phone_Airport/sm02/#02/data/udp_dnlk_loss_latency.csv\n",
      "195/216 /home/wmnlab/jackbedford/data/2023-11-02/UDP_Bandlock_9S_Phone_Airport/sm02/#02/data/udp_uplk_loss_latency.csv\n",
      "195/216 /home/wmnlab/jackbedford/data/2023-11-02/UDP_Bandlock_9S_Phone_Airport/sm03/#02/data/handover_info_log.csv\n",
      "195/216 /home/wmnlab/jackbedford/data/2023-11-02/UDP_Bandlock_9S_Phone_Airport/sm03/#02/data/udp_dnlk_loss_latency.csv\n",
      "195/216 /home/wmnlab/jackbedford/data/2023-11-02/UDP_Bandlock_9S_Phone_Airport/sm03/#02/data/udp_uplk_loss_latency.csv\n"
     ]
    },
    {
     "data": {
      "application/vnd.jupyter.widget-view+json": {
       "model_id": "48d41e6041784d7190334c1c34db8213",
       "version_major": 2,
       "version_minor": 0
      },
      "text/plain": [
       "  0%|                                                                                                         …"
      ]
     },
     "metadata": {},
     "output_type": "display_data"
    },
    {
     "name": "stdout",
     "output_type": "stream",
     "text": [
      "./20240312_150032342e_newest/20240314_060073cc2b/results/20240314_07552300000_3eeecdf13ff695a6_adjust/\\home\\wmnlab\\jackbedford\\data\\2023-11-02\\UDP_Bandlock_9S_Phone_Airport\\sm02\\#02\\data\\udp_dnlk_loss_latency\\home\\wmnlab\\jackbedford\\data\\2023-11-02\\UDP_Bandlock_9S_Phone_Airport\\sm03\\#02\\data\\udp_dnlk_loss_latency.csv\n",
      "196/216 /home/wmnlab/jackbedford/data/2023-11-02/UDP_Bandlock_9S_Phone_Airport/sm02/#02/data/handover_info_log.csv\n",
      "196/216 /home/wmnlab/jackbedford/data/2023-11-02/UDP_Bandlock_9S_Phone_Airport/sm02/#02/data/udp_dnlk_loss_latency.csv\n",
      "196/216 /home/wmnlab/jackbedford/data/2023-11-02/UDP_Bandlock_9S_Phone_Airport/sm02/#02/data/udp_uplk_loss_latency.csv\n",
      "196/216 /home/wmnlab/jackbedford/data/2023-11-02/UDP_Bandlock_9S_Phone_Airport/sm04/#02/data/handover_info_log.csv\n",
      "196/216 /home/wmnlab/jackbedford/data/2023-11-02/UDP_Bandlock_9S_Phone_Airport/sm04/#02/data/udp_dnlk_loss_latency.csv\n",
      "196/216 /home/wmnlab/jackbedford/data/2023-11-02/UDP_Bandlock_9S_Phone_Airport/sm04/#02/data/udp_uplk_loss_latency.csv\n"
     ]
    },
    {
     "data": {
      "application/vnd.jupyter.widget-view+json": {
       "model_id": "cb0fd9f9a68f47f38114c16920af0c73",
       "version_major": 2,
       "version_minor": 0
      },
      "text/plain": [
       "  0%|                                                                                                         …"
      ]
     },
     "metadata": {},
     "output_type": "display_data"
    },
    {
     "name": "stdout",
     "output_type": "stream",
     "text": [
      "./20240312_150032342e_newest/20240314_060073cc2b/results/20240314_07552300000_3eeecdf13ff695a6_adjust/\\home\\wmnlab\\jackbedford\\data\\2023-11-02\\UDP_Bandlock_9S_Phone_Airport\\sm02\\#02\\data\\udp_dnlk_loss_latency\\home\\wmnlab\\jackbedford\\data\\2023-11-02\\UDP_Bandlock_9S_Phone_Airport\\sm04\\#02\\data\\udp_dnlk_loss_latency.csv\n",
      "197/216 /home/wmnlab/jackbedford/data/2023-11-02/UDP_Bandlock_9S_Phone_Airport/sm02/#02/data/handover_info_log.csv\n",
      "197/216 /home/wmnlab/jackbedford/data/2023-11-02/UDP_Bandlock_9S_Phone_Airport/sm02/#02/data/udp_dnlk_loss_latency.csv\n",
      "197/216 /home/wmnlab/jackbedford/data/2023-11-02/UDP_Bandlock_9S_Phone_Airport/sm02/#02/data/udp_uplk_loss_latency.csv\n",
      "197/216 /home/wmnlab/jackbedford/data/2023-11-02/UDP_Bandlock_9S_Phone_Airport/sm05/#02/data/handover_info_log.csv\n",
      "197/216 /home/wmnlab/jackbedford/data/2023-11-02/UDP_Bandlock_9S_Phone_Airport/sm05/#02/data/udp_dnlk_loss_latency.csv\n",
      "197/216 /home/wmnlab/jackbedford/data/2023-11-02/UDP_Bandlock_9S_Phone_Airport/sm05/#02/data/udp_uplk_loss_latency.csv\n"
     ]
    },
    {
     "data": {
      "application/vnd.jupyter.widget-view+json": {
       "model_id": "f9d82511f80246748708991a39a324a9",
       "version_major": 2,
       "version_minor": 0
      },
      "text/plain": [
       "  0%|                                                                                                         …"
      ]
     },
     "metadata": {},
     "output_type": "display_data"
    },
    {
     "name": "stdout",
     "output_type": "stream",
     "text": [
      "./20240312_150032342e_newest/20240314_060073cc2b/results/20240314_07552300000_3eeecdf13ff695a6_adjust/\\home\\wmnlab\\jackbedford\\data\\2023-11-02\\UDP_Bandlock_9S_Phone_Airport\\sm02\\#02\\data\\udp_dnlk_loss_latency\\home\\wmnlab\\jackbedford\\data\\2023-11-02\\UDP_Bandlock_9S_Phone_Airport\\sm05\\#02\\data\\udp_dnlk_loss_latency.csv\n",
      "198/216 /home/wmnlab/jackbedford/data/2023-11-02/UDP_Bandlock_9S_Phone_Airport/sm02/#02/data/handover_info_log.csv\n",
      "198/216 /home/wmnlab/jackbedford/data/2023-11-02/UDP_Bandlock_9S_Phone_Airport/sm02/#02/data/udp_dnlk_loss_latency.csv\n",
      "198/216 /home/wmnlab/jackbedford/data/2023-11-02/UDP_Bandlock_9S_Phone_Airport/sm02/#02/data/udp_uplk_loss_latency.csv\n",
      "198/216 /home/wmnlab/jackbedford/data/2023-11-02/UDP_Bandlock_9S_Phone_Airport/sm06/#02/data/handover_info_log.csv\n",
      "198/216 /home/wmnlab/jackbedford/data/2023-11-02/UDP_Bandlock_9S_Phone_Airport/sm06/#02/data/udp_dnlk_loss_latency.csv\n",
      "198/216 /home/wmnlab/jackbedford/data/2023-11-02/UDP_Bandlock_9S_Phone_Airport/sm06/#02/data/udp_uplk_loss_latency.csv\n"
     ]
    },
    {
     "data": {
      "application/vnd.jupyter.widget-view+json": {
       "model_id": "d788ee9de2a44f1590f4e3d9c35bc1e6",
       "version_major": 2,
       "version_minor": 0
      },
      "text/plain": [
       "  0%|                                                                                                         …"
      ]
     },
     "metadata": {},
     "output_type": "display_data"
    },
    {
     "name": "stdout",
     "output_type": "stream",
     "text": [
      "./20240312_150032342e_newest/20240314_060073cc2b/results/20240314_07552300000_3eeecdf13ff695a6_adjust/\\home\\wmnlab\\jackbedford\\data\\2023-11-02\\UDP_Bandlock_9S_Phone_Airport\\sm02\\#02\\data\\udp_dnlk_loss_latency\\home\\wmnlab\\jackbedford\\data\\2023-11-02\\UDP_Bandlock_9S_Phone_Airport\\sm06\\#02\\data\\udp_dnlk_loss_latency.csv\n",
      "199/216 /home/wmnlab/jackbedford/data/2023-11-02/UDP_Bandlock_9S_Phone_Airport/sm02/#02/data/handover_info_log.csv\n",
      "199/216 /home/wmnlab/jackbedford/data/2023-11-02/UDP_Bandlock_9S_Phone_Airport/sm02/#02/data/udp_dnlk_loss_latency.csv\n",
      "199/216 /home/wmnlab/jackbedford/data/2023-11-02/UDP_Bandlock_9S_Phone_Airport/sm02/#02/data/udp_uplk_loss_latency.csv\n",
      "199/216 /home/wmnlab/jackbedford/data/2023-11-02/UDP_Bandlock_9S_Phone_Airport/sm07/#02/data/handover_info_log.csv\n",
      "199/216 /home/wmnlab/jackbedford/data/2023-11-02/UDP_Bandlock_9S_Phone_Airport/sm07/#02/data/udp_dnlk_loss_latency.csv\n",
      "199/216 /home/wmnlab/jackbedford/data/2023-11-02/UDP_Bandlock_9S_Phone_Airport/sm07/#02/data/udp_uplk_loss_latency.csv\n"
     ]
    },
    {
     "data": {
      "application/vnd.jupyter.widget-view+json": {
       "model_id": "3ce3846e03154412b06b535d8ce6e59d",
       "version_major": 2,
       "version_minor": 0
      },
      "text/plain": [
       "  0%|                                                                                                         …"
      ]
     },
     "metadata": {},
     "output_type": "display_data"
    },
    {
     "name": "stdout",
     "output_type": "stream",
     "text": [
      "./20240312_150032342e_newest/20240314_060073cc2b/results/20240314_07552300000_3eeecdf13ff695a6_adjust/\\home\\wmnlab\\jackbedford\\data\\2023-11-02\\UDP_Bandlock_9S_Phone_Airport\\sm02\\#02\\data\\udp_dnlk_loss_latency\\home\\wmnlab\\jackbedford\\data\\2023-11-02\\UDP_Bandlock_9S_Phone_Airport\\sm07\\#02\\data\\udp_dnlk_loss_latency.csv\n",
      "200/216 /home/wmnlab/jackbedford/data/2023-11-02/UDP_Bandlock_9S_Phone_Airport/sm02/#02/data/handover_info_log.csv\n",
      "200/216 /home/wmnlab/jackbedford/data/2023-11-02/UDP_Bandlock_9S_Phone_Airport/sm02/#02/data/udp_dnlk_loss_latency.csv\n",
      "200/216 /home/wmnlab/jackbedford/data/2023-11-02/UDP_Bandlock_9S_Phone_Airport/sm02/#02/data/udp_uplk_loss_latency.csv\n",
      "200/216 /home/wmnlab/jackbedford/data/2023-11-02/UDP_Bandlock_9S_Phone_Airport/sm08/#02/data/handover_info_log.csv\n",
      "200/216 /home/wmnlab/jackbedford/data/2023-11-02/UDP_Bandlock_9S_Phone_Airport/sm08/#02/data/udp_dnlk_loss_latency.csv\n",
      "200/216 /home/wmnlab/jackbedford/data/2023-11-02/UDP_Bandlock_9S_Phone_Airport/sm08/#02/data/udp_uplk_loss_latency.csv\n"
     ]
    },
    {
     "data": {
      "application/vnd.jupyter.widget-view+json": {
       "model_id": "7f42d9667acc4b6b8ec773e2b4894805",
       "version_major": 2,
       "version_minor": 0
      },
      "text/plain": [
       "  0%|                                                                                                         …"
      ]
     },
     "metadata": {},
     "output_type": "display_data"
    },
    {
     "name": "stdout",
     "output_type": "stream",
     "text": [
      "./20240312_150032342e_newest/20240314_060073cc2b/results/20240314_07552300000_3eeecdf13ff695a6_adjust/\\home\\wmnlab\\jackbedford\\data\\2023-11-02\\UDP_Bandlock_9S_Phone_Airport\\sm02\\#02\\data\\udp_dnlk_loss_latency\\home\\wmnlab\\jackbedford\\data\\2023-11-02\\UDP_Bandlock_9S_Phone_Airport\\sm08\\#02\\data\\udp_dnlk_loss_latency.csv\n",
      "201/216 /home/wmnlab/jackbedford/data/2023-11-02/UDP_Bandlock_9S_Phone_Airport/sm03/#02/data/handover_info_log.csv\n",
      "201/216 /home/wmnlab/jackbedford/data/2023-11-02/UDP_Bandlock_9S_Phone_Airport/sm03/#02/data/udp_dnlk_loss_latency.csv\n",
      "201/216 /home/wmnlab/jackbedford/data/2023-11-02/UDP_Bandlock_9S_Phone_Airport/sm03/#02/data/udp_uplk_loss_latency.csv\n",
      "201/216 /home/wmnlab/jackbedford/data/2023-11-02/UDP_Bandlock_9S_Phone_Airport/sm04/#02/data/handover_info_log.csv\n",
      "201/216 /home/wmnlab/jackbedford/data/2023-11-02/UDP_Bandlock_9S_Phone_Airport/sm04/#02/data/udp_dnlk_loss_latency.csv\n",
      "201/216 /home/wmnlab/jackbedford/data/2023-11-02/UDP_Bandlock_9S_Phone_Airport/sm04/#02/data/udp_uplk_loss_latency.csv\n"
     ]
    },
    {
     "data": {
      "application/vnd.jupyter.widget-view+json": {
       "model_id": "dd64aca11e714b8eac3a1696b25458ad",
       "version_major": 2,
       "version_minor": 0
      },
      "text/plain": [
       "  0%|                                                                                                         …"
      ]
     },
     "metadata": {},
     "output_type": "display_data"
    },
    {
     "name": "stdout",
     "output_type": "stream",
     "text": [
      "./20240312_150032342e_newest/20240314_060073cc2b/results/20240314_07552300000_3eeecdf13ff695a6_adjust/\\home\\wmnlab\\jackbedford\\data\\2023-11-02\\UDP_Bandlock_9S_Phone_Airport\\sm03\\#02\\data\\udp_dnlk_loss_latency\\home\\wmnlab\\jackbedford\\data\\2023-11-02\\UDP_Bandlock_9S_Phone_Airport\\sm04\\#02\\data\\udp_dnlk_loss_latency.csv\n",
      "202/216 /home/wmnlab/jackbedford/data/2023-11-02/UDP_Bandlock_9S_Phone_Airport/sm03/#02/data/handover_info_log.csv\n",
      "202/216 /home/wmnlab/jackbedford/data/2023-11-02/UDP_Bandlock_9S_Phone_Airport/sm03/#02/data/udp_dnlk_loss_latency.csv\n",
      "202/216 /home/wmnlab/jackbedford/data/2023-11-02/UDP_Bandlock_9S_Phone_Airport/sm03/#02/data/udp_uplk_loss_latency.csv\n",
      "202/216 /home/wmnlab/jackbedford/data/2023-11-02/UDP_Bandlock_9S_Phone_Airport/sm05/#02/data/handover_info_log.csv\n",
      "202/216 /home/wmnlab/jackbedford/data/2023-11-02/UDP_Bandlock_9S_Phone_Airport/sm05/#02/data/udp_dnlk_loss_latency.csv\n",
      "202/216 /home/wmnlab/jackbedford/data/2023-11-02/UDP_Bandlock_9S_Phone_Airport/sm05/#02/data/udp_uplk_loss_latency.csv\n"
     ]
    },
    {
     "data": {
      "application/vnd.jupyter.widget-view+json": {
       "model_id": "3f4719a5a72c45cb91c1b259909869c1",
       "version_major": 2,
       "version_minor": 0
      },
      "text/plain": [
       "  0%|                                                                                                         …"
      ]
     },
     "metadata": {},
     "output_type": "display_data"
    },
    {
     "name": "stdout",
     "output_type": "stream",
     "text": [
      "./20240312_150032342e_newest/20240314_060073cc2b/results/20240314_07552300000_3eeecdf13ff695a6_adjust/\\home\\wmnlab\\jackbedford\\data\\2023-11-02\\UDP_Bandlock_9S_Phone_Airport\\sm03\\#02\\data\\udp_dnlk_loss_latency\\home\\wmnlab\\jackbedford\\data\\2023-11-02\\UDP_Bandlock_9S_Phone_Airport\\sm05\\#02\\data\\udp_dnlk_loss_latency.csv\n",
      "203/216 /home/wmnlab/jackbedford/data/2023-11-02/UDP_Bandlock_9S_Phone_Airport/sm03/#02/data/handover_info_log.csv\n",
      "203/216 /home/wmnlab/jackbedford/data/2023-11-02/UDP_Bandlock_9S_Phone_Airport/sm03/#02/data/udp_dnlk_loss_latency.csv\n",
      "203/216 /home/wmnlab/jackbedford/data/2023-11-02/UDP_Bandlock_9S_Phone_Airport/sm03/#02/data/udp_uplk_loss_latency.csv\n",
      "203/216 /home/wmnlab/jackbedford/data/2023-11-02/UDP_Bandlock_9S_Phone_Airport/sm06/#02/data/handover_info_log.csv\n",
      "203/216 /home/wmnlab/jackbedford/data/2023-11-02/UDP_Bandlock_9S_Phone_Airport/sm06/#02/data/udp_dnlk_loss_latency.csv\n",
      "203/216 /home/wmnlab/jackbedford/data/2023-11-02/UDP_Bandlock_9S_Phone_Airport/sm06/#02/data/udp_uplk_loss_latency.csv\n"
     ]
    },
    {
     "data": {
      "application/vnd.jupyter.widget-view+json": {
       "model_id": "8de25379aa1446e8959e74655c1080b4",
       "version_major": 2,
       "version_minor": 0
      },
      "text/plain": [
       "  0%|                                                                                                         …"
      ]
     },
     "metadata": {},
     "output_type": "display_data"
    },
    {
     "name": "stdout",
     "output_type": "stream",
     "text": [
      "./20240312_150032342e_newest/20240314_060073cc2b/results/20240314_07552300000_3eeecdf13ff695a6_adjust/\\home\\wmnlab\\jackbedford\\data\\2023-11-02\\UDP_Bandlock_9S_Phone_Airport\\sm03\\#02\\data\\udp_dnlk_loss_latency\\home\\wmnlab\\jackbedford\\data\\2023-11-02\\UDP_Bandlock_9S_Phone_Airport\\sm06\\#02\\data\\udp_dnlk_loss_latency.csv\n",
      "204/216 /home/wmnlab/jackbedford/data/2023-11-02/UDP_Bandlock_9S_Phone_Airport/sm03/#02/data/handover_info_log.csv\n",
      "204/216 /home/wmnlab/jackbedford/data/2023-11-02/UDP_Bandlock_9S_Phone_Airport/sm03/#02/data/udp_dnlk_loss_latency.csv\n",
      "204/216 /home/wmnlab/jackbedford/data/2023-11-02/UDP_Bandlock_9S_Phone_Airport/sm03/#02/data/udp_uplk_loss_latency.csv\n",
      "204/216 /home/wmnlab/jackbedford/data/2023-11-02/UDP_Bandlock_9S_Phone_Airport/sm07/#02/data/handover_info_log.csv\n",
      "204/216 /home/wmnlab/jackbedford/data/2023-11-02/UDP_Bandlock_9S_Phone_Airport/sm07/#02/data/udp_dnlk_loss_latency.csv\n",
      "204/216 /home/wmnlab/jackbedford/data/2023-11-02/UDP_Bandlock_9S_Phone_Airport/sm07/#02/data/udp_uplk_loss_latency.csv\n"
     ]
    },
    {
     "data": {
      "application/vnd.jupyter.widget-view+json": {
       "model_id": "d9408d4b3df2488b87a508841b3fd978",
       "version_major": 2,
       "version_minor": 0
      },
      "text/plain": [
       "  0%|                                                                                                         …"
      ]
     },
     "metadata": {},
     "output_type": "display_data"
    },
    {
     "name": "stdout",
     "output_type": "stream",
     "text": [
      "./20240312_150032342e_newest/20240314_060073cc2b/results/20240314_07552300000_3eeecdf13ff695a6_adjust/\\home\\wmnlab\\jackbedford\\data\\2023-11-02\\UDP_Bandlock_9S_Phone_Airport\\sm03\\#02\\data\\udp_dnlk_loss_latency\\home\\wmnlab\\jackbedford\\data\\2023-11-02\\UDP_Bandlock_9S_Phone_Airport\\sm07\\#02\\data\\udp_dnlk_loss_latency.csv\n",
      "205/216 /home/wmnlab/jackbedford/data/2023-11-02/UDP_Bandlock_9S_Phone_Airport/sm03/#02/data/handover_info_log.csv\n",
      "205/216 /home/wmnlab/jackbedford/data/2023-11-02/UDP_Bandlock_9S_Phone_Airport/sm03/#02/data/udp_dnlk_loss_latency.csv\n",
      "205/216 /home/wmnlab/jackbedford/data/2023-11-02/UDP_Bandlock_9S_Phone_Airport/sm03/#02/data/udp_uplk_loss_latency.csv\n",
      "205/216 /home/wmnlab/jackbedford/data/2023-11-02/UDP_Bandlock_9S_Phone_Airport/sm08/#02/data/handover_info_log.csv\n",
      "205/216 /home/wmnlab/jackbedford/data/2023-11-02/UDP_Bandlock_9S_Phone_Airport/sm08/#02/data/udp_dnlk_loss_latency.csv\n",
      "205/216 /home/wmnlab/jackbedford/data/2023-11-02/UDP_Bandlock_9S_Phone_Airport/sm08/#02/data/udp_uplk_loss_latency.csv\n"
     ]
    },
    {
     "data": {
      "application/vnd.jupyter.widget-view+json": {
       "model_id": "7689a6cf5d3749a4b50c5c3502d16396",
       "version_major": 2,
       "version_minor": 0
      },
      "text/plain": [
       "  0%|                                                                                                         …"
      ]
     },
     "metadata": {},
     "output_type": "display_data"
    },
    {
     "name": "stdout",
     "output_type": "stream",
     "text": [
      "./20240312_150032342e_newest/20240314_060073cc2b/results/20240314_07552300000_3eeecdf13ff695a6_adjust/\\home\\wmnlab\\jackbedford\\data\\2023-11-02\\UDP_Bandlock_9S_Phone_Airport\\sm03\\#02\\data\\udp_dnlk_loss_latency\\home\\wmnlab\\jackbedford\\data\\2023-11-02\\UDP_Bandlock_9S_Phone_Airport\\sm08\\#02\\data\\udp_dnlk_loss_latency.csv\n",
      "206/216 /home/wmnlab/jackbedford/data/2023-11-02/UDP_Bandlock_9S_Phone_Airport/sm04/#02/data/handover_info_log.csv\n",
      "206/216 /home/wmnlab/jackbedford/data/2023-11-02/UDP_Bandlock_9S_Phone_Airport/sm04/#02/data/udp_dnlk_loss_latency.csv\n",
      "206/216 /home/wmnlab/jackbedford/data/2023-11-02/UDP_Bandlock_9S_Phone_Airport/sm04/#02/data/udp_uplk_loss_latency.csv\n",
      "206/216 /home/wmnlab/jackbedford/data/2023-11-02/UDP_Bandlock_9S_Phone_Airport/sm05/#02/data/handover_info_log.csv\n",
      "206/216 /home/wmnlab/jackbedford/data/2023-11-02/UDP_Bandlock_9S_Phone_Airport/sm05/#02/data/udp_dnlk_loss_latency.csv\n",
      "206/216 /home/wmnlab/jackbedford/data/2023-11-02/UDP_Bandlock_9S_Phone_Airport/sm05/#02/data/udp_uplk_loss_latency.csv\n"
     ]
    },
    {
     "data": {
      "application/vnd.jupyter.widget-view+json": {
       "model_id": "503b6e8fc9d240bebcf4844619f6c0b3",
       "version_major": 2,
       "version_minor": 0
      },
      "text/plain": [
       "  0%|                                                                                                         …"
      ]
     },
     "metadata": {},
     "output_type": "display_data"
    },
    {
     "name": "stdout",
     "output_type": "stream",
     "text": [
      "./20240312_150032342e_newest/20240314_060073cc2b/results/20240314_07552300000_3eeecdf13ff695a6_adjust/\\home\\wmnlab\\jackbedford\\data\\2023-11-02\\UDP_Bandlock_9S_Phone_Airport\\sm04\\#02\\data\\udp_dnlk_loss_latency\\home\\wmnlab\\jackbedford\\data\\2023-11-02\\UDP_Bandlock_9S_Phone_Airport\\sm05\\#02\\data\\udp_dnlk_loss_latency.csv\n",
      "207/216 /home/wmnlab/jackbedford/data/2023-11-02/UDP_Bandlock_9S_Phone_Airport/sm04/#02/data/handover_info_log.csv\n",
      "207/216 /home/wmnlab/jackbedford/data/2023-11-02/UDP_Bandlock_9S_Phone_Airport/sm04/#02/data/udp_dnlk_loss_latency.csv\n",
      "207/216 /home/wmnlab/jackbedford/data/2023-11-02/UDP_Bandlock_9S_Phone_Airport/sm04/#02/data/udp_uplk_loss_latency.csv\n",
      "207/216 /home/wmnlab/jackbedford/data/2023-11-02/UDP_Bandlock_9S_Phone_Airport/sm06/#02/data/handover_info_log.csv\n",
      "207/216 /home/wmnlab/jackbedford/data/2023-11-02/UDP_Bandlock_9S_Phone_Airport/sm06/#02/data/udp_dnlk_loss_latency.csv\n",
      "207/216 /home/wmnlab/jackbedford/data/2023-11-02/UDP_Bandlock_9S_Phone_Airport/sm06/#02/data/udp_uplk_loss_latency.csv\n"
     ]
    },
    {
     "data": {
      "application/vnd.jupyter.widget-view+json": {
       "model_id": "66aa53b29a1e42d6aec094c1c5e33bd7",
       "version_major": 2,
       "version_minor": 0
      },
      "text/plain": [
       "  0%|                                                                                                         …"
      ]
     },
     "metadata": {},
     "output_type": "display_data"
    },
    {
     "name": "stdout",
     "output_type": "stream",
     "text": [
      "./20240312_150032342e_newest/20240314_060073cc2b/results/20240314_07552300000_3eeecdf13ff695a6_adjust/\\home\\wmnlab\\jackbedford\\data\\2023-11-02\\UDP_Bandlock_9S_Phone_Airport\\sm04\\#02\\data\\udp_dnlk_loss_latency\\home\\wmnlab\\jackbedford\\data\\2023-11-02\\UDP_Bandlock_9S_Phone_Airport\\sm06\\#02\\data\\udp_dnlk_loss_latency.csv\n",
      "208/216 /home/wmnlab/jackbedford/data/2023-11-02/UDP_Bandlock_9S_Phone_Airport/sm04/#02/data/handover_info_log.csv\n",
      "208/216 /home/wmnlab/jackbedford/data/2023-11-02/UDP_Bandlock_9S_Phone_Airport/sm04/#02/data/udp_dnlk_loss_latency.csv\n",
      "208/216 /home/wmnlab/jackbedford/data/2023-11-02/UDP_Bandlock_9S_Phone_Airport/sm04/#02/data/udp_uplk_loss_latency.csv\n",
      "208/216 /home/wmnlab/jackbedford/data/2023-11-02/UDP_Bandlock_9S_Phone_Airport/sm07/#02/data/handover_info_log.csv\n",
      "208/216 /home/wmnlab/jackbedford/data/2023-11-02/UDP_Bandlock_9S_Phone_Airport/sm07/#02/data/udp_dnlk_loss_latency.csv\n",
      "208/216 /home/wmnlab/jackbedford/data/2023-11-02/UDP_Bandlock_9S_Phone_Airport/sm07/#02/data/udp_uplk_loss_latency.csv\n"
     ]
    },
    {
     "data": {
      "application/vnd.jupyter.widget-view+json": {
       "model_id": "3b971061340941fba7494a08f323b937",
       "version_major": 2,
       "version_minor": 0
      },
      "text/plain": [
       "  0%|                                                                                                         …"
      ]
     },
     "metadata": {},
     "output_type": "display_data"
    },
    {
     "name": "stdout",
     "output_type": "stream",
     "text": [
      "./20240312_150032342e_newest/20240314_060073cc2b/results/20240314_07552300000_3eeecdf13ff695a6_adjust/\\home\\wmnlab\\jackbedford\\data\\2023-11-02\\UDP_Bandlock_9S_Phone_Airport\\sm04\\#02\\data\\udp_dnlk_loss_latency\\home\\wmnlab\\jackbedford\\data\\2023-11-02\\UDP_Bandlock_9S_Phone_Airport\\sm07\\#02\\data\\udp_dnlk_loss_latency.csv\n",
      "209/216 /home/wmnlab/jackbedford/data/2023-11-02/UDP_Bandlock_9S_Phone_Airport/sm04/#02/data/handover_info_log.csv\n",
      "209/216 /home/wmnlab/jackbedford/data/2023-11-02/UDP_Bandlock_9S_Phone_Airport/sm04/#02/data/udp_dnlk_loss_latency.csv\n",
      "209/216 /home/wmnlab/jackbedford/data/2023-11-02/UDP_Bandlock_9S_Phone_Airport/sm04/#02/data/udp_uplk_loss_latency.csv\n",
      "209/216 /home/wmnlab/jackbedford/data/2023-11-02/UDP_Bandlock_9S_Phone_Airport/sm08/#02/data/handover_info_log.csv\n",
      "209/216 /home/wmnlab/jackbedford/data/2023-11-02/UDP_Bandlock_9S_Phone_Airport/sm08/#02/data/udp_dnlk_loss_latency.csv\n",
      "209/216 /home/wmnlab/jackbedford/data/2023-11-02/UDP_Bandlock_9S_Phone_Airport/sm08/#02/data/udp_uplk_loss_latency.csv\n"
     ]
    },
    {
     "data": {
      "application/vnd.jupyter.widget-view+json": {
       "model_id": "fc91ca87877e428bbc63d0f73ebf6397",
       "version_major": 2,
       "version_minor": 0
      },
      "text/plain": [
       "  0%|                                                                                                         …"
      ]
     },
     "metadata": {},
     "output_type": "display_data"
    },
    {
     "name": "stdout",
     "output_type": "stream",
     "text": [
      "./20240312_150032342e_newest/20240314_060073cc2b/results/20240314_07552300000_3eeecdf13ff695a6_adjust/\\home\\wmnlab\\jackbedford\\data\\2023-11-02\\UDP_Bandlock_9S_Phone_Airport\\sm04\\#02\\data\\udp_dnlk_loss_latency\\home\\wmnlab\\jackbedford\\data\\2023-11-02\\UDP_Bandlock_9S_Phone_Airport\\sm08\\#02\\data\\udp_dnlk_loss_latency.csv\n",
      "210/216 /home/wmnlab/jackbedford/data/2023-11-02/UDP_Bandlock_9S_Phone_Airport/sm05/#02/data/handover_info_log.csv\n",
      "210/216 /home/wmnlab/jackbedford/data/2023-11-02/UDP_Bandlock_9S_Phone_Airport/sm05/#02/data/udp_dnlk_loss_latency.csv\n",
      "210/216 /home/wmnlab/jackbedford/data/2023-11-02/UDP_Bandlock_9S_Phone_Airport/sm05/#02/data/udp_uplk_loss_latency.csv\n",
      "210/216 /home/wmnlab/jackbedford/data/2023-11-02/UDP_Bandlock_9S_Phone_Airport/sm06/#02/data/handover_info_log.csv\n",
      "210/216 /home/wmnlab/jackbedford/data/2023-11-02/UDP_Bandlock_9S_Phone_Airport/sm06/#02/data/udp_dnlk_loss_latency.csv\n",
      "210/216 /home/wmnlab/jackbedford/data/2023-11-02/UDP_Bandlock_9S_Phone_Airport/sm06/#02/data/udp_uplk_loss_latency.csv\n"
     ]
    },
    {
     "data": {
      "application/vnd.jupyter.widget-view+json": {
       "model_id": "cf62adf8e4404ecabaeef25a5072bad1",
       "version_major": 2,
       "version_minor": 0
      },
      "text/plain": [
       "  0%|                                                                                                         …"
      ]
     },
     "metadata": {},
     "output_type": "display_data"
    },
    {
     "name": "stdout",
     "output_type": "stream",
     "text": [
      "./20240312_150032342e_newest/20240314_060073cc2b/results/20240314_07552300000_3eeecdf13ff695a6_adjust/\\home\\wmnlab\\jackbedford\\data\\2023-11-02\\UDP_Bandlock_9S_Phone_Airport\\sm05\\#02\\data\\udp_dnlk_loss_latency\\home\\wmnlab\\jackbedford\\data\\2023-11-02\\UDP_Bandlock_9S_Phone_Airport\\sm06\\#02\\data\\udp_dnlk_loss_latency.csv\n",
      "211/216 /home/wmnlab/jackbedford/data/2023-11-02/UDP_Bandlock_9S_Phone_Airport/sm05/#02/data/handover_info_log.csv\n",
      "211/216 /home/wmnlab/jackbedford/data/2023-11-02/UDP_Bandlock_9S_Phone_Airport/sm05/#02/data/udp_dnlk_loss_latency.csv\n",
      "211/216 /home/wmnlab/jackbedford/data/2023-11-02/UDP_Bandlock_9S_Phone_Airport/sm05/#02/data/udp_uplk_loss_latency.csv\n",
      "211/216 /home/wmnlab/jackbedford/data/2023-11-02/UDP_Bandlock_9S_Phone_Airport/sm07/#02/data/handover_info_log.csv\n",
      "211/216 /home/wmnlab/jackbedford/data/2023-11-02/UDP_Bandlock_9S_Phone_Airport/sm07/#02/data/udp_dnlk_loss_latency.csv\n",
      "211/216 /home/wmnlab/jackbedford/data/2023-11-02/UDP_Bandlock_9S_Phone_Airport/sm07/#02/data/udp_uplk_loss_latency.csv\n"
     ]
    },
    {
     "data": {
      "application/vnd.jupyter.widget-view+json": {
       "model_id": "35be1d4f4f9540b6b4cc828646edc1c7",
       "version_major": 2,
       "version_minor": 0
      },
      "text/plain": [
       "  0%|                                                                                                         …"
      ]
     },
     "metadata": {},
     "output_type": "display_data"
    },
    {
     "name": "stdout",
     "output_type": "stream",
     "text": [
      "./20240312_150032342e_newest/20240314_060073cc2b/results/20240314_07552300000_3eeecdf13ff695a6_adjust/\\home\\wmnlab\\jackbedford\\data\\2023-11-02\\UDP_Bandlock_9S_Phone_Airport\\sm05\\#02\\data\\udp_dnlk_loss_latency\\home\\wmnlab\\jackbedford\\data\\2023-11-02\\UDP_Bandlock_9S_Phone_Airport\\sm07\\#02\\data\\udp_dnlk_loss_latency.csv\n",
      "212/216 /home/wmnlab/jackbedford/data/2023-11-02/UDP_Bandlock_9S_Phone_Airport/sm05/#02/data/handover_info_log.csv\n",
      "212/216 /home/wmnlab/jackbedford/data/2023-11-02/UDP_Bandlock_9S_Phone_Airport/sm05/#02/data/udp_dnlk_loss_latency.csv\n",
      "212/216 /home/wmnlab/jackbedford/data/2023-11-02/UDP_Bandlock_9S_Phone_Airport/sm05/#02/data/udp_uplk_loss_latency.csv\n",
      "212/216 /home/wmnlab/jackbedford/data/2023-11-02/UDP_Bandlock_9S_Phone_Airport/sm08/#02/data/handover_info_log.csv\n",
      "212/216 /home/wmnlab/jackbedford/data/2023-11-02/UDP_Bandlock_9S_Phone_Airport/sm08/#02/data/udp_dnlk_loss_latency.csv\n",
      "212/216 /home/wmnlab/jackbedford/data/2023-11-02/UDP_Bandlock_9S_Phone_Airport/sm08/#02/data/udp_uplk_loss_latency.csv\n"
     ]
    },
    {
     "data": {
      "application/vnd.jupyter.widget-view+json": {
       "model_id": "71b52497fcac45d685f92ccd4aabd345",
       "version_major": 2,
       "version_minor": 0
      },
      "text/plain": [
       "  0%|                                                                                                         …"
      ]
     },
     "metadata": {},
     "output_type": "display_data"
    },
    {
     "name": "stdout",
     "output_type": "stream",
     "text": [
      "./20240312_150032342e_newest/20240314_060073cc2b/results/20240314_07552300000_3eeecdf13ff695a6_adjust/\\home\\wmnlab\\jackbedford\\data\\2023-11-02\\UDP_Bandlock_9S_Phone_Airport\\sm05\\#02\\data\\udp_dnlk_loss_latency\\home\\wmnlab\\jackbedford\\data\\2023-11-02\\UDP_Bandlock_9S_Phone_Airport\\sm08\\#02\\data\\udp_dnlk_loss_latency.csv\n",
      "213/216 /home/wmnlab/jackbedford/data/2023-11-02/UDP_Bandlock_9S_Phone_Airport/sm06/#02/data/handover_info_log.csv\n",
      "213/216 /home/wmnlab/jackbedford/data/2023-11-02/UDP_Bandlock_9S_Phone_Airport/sm06/#02/data/udp_dnlk_loss_latency.csv\n",
      "213/216 /home/wmnlab/jackbedford/data/2023-11-02/UDP_Bandlock_9S_Phone_Airport/sm06/#02/data/udp_uplk_loss_latency.csv\n",
      "213/216 /home/wmnlab/jackbedford/data/2023-11-02/UDP_Bandlock_9S_Phone_Airport/sm07/#02/data/handover_info_log.csv\n",
      "213/216 /home/wmnlab/jackbedford/data/2023-11-02/UDP_Bandlock_9S_Phone_Airport/sm07/#02/data/udp_dnlk_loss_latency.csv\n",
      "213/216 /home/wmnlab/jackbedford/data/2023-11-02/UDP_Bandlock_9S_Phone_Airport/sm07/#02/data/udp_uplk_loss_latency.csv\n"
     ]
    },
    {
     "data": {
      "application/vnd.jupyter.widget-view+json": {
       "model_id": "f1a30ba9c53144f8a785312de41a985c",
       "version_major": 2,
       "version_minor": 0
      },
      "text/plain": [
       "  0%|                                                                                                         …"
      ]
     },
     "metadata": {},
     "output_type": "display_data"
    },
    {
     "name": "stdout",
     "output_type": "stream",
     "text": [
      "./20240312_150032342e_newest/20240314_060073cc2b/results/20240314_07552300000_3eeecdf13ff695a6_adjust/\\home\\wmnlab\\jackbedford\\data\\2023-11-02\\UDP_Bandlock_9S_Phone_Airport\\sm06\\#02\\data\\udp_dnlk_loss_latency\\home\\wmnlab\\jackbedford\\data\\2023-11-02\\UDP_Bandlock_9S_Phone_Airport\\sm07\\#02\\data\\udp_dnlk_loss_latency.csv\n",
      "214/216 /home/wmnlab/jackbedford/data/2023-11-02/UDP_Bandlock_9S_Phone_Airport/sm06/#02/data/handover_info_log.csv\n",
      "214/216 /home/wmnlab/jackbedford/data/2023-11-02/UDP_Bandlock_9S_Phone_Airport/sm06/#02/data/udp_dnlk_loss_latency.csv\n",
      "214/216 /home/wmnlab/jackbedford/data/2023-11-02/UDP_Bandlock_9S_Phone_Airport/sm06/#02/data/udp_uplk_loss_latency.csv\n",
      "214/216 /home/wmnlab/jackbedford/data/2023-11-02/UDP_Bandlock_9S_Phone_Airport/sm08/#02/data/handover_info_log.csv\n",
      "214/216 /home/wmnlab/jackbedford/data/2023-11-02/UDP_Bandlock_9S_Phone_Airport/sm08/#02/data/udp_dnlk_loss_latency.csv\n",
      "214/216 /home/wmnlab/jackbedford/data/2023-11-02/UDP_Bandlock_9S_Phone_Airport/sm08/#02/data/udp_uplk_loss_latency.csv\n"
     ]
    },
    {
     "data": {
      "application/vnd.jupyter.widget-view+json": {
       "model_id": "6a0570a0cc3f42969d1eb5eaab61edf6",
       "version_major": 2,
       "version_minor": 0
      },
      "text/plain": [
       "  0%|                                                                                                         …"
      ]
     },
     "metadata": {},
     "output_type": "display_data"
    },
    {
     "name": "stdout",
     "output_type": "stream",
     "text": [
      "./20240312_150032342e_newest/20240314_060073cc2b/results/20240314_07552300000_3eeecdf13ff695a6_adjust/\\home\\wmnlab\\jackbedford\\data\\2023-11-02\\UDP_Bandlock_9S_Phone_Airport\\sm06\\#02\\data\\udp_dnlk_loss_latency\\home\\wmnlab\\jackbedford\\data\\2023-11-02\\UDP_Bandlock_9S_Phone_Airport\\sm08\\#02\\data\\udp_dnlk_loss_latency.csv\n",
      "215/216 /home/wmnlab/jackbedford/data/2023-11-02/UDP_Bandlock_9S_Phone_Airport/sm07/#02/data/handover_info_log.csv\n",
      "215/216 /home/wmnlab/jackbedford/data/2023-11-02/UDP_Bandlock_9S_Phone_Airport/sm07/#02/data/udp_dnlk_loss_latency.csv\n",
      "215/216 /home/wmnlab/jackbedford/data/2023-11-02/UDP_Bandlock_9S_Phone_Airport/sm07/#02/data/udp_uplk_loss_latency.csv\n",
      "215/216 /home/wmnlab/jackbedford/data/2023-11-02/UDP_Bandlock_9S_Phone_Airport/sm08/#02/data/handover_info_log.csv\n",
      "215/216 /home/wmnlab/jackbedford/data/2023-11-02/UDP_Bandlock_9S_Phone_Airport/sm08/#02/data/udp_dnlk_loss_latency.csv\n",
      "215/216 /home/wmnlab/jackbedford/data/2023-11-02/UDP_Bandlock_9S_Phone_Airport/sm08/#02/data/udp_uplk_loss_latency.csv\n"
     ]
    },
    {
     "data": {
      "application/vnd.jupyter.widget-view+json": {
       "model_id": "98213db447bd4bb5931b900686054f67",
       "version_major": 2,
       "version_minor": 0
      },
      "text/plain": [
       "  0%|                                                                                                         …"
      ]
     },
     "metadata": {},
     "output_type": "display_data"
    },
    {
     "name": "stdout",
     "output_type": "stream",
     "text": [
      "./20240312_150032342e_newest/20240314_060073cc2b/results/20240314_07552300000_3eeecdf13ff695a6_adjust/\\home\\wmnlab\\jackbedford\\data\\2023-11-02\\UDP_Bandlock_9S_Phone_Airport\\sm07\\#02\\data\\udp_dnlk_loss_latency\\home\\wmnlab\\jackbedford\\data\\2023-11-02\\UDP_Bandlock_9S_Phone_Airport\\sm08\\#02\\data\\udp_dnlk_loss_latency.csv\n",
      "./20240312_150032342e_newest/20240314_060073cc2b/figures/20240314_A_adjust_07552300000_3eeecdf13ff695a6.png\n"
     ]
    },
    {
     "data": {
      "image/png": "[encoded data removed]",
      "text/plain": [
       "<Figure size 600x400 with 1 Axes>"
      ]
     },
     "metadata": {
      "image/png": {
       "height": 374,
       "width": 556
      }
     },
     "output_type": "display_data"
    }
   ],
   "source": [
    "eval = DEval(filepaths, model_name='A', model_suffix='adjust', sr_model_id=sr_model_id, dr_model_id=dr_model_id)\n",
    "eval.run_hist_method(N=1)\n",
    "eval.plot('A')"
   ]
  },
  {
   "cell_type": "code",
   "execution_count": null,
   "metadata": {},
   "outputs": [],
   "source": []
  }
 ],
 "metadata": {
  "kernelspec": {
   "display_name": "moxa",
   "language": "python",
   "name": "python3"
  },
  "language_info": {
   "codemirror_mode": {
    "name": "ipython",
    "version": 3
   },
   "file_extension": ".py",
   "mimetype": "text/x-python",
   "name": "python",
   "nbconvert_exporter": "python",
   "pygments_lexer": "ipython3",
   "version": "3.8.18"
  },
  "vscode": {
   "interpreter": {
    "hash": "ac7929854b6d4d7e2ce5893f875cc9f600cfede08169dbb82e36bcbc7af2498e"
   }
  }
 },
 "nbformat": 4,
 "nbformat_minor": 2
}
