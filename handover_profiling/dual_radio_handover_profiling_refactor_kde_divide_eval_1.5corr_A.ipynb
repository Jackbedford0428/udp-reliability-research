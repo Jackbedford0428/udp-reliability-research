{
 "cells": [
  {
   "cell_type": "markdown",
   "metadata": {},
   "source": [
    "# Import Modules & Util Functions"
   ]
  },
  {
   "cell_type": "code",
   "execution_count": 6,
   "metadata": {},
   "outputs": [],
   "source": [
    "import os\n",
    "import sys\n",
    "import glob\n",
    "import re\n",
    "import ast\n",
    "import warnings\n",
    "import time\n",
    "\n",
    "import csv\n",
    "import json\n",
    "import pickle\n",
    "\n",
    "import math\n",
    "import random\n",
    "import numpy as np\n",
    "import scipy as sp\n",
    "import datetime as dt\n",
    "import pandas as pd\n",
    "import swifter\n",
    "from scipy.stats import gaussian_kde\n",
    "from scipy.integrate import quad\n",
    "from scipy.optimize import minimize\n",
    "from sklearn.metrics import mean_squared_error\n",
    "\n",
    "import portion as P\n",
    "import itertools as it\n",
    "import copy\n",
    "from tqdm.notebook import tqdm\n",
    "from collections import namedtuple\n",
    "from pprint import pprint\n",
    "from pytictoc import TicToc\n",
    "\n",
    "import matplotlib\n",
    "import matplotlib.pyplot as plt\n",
    "import seaborn as sns\n",
    "\n",
    "from my_utils import *\n",
    "\n",
    "# Configure display options\n",
    "# pd.set_option('display.max_rows', 200)\n",
    "pd.set_option('display.max_columns', 100)\n",
    "%config InlineBackend.figure_format = 'retina'\n",
    "\n",
    "# Set plot style\n",
    "# plt.style.use('ggplot')\n"
   ]
  },
  {
   "cell_type": "markdown",
   "metadata": {},
   "source": [
    "# Dual Radio Evaluation"
   ]
  },
  {
   "cell_type": "code",
   "execution_count": 7,
   "metadata": {},
   "outputs": [],
   "source": [
    "class DEval:\n",
    "    def __init__(self, filepaths, model_name='Test', model_suffix=None, sr_model_id=None, dr_model_id=None, load_path='.', save_path='.',\n",
    "                 sp_columns=['type'], ts_column='Timestamp',\n",
    "                 metrics=['dl_lost']):\n",
    "        # Initialize instance variables\n",
    "        self.filepaths = copy.deepcopy(filepaths)\n",
    "        \n",
    "        if sr_model_id is None:\n",
    "            raise TypeError(\"請輸入SR模型編號\")\n",
    "        else:\n",
    "            self.sr_model_id = sr_model_id\n",
    "        \n",
    "        if dr_model_id is None:\n",
    "            raise TypeError(\"請輸入DR模型編號\")\n",
    "        else:\n",
    "            self.dr_model_id = dr_model_id\n",
    "        \n",
    "        self.model_name = model_name\n",
    "        self.save_path = save_path\n",
    "        \n",
    "        self.load_path = os.path.join(load_path, self.sr_model_id, 'models', self.model_name)\n",
    "        print(self.load_path)\n",
    "        with open(f'{self.load_path}_kde_models.pkl', 'rb') as f:\n",
    "            self.kde_models = pickle.load(f)\n",
    "        with open(f'{self.load_path}_hist_models.pkl', 'rb') as f:\n",
    "            self.hist_models = pickle.load(f)\n",
    "        with open(f'{self.load_path}_scope_models.pkl', 'rb') as f:\n",
    "            self.scope_models = pickle.load(f)\n",
    "        with open(f'{self.load_path}_plr_models.pkl', 'rb') as f:\n",
    "            self.plr_models = pickle.load(f)\n",
    "        with open(f'{self.load_path}_sr_prob_models.pkl', 'rb') as f:\n",
    "            self.sr_prob_models = pickle.load(f)\n",
    "            \n",
    "        self.load_path = os.path.join(load_path, self.sr_model_id, self.dr_model_id, self.model_name)\n",
    "        print(self.load_path)\n",
    "        if model_suffix is None:\n",
    "            print(f'{self.load_path}_dr_prob_models.pkl')\n",
    "            with open(f'{self.load_path}_dr_prob_models.pkl', 'rb') as f:\n",
    "                self.dr_prob_models = pickle.load(f)\n",
    "        else:\n",
    "            print(f'{self.load_path}_dr_prob_models_{model_suffix}.pkl')\n",
    "            with open(f'{self.load_path}_dr_prob_models_{model_suffix}.pkl', 'rb') as f:\n",
    "                self.dr_prob_models = pickle.load(f)\n",
    "        self.model_suffix = model_suffix\n",
    "        \n",
    "        self.sp_columns = sp_columns[:]\n",
    "        self.ts_column = ts_column\n",
    "        self.metrics = metrics[:]\n",
    "        \n",
    "        _, _, _, self.figure_id = figure_identity()\n",
    "        \n",
    "        # Sample data\n",
    "        self.LOSS_GT = []\n",
    "        self.LOSS_EV = []\n",
    "        self.LOSS_STD = []\n",
    "        self.DEVICES = []\n",
    "        self.TRACES = []\n",
    "        \n",
    "        # all records\n",
    "        self.records = []\n",
    "\n",
    "    @staticmethod\n",
    "    def generate_random_boolean(probability_true):\n",
    "        return random.random() < probability_true\n",
    "    \n",
    "    @staticmethod\n",
    "    def interpolate(x, y, ratio=0.5):\n",
    "        \"\"\"\n",
    "        Args:\n",
    "            x, y (datetime.datetime): x < y\n",
    "            ratio (float): a decimal numeral in a range [0, 1]; 0 means break at x, 1 means break at y.\n",
    "        Returns:\n",
    "            (datetime.datetime): breakpoint of interpolation\n",
    "        \"\"\"\n",
    "        return x + (y - x) * ratio\n",
    "    \n",
    "    def hist_method(self, df, ho_df, mode_mets, mets, RATE_TYPE):\n",
    "        scope = self.scope_models[mode_mets]\n",
    "        hist_model = self.hist_models[mode_mets]\n",
    "        prob_model = self.sr_prob_models[mode_mets]\n",
    "        plr_model = self.plr_models[mode_mets]\n",
    "        \n",
    "        this_df = df.copy()\n",
    "        for i, row in ho_df.iterrows():\n",
    "            prior_row = ho_df.iloc[i-1] if i != 0 else None\n",
    "            post_row = ho_df.iloc[i+1] if i != len(ho_df) - 1 else None\n",
    "\n",
    "            # Peek the next event to avoid HO overlapping with handoverFailure (skip!!)\n",
    "            if i != len(ho_df) - 1 and pd.notna(row.end) and row.end > post_row.start:\n",
    "                # print('Overlapping event occurs!!')\n",
    "                # print(i, row['start'], row['end'], row['type'], row['cause'])\n",
    "                # print(i+1, post_row['start'], post_row['end'], post_row['type'], post_row['cause'])\n",
    "                continue\n",
    "            \n",
    "            # Set prior event if the prior loop is skipped\n",
    "            if i != 0 and pd.notna(prior_row.end) and prior_row.end > row.start:\n",
    "                prior_row = ho_df.iloc[i-2] if i > 1 else None\n",
    "            \n",
    "            # Basic information of the current row\n",
    "            tag = '_'.join([s for s in row[self.sp_columns] if pd.notna(s)])  # specific column name\n",
    "            start_ts, end_ts = row['start'], row['end']  # handover start/end time\n",
    "            interruption_time = (end_ts - start_ts).total_seconds() if pd.notna(end_ts) else 0  # handover interruption time\n",
    "            \n",
    "            # Set simple left/right bounds\n",
    "            current_left_bound = start_ts + pd.Timedelta(seconds=(scope[tag][0]))\n",
    "            current_right_bound = start_ts + pd.Timedelta(seconds=(scope[tag][1]))\n",
    "            \n",
    "            # Set left/right bounds to avoid event overlapping with each other\n",
    "            if prior_row is not None:\n",
    "                prior_tag = '_'.join([s for s in prior_row[self.sp_columns] if pd.notna(s)])\n",
    "                prior_right_bound = prior_row['start'] + pd.Timedelta(seconds=(scope[prior_tag][1]))\n",
    "                if pd.notna(prior_row['end']):\n",
    "                    left_bound = min(max(current_left_bound, DEval.interpolate(prior_right_bound, current_left_bound), prior_row['end']), start_ts)\n",
    "                else:\n",
    "                    left_bound = min(max(current_left_bound, DEval.interpolate(prior_right_bound, current_left_bound), prior_row['start']), start_ts)\n",
    "            else:\n",
    "                left_bound = current_left_bound\n",
    "            \n",
    "            if post_row is not None:\n",
    "                post_tag = '_'.join([s for s in post_row[self.sp_columns] if pd.notna(s)])\n",
    "                post_left_bound = post_row['start'] + pd.Timedelta(seconds=(scope[post_tag][0]))\n",
    "                if pd.notna(end_ts):\n",
    "                    right_bound = max(min(current_right_bound, DEval.interpolate(current_right_bound, post_left_bound), post_row['start']), end_ts)\n",
    "                else:\n",
    "                    right_bound = max(min(current_right_bound, DEval.interpolate(current_right_bound, post_left_bound), post_row['start']), start_ts)\n",
    "            else:\n",
    "                right_bound = current_right_bound\n",
    "            \n",
    "            interval = P.closed(left_bound, right_bound)\n",
    "            \n",
    "            # Concatenate PLR from mapping list\n",
    "            current_df = this_df[this_df['Timestamp'] < interval.upper].copy()\n",
    "            plr_mapping = hist_model[tag].copy()\n",
    "            \n",
    "            current_df[f'relative_time'] = (current_df['Timestamp'] - start_ts).dt.total_seconds()\n",
    "            current_df[f'window_id'] = ((current_df[f'relative_time'] + 0.005) // 0.01) * 0.01\n",
    "            \n",
    "            trigger_probability = prob_model[tag]\n",
    "            \n",
    "            if plr_mapping.empty:\n",
    "                tmp = current_df.copy().rename(columns={mets: f'{mets}_x'})\n",
    "            else:\n",
    "                tmp = pd.merge(current_df, plr_mapping, on='window_id', how='left')\n",
    "                tmp[RATE_TYPE] = tmp[RATE_TYPE].fillna(0)\n",
    "                \n",
    "                if not DEval.generate_random_boolean(trigger_probability):\n",
    "                    tmp[RATE_TYPE] = 0\n",
    "            \n",
    "            tmp['type'] = tag\n",
    "            \n",
    "            if i == 0:\n",
    "                answer = tmp.copy()\n",
    "            else:\n",
    "                answer = pd.concat([answer, tmp], axis=0)\n",
    "            \n",
    "            # Update dataframe to accelerate the speed\n",
    "            this_df = this_df[this_df[self.ts_column] >= interval.upper].copy()\n",
    "        \n",
    "        answer = pd.concat([answer, this_df], axis=0)\n",
    "        \n",
    "        # Consider stable duration\n",
    "        stable_df = answer[answer['tx_count'].isnull()].copy()[['seq', 'lost_x', 'excl', 'Timestamp']].rename(columns={'lost_x': 'lost'})\n",
    "\n",
    "        stable_df['Timestamp_sec'] = stable_df['Timestamp'].dt.floor('S')\n",
    "        stable_df['relative_time'] = (stable_df['Timestamp'] - stable_df['Timestamp_sec']).dt.total_seconds() - 0.5\n",
    "        stable_df['window_id'] = ((stable_df['relative_time'] + 0.01 / 2) // 0.01) * 0.01\n",
    "\n",
    "        plr_mapping = hist_model['Stable'].copy()        \n",
    "        stable_df = pd.merge(stable_df, plr_mapping, on='window_id', how='left').rename(columns={'PLR': 'PLR_if_trigger'})\n",
    "        trigger_prob_mapping = stable_df[~stable_df['Timestamp_sec'].duplicated()].reset_index(drop=True)[['Timestamp_sec']]\n",
    "        \n",
    "        trigger_probability = prob_model['Stable']\n",
    "        random_bool_array = [DEval.generate_random_boolean(trigger_probability) for _ in range(len(trigger_prob_mapping))]\n",
    "        trigger_prob_mapping['trigger'] = random_bool_array\n",
    "\n",
    "        stable_df = pd.merge(stable_df, trigger_prob_mapping, on='Timestamp_sec', how='left')\n",
    "        stable_df['PLR'] = stable_df['PLR_if_trigger'] * stable_df['trigger']\n",
    "        \n",
    "        stable_df['type'] = 'Stable'\n",
    "\n",
    "        del stable_df['Timestamp_sec'], stable_df['PLR_if_trigger'], stable_df['trigger']\n",
    "        \n",
    "        answer = answer[answer['tx_count'].notnull()].copy()\n",
    "        \n",
    "        answer = pd.concat([answer, stable_df], axis=0)\n",
    "        answer = answer.sort_values(by='Timestamp').reset_index(drop=True)\n",
    "        answer['PLR'] = answer['PLR'] / 100\n",
    "        answer['Y'] = answer['PLR'].apply(DEval.generate_random_boolean)\n",
    "        \n",
    "        eval_value = answer['Y'].mean() * 100\n",
    "        ground_value = df['lost'].mean() * 100\n",
    "        \n",
    "        answer = pd.concat([answer[['seq', 'Timestamp', 'type', 'relative_time', 'window_id']],\n",
    "                            df[['lost']],\n",
    "                            answer[[RATE_TYPE, 'Y']]], axis=1)\n",
    "        \n",
    "        return answer, eval_value, ground_value\n",
    "    \n",
    "    \n",
    "    def setup_profile(self, df, ho_df, df2, scope):\n",
    "        \n",
    "        this_df = df2.copy()\n",
    "        this_df = this_df[this_df['Y']].copy().reset_index(drop=True)\n",
    "        \n",
    "        df['anchor_type'] = 'Stable'\n",
    "        df['anchor_state'] = 0\n",
    "        for i, row in ho_df.iterrows():\n",
    "            prior_row = ho_df.iloc[i-1] if i != 0 else None\n",
    "            post_row = ho_df.iloc[i+1] if i != len(ho_df) - 1 else None\n",
    "\n",
    "            # Peek the next event to avoid HO overlapping with handoverFailure (skip!!)\n",
    "            if i != len(ho_df) - 1 and pd.notna(row.end) and row.end > post_row.start:\n",
    "                # print('Overlapping event occurs!!')\n",
    "                # print(i, row['start'], row['end'], row['type'], row['cause'])\n",
    "                # print(i+1, post_row['start'], post_row['end'], post_row['type'], post_row['cause'])\n",
    "                continue\n",
    "            \n",
    "            # Set prior event if the prior loop is skipped\n",
    "            if i != 0 and pd.notna(prior_row.end) and prior_row.end > row.start:\n",
    "                prior_row = ho_df.iloc[i-2] if i > 1 else None\n",
    "            \n",
    "            # Basic information of the current row\n",
    "            tag = '_'.join([s for s in row[self.sp_columns] if pd.notna(s)])  # specific column name\n",
    "            start_ts, end_ts = row['start'], row['end']  # handover start/end time\n",
    "            interruption_time = (end_ts - start_ts).total_seconds() if pd.notna(end_ts) else 0  # handover interruption time\n",
    "            \n",
    "            # Set simple left/right bounds\n",
    "            current_left_bound = start_ts + pd.Timedelta(seconds=(scope[tag][0]))\n",
    "            current_right_bound = start_ts + pd.Timedelta(seconds=(scope[tag][1]))\n",
    "            \n",
    "            # Set left/right bounds to avoid event overlapping with each other\n",
    "            if prior_row is not None:\n",
    "                prior_tag = '_'.join([s for s in prior_row[self.sp_columns] if pd.notna(s)])\n",
    "                prior_right_bound = prior_row['start'] + pd.Timedelta(seconds=(scope[prior_tag][1]))\n",
    "                if pd.notna(prior_row['end']):\n",
    "                    left_bound = min(max(current_left_bound, DEval.interpolate(prior_right_bound, current_left_bound), prior_row['end']), start_ts)\n",
    "                else:\n",
    "                    left_bound = min(max(current_left_bound, DEval.interpolate(prior_right_bound, current_left_bound), prior_row['start']), start_ts)\n",
    "            else:\n",
    "                left_bound = current_left_bound\n",
    "            \n",
    "            if post_row is not None:\n",
    "                post_tag = '_'.join([s for s in post_row[self.sp_columns] if pd.notna(s)])\n",
    "                post_left_bound = post_row['start'] + pd.Timedelta(seconds=(scope[post_tag][0]))\n",
    "                if pd.notna(end_ts):\n",
    "                    right_bound = max(min(current_right_bound, DEval.interpolate(current_right_bound, post_left_bound), post_row['start']), end_ts)\n",
    "                else:\n",
    "                    right_bound = max(min(current_right_bound, DEval.interpolate(current_right_bound, post_left_bound), post_row['start']), start_ts)\n",
    "            else:\n",
    "                right_bound = current_right_bound\n",
    "            \n",
    "            interval = P.closed(left_bound, right_bound)\n",
    "            \n",
    "            df.loc[(df['start'] >= interval.lower) & (df['start'] < interval.upper), 'anchor_type'] = tag\n",
    "            \n",
    "            if not this_df[(this_df['Timestamp'] >= interval.lower) & (this_df['Timestamp'] < interval.upper)].empty:\n",
    "                df.loc[(df['start'] >= interval.lower) & (df['start'] < interval.upper), 'anchor_state'] = 1\n",
    "                \n",
    "            # Update dataframe to accelerate the speed\n",
    "            this_df = this_df[this_df[self.ts_column] >= interval.upper].copy()\n",
    "            \n",
    "        return df\n",
    "    \n",
    "    \n",
    "    def hist_method_dual(self, df, ho_df, mode_mets, mets, RATE_TYPE):\n",
    "        scope = self.scope_models[mode_mets]\n",
    "        hist_model = self.hist_models[mode_mets]\n",
    "        dr_prob_model = self.dr_prob_models[mode_mets]\n",
    "        \n",
    "        this_df = df.copy()\n",
    "        for i, row in ho_df.iterrows():\n",
    "            prior_row = ho_df.iloc[i-1] if i != 0 else None\n",
    "            post_row = ho_df.iloc[i+1] if i != len(ho_df) - 1 else None\n",
    "\n",
    "            # Peek the next event to avoid HO overlapping with handoverFailure (skip!!)\n",
    "            if i != len(ho_df) - 1 and pd.notna(row.end) and row.end > post_row.start:\n",
    "                # print('Overlapping event occurs!!')\n",
    "                # print(i, row['start'], row['end'], row['type'], row['cause'])\n",
    "                # print(i+1, post_row['start'], post_row['end'], post_row['type'], post_row['cause'])\n",
    "                continue\n",
    "            \n",
    "            # Set prior event if the prior loop is skipped\n",
    "            if i != 0 and pd.notna(prior_row.end) and prior_row.end > row.start:\n",
    "                prior_row = ho_df.iloc[i-2] if i > 1 else None\n",
    "            \n",
    "            # Basic information of the current row\n",
    "            tag = '_'.join([s for s in row[self.sp_columns] if pd.notna(s)])  # specific column name\n",
    "            start_ts, end_ts = row['start'], row['end']  # handover start/end time\n",
    "            interruption_time = (end_ts - start_ts).total_seconds() if pd.notna(end_ts) else 0  # handover interruption time\n",
    "            \n",
    "            # Set simple left/right bounds\n",
    "            current_left_bound = start_ts + pd.Timedelta(seconds=(scope[tag][0]))\n",
    "            current_right_bound = start_ts + pd.Timedelta(seconds=(scope[tag][1]))\n",
    "            \n",
    "            # Set left/right bounds to avoid event overlapping with each other\n",
    "            if prior_row is not None:\n",
    "                prior_tag = '_'.join([s for s in prior_row[self.sp_columns] if pd.notna(s)])\n",
    "                prior_right_bound = prior_row['start'] + pd.Timedelta(seconds=(scope[prior_tag][1]))\n",
    "                if pd.notna(prior_row['end']):\n",
    "                    left_bound = min(max(current_left_bound, DEval.interpolate(prior_right_bound, current_left_bound), prior_row['end']), start_ts)\n",
    "                else:\n",
    "                    left_bound = min(max(current_left_bound, DEval.interpolate(prior_right_bound, current_left_bound), prior_row['start']), start_ts)\n",
    "            else:\n",
    "                left_bound = current_left_bound\n",
    "            \n",
    "            if post_row is not None:\n",
    "                post_tag = '_'.join([s for s in post_row[self.sp_columns] if pd.notna(s)])\n",
    "                post_left_bound = post_row['start'] + pd.Timedelta(seconds=(scope[post_tag][0]))\n",
    "                if pd.notna(end_ts):\n",
    "                    right_bound = max(min(current_right_bound, DEval.interpolate(current_right_bound, post_left_bound), post_row['start']), end_ts)\n",
    "                else:\n",
    "                    right_bound = max(min(current_right_bound, DEval.interpolate(current_right_bound, post_left_bound), post_row['start']), start_ts)\n",
    "            else:\n",
    "                right_bound = current_right_bound\n",
    "            \n",
    "            interval = P.closed(left_bound, right_bound)\n",
    "            \n",
    "            # Concatenate PLR from mapping list\n",
    "            current_df = this_df[this_df['Timestamp'] < interval.upper].copy()\n",
    "            plr_mapping = hist_model[tag].copy()\n",
    "            \n",
    "            current_df[f'relative_time'] = (current_df['Timestamp'] - start_ts).dt.total_seconds()\n",
    "            current_df[f'window_id'] = ((current_df[f'relative_time'] + 0.005) // 0.01) * 0.01\n",
    "            \n",
    "            anchor_tag = row['anchor_type']\n",
    "            anchor_state = row['anchor_state']\n",
    "            \n",
    "            if anchor_state == 1:\n",
    "                trigger_probability = dr_prob_model[(anchor_tag, tag)][0]\n",
    "            else:\n",
    "                trigger_probability = dr_prob_model[(anchor_tag, tag)][1]\n",
    "            \n",
    "            if plr_mapping.empty:\n",
    "                tmp = current_df.copy().rename(columns={mets: f'{mets}_x'})\n",
    "            else:\n",
    "                tmp = pd.merge(current_df, plr_mapping, on='window_id', how='left')\n",
    "                tmp[RATE_TYPE] = tmp[RATE_TYPE].fillna(0)\n",
    "                \n",
    "                if not DEval.generate_random_boolean(trigger_probability):\n",
    "                    tmp[RATE_TYPE] = 0\n",
    "            \n",
    "            tmp['anchor_type'] = anchor_tag\n",
    "            tmp['anchor_state'] = anchor_state\n",
    "            tmp['type'] = tag\n",
    "            \n",
    "            if i == 0:\n",
    "                answer = tmp.copy()\n",
    "            else:\n",
    "                answer = pd.concat([answer, tmp], axis=0)\n",
    "            \n",
    "            # Update dataframe to accelerate the speed\n",
    "            this_df = this_df[this_df[self.ts_column] >= interval.upper].copy()\n",
    "        \n",
    "        answer = pd.concat([answer, this_df], axis=0)\n",
    "        # display(answer)\n",
    "        \n",
    "        # Consider stable duration\n",
    "        stable_df = answer[answer['tx_count'].isnull()].copy()[['seq', 'lost_x', 'excl', 'Timestamp']].rename(columns={'lost_x': 'lost'})\n",
    "\n",
    "        stable_df['Timestamp_sec'] = stable_df['Timestamp'].dt.floor('S')\n",
    "        stable_df['relative_time'] = (stable_df['Timestamp'] - stable_df['Timestamp_sec']).dt.total_seconds() - 0.5\n",
    "        stable_df['window_id'] = ((stable_df['relative_time'] + 0.01 / 2) // 0.01) * 0.01\n",
    "\n",
    "        plr_mapping = hist_model['Stable'].copy()        \n",
    "        stable_df = pd.merge(stable_df, plr_mapping, on='window_id', how='left').rename(columns={'PLR': 'PLR_if_trigger'})\n",
    "        trigger_prob_mapping = stable_df[~stable_df['Timestamp_sec'].duplicated()].reset_index(drop=True)[['Timestamp_sec']]\n",
    "        \n",
    "        trigger_probability = dr_prob_model[('Stable', 'Stable')][0]\n",
    "        \n",
    "        # if anchor_state == 1:\n",
    "        #     trigger_probability = dr_prob_model[(anchor_tag, tag)][0]\n",
    "        # else:\n",
    "        #     trigger_probability = dr_prob_model[(anchor_tag, tag)][1]\n",
    "                \n",
    "        random_bool_array = [DEval.generate_random_boolean(trigger_probability) for _ in range(len(trigger_prob_mapping))]\n",
    "        trigger_prob_mapping['trigger'] = random_bool_array\n",
    "\n",
    "        stable_df = pd.merge(stable_df, trigger_prob_mapping, on='Timestamp_sec', how='left')\n",
    "        stable_df['PLR'] = stable_df['PLR_if_trigger'] * stable_df['trigger']\n",
    "        \n",
    "        # stable_df['type'] = 'Stable'\n",
    "        stable_df['anchor_type'] = 'Stable'\n",
    "        stable_df['anchor_state'] = 0\n",
    "        stable_df['type'] = 'Stable'\n",
    "\n",
    "        del stable_df['Timestamp_sec'], stable_df['PLR_if_trigger'], stable_df['trigger']\n",
    "        \n",
    "        answer = answer[answer['tx_count'].notnull()].copy()\n",
    "        \n",
    "        answer = pd.concat([answer, stable_df], axis=0)\n",
    "        answer = answer.sort_values(by='Timestamp').reset_index(drop=True)\n",
    "        answer['PLR'] = answer['PLR'] / 100\n",
    "        answer['Y'] = answer['PLR'].apply(DEval.generate_random_boolean)\n",
    "        \n",
    "        eval_value = answer['Y'].mean() * 100\n",
    "        ground_value = df['lost'].mean() * 100\n",
    "        \n",
    "        answer = pd.concat([answer[['seq', 'Timestamp', 'anchor_type', 'anchor_state', 'type', 'relative_time', 'window_id']],\n",
    "                            df[['lost']],\n",
    "                            answer[[RATE_TYPE, 'Y']]], axis=1)\n",
    "\n",
    "        return answer, eval_value, ground_value\n",
    "\n",
    "        # return answer, eval_value, ground_value\n",
    "        \n",
    "        # # Consider stable duration\n",
    "        # stable_df = answer[answer['tx_count'].isnull()].copy()[['seq', 'lost_x', 'excl', 'Timestamp']].rename(columns={'lost_x': 'lost'})\n",
    "\n",
    "        # stable_df['Timestamp_sec'] = stable_df['Timestamp'].dt.floor('S')\n",
    "        # stable_df['relative_time'] = (stable_df['Timestamp'] - stable_df['Timestamp_sec']).dt.total_seconds() - 0.5\n",
    "        # stable_df['window_id'] = ((stable_df['relative_time'] + 0.01 / 2) // 0.01) * 0.01\n",
    "\n",
    "        # plr_mapping = hist_model['Stable'].copy()\n",
    "        # stable_df = pd.merge(stable_df, plr_mapping, on='window_id', how='left').rename(columns={'PLR': 'PLR_trig'})\n",
    "\n",
    "        # trig_p_mapping = stable_df[~stable_df['Timestamp_sec'].duplicated()].reset_index(drop=True)\n",
    "        \n",
    "        # triggered_p = dr_prob_model[('Stable', 'Stable')][0]\n",
    "        \n",
    "        # random_bool_array = [DEval.generate_random_boolean(triggered_p) for _ in range(len(trig_p_mapping))]\n",
    "        # trig_p_mapping['trigger'] = random_bool_array\n",
    "        # trig_p_mapping = trig_p_mapping[['Timestamp_sec', 'trigger']]\n",
    "\n",
    "        # stable_df = pd.merge(stable_df, trig_p_mapping, on='Timestamp_sec', how='left')\n",
    "        # stable_df['PLR'] = stable_df['PLR_trig'] * stable_df['trigger']\n",
    "\n",
    "        # del stable_df['Timestamp_sec'], stable_df['PLR_trig'], stable_df['trigger']\n",
    "        \n",
    "        # answer = answer[answer['tx_count'].notnull()].copy()\n",
    "        # # display(answer)\n",
    "        \n",
    "        # answer = pd.concat([answer, stable_df], axis=0)\n",
    "        # answer = answer.sort_values(by='Timestamp').reset_index(drop=True)\n",
    "        # answer['PLR'] = answer['PLR'] / 100\n",
    "        # answer['Y'] = answer['PLR'].apply(DEval.generate_random_boolean)\n",
    "        \n",
    "        # eval_value = answer['Y'].mean() * 100\n",
    "        # ground_value = df['lost'].mean() * 100\n",
    "    \n",
    "    \n",
    "    def run_hist_method(self, N=3):\n",
    "        scope = self.scope_models['dl_lost']\n",
    "        n = len(self.filepaths)\n",
    "        for mode_mets in ['dl_lost']:\n",
    "            for i, filepath in enumerate(self.filepaths):\n",
    "                \n",
    "                # if i > 35:\n",
    "                #     break\n",
    "                \n",
    "                # if i > 0:\n",
    "                #     break\n",
    "                \n",
    "                print(f'{i}/{n}', filepath[0][0]); print(f'{i}/{n}', filepath[0][1]); print(f'{i}/{n}', filepath[0][2])\n",
    "                print(f'{i}/{n}', filepath[1][0]); print(f'{i}/{n}', filepath[1][1]); print(f'{i}/{n}', filepath[1][2])\n",
    "                    \n",
    "                ho_df1 = pd.read_csv(filepath[0][0], parse_dates=['start', 'end'])\n",
    "                ho_df2 = pd.read_csv(filepath[1][0], parse_dates=['start', 'end'])\n",
    "                \n",
    "                if ho_df1.empty or ho_df2.empty:\n",
    "                    print('******** Empty RRC Data ********')\n",
    "                    continue\n",
    "                \n",
    "                # df, ho_df, empty_data = data_aligner(df, ho_df)\n",
    "                \n",
    "                df1 = pd.read_csv(filepath[0][1], parse_dates=['Timestamp'])[['seq', 'Timestamp', 'lost', 'excl', 'latency']]\n",
    "                df2 = pd.read_csv(filepath[1][1], parse_dates=['Timestamp'])[['seq', 'Timestamp', 'lost', 'excl', 'latency']]\n",
    "                df1, ho_df1, empty_data1 = data_aligner(df1, ho_df1)\n",
    "                df2, ho_df2, empty_data2 = data_aligner(df2, ho_df2)\n",
    "                \n",
    "                if empty_data1 or empty_data2:\n",
    "                    print('******** Empty RRC Data ********')\n",
    "                    continue\n",
    "                \n",
    "                df = pd.merge(df1, df2, on='seq', how='inner').reset_index(drop=True)\n",
    "                \n",
    "                df1 = df[['seq', 'Timestamp_x', 'lost_x', 'excl_x', 'latency_x']].rename(columns={'Timestamp_x': 'Timestamp', 'lost_x': 'lost', 'excl_x': 'excl', 'latency_x': 'latency'})\n",
    "                df2 = df[['seq', 'Timestamp_y', 'lost_y', 'excl_y', 'latency_y']].rename(columns={'Timestamp_y': 'Timestamp', 'lost_y': 'lost', 'excl_y': 'excl', 'latency_y': 'latency'})\n",
    "                \n",
    "                loss_rate_list = []\n",
    "                answer = None\n",
    "                for iter_round in tqdm(range(N), ncols=1000):\n",
    "                    ans1, eval_value1, ground_value1 = eval.hist_method(df1, ho_df1, mode_mets='dl_lost', mets='lost', RATE_TYPE='PLR')\n",
    "                    # display(answer1)\n",
    "                    \n",
    "                    # setup_profile\n",
    "                    # ho_df1 = self.setup_profile(ho_df1, ho_df2, df2, scope)\n",
    "                    avatar_ho_df2 = self.setup_profile(ho_df2.copy(), ho_df1, ans1, scope)\n",
    "                    \n",
    "                    # display(avatar_ho_df2)\n",
    "                    \n",
    "                    ans2, eval_value2, ground_value2 = eval.hist_method_dual(df2, avatar_ho_df2, mode_mets='dl_lost', mets='lost', RATE_TYPE='PLR')\n",
    "                    \n",
    "                    # display(ans1)\n",
    "                    # display(ans2)\n",
    "                    # display(answer2)\n",
    "                    \n",
    "                    ans = pd.merge(ans1, ans2, on='seq', how='inner').reset_index(drop=True)\n",
    "                    ans['lost'] = (ans['lost_x']) & (ans['lost_y'])\n",
    "                    ans['Y'] = (ans['Y_x']) & (ans['Y_y'])\n",
    "                    ans = ans[['seq', 'Timestamp_x', 'Timestamp_y', 'type_x', 'anchor_type', 'anchor_state', 'type_y', 'relative_time_x', 'window_id_x', 'relative_time_y', 'window_id_y', 'lost_x', 'lost_y', 'lost', 'PLR_x', 'Y_x', 'PLR_y', 'Y_y', 'Y']]\n",
    "                    \n",
    "                    # display(ans)\n",
    "                    \n",
    "                    handle = (ans1['Y']) & (ans2['Y'])\n",
    "                    eval_value = handle.mean() * 100\n",
    "                    # print('eval:', eval_value, len(handle))\n",
    "                    \n",
    "                    handle = (df1['lost']) & (df2['lost'])\n",
    "                    ground_value = handle.mean() * 100\n",
    "                    # print('ground:', ground_value, len(handle))\n",
    "                    \n",
    "                    if answer is None:\n",
    "                        answer = ans.copy()\n",
    "                        answer = answer.rename(columns={'PLR_x': f'PLR_x_0', 'Y_x': f'Y_x_0', 'PLR_y': f'PLR_y_0', 'Y_y': f'Y_y_0', 'Y': f'Y_0'})\n",
    "                    else:\n",
    "                        answer = pd.concat([answer, ans[['PLR_x', 'Y_x', 'PLR_y', 'Y_y', 'Y']]], axis=1)\n",
    "                        answer = answer.rename(columns={'PLR_x': f'PLR_x_{iter_round}', 'Y_x': f'Y_x_{iter_round}', 'PLR_y': f'PLR_y_{iter_round}', 'Y_y': f'Y_y_{iter_round}', 'Y': f'Y_{iter_round}'})\n",
    "                    \n",
    "                    loss_rate_list.append(eval_value)\n",
    "                \n",
    "                # display(answer)\n",
    "        \n",
    "                mean_value = np.mean(loss_rate_list)\n",
    "                std_deviation = np.std(loss_rate_list)\n",
    "\n",
    "                # print()\n",
    "                # print(\"Mean:\", mean_value)\n",
    "                # print(\"Standard Deviation:\", std_deviation)\n",
    "                # print(\"Ground Truth:\", ground_value)\n",
    "                \n",
    "                self.LOSS_GT.append(ground_value)\n",
    "                self.LOSS_EV.append(mean_value)\n",
    "                self.LOSS_STD.append(std_deviation)\n",
    "                \n",
    "                path1 = filepath[0][1]\n",
    "                path2 = filepath[1][1]\n",
    "                \n",
    "                error = mean_value - ground_value\n",
    "                self.records.append((mean_value, std_deviation, ground_value, error, path1, path2))\n",
    "\n",
    "                def find_sm_label(path):\n",
    "                    # 找到 \"sm\" 的位置\n",
    "                    sm_index = path.index(\"sm\")\n",
    "                    # 从 \"sm\" 的位置开始找到下一个斜杠 \"/\"\n",
    "                    next_slash_index = path.index(\"/\", sm_index)\n",
    "                    # 截取 \"sm00\" 标签\n",
    "                    # sm_label = path[sm_index:next_slash_index]\n",
    "                    sm_label = path[sm_index+2:next_slash_index]\n",
    "                    # print(\"截取的标签为:\", sm_label)\n",
    "                    return sm_label\n",
    "                \n",
    "                self.DEVICES.append(find_sm_label(path1)+'+'+find_sm_label(path2))\n",
    "                \n",
    "                def find_tr_label(path):\n",
    "                    # 找到 \"sm\" 的位置\n",
    "                    sm_index = path.index(\"#\")\n",
    "                    # 从 \"sm\" 的位置开始找到下一个斜杠 \"/\"\n",
    "                    next_slash_index = path.index(\"/\", sm_index)\n",
    "                    # 截取 \"sm00\" 标签\n",
    "                    # sm_label = path[sm_index:next_slash_index]\n",
    "                    sm_label = path[sm_index+1:next_slash_index]\n",
    "                    # print(\"截取的标签为:\", sm_label)\n",
    "                    return sm_label\n",
    "                \n",
    "                self.TRACES.append(find_tr_label(path1)+'+'+find_tr_label(path2))\n",
    "                \n",
    "                if self.model_suffix is None:\n",
    "                    save_path = os.path.join(self.save_path, self.sr_model_id, self.dr_model_id, 'results', self.figure_id)\n",
    "                else:\n",
    "                    save_path = os.path.join(self.save_path, self.sr_model_id, self.dr_model_id, 'results', f'{self.figure_id}_{self.model_suffix}')\n",
    "                    \n",
    "                if not os.path.isdir(save_path):\n",
    "                    os.makedirs(save_path)\n",
    "                \n",
    "                save_path = os.path.join(save_path, path1.replace('/', '\\\\')[:-4]+path2.replace('/', '\\\\'))\n",
    "                print(save_path)\n",
    "                answer.to_csv(save_path, index=False)\n",
    "    \n",
    "    \n",
    "    def plot(self, save_name='plot_example', save_path='.'):\n",
    "        # Sample data\n",
    "        x = self.LOSS_GT.copy()\n",
    "        y = self.LOSS_EV.copy()\n",
    "\n",
    "        # Standard deviations for error bars\n",
    "        y_error = self.LOSS_STD.copy()\n",
    "\n",
    "        # Create figure and axes\n",
    "        fig, ax = plt.subplots(figsize=(6, 4))\n",
    "\n",
    "        # Scatter plot with error bars and horizontal caps\n",
    "        ax.errorbar(x, y, yerr=y_error, linestyle='None', marker='o', color='tab:blue', capsize=5)\n",
    "        ax.scatter([], [], linestyle='None', marker='o', color='tab:blue', label='Data Points')\n",
    "\n",
    "        # Regression line\n",
    "        coefficients = np.polyfit(x, y, 1)\n",
    "        regression_line = np.poly1d(coefficients)\n",
    "        ax.plot(ax.get_xlim(), regression_line(ax.get_xlim()), linestyle='--', linewidth=1.1, color='tab:blue', label='Regression Line')\n",
    "\n",
    "        # Annotate the slope of the regression line\n",
    "        # slope_annotation = f'Slope: {coefficients[0]:.2f}'\n",
    "        # ax.annotate(slope_annotation, xy=(0.5, 0.85), xycoords='axes fraction', fontsize=10, fontstyle='italic', fontweight='bold', color='tab:blue')\n",
    "\n",
    "        # Annotate MSE From the regression line\n",
    "        y_pred = regression_line(x)\n",
    "        # mse = mean_squared_error(y, y_pred)\n",
    "        mse = np.sqrt(mean_squared_error(x, y))\n",
    "        mse_rate = mse / np.mean(x) * 100\n",
    "        slope_annotation = f'RMSE: {mse:.3f} ({mse_rate:.1f} %)'\n",
    "        ax.annotate(slope_annotation, xy=(0.5, 0.85), xycoords='axes fraction', fontsize=10, fontstyle='italic', fontweight='bold', color='tab:blue')\n",
    "\n",
    "        # 45-Degree Line\n",
    "        ax.plot(ax.get_xlim(), ax.get_xlim(), linestyle='-', linewidth=1.1, color='tab:pink', label='45-Degree Line', alpha=0.9)\n",
    "        # ax.plot(ax.get_xlim(), 1.1 * ax.get_xlim(), linestyle='-', linewidth=1.1, color='tab:pink', label='45-Degree Line', alpha=0.9)\n",
    "        # ax.plot(ax.get_xlim(), 0.9 * ax.get_xlim(), linestyle='-', linewidth=1.1, color='tab:pink', label='45-Degree Line', alpha=0.9)\n",
    "        \n",
    "        # 获取 x 的边界\n",
    "        x_limits = ax.get_xlim()\n",
    "\n",
    "        # 创建 x 值范围\n",
    "        x_values = np.linspace(x_limits[0], x_limits[1], 100)  # 使用 x 的边界值作为范围\n",
    "\n",
    "        # 计算 y = 1.1x 和 y = 0.9x 的值\n",
    "        y_upper = 1.1 * x_values\n",
    "        y_lower = 0.9 * x_values\n",
    "\n",
    "        # 绘制 y = 1.1x 和 y = 0.9x 线\n",
    "        ax.plot(x_values, y_upper, linestyle='-', linewidth=1.1, color='tab:orange')\n",
    "        ax.plot(x_values, y_lower, linestyle='-', linewidth=1.1, color='tab:orange')\n",
    "\n",
    "        # 在两条线之间填充颜色\n",
    "        ax.fill_between(x_values, y_lower, y_upper, color='tab:orange', alpha=0.3)\n",
    "\n",
    "        # Set labels and title\n",
    "        ax.set_xlabel('PLR Ground Truth')\n",
    "        ax.set_ylabel('PLR Evaluated')\n",
    "        # ax.set_title('A Profile Evaluate 9 Traces From A5 Data: Single')\n",
    "\n",
    "        for i, sm_label in enumerate(self.DEVICES):\n",
    "            ax.annotate(sm_label, xy=(x[i], y[i]))\n",
    "            \n",
    "        # Add a legend\n",
    "        ax.legend()\n",
    "        \n",
    "        save_path = os.path.join(save_path, self.sr_model_id, self.dr_model_id, 'figures')\n",
    "        if not os.path.isdir(save_path):\n",
    "            os.makedirs(save_path)\n",
    "        \n",
    "        if self.model_suffix is not None:\n",
    "            save_name = f'{save_name}_{self.model_suffix}'\n",
    "        save_path = os.path.join(save_path, figure_add_prefix_suffix(save_name, image_id=self.figure_id))\n",
    "        print(save_path)\n",
    "        fig.savefig(save_path, dpi=300)\n",
    "\n",
    "        # Show the plot\n",
    "        plt.show()"
   ]
  },
  {
   "cell_type": "markdown",
   "metadata": {},
   "source": [
    "# Enter Model IDs"
   ]
  },
  {
   "cell_type": "code",
   "execution_count": 8,
   "metadata": {},
   "outputs": [
    {
     "name": "stdout",
     "output_type": "stream",
     "text": [
      "SR Model ID: 20240312_150032342e_newest\n",
      "DR Model ID: 20240314_060073cc2b\n"
     ]
    }
   ],
   "source": [
    "factor = 1.5\n",
    "suffix = f'{factor}corr'\n",
    "\n",
    "sr_model_id = '20240312_150032342e_newest'\n",
    "# dr_model_id = '20240314_060057288b_test'\n",
    "dr_model_id = '20240314_060073cc2b'\n",
    "print('SR Model ID:', sr_model_id)\n",
    "print('DR Model ID:', dr_model_id)\n"
   ]
  },
  {
   "cell_type": "markdown",
   "metadata": {},
   "source": [
    "# A: Dual Eval"
   ]
  },
  {
   "cell_type": "code",
   "execution_count": 9,
   "metadata": {},
   "outputs": [],
   "source": [
    "# Dual Radio Example\n",
    "dates = data_loader(query_dates=True)\n",
    "\n",
    "selected_dates = [s for s in dates if s >= '2023-09-12']\n",
    "# excluded_dates = []\n",
    "# selected_exps = []\n",
    "# excluded_exps = ['Modem_Action_Test', 'Control_Group', 'Control_Group2', 'Control_Group3']\n",
    "selected_routes = ['A']\n",
    "# excluded_routes = []\n",
    "filepaths = data_loader(mode='dr', selected_dates=selected_dates, selected_routes=selected_routes)\n",
    "\n",
    "# print(len(filepaths[:36]))\n",
    "# pprint(filepaths[:36])"
   ]
  },
  {
   "cell_type": "code",
   "execution_count": 10,
   "metadata": {},
   "outputs": [
    {
     "name": "stdout",
     "output_type": "stream",
     "text": [
      "./20240312_150032342e_newest/models/A\n",
      "./20240312_150032342e_newest/20240314_060073cc2b/A\n",
      "./20240312_150032342e_newest/20240314_060073cc2b/A_dr_prob_models_1.5corr.pkl\n",
      "0/216 /home/wmnlab/jackbedford/data/2023-10-26/UDP_Bandlock_9S_Phone_Airport/sm00/#01/data/handover_info_log.csv\n",
      "0/216 /home/wmnlab/jackbedford/data/2023-10-26/UDP_Bandlock_9S_Phone_Airport/sm00/#01/data/udp_dnlk_loss_latency.csv\n",
      "0/216 /home/wmnlab/jackbedford/data/2023-10-26/UDP_Bandlock_9S_Phone_Airport/sm00/#01/data/udp_uplk_loss_latency.csv\n",
      "0/216 /home/wmnlab/jackbedford/data/2023-10-26/UDP_Bandlock_9S_Phone_Airport/sm01/#01/data/handover_info_log.csv\n",
      "0/216 /home/wmnlab/jackbedford/data/2023-10-26/UDP_Bandlock_9S_Phone_Airport/sm01/#01/data/udp_dnlk_loss_latency.csv\n",
      "0/216 /home/wmnlab/jackbedford/data/2023-10-26/UDP_Bandlock_9S_Phone_Airport/sm01/#01/data/udp_uplk_loss_latency.csv\n"
     ]
    },
    {
     "data": {
      "application/vnd.jupyter.widget-view+json": {
       "model_id": "b0466f9d0e954d35ac839aa2c3db23eb",
       "version_major": 2,
       "version_minor": 0
      },
      "text/plain": [
       "  0%|                                                                                                         …"
      ]
     },
     "metadata": {},
     "output_type": "display_data"
    },
    {
     "name": "stdout",
     "output_type": "stream",
     "text": [
      "./20240312_150032342e_newest/20240314_060073cc2b/results/20240314_09375500000_f85b83d4e1645936_1.5corr/\\home\\wmnlab\\jackbedford\\data\\2023-10-26\\UDP_Bandlock_9S_Phone_Airport\\sm00\\#01\\data\\udp_dnlk_loss_latency\\home\\wmnlab\\jackbedford\\data\\2023-10-26\\UDP_Bandlock_9S_Phone_Airport\\sm01\\#01\\data\\udp_dnlk_loss_latency.csv\n",
      "1/216 /home/wmnlab/jackbedford/data/2023-10-26/UDP_Bandlock_9S_Phone_Airport/sm00/#01/data/handover_info_log.csv\n",
      "1/216 /home/wmnlab/jackbedford/data/2023-10-26/UDP_Bandlock_9S_Phone_Airport/sm00/#01/data/udp_dnlk_loss_latency.csv\n",
      "1/216 /home/wmnlab/jackbedford/data/2023-10-26/UDP_Bandlock_9S_Phone_Airport/sm00/#01/data/udp_uplk_loss_latency.csv\n",
      "1/216 /home/wmnlab/jackbedford/data/2023-10-26/UDP_Bandlock_9S_Phone_Airport/sm02/#01/data/handover_info_log.csv\n",
      "1/216 /home/wmnlab/jackbedford/data/2023-10-26/UDP_Bandlock_9S_Phone_Airport/sm02/#01/data/udp_dnlk_loss_latency.csv\n",
      "1/216 /home/wmnlab/jackbedford/data/2023-10-26/UDP_Bandlock_9S_Phone_Airport/sm02/#01/data/udp_uplk_loss_latency.csv\n"
     ]
    },
    {
     "data": {
      "application/vnd.jupyter.widget-view+json": {
       "model_id": "48deec7bea9c42babccbbd10f94f99b2",
       "version_major": 2,
       "version_minor": 0
      },
      "text/plain": [
       "  0%|                                                                                                         …"
      ]
     },
     "metadata": {},
     "output_type": "display_data"
    },
    {
     "name": "stdout",
     "output_type": "stream",
     "text": [
      "./20240312_150032342e_newest/20240314_060073cc2b/results/20240314_09375500000_f85b83d4e1645936_1.5corr/\\home\\wmnlab\\jackbedford\\data\\2023-10-26\\UDP_Bandlock_9S_Phone_Airport\\sm00\\#01\\data\\udp_dnlk_loss_latency\\home\\wmnlab\\jackbedford\\data\\2023-10-26\\UDP_Bandlock_9S_Phone_Airport\\sm02\\#01\\data\\udp_dnlk_loss_latency.csv\n",
      "2/216 /home/wmnlab/jackbedford/data/2023-10-26/UDP_Bandlock_9S_Phone_Airport/sm00/#01/data/handover_info_log.csv\n",
      "2/216 /home/wmnlab/jackbedford/data/2023-10-26/UDP_Bandlock_9S_Phone_Airport/sm00/#01/data/udp_dnlk_loss_latency.csv\n",
      "2/216 /home/wmnlab/jackbedford/data/2023-10-26/UDP_Bandlock_9S_Phone_Airport/sm00/#01/data/udp_uplk_loss_latency.csv\n",
      "2/216 /home/wmnlab/jackbedford/data/2023-10-26/UDP_Bandlock_9S_Phone_Airport/sm03/#01/data/handover_info_log.csv\n",
      "2/216 /home/wmnlab/jackbedford/data/2023-10-26/UDP_Bandlock_9S_Phone_Airport/sm03/#01/data/udp_dnlk_loss_latency.csv\n",
      "2/216 /home/wmnlab/jackbedford/data/2023-10-26/UDP_Bandlock_9S_Phone_Airport/sm03/#01/data/udp_uplk_loss_latency.csv\n",
      "******** Empty RRC Data ********\n",
      "3/216 /home/wmnlab/jackbedford/data/2023-10-26/UDP_Bandlock_9S_Phone_Airport/sm00/#01/data/handover_info_log.csv\n",
      "3/216 /home/wmnlab/jackbedford/data/2023-10-26/UDP_Bandlock_9S_Phone_Airport/sm00/#01/data/udp_dnlk_loss_latency.csv\n",
      "3/216 /home/wmnlab/jackbedford/data/2023-10-26/UDP_Bandlock_9S_Phone_Airport/sm00/#01/data/udp_uplk_loss_latency.csv\n",
      "3/216 /home/wmnlab/jackbedford/data/2023-10-26/UDP_Bandlock_9S_Phone_Airport/sm04/#01/data/handover_info_log.csv\n",
      "3/216 /home/wmnlab/jackbedford/data/2023-10-26/UDP_Bandlock_9S_Phone_Airport/sm04/#01/data/udp_dnlk_loss_latency.csv\n",
      "3/216 /home/wmnlab/jackbedford/data/2023-10-26/UDP_Bandlock_9S_Phone_Airport/sm04/#01/data/udp_uplk_loss_latency.csv\n"
     ]
    },
    {
     "data": {
      "application/vnd.jupyter.widget-view+json": {
       "model_id": "3920fc2933b046cca8267a653d06c2db",
       "version_major": 2,
       "version_minor": 0
      },
      "text/plain": [
       "  0%|                                                                                                         …"
      ]
     },
     "metadata": {},
     "output_type": "display_data"
    },
    {
     "name": "stdout",
     "output_type": "stream",
     "text": [
      "./20240312_150032342e_newest/20240314_060073cc2b/results/20240314_09375500000_f85b83d4e1645936_1.5corr/\\home\\wmnlab\\jackbedford\\data\\2023-10-26\\UDP_Bandlock_9S_Phone_Airport\\sm00\\#01\\data\\udp_dnlk_loss_latency\\home\\wmnlab\\jackbedford\\data\\2023-10-26\\UDP_Bandlock_9S_Phone_Airport\\sm04\\#01\\data\\udp_dnlk_loss_latency.csv\n",
      "4/216 /home/wmnlab/jackbedford/data/2023-10-26/UDP_Bandlock_9S_Phone_Airport/sm00/#01/data/handover_info_log.csv\n",
      "4/216 /home/wmnlab/jackbedford/data/2023-10-26/UDP_Bandlock_9S_Phone_Airport/sm00/#01/data/udp_dnlk_loss_latency.csv\n",
      "4/216 /home/wmnlab/jackbedford/data/2023-10-26/UDP_Bandlock_9S_Phone_Airport/sm00/#01/data/udp_uplk_loss_latency.csv\n",
      "4/216 /home/wmnlab/jackbedford/data/2023-10-26/UDP_Bandlock_9S_Phone_Airport/sm05/#01/data/handover_info_log.csv\n",
      "4/216 /home/wmnlab/jackbedford/data/2023-10-26/UDP_Bandlock_9S_Phone_Airport/sm05/#01/data/udp_dnlk_loss_latency.csv\n",
      "4/216 /home/wmnlab/jackbedford/data/2023-10-26/UDP_Bandlock_9S_Phone_Airport/sm05/#01/data/udp_uplk_loss_latency.csv\n"
     ]
    },
    {
     "data": {
      "application/vnd.jupyter.widget-view+json": {
       "model_id": "b697504c756c4e72916bef7ed3139006",
       "version_major": 2,
       "version_minor": 0
      },
      "text/plain": [
       "  0%|                                                                                                         …"
      ]
     },
     "metadata": {},
     "output_type": "display_data"
    },
    {
     "name": "stdout",
     "output_type": "stream",
     "text": [
      "./20240312_150032342e_newest/20240314_060073cc2b/results/20240314_09375500000_f85b83d4e1645936_1.5corr/\\home\\wmnlab\\jackbedford\\data\\2023-10-26\\UDP_Bandlock_9S_Phone_Airport\\sm00\\#01\\data\\udp_dnlk_loss_latency\\home\\wmnlab\\jackbedford\\data\\2023-10-26\\UDP_Bandlock_9S_Phone_Airport\\sm05\\#01\\data\\udp_dnlk_loss_latency.csv\n",
      "5/216 /home/wmnlab/jackbedford/data/2023-10-26/UDP_Bandlock_9S_Phone_Airport/sm00/#01/data/handover_info_log.csv\n",
      "5/216 /home/wmnlab/jackbedford/data/2023-10-26/UDP_Bandlock_9S_Phone_Airport/sm00/#01/data/udp_dnlk_loss_latency.csv\n",
      "5/216 /home/wmnlab/jackbedford/data/2023-10-26/UDP_Bandlock_9S_Phone_Airport/sm00/#01/data/udp_uplk_loss_latency.csv\n",
      "5/216 /home/wmnlab/jackbedford/data/2023-10-26/UDP_Bandlock_9S_Phone_Airport/sm06/#01/data/handover_info_log.csv\n",
      "5/216 /home/wmnlab/jackbedford/data/2023-10-26/UDP_Bandlock_9S_Phone_Airport/sm06/#01/data/udp_dnlk_loss_latency.csv\n",
      "5/216 /home/wmnlab/jackbedford/data/2023-10-26/UDP_Bandlock_9S_Phone_Airport/sm06/#01/data/udp_uplk_loss_latency.csv\n"
     ]
    },
    {
     "data": {
      "application/vnd.jupyter.widget-view+json": {
       "model_id": "253eee8df4f04834914f78c63966d0cc",
       "version_major": 2,
       "version_minor": 0
      },
      "text/plain": [
       "  0%|                                                                                                         …"
      ]
     },
     "metadata": {},
     "output_type": "display_data"
    },
    {
     "name": "stdout",
     "output_type": "stream",
     "text": [
      "./20240312_150032342e_newest/20240314_060073cc2b/results/20240314_09375500000_f85b83d4e1645936_1.5corr/\\home\\wmnlab\\jackbedford\\data\\2023-10-26\\UDP_Bandlock_9S_Phone_Airport\\sm00\\#01\\data\\udp_dnlk_loss_latency\\home\\wmnlab\\jackbedford\\data\\2023-10-26\\UDP_Bandlock_9S_Phone_Airport\\sm06\\#01\\data\\udp_dnlk_loss_latency.csv\n",
      "6/216 /home/wmnlab/jackbedford/data/2023-10-26/UDP_Bandlock_9S_Phone_Airport/sm00/#01/data/handover_info_log.csv\n",
      "6/216 /home/wmnlab/jackbedford/data/2023-10-26/UDP_Bandlock_9S_Phone_Airport/sm00/#01/data/udp_dnlk_loss_latency.csv\n",
      "6/216 /home/wmnlab/jackbedford/data/2023-10-26/UDP_Bandlock_9S_Phone_Airport/sm00/#01/data/udp_uplk_loss_latency.csv\n",
      "6/216 /home/wmnlab/jackbedford/data/2023-10-26/UDP_Bandlock_9S_Phone_Airport/sm07/#01/data/handover_info_log.csv\n",
      "6/216 /home/wmnlab/jackbedford/data/2023-10-26/UDP_Bandlock_9S_Phone_Airport/sm07/#01/data/udp_dnlk_loss_latency.csv\n",
      "6/216 /home/wmnlab/jackbedford/data/2023-10-26/UDP_Bandlock_9S_Phone_Airport/sm07/#01/data/udp_uplk_loss_latency.csv\n"
     ]
    },
    {
     "data": {
      "application/vnd.jupyter.widget-view+json": {
       "model_id": "f9f1639949674e6584587e5284b7bd6a",
       "version_major": 2,
       "version_minor": 0
      },
      "text/plain": [
       "  0%|                                                                                                         …"
      ]
     },
     "metadata": {},
     "output_type": "display_data"
    },
    {
     "name": "stdout",
     "output_type": "stream",
     "text": [
      "./20240312_150032342e_newest/20240314_060073cc2b/results/20240314_09375500000_f85b83d4e1645936_1.5corr/\\home\\wmnlab\\jackbedford\\data\\2023-10-26\\UDP_Bandlock_9S_Phone_Airport\\sm00\\#01\\data\\udp_dnlk_loss_latency\\home\\wmnlab\\jackbedford\\data\\2023-10-26\\UDP_Bandlock_9S_Phone_Airport\\sm07\\#01\\data\\udp_dnlk_loss_latency.csv\n",
      "7/216 /home/wmnlab/jackbedford/data/2023-10-26/UDP_Bandlock_9S_Phone_Airport/sm00/#01/data/handover_info_log.csv\n",
      "7/216 /home/wmnlab/jackbedford/data/2023-10-26/UDP_Bandlock_9S_Phone_Airport/sm00/#01/data/udp_dnlk_loss_latency.csv\n",
      "7/216 /home/wmnlab/jackbedford/data/2023-10-26/UDP_Bandlock_9S_Phone_Airport/sm00/#01/data/udp_uplk_loss_latency.csv\n",
      "7/216 /home/wmnlab/jackbedford/data/2023-10-26/UDP_Bandlock_9S_Phone_Airport/sm08/#01/data/handover_info_log.csv\n",
      "7/216 /home/wmnlab/jackbedford/data/2023-10-26/UDP_Bandlock_9S_Phone_Airport/sm08/#01/data/udp_dnlk_loss_latency.csv\n",
      "7/216 /home/wmnlab/jackbedford/data/2023-10-26/UDP_Bandlock_9S_Phone_Airport/sm08/#01/data/udp_uplk_loss_latency.csv\n"
     ]
    },
    {
     "data": {
      "application/vnd.jupyter.widget-view+json": {
       "model_id": "49dd0edf39284a978b3f541bcd4f46e1",
       "version_major": 2,
       "version_minor": 0
      },
      "text/plain": [
       "  0%|                                                                                                         …"
      ]
     },
     "metadata": {},
     "output_type": "display_data"
    },
    {
     "name": "stdout",
     "output_type": "stream",
     "text": [
      "./20240312_150032342e_newest/20240314_060073cc2b/results/20240314_09375500000_f85b83d4e1645936_1.5corr/\\home\\wmnlab\\jackbedford\\data\\2023-10-26\\UDP_Bandlock_9S_Phone_Airport\\sm00\\#01\\data\\udp_dnlk_loss_latency\\home\\wmnlab\\jackbedford\\data\\2023-10-26\\UDP_Bandlock_9S_Phone_Airport\\sm08\\#01\\data\\udp_dnlk_loss_latency.csv\n",
      "8/216 /home/wmnlab/jackbedford/data/2023-10-26/UDP_Bandlock_9S_Phone_Airport/sm01/#01/data/handover_info_log.csv\n",
      "8/216 /home/wmnlab/jackbedford/data/2023-10-26/UDP_Bandlock_9S_Phone_Airport/sm01/#01/data/udp_dnlk_loss_latency.csv\n",
      "8/216 /home/wmnlab/jackbedford/data/2023-10-26/UDP_Bandlock_9S_Phone_Airport/sm01/#01/data/udp_uplk_loss_latency.csv\n",
      "8/216 /home/wmnlab/jackbedford/data/2023-10-26/UDP_Bandlock_9S_Phone_Airport/sm02/#01/data/handover_info_log.csv\n",
      "8/216 /home/wmnlab/jackbedford/data/2023-10-26/UDP_Bandlock_9S_Phone_Airport/sm02/#01/data/udp_dnlk_loss_latency.csv\n",
      "8/216 /home/wmnlab/jackbedford/data/2023-10-26/UDP_Bandlock_9S_Phone_Airport/sm02/#01/data/udp_uplk_loss_latency.csv\n"
     ]
    },
    {
     "data": {
      "application/vnd.jupyter.widget-view+json": {
       "model_id": "49f016e43d3644489142ec9f4dcb825c",
       "version_major": 2,
       "version_minor": 0
      },
      "text/plain": [
       "  0%|                                                                                                         …"
      ]
     },
     "metadata": {},
     "output_type": "display_data"
    },
    {
     "name": "stdout",
     "output_type": "stream",
     "text": [
      "./20240312_150032342e_newest/20240314_060073cc2b/results/20240314_09375500000_f85b83d4e1645936_1.5corr/\\home\\wmnlab\\jackbedford\\data\\2023-10-26\\UDP_Bandlock_9S_Phone_Airport\\sm01\\#01\\data\\udp_dnlk_loss_latency\\home\\wmnlab\\jackbedford\\data\\2023-10-26\\UDP_Bandlock_9S_Phone_Airport\\sm02\\#01\\data\\udp_dnlk_loss_latency.csv\n",
      "9/216 /home/wmnlab/jackbedford/data/2023-10-26/UDP_Bandlock_9S_Phone_Airport/sm01/#01/data/handover_info_log.csv\n",
      "9/216 /home/wmnlab/jackbedford/data/2023-10-26/UDP_Bandlock_9S_Phone_Airport/sm01/#01/data/udp_dnlk_loss_latency.csv\n",
      "9/216 /home/wmnlab/jackbedford/data/2023-10-26/UDP_Bandlock_9S_Phone_Airport/sm01/#01/data/udp_uplk_loss_latency.csv\n",
      "9/216 /home/wmnlab/jackbedford/data/2023-10-26/UDP_Bandlock_9S_Phone_Airport/sm03/#01/data/handover_info_log.csv\n",
      "9/216 /home/wmnlab/jackbedford/data/2023-10-26/UDP_Bandlock_9S_Phone_Airport/sm03/#01/data/udp_dnlk_loss_latency.csv\n",
      "9/216 /home/wmnlab/jackbedford/data/2023-10-26/UDP_Bandlock_9S_Phone_Airport/sm03/#01/data/udp_uplk_loss_latency.csv\n",
      "******** Empty RRC Data ********\n",
      "10/216 /home/wmnlab/jackbedford/data/2023-10-26/UDP_Bandlock_9S_Phone_Airport/sm01/#01/data/handover_info_log.csv\n",
      "10/216 /home/wmnlab/jackbedford/data/2023-10-26/UDP_Bandlock_9S_Phone_Airport/sm01/#01/data/udp_dnlk_loss_latency.csv\n",
      "10/216 /home/wmnlab/jackbedford/data/2023-10-26/UDP_Bandlock_9S_Phone_Airport/sm01/#01/data/udp_uplk_loss_latency.csv\n",
      "10/216 /home/wmnlab/jackbedford/data/2023-10-26/UDP_Bandlock_9S_Phone_Airport/sm04/#01/data/handover_info_log.csv\n",
      "10/216 /home/wmnlab/jackbedford/data/2023-10-26/UDP_Bandlock_9S_Phone_Airport/sm04/#01/data/udp_dnlk_loss_latency.csv\n",
      "10/216 /home/wmnlab/jackbedford/data/2023-10-26/UDP_Bandlock_9S_Phone_Airport/sm04/#01/data/udp_uplk_loss_latency.csv\n"
     ]
    },
    {
     "data": {
      "application/vnd.jupyter.widget-view+json": {
       "model_id": "f072bb6f73474ca0b39bd11d85dde76a",
       "version_major": 2,
       "version_minor": 0
      },
      "text/plain": [
       "  0%|                                                                                                         …"
      ]
     },
     "metadata": {},
     "output_type": "display_data"
    },
    {
     "name": "stdout",
     "output_type": "stream",
     "text": [
      "./20240312_150032342e_newest/20240314_060073cc2b/results/20240314_09375500000_f85b83d4e1645936_1.5corr/\\home\\wmnlab\\jackbedford\\data\\2023-10-26\\UDP_Bandlock_9S_Phone_Airport\\sm01\\#01\\data\\udp_dnlk_loss_latency\\home\\wmnlab\\jackbedford\\data\\2023-10-26\\UDP_Bandlock_9S_Phone_Airport\\sm04\\#01\\data\\udp_dnlk_loss_latency.csv\n",
      "11/216 /home/wmnlab/jackbedford/data/2023-10-26/UDP_Bandlock_9S_Phone_Airport/sm01/#01/data/handover_info_log.csv\n",
      "11/216 /home/wmnlab/jackbedford/data/2023-10-26/UDP_Bandlock_9S_Phone_Airport/sm01/#01/data/udp_dnlk_loss_latency.csv\n",
      "11/216 /home/wmnlab/jackbedford/data/2023-10-26/UDP_Bandlock_9S_Phone_Airport/sm01/#01/data/udp_uplk_loss_latency.csv\n",
      "11/216 /home/wmnlab/jackbedford/data/2023-10-26/UDP_Bandlock_9S_Phone_Airport/sm05/#01/data/handover_info_log.csv\n",
      "11/216 /home/wmnlab/jackbedford/data/2023-10-26/UDP_Bandlock_9S_Phone_Airport/sm05/#01/data/udp_dnlk_loss_latency.csv\n",
      "11/216 /home/wmnlab/jackbedford/data/2023-10-26/UDP_Bandlock_9S_Phone_Airport/sm05/#01/data/udp_uplk_loss_latency.csv\n"
     ]
    },
    {
     "data": {
      "application/vnd.jupyter.widget-view+json": {
       "model_id": "f56af46c290b42f2bdea1aba188c8c57",
       "version_major": 2,
       "version_minor": 0
      },
      "text/plain": [
       "  0%|                                                                                                         …"
      ]
     },
     "metadata": {},
     "output_type": "display_data"
    },
    {
     "name": "stdout",
     "output_type": "stream",
     "text": [
      "./20240312_150032342e_newest/20240314_060073cc2b/results/20240314_09375500000_f85b83d4e1645936_1.5corr/\\home\\wmnlab\\jackbedford\\data\\2023-10-26\\UDP_Bandlock_9S_Phone_Airport\\sm01\\#01\\data\\udp_dnlk_loss_latency\\home\\wmnlab\\jackbedford\\data\\2023-10-26\\UDP_Bandlock_9S_Phone_Airport\\sm05\\#01\\data\\udp_dnlk_loss_latency.csv\n",
      "12/216 /home/wmnlab/jackbedford/data/2023-10-26/UDP_Bandlock_9S_Phone_Airport/sm01/#01/data/handover_info_log.csv\n",
      "12/216 /home/wmnlab/jackbedford/data/2023-10-26/UDP_Bandlock_9S_Phone_Airport/sm01/#01/data/udp_dnlk_loss_latency.csv\n",
      "12/216 /home/wmnlab/jackbedford/data/2023-10-26/UDP_Bandlock_9S_Phone_Airport/sm01/#01/data/udp_uplk_loss_latency.csv\n",
      "12/216 /home/wmnlab/jackbedford/data/2023-10-26/UDP_Bandlock_9S_Phone_Airport/sm06/#01/data/handover_info_log.csv\n",
      "12/216 /home/wmnlab/jackbedford/data/2023-10-26/UDP_Bandlock_9S_Phone_Airport/sm06/#01/data/udp_dnlk_loss_latency.csv\n",
      "12/216 /home/wmnlab/jackbedford/data/2023-10-26/UDP_Bandlock_9S_Phone_Airport/sm06/#01/data/udp_uplk_loss_latency.csv\n"
     ]
    },
    {
     "data": {
      "application/vnd.jupyter.widget-view+json": {
       "model_id": "1cf742fa16d440d0ac749b13173879d6",
       "version_major": 2,
       "version_minor": 0
      },
      "text/plain": [
       "  0%|                                                                                                         …"
      ]
     },
     "metadata": {},
     "output_type": "display_data"
    },
    {
     "name": "stdout",
     "output_type": "stream",
     "text": [
      "./20240312_150032342e_newest/20240314_060073cc2b/results/20240314_09375500000_f85b83d4e1645936_1.5corr/\\home\\wmnlab\\jackbedford\\data\\2023-10-26\\UDP_Bandlock_9S_Phone_Airport\\sm01\\#01\\data\\udp_dnlk_loss_latency\\home\\wmnlab\\jackbedford\\data\\2023-10-26\\UDP_Bandlock_9S_Phone_Airport\\sm06\\#01\\data\\udp_dnlk_loss_latency.csv\n",
      "13/216 /home/wmnlab/jackbedford/data/2023-10-26/UDP_Bandlock_9S_Phone_Airport/sm01/#01/data/handover_info_log.csv\n",
      "13/216 /home/wmnlab/jackbedford/data/2023-10-26/UDP_Bandlock_9S_Phone_Airport/sm01/#01/data/udp_dnlk_loss_latency.csv\n",
      "13/216 /home/wmnlab/jackbedford/data/2023-10-26/UDP_Bandlock_9S_Phone_Airport/sm01/#01/data/udp_uplk_loss_latency.csv\n",
      "13/216 /home/wmnlab/jackbedford/data/2023-10-26/UDP_Bandlock_9S_Phone_Airport/sm07/#01/data/handover_info_log.csv\n",
      "13/216 /home/wmnlab/jackbedford/data/2023-10-26/UDP_Bandlock_9S_Phone_Airport/sm07/#01/data/udp_dnlk_loss_latency.csv\n",
      "13/216 /home/wmnlab/jackbedford/data/2023-10-26/UDP_Bandlock_9S_Phone_Airport/sm07/#01/data/udp_uplk_loss_latency.csv\n"
     ]
    },
    {
     "data": {
      "application/vnd.jupyter.widget-view+json": {
       "model_id": "e3e1702d34b645b39b68b60a75f616ac",
       "version_major": 2,
       "version_minor": 0
      },
      "text/plain": [
       "  0%|                                                                                                         …"
      ]
     },
     "metadata": {},
     "output_type": "display_data"
    },
    {
     "name": "stdout",
     "output_type": "stream",
     "text": [
      "./20240312_150032342e_newest/20240314_060073cc2b/results/20240314_09375500000_f85b83d4e1645936_1.5corr/\\home\\wmnlab\\jackbedford\\data\\2023-10-26\\UDP_Bandlock_9S_Phone_Airport\\sm01\\#01\\data\\udp_dnlk_loss_latency\\home\\wmnlab\\jackbedford\\data\\2023-10-26\\UDP_Bandlock_9S_Phone_Airport\\sm07\\#01\\data\\udp_dnlk_loss_latency.csv\n",
      "14/216 /home/wmnlab/jackbedford/data/2023-10-26/UDP_Bandlock_9S_Phone_Airport/sm01/#01/data/handover_info_log.csv\n",
      "14/216 /home/wmnlab/jackbedford/data/2023-10-26/UDP_Bandlock_9S_Phone_Airport/sm01/#01/data/udp_dnlk_loss_latency.csv\n",
      "14/216 /home/wmnlab/jackbedford/data/2023-10-26/UDP_Bandlock_9S_Phone_Airport/sm01/#01/data/udp_uplk_loss_latency.csv\n",
      "14/216 /home/wmnlab/jackbedford/data/2023-10-26/UDP_Bandlock_9S_Phone_Airport/sm08/#01/data/handover_info_log.csv\n",
      "14/216 /home/wmnlab/jackbedford/data/2023-10-26/UDP_Bandlock_9S_Phone_Airport/sm08/#01/data/udp_dnlk_loss_latency.csv\n",
      "14/216 /home/wmnlab/jackbedford/data/2023-10-26/UDP_Bandlock_9S_Phone_Airport/sm08/#01/data/udp_uplk_loss_latency.csv\n"
     ]
    },
    {
     "data": {
      "application/vnd.jupyter.widget-view+json": {
       "model_id": "dec6dcbef6ab43ed80fb74dd32e7eb82",
       "version_major": 2,
       "version_minor": 0
      },
      "text/plain": [
       "  0%|                                                                                                         …"
      ]
     },
     "metadata": {},
     "output_type": "display_data"
    },
    {
     "name": "stdout",
     "output_type": "stream",
     "text": [
      "./20240312_150032342e_newest/20240314_060073cc2b/results/20240314_09375500000_f85b83d4e1645936_1.5corr/\\home\\wmnlab\\jackbedford\\data\\2023-10-26\\UDP_Bandlock_9S_Phone_Airport\\sm01\\#01\\data\\udp_dnlk_loss_latency\\home\\wmnlab\\jackbedford\\data\\2023-10-26\\UDP_Bandlock_9S_Phone_Airport\\sm08\\#01\\data\\udp_dnlk_loss_latency.csv\n",
      "15/216 /home/wmnlab/jackbedford/data/2023-10-26/UDP_Bandlock_9S_Phone_Airport/sm02/#01/data/handover_info_log.csv\n",
      "15/216 /home/wmnlab/jackbedford/data/2023-10-26/UDP_Bandlock_9S_Phone_Airport/sm02/#01/data/udp_dnlk_loss_latency.csv\n",
      "15/216 /home/wmnlab/jackbedford/data/2023-10-26/UDP_Bandlock_9S_Phone_Airport/sm02/#01/data/udp_uplk_loss_latency.csv\n",
      "15/216 /home/wmnlab/jackbedford/data/2023-10-26/UDP_Bandlock_9S_Phone_Airport/sm03/#01/data/handover_info_log.csv\n",
      "15/216 /home/wmnlab/jackbedford/data/2023-10-26/UDP_Bandlock_9S_Phone_Airport/sm03/#01/data/udp_dnlk_loss_latency.csv\n",
      "15/216 /home/wmnlab/jackbedford/data/2023-10-26/UDP_Bandlock_9S_Phone_Airport/sm03/#01/data/udp_uplk_loss_latency.csv\n",
      "******** Empty RRC Data ********\n",
      "16/216 /home/wmnlab/jackbedford/data/2023-10-26/UDP_Bandlock_9S_Phone_Airport/sm02/#01/data/handover_info_log.csv\n",
      "16/216 /home/wmnlab/jackbedford/data/2023-10-26/UDP_Bandlock_9S_Phone_Airport/sm02/#01/data/udp_dnlk_loss_latency.csv\n",
      "16/216 /home/wmnlab/jackbedford/data/2023-10-26/UDP_Bandlock_9S_Phone_Airport/sm02/#01/data/udp_uplk_loss_latency.csv\n",
      "16/216 /home/wmnlab/jackbedford/data/2023-10-26/UDP_Bandlock_9S_Phone_Airport/sm04/#01/data/handover_info_log.csv\n",
      "16/216 /home/wmnlab/jackbedford/data/2023-10-26/UDP_Bandlock_9S_Phone_Airport/sm04/#01/data/udp_dnlk_loss_latency.csv\n",
      "16/216 /home/wmnlab/jackbedford/data/2023-10-26/UDP_Bandlock_9S_Phone_Airport/sm04/#01/data/udp_uplk_loss_latency.csv\n"
     ]
    },
    {
     "data": {
      "application/vnd.jupyter.widget-view+json": {
       "model_id": "0a8fb24f316148fe8b19843f847eb3c3",
       "version_major": 2,
       "version_minor": 0
      },
      "text/plain": [
       "  0%|                                                                                                         …"
      ]
     },
     "metadata": {},
     "output_type": "display_data"
    },
    {
     "name": "stdout",
     "output_type": "stream",
     "text": [
      "./20240312_150032342e_newest/20240314_060073cc2b/results/20240314_09375500000_f85b83d4e1645936_1.5corr/\\home\\wmnlab\\jackbedford\\data\\2023-10-26\\UDP_Bandlock_9S_Phone_Airport\\sm02\\#01\\data\\udp_dnlk_loss_latency\\home\\wmnlab\\jackbedford\\data\\2023-10-26\\UDP_Bandlock_9S_Phone_Airport\\sm04\\#01\\data\\udp_dnlk_loss_latency.csv\n",
      "17/216 /home/wmnlab/jackbedford/data/2023-10-26/UDP_Bandlock_9S_Phone_Airport/sm02/#01/data/handover_info_log.csv\n",
      "17/216 /home/wmnlab/jackbedford/data/2023-10-26/UDP_Bandlock_9S_Phone_Airport/sm02/#01/data/udp_dnlk_loss_latency.csv\n",
      "17/216 /home/wmnlab/jackbedford/data/2023-10-26/UDP_Bandlock_9S_Phone_Airport/sm02/#01/data/udp_uplk_loss_latency.csv\n",
      "17/216 /home/wmnlab/jackbedford/data/2023-10-26/UDP_Bandlock_9S_Phone_Airport/sm05/#01/data/handover_info_log.csv\n",
      "17/216 /home/wmnlab/jackbedford/data/2023-10-26/UDP_Bandlock_9S_Phone_Airport/sm05/#01/data/udp_dnlk_loss_latency.csv\n",
      "17/216 /home/wmnlab/jackbedford/data/2023-10-26/UDP_Bandlock_9S_Phone_Airport/sm05/#01/data/udp_uplk_loss_latency.csv\n"
     ]
    },
    {
     "data": {
      "application/vnd.jupyter.widget-view+json": {
       "model_id": "73e9d002b174486eae63aa177f260ea0",
       "version_major": 2,
       "version_minor": 0
      },
      "text/plain": [
       "  0%|                                                                                                         …"
      ]
     },
     "metadata": {},
     "output_type": "display_data"
    },
    {
     "name": "stdout",
     "output_type": "stream",
     "text": [
      "./20240312_150032342e_newest/20240314_060073cc2b/results/20240314_09375500000_f85b83d4e1645936_1.5corr/\\home\\wmnlab\\jackbedford\\data\\2023-10-26\\UDP_Bandlock_9S_Phone_Airport\\sm02\\#01\\data\\udp_dnlk_loss_latency\\home\\wmnlab\\jackbedford\\data\\2023-10-26\\UDP_Bandlock_9S_Phone_Airport\\sm05\\#01\\data\\udp_dnlk_loss_latency.csv\n",
      "18/216 /home/wmnlab/jackbedford/data/2023-10-26/UDP_Bandlock_9S_Phone_Airport/sm02/#01/data/handover_info_log.csv\n",
      "18/216 /home/wmnlab/jackbedford/data/2023-10-26/UDP_Bandlock_9S_Phone_Airport/sm02/#01/data/udp_dnlk_loss_latency.csv\n",
      "18/216 /home/wmnlab/jackbedford/data/2023-10-26/UDP_Bandlock_9S_Phone_Airport/sm02/#01/data/udp_uplk_loss_latency.csv\n",
      "18/216 /home/wmnlab/jackbedford/data/2023-10-26/UDP_Bandlock_9S_Phone_Airport/sm06/#01/data/handover_info_log.csv\n",
      "18/216 /home/wmnlab/jackbedford/data/2023-10-26/UDP_Bandlock_9S_Phone_Airport/sm06/#01/data/udp_dnlk_loss_latency.csv\n",
      "18/216 /home/wmnlab/jackbedford/data/2023-10-26/UDP_Bandlock_9S_Phone_Airport/sm06/#01/data/udp_uplk_loss_latency.csv\n"
     ]
    },
    {
     "data": {
      "application/vnd.jupyter.widget-view+json": {
       "model_id": "6e8262866af44d92aba6af2c7def6d46",
       "version_major": 2,
       "version_minor": 0
      },
      "text/plain": [
       "  0%|                                                                                                         …"
      ]
     },
     "metadata": {},
     "output_type": "display_data"
    },
    {
     "name": "stdout",
     "output_type": "stream",
     "text": [
      "./20240312_150032342e_newest/20240314_060073cc2b/results/20240314_09375500000_f85b83d4e1645936_1.5corr/\\home\\wmnlab\\jackbedford\\data\\2023-10-26\\UDP_Bandlock_9S_Phone_Airport\\sm02\\#01\\data\\udp_dnlk_loss_latency\\home\\wmnlab\\jackbedford\\data\\2023-10-26\\UDP_Bandlock_9S_Phone_Airport\\sm06\\#01\\data\\udp_dnlk_loss_latency.csv\n",
      "19/216 /home/wmnlab/jackbedford/data/2023-10-26/UDP_Bandlock_9S_Phone_Airport/sm02/#01/data/handover_info_log.csv\n",
      "19/216 /home/wmnlab/jackbedford/data/2023-10-26/UDP_Bandlock_9S_Phone_Airport/sm02/#01/data/udp_dnlk_loss_latency.csv\n",
      "19/216 /home/wmnlab/jackbedford/data/2023-10-26/UDP_Bandlock_9S_Phone_Airport/sm02/#01/data/udp_uplk_loss_latency.csv\n",
      "19/216 /home/wmnlab/jackbedford/data/2023-10-26/UDP_Bandlock_9S_Phone_Airport/sm07/#01/data/handover_info_log.csv\n",
      "19/216 /home/wmnlab/jackbedford/data/2023-10-26/UDP_Bandlock_9S_Phone_Airport/sm07/#01/data/udp_dnlk_loss_latency.csv\n",
      "19/216 /home/wmnlab/jackbedford/data/2023-10-26/UDP_Bandlock_9S_Phone_Airport/sm07/#01/data/udp_uplk_loss_latency.csv\n"
     ]
    },
    {
     "data": {
      "application/vnd.jupyter.widget-view+json": {
       "model_id": "d70c600d130d4bbbab3a0f8b908ee097",
       "version_major": 2,
       "version_minor": 0
      },
      "text/plain": [
       "  0%|                                                                                                         …"
      ]
     },
     "metadata": {},
     "output_type": "display_data"
    },
    {
     "name": "stdout",
     "output_type": "stream",
     "text": [
      "./20240312_150032342e_newest/20240314_060073cc2b/results/20240314_09375500000_f85b83d4e1645936_1.5corr/\\home\\wmnlab\\jackbedford\\data\\2023-10-26\\UDP_Bandlock_9S_Phone_Airport\\sm02\\#01\\data\\udp_dnlk_loss_latency\\home\\wmnlab\\jackbedford\\data\\2023-10-26\\UDP_Bandlock_9S_Phone_Airport\\sm07\\#01\\data\\udp_dnlk_loss_latency.csv\n",
      "20/216 /home/wmnlab/jackbedford/data/2023-10-26/UDP_Bandlock_9S_Phone_Airport/sm02/#01/data/handover_info_log.csv\n",
      "20/216 /home/wmnlab/jackbedford/data/2023-10-26/UDP_Bandlock_9S_Phone_Airport/sm02/#01/data/udp_dnlk_loss_latency.csv\n",
      "20/216 /home/wmnlab/jackbedford/data/2023-10-26/UDP_Bandlock_9S_Phone_Airport/sm02/#01/data/udp_uplk_loss_latency.csv\n",
      "20/216 /home/wmnlab/jackbedford/data/2023-10-26/UDP_Bandlock_9S_Phone_Airport/sm08/#01/data/handover_info_log.csv\n",
      "20/216 /home/wmnlab/jackbedford/data/2023-10-26/UDP_Bandlock_9S_Phone_Airport/sm08/#01/data/udp_dnlk_loss_latency.csv\n",
      "20/216 /home/wmnlab/jackbedford/data/2023-10-26/UDP_Bandlock_9S_Phone_Airport/sm08/#01/data/udp_uplk_loss_latency.csv\n"
     ]
    },
    {
     "data": {
      "application/vnd.jupyter.widget-view+json": {
       "model_id": "908baaff67ed418e9268cdf8a480dd76",
       "version_major": 2,
       "version_minor": 0
      },
      "text/plain": [
       "  0%|                                                                                                         …"
      ]
     },
     "metadata": {},
     "output_type": "display_data"
    },
    {
     "name": "stdout",
     "output_type": "stream",
     "text": [
      "./20240312_150032342e_newest/20240314_060073cc2b/results/20240314_09375500000_f85b83d4e1645936_1.5corr/\\home\\wmnlab\\jackbedford\\data\\2023-10-26\\UDP_Bandlock_9S_Phone_Airport\\sm02\\#01\\data\\udp_dnlk_loss_latency\\home\\wmnlab\\jackbedford\\data\\2023-10-26\\UDP_Bandlock_9S_Phone_Airport\\sm08\\#01\\data\\udp_dnlk_loss_latency.csv\n",
      "21/216 /home/wmnlab/jackbedford/data/2023-10-26/UDP_Bandlock_9S_Phone_Airport/sm03/#01/data/handover_info_log.csv\n",
      "21/216 /home/wmnlab/jackbedford/data/2023-10-26/UDP_Bandlock_9S_Phone_Airport/sm03/#01/data/udp_dnlk_loss_latency.csv\n",
      "21/216 /home/wmnlab/jackbedford/data/2023-10-26/UDP_Bandlock_9S_Phone_Airport/sm03/#01/data/udp_uplk_loss_latency.csv\n",
      "21/216 /home/wmnlab/jackbedford/data/2023-10-26/UDP_Bandlock_9S_Phone_Airport/sm04/#01/data/handover_info_log.csv\n",
      "21/216 /home/wmnlab/jackbedford/data/2023-10-26/UDP_Bandlock_9S_Phone_Airport/sm04/#01/data/udp_dnlk_loss_latency.csv\n",
      "21/216 /home/wmnlab/jackbedford/data/2023-10-26/UDP_Bandlock_9S_Phone_Airport/sm04/#01/data/udp_uplk_loss_latency.csv\n",
      "******** Empty RRC Data ********\n",
      "22/216 /home/wmnlab/jackbedford/data/2023-10-26/UDP_Bandlock_9S_Phone_Airport/sm03/#01/data/handover_info_log.csv\n",
      "22/216 /home/wmnlab/jackbedford/data/2023-10-26/UDP_Bandlock_9S_Phone_Airport/sm03/#01/data/udp_dnlk_loss_latency.csv\n",
      "22/216 /home/wmnlab/jackbedford/data/2023-10-26/UDP_Bandlock_9S_Phone_Airport/sm03/#01/data/udp_uplk_loss_latency.csv\n",
      "22/216 /home/wmnlab/jackbedford/data/2023-10-26/UDP_Bandlock_9S_Phone_Airport/sm05/#01/data/handover_info_log.csv\n",
      "22/216 /home/wmnlab/jackbedford/data/2023-10-26/UDP_Bandlock_9S_Phone_Airport/sm05/#01/data/udp_dnlk_loss_latency.csv\n",
      "22/216 /home/wmnlab/jackbedford/data/2023-10-26/UDP_Bandlock_9S_Phone_Airport/sm05/#01/data/udp_uplk_loss_latency.csv\n",
      "******** Empty RRC Data ********\n",
      "23/216 /home/wmnlab/jackbedford/data/2023-10-26/UDP_Bandlock_9S_Phone_Airport/sm03/#01/data/handover_info_log.csv\n",
      "23/216 /home/wmnlab/jackbedford/data/2023-10-26/UDP_Bandlock_9S_Phone_Airport/sm03/#01/data/udp_dnlk_loss_latency.csv\n",
      "23/216 /home/wmnlab/jackbedford/data/2023-10-26/UDP_Bandlock_9S_Phone_Airport/sm03/#01/data/udp_uplk_loss_latency.csv\n",
      "23/216 /home/wmnlab/jackbedford/data/2023-10-26/UDP_Bandlock_9S_Phone_Airport/sm06/#01/data/handover_info_log.csv\n",
      "23/216 /home/wmnlab/jackbedford/data/2023-10-26/UDP_Bandlock_9S_Phone_Airport/sm06/#01/data/udp_dnlk_loss_latency.csv\n",
      "23/216 /home/wmnlab/jackbedford/data/2023-10-26/UDP_Bandlock_9S_Phone_Airport/sm06/#01/data/udp_uplk_loss_latency.csv\n",
      "******** Empty RRC Data ********\n",
      "24/216 /home/wmnlab/jackbedford/data/2023-10-26/UDP_Bandlock_9S_Phone_Airport/sm03/#01/data/handover_info_log.csv\n",
      "24/216 /home/wmnlab/jackbedford/data/2023-10-26/UDP_Bandlock_9S_Phone_Airport/sm03/#01/data/udp_dnlk_loss_latency.csv\n",
      "24/216 /home/wmnlab/jackbedford/data/2023-10-26/UDP_Bandlock_9S_Phone_Airport/sm03/#01/data/udp_uplk_loss_latency.csv\n",
      "24/216 /home/wmnlab/jackbedford/data/2023-10-26/UDP_Bandlock_9S_Phone_Airport/sm07/#01/data/handover_info_log.csv\n",
      "24/216 /home/wmnlab/jackbedford/data/2023-10-26/UDP_Bandlock_9S_Phone_Airport/sm07/#01/data/udp_dnlk_loss_latency.csv\n",
      "24/216 /home/wmnlab/jackbedford/data/2023-10-26/UDP_Bandlock_9S_Phone_Airport/sm07/#01/data/udp_uplk_loss_latency.csv\n",
      "******** Empty RRC Data ********\n",
      "25/216 /home/wmnlab/jackbedford/data/2023-10-26/UDP_Bandlock_9S_Phone_Airport/sm03/#01/data/handover_info_log.csv\n",
      "25/216 /home/wmnlab/jackbedford/data/2023-10-26/UDP_Bandlock_9S_Phone_Airport/sm03/#01/data/udp_dnlk_loss_latency.csv\n",
      "25/216 /home/wmnlab/jackbedford/data/2023-10-26/UDP_Bandlock_9S_Phone_Airport/sm03/#01/data/udp_uplk_loss_latency.csv\n",
      "25/216 /home/wmnlab/jackbedford/data/2023-10-26/UDP_Bandlock_9S_Phone_Airport/sm08/#01/data/handover_info_log.csv\n",
      "25/216 /home/wmnlab/jackbedford/data/2023-10-26/UDP_Bandlock_9S_Phone_Airport/sm08/#01/data/udp_dnlk_loss_latency.csv\n",
      "25/216 /home/wmnlab/jackbedford/data/2023-10-26/UDP_Bandlock_9S_Phone_Airport/sm08/#01/data/udp_uplk_loss_latency.csv\n",
      "******** Empty RRC Data ********\n",
      "26/216 /home/wmnlab/jackbedford/data/2023-10-26/UDP_Bandlock_9S_Phone_Airport/sm04/#01/data/handover_info_log.csv\n",
      "26/216 /home/wmnlab/jackbedford/data/2023-10-26/UDP_Bandlock_9S_Phone_Airport/sm04/#01/data/udp_dnlk_loss_latency.csv\n",
      "26/216 /home/wmnlab/jackbedford/data/2023-10-26/UDP_Bandlock_9S_Phone_Airport/sm04/#01/data/udp_uplk_loss_latency.csv\n",
      "26/216 /home/wmnlab/jackbedford/data/2023-10-26/UDP_Bandlock_9S_Phone_Airport/sm05/#01/data/handover_info_log.csv\n",
      "26/216 /home/wmnlab/jackbedford/data/2023-10-26/UDP_Bandlock_9S_Phone_Airport/sm05/#01/data/udp_dnlk_loss_latency.csv\n",
      "26/216 /home/wmnlab/jackbedford/data/2023-10-26/UDP_Bandlock_9S_Phone_Airport/sm05/#01/data/udp_uplk_loss_latency.csv\n"
     ]
    },
    {
     "data": {
      "application/vnd.jupyter.widget-view+json": {
       "model_id": "b761dec8fd234c2f9ee153f41170ef32",
       "version_major": 2,
       "version_minor": 0
      },
      "text/plain": [
       "  0%|                                                                                                         …"
      ]
     },
     "metadata": {},
     "output_type": "display_data"
    },
    {
     "name": "stdout",
     "output_type": "stream",
     "text": [
      "./20240312_150032342e_newest/20240314_060073cc2b/results/20240314_09375500000_f85b83d4e1645936_1.5corr/\\home\\wmnlab\\jackbedford\\data\\2023-10-26\\UDP_Bandlock_9S_Phone_Airport\\sm04\\#01\\data\\udp_dnlk_loss_latency\\home\\wmnlab\\jackbedford\\data\\2023-10-26\\UDP_Bandlock_9S_Phone_Airport\\sm05\\#01\\data\\udp_dnlk_loss_latency.csv\n",
      "27/216 /home/wmnlab/jackbedford/data/2023-10-26/UDP_Bandlock_9S_Phone_Airport/sm04/#01/data/handover_info_log.csv\n",
      "27/216 /home/wmnlab/jackbedford/data/2023-10-26/UDP_Bandlock_9S_Phone_Airport/sm04/#01/data/udp_dnlk_loss_latency.csv\n",
      "27/216 /home/wmnlab/jackbedford/data/2023-10-26/UDP_Bandlock_9S_Phone_Airport/sm04/#01/data/udp_uplk_loss_latency.csv\n",
      "27/216 /home/wmnlab/jackbedford/data/2023-10-26/UDP_Bandlock_9S_Phone_Airport/sm06/#01/data/handover_info_log.csv\n",
      "27/216 /home/wmnlab/jackbedford/data/2023-10-26/UDP_Bandlock_9S_Phone_Airport/sm06/#01/data/udp_dnlk_loss_latency.csv\n",
      "27/216 /home/wmnlab/jackbedford/data/2023-10-26/UDP_Bandlock_9S_Phone_Airport/sm06/#01/data/udp_uplk_loss_latency.csv\n"
     ]
    },
    {
     "data": {
      "application/vnd.jupyter.widget-view+json": {
       "model_id": "3ea70cfb62b84da18b9968c2897b4c42",
       "version_major": 2,
       "version_minor": 0
      },
      "text/plain": [
       "  0%|                                                                                                         …"
      ]
     },
     "metadata": {},
     "output_type": "display_data"
    },
    {
     "name": "stdout",
     "output_type": "stream",
     "text": [
      "./20240312_150032342e_newest/20240314_060073cc2b/results/20240314_09375500000_f85b83d4e1645936_1.5corr/\\home\\wmnlab\\jackbedford\\data\\2023-10-26\\UDP_Bandlock_9S_Phone_Airport\\sm04\\#01\\data\\udp_dnlk_loss_latency\\home\\wmnlab\\jackbedford\\data\\2023-10-26\\UDP_Bandlock_9S_Phone_Airport\\sm06\\#01\\data\\udp_dnlk_loss_latency.csv\n",
      "28/216 /home/wmnlab/jackbedford/data/2023-10-26/UDP_Bandlock_9S_Phone_Airport/sm04/#01/data/handover_info_log.csv\n",
      "28/216 /home/wmnlab/jackbedford/data/2023-10-26/UDP_Bandlock_9S_Phone_Airport/sm04/#01/data/udp_dnlk_loss_latency.csv\n",
      "28/216 /home/wmnlab/jackbedford/data/2023-10-26/UDP_Bandlock_9S_Phone_Airport/sm04/#01/data/udp_uplk_loss_latency.csv\n",
      "28/216 /home/wmnlab/jackbedford/data/2023-10-26/UDP_Bandlock_9S_Phone_Airport/sm07/#01/data/handover_info_log.csv\n",
      "28/216 /home/wmnlab/jackbedford/data/2023-10-26/UDP_Bandlock_9S_Phone_Airport/sm07/#01/data/udp_dnlk_loss_latency.csv\n",
      "28/216 /home/wmnlab/jackbedford/data/2023-10-26/UDP_Bandlock_9S_Phone_Airport/sm07/#01/data/udp_uplk_loss_latency.csv\n"
     ]
    },
    {
     "data": {
      "application/vnd.jupyter.widget-view+json": {
       "model_id": "a357b5c58b424266970e3a0e98242a43",
       "version_major": 2,
       "version_minor": 0
      },
      "text/plain": [
       "  0%|                                                                                                         …"
      ]
     },
     "metadata": {},
     "output_type": "display_data"
    },
    {
     "name": "stdout",
     "output_type": "stream",
     "text": [
      "./20240312_150032342e_newest/20240314_060073cc2b/results/20240314_09375500000_f85b83d4e1645936_1.5corr/\\home\\wmnlab\\jackbedford\\data\\2023-10-26\\UDP_Bandlock_9S_Phone_Airport\\sm04\\#01\\data\\udp_dnlk_loss_latency\\home\\wmnlab\\jackbedford\\data\\2023-10-26\\UDP_Bandlock_9S_Phone_Airport\\sm07\\#01\\data\\udp_dnlk_loss_latency.csv\n",
      "29/216 /home/wmnlab/jackbedford/data/2023-10-26/UDP_Bandlock_9S_Phone_Airport/sm04/#01/data/handover_info_log.csv\n",
      "29/216 /home/wmnlab/jackbedford/data/2023-10-26/UDP_Bandlock_9S_Phone_Airport/sm04/#01/data/udp_dnlk_loss_latency.csv\n",
      "29/216 /home/wmnlab/jackbedford/data/2023-10-26/UDP_Bandlock_9S_Phone_Airport/sm04/#01/data/udp_uplk_loss_latency.csv\n",
      "29/216 /home/wmnlab/jackbedford/data/2023-10-26/UDP_Bandlock_9S_Phone_Airport/sm08/#01/data/handover_info_log.csv\n",
      "29/216 /home/wmnlab/jackbedford/data/2023-10-26/UDP_Bandlock_9S_Phone_Airport/sm08/#01/data/udp_dnlk_loss_latency.csv\n",
      "29/216 /home/wmnlab/jackbedford/data/2023-10-26/UDP_Bandlock_9S_Phone_Airport/sm08/#01/data/udp_uplk_loss_latency.csv\n"
     ]
    },
    {
     "data": {
      "application/vnd.jupyter.widget-view+json": {
       "model_id": "74194d8f4dc84ef5b3d199af6291bb47",
       "version_major": 2,
       "version_minor": 0
      },
      "text/plain": [
       "  0%|                                                                                                         …"
      ]
     },
     "metadata": {},
     "output_type": "display_data"
    },
    {
     "name": "stdout",
     "output_type": "stream",
     "text": [
      "./20240312_150032342e_newest/20240314_060073cc2b/results/20240314_09375500000_f85b83d4e1645936_1.5corr/\\home\\wmnlab\\jackbedford\\data\\2023-10-26\\UDP_Bandlock_9S_Phone_Airport\\sm04\\#01\\data\\udp_dnlk_loss_latency\\home\\wmnlab\\jackbedford\\data\\2023-10-26\\UDP_Bandlock_9S_Phone_Airport\\sm08\\#01\\data\\udp_dnlk_loss_latency.csv\n",
      "30/216 /home/wmnlab/jackbedford/data/2023-10-26/UDP_Bandlock_9S_Phone_Airport/sm05/#01/data/handover_info_log.csv\n",
      "30/216 /home/wmnlab/jackbedford/data/2023-10-26/UDP_Bandlock_9S_Phone_Airport/sm05/#01/data/udp_dnlk_loss_latency.csv\n",
      "30/216 /home/wmnlab/jackbedford/data/2023-10-26/UDP_Bandlock_9S_Phone_Airport/sm05/#01/data/udp_uplk_loss_latency.csv\n",
      "30/216 /home/wmnlab/jackbedford/data/2023-10-26/UDP_Bandlock_9S_Phone_Airport/sm06/#01/data/handover_info_log.csv\n",
      "30/216 /home/wmnlab/jackbedford/data/2023-10-26/UDP_Bandlock_9S_Phone_Airport/sm06/#01/data/udp_dnlk_loss_latency.csv\n",
      "30/216 /home/wmnlab/jackbedford/data/2023-10-26/UDP_Bandlock_9S_Phone_Airport/sm06/#01/data/udp_uplk_loss_latency.csv\n"
     ]
    },
    {
     "data": {
      "application/vnd.jupyter.widget-view+json": {
       "model_id": "7908f11981fe4ec484b88b6a61a762c9",
       "version_major": 2,
       "version_minor": 0
      },
      "text/plain": [
       "  0%|                                                                                                         …"
      ]
     },
     "metadata": {},
     "output_type": "display_data"
    },
    {
     "name": "stdout",
     "output_type": "stream",
     "text": [
      "./20240312_150032342e_newest/20240314_060073cc2b/results/20240314_09375500000_f85b83d4e1645936_1.5corr/\\home\\wmnlab\\jackbedford\\data\\2023-10-26\\UDP_Bandlock_9S_Phone_Airport\\sm05\\#01\\data\\udp_dnlk_loss_latency\\home\\wmnlab\\jackbedford\\data\\2023-10-26\\UDP_Bandlock_9S_Phone_Airport\\sm06\\#01\\data\\udp_dnlk_loss_latency.csv\n",
      "31/216 /home/wmnlab/jackbedford/data/2023-10-26/UDP_Bandlock_9S_Phone_Airport/sm05/#01/data/handover_info_log.csv\n",
      "31/216 /home/wmnlab/jackbedford/data/2023-10-26/UDP_Bandlock_9S_Phone_Airport/sm05/#01/data/udp_dnlk_loss_latency.csv\n",
      "31/216 /home/wmnlab/jackbedford/data/2023-10-26/UDP_Bandlock_9S_Phone_Airport/sm05/#01/data/udp_uplk_loss_latency.csv\n",
      "31/216 /home/wmnlab/jackbedford/data/2023-10-26/UDP_Bandlock_9S_Phone_Airport/sm07/#01/data/handover_info_log.csv\n",
      "31/216 /home/wmnlab/jackbedford/data/2023-10-26/UDP_Bandlock_9S_Phone_Airport/sm07/#01/data/udp_dnlk_loss_latency.csv\n",
      "31/216 /home/wmnlab/jackbedford/data/2023-10-26/UDP_Bandlock_9S_Phone_Airport/sm07/#01/data/udp_uplk_loss_latency.csv\n"
     ]
    },
    {
     "data": {
      "application/vnd.jupyter.widget-view+json": {
       "model_id": "366d0a5a06de4dc99998e1e4461f7210",
       "version_major": 2,
       "version_minor": 0
      },
      "text/plain": [
       "  0%|                                                                                                         …"
      ]
     },
     "metadata": {},
     "output_type": "display_data"
    },
    {
     "name": "stdout",
     "output_type": "stream",
     "text": [
      "./20240312_150032342e_newest/20240314_060073cc2b/results/20240314_09375500000_f85b83d4e1645936_1.5corr/\\home\\wmnlab\\jackbedford\\data\\2023-10-26\\UDP_Bandlock_9S_Phone_Airport\\sm05\\#01\\data\\udp_dnlk_loss_latency\\home\\wmnlab\\jackbedford\\data\\2023-10-26\\UDP_Bandlock_9S_Phone_Airport\\sm07\\#01\\data\\udp_dnlk_loss_latency.csv\n",
      "32/216 /home/wmnlab/jackbedford/data/2023-10-26/UDP_Bandlock_9S_Phone_Airport/sm05/#01/data/handover_info_log.csv\n",
      "32/216 /home/wmnlab/jackbedford/data/2023-10-26/UDP_Bandlock_9S_Phone_Airport/sm05/#01/data/udp_dnlk_loss_latency.csv\n",
      "32/216 /home/wmnlab/jackbedford/data/2023-10-26/UDP_Bandlock_9S_Phone_Airport/sm05/#01/data/udp_uplk_loss_latency.csv\n",
      "32/216 /home/wmnlab/jackbedford/data/2023-10-26/UDP_Bandlock_9S_Phone_Airport/sm08/#01/data/handover_info_log.csv\n",
      "32/216 /home/wmnlab/jackbedford/data/2023-10-26/UDP_Bandlock_9S_Phone_Airport/sm08/#01/data/udp_dnlk_loss_latency.csv\n",
      "32/216 /home/wmnlab/jackbedford/data/2023-10-26/UDP_Bandlock_9S_Phone_Airport/sm08/#01/data/udp_uplk_loss_latency.csv\n"
     ]
    },
    {
     "data": {
      "application/vnd.jupyter.widget-view+json": {
       "model_id": "ac94507643d94e1ba00924aa205c292a",
       "version_major": 2,
       "version_minor": 0
      },
      "text/plain": [
       "  0%|                                                                                                         …"
      ]
     },
     "metadata": {},
     "output_type": "display_data"
    },
    {
     "name": "stdout",
     "output_type": "stream",
     "text": [
      "./20240312_150032342e_newest/20240314_060073cc2b/results/20240314_09375500000_f85b83d4e1645936_1.5corr/\\home\\wmnlab\\jackbedford\\data\\2023-10-26\\UDP_Bandlock_9S_Phone_Airport\\sm05\\#01\\data\\udp_dnlk_loss_latency\\home\\wmnlab\\jackbedford\\data\\2023-10-26\\UDP_Bandlock_9S_Phone_Airport\\sm08\\#01\\data\\udp_dnlk_loss_latency.csv\n",
      "33/216 /home/wmnlab/jackbedford/data/2023-10-26/UDP_Bandlock_9S_Phone_Airport/sm06/#01/data/handover_info_log.csv\n",
      "33/216 /home/wmnlab/jackbedford/data/2023-10-26/UDP_Bandlock_9S_Phone_Airport/sm06/#01/data/udp_dnlk_loss_latency.csv\n",
      "33/216 /home/wmnlab/jackbedford/data/2023-10-26/UDP_Bandlock_9S_Phone_Airport/sm06/#01/data/udp_uplk_loss_latency.csv\n",
      "33/216 /home/wmnlab/jackbedford/data/2023-10-26/UDP_Bandlock_9S_Phone_Airport/sm07/#01/data/handover_info_log.csv\n",
      "33/216 /home/wmnlab/jackbedford/data/2023-10-26/UDP_Bandlock_9S_Phone_Airport/sm07/#01/data/udp_dnlk_loss_latency.csv\n",
      "33/216 /home/wmnlab/jackbedford/data/2023-10-26/UDP_Bandlock_9S_Phone_Airport/sm07/#01/data/udp_uplk_loss_latency.csv\n"
     ]
    },
    {
     "data": {
      "application/vnd.jupyter.widget-view+json": {
       "model_id": "5489b29dc7204d769bc8a54c43bcff57",
       "version_major": 2,
       "version_minor": 0
      },
      "text/plain": [
       "  0%|                                                                                                         …"
      ]
     },
     "metadata": {},
     "output_type": "display_data"
    },
    {
     "name": "stdout",
     "output_type": "stream",
     "text": [
      "./20240312_150032342e_newest/20240314_060073cc2b/results/20240314_09375500000_f85b83d4e1645936_1.5corr/\\home\\wmnlab\\jackbedford\\data\\2023-10-26\\UDP_Bandlock_9S_Phone_Airport\\sm06\\#01\\data\\udp_dnlk_loss_latency\\home\\wmnlab\\jackbedford\\data\\2023-10-26\\UDP_Bandlock_9S_Phone_Airport\\sm07\\#01\\data\\udp_dnlk_loss_latency.csv\n",
      "34/216 /home/wmnlab/jackbedford/data/2023-10-26/UDP_Bandlock_9S_Phone_Airport/sm06/#01/data/handover_info_log.csv\n",
      "34/216 /home/wmnlab/jackbedford/data/2023-10-26/UDP_Bandlock_9S_Phone_Airport/sm06/#01/data/udp_dnlk_loss_latency.csv\n",
      "34/216 /home/wmnlab/jackbedford/data/2023-10-26/UDP_Bandlock_9S_Phone_Airport/sm06/#01/data/udp_uplk_loss_latency.csv\n",
      "34/216 /home/wmnlab/jackbedford/data/2023-10-26/UDP_Bandlock_9S_Phone_Airport/sm08/#01/data/handover_info_log.csv\n",
      "34/216 /home/wmnlab/jackbedford/data/2023-10-26/UDP_Bandlock_9S_Phone_Airport/sm08/#01/data/udp_dnlk_loss_latency.csv\n",
      "34/216 /home/wmnlab/jackbedford/data/2023-10-26/UDP_Bandlock_9S_Phone_Airport/sm08/#01/data/udp_uplk_loss_latency.csv\n"
     ]
    },
    {
     "data": {
      "application/vnd.jupyter.widget-view+json": {
       "model_id": "3a3296ba937246c384c7729f66a29f0c",
       "version_major": 2,
       "version_minor": 0
      },
      "text/plain": [
       "  0%|                                                                                                         …"
      ]
     },
     "metadata": {},
     "output_type": "display_data"
    },
    {
     "name": "stdout",
     "output_type": "stream",
     "text": [
      "./20240312_150032342e_newest/20240314_060073cc2b/results/20240314_09375500000_f85b83d4e1645936_1.5corr/\\home\\wmnlab\\jackbedford\\data\\2023-10-26\\UDP_Bandlock_9S_Phone_Airport\\sm06\\#01\\data\\udp_dnlk_loss_latency\\home\\wmnlab\\jackbedford\\data\\2023-10-26\\UDP_Bandlock_9S_Phone_Airport\\sm08\\#01\\data\\udp_dnlk_loss_latency.csv\n",
      "35/216 /home/wmnlab/jackbedford/data/2023-10-26/UDP_Bandlock_9S_Phone_Airport/sm07/#01/data/handover_info_log.csv\n",
      "35/216 /home/wmnlab/jackbedford/data/2023-10-26/UDP_Bandlock_9S_Phone_Airport/sm07/#01/data/udp_dnlk_loss_latency.csv\n",
      "35/216 /home/wmnlab/jackbedford/data/2023-10-26/UDP_Bandlock_9S_Phone_Airport/sm07/#01/data/udp_uplk_loss_latency.csv\n",
      "35/216 /home/wmnlab/jackbedford/data/2023-10-26/UDP_Bandlock_9S_Phone_Airport/sm08/#01/data/handover_info_log.csv\n",
      "35/216 /home/wmnlab/jackbedford/data/2023-10-26/UDP_Bandlock_9S_Phone_Airport/sm08/#01/data/udp_dnlk_loss_latency.csv\n",
      "35/216 /home/wmnlab/jackbedford/data/2023-10-26/UDP_Bandlock_9S_Phone_Airport/sm08/#01/data/udp_uplk_loss_latency.csv\n"
     ]
    },
    {
     "data": {
      "application/vnd.jupyter.widget-view+json": {
       "model_id": "98db8eb5f7eb46c8a305a95e96aeebaa",
       "version_major": 2,
       "version_minor": 0
      },
      "text/plain": [
       "  0%|                                                                                                         …"
      ]
     },
     "metadata": {},
     "output_type": "display_data"
    },
    {
     "name": "stdout",
     "output_type": "stream",
     "text": [
      "./20240312_150032342e_newest/20240314_060073cc2b/results/20240314_09375500000_f85b83d4e1645936_1.5corr/\\home\\wmnlab\\jackbedford\\data\\2023-10-26\\UDP_Bandlock_9S_Phone_Airport\\sm07\\#01\\data\\udp_dnlk_loss_latency\\home\\wmnlab\\jackbedford\\data\\2023-10-26\\UDP_Bandlock_9S_Phone_Airport\\sm08\\#01\\data\\udp_dnlk_loss_latency.csv\n",
      "36/216 /home/wmnlab/jackbedford/data/2023-10-26/UDP_Bandlock_9S_Phone_Airport/sm00/#02/data/handover_info_log.csv\n",
      "36/216 /home/wmnlab/jackbedford/data/2023-10-26/UDP_Bandlock_9S_Phone_Airport/sm00/#02/data/udp_dnlk_loss_latency.csv\n",
      "36/216 /home/wmnlab/jackbedford/data/2023-10-26/UDP_Bandlock_9S_Phone_Airport/sm00/#02/data/udp_uplk_loss_latency.csv\n",
      "36/216 /home/wmnlab/jackbedford/data/2023-10-26/UDP_Bandlock_9S_Phone_Airport/sm01/#02/data/handover_info_log.csv\n",
      "36/216 /home/wmnlab/jackbedford/data/2023-10-26/UDP_Bandlock_9S_Phone_Airport/sm01/#02/data/udp_dnlk_loss_latency.csv\n",
      "36/216 /home/wmnlab/jackbedford/data/2023-10-26/UDP_Bandlock_9S_Phone_Airport/sm01/#02/data/udp_uplk_loss_latency.csv\n"
     ]
    },
    {
     "data": {
      "application/vnd.jupyter.widget-view+json": {
       "model_id": "bfc1cc08c072459fa6aebc878975a917",
       "version_major": 2,
       "version_minor": 0
      },
      "text/plain": [
       "  0%|                                                                                                         …"
      ]
     },
     "metadata": {},
     "output_type": "display_data"
    },
    {
     "name": "stdout",
     "output_type": "stream",
     "text": [
      "./20240312_150032342e_newest/20240314_060073cc2b/results/20240314_09375500000_f85b83d4e1645936_1.5corr/\\home\\wmnlab\\jackbedford\\data\\2023-10-26\\UDP_Bandlock_9S_Phone_Airport\\sm00\\#02\\data\\udp_dnlk_loss_latency\\home\\wmnlab\\jackbedford\\data\\2023-10-26\\UDP_Bandlock_9S_Phone_Airport\\sm01\\#02\\data\\udp_dnlk_loss_latency.csv\n",
      "37/216 /home/wmnlab/jackbedford/data/2023-10-26/UDP_Bandlock_9S_Phone_Airport/sm00/#02/data/handover_info_log.csv\n",
      "37/216 /home/wmnlab/jackbedford/data/2023-10-26/UDP_Bandlock_9S_Phone_Airport/sm00/#02/data/udp_dnlk_loss_latency.csv\n",
      "37/216 /home/wmnlab/jackbedford/data/2023-10-26/UDP_Bandlock_9S_Phone_Airport/sm00/#02/data/udp_uplk_loss_latency.csv\n",
      "37/216 /home/wmnlab/jackbedford/data/2023-10-26/UDP_Bandlock_9S_Phone_Airport/sm02/#02/data/handover_info_log.csv\n",
      "37/216 /home/wmnlab/jackbedford/data/2023-10-26/UDP_Bandlock_9S_Phone_Airport/sm02/#02/data/udp_dnlk_loss_latency.csv\n",
      "37/216 /home/wmnlab/jackbedford/data/2023-10-26/UDP_Bandlock_9S_Phone_Airport/sm02/#02/data/udp_uplk_loss_latency.csv\n"
     ]
    },
    {
     "data": {
      "application/vnd.jupyter.widget-view+json": {
       "model_id": "d6ef27b850854520af065c1a77f1e08e",
       "version_major": 2,
       "version_minor": 0
      },
      "text/plain": [
       "  0%|                                                                                                         …"
      ]
     },
     "metadata": {},
     "output_type": "display_data"
    },
    {
     "name": "stdout",
     "output_type": "stream",
     "text": [
      "./20240312_150032342e_newest/20240314_060073cc2b/results/20240314_09375500000_f85b83d4e1645936_1.5corr/\\home\\wmnlab\\jackbedford\\data\\2023-10-26\\UDP_Bandlock_9S_Phone_Airport\\sm00\\#02\\data\\udp_dnlk_loss_latency\\home\\wmnlab\\jackbedford\\data\\2023-10-26\\UDP_Bandlock_9S_Phone_Airport\\sm02\\#02\\data\\udp_dnlk_loss_latency.csv\n",
      "38/216 /home/wmnlab/jackbedford/data/2023-10-26/UDP_Bandlock_9S_Phone_Airport/sm00/#02/data/handover_info_log.csv\n",
      "38/216 /home/wmnlab/jackbedford/data/2023-10-26/UDP_Bandlock_9S_Phone_Airport/sm00/#02/data/udp_dnlk_loss_latency.csv\n",
      "38/216 /home/wmnlab/jackbedford/data/2023-10-26/UDP_Bandlock_9S_Phone_Airport/sm00/#02/data/udp_uplk_loss_latency.csv\n",
      "38/216 /home/wmnlab/jackbedford/data/2023-10-26/UDP_Bandlock_9S_Phone_Airport/sm03/#02/data/handover_info_log.csv\n",
      "38/216 /home/wmnlab/jackbedford/data/2023-10-26/UDP_Bandlock_9S_Phone_Airport/sm03/#02/data/udp_dnlk_loss_latency.csv\n",
      "38/216 /home/wmnlab/jackbedford/data/2023-10-26/UDP_Bandlock_9S_Phone_Airport/sm03/#02/data/udp_uplk_loss_latency.csv\n"
     ]
    },
    {
     "data": {
      "application/vnd.jupyter.widget-view+json": {
       "model_id": "8db8cb8654c84cc9a5082431564cc1a7",
       "version_major": 2,
       "version_minor": 0
      },
      "text/plain": [
       "  0%|                                                                                                         …"
      ]
     },
     "metadata": {},
     "output_type": "display_data"
    },
    {
     "name": "stdout",
     "output_type": "stream",
     "text": [
      "./20240312_150032342e_newest/20240314_060073cc2b/results/20240314_09375500000_f85b83d4e1645936_1.5corr/\\home\\wmnlab\\jackbedford\\data\\2023-10-26\\UDP_Bandlock_9S_Phone_Airport\\sm00\\#02\\data\\udp_dnlk_loss_latency\\home\\wmnlab\\jackbedford\\data\\2023-10-26\\UDP_Bandlock_9S_Phone_Airport\\sm03\\#02\\data\\udp_dnlk_loss_latency.csv\n",
      "39/216 /home/wmnlab/jackbedford/data/2023-10-26/UDP_Bandlock_9S_Phone_Airport/sm00/#02/data/handover_info_log.csv\n",
      "39/216 /home/wmnlab/jackbedford/data/2023-10-26/UDP_Bandlock_9S_Phone_Airport/sm00/#02/data/udp_dnlk_loss_latency.csv\n",
      "39/216 /home/wmnlab/jackbedford/data/2023-10-26/UDP_Bandlock_9S_Phone_Airport/sm00/#02/data/udp_uplk_loss_latency.csv\n",
      "39/216 /home/wmnlab/jackbedford/data/2023-10-26/UDP_Bandlock_9S_Phone_Airport/sm04/#02/data/handover_info_log.csv\n",
      "39/216 /home/wmnlab/jackbedford/data/2023-10-26/UDP_Bandlock_9S_Phone_Airport/sm04/#02/data/udp_dnlk_loss_latency.csv\n",
      "39/216 /home/wmnlab/jackbedford/data/2023-10-26/UDP_Bandlock_9S_Phone_Airport/sm04/#02/data/udp_uplk_loss_latency.csv\n"
     ]
    },
    {
     "data": {
      "application/vnd.jupyter.widget-view+json": {
       "model_id": "419e6d4845174446bd00a19b45d8853a",
       "version_major": 2,
       "version_minor": 0
      },
      "text/plain": [
       "  0%|                                                                                                         …"
      ]
     },
     "metadata": {},
     "output_type": "display_data"
    },
    {
     "name": "stdout",
     "output_type": "stream",
     "text": [
      "./20240312_150032342e_newest/20240314_060073cc2b/results/20240314_09375500000_f85b83d4e1645936_1.5corr/\\home\\wmnlab\\jackbedford\\data\\2023-10-26\\UDP_Bandlock_9S_Phone_Airport\\sm00\\#02\\data\\udp_dnlk_loss_latency\\home\\wmnlab\\jackbedford\\data\\2023-10-26\\UDP_Bandlock_9S_Phone_Airport\\sm04\\#02\\data\\udp_dnlk_loss_latency.csv\n",
      "40/216 /home/wmnlab/jackbedford/data/2023-10-26/UDP_Bandlock_9S_Phone_Airport/sm00/#02/data/handover_info_log.csv\n",
      "40/216 /home/wmnlab/jackbedford/data/2023-10-26/UDP_Bandlock_9S_Phone_Airport/sm00/#02/data/udp_dnlk_loss_latency.csv\n",
      "40/216 /home/wmnlab/jackbedford/data/2023-10-26/UDP_Bandlock_9S_Phone_Airport/sm00/#02/data/udp_uplk_loss_latency.csv\n",
      "40/216 /home/wmnlab/jackbedford/data/2023-10-26/UDP_Bandlock_9S_Phone_Airport/sm05/#02/data/handover_info_log.csv\n",
      "40/216 /home/wmnlab/jackbedford/data/2023-10-26/UDP_Bandlock_9S_Phone_Airport/sm05/#02/data/udp_dnlk_loss_latency.csv\n",
      "40/216 /home/wmnlab/jackbedford/data/2023-10-26/UDP_Bandlock_9S_Phone_Airport/sm05/#02/data/udp_uplk_loss_latency.csv\n"
     ]
    },
    {
     "data": {
      "application/vnd.jupyter.widget-view+json": {
       "model_id": "a2876bf8d5954cea90d9995116b380e2",
       "version_major": 2,
       "version_minor": 0
      },
      "text/plain": [
       "  0%|                                                                                                         …"
      ]
     },
     "metadata": {},
     "output_type": "display_data"
    },
    {
     "name": "stdout",
     "output_type": "stream",
     "text": [
      "./20240312_150032342e_newest/20240314_060073cc2b/results/20240314_09375500000_f85b83d4e1645936_1.5corr/\\home\\wmnlab\\jackbedford\\data\\2023-10-26\\UDP_Bandlock_9S_Phone_Airport\\sm00\\#02\\data\\udp_dnlk_loss_latency\\home\\wmnlab\\jackbedford\\data\\2023-10-26\\UDP_Bandlock_9S_Phone_Airport\\sm05\\#02\\data\\udp_dnlk_loss_latency.csv\n",
      "41/216 /home/wmnlab/jackbedford/data/2023-10-26/UDP_Bandlock_9S_Phone_Airport/sm00/#02/data/handover_info_log.csv\n",
      "41/216 /home/wmnlab/jackbedford/data/2023-10-26/UDP_Bandlock_9S_Phone_Airport/sm00/#02/data/udp_dnlk_loss_latency.csv\n",
      "41/216 /home/wmnlab/jackbedford/data/2023-10-26/UDP_Bandlock_9S_Phone_Airport/sm00/#02/data/udp_uplk_loss_latency.csv\n",
      "41/216 /home/wmnlab/jackbedford/data/2023-10-26/UDP_Bandlock_9S_Phone_Airport/sm06/#02/data/handover_info_log.csv\n",
      "41/216 /home/wmnlab/jackbedford/data/2023-10-26/UDP_Bandlock_9S_Phone_Airport/sm06/#02/data/udp_dnlk_loss_latency.csv\n",
      "41/216 /home/wmnlab/jackbedford/data/2023-10-26/UDP_Bandlock_9S_Phone_Airport/sm06/#02/data/udp_uplk_loss_latency.csv\n"
     ]
    },
    {
     "data": {
      "application/vnd.jupyter.widget-view+json": {
       "model_id": "cd95c6115f4648469a443d2e075c9f7c",
       "version_major": 2,
       "version_minor": 0
      },
      "text/plain": [
       "  0%|                                                                                                         …"
      ]
     },
     "metadata": {},
     "output_type": "display_data"
    },
    {
     "name": "stdout",
     "output_type": "stream",
     "text": [
      "./20240312_150032342e_newest/20240314_060073cc2b/results/20240314_09375500000_f85b83d4e1645936_1.5corr/\\home\\wmnlab\\jackbedford\\data\\2023-10-26\\UDP_Bandlock_9S_Phone_Airport\\sm00\\#02\\data\\udp_dnlk_loss_latency\\home\\wmnlab\\jackbedford\\data\\2023-10-26\\UDP_Bandlock_9S_Phone_Airport\\sm06\\#02\\data\\udp_dnlk_loss_latency.csv\n",
      "42/216 /home/wmnlab/jackbedford/data/2023-10-26/UDP_Bandlock_9S_Phone_Airport/sm00/#02/data/handover_info_log.csv\n",
      "42/216 /home/wmnlab/jackbedford/data/2023-10-26/UDP_Bandlock_9S_Phone_Airport/sm00/#02/data/udp_dnlk_loss_latency.csv\n",
      "42/216 /home/wmnlab/jackbedford/data/2023-10-26/UDP_Bandlock_9S_Phone_Airport/sm00/#02/data/udp_uplk_loss_latency.csv\n",
      "42/216 /home/wmnlab/jackbedford/data/2023-10-26/UDP_Bandlock_9S_Phone_Airport/sm07/#02/data/handover_info_log.csv\n",
      "42/216 /home/wmnlab/jackbedford/data/2023-10-26/UDP_Bandlock_9S_Phone_Airport/sm07/#02/data/udp_dnlk_loss_latency.csv\n",
      "42/216 /home/wmnlab/jackbedford/data/2023-10-26/UDP_Bandlock_9S_Phone_Airport/sm07/#02/data/udp_uplk_loss_latency.csv\n"
     ]
    },
    {
     "data": {
      "application/vnd.jupyter.widget-view+json": {
       "model_id": "d1f6ae75530b40beb471b662ca180494",
       "version_major": 2,
       "version_minor": 0
      },
      "text/plain": [
       "  0%|                                                                                                         …"
      ]
     },
     "metadata": {},
     "output_type": "display_data"
    },
    {
     "name": "stdout",
     "output_type": "stream",
     "text": [
      "./20240312_150032342e_newest/20240314_060073cc2b/results/20240314_09375500000_f85b83d4e1645936_1.5corr/\\home\\wmnlab\\jackbedford\\data\\2023-10-26\\UDP_Bandlock_9S_Phone_Airport\\sm00\\#02\\data\\udp_dnlk_loss_latency\\home\\wmnlab\\jackbedford\\data\\2023-10-26\\UDP_Bandlock_9S_Phone_Airport\\sm07\\#02\\data\\udp_dnlk_loss_latency.csv\n",
      "43/216 /home/wmnlab/jackbedford/data/2023-10-26/UDP_Bandlock_9S_Phone_Airport/sm00/#02/data/handover_info_log.csv\n",
      "43/216 /home/wmnlab/jackbedford/data/2023-10-26/UDP_Bandlock_9S_Phone_Airport/sm00/#02/data/udp_dnlk_loss_latency.csv\n",
      "43/216 /home/wmnlab/jackbedford/data/2023-10-26/UDP_Bandlock_9S_Phone_Airport/sm00/#02/data/udp_uplk_loss_latency.csv\n",
      "43/216 /home/wmnlab/jackbedford/data/2023-10-26/UDP_Bandlock_9S_Phone_Airport/sm08/#02/data/handover_info_log.csv\n",
      "43/216 /home/wmnlab/jackbedford/data/2023-10-26/UDP_Bandlock_9S_Phone_Airport/sm08/#02/data/udp_dnlk_loss_latency.csv\n",
      "43/216 /home/wmnlab/jackbedford/data/2023-10-26/UDP_Bandlock_9S_Phone_Airport/sm08/#02/data/udp_uplk_loss_latency.csv\n"
     ]
    },
    {
     "data": {
      "application/vnd.jupyter.widget-view+json": {
       "model_id": "facf4d4ecc3d4655a54f56ac9f8006a8",
       "version_major": 2,
       "version_minor": 0
      },
      "text/plain": [
       "  0%|                                                                                                         …"
      ]
     },
     "metadata": {},
     "output_type": "display_data"
    },
    {
     "name": "stdout",
     "output_type": "stream",
     "text": [
      "./20240312_150032342e_newest/20240314_060073cc2b/results/20240314_09375500000_f85b83d4e1645936_1.5corr/\\home\\wmnlab\\jackbedford\\data\\2023-10-26\\UDP_Bandlock_9S_Phone_Airport\\sm00\\#02\\data\\udp_dnlk_loss_latency\\home\\wmnlab\\jackbedford\\data\\2023-10-26\\UDP_Bandlock_9S_Phone_Airport\\sm08\\#02\\data\\udp_dnlk_loss_latency.csv\n",
      "44/216 /home/wmnlab/jackbedford/data/2023-10-26/UDP_Bandlock_9S_Phone_Airport/sm01/#02/data/handover_info_log.csv\n",
      "44/216 /home/wmnlab/jackbedford/data/2023-10-26/UDP_Bandlock_9S_Phone_Airport/sm01/#02/data/udp_dnlk_loss_latency.csv\n",
      "44/216 /home/wmnlab/jackbedford/data/2023-10-26/UDP_Bandlock_9S_Phone_Airport/sm01/#02/data/udp_uplk_loss_latency.csv\n",
      "44/216 /home/wmnlab/jackbedford/data/2023-10-26/UDP_Bandlock_9S_Phone_Airport/sm02/#02/data/handover_info_log.csv\n",
      "44/216 /home/wmnlab/jackbedford/data/2023-10-26/UDP_Bandlock_9S_Phone_Airport/sm02/#02/data/udp_dnlk_loss_latency.csv\n",
      "44/216 /home/wmnlab/jackbedford/data/2023-10-26/UDP_Bandlock_9S_Phone_Airport/sm02/#02/data/udp_uplk_loss_latency.csv\n"
     ]
    },
    {
     "data": {
      "application/vnd.jupyter.widget-view+json": {
       "model_id": "a4c3b1eb01604b8eb34416a37122f17c",
       "version_major": 2,
       "version_minor": 0
      },
      "text/plain": [
       "  0%|                                                                                                         …"
      ]
     },
     "metadata": {},
     "output_type": "display_data"
    },
    {
     "name": "stdout",
     "output_type": "stream",
     "text": [
      "./20240312_150032342e_newest/20240314_060073cc2b/results/20240314_09375500000_f85b83d4e1645936_1.5corr/\\home\\wmnlab\\jackbedford\\data\\2023-10-26\\UDP_Bandlock_9S_Phone_Airport\\sm01\\#02\\data\\udp_dnlk_loss_latency\\home\\wmnlab\\jackbedford\\data\\2023-10-26\\UDP_Bandlock_9S_Phone_Airport\\sm02\\#02\\data\\udp_dnlk_loss_latency.csv\n",
      "45/216 /home/wmnlab/jackbedford/data/2023-10-26/UDP_Bandlock_9S_Phone_Airport/sm01/#02/data/handover_info_log.csv\n",
      "45/216 /home/wmnlab/jackbedford/data/2023-10-26/UDP_Bandlock_9S_Phone_Airport/sm01/#02/data/udp_dnlk_loss_latency.csv\n",
      "45/216 /home/wmnlab/jackbedford/data/2023-10-26/UDP_Bandlock_9S_Phone_Airport/sm01/#02/data/udp_uplk_loss_latency.csv\n",
      "45/216 /home/wmnlab/jackbedford/data/2023-10-26/UDP_Bandlock_9S_Phone_Airport/sm03/#02/data/handover_info_log.csv\n",
      "45/216 /home/wmnlab/jackbedford/data/2023-10-26/UDP_Bandlock_9S_Phone_Airport/sm03/#02/data/udp_dnlk_loss_latency.csv\n",
      "45/216 /home/wmnlab/jackbedford/data/2023-10-26/UDP_Bandlock_9S_Phone_Airport/sm03/#02/data/udp_uplk_loss_latency.csv\n"
     ]
    },
    {
     "data": {
      "application/vnd.jupyter.widget-view+json": {
       "model_id": "f33be661203d458bb7e93870ca34701c",
       "version_major": 2,
       "version_minor": 0
      },
      "text/plain": [
       "  0%|                                                                                                         …"
      ]
     },
     "metadata": {},
     "output_type": "display_data"
    },
    {
     "name": "stdout",
     "output_type": "stream",
     "text": [
      "./20240312_150032342e_newest/20240314_060073cc2b/results/20240314_09375500000_f85b83d4e1645936_1.5corr/\\home\\wmnlab\\jackbedford\\data\\2023-10-26\\UDP_Bandlock_9S_Phone_Airport\\sm01\\#02\\data\\udp_dnlk_loss_latency\\home\\wmnlab\\jackbedford\\data\\2023-10-26\\UDP_Bandlock_9S_Phone_Airport\\sm03\\#02\\data\\udp_dnlk_loss_latency.csv\n",
      "46/216 /home/wmnlab/jackbedford/data/2023-10-26/UDP_Bandlock_9S_Phone_Airport/sm01/#02/data/handover_info_log.csv\n",
      "46/216 /home/wmnlab/jackbedford/data/2023-10-26/UDP_Bandlock_9S_Phone_Airport/sm01/#02/data/udp_dnlk_loss_latency.csv\n",
      "46/216 /home/wmnlab/jackbedford/data/2023-10-26/UDP_Bandlock_9S_Phone_Airport/sm01/#02/data/udp_uplk_loss_latency.csv\n",
      "46/216 /home/wmnlab/jackbedford/data/2023-10-26/UDP_Bandlock_9S_Phone_Airport/sm04/#02/data/handover_info_log.csv\n",
      "46/216 /home/wmnlab/jackbedford/data/2023-10-26/UDP_Bandlock_9S_Phone_Airport/sm04/#02/data/udp_dnlk_loss_latency.csv\n",
      "46/216 /home/wmnlab/jackbedford/data/2023-10-26/UDP_Bandlock_9S_Phone_Airport/sm04/#02/data/udp_uplk_loss_latency.csv\n"
     ]
    },
    {
     "data": {
      "application/vnd.jupyter.widget-view+json": {
       "model_id": "f6022ba65e5148969981d5a12341f94e",
       "version_major": 2,
       "version_minor": 0
      },
      "text/plain": [
       "  0%|                                                                                                         …"
      ]
     },
     "metadata": {},
     "output_type": "display_data"
    },
    {
     "name": "stdout",
     "output_type": "stream",
     "text": [
      "./20240312_150032342e_newest/20240314_060073cc2b/results/20240314_09375500000_f85b83d4e1645936_1.5corr/\\home\\wmnlab\\jackbedford\\data\\2023-10-26\\UDP_Bandlock_9S_Phone_Airport\\sm01\\#02\\data\\udp_dnlk_loss_latency\\home\\wmnlab\\jackbedford\\data\\2023-10-26\\UDP_Bandlock_9S_Phone_Airport\\sm04\\#02\\data\\udp_dnlk_loss_latency.csv\n",
      "47/216 /home/wmnlab/jackbedford/data/2023-10-26/UDP_Bandlock_9S_Phone_Airport/sm01/#02/data/handover_info_log.csv\n",
      "47/216 /home/wmnlab/jackbedford/data/2023-10-26/UDP_Bandlock_9S_Phone_Airport/sm01/#02/data/udp_dnlk_loss_latency.csv\n",
      "47/216 /home/wmnlab/jackbedford/data/2023-10-26/UDP_Bandlock_9S_Phone_Airport/sm01/#02/data/udp_uplk_loss_latency.csv\n",
      "47/216 /home/wmnlab/jackbedford/data/2023-10-26/UDP_Bandlock_9S_Phone_Airport/sm05/#02/data/handover_info_log.csv\n",
      "47/216 /home/wmnlab/jackbedford/data/2023-10-26/UDP_Bandlock_9S_Phone_Airport/sm05/#02/data/udp_dnlk_loss_latency.csv\n",
      "47/216 /home/wmnlab/jackbedford/data/2023-10-26/UDP_Bandlock_9S_Phone_Airport/sm05/#02/data/udp_uplk_loss_latency.csv\n"
     ]
    },
    {
     "data": {
      "application/vnd.jupyter.widget-view+json": {
       "model_id": "17b0ec38e183408786eecfea735135c0",
       "version_major": 2,
       "version_minor": 0
      },
      "text/plain": [
       "  0%|                                                                                                         …"
      ]
     },
     "metadata": {},
     "output_type": "display_data"
    },
    {
     "name": "stdout",
     "output_type": "stream",
     "text": [
      "./20240312_150032342e_newest/20240314_060073cc2b/results/20240314_09375500000_f85b83d4e1645936_1.5corr/\\home\\wmnlab\\jackbedford\\data\\2023-10-26\\UDP_Bandlock_9S_Phone_Airport\\sm01\\#02\\data\\udp_dnlk_loss_latency\\home\\wmnlab\\jackbedford\\data\\2023-10-26\\UDP_Bandlock_9S_Phone_Airport\\sm05\\#02\\data\\udp_dnlk_loss_latency.csv\n",
      "48/216 /home/wmnlab/jackbedford/data/2023-10-26/UDP_Bandlock_9S_Phone_Airport/sm01/#02/data/handover_info_log.csv\n",
      "48/216 /home/wmnlab/jackbedford/data/2023-10-26/UDP_Bandlock_9S_Phone_Airport/sm01/#02/data/udp_dnlk_loss_latency.csv\n",
      "48/216 /home/wmnlab/jackbedford/data/2023-10-26/UDP_Bandlock_9S_Phone_Airport/sm01/#02/data/udp_uplk_loss_latency.csv\n",
      "48/216 /home/wmnlab/jackbedford/data/2023-10-26/UDP_Bandlock_9S_Phone_Airport/sm06/#02/data/handover_info_log.csv\n",
      "48/216 /home/wmnlab/jackbedford/data/2023-10-26/UDP_Bandlock_9S_Phone_Airport/sm06/#02/data/udp_dnlk_loss_latency.csv\n",
      "48/216 /home/wmnlab/jackbedford/data/2023-10-26/UDP_Bandlock_9S_Phone_Airport/sm06/#02/data/udp_uplk_loss_latency.csv\n"
     ]
    },
    {
     "data": {
      "application/vnd.jupyter.widget-view+json": {
       "model_id": "03c167869ec04edc9b9416caf45f5854",
       "version_major": 2,
       "version_minor": 0
      },
      "text/plain": [
       "  0%|                                                                                                         …"
      ]
     },
     "metadata": {},
     "output_type": "display_data"
    },
    {
     "name": "stdout",
     "output_type": "stream",
     "text": [
      "./20240312_150032342e_newest/20240314_060073cc2b/results/20240314_09375500000_f85b83d4e1645936_1.5corr/\\home\\wmnlab\\jackbedford\\data\\2023-10-26\\UDP_Bandlock_9S_Phone_Airport\\sm01\\#02\\data\\udp_dnlk_loss_latency\\home\\wmnlab\\jackbedford\\data\\2023-10-26\\UDP_Bandlock_9S_Phone_Airport\\sm06\\#02\\data\\udp_dnlk_loss_latency.csv\n",
      "49/216 /home/wmnlab/jackbedford/data/2023-10-26/UDP_Bandlock_9S_Phone_Airport/sm01/#02/data/handover_info_log.csv\n",
      "49/216 /home/wmnlab/jackbedford/data/2023-10-26/UDP_Bandlock_9S_Phone_Airport/sm01/#02/data/udp_dnlk_loss_latency.csv\n",
      "49/216 /home/wmnlab/jackbedford/data/2023-10-26/UDP_Bandlock_9S_Phone_Airport/sm01/#02/data/udp_uplk_loss_latency.csv\n",
      "49/216 /home/wmnlab/jackbedford/data/2023-10-26/UDP_Bandlock_9S_Phone_Airport/sm07/#02/data/handover_info_log.csv\n",
      "49/216 /home/wmnlab/jackbedford/data/2023-10-26/UDP_Bandlock_9S_Phone_Airport/sm07/#02/data/udp_dnlk_loss_latency.csv\n",
      "49/216 /home/wmnlab/jackbedford/data/2023-10-26/UDP_Bandlock_9S_Phone_Airport/sm07/#02/data/udp_uplk_loss_latency.csv\n"
     ]
    },
    {
     "data": {
      "application/vnd.jupyter.widget-view+json": {
       "model_id": "15b35982a559442f8493499cfec2ade7",
       "version_major": 2,
       "version_minor": 0
      },
      "text/plain": [
       "  0%|                                                                                                         …"
      ]
     },
     "metadata": {},
     "output_type": "display_data"
    },
    {
     "name": "stdout",
     "output_type": "stream",
     "text": [
      "./20240312_150032342e_newest/20240314_060073cc2b/results/20240314_09375500000_f85b83d4e1645936_1.5corr/\\home\\wmnlab\\jackbedford\\data\\2023-10-26\\UDP_Bandlock_9S_Phone_Airport\\sm01\\#02\\data\\udp_dnlk_loss_latency\\home\\wmnlab\\jackbedford\\data\\2023-10-26\\UDP_Bandlock_9S_Phone_Airport\\sm07\\#02\\data\\udp_dnlk_loss_latency.csv\n",
      "50/216 /home/wmnlab/jackbedford/data/2023-10-26/UDP_Bandlock_9S_Phone_Airport/sm01/#02/data/handover_info_log.csv\n",
      "50/216 /home/wmnlab/jackbedford/data/2023-10-26/UDP_Bandlock_9S_Phone_Airport/sm01/#02/data/udp_dnlk_loss_latency.csv\n",
      "50/216 /home/wmnlab/jackbedford/data/2023-10-26/UDP_Bandlock_9S_Phone_Airport/sm01/#02/data/udp_uplk_loss_latency.csv\n",
      "50/216 /home/wmnlab/jackbedford/data/2023-10-26/UDP_Bandlock_9S_Phone_Airport/sm08/#02/data/handover_info_log.csv\n",
      "50/216 /home/wmnlab/jackbedford/data/2023-10-26/UDP_Bandlock_9S_Phone_Airport/sm08/#02/data/udp_dnlk_loss_latency.csv\n",
      "50/216 /home/wmnlab/jackbedford/data/2023-10-26/UDP_Bandlock_9S_Phone_Airport/sm08/#02/data/udp_uplk_loss_latency.csv\n"
     ]
    },
    {
     "data": {
      "application/vnd.jupyter.widget-view+json": {
       "model_id": "54983f17f1d841e3bf0b6e94aab7a84b",
       "version_major": 2,
       "version_minor": 0
      },
      "text/plain": [
       "  0%|                                                                                                         …"
      ]
     },
     "metadata": {},
     "output_type": "display_data"
    },
    {
     "name": "stdout",
     "output_type": "stream",
     "text": [
      "./20240312_150032342e_newest/20240314_060073cc2b/results/20240314_09375500000_f85b83d4e1645936_1.5corr/\\home\\wmnlab\\jackbedford\\data\\2023-10-26\\UDP_Bandlock_9S_Phone_Airport\\sm01\\#02\\data\\udp_dnlk_loss_latency\\home\\wmnlab\\jackbedford\\data\\2023-10-26\\UDP_Bandlock_9S_Phone_Airport\\sm08\\#02\\data\\udp_dnlk_loss_latency.csv\n",
      "51/216 /home/wmnlab/jackbedford/data/2023-10-26/UDP_Bandlock_9S_Phone_Airport/sm02/#02/data/handover_info_log.csv\n",
      "51/216 /home/wmnlab/jackbedford/data/2023-10-26/UDP_Bandlock_9S_Phone_Airport/sm02/#02/data/udp_dnlk_loss_latency.csv\n",
      "51/216 /home/wmnlab/jackbedford/data/2023-10-26/UDP_Bandlock_9S_Phone_Airport/sm02/#02/data/udp_uplk_loss_latency.csv\n",
      "51/216 /home/wmnlab/jackbedford/data/2023-10-26/UDP_Bandlock_9S_Phone_Airport/sm03/#02/data/handover_info_log.csv\n",
      "51/216 /home/wmnlab/jackbedford/data/2023-10-26/UDP_Bandlock_9S_Phone_Airport/sm03/#02/data/udp_dnlk_loss_latency.csv\n",
      "51/216 /home/wmnlab/jackbedford/data/2023-10-26/UDP_Bandlock_9S_Phone_Airport/sm03/#02/data/udp_uplk_loss_latency.csv\n"
     ]
    },
    {
     "data": {
      "application/vnd.jupyter.widget-view+json": {
       "model_id": "e122bb9773b340d48f9ec3e0eaf2f7cc",
       "version_major": 2,
       "version_minor": 0
      },
      "text/plain": [
       "  0%|                                                                                                         …"
      ]
     },
     "metadata": {},
     "output_type": "display_data"
    },
    {
     "name": "stdout",
     "output_type": "stream",
     "text": [
      "./20240312_150032342e_newest/20240314_060073cc2b/results/20240314_09375500000_f85b83d4e1645936_1.5corr/\\home\\wmnlab\\jackbedford\\data\\2023-10-26\\UDP_Bandlock_9S_Phone_Airport\\sm02\\#02\\data\\udp_dnlk_loss_latency\\home\\wmnlab\\jackbedford\\data\\2023-10-26\\UDP_Bandlock_9S_Phone_Airport\\sm03\\#02\\data\\udp_dnlk_loss_latency.csv\n",
      "52/216 /home/wmnlab/jackbedford/data/2023-10-26/UDP_Bandlock_9S_Phone_Airport/sm02/#02/data/handover_info_log.csv\n",
      "52/216 /home/wmnlab/jackbedford/data/2023-10-26/UDP_Bandlock_9S_Phone_Airport/sm02/#02/data/udp_dnlk_loss_latency.csv\n",
      "52/216 /home/wmnlab/jackbedford/data/2023-10-26/UDP_Bandlock_9S_Phone_Airport/sm02/#02/data/udp_uplk_loss_latency.csv\n",
      "52/216 /home/wmnlab/jackbedford/data/2023-10-26/UDP_Bandlock_9S_Phone_Airport/sm04/#02/data/handover_info_log.csv\n",
      "52/216 /home/wmnlab/jackbedford/data/2023-10-26/UDP_Bandlock_9S_Phone_Airport/sm04/#02/data/udp_dnlk_loss_latency.csv\n",
      "52/216 /home/wmnlab/jackbedford/data/2023-10-26/UDP_Bandlock_9S_Phone_Airport/sm04/#02/data/udp_uplk_loss_latency.csv\n"
     ]
    },
    {
     "data": {
      "application/vnd.jupyter.widget-view+json": {
       "model_id": "15692353750f447bae6fd37fb3982f24",
       "version_major": 2,
       "version_minor": 0
      },
      "text/plain": [
       "  0%|                                                                                                         …"
      ]
     },
     "metadata": {},
     "output_type": "display_data"
    },
    {
     "name": "stdout",
     "output_type": "stream",
     "text": [
      "./20240312_150032342e_newest/20240314_060073cc2b/results/20240314_09375500000_f85b83d4e1645936_1.5corr/\\home\\wmnlab\\jackbedford\\data\\2023-10-26\\UDP_Bandlock_9S_Phone_Airport\\sm02\\#02\\data\\udp_dnlk_loss_latency\\home\\wmnlab\\jackbedford\\data\\2023-10-26\\UDP_Bandlock_9S_Phone_Airport\\sm04\\#02\\data\\udp_dnlk_loss_latency.csv\n",
      "53/216 /home/wmnlab/jackbedford/data/2023-10-26/UDP_Bandlock_9S_Phone_Airport/sm02/#02/data/handover_info_log.csv\n",
      "53/216 /home/wmnlab/jackbedford/data/2023-10-26/UDP_Bandlock_9S_Phone_Airport/sm02/#02/data/udp_dnlk_loss_latency.csv\n",
      "53/216 /home/wmnlab/jackbedford/data/2023-10-26/UDP_Bandlock_9S_Phone_Airport/sm02/#02/data/udp_uplk_loss_latency.csv\n",
      "53/216 /home/wmnlab/jackbedford/data/2023-10-26/UDP_Bandlock_9S_Phone_Airport/sm05/#02/data/handover_info_log.csv\n",
      "53/216 /home/wmnlab/jackbedford/data/2023-10-26/UDP_Bandlock_9S_Phone_Airport/sm05/#02/data/udp_dnlk_loss_latency.csv\n",
      "53/216 /home/wmnlab/jackbedford/data/2023-10-26/UDP_Bandlock_9S_Phone_Airport/sm05/#02/data/udp_uplk_loss_latency.csv\n"
     ]
    },
    {
     "data": {
      "application/vnd.jupyter.widget-view+json": {
       "model_id": "0719ad340c7f4062a7c159971452f1f9",
       "version_major": 2,
       "version_minor": 0
      },
      "text/plain": [
       "  0%|                                                                                                         …"
      ]
     },
     "metadata": {},
     "output_type": "display_data"
    },
    {
     "name": "stdout",
     "output_type": "stream",
     "text": [
      "./20240312_150032342e_newest/20240314_060073cc2b/results/20240314_09375500000_f85b83d4e1645936_1.5corr/\\home\\wmnlab\\jackbedford\\data\\2023-10-26\\UDP_Bandlock_9S_Phone_Airport\\sm02\\#02\\data\\udp_dnlk_loss_latency\\home\\wmnlab\\jackbedford\\data\\2023-10-26\\UDP_Bandlock_9S_Phone_Airport\\sm05\\#02\\data\\udp_dnlk_loss_latency.csv\n",
      "54/216 /home/wmnlab/jackbedford/data/2023-10-26/UDP_Bandlock_9S_Phone_Airport/sm02/#02/data/handover_info_log.csv\n",
      "54/216 /home/wmnlab/jackbedford/data/2023-10-26/UDP_Bandlock_9S_Phone_Airport/sm02/#02/data/udp_dnlk_loss_latency.csv\n",
      "54/216 /home/wmnlab/jackbedford/data/2023-10-26/UDP_Bandlock_9S_Phone_Airport/sm02/#02/data/udp_uplk_loss_latency.csv\n",
      "54/216 /home/wmnlab/jackbedford/data/2023-10-26/UDP_Bandlock_9S_Phone_Airport/sm06/#02/data/handover_info_log.csv\n",
      "54/216 /home/wmnlab/jackbedford/data/2023-10-26/UDP_Bandlock_9S_Phone_Airport/sm06/#02/data/udp_dnlk_loss_latency.csv\n",
      "54/216 /home/wmnlab/jackbedford/data/2023-10-26/UDP_Bandlock_9S_Phone_Airport/sm06/#02/data/udp_uplk_loss_latency.csv\n"
     ]
    },
    {
     "data": {
      "application/vnd.jupyter.widget-view+json": {
       "model_id": "9d8b80afa57c44dcad26e5a1e1481bbf",
       "version_major": 2,
       "version_minor": 0
      },
      "text/plain": [
       "  0%|                                                                                                         …"
      ]
     },
     "metadata": {},
     "output_type": "display_data"
    },
    {
     "name": "stdout",
     "output_type": "stream",
     "text": [
      "./20240312_150032342e_newest/20240314_060073cc2b/results/20240314_09375500000_f85b83d4e1645936_1.5corr/\\home\\wmnlab\\jackbedford\\data\\2023-10-26\\UDP_Bandlock_9S_Phone_Airport\\sm02\\#02\\data\\udp_dnlk_loss_latency\\home\\wmnlab\\jackbedford\\data\\2023-10-26\\UDP_Bandlock_9S_Phone_Airport\\sm06\\#02\\data\\udp_dnlk_loss_latency.csv\n",
      "55/216 /home/wmnlab/jackbedford/data/2023-10-26/UDP_Bandlock_9S_Phone_Airport/sm02/#02/data/handover_info_log.csv\n",
      "55/216 /home/wmnlab/jackbedford/data/2023-10-26/UDP_Bandlock_9S_Phone_Airport/sm02/#02/data/udp_dnlk_loss_latency.csv\n",
      "55/216 /home/wmnlab/jackbedford/data/2023-10-26/UDP_Bandlock_9S_Phone_Airport/sm02/#02/data/udp_uplk_loss_latency.csv\n",
      "55/216 /home/wmnlab/jackbedford/data/2023-10-26/UDP_Bandlock_9S_Phone_Airport/sm07/#02/data/handover_info_log.csv\n",
      "55/216 /home/wmnlab/jackbedford/data/2023-10-26/UDP_Bandlock_9S_Phone_Airport/sm07/#02/data/udp_dnlk_loss_latency.csv\n",
      "55/216 /home/wmnlab/jackbedford/data/2023-10-26/UDP_Bandlock_9S_Phone_Airport/sm07/#02/data/udp_uplk_loss_latency.csv\n"
     ]
    },
    {
     "data": {
      "application/vnd.jupyter.widget-view+json": {
       "model_id": "0181772f94334362a9cf582241d16f55",
       "version_major": 2,
       "version_minor": 0
      },
      "text/plain": [
       "  0%|                                                                                                         …"
      ]
     },
     "metadata": {},
     "output_type": "display_data"
    },
    {
     "name": "stdout",
     "output_type": "stream",
     "text": [
      "./20240312_150032342e_newest/20240314_060073cc2b/results/20240314_09375500000_f85b83d4e1645936_1.5corr/\\home\\wmnlab\\jackbedford\\data\\2023-10-26\\UDP_Bandlock_9S_Phone_Airport\\sm02\\#02\\data\\udp_dnlk_loss_latency\\home\\wmnlab\\jackbedford\\data\\2023-10-26\\UDP_Bandlock_9S_Phone_Airport\\sm07\\#02\\data\\udp_dnlk_loss_latency.csv\n",
      "56/216 /home/wmnlab/jackbedford/data/2023-10-26/UDP_Bandlock_9S_Phone_Airport/sm02/#02/data/handover_info_log.csv\n",
      "56/216 /home/wmnlab/jackbedford/data/2023-10-26/UDP_Bandlock_9S_Phone_Airport/sm02/#02/data/udp_dnlk_loss_latency.csv\n",
      "56/216 /home/wmnlab/jackbedford/data/2023-10-26/UDP_Bandlock_9S_Phone_Airport/sm02/#02/data/udp_uplk_loss_latency.csv\n",
      "56/216 /home/wmnlab/jackbedford/data/2023-10-26/UDP_Bandlock_9S_Phone_Airport/sm08/#02/data/handover_info_log.csv\n",
      "56/216 /home/wmnlab/jackbedford/data/2023-10-26/UDP_Bandlock_9S_Phone_Airport/sm08/#02/data/udp_dnlk_loss_latency.csv\n",
      "56/216 /home/wmnlab/jackbedford/data/2023-10-26/UDP_Bandlock_9S_Phone_Airport/sm08/#02/data/udp_uplk_loss_latency.csv\n"
     ]
    },
    {
     "data": {
      "application/vnd.jupyter.widget-view+json": {
       "model_id": "681474ef6a4a4ba2a58480c0fee71419",
       "version_major": 2,
       "version_minor": 0
      },
      "text/plain": [
       "  0%|                                                                                                         …"
      ]
     },
     "metadata": {},
     "output_type": "display_data"
    },
    {
     "name": "stdout",
     "output_type": "stream",
     "text": [
      "./20240312_150032342e_newest/20240314_060073cc2b/results/20240314_09375500000_f85b83d4e1645936_1.5corr/\\home\\wmnlab\\jackbedford\\data\\2023-10-26\\UDP_Bandlock_9S_Phone_Airport\\sm02\\#02\\data\\udp_dnlk_loss_latency\\home\\wmnlab\\jackbedford\\data\\2023-10-26\\UDP_Bandlock_9S_Phone_Airport\\sm08\\#02\\data\\udp_dnlk_loss_latency.csv\n",
      "57/216 /home/wmnlab/jackbedford/data/2023-10-26/UDP_Bandlock_9S_Phone_Airport/sm03/#02/data/handover_info_log.csv\n",
      "57/216 /home/wmnlab/jackbedford/data/2023-10-26/UDP_Bandlock_9S_Phone_Airport/sm03/#02/data/udp_dnlk_loss_latency.csv\n",
      "57/216 /home/wmnlab/jackbedford/data/2023-10-26/UDP_Bandlock_9S_Phone_Airport/sm03/#02/data/udp_uplk_loss_latency.csv\n",
      "57/216 /home/wmnlab/jackbedford/data/2023-10-26/UDP_Bandlock_9S_Phone_Airport/sm04/#02/data/handover_info_log.csv\n",
      "57/216 /home/wmnlab/jackbedford/data/2023-10-26/UDP_Bandlock_9S_Phone_Airport/sm04/#02/data/udp_dnlk_loss_latency.csv\n",
      "57/216 /home/wmnlab/jackbedford/data/2023-10-26/UDP_Bandlock_9S_Phone_Airport/sm04/#02/data/udp_uplk_loss_latency.csv\n"
     ]
    },
    {
     "data": {
      "application/vnd.jupyter.widget-view+json": {
       "model_id": "b796dd6e192f4a01badaf2765100ff7c",
       "version_major": 2,
       "version_minor": 0
      },
      "text/plain": [
       "  0%|                                                                                                         …"
      ]
     },
     "metadata": {},
     "output_type": "display_data"
    },
    {
     "name": "stdout",
     "output_type": "stream",
     "text": [
      "./20240312_150032342e_newest/20240314_060073cc2b/results/20240314_09375500000_f85b83d4e1645936_1.5corr/\\home\\wmnlab\\jackbedford\\data\\2023-10-26\\UDP_Bandlock_9S_Phone_Airport\\sm03\\#02\\data\\udp_dnlk_loss_latency\\home\\wmnlab\\jackbedford\\data\\2023-10-26\\UDP_Bandlock_9S_Phone_Airport\\sm04\\#02\\data\\udp_dnlk_loss_latency.csv\n",
      "58/216 /home/wmnlab/jackbedford/data/2023-10-26/UDP_Bandlock_9S_Phone_Airport/sm03/#02/data/handover_info_log.csv\n",
      "58/216 /home/wmnlab/jackbedford/data/2023-10-26/UDP_Bandlock_9S_Phone_Airport/sm03/#02/data/udp_dnlk_loss_latency.csv\n",
      "58/216 /home/wmnlab/jackbedford/data/2023-10-26/UDP_Bandlock_9S_Phone_Airport/sm03/#02/data/udp_uplk_loss_latency.csv\n",
      "58/216 /home/wmnlab/jackbedford/data/2023-10-26/UDP_Bandlock_9S_Phone_Airport/sm05/#02/data/handover_info_log.csv\n",
      "58/216 /home/wmnlab/jackbedford/data/2023-10-26/UDP_Bandlock_9S_Phone_Airport/sm05/#02/data/udp_dnlk_loss_latency.csv\n",
      "58/216 /home/wmnlab/jackbedford/data/2023-10-26/UDP_Bandlock_9S_Phone_Airport/sm05/#02/data/udp_uplk_loss_latency.csv\n"
     ]
    },
    {
     "data": {
      "application/vnd.jupyter.widget-view+json": {
       "model_id": "2d5542b2a6da474787c6c9a04d6686a0",
       "version_major": 2,
       "version_minor": 0
      },
      "text/plain": [
       "  0%|                                                                                                         …"
      ]
     },
     "metadata": {},
     "output_type": "display_data"
    },
    {
     "name": "stdout",
     "output_type": "stream",
     "text": [
      "./20240312_150032342e_newest/20240314_060073cc2b/results/20240314_09375500000_f85b83d4e1645936_1.5corr/\\home\\wmnlab\\jackbedford\\data\\2023-10-26\\UDP_Bandlock_9S_Phone_Airport\\sm03\\#02\\data\\udp_dnlk_loss_latency\\home\\wmnlab\\jackbedford\\data\\2023-10-26\\UDP_Bandlock_9S_Phone_Airport\\sm05\\#02\\data\\udp_dnlk_loss_latency.csv\n",
      "59/216 /home/wmnlab/jackbedford/data/2023-10-26/UDP_Bandlock_9S_Phone_Airport/sm03/#02/data/handover_info_log.csv\n",
      "59/216 /home/wmnlab/jackbedford/data/2023-10-26/UDP_Bandlock_9S_Phone_Airport/sm03/#02/data/udp_dnlk_loss_latency.csv\n",
      "59/216 /home/wmnlab/jackbedford/data/2023-10-26/UDP_Bandlock_9S_Phone_Airport/sm03/#02/data/udp_uplk_loss_latency.csv\n",
      "59/216 /home/wmnlab/jackbedford/data/2023-10-26/UDP_Bandlock_9S_Phone_Airport/sm06/#02/data/handover_info_log.csv\n",
      "59/216 /home/wmnlab/jackbedford/data/2023-10-26/UDP_Bandlock_9S_Phone_Airport/sm06/#02/data/udp_dnlk_loss_latency.csv\n",
      "59/216 /home/wmnlab/jackbedford/data/2023-10-26/UDP_Bandlock_9S_Phone_Airport/sm06/#02/data/udp_uplk_loss_latency.csv\n"
     ]
    },
    {
     "data": {
      "application/vnd.jupyter.widget-view+json": {
       "model_id": "3b268f58c4d2440ba13edd04631eb6b7",
       "version_major": 2,
       "version_minor": 0
      },
      "text/plain": [
       "  0%|                                                                                                         …"
      ]
     },
     "metadata": {},
     "output_type": "display_data"
    },
    {
     "name": "stdout",
     "output_type": "stream",
     "text": [
      "./20240312_150032342e_newest/20240314_060073cc2b/results/20240314_09375500000_f85b83d4e1645936_1.5corr/\\home\\wmnlab\\jackbedford\\data\\2023-10-26\\UDP_Bandlock_9S_Phone_Airport\\sm03\\#02\\data\\udp_dnlk_loss_latency\\home\\wmnlab\\jackbedford\\data\\2023-10-26\\UDP_Bandlock_9S_Phone_Airport\\sm06\\#02\\data\\udp_dnlk_loss_latency.csv\n",
      "60/216 /home/wmnlab/jackbedford/data/2023-10-26/UDP_Bandlock_9S_Phone_Airport/sm03/#02/data/handover_info_log.csv\n",
      "60/216 /home/wmnlab/jackbedford/data/2023-10-26/UDP_Bandlock_9S_Phone_Airport/sm03/#02/data/udp_dnlk_loss_latency.csv\n",
      "60/216 /home/wmnlab/jackbedford/data/2023-10-26/UDP_Bandlock_9S_Phone_Airport/sm03/#02/data/udp_uplk_loss_latency.csv\n",
      "60/216 /home/wmnlab/jackbedford/data/2023-10-26/UDP_Bandlock_9S_Phone_Airport/sm07/#02/data/handover_info_log.csv\n",
      "60/216 /home/wmnlab/jackbedford/data/2023-10-26/UDP_Bandlock_9S_Phone_Airport/sm07/#02/data/udp_dnlk_loss_latency.csv\n",
      "60/216 /home/wmnlab/jackbedford/data/2023-10-26/UDP_Bandlock_9S_Phone_Airport/sm07/#02/data/udp_uplk_loss_latency.csv\n"
     ]
    },
    {
     "data": {
      "application/vnd.jupyter.widget-view+json": {
       "model_id": "c28b98f4b28340b7846af38e6472a599",
       "version_major": 2,
       "version_minor": 0
      },
      "text/plain": [
       "  0%|                                                                                                         …"
      ]
     },
     "metadata": {},
     "output_type": "display_data"
    },
    {
     "name": "stdout",
     "output_type": "stream",
     "text": [
      "./20240312_150032342e_newest/20240314_060073cc2b/results/20240314_09375500000_f85b83d4e1645936_1.5corr/\\home\\wmnlab\\jackbedford\\data\\2023-10-26\\UDP_Bandlock_9S_Phone_Airport\\sm03\\#02\\data\\udp_dnlk_loss_latency\\home\\wmnlab\\jackbedford\\data\\2023-10-26\\UDP_Bandlock_9S_Phone_Airport\\sm07\\#02\\data\\udp_dnlk_loss_latency.csv\n",
      "61/216 /home/wmnlab/jackbedford/data/2023-10-26/UDP_Bandlock_9S_Phone_Airport/sm03/#02/data/handover_info_log.csv\n",
      "61/216 /home/wmnlab/jackbedford/data/2023-10-26/UDP_Bandlock_9S_Phone_Airport/sm03/#02/data/udp_dnlk_loss_latency.csv\n",
      "61/216 /home/wmnlab/jackbedford/data/2023-10-26/UDP_Bandlock_9S_Phone_Airport/sm03/#02/data/udp_uplk_loss_latency.csv\n",
      "61/216 /home/wmnlab/jackbedford/data/2023-10-26/UDP_Bandlock_9S_Phone_Airport/sm08/#02/data/handover_info_log.csv\n",
      "61/216 /home/wmnlab/jackbedford/data/2023-10-26/UDP_Bandlock_9S_Phone_Airport/sm08/#02/data/udp_dnlk_loss_latency.csv\n",
      "61/216 /home/wmnlab/jackbedford/data/2023-10-26/UDP_Bandlock_9S_Phone_Airport/sm08/#02/data/udp_uplk_loss_latency.csv\n"
     ]
    },
    {
     "data": {
      "application/vnd.jupyter.widget-view+json": {
       "model_id": "d257d961474c40f18043bd49fc657239",
       "version_major": 2,
       "version_minor": 0
      },
      "text/plain": [
       "  0%|                                                                                                         …"
      ]
     },
     "metadata": {},
     "output_type": "display_data"
    },
    {
     "name": "stdout",
     "output_type": "stream",
     "text": [
      "./20240312_150032342e_newest/20240314_060073cc2b/results/20240314_09375500000_f85b83d4e1645936_1.5corr/\\home\\wmnlab\\jackbedford\\data\\2023-10-26\\UDP_Bandlock_9S_Phone_Airport\\sm03\\#02\\data\\udp_dnlk_loss_latency\\home\\wmnlab\\jackbedford\\data\\2023-10-26\\UDP_Bandlock_9S_Phone_Airport\\sm08\\#02\\data\\udp_dnlk_loss_latency.csv\n",
      "62/216 /home/wmnlab/jackbedford/data/2023-10-26/UDP_Bandlock_9S_Phone_Airport/sm04/#02/data/handover_info_log.csv\n",
      "62/216 /home/wmnlab/jackbedford/data/2023-10-26/UDP_Bandlock_9S_Phone_Airport/sm04/#02/data/udp_dnlk_loss_latency.csv\n",
      "62/216 /home/wmnlab/jackbedford/data/2023-10-26/UDP_Bandlock_9S_Phone_Airport/sm04/#02/data/udp_uplk_loss_latency.csv\n",
      "62/216 /home/wmnlab/jackbedford/data/2023-10-26/UDP_Bandlock_9S_Phone_Airport/sm05/#02/data/handover_info_log.csv\n",
      "62/216 /home/wmnlab/jackbedford/data/2023-10-26/UDP_Bandlock_9S_Phone_Airport/sm05/#02/data/udp_dnlk_loss_latency.csv\n",
      "62/216 /home/wmnlab/jackbedford/data/2023-10-26/UDP_Bandlock_9S_Phone_Airport/sm05/#02/data/udp_uplk_loss_latency.csv\n"
     ]
    },
    {
     "data": {
      "application/vnd.jupyter.widget-view+json": {
       "model_id": "61090f8f69d04808a4972af09c49c3d3",
       "version_major": 2,
       "version_minor": 0
      },
      "text/plain": [
       "  0%|                                                                                                         …"
      ]
     },
     "metadata": {},
     "output_type": "display_data"
    },
    {
     "name": "stdout",
     "output_type": "stream",
     "text": [
      "./20240312_150032342e_newest/20240314_060073cc2b/results/20240314_09375500000_f85b83d4e1645936_1.5corr/\\home\\wmnlab\\jackbedford\\data\\2023-10-26\\UDP_Bandlock_9S_Phone_Airport\\sm04\\#02\\data\\udp_dnlk_loss_latency\\home\\wmnlab\\jackbedford\\data\\2023-10-26\\UDP_Bandlock_9S_Phone_Airport\\sm05\\#02\\data\\udp_dnlk_loss_latency.csv\n",
      "63/216 /home/wmnlab/jackbedford/data/2023-10-26/UDP_Bandlock_9S_Phone_Airport/sm04/#02/data/handover_info_log.csv\n",
      "63/216 /home/wmnlab/jackbedford/data/2023-10-26/UDP_Bandlock_9S_Phone_Airport/sm04/#02/data/udp_dnlk_loss_latency.csv\n",
      "63/216 /home/wmnlab/jackbedford/data/2023-10-26/UDP_Bandlock_9S_Phone_Airport/sm04/#02/data/udp_uplk_loss_latency.csv\n",
      "63/216 /home/wmnlab/jackbedford/data/2023-10-26/UDP_Bandlock_9S_Phone_Airport/sm06/#02/data/handover_info_log.csv\n",
      "63/216 /home/wmnlab/jackbedford/data/2023-10-26/UDP_Bandlock_9S_Phone_Airport/sm06/#02/data/udp_dnlk_loss_latency.csv\n",
      "63/216 /home/wmnlab/jackbedford/data/2023-10-26/UDP_Bandlock_9S_Phone_Airport/sm06/#02/data/udp_uplk_loss_latency.csv\n"
     ]
    },
    {
     "data": {
      "application/vnd.jupyter.widget-view+json": {
       "model_id": "439130340b1f4c668557d2cf5b8b84a4",
       "version_major": 2,
       "version_minor": 0
      },
      "text/plain": [
       "  0%|                                                                                                         …"
      ]
     },
     "metadata": {},
     "output_type": "display_data"
    },
    {
     "name": "stdout",
     "output_type": "stream",
     "text": [
      "./20240312_150032342e_newest/20240314_060073cc2b/results/20240314_09375500000_f85b83d4e1645936_1.5corr/\\home\\wmnlab\\jackbedford\\data\\2023-10-26\\UDP_Bandlock_9S_Phone_Airport\\sm04\\#02\\data\\udp_dnlk_loss_latency\\home\\wmnlab\\jackbedford\\data\\2023-10-26\\UDP_Bandlock_9S_Phone_Airport\\sm06\\#02\\data\\udp_dnlk_loss_latency.csv\n",
      "64/216 /home/wmnlab/jackbedford/data/2023-10-26/UDP_Bandlock_9S_Phone_Airport/sm04/#02/data/handover_info_log.csv\n",
      "64/216 /home/wmnlab/jackbedford/data/2023-10-26/UDP_Bandlock_9S_Phone_Airport/sm04/#02/data/udp_dnlk_loss_latency.csv\n",
      "64/216 /home/wmnlab/jackbedford/data/2023-10-26/UDP_Bandlock_9S_Phone_Airport/sm04/#02/data/udp_uplk_loss_latency.csv\n",
      "64/216 /home/wmnlab/jackbedford/data/2023-10-26/UDP_Bandlock_9S_Phone_Airport/sm07/#02/data/handover_info_log.csv\n",
      "64/216 /home/wmnlab/jackbedford/data/2023-10-26/UDP_Bandlock_9S_Phone_Airport/sm07/#02/data/udp_dnlk_loss_latency.csv\n",
      "64/216 /home/wmnlab/jackbedford/data/2023-10-26/UDP_Bandlock_9S_Phone_Airport/sm07/#02/data/udp_uplk_loss_latency.csv\n"
     ]
    },
    {
     "data": {
      "application/vnd.jupyter.widget-view+json": {
       "model_id": "0e512764c09b45499ade1aa9aea32109",
       "version_major": 2,
       "version_minor": 0
      },
      "text/plain": [
       "  0%|                                                                                                         …"
      ]
     },
     "metadata": {},
     "output_type": "display_data"
    },
    {
     "name": "stdout",
     "output_type": "stream",
     "text": [
      "./20240312_150032342e_newest/20240314_060073cc2b/results/20240314_09375500000_f85b83d4e1645936_1.5corr/\\home\\wmnlab\\jackbedford\\data\\2023-10-26\\UDP_Bandlock_9S_Phone_Airport\\sm04\\#02\\data\\udp_dnlk_loss_latency\\home\\wmnlab\\jackbedford\\data\\2023-10-26\\UDP_Bandlock_9S_Phone_Airport\\sm07\\#02\\data\\udp_dnlk_loss_latency.csv\n",
      "65/216 /home/wmnlab/jackbedford/data/2023-10-26/UDP_Bandlock_9S_Phone_Airport/sm04/#02/data/handover_info_log.csv\n",
      "65/216 /home/wmnlab/jackbedford/data/2023-10-26/UDP_Bandlock_9S_Phone_Airport/sm04/#02/data/udp_dnlk_loss_latency.csv\n",
      "65/216 /home/wmnlab/jackbedford/data/2023-10-26/UDP_Bandlock_9S_Phone_Airport/sm04/#02/data/udp_uplk_loss_latency.csv\n",
      "65/216 /home/wmnlab/jackbedford/data/2023-10-26/UDP_Bandlock_9S_Phone_Airport/sm08/#02/data/handover_info_log.csv\n",
      "65/216 /home/wmnlab/jackbedford/data/2023-10-26/UDP_Bandlock_9S_Phone_Airport/sm08/#02/data/udp_dnlk_loss_latency.csv\n",
      "65/216 /home/wmnlab/jackbedford/data/2023-10-26/UDP_Bandlock_9S_Phone_Airport/sm08/#02/data/udp_uplk_loss_latency.csv\n"
     ]
    },
    {
     "data": {
      "application/vnd.jupyter.widget-view+json": {
       "model_id": "ace5952a995644d3add09445189d0944",
       "version_major": 2,
       "version_minor": 0
      },
      "text/plain": [
       "  0%|                                                                                                         …"
      ]
     },
     "metadata": {},
     "output_type": "display_data"
    },
    {
     "name": "stdout",
     "output_type": "stream",
     "text": [
      "./20240312_150032342e_newest/20240314_060073cc2b/results/20240314_09375500000_f85b83d4e1645936_1.5corr/\\home\\wmnlab\\jackbedford\\data\\2023-10-26\\UDP_Bandlock_9S_Phone_Airport\\sm04\\#02\\data\\udp_dnlk_loss_latency\\home\\wmnlab\\jackbedford\\data\\2023-10-26\\UDP_Bandlock_9S_Phone_Airport\\sm08\\#02\\data\\udp_dnlk_loss_latency.csv\n",
      "66/216 /home/wmnlab/jackbedford/data/2023-10-26/UDP_Bandlock_9S_Phone_Airport/sm05/#02/data/handover_info_log.csv\n",
      "66/216 /home/wmnlab/jackbedford/data/2023-10-26/UDP_Bandlock_9S_Phone_Airport/sm05/#02/data/udp_dnlk_loss_latency.csv\n",
      "66/216 /home/wmnlab/jackbedford/data/2023-10-26/UDP_Bandlock_9S_Phone_Airport/sm05/#02/data/udp_uplk_loss_latency.csv\n",
      "66/216 /home/wmnlab/jackbedford/data/2023-10-26/UDP_Bandlock_9S_Phone_Airport/sm06/#02/data/handover_info_log.csv\n",
      "66/216 /home/wmnlab/jackbedford/data/2023-10-26/UDP_Bandlock_9S_Phone_Airport/sm06/#02/data/udp_dnlk_loss_latency.csv\n",
      "66/216 /home/wmnlab/jackbedford/data/2023-10-26/UDP_Bandlock_9S_Phone_Airport/sm06/#02/data/udp_uplk_loss_latency.csv\n"
     ]
    },
    {
     "data": {
      "application/vnd.jupyter.widget-view+json": {
       "model_id": "b3382088adde4df4ba11b793514a48a6",
       "version_major": 2,
       "version_minor": 0
      },
      "text/plain": [
       "  0%|                                                                                                         …"
      ]
     },
     "metadata": {},
     "output_type": "display_data"
    },
    {
     "name": "stdout",
     "output_type": "stream",
     "text": [
      "./20240312_150032342e_newest/20240314_060073cc2b/results/20240314_09375500000_f85b83d4e1645936_1.5corr/\\home\\wmnlab\\jackbedford\\data\\2023-10-26\\UDP_Bandlock_9S_Phone_Airport\\sm05\\#02\\data\\udp_dnlk_loss_latency\\home\\wmnlab\\jackbedford\\data\\2023-10-26\\UDP_Bandlock_9S_Phone_Airport\\sm06\\#02\\data\\udp_dnlk_loss_latency.csv\n",
      "67/216 /home/wmnlab/jackbedford/data/2023-10-26/UDP_Bandlock_9S_Phone_Airport/sm05/#02/data/handover_info_log.csv\n",
      "67/216 /home/wmnlab/jackbedford/data/2023-10-26/UDP_Bandlock_9S_Phone_Airport/sm05/#02/data/udp_dnlk_loss_latency.csv\n",
      "67/216 /home/wmnlab/jackbedford/data/2023-10-26/UDP_Bandlock_9S_Phone_Airport/sm05/#02/data/udp_uplk_loss_latency.csv\n",
      "67/216 /home/wmnlab/jackbedford/data/2023-10-26/UDP_Bandlock_9S_Phone_Airport/sm07/#02/data/handover_info_log.csv\n",
      "67/216 /home/wmnlab/jackbedford/data/2023-10-26/UDP_Bandlock_9S_Phone_Airport/sm07/#02/data/udp_dnlk_loss_latency.csv\n",
      "67/216 /home/wmnlab/jackbedford/data/2023-10-26/UDP_Bandlock_9S_Phone_Airport/sm07/#02/data/udp_uplk_loss_latency.csv\n"
     ]
    },
    {
     "data": {
      "application/vnd.jupyter.widget-view+json": {
       "model_id": "f1f715b5a2bd4406a4f03ea677d76922",
       "version_major": 2,
       "version_minor": 0
      },
      "text/plain": [
       "  0%|                                                                                                         …"
      ]
     },
     "metadata": {},
     "output_type": "display_data"
    },
    {
     "name": "stdout",
     "output_type": "stream",
     "text": [
      "./20240312_150032342e_newest/20240314_060073cc2b/results/20240314_09375500000_f85b83d4e1645936_1.5corr/\\home\\wmnlab\\jackbedford\\data\\2023-10-26\\UDP_Bandlock_9S_Phone_Airport\\sm05\\#02\\data\\udp_dnlk_loss_latency\\home\\wmnlab\\jackbedford\\data\\2023-10-26\\UDP_Bandlock_9S_Phone_Airport\\sm07\\#02\\data\\udp_dnlk_loss_latency.csv\n",
      "68/216 /home/wmnlab/jackbedford/data/2023-10-26/UDP_Bandlock_9S_Phone_Airport/sm05/#02/data/handover_info_log.csv\n",
      "68/216 /home/wmnlab/jackbedford/data/2023-10-26/UDP_Bandlock_9S_Phone_Airport/sm05/#02/data/udp_dnlk_loss_latency.csv\n",
      "68/216 /home/wmnlab/jackbedford/data/2023-10-26/UDP_Bandlock_9S_Phone_Airport/sm05/#02/data/udp_uplk_loss_latency.csv\n",
      "68/216 /home/wmnlab/jackbedford/data/2023-10-26/UDP_Bandlock_9S_Phone_Airport/sm08/#02/data/handover_info_log.csv\n",
      "68/216 /home/wmnlab/jackbedford/data/2023-10-26/UDP_Bandlock_9S_Phone_Airport/sm08/#02/data/udp_dnlk_loss_latency.csv\n",
      "68/216 /home/wmnlab/jackbedford/data/2023-10-26/UDP_Bandlock_9S_Phone_Airport/sm08/#02/data/udp_uplk_loss_latency.csv\n"
     ]
    },
    {
     "data": {
      "application/vnd.jupyter.widget-view+json": {
       "model_id": "26ad984687cf4a07a8f48584b5a11b58",
       "version_major": 2,
       "version_minor": 0
      },
      "text/plain": [
       "  0%|                                                                                                         …"
      ]
     },
     "metadata": {},
     "output_type": "display_data"
    },
    {
     "name": "stdout",
     "output_type": "stream",
     "text": [
      "./20240312_150032342e_newest/20240314_060073cc2b/results/20240314_09375500000_f85b83d4e1645936_1.5corr/\\home\\wmnlab\\jackbedford\\data\\2023-10-26\\UDP_Bandlock_9S_Phone_Airport\\sm05\\#02\\data\\udp_dnlk_loss_latency\\home\\wmnlab\\jackbedford\\data\\2023-10-26\\UDP_Bandlock_9S_Phone_Airport\\sm08\\#02\\data\\udp_dnlk_loss_latency.csv\n",
      "69/216 /home/wmnlab/jackbedford/data/2023-10-26/UDP_Bandlock_9S_Phone_Airport/sm06/#02/data/handover_info_log.csv\n",
      "69/216 /home/wmnlab/jackbedford/data/2023-10-26/UDP_Bandlock_9S_Phone_Airport/sm06/#02/data/udp_dnlk_loss_latency.csv\n",
      "69/216 /home/wmnlab/jackbedford/data/2023-10-26/UDP_Bandlock_9S_Phone_Airport/sm06/#02/data/udp_uplk_loss_latency.csv\n",
      "69/216 /home/wmnlab/jackbedford/data/2023-10-26/UDP_Bandlock_9S_Phone_Airport/sm07/#02/data/handover_info_log.csv\n",
      "69/216 /home/wmnlab/jackbedford/data/2023-10-26/UDP_Bandlock_9S_Phone_Airport/sm07/#02/data/udp_dnlk_loss_latency.csv\n",
      "69/216 /home/wmnlab/jackbedford/data/2023-10-26/UDP_Bandlock_9S_Phone_Airport/sm07/#02/data/udp_uplk_loss_latency.csv\n"
     ]
    },
    {
     "data": {
      "application/vnd.jupyter.widget-view+json": {
       "model_id": "d2fbbc5796684057a1b0da9d6eee446d",
       "version_major": 2,
       "version_minor": 0
      },
      "text/plain": [
       "  0%|                                                                                                         …"
      ]
     },
     "metadata": {},
     "output_type": "display_data"
    },
    {
     "name": "stdout",
     "output_type": "stream",
     "text": [
      "./20240312_150032342e_newest/20240314_060073cc2b/results/20240314_09375500000_f85b83d4e1645936_1.5corr/\\home\\wmnlab\\jackbedford\\data\\2023-10-26\\UDP_Bandlock_9S_Phone_Airport\\sm06\\#02\\data\\udp_dnlk_loss_latency\\home\\wmnlab\\jackbedford\\data\\2023-10-26\\UDP_Bandlock_9S_Phone_Airport\\sm07\\#02\\data\\udp_dnlk_loss_latency.csv\n",
      "70/216 /home/wmnlab/jackbedford/data/2023-10-26/UDP_Bandlock_9S_Phone_Airport/sm06/#02/data/handover_info_log.csv\n",
      "70/216 /home/wmnlab/jackbedford/data/2023-10-26/UDP_Bandlock_9S_Phone_Airport/sm06/#02/data/udp_dnlk_loss_latency.csv\n",
      "70/216 /home/wmnlab/jackbedford/data/2023-10-26/UDP_Bandlock_9S_Phone_Airport/sm06/#02/data/udp_uplk_loss_latency.csv\n",
      "70/216 /home/wmnlab/jackbedford/data/2023-10-26/UDP_Bandlock_9S_Phone_Airport/sm08/#02/data/handover_info_log.csv\n",
      "70/216 /home/wmnlab/jackbedford/data/2023-10-26/UDP_Bandlock_9S_Phone_Airport/sm08/#02/data/udp_dnlk_loss_latency.csv\n",
      "70/216 /home/wmnlab/jackbedford/data/2023-10-26/UDP_Bandlock_9S_Phone_Airport/sm08/#02/data/udp_uplk_loss_latency.csv\n"
     ]
    },
    {
     "data": {
      "application/vnd.jupyter.widget-view+json": {
       "model_id": "ebc4be7e1dde496b8e586f2c6ddb2849",
       "version_major": 2,
       "version_minor": 0
      },
      "text/plain": [
       "  0%|                                                                                                         …"
      ]
     },
     "metadata": {},
     "output_type": "display_data"
    },
    {
     "name": "stdout",
     "output_type": "stream",
     "text": [
      "./20240312_150032342e_newest/20240314_060073cc2b/results/20240314_09375500000_f85b83d4e1645936_1.5corr/\\home\\wmnlab\\jackbedford\\data\\2023-10-26\\UDP_Bandlock_9S_Phone_Airport\\sm06\\#02\\data\\udp_dnlk_loss_latency\\home\\wmnlab\\jackbedford\\data\\2023-10-26\\UDP_Bandlock_9S_Phone_Airport\\sm08\\#02\\data\\udp_dnlk_loss_latency.csv\n",
      "71/216 /home/wmnlab/jackbedford/data/2023-10-26/UDP_Bandlock_9S_Phone_Airport/sm07/#02/data/handover_info_log.csv\n",
      "71/216 /home/wmnlab/jackbedford/data/2023-10-26/UDP_Bandlock_9S_Phone_Airport/sm07/#02/data/udp_dnlk_loss_latency.csv\n",
      "71/216 /home/wmnlab/jackbedford/data/2023-10-26/UDP_Bandlock_9S_Phone_Airport/sm07/#02/data/udp_uplk_loss_latency.csv\n",
      "71/216 /home/wmnlab/jackbedford/data/2023-10-26/UDP_Bandlock_9S_Phone_Airport/sm08/#02/data/handover_info_log.csv\n",
      "71/216 /home/wmnlab/jackbedford/data/2023-10-26/UDP_Bandlock_9S_Phone_Airport/sm08/#02/data/udp_dnlk_loss_latency.csv\n",
      "71/216 /home/wmnlab/jackbedford/data/2023-10-26/UDP_Bandlock_9S_Phone_Airport/sm08/#02/data/udp_uplk_loss_latency.csv\n"
     ]
    },
    {
     "data": {
      "application/vnd.jupyter.widget-view+json": {
       "model_id": "fcc329cdcd85470ca7fffb5784747630",
       "version_major": 2,
       "version_minor": 0
      },
      "text/plain": [
       "  0%|                                                                                                         …"
      ]
     },
     "metadata": {},
     "output_type": "display_data"
    },
    {
     "name": "stdout",
     "output_type": "stream",
     "text": [
      "./20240312_150032342e_newest/20240314_060073cc2b/results/20240314_09375500000_f85b83d4e1645936_1.5corr/\\home\\wmnlab\\jackbedford\\data\\2023-10-26\\UDP_Bandlock_9S_Phone_Airport\\sm07\\#02\\data\\udp_dnlk_loss_latency\\home\\wmnlab\\jackbedford\\data\\2023-10-26\\UDP_Bandlock_9S_Phone_Airport\\sm08\\#02\\data\\udp_dnlk_loss_latency.csv\n",
      "72/216 /home/wmnlab/jackbedford/data/2023-11-01/UDP_Bandlock_9S_Phone_Airport/sm00/#01/data/handover_info_log.csv\n",
      "72/216 /home/wmnlab/jackbedford/data/2023-11-01/UDP_Bandlock_9S_Phone_Airport/sm00/#01/data/udp_dnlk_loss_latency.csv\n",
      "72/216 /home/wmnlab/jackbedford/data/2023-11-01/UDP_Bandlock_9S_Phone_Airport/sm00/#01/data/udp_uplk_loss_latency.csv\n",
      "72/216 /home/wmnlab/jackbedford/data/2023-11-01/UDP_Bandlock_9S_Phone_Airport/sm01/#01/data/handover_info_log.csv\n",
      "72/216 /home/wmnlab/jackbedford/data/2023-11-01/UDP_Bandlock_9S_Phone_Airport/sm01/#01/data/udp_dnlk_loss_latency.csv\n",
      "72/216 /home/wmnlab/jackbedford/data/2023-11-01/UDP_Bandlock_9S_Phone_Airport/sm01/#01/data/udp_uplk_loss_latency.csv\n"
     ]
    },
    {
     "data": {
      "application/vnd.jupyter.widget-view+json": {
       "model_id": "50416bebb1ef40cca6ab4d4ce13a2ec8",
       "version_major": 2,
       "version_minor": 0
      },
      "text/plain": [
       "  0%|                                                                                                         …"
      ]
     },
     "metadata": {},
     "output_type": "display_data"
    },
    {
     "name": "stdout",
     "output_type": "stream",
     "text": [
      "./20240312_150032342e_newest/20240314_060073cc2b/results/20240314_09375500000_f85b83d4e1645936_1.5corr/\\home\\wmnlab\\jackbedford\\data\\2023-11-01\\UDP_Bandlock_9S_Phone_Airport\\sm00\\#01\\data\\udp_dnlk_loss_latency\\home\\wmnlab\\jackbedford\\data\\2023-11-01\\UDP_Bandlock_9S_Phone_Airport\\sm01\\#01\\data\\udp_dnlk_loss_latency.csv\n",
      "73/216 /home/wmnlab/jackbedford/data/2023-11-01/UDP_Bandlock_9S_Phone_Airport/sm00/#01/data/handover_info_log.csv\n",
      "73/216 /home/wmnlab/jackbedford/data/2023-11-01/UDP_Bandlock_9S_Phone_Airport/sm00/#01/data/udp_dnlk_loss_latency.csv\n",
      "73/216 /home/wmnlab/jackbedford/data/2023-11-01/UDP_Bandlock_9S_Phone_Airport/sm00/#01/data/udp_uplk_loss_latency.csv\n",
      "73/216 /home/wmnlab/jackbedford/data/2023-11-01/UDP_Bandlock_9S_Phone_Airport/sm02/#01/data/handover_info_log.csv\n",
      "73/216 /home/wmnlab/jackbedford/data/2023-11-01/UDP_Bandlock_9S_Phone_Airport/sm02/#01/data/udp_dnlk_loss_latency.csv\n",
      "73/216 /home/wmnlab/jackbedford/data/2023-11-01/UDP_Bandlock_9S_Phone_Airport/sm02/#01/data/udp_uplk_loss_latency.csv\n"
     ]
    },
    {
     "data": {
      "application/vnd.jupyter.widget-view+json": {
       "model_id": "a2f534fd968b405b8b822a50a12cf1dc",
       "version_major": 2,
       "version_minor": 0
      },
      "text/plain": [
       "  0%|                                                                                                         …"
      ]
     },
     "metadata": {},
     "output_type": "display_data"
    },
    {
     "name": "stdout",
     "output_type": "stream",
     "text": [
      "./20240312_150032342e_newest/20240314_060073cc2b/results/20240314_09375500000_f85b83d4e1645936_1.5corr/\\home\\wmnlab\\jackbedford\\data\\2023-11-01\\UDP_Bandlock_9S_Phone_Airport\\sm00\\#01\\data\\udp_dnlk_loss_latency\\home\\wmnlab\\jackbedford\\data\\2023-11-01\\UDP_Bandlock_9S_Phone_Airport\\sm02\\#01\\data\\udp_dnlk_loss_latency.csv\n",
      "74/216 /home/wmnlab/jackbedford/data/2023-11-01/UDP_Bandlock_9S_Phone_Airport/sm00/#01/data/handover_info_log.csv\n",
      "74/216 /home/wmnlab/jackbedford/data/2023-11-01/UDP_Bandlock_9S_Phone_Airport/sm00/#01/data/udp_dnlk_loss_latency.csv\n",
      "74/216 /home/wmnlab/jackbedford/data/2023-11-01/UDP_Bandlock_9S_Phone_Airport/sm00/#01/data/udp_uplk_loss_latency.csv\n",
      "74/216 /home/wmnlab/jackbedford/data/2023-11-01/UDP_Bandlock_9S_Phone_Airport/sm03/#01/data/handover_info_log.csv\n",
      "74/216 /home/wmnlab/jackbedford/data/2023-11-01/UDP_Bandlock_9S_Phone_Airport/sm03/#01/data/udp_dnlk_loss_latency.csv\n",
      "74/216 /home/wmnlab/jackbedford/data/2023-11-01/UDP_Bandlock_9S_Phone_Airport/sm03/#01/data/udp_uplk_loss_latency.csv\n"
     ]
    },
    {
     "data": {
      "application/vnd.jupyter.widget-view+json": {
       "model_id": "48c7dfbd808049ab84fae22291e82e5f",
       "version_major": 2,
       "version_minor": 0
      },
      "text/plain": [
       "  0%|                                                                                                         …"
      ]
     },
     "metadata": {},
     "output_type": "display_data"
    },
    {
     "name": "stdout",
     "output_type": "stream",
     "text": [
      "./20240312_150032342e_newest/20240314_060073cc2b/results/20240314_09375500000_f85b83d4e1645936_1.5corr/\\home\\wmnlab\\jackbedford\\data\\2023-11-01\\UDP_Bandlock_9S_Phone_Airport\\sm00\\#01\\data\\udp_dnlk_loss_latency\\home\\wmnlab\\jackbedford\\data\\2023-11-01\\UDP_Bandlock_9S_Phone_Airport\\sm03\\#01\\data\\udp_dnlk_loss_latency.csv\n",
      "75/216 /home/wmnlab/jackbedford/data/2023-11-01/UDP_Bandlock_9S_Phone_Airport/sm00/#01/data/handover_info_log.csv\n",
      "75/216 /home/wmnlab/jackbedford/data/2023-11-01/UDP_Bandlock_9S_Phone_Airport/sm00/#01/data/udp_dnlk_loss_latency.csv\n",
      "75/216 /home/wmnlab/jackbedford/data/2023-11-01/UDP_Bandlock_9S_Phone_Airport/sm00/#01/data/udp_uplk_loss_latency.csv\n",
      "75/216 /home/wmnlab/jackbedford/data/2023-11-01/UDP_Bandlock_9S_Phone_Airport/sm04/#01/data/handover_info_log.csv\n",
      "75/216 /home/wmnlab/jackbedford/data/2023-11-01/UDP_Bandlock_9S_Phone_Airport/sm04/#01/data/udp_dnlk_loss_latency.csv\n",
      "75/216 /home/wmnlab/jackbedford/data/2023-11-01/UDP_Bandlock_9S_Phone_Airport/sm04/#01/data/udp_uplk_loss_latency.csv\n"
     ]
    },
    {
     "data": {
      "application/vnd.jupyter.widget-view+json": {
       "model_id": "bc9c93bea9014a079ee9da402aefcf2d",
       "version_major": 2,
       "version_minor": 0
      },
      "text/plain": [
       "  0%|                                                                                                         …"
      ]
     },
     "metadata": {},
     "output_type": "display_data"
    },
    {
     "name": "stdout",
     "output_type": "stream",
     "text": [
      "./20240312_150032342e_newest/20240314_060073cc2b/results/20240314_09375500000_f85b83d4e1645936_1.5corr/\\home\\wmnlab\\jackbedford\\data\\2023-11-01\\UDP_Bandlock_9S_Phone_Airport\\sm00\\#01\\data\\udp_dnlk_loss_latency\\home\\wmnlab\\jackbedford\\data\\2023-11-01\\UDP_Bandlock_9S_Phone_Airport\\sm04\\#01\\data\\udp_dnlk_loss_latency.csv\n",
      "76/216 /home/wmnlab/jackbedford/data/2023-11-01/UDP_Bandlock_9S_Phone_Airport/sm00/#01/data/handover_info_log.csv\n",
      "76/216 /home/wmnlab/jackbedford/data/2023-11-01/UDP_Bandlock_9S_Phone_Airport/sm00/#01/data/udp_dnlk_loss_latency.csv\n",
      "76/216 /home/wmnlab/jackbedford/data/2023-11-01/UDP_Bandlock_9S_Phone_Airport/sm00/#01/data/udp_uplk_loss_latency.csv\n",
      "76/216 /home/wmnlab/jackbedford/data/2023-11-01/UDP_Bandlock_9S_Phone_Airport/sm05/#01/data/handover_info_log.csv\n",
      "76/216 /home/wmnlab/jackbedford/data/2023-11-01/UDP_Bandlock_9S_Phone_Airport/sm05/#01/data/udp_dnlk_loss_latency.csv\n",
      "76/216 /home/wmnlab/jackbedford/data/2023-11-01/UDP_Bandlock_9S_Phone_Airport/sm05/#01/data/udp_uplk_loss_latency.csv\n"
     ]
    },
    {
     "data": {
      "application/vnd.jupyter.widget-view+json": {
       "model_id": "2d6081122ccd4f82918b23d3a22744df",
       "version_major": 2,
       "version_minor": 0
      },
      "text/plain": [
       "  0%|                                                                                                         …"
      ]
     },
     "metadata": {},
     "output_type": "display_data"
    },
    {
     "name": "stdout",
     "output_type": "stream",
     "text": [
      "./20240312_150032342e_newest/20240314_060073cc2b/results/20240314_09375500000_f85b83d4e1645936_1.5corr/\\home\\wmnlab\\jackbedford\\data\\2023-11-01\\UDP_Bandlock_9S_Phone_Airport\\sm00\\#01\\data\\udp_dnlk_loss_latency\\home\\wmnlab\\jackbedford\\data\\2023-11-01\\UDP_Bandlock_9S_Phone_Airport\\sm05\\#01\\data\\udp_dnlk_loss_latency.csv\n",
      "77/216 /home/wmnlab/jackbedford/data/2023-11-01/UDP_Bandlock_9S_Phone_Airport/sm00/#01/data/handover_info_log.csv\n",
      "77/216 /home/wmnlab/jackbedford/data/2023-11-01/UDP_Bandlock_9S_Phone_Airport/sm00/#01/data/udp_dnlk_loss_latency.csv\n",
      "77/216 /home/wmnlab/jackbedford/data/2023-11-01/UDP_Bandlock_9S_Phone_Airport/sm00/#01/data/udp_uplk_loss_latency.csv\n",
      "77/216 /home/wmnlab/jackbedford/data/2023-11-01/UDP_Bandlock_9S_Phone_Airport/sm06/#01/data/handover_info_log.csv\n",
      "77/216 /home/wmnlab/jackbedford/data/2023-11-01/UDP_Bandlock_9S_Phone_Airport/sm06/#01/data/udp_dnlk_loss_latency.csv\n",
      "77/216 /home/wmnlab/jackbedford/data/2023-11-01/UDP_Bandlock_9S_Phone_Airport/sm06/#01/data/udp_uplk_loss_latency.csv\n"
     ]
    },
    {
     "data": {
      "application/vnd.jupyter.widget-view+json": {
       "model_id": "3aa108acbd7143639657476867d16d3d",
       "version_major": 2,
       "version_minor": 0
      },
      "text/plain": [
       "  0%|                                                                                                         …"
      ]
     },
     "metadata": {},
     "output_type": "display_data"
    },
    {
     "name": "stdout",
     "output_type": "stream",
     "text": [
      "./20240312_150032342e_newest/20240314_060073cc2b/results/20240314_09375500000_f85b83d4e1645936_1.5corr/\\home\\wmnlab\\jackbedford\\data\\2023-11-01\\UDP_Bandlock_9S_Phone_Airport\\sm00\\#01\\data\\udp_dnlk_loss_latency\\home\\wmnlab\\jackbedford\\data\\2023-11-01\\UDP_Bandlock_9S_Phone_Airport\\sm06\\#01\\data\\udp_dnlk_loss_latency.csv\n",
      "78/216 /home/wmnlab/jackbedford/data/2023-11-01/UDP_Bandlock_9S_Phone_Airport/sm00/#01/data/handover_info_log.csv\n",
      "78/216 /home/wmnlab/jackbedford/data/2023-11-01/UDP_Bandlock_9S_Phone_Airport/sm00/#01/data/udp_dnlk_loss_latency.csv\n",
      "78/216 /home/wmnlab/jackbedford/data/2023-11-01/UDP_Bandlock_9S_Phone_Airport/sm00/#01/data/udp_uplk_loss_latency.csv\n",
      "78/216 /home/wmnlab/jackbedford/data/2023-11-01/UDP_Bandlock_9S_Phone_Airport/sm07/#01/data/handover_info_log.csv\n",
      "78/216 /home/wmnlab/jackbedford/data/2023-11-01/UDP_Bandlock_9S_Phone_Airport/sm07/#01/data/udp_dnlk_loss_latency.csv\n",
      "78/216 /home/wmnlab/jackbedford/data/2023-11-01/UDP_Bandlock_9S_Phone_Airport/sm07/#01/data/udp_uplk_loss_latency.csv\n"
     ]
    },
    {
     "data": {
      "application/vnd.jupyter.widget-view+json": {
       "model_id": "de799e48d4f4472f9ac86b8eadd385bd",
       "version_major": 2,
       "version_minor": 0
      },
      "text/plain": [
       "  0%|                                                                                                         …"
      ]
     },
     "metadata": {},
     "output_type": "display_data"
    },
    {
     "name": "stdout",
     "output_type": "stream",
     "text": [
      "./20240312_150032342e_newest/20240314_060073cc2b/results/20240314_09375500000_f85b83d4e1645936_1.5corr/\\home\\wmnlab\\jackbedford\\data\\2023-11-01\\UDP_Bandlock_9S_Phone_Airport\\sm00\\#01\\data\\udp_dnlk_loss_latency\\home\\wmnlab\\jackbedford\\data\\2023-11-01\\UDP_Bandlock_9S_Phone_Airport\\sm07\\#01\\data\\udp_dnlk_loss_latency.csv\n",
      "79/216 /home/wmnlab/jackbedford/data/2023-11-01/UDP_Bandlock_9S_Phone_Airport/sm00/#01/data/handover_info_log.csv\n",
      "79/216 /home/wmnlab/jackbedford/data/2023-11-01/UDP_Bandlock_9S_Phone_Airport/sm00/#01/data/udp_dnlk_loss_latency.csv\n",
      "79/216 /home/wmnlab/jackbedford/data/2023-11-01/UDP_Bandlock_9S_Phone_Airport/sm00/#01/data/udp_uplk_loss_latency.csv\n",
      "79/216 /home/wmnlab/jackbedford/data/2023-11-01/UDP_Bandlock_9S_Phone_Airport/sm08/#01/data/handover_info_log.csv\n",
      "79/216 /home/wmnlab/jackbedford/data/2023-11-01/UDP_Bandlock_9S_Phone_Airport/sm08/#01/data/udp_dnlk_loss_latency.csv\n",
      "79/216 /home/wmnlab/jackbedford/data/2023-11-01/UDP_Bandlock_9S_Phone_Airport/sm08/#01/data/udp_uplk_loss_latency.csv\n"
     ]
    },
    {
     "data": {
      "application/vnd.jupyter.widget-view+json": {
       "model_id": "e2e7afddb6724055a40d1dbe8f86bd30",
       "version_major": 2,
       "version_minor": 0
      },
      "text/plain": [
       "  0%|                                                                                                         …"
      ]
     },
     "metadata": {},
     "output_type": "display_data"
    },
    {
     "name": "stdout",
     "output_type": "stream",
     "text": [
      "./20240312_150032342e_newest/20240314_060073cc2b/results/20240314_09375500000_f85b83d4e1645936_1.5corr/\\home\\wmnlab\\jackbedford\\data\\2023-11-01\\UDP_Bandlock_9S_Phone_Airport\\sm00\\#01\\data\\udp_dnlk_loss_latency\\home\\wmnlab\\jackbedford\\data\\2023-11-01\\UDP_Bandlock_9S_Phone_Airport\\sm08\\#01\\data\\udp_dnlk_loss_latency.csv\n",
      "80/216 /home/wmnlab/jackbedford/data/2023-11-01/UDP_Bandlock_9S_Phone_Airport/sm01/#01/data/handover_info_log.csv\n",
      "80/216 /home/wmnlab/jackbedford/data/2023-11-01/UDP_Bandlock_9S_Phone_Airport/sm01/#01/data/udp_dnlk_loss_latency.csv\n",
      "80/216 /home/wmnlab/jackbedford/data/2023-11-01/UDP_Bandlock_9S_Phone_Airport/sm01/#01/data/udp_uplk_loss_latency.csv\n",
      "80/216 /home/wmnlab/jackbedford/data/2023-11-01/UDP_Bandlock_9S_Phone_Airport/sm02/#01/data/handover_info_log.csv\n",
      "80/216 /home/wmnlab/jackbedford/data/2023-11-01/UDP_Bandlock_9S_Phone_Airport/sm02/#01/data/udp_dnlk_loss_latency.csv\n",
      "80/216 /home/wmnlab/jackbedford/data/2023-11-01/UDP_Bandlock_9S_Phone_Airport/sm02/#01/data/udp_uplk_loss_latency.csv\n"
     ]
    },
    {
     "data": {
      "application/vnd.jupyter.widget-view+json": {
       "model_id": "5ead4c3158a04008905dcac934005aa5",
       "version_major": 2,
       "version_minor": 0
      },
      "text/plain": [
       "  0%|                                                                                                         …"
      ]
     },
     "metadata": {},
     "output_type": "display_data"
    },
    {
     "name": "stdout",
     "output_type": "stream",
     "text": [
      "./20240312_150032342e_newest/20240314_060073cc2b/results/20240314_09375500000_f85b83d4e1645936_1.5corr/\\home\\wmnlab\\jackbedford\\data\\2023-11-01\\UDP_Bandlock_9S_Phone_Airport\\sm01\\#01\\data\\udp_dnlk_loss_latency\\home\\wmnlab\\jackbedford\\data\\2023-11-01\\UDP_Bandlock_9S_Phone_Airport\\sm02\\#01\\data\\udp_dnlk_loss_latency.csv\n",
      "81/216 /home/wmnlab/jackbedford/data/2023-11-01/UDP_Bandlock_9S_Phone_Airport/sm01/#01/data/handover_info_log.csv\n",
      "81/216 /home/wmnlab/jackbedford/data/2023-11-01/UDP_Bandlock_9S_Phone_Airport/sm01/#01/data/udp_dnlk_loss_latency.csv\n",
      "81/216 /home/wmnlab/jackbedford/data/2023-11-01/UDP_Bandlock_9S_Phone_Airport/sm01/#01/data/udp_uplk_loss_latency.csv\n",
      "81/216 /home/wmnlab/jackbedford/data/2023-11-01/UDP_Bandlock_9S_Phone_Airport/sm03/#01/data/handover_info_log.csv\n",
      "81/216 /home/wmnlab/jackbedford/data/2023-11-01/UDP_Bandlock_9S_Phone_Airport/sm03/#01/data/udp_dnlk_loss_latency.csv\n",
      "81/216 /home/wmnlab/jackbedford/data/2023-11-01/UDP_Bandlock_9S_Phone_Airport/sm03/#01/data/udp_uplk_loss_latency.csv\n"
     ]
    },
    {
     "data": {
      "application/vnd.jupyter.widget-view+json": {
       "model_id": "c898393201cd4cf2ade4f4271048560d",
       "version_major": 2,
       "version_minor": 0
      },
      "text/plain": [
       "  0%|                                                                                                         …"
      ]
     },
     "metadata": {},
     "output_type": "display_data"
    },
    {
     "name": "stdout",
     "output_type": "stream",
     "text": [
      "./20240312_150032342e_newest/20240314_060073cc2b/results/20240314_09375500000_f85b83d4e1645936_1.5corr/\\home\\wmnlab\\jackbedford\\data\\2023-11-01\\UDP_Bandlock_9S_Phone_Airport\\sm01\\#01\\data\\udp_dnlk_loss_latency\\home\\wmnlab\\jackbedford\\data\\2023-11-01\\UDP_Bandlock_9S_Phone_Airport\\sm03\\#01\\data\\udp_dnlk_loss_latency.csv\n",
      "82/216 /home/wmnlab/jackbedford/data/2023-11-01/UDP_Bandlock_9S_Phone_Airport/sm01/#01/data/handover_info_log.csv\n",
      "82/216 /home/wmnlab/jackbedford/data/2023-11-01/UDP_Bandlock_9S_Phone_Airport/sm01/#01/data/udp_dnlk_loss_latency.csv\n",
      "82/216 /home/wmnlab/jackbedford/data/2023-11-01/UDP_Bandlock_9S_Phone_Airport/sm01/#01/data/udp_uplk_loss_latency.csv\n",
      "82/216 /home/wmnlab/jackbedford/data/2023-11-01/UDP_Bandlock_9S_Phone_Airport/sm04/#01/data/handover_info_log.csv\n",
      "82/216 /home/wmnlab/jackbedford/data/2023-11-01/UDP_Bandlock_9S_Phone_Airport/sm04/#01/data/udp_dnlk_loss_latency.csv\n",
      "82/216 /home/wmnlab/jackbedford/data/2023-11-01/UDP_Bandlock_9S_Phone_Airport/sm04/#01/data/udp_uplk_loss_latency.csv\n"
     ]
    },
    {
     "data": {
      "application/vnd.jupyter.widget-view+json": {
       "model_id": "6bd9b4e8f4ad4daaa3c68572868ee398",
       "version_major": 2,
       "version_minor": 0
      },
      "text/plain": [
       "  0%|                                                                                                         …"
      ]
     },
     "metadata": {},
     "output_type": "display_data"
    },
    {
     "name": "stdout",
     "output_type": "stream",
     "text": [
      "./20240312_150032342e_newest/20240314_060073cc2b/results/20240314_09375500000_f85b83d4e1645936_1.5corr/\\home\\wmnlab\\jackbedford\\data\\2023-11-01\\UDP_Bandlock_9S_Phone_Airport\\sm01\\#01\\data\\udp_dnlk_loss_latency\\home\\wmnlab\\jackbedford\\data\\2023-11-01\\UDP_Bandlock_9S_Phone_Airport\\sm04\\#01\\data\\udp_dnlk_loss_latency.csv\n",
      "83/216 /home/wmnlab/jackbedford/data/2023-11-01/UDP_Bandlock_9S_Phone_Airport/sm01/#01/data/handover_info_log.csv\n",
      "83/216 /home/wmnlab/jackbedford/data/2023-11-01/UDP_Bandlock_9S_Phone_Airport/sm01/#01/data/udp_dnlk_loss_latency.csv\n",
      "83/216 /home/wmnlab/jackbedford/data/2023-11-01/UDP_Bandlock_9S_Phone_Airport/sm01/#01/data/udp_uplk_loss_latency.csv\n",
      "83/216 /home/wmnlab/jackbedford/data/2023-11-01/UDP_Bandlock_9S_Phone_Airport/sm05/#01/data/handover_info_log.csv\n",
      "83/216 /home/wmnlab/jackbedford/data/2023-11-01/UDP_Bandlock_9S_Phone_Airport/sm05/#01/data/udp_dnlk_loss_latency.csv\n",
      "83/216 /home/wmnlab/jackbedford/data/2023-11-01/UDP_Bandlock_9S_Phone_Airport/sm05/#01/data/udp_uplk_loss_latency.csv\n"
     ]
    },
    {
     "data": {
      "application/vnd.jupyter.widget-view+json": {
       "model_id": "793e74b35a324ed28621bc0df3883037",
       "version_major": 2,
       "version_minor": 0
      },
      "text/plain": [
       "  0%|                                                                                                         …"
      ]
     },
     "metadata": {},
     "output_type": "display_data"
    },
    {
     "name": "stdout",
     "output_type": "stream",
     "text": [
      "./20240312_150032342e_newest/20240314_060073cc2b/results/20240314_09375500000_f85b83d4e1645936_1.5corr/\\home\\wmnlab\\jackbedford\\data\\2023-11-01\\UDP_Bandlock_9S_Phone_Airport\\sm01\\#01\\data\\udp_dnlk_loss_latency\\home\\wmnlab\\jackbedford\\data\\2023-11-01\\UDP_Bandlock_9S_Phone_Airport\\sm05\\#01\\data\\udp_dnlk_loss_latency.csv\n",
      "84/216 /home/wmnlab/jackbedford/data/2023-11-01/UDP_Bandlock_9S_Phone_Airport/sm01/#01/data/handover_info_log.csv\n",
      "84/216 /home/wmnlab/jackbedford/data/2023-11-01/UDP_Bandlock_9S_Phone_Airport/sm01/#01/data/udp_dnlk_loss_latency.csv\n",
      "84/216 /home/wmnlab/jackbedford/data/2023-11-01/UDP_Bandlock_9S_Phone_Airport/sm01/#01/data/udp_uplk_loss_latency.csv\n",
      "84/216 /home/wmnlab/jackbedford/data/2023-11-01/UDP_Bandlock_9S_Phone_Airport/sm06/#01/data/handover_info_log.csv\n",
      "84/216 /home/wmnlab/jackbedford/data/2023-11-01/UDP_Bandlock_9S_Phone_Airport/sm06/#01/data/udp_dnlk_loss_latency.csv\n",
      "84/216 /home/wmnlab/jackbedford/data/2023-11-01/UDP_Bandlock_9S_Phone_Airport/sm06/#01/data/udp_uplk_loss_latency.csv\n"
     ]
    },
    {
     "data": {
      "application/vnd.jupyter.widget-view+json": {
       "model_id": "154cb09712204287a83c466e595f3a12",
       "version_major": 2,
       "version_minor": 0
      },
      "text/plain": [
       "  0%|                                                                                                         …"
      ]
     },
     "metadata": {},
     "output_type": "display_data"
    },
    {
     "name": "stdout",
     "output_type": "stream",
     "text": [
      "./20240312_150032342e_newest/20240314_060073cc2b/results/20240314_09375500000_f85b83d4e1645936_1.5corr/\\home\\wmnlab\\jackbedford\\data\\2023-11-01\\UDP_Bandlock_9S_Phone_Airport\\sm01\\#01\\data\\udp_dnlk_loss_latency\\home\\wmnlab\\jackbedford\\data\\2023-11-01\\UDP_Bandlock_9S_Phone_Airport\\sm06\\#01\\data\\udp_dnlk_loss_latency.csv\n",
      "85/216 /home/wmnlab/jackbedford/data/2023-11-01/UDP_Bandlock_9S_Phone_Airport/sm01/#01/data/handover_info_log.csv\n",
      "85/216 /home/wmnlab/jackbedford/data/2023-11-01/UDP_Bandlock_9S_Phone_Airport/sm01/#01/data/udp_dnlk_loss_latency.csv\n",
      "85/216 /home/wmnlab/jackbedford/data/2023-11-01/UDP_Bandlock_9S_Phone_Airport/sm01/#01/data/udp_uplk_loss_latency.csv\n",
      "85/216 /home/wmnlab/jackbedford/data/2023-11-01/UDP_Bandlock_9S_Phone_Airport/sm07/#01/data/handover_info_log.csv\n",
      "85/216 /home/wmnlab/jackbedford/data/2023-11-01/UDP_Bandlock_9S_Phone_Airport/sm07/#01/data/udp_dnlk_loss_latency.csv\n",
      "85/216 /home/wmnlab/jackbedford/data/2023-11-01/UDP_Bandlock_9S_Phone_Airport/sm07/#01/data/udp_uplk_loss_latency.csv\n"
     ]
    },
    {
     "data": {
      "application/vnd.jupyter.widget-view+json": {
       "model_id": "5912d9567ed04ef78fadd361405be2a1",
       "version_major": 2,
       "version_minor": 0
      },
      "text/plain": [
       "  0%|                                                                                                         …"
      ]
     },
     "metadata": {},
     "output_type": "display_data"
    },
    {
     "name": "stdout",
     "output_type": "stream",
     "text": [
      "./20240312_150032342e_newest/20240314_060073cc2b/results/20240314_09375500000_f85b83d4e1645936_1.5corr/\\home\\wmnlab\\jackbedford\\data\\2023-11-01\\UDP_Bandlock_9S_Phone_Airport\\sm01\\#01\\data\\udp_dnlk_loss_latency\\home\\wmnlab\\jackbedford\\data\\2023-11-01\\UDP_Bandlock_9S_Phone_Airport\\sm07\\#01\\data\\udp_dnlk_loss_latency.csv\n",
      "86/216 /home/wmnlab/jackbedford/data/2023-11-01/UDP_Bandlock_9S_Phone_Airport/sm01/#01/data/handover_info_log.csv\n",
      "86/216 /home/wmnlab/jackbedford/data/2023-11-01/UDP_Bandlock_9S_Phone_Airport/sm01/#01/data/udp_dnlk_loss_latency.csv\n",
      "86/216 /home/wmnlab/jackbedford/data/2023-11-01/UDP_Bandlock_9S_Phone_Airport/sm01/#01/data/udp_uplk_loss_latency.csv\n",
      "86/216 /home/wmnlab/jackbedford/data/2023-11-01/UDP_Bandlock_9S_Phone_Airport/sm08/#01/data/handover_info_log.csv\n",
      "86/216 /home/wmnlab/jackbedford/data/2023-11-01/UDP_Bandlock_9S_Phone_Airport/sm08/#01/data/udp_dnlk_loss_latency.csv\n",
      "86/216 /home/wmnlab/jackbedford/data/2023-11-01/UDP_Bandlock_9S_Phone_Airport/sm08/#01/data/udp_uplk_loss_latency.csv\n"
     ]
    },
    {
     "data": {
      "application/vnd.jupyter.widget-view+json": {
       "model_id": "d58c8ef8e20d4717958615a7272ea885",
       "version_major": 2,
       "version_minor": 0
      },
      "text/plain": [
       "  0%|                                                                                                         …"
      ]
     },
     "metadata": {},
     "output_type": "display_data"
    },
    {
     "name": "stdout",
     "output_type": "stream",
     "text": [
      "./20240312_150032342e_newest/20240314_060073cc2b/results/20240314_09375500000_f85b83d4e1645936_1.5corr/\\home\\wmnlab\\jackbedford\\data\\2023-11-01\\UDP_Bandlock_9S_Phone_Airport\\sm01\\#01\\data\\udp_dnlk_loss_latency\\home\\wmnlab\\jackbedford\\data\\2023-11-01\\UDP_Bandlock_9S_Phone_Airport\\sm08\\#01\\data\\udp_dnlk_loss_latency.csv\n",
      "87/216 /home/wmnlab/jackbedford/data/2023-11-01/UDP_Bandlock_9S_Phone_Airport/sm02/#01/data/handover_info_log.csv\n",
      "87/216 /home/wmnlab/jackbedford/data/2023-11-01/UDP_Bandlock_9S_Phone_Airport/sm02/#01/data/udp_dnlk_loss_latency.csv\n",
      "87/216 /home/wmnlab/jackbedford/data/2023-11-01/UDP_Bandlock_9S_Phone_Airport/sm02/#01/data/udp_uplk_loss_latency.csv\n",
      "87/216 /home/wmnlab/jackbedford/data/2023-11-01/UDP_Bandlock_9S_Phone_Airport/sm03/#01/data/handover_info_log.csv\n",
      "87/216 /home/wmnlab/jackbedford/data/2023-11-01/UDP_Bandlock_9S_Phone_Airport/sm03/#01/data/udp_dnlk_loss_latency.csv\n",
      "87/216 /home/wmnlab/jackbedford/data/2023-11-01/UDP_Bandlock_9S_Phone_Airport/sm03/#01/data/udp_uplk_loss_latency.csv\n"
     ]
    },
    {
     "data": {
      "application/vnd.jupyter.widget-view+json": {
       "model_id": "553fa60a83cc4c3194fca0d33d8fe196",
       "version_major": 2,
       "version_minor": 0
      },
      "text/plain": [
       "  0%|                                                                                                         …"
      ]
     },
     "metadata": {},
     "output_type": "display_data"
    },
    {
     "name": "stdout",
     "output_type": "stream",
     "text": [
      "./20240312_150032342e_newest/20240314_060073cc2b/results/20240314_09375500000_f85b83d4e1645936_1.5corr/\\home\\wmnlab\\jackbedford\\data\\2023-11-01\\UDP_Bandlock_9S_Phone_Airport\\sm02\\#01\\data\\udp_dnlk_loss_latency\\home\\wmnlab\\jackbedford\\data\\2023-11-01\\UDP_Bandlock_9S_Phone_Airport\\sm03\\#01\\data\\udp_dnlk_loss_latency.csv\n",
      "88/216 /home/wmnlab/jackbedford/data/2023-11-01/UDP_Bandlock_9S_Phone_Airport/sm02/#01/data/handover_info_log.csv\n",
      "88/216 /home/wmnlab/jackbedford/data/2023-11-01/UDP_Bandlock_9S_Phone_Airport/sm02/#01/data/udp_dnlk_loss_latency.csv\n",
      "88/216 /home/wmnlab/jackbedford/data/2023-11-01/UDP_Bandlock_9S_Phone_Airport/sm02/#01/data/udp_uplk_loss_latency.csv\n",
      "88/216 /home/wmnlab/jackbedford/data/2023-11-01/UDP_Bandlock_9S_Phone_Airport/sm04/#01/data/handover_info_log.csv\n",
      "88/216 /home/wmnlab/jackbedford/data/2023-11-01/UDP_Bandlock_9S_Phone_Airport/sm04/#01/data/udp_dnlk_loss_latency.csv\n",
      "88/216 /home/wmnlab/jackbedford/data/2023-11-01/UDP_Bandlock_9S_Phone_Airport/sm04/#01/data/udp_uplk_loss_latency.csv\n"
     ]
    },
    {
     "data": {
      "application/vnd.jupyter.widget-view+json": {
       "model_id": "67b9480199a041048d92d303f6878e6f",
       "version_major": 2,
       "version_minor": 0
      },
      "text/plain": [
       "  0%|                                                                                                         …"
      ]
     },
     "metadata": {},
     "output_type": "display_data"
    },
    {
     "name": "stdout",
     "output_type": "stream",
     "text": [
      "./20240312_150032342e_newest/20240314_060073cc2b/results/20240314_09375500000_f85b83d4e1645936_1.5corr/\\home\\wmnlab\\jackbedford\\data\\2023-11-01\\UDP_Bandlock_9S_Phone_Airport\\sm02\\#01\\data\\udp_dnlk_loss_latency\\home\\wmnlab\\jackbedford\\data\\2023-11-01\\UDP_Bandlock_9S_Phone_Airport\\sm04\\#01\\data\\udp_dnlk_loss_latency.csv\n",
      "89/216 /home/wmnlab/jackbedford/data/2023-11-01/UDP_Bandlock_9S_Phone_Airport/sm02/#01/data/handover_info_log.csv\n",
      "89/216 /home/wmnlab/jackbedford/data/2023-11-01/UDP_Bandlock_9S_Phone_Airport/sm02/#01/data/udp_dnlk_loss_latency.csv\n",
      "89/216 /home/wmnlab/jackbedford/data/2023-11-01/UDP_Bandlock_9S_Phone_Airport/sm02/#01/data/udp_uplk_loss_latency.csv\n",
      "89/216 /home/wmnlab/jackbedford/data/2023-11-01/UDP_Bandlock_9S_Phone_Airport/sm05/#01/data/handover_info_log.csv\n",
      "89/216 /home/wmnlab/jackbedford/data/2023-11-01/UDP_Bandlock_9S_Phone_Airport/sm05/#01/data/udp_dnlk_loss_latency.csv\n",
      "89/216 /home/wmnlab/jackbedford/data/2023-11-01/UDP_Bandlock_9S_Phone_Airport/sm05/#01/data/udp_uplk_loss_latency.csv\n"
     ]
    },
    {
     "data": {
      "application/vnd.jupyter.widget-view+json": {
       "model_id": "e1a2956f64a24181890610b86511217b",
       "version_major": 2,
       "version_minor": 0
      },
      "text/plain": [
       "  0%|                                                                                                         …"
      ]
     },
     "metadata": {},
     "output_type": "display_data"
    },
    {
     "name": "stdout",
     "output_type": "stream",
     "text": [
      "./20240312_150032342e_newest/20240314_060073cc2b/results/20240314_09375500000_f85b83d4e1645936_1.5corr/\\home\\wmnlab\\jackbedford\\data\\2023-11-01\\UDP_Bandlock_9S_Phone_Airport\\sm02\\#01\\data\\udp_dnlk_loss_latency\\home\\wmnlab\\jackbedford\\data\\2023-11-01\\UDP_Bandlock_9S_Phone_Airport\\sm05\\#01\\data\\udp_dnlk_loss_latency.csv\n",
      "90/216 /home/wmnlab/jackbedford/data/2023-11-01/UDP_Bandlock_9S_Phone_Airport/sm02/#01/data/handover_info_log.csv\n",
      "90/216 /home/wmnlab/jackbedford/data/2023-11-01/UDP_Bandlock_9S_Phone_Airport/sm02/#01/data/udp_dnlk_loss_latency.csv\n",
      "90/216 /home/wmnlab/jackbedford/data/2023-11-01/UDP_Bandlock_9S_Phone_Airport/sm02/#01/data/udp_uplk_loss_latency.csv\n",
      "90/216 /home/wmnlab/jackbedford/data/2023-11-01/UDP_Bandlock_9S_Phone_Airport/sm06/#01/data/handover_info_log.csv\n",
      "90/216 /home/wmnlab/jackbedford/data/2023-11-01/UDP_Bandlock_9S_Phone_Airport/sm06/#01/data/udp_dnlk_loss_latency.csv\n",
      "90/216 /home/wmnlab/jackbedford/data/2023-11-01/UDP_Bandlock_9S_Phone_Airport/sm06/#01/data/udp_uplk_loss_latency.csv\n"
     ]
    },
    {
     "data": {
      "application/vnd.jupyter.widget-view+json": {
       "model_id": "d7017c7b98e349b29231cb1df4696f93",
       "version_major": 2,
       "version_minor": 0
      },
      "text/plain": [
       "  0%|                                                                                                         …"
      ]
     },
     "metadata": {},
     "output_type": "display_data"
    },
    {
     "name": "stdout",
     "output_type": "stream",
     "text": [
      "./20240312_150032342e_newest/20240314_060073cc2b/results/20240314_09375500000_f85b83d4e1645936_1.5corr/\\home\\wmnlab\\jackbedford\\data\\2023-11-01\\UDP_Bandlock_9S_Phone_Airport\\sm02\\#01\\data\\udp_dnlk_loss_latency\\home\\wmnlab\\jackbedford\\data\\2023-11-01\\UDP_Bandlock_9S_Phone_Airport\\sm06\\#01\\data\\udp_dnlk_loss_latency.csv\n",
      "91/216 /home/wmnlab/jackbedford/data/2023-11-01/UDP_Bandlock_9S_Phone_Airport/sm02/#01/data/handover_info_log.csv\n",
      "91/216 /home/wmnlab/jackbedford/data/2023-11-01/UDP_Bandlock_9S_Phone_Airport/sm02/#01/data/udp_dnlk_loss_latency.csv\n",
      "91/216 /home/wmnlab/jackbedford/data/2023-11-01/UDP_Bandlock_9S_Phone_Airport/sm02/#01/data/udp_uplk_loss_latency.csv\n",
      "91/216 /home/wmnlab/jackbedford/data/2023-11-01/UDP_Bandlock_9S_Phone_Airport/sm07/#01/data/handover_info_log.csv\n",
      "91/216 /home/wmnlab/jackbedford/data/2023-11-01/UDP_Bandlock_9S_Phone_Airport/sm07/#01/data/udp_dnlk_loss_latency.csv\n",
      "91/216 /home/wmnlab/jackbedford/data/2023-11-01/UDP_Bandlock_9S_Phone_Airport/sm07/#01/data/udp_uplk_loss_latency.csv\n"
     ]
    },
    {
     "data": {
      "application/vnd.jupyter.widget-view+json": {
       "model_id": "d7525c312e574d00913da19a6f59e1c9",
       "version_major": 2,
       "version_minor": 0
      },
      "text/plain": [
       "  0%|                                                                                                         …"
      ]
     },
     "metadata": {},
     "output_type": "display_data"
    },
    {
     "name": "stdout",
     "output_type": "stream",
     "text": [
      "./20240312_150032342e_newest/20240314_060073cc2b/results/20240314_09375500000_f85b83d4e1645936_1.5corr/\\home\\wmnlab\\jackbedford\\data\\2023-11-01\\UDP_Bandlock_9S_Phone_Airport\\sm02\\#01\\data\\udp_dnlk_loss_latency\\home\\wmnlab\\jackbedford\\data\\2023-11-01\\UDP_Bandlock_9S_Phone_Airport\\sm07\\#01\\data\\udp_dnlk_loss_latency.csv\n",
      "92/216 /home/wmnlab/jackbedford/data/2023-11-01/UDP_Bandlock_9S_Phone_Airport/sm02/#01/data/handover_info_log.csv\n",
      "92/216 /home/wmnlab/jackbedford/data/2023-11-01/UDP_Bandlock_9S_Phone_Airport/sm02/#01/data/udp_dnlk_loss_latency.csv\n",
      "92/216 /home/wmnlab/jackbedford/data/2023-11-01/UDP_Bandlock_9S_Phone_Airport/sm02/#01/data/udp_uplk_loss_latency.csv\n",
      "92/216 /home/wmnlab/jackbedford/data/2023-11-01/UDP_Bandlock_9S_Phone_Airport/sm08/#01/data/handover_info_log.csv\n",
      "92/216 /home/wmnlab/jackbedford/data/2023-11-01/UDP_Bandlock_9S_Phone_Airport/sm08/#01/data/udp_dnlk_loss_latency.csv\n",
      "92/216 /home/wmnlab/jackbedford/data/2023-11-01/UDP_Bandlock_9S_Phone_Airport/sm08/#01/data/udp_uplk_loss_latency.csv\n"
     ]
    },
    {
     "data": {
      "application/vnd.jupyter.widget-view+json": {
       "model_id": "53c7638e4e414500bdfca557d66195d6",
       "version_major": 2,
       "version_minor": 0
      },
      "text/plain": [
       "  0%|                                                                                                         …"
      ]
     },
     "metadata": {},
     "output_type": "display_data"
    },
    {
     "name": "stdout",
     "output_type": "stream",
     "text": [
      "./20240312_150032342e_newest/20240314_060073cc2b/results/20240314_09375500000_f85b83d4e1645936_1.5corr/\\home\\wmnlab\\jackbedford\\data\\2023-11-01\\UDP_Bandlock_9S_Phone_Airport\\sm02\\#01\\data\\udp_dnlk_loss_latency\\home\\wmnlab\\jackbedford\\data\\2023-11-01\\UDP_Bandlock_9S_Phone_Airport\\sm08\\#01\\data\\udp_dnlk_loss_latency.csv\n",
      "93/216 /home/wmnlab/jackbedford/data/2023-11-01/UDP_Bandlock_9S_Phone_Airport/sm03/#01/data/handover_info_log.csv\n",
      "93/216 /home/wmnlab/jackbedford/data/2023-11-01/UDP_Bandlock_9S_Phone_Airport/sm03/#01/data/udp_dnlk_loss_latency.csv\n",
      "93/216 /home/wmnlab/jackbedford/data/2023-11-01/UDP_Bandlock_9S_Phone_Airport/sm03/#01/data/udp_uplk_loss_latency.csv\n",
      "93/216 /home/wmnlab/jackbedford/data/2023-11-01/UDP_Bandlock_9S_Phone_Airport/sm04/#01/data/handover_info_log.csv\n",
      "93/216 /home/wmnlab/jackbedford/data/2023-11-01/UDP_Bandlock_9S_Phone_Airport/sm04/#01/data/udp_dnlk_loss_latency.csv\n",
      "93/216 /home/wmnlab/jackbedford/data/2023-11-01/UDP_Bandlock_9S_Phone_Airport/sm04/#01/data/udp_uplk_loss_latency.csv\n"
     ]
    },
    {
     "data": {
      "application/vnd.jupyter.widget-view+json": {
       "model_id": "45afbcdd3b6d4415be99cf2b5dbb6102",
       "version_major": 2,
       "version_minor": 0
      },
      "text/plain": [
       "  0%|                                                                                                         …"
      ]
     },
     "metadata": {},
     "output_type": "display_data"
    },
    {
     "name": "stdout",
     "output_type": "stream",
     "text": [
      "./20240312_150032342e_newest/20240314_060073cc2b/results/20240314_09375500000_f85b83d4e1645936_1.5corr/\\home\\wmnlab\\jackbedford\\data\\2023-11-01\\UDP_Bandlock_9S_Phone_Airport\\sm03\\#01\\data\\udp_dnlk_loss_latency\\home\\wmnlab\\jackbedford\\data\\2023-11-01\\UDP_Bandlock_9S_Phone_Airport\\sm04\\#01\\data\\udp_dnlk_loss_latency.csv\n",
      "94/216 /home/wmnlab/jackbedford/data/2023-11-01/UDP_Bandlock_9S_Phone_Airport/sm03/#01/data/handover_info_log.csv\n",
      "94/216 /home/wmnlab/jackbedford/data/2023-11-01/UDP_Bandlock_9S_Phone_Airport/sm03/#01/data/udp_dnlk_loss_latency.csv\n",
      "94/216 /home/wmnlab/jackbedford/data/2023-11-01/UDP_Bandlock_9S_Phone_Airport/sm03/#01/data/udp_uplk_loss_latency.csv\n",
      "94/216 /home/wmnlab/jackbedford/data/2023-11-01/UDP_Bandlock_9S_Phone_Airport/sm05/#01/data/handover_info_log.csv\n",
      "94/216 /home/wmnlab/jackbedford/data/2023-11-01/UDP_Bandlock_9S_Phone_Airport/sm05/#01/data/udp_dnlk_loss_latency.csv\n",
      "94/216 /home/wmnlab/jackbedford/data/2023-11-01/UDP_Bandlock_9S_Phone_Airport/sm05/#01/data/udp_uplk_loss_latency.csv\n"
     ]
    },
    {
     "data": {
      "application/vnd.jupyter.widget-view+json": {
       "model_id": "aa82a4d4ab1b4d3296223aff5db5156f",
       "version_major": 2,
       "version_minor": 0
      },
      "text/plain": [
       "  0%|                                                                                                         …"
      ]
     },
     "metadata": {},
     "output_type": "display_data"
    },
    {
     "name": "stdout",
     "output_type": "stream",
     "text": [
      "./20240312_150032342e_newest/20240314_060073cc2b/results/20240314_09375500000_f85b83d4e1645936_1.5corr/\\home\\wmnlab\\jackbedford\\data\\2023-11-01\\UDP_Bandlock_9S_Phone_Airport\\sm03\\#01\\data\\udp_dnlk_loss_latency\\home\\wmnlab\\jackbedford\\data\\2023-11-01\\UDP_Bandlock_9S_Phone_Airport\\sm05\\#01\\data\\udp_dnlk_loss_latency.csv\n",
      "95/216 /home/wmnlab/jackbedford/data/2023-11-01/UDP_Bandlock_9S_Phone_Airport/sm03/#01/data/handover_info_log.csv\n",
      "95/216 /home/wmnlab/jackbedford/data/2023-11-01/UDP_Bandlock_9S_Phone_Airport/sm03/#01/data/udp_dnlk_loss_latency.csv\n",
      "95/216 /home/wmnlab/jackbedford/data/2023-11-01/UDP_Bandlock_9S_Phone_Airport/sm03/#01/data/udp_uplk_loss_latency.csv\n",
      "95/216 /home/wmnlab/jackbedford/data/2023-11-01/UDP_Bandlock_9S_Phone_Airport/sm06/#01/data/handover_info_log.csv\n",
      "95/216 /home/wmnlab/jackbedford/data/2023-11-01/UDP_Bandlock_9S_Phone_Airport/sm06/#01/data/udp_dnlk_loss_latency.csv\n",
      "95/216 /home/wmnlab/jackbedford/data/2023-11-01/UDP_Bandlock_9S_Phone_Airport/sm06/#01/data/udp_uplk_loss_latency.csv\n"
     ]
    },
    {
     "data": {
      "application/vnd.jupyter.widget-view+json": {
       "model_id": "79a3b9149ee74156807ff004f2981cbe",
       "version_major": 2,
       "version_minor": 0
      },
      "text/plain": [
       "  0%|                                                                                                         …"
      ]
     },
     "metadata": {},
     "output_type": "display_data"
    },
    {
     "name": "stdout",
     "output_type": "stream",
     "text": [
      "./20240312_150032342e_newest/20240314_060073cc2b/results/20240314_09375500000_f85b83d4e1645936_1.5corr/\\home\\wmnlab\\jackbedford\\data\\2023-11-01\\UDP_Bandlock_9S_Phone_Airport\\sm03\\#01\\data\\udp_dnlk_loss_latency\\home\\wmnlab\\jackbedford\\data\\2023-11-01\\UDP_Bandlock_9S_Phone_Airport\\sm06\\#01\\data\\udp_dnlk_loss_latency.csv\n",
      "96/216 /home/wmnlab/jackbedford/data/2023-11-01/UDP_Bandlock_9S_Phone_Airport/sm03/#01/data/handover_info_log.csv\n",
      "96/216 /home/wmnlab/jackbedford/data/2023-11-01/UDP_Bandlock_9S_Phone_Airport/sm03/#01/data/udp_dnlk_loss_latency.csv\n",
      "96/216 /home/wmnlab/jackbedford/data/2023-11-01/UDP_Bandlock_9S_Phone_Airport/sm03/#01/data/udp_uplk_loss_latency.csv\n",
      "96/216 /home/wmnlab/jackbedford/data/2023-11-01/UDP_Bandlock_9S_Phone_Airport/sm07/#01/data/handover_info_log.csv\n",
      "96/216 /home/wmnlab/jackbedford/data/2023-11-01/UDP_Bandlock_9S_Phone_Airport/sm07/#01/data/udp_dnlk_loss_latency.csv\n",
      "96/216 /home/wmnlab/jackbedford/data/2023-11-01/UDP_Bandlock_9S_Phone_Airport/sm07/#01/data/udp_uplk_loss_latency.csv\n"
     ]
    },
    {
     "data": {
      "application/vnd.jupyter.widget-view+json": {
       "model_id": "7731e432394641c49bdeba2be29555ac",
       "version_major": 2,
       "version_minor": 0
      },
      "text/plain": [
       "  0%|                                                                                                         …"
      ]
     },
     "metadata": {},
     "output_type": "display_data"
    },
    {
     "name": "stdout",
     "output_type": "stream",
     "text": [
      "./20240312_150032342e_newest/20240314_060073cc2b/results/20240314_09375500000_f85b83d4e1645936_1.5corr/\\home\\wmnlab\\jackbedford\\data\\2023-11-01\\UDP_Bandlock_9S_Phone_Airport\\sm03\\#01\\data\\udp_dnlk_loss_latency\\home\\wmnlab\\jackbedford\\data\\2023-11-01\\UDP_Bandlock_9S_Phone_Airport\\sm07\\#01\\data\\udp_dnlk_loss_latency.csv\n",
      "97/216 /home/wmnlab/jackbedford/data/2023-11-01/UDP_Bandlock_9S_Phone_Airport/sm03/#01/data/handover_info_log.csv\n",
      "97/216 /home/wmnlab/jackbedford/data/2023-11-01/UDP_Bandlock_9S_Phone_Airport/sm03/#01/data/udp_dnlk_loss_latency.csv\n",
      "97/216 /home/wmnlab/jackbedford/data/2023-11-01/UDP_Bandlock_9S_Phone_Airport/sm03/#01/data/udp_uplk_loss_latency.csv\n",
      "97/216 /home/wmnlab/jackbedford/data/2023-11-01/UDP_Bandlock_9S_Phone_Airport/sm08/#01/data/handover_info_log.csv\n",
      "97/216 /home/wmnlab/jackbedford/data/2023-11-01/UDP_Bandlock_9S_Phone_Airport/sm08/#01/data/udp_dnlk_loss_latency.csv\n",
      "97/216 /home/wmnlab/jackbedford/data/2023-11-01/UDP_Bandlock_9S_Phone_Airport/sm08/#01/data/udp_uplk_loss_latency.csv\n"
     ]
    },
    {
     "data": {
      "application/vnd.jupyter.widget-view+json": {
       "model_id": "7ec30fc8ccd74a8ba868ed308fee5d5e",
       "version_major": 2,
       "version_minor": 0
      },
      "text/plain": [
       "  0%|                                                                                                         …"
      ]
     },
     "metadata": {},
     "output_type": "display_data"
    },
    {
     "name": "stdout",
     "output_type": "stream",
     "text": [
      "./20240312_150032342e_newest/20240314_060073cc2b/results/20240314_09375500000_f85b83d4e1645936_1.5corr/\\home\\wmnlab\\jackbedford\\data\\2023-11-01\\UDP_Bandlock_9S_Phone_Airport\\sm03\\#01\\data\\udp_dnlk_loss_latency\\home\\wmnlab\\jackbedford\\data\\2023-11-01\\UDP_Bandlock_9S_Phone_Airport\\sm08\\#01\\data\\udp_dnlk_loss_latency.csv\n",
      "98/216 /home/wmnlab/jackbedford/data/2023-11-01/UDP_Bandlock_9S_Phone_Airport/sm04/#01/data/handover_info_log.csv\n",
      "98/216 /home/wmnlab/jackbedford/data/2023-11-01/UDP_Bandlock_9S_Phone_Airport/sm04/#01/data/udp_dnlk_loss_latency.csv\n",
      "98/216 /home/wmnlab/jackbedford/data/2023-11-01/UDP_Bandlock_9S_Phone_Airport/sm04/#01/data/udp_uplk_loss_latency.csv\n",
      "98/216 /home/wmnlab/jackbedford/data/2023-11-01/UDP_Bandlock_9S_Phone_Airport/sm05/#01/data/handover_info_log.csv\n",
      "98/216 /home/wmnlab/jackbedford/data/2023-11-01/UDP_Bandlock_9S_Phone_Airport/sm05/#01/data/udp_dnlk_loss_latency.csv\n",
      "98/216 /home/wmnlab/jackbedford/data/2023-11-01/UDP_Bandlock_9S_Phone_Airport/sm05/#01/data/udp_uplk_loss_latency.csv\n"
     ]
    },
    {
     "data": {
      "application/vnd.jupyter.widget-view+json": {
       "model_id": "bd56ac58b05d437bb5f5c357b8d1770a",
       "version_major": 2,
       "version_minor": 0
      },
      "text/plain": [
       "  0%|                                                                                                         …"
      ]
     },
     "metadata": {},
     "output_type": "display_data"
    },
    {
     "name": "stdout",
     "output_type": "stream",
     "text": [
      "./20240312_150032342e_newest/20240314_060073cc2b/results/20240314_09375500000_f85b83d4e1645936_1.5corr/\\home\\wmnlab\\jackbedford\\data\\2023-11-01\\UDP_Bandlock_9S_Phone_Airport\\sm04\\#01\\data\\udp_dnlk_loss_latency\\home\\wmnlab\\jackbedford\\data\\2023-11-01\\UDP_Bandlock_9S_Phone_Airport\\sm05\\#01\\data\\udp_dnlk_loss_latency.csv\n",
      "99/216 /home/wmnlab/jackbedford/data/2023-11-01/UDP_Bandlock_9S_Phone_Airport/sm04/#01/data/handover_info_log.csv\n",
      "99/216 /home/wmnlab/jackbedford/data/2023-11-01/UDP_Bandlock_9S_Phone_Airport/sm04/#01/data/udp_dnlk_loss_latency.csv\n",
      "99/216 /home/wmnlab/jackbedford/data/2023-11-01/UDP_Bandlock_9S_Phone_Airport/sm04/#01/data/udp_uplk_loss_latency.csv\n",
      "99/216 /home/wmnlab/jackbedford/data/2023-11-01/UDP_Bandlock_9S_Phone_Airport/sm06/#01/data/handover_info_log.csv\n",
      "99/216 /home/wmnlab/jackbedford/data/2023-11-01/UDP_Bandlock_9S_Phone_Airport/sm06/#01/data/udp_dnlk_loss_latency.csv\n",
      "99/216 /home/wmnlab/jackbedford/data/2023-11-01/UDP_Bandlock_9S_Phone_Airport/sm06/#01/data/udp_uplk_loss_latency.csv\n"
     ]
    },
    {
     "data": {
      "application/vnd.jupyter.widget-view+json": {
       "model_id": "de338eb59a4e475c944bd5d88658ebfd",
       "version_major": 2,
       "version_minor": 0
      },
      "text/plain": [
       "  0%|                                                                                                         …"
      ]
     },
     "metadata": {},
     "output_type": "display_data"
    },
    {
     "name": "stdout",
     "output_type": "stream",
     "text": [
      "./20240312_150032342e_newest/20240314_060073cc2b/results/20240314_09375500000_f85b83d4e1645936_1.5corr/\\home\\wmnlab\\jackbedford\\data\\2023-11-01\\UDP_Bandlock_9S_Phone_Airport\\sm04\\#01\\data\\udp_dnlk_loss_latency\\home\\wmnlab\\jackbedford\\data\\2023-11-01\\UDP_Bandlock_9S_Phone_Airport\\sm06\\#01\\data\\udp_dnlk_loss_latency.csv\n",
      "100/216 /home/wmnlab/jackbedford/data/2023-11-01/UDP_Bandlock_9S_Phone_Airport/sm04/#01/data/handover_info_log.csv\n",
      "100/216 /home/wmnlab/jackbedford/data/2023-11-01/UDP_Bandlock_9S_Phone_Airport/sm04/#01/data/udp_dnlk_loss_latency.csv\n",
      "100/216 /home/wmnlab/jackbedford/data/2023-11-01/UDP_Bandlock_9S_Phone_Airport/sm04/#01/data/udp_uplk_loss_latency.csv\n",
      "100/216 /home/wmnlab/jackbedford/data/2023-11-01/UDP_Bandlock_9S_Phone_Airport/sm07/#01/data/handover_info_log.csv\n",
      "100/216 /home/wmnlab/jackbedford/data/2023-11-01/UDP_Bandlock_9S_Phone_Airport/sm07/#01/data/udp_dnlk_loss_latency.csv\n",
      "100/216 /home/wmnlab/jackbedford/data/2023-11-01/UDP_Bandlock_9S_Phone_Airport/sm07/#01/data/udp_uplk_loss_latency.csv\n"
     ]
    },
    {
     "data": {
      "application/vnd.jupyter.widget-view+json": {
       "model_id": "5220e9f79daa441a896f96553c34bf00",
       "version_major": 2,
       "version_minor": 0
      },
      "text/plain": [
       "  0%|                                                                                                         …"
      ]
     },
     "metadata": {},
     "output_type": "display_data"
    },
    {
     "name": "stdout",
     "output_type": "stream",
     "text": [
      "./20240312_150032342e_newest/20240314_060073cc2b/results/20240314_09375500000_f85b83d4e1645936_1.5corr/\\home\\wmnlab\\jackbedford\\data\\2023-11-01\\UDP_Bandlock_9S_Phone_Airport\\sm04\\#01\\data\\udp_dnlk_loss_latency\\home\\wmnlab\\jackbedford\\data\\2023-11-01\\UDP_Bandlock_9S_Phone_Airport\\sm07\\#01\\data\\udp_dnlk_loss_latency.csv\n",
      "101/216 /home/wmnlab/jackbedford/data/2023-11-01/UDP_Bandlock_9S_Phone_Airport/sm04/#01/data/handover_info_log.csv\n",
      "101/216 /home/wmnlab/jackbedford/data/2023-11-01/UDP_Bandlock_9S_Phone_Airport/sm04/#01/data/udp_dnlk_loss_latency.csv\n",
      "101/216 /home/wmnlab/jackbedford/data/2023-11-01/UDP_Bandlock_9S_Phone_Airport/sm04/#01/data/udp_uplk_loss_latency.csv\n",
      "101/216 /home/wmnlab/jackbedford/data/2023-11-01/UDP_Bandlock_9S_Phone_Airport/sm08/#01/data/handover_info_log.csv\n",
      "101/216 /home/wmnlab/jackbedford/data/2023-11-01/UDP_Bandlock_9S_Phone_Airport/sm08/#01/data/udp_dnlk_loss_latency.csv\n",
      "101/216 /home/wmnlab/jackbedford/data/2023-11-01/UDP_Bandlock_9S_Phone_Airport/sm08/#01/data/udp_uplk_loss_latency.csv\n"
     ]
    },
    {
     "data": {
      "application/vnd.jupyter.widget-view+json": {
       "model_id": "d305faffa81a400792eafed0579a6fb8",
       "version_major": 2,
       "version_minor": 0
      },
      "text/plain": [
       "  0%|                                                                                                         …"
      ]
     },
     "metadata": {},
     "output_type": "display_data"
    },
    {
     "name": "stdout",
     "output_type": "stream",
     "text": [
      "./20240312_150032342e_newest/20240314_060073cc2b/results/20240314_09375500000_f85b83d4e1645936_1.5corr/\\home\\wmnlab\\jackbedford\\data\\2023-11-01\\UDP_Bandlock_9S_Phone_Airport\\sm04\\#01\\data\\udp_dnlk_loss_latency\\home\\wmnlab\\jackbedford\\data\\2023-11-01\\UDP_Bandlock_9S_Phone_Airport\\sm08\\#01\\data\\udp_dnlk_loss_latency.csv\n",
      "102/216 /home/wmnlab/jackbedford/data/2023-11-01/UDP_Bandlock_9S_Phone_Airport/sm05/#01/data/handover_info_log.csv\n",
      "102/216 /home/wmnlab/jackbedford/data/2023-11-01/UDP_Bandlock_9S_Phone_Airport/sm05/#01/data/udp_dnlk_loss_latency.csv\n",
      "102/216 /home/wmnlab/jackbedford/data/2023-11-01/UDP_Bandlock_9S_Phone_Airport/sm05/#01/data/udp_uplk_loss_latency.csv\n",
      "102/216 /home/wmnlab/jackbedford/data/2023-11-01/UDP_Bandlock_9S_Phone_Airport/sm06/#01/data/handover_info_log.csv\n",
      "102/216 /home/wmnlab/jackbedford/data/2023-11-01/UDP_Bandlock_9S_Phone_Airport/sm06/#01/data/udp_dnlk_loss_latency.csv\n",
      "102/216 /home/wmnlab/jackbedford/data/2023-11-01/UDP_Bandlock_9S_Phone_Airport/sm06/#01/data/udp_uplk_loss_latency.csv\n"
     ]
    },
    {
     "data": {
      "application/vnd.jupyter.widget-view+json": {
       "model_id": "f854c36b38994f60a44d1dc573a70901",
       "version_major": 2,
       "version_minor": 0
      },
      "text/plain": [
       "  0%|                                                                                                         …"
      ]
     },
     "metadata": {},
     "output_type": "display_data"
    },
    {
     "name": "stdout",
     "output_type": "stream",
     "text": [
      "./20240312_150032342e_newest/20240314_060073cc2b/results/20240314_09375500000_f85b83d4e1645936_1.5corr/\\home\\wmnlab\\jackbedford\\data\\2023-11-01\\UDP_Bandlock_9S_Phone_Airport\\sm05\\#01\\data\\udp_dnlk_loss_latency\\home\\wmnlab\\jackbedford\\data\\2023-11-01\\UDP_Bandlock_9S_Phone_Airport\\sm06\\#01\\data\\udp_dnlk_loss_latency.csv\n",
      "103/216 /home/wmnlab/jackbedford/data/2023-11-01/UDP_Bandlock_9S_Phone_Airport/sm05/#01/data/handover_info_log.csv\n",
      "103/216 /home/wmnlab/jackbedford/data/2023-11-01/UDP_Bandlock_9S_Phone_Airport/sm05/#01/data/udp_dnlk_loss_latency.csv\n",
      "103/216 /home/wmnlab/jackbedford/data/2023-11-01/UDP_Bandlock_9S_Phone_Airport/sm05/#01/data/udp_uplk_loss_latency.csv\n",
      "103/216 /home/wmnlab/jackbedford/data/2023-11-01/UDP_Bandlock_9S_Phone_Airport/sm07/#01/data/handover_info_log.csv\n",
      "103/216 /home/wmnlab/jackbedford/data/2023-11-01/UDP_Bandlock_9S_Phone_Airport/sm07/#01/data/udp_dnlk_loss_latency.csv\n",
      "103/216 /home/wmnlab/jackbedford/data/2023-11-01/UDP_Bandlock_9S_Phone_Airport/sm07/#01/data/udp_uplk_loss_latency.csv\n"
     ]
    },
    {
     "data": {
      "application/vnd.jupyter.widget-view+json": {
       "model_id": "f0f2a61e9ac64173ae5b6eb5979a5aea",
       "version_major": 2,
       "version_minor": 0
      },
      "text/plain": [
       "  0%|                                                                                                         …"
      ]
     },
     "metadata": {},
     "output_type": "display_data"
    },
    {
     "name": "stdout",
     "output_type": "stream",
     "text": [
      "./20240312_150032342e_newest/20240314_060073cc2b/results/20240314_09375500000_f85b83d4e1645936_1.5corr/\\home\\wmnlab\\jackbedford\\data\\2023-11-01\\UDP_Bandlock_9S_Phone_Airport\\sm05\\#01\\data\\udp_dnlk_loss_latency\\home\\wmnlab\\jackbedford\\data\\2023-11-01\\UDP_Bandlock_9S_Phone_Airport\\sm07\\#01\\data\\udp_dnlk_loss_latency.csv\n",
      "104/216 /home/wmnlab/jackbedford/data/2023-11-01/UDP_Bandlock_9S_Phone_Airport/sm05/#01/data/handover_info_log.csv\n",
      "104/216 /home/wmnlab/jackbedford/data/2023-11-01/UDP_Bandlock_9S_Phone_Airport/sm05/#01/data/udp_dnlk_loss_latency.csv\n",
      "104/216 /home/wmnlab/jackbedford/data/2023-11-01/UDP_Bandlock_9S_Phone_Airport/sm05/#01/data/udp_uplk_loss_latency.csv\n",
      "104/216 /home/wmnlab/jackbedford/data/2023-11-01/UDP_Bandlock_9S_Phone_Airport/sm08/#01/data/handover_info_log.csv\n",
      "104/216 /home/wmnlab/jackbedford/data/2023-11-01/UDP_Bandlock_9S_Phone_Airport/sm08/#01/data/udp_dnlk_loss_latency.csv\n",
      "104/216 /home/wmnlab/jackbedford/data/2023-11-01/UDP_Bandlock_9S_Phone_Airport/sm08/#01/data/udp_uplk_loss_latency.csv\n"
     ]
    },
    {
     "data": {
      "application/vnd.jupyter.widget-view+json": {
       "model_id": "0ede0fdd292c4ff8bb162a8f3fcafdfa",
       "version_major": 2,
       "version_minor": 0
      },
      "text/plain": [
       "  0%|                                                                                                         …"
      ]
     },
     "metadata": {},
     "output_type": "display_data"
    },
    {
     "name": "stdout",
     "output_type": "stream",
     "text": [
      "./20240312_150032342e_newest/20240314_060073cc2b/results/20240314_09375500000_f85b83d4e1645936_1.5corr/\\home\\wmnlab\\jackbedford\\data\\2023-11-01\\UDP_Bandlock_9S_Phone_Airport\\sm05\\#01\\data\\udp_dnlk_loss_latency\\home\\wmnlab\\jackbedford\\data\\2023-11-01\\UDP_Bandlock_9S_Phone_Airport\\sm08\\#01\\data\\udp_dnlk_loss_latency.csv\n",
      "105/216 /home/wmnlab/jackbedford/data/2023-11-01/UDP_Bandlock_9S_Phone_Airport/sm06/#01/data/handover_info_log.csv\n",
      "105/216 /home/wmnlab/jackbedford/data/2023-11-01/UDP_Bandlock_9S_Phone_Airport/sm06/#01/data/udp_dnlk_loss_latency.csv\n",
      "105/216 /home/wmnlab/jackbedford/data/2023-11-01/UDP_Bandlock_9S_Phone_Airport/sm06/#01/data/udp_uplk_loss_latency.csv\n",
      "105/216 /home/wmnlab/jackbedford/data/2023-11-01/UDP_Bandlock_9S_Phone_Airport/sm07/#01/data/handover_info_log.csv\n",
      "105/216 /home/wmnlab/jackbedford/data/2023-11-01/UDP_Bandlock_9S_Phone_Airport/sm07/#01/data/udp_dnlk_loss_latency.csv\n",
      "105/216 /home/wmnlab/jackbedford/data/2023-11-01/UDP_Bandlock_9S_Phone_Airport/sm07/#01/data/udp_uplk_loss_latency.csv\n"
     ]
    },
    {
     "data": {
      "application/vnd.jupyter.widget-view+json": {
       "model_id": "e64e0ed53e1f46169570c0d3afaab5e2",
       "version_major": 2,
       "version_minor": 0
      },
      "text/plain": [
       "  0%|                                                                                                         …"
      ]
     },
     "metadata": {},
     "output_type": "display_data"
    },
    {
     "name": "stdout",
     "output_type": "stream",
     "text": [
      "./20240312_150032342e_newest/20240314_060073cc2b/results/20240314_09375500000_f85b83d4e1645936_1.5corr/\\home\\wmnlab\\jackbedford\\data\\2023-11-01\\UDP_Bandlock_9S_Phone_Airport\\sm06\\#01\\data\\udp_dnlk_loss_latency\\home\\wmnlab\\jackbedford\\data\\2023-11-01\\UDP_Bandlock_9S_Phone_Airport\\sm07\\#01\\data\\udp_dnlk_loss_latency.csv\n",
      "106/216 /home/wmnlab/jackbedford/data/2023-11-01/UDP_Bandlock_9S_Phone_Airport/sm06/#01/data/handover_info_log.csv\n",
      "106/216 /home/wmnlab/jackbedford/data/2023-11-01/UDP_Bandlock_9S_Phone_Airport/sm06/#01/data/udp_dnlk_loss_latency.csv\n",
      "106/216 /home/wmnlab/jackbedford/data/2023-11-01/UDP_Bandlock_9S_Phone_Airport/sm06/#01/data/udp_uplk_loss_latency.csv\n",
      "106/216 /home/wmnlab/jackbedford/data/2023-11-01/UDP_Bandlock_9S_Phone_Airport/sm08/#01/data/handover_info_log.csv\n",
      "106/216 /home/wmnlab/jackbedford/data/2023-11-01/UDP_Bandlock_9S_Phone_Airport/sm08/#01/data/udp_dnlk_loss_latency.csv\n",
      "106/216 /home/wmnlab/jackbedford/data/2023-11-01/UDP_Bandlock_9S_Phone_Airport/sm08/#01/data/udp_uplk_loss_latency.csv\n"
     ]
    },
    {
     "data": {
      "application/vnd.jupyter.widget-view+json": {
       "model_id": "a2f344ab6493443bb8e1ff61e5b1ef32",
       "version_major": 2,
       "version_minor": 0
      },
      "text/plain": [
       "  0%|                                                                                                         …"
      ]
     },
     "metadata": {},
     "output_type": "display_data"
    },
    {
     "name": "stdout",
     "output_type": "stream",
     "text": [
      "./20240312_150032342e_newest/20240314_060073cc2b/results/20240314_09375500000_f85b83d4e1645936_1.5corr/\\home\\wmnlab\\jackbedford\\data\\2023-11-01\\UDP_Bandlock_9S_Phone_Airport\\sm06\\#01\\data\\udp_dnlk_loss_latency\\home\\wmnlab\\jackbedford\\data\\2023-11-01\\UDP_Bandlock_9S_Phone_Airport\\sm08\\#01\\data\\udp_dnlk_loss_latency.csv\n",
      "107/216 /home/wmnlab/jackbedford/data/2023-11-01/UDP_Bandlock_9S_Phone_Airport/sm07/#01/data/handover_info_log.csv\n",
      "107/216 /home/wmnlab/jackbedford/data/2023-11-01/UDP_Bandlock_9S_Phone_Airport/sm07/#01/data/udp_dnlk_loss_latency.csv\n",
      "107/216 /home/wmnlab/jackbedford/data/2023-11-01/UDP_Bandlock_9S_Phone_Airport/sm07/#01/data/udp_uplk_loss_latency.csv\n",
      "107/216 /home/wmnlab/jackbedford/data/2023-11-01/UDP_Bandlock_9S_Phone_Airport/sm08/#01/data/handover_info_log.csv\n",
      "107/216 /home/wmnlab/jackbedford/data/2023-11-01/UDP_Bandlock_9S_Phone_Airport/sm08/#01/data/udp_dnlk_loss_latency.csv\n",
      "107/216 /home/wmnlab/jackbedford/data/2023-11-01/UDP_Bandlock_9S_Phone_Airport/sm08/#01/data/udp_uplk_loss_latency.csv\n"
     ]
    },
    {
     "data": {
      "application/vnd.jupyter.widget-view+json": {
       "model_id": "bc32adf666a542bcbdf0eff1656b9ac8",
       "version_major": 2,
       "version_minor": 0
      },
      "text/plain": [
       "  0%|                                                                                                         …"
      ]
     },
     "metadata": {},
     "output_type": "display_data"
    },
    {
     "name": "stdout",
     "output_type": "stream",
     "text": [
      "./20240312_150032342e_newest/20240314_060073cc2b/results/20240314_09375500000_f85b83d4e1645936_1.5corr/\\home\\wmnlab\\jackbedford\\data\\2023-11-01\\UDP_Bandlock_9S_Phone_Airport\\sm07\\#01\\data\\udp_dnlk_loss_latency\\home\\wmnlab\\jackbedford\\data\\2023-11-01\\UDP_Bandlock_9S_Phone_Airport\\sm08\\#01\\data\\udp_dnlk_loss_latency.csv\n",
      "108/216 /home/wmnlab/jackbedford/data/2023-11-01/UDP_Bandlock_9S_Phone_Airport/sm00/#02/data/handover_info_log.csv\n",
      "108/216 /home/wmnlab/jackbedford/data/2023-11-01/UDP_Bandlock_9S_Phone_Airport/sm00/#02/data/udp_dnlk_loss_latency.csv\n",
      "108/216 /home/wmnlab/jackbedford/data/2023-11-01/UDP_Bandlock_9S_Phone_Airport/sm00/#02/data/udp_uplk_loss_latency.csv\n",
      "108/216 /home/wmnlab/jackbedford/data/2023-11-01/UDP_Bandlock_9S_Phone_Airport/sm01/#02/data/handover_info_log.csv\n",
      "108/216 /home/wmnlab/jackbedford/data/2023-11-01/UDP_Bandlock_9S_Phone_Airport/sm01/#02/data/udp_dnlk_loss_latency.csv\n",
      "108/216 /home/wmnlab/jackbedford/data/2023-11-01/UDP_Bandlock_9S_Phone_Airport/sm01/#02/data/udp_uplk_loss_latency.csv\n"
     ]
    },
    {
     "data": {
      "application/vnd.jupyter.widget-view+json": {
       "model_id": "77b0f443006444df8df022b6c32c487f",
       "version_major": 2,
       "version_minor": 0
      },
      "text/plain": [
       "  0%|                                                                                                         …"
      ]
     },
     "metadata": {},
     "output_type": "display_data"
    },
    {
     "name": "stdout",
     "output_type": "stream",
     "text": [
      "./20240312_150032342e_newest/20240314_060073cc2b/results/20240314_09375500000_f85b83d4e1645936_1.5corr/\\home\\wmnlab\\jackbedford\\data\\2023-11-01\\UDP_Bandlock_9S_Phone_Airport\\sm00\\#02\\data\\udp_dnlk_loss_latency\\home\\wmnlab\\jackbedford\\data\\2023-11-01\\UDP_Bandlock_9S_Phone_Airport\\sm01\\#02\\data\\udp_dnlk_loss_latency.csv\n",
      "109/216 /home/wmnlab/jackbedford/data/2023-11-01/UDP_Bandlock_9S_Phone_Airport/sm00/#02/data/handover_info_log.csv\n",
      "109/216 /home/wmnlab/jackbedford/data/2023-11-01/UDP_Bandlock_9S_Phone_Airport/sm00/#02/data/udp_dnlk_loss_latency.csv\n",
      "109/216 /home/wmnlab/jackbedford/data/2023-11-01/UDP_Bandlock_9S_Phone_Airport/sm00/#02/data/udp_uplk_loss_latency.csv\n",
      "109/216 /home/wmnlab/jackbedford/data/2023-11-01/UDP_Bandlock_9S_Phone_Airport/sm02/#02/data/handover_info_log.csv\n",
      "109/216 /home/wmnlab/jackbedford/data/2023-11-01/UDP_Bandlock_9S_Phone_Airport/sm02/#02/data/udp_dnlk_loss_latency.csv\n",
      "109/216 /home/wmnlab/jackbedford/data/2023-11-01/UDP_Bandlock_9S_Phone_Airport/sm02/#02/data/udp_uplk_loss_latency.csv\n"
     ]
    },
    {
     "data": {
      "application/vnd.jupyter.widget-view+json": {
       "model_id": "e8b282c0883e4548b92aafcbb85bc36c",
       "version_major": 2,
       "version_minor": 0
      },
      "text/plain": [
       "  0%|                                                                                                         …"
      ]
     },
     "metadata": {},
     "output_type": "display_data"
    },
    {
     "name": "stdout",
     "output_type": "stream",
     "text": [
      "./20240312_150032342e_newest/20240314_060073cc2b/results/20240314_09375500000_f85b83d4e1645936_1.5corr/\\home\\wmnlab\\jackbedford\\data\\2023-11-01\\UDP_Bandlock_9S_Phone_Airport\\sm00\\#02\\data\\udp_dnlk_loss_latency\\home\\wmnlab\\jackbedford\\data\\2023-11-01\\UDP_Bandlock_9S_Phone_Airport\\sm02\\#02\\data\\udp_dnlk_loss_latency.csv\n",
      "110/216 /home/wmnlab/jackbedford/data/2023-11-01/UDP_Bandlock_9S_Phone_Airport/sm00/#02/data/handover_info_log.csv\n",
      "110/216 /home/wmnlab/jackbedford/data/2023-11-01/UDP_Bandlock_9S_Phone_Airport/sm00/#02/data/udp_dnlk_loss_latency.csv\n",
      "110/216 /home/wmnlab/jackbedford/data/2023-11-01/UDP_Bandlock_9S_Phone_Airport/sm00/#02/data/udp_uplk_loss_latency.csv\n",
      "110/216 /home/wmnlab/jackbedford/data/2023-11-01/UDP_Bandlock_9S_Phone_Airport/sm03/#02/data/handover_info_log.csv\n",
      "110/216 /home/wmnlab/jackbedford/data/2023-11-01/UDP_Bandlock_9S_Phone_Airport/sm03/#02/data/udp_dnlk_loss_latency.csv\n",
      "110/216 /home/wmnlab/jackbedford/data/2023-11-01/UDP_Bandlock_9S_Phone_Airport/sm03/#02/data/udp_uplk_loss_latency.csv\n"
     ]
    },
    {
     "data": {
      "application/vnd.jupyter.widget-view+json": {
       "model_id": "cad31664de5546c78b1d382a6935b706",
       "version_major": 2,
       "version_minor": 0
      },
      "text/plain": [
       "  0%|                                                                                                         …"
      ]
     },
     "metadata": {},
     "output_type": "display_data"
    },
    {
     "name": "stdout",
     "output_type": "stream",
     "text": [
      "./20240312_150032342e_newest/20240314_060073cc2b/results/20240314_09375500000_f85b83d4e1645936_1.5corr/\\home\\wmnlab\\jackbedford\\data\\2023-11-01\\UDP_Bandlock_9S_Phone_Airport\\sm00\\#02\\data\\udp_dnlk_loss_latency\\home\\wmnlab\\jackbedford\\data\\2023-11-01\\UDP_Bandlock_9S_Phone_Airport\\sm03\\#02\\data\\udp_dnlk_loss_latency.csv\n",
      "111/216 /home/wmnlab/jackbedford/data/2023-11-01/UDP_Bandlock_9S_Phone_Airport/sm00/#02/data/handover_info_log.csv\n",
      "111/216 /home/wmnlab/jackbedford/data/2023-11-01/UDP_Bandlock_9S_Phone_Airport/sm00/#02/data/udp_dnlk_loss_latency.csv\n",
      "111/216 /home/wmnlab/jackbedford/data/2023-11-01/UDP_Bandlock_9S_Phone_Airport/sm00/#02/data/udp_uplk_loss_latency.csv\n",
      "111/216 /home/wmnlab/jackbedford/data/2023-11-01/UDP_Bandlock_9S_Phone_Airport/sm04/#02/data/handover_info_log.csv\n",
      "111/216 /home/wmnlab/jackbedford/data/2023-11-01/UDP_Bandlock_9S_Phone_Airport/sm04/#02/data/udp_dnlk_loss_latency.csv\n",
      "111/216 /home/wmnlab/jackbedford/data/2023-11-01/UDP_Bandlock_9S_Phone_Airport/sm04/#02/data/udp_uplk_loss_latency.csv\n"
     ]
    },
    {
     "data": {
      "application/vnd.jupyter.widget-view+json": {
       "model_id": "9e584435cf6f4467b7cab0e4be94d853",
       "version_major": 2,
       "version_minor": 0
      },
      "text/plain": [
       "  0%|                                                                                                         …"
      ]
     },
     "metadata": {},
     "output_type": "display_data"
    },
    {
     "name": "stdout",
     "output_type": "stream",
     "text": [
      "./20240312_150032342e_newest/20240314_060073cc2b/results/20240314_09375500000_f85b83d4e1645936_1.5corr/\\home\\wmnlab\\jackbedford\\data\\2023-11-01\\UDP_Bandlock_9S_Phone_Airport\\sm00\\#02\\data\\udp_dnlk_loss_latency\\home\\wmnlab\\jackbedford\\data\\2023-11-01\\UDP_Bandlock_9S_Phone_Airport\\sm04\\#02\\data\\udp_dnlk_loss_latency.csv\n",
      "112/216 /home/wmnlab/jackbedford/data/2023-11-01/UDP_Bandlock_9S_Phone_Airport/sm00/#02/data/handover_info_log.csv\n",
      "112/216 /home/wmnlab/jackbedford/data/2023-11-01/UDP_Bandlock_9S_Phone_Airport/sm00/#02/data/udp_dnlk_loss_latency.csv\n",
      "112/216 /home/wmnlab/jackbedford/data/2023-11-01/UDP_Bandlock_9S_Phone_Airport/sm00/#02/data/udp_uplk_loss_latency.csv\n",
      "112/216 /home/wmnlab/jackbedford/data/2023-11-01/UDP_Bandlock_9S_Phone_Airport/sm05/#02/data/handover_info_log.csv\n",
      "112/216 /home/wmnlab/jackbedford/data/2023-11-01/UDP_Bandlock_9S_Phone_Airport/sm05/#02/data/udp_dnlk_loss_latency.csv\n",
      "112/216 /home/wmnlab/jackbedford/data/2023-11-01/UDP_Bandlock_9S_Phone_Airport/sm05/#02/data/udp_uplk_loss_latency.csv\n"
     ]
    },
    {
     "data": {
      "application/vnd.jupyter.widget-view+json": {
       "model_id": "67864dd5a1104682ba575b2669059d3e",
       "version_major": 2,
       "version_minor": 0
      },
      "text/plain": [
       "  0%|                                                                                                         …"
      ]
     },
     "metadata": {},
     "output_type": "display_data"
    },
    {
     "name": "stdout",
     "output_type": "stream",
     "text": [
      "./20240312_150032342e_newest/20240314_060073cc2b/results/20240314_09375500000_f85b83d4e1645936_1.5corr/\\home\\wmnlab\\jackbedford\\data\\2023-11-01\\UDP_Bandlock_9S_Phone_Airport\\sm00\\#02\\data\\udp_dnlk_loss_latency\\home\\wmnlab\\jackbedford\\data\\2023-11-01\\UDP_Bandlock_9S_Phone_Airport\\sm05\\#02\\data\\udp_dnlk_loss_latency.csv\n",
      "113/216 /home/wmnlab/jackbedford/data/2023-11-01/UDP_Bandlock_9S_Phone_Airport/sm00/#02/data/handover_info_log.csv\n",
      "113/216 /home/wmnlab/jackbedford/data/2023-11-01/UDP_Bandlock_9S_Phone_Airport/sm00/#02/data/udp_dnlk_loss_latency.csv\n",
      "113/216 /home/wmnlab/jackbedford/data/2023-11-01/UDP_Bandlock_9S_Phone_Airport/sm00/#02/data/udp_uplk_loss_latency.csv\n",
      "113/216 /home/wmnlab/jackbedford/data/2023-11-01/UDP_Bandlock_9S_Phone_Airport/sm06/#02/data/handover_info_log.csv\n",
      "113/216 /home/wmnlab/jackbedford/data/2023-11-01/UDP_Bandlock_9S_Phone_Airport/sm06/#02/data/udp_dnlk_loss_latency.csv\n",
      "113/216 /home/wmnlab/jackbedford/data/2023-11-01/UDP_Bandlock_9S_Phone_Airport/sm06/#02/data/udp_uplk_loss_latency.csv\n"
     ]
    },
    {
     "data": {
      "application/vnd.jupyter.widget-view+json": {
       "model_id": "ca4b4f844cb64e14b624a3c6511bd734",
       "version_major": 2,
       "version_minor": 0
      },
      "text/plain": [
       "  0%|                                                                                                         …"
      ]
     },
     "metadata": {},
     "output_type": "display_data"
    },
    {
     "name": "stdout",
     "output_type": "stream",
     "text": [
      "./20240312_150032342e_newest/20240314_060073cc2b/results/20240314_09375500000_f85b83d4e1645936_1.5corr/\\home\\wmnlab\\jackbedford\\data\\2023-11-01\\UDP_Bandlock_9S_Phone_Airport\\sm00\\#02\\data\\udp_dnlk_loss_latency\\home\\wmnlab\\jackbedford\\data\\2023-11-01\\UDP_Bandlock_9S_Phone_Airport\\sm06\\#02\\data\\udp_dnlk_loss_latency.csv\n",
      "114/216 /home/wmnlab/jackbedford/data/2023-11-01/UDP_Bandlock_9S_Phone_Airport/sm00/#02/data/handover_info_log.csv\n",
      "114/216 /home/wmnlab/jackbedford/data/2023-11-01/UDP_Bandlock_9S_Phone_Airport/sm00/#02/data/udp_dnlk_loss_latency.csv\n",
      "114/216 /home/wmnlab/jackbedford/data/2023-11-01/UDP_Bandlock_9S_Phone_Airport/sm00/#02/data/udp_uplk_loss_latency.csv\n",
      "114/216 /home/wmnlab/jackbedford/data/2023-11-01/UDP_Bandlock_9S_Phone_Airport/sm07/#02/data/handover_info_log.csv\n",
      "114/216 /home/wmnlab/jackbedford/data/2023-11-01/UDP_Bandlock_9S_Phone_Airport/sm07/#02/data/udp_dnlk_loss_latency.csv\n",
      "114/216 /home/wmnlab/jackbedford/data/2023-11-01/UDP_Bandlock_9S_Phone_Airport/sm07/#02/data/udp_uplk_loss_latency.csv\n"
     ]
    },
    {
     "data": {
      "application/vnd.jupyter.widget-view+json": {
       "model_id": "8102b8151d134fc1a592260f270ba5fe",
       "version_major": 2,
       "version_minor": 0
      },
      "text/plain": [
       "  0%|                                                                                                         …"
      ]
     },
     "metadata": {},
     "output_type": "display_data"
    },
    {
     "name": "stdout",
     "output_type": "stream",
     "text": [
      "./20240312_150032342e_newest/20240314_060073cc2b/results/20240314_09375500000_f85b83d4e1645936_1.5corr/\\home\\wmnlab\\jackbedford\\data\\2023-11-01\\UDP_Bandlock_9S_Phone_Airport\\sm00\\#02\\data\\udp_dnlk_loss_latency\\home\\wmnlab\\jackbedford\\data\\2023-11-01\\UDP_Bandlock_9S_Phone_Airport\\sm07\\#02\\data\\udp_dnlk_loss_latency.csv\n",
      "115/216 /home/wmnlab/jackbedford/data/2023-11-01/UDP_Bandlock_9S_Phone_Airport/sm00/#02/data/handover_info_log.csv\n",
      "115/216 /home/wmnlab/jackbedford/data/2023-11-01/UDP_Bandlock_9S_Phone_Airport/sm00/#02/data/udp_dnlk_loss_latency.csv\n",
      "115/216 /home/wmnlab/jackbedford/data/2023-11-01/UDP_Bandlock_9S_Phone_Airport/sm00/#02/data/udp_uplk_loss_latency.csv\n",
      "115/216 /home/wmnlab/jackbedford/data/2023-11-01/UDP_Bandlock_9S_Phone_Airport/sm08/#02/data/handover_info_log.csv\n",
      "115/216 /home/wmnlab/jackbedford/data/2023-11-01/UDP_Bandlock_9S_Phone_Airport/sm08/#02/data/udp_dnlk_loss_latency.csv\n",
      "115/216 /home/wmnlab/jackbedford/data/2023-11-01/UDP_Bandlock_9S_Phone_Airport/sm08/#02/data/udp_uplk_loss_latency.csv\n"
     ]
    },
    {
     "data": {
      "application/vnd.jupyter.widget-view+json": {
       "model_id": "cab70b1b8ee94c169595294d0988bf2e",
       "version_major": 2,
       "version_minor": 0
      },
      "text/plain": [
       "  0%|                                                                                                         …"
      ]
     },
     "metadata": {},
     "output_type": "display_data"
    },
    {
     "name": "stdout",
     "output_type": "stream",
     "text": [
      "./20240312_150032342e_newest/20240314_060073cc2b/results/20240314_09375500000_f85b83d4e1645936_1.5corr/\\home\\wmnlab\\jackbedford\\data\\2023-11-01\\UDP_Bandlock_9S_Phone_Airport\\sm00\\#02\\data\\udp_dnlk_loss_latency\\home\\wmnlab\\jackbedford\\data\\2023-11-01\\UDP_Bandlock_9S_Phone_Airport\\sm08\\#02\\data\\udp_dnlk_loss_latency.csv\n",
      "116/216 /home/wmnlab/jackbedford/data/2023-11-01/UDP_Bandlock_9S_Phone_Airport/sm01/#02/data/handover_info_log.csv\n",
      "116/216 /home/wmnlab/jackbedford/data/2023-11-01/UDP_Bandlock_9S_Phone_Airport/sm01/#02/data/udp_dnlk_loss_latency.csv\n",
      "116/216 /home/wmnlab/jackbedford/data/2023-11-01/UDP_Bandlock_9S_Phone_Airport/sm01/#02/data/udp_uplk_loss_latency.csv\n",
      "116/216 /home/wmnlab/jackbedford/data/2023-11-01/UDP_Bandlock_9S_Phone_Airport/sm02/#02/data/handover_info_log.csv\n",
      "116/216 /home/wmnlab/jackbedford/data/2023-11-01/UDP_Bandlock_9S_Phone_Airport/sm02/#02/data/udp_dnlk_loss_latency.csv\n",
      "116/216 /home/wmnlab/jackbedford/data/2023-11-01/UDP_Bandlock_9S_Phone_Airport/sm02/#02/data/udp_uplk_loss_latency.csv\n"
     ]
    },
    {
     "data": {
      "application/vnd.jupyter.widget-view+json": {
       "model_id": "57db2ff91501490cb38dca9110357f1c",
       "version_major": 2,
       "version_minor": 0
      },
      "text/plain": [
       "  0%|                                                                                                         …"
      ]
     },
     "metadata": {},
     "output_type": "display_data"
    },
    {
     "name": "stdout",
     "output_type": "stream",
     "text": [
      "./20240312_150032342e_newest/20240314_060073cc2b/results/20240314_09375500000_f85b83d4e1645936_1.5corr/\\home\\wmnlab\\jackbedford\\data\\2023-11-01\\UDP_Bandlock_9S_Phone_Airport\\sm01\\#02\\data\\udp_dnlk_loss_latency\\home\\wmnlab\\jackbedford\\data\\2023-11-01\\UDP_Bandlock_9S_Phone_Airport\\sm02\\#02\\data\\udp_dnlk_loss_latency.csv\n",
      "117/216 /home/wmnlab/jackbedford/data/2023-11-01/UDP_Bandlock_9S_Phone_Airport/sm01/#02/data/handover_info_log.csv\n",
      "117/216 /home/wmnlab/jackbedford/data/2023-11-01/UDP_Bandlock_9S_Phone_Airport/sm01/#02/data/udp_dnlk_loss_latency.csv\n",
      "117/216 /home/wmnlab/jackbedford/data/2023-11-01/UDP_Bandlock_9S_Phone_Airport/sm01/#02/data/udp_uplk_loss_latency.csv\n",
      "117/216 /home/wmnlab/jackbedford/data/2023-11-01/UDP_Bandlock_9S_Phone_Airport/sm03/#02/data/handover_info_log.csv\n",
      "117/216 /home/wmnlab/jackbedford/data/2023-11-01/UDP_Bandlock_9S_Phone_Airport/sm03/#02/data/udp_dnlk_loss_latency.csv\n",
      "117/216 /home/wmnlab/jackbedford/data/2023-11-01/UDP_Bandlock_9S_Phone_Airport/sm03/#02/data/udp_uplk_loss_latency.csv\n"
     ]
    },
    {
     "data": {
      "application/vnd.jupyter.widget-view+json": {
       "model_id": "8f84911f170747f084ac3f73101382fe",
       "version_major": 2,
       "version_minor": 0
      },
      "text/plain": [
       "  0%|                                                                                                         …"
      ]
     },
     "metadata": {},
     "output_type": "display_data"
    },
    {
     "name": "stdout",
     "output_type": "stream",
     "text": [
      "./20240312_150032342e_newest/20240314_060073cc2b/results/20240314_09375500000_f85b83d4e1645936_1.5corr/\\home\\wmnlab\\jackbedford\\data\\2023-11-01\\UDP_Bandlock_9S_Phone_Airport\\sm01\\#02\\data\\udp_dnlk_loss_latency\\home\\wmnlab\\jackbedford\\data\\2023-11-01\\UDP_Bandlock_9S_Phone_Airport\\sm03\\#02\\data\\udp_dnlk_loss_latency.csv\n",
      "118/216 /home/wmnlab/jackbedford/data/2023-11-01/UDP_Bandlock_9S_Phone_Airport/sm01/#02/data/handover_info_log.csv\n",
      "118/216 /home/wmnlab/jackbedford/data/2023-11-01/UDP_Bandlock_9S_Phone_Airport/sm01/#02/data/udp_dnlk_loss_latency.csv\n",
      "118/216 /home/wmnlab/jackbedford/data/2023-11-01/UDP_Bandlock_9S_Phone_Airport/sm01/#02/data/udp_uplk_loss_latency.csv\n",
      "118/216 /home/wmnlab/jackbedford/data/2023-11-01/UDP_Bandlock_9S_Phone_Airport/sm04/#02/data/handover_info_log.csv\n",
      "118/216 /home/wmnlab/jackbedford/data/2023-11-01/UDP_Bandlock_9S_Phone_Airport/sm04/#02/data/udp_dnlk_loss_latency.csv\n",
      "118/216 /home/wmnlab/jackbedford/data/2023-11-01/UDP_Bandlock_9S_Phone_Airport/sm04/#02/data/udp_uplk_loss_latency.csv\n"
     ]
    },
    {
     "data": {
      "application/vnd.jupyter.widget-view+json": {
       "model_id": "a2cfe7fbc4224305a740cf1e8f03b3bc",
       "version_major": 2,
       "version_minor": 0
      },
      "text/plain": [
       "  0%|                                                                                                         …"
      ]
     },
     "metadata": {},
     "output_type": "display_data"
    },
    {
     "name": "stdout",
     "output_type": "stream",
     "text": [
      "./20240312_150032342e_newest/20240314_060073cc2b/results/20240314_09375500000_f85b83d4e1645936_1.5corr/\\home\\wmnlab\\jackbedford\\data\\2023-11-01\\UDP_Bandlock_9S_Phone_Airport\\sm01\\#02\\data\\udp_dnlk_loss_latency\\home\\wmnlab\\jackbedford\\data\\2023-11-01\\UDP_Bandlock_9S_Phone_Airport\\sm04\\#02\\data\\udp_dnlk_loss_latency.csv\n",
      "119/216 /home/wmnlab/jackbedford/data/2023-11-01/UDP_Bandlock_9S_Phone_Airport/sm01/#02/data/handover_info_log.csv\n",
      "119/216 /home/wmnlab/jackbedford/data/2023-11-01/UDP_Bandlock_9S_Phone_Airport/sm01/#02/data/udp_dnlk_loss_latency.csv\n",
      "119/216 /home/wmnlab/jackbedford/data/2023-11-01/UDP_Bandlock_9S_Phone_Airport/sm01/#02/data/udp_uplk_loss_latency.csv\n",
      "119/216 /home/wmnlab/jackbedford/data/2023-11-01/UDP_Bandlock_9S_Phone_Airport/sm05/#02/data/handover_info_log.csv\n",
      "119/216 /home/wmnlab/jackbedford/data/2023-11-01/UDP_Bandlock_9S_Phone_Airport/sm05/#02/data/udp_dnlk_loss_latency.csv\n",
      "119/216 /home/wmnlab/jackbedford/data/2023-11-01/UDP_Bandlock_9S_Phone_Airport/sm05/#02/data/udp_uplk_loss_latency.csv\n"
     ]
    },
    {
     "data": {
      "application/vnd.jupyter.widget-view+json": {
       "model_id": "315b37ffb7a14b7b87c66c6ea9ae3b1d",
       "version_major": 2,
       "version_minor": 0
      },
      "text/plain": [
       "  0%|                                                                                                         …"
      ]
     },
     "metadata": {},
     "output_type": "display_data"
    },
    {
     "name": "stdout",
     "output_type": "stream",
     "text": [
      "./20240312_150032342e_newest/20240314_060073cc2b/results/20240314_09375500000_f85b83d4e1645936_1.5corr/\\home\\wmnlab\\jackbedford\\data\\2023-11-01\\UDP_Bandlock_9S_Phone_Airport\\sm01\\#02\\data\\udp_dnlk_loss_latency\\home\\wmnlab\\jackbedford\\data\\2023-11-01\\UDP_Bandlock_9S_Phone_Airport\\sm05\\#02\\data\\udp_dnlk_loss_latency.csv\n",
      "120/216 /home/wmnlab/jackbedford/data/2023-11-01/UDP_Bandlock_9S_Phone_Airport/sm01/#02/data/handover_info_log.csv\n",
      "120/216 /home/wmnlab/jackbedford/data/2023-11-01/UDP_Bandlock_9S_Phone_Airport/sm01/#02/data/udp_dnlk_loss_latency.csv\n",
      "120/216 /home/wmnlab/jackbedford/data/2023-11-01/UDP_Bandlock_9S_Phone_Airport/sm01/#02/data/udp_uplk_loss_latency.csv\n",
      "120/216 /home/wmnlab/jackbedford/data/2023-11-01/UDP_Bandlock_9S_Phone_Airport/sm06/#02/data/handover_info_log.csv\n",
      "120/216 /home/wmnlab/jackbedford/data/2023-11-01/UDP_Bandlock_9S_Phone_Airport/sm06/#02/data/udp_dnlk_loss_latency.csv\n",
      "120/216 /home/wmnlab/jackbedford/data/2023-11-01/UDP_Bandlock_9S_Phone_Airport/sm06/#02/data/udp_uplk_loss_latency.csv\n"
     ]
    },
    {
     "data": {
      "application/vnd.jupyter.widget-view+json": {
       "model_id": "abc6e4b4c98e48a88eed8785169f25b0",
       "version_major": 2,
       "version_minor": 0
      },
      "text/plain": [
       "  0%|                                                                                                         …"
      ]
     },
     "metadata": {},
     "output_type": "display_data"
    },
    {
     "name": "stdout",
     "output_type": "stream",
     "text": [
      "./20240312_150032342e_newest/20240314_060073cc2b/results/20240314_09375500000_f85b83d4e1645936_1.5corr/\\home\\wmnlab\\jackbedford\\data\\2023-11-01\\UDP_Bandlock_9S_Phone_Airport\\sm01\\#02\\data\\udp_dnlk_loss_latency\\home\\wmnlab\\jackbedford\\data\\2023-11-01\\UDP_Bandlock_9S_Phone_Airport\\sm06\\#02\\data\\udp_dnlk_loss_latency.csv\n",
      "121/216 /home/wmnlab/jackbedford/data/2023-11-01/UDP_Bandlock_9S_Phone_Airport/sm01/#02/data/handover_info_log.csv\n",
      "121/216 /home/wmnlab/jackbedford/data/2023-11-01/UDP_Bandlock_9S_Phone_Airport/sm01/#02/data/udp_dnlk_loss_latency.csv\n",
      "121/216 /home/wmnlab/jackbedford/data/2023-11-01/UDP_Bandlock_9S_Phone_Airport/sm01/#02/data/udp_uplk_loss_latency.csv\n",
      "121/216 /home/wmnlab/jackbedford/data/2023-11-01/UDP_Bandlock_9S_Phone_Airport/sm07/#02/data/handover_info_log.csv\n",
      "121/216 /home/wmnlab/jackbedford/data/2023-11-01/UDP_Bandlock_9S_Phone_Airport/sm07/#02/data/udp_dnlk_loss_latency.csv\n",
      "121/216 /home/wmnlab/jackbedford/data/2023-11-01/UDP_Bandlock_9S_Phone_Airport/sm07/#02/data/udp_uplk_loss_latency.csv\n"
     ]
    },
    {
     "data": {
      "application/vnd.jupyter.widget-view+json": {
       "model_id": "2c0ab5a995464b74ade76a00330dd53f",
       "version_major": 2,
       "version_minor": 0
      },
      "text/plain": [
       "  0%|                                                                                                         …"
      ]
     },
     "metadata": {},
     "output_type": "display_data"
    },
    {
     "name": "stdout",
     "output_type": "stream",
     "text": [
      "./20240312_150032342e_newest/20240314_060073cc2b/results/20240314_09375500000_f85b83d4e1645936_1.5corr/\\home\\wmnlab\\jackbedford\\data\\2023-11-01\\UDP_Bandlock_9S_Phone_Airport\\sm01\\#02\\data\\udp_dnlk_loss_latency\\home\\wmnlab\\jackbedford\\data\\2023-11-01\\UDP_Bandlock_9S_Phone_Airport\\sm07\\#02\\data\\udp_dnlk_loss_latency.csv\n",
      "122/216 /home/wmnlab/jackbedford/data/2023-11-01/UDP_Bandlock_9S_Phone_Airport/sm01/#02/data/handover_info_log.csv\n",
      "122/216 /home/wmnlab/jackbedford/data/2023-11-01/UDP_Bandlock_9S_Phone_Airport/sm01/#02/data/udp_dnlk_loss_latency.csv\n",
      "122/216 /home/wmnlab/jackbedford/data/2023-11-01/UDP_Bandlock_9S_Phone_Airport/sm01/#02/data/udp_uplk_loss_latency.csv\n",
      "122/216 /home/wmnlab/jackbedford/data/2023-11-01/UDP_Bandlock_9S_Phone_Airport/sm08/#02/data/handover_info_log.csv\n",
      "122/216 /home/wmnlab/jackbedford/data/2023-11-01/UDP_Bandlock_9S_Phone_Airport/sm08/#02/data/udp_dnlk_loss_latency.csv\n",
      "122/216 /home/wmnlab/jackbedford/data/2023-11-01/UDP_Bandlock_9S_Phone_Airport/sm08/#02/data/udp_uplk_loss_latency.csv\n"
     ]
    },
    {
     "data": {
      "application/vnd.jupyter.widget-view+json": {
       "model_id": "66797bb715ca465388613bd923496e2d",
       "version_major": 2,
       "version_minor": 0
      },
      "text/plain": [
       "  0%|                                                                                                         …"
      ]
     },
     "metadata": {},
     "output_type": "display_data"
    },
    {
     "name": "stdout",
     "output_type": "stream",
     "text": [
      "./20240312_150032342e_newest/20240314_060073cc2b/results/20240314_09375500000_f85b83d4e1645936_1.5corr/\\home\\wmnlab\\jackbedford\\data\\2023-11-01\\UDP_Bandlock_9S_Phone_Airport\\sm01\\#02\\data\\udp_dnlk_loss_latency\\home\\wmnlab\\jackbedford\\data\\2023-11-01\\UDP_Bandlock_9S_Phone_Airport\\sm08\\#02\\data\\udp_dnlk_loss_latency.csv\n",
      "123/216 /home/wmnlab/jackbedford/data/2023-11-01/UDP_Bandlock_9S_Phone_Airport/sm02/#02/data/handover_info_log.csv\n",
      "123/216 /home/wmnlab/jackbedford/data/2023-11-01/UDP_Bandlock_9S_Phone_Airport/sm02/#02/data/udp_dnlk_loss_latency.csv\n",
      "123/216 /home/wmnlab/jackbedford/data/2023-11-01/UDP_Bandlock_9S_Phone_Airport/sm02/#02/data/udp_uplk_loss_latency.csv\n",
      "123/216 /home/wmnlab/jackbedford/data/2023-11-01/UDP_Bandlock_9S_Phone_Airport/sm03/#02/data/handover_info_log.csv\n",
      "123/216 /home/wmnlab/jackbedford/data/2023-11-01/UDP_Bandlock_9S_Phone_Airport/sm03/#02/data/udp_dnlk_loss_latency.csv\n",
      "123/216 /home/wmnlab/jackbedford/data/2023-11-01/UDP_Bandlock_9S_Phone_Airport/sm03/#02/data/udp_uplk_loss_latency.csv\n"
     ]
    },
    {
     "data": {
      "application/vnd.jupyter.widget-view+json": {
       "model_id": "c816d49bd6994e4d8044547a947622be",
       "version_major": 2,
       "version_minor": 0
      },
      "text/plain": [
       "  0%|                                                                                                         …"
      ]
     },
     "metadata": {},
     "output_type": "display_data"
    },
    {
     "name": "stdout",
     "output_type": "stream",
     "text": [
      "./20240312_150032342e_newest/20240314_060073cc2b/results/20240314_09375500000_f85b83d4e1645936_1.5corr/\\home\\wmnlab\\jackbedford\\data\\2023-11-01\\UDP_Bandlock_9S_Phone_Airport\\sm02\\#02\\data\\udp_dnlk_loss_latency\\home\\wmnlab\\jackbedford\\data\\2023-11-01\\UDP_Bandlock_9S_Phone_Airport\\sm03\\#02\\data\\udp_dnlk_loss_latency.csv\n",
      "124/216 /home/wmnlab/jackbedford/data/2023-11-01/UDP_Bandlock_9S_Phone_Airport/sm02/#02/data/handover_info_log.csv\n",
      "124/216 /home/wmnlab/jackbedford/data/2023-11-01/UDP_Bandlock_9S_Phone_Airport/sm02/#02/data/udp_dnlk_loss_latency.csv\n",
      "124/216 /home/wmnlab/jackbedford/data/2023-11-01/UDP_Bandlock_9S_Phone_Airport/sm02/#02/data/udp_uplk_loss_latency.csv\n",
      "124/216 /home/wmnlab/jackbedford/data/2023-11-01/UDP_Bandlock_9S_Phone_Airport/sm04/#02/data/handover_info_log.csv\n",
      "124/216 /home/wmnlab/jackbedford/data/2023-11-01/UDP_Bandlock_9S_Phone_Airport/sm04/#02/data/udp_dnlk_loss_latency.csv\n",
      "124/216 /home/wmnlab/jackbedford/data/2023-11-01/UDP_Bandlock_9S_Phone_Airport/sm04/#02/data/udp_uplk_loss_latency.csv\n"
     ]
    },
    {
     "data": {
      "application/vnd.jupyter.widget-view+json": {
       "model_id": "e38e875474fd496caa3f9c13f1076679",
       "version_major": 2,
       "version_minor": 0
      },
      "text/plain": [
       "  0%|                                                                                                         …"
      ]
     },
     "metadata": {},
     "output_type": "display_data"
    },
    {
     "name": "stdout",
     "output_type": "stream",
     "text": [
      "./20240312_150032342e_newest/20240314_060073cc2b/results/20240314_09375500000_f85b83d4e1645936_1.5corr/\\home\\wmnlab\\jackbedford\\data\\2023-11-01\\UDP_Bandlock_9S_Phone_Airport\\sm02\\#02\\data\\udp_dnlk_loss_latency\\home\\wmnlab\\jackbedford\\data\\2023-11-01\\UDP_Bandlock_9S_Phone_Airport\\sm04\\#02\\data\\udp_dnlk_loss_latency.csv\n",
      "125/216 /home/wmnlab/jackbedford/data/2023-11-01/UDP_Bandlock_9S_Phone_Airport/sm02/#02/data/handover_info_log.csv\n",
      "125/216 /home/wmnlab/jackbedford/data/2023-11-01/UDP_Bandlock_9S_Phone_Airport/sm02/#02/data/udp_dnlk_loss_latency.csv\n",
      "125/216 /home/wmnlab/jackbedford/data/2023-11-01/UDP_Bandlock_9S_Phone_Airport/sm02/#02/data/udp_uplk_loss_latency.csv\n",
      "125/216 /home/wmnlab/jackbedford/data/2023-11-01/UDP_Bandlock_9S_Phone_Airport/sm05/#02/data/handover_info_log.csv\n",
      "125/216 /home/wmnlab/jackbedford/data/2023-11-01/UDP_Bandlock_9S_Phone_Airport/sm05/#02/data/udp_dnlk_loss_latency.csv\n",
      "125/216 /home/wmnlab/jackbedford/data/2023-11-01/UDP_Bandlock_9S_Phone_Airport/sm05/#02/data/udp_uplk_loss_latency.csv\n"
     ]
    },
    {
     "data": {
      "application/vnd.jupyter.widget-view+json": {
       "model_id": "5553cc7610f64d439a0042a508a519cf",
       "version_major": 2,
       "version_minor": 0
      },
      "text/plain": [
       "  0%|                                                                                                         …"
      ]
     },
     "metadata": {},
     "output_type": "display_data"
    },
    {
     "name": "stdout",
     "output_type": "stream",
     "text": [
      "./20240312_150032342e_newest/20240314_060073cc2b/results/20240314_09375500000_f85b83d4e1645936_1.5corr/\\home\\wmnlab\\jackbedford\\data\\2023-11-01\\UDP_Bandlock_9S_Phone_Airport\\sm02\\#02\\data\\udp_dnlk_loss_latency\\home\\wmnlab\\jackbedford\\data\\2023-11-01\\UDP_Bandlock_9S_Phone_Airport\\sm05\\#02\\data\\udp_dnlk_loss_latency.csv\n",
      "126/216 /home/wmnlab/jackbedford/data/2023-11-01/UDP_Bandlock_9S_Phone_Airport/sm02/#02/data/handover_info_log.csv\n",
      "126/216 /home/wmnlab/jackbedford/data/2023-11-01/UDP_Bandlock_9S_Phone_Airport/sm02/#02/data/udp_dnlk_loss_latency.csv\n",
      "126/216 /home/wmnlab/jackbedford/data/2023-11-01/UDP_Bandlock_9S_Phone_Airport/sm02/#02/data/udp_uplk_loss_latency.csv\n",
      "126/216 /home/wmnlab/jackbedford/data/2023-11-01/UDP_Bandlock_9S_Phone_Airport/sm06/#02/data/handover_info_log.csv\n",
      "126/216 /home/wmnlab/jackbedford/data/2023-11-01/UDP_Bandlock_9S_Phone_Airport/sm06/#02/data/udp_dnlk_loss_latency.csv\n",
      "126/216 /home/wmnlab/jackbedford/data/2023-11-01/UDP_Bandlock_9S_Phone_Airport/sm06/#02/data/udp_uplk_loss_latency.csv\n"
     ]
    },
    {
     "data": {
      "application/vnd.jupyter.widget-view+json": {
       "model_id": "6a41317469f04374b40b1550833cdd94",
       "version_major": 2,
       "version_minor": 0
      },
      "text/plain": [
       "  0%|                                                                                                         …"
      ]
     },
     "metadata": {},
     "output_type": "display_data"
    },
    {
     "name": "stdout",
     "output_type": "stream",
     "text": [
      "./20240312_150032342e_newest/20240314_060073cc2b/results/20240314_09375500000_f85b83d4e1645936_1.5corr/\\home\\wmnlab\\jackbedford\\data\\2023-11-01\\UDP_Bandlock_9S_Phone_Airport\\sm02\\#02\\data\\udp_dnlk_loss_latency\\home\\wmnlab\\jackbedford\\data\\2023-11-01\\UDP_Bandlock_9S_Phone_Airport\\sm06\\#02\\data\\udp_dnlk_loss_latency.csv\n",
      "127/216 /home/wmnlab/jackbedford/data/2023-11-01/UDP_Bandlock_9S_Phone_Airport/sm02/#02/data/handover_info_log.csv\n",
      "127/216 /home/wmnlab/jackbedford/data/2023-11-01/UDP_Bandlock_9S_Phone_Airport/sm02/#02/data/udp_dnlk_loss_latency.csv\n",
      "127/216 /home/wmnlab/jackbedford/data/2023-11-01/UDP_Bandlock_9S_Phone_Airport/sm02/#02/data/udp_uplk_loss_latency.csv\n",
      "127/216 /home/wmnlab/jackbedford/data/2023-11-01/UDP_Bandlock_9S_Phone_Airport/sm07/#02/data/handover_info_log.csv\n",
      "127/216 /home/wmnlab/jackbedford/data/2023-11-01/UDP_Bandlock_9S_Phone_Airport/sm07/#02/data/udp_dnlk_loss_latency.csv\n",
      "127/216 /home/wmnlab/jackbedford/data/2023-11-01/UDP_Bandlock_9S_Phone_Airport/sm07/#02/data/udp_uplk_loss_latency.csv\n"
     ]
    },
    {
     "data": {
      "application/vnd.jupyter.widget-view+json": {
       "model_id": "1e726eebb68c48f988e8f66d22c7686c",
       "version_major": 2,
       "version_minor": 0
      },
      "text/plain": [
       "  0%|                                                                                                         …"
      ]
     },
     "metadata": {},
     "output_type": "display_data"
    },
    {
     "name": "stdout",
     "output_type": "stream",
     "text": [
      "./20240312_150032342e_newest/20240314_060073cc2b/results/20240314_09375500000_f85b83d4e1645936_1.5corr/\\home\\wmnlab\\jackbedford\\data\\2023-11-01\\UDP_Bandlock_9S_Phone_Airport\\sm02\\#02\\data\\udp_dnlk_loss_latency\\home\\wmnlab\\jackbedford\\data\\2023-11-01\\UDP_Bandlock_9S_Phone_Airport\\sm07\\#02\\data\\udp_dnlk_loss_latency.csv\n",
      "128/216 /home/wmnlab/jackbedford/data/2023-11-01/UDP_Bandlock_9S_Phone_Airport/sm02/#02/data/handover_info_log.csv\n",
      "128/216 /home/wmnlab/jackbedford/data/2023-11-01/UDP_Bandlock_9S_Phone_Airport/sm02/#02/data/udp_dnlk_loss_latency.csv\n",
      "128/216 /home/wmnlab/jackbedford/data/2023-11-01/UDP_Bandlock_9S_Phone_Airport/sm02/#02/data/udp_uplk_loss_latency.csv\n",
      "128/216 /home/wmnlab/jackbedford/data/2023-11-01/UDP_Bandlock_9S_Phone_Airport/sm08/#02/data/handover_info_log.csv\n",
      "128/216 /home/wmnlab/jackbedford/data/2023-11-01/UDP_Bandlock_9S_Phone_Airport/sm08/#02/data/udp_dnlk_loss_latency.csv\n",
      "128/216 /home/wmnlab/jackbedford/data/2023-11-01/UDP_Bandlock_9S_Phone_Airport/sm08/#02/data/udp_uplk_loss_latency.csv\n"
     ]
    },
    {
     "data": {
      "application/vnd.jupyter.widget-view+json": {
       "model_id": "9ac3ba4ca6df45b9b669dea88b95b5f7",
       "version_major": 2,
       "version_minor": 0
      },
      "text/plain": [
       "  0%|                                                                                                         …"
      ]
     },
     "metadata": {},
     "output_type": "display_data"
    },
    {
     "name": "stdout",
     "output_type": "stream",
     "text": [
      "./20240312_150032342e_newest/20240314_060073cc2b/results/20240314_09375500000_f85b83d4e1645936_1.5corr/\\home\\wmnlab\\jackbedford\\data\\2023-11-01\\UDP_Bandlock_9S_Phone_Airport\\sm02\\#02\\data\\udp_dnlk_loss_latency\\home\\wmnlab\\jackbedford\\data\\2023-11-01\\UDP_Bandlock_9S_Phone_Airport\\sm08\\#02\\data\\udp_dnlk_loss_latency.csv\n",
      "129/216 /home/wmnlab/jackbedford/data/2023-11-01/UDP_Bandlock_9S_Phone_Airport/sm03/#02/data/handover_info_log.csv\n",
      "129/216 /home/wmnlab/jackbedford/data/2023-11-01/UDP_Bandlock_9S_Phone_Airport/sm03/#02/data/udp_dnlk_loss_latency.csv\n",
      "129/216 /home/wmnlab/jackbedford/data/2023-11-01/UDP_Bandlock_9S_Phone_Airport/sm03/#02/data/udp_uplk_loss_latency.csv\n",
      "129/216 /home/wmnlab/jackbedford/data/2023-11-01/UDP_Bandlock_9S_Phone_Airport/sm04/#02/data/handover_info_log.csv\n",
      "129/216 /home/wmnlab/jackbedford/data/2023-11-01/UDP_Bandlock_9S_Phone_Airport/sm04/#02/data/udp_dnlk_loss_latency.csv\n",
      "129/216 /home/wmnlab/jackbedford/data/2023-11-01/UDP_Bandlock_9S_Phone_Airport/sm04/#02/data/udp_uplk_loss_latency.csv\n"
     ]
    },
    {
     "data": {
      "application/vnd.jupyter.widget-view+json": {
       "model_id": "2612925c6945402d97206f5cef7aa3d2",
       "version_major": 2,
       "version_minor": 0
      },
      "text/plain": [
       "  0%|                                                                                                         …"
      ]
     },
     "metadata": {},
     "output_type": "display_data"
    },
    {
     "name": "stdout",
     "output_type": "stream",
     "text": [
      "./20240312_150032342e_newest/20240314_060073cc2b/results/20240314_09375500000_f85b83d4e1645936_1.5corr/\\home\\wmnlab\\jackbedford\\data\\2023-11-01\\UDP_Bandlock_9S_Phone_Airport\\sm03\\#02\\data\\udp_dnlk_loss_latency\\home\\wmnlab\\jackbedford\\data\\2023-11-01\\UDP_Bandlock_9S_Phone_Airport\\sm04\\#02\\data\\udp_dnlk_loss_latency.csv\n",
      "130/216 /home/wmnlab/jackbedford/data/2023-11-01/UDP_Bandlock_9S_Phone_Airport/sm03/#02/data/handover_info_log.csv\n",
      "130/216 /home/wmnlab/jackbedford/data/2023-11-01/UDP_Bandlock_9S_Phone_Airport/sm03/#02/data/udp_dnlk_loss_latency.csv\n",
      "130/216 /home/wmnlab/jackbedford/data/2023-11-01/UDP_Bandlock_9S_Phone_Airport/sm03/#02/data/udp_uplk_loss_latency.csv\n",
      "130/216 /home/wmnlab/jackbedford/data/2023-11-01/UDP_Bandlock_9S_Phone_Airport/sm05/#02/data/handover_info_log.csv\n",
      "130/216 /home/wmnlab/jackbedford/data/2023-11-01/UDP_Bandlock_9S_Phone_Airport/sm05/#02/data/udp_dnlk_loss_latency.csv\n",
      "130/216 /home/wmnlab/jackbedford/data/2023-11-01/UDP_Bandlock_9S_Phone_Airport/sm05/#02/data/udp_uplk_loss_latency.csv\n"
     ]
    },
    {
     "data": {
      "application/vnd.jupyter.widget-view+json": {
       "model_id": "8bb800da19734267ae86aa3500131e64",
       "version_major": 2,
       "version_minor": 0
      },
      "text/plain": [
       "  0%|                                                                                                         …"
      ]
     },
     "metadata": {},
     "output_type": "display_data"
    },
    {
     "name": "stdout",
     "output_type": "stream",
     "text": [
      "./20240312_150032342e_newest/20240314_060073cc2b/results/20240314_09375500000_f85b83d4e1645936_1.5corr/\\home\\wmnlab\\jackbedford\\data\\2023-11-01\\UDP_Bandlock_9S_Phone_Airport\\sm03\\#02\\data\\udp_dnlk_loss_latency\\home\\wmnlab\\jackbedford\\data\\2023-11-01\\UDP_Bandlock_9S_Phone_Airport\\sm05\\#02\\data\\udp_dnlk_loss_latency.csv\n",
      "131/216 /home/wmnlab/jackbedford/data/2023-11-01/UDP_Bandlock_9S_Phone_Airport/sm03/#02/data/handover_info_log.csv\n",
      "131/216 /home/wmnlab/jackbedford/data/2023-11-01/UDP_Bandlock_9S_Phone_Airport/sm03/#02/data/udp_dnlk_loss_latency.csv\n",
      "131/216 /home/wmnlab/jackbedford/data/2023-11-01/UDP_Bandlock_9S_Phone_Airport/sm03/#02/data/udp_uplk_loss_latency.csv\n",
      "131/216 /home/wmnlab/jackbedford/data/2023-11-01/UDP_Bandlock_9S_Phone_Airport/sm06/#02/data/handover_info_log.csv\n",
      "131/216 /home/wmnlab/jackbedford/data/2023-11-01/UDP_Bandlock_9S_Phone_Airport/sm06/#02/data/udp_dnlk_loss_latency.csv\n",
      "131/216 /home/wmnlab/jackbedford/data/2023-11-01/UDP_Bandlock_9S_Phone_Airport/sm06/#02/data/udp_uplk_loss_latency.csv\n"
     ]
    },
    {
     "data": {
      "application/vnd.jupyter.widget-view+json": {
       "model_id": "b09b5921b2064ffea2e792244412daaf",
       "version_major": 2,
       "version_minor": 0
      },
      "text/plain": [
       "  0%|                                                                                                         …"
      ]
     },
     "metadata": {},
     "output_type": "display_data"
    },
    {
     "name": "stdout",
     "output_type": "stream",
     "text": [
      "./20240312_150032342e_newest/20240314_060073cc2b/results/20240314_09375500000_f85b83d4e1645936_1.5corr/\\home\\wmnlab\\jackbedford\\data\\2023-11-01\\UDP_Bandlock_9S_Phone_Airport\\sm03\\#02\\data\\udp_dnlk_loss_latency\\home\\wmnlab\\jackbedford\\data\\2023-11-01\\UDP_Bandlock_9S_Phone_Airport\\sm06\\#02\\data\\udp_dnlk_loss_latency.csv\n",
      "132/216 /home/wmnlab/jackbedford/data/2023-11-01/UDP_Bandlock_9S_Phone_Airport/sm03/#02/data/handover_info_log.csv\n",
      "132/216 /home/wmnlab/jackbedford/data/2023-11-01/UDP_Bandlock_9S_Phone_Airport/sm03/#02/data/udp_dnlk_loss_latency.csv\n",
      "132/216 /home/wmnlab/jackbedford/data/2023-11-01/UDP_Bandlock_9S_Phone_Airport/sm03/#02/data/udp_uplk_loss_latency.csv\n",
      "132/216 /home/wmnlab/jackbedford/data/2023-11-01/UDP_Bandlock_9S_Phone_Airport/sm07/#02/data/handover_info_log.csv\n",
      "132/216 /home/wmnlab/jackbedford/data/2023-11-01/UDP_Bandlock_9S_Phone_Airport/sm07/#02/data/udp_dnlk_loss_latency.csv\n",
      "132/216 /home/wmnlab/jackbedford/data/2023-11-01/UDP_Bandlock_9S_Phone_Airport/sm07/#02/data/udp_uplk_loss_latency.csv\n"
     ]
    },
    {
     "data": {
      "application/vnd.jupyter.widget-view+json": {
       "model_id": "a7382f1c78424fb7bc79d1756595c9ff",
       "version_major": 2,
       "version_minor": 0
      },
      "text/plain": [
       "  0%|                                                                                                         …"
      ]
     },
     "metadata": {},
     "output_type": "display_data"
    },
    {
     "name": "stdout",
     "output_type": "stream",
     "text": [
      "./20240312_150032342e_newest/20240314_060073cc2b/results/20240314_09375500000_f85b83d4e1645936_1.5corr/\\home\\wmnlab\\jackbedford\\data\\2023-11-01\\UDP_Bandlock_9S_Phone_Airport\\sm03\\#02\\data\\udp_dnlk_loss_latency\\home\\wmnlab\\jackbedford\\data\\2023-11-01\\UDP_Bandlock_9S_Phone_Airport\\sm07\\#02\\data\\udp_dnlk_loss_latency.csv\n",
      "133/216 /home/wmnlab/jackbedford/data/2023-11-01/UDP_Bandlock_9S_Phone_Airport/sm03/#02/data/handover_info_log.csv\n",
      "133/216 /home/wmnlab/jackbedford/data/2023-11-01/UDP_Bandlock_9S_Phone_Airport/sm03/#02/data/udp_dnlk_loss_latency.csv\n",
      "133/216 /home/wmnlab/jackbedford/data/2023-11-01/UDP_Bandlock_9S_Phone_Airport/sm03/#02/data/udp_uplk_loss_latency.csv\n",
      "133/216 /home/wmnlab/jackbedford/data/2023-11-01/UDP_Bandlock_9S_Phone_Airport/sm08/#02/data/handover_info_log.csv\n",
      "133/216 /home/wmnlab/jackbedford/data/2023-11-01/UDP_Bandlock_9S_Phone_Airport/sm08/#02/data/udp_dnlk_loss_latency.csv\n",
      "133/216 /home/wmnlab/jackbedford/data/2023-11-01/UDP_Bandlock_9S_Phone_Airport/sm08/#02/data/udp_uplk_loss_latency.csv\n"
     ]
    },
    {
     "data": {
      "application/vnd.jupyter.widget-view+json": {
       "model_id": "339e03339ce248a6aa8ba0ff64e72485",
       "version_major": 2,
       "version_minor": 0
      },
      "text/plain": [
       "  0%|                                                                                                         …"
      ]
     },
     "metadata": {},
     "output_type": "display_data"
    },
    {
     "name": "stdout",
     "output_type": "stream",
     "text": [
      "./20240312_150032342e_newest/20240314_060073cc2b/results/20240314_09375500000_f85b83d4e1645936_1.5corr/\\home\\wmnlab\\jackbedford\\data\\2023-11-01\\UDP_Bandlock_9S_Phone_Airport\\sm03\\#02\\data\\udp_dnlk_loss_latency\\home\\wmnlab\\jackbedford\\data\\2023-11-01\\UDP_Bandlock_9S_Phone_Airport\\sm08\\#02\\data\\udp_dnlk_loss_latency.csv\n",
      "134/216 /home/wmnlab/jackbedford/data/2023-11-01/UDP_Bandlock_9S_Phone_Airport/sm04/#02/data/handover_info_log.csv\n",
      "134/216 /home/wmnlab/jackbedford/data/2023-11-01/UDP_Bandlock_9S_Phone_Airport/sm04/#02/data/udp_dnlk_loss_latency.csv\n",
      "134/216 /home/wmnlab/jackbedford/data/2023-11-01/UDP_Bandlock_9S_Phone_Airport/sm04/#02/data/udp_uplk_loss_latency.csv\n",
      "134/216 /home/wmnlab/jackbedford/data/2023-11-01/UDP_Bandlock_9S_Phone_Airport/sm05/#02/data/handover_info_log.csv\n",
      "134/216 /home/wmnlab/jackbedford/data/2023-11-01/UDP_Bandlock_9S_Phone_Airport/sm05/#02/data/udp_dnlk_loss_latency.csv\n",
      "134/216 /home/wmnlab/jackbedford/data/2023-11-01/UDP_Bandlock_9S_Phone_Airport/sm05/#02/data/udp_uplk_loss_latency.csv\n"
     ]
    },
    {
     "data": {
      "application/vnd.jupyter.widget-view+json": {
       "model_id": "1f15e7ba27cd4bc3b76090061e061be6",
       "version_major": 2,
       "version_minor": 0
      },
      "text/plain": [
       "  0%|                                                                                                         …"
      ]
     },
     "metadata": {},
     "output_type": "display_data"
    },
    {
     "name": "stdout",
     "output_type": "stream",
     "text": [
      "./20240312_150032342e_newest/20240314_060073cc2b/results/20240314_09375500000_f85b83d4e1645936_1.5corr/\\home\\wmnlab\\jackbedford\\data\\2023-11-01\\UDP_Bandlock_9S_Phone_Airport\\sm04\\#02\\data\\udp_dnlk_loss_latency\\home\\wmnlab\\jackbedford\\data\\2023-11-01\\UDP_Bandlock_9S_Phone_Airport\\sm05\\#02\\data\\udp_dnlk_loss_latency.csv\n",
      "135/216 /home/wmnlab/jackbedford/data/2023-11-01/UDP_Bandlock_9S_Phone_Airport/sm04/#02/data/handover_info_log.csv\n",
      "135/216 /home/wmnlab/jackbedford/data/2023-11-01/UDP_Bandlock_9S_Phone_Airport/sm04/#02/data/udp_dnlk_loss_latency.csv\n",
      "135/216 /home/wmnlab/jackbedford/data/2023-11-01/UDP_Bandlock_9S_Phone_Airport/sm04/#02/data/udp_uplk_loss_latency.csv\n",
      "135/216 /home/wmnlab/jackbedford/data/2023-11-01/UDP_Bandlock_9S_Phone_Airport/sm06/#02/data/handover_info_log.csv\n",
      "135/216 /home/wmnlab/jackbedford/data/2023-11-01/UDP_Bandlock_9S_Phone_Airport/sm06/#02/data/udp_dnlk_loss_latency.csv\n",
      "135/216 /home/wmnlab/jackbedford/data/2023-11-01/UDP_Bandlock_9S_Phone_Airport/sm06/#02/data/udp_uplk_loss_latency.csv\n"
     ]
    },
    {
     "data": {
      "application/vnd.jupyter.widget-view+json": {
       "model_id": "8666256e0be54387aaad1deac3425012",
       "version_major": 2,
       "version_minor": 0
      },
      "text/plain": [
       "  0%|                                                                                                         …"
      ]
     },
     "metadata": {},
     "output_type": "display_data"
    },
    {
     "name": "stdout",
     "output_type": "stream",
     "text": [
      "./20240312_150032342e_newest/20240314_060073cc2b/results/20240314_09375500000_f85b83d4e1645936_1.5corr/\\home\\wmnlab\\jackbedford\\data\\2023-11-01\\UDP_Bandlock_9S_Phone_Airport\\sm04\\#02\\data\\udp_dnlk_loss_latency\\home\\wmnlab\\jackbedford\\data\\2023-11-01\\UDP_Bandlock_9S_Phone_Airport\\sm06\\#02\\data\\udp_dnlk_loss_latency.csv\n",
      "136/216 /home/wmnlab/jackbedford/data/2023-11-01/UDP_Bandlock_9S_Phone_Airport/sm04/#02/data/handover_info_log.csv\n",
      "136/216 /home/wmnlab/jackbedford/data/2023-11-01/UDP_Bandlock_9S_Phone_Airport/sm04/#02/data/udp_dnlk_loss_latency.csv\n",
      "136/216 /home/wmnlab/jackbedford/data/2023-11-01/UDP_Bandlock_9S_Phone_Airport/sm04/#02/data/udp_uplk_loss_latency.csv\n",
      "136/216 /home/wmnlab/jackbedford/data/2023-11-01/UDP_Bandlock_9S_Phone_Airport/sm07/#02/data/handover_info_log.csv\n",
      "136/216 /home/wmnlab/jackbedford/data/2023-11-01/UDP_Bandlock_9S_Phone_Airport/sm07/#02/data/udp_dnlk_loss_latency.csv\n",
      "136/216 /home/wmnlab/jackbedford/data/2023-11-01/UDP_Bandlock_9S_Phone_Airport/sm07/#02/data/udp_uplk_loss_latency.csv\n"
     ]
    },
    {
     "data": {
      "application/vnd.jupyter.widget-view+json": {
       "model_id": "ef972a783c434a1a87203b182adc9f79",
       "version_major": 2,
       "version_minor": 0
      },
      "text/plain": [
       "  0%|                                                                                                         …"
      ]
     },
     "metadata": {},
     "output_type": "display_data"
    },
    {
     "name": "stdout",
     "output_type": "stream",
     "text": [
      "./20240312_150032342e_newest/20240314_060073cc2b/results/20240314_09375500000_f85b83d4e1645936_1.5corr/\\home\\wmnlab\\jackbedford\\data\\2023-11-01\\UDP_Bandlock_9S_Phone_Airport\\sm04\\#02\\data\\udp_dnlk_loss_latency\\home\\wmnlab\\jackbedford\\data\\2023-11-01\\UDP_Bandlock_9S_Phone_Airport\\sm07\\#02\\data\\udp_dnlk_loss_latency.csv\n",
      "137/216 /home/wmnlab/jackbedford/data/2023-11-01/UDP_Bandlock_9S_Phone_Airport/sm04/#02/data/handover_info_log.csv\n",
      "137/216 /home/wmnlab/jackbedford/data/2023-11-01/UDP_Bandlock_9S_Phone_Airport/sm04/#02/data/udp_dnlk_loss_latency.csv\n",
      "137/216 /home/wmnlab/jackbedford/data/2023-11-01/UDP_Bandlock_9S_Phone_Airport/sm04/#02/data/udp_uplk_loss_latency.csv\n",
      "137/216 /home/wmnlab/jackbedford/data/2023-11-01/UDP_Bandlock_9S_Phone_Airport/sm08/#02/data/handover_info_log.csv\n",
      "137/216 /home/wmnlab/jackbedford/data/2023-11-01/UDP_Bandlock_9S_Phone_Airport/sm08/#02/data/udp_dnlk_loss_latency.csv\n",
      "137/216 /home/wmnlab/jackbedford/data/2023-11-01/UDP_Bandlock_9S_Phone_Airport/sm08/#02/data/udp_uplk_loss_latency.csv\n"
     ]
    },
    {
     "data": {
      "application/vnd.jupyter.widget-view+json": {
       "model_id": "9da1ef22fea6444f936c7bead8abef9a",
       "version_major": 2,
       "version_minor": 0
      },
      "text/plain": [
       "  0%|                                                                                                         …"
      ]
     },
     "metadata": {},
     "output_type": "display_data"
    },
    {
     "name": "stdout",
     "output_type": "stream",
     "text": [
      "./20240312_150032342e_newest/20240314_060073cc2b/results/20240314_09375500000_f85b83d4e1645936_1.5corr/\\home\\wmnlab\\jackbedford\\data\\2023-11-01\\UDP_Bandlock_9S_Phone_Airport\\sm04\\#02\\data\\udp_dnlk_loss_latency\\home\\wmnlab\\jackbedford\\data\\2023-11-01\\UDP_Bandlock_9S_Phone_Airport\\sm08\\#02\\data\\udp_dnlk_loss_latency.csv\n",
      "138/216 /home/wmnlab/jackbedford/data/2023-11-01/UDP_Bandlock_9S_Phone_Airport/sm05/#02/data/handover_info_log.csv\n",
      "138/216 /home/wmnlab/jackbedford/data/2023-11-01/UDP_Bandlock_9S_Phone_Airport/sm05/#02/data/udp_dnlk_loss_latency.csv\n",
      "138/216 /home/wmnlab/jackbedford/data/2023-11-01/UDP_Bandlock_9S_Phone_Airport/sm05/#02/data/udp_uplk_loss_latency.csv\n",
      "138/216 /home/wmnlab/jackbedford/data/2023-11-01/UDP_Bandlock_9S_Phone_Airport/sm06/#02/data/handover_info_log.csv\n",
      "138/216 /home/wmnlab/jackbedford/data/2023-11-01/UDP_Bandlock_9S_Phone_Airport/sm06/#02/data/udp_dnlk_loss_latency.csv\n",
      "138/216 /home/wmnlab/jackbedford/data/2023-11-01/UDP_Bandlock_9S_Phone_Airport/sm06/#02/data/udp_uplk_loss_latency.csv\n"
     ]
    },
    {
     "data": {
      "application/vnd.jupyter.widget-view+json": {
       "model_id": "bd4cac8f70264098aeb55b2a705599f4",
       "version_major": 2,
       "version_minor": 0
      },
      "text/plain": [
       "  0%|                                                                                                         …"
      ]
     },
     "metadata": {},
     "output_type": "display_data"
    },
    {
     "name": "stdout",
     "output_type": "stream",
     "text": [
      "./20240312_150032342e_newest/20240314_060073cc2b/results/20240314_09375500000_f85b83d4e1645936_1.5corr/\\home\\wmnlab\\jackbedford\\data\\2023-11-01\\UDP_Bandlock_9S_Phone_Airport\\sm05\\#02\\data\\udp_dnlk_loss_latency\\home\\wmnlab\\jackbedford\\data\\2023-11-01\\UDP_Bandlock_9S_Phone_Airport\\sm06\\#02\\data\\udp_dnlk_loss_latency.csv\n",
      "139/216 /home/wmnlab/jackbedford/data/2023-11-01/UDP_Bandlock_9S_Phone_Airport/sm05/#02/data/handover_info_log.csv\n",
      "139/216 /home/wmnlab/jackbedford/data/2023-11-01/UDP_Bandlock_9S_Phone_Airport/sm05/#02/data/udp_dnlk_loss_latency.csv\n",
      "139/216 /home/wmnlab/jackbedford/data/2023-11-01/UDP_Bandlock_9S_Phone_Airport/sm05/#02/data/udp_uplk_loss_latency.csv\n",
      "139/216 /home/wmnlab/jackbedford/data/2023-11-01/UDP_Bandlock_9S_Phone_Airport/sm07/#02/data/handover_info_log.csv\n",
      "139/216 /home/wmnlab/jackbedford/data/2023-11-01/UDP_Bandlock_9S_Phone_Airport/sm07/#02/data/udp_dnlk_loss_latency.csv\n",
      "139/216 /home/wmnlab/jackbedford/data/2023-11-01/UDP_Bandlock_9S_Phone_Airport/sm07/#02/data/udp_uplk_loss_latency.csv\n"
     ]
    },
    {
     "data": {
      "application/vnd.jupyter.widget-view+json": {
       "model_id": "f30dad588c594f67a28160e2926ce70a",
       "version_major": 2,
       "version_minor": 0
      },
      "text/plain": [
       "  0%|                                                                                                         …"
      ]
     },
     "metadata": {},
     "output_type": "display_data"
    },
    {
     "name": "stdout",
     "output_type": "stream",
     "text": [
      "./20240312_150032342e_newest/20240314_060073cc2b/results/20240314_09375500000_f85b83d4e1645936_1.5corr/\\home\\wmnlab\\jackbedford\\data\\2023-11-01\\UDP_Bandlock_9S_Phone_Airport\\sm05\\#02\\data\\udp_dnlk_loss_latency\\home\\wmnlab\\jackbedford\\data\\2023-11-01\\UDP_Bandlock_9S_Phone_Airport\\sm07\\#02\\data\\udp_dnlk_loss_latency.csv\n",
      "140/216 /home/wmnlab/jackbedford/data/2023-11-01/UDP_Bandlock_9S_Phone_Airport/sm05/#02/data/handover_info_log.csv\n",
      "140/216 /home/wmnlab/jackbedford/data/2023-11-01/UDP_Bandlock_9S_Phone_Airport/sm05/#02/data/udp_dnlk_loss_latency.csv\n",
      "140/216 /home/wmnlab/jackbedford/data/2023-11-01/UDP_Bandlock_9S_Phone_Airport/sm05/#02/data/udp_uplk_loss_latency.csv\n",
      "140/216 /home/wmnlab/jackbedford/data/2023-11-01/UDP_Bandlock_9S_Phone_Airport/sm08/#02/data/handover_info_log.csv\n",
      "140/216 /home/wmnlab/jackbedford/data/2023-11-01/UDP_Bandlock_9S_Phone_Airport/sm08/#02/data/udp_dnlk_loss_latency.csv\n",
      "140/216 /home/wmnlab/jackbedford/data/2023-11-01/UDP_Bandlock_9S_Phone_Airport/sm08/#02/data/udp_uplk_loss_latency.csv\n"
     ]
    },
    {
     "data": {
      "application/vnd.jupyter.widget-view+json": {
       "model_id": "fbbd80ba620841578da68e845b244f75",
       "version_major": 2,
       "version_minor": 0
      },
      "text/plain": [
       "  0%|                                                                                                         …"
      ]
     },
     "metadata": {},
     "output_type": "display_data"
    },
    {
     "name": "stdout",
     "output_type": "stream",
     "text": [
      "./20240312_150032342e_newest/20240314_060073cc2b/results/20240314_09375500000_f85b83d4e1645936_1.5corr/\\home\\wmnlab\\jackbedford\\data\\2023-11-01\\UDP_Bandlock_9S_Phone_Airport\\sm05\\#02\\data\\udp_dnlk_loss_latency\\home\\wmnlab\\jackbedford\\data\\2023-11-01\\UDP_Bandlock_9S_Phone_Airport\\sm08\\#02\\data\\udp_dnlk_loss_latency.csv\n",
      "141/216 /home/wmnlab/jackbedford/data/2023-11-01/UDP_Bandlock_9S_Phone_Airport/sm06/#02/data/handover_info_log.csv\n",
      "141/216 /home/wmnlab/jackbedford/data/2023-11-01/UDP_Bandlock_9S_Phone_Airport/sm06/#02/data/udp_dnlk_loss_latency.csv\n",
      "141/216 /home/wmnlab/jackbedford/data/2023-11-01/UDP_Bandlock_9S_Phone_Airport/sm06/#02/data/udp_uplk_loss_latency.csv\n",
      "141/216 /home/wmnlab/jackbedford/data/2023-11-01/UDP_Bandlock_9S_Phone_Airport/sm07/#02/data/handover_info_log.csv\n",
      "141/216 /home/wmnlab/jackbedford/data/2023-11-01/UDP_Bandlock_9S_Phone_Airport/sm07/#02/data/udp_dnlk_loss_latency.csv\n",
      "141/216 /home/wmnlab/jackbedford/data/2023-11-01/UDP_Bandlock_9S_Phone_Airport/sm07/#02/data/udp_uplk_loss_latency.csv\n"
     ]
    },
    {
     "data": {
      "application/vnd.jupyter.widget-view+json": {
       "model_id": "3a1b4728b632419d8f5bd485dc27be1c",
       "version_major": 2,
       "version_minor": 0
      },
      "text/plain": [
       "  0%|                                                                                                         …"
      ]
     },
     "metadata": {},
     "output_type": "display_data"
    },
    {
     "name": "stdout",
     "output_type": "stream",
     "text": [
      "./20240312_150032342e_newest/20240314_060073cc2b/results/20240314_09375500000_f85b83d4e1645936_1.5corr/\\home\\wmnlab\\jackbedford\\data\\2023-11-01\\UDP_Bandlock_9S_Phone_Airport\\sm06\\#02\\data\\udp_dnlk_loss_latency\\home\\wmnlab\\jackbedford\\data\\2023-11-01\\UDP_Bandlock_9S_Phone_Airport\\sm07\\#02\\data\\udp_dnlk_loss_latency.csv\n",
      "142/216 /home/wmnlab/jackbedford/data/2023-11-01/UDP_Bandlock_9S_Phone_Airport/sm06/#02/data/handover_info_log.csv\n",
      "142/216 /home/wmnlab/jackbedford/data/2023-11-01/UDP_Bandlock_9S_Phone_Airport/sm06/#02/data/udp_dnlk_loss_latency.csv\n",
      "142/216 /home/wmnlab/jackbedford/data/2023-11-01/UDP_Bandlock_9S_Phone_Airport/sm06/#02/data/udp_uplk_loss_latency.csv\n",
      "142/216 /home/wmnlab/jackbedford/data/2023-11-01/UDP_Bandlock_9S_Phone_Airport/sm08/#02/data/handover_info_log.csv\n",
      "142/216 /home/wmnlab/jackbedford/data/2023-11-01/UDP_Bandlock_9S_Phone_Airport/sm08/#02/data/udp_dnlk_loss_latency.csv\n",
      "142/216 /home/wmnlab/jackbedford/data/2023-11-01/UDP_Bandlock_9S_Phone_Airport/sm08/#02/data/udp_uplk_loss_latency.csv\n"
     ]
    },
    {
     "data": {
      "application/vnd.jupyter.widget-view+json": {
       "model_id": "3fbb07008feb4a2e9f164043606f4018",
       "version_major": 2,
       "version_minor": 0
      },
      "text/plain": [
       "  0%|                                                                                                         …"
      ]
     },
     "metadata": {},
     "output_type": "display_data"
    },
    {
     "name": "stdout",
     "output_type": "stream",
     "text": [
      "./20240312_150032342e_newest/20240314_060073cc2b/results/20240314_09375500000_f85b83d4e1645936_1.5corr/\\home\\wmnlab\\jackbedford\\data\\2023-11-01\\UDP_Bandlock_9S_Phone_Airport\\sm06\\#02\\data\\udp_dnlk_loss_latency\\home\\wmnlab\\jackbedford\\data\\2023-11-01\\UDP_Bandlock_9S_Phone_Airport\\sm08\\#02\\data\\udp_dnlk_loss_latency.csv\n",
      "143/216 /home/wmnlab/jackbedford/data/2023-11-01/UDP_Bandlock_9S_Phone_Airport/sm07/#02/data/handover_info_log.csv\n",
      "143/216 /home/wmnlab/jackbedford/data/2023-11-01/UDP_Bandlock_9S_Phone_Airport/sm07/#02/data/udp_dnlk_loss_latency.csv\n",
      "143/216 /home/wmnlab/jackbedford/data/2023-11-01/UDP_Bandlock_9S_Phone_Airport/sm07/#02/data/udp_uplk_loss_latency.csv\n",
      "143/216 /home/wmnlab/jackbedford/data/2023-11-01/UDP_Bandlock_9S_Phone_Airport/sm08/#02/data/handover_info_log.csv\n",
      "143/216 /home/wmnlab/jackbedford/data/2023-11-01/UDP_Bandlock_9S_Phone_Airport/sm08/#02/data/udp_dnlk_loss_latency.csv\n",
      "143/216 /home/wmnlab/jackbedford/data/2023-11-01/UDP_Bandlock_9S_Phone_Airport/sm08/#02/data/udp_uplk_loss_latency.csv\n"
     ]
    },
    {
     "data": {
      "application/vnd.jupyter.widget-view+json": {
       "model_id": "d8ad44c189e44726b3fdb7637ecd7538",
       "version_major": 2,
       "version_minor": 0
      },
      "text/plain": [
       "  0%|                                                                                                         …"
      ]
     },
     "metadata": {},
     "output_type": "display_data"
    },
    {
     "name": "stdout",
     "output_type": "stream",
     "text": [
      "./20240312_150032342e_newest/20240314_060073cc2b/results/20240314_09375500000_f85b83d4e1645936_1.5corr/\\home\\wmnlab\\jackbedford\\data\\2023-11-01\\UDP_Bandlock_9S_Phone_Airport\\sm07\\#02\\data\\udp_dnlk_loss_latency\\home\\wmnlab\\jackbedford\\data\\2023-11-01\\UDP_Bandlock_9S_Phone_Airport\\sm08\\#02\\data\\udp_dnlk_loss_latency.csv\n",
      "144/216 /home/wmnlab/jackbedford/data/2023-11-02/UDP_Bandlock_9S_Phone_Airport/sm00/#01/data/handover_info_log.csv\n",
      "144/216 /home/wmnlab/jackbedford/data/2023-11-02/UDP_Bandlock_9S_Phone_Airport/sm00/#01/data/udp_dnlk_loss_latency.csv\n",
      "144/216 /home/wmnlab/jackbedford/data/2023-11-02/UDP_Bandlock_9S_Phone_Airport/sm00/#01/data/udp_uplk_loss_latency.csv\n",
      "144/216 /home/wmnlab/jackbedford/data/2023-11-02/UDP_Bandlock_9S_Phone_Airport/sm01/#01/data/handover_info_log.csv\n",
      "144/216 /home/wmnlab/jackbedford/data/2023-11-02/UDP_Bandlock_9S_Phone_Airport/sm01/#01/data/udp_dnlk_loss_latency.csv\n",
      "144/216 /home/wmnlab/jackbedford/data/2023-11-02/UDP_Bandlock_9S_Phone_Airport/sm01/#01/data/udp_uplk_loss_latency.csv\n"
     ]
    },
    {
     "data": {
      "application/vnd.jupyter.widget-view+json": {
       "model_id": "9aea74622e914520856bee433db6fb0d",
       "version_major": 2,
       "version_minor": 0
      },
      "text/plain": [
       "  0%|                                                                                                         …"
      ]
     },
     "metadata": {},
     "output_type": "display_data"
    },
    {
     "name": "stdout",
     "output_type": "stream",
     "text": [
      "./20240312_150032342e_newest/20240314_060073cc2b/results/20240314_09375500000_f85b83d4e1645936_1.5corr/\\home\\wmnlab\\jackbedford\\data\\2023-11-02\\UDP_Bandlock_9S_Phone_Airport\\sm00\\#01\\data\\udp_dnlk_loss_latency\\home\\wmnlab\\jackbedford\\data\\2023-11-02\\UDP_Bandlock_9S_Phone_Airport\\sm01\\#01\\data\\udp_dnlk_loss_latency.csv\n",
      "145/216 /home/wmnlab/jackbedford/data/2023-11-02/UDP_Bandlock_9S_Phone_Airport/sm00/#01/data/handover_info_log.csv\n",
      "145/216 /home/wmnlab/jackbedford/data/2023-11-02/UDP_Bandlock_9S_Phone_Airport/sm00/#01/data/udp_dnlk_loss_latency.csv\n",
      "145/216 /home/wmnlab/jackbedford/data/2023-11-02/UDP_Bandlock_9S_Phone_Airport/sm00/#01/data/udp_uplk_loss_latency.csv\n",
      "145/216 /home/wmnlab/jackbedford/data/2023-11-02/UDP_Bandlock_9S_Phone_Airport/sm02/#01/data/handover_info_log.csv\n",
      "145/216 /home/wmnlab/jackbedford/data/2023-11-02/UDP_Bandlock_9S_Phone_Airport/sm02/#01/data/udp_dnlk_loss_latency.csv\n",
      "145/216 /home/wmnlab/jackbedford/data/2023-11-02/UDP_Bandlock_9S_Phone_Airport/sm02/#01/data/udp_uplk_loss_latency.csv\n"
     ]
    },
    {
     "data": {
      "application/vnd.jupyter.widget-view+json": {
       "model_id": "ea6d01ad59c14d009b3f186a04a9eab8",
       "version_major": 2,
       "version_minor": 0
      },
      "text/plain": [
       "  0%|                                                                                                         …"
      ]
     },
     "metadata": {},
     "output_type": "display_data"
    },
    {
     "name": "stdout",
     "output_type": "stream",
     "text": [
      "./20240312_150032342e_newest/20240314_060073cc2b/results/20240314_09375500000_f85b83d4e1645936_1.5corr/\\home\\wmnlab\\jackbedford\\data\\2023-11-02\\UDP_Bandlock_9S_Phone_Airport\\sm00\\#01\\data\\udp_dnlk_loss_latency\\home\\wmnlab\\jackbedford\\data\\2023-11-02\\UDP_Bandlock_9S_Phone_Airport\\sm02\\#01\\data\\udp_dnlk_loss_latency.csv\n",
      "146/216 /home/wmnlab/jackbedford/data/2023-11-02/UDP_Bandlock_9S_Phone_Airport/sm00/#01/data/handover_info_log.csv\n",
      "146/216 /home/wmnlab/jackbedford/data/2023-11-02/UDP_Bandlock_9S_Phone_Airport/sm00/#01/data/udp_dnlk_loss_latency.csv\n",
      "146/216 /home/wmnlab/jackbedford/data/2023-11-02/UDP_Bandlock_9S_Phone_Airport/sm00/#01/data/udp_uplk_loss_latency.csv\n",
      "146/216 /home/wmnlab/jackbedford/data/2023-11-02/UDP_Bandlock_9S_Phone_Airport/sm03/#01/data/handover_info_log.csv\n",
      "146/216 /home/wmnlab/jackbedford/data/2023-11-02/UDP_Bandlock_9S_Phone_Airport/sm03/#01/data/udp_dnlk_loss_latency.csv\n",
      "146/216 /home/wmnlab/jackbedford/data/2023-11-02/UDP_Bandlock_9S_Phone_Airport/sm03/#01/data/udp_uplk_loss_latency.csv\n"
     ]
    },
    {
     "data": {
      "application/vnd.jupyter.widget-view+json": {
       "model_id": "12a71a41780241a6ab03de37730c4d18",
       "version_major": 2,
       "version_minor": 0
      },
      "text/plain": [
       "  0%|                                                                                                         …"
      ]
     },
     "metadata": {},
     "output_type": "display_data"
    },
    {
     "name": "stdout",
     "output_type": "stream",
     "text": [
      "./20240312_150032342e_newest/20240314_060073cc2b/results/20240314_09375500000_f85b83d4e1645936_1.5corr/\\home\\wmnlab\\jackbedford\\data\\2023-11-02\\UDP_Bandlock_9S_Phone_Airport\\sm00\\#01\\data\\udp_dnlk_loss_latency\\home\\wmnlab\\jackbedford\\data\\2023-11-02\\UDP_Bandlock_9S_Phone_Airport\\sm03\\#01\\data\\udp_dnlk_loss_latency.csv\n",
      "147/216 /home/wmnlab/jackbedford/data/2023-11-02/UDP_Bandlock_9S_Phone_Airport/sm00/#01/data/handover_info_log.csv\n",
      "147/216 /home/wmnlab/jackbedford/data/2023-11-02/UDP_Bandlock_9S_Phone_Airport/sm00/#01/data/udp_dnlk_loss_latency.csv\n",
      "147/216 /home/wmnlab/jackbedford/data/2023-11-02/UDP_Bandlock_9S_Phone_Airport/sm00/#01/data/udp_uplk_loss_latency.csv\n",
      "147/216 /home/wmnlab/jackbedford/data/2023-11-02/UDP_Bandlock_9S_Phone_Airport/sm04/#01/data/handover_info_log.csv\n",
      "147/216 /home/wmnlab/jackbedford/data/2023-11-02/UDP_Bandlock_9S_Phone_Airport/sm04/#01/data/udp_dnlk_loss_latency.csv\n",
      "147/216 /home/wmnlab/jackbedford/data/2023-11-02/UDP_Bandlock_9S_Phone_Airport/sm04/#01/data/udp_uplk_loss_latency.csv\n",
      "******** Empty RRC Data ********\n",
      "148/216 /home/wmnlab/jackbedford/data/2023-11-02/UDP_Bandlock_9S_Phone_Airport/sm00/#01/data/handover_info_log.csv\n",
      "148/216 /home/wmnlab/jackbedford/data/2023-11-02/UDP_Bandlock_9S_Phone_Airport/sm00/#01/data/udp_dnlk_loss_latency.csv\n",
      "148/216 /home/wmnlab/jackbedford/data/2023-11-02/UDP_Bandlock_9S_Phone_Airport/sm00/#01/data/udp_uplk_loss_latency.csv\n",
      "148/216 /home/wmnlab/jackbedford/data/2023-11-02/UDP_Bandlock_9S_Phone_Airport/sm05/#01/data/handover_info_log.csv\n",
      "148/216 /home/wmnlab/jackbedford/data/2023-11-02/UDP_Bandlock_9S_Phone_Airport/sm05/#01/data/udp_dnlk_loss_latency.csv\n",
      "148/216 /home/wmnlab/jackbedford/data/2023-11-02/UDP_Bandlock_9S_Phone_Airport/sm05/#01/data/udp_uplk_loss_latency.csv\n",
      "******** Empty RRC Data ********\n",
      "149/216 /home/wmnlab/jackbedford/data/2023-11-02/UDP_Bandlock_9S_Phone_Airport/sm00/#01/data/handover_info_log.csv\n",
      "149/216 /home/wmnlab/jackbedford/data/2023-11-02/UDP_Bandlock_9S_Phone_Airport/sm00/#01/data/udp_dnlk_loss_latency.csv\n",
      "149/216 /home/wmnlab/jackbedford/data/2023-11-02/UDP_Bandlock_9S_Phone_Airport/sm00/#01/data/udp_uplk_loss_latency.csv\n",
      "149/216 /home/wmnlab/jackbedford/data/2023-11-02/UDP_Bandlock_9S_Phone_Airport/sm06/#01/data/handover_info_log.csv\n",
      "149/216 /home/wmnlab/jackbedford/data/2023-11-02/UDP_Bandlock_9S_Phone_Airport/sm06/#01/data/udp_dnlk_loss_latency.csv\n",
      "149/216 /home/wmnlab/jackbedford/data/2023-11-02/UDP_Bandlock_9S_Phone_Airport/sm06/#01/data/udp_uplk_loss_latency.csv\n"
     ]
    },
    {
     "data": {
      "application/vnd.jupyter.widget-view+json": {
       "model_id": "41bb168fd44c4cedb97a8cfee8c39b72",
       "version_major": 2,
       "version_minor": 0
      },
      "text/plain": [
       "  0%|                                                                                                         …"
      ]
     },
     "metadata": {},
     "output_type": "display_data"
    },
    {
     "name": "stdout",
     "output_type": "stream",
     "text": [
      "./20240312_150032342e_newest/20240314_060073cc2b/results/20240314_09375500000_f85b83d4e1645936_1.5corr/\\home\\wmnlab\\jackbedford\\data\\2023-11-02\\UDP_Bandlock_9S_Phone_Airport\\sm00\\#01\\data\\udp_dnlk_loss_latency\\home\\wmnlab\\jackbedford\\data\\2023-11-02\\UDP_Bandlock_9S_Phone_Airport\\sm06\\#01\\data\\udp_dnlk_loss_latency.csv\n",
      "150/216 /home/wmnlab/jackbedford/data/2023-11-02/UDP_Bandlock_9S_Phone_Airport/sm00/#01/data/handover_info_log.csv\n",
      "150/216 /home/wmnlab/jackbedford/data/2023-11-02/UDP_Bandlock_9S_Phone_Airport/sm00/#01/data/udp_dnlk_loss_latency.csv\n",
      "150/216 /home/wmnlab/jackbedford/data/2023-11-02/UDP_Bandlock_9S_Phone_Airport/sm00/#01/data/udp_uplk_loss_latency.csv\n",
      "150/216 /home/wmnlab/jackbedford/data/2023-11-02/UDP_Bandlock_9S_Phone_Airport/sm07/#01/data/handover_info_log.csv\n",
      "150/216 /home/wmnlab/jackbedford/data/2023-11-02/UDP_Bandlock_9S_Phone_Airport/sm07/#01/data/udp_dnlk_loss_latency.csv\n",
      "150/216 /home/wmnlab/jackbedford/data/2023-11-02/UDP_Bandlock_9S_Phone_Airport/sm07/#01/data/udp_uplk_loss_latency.csv\n",
      "******** Empty RRC Data ********\n",
      "151/216 /home/wmnlab/jackbedford/data/2023-11-02/UDP_Bandlock_9S_Phone_Airport/sm00/#01/data/handover_info_log.csv\n",
      "151/216 /home/wmnlab/jackbedford/data/2023-11-02/UDP_Bandlock_9S_Phone_Airport/sm00/#01/data/udp_dnlk_loss_latency.csv\n",
      "151/216 /home/wmnlab/jackbedford/data/2023-11-02/UDP_Bandlock_9S_Phone_Airport/sm00/#01/data/udp_uplk_loss_latency.csv\n",
      "151/216 /home/wmnlab/jackbedford/data/2023-11-02/UDP_Bandlock_9S_Phone_Airport/sm08/#01/data/handover_info_log.csv\n",
      "151/216 /home/wmnlab/jackbedford/data/2023-11-02/UDP_Bandlock_9S_Phone_Airport/sm08/#01/data/udp_dnlk_loss_latency.csv\n",
      "151/216 /home/wmnlab/jackbedford/data/2023-11-02/UDP_Bandlock_9S_Phone_Airport/sm08/#01/data/udp_uplk_loss_latency.csv\n"
     ]
    },
    {
     "data": {
      "application/vnd.jupyter.widget-view+json": {
       "model_id": "a8e6923498d84bc1a7d93fbb12b03b57",
       "version_major": 2,
       "version_minor": 0
      },
      "text/plain": [
       "  0%|                                                                                                         …"
      ]
     },
     "metadata": {},
     "output_type": "display_data"
    },
    {
     "name": "stdout",
     "output_type": "stream",
     "text": [
      "./20240312_150032342e_newest/20240314_060073cc2b/results/20240314_09375500000_f85b83d4e1645936_1.5corr/\\home\\wmnlab\\jackbedford\\data\\2023-11-02\\UDP_Bandlock_9S_Phone_Airport\\sm00\\#01\\data\\udp_dnlk_loss_latency\\home\\wmnlab\\jackbedford\\data\\2023-11-02\\UDP_Bandlock_9S_Phone_Airport\\sm08\\#01\\data\\udp_dnlk_loss_latency.csv\n",
      "152/216 /home/wmnlab/jackbedford/data/2023-11-02/UDP_Bandlock_9S_Phone_Airport/sm01/#01/data/handover_info_log.csv\n",
      "152/216 /home/wmnlab/jackbedford/data/2023-11-02/UDP_Bandlock_9S_Phone_Airport/sm01/#01/data/udp_dnlk_loss_latency.csv\n",
      "152/216 /home/wmnlab/jackbedford/data/2023-11-02/UDP_Bandlock_9S_Phone_Airport/sm01/#01/data/udp_uplk_loss_latency.csv\n",
      "152/216 /home/wmnlab/jackbedford/data/2023-11-02/UDP_Bandlock_9S_Phone_Airport/sm02/#01/data/handover_info_log.csv\n",
      "152/216 /home/wmnlab/jackbedford/data/2023-11-02/UDP_Bandlock_9S_Phone_Airport/sm02/#01/data/udp_dnlk_loss_latency.csv\n",
      "152/216 /home/wmnlab/jackbedford/data/2023-11-02/UDP_Bandlock_9S_Phone_Airport/sm02/#01/data/udp_uplk_loss_latency.csv\n"
     ]
    },
    {
     "data": {
      "application/vnd.jupyter.widget-view+json": {
       "model_id": "257baabb62e446ecb241c216a6984d88",
       "version_major": 2,
       "version_minor": 0
      },
      "text/plain": [
       "  0%|                                                                                                         …"
      ]
     },
     "metadata": {},
     "output_type": "display_data"
    },
    {
     "name": "stdout",
     "output_type": "stream",
     "text": [
      "./20240312_150032342e_newest/20240314_060073cc2b/results/20240314_09375500000_f85b83d4e1645936_1.5corr/\\home\\wmnlab\\jackbedford\\data\\2023-11-02\\UDP_Bandlock_9S_Phone_Airport\\sm01\\#01\\data\\udp_dnlk_loss_latency\\home\\wmnlab\\jackbedford\\data\\2023-11-02\\UDP_Bandlock_9S_Phone_Airport\\sm02\\#01\\data\\udp_dnlk_loss_latency.csv\n",
      "153/216 /home/wmnlab/jackbedford/data/2023-11-02/UDP_Bandlock_9S_Phone_Airport/sm01/#01/data/handover_info_log.csv\n",
      "153/216 /home/wmnlab/jackbedford/data/2023-11-02/UDP_Bandlock_9S_Phone_Airport/sm01/#01/data/udp_dnlk_loss_latency.csv\n",
      "153/216 /home/wmnlab/jackbedford/data/2023-11-02/UDP_Bandlock_9S_Phone_Airport/sm01/#01/data/udp_uplk_loss_latency.csv\n",
      "153/216 /home/wmnlab/jackbedford/data/2023-11-02/UDP_Bandlock_9S_Phone_Airport/sm03/#01/data/handover_info_log.csv\n",
      "153/216 /home/wmnlab/jackbedford/data/2023-11-02/UDP_Bandlock_9S_Phone_Airport/sm03/#01/data/udp_dnlk_loss_latency.csv\n",
      "153/216 /home/wmnlab/jackbedford/data/2023-11-02/UDP_Bandlock_9S_Phone_Airport/sm03/#01/data/udp_uplk_loss_latency.csv\n"
     ]
    },
    {
     "data": {
      "application/vnd.jupyter.widget-view+json": {
       "model_id": "45f77ca387e44037ad4d5d73407039c7",
       "version_major": 2,
       "version_minor": 0
      },
      "text/plain": [
       "  0%|                                                                                                         …"
      ]
     },
     "metadata": {},
     "output_type": "display_data"
    },
    {
     "name": "stdout",
     "output_type": "stream",
     "text": [
      "./20240312_150032342e_newest/20240314_060073cc2b/results/20240314_09375500000_f85b83d4e1645936_1.5corr/\\home\\wmnlab\\jackbedford\\data\\2023-11-02\\UDP_Bandlock_9S_Phone_Airport\\sm01\\#01\\data\\udp_dnlk_loss_latency\\home\\wmnlab\\jackbedford\\data\\2023-11-02\\UDP_Bandlock_9S_Phone_Airport\\sm03\\#01\\data\\udp_dnlk_loss_latency.csv\n",
      "154/216 /home/wmnlab/jackbedford/data/2023-11-02/UDP_Bandlock_9S_Phone_Airport/sm01/#01/data/handover_info_log.csv\n",
      "154/216 /home/wmnlab/jackbedford/data/2023-11-02/UDP_Bandlock_9S_Phone_Airport/sm01/#01/data/udp_dnlk_loss_latency.csv\n",
      "154/216 /home/wmnlab/jackbedford/data/2023-11-02/UDP_Bandlock_9S_Phone_Airport/sm01/#01/data/udp_uplk_loss_latency.csv\n",
      "154/216 /home/wmnlab/jackbedford/data/2023-11-02/UDP_Bandlock_9S_Phone_Airport/sm04/#01/data/handover_info_log.csv\n",
      "154/216 /home/wmnlab/jackbedford/data/2023-11-02/UDP_Bandlock_9S_Phone_Airport/sm04/#01/data/udp_dnlk_loss_latency.csv\n",
      "154/216 /home/wmnlab/jackbedford/data/2023-11-02/UDP_Bandlock_9S_Phone_Airport/sm04/#01/data/udp_uplk_loss_latency.csv\n",
      "******** Empty RRC Data ********\n",
      "155/216 /home/wmnlab/jackbedford/data/2023-11-02/UDP_Bandlock_9S_Phone_Airport/sm01/#01/data/handover_info_log.csv\n",
      "155/216 /home/wmnlab/jackbedford/data/2023-11-02/UDP_Bandlock_9S_Phone_Airport/sm01/#01/data/udp_dnlk_loss_latency.csv\n",
      "155/216 /home/wmnlab/jackbedford/data/2023-11-02/UDP_Bandlock_9S_Phone_Airport/sm01/#01/data/udp_uplk_loss_latency.csv\n",
      "155/216 /home/wmnlab/jackbedford/data/2023-11-02/UDP_Bandlock_9S_Phone_Airport/sm05/#01/data/handover_info_log.csv\n",
      "155/216 /home/wmnlab/jackbedford/data/2023-11-02/UDP_Bandlock_9S_Phone_Airport/sm05/#01/data/udp_dnlk_loss_latency.csv\n",
      "155/216 /home/wmnlab/jackbedford/data/2023-11-02/UDP_Bandlock_9S_Phone_Airport/sm05/#01/data/udp_uplk_loss_latency.csv\n",
      "******** Empty RRC Data ********\n",
      "156/216 /home/wmnlab/jackbedford/data/2023-11-02/UDP_Bandlock_9S_Phone_Airport/sm01/#01/data/handover_info_log.csv\n",
      "156/216 /home/wmnlab/jackbedford/data/2023-11-02/UDP_Bandlock_9S_Phone_Airport/sm01/#01/data/udp_dnlk_loss_latency.csv\n",
      "156/216 /home/wmnlab/jackbedford/data/2023-11-02/UDP_Bandlock_9S_Phone_Airport/sm01/#01/data/udp_uplk_loss_latency.csv\n",
      "156/216 /home/wmnlab/jackbedford/data/2023-11-02/UDP_Bandlock_9S_Phone_Airport/sm06/#01/data/handover_info_log.csv\n",
      "156/216 /home/wmnlab/jackbedford/data/2023-11-02/UDP_Bandlock_9S_Phone_Airport/sm06/#01/data/udp_dnlk_loss_latency.csv\n",
      "156/216 /home/wmnlab/jackbedford/data/2023-11-02/UDP_Bandlock_9S_Phone_Airport/sm06/#01/data/udp_uplk_loss_latency.csv\n"
     ]
    },
    {
     "data": {
      "application/vnd.jupyter.widget-view+json": {
       "model_id": "83e9011e97d9417691c897749fb24b16",
       "version_major": 2,
       "version_minor": 0
      },
      "text/plain": [
       "  0%|                                                                                                         …"
      ]
     },
     "metadata": {},
     "output_type": "display_data"
    },
    {
     "name": "stdout",
     "output_type": "stream",
     "text": [
      "./20240312_150032342e_newest/20240314_060073cc2b/results/20240314_09375500000_f85b83d4e1645936_1.5corr/\\home\\wmnlab\\jackbedford\\data\\2023-11-02\\UDP_Bandlock_9S_Phone_Airport\\sm01\\#01\\data\\udp_dnlk_loss_latency\\home\\wmnlab\\jackbedford\\data\\2023-11-02\\UDP_Bandlock_9S_Phone_Airport\\sm06\\#01\\data\\udp_dnlk_loss_latency.csv\n",
      "157/216 /home/wmnlab/jackbedford/data/2023-11-02/UDP_Bandlock_9S_Phone_Airport/sm01/#01/data/handover_info_log.csv\n",
      "157/216 /home/wmnlab/jackbedford/data/2023-11-02/UDP_Bandlock_9S_Phone_Airport/sm01/#01/data/udp_dnlk_loss_latency.csv\n",
      "157/216 /home/wmnlab/jackbedford/data/2023-11-02/UDP_Bandlock_9S_Phone_Airport/sm01/#01/data/udp_uplk_loss_latency.csv\n",
      "157/216 /home/wmnlab/jackbedford/data/2023-11-02/UDP_Bandlock_9S_Phone_Airport/sm07/#01/data/handover_info_log.csv\n",
      "157/216 /home/wmnlab/jackbedford/data/2023-11-02/UDP_Bandlock_9S_Phone_Airport/sm07/#01/data/udp_dnlk_loss_latency.csv\n",
      "157/216 /home/wmnlab/jackbedford/data/2023-11-02/UDP_Bandlock_9S_Phone_Airport/sm07/#01/data/udp_uplk_loss_latency.csv\n",
      "******** Empty RRC Data ********\n",
      "158/216 /home/wmnlab/jackbedford/data/2023-11-02/UDP_Bandlock_9S_Phone_Airport/sm01/#01/data/handover_info_log.csv\n",
      "158/216 /home/wmnlab/jackbedford/data/2023-11-02/UDP_Bandlock_9S_Phone_Airport/sm01/#01/data/udp_dnlk_loss_latency.csv\n",
      "158/216 /home/wmnlab/jackbedford/data/2023-11-02/UDP_Bandlock_9S_Phone_Airport/sm01/#01/data/udp_uplk_loss_latency.csv\n",
      "158/216 /home/wmnlab/jackbedford/data/2023-11-02/UDP_Bandlock_9S_Phone_Airport/sm08/#01/data/handover_info_log.csv\n",
      "158/216 /home/wmnlab/jackbedford/data/2023-11-02/UDP_Bandlock_9S_Phone_Airport/sm08/#01/data/udp_dnlk_loss_latency.csv\n",
      "158/216 /home/wmnlab/jackbedford/data/2023-11-02/UDP_Bandlock_9S_Phone_Airport/sm08/#01/data/udp_uplk_loss_latency.csv\n"
     ]
    },
    {
     "data": {
      "application/vnd.jupyter.widget-view+json": {
       "model_id": "d958acbc169d4fe7a3c29039698e3ae2",
       "version_major": 2,
       "version_minor": 0
      },
      "text/plain": [
       "  0%|                                                                                                         …"
      ]
     },
     "metadata": {},
     "output_type": "display_data"
    },
    {
     "name": "stdout",
     "output_type": "stream",
     "text": [
      "./20240312_150032342e_newest/20240314_060073cc2b/results/20240314_09375500000_f85b83d4e1645936_1.5corr/\\home\\wmnlab\\jackbedford\\data\\2023-11-02\\UDP_Bandlock_9S_Phone_Airport\\sm01\\#01\\data\\udp_dnlk_loss_latency\\home\\wmnlab\\jackbedford\\data\\2023-11-02\\UDP_Bandlock_9S_Phone_Airport\\sm08\\#01\\data\\udp_dnlk_loss_latency.csv\n",
      "159/216 /home/wmnlab/jackbedford/data/2023-11-02/UDP_Bandlock_9S_Phone_Airport/sm02/#01/data/handover_info_log.csv\n",
      "159/216 /home/wmnlab/jackbedford/data/2023-11-02/UDP_Bandlock_9S_Phone_Airport/sm02/#01/data/udp_dnlk_loss_latency.csv\n",
      "159/216 /home/wmnlab/jackbedford/data/2023-11-02/UDP_Bandlock_9S_Phone_Airport/sm02/#01/data/udp_uplk_loss_latency.csv\n",
      "159/216 /home/wmnlab/jackbedford/data/2023-11-02/UDP_Bandlock_9S_Phone_Airport/sm03/#01/data/handover_info_log.csv\n",
      "159/216 /home/wmnlab/jackbedford/data/2023-11-02/UDP_Bandlock_9S_Phone_Airport/sm03/#01/data/udp_dnlk_loss_latency.csv\n",
      "159/216 /home/wmnlab/jackbedford/data/2023-11-02/UDP_Bandlock_9S_Phone_Airport/sm03/#01/data/udp_uplk_loss_latency.csv\n"
     ]
    },
    {
     "data": {
      "application/vnd.jupyter.widget-view+json": {
       "model_id": "6f50e3e479fe486e953ee65de17fc0c0",
       "version_major": 2,
       "version_minor": 0
      },
      "text/plain": [
       "  0%|                                                                                                         …"
      ]
     },
     "metadata": {},
     "output_type": "display_data"
    },
    {
     "name": "stdout",
     "output_type": "stream",
     "text": [
      "./20240312_150032342e_newest/20240314_060073cc2b/results/20240314_09375500000_f85b83d4e1645936_1.5corr/\\home\\wmnlab\\jackbedford\\data\\2023-11-02\\UDP_Bandlock_9S_Phone_Airport\\sm02\\#01\\data\\udp_dnlk_loss_latency\\home\\wmnlab\\jackbedford\\data\\2023-11-02\\UDP_Bandlock_9S_Phone_Airport\\sm03\\#01\\data\\udp_dnlk_loss_latency.csv\n",
      "160/216 /home/wmnlab/jackbedford/data/2023-11-02/UDP_Bandlock_9S_Phone_Airport/sm02/#01/data/handover_info_log.csv\n",
      "160/216 /home/wmnlab/jackbedford/data/2023-11-02/UDP_Bandlock_9S_Phone_Airport/sm02/#01/data/udp_dnlk_loss_latency.csv\n",
      "160/216 /home/wmnlab/jackbedford/data/2023-11-02/UDP_Bandlock_9S_Phone_Airport/sm02/#01/data/udp_uplk_loss_latency.csv\n",
      "160/216 /home/wmnlab/jackbedford/data/2023-11-02/UDP_Bandlock_9S_Phone_Airport/sm04/#01/data/handover_info_log.csv\n",
      "160/216 /home/wmnlab/jackbedford/data/2023-11-02/UDP_Bandlock_9S_Phone_Airport/sm04/#01/data/udp_dnlk_loss_latency.csv\n",
      "160/216 /home/wmnlab/jackbedford/data/2023-11-02/UDP_Bandlock_9S_Phone_Airport/sm04/#01/data/udp_uplk_loss_latency.csv\n",
      "******** Empty RRC Data ********\n",
      "161/216 /home/wmnlab/jackbedford/data/2023-11-02/UDP_Bandlock_9S_Phone_Airport/sm02/#01/data/handover_info_log.csv\n",
      "161/216 /home/wmnlab/jackbedford/data/2023-11-02/UDP_Bandlock_9S_Phone_Airport/sm02/#01/data/udp_dnlk_loss_latency.csv\n",
      "161/216 /home/wmnlab/jackbedford/data/2023-11-02/UDP_Bandlock_9S_Phone_Airport/sm02/#01/data/udp_uplk_loss_latency.csv\n",
      "161/216 /home/wmnlab/jackbedford/data/2023-11-02/UDP_Bandlock_9S_Phone_Airport/sm05/#01/data/handover_info_log.csv\n",
      "161/216 /home/wmnlab/jackbedford/data/2023-11-02/UDP_Bandlock_9S_Phone_Airport/sm05/#01/data/udp_dnlk_loss_latency.csv\n",
      "161/216 /home/wmnlab/jackbedford/data/2023-11-02/UDP_Bandlock_9S_Phone_Airport/sm05/#01/data/udp_uplk_loss_latency.csv\n",
      "******** Empty RRC Data ********\n",
      "162/216 /home/wmnlab/jackbedford/data/2023-11-02/UDP_Bandlock_9S_Phone_Airport/sm02/#01/data/handover_info_log.csv\n",
      "162/216 /home/wmnlab/jackbedford/data/2023-11-02/UDP_Bandlock_9S_Phone_Airport/sm02/#01/data/udp_dnlk_loss_latency.csv\n",
      "162/216 /home/wmnlab/jackbedford/data/2023-11-02/UDP_Bandlock_9S_Phone_Airport/sm02/#01/data/udp_uplk_loss_latency.csv\n",
      "162/216 /home/wmnlab/jackbedford/data/2023-11-02/UDP_Bandlock_9S_Phone_Airport/sm06/#01/data/handover_info_log.csv\n",
      "162/216 /home/wmnlab/jackbedford/data/2023-11-02/UDP_Bandlock_9S_Phone_Airport/sm06/#01/data/udp_dnlk_loss_latency.csv\n",
      "162/216 /home/wmnlab/jackbedford/data/2023-11-02/UDP_Bandlock_9S_Phone_Airport/sm06/#01/data/udp_uplk_loss_latency.csv\n"
     ]
    },
    {
     "data": {
      "application/vnd.jupyter.widget-view+json": {
       "model_id": "14be12de939b493ba77af03f3a24bd32",
       "version_major": 2,
       "version_minor": 0
      },
      "text/plain": [
       "  0%|                                                                                                         …"
      ]
     },
     "metadata": {},
     "output_type": "display_data"
    },
    {
     "name": "stdout",
     "output_type": "stream",
     "text": [
      "./20240312_150032342e_newest/20240314_060073cc2b/results/20240314_09375500000_f85b83d4e1645936_1.5corr/\\home\\wmnlab\\jackbedford\\data\\2023-11-02\\UDP_Bandlock_9S_Phone_Airport\\sm02\\#01\\data\\udp_dnlk_loss_latency\\home\\wmnlab\\jackbedford\\data\\2023-11-02\\UDP_Bandlock_9S_Phone_Airport\\sm06\\#01\\data\\udp_dnlk_loss_latency.csv\n",
      "163/216 /home/wmnlab/jackbedford/data/2023-11-02/UDP_Bandlock_9S_Phone_Airport/sm02/#01/data/handover_info_log.csv\n",
      "163/216 /home/wmnlab/jackbedford/data/2023-11-02/UDP_Bandlock_9S_Phone_Airport/sm02/#01/data/udp_dnlk_loss_latency.csv\n",
      "163/216 /home/wmnlab/jackbedford/data/2023-11-02/UDP_Bandlock_9S_Phone_Airport/sm02/#01/data/udp_uplk_loss_latency.csv\n",
      "163/216 /home/wmnlab/jackbedford/data/2023-11-02/UDP_Bandlock_9S_Phone_Airport/sm07/#01/data/handover_info_log.csv\n",
      "163/216 /home/wmnlab/jackbedford/data/2023-11-02/UDP_Bandlock_9S_Phone_Airport/sm07/#01/data/udp_dnlk_loss_latency.csv\n",
      "163/216 /home/wmnlab/jackbedford/data/2023-11-02/UDP_Bandlock_9S_Phone_Airport/sm07/#01/data/udp_uplk_loss_latency.csv\n",
      "******** Empty RRC Data ********\n",
      "164/216 /home/wmnlab/jackbedford/data/2023-11-02/UDP_Bandlock_9S_Phone_Airport/sm02/#01/data/handover_info_log.csv\n",
      "164/216 /home/wmnlab/jackbedford/data/2023-11-02/UDP_Bandlock_9S_Phone_Airport/sm02/#01/data/udp_dnlk_loss_latency.csv\n",
      "164/216 /home/wmnlab/jackbedford/data/2023-11-02/UDP_Bandlock_9S_Phone_Airport/sm02/#01/data/udp_uplk_loss_latency.csv\n",
      "164/216 /home/wmnlab/jackbedford/data/2023-11-02/UDP_Bandlock_9S_Phone_Airport/sm08/#01/data/handover_info_log.csv\n",
      "164/216 /home/wmnlab/jackbedford/data/2023-11-02/UDP_Bandlock_9S_Phone_Airport/sm08/#01/data/udp_dnlk_loss_latency.csv\n",
      "164/216 /home/wmnlab/jackbedford/data/2023-11-02/UDP_Bandlock_9S_Phone_Airport/sm08/#01/data/udp_uplk_loss_latency.csv\n"
     ]
    },
    {
     "data": {
      "application/vnd.jupyter.widget-view+json": {
       "model_id": "69019eda546f4749a4a3723076ce9937",
       "version_major": 2,
       "version_minor": 0
      },
      "text/plain": [
       "  0%|                                                                                                         …"
      ]
     },
     "metadata": {},
     "output_type": "display_data"
    },
    {
     "name": "stdout",
     "output_type": "stream",
     "text": [
      "./20240312_150032342e_newest/20240314_060073cc2b/results/20240314_09375500000_f85b83d4e1645936_1.5corr/\\home\\wmnlab\\jackbedford\\data\\2023-11-02\\UDP_Bandlock_9S_Phone_Airport\\sm02\\#01\\data\\udp_dnlk_loss_latency\\home\\wmnlab\\jackbedford\\data\\2023-11-02\\UDP_Bandlock_9S_Phone_Airport\\sm08\\#01\\data\\udp_dnlk_loss_latency.csv\n",
      "165/216 /home/wmnlab/jackbedford/data/2023-11-02/UDP_Bandlock_9S_Phone_Airport/sm03/#01/data/handover_info_log.csv\n",
      "165/216 /home/wmnlab/jackbedford/data/2023-11-02/UDP_Bandlock_9S_Phone_Airport/sm03/#01/data/udp_dnlk_loss_latency.csv\n",
      "165/216 /home/wmnlab/jackbedford/data/2023-11-02/UDP_Bandlock_9S_Phone_Airport/sm03/#01/data/udp_uplk_loss_latency.csv\n",
      "165/216 /home/wmnlab/jackbedford/data/2023-11-02/UDP_Bandlock_9S_Phone_Airport/sm04/#01/data/handover_info_log.csv\n",
      "165/216 /home/wmnlab/jackbedford/data/2023-11-02/UDP_Bandlock_9S_Phone_Airport/sm04/#01/data/udp_dnlk_loss_latency.csv\n",
      "165/216 /home/wmnlab/jackbedford/data/2023-11-02/UDP_Bandlock_9S_Phone_Airport/sm04/#01/data/udp_uplk_loss_latency.csv\n",
      "******** Empty RRC Data ********\n",
      "166/216 /home/wmnlab/jackbedford/data/2023-11-02/UDP_Bandlock_9S_Phone_Airport/sm03/#01/data/handover_info_log.csv\n",
      "166/216 /home/wmnlab/jackbedford/data/2023-11-02/UDP_Bandlock_9S_Phone_Airport/sm03/#01/data/udp_dnlk_loss_latency.csv\n",
      "166/216 /home/wmnlab/jackbedford/data/2023-11-02/UDP_Bandlock_9S_Phone_Airport/sm03/#01/data/udp_uplk_loss_latency.csv\n",
      "166/216 /home/wmnlab/jackbedford/data/2023-11-02/UDP_Bandlock_9S_Phone_Airport/sm05/#01/data/handover_info_log.csv\n",
      "166/216 /home/wmnlab/jackbedford/data/2023-11-02/UDP_Bandlock_9S_Phone_Airport/sm05/#01/data/udp_dnlk_loss_latency.csv\n",
      "166/216 /home/wmnlab/jackbedford/data/2023-11-02/UDP_Bandlock_9S_Phone_Airport/sm05/#01/data/udp_uplk_loss_latency.csv\n",
      "******** Empty RRC Data ********\n",
      "167/216 /home/wmnlab/jackbedford/data/2023-11-02/UDP_Bandlock_9S_Phone_Airport/sm03/#01/data/handover_info_log.csv\n",
      "167/216 /home/wmnlab/jackbedford/data/2023-11-02/UDP_Bandlock_9S_Phone_Airport/sm03/#01/data/udp_dnlk_loss_latency.csv\n",
      "167/216 /home/wmnlab/jackbedford/data/2023-11-02/UDP_Bandlock_9S_Phone_Airport/sm03/#01/data/udp_uplk_loss_latency.csv\n",
      "167/216 /home/wmnlab/jackbedford/data/2023-11-02/UDP_Bandlock_9S_Phone_Airport/sm06/#01/data/handover_info_log.csv\n",
      "167/216 /home/wmnlab/jackbedford/data/2023-11-02/UDP_Bandlock_9S_Phone_Airport/sm06/#01/data/udp_dnlk_loss_latency.csv\n",
      "167/216 /home/wmnlab/jackbedford/data/2023-11-02/UDP_Bandlock_9S_Phone_Airport/sm06/#01/data/udp_uplk_loss_latency.csv\n"
     ]
    },
    {
     "data": {
      "application/vnd.jupyter.widget-view+json": {
       "model_id": "5445a9032a1f4032a63f507782d5c00a",
       "version_major": 2,
       "version_minor": 0
      },
      "text/plain": [
       "  0%|                                                                                                         …"
      ]
     },
     "metadata": {},
     "output_type": "display_data"
    },
    {
     "name": "stdout",
     "output_type": "stream",
     "text": [
      "./20240312_150032342e_newest/20240314_060073cc2b/results/20240314_09375500000_f85b83d4e1645936_1.5corr/\\home\\wmnlab\\jackbedford\\data\\2023-11-02\\UDP_Bandlock_9S_Phone_Airport\\sm03\\#01\\data\\udp_dnlk_loss_latency\\home\\wmnlab\\jackbedford\\data\\2023-11-02\\UDP_Bandlock_9S_Phone_Airport\\sm06\\#01\\data\\udp_dnlk_loss_latency.csv\n",
      "168/216 /home/wmnlab/jackbedford/data/2023-11-02/UDP_Bandlock_9S_Phone_Airport/sm03/#01/data/handover_info_log.csv\n",
      "168/216 /home/wmnlab/jackbedford/data/2023-11-02/UDP_Bandlock_9S_Phone_Airport/sm03/#01/data/udp_dnlk_loss_latency.csv\n",
      "168/216 /home/wmnlab/jackbedford/data/2023-11-02/UDP_Bandlock_9S_Phone_Airport/sm03/#01/data/udp_uplk_loss_latency.csv\n",
      "168/216 /home/wmnlab/jackbedford/data/2023-11-02/UDP_Bandlock_9S_Phone_Airport/sm07/#01/data/handover_info_log.csv\n",
      "168/216 /home/wmnlab/jackbedford/data/2023-11-02/UDP_Bandlock_9S_Phone_Airport/sm07/#01/data/udp_dnlk_loss_latency.csv\n",
      "168/216 /home/wmnlab/jackbedford/data/2023-11-02/UDP_Bandlock_9S_Phone_Airport/sm07/#01/data/udp_uplk_loss_latency.csv\n",
      "******** Empty RRC Data ********\n",
      "169/216 /home/wmnlab/jackbedford/data/2023-11-02/UDP_Bandlock_9S_Phone_Airport/sm03/#01/data/handover_info_log.csv\n",
      "169/216 /home/wmnlab/jackbedford/data/2023-11-02/UDP_Bandlock_9S_Phone_Airport/sm03/#01/data/udp_dnlk_loss_latency.csv\n",
      "169/216 /home/wmnlab/jackbedford/data/2023-11-02/UDP_Bandlock_9S_Phone_Airport/sm03/#01/data/udp_uplk_loss_latency.csv\n",
      "169/216 /home/wmnlab/jackbedford/data/2023-11-02/UDP_Bandlock_9S_Phone_Airport/sm08/#01/data/handover_info_log.csv\n",
      "169/216 /home/wmnlab/jackbedford/data/2023-11-02/UDP_Bandlock_9S_Phone_Airport/sm08/#01/data/udp_dnlk_loss_latency.csv\n",
      "169/216 /home/wmnlab/jackbedford/data/2023-11-02/UDP_Bandlock_9S_Phone_Airport/sm08/#01/data/udp_uplk_loss_latency.csv\n"
     ]
    },
    {
     "data": {
      "application/vnd.jupyter.widget-view+json": {
       "model_id": "af43c76c08b74096b72d85f936f099fd",
       "version_major": 2,
       "version_minor": 0
      },
      "text/plain": [
       "  0%|                                                                                                         …"
      ]
     },
     "metadata": {},
     "output_type": "display_data"
    },
    {
     "name": "stdout",
     "output_type": "stream",
     "text": [
      "./20240312_150032342e_newest/20240314_060073cc2b/results/20240314_09375500000_f85b83d4e1645936_1.5corr/\\home\\wmnlab\\jackbedford\\data\\2023-11-02\\UDP_Bandlock_9S_Phone_Airport\\sm03\\#01\\data\\udp_dnlk_loss_latency\\home\\wmnlab\\jackbedford\\data\\2023-11-02\\UDP_Bandlock_9S_Phone_Airport\\sm08\\#01\\data\\udp_dnlk_loss_latency.csv\n",
      "170/216 /home/wmnlab/jackbedford/data/2023-11-02/UDP_Bandlock_9S_Phone_Airport/sm04/#01/data/handover_info_log.csv\n",
      "170/216 /home/wmnlab/jackbedford/data/2023-11-02/UDP_Bandlock_9S_Phone_Airport/sm04/#01/data/udp_dnlk_loss_latency.csv\n",
      "170/216 /home/wmnlab/jackbedford/data/2023-11-02/UDP_Bandlock_9S_Phone_Airport/sm04/#01/data/udp_uplk_loss_latency.csv\n",
      "170/216 /home/wmnlab/jackbedford/data/2023-11-02/UDP_Bandlock_9S_Phone_Airport/sm05/#01/data/handover_info_log.csv\n",
      "170/216 /home/wmnlab/jackbedford/data/2023-11-02/UDP_Bandlock_9S_Phone_Airport/sm05/#01/data/udp_dnlk_loss_latency.csv\n",
      "170/216 /home/wmnlab/jackbedford/data/2023-11-02/UDP_Bandlock_9S_Phone_Airport/sm05/#01/data/udp_uplk_loss_latency.csv\n",
      "******** Empty RRC Data ********\n",
      "171/216 /home/wmnlab/jackbedford/data/2023-11-02/UDP_Bandlock_9S_Phone_Airport/sm04/#01/data/handover_info_log.csv\n",
      "171/216 /home/wmnlab/jackbedford/data/2023-11-02/UDP_Bandlock_9S_Phone_Airport/sm04/#01/data/udp_dnlk_loss_latency.csv\n",
      "171/216 /home/wmnlab/jackbedford/data/2023-11-02/UDP_Bandlock_9S_Phone_Airport/sm04/#01/data/udp_uplk_loss_latency.csv\n",
      "171/216 /home/wmnlab/jackbedford/data/2023-11-02/UDP_Bandlock_9S_Phone_Airport/sm06/#01/data/handover_info_log.csv\n",
      "171/216 /home/wmnlab/jackbedford/data/2023-11-02/UDP_Bandlock_9S_Phone_Airport/sm06/#01/data/udp_dnlk_loss_latency.csv\n",
      "171/216 /home/wmnlab/jackbedford/data/2023-11-02/UDP_Bandlock_9S_Phone_Airport/sm06/#01/data/udp_uplk_loss_latency.csv\n",
      "******** Empty RRC Data ********\n",
      "172/216 /home/wmnlab/jackbedford/data/2023-11-02/UDP_Bandlock_9S_Phone_Airport/sm04/#01/data/handover_info_log.csv\n",
      "172/216 /home/wmnlab/jackbedford/data/2023-11-02/UDP_Bandlock_9S_Phone_Airport/sm04/#01/data/udp_dnlk_loss_latency.csv\n",
      "172/216 /home/wmnlab/jackbedford/data/2023-11-02/UDP_Bandlock_9S_Phone_Airport/sm04/#01/data/udp_uplk_loss_latency.csv\n",
      "172/216 /home/wmnlab/jackbedford/data/2023-11-02/UDP_Bandlock_9S_Phone_Airport/sm07/#01/data/handover_info_log.csv\n",
      "172/216 /home/wmnlab/jackbedford/data/2023-11-02/UDP_Bandlock_9S_Phone_Airport/sm07/#01/data/udp_dnlk_loss_latency.csv\n",
      "172/216 /home/wmnlab/jackbedford/data/2023-11-02/UDP_Bandlock_9S_Phone_Airport/sm07/#01/data/udp_uplk_loss_latency.csv\n",
      "******** Empty RRC Data ********\n",
      "173/216 /home/wmnlab/jackbedford/data/2023-11-02/UDP_Bandlock_9S_Phone_Airport/sm04/#01/data/handover_info_log.csv\n",
      "173/216 /home/wmnlab/jackbedford/data/2023-11-02/UDP_Bandlock_9S_Phone_Airport/sm04/#01/data/udp_dnlk_loss_latency.csv\n",
      "173/216 /home/wmnlab/jackbedford/data/2023-11-02/UDP_Bandlock_9S_Phone_Airport/sm04/#01/data/udp_uplk_loss_latency.csv\n",
      "173/216 /home/wmnlab/jackbedford/data/2023-11-02/UDP_Bandlock_9S_Phone_Airport/sm08/#01/data/handover_info_log.csv\n",
      "173/216 /home/wmnlab/jackbedford/data/2023-11-02/UDP_Bandlock_9S_Phone_Airport/sm08/#01/data/udp_dnlk_loss_latency.csv\n",
      "173/216 /home/wmnlab/jackbedford/data/2023-11-02/UDP_Bandlock_9S_Phone_Airport/sm08/#01/data/udp_uplk_loss_latency.csv\n",
      "******** Empty RRC Data ********\n",
      "174/216 /home/wmnlab/jackbedford/data/2023-11-02/UDP_Bandlock_9S_Phone_Airport/sm05/#01/data/handover_info_log.csv\n",
      "174/216 /home/wmnlab/jackbedford/data/2023-11-02/UDP_Bandlock_9S_Phone_Airport/sm05/#01/data/udp_dnlk_loss_latency.csv\n",
      "174/216 /home/wmnlab/jackbedford/data/2023-11-02/UDP_Bandlock_9S_Phone_Airport/sm05/#01/data/udp_uplk_loss_latency.csv\n",
      "174/216 /home/wmnlab/jackbedford/data/2023-11-02/UDP_Bandlock_9S_Phone_Airport/sm06/#01/data/handover_info_log.csv\n",
      "174/216 /home/wmnlab/jackbedford/data/2023-11-02/UDP_Bandlock_9S_Phone_Airport/sm06/#01/data/udp_dnlk_loss_latency.csv\n",
      "174/216 /home/wmnlab/jackbedford/data/2023-11-02/UDP_Bandlock_9S_Phone_Airport/sm06/#01/data/udp_uplk_loss_latency.csv\n",
      "******** Empty RRC Data ********\n",
      "175/216 /home/wmnlab/jackbedford/data/2023-11-02/UDP_Bandlock_9S_Phone_Airport/sm05/#01/data/handover_info_log.csv\n",
      "175/216 /home/wmnlab/jackbedford/data/2023-11-02/UDP_Bandlock_9S_Phone_Airport/sm05/#01/data/udp_dnlk_loss_latency.csv\n",
      "175/216 /home/wmnlab/jackbedford/data/2023-11-02/UDP_Bandlock_9S_Phone_Airport/sm05/#01/data/udp_uplk_loss_latency.csv\n",
      "175/216 /home/wmnlab/jackbedford/data/2023-11-02/UDP_Bandlock_9S_Phone_Airport/sm07/#01/data/handover_info_log.csv\n",
      "175/216 /home/wmnlab/jackbedford/data/2023-11-02/UDP_Bandlock_9S_Phone_Airport/sm07/#01/data/udp_dnlk_loss_latency.csv\n",
      "175/216 /home/wmnlab/jackbedford/data/2023-11-02/UDP_Bandlock_9S_Phone_Airport/sm07/#01/data/udp_uplk_loss_latency.csv\n",
      "******** Empty RRC Data ********\n",
      "176/216 /home/wmnlab/jackbedford/data/2023-11-02/UDP_Bandlock_9S_Phone_Airport/sm05/#01/data/handover_info_log.csv\n",
      "176/216 /home/wmnlab/jackbedford/data/2023-11-02/UDP_Bandlock_9S_Phone_Airport/sm05/#01/data/udp_dnlk_loss_latency.csv\n",
      "176/216 /home/wmnlab/jackbedford/data/2023-11-02/UDP_Bandlock_9S_Phone_Airport/sm05/#01/data/udp_uplk_loss_latency.csv\n",
      "176/216 /home/wmnlab/jackbedford/data/2023-11-02/UDP_Bandlock_9S_Phone_Airport/sm08/#01/data/handover_info_log.csv\n",
      "176/216 /home/wmnlab/jackbedford/data/2023-11-02/UDP_Bandlock_9S_Phone_Airport/sm08/#01/data/udp_dnlk_loss_latency.csv\n",
      "176/216 /home/wmnlab/jackbedford/data/2023-11-02/UDP_Bandlock_9S_Phone_Airport/sm08/#01/data/udp_uplk_loss_latency.csv\n",
      "******** Empty RRC Data ********\n",
      "177/216 /home/wmnlab/jackbedford/data/2023-11-02/UDP_Bandlock_9S_Phone_Airport/sm06/#01/data/handover_info_log.csv\n",
      "177/216 /home/wmnlab/jackbedford/data/2023-11-02/UDP_Bandlock_9S_Phone_Airport/sm06/#01/data/udp_dnlk_loss_latency.csv\n",
      "177/216 /home/wmnlab/jackbedford/data/2023-11-02/UDP_Bandlock_9S_Phone_Airport/sm06/#01/data/udp_uplk_loss_latency.csv\n",
      "177/216 /home/wmnlab/jackbedford/data/2023-11-02/UDP_Bandlock_9S_Phone_Airport/sm07/#01/data/handover_info_log.csv\n",
      "177/216 /home/wmnlab/jackbedford/data/2023-11-02/UDP_Bandlock_9S_Phone_Airport/sm07/#01/data/udp_dnlk_loss_latency.csv\n",
      "177/216 /home/wmnlab/jackbedford/data/2023-11-02/UDP_Bandlock_9S_Phone_Airport/sm07/#01/data/udp_uplk_loss_latency.csv\n",
      "******** Empty RRC Data ********\n",
      "178/216 /home/wmnlab/jackbedford/data/2023-11-02/UDP_Bandlock_9S_Phone_Airport/sm06/#01/data/handover_info_log.csv\n",
      "178/216 /home/wmnlab/jackbedford/data/2023-11-02/UDP_Bandlock_9S_Phone_Airport/sm06/#01/data/udp_dnlk_loss_latency.csv\n",
      "178/216 /home/wmnlab/jackbedford/data/2023-11-02/UDP_Bandlock_9S_Phone_Airport/sm06/#01/data/udp_uplk_loss_latency.csv\n",
      "178/216 /home/wmnlab/jackbedford/data/2023-11-02/UDP_Bandlock_9S_Phone_Airport/sm08/#01/data/handover_info_log.csv\n",
      "178/216 /home/wmnlab/jackbedford/data/2023-11-02/UDP_Bandlock_9S_Phone_Airport/sm08/#01/data/udp_dnlk_loss_latency.csv\n",
      "178/216 /home/wmnlab/jackbedford/data/2023-11-02/UDP_Bandlock_9S_Phone_Airport/sm08/#01/data/udp_uplk_loss_latency.csv\n"
     ]
    },
    {
     "data": {
      "application/vnd.jupyter.widget-view+json": {
       "model_id": "473331054ba3437b8f101a92d772716e",
       "version_major": 2,
       "version_minor": 0
      },
      "text/plain": [
       "  0%|                                                                                                         …"
      ]
     },
     "metadata": {},
     "output_type": "display_data"
    },
    {
     "name": "stdout",
     "output_type": "stream",
     "text": [
      "./20240312_150032342e_newest/20240314_060073cc2b/results/20240314_09375500000_f85b83d4e1645936_1.5corr/\\home\\wmnlab\\jackbedford\\data\\2023-11-02\\UDP_Bandlock_9S_Phone_Airport\\sm06\\#01\\data\\udp_dnlk_loss_latency\\home\\wmnlab\\jackbedford\\data\\2023-11-02\\UDP_Bandlock_9S_Phone_Airport\\sm08\\#01\\data\\udp_dnlk_loss_latency.csv\n",
      "179/216 /home/wmnlab/jackbedford/data/2023-11-02/UDP_Bandlock_9S_Phone_Airport/sm07/#01/data/handover_info_log.csv\n",
      "179/216 /home/wmnlab/jackbedford/data/2023-11-02/UDP_Bandlock_9S_Phone_Airport/sm07/#01/data/udp_dnlk_loss_latency.csv\n",
      "179/216 /home/wmnlab/jackbedford/data/2023-11-02/UDP_Bandlock_9S_Phone_Airport/sm07/#01/data/udp_uplk_loss_latency.csv\n",
      "179/216 /home/wmnlab/jackbedford/data/2023-11-02/UDP_Bandlock_9S_Phone_Airport/sm08/#01/data/handover_info_log.csv\n",
      "179/216 /home/wmnlab/jackbedford/data/2023-11-02/UDP_Bandlock_9S_Phone_Airport/sm08/#01/data/udp_dnlk_loss_latency.csv\n",
      "179/216 /home/wmnlab/jackbedford/data/2023-11-02/UDP_Bandlock_9S_Phone_Airport/sm08/#01/data/udp_uplk_loss_latency.csv\n",
      "******** Empty RRC Data ********\n",
      "180/216 /home/wmnlab/jackbedford/data/2023-11-02/UDP_Bandlock_9S_Phone_Airport/sm00/#02/data/handover_info_log.csv\n",
      "180/216 /home/wmnlab/jackbedford/data/2023-11-02/UDP_Bandlock_9S_Phone_Airport/sm00/#02/data/udp_dnlk_loss_latency.csv\n",
      "180/216 /home/wmnlab/jackbedford/data/2023-11-02/UDP_Bandlock_9S_Phone_Airport/sm00/#02/data/udp_uplk_loss_latency.csv\n",
      "180/216 /home/wmnlab/jackbedford/data/2023-11-02/UDP_Bandlock_9S_Phone_Airport/sm01/#02/data/handover_info_log.csv\n",
      "180/216 /home/wmnlab/jackbedford/data/2023-11-02/UDP_Bandlock_9S_Phone_Airport/sm01/#02/data/udp_dnlk_loss_latency.csv\n",
      "180/216 /home/wmnlab/jackbedford/data/2023-11-02/UDP_Bandlock_9S_Phone_Airport/sm01/#02/data/udp_uplk_loss_latency.csv\n"
     ]
    },
    {
     "data": {
      "application/vnd.jupyter.widget-view+json": {
       "model_id": "2e0bdf40683e4b9d83085d8d4a699c97",
       "version_major": 2,
       "version_minor": 0
      },
      "text/plain": [
       "  0%|                                                                                                         …"
      ]
     },
     "metadata": {},
     "output_type": "display_data"
    },
    {
     "name": "stdout",
     "output_type": "stream",
     "text": [
      "./20240312_150032342e_newest/20240314_060073cc2b/results/20240314_09375500000_f85b83d4e1645936_1.5corr/\\home\\wmnlab\\jackbedford\\data\\2023-11-02\\UDP_Bandlock_9S_Phone_Airport\\sm00\\#02\\data\\udp_dnlk_loss_latency\\home\\wmnlab\\jackbedford\\data\\2023-11-02\\UDP_Bandlock_9S_Phone_Airport\\sm01\\#02\\data\\udp_dnlk_loss_latency.csv\n",
      "181/216 /home/wmnlab/jackbedford/data/2023-11-02/UDP_Bandlock_9S_Phone_Airport/sm00/#02/data/handover_info_log.csv\n",
      "181/216 /home/wmnlab/jackbedford/data/2023-11-02/UDP_Bandlock_9S_Phone_Airport/sm00/#02/data/udp_dnlk_loss_latency.csv\n",
      "181/216 /home/wmnlab/jackbedford/data/2023-11-02/UDP_Bandlock_9S_Phone_Airport/sm00/#02/data/udp_uplk_loss_latency.csv\n",
      "181/216 /home/wmnlab/jackbedford/data/2023-11-02/UDP_Bandlock_9S_Phone_Airport/sm02/#02/data/handover_info_log.csv\n",
      "181/216 /home/wmnlab/jackbedford/data/2023-11-02/UDP_Bandlock_9S_Phone_Airport/sm02/#02/data/udp_dnlk_loss_latency.csv\n",
      "181/216 /home/wmnlab/jackbedford/data/2023-11-02/UDP_Bandlock_9S_Phone_Airport/sm02/#02/data/udp_uplk_loss_latency.csv\n"
     ]
    },
    {
     "data": {
      "application/vnd.jupyter.widget-view+json": {
       "model_id": "c34e9dee8fcb4e4ab2aed8be5e56df0d",
       "version_major": 2,
       "version_minor": 0
      },
      "text/plain": [
       "  0%|                                                                                                         …"
      ]
     },
     "metadata": {},
     "output_type": "display_data"
    },
    {
     "name": "stdout",
     "output_type": "stream",
     "text": [
      "./20240312_150032342e_newest/20240314_060073cc2b/results/20240314_09375500000_f85b83d4e1645936_1.5corr/\\home\\wmnlab\\jackbedford\\data\\2023-11-02\\UDP_Bandlock_9S_Phone_Airport\\sm00\\#02\\data\\udp_dnlk_loss_latency\\home\\wmnlab\\jackbedford\\data\\2023-11-02\\UDP_Bandlock_9S_Phone_Airport\\sm02\\#02\\data\\udp_dnlk_loss_latency.csv\n",
      "182/216 /home/wmnlab/jackbedford/data/2023-11-02/UDP_Bandlock_9S_Phone_Airport/sm00/#02/data/handover_info_log.csv\n",
      "182/216 /home/wmnlab/jackbedford/data/2023-11-02/UDP_Bandlock_9S_Phone_Airport/sm00/#02/data/udp_dnlk_loss_latency.csv\n",
      "182/216 /home/wmnlab/jackbedford/data/2023-11-02/UDP_Bandlock_9S_Phone_Airport/sm00/#02/data/udp_uplk_loss_latency.csv\n",
      "182/216 /home/wmnlab/jackbedford/data/2023-11-02/UDP_Bandlock_9S_Phone_Airport/sm03/#02/data/handover_info_log.csv\n",
      "182/216 /home/wmnlab/jackbedford/data/2023-11-02/UDP_Bandlock_9S_Phone_Airport/sm03/#02/data/udp_dnlk_loss_latency.csv\n",
      "182/216 /home/wmnlab/jackbedford/data/2023-11-02/UDP_Bandlock_9S_Phone_Airport/sm03/#02/data/udp_uplk_loss_latency.csv\n"
     ]
    },
    {
     "data": {
      "application/vnd.jupyter.widget-view+json": {
       "model_id": "263a1134600d4499a660e4abbcee06c2",
       "version_major": 2,
       "version_minor": 0
      },
      "text/plain": [
       "  0%|                                                                                                         …"
      ]
     },
     "metadata": {},
     "output_type": "display_data"
    },
    {
     "name": "stdout",
     "output_type": "stream",
     "text": [
      "./20240312_150032342e_newest/20240314_060073cc2b/results/20240314_09375500000_f85b83d4e1645936_1.5corr/\\home\\wmnlab\\jackbedford\\data\\2023-11-02\\UDP_Bandlock_9S_Phone_Airport\\sm00\\#02\\data\\udp_dnlk_loss_latency\\home\\wmnlab\\jackbedford\\data\\2023-11-02\\UDP_Bandlock_9S_Phone_Airport\\sm03\\#02\\data\\udp_dnlk_loss_latency.csv\n",
      "183/216 /home/wmnlab/jackbedford/data/2023-11-02/UDP_Bandlock_9S_Phone_Airport/sm00/#02/data/handover_info_log.csv\n",
      "183/216 /home/wmnlab/jackbedford/data/2023-11-02/UDP_Bandlock_9S_Phone_Airport/sm00/#02/data/udp_dnlk_loss_latency.csv\n",
      "183/216 /home/wmnlab/jackbedford/data/2023-11-02/UDP_Bandlock_9S_Phone_Airport/sm00/#02/data/udp_uplk_loss_latency.csv\n",
      "183/216 /home/wmnlab/jackbedford/data/2023-11-02/UDP_Bandlock_9S_Phone_Airport/sm04/#02/data/handover_info_log.csv\n",
      "183/216 /home/wmnlab/jackbedford/data/2023-11-02/UDP_Bandlock_9S_Phone_Airport/sm04/#02/data/udp_dnlk_loss_latency.csv\n",
      "183/216 /home/wmnlab/jackbedford/data/2023-11-02/UDP_Bandlock_9S_Phone_Airport/sm04/#02/data/udp_uplk_loss_latency.csv\n"
     ]
    },
    {
     "data": {
      "application/vnd.jupyter.widget-view+json": {
       "model_id": "d8669463685d4ddbbcd5d50e00e5e684",
       "version_major": 2,
       "version_minor": 0
      },
      "text/plain": [
       "  0%|                                                                                                         …"
      ]
     },
     "metadata": {},
     "output_type": "display_data"
    },
    {
     "name": "stdout",
     "output_type": "stream",
     "text": [
      "./20240312_150032342e_newest/20240314_060073cc2b/results/20240314_09375500000_f85b83d4e1645936_1.5corr/\\home\\wmnlab\\jackbedford\\data\\2023-11-02\\UDP_Bandlock_9S_Phone_Airport\\sm00\\#02\\data\\udp_dnlk_loss_latency\\home\\wmnlab\\jackbedford\\data\\2023-11-02\\UDP_Bandlock_9S_Phone_Airport\\sm04\\#02\\data\\udp_dnlk_loss_latency.csv\n",
      "184/216 /home/wmnlab/jackbedford/data/2023-11-02/UDP_Bandlock_9S_Phone_Airport/sm00/#02/data/handover_info_log.csv\n",
      "184/216 /home/wmnlab/jackbedford/data/2023-11-02/UDP_Bandlock_9S_Phone_Airport/sm00/#02/data/udp_dnlk_loss_latency.csv\n",
      "184/216 /home/wmnlab/jackbedford/data/2023-11-02/UDP_Bandlock_9S_Phone_Airport/sm00/#02/data/udp_uplk_loss_latency.csv\n",
      "184/216 /home/wmnlab/jackbedford/data/2023-11-02/UDP_Bandlock_9S_Phone_Airport/sm05/#02/data/handover_info_log.csv\n",
      "184/216 /home/wmnlab/jackbedford/data/2023-11-02/UDP_Bandlock_9S_Phone_Airport/sm05/#02/data/udp_dnlk_loss_latency.csv\n",
      "184/216 /home/wmnlab/jackbedford/data/2023-11-02/UDP_Bandlock_9S_Phone_Airport/sm05/#02/data/udp_uplk_loss_latency.csv\n"
     ]
    },
    {
     "data": {
      "application/vnd.jupyter.widget-view+json": {
       "model_id": "92de64c5714e4c719cb07b0ce70e34d8",
       "version_major": 2,
       "version_minor": 0
      },
      "text/plain": [
       "  0%|                                                                                                         …"
      ]
     },
     "metadata": {},
     "output_type": "display_data"
    },
    {
     "name": "stdout",
     "output_type": "stream",
     "text": [
      "./20240312_150032342e_newest/20240314_060073cc2b/results/20240314_09375500000_f85b83d4e1645936_1.5corr/\\home\\wmnlab\\jackbedford\\data\\2023-11-02\\UDP_Bandlock_9S_Phone_Airport\\sm00\\#02\\data\\udp_dnlk_loss_latency\\home\\wmnlab\\jackbedford\\data\\2023-11-02\\UDP_Bandlock_9S_Phone_Airport\\sm05\\#02\\data\\udp_dnlk_loss_latency.csv\n",
      "185/216 /home/wmnlab/jackbedford/data/2023-11-02/UDP_Bandlock_9S_Phone_Airport/sm00/#02/data/handover_info_log.csv\n",
      "185/216 /home/wmnlab/jackbedford/data/2023-11-02/UDP_Bandlock_9S_Phone_Airport/sm00/#02/data/udp_dnlk_loss_latency.csv\n",
      "185/216 /home/wmnlab/jackbedford/data/2023-11-02/UDP_Bandlock_9S_Phone_Airport/sm00/#02/data/udp_uplk_loss_latency.csv\n",
      "185/216 /home/wmnlab/jackbedford/data/2023-11-02/UDP_Bandlock_9S_Phone_Airport/sm06/#02/data/handover_info_log.csv\n",
      "185/216 /home/wmnlab/jackbedford/data/2023-11-02/UDP_Bandlock_9S_Phone_Airport/sm06/#02/data/udp_dnlk_loss_latency.csv\n",
      "185/216 /home/wmnlab/jackbedford/data/2023-11-02/UDP_Bandlock_9S_Phone_Airport/sm06/#02/data/udp_uplk_loss_latency.csv\n"
     ]
    },
    {
     "data": {
      "application/vnd.jupyter.widget-view+json": {
       "model_id": "d61364a5f7c4409aa43976e15dc5c67c",
       "version_major": 2,
       "version_minor": 0
      },
      "text/plain": [
       "  0%|                                                                                                         …"
      ]
     },
     "metadata": {},
     "output_type": "display_data"
    },
    {
     "name": "stdout",
     "output_type": "stream",
     "text": [
      "./20240312_150032342e_newest/20240314_060073cc2b/results/20240314_09375500000_f85b83d4e1645936_1.5corr/\\home\\wmnlab\\jackbedford\\data\\2023-11-02\\UDP_Bandlock_9S_Phone_Airport\\sm00\\#02\\data\\udp_dnlk_loss_latency\\home\\wmnlab\\jackbedford\\data\\2023-11-02\\UDP_Bandlock_9S_Phone_Airport\\sm06\\#02\\data\\udp_dnlk_loss_latency.csv\n",
      "186/216 /home/wmnlab/jackbedford/data/2023-11-02/UDP_Bandlock_9S_Phone_Airport/sm00/#02/data/handover_info_log.csv\n",
      "186/216 /home/wmnlab/jackbedford/data/2023-11-02/UDP_Bandlock_9S_Phone_Airport/sm00/#02/data/udp_dnlk_loss_latency.csv\n",
      "186/216 /home/wmnlab/jackbedford/data/2023-11-02/UDP_Bandlock_9S_Phone_Airport/sm00/#02/data/udp_uplk_loss_latency.csv\n",
      "186/216 /home/wmnlab/jackbedford/data/2023-11-02/UDP_Bandlock_9S_Phone_Airport/sm07/#02/data/handover_info_log.csv\n",
      "186/216 /home/wmnlab/jackbedford/data/2023-11-02/UDP_Bandlock_9S_Phone_Airport/sm07/#02/data/udp_dnlk_loss_latency.csv\n",
      "186/216 /home/wmnlab/jackbedford/data/2023-11-02/UDP_Bandlock_9S_Phone_Airport/sm07/#02/data/udp_uplk_loss_latency.csv\n"
     ]
    },
    {
     "data": {
      "application/vnd.jupyter.widget-view+json": {
       "model_id": "4eded1134e2d43f4adb1b88884c4c2ec",
       "version_major": 2,
       "version_minor": 0
      },
      "text/plain": [
       "  0%|                                                                                                         …"
      ]
     },
     "metadata": {},
     "output_type": "display_data"
    },
    {
     "name": "stdout",
     "output_type": "stream",
     "text": [
      "./20240312_150032342e_newest/20240314_060073cc2b/results/20240314_09375500000_f85b83d4e1645936_1.5corr/\\home\\wmnlab\\jackbedford\\data\\2023-11-02\\UDP_Bandlock_9S_Phone_Airport\\sm00\\#02\\data\\udp_dnlk_loss_latency\\home\\wmnlab\\jackbedford\\data\\2023-11-02\\UDP_Bandlock_9S_Phone_Airport\\sm07\\#02\\data\\udp_dnlk_loss_latency.csv\n",
      "187/216 /home/wmnlab/jackbedford/data/2023-11-02/UDP_Bandlock_9S_Phone_Airport/sm00/#02/data/handover_info_log.csv\n",
      "187/216 /home/wmnlab/jackbedford/data/2023-11-02/UDP_Bandlock_9S_Phone_Airport/sm00/#02/data/udp_dnlk_loss_latency.csv\n",
      "187/216 /home/wmnlab/jackbedford/data/2023-11-02/UDP_Bandlock_9S_Phone_Airport/sm00/#02/data/udp_uplk_loss_latency.csv\n",
      "187/216 /home/wmnlab/jackbedford/data/2023-11-02/UDP_Bandlock_9S_Phone_Airport/sm08/#02/data/handover_info_log.csv\n",
      "187/216 /home/wmnlab/jackbedford/data/2023-11-02/UDP_Bandlock_9S_Phone_Airport/sm08/#02/data/udp_dnlk_loss_latency.csv\n",
      "187/216 /home/wmnlab/jackbedford/data/2023-11-02/UDP_Bandlock_9S_Phone_Airport/sm08/#02/data/udp_uplk_loss_latency.csv\n"
     ]
    },
    {
     "data": {
      "application/vnd.jupyter.widget-view+json": {
       "model_id": "8f2a3dd15cc04d69bbe0c9814648c30c",
       "version_major": 2,
       "version_minor": 0
      },
      "text/plain": [
       "  0%|                                                                                                         …"
      ]
     },
     "metadata": {},
     "output_type": "display_data"
    },
    {
     "name": "stdout",
     "output_type": "stream",
     "text": [
      "./20240312_150032342e_newest/20240314_060073cc2b/results/20240314_09375500000_f85b83d4e1645936_1.5corr/\\home\\wmnlab\\jackbedford\\data\\2023-11-02\\UDP_Bandlock_9S_Phone_Airport\\sm00\\#02\\data\\udp_dnlk_loss_latency\\home\\wmnlab\\jackbedford\\data\\2023-11-02\\UDP_Bandlock_9S_Phone_Airport\\sm08\\#02\\data\\udp_dnlk_loss_latency.csv\n",
      "188/216 /home/wmnlab/jackbedford/data/2023-11-02/UDP_Bandlock_9S_Phone_Airport/sm01/#02/data/handover_info_log.csv\n",
      "188/216 /home/wmnlab/jackbedford/data/2023-11-02/UDP_Bandlock_9S_Phone_Airport/sm01/#02/data/udp_dnlk_loss_latency.csv\n",
      "188/216 /home/wmnlab/jackbedford/data/2023-11-02/UDP_Bandlock_9S_Phone_Airport/sm01/#02/data/udp_uplk_loss_latency.csv\n",
      "188/216 /home/wmnlab/jackbedford/data/2023-11-02/UDP_Bandlock_9S_Phone_Airport/sm02/#02/data/handover_info_log.csv\n",
      "188/216 /home/wmnlab/jackbedford/data/2023-11-02/UDP_Bandlock_9S_Phone_Airport/sm02/#02/data/udp_dnlk_loss_latency.csv\n",
      "188/216 /home/wmnlab/jackbedford/data/2023-11-02/UDP_Bandlock_9S_Phone_Airport/sm02/#02/data/udp_uplk_loss_latency.csv\n"
     ]
    },
    {
     "data": {
      "application/vnd.jupyter.widget-view+json": {
       "model_id": "28523d5dfd4342f79afc2a405c0d2e77",
       "version_major": 2,
       "version_minor": 0
      },
      "text/plain": [
       "  0%|                                                                                                         …"
      ]
     },
     "metadata": {},
     "output_type": "display_data"
    },
    {
     "name": "stdout",
     "output_type": "stream",
     "text": [
      "./20240312_150032342e_newest/20240314_060073cc2b/results/20240314_09375500000_f85b83d4e1645936_1.5corr/\\home\\wmnlab\\jackbedford\\data\\2023-11-02\\UDP_Bandlock_9S_Phone_Airport\\sm01\\#02\\data\\udp_dnlk_loss_latency\\home\\wmnlab\\jackbedford\\data\\2023-11-02\\UDP_Bandlock_9S_Phone_Airport\\sm02\\#02\\data\\udp_dnlk_loss_latency.csv\n",
      "189/216 /home/wmnlab/jackbedford/data/2023-11-02/UDP_Bandlock_9S_Phone_Airport/sm01/#02/data/handover_info_log.csv\n",
      "189/216 /home/wmnlab/jackbedford/data/2023-11-02/UDP_Bandlock_9S_Phone_Airport/sm01/#02/data/udp_dnlk_loss_latency.csv\n",
      "189/216 /home/wmnlab/jackbedford/data/2023-11-02/UDP_Bandlock_9S_Phone_Airport/sm01/#02/data/udp_uplk_loss_latency.csv\n",
      "189/216 /home/wmnlab/jackbedford/data/2023-11-02/UDP_Bandlock_9S_Phone_Airport/sm03/#02/data/handover_info_log.csv\n",
      "189/216 /home/wmnlab/jackbedford/data/2023-11-02/UDP_Bandlock_9S_Phone_Airport/sm03/#02/data/udp_dnlk_loss_latency.csv\n",
      "189/216 /home/wmnlab/jackbedford/data/2023-11-02/UDP_Bandlock_9S_Phone_Airport/sm03/#02/data/udp_uplk_loss_latency.csv\n"
     ]
    },
    {
     "data": {
      "application/vnd.jupyter.widget-view+json": {
       "model_id": "91e949dcc0be4f3a9c6a352ca26f1bb4",
       "version_major": 2,
       "version_minor": 0
      },
      "text/plain": [
       "  0%|                                                                                                         …"
      ]
     },
     "metadata": {},
     "output_type": "display_data"
    },
    {
     "name": "stdout",
     "output_type": "stream",
     "text": [
      "./20240312_150032342e_newest/20240314_060073cc2b/results/20240314_09375500000_f85b83d4e1645936_1.5corr/\\home\\wmnlab\\jackbedford\\data\\2023-11-02\\UDP_Bandlock_9S_Phone_Airport\\sm01\\#02\\data\\udp_dnlk_loss_latency\\home\\wmnlab\\jackbedford\\data\\2023-11-02\\UDP_Bandlock_9S_Phone_Airport\\sm03\\#02\\data\\udp_dnlk_loss_latency.csv\n",
      "190/216 /home/wmnlab/jackbedford/data/2023-11-02/UDP_Bandlock_9S_Phone_Airport/sm01/#02/data/handover_info_log.csv\n",
      "190/216 /home/wmnlab/jackbedford/data/2023-11-02/UDP_Bandlock_9S_Phone_Airport/sm01/#02/data/udp_dnlk_loss_latency.csv\n",
      "190/216 /home/wmnlab/jackbedford/data/2023-11-02/UDP_Bandlock_9S_Phone_Airport/sm01/#02/data/udp_uplk_loss_latency.csv\n",
      "190/216 /home/wmnlab/jackbedford/data/2023-11-02/UDP_Bandlock_9S_Phone_Airport/sm04/#02/data/handover_info_log.csv\n",
      "190/216 /home/wmnlab/jackbedford/data/2023-11-02/UDP_Bandlock_9S_Phone_Airport/sm04/#02/data/udp_dnlk_loss_latency.csv\n",
      "190/216 /home/wmnlab/jackbedford/data/2023-11-02/UDP_Bandlock_9S_Phone_Airport/sm04/#02/data/udp_uplk_loss_latency.csv\n"
     ]
    },
    {
     "data": {
      "application/vnd.jupyter.widget-view+json": {
       "model_id": "95dbc98d5322437ba8c070f8992c4710",
       "version_major": 2,
       "version_minor": 0
      },
      "text/plain": [
       "  0%|                                                                                                         …"
      ]
     },
     "metadata": {},
     "output_type": "display_data"
    },
    {
     "name": "stdout",
     "output_type": "stream",
     "text": [
      "./20240312_150032342e_newest/20240314_060073cc2b/results/20240314_09375500000_f85b83d4e1645936_1.5corr/\\home\\wmnlab\\jackbedford\\data\\2023-11-02\\UDP_Bandlock_9S_Phone_Airport\\sm01\\#02\\data\\udp_dnlk_loss_latency\\home\\wmnlab\\jackbedford\\data\\2023-11-02\\UDP_Bandlock_9S_Phone_Airport\\sm04\\#02\\data\\udp_dnlk_loss_latency.csv\n",
      "191/216 /home/wmnlab/jackbedford/data/2023-11-02/UDP_Bandlock_9S_Phone_Airport/sm01/#02/data/handover_info_log.csv\n",
      "191/216 /home/wmnlab/jackbedford/data/2023-11-02/UDP_Bandlock_9S_Phone_Airport/sm01/#02/data/udp_dnlk_loss_latency.csv\n",
      "191/216 /home/wmnlab/jackbedford/data/2023-11-02/UDP_Bandlock_9S_Phone_Airport/sm01/#02/data/udp_uplk_loss_latency.csv\n",
      "191/216 /home/wmnlab/jackbedford/data/2023-11-02/UDP_Bandlock_9S_Phone_Airport/sm05/#02/data/handover_info_log.csv\n",
      "191/216 /home/wmnlab/jackbedford/data/2023-11-02/UDP_Bandlock_9S_Phone_Airport/sm05/#02/data/udp_dnlk_loss_latency.csv\n",
      "191/216 /home/wmnlab/jackbedford/data/2023-11-02/UDP_Bandlock_9S_Phone_Airport/sm05/#02/data/udp_uplk_loss_latency.csv\n"
     ]
    },
    {
     "data": {
      "application/vnd.jupyter.widget-view+json": {
       "model_id": "4bb3de8e41e3487398a0a9df14c0befd",
       "version_major": 2,
       "version_minor": 0
      },
      "text/plain": [
       "  0%|                                                                                                         …"
      ]
     },
     "metadata": {},
     "output_type": "display_data"
    },
    {
     "name": "stdout",
     "output_type": "stream",
     "text": [
      "./20240312_150032342e_newest/20240314_060073cc2b/results/20240314_09375500000_f85b83d4e1645936_1.5corr/\\home\\wmnlab\\jackbedford\\data\\2023-11-02\\UDP_Bandlock_9S_Phone_Airport\\sm01\\#02\\data\\udp_dnlk_loss_latency\\home\\wmnlab\\jackbedford\\data\\2023-11-02\\UDP_Bandlock_9S_Phone_Airport\\sm05\\#02\\data\\udp_dnlk_loss_latency.csv\n",
      "192/216 /home/wmnlab/jackbedford/data/2023-11-02/UDP_Bandlock_9S_Phone_Airport/sm01/#02/data/handover_info_log.csv\n",
      "192/216 /home/wmnlab/jackbedford/data/2023-11-02/UDP_Bandlock_9S_Phone_Airport/sm01/#02/data/udp_dnlk_loss_latency.csv\n",
      "192/216 /home/wmnlab/jackbedford/data/2023-11-02/UDP_Bandlock_9S_Phone_Airport/sm01/#02/data/udp_uplk_loss_latency.csv\n",
      "192/216 /home/wmnlab/jackbedford/data/2023-11-02/UDP_Bandlock_9S_Phone_Airport/sm06/#02/data/handover_info_log.csv\n",
      "192/216 /home/wmnlab/jackbedford/data/2023-11-02/UDP_Bandlock_9S_Phone_Airport/sm06/#02/data/udp_dnlk_loss_latency.csv\n",
      "192/216 /home/wmnlab/jackbedford/data/2023-11-02/UDP_Bandlock_9S_Phone_Airport/sm06/#02/data/udp_uplk_loss_latency.csv\n"
     ]
    },
    {
     "data": {
      "application/vnd.jupyter.widget-view+json": {
       "model_id": "fe0dc2fb13eb49cab0aed717d5cb50a7",
       "version_major": 2,
       "version_minor": 0
      },
      "text/plain": [
       "  0%|                                                                                                         …"
      ]
     },
     "metadata": {},
     "output_type": "display_data"
    },
    {
     "name": "stdout",
     "output_type": "stream",
     "text": [
      "./20240312_150032342e_newest/20240314_060073cc2b/results/20240314_09375500000_f85b83d4e1645936_1.5corr/\\home\\wmnlab\\jackbedford\\data\\2023-11-02\\UDP_Bandlock_9S_Phone_Airport\\sm01\\#02\\data\\udp_dnlk_loss_latency\\home\\wmnlab\\jackbedford\\data\\2023-11-02\\UDP_Bandlock_9S_Phone_Airport\\sm06\\#02\\data\\udp_dnlk_loss_latency.csv\n",
      "193/216 /home/wmnlab/jackbedford/data/2023-11-02/UDP_Bandlock_9S_Phone_Airport/sm01/#02/data/handover_info_log.csv\n",
      "193/216 /home/wmnlab/jackbedford/data/2023-11-02/UDP_Bandlock_9S_Phone_Airport/sm01/#02/data/udp_dnlk_loss_latency.csv\n",
      "193/216 /home/wmnlab/jackbedford/data/2023-11-02/UDP_Bandlock_9S_Phone_Airport/sm01/#02/data/udp_uplk_loss_latency.csv\n",
      "193/216 /home/wmnlab/jackbedford/data/2023-11-02/UDP_Bandlock_9S_Phone_Airport/sm07/#02/data/handover_info_log.csv\n",
      "193/216 /home/wmnlab/jackbedford/data/2023-11-02/UDP_Bandlock_9S_Phone_Airport/sm07/#02/data/udp_dnlk_loss_latency.csv\n",
      "193/216 /home/wmnlab/jackbedford/data/2023-11-02/UDP_Bandlock_9S_Phone_Airport/sm07/#02/data/udp_uplk_loss_latency.csv\n"
     ]
    },
    {
     "data": {
      "application/vnd.jupyter.widget-view+json": {
       "model_id": "72e8e364f0d644cc9899a5986ba6da54",
       "version_major": 2,
       "version_minor": 0
      },
      "text/plain": [
       "  0%|                                                                                                         …"
      ]
     },
     "metadata": {},
     "output_type": "display_data"
    },
    {
     "name": "stdout",
     "output_type": "stream",
     "text": [
      "./20240312_150032342e_newest/20240314_060073cc2b/results/20240314_09375500000_f85b83d4e1645936_1.5corr/\\home\\wmnlab\\jackbedford\\data\\2023-11-02\\UDP_Bandlock_9S_Phone_Airport\\sm01\\#02\\data\\udp_dnlk_loss_latency\\home\\wmnlab\\jackbedford\\data\\2023-11-02\\UDP_Bandlock_9S_Phone_Airport\\sm07\\#02\\data\\udp_dnlk_loss_latency.csv\n",
      "194/216 /home/wmnlab/jackbedford/data/2023-11-02/UDP_Bandlock_9S_Phone_Airport/sm01/#02/data/handover_info_log.csv\n",
      "194/216 /home/wmnlab/jackbedford/data/2023-11-02/UDP_Bandlock_9S_Phone_Airport/sm01/#02/data/udp_dnlk_loss_latency.csv\n",
      "194/216 /home/wmnlab/jackbedford/data/2023-11-02/UDP_Bandlock_9S_Phone_Airport/sm01/#02/data/udp_uplk_loss_latency.csv\n",
      "194/216 /home/wmnlab/jackbedford/data/2023-11-02/UDP_Bandlock_9S_Phone_Airport/sm08/#02/data/handover_info_log.csv\n",
      "194/216 /home/wmnlab/jackbedford/data/2023-11-02/UDP_Bandlock_9S_Phone_Airport/sm08/#02/data/udp_dnlk_loss_latency.csv\n",
      "194/216 /home/wmnlab/jackbedford/data/2023-11-02/UDP_Bandlock_9S_Phone_Airport/sm08/#02/data/udp_uplk_loss_latency.csv\n"
     ]
    },
    {
     "data": {
      "application/vnd.jupyter.widget-view+json": {
       "model_id": "d6d0862e6b2945068da9de6639b2d194",
       "version_major": 2,
       "version_minor": 0
      },
      "text/plain": [
       "  0%|                                                                                                         …"
      ]
     },
     "metadata": {},
     "output_type": "display_data"
    },
    {
     "name": "stdout",
     "output_type": "stream",
     "text": [
      "./20240312_150032342e_newest/20240314_060073cc2b/results/20240314_09375500000_f85b83d4e1645936_1.5corr/\\home\\wmnlab\\jackbedford\\data\\2023-11-02\\UDP_Bandlock_9S_Phone_Airport\\sm01\\#02\\data\\udp_dnlk_loss_latency\\home\\wmnlab\\jackbedford\\data\\2023-11-02\\UDP_Bandlock_9S_Phone_Airport\\sm08\\#02\\data\\udp_dnlk_loss_latency.csv\n",
      "195/216 /home/wmnlab/jackbedford/data/2023-11-02/UDP_Bandlock_9S_Phone_Airport/sm02/#02/data/handover_info_log.csv\n",
      "195/216 /home/wmnlab/jackbedford/data/2023-11-02/UDP_Bandlock_9S_Phone_Airport/sm02/#02/data/udp_dnlk_loss_latency.csv\n",
      "195/216 /home/wmnlab/jackbedford/data/2023-11-02/UDP_Bandlock_9S_Phone_Airport/sm02/#02/data/udp_uplk_loss_latency.csv\n",
      "195/216 /home/wmnlab/jackbedford/data/2023-11-02/UDP_Bandlock_9S_Phone_Airport/sm03/#02/data/handover_info_log.csv\n",
      "195/216 /home/wmnlab/jackbedford/data/2023-11-02/UDP_Bandlock_9S_Phone_Airport/sm03/#02/data/udp_dnlk_loss_latency.csv\n",
      "195/216 /home/wmnlab/jackbedford/data/2023-11-02/UDP_Bandlock_9S_Phone_Airport/sm03/#02/data/udp_uplk_loss_latency.csv\n"
     ]
    },
    {
     "data": {
      "application/vnd.jupyter.widget-view+json": {
       "model_id": "3e590322f63945bb9badcdcdc2eb53aa",
       "version_major": 2,
       "version_minor": 0
      },
      "text/plain": [
       "  0%|                                                                                                         …"
      ]
     },
     "metadata": {},
     "output_type": "display_data"
    },
    {
     "name": "stdout",
     "output_type": "stream",
     "text": [
      "./20240312_150032342e_newest/20240314_060073cc2b/results/20240314_09375500000_f85b83d4e1645936_1.5corr/\\home\\wmnlab\\jackbedford\\data\\2023-11-02\\UDP_Bandlock_9S_Phone_Airport\\sm02\\#02\\data\\udp_dnlk_loss_latency\\home\\wmnlab\\jackbedford\\data\\2023-11-02\\UDP_Bandlock_9S_Phone_Airport\\sm03\\#02\\data\\udp_dnlk_loss_latency.csv\n",
      "196/216 /home/wmnlab/jackbedford/data/2023-11-02/UDP_Bandlock_9S_Phone_Airport/sm02/#02/data/handover_info_log.csv\n",
      "196/216 /home/wmnlab/jackbedford/data/2023-11-02/UDP_Bandlock_9S_Phone_Airport/sm02/#02/data/udp_dnlk_loss_latency.csv\n",
      "196/216 /home/wmnlab/jackbedford/data/2023-11-02/UDP_Bandlock_9S_Phone_Airport/sm02/#02/data/udp_uplk_loss_latency.csv\n",
      "196/216 /home/wmnlab/jackbedford/data/2023-11-02/UDP_Bandlock_9S_Phone_Airport/sm04/#02/data/handover_info_log.csv\n",
      "196/216 /home/wmnlab/jackbedford/data/2023-11-02/UDP_Bandlock_9S_Phone_Airport/sm04/#02/data/udp_dnlk_loss_latency.csv\n",
      "196/216 /home/wmnlab/jackbedford/data/2023-11-02/UDP_Bandlock_9S_Phone_Airport/sm04/#02/data/udp_uplk_loss_latency.csv\n"
     ]
    },
    {
     "data": {
      "application/vnd.jupyter.widget-view+json": {
       "model_id": "2ccf45e3b3fd4a4db199e66b2afbdb61",
       "version_major": 2,
       "version_minor": 0
      },
      "text/plain": [
       "  0%|                                                                                                         …"
      ]
     },
     "metadata": {},
     "output_type": "display_data"
    },
    {
     "name": "stdout",
     "output_type": "stream",
     "text": [
      "./20240312_150032342e_newest/20240314_060073cc2b/results/20240314_09375500000_f85b83d4e1645936_1.5corr/\\home\\wmnlab\\jackbedford\\data\\2023-11-02\\UDP_Bandlock_9S_Phone_Airport\\sm02\\#02\\data\\udp_dnlk_loss_latency\\home\\wmnlab\\jackbedford\\data\\2023-11-02\\UDP_Bandlock_9S_Phone_Airport\\sm04\\#02\\data\\udp_dnlk_loss_latency.csv\n",
      "197/216 /home/wmnlab/jackbedford/data/2023-11-02/UDP_Bandlock_9S_Phone_Airport/sm02/#02/data/handover_info_log.csv\n",
      "197/216 /home/wmnlab/jackbedford/data/2023-11-02/UDP_Bandlock_9S_Phone_Airport/sm02/#02/data/udp_dnlk_loss_latency.csv\n",
      "197/216 /home/wmnlab/jackbedford/data/2023-11-02/UDP_Bandlock_9S_Phone_Airport/sm02/#02/data/udp_uplk_loss_latency.csv\n",
      "197/216 /home/wmnlab/jackbedford/data/2023-11-02/UDP_Bandlock_9S_Phone_Airport/sm05/#02/data/handover_info_log.csv\n",
      "197/216 /home/wmnlab/jackbedford/data/2023-11-02/UDP_Bandlock_9S_Phone_Airport/sm05/#02/data/udp_dnlk_loss_latency.csv\n",
      "197/216 /home/wmnlab/jackbedford/data/2023-11-02/UDP_Bandlock_9S_Phone_Airport/sm05/#02/data/udp_uplk_loss_latency.csv\n"
     ]
    },
    {
     "data": {
      "application/vnd.jupyter.widget-view+json": {
       "model_id": "46cf1bbda2914c26b3051f7d5c530fb6",
       "version_major": 2,
       "version_minor": 0
      },
      "text/plain": [
       "  0%|                                                                                                         …"
      ]
     },
     "metadata": {},
     "output_type": "display_data"
    },
    {
     "name": "stdout",
     "output_type": "stream",
     "text": [
      "./20240312_150032342e_newest/20240314_060073cc2b/results/20240314_09375500000_f85b83d4e1645936_1.5corr/\\home\\wmnlab\\jackbedford\\data\\2023-11-02\\UDP_Bandlock_9S_Phone_Airport\\sm02\\#02\\data\\udp_dnlk_loss_latency\\home\\wmnlab\\jackbedford\\data\\2023-11-02\\UDP_Bandlock_9S_Phone_Airport\\sm05\\#02\\data\\udp_dnlk_loss_latency.csv\n",
      "198/216 /home/wmnlab/jackbedford/data/2023-11-02/UDP_Bandlock_9S_Phone_Airport/sm02/#02/data/handover_info_log.csv\n",
      "198/216 /home/wmnlab/jackbedford/data/2023-11-02/UDP_Bandlock_9S_Phone_Airport/sm02/#02/data/udp_dnlk_loss_latency.csv\n",
      "198/216 /home/wmnlab/jackbedford/data/2023-11-02/UDP_Bandlock_9S_Phone_Airport/sm02/#02/data/udp_uplk_loss_latency.csv\n",
      "198/216 /home/wmnlab/jackbedford/data/2023-11-02/UDP_Bandlock_9S_Phone_Airport/sm06/#02/data/handover_info_log.csv\n",
      "198/216 /home/wmnlab/jackbedford/data/2023-11-02/UDP_Bandlock_9S_Phone_Airport/sm06/#02/data/udp_dnlk_loss_latency.csv\n",
      "198/216 /home/wmnlab/jackbedford/data/2023-11-02/UDP_Bandlock_9S_Phone_Airport/sm06/#02/data/udp_uplk_loss_latency.csv\n"
     ]
    },
    {
     "data": {
      "application/vnd.jupyter.widget-view+json": {
       "model_id": "70845c4225c6437794c16f999e69d1fa",
       "version_major": 2,
       "version_minor": 0
      },
      "text/plain": [
       "  0%|                                                                                                         …"
      ]
     },
     "metadata": {},
     "output_type": "display_data"
    },
    {
     "name": "stdout",
     "output_type": "stream",
     "text": [
      "./20240312_150032342e_newest/20240314_060073cc2b/results/20240314_09375500000_f85b83d4e1645936_1.5corr/\\home\\wmnlab\\jackbedford\\data\\2023-11-02\\UDP_Bandlock_9S_Phone_Airport\\sm02\\#02\\data\\udp_dnlk_loss_latency\\home\\wmnlab\\jackbedford\\data\\2023-11-02\\UDP_Bandlock_9S_Phone_Airport\\sm06\\#02\\data\\udp_dnlk_loss_latency.csv\n",
      "199/216 /home/wmnlab/jackbedford/data/2023-11-02/UDP_Bandlock_9S_Phone_Airport/sm02/#02/data/handover_info_log.csv\n",
      "199/216 /home/wmnlab/jackbedford/data/2023-11-02/UDP_Bandlock_9S_Phone_Airport/sm02/#02/data/udp_dnlk_loss_latency.csv\n",
      "199/216 /home/wmnlab/jackbedford/data/2023-11-02/UDP_Bandlock_9S_Phone_Airport/sm02/#02/data/udp_uplk_loss_latency.csv\n",
      "199/216 /home/wmnlab/jackbedford/data/2023-11-02/UDP_Bandlock_9S_Phone_Airport/sm07/#02/data/handover_info_log.csv\n",
      "199/216 /home/wmnlab/jackbedford/data/2023-11-02/UDP_Bandlock_9S_Phone_Airport/sm07/#02/data/udp_dnlk_loss_latency.csv\n",
      "199/216 /home/wmnlab/jackbedford/data/2023-11-02/UDP_Bandlock_9S_Phone_Airport/sm07/#02/data/udp_uplk_loss_latency.csv\n"
     ]
    },
    {
     "data": {
      "application/vnd.jupyter.widget-view+json": {
       "model_id": "74066975f71248cc8fe36cc403e7a3f0",
       "version_major": 2,
       "version_minor": 0
      },
      "text/plain": [
       "  0%|                                                                                                         …"
      ]
     },
     "metadata": {},
     "output_type": "display_data"
    },
    {
     "name": "stdout",
     "output_type": "stream",
     "text": [
      "./20240312_150032342e_newest/20240314_060073cc2b/results/20240314_09375500000_f85b83d4e1645936_1.5corr/\\home\\wmnlab\\jackbedford\\data\\2023-11-02\\UDP_Bandlock_9S_Phone_Airport\\sm02\\#02\\data\\udp_dnlk_loss_latency\\home\\wmnlab\\jackbedford\\data\\2023-11-02\\UDP_Bandlock_9S_Phone_Airport\\sm07\\#02\\data\\udp_dnlk_loss_latency.csv\n",
      "200/216 /home/wmnlab/jackbedford/data/2023-11-02/UDP_Bandlock_9S_Phone_Airport/sm02/#02/data/handover_info_log.csv\n",
      "200/216 /home/wmnlab/jackbedford/data/2023-11-02/UDP_Bandlock_9S_Phone_Airport/sm02/#02/data/udp_dnlk_loss_latency.csv\n",
      "200/216 /home/wmnlab/jackbedford/data/2023-11-02/UDP_Bandlock_9S_Phone_Airport/sm02/#02/data/udp_uplk_loss_latency.csv\n",
      "200/216 /home/wmnlab/jackbedford/data/2023-11-02/UDP_Bandlock_9S_Phone_Airport/sm08/#02/data/handover_info_log.csv\n",
      "200/216 /home/wmnlab/jackbedford/data/2023-11-02/UDP_Bandlock_9S_Phone_Airport/sm08/#02/data/udp_dnlk_loss_latency.csv\n",
      "200/216 /home/wmnlab/jackbedford/data/2023-11-02/UDP_Bandlock_9S_Phone_Airport/sm08/#02/data/udp_uplk_loss_latency.csv\n"
     ]
    },
    {
     "data": {
      "application/vnd.jupyter.widget-view+json": {
       "model_id": "8a73d2f57eb74b2596a839268d8e6d1e",
       "version_major": 2,
       "version_minor": 0
      },
      "text/plain": [
       "  0%|                                                                                                         …"
      ]
     },
     "metadata": {},
     "output_type": "display_data"
    },
    {
     "name": "stdout",
     "output_type": "stream",
     "text": [
      "./20240312_150032342e_newest/20240314_060073cc2b/results/20240314_09375500000_f85b83d4e1645936_1.5corr/\\home\\wmnlab\\jackbedford\\data\\2023-11-02\\UDP_Bandlock_9S_Phone_Airport\\sm02\\#02\\data\\udp_dnlk_loss_latency\\home\\wmnlab\\jackbedford\\data\\2023-11-02\\UDP_Bandlock_9S_Phone_Airport\\sm08\\#02\\data\\udp_dnlk_loss_latency.csv\n",
      "201/216 /home/wmnlab/jackbedford/data/2023-11-02/UDP_Bandlock_9S_Phone_Airport/sm03/#02/data/handover_info_log.csv\n",
      "201/216 /home/wmnlab/jackbedford/data/2023-11-02/UDP_Bandlock_9S_Phone_Airport/sm03/#02/data/udp_dnlk_loss_latency.csv\n",
      "201/216 /home/wmnlab/jackbedford/data/2023-11-02/UDP_Bandlock_9S_Phone_Airport/sm03/#02/data/udp_uplk_loss_latency.csv\n",
      "201/216 /home/wmnlab/jackbedford/data/2023-11-02/UDP_Bandlock_9S_Phone_Airport/sm04/#02/data/handover_info_log.csv\n",
      "201/216 /home/wmnlab/jackbedford/data/2023-11-02/UDP_Bandlock_9S_Phone_Airport/sm04/#02/data/udp_dnlk_loss_latency.csv\n",
      "201/216 /home/wmnlab/jackbedford/data/2023-11-02/UDP_Bandlock_9S_Phone_Airport/sm04/#02/data/udp_uplk_loss_latency.csv\n"
     ]
    },
    {
     "data": {
      "application/vnd.jupyter.widget-view+json": {
       "model_id": "9cc195eab91744da84ef07548bee16ed",
       "version_major": 2,
       "version_minor": 0
      },
      "text/plain": [
       "  0%|                                                                                                         …"
      ]
     },
     "metadata": {},
     "output_type": "display_data"
    },
    {
     "name": "stdout",
     "output_type": "stream",
     "text": [
      "./20240312_150032342e_newest/20240314_060073cc2b/results/20240314_09375500000_f85b83d4e1645936_1.5corr/\\home\\wmnlab\\jackbedford\\data\\2023-11-02\\UDP_Bandlock_9S_Phone_Airport\\sm03\\#02\\data\\udp_dnlk_loss_latency\\home\\wmnlab\\jackbedford\\data\\2023-11-02\\UDP_Bandlock_9S_Phone_Airport\\sm04\\#02\\data\\udp_dnlk_loss_latency.csv\n",
      "202/216 /home/wmnlab/jackbedford/data/2023-11-02/UDP_Bandlock_9S_Phone_Airport/sm03/#02/data/handover_info_log.csv\n",
      "202/216 /home/wmnlab/jackbedford/data/2023-11-02/UDP_Bandlock_9S_Phone_Airport/sm03/#02/data/udp_dnlk_loss_latency.csv\n",
      "202/216 /home/wmnlab/jackbedford/data/2023-11-02/UDP_Bandlock_9S_Phone_Airport/sm03/#02/data/udp_uplk_loss_latency.csv\n",
      "202/216 /home/wmnlab/jackbedford/data/2023-11-02/UDP_Bandlock_9S_Phone_Airport/sm05/#02/data/handover_info_log.csv\n",
      "202/216 /home/wmnlab/jackbedford/data/2023-11-02/UDP_Bandlock_9S_Phone_Airport/sm05/#02/data/udp_dnlk_loss_latency.csv\n",
      "202/216 /home/wmnlab/jackbedford/data/2023-11-02/UDP_Bandlock_9S_Phone_Airport/sm05/#02/data/udp_uplk_loss_latency.csv\n"
     ]
    },
    {
     "data": {
      "application/vnd.jupyter.widget-view+json": {
       "model_id": "a0ab5f45d938437db38766545fe58ee2",
       "version_major": 2,
       "version_minor": 0
      },
      "text/plain": [
       "  0%|                                                                                                         …"
      ]
     },
     "metadata": {},
     "output_type": "display_data"
    },
    {
     "name": "stdout",
     "output_type": "stream",
     "text": [
      "./20240312_150032342e_newest/20240314_060073cc2b/results/20240314_09375500000_f85b83d4e1645936_1.5corr/\\home\\wmnlab\\jackbedford\\data\\2023-11-02\\UDP_Bandlock_9S_Phone_Airport\\sm03\\#02\\data\\udp_dnlk_loss_latency\\home\\wmnlab\\jackbedford\\data\\2023-11-02\\UDP_Bandlock_9S_Phone_Airport\\sm05\\#02\\data\\udp_dnlk_loss_latency.csv\n",
      "203/216 /home/wmnlab/jackbedford/data/2023-11-02/UDP_Bandlock_9S_Phone_Airport/sm03/#02/data/handover_info_log.csv\n",
      "203/216 /home/wmnlab/jackbedford/data/2023-11-02/UDP_Bandlock_9S_Phone_Airport/sm03/#02/data/udp_dnlk_loss_latency.csv\n",
      "203/216 /home/wmnlab/jackbedford/data/2023-11-02/UDP_Bandlock_9S_Phone_Airport/sm03/#02/data/udp_uplk_loss_latency.csv\n",
      "203/216 /home/wmnlab/jackbedford/data/2023-11-02/UDP_Bandlock_9S_Phone_Airport/sm06/#02/data/handover_info_log.csv\n",
      "203/216 /home/wmnlab/jackbedford/data/2023-11-02/UDP_Bandlock_9S_Phone_Airport/sm06/#02/data/udp_dnlk_loss_latency.csv\n",
      "203/216 /home/wmnlab/jackbedford/data/2023-11-02/UDP_Bandlock_9S_Phone_Airport/sm06/#02/data/udp_uplk_loss_latency.csv\n"
     ]
    },
    {
     "data": {
      "application/vnd.jupyter.widget-view+json": {
       "model_id": "0b43f3913a4c4fde8801adee4e33e3c0",
       "version_major": 2,
       "version_minor": 0
      },
      "text/plain": [
       "  0%|                                                                                                         …"
      ]
     },
     "metadata": {},
     "output_type": "display_data"
    },
    {
     "name": "stdout",
     "output_type": "stream",
     "text": [
      "./20240312_150032342e_newest/20240314_060073cc2b/results/20240314_09375500000_f85b83d4e1645936_1.5corr/\\home\\wmnlab\\jackbedford\\data\\2023-11-02\\UDP_Bandlock_9S_Phone_Airport\\sm03\\#02\\data\\udp_dnlk_loss_latency\\home\\wmnlab\\jackbedford\\data\\2023-11-02\\UDP_Bandlock_9S_Phone_Airport\\sm06\\#02\\data\\udp_dnlk_loss_latency.csv\n",
      "204/216 /home/wmnlab/jackbedford/data/2023-11-02/UDP_Bandlock_9S_Phone_Airport/sm03/#02/data/handover_info_log.csv\n",
      "204/216 /home/wmnlab/jackbedford/data/2023-11-02/UDP_Bandlock_9S_Phone_Airport/sm03/#02/data/udp_dnlk_loss_latency.csv\n",
      "204/216 /home/wmnlab/jackbedford/data/2023-11-02/UDP_Bandlock_9S_Phone_Airport/sm03/#02/data/udp_uplk_loss_latency.csv\n",
      "204/216 /home/wmnlab/jackbedford/data/2023-11-02/UDP_Bandlock_9S_Phone_Airport/sm07/#02/data/handover_info_log.csv\n",
      "204/216 /home/wmnlab/jackbedford/data/2023-11-02/UDP_Bandlock_9S_Phone_Airport/sm07/#02/data/udp_dnlk_loss_latency.csv\n",
      "204/216 /home/wmnlab/jackbedford/data/2023-11-02/UDP_Bandlock_9S_Phone_Airport/sm07/#02/data/udp_uplk_loss_latency.csv\n"
     ]
    },
    {
     "data": {
      "application/vnd.jupyter.widget-view+json": {
       "model_id": "59cf96327c1c41e4811ff54389a914b4",
       "version_major": 2,
       "version_minor": 0
      },
      "text/plain": [
       "  0%|                                                                                                         …"
      ]
     },
     "metadata": {},
     "output_type": "display_data"
    },
    {
     "name": "stdout",
     "output_type": "stream",
     "text": [
      "./20240312_150032342e_newest/20240314_060073cc2b/results/20240314_09375500000_f85b83d4e1645936_1.5corr/\\home\\wmnlab\\jackbedford\\data\\2023-11-02\\UDP_Bandlock_9S_Phone_Airport\\sm03\\#02\\data\\udp_dnlk_loss_latency\\home\\wmnlab\\jackbedford\\data\\2023-11-02\\UDP_Bandlock_9S_Phone_Airport\\sm07\\#02\\data\\udp_dnlk_loss_latency.csv\n",
      "205/216 /home/wmnlab/jackbedford/data/2023-11-02/UDP_Bandlock_9S_Phone_Airport/sm03/#02/data/handover_info_log.csv\n",
      "205/216 /home/wmnlab/jackbedford/data/2023-11-02/UDP_Bandlock_9S_Phone_Airport/sm03/#02/data/udp_dnlk_loss_latency.csv\n",
      "205/216 /home/wmnlab/jackbedford/data/2023-11-02/UDP_Bandlock_9S_Phone_Airport/sm03/#02/data/udp_uplk_loss_latency.csv\n",
      "205/216 /home/wmnlab/jackbedford/data/2023-11-02/UDP_Bandlock_9S_Phone_Airport/sm08/#02/data/handover_info_log.csv\n",
      "205/216 /home/wmnlab/jackbedford/data/2023-11-02/UDP_Bandlock_9S_Phone_Airport/sm08/#02/data/udp_dnlk_loss_latency.csv\n",
      "205/216 /home/wmnlab/jackbedford/data/2023-11-02/UDP_Bandlock_9S_Phone_Airport/sm08/#02/data/udp_uplk_loss_latency.csv\n"
     ]
    },
    {
     "data": {
      "application/vnd.jupyter.widget-view+json": {
       "model_id": "d027158d10e24cf78d6de5eaad004e2e",
       "version_major": 2,
       "version_minor": 0
      },
      "text/plain": [
       "  0%|                                                                                                         …"
      ]
     },
     "metadata": {},
     "output_type": "display_data"
    },
    {
     "name": "stdout",
     "output_type": "stream",
     "text": [
      "./20240312_150032342e_newest/20240314_060073cc2b/results/20240314_09375500000_f85b83d4e1645936_1.5corr/\\home\\wmnlab\\jackbedford\\data\\2023-11-02\\UDP_Bandlock_9S_Phone_Airport\\sm03\\#02\\data\\udp_dnlk_loss_latency\\home\\wmnlab\\jackbedford\\data\\2023-11-02\\UDP_Bandlock_9S_Phone_Airport\\sm08\\#02\\data\\udp_dnlk_loss_latency.csv\n",
      "206/216 /home/wmnlab/jackbedford/data/2023-11-02/UDP_Bandlock_9S_Phone_Airport/sm04/#02/data/handover_info_log.csv\n",
      "206/216 /home/wmnlab/jackbedford/data/2023-11-02/UDP_Bandlock_9S_Phone_Airport/sm04/#02/data/udp_dnlk_loss_latency.csv\n",
      "206/216 /home/wmnlab/jackbedford/data/2023-11-02/UDP_Bandlock_9S_Phone_Airport/sm04/#02/data/udp_uplk_loss_latency.csv\n",
      "206/216 /home/wmnlab/jackbedford/data/2023-11-02/UDP_Bandlock_9S_Phone_Airport/sm05/#02/data/handover_info_log.csv\n",
      "206/216 /home/wmnlab/jackbedford/data/2023-11-02/UDP_Bandlock_9S_Phone_Airport/sm05/#02/data/udp_dnlk_loss_latency.csv\n",
      "206/216 /home/wmnlab/jackbedford/data/2023-11-02/UDP_Bandlock_9S_Phone_Airport/sm05/#02/data/udp_uplk_loss_latency.csv\n"
     ]
    },
    {
     "data": {
      "application/vnd.jupyter.widget-view+json": {
       "model_id": "598c5d9a3c2c469cb7531c7f2d3a5064",
       "version_major": 2,
       "version_minor": 0
      },
      "text/plain": [
       "  0%|                                                                                                         …"
      ]
     },
     "metadata": {},
     "output_type": "display_data"
    },
    {
     "name": "stdout",
     "output_type": "stream",
     "text": [
      "./20240312_150032342e_newest/20240314_060073cc2b/results/20240314_09375500000_f85b83d4e1645936_1.5corr/\\home\\wmnlab\\jackbedford\\data\\2023-11-02\\UDP_Bandlock_9S_Phone_Airport\\sm04\\#02\\data\\udp_dnlk_loss_latency\\home\\wmnlab\\jackbedford\\data\\2023-11-02\\UDP_Bandlock_9S_Phone_Airport\\sm05\\#02\\data\\udp_dnlk_loss_latency.csv\n",
      "207/216 /home/wmnlab/jackbedford/data/2023-11-02/UDP_Bandlock_9S_Phone_Airport/sm04/#02/data/handover_info_log.csv\n",
      "207/216 /home/wmnlab/jackbedford/data/2023-11-02/UDP_Bandlock_9S_Phone_Airport/sm04/#02/data/udp_dnlk_loss_latency.csv\n",
      "207/216 /home/wmnlab/jackbedford/data/2023-11-02/UDP_Bandlock_9S_Phone_Airport/sm04/#02/data/udp_uplk_loss_latency.csv\n",
      "207/216 /home/wmnlab/jackbedford/data/2023-11-02/UDP_Bandlock_9S_Phone_Airport/sm06/#02/data/handover_info_log.csv\n",
      "207/216 /home/wmnlab/jackbedford/data/2023-11-02/UDP_Bandlock_9S_Phone_Airport/sm06/#02/data/udp_dnlk_loss_latency.csv\n",
      "207/216 /home/wmnlab/jackbedford/data/2023-11-02/UDP_Bandlock_9S_Phone_Airport/sm06/#02/data/udp_uplk_loss_latency.csv\n"
     ]
    },
    {
     "data": {
      "application/vnd.jupyter.widget-view+json": {
       "model_id": "0c340c60d72b4b2cbc5a58c9bb10a714",
       "version_major": 2,
       "version_minor": 0
      },
      "text/plain": [
       "  0%|                                                                                                         …"
      ]
     },
     "metadata": {},
     "output_type": "display_data"
    },
    {
     "name": "stdout",
     "output_type": "stream",
     "text": [
      "./20240312_150032342e_newest/20240314_060073cc2b/results/20240314_09375500000_f85b83d4e1645936_1.5corr/\\home\\wmnlab\\jackbedford\\data\\2023-11-02\\UDP_Bandlock_9S_Phone_Airport\\sm04\\#02\\data\\udp_dnlk_loss_latency\\home\\wmnlab\\jackbedford\\data\\2023-11-02\\UDP_Bandlock_9S_Phone_Airport\\sm06\\#02\\data\\udp_dnlk_loss_latency.csv\n",
      "208/216 /home/wmnlab/jackbedford/data/2023-11-02/UDP_Bandlock_9S_Phone_Airport/sm04/#02/data/handover_info_log.csv\n",
      "208/216 /home/wmnlab/jackbedford/data/2023-11-02/UDP_Bandlock_9S_Phone_Airport/sm04/#02/data/udp_dnlk_loss_latency.csv\n",
      "208/216 /home/wmnlab/jackbedford/data/2023-11-02/UDP_Bandlock_9S_Phone_Airport/sm04/#02/data/udp_uplk_loss_latency.csv\n",
      "208/216 /home/wmnlab/jackbedford/data/2023-11-02/UDP_Bandlock_9S_Phone_Airport/sm07/#02/data/handover_info_log.csv\n",
      "208/216 /home/wmnlab/jackbedford/data/2023-11-02/UDP_Bandlock_9S_Phone_Airport/sm07/#02/data/udp_dnlk_loss_latency.csv\n",
      "208/216 /home/wmnlab/jackbedford/data/2023-11-02/UDP_Bandlock_9S_Phone_Airport/sm07/#02/data/udp_uplk_loss_latency.csv\n"
     ]
    },
    {
     "data": {
      "application/vnd.jupyter.widget-view+json": {
       "model_id": "df5de6c42e2b4c31998d2fde44cc17d6",
       "version_major": 2,
       "version_minor": 0
      },
      "text/plain": [
       "  0%|                                                                                                         …"
      ]
     },
     "metadata": {},
     "output_type": "display_data"
    },
    {
     "name": "stdout",
     "output_type": "stream",
     "text": [
      "./20240312_150032342e_newest/20240314_060073cc2b/results/20240314_09375500000_f85b83d4e1645936_1.5corr/\\home\\wmnlab\\jackbedford\\data\\2023-11-02\\UDP_Bandlock_9S_Phone_Airport\\sm04\\#02\\data\\udp_dnlk_loss_latency\\home\\wmnlab\\jackbedford\\data\\2023-11-02\\UDP_Bandlock_9S_Phone_Airport\\sm07\\#02\\data\\udp_dnlk_loss_latency.csv\n",
      "209/216 /home/wmnlab/jackbedford/data/2023-11-02/UDP_Bandlock_9S_Phone_Airport/sm04/#02/data/handover_info_log.csv\n",
      "209/216 /home/wmnlab/jackbedford/data/2023-11-02/UDP_Bandlock_9S_Phone_Airport/sm04/#02/data/udp_dnlk_loss_latency.csv\n",
      "209/216 /home/wmnlab/jackbedford/data/2023-11-02/UDP_Bandlock_9S_Phone_Airport/sm04/#02/data/udp_uplk_loss_latency.csv\n",
      "209/216 /home/wmnlab/jackbedford/data/2023-11-02/UDP_Bandlock_9S_Phone_Airport/sm08/#02/data/handover_info_log.csv\n",
      "209/216 /home/wmnlab/jackbedford/data/2023-11-02/UDP_Bandlock_9S_Phone_Airport/sm08/#02/data/udp_dnlk_loss_latency.csv\n",
      "209/216 /home/wmnlab/jackbedford/data/2023-11-02/UDP_Bandlock_9S_Phone_Airport/sm08/#02/data/udp_uplk_loss_latency.csv\n"
     ]
    },
    {
     "data": {
      "application/vnd.jupyter.widget-view+json": {
       "model_id": "aad7c354525c4830852af426b1633249",
       "version_major": 2,
       "version_minor": 0
      },
      "text/plain": [
       "  0%|                                                                                                         …"
      ]
     },
     "metadata": {},
     "output_type": "display_data"
    },
    {
     "name": "stdout",
     "output_type": "stream",
     "text": [
      "./20240312_150032342e_newest/20240314_060073cc2b/results/20240314_09375500000_f85b83d4e1645936_1.5corr/\\home\\wmnlab\\jackbedford\\data\\2023-11-02\\UDP_Bandlock_9S_Phone_Airport\\sm04\\#02\\data\\udp_dnlk_loss_latency\\home\\wmnlab\\jackbedford\\data\\2023-11-02\\UDP_Bandlock_9S_Phone_Airport\\sm08\\#02\\data\\udp_dnlk_loss_latency.csv\n",
      "210/216 /home/wmnlab/jackbedford/data/2023-11-02/UDP_Bandlock_9S_Phone_Airport/sm05/#02/data/handover_info_log.csv\n",
      "210/216 /home/wmnlab/jackbedford/data/2023-11-02/UDP_Bandlock_9S_Phone_Airport/sm05/#02/data/udp_dnlk_loss_latency.csv\n",
      "210/216 /home/wmnlab/jackbedford/data/2023-11-02/UDP_Bandlock_9S_Phone_Airport/sm05/#02/data/udp_uplk_loss_latency.csv\n",
      "210/216 /home/wmnlab/jackbedford/data/2023-11-02/UDP_Bandlock_9S_Phone_Airport/sm06/#02/data/handover_info_log.csv\n",
      "210/216 /home/wmnlab/jackbedford/data/2023-11-02/UDP_Bandlock_9S_Phone_Airport/sm06/#02/data/udp_dnlk_loss_latency.csv\n",
      "210/216 /home/wmnlab/jackbedford/data/2023-11-02/UDP_Bandlock_9S_Phone_Airport/sm06/#02/data/udp_uplk_loss_latency.csv\n"
     ]
    },
    {
     "data": {
      "application/vnd.jupyter.widget-view+json": {
       "model_id": "5a541b191a99454b88b8f53132f83e8d",
       "version_major": 2,
       "version_minor": 0
      },
      "text/plain": [
       "  0%|                                                                                                         …"
      ]
     },
     "metadata": {},
     "output_type": "display_data"
    },
    {
     "name": "stdout",
     "output_type": "stream",
     "text": [
      "./20240312_150032342e_newest/20240314_060073cc2b/results/20240314_09375500000_f85b83d4e1645936_1.5corr/\\home\\wmnlab\\jackbedford\\data\\2023-11-02\\UDP_Bandlock_9S_Phone_Airport\\sm05\\#02\\data\\udp_dnlk_loss_latency\\home\\wmnlab\\jackbedford\\data\\2023-11-02\\UDP_Bandlock_9S_Phone_Airport\\sm06\\#02\\data\\udp_dnlk_loss_latency.csv\n",
      "211/216 /home/wmnlab/jackbedford/data/2023-11-02/UDP_Bandlock_9S_Phone_Airport/sm05/#02/data/handover_info_log.csv\n",
      "211/216 /home/wmnlab/jackbedford/data/2023-11-02/UDP_Bandlock_9S_Phone_Airport/sm05/#02/data/udp_dnlk_loss_latency.csv\n",
      "211/216 /home/wmnlab/jackbedford/data/2023-11-02/UDP_Bandlock_9S_Phone_Airport/sm05/#02/data/udp_uplk_loss_latency.csv\n",
      "211/216 /home/wmnlab/jackbedford/data/2023-11-02/UDP_Bandlock_9S_Phone_Airport/sm07/#02/data/handover_info_log.csv\n",
      "211/216 /home/wmnlab/jackbedford/data/2023-11-02/UDP_Bandlock_9S_Phone_Airport/sm07/#02/data/udp_dnlk_loss_latency.csv\n",
      "211/216 /home/wmnlab/jackbedford/data/2023-11-02/UDP_Bandlock_9S_Phone_Airport/sm07/#02/data/udp_uplk_loss_latency.csv\n"
     ]
    },
    {
     "data": {
      "application/vnd.jupyter.widget-view+json": {
       "model_id": "1401d85acb834e098119d94bc57a865e",
       "version_major": 2,
       "version_minor": 0
      },
      "text/plain": [
       "  0%|                                                                                                         …"
      ]
     },
     "metadata": {},
     "output_type": "display_data"
    },
    {
     "name": "stdout",
     "output_type": "stream",
     "text": [
      "./20240312_150032342e_newest/20240314_060073cc2b/results/20240314_09375500000_f85b83d4e1645936_1.5corr/\\home\\wmnlab\\jackbedford\\data\\2023-11-02\\UDP_Bandlock_9S_Phone_Airport\\sm05\\#02\\data\\udp_dnlk_loss_latency\\home\\wmnlab\\jackbedford\\data\\2023-11-02\\UDP_Bandlock_9S_Phone_Airport\\sm07\\#02\\data\\udp_dnlk_loss_latency.csv\n",
      "212/216 /home/wmnlab/jackbedford/data/2023-11-02/UDP_Bandlock_9S_Phone_Airport/sm05/#02/data/handover_info_log.csv\n",
      "212/216 /home/wmnlab/jackbedford/data/2023-11-02/UDP_Bandlock_9S_Phone_Airport/sm05/#02/data/udp_dnlk_loss_latency.csv\n",
      "212/216 /home/wmnlab/jackbedford/data/2023-11-02/UDP_Bandlock_9S_Phone_Airport/sm05/#02/data/udp_uplk_loss_latency.csv\n",
      "212/216 /home/wmnlab/jackbedford/data/2023-11-02/UDP_Bandlock_9S_Phone_Airport/sm08/#02/data/handover_info_log.csv\n",
      "212/216 /home/wmnlab/jackbedford/data/2023-11-02/UDP_Bandlock_9S_Phone_Airport/sm08/#02/data/udp_dnlk_loss_latency.csv\n",
      "212/216 /home/wmnlab/jackbedford/data/2023-11-02/UDP_Bandlock_9S_Phone_Airport/sm08/#02/data/udp_uplk_loss_latency.csv\n"
     ]
    },
    {
     "data": {
      "application/vnd.jupyter.widget-view+json": {
       "model_id": "ea033544579a445fb026b575dc81ea70",
       "version_major": 2,
       "version_minor": 0
      },
      "text/plain": [
       "  0%|                                                                                                         …"
      ]
     },
     "metadata": {},
     "output_type": "display_data"
    },
    {
     "name": "stdout",
     "output_type": "stream",
     "text": [
      "./20240312_150032342e_newest/20240314_060073cc2b/results/20240314_09375500000_f85b83d4e1645936_1.5corr/\\home\\wmnlab\\jackbedford\\data\\2023-11-02\\UDP_Bandlock_9S_Phone_Airport\\sm05\\#02\\data\\udp_dnlk_loss_latency\\home\\wmnlab\\jackbedford\\data\\2023-11-02\\UDP_Bandlock_9S_Phone_Airport\\sm08\\#02\\data\\udp_dnlk_loss_latency.csv\n",
      "213/216 /home/wmnlab/jackbedford/data/2023-11-02/UDP_Bandlock_9S_Phone_Airport/sm06/#02/data/handover_info_log.csv\n",
      "213/216 /home/wmnlab/jackbedford/data/2023-11-02/UDP_Bandlock_9S_Phone_Airport/sm06/#02/data/udp_dnlk_loss_latency.csv\n",
      "213/216 /home/wmnlab/jackbedford/data/2023-11-02/UDP_Bandlock_9S_Phone_Airport/sm06/#02/data/udp_uplk_loss_latency.csv\n",
      "213/216 /home/wmnlab/jackbedford/data/2023-11-02/UDP_Bandlock_9S_Phone_Airport/sm07/#02/data/handover_info_log.csv\n",
      "213/216 /home/wmnlab/jackbedford/data/2023-11-02/UDP_Bandlock_9S_Phone_Airport/sm07/#02/data/udp_dnlk_loss_latency.csv\n",
      "213/216 /home/wmnlab/jackbedford/data/2023-11-02/UDP_Bandlock_9S_Phone_Airport/sm07/#02/data/udp_uplk_loss_latency.csv\n"
     ]
    },
    {
     "data": {
      "application/vnd.jupyter.widget-view+json": {
       "model_id": "e9e5be12d2ff4f9b9ff1d39a4afe25d8",
       "version_major": 2,
       "version_minor": 0
      },
      "text/plain": [
       "  0%|                                                                                                         …"
      ]
     },
     "metadata": {},
     "output_type": "display_data"
    },
    {
     "name": "stdout",
     "output_type": "stream",
     "text": [
      "./20240312_150032342e_newest/20240314_060073cc2b/results/20240314_09375500000_f85b83d4e1645936_1.5corr/\\home\\wmnlab\\jackbedford\\data\\2023-11-02\\UDP_Bandlock_9S_Phone_Airport\\sm06\\#02\\data\\udp_dnlk_loss_latency\\home\\wmnlab\\jackbedford\\data\\2023-11-02\\UDP_Bandlock_9S_Phone_Airport\\sm07\\#02\\data\\udp_dnlk_loss_latency.csv\n",
      "214/216 /home/wmnlab/jackbedford/data/2023-11-02/UDP_Bandlock_9S_Phone_Airport/sm06/#02/data/handover_info_log.csv\n",
      "214/216 /home/wmnlab/jackbedford/data/2023-11-02/UDP_Bandlock_9S_Phone_Airport/sm06/#02/data/udp_dnlk_loss_latency.csv\n",
      "214/216 /home/wmnlab/jackbedford/data/2023-11-02/UDP_Bandlock_9S_Phone_Airport/sm06/#02/data/udp_uplk_loss_latency.csv\n",
      "214/216 /home/wmnlab/jackbedford/data/2023-11-02/UDP_Bandlock_9S_Phone_Airport/sm08/#02/data/handover_info_log.csv\n",
      "214/216 /home/wmnlab/jackbedford/data/2023-11-02/UDP_Bandlock_9S_Phone_Airport/sm08/#02/data/udp_dnlk_loss_latency.csv\n",
      "214/216 /home/wmnlab/jackbedford/data/2023-11-02/UDP_Bandlock_9S_Phone_Airport/sm08/#02/data/udp_uplk_loss_latency.csv\n"
     ]
    },
    {
     "data": {
      "application/vnd.jupyter.widget-view+json": {
       "model_id": "27b545600cb241299287116e4cba4413",
       "version_major": 2,
       "version_minor": 0
      },
      "text/plain": [
       "  0%|                                                                                                         …"
      ]
     },
     "metadata": {},
     "output_type": "display_data"
    },
    {
     "name": "stdout",
     "output_type": "stream",
     "text": [
      "./20240312_150032342e_newest/20240314_060073cc2b/results/20240314_09375500000_f85b83d4e1645936_1.5corr/\\home\\wmnlab\\jackbedford\\data\\2023-11-02\\UDP_Bandlock_9S_Phone_Airport\\sm06\\#02\\data\\udp_dnlk_loss_latency\\home\\wmnlab\\jackbedford\\data\\2023-11-02\\UDP_Bandlock_9S_Phone_Airport\\sm08\\#02\\data\\udp_dnlk_loss_latency.csv\n",
      "215/216 /home/wmnlab/jackbedford/data/2023-11-02/UDP_Bandlock_9S_Phone_Airport/sm07/#02/data/handover_info_log.csv\n",
      "215/216 /home/wmnlab/jackbedford/data/2023-11-02/UDP_Bandlock_9S_Phone_Airport/sm07/#02/data/udp_dnlk_loss_latency.csv\n",
      "215/216 /home/wmnlab/jackbedford/data/2023-11-02/UDP_Bandlock_9S_Phone_Airport/sm07/#02/data/udp_uplk_loss_latency.csv\n",
      "215/216 /home/wmnlab/jackbedford/data/2023-11-02/UDP_Bandlock_9S_Phone_Airport/sm08/#02/data/handover_info_log.csv\n",
      "215/216 /home/wmnlab/jackbedford/data/2023-11-02/UDP_Bandlock_9S_Phone_Airport/sm08/#02/data/udp_dnlk_loss_latency.csv\n",
      "215/216 /home/wmnlab/jackbedford/data/2023-11-02/UDP_Bandlock_9S_Phone_Airport/sm08/#02/data/udp_uplk_loss_latency.csv\n"
     ]
    },
    {
     "data": {
      "application/vnd.jupyter.widget-view+json": {
       "model_id": "ca8289ac87d6462a857fd1746a9cd8f3",
       "version_major": 2,
       "version_minor": 0
      },
      "text/plain": [
       "  0%|                                                                                                         …"
      ]
     },
     "metadata": {},
     "output_type": "display_data"
    },
    {
     "name": "stdout",
     "output_type": "stream",
     "text": [
      "./20240312_150032342e_newest/20240314_060073cc2b/results/20240314_09375500000_f85b83d4e1645936_1.5corr/\\home\\wmnlab\\jackbedford\\data\\2023-11-02\\UDP_Bandlock_9S_Phone_Airport\\sm07\\#02\\data\\udp_dnlk_loss_latency\\home\\wmnlab\\jackbedford\\data\\2023-11-02\\UDP_Bandlock_9S_Phone_Airport\\sm08\\#02\\data\\udp_dnlk_loss_latency.csv\n",
      "./20240312_150032342e_newest/20240314_060073cc2b/figures/20240314_A_1.5corr_09375500000_f85b83d4e1645936.png\n"
     ]
    },
    {
     "data": {
      "image/png": "[encoded data removed]",
      "text/plain": [
       "<Figure size 600x400 with 1 Axes>"
      ]
     },
     "metadata": {
      "image/png": {
       "height": 374,
       "width": 556
      }
     },
     "output_type": "display_data"
    }
   ],
   "source": [
    "eval = DEval(filepaths, model_name='A', model_suffix=suffix, sr_model_id=sr_model_id, dr_model_id=dr_model_id)\n",
    "eval.run_hist_method(N=1)\n",
    "eval.plot('A')"
   ]
  },
  {
   "cell_type": "code",
   "execution_count": null,
   "metadata": {},
   "outputs": [],
   "source": []
  }
 ],
 "metadata": {
  "kernelspec": {
   "display_name": "moxa",
   "language": "python",
   "name": "python3"
  },
  "language_info": {
   "codemirror_mode": {
    "name": "ipython",
    "version": 3
   },
   "file_extension": ".py",
   "mimetype": "text/x-python",
   "name": "python",
   "nbconvert_exporter": "python",
   "pygments_lexer": "ipython3",
   "version": "3.8.18"
  },
  "vscode": {
   "interpreter": {
    "hash": "ac7929854b6d4d7e2ce5893f875cc9f600cfede08169dbb82e36bcbc7af2498e"
   }
  }
 },
 "nbformat": 4,
 "nbformat_minor": 2
}
