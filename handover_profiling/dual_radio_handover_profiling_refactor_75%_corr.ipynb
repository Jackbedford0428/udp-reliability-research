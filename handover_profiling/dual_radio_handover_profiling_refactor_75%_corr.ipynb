{
 "cells": [
  {
   "cell_type": "markdown",
   "metadata": {},
   "source": [
    "# Import Modules & Util Functions"
   ]
  },
  {
   "cell_type": "code",
   "execution_count": 1,
   "metadata": {},
   "outputs": [
    {
     "name": "stdout",
     "output_type": "stream",
     "text": [
      "/home/wmnlab/F/results\n"
     ]
    }
   ],
   "source": [
    "import os\n",
    "import sys\n",
    "import glob\n",
    "import re\n",
    "import ast\n",
    "import warnings\n",
    "import time\n",
    "\n",
    "import csv\n",
    "import json\n",
    "import pickle\n",
    "\n",
    "import math\n",
    "import random\n",
    "import numpy as np\n",
    "import scipy as sp\n",
    "import datetime as dt\n",
    "import pandas as pd\n",
    "import swifter\n",
    "from scipy.stats import gaussian_kde\n",
    "from scipy.integrate import quad\n",
    "from scipy.optimize import minimize\n",
    "from sklearn.metrics import mean_squared_error\n",
    "\n",
    "import portion as P\n",
    "import itertools as it\n",
    "import copy\n",
    "from tqdm.notebook import tqdm\n",
    "from collections import namedtuple\n",
    "from pprint import pprint\n",
    "from pytictoc import TicToc\n",
    "\n",
    "import matplotlib\n",
    "import matplotlib.pyplot as plt\n",
    "import seaborn as sns\n",
    "\n",
    "from myutils import *\n",
    "\n",
    "# Configure display options\n",
    "pd.set_option('display.max_rows', 200)\n",
    "pd.set_option('display.max_columns', 100)\n",
    "%config InlineBackend.figure_format = 'retina'\n",
    "\n",
    "# Set plot style\n",
    "# plt.style.use('ggplot')\n",
    "\n",
    "with open(os.path.join(os.getcwd(), \"result_save_path.txt\"), \"r\") as f:\n",
    "    PATH_TO_RESULTS = f.readline()\n",
    "    \n",
    "print(PATH_TO_RESULTS)"
   ]
  },
  {
   "cell_type": "markdown",
   "metadata": {},
   "source": [
    "# Manipulate Correlation Coefficient"
   ]
  },
  {
   "cell_type": "code",
   "execution_count": 2,
   "metadata": {},
   "outputs": [],
   "source": [
    "def manipulate_corr_coef(sr_model_id, dr_model_id, route='BR', mode='zero', rho_force=None):\n",
    "\n",
    "    def rho_restriction(p, q):\n",
    "        sigma = max(math.sqrt(p * q * (1 - p) * (1 - q)), 1e-9)  # sigma_x * sigma_y\n",
    "        R1 = P.closed(-1, 1)  # -1 <= rho <= 1\n",
    "        R2 = P.closed(-(p * q) / sigma, (1 - p * q) / sigma)  # 0 <= P(X=1, Y=1) <= 1\n",
    "        R3 = P.closed((p * (1 - q) - 1) / sigma, p * (1 - q) / sigma)  # 0 <= P(X=1, Y=0) <= 1\n",
    "        R4 = P.closed((q * (1 - p) - 1) / sigma, q * (1 - p) / sigma)  # 0 <= P(X=0, Y=1) <= 1\n",
    "        R5 = P.closed(-((1 - p) * (1 - q)) / sigma, (1 - (1 - p) * (1 - q)) / sigma)  # 0 <= P(X=0, Y=0) <= 1\n",
    "        R = R1 & R2 & R3 & R4 & R5\n",
    "        return R\n",
    "\n",
    "    def calculate_joint_probabilities(p, q, rho):\n",
    "        \"\"\"\n",
    "        p := P(X = 1); P(X = 0) = 1 - p\n",
    "        q := P(Y = 1); P(Y = 0) = 1 - q\n",
    "        rho: correlation coefficient\n",
    "        a := P(X = 1, Y = 1)\n",
    "        b := P(X = 1, Y = 0)\n",
    "        c := P(X = 0, Y = 1)\n",
    "        d := P(X = 0, Y = 0)\n",
    "        \"\"\"\n",
    "        sigma = max(math.sqrt(p * q * (1 - p) * (1 - q)), 1e-9)  # sigma_x * sigma_y\n",
    "        a = p * q + rho * sigma\n",
    "        b = p * (1 - q) - rho * sigma\n",
    "        c = q * (1 - p) - rho * sigma\n",
    "        d = (1 - p) * (1 - q) + rho * sigma\n",
    "        return a, b, c, d\n",
    "\n",
    "    def calculate_conditional_probabilities(p, q, rho):\n",
    "        \"\"\"\n",
    "        p := P(X = 1); P(X = 0) = 1 - p\n",
    "        q := P(Y = 1); P(Y = 0) = 1 - q\n",
    "        rho: correlation coefficient\n",
    "        alpha := P(Y = 1 | X = 1)\n",
    "        beta  := P(Y = 1 | X = 0)\n",
    "        gamma := P(X = 1 | Y = 1)\n",
    "        delta := P(X = 1 | Y = 0)\n",
    "        \"\"\"\n",
    "        sigma = max(math.sqrt(p * q * (1 - p) * (1 - q)), 1e-9)  # sigma_x * sigma_y\n",
    "        p = min(max(1e-9, p), 1 - 1e-9)\n",
    "        q = min(max(1e-9, q), 1 - 1e-9)\n",
    "        alpha = (p * q + rho * sigma) / p\n",
    "        beta = (q * (1 - p) - rho * sigma) / (1 - p)\n",
    "        gamma = (p * q + rho * sigma) / q\n",
    "        delta = (p * (1 - q) - rho * sigma) / (1 - q)\n",
    "        return alpha, beta, gamma, delta\n",
    "\n",
    "    def generate_combos(items):\n",
    "        combinations_result = list(it.combinations(items, 2))\n",
    "        self_combinations = [(x, x) for x in items]\n",
    "        def custom_sort(item):\n",
    "            return items.index(item[0]), items.index(item[1])\n",
    "        combos = sorted(self_combinations + combinations_result, key=custom_sort)\n",
    "        return combos\n",
    "\n",
    "    def adjust_rho(rho, rho_limit):\n",
    "        if rho > rho_limit.upper:\n",
    "            return rho_limit.upper\n",
    "        elif rho < rho_limit.lower:\n",
    "            return rho_limit.lower\n",
    "        else:\n",
    "            return rho\n",
    "    \n",
    "    load_path = os.path.join('.', sr_model_id, dr_model_id, 'models')\n",
    "    # print(load_path)\n",
    "    \n",
    "    with open(os.path.join(load_path, f'{route}_dr_prob_models.pkl'), 'rb') as f:\n",
    "        dr_prob_models = pickle.load(f)\n",
    "    dr_prob_models_table = pd.read_csv(os.path.join(load_path, f'{route}_dr_prob_models_table.csv'), index_col=[0, 1])\n",
    "    \n",
    "    # print(dr_prob_models)\n",
    "    # display(dr_prob_models_table)\n",
    "    \n",
    "    adjust_table = pd.DataFrame(columns=\"type1, type2, p, q, rho_lower, rho_upper, rho, alpha, beta, gamma, delta, a, b, c, d, sum\".split(\", \"))\n",
    "    items = ['LTEH', 'ENBH', 'MCGH', 'MNBH', 'SCGM', 'SCGA', 'SCGR-I', 'SCGR-II', 'SCGC-I', 'SCGC-II', 'SCGF', 'MCGF', 'NASR', 'Stable']\n",
    "    combos = generate_combos(items)\n",
    "\n",
    "    for pair in combos:\n",
    "        row = dr_prob_models_table.loc[pair]\n",
    "        p, q = row['p'], row['q']\n",
    "        # rho = row['rho']\n",
    "        rho_limit = rho_restriction(p, q)\n",
    "        \n",
    "        if rho_force is None:\n",
    "            if mode == 'zero':\n",
    "                rho_adjust = 0\n",
    "            elif mode == 'max':\n",
    "                rho_adjust = rho_limit.upper\n",
    "            else:\n",
    "                percentage = int(mode[:-1])\n",
    "                rho_adjust = percentage * rho_limit.upper / 100\n",
    "        else:\n",
    "            rho_adjust = rho_force\n",
    "        \n",
    "        alpha, beta, gamma, delta = calculate_conditional_probabilities(p, q, rho_adjust)\n",
    "        a, b, c, d = calculate_joint_probabilities(p, q, rho_adjust)\n",
    "        adjust_table.loc[len(adjust_table)] = [pair[0], pair[1], p, q, rho_limit.lower, rho_limit.upper, rho_adjust, alpha, beta, gamma, delta, a, b, c, d, sum([a, b, c, d])]\n",
    "    \n",
    "    adjust_table = adjust_table.set_index(['type1', 'type2'])\n",
    "    \n",
    "    model_adjust = copy.deepcopy(dr_prob_models)\n",
    "    for pair in combos:\n",
    "        row = adjust_table.loc[pair]\n",
    "        p, q, alpha, beta, gamma, delta = row['p'], row['q'], row['alpha'], row['beta'], row['gamma'], row['delta']\n",
    "        model_adjust['dl_lost'][pair] = (alpha, beta)\n",
    "        model_adjust['dl_lost'][(pair[1], pair[0])] = (gamma, delta)\n",
    "    \n",
    "    with open(os.path.join(load_path, f'{route}_dr_prob_models_{mode}_corr.pkl'), 'wb') as f:\n",
    "        pickle.dump(model_adjust, f)\n",
    "    adjust_table.to_csv(os.path.join(load_path, f'{route}_dr_prob_models_{mode}_corr_table.csv'))\n",
    "    \n",
    "    return adjust_table, model_adjust"
   ]
  },
  {
   "cell_type": "markdown",
   "metadata": {},
   "source": [
    "# Dual Radio Evaluation"
   ]
  },
  {
   "cell_type": "code",
   "execution_count": 3,
   "metadata": {},
   "outputs": [],
   "source": [
    "class DrEval:\n",
    "    def __init__(self, filepaths, model_name='Test', model_suffix=None, sr_model_id=None, dr_model_id=None, load_path='.', save_path='.',\n",
    "                 sp_columns=['type'], ts_column='Timestamp',\n",
    "                 metrics=['dl_lost']):\n",
    "        # Initialize instance variables\n",
    "        self.filepaths = copy.deepcopy(filepaths)\n",
    "        \n",
    "        if sr_model_id is None:\n",
    "            raise TypeError(\"請輸入SR模型編號\")\n",
    "        else:\n",
    "            self.sr_model_id = sr_model_id\n",
    "        \n",
    "        if dr_model_id is None:\n",
    "            raise TypeError(\"請輸入DR模型編號\")\n",
    "        else:\n",
    "            self.dr_model_id = dr_model_id\n",
    "        \n",
    "        self.model_name = model_name\n",
    "        self.save_path = save_path\n",
    "        \n",
    "        self.load_path = os.path.join(load_path, self.sr_model_id, 'models', self.model_name)\n",
    "        print(self.load_path)\n",
    "        with open(f'{self.load_path}_kde_models.pkl', 'rb') as f:\n",
    "            self.kde_models = pickle.load(f)\n",
    "        with open(f'{self.load_path}_hist_models.pkl', 'rb') as f:\n",
    "            self.hist_models = pickle.load(f)\n",
    "        with open(f'{self.load_path}_scope_models.pkl', 'rb') as f:\n",
    "            self.scope_models = pickle.load(f)\n",
    "        with open(f'{self.load_path}_plr_models.pkl', 'rb') as f:\n",
    "            self.plr_models = pickle.load(f)\n",
    "        with open(f'{self.load_path}_sr_prob_models.pkl', 'rb') as f:\n",
    "            self.sr_prob_models = pickle.load(f)\n",
    "            \n",
    "        self.load_path = os.path.join(load_path, self.sr_model_id, self.dr_model_id, 'models', self.model_name)\n",
    "        print(self.load_path)\n",
    "        if model_suffix is None:\n",
    "            print(f'{self.load_path}_dr_prob_models.pkl')\n",
    "            with open(f'{self.load_path}_dr_prob_models.pkl', 'rb') as f:\n",
    "                self.dr_prob_models = pickle.load(f)\n",
    "        else:\n",
    "            print(f'{self.load_path}_dr_prob_models_{model_suffix}.pkl')\n",
    "            with open(f'{self.load_path}_dr_prob_models_{model_suffix}.pkl', 'rb') as f:\n",
    "                self.dr_prob_models = pickle.load(f)\n",
    "        self.model_suffix = model_suffix\n",
    "        \n",
    "        self.sp_columns = sp_columns[:]\n",
    "        self.ts_column = ts_column\n",
    "        self.metrics = metrics[:]\n",
    "        \n",
    "        _, _, _, self.figure_id = figure_identity()\n",
    "        \n",
    "        # Sample data\n",
    "        self.LOSS_GT = []\n",
    "        self.LOSS_EV = []\n",
    "        self.LOSS_STD = []\n",
    "        self.DEVICES = []\n",
    "        self.TRACES = []\n",
    "        \n",
    "        # all records\n",
    "        self.records = []\n",
    "\n",
    "    @staticmethod\n",
    "    def generate_random_boolean(probability_true):\n",
    "        return random.random() < probability_true\n",
    "    \n",
    "    @staticmethod\n",
    "    def interpolate(x, y, ratio=0.5):\n",
    "        \"\"\"\n",
    "        Args:\n",
    "            x, y (datetime.datetime): x < y\n",
    "            ratio (float): a decimal numeral in a range [0, 1]; 0 means break at x, 1 means break at y.\n",
    "        Returns:\n",
    "            (datetime.datetime): breakpoint of interpolation\n",
    "        \"\"\"\n",
    "        return x + (y - x) * ratio\n",
    "    \n",
    "    def hist_method(self, df, ho_df, mode_mets, mets, RATE_TYPE):\n",
    "        scope = self.scope_models[mode_mets]\n",
    "        hist_model = self.hist_models[mode_mets]\n",
    "        prob_model = self.sr_prob_models[mode_mets]\n",
    "        plr_model = self.plr_models[mode_mets]\n",
    "        \n",
    "        this_df = df.copy()\n",
    "        for i, row in ho_df.iterrows():\n",
    "            prior_row = ho_df.iloc[i-1] if i != 0 else None\n",
    "            post_row = ho_df.iloc[i+1] if i != len(ho_df) - 1 else None\n",
    "\n",
    "            # Peek the next event to avoid HO overlapping with handoverFailure (skip!!)\n",
    "            if i != len(ho_df) - 1 and pd.notna(row.end) and row.end > post_row.start:\n",
    "                # print('Overlapping event occurs!!')\n",
    "                # print(i, row['start'], row['end'], row['type'], row['cause'])\n",
    "                # print(i+1, post_row['start'], post_row['end'], post_row['type'], post_row['cause'])\n",
    "                continue\n",
    "            \n",
    "            # Set prior event if the prior loop is skipped\n",
    "            if i != 0 and pd.notna(prior_row.end) and prior_row.end > row.start:\n",
    "                prior_row = ho_df.iloc[i-2] if i > 1 else None\n",
    "            \n",
    "            # Basic information of the current row\n",
    "            tag = '_'.join([s for s in row[self.sp_columns] if pd.notna(s)])  # specific column name\n",
    "            start_ts, end_ts = row['start'], row['end']  # handover start/end time\n",
    "            interruption_time = (end_ts - start_ts).total_seconds() if pd.notna(end_ts) else 0  # handover interruption time\n",
    "            \n",
    "            # Set simple left/right bounds\n",
    "            current_left_bound = start_ts + pd.Timedelta(seconds=(scope[tag][0]))\n",
    "            current_right_bound = start_ts + pd.Timedelta(seconds=(scope[tag][1]))\n",
    "            \n",
    "            # Set left/right bounds to avoid event overlapping with each other\n",
    "            if prior_row is not None:\n",
    "                prior_tag = '_'.join([s for s in prior_row[self.sp_columns] if pd.notna(s)])\n",
    "                prior_right_bound = prior_row['start'] + pd.Timedelta(seconds=(scope[prior_tag][1]))\n",
    "                if pd.notna(prior_row['end']):\n",
    "                    left_bound = min(max(current_left_bound, DrEval.interpolate(prior_right_bound, current_left_bound), prior_row['end']), start_ts)\n",
    "                else:\n",
    "                    left_bound = min(max(current_left_bound, DrEval.interpolate(prior_right_bound, current_left_bound), prior_row['start']), start_ts)\n",
    "            else:\n",
    "                left_bound = current_left_bound\n",
    "            \n",
    "            if post_row is not None:\n",
    "                post_tag = '_'.join([s for s in post_row[self.sp_columns] if pd.notna(s)])\n",
    "                post_left_bound = post_row['start'] + pd.Timedelta(seconds=(scope[post_tag][0]))\n",
    "                if pd.notna(end_ts):\n",
    "                    right_bound = max(min(current_right_bound, DrEval.interpolate(current_right_bound, post_left_bound), post_row['start']), end_ts)\n",
    "                else:\n",
    "                    right_bound = max(min(current_right_bound, DrEval.interpolate(current_right_bound, post_left_bound), post_row['start']), start_ts)\n",
    "            else:\n",
    "                right_bound = current_right_bound\n",
    "            \n",
    "            interval = P.closed(left_bound, right_bound)\n",
    "            \n",
    "            # Concatenate PLR from mapping list\n",
    "            current_df = this_df[this_df['Timestamp'] < interval.upper].copy()\n",
    "            plr_mapping = hist_model[tag].copy()\n",
    "            \n",
    "            current_df[f'relative_time'] = (current_df['Timestamp'] - start_ts).dt.total_seconds()\n",
    "            current_df[f'window_id'] = ((current_df[f'relative_time'] + 0.005) // 0.01) * 0.01\n",
    "            \n",
    "            trigger_probability = prob_model[tag]\n",
    "            \n",
    "            if plr_mapping.empty:\n",
    "                tmp = current_df.copy().rename(columns={mets: f'{mets}_x'})\n",
    "            else:\n",
    "                tmp = pd.merge(current_df, plr_mapping, on='window_id', how='left')\n",
    "                tmp[RATE_TYPE] = tmp[RATE_TYPE].fillna(0)\n",
    "                \n",
    "                if not DrEval.generate_random_boolean(trigger_probability):\n",
    "                    tmp[RATE_TYPE] = 0\n",
    "            \n",
    "            tmp['type'] = tag\n",
    "            \n",
    "            if i == 0:\n",
    "                answer = tmp.copy()\n",
    "            else:\n",
    "                answer = pd.concat([answer, tmp], axis=0)\n",
    "            \n",
    "            # Update dataframe to accelerate the speed\n",
    "            this_df = this_df[this_df[self.ts_column] >= interval.upper].copy()\n",
    "        \n",
    "        answer = pd.concat([answer, this_df], axis=0)\n",
    "        \n",
    "        # Consider stable duration\n",
    "        stable_df = answer[answer['tx_count'].isnull()].copy()[['seq', 'lost_x', 'excl', 'Timestamp']].rename(columns={'lost_x': 'lost'})\n",
    "\n",
    "        stable_df['Timestamp_sec'] = stable_df['Timestamp'].dt.floor('S')\n",
    "        stable_df['relative_time'] = (stable_df['Timestamp'] - stable_df['Timestamp_sec']).dt.total_seconds() - 0.5\n",
    "        stable_df['window_id'] = ((stable_df['relative_time'] + 0.01 / 2) // 0.01) * 0.01\n",
    "\n",
    "        plr_mapping = hist_model['Stable'].copy()        \n",
    "        stable_df = pd.merge(stable_df, plr_mapping, on='window_id', how='left').rename(columns={'PLR': 'PLR_if_trigger'})\n",
    "        trigger_prob_mapping = stable_df[~stable_df['Timestamp_sec'].duplicated()].reset_index(drop=True)[['Timestamp_sec']]\n",
    "        \n",
    "        trigger_probability = prob_model['Stable']\n",
    "        random_bool_array = [DrEval.generate_random_boolean(trigger_probability) for _ in range(len(trigger_prob_mapping))]\n",
    "        trigger_prob_mapping['trigger'] = random_bool_array\n",
    "\n",
    "        stable_df = pd.merge(stable_df, trigger_prob_mapping, on='Timestamp_sec', how='left')\n",
    "        stable_df['PLR'] = stable_df['PLR_if_trigger'] * stable_df['trigger']\n",
    "        \n",
    "        stable_df['type'] = 'Stable'\n",
    "\n",
    "        del stable_df['Timestamp_sec'], stable_df['PLR_if_trigger'], stable_df['trigger']\n",
    "        \n",
    "        answer = answer[answer['tx_count'].notnull()].copy()\n",
    "        \n",
    "        answer = pd.concat([answer, stable_df], axis=0)\n",
    "        answer = answer.sort_values(by='Timestamp').reset_index(drop=True)\n",
    "        answer['PLR'] = answer['PLR'] / 100\n",
    "        answer['Y'] = answer['PLR'].apply(DrEval.generate_random_boolean)\n",
    "        \n",
    "        eval_value = answer['Y'].mean() * 100\n",
    "        ground_value = df['lost'].mean() * 100\n",
    "        \n",
    "        answer = pd.concat([answer[['seq', 'Timestamp', 'type', 'relative_time', 'window_id']],\n",
    "                            df[['lost']],\n",
    "                            answer[[RATE_TYPE, 'Y']]], axis=1)\n",
    "        \n",
    "        return answer, eval_value, ground_value\n",
    "    \n",
    "    \n",
    "    def setup_profile(self, df, ho_df, df2, scope):\n",
    "        \n",
    "        this_df = df2.copy()\n",
    "        this_df = this_df[this_df['Y']].copy().reset_index(drop=True)\n",
    "        \n",
    "        df['anchor_type'] = 'Stable'\n",
    "        df['anchor_state'] = 0\n",
    "        for i, row in ho_df.iterrows():\n",
    "            prior_row = ho_df.iloc[i-1] if i != 0 else None\n",
    "            post_row = ho_df.iloc[i+1] if i != len(ho_df) - 1 else None\n",
    "\n",
    "            # Peek the next event to avoid HO overlapping with handoverFailure (skip!!)\n",
    "            if i != len(ho_df) - 1 and pd.notna(row.end) and row.end > post_row.start:\n",
    "                # print('Overlapping event occurs!!')\n",
    "                # print(i, row['start'], row['end'], row['type'], row['cause'])\n",
    "                # print(i+1, post_row['start'], post_row['end'], post_row['type'], post_row['cause'])\n",
    "                continue\n",
    "            \n",
    "            # Set prior event if the prior loop is skipped\n",
    "            if i != 0 and pd.notna(prior_row.end) and prior_row.end > row.start:\n",
    "                prior_row = ho_df.iloc[i-2] if i > 1 else None\n",
    "            \n",
    "            # Basic information of the current row\n",
    "            tag = '_'.join([s for s in row[self.sp_columns] if pd.notna(s)])  # specific column name\n",
    "            start_ts, end_ts = row['start'], row['end']  # handover start/end time\n",
    "            interruption_time = (end_ts - start_ts).total_seconds() if pd.notna(end_ts) else 0  # handover interruption time\n",
    "            \n",
    "            # Set simple left/right bounds\n",
    "            current_left_bound = start_ts + pd.Timedelta(seconds=(scope[tag][0]))\n",
    "            current_right_bound = start_ts + pd.Timedelta(seconds=(scope[tag][1]))\n",
    "            \n",
    "            # Set left/right bounds to avoid event overlapping with each other\n",
    "            if prior_row is not None:\n",
    "                prior_tag = '_'.join([s for s in prior_row[self.sp_columns] if pd.notna(s)])\n",
    "                prior_right_bound = prior_row['start'] + pd.Timedelta(seconds=(scope[prior_tag][1]))\n",
    "                if pd.notna(prior_row['end']):\n",
    "                    left_bound = min(max(current_left_bound, DrEval.interpolate(prior_right_bound, current_left_bound), prior_row['end']), start_ts)\n",
    "                else:\n",
    "                    left_bound = min(max(current_left_bound, DrEval.interpolate(prior_right_bound, current_left_bound), prior_row['start']), start_ts)\n",
    "            else:\n",
    "                left_bound = current_left_bound\n",
    "            \n",
    "            if post_row is not None:\n",
    "                post_tag = '_'.join([s for s in post_row[self.sp_columns] if pd.notna(s)])\n",
    "                post_left_bound = post_row['start'] + pd.Timedelta(seconds=(scope[post_tag][0]))\n",
    "                if pd.notna(end_ts):\n",
    "                    right_bound = max(min(current_right_bound, DrEval.interpolate(current_right_bound, post_left_bound), post_row['start']), end_ts)\n",
    "                else:\n",
    "                    right_bound = max(min(current_right_bound, DrEval.interpolate(current_right_bound, post_left_bound), post_row['start']), start_ts)\n",
    "            else:\n",
    "                right_bound = current_right_bound\n",
    "            \n",
    "            interval = P.closed(left_bound, right_bound)\n",
    "            \n",
    "            df.loc[(df['start'] >= interval.lower) & (df['start'] < interval.upper), 'anchor_type'] = tag\n",
    "            \n",
    "            if not this_df[(this_df['Timestamp'] >= interval.lower) & (this_df['Timestamp'] < interval.upper)].empty:\n",
    "                df.loc[(df['start'] >= interval.lower) & (df['start'] < interval.upper), 'anchor_state'] = 1\n",
    "                \n",
    "            # Update dataframe to accelerate the speed\n",
    "            this_df = this_df[this_df[self.ts_column] >= interval.upper].copy()\n",
    "            \n",
    "        return df\n",
    "    \n",
    "    \n",
    "    def hist_method_dual(self, df, ho_df, mode_mets, mets, RATE_TYPE):\n",
    "        scope = self.scope_models[mode_mets]\n",
    "        hist_model = self.hist_models[mode_mets]\n",
    "        dr_prob_model = self.dr_prob_models[mode_mets]\n",
    "        \n",
    "        this_df = df.copy()\n",
    "        for i, row in ho_df.iterrows():\n",
    "            prior_row = ho_df.iloc[i-1] if i != 0 else None\n",
    "            post_row = ho_df.iloc[i+1] if i != len(ho_df) - 1 else None\n",
    "\n",
    "            # Peek the next event to avoid HO overlapping with handoverFailure (skip!!)\n",
    "            if i != len(ho_df) - 1 and pd.notna(row.end) and row.end > post_row.start:\n",
    "                # print('Overlapping event occurs!!')\n",
    "                # print(i, row['start'], row['end'], row['type'], row['cause'])\n",
    "                # print(i+1, post_row['start'], post_row['end'], post_row['type'], post_row['cause'])\n",
    "                continue\n",
    "            \n",
    "            # Set prior event if the prior loop is skipped\n",
    "            if i != 0 and pd.notna(prior_row.end) and prior_row.end > row.start:\n",
    "                prior_row = ho_df.iloc[i-2] if i > 1 else None\n",
    "            \n",
    "            # Basic information of the current row\n",
    "            tag = '_'.join([s for s in row[self.sp_columns] if pd.notna(s)])  # specific column name\n",
    "            start_ts, end_ts = row['start'], row['end']  # handover start/end time\n",
    "            interruption_time = (end_ts - start_ts).total_seconds() if pd.notna(end_ts) else 0  # handover interruption time\n",
    "            \n",
    "            # Set simple left/right bounds\n",
    "            current_left_bound = start_ts + pd.Timedelta(seconds=(scope[tag][0]))\n",
    "            current_right_bound = start_ts + pd.Timedelta(seconds=(scope[tag][1]))\n",
    "            \n",
    "            # Set left/right bounds to avoid event overlapping with each other\n",
    "            if prior_row is not None:\n",
    "                prior_tag = '_'.join([s for s in prior_row[self.sp_columns] if pd.notna(s)])\n",
    "                prior_right_bound = prior_row['start'] + pd.Timedelta(seconds=(scope[prior_tag][1]))\n",
    "                if pd.notna(prior_row['end']):\n",
    "                    left_bound = min(max(current_left_bound, DrEval.interpolate(prior_right_bound, current_left_bound), prior_row['end']), start_ts)\n",
    "                else:\n",
    "                    left_bound = min(max(current_left_bound, DrEval.interpolate(prior_right_bound, current_left_bound), prior_row['start']), start_ts)\n",
    "            else:\n",
    "                left_bound = current_left_bound\n",
    "            \n",
    "            if post_row is not None:\n",
    "                post_tag = '_'.join([s for s in post_row[self.sp_columns] if pd.notna(s)])\n",
    "                post_left_bound = post_row['start'] + pd.Timedelta(seconds=(scope[post_tag][0]))\n",
    "                if pd.notna(end_ts):\n",
    "                    right_bound = max(min(current_right_bound, DrEval.interpolate(current_right_bound, post_left_bound), post_row['start']), end_ts)\n",
    "                else:\n",
    "                    right_bound = max(min(current_right_bound, DrEval.interpolate(current_right_bound, post_left_bound), post_row['start']), start_ts)\n",
    "            else:\n",
    "                right_bound = current_right_bound\n",
    "            \n",
    "            interval = P.closed(left_bound, right_bound)\n",
    "            \n",
    "            # Concatenate PLR from mapping list\n",
    "            current_df = this_df[this_df['Timestamp'] < interval.upper].copy()\n",
    "            plr_mapping = hist_model[tag].copy()\n",
    "            \n",
    "            current_df[f'relative_time'] = (current_df['Timestamp'] - start_ts).dt.total_seconds()\n",
    "            current_df[f'window_id'] = ((current_df[f'relative_time'] + 0.005) // 0.01) * 0.01\n",
    "            \n",
    "            anchor_tag = row['anchor_type']\n",
    "            anchor_state = row['anchor_state']\n",
    "            \n",
    "            if anchor_state == 1:\n",
    "                trigger_probability = dr_prob_model[(anchor_tag, tag)][0]\n",
    "            else:\n",
    "                trigger_probability = dr_prob_model[(anchor_tag, tag)][1]\n",
    "            \n",
    "            if plr_mapping.empty:\n",
    "                tmp = current_df.copy().rename(columns={mets: f'{mets}_x'})\n",
    "            else:\n",
    "                tmp = pd.merge(current_df, plr_mapping, on='window_id', how='left')\n",
    "                tmp[RATE_TYPE] = tmp[RATE_TYPE].fillna(0)\n",
    "                \n",
    "                if not DrEval.generate_random_boolean(trigger_probability):\n",
    "                    tmp[RATE_TYPE] = 0\n",
    "            \n",
    "            tmp['anchor_type'] = anchor_tag\n",
    "            tmp['anchor_state'] = anchor_state\n",
    "            tmp['type'] = tag\n",
    "            \n",
    "            if i == 0:\n",
    "                answer = tmp.copy()\n",
    "            else:\n",
    "                answer = pd.concat([answer, tmp], axis=0)\n",
    "            \n",
    "            # Update dataframe to accelerate the speed\n",
    "            this_df = this_df[this_df[self.ts_column] >= interval.upper].copy()\n",
    "        \n",
    "        answer = pd.concat([answer, this_df], axis=0)\n",
    "        # display(answer)\n",
    "        \n",
    "        # Consider stable duration\n",
    "        stable_df = answer[answer['tx_count'].isnull()].copy()[['seq', 'lost_x', 'excl', 'Timestamp']].rename(columns={'lost_x': 'lost'})\n",
    "\n",
    "        stable_df['Timestamp_sec'] = stable_df['Timestamp'].dt.floor('S')\n",
    "        stable_df['relative_time'] = (stable_df['Timestamp'] - stable_df['Timestamp_sec']).dt.total_seconds() - 0.5\n",
    "        stable_df['window_id'] = ((stable_df['relative_time'] + 0.01 / 2) // 0.01) * 0.01\n",
    "\n",
    "        plr_mapping = hist_model['Stable'].copy()        \n",
    "        stable_df = pd.merge(stable_df, plr_mapping, on='window_id', how='left').rename(columns={'PLR': 'PLR_if_trigger'})\n",
    "        trigger_prob_mapping = stable_df[~stable_df['Timestamp_sec'].duplicated()].reset_index(drop=True)[['Timestamp_sec']]\n",
    "        \n",
    "        trigger_probability = dr_prob_model[('Stable', 'Stable')][0]\n",
    "        \n",
    "        # if anchor_state == 1:\n",
    "        #     trigger_probability = dr_prob_model[(anchor_tag, tag)][0]\n",
    "        # else:\n",
    "        #     trigger_probability = dr_prob_model[(anchor_tag, tag)][1]\n",
    "                \n",
    "        random_bool_array = [DrEval.generate_random_boolean(trigger_probability) for _ in range(len(trigger_prob_mapping))]\n",
    "        trigger_prob_mapping['trigger'] = random_bool_array\n",
    "\n",
    "        stable_df = pd.merge(stable_df, trigger_prob_mapping, on='Timestamp_sec', how='left')\n",
    "        stable_df['PLR'] = stable_df['PLR_if_trigger'] * stable_df['trigger']\n",
    "        \n",
    "        # stable_df['type'] = 'Stable'\n",
    "        stable_df['anchor_type'] = 'Stable'\n",
    "        stable_df['anchor_state'] = 0\n",
    "        stable_df['type'] = 'Stable'\n",
    "\n",
    "        del stable_df['Timestamp_sec'], stable_df['PLR_if_trigger'], stable_df['trigger']\n",
    "        \n",
    "        answer = answer[answer['tx_count'].notnull()].copy()\n",
    "        \n",
    "        answer = pd.concat([answer, stable_df], axis=0)\n",
    "        answer = answer.sort_values(by='Timestamp').reset_index(drop=True)\n",
    "        answer['PLR'] = answer['PLR'] / 100\n",
    "        answer['Y'] = answer['PLR'].apply(DrEval.generate_random_boolean)\n",
    "        \n",
    "        eval_value = answer['Y'].mean() * 100\n",
    "        ground_value = df['lost'].mean() * 100\n",
    "        \n",
    "        answer = pd.concat([answer[['seq', 'Timestamp', 'anchor_type', 'anchor_state', 'type', 'relative_time', 'window_id']],\n",
    "                            df[['lost']],\n",
    "                            answer[[RATE_TYPE, 'Y']]], axis=1)\n",
    "\n",
    "        return answer, eval_value, ground_value\n",
    "\n",
    "        # return answer, eval_value, ground_value\n",
    "        \n",
    "        # # Consider stable duration\n",
    "        # stable_df = answer[answer['tx_count'].isnull()].copy()[['seq', 'lost_x', 'excl', 'Timestamp']].rename(columns={'lost_x': 'lost'})\n",
    "\n",
    "        # stable_df['Timestamp_sec'] = stable_df['Timestamp'].dt.floor('S')\n",
    "        # stable_df['relative_time'] = (stable_df['Timestamp'] - stable_df['Timestamp_sec']).dt.total_seconds() - 0.5\n",
    "        # stable_df['window_id'] = ((stable_df['relative_time'] + 0.01 / 2) // 0.01) * 0.01\n",
    "\n",
    "        # plr_mapping = hist_model['Stable'].copy()\n",
    "        # stable_df = pd.merge(stable_df, plr_mapping, on='window_id', how='left').rename(columns={'PLR': 'PLR_trig'})\n",
    "\n",
    "        # trig_p_mapping = stable_df[~stable_df['Timestamp_sec'].duplicated()].reset_index(drop=True)\n",
    "        \n",
    "        # triggered_p = dr_prob_model[('Stable', 'Stable')][0]\n",
    "        \n",
    "        # random_bool_array = [DrEval.generate_random_boolean(triggered_p) for _ in range(len(trig_p_mapping))]\n",
    "        # trig_p_mapping['trigger'] = random_bool_array\n",
    "        # trig_p_mapping = trig_p_mapping[['Timestamp_sec', 'trigger']]\n",
    "\n",
    "        # stable_df = pd.merge(stable_df, trig_p_mapping, on='Timestamp_sec', how='left')\n",
    "        # stable_df['PLR'] = stable_df['PLR_trig'] * stable_df['trigger']\n",
    "\n",
    "        # del stable_df['Timestamp_sec'], stable_df['PLR_trig'], stable_df['trigger']\n",
    "        \n",
    "        # answer = answer[answer['tx_count'].notnull()].copy()\n",
    "        # # display(answer)\n",
    "        \n",
    "        # answer = pd.concat([answer, stable_df], axis=0)\n",
    "        # answer = answer.sort_values(by='Timestamp').reset_index(drop=True)\n",
    "        # answer['PLR'] = answer['PLR'] / 100\n",
    "        # answer['Y'] = answer['PLR'].apply(DrEval.generate_random_boolean)\n",
    "        \n",
    "        # eval_value = answer['Y'].mean() * 100\n",
    "        # ground_value = df['lost'].mean() * 100\n",
    "    \n",
    "    \n",
    "    def run_hist_method(self, N=3):\n",
    "        scope = self.scope_models['dl_lost']\n",
    "        n = len(self.filepaths)\n",
    "        for mode_mets in ['dl_lost']:\n",
    "            for i, filepath in enumerate(self.filepaths):\n",
    "                \n",
    "                # if i > 35:\n",
    "                #     break\n",
    "                \n",
    "                # if i > 0:\n",
    "                #     break\n",
    "                \n",
    "                print(f'{i}/{n}', filepath[0][0]); print(f'{i}/{n}', filepath[0][1]); print(f'{i}/{n}', filepath[0][2])\n",
    "                print(f'{i}/{n}', filepath[1][0]); print(f'{i}/{n}', filepath[1][1]); print(f'{i}/{n}', filepath[1][2])\n",
    "                \n",
    "                # ho_df1 = pd.read_csv(filepath[0][0], parse_dates=['start', 'end'])\n",
    "                if os.path.isfile(filepath[0][0]):\n",
    "                    ho_df1 = pd.read_csv(filepath[0][0], parse_dates=['start', 'end'])\n",
    "                else:\n",
    "                    print('{} does not exist!!!'.format(filepath[0][0]))\n",
    "                    temp_dir = os.path.dirname(filepath[0][0])\n",
    "                    rrc_file = [os.path.join(temp_dir, s) for s in os.listdir(temp_dir) if s.endswith('rrc.csv')][0]\n",
    "                    ho_df1, _ = mi_parse_handover(pd.read_csv(rrc_file))\n",
    "                    print('makefile:', os.path.join(temp_dir, 'handover_info_log.csv'))\n",
    "                    ho_df1.to_csv(os.path.join(temp_dir, 'handover_info_log.csv'), index=False)\n",
    "                \n",
    "                # ho_df2 = pd.read_csv(filepath[1][0], parse_dates=['start', 'end'])\n",
    "                if os.path.isfile(filepath[1][0]):\n",
    "                    ho_df2 = pd.read_csv(filepath[1][0], parse_dates=['start', 'end'])\n",
    "                else:\n",
    "                    print('{} does not exist!!!'.format(filepath[1][0]))\n",
    "                    temp_dir = os.path.dirname(filepath[1][0])\n",
    "                    rrc_file = [os.path.join(temp_dir, s) for s in os.listdir(temp_dir) if s.endswith('rrc.csv')][0]\n",
    "                    ho_df2, _ = mi_parse_handover(pd.read_csv(rrc_file))\n",
    "                    print('makefile:', os.path.join(temp_dir, 'handover_info_log.csv'))\n",
    "                    ho_df2.to_csv(os.path.join(temp_dir, 'handover_info_log.csv'), index=False)\n",
    "                \n",
    "                if ho_df1.empty or ho_df2.empty:\n",
    "                    print('******** Empty RRC Data ********')\n",
    "                    continue\n",
    "                \n",
    "                # df, ho_df, empty_data = data_aligner(df, ho_df)\n",
    "                \n",
    "                df1 = pd.read_csv(filepath[0][1], parse_dates=['Timestamp'])[['seq', 'Timestamp', 'lost', 'excl', 'latency']]\n",
    "                df2 = pd.read_csv(filepath[1][1], parse_dates=['Timestamp'])[['seq', 'Timestamp', 'lost', 'excl', 'latency']]\n",
    "                df1, ho_df1, empty_data1 = data_aligner(df1, ho_df1)\n",
    "                df2, ho_df2, empty_data2 = data_aligner(df2, ho_df2)\n",
    "                \n",
    "                if empty_data1 or empty_data2:\n",
    "                    print('******** Empty RRC Data ********')\n",
    "                    continue\n",
    "                \n",
    "                df = pd.merge(df1, df2, on='seq', how='inner').reset_index(drop=True)\n",
    "                \n",
    "                df1 = df[['seq', 'Timestamp_x', 'lost_x', 'excl_x', 'latency_x']].rename(columns={'Timestamp_x': 'Timestamp', 'lost_x': 'lost', 'excl_x': 'excl', 'latency_x': 'latency'})\n",
    "                df2 = df[['seq', 'Timestamp_y', 'lost_y', 'excl_y', 'latency_y']].rename(columns={'Timestamp_y': 'Timestamp', 'lost_y': 'lost', 'excl_y': 'excl', 'latency_y': 'latency'})\n",
    "                \n",
    "                loss_rate_list = []\n",
    "                answer = None\n",
    "                for iter_round in tqdm(range(N), ncols=1000):\n",
    "                    ans1, eval_value1, ground_value1 = eval.hist_method(df1, ho_df1, mode_mets='dl_lost', mets='lost', RATE_TYPE='PLR')\n",
    "                    # display(answer1)\n",
    "                    \n",
    "                    # setup_profile\n",
    "                    # ho_df1 = self.setup_profile(ho_df1, ho_df2, df2, scope)\n",
    "                    avatar_ho_df2 = self.setup_profile(ho_df2.copy(), ho_df1, ans1, scope)\n",
    "                    \n",
    "                    # display(avatar_ho_df2)\n",
    "                    \n",
    "                    ans2, eval_value2, ground_value2 = eval.hist_method_dual(df2, avatar_ho_df2, mode_mets='dl_lost', mets='lost', RATE_TYPE='PLR')\n",
    "                    \n",
    "                    # display(ans1)\n",
    "                    # display(ans2)\n",
    "                    # display(answer2)\n",
    "                    \n",
    "                    ans = pd.merge(ans1, ans2, on='seq', how='inner').reset_index(drop=True)\n",
    "                    ans['lost'] = (ans['lost_x']) & (ans['lost_y'])\n",
    "                    ans['Y'] = (ans['Y_x']) & (ans['Y_y'])\n",
    "                    ans = ans[['seq', 'Timestamp_x', 'Timestamp_y', 'type_x', 'anchor_type', 'anchor_state', 'type_y', 'relative_time_x', 'window_id_x', 'relative_time_y', 'window_id_y', 'lost_x', 'lost_y', 'lost', 'PLR_x', 'Y_x', 'PLR_y', 'Y_y', 'Y']]\n",
    "                    \n",
    "                    # display(ans)\n",
    "                    \n",
    "                    handle = (ans1['Y']) & (ans2['Y'])\n",
    "                    eval_value = handle.mean() * 100\n",
    "                    # print('eval:', eval_value, len(handle))\n",
    "                    \n",
    "                    handle = (df1['lost']) & (df2['lost'])\n",
    "                    ground_value = handle.mean() * 100\n",
    "                    # print('ground:', ground_value, len(handle))\n",
    "                    \n",
    "                    if answer is None:\n",
    "                        answer = ans.copy()\n",
    "                        answer = answer.rename(columns={'PLR_x': f'PLR_x_0', 'Y_x': f'Y_x_0', 'PLR_y': f'PLR_y_0', 'Y_y': f'Y_y_0', 'Y': f'Y_0'})\n",
    "                    else:\n",
    "                        answer = pd.concat([answer, ans[['PLR_x', 'Y_x', 'PLR_y', 'Y_y', 'Y']]], axis=1)\n",
    "                        answer = answer.rename(columns={'PLR_x': f'PLR_x_{iter_round}', 'Y_x': f'Y_x_{iter_round}', 'PLR_y': f'PLR_y_{iter_round}', 'Y_y': f'Y_y_{iter_round}', 'Y': f'Y_{iter_round}'})\n",
    "                    \n",
    "                    loss_rate_list.append(eval_value)\n",
    "                \n",
    "                # display(answer)\n",
    "        \n",
    "                mean_value = np.mean(loss_rate_list)\n",
    "                std_deviation = np.std(loss_rate_list)\n",
    "\n",
    "                # print()\n",
    "                # print(\"Mean:\", mean_value)\n",
    "                # print(\"Standard Deviation:\", std_deviation)\n",
    "                # print(\"Ground Truth:\", ground_value)\n",
    "                \n",
    "                self.LOSS_GT.append(ground_value)\n",
    "                self.LOSS_EV.append(mean_value)\n",
    "                self.LOSS_STD.append(std_deviation)\n",
    "                \n",
    "                path1 = filepath[0][1]\n",
    "                path2 = filepath[1][1]\n",
    "                \n",
    "                error = mean_value - ground_value\n",
    "                self.records.append((mean_value, std_deviation, ground_value, error, path1, path2))\n",
    "\n",
    "                def find_sm_label(path):\n",
    "                    # 找到 \"sm\" 的位置\n",
    "                    sm_index = path.index(\"sm\")\n",
    "                    # 从 \"sm\" 的位置开始找到下一个斜杠 \"/\"\n",
    "                    next_slash_index = path.index(\"/\", sm_index)\n",
    "                    # 截取 \"sm00\" 标签\n",
    "                    # sm_label = path[sm_index:next_slash_index]\n",
    "                    sm_label = path[sm_index+2:next_slash_index]\n",
    "                    # print(\"截取的标签为:\", sm_label)\n",
    "                    return sm_label\n",
    "                \n",
    "                self.DEVICES.append(find_sm_label(path1)+'+'+find_sm_label(path2))\n",
    "                \n",
    "                def find_tr_label(path):\n",
    "                    # 找到 \"sm\" 的位置\n",
    "                    sm_index = path.index(\"#\")\n",
    "                    # 从 \"sm\" 的位置开始找到下一个斜杠 \"/\"\n",
    "                    next_slash_index = path.index(\"/\", sm_index)\n",
    "                    # 截取 \"sm00\" 标签\n",
    "                    # sm_label = path[sm_index:next_slash_index]\n",
    "                    sm_label = path[sm_index+1:next_slash_index]\n",
    "                    # print(\"截取的标签为:\", sm_label)\n",
    "                    return sm_label\n",
    "                \n",
    "                self.TRACES.append(find_tr_label(path1)+'+'+find_tr_label(path2))\n",
    "                \n",
    "                if self.model_suffix is None:\n",
    "                    # save_path = os.path.join(self.save_path, self.sr_model_id, self.dr_model_id, 'results', self.figure_id)\n",
    "                    save_path = os.path.join(PATH_TO_RESULTS, self.sr_model_id, 'dr_results', self.dr_model_id, self.figure_id)\n",
    "                else:\n",
    "                    # save_path = os.path.join(self.save_path, self.sr_model_id, self.dr_model_id, 'results', f'{self.figure_id}_{self.model_suffix}')\n",
    "                    save_path = os.path.join(PATH_TO_RESULTS, self.sr_model_id, 'dr_results', self.dr_model_id, f'{self.figure_id}_{self.model_suffix}')\n",
    "                    \n",
    "                if not os.path.isdir(save_path):\n",
    "                    os.makedirs(save_path)\n",
    "                \n",
    "                save_path = os.path.join(save_path, path1.replace('/', '\\\\')[:-4]+path2.replace('/', '\\\\'))\n",
    "                print(save_path)\n",
    "                answer.to_csv(save_path, index=False)\n",
    "    \n",
    "    \n",
    "    def plot(self, save_name='plot_example', save_path='.'):\n",
    "        # Sample data\n",
    "        x = self.LOSS_GT.copy()\n",
    "        y = self.LOSS_EV.copy()\n",
    "\n",
    "        # Standard deviations for error bars\n",
    "        y_error = self.LOSS_STD.copy()\n",
    "\n",
    "        # Create figure and axes\n",
    "        fig, ax = plt.subplots(figsize=(6, 4))\n",
    "\n",
    "        # Scatter plot with error bars and horizontal caps\n",
    "        ax.errorbar(x, y, yerr=y_error, linestyle='None', marker='o', color='tab:blue', capsize=5)\n",
    "        ax.scatter([], [], linestyle='None', marker='o', color='tab:blue', label='Data Points')\n",
    "\n",
    "        # Regression line\n",
    "        # coefficients = np.polyfit(x, y, 1)\n",
    "        # regression_line = np.poly1d(coefficients)\n",
    "        # ax.plot(ax.get_xlim(), regression_line(ax.get_xlim()), linestyle='--', linewidth=1.1, color='tab:blue', label='Regression Line')\n",
    "\n",
    "        # Annotate the slope of the regression line\n",
    "        # slope_annotation = f'Slope: {coefficients[0]:.2f}'\n",
    "        # ax.annotate(slope_annotation, xy=(0.5, 0.85), xycoords='axes fraction', fontsize=10, fontstyle='italic', fontweight='bold', color='tab:blue')\n",
    "\n",
    "        # Annotate MSE From the regression line\n",
    "        # y_pred = regression_line(x)\n",
    "        # mse = mean_squared_error(y, y_pred)\n",
    "        mse = np.sqrt(mean_squared_error(x, y))\n",
    "        mse_rate = mse / np.mean(x) * 100\n",
    "        slope_annotation = f'RMSE: {mse:.3f} ({mse_rate:.1f} %)'\n",
    "        ax.annotate(slope_annotation, xy=(0.5, 0.85), xycoords='axes fraction', fontsize=10, fontstyle='italic', fontweight='bold', color='tab:blue')\n",
    "\n",
    "        # 45-Degree Line\n",
    "        ax.plot(ax.get_xlim(), ax.get_xlim(), linestyle='-', linewidth=1.1, color='tab:pink', label='45-Degree Line', alpha=0.9)\n",
    "        # ax.plot(ax.get_xlim(), 1.1 * ax.get_xlim(), linestyle='-', linewidth=1.1, color='tab:pink', label='45-Degree Line', alpha=0.9)\n",
    "        # ax.plot(ax.get_xlim(), 0.9 * ax.get_xlim(), linestyle='-', linewidth=1.1, color='tab:pink', label='45-Degree Line', alpha=0.9)\n",
    "        \n",
    "        # 获取 x 的边界\n",
    "        x_limits = ax.get_xlim()\n",
    "\n",
    "        # 创建 x 值范围\n",
    "        x_values = np.linspace(x_limits[0], x_limits[1], 100)  # 使用 x 的边界值作为范围\n",
    "\n",
    "        # 计算 y = 1.1x 和 y = 0.9x 的值\n",
    "        y_upper = 1.1 * x_values\n",
    "        y_lower = 0.9 * x_values\n",
    "\n",
    "        # 绘制 y = 1.1x 和 y = 0.9x 线\n",
    "        ax.plot(x_values, y_upper, linestyle='-', linewidth=1.1, color='tab:orange')\n",
    "        ax.plot(x_values, y_lower, linestyle='-', linewidth=1.1, color='tab:orange')\n",
    "\n",
    "        # 在两条线之间填充颜色\n",
    "        ax.fill_between(x_values, y_lower, y_upper, color='tab:orange', alpha=0.3)\n",
    "\n",
    "        # Set labels and title\n",
    "        ax.set_xlabel('PLR Ground Truth')\n",
    "        ax.set_ylabel('PLR Evaluated')\n",
    "        # ax.set_title('A Profile Evaluate 9 Traces From A5 Data: Single')\n",
    "\n",
    "        for i, sm_label in enumerate(self.DEVICES):\n",
    "            ax.annotate(sm_label, xy=(x[i], y[i]))\n",
    "            \n",
    "        # Add a legend\n",
    "        ax.legend()\n",
    "        \n",
    "        save_path = os.path.join(save_path, self.sr_model_id, self.dr_model_id, 'figures')\n",
    "        if not os.path.isdir(save_path):\n",
    "            os.makedirs(save_path)\n",
    "        \n",
    "        if self.model_suffix is not None:\n",
    "            save_name = f'{save_name}_{self.model_suffix}'\n",
    "        save_path = os.path.join(save_path, figure_add_prefix_suffix(save_name, image_id=self.figure_id))\n",
    "        print(save_path)\n",
    "        fig.savefig(save_path, dpi=300)\n",
    "\n",
    "        # Show the plot\n",
    "        plt.show()"
   ]
  },
  {
   "cell_type": "markdown",
   "metadata": {},
   "source": [
    "# Enter Model IDs"
   ]
  },
  {
   "cell_type": "code",
   "execution_count": 4,
   "metadata": {},
   "outputs": [
    {
     "name": "stdout",
     "output_type": "stream",
     "text": [
      "SR Model ID: 20240329_160006be6c_new_dataset_sync\n",
      "DR Model ID: dr_20240329_1700005690\n",
      "Suffix: 75%_corr\n"
     ]
    }
   ],
   "source": [
    "sr_model_id = '20240329_160006be6c_new_dataset_sync'\n",
    "dr_model_id = 'dr_20240329_1700005690'\n",
    "print('SR Model ID:', sr_model_id)\n",
    "print('DR Model ID:', dr_model_id)\n",
    "\n",
    "mode = ['zero', 'max', '25%', '50%', '75%']\n",
    "mode = '75%'\n",
    "suffix = f'{mode}_corr'\n",
    "print('Suffix:', suffix)"
   ]
  },
  {
   "cell_type": "markdown",
   "metadata": {},
   "source": [
    "# BR: DR Eval"
   ]
  },
  {
   "cell_type": "code",
   "execution_count": 5,
   "metadata": {},
   "outputs": [],
   "source": [
    "adjust_table, model_adjust = manipulate_corr_coef(sr_model_id, dr_model_id, route='BR', mode=mode, rho_force=None)\n",
    "# display(adjust_table)\n",
    "# pprint(model_adjust)"
   ]
  },
  {
   "cell_type": "code",
   "execution_count": 6,
   "metadata": {},
   "outputs": [],
   "source": [
    "# Dual Radio Example\n",
    "# dates = data_loader(query_dates=True, show_info=True)\n",
    "\n",
    "# selected_dates = [s for s in dates if s >= '2023-09-12']\n",
    "selected_dates = ['2024-03-19']\n",
    "# excluded_dates = []\n",
    "# selected_exps = []\n",
    "# excluded_exps = ['Modem_Action_Test', 'Control_Group', 'Control_Group2', 'Control_Group3']\n",
    "selected_routes = ['BR']\n",
    "# excluded_routes = []\n",
    "filepaths = data_loader(mode='dr', selected_dates=selected_dates, selected_routes=selected_routes)\n",
    "\n",
    "# print(len(filepaths[:36]))\n",
    "# pprint(filepaths[:36])"
   ]
  },
  {
   "cell_type": "code",
   "execution_count": 7,
   "metadata": {},
   "outputs": [
    {
     "name": "stdout",
     "output_type": "stream",
     "text": [
      "./20240329_160006be6c_new_dataset_sync/models/BR\n",
      "./20240329_160006be6c_new_dataset_sync/dr_20240329_1700005690/models/BR\n",
      "./20240329_160006be6c_new_dataset_sync/dr_20240329_1700005690/models/BR_dr_prob_models_adjust.pkl\n",
      "0/72 /home/wmnlab/F/database/2024-03-19/UDP_Bandlock_9S_Phone_BR/sm00/#01/data/handover_info_log.csv\n",
      "0/72 /home/wmnlab/F/database/2024-03-19/UDP_Bandlock_9S_Phone_BR/sm00/#01/data/udp_dnlk_loss_latency.csv\n",
      "0/72 /home/wmnlab/F/database/2024-03-19/UDP_Bandlock_9S_Phone_BR/sm00/#01/data/udp_uplk_loss_latency.csv\n",
      "0/72 /home/wmnlab/F/database/2024-03-19/UDP_Bandlock_9S_Phone_BR/sm01/#01/data/handover_info_log.csv\n",
      "0/72 /home/wmnlab/F/database/2024-03-19/UDP_Bandlock_9S_Phone_BR/sm01/#01/data/udp_dnlk_loss_latency.csv\n",
      "0/72 /home/wmnlab/F/database/2024-03-19/UDP_Bandlock_9S_Phone_BR/sm01/#01/data/udp_uplk_loss_latency.csv\n"
     ]
    },
    {
     "data": {
      "application/vnd.jupyter.widget-view+json": {
       "model_id": "a9bd13f2fe704b9a846ca5f96da0d0b8",
       "version_major": 2,
       "version_minor": 0
      },
      "text/plain": [
       "  0%|                                                                                                         …"
      ]
     },
     "metadata": {},
     "output_type": "display_data"
    },
    {
     "name": "stdout",
     "output_type": "stream",
     "text": [
      "/home/wmnlab/F/results/20240329_160006be6c_new_dataset_sync/dr_results/dr_20240329_1700005690/20240329_20212200000_5478c0f4b3611008_adjust/\\home\\wmnlab\\F\\database\\2024-03-19\\UDP_Bandlock_9S_Phone_BR\\sm00\\#01\\data\\udp_dnlk_loss_latency\\home\\wmnlab\\F\\database\\2024-03-19\\UDP_Bandlock_9S_Phone_BR\\sm01\\#01\\data\\udp_dnlk_loss_latency.csv\n",
      "1/72 /home/wmnlab/F/database/2024-03-19/UDP_Bandlock_9S_Phone_BR/sm00/#01/data/handover_info_log.csv\n",
      "1/72 /home/wmnlab/F/database/2024-03-19/UDP_Bandlock_9S_Phone_BR/sm00/#01/data/udp_dnlk_loss_latency.csv\n",
      "1/72 /home/wmnlab/F/database/2024-03-19/UDP_Bandlock_9S_Phone_BR/sm00/#01/data/udp_uplk_loss_latency.csv\n",
      "1/72 /home/wmnlab/F/database/2024-03-19/UDP_Bandlock_9S_Phone_BR/sm02/#01/data/handover_info_log.csv\n",
      "1/72 /home/wmnlab/F/database/2024-03-19/UDP_Bandlock_9S_Phone_BR/sm02/#01/data/udp_dnlk_loss_latency.csv\n",
      "1/72 /home/wmnlab/F/database/2024-03-19/UDP_Bandlock_9S_Phone_BR/sm02/#01/data/udp_uplk_loss_latency.csv\n"
     ]
    },
    {
     "data": {
      "application/vnd.jupyter.widget-view+json": {
       "model_id": "209cefa41b4044ed94564e89217cdecd",
       "version_major": 2,
       "version_minor": 0
      },
      "text/plain": [
       "  0%|                                                                                                         …"
      ]
     },
     "metadata": {},
     "output_type": "display_data"
    },
    {
     "name": "stdout",
     "output_type": "stream",
     "text": [
      "/home/wmnlab/F/results/20240329_160006be6c_new_dataset_sync/dr_results/dr_20240329_1700005690/20240329_20212200000_5478c0f4b3611008_adjust/\\home\\wmnlab\\F\\database\\2024-03-19\\UDP_Bandlock_9S_Phone_BR\\sm00\\#01\\data\\udp_dnlk_loss_latency\\home\\wmnlab\\F\\database\\2024-03-19\\UDP_Bandlock_9S_Phone_BR\\sm02\\#01\\data\\udp_dnlk_loss_latency.csv\n",
      "2/72 /home/wmnlab/F/database/2024-03-19/UDP_Bandlock_9S_Phone_BR/sm00/#01/data/handover_info_log.csv\n",
      "2/72 /home/wmnlab/F/database/2024-03-19/UDP_Bandlock_9S_Phone_BR/sm00/#01/data/udp_dnlk_loss_latency.csv\n",
      "2/72 /home/wmnlab/F/database/2024-03-19/UDP_Bandlock_9S_Phone_BR/sm00/#01/data/udp_uplk_loss_latency.csv\n",
      "2/72 /home/wmnlab/F/database/2024-03-19/UDP_Bandlock_9S_Phone_BR/sm03/#01/data/handover_info_log.csv\n",
      "2/72 /home/wmnlab/F/database/2024-03-19/UDP_Bandlock_9S_Phone_BR/sm03/#01/data/udp_dnlk_loss_latency.csv\n",
      "2/72 /home/wmnlab/F/database/2024-03-19/UDP_Bandlock_9S_Phone_BR/sm03/#01/data/udp_uplk_loss_latency.csv\n"
     ]
    },
    {
     "data": {
      "application/vnd.jupyter.widget-view+json": {
       "model_id": "f9135ad37ea4470a9a0780933deb8bcb",
       "version_major": 2,
       "version_minor": 0
      },
      "text/plain": [
       "  0%|                                                                                                         …"
      ]
     },
     "metadata": {},
     "output_type": "display_data"
    },
    {
     "name": "stdout",
     "output_type": "stream",
     "text": [
      "/home/wmnlab/F/results/20240329_160006be6c_new_dataset_sync/dr_results/dr_20240329_1700005690/20240329_20212200000_5478c0f4b3611008_adjust/\\home\\wmnlab\\F\\database\\2024-03-19\\UDP_Bandlock_9S_Phone_BR\\sm00\\#01\\data\\udp_dnlk_loss_latency\\home\\wmnlab\\F\\database\\2024-03-19\\UDP_Bandlock_9S_Phone_BR\\sm03\\#01\\data\\udp_dnlk_loss_latency.csv\n",
      "3/72 /home/wmnlab/F/database/2024-03-19/UDP_Bandlock_9S_Phone_BR/sm00/#01/data/handover_info_log.csv\n",
      "3/72 /home/wmnlab/F/database/2024-03-19/UDP_Bandlock_9S_Phone_BR/sm00/#01/data/udp_dnlk_loss_latency.csv\n",
      "3/72 /home/wmnlab/F/database/2024-03-19/UDP_Bandlock_9S_Phone_BR/sm00/#01/data/udp_uplk_loss_latency.csv\n",
      "3/72 /home/wmnlab/F/database/2024-03-19/UDP_Bandlock_9S_Phone_BR/sm04/#01/data/handover_info_log.csv\n",
      "3/72 /home/wmnlab/F/database/2024-03-19/UDP_Bandlock_9S_Phone_BR/sm04/#01/data/udp_dnlk_loss_latency.csv\n",
      "3/72 /home/wmnlab/F/database/2024-03-19/UDP_Bandlock_9S_Phone_BR/sm04/#01/data/udp_uplk_loss_latency.csv\n"
     ]
    },
    {
     "data": {
      "application/vnd.jupyter.widget-view+json": {
       "model_id": "cdf3a08b3c9a4bc9a7288d4880dfc7d8",
       "version_major": 2,
       "version_minor": 0
      },
      "text/plain": [
       "  0%|                                                                                                         …"
      ]
     },
     "metadata": {},
     "output_type": "display_data"
    },
    {
     "name": "stdout",
     "output_type": "stream",
     "text": [
      "/home/wmnlab/F/results/20240329_160006be6c_new_dataset_sync/dr_results/dr_20240329_1700005690/20240329_20212200000_5478c0f4b3611008_adjust/\\home\\wmnlab\\F\\database\\2024-03-19\\UDP_Bandlock_9S_Phone_BR\\sm00\\#01\\data\\udp_dnlk_loss_latency\\home\\wmnlab\\F\\database\\2024-03-19\\UDP_Bandlock_9S_Phone_BR\\sm04\\#01\\data\\udp_dnlk_loss_latency.csv\n",
      "4/72 /home/wmnlab/F/database/2024-03-19/UDP_Bandlock_9S_Phone_BR/sm00/#01/data/handover_info_log.csv\n",
      "4/72 /home/wmnlab/F/database/2024-03-19/UDP_Bandlock_9S_Phone_BR/sm00/#01/data/udp_dnlk_loss_latency.csv\n",
      "4/72 /home/wmnlab/F/database/2024-03-19/UDP_Bandlock_9S_Phone_BR/sm00/#01/data/udp_uplk_loss_latency.csv\n",
      "4/72 /home/wmnlab/F/database/2024-03-19/UDP_Bandlock_9S_Phone_BR/sm05/#01/data/handover_info_log.csv\n",
      "4/72 /home/wmnlab/F/database/2024-03-19/UDP_Bandlock_9S_Phone_BR/sm05/#01/data/udp_dnlk_loss_latency.csv\n",
      "4/72 /home/wmnlab/F/database/2024-03-19/UDP_Bandlock_9S_Phone_BR/sm05/#01/data/udp_uplk_loss_latency.csv\n"
     ]
    },
    {
     "data": {
      "application/vnd.jupyter.widget-view+json": {
       "model_id": "7644e35fc64e442f9f9b9e23e332140d",
       "version_major": 2,
       "version_minor": 0
      },
      "text/plain": [
       "  0%|                                                                                                         …"
      ]
     },
     "metadata": {},
     "output_type": "display_data"
    },
    {
     "name": "stdout",
     "output_type": "stream",
     "text": [
      "/home/wmnlab/F/results/20240329_160006be6c_new_dataset_sync/dr_results/dr_20240329_1700005690/20240329_20212200000_5478c0f4b3611008_adjust/\\home\\wmnlab\\F\\database\\2024-03-19\\UDP_Bandlock_9S_Phone_BR\\sm00\\#01\\data\\udp_dnlk_loss_latency\\home\\wmnlab\\F\\database\\2024-03-19\\UDP_Bandlock_9S_Phone_BR\\sm05\\#01\\data\\udp_dnlk_loss_latency.csv\n",
      "5/72 /home/wmnlab/F/database/2024-03-19/UDP_Bandlock_9S_Phone_BR/sm00/#01/data/handover_info_log.csv\n",
      "5/72 /home/wmnlab/F/database/2024-03-19/UDP_Bandlock_9S_Phone_BR/sm00/#01/data/udp_dnlk_loss_latency.csv\n",
      "5/72 /home/wmnlab/F/database/2024-03-19/UDP_Bandlock_9S_Phone_BR/sm00/#01/data/udp_uplk_loss_latency.csv\n",
      "5/72 /home/wmnlab/F/database/2024-03-19/UDP_Bandlock_9S_Phone_BR/sm06/#01/data/handover_info_log.csv\n",
      "5/72 /home/wmnlab/F/database/2024-03-19/UDP_Bandlock_9S_Phone_BR/sm06/#01/data/udp_dnlk_loss_latency.csv\n",
      "5/72 /home/wmnlab/F/database/2024-03-19/UDP_Bandlock_9S_Phone_BR/sm06/#01/data/udp_uplk_loss_latency.csv\n"
     ]
    },
    {
     "data": {
      "application/vnd.jupyter.widget-view+json": {
       "model_id": "7957534324ac41e1a84df3cdd2853509",
       "version_major": 2,
       "version_minor": 0
      },
      "text/plain": [
       "  0%|                                                                                                         …"
      ]
     },
     "metadata": {},
     "output_type": "display_data"
    },
    {
     "name": "stdout",
     "output_type": "stream",
     "text": [
      "/home/wmnlab/F/results/20240329_160006be6c_new_dataset_sync/dr_results/dr_20240329_1700005690/20240329_20212200000_5478c0f4b3611008_adjust/\\home\\wmnlab\\F\\database\\2024-03-19\\UDP_Bandlock_9S_Phone_BR\\sm00\\#01\\data\\udp_dnlk_loss_latency\\home\\wmnlab\\F\\database\\2024-03-19\\UDP_Bandlock_9S_Phone_BR\\sm06\\#01\\data\\udp_dnlk_loss_latency.csv\n",
      "6/72 /home/wmnlab/F/database/2024-03-19/UDP_Bandlock_9S_Phone_BR/sm00/#01/data/handover_info_log.csv\n",
      "6/72 /home/wmnlab/F/database/2024-03-19/UDP_Bandlock_9S_Phone_BR/sm00/#01/data/udp_dnlk_loss_latency.csv\n",
      "6/72 /home/wmnlab/F/database/2024-03-19/UDP_Bandlock_9S_Phone_BR/sm00/#01/data/udp_uplk_loss_latency.csv\n",
      "6/72 /home/wmnlab/F/database/2024-03-19/UDP_Bandlock_9S_Phone_BR/sm07/#01/data/handover_info_log.csv\n",
      "6/72 /home/wmnlab/F/database/2024-03-19/UDP_Bandlock_9S_Phone_BR/sm07/#01/data/udp_dnlk_loss_latency.csv\n",
      "6/72 /home/wmnlab/F/database/2024-03-19/UDP_Bandlock_9S_Phone_BR/sm07/#01/data/udp_uplk_loss_latency.csv\n"
     ]
    },
    {
     "data": {
      "application/vnd.jupyter.widget-view+json": {
       "model_id": "7c710b2f7e6a492da5b4913cd613badf",
       "version_major": 2,
       "version_minor": 0
      },
      "text/plain": [
       "  0%|                                                                                                         …"
      ]
     },
     "metadata": {},
     "output_type": "display_data"
    },
    {
     "name": "stdout",
     "output_type": "stream",
     "text": [
      "/home/wmnlab/F/results/20240329_160006be6c_new_dataset_sync/dr_results/dr_20240329_1700005690/20240329_20212200000_5478c0f4b3611008_adjust/\\home\\wmnlab\\F\\database\\2024-03-19\\UDP_Bandlock_9S_Phone_BR\\sm00\\#01\\data\\udp_dnlk_loss_latency\\home\\wmnlab\\F\\database\\2024-03-19\\UDP_Bandlock_9S_Phone_BR\\sm07\\#01\\data\\udp_dnlk_loss_latency.csv\n",
      "7/72 /home/wmnlab/F/database/2024-03-19/UDP_Bandlock_9S_Phone_BR/sm00/#01/data/handover_info_log.csv\n",
      "7/72 /home/wmnlab/F/database/2024-03-19/UDP_Bandlock_9S_Phone_BR/sm00/#01/data/udp_dnlk_loss_latency.csv\n",
      "7/72 /home/wmnlab/F/database/2024-03-19/UDP_Bandlock_9S_Phone_BR/sm00/#01/data/udp_uplk_loss_latency.csv\n",
      "7/72 /home/wmnlab/F/database/2024-03-19/UDP_Bandlock_9S_Phone_BR/sm08/#01/data/handover_info_log.csv\n",
      "7/72 /home/wmnlab/F/database/2024-03-19/UDP_Bandlock_9S_Phone_BR/sm08/#01/data/udp_dnlk_loss_latency.csv\n",
      "7/72 /home/wmnlab/F/database/2024-03-19/UDP_Bandlock_9S_Phone_BR/sm08/#01/data/udp_uplk_loss_latency.csv\n"
     ]
    },
    {
     "data": {
      "application/vnd.jupyter.widget-view+json": {
       "model_id": "6103e3dcc9ff449eab3c17ea567efd0c",
       "version_major": 2,
       "version_minor": 0
      },
      "text/plain": [
       "  0%|                                                                                                         …"
      ]
     },
     "metadata": {},
     "output_type": "display_data"
    },
    {
     "name": "stdout",
     "output_type": "stream",
     "text": [
      "/home/wmnlab/F/results/20240329_160006be6c_new_dataset_sync/dr_results/dr_20240329_1700005690/20240329_20212200000_5478c0f4b3611008_adjust/\\home\\wmnlab\\F\\database\\2024-03-19\\UDP_Bandlock_9S_Phone_BR\\sm00\\#01\\data\\udp_dnlk_loss_latency\\home\\wmnlab\\F\\database\\2024-03-19\\UDP_Bandlock_9S_Phone_BR\\sm08\\#01\\data\\udp_dnlk_loss_latency.csv\n",
      "8/72 /home/wmnlab/F/database/2024-03-19/UDP_Bandlock_9S_Phone_BR/sm01/#01/data/handover_info_log.csv\n",
      "8/72 /home/wmnlab/F/database/2024-03-19/UDP_Bandlock_9S_Phone_BR/sm01/#01/data/udp_dnlk_loss_latency.csv\n",
      "8/72 /home/wmnlab/F/database/2024-03-19/UDP_Bandlock_9S_Phone_BR/sm01/#01/data/udp_uplk_loss_latency.csv\n",
      "8/72 /home/wmnlab/F/database/2024-03-19/UDP_Bandlock_9S_Phone_BR/sm02/#01/data/handover_info_log.csv\n",
      "8/72 /home/wmnlab/F/database/2024-03-19/UDP_Bandlock_9S_Phone_BR/sm02/#01/data/udp_dnlk_loss_latency.csv\n",
      "8/72 /home/wmnlab/F/database/2024-03-19/UDP_Bandlock_9S_Phone_BR/sm02/#01/data/udp_uplk_loss_latency.csv\n"
     ]
    },
    {
     "data": {
      "application/vnd.jupyter.widget-view+json": {
       "model_id": "1cc0e30d73ac413890ced39fc4b5e733",
       "version_major": 2,
       "version_minor": 0
      },
      "text/plain": [
       "  0%|                                                                                                         …"
      ]
     },
     "metadata": {},
     "output_type": "display_data"
    },
    {
     "name": "stdout",
     "output_type": "stream",
     "text": [
      "/home/wmnlab/F/results/20240329_160006be6c_new_dataset_sync/dr_results/dr_20240329_1700005690/20240329_20212200000_5478c0f4b3611008_adjust/\\home\\wmnlab\\F\\database\\2024-03-19\\UDP_Bandlock_9S_Phone_BR\\sm01\\#01\\data\\udp_dnlk_loss_latency\\home\\wmnlab\\F\\database\\2024-03-19\\UDP_Bandlock_9S_Phone_BR\\sm02\\#01\\data\\udp_dnlk_loss_latency.csv\n",
      "9/72 /home/wmnlab/F/database/2024-03-19/UDP_Bandlock_9S_Phone_BR/sm01/#01/data/handover_info_log.csv\n",
      "9/72 /home/wmnlab/F/database/2024-03-19/UDP_Bandlock_9S_Phone_BR/sm01/#01/data/udp_dnlk_loss_latency.csv\n",
      "9/72 /home/wmnlab/F/database/2024-03-19/UDP_Bandlock_9S_Phone_BR/sm01/#01/data/udp_uplk_loss_latency.csv\n",
      "9/72 /home/wmnlab/F/database/2024-03-19/UDP_Bandlock_9S_Phone_BR/sm03/#01/data/handover_info_log.csv\n",
      "9/72 /home/wmnlab/F/database/2024-03-19/UDP_Bandlock_9S_Phone_BR/sm03/#01/data/udp_dnlk_loss_latency.csv\n",
      "9/72 /home/wmnlab/F/database/2024-03-19/UDP_Bandlock_9S_Phone_BR/sm03/#01/data/udp_uplk_loss_latency.csv\n"
     ]
    },
    {
     "data": {
      "application/vnd.jupyter.widget-view+json": {
       "model_id": "b19c0b4df60946e0a2774c7374bc3baf",
       "version_major": 2,
       "version_minor": 0
      },
      "text/plain": [
       "  0%|                                                                                                         …"
      ]
     },
     "metadata": {},
     "output_type": "display_data"
    },
    {
     "name": "stdout",
     "output_type": "stream",
     "text": [
      "/home/wmnlab/F/results/20240329_160006be6c_new_dataset_sync/dr_results/dr_20240329_1700005690/20240329_20212200000_5478c0f4b3611008_adjust/\\home\\wmnlab\\F\\database\\2024-03-19\\UDP_Bandlock_9S_Phone_BR\\sm01\\#01\\data\\udp_dnlk_loss_latency\\home\\wmnlab\\F\\database\\2024-03-19\\UDP_Bandlock_9S_Phone_BR\\sm03\\#01\\data\\udp_dnlk_loss_latency.csv\n",
      "10/72 /home/wmnlab/F/database/2024-03-19/UDP_Bandlock_9S_Phone_BR/sm01/#01/data/handover_info_log.csv\n",
      "10/72 /home/wmnlab/F/database/2024-03-19/UDP_Bandlock_9S_Phone_BR/sm01/#01/data/udp_dnlk_loss_latency.csv\n",
      "10/72 /home/wmnlab/F/database/2024-03-19/UDP_Bandlock_9S_Phone_BR/sm01/#01/data/udp_uplk_loss_latency.csv\n",
      "10/72 /home/wmnlab/F/database/2024-03-19/UDP_Bandlock_9S_Phone_BR/sm04/#01/data/handover_info_log.csv\n",
      "10/72 /home/wmnlab/F/database/2024-03-19/UDP_Bandlock_9S_Phone_BR/sm04/#01/data/udp_dnlk_loss_latency.csv\n",
      "10/72 /home/wmnlab/F/database/2024-03-19/UDP_Bandlock_9S_Phone_BR/sm04/#01/data/udp_uplk_loss_latency.csv\n"
     ]
    },
    {
     "data": {
      "application/vnd.jupyter.widget-view+json": {
       "model_id": "52bd5a002ded410eb3aba743c0cd4e59",
       "version_major": 2,
       "version_minor": 0
      },
      "text/plain": [
       "  0%|                                                                                                         …"
      ]
     },
     "metadata": {},
     "output_type": "display_data"
    },
    {
     "name": "stdout",
     "output_type": "stream",
     "text": [
      "/home/wmnlab/F/results/20240329_160006be6c_new_dataset_sync/dr_results/dr_20240329_1700005690/20240329_20212200000_5478c0f4b3611008_adjust/\\home\\wmnlab\\F\\database\\2024-03-19\\UDP_Bandlock_9S_Phone_BR\\sm01\\#01\\data\\udp_dnlk_loss_latency\\home\\wmnlab\\F\\database\\2024-03-19\\UDP_Bandlock_9S_Phone_BR\\sm04\\#01\\data\\udp_dnlk_loss_latency.csv\n",
      "11/72 /home/wmnlab/F/database/2024-03-19/UDP_Bandlock_9S_Phone_BR/sm01/#01/data/handover_info_log.csv\n",
      "11/72 /home/wmnlab/F/database/2024-03-19/UDP_Bandlock_9S_Phone_BR/sm01/#01/data/udp_dnlk_loss_latency.csv\n",
      "11/72 /home/wmnlab/F/database/2024-03-19/UDP_Bandlock_9S_Phone_BR/sm01/#01/data/udp_uplk_loss_latency.csv\n",
      "11/72 /home/wmnlab/F/database/2024-03-19/UDP_Bandlock_9S_Phone_BR/sm05/#01/data/handover_info_log.csv\n",
      "11/72 /home/wmnlab/F/database/2024-03-19/UDP_Bandlock_9S_Phone_BR/sm05/#01/data/udp_dnlk_loss_latency.csv\n",
      "11/72 /home/wmnlab/F/database/2024-03-19/UDP_Bandlock_9S_Phone_BR/sm05/#01/data/udp_uplk_loss_latency.csv\n"
     ]
    },
    {
     "data": {
      "application/vnd.jupyter.widget-view+json": {
       "model_id": "5dff7c98520841099406e64d12d69a0b",
       "version_major": 2,
       "version_minor": 0
      },
      "text/plain": [
       "  0%|                                                                                                         …"
      ]
     },
     "metadata": {},
     "output_type": "display_data"
    },
    {
     "name": "stdout",
     "output_type": "stream",
     "text": [
      "/home/wmnlab/F/results/20240329_160006be6c_new_dataset_sync/dr_results/dr_20240329_1700005690/20240329_20212200000_5478c0f4b3611008_adjust/\\home\\wmnlab\\F\\database\\2024-03-19\\UDP_Bandlock_9S_Phone_BR\\sm01\\#01\\data\\udp_dnlk_loss_latency\\home\\wmnlab\\F\\database\\2024-03-19\\UDP_Bandlock_9S_Phone_BR\\sm05\\#01\\data\\udp_dnlk_loss_latency.csv\n",
      "12/72 /home/wmnlab/F/database/2024-03-19/UDP_Bandlock_9S_Phone_BR/sm01/#01/data/handover_info_log.csv\n",
      "12/72 /home/wmnlab/F/database/2024-03-19/UDP_Bandlock_9S_Phone_BR/sm01/#01/data/udp_dnlk_loss_latency.csv\n",
      "12/72 /home/wmnlab/F/database/2024-03-19/UDP_Bandlock_9S_Phone_BR/sm01/#01/data/udp_uplk_loss_latency.csv\n",
      "12/72 /home/wmnlab/F/database/2024-03-19/UDP_Bandlock_9S_Phone_BR/sm06/#01/data/handover_info_log.csv\n",
      "12/72 /home/wmnlab/F/database/2024-03-19/UDP_Bandlock_9S_Phone_BR/sm06/#01/data/udp_dnlk_loss_latency.csv\n",
      "12/72 /home/wmnlab/F/database/2024-03-19/UDP_Bandlock_9S_Phone_BR/sm06/#01/data/udp_uplk_loss_latency.csv\n"
     ]
    },
    {
     "data": {
      "application/vnd.jupyter.widget-view+json": {
       "model_id": "555afaad1cec4bd7aac2c3b733052541",
       "version_major": 2,
       "version_minor": 0
      },
      "text/plain": [
       "  0%|                                                                                                         …"
      ]
     },
     "metadata": {},
     "output_type": "display_data"
    },
    {
     "name": "stdout",
     "output_type": "stream",
     "text": [
      "/home/wmnlab/F/results/20240329_160006be6c_new_dataset_sync/dr_results/dr_20240329_1700005690/20240329_20212200000_5478c0f4b3611008_adjust/\\home\\wmnlab\\F\\database\\2024-03-19\\UDP_Bandlock_9S_Phone_BR\\sm01\\#01\\data\\udp_dnlk_loss_latency\\home\\wmnlab\\F\\database\\2024-03-19\\UDP_Bandlock_9S_Phone_BR\\sm06\\#01\\data\\udp_dnlk_loss_latency.csv\n",
      "13/72 /home/wmnlab/F/database/2024-03-19/UDP_Bandlock_9S_Phone_BR/sm01/#01/data/handover_info_log.csv\n",
      "13/72 /home/wmnlab/F/database/2024-03-19/UDP_Bandlock_9S_Phone_BR/sm01/#01/data/udp_dnlk_loss_latency.csv\n",
      "13/72 /home/wmnlab/F/database/2024-03-19/UDP_Bandlock_9S_Phone_BR/sm01/#01/data/udp_uplk_loss_latency.csv\n",
      "13/72 /home/wmnlab/F/database/2024-03-19/UDP_Bandlock_9S_Phone_BR/sm07/#01/data/handover_info_log.csv\n",
      "13/72 /home/wmnlab/F/database/2024-03-19/UDP_Bandlock_9S_Phone_BR/sm07/#01/data/udp_dnlk_loss_latency.csv\n",
      "13/72 /home/wmnlab/F/database/2024-03-19/UDP_Bandlock_9S_Phone_BR/sm07/#01/data/udp_uplk_loss_latency.csv\n"
     ]
    },
    {
     "data": {
      "application/vnd.jupyter.widget-view+json": {
       "model_id": "c547d108b314489c86f1e7b26212758c",
       "version_major": 2,
       "version_minor": 0
      },
      "text/plain": [
       "  0%|                                                                                                         …"
      ]
     },
     "metadata": {},
     "output_type": "display_data"
    },
    {
     "name": "stdout",
     "output_type": "stream",
     "text": [
      "/home/wmnlab/F/results/20240329_160006be6c_new_dataset_sync/dr_results/dr_20240329_1700005690/20240329_20212200000_5478c0f4b3611008_adjust/\\home\\wmnlab\\F\\database\\2024-03-19\\UDP_Bandlock_9S_Phone_BR\\sm01\\#01\\data\\udp_dnlk_loss_latency\\home\\wmnlab\\F\\database\\2024-03-19\\UDP_Bandlock_9S_Phone_BR\\sm07\\#01\\data\\udp_dnlk_loss_latency.csv\n",
      "14/72 /home/wmnlab/F/database/2024-03-19/UDP_Bandlock_9S_Phone_BR/sm01/#01/data/handover_info_log.csv\n",
      "14/72 /home/wmnlab/F/database/2024-03-19/UDP_Bandlock_9S_Phone_BR/sm01/#01/data/udp_dnlk_loss_latency.csv\n",
      "14/72 /home/wmnlab/F/database/2024-03-19/UDP_Bandlock_9S_Phone_BR/sm01/#01/data/udp_uplk_loss_latency.csv\n",
      "14/72 /home/wmnlab/F/database/2024-03-19/UDP_Bandlock_9S_Phone_BR/sm08/#01/data/handover_info_log.csv\n",
      "14/72 /home/wmnlab/F/database/2024-03-19/UDP_Bandlock_9S_Phone_BR/sm08/#01/data/udp_dnlk_loss_latency.csv\n",
      "14/72 /home/wmnlab/F/database/2024-03-19/UDP_Bandlock_9S_Phone_BR/sm08/#01/data/udp_uplk_loss_latency.csv\n"
     ]
    },
    {
     "data": {
      "application/vnd.jupyter.widget-view+json": {
       "model_id": "359b4873ea1848a0bd17024c467198a4",
       "version_major": 2,
       "version_minor": 0
      },
      "text/plain": [
       "  0%|                                                                                                         …"
      ]
     },
     "metadata": {},
     "output_type": "display_data"
    },
    {
     "name": "stdout",
     "output_type": "stream",
     "text": [
      "/home/wmnlab/F/results/20240329_160006be6c_new_dataset_sync/dr_results/dr_20240329_1700005690/20240329_20212200000_5478c0f4b3611008_adjust/\\home\\wmnlab\\F\\database\\2024-03-19\\UDP_Bandlock_9S_Phone_BR\\sm01\\#01\\data\\udp_dnlk_loss_latency\\home\\wmnlab\\F\\database\\2024-03-19\\UDP_Bandlock_9S_Phone_BR\\sm08\\#01\\data\\udp_dnlk_loss_latency.csv\n",
      "15/72 /home/wmnlab/F/database/2024-03-19/UDP_Bandlock_9S_Phone_BR/sm02/#01/data/handover_info_log.csv\n",
      "15/72 /home/wmnlab/F/database/2024-03-19/UDP_Bandlock_9S_Phone_BR/sm02/#01/data/udp_dnlk_loss_latency.csv\n",
      "15/72 /home/wmnlab/F/database/2024-03-19/UDP_Bandlock_9S_Phone_BR/sm02/#01/data/udp_uplk_loss_latency.csv\n",
      "15/72 /home/wmnlab/F/database/2024-03-19/UDP_Bandlock_9S_Phone_BR/sm03/#01/data/handover_info_log.csv\n",
      "15/72 /home/wmnlab/F/database/2024-03-19/UDP_Bandlock_9S_Phone_BR/sm03/#01/data/udp_dnlk_loss_latency.csv\n",
      "15/72 /home/wmnlab/F/database/2024-03-19/UDP_Bandlock_9S_Phone_BR/sm03/#01/data/udp_uplk_loss_latency.csv\n"
     ]
    },
    {
     "data": {
      "application/vnd.jupyter.widget-view+json": {
       "model_id": "eef3a7259a114547802ae19a42f3026f",
       "version_major": 2,
       "version_minor": 0
      },
      "text/plain": [
       "  0%|                                                                                                         …"
      ]
     },
     "metadata": {},
     "output_type": "display_data"
    },
    {
     "name": "stdout",
     "output_type": "stream",
     "text": [
      "/home/wmnlab/F/results/20240329_160006be6c_new_dataset_sync/dr_results/dr_20240329_1700005690/20240329_20212200000_5478c0f4b3611008_adjust/\\home\\wmnlab\\F\\database\\2024-03-19\\UDP_Bandlock_9S_Phone_BR\\sm02\\#01\\data\\udp_dnlk_loss_latency\\home\\wmnlab\\F\\database\\2024-03-19\\UDP_Bandlock_9S_Phone_BR\\sm03\\#01\\data\\udp_dnlk_loss_latency.csv\n",
      "16/72 /home/wmnlab/F/database/2024-03-19/UDP_Bandlock_9S_Phone_BR/sm02/#01/data/handover_info_log.csv\n",
      "16/72 /home/wmnlab/F/database/2024-03-19/UDP_Bandlock_9S_Phone_BR/sm02/#01/data/udp_dnlk_loss_latency.csv\n",
      "16/72 /home/wmnlab/F/database/2024-03-19/UDP_Bandlock_9S_Phone_BR/sm02/#01/data/udp_uplk_loss_latency.csv\n",
      "16/72 /home/wmnlab/F/database/2024-03-19/UDP_Bandlock_9S_Phone_BR/sm04/#01/data/handover_info_log.csv\n",
      "16/72 /home/wmnlab/F/database/2024-03-19/UDP_Bandlock_9S_Phone_BR/sm04/#01/data/udp_dnlk_loss_latency.csv\n",
      "16/72 /home/wmnlab/F/database/2024-03-19/UDP_Bandlock_9S_Phone_BR/sm04/#01/data/udp_uplk_loss_latency.csv\n"
     ]
    },
    {
     "data": {
      "application/vnd.jupyter.widget-view+json": {
       "model_id": "8f4851cfbb694a7091cf0a68f9d53eac",
       "version_major": 2,
       "version_minor": 0
      },
      "text/plain": [
       "  0%|                                                                                                         …"
      ]
     },
     "metadata": {},
     "output_type": "display_data"
    },
    {
     "name": "stdout",
     "output_type": "stream",
     "text": [
      "/home/wmnlab/F/results/20240329_160006be6c_new_dataset_sync/dr_results/dr_20240329_1700005690/20240329_20212200000_5478c0f4b3611008_adjust/\\home\\wmnlab\\F\\database\\2024-03-19\\UDP_Bandlock_9S_Phone_BR\\sm02\\#01\\data\\udp_dnlk_loss_latency\\home\\wmnlab\\F\\database\\2024-03-19\\UDP_Bandlock_9S_Phone_BR\\sm04\\#01\\data\\udp_dnlk_loss_latency.csv\n",
      "17/72 /home/wmnlab/F/database/2024-03-19/UDP_Bandlock_9S_Phone_BR/sm02/#01/data/handover_info_log.csv\n",
      "17/72 /home/wmnlab/F/database/2024-03-19/UDP_Bandlock_9S_Phone_BR/sm02/#01/data/udp_dnlk_loss_latency.csv\n",
      "17/72 /home/wmnlab/F/database/2024-03-19/UDP_Bandlock_9S_Phone_BR/sm02/#01/data/udp_uplk_loss_latency.csv\n",
      "17/72 /home/wmnlab/F/database/2024-03-19/UDP_Bandlock_9S_Phone_BR/sm05/#01/data/handover_info_log.csv\n",
      "17/72 /home/wmnlab/F/database/2024-03-19/UDP_Bandlock_9S_Phone_BR/sm05/#01/data/udp_dnlk_loss_latency.csv\n",
      "17/72 /home/wmnlab/F/database/2024-03-19/UDP_Bandlock_9S_Phone_BR/sm05/#01/data/udp_uplk_loss_latency.csv\n"
     ]
    },
    {
     "data": {
      "application/vnd.jupyter.widget-view+json": {
       "model_id": "b231b50421bb4004b294614311efe710",
       "version_major": 2,
       "version_minor": 0
      },
      "text/plain": [
       "  0%|                                                                                                         …"
      ]
     },
     "metadata": {},
     "output_type": "display_data"
    },
    {
     "name": "stdout",
     "output_type": "stream",
     "text": [
      "/home/wmnlab/F/results/20240329_160006be6c_new_dataset_sync/dr_results/dr_20240329_1700005690/20240329_20212200000_5478c0f4b3611008_adjust/\\home\\wmnlab\\F\\database\\2024-03-19\\UDP_Bandlock_9S_Phone_BR\\sm02\\#01\\data\\udp_dnlk_loss_latency\\home\\wmnlab\\F\\database\\2024-03-19\\UDP_Bandlock_9S_Phone_BR\\sm05\\#01\\data\\udp_dnlk_loss_latency.csv\n",
      "18/72 /home/wmnlab/F/database/2024-03-19/UDP_Bandlock_9S_Phone_BR/sm02/#01/data/handover_info_log.csv\n",
      "18/72 /home/wmnlab/F/database/2024-03-19/UDP_Bandlock_9S_Phone_BR/sm02/#01/data/udp_dnlk_loss_latency.csv\n",
      "18/72 /home/wmnlab/F/database/2024-03-19/UDP_Bandlock_9S_Phone_BR/sm02/#01/data/udp_uplk_loss_latency.csv\n",
      "18/72 /home/wmnlab/F/database/2024-03-19/UDP_Bandlock_9S_Phone_BR/sm06/#01/data/handover_info_log.csv\n",
      "18/72 /home/wmnlab/F/database/2024-03-19/UDP_Bandlock_9S_Phone_BR/sm06/#01/data/udp_dnlk_loss_latency.csv\n",
      "18/72 /home/wmnlab/F/database/2024-03-19/UDP_Bandlock_9S_Phone_BR/sm06/#01/data/udp_uplk_loss_latency.csv\n"
     ]
    },
    {
     "data": {
      "application/vnd.jupyter.widget-view+json": {
       "model_id": "94c405ea48e24985b5efd06e3c5cbdc3",
       "version_major": 2,
       "version_minor": 0
      },
      "text/plain": [
       "  0%|                                                                                                         …"
      ]
     },
     "metadata": {},
     "output_type": "display_data"
    },
    {
     "name": "stdout",
     "output_type": "stream",
     "text": [
      "/home/wmnlab/F/results/20240329_160006be6c_new_dataset_sync/dr_results/dr_20240329_1700005690/20240329_20212200000_5478c0f4b3611008_adjust/\\home\\wmnlab\\F\\database\\2024-03-19\\UDP_Bandlock_9S_Phone_BR\\sm02\\#01\\data\\udp_dnlk_loss_latency\\home\\wmnlab\\F\\database\\2024-03-19\\UDP_Bandlock_9S_Phone_BR\\sm06\\#01\\data\\udp_dnlk_loss_latency.csv\n",
      "19/72 /home/wmnlab/F/database/2024-03-19/UDP_Bandlock_9S_Phone_BR/sm02/#01/data/handover_info_log.csv\n",
      "19/72 /home/wmnlab/F/database/2024-03-19/UDP_Bandlock_9S_Phone_BR/sm02/#01/data/udp_dnlk_loss_latency.csv\n",
      "19/72 /home/wmnlab/F/database/2024-03-19/UDP_Bandlock_9S_Phone_BR/sm02/#01/data/udp_uplk_loss_latency.csv\n",
      "19/72 /home/wmnlab/F/database/2024-03-19/UDP_Bandlock_9S_Phone_BR/sm07/#01/data/handover_info_log.csv\n",
      "19/72 /home/wmnlab/F/database/2024-03-19/UDP_Bandlock_9S_Phone_BR/sm07/#01/data/udp_dnlk_loss_latency.csv\n",
      "19/72 /home/wmnlab/F/database/2024-03-19/UDP_Bandlock_9S_Phone_BR/sm07/#01/data/udp_uplk_loss_latency.csv\n"
     ]
    },
    {
     "data": {
      "application/vnd.jupyter.widget-view+json": {
       "model_id": "6c556854af0041eaa65a244604ec8efb",
       "version_major": 2,
       "version_minor": 0
      },
      "text/plain": [
       "  0%|                                                                                                         …"
      ]
     },
     "metadata": {},
     "output_type": "display_data"
    },
    {
     "name": "stdout",
     "output_type": "stream",
     "text": [
      "/home/wmnlab/F/results/20240329_160006be6c_new_dataset_sync/dr_results/dr_20240329_1700005690/20240329_20212200000_5478c0f4b3611008_adjust/\\home\\wmnlab\\F\\database\\2024-03-19\\UDP_Bandlock_9S_Phone_BR\\sm02\\#01\\data\\udp_dnlk_loss_latency\\home\\wmnlab\\F\\database\\2024-03-19\\UDP_Bandlock_9S_Phone_BR\\sm07\\#01\\data\\udp_dnlk_loss_latency.csv\n",
      "20/72 /home/wmnlab/F/database/2024-03-19/UDP_Bandlock_9S_Phone_BR/sm02/#01/data/handover_info_log.csv\n",
      "20/72 /home/wmnlab/F/database/2024-03-19/UDP_Bandlock_9S_Phone_BR/sm02/#01/data/udp_dnlk_loss_latency.csv\n",
      "20/72 /home/wmnlab/F/database/2024-03-19/UDP_Bandlock_9S_Phone_BR/sm02/#01/data/udp_uplk_loss_latency.csv\n",
      "20/72 /home/wmnlab/F/database/2024-03-19/UDP_Bandlock_9S_Phone_BR/sm08/#01/data/handover_info_log.csv\n",
      "20/72 /home/wmnlab/F/database/2024-03-19/UDP_Bandlock_9S_Phone_BR/sm08/#01/data/udp_dnlk_loss_latency.csv\n",
      "20/72 /home/wmnlab/F/database/2024-03-19/UDP_Bandlock_9S_Phone_BR/sm08/#01/data/udp_uplk_loss_latency.csv\n"
     ]
    },
    {
     "data": {
      "application/vnd.jupyter.widget-view+json": {
       "model_id": "33c461eb1a7348808dec4ed62fb3b51c",
       "version_major": 2,
       "version_minor": 0
      },
      "text/plain": [
       "  0%|                                                                                                         …"
      ]
     },
     "metadata": {},
     "output_type": "display_data"
    },
    {
     "name": "stdout",
     "output_type": "stream",
     "text": [
      "/home/wmnlab/F/results/20240329_160006be6c_new_dataset_sync/dr_results/dr_20240329_1700005690/20240329_20212200000_5478c0f4b3611008_adjust/\\home\\wmnlab\\F\\database\\2024-03-19\\UDP_Bandlock_9S_Phone_BR\\sm02\\#01\\data\\udp_dnlk_loss_latency\\home\\wmnlab\\F\\database\\2024-03-19\\UDP_Bandlock_9S_Phone_BR\\sm08\\#01\\data\\udp_dnlk_loss_latency.csv\n",
      "21/72 /home/wmnlab/F/database/2024-03-19/UDP_Bandlock_9S_Phone_BR/sm03/#01/data/handover_info_log.csv\n",
      "21/72 /home/wmnlab/F/database/2024-03-19/UDP_Bandlock_9S_Phone_BR/sm03/#01/data/udp_dnlk_loss_latency.csv\n",
      "21/72 /home/wmnlab/F/database/2024-03-19/UDP_Bandlock_9S_Phone_BR/sm03/#01/data/udp_uplk_loss_latency.csv\n",
      "21/72 /home/wmnlab/F/database/2024-03-19/UDP_Bandlock_9S_Phone_BR/sm04/#01/data/handover_info_log.csv\n",
      "21/72 /home/wmnlab/F/database/2024-03-19/UDP_Bandlock_9S_Phone_BR/sm04/#01/data/udp_dnlk_loss_latency.csv\n",
      "21/72 /home/wmnlab/F/database/2024-03-19/UDP_Bandlock_9S_Phone_BR/sm04/#01/data/udp_uplk_loss_latency.csv\n"
     ]
    },
    {
     "data": {
      "application/vnd.jupyter.widget-view+json": {
       "model_id": "d36b1414fb3d4396918751fc850ca5ab",
       "version_major": 2,
       "version_minor": 0
      },
      "text/plain": [
       "  0%|                                                                                                         …"
      ]
     },
     "metadata": {},
     "output_type": "display_data"
    },
    {
     "name": "stdout",
     "output_type": "stream",
     "text": [
      "/home/wmnlab/F/results/20240329_160006be6c_new_dataset_sync/dr_results/dr_20240329_1700005690/20240329_20212200000_5478c0f4b3611008_adjust/\\home\\wmnlab\\F\\database\\2024-03-19\\UDP_Bandlock_9S_Phone_BR\\sm03\\#01\\data\\udp_dnlk_loss_latency\\home\\wmnlab\\F\\database\\2024-03-19\\UDP_Bandlock_9S_Phone_BR\\sm04\\#01\\data\\udp_dnlk_loss_latency.csv\n",
      "22/72 /home/wmnlab/F/database/2024-03-19/UDP_Bandlock_9S_Phone_BR/sm03/#01/data/handover_info_log.csv\n",
      "22/72 /home/wmnlab/F/database/2024-03-19/UDP_Bandlock_9S_Phone_BR/sm03/#01/data/udp_dnlk_loss_latency.csv\n",
      "22/72 /home/wmnlab/F/database/2024-03-19/UDP_Bandlock_9S_Phone_BR/sm03/#01/data/udp_uplk_loss_latency.csv\n",
      "22/72 /home/wmnlab/F/database/2024-03-19/UDP_Bandlock_9S_Phone_BR/sm05/#01/data/handover_info_log.csv\n",
      "22/72 /home/wmnlab/F/database/2024-03-19/UDP_Bandlock_9S_Phone_BR/sm05/#01/data/udp_dnlk_loss_latency.csv\n",
      "22/72 /home/wmnlab/F/database/2024-03-19/UDP_Bandlock_9S_Phone_BR/sm05/#01/data/udp_uplk_loss_latency.csv\n"
     ]
    },
    {
     "data": {
      "application/vnd.jupyter.widget-view+json": {
       "model_id": "5363eda33c284cceb3cd4f197f647c3a",
       "version_major": 2,
       "version_minor": 0
      },
      "text/plain": [
       "  0%|                                                                                                         …"
      ]
     },
     "metadata": {},
     "output_type": "display_data"
    },
    {
     "name": "stdout",
     "output_type": "stream",
     "text": [
      "/home/wmnlab/F/results/20240329_160006be6c_new_dataset_sync/dr_results/dr_20240329_1700005690/20240329_20212200000_5478c0f4b3611008_adjust/\\home\\wmnlab\\F\\database\\2024-03-19\\UDP_Bandlock_9S_Phone_BR\\sm03\\#01\\data\\udp_dnlk_loss_latency\\home\\wmnlab\\F\\database\\2024-03-19\\UDP_Bandlock_9S_Phone_BR\\sm05\\#01\\data\\udp_dnlk_loss_latency.csv\n",
      "23/72 /home/wmnlab/F/database/2024-03-19/UDP_Bandlock_9S_Phone_BR/sm03/#01/data/handover_info_log.csv\n",
      "23/72 /home/wmnlab/F/database/2024-03-19/UDP_Bandlock_9S_Phone_BR/sm03/#01/data/udp_dnlk_loss_latency.csv\n",
      "23/72 /home/wmnlab/F/database/2024-03-19/UDP_Bandlock_9S_Phone_BR/sm03/#01/data/udp_uplk_loss_latency.csv\n",
      "23/72 /home/wmnlab/F/database/2024-03-19/UDP_Bandlock_9S_Phone_BR/sm06/#01/data/handover_info_log.csv\n",
      "23/72 /home/wmnlab/F/database/2024-03-19/UDP_Bandlock_9S_Phone_BR/sm06/#01/data/udp_dnlk_loss_latency.csv\n",
      "23/72 /home/wmnlab/F/database/2024-03-19/UDP_Bandlock_9S_Phone_BR/sm06/#01/data/udp_uplk_loss_latency.csv\n"
     ]
    },
    {
     "data": {
      "application/vnd.jupyter.widget-view+json": {
       "model_id": "107a20a6c82f47508601d9608c720ba1",
       "version_major": 2,
       "version_minor": 0
      },
      "text/plain": [
       "  0%|                                                                                                         …"
      ]
     },
     "metadata": {},
     "output_type": "display_data"
    },
    {
     "name": "stdout",
     "output_type": "stream",
     "text": [
      "/home/wmnlab/F/results/20240329_160006be6c_new_dataset_sync/dr_results/dr_20240329_1700005690/20240329_20212200000_5478c0f4b3611008_adjust/\\home\\wmnlab\\F\\database\\2024-03-19\\UDP_Bandlock_9S_Phone_BR\\sm03\\#01\\data\\udp_dnlk_loss_latency\\home\\wmnlab\\F\\database\\2024-03-19\\UDP_Bandlock_9S_Phone_BR\\sm06\\#01\\data\\udp_dnlk_loss_latency.csv\n",
      "24/72 /home/wmnlab/F/database/2024-03-19/UDP_Bandlock_9S_Phone_BR/sm03/#01/data/handover_info_log.csv\n",
      "24/72 /home/wmnlab/F/database/2024-03-19/UDP_Bandlock_9S_Phone_BR/sm03/#01/data/udp_dnlk_loss_latency.csv\n",
      "24/72 /home/wmnlab/F/database/2024-03-19/UDP_Bandlock_9S_Phone_BR/sm03/#01/data/udp_uplk_loss_latency.csv\n",
      "24/72 /home/wmnlab/F/database/2024-03-19/UDP_Bandlock_9S_Phone_BR/sm07/#01/data/handover_info_log.csv\n",
      "24/72 /home/wmnlab/F/database/2024-03-19/UDP_Bandlock_9S_Phone_BR/sm07/#01/data/udp_dnlk_loss_latency.csv\n",
      "24/72 /home/wmnlab/F/database/2024-03-19/UDP_Bandlock_9S_Phone_BR/sm07/#01/data/udp_uplk_loss_latency.csv\n"
     ]
    },
    {
     "data": {
      "application/vnd.jupyter.widget-view+json": {
       "model_id": "978de6dadce945fe947d1f627822f4db",
       "version_major": 2,
       "version_minor": 0
      },
      "text/plain": [
       "  0%|                                                                                                         …"
      ]
     },
     "metadata": {},
     "output_type": "display_data"
    },
    {
     "name": "stdout",
     "output_type": "stream",
     "text": [
      "/home/wmnlab/F/results/20240329_160006be6c_new_dataset_sync/dr_results/dr_20240329_1700005690/20240329_20212200000_5478c0f4b3611008_adjust/\\home\\wmnlab\\F\\database\\2024-03-19\\UDP_Bandlock_9S_Phone_BR\\sm03\\#01\\data\\udp_dnlk_loss_latency\\home\\wmnlab\\F\\database\\2024-03-19\\UDP_Bandlock_9S_Phone_BR\\sm07\\#01\\data\\udp_dnlk_loss_latency.csv\n",
      "25/72 /home/wmnlab/F/database/2024-03-19/UDP_Bandlock_9S_Phone_BR/sm03/#01/data/handover_info_log.csv\n",
      "25/72 /home/wmnlab/F/database/2024-03-19/UDP_Bandlock_9S_Phone_BR/sm03/#01/data/udp_dnlk_loss_latency.csv\n",
      "25/72 /home/wmnlab/F/database/2024-03-19/UDP_Bandlock_9S_Phone_BR/sm03/#01/data/udp_uplk_loss_latency.csv\n",
      "25/72 /home/wmnlab/F/database/2024-03-19/UDP_Bandlock_9S_Phone_BR/sm08/#01/data/handover_info_log.csv\n",
      "25/72 /home/wmnlab/F/database/2024-03-19/UDP_Bandlock_9S_Phone_BR/sm08/#01/data/udp_dnlk_loss_latency.csv\n",
      "25/72 /home/wmnlab/F/database/2024-03-19/UDP_Bandlock_9S_Phone_BR/sm08/#01/data/udp_uplk_loss_latency.csv\n"
     ]
    },
    {
     "data": {
      "application/vnd.jupyter.widget-view+json": {
       "model_id": "50de2daabc184a9bab540515c5093d60",
       "version_major": 2,
       "version_minor": 0
      },
      "text/plain": [
       "  0%|                                                                                                         …"
      ]
     },
     "metadata": {},
     "output_type": "display_data"
    },
    {
     "name": "stdout",
     "output_type": "stream",
     "text": [
      "/home/wmnlab/F/results/20240329_160006be6c_new_dataset_sync/dr_results/dr_20240329_1700005690/20240329_20212200000_5478c0f4b3611008_adjust/\\home\\wmnlab\\F\\database\\2024-03-19\\UDP_Bandlock_9S_Phone_BR\\sm03\\#01\\data\\udp_dnlk_loss_latency\\home\\wmnlab\\F\\database\\2024-03-19\\UDP_Bandlock_9S_Phone_BR\\sm08\\#01\\data\\udp_dnlk_loss_latency.csv\n",
      "26/72 /home/wmnlab/F/database/2024-03-19/UDP_Bandlock_9S_Phone_BR/sm04/#01/data/handover_info_log.csv\n",
      "26/72 /home/wmnlab/F/database/2024-03-19/UDP_Bandlock_9S_Phone_BR/sm04/#01/data/udp_dnlk_loss_latency.csv\n",
      "26/72 /home/wmnlab/F/database/2024-03-19/UDP_Bandlock_9S_Phone_BR/sm04/#01/data/udp_uplk_loss_latency.csv\n",
      "26/72 /home/wmnlab/F/database/2024-03-19/UDP_Bandlock_9S_Phone_BR/sm05/#01/data/handover_info_log.csv\n",
      "26/72 /home/wmnlab/F/database/2024-03-19/UDP_Bandlock_9S_Phone_BR/sm05/#01/data/udp_dnlk_loss_latency.csv\n",
      "26/72 /home/wmnlab/F/database/2024-03-19/UDP_Bandlock_9S_Phone_BR/sm05/#01/data/udp_uplk_loss_latency.csv\n"
     ]
    },
    {
     "data": {
      "application/vnd.jupyter.widget-view+json": {
       "model_id": "3cc76c61679c47eeb24994d6388d443a",
       "version_major": 2,
       "version_minor": 0
      },
      "text/plain": [
       "  0%|                                                                                                         …"
      ]
     },
     "metadata": {},
     "output_type": "display_data"
    },
    {
     "name": "stdout",
     "output_type": "stream",
     "text": [
      "/home/wmnlab/F/results/20240329_160006be6c_new_dataset_sync/dr_results/dr_20240329_1700005690/20240329_20212200000_5478c0f4b3611008_adjust/\\home\\wmnlab\\F\\database\\2024-03-19\\UDP_Bandlock_9S_Phone_BR\\sm04\\#01\\data\\udp_dnlk_loss_latency\\home\\wmnlab\\F\\database\\2024-03-19\\UDP_Bandlock_9S_Phone_BR\\sm05\\#01\\data\\udp_dnlk_loss_latency.csv\n",
      "27/72 /home/wmnlab/F/database/2024-03-19/UDP_Bandlock_9S_Phone_BR/sm04/#01/data/handover_info_log.csv\n",
      "27/72 /home/wmnlab/F/database/2024-03-19/UDP_Bandlock_9S_Phone_BR/sm04/#01/data/udp_dnlk_loss_latency.csv\n",
      "27/72 /home/wmnlab/F/database/2024-03-19/UDP_Bandlock_9S_Phone_BR/sm04/#01/data/udp_uplk_loss_latency.csv\n",
      "27/72 /home/wmnlab/F/database/2024-03-19/UDP_Bandlock_9S_Phone_BR/sm06/#01/data/handover_info_log.csv\n",
      "27/72 /home/wmnlab/F/database/2024-03-19/UDP_Bandlock_9S_Phone_BR/sm06/#01/data/udp_dnlk_loss_latency.csv\n",
      "27/72 /home/wmnlab/F/database/2024-03-19/UDP_Bandlock_9S_Phone_BR/sm06/#01/data/udp_uplk_loss_latency.csv\n"
     ]
    },
    {
     "data": {
      "application/vnd.jupyter.widget-view+json": {
       "model_id": "b1eff8e3a3954a29992840064badea9f",
       "version_major": 2,
       "version_minor": 0
      },
      "text/plain": [
       "  0%|                                                                                                         …"
      ]
     },
     "metadata": {},
     "output_type": "display_data"
    },
    {
     "name": "stdout",
     "output_type": "stream",
     "text": [
      "/home/wmnlab/F/results/20240329_160006be6c_new_dataset_sync/dr_results/dr_20240329_1700005690/20240329_20212200000_5478c0f4b3611008_adjust/\\home\\wmnlab\\F\\database\\2024-03-19\\UDP_Bandlock_9S_Phone_BR\\sm04\\#01\\data\\udp_dnlk_loss_latency\\home\\wmnlab\\F\\database\\2024-03-19\\UDP_Bandlock_9S_Phone_BR\\sm06\\#01\\data\\udp_dnlk_loss_latency.csv\n",
      "28/72 /home/wmnlab/F/database/2024-03-19/UDP_Bandlock_9S_Phone_BR/sm04/#01/data/handover_info_log.csv\n",
      "28/72 /home/wmnlab/F/database/2024-03-19/UDP_Bandlock_9S_Phone_BR/sm04/#01/data/udp_dnlk_loss_latency.csv\n",
      "28/72 /home/wmnlab/F/database/2024-03-19/UDP_Bandlock_9S_Phone_BR/sm04/#01/data/udp_uplk_loss_latency.csv\n",
      "28/72 /home/wmnlab/F/database/2024-03-19/UDP_Bandlock_9S_Phone_BR/sm07/#01/data/handover_info_log.csv\n",
      "28/72 /home/wmnlab/F/database/2024-03-19/UDP_Bandlock_9S_Phone_BR/sm07/#01/data/udp_dnlk_loss_latency.csv\n",
      "28/72 /home/wmnlab/F/database/2024-03-19/UDP_Bandlock_9S_Phone_BR/sm07/#01/data/udp_uplk_loss_latency.csv\n"
     ]
    },
    {
     "data": {
      "application/vnd.jupyter.widget-view+json": {
       "model_id": "8520708519344b57821c1f4526c5a6b1",
       "version_major": 2,
       "version_minor": 0
      },
      "text/plain": [
       "  0%|                                                                                                         …"
      ]
     },
     "metadata": {},
     "output_type": "display_data"
    },
    {
     "name": "stdout",
     "output_type": "stream",
     "text": [
      "/home/wmnlab/F/results/20240329_160006be6c_new_dataset_sync/dr_results/dr_20240329_1700005690/20240329_20212200000_5478c0f4b3611008_adjust/\\home\\wmnlab\\F\\database\\2024-03-19\\UDP_Bandlock_9S_Phone_BR\\sm04\\#01\\data\\udp_dnlk_loss_latency\\home\\wmnlab\\F\\database\\2024-03-19\\UDP_Bandlock_9S_Phone_BR\\sm07\\#01\\data\\udp_dnlk_loss_latency.csv\n",
      "29/72 /home/wmnlab/F/database/2024-03-19/UDP_Bandlock_9S_Phone_BR/sm04/#01/data/handover_info_log.csv\n",
      "29/72 /home/wmnlab/F/database/2024-03-19/UDP_Bandlock_9S_Phone_BR/sm04/#01/data/udp_dnlk_loss_latency.csv\n",
      "29/72 /home/wmnlab/F/database/2024-03-19/UDP_Bandlock_9S_Phone_BR/sm04/#01/data/udp_uplk_loss_latency.csv\n",
      "29/72 /home/wmnlab/F/database/2024-03-19/UDP_Bandlock_9S_Phone_BR/sm08/#01/data/handover_info_log.csv\n",
      "29/72 /home/wmnlab/F/database/2024-03-19/UDP_Bandlock_9S_Phone_BR/sm08/#01/data/udp_dnlk_loss_latency.csv\n",
      "29/72 /home/wmnlab/F/database/2024-03-19/UDP_Bandlock_9S_Phone_BR/sm08/#01/data/udp_uplk_loss_latency.csv\n"
     ]
    },
    {
     "data": {
      "application/vnd.jupyter.widget-view+json": {
       "model_id": "1ce0f15481e846919c464a24ccf3f9c3",
       "version_major": 2,
       "version_minor": 0
      },
      "text/plain": [
       "  0%|                                                                                                         …"
      ]
     },
     "metadata": {},
     "output_type": "display_data"
    },
    {
     "name": "stdout",
     "output_type": "stream",
     "text": [
      "/home/wmnlab/F/results/20240329_160006be6c_new_dataset_sync/dr_results/dr_20240329_1700005690/20240329_20212200000_5478c0f4b3611008_adjust/\\home\\wmnlab\\F\\database\\2024-03-19\\UDP_Bandlock_9S_Phone_BR\\sm04\\#01\\data\\udp_dnlk_loss_latency\\home\\wmnlab\\F\\database\\2024-03-19\\UDP_Bandlock_9S_Phone_BR\\sm08\\#01\\data\\udp_dnlk_loss_latency.csv\n",
      "30/72 /home/wmnlab/F/database/2024-03-19/UDP_Bandlock_9S_Phone_BR/sm05/#01/data/handover_info_log.csv\n",
      "30/72 /home/wmnlab/F/database/2024-03-19/UDP_Bandlock_9S_Phone_BR/sm05/#01/data/udp_dnlk_loss_latency.csv\n",
      "30/72 /home/wmnlab/F/database/2024-03-19/UDP_Bandlock_9S_Phone_BR/sm05/#01/data/udp_uplk_loss_latency.csv\n",
      "30/72 /home/wmnlab/F/database/2024-03-19/UDP_Bandlock_9S_Phone_BR/sm06/#01/data/handover_info_log.csv\n",
      "30/72 /home/wmnlab/F/database/2024-03-19/UDP_Bandlock_9S_Phone_BR/sm06/#01/data/udp_dnlk_loss_latency.csv\n",
      "30/72 /home/wmnlab/F/database/2024-03-19/UDP_Bandlock_9S_Phone_BR/sm06/#01/data/udp_uplk_loss_latency.csv\n"
     ]
    },
    {
     "data": {
      "application/vnd.jupyter.widget-view+json": {
       "model_id": "1f9e9bbe6da6403a96e54a9451245b5b",
       "version_major": 2,
       "version_minor": 0
      },
      "text/plain": [
       "  0%|                                                                                                         …"
      ]
     },
     "metadata": {},
     "output_type": "display_data"
    },
    {
     "name": "stdout",
     "output_type": "stream",
     "text": [
      "/home/wmnlab/F/results/20240329_160006be6c_new_dataset_sync/dr_results/dr_20240329_1700005690/20240329_20212200000_5478c0f4b3611008_adjust/\\home\\wmnlab\\F\\database\\2024-03-19\\UDP_Bandlock_9S_Phone_BR\\sm05\\#01\\data\\udp_dnlk_loss_latency\\home\\wmnlab\\F\\database\\2024-03-19\\UDP_Bandlock_9S_Phone_BR\\sm06\\#01\\data\\udp_dnlk_loss_latency.csv\n",
      "31/72 /home/wmnlab/F/database/2024-03-19/UDP_Bandlock_9S_Phone_BR/sm05/#01/data/handover_info_log.csv\n",
      "31/72 /home/wmnlab/F/database/2024-03-19/UDP_Bandlock_9S_Phone_BR/sm05/#01/data/udp_dnlk_loss_latency.csv\n",
      "31/72 /home/wmnlab/F/database/2024-03-19/UDP_Bandlock_9S_Phone_BR/sm05/#01/data/udp_uplk_loss_latency.csv\n",
      "31/72 /home/wmnlab/F/database/2024-03-19/UDP_Bandlock_9S_Phone_BR/sm07/#01/data/handover_info_log.csv\n",
      "31/72 /home/wmnlab/F/database/2024-03-19/UDP_Bandlock_9S_Phone_BR/sm07/#01/data/udp_dnlk_loss_latency.csv\n",
      "31/72 /home/wmnlab/F/database/2024-03-19/UDP_Bandlock_9S_Phone_BR/sm07/#01/data/udp_uplk_loss_latency.csv\n"
     ]
    },
    {
     "data": {
      "application/vnd.jupyter.widget-view+json": {
       "model_id": "4d2c59efa5b043c09c27e9a663e70a74",
       "version_major": 2,
       "version_minor": 0
      },
      "text/plain": [
       "  0%|                                                                                                         …"
      ]
     },
     "metadata": {},
     "output_type": "display_data"
    },
    {
     "name": "stdout",
     "output_type": "stream",
     "text": [
      "/home/wmnlab/F/results/20240329_160006be6c_new_dataset_sync/dr_results/dr_20240329_1700005690/20240329_20212200000_5478c0f4b3611008_adjust/\\home\\wmnlab\\F\\database\\2024-03-19\\UDP_Bandlock_9S_Phone_BR\\sm05\\#01\\data\\udp_dnlk_loss_latency\\home\\wmnlab\\F\\database\\2024-03-19\\UDP_Bandlock_9S_Phone_BR\\sm07\\#01\\data\\udp_dnlk_loss_latency.csv\n",
      "32/72 /home/wmnlab/F/database/2024-03-19/UDP_Bandlock_9S_Phone_BR/sm05/#01/data/handover_info_log.csv\n",
      "32/72 /home/wmnlab/F/database/2024-03-19/UDP_Bandlock_9S_Phone_BR/sm05/#01/data/udp_dnlk_loss_latency.csv\n",
      "32/72 /home/wmnlab/F/database/2024-03-19/UDP_Bandlock_9S_Phone_BR/sm05/#01/data/udp_uplk_loss_latency.csv\n",
      "32/72 /home/wmnlab/F/database/2024-03-19/UDP_Bandlock_9S_Phone_BR/sm08/#01/data/handover_info_log.csv\n",
      "32/72 /home/wmnlab/F/database/2024-03-19/UDP_Bandlock_9S_Phone_BR/sm08/#01/data/udp_dnlk_loss_latency.csv\n",
      "32/72 /home/wmnlab/F/database/2024-03-19/UDP_Bandlock_9S_Phone_BR/sm08/#01/data/udp_uplk_loss_latency.csv\n"
     ]
    },
    {
     "data": {
      "application/vnd.jupyter.widget-view+json": {
       "model_id": "e96d0bfa8a69488da5e5a4589b7ebdc6",
       "version_major": 2,
       "version_minor": 0
      },
      "text/plain": [
       "  0%|                                                                                                         …"
      ]
     },
     "metadata": {},
     "output_type": "display_data"
    },
    {
     "name": "stdout",
     "output_type": "stream",
     "text": [
      "/home/wmnlab/F/results/20240329_160006be6c_new_dataset_sync/dr_results/dr_20240329_1700005690/20240329_20212200000_5478c0f4b3611008_adjust/\\home\\wmnlab\\F\\database\\2024-03-19\\UDP_Bandlock_9S_Phone_BR\\sm05\\#01\\data\\udp_dnlk_loss_latency\\home\\wmnlab\\F\\database\\2024-03-19\\UDP_Bandlock_9S_Phone_BR\\sm08\\#01\\data\\udp_dnlk_loss_latency.csv\n",
      "33/72 /home/wmnlab/F/database/2024-03-19/UDP_Bandlock_9S_Phone_BR/sm06/#01/data/handover_info_log.csv\n",
      "33/72 /home/wmnlab/F/database/2024-03-19/UDP_Bandlock_9S_Phone_BR/sm06/#01/data/udp_dnlk_loss_latency.csv\n",
      "33/72 /home/wmnlab/F/database/2024-03-19/UDP_Bandlock_9S_Phone_BR/sm06/#01/data/udp_uplk_loss_latency.csv\n",
      "33/72 /home/wmnlab/F/database/2024-03-19/UDP_Bandlock_9S_Phone_BR/sm07/#01/data/handover_info_log.csv\n",
      "33/72 /home/wmnlab/F/database/2024-03-19/UDP_Bandlock_9S_Phone_BR/sm07/#01/data/udp_dnlk_loss_latency.csv\n",
      "33/72 /home/wmnlab/F/database/2024-03-19/UDP_Bandlock_9S_Phone_BR/sm07/#01/data/udp_uplk_loss_latency.csv\n"
     ]
    },
    {
     "data": {
      "application/vnd.jupyter.widget-view+json": {
       "model_id": "0f35cc753f7f49bd94505c74447fb27f",
       "version_major": 2,
       "version_minor": 0
      },
      "text/plain": [
       "  0%|                                                                                                         …"
      ]
     },
     "metadata": {},
     "output_type": "display_data"
    },
    {
     "name": "stdout",
     "output_type": "stream",
     "text": [
      "/home/wmnlab/F/results/20240329_160006be6c_new_dataset_sync/dr_results/dr_20240329_1700005690/20240329_20212200000_5478c0f4b3611008_adjust/\\home\\wmnlab\\F\\database\\2024-03-19\\UDP_Bandlock_9S_Phone_BR\\sm06\\#01\\data\\udp_dnlk_loss_latency\\home\\wmnlab\\F\\database\\2024-03-19\\UDP_Bandlock_9S_Phone_BR\\sm07\\#01\\data\\udp_dnlk_loss_latency.csv\n",
      "34/72 /home/wmnlab/F/database/2024-03-19/UDP_Bandlock_9S_Phone_BR/sm06/#01/data/handover_info_log.csv\n",
      "34/72 /home/wmnlab/F/database/2024-03-19/UDP_Bandlock_9S_Phone_BR/sm06/#01/data/udp_dnlk_loss_latency.csv\n",
      "34/72 /home/wmnlab/F/database/2024-03-19/UDP_Bandlock_9S_Phone_BR/sm06/#01/data/udp_uplk_loss_latency.csv\n",
      "34/72 /home/wmnlab/F/database/2024-03-19/UDP_Bandlock_9S_Phone_BR/sm08/#01/data/handover_info_log.csv\n",
      "34/72 /home/wmnlab/F/database/2024-03-19/UDP_Bandlock_9S_Phone_BR/sm08/#01/data/udp_dnlk_loss_latency.csv\n",
      "34/72 /home/wmnlab/F/database/2024-03-19/UDP_Bandlock_9S_Phone_BR/sm08/#01/data/udp_uplk_loss_latency.csv\n"
     ]
    },
    {
     "data": {
      "application/vnd.jupyter.widget-view+json": {
       "model_id": "bf542a2affb24bbe8cde2a8c235feacd",
       "version_major": 2,
       "version_minor": 0
      },
      "text/plain": [
       "  0%|                                                                                                         …"
      ]
     },
     "metadata": {},
     "output_type": "display_data"
    },
    {
     "name": "stdout",
     "output_type": "stream",
     "text": [
      "/home/wmnlab/F/results/20240329_160006be6c_new_dataset_sync/dr_results/dr_20240329_1700005690/20240329_20212200000_5478c0f4b3611008_adjust/\\home\\wmnlab\\F\\database\\2024-03-19\\UDP_Bandlock_9S_Phone_BR\\sm06\\#01\\data\\udp_dnlk_loss_latency\\home\\wmnlab\\F\\database\\2024-03-19\\UDP_Bandlock_9S_Phone_BR\\sm08\\#01\\data\\udp_dnlk_loss_latency.csv\n",
      "35/72 /home/wmnlab/F/database/2024-03-19/UDP_Bandlock_9S_Phone_BR/sm07/#01/data/handover_info_log.csv\n",
      "35/72 /home/wmnlab/F/database/2024-03-19/UDP_Bandlock_9S_Phone_BR/sm07/#01/data/udp_dnlk_loss_latency.csv\n",
      "35/72 /home/wmnlab/F/database/2024-03-19/UDP_Bandlock_9S_Phone_BR/sm07/#01/data/udp_uplk_loss_latency.csv\n",
      "35/72 /home/wmnlab/F/database/2024-03-19/UDP_Bandlock_9S_Phone_BR/sm08/#01/data/handover_info_log.csv\n",
      "35/72 /home/wmnlab/F/database/2024-03-19/UDP_Bandlock_9S_Phone_BR/sm08/#01/data/udp_dnlk_loss_latency.csv\n",
      "35/72 /home/wmnlab/F/database/2024-03-19/UDP_Bandlock_9S_Phone_BR/sm08/#01/data/udp_uplk_loss_latency.csv\n"
     ]
    },
    {
     "data": {
      "application/vnd.jupyter.widget-view+json": {
       "model_id": "4fffadd57a1e42f5accb1d8139e464aa",
       "version_major": 2,
       "version_minor": 0
      },
      "text/plain": [
       "  0%|                                                                                                         …"
      ]
     },
     "metadata": {},
     "output_type": "display_data"
    },
    {
     "name": "stdout",
     "output_type": "stream",
     "text": [
      "/home/wmnlab/F/results/20240329_160006be6c_new_dataset_sync/dr_results/dr_20240329_1700005690/20240329_20212200000_5478c0f4b3611008_adjust/\\home\\wmnlab\\F\\database\\2024-03-19\\UDP_Bandlock_9S_Phone_BR\\sm07\\#01\\data\\udp_dnlk_loss_latency\\home\\wmnlab\\F\\database\\2024-03-19\\UDP_Bandlock_9S_Phone_BR\\sm08\\#01\\data\\udp_dnlk_loss_latency.csv\n",
      "36/72 /home/wmnlab/F/database/2024-03-19/UDP_Bandlock_9S_Phone_BR/sm00/#02/data/handover_info_log.csv\n",
      "36/72 /home/wmnlab/F/database/2024-03-19/UDP_Bandlock_9S_Phone_BR/sm00/#02/data/udp_dnlk_loss_latency.csv\n",
      "36/72 /home/wmnlab/F/database/2024-03-19/UDP_Bandlock_9S_Phone_BR/sm00/#02/data/udp_uplk_loss_latency.csv\n",
      "36/72 /home/wmnlab/F/database/2024-03-19/UDP_Bandlock_9S_Phone_BR/sm01/#02/data/handover_info_log.csv\n",
      "36/72 /home/wmnlab/F/database/2024-03-19/UDP_Bandlock_9S_Phone_BR/sm01/#02/data/udp_dnlk_loss_latency.csv\n",
      "36/72 /home/wmnlab/F/database/2024-03-19/UDP_Bandlock_9S_Phone_BR/sm01/#02/data/udp_uplk_loss_latency.csv\n"
     ]
    },
    {
     "data": {
      "application/vnd.jupyter.widget-view+json": {
       "model_id": "bd374266b45a4202a8221fd370d391d8",
       "version_major": 2,
       "version_minor": 0
      },
      "text/plain": [
       "  0%|                                                                                                         …"
      ]
     },
     "metadata": {},
     "output_type": "display_data"
    },
    {
     "name": "stdout",
     "output_type": "stream",
     "text": [
      "/home/wmnlab/F/results/20240329_160006be6c_new_dataset_sync/dr_results/dr_20240329_1700005690/20240329_20212200000_5478c0f4b3611008_adjust/\\home\\wmnlab\\F\\database\\2024-03-19\\UDP_Bandlock_9S_Phone_BR\\sm00\\#02\\data\\udp_dnlk_loss_latency\\home\\wmnlab\\F\\database\\2024-03-19\\UDP_Bandlock_9S_Phone_BR\\sm01\\#02\\data\\udp_dnlk_loss_latency.csv\n",
      "37/72 /home/wmnlab/F/database/2024-03-19/UDP_Bandlock_9S_Phone_BR/sm00/#02/data/handover_info_log.csv\n",
      "37/72 /home/wmnlab/F/database/2024-03-19/UDP_Bandlock_9S_Phone_BR/sm00/#02/data/udp_dnlk_loss_latency.csv\n",
      "37/72 /home/wmnlab/F/database/2024-03-19/UDP_Bandlock_9S_Phone_BR/sm00/#02/data/udp_uplk_loss_latency.csv\n",
      "37/72 /home/wmnlab/F/database/2024-03-19/UDP_Bandlock_9S_Phone_BR/sm02/#02/data/handover_info_log.csv\n",
      "37/72 /home/wmnlab/F/database/2024-03-19/UDP_Bandlock_9S_Phone_BR/sm02/#02/data/udp_dnlk_loss_latency.csv\n",
      "37/72 /home/wmnlab/F/database/2024-03-19/UDP_Bandlock_9S_Phone_BR/sm02/#02/data/udp_uplk_loss_latency.csv\n"
     ]
    },
    {
     "data": {
      "application/vnd.jupyter.widget-view+json": {
       "model_id": "a10a32f2b3f74c2189d09ac2fbffd2be",
       "version_major": 2,
       "version_minor": 0
      },
      "text/plain": [
       "  0%|                                                                                                         …"
      ]
     },
     "metadata": {},
     "output_type": "display_data"
    },
    {
     "name": "stdout",
     "output_type": "stream",
     "text": [
      "/home/wmnlab/F/results/20240329_160006be6c_new_dataset_sync/dr_results/dr_20240329_1700005690/20240329_20212200000_5478c0f4b3611008_adjust/\\home\\wmnlab\\F\\database\\2024-03-19\\UDP_Bandlock_9S_Phone_BR\\sm00\\#02\\data\\udp_dnlk_loss_latency\\home\\wmnlab\\F\\database\\2024-03-19\\UDP_Bandlock_9S_Phone_BR\\sm02\\#02\\data\\udp_dnlk_loss_latency.csv\n",
      "38/72 /home/wmnlab/F/database/2024-03-19/UDP_Bandlock_9S_Phone_BR/sm00/#02/data/handover_info_log.csv\n",
      "38/72 /home/wmnlab/F/database/2024-03-19/UDP_Bandlock_9S_Phone_BR/sm00/#02/data/udp_dnlk_loss_latency.csv\n",
      "38/72 /home/wmnlab/F/database/2024-03-19/UDP_Bandlock_9S_Phone_BR/sm00/#02/data/udp_uplk_loss_latency.csv\n",
      "38/72 /home/wmnlab/F/database/2024-03-19/UDP_Bandlock_9S_Phone_BR/sm03/#02/data/handover_info_log.csv\n",
      "38/72 /home/wmnlab/F/database/2024-03-19/UDP_Bandlock_9S_Phone_BR/sm03/#02/data/udp_dnlk_loss_latency.csv\n",
      "38/72 /home/wmnlab/F/database/2024-03-19/UDP_Bandlock_9S_Phone_BR/sm03/#02/data/udp_uplk_loss_latency.csv\n"
     ]
    },
    {
     "data": {
      "application/vnd.jupyter.widget-view+json": {
       "model_id": "6b6f2066fdce41818b13d05476bb460f",
       "version_major": 2,
       "version_minor": 0
      },
      "text/plain": [
       "  0%|                                                                                                         …"
      ]
     },
     "metadata": {},
     "output_type": "display_data"
    },
    {
     "name": "stdout",
     "output_type": "stream",
     "text": [
      "/home/wmnlab/F/results/20240329_160006be6c_new_dataset_sync/dr_results/dr_20240329_1700005690/20240329_20212200000_5478c0f4b3611008_adjust/\\home\\wmnlab\\F\\database\\2024-03-19\\UDP_Bandlock_9S_Phone_BR\\sm00\\#02\\data\\udp_dnlk_loss_latency\\home\\wmnlab\\F\\database\\2024-03-19\\UDP_Bandlock_9S_Phone_BR\\sm03\\#02\\data\\udp_dnlk_loss_latency.csv\n",
      "39/72 /home/wmnlab/F/database/2024-03-19/UDP_Bandlock_9S_Phone_BR/sm00/#02/data/handover_info_log.csv\n",
      "39/72 /home/wmnlab/F/database/2024-03-19/UDP_Bandlock_9S_Phone_BR/sm00/#02/data/udp_dnlk_loss_latency.csv\n",
      "39/72 /home/wmnlab/F/database/2024-03-19/UDP_Bandlock_9S_Phone_BR/sm00/#02/data/udp_uplk_loss_latency.csv\n",
      "39/72 /home/wmnlab/F/database/2024-03-19/UDP_Bandlock_9S_Phone_BR/sm04/#02/data/handover_info_log.csv\n",
      "39/72 /home/wmnlab/F/database/2024-03-19/UDP_Bandlock_9S_Phone_BR/sm04/#02/data/udp_dnlk_loss_latency.csv\n",
      "39/72 /home/wmnlab/F/database/2024-03-19/UDP_Bandlock_9S_Phone_BR/sm04/#02/data/udp_uplk_loss_latency.csv\n"
     ]
    },
    {
     "data": {
      "application/vnd.jupyter.widget-view+json": {
       "model_id": "7f44cc18c8864c558d6d6284d23dcd6c",
       "version_major": 2,
       "version_minor": 0
      },
      "text/plain": [
       "  0%|                                                                                                         …"
      ]
     },
     "metadata": {},
     "output_type": "display_data"
    },
    {
     "name": "stdout",
     "output_type": "stream",
     "text": [
      "/home/wmnlab/F/results/20240329_160006be6c_new_dataset_sync/dr_results/dr_20240329_1700005690/20240329_20212200000_5478c0f4b3611008_adjust/\\home\\wmnlab\\F\\database\\2024-03-19\\UDP_Bandlock_9S_Phone_BR\\sm00\\#02\\data\\udp_dnlk_loss_latency\\home\\wmnlab\\F\\database\\2024-03-19\\UDP_Bandlock_9S_Phone_BR\\sm04\\#02\\data\\udp_dnlk_loss_latency.csv\n",
      "40/72 /home/wmnlab/F/database/2024-03-19/UDP_Bandlock_9S_Phone_BR/sm00/#02/data/handover_info_log.csv\n",
      "40/72 /home/wmnlab/F/database/2024-03-19/UDP_Bandlock_9S_Phone_BR/sm00/#02/data/udp_dnlk_loss_latency.csv\n",
      "40/72 /home/wmnlab/F/database/2024-03-19/UDP_Bandlock_9S_Phone_BR/sm00/#02/data/udp_uplk_loss_latency.csv\n",
      "40/72 /home/wmnlab/F/database/2024-03-19/UDP_Bandlock_9S_Phone_BR/sm05/#02/data/handover_info_log.csv\n",
      "40/72 /home/wmnlab/F/database/2024-03-19/UDP_Bandlock_9S_Phone_BR/sm05/#02/data/udp_dnlk_loss_latency.csv\n",
      "40/72 /home/wmnlab/F/database/2024-03-19/UDP_Bandlock_9S_Phone_BR/sm05/#02/data/udp_uplk_loss_latency.csv\n"
     ]
    },
    {
     "data": {
      "application/vnd.jupyter.widget-view+json": {
       "model_id": "088a87e79d0e4725b2da189067a70539",
       "version_major": 2,
       "version_minor": 0
      },
      "text/plain": [
       "  0%|                                                                                                         …"
      ]
     },
     "metadata": {},
     "output_type": "display_data"
    },
    {
     "name": "stdout",
     "output_type": "stream",
     "text": [
      "/home/wmnlab/F/results/20240329_160006be6c_new_dataset_sync/dr_results/dr_20240329_1700005690/20240329_20212200000_5478c0f4b3611008_adjust/\\home\\wmnlab\\F\\database\\2024-03-19\\UDP_Bandlock_9S_Phone_BR\\sm00\\#02\\data\\udp_dnlk_loss_latency\\home\\wmnlab\\F\\database\\2024-03-19\\UDP_Bandlock_9S_Phone_BR\\sm05\\#02\\data\\udp_dnlk_loss_latency.csv\n",
      "41/72 /home/wmnlab/F/database/2024-03-19/UDP_Bandlock_9S_Phone_BR/sm00/#02/data/handover_info_log.csv\n",
      "41/72 /home/wmnlab/F/database/2024-03-19/UDP_Bandlock_9S_Phone_BR/sm00/#02/data/udp_dnlk_loss_latency.csv\n",
      "41/72 /home/wmnlab/F/database/2024-03-19/UDP_Bandlock_9S_Phone_BR/sm00/#02/data/udp_uplk_loss_latency.csv\n",
      "41/72 /home/wmnlab/F/database/2024-03-19/UDP_Bandlock_9S_Phone_BR/sm06/#02/data/handover_info_log.csv\n",
      "41/72 /home/wmnlab/F/database/2024-03-19/UDP_Bandlock_9S_Phone_BR/sm06/#02/data/udp_dnlk_loss_latency.csv\n",
      "41/72 /home/wmnlab/F/database/2024-03-19/UDP_Bandlock_9S_Phone_BR/sm06/#02/data/udp_uplk_loss_latency.csv\n"
     ]
    },
    {
     "data": {
      "application/vnd.jupyter.widget-view+json": {
       "model_id": "7968906edd9a4f30ac2908d6cac3a3f8",
       "version_major": 2,
       "version_minor": 0
      },
      "text/plain": [
       "  0%|                                                                                                         …"
      ]
     },
     "metadata": {},
     "output_type": "display_data"
    },
    {
     "name": "stdout",
     "output_type": "stream",
     "text": [
      "/home/wmnlab/F/results/20240329_160006be6c_new_dataset_sync/dr_results/dr_20240329_1700005690/20240329_20212200000_5478c0f4b3611008_adjust/\\home\\wmnlab\\F\\database\\2024-03-19\\UDP_Bandlock_9S_Phone_BR\\sm00\\#02\\data\\udp_dnlk_loss_latency\\home\\wmnlab\\F\\database\\2024-03-19\\UDP_Bandlock_9S_Phone_BR\\sm06\\#02\\data\\udp_dnlk_loss_latency.csv\n",
      "42/72 /home/wmnlab/F/database/2024-03-19/UDP_Bandlock_9S_Phone_BR/sm00/#02/data/handover_info_log.csv\n",
      "42/72 /home/wmnlab/F/database/2024-03-19/UDP_Bandlock_9S_Phone_BR/sm00/#02/data/udp_dnlk_loss_latency.csv\n",
      "42/72 /home/wmnlab/F/database/2024-03-19/UDP_Bandlock_9S_Phone_BR/sm00/#02/data/udp_uplk_loss_latency.csv\n",
      "42/72 /home/wmnlab/F/database/2024-03-19/UDP_Bandlock_9S_Phone_BR/sm07/#02/data/handover_info_log.csv\n",
      "42/72 /home/wmnlab/F/database/2024-03-19/UDP_Bandlock_9S_Phone_BR/sm07/#02/data/udp_dnlk_loss_latency.csv\n",
      "42/72 /home/wmnlab/F/database/2024-03-19/UDP_Bandlock_9S_Phone_BR/sm07/#02/data/udp_uplk_loss_latency.csv\n"
     ]
    },
    {
     "data": {
      "application/vnd.jupyter.widget-view+json": {
       "model_id": "57e48680bfbb436a97ff1e01138fc5fe",
       "version_major": 2,
       "version_minor": 0
      },
      "text/plain": [
       "  0%|                                                                                                         …"
      ]
     },
     "metadata": {},
     "output_type": "display_data"
    },
    {
     "name": "stdout",
     "output_type": "stream",
     "text": [
      "/home/wmnlab/F/results/20240329_160006be6c_new_dataset_sync/dr_results/dr_20240329_1700005690/20240329_20212200000_5478c0f4b3611008_adjust/\\home\\wmnlab\\F\\database\\2024-03-19\\UDP_Bandlock_9S_Phone_BR\\sm00\\#02\\data\\udp_dnlk_loss_latency\\home\\wmnlab\\F\\database\\2024-03-19\\UDP_Bandlock_9S_Phone_BR\\sm07\\#02\\data\\udp_dnlk_loss_latency.csv\n",
      "43/72 /home/wmnlab/F/database/2024-03-19/UDP_Bandlock_9S_Phone_BR/sm00/#02/data/handover_info_log.csv\n",
      "43/72 /home/wmnlab/F/database/2024-03-19/UDP_Bandlock_9S_Phone_BR/sm00/#02/data/udp_dnlk_loss_latency.csv\n",
      "43/72 /home/wmnlab/F/database/2024-03-19/UDP_Bandlock_9S_Phone_BR/sm00/#02/data/udp_uplk_loss_latency.csv\n",
      "43/72 /home/wmnlab/F/database/2024-03-19/UDP_Bandlock_9S_Phone_BR/sm08/#02/data/handover_info_log.csv\n",
      "43/72 /home/wmnlab/F/database/2024-03-19/UDP_Bandlock_9S_Phone_BR/sm08/#02/data/udp_dnlk_loss_latency.csv\n",
      "43/72 /home/wmnlab/F/database/2024-03-19/UDP_Bandlock_9S_Phone_BR/sm08/#02/data/udp_uplk_loss_latency.csv\n"
     ]
    },
    {
     "data": {
      "application/vnd.jupyter.widget-view+json": {
       "model_id": "6306fd81ab0943ce886312469697607f",
       "version_major": 2,
       "version_minor": 0
      },
      "text/plain": [
       "  0%|                                                                                                         …"
      ]
     },
     "metadata": {},
     "output_type": "display_data"
    },
    {
     "name": "stdout",
     "output_type": "stream",
     "text": [
      "/home/wmnlab/F/results/20240329_160006be6c_new_dataset_sync/dr_results/dr_20240329_1700005690/20240329_20212200000_5478c0f4b3611008_adjust/\\home\\wmnlab\\F\\database\\2024-03-19\\UDP_Bandlock_9S_Phone_BR\\sm00\\#02\\data\\udp_dnlk_loss_latency\\home\\wmnlab\\F\\database\\2024-03-19\\UDP_Bandlock_9S_Phone_BR\\sm08\\#02\\data\\udp_dnlk_loss_latency.csv\n",
      "44/72 /home/wmnlab/F/database/2024-03-19/UDP_Bandlock_9S_Phone_BR/sm01/#02/data/handover_info_log.csv\n",
      "44/72 /home/wmnlab/F/database/2024-03-19/UDP_Bandlock_9S_Phone_BR/sm01/#02/data/udp_dnlk_loss_latency.csv\n",
      "44/72 /home/wmnlab/F/database/2024-03-19/UDP_Bandlock_9S_Phone_BR/sm01/#02/data/udp_uplk_loss_latency.csv\n",
      "44/72 /home/wmnlab/F/database/2024-03-19/UDP_Bandlock_9S_Phone_BR/sm02/#02/data/handover_info_log.csv\n",
      "44/72 /home/wmnlab/F/database/2024-03-19/UDP_Bandlock_9S_Phone_BR/sm02/#02/data/udp_dnlk_loss_latency.csv\n",
      "44/72 /home/wmnlab/F/database/2024-03-19/UDP_Bandlock_9S_Phone_BR/sm02/#02/data/udp_uplk_loss_latency.csv\n"
     ]
    },
    {
     "data": {
      "application/vnd.jupyter.widget-view+json": {
       "model_id": "ad4d62f09fb9425990b279b707ef7046",
       "version_major": 2,
       "version_minor": 0
      },
      "text/plain": [
       "  0%|                                                                                                         …"
      ]
     },
     "metadata": {},
     "output_type": "display_data"
    },
    {
     "name": "stdout",
     "output_type": "stream",
     "text": [
      "/home/wmnlab/F/results/20240329_160006be6c_new_dataset_sync/dr_results/dr_20240329_1700005690/20240329_20212200000_5478c0f4b3611008_adjust/\\home\\wmnlab\\F\\database\\2024-03-19\\UDP_Bandlock_9S_Phone_BR\\sm01\\#02\\data\\udp_dnlk_loss_latency\\home\\wmnlab\\F\\database\\2024-03-19\\UDP_Bandlock_9S_Phone_BR\\sm02\\#02\\data\\udp_dnlk_loss_latency.csv\n",
      "45/72 /home/wmnlab/F/database/2024-03-19/UDP_Bandlock_9S_Phone_BR/sm01/#02/data/handover_info_log.csv\n",
      "45/72 /home/wmnlab/F/database/2024-03-19/UDP_Bandlock_9S_Phone_BR/sm01/#02/data/udp_dnlk_loss_latency.csv\n",
      "45/72 /home/wmnlab/F/database/2024-03-19/UDP_Bandlock_9S_Phone_BR/sm01/#02/data/udp_uplk_loss_latency.csv\n",
      "45/72 /home/wmnlab/F/database/2024-03-19/UDP_Bandlock_9S_Phone_BR/sm03/#02/data/handover_info_log.csv\n",
      "45/72 /home/wmnlab/F/database/2024-03-19/UDP_Bandlock_9S_Phone_BR/sm03/#02/data/udp_dnlk_loss_latency.csv\n",
      "45/72 /home/wmnlab/F/database/2024-03-19/UDP_Bandlock_9S_Phone_BR/sm03/#02/data/udp_uplk_loss_latency.csv\n"
     ]
    },
    {
     "data": {
      "application/vnd.jupyter.widget-view+json": {
       "model_id": "6a9fead031d94997b0fa2addd45cd102",
       "version_major": 2,
       "version_minor": 0
      },
      "text/plain": [
       "  0%|                                                                                                         …"
      ]
     },
     "metadata": {},
     "output_type": "display_data"
    },
    {
     "name": "stdout",
     "output_type": "stream",
     "text": [
      "/home/wmnlab/F/results/20240329_160006be6c_new_dataset_sync/dr_results/dr_20240329_1700005690/20240329_20212200000_5478c0f4b3611008_adjust/\\home\\wmnlab\\F\\database\\2024-03-19\\UDP_Bandlock_9S_Phone_BR\\sm01\\#02\\data\\udp_dnlk_loss_latency\\home\\wmnlab\\F\\database\\2024-03-19\\UDP_Bandlock_9S_Phone_BR\\sm03\\#02\\data\\udp_dnlk_loss_latency.csv\n",
      "46/72 /home/wmnlab/F/database/2024-03-19/UDP_Bandlock_9S_Phone_BR/sm01/#02/data/handover_info_log.csv\n",
      "46/72 /home/wmnlab/F/database/2024-03-19/UDP_Bandlock_9S_Phone_BR/sm01/#02/data/udp_dnlk_loss_latency.csv\n",
      "46/72 /home/wmnlab/F/database/2024-03-19/UDP_Bandlock_9S_Phone_BR/sm01/#02/data/udp_uplk_loss_latency.csv\n",
      "46/72 /home/wmnlab/F/database/2024-03-19/UDP_Bandlock_9S_Phone_BR/sm04/#02/data/handover_info_log.csv\n",
      "46/72 /home/wmnlab/F/database/2024-03-19/UDP_Bandlock_9S_Phone_BR/sm04/#02/data/udp_dnlk_loss_latency.csv\n",
      "46/72 /home/wmnlab/F/database/2024-03-19/UDP_Bandlock_9S_Phone_BR/sm04/#02/data/udp_uplk_loss_latency.csv\n"
     ]
    },
    {
     "data": {
      "application/vnd.jupyter.widget-view+json": {
       "model_id": "a927a2b3e1b64546a88a0e8c223a2bb9",
       "version_major": 2,
       "version_minor": 0
      },
      "text/plain": [
       "  0%|                                                                                                         …"
      ]
     },
     "metadata": {},
     "output_type": "display_data"
    },
    {
     "name": "stdout",
     "output_type": "stream",
     "text": [
      "/home/wmnlab/F/results/20240329_160006be6c_new_dataset_sync/dr_results/dr_20240329_1700005690/20240329_20212200000_5478c0f4b3611008_adjust/\\home\\wmnlab\\F\\database\\2024-03-19\\UDP_Bandlock_9S_Phone_BR\\sm01\\#02\\data\\udp_dnlk_loss_latency\\home\\wmnlab\\F\\database\\2024-03-19\\UDP_Bandlock_9S_Phone_BR\\sm04\\#02\\data\\udp_dnlk_loss_latency.csv\n",
      "47/72 /home/wmnlab/F/database/2024-03-19/UDP_Bandlock_9S_Phone_BR/sm01/#02/data/handover_info_log.csv\n",
      "47/72 /home/wmnlab/F/database/2024-03-19/UDP_Bandlock_9S_Phone_BR/sm01/#02/data/udp_dnlk_loss_latency.csv\n",
      "47/72 /home/wmnlab/F/database/2024-03-19/UDP_Bandlock_9S_Phone_BR/sm01/#02/data/udp_uplk_loss_latency.csv\n",
      "47/72 /home/wmnlab/F/database/2024-03-19/UDP_Bandlock_9S_Phone_BR/sm05/#02/data/handover_info_log.csv\n",
      "47/72 /home/wmnlab/F/database/2024-03-19/UDP_Bandlock_9S_Phone_BR/sm05/#02/data/udp_dnlk_loss_latency.csv\n",
      "47/72 /home/wmnlab/F/database/2024-03-19/UDP_Bandlock_9S_Phone_BR/sm05/#02/data/udp_uplk_loss_latency.csv\n"
     ]
    },
    {
     "data": {
      "application/vnd.jupyter.widget-view+json": {
       "model_id": "935be6c1c1c94893bdc0e42855f41394",
       "version_major": 2,
       "version_minor": 0
      },
      "text/plain": [
       "  0%|                                                                                                         …"
      ]
     },
     "metadata": {},
     "output_type": "display_data"
    },
    {
     "name": "stdout",
     "output_type": "stream",
     "text": [
      "/home/wmnlab/F/results/20240329_160006be6c_new_dataset_sync/dr_results/dr_20240329_1700005690/20240329_20212200000_5478c0f4b3611008_adjust/\\home\\wmnlab\\F\\database\\2024-03-19\\UDP_Bandlock_9S_Phone_BR\\sm01\\#02\\data\\udp_dnlk_loss_latency\\home\\wmnlab\\F\\database\\2024-03-19\\UDP_Bandlock_9S_Phone_BR\\sm05\\#02\\data\\udp_dnlk_loss_latency.csv\n",
      "48/72 /home/wmnlab/F/database/2024-03-19/UDP_Bandlock_9S_Phone_BR/sm01/#02/data/handover_info_log.csv\n",
      "48/72 /home/wmnlab/F/database/2024-03-19/UDP_Bandlock_9S_Phone_BR/sm01/#02/data/udp_dnlk_loss_latency.csv\n",
      "48/72 /home/wmnlab/F/database/2024-03-19/UDP_Bandlock_9S_Phone_BR/sm01/#02/data/udp_uplk_loss_latency.csv\n",
      "48/72 /home/wmnlab/F/database/2024-03-19/UDP_Bandlock_9S_Phone_BR/sm06/#02/data/handover_info_log.csv\n",
      "48/72 /home/wmnlab/F/database/2024-03-19/UDP_Bandlock_9S_Phone_BR/sm06/#02/data/udp_dnlk_loss_latency.csv\n",
      "48/72 /home/wmnlab/F/database/2024-03-19/UDP_Bandlock_9S_Phone_BR/sm06/#02/data/udp_uplk_loss_latency.csv\n"
     ]
    },
    {
     "data": {
      "application/vnd.jupyter.widget-view+json": {
       "model_id": "3a2643d0aa7048f3887ff9681c46eb0e",
       "version_major": 2,
       "version_minor": 0
      },
      "text/plain": [
       "  0%|                                                                                                         …"
      ]
     },
     "metadata": {},
     "output_type": "display_data"
    },
    {
     "name": "stdout",
     "output_type": "stream",
     "text": [
      "/home/wmnlab/F/results/20240329_160006be6c_new_dataset_sync/dr_results/dr_20240329_1700005690/20240329_20212200000_5478c0f4b3611008_adjust/\\home\\wmnlab\\F\\database\\2024-03-19\\UDP_Bandlock_9S_Phone_BR\\sm01\\#02\\data\\udp_dnlk_loss_latency\\home\\wmnlab\\F\\database\\2024-03-19\\UDP_Bandlock_9S_Phone_BR\\sm06\\#02\\data\\udp_dnlk_loss_latency.csv\n",
      "49/72 /home/wmnlab/F/database/2024-03-19/UDP_Bandlock_9S_Phone_BR/sm01/#02/data/handover_info_log.csv\n",
      "49/72 /home/wmnlab/F/database/2024-03-19/UDP_Bandlock_9S_Phone_BR/sm01/#02/data/udp_dnlk_loss_latency.csv\n",
      "49/72 /home/wmnlab/F/database/2024-03-19/UDP_Bandlock_9S_Phone_BR/sm01/#02/data/udp_uplk_loss_latency.csv\n",
      "49/72 /home/wmnlab/F/database/2024-03-19/UDP_Bandlock_9S_Phone_BR/sm07/#02/data/handover_info_log.csv\n",
      "49/72 /home/wmnlab/F/database/2024-03-19/UDP_Bandlock_9S_Phone_BR/sm07/#02/data/udp_dnlk_loss_latency.csv\n",
      "49/72 /home/wmnlab/F/database/2024-03-19/UDP_Bandlock_9S_Phone_BR/sm07/#02/data/udp_uplk_loss_latency.csv\n"
     ]
    },
    {
     "data": {
      "application/vnd.jupyter.widget-view+json": {
       "model_id": "0e42de1962924a00b650765b5d56adbe",
       "version_major": 2,
       "version_minor": 0
      },
      "text/plain": [
       "  0%|                                                                                                         …"
      ]
     },
     "metadata": {},
     "output_type": "display_data"
    },
    {
     "name": "stdout",
     "output_type": "stream",
     "text": [
      "/home/wmnlab/F/results/20240329_160006be6c_new_dataset_sync/dr_results/dr_20240329_1700005690/20240329_20212200000_5478c0f4b3611008_adjust/\\home\\wmnlab\\F\\database\\2024-03-19\\UDP_Bandlock_9S_Phone_BR\\sm01\\#02\\data\\udp_dnlk_loss_latency\\home\\wmnlab\\F\\database\\2024-03-19\\UDP_Bandlock_9S_Phone_BR\\sm07\\#02\\data\\udp_dnlk_loss_latency.csv\n",
      "50/72 /home/wmnlab/F/database/2024-03-19/UDP_Bandlock_9S_Phone_BR/sm01/#02/data/handover_info_log.csv\n",
      "50/72 /home/wmnlab/F/database/2024-03-19/UDP_Bandlock_9S_Phone_BR/sm01/#02/data/udp_dnlk_loss_latency.csv\n",
      "50/72 /home/wmnlab/F/database/2024-03-19/UDP_Bandlock_9S_Phone_BR/sm01/#02/data/udp_uplk_loss_latency.csv\n",
      "50/72 /home/wmnlab/F/database/2024-03-19/UDP_Bandlock_9S_Phone_BR/sm08/#02/data/handover_info_log.csv\n",
      "50/72 /home/wmnlab/F/database/2024-03-19/UDP_Bandlock_9S_Phone_BR/sm08/#02/data/udp_dnlk_loss_latency.csv\n",
      "50/72 /home/wmnlab/F/database/2024-03-19/UDP_Bandlock_9S_Phone_BR/sm08/#02/data/udp_uplk_loss_latency.csv\n"
     ]
    },
    {
     "data": {
      "application/vnd.jupyter.widget-view+json": {
       "model_id": "351351342b8a444abaf92d706abc625f",
       "version_major": 2,
       "version_minor": 0
      },
      "text/plain": [
       "  0%|                                                                                                         …"
      ]
     },
     "metadata": {},
     "output_type": "display_data"
    },
    {
     "name": "stdout",
     "output_type": "stream",
     "text": [
      "/home/wmnlab/F/results/20240329_160006be6c_new_dataset_sync/dr_results/dr_20240329_1700005690/20240329_20212200000_5478c0f4b3611008_adjust/\\home\\wmnlab\\F\\database\\2024-03-19\\UDP_Bandlock_9S_Phone_BR\\sm01\\#02\\data\\udp_dnlk_loss_latency\\home\\wmnlab\\F\\database\\2024-03-19\\UDP_Bandlock_9S_Phone_BR\\sm08\\#02\\data\\udp_dnlk_loss_latency.csv\n",
      "51/72 /home/wmnlab/F/database/2024-03-19/UDP_Bandlock_9S_Phone_BR/sm02/#02/data/handover_info_log.csv\n",
      "51/72 /home/wmnlab/F/database/2024-03-19/UDP_Bandlock_9S_Phone_BR/sm02/#02/data/udp_dnlk_loss_latency.csv\n",
      "51/72 /home/wmnlab/F/database/2024-03-19/UDP_Bandlock_9S_Phone_BR/sm02/#02/data/udp_uplk_loss_latency.csv\n",
      "51/72 /home/wmnlab/F/database/2024-03-19/UDP_Bandlock_9S_Phone_BR/sm03/#02/data/handover_info_log.csv\n",
      "51/72 /home/wmnlab/F/database/2024-03-19/UDP_Bandlock_9S_Phone_BR/sm03/#02/data/udp_dnlk_loss_latency.csv\n",
      "51/72 /home/wmnlab/F/database/2024-03-19/UDP_Bandlock_9S_Phone_BR/sm03/#02/data/udp_uplk_loss_latency.csv\n"
     ]
    },
    {
     "data": {
      "application/vnd.jupyter.widget-view+json": {
       "model_id": "64c7f68dd97a4c65b041e1bb25a62751",
       "version_major": 2,
       "version_minor": 0
      },
      "text/plain": [
       "  0%|                                                                                                         …"
      ]
     },
     "metadata": {},
     "output_type": "display_data"
    },
    {
     "name": "stdout",
     "output_type": "stream",
     "text": [
      "/home/wmnlab/F/results/20240329_160006be6c_new_dataset_sync/dr_results/dr_20240329_1700005690/20240329_20212200000_5478c0f4b3611008_adjust/\\home\\wmnlab\\F\\database\\2024-03-19\\UDP_Bandlock_9S_Phone_BR\\sm02\\#02\\data\\udp_dnlk_loss_latency\\home\\wmnlab\\F\\database\\2024-03-19\\UDP_Bandlock_9S_Phone_BR\\sm03\\#02\\data\\udp_dnlk_loss_latency.csv\n",
      "52/72 /home/wmnlab/F/database/2024-03-19/UDP_Bandlock_9S_Phone_BR/sm02/#02/data/handover_info_log.csv\n",
      "52/72 /home/wmnlab/F/database/2024-03-19/UDP_Bandlock_9S_Phone_BR/sm02/#02/data/udp_dnlk_loss_latency.csv\n",
      "52/72 /home/wmnlab/F/database/2024-03-19/UDP_Bandlock_9S_Phone_BR/sm02/#02/data/udp_uplk_loss_latency.csv\n",
      "52/72 /home/wmnlab/F/database/2024-03-19/UDP_Bandlock_9S_Phone_BR/sm04/#02/data/handover_info_log.csv\n",
      "52/72 /home/wmnlab/F/database/2024-03-19/UDP_Bandlock_9S_Phone_BR/sm04/#02/data/udp_dnlk_loss_latency.csv\n",
      "52/72 /home/wmnlab/F/database/2024-03-19/UDP_Bandlock_9S_Phone_BR/sm04/#02/data/udp_uplk_loss_latency.csv\n"
     ]
    },
    {
     "data": {
      "application/vnd.jupyter.widget-view+json": {
       "model_id": "e34fb6190d77437d8bbc2bbd96ac606d",
       "version_major": 2,
       "version_minor": 0
      },
      "text/plain": [
       "  0%|                                                                                                         …"
      ]
     },
     "metadata": {},
     "output_type": "display_data"
    },
    {
     "name": "stdout",
     "output_type": "stream",
     "text": [
      "/home/wmnlab/F/results/20240329_160006be6c_new_dataset_sync/dr_results/dr_20240329_1700005690/20240329_20212200000_5478c0f4b3611008_adjust/\\home\\wmnlab\\F\\database\\2024-03-19\\UDP_Bandlock_9S_Phone_BR\\sm02\\#02\\data\\udp_dnlk_loss_latency\\home\\wmnlab\\F\\database\\2024-03-19\\UDP_Bandlock_9S_Phone_BR\\sm04\\#02\\data\\udp_dnlk_loss_latency.csv\n",
      "53/72 /home/wmnlab/F/database/2024-03-19/UDP_Bandlock_9S_Phone_BR/sm02/#02/data/handover_info_log.csv\n",
      "53/72 /home/wmnlab/F/database/2024-03-19/UDP_Bandlock_9S_Phone_BR/sm02/#02/data/udp_dnlk_loss_latency.csv\n",
      "53/72 /home/wmnlab/F/database/2024-03-19/UDP_Bandlock_9S_Phone_BR/sm02/#02/data/udp_uplk_loss_latency.csv\n",
      "53/72 /home/wmnlab/F/database/2024-03-19/UDP_Bandlock_9S_Phone_BR/sm05/#02/data/handover_info_log.csv\n",
      "53/72 /home/wmnlab/F/database/2024-03-19/UDP_Bandlock_9S_Phone_BR/sm05/#02/data/udp_dnlk_loss_latency.csv\n",
      "53/72 /home/wmnlab/F/database/2024-03-19/UDP_Bandlock_9S_Phone_BR/sm05/#02/data/udp_uplk_loss_latency.csv\n"
     ]
    },
    {
     "data": {
      "application/vnd.jupyter.widget-view+json": {
       "model_id": "afc50122f73643e8a8c87717bccee217",
       "version_major": 2,
       "version_minor": 0
      },
      "text/plain": [
       "  0%|                                                                                                         …"
      ]
     },
     "metadata": {},
     "output_type": "display_data"
    },
    {
     "name": "stdout",
     "output_type": "stream",
     "text": [
      "/home/wmnlab/F/results/20240329_160006be6c_new_dataset_sync/dr_results/dr_20240329_1700005690/20240329_20212200000_5478c0f4b3611008_adjust/\\home\\wmnlab\\F\\database\\2024-03-19\\UDP_Bandlock_9S_Phone_BR\\sm02\\#02\\data\\udp_dnlk_loss_latency\\home\\wmnlab\\F\\database\\2024-03-19\\UDP_Bandlock_9S_Phone_BR\\sm05\\#02\\data\\udp_dnlk_loss_latency.csv\n",
      "54/72 /home/wmnlab/F/database/2024-03-19/UDP_Bandlock_9S_Phone_BR/sm02/#02/data/handover_info_log.csv\n",
      "54/72 /home/wmnlab/F/database/2024-03-19/UDP_Bandlock_9S_Phone_BR/sm02/#02/data/udp_dnlk_loss_latency.csv\n",
      "54/72 /home/wmnlab/F/database/2024-03-19/UDP_Bandlock_9S_Phone_BR/sm02/#02/data/udp_uplk_loss_latency.csv\n",
      "54/72 /home/wmnlab/F/database/2024-03-19/UDP_Bandlock_9S_Phone_BR/sm06/#02/data/handover_info_log.csv\n",
      "54/72 /home/wmnlab/F/database/2024-03-19/UDP_Bandlock_9S_Phone_BR/sm06/#02/data/udp_dnlk_loss_latency.csv\n",
      "54/72 /home/wmnlab/F/database/2024-03-19/UDP_Bandlock_9S_Phone_BR/sm06/#02/data/udp_uplk_loss_latency.csv\n"
     ]
    },
    {
     "data": {
      "application/vnd.jupyter.widget-view+json": {
       "model_id": "a0982e01e340426c9416ea692cbe8026",
       "version_major": 2,
       "version_minor": 0
      },
      "text/plain": [
       "  0%|                                                                                                         …"
      ]
     },
     "metadata": {},
     "output_type": "display_data"
    },
    {
     "name": "stdout",
     "output_type": "stream",
     "text": [
      "/home/wmnlab/F/results/20240329_160006be6c_new_dataset_sync/dr_results/dr_20240329_1700005690/20240329_20212200000_5478c0f4b3611008_adjust/\\home\\wmnlab\\F\\database\\2024-03-19\\UDP_Bandlock_9S_Phone_BR\\sm02\\#02\\data\\udp_dnlk_loss_latency\\home\\wmnlab\\F\\database\\2024-03-19\\UDP_Bandlock_9S_Phone_BR\\sm06\\#02\\data\\udp_dnlk_loss_latency.csv\n",
      "55/72 /home/wmnlab/F/database/2024-03-19/UDP_Bandlock_9S_Phone_BR/sm02/#02/data/handover_info_log.csv\n",
      "55/72 /home/wmnlab/F/database/2024-03-19/UDP_Bandlock_9S_Phone_BR/sm02/#02/data/udp_dnlk_loss_latency.csv\n",
      "55/72 /home/wmnlab/F/database/2024-03-19/UDP_Bandlock_9S_Phone_BR/sm02/#02/data/udp_uplk_loss_latency.csv\n",
      "55/72 /home/wmnlab/F/database/2024-03-19/UDP_Bandlock_9S_Phone_BR/sm07/#02/data/handover_info_log.csv\n",
      "55/72 /home/wmnlab/F/database/2024-03-19/UDP_Bandlock_9S_Phone_BR/sm07/#02/data/udp_dnlk_loss_latency.csv\n",
      "55/72 /home/wmnlab/F/database/2024-03-19/UDP_Bandlock_9S_Phone_BR/sm07/#02/data/udp_uplk_loss_latency.csv\n"
     ]
    },
    {
     "data": {
      "application/vnd.jupyter.widget-view+json": {
       "model_id": "9eadf67d5f3144168c6b91f6873994b2",
       "version_major": 2,
       "version_minor": 0
      },
      "text/plain": [
       "  0%|                                                                                                         …"
      ]
     },
     "metadata": {},
     "output_type": "display_data"
    },
    {
     "name": "stdout",
     "output_type": "stream",
     "text": [
      "/home/wmnlab/F/results/20240329_160006be6c_new_dataset_sync/dr_results/dr_20240329_1700005690/20240329_20212200000_5478c0f4b3611008_adjust/\\home\\wmnlab\\F\\database\\2024-03-19\\UDP_Bandlock_9S_Phone_BR\\sm02\\#02\\data\\udp_dnlk_loss_latency\\home\\wmnlab\\F\\database\\2024-03-19\\UDP_Bandlock_9S_Phone_BR\\sm07\\#02\\data\\udp_dnlk_loss_latency.csv\n",
      "56/72 /home/wmnlab/F/database/2024-03-19/UDP_Bandlock_9S_Phone_BR/sm02/#02/data/handover_info_log.csv\n",
      "56/72 /home/wmnlab/F/database/2024-03-19/UDP_Bandlock_9S_Phone_BR/sm02/#02/data/udp_dnlk_loss_latency.csv\n",
      "56/72 /home/wmnlab/F/database/2024-03-19/UDP_Bandlock_9S_Phone_BR/sm02/#02/data/udp_uplk_loss_latency.csv\n",
      "56/72 /home/wmnlab/F/database/2024-03-19/UDP_Bandlock_9S_Phone_BR/sm08/#02/data/handover_info_log.csv\n",
      "56/72 /home/wmnlab/F/database/2024-03-19/UDP_Bandlock_9S_Phone_BR/sm08/#02/data/udp_dnlk_loss_latency.csv\n",
      "56/72 /home/wmnlab/F/database/2024-03-19/UDP_Bandlock_9S_Phone_BR/sm08/#02/data/udp_uplk_loss_latency.csv\n"
     ]
    },
    {
     "data": {
      "application/vnd.jupyter.widget-view+json": {
       "model_id": "8f72cd865eb34718bf7a24b0a7fb1e2f",
       "version_major": 2,
       "version_minor": 0
      },
      "text/plain": [
       "  0%|                                                                                                         …"
      ]
     },
     "metadata": {},
     "output_type": "display_data"
    },
    {
     "name": "stdout",
     "output_type": "stream",
     "text": [
      "/home/wmnlab/F/results/20240329_160006be6c_new_dataset_sync/dr_results/dr_20240329_1700005690/20240329_20212200000_5478c0f4b3611008_adjust/\\home\\wmnlab\\F\\database\\2024-03-19\\UDP_Bandlock_9S_Phone_BR\\sm02\\#02\\data\\udp_dnlk_loss_latency\\home\\wmnlab\\F\\database\\2024-03-19\\UDP_Bandlock_9S_Phone_BR\\sm08\\#02\\data\\udp_dnlk_loss_latency.csv\n",
      "57/72 /home/wmnlab/F/database/2024-03-19/UDP_Bandlock_9S_Phone_BR/sm03/#02/data/handover_info_log.csv\n",
      "57/72 /home/wmnlab/F/database/2024-03-19/UDP_Bandlock_9S_Phone_BR/sm03/#02/data/udp_dnlk_loss_latency.csv\n",
      "57/72 /home/wmnlab/F/database/2024-03-19/UDP_Bandlock_9S_Phone_BR/sm03/#02/data/udp_uplk_loss_latency.csv\n",
      "57/72 /home/wmnlab/F/database/2024-03-19/UDP_Bandlock_9S_Phone_BR/sm04/#02/data/handover_info_log.csv\n",
      "57/72 /home/wmnlab/F/database/2024-03-19/UDP_Bandlock_9S_Phone_BR/sm04/#02/data/udp_dnlk_loss_latency.csv\n",
      "57/72 /home/wmnlab/F/database/2024-03-19/UDP_Bandlock_9S_Phone_BR/sm04/#02/data/udp_uplk_loss_latency.csv\n"
     ]
    },
    {
     "data": {
      "application/vnd.jupyter.widget-view+json": {
       "model_id": "4c16045ba0b04de7b66d694d17a8e9ff",
       "version_major": 2,
       "version_minor": 0
      },
      "text/plain": [
       "  0%|                                                                                                         …"
      ]
     },
     "metadata": {},
     "output_type": "display_data"
    },
    {
     "name": "stdout",
     "output_type": "stream",
     "text": [
      "/home/wmnlab/F/results/20240329_160006be6c_new_dataset_sync/dr_results/dr_20240329_1700005690/20240329_20212200000_5478c0f4b3611008_adjust/\\home\\wmnlab\\F\\database\\2024-03-19\\UDP_Bandlock_9S_Phone_BR\\sm03\\#02\\data\\udp_dnlk_loss_latency\\home\\wmnlab\\F\\database\\2024-03-19\\UDP_Bandlock_9S_Phone_BR\\sm04\\#02\\data\\udp_dnlk_loss_latency.csv\n",
      "58/72 /home/wmnlab/F/database/2024-03-19/UDP_Bandlock_9S_Phone_BR/sm03/#02/data/handover_info_log.csv\n",
      "58/72 /home/wmnlab/F/database/2024-03-19/UDP_Bandlock_9S_Phone_BR/sm03/#02/data/udp_dnlk_loss_latency.csv\n",
      "58/72 /home/wmnlab/F/database/2024-03-19/UDP_Bandlock_9S_Phone_BR/sm03/#02/data/udp_uplk_loss_latency.csv\n",
      "58/72 /home/wmnlab/F/database/2024-03-19/UDP_Bandlock_9S_Phone_BR/sm05/#02/data/handover_info_log.csv\n",
      "58/72 /home/wmnlab/F/database/2024-03-19/UDP_Bandlock_9S_Phone_BR/sm05/#02/data/udp_dnlk_loss_latency.csv\n",
      "58/72 /home/wmnlab/F/database/2024-03-19/UDP_Bandlock_9S_Phone_BR/sm05/#02/data/udp_uplk_loss_latency.csv\n"
     ]
    },
    {
     "data": {
      "application/vnd.jupyter.widget-view+json": {
       "model_id": "94172596938e456fa136bb5ee0ca8aa6",
       "version_major": 2,
       "version_minor": 0
      },
      "text/plain": [
       "  0%|                                                                                                         …"
      ]
     },
     "metadata": {},
     "output_type": "display_data"
    },
    {
     "name": "stdout",
     "output_type": "stream",
     "text": [
      "/home/wmnlab/F/results/20240329_160006be6c_new_dataset_sync/dr_results/dr_20240329_1700005690/20240329_20212200000_5478c0f4b3611008_adjust/\\home\\wmnlab\\F\\database\\2024-03-19\\UDP_Bandlock_9S_Phone_BR\\sm03\\#02\\data\\udp_dnlk_loss_latency\\home\\wmnlab\\F\\database\\2024-03-19\\UDP_Bandlock_9S_Phone_BR\\sm05\\#02\\data\\udp_dnlk_loss_latency.csv\n",
      "59/72 /home/wmnlab/F/database/2024-03-19/UDP_Bandlock_9S_Phone_BR/sm03/#02/data/handover_info_log.csv\n",
      "59/72 /home/wmnlab/F/database/2024-03-19/UDP_Bandlock_9S_Phone_BR/sm03/#02/data/udp_dnlk_loss_latency.csv\n",
      "59/72 /home/wmnlab/F/database/2024-03-19/UDP_Bandlock_9S_Phone_BR/sm03/#02/data/udp_uplk_loss_latency.csv\n",
      "59/72 /home/wmnlab/F/database/2024-03-19/UDP_Bandlock_9S_Phone_BR/sm06/#02/data/handover_info_log.csv\n",
      "59/72 /home/wmnlab/F/database/2024-03-19/UDP_Bandlock_9S_Phone_BR/sm06/#02/data/udp_dnlk_loss_latency.csv\n",
      "59/72 /home/wmnlab/F/database/2024-03-19/UDP_Bandlock_9S_Phone_BR/sm06/#02/data/udp_uplk_loss_latency.csv\n"
     ]
    },
    {
     "data": {
      "application/vnd.jupyter.widget-view+json": {
       "model_id": "98047084cbc64d31acab715d9bb5e036",
       "version_major": 2,
       "version_minor": 0
      },
      "text/plain": [
       "  0%|                                                                                                         …"
      ]
     },
     "metadata": {},
     "output_type": "display_data"
    },
    {
     "name": "stdout",
     "output_type": "stream",
     "text": [
      "/home/wmnlab/F/results/20240329_160006be6c_new_dataset_sync/dr_results/dr_20240329_1700005690/20240329_20212200000_5478c0f4b3611008_adjust/\\home\\wmnlab\\F\\database\\2024-03-19\\UDP_Bandlock_9S_Phone_BR\\sm03\\#02\\data\\udp_dnlk_loss_latency\\home\\wmnlab\\F\\database\\2024-03-19\\UDP_Bandlock_9S_Phone_BR\\sm06\\#02\\data\\udp_dnlk_loss_latency.csv\n",
      "60/72 /home/wmnlab/F/database/2024-03-19/UDP_Bandlock_9S_Phone_BR/sm03/#02/data/handover_info_log.csv\n",
      "60/72 /home/wmnlab/F/database/2024-03-19/UDP_Bandlock_9S_Phone_BR/sm03/#02/data/udp_dnlk_loss_latency.csv\n",
      "60/72 /home/wmnlab/F/database/2024-03-19/UDP_Bandlock_9S_Phone_BR/sm03/#02/data/udp_uplk_loss_latency.csv\n",
      "60/72 /home/wmnlab/F/database/2024-03-19/UDP_Bandlock_9S_Phone_BR/sm07/#02/data/handover_info_log.csv\n",
      "60/72 /home/wmnlab/F/database/2024-03-19/UDP_Bandlock_9S_Phone_BR/sm07/#02/data/udp_dnlk_loss_latency.csv\n",
      "60/72 /home/wmnlab/F/database/2024-03-19/UDP_Bandlock_9S_Phone_BR/sm07/#02/data/udp_uplk_loss_latency.csv\n"
     ]
    },
    {
     "data": {
      "application/vnd.jupyter.widget-view+json": {
       "model_id": "be3842965ea54641a4fab97e77244fae",
       "version_major": 2,
       "version_minor": 0
      },
      "text/plain": [
       "  0%|                                                                                                         …"
      ]
     },
     "metadata": {},
     "output_type": "display_data"
    },
    {
     "name": "stdout",
     "output_type": "stream",
     "text": [
      "/home/wmnlab/F/results/20240329_160006be6c_new_dataset_sync/dr_results/dr_20240329_1700005690/20240329_20212200000_5478c0f4b3611008_adjust/\\home\\wmnlab\\F\\database\\2024-03-19\\UDP_Bandlock_9S_Phone_BR\\sm03\\#02\\data\\udp_dnlk_loss_latency\\home\\wmnlab\\F\\database\\2024-03-19\\UDP_Bandlock_9S_Phone_BR\\sm07\\#02\\data\\udp_dnlk_loss_latency.csv\n",
      "61/72 /home/wmnlab/F/database/2024-03-19/UDP_Bandlock_9S_Phone_BR/sm03/#02/data/handover_info_log.csv\n",
      "61/72 /home/wmnlab/F/database/2024-03-19/UDP_Bandlock_9S_Phone_BR/sm03/#02/data/udp_dnlk_loss_latency.csv\n",
      "61/72 /home/wmnlab/F/database/2024-03-19/UDP_Bandlock_9S_Phone_BR/sm03/#02/data/udp_uplk_loss_latency.csv\n",
      "61/72 /home/wmnlab/F/database/2024-03-19/UDP_Bandlock_9S_Phone_BR/sm08/#02/data/handover_info_log.csv\n",
      "61/72 /home/wmnlab/F/database/2024-03-19/UDP_Bandlock_9S_Phone_BR/sm08/#02/data/udp_dnlk_loss_latency.csv\n",
      "61/72 /home/wmnlab/F/database/2024-03-19/UDP_Bandlock_9S_Phone_BR/sm08/#02/data/udp_uplk_loss_latency.csv\n"
     ]
    },
    {
     "data": {
      "application/vnd.jupyter.widget-view+json": {
       "model_id": "44ee8d4250fa49b987a4a9a9845084b3",
       "version_major": 2,
       "version_minor": 0
      },
      "text/plain": [
       "  0%|                                                                                                         …"
      ]
     },
     "metadata": {},
     "output_type": "display_data"
    },
    {
     "name": "stdout",
     "output_type": "stream",
     "text": [
      "/home/wmnlab/F/results/20240329_160006be6c_new_dataset_sync/dr_results/dr_20240329_1700005690/20240329_20212200000_5478c0f4b3611008_adjust/\\home\\wmnlab\\F\\database\\2024-03-19\\UDP_Bandlock_9S_Phone_BR\\sm03\\#02\\data\\udp_dnlk_loss_latency\\home\\wmnlab\\F\\database\\2024-03-19\\UDP_Bandlock_9S_Phone_BR\\sm08\\#02\\data\\udp_dnlk_loss_latency.csv\n",
      "62/72 /home/wmnlab/F/database/2024-03-19/UDP_Bandlock_9S_Phone_BR/sm04/#02/data/handover_info_log.csv\n",
      "62/72 /home/wmnlab/F/database/2024-03-19/UDP_Bandlock_9S_Phone_BR/sm04/#02/data/udp_dnlk_loss_latency.csv\n",
      "62/72 /home/wmnlab/F/database/2024-03-19/UDP_Bandlock_9S_Phone_BR/sm04/#02/data/udp_uplk_loss_latency.csv\n",
      "62/72 /home/wmnlab/F/database/2024-03-19/UDP_Bandlock_9S_Phone_BR/sm05/#02/data/handover_info_log.csv\n",
      "62/72 /home/wmnlab/F/database/2024-03-19/UDP_Bandlock_9S_Phone_BR/sm05/#02/data/udp_dnlk_loss_latency.csv\n",
      "62/72 /home/wmnlab/F/database/2024-03-19/UDP_Bandlock_9S_Phone_BR/sm05/#02/data/udp_uplk_loss_latency.csv\n"
     ]
    },
    {
     "data": {
      "application/vnd.jupyter.widget-view+json": {
       "model_id": "9542dcb00a704f5bb6d290b5372ab233",
       "version_major": 2,
       "version_minor": 0
      },
      "text/plain": [
       "  0%|                                                                                                         …"
      ]
     },
     "metadata": {},
     "output_type": "display_data"
    },
    {
     "name": "stdout",
     "output_type": "stream",
     "text": [
      "/home/wmnlab/F/results/20240329_160006be6c_new_dataset_sync/dr_results/dr_20240329_1700005690/20240329_20212200000_5478c0f4b3611008_adjust/\\home\\wmnlab\\F\\database\\2024-03-19\\UDP_Bandlock_9S_Phone_BR\\sm04\\#02\\data\\udp_dnlk_loss_latency\\home\\wmnlab\\F\\database\\2024-03-19\\UDP_Bandlock_9S_Phone_BR\\sm05\\#02\\data\\udp_dnlk_loss_latency.csv\n",
      "63/72 /home/wmnlab/F/database/2024-03-19/UDP_Bandlock_9S_Phone_BR/sm04/#02/data/handover_info_log.csv\n",
      "63/72 /home/wmnlab/F/database/2024-03-19/UDP_Bandlock_9S_Phone_BR/sm04/#02/data/udp_dnlk_loss_latency.csv\n",
      "63/72 /home/wmnlab/F/database/2024-03-19/UDP_Bandlock_9S_Phone_BR/sm04/#02/data/udp_uplk_loss_latency.csv\n",
      "63/72 /home/wmnlab/F/database/2024-03-19/UDP_Bandlock_9S_Phone_BR/sm06/#02/data/handover_info_log.csv\n",
      "63/72 /home/wmnlab/F/database/2024-03-19/UDP_Bandlock_9S_Phone_BR/sm06/#02/data/udp_dnlk_loss_latency.csv\n",
      "63/72 /home/wmnlab/F/database/2024-03-19/UDP_Bandlock_9S_Phone_BR/sm06/#02/data/udp_uplk_loss_latency.csv\n"
     ]
    },
    {
     "data": {
      "application/vnd.jupyter.widget-view+json": {
       "model_id": "72bd01d75abe4dfd96b868d4c0f4ca7f",
       "version_major": 2,
       "version_minor": 0
      },
      "text/plain": [
       "  0%|                                                                                                         …"
      ]
     },
     "metadata": {},
     "output_type": "display_data"
    },
    {
     "name": "stdout",
     "output_type": "stream",
     "text": [
      "/home/wmnlab/F/results/20240329_160006be6c_new_dataset_sync/dr_results/dr_20240329_1700005690/20240329_20212200000_5478c0f4b3611008_adjust/\\home\\wmnlab\\F\\database\\2024-03-19\\UDP_Bandlock_9S_Phone_BR\\sm04\\#02\\data\\udp_dnlk_loss_latency\\home\\wmnlab\\F\\database\\2024-03-19\\UDP_Bandlock_9S_Phone_BR\\sm06\\#02\\data\\udp_dnlk_loss_latency.csv\n",
      "64/72 /home/wmnlab/F/database/2024-03-19/UDP_Bandlock_9S_Phone_BR/sm04/#02/data/handover_info_log.csv\n",
      "64/72 /home/wmnlab/F/database/2024-03-19/UDP_Bandlock_9S_Phone_BR/sm04/#02/data/udp_dnlk_loss_latency.csv\n",
      "64/72 /home/wmnlab/F/database/2024-03-19/UDP_Bandlock_9S_Phone_BR/sm04/#02/data/udp_uplk_loss_latency.csv\n",
      "64/72 /home/wmnlab/F/database/2024-03-19/UDP_Bandlock_9S_Phone_BR/sm07/#02/data/handover_info_log.csv\n",
      "64/72 /home/wmnlab/F/database/2024-03-19/UDP_Bandlock_9S_Phone_BR/sm07/#02/data/udp_dnlk_loss_latency.csv\n",
      "64/72 /home/wmnlab/F/database/2024-03-19/UDP_Bandlock_9S_Phone_BR/sm07/#02/data/udp_uplk_loss_latency.csv\n"
     ]
    },
    {
     "data": {
      "application/vnd.jupyter.widget-view+json": {
       "model_id": "df6a9ff0033942599030e0d048361aa9",
       "version_major": 2,
       "version_minor": 0
      },
      "text/plain": [
       "  0%|                                                                                                         …"
      ]
     },
     "metadata": {},
     "output_type": "display_data"
    },
    {
     "name": "stdout",
     "output_type": "stream",
     "text": [
      "/home/wmnlab/F/results/20240329_160006be6c_new_dataset_sync/dr_results/dr_20240329_1700005690/20240329_20212200000_5478c0f4b3611008_adjust/\\home\\wmnlab\\F\\database\\2024-03-19\\UDP_Bandlock_9S_Phone_BR\\sm04\\#02\\data\\udp_dnlk_loss_latency\\home\\wmnlab\\F\\database\\2024-03-19\\UDP_Bandlock_9S_Phone_BR\\sm07\\#02\\data\\udp_dnlk_loss_latency.csv\n",
      "65/72 /home/wmnlab/F/database/2024-03-19/UDP_Bandlock_9S_Phone_BR/sm04/#02/data/handover_info_log.csv\n",
      "65/72 /home/wmnlab/F/database/2024-03-19/UDP_Bandlock_9S_Phone_BR/sm04/#02/data/udp_dnlk_loss_latency.csv\n",
      "65/72 /home/wmnlab/F/database/2024-03-19/UDP_Bandlock_9S_Phone_BR/sm04/#02/data/udp_uplk_loss_latency.csv\n",
      "65/72 /home/wmnlab/F/database/2024-03-19/UDP_Bandlock_9S_Phone_BR/sm08/#02/data/handover_info_log.csv\n",
      "65/72 /home/wmnlab/F/database/2024-03-19/UDP_Bandlock_9S_Phone_BR/sm08/#02/data/udp_dnlk_loss_latency.csv\n",
      "65/72 /home/wmnlab/F/database/2024-03-19/UDP_Bandlock_9S_Phone_BR/sm08/#02/data/udp_uplk_loss_latency.csv\n"
     ]
    },
    {
     "data": {
      "application/vnd.jupyter.widget-view+json": {
       "model_id": "746aa292e404494ab2613c3c76b78a6e",
       "version_major": 2,
       "version_minor": 0
      },
      "text/plain": [
       "  0%|                                                                                                         …"
      ]
     },
     "metadata": {},
     "output_type": "display_data"
    },
    {
     "name": "stdout",
     "output_type": "stream",
     "text": [
      "/home/wmnlab/F/results/20240329_160006be6c_new_dataset_sync/dr_results/dr_20240329_1700005690/20240329_20212200000_5478c0f4b3611008_adjust/\\home\\wmnlab\\F\\database\\2024-03-19\\UDP_Bandlock_9S_Phone_BR\\sm04\\#02\\data\\udp_dnlk_loss_latency\\home\\wmnlab\\F\\database\\2024-03-19\\UDP_Bandlock_9S_Phone_BR\\sm08\\#02\\data\\udp_dnlk_loss_latency.csv\n",
      "66/72 /home/wmnlab/F/database/2024-03-19/UDP_Bandlock_9S_Phone_BR/sm05/#02/data/handover_info_log.csv\n",
      "66/72 /home/wmnlab/F/database/2024-03-19/UDP_Bandlock_9S_Phone_BR/sm05/#02/data/udp_dnlk_loss_latency.csv\n",
      "66/72 /home/wmnlab/F/database/2024-03-19/UDP_Bandlock_9S_Phone_BR/sm05/#02/data/udp_uplk_loss_latency.csv\n",
      "66/72 /home/wmnlab/F/database/2024-03-19/UDP_Bandlock_9S_Phone_BR/sm06/#02/data/handover_info_log.csv\n",
      "66/72 /home/wmnlab/F/database/2024-03-19/UDP_Bandlock_9S_Phone_BR/sm06/#02/data/udp_dnlk_loss_latency.csv\n",
      "66/72 /home/wmnlab/F/database/2024-03-19/UDP_Bandlock_9S_Phone_BR/sm06/#02/data/udp_uplk_loss_latency.csv\n"
     ]
    },
    {
     "data": {
      "application/vnd.jupyter.widget-view+json": {
       "model_id": "403760b46262472ca612c7e801ec6dc9",
       "version_major": 2,
       "version_minor": 0
      },
      "text/plain": [
       "  0%|                                                                                                         …"
      ]
     },
     "metadata": {},
     "output_type": "display_data"
    },
    {
     "name": "stdout",
     "output_type": "stream",
     "text": [
      "/home/wmnlab/F/results/20240329_160006be6c_new_dataset_sync/dr_results/dr_20240329_1700005690/20240329_20212200000_5478c0f4b3611008_adjust/\\home\\wmnlab\\F\\database\\2024-03-19\\UDP_Bandlock_9S_Phone_BR\\sm05\\#02\\data\\udp_dnlk_loss_latency\\home\\wmnlab\\F\\database\\2024-03-19\\UDP_Bandlock_9S_Phone_BR\\sm06\\#02\\data\\udp_dnlk_loss_latency.csv\n",
      "67/72 /home/wmnlab/F/database/2024-03-19/UDP_Bandlock_9S_Phone_BR/sm05/#02/data/handover_info_log.csv\n",
      "67/72 /home/wmnlab/F/database/2024-03-19/UDP_Bandlock_9S_Phone_BR/sm05/#02/data/udp_dnlk_loss_latency.csv\n",
      "67/72 /home/wmnlab/F/database/2024-03-19/UDP_Bandlock_9S_Phone_BR/sm05/#02/data/udp_uplk_loss_latency.csv\n",
      "67/72 /home/wmnlab/F/database/2024-03-19/UDP_Bandlock_9S_Phone_BR/sm07/#02/data/handover_info_log.csv\n",
      "67/72 /home/wmnlab/F/database/2024-03-19/UDP_Bandlock_9S_Phone_BR/sm07/#02/data/udp_dnlk_loss_latency.csv\n",
      "67/72 /home/wmnlab/F/database/2024-03-19/UDP_Bandlock_9S_Phone_BR/sm07/#02/data/udp_uplk_loss_latency.csv\n"
     ]
    },
    {
     "data": {
      "application/vnd.jupyter.widget-view+json": {
       "model_id": "7d28684c2e644777a302b52fa7354e1b",
       "version_major": 2,
       "version_minor": 0
      },
      "text/plain": [
       "  0%|                                                                                                         …"
      ]
     },
     "metadata": {},
     "output_type": "display_data"
    },
    {
     "name": "stdout",
     "output_type": "stream",
     "text": [
      "/home/wmnlab/F/results/20240329_160006be6c_new_dataset_sync/dr_results/dr_20240329_1700005690/20240329_20212200000_5478c0f4b3611008_adjust/\\home\\wmnlab\\F\\database\\2024-03-19\\UDP_Bandlock_9S_Phone_BR\\sm05\\#02\\data\\udp_dnlk_loss_latency\\home\\wmnlab\\F\\database\\2024-03-19\\UDP_Bandlock_9S_Phone_BR\\sm07\\#02\\data\\udp_dnlk_loss_latency.csv\n",
      "68/72 /home/wmnlab/F/database/2024-03-19/UDP_Bandlock_9S_Phone_BR/sm05/#02/data/handover_info_log.csv\n",
      "68/72 /home/wmnlab/F/database/2024-03-19/UDP_Bandlock_9S_Phone_BR/sm05/#02/data/udp_dnlk_loss_latency.csv\n",
      "68/72 /home/wmnlab/F/database/2024-03-19/UDP_Bandlock_9S_Phone_BR/sm05/#02/data/udp_uplk_loss_latency.csv\n",
      "68/72 /home/wmnlab/F/database/2024-03-19/UDP_Bandlock_9S_Phone_BR/sm08/#02/data/handover_info_log.csv\n",
      "68/72 /home/wmnlab/F/database/2024-03-19/UDP_Bandlock_9S_Phone_BR/sm08/#02/data/udp_dnlk_loss_latency.csv\n",
      "68/72 /home/wmnlab/F/database/2024-03-19/UDP_Bandlock_9S_Phone_BR/sm08/#02/data/udp_uplk_loss_latency.csv\n"
     ]
    },
    {
     "data": {
      "application/vnd.jupyter.widget-view+json": {
       "model_id": "799686fff250439793fc8afbed6400fe",
       "version_major": 2,
       "version_minor": 0
      },
      "text/plain": [
       "  0%|                                                                                                         …"
      ]
     },
     "metadata": {},
     "output_type": "display_data"
    },
    {
     "name": "stdout",
     "output_type": "stream",
     "text": [
      "/home/wmnlab/F/results/20240329_160006be6c_new_dataset_sync/dr_results/dr_20240329_1700005690/20240329_20212200000_5478c0f4b3611008_adjust/\\home\\wmnlab\\F\\database\\2024-03-19\\UDP_Bandlock_9S_Phone_BR\\sm05\\#02\\data\\udp_dnlk_loss_latency\\home\\wmnlab\\F\\database\\2024-03-19\\UDP_Bandlock_9S_Phone_BR\\sm08\\#02\\data\\udp_dnlk_loss_latency.csv\n",
      "69/72 /home/wmnlab/F/database/2024-03-19/UDP_Bandlock_9S_Phone_BR/sm06/#02/data/handover_info_log.csv\n",
      "69/72 /home/wmnlab/F/database/2024-03-19/UDP_Bandlock_9S_Phone_BR/sm06/#02/data/udp_dnlk_loss_latency.csv\n",
      "69/72 /home/wmnlab/F/database/2024-03-19/UDP_Bandlock_9S_Phone_BR/sm06/#02/data/udp_uplk_loss_latency.csv\n",
      "69/72 /home/wmnlab/F/database/2024-03-19/UDP_Bandlock_9S_Phone_BR/sm07/#02/data/handover_info_log.csv\n",
      "69/72 /home/wmnlab/F/database/2024-03-19/UDP_Bandlock_9S_Phone_BR/sm07/#02/data/udp_dnlk_loss_latency.csv\n",
      "69/72 /home/wmnlab/F/database/2024-03-19/UDP_Bandlock_9S_Phone_BR/sm07/#02/data/udp_uplk_loss_latency.csv\n"
     ]
    },
    {
     "data": {
      "application/vnd.jupyter.widget-view+json": {
       "model_id": "b9bf0186ddcd4d659b256436bae7f40a",
       "version_major": 2,
       "version_minor": 0
      },
      "text/plain": [
       "  0%|                                                                                                         …"
      ]
     },
     "metadata": {},
     "output_type": "display_data"
    },
    {
     "name": "stdout",
     "output_type": "stream",
     "text": [
      "/home/wmnlab/F/results/20240329_160006be6c_new_dataset_sync/dr_results/dr_20240329_1700005690/20240329_20212200000_5478c0f4b3611008_adjust/\\home\\wmnlab\\F\\database\\2024-03-19\\UDP_Bandlock_9S_Phone_BR\\sm06\\#02\\data\\udp_dnlk_loss_latency\\home\\wmnlab\\F\\database\\2024-03-19\\UDP_Bandlock_9S_Phone_BR\\sm07\\#02\\data\\udp_dnlk_loss_latency.csv\n",
      "70/72 /home/wmnlab/F/database/2024-03-19/UDP_Bandlock_9S_Phone_BR/sm06/#02/data/handover_info_log.csv\n",
      "70/72 /home/wmnlab/F/database/2024-03-19/UDP_Bandlock_9S_Phone_BR/sm06/#02/data/udp_dnlk_loss_latency.csv\n",
      "70/72 /home/wmnlab/F/database/2024-03-19/UDP_Bandlock_9S_Phone_BR/sm06/#02/data/udp_uplk_loss_latency.csv\n",
      "70/72 /home/wmnlab/F/database/2024-03-19/UDP_Bandlock_9S_Phone_BR/sm08/#02/data/handover_info_log.csv\n",
      "70/72 /home/wmnlab/F/database/2024-03-19/UDP_Bandlock_9S_Phone_BR/sm08/#02/data/udp_dnlk_loss_latency.csv\n",
      "70/72 /home/wmnlab/F/database/2024-03-19/UDP_Bandlock_9S_Phone_BR/sm08/#02/data/udp_uplk_loss_latency.csv\n"
     ]
    },
    {
     "data": {
      "application/vnd.jupyter.widget-view+json": {
       "model_id": "cebb2f24c9304ea188294557af364ca4",
       "version_major": 2,
       "version_minor": 0
      },
      "text/plain": [
       "  0%|                                                                                                         …"
      ]
     },
     "metadata": {},
     "output_type": "display_data"
    },
    {
     "name": "stdout",
     "output_type": "stream",
     "text": [
      "/home/wmnlab/F/results/20240329_160006be6c_new_dataset_sync/dr_results/dr_20240329_1700005690/20240329_20212200000_5478c0f4b3611008_adjust/\\home\\wmnlab\\F\\database\\2024-03-19\\UDP_Bandlock_9S_Phone_BR\\sm06\\#02\\data\\udp_dnlk_loss_latency\\home\\wmnlab\\F\\database\\2024-03-19\\UDP_Bandlock_9S_Phone_BR\\sm08\\#02\\data\\udp_dnlk_loss_latency.csv\n",
      "71/72 /home/wmnlab/F/database/2024-03-19/UDP_Bandlock_9S_Phone_BR/sm07/#02/data/handover_info_log.csv\n",
      "71/72 /home/wmnlab/F/database/2024-03-19/UDP_Bandlock_9S_Phone_BR/sm07/#02/data/udp_dnlk_loss_latency.csv\n",
      "71/72 /home/wmnlab/F/database/2024-03-19/UDP_Bandlock_9S_Phone_BR/sm07/#02/data/udp_uplk_loss_latency.csv\n",
      "71/72 /home/wmnlab/F/database/2024-03-19/UDP_Bandlock_9S_Phone_BR/sm08/#02/data/handover_info_log.csv\n",
      "71/72 /home/wmnlab/F/database/2024-03-19/UDP_Bandlock_9S_Phone_BR/sm08/#02/data/udp_dnlk_loss_latency.csv\n",
      "71/72 /home/wmnlab/F/database/2024-03-19/UDP_Bandlock_9S_Phone_BR/sm08/#02/data/udp_uplk_loss_latency.csv\n"
     ]
    },
    {
     "data": {
      "application/vnd.jupyter.widget-view+json": {
       "model_id": "62bc04d1ceee4c80a8b5618e8ee7e7b6",
       "version_major": 2,
       "version_minor": 0
      },
      "text/plain": [
       "  0%|                                                                                                         …"
      ]
     },
     "metadata": {},
     "output_type": "display_data"
    },
    {
     "name": "stdout",
     "output_type": "stream",
     "text": [
      "/home/wmnlab/F/results/20240329_160006be6c_new_dataset_sync/dr_results/dr_20240329_1700005690/20240329_20212200000_5478c0f4b3611008_adjust/\\home\\wmnlab\\F\\database\\2024-03-19\\UDP_Bandlock_9S_Phone_BR\\sm07\\#02\\data\\udp_dnlk_loss_latency\\home\\wmnlab\\F\\database\\2024-03-19\\UDP_Bandlock_9S_Phone_BR\\sm08\\#02\\data\\udp_dnlk_loss_latency.csv\n",
      "./20240329_160006be6c_new_dataset_sync/dr_20240329_1700005690/figures/20240329_BR_adjust_20212200000_5478c0f4b3611008.png\n"
     ]
    },
    {
     "data": {
      "image/png": "[encoded data removed]",
      "text/plain": [
       "<Figure size 600x400 with 1 Axes>"
      ]
     },
     "metadata": {
      "image/png": {
       "height": 371,
       "width": 536
      }
     },
     "output_type": "display_data"
    }
   ],
   "source": [
    "eval = DrEval(filepaths, model_name='BR', model_suffix=suffix, sr_model_id=sr_model_id, dr_model_id=dr_model_id)\n",
    "eval.run_hist_method(N=1)\n",
    "eval.plot('BR')"
   ]
  },
  {
   "cell_type": "markdown",
   "metadata": {},
   "source": [
    "# A: Dual Eval"
   ]
  },
  {
   "cell_type": "code",
   "execution_count": 8,
   "metadata": {},
   "outputs": [],
   "source": [
    "adjust_table, model_adjust = manipulate_corr_coef(sr_model_id, dr_model_id, route='A', mode=mode, rho_force=None)\n",
    "# display(adjust_table)\n",
    "# pprint(model_adjust)"
   ]
  },
  {
   "cell_type": "code",
   "execution_count": 9,
   "metadata": {},
   "outputs": [],
   "source": [
    "# Dual Radio Example\n",
    "# dates = data_loader(query_dates=True, show_info=True)\n",
    "\n",
    "# selected_dates = [s for s in dates if s >= '2023-09-12']\n",
    "selected_dates = ['2024-03-20']\n",
    "# excluded_dates = []\n",
    "# selected_exps = []\n",
    "# excluded_exps = ['Modem_Action_Test', 'Control_Group', 'Control_Group2', 'Control_Group3']\n",
    "selected_routes = ['A']\n",
    "# excluded_routes = []\n",
    "filepaths = data_loader(mode='dr', selected_dates=selected_dates, selected_routes=selected_routes)\n",
    "\n",
    "# print(len(filepaths[:36]))\n",
    "# pprint(filepaths[:36])"
   ]
  },
  {
   "cell_type": "code",
   "execution_count": 10,
   "metadata": {},
   "outputs": [
    {
     "name": "stdout",
     "output_type": "stream",
     "text": [
      "./20240329_160006be6c_new_dataset_sync/models/A\n",
      "./20240329_160006be6c_new_dataset_sync/dr_20240329_1700005690/models/A\n",
      "./20240329_160006be6c_new_dataset_sync/dr_20240329_1700005690/models/A_dr_prob_models_75%_corr.pkl\n",
      "0/72 /home/wmnlab/F/database/2024-03-20/UDP_Bandlock_9S_Phone_A/sm00/#01/data/handover_info_log.csv\n",
      "0/72 /home/wmnlab/F/database/2024-03-20/UDP_Bandlock_9S_Phone_A/sm00/#01/data/udp_dnlk_loss_latency.csv\n",
      "0/72 /home/wmnlab/F/database/2024-03-20/UDP_Bandlock_9S_Phone_A/sm00/#01/data/udp_uplk_loss_latency.csv\n",
      "0/72 /home/wmnlab/F/database/2024-03-20/UDP_Bandlock_9S_Phone_A/sm01/#01/data/handover_info_log.csv\n",
      "0/72 /home/wmnlab/F/database/2024-03-20/UDP_Bandlock_9S_Phone_A/sm01/#01/data/udp_dnlk_loss_latency.csv\n",
      "0/72 /home/wmnlab/F/database/2024-03-20/UDP_Bandlock_9S_Phone_A/sm01/#01/data/udp_uplk_loss_latency.csv\n"
     ]
    },
    {
     "data": {
      "application/vnd.jupyter.widget-view+json": {
       "model_id": "364852957b3d4e4a8ed179e490903489",
       "version_major": 2,
       "version_minor": 0
      },
      "text/plain": [
       "  0%|                                                                                                         …"
      ]
     },
     "metadata": {},
     "output_type": "display_data"
    },
    {
     "name": "stdout",
     "output_type": "stream",
     "text": [
      "/home/wmnlab/F/results/20240329_160006be6c_new_dataset_sync/dr_results/dr_20240329_1700005690/20240329_20212200001_6eb9621ab5bf38e2_75%_corr/\\home\\wmnlab\\F\\database\\2024-03-20\\UDP_Bandlock_9S_Phone_A\\sm00\\#01\\data\\udp_dnlk_loss_latency\\home\\wmnlab\\F\\database\\2024-03-20\\UDP_Bandlock_9S_Phone_A\\sm01\\#01\\data\\udp_dnlk_loss_latency.csv\n",
      "1/72 /home/wmnlab/F/database/2024-03-20/UDP_Bandlock_9S_Phone_A/sm00/#01/data/handover_info_log.csv\n",
      "1/72 /home/wmnlab/F/database/2024-03-20/UDP_Bandlock_9S_Phone_A/sm00/#01/data/udp_dnlk_loss_latency.csv\n",
      "1/72 /home/wmnlab/F/database/2024-03-20/UDP_Bandlock_9S_Phone_A/sm00/#01/data/udp_uplk_loss_latency.csv\n",
      "1/72 /home/wmnlab/F/database/2024-03-20/UDP_Bandlock_9S_Phone_A/sm02/#01/data/handover_info_log.csv\n",
      "1/72 /home/wmnlab/F/database/2024-03-20/UDP_Bandlock_9S_Phone_A/sm02/#01/data/udp_dnlk_loss_latency.csv\n",
      "1/72 /home/wmnlab/F/database/2024-03-20/UDP_Bandlock_9S_Phone_A/sm02/#01/data/udp_uplk_loss_latency.csv\n"
     ]
    },
    {
     "data": {
      "application/vnd.jupyter.widget-view+json": {
       "model_id": "b04421d94a5f4df1bde4cc2a166cbbf2",
       "version_major": 2,
       "version_minor": 0
      },
      "text/plain": [
       "  0%|                                                                                                         …"
      ]
     },
     "metadata": {},
     "output_type": "display_data"
    },
    {
     "name": "stdout",
     "output_type": "stream",
     "text": [
      "/home/wmnlab/F/results/20240329_160006be6c_new_dataset_sync/dr_results/dr_20240329_1700005690/20240329_20212200001_6eb9621ab5bf38e2_75%_corr/\\home\\wmnlab\\F\\database\\2024-03-20\\UDP_Bandlock_9S_Phone_A\\sm00\\#01\\data\\udp_dnlk_loss_latency\\home\\wmnlab\\F\\database\\2024-03-20\\UDP_Bandlock_9S_Phone_A\\sm02\\#01\\data\\udp_dnlk_loss_latency.csv\n",
      "2/72 /home/wmnlab/F/database/2024-03-20/UDP_Bandlock_9S_Phone_A/sm00/#01/data/handover_info_log.csv\n",
      "2/72 /home/wmnlab/F/database/2024-03-20/UDP_Bandlock_9S_Phone_A/sm00/#01/data/udp_dnlk_loss_latency.csv\n",
      "2/72 /home/wmnlab/F/database/2024-03-20/UDP_Bandlock_9S_Phone_A/sm00/#01/data/udp_uplk_loss_latency.csv\n",
      "2/72 /home/wmnlab/F/database/2024-03-20/UDP_Bandlock_9S_Phone_A/sm03/#01/data/handover_info_log.csv\n",
      "2/72 /home/wmnlab/F/database/2024-03-20/UDP_Bandlock_9S_Phone_A/sm03/#01/data/udp_dnlk_loss_latency.csv\n",
      "2/72 /home/wmnlab/F/database/2024-03-20/UDP_Bandlock_9S_Phone_A/sm03/#01/data/udp_uplk_loss_latency.csv\n"
     ]
    },
    {
     "data": {
      "application/vnd.jupyter.widget-view+json": {
       "model_id": "43d7156ba66142c68b4c48497af52f3f",
       "version_major": 2,
       "version_minor": 0
      },
      "text/plain": [
       "  0%|                                                                                                         …"
      ]
     },
     "metadata": {},
     "output_type": "display_data"
    },
    {
     "name": "stdout",
     "output_type": "stream",
     "text": [
      "/home/wmnlab/F/results/20240329_160006be6c_new_dataset_sync/dr_results/dr_20240329_1700005690/20240329_20212200001_6eb9621ab5bf38e2_75%_corr/\\home\\wmnlab\\F\\database\\2024-03-20\\UDP_Bandlock_9S_Phone_A\\sm00\\#01\\data\\udp_dnlk_loss_latency\\home\\wmnlab\\F\\database\\2024-03-20\\UDP_Bandlock_9S_Phone_A\\sm03\\#01\\data\\udp_dnlk_loss_latency.csv\n",
      "3/72 /home/wmnlab/F/database/2024-03-20/UDP_Bandlock_9S_Phone_A/sm00/#01/data/handover_info_log.csv\n",
      "3/72 /home/wmnlab/F/database/2024-03-20/UDP_Bandlock_9S_Phone_A/sm00/#01/data/udp_dnlk_loss_latency.csv\n",
      "3/72 /home/wmnlab/F/database/2024-03-20/UDP_Bandlock_9S_Phone_A/sm00/#01/data/udp_uplk_loss_latency.csv\n",
      "3/72 /home/wmnlab/F/database/2024-03-20/UDP_Bandlock_9S_Phone_A/sm04/#01/data/handover_info_log.csv\n",
      "3/72 /home/wmnlab/F/database/2024-03-20/UDP_Bandlock_9S_Phone_A/sm04/#01/data/udp_dnlk_loss_latency.csv\n",
      "3/72 /home/wmnlab/F/database/2024-03-20/UDP_Bandlock_9S_Phone_A/sm04/#01/data/udp_uplk_loss_latency.csv\n"
     ]
    },
    {
     "data": {
      "application/vnd.jupyter.widget-view+json": {
       "model_id": "7be1b23aa42746ddbe31a1694486f332",
       "version_major": 2,
       "version_minor": 0
      },
      "text/plain": [
       "  0%|                                                                                                         …"
      ]
     },
     "metadata": {},
     "output_type": "display_data"
    },
    {
     "name": "stdout",
     "output_type": "stream",
     "text": [
      "/home/wmnlab/F/results/20240329_160006be6c_new_dataset_sync/dr_results/dr_20240329_1700005690/20240329_20212200001_6eb9621ab5bf38e2_75%_corr/\\home\\wmnlab\\F\\database\\2024-03-20\\UDP_Bandlock_9S_Phone_A\\sm00\\#01\\data\\udp_dnlk_loss_latency\\home\\wmnlab\\F\\database\\2024-03-20\\UDP_Bandlock_9S_Phone_A\\sm04\\#01\\data\\udp_dnlk_loss_latency.csv\n",
      "4/72 /home/wmnlab/F/database/2024-03-20/UDP_Bandlock_9S_Phone_A/sm00/#01/data/handover_info_log.csv\n",
      "4/72 /home/wmnlab/F/database/2024-03-20/UDP_Bandlock_9S_Phone_A/sm00/#01/data/udp_dnlk_loss_latency.csv\n",
      "4/72 /home/wmnlab/F/database/2024-03-20/UDP_Bandlock_9S_Phone_A/sm00/#01/data/udp_uplk_loss_latency.csv\n",
      "4/72 /home/wmnlab/F/database/2024-03-20/UDP_Bandlock_9S_Phone_A/sm05/#01/data/handover_info_log.csv\n",
      "4/72 /home/wmnlab/F/database/2024-03-20/UDP_Bandlock_9S_Phone_A/sm05/#01/data/udp_dnlk_loss_latency.csv\n",
      "4/72 /home/wmnlab/F/database/2024-03-20/UDP_Bandlock_9S_Phone_A/sm05/#01/data/udp_uplk_loss_latency.csv\n"
     ]
    },
    {
     "data": {
      "application/vnd.jupyter.widget-view+json": {
       "model_id": "565b7eb3f29f458083c89c79ddf70873",
       "version_major": 2,
       "version_minor": 0
      },
      "text/plain": [
       "  0%|                                                                                                         …"
      ]
     },
     "metadata": {},
     "output_type": "display_data"
    },
    {
     "name": "stdout",
     "output_type": "stream",
     "text": [
      "/home/wmnlab/F/results/20240329_160006be6c_new_dataset_sync/dr_results/dr_20240329_1700005690/20240329_20212200001_6eb9621ab5bf38e2_75%_corr/\\home\\wmnlab\\F\\database\\2024-03-20\\UDP_Bandlock_9S_Phone_A\\sm00\\#01\\data\\udp_dnlk_loss_latency\\home\\wmnlab\\F\\database\\2024-03-20\\UDP_Bandlock_9S_Phone_A\\sm05\\#01\\data\\udp_dnlk_loss_latency.csv\n",
      "5/72 /home/wmnlab/F/database/2024-03-20/UDP_Bandlock_9S_Phone_A/sm00/#01/data/handover_info_log.csv\n",
      "5/72 /home/wmnlab/F/database/2024-03-20/UDP_Bandlock_9S_Phone_A/sm00/#01/data/udp_dnlk_loss_latency.csv\n",
      "5/72 /home/wmnlab/F/database/2024-03-20/UDP_Bandlock_9S_Phone_A/sm00/#01/data/udp_uplk_loss_latency.csv\n",
      "5/72 /home/wmnlab/F/database/2024-03-20/UDP_Bandlock_9S_Phone_A/sm06/#01/data/handover_info_log.csv\n",
      "5/72 /home/wmnlab/F/database/2024-03-20/UDP_Bandlock_9S_Phone_A/sm06/#01/data/udp_dnlk_loss_latency.csv\n",
      "5/72 /home/wmnlab/F/database/2024-03-20/UDP_Bandlock_9S_Phone_A/sm06/#01/data/udp_uplk_loss_latency.csv\n"
     ]
    },
    {
     "data": {
      "application/vnd.jupyter.widget-view+json": {
       "model_id": "49d3302f5c864ba7902b93d6a9900d44",
       "version_major": 2,
       "version_minor": 0
      },
      "text/plain": [
       "  0%|                                                                                                         …"
      ]
     },
     "metadata": {},
     "output_type": "display_data"
    },
    {
     "name": "stdout",
     "output_type": "stream",
     "text": [
      "/home/wmnlab/F/results/20240329_160006be6c_new_dataset_sync/dr_results/dr_20240329_1700005690/20240329_20212200001_6eb9621ab5bf38e2_75%_corr/\\home\\wmnlab\\F\\database\\2024-03-20\\UDP_Bandlock_9S_Phone_A\\sm00\\#01\\data\\udp_dnlk_loss_latency\\home\\wmnlab\\F\\database\\2024-03-20\\UDP_Bandlock_9S_Phone_A\\sm06\\#01\\data\\udp_dnlk_loss_latency.csv\n",
      "6/72 /home/wmnlab/F/database/2024-03-20/UDP_Bandlock_9S_Phone_A/sm00/#01/data/handover_info_log.csv\n",
      "6/72 /home/wmnlab/F/database/2024-03-20/UDP_Bandlock_9S_Phone_A/sm00/#01/data/udp_dnlk_loss_latency.csv\n",
      "6/72 /home/wmnlab/F/database/2024-03-20/UDP_Bandlock_9S_Phone_A/sm00/#01/data/udp_uplk_loss_latency.csv\n",
      "6/72 /home/wmnlab/F/database/2024-03-20/UDP_Bandlock_9S_Phone_A/sm07/#01/data/handover_info_log.csv\n",
      "6/72 /home/wmnlab/F/database/2024-03-20/UDP_Bandlock_9S_Phone_A/sm07/#01/data/udp_dnlk_loss_latency.csv\n",
      "6/72 /home/wmnlab/F/database/2024-03-20/UDP_Bandlock_9S_Phone_A/sm07/#01/data/udp_uplk_loss_latency.csv\n"
     ]
    },
    {
     "data": {
      "application/vnd.jupyter.widget-view+json": {
       "model_id": "14056b98a57a41bf8077fe4787666be9",
       "version_major": 2,
       "version_minor": 0
      },
      "text/plain": [
       "  0%|                                                                                                         …"
      ]
     },
     "metadata": {},
     "output_type": "display_data"
    },
    {
     "name": "stdout",
     "output_type": "stream",
     "text": [
      "/home/wmnlab/F/results/20240329_160006be6c_new_dataset_sync/dr_results/dr_20240329_1700005690/20240329_20212200001_6eb9621ab5bf38e2_75%_corr/\\home\\wmnlab\\F\\database\\2024-03-20\\UDP_Bandlock_9S_Phone_A\\sm00\\#01\\data\\udp_dnlk_loss_latency\\home\\wmnlab\\F\\database\\2024-03-20\\UDP_Bandlock_9S_Phone_A\\sm07\\#01\\data\\udp_dnlk_loss_latency.csv\n",
      "7/72 /home/wmnlab/F/database/2024-03-20/UDP_Bandlock_9S_Phone_A/sm00/#01/data/handover_info_log.csv\n",
      "7/72 /home/wmnlab/F/database/2024-03-20/UDP_Bandlock_9S_Phone_A/sm00/#01/data/udp_dnlk_loss_latency.csv\n",
      "7/72 /home/wmnlab/F/database/2024-03-20/UDP_Bandlock_9S_Phone_A/sm00/#01/data/udp_uplk_loss_latency.csv\n",
      "7/72 /home/wmnlab/F/database/2024-03-20/UDP_Bandlock_9S_Phone_A/sm08/#01/data/handover_info_log.csv\n",
      "7/72 /home/wmnlab/F/database/2024-03-20/UDP_Bandlock_9S_Phone_A/sm08/#01/data/udp_dnlk_loss_latency.csv\n",
      "7/72 /home/wmnlab/F/database/2024-03-20/UDP_Bandlock_9S_Phone_A/sm08/#01/data/udp_uplk_loss_latency.csv\n"
     ]
    },
    {
     "data": {
      "application/vnd.jupyter.widget-view+json": {
       "model_id": "55691a4ae3494ea3b30a7b42ecc171d1",
       "version_major": 2,
       "version_minor": 0
      },
      "text/plain": [
       "  0%|                                                                                                         …"
      ]
     },
     "metadata": {},
     "output_type": "display_data"
    },
    {
     "name": "stdout",
     "output_type": "stream",
     "text": [
      "/home/wmnlab/F/results/20240329_160006be6c_new_dataset_sync/dr_results/dr_20240329_1700005690/20240329_20212200001_6eb9621ab5bf38e2_75%_corr/\\home\\wmnlab\\F\\database\\2024-03-20\\UDP_Bandlock_9S_Phone_A\\sm00\\#01\\data\\udp_dnlk_loss_latency\\home\\wmnlab\\F\\database\\2024-03-20\\UDP_Bandlock_9S_Phone_A\\sm08\\#01\\data\\udp_dnlk_loss_latency.csv\n",
      "8/72 /home/wmnlab/F/database/2024-03-20/UDP_Bandlock_9S_Phone_A/sm01/#01/data/handover_info_log.csv\n",
      "8/72 /home/wmnlab/F/database/2024-03-20/UDP_Bandlock_9S_Phone_A/sm01/#01/data/udp_dnlk_loss_latency.csv\n",
      "8/72 /home/wmnlab/F/database/2024-03-20/UDP_Bandlock_9S_Phone_A/sm01/#01/data/udp_uplk_loss_latency.csv\n",
      "8/72 /home/wmnlab/F/database/2024-03-20/UDP_Bandlock_9S_Phone_A/sm02/#01/data/handover_info_log.csv\n",
      "8/72 /home/wmnlab/F/database/2024-03-20/UDP_Bandlock_9S_Phone_A/sm02/#01/data/udp_dnlk_loss_latency.csv\n",
      "8/72 /home/wmnlab/F/database/2024-03-20/UDP_Bandlock_9S_Phone_A/sm02/#01/data/udp_uplk_loss_latency.csv\n"
     ]
    },
    {
     "data": {
      "application/vnd.jupyter.widget-view+json": {
       "model_id": "b8ec603abed74360a3ac3271ef6bbacf",
       "version_major": 2,
       "version_minor": 0
      },
      "text/plain": [
       "  0%|                                                                                                         …"
      ]
     },
     "metadata": {},
     "output_type": "display_data"
    },
    {
     "name": "stdout",
     "output_type": "stream",
     "text": [
      "/home/wmnlab/F/results/20240329_160006be6c_new_dataset_sync/dr_results/dr_20240329_1700005690/20240329_20212200001_6eb9621ab5bf38e2_75%_corr/\\home\\wmnlab\\F\\database\\2024-03-20\\UDP_Bandlock_9S_Phone_A\\sm01\\#01\\data\\udp_dnlk_loss_latency\\home\\wmnlab\\F\\database\\2024-03-20\\UDP_Bandlock_9S_Phone_A\\sm02\\#01\\data\\udp_dnlk_loss_latency.csv\n",
      "9/72 /home/wmnlab/F/database/2024-03-20/UDP_Bandlock_9S_Phone_A/sm01/#01/data/handover_info_log.csv\n",
      "9/72 /home/wmnlab/F/database/2024-03-20/UDP_Bandlock_9S_Phone_A/sm01/#01/data/udp_dnlk_loss_latency.csv\n",
      "9/72 /home/wmnlab/F/database/2024-03-20/UDP_Bandlock_9S_Phone_A/sm01/#01/data/udp_uplk_loss_latency.csv\n",
      "9/72 /home/wmnlab/F/database/2024-03-20/UDP_Bandlock_9S_Phone_A/sm03/#01/data/handover_info_log.csv\n",
      "9/72 /home/wmnlab/F/database/2024-03-20/UDP_Bandlock_9S_Phone_A/sm03/#01/data/udp_dnlk_loss_latency.csv\n",
      "9/72 /home/wmnlab/F/database/2024-03-20/UDP_Bandlock_9S_Phone_A/sm03/#01/data/udp_uplk_loss_latency.csv\n"
     ]
    },
    {
     "data": {
      "application/vnd.jupyter.widget-view+json": {
       "model_id": "19e59433cba84b65a2f9f9a1c5c2fb4e",
       "version_major": 2,
       "version_minor": 0
      },
      "text/plain": [
       "  0%|                                                                                                         …"
      ]
     },
     "metadata": {},
     "output_type": "display_data"
    },
    {
     "name": "stdout",
     "output_type": "stream",
     "text": [
      "/home/wmnlab/F/results/20240329_160006be6c_new_dataset_sync/dr_results/dr_20240329_1700005690/20240329_20212200001_6eb9621ab5bf38e2_75%_corr/\\home\\wmnlab\\F\\database\\2024-03-20\\UDP_Bandlock_9S_Phone_A\\sm01\\#01\\data\\udp_dnlk_loss_latency\\home\\wmnlab\\F\\database\\2024-03-20\\UDP_Bandlock_9S_Phone_A\\sm03\\#01\\data\\udp_dnlk_loss_latency.csv\n",
      "10/72 /home/wmnlab/F/database/2024-03-20/UDP_Bandlock_9S_Phone_A/sm01/#01/data/handover_info_log.csv\n",
      "10/72 /home/wmnlab/F/database/2024-03-20/UDP_Bandlock_9S_Phone_A/sm01/#01/data/udp_dnlk_loss_latency.csv\n",
      "10/72 /home/wmnlab/F/database/2024-03-20/UDP_Bandlock_9S_Phone_A/sm01/#01/data/udp_uplk_loss_latency.csv\n",
      "10/72 /home/wmnlab/F/database/2024-03-20/UDP_Bandlock_9S_Phone_A/sm04/#01/data/handover_info_log.csv\n",
      "10/72 /home/wmnlab/F/database/2024-03-20/UDP_Bandlock_9S_Phone_A/sm04/#01/data/udp_dnlk_loss_latency.csv\n",
      "10/72 /home/wmnlab/F/database/2024-03-20/UDP_Bandlock_9S_Phone_A/sm04/#01/data/udp_uplk_loss_latency.csv\n"
     ]
    },
    {
     "data": {
      "application/vnd.jupyter.widget-view+json": {
       "model_id": "c9a7d0d6bb1640ab9e4759a111fe0e13",
       "version_major": 2,
       "version_minor": 0
      },
      "text/plain": [
       "  0%|                                                                                                         …"
      ]
     },
     "metadata": {},
     "output_type": "display_data"
    },
    {
     "name": "stdout",
     "output_type": "stream",
     "text": [
      "/home/wmnlab/F/results/20240329_160006be6c_new_dataset_sync/dr_results/dr_20240329_1700005690/20240329_20212200001_6eb9621ab5bf38e2_75%_corr/\\home\\wmnlab\\F\\database\\2024-03-20\\UDP_Bandlock_9S_Phone_A\\sm01\\#01\\data\\udp_dnlk_loss_latency\\home\\wmnlab\\F\\database\\2024-03-20\\UDP_Bandlock_9S_Phone_A\\sm04\\#01\\data\\udp_dnlk_loss_latency.csv\n",
      "11/72 /home/wmnlab/F/database/2024-03-20/UDP_Bandlock_9S_Phone_A/sm01/#01/data/handover_info_log.csv\n",
      "11/72 /home/wmnlab/F/database/2024-03-20/UDP_Bandlock_9S_Phone_A/sm01/#01/data/udp_dnlk_loss_latency.csv\n",
      "11/72 /home/wmnlab/F/database/2024-03-20/UDP_Bandlock_9S_Phone_A/sm01/#01/data/udp_uplk_loss_latency.csv\n",
      "11/72 /home/wmnlab/F/database/2024-03-20/UDP_Bandlock_9S_Phone_A/sm05/#01/data/handover_info_log.csv\n",
      "11/72 /home/wmnlab/F/database/2024-03-20/UDP_Bandlock_9S_Phone_A/sm05/#01/data/udp_dnlk_loss_latency.csv\n",
      "11/72 /home/wmnlab/F/database/2024-03-20/UDP_Bandlock_9S_Phone_A/sm05/#01/data/udp_uplk_loss_latency.csv\n"
     ]
    },
    {
     "data": {
      "application/vnd.jupyter.widget-view+json": {
       "model_id": "6dc3f587a69a4fd582d959a73ab4af24",
       "version_major": 2,
       "version_minor": 0
      },
      "text/plain": [
       "  0%|                                                                                                         …"
      ]
     },
     "metadata": {},
     "output_type": "display_data"
    },
    {
     "name": "stdout",
     "output_type": "stream",
     "text": [
      "/home/wmnlab/F/results/20240329_160006be6c_new_dataset_sync/dr_results/dr_20240329_1700005690/20240329_20212200001_6eb9621ab5bf38e2_75%_corr/\\home\\wmnlab\\F\\database\\2024-03-20\\UDP_Bandlock_9S_Phone_A\\sm01\\#01\\data\\udp_dnlk_loss_latency\\home\\wmnlab\\F\\database\\2024-03-20\\UDP_Bandlock_9S_Phone_A\\sm05\\#01\\data\\udp_dnlk_loss_latency.csv\n",
      "12/72 /home/wmnlab/F/database/2024-03-20/UDP_Bandlock_9S_Phone_A/sm01/#01/data/handover_info_log.csv\n",
      "12/72 /home/wmnlab/F/database/2024-03-20/UDP_Bandlock_9S_Phone_A/sm01/#01/data/udp_dnlk_loss_latency.csv\n",
      "12/72 /home/wmnlab/F/database/2024-03-20/UDP_Bandlock_9S_Phone_A/sm01/#01/data/udp_uplk_loss_latency.csv\n",
      "12/72 /home/wmnlab/F/database/2024-03-20/UDP_Bandlock_9S_Phone_A/sm06/#01/data/handover_info_log.csv\n",
      "12/72 /home/wmnlab/F/database/2024-03-20/UDP_Bandlock_9S_Phone_A/sm06/#01/data/udp_dnlk_loss_latency.csv\n",
      "12/72 /home/wmnlab/F/database/2024-03-20/UDP_Bandlock_9S_Phone_A/sm06/#01/data/udp_uplk_loss_latency.csv\n"
     ]
    },
    {
     "data": {
      "application/vnd.jupyter.widget-view+json": {
       "model_id": "47d33c9b5c0a450ba4e26d17212dfa88",
       "version_major": 2,
       "version_minor": 0
      },
      "text/plain": [
       "  0%|                                                                                                         …"
      ]
     },
     "metadata": {},
     "output_type": "display_data"
    },
    {
     "name": "stdout",
     "output_type": "stream",
     "text": [
      "/home/wmnlab/F/results/20240329_160006be6c_new_dataset_sync/dr_results/dr_20240329_1700005690/20240329_20212200001_6eb9621ab5bf38e2_75%_corr/\\home\\wmnlab\\F\\database\\2024-03-20\\UDP_Bandlock_9S_Phone_A\\sm01\\#01\\data\\udp_dnlk_loss_latency\\home\\wmnlab\\F\\database\\2024-03-20\\UDP_Bandlock_9S_Phone_A\\sm06\\#01\\data\\udp_dnlk_loss_latency.csv\n",
      "13/72 /home/wmnlab/F/database/2024-03-20/UDP_Bandlock_9S_Phone_A/sm01/#01/data/handover_info_log.csv\n",
      "13/72 /home/wmnlab/F/database/2024-03-20/UDP_Bandlock_9S_Phone_A/sm01/#01/data/udp_dnlk_loss_latency.csv\n",
      "13/72 /home/wmnlab/F/database/2024-03-20/UDP_Bandlock_9S_Phone_A/sm01/#01/data/udp_uplk_loss_latency.csv\n",
      "13/72 /home/wmnlab/F/database/2024-03-20/UDP_Bandlock_9S_Phone_A/sm07/#01/data/handover_info_log.csv\n",
      "13/72 /home/wmnlab/F/database/2024-03-20/UDP_Bandlock_9S_Phone_A/sm07/#01/data/udp_dnlk_loss_latency.csv\n",
      "13/72 /home/wmnlab/F/database/2024-03-20/UDP_Bandlock_9S_Phone_A/sm07/#01/data/udp_uplk_loss_latency.csv\n"
     ]
    },
    {
     "data": {
      "application/vnd.jupyter.widget-view+json": {
       "model_id": "f16b6b389e844a9491caac524653b86d",
       "version_major": 2,
       "version_minor": 0
      },
      "text/plain": [
       "  0%|                                                                                                         …"
      ]
     },
     "metadata": {},
     "output_type": "display_data"
    },
    {
     "name": "stdout",
     "output_type": "stream",
     "text": [
      "/home/wmnlab/F/results/20240329_160006be6c_new_dataset_sync/dr_results/dr_20240329_1700005690/20240329_20212200001_6eb9621ab5bf38e2_75%_corr/\\home\\wmnlab\\F\\database\\2024-03-20\\UDP_Bandlock_9S_Phone_A\\sm01\\#01\\data\\udp_dnlk_loss_latency\\home\\wmnlab\\F\\database\\2024-03-20\\UDP_Bandlock_9S_Phone_A\\sm07\\#01\\data\\udp_dnlk_loss_latency.csv\n",
      "14/72 /home/wmnlab/F/database/2024-03-20/UDP_Bandlock_9S_Phone_A/sm01/#01/data/handover_info_log.csv\n",
      "14/72 /home/wmnlab/F/database/2024-03-20/UDP_Bandlock_9S_Phone_A/sm01/#01/data/udp_dnlk_loss_latency.csv\n",
      "14/72 /home/wmnlab/F/database/2024-03-20/UDP_Bandlock_9S_Phone_A/sm01/#01/data/udp_uplk_loss_latency.csv\n",
      "14/72 /home/wmnlab/F/database/2024-03-20/UDP_Bandlock_9S_Phone_A/sm08/#01/data/handover_info_log.csv\n",
      "14/72 /home/wmnlab/F/database/2024-03-20/UDP_Bandlock_9S_Phone_A/sm08/#01/data/udp_dnlk_loss_latency.csv\n",
      "14/72 /home/wmnlab/F/database/2024-03-20/UDP_Bandlock_9S_Phone_A/sm08/#01/data/udp_uplk_loss_latency.csv\n"
     ]
    },
    {
     "data": {
      "application/vnd.jupyter.widget-view+json": {
       "model_id": "c6d4f287d35e4b4891939de38c0c520f",
       "version_major": 2,
       "version_minor": 0
      },
      "text/plain": [
       "  0%|                                                                                                         …"
      ]
     },
     "metadata": {},
     "output_type": "display_data"
    },
    {
     "name": "stdout",
     "output_type": "stream",
     "text": [
      "/home/wmnlab/F/results/20240329_160006be6c_new_dataset_sync/dr_results/dr_20240329_1700005690/20240329_20212200001_6eb9621ab5bf38e2_75%_corr/\\home\\wmnlab\\F\\database\\2024-03-20\\UDP_Bandlock_9S_Phone_A\\sm01\\#01\\data\\udp_dnlk_loss_latency\\home\\wmnlab\\F\\database\\2024-03-20\\UDP_Bandlock_9S_Phone_A\\sm08\\#01\\data\\udp_dnlk_loss_latency.csv\n",
      "15/72 /home/wmnlab/F/database/2024-03-20/UDP_Bandlock_9S_Phone_A/sm02/#01/data/handover_info_log.csv\n",
      "15/72 /home/wmnlab/F/database/2024-03-20/UDP_Bandlock_9S_Phone_A/sm02/#01/data/udp_dnlk_loss_latency.csv\n",
      "15/72 /home/wmnlab/F/database/2024-03-20/UDP_Bandlock_9S_Phone_A/sm02/#01/data/udp_uplk_loss_latency.csv\n",
      "15/72 /home/wmnlab/F/database/2024-03-20/UDP_Bandlock_9S_Phone_A/sm03/#01/data/handover_info_log.csv\n",
      "15/72 /home/wmnlab/F/database/2024-03-20/UDP_Bandlock_9S_Phone_A/sm03/#01/data/udp_dnlk_loss_latency.csv\n",
      "15/72 /home/wmnlab/F/database/2024-03-20/UDP_Bandlock_9S_Phone_A/sm03/#01/data/udp_uplk_loss_latency.csv\n"
     ]
    },
    {
     "data": {
      "application/vnd.jupyter.widget-view+json": {
       "model_id": "6871a750b00140e59c2e2afede4b2897",
       "version_major": 2,
       "version_minor": 0
      },
      "text/plain": [
       "  0%|                                                                                                         …"
      ]
     },
     "metadata": {},
     "output_type": "display_data"
    },
    {
     "name": "stdout",
     "output_type": "stream",
     "text": [
      "/home/wmnlab/F/results/20240329_160006be6c_new_dataset_sync/dr_results/dr_20240329_1700005690/20240329_20212200001_6eb9621ab5bf38e2_75%_corr/\\home\\wmnlab\\F\\database\\2024-03-20\\UDP_Bandlock_9S_Phone_A\\sm02\\#01\\data\\udp_dnlk_loss_latency\\home\\wmnlab\\F\\database\\2024-03-20\\UDP_Bandlock_9S_Phone_A\\sm03\\#01\\data\\udp_dnlk_loss_latency.csv\n",
      "16/72 /home/wmnlab/F/database/2024-03-20/UDP_Bandlock_9S_Phone_A/sm02/#01/data/handover_info_log.csv\n",
      "16/72 /home/wmnlab/F/database/2024-03-20/UDP_Bandlock_9S_Phone_A/sm02/#01/data/udp_dnlk_loss_latency.csv\n",
      "16/72 /home/wmnlab/F/database/2024-03-20/UDP_Bandlock_9S_Phone_A/sm02/#01/data/udp_uplk_loss_latency.csv\n",
      "16/72 /home/wmnlab/F/database/2024-03-20/UDP_Bandlock_9S_Phone_A/sm04/#01/data/handover_info_log.csv\n",
      "16/72 /home/wmnlab/F/database/2024-03-20/UDP_Bandlock_9S_Phone_A/sm04/#01/data/udp_dnlk_loss_latency.csv\n",
      "16/72 /home/wmnlab/F/database/2024-03-20/UDP_Bandlock_9S_Phone_A/sm04/#01/data/udp_uplk_loss_latency.csv\n"
     ]
    },
    {
     "data": {
      "application/vnd.jupyter.widget-view+json": {
       "model_id": "f30571e092a54c77aa0e6cc2ff35e766",
       "version_major": 2,
       "version_minor": 0
      },
      "text/plain": [
       "  0%|                                                                                                         …"
      ]
     },
     "metadata": {},
     "output_type": "display_data"
    },
    {
     "name": "stdout",
     "output_type": "stream",
     "text": [
      "/home/wmnlab/F/results/20240329_160006be6c_new_dataset_sync/dr_results/dr_20240329_1700005690/20240329_20212200001_6eb9621ab5bf38e2_75%_corr/\\home\\wmnlab\\F\\database\\2024-03-20\\UDP_Bandlock_9S_Phone_A\\sm02\\#01\\data\\udp_dnlk_loss_latency\\home\\wmnlab\\F\\database\\2024-03-20\\UDP_Bandlock_9S_Phone_A\\sm04\\#01\\data\\udp_dnlk_loss_latency.csv\n",
      "17/72 /home/wmnlab/F/database/2024-03-20/UDP_Bandlock_9S_Phone_A/sm02/#01/data/handover_info_log.csv\n",
      "17/72 /home/wmnlab/F/database/2024-03-20/UDP_Bandlock_9S_Phone_A/sm02/#01/data/udp_dnlk_loss_latency.csv\n",
      "17/72 /home/wmnlab/F/database/2024-03-20/UDP_Bandlock_9S_Phone_A/sm02/#01/data/udp_uplk_loss_latency.csv\n",
      "17/72 /home/wmnlab/F/database/2024-03-20/UDP_Bandlock_9S_Phone_A/sm05/#01/data/handover_info_log.csv\n",
      "17/72 /home/wmnlab/F/database/2024-03-20/UDP_Bandlock_9S_Phone_A/sm05/#01/data/udp_dnlk_loss_latency.csv\n",
      "17/72 /home/wmnlab/F/database/2024-03-20/UDP_Bandlock_9S_Phone_A/sm05/#01/data/udp_uplk_loss_latency.csv\n"
     ]
    },
    {
     "data": {
      "application/vnd.jupyter.widget-view+json": {
       "model_id": "ab7e72a090b6441383124f8819fb1a0f",
       "version_major": 2,
       "version_minor": 0
      },
      "text/plain": [
       "  0%|                                                                                                         …"
      ]
     },
     "metadata": {},
     "output_type": "display_data"
    },
    {
     "name": "stdout",
     "output_type": "stream",
     "text": [
      "/home/wmnlab/F/results/20240329_160006be6c_new_dataset_sync/dr_results/dr_20240329_1700005690/20240329_20212200001_6eb9621ab5bf38e2_75%_corr/\\home\\wmnlab\\F\\database\\2024-03-20\\UDP_Bandlock_9S_Phone_A\\sm02\\#01\\data\\udp_dnlk_loss_latency\\home\\wmnlab\\F\\database\\2024-03-20\\UDP_Bandlock_9S_Phone_A\\sm05\\#01\\data\\udp_dnlk_loss_latency.csv\n",
      "18/72 /home/wmnlab/F/database/2024-03-20/UDP_Bandlock_9S_Phone_A/sm02/#01/data/handover_info_log.csv\n",
      "18/72 /home/wmnlab/F/database/2024-03-20/UDP_Bandlock_9S_Phone_A/sm02/#01/data/udp_dnlk_loss_latency.csv\n",
      "18/72 /home/wmnlab/F/database/2024-03-20/UDP_Bandlock_9S_Phone_A/sm02/#01/data/udp_uplk_loss_latency.csv\n",
      "18/72 /home/wmnlab/F/database/2024-03-20/UDP_Bandlock_9S_Phone_A/sm06/#01/data/handover_info_log.csv\n",
      "18/72 /home/wmnlab/F/database/2024-03-20/UDP_Bandlock_9S_Phone_A/sm06/#01/data/udp_dnlk_loss_latency.csv\n",
      "18/72 /home/wmnlab/F/database/2024-03-20/UDP_Bandlock_9S_Phone_A/sm06/#01/data/udp_uplk_loss_latency.csv\n"
     ]
    },
    {
     "data": {
      "application/vnd.jupyter.widget-view+json": {
       "model_id": "053e8ab029a04dd89724bdff88cbbb2d",
       "version_major": 2,
       "version_minor": 0
      },
      "text/plain": [
       "  0%|                                                                                                         …"
      ]
     },
     "metadata": {},
     "output_type": "display_data"
    },
    {
     "name": "stdout",
     "output_type": "stream",
     "text": [
      "/home/wmnlab/F/results/20240329_160006be6c_new_dataset_sync/dr_results/dr_20240329_1700005690/20240329_20212200001_6eb9621ab5bf38e2_75%_corr/\\home\\wmnlab\\F\\database\\2024-03-20\\UDP_Bandlock_9S_Phone_A\\sm02\\#01\\data\\udp_dnlk_loss_latency\\home\\wmnlab\\F\\database\\2024-03-20\\UDP_Bandlock_9S_Phone_A\\sm06\\#01\\data\\udp_dnlk_loss_latency.csv\n",
      "19/72 /home/wmnlab/F/database/2024-03-20/UDP_Bandlock_9S_Phone_A/sm02/#01/data/handover_info_log.csv\n",
      "19/72 /home/wmnlab/F/database/2024-03-20/UDP_Bandlock_9S_Phone_A/sm02/#01/data/udp_dnlk_loss_latency.csv\n",
      "19/72 /home/wmnlab/F/database/2024-03-20/UDP_Bandlock_9S_Phone_A/sm02/#01/data/udp_uplk_loss_latency.csv\n",
      "19/72 /home/wmnlab/F/database/2024-03-20/UDP_Bandlock_9S_Phone_A/sm07/#01/data/handover_info_log.csv\n",
      "19/72 /home/wmnlab/F/database/2024-03-20/UDP_Bandlock_9S_Phone_A/sm07/#01/data/udp_dnlk_loss_latency.csv\n",
      "19/72 /home/wmnlab/F/database/2024-03-20/UDP_Bandlock_9S_Phone_A/sm07/#01/data/udp_uplk_loss_latency.csv\n"
     ]
    },
    {
     "data": {
      "application/vnd.jupyter.widget-view+json": {
       "model_id": "26162fee5a0c4c5c93553c2618571842",
       "version_major": 2,
       "version_minor": 0
      },
      "text/plain": [
       "  0%|                                                                                                         …"
      ]
     },
     "metadata": {},
     "output_type": "display_data"
    },
    {
     "name": "stdout",
     "output_type": "stream",
     "text": [
      "/home/wmnlab/F/results/20240329_160006be6c_new_dataset_sync/dr_results/dr_20240329_1700005690/20240329_20212200001_6eb9621ab5bf38e2_75%_corr/\\home\\wmnlab\\F\\database\\2024-03-20\\UDP_Bandlock_9S_Phone_A\\sm02\\#01\\data\\udp_dnlk_loss_latency\\home\\wmnlab\\F\\database\\2024-03-20\\UDP_Bandlock_9S_Phone_A\\sm07\\#01\\data\\udp_dnlk_loss_latency.csv\n",
      "20/72 /home/wmnlab/F/database/2024-03-20/UDP_Bandlock_9S_Phone_A/sm02/#01/data/handover_info_log.csv\n",
      "20/72 /home/wmnlab/F/database/2024-03-20/UDP_Bandlock_9S_Phone_A/sm02/#01/data/udp_dnlk_loss_latency.csv\n",
      "20/72 /home/wmnlab/F/database/2024-03-20/UDP_Bandlock_9S_Phone_A/sm02/#01/data/udp_uplk_loss_latency.csv\n",
      "20/72 /home/wmnlab/F/database/2024-03-20/UDP_Bandlock_9S_Phone_A/sm08/#01/data/handover_info_log.csv\n",
      "20/72 /home/wmnlab/F/database/2024-03-20/UDP_Bandlock_9S_Phone_A/sm08/#01/data/udp_dnlk_loss_latency.csv\n",
      "20/72 /home/wmnlab/F/database/2024-03-20/UDP_Bandlock_9S_Phone_A/sm08/#01/data/udp_uplk_loss_latency.csv\n"
     ]
    },
    {
     "data": {
      "application/vnd.jupyter.widget-view+json": {
       "model_id": "2ffa197b214344bba502b3910696c0f9",
       "version_major": 2,
       "version_minor": 0
      },
      "text/plain": [
       "  0%|                                                                                                         …"
      ]
     },
     "metadata": {},
     "output_type": "display_data"
    },
    {
     "name": "stdout",
     "output_type": "stream",
     "text": [
      "/home/wmnlab/F/results/20240329_160006be6c_new_dataset_sync/dr_results/dr_20240329_1700005690/20240329_20212200001_6eb9621ab5bf38e2_75%_corr/\\home\\wmnlab\\F\\database\\2024-03-20\\UDP_Bandlock_9S_Phone_A\\sm02\\#01\\data\\udp_dnlk_loss_latency\\home\\wmnlab\\F\\database\\2024-03-20\\UDP_Bandlock_9S_Phone_A\\sm08\\#01\\data\\udp_dnlk_loss_latency.csv\n",
      "21/72 /home/wmnlab/F/database/2024-03-20/UDP_Bandlock_9S_Phone_A/sm03/#01/data/handover_info_log.csv\n",
      "21/72 /home/wmnlab/F/database/2024-03-20/UDP_Bandlock_9S_Phone_A/sm03/#01/data/udp_dnlk_loss_latency.csv\n",
      "21/72 /home/wmnlab/F/database/2024-03-20/UDP_Bandlock_9S_Phone_A/sm03/#01/data/udp_uplk_loss_latency.csv\n",
      "21/72 /home/wmnlab/F/database/2024-03-20/UDP_Bandlock_9S_Phone_A/sm04/#01/data/handover_info_log.csv\n",
      "21/72 /home/wmnlab/F/database/2024-03-20/UDP_Bandlock_9S_Phone_A/sm04/#01/data/udp_dnlk_loss_latency.csv\n",
      "21/72 /home/wmnlab/F/database/2024-03-20/UDP_Bandlock_9S_Phone_A/sm04/#01/data/udp_uplk_loss_latency.csv\n"
     ]
    },
    {
     "data": {
      "application/vnd.jupyter.widget-view+json": {
       "model_id": "0af2e117b4394947926aba7ab36215fb",
       "version_major": 2,
       "version_minor": 0
      },
      "text/plain": [
       "  0%|                                                                                                         …"
      ]
     },
     "metadata": {},
     "output_type": "display_data"
    },
    {
     "name": "stdout",
     "output_type": "stream",
     "text": [
      "/home/wmnlab/F/results/20240329_160006be6c_new_dataset_sync/dr_results/dr_20240329_1700005690/20240329_20212200001_6eb9621ab5bf38e2_75%_corr/\\home\\wmnlab\\F\\database\\2024-03-20\\UDP_Bandlock_9S_Phone_A\\sm03\\#01\\data\\udp_dnlk_loss_latency\\home\\wmnlab\\F\\database\\2024-03-20\\UDP_Bandlock_9S_Phone_A\\sm04\\#01\\data\\udp_dnlk_loss_latency.csv\n",
      "22/72 /home/wmnlab/F/database/2024-03-20/UDP_Bandlock_9S_Phone_A/sm03/#01/data/handover_info_log.csv\n",
      "22/72 /home/wmnlab/F/database/2024-03-20/UDP_Bandlock_9S_Phone_A/sm03/#01/data/udp_dnlk_loss_latency.csv\n",
      "22/72 /home/wmnlab/F/database/2024-03-20/UDP_Bandlock_9S_Phone_A/sm03/#01/data/udp_uplk_loss_latency.csv\n",
      "22/72 /home/wmnlab/F/database/2024-03-20/UDP_Bandlock_9S_Phone_A/sm05/#01/data/handover_info_log.csv\n",
      "22/72 /home/wmnlab/F/database/2024-03-20/UDP_Bandlock_9S_Phone_A/sm05/#01/data/udp_dnlk_loss_latency.csv\n",
      "22/72 /home/wmnlab/F/database/2024-03-20/UDP_Bandlock_9S_Phone_A/sm05/#01/data/udp_uplk_loss_latency.csv\n"
     ]
    },
    {
     "data": {
      "application/vnd.jupyter.widget-view+json": {
       "model_id": "0ae0ef2e52444ab684965834fbf720ab",
       "version_major": 2,
       "version_minor": 0
      },
      "text/plain": [
       "  0%|                                                                                                         …"
      ]
     },
     "metadata": {},
     "output_type": "display_data"
    },
    {
     "name": "stdout",
     "output_type": "stream",
     "text": [
      "/home/wmnlab/F/results/20240329_160006be6c_new_dataset_sync/dr_results/dr_20240329_1700005690/20240329_20212200001_6eb9621ab5bf38e2_75%_corr/\\home\\wmnlab\\F\\database\\2024-03-20\\UDP_Bandlock_9S_Phone_A\\sm03\\#01\\data\\udp_dnlk_loss_latency\\home\\wmnlab\\F\\database\\2024-03-20\\UDP_Bandlock_9S_Phone_A\\sm05\\#01\\data\\udp_dnlk_loss_latency.csv\n",
      "23/72 /home/wmnlab/F/database/2024-03-20/UDP_Bandlock_9S_Phone_A/sm03/#01/data/handover_info_log.csv\n",
      "23/72 /home/wmnlab/F/database/2024-03-20/UDP_Bandlock_9S_Phone_A/sm03/#01/data/udp_dnlk_loss_latency.csv\n",
      "23/72 /home/wmnlab/F/database/2024-03-20/UDP_Bandlock_9S_Phone_A/sm03/#01/data/udp_uplk_loss_latency.csv\n",
      "23/72 /home/wmnlab/F/database/2024-03-20/UDP_Bandlock_9S_Phone_A/sm06/#01/data/handover_info_log.csv\n",
      "23/72 /home/wmnlab/F/database/2024-03-20/UDP_Bandlock_9S_Phone_A/sm06/#01/data/udp_dnlk_loss_latency.csv\n",
      "23/72 /home/wmnlab/F/database/2024-03-20/UDP_Bandlock_9S_Phone_A/sm06/#01/data/udp_uplk_loss_latency.csv\n"
     ]
    },
    {
     "data": {
      "application/vnd.jupyter.widget-view+json": {
       "model_id": "8f4cc5a7aeb3482c92125f947dc50eb4",
       "version_major": 2,
       "version_minor": 0
      },
      "text/plain": [
       "  0%|                                                                                                         …"
      ]
     },
     "metadata": {},
     "output_type": "display_data"
    },
    {
     "name": "stdout",
     "output_type": "stream",
     "text": [
      "/home/wmnlab/F/results/20240329_160006be6c_new_dataset_sync/dr_results/dr_20240329_1700005690/20240329_20212200001_6eb9621ab5bf38e2_75%_corr/\\home\\wmnlab\\F\\database\\2024-03-20\\UDP_Bandlock_9S_Phone_A\\sm03\\#01\\data\\udp_dnlk_loss_latency\\home\\wmnlab\\F\\database\\2024-03-20\\UDP_Bandlock_9S_Phone_A\\sm06\\#01\\data\\udp_dnlk_loss_latency.csv\n",
      "24/72 /home/wmnlab/F/database/2024-03-20/UDP_Bandlock_9S_Phone_A/sm03/#01/data/handover_info_log.csv\n",
      "24/72 /home/wmnlab/F/database/2024-03-20/UDP_Bandlock_9S_Phone_A/sm03/#01/data/udp_dnlk_loss_latency.csv\n",
      "24/72 /home/wmnlab/F/database/2024-03-20/UDP_Bandlock_9S_Phone_A/sm03/#01/data/udp_uplk_loss_latency.csv\n",
      "24/72 /home/wmnlab/F/database/2024-03-20/UDP_Bandlock_9S_Phone_A/sm07/#01/data/handover_info_log.csv\n",
      "24/72 /home/wmnlab/F/database/2024-03-20/UDP_Bandlock_9S_Phone_A/sm07/#01/data/udp_dnlk_loss_latency.csv\n",
      "24/72 /home/wmnlab/F/database/2024-03-20/UDP_Bandlock_9S_Phone_A/sm07/#01/data/udp_uplk_loss_latency.csv\n"
     ]
    },
    {
     "data": {
      "application/vnd.jupyter.widget-view+json": {
       "model_id": "bf5ec3bc45b2448484d3179473e03bfc",
       "version_major": 2,
       "version_minor": 0
      },
      "text/plain": [
       "  0%|                                                                                                         …"
      ]
     },
     "metadata": {},
     "output_type": "display_data"
    },
    {
     "name": "stdout",
     "output_type": "stream",
     "text": [
      "/home/wmnlab/F/results/20240329_160006be6c_new_dataset_sync/dr_results/dr_20240329_1700005690/20240329_20212200001_6eb9621ab5bf38e2_75%_corr/\\home\\wmnlab\\F\\database\\2024-03-20\\UDP_Bandlock_9S_Phone_A\\sm03\\#01\\data\\udp_dnlk_loss_latency\\home\\wmnlab\\F\\database\\2024-03-20\\UDP_Bandlock_9S_Phone_A\\sm07\\#01\\data\\udp_dnlk_loss_latency.csv\n",
      "25/72 /home/wmnlab/F/database/2024-03-20/UDP_Bandlock_9S_Phone_A/sm03/#01/data/handover_info_log.csv\n",
      "25/72 /home/wmnlab/F/database/2024-03-20/UDP_Bandlock_9S_Phone_A/sm03/#01/data/udp_dnlk_loss_latency.csv\n",
      "25/72 /home/wmnlab/F/database/2024-03-20/UDP_Bandlock_9S_Phone_A/sm03/#01/data/udp_uplk_loss_latency.csv\n",
      "25/72 /home/wmnlab/F/database/2024-03-20/UDP_Bandlock_9S_Phone_A/sm08/#01/data/handover_info_log.csv\n",
      "25/72 /home/wmnlab/F/database/2024-03-20/UDP_Bandlock_9S_Phone_A/sm08/#01/data/udp_dnlk_loss_latency.csv\n",
      "25/72 /home/wmnlab/F/database/2024-03-20/UDP_Bandlock_9S_Phone_A/sm08/#01/data/udp_uplk_loss_latency.csv\n"
     ]
    },
    {
     "data": {
      "application/vnd.jupyter.widget-view+json": {
       "model_id": "acc3bacb3b28451f9cae44e2fc89037e",
       "version_major": 2,
       "version_minor": 0
      },
      "text/plain": [
       "  0%|                                                                                                         …"
      ]
     },
     "metadata": {},
     "output_type": "display_data"
    },
    {
     "name": "stdout",
     "output_type": "stream",
     "text": [
      "/home/wmnlab/F/results/20240329_160006be6c_new_dataset_sync/dr_results/dr_20240329_1700005690/20240329_20212200001_6eb9621ab5bf38e2_75%_corr/\\home\\wmnlab\\F\\database\\2024-03-20\\UDP_Bandlock_9S_Phone_A\\sm03\\#01\\data\\udp_dnlk_loss_latency\\home\\wmnlab\\F\\database\\2024-03-20\\UDP_Bandlock_9S_Phone_A\\sm08\\#01\\data\\udp_dnlk_loss_latency.csv\n",
      "26/72 /home/wmnlab/F/database/2024-03-20/UDP_Bandlock_9S_Phone_A/sm04/#01/data/handover_info_log.csv\n",
      "26/72 /home/wmnlab/F/database/2024-03-20/UDP_Bandlock_9S_Phone_A/sm04/#01/data/udp_dnlk_loss_latency.csv\n",
      "26/72 /home/wmnlab/F/database/2024-03-20/UDP_Bandlock_9S_Phone_A/sm04/#01/data/udp_uplk_loss_latency.csv\n",
      "26/72 /home/wmnlab/F/database/2024-03-20/UDP_Bandlock_9S_Phone_A/sm05/#01/data/handover_info_log.csv\n",
      "26/72 /home/wmnlab/F/database/2024-03-20/UDP_Bandlock_9S_Phone_A/sm05/#01/data/udp_dnlk_loss_latency.csv\n",
      "26/72 /home/wmnlab/F/database/2024-03-20/UDP_Bandlock_9S_Phone_A/sm05/#01/data/udp_uplk_loss_latency.csv\n"
     ]
    },
    {
     "data": {
      "application/vnd.jupyter.widget-view+json": {
       "model_id": "6d29e336101a48b1813cdc88557caa17",
       "version_major": 2,
       "version_minor": 0
      },
      "text/plain": [
       "  0%|                                                                                                         …"
      ]
     },
     "metadata": {},
     "output_type": "display_data"
    },
    {
     "name": "stdout",
     "output_type": "stream",
     "text": [
      "/home/wmnlab/F/results/20240329_160006be6c_new_dataset_sync/dr_results/dr_20240329_1700005690/20240329_20212200001_6eb9621ab5bf38e2_75%_corr/\\home\\wmnlab\\F\\database\\2024-03-20\\UDP_Bandlock_9S_Phone_A\\sm04\\#01\\data\\udp_dnlk_loss_latency\\home\\wmnlab\\F\\database\\2024-03-20\\UDP_Bandlock_9S_Phone_A\\sm05\\#01\\data\\udp_dnlk_loss_latency.csv\n",
      "27/72 /home/wmnlab/F/database/2024-03-20/UDP_Bandlock_9S_Phone_A/sm04/#01/data/handover_info_log.csv\n",
      "27/72 /home/wmnlab/F/database/2024-03-20/UDP_Bandlock_9S_Phone_A/sm04/#01/data/udp_dnlk_loss_latency.csv\n",
      "27/72 /home/wmnlab/F/database/2024-03-20/UDP_Bandlock_9S_Phone_A/sm04/#01/data/udp_uplk_loss_latency.csv\n",
      "27/72 /home/wmnlab/F/database/2024-03-20/UDP_Bandlock_9S_Phone_A/sm06/#01/data/handover_info_log.csv\n",
      "27/72 /home/wmnlab/F/database/2024-03-20/UDP_Bandlock_9S_Phone_A/sm06/#01/data/udp_dnlk_loss_latency.csv\n",
      "27/72 /home/wmnlab/F/database/2024-03-20/UDP_Bandlock_9S_Phone_A/sm06/#01/data/udp_uplk_loss_latency.csv\n"
     ]
    },
    {
     "data": {
      "application/vnd.jupyter.widget-view+json": {
       "model_id": "9313aa219c7742a5ad5daa6279ce7843",
       "version_major": 2,
       "version_minor": 0
      },
      "text/plain": [
       "  0%|                                                                                                         …"
      ]
     },
     "metadata": {},
     "output_type": "display_data"
    },
    {
     "name": "stdout",
     "output_type": "stream",
     "text": [
      "/home/wmnlab/F/results/20240329_160006be6c_new_dataset_sync/dr_results/dr_20240329_1700005690/20240329_20212200001_6eb9621ab5bf38e2_75%_corr/\\home\\wmnlab\\F\\database\\2024-03-20\\UDP_Bandlock_9S_Phone_A\\sm04\\#01\\data\\udp_dnlk_loss_latency\\home\\wmnlab\\F\\database\\2024-03-20\\UDP_Bandlock_9S_Phone_A\\sm06\\#01\\data\\udp_dnlk_loss_latency.csv\n",
      "28/72 /home/wmnlab/F/database/2024-03-20/UDP_Bandlock_9S_Phone_A/sm04/#01/data/handover_info_log.csv\n",
      "28/72 /home/wmnlab/F/database/2024-03-20/UDP_Bandlock_9S_Phone_A/sm04/#01/data/udp_dnlk_loss_latency.csv\n",
      "28/72 /home/wmnlab/F/database/2024-03-20/UDP_Bandlock_9S_Phone_A/sm04/#01/data/udp_uplk_loss_latency.csv\n",
      "28/72 /home/wmnlab/F/database/2024-03-20/UDP_Bandlock_9S_Phone_A/sm07/#01/data/handover_info_log.csv\n",
      "28/72 /home/wmnlab/F/database/2024-03-20/UDP_Bandlock_9S_Phone_A/sm07/#01/data/udp_dnlk_loss_latency.csv\n",
      "28/72 /home/wmnlab/F/database/2024-03-20/UDP_Bandlock_9S_Phone_A/sm07/#01/data/udp_uplk_loss_latency.csv\n"
     ]
    },
    {
     "data": {
      "application/vnd.jupyter.widget-view+json": {
       "model_id": "db5e7db65d4e4d319ff8bccf19bc6b80",
       "version_major": 2,
       "version_minor": 0
      },
      "text/plain": [
       "  0%|                                                                                                         …"
      ]
     },
     "metadata": {},
     "output_type": "display_data"
    },
    {
     "name": "stdout",
     "output_type": "stream",
     "text": [
      "/home/wmnlab/F/results/20240329_160006be6c_new_dataset_sync/dr_results/dr_20240329_1700005690/20240329_20212200001_6eb9621ab5bf38e2_75%_corr/\\home\\wmnlab\\F\\database\\2024-03-20\\UDP_Bandlock_9S_Phone_A\\sm04\\#01\\data\\udp_dnlk_loss_latency\\home\\wmnlab\\F\\database\\2024-03-20\\UDP_Bandlock_9S_Phone_A\\sm07\\#01\\data\\udp_dnlk_loss_latency.csv\n",
      "29/72 /home/wmnlab/F/database/2024-03-20/UDP_Bandlock_9S_Phone_A/sm04/#01/data/handover_info_log.csv\n",
      "29/72 /home/wmnlab/F/database/2024-03-20/UDP_Bandlock_9S_Phone_A/sm04/#01/data/udp_dnlk_loss_latency.csv\n",
      "29/72 /home/wmnlab/F/database/2024-03-20/UDP_Bandlock_9S_Phone_A/sm04/#01/data/udp_uplk_loss_latency.csv\n",
      "29/72 /home/wmnlab/F/database/2024-03-20/UDP_Bandlock_9S_Phone_A/sm08/#01/data/handover_info_log.csv\n",
      "29/72 /home/wmnlab/F/database/2024-03-20/UDP_Bandlock_9S_Phone_A/sm08/#01/data/udp_dnlk_loss_latency.csv\n",
      "29/72 /home/wmnlab/F/database/2024-03-20/UDP_Bandlock_9S_Phone_A/sm08/#01/data/udp_uplk_loss_latency.csv\n"
     ]
    },
    {
     "data": {
      "application/vnd.jupyter.widget-view+json": {
       "model_id": "25b07bfc009f46aa8e445f14d6b83102",
       "version_major": 2,
       "version_minor": 0
      },
      "text/plain": [
       "  0%|                                                                                                         …"
      ]
     },
     "metadata": {},
     "output_type": "display_data"
    },
    {
     "name": "stdout",
     "output_type": "stream",
     "text": [
      "/home/wmnlab/F/results/20240329_160006be6c_new_dataset_sync/dr_results/dr_20240329_1700005690/20240329_20212200001_6eb9621ab5bf38e2_75%_corr/\\home\\wmnlab\\F\\database\\2024-03-20\\UDP_Bandlock_9S_Phone_A\\sm04\\#01\\data\\udp_dnlk_loss_latency\\home\\wmnlab\\F\\database\\2024-03-20\\UDP_Bandlock_9S_Phone_A\\sm08\\#01\\data\\udp_dnlk_loss_latency.csv\n",
      "30/72 /home/wmnlab/F/database/2024-03-20/UDP_Bandlock_9S_Phone_A/sm05/#01/data/handover_info_log.csv\n",
      "30/72 /home/wmnlab/F/database/2024-03-20/UDP_Bandlock_9S_Phone_A/sm05/#01/data/udp_dnlk_loss_latency.csv\n",
      "30/72 /home/wmnlab/F/database/2024-03-20/UDP_Bandlock_9S_Phone_A/sm05/#01/data/udp_uplk_loss_latency.csv\n",
      "30/72 /home/wmnlab/F/database/2024-03-20/UDP_Bandlock_9S_Phone_A/sm06/#01/data/handover_info_log.csv\n",
      "30/72 /home/wmnlab/F/database/2024-03-20/UDP_Bandlock_9S_Phone_A/sm06/#01/data/udp_dnlk_loss_latency.csv\n",
      "30/72 /home/wmnlab/F/database/2024-03-20/UDP_Bandlock_9S_Phone_A/sm06/#01/data/udp_uplk_loss_latency.csv\n"
     ]
    },
    {
     "data": {
      "application/vnd.jupyter.widget-view+json": {
       "model_id": "b8f955a1ee1b43e3bef9536eafa651db",
       "version_major": 2,
       "version_minor": 0
      },
      "text/plain": [
       "  0%|                                                                                                         …"
      ]
     },
     "metadata": {},
     "output_type": "display_data"
    },
    {
     "name": "stdout",
     "output_type": "stream",
     "text": [
      "/home/wmnlab/F/results/20240329_160006be6c_new_dataset_sync/dr_results/dr_20240329_1700005690/20240329_20212200001_6eb9621ab5bf38e2_75%_corr/\\home\\wmnlab\\F\\database\\2024-03-20\\UDP_Bandlock_9S_Phone_A\\sm05\\#01\\data\\udp_dnlk_loss_latency\\home\\wmnlab\\F\\database\\2024-03-20\\UDP_Bandlock_9S_Phone_A\\sm06\\#01\\data\\udp_dnlk_loss_latency.csv\n",
      "31/72 /home/wmnlab/F/database/2024-03-20/UDP_Bandlock_9S_Phone_A/sm05/#01/data/handover_info_log.csv\n",
      "31/72 /home/wmnlab/F/database/2024-03-20/UDP_Bandlock_9S_Phone_A/sm05/#01/data/udp_dnlk_loss_latency.csv\n",
      "31/72 /home/wmnlab/F/database/2024-03-20/UDP_Bandlock_9S_Phone_A/sm05/#01/data/udp_uplk_loss_latency.csv\n",
      "31/72 /home/wmnlab/F/database/2024-03-20/UDP_Bandlock_9S_Phone_A/sm07/#01/data/handover_info_log.csv\n",
      "31/72 /home/wmnlab/F/database/2024-03-20/UDP_Bandlock_9S_Phone_A/sm07/#01/data/udp_dnlk_loss_latency.csv\n",
      "31/72 /home/wmnlab/F/database/2024-03-20/UDP_Bandlock_9S_Phone_A/sm07/#01/data/udp_uplk_loss_latency.csv\n"
     ]
    },
    {
     "data": {
      "application/vnd.jupyter.widget-view+json": {
       "model_id": "7d7372d83c894ef093e140bfcc226946",
       "version_major": 2,
       "version_minor": 0
      },
      "text/plain": [
       "  0%|                                                                                                         …"
      ]
     },
     "metadata": {},
     "output_type": "display_data"
    },
    {
     "name": "stdout",
     "output_type": "stream",
     "text": [
      "/home/wmnlab/F/results/20240329_160006be6c_new_dataset_sync/dr_results/dr_20240329_1700005690/20240329_20212200001_6eb9621ab5bf38e2_75%_corr/\\home\\wmnlab\\F\\database\\2024-03-20\\UDP_Bandlock_9S_Phone_A\\sm05\\#01\\data\\udp_dnlk_loss_latency\\home\\wmnlab\\F\\database\\2024-03-20\\UDP_Bandlock_9S_Phone_A\\sm07\\#01\\data\\udp_dnlk_loss_latency.csv\n",
      "32/72 /home/wmnlab/F/database/2024-03-20/UDP_Bandlock_9S_Phone_A/sm05/#01/data/handover_info_log.csv\n",
      "32/72 /home/wmnlab/F/database/2024-03-20/UDP_Bandlock_9S_Phone_A/sm05/#01/data/udp_dnlk_loss_latency.csv\n",
      "32/72 /home/wmnlab/F/database/2024-03-20/UDP_Bandlock_9S_Phone_A/sm05/#01/data/udp_uplk_loss_latency.csv\n",
      "32/72 /home/wmnlab/F/database/2024-03-20/UDP_Bandlock_9S_Phone_A/sm08/#01/data/handover_info_log.csv\n",
      "32/72 /home/wmnlab/F/database/2024-03-20/UDP_Bandlock_9S_Phone_A/sm08/#01/data/udp_dnlk_loss_latency.csv\n",
      "32/72 /home/wmnlab/F/database/2024-03-20/UDP_Bandlock_9S_Phone_A/sm08/#01/data/udp_uplk_loss_latency.csv\n"
     ]
    },
    {
     "data": {
      "application/vnd.jupyter.widget-view+json": {
       "model_id": "b7adbad9b65946d78abc73a433be1d9b",
       "version_major": 2,
       "version_minor": 0
      },
      "text/plain": [
       "  0%|                                                                                                         …"
      ]
     },
     "metadata": {},
     "output_type": "display_data"
    },
    {
     "name": "stdout",
     "output_type": "stream",
     "text": [
      "/home/wmnlab/F/results/20240329_160006be6c_new_dataset_sync/dr_results/dr_20240329_1700005690/20240329_20212200001_6eb9621ab5bf38e2_75%_corr/\\home\\wmnlab\\F\\database\\2024-03-20\\UDP_Bandlock_9S_Phone_A\\sm05\\#01\\data\\udp_dnlk_loss_latency\\home\\wmnlab\\F\\database\\2024-03-20\\UDP_Bandlock_9S_Phone_A\\sm08\\#01\\data\\udp_dnlk_loss_latency.csv\n",
      "33/72 /home/wmnlab/F/database/2024-03-20/UDP_Bandlock_9S_Phone_A/sm06/#01/data/handover_info_log.csv\n",
      "33/72 /home/wmnlab/F/database/2024-03-20/UDP_Bandlock_9S_Phone_A/sm06/#01/data/udp_dnlk_loss_latency.csv\n",
      "33/72 /home/wmnlab/F/database/2024-03-20/UDP_Bandlock_9S_Phone_A/sm06/#01/data/udp_uplk_loss_latency.csv\n",
      "33/72 /home/wmnlab/F/database/2024-03-20/UDP_Bandlock_9S_Phone_A/sm07/#01/data/handover_info_log.csv\n",
      "33/72 /home/wmnlab/F/database/2024-03-20/UDP_Bandlock_9S_Phone_A/sm07/#01/data/udp_dnlk_loss_latency.csv\n",
      "33/72 /home/wmnlab/F/database/2024-03-20/UDP_Bandlock_9S_Phone_A/sm07/#01/data/udp_uplk_loss_latency.csv\n"
     ]
    },
    {
     "data": {
      "application/vnd.jupyter.widget-view+json": {
       "model_id": "d8eb313b5c6246fe977e930ce5a4bd85",
       "version_major": 2,
       "version_minor": 0
      },
      "text/plain": [
       "  0%|                                                                                                         …"
      ]
     },
     "metadata": {},
     "output_type": "display_data"
    },
    {
     "name": "stdout",
     "output_type": "stream",
     "text": [
      "/home/wmnlab/F/results/20240329_160006be6c_new_dataset_sync/dr_results/dr_20240329_1700005690/20240329_20212200001_6eb9621ab5bf38e2_75%_corr/\\home\\wmnlab\\F\\database\\2024-03-20\\UDP_Bandlock_9S_Phone_A\\sm06\\#01\\data\\udp_dnlk_loss_latency\\home\\wmnlab\\F\\database\\2024-03-20\\UDP_Bandlock_9S_Phone_A\\sm07\\#01\\data\\udp_dnlk_loss_latency.csv\n",
      "34/72 /home/wmnlab/F/database/2024-03-20/UDP_Bandlock_9S_Phone_A/sm06/#01/data/handover_info_log.csv\n",
      "34/72 /home/wmnlab/F/database/2024-03-20/UDP_Bandlock_9S_Phone_A/sm06/#01/data/udp_dnlk_loss_latency.csv\n",
      "34/72 /home/wmnlab/F/database/2024-03-20/UDP_Bandlock_9S_Phone_A/sm06/#01/data/udp_uplk_loss_latency.csv\n",
      "34/72 /home/wmnlab/F/database/2024-03-20/UDP_Bandlock_9S_Phone_A/sm08/#01/data/handover_info_log.csv\n",
      "34/72 /home/wmnlab/F/database/2024-03-20/UDP_Bandlock_9S_Phone_A/sm08/#01/data/udp_dnlk_loss_latency.csv\n",
      "34/72 /home/wmnlab/F/database/2024-03-20/UDP_Bandlock_9S_Phone_A/sm08/#01/data/udp_uplk_loss_latency.csv\n"
     ]
    },
    {
     "data": {
      "application/vnd.jupyter.widget-view+json": {
       "model_id": "fc8a9f113d0b4eea98dfd1065792d3f6",
       "version_major": 2,
       "version_minor": 0
      },
      "text/plain": [
       "  0%|                                                                                                         …"
      ]
     },
     "metadata": {},
     "output_type": "display_data"
    },
    {
     "name": "stdout",
     "output_type": "stream",
     "text": [
      "/home/wmnlab/F/results/20240329_160006be6c_new_dataset_sync/dr_results/dr_20240329_1700005690/20240329_20212200001_6eb9621ab5bf38e2_75%_corr/\\home\\wmnlab\\F\\database\\2024-03-20\\UDP_Bandlock_9S_Phone_A\\sm06\\#01\\data\\udp_dnlk_loss_latency\\home\\wmnlab\\F\\database\\2024-03-20\\UDP_Bandlock_9S_Phone_A\\sm08\\#01\\data\\udp_dnlk_loss_latency.csv\n",
      "35/72 /home/wmnlab/F/database/2024-03-20/UDP_Bandlock_9S_Phone_A/sm07/#01/data/handover_info_log.csv\n",
      "35/72 /home/wmnlab/F/database/2024-03-20/UDP_Bandlock_9S_Phone_A/sm07/#01/data/udp_dnlk_loss_latency.csv\n",
      "35/72 /home/wmnlab/F/database/2024-03-20/UDP_Bandlock_9S_Phone_A/sm07/#01/data/udp_uplk_loss_latency.csv\n",
      "35/72 /home/wmnlab/F/database/2024-03-20/UDP_Bandlock_9S_Phone_A/sm08/#01/data/handover_info_log.csv\n",
      "35/72 /home/wmnlab/F/database/2024-03-20/UDP_Bandlock_9S_Phone_A/sm08/#01/data/udp_dnlk_loss_latency.csv\n",
      "35/72 /home/wmnlab/F/database/2024-03-20/UDP_Bandlock_9S_Phone_A/sm08/#01/data/udp_uplk_loss_latency.csv\n"
     ]
    },
    {
     "data": {
      "application/vnd.jupyter.widget-view+json": {
       "model_id": "ede9b727200c471b92526a8fd1ba61dc",
       "version_major": 2,
       "version_minor": 0
      },
      "text/plain": [
       "  0%|                                                                                                         …"
      ]
     },
     "metadata": {},
     "output_type": "display_data"
    },
    {
     "name": "stdout",
     "output_type": "stream",
     "text": [
      "/home/wmnlab/F/results/20240329_160006be6c_new_dataset_sync/dr_results/dr_20240329_1700005690/20240329_20212200001_6eb9621ab5bf38e2_75%_corr/\\home\\wmnlab\\F\\database\\2024-03-20\\UDP_Bandlock_9S_Phone_A\\sm07\\#01\\data\\udp_dnlk_loss_latency\\home\\wmnlab\\F\\database\\2024-03-20\\UDP_Bandlock_9S_Phone_A\\sm08\\#01\\data\\udp_dnlk_loss_latency.csv\n",
      "36/72 /home/wmnlab/F/database/2024-03-20/UDP_Bandlock_9S_Phone_A/sm00/#02/data/handover_info_log.csv\n",
      "36/72 /home/wmnlab/F/database/2024-03-20/UDP_Bandlock_9S_Phone_A/sm00/#02/data/udp_dnlk_loss_latency.csv\n",
      "36/72 /home/wmnlab/F/database/2024-03-20/UDP_Bandlock_9S_Phone_A/sm00/#02/data/udp_uplk_loss_latency.csv\n",
      "36/72 /home/wmnlab/F/database/2024-03-20/UDP_Bandlock_9S_Phone_A/sm01/#02/data/handover_info_log.csv\n",
      "36/72 /home/wmnlab/F/database/2024-03-20/UDP_Bandlock_9S_Phone_A/sm01/#02/data/udp_dnlk_loss_latency.csv\n",
      "36/72 /home/wmnlab/F/database/2024-03-20/UDP_Bandlock_9S_Phone_A/sm01/#02/data/udp_uplk_loss_latency.csv\n"
     ]
    },
    {
     "data": {
      "application/vnd.jupyter.widget-view+json": {
       "model_id": "48c20975ce1c47fbbbd74b006c5c7f11",
       "version_major": 2,
       "version_minor": 0
      },
      "text/plain": [
       "  0%|                                                                                                         …"
      ]
     },
     "metadata": {},
     "output_type": "display_data"
    },
    {
     "name": "stdout",
     "output_type": "stream",
     "text": [
      "/home/wmnlab/F/results/20240329_160006be6c_new_dataset_sync/dr_results/dr_20240329_1700005690/20240329_20212200001_6eb9621ab5bf38e2_75%_corr/\\home\\wmnlab\\F\\database\\2024-03-20\\UDP_Bandlock_9S_Phone_A\\sm00\\#02\\data\\udp_dnlk_loss_latency\\home\\wmnlab\\F\\database\\2024-03-20\\UDP_Bandlock_9S_Phone_A\\sm01\\#02\\data\\udp_dnlk_loss_latency.csv\n",
      "37/72 /home/wmnlab/F/database/2024-03-20/UDP_Bandlock_9S_Phone_A/sm00/#02/data/handover_info_log.csv\n",
      "37/72 /home/wmnlab/F/database/2024-03-20/UDP_Bandlock_9S_Phone_A/sm00/#02/data/udp_dnlk_loss_latency.csv\n",
      "37/72 /home/wmnlab/F/database/2024-03-20/UDP_Bandlock_9S_Phone_A/sm00/#02/data/udp_uplk_loss_latency.csv\n",
      "37/72 /home/wmnlab/F/database/2024-03-20/UDP_Bandlock_9S_Phone_A/sm02/#02/data/handover_info_log.csv\n",
      "37/72 /home/wmnlab/F/database/2024-03-20/UDP_Bandlock_9S_Phone_A/sm02/#02/data/udp_dnlk_loss_latency.csv\n",
      "37/72 /home/wmnlab/F/database/2024-03-20/UDP_Bandlock_9S_Phone_A/sm02/#02/data/udp_uplk_loss_latency.csv\n"
     ]
    },
    {
     "data": {
      "application/vnd.jupyter.widget-view+json": {
       "model_id": "2baf9d9a20f84ef9ab82ae03f095ba36",
       "version_major": 2,
       "version_minor": 0
      },
      "text/plain": [
       "  0%|                                                                                                         …"
      ]
     },
     "metadata": {},
     "output_type": "display_data"
    },
    {
     "name": "stdout",
     "output_type": "stream",
     "text": [
      "/home/wmnlab/F/results/20240329_160006be6c_new_dataset_sync/dr_results/dr_20240329_1700005690/20240329_20212200001_6eb9621ab5bf38e2_75%_corr/\\home\\wmnlab\\F\\database\\2024-03-20\\UDP_Bandlock_9S_Phone_A\\sm00\\#02\\data\\udp_dnlk_loss_latency\\home\\wmnlab\\F\\database\\2024-03-20\\UDP_Bandlock_9S_Phone_A\\sm02\\#02\\data\\udp_dnlk_loss_latency.csv\n",
      "38/72 /home/wmnlab/F/database/2024-03-20/UDP_Bandlock_9S_Phone_A/sm00/#02/data/handover_info_log.csv\n",
      "38/72 /home/wmnlab/F/database/2024-03-20/UDP_Bandlock_9S_Phone_A/sm00/#02/data/udp_dnlk_loss_latency.csv\n",
      "38/72 /home/wmnlab/F/database/2024-03-20/UDP_Bandlock_9S_Phone_A/sm00/#02/data/udp_uplk_loss_latency.csv\n",
      "38/72 /home/wmnlab/F/database/2024-03-20/UDP_Bandlock_9S_Phone_A/sm03/#02/data/handover_info_log.csv\n",
      "38/72 /home/wmnlab/F/database/2024-03-20/UDP_Bandlock_9S_Phone_A/sm03/#02/data/udp_dnlk_loss_latency.csv\n",
      "38/72 /home/wmnlab/F/database/2024-03-20/UDP_Bandlock_9S_Phone_A/sm03/#02/data/udp_uplk_loss_latency.csv\n"
     ]
    },
    {
     "data": {
      "application/vnd.jupyter.widget-view+json": {
       "model_id": "71c524d699314443b62f94333acbea37",
       "version_major": 2,
       "version_minor": 0
      },
      "text/plain": [
       "  0%|                                                                                                         …"
      ]
     },
     "metadata": {},
     "output_type": "display_data"
    },
    {
     "name": "stdout",
     "output_type": "stream",
     "text": [
      "/home/wmnlab/F/results/20240329_160006be6c_new_dataset_sync/dr_results/dr_20240329_1700005690/20240329_20212200001_6eb9621ab5bf38e2_75%_corr/\\home\\wmnlab\\F\\database\\2024-03-20\\UDP_Bandlock_9S_Phone_A\\sm00\\#02\\data\\udp_dnlk_loss_latency\\home\\wmnlab\\F\\database\\2024-03-20\\UDP_Bandlock_9S_Phone_A\\sm03\\#02\\data\\udp_dnlk_loss_latency.csv\n",
      "39/72 /home/wmnlab/F/database/2024-03-20/UDP_Bandlock_9S_Phone_A/sm00/#02/data/handover_info_log.csv\n",
      "39/72 /home/wmnlab/F/database/2024-03-20/UDP_Bandlock_9S_Phone_A/sm00/#02/data/udp_dnlk_loss_latency.csv\n",
      "39/72 /home/wmnlab/F/database/2024-03-20/UDP_Bandlock_9S_Phone_A/sm00/#02/data/udp_uplk_loss_latency.csv\n",
      "39/72 /home/wmnlab/F/database/2024-03-20/UDP_Bandlock_9S_Phone_A/sm04/#02/data/handover_info_log.csv\n",
      "39/72 /home/wmnlab/F/database/2024-03-20/UDP_Bandlock_9S_Phone_A/sm04/#02/data/udp_dnlk_loss_latency.csv\n",
      "39/72 /home/wmnlab/F/database/2024-03-20/UDP_Bandlock_9S_Phone_A/sm04/#02/data/udp_uplk_loss_latency.csv\n"
     ]
    },
    {
     "data": {
      "application/vnd.jupyter.widget-view+json": {
       "model_id": "cd8c3b019e8b4fefa761c33342088416",
       "version_major": 2,
       "version_minor": 0
      },
      "text/plain": [
       "  0%|                                                                                                         …"
      ]
     },
     "metadata": {},
     "output_type": "display_data"
    },
    {
     "name": "stdout",
     "output_type": "stream",
     "text": [
      "/home/wmnlab/F/results/20240329_160006be6c_new_dataset_sync/dr_results/dr_20240329_1700005690/20240329_20212200001_6eb9621ab5bf38e2_75%_corr/\\home\\wmnlab\\F\\database\\2024-03-20\\UDP_Bandlock_9S_Phone_A\\sm00\\#02\\data\\udp_dnlk_loss_latency\\home\\wmnlab\\F\\database\\2024-03-20\\UDP_Bandlock_9S_Phone_A\\sm04\\#02\\data\\udp_dnlk_loss_latency.csv\n",
      "40/72 /home/wmnlab/F/database/2024-03-20/UDP_Bandlock_9S_Phone_A/sm00/#02/data/handover_info_log.csv\n",
      "40/72 /home/wmnlab/F/database/2024-03-20/UDP_Bandlock_9S_Phone_A/sm00/#02/data/udp_dnlk_loss_latency.csv\n",
      "40/72 /home/wmnlab/F/database/2024-03-20/UDP_Bandlock_9S_Phone_A/sm00/#02/data/udp_uplk_loss_latency.csv\n",
      "40/72 /home/wmnlab/F/database/2024-03-20/UDP_Bandlock_9S_Phone_A/sm05/#02/data/handover_info_log.csv\n",
      "40/72 /home/wmnlab/F/database/2024-03-20/UDP_Bandlock_9S_Phone_A/sm05/#02/data/udp_dnlk_loss_latency.csv\n",
      "40/72 /home/wmnlab/F/database/2024-03-20/UDP_Bandlock_9S_Phone_A/sm05/#02/data/udp_uplk_loss_latency.csv\n"
     ]
    },
    {
     "data": {
      "application/vnd.jupyter.widget-view+json": {
       "model_id": "9237daf56b2f48adac21edc9e0742c72",
       "version_major": 2,
       "version_minor": 0
      },
      "text/plain": [
       "  0%|                                                                                                         …"
      ]
     },
     "metadata": {},
     "output_type": "display_data"
    },
    {
     "name": "stdout",
     "output_type": "stream",
     "text": [
      "/home/wmnlab/F/results/20240329_160006be6c_new_dataset_sync/dr_results/dr_20240329_1700005690/20240329_20212200001_6eb9621ab5bf38e2_75%_corr/\\home\\wmnlab\\F\\database\\2024-03-20\\UDP_Bandlock_9S_Phone_A\\sm00\\#02\\data\\udp_dnlk_loss_latency\\home\\wmnlab\\F\\database\\2024-03-20\\UDP_Bandlock_9S_Phone_A\\sm05\\#02\\data\\udp_dnlk_loss_latency.csv\n",
      "41/72 /home/wmnlab/F/database/2024-03-20/UDP_Bandlock_9S_Phone_A/sm00/#02/data/handover_info_log.csv\n",
      "41/72 /home/wmnlab/F/database/2024-03-20/UDP_Bandlock_9S_Phone_A/sm00/#02/data/udp_dnlk_loss_latency.csv\n",
      "41/72 /home/wmnlab/F/database/2024-03-20/UDP_Bandlock_9S_Phone_A/sm00/#02/data/udp_uplk_loss_latency.csv\n",
      "41/72 /home/wmnlab/F/database/2024-03-20/UDP_Bandlock_9S_Phone_A/sm06/#02/data/handover_info_log.csv\n",
      "41/72 /home/wmnlab/F/database/2024-03-20/UDP_Bandlock_9S_Phone_A/sm06/#02/data/udp_dnlk_loss_latency.csv\n",
      "41/72 /home/wmnlab/F/database/2024-03-20/UDP_Bandlock_9S_Phone_A/sm06/#02/data/udp_uplk_loss_latency.csv\n"
     ]
    },
    {
     "data": {
      "application/vnd.jupyter.widget-view+json": {
       "model_id": "5a079f9d78ec46c7ae6c7e4844cb48b0",
       "version_major": 2,
       "version_minor": 0
      },
      "text/plain": [
       "  0%|                                                                                                         …"
      ]
     },
     "metadata": {},
     "output_type": "display_data"
    },
    {
     "name": "stdout",
     "output_type": "stream",
     "text": [
      "/home/wmnlab/F/results/20240329_160006be6c_new_dataset_sync/dr_results/dr_20240329_1700005690/20240329_20212200001_6eb9621ab5bf38e2_75%_corr/\\home\\wmnlab\\F\\database\\2024-03-20\\UDP_Bandlock_9S_Phone_A\\sm00\\#02\\data\\udp_dnlk_loss_latency\\home\\wmnlab\\F\\database\\2024-03-20\\UDP_Bandlock_9S_Phone_A\\sm06\\#02\\data\\udp_dnlk_loss_latency.csv\n",
      "42/72 /home/wmnlab/F/database/2024-03-20/UDP_Bandlock_9S_Phone_A/sm00/#02/data/handover_info_log.csv\n",
      "42/72 /home/wmnlab/F/database/2024-03-20/UDP_Bandlock_9S_Phone_A/sm00/#02/data/udp_dnlk_loss_latency.csv\n",
      "42/72 /home/wmnlab/F/database/2024-03-20/UDP_Bandlock_9S_Phone_A/sm00/#02/data/udp_uplk_loss_latency.csv\n",
      "42/72 /home/wmnlab/F/database/2024-03-20/UDP_Bandlock_9S_Phone_A/sm07/#02/data/handover_info_log.csv\n",
      "42/72 /home/wmnlab/F/database/2024-03-20/UDP_Bandlock_9S_Phone_A/sm07/#02/data/udp_dnlk_loss_latency.csv\n",
      "42/72 /home/wmnlab/F/database/2024-03-20/UDP_Bandlock_9S_Phone_A/sm07/#02/data/udp_uplk_loss_latency.csv\n"
     ]
    },
    {
     "data": {
      "application/vnd.jupyter.widget-view+json": {
       "model_id": "bb759638f1874172b8353571f87c1eb6",
       "version_major": 2,
       "version_minor": 0
      },
      "text/plain": [
       "  0%|                                                                                                         …"
      ]
     },
     "metadata": {},
     "output_type": "display_data"
    },
    {
     "name": "stdout",
     "output_type": "stream",
     "text": [
      "/home/wmnlab/F/results/20240329_160006be6c_new_dataset_sync/dr_results/dr_20240329_1700005690/20240329_20212200001_6eb9621ab5bf38e2_75%_corr/\\home\\wmnlab\\F\\database\\2024-03-20\\UDP_Bandlock_9S_Phone_A\\sm00\\#02\\data\\udp_dnlk_loss_latency\\home\\wmnlab\\F\\database\\2024-03-20\\UDP_Bandlock_9S_Phone_A\\sm07\\#02\\data\\udp_dnlk_loss_latency.csv\n",
      "43/72 /home/wmnlab/F/database/2024-03-20/UDP_Bandlock_9S_Phone_A/sm00/#02/data/handover_info_log.csv\n",
      "43/72 /home/wmnlab/F/database/2024-03-20/UDP_Bandlock_9S_Phone_A/sm00/#02/data/udp_dnlk_loss_latency.csv\n",
      "43/72 /home/wmnlab/F/database/2024-03-20/UDP_Bandlock_9S_Phone_A/sm00/#02/data/udp_uplk_loss_latency.csv\n",
      "43/72 /home/wmnlab/F/database/2024-03-20/UDP_Bandlock_9S_Phone_A/sm08/#02/data/handover_info_log.csv\n",
      "43/72 /home/wmnlab/F/database/2024-03-20/UDP_Bandlock_9S_Phone_A/sm08/#02/data/udp_dnlk_loss_latency.csv\n",
      "43/72 /home/wmnlab/F/database/2024-03-20/UDP_Bandlock_9S_Phone_A/sm08/#02/data/udp_uplk_loss_latency.csv\n"
     ]
    },
    {
     "data": {
      "application/vnd.jupyter.widget-view+json": {
       "model_id": "b361fe9e5442488e8698aef15dddd76b",
       "version_major": 2,
       "version_minor": 0
      },
      "text/plain": [
       "  0%|                                                                                                         …"
      ]
     },
     "metadata": {},
     "output_type": "display_data"
    },
    {
     "name": "stdout",
     "output_type": "stream",
     "text": [
      "/home/wmnlab/F/results/20240329_160006be6c_new_dataset_sync/dr_results/dr_20240329_1700005690/20240329_20212200001_6eb9621ab5bf38e2_75%_corr/\\home\\wmnlab\\F\\database\\2024-03-20\\UDP_Bandlock_9S_Phone_A\\sm00\\#02\\data\\udp_dnlk_loss_latency\\home\\wmnlab\\F\\database\\2024-03-20\\UDP_Bandlock_9S_Phone_A\\sm08\\#02\\data\\udp_dnlk_loss_latency.csv\n",
      "44/72 /home/wmnlab/F/database/2024-03-20/UDP_Bandlock_9S_Phone_A/sm01/#02/data/handover_info_log.csv\n",
      "44/72 /home/wmnlab/F/database/2024-03-20/UDP_Bandlock_9S_Phone_A/sm01/#02/data/udp_dnlk_loss_latency.csv\n",
      "44/72 /home/wmnlab/F/database/2024-03-20/UDP_Bandlock_9S_Phone_A/sm01/#02/data/udp_uplk_loss_latency.csv\n",
      "44/72 /home/wmnlab/F/database/2024-03-20/UDP_Bandlock_9S_Phone_A/sm02/#02/data/handover_info_log.csv\n",
      "44/72 /home/wmnlab/F/database/2024-03-20/UDP_Bandlock_9S_Phone_A/sm02/#02/data/udp_dnlk_loss_latency.csv\n",
      "44/72 /home/wmnlab/F/database/2024-03-20/UDP_Bandlock_9S_Phone_A/sm02/#02/data/udp_uplk_loss_latency.csv\n"
     ]
    },
    {
     "data": {
      "application/vnd.jupyter.widget-view+json": {
       "model_id": "e41797e721304d92b0d19810fdfb577c",
       "version_major": 2,
       "version_minor": 0
      },
      "text/plain": [
       "  0%|                                                                                                         …"
      ]
     },
     "metadata": {},
     "output_type": "display_data"
    },
    {
     "name": "stdout",
     "output_type": "stream",
     "text": [
      "/home/wmnlab/F/results/20240329_160006be6c_new_dataset_sync/dr_results/dr_20240329_1700005690/20240329_20212200001_6eb9621ab5bf38e2_75%_corr/\\home\\wmnlab\\F\\database\\2024-03-20\\UDP_Bandlock_9S_Phone_A\\sm01\\#02\\data\\udp_dnlk_loss_latency\\home\\wmnlab\\F\\database\\2024-03-20\\UDP_Bandlock_9S_Phone_A\\sm02\\#02\\data\\udp_dnlk_loss_latency.csv\n",
      "45/72 /home/wmnlab/F/database/2024-03-20/UDP_Bandlock_9S_Phone_A/sm01/#02/data/handover_info_log.csv\n",
      "45/72 /home/wmnlab/F/database/2024-03-20/UDP_Bandlock_9S_Phone_A/sm01/#02/data/udp_dnlk_loss_latency.csv\n",
      "45/72 /home/wmnlab/F/database/2024-03-20/UDP_Bandlock_9S_Phone_A/sm01/#02/data/udp_uplk_loss_latency.csv\n",
      "45/72 /home/wmnlab/F/database/2024-03-20/UDP_Bandlock_9S_Phone_A/sm03/#02/data/handover_info_log.csv\n",
      "45/72 /home/wmnlab/F/database/2024-03-20/UDP_Bandlock_9S_Phone_A/sm03/#02/data/udp_dnlk_loss_latency.csv\n",
      "45/72 /home/wmnlab/F/database/2024-03-20/UDP_Bandlock_9S_Phone_A/sm03/#02/data/udp_uplk_loss_latency.csv\n"
     ]
    },
    {
     "data": {
      "application/vnd.jupyter.widget-view+json": {
       "model_id": "ba89f33955c342e184f8c2c58634a12b",
       "version_major": 2,
       "version_minor": 0
      },
      "text/plain": [
       "  0%|                                                                                                         …"
      ]
     },
     "metadata": {},
     "output_type": "display_data"
    },
    {
     "name": "stdout",
     "output_type": "stream",
     "text": [
      "/home/wmnlab/F/results/20240329_160006be6c_new_dataset_sync/dr_results/dr_20240329_1700005690/20240329_20212200001_6eb9621ab5bf38e2_75%_corr/\\home\\wmnlab\\F\\database\\2024-03-20\\UDP_Bandlock_9S_Phone_A\\sm01\\#02\\data\\udp_dnlk_loss_latency\\home\\wmnlab\\F\\database\\2024-03-20\\UDP_Bandlock_9S_Phone_A\\sm03\\#02\\data\\udp_dnlk_loss_latency.csv\n",
      "46/72 /home/wmnlab/F/database/2024-03-20/UDP_Bandlock_9S_Phone_A/sm01/#02/data/handover_info_log.csv\n",
      "46/72 /home/wmnlab/F/database/2024-03-20/UDP_Bandlock_9S_Phone_A/sm01/#02/data/udp_dnlk_loss_latency.csv\n",
      "46/72 /home/wmnlab/F/database/2024-03-20/UDP_Bandlock_9S_Phone_A/sm01/#02/data/udp_uplk_loss_latency.csv\n",
      "46/72 /home/wmnlab/F/database/2024-03-20/UDP_Bandlock_9S_Phone_A/sm04/#02/data/handover_info_log.csv\n",
      "46/72 /home/wmnlab/F/database/2024-03-20/UDP_Bandlock_9S_Phone_A/sm04/#02/data/udp_dnlk_loss_latency.csv\n",
      "46/72 /home/wmnlab/F/database/2024-03-20/UDP_Bandlock_9S_Phone_A/sm04/#02/data/udp_uplk_loss_latency.csv\n"
     ]
    },
    {
     "data": {
      "application/vnd.jupyter.widget-view+json": {
       "model_id": "d289ccea604a455a82ac3d20550b8de1",
       "version_major": 2,
       "version_minor": 0
      },
      "text/plain": [
       "  0%|                                                                                                         …"
      ]
     },
     "metadata": {},
     "output_type": "display_data"
    },
    {
     "name": "stdout",
     "output_type": "stream",
     "text": [
      "/home/wmnlab/F/results/20240329_160006be6c_new_dataset_sync/dr_results/dr_20240329_1700005690/20240329_20212200001_6eb9621ab5bf38e2_75%_corr/\\home\\wmnlab\\F\\database\\2024-03-20\\UDP_Bandlock_9S_Phone_A\\sm01\\#02\\data\\udp_dnlk_loss_latency\\home\\wmnlab\\F\\database\\2024-03-20\\UDP_Bandlock_9S_Phone_A\\sm04\\#02\\data\\udp_dnlk_loss_latency.csv\n",
      "47/72 /home/wmnlab/F/database/2024-03-20/UDP_Bandlock_9S_Phone_A/sm01/#02/data/handover_info_log.csv\n",
      "47/72 /home/wmnlab/F/database/2024-03-20/UDP_Bandlock_9S_Phone_A/sm01/#02/data/udp_dnlk_loss_latency.csv\n",
      "47/72 /home/wmnlab/F/database/2024-03-20/UDP_Bandlock_9S_Phone_A/sm01/#02/data/udp_uplk_loss_latency.csv\n",
      "47/72 /home/wmnlab/F/database/2024-03-20/UDP_Bandlock_9S_Phone_A/sm05/#02/data/handover_info_log.csv\n",
      "47/72 /home/wmnlab/F/database/2024-03-20/UDP_Bandlock_9S_Phone_A/sm05/#02/data/udp_dnlk_loss_latency.csv\n",
      "47/72 /home/wmnlab/F/database/2024-03-20/UDP_Bandlock_9S_Phone_A/sm05/#02/data/udp_uplk_loss_latency.csv\n"
     ]
    },
    {
     "data": {
      "application/vnd.jupyter.widget-view+json": {
       "model_id": "f9f69cfba4de4631a71564e28c3a68cd",
       "version_major": 2,
       "version_minor": 0
      },
      "text/plain": [
       "  0%|                                                                                                         …"
      ]
     },
     "metadata": {},
     "output_type": "display_data"
    },
    {
     "name": "stdout",
     "output_type": "stream",
     "text": [
      "/home/wmnlab/F/results/20240329_160006be6c_new_dataset_sync/dr_results/dr_20240329_1700005690/20240329_20212200001_6eb9621ab5bf38e2_75%_corr/\\home\\wmnlab\\F\\database\\2024-03-20\\UDP_Bandlock_9S_Phone_A\\sm01\\#02\\data\\udp_dnlk_loss_latency\\home\\wmnlab\\F\\database\\2024-03-20\\UDP_Bandlock_9S_Phone_A\\sm05\\#02\\data\\udp_dnlk_loss_latency.csv\n",
      "48/72 /home/wmnlab/F/database/2024-03-20/UDP_Bandlock_9S_Phone_A/sm01/#02/data/handover_info_log.csv\n",
      "48/72 /home/wmnlab/F/database/2024-03-20/UDP_Bandlock_9S_Phone_A/sm01/#02/data/udp_dnlk_loss_latency.csv\n",
      "48/72 /home/wmnlab/F/database/2024-03-20/UDP_Bandlock_9S_Phone_A/sm01/#02/data/udp_uplk_loss_latency.csv\n",
      "48/72 /home/wmnlab/F/database/2024-03-20/UDP_Bandlock_9S_Phone_A/sm06/#02/data/handover_info_log.csv\n",
      "48/72 /home/wmnlab/F/database/2024-03-20/UDP_Bandlock_9S_Phone_A/sm06/#02/data/udp_dnlk_loss_latency.csv\n",
      "48/72 /home/wmnlab/F/database/2024-03-20/UDP_Bandlock_9S_Phone_A/sm06/#02/data/udp_uplk_loss_latency.csv\n"
     ]
    },
    {
     "data": {
      "application/vnd.jupyter.widget-view+json": {
       "model_id": "7311b0f91a034fa28f2a4e0c7cfbaa85",
       "version_major": 2,
       "version_minor": 0
      },
      "text/plain": [
       "  0%|                                                                                                         …"
      ]
     },
     "metadata": {},
     "output_type": "display_data"
    },
    {
     "name": "stdout",
     "output_type": "stream",
     "text": [
      "/home/wmnlab/F/results/20240329_160006be6c_new_dataset_sync/dr_results/dr_20240329_1700005690/20240329_20212200001_6eb9621ab5bf38e2_75%_corr/\\home\\wmnlab\\F\\database\\2024-03-20\\UDP_Bandlock_9S_Phone_A\\sm01\\#02\\data\\udp_dnlk_loss_latency\\home\\wmnlab\\F\\database\\2024-03-20\\UDP_Bandlock_9S_Phone_A\\sm06\\#02\\data\\udp_dnlk_loss_latency.csv\n",
      "49/72 /home/wmnlab/F/database/2024-03-20/UDP_Bandlock_9S_Phone_A/sm01/#02/data/handover_info_log.csv\n",
      "49/72 /home/wmnlab/F/database/2024-03-20/UDP_Bandlock_9S_Phone_A/sm01/#02/data/udp_dnlk_loss_latency.csv\n",
      "49/72 /home/wmnlab/F/database/2024-03-20/UDP_Bandlock_9S_Phone_A/sm01/#02/data/udp_uplk_loss_latency.csv\n",
      "49/72 /home/wmnlab/F/database/2024-03-20/UDP_Bandlock_9S_Phone_A/sm07/#02/data/handover_info_log.csv\n",
      "49/72 /home/wmnlab/F/database/2024-03-20/UDP_Bandlock_9S_Phone_A/sm07/#02/data/udp_dnlk_loss_latency.csv\n",
      "49/72 /home/wmnlab/F/database/2024-03-20/UDP_Bandlock_9S_Phone_A/sm07/#02/data/udp_uplk_loss_latency.csv\n"
     ]
    },
    {
     "data": {
      "application/vnd.jupyter.widget-view+json": {
       "model_id": "3c6bdcfbd04c4f9da7e8e20164bb99a7",
       "version_major": 2,
       "version_minor": 0
      },
      "text/plain": [
       "  0%|                                                                                                         …"
      ]
     },
     "metadata": {},
     "output_type": "display_data"
    },
    {
     "name": "stdout",
     "output_type": "stream",
     "text": [
      "/home/wmnlab/F/results/20240329_160006be6c_new_dataset_sync/dr_results/dr_20240329_1700005690/20240329_20212200001_6eb9621ab5bf38e2_75%_corr/\\home\\wmnlab\\F\\database\\2024-03-20\\UDP_Bandlock_9S_Phone_A\\sm01\\#02\\data\\udp_dnlk_loss_latency\\home\\wmnlab\\F\\database\\2024-03-20\\UDP_Bandlock_9S_Phone_A\\sm07\\#02\\data\\udp_dnlk_loss_latency.csv\n",
      "50/72 /home/wmnlab/F/database/2024-03-20/UDP_Bandlock_9S_Phone_A/sm01/#02/data/handover_info_log.csv\n",
      "50/72 /home/wmnlab/F/database/2024-03-20/UDP_Bandlock_9S_Phone_A/sm01/#02/data/udp_dnlk_loss_latency.csv\n",
      "50/72 /home/wmnlab/F/database/2024-03-20/UDP_Bandlock_9S_Phone_A/sm01/#02/data/udp_uplk_loss_latency.csv\n",
      "50/72 /home/wmnlab/F/database/2024-03-20/UDP_Bandlock_9S_Phone_A/sm08/#02/data/handover_info_log.csv\n",
      "50/72 /home/wmnlab/F/database/2024-03-20/UDP_Bandlock_9S_Phone_A/sm08/#02/data/udp_dnlk_loss_latency.csv\n",
      "50/72 /home/wmnlab/F/database/2024-03-20/UDP_Bandlock_9S_Phone_A/sm08/#02/data/udp_uplk_loss_latency.csv\n"
     ]
    },
    {
     "data": {
      "application/vnd.jupyter.widget-view+json": {
       "model_id": "79ce8fb731f14af3b945884c899a0657",
       "version_major": 2,
       "version_minor": 0
      },
      "text/plain": [
       "  0%|                                                                                                         …"
      ]
     },
     "metadata": {},
     "output_type": "display_data"
    },
    {
     "name": "stdout",
     "output_type": "stream",
     "text": [
      "/home/wmnlab/F/results/20240329_160006be6c_new_dataset_sync/dr_results/dr_20240329_1700005690/20240329_20212200001_6eb9621ab5bf38e2_75%_corr/\\home\\wmnlab\\F\\database\\2024-03-20\\UDP_Bandlock_9S_Phone_A\\sm01\\#02\\data\\udp_dnlk_loss_latency\\home\\wmnlab\\F\\database\\2024-03-20\\UDP_Bandlock_9S_Phone_A\\sm08\\#02\\data\\udp_dnlk_loss_latency.csv\n",
      "51/72 /home/wmnlab/F/database/2024-03-20/UDP_Bandlock_9S_Phone_A/sm02/#02/data/handover_info_log.csv\n",
      "51/72 /home/wmnlab/F/database/2024-03-20/UDP_Bandlock_9S_Phone_A/sm02/#02/data/udp_dnlk_loss_latency.csv\n",
      "51/72 /home/wmnlab/F/database/2024-03-20/UDP_Bandlock_9S_Phone_A/sm02/#02/data/udp_uplk_loss_latency.csv\n",
      "51/72 /home/wmnlab/F/database/2024-03-20/UDP_Bandlock_9S_Phone_A/sm03/#02/data/handover_info_log.csv\n",
      "51/72 /home/wmnlab/F/database/2024-03-20/UDP_Bandlock_9S_Phone_A/sm03/#02/data/udp_dnlk_loss_latency.csv\n",
      "51/72 /home/wmnlab/F/database/2024-03-20/UDP_Bandlock_9S_Phone_A/sm03/#02/data/udp_uplk_loss_latency.csv\n"
     ]
    },
    {
     "data": {
      "application/vnd.jupyter.widget-view+json": {
       "model_id": "bdd98831505b410bbd735e020f621db0",
       "version_major": 2,
       "version_minor": 0
      },
      "text/plain": [
       "  0%|                                                                                                         …"
      ]
     },
     "metadata": {},
     "output_type": "display_data"
    },
    {
     "name": "stdout",
     "output_type": "stream",
     "text": [
      "/home/wmnlab/F/results/20240329_160006be6c_new_dataset_sync/dr_results/dr_20240329_1700005690/20240329_20212200001_6eb9621ab5bf38e2_75%_corr/\\home\\wmnlab\\F\\database\\2024-03-20\\UDP_Bandlock_9S_Phone_A\\sm02\\#02\\data\\udp_dnlk_loss_latency\\home\\wmnlab\\F\\database\\2024-03-20\\UDP_Bandlock_9S_Phone_A\\sm03\\#02\\data\\udp_dnlk_loss_latency.csv\n",
      "52/72 /home/wmnlab/F/database/2024-03-20/UDP_Bandlock_9S_Phone_A/sm02/#02/data/handover_info_log.csv\n",
      "52/72 /home/wmnlab/F/database/2024-03-20/UDP_Bandlock_9S_Phone_A/sm02/#02/data/udp_dnlk_loss_latency.csv\n",
      "52/72 /home/wmnlab/F/database/2024-03-20/UDP_Bandlock_9S_Phone_A/sm02/#02/data/udp_uplk_loss_latency.csv\n",
      "52/72 /home/wmnlab/F/database/2024-03-20/UDP_Bandlock_9S_Phone_A/sm04/#02/data/handover_info_log.csv\n",
      "52/72 /home/wmnlab/F/database/2024-03-20/UDP_Bandlock_9S_Phone_A/sm04/#02/data/udp_dnlk_loss_latency.csv\n",
      "52/72 /home/wmnlab/F/database/2024-03-20/UDP_Bandlock_9S_Phone_A/sm04/#02/data/udp_uplk_loss_latency.csv\n"
     ]
    },
    {
     "data": {
      "application/vnd.jupyter.widget-view+json": {
       "model_id": "481b89e7331943e4b2a060a520769361",
       "version_major": 2,
       "version_minor": 0
      },
      "text/plain": [
       "  0%|                                                                                                         …"
      ]
     },
     "metadata": {},
     "output_type": "display_data"
    },
    {
     "name": "stdout",
     "output_type": "stream",
     "text": [
      "/home/wmnlab/F/results/20240329_160006be6c_new_dataset_sync/dr_results/dr_20240329_1700005690/20240329_20212200001_6eb9621ab5bf38e2_75%_corr/\\home\\wmnlab\\F\\database\\2024-03-20\\UDP_Bandlock_9S_Phone_A\\sm02\\#02\\data\\udp_dnlk_loss_latency\\home\\wmnlab\\F\\database\\2024-03-20\\UDP_Bandlock_9S_Phone_A\\sm04\\#02\\data\\udp_dnlk_loss_latency.csv\n",
      "53/72 /home/wmnlab/F/database/2024-03-20/UDP_Bandlock_9S_Phone_A/sm02/#02/data/handover_info_log.csv\n",
      "53/72 /home/wmnlab/F/database/2024-03-20/UDP_Bandlock_9S_Phone_A/sm02/#02/data/udp_dnlk_loss_latency.csv\n",
      "53/72 /home/wmnlab/F/database/2024-03-20/UDP_Bandlock_9S_Phone_A/sm02/#02/data/udp_uplk_loss_latency.csv\n",
      "53/72 /home/wmnlab/F/database/2024-03-20/UDP_Bandlock_9S_Phone_A/sm05/#02/data/handover_info_log.csv\n",
      "53/72 /home/wmnlab/F/database/2024-03-20/UDP_Bandlock_9S_Phone_A/sm05/#02/data/udp_dnlk_loss_latency.csv\n",
      "53/72 /home/wmnlab/F/database/2024-03-20/UDP_Bandlock_9S_Phone_A/sm05/#02/data/udp_uplk_loss_latency.csv\n"
     ]
    },
    {
     "data": {
      "application/vnd.jupyter.widget-view+json": {
       "model_id": "8552f61cdbf843f4914710212208b3bc",
       "version_major": 2,
       "version_minor": 0
      },
      "text/plain": [
       "  0%|                                                                                                         …"
      ]
     },
     "metadata": {},
     "output_type": "display_data"
    },
    {
     "name": "stdout",
     "output_type": "stream",
     "text": [
      "/home/wmnlab/F/results/20240329_160006be6c_new_dataset_sync/dr_results/dr_20240329_1700005690/20240329_20212200001_6eb9621ab5bf38e2_75%_corr/\\home\\wmnlab\\F\\database\\2024-03-20\\UDP_Bandlock_9S_Phone_A\\sm02\\#02\\data\\udp_dnlk_loss_latency\\home\\wmnlab\\F\\database\\2024-03-20\\UDP_Bandlock_9S_Phone_A\\sm05\\#02\\data\\udp_dnlk_loss_latency.csv\n",
      "54/72 /home/wmnlab/F/database/2024-03-20/UDP_Bandlock_9S_Phone_A/sm02/#02/data/handover_info_log.csv\n",
      "54/72 /home/wmnlab/F/database/2024-03-20/UDP_Bandlock_9S_Phone_A/sm02/#02/data/udp_dnlk_loss_latency.csv\n",
      "54/72 /home/wmnlab/F/database/2024-03-20/UDP_Bandlock_9S_Phone_A/sm02/#02/data/udp_uplk_loss_latency.csv\n",
      "54/72 /home/wmnlab/F/database/2024-03-20/UDP_Bandlock_9S_Phone_A/sm06/#02/data/handover_info_log.csv\n",
      "54/72 /home/wmnlab/F/database/2024-03-20/UDP_Bandlock_9S_Phone_A/sm06/#02/data/udp_dnlk_loss_latency.csv\n",
      "54/72 /home/wmnlab/F/database/2024-03-20/UDP_Bandlock_9S_Phone_A/sm06/#02/data/udp_uplk_loss_latency.csv\n"
     ]
    },
    {
     "data": {
      "application/vnd.jupyter.widget-view+json": {
       "model_id": "0d7eac09d3164ce981b01923ae2efee3",
       "version_major": 2,
       "version_minor": 0
      },
      "text/plain": [
       "  0%|                                                                                                         …"
      ]
     },
     "metadata": {},
     "output_type": "display_data"
    },
    {
     "name": "stdout",
     "output_type": "stream",
     "text": [
      "/home/wmnlab/F/results/20240329_160006be6c_new_dataset_sync/dr_results/dr_20240329_1700005690/20240329_20212200001_6eb9621ab5bf38e2_75%_corr/\\home\\wmnlab\\F\\database\\2024-03-20\\UDP_Bandlock_9S_Phone_A\\sm02\\#02\\data\\udp_dnlk_loss_latency\\home\\wmnlab\\F\\database\\2024-03-20\\UDP_Bandlock_9S_Phone_A\\sm06\\#02\\data\\udp_dnlk_loss_latency.csv\n",
      "55/72 /home/wmnlab/F/database/2024-03-20/UDP_Bandlock_9S_Phone_A/sm02/#02/data/handover_info_log.csv\n",
      "55/72 /home/wmnlab/F/database/2024-03-20/UDP_Bandlock_9S_Phone_A/sm02/#02/data/udp_dnlk_loss_latency.csv\n",
      "55/72 /home/wmnlab/F/database/2024-03-20/UDP_Bandlock_9S_Phone_A/sm02/#02/data/udp_uplk_loss_latency.csv\n",
      "55/72 /home/wmnlab/F/database/2024-03-20/UDP_Bandlock_9S_Phone_A/sm07/#02/data/handover_info_log.csv\n",
      "55/72 /home/wmnlab/F/database/2024-03-20/UDP_Bandlock_9S_Phone_A/sm07/#02/data/udp_dnlk_loss_latency.csv\n",
      "55/72 /home/wmnlab/F/database/2024-03-20/UDP_Bandlock_9S_Phone_A/sm07/#02/data/udp_uplk_loss_latency.csv\n"
     ]
    },
    {
     "data": {
      "application/vnd.jupyter.widget-view+json": {
       "model_id": "b959dc0abf494806b96731f40ad6ad0a",
       "version_major": 2,
       "version_minor": 0
      },
      "text/plain": [
       "  0%|                                                                                                         …"
      ]
     },
     "metadata": {},
     "output_type": "display_data"
    },
    {
     "name": "stdout",
     "output_type": "stream",
     "text": [
      "/home/wmnlab/F/results/20240329_160006be6c_new_dataset_sync/dr_results/dr_20240329_1700005690/20240329_20212200001_6eb9621ab5bf38e2_75%_corr/\\home\\wmnlab\\F\\database\\2024-03-20\\UDP_Bandlock_9S_Phone_A\\sm02\\#02\\data\\udp_dnlk_loss_latency\\home\\wmnlab\\F\\database\\2024-03-20\\UDP_Bandlock_9S_Phone_A\\sm07\\#02\\data\\udp_dnlk_loss_latency.csv\n",
      "56/72 /home/wmnlab/F/database/2024-03-20/UDP_Bandlock_9S_Phone_A/sm02/#02/data/handover_info_log.csv\n",
      "56/72 /home/wmnlab/F/database/2024-03-20/UDP_Bandlock_9S_Phone_A/sm02/#02/data/udp_dnlk_loss_latency.csv\n",
      "56/72 /home/wmnlab/F/database/2024-03-20/UDP_Bandlock_9S_Phone_A/sm02/#02/data/udp_uplk_loss_latency.csv\n",
      "56/72 /home/wmnlab/F/database/2024-03-20/UDP_Bandlock_9S_Phone_A/sm08/#02/data/handover_info_log.csv\n",
      "56/72 /home/wmnlab/F/database/2024-03-20/UDP_Bandlock_9S_Phone_A/sm08/#02/data/udp_dnlk_loss_latency.csv\n",
      "56/72 /home/wmnlab/F/database/2024-03-20/UDP_Bandlock_9S_Phone_A/sm08/#02/data/udp_uplk_loss_latency.csv\n"
     ]
    },
    {
     "data": {
      "application/vnd.jupyter.widget-view+json": {
       "model_id": "4987b5f465834dbfa2bff87264250165",
       "version_major": 2,
       "version_minor": 0
      },
      "text/plain": [
       "  0%|                                                                                                         …"
      ]
     },
     "metadata": {},
     "output_type": "display_data"
    },
    {
     "name": "stdout",
     "output_type": "stream",
     "text": [
      "/home/wmnlab/F/results/20240329_160006be6c_new_dataset_sync/dr_results/dr_20240329_1700005690/20240329_20212200001_6eb9621ab5bf38e2_75%_corr/\\home\\wmnlab\\F\\database\\2024-03-20\\UDP_Bandlock_9S_Phone_A\\sm02\\#02\\data\\udp_dnlk_loss_latency\\home\\wmnlab\\F\\database\\2024-03-20\\UDP_Bandlock_9S_Phone_A\\sm08\\#02\\data\\udp_dnlk_loss_latency.csv\n",
      "57/72 /home/wmnlab/F/database/2024-03-20/UDP_Bandlock_9S_Phone_A/sm03/#02/data/handover_info_log.csv\n",
      "57/72 /home/wmnlab/F/database/2024-03-20/UDP_Bandlock_9S_Phone_A/sm03/#02/data/udp_dnlk_loss_latency.csv\n",
      "57/72 /home/wmnlab/F/database/2024-03-20/UDP_Bandlock_9S_Phone_A/sm03/#02/data/udp_uplk_loss_latency.csv\n",
      "57/72 /home/wmnlab/F/database/2024-03-20/UDP_Bandlock_9S_Phone_A/sm04/#02/data/handover_info_log.csv\n",
      "57/72 /home/wmnlab/F/database/2024-03-20/UDP_Bandlock_9S_Phone_A/sm04/#02/data/udp_dnlk_loss_latency.csv\n",
      "57/72 /home/wmnlab/F/database/2024-03-20/UDP_Bandlock_9S_Phone_A/sm04/#02/data/udp_uplk_loss_latency.csv\n"
     ]
    },
    {
     "data": {
      "application/vnd.jupyter.widget-view+json": {
       "model_id": "8c33ced217024e3987c15d30117d9a78",
       "version_major": 2,
       "version_minor": 0
      },
      "text/plain": [
       "  0%|                                                                                                         …"
      ]
     },
     "metadata": {},
     "output_type": "display_data"
    },
    {
     "name": "stdout",
     "output_type": "stream",
     "text": [
      "/home/wmnlab/F/results/20240329_160006be6c_new_dataset_sync/dr_results/dr_20240329_1700005690/20240329_20212200001_6eb9621ab5bf38e2_75%_corr/\\home\\wmnlab\\F\\database\\2024-03-20\\UDP_Bandlock_9S_Phone_A\\sm03\\#02\\data\\udp_dnlk_loss_latency\\home\\wmnlab\\F\\database\\2024-03-20\\UDP_Bandlock_9S_Phone_A\\sm04\\#02\\data\\udp_dnlk_loss_latency.csv\n",
      "58/72 /home/wmnlab/F/database/2024-03-20/UDP_Bandlock_9S_Phone_A/sm03/#02/data/handover_info_log.csv\n",
      "58/72 /home/wmnlab/F/database/2024-03-20/UDP_Bandlock_9S_Phone_A/sm03/#02/data/udp_dnlk_loss_latency.csv\n",
      "58/72 /home/wmnlab/F/database/2024-03-20/UDP_Bandlock_9S_Phone_A/sm03/#02/data/udp_uplk_loss_latency.csv\n",
      "58/72 /home/wmnlab/F/database/2024-03-20/UDP_Bandlock_9S_Phone_A/sm05/#02/data/handover_info_log.csv\n",
      "58/72 /home/wmnlab/F/database/2024-03-20/UDP_Bandlock_9S_Phone_A/sm05/#02/data/udp_dnlk_loss_latency.csv\n",
      "58/72 /home/wmnlab/F/database/2024-03-20/UDP_Bandlock_9S_Phone_A/sm05/#02/data/udp_uplk_loss_latency.csv\n"
     ]
    },
    {
     "data": {
      "application/vnd.jupyter.widget-view+json": {
       "model_id": "43c789fdff10434e92b9ebba83c57a97",
       "version_major": 2,
       "version_minor": 0
      },
      "text/plain": [
       "  0%|                                                                                                         …"
      ]
     },
     "metadata": {},
     "output_type": "display_data"
    },
    {
     "name": "stdout",
     "output_type": "stream",
     "text": [
      "/home/wmnlab/F/results/20240329_160006be6c_new_dataset_sync/dr_results/dr_20240329_1700005690/20240329_20212200001_6eb9621ab5bf38e2_75%_corr/\\home\\wmnlab\\F\\database\\2024-03-20\\UDP_Bandlock_9S_Phone_A\\sm03\\#02\\data\\udp_dnlk_loss_latency\\home\\wmnlab\\F\\database\\2024-03-20\\UDP_Bandlock_9S_Phone_A\\sm05\\#02\\data\\udp_dnlk_loss_latency.csv\n",
      "59/72 /home/wmnlab/F/database/2024-03-20/UDP_Bandlock_9S_Phone_A/sm03/#02/data/handover_info_log.csv\n",
      "59/72 /home/wmnlab/F/database/2024-03-20/UDP_Bandlock_9S_Phone_A/sm03/#02/data/udp_dnlk_loss_latency.csv\n",
      "59/72 /home/wmnlab/F/database/2024-03-20/UDP_Bandlock_9S_Phone_A/sm03/#02/data/udp_uplk_loss_latency.csv\n",
      "59/72 /home/wmnlab/F/database/2024-03-20/UDP_Bandlock_9S_Phone_A/sm06/#02/data/handover_info_log.csv\n",
      "59/72 /home/wmnlab/F/database/2024-03-20/UDP_Bandlock_9S_Phone_A/sm06/#02/data/udp_dnlk_loss_latency.csv\n",
      "59/72 /home/wmnlab/F/database/2024-03-20/UDP_Bandlock_9S_Phone_A/sm06/#02/data/udp_uplk_loss_latency.csv\n"
     ]
    },
    {
     "data": {
      "application/vnd.jupyter.widget-view+json": {
       "model_id": "940a0afec8834eb8837de6a0e1566682",
       "version_major": 2,
       "version_minor": 0
      },
      "text/plain": [
       "  0%|                                                                                                         …"
      ]
     },
     "metadata": {},
     "output_type": "display_data"
    },
    {
     "name": "stdout",
     "output_type": "stream",
     "text": [
      "/home/wmnlab/F/results/20240329_160006be6c_new_dataset_sync/dr_results/dr_20240329_1700005690/20240329_20212200001_6eb9621ab5bf38e2_75%_corr/\\home\\wmnlab\\F\\database\\2024-03-20\\UDP_Bandlock_9S_Phone_A\\sm03\\#02\\data\\udp_dnlk_loss_latency\\home\\wmnlab\\F\\database\\2024-03-20\\UDP_Bandlock_9S_Phone_A\\sm06\\#02\\data\\udp_dnlk_loss_latency.csv\n",
      "60/72 /home/wmnlab/F/database/2024-03-20/UDP_Bandlock_9S_Phone_A/sm03/#02/data/handover_info_log.csv\n",
      "60/72 /home/wmnlab/F/database/2024-03-20/UDP_Bandlock_9S_Phone_A/sm03/#02/data/udp_dnlk_loss_latency.csv\n",
      "60/72 /home/wmnlab/F/database/2024-03-20/UDP_Bandlock_9S_Phone_A/sm03/#02/data/udp_uplk_loss_latency.csv\n",
      "60/72 /home/wmnlab/F/database/2024-03-20/UDP_Bandlock_9S_Phone_A/sm07/#02/data/handover_info_log.csv\n",
      "60/72 /home/wmnlab/F/database/2024-03-20/UDP_Bandlock_9S_Phone_A/sm07/#02/data/udp_dnlk_loss_latency.csv\n",
      "60/72 /home/wmnlab/F/database/2024-03-20/UDP_Bandlock_9S_Phone_A/sm07/#02/data/udp_uplk_loss_latency.csv\n"
     ]
    },
    {
     "data": {
      "application/vnd.jupyter.widget-view+json": {
       "model_id": "d2fc0e0196a749a0a69fddf377071eac",
       "version_major": 2,
       "version_minor": 0
      },
      "text/plain": [
       "  0%|                                                                                                         …"
      ]
     },
     "metadata": {},
     "output_type": "display_data"
    },
    {
     "name": "stdout",
     "output_type": "stream",
     "text": [
      "/home/wmnlab/F/results/20240329_160006be6c_new_dataset_sync/dr_results/dr_20240329_1700005690/20240329_20212200001_6eb9621ab5bf38e2_75%_corr/\\home\\wmnlab\\F\\database\\2024-03-20\\UDP_Bandlock_9S_Phone_A\\sm03\\#02\\data\\udp_dnlk_loss_latency\\home\\wmnlab\\F\\database\\2024-03-20\\UDP_Bandlock_9S_Phone_A\\sm07\\#02\\data\\udp_dnlk_loss_latency.csv\n",
      "61/72 /home/wmnlab/F/database/2024-03-20/UDP_Bandlock_9S_Phone_A/sm03/#02/data/handover_info_log.csv\n",
      "61/72 /home/wmnlab/F/database/2024-03-20/UDP_Bandlock_9S_Phone_A/sm03/#02/data/udp_dnlk_loss_latency.csv\n",
      "61/72 /home/wmnlab/F/database/2024-03-20/UDP_Bandlock_9S_Phone_A/sm03/#02/data/udp_uplk_loss_latency.csv\n",
      "61/72 /home/wmnlab/F/database/2024-03-20/UDP_Bandlock_9S_Phone_A/sm08/#02/data/handover_info_log.csv\n",
      "61/72 /home/wmnlab/F/database/2024-03-20/UDP_Bandlock_9S_Phone_A/sm08/#02/data/udp_dnlk_loss_latency.csv\n",
      "61/72 /home/wmnlab/F/database/2024-03-20/UDP_Bandlock_9S_Phone_A/sm08/#02/data/udp_uplk_loss_latency.csv\n"
     ]
    },
    {
     "data": {
      "application/vnd.jupyter.widget-view+json": {
       "model_id": "abfc80d2dc524f169a57acdec9008c65",
       "version_major": 2,
       "version_minor": 0
      },
      "text/plain": [
       "  0%|                                                                                                         …"
      ]
     },
     "metadata": {},
     "output_type": "display_data"
    },
    {
     "name": "stdout",
     "output_type": "stream",
     "text": [
      "/home/wmnlab/F/results/20240329_160006be6c_new_dataset_sync/dr_results/dr_20240329_1700005690/20240329_20212200001_6eb9621ab5bf38e2_75%_corr/\\home\\wmnlab\\F\\database\\2024-03-20\\UDP_Bandlock_9S_Phone_A\\sm03\\#02\\data\\udp_dnlk_loss_latency\\home\\wmnlab\\F\\database\\2024-03-20\\UDP_Bandlock_9S_Phone_A\\sm08\\#02\\data\\udp_dnlk_loss_latency.csv\n",
      "62/72 /home/wmnlab/F/database/2024-03-20/UDP_Bandlock_9S_Phone_A/sm04/#02/data/handover_info_log.csv\n",
      "62/72 /home/wmnlab/F/database/2024-03-20/UDP_Bandlock_9S_Phone_A/sm04/#02/data/udp_dnlk_loss_latency.csv\n",
      "62/72 /home/wmnlab/F/database/2024-03-20/UDP_Bandlock_9S_Phone_A/sm04/#02/data/udp_uplk_loss_latency.csv\n",
      "62/72 /home/wmnlab/F/database/2024-03-20/UDP_Bandlock_9S_Phone_A/sm05/#02/data/handover_info_log.csv\n",
      "62/72 /home/wmnlab/F/database/2024-03-20/UDP_Bandlock_9S_Phone_A/sm05/#02/data/udp_dnlk_loss_latency.csv\n",
      "62/72 /home/wmnlab/F/database/2024-03-20/UDP_Bandlock_9S_Phone_A/sm05/#02/data/udp_uplk_loss_latency.csv\n"
     ]
    },
    {
     "data": {
      "application/vnd.jupyter.widget-view+json": {
       "model_id": "450c25cab4074077883d537dfb6f0624",
       "version_major": 2,
       "version_minor": 0
      },
      "text/plain": [
       "  0%|                                                                                                         …"
      ]
     },
     "metadata": {},
     "output_type": "display_data"
    },
    {
     "name": "stdout",
     "output_type": "stream",
     "text": [
      "/home/wmnlab/F/results/20240329_160006be6c_new_dataset_sync/dr_results/dr_20240329_1700005690/20240329_20212200001_6eb9621ab5bf38e2_75%_corr/\\home\\wmnlab\\F\\database\\2024-03-20\\UDP_Bandlock_9S_Phone_A\\sm04\\#02\\data\\udp_dnlk_loss_latency\\home\\wmnlab\\F\\database\\2024-03-20\\UDP_Bandlock_9S_Phone_A\\sm05\\#02\\data\\udp_dnlk_loss_latency.csv\n",
      "63/72 /home/wmnlab/F/database/2024-03-20/UDP_Bandlock_9S_Phone_A/sm04/#02/data/handover_info_log.csv\n",
      "63/72 /home/wmnlab/F/database/2024-03-20/UDP_Bandlock_9S_Phone_A/sm04/#02/data/udp_dnlk_loss_latency.csv\n",
      "63/72 /home/wmnlab/F/database/2024-03-20/UDP_Bandlock_9S_Phone_A/sm04/#02/data/udp_uplk_loss_latency.csv\n",
      "63/72 /home/wmnlab/F/database/2024-03-20/UDP_Bandlock_9S_Phone_A/sm06/#02/data/handover_info_log.csv\n",
      "63/72 /home/wmnlab/F/database/2024-03-20/UDP_Bandlock_9S_Phone_A/sm06/#02/data/udp_dnlk_loss_latency.csv\n",
      "63/72 /home/wmnlab/F/database/2024-03-20/UDP_Bandlock_9S_Phone_A/sm06/#02/data/udp_uplk_loss_latency.csv\n"
     ]
    },
    {
     "data": {
      "application/vnd.jupyter.widget-view+json": {
       "model_id": "89b4412448d245ab955f7105ae821e43",
       "version_major": 2,
       "version_minor": 0
      },
      "text/plain": [
       "  0%|                                                                                                         …"
      ]
     },
     "metadata": {},
     "output_type": "display_data"
    },
    {
     "name": "stdout",
     "output_type": "stream",
     "text": [
      "/home/wmnlab/F/results/20240329_160006be6c_new_dataset_sync/dr_results/dr_20240329_1700005690/20240329_20212200001_6eb9621ab5bf38e2_75%_corr/\\home\\wmnlab\\F\\database\\2024-03-20\\UDP_Bandlock_9S_Phone_A\\sm04\\#02\\data\\udp_dnlk_loss_latency\\home\\wmnlab\\F\\database\\2024-03-20\\UDP_Bandlock_9S_Phone_A\\sm06\\#02\\data\\udp_dnlk_loss_latency.csv\n",
      "64/72 /home/wmnlab/F/database/2024-03-20/UDP_Bandlock_9S_Phone_A/sm04/#02/data/handover_info_log.csv\n",
      "64/72 /home/wmnlab/F/database/2024-03-20/UDP_Bandlock_9S_Phone_A/sm04/#02/data/udp_dnlk_loss_latency.csv\n",
      "64/72 /home/wmnlab/F/database/2024-03-20/UDP_Bandlock_9S_Phone_A/sm04/#02/data/udp_uplk_loss_latency.csv\n",
      "64/72 /home/wmnlab/F/database/2024-03-20/UDP_Bandlock_9S_Phone_A/sm07/#02/data/handover_info_log.csv\n",
      "64/72 /home/wmnlab/F/database/2024-03-20/UDP_Bandlock_9S_Phone_A/sm07/#02/data/udp_dnlk_loss_latency.csv\n",
      "64/72 /home/wmnlab/F/database/2024-03-20/UDP_Bandlock_9S_Phone_A/sm07/#02/data/udp_uplk_loss_latency.csv\n"
     ]
    },
    {
     "data": {
      "application/vnd.jupyter.widget-view+json": {
       "model_id": "08037b5ff0b34ba0988a678efe559dc5",
       "version_major": 2,
       "version_minor": 0
      },
      "text/plain": [
       "  0%|                                                                                                         …"
      ]
     },
     "metadata": {},
     "output_type": "display_data"
    },
    {
     "name": "stdout",
     "output_type": "stream",
     "text": [
      "/home/wmnlab/F/results/20240329_160006be6c_new_dataset_sync/dr_results/dr_20240329_1700005690/20240329_20212200001_6eb9621ab5bf38e2_75%_corr/\\home\\wmnlab\\F\\database\\2024-03-20\\UDP_Bandlock_9S_Phone_A\\sm04\\#02\\data\\udp_dnlk_loss_latency\\home\\wmnlab\\F\\database\\2024-03-20\\UDP_Bandlock_9S_Phone_A\\sm07\\#02\\data\\udp_dnlk_loss_latency.csv\n",
      "65/72 /home/wmnlab/F/database/2024-03-20/UDP_Bandlock_9S_Phone_A/sm04/#02/data/handover_info_log.csv\n",
      "65/72 /home/wmnlab/F/database/2024-03-20/UDP_Bandlock_9S_Phone_A/sm04/#02/data/udp_dnlk_loss_latency.csv\n",
      "65/72 /home/wmnlab/F/database/2024-03-20/UDP_Bandlock_9S_Phone_A/sm04/#02/data/udp_uplk_loss_latency.csv\n",
      "65/72 /home/wmnlab/F/database/2024-03-20/UDP_Bandlock_9S_Phone_A/sm08/#02/data/handover_info_log.csv\n",
      "65/72 /home/wmnlab/F/database/2024-03-20/UDP_Bandlock_9S_Phone_A/sm08/#02/data/udp_dnlk_loss_latency.csv\n",
      "65/72 /home/wmnlab/F/database/2024-03-20/UDP_Bandlock_9S_Phone_A/sm08/#02/data/udp_uplk_loss_latency.csv\n"
     ]
    },
    {
     "data": {
      "application/vnd.jupyter.widget-view+json": {
       "model_id": "4e73ce30a0a4459aa3b3f31ab756bd3c",
       "version_major": 2,
       "version_minor": 0
      },
      "text/plain": [
       "  0%|                                                                                                         …"
      ]
     },
     "metadata": {},
     "output_type": "display_data"
    },
    {
     "name": "stdout",
     "output_type": "stream",
     "text": [
      "/home/wmnlab/F/results/20240329_160006be6c_new_dataset_sync/dr_results/dr_20240329_1700005690/20240329_20212200001_6eb9621ab5bf38e2_75%_corr/\\home\\wmnlab\\F\\database\\2024-03-20\\UDP_Bandlock_9S_Phone_A\\sm04\\#02\\data\\udp_dnlk_loss_latency\\home\\wmnlab\\F\\database\\2024-03-20\\UDP_Bandlock_9S_Phone_A\\sm08\\#02\\data\\udp_dnlk_loss_latency.csv\n",
      "66/72 /home/wmnlab/F/database/2024-03-20/UDP_Bandlock_9S_Phone_A/sm05/#02/data/handover_info_log.csv\n",
      "66/72 /home/wmnlab/F/database/2024-03-20/UDP_Bandlock_9S_Phone_A/sm05/#02/data/udp_dnlk_loss_latency.csv\n",
      "66/72 /home/wmnlab/F/database/2024-03-20/UDP_Bandlock_9S_Phone_A/sm05/#02/data/udp_uplk_loss_latency.csv\n",
      "66/72 /home/wmnlab/F/database/2024-03-20/UDP_Bandlock_9S_Phone_A/sm06/#02/data/handover_info_log.csv\n",
      "66/72 /home/wmnlab/F/database/2024-03-20/UDP_Bandlock_9S_Phone_A/sm06/#02/data/udp_dnlk_loss_latency.csv\n",
      "66/72 /home/wmnlab/F/database/2024-03-20/UDP_Bandlock_9S_Phone_A/sm06/#02/data/udp_uplk_loss_latency.csv\n"
     ]
    },
    {
     "data": {
      "application/vnd.jupyter.widget-view+json": {
       "model_id": "dac6eae795d94bb596e79ad8638a2915",
       "version_major": 2,
       "version_minor": 0
      },
      "text/plain": [
       "  0%|                                                                                                         …"
      ]
     },
     "metadata": {},
     "output_type": "display_data"
    },
    {
     "name": "stdout",
     "output_type": "stream",
     "text": [
      "/home/wmnlab/F/results/20240329_160006be6c_new_dataset_sync/dr_results/dr_20240329_1700005690/20240329_20212200001_6eb9621ab5bf38e2_75%_corr/\\home\\wmnlab\\F\\database\\2024-03-20\\UDP_Bandlock_9S_Phone_A\\sm05\\#02\\data\\udp_dnlk_loss_latency\\home\\wmnlab\\F\\database\\2024-03-20\\UDP_Bandlock_9S_Phone_A\\sm06\\#02\\data\\udp_dnlk_loss_latency.csv\n",
      "67/72 /home/wmnlab/F/database/2024-03-20/UDP_Bandlock_9S_Phone_A/sm05/#02/data/handover_info_log.csv\n",
      "67/72 /home/wmnlab/F/database/2024-03-20/UDP_Bandlock_9S_Phone_A/sm05/#02/data/udp_dnlk_loss_latency.csv\n",
      "67/72 /home/wmnlab/F/database/2024-03-20/UDP_Bandlock_9S_Phone_A/sm05/#02/data/udp_uplk_loss_latency.csv\n",
      "67/72 /home/wmnlab/F/database/2024-03-20/UDP_Bandlock_9S_Phone_A/sm07/#02/data/handover_info_log.csv\n",
      "67/72 /home/wmnlab/F/database/2024-03-20/UDP_Bandlock_9S_Phone_A/sm07/#02/data/udp_dnlk_loss_latency.csv\n",
      "67/72 /home/wmnlab/F/database/2024-03-20/UDP_Bandlock_9S_Phone_A/sm07/#02/data/udp_uplk_loss_latency.csv\n"
     ]
    },
    {
     "data": {
      "application/vnd.jupyter.widget-view+json": {
       "model_id": "0834bfe6b74347a3afebb61511653f12",
       "version_major": 2,
       "version_minor": 0
      },
      "text/plain": [
       "  0%|                                                                                                         …"
      ]
     },
     "metadata": {},
     "output_type": "display_data"
    },
    {
     "name": "stdout",
     "output_type": "stream",
     "text": [
      "/home/wmnlab/F/results/20240329_160006be6c_new_dataset_sync/dr_results/dr_20240329_1700005690/20240329_20212200001_6eb9621ab5bf38e2_75%_corr/\\home\\wmnlab\\F\\database\\2024-03-20\\UDP_Bandlock_9S_Phone_A\\sm05\\#02\\data\\udp_dnlk_loss_latency\\home\\wmnlab\\F\\database\\2024-03-20\\UDP_Bandlock_9S_Phone_A\\sm07\\#02\\data\\udp_dnlk_loss_latency.csv\n",
      "68/72 /home/wmnlab/F/database/2024-03-20/UDP_Bandlock_9S_Phone_A/sm05/#02/data/handover_info_log.csv\n",
      "68/72 /home/wmnlab/F/database/2024-03-20/UDP_Bandlock_9S_Phone_A/sm05/#02/data/udp_dnlk_loss_latency.csv\n",
      "68/72 /home/wmnlab/F/database/2024-03-20/UDP_Bandlock_9S_Phone_A/sm05/#02/data/udp_uplk_loss_latency.csv\n",
      "68/72 /home/wmnlab/F/database/2024-03-20/UDP_Bandlock_9S_Phone_A/sm08/#02/data/handover_info_log.csv\n",
      "68/72 /home/wmnlab/F/database/2024-03-20/UDP_Bandlock_9S_Phone_A/sm08/#02/data/udp_dnlk_loss_latency.csv\n",
      "68/72 /home/wmnlab/F/database/2024-03-20/UDP_Bandlock_9S_Phone_A/sm08/#02/data/udp_uplk_loss_latency.csv\n"
     ]
    },
    {
     "data": {
      "application/vnd.jupyter.widget-view+json": {
       "model_id": "743c8c54c75b48a7bd3b20dda1f94ec9",
       "version_major": 2,
       "version_minor": 0
      },
      "text/plain": [
       "  0%|                                                                                                         …"
      ]
     },
     "metadata": {},
     "output_type": "display_data"
    },
    {
     "name": "stdout",
     "output_type": "stream",
     "text": [
      "/home/wmnlab/F/results/20240329_160006be6c_new_dataset_sync/dr_results/dr_20240329_1700005690/20240329_20212200001_6eb9621ab5bf38e2_75%_corr/\\home\\wmnlab\\F\\database\\2024-03-20\\UDP_Bandlock_9S_Phone_A\\sm05\\#02\\data\\udp_dnlk_loss_latency\\home\\wmnlab\\F\\database\\2024-03-20\\UDP_Bandlock_9S_Phone_A\\sm08\\#02\\data\\udp_dnlk_loss_latency.csv\n",
      "69/72 /home/wmnlab/F/database/2024-03-20/UDP_Bandlock_9S_Phone_A/sm06/#02/data/handover_info_log.csv\n",
      "69/72 /home/wmnlab/F/database/2024-03-20/UDP_Bandlock_9S_Phone_A/sm06/#02/data/udp_dnlk_loss_latency.csv\n",
      "69/72 /home/wmnlab/F/database/2024-03-20/UDP_Bandlock_9S_Phone_A/sm06/#02/data/udp_uplk_loss_latency.csv\n",
      "69/72 /home/wmnlab/F/database/2024-03-20/UDP_Bandlock_9S_Phone_A/sm07/#02/data/handover_info_log.csv\n",
      "69/72 /home/wmnlab/F/database/2024-03-20/UDP_Bandlock_9S_Phone_A/sm07/#02/data/udp_dnlk_loss_latency.csv\n",
      "69/72 /home/wmnlab/F/database/2024-03-20/UDP_Bandlock_9S_Phone_A/sm07/#02/data/udp_uplk_loss_latency.csv\n"
     ]
    },
    {
     "data": {
      "application/vnd.jupyter.widget-view+json": {
       "model_id": "72bb16753f7140b5bc6b40c6a77f1e39",
       "version_major": 2,
       "version_minor": 0
      },
      "text/plain": [
       "  0%|                                                                                                         …"
      ]
     },
     "metadata": {},
     "output_type": "display_data"
    },
    {
     "name": "stdout",
     "output_type": "stream",
     "text": [
      "/home/wmnlab/F/results/20240329_160006be6c_new_dataset_sync/dr_results/dr_20240329_1700005690/20240329_20212200001_6eb9621ab5bf38e2_75%_corr/\\home\\wmnlab\\F\\database\\2024-03-20\\UDP_Bandlock_9S_Phone_A\\sm06\\#02\\data\\udp_dnlk_loss_latency\\home\\wmnlab\\F\\database\\2024-03-20\\UDP_Bandlock_9S_Phone_A\\sm07\\#02\\data\\udp_dnlk_loss_latency.csv\n",
      "70/72 /home/wmnlab/F/database/2024-03-20/UDP_Bandlock_9S_Phone_A/sm06/#02/data/handover_info_log.csv\n",
      "70/72 /home/wmnlab/F/database/2024-03-20/UDP_Bandlock_9S_Phone_A/sm06/#02/data/udp_dnlk_loss_latency.csv\n",
      "70/72 /home/wmnlab/F/database/2024-03-20/UDP_Bandlock_9S_Phone_A/sm06/#02/data/udp_uplk_loss_latency.csv\n",
      "70/72 /home/wmnlab/F/database/2024-03-20/UDP_Bandlock_9S_Phone_A/sm08/#02/data/handover_info_log.csv\n",
      "70/72 /home/wmnlab/F/database/2024-03-20/UDP_Bandlock_9S_Phone_A/sm08/#02/data/udp_dnlk_loss_latency.csv\n",
      "70/72 /home/wmnlab/F/database/2024-03-20/UDP_Bandlock_9S_Phone_A/sm08/#02/data/udp_uplk_loss_latency.csv\n"
     ]
    },
    {
     "data": {
      "application/vnd.jupyter.widget-view+json": {
       "model_id": "aad54afcb9a3476e8b53fb9b42eca467",
       "version_major": 2,
       "version_minor": 0
      },
      "text/plain": [
       "  0%|                                                                                                         …"
      ]
     },
     "metadata": {},
     "output_type": "display_data"
    },
    {
     "name": "stdout",
     "output_type": "stream",
     "text": [
      "/home/wmnlab/F/results/20240329_160006be6c_new_dataset_sync/dr_results/dr_20240329_1700005690/20240329_20212200001_6eb9621ab5bf38e2_75%_corr/\\home\\wmnlab\\F\\database\\2024-03-20\\UDP_Bandlock_9S_Phone_A\\sm06\\#02\\data\\udp_dnlk_loss_latency\\home\\wmnlab\\F\\database\\2024-03-20\\UDP_Bandlock_9S_Phone_A\\sm08\\#02\\data\\udp_dnlk_loss_latency.csv\n",
      "71/72 /home/wmnlab/F/database/2024-03-20/UDP_Bandlock_9S_Phone_A/sm07/#02/data/handover_info_log.csv\n",
      "71/72 /home/wmnlab/F/database/2024-03-20/UDP_Bandlock_9S_Phone_A/sm07/#02/data/udp_dnlk_loss_latency.csv\n",
      "71/72 /home/wmnlab/F/database/2024-03-20/UDP_Bandlock_9S_Phone_A/sm07/#02/data/udp_uplk_loss_latency.csv\n",
      "71/72 /home/wmnlab/F/database/2024-03-20/UDP_Bandlock_9S_Phone_A/sm08/#02/data/handover_info_log.csv\n",
      "71/72 /home/wmnlab/F/database/2024-03-20/UDP_Bandlock_9S_Phone_A/sm08/#02/data/udp_dnlk_loss_latency.csv\n",
      "71/72 /home/wmnlab/F/database/2024-03-20/UDP_Bandlock_9S_Phone_A/sm08/#02/data/udp_uplk_loss_latency.csv\n"
     ]
    },
    {
     "data": {
      "application/vnd.jupyter.widget-view+json": {
       "model_id": "4ad231eac6d04c9ab24ac973c6da44d6",
       "version_major": 2,
       "version_minor": 0
      },
      "text/plain": [
       "  0%|                                                                                                         …"
      ]
     },
     "metadata": {},
     "output_type": "display_data"
    },
    {
     "name": "stdout",
     "output_type": "stream",
     "text": [
      "/home/wmnlab/F/results/20240329_160006be6c_new_dataset_sync/dr_results/dr_20240329_1700005690/20240329_20212200001_6eb9621ab5bf38e2_75%_corr/\\home\\wmnlab\\F\\database\\2024-03-20\\UDP_Bandlock_9S_Phone_A\\sm07\\#02\\data\\udp_dnlk_loss_latency\\home\\wmnlab\\F\\database\\2024-03-20\\UDP_Bandlock_9S_Phone_A\\sm08\\#02\\data\\udp_dnlk_loss_latency.csv\n",
      "./20240329_160006be6c_new_dataset_sync/dr_20240329_1700005690/figures/20240329_A_75%_corr_20212200001_6eb9621ab5bf38e2.png\n"
     ]
    },
    {
     "data": {
      "image/png": "[encoded data removed]",
      "text/plain": [
       "<Figure size 600x400 with 1 Axes>"
      ]
     },
     "metadata": {
      "image/png": {
       "height": 371,
       "width": 556
      }
     },
     "output_type": "display_data"
    }
   ],
   "source": [
    "eval = DrEval(filepaths, model_name='A', model_suffix=suffix, sr_model_id=sr_model_id, dr_model_id=dr_model_id)\n",
    "eval.run_hist_method(N=1)\n",
    "eval.plot('A')"
   ]
  },
  {
   "cell_type": "markdown",
   "metadata": {},
   "source": [
    "# Show Model IDs"
   ]
  },
  {
   "cell_type": "code",
   "execution_count": 11,
   "metadata": {},
   "outputs": [
    {
     "name": "stdout",
     "output_type": "stream",
     "text": [
      "SR Model ID: 20240329_160006be6c_new_dataset_sync\n",
      "DR Model ID: dr_20240329_1700005690\n"
     ]
    }
   ],
   "source": [
    "print('SR Model ID:', sr_model_id)\n",
    "print('DR Model ID:', dr_model_id)\n"
   ]
  },
  {
   "cell_type": "code",
   "execution_count": null,
   "metadata": {},
   "outputs": [],
   "source": []
  }
 ],
 "metadata": {
  "kernelspec": {
   "display_name": "moxa",
   "language": "python",
   "name": "python3"
  },
  "language_info": {
   "codemirror_mode": {
    "name": "ipython",
    "version": 3
   },
   "file_extension": ".py",
   "mimetype": "text/x-python",
   "name": "python",
   "nbconvert_exporter": "python",
   "pygments_lexer": "ipython3",
   "version": "3.8.18"
  },
  "vscode": {
   "interpreter": {
    "hash": "ac7929854b6d4d7e2ce5893f875cc9f600cfede08169dbb82e36bcbc7af2498e"
   }
  }
 },
 "nbformat": 4,
 "nbformat_minor": 2
}
