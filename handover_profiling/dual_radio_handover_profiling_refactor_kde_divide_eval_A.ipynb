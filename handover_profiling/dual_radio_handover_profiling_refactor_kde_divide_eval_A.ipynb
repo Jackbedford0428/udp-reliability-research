{
 "cells": [
  {
   "cell_type": "markdown",
   "metadata": {},
   "source": [
    "# Import Modules & Util Functions"
   ]
  },
  {
   "cell_type": "code",
   "execution_count": 6,
   "metadata": {},
   "outputs": [],
   "source": [
    "import os\n",
    "import sys\n",
    "import glob\n",
    "import re\n",
    "import ast\n",
    "import warnings\n",
    "import time\n",
    "\n",
    "import csv\n",
    "import json\n",
    "import pickle\n",
    "\n",
    "import math\n",
    "import random\n",
    "import numpy as np\n",
    "import scipy as sp\n",
    "import datetime as dt\n",
    "import pandas as pd\n",
    "import swifter\n",
    "from scipy.stats import gaussian_kde\n",
    "from scipy.integrate import quad\n",
    "from scipy.optimize import minimize\n",
    "from sklearn.metrics import mean_squared_error\n",
    "\n",
    "import portion as P\n",
    "import itertools as it\n",
    "import copy\n",
    "from tqdm.notebook import tqdm\n",
    "from collections import namedtuple\n",
    "from pprint import pprint\n",
    "from pytictoc import TicToc\n",
    "\n",
    "import matplotlib\n",
    "import matplotlib.pyplot as plt\n",
    "import seaborn as sns\n",
    "\n",
    "from my_utils import *\n",
    "\n",
    "# Configure display options\n",
    "# pd.set_option('display.max_rows', 200)\n",
    "pd.set_option('display.max_columns', 100)\n",
    "%config InlineBackend.figure_format = 'retina'\n",
    "\n",
    "# Set plot style\n",
    "# plt.style.use('ggplot')\n"
   ]
  },
  {
   "cell_type": "markdown",
   "metadata": {},
   "source": [
    "# Dual Radio Evaluation"
   ]
  },
  {
   "cell_type": "code",
   "execution_count": 7,
   "metadata": {},
   "outputs": [],
   "source": [
    "class DEval:\n",
    "    def __init__(self, filepaths, model_name='Test', model_suffix=None, sr_model_id=None, dr_model_id=None, load_path='.', save_path='.',\n",
    "                 sp_columns=['type'], ts_column='Timestamp',\n",
    "                 metrics=['dl_lost']):\n",
    "        # Initialize instance variables\n",
    "        self.filepaths = copy.deepcopy(filepaths)\n",
    "        \n",
    "        if sr_model_id is None:\n",
    "            raise TypeError(\"請輸入SR模型編號\")\n",
    "        else:\n",
    "            self.sr_model_id = sr_model_id\n",
    "        \n",
    "        if dr_model_id is None:\n",
    "            raise TypeError(\"請輸入DR模型編號\")\n",
    "        else:\n",
    "            self.dr_model_id = dr_model_id\n",
    "        \n",
    "        self.model_name = model_name\n",
    "        self.save_path = save_path\n",
    "        \n",
    "        self.load_path = os.path.join(load_path, self.sr_model_id, 'models', self.model_name)\n",
    "        print(self.load_path)\n",
    "        with open(f'{self.load_path}_kde_models.pkl', 'rb') as f:\n",
    "            self.kde_models = pickle.load(f)\n",
    "        with open(f'{self.load_path}_hist_models.pkl', 'rb') as f:\n",
    "            self.hist_models = pickle.load(f)\n",
    "        with open(f'{self.load_path}_scope_models.pkl', 'rb') as f:\n",
    "            self.scope_models = pickle.load(f)\n",
    "        with open(f'{self.load_path}_plr_models.pkl', 'rb') as f:\n",
    "            self.plr_models = pickle.load(f)\n",
    "        with open(f'{self.load_path}_sr_prob_models.pkl', 'rb') as f:\n",
    "            self.sr_prob_models = pickle.load(f)\n",
    "            \n",
    "        self.load_path = os.path.join(load_path, self.sr_model_id, self.dr_model_id, self.model_name)\n",
    "        print(self.load_path)\n",
    "        if model_suffix is None:\n",
    "            print(f'{self.load_path}_dr_prob_models.pkl')\n",
    "            with open(f'{self.load_path}_dr_prob_models.pkl', 'rb') as f:\n",
    "                self.dr_prob_models = pickle.load(f)\n",
    "        else:\n",
    "            print(f'{self.load_path}_dr_prob_models_{model_suffix}.pkl')\n",
    "            with open(f'{self.load_path}_dr_prob_models_{model_suffix}.pkl', 'rb') as f:\n",
    "                self.dr_prob_models = pickle.load(f)\n",
    "        self.model_suffix = model_suffix\n",
    "        \n",
    "        self.sp_columns = sp_columns[:]\n",
    "        self.ts_column = ts_column\n",
    "        self.metrics = metrics[:]\n",
    "        \n",
    "        _, _, _, self.figure_id = figure_identity()\n",
    "        \n",
    "        # Sample data\n",
    "        self.LOSS_GT = []\n",
    "        self.LOSS_EV = []\n",
    "        self.LOSS_STD = []\n",
    "        self.DEVICES = []\n",
    "        self.TRACES = []\n",
    "        \n",
    "        # all records\n",
    "        self.records = []\n",
    "\n",
    "    @staticmethod\n",
    "    def generate_random_boolean(probability_true):\n",
    "        return random.random() < probability_true\n",
    "    \n",
    "    @staticmethod\n",
    "    def interpolate(x, y, ratio=0.5):\n",
    "        \"\"\"\n",
    "        Args:\n",
    "            x, y (datetime.datetime): x < y\n",
    "            ratio (float): a decimal numeral in a range [0, 1]; 0 means break at x, 1 means break at y.\n",
    "        Returns:\n",
    "            (datetime.datetime): breakpoint of interpolation\n",
    "        \"\"\"\n",
    "        return x + (y - x) * ratio\n",
    "    \n",
    "    def hist_method(self, df, ho_df, mode_mets, mets, RATE_TYPE):\n",
    "        scope = self.scope_models[mode_mets]\n",
    "        hist_model = self.hist_models[mode_mets]\n",
    "        prob_model = self.sr_prob_models[mode_mets]\n",
    "        plr_model = self.plr_models[mode_mets]\n",
    "        \n",
    "        this_df = df.copy()\n",
    "        for i, row in ho_df.iterrows():\n",
    "            prior_row = ho_df.iloc[i-1] if i != 0 else None\n",
    "            post_row = ho_df.iloc[i+1] if i != len(ho_df) - 1 else None\n",
    "\n",
    "            # Peek the next event to avoid HO overlapping with handoverFailure (skip!!)\n",
    "            if i != len(ho_df) - 1 and pd.notna(row.end) and row.end > post_row.start:\n",
    "                # print('Overlapping event occurs!!')\n",
    "                # print(i, row['start'], row['end'], row['type'], row['cause'])\n",
    "                # print(i+1, post_row['start'], post_row['end'], post_row['type'], post_row['cause'])\n",
    "                continue\n",
    "            \n",
    "            # Set prior event if the prior loop is skipped\n",
    "            if i != 0 and pd.notna(prior_row.end) and prior_row.end > row.start:\n",
    "                prior_row = ho_df.iloc[i-2] if i > 1 else None\n",
    "            \n",
    "            # Basic information of the current row\n",
    "            tag = '_'.join([s for s in row[self.sp_columns] if pd.notna(s)])  # specific column name\n",
    "            start_ts, end_ts = row['start'], row['end']  # handover start/end time\n",
    "            interruption_time = (end_ts - start_ts).total_seconds() if pd.notna(end_ts) else 0  # handover interruption time\n",
    "            \n",
    "            # Set simple left/right bounds\n",
    "            current_left_bound = start_ts + pd.Timedelta(seconds=(scope[tag][0]))\n",
    "            current_right_bound = start_ts + pd.Timedelta(seconds=(scope[tag][1]))\n",
    "            \n",
    "            # Set left/right bounds to avoid event overlapping with each other\n",
    "            if prior_row is not None:\n",
    "                prior_tag = '_'.join([s for s in prior_row[self.sp_columns] if pd.notna(s)])\n",
    "                prior_right_bound = prior_row['start'] + pd.Timedelta(seconds=(scope[prior_tag][1]))\n",
    "                if pd.notna(prior_row['end']):\n",
    "                    left_bound = min(max(current_left_bound, DEval.interpolate(prior_right_bound, current_left_bound), prior_row['end']), start_ts)\n",
    "                else:\n",
    "                    left_bound = min(max(current_left_bound, DEval.interpolate(prior_right_bound, current_left_bound), prior_row['start']), start_ts)\n",
    "            else:\n",
    "                left_bound = current_left_bound\n",
    "            \n",
    "            if post_row is not None:\n",
    "                post_tag = '_'.join([s for s in post_row[self.sp_columns] if pd.notna(s)])\n",
    "                post_left_bound = post_row['start'] + pd.Timedelta(seconds=(scope[post_tag][0]))\n",
    "                if pd.notna(end_ts):\n",
    "                    right_bound = max(min(current_right_bound, DEval.interpolate(current_right_bound, post_left_bound), post_row['start']), end_ts)\n",
    "                else:\n",
    "                    right_bound = max(min(current_right_bound, DEval.interpolate(current_right_bound, post_left_bound), post_row['start']), start_ts)\n",
    "            else:\n",
    "                right_bound = current_right_bound\n",
    "            \n",
    "            interval = P.closed(left_bound, right_bound)\n",
    "            \n",
    "            # Concatenate PLR from mapping list\n",
    "            current_df = this_df[this_df['Timestamp'] < interval.upper].copy()\n",
    "            plr_mapping = hist_model[tag].copy()\n",
    "            \n",
    "            current_df[f'relative_time'] = (current_df['Timestamp'] - start_ts).dt.total_seconds()\n",
    "            current_df[f'window_id'] = ((current_df[f'relative_time'] + 0.005) // 0.01) * 0.01\n",
    "            \n",
    "            trigger_probability = prob_model[tag]\n",
    "            \n",
    "            if plr_mapping.empty:\n",
    "                tmp = current_df.copy().rename(columns={mets: f'{mets}_x'})\n",
    "            else:\n",
    "                tmp = pd.merge(current_df, plr_mapping, on='window_id', how='left')\n",
    "                tmp[RATE_TYPE] = tmp[RATE_TYPE].fillna(0)\n",
    "                \n",
    "                if not DEval.generate_random_boolean(trigger_probability):\n",
    "                    tmp[RATE_TYPE] = 0\n",
    "            \n",
    "            tmp['type'] = tag\n",
    "            \n",
    "            if i == 0:\n",
    "                answer = tmp.copy()\n",
    "            else:\n",
    "                answer = pd.concat([answer, tmp], axis=0)\n",
    "            \n",
    "            # Update dataframe to accelerate the speed\n",
    "            this_df = this_df[this_df[self.ts_column] >= interval.upper].copy()\n",
    "        \n",
    "        answer = pd.concat([answer, this_df], axis=0)\n",
    "        \n",
    "        # Consider stable duration\n",
    "        stable_df = answer[answer['tx_count'].isnull()].copy()[['seq', 'lost_x', 'excl', 'Timestamp']].rename(columns={'lost_x': 'lost'})\n",
    "\n",
    "        stable_df['Timestamp_sec'] = stable_df['Timestamp'].dt.floor('S')\n",
    "        stable_df['relative_time'] = (stable_df['Timestamp'] - stable_df['Timestamp_sec']).dt.total_seconds() - 0.5\n",
    "        stable_df['window_id'] = ((stable_df['relative_time'] + 0.01 / 2) // 0.01) * 0.01\n",
    "\n",
    "        plr_mapping = hist_model['Stable'].copy()        \n",
    "        stable_df = pd.merge(stable_df, plr_mapping, on='window_id', how='left').rename(columns={'PLR': 'PLR_if_trigger'})\n",
    "        trigger_prob_mapping = stable_df[~stable_df['Timestamp_sec'].duplicated()].reset_index(drop=True)[['Timestamp_sec']]\n",
    "        \n",
    "        trigger_probability = prob_model['Stable']\n",
    "        random_bool_array = [DEval.generate_random_boolean(trigger_probability) for _ in range(len(trigger_prob_mapping))]\n",
    "        trigger_prob_mapping['trigger'] = random_bool_array\n",
    "\n",
    "        stable_df = pd.merge(stable_df, trigger_prob_mapping, on='Timestamp_sec', how='left')\n",
    "        stable_df['PLR'] = stable_df['PLR_if_trigger'] * stable_df['trigger']\n",
    "        \n",
    "        stable_df['type'] = 'Stable'\n",
    "\n",
    "        del stable_df['Timestamp_sec'], stable_df['PLR_if_trigger'], stable_df['trigger']\n",
    "        \n",
    "        answer = answer[answer['tx_count'].notnull()].copy()\n",
    "        \n",
    "        answer = pd.concat([answer, stable_df], axis=0)\n",
    "        answer = answer.sort_values(by='Timestamp').reset_index(drop=True)\n",
    "        answer['PLR'] = answer['PLR'] / 100\n",
    "        answer['Y'] = answer['PLR'].apply(DEval.generate_random_boolean)\n",
    "        \n",
    "        eval_value = answer['Y'].mean() * 100\n",
    "        ground_value = df['lost'].mean() * 100\n",
    "        \n",
    "        answer = pd.concat([answer[['seq', 'Timestamp', 'type', 'relative_time', 'window_id']],\n",
    "                            df[['lost']],\n",
    "                            answer[[RATE_TYPE, 'Y']]], axis=1)\n",
    "        \n",
    "        return answer, eval_value, ground_value\n",
    "    \n",
    "    \n",
    "    def setup_profile(self, df, ho_df, df2, scope):\n",
    "        \n",
    "        this_df = df2.copy()\n",
    "        this_df = this_df[this_df['Y']].copy().reset_index(drop=True)\n",
    "        \n",
    "        df['anchor_type'] = 'Stable'\n",
    "        df['anchor_state'] = 0\n",
    "        for i, row in ho_df.iterrows():\n",
    "            prior_row = ho_df.iloc[i-1] if i != 0 else None\n",
    "            post_row = ho_df.iloc[i+1] if i != len(ho_df) - 1 else None\n",
    "\n",
    "            # Peek the next event to avoid HO overlapping with handoverFailure (skip!!)\n",
    "            if i != len(ho_df) - 1 and pd.notna(row.end) and row.end > post_row.start:\n",
    "                # print('Overlapping event occurs!!')\n",
    "                # print(i, row['start'], row['end'], row['type'], row['cause'])\n",
    "                # print(i+1, post_row['start'], post_row['end'], post_row['type'], post_row['cause'])\n",
    "                continue\n",
    "            \n",
    "            # Set prior event if the prior loop is skipped\n",
    "            if i != 0 and pd.notna(prior_row.end) and prior_row.end > row.start:\n",
    "                prior_row = ho_df.iloc[i-2] if i > 1 else None\n",
    "            \n",
    "            # Basic information of the current row\n",
    "            tag = '_'.join([s for s in row[self.sp_columns] if pd.notna(s)])  # specific column name\n",
    "            start_ts, end_ts = row['start'], row['end']  # handover start/end time\n",
    "            interruption_time = (end_ts - start_ts).total_seconds() if pd.notna(end_ts) else 0  # handover interruption time\n",
    "            \n",
    "            # Set simple left/right bounds\n",
    "            current_left_bound = start_ts + pd.Timedelta(seconds=(scope[tag][0]))\n",
    "            current_right_bound = start_ts + pd.Timedelta(seconds=(scope[tag][1]))\n",
    "            \n",
    "            # Set left/right bounds to avoid event overlapping with each other\n",
    "            if prior_row is not None:\n",
    "                prior_tag = '_'.join([s for s in prior_row[self.sp_columns] if pd.notna(s)])\n",
    "                prior_right_bound = prior_row['start'] + pd.Timedelta(seconds=(scope[prior_tag][1]))\n",
    "                if pd.notna(prior_row['end']):\n",
    "                    left_bound = min(max(current_left_bound, DEval.interpolate(prior_right_bound, current_left_bound), prior_row['end']), start_ts)\n",
    "                else:\n",
    "                    left_bound = min(max(current_left_bound, DEval.interpolate(prior_right_bound, current_left_bound), prior_row['start']), start_ts)\n",
    "            else:\n",
    "                left_bound = current_left_bound\n",
    "            \n",
    "            if post_row is not None:\n",
    "                post_tag = '_'.join([s for s in post_row[self.sp_columns] if pd.notna(s)])\n",
    "                post_left_bound = post_row['start'] + pd.Timedelta(seconds=(scope[post_tag][0]))\n",
    "                if pd.notna(end_ts):\n",
    "                    right_bound = max(min(current_right_bound, DEval.interpolate(current_right_bound, post_left_bound), post_row['start']), end_ts)\n",
    "                else:\n",
    "                    right_bound = max(min(current_right_bound, DEval.interpolate(current_right_bound, post_left_bound), post_row['start']), start_ts)\n",
    "            else:\n",
    "                right_bound = current_right_bound\n",
    "            \n",
    "            interval = P.closed(left_bound, right_bound)\n",
    "            \n",
    "            df.loc[(df['start'] >= interval.lower) & (df['start'] < interval.upper), 'anchor_type'] = tag\n",
    "            \n",
    "            if not this_df[(this_df['Timestamp'] >= interval.lower) & (this_df['Timestamp'] < interval.upper)].empty:\n",
    "                df.loc[(df['start'] >= interval.lower) & (df['start'] < interval.upper), 'anchor_state'] = 1\n",
    "                \n",
    "            # Update dataframe to accelerate the speed\n",
    "            this_df = this_df[this_df[self.ts_column] >= interval.upper].copy()\n",
    "            \n",
    "        return df\n",
    "    \n",
    "    \n",
    "    def hist_method_dual(self, df, ho_df, mode_mets, mets, RATE_TYPE):\n",
    "        scope = self.scope_models[mode_mets]\n",
    "        hist_model = self.hist_models[mode_mets]\n",
    "        dr_prob_model = self.dr_prob_models[mode_mets]\n",
    "        \n",
    "        this_df = df.copy()\n",
    "        for i, row in ho_df.iterrows():\n",
    "            prior_row = ho_df.iloc[i-1] if i != 0 else None\n",
    "            post_row = ho_df.iloc[i+1] if i != len(ho_df) - 1 else None\n",
    "\n",
    "            # Peek the next event to avoid HO overlapping with handoverFailure (skip!!)\n",
    "            if i != len(ho_df) - 1 and pd.notna(row.end) and row.end > post_row.start:\n",
    "                # print('Overlapping event occurs!!')\n",
    "                # print(i, row['start'], row['end'], row['type'], row['cause'])\n",
    "                # print(i+1, post_row['start'], post_row['end'], post_row['type'], post_row['cause'])\n",
    "                continue\n",
    "            \n",
    "            # Set prior event if the prior loop is skipped\n",
    "            if i != 0 and pd.notna(prior_row.end) and prior_row.end > row.start:\n",
    "                prior_row = ho_df.iloc[i-2] if i > 1 else None\n",
    "            \n",
    "            # Basic information of the current row\n",
    "            tag = '_'.join([s for s in row[self.sp_columns] if pd.notna(s)])  # specific column name\n",
    "            start_ts, end_ts = row['start'], row['end']  # handover start/end time\n",
    "            interruption_time = (end_ts - start_ts).total_seconds() if pd.notna(end_ts) else 0  # handover interruption time\n",
    "            \n",
    "            # Set simple left/right bounds\n",
    "            current_left_bound = start_ts + pd.Timedelta(seconds=(scope[tag][0]))\n",
    "            current_right_bound = start_ts + pd.Timedelta(seconds=(scope[tag][1]))\n",
    "            \n",
    "            # Set left/right bounds to avoid event overlapping with each other\n",
    "            if prior_row is not None:\n",
    "                prior_tag = '_'.join([s for s in prior_row[self.sp_columns] if pd.notna(s)])\n",
    "                prior_right_bound = prior_row['start'] + pd.Timedelta(seconds=(scope[prior_tag][1]))\n",
    "                if pd.notna(prior_row['end']):\n",
    "                    left_bound = min(max(current_left_bound, DEval.interpolate(prior_right_bound, current_left_bound), prior_row['end']), start_ts)\n",
    "                else:\n",
    "                    left_bound = min(max(current_left_bound, DEval.interpolate(prior_right_bound, current_left_bound), prior_row['start']), start_ts)\n",
    "            else:\n",
    "                left_bound = current_left_bound\n",
    "            \n",
    "            if post_row is not None:\n",
    "                post_tag = '_'.join([s for s in post_row[self.sp_columns] if pd.notna(s)])\n",
    "                post_left_bound = post_row['start'] + pd.Timedelta(seconds=(scope[post_tag][0]))\n",
    "                if pd.notna(end_ts):\n",
    "                    right_bound = max(min(current_right_bound, DEval.interpolate(current_right_bound, post_left_bound), post_row['start']), end_ts)\n",
    "                else:\n",
    "                    right_bound = max(min(current_right_bound, DEval.interpolate(current_right_bound, post_left_bound), post_row['start']), start_ts)\n",
    "            else:\n",
    "                right_bound = current_right_bound\n",
    "            \n",
    "            interval = P.closed(left_bound, right_bound)\n",
    "            \n",
    "            # Concatenate PLR from mapping list\n",
    "            current_df = this_df[this_df['Timestamp'] < interval.upper].copy()\n",
    "            plr_mapping = hist_model[tag].copy()\n",
    "            \n",
    "            current_df[f'relative_time'] = (current_df['Timestamp'] - start_ts).dt.total_seconds()\n",
    "            current_df[f'window_id'] = ((current_df[f'relative_time'] + 0.005) // 0.01) * 0.01\n",
    "            \n",
    "            anchor_tag = row['anchor_type']\n",
    "            anchor_state = row['anchor_state']\n",
    "            \n",
    "            if anchor_state == 1:\n",
    "                trigger_probability = dr_prob_model[(anchor_tag, tag)][0]\n",
    "            else:\n",
    "                trigger_probability = dr_prob_model[(anchor_tag, tag)][1]\n",
    "            \n",
    "            if plr_mapping.empty:\n",
    "                tmp = current_df.copy().rename(columns={mets: f'{mets}_x'})\n",
    "            else:\n",
    "                tmp = pd.merge(current_df, plr_mapping, on='window_id', how='left')\n",
    "                tmp[RATE_TYPE] = tmp[RATE_TYPE].fillna(0)\n",
    "                \n",
    "                if not DEval.generate_random_boolean(trigger_probability):\n",
    "                    tmp[RATE_TYPE] = 0\n",
    "            \n",
    "            tmp['anchor_type'] = anchor_tag\n",
    "            tmp['anchor_state'] = anchor_state\n",
    "            tmp['type'] = tag\n",
    "            \n",
    "            if i == 0:\n",
    "                answer = tmp.copy()\n",
    "            else:\n",
    "                answer = pd.concat([answer, tmp], axis=0)\n",
    "            \n",
    "            # Update dataframe to accelerate the speed\n",
    "            this_df = this_df[this_df[self.ts_column] >= interval.upper].copy()\n",
    "        \n",
    "        answer = pd.concat([answer, this_df], axis=0)\n",
    "        # display(answer)\n",
    "        \n",
    "        # Consider stable duration\n",
    "        stable_df = answer[answer['tx_count'].isnull()].copy()[['seq', 'lost_x', 'excl', 'Timestamp']].rename(columns={'lost_x': 'lost'})\n",
    "\n",
    "        stable_df['Timestamp_sec'] = stable_df['Timestamp'].dt.floor('S')\n",
    "        stable_df['relative_time'] = (stable_df['Timestamp'] - stable_df['Timestamp_sec']).dt.total_seconds() - 0.5\n",
    "        stable_df['window_id'] = ((stable_df['relative_time'] + 0.01 / 2) // 0.01) * 0.01\n",
    "\n",
    "        plr_mapping = hist_model['Stable'].copy()        \n",
    "        stable_df = pd.merge(stable_df, plr_mapping, on='window_id', how='left').rename(columns={'PLR': 'PLR_if_trigger'})\n",
    "        trigger_prob_mapping = stable_df[~stable_df['Timestamp_sec'].duplicated()].reset_index(drop=True)[['Timestamp_sec']]\n",
    "        \n",
    "        trigger_probability = dr_prob_model[('Stable', 'Stable')][0]\n",
    "        \n",
    "        # if anchor_state == 1:\n",
    "        #     trigger_probability = dr_prob_model[(anchor_tag, tag)][0]\n",
    "        # else:\n",
    "        #     trigger_probability = dr_prob_model[(anchor_tag, tag)][1]\n",
    "                \n",
    "        random_bool_array = [DEval.generate_random_boolean(trigger_probability) for _ in range(len(trigger_prob_mapping))]\n",
    "        trigger_prob_mapping['trigger'] = random_bool_array\n",
    "\n",
    "        stable_df = pd.merge(stable_df, trigger_prob_mapping, on='Timestamp_sec', how='left')\n",
    "        stable_df['PLR'] = stable_df['PLR_if_trigger'] * stable_df['trigger']\n",
    "        \n",
    "        # stable_df['type'] = 'Stable'\n",
    "        stable_df['anchor_type'] = 'Stable'\n",
    "        stable_df['anchor_state'] = 0\n",
    "        stable_df['type'] = 'Stable'\n",
    "\n",
    "        del stable_df['Timestamp_sec'], stable_df['PLR_if_trigger'], stable_df['trigger']\n",
    "        \n",
    "        answer = answer[answer['tx_count'].notnull()].copy()\n",
    "        \n",
    "        answer = pd.concat([answer, stable_df], axis=0)\n",
    "        answer = answer.sort_values(by='Timestamp').reset_index(drop=True)\n",
    "        answer['PLR'] = answer['PLR'] / 100\n",
    "        answer['Y'] = answer['PLR'].apply(DEval.generate_random_boolean)\n",
    "        \n",
    "        eval_value = answer['Y'].mean() * 100\n",
    "        ground_value = df['lost'].mean() * 100\n",
    "        \n",
    "        answer = pd.concat([answer[['seq', 'Timestamp', 'anchor_type', 'anchor_state', 'type', 'relative_time', 'window_id']],\n",
    "                            df[['lost']],\n",
    "                            answer[[RATE_TYPE, 'Y']]], axis=1)\n",
    "\n",
    "        return answer, eval_value, ground_value\n",
    "\n",
    "        # return answer, eval_value, ground_value\n",
    "        \n",
    "        # # Consider stable duration\n",
    "        # stable_df = answer[answer['tx_count'].isnull()].copy()[['seq', 'lost_x', 'excl', 'Timestamp']].rename(columns={'lost_x': 'lost'})\n",
    "\n",
    "        # stable_df['Timestamp_sec'] = stable_df['Timestamp'].dt.floor('S')\n",
    "        # stable_df['relative_time'] = (stable_df['Timestamp'] - stable_df['Timestamp_sec']).dt.total_seconds() - 0.5\n",
    "        # stable_df['window_id'] = ((stable_df['relative_time'] + 0.01 / 2) // 0.01) * 0.01\n",
    "\n",
    "        # plr_mapping = hist_model['Stable'].copy()\n",
    "        # stable_df = pd.merge(stable_df, plr_mapping, on='window_id', how='left').rename(columns={'PLR': 'PLR_trig'})\n",
    "\n",
    "        # trig_p_mapping = stable_df[~stable_df['Timestamp_sec'].duplicated()].reset_index(drop=True)\n",
    "        \n",
    "        # triggered_p = dr_prob_model[('Stable', 'Stable')][0]\n",
    "        \n",
    "        # random_bool_array = [DEval.generate_random_boolean(triggered_p) for _ in range(len(trig_p_mapping))]\n",
    "        # trig_p_mapping['trigger'] = random_bool_array\n",
    "        # trig_p_mapping = trig_p_mapping[['Timestamp_sec', 'trigger']]\n",
    "\n",
    "        # stable_df = pd.merge(stable_df, trig_p_mapping, on='Timestamp_sec', how='left')\n",
    "        # stable_df['PLR'] = stable_df['PLR_trig'] * stable_df['trigger']\n",
    "\n",
    "        # del stable_df['Timestamp_sec'], stable_df['PLR_trig'], stable_df['trigger']\n",
    "        \n",
    "        # answer = answer[answer['tx_count'].notnull()].copy()\n",
    "        # # display(answer)\n",
    "        \n",
    "        # answer = pd.concat([answer, stable_df], axis=0)\n",
    "        # answer = answer.sort_values(by='Timestamp').reset_index(drop=True)\n",
    "        # answer['PLR'] = answer['PLR'] / 100\n",
    "        # answer['Y'] = answer['PLR'].apply(DEval.generate_random_boolean)\n",
    "        \n",
    "        # eval_value = answer['Y'].mean() * 100\n",
    "        # ground_value = df['lost'].mean() * 100\n",
    "    \n",
    "    \n",
    "    def run_hist_method(self, N=3):\n",
    "        scope = self.scope_models['dl_lost']\n",
    "        n = len(self.filepaths)\n",
    "        for mode_mets in ['dl_lost']:\n",
    "            for i, filepath in enumerate(self.filepaths):\n",
    "                \n",
    "                # if i > 35:\n",
    "                #     break\n",
    "                \n",
    "                # if i > 0:\n",
    "                #     break\n",
    "                \n",
    "                print(f'{i}/{n}', filepath[0][0]); print(f'{i}/{n}', filepath[0][1]); print(f'{i}/{n}', filepath[0][2])\n",
    "                print(f'{i}/{n}', filepath[1][0]); print(f'{i}/{n}', filepath[1][1]); print(f'{i}/{n}', filepath[1][2])\n",
    "                    \n",
    "                ho_df1 = pd.read_csv(filepath[0][0], parse_dates=['start', 'end'])\n",
    "                ho_df2 = pd.read_csv(filepath[1][0], parse_dates=['start', 'end'])\n",
    "                \n",
    "                if ho_df1.empty or ho_df2.empty:\n",
    "                    print('******** Empty RRC Data ********')\n",
    "                    continue\n",
    "                \n",
    "                # df, ho_df, empty_data = data_aligner(df, ho_df)\n",
    "                \n",
    "                df1 = pd.read_csv(filepath[0][1], parse_dates=['Timestamp'])[['seq', 'Timestamp', 'lost', 'excl', 'latency']]\n",
    "                df2 = pd.read_csv(filepath[1][1], parse_dates=['Timestamp'])[['seq', 'Timestamp', 'lost', 'excl', 'latency']]\n",
    "                df1, ho_df1, empty_data1 = data_aligner(df1, ho_df1)\n",
    "                df2, ho_df2, empty_data2 = data_aligner(df2, ho_df2)\n",
    "                \n",
    "                if empty_data1 or empty_data2:\n",
    "                    print('******** Empty RRC Data ********')\n",
    "                    continue\n",
    "                \n",
    "                df = pd.merge(df1, df2, on='seq', how='inner').reset_index(drop=True)\n",
    "                \n",
    "                df1 = df[['seq', 'Timestamp_x', 'lost_x', 'excl_x', 'latency_x']].rename(columns={'Timestamp_x': 'Timestamp', 'lost_x': 'lost', 'excl_x': 'excl', 'latency_x': 'latency'})\n",
    "                df2 = df[['seq', 'Timestamp_y', 'lost_y', 'excl_y', 'latency_y']].rename(columns={'Timestamp_y': 'Timestamp', 'lost_y': 'lost', 'excl_y': 'excl', 'latency_y': 'latency'})\n",
    "                \n",
    "                loss_rate_list = []\n",
    "                answer = None\n",
    "                for iter_round in tqdm(range(N), ncols=1000):\n",
    "                    ans1, eval_value1, ground_value1 = eval.hist_method(df1, ho_df1, mode_mets='dl_lost', mets='lost', RATE_TYPE='PLR')\n",
    "                    # display(answer1)\n",
    "                    \n",
    "                    # setup_profile\n",
    "                    # ho_df1 = self.setup_profile(ho_df1, ho_df2, df2, scope)\n",
    "                    avatar_ho_df2 = self.setup_profile(ho_df2.copy(), ho_df1, ans1, scope)\n",
    "                    \n",
    "                    # display(avatar_ho_df2)\n",
    "                    \n",
    "                    ans2, eval_value2, ground_value2 = eval.hist_method_dual(df2, avatar_ho_df2, mode_mets='dl_lost', mets='lost', RATE_TYPE='PLR')\n",
    "                    \n",
    "                    # display(ans1)\n",
    "                    # display(ans2)\n",
    "                    # display(answer2)\n",
    "                    \n",
    "                    ans = pd.merge(ans1, ans2, on='seq', how='inner').reset_index(drop=True)\n",
    "                    ans['lost'] = (ans['lost_x']) & (ans['lost_y'])\n",
    "                    ans['Y'] = (ans['Y_x']) & (ans['Y_y'])\n",
    "                    ans = ans[['seq', 'Timestamp_x', 'Timestamp_y', 'type_x', 'anchor_type', 'anchor_state', 'type_y', 'relative_time_x', 'window_id_x', 'relative_time_y', 'window_id_y', 'lost_x', 'lost_y', 'lost', 'PLR_x', 'Y_x', 'PLR_y', 'Y_y', 'Y']]\n",
    "                    \n",
    "                    # display(ans)\n",
    "                    \n",
    "                    handle = (ans1['Y']) & (ans2['Y'])\n",
    "                    eval_value = handle.mean() * 100\n",
    "                    # print('eval:', eval_value, len(handle))\n",
    "                    \n",
    "                    handle = (df1['lost']) & (df2['lost'])\n",
    "                    ground_value = handle.mean() * 100\n",
    "                    # print('ground:', ground_value, len(handle))\n",
    "                    \n",
    "                    if answer is None:\n",
    "                        answer = ans.copy()\n",
    "                        answer = answer.rename(columns={'PLR_x': f'PLR_x_0', 'Y_x': f'Y_x_0', 'PLR_y': f'PLR_y_0', 'Y_y': f'Y_y_0', 'Y': f'Y_0'})\n",
    "                    else:\n",
    "                        answer = pd.concat([answer, ans[['PLR_x', 'Y_x', 'PLR_y', 'Y_y', 'Y']]], axis=1)\n",
    "                        answer = answer.rename(columns={'PLR_x': f'PLR_x_{iter_round}', 'Y_x': f'Y_x_{iter_round}', 'PLR_y': f'PLR_y_{iter_round}', 'Y_y': f'Y_y_{iter_round}', 'Y': f'Y_{iter_round}'})\n",
    "                    \n",
    "                    loss_rate_list.append(eval_value)\n",
    "                \n",
    "                # display(answer)\n",
    "        \n",
    "                mean_value = np.mean(loss_rate_list)\n",
    "                std_deviation = np.std(loss_rate_list)\n",
    "\n",
    "                # print()\n",
    "                # print(\"Mean:\", mean_value)\n",
    "                # print(\"Standard Deviation:\", std_deviation)\n",
    "                # print(\"Ground Truth:\", ground_value)\n",
    "                \n",
    "                self.LOSS_GT.append(ground_value)\n",
    "                self.LOSS_EV.append(mean_value)\n",
    "                self.LOSS_STD.append(std_deviation)\n",
    "                \n",
    "                path1 = filepath[0][1]\n",
    "                path2 = filepath[1][1]\n",
    "                \n",
    "                error = mean_value - ground_value\n",
    "                self.records.append((mean_value, std_deviation, ground_value, error, path1, path2))\n",
    "\n",
    "                def find_sm_label(path):\n",
    "                    # 找到 \"sm\" 的位置\n",
    "                    sm_index = path.index(\"sm\")\n",
    "                    # 从 \"sm\" 的位置开始找到下一个斜杠 \"/\"\n",
    "                    next_slash_index = path.index(\"/\", sm_index)\n",
    "                    # 截取 \"sm00\" 标签\n",
    "                    # sm_label = path[sm_index:next_slash_index]\n",
    "                    sm_label = path[sm_index+2:next_slash_index]\n",
    "                    # print(\"截取的标签为:\", sm_label)\n",
    "                    return sm_label\n",
    "                \n",
    "                self.DEVICES.append(find_sm_label(path1)+'+'+find_sm_label(path2))\n",
    "                \n",
    "                def find_tr_label(path):\n",
    "                    # 找到 \"sm\" 的位置\n",
    "                    sm_index = path.index(\"#\")\n",
    "                    # 从 \"sm\" 的位置开始找到下一个斜杠 \"/\"\n",
    "                    next_slash_index = path.index(\"/\", sm_index)\n",
    "                    # 截取 \"sm00\" 标签\n",
    "                    # sm_label = path[sm_index:next_slash_index]\n",
    "                    sm_label = path[sm_index+1:next_slash_index]\n",
    "                    # print(\"截取的标签为:\", sm_label)\n",
    "                    return sm_label\n",
    "                \n",
    "                self.TRACES.append(find_tr_label(path1)+'+'+find_tr_label(path2))\n",
    "                \n",
    "                if self.model_suffix is None:\n",
    "                    save_path = os.path.join(self.save_path, self.sr_model_id, self.dr_model_id, 'results', self.figure_id)\n",
    "                else:\n",
    "                    save_path = os.path.join(self.save_path, self.sr_model_id, self.dr_model_id, 'results', f'{self.figure_id}_{self.model_suffix}')\n",
    "                    \n",
    "                if not os.path.isdir(save_path):\n",
    "                    os.makedirs(save_path)\n",
    "                \n",
    "                save_path = os.path.join(save_path, path1.replace('/', '\\\\')[:-4]+path2.replace('/', '\\\\'))\n",
    "                print(save_path)\n",
    "                answer.to_csv(save_path, index=False)\n",
    "    \n",
    "    \n",
    "    def plot(self, save_name='plot_example', save_path='.'):\n",
    "        # Sample data\n",
    "        x = self.LOSS_GT.copy()\n",
    "        y = self.LOSS_EV.copy()\n",
    "\n",
    "        # Standard deviations for error bars\n",
    "        y_error = self.LOSS_STD.copy()\n",
    "\n",
    "        # Create figure and axes\n",
    "        fig, ax = plt.subplots(figsize=(6, 4))\n",
    "\n",
    "        # Scatter plot with error bars and horizontal caps\n",
    "        ax.errorbar(x, y, yerr=y_error, linestyle='None', marker='o', color='tab:blue', capsize=5)\n",
    "        ax.scatter([], [], linestyle='None', marker='o', color='tab:blue', label='Data Points')\n",
    "\n",
    "        # Regression line\n",
    "        coefficients = np.polyfit(x, y, 1)\n",
    "        regression_line = np.poly1d(coefficients)\n",
    "        ax.plot(ax.get_xlim(), regression_line(ax.get_xlim()), linestyle='--', linewidth=1.1, color='tab:blue', label='Regression Line')\n",
    "\n",
    "        # Annotate the slope of the regression line\n",
    "        # slope_annotation = f'Slope: {coefficients[0]:.2f}'\n",
    "        # ax.annotate(slope_annotation, xy=(0.5, 0.85), xycoords='axes fraction', fontsize=10, fontstyle='italic', fontweight='bold', color='tab:blue')\n",
    "\n",
    "        # Annotate MSE From the regression line\n",
    "        y_pred = regression_line(x)\n",
    "        # mse = mean_squared_error(y, y_pred)\n",
    "        mse = np.sqrt(mean_squared_error(x, y))\n",
    "        mse_rate = mse / np.mean(x) * 100\n",
    "        slope_annotation = f'RMSE: {mse:.3f} ({mse_rate:.1f} %)'\n",
    "        ax.annotate(slope_annotation, xy=(0.5, 0.85), xycoords='axes fraction', fontsize=10, fontstyle='italic', fontweight='bold', color='tab:blue')\n",
    "\n",
    "        # 45-Degree Line\n",
    "        ax.plot(ax.get_xlim(), ax.get_xlim(), linestyle='-', linewidth=1.1, color='tab:pink', label='45-Degree Line', alpha=0.9)\n",
    "        # ax.plot(ax.get_xlim(), 1.1 * ax.get_xlim(), linestyle='-', linewidth=1.1, color='tab:pink', label='45-Degree Line', alpha=0.9)\n",
    "        # ax.plot(ax.get_xlim(), 0.9 * ax.get_xlim(), linestyle='-', linewidth=1.1, color='tab:pink', label='45-Degree Line', alpha=0.9)\n",
    "        \n",
    "        # 获取 x 的边界\n",
    "        x_limits = ax.get_xlim()\n",
    "\n",
    "        # 创建 x 值范围\n",
    "        x_values = np.linspace(x_limits[0], x_limits[1], 100)  # 使用 x 的边界值作为范围\n",
    "\n",
    "        # 计算 y = 1.1x 和 y = 0.9x 的值\n",
    "        y_upper = 1.1 * x_values\n",
    "        y_lower = 0.9 * x_values\n",
    "\n",
    "        # 绘制 y = 1.1x 和 y = 0.9x 线\n",
    "        ax.plot(x_values, y_upper, linestyle='-', linewidth=1.1, color='tab:orange')\n",
    "        ax.plot(x_values, y_lower, linestyle='-', linewidth=1.1, color='tab:orange')\n",
    "\n",
    "        # 在两条线之间填充颜色\n",
    "        ax.fill_between(x_values, y_lower, y_upper, color='tab:orange', alpha=0.3)\n",
    "\n",
    "        # Set labels and title\n",
    "        ax.set_xlabel('PLR Ground Truth')\n",
    "        ax.set_ylabel('PLR Evaluated')\n",
    "        # ax.set_title('A Profile Evaluate 9 Traces From A5 Data: Single')\n",
    "\n",
    "        for i, sm_label in enumerate(self.DEVICES):\n",
    "            ax.annotate(sm_label, xy=(x[i], y[i]))\n",
    "            \n",
    "        # Add a legend\n",
    "        ax.legend()\n",
    "        \n",
    "        save_path = os.path.join(save_path, self.sr_model_id, self.dr_model_id, 'figures')\n",
    "        if not os.path.isdir(save_path):\n",
    "            os.makedirs(save_path)\n",
    "        \n",
    "        if self.model_suffix is not None:\n",
    "            save_name = f'{save_name}_{self.model_suffix}'\n",
    "        save_path = os.path.join(save_path, figure_add_prefix_suffix(save_name, image_id=self.figure_id))\n",
    "        print(save_path)\n",
    "        fig.savefig(save_path, dpi=300)\n",
    "\n",
    "        # Show the plot\n",
    "        plt.show()"
   ]
  },
  {
   "cell_type": "markdown",
   "metadata": {},
   "source": [
    "# Enter Model IDs"
   ]
  },
  {
   "cell_type": "code",
   "execution_count": 8,
   "metadata": {},
   "outputs": [
    {
     "name": "stdout",
     "output_type": "stream",
     "text": [
      "SR Model ID: 20240312_150032342e_newest\n",
      "DR Model ID: 20240314_060073cc2b\n"
     ]
    }
   ],
   "source": [
    "sr_model_id = '20240312_150032342e_newest'\n",
    "# dr_model_id = '20240314_060057288b_test'\n",
    "dr_model_id = '20240314_060073cc2b'\n",
    "print('SR Model ID:', sr_model_id)\n",
    "print('DR Model ID:', dr_model_id)\n"
   ]
  },
  {
   "cell_type": "markdown",
   "metadata": {},
   "source": [
    "# A: Dual Eval"
   ]
  },
  {
   "cell_type": "code",
   "execution_count": 9,
   "metadata": {},
   "outputs": [],
   "source": [
    "# Dual Radio Example\n",
    "dates = data_loader(query_dates=True)\n",
    "\n",
    "selected_dates = [s for s in dates if s >= '2023-09-12']\n",
    "# excluded_dates = []\n",
    "# selected_exps = []\n",
    "# excluded_exps = ['Modem_Action_Test', 'Control_Group', 'Control_Group2', 'Control_Group3']\n",
    "selected_routes = ['A']\n",
    "# excluded_routes = []\n",
    "filepaths = data_loader(mode='dr', selected_dates=selected_dates, selected_routes=selected_routes)\n",
    "\n",
    "# print(len(filepaths[:36]))\n",
    "# pprint(filepaths[:36])"
   ]
  },
  {
   "cell_type": "code",
   "execution_count": 10,
   "metadata": {},
   "outputs": [
    {
     "name": "stdout",
     "output_type": "stream",
     "text": [
      "./20240312_150032342e_newest/models/A\n",
      "./20240312_150032342e_newest/20240314_060073cc2b/A\n",
      "./20240312_150032342e_newest/20240314_060073cc2b/A_dr_prob_models.pkl\n",
      "0/216 /home/wmnlab/jackbedford/data/2023-10-26/UDP_Bandlock_9S_Phone_Airport/sm00/#01/data/handover_info_log.csv\n",
      "0/216 /home/wmnlab/jackbedford/data/2023-10-26/UDP_Bandlock_9S_Phone_Airport/sm00/#01/data/udp_dnlk_loss_latency.csv\n",
      "0/216 /home/wmnlab/jackbedford/data/2023-10-26/UDP_Bandlock_9S_Phone_Airport/sm00/#01/data/udp_uplk_loss_latency.csv\n",
      "0/216 /home/wmnlab/jackbedford/data/2023-10-26/UDP_Bandlock_9S_Phone_Airport/sm01/#01/data/handover_info_log.csv\n",
      "0/216 /home/wmnlab/jackbedford/data/2023-10-26/UDP_Bandlock_9S_Phone_Airport/sm01/#01/data/udp_dnlk_loss_latency.csv\n",
      "0/216 /home/wmnlab/jackbedford/data/2023-10-26/UDP_Bandlock_9S_Phone_Airport/sm01/#01/data/udp_uplk_loss_latency.csv\n"
     ]
    },
    {
     "data": {
      "application/vnd.jupyter.widget-view+json": {
       "model_id": "ef80a7c2290f4645ae41ede981227c98",
       "version_major": 2,
       "version_minor": 0
      },
      "text/plain": [
       "  0%|                                                                                                         …"
      ]
     },
     "metadata": {},
     "output_type": "display_data"
    },
    {
     "name": "stdout",
     "output_type": "stream",
     "text": [
      "./20240312_150032342e_newest/20240314_060073cc2b/results/20240314_07515600001_1d4f11bee8b69504/\\home\\wmnlab\\jackbedford\\data\\2023-10-26\\UDP_Bandlock_9S_Phone_Airport\\sm00\\#01\\data\\udp_dnlk_loss_latency\\home\\wmnlab\\jackbedford\\data\\2023-10-26\\UDP_Bandlock_9S_Phone_Airport\\sm01\\#01\\data\\udp_dnlk_loss_latency.csv\n",
      "1/216 /home/wmnlab/jackbedford/data/2023-10-26/UDP_Bandlock_9S_Phone_Airport/sm00/#01/data/handover_info_log.csv\n",
      "1/216 /home/wmnlab/jackbedford/data/2023-10-26/UDP_Bandlock_9S_Phone_Airport/sm00/#01/data/udp_dnlk_loss_latency.csv\n",
      "1/216 /home/wmnlab/jackbedford/data/2023-10-26/UDP_Bandlock_9S_Phone_Airport/sm00/#01/data/udp_uplk_loss_latency.csv\n",
      "1/216 /home/wmnlab/jackbedford/data/2023-10-26/UDP_Bandlock_9S_Phone_Airport/sm02/#01/data/handover_info_log.csv\n",
      "1/216 /home/wmnlab/jackbedford/data/2023-10-26/UDP_Bandlock_9S_Phone_Airport/sm02/#01/data/udp_dnlk_loss_latency.csv\n",
      "1/216 /home/wmnlab/jackbedford/data/2023-10-26/UDP_Bandlock_9S_Phone_Airport/sm02/#01/data/udp_uplk_loss_latency.csv\n"
     ]
    },
    {
     "data": {
      "application/vnd.jupyter.widget-view+json": {
       "model_id": "0920519422d647cc9ec6833086d24bc1",
       "version_major": 2,
       "version_minor": 0
      },
      "text/plain": [
       "  0%|                                                                                                         …"
      ]
     },
     "metadata": {},
     "output_type": "display_data"
    },
    {
     "name": "stdout",
     "output_type": "stream",
     "text": [
      "./20240312_150032342e_newest/20240314_060073cc2b/results/20240314_07515600001_1d4f11bee8b69504/\\home\\wmnlab\\jackbedford\\data\\2023-10-26\\UDP_Bandlock_9S_Phone_Airport\\sm00\\#01\\data\\udp_dnlk_loss_latency\\home\\wmnlab\\jackbedford\\data\\2023-10-26\\UDP_Bandlock_9S_Phone_Airport\\sm02\\#01\\data\\udp_dnlk_loss_latency.csv\n",
      "2/216 /home/wmnlab/jackbedford/data/2023-10-26/UDP_Bandlock_9S_Phone_Airport/sm00/#01/data/handover_info_log.csv\n",
      "2/216 /home/wmnlab/jackbedford/data/2023-10-26/UDP_Bandlock_9S_Phone_Airport/sm00/#01/data/udp_dnlk_loss_latency.csv\n",
      "2/216 /home/wmnlab/jackbedford/data/2023-10-26/UDP_Bandlock_9S_Phone_Airport/sm00/#01/data/udp_uplk_loss_latency.csv\n",
      "2/216 /home/wmnlab/jackbedford/data/2023-10-26/UDP_Bandlock_9S_Phone_Airport/sm03/#01/data/handover_info_log.csv\n",
      "2/216 /home/wmnlab/jackbedford/data/2023-10-26/UDP_Bandlock_9S_Phone_Airport/sm03/#01/data/udp_dnlk_loss_latency.csv\n",
      "2/216 /home/wmnlab/jackbedford/data/2023-10-26/UDP_Bandlock_9S_Phone_Airport/sm03/#01/data/udp_uplk_loss_latency.csv\n",
      "******** Empty RRC Data ********\n",
      "3/216 /home/wmnlab/jackbedford/data/2023-10-26/UDP_Bandlock_9S_Phone_Airport/sm00/#01/data/handover_info_log.csv\n",
      "3/216 /home/wmnlab/jackbedford/data/2023-10-26/UDP_Bandlock_9S_Phone_Airport/sm00/#01/data/udp_dnlk_loss_latency.csv\n",
      "3/216 /home/wmnlab/jackbedford/data/2023-10-26/UDP_Bandlock_9S_Phone_Airport/sm00/#01/data/udp_uplk_loss_latency.csv\n",
      "3/216 /home/wmnlab/jackbedford/data/2023-10-26/UDP_Bandlock_9S_Phone_Airport/sm04/#01/data/handover_info_log.csv\n",
      "3/216 /home/wmnlab/jackbedford/data/2023-10-26/UDP_Bandlock_9S_Phone_Airport/sm04/#01/data/udp_dnlk_loss_latency.csv\n",
      "3/216 /home/wmnlab/jackbedford/data/2023-10-26/UDP_Bandlock_9S_Phone_Airport/sm04/#01/data/udp_uplk_loss_latency.csv\n"
     ]
    },
    {
     "data": {
      "application/vnd.jupyter.widget-view+json": {
       "model_id": "bf26a02c1bca40ca81ebe2223b10944b",
       "version_major": 2,
       "version_minor": 0
      },
      "text/plain": [
       "  0%|                                                                                                         …"
      ]
     },
     "metadata": {},
     "output_type": "display_data"
    },
    {
     "name": "stdout",
     "output_type": "stream",
     "text": [
      "./20240312_150032342e_newest/20240314_060073cc2b/results/20240314_07515600001_1d4f11bee8b69504/\\home\\wmnlab\\jackbedford\\data\\2023-10-26\\UDP_Bandlock_9S_Phone_Airport\\sm00\\#01\\data\\udp_dnlk_loss_latency\\home\\wmnlab\\jackbedford\\data\\2023-10-26\\UDP_Bandlock_9S_Phone_Airport\\sm04\\#01\\data\\udp_dnlk_loss_latency.csv\n",
      "4/216 /home/wmnlab/jackbedford/data/2023-10-26/UDP_Bandlock_9S_Phone_Airport/sm00/#01/data/handover_info_log.csv\n",
      "4/216 /home/wmnlab/jackbedford/data/2023-10-26/UDP_Bandlock_9S_Phone_Airport/sm00/#01/data/udp_dnlk_loss_latency.csv\n",
      "4/216 /home/wmnlab/jackbedford/data/2023-10-26/UDP_Bandlock_9S_Phone_Airport/sm00/#01/data/udp_uplk_loss_latency.csv\n",
      "4/216 /home/wmnlab/jackbedford/data/2023-10-26/UDP_Bandlock_9S_Phone_Airport/sm05/#01/data/handover_info_log.csv\n",
      "4/216 /home/wmnlab/jackbedford/data/2023-10-26/UDP_Bandlock_9S_Phone_Airport/sm05/#01/data/udp_dnlk_loss_latency.csv\n",
      "4/216 /home/wmnlab/jackbedford/data/2023-10-26/UDP_Bandlock_9S_Phone_Airport/sm05/#01/data/udp_uplk_loss_latency.csv\n"
     ]
    },
    {
     "data": {
      "application/vnd.jupyter.widget-view+json": {
       "model_id": "3c9861370d2d4802bd740758e29ae15d",
       "version_major": 2,
       "version_minor": 0
      },
      "text/plain": [
       "  0%|                                                                                                         …"
      ]
     },
     "metadata": {},
     "output_type": "display_data"
    },
    {
     "name": "stdout",
     "output_type": "stream",
     "text": [
      "./20240312_150032342e_newest/20240314_060073cc2b/results/20240314_07515600001_1d4f11bee8b69504/\\home\\wmnlab\\jackbedford\\data\\2023-10-26\\UDP_Bandlock_9S_Phone_Airport\\sm00\\#01\\data\\udp_dnlk_loss_latency\\home\\wmnlab\\jackbedford\\data\\2023-10-26\\UDP_Bandlock_9S_Phone_Airport\\sm05\\#01\\data\\udp_dnlk_loss_latency.csv\n",
      "5/216 /home/wmnlab/jackbedford/data/2023-10-26/UDP_Bandlock_9S_Phone_Airport/sm00/#01/data/handover_info_log.csv\n",
      "5/216 /home/wmnlab/jackbedford/data/2023-10-26/UDP_Bandlock_9S_Phone_Airport/sm00/#01/data/udp_dnlk_loss_latency.csv\n",
      "5/216 /home/wmnlab/jackbedford/data/2023-10-26/UDP_Bandlock_9S_Phone_Airport/sm00/#01/data/udp_uplk_loss_latency.csv\n",
      "5/216 /home/wmnlab/jackbedford/data/2023-10-26/UDP_Bandlock_9S_Phone_Airport/sm06/#01/data/handover_info_log.csv\n",
      "5/216 /home/wmnlab/jackbedford/data/2023-10-26/UDP_Bandlock_9S_Phone_Airport/sm06/#01/data/udp_dnlk_loss_latency.csv\n",
      "5/216 /home/wmnlab/jackbedford/data/2023-10-26/UDP_Bandlock_9S_Phone_Airport/sm06/#01/data/udp_uplk_loss_latency.csv\n"
     ]
    },
    {
     "data": {
      "application/vnd.jupyter.widget-view+json": {
       "model_id": "841b4f1fc0fa41d1920941a4115352c9",
       "version_major": 2,
       "version_minor": 0
      },
      "text/plain": [
       "  0%|                                                                                                         …"
      ]
     },
     "metadata": {},
     "output_type": "display_data"
    },
    {
     "name": "stdout",
     "output_type": "stream",
     "text": [
      "./20240312_150032342e_newest/20240314_060073cc2b/results/20240314_07515600001_1d4f11bee8b69504/\\home\\wmnlab\\jackbedford\\data\\2023-10-26\\UDP_Bandlock_9S_Phone_Airport\\sm00\\#01\\data\\udp_dnlk_loss_latency\\home\\wmnlab\\jackbedford\\data\\2023-10-26\\UDP_Bandlock_9S_Phone_Airport\\sm06\\#01\\data\\udp_dnlk_loss_latency.csv\n",
      "6/216 /home/wmnlab/jackbedford/data/2023-10-26/UDP_Bandlock_9S_Phone_Airport/sm00/#01/data/handover_info_log.csv\n",
      "6/216 /home/wmnlab/jackbedford/data/2023-10-26/UDP_Bandlock_9S_Phone_Airport/sm00/#01/data/udp_dnlk_loss_latency.csv\n",
      "6/216 /home/wmnlab/jackbedford/data/2023-10-26/UDP_Bandlock_9S_Phone_Airport/sm00/#01/data/udp_uplk_loss_latency.csv\n",
      "6/216 /home/wmnlab/jackbedford/data/2023-10-26/UDP_Bandlock_9S_Phone_Airport/sm07/#01/data/handover_info_log.csv\n",
      "6/216 /home/wmnlab/jackbedford/data/2023-10-26/UDP_Bandlock_9S_Phone_Airport/sm07/#01/data/udp_dnlk_loss_latency.csv\n",
      "6/216 /home/wmnlab/jackbedford/data/2023-10-26/UDP_Bandlock_9S_Phone_Airport/sm07/#01/data/udp_uplk_loss_latency.csv\n"
     ]
    },
    {
     "data": {
      "application/vnd.jupyter.widget-view+json": {
       "model_id": "3b4b7f2b189c44b187883471b1e58afd",
       "version_major": 2,
       "version_minor": 0
      },
      "text/plain": [
       "  0%|                                                                                                         …"
      ]
     },
     "metadata": {},
     "output_type": "display_data"
    },
    {
     "name": "stdout",
     "output_type": "stream",
     "text": [
      "./20240312_150032342e_newest/20240314_060073cc2b/results/20240314_07515600001_1d4f11bee8b69504/\\home\\wmnlab\\jackbedford\\data\\2023-10-26\\UDP_Bandlock_9S_Phone_Airport\\sm00\\#01\\data\\udp_dnlk_loss_latency\\home\\wmnlab\\jackbedford\\data\\2023-10-26\\UDP_Bandlock_9S_Phone_Airport\\sm07\\#01\\data\\udp_dnlk_loss_latency.csv\n",
      "7/216 /home/wmnlab/jackbedford/data/2023-10-26/UDP_Bandlock_9S_Phone_Airport/sm00/#01/data/handover_info_log.csv\n",
      "7/216 /home/wmnlab/jackbedford/data/2023-10-26/UDP_Bandlock_9S_Phone_Airport/sm00/#01/data/udp_dnlk_loss_latency.csv\n",
      "7/216 /home/wmnlab/jackbedford/data/2023-10-26/UDP_Bandlock_9S_Phone_Airport/sm00/#01/data/udp_uplk_loss_latency.csv\n",
      "7/216 /home/wmnlab/jackbedford/data/2023-10-26/UDP_Bandlock_9S_Phone_Airport/sm08/#01/data/handover_info_log.csv\n",
      "7/216 /home/wmnlab/jackbedford/data/2023-10-26/UDP_Bandlock_9S_Phone_Airport/sm08/#01/data/udp_dnlk_loss_latency.csv\n",
      "7/216 /home/wmnlab/jackbedford/data/2023-10-26/UDP_Bandlock_9S_Phone_Airport/sm08/#01/data/udp_uplk_loss_latency.csv\n"
     ]
    },
    {
     "data": {
      "application/vnd.jupyter.widget-view+json": {
       "model_id": "e783cfd5a101472a9ec042f86f7a4de6",
       "version_major": 2,
       "version_minor": 0
      },
      "text/plain": [
       "  0%|                                                                                                         …"
      ]
     },
     "metadata": {},
     "output_type": "display_data"
    },
    {
     "name": "stdout",
     "output_type": "stream",
     "text": [
      "./20240312_150032342e_newest/20240314_060073cc2b/results/20240314_07515600001_1d4f11bee8b69504/\\home\\wmnlab\\jackbedford\\data\\2023-10-26\\UDP_Bandlock_9S_Phone_Airport\\sm00\\#01\\data\\udp_dnlk_loss_latency\\home\\wmnlab\\jackbedford\\data\\2023-10-26\\UDP_Bandlock_9S_Phone_Airport\\sm08\\#01\\data\\udp_dnlk_loss_latency.csv\n",
      "8/216 /home/wmnlab/jackbedford/data/2023-10-26/UDP_Bandlock_9S_Phone_Airport/sm01/#01/data/handover_info_log.csv\n",
      "8/216 /home/wmnlab/jackbedford/data/2023-10-26/UDP_Bandlock_9S_Phone_Airport/sm01/#01/data/udp_dnlk_loss_latency.csv\n",
      "8/216 /home/wmnlab/jackbedford/data/2023-10-26/UDP_Bandlock_9S_Phone_Airport/sm01/#01/data/udp_uplk_loss_latency.csv\n",
      "8/216 /home/wmnlab/jackbedford/data/2023-10-26/UDP_Bandlock_9S_Phone_Airport/sm02/#01/data/handover_info_log.csv\n",
      "8/216 /home/wmnlab/jackbedford/data/2023-10-26/UDP_Bandlock_9S_Phone_Airport/sm02/#01/data/udp_dnlk_loss_latency.csv\n",
      "8/216 /home/wmnlab/jackbedford/data/2023-10-26/UDP_Bandlock_9S_Phone_Airport/sm02/#01/data/udp_uplk_loss_latency.csv\n"
     ]
    },
    {
     "data": {
      "application/vnd.jupyter.widget-view+json": {
       "model_id": "2854b8734f9a401e961fb26fae442618",
       "version_major": 2,
       "version_minor": 0
      },
      "text/plain": [
       "  0%|                                                                                                         …"
      ]
     },
     "metadata": {},
     "output_type": "display_data"
    },
    {
     "name": "stdout",
     "output_type": "stream",
     "text": [
      "./20240312_150032342e_newest/20240314_060073cc2b/results/20240314_07515600001_1d4f11bee8b69504/\\home\\wmnlab\\jackbedford\\data\\2023-10-26\\UDP_Bandlock_9S_Phone_Airport\\sm01\\#01\\data\\udp_dnlk_loss_latency\\home\\wmnlab\\jackbedford\\data\\2023-10-26\\UDP_Bandlock_9S_Phone_Airport\\sm02\\#01\\data\\udp_dnlk_loss_latency.csv\n",
      "9/216 /home/wmnlab/jackbedford/data/2023-10-26/UDP_Bandlock_9S_Phone_Airport/sm01/#01/data/handover_info_log.csv\n",
      "9/216 /home/wmnlab/jackbedford/data/2023-10-26/UDP_Bandlock_9S_Phone_Airport/sm01/#01/data/udp_dnlk_loss_latency.csv\n",
      "9/216 /home/wmnlab/jackbedford/data/2023-10-26/UDP_Bandlock_9S_Phone_Airport/sm01/#01/data/udp_uplk_loss_latency.csv\n",
      "9/216 /home/wmnlab/jackbedford/data/2023-10-26/UDP_Bandlock_9S_Phone_Airport/sm03/#01/data/handover_info_log.csv\n",
      "9/216 /home/wmnlab/jackbedford/data/2023-10-26/UDP_Bandlock_9S_Phone_Airport/sm03/#01/data/udp_dnlk_loss_latency.csv\n",
      "9/216 /home/wmnlab/jackbedford/data/2023-10-26/UDP_Bandlock_9S_Phone_Airport/sm03/#01/data/udp_uplk_loss_latency.csv\n",
      "******** Empty RRC Data ********\n",
      "10/216 /home/wmnlab/jackbedford/data/2023-10-26/UDP_Bandlock_9S_Phone_Airport/sm01/#01/data/handover_info_log.csv\n",
      "10/216 /home/wmnlab/jackbedford/data/2023-10-26/UDP_Bandlock_9S_Phone_Airport/sm01/#01/data/udp_dnlk_loss_latency.csv\n",
      "10/216 /home/wmnlab/jackbedford/data/2023-10-26/UDP_Bandlock_9S_Phone_Airport/sm01/#01/data/udp_uplk_loss_latency.csv\n",
      "10/216 /home/wmnlab/jackbedford/data/2023-10-26/UDP_Bandlock_9S_Phone_Airport/sm04/#01/data/handover_info_log.csv\n",
      "10/216 /home/wmnlab/jackbedford/data/2023-10-26/UDP_Bandlock_9S_Phone_Airport/sm04/#01/data/udp_dnlk_loss_latency.csv\n",
      "10/216 /home/wmnlab/jackbedford/data/2023-10-26/UDP_Bandlock_9S_Phone_Airport/sm04/#01/data/udp_uplk_loss_latency.csv\n"
     ]
    },
    {
     "data": {
      "application/vnd.jupyter.widget-view+json": {
       "model_id": "cc9d045e405a4d009c98b0292e0c353a",
       "version_major": 2,
       "version_minor": 0
      },
      "text/plain": [
       "  0%|                                                                                                         …"
      ]
     },
     "metadata": {},
     "output_type": "display_data"
    },
    {
     "name": "stdout",
     "output_type": "stream",
     "text": [
      "./20240312_150032342e_newest/20240314_060073cc2b/results/20240314_07515600001_1d4f11bee8b69504/\\home\\wmnlab\\jackbedford\\data\\2023-10-26\\UDP_Bandlock_9S_Phone_Airport\\sm01\\#01\\data\\udp_dnlk_loss_latency\\home\\wmnlab\\jackbedford\\data\\2023-10-26\\UDP_Bandlock_9S_Phone_Airport\\sm04\\#01\\data\\udp_dnlk_loss_latency.csv\n",
      "11/216 /home/wmnlab/jackbedford/data/2023-10-26/UDP_Bandlock_9S_Phone_Airport/sm01/#01/data/handover_info_log.csv\n",
      "11/216 /home/wmnlab/jackbedford/data/2023-10-26/UDP_Bandlock_9S_Phone_Airport/sm01/#01/data/udp_dnlk_loss_latency.csv\n",
      "11/216 /home/wmnlab/jackbedford/data/2023-10-26/UDP_Bandlock_9S_Phone_Airport/sm01/#01/data/udp_uplk_loss_latency.csv\n",
      "11/216 /home/wmnlab/jackbedford/data/2023-10-26/UDP_Bandlock_9S_Phone_Airport/sm05/#01/data/handover_info_log.csv\n",
      "11/216 /home/wmnlab/jackbedford/data/2023-10-26/UDP_Bandlock_9S_Phone_Airport/sm05/#01/data/udp_dnlk_loss_latency.csv\n",
      "11/216 /home/wmnlab/jackbedford/data/2023-10-26/UDP_Bandlock_9S_Phone_Airport/sm05/#01/data/udp_uplk_loss_latency.csv\n"
     ]
    },
    {
     "data": {
      "application/vnd.jupyter.widget-view+json": {
       "model_id": "0a4d43c4562645ccb4da3b5bd5b8f57f",
       "version_major": 2,
       "version_minor": 0
      },
      "text/plain": [
       "  0%|                                                                                                         …"
      ]
     },
     "metadata": {},
     "output_type": "display_data"
    },
    {
     "name": "stdout",
     "output_type": "stream",
     "text": [
      "./20240312_150032342e_newest/20240314_060073cc2b/results/20240314_07515600001_1d4f11bee8b69504/\\home\\wmnlab\\jackbedford\\data\\2023-10-26\\UDP_Bandlock_9S_Phone_Airport\\sm01\\#01\\data\\udp_dnlk_loss_latency\\home\\wmnlab\\jackbedford\\data\\2023-10-26\\UDP_Bandlock_9S_Phone_Airport\\sm05\\#01\\data\\udp_dnlk_loss_latency.csv\n",
      "12/216 /home/wmnlab/jackbedford/data/2023-10-26/UDP_Bandlock_9S_Phone_Airport/sm01/#01/data/handover_info_log.csv\n",
      "12/216 /home/wmnlab/jackbedford/data/2023-10-26/UDP_Bandlock_9S_Phone_Airport/sm01/#01/data/udp_dnlk_loss_latency.csv\n",
      "12/216 /home/wmnlab/jackbedford/data/2023-10-26/UDP_Bandlock_9S_Phone_Airport/sm01/#01/data/udp_uplk_loss_latency.csv\n",
      "12/216 /home/wmnlab/jackbedford/data/2023-10-26/UDP_Bandlock_9S_Phone_Airport/sm06/#01/data/handover_info_log.csv\n",
      "12/216 /home/wmnlab/jackbedford/data/2023-10-26/UDP_Bandlock_9S_Phone_Airport/sm06/#01/data/udp_dnlk_loss_latency.csv\n",
      "12/216 /home/wmnlab/jackbedford/data/2023-10-26/UDP_Bandlock_9S_Phone_Airport/sm06/#01/data/udp_uplk_loss_latency.csv\n"
     ]
    },
    {
     "data": {
      "application/vnd.jupyter.widget-view+json": {
       "model_id": "5e31ce10f8e34e50b7725295e0bc704e",
       "version_major": 2,
       "version_minor": 0
      },
      "text/plain": [
       "  0%|                                                                                                         …"
      ]
     },
     "metadata": {},
     "output_type": "display_data"
    },
    {
     "name": "stdout",
     "output_type": "stream",
     "text": [
      "./20240312_150032342e_newest/20240314_060073cc2b/results/20240314_07515600001_1d4f11bee8b69504/\\home\\wmnlab\\jackbedford\\data\\2023-10-26\\UDP_Bandlock_9S_Phone_Airport\\sm01\\#01\\data\\udp_dnlk_loss_latency\\home\\wmnlab\\jackbedford\\data\\2023-10-26\\UDP_Bandlock_9S_Phone_Airport\\sm06\\#01\\data\\udp_dnlk_loss_latency.csv\n",
      "13/216 /home/wmnlab/jackbedford/data/2023-10-26/UDP_Bandlock_9S_Phone_Airport/sm01/#01/data/handover_info_log.csv\n",
      "13/216 /home/wmnlab/jackbedford/data/2023-10-26/UDP_Bandlock_9S_Phone_Airport/sm01/#01/data/udp_dnlk_loss_latency.csv\n",
      "13/216 /home/wmnlab/jackbedford/data/2023-10-26/UDP_Bandlock_9S_Phone_Airport/sm01/#01/data/udp_uplk_loss_latency.csv\n",
      "13/216 /home/wmnlab/jackbedford/data/2023-10-26/UDP_Bandlock_9S_Phone_Airport/sm07/#01/data/handover_info_log.csv\n",
      "13/216 /home/wmnlab/jackbedford/data/2023-10-26/UDP_Bandlock_9S_Phone_Airport/sm07/#01/data/udp_dnlk_loss_latency.csv\n",
      "13/216 /home/wmnlab/jackbedford/data/2023-10-26/UDP_Bandlock_9S_Phone_Airport/sm07/#01/data/udp_uplk_loss_latency.csv\n"
     ]
    },
    {
     "data": {
      "application/vnd.jupyter.widget-view+json": {
       "model_id": "41211229889143eea57f9f3da563a86f",
       "version_major": 2,
       "version_minor": 0
      },
      "text/plain": [
       "  0%|                                                                                                         …"
      ]
     },
     "metadata": {},
     "output_type": "display_data"
    },
    {
     "name": "stdout",
     "output_type": "stream",
     "text": [
      "./20240312_150032342e_newest/20240314_060073cc2b/results/20240314_07515600001_1d4f11bee8b69504/\\home\\wmnlab\\jackbedford\\data\\2023-10-26\\UDP_Bandlock_9S_Phone_Airport\\sm01\\#01\\data\\udp_dnlk_loss_latency\\home\\wmnlab\\jackbedford\\data\\2023-10-26\\UDP_Bandlock_9S_Phone_Airport\\sm07\\#01\\data\\udp_dnlk_loss_latency.csv\n",
      "14/216 /home/wmnlab/jackbedford/data/2023-10-26/UDP_Bandlock_9S_Phone_Airport/sm01/#01/data/handover_info_log.csv\n",
      "14/216 /home/wmnlab/jackbedford/data/2023-10-26/UDP_Bandlock_9S_Phone_Airport/sm01/#01/data/udp_dnlk_loss_latency.csv\n",
      "14/216 /home/wmnlab/jackbedford/data/2023-10-26/UDP_Bandlock_9S_Phone_Airport/sm01/#01/data/udp_uplk_loss_latency.csv\n",
      "14/216 /home/wmnlab/jackbedford/data/2023-10-26/UDP_Bandlock_9S_Phone_Airport/sm08/#01/data/handover_info_log.csv\n",
      "14/216 /home/wmnlab/jackbedford/data/2023-10-26/UDP_Bandlock_9S_Phone_Airport/sm08/#01/data/udp_dnlk_loss_latency.csv\n",
      "14/216 /home/wmnlab/jackbedford/data/2023-10-26/UDP_Bandlock_9S_Phone_Airport/sm08/#01/data/udp_uplk_loss_latency.csv\n"
     ]
    },
    {
     "data": {
      "application/vnd.jupyter.widget-view+json": {
       "model_id": "8dad9c9144194c4eb20ae33c4cb9789a",
       "version_major": 2,
       "version_minor": 0
      },
      "text/plain": [
       "  0%|                                                                                                         …"
      ]
     },
     "metadata": {},
     "output_type": "display_data"
    },
    {
     "name": "stdout",
     "output_type": "stream",
     "text": [
      "./20240312_150032342e_newest/20240314_060073cc2b/results/20240314_07515600001_1d4f11bee8b69504/\\home\\wmnlab\\jackbedford\\data\\2023-10-26\\UDP_Bandlock_9S_Phone_Airport\\sm01\\#01\\data\\udp_dnlk_loss_latency\\home\\wmnlab\\jackbedford\\data\\2023-10-26\\UDP_Bandlock_9S_Phone_Airport\\sm08\\#01\\data\\udp_dnlk_loss_latency.csv\n",
      "15/216 /home/wmnlab/jackbedford/data/2023-10-26/UDP_Bandlock_9S_Phone_Airport/sm02/#01/data/handover_info_log.csv\n",
      "15/216 /home/wmnlab/jackbedford/data/2023-10-26/UDP_Bandlock_9S_Phone_Airport/sm02/#01/data/udp_dnlk_loss_latency.csv\n",
      "15/216 /home/wmnlab/jackbedford/data/2023-10-26/UDP_Bandlock_9S_Phone_Airport/sm02/#01/data/udp_uplk_loss_latency.csv\n",
      "15/216 /home/wmnlab/jackbedford/data/2023-10-26/UDP_Bandlock_9S_Phone_Airport/sm03/#01/data/handover_info_log.csv\n",
      "15/216 /home/wmnlab/jackbedford/data/2023-10-26/UDP_Bandlock_9S_Phone_Airport/sm03/#01/data/udp_dnlk_loss_latency.csv\n",
      "15/216 /home/wmnlab/jackbedford/data/2023-10-26/UDP_Bandlock_9S_Phone_Airport/sm03/#01/data/udp_uplk_loss_latency.csv\n",
      "******** Empty RRC Data ********\n",
      "16/216 /home/wmnlab/jackbedford/data/2023-10-26/UDP_Bandlock_9S_Phone_Airport/sm02/#01/data/handover_info_log.csv\n",
      "16/216 /home/wmnlab/jackbedford/data/2023-10-26/UDP_Bandlock_9S_Phone_Airport/sm02/#01/data/udp_dnlk_loss_latency.csv\n",
      "16/216 /home/wmnlab/jackbedford/data/2023-10-26/UDP_Bandlock_9S_Phone_Airport/sm02/#01/data/udp_uplk_loss_latency.csv\n",
      "16/216 /home/wmnlab/jackbedford/data/2023-10-26/UDP_Bandlock_9S_Phone_Airport/sm04/#01/data/handover_info_log.csv\n",
      "16/216 /home/wmnlab/jackbedford/data/2023-10-26/UDP_Bandlock_9S_Phone_Airport/sm04/#01/data/udp_dnlk_loss_latency.csv\n",
      "16/216 /home/wmnlab/jackbedford/data/2023-10-26/UDP_Bandlock_9S_Phone_Airport/sm04/#01/data/udp_uplk_loss_latency.csv\n"
     ]
    },
    {
     "data": {
      "application/vnd.jupyter.widget-view+json": {
       "model_id": "8296de1b5c9f40cca972272122736d2f",
       "version_major": 2,
       "version_minor": 0
      },
      "text/plain": [
       "  0%|                                                                                                         …"
      ]
     },
     "metadata": {},
     "output_type": "display_data"
    },
    {
     "name": "stdout",
     "output_type": "stream",
     "text": [
      "./20240312_150032342e_newest/20240314_060073cc2b/results/20240314_07515600001_1d4f11bee8b69504/\\home\\wmnlab\\jackbedford\\data\\2023-10-26\\UDP_Bandlock_9S_Phone_Airport\\sm02\\#01\\data\\udp_dnlk_loss_latency\\home\\wmnlab\\jackbedford\\data\\2023-10-26\\UDP_Bandlock_9S_Phone_Airport\\sm04\\#01\\data\\udp_dnlk_loss_latency.csv\n",
      "17/216 /home/wmnlab/jackbedford/data/2023-10-26/UDP_Bandlock_9S_Phone_Airport/sm02/#01/data/handover_info_log.csv\n",
      "17/216 /home/wmnlab/jackbedford/data/2023-10-26/UDP_Bandlock_9S_Phone_Airport/sm02/#01/data/udp_dnlk_loss_latency.csv\n",
      "17/216 /home/wmnlab/jackbedford/data/2023-10-26/UDP_Bandlock_9S_Phone_Airport/sm02/#01/data/udp_uplk_loss_latency.csv\n",
      "17/216 /home/wmnlab/jackbedford/data/2023-10-26/UDP_Bandlock_9S_Phone_Airport/sm05/#01/data/handover_info_log.csv\n",
      "17/216 /home/wmnlab/jackbedford/data/2023-10-26/UDP_Bandlock_9S_Phone_Airport/sm05/#01/data/udp_dnlk_loss_latency.csv\n",
      "17/216 /home/wmnlab/jackbedford/data/2023-10-26/UDP_Bandlock_9S_Phone_Airport/sm05/#01/data/udp_uplk_loss_latency.csv\n"
     ]
    },
    {
     "data": {
      "application/vnd.jupyter.widget-view+json": {
       "model_id": "e7bbf206ba654582a64bf048668e66d3",
       "version_major": 2,
       "version_minor": 0
      },
      "text/plain": [
       "  0%|                                                                                                         …"
      ]
     },
     "metadata": {},
     "output_type": "display_data"
    },
    {
     "name": "stdout",
     "output_type": "stream",
     "text": [
      "./20240312_150032342e_newest/20240314_060073cc2b/results/20240314_07515600001_1d4f11bee8b69504/\\home\\wmnlab\\jackbedford\\data\\2023-10-26\\UDP_Bandlock_9S_Phone_Airport\\sm02\\#01\\data\\udp_dnlk_loss_latency\\home\\wmnlab\\jackbedford\\data\\2023-10-26\\UDP_Bandlock_9S_Phone_Airport\\sm05\\#01\\data\\udp_dnlk_loss_latency.csv\n",
      "18/216 /home/wmnlab/jackbedford/data/2023-10-26/UDP_Bandlock_9S_Phone_Airport/sm02/#01/data/handover_info_log.csv\n",
      "18/216 /home/wmnlab/jackbedford/data/2023-10-26/UDP_Bandlock_9S_Phone_Airport/sm02/#01/data/udp_dnlk_loss_latency.csv\n",
      "18/216 /home/wmnlab/jackbedford/data/2023-10-26/UDP_Bandlock_9S_Phone_Airport/sm02/#01/data/udp_uplk_loss_latency.csv\n",
      "18/216 /home/wmnlab/jackbedford/data/2023-10-26/UDP_Bandlock_9S_Phone_Airport/sm06/#01/data/handover_info_log.csv\n",
      "18/216 /home/wmnlab/jackbedford/data/2023-10-26/UDP_Bandlock_9S_Phone_Airport/sm06/#01/data/udp_dnlk_loss_latency.csv\n",
      "18/216 /home/wmnlab/jackbedford/data/2023-10-26/UDP_Bandlock_9S_Phone_Airport/sm06/#01/data/udp_uplk_loss_latency.csv\n"
     ]
    },
    {
     "data": {
      "application/vnd.jupyter.widget-view+json": {
       "model_id": "d0e626276138475c9a255c0ee7072a50",
       "version_major": 2,
       "version_minor": 0
      },
      "text/plain": [
       "  0%|                                                                                                         …"
      ]
     },
     "metadata": {},
     "output_type": "display_data"
    },
    {
     "name": "stdout",
     "output_type": "stream",
     "text": [
      "./20240312_150032342e_newest/20240314_060073cc2b/results/20240314_07515600001_1d4f11bee8b69504/\\home\\wmnlab\\jackbedford\\data\\2023-10-26\\UDP_Bandlock_9S_Phone_Airport\\sm02\\#01\\data\\udp_dnlk_loss_latency\\home\\wmnlab\\jackbedford\\data\\2023-10-26\\UDP_Bandlock_9S_Phone_Airport\\sm06\\#01\\data\\udp_dnlk_loss_latency.csv\n",
      "19/216 /home/wmnlab/jackbedford/data/2023-10-26/UDP_Bandlock_9S_Phone_Airport/sm02/#01/data/handover_info_log.csv\n",
      "19/216 /home/wmnlab/jackbedford/data/2023-10-26/UDP_Bandlock_9S_Phone_Airport/sm02/#01/data/udp_dnlk_loss_latency.csv\n",
      "19/216 /home/wmnlab/jackbedford/data/2023-10-26/UDP_Bandlock_9S_Phone_Airport/sm02/#01/data/udp_uplk_loss_latency.csv\n",
      "19/216 /home/wmnlab/jackbedford/data/2023-10-26/UDP_Bandlock_9S_Phone_Airport/sm07/#01/data/handover_info_log.csv\n",
      "19/216 /home/wmnlab/jackbedford/data/2023-10-26/UDP_Bandlock_9S_Phone_Airport/sm07/#01/data/udp_dnlk_loss_latency.csv\n",
      "19/216 /home/wmnlab/jackbedford/data/2023-10-26/UDP_Bandlock_9S_Phone_Airport/sm07/#01/data/udp_uplk_loss_latency.csv\n"
     ]
    },
    {
     "data": {
      "application/vnd.jupyter.widget-view+json": {
       "model_id": "0d02357ec04e498fab6a7eaabf898eed",
       "version_major": 2,
       "version_minor": 0
      },
      "text/plain": [
       "  0%|                                                                                                         …"
      ]
     },
     "metadata": {},
     "output_type": "display_data"
    },
    {
     "name": "stdout",
     "output_type": "stream",
     "text": [
      "./20240312_150032342e_newest/20240314_060073cc2b/results/20240314_07515600001_1d4f11bee8b69504/\\home\\wmnlab\\jackbedford\\data\\2023-10-26\\UDP_Bandlock_9S_Phone_Airport\\sm02\\#01\\data\\udp_dnlk_loss_latency\\home\\wmnlab\\jackbedford\\data\\2023-10-26\\UDP_Bandlock_9S_Phone_Airport\\sm07\\#01\\data\\udp_dnlk_loss_latency.csv\n",
      "20/216 /home/wmnlab/jackbedford/data/2023-10-26/UDP_Bandlock_9S_Phone_Airport/sm02/#01/data/handover_info_log.csv\n",
      "20/216 /home/wmnlab/jackbedford/data/2023-10-26/UDP_Bandlock_9S_Phone_Airport/sm02/#01/data/udp_dnlk_loss_latency.csv\n",
      "20/216 /home/wmnlab/jackbedford/data/2023-10-26/UDP_Bandlock_9S_Phone_Airport/sm02/#01/data/udp_uplk_loss_latency.csv\n",
      "20/216 /home/wmnlab/jackbedford/data/2023-10-26/UDP_Bandlock_9S_Phone_Airport/sm08/#01/data/handover_info_log.csv\n",
      "20/216 /home/wmnlab/jackbedford/data/2023-10-26/UDP_Bandlock_9S_Phone_Airport/sm08/#01/data/udp_dnlk_loss_latency.csv\n",
      "20/216 /home/wmnlab/jackbedford/data/2023-10-26/UDP_Bandlock_9S_Phone_Airport/sm08/#01/data/udp_uplk_loss_latency.csv\n"
     ]
    },
    {
     "data": {
      "application/vnd.jupyter.widget-view+json": {
       "model_id": "20edf03b80d943f7888153c04676da01",
       "version_major": 2,
       "version_minor": 0
      },
      "text/plain": [
       "  0%|                                                                                                         …"
      ]
     },
     "metadata": {},
     "output_type": "display_data"
    },
    {
     "name": "stdout",
     "output_type": "stream",
     "text": [
      "./20240312_150032342e_newest/20240314_060073cc2b/results/20240314_07515600001_1d4f11bee8b69504/\\home\\wmnlab\\jackbedford\\data\\2023-10-26\\UDP_Bandlock_9S_Phone_Airport\\sm02\\#01\\data\\udp_dnlk_loss_latency\\home\\wmnlab\\jackbedford\\data\\2023-10-26\\UDP_Bandlock_9S_Phone_Airport\\sm08\\#01\\data\\udp_dnlk_loss_latency.csv\n",
      "21/216 /home/wmnlab/jackbedford/data/2023-10-26/UDP_Bandlock_9S_Phone_Airport/sm03/#01/data/handover_info_log.csv\n",
      "21/216 /home/wmnlab/jackbedford/data/2023-10-26/UDP_Bandlock_9S_Phone_Airport/sm03/#01/data/udp_dnlk_loss_latency.csv\n",
      "21/216 /home/wmnlab/jackbedford/data/2023-10-26/UDP_Bandlock_9S_Phone_Airport/sm03/#01/data/udp_uplk_loss_latency.csv\n",
      "21/216 /home/wmnlab/jackbedford/data/2023-10-26/UDP_Bandlock_9S_Phone_Airport/sm04/#01/data/handover_info_log.csv\n",
      "21/216 /home/wmnlab/jackbedford/data/2023-10-26/UDP_Bandlock_9S_Phone_Airport/sm04/#01/data/udp_dnlk_loss_latency.csv\n",
      "21/216 /home/wmnlab/jackbedford/data/2023-10-26/UDP_Bandlock_9S_Phone_Airport/sm04/#01/data/udp_uplk_loss_latency.csv\n",
      "******** Empty RRC Data ********\n",
      "22/216 /home/wmnlab/jackbedford/data/2023-10-26/UDP_Bandlock_9S_Phone_Airport/sm03/#01/data/handover_info_log.csv\n",
      "22/216 /home/wmnlab/jackbedford/data/2023-10-26/UDP_Bandlock_9S_Phone_Airport/sm03/#01/data/udp_dnlk_loss_latency.csv\n",
      "22/216 /home/wmnlab/jackbedford/data/2023-10-26/UDP_Bandlock_9S_Phone_Airport/sm03/#01/data/udp_uplk_loss_latency.csv\n",
      "22/216 /home/wmnlab/jackbedford/data/2023-10-26/UDP_Bandlock_9S_Phone_Airport/sm05/#01/data/handover_info_log.csv\n",
      "22/216 /home/wmnlab/jackbedford/data/2023-10-26/UDP_Bandlock_9S_Phone_Airport/sm05/#01/data/udp_dnlk_loss_latency.csv\n",
      "22/216 /home/wmnlab/jackbedford/data/2023-10-26/UDP_Bandlock_9S_Phone_Airport/sm05/#01/data/udp_uplk_loss_latency.csv\n",
      "******** Empty RRC Data ********\n",
      "23/216 /home/wmnlab/jackbedford/data/2023-10-26/UDP_Bandlock_9S_Phone_Airport/sm03/#01/data/handover_info_log.csv\n",
      "23/216 /home/wmnlab/jackbedford/data/2023-10-26/UDP_Bandlock_9S_Phone_Airport/sm03/#01/data/udp_dnlk_loss_latency.csv\n",
      "23/216 /home/wmnlab/jackbedford/data/2023-10-26/UDP_Bandlock_9S_Phone_Airport/sm03/#01/data/udp_uplk_loss_latency.csv\n",
      "23/216 /home/wmnlab/jackbedford/data/2023-10-26/UDP_Bandlock_9S_Phone_Airport/sm06/#01/data/handover_info_log.csv\n",
      "23/216 /home/wmnlab/jackbedford/data/2023-10-26/UDP_Bandlock_9S_Phone_Airport/sm06/#01/data/udp_dnlk_loss_latency.csv\n",
      "23/216 /home/wmnlab/jackbedford/data/2023-10-26/UDP_Bandlock_9S_Phone_Airport/sm06/#01/data/udp_uplk_loss_latency.csv\n",
      "******** Empty RRC Data ********\n",
      "24/216 /home/wmnlab/jackbedford/data/2023-10-26/UDP_Bandlock_9S_Phone_Airport/sm03/#01/data/handover_info_log.csv\n",
      "24/216 /home/wmnlab/jackbedford/data/2023-10-26/UDP_Bandlock_9S_Phone_Airport/sm03/#01/data/udp_dnlk_loss_latency.csv\n",
      "24/216 /home/wmnlab/jackbedford/data/2023-10-26/UDP_Bandlock_9S_Phone_Airport/sm03/#01/data/udp_uplk_loss_latency.csv\n",
      "24/216 /home/wmnlab/jackbedford/data/2023-10-26/UDP_Bandlock_9S_Phone_Airport/sm07/#01/data/handover_info_log.csv\n",
      "24/216 /home/wmnlab/jackbedford/data/2023-10-26/UDP_Bandlock_9S_Phone_Airport/sm07/#01/data/udp_dnlk_loss_latency.csv\n",
      "24/216 /home/wmnlab/jackbedford/data/2023-10-26/UDP_Bandlock_9S_Phone_Airport/sm07/#01/data/udp_uplk_loss_latency.csv\n",
      "******** Empty RRC Data ********\n",
      "25/216 /home/wmnlab/jackbedford/data/2023-10-26/UDP_Bandlock_9S_Phone_Airport/sm03/#01/data/handover_info_log.csv\n",
      "25/216 /home/wmnlab/jackbedford/data/2023-10-26/UDP_Bandlock_9S_Phone_Airport/sm03/#01/data/udp_dnlk_loss_latency.csv\n",
      "25/216 /home/wmnlab/jackbedford/data/2023-10-26/UDP_Bandlock_9S_Phone_Airport/sm03/#01/data/udp_uplk_loss_latency.csv\n",
      "25/216 /home/wmnlab/jackbedford/data/2023-10-26/UDP_Bandlock_9S_Phone_Airport/sm08/#01/data/handover_info_log.csv\n",
      "25/216 /home/wmnlab/jackbedford/data/2023-10-26/UDP_Bandlock_9S_Phone_Airport/sm08/#01/data/udp_dnlk_loss_latency.csv\n",
      "25/216 /home/wmnlab/jackbedford/data/2023-10-26/UDP_Bandlock_9S_Phone_Airport/sm08/#01/data/udp_uplk_loss_latency.csv\n",
      "******** Empty RRC Data ********\n",
      "26/216 /home/wmnlab/jackbedford/data/2023-10-26/UDP_Bandlock_9S_Phone_Airport/sm04/#01/data/handover_info_log.csv\n",
      "26/216 /home/wmnlab/jackbedford/data/2023-10-26/UDP_Bandlock_9S_Phone_Airport/sm04/#01/data/udp_dnlk_loss_latency.csv\n",
      "26/216 /home/wmnlab/jackbedford/data/2023-10-26/UDP_Bandlock_9S_Phone_Airport/sm04/#01/data/udp_uplk_loss_latency.csv\n",
      "26/216 /home/wmnlab/jackbedford/data/2023-10-26/UDP_Bandlock_9S_Phone_Airport/sm05/#01/data/handover_info_log.csv\n",
      "26/216 /home/wmnlab/jackbedford/data/2023-10-26/UDP_Bandlock_9S_Phone_Airport/sm05/#01/data/udp_dnlk_loss_latency.csv\n",
      "26/216 /home/wmnlab/jackbedford/data/2023-10-26/UDP_Bandlock_9S_Phone_Airport/sm05/#01/data/udp_uplk_loss_latency.csv\n"
     ]
    },
    {
     "data": {
      "application/vnd.jupyter.widget-view+json": {
       "model_id": "984506c059d6468cb10b8c8648c406b4",
       "version_major": 2,
       "version_minor": 0
      },
      "text/plain": [
       "  0%|                                                                                                         …"
      ]
     },
     "metadata": {},
     "output_type": "display_data"
    },
    {
     "name": "stdout",
     "output_type": "stream",
     "text": [
      "./20240312_150032342e_newest/20240314_060073cc2b/results/20240314_07515600001_1d4f11bee8b69504/\\home\\wmnlab\\jackbedford\\data\\2023-10-26\\UDP_Bandlock_9S_Phone_Airport\\sm04\\#01\\data\\udp_dnlk_loss_latency\\home\\wmnlab\\jackbedford\\data\\2023-10-26\\UDP_Bandlock_9S_Phone_Airport\\sm05\\#01\\data\\udp_dnlk_loss_latency.csv\n",
      "27/216 /home/wmnlab/jackbedford/data/2023-10-26/UDP_Bandlock_9S_Phone_Airport/sm04/#01/data/handover_info_log.csv\n",
      "27/216 /home/wmnlab/jackbedford/data/2023-10-26/UDP_Bandlock_9S_Phone_Airport/sm04/#01/data/udp_dnlk_loss_latency.csv\n",
      "27/216 /home/wmnlab/jackbedford/data/2023-10-26/UDP_Bandlock_9S_Phone_Airport/sm04/#01/data/udp_uplk_loss_latency.csv\n",
      "27/216 /home/wmnlab/jackbedford/data/2023-10-26/UDP_Bandlock_9S_Phone_Airport/sm06/#01/data/handover_info_log.csv\n",
      "27/216 /home/wmnlab/jackbedford/data/2023-10-26/UDP_Bandlock_9S_Phone_Airport/sm06/#01/data/udp_dnlk_loss_latency.csv\n",
      "27/216 /home/wmnlab/jackbedford/data/2023-10-26/UDP_Bandlock_9S_Phone_Airport/sm06/#01/data/udp_uplk_loss_latency.csv\n"
     ]
    },
    {
     "data": {
      "application/vnd.jupyter.widget-view+json": {
       "model_id": "57f953ef2eeb4acbb9b79ec66b6e3fc2",
       "version_major": 2,
       "version_minor": 0
      },
      "text/plain": [
       "  0%|                                                                                                         …"
      ]
     },
     "metadata": {},
     "output_type": "display_data"
    },
    {
     "name": "stdout",
     "output_type": "stream",
     "text": [
      "./20240312_150032342e_newest/20240314_060073cc2b/results/20240314_07515600001_1d4f11bee8b69504/\\home\\wmnlab\\jackbedford\\data\\2023-10-26\\UDP_Bandlock_9S_Phone_Airport\\sm04\\#01\\data\\udp_dnlk_loss_latency\\home\\wmnlab\\jackbedford\\data\\2023-10-26\\UDP_Bandlock_9S_Phone_Airport\\sm06\\#01\\data\\udp_dnlk_loss_latency.csv\n",
      "28/216 /home/wmnlab/jackbedford/data/2023-10-26/UDP_Bandlock_9S_Phone_Airport/sm04/#01/data/handover_info_log.csv\n",
      "28/216 /home/wmnlab/jackbedford/data/2023-10-26/UDP_Bandlock_9S_Phone_Airport/sm04/#01/data/udp_dnlk_loss_latency.csv\n",
      "28/216 /home/wmnlab/jackbedford/data/2023-10-26/UDP_Bandlock_9S_Phone_Airport/sm04/#01/data/udp_uplk_loss_latency.csv\n",
      "28/216 /home/wmnlab/jackbedford/data/2023-10-26/UDP_Bandlock_9S_Phone_Airport/sm07/#01/data/handover_info_log.csv\n",
      "28/216 /home/wmnlab/jackbedford/data/2023-10-26/UDP_Bandlock_9S_Phone_Airport/sm07/#01/data/udp_dnlk_loss_latency.csv\n",
      "28/216 /home/wmnlab/jackbedford/data/2023-10-26/UDP_Bandlock_9S_Phone_Airport/sm07/#01/data/udp_uplk_loss_latency.csv\n"
     ]
    },
    {
     "data": {
      "application/vnd.jupyter.widget-view+json": {
       "model_id": "dc73a55cca0e4fbcafc1f22ae7e8c4a7",
       "version_major": 2,
       "version_minor": 0
      },
      "text/plain": [
       "  0%|                                                                                                         …"
      ]
     },
     "metadata": {},
     "output_type": "display_data"
    },
    {
     "name": "stdout",
     "output_type": "stream",
     "text": [
      "./20240312_150032342e_newest/20240314_060073cc2b/results/20240314_07515600001_1d4f11bee8b69504/\\home\\wmnlab\\jackbedford\\data\\2023-10-26\\UDP_Bandlock_9S_Phone_Airport\\sm04\\#01\\data\\udp_dnlk_loss_latency\\home\\wmnlab\\jackbedford\\data\\2023-10-26\\UDP_Bandlock_9S_Phone_Airport\\sm07\\#01\\data\\udp_dnlk_loss_latency.csv\n",
      "29/216 /home/wmnlab/jackbedford/data/2023-10-26/UDP_Bandlock_9S_Phone_Airport/sm04/#01/data/handover_info_log.csv\n",
      "29/216 /home/wmnlab/jackbedford/data/2023-10-26/UDP_Bandlock_9S_Phone_Airport/sm04/#01/data/udp_dnlk_loss_latency.csv\n",
      "29/216 /home/wmnlab/jackbedford/data/2023-10-26/UDP_Bandlock_9S_Phone_Airport/sm04/#01/data/udp_uplk_loss_latency.csv\n",
      "29/216 /home/wmnlab/jackbedford/data/2023-10-26/UDP_Bandlock_9S_Phone_Airport/sm08/#01/data/handover_info_log.csv\n",
      "29/216 /home/wmnlab/jackbedford/data/2023-10-26/UDP_Bandlock_9S_Phone_Airport/sm08/#01/data/udp_dnlk_loss_latency.csv\n",
      "29/216 /home/wmnlab/jackbedford/data/2023-10-26/UDP_Bandlock_9S_Phone_Airport/sm08/#01/data/udp_uplk_loss_latency.csv\n"
     ]
    },
    {
     "data": {
      "application/vnd.jupyter.widget-view+json": {
       "model_id": "56d32238b0b44ebbb3ef43293628d826",
       "version_major": 2,
       "version_minor": 0
      },
      "text/plain": [
       "  0%|                                                                                                         …"
      ]
     },
     "metadata": {},
     "output_type": "display_data"
    },
    {
     "name": "stdout",
     "output_type": "stream",
     "text": [
      "./20240312_150032342e_newest/20240314_060073cc2b/results/20240314_07515600001_1d4f11bee8b69504/\\home\\wmnlab\\jackbedford\\data\\2023-10-26\\UDP_Bandlock_9S_Phone_Airport\\sm04\\#01\\data\\udp_dnlk_loss_latency\\home\\wmnlab\\jackbedford\\data\\2023-10-26\\UDP_Bandlock_9S_Phone_Airport\\sm08\\#01\\data\\udp_dnlk_loss_latency.csv\n",
      "30/216 /home/wmnlab/jackbedford/data/2023-10-26/UDP_Bandlock_9S_Phone_Airport/sm05/#01/data/handover_info_log.csv\n",
      "30/216 /home/wmnlab/jackbedford/data/2023-10-26/UDP_Bandlock_9S_Phone_Airport/sm05/#01/data/udp_dnlk_loss_latency.csv\n",
      "30/216 /home/wmnlab/jackbedford/data/2023-10-26/UDP_Bandlock_9S_Phone_Airport/sm05/#01/data/udp_uplk_loss_latency.csv\n",
      "30/216 /home/wmnlab/jackbedford/data/2023-10-26/UDP_Bandlock_9S_Phone_Airport/sm06/#01/data/handover_info_log.csv\n",
      "30/216 /home/wmnlab/jackbedford/data/2023-10-26/UDP_Bandlock_9S_Phone_Airport/sm06/#01/data/udp_dnlk_loss_latency.csv\n",
      "30/216 /home/wmnlab/jackbedford/data/2023-10-26/UDP_Bandlock_9S_Phone_Airport/sm06/#01/data/udp_uplk_loss_latency.csv\n"
     ]
    },
    {
     "data": {
      "application/vnd.jupyter.widget-view+json": {
       "model_id": "a7869c2855394819b04a0026822061d2",
       "version_major": 2,
       "version_minor": 0
      },
      "text/plain": [
       "  0%|                                                                                                         …"
      ]
     },
     "metadata": {},
     "output_type": "display_data"
    },
    {
     "name": "stdout",
     "output_type": "stream",
     "text": [
      "./20240312_150032342e_newest/20240314_060073cc2b/results/20240314_07515600001_1d4f11bee8b69504/\\home\\wmnlab\\jackbedford\\data\\2023-10-26\\UDP_Bandlock_9S_Phone_Airport\\sm05\\#01\\data\\udp_dnlk_loss_latency\\home\\wmnlab\\jackbedford\\data\\2023-10-26\\UDP_Bandlock_9S_Phone_Airport\\sm06\\#01\\data\\udp_dnlk_loss_latency.csv\n",
      "31/216 /home/wmnlab/jackbedford/data/2023-10-26/UDP_Bandlock_9S_Phone_Airport/sm05/#01/data/handover_info_log.csv\n",
      "31/216 /home/wmnlab/jackbedford/data/2023-10-26/UDP_Bandlock_9S_Phone_Airport/sm05/#01/data/udp_dnlk_loss_latency.csv\n",
      "31/216 /home/wmnlab/jackbedford/data/2023-10-26/UDP_Bandlock_9S_Phone_Airport/sm05/#01/data/udp_uplk_loss_latency.csv\n",
      "31/216 /home/wmnlab/jackbedford/data/2023-10-26/UDP_Bandlock_9S_Phone_Airport/sm07/#01/data/handover_info_log.csv\n",
      "31/216 /home/wmnlab/jackbedford/data/2023-10-26/UDP_Bandlock_9S_Phone_Airport/sm07/#01/data/udp_dnlk_loss_latency.csv\n",
      "31/216 /home/wmnlab/jackbedford/data/2023-10-26/UDP_Bandlock_9S_Phone_Airport/sm07/#01/data/udp_uplk_loss_latency.csv\n"
     ]
    },
    {
     "data": {
      "application/vnd.jupyter.widget-view+json": {
       "model_id": "c241786eaf2a49ea9cec163701e9ea86",
       "version_major": 2,
       "version_minor": 0
      },
      "text/plain": [
       "  0%|                                                                                                         …"
      ]
     },
     "metadata": {},
     "output_type": "display_data"
    },
    {
     "name": "stdout",
     "output_type": "stream",
     "text": [
      "./20240312_150032342e_newest/20240314_060073cc2b/results/20240314_07515600001_1d4f11bee8b69504/\\home\\wmnlab\\jackbedford\\data\\2023-10-26\\UDP_Bandlock_9S_Phone_Airport\\sm05\\#01\\data\\udp_dnlk_loss_latency\\home\\wmnlab\\jackbedford\\data\\2023-10-26\\UDP_Bandlock_9S_Phone_Airport\\sm07\\#01\\data\\udp_dnlk_loss_latency.csv\n",
      "32/216 /home/wmnlab/jackbedford/data/2023-10-26/UDP_Bandlock_9S_Phone_Airport/sm05/#01/data/handover_info_log.csv\n",
      "32/216 /home/wmnlab/jackbedford/data/2023-10-26/UDP_Bandlock_9S_Phone_Airport/sm05/#01/data/udp_dnlk_loss_latency.csv\n",
      "32/216 /home/wmnlab/jackbedford/data/2023-10-26/UDP_Bandlock_9S_Phone_Airport/sm05/#01/data/udp_uplk_loss_latency.csv\n",
      "32/216 /home/wmnlab/jackbedford/data/2023-10-26/UDP_Bandlock_9S_Phone_Airport/sm08/#01/data/handover_info_log.csv\n",
      "32/216 /home/wmnlab/jackbedford/data/2023-10-26/UDP_Bandlock_9S_Phone_Airport/sm08/#01/data/udp_dnlk_loss_latency.csv\n",
      "32/216 /home/wmnlab/jackbedford/data/2023-10-26/UDP_Bandlock_9S_Phone_Airport/sm08/#01/data/udp_uplk_loss_latency.csv\n"
     ]
    },
    {
     "data": {
      "application/vnd.jupyter.widget-view+json": {
       "model_id": "6f218b0fc04148d9a28987ce8b86d11d",
       "version_major": 2,
       "version_minor": 0
      },
      "text/plain": [
       "  0%|                                                                                                         …"
      ]
     },
     "metadata": {},
     "output_type": "display_data"
    },
    {
     "name": "stdout",
     "output_type": "stream",
     "text": [
      "./20240312_150032342e_newest/20240314_060073cc2b/results/20240314_07515600001_1d4f11bee8b69504/\\home\\wmnlab\\jackbedford\\data\\2023-10-26\\UDP_Bandlock_9S_Phone_Airport\\sm05\\#01\\data\\udp_dnlk_loss_latency\\home\\wmnlab\\jackbedford\\data\\2023-10-26\\UDP_Bandlock_9S_Phone_Airport\\sm08\\#01\\data\\udp_dnlk_loss_latency.csv\n",
      "33/216 /home/wmnlab/jackbedford/data/2023-10-26/UDP_Bandlock_9S_Phone_Airport/sm06/#01/data/handover_info_log.csv\n",
      "33/216 /home/wmnlab/jackbedford/data/2023-10-26/UDP_Bandlock_9S_Phone_Airport/sm06/#01/data/udp_dnlk_loss_latency.csv\n",
      "33/216 /home/wmnlab/jackbedford/data/2023-10-26/UDP_Bandlock_9S_Phone_Airport/sm06/#01/data/udp_uplk_loss_latency.csv\n",
      "33/216 /home/wmnlab/jackbedford/data/2023-10-26/UDP_Bandlock_9S_Phone_Airport/sm07/#01/data/handover_info_log.csv\n",
      "33/216 /home/wmnlab/jackbedford/data/2023-10-26/UDP_Bandlock_9S_Phone_Airport/sm07/#01/data/udp_dnlk_loss_latency.csv\n",
      "33/216 /home/wmnlab/jackbedford/data/2023-10-26/UDP_Bandlock_9S_Phone_Airport/sm07/#01/data/udp_uplk_loss_latency.csv\n"
     ]
    },
    {
     "data": {
      "application/vnd.jupyter.widget-view+json": {
       "model_id": "10b41dfaf39f49a6abd14ce20f6570f8",
       "version_major": 2,
       "version_minor": 0
      },
      "text/plain": [
       "  0%|                                                                                                         …"
      ]
     },
     "metadata": {},
     "output_type": "display_data"
    },
    {
     "name": "stdout",
     "output_type": "stream",
     "text": [
      "./20240312_150032342e_newest/20240314_060073cc2b/results/20240314_07515600001_1d4f11bee8b69504/\\home\\wmnlab\\jackbedford\\data\\2023-10-26\\UDP_Bandlock_9S_Phone_Airport\\sm06\\#01\\data\\udp_dnlk_loss_latency\\home\\wmnlab\\jackbedford\\data\\2023-10-26\\UDP_Bandlock_9S_Phone_Airport\\sm07\\#01\\data\\udp_dnlk_loss_latency.csv\n",
      "34/216 /home/wmnlab/jackbedford/data/2023-10-26/UDP_Bandlock_9S_Phone_Airport/sm06/#01/data/handover_info_log.csv\n",
      "34/216 /home/wmnlab/jackbedford/data/2023-10-26/UDP_Bandlock_9S_Phone_Airport/sm06/#01/data/udp_dnlk_loss_latency.csv\n",
      "34/216 /home/wmnlab/jackbedford/data/2023-10-26/UDP_Bandlock_9S_Phone_Airport/sm06/#01/data/udp_uplk_loss_latency.csv\n",
      "34/216 /home/wmnlab/jackbedford/data/2023-10-26/UDP_Bandlock_9S_Phone_Airport/sm08/#01/data/handover_info_log.csv\n",
      "34/216 /home/wmnlab/jackbedford/data/2023-10-26/UDP_Bandlock_9S_Phone_Airport/sm08/#01/data/udp_dnlk_loss_latency.csv\n",
      "34/216 /home/wmnlab/jackbedford/data/2023-10-26/UDP_Bandlock_9S_Phone_Airport/sm08/#01/data/udp_uplk_loss_latency.csv\n"
     ]
    },
    {
     "data": {
      "application/vnd.jupyter.widget-view+json": {
       "model_id": "88280f87c1ae4f2ba2ff1c03e3d74f33",
       "version_major": 2,
       "version_minor": 0
      },
      "text/plain": [
       "  0%|                                                                                                         …"
      ]
     },
     "metadata": {},
     "output_type": "display_data"
    },
    {
     "name": "stdout",
     "output_type": "stream",
     "text": [
      "./20240312_150032342e_newest/20240314_060073cc2b/results/20240314_07515600001_1d4f11bee8b69504/\\home\\wmnlab\\jackbedford\\data\\2023-10-26\\UDP_Bandlock_9S_Phone_Airport\\sm06\\#01\\data\\udp_dnlk_loss_latency\\home\\wmnlab\\jackbedford\\data\\2023-10-26\\UDP_Bandlock_9S_Phone_Airport\\sm08\\#01\\data\\udp_dnlk_loss_latency.csv\n",
      "35/216 /home/wmnlab/jackbedford/data/2023-10-26/UDP_Bandlock_9S_Phone_Airport/sm07/#01/data/handover_info_log.csv\n",
      "35/216 /home/wmnlab/jackbedford/data/2023-10-26/UDP_Bandlock_9S_Phone_Airport/sm07/#01/data/udp_dnlk_loss_latency.csv\n",
      "35/216 /home/wmnlab/jackbedford/data/2023-10-26/UDP_Bandlock_9S_Phone_Airport/sm07/#01/data/udp_uplk_loss_latency.csv\n",
      "35/216 /home/wmnlab/jackbedford/data/2023-10-26/UDP_Bandlock_9S_Phone_Airport/sm08/#01/data/handover_info_log.csv\n",
      "35/216 /home/wmnlab/jackbedford/data/2023-10-26/UDP_Bandlock_9S_Phone_Airport/sm08/#01/data/udp_dnlk_loss_latency.csv\n",
      "35/216 /home/wmnlab/jackbedford/data/2023-10-26/UDP_Bandlock_9S_Phone_Airport/sm08/#01/data/udp_uplk_loss_latency.csv\n"
     ]
    },
    {
     "data": {
      "application/vnd.jupyter.widget-view+json": {
       "model_id": "0a3fe41097a14e94ab3f51ed465b2bc5",
       "version_major": 2,
       "version_minor": 0
      },
      "text/plain": [
       "  0%|                                                                                                         …"
      ]
     },
     "metadata": {},
     "output_type": "display_data"
    },
    {
     "name": "stdout",
     "output_type": "stream",
     "text": [
      "./20240312_150032342e_newest/20240314_060073cc2b/results/20240314_07515600001_1d4f11bee8b69504/\\home\\wmnlab\\jackbedford\\data\\2023-10-26\\UDP_Bandlock_9S_Phone_Airport\\sm07\\#01\\data\\udp_dnlk_loss_latency\\home\\wmnlab\\jackbedford\\data\\2023-10-26\\UDP_Bandlock_9S_Phone_Airport\\sm08\\#01\\data\\udp_dnlk_loss_latency.csv\n",
      "36/216 /home/wmnlab/jackbedford/data/2023-10-26/UDP_Bandlock_9S_Phone_Airport/sm00/#02/data/handover_info_log.csv\n",
      "36/216 /home/wmnlab/jackbedford/data/2023-10-26/UDP_Bandlock_9S_Phone_Airport/sm00/#02/data/udp_dnlk_loss_latency.csv\n",
      "36/216 /home/wmnlab/jackbedford/data/2023-10-26/UDP_Bandlock_9S_Phone_Airport/sm00/#02/data/udp_uplk_loss_latency.csv\n",
      "36/216 /home/wmnlab/jackbedford/data/2023-10-26/UDP_Bandlock_9S_Phone_Airport/sm01/#02/data/handover_info_log.csv\n",
      "36/216 /home/wmnlab/jackbedford/data/2023-10-26/UDP_Bandlock_9S_Phone_Airport/sm01/#02/data/udp_dnlk_loss_latency.csv\n",
      "36/216 /home/wmnlab/jackbedford/data/2023-10-26/UDP_Bandlock_9S_Phone_Airport/sm01/#02/data/udp_uplk_loss_latency.csv\n"
     ]
    },
    {
     "data": {
      "application/vnd.jupyter.widget-view+json": {
       "model_id": "9c6509acf59446eaa6ba8ef95d018fb0",
       "version_major": 2,
       "version_minor": 0
      },
      "text/plain": [
       "  0%|                                                                                                         …"
      ]
     },
     "metadata": {},
     "output_type": "display_data"
    },
    {
     "name": "stdout",
     "output_type": "stream",
     "text": [
      "./20240312_150032342e_newest/20240314_060073cc2b/results/20240314_07515600001_1d4f11bee8b69504/\\home\\wmnlab\\jackbedford\\data\\2023-10-26\\UDP_Bandlock_9S_Phone_Airport\\sm00\\#02\\data\\udp_dnlk_loss_latency\\home\\wmnlab\\jackbedford\\data\\2023-10-26\\UDP_Bandlock_9S_Phone_Airport\\sm01\\#02\\data\\udp_dnlk_loss_latency.csv\n",
      "37/216 /home/wmnlab/jackbedford/data/2023-10-26/UDP_Bandlock_9S_Phone_Airport/sm00/#02/data/handover_info_log.csv\n",
      "37/216 /home/wmnlab/jackbedford/data/2023-10-26/UDP_Bandlock_9S_Phone_Airport/sm00/#02/data/udp_dnlk_loss_latency.csv\n",
      "37/216 /home/wmnlab/jackbedford/data/2023-10-26/UDP_Bandlock_9S_Phone_Airport/sm00/#02/data/udp_uplk_loss_latency.csv\n",
      "37/216 /home/wmnlab/jackbedford/data/2023-10-26/UDP_Bandlock_9S_Phone_Airport/sm02/#02/data/handover_info_log.csv\n",
      "37/216 /home/wmnlab/jackbedford/data/2023-10-26/UDP_Bandlock_9S_Phone_Airport/sm02/#02/data/udp_dnlk_loss_latency.csv\n",
      "37/216 /home/wmnlab/jackbedford/data/2023-10-26/UDP_Bandlock_9S_Phone_Airport/sm02/#02/data/udp_uplk_loss_latency.csv\n"
     ]
    },
    {
     "data": {
      "application/vnd.jupyter.widget-view+json": {
       "model_id": "2765c1d01ee2408bb484dbc08d58fd15",
       "version_major": 2,
       "version_minor": 0
      },
      "text/plain": [
       "  0%|                                                                                                         …"
      ]
     },
     "metadata": {},
     "output_type": "display_data"
    },
    {
     "name": "stdout",
     "output_type": "stream",
     "text": [
      "./20240312_150032342e_newest/20240314_060073cc2b/results/20240314_07515600001_1d4f11bee8b69504/\\home\\wmnlab\\jackbedford\\data\\2023-10-26\\UDP_Bandlock_9S_Phone_Airport\\sm00\\#02\\data\\udp_dnlk_loss_latency\\home\\wmnlab\\jackbedford\\data\\2023-10-26\\UDP_Bandlock_9S_Phone_Airport\\sm02\\#02\\data\\udp_dnlk_loss_latency.csv\n",
      "38/216 /home/wmnlab/jackbedford/data/2023-10-26/UDP_Bandlock_9S_Phone_Airport/sm00/#02/data/handover_info_log.csv\n",
      "38/216 /home/wmnlab/jackbedford/data/2023-10-26/UDP_Bandlock_9S_Phone_Airport/sm00/#02/data/udp_dnlk_loss_latency.csv\n",
      "38/216 /home/wmnlab/jackbedford/data/2023-10-26/UDP_Bandlock_9S_Phone_Airport/sm00/#02/data/udp_uplk_loss_latency.csv\n",
      "38/216 /home/wmnlab/jackbedford/data/2023-10-26/UDP_Bandlock_9S_Phone_Airport/sm03/#02/data/handover_info_log.csv\n",
      "38/216 /home/wmnlab/jackbedford/data/2023-10-26/UDP_Bandlock_9S_Phone_Airport/sm03/#02/data/udp_dnlk_loss_latency.csv\n",
      "38/216 /home/wmnlab/jackbedford/data/2023-10-26/UDP_Bandlock_9S_Phone_Airport/sm03/#02/data/udp_uplk_loss_latency.csv\n"
     ]
    },
    {
     "data": {
      "application/vnd.jupyter.widget-view+json": {
       "model_id": "907627f482544ddc877dac551890d9f6",
       "version_major": 2,
       "version_minor": 0
      },
      "text/plain": [
       "  0%|                                                                                                         …"
      ]
     },
     "metadata": {},
     "output_type": "display_data"
    },
    {
     "name": "stdout",
     "output_type": "stream",
     "text": [
      "./20240312_150032342e_newest/20240314_060073cc2b/results/20240314_07515600001_1d4f11bee8b69504/\\home\\wmnlab\\jackbedford\\data\\2023-10-26\\UDP_Bandlock_9S_Phone_Airport\\sm00\\#02\\data\\udp_dnlk_loss_latency\\home\\wmnlab\\jackbedford\\data\\2023-10-26\\UDP_Bandlock_9S_Phone_Airport\\sm03\\#02\\data\\udp_dnlk_loss_latency.csv\n",
      "39/216 /home/wmnlab/jackbedford/data/2023-10-26/UDP_Bandlock_9S_Phone_Airport/sm00/#02/data/handover_info_log.csv\n",
      "39/216 /home/wmnlab/jackbedford/data/2023-10-26/UDP_Bandlock_9S_Phone_Airport/sm00/#02/data/udp_dnlk_loss_latency.csv\n",
      "39/216 /home/wmnlab/jackbedford/data/2023-10-26/UDP_Bandlock_9S_Phone_Airport/sm00/#02/data/udp_uplk_loss_latency.csv\n",
      "39/216 /home/wmnlab/jackbedford/data/2023-10-26/UDP_Bandlock_9S_Phone_Airport/sm04/#02/data/handover_info_log.csv\n",
      "39/216 /home/wmnlab/jackbedford/data/2023-10-26/UDP_Bandlock_9S_Phone_Airport/sm04/#02/data/udp_dnlk_loss_latency.csv\n",
      "39/216 /home/wmnlab/jackbedford/data/2023-10-26/UDP_Bandlock_9S_Phone_Airport/sm04/#02/data/udp_uplk_loss_latency.csv\n"
     ]
    },
    {
     "data": {
      "application/vnd.jupyter.widget-view+json": {
       "model_id": "a6284a849bf8494397b69c8360096f62",
       "version_major": 2,
       "version_minor": 0
      },
      "text/plain": [
       "  0%|                                                                                                         …"
      ]
     },
     "metadata": {},
     "output_type": "display_data"
    },
    {
     "name": "stdout",
     "output_type": "stream",
     "text": [
      "./20240312_150032342e_newest/20240314_060073cc2b/results/20240314_07515600001_1d4f11bee8b69504/\\home\\wmnlab\\jackbedford\\data\\2023-10-26\\UDP_Bandlock_9S_Phone_Airport\\sm00\\#02\\data\\udp_dnlk_loss_latency\\home\\wmnlab\\jackbedford\\data\\2023-10-26\\UDP_Bandlock_9S_Phone_Airport\\sm04\\#02\\data\\udp_dnlk_loss_latency.csv\n",
      "40/216 /home/wmnlab/jackbedford/data/2023-10-26/UDP_Bandlock_9S_Phone_Airport/sm00/#02/data/handover_info_log.csv\n",
      "40/216 /home/wmnlab/jackbedford/data/2023-10-26/UDP_Bandlock_9S_Phone_Airport/sm00/#02/data/udp_dnlk_loss_latency.csv\n",
      "40/216 /home/wmnlab/jackbedford/data/2023-10-26/UDP_Bandlock_9S_Phone_Airport/sm00/#02/data/udp_uplk_loss_latency.csv\n",
      "40/216 /home/wmnlab/jackbedford/data/2023-10-26/UDP_Bandlock_9S_Phone_Airport/sm05/#02/data/handover_info_log.csv\n",
      "40/216 /home/wmnlab/jackbedford/data/2023-10-26/UDP_Bandlock_9S_Phone_Airport/sm05/#02/data/udp_dnlk_loss_latency.csv\n",
      "40/216 /home/wmnlab/jackbedford/data/2023-10-26/UDP_Bandlock_9S_Phone_Airport/sm05/#02/data/udp_uplk_loss_latency.csv\n"
     ]
    },
    {
     "data": {
      "application/vnd.jupyter.widget-view+json": {
       "model_id": "890bf9c7afbe4d958cd8b23f236a7637",
       "version_major": 2,
       "version_minor": 0
      },
      "text/plain": [
       "  0%|                                                                                                         …"
      ]
     },
     "metadata": {},
     "output_type": "display_data"
    },
    {
     "name": "stdout",
     "output_type": "stream",
     "text": [
      "./20240312_150032342e_newest/20240314_060073cc2b/results/20240314_07515600001_1d4f11bee8b69504/\\home\\wmnlab\\jackbedford\\data\\2023-10-26\\UDP_Bandlock_9S_Phone_Airport\\sm00\\#02\\data\\udp_dnlk_loss_latency\\home\\wmnlab\\jackbedford\\data\\2023-10-26\\UDP_Bandlock_9S_Phone_Airport\\sm05\\#02\\data\\udp_dnlk_loss_latency.csv\n",
      "41/216 /home/wmnlab/jackbedford/data/2023-10-26/UDP_Bandlock_9S_Phone_Airport/sm00/#02/data/handover_info_log.csv\n",
      "41/216 /home/wmnlab/jackbedford/data/2023-10-26/UDP_Bandlock_9S_Phone_Airport/sm00/#02/data/udp_dnlk_loss_latency.csv\n",
      "41/216 /home/wmnlab/jackbedford/data/2023-10-26/UDP_Bandlock_9S_Phone_Airport/sm00/#02/data/udp_uplk_loss_latency.csv\n",
      "41/216 /home/wmnlab/jackbedford/data/2023-10-26/UDP_Bandlock_9S_Phone_Airport/sm06/#02/data/handover_info_log.csv\n",
      "41/216 /home/wmnlab/jackbedford/data/2023-10-26/UDP_Bandlock_9S_Phone_Airport/sm06/#02/data/udp_dnlk_loss_latency.csv\n",
      "41/216 /home/wmnlab/jackbedford/data/2023-10-26/UDP_Bandlock_9S_Phone_Airport/sm06/#02/data/udp_uplk_loss_latency.csv\n"
     ]
    },
    {
     "data": {
      "application/vnd.jupyter.widget-view+json": {
       "model_id": "13df4af92a4e40c79ba93dc28b9340c8",
       "version_major": 2,
       "version_minor": 0
      },
      "text/plain": [
       "  0%|                                                                                                         …"
      ]
     },
     "metadata": {},
     "output_type": "display_data"
    },
    {
     "name": "stdout",
     "output_type": "stream",
     "text": [
      "./20240312_150032342e_newest/20240314_060073cc2b/results/20240314_07515600001_1d4f11bee8b69504/\\home\\wmnlab\\jackbedford\\data\\2023-10-26\\UDP_Bandlock_9S_Phone_Airport\\sm00\\#02\\data\\udp_dnlk_loss_latency\\home\\wmnlab\\jackbedford\\data\\2023-10-26\\UDP_Bandlock_9S_Phone_Airport\\sm06\\#02\\data\\udp_dnlk_loss_latency.csv\n",
      "42/216 /home/wmnlab/jackbedford/data/2023-10-26/UDP_Bandlock_9S_Phone_Airport/sm00/#02/data/handover_info_log.csv\n",
      "42/216 /home/wmnlab/jackbedford/data/2023-10-26/UDP_Bandlock_9S_Phone_Airport/sm00/#02/data/udp_dnlk_loss_latency.csv\n",
      "42/216 /home/wmnlab/jackbedford/data/2023-10-26/UDP_Bandlock_9S_Phone_Airport/sm00/#02/data/udp_uplk_loss_latency.csv\n",
      "42/216 /home/wmnlab/jackbedford/data/2023-10-26/UDP_Bandlock_9S_Phone_Airport/sm07/#02/data/handover_info_log.csv\n",
      "42/216 /home/wmnlab/jackbedford/data/2023-10-26/UDP_Bandlock_9S_Phone_Airport/sm07/#02/data/udp_dnlk_loss_latency.csv\n",
      "42/216 /home/wmnlab/jackbedford/data/2023-10-26/UDP_Bandlock_9S_Phone_Airport/sm07/#02/data/udp_uplk_loss_latency.csv\n"
     ]
    },
    {
     "data": {
      "application/vnd.jupyter.widget-view+json": {
       "model_id": "b7c00c82948f4d9ea1f7347082559292",
       "version_major": 2,
       "version_minor": 0
      },
      "text/plain": [
       "  0%|                                                                                                         …"
      ]
     },
     "metadata": {},
     "output_type": "display_data"
    },
    {
     "name": "stdout",
     "output_type": "stream",
     "text": [
      "./20240312_150032342e_newest/20240314_060073cc2b/results/20240314_07515600001_1d4f11bee8b69504/\\home\\wmnlab\\jackbedford\\data\\2023-10-26\\UDP_Bandlock_9S_Phone_Airport\\sm00\\#02\\data\\udp_dnlk_loss_latency\\home\\wmnlab\\jackbedford\\data\\2023-10-26\\UDP_Bandlock_9S_Phone_Airport\\sm07\\#02\\data\\udp_dnlk_loss_latency.csv\n",
      "43/216 /home/wmnlab/jackbedford/data/2023-10-26/UDP_Bandlock_9S_Phone_Airport/sm00/#02/data/handover_info_log.csv\n",
      "43/216 /home/wmnlab/jackbedford/data/2023-10-26/UDP_Bandlock_9S_Phone_Airport/sm00/#02/data/udp_dnlk_loss_latency.csv\n",
      "43/216 /home/wmnlab/jackbedford/data/2023-10-26/UDP_Bandlock_9S_Phone_Airport/sm00/#02/data/udp_uplk_loss_latency.csv\n",
      "43/216 /home/wmnlab/jackbedford/data/2023-10-26/UDP_Bandlock_9S_Phone_Airport/sm08/#02/data/handover_info_log.csv\n",
      "43/216 /home/wmnlab/jackbedford/data/2023-10-26/UDP_Bandlock_9S_Phone_Airport/sm08/#02/data/udp_dnlk_loss_latency.csv\n",
      "43/216 /home/wmnlab/jackbedford/data/2023-10-26/UDP_Bandlock_9S_Phone_Airport/sm08/#02/data/udp_uplk_loss_latency.csv\n"
     ]
    },
    {
     "data": {
      "application/vnd.jupyter.widget-view+json": {
       "model_id": "ffc7c7c9056f44d98ced14539fab3cf6",
       "version_major": 2,
       "version_minor": 0
      },
      "text/plain": [
       "  0%|                                                                                                         …"
      ]
     },
     "metadata": {},
     "output_type": "display_data"
    },
    {
     "name": "stdout",
     "output_type": "stream",
     "text": [
      "./20240312_150032342e_newest/20240314_060073cc2b/results/20240314_07515600001_1d4f11bee8b69504/\\home\\wmnlab\\jackbedford\\data\\2023-10-26\\UDP_Bandlock_9S_Phone_Airport\\sm00\\#02\\data\\udp_dnlk_loss_latency\\home\\wmnlab\\jackbedford\\data\\2023-10-26\\UDP_Bandlock_9S_Phone_Airport\\sm08\\#02\\data\\udp_dnlk_loss_latency.csv\n",
      "44/216 /home/wmnlab/jackbedford/data/2023-10-26/UDP_Bandlock_9S_Phone_Airport/sm01/#02/data/handover_info_log.csv\n",
      "44/216 /home/wmnlab/jackbedford/data/2023-10-26/UDP_Bandlock_9S_Phone_Airport/sm01/#02/data/udp_dnlk_loss_latency.csv\n",
      "44/216 /home/wmnlab/jackbedford/data/2023-10-26/UDP_Bandlock_9S_Phone_Airport/sm01/#02/data/udp_uplk_loss_latency.csv\n",
      "44/216 /home/wmnlab/jackbedford/data/2023-10-26/UDP_Bandlock_9S_Phone_Airport/sm02/#02/data/handover_info_log.csv\n",
      "44/216 /home/wmnlab/jackbedford/data/2023-10-26/UDP_Bandlock_9S_Phone_Airport/sm02/#02/data/udp_dnlk_loss_latency.csv\n",
      "44/216 /home/wmnlab/jackbedford/data/2023-10-26/UDP_Bandlock_9S_Phone_Airport/sm02/#02/data/udp_uplk_loss_latency.csv\n"
     ]
    },
    {
     "data": {
      "application/vnd.jupyter.widget-view+json": {
       "model_id": "6a541bbdb7f743dfbe990e8d4ff13af7",
       "version_major": 2,
       "version_minor": 0
      },
      "text/plain": [
       "  0%|                                                                                                         …"
      ]
     },
     "metadata": {},
     "output_type": "display_data"
    },
    {
     "name": "stdout",
     "output_type": "stream",
     "text": [
      "./20240312_150032342e_newest/20240314_060073cc2b/results/20240314_07515600001_1d4f11bee8b69504/\\home\\wmnlab\\jackbedford\\data\\2023-10-26\\UDP_Bandlock_9S_Phone_Airport\\sm01\\#02\\data\\udp_dnlk_loss_latency\\home\\wmnlab\\jackbedford\\data\\2023-10-26\\UDP_Bandlock_9S_Phone_Airport\\sm02\\#02\\data\\udp_dnlk_loss_latency.csv\n",
      "45/216 /home/wmnlab/jackbedford/data/2023-10-26/UDP_Bandlock_9S_Phone_Airport/sm01/#02/data/handover_info_log.csv\n",
      "45/216 /home/wmnlab/jackbedford/data/2023-10-26/UDP_Bandlock_9S_Phone_Airport/sm01/#02/data/udp_dnlk_loss_latency.csv\n",
      "45/216 /home/wmnlab/jackbedford/data/2023-10-26/UDP_Bandlock_9S_Phone_Airport/sm01/#02/data/udp_uplk_loss_latency.csv\n",
      "45/216 /home/wmnlab/jackbedford/data/2023-10-26/UDP_Bandlock_9S_Phone_Airport/sm03/#02/data/handover_info_log.csv\n",
      "45/216 /home/wmnlab/jackbedford/data/2023-10-26/UDP_Bandlock_9S_Phone_Airport/sm03/#02/data/udp_dnlk_loss_latency.csv\n",
      "45/216 /home/wmnlab/jackbedford/data/2023-10-26/UDP_Bandlock_9S_Phone_Airport/sm03/#02/data/udp_uplk_loss_latency.csv\n"
     ]
    },
    {
     "data": {
      "application/vnd.jupyter.widget-view+json": {
       "model_id": "55be7d20570d42ffb3ae20b37c0432d6",
       "version_major": 2,
       "version_minor": 0
      },
      "text/plain": [
       "  0%|                                                                                                         …"
      ]
     },
     "metadata": {},
     "output_type": "display_data"
    },
    {
     "name": "stdout",
     "output_type": "stream",
     "text": [
      "./20240312_150032342e_newest/20240314_060073cc2b/results/20240314_07515600001_1d4f11bee8b69504/\\home\\wmnlab\\jackbedford\\data\\2023-10-26\\UDP_Bandlock_9S_Phone_Airport\\sm01\\#02\\data\\udp_dnlk_loss_latency\\home\\wmnlab\\jackbedford\\data\\2023-10-26\\UDP_Bandlock_9S_Phone_Airport\\sm03\\#02\\data\\udp_dnlk_loss_latency.csv\n",
      "46/216 /home/wmnlab/jackbedford/data/2023-10-26/UDP_Bandlock_9S_Phone_Airport/sm01/#02/data/handover_info_log.csv\n",
      "46/216 /home/wmnlab/jackbedford/data/2023-10-26/UDP_Bandlock_9S_Phone_Airport/sm01/#02/data/udp_dnlk_loss_latency.csv\n",
      "46/216 /home/wmnlab/jackbedford/data/2023-10-26/UDP_Bandlock_9S_Phone_Airport/sm01/#02/data/udp_uplk_loss_latency.csv\n",
      "46/216 /home/wmnlab/jackbedford/data/2023-10-26/UDP_Bandlock_9S_Phone_Airport/sm04/#02/data/handover_info_log.csv\n",
      "46/216 /home/wmnlab/jackbedford/data/2023-10-26/UDP_Bandlock_9S_Phone_Airport/sm04/#02/data/udp_dnlk_loss_latency.csv\n",
      "46/216 /home/wmnlab/jackbedford/data/2023-10-26/UDP_Bandlock_9S_Phone_Airport/sm04/#02/data/udp_uplk_loss_latency.csv\n"
     ]
    },
    {
     "data": {
      "application/vnd.jupyter.widget-view+json": {
       "model_id": "67d57c83d033419f88a048c2f832e9b3",
       "version_major": 2,
       "version_minor": 0
      },
      "text/plain": [
       "  0%|                                                                                                         …"
      ]
     },
     "metadata": {},
     "output_type": "display_data"
    },
    {
     "name": "stdout",
     "output_type": "stream",
     "text": [
      "./20240312_150032342e_newest/20240314_060073cc2b/results/20240314_07515600001_1d4f11bee8b69504/\\home\\wmnlab\\jackbedford\\data\\2023-10-26\\UDP_Bandlock_9S_Phone_Airport\\sm01\\#02\\data\\udp_dnlk_loss_latency\\home\\wmnlab\\jackbedford\\data\\2023-10-26\\UDP_Bandlock_9S_Phone_Airport\\sm04\\#02\\data\\udp_dnlk_loss_latency.csv\n",
      "47/216 /home/wmnlab/jackbedford/data/2023-10-26/UDP_Bandlock_9S_Phone_Airport/sm01/#02/data/handover_info_log.csv\n",
      "47/216 /home/wmnlab/jackbedford/data/2023-10-26/UDP_Bandlock_9S_Phone_Airport/sm01/#02/data/udp_dnlk_loss_latency.csv\n",
      "47/216 /home/wmnlab/jackbedford/data/2023-10-26/UDP_Bandlock_9S_Phone_Airport/sm01/#02/data/udp_uplk_loss_latency.csv\n",
      "47/216 /home/wmnlab/jackbedford/data/2023-10-26/UDP_Bandlock_9S_Phone_Airport/sm05/#02/data/handover_info_log.csv\n",
      "47/216 /home/wmnlab/jackbedford/data/2023-10-26/UDP_Bandlock_9S_Phone_Airport/sm05/#02/data/udp_dnlk_loss_latency.csv\n",
      "47/216 /home/wmnlab/jackbedford/data/2023-10-26/UDP_Bandlock_9S_Phone_Airport/sm05/#02/data/udp_uplk_loss_latency.csv\n"
     ]
    },
    {
     "data": {
      "application/vnd.jupyter.widget-view+json": {
       "model_id": "b2a6e89076dd4fdcbc0202c0ec0d2820",
       "version_major": 2,
       "version_minor": 0
      },
      "text/plain": [
       "  0%|                                                                                                         …"
      ]
     },
     "metadata": {},
     "output_type": "display_data"
    },
    {
     "name": "stdout",
     "output_type": "stream",
     "text": [
      "./20240312_150032342e_newest/20240314_060073cc2b/results/20240314_07515600001_1d4f11bee8b69504/\\home\\wmnlab\\jackbedford\\data\\2023-10-26\\UDP_Bandlock_9S_Phone_Airport\\sm01\\#02\\data\\udp_dnlk_loss_latency\\home\\wmnlab\\jackbedford\\data\\2023-10-26\\UDP_Bandlock_9S_Phone_Airport\\sm05\\#02\\data\\udp_dnlk_loss_latency.csv\n",
      "48/216 /home/wmnlab/jackbedford/data/2023-10-26/UDP_Bandlock_9S_Phone_Airport/sm01/#02/data/handover_info_log.csv\n",
      "48/216 /home/wmnlab/jackbedford/data/2023-10-26/UDP_Bandlock_9S_Phone_Airport/sm01/#02/data/udp_dnlk_loss_latency.csv\n",
      "48/216 /home/wmnlab/jackbedford/data/2023-10-26/UDP_Bandlock_9S_Phone_Airport/sm01/#02/data/udp_uplk_loss_latency.csv\n",
      "48/216 /home/wmnlab/jackbedford/data/2023-10-26/UDP_Bandlock_9S_Phone_Airport/sm06/#02/data/handover_info_log.csv\n",
      "48/216 /home/wmnlab/jackbedford/data/2023-10-26/UDP_Bandlock_9S_Phone_Airport/sm06/#02/data/udp_dnlk_loss_latency.csv\n",
      "48/216 /home/wmnlab/jackbedford/data/2023-10-26/UDP_Bandlock_9S_Phone_Airport/sm06/#02/data/udp_uplk_loss_latency.csv\n"
     ]
    },
    {
     "data": {
      "application/vnd.jupyter.widget-view+json": {
       "model_id": "7c1af7822b584755bb5c3758414b300d",
       "version_major": 2,
       "version_minor": 0
      },
      "text/plain": [
       "  0%|                                                                                                         …"
      ]
     },
     "metadata": {},
     "output_type": "display_data"
    },
    {
     "name": "stdout",
     "output_type": "stream",
     "text": [
      "./20240312_150032342e_newest/20240314_060073cc2b/results/20240314_07515600001_1d4f11bee8b69504/\\home\\wmnlab\\jackbedford\\data\\2023-10-26\\UDP_Bandlock_9S_Phone_Airport\\sm01\\#02\\data\\udp_dnlk_loss_latency\\home\\wmnlab\\jackbedford\\data\\2023-10-26\\UDP_Bandlock_9S_Phone_Airport\\sm06\\#02\\data\\udp_dnlk_loss_latency.csv\n",
      "49/216 /home/wmnlab/jackbedford/data/2023-10-26/UDP_Bandlock_9S_Phone_Airport/sm01/#02/data/handover_info_log.csv\n",
      "49/216 /home/wmnlab/jackbedford/data/2023-10-26/UDP_Bandlock_9S_Phone_Airport/sm01/#02/data/udp_dnlk_loss_latency.csv\n",
      "49/216 /home/wmnlab/jackbedford/data/2023-10-26/UDP_Bandlock_9S_Phone_Airport/sm01/#02/data/udp_uplk_loss_latency.csv\n",
      "49/216 /home/wmnlab/jackbedford/data/2023-10-26/UDP_Bandlock_9S_Phone_Airport/sm07/#02/data/handover_info_log.csv\n",
      "49/216 /home/wmnlab/jackbedford/data/2023-10-26/UDP_Bandlock_9S_Phone_Airport/sm07/#02/data/udp_dnlk_loss_latency.csv\n",
      "49/216 /home/wmnlab/jackbedford/data/2023-10-26/UDP_Bandlock_9S_Phone_Airport/sm07/#02/data/udp_uplk_loss_latency.csv\n"
     ]
    },
    {
     "data": {
      "application/vnd.jupyter.widget-view+json": {
       "model_id": "4d8b7e928a3140c3bab5163705eb6e15",
       "version_major": 2,
       "version_minor": 0
      },
      "text/plain": [
       "  0%|                                                                                                         …"
      ]
     },
     "metadata": {},
     "output_type": "display_data"
    },
    {
     "name": "stdout",
     "output_type": "stream",
     "text": [
      "./20240312_150032342e_newest/20240314_060073cc2b/results/20240314_07515600001_1d4f11bee8b69504/\\home\\wmnlab\\jackbedford\\data\\2023-10-26\\UDP_Bandlock_9S_Phone_Airport\\sm01\\#02\\data\\udp_dnlk_loss_latency\\home\\wmnlab\\jackbedford\\data\\2023-10-26\\UDP_Bandlock_9S_Phone_Airport\\sm07\\#02\\data\\udp_dnlk_loss_latency.csv\n",
      "50/216 /home/wmnlab/jackbedford/data/2023-10-26/UDP_Bandlock_9S_Phone_Airport/sm01/#02/data/handover_info_log.csv\n",
      "50/216 /home/wmnlab/jackbedford/data/2023-10-26/UDP_Bandlock_9S_Phone_Airport/sm01/#02/data/udp_dnlk_loss_latency.csv\n",
      "50/216 /home/wmnlab/jackbedford/data/2023-10-26/UDP_Bandlock_9S_Phone_Airport/sm01/#02/data/udp_uplk_loss_latency.csv\n",
      "50/216 /home/wmnlab/jackbedford/data/2023-10-26/UDP_Bandlock_9S_Phone_Airport/sm08/#02/data/handover_info_log.csv\n",
      "50/216 /home/wmnlab/jackbedford/data/2023-10-26/UDP_Bandlock_9S_Phone_Airport/sm08/#02/data/udp_dnlk_loss_latency.csv\n",
      "50/216 /home/wmnlab/jackbedford/data/2023-10-26/UDP_Bandlock_9S_Phone_Airport/sm08/#02/data/udp_uplk_loss_latency.csv\n"
     ]
    },
    {
     "data": {
      "application/vnd.jupyter.widget-view+json": {
       "model_id": "49ee3e8ffc2f4381a542fbdba3665d36",
       "version_major": 2,
       "version_minor": 0
      },
      "text/plain": [
       "  0%|                                                                                                         …"
      ]
     },
     "metadata": {},
     "output_type": "display_data"
    },
    {
     "name": "stdout",
     "output_type": "stream",
     "text": [
      "./20240312_150032342e_newest/20240314_060073cc2b/results/20240314_07515600001_1d4f11bee8b69504/\\home\\wmnlab\\jackbedford\\data\\2023-10-26\\UDP_Bandlock_9S_Phone_Airport\\sm01\\#02\\data\\udp_dnlk_loss_latency\\home\\wmnlab\\jackbedford\\data\\2023-10-26\\UDP_Bandlock_9S_Phone_Airport\\sm08\\#02\\data\\udp_dnlk_loss_latency.csv\n",
      "51/216 /home/wmnlab/jackbedford/data/2023-10-26/UDP_Bandlock_9S_Phone_Airport/sm02/#02/data/handover_info_log.csv\n",
      "51/216 /home/wmnlab/jackbedford/data/2023-10-26/UDP_Bandlock_9S_Phone_Airport/sm02/#02/data/udp_dnlk_loss_latency.csv\n",
      "51/216 /home/wmnlab/jackbedford/data/2023-10-26/UDP_Bandlock_9S_Phone_Airport/sm02/#02/data/udp_uplk_loss_latency.csv\n",
      "51/216 /home/wmnlab/jackbedford/data/2023-10-26/UDP_Bandlock_9S_Phone_Airport/sm03/#02/data/handover_info_log.csv\n",
      "51/216 /home/wmnlab/jackbedford/data/2023-10-26/UDP_Bandlock_9S_Phone_Airport/sm03/#02/data/udp_dnlk_loss_latency.csv\n",
      "51/216 /home/wmnlab/jackbedford/data/2023-10-26/UDP_Bandlock_9S_Phone_Airport/sm03/#02/data/udp_uplk_loss_latency.csv\n"
     ]
    },
    {
     "data": {
      "application/vnd.jupyter.widget-view+json": {
       "model_id": "4ad72d43b96043d7ac5895a76edab0ee",
       "version_major": 2,
       "version_minor": 0
      },
      "text/plain": [
       "  0%|                                                                                                         …"
      ]
     },
     "metadata": {},
     "output_type": "display_data"
    },
    {
     "name": "stdout",
     "output_type": "stream",
     "text": [
      "./20240312_150032342e_newest/20240314_060073cc2b/results/20240314_07515600001_1d4f11bee8b69504/\\home\\wmnlab\\jackbedford\\data\\2023-10-26\\UDP_Bandlock_9S_Phone_Airport\\sm02\\#02\\data\\udp_dnlk_loss_latency\\home\\wmnlab\\jackbedford\\data\\2023-10-26\\UDP_Bandlock_9S_Phone_Airport\\sm03\\#02\\data\\udp_dnlk_loss_latency.csv\n",
      "52/216 /home/wmnlab/jackbedford/data/2023-10-26/UDP_Bandlock_9S_Phone_Airport/sm02/#02/data/handover_info_log.csv\n",
      "52/216 /home/wmnlab/jackbedford/data/2023-10-26/UDP_Bandlock_9S_Phone_Airport/sm02/#02/data/udp_dnlk_loss_latency.csv\n",
      "52/216 /home/wmnlab/jackbedford/data/2023-10-26/UDP_Bandlock_9S_Phone_Airport/sm02/#02/data/udp_uplk_loss_latency.csv\n",
      "52/216 /home/wmnlab/jackbedford/data/2023-10-26/UDP_Bandlock_9S_Phone_Airport/sm04/#02/data/handover_info_log.csv\n",
      "52/216 /home/wmnlab/jackbedford/data/2023-10-26/UDP_Bandlock_9S_Phone_Airport/sm04/#02/data/udp_dnlk_loss_latency.csv\n",
      "52/216 /home/wmnlab/jackbedford/data/2023-10-26/UDP_Bandlock_9S_Phone_Airport/sm04/#02/data/udp_uplk_loss_latency.csv\n"
     ]
    },
    {
     "data": {
      "application/vnd.jupyter.widget-view+json": {
       "model_id": "9277e59c0cca43e2a01375bd6c0a9c12",
       "version_major": 2,
       "version_minor": 0
      },
      "text/plain": [
       "  0%|                                                                                                         …"
      ]
     },
     "metadata": {},
     "output_type": "display_data"
    },
    {
     "name": "stdout",
     "output_type": "stream",
     "text": [
      "./20240312_150032342e_newest/20240314_060073cc2b/results/20240314_07515600001_1d4f11bee8b69504/\\home\\wmnlab\\jackbedford\\data\\2023-10-26\\UDP_Bandlock_9S_Phone_Airport\\sm02\\#02\\data\\udp_dnlk_loss_latency\\home\\wmnlab\\jackbedford\\data\\2023-10-26\\UDP_Bandlock_9S_Phone_Airport\\sm04\\#02\\data\\udp_dnlk_loss_latency.csv\n",
      "53/216 /home/wmnlab/jackbedford/data/2023-10-26/UDP_Bandlock_9S_Phone_Airport/sm02/#02/data/handover_info_log.csv\n",
      "53/216 /home/wmnlab/jackbedford/data/2023-10-26/UDP_Bandlock_9S_Phone_Airport/sm02/#02/data/udp_dnlk_loss_latency.csv\n",
      "53/216 /home/wmnlab/jackbedford/data/2023-10-26/UDP_Bandlock_9S_Phone_Airport/sm02/#02/data/udp_uplk_loss_latency.csv\n",
      "53/216 /home/wmnlab/jackbedford/data/2023-10-26/UDP_Bandlock_9S_Phone_Airport/sm05/#02/data/handover_info_log.csv\n",
      "53/216 /home/wmnlab/jackbedford/data/2023-10-26/UDP_Bandlock_9S_Phone_Airport/sm05/#02/data/udp_dnlk_loss_latency.csv\n",
      "53/216 /home/wmnlab/jackbedford/data/2023-10-26/UDP_Bandlock_9S_Phone_Airport/sm05/#02/data/udp_uplk_loss_latency.csv\n"
     ]
    },
    {
     "data": {
      "application/vnd.jupyter.widget-view+json": {
       "model_id": "98a977c4c3f340d390a5cc726de6b49b",
       "version_major": 2,
       "version_minor": 0
      },
      "text/plain": [
       "  0%|                                                                                                         …"
      ]
     },
     "metadata": {},
     "output_type": "display_data"
    },
    {
     "name": "stdout",
     "output_type": "stream",
     "text": [
      "./20240312_150032342e_newest/20240314_060073cc2b/results/20240314_07515600001_1d4f11bee8b69504/\\home\\wmnlab\\jackbedford\\data\\2023-10-26\\UDP_Bandlock_9S_Phone_Airport\\sm02\\#02\\data\\udp_dnlk_loss_latency\\home\\wmnlab\\jackbedford\\data\\2023-10-26\\UDP_Bandlock_9S_Phone_Airport\\sm05\\#02\\data\\udp_dnlk_loss_latency.csv\n",
      "54/216 /home/wmnlab/jackbedford/data/2023-10-26/UDP_Bandlock_9S_Phone_Airport/sm02/#02/data/handover_info_log.csv\n",
      "54/216 /home/wmnlab/jackbedford/data/2023-10-26/UDP_Bandlock_9S_Phone_Airport/sm02/#02/data/udp_dnlk_loss_latency.csv\n",
      "54/216 /home/wmnlab/jackbedford/data/2023-10-26/UDP_Bandlock_9S_Phone_Airport/sm02/#02/data/udp_uplk_loss_latency.csv\n",
      "54/216 /home/wmnlab/jackbedford/data/2023-10-26/UDP_Bandlock_9S_Phone_Airport/sm06/#02/data/handover_info_log.csv\n",
      "54/216 /home/wmnlab/jackbedford/data/2023-10-26/UDP_Bandlock_9S_Phone_Airport/sm06/#02/data/udp_dnlk_loss_latency.csv\n",
      "54/216 /home/wmnlab/jackbedford/data/2023-10-26/UDP_Bandlock_9S_Phone_Airport/sm06/#02/data/udp_uplk_loss_latency.csv\n"
     ]
    },
    {
     "data": {
      "application/vnd.jupyter.widget-view+json": {
       "model_id": "de7765681c0a4c508cb09028808aafea",
       "version_major": 2,
       "version_minor": 0
      },
      "text/plain": [
       "  0%|                                                                                                         …"
      ]
     },
     "metadata": {},
     "output_type": "display_data"
    },
    {
     "name": "stdout",
     "output_type": "stream",
     "text": [
      "./20240312_150032342e_newest/20240314_060073cc2b/results/20240314_07515600001_1d4f11bee8b69504/\\home\\wmnlab\\jackbedford\\data\\2023-10-26\\UDP_Bandlock_9S_Phone_Airport\\sm02\\#02\\data\\udp_dnlk_loss_latency\\home\\wmnlab\\jackbedford\\data\\2023-10-26\\UDP_Bandlock_9S_Phone_Airport\\sm06\\#02\\data\\udp_dnlk_loss_latency.csv\n",
      "55/216 /home/wmnlab/jackbedford/data/2023-10-26/UDP_Bandlock_9S_Phone_Airport/sm02/#02/data/handover_info_log.csv\n",
      "55/216 /home/wmnlab/jackbedford/data/2023-10-26/UDP_Bandlock_9S_Phone_Airport/sm02/#02/data/udp_dnlk_loss_latency.csv\n",
      "55/216 /home/wmnlab/jackbedford/data/2023-10-26/UDP_Bandlock_9S_Phone_Airport/sm02/#02/data/udp_uplk_loss_latency.csv\n",
      "55/216 /home/wmnlab/jackbedford/data/2023-10-26/UDP_Bandlock_9S_Phone_Airport/sm07/#02/data/handover_info_log.csv\n",
      "55/216 /home/wmnlab/jackbedford/data/2023-10-26/UDP_Bandlock_9S_Phone_Airport/sm07/#02/data/udp_dnlk_loss_latency.csv\n",
      "55/216 /home/wmnlab/jackbedford/data/2023-10-26/UDP_Bandlock_9S_Phone_Airport/sm07/#02/data/udp_uplk_loss_latency.csv\n"
     ]
    },
    {
     "data": {
      "application/vnd.jupyter.widget-view+json": {
       "model_id": "f91bb5c8c4e44ebea03d166ea0f17255",
       "version_major": 2,
       "version_minor": 0
      },
      "text/plain": [
       "  0%|                                                                                                         …"
      ]
     },
     "metadata": {},
     "output_type": "display_data"
    },
    {
     "name": "stdout",
     "output_type": "stream",
     "text": [
      "./20240312_150032342e_newest/20240314_060073cc2b/results/20240314_07515600001_1d4f11bee8b69504/\\home\\wmnlab\\jackbedford\\data\\2023-10-26\\UDP_Bandlock_9S_Phone_Airport\\sm02\\#02\\data\\udp_dnlk_loss_latency\\home\\wmnlab\\jackbedford\\data\\2023-10-26\\UDP_Bandlock_9S_Phone_Airport\\sm07\\#02\\data\\udp_dnlk_loss_latency.csv\n",
      "56/216 /home/wmnlab/jackbedford/data/2023-10-26/UDP_Bandlock_9S_Phone_Airport/sm02/#02/data/handover_info_log.csv\n",
      "56/216 /home/wmnlab/jackbedford/data/2023-10-26/UDP_Bandlock_9S_Phone_Airport/sm02/#02/data/udp_dnlk_loss_latency.csv\n",
      "56/216 /home/wmnlab/jackbedford/data/2023-10-26/UDP_Bandlock_9S_Phone_Airport/sm02/#02/data/udp_uplk_loss_latency.csv\n",
      "56/216 /home/wmnlab/jackbedford/data/2023-10-26/UDP_Bandlock_9S_Phone_Airport/sm08/#02/data/handover_info_log.csv\n",
      "56/216 /home/wmnlab/jackbedford/data/2023-10-26/UDP_Bandlock_9S_Phone_Airport/sm08/#02/data/udp_dnlk_loss_latency.csv\n",
      "56/216 /home/wmnlab/jackbedford/data/2023-10-26/UDP_Bandlock_9S_Phone_Airport/sm08/#02/data/udp_uplk_loss_latency.csv\n"
     ]
    },
    {
     "data": {
      "application/vnd.jupyter.widget-view+json": {
       "model_id": "77613c2b0c444b3687a288725717845e",
       "version_major": 2,
       "version_minor": 0
      },
      "text/plain": [
       "  0%|                                                                                                         …"
      ]
     },
     "metadata": {},
     "output_type": "display_data"
    },
    {
     "name": "stdout",
     "output_type": "stream",
     "text": [
      "./20240312_150032342e_newest/20240314_060073cc2b/results/20240314_07515600001_1d4f11bee8b69504/\\home\\wmnlab\\jackbedford\\data\\2023-10-26\\UDP_Bandlock_9S_Phone_Airport\\sm02\\#02\\data\\udp_dnlk_loss_latency\\home\\wmnlab\\jackbedford\\data\\2023-10-26\\UDP_Bandlock_9S_Phone_Airport\\sm08\\#02\\data\\udp_dnlk_loss_latency.csv\n",
      "57/216 /home/wmnlab/jackbedford/data/2023-10-26/UDP_Bandlock_9S_Phone_Airport/sm03/#02/data/handover_info_log.csv\n",
      "57/216 /home/wmnlab/jackbedford/data/2023-10-26/UDP_Bandlock_9S_Phone_Airport/sm03/#02/data/udp_dnlk_loss_latency.csv\n",
      "57/216 /home/wmnlab/jackbedford/data/2023-10-26/UDP_Bandlock_9S_Phone_Airport/sm03/#02/data/udp_uplk_loss_latency.csv\n",
      "57/216 /home/wmnlab/jackbedford/data/2023-10-26/UDP_Bandlock_9S_Phone_Airport/sm04/#02/data/handover_info_log.csv\n",
      "57/216 /home/wmnlab/jackbedford/data/2023-10-26/UDP_Bandlock_9S_Phone_Airport/sm04/#02/data/udp_dnlk_loss_latency.csv\n",
      "57/216 /home/wmnlab/jackbedford/data/2023-10-26/UDP_Bandlock_9S_Phone_Airport/sm04/#02/data/udp_uplk_loss_latency.csv\n"
     ]
    },
    {
     "data": {
      "application/vnd.jupyter.widget-view+json": {
       "model_id": "b75acc994f244f919f56364efa800b32",
       "version_major": 2,
       "version_minor": 0
      },
      "text/plain": [
       "  0%|                                                                                                         …"
      ]
     },
     "metadata": {},
     "output_type": "display_data"
    },
    {
     "name": "stdout",
     "output_type": "stream",
     "text": [
      "./20240312_150032342e_newest/20240314_060073cc2b/results/20240314_07515600001_1d4f11bee8b69504/\\home\\wmnlab\\jackbedford\\data\\2023-10-26\\UDP_Bandlock_9S_Phone_Airport\\sm03\\#02\\data\\udp_dnlk_loss_latency\\home\\wmnlab\\jackbedford\\data\\2023-10-26\\UDP_Bandlock_9S_Phone_Airport\\sm04\\#02\\data\\udp_dnlk_loss_latency.csv\n",
      "58/216 /home/wmnlab/jackbedford/data/2023-10-26/UDP_Bandlock_9S_Phone_Airport/sm03/#02/data/handover_info_log.csv\n",
      "58/216 /home/wmnlab/jackbedford/data/2023-10-26/UDP_Bandlock_9S_Phone_Airport/sm03/#02/data/udp_dnlk_loss_latency.csv\n",
      "58/216 /home/wmnlab/jackbedford/data/2023-10-26/UDP_Bandlock_9S_Phone_Airport/sm03/#02/data/udp_uplk_loss_latency.csv\n",
      "58/216 /home/wmnlab/jackbedford/data/2023-10-26/UDP_Bandlock_9S_Phone_Airport/sm05/#02/data/handover_info_log.csv\n",
      "58/216 /home/wmnlab/jackbedford/data/2023-10-26/UDP_Bandlock_9S_Phone_Airport/sm05/#02/data/udp_dnlk_loss_latency.csv\n",
      "58/216 /home/wmnlab/jackbedford/data/2023-10-26/UDP_Bandlock_9S_Phone_Airport/sm05/#02/data/udp_uplk_loss_latency.csv\n"
     ]
    },
    {
     "data": {
      "application/vnd.jupyter.widget-view+json": {
       "model_id": "008fd6417b574b44aa2fc6c112a51884",
       "version_major": 2,
       "version_minor": 0
      },
      "text/plain": [
       "  0%|                                                                                                         …"
      ]
     },
     "metadata": {},
     "output_type": "display_data"
    },
    {
     "name": "stdout",
     "output_type": "stream",
     "text": [
      "./20240312_150032342e_newest/20240314_060073cc2b/results/20240314_07515600001_1d4f11bee8b69504/\\home\\wmnlab\\jackbedford\\data\\2023-10-26\\UDP_Bandlock_9S_Phone_Airport\\sm03\\#02\\data\\udp_dnlk_loss_latency\\home\\wmnlab\\jackbedford\\data\\2023-10-26\\UDP_Bandlock_9S_Phone_Airport\\sm05\\#02\\data\\udp_dnlk_loss_latency.csv\n",
      "59/216 /home/wmnlab/jackbedford/data/2023-10-26/UDP_Bandlock_9S_Phone_Airport/sm03/#02/data/handover_info_log.csv\n",
      "59/216 /home/wmnlab/jackbedford/data/2023-10-26/UDP_Bandlock_9S_Phone_Airport/sm03/#02/data/udp_dnlk_loss_latency.csv\n",
      "59/216 /home/wmnlab/jackbedford/data/2023-10-26/UDP_Bandlock_9S_Phone_Airport/sm03/#02/data/udp_uplk_loss_latency.csv\n",
      "59/216 /home/wmnlab/jackbedford/data/2023-10-26/UDP_Bandlock_9S_Phone_Airport/sm06/#02/data/handover_info_log.csv\n",
      "59/216 /home/wmnlab/jackbedford/data/2023-10-26/UDP_Bandlock_9S_Phone_Airport/sm06/#02/data/udp_dnlk_loss_latency.csv\n",
      "59/216 /home/wmnlab/jackbedford/data/2023-10-26/UDP_Bandlock_9S_Phone_Airport/sm06/#02/data/udp_uplk_loss_latency.csv\n"
     ]
    },
    {
     "data": {
      "application/vnd.jupyter.widget-view+json": {
       "model_id": "450eb5245a884113a9802338d796e053",
       "version_major": 2,
       "version_minor": 0
      },
      "text/plain": [
       "  0%|                                                                                                         …"
      ]
     },
     "metadata": {},
     "output_type": "display_data"
    },
    {
     "name": "stdout",
     "output_type": "stream",
     "text": [
      "./20240312_150032342e_newest/20240314_060073cc2b/results/20240314_07515600001_1d4f11bee8b69504/\\home\\wmnlab\\jackbedford\\data\\2023-10-26\\UDP_Bandlock_9S_Phone_Airport\\sm03\\#02\\data\\udp_dnlk_loss_latency\\home\\wmnlab\\jackbedford\\data\\2023-10-26\\UDP_Bandlock_9S_Phone_Airport\\sm06\\#02\\data\\udp_dnlk_loss_latency.csv\n",
      "60/216 /home/wmnlab/jackbedford/data/2023-10-26/UDP_Bandlock_9S_Phone_Airport/sm03/#02/data/handover_info_log.csv\n",
      "60/216 /home/wmnlab/jackbedford/data/2023-10-26/UDP_Bandlock_9S_Phone_Airport/sm03/#02/data/udp_dnlk_loss_latency.csv\n",
      "60/216 /home/wmnlab/jackbedford/data/2023-10-26/UDP_Bandlock_9S_Phone_Airport/sm03/#02/data/udp_uplk_loss_latency.csv\n",
      "60/216 /home/wmnlab/jackbedford/data/2023-10-26/UDP_Bandlock_9S_Phone_Airport/sm07/#02/data/handover_info_log.csv\n",
      "60/216 /home/wmnlab/jackbedford/data/2023-10-26/UDP_Bandlock_9S_Phone_Airport/sm07/#02/data/udp_dnlk_loss_latency.csv\n",
      "60/216 /home/wmnlab/jackbedford/data/2023-10-26/UDP_Bandlock_9S_Phone_Airport/sm07/#02/data/udp_uplk_loss_latency.csv\n"
     ]
    },
    {
     "data": {
      "application/vnd.jupyter.widget-view+json": {
       "model_id": "5f4efbc6f56c4e8e9eab0b6dd9c73af3",
       "version_major": 2,
       "version_minor": 0
      },
      "text/plain": [
       "  0%|                                                                                                         …"
      ]
     },
     "metadata": {},
     "output_type": "display_data"
    },
    {
     "name": "stdout",
     "output_type": "stream",
     "text": [
      "./20240312_150032342e_newest/20240314_060073cc2b/results/20240314_07515600001_1d4f11bee8b69504/\\home\\wmnlab\\jackbedford\\data\\2023-10-26\\UDP_Bandlock_9S_Phone_Airport\\sm03\\#02\\data\\udp_dnlk_loss_latency\\home\\wmnlab\\jackbedford\\data\\2023-10-26\\UDP_Bandlock_9S_Phone_Airport\\sm07\\#02\\data\\udp_dnlk_loss_latency.csv\n",
      "61/216 /home/wmnlab/jackbedford/data/2023-10-26/UDP_Bandlock_9S_Phone_Airport/sm03/#02/data/handover_info_log.csv\n",
      "61/216 /home/wmnlab/jackbedford/data/2023-10-26/UDP_Bandlock_9S_Phone_Airport/sm03/#02/data/udp_dnlk_loss_latency.csv\n",
      "61/216 /home/wmnlab/jackbedford/data/2023-10-26/UDP_Bandlock_9S_Phone_Airport/sm03/#02/data/udp_uplk_loss_latency.csv\n",
      "61/216 /home/wmnlab/jackbedford/data/2023-10-26/UDP_Bandlock_9S_Phone_Airport/sm08/#02/data/handover_info_log.csv\n",
      "61/216 /home/wmnlab/jackbedford/data/2023-10-26/UDP_Bandlock_9S_Phone_Airport/sm08/#02/data/udp_dnlk_loss_latency.csv\n",
      "61/216 /home/wmnlab/jackbedford/data/2023-10-26/UDP_Bandlock_9S_Phone_Airport/sm08/#02/data/udp_uplk_loss_latency.csv\n"
     ]
    },
    {
     "data": {
      "application/vnd.jupyter.widget-view+json": {
       "model_id": "21217cd5ffbf46288c75f515283e86e9",
       "version_major": 2,
       "version_minor": 0
      },
      "text/plain": [
       "  0%|                                                                                                         …"
      ]
     },
     "metadata": {},
     "output_type": "display_data"
    },
    {
     "name": "stdout",
     "output_type": "stream",
     "text": [
      "./20240312_150032342e_newest/20240314_060073cc2b/results/20240314_07515600001_1d4f11bee8b69504/\\home\\wmnlab\\jackbedford\\data\\2023-10-26\\UDP_Bandlock_9S_Phone_Airport\\sm03\\#02\\data\\udp_dnlk_loss_latency\\home\\wmnlab\\jackbedford\\data\\2023-10-26\\UDP_Bandlock_9S_Phone_Airport\\sm08\\#02\\data\\udp_dnlk_loss_latency.csv\n",
      "62/216 /home/wmnlab/jackbedford/data/2023-10-26/UDP_Bandlock_9S_Phone_Airport/sm04/#02/data/handover_info_log.csv\n",
      "62/216 /home/wmnlab/jackbedford/data/2023-10-26/UDP_Bandlock_9S_Phone_Airport/sm04/#02/data/udp_dnlk_loss_latency.csv\n",
      "62/216 /home/wmnlab/jackbedford/data/2023-10-26/UDP_Bandlock_9S_Phone_Airport/sm04/#02/data/udp_uplk_loss_latency.csv\n",
      "62/216 /home/wmnlab/jackbedford/data/2023-10-26/UDP_Bandlock_9S_Phone_Airport/sm05/#02/data/handover_info_log.csv\n",
      "62/216 /home/wmnlab/jackbedford/data/2023-10-26/UDP_Bandlock_9S_Phone_Airport/sm05/#02/data/udp_dnlk_loss_latency.csv\n",
      "62/216 /home/wmnlab/jackbedford/data/2023-10-26/UDP_Bandlock_9S_Phone_Airport/sm05/#02/data/udp_uplk_loss_latency.csv\n"
     ]
    },
    {
     "data": {
      "application/vnd.jupyter.widget-view+json": {
       "model_id": "1cee929abe594daf95e4ca27fd9bf956",
       "version_major": 2,
       "version_minor": 0
      },
      "text/plain": [
       "  0%|                                                                                                         …"
      ]
     },
     "metadata": {},
     "output_type": "display_data"
    },
    {
     "name": "stdout",
     "output_type": "stream",
     "text": [
      "./20240312_150032342e_newest/20240314_060073cc2b/results/20240314_07515600001_1d4f11bee8b69504/\\home\\wmnlab\\jackbedford\\data\\2023-10-26\\UDP_Bandlock_9S_Phone_Airport\\sm04\\#02\\data\\udp_dnlk_loss_latency\\home\\wmnlab\\jackbedford\\data\\2023-10-26\\UDP_Bandlock_9S_Phone_Airport\\sm05\\#02\\data\\udp_dnlk_loss_latency.csv\n",
      "63/216 /home/wmnlab/jackbedford/data/2023-10-26/UDP_Bandlock_9S_Phone_Airport/sm04/#02/data/handover_info_log.csv\n",
      "63/216 /home/wmnlab/jackbedford/data/2023-10-26/UDP_Bandlock_9S_Phone_Airport/sm04/#02/data/udp_dnlk_loss_latency.csv\n",
      "63/216 /home/wmnlab/jackbedford/data/2023-10-26/UDP_Bandlock_9S_Phone_Airport/sm04/#02/data/udp_uplk_loss_latency.csv\n",
      "63/216 /home/wmnlab/jackbedford/data/2023-10-26/UDP_Bandlock_9S_Phone_Airport/sm06/#02/data/handover_info_log.csv\n",
      "63/216 /home/wmnlab/jackbedford/data/2023-10-26/UDP_Bandlock_9S_Phone_Airport/sm06/#02/data/udp_dnlk_loss_latency.csv\n",
      "63/216 /home/wmnlab/jackbedford/data/2023-10-26/UDP_Bandlock_9S_Phone_Airport/sm06/#02/data/udp_uplk_loss_latency.csv\n"
     ]
    },
    {
     "data": {
      "application/vnd.jupyter.widget-view+json": {
       "model_id": "540335968c414c31ba3010bcb4de4112",
       "version_major": 2,
       "version_minor": 0
      },
      "text/plain": [
       "  0%|                                                                                                         …"
      ]
     },
     "metadata": {},
     "output_type": "display_data"
    },
    {
     "name": "stdout",
     "output_type": "stream",
     "text": [
      "./20240312_150032342e_newest/20240314_060073cc2b/results/20240314_07515600001_1d4f11bee8b69504/\\home\\wmnlab\\jackbedford\\data\\2023-10-26\\UDP_Bandlock_9S_Phone_Airport\\sm04\\#02\\data\\udp_dnlk_loss_latency\\home\\wmnlab\\jackbedford\\data\\2023-10-26\\UDP_Bandlock_9S_Phone_Airport\\sm06\\#02\\data\\udp_dnlk_loss_latency.csv\n",
      "64/216 /home/wmnlab/jackbedford/data/2023-10-26/UDP_Bandlock_9S_Phone_Airport/sm04/#02/data/handover_info_log.csv\n",
      "64/216 /home/wmnlab/jackbedford/data/2023-10-26/UDP_Bandlock_9S_Phone_Airport/sm04/#02/data/udp_dnlk_loss_latency.csv\n",
      "64/216 /home/wmnlab/jackbedford/data/2023-10-26/UDP_Bandlock_9S_Phone_Airport/sm04/#02/data/udp_uplk_loss_latency.csv\n",
      "64/216 /home/wmnlab/jackbedford/data/2023-10-26/UDP_Bandlock_9S_Phone_Airport/sm07/#02/data/handover_info_log.csv\n",
      "64/216 /home/wmnlab/jackbedford/data/2023-10-26/UDP_Bandlock_9S_Phone_Airport/sm07/#02/data/udp_dnlk_loss_latency.csv\n",
      "64/216 /home/wmnlab/jackbedford/data/2023-10-26/UDP_Bandlock_9S_Phone_Airport/sm07/#02/data/udp_uplk_loss_latency.csv\n"
     ]
    },
    {
     "data": {
      "application/vnd.jupyter.widget-view+json": {
       "model_id": "ecfbe44d46ba49f48b49992637a17771",
       "version_major": 2,
       "version_minor": 0
      },
      "text/plain": [
       "  0%|                                                                                                         …"
      ]
     },
     "metadata": {},
     "output_type": "display_data"
    },
    {
     "name": "stdout",
     "output_type": "stream",
     "text": [
      "./20240312_150032342e_newest/20240314_060073cc2b/results/20240314_07515600001_1d4f11bee8b69504/\\home\\wmnlab\\jackbedford\\data\\2023-10-26\\UDP_Bandlock_9S_Phone_Airport\\sm04\\#02\\data\\udp_dnlk_loss_latency\\home\\wmnlab\\jackbedford\\data\\2023-10-26\\UDP_Bandlock_9S_Phone_Airport\\sm07\\#02\\data\\udp_dnlk_loss_latency.csv\n",
      "65/216 /home/wmnlab/jackbedford/data/2023-10-26/UDP_Bandlock_9S_Phone_Airport/sm04/#02/data/handover_info_log.csv\n",
      "65/216 /home/wmnlab/jackbedford/data/2023-10-26/UDP_Bandlock_9S_Phone_Airport/sm04/#02/data/udp_dnlk_loss_latency.csv\n",
      "65/216 /home/wmnlab/jackbedford/data/2023-10-26/UDP_Bandlock_9S_Phone_Airport/sm04/#02/data/udp_uplk_loss_latency.csv\n",
      "65/216 /home/wmnlab/jackbedford/data/2023-10-26/UDP_Bandlock_9S_Phone_Airport/sm08/#02/data/handover_info_log.csv\n",
      "65/216 /home/wmnlab/jackbedford/data/2023-10-26/UDP_Bandlock_9S_Phone_Airport/sm08/#02/data/udp_dnlk_loss_latency.csv\n",
      "65/216 /home/wmnlab/jackbedford/data/2023-10-26/UDP_Bandlock_9S_Phone_Airport/sm08/#02/data/udp_uplk_loss_latency.csv\n"
     ]
    },
    {
     "data": {
      "application/vnd.jupyter.widget-view+json": {
       "model_id": "2cbe26e3fd51443cab5855c5fccba746",
       "version_major": 2,
       "version_minor": 0
      },
      "text/plain": [
       "  0%|                                                                                                         …"
      ]
     },
     "metadata": {},
     "output_type": "display_data"
    },
    {
     "name": "stdout",
     "output_type": "stream",
     "text": [
      "./20240312_150032342e_newest/20240314_060073cc2b/results/20240314_07515600001_1d4f11bee8b69504/\\home\\wmnlab\\jackbedford\\data\\2023-10-26\\UDP_Bandlock_9S_Phone_Airport\\sm04\\#02\\data\\udp_dnlk_loss_latency\\home\\wmnlab\\jackbedford\\data\\2023-10-26\\UDP_Bandlock_9S_Phone_Airport\\sm08\\#02\\data\\udp_dnlk_loss_latency.csv\n",
      "66/216 /home/wmnlab/jackbedford/data/2023-10-26/UDP_Bandlock_9S_Phone_Airport/sm05/#02/data/handover_info_log.csv\n",
      "66/216 /home/wmnlab/jackbedford/data/2023-10-26/UDP_Bandlock_9S_Phone_Airport/sm05/#02/data/udp_dnlk_loss_latency.csv\n",
      "66/216 /home/wmnlab/jackbedford/data/2023-10-26/UDP_Bandlock_9S_Phone_Airport/sm05/#02/data/udp_uplk_loss_latency.csv\n",
      "66/216 /home/wmnlab/jackbedford/data/2023-10-26/UDP_Bandlock_9S_Phone_Airport/sm06/#02/data/handover_info_log.csv\n",
      "66/216 /home/wmnlab/jackbedford/data/2023-10-26/UDP_Bandlock_9S_Phone_Airport/sm06/#02/data/udp_dnlk_loss_latency.csv\n",
      "66/216 /home/wmnlab/jackbedford/data/2023-10-26/UDP_Bandlock_9S_Phone_Airport/sm06/#02/data/udp_uplk_loss_latency.csv\n"
     ]
    },
    {
     "data": {
      "application/vnd.jupyter.widget-view+json": {
       "model_id": "1df5fc7324ea49b48480487cb4545a1d",
       "version_major": 2,
       "version_minor": 0
      },
      "text/plain": [
       "  0%|                                                                                                         …"
      ]
     },
     "metadata": {},
     "output_type": "display_data"
    },
    {
     "name": "stdout",
     "output_type": "stream",
     "text": [
      "./20240312_150032342e_newest/20240314_060073cc2b/results/20240314_07515600001_1d4f11bee8b69504/\\home\\wmnlab\\jackbedford\\data\\2023-10-26\\UDP_Bandlock_9S_Phone_Airport\\sm05\\#02\\data\\udp_dnlk_loss_latency\\home\\wmnlab\\jackbedford\\data\\2023-10-26\\UDP_Bandlock_9S_Phone_Airport\\sm06\\#02\\data\\udp_dnlk_loss_latency.csv\n",
      "67/216 /home/wmnlab/jackbedford/data/2023-10-26/UDP_Bandlock_9S_Phone_Airport/sm05/#02/data/handover_info_log.csv\n",
      "67/216 /home/wmnlab/jackbedford/data/2023-10-26/UDP_Bandlock_9S_Phone_Airport/sm05/#02/data/udp_dnlk_loss_latency.csv\n",
      "67/216 /home/wmnlab/jackbedford/data/2023-10-26/UDP_Bandlock_9S_Phone_Airport/sm05/#02/data/udp_uplk_loss_latency.csv\n",
      "67/216 /home/wmnlab/jackbedford/data/2023-10-26/UDP_Bandlock_9S_Phone_Airport/sm07/#02/data/handover_info_log.csv\n",
      "67/216 /home/wmnlab/jackbedford/data/2023-10-26/UDP_Bandlock_9S_Phone_Airport/sm07/#02/data/udp_dnlk_loss_latency.csv\n",
      "67/216 /home/wmnlab/jackbedford/data/2023-10-26/UDP_Bandlock_9S_Phone_Airport/sm07/#02/data/udp_uplk_loss_latency.csv\n"
     ]
    },
    {
     "data": {
      "application/vnd.jupyter.widget-view+json": {
       "model_id": "c619f4600cba420aaf0e9f10e23147b8",
       "version_major": 2,
       "version_minor": 0
      },
      "text/plain": [
       "  0%|                                                                                                         …"
      ]
     },
     "metadata": {},
     "output_type": "display_data"
    },
    {
     "name": "stdout",
     "output_type": "stream",
     "text": [
      "./20240312_150032342e_newest/20240314_060073cc2b/results/20240314_07515600001_1d4f11bee8b69504/\\home\\wmnlab\\jackbedford\\data\\2023-10-26\\UDP_Bandlock_9S_Phone_Airport\\sm05\\#02\\data\\udp_dnlk_loss_latency\\home\\wmnlab\\jackbedford\\data\\2023-10-26\\UDP_Bandlock_9S_Phone_Airport\\sm07\\#02\\data\\udp_dnlk_loss_latency.csv\n",
      "68/216 /home/wmnlab/jackbedford/data/2023-10-26/UDP_Bandlock_9S_Phone_Airport/sm05/#02/data/handover_info_log.csv\n",
      "68/216 /home/wmnlab/jackbedford/data/2023-10-26/UDP_Bandlock_9S_Phone_Airport/sm05/#02/data/udp_dnlk_loss_latency.csv\n",
      "68/216 /home/wmnlab/jackbedford/data/2023-10-26/UDP_Bandlock_9S_Phone_Airport/sm05/#02/data/udp_uplk_loss_latency.csv\n",
      "68/216 /home/wmnlab/jackbedford/data/2023-10-26/UDP_Bandlock_9S_Phone_Airport/sm08/#02/data/handover_info_log.csv\n",
      "68/216 /home/wmnlab/jackbedford/data/2023-10-26/UDP_Bandlock_9S_Phone_Airport/sm08/#02/data/udp_dnlk_loss_latency.csv\n",
      "68/216 /home/wmnlab/jackbedford/data/2023-10-26/UDP_Bandlock_9S_Phone_Airport/sm08/#02/data/udp_uplk_loss_latency.csv\n"
     ]
    },
    {
     "data": {
      "application/vnd.jupyter.widget-view+json": {
       "model_id": "94aefd67234342009bb54fb2912a57c8",
       "version_major": 2,
       "version_minor": 0
      },
      "text/plain": [
       "  0%|                                                                                                         …"
      ]
     },
     "metadata": {},
     "output_type": "display_data"
    },
    {
     "name": "stdout",
     "output_type": "stream",
     "text": [
      "./20240312_150032342e_newest/20240314_060073cc2b/results/20240314_07515600001_1d4f11bee8b69504/\\home\\wmnlab\\jackbedford\\data\\2023-10-26\\UDP_Bandlock_9S_Phone_Airport\\sm05\\#02\\data\\udp_dnlk_loss_latency\\home\\wmnlab\\jackbedford\\data\\2023-10-26\\UDP_Bandlock_9S_Phone_Airport\\sm08\\#02\\data\\udp_dnlk_loss_latency.csv\n",
      "69/216 /home/wmnlab/jackbedford/data/2023-10-26/UDP_Bandlock_9S_Phone_Airport/sm06/#02/data/handover_info_log.csv\n",
      "69/216 /home/wmnlab/jackbedford/data/2023-10-26/UDP_Bandlock_9S_Phone_Airport/sm06/#02/data/udp_dnlk_loss_latency.csv\n",
      "69/216 /home/wmnlab/jackbedford/data/2023-10-26/UDP_Bandlock_9S_Phone_Airport/sm06/#02/data/udp_uplk_loss_latency.csv\n",
      "69/216 /home/wmnlab/jackbedford/data/2023-10-26/UDP_Bandlock_9S_Phone_Airport/sm07/#02/data/handover_info_log.csv\n",
      "69/216 /home/wmnlab/jackbedford/data/2023-10-26/UDP_Bandlock_9S_Phone_Airport/sm07/#02/data/udp_dnlk_loss_latency.csv\n",
      "69/216 /home/wmnlab/jackbedford/data/2023-10-26/UDP_Bandlock_9S_Phone_Airport/sm07/#02/data/udp_uplk_loss_latency.csv\n"
     ]
    },
    {
     "data": {
      "application/vnd.jupyter.widget-view+json": {
       "model_id": "481080ef177448ed9ce2a106e5157c4c",
       "version_major": 2,
       "version_minor": 0
      },
      "text/plain": [
       "  0%|                                                                                                         …"
      ]
     },
     "metadata": {},
     "output_type": "display_data"
    },
    {
     "name": "stdout",
     "output_type": "stream",
     "text": [
      "./20240312_150032342e_newest/20240314_060073cc2b/results/20240314_07515600001_1d4f11bee8b69504/\\home\\wmnlab\\jackbedford\\data\\2023-10-26\\UDP_Bandlock_9S_Phone_Airport\\sm06\\#02\\data\\udp_dnlk_loss_latency\\home\\wmnlab\\jackbedford\\data\\2023-10-26\\UDP_Bandlock_9S_Phone_Airport\\sm07\\#02\\data\\udp_dnlk_loss_latency.csv\n",
      "70/216 /home/wmnlab/jackbedford/data/2023-10-26/UDP_Bandlock_9S_Phone_Airport/sm06/#02/data/handover_info_log.csv\n",
      "70/216 /home/wmnlab/jackbedford/data/2023-10-26/UDP_Bandlock_9S_Phone_Airport/sm06/#02/data/udp_dnlk_loss_latency.csv\n",
      "70/216 /home/wmnlab/jackbedford/data/2023-10-26/UDP_Bandlock_9S_Phone_Airport/sm06/#02/data/udp_uplk_loss_latency.csv\n",
      "70/216 /home/wmnlab/jackbedford/data/2023-10-26/UDP_Bandlock_9S_Phone_Airport/sm08/#02/data/handover_info_log.csv\n",
      "70/216 /home/wmnlab/jackbedford/data/2023-10-26/UDP_Bandlock_9S_Phone_Airport/sm08/#02/data/udp_dnlk_loss_latency.csv\n",
      "70/216 /home/wmnlab/jackbedford/data/2023-10-26/UDP_Bandlock_9S_Phone_Airport/sm08/#02/data/udp_uplk_loss_latency.csv\n"
     ]
    },
    {
     "data": {
      "application/vnd.jupyter.widget-view+json": {
       "model_id": "9988955d728f41ee817a5f21cd7d81e5",
       "version_major": 2,
       "version_minor": 0
      },
      "text/plain": [
       "  0%|                                                                                                         …"
      ]
     },
     "metadata": {},
     "output_type": "display_data"
    },
    {
     "name": "stdout",
     "output_type": "stream",
     "text": [
      "./20240312_150032342e_newest/20240314_060073cc2b/results/20240314_07515600001_1d4f11bee8b69504/\\home\\wmnlab\\jackbedford\\data\\2023-10-26\\UDP_Bandlock_9S_Phone_Airport\\sm06\\#02\\data\\udp_dnlk_loss_latency\\home\\wmnlab\\jackbedford\\data\\2023-10-26\\UDP_Bandlock_9S_Phone_Airport\\sm08\\#02\\data\\udp_dnlk_loss_latency.csv\n",
      "71/216 /home/wmnlab/jackbedford/data/2023-10-26/UDP_Bandlock_9S_Phone_Airport/sm07/#02/data/handover_info_log.csv\n",
      "71/216 /home/wmnlab/jackbedford/data/2023-10-26/UDP_Bandlock_9S_Phone_Airport/sm07/#02/data/udp_dnlk_loss_latency.csv\n",
      "71/216 /home/wmnlab/jackbedford/data/2023-10-26/UDP_Bandlock_9S_Phone_Airport/sm07/#02/data/udp_uplk_loss_latency.csv\n",
      "71/216 /home/wmnlab/jackbedford/data/2023-10-26/UDP_Bandlock_9S_Phone_Airport/sm08/#02/data/handover_info_log.csv\n",
      "71/216 /home/wmnlab/jackbedford/data/2023-10-26/UDP_Bandlock_9S_Phone_Airport/sm08/#02/data/udp_dnlk_loss_latency.csv\n",
      "71/216 /home/wmnlab/jackbedford/data/2023-10-26/UDP_Bandlock_9S_Phone_Airport/sm08/#02/data/udp_uplk_loss_latency.csv\n"
     ]
    },
    {
     "data": {
      "application/vnd.jupyter.widget-view+json": {
       "model_id": "e6fc887160754574ae06a1afc694e6b4",
       "version_major": 2,
       "version_minor": 0
      },
      "text/plain": [
       "  0%|                                                                                                         …"
      ]
     },
     "metadata": {},
     "output_type": "display_data"
    },
    {
     "name": "stdout",
     "output_type": "stream",
     "text": [
      "./20240312_150032342e_newest/20240314_060073cc2b/results/20240314_07515600001_1d4f11bee8b69504/\\home\\wmnlab\\jackbedford\\data\\2023-10-26\\UDP_Bandlock_9S_Phone_Airport\\sm07\\#02\\data\\udp_dnlk_loss_latency\\home\\wmnlab\\jackbedford\\data\\2023-10-26\\UDP_Bandlock_9S_Phone_Airport\\sm08\\#02\\data\\udp_dnlk_loss_latency.csv\n",
      "72/216 /home/wmnlab/jackbedford/data/2023-11-01/UDP_Bandlock_9S_Phone_Airport/sm00/#01/data/handover_info_log.csv\n",
      "72/216 /home/wmnlab/jackbedford/data/2023-11-01/UDP_Bandlock_9S_Phone_Airport/sm00/#01/data/udp_dnlk_loss_latency.csv\n",
      "72/216 /home/wmnlab/jackbedford/data/2023-11-01/UDP_Bandlock_9S_Phone_Airport/sm00/#01/data/udp_uplk_loss_latency.csv\n",
      "72/216 /home/wmnlab/jackbedford/data/2023-11-01/UDP_Bandlock_9S_Phone_Airport/sm01/#01/data/handover_info_log.csv\n",
      "72/216 /home/wmnlab/jackbedford/data/2023-11-01/UDP_Bandlock_9S_Phone_Airport/sm01/#01/data/udp_dnlk_loss_latency.csv\n",
      "72/216 /home/wmnlab/jackbedford/data/2023-11-01/UDP_Bandlock_9S_Phone_Airport/sm01/#01/data/udp_uplk_loss_latency.csv\n"
     ]
    },
    {
     "data": {
      "application/vnd.jupyter.widget-view+json": {
       "model_id": "55c36da19d28433c8e00002af259a57b",
       "version_major": 2,
       "version_minor": 0
      },
      "text/plain": [
       "  0%|                                                                                                         …"
      ]
     },
     "metadata": {},
     "output_type": "display_data"
    },
    {
     "name": "stdout",
     "output_type": "stream",
     "text": [
      "./20240312_150032342e_newest/20240314_060073cc2b/results/20240314_07515600001_1d4f11bee8b69504/\\home\\wmnlab\\jackbedford\\data\\2023-11-01\\UDP_Bandlock_9S_Phone_Airport\\sm00\\#01\\data\\udp_dnlk_loss_latency\\home\\wmnlab\\jackbedford\\data\\2023-11-01\\UDP_Bandlock_9S_Phone_Airport\\sm01\\#01\\data\\udp_dnlk_loss_latency.csv\n",
      "73/216 /home/wmnlab/jackbedford/data/2023-11-01/UDP_Bandlock_9S_Phone_Airport/sm00/#01/data/handover_info_log.csv\n",
      "73/216 /home/wmnlab/jackbedford/data/2023-11-01/UDP_Bandlock_9S_Phone_Airport/sm00/#01/data/udp_dnlk_loss_latency.csv\n",
      "73/216 /home/wmnlab/jackbedford/data/2023-11-01/UDP_Bandlock_9S_Phone_Airport/sm00/#01/data/udp_uplk_loss_latency.csv\n",
      "73/216 /home/wmnlab/jackbedford/data/2023-11-01/UDP_Bandlock_9S_Phone_Airport/sm02/#01/data/handover_info_log.csv\n",
      "73/216 /home/wmnlab/jackbedford/data/2023-11-01/UDP_Bandlock_9S_Phone_Airport/sm02/#01/data/udp_dnlk_loss_latency.csv\n",
      "73/216 /home/wmnlab/jackbedford/data/2023-11-01/UDP_Bandlock_9S_Phone_Airport/sm02/#01/data/udp_uplk_loss_latency.csv\n"
     ]
    },
    {
     "data": {
      "application/vnd.jupyter.widget-view+json": {
       "model_id": "2f5b88d76e4747b087445a144ca9794b",
       "version_major": 2,
       "version_minor": 0
      },
      "text/plain": [
       "  0%|                                                                                                         …"
      ]
     },
     "metadata": {},
     "output_type": "display_data"
    },
    {
     "name": "stdout",
     "output_type": "stream",
     "text": [
      "./20240312_150032342e_newest/20240314_060073cc2b/results/20240314_07515600001_1d4f11bee8b69504/\\home\\wmnlab\\jackbedford\\data\\2023-11-01\\UDP_Bandlock_9S_Phone_Airport\\sm00\\#01\\data\\udp_dnlk_loss_latency\\home\\wmnlab\\jackbedford\\data\\2023-11-01\\UDP_Bandlock_9S_Phone_Airport\\sm02\\#01\\data\\udp_dnlk_loss_latency.csv\n",
      "74/216 /home/wmnlab/jackbedford/data/2023-11-01/UDP_Bandlock_9S_Phone_Airport/sm00/#01/data/handover_info_log.csv\n",
      "74/216 /home/wmnlab/jackbedford/data/2023-11-01/UDP_Bandlock_9S_Phone_Airport/sm00/#01/data/udp_dnlk_loss_latency.csv\n",
      "74/216 /home/wmnlab/jackbedford/data/2023-11-01/UDP_Bandlock_9S_Phone_Airport/sm00/#01/data/udp_uplk_loss_latency.csv\n",
      "74/216 /home/wmnlab/jackbedford/data/2023-11-01/UDP_Bandlock_9S_Phone_Airport/sm03/#01/data/handover_info_log.csv\n",
      "74/216 /home/wmnlab/jackbedford/data/2023-11-01/UDP_Bandlock_9S_Phone_Airport/sm03/#01/data/udp_dnlk_loss_latency.csv\n",
      "74/216 /home/wmnlab/jackbedford/data/2023-11-01/UDP_Bandlock_9S_Phone_Airport/sm03/#01/data/udp_uplk_loss_latency.csv\n"
     ]
    },
    {
     "data": {
      "application/vnd.jupyter.widget-view+json": {
       "model_id": "013432aac97c4f4fbcbe1960655bc30f",
       "version_major": 2,
       "version_minor": 0
      },
      "text/plain": [
       "  0%|                                                                                                         …"
      ]
     },
     "metadata": {},
     "output_type": "display_data"
    },
    {
     "name": "stdout",
     "output_type": "stream",
     "text": [
      "./20240312_150032342e_newest/20240314_060073cc2b/results/20240314_07515600001_1d4f11bee8b69504/\\home\\wmnlab\\jackbedford\\data\\2023-11-01\\UDP_Bandlock_9S_Phone_Airport\\sm00\\#01\\data\\udp_dnlk_loss_latency\\home\\wmnlab\\jackbedford\\data\\2023-11-01\\UDP_Bandlock_9S_Phone_Airport\\sm03\\#01\\data\\udp_dnlk_loss_latency.csv\n",
      "75/216 /home/wmnlab/jackbedford/data/2023-11-01/UDP_Bandlock_9S_Phone_Airport/sm00/#01/data/handover_info_log.csv\n",
      "75/216 /home/wmnlab/jackbedford/data/2023-11-01/UDP_Bandlock_9S_Phone_Airport/sm00/#01/data/udp_dnlk_loss_latency.csv\n",
      "75/216 /home/wmnlab/jackbedford/data/2023-11-01/UDP_Bandlock_9S_Phone_Airport/sm00/#01/data/udp_uplk_loss_latency.csv\n",
      "75/216 /home/wmnlab/jackbedford/data/2023-11-01/UDP_Bandlock_9S_Phone_Airport/sm04/#01/data/handover_info_log.csv\n",
      "75/216 /home/wmnlab/jackbedford/data/2023-11-01/UDP_Bandlock_9S_Phone_Airport/sm04/#01/data/udp_dnlk_loss_latency.csv\n",
      "75/216 /home/wmnlab/jackbedford/data/2023-11-01/UDP_Bandlock_9S_Phone_Airport/sm04/#01/data/udp_uplk_loss_latency.csv\n"
     ]
    },
    {
     "data": {
      "application/vnd.jupyter.widget-view+json": {
       "model_id": "1b4410805bd247089c886e30d2cdd3f7",
       "version_major": 2,
       "version_minor": 0
      },
      "text/plain": [
       "  0%|                                                                                                         …"
      ]
     },
     "metadata": {},
     "output_type": "display_data"
    },
    {
     "name": "stdout",
     "output_type": "stream",
     "text": [
      "./20240312_150032342e_newest/20240314_060073cc2b/results/20240314_07515600001_1d4f11bee8b69504/\\home\\wmnlab\\jackbedford\\data\\2023-11-01\\UDP_Bandlock_9S_Phone_Airport\\sm00\\#01\\data\\udp_dnlk_loss_latency\\home\\wmnlab\\jackbedford\\data\\2023-11-01\\UDP_Bandlock_9S_Phone_Airport\\sm04\\#01\\data\\udp_dnlk_loss_latency.csv\n",
      "76/216 /home/wmnlab/jackbedford/data/2023-11-01/UDP_Bandlock_9S_Phone_Airport/sm00/#01/data/handover_info_log.csv\n",
      "76/216 /home/wmnlab/jackbedford/data/2023-11-01/UDP_Bandlock_9S_Phone_Airport/sm00/#01/data/udp_dnlk_loss_latency.csv\n",
      "76/216 /home/wmnlab/jackbedford/data/2023-11-01/UDP_Bandlock_9S_Phone_Airport/sm00/#01/data/udp_uplk_loss_latency.csv\n",
      "76/216 /home/wmnlab/jackbedford/data/2023-11-01/UDP_Bandlock_9S_Phone_Airport/sm05/#01/data/handover_info_log.csv\n",
      "76/216 /home/wmnlab/jackbedford/data/2023-11-01/UDP_Bandlock_9S_Phone_Airport/sm05/#01/data/udp_dnlk_loss_latency.csv\n",
      "76/216 /home/wmnlab/jackbedford/data/2023-11-01/UDP_Bandlock_9S_Phone_Airport/sm05/#01/data/udp_uplk_loss_latency.csv\n"
     ]
    },
    {
     "data": {
      "application/vnd.jupyter.widget-view+json": {
       "model_id": "c7aecbfb8b0f4e05be96fea582c538cf",
       "version_major": 2,
       "version_minor": 0
      },
      "text/plain": [
       "  0%|                                                                                                         …"
      ]
     },
     "metadata": {},
     "output_type": "display_data"
    },
    {
     "name": "stdout",
     "output_type": "stream",
     "text": [
      "./20240312_150032342e_newest/20240314_060073cc2b/results/20240314_07515600001_1d4f11bee8b69504/\\home\\wmnlab\\jackbedford\\data\\2023-11-01\\UDP_Bandlock_9S_Phone_Airport\\sm00\\#01\\data\\udp_dnlk_loss_latency\\home\\wmnlab\\jackbedford\\data\\2023-11-01\\UDP_Bandlock_9S_Phone_Airport\\sm05\\#01\\data\\udp_dnlk_loss_latency.csv\n",
      "77/216 /home/wmnlab/jackbedford/data/2023-11-01/UDP_Bandlock_9S_Phone_Airport/sm00/#01/data/handover_info_log.csv\n",
      "77/216 /home/wmnlab/jackbedford/data/2023-11-01/UDP_Bandlock_9S_Phone_Airport/sm00/#01/data/udp_dnlk_loss_latency.csv\n",
      "77/216 /home/wmnlab/jackbedford/data/2023-11-01/UDP_Bandlock_9S_Phone_Airport/sm00/#01/data/udp_uplk_loss_latency.csv\n",
      "77/216 /home/wmnlab/jackbedford/data/2023-11-01/UDP_Bandlock_9S_Phone_Airport/sm06/#01/data/handover_info_log.csv\n",
      "77/216 /home/wmnlab/jackbedford/data/2023-11-01/UDP_Bandlock_9S_Phone_Airport/sm06/#01/data/udp_dnlk_loss_latency.csv\n",
      "77/216 /home/wmnlab/jackbedford/data/2023-11-01/UDP_Bandlock_9S_Phone_Airport/sm06/#01/data/udp_uplk_loss_latency.csv\n"
     ]
    },
    {
     "data": {
      "application/vnd.jupyter.widget-view+json": {
       "model_id": "93bf98df66e1442fa65cb98936e52bed",
       "version_major": 2,
       "version_minor": 0
      },
      "text/plain": [
       "  0%|                                                                                                         …"
      ]
     },
     "metadata": {},
     "output_type": "display_data"
    },
    {
     "name": "stdout",
     "output_type": "stream",
     "text": [
      "./20240312_150032342e_newest/20240314_060073cc2b/results/20240314_07515600001_1d4f11bee8b69504/\\home\\wmnlab\\jackbedford\\data\\2023-11-01\\UDP_Bandlock_9S_Phone_Airport\\sm00\\#01\\data\\udp_dnlk_loss_latency\\home\\wmnlab\\jackbedford\\data\\2023-11-01\\UDP_Bandlock_9S_Phone_Airport\\sm06\\#01\\data\\udp_dnlk_loss_latency.csv\n",
      "78/216 /home/wmnlab/jackbedford/data/2023-11-01/UDP_Bandlock_9S_Phone_Airport/sm00/#01/data/handover_info_log.csv\n",
      "78/216 /home/wmnlab/jackbedford/data/2023-11-01/UDP_Bandlock_9S_Phone_Airport/sm00/#01/data/udp_dnlk_loss_latency.csv\n",
      "78/216 /home/wmnlab/jackbedford/data/2023-11-01/UDP_Bandlock_9S_Phone_Airport/sm00/#01/data/udp_uplk_loss_latency.csv\n",
      "78/216 /home/wmnlab/jackbedford/data/2023-11-01/UDP_Bandlock_9S_Phone_Airport/sm07/#01/data/handover_info_log.csv\n",
      "78/216 /home/wmnlab/jackbedford/data/2023-11-01/UDP_Bandlock_9S_Phone_Airport/sm07/#01/data/udp_dnlk_loss_latency.csv\n",
      "78/216 /home/wmnlab/jackbedford/data/2023-11-01/UDP_Bandlock_9S_Phone_Airport/sm07/#01/data/udp_uplk_loss_latency.csv\n"
     ]
    },
    {
     "data": {
      "application/vnd.jupyter.widget-view+json": {
       "model_id": "08fa4950635b4ef3af394e64282a7dce",
       "version_major": 2,
       "version_minor": 0
      },
      "text/plain": [
       "  0%|                                                                                                         …"
      ]
     },
     "metadata": {},
     "output_type": "display_data"
    },
    {
     "name": "stdout",
     "output_type": "stream",
     "text": [
      "./20240312_150032342e_newest/20240314_060073cc2b/results/20240314_07515600001_1d4f11bee8b69504/\\home\\wmnlab\\jackbedford\\data\\2023-11-01\\UDP_Bandlock_9S_Phone_Airport\\sm00\\#01\\data\\udp_dnlk_loss_latency\\home\\wmnlab\\jackbedford\\data\\2023-11-01\\UDP_Bandlock_9S_Phone_Airport\\sm07\\#01\\data\\udp_dnlk_loss_latency.csv\n",
      "79/216 /home/wmnlab/jackbedford/data/2023-11-01/UDP_Bandlock_9S_Phone_Airport/sm00/#01/data/handover_info_log.csv\n",
      "79/216 /home/wmnlab/jackbedford/data/2023-11-01/UDP_Bandlock_9S_Phone_Airport/sm00/#01/data/udp_dnlk_loss_latency.csv\n",
      "79/216 /home/wmnlab/jackbedford/data/2023-11-01/UDP_Bandlock_9S_Phone_Airport/sm00/#01/data/udp_uplk_loss_latency.csv\n",
      "79/216 /home/wmnlab/jackbedford/data/2023-11-01/UDP_Bandlock_9S_Phone_Airport/sm08/#01/data/handover_info_log.csv\n",
      "79/216 /home/wmnlab/jackbedford/data/2023-11-01/UDP_Bandlock_9S_Phone_Airport/sm08/#01/data/udp_dnlk_loss_latency.csv\n",
      "79/216 /home/wmnlab/jackbedford/data/2023-11-01/UDP_Bandlock_9S_Phone_Airport/sm08/#01/data/udp_uplk_loss_latency.csv\n"
     ]
    },
    {
     "data": {
      "application/vnd.jupyter.widget-view+json": {
       "model_id": "ea396e1e694a4370973e95edd79ce0c3",
       "version_major": 2,
       "version_minor": 0
      },
      "text/plain": [
       "  0%|                                                                                                         …"
      ]
     },
     "metadata": {},
     "output_type": "display_data"
    },
    {
     "name": "stdout",
     "output_type": "stream",
     "text": [
      "./20240312_150032342e_newest/20240314_060073cc2b/results/20240314_07515600001_1d4f11bee8b69504/\\home\\wmnlab\\jackbedford\\data\\2023-11-01\\UDP_Bandlock_9S_Phone_Airport\\sm00\\#01\\data\\udp_dnlk_loss_latency\\home\\wmnlab\\jackbedford\\data\\2023-11-01\\UDP_Bandlock_9S_Phone_Airport\\sm08\\#01\\data\\udp_dnlk_loss_latency.csv\n",
      "80/216 /home/wmnlab/jackbedford/data/2023-11-01/UDP_Bandlock_9S_Phone_Airport/sm01/#01/data/handover_info_log.csv\n",
      "80/216 /home/wmnlab/jackbedford/data/2023-11-01/UDP_Bandlock_9S_Phone_Airport/sm01/#01/data/udp_dnlk_loss_latency.csv\n",
      "80/216 /home/wmnlab/jackbedford/data/2023-11-01/UDP_Bandlock_9S_Phone_Airport/sm01/#01/data/udp_uplk_loss_latency.csv\n",
      "80/216 /home/wmnlab/jackbedford/data/2023-11-01/UDP_Bandlock_9S_Phone_Airport/sm02/#01/data/handover_info_log.csv\n",
      "80/216 /home/wmnlab/jackbedford/data/2023-11-01/UDP_Bandlock_9S_Phone_Airport/sm02/#01/data/udp_dnlk_loss_latency.csv\n",
      "80/216 /home/wmnlab/jackbedford/data/2023-11-01/UDP_Bandlock_9S_Phone_Airport/sm02/#01/data/udp_uplk_loss_latency.csv\n"
     ]
    },
    {
     "data": {
      "application/vnd.jupyter.widget-view+json": {
       "model_id": "9cf0ef15794e4d57ab47373061727fc8",
       "version_major": 2,
       "version_minor": 0
      },
      "text/plain": [
       "  0%|                                                                                                         …"
      ]
     },
     "metadata": {},
     "output_type": "display_data"
    },
    {
     "name": "stdout",
     "output_type": "stream",
     "text": [
      "./20240312_150032342e_newest/20240314_060073cc2b/results/20240314_07515600001_1d4f11bee8b69504/\\home\\wmnlab\\jackbedford\\data\\2023-11-01\\UDP_Bandlock_9S_Phone_Airport\\sm01\\#01\\data\\udp_dnlk_loss_latency\\home\\wmnlab\\jackbedford\\data\\2023-11-01\\UDP_Bandlock_9S_Phone_Airport\\sm02\\#01\\data\\udp_dnlk_loss_latency.csv\n",
      "81/216 /home/wmnlab/jackbedford/data/2023-11-01/UDP_Bandlock_9S_Phone_Airport/sm01/#01/data/handover_info_log.csv\n",
      "81/216 /home/wmnlab/jackbedford/data/2023-11-01/UDP_Bandlock_9S_Phone_Airport/sm01/#01/data/udp_dnlk_loss_latency.csv\n",
      "81/216 /home/wmnlab/jackbedford/data/2023-11-01/UDP_Bandlock_9S_Phone_Airport/sm01/#01/data/udp_uplk_loss_latency.csv\n",
      "81/216 /home/wmnlab/jackbedford/data/2023-11-01/UDP_Bandlock_9S_Phone_Airport/sm03/#01/data/handover_info_log.csv\n",
      "81/216 /home/wmnlab/jackbedford/data/2023-11-01/UDP_Bandlock_9S_Phone_Airport/sm03/#01/data/udp_dnlk_loss_latency.csv\n",
      "81/216 /home/wmnlab/jackbedford/data/2023-11-01/UDP_Bandlock_9S_Phone_Airport/sm03/#01/data/udp_uplk_loss_latency.csv\n"
     ]
    },
    {
     "data": {
      "application/vnd.jupyter.widget-view+json": {
       "model_id": "62f7e84d05824d92ac892042839b8980",
       "version_major": 2,
       "version_minor": 0
      },
      "text/plain": [
       "  0%|                                                                                                         …"
      ]
     },
     "metadata": {},
     "output_type": "display_data"
    },
    {
     "name": "stdout",
     "output_type": "stream",
     "text": [
      "./20240312_150032342e_newest/20240314_060073cc2b/results/20240314_07515600001_1d4f11bee8b69504/\\home\\wmnlab\\jackbedford\\data\\2023-11-01\\UDP_Bandlock_9S_Phone_Airport\\sm01\\#01\\data\\udp_dnlk_loss_latency\\home\\wmnlab\\jackbedford\\data\\2023-11-01\\UDP_Bandlock_9S_Phone_Airport\\sm03\\#01\\data\\udp_dnlk_loss_latency.csv\n",
      "82/216 /home/wmnlab/jackbedford/data/2023-11-01/UDP_Bandlock_9S_Phone_Airport/sm01/#01/data/handover_info_log.csv\n",
      "82/216 /home/wmnlab/jackbedford/data/2023-11-01/UDP_Bandlock_9S_Phone_Airport/sm01/#01/data/udp_dnlk_loss_latency.csv\n",
      "82/216 /home/wmnlab/jackbedford/data/2023-11-01/UDP_Bandlock_9S_Phone_Airport/sm01/#01/data/udp_uplk_loss_latency.csv\n",
      "82/216 /home/wmnlab/jackbedford/data/2023-11-01/UDP_Bandlock_9S_Phone_Airport/sm04/#01/data/handover_info_log.csv\n",
      "82/216 /home/wmnlab/jackbedford/data/2023-11-01/UDP_Bandlock_9S_Phone_Airport/sm04/#01/data/udp_dnlk_loss_latency.csv\n",
      "82/216 /home/wmnlab/jackbedford/data/2023-11-01/UDP_Bandlock_9S_Phone_Airport/sm04/#01/data/udp_uplk_loss_latency.csv\n"
     ]
    },
    {
     "data": {
      "application/vnd.jupyter.widget-view+json": {
       "model_id": "c17d4a14a314430abc3a238b03f495cc",
       "version_major": 2,
       "version_minor": 0
      },
      "text/plain": [
       "  0%|                                                                                                         …"
      ]
     },
     "metadata": {},
     "output_type": "display_data"
    },
    {
     "name": "stdout",
     "output_type": "stream",
     "text": [
      "./20240312_150032342e_newest/20240314_060073cc2b/results/20240314_07515600001_1d4f11bee8b69504/\\home\\wmnlab\\jackbedford\\data\\2023-11-01\\UDP_Bandlock_9S_Phone_Airport\\sm01\\#01\\data\\udp_dnlk_loss_latency\\home\\wmnlab\\jackbedford\\data\\2023-11-01\\UDP_Bandlock_9S_Phone_Airport\\sm04\\#01\\data\\udp_dnlk_loss_latency.csv\n",
      "83/216 /home/wmnlab/jackbedford/data/2023-11-01/UDP_Bandlock_9S_Phone_Airport/sm01/#01/data/handover_info_log.csv\n",
      "83/216 /home/wmnlab/jackbedford/data/2023-11-01/UDP_Bandlock_9S_Phone_Airport/sm01/#01/data/udp_dnlk_loss_latency.csv\n",
      "83/216 /home/wmnlab/jackbedford/data/2023-11-01/UDP_Bandlock_9S_Phone_Airport/sm01/#01/data/udp_uplk_loss_latency.csv\n",
      "83/216 /home/wmnlab/jackbedford/data/2023-11-01/UDP_Bandlock_9S_Phone_Airport/sm05/#01/data/handover_info_log.csv\n",
      "83/216 /home/wmnlab/jackbedford/data/2023-11-01/UDP_Bandlock_9S_Phone_Airport/sm05/#01/data/udp_dnlk_loss_latency.csv\n",
      "83/216 /home/wmnlab/jackbedford/data/2023-11-01/UDP_Bandlock_9S_Phone_Airport/sm05/#01/data/udp_uplk_loss_latency.csv\n"
     ]
    },
    {
     "data": {
      "application/vnd.jupyter.widget-view+json": {
       "model_id": "8f2b8f3a59504ce880fdb20ad8d67951",
       "version_major": 2,
       "version_minor": 0
      },
      "text/plain": [
       "  0%|                                                                                                         …"
      ]
     },
     "metadata": {},
     "output_type": "display_data"
    },
    {
     "name": "stdout",
     "output_type": "stream",
     "text": [
      "./20240312_150032342e_newest/20240314_060073cc2b/results/20240314_07515600001_1d4f11bee8b69504/\\home\\wmnlab\\jackbedford\\data\\2023-11-01\\UDP_Bandlock_9S_Phone_Airport\\sm01\\#01\\data\\udp_dnlk_loss_latency\\home\\wmnlab\\jackbedford\\data\\2023-11-01\\UDP_Bandlock_9S_Phone_Airport\\sm05\\#01\\data\\udp_dnlk_loss_latency.csv\n",
      "84/216 /home/wmnlab/jackbedford/data/2023-11-01/UDP_Bandlock_9S_Phone_Airport/sm01/#01/data/handover_info_log.csv\n",
      "84/216 /home/wmnlab/jackbedford/data/2023-11-01/UDP_Bandlock_9S_Phone_Airport/sm01/#01/data/udp_dnlk_loss_latency.csv\n",
      "84/216 /home/wmnlab/jackbedford/data/2023-11-01/UDP_Bandlock_9S_Phone_Airport/sm01/#01/data/udp_uplk_loss_latency.csv\n",
      "84/216 /home/wmnlab/jackbedford/data/2023-11-01/UDP_Bandlock_9S_Phone_Airport/sm06/#01/data/handover_info_log.csv\n",
      "84/216 /home/wmnlab/jackbedford/data/2023-11-01/UDP_Bandlock_9S_Phone_Airport/sm06/#01/data/udp_dnlk_loss_latency.csv\n",
      "84/216 /home/wmnlab/jackbedford/data/2023-11-01/UDP_Bandlock_9S_Phone_Airport/sm06/#01/data/udp_uplk_loss_latency.csv\n"
     ]
    },
    {
     "data": {
      "application/vnd.jupyter.widget-view+json": {
       "model_id": "e278d3f4653f42bbb002eb8513e25766",
       "version_major": 2,
       "version_minor": 0
      },
      "text/plain": [
       "  0%|                                                                                                         …"
      ]
     },
     "metadata": {},
     "output_type": "display_data"
    },
    {
     "name": "stdout",
     "output_type": "stream",
     "text": [
      "./20240312_150032342e_newest/20240314_060073cc2b/results/20240314_07515600001_1d4f11bee8b69504/\\home\\wmnlab\\jackbedford\\data\\2023-11-01\\UDP_Bandlock_9S_Phone_Airport\\sm01\\#01\\data\\udp_dnlk_loss_latency\\home\\wmnlab\\jackbedford\\data\\2023-11-01\\UDP_Bandlock_9S_Phone_Airport\\sm06\\#01\\data\\udp_dnlk_loss_latency.csv\n",
      "85/216 /home/wmnlab/jackbedford/data/2023-11-01/UDP_Bandlock_9S_Phone_Airport/sm01/#01/data/handover_info_log.csv\n",
      "85/216 /home/wmnlab/jackbedford/data/2023-11-01/UDP_Bandlock_9S_Phone_Airport/sm01/#01/data/udp_dnlk_loss_latency.csv\n",
      "85/216 /home/wmnlab/jackbedford/data/2023-11-01/UDP_Bandlock_9S_Phone_Airport/sm01/#01/data/udp_uplk_loss_latency.csv\n",
      "85/216 /home/wmnlab/jackbedford/data/2023-11-01/UDP_Bandlock_9S_Phone_Airport/sm07/#01/data/handover_info_log.csv\n",
      "85/216 /home/wmnlab/jackbedford/data/2023-11-01/UDP_Bandlock_9S_Phone_Airport/sm07/#01/data/udp_dnlk_loss_latency.csv\n",
      "85/216 /home/wmnlab/jackbedford/data/2023-11-01/UDP_Bandlock_9S_Phone_Airport/sm07/#01/data/udp_uplk_loss_latency.csv\n"
     ]
    },
    {
     "data": {
      "application/vnd.jupyter.widget-view+json": {
       "model_id": "2e746d8435914566bb812f2b27876063",
       "version_major": 2,
       "version_minor": 0
      },
      "text/plain": [
       "  0%|                                                                                                         …"
      ]
     },
     "metadata": {},
     "output_type": "display_data"
    },
    {
     "name": "stdout",
     "output_type": "stream",
     "text": [
      "./20240312_150032342e_newest/20240314_060073cc2b/results/20240314_07515600001_1d4f11bee8b69504/\\home\\wmnlab\\jackbedford\\data\\2023-11-01\\UDP_Bandlock_9S_Phone_Airport\\sm01\\#01\\data\\udp_dnlk_loss_latency\\home\\wmnlab\\jackbedford\\data\\2023-11-01\\UDP_Bandlock_9S_Phone_Airport\\sm07\\#01\\data\\udp_dnlk_loss_latency.csv\n",
      "86/216 /home/wmnlab/jackbedford/data/2023-11-01/UDP_Bandlock_9S_Phone_Airport/sm01/#01/data/handover_info_log.csv\n",
      "86/216 /home/wmnlab/jackbedford/data/2023-11-01/UDP_Bandlock_9S_Phone_Airport/sm01/#01/data/udp_dnlk_loss_latency.csv\n",
      "86/216 /home/wmnlab/jackbedford/data/2023-11-01/UDP_Bandlock_9S_Phone_Airport/sm01/#01/data/udp_uplk_loss_latency.csv\n",
      "86/216 /home/wmnlab/jackbedford/data/2023-11-01/UDP_Bandlock_9S_Phone_Airport/sm08/#01/data/handover_info_log.csv\n",
      "86/216 /home/wmnlab/jackbedford/data/2023-11-01/UDP_Bandlock_9S_Phone_Airport/sm08/#01/data/udp_dnlk_loss_latency.csv\n",
      "86/216 /home/wmnlab/jackbedford/data/2023-11-01/UDP_Bandlock_9S_Phone_Airport/sm08/#01/data/udp_uplk_loss_latency.csv\n"
     ]
    },
    {
     "data": {
      "application/vnd.jupyter.widget-view+json": {
       "model_id": "ddeb122b614f413886e3c168ba29a655",
       "version_major": 2,
       "version_minor": 0
      },
      "text/plain": [
       "  0%|                                                                                                         …"
      ]
     },
     "metadata": {},
     "output_type": "display_data"
    },
    {
     "name": "stdout",
     "output_type": "stream",
     "text": [
      "./20240312_150032342e_newest/20240314_060073cc2b/results/20240314_07515600001_1d4f11bee8b69504/\\home\\wmnlab\\jackbedford\\data\\2023-11-01\\UDP_Bandlock_9S_Phone_Airport\\sm01\\#01\\data\\udp_dnlk_loss_latency\\home\\wmnlab\\jackbedford\\data\\2023-11-01\\UDP_Bandlock_9S_Phone_Airport\\sm08\\#01\\data\\udp_dnlk_loss_latency.csv\n",
      "87/216 /home/wmnlab/jackbedford/data/2023-11-01/UDP_Bandlock_9S_Phone_Airport/sm02/#01/data/handover_info_log.csv\n",
      "87/216 /home/wmnlab/jackbedford/data/2023-11-01/UDP_Bandlock_9S_Phone_Airport/sm02/#01/data/udp_dnlk_loss_latency.csv\n",
      "87/216 /home/wmnlab/jackbedford/data/2023-11-01/UDP_Bandlock_9S_Phone_Airport/sm02/#01/data/udp_uplk_loss_latency.csv\n",
      "87/216 /home/wmnlab/jackbedford/data/2023-11-01/UDP_Bandlock_9S_Phone_Airport/sm03/#01/data/handover_info_log.csv\n",
      "87/216 /home/wmnlab/jackbedford/data/2023-11-01/UDP_Bandlock_9S_Phone_Airport/sm03/#01/data/udp_dnlk_loss_latency.csv\n",
      "87/216 /home/wmnlab/jackbedford/data/2023-11-01/UDP_Bandlock_9S_Phone_Airport/sm03/#01/data/udp_uplk_loss_latency.csv\n"
     ]
    },
    {
     "data": {
      "application/vnd.jupyter.widget-view+json": {
       "model_id": "611f495b3ddc45c9bb80a513c85217ae",
       "version_major": 2,
       "version_minor": 0
      },
      "text/plain": [
       "  0%|                                                                                                         …"
      ]
     },
     "metadata": {},
     "output_type": "display_data"
    },
    {
     "name": "stdout",
     "output_type": "stream",
     "text": [
      "./20240312_150032342e_newest/20240314_060073cc2b/results/20240314_07515600001_1d4f11bee8b69504/\\home\\wmnlab\\jackbedford\\data\\2023-11-01\\UDP_Bandlock_9S_Phone_Airport\\sm02\\#01\\data\\udp_dnlk_loss_latency\\home\\wmnlab\\jackbedford\\data\\2023-11-01\\UDP_Bandlock_9S_Phone_Airport\\sm03\\#01\\data\\udp_dnlk_loss_latency.csv\n",
      "88/216 /home/wmnlab/jackbedford/data/2023-11-01/UDP_Bandlock_9S_Phone_Airport/sm02/#01/data/handover_info_log.csv\n",
      "88/216 /home/wmnlab/jackbedford/data/2023-11-01/UDP_Bandlock_9S_Phone_Airport/sm02/#01/data/udp_dnlk_loss_latency.csv\n",
      "88/216 /home/wmnlab/jackbedford/data/2023-11-01/UDP_Bandlock_9S_Phone_Airport/sm02/#01/data/udp_uplk_loss_latency.csv\n",
      "88/216 /home/wmnlab/jackbedford/data/2023-11-01/UDP_Bandlock_9S_Phone_Airport/sm04/#01/data/handover_info_log.csv\n",
      "88/216 /home/wmnlab/jackbedford/data/2023-11-01/UDP_Bandlock_9S_Phone_Airport/sm04/#01/data/udp_dnlk_loss_latency.csv\n",
      "88/216 /home/wmnlab/jackbedford/data/2023-11-01/UDP_Bandlock_9S_Phone_Airport/sm04/#01/data/udp_uplk_loss_latency.csv\n"
     ]
    },
    {
     "data": {
      "application/vnd.jupyter.widget-view+json": {
       "model_id": "ff462b6063284f24ab819993c465591e",
       "version_major": 2,
       "version_minor": 0
      },
      "text/plain": [
       "  0%|                                                                                                         …"
      ]
     },
     "metadata": {},
     "output_type": "display_data"
    },
    {
     "name": "stdout",
     "output_type": "stream",
     "text": [
      "./20240312_150032342e_newest/20240314_060073cc2b/results/20240314_07515600001_1d4f11bee8b69504/\\home\\wmnlab\\jackbedford\\data\\2023-11-01\\UDP_Bandlock_9S_Phone_Airport\\sm02\\#01\\data\\udp_dnlk_loss_latency\\home\\wmnlab\\jackbedford\\data\\2023-11-01\\UDP_Bandlock_9S_Phone_Airport\\sm04\\#01\\data\\udp_dnlk_loss_latency.csv\n",
      "89/216 /home/wmnlab/jackbedford/data/2023-11-01/UDP_Bandlock_9S_Phone_Airport/sm02/#01/data/handover_info_log.csv\n",
      "89/216 /home/wmnlab/jackbedford/data/2023-11-01/UDP_Bandlock_9S_Phone_Airport/sm02/#01/data/udp_dnlk_loss_latency.csv\n",
      "89/216 /home/wmnlab/jackbedford/data/2023-11-01/UDP_Bandlock_9S_Phone_Airport/sm02/#01/data/udp_uplk_loss_latency.csv\n",
      "89/216 /home/wmnlab/jackbedford/data/2023-11-01/UDP_Bandlock_9S_Phone_Airport/sm05/#01/data/handover_info_log.csv\n",
      "89/216 /home/wmnlab/jackbedford/data/2023-11-01/UDP_Bandlock_9S_Phone_Airport/sm05/#01/data/udp_dnlk_loss_latency.csv\n",
      "89/216 /home/wmnlab/jackbedford/data/2023-11-01/UDP_Bandlock_9S_Phone_Airport/sm05/#01/data/udp_uplk_loss_latency.csv\n"
     ]
    },
    {
     "data": {
      "application/vnd.jupyter.widget-view+json": {
       "model_id": "7171c9e7a1a64e2a9e85117da1d7b82d",
       "version_major": 2,
       "version_minor": 0
      },
      "text/plain": [
       "  0%|                                                                                                         …"
      ]
     },
     "metadata": {},
     "output_type": "display_data"
    },
    {
     "name": "stdout",
     "output_type": "stream",
     "text": [
      "./20240312_150032342e_newest/20240314_060073cc2b/results/20240314_07515600001_1d4f11bee8b69504/\\home\\wmnlab\\jackbedford\\data\\2023-11-01\\UDP_Bandlock_9S_Phone_Airport\\sm02\\#01\\data\\udp_dnlk_loss_latency\\home\\wmnlab\\jackbedford\\data\\2023-11-01\\UDP_Bandlock_9S_Phone_Airport\\sm05\\#01\\data\\udp_dnlk_loss_latency.csv\n",
      "90/216 /home/wmnlab/jackbedford/data/2023-11-01/UDP_Bandlock_9S_Phone_Airport/sm02/#01/data/handover_info_log.csv\n",
      "90/216 /home/wmnlab/jackbedford/data/2023-11-01/UDP_Bandlock_9S_Phone_Airport/sm02/#01/data/udp_dnlk_loss_latency.csv\n",
      "90/216 /home/wmnlab/jackbedford/data/2023-11-01/UDP_Bandlock_9S_Phone_Airport/sm02/#01/data/udp_uplk_loss_latency.csv\n",
      "90/216 /home/wmnlab/jackbedford/data/2023-11-01/UDP_Bandlock_9S_Phone_Airport/sm06/#01/data/handover_info_log.csv\n",
      "90/216 /home/wmnlab/jackbedford/data/2023-11-01/UDP_Bandlock_9S_Phone_Airport/sm06/#01/data/udp_dnlk_loss_latency.csv\n",
      "90/216 /home/wmnlab/jackbedford/data/2023-11-01/UDP_Bandlock_9S_Phone_Airport/sm06/#01/data/udp_uplk_loss_latency.csv\n"
     ]
    },
    {
     "data": {
      "application/vnd.jupyter.widget-view+json": {
       "model_id": "c85d3a259b014759a2ee97262d1a8f73",
       "version_major": 2,
       "version_minor": 0
      },
      "text/plain": [
       "  0%|                                                                                                         …"
      ]
     },
     "metadata": {},
     "output_type": "display_data"
    },
    {
     "name": "stdout",
     "output_type": "stream",
     "text": [
      "./20240312_150032342e_newest/20240314_060073cc2b/results/20240314_07515600001_1d4f11bee8b69504/\\home\\wmnlab\\jackbedford\\data\\2023-11-01\\UDP_Bandlock_9S_Phone_Airport\\sm02\\#01\\data\\udp_dnlk_loss_latency\\home\\wmnlab\\jackbedford\\data\\2023-11-01\\UDP_Bandlock_9S_Phone_Airport\\sm06\\#01\\data\\udp_dnlk_loss_latency.csv\n",
      "91/216 /home/wmnlab/jackbedford/data/2023-11-01/UDP_Bandlock_9S_Phone_Airport/sm02/#01/data/handover_info_log.csv\n",
      "91/216 /home/wmnlab/jackbedford/data/2023-11-01/UDP_Bandlock_9S_Phone_Airport/sm02/#01/data/udp_dnlk_loss_latency.csv\n",
      "91/216 /home/wmnlab/jackbedford/data/2023-11-01/UDP_Bandlock_9S_Phone_Airport/sm02/#01/data/udp_uplk_loss_latency.csv\n",
      "91/216 /home/wmnlab/jackbedford/data/2023-11-01/UDP_Bandlock_9S_Phone_Airport/sm07/#01/data/handover_info_log.csv\n",
      "91/216 /home/wmnlab/jackbedford/data/2023-11-01/UDP_Bandlock_9S_Phone_Airport/sm07/#01/data/udp_dnlk_loss_latency.csv\n",
      "91/216 /home/wmnlab/jackbedford/data/2023-11-01/UDP_Bandlock_9S_Phone_Airport/sm07/#01/data/udp_uplk_loss_latency.csv\n"
     ]
    },
    {
     "data": {
      "application/vnd.jupyter.widget-view+json": {
       "model_id": "0e7a75559e7d47de959d40c86587c621",
       "version_major": 2,
       "version_minor": 0
      },
      "text/plain": [
       "  0%|                                                                                                         …"
      ]
     },
     "metadata": {},
     "output_type": "display_data"
    },
    {
     "name": "stdout",
     "output_type": "stream",
     "text": [
      "./20240312_150032342e_newest/20240314_060073cc2b/results/20240314_07515600001_1d4f11bee8b69504/\\home\\wmnlab\\jackbedford\\data\\2023-11-01\\UDP_Bandlock_9S_Phone_Airport\\sm02\\#01\\data\\udp_dnlk_loss_latency\\home\\wmnlab\\jackbedford\\data\\2023-11-01\\UDP_Bandlock_9S_Phone_Airport\\sm07\\#01\\data\\udp_dnlk_loss_latency.csv\n",
      "92/216 /home/wmnlab/jackbedford/data/2023-11-01/UDP_Bandlock_9S_Phone_Airport/sm02/#01/data/handover_info_log.csv\n",
      "92/216 /home/wmnlab/jackbedford/data/2023-11-01/UDP_Bandlock_9S_Phone_Airport/sm02/#01/data/udp_dnlk_loss_latency.csv\n",
      "92/216 /home/wmnlab/jackbedford/data/2023-11-01/UDP_Bandlock_9S_Phone_Airport/sm02/#01/data/udp_uplk_loss_latency.csv\n",
      "92/216 /home/wmnlab/jackbedford/data/2023-11-01/UDP_Bandlock_9S_Phone_Airport/sm08/#01/data/handover_info_log.csv\n",
      "92/216 /home/wmnlab/jackbedford/data/2023-11-01/UDP_Bandlock_9S_Phone_Airport/sm08/#01/data/udp_dnlk_loss_latency.csv\n",
      "92/216 /home/wmnlab/jackbedford/data/2023-11-01/UDP_Bandlock_9S_Phone_Airport/sm08/#01/data/udp_uplk_loss_latency.csv\n"
     ]
    },
    {
     "data": {
      "application/vnd.jupyter.widget-view+json": {
       "model_id": "f0f4fd08851245559d1e6cb4be92307f",
       "version_major": 2,
       "version_minor": 0
      },
      "text/plain": [
       "  0%|                                                                                                         …"
      ]
     },
     "metadata": {},
     "output_type": "display_data"
    },
    {
     "name": "stdout",
     "output_type": "stream",
     "text": [
      "./20240312_150032342e_newest/20240314_060073cc2b/results/20240314_07515600001_1d4f11bee8b69504/\\home\\wmnlab\\jackbedford\\data\\2023-11-01\\UDP_Bandlock_9S_Phone_Airport\\sm02\\#01\\data\\udp_dnlk_loss_latency\\home\\wmnlab\\jackbedford\\data\\2023-11-01\\UDP_Bandlock_9S_Phone_Airport\\sm08\\#01\\data\\udp_dnlk_loss_latency.csv\n",
      "93/216 /home/wmnlab/jackbedford/data/2023-11-01/UDP_Bandlock_9S_Phone_Airport/sm03/#01/data/handover_info_log.csv\n",
      "93/216 /home/wmnlab/jackbedford/data/2023-11-01/UDP_Bandlock_9S_Phone_Airport/sm03/#01/data/udp_dnlk_loss_latency.csv\n",
      "93/216 /home/wmnlab/jackbedford/data/2023-11-01/UDP_Bandlock_9S_Phone_Airport/sm03/#01/data/udp_uplk_loss_latency.csv\n",
      "93/216 /home/wmnlab/jackbedford/data/2023-11-01/UDP_Bandlock_9S_Phone_Airport/sm04/#01/data/handover_info_log.csv\n",
      "93/216 /home/wmnlab/jackbedford/data/2023-11-01/UDP_Bandlock_9S_Phone_Airport/sm04/#01/data/udp_dnlk_loss_latency.csv\n",
      "93/216 /home/wmnlab/jackbedford/data/2023-11-01/UDP_Bandlock_9S_Phone_Airport/sm04/#01/data/udp_uplk_loss_latency.csv\n"
     ]
    },
    {
     "data": {
      "application/vnd.jupyter.widget-view+json": {
       "model_id": "1275424dd87942c28b58d618626e12e0",
       "version_major": 2,
       "version_minor": 0
      },
      "text/plain": [
       "  0%|                                                                                                         …"
      ]
     },
     "metadata": {},
     "output_type": "display_data"
    },
    {
     "name": "stdout",
     "output_type": "stream",
     "text": [
      "./20240312_150032342e_newest/20240314_060073cc2b/results/20240314_07515600001_1d4f11bee8b69504/\\home\\wmnlab\\jackbedford\\data\\2023-11-01\\UDP_Bandlock_9S_Phone_Airport\\sm03\\#01\\data\\udp_dnlk_loss_latency\\home\\wmnlab\\jackbedford\\data\\2023-11-01\\UDP_Bandlock_9S_Phone_Airport\\sm04\\#01\\data\\udp_dnlk_loss_latency.csv\n",
      "94/216 /home/wmnlab/jackbedford/data/2023-11-01/UDP_Bandlock_9S_Phone_Airport/sm03/#01/data/handover_info_log.csv\n",
      "94/216 /home/wmnlab/jackbedford/data/2023-11-01/UDP_Bandlock_9S_Phone_Airport/sm03/#01/data/udp_dnlk_loss_latency.csv\n",
      "94/216 /home/wmnlab/jackbedford/data/2023-11-01/UDP_Bandlock_9S_Phone_Airport/sm03/#01/data/udp_uplk_loss_latency.csv\n",
      "94/216 /home/wmnlab/jackbedford/data/2023-11-01/UDP_Bandlock_9S_Phone_Airport/sm05/#01/data/handover_info_log.csv\n",
      "94/216 /home/wmnlab/jackbedford/data/2023-11-01/UDP_Bandlock_9S_Phone_Airport/sm05/#01/data/udp_dnlk_loss_latency.csv\n",
      "94/216 /home/wmnlab/jackbedford/data/2023-11-01/UDP_Bandlock_9S_Phone_Airport/sm05/#01/data/udp_uplk_loss_latency.csv\n"
     ]
    },
    {
     "data": {
      "application/vnd.jupyter.widget-view+json": {
       "model_id": "a214ed26e8d24ecd9ecbe59897fcc41c",
       "version_major": 2,
       "version_minor": 0
      },
      "text/plain": [
       "  0%|                                                                                                         …"
      ]
     },
     "metadata": {},
     "output_type": "display_data"
    },
    {
     "name": "stdout",
     "output_type": "stream",
     "text": [
      "./20240312_150032342e_newest/20240314_060073cc2b/results/20240314_07515600001_1d4f11bee8b69504/\\home\\wmnlab\\jackbedford\\data\\2023-11-01\\UDP_Bandlock_9S_Phone_Airport\\sm03\\#01\\data\\udp_dnlk_loss_latency\\home\\wmnlab\\jackbedford\\data\\2023-11-01\\UDP_Bandlock_9S_Phone_Airport\\sm05\\#01\\data\\udp_dnlk_loss_latency.csv\n",
      "95/216 /home/wmnlab/jackbedford/data/2023-11-01/UDP_Bandlock_9S_Phone_Airport/sm03/#01/data/handover_info_log.csv\n",
      "95/216 /home/wmnlab/jackbedford/data/2023-11-01/UDP_Bandlock_9S_Phone_Airport/sm03/#01/data/udp_dnlk_loss_latency.csv\n",
      "95/216 /home/wmnlab/jackbedford/data/2023-11-01/UDP_Bandlock_9S_Phone_Airport/sm03/#01/data/udp_uplk_loss_latency.csv\n",
      "95/216 /home/wmnlab/jackbedford/data/2023-11-01/UDP_Bandlock_9S_Phone_Airport/sm06/#01/data/handover_info_log.csv\n",
      "95/216 /home/wmnlab/jackbedford/data/2023-11-01/UDP_Bandlock_9S_Phone_Airport/sm06/#01/data/udp_dnlk_loss_latency.csv\n",
      "95/216 /home/wmnlab/jackbedford/data/2023-11-01/UDP_Bandlock_9S_Phone_Airport/sm06/#01/data/udp_uplk_loss_latency.csv\n"
     ]
    },
    {
     "data": {
      "application/vnd.jupyter.widget-view+json": {
       "model_id": "a61b9be062c9479a94ab52f5d2022219",
       "version_major": 2,
       "version_minor": 0
      },
      "text/plain": [
       "  0%|                                                                                                         …"
      ]
     },
     "metadata": {},
     "output_type": "display_data"
    },
    {
     "name": "stdout",
     "output_type": "stream",
     "text": [
      "./20240312_150032342e_newest/20240314_060073cc2b/results/20240314_07515600001_1d4f11bee8b69504/\\home\\wmnlab\\jackbedford\\data\\2023-11-01\\UDP_Bandlock_9S_Phone_Airport\\sm03\\#01\\data\\udp_dnlk_loss_latency\\home\\wmnlab\\jackbedford\\data\\2023-11-01\\UDP_Bandlock_9S_Phone_Airport\\sm06\\#01\\data\\udp_dnlk_loss_latency.csv\n",
      "96/216 /home/wmnlab/jackbedford/data/2023-11-01/UDP_Bandlock_9S_Phone_Airport/sm03/#01/data/handover_info_log.csv\n",
      "96/216 /home/wmnlab/jackbedford/data/2023-11-01/UDP_Bandlock_9S_Phone_Airport/sm03/#01/data/udp_dnlk_loss_latency.csv\n",
      "96/216 /home/wmnlab/jackbedford/data/2023-11-01/UDP_Bandlock_9S_Phone_Airport/sm03/#01/data/udp_uplk_loss_latency.csv\n",
      "96/216 /home/wmnlab/jackbedford/data/2023-11-01/UDP_Bandlock_9S_Phone_Airport/sm07/#01/data/handover_info_log.csv\n",
      "96/216 /home/wmnlab/jackbedford/data/2023-11-01/UDP_Bandlock_9S_Phone_Airport/sm07/#01/data/udp_dnlk_loss_latency.csv\n",
      "96/216 /home/wmnlab/jackbedford/data/2023-11-01/UDP_Bandlock_9S_Phone_Airport/sm07/#01/data/udp_uplk_loss_latency.csv\n"
     ]
    },
    {
     "data": {
      "application/vnd.jupyter.widget-view+json": {
       "model_id": "05d17c89914b4aee913c619a39e3ad0e",
       "version_major": 2,
       "version_minor": 0
      },
      "text/plain": [
       "  0%|                                                                                                         …"
      ]
     },
     "metadata": {},
     "output_type": "display_data"
    },
    {
     "name": "stdout",
     "output_type": "stream",
     "text": [
      "./20240312_150032342e_newest/20240314_060073cc2b/results/20240314_07515600001_1d4f11bee8b69504/\\home\\wmnlab\\jackbedford\\data\\2023-11-01\\UDP_Bandlock_9S_Phone_Airport\\sm03\\#01\\data\\udp_dnlk_loss_latency\\home\\wmnlab\\jackbedford\\data\\2023-11-01\\UDP_Bandlock_9S_Phone_Airport\\sm07\\#01\\data\\udp_dnlk_loss_latency.csv\n",
      "97/216 /home/wmnlab/jackbedford/data/2023-11-01/UDP_Bandlock_9S_Phone_Airport/sm03/#01/data/handover_info_log.csv\n",
      "97/216 /home/wmnlab/jackbedford/data/2023-11-01/UDP_Bandlock_9S_Phone_Airport/sm03/#01/data/udp_dnlk_loss_latency.csv\n",
      "97/216 /home/wmnlab/jackbedford/data/2023-11-01/UDP_Bandlock_9S_Phone_Airport/sm03/#01/data/udp_uplk_loss_latency.csv\n",
      "97/216 /home/wmnlab/jackbedford/data/2023-11-01/UDP_Bandlock_9S_Phone_Airport/sm08/#01/data/handover_info_log.csv\n",
      "97/216 /home/wmnlab/jackbedford/data/2023-11-01/UDP_Bandlock_9S_Phone_Airport/sm08/#01/data/udp_dnlk_loss_latency.csv\n",
      "97/216 /home/wmnlab/jackbedford/data/2023-11-01/UDP_Bandlock_9S_Phone_Airport/sm08/#01/data/udp_uplk_loss_latency.csv\n"
     ]
    },
    {
     "data": {
      "application/vnd.jupyter.widget-view+json": {
       "model_id": "517ce7569ab4482d9f4d289608406997",
       "version_major": 2,
       "version_minor": 0
      },
      "text/plain": [
       "  0%|                                                                                                         …"
      ]
     },
     "metadata": {},
     "output_type": "display_data"
    },
    {
     "name": "stdout",
     "output_type": "stream",
     "text": [
      "./20240312_150032342e_newest/20240314_060073cc2b/results/20240314_07515600001_1d4f11bee8b69504/\\home\\wmnlab\\jackbedford\\data\\2023-11-01\\UDP_Bandlock_9S_Phone_Airport\\sm03\\#01\\data\\udp_dnlk_loss_latency\\home\\wmnlab\\jackbedford\\data\\2023-11-01\\UDP_Bandlock_9S_Phone_Airport\\sm08\\#01\\data\\udp_dnlk_loss_latency.csv\n",
      "98/216 /home/wmnlab/jackbedford/data/2023-11-01/UDP_Bandlock_9S_Phone_Airport/sm04/#01/data/handover_info_log.csv\n",
      "98/216 /home/wmnlab/jackbedford/data/2023-11-01/UDP_Bandlock_9S_Phone_Airport/sm04/#01/data/udp_dnlk_loss_latency.csv\n",
      "98/216 /home/wmnlab/jackbedford/data/2023-11-01/UDP_Bandlock_9S_Phone_Airport/sm04/#01/data/udp_uplk_loss_latency.csv\n",
      "98/216 /home/wmnlab/jackbedford/data/2023-11-01/UDP_Bandlock_9S_Phone_Airport/sm05/#01/data/handover_info_log.csv\n",
      "98/216 /home/wmnlab/jackbedford/data/2023-11-01/UDP_Bandlock_9S_Phone_Airport/sm05/#01/data/udp_dnlk_loss_latency.csv\n",
      "98/216 /home/wmnlab/jackbedford/data/2023-11-01/UDP_Bandlock_9S_Phone_Airport/sm05/#01/data/udp_uplk_loss_latency.csv\n"
     ]
    },
    {
     "data": {
      "application/vnd.jupyter.widget-view+json": {
       "model_id": "fb5b635173f34587884db752cddb68a1",
       "version_major": 2,
       "version_minor": 0
      },
      "text/plain": [
       "  0%|                                                                                                         …"
      ]
     },
     "metadata": {},
     "output_type": "display_data"
    },
    {
     "name": "stdout",
     "output_type": "stream",
     "text": [
      "./20240312_150032342e_newest/20240314_060073cc2b/results/20240314_07515600001_1d4f11bee8b69504/\\home\\wmnlab\\jackbedford\\data\\2023-11-01\\UDP_Bandlock_9S_Phone_Airport\\sm04\\#01\\data\\udp_dnlk_loss_latency\\home\\wmnlab\\jackbedford\\data\\2023-11-01\\UDP_Bandlock_9S_Phone_Airport\\sm05\\#01\\data\\udp_dnlk_loss_latency.csv\n",
      "99/216 /home/wmnlab/jackbedford/data/2023-11-01/UDP_Bandlock_9S_Phone_Airport/sm04/#01/data/handover_info_log.csv\n",
      "99/216 /home/wmnlab/jackbedford/data/2023-11-01/UDP_Bandlock_9S_Phone_Airport/sm04/#01/data/udp_dnlk_loss_latency.csv\n",
      "99/216 /home/wmnlab/jackbedford/data/2023-11-01/UDP_Bandlock_9S_Phone_Airport/sm04/#01/data/udp_uplk_loss_latency.csv\n",
      "99/216 /home/wmnlab/jackbedford/data/2023-11-01/UDP_Bandlock_9S_Phone_Airport/sm06/#01/data/handover_info_log.csv\n",
      "99/216 /home/wmnlab/jackbedford/data/2023-11-01/UDP_Bandlock_9S_Phone_Airport/sm06/#01/data/udp_dnlk_loss_latency.csv\n",
      "99/216 /home/wmnlab/jackbedford/data/2023-11-01/UDP_Bandlock_9S_Phone_Airport/sm06/#01/data/udp_uplk_loss_latency.csv\n"
     ]
    },
    {
     "data": {
      "application/vnd.jupyter.widget-view+json": {
       "model_id": "dbf4555be8ec4df3832c2b54119296c0",
       "version_major": 2,
       "version_minor": 0
      },
      "text/plain": [
       "  0%|                                                                                                         …"
      ]
     },
     "metadata": {},
     "output_type": "display_data"
    },
    {
     "name": "stdout",
     "output_type": "stream",
     "text": [
      "./20240312_150032342e_newest/20240314_060073cc2b/results/20240314_07515600001_1d4f11bee8b69504/\\home\\wmnlab\\jackbedford\\data\\2023-11-01\\UDP_Bandlock_9S_Phone_Airport\\sm04\\#01\\data\\udp_dnlk_loss_latency\\home\\wmnlab\\jackbedford\\data\\2023-11-01\\UDP_Bandlock_9S_Phone_Airport\\sm06\\#01\\data\\udp_dnlk_loss_latency.csv\n",
      "100/216 /home/wmnlab/jackbedford/data/2023-11-01/UDP_Bandlock_9S_Phone_Airport/sm04/#01/data/handover_info_log.csv\n",
      "100/216 /home/wmnlab/jackbedford/data/2023-11-01/UDP_Bandlock_9S_Phone_Airport/sm04/#01/data/udp_dnlk_loss_latency.csv\n",
      "100/216 /home/wmnlab/jackbedford/data/2023-11-01/UDP_Bandlock_9S_Phone_Airport/sm04/#01/data/udp_uplk_loss_latency.csv\n",
      "100/216 /home/wmnlab/jackbedford/data/2023-11-01/UDP_Bandlock_9S_Phone_Airport/sm07/#01/data/handover_info_log.csv\n",
      "100/216 /home/wmnlab/jackbedford/data/2023-11-01/UDP_Bandlock_9S_Phone_Airport/sm07/#01/data/udp_dnlk_loss_latency.csv\n",
      "100/216 /home/wmnlab/jackbedford/data/2023-11-01/UDP_Bandlock_9S_Phone_Airport/sm07/#01/data/udp_uplk_loss_latency.csv\n"
     ]
    },
    {
     "data": {
      "application/vnd.jupyter.widget-view+json": {
       "model_id": "472d0f048adf4bc3aed06a330893d5fe",
       "version_major": 2,
       "version_minor": 0
      },
      "text/plain": [
       "  0%|                                                                                                         …"
      ]
     },
     "metadata": {},
     "output_type": "display_data"
    },
    {
     "name": "stdout",
     "output_type": "stream",
     "text": [
      "./20240312_150032342e_newest/20240314_060073cc2b/results/20240314_07515600001_1d4f11bee8b69504/\\home\\wmnlab\\jackbedford\\data\\2023-11-01\\UDP_Bandlock_9S_Phone_Airport\\sm04\\#01\\data\\udp_dnlk_loss_latency\\home\\wmnlab\\jackbedford\\data\\2023-11-01\\UDP_Bandlock_9S_Phone_Airport\\sm07\\#01\\data\\udp_dnlk_loss_latency.csv\n",
      "101/216 /home/wmnlab/jackbedford/data/2023-11-01/UDP_Bandlock_9S_Phone_Airport/sm04/#01/data/handover_info_log.csv\n",
      "101/216 /home/wmnlab/jackbedford/data/2023-11-01/UDP_Bandlock_9S_Phone_Airport/sm04/#01/data/udp_dnlk_loss_latency.csv\n",
      "101/216 /home/wmnlab/jackbedford/data/2023-11-01/UDP_Bandlock_9S_Phone_Airport/sm04/#01/data/udp_uplk_loss_latency.csv\n",
      "101/216 /home/wmnlab/jackbedford/data/2023-11-01/UDP_Bandlock_9S_Phone_Airport/sm08/#01/data/handover_info_log.csv\n",
      "101/216 /home/wmnlab/jackbedford/data/2023-11-01/UDP_Bandlock_9S_Phone_Airport/sm08/#01/data/udp_dnlk_loss_latency.csv\n",
      "101/216 /home/wmnlab/jackbedford/data/2023-11-01/UDP_Bandlock_9S_Phone_Airport/sm08/#01/data/udp_uplk_loss_latency.csv\n"
     ]
    },
    {
     "data": {
      "application/vnd.jupyter.widget-view+json": {
       "model_id": "dc280fde90e54f0aab42ef0ea31df74c",
       "version_major": 2,
       "version_minor": 0
      },
      "text/plain": [
       "  0%|                                                                                                         …"
      ]
     },
     "metadata": {},
     "output_type": "display_data"
    },
    {
     "name": "stdout",
     "output_type": "stream",
     "text": [
      "./20240312_150032342e_newest/20240314_060073cc2b/results/20240314_07515600001_1d4f11bee8b69504/\\home\\wmnlab\\jackbedford\\data\\2023-11-01\\UDP_Bandlock_9S_Phone_Airport\\sm04\\#01\\data\\udp_dnlk_loss_latency\\home\\wmnlab\\jackbedford\\data\\2023-11-01\\UDP_Bandlock_9S_Phone_Airport\\sm08\\#01\\data\\udp_dnlk_loss_latency.csv\n",
      "102/216 /home/wmnlab/jackbedford/data/2023-11-01/UDP_Bandlock_9S_Phone_Airport/sm05/#01/data/handover_info_log.csv\n",
      "102/216 /home/wmnlab/jackbedford/data/2023-11-01/UDP_Bandlock_9S_Phone_Airport/sm05/#01/data/udp_dnlk_loss_latency.csv\n",
      "102/216 /home/wmnlab/jackbedford/data/2023-11-01/UDP_Bandlock_9S_Phone_Airport/sm05/#01/data/udp_uplk_loss_latency.csv\n",
      "102/216 /home/wmnlab/jackbedford/data/2023-11-01/UDP_Bandlock_9S_Phone_Airport/sm06/#01/data/handover_info_log.csv\n",
      "102/216 /home/wmnlab/jackbedford/data/2023-11-01/UDP_Bandlock_9S_Phone_Airport/sm06/#01/data/udp_dnlk_loss_latency.csv\n",
      "102/216 /home/wmnlab/jackbedford/data/2023-11-01/UDP_Bandlock_9S_Phone_Airport/sm06/#01/data/udp_uplk_loss_latency.csv\n"
     ]
    },
    {
     "data": {
      "application/vnd.jupyter.widget-view+json": {
       "model_id": "1149daad5a4f44198531b03be681aea1",
       "version_major": 2,
       "version_minor": 0
      },
      "text/plain": [
       "  0%|                                                                                                         …"
      ]
     },
     "metadata": {},
     "output_type": "display_data"
    },
    {
     "name": "stdout",
     "output_type": "stream",
     "text": [
      "./20240312_150032342e_newest/20240314_060073cc2b/results/20240314_07515600001_1d4f11bee8b69504/\\home\\wmnlab\\jackbedford\\data\\2023-11-01\\UDP_Bandlock_9S_Phone_Airport\\sm05\\#01\\data\\udp_dnlk_loss_latency\\home\\wmnlab\\jackbedford\\data\\2023-11-01\\UDP_Bandlock_9S_Phone_Airport\\sm06\\#01\\data\\udp_dnlk_loss_latency.csv\n",
      "103/216 /home/wmnlab/jackbedford/data/2023-11-01/UDP_Bandlock_9S_Phone_Airport/sm05/#01/data/handover_info_log.csv\n",
      "103/216 /home/wmnlab/jackbedford/data/2023-11-01/UDP_Bandlock_9S_Phone_Airport/sm05/#01/data/udp_dnlk_loss_latency.csv\n",
      "103/216 /home/wmnlab/jackbedford/data/2023-11-01/UDP_Bandlock_9S_Phone_Airport/sm05/#01/data/udp_uplk_loss_latency.csv\n",
      "103/216 /home/wmnlab/jackbedford/data/2023-11-01/UDP_Bandlock_9S_Phone_Airport/sm07/#01/data/handover_info_log.csv\n",
      "103/216 /home/wmnlab/jackbedford/data/2023-11-01/UDP_Bandlock_9S_Phone_Airport/sm07/#01/data/udp_dnlk_loss_latency.csv\n",
      "103/216 /home/wmnlab/jackbedford/data/2023-11-01/UDP_Bandlock_9S_Phone_Airport/sm07/#01/data/udp_uplk_loss_latency.csv\n"
     ]
    },
    {
     "data": {
      "application/vnd.jupyter.widget-view+json": {
       "model_id": "7e0b4970b8484b4787313bfd1928cf0c",
       "version_major": 2,
       "version_minor": 0
      },
      "text/plain": [
       "  0%|                                                                                                         …"
      ]
     },
     "metadata": {},
     "output_type": "display_data"
    },
    {
     "name": "stdout",
     "output_type": "stream",
     "text": [
      "./20240312_150032342e_newest/20240314_060073cc2b/results/20240314_07515600001_1d4f11bee8b69504/\\home\\wmnlab\\jackbedford\\data\\2023-11-01\\UDP_Bandlock_9S_Phone_Airport\\sm05\\#01\\data\\udp_dnlk_loss_latency\\home\\wmnlab\\jackbedford\\data\\2023-11-01\\UDP_Bandlock_9S_Phone_Airport\\sm07\\#01\\data\\udp_dnlk_loss_latency.csv\n",
      "104/216 /home/wmnlab/jackbedford/data/2023-11-01/UDP_Bandlock_9S_Phone_Airport/sm05/#01/data/handover_info_log.csv\n",
      "104/216 /home/wmnlab/jackbedford/data/2023-11-01/UDP_Bandlock_9S_Phone_Airport/sm05/#01/data/udp_dnlk_loss_latency.csv\n",
      "104/216 /home/wmnlab/jackbedford/data/2023-11-01/UDP_Bandlock_9S_Phone_Airport/sm05/#01/data/udp_uplk_loss_latency.csv\n",
      "104/216 /home/wmnlab/jackbedford/data/2023-11-01/UDP_Bandlock_9S_Phone_Airport/sm08/#01/data/handover_info_log.csv\n",
      "104/216 /home/wmnlab/jackbedford/data/2023-11-01/UDP_Bandlock_9S_Phone_Airport/sm08/#01/data/udp_dnlk_loss_latency.csv\n",
      "104/216 /home/wmnlab/jackbedford/data/2023-11-01/UDP_Bandlock_9S_Phone_Airport/sm08/#01/data/udp_uplk_loss_latency.csv\n"
     ]
    },
    {
     "data": {
      "application/vnd.jupyter.widget-view+json": {
       "model_id": "65f5e1859e0f43a79d9b2416c7472b75",
       "version_major": 2,
       "version_minor": 0
      },
      "text/plain": [
       "  0%|                                                                                                         …"
      ]
     },
     "metadata": {},
     "output_type": "display_data"
    },
    {
     "name": "stdout",
     "output_type": "stream",
     "text": [
      "./20240312_150032342e_newest/20240314_060073cc2b/results/20240314_07515600001_1d4f11bee8b69504/\\home\\wmnlab\\jackbedford\\data\\2023-11-01\\UDP_Bandlock_9S_Phone_Airport\\sm05\\#01\\data\\udp_dnlk_loss_latency\\home\\wmnlab\\jackbedford\\data\\2023-11-01\\UDP_Bandlock_9S_Phone_Airport\\sm08\\#01\\data\\udp_dnlk_loss_latency.csv\n",
      "105/216 /home/wmnlab/jackbedford/data/2023-11-01/UDP_Bandlock_9S_Phone_Airport/sm06/#01/data/handover_info_log.csv\n",
      "105/216 /home/wmnlab/jackbedford/data/2023-11-01/UDP_Bandlock_9S_Phone_Airport/sm06/#01/data/udp_dnlk_loss_latency.csv\n",
      "105/216 /home/wmnlab/jackbedford/data/2023-11-01/UDP_Bandlock_9S_Phone_Airport/sm06/#01/data/udp_uplk_loss_latency.csv\n",
      "105/216 /home/wmnlab/jackbedford/data/2023-11-01/UDP_Bandlock_9S_Phone_Airport/sm07/#01/data/handover_info_log.csv\n",
      "105/216 /home/wmnlab/jackbedford/data/2023-11-01/UDP_Bandlock_9S_Phone_Airport/sm07/#01/data/udp_dnlk_loss_latency.csv\n",
      "105/216 /home/wmnlab/jackbedford/data/2023-11-01/UDP_Bandlock_9S_Phone_Airport/sm07/#01/data/udp_uplk_loss_latency.csv\n"
     ]
    },
    {
     "data": {
      "application/vnd.jupyter.widget-view+json": {
       "model_id": "0019145dde874c27b6a3817c610cfff6",
       "version_major": 2,
       "version_minor": 0
      },
      "text/plain": [
       "  0%|                                                                                                         …"
      ]
     },
     "metadata": {},
     "output_type": "display_data"
    },
    {
     "name": "stdout",
     "output_type": "stream",
     "text": [
      "./20240312_150032342e_newest/20240314_060073cc2b/results/20240314_07515600001_1d4f11bee8b69504/\\home\\wmnlab\\jackbedford\\data\\2023-11-01\\UDP_Bandlock_9S_Phone_Airport\\sm06\\#01\\data\\udp_dnlk_loss_latency\\home\\wmnlab\\jackbedford\\data\\2023-11-01\\UDP_Bandlock_9S_Phone_Airport\\sm07\\#01\\data\\udp_dnlk_loss_latency.csv\n",
      "106/216 /home/wmnlab/jackbedford/data/2023-11-01/UDP_Bandlock_9S_Phone_Airport/sm06/#01/data/handover_info_log.csv\n",
      "106/216 /home/wmnlab/jackbedford/data/2023-11-01/UDP_Bandlock_9S_Phone_Airport/sm06/#01/data/udp_dnlk_loss_latency.csv\n",
      "106/216 /home/wmnlab/jackbedford/data/2023-11-01/UDP_Bandlock_9S_Phone_Airport/sm06/#01/data/udp_uplk_loss_latency.csv\n",
      "106/216 /home/wmnlab/jackbedford/data/2023-11-01/UDP_Bandlock_9S_Phone_Airport/sm08/#01/data/handover_info_log.csv\n",
      "106/216 /home/wmnlab/jackbedford/data/2023-11-01/UDP_Bandlock_9S_Phone_Airport/sm08/#01/data/udp_dnlk_loss_latency.csv\n",
      "106/216 /home/wmnlab/jackbedford/data/2023-11-01/UDP_Bandlock_9S_Phone_Airport/sm08/#01/data/udp_uplk_loss_latency.csv\n"
     ]
    },
    {
     "data": {
      "application/vnd.jupyter.widget-view+json": {
       "model_id": "88ba0cdcde654851a0df5376da66f692",
       "version_major": 2,
       "version_minor": 0
      },
      "text/plain": [
       "  0%|                                                                                                         …"
      ]
     },
     "metadata": {},
     "output_type": "display_data"
    },
    {
     "name": "stdout",
     "output_type": "stream",
     "text": [
      "./20240312_150032342e_newest/20240314_060073cc2b/results/20240314_07515600001_1d4f11bee8b69504/\\home\\wmnlab\\jackbedford\\data\\2023-11-01\\UDP_Bandlock_9S_Phone_Airport\\sm06\\#01\\data\\udp_dnlk_loss_latency\\home\\wmnlab\\jackbedford\\data\\2023-11-01\\UDP_Bandlock_9S_Phone_Airport\\sm08\\#01\\data\\udp_dnlk_loss_latency.csv\n",
      "107/216 /home/wmnlab/jackbedford/data/2023-11-01/UDP_Bandlock_9S_Phone_Airport/sm07/#01/data/handover_info_log.csv\n",
      "107/216 /home/wmnlab/jackbedford/data/2023-11-01/UDP_Bandlock_9S_Phone_Airport/sm07/#01/data/udp_dnlk_loss_latency.csv\n",
      "107/216 /home/wmnlab/jackbedford/data/2023-11-01/UDP_Bandlock_9S_Phone_Airport/sm07/#01/data/udp_uplk_loss_latency.csv\n",
      "107/216 /home/wmnlab/jackbedford/data/2023-11-01/UDP_Bandlock_9S_Phone_Airport/sm08/#01/data/handover_info_log.csv\n",
      "107/216 /home/wmnlab/jackbedford/data/2023-11-01/UDP_Bandlock_9S_Phone_Airport/sm08/#01/data/udp_dnlk_loss_latency.csv\n",
      "107/216 /home/wmnlab/jackbedford/data/2023-11-01/UDP_Bandlock_9S_Phone_Airport/sm08/#01/data/udp_uplk_loss_latency.csv\n"
     ]
    },
    {
     "data": {
      "application/vnd.jupyter.widget-view+json": {
       "model_id": "abba5ac5437f4905ba658489a96fd6da",
       "version_major": 2,
       "version_minor": 0
      },
      "text/plain": [
       "  0%|                                                                                                         …"
      ]
     },
     "metadata": {},
     "output_type": "display_data"
    },
    {
     "name": "stdout",
     "output_type": "stream",
     "text": [
      "./20240312_150032342e_newest/20240314_060073cc2b/results/20240314_07515600001_1d4f11bee8b69504/\\home\\wmnlab\\jackbedford\\data\\2023-11-01\\UDP_Bandlock_9S_Phone_Airport\\sm07\\#01\\data\\udp_dnlk_loss_latency\\home\\wmnlab\\jackbedford\\data\\2023-11-01\\UDP_Bandlock_9S_Phone_Airport\\sm08\\#01\\data\\udp_dnlk_loss_latency.csv\n",
      "108/216 /home/wmnlab/jackbedford/data/2023-11-01/UDP_Bandlock_9S_Phone_Airport/sm00/#02/data/handover_info_log.csv\n",
      "108/216 /home/wmnlab/jackbedford/data/2023-11-01/UDP_Bandlock_9S_Phone_Airport/sm00/#02/data/udp_dnlk_loss_latency.csv\n",
      "108/216 /home/wmnlab/jackbedford/data/2023-11-01/UDP_Bandlock_9S_Phone_Airport/sm00/#02/data/udp_uplk_loss_latency.csv\n",
      "108/216 /home/wmnlab/jackbedford/data/2023-11-01/UDP_Bandlock_9S_Phone_Airport/sm01/#02/data/handover_info_log.csv\n",
      "108/216 /home/wmnlab/jackbedford/data/2023-11-01/UDP_Bandlock_9S_Phone_Airport/sm01/#02/data/udp_dnlk_loss_latency.csv\n",
      "108/216 /home/wmnlab/jackbedford/data/2023-11-01/UDP_Bandlock_9S_Phone_Airport/sm01/#02/data/udp_uplk_loss_latency.csv\n"
     ]
    },
    {
     "data": {
      "application/vnd.jupyter.widget-view+json": {
       "model_id": "b8f15569ae724c66bb5ee66eb55f4803",
       "version_major": 2,
       "version_minor": 0
      },
      "text/plain": [
       "  0%|                                                                                                         …"
      ]
     },
     "metadata": {},
     "output_type": "display_data"
    },
    {
     "name": "stdout",
     "output_type": "stream",
     "text": [
      "./20240312_150032342e_newest/20240314_060073cc2b/results/20240314_07515600001_1d4f11bee8b69504/\\home\\wmnlab\\jackbedford\\data\\2023-11-01\\UDP_Bandlock_9S_Phone_Airport\\sm00\\#02\\data\\udp_dnlk_loss_latency\\home\\wmnlab\\jackbedford\\data\\2023-11-01\\UDP_Bandlock_9S_Phone_Airport\\sm01\\#02\\data\\udp_dnlk_loss_latency.csv\n",
      "109/216 /home/wmnlab/jackbedford/data/2023-11-01/UDP_Bandlock_9S_Phone_Airport/sm00/#02/data/handover_info_log.csv\n",
      "109/216 /home/wmnlab/jackbedford/data/2023-11-01/UDP_Bandlock_9S_Phone_Airport/sm00/#02/data/udp_dnlk_loss_latency.csv\n",
      "109/216 /home/wmnlab/jackbedford/data/2023-11-01/UDP_Bandlock_9S_Phone_Airport/sm00/#02/data/udp_uplk_loss_latency.csv\n",
      "109/216 /home/wmnlab/jackbedford/data/2023-11-01/UDP_Bandlock_9S_Phone_Airport/sm02/#02/data/handover_info_log.csv\n",
      "109/216 /home/wmnlab/jackbedford/data/2023-11-01/UDP_Bandlock_9S_Phone_Airport/sm02/#02/data/udp_dnlk_loss_latency.csv\n",
      "109/216 /home/wmnlab/jackbedford/data/2023-11-01/UDP_Bandlock_9S_Phone_Airport/sm02/#02/data/udp_uplk_loss_latency.csv\n"
     ]
    },
    {
     "data": {
      "application/vnd.jupyter.widget-view+json": {
       "model_id": "843390fe57284552a3b802ac2ec946c3",
       "version_major": 2,
       "version_minor": 0
      },
      "text/plain": [
       "  0%|                                                                                                         …"
      ]
     },
     "metadata": {},
     "output_type": "display_data"
    },
    {
     "name": "stdout",
     "output_type": "stream",
     "text": [
      "./20240312_150032342e_newest/20240314_060073cc2b/results/20240314_07515600001_1d4f11bee8b69504/\\home\\wmnlab\\jackbedford\\data\\2023-11-01\\UDP_Bandlock_9S_Phone_Airport\\sm00\\#02\\data\\udp_dnlk_loss_latency\\home\\wmnlab\\jackbedford\\data\\2023-11-01\\UDP_Bandlock_9S_Phone_Airport\\sm02\\#02\\data\\udp_dnlk_loss_latency.csv\n",
      "110/216 /home/wmnlab/jackbedford/data/2023-11-01/UDP_Bandlock_9S_Phone_Airport/sm00/#02/data/handover_info_log.csv\n",
      "110/216 /home/wmnlab/jackbedford/data/2023-11-01/UDP_Bandlock_9S_Phone_Airport/sm00/#02/data/udp_dnlk_loss_latency.csv\n",
      "110/216 /home/wmnlab/jackbedford/data/2023-11-01/UDP_Bandlock_9S_Phone_Airport/sm00/#02/data/udp_uplk_loss_latency.csv\n",
      "110/216 /home/wmnlab/jackbedford/data/2023-11-01/UDP_Bandlock_9S_Phone_Airport/sm03/#02/data/handover_info_log.csv\n",
      "110/216 /home/wmnlab/jackbedford/data/2023-11-01/UDP_Bandlock_9S_Phone_Airport/sm03/#02/data/udp_dnlk_loss_latency.csv\n",
      "110/216 /home/wmnlab/jackbedford/data/2023-11-01/UDP_Bandlock_9S_Phone_Airport/sm03/#02/data/udp_uplk_loss_latency.csv\n"
     ]
    },
    {
     "data": {
      "application/vnd.jupyter.widget-view+json": {
       "model_id": "a90b47d7a5d54061a4a72efdad4ece70",
       "version_major": 2,
       "version_minor": 0
      },
      "text/plain": [
       "  0%|                                                                                                         …"
      ]
     },
     "metadata": {},
     "output_type": "display_data"
    },
    {
     "name": "stdout",
     "output_type": "stream",
     "text": [
      "./20240312_150032342e_newest/20240314_060073cc2b/results/20240314_07515600001_1d4f11bee8b69504/\\home\\wmnlab\\jackbedford\\data\\2023-11-01\\UDP_Bandlock_9S_Phone_Airport\\sm00\\#02\\data\\udp_dnlk_loss_latency\\home\\wmnlab\\jackbedford\\data\\2023-11-01\\UDP_Bandlock_9S_Phone_Airport\\sm03\\#02\\data\\udp_dnlk_loss_latency.csv\n",
      "111/216 /home/wmnlab/jackbedford/data/2023-11-01/UDP_Bandlock_9S_Phone_Airport/sm00/#02/data/handover_info_log.csv\n",
      "111/216 /home/wmnlab/jackbedford/data/2023-11-01/UDP_Bandlock_9S_Phone_Airport/sm00/#02/data/udp_dnlk_loss_latency.csv\n",
      "111/216 /home/wmnlab/jackbedford/data/2023-11-01/UDP_Bandlock_9S_Phone_Airport/sm00/#02/data/udp_uplk_loss_latency.csv\n",
      "111/216 /home/wmnlab/jackbedford/data/2023-11-01/UDP_Bandlock_9S_Phone_Airport/sm04/#02/data/handover_info_log.csv\n",
      "111/216 /home/wmnlab/jackbedford/data/2023-11-01/UDP_Bandlock_9S_Phone_Airport/sm04/#02/data/udp_dnlk_loss_latency.csv\n",
      "111/216 /home/wmnlab/jackbedford/data/2023-11-01/UDP_Bandlock_9S_Phone_Airport/sm04/#02/data/udp_uplk_loss_latency.csv\n"
     ]
    },
    {
     "data": {
      "application/vnd.jupyter.widget-view+json": {
       "model_id": "6ea01d0eb39545e0abf0fb50d9b72d2e",
       "version_major": 2,
       "version_minor": 0
      },
      "text/plain": [
       "  0%|                                                                                                         …"
      ]
     },
     "metadata": {},
     "output_type": "display_data"
    },
    {
     "name": "stdout",
     "output_type": "stream",
     "text": [
      "./20240312_150032342e_newest/20240314_060073cc2b/results/20240314_07515600001_1d4f11bee8b69504/\\home\\wmnlab\\jackbedford\\data\\2023-11-01\\UDP_Bandlock_9S_Phone_Airport\\sm00\\#02\\data\\udp_dnlk_loss_latency\\home\\wmnlab\\jackbedford\\data\\2023-11-01\\UDP_Bandlock_9S_Phone_Airport\\sm04\\#02\\data\\udp_dnlk_loss_latency.csv\n",
      "112/216 /home/wmnlab/jackbedford/data/2023-11-01/UDP_Bandlock_9S_Phone_Airport/sm00/#02/data/handover_info_log.csv\n",
      "112/216 /home/wmnlab/jackbedford/data/2023-11-01/UDP_Bandlock_9S_Phone_Airport/sm00/#02/data/udp_dnlk_loss_latency.csv\n",
      "112/216 /home/wmnlab/jackbedford/data/2023-11-01/UDP_Bandlock_9S_Phone_Airport/sm00/#02/data/udp_uplk_loss_latency.csv\n",
      "112/216 /home/wmnlab/jackbedford/data/2023-11-01/UDP_Bandlock_9S_Phone_Airport/sm05/#02/data/handover_info_log.csv\n",
      "112/216 /home/wmnlab/jackbedford/data/2023-11-01/UDP_Bandlock_9S_Phone_Airport/sm05/#02/data/udp_dnlk_loss_latency.csv\n",
      "112/216 /home/wmnlab/jackbedford/data/2023-11-01/UDP_Bandlock_9S_Phone_Airport/sm05/#02/data/udp_uplk_loss_latency.csv\n"
     ]
    },
    {
     "data": {
      "application/vnd.jupyter.widget-view+json": {
       "model_id": "54d65f1838a34c8c98792d7d56bad130",
       "version_major": 2,
       "version_minor": 0
      },
      "text/plain": [
       "  0%|                                                                                                         …"
      ]
     },
     "metadata": {},
     "output_type": "display_data"
    },
    {
     "name": "stdout",
     "output_type": "stream",
     "text": [
      "./20240312_150032342e_newest/20240314_060073cc2b/results/20240314_07515600001_1d4f11bee8b69504/\\home\\wmnlab\\jackbedford\\data\\2023-11-01\\UDP_Bandlock_9S_Phone_Airport\\sm00\\#02\\data\\udp_dnlk_loss_latency\\home\\wmnlab\\jackbedford\\data\\2023-11-01\\UDP_Bandlock_9S_Phone_Airport\\sm05\\#02\\data\\udp_dnlk_loss_latency.csv\n",
      "113/216 /home/wmnlab/jackbedford/data/2023-11-01/UDP_Bandlock_9S_Phone_Airport/sm00/#02/data/handover_info_log.csv\n",
      "113/216 /home/wmnlab/jackbedford/data/2023-11-01/UDP_Bandlock_9S_Phone_Airport/sm00/#02/data/udp_dnlk_loss_latency.csv\n",
      "113/216 /home/wmnlab/jackbedford/data/2023-11-01/UDP_Bandlock_9S_Phone_Airport/sm00/#02/data/udp_uplk_loss_latency.csv\n",
      "113/216 /home/wmnlab/jackbedford/data/2023-11-01/UDP_Bandlock_9S_Phone_Airport/sm06/#02/data/handover_info_log.csv\n",
      "113/216 /home/wmnlab/jackbedford/data/2023-11-01/UDP_Bandlock_9S_Phone_Airport/sm06/#02/data/udp_dnlk_loss_latency.csv\n",
      "113/216 /home/wmnlab/jackbedford/data/2023-11-01/UDP_Bandlock_9S_Phone_Airport/sm06/#02/data/udp_uplk_loss_latency.csv\n"
     ]
    },
    {
     "data": {
      "application/vnd.jupyter.widget-view+json": {
       "model_id": "b66dc0acf9b64247b747d0e38b150fcf",
       "version_major": 2,
       "version_minor": 0
      },
      "text/plain": [
       "  0%|                                                                                                         …"
      ]
     },
     "metadata": {},
     "output_type": "display_data"
    },
    {
     "name": "stdout",
     "output_type": "stream",
     "text": [
      "./20240312_150032342e_newest/20240314_060073cc2b/results/20240314_07515600001_1d4f11bee8b69504/\\home\\wmnlab\\jackbedford\\data\\2023-11-01\\UDP_Bandlock_9S_Phone_Airport\\sm00\\#02\\data\\udp_dnlk_loss_latency\\home\\wmnlab\\jackbedford\\data\\2023-11-01\\UDP_Bandlock_9S_Phone_Airport\\sm06\\#02\\data\\udp_dnlk_loss_latency.csv\n",
      "114/216 /home/wmnlab/jackbedford/data/2023-11-01/UDP_Bandlock_9S_Phone_Airport/sm00/#02/data/handover_info_log.csv\n",
      "114/216 /home/wmnlab/jackbedford/data/2023-11-01/UDP_Bandlock_9S_Phone_Airport/sm00/#02/data/udp_dnlk_loss_latency.csv\n",
      "114/216 /home/wmnlab/jackbedford/data/2023-11-01/UDP_Bandlock_9S_Phone_Airport/sm00/#02/data/udp_uplk_loss_latency.csv\n",
      "114/216 /home/wmnlab/jackbedford/data/2023-11-01/UDP_Bandlock_9S_Phone_Airport/sm07/#02/data/handover_info_log.csv\n",
      "114/216 /home/wmnlab/jackbedford/data/2023-11-01/UDP_Bandlock_9S_Phone_Airport/sm07/#02/data/udp_dnlk_loss_latency.csv\n",
      "114/216 /home/wmnlab/jackbedford/data/2023-11-01/UDP_Bandlock_9S_Phone_Airport/sm07/#02/data/udp_uplk_loss_latency.csv\n"
     ]
    },
    {
     "data": {
      "application/vnd.jupyter.widget-view+json": {
       "model_id": "e2ab42f2087d4dbead9020f6f7e9fc88",
       "version_major": 2,
       "version_minor": 0
      },
      "text/plain": [
       "  0%|                                                                                                         …"
      ]
     },
     "metadata": {},
     "output_type": "display_data"
    },
    {
     "name": "stdout",
     "output_type": "stream",
     "text": [
      "./20240312_150032342e_newest/20240314_060073cc2b/results/20240314_07515600001_1d4f11bee8b69504/\\home\\wmnlab\\jackbedford\\data\\2023-11-01\\UDP_Bandlock_9S_Phone_Airport\\sm00\\#02\\data\\udp_dnlk_loss_latency\\home\\wmnlab\\jackbedford\\data\\2023-11-01\\UDP_Bandlock_9S_Phone_Airport\\sm07\\#02\\data\\udp_dnlk_loss_latency.csv\n",
      "115/216 /home/wmnlab/jackbedford/data/2023-11-01/UDP_Bandlock_9S_Phone_Airport/sm00/#02/data/handover_info_log.csv\n",
      "115/216 /home/wmnlab/jackbedford/data/2023-11-01/UDP_Bandlock_9S_Phone_Airport/sm00/#02/data/udp_dnlk_loss_latency.csv\n",
      "115/216 /home/wmnlab/jackbedford/data/2023-11-01/UDP_Bandlock_9S_Phone_Airport/sm00/#02/data/udp_uplk_loss_latency.csv\n",
      "115/216 /home/wmnlab/jackbedford/data/2023-11-01/UDP_Bandlock_9S_Phone_Airport/sm08/#02/data/handover_info_log.csv\n",
      "115/216 /home/wmnlab/jackbedford/data/2023-11-01/UDP_Bandlock_9S_Phone_Airport/sm08/#02/data/udp_dnlk_loss_latency.csv\n",
      "115/216 /home/wmnlab/jackbedford/data/2023-11-01/UDP_Bandlock_9S_Phone_Airport/sm08/#02/data/udp_uplk_loss_latency.csv\n"
     ]
    },
    {
     "data": {
      "application/vnd.jupyter.widget-view+json": {
       "model_id": "876be456360c4813872d3fd7516d4329",
       "version_major": 2,
       "version_minor": 0
      },
      "text/plain": [
       "  0%|                                                                                                         …"
      ]
     },
     "metadata": {},
     "output_type": "display_data"
    },
    {
     "name": "stdout",
     "output_type": "stream",
     "text": [
      "./20240312_150032342e_newest/20240314_060073cc2b/results/20240314_07515600001_1d4f11bee8b69504/\\home\\wmnlab\\jackbedford\\data\\2023-11-01\\UDP_Bandlock_9S_Phone_Airport\\sm00\\#02\\data\\udp_dnlk_loss_latency\\home\\wmnlab\\jackbedford\\data\\2023-11-01\\UDP_Bandlock_9S_Phone_Airport\\sm08\\#02\\data\\udp_dnlk_loss_latency.csv\n",
      "116/216 /home/wmnlab/jackbedford/data/2023-11-01/UDP_Bandlock_9S_Phone_Airport/sm01/#02/data/handover_info_log.csv\n",
      "116/216 /home/wmnlab/jackbedford/data/2023-11-01/UDP_Bandlock_9S_Phone_Airport/sm01/#02/data/udp_dnlk_loss_latency.csv\n",
      "116/216 /home/wmnlab/jackbedford/data/2023-11-01/UDP_Bandlock_9S_Phone_Airport/sm01/#02/data/udp_uplk_loss_latency.csv\n",
      "116/216 /home/wmnlab/jackbedford/data/2023-11-01/UDP_Bandlock_9S_Phone_Airport/sm02/#02/data/handover_info_log.csv\n",
      "116/216 /home/wmnlab/jackbedford/data/2023-11-01/UDP_Bandlock_9S_Phone_Airport/sm02/#02/data/udp_dnlk_loss_latency.csv\n",
      "116/216 /home/wmnlab/jackbedford/data/2023-11-01/UDP_Bandlock_9S_Phone_Airport/sm02/#02/data/udp_uplk_loss_latency.csv\n"
     ]
    },
    {
     "data": {
      "application/vnd.jupyter.widget-view+json": {
       "model_id": "4ce40d64ca3f499d92b25327f12eedc5",
       "version_major": 2,
       "version_minor": 0
      },
      "text/plain": [
       "  0%|                                                                                                         …"
      ]
     },
     "metadata": {},
     "output_type": "display_data"
    },
    {
     "name": "stdout",
     "output_type": "stream",
     "text": [
      "./20240312_150032342e_newest/20240314_060073cc2b/results/20240314_07515600001_1d4f11bee8b69504/\\home\\wmnlab\\jackbedford\\data\\2023-11-01\\UDP_Bandlock_9S_Phone_Airport\\sm01\\#02\\data\\udp_dnlk_loss_latency\\home\\wmnlab\\jackbedford\\data\\2023-11-01\\UDP_Bandlock_9S_Phone_Airport\\sm02\\#02\\data\\udp_dnlk_loss_latency.csv\n",
      "117/216 /home/wmnlab/jackbedford/data/2023-11-01/UDP_Bandlock_9S_Phone_Airport/sm01/#02/data/handover_info_log.csv\n",
      "117/216 /home/wmnlab/jackbedford/data/2023-11-01/UDP_Bandlock_9S_Phone_Airport/sm01/#02/data/udp_dnlk_loss_latency.csv\n",
      "117/216 /home/wmnlab/jackbedford/data/2023-11-01/UDP_Bandlock_9S_Phone_Airport/sm01/#02/data/udp_uplk_loss_latency.csv\n",
      "117/216 /home/wmnlab/jackbedford/data/2023-11-01/UDP_Bandlock_9S_Phone_Airport/sm03/#02/data/handover_info_log.csv\n",
      "117/216 /home/wmnlab/jackbedford/data/2023-11-01/UDP_Bandlock_9S_Phone_Airport/sm03/#02/data/udp_dnlk_loss_latency.csv\n",
      "117/216 /home/wmnlab/jackbedford/data/2023-11-01/UDP_Bandlock_9S_Phone_Airport/sm03/#02/data/udp_uplk_loss_latency.csv\n"
     ]
    },
    {
     "data": {
      "application/vnd.jupyter.widget-view+json": {
       "model_id": "de0d058b01244a4b83f9acbbcd0c07bc",
       "version_major": 2,
       "version_minor": 0
      },
      "text/plain": [
       "  0%|                                                                                                         …"
      ]
     },
     "metadata": {},
     "output_type": "display_data"
    },
    {
     "name": "stdout",
     "output_type": "stream",
     "text": [
      "./20240312_150032342e_newest/20240314_060073cc2b/results/20240314_07515600001_1d4f11bee8b69504/\\home\\wmnlab\\jackbedford\\data\\2023-11-01\\UDP_Bandlock_9S_Phone_Airport\\sm01\\#02\\data\\udp_dnlk_loss_latency\\home\\wmnlab\\jackbedford\\data\\2023-11-01\\UDP_Bandlock_9S_Phone_Airport\\sm03\\#02\\data\\udp_dnlk_loss_latency.csv\n",
      "118/216 /home/wmnlab/jackbedford/data/2023-11-01/UDP_Bandlock_9S_Phone_Airport/sm01/#02/data/handover_info_log.csv\n",
      "118/216 /home/wmnlab/jackbedford/data/2023-11-01/UDP_Bandlock_9S_Phone_Airport/sm01/#02/data/udp_dnlk_loss_latency.csv\n",
      "118/216 /home/wmnlab/jackbedford/data/2023-11-01/UDP_Bandlock_9S_Phone_Airport/sm01/#02/data/udp_uplk_loss_latency.csv\n",
      "118/216 /home/wmnlab/jackbedford/data/2023-11-01/UDP_Bandlock_9S_Phone_Airport/sm04/#02/data/handover_info_log.csv\n",
      "118/216 /home/wmnlab/jackbedford/data/2023-11-01/UDP_Bandlock_9S_Phone_Airport/sm04/#02/data/udp_dnlk_loss_latency.csv\n",
      "118/216 /home/wmnlab/jackbedford/data/2023-11-01/UDP_Bandlock_9S_Phone_Airport/sm04/#02/data/udp_uplk_loss_latency.csv\n"
     ]
    },
    {
     "data": {
      "application/vnd.jupyter.widget-view+json": {
       "model_id": "049abda6c7ac487e8683afd9126b45f9",
       "version_major": 2,
       "version_minor": 0
      },
      "text/plain": [
       "  0%|                                                                                                         …"
      ]
     },
     "metadata": {},
     "output_type": "display_data"
    },
    {
     "name": "stdout",
     "output_type": "stream",
     "text": [
      "./20240312_150032342e_newest/20240314_060073cc2b/results/20240314_07515600001_1d4f11bee8b69504/\\home\\wmnlab\\jackbedford\\data\\2023-11-01\\UDP_Bandlock_9S_Phone_Airport\\sm01\\#02\\data\\udp_dnlk_loss_latency\\home\\wmnlab\\jackbedford\\data\\2023-11-01\\UDP_Bandlock_9S_Phone_Airport\\sm04\\#02\\data\\udp_dnlk_loss_latency.csv\n",
      "119/216 /home/wmnlab/jackbedford/data/2023-11-01/UDP_Bandlock_9S_Phone_Airport/sm01/#02/data/handover_info_log.csv\n",
      "119/216 /home/wmnlab/jackbedford/data/2023-11-01/UDP_Bandlock_9S_Phone_Airport/sm01/#02/data/udp_dnlk_loss_latency.csv\n",
      "119/216 /home/wmnlab/jackbedford/data/2023-11-01/UDP_Bandlock_9S_Phone_Airport/sm01/#02/data/udp_uplk_loss_latency.csv\n",
      "119/216 /home/wmnlab/jackbedford/data/2023-11-01/UDP_Bandlock_9S_Phone_Airport/sm05/#02/data/handover_info_log.csv\n",
      "119/216 /home/wmnlab/jackbedford/data/2023-11-01/UDP_Bandlock_9S_Phone_Airport/sm05/#02/data/udp_dnlk_loss_latency.csv\n",
      "119/216 /home/wmnlab/jackbedford/data/2023-11-01/UDP_Bandlock_9S_Phone_Airport/sm05/#02/data/udp_uplk_loss_latency.csv\n"
     ]
    },
    {
     "data": {
      "application/vnd.jupyter.widget-view+json": {
       "model_id": "88cc028a0b06473dac5e9df5ca7d465f",
       "version_major": 2,
       "version_minor": 0
      },
      "text/plain": [
       "  0%|                                                                                                         …"
      ]
     },
     "metadata": {},
     "output_type": "display_data"
    },
    {
     "name": "stdout",
     "output_type": "stream",
     "text": [
      "./20240312_150032342e_newest/20240314_060073cc2b/results/20240314_07515600001_1d4f11bee8b69504/\\home\\wmnlab\\jackbedford\\data\\2023-11-01\\UDP_Bandlock_9S_Phone_Airport\\sm01\\#02\\data\\udp_dnlk_loss_latency\\home\\wmnlab\\jackbedford\\data\\2023-11-01\\UDP_Bandlock_9S_Phone_Airport\\sm05\\#02\\data\\udp_dnlk_loss_latency.csv\n",
      "120/216 /home/wmnlab/jackbedford/data/2023-11-01/UDP_Bandlock_9S_Phone_Airport/sm01/#02/data/handover_info_log.csv\n",
      "120/216 /home/wmnlab/jackbedford/data/2023-11-01/UDP_Bandlock_9S_Phone_Airport/sm01/#02/data/udp_dnlk_loss_latency.csv\n",
      "120/216 /home/wmnlab/jackbedford/data/2023-11-01/UDP_Bandlock_9S_Phone_Airport/sm01/#02/data/udp_uplk_loss_latency.csv\n",
      "120/216 /home/wmnlab/jackbedford/data/2023-11-01/UDP_Bandlock_9S_Phone_Airport/sm06/#02/data/handover_info_log.csv\n",
      "120/216 /home/wmnlab/jackbedford/data/2023-11-01/UDP_Bandlock_9S_Phone_Airport/sm06/#02/data/udp_dnlk_loss_latency.csv\n",
      "120/216 /home/wmnlab/jackbedford/data/2023-11-01/UDP_Bandlock_9S_Phone_Airport/sm06/#02/data/udp_uplk_loss_latency.csv\n"
     ]
    },
    {
     "data": {
      "application/vnd.jupyter.widget-view+json": {
       "model_id": "16f483da174d424386171a70c5ba4d9b",
       "version_major": 2,
       "version_minor": 0
      },
      "text/plain": [
       "  0%|                                                                                                         …"
      ]
     },
     "metadata": {},
     "output_type": "display_data"
    },
    {
     "name": "stdout",
     "output_type": "stream",
     "text": [
      "./20240312_150032342e_newest/20240314_060073cc2b/results/20240314_07515600001_1d4f11bee8b69504/\\home\\wmnlab\\jackbedford\\data\\2023-11-01\\UDP_Bandlock_9S_Phone_Airport\\sm01\\#02\\data\\udp_dnlk_loss_latency\\home\\wmnlab\\jackbedford\\data\\2023-11-01\\UDP_Bandlock_9S_Phone_Airport\\sm06\\#02\\data\\udp_dnlk_loss_latency.csv\n",
      "121/216 /home/wmnlab/jackbedford/data/2023-11-01/UDP_Bandlock_9S_Phone_Airport/sm01/#02/data/handover_info_log.csv\n",
      "121/216 /home/wmnlab/jackbedford/data/2023-11-01/UDP_Bandlock_9S_Phone_Airport/sm01/#02/data/udp_dnlk_loss_latency.csv\n",
      "121/216 /home/wmnlab/jackbedford/data/2023-11-01/UDP_Bandlock_9S_Phone_Airport/sm01/#02/data/udp_uplk_loss_latency.csv\n",
      "121/216 /home/wmnlab/jackbedford/data/2023-11-01/UDP_Bandlock_9S_Phone_Airport/sm07/#02/data/handover_info_log.csv\n",
      "121/216 /home/wmnlab/jackbedford/data/2023-11-01/UDP_Bandlock_9S_Phone_Airport/sm07/#02/data/udp_dnlk_loss_latency.csv\n",
      "121/216 /home/wmnlab/jackbedford/data/2023-11-01/UDP_Bandlock_9S_Phone_Airport/sm07/#02/data/udp_uplk_loss_latency.csv\n"
     ]
    },
    {
     "data": {
      "application/vnd.jupyter.widget-view+json": {
       "model_id": "19f1546d96a84bd1a881ebd5f348a674",
       "version_major": 2,
       "version_minor": 0
      },
      "text/plain": [
       "  0%|                                                                                                         …"
      ]
     },
     "metadata": {},
     "output_type": "display_data"
    },
    {
     "name": "stdout",
     "output_type": "stream",
     "text": [
      "./20240312_150032342e_newest/20240314_060073cc2b/results/20240314_07515600001_1d4f11bee8b69504/\\home\\wmnlab\\jackbedford\\data\\2023-11-01\\UDP_Bandlock_9S_Phone_Airport\\sm01\\#02\\data\\udp_dnlk_loss_latency\\home\\wmnlab\\jackbedford\\data\\2023-11-01\\UDP_Bandlock_9S_Phone_Airport\\sm07\\#02\\data\\udp_dnlk_loss_latency.csv\n",
      "122/216 /home/wmnlab/jackbedford/data/2023-11-01/UDP_Bandlock_9S_Phone_Airport/sm01/#02/data/handover_info_log.csv\n",
      "122/216 /home/wmnlab/jackbedford/data/2023-11-01/UDP_Bandlock_9S_Phone_Airport/sm01/#02/data/udp_dnlk_loss_latency.csv\n",
      "122/216 /home/wmnlab/jackbedford/data/2023-11-01/UDP_Bandlock_9S_Phone_Airport/sm01/#02/data/udp_uplk_loss_latency.csv\n",
      "122/216 /home/wmnlab/jackbedford/data/2023-11-01/UDP_Bandlock_9S_Phone_Airport/sm08/#02/data/handover_info_log.csv\n",
      "122/216 /home/wmnlab/jackbedford/data/2023-11-01/UDP_Bandlock_9S_Phone_Airport/sm08/#02/data/udp_dnlk_loss_latency.csv\n",
      "122/216 /home/wmnlab/jackbedford/data/2023-11-01/UDP_Bandlock_9S_Phone_Airport/sm08/#02/data/udp_uplk_loss_latency.csv\n"
     ]
    },
    {
     "data": {
      "application/vnd.jupyter.widget-view+json": {
       "model_id": "83b641425b8a4cd79fc65a9beb2bc9f9",
       "version_major": 2,
       "version_minor": 0
      },
      "text/plain": [
       "  0%|                                                                                                         …"
      ]
     },
     "metadata": {},
     "output_type": "display_data"
    },
    {
     "name": "stdout",
     "output_type": "stream",
     "text": [
      "./20240312_150032342e_newest/20240314_060073cc2b/results/20240314_07515600001_1d4f11bee8b69504/\\home\\wmnlab\\jackbedford\\data\\2023-11-01\\UDP_Bandlock_9S_Phone_Airport\\sm01\\#02\\data\\udp_dnlk_loss_latency\\home\\wmnlab\\jackbedford\\data\\2023-11-01\\UDP_Bandlock_9S_Phone_Airport\\sm08\\#02\\data\\udp_dnlk_loss_latency.csv\n",
      "123/216 /home/wmnlab/jackbedford/data/2023-11-01/UDP_Bandlock_9S_Phone_Airport/sm02/#02/data/handover_info_log.csv\n",
      "123/216 /home/wmnlab/jackbedford/data/2023-11-01/UDP_Bandlock_9S_Phone_Airport/sm02/#02/data/udp_dnlk_loss_latency.csv\n",
      "123/216 /home/wmnlab/jackbedford/data/2023-11-01/UDP_Bandlock_9S_Phone_Airport/sm02/#02/data/udp_uplk_loss_latency.csv\n",
      "123/216 /home/wmnlab/jackbedford/data/2023-11-01/UDP_Bandlock_9S_Phone_Airport/sm03/#02/data/handover_info_log.csv\n",
      "123/216 /home/wmnlab/jackbedford/data/2023-11-01/UDP_Bandlock_9S_Phone_Airport/sm03/#02/data/udp_dnlk_loss_latency.csv\n",
      "123/216 /home/wmnlab/jackbedford/data/2023-11-01/UDP_Bandlock_9S_Phone_Airport/sm03/#02/data/udp_uplk_loss_latency.csv\n"
     ]
    },
    {
     "data": {
      "application/vnd.jupyter.widget-view+json": {
       "model_id": "063b83213f094d63bd171377a0b46d67",
       "version_major": 2,
       "version_minor": 0
      },
      "text/plain": [
       "  0%|                                                                                                         …"
      ]
     },
     "metadata": {},
     "output_type": "display_data"
    },
    {
     "name": "stdout",
     "output_type": "stream",
     "text": [
      "./20240312_150032342e_newest/20240314_060073cc2b/results/20240314_07515600001_1d4f11bee8b69504/\\home\\wmnlab\\jackbedford\\data\\2023-11-01\\UDP_Bandlock_9S_Phone_Airport\\sm02\\#02\\data\\udp_dnlk_loss_latency\\home\\wmnlab\\jackbedford\\data\\2023-11-01\\UDP_Bandlock_9S_Phone_Airport\\sm03\\#02\\data\\udp_dnlk_loss_latency.csv\n",
      "124/216 /home/wmnlab/jackbedford/data/2023-11-01/UDP_Bandlock_9S_Phone_Airport/sm02/#02/data/handover_info_log.csv\n",
      "124/216 /home/wmnlab/jackbedford/data/2023-11-01/UDP_Bandlock_9S_Phone_Airport/sm02/#02/data/udp_dnlk_loss_latency.csv\n",
      "124/216 /home/wmnlab/jackbedford/data/2023-11-01/UDP_Bandlock_9S_Phone_Airport/sm02/#02/data/udp_uplk_loss_latency.csv\n",
      "124/216 /home/wmnlab/jackbedford/data/2023-11-01/UDP_Bandlock_9S_Phone_Airport/sm04/#02/data/handover_info_log.csv\n",
      "124/216 /home/wmnlab/jackbedford/data/2023-11-01/UDP_Bandlock_9S_Phone_Airport/sm04/#02/data/udp_dnlk_loss_latency.csv\n",
      "124/216 /home/wmnlab/jackbedford/data/2023-11-01/UDP_Bandlock_9S_Phone_Airport/sm04/#02/data/udp_uplk_loss_latency.csv\n"
     ]
    },
    {
     "data": {
      "application/vnd.jupyter.widget-view+json": {
       "model_id": "68644abef1d2416cb3be2106f62d2cda",
       "version_major": 2,
       "version_minor": 0
      },
      "text/plain": [
       "  0%|                                                                                                         …"
      ]
     },
     "metadata": {},
     "output_type": "display_data"
    },
    {
     "name": "stdout",
     "output_type": "stream",
     "text": [
      "./20240312_150032342e_newest/20240314_060073cc2b/results/20240314_07515600001_1d4f11bee8b69504/\\home\\wmnlab\\jackbedford\\data\\2023-11-01\\UDP_Bandlock_9S_Phone_Airport\\sm02\\#02\\data\\udp_dnlk_loss_latency\\home\\wmnlab\\jackbedford\\data\\2023-11-01\\UDP_Bandlock_9S_Phone_Airport\\sm04\\#02\\data\\udp_dnlk_loss_latency.csv\n",
      "125/216 /home/wmnlab/jackbedford/data/2023-11-01/UDP_Bandlock_9S_Phone_Airport/sm02/#02/data/handover_info_log.csv\n",
      "125/216 /home/wmnlab/jackbedford/data/2023-11-01/UDP_Bandlock_9S_Phone_Airport/sm02/#02/data/udp_dnlk_loss_latency.csv\n",
      "125/216 /home/wmnlab/jackbedford/data/2023-11-01/UDP_Bandlock_9S_Phone_Airport/sm02/#02/data/udp_uplk_loss_latency.csv\n",
      "125/216 /home/wmnlab/jackbedford/data/2023-11-01/UDP_Bandlock_9S_Phone_Airport/sm05/#02/data/handover_info_log.csv\n",
      "125/216 /home/wmnlab/jackbedford/data/2023-11-01/UDP_Bandlock_9S_Phone_Airport/sm05/#02/data/udp_dnlk_loss_latency.csv\n",
      "125/216 /home/wmnlab/jackbedford/data/2023-11-01/UDP_Bandlock_9S_Phone_Airport/sm05/#02/data/udp_uplk_loss_latency.csv\n"
     ]
    },
    {
     "data": {
      "application/vnd.jupyter.widget-view+json": {
       "model_id": "0a2a8d13744644c78cd2f711c7d24618",
       "version_major": 2,
       "version_minor": 0
      },
      "text/plain": [
       "  0%|                                                                                                         …"
      ]
     },
     "metadata": {},
     "output_type": "display_data"
    },
    {
     "name": "stdout",
     "output_type": "stream",
     "text": [
      "./20240312_150032342e_newest/20240314_060073cc2b/results/20240314_07515600001_1d4f11bee8b69504/\\home\\wmnlab\\jackbedford\\data\\2023-11-01\\UDP_Bandlock_9S_Phone_Airport\\sm02\\#02\\data\\udp_dnlk_loss_latency\\home\\wmnlab\\jackbedford\\data\\2023-11-01\\UDP_Bandlock_9S_Phone_Airport\\sm05\\#02\\data\\udp_dnlk_loss_latency.csv\n",
      "126/216 /home/wmnlab/jackbedford/data/2023-11-01/UDP_Bandlock_9S_Phone_Airport/sm02/#02/data/handover_info_log.csv\n",
      "126/216 /home/wmnlab/jackbedford/data/2023-11-01/UDP_Bandlock_9S_Phone_Airport/sm02/#02/data/udp_dnlk_loss_latency.csv\n",
      "126/216 /home/wmnlab/jackbedford/data/2023-11-01/UDP_Bandlock_9S_Phone_Airport/sm02/#02/data/udp_uplk_loss_latency.csv\n",
      "126/216 /home/wmnlab/jackbedford/data/2023-11-01/UDP_Bandlock_9S_Phone_Airport/sm06/#02/data/handover_info_log.csv\n",
      "126/216 /home/wmnlab/jackbedford/data/2023-11-01/UDP_Bandlock_9S_Phone_Airport/sm06/#02/data/udp_dnlk_loss_latency.csv\n",
      "126/216 /home/wmnlab/jackbedford/data/2023-11-01/UDP_Bandlock_9S_Phone_Airport/sm06/#02/data/udp_uplk_loss_latency.csv\n"
     ]
    },
    {
     "data": {
      "application/vnd.jupyter.widget-view+json": {
       "model_id": "5d7c6859791f4ef4ae0014d5f8f6d6c2",
       "version_major": 2,
       "version_minor": 0
      },
      "text/plain": [
       "  0%|                                                                                                         …"
      ]
     },
     "metadata": {},
     "output_type": "display_data"
    },
    {
     "name": "stdout",
     "output_type": "stream",
     "text": [
      "./20240312_150032342e_newest/20240314_060073cc2b/results/20240314_07515600001_1d4f11bee8b69504/\\home\\wmnlab\\jackbedford\\data\\2023-11-01\\UDP_Bandlock_9S_Phone_Airport\\sm02\\#02\\data\\udp_dnlk_loss_latency\\home\\wmnlab\\jackbedford\\data\\2023-11-01\\UDP_Bandlock_9S_Phone_Airport\\sm06\\#02\\data\\udp_dnlk_loss_latency.csv\n",
      "127/216 /home/wmnlab/jackbedford/data/2023-11-01/UDP_Bandlock_9S_Phone_Airport/sm02/#02/data/handover_info_log.csv\n",
      "127/216 /home/wmnlab/jackbedford/data/2023-11-01/UDP_Bandlock_9S_Phone_Airport/sm02/#02/data/udp_dnlk_loss_latency.csv\n",
      "127/216 /home/wmnlab/jackbedford/data/2023-11-01/UDP_Bandlock_9S_Phone_Airport/sm02/#02/data/udp_uplk_loss_latency.csv\n",
      "127/216 /home/wmnlab/jackbedford/data/2023-11-01/UDP_Bandlock_9S_Phone_Airport/sm07/#02/data/handover_info_log.csv\n",
      "127/216 /home/wmnlab/jackbedford/data/2023-11-01/UDP_Bandlock_9S_Phone_Airport/sm07/#02/data/udp_dnlk_loss_latency.csv\n",
      "127/216 /home/wmnlab/jackbedford/data/2023-11-01/UDP_Bandlock_9S_Phone_Airport/sm07/#02/data/udp_uplk_loss_latency.csv\n"
     ]
    },
    {
     "data": {
      "application/vnd.jupyter.widget-view+json": {
       "model_id": "6994968a80494bd384a7e597fd21ccc7",
       "version_major": 2,
       "version_minor": 0
      },
      "text/plain": [
       "  0%|                                                                                                         …"
      ]
     },
     "metadata": {},
     "output_type": "display_data"
    },
    {
     "name": "stdout",
     "output_type": "stream",
     "text": [
      "./20240312_150032342e_newest/20240314_060073cc2b/results/20240314_07515600001_1d4f11bee8b69504/\\home\\wmnlab\\jackbedford\\data\\2023-11-01\\UDP_Bandlock_9S_Phone_Airport\\sm02\\#02\\data\\udp_dnlk_loss_latency\\home\\wmnlab\\jackbedford\\data\\2023-11-01\\UDP_Bandlock_9S_Phone_Airport\\sm07\\#02\\data\\udp_dnlk_loss_latency.csv\n",
      "128/216 /home/wmnlab/jackbedford/data/2023-11-01/UDP_Bandlock_9S_Phone_Airport/sm02/#02/data/handover_info_log.csv\n",
      "128/216 /home/wmnlab/jackbedford/data/2023-11-01/UDP_Bandlock_9S_Phone_Airport/sm02/#02/data/udp_dnlk_loss_latency.csv\n",
      "128/216 /home/wmnlab/jackbedford/data/2023-11-01/UDP_Bandlock_9S_Phone_Airport/sm02/#02/data/udp_uplk_loss_latency.csv\n",
      "128/216 /home/wmnlab/jackbedford/data/2023-11-01/UDP_Bandlock_9S_Phone_Airport/sm08/#02/data/handover_info_log.csv\n",
      "128/216 /home/wmnlab/jackbedford/data/2023-11-01/UDP_Bandlock_9S_Phone_Airport/sm08/#02/data/udp_dnlk_loss_latency.csv\n",
      "128/216 /home/wmnlab/jackbedford/data/2023-11-01/UDP_Bandlock_9S_Phone_Airport/sm08/#02/data/udp_uplk_loss_latency.csv\n"
     ]
    },
    {
     "data": {
      "application/vnd.jupyter.widget-view+json": {
       "model_id": "e521b0a3cf51487aa5cc3851ef3f8fe0",
       "version_major": 2,
       "version_minor": 0
      },
      "text/plain": [
       "  0%|                                                                                                         …"
      ]
     },
     "metadata": {},
     "output_type": "display_data"
    },
    {
     "name": "stdout",
     "output_type": "stream",
     "text": [
      "./20240312_150032342e_newest/20240314_060073cc2b/results/20240314_07515600001_1d4f11bee8b69504/\\home\\wmnlab\\jackbedford\\data\\2023-11-01\\UDP_Bandlock_9S_Phone_Airport\\sm02\\#02\\data\\udp_dnlk_loss_latency\\home\\wmnlab\\jackbedford\\data\\2023-11-01\\UDP_Bandlock_9S_Phone_Airport\\sm08\\#02\\data\\udp_dnlk_loss_latency.csv\n",
      "129/216 /home/wmnlab/jackbedford/data/2023-11-01/UDP_Bandlock_9S_Phone_Airport/sm03/#02/data/handover_info_log.csv\n",
      "129/216 /home/wmnlab/jackbedford/data/2023-11-01/UDP_Bandlock_9S_Phone_Airport/sm03/#02/data/udp_dnlk_loss_latency.csv\n",
      "129/216 /home/wmnlab/jackbedford/data/2023-11-01/UDP_Bandlock_9S_Phone_Airport/sm03/#02/data/udp_uplk_loss_latency.csv\n",
      "129/216 /home/wmnlab/jackbedford/data/2023-11-01/UDP_Bandlock_9S_Phone_Airport/sm04/#02/data/handover_info_log.csv\n",
      "129/216 /home/wmnlab/jackbedford/data/2023-11-01/UDP_Bandlock_9S_Phone_Airport/sm04/#02/data/udp_dnlk_loss_latency.csv\n",
      "129/216 /home/wmnlab/jackbedford/data/2023-11-01/UDP_Bandlock_9S_Phone_Airport/sm04/#02/data/udp_uplk_loss_latency.csv\n"
     ]
    },
    {
     "data": {
      "application/vnd.jupyter.widget-view+json": {
       "model_id": "3fbfc7526b7a4da7a463a1582333a9bc",
       "version_major": 2,
       "version_minor": 0
      },
      "text/plain": [
       "  0%|                                                                                                         …"
      ]
     },
     "metadata": {},
     "output_type": "display_data"
    },
    {
     "name": "stdout",
     "output_type": "stream",
     "text": [
      "./20240312_150032342e_newest/20240314_060073cc2b/results/20240314_07515600001_1d4f11bee8b69504/\\home\\wmnlab\\jackbedford\\data\\2023-11-01\\UDP_Bandlock_9S_Phone_Airport\\sm03\\#02\\data\\udp_dnlk_loss_latency\\home\\wmnlab\\jackbedford\\data\\2023-11-01\\UDP_Bandlock_9S_Phone_Airport\\sm04\\#02\\data\\udp_dnlk_loss_latency.csv\n",
      "130/216 /home/wmnlab/jackbedford/data/2023-11-01/UDP_Bandlock_9S_Phone_Airport/sm03/#02/data/handover_info_log.csv\n",
      "130/216 /home/wmnlab/jackbedford/data/2023-11-01/UDP_Bandlock_9S_Phone_Airport/sm03/#02/data/udp_dnlk_loss_latency.csv\n",
      "130/216 /home/wmnlab/jackbedford/data/2023-11-01/UDP_Bandlock_9S_Phone_Airport/sm03/#02/data/udp_uplk_loss_latency.csv\n",
      "130/216 /home/wmnlab/jackbedford/data/2023-11-01/UDP_Bandlock_9S_Phone_Airport/sm05/#02/data/handover_info_log.csv\n",
      "130/216 /home/wmnlab/jackbedford/data/2023-11-01/UDP_Bandlock_9S_Phone_Airport/sm05/#02/data/udp_dnlk_loss_latency.csv\n",
      "130/216 /home/wmnlab/jackbedford/data/2023-11-01/UDP_Bandlock_9S_Phone_Airport/sm05/#02/data/udp_uplk_loss_latency.csv\n"
     ]
    },
    {
     "data": {
      "application/vnd.jupyter.widget-view+json": {
       "model_id": "8884b617424b4f79a9aa99cf0cd6e4e9",
       "version_major": 2,
       "version_minor": 0
      },
      "text/plain": [
       "  0%|                                                                                                         …"
      ]
     },
     "metadata": {},
     "output_type": "display_data"
    },
    {
     "name": "stdout",
     "output_type": "stream",
     "text": [
      "./20240312_150032342e_newest/20240314_060073cc2b/results/20240314_07515600001_1d4f11bee8b69504/\\home\\wmnlab\\jackbedford\\data\\2023-11-01\\UDP_Bandlock_9S_Phone_Airport\\sm03\\#02\\data\\udp_dnlk_loss_latency\\home\\wmnlab\\jackbedford\\data\\2023-11-01\\UDP_Bandlock_9S_Phone_Airport\\sm05\\#02\\data\\udp_dnlk_loss_latency.csv\n",
      "131/216 /home/wmnlab/jackbedford/data/2023-11-01/UDP_Bandlock_9S_Phone_Airport/sm03/#02/data/handover_info_log.csv\n",
      "131/216 /home/wmnlab/jackbedford/data/2023-11-01/UDP_Bandlock_9S_Phone_Airport/sm03/#02/data/udp_dnlk_loss_latency.csv\n",
      "131/216 /home/wmnlab/jackbedford/data/2023-11-01/UDP_Bandlock_9S_Phone_Airport/sm03/#02/data/udp_uplk_loss_latency.csv\n",
      "131/216 /home/wmnlab/jackbedford/data/2023-11-01/UDP_Bandlock_9S_Phone_Airport/sm06/#02/data/handover_info_log.csv\n",
      "131/216 /home/wmnlab/jackbedford/data/2023-11-01/UDP_Bandlock_9S_Phone_Airport/sm06/#02/data/udp_dnlk_loss_latency.csv\n",
      "131/216 /home/wmnlab/jackbedford/data/2023-11-01/UDP_Bandlock_9S_Phone_Airport/sm06/#02/data/udp_uplk_loss_latency.csv\n"
     ]
    },
    {
     "data": {
      "application/vnd.jupyter.widget-view+json": {
       "model_id": "4eab73639513483695d05c4a7399b4bd",
       "version_major": 2,
       "version_minor": 0
      },
      "text/plain": [
       "  0%|                                                                                                         …"
      ]
     },
     "metadata": {},
     "output_type": "display_data"
    },
    {
     "name": "stdout",
     "output_type": "stream",
     "text": [
      "./20240312_150032342e_newest/20240314_060073cc2b/results/20240314_07515600001_1d4f11bee8b69504/\\home\\wmnlab\\jackbedford\\data\\2023-11-01\\UDP_Bandlock_9S_Phone_Airport\\sm03\\#02\\data\\udp_dnlk_loss_latency\\home\\wmnlab\\jackbedford\\data\\2023-11-01\\UDP_Bandlock_9S_Phone_Airport\\sm06\\#02\\data\\udp_dnlk_loss_latency.csv\n",
      "132/216 /home/wmnlab/jackbedford/data/2023-11-01/UDP_Bandlock_9S_Phone_Airport/sm03/#02/data/handover_info_log.csv\n",
      "132/216 /home/wmnlab/jackbedford/data/2023-11-01/UDP_Bandlock_9S_Phone_Airport/sm03/#02/data/udp_dnlk_loss_latency.csv\n",
      "132/216 /home/wmnlab/jackbedford/data/2023-11-01/UDP_Bandlock_9S_Phone_Airport/sm03/#02/data/udp_uplk_loss_latency.csv\n",
      "132/216 /home/wmnlab/jackbedford/data/2023-11-01/UDP_Bandlock_9S_Phone_Airport/sm07/#02/data/handover_info_log.csv\n",
      "132/216 /home/wmnlab/jackbedford/data/2023-11-01/UDP_Bandlock_9S_Phone_Airport/sm07/#02/data/udp_dnlk_loss_latency.csv\n",
      "132/216 /home/wmnlab/jackbedford/data/2023-11-01/UDP_Bandlock_9S_Phone_Airport/sm07/#02/data/udp_uplk_loss_latency.csv\n"
     ]
    },
    {
     "data": {
      "application/vnd.jupyter.widget-view+json": {
       "model_id": "c720b7bdef97450eb84174a7eb698e45",
       "version_major": 2,
       "version_minor": 0
      },
      "text/plain": [
       "  0%|                                                                                                         …"
      ]
     },
     "metadata": {},
     "output_type": "display_data"
    },
    {
     "name": "stdout",
     "output_type": "stream",
     "text": [
      "./20240312_150032342e_newest/20240314_060073cc2b/results/20240314_07515600001_1d4f11bee8b69504/\\home\\wmnlab\\jackbedford\\data\\2023-11-01\\UDP_Bandlock_9S_Phone_Airport\\sm03\\#02\\data\\udp_dnlk_loss_latency\\home\\wmnlab\\jackbedford\\data\\2023-11-01\\UDP_Bandlock_9S_Phone_Airport\\sm07\\#02\\data\\udp_dnlk_loss_latency.csv\n",
      "133/216 /home/wmnlab/jackbedford/data/2023-11-01/UDP_Bandlock_9S_Phone_Airport/sm03/#02/data/handover_info_log.csv\n",
      "133/216 /home/wmnlab/jackbedford/data/2023-11-01/UDP_Bandlock_9S_Phone_Airport/sm03/#02/data/udp_dnlk_loss_latency.csv\n",
      "133/216 /home/wmnlab/jackbedford/data/2023-11-01/UDP_Bandlock_9S_Phone_Airport/sm03/#02/data/udp_uplk_loss_latency.csv\n",
      "133/216 /home/wmnlab/jackbedford/data/2023-11-01/UDP_Bandlock_9S_Phone_Airport/sm08/#02/data/handover_info_log.csv\n",
      "133/216 /home/wmnlab/jackbedford/data/2023-11-01/UDP_Bandlock_9S_Phone_Airport/sm08/#02/data/udp_dnlk_loss_latency.csv\n",
      "133/216 /home/wmnlab/jackbedford/data/2023-11-01/UDP_Bandlock_9S_Phone_Airport/sm08/#02/data/udp_uplk_loss_latency.csv\n"
     ]
    },
    {
     "data": {
      "application/vnd.jupyter.widget-view+json": {
       "model_id": "2bec6b1de8764f8eaabe2761c1127428",
       "version_major": 2,
       "version_minor": 0
      },
      "text/plain": [
       "  0%|                                                                                                         …"
      ]
     },
     "metadata": {},
     "output_type": "display_data"
    },
    {
     "name": "stdout",
     "output_type": "stream",
     "text": [
      "./20240312_150032342e_newest/20240314_060073cc2b/results/20240314_07515600001_1d4f11bee8b69504/\\home\\wmnlab\\jackbedford\\data\\2023-11-01\\UDP_Bandlock_9S_Phone_Airport\\sm03\\#02\\data\\udp_dnlk_loss_latency\\home\\wmnlab\\jackbedford\\data\\2023-11-01\\UDP_Bandlock_9S_Phone_Airport\\sm08\\#02\\data\\udp_dnlk_loss_latency.csv\n",
      "134/216 /home/wmnlab/jackbedford/data/2023-11-01/UDP_Bandlock_9S_Phone_Airport/sm04/#02/data/handover_info_log.csv\n",
      "134/216 /home/wmnlab/jackbedford/data/2023-11-01/UDP_Bandlock_9S_Phone_Airport/sm04/#02/data/udp_dnlk_loss_latency.csv\n",
      "134/216 /home/wmnlab/jackbedford/data/2023-11-01/UDP_Bandlock_9S_Phone_Airport/sm04/#02/data/udp_uplk_loss_latency.csv\n",
      "134/216 /home/wmnlab/jackbedford/data/2023-11-01/UDP_Bandlock_9S_Phone_Airport/sm05/#02/data/handover_info_log.csv\n",
      "134/216 /home/wmnlab/jackbedford/data/2023-11-01/UDP_Bandlock_9S_Phone_Airport/sm05/#02/data/udp_dnlk_loss_latency.csv\n",
      "134/216 /home/wmnlab/jackbedford/data/2023-11-01/UDP_Bandlock_9S_Phone_Airport/sm05/#02/data/udp_uplk_loss_latency.csv\n"
     ]
    },
    {
     "data": {
      "application/vnd.jupyter.widget-view+json": {
       "model_id": "e83b180328a045b6b785689749e68fa3",
       "version_major": 2,
       "version_minor": 0
      },
      "text/plain": [
       "  0%|                                                                                                         …"
      ]
     },
     "metadata": {},
     "output_type": "display_data"
    },
    {
     "name": "stdout",
     "output_type": "stream",
     "text": [
      "./20240312_150032342e_newest/20240314_060073cc2b/results/20240314_07515600001_1d4f11bee8b69504/\\home\\wmnlab\\jackbedford\\data\\2023-11-01\\UDP_Bandlock_9S_Phone_Airport\\sm04\\#02\\data\\udp_dnlk_loss_latency\\home\\wmnlab\\jackbedford\\data\\2023-11-01\\UDP_Bandlock_9S_Phone_Airport\\sm05\\#02\\data\\udp_dnlk_loss_latency.csv\n",
      "135/216 /home/wmnlab/jackbedford/data/2023-11-01/UDP_Bandlock_9S_Phone_Airport/sm04/#02/data/handover_info_log.csv\n",
      "135/216 /home/wmnlab/jackbedford/data/2023-11-01/UDP_Bandlock_9S_Phone_Airport/sm04/#02/data/udp_dnlk_loss_latency.csv\n",
      "135/216 /home/wmnlab/jackbedford/data/2023-11-01/UDP_Bandlock_9S_Phone_Airport/sm04/#02/data/udp_uplk_loss_latency.csv\n",
      "135/216 /home/wmnlab/jackbedford/data/2023-11-01/UDP_Bandlock_9S_Phone_Airport/sm06/#02/data/handover_info_log.csv\n",
      "135/216 /home/wmnlab/jackbedford/data/2023-11-01/UDP_Bandlock_9S_Phone_Airport/sm06/#02/data/udp_dnlk_loss_latency.csv\n",
      "135/216 /home/wmnlab/jackbedford/data/2023-11-01/UDP_Bandlock_9S_Phone_Airport/sm06/#02/data/udp_uplk_loss_latency.csv\n"
     ]
    },
    {
     "data": {
      "application/vnd.jupyter.widget-view+json": {
       "model_id": "327fd5ace3b34356b5e4443e0d86100f",
       "version_major": 2,
       "version_minor": 0
      },
      "text/plain": [
       "  0%|                                                                                                         …"
      ]
     },
     "metadata": {},
     "output_type": "display_data"
    },
    {
     "name": "stdout",
     "output_type": "stream",
     "text": [
      "./20240312_150032342e_newest/20240314_060073cc2b/results/20240314_07515600001_1d4f11bee8b69504/\\home\\wmnlab\\jackbedford\\data\\2023-11-01\\UDP_Bandlock_9S_Phone_Airport\\sm04\\#02\\data\\udp_dnlk_loss_latency\\home\\wmnlab\\jackbedford\\data\\2023-11-01\\UDP_Bandlock_9S_Phone_Airport\\sm06\\#02\\data\\udp_dnlk_loss_latency.csv\n",
      "136/216 /home/wmnlab/jackbedford/data/2023-11-01/UDP_Bandlock_9S_Phone_Airport/sm04/#02/data/handover_info_log.csv\n",
      "136/216 /home/wmnlab/jackbedford/data/2023-11-01/UDP_Bandlock_9S_Phone_Airport/sm04/#02/data/udp_dnlk_loss_latency.csv\n",
      "136/216 /home/wmnlab/jackbedford/data/2023-11-01/UDP_Bandlock_9S_Phone_Airport/sm04/#02/data/udp_uplk_loss_latency.csv\n",
      "136/216 /home/wmnlab/jackbedford/data/2023-11-01/UDP_Bandlock_9S_Phone_Airport/sm07/#02/data/handover_info_log.csv\n",
      "136/216 /home/wmnlab/jackbedford/data/2023-11-01/UDP_Bandlock_9S_Phone_Airport/sm07/#02/data/udp_dnlk_loss_latency.csv\n",
      "136/216 /home/wmnlab/jackbedford/data/2023-11-01/UDP_Bandlock_9S_Phone_Airport/sm07/#02/data/udp_uplk_loss_latency.csv\n"
     ]
    },
    {
     "data": {
      "application/vnd.jupyter.widget-view+json": {
       "model_id": "ba664dccce3841dd8c2cc53d20e45810",
       "version_major": 2,
       "version_minor": 0
      },
      "text/plain": [
       "  0%|                                                                                                         …"
      ]
     },
     "metadata": {},
     "output_type": "display_data"
    },
    {
     "name": "stdout",
     "output_type": "stream",
     "text": [
      "./20240312_150032342e_newest/20240314_060073cc2b/results/20240314_07515600001_1d4f11bee8b69504/\\home\\wmnlab\\jackbedford\\data\\2023-11-01\\UDP_Bandlock_9S_Phone_Airport\\sm04\\#02\\data\\udp_dnlk_loss_latency\\home\\wmnlab\\jackbedford\\data\\2023-11-01\\UDP_Bandlock_9S_Phone_Airport\\sm07\\#02\\data\\udp_dnlk_loss_latency.csv\n",
      "137/216 /home/wmnlab/jackbedford/data/2023-11-01/UDP_Bandlock_9S_Phone_Airport/sm04/#02/data/handover_info_log.csv\n",
      "137/216 /home/wmnlab/jackbedford/data/2023-11-01/UDP_Bandlock_9S_Phone_Airport/sm04/#02/data/udp_dnlk_loss_latency.csv\n",
      "137/216 /home/wmnlab/jackbedford/data/2023-11-01/UDP_Bandlock_9S_Phone_Airport/sm04/#02/data/udp_uplk_loss_latency.csv\n",
      "137/216 /home/wmnlab/jackbedford/data/2023-11-01/UDP_Bandlock_9S_Phone_Airport/sm08/#02/data/handover_info_log.csv\n",
      "137/216 /home/wmnlab/jackbedford/data/2023-11-01/UDP_Bandlock_9S_Phone_Airport/sm08/#02/data/udp_dnlk_loss_latency.csv\n",
      "137/216 /home/wmnlab/jackbedford/data/2023-11-01/UDP_Bandlock_9S_Phone_Airport/sm08/#02/data/udp_uplk_loss_latency.csv\n"
     ]
    },
    {
     "data": {
      "application/vnd.jupyter.widget-view+json": {
       "model_id": "ddc0ea40729c4c9c9d5d5a3387ccda7e",
       "version_major": 2,
       "version_minor": 0
      },
      "text/plain": [
       "  0%|                                                                                                         …"
      ]
     },
     "metadata": {},
     "output_type": "display_data"
    },
    {
     "name": "stdout",
     "output_type": "stream",
     "text": [
      "./20240312_150032342e_newest/20240314_060073cc2b/results/20240314_07515600001_1d4f11bee8b69504/\\home\\wmnlab\\jackbedford\\data\\2023-11-01\\UDP_Bandlock_9S_Phone_Airport\\sm04\\#02\\data\\udp_dnlk_loss_latency\\home\\wmnlab\\jackbedford\\data\\2023-11-01\\UDP_Bandlock_9S_Phone_Airport\\sm08\\#02\\data\\udp_dnlk_loss_latency.csv\n",
      "138/216 /home/wmnlab/jackbedford/data/2023-11-01/UDP_Bandlock_9S_Phone_Airport/sm05/#02/data/handover_info_log.csv\n",
      "138/216 /home/wmnlab/jackbedford/data/2023-11-01/UDP_Bandlock_9S_Phone_Airport/sm05/#02/data/udp_dnlk_loss_latency.csv\n",
      "138/216 /home/wmnlab/jackbedford/data/2023-11-01/UDP_Bandlock_9S_Phone_Airport/sm05/#02/data/udp_uplk_loss_latency.csv\n",
      "138/216 /home/wmnlab/jackbedford/data/2023-11-01/UDP_Bandlock_9S_Phone_Airport/sm06/#02/data/handover_info_log.csv\n",
      "138/216 /home/wmnlab/jackbedford/data/2023-11-01/UDP_Bandlock_9S_Phone_Airport/sm06/#02/data/udp_dnlk_loss_latency.csv\n",
      "138/216 /home/wmnlab/jackbedford/data/2023-11-01/UDP_Bandlock_9S_Phone_Airport/sm06/#02/data/udp_uplk_loss_latency.csv\n"
     ]
    },
    {
     "data": {
      "application/vnd.jupyter.widget-view+json": {
       "model_id": "8408d8187c714266bcef714b59559902",
       "version_major": 2,
       "version_minor": 0
      },
      "text/plain": [
       "  0%|                                                                                                         …"
      ]
     },
     "metadata": {},
     "output_type": "display_data"
    },
    {
     "name": "stdout",
     "output_type": "stream",
     "text": [
      "./20240312_150032342e_newest/20240314_060073cc2b/results/20240314_07515600001_1d4f11bee8b69504/\\home\\wmnlab\\jackbedford\\data\\2023-11-01\\UDP_Bandlock_9S_Phone_Airport\\sm05\\#02\\data\\udp_dnlk_loss_latency\\home\\wmnlab\\jackbedford\\data\\2023-11-01\\UDP_Bandlock_9S_Phone_Airport\\sm06\\#02\\data\\udp_dnlk_loss_latency.csv\n",
      "139/216 /home/wmnlab/jackbedford/data/2023-11-01/UDP_Bandlock_9S_Phone_Airport/sm05/#02/data/handover_info_log.csv\n",
      "139/216 /home/wmnlab/jackbedford/data/2023-11-01/UDP_Bandlock_9S_Phone_Airport/sm05/#02/data/udp_dnlk_loss_latency.csv\n",
      "139/216 /home/wmnlab/jackbedford/data/2023-11-01/UDP_Bandlock_9S_Phone_Airport/sm05/#02/data/udp_uplk_loss_latency.csv\n",
      "139/216 /home/wmnlab/jackbedford/data/2023-11-01/UDP_Bandlock_9S_Phone_Airport/sm07/#02/data/handover_info_log.csv\n",
      "139/216 /home/wmnlab/jackbedford/data/2023-11-01/UDP_Bandlock_9S_Phone_Airport/sm07/#02/data/udp_dnlk_loss_latency.csv\n",
      "139/216 /home/wmnlab/jackbedford/data/2023-11-01/UDP_Bandlock_9S_Phone_Airport/sm07/#02/data/udp_uplk_loss_latency.csv\n"
     ]
    },
    {
     "data": {
      "application/vnd.jupyter.widget-view+json": {
       "model_id": "955141484d1f459fb0f5a06cfdbf5099",
       "version_major": 2,
       "version_minor": 0
      },
      "text/plain": [
       "  0%|                                                                                                         …"
      ]
     },
     "metadata": {},
     "output_type": "display_data"
    },
    {
     "name": "stdout",
     "output_type": "stream",
     "text": [
      "./20240312_150032342e_newest/20240314_060073cc2b/results/20240314_07515600001_1d4f11bee8b69504/\\home\\wmnlab\\jackbedford\\data\\2023-11-01\\UDP_Bandlock_9S_Phone_Airport\\sm05\\#02\\data\\udp_dnlk_loss_latency\\home\\wmnlab\\jackbedford\\data\\2023-11-01\\UDP_Bandlock_9S_Phone_Airport\\sm07\\#02\\data\\udp_dnlk_loss_latency.csv\n",
      "140/216 /home/wmnlab/jackbedford/data/2023-11-01/UDP_Bandlock_9S_Phone_Airport/sm05/#02/data/handover_info_log.csv\n",
      "140/216 /home/wmnlab/jackbedford/data/2023-11-01/UDP_Bandlock_9S_Phone_Airport/sm05/#02/data/udp_dnlk_loss_latency.csv\n",
      "140/216 /home/wmnlab/jackbedford/data/2023-11-01/UDP_Bandlock_9S_Phone_Airport/sm05/#02/data/udp_uplk_loss_latency.csv\n",
      "140/216 /home/wmnlab/jackbedford/data/2023-11-01/UDP_Bandlock_9S_Phone_Airport/sm08/#02/data/handover_info_log.csv\n",
      "140/216 /home/wmnlab/jackbedford/data/2023-11-01/UDP_Bandlock_9S_Phone_Airport/sm08/#02/data/udp_dnlk_loss_latency.csv\n",
      "140/216 /home/wmnlab/jackbedford/data/2023-11-01/UDP_Bandlock_9S_Phone_Airport/sm08/#02/data/udp_uplk_loss_latency.csv\n"
     ]
    },
    {
     "data": {
      "application/vnd.jupyter.widget-view+json": {
       "model_id": "1fff92763f9e404aaa7e9b228ea39e0b",
       "version_major": 2,
       "version_minor": 0
      },
      "text/plain": [
       "  0%|                                                                                                         …"
      ]
     },
     "metadata": {},
     "output_type": "display_data"
    },
    {
     "name": "stdout",
     "output_type": "stream",
     "text": [
      "./20240312_150032342e_newest/20240314_060073cc2b/results/20240314_07515600001_1d4f11bee8b69504/\\home\\wmnlab\\jackbedford\\data\\2023-11-01\\UDP_Bandlock_9S_Phone_Airport\\sm05\\#02\\data\\udp_dnlk_loss_latency\\home\\wmnlab\\jackbedford\\data\\2023-11-01\\UDP_Bandlock_9S_Phone_Airport\\sm08\\#02\\data\\udp_dnlk_loss_latency.csv\n",
      "141/216 /home/wmnlab/jackbedford/data/2023-11-01/UDP_Bandlock_9S_Phone_Airport/sm06/#02/data/handover_info_log.csv\n",
      "141/216 /home/wmnlab/jackbedford/data/2023-11-01/UDP_Bandlock_9S_Phone_Airport/sm06/#02/data/udp_dnlk_loss_latency.csv\n",
      "141/216 /home/wmnlab/jackbedford/data/2023-11-01/UDP_Bandlock_9S_Phone_Airport/sm06/#02/data/udp_uplk_loss_latency.csv\n",
      "141/216 /home/wmnlab/jackbedford/data/2023-11-01/UDP_Bandlock_9S_Phone_Airport/sm07/#02/data/handover_info_log.csv\n",
      "141/216 /home/wmnlab/jackbedford/data/2023-11-01/UDP_Bandlock_9S_Phone_Airport/sm07/#02/data/udp_dnlk_loss_latency.csv\n",
      "141/216 /home/wmnlab/jackbedford/data/2023-11-01/UDP_Bandlock_9S_Phone_Airport/sm07/#02/data/udp_uplk_loss_latency.csv\n"
     ]
    },
    {
     "data": {
      "application/vnd.jupyter.widget-view+json": {
       "model_id": "6d4d09f3932c4e08a1b5951dc07b2405",
       "version_major": 2,
       "version_minor": 0
      },
      "text/plain": [
       "  0%|                                                                                                         …"
      ]
     },
     "metadata": {},
     "output_type": "display_data"
    },
    {
     "name": "stdout",
     "output_type": "stream",
     "text": [
      "./20240312_150032342e_newest/20240314_060073cc2b/results/20240314_07515600001_1d4f11bee8b69504/\\home\\wmnlab\\jackbedford\\data\\2023-11-01\\UDP_Bandlock_9S_Phone_Airport\\sm06\\#02\\data\\udp_dnlk_loss_latency\\home\\wmnlab\\jackbedford\\data\\2023-11-01\\UDP_Bandlock_9S_Phone_Airport\\sm07\\#02\\data\\udp_dnlk_loss_latency.csv\n",
      "142/216 /home/wmnlab/jackbedford/data/2023-11-01/UDP_Bandlock_9S_Phone_Airport/sm06/#02/data/handover_info_log.csv\n",
      "142/216 /home/wmnlab/jackbedford/data/2023-11-01/UDP_Bandlock_9S_Phone_Airport/sm06/#02/data/udp_dnlk_loss_latency.csv\n",
      "142/216 /home/wmnlab/jackbedford/data/2023-11-01/UDP_Bandlock_9S_Phone_Airport/sm06/#02/data/udp_uplk_loss_latency.csv\n",
      "142/216 /home/wmnlab/jackbedford/data/2023-11-01/UDP_Bandlock_9S_Phone_Airport/sm08/#02/data/handover_info_log.csv\n",
      "142/216 /home/wmnlab/jackbedford/data/2023-11-01/UDP_Bandlock_9S_Phone_Airport/sm08/#02/data/udp_dnlk_loss_latency.csv\n",
      "142/216 /home/wmnlab/jackbedford/data/2023-11-01/UDP_Bandlock_9S_Phone_Airport/sm08/#02/data/udp_uplk_loss_latency.csv\n"
     ]
    },
    {
     "data": {
      "application/vnd.jupyter.widget-view+json": {
       "model_id": "053774f6cd5541168f7b9b4bcbb223dc",
       "version_major": 2,
       "version_minor": 0
      },
      "text/plain": [
       "  0%|                                                                                                         …"
      ]
     },
     "metadata": {},
     "output_type": "display_data"
    },
    {
     "name": "stdout",
     "output_type": "stream",
     "text": [
      "./20240312_150032342e_newest/20240314_060073cc2b/results/20240314_07515600001_1d4f11bee8b69504/\\home\\wmnlab\\jackbedford\\data\\2023-11-01\\UDP_Bandlock_9S_Phone_Airport\\sm06\\#02\\data\\udp_dnlk_loss_latency\\home\\wmnlab\\jackbedford\\data\\2023-11-01\\UDP_Bandlock_9S_Phone_Airport\\sm08\\#02\\data\\udp_dnlk_loss_latency.csv\n",
      "143/216 /home/wmnlab/jackbedford/data/2023-11-01/UDP_Bandlock_9S_Phone_Airport/sm07/#02/data/handover_info_log.csv\n",
      "143/216 /home/wmnlab/jackbedford/data/2023-11-01/UDP_Bandlock_9S_Phone_Airport/sm07/#02/data/udp_dnlk_loss_latency.csv\n",
      "143/216 /home/wmnlab/jackbedford/data/2023-11-01/UDP_Bandlock_9S_Phone_Airport/sm07/#02/data/udp_uplk_loss_latency.csv\n",
      "143/216 /home/wmnlab/jackbedford/data/2023-11-01/UDP_Bandlock_9S_Phone_Airport/sm08/#02/data/handover_info_log.csv\n",
      "143/216 /home/wmnlab/jackbedford/data/2023-11-01/UDP_Bandlock_9S_Phone_Airport/sm08/#02/data/udp_dnlk_loss_latency.csv\n",
      "143/216 /home/wmnlab/jackbedford/data/2023-11-01/UDP_Bandlock_9S_Phone_Airport/sm08/#02/data/udp_uplk_loss_latency.csv\n"
     ]
    },
    {
     "data": {
      "application/vnd.jupyter.widget-view+json": {
       "model_id": "96c388a4de604ce1afc9a9bd69923399",
       "version_major": 2,
       "version_minor": 0
      },
      "text/plain": [
       "  0%|                                                                                                         …"
      ]
     },
     "metadata": {},
     "output_type": "display_data"
    },
    {
     "name": "stdout",
     "output_type": "stream",
     "text": [
      "./20240312_150032342e_newest/20240314_060073cc2b/results/20240314_07515600001_1d4f11bee8b69504/\\home\\wmnlab\\jackbedford\\data\\2023-11-01\\UDP_Bandlock_9S_Phone_Airport\\sm07\\#02\\data\\udp_dnlk_loss_latency\\home\\wmnlab\\jackbedford\\data\\2023-11-01\\UDP_Bandlock_9S_Phone_Airport\\sm08\\#02\\data\\udp_dnlk_loss_latency.csv\n",
      "144/216 /home/wmnlab/jackbedford/data/2023-11-02/UDP_Bandlock_9S_Phone_Airport/sm00/#01/data/handover_info_log.csv\n",
      "144/216 /home/wmnlab/jackbedford/data/2023-11-02/UDP_Bandlock_9S_Phone_Airport/sm00/#01/data/udp_dnlk_loss_latency.csv\n",
      "144/216 /home/wmnlab/jackbedford/data/2023-11-02/UDP_Bandlock_9S_Phone_Airport/sm00/#01/data/udp_uplk_loss_latency.csv\n",
      "144/216 /home/wmnlab/jackbedford/data/2023-11-02/UDP_Bandlock_9S_Phone_Airport/sm01/#01/data/handover_info_log.csv\n",
      "144/216 /home/wmnlab/jackbedford/data/2023-11-02/UDP_Bandlock_9S_Phone_Airport/sm01/#01/data/udp_dnlk_loss_latency.csv\n",
      "144/216 /home/wmnlab/jackbedford/data/2023-11-02/UDP_Bandlock_9S_Phone_Airport/sm01/#01/data/udp_uplk_loss_latency.csv\n"
     ]
    },
    {
     "data": {
      "application/vnd.jupyter.widget-view+json": {
       "model_id": "f7b22818783d45f8b76fd7a78c3a45b7",
       "version_major": 2,
       "version_minor": 0
      },
      "text/plain": [
       "  0%|                                                                                                         …"
      ]
     },
     "metadata": {},
     "output_type": "display_data"
    },
    {
     "name": "stdout",
     "output_type": "stream",
     "text": [
      "./20240312_150032342e_newest/20240314_060073cc2b/results/20240314_07515600001_1d4f11bee8b69504/\\home\\wmnlab\\jackbedford\\data\\2023-11-02\\UDP_Bandlock_9S_Phone_Airport\\sm00\\#01\\data\\udp_dnlk_loss_latency\\home\\wmnlab\\jackbedford\\data\\2023-11-02\\UDP_Bandlock_9S_Phone_Airport\\sm01\\#01\\data\\udp_dnlk_loss_latency.csv\n",
      "145/216 /home/wmnlab/jackbedford/data/2023-11-02/UDP_Bandlock_9S_Phone_Airport/sm00/#01/data/handover_info_log.csv\n",
      "145/216 /home/wmnlab/jackbedford/data/2023-11-02/UDP_Bandlock_9S_Phone_Airport/sm00/#01/data/udp_dnlk_loss_latency.csv\n",
      "145/216 /home/wmnlab/jackbedford/data/2023-11-02/UDP_Bandlock_9S_Phone_Airport/sm00/#01/data/udp_uplk_loss_latency.csv\n",
      "145/216 /home/wmnlab/jackbedford/data/2023-11-02/UDP_Bandlock_9S_Phone_Airport/sm02/#01/data/handover_info_log.csv\n",
      "145/216 /home/wmnlab/jackbedford/data/2023-11-02/UDP_Bandlock_9S_Phone_Airport/sm02/#01/data/udp_dnlk_loss_latency.csv\n",
      "145/216 /home/wmnlab/jackbedford/data/2023-11-02/UDP_Bandlock_9S_Phone_Airport/sm02/#01/data/udp_uplk_loss_latency.csv\n"
     ]
    },
    {
     "data": {
      "application/vnd.jupyter.widget-view+json": {
       "model_id": "39d669e047364a76bd811220a6e2e177",
       "version_major": 2,
       "version_minor": 0
      },
      "text/plain": [
       "  0%|                                                                                                         …"
      ]
     },
     "metadata": {},
     "output_type": "display_data"
    },
    {
     "name": "stdout",
     "output_type": "stream",
     "text": [
      "./20240312_150032342e_newest/20240314_060073cc2b/results/20240314_07515600001_1d4f11bee8b69504/\\home\\wmnlab\\jackbedford\\data\\2023-11-02\\UDP_Bandlock_9S_Phone_Airport\\sm00\\#01\\data\\udp_dnlk_loss_latency\\home\\wmnlab\\jackbedford\\data\\2023-11-02\\UDP_Bandlock_9S_Phone_Airport\\sm02\\#01\\data\\udp_dnlk_loss_latency.csv\n",
      "146/216 /home/wmnlab/jackbedford/data/2023-11-02/UDP_Bandlock_9S_Phone_Airport/sm00/#01/data/handover_info_log.csv\n",
      "146/216 /home/wmnlab/jackbedford/data/2023-11-02/UDP_Bandlock_9S_Phone_Airport/sm00/#01/data/udp_dnlk_loss_latency.csv\n",
      "146/216 /home/wmnlab/jackbedford/data/2023-11-02/UDP_Bandlock_9S_Phone_Airport/sm00/#01/data/udp_uplk_loss_latency.csv\n",
      "146/216 /home/wmnlab/jackbedford/data/2023-11-02/UDP_Bandlock_9S_Phone_Airport/sm03/#01/data/handover_info_log.csv\n",
      "146/216 /home/wmnlab/jackbedford/data/2023-11-02/UDP_Bandlock_9S_Phone_Airport/sm03/#01/data/udp_dnlk_loss_latency.csv\n",
      "146/216 /home/wmnlab/jackbedford/data/2023-11-02/UDP_Bandlock_9S_Phone_Airport/sm03/#01/data/udp_uplk_loss_latency.csv\n"
     ]
    },
    {
     "data": {
      "application/vnd.jupyter.widget-view+json": {
       "model_id": "949cace0da574490840c550bdab55d3e",
       "version_major": 2,
       "version_minor": 0
      },
      "text/plain": [
       "  0%|                                                                                                         …"
      ]
     },
     "metadata": {},
     "output_type": "display_data"
    },
    {
     "name": "stdout",
     "output_type": "stream",
     "text": [
      "./20240312_150032342e_newest/20240314_060073cc2b/results/20240314_07515600001_1d4f11bee8b69504/\\home\\wmnlab\\jackbedford\\data\\2023-11-02\\UDP_Bandlock_9S_Phone_Airport\\sm00\\#01\\data\\udp_dnlk_loss_latency\\home\\wmnlab\\jackbedford\\data\\2023-11-02\\UDP_Bandlock_9S_Phone_Airport\\sm03\\#01\\data\\udp_dnlk_loss_latency.csv\n",
      "147/216 /home/wmnlab/jackbedford/data/2023-11-02/UDP_Bandlock_9S_Phone_Airport/sm00/#01/data/handover_info_log.csv\n",
      "147/216 /home/wmnlab/jackbedford/data/2023-11-02/UDP_Bandlock_9S_Phone_Airport/sm00/#01/data/udp_dnlk_loss_latency.csv\n",
      "147/216 /home/wmnlab/jackbedford/data/2023-11-02/UDP_Bandlock_9S_Phone_Airport/sm00/#01/data/udp_uplk_loss_latency.csv\n",
      "147/216 /home/wmnlab/jackbedford/data/2023-11-02/UDP_Bandlock_9S_Phone_Airport/sm04/#01/data/handover_info_log.csv\n",
      "147/216 /home/wmnlab/jackbedford/data/2023-11-02/UDP_Bandlock_9S_Phone_Airport/sm04/#01/data/udp_dnlk_loss_latency.csv\n",
      "147/216 /home/wmnlab/jackbedford/data/2023-11-02/UDP_Bandlock_9S_Phone_Airport/sm04/#01/data/udp_uplk_loss_latency.csv\n",
      "******** Empty RRC Data ********\n",
      "148/216 /home/wmnlab/jackbedford/data/2023-11-02/UDP_Bandlock_9S_Phone_Airport/sm00/#01/data/handover_info_log.csv\n",
      "148/216 /home/wmnlab/jackbedford/data/2023-11-02/UDP_Bandlock_9S_Phone_Airport/sm00/#01/data/udp_dnlk_loss_latency.csv\n",
      "148/216 /home/wmnlab/jackbedford/data/2023-11-02/UDP_Bandlock_9S_Phone_Airport/sm00/#01/data/udp_uplk_loss_latency.csv\n",
      "148/216 /home/wmnlab/jackbedford/data/2023-11-02/UDP_Bandlock_9S_Phone_Airport/sm05/#01/data/handover_info_log.csv\n",
      "148/216 /home/wmnlab/jackbedford/data/2023-11-02/UDP_Bandlock_9S_Phone_Airport/sm05/#01/data/udp_dnlk_loss_latency.csv\n",
      "148/216 /home/wmnlab/jackbedford/data/2023-11-02/UDP_Bandlock_9S_Phone_Airport/sm05/#01/data/udp_uplk_loss_latency.csv\n",
      "******** Empty RRC Data ********\n",
      "149/216 /home/wmnlab/jackbedford/data/2023-11-02/UDP_Bandlock_9S_Phone_Airport/sm00/#01/data/handover_info_log.csv\n",
      "149/216 /home/wmnlab/jackbedford/data/2023-11-02/UDP_Bandlock_9S_Phone_Airport/sm00/#01/data/udp_dnlk_loss_latency.csv\n",
      "149/216 /home/wmnlab/jackbedford/data/2023-11-02/UDP_Bandlock_9S_Phone_Airport/sm00/#01/data/udp_uplk_loss_latency.csv\n",
      "149/216 /home/wmnlab/jackbedford/data/2023-11-02/UDP_Bandlock_9S_Phone_Airport/sm06/#01/data/handover_info_log.csv\n",
      "149/216 /home/wmnlab/jackbedford/data/2023-11-02/UDP_Bandlock_9S_Phone_Airport/sm06/#01/data/udp_dnlk_loss_latency.csv\n",
      "149/216 /home/wmnlab/jackbedford/data/2023-11-02/UDP_Bandlock_9S_Phone_Airport/sm06/#01/data/udp_uplk_loss_latency.csv\n"
     ]
    },
    {
     "data": {
      "application/vnd.jupyter.widget-view+json": {
       "model_id": "145ded171f2348319db2415952e7c8e6",
       "version_major": 2,
       "version_minor": 0
      },
      "text/plain": [
       "  0%|                                                                                                         …"
      ]
     },
     "metadata": {},
     "output_type": "display_data"
    },
    {
     "name": "stdout",
     "output_type": "stream",
     "text": [
      "./20240312_150032342e_newest/20240314_060073cc2b/results/20240314_07515600001_1d4f11bee8b69504/\\home\\wmnlab\\jackbedford\\data\\2023-11-02\\UDP_Bandlock_9S_Phone_Airport\\sm00\\#01\\data\\udp_dnlk_loss_latency\\home\\wmnlab\\jackbedford\\data\\2023-11-02\\UDP_Bandlock_9S_Phone_Airport\\sm06\\#01\\data\\udp_dnlk_loss_latency.csv\n",
      "150/216 /home/wmnlab/jackbedford/data/2023-11-02/UDP_Bandlock_9S_Phone_Airport/sm00/#01/data/handover_info_log.csv\n",
      "150/216 /home/wmnlab/jackbedford/data/2023-11-02/UDP_Bandlock_9S_Phone_Airport/sm00/#01/data/udp_dnlk_loss_latency.csv\n",
      "150/216 /home/wmnlab/jackbedford/data/2023-11-02/UDP_Bandlock_9S_Phone_Airport/sm00/#01/data/udp_uplk_loss_latency.csv\n",
      "150/216 /home/wmnlab/jackbedford/data/2023-11-02/UDP_Bandlock_9S_Phone_Airport/sm07/#01/data/handover_info_log.csv\n",
      "150/216 /home/wmnlab/jackbedford/data/2023-11-02/UDP_Bandlock_9S_Phone_Airport/sm07/#01/data/udp_dnlk_loss_latency.csv\n",
      "150/216 /home/wmnlab/jackbedford/data/2023-11-02/UDP_Bandlock_9S_Phone_Airport/sm07/#01/data/udp_uplk_loss_latency.csv\n",
      "******** Empty RRC Data ********\n",
      "151/216 /home/wmnlab/jackbedford/data/2023-11-02/UDP_Bandlock_9S_Phone_Airport/sm00/#01/data/handover_info_log.csv\n",
      "151/216 /home/wmnlab/jackbedford/data/2023-11-02/UDP_Bandlock_9S_Phone_Airport/sm00/#01/data/udp_dnlk_loss_latency.csv\n",
      "151/216 /home/wmnlab/jackbedford/data/2023-11-02/UDP_Bandlock_9S_Phone_Airport/sm00/#01/data/udp_uplk_loss_latency.csv\n",
      "151/216 /home/wmnlab/jackbedford/data/2023-11-02/UDP_Bandlock_9S_Phone_Airport/sm08/#01/data/handover_info_log.csv\n",
      "151/216 /home/wmnlab/jackbedford/data/2023-11-02/UDP_Bandlock_9S_Phone_Airport/sm08/#01/data/udp_dnlk_loss_latency.csv\n",
      "151/216 /home/wmnlab/jackbedford/data/2023-11-02/UDP_Bandlock_9S_Phone_Airport/sm08/#01/data/udp_uplk_loss_latency.csv\n"
     ]
    },
    {
     "data": {
      "application/vnd.jupyter.widget-view+json": {
       "model_id": "bcf4659fbc3642c48da1d7069f56ce1d",
       "version_major": 2,
       "version_minor": 0
      },
      "text/plain": [
       "  0%|                                                                                                         …"
      ]
     },
     "metadata": {},
     "output_type": "display_data"
    },
    {
     "name": "stdout",
     "output_type": "stream",
     "text": [
      "./20240312_150032342e_newest/20240314_060073cc2b/results/20240314_07515600001_1d4f11bee8b69504/\\home\\wmnlab\\jackbedford\\data\\2023-11-02\\UDP_Bandlock_9S_Phone_Airport\\sm00\\#01\\data\\udp_dnlk_loss_latency\\home\\wmnlab\\jackbedford\\data\\2023-11-02\\UDP_Bandlock_9S_Phone_Airport\\sm08\\#01\\data\\udp_dnlk_loss_latency.csv\n",
      "152/216 /home/wmnlab/jackbedford/data/2023-11-02/UDP_Bandlock_9S_Phone_Airport/sm01/#01/data/handover_info_log.csv\n",
      "152/216 /home/wmnlab/jackbedford/data/2023-11-02/UDP_Bandlock_9S_Phone_Airport/sm01/#01/data/udp_dnlk_loss_latency.csv\n",
      "152/216 /home/wmnlab/jackbedford/data/2023-11-02/UDP_Bandlock_9S_Phone_Airport/sm01/#01/data/udp_uplk_loss_latency.csv\n",
      "152/216 /home/wmnlab/jackbedford/data/2023-11-02/UDP_Bandlock_9S_Phone_Airport/sm02/#01/data/handover_info_log.csv\n",
      "152/216 /home/wmnlab/jackbedford/data/2023-11-02/UDP_Bandlock_9S_Phone_Airport/sm02/#01/data/udp_dnlk_loss_latency.csv\n",
      "152/216 /home/wmnlab/jackbedford/data/2023-11-02/UDP_Bandlock_9S_Phone_Airport/sm02/#01/data/udp_uplk_loss_latency.csv\n"
     ]
    },
    {
     "data": {
      "application/vnd.jupyter.widget-view+json": {
       "model_id": "53f6bbc5d5274b2dae3c3012f844ea47",
       "version_major": 2,
       "version_minor": 0
      },
      "text/plain": [
       "  0%|                                                                                                         …"
      ]
     },
     "metadata": {},
     "output_type": "display_data"
    },
    {
     "name": "stdout",
     "output_type": "stream",
     "text": [
      "./20240312_150032342e_newest/20240314_060073cc2b/results/20240314_07515600001_1d4f11bee8b69504/\\home\\wmnlab\\jackbedford\\data\\2023-11-02\\UDP_Bandlock_9S_Phone_Airport\\sm01\\#01\\data\\udp_dnlk_loss_latency\\home\\wmnlab\\jackbedford\\data\\2023-11-02\\UDP_Bandlock_9S_Phone_Airport\\sm02\\#01\\data\\udp_dnlk_loss_latency.csv\n",
      "153/216 /home/wmnlab/jackbedford/data/2023-11-02/UDP_Bandlock_9S_Phone_Airport/sm01/#01/data/handover_info_log.csv\n",
      "153/216 /home/wmnlab/jackbedford/data/2023-11-02/UDP_Bandlock_9S_Phone_Airport/sm01/#01/data/udp_dnlk_loss_latency.csv\n",
      "153/216 /home/wmnlab/jackbedford/data/2023-11-02/UDP_Bandlock_9S_Phone_Airport/sm01/#01/data/udp_uplk_loss_latency.csv\n",
      "153/216 /home/wmnlab/jackbedford/data/2023-11-02/UDP_Bandlock_9S_Phone_Airport/sm03/#01/data/handover_info_log.csv\n",
      "153/216 /home/wmnlab/jackbedford/data/2023-11-02/UDP_Bandlock_9S_Phone_Airport/sm03/#01/data/udp_dnlk_loss_latency.csv\n",
      "153/216 /home/wmnlab/jackbedford/data/2023-11-02/UDP_Bandlock_9S_Phone_Airport/sm03/#01/data/udp_uplk_loss_latency.csv\n"
     ]
    },
    {
     "data": {
      "application/vnd.jupyter.widget-view+json": {
       "model_id": "f26c804f960f49b7b8fb23acc8546522",
       "version_major": 2,
       "version_minor": 0
      },
      "text/plain": [
       "  0%|                                                                                                         …"
      ]
     },
     "metadata": {},
     "output_type": "display_data"
    },
    {
     "name": "stdout",
     "output_type": "stream",
     "text": [
      "./20240312_150032342e_newest/20240314_060073cc2b/results/20240314_07515600001_1d4f11bee8b69504/\\home\\wmnlab\\jackbedford\\data\\2023-11-02\\UDP_Bandlock_9S_Phone_Airport\\sm01\\#01\\data\\udp_dnlk_loss_latency\\home\\wmnlab\\jackbedford\\data\\2023-11-02\\UDP_Bandlock_9S_Phone_Airport\\sm03\\#01\\data\\udp_dnlk_loss_latency.csv\n",
      "154/216 /home/wmnlab/jackbedford/data/2023-11-02/UDP_Bandlock_9S_Phone_Airport/sm01/#01/data/handover_info_log.csv\n",
      "154/216 /home/wmnlab/jackbedford/data/2023-11-02/UDP_Bandlock_9S_Phone_Airport/sm01/#01/data/udp_dnlk_loss_latency.csv\n",
      "154/216 /home/wmnlab/jackbedford/data/2023-11-02/UDP_Bandlock_9S_Phone_Airport/sm01/#01/data/udp_uplk_loss_latency.csv\n",
      "154/216 /home/wmnlab/jackbedford/data/2023-11-02/UDP_Bandlock_9S_Phone_Airport/sm04/#01/data/handover_info_log.csv\n",
      "154/216 /home/wmnlab/jackbedford/data/2023-11-02/UDP_Bandlock_9S_Phone_Airport/sm04/#01/data/udp_dnlk_loss_latency.csv\n",
      "154/216 /home/wmnlab/jackbedford/data/2023-11-02/UDP_Bandlock_9S_Phone_Airport/sm04/#01/data/udp_uplk_loss_latency.csv\n",
      "******** Empty RRC Data ********\n",
      "155/216 /home/wmnlab/jackbedford/data/2023-11-02/UDP_Bandlock_9S_Phone_Airport/sm01/#01/data/handover_info_log.csv\n",
      "155/216 /home/wmnlab/jackbedford/data/2023-11-02/UDP_Bandlock_9S_Phone_Airport/sm01/#01/data/udp_dnlk_loss_latency.csv\n",
      "155/216 /home/wmnlab/jackbedford/data/2023-11-02/UDP_Bandlock_9S_Phone_Airport/sm01/#01/data/udp_uplk_loss_latency.csv\n",
      "155/216 /home/wmnlab/jackbedford/data/2023-11-02/UDP_Bandlock_9S_Phone_Airport/sm05/#01/data/handover_info_log.csv\n",
      "155/216 /home/wmnlab/jackbedford/data/2023-11-02/UDP_Bandlock_9S_Phone_Airport/sm05/#01/data/udp_dnlk_loss_latency.csv\n",
      "155/216 /home/wmnlab/jackbedford/data/2023-11-02/UDP_Bandlock_9S_Phone_Airport/sm05/#01/data/udp_uplk_loss_latency.csv\n",
      "******** Empty RRC Data ********\n",
      "156/216 /home/wmnlab/jackbedford/data/2023-11-02/UDP_Bandlock_9S_Phone_Airport/sm01/#01/data/handover_info_log.csv\n",
      "156/216 /home/wmnlab/jackbedford/data/2023-11-02/UDP_Bandlock_9S_Phone_Airport/sm01/#01/data/udp_dnlk_loss_latency.csv\n",
      "156/216 /home/wmnlab/jackbedford/data/2023-11-02/UDP_Bandlock_9S_Phone_Airport/sm01/#01/data/udp_uplk_loss_latency.csv\n",
      "156/216 /home/wmnlab/jackbedford/data/2023-11-02/UDP_Bandlock_9S_Phone_Airport/sm06/#01/data/handover_info_log.csv\n",
      "156/216 /home/wmnlab/jackbedford/data/2023-11-02/UDP_Bandlock_9S_Phone_Airport/sm06/#01/data/udp_dnlk_loss_latency.csv\n",
      "156/216 /home/wmnlab/jackbedford/data/2023-11-02/UDP_Bandlock_9S_Phone_Airport/sm06/#01/data/udp_uplk_loss_latency.csv\n"
     ]
    },
    {
     "data": {
      "application/vnd.jupyter.widget-view+json": {
       "model_id": "999fe11884e34f4585445365b289f041",
       "version_major": 2,
       "version_minor": 0
      },
      "text/plain": [
       "  0%|                                                                                                         …"
      ]
     },
     "metadata": {},
     "output_type": "display_data"
    },
    {
     "name": "stdout",
     "output_type": "stream",
     "text": [
      "./20240312_150032342e_newest/20240314_060073cc2b/results/20240314_07515600001_1d4f11bee8b69504/\\home\\wmnlab\\jackbedford\\data\\2023-11-02\\UDP_Bandlock_9S_Phone_Airport\\sm01\\#01\\data\\udp_dnlk_loss_latency\\home\\wmnlab\\jackbedford\\data\\2023-11-02\\UDP_Bandlock_9S_Phone_Airport\\sm06\\#01\\data\\udp_dnlk_loss_latency.csv\n",
      "157/216 /home/wmnlab/jackbedford/data/2023-11-02/UDP_Bandlock_9S_Phone_Airport/sm01/#01/data/handover_info_log.csv\n",
      "157/216 /home/wmnlab/jackbedford/data/2023-11-02/UDP_Bandlock_9S_Phone_Airport/sm01/#01/data/udp_dnlk_loss_latency.csv\n",
      "157/216 /home/wmnlab/jackbedford/data/2023-11-02/UDP_Bandlock_9S_Phone_Airport/sm01/#01/data/udp_uplk_loss_latency.csv\n",
      "157/216 /home/wmnlab/jackbedford/data/2023-11-02/UDP_Bandlock_9S_Phone_Airport/sm07/#01/data/handover_info_log.csv\n",
      "157/216 /home/wmnlab/jackbedford/data/2023-11-02/UDP_Bandlock_9S_Phone_Airport/sm07/#01/data/udp_dnlk_loss_latency.csv\n",
      "157/216 /home/wmnlab/jackbedford/data/2023-11-02/UDP_Bandlock_9S_Phone_Airport/sm07/#01/data/udp_uplk_loss_latency.csv\n",
      "******** Empty RRC Data ********\n",
      "158/216 /home/wmnlab/jackbedford/data/2023-11-02/UDP_Bandlock_9S_Phone_Airport/sm01/#01/data/handover_info_log.csv\n",
      "158/216 /home/wmnlab/jackbedford/data/2023-11-02/UDP_Bandlock_9S_Phone_Airport/sm01/#01/data/udp_dnlk_loss_latency.csv\n",
      "158/216 /home/wmnlab/jackbedford/data/2023-11-02/UDP_Bandlock_9S_Phone_Airport/sm01/#01/data/udp_uplk_loss_latency.csv\n",
      "158/216 /home/wmnlab/jackbedford/data/2023-11-02/UDP_Bandlock_9S_Phone_Airport/sm08/#01/data/handover_info_log.csv\n",
      "158/216 /home/wmnlab/jackbedford/data/2023-11-02/UDP_Bandlock_9S_Phone_Airport/sm08/#01/data/udp_dnlk_loss_latency.csv\n",
      "158/216 /home/wmnlab/jackbedford/data/2023-11-02/UDP_Bandlock_9S_Phone_Airport/sm08/#01/data/udp_uplk_loss_latency.csv\n"
     ]
    },
    {
     "data": {
      "application/vnd.jupyter.widget-view+json": {
       "model_id": "9b40cf74d7374706946299312e3bd415",
       "version_major": 2,
       "version_minor": 0
      },
      "text/plain": [
       "  0%|                                                                                                         …"
      ]
     },
     "metadata": {},
     "output_type": "display_data"
    },
    {
     "name": "stdout",
     "output_type": "stream",
     "text": [
      "./20240312_150032342e_newest/20240314_060073cc2b/results/20240314_07515600001_1d4f11bee8b69504/\\home\\wmnlab\\jackbedford\\data\\2023-11-02\\UDP_Bandlock_9S_Phone_Airport\\sm01\\#01\\data\\udp_dnlk_loss_latency\\home\\wmnlab\\jackbedford\\data\\2023-11-02\\UDP_Bandlock_9S_Phone_Airport\\sm08\\#01\\data\\udp_dnlk_loss_latency.csv\n",
      "159/216 /home/wmnlab/jackbedford/data/2023-11-02/UDP_Bandlock_9S_Phone_Airport/sm02/#01/data/handover_info_log.csv\n",
      "159/216 /home/wmnlab/jackbedford/data/2023-11-02/UDP_Bandlock_9S_Phone_Airport/sm02/#01/data/udp_dnlk_loss_latency.csv\n",
      "159/216 /home/wmnlab/jackbedford/data/2023-11-02/UDP_Bandlock_9S_Phone_Airport/sm02/#01/data/udp_uplk_loss_latency.csv\n",
      "159/216 /home/wmnlab/jackbedford/data/2023-11-02/UDP_Bandlock_9S_Phone_Airport/sm03/#01/data/handover_info_log.csv\n",
      "159/216 /home/wmnlab/jackbedford/data/2023-11-02/UDP_Bandlock_9S_Phone_Airport/sm03/#01/data/udp_dnlk_loss_latency.csv\n",
      "159/216 /home/wmnlab/jackbedford/data/2023-11-02/UDP_Bandlock_9S_Phone_Airport/sm03/#01/data/udp_uplk_loss_latency.csv\n"
     ]
    },
    {
     "data": {
      "application/vnd.jupyter.widget-view+json": {
       "model_id": "2df0614b48cf419699871b17a4913fa9",
       "version_major": 2,
       "version_minor": 0
      },
      "text/plain": [
       "  0%|                                                                                                         …"
      ]
     },
     "metadata": {},
     "output_type": "display_data"
    },
    {
     "name": "stdout",
     "output_type": "stream",
     "text": [
      "./20240312_150032342e_newest/20240314_060073cc2b/results/20240314_07515600001_1d4f11bee8b69504/\\home\\wmnlab\\jackbedford\\data\\2023-11-02\\UDP_Bandlock_9S_Phone_Airport\\sm02\\#01\\data\\udp_dnlk_loss_latency\\home\\wmnlab\\jackbedford\\data\\2023-11-02\\UDP_Bandlock_9S_Phone_Airport\\sm03\\#01\\data\\udp_dnlk_loss_latency.csv\n",
      "160/216 /home/wmnlab/jackbedford/data/2023-11-02/UDP_Bandlock_9S_Phone_Airport/sm02/#01/data/handover_info_log.csv\n",
      "160/216 /home/wmnlab/jackbedford/data/2023-11-02/UDP_Bandlock_9S_Phone_Airport/sm02/#01/data/udp_dnlk_loss_latency.csv\n",
      "160/216 /home/wmnlab/jackbedford/data/2023-11-02/UDP_Bandlock_9S_Phone_Airport/sm02/#01/data/udp_uplk_loss_latency.csv\n",
      "160/216 /home/wmnlab/jackbedford/data/2023-11-02/UDP_Bandlock_9S_Phone_Airport/sm04/#01/data/handover_info_log.csv\n",
      "160/216 /home/wmnlab/jackbedford/data/2023-11-02/UDP_Bandlock_9S_Phone_Airport/sm04/#01/data/udp_dnlk_loss_latency.csv\n",
      "160/216 /home/wmnlab/jackbedford/data/2023-11-02/UDP_Bandlock_9S_Phone_Airport/sm04/#01/data/udp_uplk_loss_latency.csv\n",
      "******** Empty RRC Data ********\n",
      "161/216 /home/wmnlab/jackbedford/data/2023-11-02/UDP_Bandlock_9S_Phone_Airport/sm02/#01/data/handover_info_log.csv\n",
      "161/216 /home/wmnlab/jackbedford/data/2023-11-02/UDP_Bandlock_9S_Phone_Airport/sm02/#01/data/udp_dnlk_loss_latency.csv\n",
      "161/216 /home/wmnlab/jackbedford/data/2023-11-02/UDP_Bandlock_9S_Phone_Airport/sm02/#01/data/udp_uplk_loss_latency.csv\n",
      "161/216 /home/wmnlab/jackbedford/data/2023-11-02/UDP_Bandlock_9S_Phone_Airport/sm05/#01/data/handover_info_log.csv\n",
      "161/216 /home/wmnlab/jackbedford/data/2023-11-02/UDP_Bandlock_9S_Phone_Airport/sm05/#01/data/udp_dnlk_loss_latency.csv\n",
      "161/216 /home/wmnlab/jackbedford/data/2023-11-02/UDP_Bandlock_9S_Phone_Airport/sm05/#01/data/udp_uplk_loss_latency.csv\n",
      "******** Empty RRC Data ********\n",
      "162/216 /home/wmnlab/jackbedford/data/2023-11-02/UDP_Bandlock_9S_Phone_Airport/sm02/#01/data/handover_info_log.csv\n",
      "162/216 /home/wmnlab/jackbedford/data/2023-11-02/UDP_Bandlock_9S_Phone_Airport/sm02/#01/data/udp_dnlk_loss_latency.csv\n",
      "162/216 /home/wmnlab/jackbedford/data/2023-11-02/UDP_Bandlock_9S_Phone_Airport/sm02/#01/data/udp_uplk_loss_latency.csv\n",
      "162/216 /home/wmnlab/jackbedford/data/2023-11-02/UDP_Bandlock_9S_Phone_Airport/sm06/#01/data/handover_info_log.csv\n",
      "162/216 /home/wmnlab/jackbedford/data/2023-11-02/UDP_Bandlock_9S_Phone_Airport/sm06/#01/data/udp_dnlk_loss_latency.csv\n",
      "162/216 /home/wmnlab/jackbedford/data/2023-11-02/UDP_Bandlock_9S_Phone_Airport/sm06/#01/data/udp_uplk_loss_latency.csv\n"
     ]
    },
    {
     "data": {
      "application/vnd.jupyter.widget-view+json": {
       "model_id": "2bf40ca9c7fe458fb6a65e1f0769893f",
       "version_major": 2,
       "version_minor": 0
      },
      "text/plain": [
       "  0%|                                                                                                         …"
      ]
     },
     "metadata": {},
     "output_type": "display_data"
    },
    {
     "name": "stdout",
     "output_type": "stream",
     "text": [
      "./20240312_150032342e_newest/20240314_060073cc2b/results/20240314_07515600001_1d4f11bee8b69504/\\home\\wmnlab\\jackbedford\\data\\2023-11-02\\UDP_Bandlock_9S_Phone_Airport\\sm02\\#01\\data\\udp_dnlk_loss_latency\\home\\wmnlab\\jackbedford\\data\\2023-11-02\\UDP_Bandlock_9S_Phone_Airport\\sm06\\#01\\data\\udp_dnlk_loss_latency.csv\n",
      "163/216 /home/wmnlab/jackbedford/data/2023-11-02/UDP_Bandlock_9S_Phone_Airport/sm02/#01/data/handover_info_log.csv\n",
      "163/216 /home/wmnlab/jackbedford/data/2023-11-02/UDP_Bandlock_9S_Phone_Airport/sm02/#01/data/udp_dnlk_loss_latency.csv\n",
      "163/216 /home/wmnlab/jackbedford/data/2023-11-02/UDP_Bandlock_9S_Phone_Airport/sm02/#01/data/udp_uplk_loss_latency.csv\n",
      "163/216 /home/wmnlab/jackbedford/data/2023-11-02/UDP_Bandlock_9S_Phone_Airport/sm07/#01/data/handover_info_log.csv\n",
      "163/216 /home/wmnlab/jackbedford/data/2023-11-02/UDP_Bandlock_9S_Phone_Airport/sm07/#01/data/udp_dnlk_loss_latency.csv\n",
      "163/216 /home/wmnlab/jackbedford/data/2023-11-02/UDP_Bandlock_9S_Phone_Airport/sm07/#01/data/udp_uplk_loss_latency.csv\n",
      "******** Empty RRC Data ********\n",
      "164/216 /home/wmnlab/jackbedford/data/2023-11-02/UDP_Bandlock_9S_Phone_Airport/sm02/#01/data/handover_info_log.csv\n",
      "164/216 /home/wmnlab/jackbedford/data/2023-11-02/UDP_Bandlock_9S_Phone_Airport/sm02/#01/data/udp_dnlk_loss_latency.csv\n",
      "164/216 /home/wmnlab/jackbedford/data/2023-11-02/UDP_Bandlock_9S_Phone_Airport/sm02/#01/data/udp_uplk_loss_latency.csv\n",
      "164/216 /home/wmnlab/jackbedford/data/2023-11-02/UDP_Bandlock_9S_Phone_Airport/sm08/#01/data/handover_info_log.csv\n",
      "164/216 /home/wmnlab/jackbedford/data/2023-11-02/UDP_Bandlock_9S_Phone_Airport/sm08/#01/data/udp_dnlk_loss_latency.csv\n",
      "164/216 /home/wmnlab/jackbedford/data/2023-11-02/UDP_Bandlock_9S_Phone_Airport/sm08/#01/data/udp_uplk_loss_latency.csv\n"
     ]
    },
    {
     "data": {
      "application/vnd.jupyter.widget-view+json": {
       "model_id": "91c1af8f57f6481dac4323a2420ec346",
       "version_major": 2,
       "version_minor": 0
      },
      "text/plain": [
       "  0%|                                                                                                         …"
      ]
     },
     "metadata": {},
     "output_type": "display_data"
    },
    {
     "name": "stdout",
     "output_type": "stream",
     "text": [
      "./20240312_150032342e_newest/20240314_060073cc2b/results/20240314_07515600001_1d4f11bee8b69504/\\home\\wmnlab\\jackbedford\\data\\2023-11-02\\UDP_Bandlock_9S_Phone_Airport\\sm02\\#01\\data\\udp_dnlk_loss_latency\\home\\wmnlab\\jackbedford\\data\\2023-11-02\\UDP_Bandlock_9S_Phone_Airport\\sm08\\#01\\data\\udp_dnlk_loss_latency.csv\n",
      "165/216 /home/wmnlab/jackbedford/data/2023-11-02/UDP_Bandlock_9S_Phone_Airport/sm03/#01/data/handover_info_log.csv\n",
      "165/216 /home/wmnlab/jackbedford/data/2023-11-02/UDP_Bandlock_9S_Phone_Airport/sm03/#01/data/udp_dnlk_loss_latency.csv\n",
      "165/216 /home/wmnlab/jackbedford/data/2023-11-02/UDP_Bandlock_9S_Phone_Airport/sm03/#01/data/udp_uplk_loss_latency.csv\n",
      "165/216 /home/wmnlab/jackbedford/data/2023-11-02/UDP_Bandlock_9S_Phone_Airport/sm04/#01/data/handover_info_log.csv\n",
      "165/216 /home/wmnlab/jackbedford/data/2023-11-02/UDP_Bandlock_9S_Phone_Airport/sm04/#01/data/udp_dnlk_loss_latency.csv\n",
      "165/216 /home/wmnlab/jackbedford/data/2023-11-02/UDP_Bandlock_9S_Phone_Airport/sm04/#01/data/udp_uplk_loss_latency.csv\n",
      "******** Empty RRC Data ********\n",
      "166/216 /home/wmnlab/jackbedford/data/2023-11-02/UDP_Bandlock_9S_Phone_Airport/sm03/#01/data/handover_info_log.csv\n",
      "166/216 /home/wmnlab/jackbedford/data/2023-11-02/UDP_Bandlock_9S_Phone_Airport/sm03/#01/data/udp_dnlk_loss_latency.csv\n",
      "166/216 /home/wmnlab/jackbedford/data/2023-11-02/UDP_Bandlock_9S_Phone_Airport/sm03/#01/data/udp_uplk_loss_latency.csv\n",
      "166/216 /home/wmnlab/jackbedford/data/2023-11-02/UDP_Bandlock_9S_Phone_Airport/sm05/#01/data/handover_info_log.csv\n",
      "166/216 /home/wmnlab/jackbedford/data/2023-11-02/UDP_Bandlock_9S_Phone_Airport/sm05/#01/data/udp_dnlk_loss_latency.csv\n",
      "166/216 /home/wmnlab/jackbedford/data/2023-11-02/UDP_Bandlock_9S_Phone_Airport/sm05/#01/data/udp_uplk_loss_latency.csv\n",
      "******** Empty RRC Data ********\n",
      "167/216 /home/wmnlab/jackbedford/data/2023-11-02/UDP_Bandlock_9S_Phone_Airport/sm03/#01/data/handover_info_log.csv\n",
      "167/216 /home/wmnlab/jackbedford/data/2023-11-02/UDP_Bandlock_9S_Phone_Airport/sm03/#01/data/udp_dnlk_loss_latency.csv\n",
      "167/216 /home/wmnlab/jackbedford/data/2023-11-02/UDP_Bandlock_9S_Phone_Airport/sm03/#01/data/udp_uplk_loss_latency.csv\n",
      "167/216 /home/wmnlab/jackbedford/data/2023-11-02/UDP_Bandlock_9S_Phone_Airport/sm06/#01/data/handover_info_log.csv\n",
      "167/216 /home/wmnlab/jackbedford/data/2023-11-02/UDP_Bandlock_9S_Phone_Airport/sm06/#01/data/udp_dnlk_loss_latency.csv\n",
      "167/216 /home/wmnlab/jackbedford/data/2023-11-02/UDP_Bandlock_9S_Phone_Airport/sm06/#01/data/udp_uplk_loss_latency.csv\n"
     ]
    },
    {
     "data": {
      "application/vnd.jupyter.widget-view+json": {
       "model_id": "b2fea6d68bb641979d80c7e55300ac05",
       "version_major": 2,
       "version_minor": 0
      },
      "text/plain": [
       "  0%|                                                                                                         …"
      ]
     },
     "metadata": {},
     "output_type": "display_data"
    },
    {
     "name": "stdout",
     "output_type": "stream",
     "text": [
      "./20240312_150032342e_newest/20240314_060073cc2b/results/20240314_07515600001_1d4f11bee8b69504/\\home\\wmnlab\\jackbedford\\data\\2023-11-02\\UDP_Bandlock_9S_Phone_Airport\\sm03\\#01\\data\\udp_dnlk_loss_latency\\home\\wmnlab\\jackbedford\\data\\2023-11-02\\UDP_Bandlock_9S_Phone_Airport\\sm06\\#01\\data\\udp_dnlk_loss_latency.csv\n",
      "168/216 /home/wmnlab/jackbedford/data/2023-11-02/UDP_Bandlock_9S_Phone_Airport/sm03/#01/data/handover_info_log.csv\n",
      "168/216 /home/wmnlab/jackbedford/data/2023-11-02/UDP_Bandlock_9S_Phone_Airport/sm03/#01/data/udp_dnlk_loss_latency.csv\n",
      "168/216 /home/wmnlab/jackbedford/data/2023-11-02/UDP_Bandlock_9S_Phone_Airport/sm03/#01/data/udp_uplk_loss_latency.csv\n",
      "168/216 /home/wmnlab/jackbedford/data/2023-11-02/UDP_Bandlock_9S_Phone_Airport/sm07/#01/data/handover_info_log.csv\n",
      "168/216 /home/wmnlab/jackbedford/data/2023-11-02/UDP_Bandlock_9S_Phone_Airport/sm07/#01/data/udp_dnlk_loss_latency.csv\n",
      "168/216 /home/wmnlab/jackbedford/data/2023-11-02/UDP_Bandlock_9S_Phone_Airport/sm07/#01/data/udp_uplk_loss_latency.csv\n",
      "******** Empty RRC Data ********\n",
      "169/216 /home/wmnlab/jackbedford/data/2023-11-02/UDP_Bandlock_9S_Phone_Airport/sm03/#01/data/handover_info_log.csv\n",
      "169/216 /home/wmnlab/jackbedford/data/2023-11-02/UDP_Bandlock_9S_Phone_Airport/sm03/#01/data/udp_dnlk_loss_latency.csv\n",
      "169/216 /home/wmnlab/jackbedford/data/2023-11-02/UDP_Bandlock_9S_Phone_Airport/sm03/#01/data/udp_uplk_loss_latency.csv\n",
      "169/216 /home/wmnlab/jackbedford/data/2023-11-02/UDP_Bandlock_9S_Phone_Airport/sm08/#01/data/handover_info_log.csv\n",
      "169/216 /home/wmnlab/jackbedford/data/2023-11-02/UDP_Bandlock_9S_Phone_Airport/sm08/#01/data/udp_dnlk_loss_latency.csv\n",
      "169/216 /home/wmnlab/jackbedford/data/2023-11-02/UDP_Bandlock_9S_Phone_Airport/sm08/#01/data/udp_uplk_loss_latency.csv\n"
     ]
    },
    {
     "data": {
      "application/vnd.jupyter.widget-view+json": {
       "model_id": "40130c145a18476d9f5368b5f17eb9a1",
       "version_major": 2,
       "version_minor": 0
      },
      "text/plain": [
       "  0%|                                                                                                         …"
      ]
     },
     "metadata": {},
     "output_type": "display_data"
    },
    {
     "name": "stdout",
     "output_type": "stream",
     "text": [
      "./20240312_150032342e_newest/20240314_060073cc2b/results/20240314_07515600001_1d4f11bee8b69504/\\home\\wmnlab\\jackbedford\\data\\2023-11-02\\UDP_Bandlock_9S_Phone_Airport\\sm03\\#01\\data\\udp_dnlk_loss_latency\\home\\wmnlab\\jackbedford\\data\\2023-11-02\\UDP_Bandlock_9S_Phone_Airport\\sm08\\#01\\data\\udp_dnlk_loss_latency.csv\n",
      "170/216 /home/wmnlab/jackbedford/data/2023-11-02/UDP_Bandlock_9S_Phone_Airport/sm04/#01/data/handover_info_log.csv\n",
      "170/216 /home/wmnlab/jackbedford/data/2023-11-02/UDP_Bandlock_9S_Phone_Airport/sm04/#01/data/udp_dnlk_loss_latency.csv\n",
      "170/216 /home/wmnlab/jackbedford/data/2023-11-02/UDP_Bandlock_9S_Phone_Airport/sm04/#01/data/udp_uplk_loss_latency.csv\n",
      "170/216 /home/wmnlab/jackbedford/data/2023-11-02/UDP_Bandlock_9S_Phone_Airport/sm05/#01/data/handover_info_log.csv\n",
      "170/216 /home/wmnlab/jackbedford/data/2023-11-02/UDP_Bandlock_9S_Phone_Airport/sm05/#01/data/udp_dnlk_loss_latency.csv\n",
      "170/216 /home/wmnlab/jackbedford/data/2023-11-02/UDP_Bandlock_9S_Phone_Airport/sm05/#01/data/udp_uplk_loss_latency.csv\n",
      "******** Empty RRC Data ********\n",
      "171/216 /home/wmnlab/jackbedford/data/2023-11-02/UDP_Bandlock_9S_Phone_Airport/sm04/#01/data/handover_info_log.csv\n",
      "171/216 /home/wmnlab/jackbedford/data/2023-11-02/UDP_Bandlock_9S_Phone_Airport/sm04/#01/data/udp_dnlk_loss_latency.csv\n",
      "171/216 /home/wmnlab/jackbedford/data/2023-11-02/UDP_Bandlock_9S_Phone_Airport/sm04/#01/data/udp_uplk_loss_latency.csv\n",
      "171/216 /home/wmnlab/jackbedford/data/2023-11-02/UDP_Bandlock_9S_Phone_Airport/sm06/#01/data/handover_info_log.csv\n",
      "171/216 /home/wmnlab/jackbedford/data/2023-11-02/UDP_Bandlock_9S_Phone_Airport/sm06/#01/data/udp_dnlk_loss_latency.csv\n",
      "171/216 /home/wmnlab/jackbedford/data/2023-11-02/UDP_Bandlock_9S_Phone_Airport/sm06/#01/data/udp_uplk_loss_latency.csv\n",
      "******** Empty RRC Data ********\n",
      "172/216 /home/wmnlab/jackbedford/data/2023-11-02/UDP_Bandlock_9S_Phone_Airport/sm04/#01/data/handover_info_log.csv\n",
      "172/216 /home/wmnlab/jackbedford/data/2023-11-02/UDP_Bandlock_9S_Phone_Airport/sm04/#01/data/udp_dnlk_loss_latency.csv\n",
      "172/216 /home/wmnlab/jackbedford/data/2023-11-02/UDP_Bandlock_9S_Phone_Airport/sm04/#01/data/udp_uplk_loss_latency.csv\n",
      "172/216 /home/wmnlab/jackbedford/data/2023-11-02/UDP_Bandlock_9S_Phone_Airport/sm07/#01/data/handover_info_log.csv\n",
      "172/216 /home/wmnlab/jackbedford/data/2023-11-02/UDP_Bandlock_9S_Phone_Airport/sm07/#01/data/udp_dnlk_loss_latency.csv\n",
      "172/216 /home/wmnlab/jackbedford/data/2023-11-02/UDP_Bandlock_9S_Phone_Airport/sm07/#01/data/udp_uplk_loss_latency.csv\n",
      "******** Empty RRC Data ********\n",
      "173/216 /home/wmnlab/jackbedford/data/2023-11-02/UDP_Bandlock_9S_Phone_Airport/sm04/#01/data/handover_info_log.csv\n",
      "173/216 /home/wmnlab/jackbedford/data/2023-11-02/UDP_Bandlock_9S_Phone_Airport/sm04/#01/data/udp_dnlk_loss_latency.csv\n",
      "173/216 /home/wmnlab/jackbedford/data/2023-11-02/UDP_Bandlock_9S_Phone_Airport/sm04/#01/data/udp_uplk_loss_latency.csv\n",
      "173/216 /home/wmnlab/jackbedford/data/2023-11-02/UDP_Bandlock_9S_Phone_Airport/sm08/#01/data/handover_info_log.csv\n",
      "173/216 /home/wmnlab/jackbedford/data/2023-11-02/UDP_Bandlock_9S_Phone_Airport/sm08/#01/data/udp_dnlk_loss_latency.csv\n",
      "173/216 /home/wmnlab/jackbedford/data/2023-11-02/UDP_Bandlock_9S_Phone_Airport/sm08/#01/data/udp_uplk_loss_latency.csv\n",
      "******** Empty RRC Data ********\n",
      "174/216 /home/wmnlab/jackbedford/data/2023-11-02/UDP_Bandlock_9S_Phone_Airport/sm05/#01/data/handover_info_log.csv\n",
      "174/216 /home/wmnlab/jackbedford/data/2023-11-02/UDP_Bandlock_9S_Phone_Airport/sm05/#01/data/udp_dnlk_loss_latency.csv\n",
      "174/216 /home/wmnlab/jackbedford/data/2023-11-02/UDP_Bandlock_9S_Phone_Airport/sm05/#01/data/udp_uplk_loss_latency.csv\n",
      "174/216 /home/wmnlab/jackbedford/data/2023-11-02/UDP_Bandlock_9S_Phone_Airport/sm06/#01/data/handover_info_log.csv\n",
      "174/216 /home/wmnlab/jackbedford/data/2023-11-02/UDP_Bandlock_9S_Phone_Airport/sm06/#01/data/udp_dnlk_loss_latency.csv\n",
      "174/216 /home/wmnlab/jackbedford/data/2023-11-02/UDP_Bandlock_9S_Phone_Airport/sm06/#01/data/udp_uplk_loss_latency.csv\n",
      "******** Empty RRC Data ********\n",
      "175/216 /home/wmnlab/jackbedford/data/2023-11-02/UDP_Bandlock_9S_Phone_Airport/sm05/#01/data/handover_info_log.csv\n",
      "175/216 /home/wmnlab/jackbedford/data/2023-11-02/UDP_Bandlock_9S_Phone_Airport/sm05/#01/data/udp_dnlk_loss_latency.csv\n",
      "175/216 /home/wmnlab/jackbedford/data/2023-11-02/UDP_Bandlock_9S_Phone_Airport/sm05/#01/data/udp_uplk_loss_latency.csv\n",
      "175/216 /home/wmnlab/jackbedford/data/2023-11-02/UDP_Bandlock_9S_Phone_Airport/sm07/#01/data/handover_info_log.csv\n",
      "175/216 /home/wmnlab/jackbedford/data/2023-11-02/UDP_Bandlock_9S_Phone_Airport/sm07/#01/data/udp_dnlk_loss_latency.csv\n",
      "175/216 /home/wmnlab/jackbedford/data/2023-11-02/UDP_Bandlock_9S_Phone_Airport/sm07/#01/data/udp_uplk_loss_latency.csv\n",
      "******** Empty RRC Data ********\n",
      "176/216 /home/wmnlab/jackbedford/data/2023-11-02/UDP_Bandlock_9S_Phone_Airport/sm05/#01/data/handover_info_log.csv\n",
      "176/216 /home/wmnlab/jackbedford/data/2023-11-02/UDP_Bandlock_9S_Phone_Airport/sm05/#01/data/udp_dnlk_loss_latency.csv\n",
      "176/216 /home/wmnlab/jackbedford/data/2023-11-02/UDP_Bandlock_9S_Phone_Airport/sm05/#01/data/udp_uplk_loss_latency.csv\n",
      "176/216 /home/wmnlab/jackbedford/data/2023-11-02/UDP_Bandlock_9S_Phone_Airport/sm08/#01/data/handover_info_log.csv\n",
      "176/216 /home/wmnlab/jackbedford/data/2023-11-02/UDP_Bandlock_9S_Phone_Airport/sm08/#01/data/udp_dnlk_loss_latency.csv\n",
      "176/216 /home/wmnlab/jackbedford/data/2023-11-02/UDP_Bandlock_9S_Phone_Airport/sm08/#01/data/udp_uplk_loss_latency.csv\n",
      "******** Empty RRC Data ********\n",
      "177/216 /home/wmnlab/jackbedford/data/2023-11-02/UDP_Bandlock_9S_Phone_Airport/sm06/#01/data/handover_info_log.csv\n",
      "177/216 /home/wmnlab/jackbedford/data/2023-11-02/UDP_Bandlock_9S_Phone_Airport/sm06/#01/data/udp_dnlk_loss_latency.csv\n",
      "177/216 /home/wmnlab/jackbedford/data/2023-11-02/UDP_Bandlock_9S_Phone_Airport/sm06/#01/data/udp_uplk_loss_latency.csv\n",
      "177/216 /home/wmnlab/jackbedford/data/2023-11-02/UDP_Bandlock_9S_Phone_Airport/sm07/#01/data/handover_info_log.csv\n",
      "177/216 /home/wmnlab/jackbedford/data/2023-11-02/UDP_Bandlock_9S_Phone_Airport/sm07/#01/data/udp_dnlk_loss_latency.csv\n",
      "177/216 /home/wmnlab/jackbedford/data/2023-11-02/UDP_Bandlock_9S_Phone_Airport/sm07/#01/data/udp_uplk_loss_latency.csv\n",
      "******** Empty RRC Data ********\n",
      "178/216 /home/wmnlab/jackbedford/data/2023-11-02/UDP_Bandlock_9S_Phone_Airport/sm06/#01/data/handover_info_log.csv\n",
      "178/216 /home/wmnlab/jackbedford/data/2023-11-02/UDP_Bandlock_9S_Phone_Airport/sm06/#01/data/udp_dnlk_loss_latency.csv\n",
      "178/216 /home/wmnlab/jackbedford/data/2023-11-02/UDP_Bandlock_9S_Phone_Airport/sm06/#01/data/udp_uplk_loss_latency.csv\n",
      "178/216 /home/wmnlab/jackbedford/data/2023-11-02/UDP_Bandlock_9S_Phone_Airport/sm08/#01/data/handover_info_log.csv\n",
      "178/216 /home/wmnlab/jackbedford/data/2023-11-02/UDP_Bandlock_9S_Phone_Airport/sm08/#01/data/udp_dnlk_loss_latency.csv\n",
      "178/216 /home/wmnlab/jackbedford/data/2023-11-02/UDP_Bandlock_9S_Phone_Airport/sm08/#01/data/udp_uplk_loss_latency.csv\n"
     ]
    },
    {
     "data": {
      "application/vnd.jupyter.widget-view+json": {
       "model_id": "7b3d63d5b4cf402593cb864403f403db",
       "version_major": 2,
       "version_minor": 0
      },
      "text/plain": [
       "  0%|                                                                                                         …"
      ]
     },
     "metadata": {},
     "output_type": "display_data"
    },
    {
     "name": "stdout",
     "output_type": "stream",
     "text": [
      "./20240312_150032342e_newest/20240314_060073cc2b/results/20240314_07515600001_1d4f11bee8b69504/\\home\\wmnlab\\jackbedford\\data\\2023-11-02\\UDP_Bandlock_9S_Phone_Airport\\sm06\\#01\\data\\udp_dnlk_loss_latency\\home\\wmnlab\\jackbedford\\data\\2023-11-02\\UDP_Bandlock_9S_Phone_Airport\\sm08\\#01\\data\\udp_dnlk_loss_latency.csv\n",
      "179/216 /home/wmnlab/jackbedford/data/2023-11-02/UDP_Bandlock_9S_Phone_Airport/sm07/#01/data/handover_info_log.csv\n",
      "179/216 /home/wmnlab/jackbedford/data/2023-11-02/UDP_Bandlock_9S_Phone_Airport/sm07/#01/data/udp_dnlk_loss_latency.csv\n",
      "179/216 /home/wmnlab/jackbedford/data/2023-11-02/UDP_Bandlock_9S_Phone_Airport/sm07/#01/data/udp_uplk_loss_latency.csv\n",
      "179/216 /home/wmnlab/jackbedford/data/2023-11-02/UDP_Bandlock_9S_Phone_Airport/sm08/#01/data/handover_info_log.csv\n",
      "179/216 /home/wmnlab/jackbedford/data/2023-11-02/UDP_Bandlock_9S_Phone_Airport/sm08/#01/data/udp_dnlk_loss_latency.csv\n",
      "179/216 /home/wmnlab/jackbedford/data/2023-11-02/UDP_Bandlock_9S_Phone_Airport/sm08/#01/data/udp_uplk_loss_latency.csv\n",
      "******** Empty RRC Data ********\n",
      "180/216 /home/wmnlab/jackbedford/data/2023-11-02/UDP_Bandlock_9S_Phone_Airport/sm00/#02/data/handover_info_log.csv\n",
      "180/216 /home/wmnlab/jackbedford/data/2023-11-02/UDP_Bandlock_9S_Phone_Airport/sm00/#02/data/udp_dnlk_loss_latency.csv\n",
      "180/216 /home/wmnlab/jackbedford/data/2023-11-02/UDP_Bandlock_9S_Phone_Airport/sm00/#02/data/udp_uplk_loss_latency.csv\n",
      "180/216 /home/wmnlab/jackbedford/data/2023-11-02/UDP_Bandlock_9S_Phone_Airport/sm01/#02/data/handover_info_log.csv\n",
      "180/216 /home/wmnlab/jackbedford/data/2023-11-02/UDP_Bandlock_9S_Phone_Airport/sm01/#02/data/udp_dnlk_loss_latency.csv\n",
      "180/216 /home/wmnlab/jackbedford/data/2023-11-02/UDP_Bandlock_9S_Phone_Airport/sm01/#02/data/udp_uplk_loss_latency.csv\n"
     ]
    },
    {
     "data": {
      "application/vnd.jupyter.widget-view+json": {
       "model_id": "0e507ec362094f919eee49dceb05c244",
       "version_major": 2,
       "version_minor": 0
      },
      "text/plain": [
       "  0%|                                                                                                         …"
      ]
     },
     "metadata": {},
     "output_type": "display_data"
    },
    {
     "name": "stdout",
     "output_type": "stream",
     "text": [
      "./20240312_150032342e_newest/20240314_060073cc2b/results/20240314_07515600001_1d4f11bee8b69504/\\home\\wmnlab\\jackbedford\\data\\2023-11-02\\UDP_Bandlock_9S_Phone_Airport\\sm00\\#02\\data\\udp_dnlk_loss_latency\\home\\wmnlab\\jackbedford\\data\\2023-11-02\\UDP_Bandlock_9S_Phone_Airport\\sm01\\#02\\data\\udp_dnlk_loss_latency.csv\n",
      "181/216 /home/wmnlab/jackbedford/data/2023-11-02/UDP_Bandlock_9S_Phone_Airport/sm00/#02/data/handover_info_log.csv\n",
      "181/216 /home/wmnlab/jackbedford/data/2023-11-02/UDP_Bandlock_9S_Phone_Airport/sm00/#02/data/udp_dnlk_loss_latency.csv\n",
      "181/216 /home/wmnlab/jackbedford/data/2023-11-02/UDP_Bandlock_9S_Phone_Airport/sm00/#02/data/udp_uplk_loss_latency.csv\n",
      "181/216 /home/wmnlab/jackbedford/data/2023-11-02/UDP_Bandlock_9S_Phone_Airport/sm02/#02/data/handover_info_log.csv\n",
      "181/216 /home/wmnlab/jackbedford/data/2023-11-02/UDP_Bandlock_9S_Phone_Airport/sm02/#02/data/udp_dnlk_loss_latency.csv\n",
      "181/216 /home/wmnlab/jackbedford/data/2023-11-02/UDP_Bandlock_9S_Phone_Airport/sm02/#02/data/udp_uplk_loss_latency.csv\n"
     ]
    },
    {
     "data": {
      "application/vnd.jupyter.widget-view+json": {
       "model_id": "0f9d438dab844b60b9f474d0a8c9863f",
       "version_major": 2,
       "version_minor": 0
      },
      "text/plain": [
       "  0%|                                                                                                         …"
      ]
     },
     "metadata": {},
     "output_type": "display_data"
    },
    {
     "name": "stdout",
     "output_type": "stream",
     "text": [
      "./20240312_150032342e_newest/20240314_060073cc2b/results/20240314_07515600001_1d4f11bee8b69504/\\home\\wmnlab\\jackbedford\\data\\2023-11-02\\UDP_Bandlock_9S_Phone_Airport\\sm00\\#02\\data\\udp_dnlk_loss_latency\\home\\wmnlab\\jackbedford\\data\\2023-11-02\\UDP_Bandlock_9S_Phone_Airport\\sm02\\#02\\data\\udp_dnlk_loss_latency.csv\n",
      "182/216 /home/wmnlab/jackbedford/data/2023-11-02/UDP_Bandlock_9S_Phone_Airport/sm00/#02/data/handover_info_log.csv\n",
      "182/216 /home/wmnlab/jackbedford/data/2023-11-02/UDP_Bandlock_9S_Phone_Airport/sm00/#02/data/udp_dnlk_loss_latency.csv\n",
      "182/216 /home/wmnlab/jackbedford/data/2023-11-02/UDP_Bandlock_9S_Phone_Airport/sm00/#02/data/udp_uplk_loss_latency.csv\n",
      "182/216 /home/wmnlab/jackbedford/data/2023-11-02/UDP_Bandlock_9S_Phone_Airport/sm03/#02/data/handover_info_log.csv\n",
      "182/216 /home/wmnlab/jackbedford/data/2023-11-02/UDP_Bandlock_9S_Phone_Airport/sm03/#02/data/udp_dnlk_loss_latency.csv\n",
      "182/216 /home/wmnlab/jackbedford/data/2023-11-02/UDP_Bandlock_9S_Phone_Airport/sm03/#02/data/udp_uplk_loss_latency.csv\n"
     ]
    },
    {
     "data": {
      "application/vnd.jupyter.widget-view+json": {
       "model_id": "2105f8ad51474820b967f96699357ecc",
       "version_major": 2,
       "version_minor": 0
      },
      "text/plain": [
       "  0%|                                                                                                         …"
      ]
     },
     "metadata": {},
     "output_type": "display_data"
    },
    {
     "name": "stdout",
     "output_type": "stream",
     "text": [
      "./20240312_150032342e_newest/20240314_060073cc2b/results/20240314_07515600001_1d4f11bee8b69504/\\home\\wmnlab\\jackbedford\\data\\2023-11-02\\UDP_Bandlock_9S_Phone_Airport\\sm00\\#02\\data\\udp_dnlk_loss_latency\\home\\wmnlab\\jackbedford\\data\\2023-11-02\\UDP_Bandlock_9S_Phone_Airport\\sm03\\#02\\data\\udp_dnlk_loss_latency.csv\n",
      "183/216 /home/wmnlab/jackbedford/data/2023-11-02/UDP_Bandlock_9S_Phone_Airport/sm00/#02/data/handover_info_log.csv\n",
      "183/216 /home/wmnlab/jackbedford/data/2023-11-02/UDP_Bandlock_9S_Phone_Airport/sm00/#02/data/udp_dnlk_loss_latency.csv\n",
      "183/216 /home/wmnlab/jackbedford/data/2023-11-02/UDP_Bandlock_9S_Phone_Airport/sm00/#02/data/udp_uplk_loss_latency.csv\n",
      "183/216 /home/wmnlab/jackbedford/data/2023-11-02/UDP_Bandlock_9S_Phone_Airport/sm04/#02/data/handover_info_log.csv\n",
      "183/216 /home/wmnlab/jackbedford/data/2023-11-02/UDP_Bandlock_9S_Phone_Airport/sm04/#02/data/udp_dnlk_loss_latency.csv\n",
      "183/216 /home/wmnlab/jackbedford/data/2023-11-02/UDP_Bandlock_9S_Phone_Airport/sm04/#02/data/udp_uplk_loss_latency.csv\n"
     ]
    },
    {
     "data": {
      "application/vnd.jupyter.widget-view+json": {
       "model_id": "c71d4c1865a24174b17f9530eeec0c6a",
       "version_major": 2,
       "version_minor": 0
      },
      "text/plain": [
       "  0%|                                                                                                         …"
      ]
     },
     "metadata": {},
     "output_type": "display_data"
    },
    {
     "name": "stdout",
     "output_type": "stream",
     "text": [
      "./20240312_150032342e_newest/20240314_060073cc2b/results/20240314_07515600001_1d4f11bee8b69504/\\home\\wmnlab\\jackbedford\\data\\2023-11-02\\UDP_Bandlock_9S_Phone_Airport\\sm00\\#02\\data\\udp_dnlk_loss_latency\\home\\wmnlab\\jackbedford\\data\\2023-11-02\\UDP_Bandlock_9S_Phone_Airport\\sm04\\#02\\data\\udp_dnlk_loss_latency.csv\n",
      "184/216 /home/wmnlab/jackbedford/data/2023-11-02/UDP_Bandlock_9S_Phone_Airport/sm00/#02/data/handover_info_log.csv\n",
      "184/216 /home/wmnlab/jackbedford/data/2023-11-02/UDP_Bandlock_9S_Phone_Airport/sm00/#02/data/udp_dnlk_loss_latency.csv\n",
      "184/216 /home/wmnlab/jackbedford/data/2023-11-02/UDP_Bandlock_9S_Phone_Airport/sm00/#02/data/udp_uplk_loss_latency.csv\n",
      "184/216 /home/wmnlab/jackbedford/data/2023-11-02/UDP_Bandlock_9S_Phone_Airport/sm05/#02/data/handover_info_log.csv\n",
      "184/216 /home/wmnlab/jackbedford/data/2023-11-02/UDP_Bandlock_9S_Phone_Airport/sm05/#02/data/udp_dnlk_loss_latency.csv\n",
      "184/216 /home/wmnlab/jackbedford/data/2023-11-02/UDP_Bandlock_9S_Phone_Airport/sm05/#02/data/udp_uplk_loss_latency.csv\n"
     ]
    },
    {
     "data": {
      "application/vnd.jupyter.widget-view+json": {
       "model_id": "115d5c21f75a49a5af38e72401a78534",
       "version_major": 2,
       "version_minor": 0
      },
      "text/plain": [
       "  0%|                                                                                                         …"
      ]
     },
     "metadata": {},
     "output_type": "display_data"
    },
    {
     "name": "stdout",
     "output_type": "stream",
     "text": [
      "./20240312_150032342e_newest/20240314_060073cc2b/results/20240314_07515600001_1d4f11bee8b69504/\\home\\wmnlab\\jackbedford\\data\\2023-11-02\\UDP_Bandlock_9S_Phone_Airport\\sm00\\#02\\data\\udp_dnlk_loss_latency\\home\\wmnlab\\jackbedford\\data\\2023-11-02\\UDP_Bandlock_9S_Phone_Airport\\sm05\\#02\\data\\udp_dnlk_loss_latency.csv\n",
      "185/216 /home/wmnlab/jackbedford/data/2023-11-02/UDP_Bandlock_9S_Phone_Airport/sm00/#02/data/handover_info_log.csv\n",
      "185/216 /home/wmnlab/jackbedford/data/2023-11-02/UDP_Bandlock_9S_Phone_Airport/sm00/#02/data/udp_dnlk_loss_latency.csv\n",
      "185/216 /home/wmnlab/jackbedford/data/2023-11-02/UDP_Bandlock_9S_Phone_Airport/sm00/#02/data/udp_uplk_loss_latency.csv\n",
      "185/216 /home/wmnlab/jackbedford/data/2023-11-02/UDP_Bandlock_9S_Phone_Airport/sm06/#02/data/handover_info_log.csv\n",
      "185/216 /home/wmnlab/jackbedford/data/2023-11-02/UDP_Bandlock_9S_Phone_Airport/sm06/#02/data/udp_dnlk_loss_latency.csv\n",
      "185/216 /home/wmnlab/jackbedford/data/2023-11-02/UDP_Bandlock_9S_Phone_Airport/sm06/#02/data/udp_uplk_loss_latency.csv\n"
     ]
    },
    {
     "data": {
      "application/vnd.jupyter.widget-view+json": {
       "model_id": "536b2b226ff440b8b4246ec2cc731f83",
       "version_major": 2,
       "version_minor": 0
      },
      "text/plain": [
       "  0%|                                                                                                         …"
      ]
     },
     "metadata": {},
     "output_type": "display_data"
    },
    {
     "name": "stdout",
     "output_type": "stream",
     "text": [
      "./20240312_150032342e_newest/20240314_060073cc2b/results/20240314_07515600001_1d4f11bee8b69504/\\home\\wmnlab\\jackbedford\\data\\2023-11-02\\UDP_Bandlock_9S_Phone_Airport\\sm00\\#02\\data\\udp_dnlk_loss_latency\\home\\wmnlab\\jackbedford\\data\\2023-11-02\\UDP_Bandlock_9S_Phone_Airport\\sm06\\#02\\data\\udp_dnlk_loss_latency.csv\n",
      "186/216 /home/wmnlab/jackbedford/data/2023-11-02/UDP_Bandlock_9S_Phone_Airport/sm00/#02/data/handover_info_log.csv\n",
      "186/216 /home/wmnlab/jackbedford/data/2023-11-02/UDP_Bandlock_9S_Phone_Airport/sm00/#02/data/udp_dnlk_loss_latency.csv\n",
      "186/216 /home/wmnlab/jackbedford/data/2023-11-02/UDP_Bandlock_9S_Phone_Airport/sm00/#02/data/udp_uplk_loss_latency.csv\n",
      "186/216 /home/wmnlab/jackbedford/data/2023-11-02/UDP_Bandlock_9S_Phone_Airport/sm07/#02/data/handover_info_log.csv\n",
      "186/216 /home/wmnlab/jackbedford/data/2023-11-02/UDP_Bandlock_9S_Phone_Airport/sm07/#02/data/udp_dnlk_loss_latency.csv\n",
      "186/216 /home/wmnlab/jackbedford/data/2023-11-02/UDP_Bandlock_9S_Phone_Airport/sm07/#02/data/udp_uplk_loss_latency.csv\n"
     ]
    },
    {
     "data": {
      "application/vnd.jupyter.widget-view+json": {
       "model_id": "0cadf0510e2f4e8e9a9358f36bc0e723",
       "version_major": 2,
       "version_minor": 0
      },
      "text/plain": [
       "  0%|                                                                                                         …"
      ]
     },
     "metadata": {},
     "output_type": "display_data"
    },
    {
     "name": "stdout",
     "output_type": "stream",
     "text": [
      "./20240312_150032342e_newest/20240314_060073cc2b/results/20240314_07515600001_1d4f11bee8b69504/\\home\\wmnlab\\jackbedford\\data\\2023-11-02\\UDP_Bandlock_9S_Phone_Airport\\sm00\\#02\\data\\udp_dnlk_loss_latency\\home\\wmnlab\\jackbedford\\data\\2023-11-02\\UDP_Bandlock_9S_Phone_Airport\\sm07\\#02\\data\\udp_dnlk_loss_latency.csv\n",
      "187/216 /home/wmnlab/jackbedford/data/2023-11-02/UDP_Bandlock_9S_Phone_Airport/sm00/#02/data/handover_info_log.csv\n",
      "187/216 /home/wmnlab/jackbedford/data/2023-11-02/UDP_Bandlock_9S_Phone_Airport/sm00/#02/data/udp_dnlk_loss_latency.csv\n",
      "187/216 /home/wmnlab/jackbedford/data/2023-11-02/UDP_Bandlock_9S_Phone_Airport/sm00/#02/data/udp_uplk_loss_latency.csv\n",
      "187/216 /home/wmnlab/jackbedford/data/2023-11-02/UDP_Bandlock_9S_Phone_Airport/sm08/#02/data/handover_info_log.csv\n",
      "187/216 /home/wmnlab/jackbedford/data/2023-11-02/UDP_Bandlock_9S_Phone_Airport/sm08/#02/data/udp_dnlk_loss_latency.csv\n",
      "187/216 /home/wmnlab/jackbedford/data/2023-11-02/UDP_Bandlock_9S_Phone_Airport/sm08/#02/data/udp_uplk_loss_latency.csv\n"
     ]
    },
    {
     "data": {
      "application/vnd.jupyter.widget-view+json": {
       "model_id": "b5bb39e6f67e4bb687e189e34591eb5f",
       "version_major": 2,
       "version_minor": 0
      },
      "text/plain": [
       "  0%|                                                                                                         …"
      ]
     },
     "metadata": {},
     "output_type": "display_data"
    },
    {
     "name": "stdout",
     "output_type": "stream",
     "text": [
      "./20240312_150032342e_newest/20240314_060073cc2b/results/20240314_07515600001_1d4f11bee8b69504/\\home\\wmnlab\\jackbedford\\data\\2023-11-02\\UDP_Bandlock_9S_Phone_Airport\\sm00\\#02\\data\\udp_dnlk_loss_latency\\home\\wmnlab\\jackbedford\\data\\2023-11-02\\UDP_Bandlock_9S_Phone_Airport\\sm08\\#02\\data\\udp_dnlk_loss_latency.csv\n",
      "188/216 /home/wmnlab/jackbedford/data/2023-11-02/UDP_Bandlock_9S_Phone_Airport/sm01/#02/data/handover_info_log.csv\n",
      "188/216 /home/wmnlab/jackbedford/data/2023-11-02/UDP_Bandlock_9S_Phone_Airport/sm01/#02/data/udp_dnlk_loss_latency.csv\n",
      "188/216 /home/wmnlab/jackbedford/data/2023-11-02/UDP_Bandlock_9S_Phone_Airport/sm01/#02/data/udp_uplk_loss_latency.csv\n",
      "188/216 /home/wmnlab/jackbedford/data/2023-11-02/UDP_Bandlock_9S_Phone_Airport/sm02/#02/data/handover_info_log.csv\n",
      "188/216 /home/wmnlab/jackbedford/data/2023-11-02/UDP_Bandlock_9S_Phone_Airport/sm02/#02/data/udp_dnlk_loss_latency.csv\n",
      "188/216 /home/wmnlab/jackbedford/data/2023-11-02/UDP_Bandlock_9S_Phone_Airport/sm02/#02/data/udp_uplk_loss_latency.csv\n"
     ]
    },
    {
     "data": {
      "application/vnd.jupyter.widget-view+json": {
       "model_id": "dd4f7e5d7ce148e4a207a3ae39a15cf8",
       "version_major": 2,
       "version_minor": 0
      },
      "text/plain": [
       "  0%|                                                                                                         …"
      ]
     },
     "metadata": {},
     "output_type": "display_data"
    },
    {
     "name": "stdout",
     "output_type": "stream",
     "text": [
      "./20240312_150032342e_newest/20240314_060073cc2b/results/20240314_07515600001_1d4f11bee8b69504/\\home\\wmnlab\\jackbedford\\data\\2023-11-02\\UDP_Bandlock_9S_Phone_Airport\\sm01\\#02\\data\\udp_dnlk_loss_latency\\home\\wmnlab\\jackbedford\\data\\2023-11-02\\UDP_Bandlock_9S_Phone_Airport\\sm02\\#02\\data\\udp_dnlk_loss_latency.csv\n",
      "189/216 /home/wmnlab/jackbedford/data/2023-11-02/UDP_Bandlock_9S_Phone_Airport/sm01/#02/data/handover_info_log.csv\n",
      "189/216 /home/wmnlab/jackbedford/data/2023-11-02/UDP_Bandlock_9S_Phone_Airport/sm01/#02/data/udp_dnlk_loss_latency.csv\n",
      "189/216 /home/wmnlab/jackbedford/data/2023-11-02/UDP_Bandlock_9S_Phone_Airport/sm01/#02/data/udp_uplk_loss_latency.csv\n",
      "189/216 /home/wmnlab/jackbedford/data/2023-11-02/UDP_Bandlock_9S_Phone_Airport/sm03/#02/data/handover_info_log.csv\n",
      "189/216 /home/wmnlab/jackbedford/data/2023-11-02/UDP_Bandlock_9S_Phone_Airport/sm03/#02/data/udp_dnlk_loss_latency.csv\n",
      "189/216 /home/wmnlab/jackbedford/data/2023-11-02/UDP_Bandlock_9S_Phone_Airport/sm03/#02/data/udp_uplk_loss_latency.csv\n"
     ]
    },
    {
     "data": {
      "application/vnd.jupyter.widget-view+json": {
       "model_id": "aa191e20d5ba4dbd84ea3dcc29ca01b5",
       "version_major": 2,
       "version_minor": 0
      },
      "text/plain": [
       "  0%|                                                                                                         …"
      ]
     },
     "metadata": {},
     "output_type": "display_data"
    },
    {
     "name": "stdout",
     "output_type": "stream",
     "text": [
      "./20240312_150032342e_newest/20240314_060073cc2b/results/20240314_07515600001_1d4f11bee8b69504/\\home\\wmnlab\\jackbedford\\data\\2023-11-02\\UDP_Bandlock_9S_Phone_Airport\\sm01\\#02\\data\\udp_dnlk_loss_latency\\home\\wmnlab\\jackbedford\\data\\2023-11-02\\UDP_Bandlock_9S_Phone_Airport\\sm03\\#02\\data\\udp_dnlk_loss_latency.csv\n",
      "190/216 /home/wmnlab/jackbedford/data/2023-11-02/UDP_Bandlock_9S_Phone_Airport/sm01/#02/data/handover_info_log.csv\n",
      "190/216 /home/wmnlab/jackbedford/data/2023-11-02/UDP_Bandlock_9S_Phone_Airport/sm01/#02/data/udp_dnlk_loss_latency.csv\n",
      "190/216 /home/wmnlab/jackbedford/data/2023-11-02/UDP_Bandlock_9S_Phone_Airport/sm01/#02/data/udp_uplk_loss_latency.csv\n",
      "190/216 /home/wmnlab/jackbedford/data/2023-11-02/UDP_Bandlock_9S_Phone_Airport/sm04/#02/data/handover_info_log.csv\n",
      "190/216 /home/wmnlab/jackbedford/data/2023-11-02/UDP_Bandlock_9S_Phone_Airport/sm04/#02/data/udp_dnlk_loss_latency.csv\n",
      "190/216 /home/wmnlab/jackbedford/data/2023-11-02/UDP_Bandlock_9S_Phone_Airport/sm04/#02/data/udp_uplk_loss_latency.csv\n"
     ]
    },
    {
     "data": {
      "application/vnd.jupyter.widget-view+json": {
       "model_id": "af9abb52dda649ada33ca8c438f4eaf6",
       "version_major": 2,
       "version_minor": 0
      },
      "text/plain": [
       "  0%|                                                                                                         …"
      ]
     },
     "metadata": {},
     "output_type": "display_data"
    },
    {
     "name": "stdout",
     "output_type": "stream",
     "text": [
      "./20240312_150032342e_newest/20240314_060073cc2b/results/20240314_07515600001_1d4f11bee8b69504/\\home\\wmnlab\\jackbedford\\data\\2023-11-02\\UDP_Bandlock_9S_Phone_Airport\\sm01\\#02\\data\\udp_dnlk_loss_latency\\home\\wmnlab\\jackbedford\\data\\2023-11-02\\UDP_Bandlock_9S_Phone_Airport\\sm04\\#02\\data\\udp_dnlk_loss_latency.csv\n",
      "191/216 /home/wmnlab/jackbedford/data/2023-11-02/UDP_Bandlock_9S_Phone_Airport/sm01/#02/data/handover_info_log.csv\n",
      "191/216 /home/wmnlab/jackbedford/data/2023-11-02/UDP_Bandlock_9S_Phone_Airport/sm01/#02/data/udp_dnlk_loss_latency.csv\n",
      "191/216 /home/wmnlab/jackbedford/data/2023-11-02/UDP_Bandlock_9S_Phone_Airport/sm01/#02/data/udp_uplk_loss_latency.csv\n",
      "191/216 /home/wmnlab/jackbedford/data/2023-11-02/UDP_Bandlock_9S_Phone_Airport/sm05/#02/data/handover_info_log.csv\n",
      "191/216 /home/wmnlab/jackbedford/data/2023-11-02/UDP_Bandlock_9S_Phone_Airport/sm05/#02/data/udp_dnlk_loss_latency.csv\n",
      "191/216 /home/wmnlab/jackbedford/data/2023-11-02/UDP_Bandlock_9S_Phone_Airport/sm05/#02/data/udp_uplk_loss_latency.csv\n"
     ]
    },
    {
     "data": {
      "application/vnd.jupyter.widget-view+json": {
       "model_id": "1c34f43cac4f4231b960050b8928dff7",
       "version_major": 2,
       "version_minor": 0
      },
      "text/plain": [
       "  0%|                                                                                                         …"
      ]
     },
     "metadata": {},
     "output_type": "display_data"
    },
    {
     "name": "stdout",
     "output_type": "stream",
     "text": [
      "./20240312_150032342e_newest/20240314_060073cc2b/results/20240314_07515600001_1d4f11bee8b69504/\\home\\wmnlab\\jackbedford\\data\\2023-11-02\\UDP_Bandlock_9S_Phone_Airport\\sm01\\#02\\data\\udp_dnlk_loss_latency\\home\\wmnlab\\jackbedford\\data\\2023-11-02\\UDP_Bandlock_9S_Phone_Airport\\sm05\\#02\\data\\udp_dnlk_loss_latency.csv\n",
      "192/216 /home/wmnlab/jackbedford/data/2023-11-02/UDP_Bandlock_9S_Phone_Airport/sm01/#02/data/handover_info_log.csv\n",
      "192/216 /home/wmnlab/jackbedford/data/2023-11-02/UDP_Bandlock_9S_Phone_Airport/sm01/#02/data/udp_dnlk_loss_latency.csv\n",
      "192/216 /home/wmnlab/jackbedford/data/2023-11-02/UDP_Bandlock_9S_Phone_Airport/sm01/#02/data/udp_uplk_loss_latency.csv\n",
      "192/216 /home/wmnlab/jackbedford/data/2023-11-02/UDP_Bandlock_9S_Phone_Airport/sm06/#02/data/handover_info_log.csv\n",
      "192/216 /home/wmnlab/jackbedford/data/2023-11-02/UDP_Bandlock_9S_Phone_Airport/sm06/#02/data/udp_dnlk_loss_latency.csv\n",
      "192/216 /home/wmnlab/jackbedford/data/2023-11-02/UDP_Bandlock_9S_Phone_Airport/sm06/#02/data/udp_uplk_loss_latency.csv\n"
     ]
    },
    {
     "data": {
      "application/vnd.jupyter.widget-view+json": {
       "model_id": "4e6e86dff44f4c4da73dcc5688619545",
       "version_major": 2,
       "version_minor": 0
      },
      "text/plain": [
       "  0%|                                                                                                         …"
      ]
     },
     "metadata": {},
     "output_type": "display_data"
    },
    {
     "name": "stdout",
     "output_type": "stream",
     "text": [
      "./20240312_150032342e_newest/20240314_060073cc2b/results/20240314_07515600001_1d4f11bee8b69504/\\home\\wmnlab\\jackbedford\\data\\2023-11-02\\UDP_Bandlock_9S_Phone_Airport\\sm01\\#02\\data\\udp_dnlk_loss_latency\\home\\wmnlab\\jackbedford\\data\\2023-11-02\\UDP_Bandlock_9S_Phone_Airport\\sm06\\#02\\data\\udp_dnlk_loss_latency.csv\n",
      "193/216 /home/wmnlab/jackbedford/data/2023-11-02/UDP_Bandlock_9S_Phone_Airport/sm01/#02/data/handover_info_log.csv\n",
      "193/216 /home/wmnlab/jackbedford/data/2023-11-02/UDP_Bandlock_9S_Phone_Airport/sm01/#02/data/udp_dnlk_loss_latency.csv\n",
      "193/216 /home/wmnlab/jackbedford/data/2023-11-02/UDP_Bandlock_9S_Phone_Airport/sm01/#02/data/udp_uplk_loss_latency.csv\n",
      "193/216 /home/wmnlab/jackbedford/data/2023-11-02/UDP_Bandlock_9S_Phone_Airport/sm07/#02/data/handover_info_log.csv\n",
      "193/216 /home/wmnlab/jackbedford/data/2023-11-02/UDP_Bandlock_9S_Phone_Airport/sm07/#02/data/udp_dnlk_loss_latency.csv\n",
      "193/216 /home/wmnlab/jackbedford/data/2023-11-02/UDP_Bandlock_9S_Phone_Airport/sm07/#02/data/udp_uplk_loss_latency.csv\n"
     ]
    },
    {
     "data": {
      "application/vnd.jupyter.widget-view+json": {
       "model_id": "04b73e19249448c7ab1d4ba9218e94e5",
       "version_major": 2,
       "version_minor": 0
      },
      "text/plain": [
       "  0%|                                                                                                         …"
      ]
     },
     "metadata": {},
     "output_type": "display_data"
    },
    {
     "name": "stdout",
     "output_type": "stream",
     "text": [
      "./20240312_150032342e_newest/20240314_060073cc2b/results/20240314_07515600001_1d4f11bee8b69504/\\home\\wmnlab\\jackbedford\\data\\2023-11-02\\UDP_Bandlock_9S_Phone_Airport\\sm01\\#02\\data\\udp_dnlk_loss_latency\\home\\wmnlab\\jackbedford\\data\\2023-11-02\\UDP_Bandlock_9S_Phone_Airport\\sm07\\#02\\data\\udp_dnlk_loss_latency.csv\n",
      "194/216 /home/wmnlab/jackbedford/data/2023-11-02/UDP_Bandlock_9S_Phone_Airport/sm01/#02/data/handover_info_log.csv\n",
      "194/216 /home/wmnlab/jackbedford/data/2023-11-02/UDP_Bandlock_9S_Phone_Airport/sm01/#02/data/udp_dnlk_loss_latency.csv\n",
      "194/216 /home/wmnlab/jackbedford/data/2023-11-02/UDP_Bandlock_9S_Phone_Airport/sm01/#02/data/udp_uplk_loss_latency.csv\n",
      "194/216 /home/wmnlab/jackbedford/data/2023-11-02/UDP_Bandlock_9S_Phone_Airport/sm08/#02/data/handover_info_log.csv\n",
      "194/216 /home/wmnlab/jackbedford/data/2023-11-02/UDP_Bandlock_9S_Phone_Airport/sm08/#02/data/udp_dnlk_loss_latency.csv\n",
      "194/216 /home/wmnlab/jackbedford/data/2023-11-02/UDP_Bandlock_9S_Phone_Airport/sm08/#02/data/udp_uplk_loss_latency.csv\n"
     ]
    },
    {
     "data": {
      "application/vnd.jupyter.widget-view+json": {
       "model_id": "eb3d69915254445ba50708174e839760",
       "version_major": 2,
       "version_minor": 0
      },
      "text/plain": [
       "  0%|                                                                                                         …"
      ]
     },
     "metadata": {},
     "output_type": "display_data"
    },
    {
     "name": "stdout",
     "output_type": "stream",
     "text": [
      "./20240312_150032342e_newest/20240314_060073cc2b/results/20240314_07515600001_1d4f11bee8b69504/\\home\\wmnlab\\jackbedford\\data\\2023-11-02\\UDP_Bandlock_9S_Phone_Airport\\sm01\\#02\\data\\udp_dnlk_loss_latency\\home\\wmnlab\\jackbedford\\data\\2023-11-02\\UDP_Bandlock_9S_Phone_Airport\\sm08\\#02\\data\\udp_dnlk_loss_latency.csv\n",
      "195/216 /home/wmnlab/jackbedford/data/2023-11-02/UDP_Bandlock_9S_Phone_Airport/sm02/#02/data/handover_info_log.csv\n",
      "195/216 /home/wmnlab/jackbedford/data/2023-11-02/UDP_Bandlock_9S_Phone_Airport/sm02/#02/data/udp_dnlk_loss_latency.csv\n",
      "195/216 /home/wmnlab/jackbedford/data/2023-11-02/UDP_Bandlock_9S_Phone_Airport/sm02/#02/data/udp_uplk_loss_latency.csv\n",
      "195/216 /home/wmnlab/jackbedford/data/2023-11-02/UDP_Bandlock_9S_Phone_Airport/sm03/#02/data/handover_info_log.csv\n",
      "195/216 /home/wmnlab/jackbedford/data/2023-11-02/UDP_Bandlock_9S_Phone_Airport/sm03/#02/data/udp_dnlk_loss_latency.csv\n",
      "195/216 /home/wmnlab/jackbedford/data/2023-11-02/UDP_Bandlock_9S_Phone_Airport/sm03/#02/data/udp_uplk_loss_latency.csv\n"
     ]
    },
    {
     "data": {
      "application/vnd.jupyter.widget-view+json": {
       "model_id": "1254912b1ffc479286138bf34df30f2d",
       "version_major": 2,
       "version_minor": 0
      },
      "text/plain": [
       "  0%|                                                                                                         …"
      ]
     },
     "metadata": {},
     "output_type": "display_data"
    },
    {
     "name": "stdout",
     "output_type": "stream",
     "text": [
      "./20240312_150032342e_newest/20240314_060073cc2b/results/20240314_07515600001_1d4f11bee8b69504/\\home\\wmnlab\\jackbedford\\data\\2023-11-02\\UDP_Bandlock_9S_Phone_Airport\\sm02\\#02\\data\\udp_dnlk_loss_latency\\home\\wmnlab\\jackbedford\\data\\2023-11-02\\UDP_Bandlock_9S_Phone_Airport\\sm03\\#02\\data\\udp_dnlk_loss_latency.csv\n",
      "196/216 /home/wmnlab/jackbedford/data/2023-11-02/UDP_Bandlock_9S_Phone_Airport/sm02/#02/data/handover_info_log.csv\n",
      "196/216 /home/wmnlab/jackbedford/data/2023-11-02/UDP_Bandlock_9S_Phone_Airport/sm02/#02/data/udp_dnlk_loss_latency.csv\n",
      "196/216 /home/wmnlab/jackbedford/data/2023-11-02/UDP_Bandlock_9S_Phone_Airport/sm02/#02/data/udp_uplk_loss_latency.csv\n",
      "196/216 /home/wmnlab/jackbedford/data/2023-11-02/UDP_Bandlock_9S_Phone_Airport/sm04/#02/data/handover_info_log.csv\n",
      "196/216 /home/wmnlab/jackbedford/data/2023-11-02/UDP_Bandlock_9S_Phone_Airport/sm04/#02/data/udp_dnlk_loss_latency.csv\n",
      "196/216 /home/wmnlab/jackbedford/data/2023-11-02/UDP_Bandlock_9S_Phone_Airport/sm04/#02/data/udp_uplk_loss_latency.csv\n"
     ]
    },
    {
     "data": {
      "application/vnd.jupyter.widget-view+json": {
       "model_id": "4a37b2179f13437dab5b21603a063483",
       "version_major": 2,
       "version_minor": 0
      },
      "text/plain": [
       "  0%|                                                                                                         …"
      ]
     },
     "metadata": {},
     "output_type": "display_data"
    },
    {
     "name": "stdout",
     "output_type": "stream",
     "text": [
      "./20240312_150032342e_newest/20240314_060073cc2b/results/20240314_07515600001_1d4f11bee8b69504/\\home\\wmnlab\\jackbedford\\data\\2023-11-02\\UDP_Bandlock_9S_Phone_Airport\\sm02\\#02\\data\\udp_dnlk_loss_latency\\home\\wmnlab\\jackbedford\\data\\2023-11-02\\UDP_Bandlock_9S_Phone_Airport\\sm04\\#02\\data\\udp_dnlk_loss_latency.csv\n",
      "197/216 /home/wmnlab/jackbedford/data/2023-11-02/UDP_Bandlock_9S_Phone_Airport/sm02/#02/data/handover_info_log.csv\n",
      "197/216 /home/wmnlab/jackbedford/data/2023-11-02/UDP_Bandlock_9S_Phone_Airport/sm02/#02/data/udp_dnlk_loss_latency.csv\n",
      "197/216 /home/wmnlab/jackbedford/data/2023-11-02/UDP_Bandlock_9S_Phone_Airport/sm02/#02/data/udp_uplk_loss_latency.csv\n",
      "197/216 /home/wmnlab/jackbedford/data/2023-11-02/UDP_Bandlock_9S_Phone_Airport/sm05/#02/data/handover_info_log.csv\n",
      "197/216 /home/wmnlab/jackbedford/data/2023-11-02/UDP_Bandlock_9S_Phone_Airport/sm05/#02/data/udp_dnlk_loss_latency.csv\n",
      "197/216 /home/wmnlab/jackbedford/data/2023-11-02/UDP_Bandlock_9S_Phone_Airport/sm05/#02/data/udp_uplk_loss_latency.csv\n"
     ]
    },
    {
     "data": {
      "application/vnd.jupyter.widget-view+json": {
       "model_id": "413fbd53671b4c149062255b1c3ed253",
       "version_major": 2,
       "version_minor": 0
      },
      "text/plain": [
       "  0%|                                                                                                         …"
      ]
     },
     "metadata": {},
     "output_type": "display_data"
    },
    {
     "name": "stdout",
     "output_type": "stream",
     "text": [
      "./20240312_150032342e_newest/20240314_060073cc2b/results/20240314_07515600001_1d4f11bee8b69504/\\home\\wmnlab\\jackbedford\\data\\2023-11-02\\UDP_Bandlock_9S_Phone_Airport\\sm02\\#02\\data\\udp_dnlk_loss_latency\\home\\wmnlab\\jackbedford\\data\\2023-11-02\\UDP_Bandlock_9S_Phone_Airport\\sm05\\#02\\data\\udp_dnlk_loss_latency.csv\n",
      "198/216 /home/wmnlab/jackbedford/data/2023-11-02/UDP_Bandlock_9S_Phone_Airport/sm02/#02/data/handover_info_log.csv\n",
      "198/216 /home/wmnlab/jackbedford/data/2023-11-02/UDP_Bandlock_9S_Phone_Airport/sm02/#02/data/udp_dnlk_loss_latency.csv\n",
      "198/216 /home/wmnlab/jackbedford/data/2023-11-02/UDP_Bandlock_9S_Phone_Airport/sm02/#02/data/udp_uplk_loss_latency.csv\n",
      "198/216 /home/wmnlab/jackbedford/data/2023-11-02/UDP_Bandlock_9S_Phone_Airport/sm06/#02/data/handover_info_log.csv\n",
      "198/216 /home/wmnlab/jackbedford/data/2023-11-02/UDP_Bandlock_9S_Phone_Airport/sm06/#02/data/udp_dnlk_loss_latency.csv\n",
      "198/216 /home/wmnlab/jackbedford/data/2023-11-02/UDP_Bandlock_9S_Phone_Airport/sm06/#02/data/udp_uplk_loss_latency.csv\n"
     ]
    },
    {
     "data": {
      "application/vnd.jupyter.widget-view+json": {
       "model_id": "e2f9728d392b4624bef8f8d66d423b0e",
       "version_major": 2,
       "version_minor": 0
      },
      "text/plain": [
       "  0%|                                                                                                         …"
      ]
     },
     "metadata": {},
     "output_type": "display_data"
    },
    {
     "name": "stdout",
     "output_type": "stream",
     "text": [
      "./20240312_150032342e_newest/20240314_060073cc2b/results/20240314_07515600001_1d4f11bee8b69504/\\home\\wmnlab\\jackbedford\\data\\2023-11-02\\UDP_Bandlock_9S_Phone_Airport\\sm02\\#02\\data\\udp_dnlk_loss_latency\\home\\wmnlab\\jackbedford\\data\\2023-11-02\\UDP_Bandlock_9S_Phone_Airport\\sm06\\#02\\data\\udp_dnlk_loss_latency.csv\n",
      "199/216 /home/wmnlab/jackbedford/data/2023-11-02/UDP_Bandlock_9S_Phone_Airport/sm02/#02/data/handover_info_log.csv\n",
      "199/216 /home/wmnlab/jackbedford/data/2023-11-02/UDP_Bandlock_9S_Phone_Airport/sm02/#02/data/udp_dnlk_loss_latency.csv\n",
      "199/216 /home/wmnlab/jackbedford/data/2023-11-02/UDP_Bandlock_9S_Phone_Airport/sm02/#02/data/udp_uplk_loss_latency.csv\n",
      "199/216 /home/wmnlab/jackbedford/data/2023-11-02/UDP_Bandlock_9S_Phone_Airport/sm07/#02/data/handover_info_log.csv\n",
      "199/216 /home/wmnlab/jackbedford/data/2023-11-02/UDP_Bandlock_9S_Phone_Airport/sm07/#02/data/udp_dnlk_loss_latency.csv\n",
      "199/216 /home/wmnlab/jackbedford/data/2023-11-02/UDP_Bandlock_9S_Phone_Airport/sm07/#02/data/udp_uplk_loss_latency.csv\n"
     ]
    },
    {
     "data": {
      "application/vnd.jupyter.widget-view+json": {
       "model_id": "63b07f595514474d9d76ea0dc17c0e21",
       "version_major": 2,
       "version_minor": 0
      },
      "text/plain": [
       "  0%|                                                                                                         …"
      ]
     },
     "metadata": {},
     "output_type": "display_data"
    },
    {
     "name": "stdout",
     "output_type": "stream",
     "text": [
      "./20240312_150032342e_newest/20240314_060073cc2b/results/20240314_07515600001_1d4f11bee8b69504/\\home\\wmnlab\\jackbedford\\data\\2023-11-02\\UDP_Bandlock_9S_Phone_Airport\\sm02\\#02\\data\\udp_dnlk_loss_latency\\home\\wmnlab\\jackbedford\\data\\2023-11-02\\UDP_Bandlock_9S_Phone_Airport\\sm07\\#02\\data\\udp_dnlk_loss_latency.csv\n",
      "200/216 /home/wmnlab/jackbedford/data/2023-11-02/UDP_Bandlock_9S_Phone_Airport/sm02/#02/data/handover_info_log.csv\n",
      "200/216 /home/wmnlab/jackbedford/data/2023-11-02/UDP_Bandlock_9S_Phone_Airport/sm02/#02/data/udp_dnlk_loss_latency.csv\n",
      "200/216 /home/wmnlab/jackbedford/data/2023-11-02/UDP_Bandlock_9S_Phone_Airport/sm02/#02/data/udp_uplk_loss_latency.csv\n",
      "200/216 /home/wmnlab/jackbedford/data/2023-11-02/UDP_Bandlock_9S_Phone_Airport/sm08/#02/data/handover_info_log.csv\n",
      "200/216 /home/wmnlab/jackbedford/data/2023-11-02/UDP_Bandlock_9S_Phone_Airport/sm08/#02/data/udp_dnlk_loss_latency.csv\n",
      "200/216 /home/wmnlab/jackbedford/data/2023-11-02/UDP_Bandlock_9S_Phone_Airport/sm08/#02/data/udp_uplk_loss_latency.csv\n"
     ]
    },
    {
     "data": {
      "application/vnd.jupyter.widget-view+json": {
       "model_id": "417ac3374d3c4e18be7e95c42874f7d2",
       "version_major": 2,
       "version_minor": 0
      },
      "text/plain": [
       "  0%|                                                                                                         …"
      ]
     },
     "metadata": {},
     "output_type": "display_data"
    },
    {
     "name": "stdout",
     "output_type": "stream",
     "text": [
      "./20240312_150032342e_newest/20240314_060073cc2b/results/20240314_07515600001_1d4f11bee8b69504/\\home\\wmnlab\\jackbedford\\data\\2023-11-02\\UDP_Bandlock_9S_Phone_Airport\\sm02\\#02\\data\\udp_dnlk_loss_latency\\home\\wmnlab\\jackbedford\\data\\2023-11-02\\UDP_Bandlock_9S_Phone_Airport\\sm08\\#02\\data\\udp_dnlk_loss_latency.csv\n",
      "201/216 /home/wmnlab/jackbedford/data/2023-11-02/UDP_Bandlock_9S_Phone_Airport/sm03/#02/data/handover_info_log.csv\n",
      "201/216 /home/wmnlab/jackbedford/data/2023-11-02/UDP_Bandlock_9S_Phone_Airport/sm03/#02/data/udp_dnlk_loss_latency.csv\n",
      "201/216 /home/wmnlab/jackbedford/data/2023-11-02/UDP_Bandlock_9S_Phone_Airport/sm03/#02/data/udp_uplk_loss_latency.csv\n",
      "201/216 /home/wmnlab/jackbedford/data/2023-11-02/UDP_Bandlock_9S_Phone_Airport/sm04/#02/data/handover_info_log.csv\n",
      "201/216 /home/wmnlab/jackbedford/data/2023-11-02/UDP_Bandlock_9S_Phone_Airport/sm04/#02/data/udp_dnlk_loss_latency.csv\n",
      "201/216 /home/wmnlab/jackbedford/data/2023-11-02/UDP_Bandlock_9S_Phone_Airport/sm04/#02/data/udp_uplk_loss_latency.csv\n"
     ]
    },
    {
     "data": {
      "application/vnd.jupyter.widget-view+json": {
       "model_id": "8dc6b307ee834a2886d2e396e55c2fc3",
       "version_major": 2,
       "version_minor": 0
      },
      "text/plain": [
       "  0%|                                                                                                         …"
      ]
     },
     "metadata": {},
     "output_type": "display_data"
    },
    {
     "name": "stdout",
     "output_type": "stream",
     "text": [
      "./20240312_150032342e_newest/20240314_060073cc2b/results/20240314_07515600001_1d4f11bee8b69504/\\home\\wmnlab\\jackbedford\\data\\2023-11-02\\UDP_Bandlock_9S_Phone_Airport\\sm03\\#02\\data\\udp_dnlk_loss_latency\\home\\wmnlab\\jackbedford\\data\\2023-11-02\\UDP_Bandlock_9S_Phone_Airport\\sm04\\#02\\data\\udp_dnlk_loss_latency.csv\n",
      "202/216 /home/wmnlab/jackbedford/data/2023-11-02/UDP_Bandlock_9S_Phone_Airport/sm03/#02/data/handover_info_log.csv\n",
      "202/216 /home/wmnlab/jackbedford/data/2023-11-02/UDP_Bandlock_9S_Phone_Airport/sm03/#02/data/udp_dnlk_loss_latency.csv\n",
      "202/216 /home/wmnlab/jackbedford/data/2023-11-02/UDP_Bandlock_9S_Phone_Airport/sm03/#02/data/udp_uplk_loss_latency.csv\n",
      "202/216 /home/wmnlab/jackbedford/data/2023-11-02/UDP_Bandlock_9S_Phone_Airport/sm05/#02/data/handover_info_log.csv\n",
      "202/216 /home/wmnlab/jackbedford/data/2023-11-02/UDP_Bandlock_9S_Phone_Airport/sm05/#02/data/udp_dnlk_loss_latency.csv\n",
      "202/216 /home/wmnlab/jackbedford/data/2023-11-02/UDP_Bandlock_9S_Phone_Airport/sm05/#02/data/udp_uplk_loss_latency.csv\n"
     ]
    },
    {
     "data": {
      "application/vnd.jupyter.widget-view+json": {
       "model_id": "0fbb6073cc784275b38f889e47ed1648",
       "version_major": 2,
       "version_minor": 0
      },
      "text/plain": [
       "  0%|                                                                                                         …"
      ]
     },
     "metadata": {},
     "output_type": "display_data"
    },
    {
     "name": "stdout",
     "output_type": "stream",
     "text": [
      "./20240312_150032342e_newest/20240314_060073cc2b/results/20240314_07515600001_1d4f11bee8b69504/\\home\\wmnlab\\jackbedford\\data\\2023-11-02\\UDP_Bandlock_9S_Phone_Airport\\sm03\\#02\\data\\udp_dnlk_loss_latency\\home\\wmnlab\\jackbedford\\data\\2023-11-02\\UDP_Bandlock_9S_Phone_Airport\\sm05\\#02\\data\\udp_dnlk_loss_latency.csv\n",
      "203/216 /home/wmnlab/jackbedford/data/2023-11-02/UDP_Bandlock_9S_Phone_Airport/sm03/#02/data/handover_info_log.csv\n",
      "203/216 /home/wmnlab/jackbedford/data/2023-11-02/UDP_Bandlock_9S_Phone_Airport/sm03/#02/data/udp_dnlk_loss_latency.csv\n",
      "203/216 /home/wmnlab/jackbedford/data/2023-11-02/UDP_Bandlock_9S_Phone_Airport/sm03/#02/data/udp_uplk_loss_latency.csv\n",
      "203/216 /home/wmnlab/jackbedford/data/2023-11-02/UDP_Bandlock_9S_Phone_Airport/sm06/#02/data/handover_info_log.csv\n",
      "203/216 /home/wmnlab/jackbedford/data/2023-11-02/UDP_Bandlock_9S_Phone_Airport/sm06/#02/data/udp_dnlk_loss_latency.csv\n",
      "203/216 /home/wmnlab/jackbedford/data/2023-11-02/UDP_Bandlock_9S_Phone_Airport/sm06/#02/data/udp_uplk_loss_latency.csv\n"
     ]
    },
    {
     "data": {
      "application/vnd.jupyter.widget-view+json": {
       "model_id": "94af878a6b364e00ba5997744b162130",
       "version_major": 2,
       "version_minor": 0
      },
      "text/plain": [
       "  0%|                                                                                                         …"
      ]
     },
     "metadata": {},
     "output_type": "display_data"
    },
    {
     "name": "stdout",
     "output_type": "stream",
     "text": [
      "./20240312_150032342e_newest/20240314_060073cc2b/results/20240314_07515600001_1d4f11bee8b69504/\\home\\wmnlab\\jackbedford\\data\\2023-11-02\\UDP_Bandlock_9S_Phone_Airport\\sm03\\#02\\data\\udp_dnlk_loss_latency\\home\\wmnlab\\jackbedford\\data\\2023-11-02\\UDP_Bandlock_9S_Phone_Airport\\sm06\\#02\\data\\udp_dnlk_loss_latency.csv\n",
      "204/216 /home/wmnlab/jackbedford/data/2023-11-02/UDP_Bandlock_9S_Phone_Airport/sm03/#02/data/handover_info_log.csv\n",
      "204/216 /home/wmnlab/jackbedford/data/2023-11-02/UDP_Bandlock_9S_Phone_Airport/sm03/#02/data/udp_dnlk_loss_latency.csv\n",
      "204/216 /home/wmnlab/jackbedford/data/2023-11-02/UDP_Bandlock_9S_Phone_Airport/sm03/#02/data/udp_uplk_loss_latency.csv\n",
      "204/216 /home/wmnlab/jackbedford/data/2023-11-02/UDP_Bandlock_9S_Phone_Airport/sm07/#02/data/handover_info_log.csv\n",
      "204/216 /home/wmnlab/jackbedford/data/2023-11-02/UDP_Bandlock_9S_Phone_Airport/sm07/#02/data/udp_dnlk_loss_latency.csv\n",
      "204/216 /home/wmnlab/jackbedford/data/2023-11-02/UDP_Bandlock_9S_Phone_Airport/sm07/#02/data/udp_uplk_loss_latency.csv\n"
     ]
    },
    {
     "data": {
      "application/vnd.jupyter.widget-view+json": {
       "model_id": "f394dd311bd6455cb580014b02ae852d",
       "version_major": 2,
       "version_minor": 0
      },
      "text/plain": [
       "  0%|                                                                                                         …"
      ]
     },
     "metadata": {},
     "output_type": "display_data"
    },
    {
     "name": "stdout",
     "output_type": "stream",
     "text": [
      "./20240312_150032342e_newest/20240314_060073cc2b/results/20240314_07515600001_1d4f11bee8b69504/\\home\\wmnlab\\jackbedford\\data\\2023-11-02\\UDP_Bandlock_9S_Phone_Airport\\sm03\\#02\\data\\udp_dnlk_loss_latency\\home\\wmnlab\\jackbedford\\data\\2023-11-02\\UDP_Bandlock_9S_Phone_Airport\\sm07\\#02\\data\\udp_dnlk_loss_latency.csv\n",
      "205/216 /home/wmnlab/jackbedford/data/2023-11-02/UDP_Bandlock_9S_Phone_Airport/sm03/#02/data/handover_info_log.csv\n",
      "205/216 /home/wmnlab/jackbedford/data/2023-11-02/UDP_Bandlock_9S_Phone_Airport/sm03/#02/data/udp_dnlk_loss_latency.csv\n",
      "205/216 /home/wmnlab/jackbedford/data/2023-11-02/UDP_Bandlock_9S_Phone_Airport/sm03/#02/data/udp_uplk_loss_latency.csv\n",
      "205/216 /home/wmnlab/jackbedford/data/2023-11-02/UDP_Bandlock_9S_Phone_Airport/sm08/#02/data/handover_info_log.csv\n",
      "205/216 /home/wmnlab/jackbedford/data/2023-11-02/UDP_Bandlock_9S_Phone_Airport/sm08/#02/data/udp_dnlk_loss_latency.csv\n",
      "205/216 /home/wmnlab/jackbedford/data/2023-11-02/UDP_Bandlock_9S_Phone_Airport/sm08/#02/data/udp_uplk_loss_latency.csv\n"
     ]
    },
    {
     "data": {
      "application/vnd.jupyter.widget-view+json": {
       "model_id": "8bf58d3f17bf4ca28b9dae6ea6dec417",
       "version_major": 2,
       "version_minor": 0
      },
      "text/plain": [
       "  0%|                                                                                                         …"
      ]
     },
     "metadata": {},
     "output_type": "display_data"
    },
    {
     "name": "stdout",
     "output_type": "stream",
     "text": [
      "./20240312_150032342e_newest/20240314_060073cc2b/results/20240314_07515600001_1d4f11bee8b69504/\\home\\wmnlab\\jackbedford\\data\\2023-11-02\\UDP_Bandlock_9S_Phone_Airport\\sm03\\#02\\data\\udp_dnlk_loss_latency\\home\\wmnlab\\jackbedford\\data\\2023-11-02\\UDP_Bandlock_9S_Phone_Airport\\sm08\\#02\\data\\udp_dnlk_loss_latency.csv\n",
      "206/216 /home/wmnlab/jackbedford/data/2023-11-02/UDP_Bandlock_9S_Phone_Airport/sm04/#02/data/handover_info_log.csv\n",
      "206/216 /home/wmnlab/jackbedford/data/2023-11-02/UDP_Bandlock_9S_Phone_Airport/sm04/#02/data/udp_dnlk_loss_latency.csv\n",
      "206/216 /home/wmnlab/jackbedford/data/2023-11-02/UDP_Bandlock_9S_Phone_Airport/sm04/#02/data/udp_uplk_loss_latency.csv\n",
      "206/216 /home/wmnlab/jackbedford/data/2023-11-02/UDP_Bandlock_9S_Phone_Airport/sm05/#02/data/handover_info_log.csv\n",
      "206/216 /home/wmnlab/jackbedford/data/2023-11-02/UDP_Bandlock_9S_Phone_Airport/sm05/#02/data/udp_dnlk_loss_latency.csv\n",
      "206/216 /home/wmnlab/jackbedford/data/2023-11-02/UDP_Bandlock_9S_Phone_Airport/sm05/#02/data/udp_uplk_loss_latency.csv\n"
     ]
    },
    {
     "data": {
      "application/vnd.jupyter.widget-view+json": {
       "model_id": "ef108b8d42cd48ccb30af0b81c15af38",
       "version_major": 2,
       "version_minor": 0
      },
      "text/plain": [
       "  0%|                                                                                                         …"
      ]
     },
     "metadata": {},
     "output_type": "display_data"
    },
    {
     "name": "stdout",
     "output_type": "stream",
     "text": [
      "./20240312_150032342e_newest/20240314_060073cc2b/results/20240314_07515600001_1d4f11bee8b69504/\\home\\wmnlab\\jackbedford\\data\\2023-11-02\\UDP_Bandlock_9S_Phone_Airport\\sm04\\#02\\data\\udp_dnlk_loss_latency\\home\\wmnlab\\jackbedford\\data\\2023-11-02\\UDP_Bandlock_9S_Phone_Airport\\sm05\\#02\\data\\udp_dnlk_loss_latency.csv\n",
      "207/216 /home/wmnlab/jackbedford/data/2023-11-02/UDP_Bandlock_9S_Phone_Airport/sm04/#02/data/handover_info_log.csv\n",
      "207/216 /home/wmnlab/jackbedford/data/2023-11-02/UDP_Bandlock_9S_Phone_Airport/sm04/#02/data/udp_dnlk_loss_latency.csv\n",
      "207/216 /home/wmnlab/jackbedford/data/2023-11-02/UDP_Bandlock_9S_Phone_Airport/sm04/#02/data/udp_uplk_loss_latency.csv\n",
      "207/216 /home/wmnlab/jackbedford/data/2023-11-02/UDP_Bandlock_9S_Phone_Airport/sm06/#02/data/handover_info_log.csv\n",
      "207/216 /home/wmnlab/jackbedford/data/2023-11-02/UDP_Bandlock_9S_Phone_Airport/sm06/#02/data/udp_dnlk_loss_latency.csv\n",
      "207/216 /home/wmnlab/jackbedford/data/2023-11-02/UDP_Bandlock_9S_Phone_Airport/sm06/#02/data/udp_uplk_loss_latency.csv\n"
     ]
    },
    {
     "data": {
      "application/vnd.jupyter.widget-view+json": {
       "model_id": "cf5d8516ec33488a9576abe02790c80c",
       "version_major": 2,
       "version_minor": 0
      },
      "text/plain": [
       "  0%|                                                                                                         …"
      ]
     },
     "metadata": {},
     "output_type": "display_data"
    },
    {
     "name": "stdout",
     "output_type": "stream",
     "text": [
      "./20240312_150032342e_newest/20240314_060073cc2b/results/20240314_07515600001_1d4f11bee8b69504/\\home\\wmnlab\\jackbedford\\data\\2023-11-02\\UDP_Bandlock_9S_Phone_Airport\\sm04\\#02\\data\\udp_dnlk_loss_latency\\home\\wmnlab\\jackbedford\\data\\2023-11-02\\UDP_Bandlock_9S_Phone_Airport\\sm06\\#02\\data\\udp_dnlk_loss_latency.csv\n",
      "208/216 /home/wmnlab/jackbedford/data/2023-11-02/UDP_Bandlock_9S_Phone_Airport/sm04/#02/data/handover_info_log.csv\n",
      "208/216 /home/wmnlab/jackbedford/data/2023-11-02/UDP_Bandlock_9S_Phone_Airport/sm04/#02/data/udp_dnlk_loss_latency.csv\n",
      "208/216 /home/wmnlab/jackbedford/data/2023-11-02/UDP_Bandlock_9S_Phone_Airport/sm04/#02/data/udp_uplk_loss_latency.csv\n",
      "208/216 /home/wmnlab/jackbedford/data/2023-11-02/UDP_Bandlock_9S_Phone_Airport/sm07/#02/data/handover_info_log.csv\n",
      "208/216 /home/wmnlab/jackbedford/data/2023-11-02/UDP_Bandlock_9S_Phone_Airport/sm07/#02/data/udp_dnlk_loss_latency.csv\n",
      "208/216 /home/wmnlab/jackbedford/data/2023-11-02/UDP_Bandlock_9S_Phone_Airport/sm07/#02/data/udp_uplk_loss_latency.csv\n"
     ]
    },
    {
     "data": {
      "application/vnd.jupyter.widget-view+json": {
       "model_id": "0ad195be3aa849a182c3b3e908c25f73",
       "version_major": 2,
       "version_minor": 0
      },
      "text/plain": [
       "  0%|                                                                                                         …"
      ]
     },
     "metadata": {},
     "output_type": "display_data"
    },
    {
     "name": "stdout",
     "output_type": "stream",
     "text": [
      "./20240312_150032342e_newest/20240314_060073cc2b/results/20240314_07515600001_1d4f11bee8b69504/\\home\\wmnlab\\jackbedford\\data\\2023-11-02\\UDP_Bandlock_9S_Phone_Airport\\sm04\\#02\\data\\udp_dnlk_loss_latency\\home\\wmnlab\\jackbedford\\data\\2023-11-02\\UDP_Bandlock_9S_Phone_Airport\\sm07\\#02\\data\\udp_dnlk_loss_latency.csv\n",
      "209/216 /home/wmnlab/jackbedford/data/2023-11-02/UDP_Bandlock_9S_Phone_Airport/sm04/#02/data/handover_info_log.csv\n",
      "209/216 /home/wmnlab/jackbedford/data/2023-11-02/UDP_Bandlock_9S_Phone_Airport/sm04/#02/data/udp_dnlk_loss_latency.csv\n",
      "209/216 /home/wmnlab/jackbedford/data/2023-11-02/UDP_Bandlock_9S_Phone_Airport/sm04/#02/data/udp_uplk_loss_latency.csv\n",
      "209/216 /home/wmnlab/jackbedford/data/2023-11-02/UDP_Bandlock_9S_Phone_Airport/sm08/#02/data/handover_info_log.csv\n",
      "209/216 /home/wmnlab/jackbedford/data/2023-11-02/UDP_Bandlock_9S_Phone_Airport/sm08/#02/data/udp_dnlk_loss_latency.csv\n",
      "209/216 /home/wmnlab/jackbedford/data/2023-11-02/UDP_Bandlock_9S_Phone_Airport/sm08/#02/data/udp_uplk_loss_latency.csv\n"
     ]
    },
    {
     "data": {
      "application/vnd.jupyter.widget-view+json": {
       "model_id": "c03a4f25daf1414cb11823a76e09dc1d",
       "version_major": 2,
       "version_minor": 0
      },
      "text/plain": [
       "  0%|                                                                                                         …"
      ]
     },
     "metadata": {},
     "output_type": "display_data"
    },
    {
     "name": "stdout",
     "output_type": "stream",
     "text": [
      "./20240312_150032342e_newest/20240314_060073cc2b/results/20240314_07515600001_1d4f11bee8b69504/\\home\\wmnlab\\jackbedford\\data\\2023-11-02\\UDP_Bandlock_9S_Phone_Airport\\sm04\\#02\\data\\udp_dnlk_loss_latency\\home\\wmnlab\\jackbedford\\data\\2023-11-02\\UDP_Bandlock_9S_Phone_Airport\\sm08\\#02\\data\\udp_dnlk_loss_latency.csv\n",
      "210/216 /home/wmnlab/jackbedford/data/2023-11-02/UDP_Bandlock_9S_Phone_Airport/sm05/#02/data/handover_info_log.csv\n",
      "210/216 /home/wmnlab/jackbedford/data/2023-11-02/UDP_Bandlock_9S_Phone_Airport/sm05/#02/data/udp_dnlk_loss_latency.csv\n",
      "210/216 /home/wmnlab/jackbedford/data/2023-11-02/UDP_Bandlock_9S_Phone_Airport/sm05/#02/data/udp_uplk_loss_latency.csv\n",
      "210/216 /home/wmnlab/jackbedford/data/2023-11-02/UDP_Bandlock_9S_Phone_Airport/sm06/#02/data/handover_info_log.csv\n",
      "210/216 /home/wmnlab/jackbedford/data/2023-11-02/UDP_Bandlock_9S_Phone_Airport/sm06/#02/data/udp_dnlk_loss_latency.csv\n",
      "210/216 /home/wmnlab/jackbedford/data/2023-11-02/UDP_Bandlock_9S_Phone_Airport/sm06/#02/data/udp_uplk_loss_latency.csv\n"
     ]
    },
    {
     "data": {
      "application/vnd.jupyter.widget-view+json": {
       "model_id": "f2397f92a9504fb58efea28999ead9c0",
       "version_major": 2,
       "version_minor": 0
      },
      "text/plain": [
       "  0%|                                                                                                         …"
      ]
     },
     "metadata": {},
     "output_type": "display_data"
    },
    {
     "name": "stdout",
     "output_type": "stream",
     "text": [
      "./20240312_150032342e_newest/20240314_060073cc2b/results/20240314_07515600001_1d4f11bee8b69504/\\home\\wmnlab\\jackbedford\\data\\2023-11-02\\UDP_Bandlock_9S_Phone_Airport\\sm05\\#02\\data\\udp_dnlk_loss_latency\\home\\wmnlab\\jackbedford\\data\\2023-11-02\\UDP_Bandlock_9S_Phone_Airport\\sm06\\#02\\data\\udp_dnlk_loss_latency.csv\n",
      "211/216 /home/wmnlab/jackbedford/data/2023-11-02/UDP_Bandlock_9S_Phone_Airport/sm05/#02/data/handover_info_log.csv\n",
      "211/216 /home/wmnlab/jackbedford/data/2023-11-02/UDP_Bandlock_9S_Phone_Airport/sm05/#02/data/udp_dnlk_loss_latency.csv\n",
      "211/216 /home/wmnlab/jackbedford/data/2023-11-02/UDP_Bandlock_9S_Phone_Airport/sm05/#02/data/udp_uplk_loss_latency.csv\n",
      "211/216 /home/wmnlab/jackbedford/data/2023-11-02/UDP_Bandlock_9S_Phone_Airport/sm07/#02/data/handover_info_log.csv\n",
      "211/216 /home/wmnlab/jackbedford/data/2023-11-02/UDP_Bandlock_9S_Phone_Airport/sm07/#02/data/udp_dnlk_loss_latency.csv\n",
      "211/216 /home/wmnlab/jackbedford/data/2023-11-02/UDP_Bandlock_9S_Phone_Airport/sm07/#02/data/udp_uplk_loss_latency.csv\n"
     ]
    },
    {
     "data": {
      "application/vnd.jupyter.widget-view+json": {
       "model_id": "5a2c85ad0c9e481e9c09e7de5fec8ac0",
       "version_major": 2,
       "version_minor": 0
      },
      "text/plain": [
       "  0%|                                                                                                         …"
      ]
     },
     "metadata": {},
     "output_type": "display_data"
    },
    {
     "name": "stdout",
     "output_type": "stream",
     "text": [
      "./20240312_150032342e_newest/20240314_060073cc2b/results/20240314_07515600001_1d4f11bee8b69504/\\home\\wmnlab\\jackbedford\\data\\2023-11-02\\UDP_Bandlock_9S_Phone_Airport\\sm05\\#02\\data\\udp_dnlk_loss_latency\\home\\wmnlab\\jackbedford\\data\\2023-11-02\\UDP_Bandlock_9S_Phone_Airport\\sm07\\#02\\data\\udp_dnlk_loss_latency.csv\n",
      "212/216 /home/wmnlab/jackbedford/data/2023-11-02/UDP_Bandlock_9S_Phone_Airport/sm05/#02/data/handover_info_log.csv\n",
      "212/216 /home/wmnlab/jackbedford/data/2023-11-02/UDP_Bandlock_9S_Phone_Airport/sm05/#02/data/udp_dnlk_loss_latency.csv\n",
      "212/216 /home/wmnlab/jackbedford/data/2023-11-02/UDP_Bandlock_9S_Phone_Airport/sm05/#02/data/udp_uplk_loss_latency.csv\n",
      "212/216 /home/wmnlab/jackbedford/data/2023-11-02/UDP_Bandlock_9S_Phone_Airport/sm08/#02/data/handover_info_log.csv\n",
      "212/216 /home/wmnlab/jackbedford/data/2023-11-02/UDP_Bandlock_9S_Phone_Airport/sm08/#02/data/udp_dnlk_loss_latency.csv\n",
      "212/216 /home/wmnlab/jackbedford/data/2023-11-02/UDP_Bandlock_9S_Phone_Airport/sm08/#02/data/udp_uplk_loss_latency.csv\n"
     ]
    },
    {
     "data": {
      "application/vnd.jupyter.widget-view+json": {
       "model_id": "43a3a8bc95c447549c36d1ff3805bf73",
       "version_major": 2,
       "version_minor": 0
      },
      "text/plain": [
       "  0%|                                                                                                         …"
      ]
     },
     "metadata": {},
     "output_type": "display_data"
    },
    {
     "name": "stdout",
     "output_type": "stream",
     "text": [
      "./20240312_150032342e_newest/20240314_060073cc2b/results/20240314_07515600001_1d4f11bee8b69504/\\home\\wmnlab\\jackbedford\\data\\2023-11-02\\UDP_Bandlock_9S_Phone_Airport\\sm05\\#02\\data\\udp_dnlk_loss_latency\\home\\wmnlab\\jackbedford\\data\\2023-11-02\\UDP_Bandlock_9S_Phone_Airport\\sm08\\#02\\data\\udp_dnlk_loss_latency.csv\n",
      "213/216 /home/wmnlab/jackbedford/data/2023-11-02/UDP_Bandlock_9S_Phone_Airport/sm06/#02/data/handover_info_log.csv\n",
      "213/216 /home/wmnlab/jackbedford/data/2023-11-02/UDP_Bandlock_9S_Phone_Airport/sm06/#02/data/udp_dnlk_loss_latency.csv\n",
      "213/216 /home/wmnlab/jackbedford/data/2023-11-02/UDP_Bandlock_9S_Phone_Airport/sm06/#02/data/udp_uplk_loss_latency.csv\n",
      "213/216 /home/wmnlab/jackbedford/data/2023-11-02/UDP_Bandlock_9S_Phone_Airport/sm07/#02/data/handover_info_log.csv\n",
      "213/216 /home/wmnlab/jackbedford/data/2023-11-02/UDP_Bandlock_9S_Phone_Airport/sm07/#02/data/udp_dnlk_loss_latency.csv\n",
      "213/216 /home/wmnlab/jackbedford/data/2023-11-02/UDP_Bandlock_9S_Phone_Airport/sm07/#02/data/udp_uplk_loss_latency.csv\n"
     ]
    },
    {
     "data": {
      "application/vnd.jupyter.widget-view+json": {
       "model_id": "88bbdd45fd4c4151b7bd4c2a266b4453",
       "version_major": 2,
       "version_minor": 0
      },
      "text/plain": [
       "  0%|                                                                                                         …"
      ]
     },
     "metadata": {},
     "output_type": "display_data"
    },
    {
     "name": "stdout",
     "output_type": "stream",
     "text": [
      "./20240312_150032342e_newest/20240314_060073cc2b/results/20240314_07515600001_1d4f11bee8b69504/\\home\\wmnlab\\jackbedford\\data\\2023-11-02\\UDP_Bandlock_9S_Phone_Airport\\sm06\\#02\\data\\udp_dnlk_loss_latency\\home\\wmnlab\\jackbedford\\data\\2023-11-02\\UDP_Bandlock_9S_Phone_Airport\\sm07\\#02\\data\\udp_dnlk_loss_latency.csv\n",
      "214/216 /home/wmnlab/jackbedford/data/2023-11-02/UDP_Bandlock_9S_Phone_Airport/sm06/#02/data/handover_info_log.csv\n",
      "214/216 /home/wmnlab/jackbedford/data/2023-11-02/UDP_Bandlock_9S_Phone_Airport/sm06/#02/data/udp_dnlk_loss_latency.csv\n",
      "214/216 /home/wmnlab/jackbedford/data/2023-11-02/UDP_Bandlock_9S_Phone_Airport/sm06/#02/data/udp_uplk_loss_latency.csv\n",
      "214/216 /home/wmnlab/jackbedford/data/2023-11-02/UDP_Bandlock_9S_Phone_Airport/sm08/#02/data/handover_info_log.csv\n",
      "214/216 /home/wmnlab/jackbedford/data/2023-11-02/UDP_Bandlock_9S_Phone_Airport/sm08/#02/data/udp_dnlk_loss_latency.csv\n",
      "214/216 /home/wmnlab/jackbedford/data/2023-11-02/UDP_Bandlock_9S_Phone_Airport/sm08/#02/data/udp_uplk_loss_latency.csv\n"
     ]
    },
    {
     "data": {
      "application/vnd.jupyter.widget-view+json": {
       "model_id": "77fad9c492f04fa7b2b94b81a19d2a6e",
       "version_major": 2,
       "version_minor": 0
      },
      "text/plain": [
       "  0%|                                                                                                         …"
      ]
     },
     "metadata": {},
     "output_type": "display_data"
    },
    {
     "name": "stdout",
     "output_type": "stream",
     "text": [
      "./20240312_150032342e_newest/20240314_060073cc2b/results/20240314_07515600001_1d4f11bee8b69504/\\home\\wmnlab\\jackbedford\\data\\2023-11-02\\UDP_Bandlock_9S_Phone_Airport\\sm06\\#02\\data\\udp_dnlk_loss_latency\\home\\wmnlab\\jackbedford\\data\\2023-11-02\\UDP_Bandlock_9S_Phone_Airport\\sm08\\#02\\data\\udp_dnlk_loss_latency.csv\n",
      "215/216 /home/wmnlab/jackbedford/data/2023-11-02/UDP_Bandlock_9S_Phone_Airport/sm07/#02/data/handover_info_log.csv\n",
      "215/216 /home/wmnlab/jackbedford/data/2023-11-02/UDP_Bandlock_9S_Phone_Airport/sm07/#02/data/udp_dnlk_loss_latency.csv\n",
      "215/216 /home/wmnlab/jackbedford/data/2023-11-02/UDP_Bandlock_9S_Phone_Airport/sm07/#02/data/udp_uplk_loss_latency.csv\n",
      "215/216 /home/wmnlab/jackbedford/data/2023-11-02/UDP_Bandlock_9S_Phone_Airport/sm08/#02/data/handover_info_log.csv\n",
      "215/216 /home/wmnlab/jackbedford/data/2023-11-02/UDP_Bandlock_9S_Phone_Airport/sm08/#02/data/udp_dnlk_loss_latency.csv\n",
      "215/216 /home/wmnlab/jackbedford/data/2023-11-02/UDP_Bandlock_9S_Phone_Airport/sm08/#02/data/udp_uplk_loss_latency.csv\n"
     ]
    },
    {
     "data": {
      "application/vnd.jupyter.widget-view+json": {
       "model_id": "d8ccc548f6954ea6b83fea352d62be64",
       "version_major": 2,
       "version_minor": 0
      },
      "text/plain": [
       "  0%|                                                                                                         …"
      ]
     },
     "metadata": {},
     "output_type": "display_data"
    },
    {
     "name": "stdout",
     "output_type": "stream",
     "text": [
      "./20240312_150032342e_newest/20240314_060073cc2b/results/20240314_07515600001_1d4f11bee8b69504/\\home\\wmnlab\\jackbedford\\data\\2023-11-02\\UDP_Bandlock_9S_Phone_Airport\\sm07\\#02\\data\\udp_dnlk_loss_latency\\home\\wmnlab\\jackbedford\\data\\2023-11-02\\UDP_Bandlock_9S_Phone_Airport\\sm08\\#02\\data\\udp_dnlk_loss_latency.csv\n",
      "./20240312_150032342e_newest/20240314_060073cc2b/figures/20240314_A_07515600001_1d4f11bee8b69504.png\n"
     ]
    },
    {
     "data": {
      "image/png": "[encoded data removed]",
      "text/plain": [
       "<Figure size 600x400 with 1 Axes>"
      ]
     },
     "metadata": {
      "image/png": {
       "height": 374,
       "width": 556
      }
     },
     "output_type": "display_data"
    }
   ],
   "source": [
    "eval = DEval(filepaths, model_name='A', model_suffix=None, sr_model_id=sr_model_id, dr_model_id=dr_model_id)\n",
    "eval.run_hist_method(N=1)\n",
    "eval.plot('A')"
   ]
  },
  {
   "cell_type": "code",
   "execution_count": null,
   "metadata": {},
   "outputs": [],
   "source": []
  }
 ],
 "metadata": {
  "kernelspec": {
   "display_name": "moxa",
   "language": "python",
   "name": "python3"
  },
  "language_info": {
   "codemirror_mode": {
    "name": "ipython",
    "version": 3
   },
   "file_extension": ".py",
   "mimetype": "text/x-python",
   "name": "python",
   "nbconvert_exporter": "python",
   "pygments_lexer": "ipython3",
   "version": "3.8.18"
  },
  "vscode": {
   "interpreter": {
    "hash": "ac7929854b6d4d7e2ce5893f875cc9f600cfede08169dbb82e36bcbc7af2498e"
   }
  }
 },
 "nbformat": 4,
 "nbformat_minor": 2
}
