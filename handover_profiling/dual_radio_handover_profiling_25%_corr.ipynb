{
 "cells": [
  {
   "cell_type": "markdown",
   "metadata": {},
   "source": [
    "# Import Modules & Util Functions"
   ]
  },
  {
   "cell_type": "code",
   "execution_count": 1,
   "metadata": {},
   "outputs": [
    {
     "name": "stdout",
     "output_type": "stream",
     "text": [
      "/home/wmnlab/F/results\n"
     ]
    }
   ],
   "source": [
    "import os\n",
    "import sys\n",
    "import glob\n",
    "import re\n",
    "import ast\n",
    "import warnings\n",
    "import time\n",
    "\n",
    "import csv\n",
    "import json\n",
    "import pickle\n",
    "\n",
    "import math\n",
    "import random\n",
    "import numpy as np\n",
    "import scipy as sp\n",
    "import datetime as dt\n",
    "import pandas as pd\n",
    "import swifter\n",
    "from scipy.stats import gaussian_kde\n",
    "from scipy.integrate import quad\n",
    "from scipy.optimize import minimize\n",
    "from sklearn.metrics import mean_squared_error\n",
    "\n",
    "import portion as P\n",
    "import itertools as it\n",
    "import copy\n",
    "from tqdm.notebook import tqdm\n",
    "from collections import namedtuple\n",
    "from pprint import pprint\n",
    "from pytictoc import TicToc\n",
    "\n",
    "import matplotlib\n",
    "import matplotlib.pyplot as plt\n",
    "import seaborn as sns\n",
    "\n",
    "from myutils import *\n",
    "\n",
    "# Configure display options\n",
    "pd.set_option('display.max_rows', 200)\n",
    "pd.set_option('display.max_columns', 100)\n",
    "%config InlineBackend.figure_format = 'retina'\n",
    "\n",
    "# Set plot style\n",
    "# plt.style.use('ggplot')\n",
    "\n",
    "with open(os.path.join(os.getcwd(), \"result_save_path.txt\"), \"r\") as f:\n",
    "    PATH_TO_RESULTS = f.readline()\n",
    "    \n",
    "print(PATH_TO_RESULTS)"
   ]
  },
  {
   "cell_type": "markdown",
   "metadata": {},
   "source": [
    "# Altering Correlation Coefficient"
   ]
  },
  {
   "cell_type": "code",
   "execution_count": 2,
   "metadata": {},
   "outputs": [],
   "source": [
    "def alter_corr_coef(sr_model_id, dr_model_id, route='BR', mode='zero', rho_force=None):\n",
    "\n",
    "    def rho_restriction(p, q):\n",
    "        sigma = max(math.sqrt(p * q * (1 - p) * (1 - q)), 1e-9)  # sigma_x * sigma_y\n",
    "        R1 = P.closed(-1, 1)  # -1 <= rho <= 1\n",
    "        R2 = P.closed(-(p * q) / sigma, (1 - p * q) / sigma)  # 0 <= P(X=1, Y=1) <= 1\n",
    "        R3 = P.closed((p * (1 - q) - 1) / sigma, p * (1 - q) / sigma)  # 0 <= P(X=1, Y=0) <= 1\n",
    "        R4 = P.closed((q * (1 - p) - 1) / sigma, q * (1 - p) / sigma)  # 0 <= P(X=0, Y=1) <= 1\n",
    "        R5 = P.closed(-((1 - p) * (1 - q)) / sigma, (1 - (1 - p) * (1 - q)) / sigma)  # 0 <= P(X=0, Y=0) <= 1\n",
    "        R = R1 & R2 & R3 & R4 & R5\n",
    "        return R\n",
    "\n",
    "    def calculate_joint_probabilities(p, q, rho):\n",
    "        \"\"\"\n",
    "        p := P(X = 1); P(X = 0) = 1 - p\n",
    "        q := P(Y = 1); P(Y = 0) = 1 - q\n",
    "        rho: correlation coefficient\n",
    "        a := P(X = 1, Y = 1)\n",
    "        b := P(X = 1, Y = 0)\n",
    "        c := P(X = 0, Y = 1)\n",
    "        d := P(X = 0, Y = 0)\n",
    "        \"\"\"\n",
    "        sigma = max(math.sqrt(p * q * (1 - p) * (1 - q)), 1e-9)  # sigma_x * sigma_y\n",
    "        a = p * q + rho * sigma\n",
    "        b = p * (1 - q) - rho * sigma\n",
    "        c = q * (1 - p) - rho * sigma\n",
    "        d = (1 - p) * (1 - q) + rho * sigma\n",
    "        return a, b, c, d\n",
    "\n",
    "    def calculate_conditional_probabilities(p, q, rho):\n",
    "        \"\"\"\n",
    "        p := P(X = 1); P(X = 0) = 1 - p\n",
    "        q := P(Y = 1); P(Y = 0) = 1 - q\n",
    "        rho: correlation coefficient\n",
    "        alpha := P(Y = 1 | X = 1)\n",
    "        beta  := P(Y = 1 | X = 0)\n",
    "        gamma := P(X = 1 | Y = 1)\n",
    "        delta := P(X = 1 | Y = 0)\n",
    "        \"\"\"\n",
    "        sigma = max(math.sqrt(p * q * (1 - p) * (1 - q)), 1e-9)  # sigma_x * sigma_y\n",
    "        p = min(max(1e-9, p), 1 - 1e-9)\n",
    "        q = min(max(1e-9, q), 1 - 1e-9)\n",
    "        alpha = (p * q + rho * sigma) / p\n",
    "        beta = (q * (1 - p) - rho * sigma) / (1 - p)\n",
    "        gamma = (p * q + rho * sigma) / q\n",
    "        delta = (p * (1 - q) - rho * sigma) / (1 - q)\n",
    "        return alpha, beta, gamma, delta\n",
    "\n",
    "    def generate_combos(items):\n",
    "        combinations_result = list(it.combinations(items, 2))\n",
    "        self_combinations = [(x, x) for x in items]\n",
    "        def custom_sort(item):\n",
    "            return items.index(item[0]), items.index(item[1])\n",
    "        combos = sorted(self_combinations + combinations_result, key=custom_sort)\n",
    "        return combos\n",
    "\n",
    "    def adjust_rho(rho, rho_limit):\n",
    "        if rho > rho_limit.upper:\n",
    "            return rho_limit.upper\n",
    "        elif rho < rho_limit.lower:\n",
    "            return rho_limit.lower\n",
    "        else:\n",
    "            return rho\n",
    "    \n",
    "    load_path = os.path.join('.', sr_model_id, dr_model_id, 'models')\n",
    "    # print(load_path)\n",
    "    \n",
    "    with open(os.path.join(load_path, f'{route}_dr_prob_models.pkl'), 'rb') as f:\n",
    "        dr_prob_models = pickle.load(f)\n",
    "    dr_prob_models_table = pd.read_csv(os.path.join(load_path, f'{route}_dr_prob_models_table.csv'), index_col=[0, 1])\n",
    "    \n",
    "    # print(dr_prob_models)\n",
    "    # display(dr_prob_models_table)\n",
    "    \n",
    "    adjust_table = pd.DataFrame(columns=\"type1, type2, p, q, rho_lower, rho_upper, rho, alpha, beta, gamma, delta, a, b, c, d, sum\".split(\", \"))\n",
    "    items = ['LTEH', 'ENBH', 'MCGH', 'MNBH', 'SCGM', 'SCGA', 'SCGR-I', 'SCGR-II', 'SCGC-I', 'SCGC-II', 'SCGF', 'MCGF', 'NASR', 'Stable']\n",
    "    combos = generate_combos(items)\n",
    "\n",
    "    for pair in combos:\n",
    "        row = dr_prob_models_table.loc[pair]\n",
    "        p, q = row['p'], row['q']\n",
    "        # rho = row['rho']\n",
    "        rho_limit = rho_restriction(p, q)\n",
    "        \n",
    "        if rho_force is None:\n",
    "            if mode == 'zero':\n",
    "                rho_adjust = 0\n",
    "            elif mode == 'max':\n",
    "                rho_adjust = rho_limit.upper\n",
    "            else:\n",
    "                percentage = int(mode[:-1])\n",
    "                rho_adjust = percentage * rho_limit.upper / 100\n",
    "        else:\n",
    "            rho_adjust = rho_force\n",
    "        \n",
    "        alpha, beta, gamma, delta = calculate_conditional_probabilities(p, q, rho_adjust)\n",
    "        a, b, c, d = calculate_joint_probabilities(p, q, rho_adjust)\n",
    "        adjust_table.loc[len(adjust_table)] = [pair[0], pair[1], p, q, rho_limit.lower, rho_limit.upper, rho_adjust, alpha, beta, gamma, delta, a, b, c, d, sum([a, b, c, d])]\n",
    "    \n",
    "    adjust_table = adjust_table.set_index(['type1', 'type2'])\n",
    "    \n",
    "    model_adjust = copy.deepcopy(dr_prob_models)\n",
    "    for pair in combos:\n",
    "        row = adjust_table.loc[pair]\n",
    "        p, q, alpha, beta, gamma, delta = row['p'], row['q'], row['alpha'], row['beta'], row['gamma'], row['delta']\n",
    "        model_adjust['dl_lost'][pair] = (alpha, beta)\n",
    "        model_adjust['dl_lost'][(pair[1], pair[0])] = (gamma, delta)\n",
    "    \n",
    "    with open(os.path.join(load_path, f'{route}_dr_prob_models_{mode}_corr.pkl'), 'wb') as f:\n",
    "        pickle.dump(model_adjust, f)\n",
    "    adjust_table.to_csv(os.path.join(load_path, f'{route}_dr_prob_models_{mode}_corr_table.csv'))\n",
    "    \n",
    "    return adjust_table, model_adjust"
   ]
  },
  {
   "cell_type": "markdown",
   "metadata": {},
   "source": [
    "# Dual Radio Evaluation"
   ]
  },
  {
   "cell_type": "code",
   "execution_count": 3,
   "metadata": {},
   "outputs": [],
   "source": [
    "class DrEval:\n",
    "    def __init__(self, filepaths, model_name='Test', model_suffix=None, sr_model_id=None, dr_model_id=None, load_path='.', save_path='.',\n",
    "                 sp_columns=['type'], ts_column='Timestamp',\n",
    "                 metrics=['dl_lost']):\n",
    "        # Initialize instance variables\n",
    "        self.filepaths = copy.deepcopy(filepaths)\n",
    "        \n",
    "        if sr_model_id is None:\n",
    "            raise TypeError(\"請輸入SR模型編號\")\n",
    "        else:\n",
    "            self.sr_model_id = sr_model_id\n",
    "        \n",
    "        if dr_model_id is None:\n",
    "            raise TypeError(\"請輸入DR模型編號\")\n",
    "        else:\n",
    "            self.dr_model_id = dr_model_id\n",
    "        \n",
    "        self.model_name = model_name\n",
    "        self.save_path = save_path\n",
    "        \n",
    "        self.load_path = os.path.join(load_path, self.sr_model_id, 'models', self.model_name)\n",
    "        print(self.load_path)\n",
    "        with open(f'{self.load_path}_kde_models.pkl', 'rb') as f:\n",
    "            self.kde_models = pickle.load(f)\n",
    "        with open(f'{self.load_path}_hist_models.pkl', 'rb') as f:\n",
    "            self.hist_models = pickle.load(f)\n",
    "        with open(f'{self.load_path}_scope_models.pkl', 'rb') as f:\n",
    "            self.scope_models = pickle.load(f)\n",
    "        with open(f'{self.load_path}_plr_models.pkl', 'rb') as f:\n",
    "            self.plr_models = pickle.load(f)\n",
    "        with open(f'{self.load_path}_sr_prob_models.pkl', 'rb') as f:\n",
    "            self.sr_prob_models = pickle.load(f)\n",
    "            \n",
    "        self.load_path = os.path.join(load_path, self.sr_model_id, self.dr_model_id, 'models', self.model_name)\n",
    "        print(self.load_path)\n",
    "        if model_suffix is None:\n",
    "            print(f'{self.load_path}_dr_prob_models.pkl')\n",
    "            with open(f'{self.load_path}_dr_prob_models.pkl', 'rb') as f:\n",
    "                self.dr_prob_models = pickle.load(f)\n",
    "        else:\n",
    "            print(f'{self.load_path}_dr_prob_models_{model_suffix}.pkl')\n",
    "            with open(f'{self.load_path}_dr_prob_models_{model_suffix}.pkl', 'rb') as f:\n",
    "                self.dr_prob_models = pickle.load(f)\n",
    "        self.model_suffix = model_suffix\n",
    "        \n",
    "        self.sp_columns = sp_columns[:]\n",
    "        self.ts_column = ts_column\n",
    "        self.metrics = metrics[:]\n",
    "        \n",
    "        _, _, _, self.figure_id = figure_identity()\n",
    "        \n",
    "        # Sample data\n",
    "        self.LOSS_GT = []\n",
    "        self.LOSS_EV = []\n",
    "        self.LOSS_STD = []\n",
    "        self.DEVICES = []\n",
    "        self.TRACES = []\n",
    "        \n",
    "        # all records\n",
    "        self.records = []\n",
    "\n",
    "    @staticmethod\n",
    "    def generate_random_boolean(probability_true):\n",
    "        return random.random() < probability_true\n",
    "    \n",
    "    @staticmethod\n",
    "    def interpolate(x, y, ratio=0.5):\n",
    "        \"\"\"\n",
    "        Args:\n",
    "            x, y (datetime.datetime): x < y\n",
    "            ratio (float): a decimal numeral in a range [0, 1]; 0 means break at x, 1 means break at y.\n",
    "        Returns:\n",
    "            (datetime.datetime): breakpoint of interpolation\n",
    "        \"\"\"\n",
    "        return x + (y - x) * ratio\n",
    "    \n",
    "    def hist_method(self, df, ho_df, mode_mets, mets, RATE_TYPE):\n",
    "        scope = self.scope_models[mode_mets]\n",
    "        hist_model = self.hist_models[mode_mets]\n",
    "        prob_model = self.sr_prob_models[mode_mets]\n",
    "        plr_model = self.plr_models[mode_mets]\n",
    "        \n",
    "        this_df = df.copy()\n",
    "        for i, row in ho_df.iterrows():\n",
    "            prior_row = ho_df.iloc[i-1] if i != 0 else None\n",
    "            post_row = ho_df.iloc[i+1] if i != len(ho_df) - 1 else None\n",
    "\n",
    "            # Peek the next event to avoid HO overlapping with handoverFailure (skip!!)\n",
    "            if i != len(ho_df) - 1 and pd.notna(row.end) and row.end > post_row.start:\n",
    "                # print('Overlapping event occurs!!')\n",
    "                # print(i, row['start'], row['end'], row['type'], row['cause'])\n",
    "                # print(i+1, post_row['start'], post_row['end'], post_row['type'], post_row['cause'])\n",
    "                continue\n",
    "            \n",
    "            # Set prior event if the prior loop is skipped\n",
    "            if i != 0 and pd.notna(prior_row.end) and prior_row.end > row.start:\n",
    "                prior_row = ho_df.iloc[i-2] if i > 1 else None\n",
    "            \n",
    "            # Basic information of the current row\n",
    "            tag = '_'.join([s for s in row[self.sp_columns] if pd.notna(s)])  # specific column name\n",
    "            start_ts, end_ts = row['start'], row['end']  # handover start/end time\n",
    "            interruption_time = (end_ts - start_ts).total_seconds() if pd.notna(end_ts) else 0  # handover interruption time\n",
    "            \n",
    "            # Set simple left/right bounds\n",
    "            current_left_bound = start_ts + pd.Timedelta(seconds=(scope[tag][0]))\n",
    "            current_right_bound = start_ts + pd.Timedelta(seconds=(scope[tag][1]))\n",
    "            \n",
    "            # Set left/right bounds to avoid event overlapping with each other\n",
    "            if prior_row is not None:\n",
    "                prior_tag = '_'.join([s for s in prior_row[self.sp_columns] if pd.notna(s)])\n",
    "                prior_right_bound = prior_row['start'] + pd.Timedelta(seconds=(scope[prior_tag][1]))\n",
    "                if pd.notna(prior_row['end']):\n",
    "                    left_bound = min(max(current_left_bound, DrEval.interpolate(prior_right_bound, current_left_bound), prior_row['end']), start_ts)\n",
    "                else:\n",
    "                    left_bound = min(max(current_left_bound, DrEval.interpolate(prior_right_bound, current_left_bound), prior_row['start']), start_ts)\n",
    "            else:\n",
    "                left_bound = current_left_bound\n",
    "            \n",
    "            if post_row is not None:\n",
    "                post_tag = '_'.join([s for s in post_row[self.sp_columns] if pd.notna(s)])\n",
    "                post_left_bound = post_row['start'] + pd.Timedelta(seconds=(scope[post_tag][0]))\n",
    "                if pd.notna(end_ts):\n",
    "                    right_bound = max(min(current_right_bound, DrEval.interpolate(current_right_bound, post_left_bound), post_row['start']), end_ts)\n",
    "                else:\n",
    "                    right_bound = max(min(current_right_bound, DrEval.interpolate(current_right_bound, post_left_bound), post_row['start']), start_ts)\n",
    "            else:\n",
    "                right_bound = current_right_bound\n",
    "            \n",
    "            interval = P.closed(left_bound, right_bound)\n",
    "            \n",
    "            # Concatenate PLR from mapping list\n",
    "            current_df = this_df[this_df['Timestamp'] < interval.upper].copy()\n",
    "            plr_mapping = hist_model[tag].copy()\n",
    "            \n",
    "            current_df[f'relative_time'] = (current_df['Timestamp'] - start_ts).dt.total_seconds()\n",
    "            current_df[f'window_id'] = ((current_df[f'relative_time'] + 0.005) // 0.01) * 0.01\n",
    "            \n",
    "            trigger_probability = prob_model[tag]\n",
    "            \n",
    "            if plr_mapping.empty:\n",
    "                tmp = current_df.copy().rename(columns={mets: f'{mets}_x'})\n",
    "            else:\n",
    "                tmp = pd.merge(current_df, plr_mapping, on='window_id', how='left')\n",
    "                tmp[RATE_TYPE] = tmp[RATE_TYPE].fillna(0)\n",
    "                \n",
    "                if not DrEval.generate_random_boolean(trigger_probability):\n",
    "                    tmp[RATE_TYPE] = 0\n",
    "            \n",
    "            tmp['type'] = tag\n",
    "            \n",
    "            if i == 0:\n",
    "                answer = tmp.copy()\n",
    "            else:\n",
    "                answer = pd.concat([answer, tmp], axis=0)\n",
    "            \n",
    "            # Update dataframe to accelerate the speed\n",
    "            this_df = this_df[this_df[self.ts_column] >= interval.upper].copy()\n",
    "        \n",
    "        answer = pd.concat([answer, this_df], axis=0)\n",
    "        \n",
    "        # Consider stable duration\n",
    "        stable_df = answer[answer['tx_count'].isnull()].copy()[['seq', 'lost_x', 'excl', 'Timestamp']].rename(columns={'lost_x': 'lost'})\n",
    "\n",
    "        stable_df['Timestamp_sec'] = stable_df['Timestamp'].dt.floor('S')\n",
    "        stable_df['relative_time'] = (stable_df['Timestamp'] - stable_df['Timestamp_sec']).dt.total_seconds() - 0.5\n",
    "        stable_df['window_id'] = ((stable_df['relative_time'] + 0.01 / 2) // 0.01) * 0.01\n",
    "\n",
    "        plr_mapping = hist_model['Stable'].copy()        \n",
    "        stable_df = pd.merge(stable_df, plr_mapping, on='window_id', how='left').rename(columns={'PLR': 'PLR_if_trigger'})\n",
    "        trigger_prob_mapping = stable_df[~stable_df['Timestamp_sec'].duplicated()].reset_index(drop=True)[['Timestamp_sec']]\n",
    "        \n",
    "        trigger_probability = prob_model['Stable']\n",
    "        random_bool_array = [DrEval.generate_random_boolean(trigger_probability) for _ in range(len(trigger_prob_mapping))]\n",
    "        trigger_prob_mapping['trigger'] = random_bool_array\n",
    "\n",
    "        stable_df = pd.merge(stable_df, trigger_prob_mapping, on='Timestamp_sec', how='left')\n",
    "        stable_df['PLR'] = stable_df['PLR_if_trigger'] * stable_df['trigger']\n",
    "        \n",
    "        stable_df['type'] = 'Stable'\n",
    "\n",
    "        del stable_df['Timestamp_sec'], stable_df['PLR_if_trigger'], stable_df['trigger']\n",
    "        \n",
    "        answer = answer[answer['tx_count'].notnull()].copy()\n",
    "        \n",
    "        answer = pd.concat([answer, stable_df], axis=0)\n",
    "        answer = answer.sort_values(by='Timestamp').reset_index(drop=True)\n",
    "        answer['PLR'] = answer['PLR'] / 100\n",
    "        answer['Y'] = answer['PLR'].apply(DrEval.generate_random_boolean)\n",
    "        \n",
    "        eval_value = answer['Y'].mean() * 100\n",
    "        ground_value = df['lost'].mean() * 100\n",
    "        \n",
    "        answer = pd.concat([answer[['seq', 'Timestamp', 'type', 'relative_time', 'window_id']],\n",
    "                            df[['lost']],\n",
    "                            answer[[RATE_TYPE, 'Y']]], axis=1)\n",
    "        \n",
    "        return answer, eval_value, ground_value\n",
    "    \n",
    "    \n",
    "    def setup_profile(self, df, ho_df, df2, scope):\n",
    "        \n",
    "        this_df = df2.copy()\n",
    "        this_df = this_df[this_df['Y']].copy().reset_index(drop=True)\n",
    "        \n",
    "        df['anchor_type'] = 'Stable'\n",
    "        df['anchor_state'] = 0\n",
    "        for i, row in ho_df.iterrows():\n",
    "            prior_row = ho_df.iloc[i-1] if i != 0 else None\n",
    "            post_row = ho_df.iloc[i+1] if i != len(ho_df) - 1 else None\n",
    "\n",
    "            # Peek the next event to avoid HO overlapping with handoverFailure (skip!!)\n",
    "            if i != len(ho_df) - 1 and pd.notna(row.end) and row.end > post_row.start:\n",
    "                # print('Overlapping event occurs!!')\n",
    "                # print(i, row['start'], row['end'], row['type'], row['cause'])\n",
    "                # print(i+1, post_row['start'], post_row['end'], post_row['type'], post_row['cause'])\n",
    "                continue\n",
    "            \n",
    "            # Set prior event if the prior loop is skipped\n",
    "            if i != 0 and pd.notna(prior_row.end) and prior_row.end > row.start:\n",
    "                prior_row = ho_df.iloc[i-2] if i > 1 else None\n",
    "            \n",
    "            # Basic information of the current row\n",
    "            tag = '_'.join([s for s in row[self.sp_columns] if pd.notna(s)])  # specific column name\n",
    "            start_ts, end_ts = row['start'], row['end']  # handover start/end time\n",
    "            interruption_time = (end_ts - start_ts).total_seconds() if pd.notna(end_ts) else 0  # handover interruption time\n",
    "            \n",
    "            # Set simple left/right bounds\n",
    "            current_left_bound = start_ts + pd.Timedelta(seconds=(scope[tag][0]))\n",
    "            current_right_bound = start_ts + pd.Timedelta(seconds=(scope[tag][1]))\n",
    "            \n",
    "            # Set left/right bounds to avoid event overlapping with each other\n",
    "            if prior_row is not None:\n",
    "                prior_tag = '_'.join([s for s in prior_row[self.sp_columns] if pd.notna(s)])\n",
    "                prior_right_bound = prior_row['start'] + pd.Timedelta(seconds=(scope[prior_tag][1]))\n",
    "                if pd.notna(prior_row['end']):\n",
    "                    left_bound = min(max(current_left_bound, DrEval.interpolate(prior_right_bound, current_left_bound), prior_row['end']), start_ts)\n",
    "                else:\n",
    "                    left_bound = min(max(current_left_bound, DrEval.interpolate(prior_right_bound, current_left_bound), prior_row['start']), start_ts)\n",
    "            else:\n",
    "                left_bound = current_left_bound\n",
    "            \n",
    "            if post_row is not None:\n",
    "                post_tag = '_'.join([s for s in post_row[self.sp_columns] if pd.notna(s)])\n",
    "                post_left_bound = post_row['start'] + pd.Timedelta(seconds=(scope[post_tag][0]))\n",
    "                if pd.notna(end_ts):\n",
    "                    right_bound = max(min(current_right_bound, DrEval.interpolate(current_right_bound, post_left_bound), post_row['start']), end_ts)\n",
    "                else:\n",
    "                    right_bound = max(min(current_right_bound, DrEval.interpolate(current_right_bound, post_left_bound), post_row['start']), start_ts)\n",
    "            else:\n",
    "                right_bound = current_right_bound\n",
    "            \n",
    "            interval = P.closed(left_bound, right_bound)\n",
    "            \n",
    "            df.loc[(df['start'] >= interval.lower) & (df['start'] < interval.upper), 'anchor_type'] = tag\n",
    "            \n",
    "            if not this_df[(this_df['Timestamp'] >= interval.lower) & (this_df['Timestamp'] < interval.upper)].empty:\n",
    "                df.loc[(df['start'] >= interval.lower) & (df['start'] < interval.upper), 'anchor_state'] = 1\n",
    "                \n",
    "            # Update dataframe to accelerate the speed\n",
    "            this_df = this_df[this_df[self.ts_column] >= interval.upper].copy()\n",
    "            \n",
    "        return df\n",
    "    \n",
    "    \n",
    "    def hist_method_dual(self, df, ho_df, mode_mets, mets, RATE_TYPE):\n",
    "        scope = self.scope_models[mode_mets]\n",
    "        hist_model = self.hist_models[mode_mets]\n",
    "        dr_prob_model = self.dr_prob_models[mode_mets]\n",
    "        \n",
    "        this_df = df.copy()\n",
    "        for i, row in ho_df.iterrows():\n",
    "            prior_row = ho_df.iloc[i-1] if i != 0 else None\n",
    "            post_row = ho_df.iloc[i+1] if i != len(ho_df) - 1 else None\n",
    "\n",
    "            # Peek the next event to avoid HO overlapping with handoverFailure (skip!!)\n",
    "            if i != len(ho_df) - 1 and pd.notna(row.end) and row.end > post_row.start:\n",
    "                # print('Overlapping event occurs!!')\n",
    "                # print(i, row['start'], row['end'], row['type'], row['cause'])\n",
    "                # print(i+1, post_row['start'], post_row['end'], post_row['type'], post_row['cause'])\n",
    "                continue\n",
    "            \n",
    "            # Set prior event if the prior loop is skipped\n",
    "            if i != 0 and pd.notna(prior_row.end) and prior_row.end > row.start:\n",
    "                prior_row = ho_df.iloc[i-2] if i > 1 else None\n",
    "            \n",
    "            # Basic information of the current row\n",
    "            tag = '_'.join([s for s in row[self.sp_columns] if pd.notna(s)])  # specific column name\n",
    "            start_ts, end_ts = row['start'], row['end']  # handover start/end time\n",
    "            interruption_time = (end_ts - start_ts).total_seconds() if pd.notna(end_ts) else 0  # handover interruption time\n",
    "            \n",
    "            # Set simple left/right bounds\n",
    "            current_left_bound = start_ts + pd.Timedelta(seconds=(scope[tag][0]))\n",
    "            current_right_bound = start_ts + pd.Timedelta(seconds=(scope[tag][1]))\n",
    "            \n",
    "            # Set left/right bounds to avoid event overlapping with each other\n",
    "            if prior_row is not None:\n",
    "                prior_tag = '_'.join([s for s in prior_row[self.sp_columns] if pd.notna(s)])\n",
    "                prior_right_bound = prior_row['start'] + pd.Timedelta(seconds=(scope[prior_tag][1]))\n",
    "                if pd.notna(prior_row['end']):\n",
    "                    left_bound = min(max(current_left_bound, DrEval.interpolate(prior_right_bound, current_left_bound), prior_row['end']), start_ts)\n",
    "                else:\n",
    "                    left_bound = min(max(current_left_bound, DrEval.interpolate(prior_right_bound, current_left_bound), prior_row['start']), start_ts)\n",
    "            else:\n",
    "                left_bound = current_left_bound\n",
    "            \n",
    "            if post_row is not None:\n",
    "                post_tag = '_'.join([s for s in post_row[self.sp_columns] if pd.notna(s)])\n",
    "                post_left_bound = post_row['start'] + pd.Timedelta(seconds=(scope[post_tag][0]))\n",
    "                if pd.notna(end_ts):\n",
    "                    right_bound = max(min(current_right_bound, DrEval.interpolate(current_right_bound, post_left_bound), post_row['start']), end_ts)\n",
    "                else:\n",
    "                    right_bound = max(min(current_right_bound, DrEval.interpolate(current_right_bound, post_left_bound), post_row['start']), start_ts)\n",
    "            else:\n",
    "                right_bound = current_right_bound\n",
    "            \n",
    "            interval = P.closed(left_bound, right_bound)\n",
    "            \n",
    "            # Concatenate PLR from mapping list\n",
    "            current_df = this_df[this_df['Timestamp'] < interval.upper].copy()\n",
    "            plr_mapping = hist_model[tag].copy()\n",
    "            \n",
    "            current_df[f'relative_time'] = (current_df['Timestamp'] - start_ts).dt.total_seconds()\n",
    "            current_df[f'window_id'] = ((current_df[f'relative_time'] + 0.005) // 0.01) * 0.01\n",
    "            \n",
    "            anchor_tag = row['anchor_type']\n",
    "            anchor_state = row['anchor_state']\n",
    "            \n",
    "            if anchor_state == 1:\n",
    "                trigger_probability = dr_prob_model[(anchor_tag, tag)][0]\n",
    "            else:\n",
    "                trigger_probability = dr_prob_model[(anchor_tag, tag)][1]\n",
    "            \n",
    "            if plr_mapping.empty:\n",
    "                tmp = current_df.copy().rename(columns={mets: f'{mets}_x'})\n",
    "            else:\n",
    "                tmp = pd.merge(current_df, plr_mapping, on='window_id', how='left')\n",
    "                tmp[RATE_TYPE] = tmp[RATE_TYPE].fillna(0)\n",
    "                \n",
    "                if not DrEval.generate_random_boolean(trigger_probability):\n",
    "                    tmp[RATE_TYPE] = 0\n",
    "            \n",
    "            tmp['anchor_type'] = anchor_tag\n",
    "            tmp['anchor_state'] = anchor_state\n",
    "            tmp['type'] = tag\n",
    "            \n",
    "            if i == 0:\n",
    "                answer = tmp.copy()\n",
    "            else:\n",
    "                answer = pd.concat([answer, tmp], axis=0)\n",
    "            \n",
    "            # Update dataframe to accelerate the speed\n",
    "            this_df = this_df[this_df[self.ts_column] >= interval.upper].copy()\n",
    "        \n",
    "        answer = pd.concat([answer, this_df], axis=0)\n",
    "        # display(answer)\n",
    "        \n",
    "        # Consider stable duration\n",
    "        stable_df = answer[answer['tx_count'].isnull()].copy()[['seq', 'lost_x', 'excl', 'Timestamp']].rename(columns={'lost_x': 'lost'})\n",
    "\n",
    "        stable_df['Timestamp_sec'] = stable_df['Timestamp'].dt.floor('S')\n",
    "        stable_df['relative_time'] = (stable_df['Timestamp'] - stable_df['Timestamp_sec']).dt.total_seconds() - 0.5\n",
    "        stable_df['window_id'] = ((stable_df['relative_time'] + 0.01 / 2) // 0.01) * 0.01\n",
    "\n",
    "        plr_mapping = hist_model['Stable'].copy()        \n",
    "        stable_df = pd.merge(stable_df, plr_mapping, on='window_id', how='left').rename(columns={'PLR': 'PLR_if_trigger'})\n",
    "        trigger_prob_mapping = stable_df[~stable_df['Timestamp_sec'].duplicated()].reset_index(drop=True)[['Timestamp_sec']]\n",
    "        \n",
    "        trigger_probability = dr_prob_model[('Stable', 'Stable')][0]\n",
    "        \n",
    "        # if anchor_state == 1:\n",
    "        #     trigger_probability = dr_prob_model[(anchor_tag, tag)][0]\n",
    "        # else:\n",
    "        #     trigger_probability = dr_prob_model[(anchor_tag, tag)][1]\n",
    "                \n",
    "        random_bool_array = [DrEval.generate_random_boolean(trigger_probability) for _ in range(len(trigger_prob_mapping))]\n",
    "        trigger_prob_mapping['trigger'] = random_bool_array\n",
    "\n",
    "        stable_df = pd.merge(stable_df, trigger_prob_mapping, on='Timestamp_sec', how='left')\n",
    "        stable_df['PLR'] = stable_df['PLR_if_trigger'] * stable_df['trigger']\n",
    "        \n",
    "        # stable_df['type'] = 'Stable'\n",
    "        stable_df['anchor_type'] = 'Stable'\n",
    "        stable_df['anchor_state'] = 0\n",
    "        stable_df['type'] = 'Stable'\n",
    "\n",
    "        del stable_df['Timestamp_sec'], stable_df['PLR_if_trigger'], stable_df['trigger']\n",
    "        \n",
    "        answer = answer[answer['tx_count'].notnull()].copy()\n",
    "        \n",
    "        answer = pd.concat([answer, stable_df], axis=0)\n",
    "        answer = answer.sort_values(by='Timestamp').reset_index(drop=True)\n",
    "        answer['PLR'] = answer['PLR'] / 100\n",
    "        answer['Y'] = answer['PLR'].apply(DrEval.generate_random_boolean)\n",
    "        \n",
    "        eval_value = answer['Y'].mean() * 100\n",
    "        ground_value = df['lost'].mean() * 100\n",
    "        \n",
    "        answer = pd.concat([answer[['seq', 'Timestamp', 'anchor_type', 'anchor_state', 'type', 'relative_time', 'window_id']],\n",
    "                            df[['lost']],\n",
    "                            answer[[RATE_TYPE, 'Y']]], axis=1)\n",
    "\n",
    "        return answer, eval_value, ground_value\n",
    "\n",
    "        # return answer, eval_value, ground_value\n",
    "        \n",
    "        # # Consider stable duration\n",
    "        # stable_df = answer[answer['tx_count'].isnull()].copy()[['seq', 'lost_x', 'excl', 'Timestamp']].rename(columns={'lost_x': 'lost'})\n",
    "\n",
    "        # stable_df['Timestamp_sec'] = stable_df['Timestamp'].dt.floor('S')\n",
    "        # stable_df['relative_time'] = (stable_df['Timestamp'] - stable_df['Timestamp_sec']).dt.total_seconds() - 0.5\n",
    "        # stable_df['window_id'] = ((stable_df['relative_time'] + 0.01 / 2) // 0.01) * 0.01\n",
    "\n",
    "        # plr_mapping = hist_model['Stable'].copy()\n",
    "        # stable_df = pd.merge(stable_df, plr_mapping, on='window_id', how='left').rename(columns={'PLR': 'PLR_trig'})\n",
    "\n",
    "        # trig_p_mapping = stable_df[~stable_df['Timestamp_sec'].duplicated()].reset_index(drop=True)\n",
    "        \n",
    "        # triggered_p = dr_prob_model[('Stable', 'Stable')][0]\n",
    "        \n",
    "        # random_bool_array = [DrEval.generate_random_boolean(triggered_p) for _ in range(len(trig_p_mapping))]\n",
    "        # trig_p_mapping['trigger'] = random_bool_array\n",
    "        # trig_p_mapping = trig_p_mapping[['Timestamp_sec', 'trigger']]\n",
    "\n",
    "        # stable_df = pd.merge(stable_df, trig_p_mapping, on='Timestamp_sec', how='left')\n",
    "        # stable_df['PLR'] = stable_df['PLR_trig'] * stable_df['trigger']\n",
    "\n",
    "        # del stable_df['Timestamp_sec'], stable_df['PLR_trig'], stable_df['trigger']\n",
    "        \n",
    "        # answer = answer[answer['tx_count'].notnull()].copy()\n",
    "        # # display(answer)\n",
    "        \n",
    "        # answer = pd.concat([answer, stable_df], axis=0)\n",
    "        # answer = answer.sort_values(by='Timestamp').reset_index(drop=True)\n",
    "        # answer['PLR'] = answer['PLR'] / 100\n",
    "        # answer['Y'] = answer['PLR'].apply(DrEval.generate_random_boolean)\n",
    "        \n",
    "        # eval_value = answer['Y'].mean() * 100\n",
    "        # ground_value = df['lost'].mean() * 100\n",
    "    \n",
    "    \n",
    "    def run_hist_method(self, N=3):\n",
    "        scope = self.scope_models['dl_lost']\n",
    "        n = len(self.filepaths)\n",
    "        for mode_mets in ['dl_lost']:\n",
    "            for i, filepath in enumerate(self.filepaths):\n",
    "                \n",
    "                # if i > 35:\n",
    "                #     break\n",
    "                \n",
    "                # if i > 0:\n",
    "                #     break\n",
    "                \n",
    "                print(f'{i}/{n}', filepath[0][0]); print(f'{i}/{n}', filepath[0][1]); print(f'{i}/{n}', filepath[0][2])\n",
    "                print(f'{i}/{n}', filepath[1][0]); print(f'{i}/{n}', filepath[1][1]); print(f'{i}/{n}', filepath[1][2])\n",
    "                \n",
    "                # ho_df1 = pd.read_csv(filepath[0][0], parse_dates=['start', 'end'])\n",
    "                if os.path.isfile(filepath[0][0]):\n",
    "                    ho_df1 = pd.read_csv(filepath[0][0], parse_dates=['start', 'end'])\n",
    "                else:\n",
    "                    print('{} does not exist!!!'.format(filepath[0][0]))\n",
    "                    temp_dir = os.path.dirname(filepath[0][0])\n",
    "                    rrc_file = [os.path.join(temp_dir, s) for s in os.listdir(temp_dir) if s.endswith('rrc.csv')][0]\n",
    "                    ho_df1, _ = mi_parse_handover(pd.read_csv(rrc_file))\n",
    "                    print('makefile:', os.path.join(temp_dir, 'handover_info_log.csv'))\n",
    "                    ho_df1.to_csv(os.path.join(temp_dir, 'handover_info_log.csv'), index=False)\n",
    "                \n",
    "                # ho_df2 = pd.read_csv(filepath[1][0], parse_dates=['start', 'end'])\n",
    "                if os.path.isfile(filepath[1][0]):\n",
    "                    ho_df2 = pd.read_csv(filepath[1][0], parse_dates=['start', 'end'])\n",
    "                else:\n",
    "                    print('{} does not exist!!!'.format(filepath[1][0]))\n",
    "                    temp_dir = os.path.dirname(filepath[1][0])\n",
    "                    rrc_file = [os.path.join(temp_dir, s) for s in os.listdir(temp_dir) if s.endswith('rrc.csv')][0]\n",
    "                    ho_df2, _ = mi_parse_handover(pd.read_csv(rrc_file))\n",
    "                    print('makefile:', os.path.join(temp_dir, 'handover_info_log.csv'))\n",
    "                    ho_df2.to_csv(os.path.join(temp_dir, 'handover_info_log.csv'), index=False)\n",
    "                \n",
    "                if ho_df1.empty or ho_df2.empty:\n",
    "                    print('******** Empty RRC Data ********')\n",
    "                    continue\n",
    "                \n",
    "                # df, ho_df, empty_data = data_aligner(df, ho_df)\n",
    "                \n",
    "                df1 = pd.read_csv(filepath[0][1], parse_dates=['Timestamp'])[['seq', 'Timestamp', 'lost', 'excl', 'latency']]\n",
    "                df2 = pd.read_csv(filepath[1][1], parse_dates=['Timestamp'])[['seq', 'Timestamp', 'lost', 'excl', 'latency']]\n",
    "                df1, ho_df1, empty_data1 = data_aligner(df1, ho_df1)\n",
    "                df2, ho_df2, empty_data2 = data_aligner(df2, ho_df2)\n",
    "                \n",
    "                if empty_data1 or empty_data2:\n",
    "                    print('******** Empty RRC Data ********')\n",
    "                    continue\n",
    "                \n",
    "                df = pd.merge(df1, df2, on='seq', how='inner').reset_index(drop=True)\n",
    "                \n",
    "                df1 = df[['seq', 'Timestamp_x', 'lost_x', 'excl_x', 'latency_x']].rename(columns={'Timestamp_x': 'Timestamp', 'lost_x': 'lost', 'excl_x': 'excl', 'latency_x': 'latency'})\n",
    "                df2 = df[['seq', 'Timestamp_y', 'lost_y', 'excl_y', 'latency_y']].rename(columns={'Timestamp_y': 'Timestamp', 'lost_y': 'lost', 'excl_y': 'excl', 'latency_y': 'latency'})\n",
    "                \n",
    "                loss_rate_list = []\n",
    "                answer = None\n",
    "                for iter_round in tqdm(range(N), ncols=1000):\n",
    "                    ans1, eval_value1, ground_value1 = eval.hist_method(df1, ho_df1, mode_mets='dl_lost', mets='lost', RATE_TYPE='PLR')\n",
    "                    # display(answer1)\n",
    "                    \n",
    "                    # setup_profile\n",
    "                    # ho_df1 = self.setup_profile(ho_df1, ho_df2, df2, scope)\n",
    "                    avatar_ho_df2 = self.setup_profile(ho_df2.copy(), ho_df1, ans1, scope)\n",
    "                    \n",
    "                    # display(avatar_ho_df2)\n",
    "                    \n",
    "                    ans2, eval_value2, ground_value2 = eval.hist_method_dual(df2, avatar_ho_df2, mode_mets='dl_lost', mets='lost', RATE_TYPE='PLR')\n",
    "                    \n",
    "                    # display(ans1)\n",
    "                    # display(ans2)\n",
    "                    # display(answer2)\n",
    "                    \n",
    "                    ans = pd.merge(ans1, ans2, on='seq', how='inner').reset_index(drop=True)\n",
    "                    ans['lost'] = (ans['lost_x']) & (ans['lost_y'])\n",
    "                    ans['Y'] = (ans['Y_x']) & (ans['Y_y'])\n",
    "                    ans = ans[['seq', 'Timestamp_x', 'Timestamp_y', 'type_x', 'anchor_type', 'anchor_state', 'type_y', 'relative_time_x', 'window_id_x', 'relative_time_y', 'window_id_y', 'lost_x', 'lost_y', 'lost', 'PLR_x', 'Y_x', 'PLR_y', 'Y_y', 'Y']]\n",
    "                    \n",
    "                    # display(ans)\n",
    "                    \n",
    "                    handle = (ans1['Y']) & (ans2['Y'])\n",
    "                    eval_value = handle.mean() * 100\n",
    "                    # print('eval:', eval_value, len(handle))\n",
    "                    \n",
    "                    handle = (df1['lost']) & (df2['lost'])\n",
    "                    ground_value = handle.mean() * 100\n",
    "                    # print('ground:', ground_value, len(handle))\n",
    "                    \n",
    "                    if answer is None:\n",
    "                        answer = ans.copy()\n",
    "                        answer = answer.rename(columns={'PLR_x': f'PLR_x_0', 'Y_x': f'Y_x_0', 'PLR_y': f'PLR_y_0', 'Y_y': f'Y_y_0', 'Y': f'Y_0'})\n",
    "                    else:\n",
    "                        answer = pd.concat([answer, ans[['PLR_x', 'Y_x', 'PLR_y', 'Y_y', 'Y']]], axis=1)\n",
    "                        answer = answer.rename(columns={'PLR_x': f'PLR_x_{iter_round}', 'Y_x': f'Y_x_{iter_round}', 'PLR_y': f'PLR_y_{iter_round}', 'Y_y': f'Y_y_{iter_round}', 'Y': f'Y_{iter_round}'})\n",
    "                    \n",
    "                    loss_rate_list.append(eval_value)\n",
    "                \n",
    "                # display(answer)\n",
    "        \n",
    "                mean_value = np.mean(loss_rate_list)\n",
    "                std_deviation = np.std(loss_rate_list)\n",
    "\n",
    "                # print()\n",
    "                # print(\"Mean:\", mean_value)\n",
    "                # print(\"Standard Deviation:\", std_deviation)\n",
    "                # print(\"Ground Truth:\", ground_value)\n",
    "                \n",
    "                self.LOSS_GT.append(ground_value)\n",
    "                self.LOSS_EV.append(mean_value)\n",
    "                self.LOSS_STD.append(std_deviation)\n",
    "                \n",
    "                path1 = filepath[0][1]\n",
    "                path2 = filepath[1][1]\n",
    "                \n",
    "                error = mean_value - ground_value\n",
    "                self.records.append((mean_value, std_deviation, ground_value, error, path1, path2))\n",
    "\n",
    "                def find_sm_label(path):\n",
    "                    # 找到 \"sm\" 的位置\n",
    "                    sm_index = path.index(\"sm\")\n",
    "                    # 从 \"sm\" 的位置开始找到下一个斜杠 \"/\"\n",
    "                    next_slash_index = path.index(\"/\", sm_index)\n",
    "                    # 截取 \"sm00\" 标签\n",
    "                    # sm_label = path[sm_index:next_slash_index]\n",
    "                    sm_label = path[sm_index+2:next_slash_index]\n",
    "                    # print(\"截取的标签为:\", sm_label)\n",
    "                    return sm_label\n",
    "                \n",
    "                self.DEVICES.append(find_sm_label(path1)+'+'+find_sm_label(path2))\n",
    "                \n",
    "                def find_tr_label(path):\n",
    "                    # 找到 \"sm\" 的位置\n",
    "                    sm_index = path.index(\"#\")\n",
    "                    # 从 \"sm\" 的位置开始找到下一个斜杠 \"/\"\n",
    "                    next_slash_index = path.index(\"/\", sm_index)\n",
    "                    # 截取 \"sm00\" 标签\n",
    "                    # sm_label = path[sm_index:next_slash_index]\n",
    "                    sm_label = path[sm_index+1:next_slash_index]\n",
    "                    # print(\"截取的标签为:\", sm_label)\n",
    "                    return sm_label\n",
    "                \n",
    "                self.TRACES.append(find_tr_label(path1)+'+'+find_tr_label(path2))\n",
    "                \n",
    "                if self.model_suffix is None:\n",
    "                    # save_path = os.path.join(self.save_path, self.sr_model_id, self.dr_model_id, 'results', self.figure_id)\n",
    "                    save_path = os.path.join(PATH_TO_RESULTS, self.sr_model_id, 'dr_results', self.dr_model_id, self.figure_id)\n",
    "                else:\n",
    "                    # save_path = os.path.join(self.save_path, self.sr_model_id, self.dr_model_id, 'results', f'{self.figure_id}_{self.model_suffix}')\n",
    "                    save_path = os.path.join(PATH_TO_RESULTS, self.sr_model_id, 'dr_results', self.dr_model_id, f'{self.figure_id}_{self.model_suffix}')\n",
    "                    \n",
    "                if not os.path.isdir(save_path):\n",
    "                    os.makedirs(save_path)\n",
    "                \n",
    "                save_path = os.path.join(save_path, path1.replace('/', '\\\\')[:-4]+path2.replace('/', '\\\\'))\n",
    "                print(save_path)\n",
    "                answer.to_csv(save_path, index=False)\n",
    "    \n",
    "    \n",
    "    def plot(self, save_name='plot_example', save_path='.'):\n",
    "        # Sample data\n",
    "        x = self.LOSS_GT.copy()\n",
    "        y = self.LOSS_EV.copy()\n",
    "\n",
    "        # Standard deviations for error bars\n",
    "        y_error = self.LOSS_STD.copy()\n",
    "\n",
    "        # Create figure and axes\n",
    "        fig, ax = plt.subplots(figsize=(6, 4))\n",
    "\n",
    "        # Scatter plot with error bars and horizontal caps\n",
    "        ax.errorbar(x, y, yerr=y_error, linestyle='None', marker='o', color='tab:blue', capsize=5)\n",
    "        ax.scatter([], [], linestyle='None', marker='o', color='tab:blue', label='Data Points')\n",
    "\n",
    "        # Regression line\n",
    "        # coefficients = np.polyfit(x, y, 1)\n",
    "        # regression_line = np.poly1d(coefficients)\n",
    "        # ax.plot(ax.get_xlim(), regression_line(ax.get_xlim()), linestyle='--', linewidth=1.1, color='tab:blue', label='Regression Line')\n",
    "\n",
    "        # Annotate the slope of the regression line\n",
    "        # slope_annotation = f'Slope: {coefficients[0]:.2f}'\n",
    "        # ax.annotate(slope_annotation, xy=(0.5, 0.85), xycoords='axes fraction', fontsize=10, fontstyle='italic', fontweight='bold', color='tab:blue')\n",
    "\n",
    "        # Annotate MSE From the regression line\n",
    "        # y_pred = regression_line(x)\n",
    "        # mse = mean_squared_error(y, y_pred)\n",
    "        mse = np.sqrt(mean_squared_error(x, y))\n",
    "        mse_rate = mse / np.mean(x) * 100\n",
    "        slope_annotation = f'RMSE: {mse:.3f} ({mse_rate:.1f} %)'\n",
    "        ax.annotate(slope_annotation, xy=(0.5, 0.85), xycoords='axes fraction', fontsize=10, fontstyle='italic', fontweight='bold', color='tab:blue')\n",
    "\n",
    "        # 45-Degree Line\n",
    "        ax.plot(ax.get_xlim(), ax.get_xlim(), linestyle='-', linewidth=1.1, color='tab:pink', label='45-Degree Line', alpha=0.9)\n",
    "        # ax.plot(ax.get_xlim(), 1.1 * ax.get_xlim(), linestyle='-', linewidth=1.1, color='tab:pink', label='45-Degree Line', alpha=0.9)\n",
    "        # ax.plot(ax.get_xlim(), 0.9 * ax.get_xlim(), linestyle='-', linewidth=1.1, color='tab:pink', label='45-Degree Line', alpha=0.9)\n",
    "        \n",
    "        # 获取 x 的边界\n",
    "        x_limits = ax.get_xlim()\n",
    "\n",
    "        # 创建 x 值范围\n",
    "        x_values = np.linspace(x_limits[0], x_limits[1], 100)  # 使用 x 的边界值作为范围\n",
    "\n",
    "        # 计算 y = 1.1x 和 y = 0.9x 的值\n",
    "        y_upper = 1.1 * x_values\n",
    "        y_lower = 0.9 * x_values\n",
    "\n",
    "        # 绘制 y = 1.1x 和 y = 0.9x 线\n",
    "        ax.plot(x_values, y_upper, linestyle='-', linewidth=1.1, color='tab:orange')\n",
    "        ax.plot(x_values, y_lower, linestyle='-', linewidth=1.1, color='tab:orange')\n",
    "\n",
    "        # 在两条线之间填充颜色\n",
    "        ax.fill_between(x_values, y_lower, y_upper, color='tab:orange', alpha=0.3)\n",
    "\n",
    "        # Set labels and title\n",
    "        ax.set_xlabel('PLR Ground Truth')\n",
    "        ax.set_ylabel('PLR Evaluated')\n",
    "        # ax.set_title('A Profile Evaluate 9 Traces From A5 Data: Single')\n",
    "\n",
    "        for i, sm_label in enumerate(self.DEVICES):\n",
    "            ax.annotate(sm_label, xy=(x[i], y[i]))\n",
    "            \n",
    "        # Add a legend\n",
    "        ax.legend()\n",
    "        \n",
    "        save_path = os.path.join(save_path, self.sr_model_id, self.dr_model_id, 'figures')\n",
    "        if not os.path.isdir(save_path):\n",
    "            os.makedirs(save_path)\n",
    "        \n",
    "        if self.model_suffix is not None:\n",
    "            save_name = f'{save_name}_{self.model_suffix}'\n",
    "        save_path = os.path.join(save_path, figure_add_prefix_suffix(save_name, image_id=self.figure_id))\n",
    "        print(save_path)\n",
    "        fig.savefig(save_path, dpi=300)\n",
    "\n",
    "        # Show the plot\n",
    "        plt.show()"
   ]
  },
  {
   "cell_type": "markdown",
   "metadata": {},
   "source": [
    "# Enter Model IDs"
   ]
  },
  {
   "cell_type": "code",
   "execution_count": 4,
   "metadata": {},
   "outputs": [
    {
     "name": "stdout",
     "output_type": "stream",
     "text": [
      "SR Model ID: 20240329_160006be6c_new_dataset_sync\n",
      "DR Model ID: dr_20240329_1700005690\n",
      "Suffix: 25%_corr\n"
     ]
    }
   ],
   "source": [
    "sr_model_id = '20240329_160006be6c_new_dataset_sync'\n",
    "dr_model_id = 'dr_20240329_1700005690'\n",
    "print('SR Model ID:', sr_model_id)\n",
    "print('DR Model ID:', dr_model_id)\n",
    "\n",
    "mode = ['zero', 'max', '25%', '50%', '75%']\n",
    "mode = '25%'\n",
    "suffix = f'{mode}_corr'\n",
    "print('Suffix:', suffix)"
   ]
  },
  {
   "cell_type": "markdown",
   "metadata": {},
   "source": [
    "# BR: DR Eval"
   ]
  },
  {
   "cell_type": "code",
   "execution_count": 5,
   "metadata": {},
   "outputs": [],
   "source": [
    "adjust_table, model_adjust = alter_corr_coef(sr_model_id, dr_model_id, route='BR', mode=mode, rho_force=None)\n",
    "# display(adjust_table)\n",
    "# pprint(model_adjust)"
   ]
  },
  {
   "cell_type": "code",
   "execution_count": 6,
   "metadata": {},
   "outputs": [],
   "source": [
    "# Dual Radio Example\n",
    "# dates = data_loader(query_dates=True, show_info=True)\n",
    "\n",
    "# selected_dates = [s for s in dates if s >= '2023-09-12']\n",
    "selected_dates = ['2024-03-19']\n",
    "# excluded_dates = []\n",
    "# selected_exps = []\n",
    "# excluded_exps = ['Modem_Action_Test', 'Control_Group', 'Control_Group2', 'Control_Group3']\n",
    "selected_routes = ['BR']\n",
    "# excluded_routes = []\n",
    "filepaths = data_loader(mode='dr', selected_dates=selected_dates, selected_routes=selected_routes)\n",
    "\n",
    "# print(len(filepaths[:36]))\n",
    "# pprint(filepaths[:36])"
   ]
  },
  {
   "cell_type": "code",
   "execution_count": 7,
   "metadata": {},
   "outputs": [
    {
     "name": "stdout",
     "output_type": "stream",
     "text": [
      "./20240329_160006be6c_new_dataset_sync/models/BR\n",
      "./20240329_160006be6c_new_dataset_sync/dr_20240329_1700005690/models/BR\n",
      "./20240329_160006be6c_new_dataset_sync/dr_20240329_1700005690/models/BR_dr_prob_models_adjust.pkl\n",
      "0/72 /home/wmnlab/F/database/2024-03-19/UDP_Bandlock_9S_Phone_BR/sm00/#01/data/handover_info_log.csv\n",
      "0/72 /home/wmnlab/F/database/2024-03-19/UDP_Bandlock_9S_Phone_BR/sm00/#01/data/udp_dnlk_loss_latency.csv\n",
      "0/72 /home/wmnlab/F/database/2024-03-19/UDP_Bandlock_9S_Phone_BR/sm00/#01/data/udp_uplk_loss_latency.csv\n",
      "0/72 /home/wmnlab/F/database/2024-03-19/UDP_Bandlock_9S_Phone_BR/sm01/#01/data/handover_info_log.csv\n",
      "0/72 /home/wmnlab/F/database/2024-03-19/UDP_Bandlock_9S_Phone_BR/sm01/#01/data/udp_dnlk_loss_latency.csv\n",
      "0/72 /home/wmnlab/F/database/2024-03-19/UDP_Bandlock_9S_Phone_BR/sm01/#01/data/udp_uplk_loss_latency.csv\n"
     ]
    },
    {
     "data": {
      "application/vnd.jupyter.widget-view+json": {
       "model_id": "67046ff6c91b4b7ea96339c43ca8eb48",
       "version_major": 2,
       "version_minor": 0
      },
      "text/plain": [
       "  0%|                                                                                                         …"
      ]
     },
     "metadata": {},
     "output_type": "display_data"
    },
    {
     "name": "stdout",
     "output_type": "stream",
     "text": [
      "/home/wmnlab/F/results/20240329_160006be6c_new_dataset_sync/dr_results/dr_20240329_1700005690/20240329_20214200000_b533c4363fdced4b_adjust/\\home\\wmnlab\\F\\database\\2024-03-19\\UDP_Bandlock_9S_Phone_BR\\sm00\\#01\\data\\udp_dnlk_loss_latency\\home\\wmnlab\\F\\database\\2024-03-19\\UDP_Bandlock_9S_Phone_BR\\sm01\\#01\\data\\udp_dnlk_loss_latency.csv\n",
      "1/72 /home/wmnlab/F/database/2024-03-19/UDP_Bandlock_9S_Phone_BR/sm00/#01/data/handover_info_log.csv\n",
      "1/72 /home/wmnlab/F/database/2024-03-19/UDP_Bandlock_9S_Phone_BR/sm00/#01/data/udp_dnlk_loss_latency.csv\n",
      "1/72 /home/wmnlab/F/database/2024-03-19/UDP_Bandlock_9S_Phone_BR/sm00/#01/data/udp_uplk_loss_latency.csv\n",
      "1/72 /home/wmnlab/F/database/2024-03-19/UDP_Bandlock_9S_Phone_BR/sm02/#01/data/handover_info_log.csv\n",
      "1/72 /home/wmnlab/F/database/2024-03-19/UDP_Bandlock_9S_Phone_BR/sm02/#01/data/udp_dnlk_loss_latency.csv\n",
      "1/72 /home/wmnlab/F/database/2024-03-19/UDP_Bandlock_9S_Phone_BR/sm02/#01/data/udp_uplk_loss_latency.csv\n"
     ]
    },
    {
     "data": {
      "application/vnd.jupyter.widget-view+json": {
       "model_id": "87bf127747b24dfd8c8445e09b3245cb",
       "version_major": 2,
       "version_minor": 0
      },
      "text/plain": [
       "  0%|                                                                                                         …"
      ]
     },
     "metadata": {},
     "output_type": "display_data"
    },
    {
     "name": "stdout",
     "output_type": "stream",
     "text": [
      "/home/wmnlab/F/results/20240329_160006be6c_new_dataset_sync/dr_results/dr_20240329_1700005690/20240329_20214200000_b533c4363fdced4b_adjust/\\home\\wmnlab\\F\\database\\2024-03-19\\UDP_Bandlock_9S_Phone_BR\\sm00\\#01\\data\\udp_dnlk_loss_latency\\home\\wmnlab\\F\\database\\2024-03-19\\UDP_Bandlock_9S_Phone_BR\\sm02\\#01\\data\\udp_dnlk_loss_latency.csv\n",
      "2/72 /home/wmnlab/F/database/2024-03-19/UDP_Bandlock_9S_Phone_BR/sm00/#01/data/handover_info_log.csv\n",
      "2/72 /home/wmnlab/F/database/2024-03-19/UDP_Bandlock_9S_Phone_BR/sm00/#01/data/udp_dnlk_loss_latency.csv\n",
      "2/72 /home/wmnlab/F/database/2024-03-19/UDP_Bandlock_9S_Phone_BR/sm00/#01/data/udp_uplk_loss_latency.csv\n",
      "2/72 /home/wmnlab/F/database/2024-03-19/UDP_Bandlock_9S_Phone_BR/sm03/#01/data/handover_info_log.csv\n",
      "2/72 /home/wmnlab/F/database/2024-03-19/UDP_Bandlock_9S_Phone_BR/sm03/#01/data/udp_dnlk_loss_latency.csv\n",
      "2/72 /home/wmnlab/F/database/2024-03-19/UDP_Bandlock_9S_Phone_BR/sm03/#01/data/udp_uplk_loss_latency.csv\n"
     ]
    },
    {
     "data": {
      "application/vnd.jupyter.widget-view+json": {
       "model_id": "fdfedfe2b33040688f83f5e19a714998",
       "version_major": 2,
       "version_minor": 0
      },
      "text/plain": [
       "  0%|                                                                                                         …"
      ]
     },
     "metadata": {},
     "output_type": "display_data"
    },
    {
     "name": "stdout",
     "output_type": "stream",
     "text": [
      "/home/wmnlab/F/results/20240329_160006be6c_new_dataset_sync/dr_results/dr_20240329_1700005690/20240329_20214200000_b533c4363fdced4b_adjust/\\home\\wmnlab\\F\\database\\2024-03-19\\UDP_Bandlock_9S_Phone_BR\\sm00\\#01\\data\\udp_dnlk_loss_latency\\home\\wmnlab\\F\\database\\2024-03-19\\UDP_Bandlock_9S_Phone_BR\\sm03\\#01\\data\\udp_dnlk_loss_latency.csv\n",
      "3/72 /home/wmnlab/F/database/2024-03-19/UDP_Bandlock_9S_Phone_BR/sm00/#01/data/handover_info_log.csv\n",
      "3/72 /home/wmnlab/F/database/2024-03-19/UDP_Bandlock_9S_Phone_BR/sm00/#01/data/udp_dnlk_loss_latency.csv\n",
      "3/72 /home/wmnlab/F/database/2024-03-19/UDP_Bandlock_9S_Phone_BR/sm00/#01/data/udp_uplk_loss_latency.csv\n",
      "3/72 /home/wmnlab/F/database/2024-03-19/UDP_Bandlock_9S_Phone_BR/sm04/#01/data/handover_info_log.csv\n",
      "3/72 /home/wmnlab/F/database/2024-03-19/UDP_Bandlock_9S_Phone_BR/sm04/#01/data/udp_dnlk_loss_latency.csv\n",
      "3/72 /home/wmnlab/F/database/2024-03-19/UDP_Bandlock_9S_Phone_BR/sm04/#01/data/udp_uplk_loss_latency.csv\n"
     ]
    },
    {
     "data": {
      "application/vnd.jupyter.widget-view+json": {
       "model_id": "0435456c0d2e43b7a8b1e600fd326506",
       "version_major": 2,
       "version_minor": 0
      },
      "text/plain": [
       "  0%|                                                                                                         …"
      ]
     },
     "metadata": {},
     "output_type": "display_data"
    },
    {
     "name": "stdout",
     "output_type": "stream",
     "text": [
      "/home/wmnlab/F/results/20240329_160006be6c_new_dataset_sync/dr_results/dr_20240329_1700005690/20240329_20214200000_b533c4363fdced4b_adjust/\\home\\wmnlab\\F\\database\\2024-03-19\\UDP_Bandlock_9S_Phone_BR\\sm00\\#01\\data\\udp_dnlk_loss_latency\\home\\wmnlab\\F\\database\\2024-03-19\\UDP_Bandlock_9S_Phone_BR\\sm04\\#01\\data\\udp_dnlk_loss_latency.csv\n",
      "4/72 /home/wmnlab/F/database/2024-03-19/UDP_Bandlock_9S_Phone_BR/sm00/#01/data/handover_info_log.csv\n",
      "4/72 /home/wmnlab/F/database/2024-03-19/UDP_Bandlock_9S_Phone_BR/sm00/#01/data/udp_dnlk_loss_latency.csv\n",
      "4/72 /home/wmnlab/F/database/2024-03-19/UDP_Bandlock_9S_Phone_BR/sm00/#01/data/udp_uplk_loss_latency.csv\n",
      "4/72 /home/wmnlab/F/database/2024-03-19/UDP_Bandlock_9S_Phone_BR/sm05/#01/data/handover_info_log.csv\n",
      "4/72 /home/wmnlab/F/database/2024-03-19/UDP_Bandlock_9S_Phone_BR/sm05/#01/data/udp_dnlk_loss_latency.csv\n",
      "4/72 /home/wmnlab/F/database/2024-03-19/UDP_Bandlock_9S_Phone_BR/sm05/#01/data/udp_uplk_loss_latency.csv\n"
     ]
    },
    {
     "data": {
      "application/vnd.jupyter.widget-view+json": {
       "model_id": "b933f050dfea44939d6027248db872d3",
       "version_major": 2,
       "version_minor": 0
      },
      "text/plain": [
       "  0%|                                                                                                         …"
      ]
     },
     "metadata": {},
     "output_type": "display_data"
    },
    {
     "name": "stdout",
     "output_type": "stream",
     "text": [
      "/home/wmnlab/F/results/20240329_160006be6c_new_dataset_sync/dr_results/dr_20240329_1700005690/20240329_20214200000_b533c4363fdced4b_adjust/\\home\\wmnlab\\F\\database\\2024-03-19\\UDP_Bandlock_9S_Phone_BR\\sm00\\#01\\data\\udp_dnlk_loss_latency\\home\\wmnlab\\F\\database\\2024-03-19\\UDP_Bandlock_9S_Phone_BR\\sm05\\#01\\data\\udp_dnlk_loss_latency.csv\n",
      "5/72 /home/wmnlab/F/database/2024-03-19/UDP_Bandlock_9S_Phone_BR/sm00/#01/data/handover_info_log.csv\n",
      "5/72 /home/wmnlab/F/database/2024-03-19/UDP_Bandlock_9S_Phone_BR/sm00/#01/data/udp_dnlk_loss_latency.csv\n",
      "5/72 /home/wmnlab/F/database/2024-03-19/UDP_Bandlock_9S_Phone_BR/sm00/#01/data/udp_uplk_loss_latency.csv\n",
      "5/72 /home/wmnlab/F/database/2024-03-19/UDP_Bandlock_9S_Phone_BR/sm06/#01/data/handover_info_log.csv\n",
      "5/72 /home/wmnlab/F/database/2024-03-19/UDP_Bandlock_9S_Phone_BR/sm06/#01/data/udp_dnlk_loss_latency.csv\n",
      "5/72 /home/wmnlab/F/database/2024-03-19/UDP_Bandlock_9S_Phone_BR/sm06/#01/data/udp_uplk_loss_latency.csv\n"
     ]
    },
    {
     "data": {
      "application/vnd.jupyter.widget-view+json": {
       "model_id": "6cd1db96d0b24b02b82456c32b5f5d57",
       "version_major": 2,
       "version_minor": 0
      },
      "text/plain": [
       "  0%|                                                                                                         …"
      ]
     },
     "metadata": {},
     "output_type": "display_data"
    },
    {
     "name": "stdout",
     "output_type": "stream",
     "text": [
      "/home/wmnlab/F/results/20240329_160006be6c_new_dataset_sync/dr_results/dr_20240329_1700005690/20240329_20214200000_b533c4363fdced4b_adjust/\\home\\wmnlab\\F\\database\\2024-03-19\\UDP_Bandlock_9S_Phone_BR\\sm00\\#01\\data\\udp_dnlk_loss_latency\\home\\wmnlab\\F\\database\\2024-03-19\\UDP_Bandlock_9S_Phone_BR\\sm06\\#01\\data\\udp_dnlk_loss_latency.csv\n",
      "6/72 /home/wmnlab/F/database/2024-03-19/UDP_Bandlock_9S_Phone_BR/sm00/#01/data/handover_info_log.csv\n",
      "6/72 /home/wmnlab/F/database/2024-03-19/UDP_Bandlock_9S_Phone_BR/sm00/#01/data/udp_dnlk_loss_latency.csv\n",
      "6/72 /home/wmnlab/F/database/2024-03-19/UDP_Bandlock_9S_Phone_BR/sm00/#01/data/udp_uplk_loss_latency.csv\n",
      "6/72 /home/wmnlab/F/database/2024-03-19/UDP_Bandlock_9S_Phone_BR/sm07/#01/data/handover_info_log.csv\n",
      "6/72 /home/wmnlab/F/database/2024-03-19/UDP_Bandlock_9S_Phone_BR/sm07/#01/data/udp_dnlk_loss_latency.csv\n",
      "6/72 /home/wmnlab/F/database/2024-03-19/UDP_Bandlock_9S_Phone_BR/sm07/#01/data/udp_uplk_loss_latency.csv\n"
     ]
    },
    {
     "data": {
      "application/vnd.jupyter.widget-view+json": {
       "model_id": "8e89deb255b64eb4ba482ff494562207",
       "version_major": 2,
       "version_minor": 0
      },
      "text/plain": [
       "  0%|                                                                                                         …"
      ]
     },
     "metadata": {},
     "output_type": "display_data"
    },
    {
     "name": "stdout",
     "output_type": "stream",
     "text": [
      "/home/wmnlab/F/results/20240329_160006be6c_new_dataset_sync/dr_results/dr_20240329_1700005690/20240329_20214200000_b533c4363fdced4b_adjust/\\home\\wmnlab\\F\\database\\2024-03-19\\UDP_Bandlock_9S_Phone_BR\\sm00\\#01\\data\\udp_dnlk_loss_latency\\home\\wmnlab\\F\\database\\2024-03-19\\UDP_Bandlock_9S_Phone_BR\\sm07\\#01\\data\\udp_dnlk_loss_latency.csv\n",
      "7/72 /home/wmnlab/F/database/2024-03-19/UDP_Bandlock_9S_Phone_BR/sm00/#01/data/handover_info_log.csv\n",
      "7/72 /home/wmnlab/F/database/2024-03-19/UDP_Bandlock_9S_Phone_BR/sm00/#01/data/udp_dnlk_loss_latency.csv\n",
      "7/72 /home/wmnlab/F/database/2024-03-19/UDP_Bandlock_9S_Phone_BR/sm00/#01/data/udp_uplk_loss_latency.csv\n",
      "7/72 /home/wmnlab/F/database/2024-03-19/UDP_Bandlock_9S_Phone_BR/sm08/#01/data/handover_info_log.csv\n",
      "7/72 /home/wmnlab/F/database/2024-03-19/UDP_Bandlock_9S_Phone_BR/sm08/#01/data/udp_dnlk_loss_latency.csv\n",
      "7/72 /home/wmnlab/F/database/2024-03-19/UDP_Bandlock_9S_Phone_BR/sm08/#01/data/udp_uplk_loss_latency.csv\n"
     ]
    },
    {
     "data": {
      "application/vnd.jupyter.widget-view+json": {
       "model_id": "c296e35013cc40fa8111afaeedb09224",
       "version_major": 2,
       "version_minor": 0
      },
      "text/plain": [
       "  0%|                                                                                                         …"
      ]
     },
     "metadata": {},
     "output_type": "display_data"
    },
    {
     "name": "stdout",
     "output_type": "stream",
     "text": [
      "/home/wmnlab/F/results/20240329_160006be6c_new_dataset_sync/dr_results/dr_20240329_1700005690/20240329_20214200000_b533c4363fdced4b_adjust/\\home\\wmnlab\\F\\database\\2024-03-19\\UDP_Bandlock_9S_Phone_BR\\sm00\\#01\\data\\udp_dnlk_loss_latency\\home\\wmnlab\\F\\database\\2024-03-19\\UDP_Bandlock_9S_Phone_BR\\sm08\\#01\\data\\udp_dnlk_loss_latency.csv\n",
      "8/72 /home/wmnlab/F/database/2024-03-19/UDP_Bandlock_9S_Phone_BR/sm01/#01/data/handover_info_log.csv\n",
      "8/72 /home/wmnlab/F/database/2024-03-19/UDP_Bandlock_9S_Phone_BR/sm01/#01/data/udp_dnlk_loss_latency.csv\n",
      "8/72 /home/wmnlab/F/database/2024-03-19/UDP_Bandlock_9S_Phone_BR/sm01/#01/data/udp_uplk_loss_latency.csv\n",
      "8/72 /home/wmnlab/F/database/2024-03-19/UDP_Bandlock_9S_Phone_BR/sm02/#01/data/handover_info_log.csv\n",
      "8/72 /home/wmnlab/F/database/2024-03-19/UDP_Bandlock_9S_Phone_BR/sm02/#01/data/udp_dnlk_loss_latency.csv\n",
      "8/72 /home/wmnlab/F/database/2024-03-19/UDP_Bandlock_9S_Phone_BR/sm02/#01/data/udp_uplk_loss_latency.csv\n"
     ]
    },
    {
     "data": {
      "application/vnd.jupyter.widget-view+json": {
       "model_id": "3b60c8446e004081b9184fa773dd3178",
       "version_major": 2,
       "version_minor": 0
      },
      "text/plain": [
       "  0%|                                                                                                         …"
      ]
     },
     "metadata": {},
     "output_type": "display_data"
    },
    {
     "name": "stdout",
     "output_type": "stream",
     "text": [
      "/home/wmnlab/F/results/20240329_160006be6c_new_dataset_sync/dr_results/dr_20240329_1700005690/20240329_20214200000_b533c4363fdced4b_adjust/\\home\\wmnlab\\F\\database\\2024-03-19\\UDP_Bandlock_9S_Phone_BR\\sm01\\#01\\data\\udp_dnlk_loss_latency\\home\\wmnlab\\F\\database\\2024-03-19\\UDP_Bandlock_9S_Phone_BR\\sm02\\#01\\data\\udp_dnlk_loss_latency.csv\n",
      "9/72 /home/wmnlab/F/database/2024-03-19/UDP_Bandlock_9S_Phone_BR/sm01/#01/data/handover_info_log.csv\n",
      "9/72 /home/wmnlab/F/database/2024-03-19/UDP_Bandlock_9S_Phone_BR/sm01/#01/data/udp_dnlk_loss_latency.csv\n",
      "9/72 /home/wmnlab/F/database/2024-03-19/UDP_Bandlock_9S_Phone_BR/sm01/#01/data/udp_uplk_loss_latency.csv\n",
      "9/72 /home/wmnlab/F/database/2024-03-19/UDP_Bandlock_9S_Phone_BR/sm03/#01/data/handover_info_log.csv\n",
      "9/72 /home/wmnlab/F/database/2024-03-19/UDP_Bandlock_9S_Phone_BR/sm03/#01/data/udp_dnlk_loss_latency.csv\n",
      "9/72 /home/wmnlab/F/database/2024-03-19/UDP_Bandlock_9S_Phone_BR/sm03/#01/data/udp_uplk_loss_latency.csv\n"
     ]
    },
    {
     "data": {
      "application/vnd.jupyter.widget-view+json": {
       "model_id": "f7a617ebff1e455fb6e9488cbbab5455",
       "version_major": 2,
       "version_minor": 0
      },
      "text/plain": [
       "  0%|                                                                                                         …"
      ]
     },
     "metadata": {},
     "output_type": "display_data"
    },
    {
     "name": "stdout",
     "output_type": "stream",
     "text": [
      "/home/wmnlab/F/results/20240329_160006be6c_new_dataset_sync/dr_results/dr_20240329_1700005690/20240329_20214200000_b533c4363fdced4b_adjust/\\home\\wmnlab\\F\\database\\2024-03-19\\UDP_Bandlock_9S_Phone_BR\\sm01\\#01\\data\\udp_dnlk_loss_latency\\home\\wmnlab\\F\\database\\2024-03-19\\UDP_Bandlock_9S_Phone_BR\\sm03\\#01\\data\\udp_dnlk_loss_latency.csv\n",
      "10/72 /home/wmnlab/F/database/2024-03-19/UDP_Bandlock_9S_Phone_BR/sm01/#01/data/handover_info_log.csv\n",
      "10/72 /home/wmnlab/F/database/2024-03-19/UDP_Bandlock_9S_Phone_BR/sm01/#01/data/udp_dnlk_loss_latency.csv\n",
      "10/72 /home/wmnlab/F/database/2024-03-19/UDP_Bandlock_9S_Phone_BR/sm01/#01/data/udp_uplk_loss_latency.csv\n",
      "10/72 /home/wmnlab/F/database/2024-03-19/UDP_Bandlock_9S_Phone_BR/sm04/#01/data/handover_info_log.csv\n",
      "10/72 /home/wmnlab/F/database/2024-03-19/UDP_Bandlock_9S_Phone_BR/sm04/#01/data/udp_dnlk_loss_latency.csv\n",
      "10/72 /home/wmnlab/F/database/2024-03-19/UDP_Bandlock_9S_Phone_BR/sm04/#01/data/udp_uplk_loss_latency.csv\n"
     ]
    },
    {
     "data": {
      "application/vnd.jupyter.widget-view+json": {
       "model_id": "2e1becf8c5504341af455b936edfec52",
       "version_major": 2,
       "version_minor": 0
      },
      "text/plain": [
       "  0%|                                                                                                         …"
      ]
     },
     "metadata": {},
     "output_type": "display_data"
    },
    {
     "name": "stdout",
     "output_type": "stream",
     "text": [
      "/home/wmnlab/F/results/20240329_160006be6c_new_dataset_sync/dr_results/dr_20240329_1700005690/20240329_20214200000_b533c4363fdced4b_adjust/\\home\\wmnlab\\F\\database\\2024-03-19\\UDP_Bandlock_9S_Phone_BR\\sm01\\#01\\data\\udp_dnlk_loss_latency\\home\\wmnlab\\F\\database\\2024-03-19\\UDP_Bandlock_9S_Phone_BR\\sm04\\#01\\data\\udp_dnlk_loss_latency.csv\n",
      "11/72 /home/wmnlab/F/database/2024-03-19/UDP_Bandlock_9S_Phone_BR/sm01/#01/data/handover_info_log.csv\n",
      "11/72 /home/wmnlab/F/database/2024-03-19/UDP_Bandlock_9S_Phone_BR/sm01/#01/data/udp_dnlk_loss_latency.csv\n",
      "11/72 /home/wmnlab/F/database/2024-03-19/UDP_Bandlock_9S_Phone_BR/sm01/#01/data/udp_uplk_loss_latency.csv\n",
      "11/72 /home/wmnlab/F/database/2024-03-19/UDP_Bandlock_9S_Phone_BR/sm05/#01/data/handover_info_log.csv\n",
      "11/72 /home/wmnlab/F/database/2024-03-19/UDP_Bandlock_9S_Phone_BR/sm05/#01/data/udp_dnlk_loss_latency.csv\n",
      "11/72 /home/wmnlab/F/database/2024-03-19/UDP_Bandlock_9S_Phone_BR/sm05/#01/data/udp_uplk_loss_latency.csv\n"
     ]
    },
    {
     "data": {
      "application/vnd.jupyter.widget-view+json": {
       "model_id": "8d9ea65040ef4a6f9e71d746b24469aa",
       "version_major": 2,
       "version_minor": 0
      },
      "text/plain": [
       "  0%|                                                                                                         …"
      ]
     },
     "metadata": {},
     "output_type": "display_data"
    },
    {
     "name": "stdout",
     "output_type": "stream",
     "text": [
      "/home/wmnlab/F/results/20240329_160006be6c_new_dataset_sync/dr_results/dr_20240329_1700005690/20240329_20214200000_b533c4363fdced4b_adjust/\\home\\wmnlab\\F\\database\\2024-03-19\\UDP_Bandlock_9S_Phone_BR\\sm01\\#01\\data\\udp_dnlk_loss_latency\\home\\wmnlab\\F\\database\\2024-03-19\\UDP_Bandlock_9S_Phone_BR\\sm05\\#01\\data\\udp_dnlk_loss_latency.csv\n",
      "12/72 /home/wmnlab/F/database/2024-03-19/UDP_Bandlock_9S_Phone_BR/sm01/#01/data/handover_info_log.csv\n",
      "12/72 /home/wmnlab/F/database/2024-03-19/UDP_Bandlock_9S_Phone_BR/sm01/#01/data/udp_dnlk_loss_latency.csv\n",
      "12/72 /home/wmnlab/F/database/2024-03-19/UDP_Bandlock_9S_Phone_BR/sm01/#01/data/udp_uplk_loss_latency.csv\n",
      "12/72 /home/wmnlab/F/database/2024-03-19/UDP_Bandlock_9S_Phone_BR/sm06/#01/data/handover_info_log.csv\n",
      "12/72 /home/wmnlab/F/database/2024-03-19/UDP_Bandlock_9S_Phone_BR/sm06/#01/data/udp_dnlk_loss_latency.csv\n",
      "12/72 /home/wmnlab/F/database/2024-03-19/UDP_Bandlock_9S_Phone_BR/sm06/#01/data/udp_uplk_loss_latency.csv\n"
     ]
    },
    {
     "data": {
      "application/vnd.jupyter.widget-view+json": {
       "model_id": "06efb4e7380149cc8e2f4945a068371c",
       "version_major": 2,
       "version_minor": 0
      },
      "text/plain": [
       "  0%|                                                                                                         …"
      ]
     },
     "metadata": {},
     "output_type": "display_data"
    },
    {
     "name": "stdout",
     "output_type": "stream",
     "text": [
      "/home/wmnlab/F/results/20240329_160006be6c_new_dataset_sync/dr_results/dr_20240329_1700005690/20240329_20214200000_b533c4363fdced4b_adjust/\\home\\wmnlab\\F\\database\\2024-03-19\\UDP_Bandlock_9S_Phone_BR\\sm01\\#01\\data\\udp_dnlk_loss_latency\\home\\wmnlab\\F\\database\\2024-03-19\\UDP_Bandlock_9S_Phone_BR\\sm06\\#01\\data\\udp_dnlk_loss_latency.csv\n",
      "13/72 /home/wmnlab/F/database/2024-03-19/UDP_Bandlock_9S_Phone_BR/sm01/#01/data/handover_info_log.csv\n",
      "13/72 /home/wmnlab/F/database/2024-03-19/UDP_Bandlock_9S_Phone_BR/sm01/#01/data/udp_dnlk_loss_latency.csv\n",
      "13/72 /home/wmnlab/F/database/2024-03-19/UDP_Bandlock_9S_Phone_BR/sm01/#01/data/udp_uplk_loss_latency.csv\n",
      "13/72 /home/wmnlab/F/database/2024-03-19/UDP_Bandlock_9S_Phone_BR/sm07/#01/data/handover_info_log.csv\n",
      "13/72 /home/wmnlab/F/database/2024-03-19/UDP_Bandlock_9S_Phone_BR/sm07/#01/data/udp_dnlk_loss_latency.csv\n",
      "13/72 /home/wmnlab/F/database/2024-03-19/UDP_Bandlock_9S_Phone_BR/sm07/#01/data/udp_uplk_loss_latency.csv\n"
     ]
    },
    {
     "data": {
      "application/vnd.jupyter.widget-view+json": {
       "model_id": "85d2b3c4bd554b0ab07501d94d18f93d",
       "version_major": 2,
       "version_minor": 0
      },
      "text/plain": [
       "  0%|                                                                                                         …"
      ]
     },
     "metadata": {},
     "output_type": "display_data"
    },
    {
     "name": "stdout",
     "output_type": "stream",
     "text": [
      "/home/wmnlab/F/results/20240329_160006be6c_new_dataset_sync/dr_results/dr_20240329_1700005690/20240329_20214200000_b533c4363fdced4b_adjust/\\home\\wmnlab\\F\\database\\2024-03-19\\UDP_Bandlock_9S_Phone_BR\\sm01\\#01\\data\\udp_dnlk_loss_latency\\home\\wmnlab\\F\\database\\2024-03-19\\UDP_Bandlock_9S_Phone_BR\\sm07\\#01\\data\\udp_dnlk_loss_latency.csv\n",
      "14/72 /home/wmnlab/F/database/2024-03-19/UDP_Bandlock_9S_Phone_BR/sm01/#01/data/handover_info_log.csv\n",
      "14/72 /home/wmnlab/F/database/2024-03-19/UDP_Bandlock_9S_Phone_BR/sm01/#01/data/udp_dnlk_loss_latency.csv\n",
      "14/72 /home/wmnlab/F/database/2024-03-19/UDP_Bandlock_9S_Phone_BR/sm01/#01/data/udp_uplk_loss_latency.csv\n",
      "14/72 /home/wmnlab/F/database/2024-03-19/UDP_Bandlock_9S_Phone_BR/sm08/#01/data/handover_info_log.csv\n",
      "14/72 /home/wmnlab/F/database/2024-03-19/UDP_Bandlock_9S_Phone_BR/sm08/#01/data/udp_dnlk_loss_latency.csv\n",
      "14/72 /home/wmnlab/F/database/2024-03-19/UDP_Bandlock_9S_Phone_BR/sm08/#01/data/udp_uplk_loss_latency.csv\n"
     ]
    },
    {
     "data": {
      "application/vnd.jupyter.widget-view+json": {
       "model_id": "75bf60c9358f4ef2aedb15b1ae0eb1ae",
       "version_major": 2,
       "version_minor": 0
      },
      "text/plain": [
       "  0%|                                                                                                         …"
      ]
     },
     "metadata": {},
     "output_type": "display_data"
    },
    {
     "name": "stdout",
     "output_type": "stream",
     "text": [
      "/home/wmnlab/F/results/20240329_160006be6c_new_dataset_sync/dr_results/dr_20240329_1700005690/20240329_20214200000_b533c4363fdced4b_adjust/\\home\\wmnlab\\F\\database\\2024-03-19\\UDP_Bandlock_9S_Phone_BR\\sm01\\#01\\data\\udp_dnlk_loss_latency\\home\\wmnlab\\F\\database\\2024-03-19\\UDP_Bandlock_9S_Phone_BR\\sm08\\#01\\data\\udp_dnlk_loss_latency.csv\n",
      "15/72 /home/wmnlab/F/database/2024-03-19/UDP_Bandlock_9S_Phone_BR/sm02/#01/data/handover_info_log.csv\n",
      "15/72 /home/wmnlab/F/database/2024-03-19/UDP_Bandlock_9S_Phone_BR/sm02/#01/data/udp_dnlk_loss_latency.csv\n",
      "15/72 /home/wmnlab/F/database/2024-03-19/UDP_Bandlock_9S_Phone_BR/sm02/#01/data/udp_uplk_loss_latency.csv\n",
      "15/72 /home/wmnlab/F/database/2024-03-19/UDP_Bandlock_9S_Phone_BR/sm03/#01/data/handover_info_log.csv\n",
      "15/72 /home/wmnlab/F/database/2024-03-19/UDP_Bandlock_9S_Phone_BR/sm03/#01/data/udp_dnlk_loss_latency.csv\n",
      "15/72 /home/wmnlab/F/database/2024-03-19/UDP_Bandlock_9S_Phone_BR/sm03/#01/data/udp_uplk_loss_latency.csv\n"
     ]
    },
    {
     "data": {
      "application/vnd.jupyter.widget-view+json": {
       "model_id": "7c754d8958af4febb15f1f45f2454310",
       "version_major": 2,
       "version_minor": 0
      },
      "text/plain": [
       "  0%|                                                                                                         …"
      ]
     },
     "metadata": {},
     "output_type": "display_data"
    },
    {
     "name": "stdout",
     "output_type": "stream",
     "text": [
      "/home/wmnlab/F/results/20240329_160006be6c_new_dataset_sync/dr_results/dr_20240329_1700005690/20240329_20214200000_b533c4363fdced4b_adjust/\\home\\wmnlab\\F\\database\\2024-03-19\\UDP_Bandlock_9S_Phone_BR\\sm02\\#01\\data\\udp_dnlk_loss_latency\\home\\wmnlab\\F\\database\\2024-03-19\\UDP_Bandlock_9S_Phone_BR\\sm03\\#01\\data\\udp_dnlk_loss_latency.csv\n",
      "16/72 /home/wmnlab/F/database/2024-03-19/UDP_Bandlock_9S_Phone_BR/sm02/#01/data/handover_info_log.csv\n",
      "16/72 /home/wmnlab/F/database/2024-03-19/UDP_Bandlock_9S_Phone_BR/sm02/#01/data/udp_dnlk_loss_latency.csv\n",
      "16/72 /home/wmnlab/F/database/2024-03-19/UDP_Bandlock_9S_Phone_BR/sm02/#01/data/udp_uplk_loss_latency.csv\n",
      "16/72 /home/wmnlab/F/database/2024-03-19/UDP_Bandlock_9S_Phone_BR/sm04/#01/data/handover_info_log.csv\n",
      "16/72 /home/wmnlab/F/database/2024-03-19/UDP_Bandlock_9S_Phone_BR/sm04/#01/data/udp_dnlk_loss_latency.csv\n",
      "16/72 /home/wmnlab/F/database/2024-03-19/UDP_Bandlock_9S_Phone_BR/sm04/#01/data/udp_uplk_loss_latency.csv\n"
     ]
    },
    {
     "data": {
      "application/vnd.jupyter.widget-view+json": {
       "model_id": "8d64f1bf08ad46f6875ed03a5b53c735",
       "version_major": 2,
       "version_minor": 0
      },
      "text/plain": [
       "  0%|                                                                                                         …"
      ]
     },
     "metadata": {},
     "output_type": "display_data"
    },
    {
     "name": "stdout",
     "output_type": "stream",
     "text": [
      "/home/wmnlab/F/results/20240329_160006be6c_new_dataset_sync/dr_results/dr_20240329_1700005690/20240329_20214200000_b533c4363fdced4b_adjust/\\home\\wmnlab\\F\\database\\2024-03-19\\UDP_Bandlock_9S_Phone_BR\\sm02\\#01\\data\\udp_dnlk_loss_latency\\home\\wmnlab\\F\\database\\2024-03-19\\UDP_Bandlock_9S_Phone_BR\\sm04\\#01\\data\\udp_dnlk_loss_latency.csv\n",
      "17/72 /home/wmnlab/F/database/2024-03-19/UDP_Bandlock_9S_Phone_BR/sm02/#01/data/handover_info_log.csv\n",
      "17/72 /home/wmnlab/F/database/2024-03-19/UDP_Bandlock_9S_Phone_BR/sm02/#01/data/udp_dnlk_loss_latency.csv\n",
      "17/72 /home/wmnlab/F/database/2024-03-19/UDP_Bandlock_9S_Phone_BR/sm02/#01/data/udp_uplk_loss_latency.csv\n",
      "17/72 /home/wmnlab/F/database/2024-03-19/UDP_Bandlock_9S_Phone_BR/sm05/#01/data/handover_info_log.csv\n",
      "17/72 /home/wmnlab/F/database/2024-03-19/UDP_Bandlock_9S_Phone_BR/sm05/#01/data/udp_dnlk_loss_latency.csv\n",
      "17/72 /home/wmnlab/F/database/2024-03-19/UDP_Bandlock_9S_Phone_BR/sm05/#01/data/udp_uplk_loss_latency.csv\n"
     ]
    },
    {
     "data": {
      "application/vnd.jupyter.widget-view+json": {
       "model_id": "90108053f830410b865e9786b6d1790f",
       "version_major": 2,
       "version_minor": 0
      },
      "text/plain": [
       "  0%|                                                                                                         …"
      ]
     },
     "metadata": {},
     "output_type": "display_data"
    },
    {
     "name": "stdout",
     "output_type": "stream",
     "text": [
      "/home/wmnlab/F/results/20240329_160006be6c_new_dataset_sync/dr_results/dr_20240329_1700005690/20240329_20214200000_b533c4363fdced4b_adjust/\\home\\wmnlab\\F\\database\\2024-03-19\\UDP_Bandlock_9S_Phone_BR\\sm02\\#01\\data\\udp_dnlk_loss_latency\\home\\wmnlab\\F\\database\\2024-03-19\\UDP_Bandlock_9S_Phone_BR\\sm05\\#01\\data\\udp_dnlk_loss_latency.csv\n",
      "18/72 /home/wmnlab/F/database/2024-03-19/UDP_Bandlock_9S_Phone_BR/sm02/#01/data/handover_info_log.csv\n",
      "18/72 /home/wmnlab/F/database/2024-03-19/UDP_Bandlock_9S_Phone_BR/sm02/#01/data/udp_dnlk_loss_latency.csv\n",
      "18/72 /home/wmnlab/F/database/2024-03-19/UDP_Bandlock_9S_Phone_BR/sm02/#01/data/udp_uplk_loss_latency.csv\n",
      "18/72 /home/wmnlab/F/database/2024-03-19/UDP_Bandlock_9S_Phone_BR/sm06/#01/data/handover_info_log.csv\n",
      "18/72 /home/wmnlab/F/database/2024-03-19/UDP_Bandlock_9S_Phone_BR/sm06/#01/data/udp_dnlk_loss_latency.csv\n",
      "18/72 /home/wmnlab/F/database/2024-03-19/UDP_Bandlock_9S_Phone_BR/sm06/#01/data/udp_uplk_loss_latency.csv\n"
     ]
    },
    {
     "data": {
      "application/vnd.jupyter.widget-view+json": {
       "model_id": "85e95ea3b7e24edbaa640242f56c7f46",
       "version_major": 2,
       "version_minor": 0
      },
      "text/plain": [
       "  0%|                                                                                                         …"
      ]
     },
     "metadata": {},
     "output_type": "display_data"
    },
    {
     "name": "stdout",
     "output_type": "stream",
     "text": [
      "/home/wmnlab/F/results/20240329_160006be6c_new_dataset_sync/dr_results/dr_20240329_1700005690/20240329_20214200000_b533c4363fdced4b_adjust/\\home\\wmnlab\\F\\database\\2024-03-19\\UDP_Bandlock_9S_Phone_BR\\sm02\\#01\\data\\udp_dnlk_loss_latency\\home\\wmnlab\\F\\database\\2024-03-19\\UDP_Bandlock_9S_Phone_BR\\sm06\\#01\\data\\udp_dnlk_loss_latency.csv\n",
      "19/72 /home/wmnlab/F/database/2024-03-19/UDP_Bandlock_9S_Phone_BR/sm02/#01/data/handover_info_log.csv\n",
      "19/72 /home/wmnlab/F/database/2024-03-19/UDP_Bandlock_9S_Phone_BR/sm02/#01/data/udp_dnlk_loss_latency.csv\n",
      "19/72 /home/wmnlab/F/database/2024-03-19/UDP_Bandlock_9S_Phone_BR/sm02/#01/data/udp_uplk_loss_latency.csv\n",
      "19/72 /home/wmnlab/F/database/2024-03-19/UDP_Bandlock_9S_Phone_BR/sm07/#01/data/handover_info_log.csv\n",
      "19/72 /home/wmnlab/F/database/2024-03-19/UDP_Bandlock_9S_Phone_BR/sm07/#01/data/udp_dnlk_loss_latency.csv\n",
      "19/72 /home/wmnlab/F/database/2024-03-19/UDP_Bandlock_9S_Phone_BR/sm07/#01/data/udp_uplk_loss_latency.csv\n"
     ]
    },
    {
     "data": {
      "application/vnd.jupyter.widget-view+json": {
       "model_id": "d76971c8ffe448d7aeb1489998063a34",
       "version_major": 2,
       "version_minor": 0
      },
      "text/plain": [
       "  0%|                                                                                                         …"
      ]
     },
     "metadata": {},
     "output_type": "display_data"
    },
    {
     "name": "stdout",
     "output_type": "stream",
     "text": [
      "/home/wmnlab/F/results/20240329_160006be6c_new_dataset_sync/dr_results/dr_20240329_1700005690/20240329_20214200000_b533c4363fdced4b_adjust/\\home\\wmnlab\\F\\database\\2024-03-19\\UDP_Bandlock_9S_Phone_BR\\sm02\\#01\\data\\udp_dnlk_loss_latency\\home\\wmnlab\\F\\database\\2024-03-19\\UDP_Bandlock_9S_Phone_BR\\sm07\\#01\\data\\udp_dnlk_loss_latency.csv\n",
      "20/72 /home/wmnlab/F/database/2024-03-19/UDP_Bandlock_9S_Phone_BR/sm02/#01/data/handover_info_log.csv\n",
      "20/72 /home/wmnlab/F/database/2024-03-19/UDP_Bandlock_9S_Phone_BR/sm02/#01/data/udp_dnlk_loss_latency.csv\n",
      "20/72 /home/wmnlab/F/database/2024-03-19/UDP_Bandlock_9S_Phone_BR/sm02/#01/data/udp_uplk_loss_latency.csv\n",
      "20/72 /home/wmnlab/F/database/2024-03-19/UDP_Bandlock_9S_Phone_BR/sm08/#01/data/handover_info_log.csv\n",
      "20/72 /home/wmnlab/F/database/2024-03-19/UDP_Bandlock_9S_Phone_BR/sm08/#01/data/udp_dnlk_loss_latency.csv\n",
      "20/72 /home/wmnlab/F/database/2024-03-19/UDP_Bandlock_9S_Phone_BR/sm08/#01/data/udp_uplk_loss_latency.csv\n"
     ]
    },
    {
     "data": {
      "application/vnd.jupyter.widget-view+json": {
       "model_id": "3c177e970b884f84b8118ba095a33a8e",
       "version_major": 2,
       "version_minor": 0
      },
      "text/plain": [
       "  0%|                                                                                                         …"
      ]
     },
     "metadata": {},
     "output_type": "display_data"
    },
    {
     "name": "stdout",
     "output_type": "stream",
     "text": [
      "/home/wmnlab/F/results/20240329_160006be6c_new_dataset_sync/dr_results/dr_20240329_1700005690/20240329_20214200000_b533c4363fdced4b_adjust/\\home\\wmnlab\\F\\database\\2024-03-19\\UDP_Bandlock_9S_Phone_BR\\sm02\\#01\\data\\udp_dnlk_loss_latency\\home\\wmnlab\\F\\database\\2024-03-19\\UDP_Bandlock_9S_Phone_BR\\sm08\\#01\\data\\udp_dnlk_loss_latency.csv\n",
      "21/72 /home/wmnlab/F/database/2024-03-19/UDP_Bandlock_9S_Phone_BR/sm03/#01/data/handover_info_log.csv\n",
      "21/72 /home/wmnlab/F/database/2024-03-19/UDP_Bandlock_9S_Phone_BR/sm03/#01/data/udp_dnlk_loss_latency.csv\n",
      "21/72 /home/wmnlab/F/database/2024-03-19/UDP_Bandlock_9S_Phone_BR/sm03/#01/data/udp_uplk_loss_latency.csv\n",
      "21/72 /home/wmnlab/F/database/2024-03-19/UDP_Bandlock_9S_Phone_BR/sm04/#01/data/handover_info_log.csv\n",
      "21/72 /home/wmnlab/F/database/2024-03-19/UDP_Bandlock_9S_Phone_BR/sm04/#01/data/udp_dnlk_loss_latency.csv\n",
      "21/72 /home/wmnlab/F/database/2024-03-19/UDP_Bandlock_9S_Phone_BR/sm04/#01/data/udp_uplk_loss_latency.csv\n"
     ]
    },
    {
     "data": {
      "application/vnd.jupyter.widget-view+json": {
       "model_id": "8f6da61a515c4516a73b0f47140ea8b9",
       "version_major": 2,
       "version_minor": 0
      },
      "text/plain": [
       "  0%|                                                                                                         …"
      ]
     },
     "metadata": {},
     "output_type": "display_data"
    },
    {
     "name": "stdout",
     "output_type": "stream",
     "text": [
      "/home/wmnlab/F/results/20240329_160006be6c_new_dataset_sync/dr_results/dr_20240329_1700005690/20240329_20214200000_b533c4363fdced4b_adjust/\\home\\wmnlab\\F\\database\\2024-03-19\\UDP_Bandlock_9S_Phone_BR\\sm03\\#01\\data\\udp_dnlk_loss_latency\\home\\wmnlab\\F\\database\\2024-03-19\\UDP_Bandlock_9S_Phone_BR\\sm04\\#01\\data\\udp_dnlk_loss_latency.csv\n",
      "22/72 /home/wmnlab/F/database/2024-03-19/UDP_Bandlock_9S_Phone_BR/sm03/#01/data/handover_info_log.csv\n",
      "22/72 /home/wmnlab/F/database/2024-03-19/UDP_Bandlock_9S_Phone_BR/sm03/#01/data/udp_dnlk_loss_latency.csv\n",
      "22/72 /home/wmnlab/F/database/2024-03-19/UDP_Bandlock_9S_Phone_BR/sm03/#01/data/udp_uplk_loss_latency.csv\n",
      "22/72 /home/wmnlab/F/database/2024-03-19/UDP_Bandlock_9S_Phone_BR/sm05/#01/data/handover_info_log.csv\n",
      "22/72 /home/wmnlab/F/database/2024-03-19/UDP_Bandlock_9S_Phone_BR/sm05/#01/data/udp_dnlk_loss_latency.csv\n",
      "22/72 /home/wmnlab/F/database/2024-03-19/UDP_Bandlock_9S_Phone_BR/sm05/#01/data/udp_uplk_loss_latency.csv\n"
     ]
    },
    {
     "data": {
      "application/vnd.jupyter.widget-view+json": {
       "model_id": "70e0075febc247b08d3fba3e16b922ab",
       "version_major": 2,
       "version_minor": 0
      },
      "text/plain": [
       "  0%|                                                                                                         …"
      ]
     },
     "metadata": {},
     "output_type": "display_data"
    },
    {
     "name": "stdout",
     "output_type": "stream",
     "text": [
      "/home/wmnlab/F/results/20240329_160006be6c_new_dataset_sync/dr_results/dr_20240329_1700005690/20240329_20214200000_b533c4363fdced4b_adjust/\\home\\wmnlab\\F\\database\\2024-03-19\\UDP_Bandlock_9S_Phone_BR\\sm03\\#01\\data\\udp_dnlk_loss_latency\\home\\wmnlab\\F\\database\\2024-03-19\\UDP_Bandlock_9S_Phone_BR\\sm05\\#01\\data\\udp_dnlk_loss_latency.csv\n",
      "23/72 /home/wmnlab/F/database/2024-03-19/UDP_Bandlock_9S_Phone_BR/sm03/#01/data/handover_info_log.csv\n",
      "23/72 /home/wmnlab/F/database/2024-03-19/UDP_Bandlock_9S_Phone_BR/sm03/#01/data/udp_dnlk_loss_latency.csv\n",
      "23/72 /home/wmnlab/F/database/2024-03-19/UDP_Bandlock_9S_Phone_BR/sm03/#01/data/udp_uplk_loss_latency.csv\n",
      "23/72 /home/wmnlab/F/database/2024-03-19/UDP_Bandlock_9S_Phone_BR/sm06/#01/data/handover_info_log.csv\n",
      "23/72 /home/wmnlab/F/database/2024-03-19/UDP_Bandlock_9S_Phone_BR/sm06/#01/data/udp_dnlk_loss_latency.csv\n",
      "23/72 /home/wmnlab/F/database/2024-03-19/UDP_Bandlock_9S_Phone_BR/sm06/#01/data/udp_uplk_loss_latency.csv\n"
     ]
    },
    {
     "data": {
      "application/vnd.jupyter.widget-view+json": {
       "model_id": "5229c7ef8e47432f931f5c42c36475b9",
       "version_major": 2,
       "version_minor": 0
      },
      "text/plain": [
       "  0%|                                                                                                         …"
      ]
     },
     "metadata": {},
     "output_type": "display_data"
    },
    {
     "name": "stdout",
     "output_type": "stream",
     "text": [
      "/home/wmnlab/F/results/20240329_160006be6c_new_dataset_sync/dr_results/dr_20240329_1700005690/20240329_20214200000_b533c4363fdced4b_adjust/\\home\\wmnlab\\F\\database\\2024-03-19\\UDP_Bandlock_9S_Phone_BR\\sm03\\#01\\data\\udp_dnlk_loss_latency\\home\\wmnlab\\F\\database\\2024-03-19\\UDP_Bandlock_9S_Phone_BR\\sm06\\#01\\data\\udp_dnlk_loss_latency.csv\n",
      "24/72 /home/wmnlab/F/database/2024-03-19/UDP_Bandlock_9S_Phone_BR/sm03/#01/data/handover_info_log.csv\n",
      "24/72 /home/wmnlab/F/database/2024-03-19/UDP_Bandlock_9S_Phone_BR/sm03/#01/data/udp_dnlk_loss_latency.csv\n",
      "24/72 /home/wmnlab/F/database/2024-03-19/UDP_Bandlock_9S_Phone_BR/sm03/#01/data/udp_uplk_loss_latency.csv\n",
      "24/72 /home/wmnlab/F/database/2024-03-19/UDP_Bandlock_9S_Phone_BR/sm07/#01/data/handover_info_log.csv\n",
      "24/72 /home/wmnlab/F/database/2024-03-19/UDP_Bandlock_9S_Phone_BR/sm07/#01/data/udp_dnlk_loss_latency.csv\n",
      "24/72 /home/wmnlab/F/database/2024-03-19/UDP_Bandlock_9S_Phone_BR/sm07/#01/data/udp_uplk_loss_latency.csv\n"
     ]
    },
    {
     "data": {
      "application/vnd.jupyter.widget-view+json": {
       "model_id": "c9070d0ca88f4c2db384dcd3838395fe",
       "version_major": 2,
       "version_minor": 0
      },
      "text/plain": [
       "  0%|                                                                                                         …"
      ]
     },
     "metadata": {},
     "output_type": "display_data"
    },
    {
     "name": "stdout",
     "output_type": "stream",
     "text": [
      "/home/wmnlab/F/results/20240329_160006be6c_new_dataset_sync/dr_results/dr_20240329_1700005690/20240329_20214200000_b533c4363fdced4b_adjust/\\home\\wmnlab\\F\\database\\2024-03-19\\UDP_Bandlock_9S_Phone_BR\\sm03\\#01\\data\\udp_dnlk_loss_latency\\home\\wmnlab\\F\\database\\2024-03-19\\UDP_Bandlock_9S_Phone_BR\\sm07\\#01\\data\\udp_dnlk_loss_latency.csv\n",
      "25/72 /home/wmnlab/F/database/2024-03-19/UDP_Bandlock_9S_Phone_BR/sm03/#01/data/handover_info_log.csv\n",
      "25/72 /home/wmnlab/F/database/2024-03-19/UDP_Bandlock_9S_Phone_BR/sm03/#01/data/udp_dnlk_loss_latency.csv\n",
      "25/72 /home/wmnlab/F/database/2024-03-19/UDP_Bandlock_9S_Phone_BR/sm03/#01/data/udp_uplk_loss_latency.csv\n",
      "25/72 /home/wmnlab/F/database/2024-03-19/UDP_Bandlock_9S_Phone_BR/sm08/#01/data/handover_info_log.csv\n",
      "25/72 /home/wmnlab/F/database/2024-03-19/UDP_Bandlock_9S_Phone_BR/sm08/#01/data/udp_dnlk_loss_latency.csv\n",
      "25/72 /home/wmnlab/F/database/2024-03-19/UDP_Bandlock_9S_Phone_BR/sm08/#01/data/udp_uplk_loss_latency.csv\n"
     ]
    },
    {
     "data": {
      "application/vnd.jupyter.widget-view+json": {
       "model_id": "5bdc960e935543529b8c804baf8c7a1d",
       "version_major": 2,
       "version_minor": 0
      },
      "text/plain": [
       "  0%|                                                                                                         …"
      ]
     },
     "metadata": {},
     "output_type": "display_data"
    },
    {
     "name": "stdout",
     "output_type": "stream",
     "text": [
      "/home/wmnlab/F/results/20240329_160006be6c_new_dataset_sync/dr_results/dr_20240329_1700005690/20240329_20214200000_b533c4363fdced4b_adjust/\\home\\wmnlab\\F\\database\\2024-03-19\\UDP_Bandlock_9S_Phone_BR\\sm03\\#01\\data\\udp_dnlk_loss_latency\\home\\wmnlab\\F\\database\\2024-03-19\\UDP_Bandlock_9S_Phone_BR\\sm08\\#01\\data\\udp_dnlk_loss_latency.csv\n",
      "26/72 /home/wmnlab/F/database/2024-03-19/UDP_Bandlock_9S_Phone_BR/sm04/#01/data/handover_info_log.csv\n",
      "26/72 /home/wmnlab/F/database/2024-03-19/UDP_Bandlock_9S_Phone_BR/sm04/#01/data/udp_dnlk_loss_latency.csv\n",
      "26/72 /home/wmnlab/F/database/2024-03-19/UDP_Bandlock_9S_Phone_BR/sm04/#01/data/udp_uplk_loss_latency.csv\n",
      "26/72 /home/wmnlab/F/database/2024-03-19/UDP_Bandlock_9S_Phone_BR/sm05/#01/data/handover_info_log.csv\n",
      "26/72 /home/wmnlab/F/database/2024-03-19/UDP_Bandlock_9S_Phone_BR/sm05/#01/data/udp_dnlk_loss_latency.csv\n",
      "26/72 /home/wmnlab/F/database/2024-03-19/UDP_Bandlock_9S_Phone_BR/sm05/#01/data/udp_uplk_loss_latency.csv\n"
     ]
    },
    {
     "data": {
      "application/vnd.jupyter.widget-view+json": {
       "model_id": "2cba2ae1bee545bc8498056d87707cdd",
       "version_major": 2,
       "version_minor": 0
      },
      "text/plain": [
       "  0%|                                                                                                         …"
      ]
     },
     "metadata": {},
     "output_type": "display_data"
    },
    {
     "name": "stdout",
     "output_type": "stream",
     "text": [
      "/home/wmnlab/F/results/20240329_160006be6c_new_dataset_sync/dr_results/dr_20240329_1700005690/20240329_20214200000_b533c4363fdced4b_adjust/\\home\\wmnlab\\F\\database\\2024-03-19\\UDP_Bandlock_9S_Phone_BR\\sm04\\#01\\data\\udp_dnlk_loss_latency\\home\\wmnlab\\F\\database\\2024-03-19\\UDP_Bandlock_9S_Phone_BR\\sm05\\#01\\data\\udp_dnlk_loss_latency.csv\n",
      "27/72 /home/wmnlab/F/database/2024-03-19/UDP_Bandlock_9S_Phone_BR/sm04/#01/data/handover_info_log.csv\n",
      "27/72 /home/wmnlab/F/database/2024-03-19/UDP_Bandlock_9S_Phone_BR/sm04/#01/data/udp_dnlk_loss_latency.csv\n",
      "27/72 /home/wmnlab/F/database/2024-03-19/UDP_Bandlock_9S_Phone_BR/sm04/#01/data/udp_uplk_loss_latency.csv\n",
      "27/72 /home/wmnlab/F/database/2024-03-19/UDP_Bandlock_9S_Phone_BR/sm06/#01/data/handover_info_log.csv\n",
      "27/72 /home/wmnlab/F/database/2024-03-19/UDP_Bandlock_9S_Phone_BR/sm06/#01/data/udp_dnlk_loss_latency.csv\n",
      "27/72 /home/wmnlab/F/database/2024-03-19/UDP_Bandlock_9S_Phone_BR/sm06/#01/data/udp_uplk_loss_latency.csv\n"
     ]
    },
    {
     "data": {
      "application/vnd.jupyter.widget-view+json": {
       "model_id": "fd0b31d14ff74c32a9aa3a93077bffc5",
       "version_major": 2,
       "version_minor": 0
      },
      "text/plain": [
       "  0%|                                                                                                         …"
      ]
     },
     "metadata": {},
     "output_type": "display_data"
    },
    {
     "name": "stdout",
     "output_type": "stream",
     "text": [
      "/home/wmnlab/F/results/20240329_160006be6c_new_dataset_sync/dr_results/dr_20240329_1700005690/20240329_20214200000_b533c4363fdced4b_adjust/\\home\\wmnlab\\F\\database\\2024-03-19\\UDP_Bandlock_9S_Phone_BR\\sm04\\#01\\data\\udp_dnlk_loss_latency\\home\\wmnlab\\F\\database\\2024-03-19\\UDP_Bandlock_9S_Phone_BR\\sm06\\#01\\data\\udp_dnlk_loss_latency.csv\n",
      "28/72 /home/wmnlab/F/database/2024-03-19/UDP_Bandlock_9S_Phone_BR/sm04/#01/data/handover_info_log.csv\n",
      "28/72 /home/wmnlab/F/database/2024-03-19/UDP_Bandlock_9S_Phone_BR/sm04/#01/data/udp_dnlk_loss_latency.csv\n",
      "28/72 /home/wmnlab/F/database/2024-03-19/UDP_Bandlock_9S_Phone_BR/sm04/#01/data/udp_uplk_loss_latency.csv\n",
      "28/72 /home/wmnlab/F/database/2024-03-19/UDP_Bandlock_9S_Phone_BR/sm07/#01/data/handover_info_log.csv\n",
      "28/72 /home/wmnlab/F/database/2024-03-19/UDP_Bandlock_9S_Phone_BR/sm07/#01/data/udp_dnlk_loss_latency.csv\n",
      "28/72 /home/wmnlab/F/database/2024-03-19/UDP_Bandlock_9S_Phone_BR/sm07/#01/data/udp_uplk_loss_latency.csv\n"
     ]
    },
    {
     "data": {
      "application/vnd.jupyter.widget-view+json": {
       "model_id": "d4bfe0e70e134293a1c86e0357d5b7a4",
       "version_major": 2,
       "version_minor": 0
      },
      "text/plain": [
       "  0%|                                                                                                         …"
      ]
     },
     "metadata": {},
     "output_type": "display_data"
    },
    {
     "name": "stdout",
     "output_type": "stream",
     "text": [
      "/home/wmnlab/F/results/20240329_160006be6c_new_dataset_sync/dr_results/dr_20240329_1700005690/20240329_20214200000_b533c4363fdced4b_adjust/\\home\\wmnlab\\F\\database\\2024-03-19\\UDP_Bandlock_9S_Phone_BR\\sm04\\#01\\data\\udp_dnlk_loss_latency\\home\\wmnlab\\F\\database\\2024-03-19\\UDP_Bandlock_9S_Phone_BR\\sm07\\#01\\data\\udp_dnlk_loss_latency.csv\n",
      "29/72 /home/wmnlab/F/database/2024-03-19/UDP_Bandlock_9S_Phone_BR/sm04/#01/data/handover_info_log.csv\n",
      "29/72 /home/wmnlab/F/database/2024-03-19/UDP_Bandlock_9S_Phone_BR/sm04/#01/data/udp_dnlk_loss_latency.csv\n",
      "29/72 /home/wmnlab/F/database/2024-03-19/UDP_Bandlock_9S_Phone_BR/sm04/#01/data/udp_uplk_loss_latency.csv\n",
      "29/72 /home/wmnlab/F/database/2024-03-19/UDP_Bandlock_9S_Phone_BR/sm08/#01/data/handover_info_log.csv\n",
      "29/72 /home/wmnlab/F/database/2024-03-19/UDP_Bandlock_9S_Phone_BR/sm08/#01/data/udp_dnlk_loss_latency.csv\n",
      "29/72 /home/wmnlab/F/database/2024-03-19/UDP_Bandlock_9S_Phone_BR/sm08/#01/data/udp_uplk_loss_latency.csv\n"
     ]
    },
    {
     "data": {
      "application/vnd.jupyter.widget-view+json": {
       "model_id": "6114da01b60b4b428ef395be29c868a8",
       "version_major": 2,
       "version_minor": 0
      },
      "text/plain": [
       "  0%|                                                                                                         …"
      ]
     },
     "metadata": {},
     "output_type": "display_data"
    },
    {
     "name": "stdout",
     "output_type": "stream",
     "text": [
      "/home/wmnlab/F/results/20240329_160006be6c_new_dataset_sync/dr_results/dr_20240329_1700005690/20240329_20214200000_b533c4363fdced4b_adjust/\\home\\wmnlab\\F\\database\\2024-03-19\\UDP_Bandlock_9S_Phone_BR\\sm04\\#01\\data\\udp_dnlk_loss_latency\\home\\wmnlab\\F\\database\\2024-03-19\\UDP_Bandlock_9S_Phone_BR\\sm08\\#01\\data\\udp_dnlk_loss_latency.csv\n",
      "30/72 /home/wmnlab/F/database/2024-03-19/UDP_Bandlock_9S_Phone_BR/sm05/#01/data/handover_info_log.csv\n",
      "30/72 /home/wmnlab/F/database/2024-03-19/UDP_Bandlock_9S_Phone_BR/sm05/#01/data/udp_dnlk_loss_latency.csv\n",
      "30/72 /home/wmnlab/F/database/2024-03-19/UDP_Bandlock_9S_Phone_BR/sm05/#01/data/udp_uplk_loss_latency.csv\n",
      "30/72 /home/wmnlab/F/database/2024-03-19/UDP_Bandlock_9S_Phone_BR/sm06/#01/data/handover_info_log.csv\n",
      "30/72 /home/wmnlab/F/database/2024-03-19/UDP_Bandlock_9S_Phone_BR/sm06/#01/data/udp_dnlk_loss_latency.csv\n",
      "30/72 /home/wmnlab/F/database/2024-03-19/UDP_Bandlock_9S_Phone_BR/sm06/#01/data/udp_uplk_loss_latency.csv\n"
     ]
    },
    {
     "data": {
      "application/vnd.jupyter.widget-view+json": {
       "model_id": "4e985b87240f4765a8c034d50dfe0756",
       "version_major": 2,
       "version_minor": 0
      },
      "text/plain": [
       "  0%|                                                                                                         …"
      ]
     },
     "metadata": {},
     "output_type": "display_data"
    },
    {
     "name": "stdout",
     "output_type": "stream",
     "text": [
      "/home/wmnlab/F/results/20240329_160006be6c_new_dataset_sync/dr_results/dr_20240329_1700005690/20240329_20214200000_b533c4363fdced4b_adjust/\\home\\wmnlab\\F\\database\\2024-03-19\\UDP_Bandlock_9S_Phone_BR\\sm05\\#01\\data\\udp_dnlk_loss_latency\\home\\wmnlab\\F\\database\\2024-03-19\\UDP_Bandlock_9S_Phone_BR\\sm06\\#01\\data\\udp_dnlk_loss_latency.csv\n",
      "31/72 /home/wmnlab/F/database/2024-03-19/UDP_Bandlock_9S_Phone_BR/sm05/#01/data/handover_info_log.csv\n",
      "31/72 /home/wmnlab/F/database/2024-03-19/UDP_Bandlock_9S_Phone_BR/sm05/#01/data/udp_dnlk_loss_latency.csv\n",
      "31/72 /home/wmnlab/F/database/2024-03-19/UDP_Bandlock_9S_Phone_BR/sm05/#01/data/udp_uplk_loss_latency.csv\n",
      "31/72 /home/wmnlab/F/database/2024-03-19/UDP_Bandlock_9S_Phone_BR/sm07/#01/data/handover_info_log.csv\n",
      "31/72 /home/wmnlab/F/database/2024-03-19/UDP_Bandlock_9S_Phone_BR/sm07/#01/data/udp_dnlk_loss_latency.csv\n",
      "31/72 /home/wmnlab/F/database/2024-03-19/UDP_Bandlock_9S_Phone_BR/sm07/#01/data/udp_uplk_loss_latency.csv\n"
     ]
    },
    {
     "data": {
      "application/vnd.jupyter.widget-view+json": {
       "model_id": "800c7a11ee86490b8402601986e64269",
       "version_major": 2,
       "version_minor": 0
      },
      "text/plain": [
       "  0%|                                                                                                         …"
      ]
     },
     "metadata": {},
     "output_type": "display_data"
    },
    {
     "name": "stdout",
     "output_type": "stream",
     "text": [
      "/home/wmnlab/F/results/20240329_160006be6c_new_dataset_sync/dr_results/dr_20240329_1700005690/20240329_20214200000_b533c4363fdced4b_adjust/\\home\\wmnlab\\F\\database\\2024-03-19\\UDP_Bandlock_9S_Phone_BR\\sm05\\#01\\data\\udp_dnlk_loss_latency\\home\\wmnlab\\F\\database\\2024-03-19\\UDP_Bandlock_9S_Phone_BR\\sm07\\#01\\data\\udp_dnlk_loss_latency.csv\n",
      "32/72 /home/wmnlab/F/database/2024-03-19/UDP_Bandlock_9S_Phone_BR/sm05/#01/data/handover_info_log.csv\n",
      "32/72 /home/wmnlab/F/database/2024-03-19/UDP_Bandlock_9S_Phone_BR/sm05/#01/data/udp_dnlk_loss_latency.csv\n",
      "32/72 /home/wmnlab/F/database/2024-03-19/UDP_Bandlock_9S_Phone_BR/sm05/#01/data/udp_uplk_loss_latency.csv\n",
      "32/72 /home/wmnlab/F/database/2024-03-19/UDP_Bandlock_9S_Phone_BR/sm08/#01/data/handover_info_log.csv\n",
      "32/72 /home/wmnlab/F/database/2024-03-19/UDP_Bandlock_9S_Phone_BR/sm08/#01/data/udp_dnlk_loss_latency.csv\n",
      "32/72 /home/wmnlab/F/database/2024-03-19/UDP_Bandlock_9S_Phone_BR/sm08/#01/data/udp_uplk_loss_latency.csv\n"
     ]
    },
    {
     "data": {
      "application/vnd.jupyter.widget-view+json": {
       "model_id": "114750bfce8e47e1aec12646efd096a7",
       "version_major": 2,
       "version_minor": 0
      },
      "text/plain": [
       "  0%|                                                                                                         …"
      ]
     },
     "metadata": {},
     "output_type": "display_data"
    },
    {
     "name": "stdout",
     "output_type": "stream",
     "text": [
      "/home/wmnlab/F/results/20240329_160006be6c_new_dataset_sync/dr_results/dr_20240329_1700005690/20240329_20214200000_b533c4363fdced4b_adjust/\\home\\wmnlab\\F\\database\\2024-03-19\\UDP_Bandlock_9S_Phone_BR\\sm05\\#01\\data\\udp_dnlk_loss_latency\\home\\wmnlab\\F\\database\\2024-03-19\\UDP_Bandlock_9S_Phone_BR\\sm08\\#01\\data\\udp_dnlk_loss_latency.csv\n",
      "33/72 /home/wmnlab/F/database/2024-03-19/UDP_Bandlock_9S_Phone_BR/sm06/#01/data/handover_info_log.csv\n",
      "33/72 /home/wmnlab/F/database/2024-03-19/UDP_Bandlock_9S_Phone_BR/sm06/#01/data/udp_dnlk_loss_latency.csv\n",
      "33/72 /home/wmnlab/F/database/2024-03-19/UDP_Bandlock_9S_Phone_BR/sm06/#01/data/udp_uplk_loss_latency.csv\n",
      "33/72 /home/wmnlab/F/database/2024-03-19/UDP_Bandlock_9S_Phone_BR/sm07/#01/data/handover_info_log.csv\n",
      "33/72 /home/wmnlab/F/database/2024-03-19/UDP_Bandlock_9S_Phone_BR/sm07/#01/data/udp_dnlk_loss_latency.csv\n",
      "33/72 /home/wmnlab/F/database/2024-03-19/UDP_Bandlock_9S_Phone_BR/sm07/#01/data/udp_uplk_loss_latency.csv\n"
     ]
    },
    {
     "data": {
      "application/vnd.jupyter.widget-view+json": {
       "model_id": "7efe88b3ca2c493eb8f4c0ac1dfd32f2",
       "version_major": 2,
       "version_minor": 0
      },
      "text/plain": [
       "  0%|                                                                                                         …"
      ]
     },
     "metadata": {},
     "output_type": "display_data"
    },
    {
     "name": "stdout",
     "output_type": "stream",
     "text": [
      "/home/wmnlab/F/results/20240329_160006be6c_new_dataset_sync/dr_results/dr_20240329_1700005690/20240329_20214200000_b533c4363fdced4b_adjust/\\home\\wmnlab\\F\\database\\2024-03-19\\UDP_Bandlock_9S_Phone_BR\\sm06\\#01\\data\\udp_dnlk_loss_latency\\home\\wmnlab\\F\\database\\2024-03-19\\UDP_Bandlock_9S_Phone_BR\\sm07\\#01\\data\\udp_dnlk_loss_latency.csv\n",
      "34/72 /home/wmnlab/F/database/2024-03-19/UDP_Bandlock_9S_Phone_BR/sm06/#01/data/handover_info_log.csv\n",
      "34/72 /home/wmnlab/F/database/2024-03-19/UDP_Bandlock_9S_Phone_BR/sm06/#01/data/udp_dnlk_loss_latency.csv\n",
      "34/72 /home/wmnlab/F/database/2024-03-19/UDP_Bandlock_9S_Phone_BR/sm06/#01/data/udp_uplk_loss_latency.csv\n",
      "34/72 /home/wmnlab/F/database/2024-03-19/UDP_Bandlock_9S_Phone_BR/sm08/#01/data/handover_info_log.csv\n",
      "34/72 /home/wmnlab/F/database/2024-03-19/UDP_Bandlock_9S_Phone_BR/sm08/#01/data/udp_dnlk_loss_latency.csv\n",
      "34/72 /home/wmnlab/F/database/2024-03-19/UDP_Bandlock_9S_Phone_BR/sm08/#01/data/udp_uplk_loss_latency.csv\n"
     ]
    },
    {
     "data": {
      "application/vnd.jupyter.widget-view+json": {
       "model_id": "0472c0d1db9540a192fef137066c43c6",
       "version_major": 2,
       "version_minor": 0
      },
      "text/plain": [
       "  0%|                                                                                                         …"
      ]
     },
     "metadata": {},
     "output_type": "display_data"
    },
    {
     "name": "stdout",
     "output_type": "stream",
     "text": [
      "/home/wmnlab/F/results/20240329_160006be6c_new_dataset_sync/dr_results/dr_20240329_1700005690/20240329_20214200000_b533c4363fdced4b_adjust/\\home\\wmnlab\\F\\database\\2024-03-19\\UDP_Bandlock_9S_Phone_BR\\sm06\\#01\\data\\udp_dnlk_loss_latency\\home\\wmnlab\\F\\database\\2024-03-19\\UDP_Bandlock_9S_Phone_BR\\sm08\\#01\\data\\udp_dnlk_loss_latency.csv\n",
      "35/72 /home/wmnlab/F/database/2024-03-19/UDP_Bandlock_9S_Phone_BR/sm07/#01/data/handover_info_log.csv\n",
      "35/72 /home/wmnlab/F/database/2024-03-19/UDP_Bandlock_9S_Phone_BR/sm07/#01/data/udp_dnlk_loss_latency.csv\n",
      "35/72 /home/wmnlab/F/database/2024-03-19/UDP_Bandlock_9S_Phone_BR/sm07/#01/data/udp_uplk_loss_latency.csv\n",
      "35/72 /home/wmnlab/F/database/2024-03-19/UDP_Bandlock_9S_Phone_BR/sm08/#01/data/handover_info_log.csv\n",
      "35/72 /home/wmnlab/F/database/2024-03-19/UDP_Bandlock_9S_Phone_BR/sm08/#01/data/udp_dnlk_loss_latency.csv\n",
      "35/72 /home/wmnlab/F/database/2024-03-19/UDP_Bandlock_9S_Phone_BR/sm08/#01/data/udp_uplk_loss_latency.csv\n"
     ]
    },
    {
     "data": {
      "application/vnd.jupyter.widget-view+json": {
       "model_id": "905c2438f9da4db5ac7733720bc3590c",
       "version_major": 2,
       "version_minor": 0
      },
      "text/plain": [
       "  0%|                                                                                                         …"
      ]
     },
     "metadata": {},
     "output_type": "display_data"
    },
    {
     "name": "stdout",
     "output_type": "stream",
     "text": [
      "/home/wmnlab/F/results/20240329_160006be6c_new_dataset_sync/dr_results/dr_20240329_1700005690/20240329_20214200000_b533c4363fdced4b_adjust/\\home\\wmnlab\\F\\database\\2024-03-19\\UDP_Bandlock_9S_Phone_BR\\sm07\\#01\\data\\udp_dnlk_loss_latency\\home\\wmnlab\\F\\database\\2024-03-19\\UDP_Bandlock_9S_Phone_BR\\sm08\\#01\\data\\udp_dnlk_loss_latency.csv\n",
      "36/72 /home/wmnlab/F/database/2024-03-19/UDP_Bandlock_9S_Phone_BR/sm00/#02/data/handover_info_log.csv\n",
      "36/72 /home/wmnlab/F/database/2024-03-19/UDP_Bandlock_9S_Phone_BR/sm00/#02/data/udp_dnlk_loss_latency.csv\n",
      "36/72 /home/wmnlab/F/database/2024-03-19/UDP_Bandlock_9S_Phone_BR/sm00/#02/data/udp_uplk_loss_latency.csv\n",
      "36/72 /home/wmnlab/F/database/2024-03-19/UDP_Bandlock_9S_Phone_BR/sm01/#02/data/handover_info_log.csv\n",
      "36/72 /home/wmnlab/F/database/2024-03-19/UDP_Bandlock_9S_Phone_BR/sm01/#02/data/udp_dnlk_loss_latency.csv\n",
      "36/72 /home/wmnlab/F/database/2024-03-19/UDP_Bandlock_9S_Phone_BR/sm01/#02/data/udp_uplk_loss_latency.csv\n"
     ]
    },
    {
     "data": {
      "application/vnd.jupyter.widget-view+json": {
       "model_id": "cdb87dfc8b6e4adc9e167ee627851e18",
       "version_major": 2,
       "version_minor": 0
      },
      "text/plain": [
       "  0%|                                                                                                         …"
      ]
     },
     "metadata": {},
     "output_type": "display_data"
    },
    {
     "name": "stdout",
     "output_type": "stream",
     "text": [
      "/home/wmnlab/F/results/20240329_160006be6c_new_dataset_sync/dr_results/dr_20240329_1700005690/20240329_20214200000_b533c4363fdced4b_adjust/\\home\\wmnlab\\F\\database\\2024-03-19\\UDP_Bandlock_9S_Phone_BR\\sm00\\#02\\data\\udp_dnlk_loss_latency\\home\\wmnlab\\F\\database\\2024-03-19\\UDP_Bandlock_9S_Phone_BR\\sm01\\#02\\data\\udp_dnlk_loss_latency.csv\n",
      "37/72 /home/wmnlab/F/database/2024-03-19/UDP_Bandlock_9S_Phone_BR/sm00/#02/data/handover_info_log.csv\n",
      "37/72 /home/wmnlab/F/database/2024-03-19/UDP_Bandlock_9S_Phone_BR/sm00/#02/data/udp_dnlk_loss_latency.csv\n",
      "37/72 /home/wmnlab/F/database/2024-03-19/UDP_Bandlock_9S_Phone_BR/sm00/#02/data/udp_uplk_loss_latency.csv\n",
      "37/72 /home/wmnlab/F/database/2024-03-19/UDP_Bandlock_9S_Phone_BR/sm02/#02/data/handover_info_log.csv\n",
      "37/72 /home/wmnlab/F/database/2024-03-19/UDP_Bandlock_9S_Phone_BR/sm02/#02/data/udp_dnlk_loss_latency.csv\n",
      "37/72 /home/wmnlab/F/database/2024-03-19/UDP_Bandlock_9S_Phone_BR/sm02/#02/data/udp_uplk_loss_latency.csv\n"
     ]
    },
    {
     "data": {
      "application/vnd.jupyter.widget-view+json": {
       "model_id": "875f5261969b49e9bdde843acb5abba4",
       "version_major": 2,
       "version_minor": 0
      },
      "text/plain": [
       "  0%|                                                                                                         …"
      ]
     },
     "metadata": {},
     "output_type": "display_data"
    },
    {
     "name": "stdout",
     "output_type": "stream",
     "text": [
      "/home/wmnlab/F/results/20240329_160006be6c_new_dataset_sync/dr_results/dr_20240329_1700005690/20240329_20214200000_b533c4363fdced4b_adjust/\\home\\wmnlab\\F\\database\\2024-03-19\\UDP_Bandlock_9S_Phone_BR\\sm00\\#02\\data\\udp_dnlk_loss_latency\\home\\wmnlab\\F\\database\\2024-03-19\\UDP_Bandlock_9S_Phone_BR\\sm02\\#02\\data\\udp_dnlk_loss_latency.csv\n",
      "38/72 /home/wmnlab/F/database/2024-03-19/UDP_Bandlock_9S_Phone_BR/sm00/#02/data/handover_info_log.csv\n",
      "38/72 /home/wmnlab/F/database/2024-03-19/UDP_Bandlock_9S_Phone_BR/sm00/#02/data/udp_dnlk_loss_latency.csv\n",
      "38/72 /home/wmnlab/F/database/2024-03-19/UDP_Bandlock_9S_Phone_BR/sm00/#02/data/udp_uplk_loss_latency.csv\n",
      "38/72 /home/wmnlab/F/database/2024-03-19/UDP_Bandlock_9S_Phone_BR/sm03/#02/data/handover_info_log.csv\n",
      "38/72 /home/wmnlab/F/database/2024-03-19/UDP_Bandlock_9S_Phone_BR/sm03/#02/data/udp_dnlk_loss_latency.csv\n",
      "38/72 /home/wmnlab/F/database/2024-03-19/UDP_Bandlock_9S_Phone_BR/sm03/#02/data/udp_uplk_loss_latency.csv\n"
     ]
    },
    {
     "data": {
      "application/vnd.jupyter.widget-view+json": {
       "model_id": "4d5f0ff7b56945b6b553c89aa421e79d",
       "version_major": 2,
       "version_minor": 0
      },
      "text/plain": [
       "  0%|                                                                                                         …"
      ]
     },
     "metadata": {},
     "output_type": "display_data"
    },
    {
     "name": "stdout",
     "output_type": "stream",
     "text": [
      "/home/wmnlab/F/results/20240329_160006be6c_new_dataset_sync/dr_results/dr_20240329_1700005690/20240329_20214200000_b533c4363fdced4b_adjust/\\home\\wmnlab\\F\\database\\2024-03-19\\UDP_Bandlock_9S_Phone_BR\\sm00\\#02\\data\\udp_dnlk_loss_latency\\home\\wmnlab\\F\\database\\2024-03-19\\UDP_Bandlock_9S_Phone_BR\\sm03\\#02\\data\\udp_dnlk_loss_latency.csv\n",
      "39/72 /home/wmnlab/F/database/2024-03-19/UDP_Bandlock_9S_Phone_BR/sm00/#02/data/handover_info_log.csv\n",
      "39/72 /home/wmnlab/F/database/2024-03-19/UDP_Bandlock_9S_Phone_BR/sm00/#02/data/udp_dnlk_loss_latency.csv\n",
      "39/72 /home/wmnlab/F/database/2024-03-19/UDP_Bandlock_9S_Phone_BR/sm00/#02/data/udp_uplk_loss_latency.csv\n",
      "39/72 /home/wmnlab/F/database/2024-03-19/UDP_Bandlock_9S_Phone_BR/sm04/#02/data/handover_info_log.csv\n",
      "39/72 /home/wmnlab/F/database/2024-03-19/UDP_Bandlock_9S_Phone_BR/sm04/#02/data/udp_dnlk_loss_latency.csv\n",
      "39/72 /home/wmnlab/F/database/2024-03-19/UDP_Bandlock_9S_Phone_BR/sm04/#02/data/udp_uplk_loss_latency.csv\n"
     ]
    },
    {
     "data": {
      "application/vnd.jupyter.widget-view+json": {
       "model_id": "8739ee234bc747889c53623422099d15",
       "version_major": 2,
       "version_minor": 0
      },
      "text/plain": [
       "  0%|                                                                                                         …"
      ]
     },
     "metadata": {},
     "output_type": "display_data"
    },
    {
     "name": "stdout",
     "output_type": "stream",
     "text": [
      "/home/wmnlab/F/results/20240329_160006be6c_new_dataset_sync/dr_results/dr_20240329_1700005690/20240329_20214200000_b533c4363fdced4b_adjust/\\home\\wmnlab\\F\\database\\2024-03-19\\UDP_Bandlock_9S_Phone_BR\\sm00\\#02\\data\\udp_dnlk_loss_latency\\home\\wmnlab\\F\\database\\2024-03-19\\UDP_Bandlock_9S_Phone_BR\\sm04\\#02\\data\\udp_dnlk_loss_latency.csv\n",
      "40/72 /home/wmnlab/F/database/2024-03-19/UDP_Bandlock_9S_Phone_BR/sm00/#02/data/handover_info_log.csv\n",
      "40/72 /home/wmnlab/F/database/2024-03-19/UDP_Bandlock_9S_Phone_BR/sm00/#02/data/udp_dnlk_loss_latency.csv\n",
      "40/72 /home/wmnlab/F/database/2024-03-19/UDP_Bandlock_9S_Phone_BR/sm00/#02/data/udp_uplk_loss_latency.csv\n",
      "40/72 /home/wmnlab/F/database/2024-03-19/UDP_Bandlock_9S_Phone_BR/sm05/#02/data/handover_info_log.csv\n",
      "40/72 /home/wmnlab/F/database/2024-03-19/UDP_Bandlock_9S_Phone_BR/sm05/#02/data/udp_dnlk_loss_latency.csv\n",
      "40/72 /home/wmnlab/F/database/2024-03-19/UDP_Bandlock_9S_Phone_BR/sm05/#02/data/udp_uplk_loss_latency.csv\n"
     ]
    },
    {
     "data": {
      "application/vnd.jupyter.widget-view+json": {
       "model_id": "8ad86f00a5ba41dfaf33d7edfaf06ad6",
       "version_major": 2,
       "version_minor": 0
      },
      "text/plain": [
       "  0%|                                                                                                         …"
      ]
     },
     "metadata": {},
     "output_type": "display_data"
    },
    {
     "name": "stdout",
     "output_type": "stream",
     "text": [
      "/home/wmnlab/F/results/20240329_160006be6c_new_dataset_sync/dr_results/dr_20240329_1700005690/20240329_20214200000_b533c4363fdced4b_adjust/\\home\\wmnlab\\F\\database\\2024-03-19\\UDP_Bandlock_9S_Phone_BR\\sm00\\#02\\data\\udp_dnlk_loss_latency\\home\\wmnlab\\F\\database\\2024-03-19\\UDP_Bandlock_9S_Phone_BR\\sm05\\#02\\data\\udp_dnlk_loss_latency.csv\n",
      "41/72 /home/wmnlab/F/database/2024-03-19/UDP_Bandlock_9S_Phone_BR/sm00/#02/data/handover_info_log.csv\n",
      "41/72 /home/wmnlab/F/database/2024-03-19/UDP_Bandlock_9S_Phone_BR/sm00/#02/data/udp_dnlk_loss_latency.csv\n",
      "41/72 /home/wmnlab/F/database/2024-03-19/UDP_Bandlock_9S_Phone_BR/sm00/#02/data/udp_uplk_loss_latency.csv\n",
      "41/72 /home/wmnlab/F/database/2024-03-19/UDP_Bandlock_9S_Phone_BR/sm06/#02/data/handover_info_log.csv\n",
      "41/72 /home/wmnlab/F/database/2024-03-19/UDP_Bandlock_9S_Phone_BR/sm06/#02/data/udp_dnlk_loss_latency.csv\n",
      "41/72 /home/wmnlab/F/database/2024-03-19/UDP_Bandlock_9S_Phone_BR/sm06/#02/data/udp_uplk_loss_latency.csv\n"
     ]
    },
    {
     "data": {
      "application/vnd.jupyter.widget-view+json": {
       "model_id": "58c2fbb7f69c40749fbd2ff8e96f1261",
       "version_major": 2,
       "version_minor": 0
      },
      "text/plain": [
       "  0%|                                                                                                         …"
      ]
     },
     "metadata": {},
     "output_type": "display_data"
    },
    {
     "name": "stdout",
     "output_type": "stream",
     "text": [
      "/home/wmnlab/F/results/20240329_160006be6c_new_dataset_sync/dr_results/dr_20240329_1700005690/20240329_20214200000_b533c4363fdced4b_adjust/\\home\\wmnlab\\F\\database\\2024-03-19\\UDP_Bandlock_9S_Phone_BR\\sm00\\#02\\data\\udp_dnlk_loss_latency\\home\\wmnlab\\F\\database\\2024-03-19\\UDP_Bandlock_9S_Phone_BR\\sm06\\#02\\data\\udp_dnlk_loss_latency.csv\n",
      "42/72 /home/wmnlab/F/database/2024-03-19/UDP_Bandlock_9S_Phone_BR/sm00/#02/data/handover_info_log.csv\n",
      "42/72 /home/wmnlab/F/database/2024-03-19/UDP_Bandlock_9S_Phone_BR/sm00/#02/data/udp_dnlk_loss_latency.csv\n",
      "42/72 /home/wmnlab/F/database/2024-03-19/UDP_Bandlock_9S_Phone_BR/sm00/#02/data/udp_uplk_loss_latency.csv\n",
      "42/72 /home/wmnlab/F/database/2024-03-19/UDP_Bandlock_9S_Phone_BR/sm07/#02/data/handover_info_log.csv\n",
      "42/72 /home/wmnlab/F/database/2024-03-19/UDP_Bandlock_9S_Phone_BR/sm07/#02/data/udp_dnlk_loss_latency.csv\n",
      "42/72 /home/wmnlab/F/database/2024-03-19/UDP_Bandlock_9S_Phone_BR/sm07/#02/data/udp_uplk_loss_latency.csv\n"
     ]
    },
    {
     "data": {
      "application/vnd.jupyter.widget-view+json": {
       "model_id": "4b06ba4f98e749b6967df14c1be5cad2",
       "version_major": 2,
       "version_minor": 0
      },
      "text/plain": [
       "  0%|                                                                                                         …"
      ]
     },
     "metadata": {},
     "output_type": "display_data"
    },
    {
     "name": "stdout",
     "output_type": "stream",
     "text": [
      "/home/wmnlab/F/results/20240329_160006be6c_new_dataset_sync/dr_results/dr_20240329_1700005690/20240329_20214200000_b533c4363fdced4b_adjust/\\home\\wmnlab\\F\\database\\2024-03-19\\UDP_Bandlock_9S_Phone_BR\\sm00\\#02\\data\\udp_dnlk_loss_latency\\home\\wmnlab\\F\\database\\2024-03-19\\UDP_Bandlock_9S_Phone_BR\\sm07\\#02\\data\\udp_dnlk_loss_latency.csv\n",
      "43/72 /home/wmnlab/F/database/2024-03-19/UDP_Bandlock_9S_Phone_BR/sm00/#02/data/handover_info_log.csv\n",
      "43/72 /home/wmnlab/F/database/2024-03-19/UDP_Bandlock_9S_Phone_BR/sm00/#02/data/udp_dnlk_loss_latency.csv\n",
      "43/72 /home/wmnlab/F/database/2024-03-19/UDP_Bandlock_9S_Phone_BR/sm00/#02/data/udp_uplk_loss_latency.csv\n",
      "43/72 /home/wmnlab/F/database/2024-03-19/UDP_Bandlock_9S_Phone_BR/sm08/#02/data/handover_info_log.csv\n",
      "43/72 /home/wmnlab/F/database/2024-03-19/UDP_Bandlock_9S_Phone_BR/sm08/#02/data/udp_dnlk_loss_latency.csv\n",
      "43/72 /home/wmnlab/F/database/2024-03-19/UDP_Bandlock_9S_Phone_BR/sm08/#02/data/udp_uplk_loss_latency.csv\n"
     ]
    },
    {
     "data": {
      "application/vnd.jupyter.widget-view+json": {
       "model_id": "da74bf6e7ee7471d8bc754d0f5d84cfd",
       "version_major": 2,
       "version_minor": 0
      },
      "text/plain": [
       "  0%|                                                                                                         …"
      ]
     },
     "metadata": {},
     "output_type": "display_data"
    },
    {
     "name": "stdout",
     "output_type": "stream",
     "text": [
      "/home/wmnlab/F/results/20240329_160006be6c_new_dataset_sync/dr_results/dr_20240329_1700005690/20240329_20214200000_b533c4363fdced4b_adjust/\\home\\wmnlab\\F\\database\\2024-03-19\\UDP_Bandlock_9S_Phone_BR\\sm00\\#02\\data\\udp_dnlk_loss_latency\\home\\wmnlab\\F\\database\\2024-03-19\\UDP_Bandlock_9S_Phone_BR\\sm08\\#02\\data\\udp_dnlk_loss_latency.csv\n",
      "44/72 /home/wmnlab/F/database/2024-03-19/UDP_Bandlock_9S_Phone_BR/sm01/#02/data/handover_info_log.csv\n",
      "44/72 /home/wmnlab/F/database/2024-03-19/UDP_Bandlock_9S_Phone_BR/sm01/#02/data/udp_dnlk_loss_latency.csv\n",
      "44/72 /home/wmnlab/F/database/2024-03-19/UDP_Bandlock_9S_Phone_BR/sm01/#02/data/udp_uplk_loss_latency.csv\n",
      "44/72 /home/wmnlab/F/database/2024-03-19/UDP_Bandlock_9S_Phone_BR/sm02/#02/data/handover_info_log.csv\n",
      "44/72 /home/wmnlab/F/database/2024-03-19/UDP_Bandlock_9S_Phone_BR/sm02/#02/data/udp_dnlk_loss_latency.csv\n",
      "44/72 /home/wmnlab/F/database/2024-03-19/UDP_Bandlock_9S_Phone_BR/sm02/#02/data/udp_uplk_loss_latency.csv\n"
     ]
    },
    {
     "data": {
      "application/vnd.jupyter.widget-view+json": {
       "model_id": "27c1c21b6e804932bad94716ee6c65ee",
       "version_major": 2,
       "version_minor": 0
      },
      "text/plain": [
       "  0%|                                                                                                         …"
      ]
     },
     "metadata": {},
     "output_type": "display_data"
    },
    {
     "name": "stdout",
     "output_type": "stream",
     "text": [
      "/home/wmnlab/F/results/20240329_160006be6c_new_dataset_sync/dr_results/dr_20240329_1700005690/20240329_20214200000_b533c4363fdced4b_adjust/\\home\\wmnlab\\F\\database\\2024-03-19\\UDP_Bandlock_9S_Phone_BR\\sm01\\#02\\data\\udp_dnlk_loss_latency\\home\\wmnlab\\F\\database\\2024-03-19\\UDP_Bandlock_9S_Phone_BR\\sm02\\#02\\data\\udp_dnlk_loss_latency.csv\n",
      "45/72 /home/wmnlab/F/database/2024-03-19/UDP_Bandlock_9S_Phone_BR/sm01/#02/data/handover_info_log.csv\n",
      "45/72 /home/wmnlab/F/database/2024-03-19/UDP_Bandlock_9S_Phone_BR/sm01/#02/data/udp_dnlk_loss_latency.csv\n",
      "45/72 /home/wmnlab/F/database/2024-03-19/UDP_Bandlock_9S_Phone_BR/sm01/#02/data/udp_uplk_loss_latency.csv\n",
      "45/72 /home/wmnlab/F/database/2024-03-19/UDP_Bandlock_9S_Phone_BR/sm03/#02/data/handover_info_log.csv\n",
      "45/72 /home/wmnlab/F/database/2024-03-19/UDP_Bandlock_9S_Phone_BR/sm03/#02/data/udp_dnlk_loss_latency.csv\n",
      "45/72 /home/wmnlab/F/database/2024-03-19/UDP_Bandlock_9S_Phone_BR/sm03/#02/data/udp_uplk_loss_latency.csv\n"
     ]
    },
    {
     "data": {
      "application/vnd.jupyter.widget-view+json": {
       "model_id": "751815b2257b43858d184a9a7b0cae19",
       "version_major": 2,
       "version_minor": 0
      },
      "text/plain": [
       "  0%|                                                                                                         …"
      ]
     },
     "metadata": {},
     "output_type": "display_data"
    },
    {
     "name": "stdout",
     "output_type": "stream",
     "text": [
      "/home/wmnlab/F/results/20240329_160006be6c_new_dataset_sync/dr_results/dr_20240329_1700005690/20240329_20214200000_b533c4363fdced4b_adjust/\\home\\wmnlab\\F\\database\\2024-03-19\\UDP_Bandlock_9S_Phone_BR\\sm01\\#02\\data\\udp_dnlk_loss_latency\\home\\wmnlab\\F\\database\\2024-03-19\\UDP_Bandlock_9S_Phone_BR\\sm03\\#02\\data\\udp_dnlk_loss_latency.csv\n",
      "46/72 /home/wmnlab/F/database/2024-03-19/UDP_Bandlock_9S_Phone_BR/sm01/#02/data/handover_info_log.csv\n",
      "46/72 /home/wmnlab/F/database/2024-03-19/UDP_Bandlock_9S_Phone_BR/sm01/#02/data/udp_dnlk_loss_latency.csv\n",
      "46/72 /home/wmnlab/F/database/2024-03-19/UDP_Bandlock_9S_Phone_BR/sm01/#02/data/udp_uplk_loss_latency.csv\n",
      "46/72 /home/wmnlab/F/database/2024-03-19/UDP_Bandlock_9S_Phone_BR/sm04/#02/data/handover_info_log.csv\n",
      "46/72 /home/wmnlab/F/database/2024-03-19/UDP_Bandlock_9S_Phone_BR/sm04/#02/data/udp_dnlk_loss_latency.csv\n",
      "46/72 /home/wmnlab/F/database/2024-03-19/UDP_Bandlock_9S_Phone_BR/sm04/#02/data/udp_uplk_loss_latency.csv\n"
     ]
    },
    {
     "data": {
      "application/vnd.jupyter.widget-view+json": {
       "model_id": "2eed51eaf58d47988a095e761e496bc9",
       "version_major": 2,
       "version_minor": 0
      },
      "text/plain": [
       "  0%|                                                                                                         …"
      ]
     },
     "metadata": {},
     "output_type": "display_data"
    },
    {
     "name": "stdout",
     "output_type": "stream",
     "text": [
      "/home/wmnlab/F/results/20240329_160006be6c_new_dataset_sync/dr_results/dr_20240329_1700005690/20240329_20214200000_b533c4363fdced4b_adjust/\\home\\wmnlab\\F\\database\\2024-03-19\\UDP_Bandlock_9S_Phone_BR\\sm01\\#02\\data\\udp_dnlk_loss_latency\\home\\wmnlab\\F\\database\\2024-03-19\\UDP_Bandlock_9S_Phone_BR\\sm04\\#02\\data\\udp_dnlk_loss_latency.csv\n",
      "47/72 /home/wmnlab/F/database/2024-03-19/UDP_Bandlock_9S_Phone_BR/sm01/#02/data/handover_info_log.csv\n",
      "47/72 /home/wmnlab/F/database/2024-03-19/UDP_Bandlock_9S_Phone_BR/sm01/#02/data/udp_dnlk_loss_latency.csv\n",
      "47/72 /home/wmnlab/F/database/2024-03-19/UDP_Bandlock_9S_Phone_BR/sm01/#02/data/udp_uplk_loss_latency.csv\n",
      "47/72 /home/wmnlab/F/database/2024-03-19/UDP_Bandlock_9S_Phone_BR/sm05/#02/data/handover_info_log.csv\n",
      "47/72 /home/wmnlab/F/database/2024-03-19/UDP_Bandlock_9S_Phone_BR/sm05/#02/data/udp_dnlk_loss_latency.csv\n",
      "47/72 /home/wmnlab/F/database/2024-03-19/UDP_Bandlock_9S_Phone_BR/sm05/#02/data/udp_uplk_loss_latency.csv\n"
     ]
    },
    {
     "data": {
      "application/vnd.jupyter.widget-view+json": {
       "model_id": "c526e6e015844765951b7f73c31c9cda",
       "version_major": 2,
       "version_minor": 0
      },
      "text/plain": [
       "  0%|                                                                                                         …"
      ]
     },
     "metadata": {},
     "output_type": "display_data"
    },
    {
     "name": "stdout",
     "output_type": "stream",
     "text": [
      "/home/wmnlab/F/results/20240329_160006be6c_new_dataset_sync/dr_results/dr_20240329_1700005690/20240329_20214200000_b533c4363fdced4b_adjust/\\home\\wmnlab\\F\\database\\2024-03-19\\UDP_Bandlock_9S_Phone_BR\\sm01\\#02\\data\\udp_dnlk_loss_latency\\home\\wmnlab\\F\\database\\2024-03-19\\UDP_Bandlock_9S_Phone_BR\\sm05\\#02\\data\\udp_dnlk_loss_latency.csv\n",
      "48/72 /home/wmnlab/F/database/2024-03-19/UDP_Bandlock_9S_Phone_BR/sm01/#02/data/handover_info_log.csv\n",
      "48/72 /home/wmnlab/F/database/2024-03-19/UDP_Bandlock_9S_Phone_BR/sm01/#02/data/udp_dnlk_loss_latency.csv\n",
      "48/72 /home/wmnlab/F/database/2024-03-19/UDP_Bandlock_9S_Phone_BR/sm01/#02/data/udp_uplk_loss_latency.csv\n",
      "48/72 /home/wmnlab/F/database/2024-03-19/UDP_Bandlock_9S_Phone_BR/sm06/#02/data/handover_info_log.csv\n",
      "48/72 /home/wmnlab/F/database/2024-03-19/UDP_Bandlock_9S_Phone_BR/sm06/#02/data/udp_dnlk_loss_latency.csv\n",
      "48/72 /home/wmnlab/F/database/2024-03-19/UDP_Bandlock_9S_Phone_BR/sm06/#02/data/udp_uplk_loss_latency.csv\n"
     ]
    },
    {
     "data": {
      "application/vnd.jupyter.widget-view+json": {
       "model_id": "a2e4dac490264f918d231d1d5c1fd06d",
       "version_major": 2,
       "version_minor": 0
      },
      "text/plain": [
       "  0%|                                                                                                         …"
      ]
     },
     "metadata": {},
     "output_type": "display_data"
    },
    {
     "name": "stdout",
     "output_type": "stream",
     "text": [
      "/home/wmnlab/F/results/20240329_160006be6c_new_dataset_sync/dr_results/dr_20240329_1700005690/20240329_20214200000_b533c4363fdced4b_adjust/\\home\\wmnlab\\F\\database\\2024-03-19\\UDP_Bandlock_9S_Phone_BR\\sm01\\#02\\data\\udp_dnlk_loss_latency\\home\\wmnlab\\F\\database\\2024-03-19\\UDP_Bandlock_9S_Phone_BR\\sm06\\#02\\data\\udp_dnlk_loss_latency.csv\n",
      "49/72 /home/wmnlab/F/database/2024-03-19/UDP_Bandlock_9S_Phone_BR/sm01/#02/data/handover_info_log.csv\n",
      "49/72 /home/wmnlab/F/database/2024-03-19/UDP_Bandlock_9S_Phone_BR/sm01/#02/data/udp_dnlk_loss_latency.csv\n",
      "49/72 /home/wmnlab/F/database/2024-03-19/UDP_Bandlock_9S_Phone_BR/sm01/#02/data/udp_uplk_loss_latency.csv\n",
      "49/72 /home/wmnlab/F/database/2024-03-19/UDP_Bandlock_9S_Phone_BR/sm07/#02/data/handover_info_log.csv\n",
      "49/72 /home/wmnlab/F/database/2024-03-19/UDP_Bandlock_9S_Phone_BR/sm07/#02/data/udp_dnlk_loss_latency.csv\n",
      "49/72 /home/wmnlab/F/database/2024-03-19/UDP_Bandlock_9S_Phone_BR/sm07/#02/data/udp_uplk_loss_latency.csv\n"
     ]
    },
    {
     "data": {
      "application/vnd.jupyter.widget-view+json": {
       "model_id": "b02500d0939a459db3fb14b06088f29a",
       "version_major": 2,
       "version_minor": 0
      },
      "text/plain": [
       "  0%|                                                                                                         …"
      ]
     },
     "metadata": {},
     "output_type": "display_data"
    },
    {
     "name": "stdout",
     "output_type": "stream",
     "text": [
      "/home/wmnlab/F/results/20240329_160006be6c_new_dataset_sync/dr_results/dr_20240329_1700005690/20240329_20214200000_b533c4363fdced4b_adjust/\\home\\wmnlab\\F\\database\\2024-03-19\\UDP_Bandlock_9S_Phone_BR\\sm01\\#02\\data\\udp_dnlk_loss_latency\\home\\wmnlab\\F\\database\\2024-03-19\\UDP_Bandlock_9S_Phone_BR\\sm07\\#02\\data\\udp_dnlk_loss_latency.csv\n",
      "50/72 /home/wmnlab/F/database/2024-03-19/UDP_Bandlock_9S_Phone_BR/sm01/#02/data/handover_info_log.csv\n",
      "50/72 /home/wmnlab/F/database/2024-03-19/UDP_Bandlock_9S_Phone_BR/sm01/#02/data/udp_dnlk_loss_latency.csv\n",
      "50/72 /home/wmnlab/F/database/2024-03-19/UDP_Bandlock_9S_Phone_BR/sm01/#02/data/udp_uplk_loss_latency.csv\n",
      "50/72 /home/wmnlab/F/database/2024-03-19/UDP_Bandlock_9S_Phone_BR/sm08/#02/data/handover_info_log.csv\n",
      "50/72 /home/wmnlab/F/database/2024-03-19/UDP_Bandlock_9S_Phone_BR/sm08/#02/data/udp_dnlk_loss_latency.csv\n",
      "50/72 /home/wmnlab/F/database/2024-03-19/UDP_Bandlock_9S_Phone_BR/sm08/#02/data/udp_uplk_loss_latency.csv\n"
     ]
    },
    {
     "data": {
      "application/vnd.jupyter.widget-view+json": {
       "model_id": "a0e470ca692944699fe90b4d037c784f",
       "version_major": 2,
       "version_minor": 0
      },
      "text/plain": [
       "  0%|                                                                                                         …"
      ]
     },
     "metadata": {},
     "output_type": "display_data"
    },
    {
     "name": "stdout",
     "output_type": "stream",
     "text": [
      "/home/wmnlab/F/results/20240329_160006be6c_new_dataset_sync/dr_results/dr_20240329_1700005690/20240329_20214200000_b533c4363fdced4b_adjust/\\home\\wmnlab\\F\\database\\2024-03-19\\UDP_Bandlock_9S_Phone_BR\\sm01\\#02\\data\\udp_dnlk_loss_latency\\home\\wmnlab\\F\\database\\2024-03-19\\UDP_Bandlock_9S_Phone_BR\\sm08\\#02\\data\\udp_dnlk_loss_latency.csv\n",
      "51/72 /home/wmnlab/F/database/2024-03-19/UDP_Bandlock_9S_Phone_BR/sm02/#02/data/handover_info_log.csv\n",
      "51/72 /home/wmnlab/F/database/2024-03-19/UDP_Bandlock_9S_Phone_BR/sm02/#02/data/udp_dnlk_loss_latency.csv\n",
      "51/72 /home/wmnlab/F/database/2024-03-19/UDP_Bandlock_9S_Phone_BR/sm02/#02/data/udp_uplk_loss_latency.csv\n",
      "51/72 /home/wmnlab/F/database/2024-03-19/UDP_Bandlock_9S_Phone_BR/sm03/#02/data/handover_info_log.csv\n",
      "51/72 /home/wmnlab/F/database/2024-03-19/UDP_Bandlock_9S_Phone_BR/sm03/#02/data/udp_dnlk_loss_latency.csv\n",
      "51/72 /home/wmnlab/F/database/2024-03-19/UDP_Bandlock_9S_Phone_BR/sm03/#02/data/udp_uplk_loss_latency.csv\n"
     ]
    },
    {
     "data": {
      "application/vnd.jupyter.widget-view+json": {
       "model_id": "07ccfa2d85824f5097c303fd234b9942",
       "version_major": 2,
       "version_minor": 0
      },
      "text/plain": [
       "  0%|                                                                                                         …"
      ]
     },
     "metadata": {},
     "output_type": "display_data"
    },
    {
     "name": "stdout",
     "output_type": "stream",
     "text": [
      "/home/wmnlab/F/results/20240329_160006be6c_new_dataset_sync/dr_results/dr_20240329_1700005690/20240329_20214200000_b533c4363fdced4b_adjust/\\home\\wmnlab\\F\\database\\2024-03-19\\UDP_Bandlock_9S_Phone_BR\\sm02\\#02\\data\\udp_dnlk_loss_latency\\home\\wmnlab\\F\\database\\2024-03-19\\UDP_Bandlock_9S_Phone_BR\\sm03\\#02\\data\\udp_dnlk_loss_latency.csv\n",
      "52/72 /home/wmnlab/F/database/2024-03-19/UDP_Bandlock_9S_Phone_BR/sm02/#02/data/handover_info_log.csv\n",
      "52/72 /home/wmnlab/F/database/2024-03-19/UDP_Bandlock_9S_Phone_BR/sm02/#02/data/udp_dnlk_loss_latency.csv\n",
      "52/72 /home/wmnlab/F/database/2024-03-19/UDP_Bandlock_9S_Phone_BR/sm02/#02/data/udp_uplk_loss_latency.csv\n",
      "52/72 /home/wmnlab/F/database/2024-03-19/UDP_Bandlock_9S_Phone_BR/sm04/#02/data/handover_info_log.csv\n",
      "52/72 /home/wmnlab/F/database/2024-03-19/UDP_Bandlock_9S_Phone_BR/sm04/#02/data/udp_dnlk_loss_latency.csv\n",
      "52/72 /home/wmnlab/F/database/2024-03-19/UDP_Bandlock_9S_Phone_BR/sm04/#02/data/udp_uplk_loss_latency.csv\n"
     ]
    },
    {
     "data": {
      "application/vnd.jupyter.widget-view+json": {
       "model_id": "98f54fdb552845bf9b4f64fdc5047553",
       "version_major": 2,
       "version_minor": 0
      },
      "text/plain": [
       "  0%|                                                                                                         …"
      ]
     },
     "metadata": {},
     "output_type": "display_data"
    },
    {
     "name": "stdout",
     "output_type": "stream",
     "text": [
      "/home/wmnlab/F/results/20240329_160006be6c_new_dataset_sync/dr_results/dr_20240329_1700005690/20240329_20214200000_b533c4363fdced4b_adjust/\\home\\wmnlab\\F\\database\\2024-03-19\\UDP_Bandlock_9S_Phone_BR\\sm02\\#02\\data\\udp_dnlk_loss_latency\\home\\wmnlab\\F\\database\\2024-03-19\\UDP_Bandlock_9S_Phone_BR\\sm04\\#02\\data\\udp_dnlk_loss_latency.csv\n",
      "53/72 /home/wmnlab/F/database/2024-03-19/UDP_Bandlock_9S_Phone_BR/sm02/#02/data/handover_info_log.csv\n",
      "53/72 /home/wmnlab/F/database/2024-03-19/UDP_Bandlock_9S_Phone_BR/sm02/#02/data/udp_dnlk_loss_latency.csv\n",
      "53/72 /home/wmnlab/F/database/2024-03-19/UDP_Bandlock_9S_Phone_BR/sm02/#02/data/udp_uplk_loss_latency.csv\n",
      "53/72 /home/wmnlab/F/database/2024-03-19/UDP_Bandlock_9S_Phone_BR/sm05/#02/data/handover_info_log.csv\n",
      "53/72 /home/wmnlab/F/database/2024-03-19/UDP_Bandlock_9S_Phone_BR/sm05/#02/data/udp_dnlk_loss_latency.csv\n",
      "53/72 /home/wmnlab/F/database/2024-03-19/UDP_Bandlock_9S_Phone_BR/sm05/#02/data/udp_uplk_loss_latency.csv\n"
     ]
    },
    {
     "data": {
      "application/vnd.jupyter.widget-view+json": {
       "model_id": "0f8fa47740ff4281a80296c1b531f8c1",
       "version_major": 2,
       "version_minor": 0
      },
      "text/plain": [
       "  0%|                                                                                                         …"
      ]
     },
     "metadata": {},
     "output_type": "display_data"
    },
    {
     "name": "stdout",
     "output_type": "stream",
     "text": [
      "/home/wmnlab/F/results/20240329_160006be6c_new_dataset_sync/dr_results/dr_20240329_1700005690/20240329_20214200000_b533c4363fdced4b_adjust/\\home\\wmnlab\\F\\database\\2024-03-19\\UDP_Bandlock_9S_Phone_BR\\sm02\\#02\\data\\udp_dnlk_loss_latency\\home\\wmnlab\\F\\database\\2024-03-19\\UDP_Bandlock_9S_Phone_BR\\sm05\\#02\\data\\udp_dnlk_loss_latency.csv\n",
      "54/72 /home/wmnlab/F/database/2024-03-19/UDP_Bandlock_9S_Phone_BR/sm02/#02/data/handover_info_log.csv\n",
      "54/72 /home/wmnlab/F/database/2024-03-19/UDP_Bandlock_9S_Phone_BR/sm02/#02/data/udp_dnlk_loss_latency.csv\n",
      "54/72 /home/wmnlab/F/database/2024-03-19/UDP_Bandlock_9S_Phone_BR/sm02/#02/data/udp_uplk_loss_latency.csv\n",
      "54/72 /home/wmnlab/F/database/2024-03-19/UDP_Bandlock_9S_Phone_BR/sm06/#02/data/handover_info_log.csv\n",
      "54/72 /home/wmnlab/F/database/2024-03-19/UDP_Bandlock_9S_Phone_BR/sm06/#02/data/udp_dnlk_loss_latency.csv\n",
      "54/72 /home/wmnlab/F/database/2024-03-19/UDP_Bandlock_9S_Phone_BR/sm06/#02/data/udp_uplk_loss_latency.csv\n"
     ]
    },
    {
     "data": {
      "application/vnd.jupyter.widget-view+json": {
       "model_id": "419f38eea57f488f84da460fc38ff9fa",
       "version_major": 2,
       "version_minor": 0
      },
      "text/plain": [
       "  0%|                                                                                                         …"
      ]
     },
     "metadata": {},
     "output_type": "display_data"
    },
    {
     "name": "stdout",
     "output_type": "stream",
     "text": [
      "/home/wmnlab/F/results/20240329_160006be6c_new_dataset_sync/dr_results/dr_20240329_1700005690/20240329_20214200000_b533c4363fdced4b_adjust/\\home\\wmnlab\\F\\database\\2024-03-19\\UDP_Bandlock_9S_Phone_BR\\sm02\\#02\\data\\udp_dnlk_loss_latency\\home\\wmnlab\\F\\database\\2024-03-19\\UDP_Bandlock_9S_Phone_BR\\sm06\\#02\\data\\udp_dnlk_loss_latency.csv\n",
      "55/72 /home/wmnlab/F/database/2024-03-19/UDP_Bandlock_9S_Phone_BR/sm02/#02/data/handover_info_log.csv\n",
      "55/72 /home/wmnlab/F/database/2024-03-19/UDP_Bandlock_9S_Phone_BR/sm02/#02/data/udp_dnlk_loss_latency.csv\n",
      "55/72 /home/wmnlab/F/database/2024-03-19/UDP_Bandlock_9S_Phone_BR/sm02/#02/data/udp_uplk_loss_latency.csv\n",
      "55/72 /home/wmnlab/F/database/2024-03-19/UDP_Bandlock_9S_Phone_BR/sm07/#02/data/handover_info_log.csv\n",
      "55/72 /home/wmnlab/F/database/2024-03-19/UDP_Bandlock_9S_Phone_BR/sm07/#02/data/udp_dnlk_loss_latency.csv\n",
      "55/72 /home/wmnlab/F/database/2024-03-19/UDP_Bandlock_9S_Phone_BR/sm07/#02/data/udp_uplk_loss_latency.csv\n"
     ]
    },
    {
     "data": {
      "application/vnd.jupyter.widget-view+json": {
       "model_id": "426f3d7f843249fc8e61d6371bc6fafb",
       "version_major": 2,
       "version_minor": 0
      },
      "text/plain": [
       "  0%|                                                                                                         …"
      ]
     },
     "metadata": {},
     "output_type": "display_data"
    },
    {
     "name": "stdout",
     "output_type": "stream",
     "text": [
      "/home/wmnlab/F/results/20240329_160006be6c_new_dataset_sync/dr_results/dr_20240329_1700005690/20240329_20214200000_b533c4363fdced4b_adjust/\\home\\wmnlab\\F\\database\\2024-03-19\\UDP_Bandlock_9S_Phone_BR\\sm02\\#02\\data\\udp_dnlk_loss_latency\\home\\wmnlab\\F\\database\\2024-03-19\\UDP_Bandlock_9S_Phone_BR\\sm07\\#02\\data\\udp_dnlk_loss_latency.csv\n",
      "56/72 /home/wmnlab/F/database/2024-03-19/UDP_Bandlock_9S_Phone_BR/sm02/#02/data/handover_info_log.csv\n",
      "56/72 /home/wmnlab/F/database/2024-03-19/UDP_Bandlock_9S_Phone_BR/sm02/#02/data/udp_dnlk_loss_latency.csv\n",
      "56/72 /home/wmnlab/F/database/2024-03-19/UDP_Bandlock_9S_Phone_BR/sm02/#02/data/udp_uplk_loss_latency.csv\n",
      "56/72 /home/wmnlab/F/database/2024-03-19/UDP_Bandlock_9S_Phone_BR/sm08/#02/data/handover_info_log.csv\n",
      "56/72 /home/wmnlab/F/database/2024-03-19/UDP_Bandlock_9S_Phone_BR/sm08/#02/data/udp_dnlk_loss_latency.csv\n",
      "56/72 /home/wmnlab/F/database/2024-03-19/UDP_Bandlock_9S_Phone_BR/sm08/#02/data/udp_uplk_loss_latency.csv\n"
     ]
    },
    {
     "data": {
      "application/vnd.jupyter.widget-view+json": {
       "model_id": "5ddb53c4aeba45adae634aee47f32df8",
       "version_major": 2,
       "version_minor": 0
      },
      "text/plain": [
       "  0%|                                                                                                         …"
      ]
     },
     "metadata": {},
     "output_type": "display_data"
    },
    {
     "name": "stdout",
     "output_type": "stream",
     "text": [
      "/home/wmnlab/F/results/20240329_160006be6c_new_dataset_sync/dr_results/dr_20240329_1700005690/20240329_20214200000_b533c4363fdced4b_adjust/\\home\\wmnlab\\F\\database\\2024-03-19\\UDP_Bandlock_9S_Phone_BR\\sm02\\#02\\data\\udp_dnlk_loss_latency\\home\\wmnlab\\F\\database\\2024-03-19\\UDP_Bandlock_9S_Phone_BR\\sm08\\#02\\data\\udp_dnlk_loss_latency.csv\n",
      "57/72 /home/wmnlab/F/database/2024-03-19/UDP_Bandlock_9S_Phone_BR/sm03/#02/data/handover_info_log.csv\n",
      "57/72 /home/wmnlab/F/database/2024-03-19/UDP_Bandlock_9S_Phone_BR/sm03/#02/data/udp_dnlk_loss_latency.csv\n",
      "57/72 /home/wmnlab/F/database/2024-03-19/UDP_Bandlock_9S_Phone_BR/sm03/#02/data/udp_uplk_loss_latency.csv\n",
      "57/72 /home/wmnlab/F/database/2024-03-19/UDP_Bandlock_9S_Phone_BR/sm04/#02/data/handover_info_log.csv\n",
      "57/72 /home/wmnlab/F/database/2024-03-19/UDP_Bandlock_9S_Phone_BR/sm04/#02/data/udp_dnlk_loss_latency.csv\n",
      "57/72 /home/wmnlab/F/database/2024-03-19/UDP_Bandlock_9S_Phone_BR/sm04/#02/data/udp_uplk_loss_latency.csv\n"
     ]
    },
    {
     "data": {
      "application/vnd.jupyter.widget-view+json": {
       "model_id": "097552fee811430e9ef03579fcbf83d1",
       "version_major": 2,
       "version_minor": 0
      },
      "text/plain": [
       "  0%|                                                                                                         …"
      ]
     },
     "metadata": {},
     "output_type": "display_data"
    },
    {
     "name": "stdout",
     "output_type": "stream",
     "text": [
      "/home/wmnlab/F/results/20240329_160006be6c_new_dataset_sync/dr_results/dr_20240329_1700005690/20240329_20214200000_b533c4363fdced4b_adjust/\\home\\wmnlab\\F\\database\\2024-03-19\\UDP_Bandlock_9S_Phone_BR\\sm03\\#02\\data\\udp_dnlk_loss_latency\\home\\wmnlab\\F\\database\\2024-03-19\\UDP_Bandlock_9S_Phone_BR\\sm04\\#02\\data\\udp_dnlk_loss_latency.csv\n",
      "58/72 /home/wmnlab/F/database/2024-03-19/UDP_Bandlock_9S_Phone_BR/sm03/#02/data/handover_info_log.csv\n",
      "58/72 /home/wmnlab/F/database/2024-03-19/UDP_Bandlock_9S_Phone_BR/sm03/#02/data/udp_dnlk_loss_latency.csv\n",
      "58/72 /home/wmnlab/F/database/2024-03-19/UDP_Bandlock_9S_Phone_BR/sm03/#02/data/udp_uplk_loss_latency.csv\n",
      "58/72 /home/wmnlab/F/database/2024-03-19/UDP_Bandlock_9S_Phone_BR/sm05/#02/data/handover_info_log.csv\n",
      "58/72 /home/wmnlab/F/database/2024-03-19/UDP_Bandlock_9S_Phone_BR/sm05/#02/data/udp_dnlk_loss_latency.csv\n",
      "58/72 /home/wmnlab/F/database/2024-03-19/UDP_Bandlock_9S_Phone_BR/sm05/#02/data/udp_uplk_loss_latency.csv\n"
     ]
    },
    {
     "data": {
      "application/vnd.jupyter.widget-view+json": {
       "model_id": "f5d9b86e57fe4d1aa8c24b2e5a53d827",
       "version_major": 2,
       "version_minor": 0
      },
      "text/plain": [
       "  0%|                                                                                                         …"
      ]
     },
     "metadata": {},
     "output_type": "display_data"
    },
    {
     "name": "stdout",
     "output_type": "stream",
     "text": [
      "/home/wmnlab/F/results/20240329_160006be6c_new_dataset_sync/dr_results/dr_20240329_1700005690/20240329_20214200000_b533c4363fdced4b_adjust/\\home\\wmnlab\\F\\database\\2024-03-19\\UDP_Bandlock_9S_Phone_BR\\sm03\\#02\\data\\udp_dnlk_loss_latency\\home\\wmnlab\\F\\database\\2024-03-19\\UDP_Bandlock_9S_Phone_BR\\sm05\\#02\\data\\udp_dnlk_loss_latency.csv\n",
      "59/72 /home/wmnlab/F/database/2024-03-19/UDP_Bandlock_9S_Phone_BR/sm03/#02/data/handover_info_log.csv\n",
      "59/72 /home/wmnlab/F/database/2024-03-19/UDP_Bandlock_9S_Phone_BR/sm03/#02/data/udp_dnlk_loss_latency.csv\n",
      "59/72 /home/wmnlab/F/database/2024-03-19/UDP_Bandlock_9S_Phone_BR/sm03/#02/data/udp_uplk_loss_latency.csv\n",
      "59/72 /home/wmnlab/F/database/2024-03-19/UDP_Bandlock_9S_Phone_BR/sm06/#02/data/handover_info_log.csv\n",
      "59/72 /home/wmnlab/F/database/2024-03-19/UDP_Bandlock_9S_Phone_BR/sm06/#02/data/udp_dnlk_loss_latency.csv\n",
      "59/72 /home/wmnlab/F/database/2024-03-19/UDP_Bandlock_9S_Phone_BR/sm06/#02/data/udp_uplk_loss_latency.csv\n"
     ]
    },
    {
     "data": {
      "application/vnd.jupyter.widget-view+json": {
       "model_id": "565c3421d34345a79845fa6058710ec4",
       "version_major": 2,
       "version_minor": 0
      },
      "text/plain": [
       "  0%|                                                                                                         …"
      ]
     },
     "metadata": {},
     "output_type": "display_data"
    },
    {
     "name": "stdout",
     "output_type": "stream",
     "text": [
      "/home/wmnlab/F/results/20240329_160006be6c_new_dataset_sync/dr_results/dr_20240329_1700005690/20240329_20214200000_b533c4363fdced4b_adjust/\\home\\wmnlab\\F\\database\\2024-03-19\\UDP_Bandlock_9S_Phone_BR\\sm03\\#02\\data\\udp_dnlk_loss_latency\\home\\wmnlab\\F\\database\\2024-03-19\\UDP_Bandlock_9S_Phone_BR\\sm06\\#02\\data\\udp_dnlk_loss_latency.csv\n",
      "60/72 /home/wmnlab/F/database/2024-03-19/UDP_Bandlock_9S_Phone_BR/sm03/#02/data/handover_info_log.csv\n",
      "60/72 /home/wmnlab/F/database/2024-03-19/UDP_Bandlock_9S_Phone_BR/sm03/#02/data/udp_dnlk_loss_latency.csv\n",
      "60/72 /home/wmnlab/F/database/2024-03-19/UDP_Bandlock_9S_Phone_BR/sm03/#02/data/udp_uplk_loss_latency.csv\n",
      "60/72 /home/wmnlab/F/database/2024-03-19/UDP_Bandlock_9S_Phone_BR/sm07/#02/data/handover_info_log.csv\n",
      "60/72 /home/wmnlab/F/database/2024-03-19/UDP_Bandlock_9S_Phone_BR/sm07/#02/data/udp_dnlk_loss_latency.csv\n",
      "60/72 /home/wmnlab/F/database/2024-03-19/UDP_Bandlock_9S_Phone_BR/sm07/#02/data/udp_uplk_loss_latency.csv\n"
     ]
    },
    {
     "data": {
      "application/vnd.jupyter.widget-view+json": {
       "model_id": "3fb61c750cc34b8882377d1326e2bda2",
       "version_major": 2,
       "version_minor": 0
      },
      "text/plain": [
       "  0%|                                                                                                         …"
      ]
     },
     "metadata": {},
     "output_type": "display_data"
    },
    {
     "name": "stdout",
     "output_type": "stream",
     "text": [
      "/home/wmnlab/F/results/20240329_160006be6c_new_dataset_sync/dr_results/dr_20240329_1700005690/20240329_20214200000_b533c4363fdced4b_adjust/\\home\\wmnlab\\F\\database\\2024-03-19\\UDP_Bandlock_9S_Phone_BR\\sm03\\#02\\data\\udp_dnlk_loss_latency\\home\\wmnlab\\F\\database\\2024-03-19\\UDP_Bandlock_9S_Phone_BR\\sm07\\#02\\data\\udp_dnlk_loss_latency.csv\n",
      "61/72 /home/wmnlab/F/database/2024-03-19/UDP_Bandlock_9S_Phone_BR/sm03/#02/data/handover_info_log.csv\n",
      "61/72 /home/wmnlab/F/database/2024-03-19/UDP_Bandlock_9S_Phone_BR/sm03/#02/data/udp_dnlk_loss_latency.csv\n",
      "61/72 /home/wmnlab/F/database/2024-03-19/UDP_Bandlock_9S_Phone_BR/sm03/#02/data/udp_uplk_loss_latency.csv\n",
      "61/72 /home/wmnlab/F/database/2024-03-19/UDP_Bandlock_9S_Phone_BR/sm08/#02/data/handover_info_log.csv\n",
      "61/72 /home/wmnlab/F/database/2024-03-19/UDP_Bandlock_9S_Phone_BR/sm08/#02/data/udp_dnlk_loss_latency.csv\n",
      "61/72 /home/wmnlab/F/database/2024-03-19/UDP_Bandlock_9S_Phone_BR/sm08/#02/data/udp_uplk_loss_latency.csv\n"
     ]
    },
    {
     "data": {
      "application/vnd.jupyter.widget-view+json": {
       "model_id": "ca277e7c374b40acb95e5d83712b0b03",
       "version_major": 2,
       "version_minor": 0
      },
      "text/plain": [
       "  0%|                                                                                                         …"
      ]
     },
     "metadata": {},
     "output_type": "display_data"
    },
    {
     "name": "stdout",
     "output_type": "stream",
     "text": [
      "/home/wmnlab/F/results/20240329_160006be6c_new_dataset_sync/dr_results/dr_20240329_1700005690/20240329_20214200000_b533c4363fdced4b_adjust/\\home\\wmnlab\\F\\database\\2024-03-19\\UDP_Bandlock_9S_Phone_BR\\sm03\\#02\\data\\udp_dnlk_loss_latency\\home\\wmnlab\\F\\database\\2024-03-19\\UDP_Bandlock_9S_Phone_BR\\sm08\\#02\\data\\udp_dnlk_loss_latency.csv\n",
      "62/72 /home/wmnlab/F/database/2024-03-19/UDP_Bandlock_9S_Phone_BR/sm04/#02/data/handover_info_log.csv\n",
      "62/72 /home/wmnlab/F/database/2024-03-19/UDP_Bandlock_9S_Phone_BR/sm04/#02/data/udp_dnlk_loss_latency.csv\n",
      "62/72 /home/wmnlab/F/database/2024-03-19/UDP_Bandlock_9S_Phone_BR/sm04/#02/data/udp_uplk_loss_latency.csv\n",
      "62/72 /home/wmnlab/F/database/2024-03-19/UDP_Bandlock_9S_Phone_BR/sm05/#02/data/handover_info_log.csv\n",
      "62/72 /home/wmnlab/F/database/2024-03-19/UDP_Bandlock_9S_Phone_BR/sm05/#02/data/udp_dnlk_loss_latency.csv\n",
      "62/72 /home/wmnlab/F/database/2024-03-19/UDP_Bandlock_9S_Phone_BR/sm05/#02/data/udp_uplk_loss_latency.csv\n"
     ]
    },
    {
     "data": {
      "application/vnd.jupyter.widget-view+json": {
       "model_id": "a4b60105b41a4bfc9581ab7aa92af43a",
       "version_major": 2,
       "version_minor": 0
      },
      "text/plain": [
       "  0%|                                                                                                         …"
      ]
     },
     "metadata": {},
     "output_type": "display_data"
    },
    {
     "name": "stdout",
     "output_type": "stream",
     "text": [
      "/home/wmnlab/F/results/20240329_160006be6c_new_dataset_sync/dr_results/dr_20240329_1700005690/20240329_20214200000_b533c4363fdced4b_adjust/\\home\\wmnlab\\F\\database\\2024-03-19\\UDP_Bandlock_9S_Phone_BR\\sm04\\#02\\data\\udp_dnlk_loss_latency\\home\\wmnlab\\F\\database\\2024-03-19\\UDP_Bandlock_9S_Phone_BR\\sm05\\#02\\data\\udp_dnlk_loss_latency.csv\n",
      "63/72 /home/wmnlab/F/database/2024-03-19/UDP_Bandlock_9S_Phone_BR/sm04/#02/data/handover_info_log.csv\n",
      "63/72 /home/wmnlab/F/database/2024-03-19/UDP_Bandlock_9S_Phone_BR/sm04/#02/data/udp_dnlk_loss_latency.csv\n",
      "63/72 /home/wmnlab/F/database/2024-03-19/UDP_Bandlock_9S_Phone_BR/sm04/#02/data/udp_uplk_loss_latency.csv\n",
      "63/72 /home/wmnlab/F/database/2024-03-19/UDP_Bandlock_9S_Phone_BR/sm06/#02/data/handover_info_log.csv\n",
      "63/72 /home/wmnlab/F/database/2024-03-19/UDP_Bandlock_9S_Phone_BR/sm06/#02/data/udp_dnlk_loss_latency.csv\n",
      "63/72 /home/wmnlab/F/database/2024-03-19/UDP_Bandlock_9S_Phone_BR/sm06/#02/data/udp_uplk_loss_latency.csv\n"
     ]
    },
    {
     "data": {
      "application/vnd.jupyter.widget-view+json": {
       "model_id": "5ca0b924c45b48f78f517788ba72d173",
       "version_major": 2,
       "version_minor": 0
      },
      "text/plain": [
       "  0%|                                                                                                         …"
      ]
     },
     "metadata": {},
     "output_type": "display_data"
    },
    {
     "name": "stdout",
     "output_type": "stream",
     "text": [
      "/home/wmnlab/F/results/20240329_160006be6c_new_dataset_sync/dr_results/dr_20240329_1700005690/20240329_20214200000_b533c4363fdced4b_adjust/\\home\\wmnlab\\F\\database\\2024-03-19\\UDP_Bandlock_9S_Phone_BR\\sm04\\#02\\data\\udp_dnlk_loss_latency\\home\\wmnlab\\F\\database\\2024-03-19\\UDP_Bandlock_9S_Phone_BR\\sm06\\#02\\data\\udp_dnlk_loss_latency.csv\n",
      "64/72 /home/wmnlab/F/database/2024-03-19/UDP_Bandlock_9S_Phone_BR/sm04/#02/data/handover_info_log.csv\n",
      "64/72 /home/wmnlab/F/database/2024-03-19/UDP_Bandlock_9S_Phone_BR/sm04/#02/data/udp_dnlk_loss_latency.csv\n",
      "64/72 /home/wmnlab/F/database/2024-03-19/UDP_Bandlock_9S_Phone_BR/sm04/#02/data/udp_uplk_loss_latency.csv\n",
      "64/72 /home/wmnlab/F/database/2024-03-19/UDP_Bandlock_9S_Phone_BR/sm07/#02/data/handover_info_log.csv\n",
      "64/72 /home/wmnlab/F/database/2024-03-19/UDP_Bandlock_9S_Phone_BR/sm07/#02/data/udp_dnlk_loss_latency.csv\n",
      "64/72 /home/wmnlab/F/database/2024-03-19/UDP_Bandlock_9S_Phone_BR/sm07/#02/data/udp_uplk_loss_latency.csv\n"
     ]
    },
    {
     "data": {
      "application/vnd.jupyter.widget-view+json": {
       "model_id": "816b822da5df406cb0f161b38e07f121",
       "version_major": 2,
       "version_minor": 0
      },
      "text/plain": [
       "  0%|                                                                                                         …"
      ]
     },
     "metadata": {},
     "output_type": "display_data"
    },
    {
     "name": "stdout",
     "output_type": "stream",
     "text": [
      "/home/wmnlab/F/results/20240329_160006be6c_new_dataset_sync/dr_results/dr_20240329_1700005690/20240329_20214200000_b533c4363fdced4b_adjust/\\home\\wmnlab\\F\\database\\2024-03-19\\UDP_Bandlock_9S_Phone_BR\\sm04\\#02\\data\\udp_dnlk_loss_latency\\home\\wmnlab\\F\\database\\2024-03-19\\UDP_Bandlock_9S_Phone_BR\\sm07\\#02\\data\\udp_dnlk_loss_latency.csv\n",
      "65/72 /home/wmnlab/F/database/2024-03-19/UDP_Bandlock_9S_Phone_BR/sm04/#02/data/handover_info_log.csv\n",
      "65/72 /home/wmnlab/F/database/2024-03-19/UDP_Bandlock_9S_Phone_BR/sm04/#02/data/udp_dnlk_loss_latency.csv\n",
      "65/72 /home/wmnlab/F/database/2024-03-19/UDP_Bandlock_9S_Phone_BR/sm04/#02/data/udp_uplk_loss_latency.csv\n",
      "65/72 /home/wmnlab/F/database/2024-03-19/UDP_Bandlock_9S_Phone_BR/sm08/#02/data/handover_info_log.csv\n",
      "65/72 /home/wmnlab/F/database/2024-03-19/UDP_Bandlock_9S_Phone_BR/sm08/#02/data/udp_dnlk_loss_latency.csv\n",
      "65/72 /home/wmnlab/F/database/2024-03-19/UDP_Bandlock_9S_Phone_BR/sm08/#02/data/udp_uplk_loss_latency.csv\n"
     ]
    },
    {
     "data": {
      "application/vnd.jupyter.widget-view+json": {
       "model_id": "c56f8e9c6a304c5aa35bc97de9b7a3de",
       "version_major": 2,
       "version_minor": 0
      },
      "text/plain": [
       "  0%|                                                                                                         …"
      ]
     },
     "metadata": {},
     "output_type": "display_data"
    },
    {
     "name": "stdout",
     "output_type": "stream",
     "text": [
      "/home/wmnlab/F/results/20240329_160006be6c_new_dataset_sync/dr_results/dr_20240329_1700005690/20240329_20214200000_b533c4363fdced4b_adjust/\\home\\wmnlab\\F\\database\\2024-03-19\\UDP_Bandlock_9S_Phone_BR\\sm04\\#02\\data\\udp_dnlk_loss_latency\\home\\wmnlab\\F\\database\\2024-03-19\\UDP_Bandlock_9S_Phone_BR\\sm08\\#02\\data\\udp_dnlk_loss_latency.csv\n",
      "66/72 /home/wmnlab/F/database/2024-03-19/UDP_Bandlock_9S_Phone_BR/sm05/#02/data/handover_info_log.csv\n",
      "66/72 /home/wmnlab/F/database/2024-03-19/UDP_Bandlock_9S_Phone_BR/sm05/#02/data/udp_dnlk_loss_latency.csv\n",
      "66/72 /home/wmnlab/F/database/2024-03-19/UDP_Bandlock_9S_Phone_BR/sm05/#02/data/udp_uplk_loss_latency.csv\n",
      "66/72 /home/wmnlab/F/database/2024-03-19/UDP_Bandlock_9S_Phone_BR/sm06/#02/data/handover_info_log.csv\n",
      "66/72 /home/wmnlab/F/database/2024-03-19/UDP_Bandlock_9S_Phone_BR/sm06/#02/data/udp_dnlk_loss_latency.csv\n",
      "66/72 /home/wmnlab/F/database/2024-03-19/UDP_Bandlock_9S_Phone_BR/sm06/#02/data/udp_uplk_loss_latency.csv\n"
     ]
    },
    {
     "data": {
      "application/vnd.jupyter.widget-view+json": {
       "model_id": "40069e8d63a74338945cd965d26b1c0f",
       "version_major": 2,
       "version_minor": 0
      },
      "text/plain": [
       "  0%|                                                                                                         …"
      ]
     },
     "metadata": {},
     "output_type": "display_data"
    },
    {
     "name": "stdout",
     "output_type": "stream",
     "text": [
      "/home/wmnlab/F/results/20240329_160006be6c_new_dataset_sync/dr_results/dr_20240329_1700005690/20240329_20214200000_b533c4363fdced4b_adjust/\\home\\wmnlab\\F\\database\\2024-03-19\\UDP_Bandlock_9S_Phone_BR\\sm05\\#02\\data\\udp_dnlk_loss_latency\\home\\wmnlab\\F\\database\\2024-03-19\\UDP_Bandlock_9S_Phone_BR\\sm06\\#02\\data\\udp_dnlk_loss_latency.csv\n",
      "67/72 /home/wmnlab/F/database/2024-03-19/UDP_Bandlock_9S_Phone_BR/sm05/#02/data/handover_info_log.csv\n",
      "67/72 /home/wmnlab/F/database/2024-03-19/UDP_Bandlock_9S_Phone_BR/sm05/#02/data/udp_dnlk_loss_latency.csv\n",
      "67/72 /home/wmnlab/F/database/2024-03-19/UDP_Bandlock_9S_Phone_BR/sm05/#02/data/udp_uplk_loss_latency.csv\n",
      "67/72 /home/wmnlab/F/database/2024-03-19/UDP_Bandlock_9S_Phone_BR/sm07/#02/data/handover_info_log.csv\n",
      "67/72 /home/wmnlab/F/database/2024-03-19/UDP_Bandlock_9S_Phone_BR/sm07/#02/data/udp_dnlk_loss_latency.csv\n",
      "67/72 /home/wmnlab/F/database/2024-03-19/UDP_Bandlock_9S_Phone_BR/sm07/#02/data/udp_uplk_loss_latency.csv\n"
     ]
    },
    {
     "data": {
      "application/vnd.jupyter.widget-view+json": {
       "model_id": "3d478411ddb5428cbad57b600c518087",
       "version_major": 2,
       "version_minor": 0
      },
      "text/plain": [
       "  0%|                                                                                                         …"
      ]
     },
     "metadata": {},
     "output_type": "display_data"
    },
    {
     "name": "stdout",
     "output_type": "stream",
     "text": [
      "/home/wmnlab/F/results/20240329_160006be6c_new_dataset_sync/dr_results/dr_20240329_1700005690/20240329_20214200000_b533c4363fdced4b_adjust/\\home\\wmnlab\\F\\database\\2024-03-19\\UDP_Bandlock_9S_Phone_BR\\sm05\\#02\\data\\udp_dnlk_loss_latency\\home\\wmnlab\\F\\database\\2024-03-19\\UDP_Bandlock_9S_Phone_BR\\sm07\\#02\\data\\udp_dnlk_loss_latency.csv\n",
      "68/72 /home/wmnlab/F/database/2024-03-19/UDP_Bandlock_9S_Phone_BR/sm05/#02/data/handover_info_log.csv\n",
      "68/72 /home/wmnlab/F/database/2024-03-19/UDP_Bandlock_9S_Phone_BR/sm05/#02/data/udp_dnlk_loss_latency.csv\n",
      "68/72 /home/wmnlab/F/database/2024-03-19/UDP_Bandlock_9S_Phone_BR/sm05/#02/data/udp_uplk_loss_latency.csv\n",
      "68/72 /home/wmnlab/F/database/2024-03-19/UDP_Bandlock_9S_Phone_BR/sm08/#02/data/handover_info_log.csv\n",
      "68/72 /home/wmnlab/F/database/2024-03-19/UDP_Bandlock_9S_Phone_BR/sm08/#02/data/udp_dnlk_loss_latency.csv\n",
      "68/72 /home/wmnlab/F/database/2024-03-19/UDP_Bandlock_9S_Phone_BR/sm08/#02/data/udp_uplk_loss_latency.csv\n"
     ]
    },
    {
     "data": {
      "application/vnd.jupyter.widget-view+json": {
       "model_id": "10ae94e71952449b953bdb267c04ab7e",
       "version_major": 2,
       "version_minor": 0
      },
      "text/plain": [
       "  0%|                                                                                                         …"
      ]
     },
     "metadata": {},
     "output_type": "display_data"
    },
    {
     "name": "stdout",
     "output_type": "stream",
     "text": [
      "/home/wmnlab/F/results/20240329_160006be6c_new_dataset_sync/dr_results/dr_20240329_1700005690/20240329_20214200000_b533c4363fdced4b_adjust/\\home\\wmnlab\\F\\database\\2024-03-19\\UDP_Bandlock_9S_Phone_BR\\sm05\\#02\\data\\udp_dnlk_loss_latency\\home\\wmnlab\\F\\database\\2024-03-19\\UDP_Bandlock_9S_Phone_BR\\sm08\\#02\\data\\udp_dnlk_loss_latency.csv\n",
      "69/72 /home/wmnlab/F/database/2024-03-19/UDP_Bandlock_9S_Phone_BR/sm06/#02/data/handover_info_log.csv\n",
      "69/72 /home/wmnlab/F/database/2024-03-19/UDP_Bandlock_9S_Phone_BR/sm06/#02/data/udp_dnlk_loss_latency.csv\n",
      "69/72 /home/wmnlab/F/database/2024-03-19/UDP_Bandlock_9S_Phone_BR/sm06/#02/data/udp_uplk_loss_latency.csv\n",
      "69/72 /home/wmnlab/F/database/2024-03-19/UDP_Bandlock_9S_Phone_BR/sm07/#02/data/handover_info_log.csv\n",
      "69/72 /home/wmnlab/F/database/2024-03-19/UDP_Bandlock_9S_Phone_BR/sm07/#02/data/udp_dnlk_loss_latency.csv\n",
      "69/72 /home/wmnlab/F/database/2024-03-19/UDP_Bandlock_9S_Phone_BR/sm07/#02/data/udp_uplk_loss_latency.csv\n"
     ]
    },
    {
     "data": {
      "application/vnd.jupyter.widget-view+json": {
       "model_id": "ab2760b5a38142d8919eff8ed68119a3",
       "version_major": 2,
       "version_minor": 0
      },
      "text/plain": [
       "  0%|                                                                                                         …"
      ]
     },
     "metadata": {},
     "output_type": "display_data"
    },
    {
     "name": "stdout",
     "output_type": "stream",
     "text": [
      "/home/wmnlab/F/results/20240329_160006be6c_new_dataset_sync/dr_results/dr_20240329_1700005690/20240329_20214200000_b533c4363fdced4b_adjust/\\home\\wmnlab\\F\\database\\2024-03-19\\UDP_Bandlock_9S_Phone_BR\\sm06\\#02\\data\\udp_dnlk_loss_latency\\home\\wmnlab\\F\\database\\2024-03-19\\UDP_Bandlock_9S_Phone_BR\\sm07\\#02\\data\\udp_dnlk_loss_latency.csv\n",
      "70/72 /home/wmnlab/F/database/2024-03-19/UDP_Bandlock_9S_Phone_BR/sm06/#02/data/handover_info_log.csv\n",
      "70/72 /home/wmnlab/F/database/2024-03-19/UDP_Bandlock_9S_Phone_BR/sm06/#02/data/udp_dnlk_loss_latency.csv\n",
      "70/72 /home/wmnlab/F/database/2024-03-19/UDP_Bandlock_9S_Phone_BR/sm06/#02/data/udp_uplk_loss_latency.csv\n",
      "70/72 /home/wmnlab/F/database/2024-03-19/UDP_Bandlock_9S_Phone_BR/sm08/#02/data/handover_info_log.csv\n",
      "70/72 /home/wmnlab/F/database/2024-03-19/UDP_Bandlock_9S_Phone_BR/sm08/#02/data/udp_dnlk_loss_latency.csv\n",
      "70/72 /home/wmnlab/F/database/2024-03-19/UDP_Bandlock_9S_Phone_BR/sm08/#02/data/udp_uplk_loss_latency.csv\n"
     ]
    },
    {
     "data": {
      "application/vnd.jupyter.widget-view+json": {
       "model_id": "104895e2b08c48e59134593542bc3dac",
       "version_major": 2,
       "version_minor": 0
      },
      "text/plain": [
       "  0%|                                                                                                         …"
      ]
     },
     "metadata": {},
     "output_type": "display_data"
    },
    {
     "name": "stdout",
     "output_type": "stream",
     "text": [
      "/home/wmnlab/F/results/20240329_160006be6c_new_dataset_sync/dr_results/dr_20240329_1700005690/20240329_20214200000_b533c4363fdced4b_adjust/\\home\\wmnlab\\F\\database\\2024-03-19\\UDP_Bandlock_9S_Phone_BR\\sm06\\#02\\data\\udp_dnlk_loss_latency\\home\\wmnlab\\F\\database\\2024-03-19\\UDP_Bandlock_9S_Phone_BR\\sm08\\#02\\data\\udp_dnlk_loss_latency.csv\n",
      "71/72 /home/wmnlab/F/database/2024-03-19/UDP_Bandlock_9S_Phone_BR/sm07/#02/data/handover_info_log.csv\n",
      "71/72 /home/wmnlab/F/database/2024-03-19/UDP_Bandlock_9S_Phone_BR/sm07/#02/data/udp_dnlk_loss_latency.csv\n",
      "71/72 /home/wmnlab/F/database/2024-03-19/UDP_Bandlock_9S_Phone_BR/sm07/#02/data/udp_uplk_loss_latency.csv\n",
      "71/72 /home/wmnlab/F/database/2024-03-19/UDP_Bandlock_9S_Phone_BR/sm08/#02/data/handover_info_log.csv\n",
      "71/72 /home/wmnlab/F/database/2024-03-19/UDP_Bandlock_9S_Phone_BR/sm08/#02/data/udp_dnlk_loss_latency.csv\n",
      "71/72 /home/wmnlab/F/database/2024-03-19/UDP_Bandlock_9S_Phone_BR/sm08/#02/data/udp_uplk_loss_latency.csv\n"
     ]
    },
    {
     "data": {
      "application/vnd.jupyter.widget-view+json": {
       "model_id": "53ce4c150fe0460586327817f3316653",
       "version_major": 2,
       "version_minor": 0
      },
      "text/plain": [
       "  0%|                                                                                                         …"
      ]
     },
     "metadata": {},
     "output_type": "display_data"
    },
    {
     "name": "stdout",
     "output_type": "stream",
     "text": [
      "/home/wmnlab/F/results/20240329_160006be6c_new_dataset_sync/dr_results/dr_20240329_1700005690/20240329_20214200000_b533c4363fdced4b_adjust/\\home\\wmnlab\\F\\database\\2024-03-19\\UDP_Bandlock_9S_Phone_BR\\sm07\\#02\\data\\udp_dnlk_loss_latency\\home\\wmnlab\\F\\database\\2024-03-19\\UDP_Bandlock_9S_Phone_BR\\sm08\\#02\\data\\udp_dnlk_loss_latency.csv\n",
      "./20240329_160006be6c_new_dataset_sync/dr_20240329_1700005690/figures/20240329_BR_adjust_20214200000_b533c4363fdced4b.png\n"
     ]
    },
    {
     "data": {
      "image/png": "[encoded data removed]",
      "text/plain": [
       "<Figure size 600x400 with 1 Axes>"
      ]
     },
     "metadata": {
      "image/png": {
       "height": 371,
       "width": 536
      }
     },
     "output_type": "display_data"
    }
   ],
   "source": [
    "eval = DrEval(filepaths, model_name='BR', model_suffix=suffix, sr_model_id=sr_model_id, dr_model_id=dr_model_id)\n",
    "eval.run_hist_method(N=1)\n",
    "eval.plot('BR')"
   ]
  },
  {
   "cell_type": "markdown",
   "metadata": {},
   "source": [
    "# A: Dual Eval"
   ]
  },
  {
   "cell_type": "code",
   "execution_count": 8,
   "metadata": {},
   "outputs": [],
   "source": [
    "adjust_table, model_adjust = alter_corr_coef(sr_model_id, dr_model_id, route='A', mode=mode, rho_force=None)\n",
    "# display(adjust_table)\n",
    "# pprint(model_adjust)"
   ]
  },
  {
   "cell_type": "code",
   "execution_count": 9,
   "metadata": {},
   "outputs": [],
   "source": [
    "# Dual Radio Example\n",
    "# dates = data_loader(query_dates=True, show_info=True)\n",
    "\n",
    "# selected_dates = [s for s in dates if s >= '2023-09-12']\n",
    "selected_dates = ['2024-03-20']\n",
    "# excluded_dates = []\n",
    "# selected_exps = []\n",
    "# excluded_exps = ['Modem_Action_Test', 'Control_Group', 'Control_Group2', 'Control_Group3']\n",
    "selected_routes = ['A']\n",
    "# excluded_routes = []\n",
    "filepaths = data_loader(mode='dr', selected_dates=selected_dates, selected_routes=selected_routes)\n",
    "\n",
    "# print(len(filepaths[:36]))\n",
    "# pprint(filepaths[:36])"
   ]
  },
  {
   "cell_type": "code",
   "execution_count": 10,
   "metadata": {},
   "outputs": [
    {
     "name": "stdout",
     "output_type": "stream",
     "text": [
      "./20240329_160006be6c_new_dataset_sync/models/A\n",
      "./20240329_160006be6c_new_dataset_sync/dr_20240329_1700005690/models/A\n",
      "./20240329_160006be6c_new_dataset_sync/dr_20240329_1700005690/models/A_dr_prob_models_25%_corr.pkl\n",
      "0/72 /home/wmnlab/F/database/2024-03-20/UDP_Bandlock_9S_Phone_A/sm00/#01/data/handover_info_log.csv\n",
      "0/72 /home/wmnlab/F/database/2024-03-20/UDP_Bandlock_9S_Phone_A/sm00/#01/data/udp_dnlk_loss_latency.csv\n",
      "0/72 /home/wmnlab/F/database/2024-03-20/UDP_Bandlock_9S_Phone_A/sm00/#01/data/udp_uplk_loss_latency.csv\n",
      "0/72 /home/wmnlab/F/database/2024-03-20/UDP_Bandlock_9S_Phone_A/sm01/#01/data/handover_info_log.csv\n",
      "0/72 /home/wmnlab/F/database/2024-03-20/UDP_Bandlock_9S_Phone_A/sm01/#01/data/udp_dnlk_loss_latency.csv\n",
      "0/72 /home/wmnlab/F/database/2024-03-20/UDP_Bandlock_9S_Phone_A/sm01/#01/data/udp_uplk_loss_latency.csv\n"
     ]
    },
    {
     "data": {
      "application/vnd.jupyter.widget-view+json": {
       "model_id": "25e028759bc342b38aef6c4d7c05e6d5",
       "version_major": 2,
       "version_minor": 0
      },
      "text/plain": [
       "  0%|                                                                                                         …"
      ]
     },
     "metadata": {},
     "output_type": "display_data"
    },
    {
     "name": "stdout",
     "output_type": "stream",
     "text": [
      "/home/wmnlab/F/results/20240329_160006be6c_new_dataset_sync/dr_results/dr_20240329_1700005690/20240329_20214200001_36f03b32a8e9180f_25%_corr/\\home\\wmnlab\\F\\database\\2024-03-20\\UDP_Bandlock_9S_Phone_A\\sm00\\#01\\data\\udp_dnlk_loss_latency\\home\\wmnlab\\F\\database\\2024-03-20\\UDP_Bandlock_9S_Phone_A\\sm01\\#01\\data\\udp_dnlk_loss_latency.csv\n",
      "1/72 /home/wmnlab/F/database/2024-03-20/UDP_Bandlock_9S_Phone_A/sm00/#01/data/handover_info_log.csv\n",
      "1/72 /home/wmnlab/F/database/2024-03-20/UDP_Bandlock_9S_Phone_A/sm00/#01/data/udp_dnlk_loss_latency.csv\n",
      "1/72 /home/wmnlab/F/database/2024-03-20/UDP_Bandlock_9S_Phone_A/sm00/#01/data/udp_uplk_loss_latency.csv\n",
      "1/72 /home/wmnlab/F/database/2024-03-20/UDP_Bandlock_9S_Phone_A/sm02/#01/data/handover_info_log.csv\n",
      "1/72 /home/wmnlab/F/database/2024-03-20/UDP_Bandlock_9S_Phone_A/sm02/#01/data/udp_dnlk_loss_latency.csv\n",
      "1/72 /home/wmnlab/F/database/2024-03-20/UDP_Bandlock_9S_Phone_A/sm02/#01/data/udp_uplk_loss_latency.csv\n"
     ]
    },
    {
     "data": {
      "application/vnd.jupyter.widget-view+json": {
       "model_id": "d83c5809ed774558bf767ab1efc70567",
       "version_major": 2,
       "version_minor": 0
      },
      "text/plain": [
       "  0%|                                                                                                         …"
      ]
     },
     "metadata": {},
     "output_type": "display_data"
    },
    {
     "name": "stdout",
     "output_type": "stream",
     "text": [
      "/home/wmnlab/F/results/20240329_160006be6c_new_dataset_sync/dr_results/dr_20240329_1700005690/20240329_20214200001_36f03b32a8e9180f_25%_corr/\\home\\wmnlab\\F\\database\\2024-03-20\\UDP_Bandlock_9S_Phone_A\\sm00\\#01\\data\\udp_dnlk_loss_latency\\home\\wmnlab\\F\\database\\2024-03-20\\UDP_Bandlock_9S_Phone_A\\sm02\\#01\\data\\udp_dnlk_loss_latency.csv\n",
      "2/72 /home/wmnlab/F/database/2024-03-20/UDP_Bandlock_9S_Phone_A/sm00/#01/data/handover_info_log.csv\n",
      "2/72 /home/wmnlab/F/database/2024-03-20/UDP_Bandlock_9S_Phone_A/sm00/#01/data/udp_dnlk_loss_latency.csv\n",
      "2/72 /home/wmnlab/F/database/2024-03-20/UDP_Bandlock_9S_Phone_A/sm00/#01/data/udp_uplk_loss_latency.csv\n",
      "2/72 /home/wmnlab/F/database/2024-03-20/UDP_Bandlock_9S_Phone_A/sm03/#01/data/handover_info_log.csv\n",
      "2/72 /home/wmnlab/F/database/2024-03-20/UDP_Bandlock_9S_Phone_A/sm03/#01/data/udp_dnlk_loss_latency.csv\n",
      "2/72 /home/wmnlab/F/database/2024-03-20/UDP_Bandlock_9S_Phone_A/sm03/#01/data/udp_uplk_loss_latency.csv\n"
     ]
    },
    {
     "data": {
      "application/vnd.jupyter.widget-view+json": {
       "model_id": "580e4d03cce74c1d890b298c89bb3031",
       "version_major": 2,
       "version_minor": 0
      },
      "text/plain": [
       "  0%|                                                                                                         …"
      ]
     },
     "metadata": {},
     "output_type": "display_data"
    },
    {
     "name": "stdout",
     "output_type": "stream",
     "text": [
      "/home/wmnlab/F/results/20240329_160006be6c_new_dataset_sync/dr_results/dr_20240329_1700005690/20240329_20214200001_36f03b32a8e9180f_25%_corr/\\home\\wmnlab\\F\\database\\2024-03-20\\UDP_Bandlock_9S_Phone_A\\sm00\\#01\\data\\udp_dnlk_loss_latency\\home\\wmnlab\\F\\database\\2024-03-20\\UDP_Bandlock_9S_Phone_A\\sm03\\#01\\data\\udp_dnlk_loss_latency.csv\n",
      "3/72 /home/wmnlab/F/database/2024-03-20/UDP_Bandlock_9S_Phone_A/sm00/#01/data/handover_info_log.csv\n",
      "3/72 /home/wmnlab/F/database/2024-03-20/UDP_Bandlock_9S_Phone_A/sm00/#01/data/udp_dnlk_loss_latency.csv\n",
      "3/72 /home/wmnlab/F/database/2024-03-20/UDP_Bandlock_9S_Phone_A/sm00/#01/data/udp_uplk_loss_latency.csv\n",
      "3/72 /home/wmnlab/F/database/2024-03-20/UDP_Bandlock_9S_Phone_A/sm04/#01/data/handover_info_log.csv\n",
      "3/72 /home/wmnlab/F/database/2024-03-20/UDP_Bandlock_9S_Phone_A/sm04/#01/data/udp_dnlk_loss_latency.csv\n",
      "3/72 /home/wmnlab/F/database/2024-03-20/UDP_Bandlock_9S_Phone_A/sm04/#01/data/udp_uplk_loss_latency.csv\n"
     ]
    },
    {
     "data": {
      "application/vnd.jupyter.widget-view+json": {
       "model_id": "eaf2bc1ef36d41b2981b3ffa509a0c63",
       "version_major": 2,
       "version_minor": 0
      },
      "text/plain": [
       "  0%|                                                                                                         …"
      ]
     },
     "metadata": {},
     "output_type": "display_data"
    },
    {
     "name": "stdout",
     "output_type": "stream",
     "text": [
      "/home/wmnlab/F/results/20240329_160006be6c_new_dataset_sync/dr_results/dr_20240329_1700005690/20240329_20214200001_36f03b32a8e9180f_25%_corr/\\home\\wmnlab\\F\\database\\2024-03-20\\UDP_Bandlock_9S_Phone_A\\sm00\\#01\\data\\udp_dnlk_loss_latency\\home\\wmnlab\\F\\database\\2024-03-20\\UDP_Bandlock_9S_Phone_A\\sm04\\#01\\data\\udp_dnlk_loss_latency.csv\n",
      "4/72 /home/wmnlab/F/database/2024-03-20/UDP_Bandlock_9S_Phone_A/sm00/#01/data/handover_info_log.csv\n",
      "4/72 /home/wmnlab/F/database/2024-03-20/UDP_Bandlock_9S_Phone_A/sm00/#01/data/udp_dnlk_loss_latency.csv\n",
      "4/72 /home/wmnlab/F/database/2024-03-20/UDP_Bandlock_9S_Phone_A/sm00/#01/data/udp_uplk_loss_latency.csv\n",
      "4/72 /home/wmnlab/F/database/2024-03-20/UDP_Bandlock_9S_Phone_A/sm05/#01/data/handover_info_log.csv\n",
      "4/72 /home/wmnlab/F/database/2024-03-20/UDP_Bandlock_9S_Phone_A/sm05/#01/data/udp_dnlk_loss_latency.csv\n",
      "4/72 /home/wmnlab/F/database/2024-03-20/UDP_Bandlock_9S_Phone_A/sm05/#01/data/udp_uplk_loss_latency.csv\n"
     ]
    },
    {
     "data": {
      "application/vnd.jupyter.widget-view+json": {
       "model_id": "9be1fbcd28fd47529bf488175727ca9b",
       "version_major": 2,
       "version_minor": 0
      },
      "text/plain": [
       "  0%|                                                                                                         …"
      ]
     },
     "metadata": {},
     "output_type": "display_data"
    },
    {
     "name": "stdout",
     "output_type": "stream",
     "text": [
      "/home/wmnlab/F/results/20240329_160006be6c_new_dataset_sync/dr_results/dr_20240329_1700005690/20240329_20214200001_36f03b32a8e9180f_25%_corr/\\home\\wmnlab\\F\\database\\2024-03-20\\UDP_Bandlock_9S_Phone_A\\sm00\\#01\\data\\udp_dnlk_loss_latency\\home\\wmnlab\\F\\database\\2024-03-20\\UDP_Bandlock_9S_Phone_A\\sm05\\#01\\data\\udp_dnlk_loss_latency.csv\n",
      "5/72 /home/wmnlab/F/database/2024-03-20/UDP_Bandlock_9S_Phone_A/sm00/#01/data/handover_info_log.csv\n",
      "5/72 /home/wmnlab/F/database/2024-03-20/UDP_Bandlock_9S_Phone_A/sm00/#01/data/udp_dnlk_loss_latency.csv\n",
      "5/72 /home/wmnlab/F/database/2024-03-20/UDP_Bandlock_9S_Phone_A/sm00/#01/data/udp_uplk_loss_latency.csv\n",
      "5/72 /home/wmnlab/F/database/2024-03-20/UDP_Bandlock_9S_Phone_A/sm06/#01/data/handover_info_log.csv\n",
      "5/72 /home/wmnlab/F/database/2024-03-20/UDP_Bandlock_9S_Phone_A/sm06/#01/data/udp_dnlk_loss_latency.csv\n",
      "5/72 /home/wmnlab/F/database/2024-03-20/UDP_Bandlock_9S_Phone_A/sm06/#01/data/udp_uplk_loss_latency.csv\n"
     ]
    },
    {
     "data": {
      "application/vnd.jupyter.widget-view+json": {
       "model_id": "70867b5565af4c0e9937016f6068226f",
       "version_major": 2,
       "version_minor": 0
      },
      "text/plain": [
       "  0%|                                                                                                         …"
      ]
     },
     "metadata": {},
     "output_type": "display_data"
    },
    {
     "name": "stdout",
     "output_type": "stream",
     "text": [
      "/home/wmnlab/F/results/20240329_160006be6c_new_dataset_sync/dr_results/dr_20240329_1700005690/20240329_20214200001_36f03b32a8e9180f_25%_corr/\\home\\wmnlab\\F\\database\\2024-03-20\\UDP_Bandlock_9S_Phone_A\\sm00\\#01\\data\\udp_dnlk_loss_latency\\home\\wmnlab\\F\\database\\2024-03-20\\UDP_Bandlock_9S_Phone_A\\sm06\\#01\\data\\udp_dnlk_loss_latency.csv\n",
      "6/72 /home/wmnlab/F/database/2024-03-20/UDP_Bandlock_9S_Phone_A/sm00/#01/data/handover_info_log.csv\n",
      "6/72 /home/wmnlab/F/database/2024-03-20/UDP_Bandlock_9S_Phone_A/sm00/#01/data/udp_dnlk_loss_latency.csv\n",
      "6/72 /home/wmnlab/F/database/2024-03-20/UDP_Bandlock_9S_Phone_A/sm00/#01/data/udp_uplk_loss_latency.csv\n",
      "6/72 /home/wmnlab/F/database/2024-03-20/UDP_Bandlock_9S_Phone_A/sm07/#01/data/handover_info_log.csv\n",
      "6/72 /home/wmnlab/F/database/2024-03-20/UDP_Bandlock_9S_Phone_A/sm07/#01/data/udp_dnlk_loss_latency.csv\n",
      "6/72 /home/wmnlab/F/database/2024-03-20/UDP_Bandlock_9S_Phone_A/sm07/#01/data/udp_uplk_loss_latency.csv\n"
     ]
    },
    {
     "data": {
      "application/vnd.jupyter.widget-view+json": {
       "model_id": "1da3b097802541ff8cfd28a28db18dc9",
       "version_major": 2,
       "version_minor": 0
      },
      "text/plain": [
       "  0%|                                                                                                         …"
      ]
     },
     "metadata": {},
     "output_type": "display_data"
    },
    {
     "name": "stdout",
     "output_type": "stream",
     "text": [
      "/home/wmnlab/F/results/20240329_160006be6c_new_dataset_sync/dr_results/dr_20240329_1700005690/20240329_20214200001_36f03b32a8e9180f_25%_corr/\\home\\wmnlab\\F\\database\\2024-03-20\\UDP_Bandlock_9S_Phone_A\\sm00\\#01\\data\\udp_dnlk_loss_latency\\home\\wmnlab\\F\\database\\2024-03-20\\UDP_Bandlock_9S_Phone_A\\sm07\\#01\\data\\udp_dnlk_loss_latency.csv\n",
      "7/72 /home/wmnlab/F/database/2024-03-20/UDP_Bandlock_9S_Phone_A/sm00/#01/data/handover_info_log.csv\n",
      "7/72 /home/wmnlab/F/database/2024-03-20/UDP_Bandlock_9S_Phone_A/sm00/#01/data/udp_dnlk_loss_latency.csv\n",
      "7/72 /home/wmnlab/F/database/2024-03-20/UDP_Bandlock_9S_Phone_A/sm00/#01/data/udp_uplk_loss_latency.csv\n",
      "7/72 /home/wmnlab/F/database/2024-03-20/UDP_Bandlock_9S_Phone_A/sm08/#01/data/handover_info_log.csv\n",
      "7/72 /home/wmnlab/F/database/2024-03-20/UDP_Bandlock_9S_Phone_A/sm08/#01/data/udp_dnlk_loss_latency.csv\n",
      "7/72 /home/wmnlab/F/database/2024-03-20/UDP_Bandlock_9S_Phone_A/sm08/#01/data/udp_uplk_loss_latency.csv\n"
     ]
    },
    {
     "data": {
      "application/vnd.jupyter.widget-view+json": {
       "model_id": "932a431224594e14b46e90160c1c10f1",
       "version_major": 2,
       "version_minor": 0
      },
      "text/plain": [
       "  0%|                                                                                                         …"
      ]
     },
     "metadata": {},
     "output_type": "display_data"
    },
    {
     "name": "stdout",
     "output_type": "stream",
     "text": [
      "/home/wmnlab/F/results/20240329_160006be6c_new_dataset_sync/dr_results/dr_20240329_1700005690/20240329_20214200001_36f03b32a8e9180f_25%_corr/\\home\\wmnlab\\F\\database\\2024-03-20\\UDP_Bandlock_9S_Phone_A\\sm00\\#01\\data\\udp_dnlk_loss_latency\\home\\wmnlab\\F\\database\\2024-03-20\\UDP_Bandlock_9S_Phone_A\\sm08\\#01\\data\\udp_dnlk_loss_latency.csv\n",
      "8/72 /home/wmnlab/F/database/2024-03-20/UDP_Bandlock_9S_Phone_A/sm01/#01/data/handover_info_log.csv\n",
      "8/72 /home/wmnlab/F/database/2024-03-20/UDP_Bandlock_9S_Phone_A/sm01/#01/data/udp_dnlk_loss_latency.csv\n",
      "8/72 /home/wmnlab/F/database/2024-03-20/UDP_Bandlock_9S_Phone_A/sm01/#01/data/udp_uplk_loss_latency.csv\n",
      "8/72 /home/wmnlab/F/database/2024-03-20/UDP_Bandlock_9S_Phone_A/sm02/#01/data/handover_info_log.csv\n",
      "8/72 /home/wmnlab/F/database/2024-03-20/UDP_Bandlock_9S_Phone_A/sm02/#01/data/udp_dnlk_loss_latency.csv\n",
      "8/72 /home/wmnlab/F/database/2024-03-20/UDP_Bandlock_9S_Phone_A/sm02/#01/data/udp_uplk_loss_latency.csv\n"
     ]
    },
    {
     "data": {
      "application/vnd.jupyter.widget-view+json": {
       "model_id": "833269ac44df48d9923d6d2473b06b0e",
       "version_major": 2,
       "version_minor": 0
      },
      "text/plain": [
       "  0%|                                                                                                         …"
      ]
     },
     "metadata": {},
     "output_type": "display_data"
    },
    {
     "name": "stdout",
     "output_type": "stream",
     "text": [
      "/home/wmnlab/F/results/20240329_160006be6c_new_dataset_sync/dr_results/dr_20240329_1700005690/20240329_20214200001_36f03b32a8e9180f_25%_corr/\\home\\wmnlab\\F\\database\\2024-03-20\\UDP_Bandlock_9S_Phone_A\\sm01\\#01\\data\\udp_dnlk_loss_latency\\home\\wmnlab\\F\\database\\2024-03-20\\UDP_Bandlock_9S_Phone_A\\sm02\\#01\\data\\udp_dnlk_loss_latency.csv\n",
      "9/72 /home/wmnlab/F/database/2024-03-20/UDP_Bandlock_9S_Phone_A/sm01/#01/data/handover_info_log.csv\n",
      "9/72 /home/wmnlab/F/database/2024-03-20/UDP_Bandlock_9S_Phone_A/sm01/#01/data/udp_dnlk_loss_latency.csv\n",
      "9/72 /home/wmnlab/F/database/2024-03-20/UDP_Bandlock_9S_Phone_A/sm01/#01/data/udp_uplk_loss_latency.csv\n",
      "9/72 /home/wmnlab/F/database/2024-03-20/UDP_Bandlock_9S_Phone_A/sm03/#01/data/handover_info_log.csv\n",
      "9/72 /home/wmnlab/F/database/2024-03-20/UDP_Bandlock_9S_Phone_A/sm03/#01/data/udp_dnlk_loss_latency.csv\n",
      "9/72 /home/wmnlab/F/database/2024-03-20/UDP_Bandlock_9S_Phone_A/sm03/#01/data/udp_uplk_loss_latency.csv\n"
     ]
    },
    {
     "data": {
      "application/vnd.jupyter.widget-view+json": {
       "model_id": "99c98cf3102e4648a143f90270fae4da",
       "version_major": 2,
       "version_minor": 0
      },
      "text/plain": [
       "  0%|                                                                                                         …"
      ]
     },
     "metadata": {},
     "output_type": "display_data"
    },
    {
     "name": "stdout",
     "output_type": "stream",
     "text": [
      "/home/wmnlab/F/results/20240329_160006be6c_new_dataset_sync/dr_results/dr_20240329_1700005690/20240329_20214200001_36f03b32a8e9180f_25%_corr/\\home\\wmnlab\\F\\database\\2024-03-20\\UDP_Bandlock_9S_Phone_A\\sm01\\#01\\data\\udp_dnlk_loss_latency\\home\\wmnlab\\F\\database\\2024-03-20\\UDP_Bandlock_9S_Phone_A\\sm03\\#01\\data\\udp_dnlk_loss_latency.csv\n",
      "10/72 /home/wmnlab/F/database/2024-03-20/UDP_Bandlock_9S_Phone_A/sm01/#01/data/handover_info_log.csv\n",
      "10/72 /home/wmnlab/F/database/2024-03-20/UDP_Bandlock_9S_Phone_A/sm01/#01/data/udp_dnlk_loss_latency.csv\n",
      "10/72 /home/wmnlab/F/database/2024-03-20/UDP_Bandlock_9S_Phone_A/sm01/#01/data/udp_uplk_loss_latency.csv\n",
      "10/72 /home/wmnlab/F/database/2024-03-20/UDP_Bandlock_9S_Phone_A/sm04/#01/data/handover_info_log.csv\n",
      "10/72 /home/wmnlab/F/database/2024-03-20/UDP_Bandlock_9S_Phone_A/sm04/#01/data/udp_dnlk_loss_latency.csv\n",
      "10/72 /home/wmnlab/F/database/2024-03-20/UDP_Bandlock_9S_Phone_A/sm04/#01/data/udp_uplk_loss_latency.csv\n"
     ]
    },
    {
     "data": {
      "application/vnd.jupyter.widget-view+json": {
       "model_id": "d5a616511c3a4ab3b25837b8862774b2",
       "version_major": 2,
       "version_minor": 0
      },
      "text/plain": [
       "  0%|                                                                                                         …"
      ]
     },
     "metadata": {},
     "output_type": "display_data"
    },
    {
     "name": "stdout",
     "output_type": "stream",
     "text": [
      "/home/wmnlab/F/results/20240329_160006be6c_new_dataset_sync/dr_results/dr_20240329_1700005690/20240329_20214200001_36f03b32a8e9180f_25%_corr/\\home\\wmnlab\\F\\database\\2024-03-20\\UDP_Bandlock_9S_Phone_A\\sm01\\#01\\data\\udp_dnlk_loss_latency\\home\\wmnlab\\F\\database\\2024-03-20\\UDP_Bandlock_9S_Phone_A\\sm04\\#01\\data\\udp_dnlk_loss_latency.csv\n",
      "11/72 /home/wmnlab/F/database/2024-03-20/UDP_Bandlock_9S_Phone_A/sm01/#01/data/handover_info_log.csv\n",
      "11/72 /home/wmnlab/F/database/2024-03-20/UDP_Bandlock_9S_Phone_A/sm01/#01/data/udp_dnlk_loss_latency.csv\n",
      "11/72 /home/wmnlab/F/database/2024-03-20/UDP_Bandlock_9S_Phone_A/sm01/#01/data/udp_uplk_loss_latency.csv\n",
      "11/72 /home/wmnlab/F/database/2024-03-20/UDP_Bandlock_9S_Phone_A/sm05/#01/data/handover_info_log.csv\n",
      "11/72 /home/wmnlab/F/database/2024-03-20/UDP_Bandlock_9S_Phone_A/sm05/#01/data/udp_dnlk_loss_latency.csv\n",
      "11/72 /home/wmnlab/F/database/2024-03-20/UDP_Bandlock_9S_Phone_A/sm05/#01/data/udp_uplk_loss_latency.csv\n"
     ]
    },
    {
     "data": {
      "application/vnd.jupyter.widget-view+json": {
       "model_id": "4778eb59b1114781b4e69154671bb1ff",
       "version_major": 2,
       "version_minor": 0
      },
      "text/plain": [
       "  0%|                                                                                                         …"
      ]
     },
     "metadata": {},
     "output_type": "display_data"
    },
    {
     "name": "stdout",
     "output_type": "stream",
     "text": [
      "/home/wmnlab/F/results/20240329_160006be6c_new_dataset_sync/dr_results/dr_20240329_1700005690/20240329_20214200001_36f03b32a8e9180f_25%_corr/\\home\\wmnlab\\F\\database\\2024-03-20\\UDP_Bandlock_9S_Phone_A\\sm01\\#01\\data\\udp_dnlk_loss_latency\\home\\wmnlab\\F\\database\\2024-03-20\\UDP_Bandlock_9S_Phone_A\\sm05\\#01\\data\\udp_dnlk_loss_latency.csv\n",
      "12/72 /home/wmnlab/F/database/2024-03-20/UDP_Bandlock_9S_Phone_A/sm01/#01/data/handover_info_log.csv\n",
      "12/72 /home/wmnlab/F/database/2024-03-20/UDP_Bandlock_9S_Phone_A/sm01/#01/data/udp_dnlk_loss_latency.csv\n",
      "12/72 /home/wmnlab/F/database/2024-03-20/UDP_Bandlock_9S_Phone_A/sm01/#01/data/udp_uplk_loss_latency.csv\n",
      "12/72 /home/wmnlab/F/database/2024-03-20/UDP_Bandlock_9S_Phone_A/sm06/#01/data/handover_info_log.csv\n",
      "12/72 /home/wmnlab/F/database/2024-03-20/UDP_Bandlock_9S_Phone_A/sm06/#01/data/udp_dnlk_loss_latency.csv\n",
      "12/72 /home/wmnlab/F/database/2024-03-20/UDP_Bandlock_9S_Phone_A/sm06/#01/data/udp_uplk_loss_latency.csv\n"
     ]
    },
    {
     "data": {
      "application/vnd.jupyter.widget-view+json": {
       "model_id": "1c9297d518f341d4a4eb58110b76370c",
       "version_major": 2,
       "version_minor": 0
      },
      "text/plain": [
       "  0%|                                                                                                         …"
      ]
     },
     "metadata": {},
     "output_type": "display_data"
    },
    {
     "name": "stdout",
     "output_type": "stream",
     "text": [
      "/home/wmnlab/F/results/20240329_160006be6c_new_dataset_sync/dr_results/dr_20240329_1700005690/20240329_20214200001_36f03b32a8e9180f_25%_corr/\\home\\wmnlab\\F\\database\\2024-03-20\\UDP_Bandlock_9S_Phone_A\\sm01\\#01\\data\\udp_dnlk_loss_latency\\home\\wmnlab\\F\\database\\2024-03-20\\UDP_Bandlock_9S_Phone_A\\sm06\\#01\\data\\udp_dnlk_loss_latency.csv\n",
      "13/72 /home/wmnlab/F/database/2024-03-20/UDP_Bandlock_9S_Phone_A/sm01/#01/data/handover_info_log.csv\n",
      "13/72 /home/wmnlab/F/database/2024-03-20/UDP_Bandlock_9S_Phone_A/sm01/#01/data/udp_dnlk_loss_latency.csv\n",
      "13/72 /home/wmnlab/F/database/2024-03-20/UDP_Bandlock_9S_Phone_A/sm01/#01/data/udp_uplk_loss_latency.csv\n",
      "13/72 /home/wmnlab/F/database/2024-03-20/UDP_Bandlock_9S_Phone_A/sm07/#01/data/handover_info_log.csv\n",
      "13/72 /home/wmnlab/F/database/2024-03-20/UDP_Bandlock_9S_Phone_A/sm07/#01/data/udp_dnlk_loss_latency.csv\n",
      "13/72 /home/wmnlab/F/database/2024-03-20/UDP_Bandlock_9S_Phone_A/sm07/#01/data/udp_uplk_loss_latency.csv\n"
     ]
    },
    {
     "data": {
      "application/vnd.jupyter.widget-view+json": {
       "model_id": "107f0cbb4864421eb5d4c95ae48d4eb9",
       "version_major": 2,
       "version_minor": 0
      },
      "text/plain": [
       "  0%|                                                                                                         …"
      ]
     },
     "metadata": {},
     "output_type": "display_data"
    },
    {
     "name": "stdout",
     "output_type": "stream",
     "text": [
      "/home/wmnlab/F/results/20240329_160006be6c_new_dataset_sync/dr_results/dr_20240329_1700005690/20240329_20214200001_36f03b32a8e9180f_25%_corr/\\home\\wmnlab\\F\\database\\2024-03-20\\UDP_Bandlock_9S_Phone_A\\sm01\\#01\\data\\udp_dnlk_loss_latency\\home\\wmnlab\\F\\database\\2024-03-20\\UDP_Bandlock_9S_Phone_A\\sm07\\#01\\data\\udp_dnlk_loss_latency.csv\n",
      "14/72 /home/wmnlab/F/database/2024-03-20/UDP_Bandlock_9S_Phone_A/sm01/#01/data/handover_info_log.csv\n",
      "14/72 /home/wmnlab/F/database/2024-03-20/UDP_Bandlock_9S_Phone_A/sm01/#01/data/udp_dnlk_loss_latency.csv\n",
      "14/72 /home/wmnlab/F/database/2024-03-20/UDP_Bandlock_9S_Phone_A/sm01/#01/data/udp_uplk_loss_latency.csv\n",
      "14/72 /home/wmnlab/F/database/2024-03-20/UDP_Bandlock_9S_Phone_A/sm08/#01/data/handover_info_log.csv\n",
      "14/72 /home/wmnlab/F/database/2024-03-20/UDP_Bandlock_9S_Phone_A/sm08/#01/data/udp_dnlk_loss_latency.csv\n",
      "14/72 /home/wmnlab/F/database/2024-03-20/UDP_Bandlock_9S_Phone_A/sm08/#01/data/udp_uplk_loss_latency.csv\n"
     ]
    },
    {
     "data": {
      "application/vnd.jupyter.widget-view+json": {
       "model_id": "5fac11a9a08a45a1815f611f342f409e",
       "version_major": 2,
       "version_minor": 0
      },
      "text/plain": [
       "  0%|                                                                                                         …"
      ]
     },
     "metadata": {},
     "output_type": "display_data"
    },
    {
     "name": "stdout",
     "output_type": "stream",
     "text": [
      "/home/wmnlab/F/results/20240329_160006be6c_new_dataset_sync/dr_results/dr_20240329_1700005690/20240329_20214200001_36f03b32a8e9180f_25%_corr/\\home\\wmnlab\\F\\database\\2024-03-20\\UDP_Bandlock_9S_Phone_A\\sm01\\#01\\data\\udp_dnlk_loss_latency\\home\\wmnlab\\F\\database\\2024-03-20\\UDP_Bandlock_9S_Phone_A\\sm08\\#01\\data\\udp_dnlk_loss_latency.csv\n",
      "15/72 /home/wmnlab/F/database/2024-03-20/UDP_Bandlock_9S_Phone_A/sm02/#01/data/handover_info_log.csv\n",
      "15/72 /home/wmnlab/F/database/2024-03-20/UDP_Bandlock_9S_Phone_A/sm02/#01/data/udp_dnlk_loss_latency.csv\n",
      "15/72 /home/wmnlab/F/database/2024-03-20/UDP_Bandlock_9S_Phone_A/sm02/#01/data/udp_uplk_loss_latency.csv\n",
      "15/72 /home/wmnlab/F/database/2024-03-20/UDP_Bandlock_9S_Phone_A/sm03/#01/data/handover_info_log.csv\n",
      "15/72 /home/wmnlab/F/database/2024-03-20/UDP_Bandlock_9S_Phone_A/sm03/#01/data/udp_dnlk_loss_latency.csv\n",
      "15/72 /home/wmnlab/F/database/2024-03-20/UDP_Bandlock_9S_Phone_A/sm03/#01/data/udp_uplk_loss_latency.csv\n"
     ]
    },
    {
     "data": {
      "application/vnd.jupyter.widget-view+json": {
       "model_id": "d45c9aae655b410e9244b8d39094a986",
       "version_major": 2,
       "version_minor": 0
      },
      "text/plain": [
       "  0%|                                                                                                         …"
      ]
     },
     "metadata": {},
     "output_type": "display_data"
    },
    {
     "name": "stdout",
     "output_type": "stream",
     "text": [
      "/home/wmnlab/F/results/20240329_160006be6c_new_dataset_sync/dr_results/dr_20240329_1700005690/20240329_20214200001_36f03b32a8e9180f_25%_corr/\\home\\wmnlab\\F\\database\\2024-03-20\\UDP_Bandlock_9S_Phone_A\\sm02\\#01\\data\\udp_dnlk_loss_latency\\home\\wmnlab\\F\\database\\2024-03-20\\UDP_Bandlock_9S_Phone_A\\sm03\\#01\\data\\udp_dnlk_loss_latency.csv\n",
      "16/72 /home/wmnlab/F/database/2024-03-20/UDP_Bandlock_9S_Phone_A/sm02/#01/data/handover_info_log.csv\n",
      "16/72 /home/wmnlab/F/database/2024-03-20/UDP_Bandlock_9S_Phone_A/sm02/#01/data/udp_dnlk_loss_latency.csv\n",
      "16/72 /home/wmnlab/F/database/2024-03-20/UDP_Bandlock_9S_Phone_A/sm02/#01/data/udp_uplk_loss_latency.csv\n",
      "16/72 /home/wmnlab/F/database/2024-03-20/UDP_Bandlock_9S_Phone_A/sm04/#01/data/handover_info_log.csv\n",
      "16/72 /home/wmnlab/F/database/2024-03-20/UDP_Bandlock_9S_Phone_A/sm04/#01/data/udp_dnlk_loss_latency.csv\n",
      "16/72 /home/wmnlab/F/database/2024-03-20/UDP_Bandlock_9S_Phone_A/sm04/#01/data/udp_uplk_loss_latency.csv\n"
     ]
    },
    {
     "data": {
      "application/vnd.jupyter.widget-view+json": {
       "model_id": "cb0510cf2da64915828aefc68978994d",
       "version_major": 2,
       "version_minor": 0
      },
      "text/plain": [
       "  0%|                                                                                                         …"
      ]
     },
     "metadata": {},
     "output_type": "display_data"
    },
    {
     "name": "stdout",
     "output_type": "stream",
     "text": [
      "/home/wmnlab/F/results/20240329_160006be6c_new_dataset_sync/dr_results/dr_20240329_1700005690/20240329_20214200001_36f03b32a8e9180f_25%_corr/\\home\\wmnlab\\F\\database\\2024-03-20\\UDP_Bandlock_9S_Phone_A\\sm02\\#01\\data\\udp_dnlk_loss_latency\\home\\wmnlab\\F\\database\\2024-03-20\\UDP_Bandlock_9S_Phone_A\\sm04\\#01\\data\\udp_dnlk_loss_latency.csv\n",
      "17/72 /home/wmnlab/F/database/2024-03-20/UDP_Bandlock_9S_Phone_A/sm02/#01/data/handover_info_log.csv\n",
      "17/72 /home/wmnlab/F/database/2024-03-20/UDP_Bandlock_9S_Phone_A/sm02/#01/data/udp_dnlk_loss_latency.csv\n",
      "17/72 /home/wmnlab/F/database/2024-03-20/UDP_Bandlock_9S_Phone_A/sm02/#01/data/udp_uplk_loss_latency.csv\n",
      "17/72 /home/wmnlab/F/database/2024-03-20/UDP_Bandlock_9S_Phone_A/sm05/#01/data/handover_info_log.csv\n",
      "17/72 /home/wmnlab/F/database/2024-03-20/UDP_Bandlock_9S_Phone_A/sm05/#01/data/udp_dnlk_loss_latency.csv\n",
      "17/72 /home/wmnlab/F/database/2024-03-20/UDP_Bandlock_9S_Phone_A/sm05/#01/data/udp_uplk_loss_latency.csv\n"
     ]
    },
    {
     "data": {
      "application/vnd.jupyter.widget-view+json": {
       "model_id": "02973aa642b44efd9f797692799d0171",
       "version_major": 2,
       "version_minor": 0
      },
      "text/plain": [
       "  0%|                                                                                                         …"
      ]
     },
     "metadata": {},
     "output_type": "display_data"
    },
    {
     "name": "stdout",
     "output_type": "stream",
     "text": [
      "/home/wmnlab/F/results/20240329_160006be6c_new_dataset_sync/dr_results/dr_20240329_1700005690/20240329_20214200001_36f03b32a8e9180f_25%_corr/\\home\\wmnlab\\F\\database\\2024-03-20\\UDP_Bandlock_9S_Phone_A\\sm02\\#01\\data\\udp_dnlk_loss_latency\\home\\wmnlab\\F\\database\\2024-03-20\\UDP_Bandlock_9S_Phone_A\\sm05\\#01\\data\\udp_dnlk_loss_latency.csv\n",
      "18/72 /home/wmnlab/F/database/2024-03-20/UDP_Bandlock_9S_Phone_A/sm02/#01/data/handover_info_log.csv\n",
      "18/72 /home/wmnlab/F/database/2024-03-20/UDP_Bandlock_9S_Phone_A/sm02/#01/data/udp_dnlk_loss_latency.csv\n",
      "18/72 /home/wmnlab/F/database/2024-03-20/UDP_Bandlock_9S_Phone_A/sm02/#01/data/udp_uplk_loss_latency.csv\n",
      "18/72 /home/wmnlab/F/database/2024-03-20/UDP_Bandlock_9S_Phone_A/sm06/#01/data/handover_info_log.csv\n",
      "18/72 /home/wmnlab/F/database/2024-03-20/UDP_Bandlock_9S_Phone_A/sm06/#01/data/udp_dnlk_loss_latency.csv\n",
      "18/72 /home/wmnlab/F/database/2024-03-20/UDP_Bandlock_9S_Phone_A/sm06/#01/data/udp_uplk_loss_latency.csv\n"
     ]
    },
    {
     "data": {
      "application/vnd.jupyter.widget-view+json": {
       "model_id": "99b6fca25e21453ba98def66f43b2954",
       "version_major": 2,
       "version_minor": 0
      },
      "text/plain": [
       "  0%|                                                                                                         …"
      ]
     },
     "metadata": {},
     "output_type": "display_data"
    },
    {
     "name": "stdout",
     "output_type": "stream",
     "text": [
      "/home/wmnlab/F/results/20240329_160006be6c_new_dataset_sync/dr_results/dr_20240329_1700005690/20240329_20214200001_36f03b32a8e9180f_25%_corr/\\home\\wmnlab\\F\\database\\2024-03-20\\UDP_Bandlock_9S_Phone_A\\sm02\\#01\\data\\udp_dnlk_loss_latency\\home\\wmnlab\\F\\database\\2024-03-20\\UDP_Bandlock_9S_Phone_A\\sm06\\#01\\data\\udp_dnlk_loss_latency.csv\n",
      "19/72 /home/wmnlab/F/database/2024-03-20/UDP_Bandlock_9S_Phone_A/sm02/#01/data/handover_info_log.csv\n",
      "19/72 /home/wmnlab/F/database/2024-03-20/UDP_Bandlock_9S_Phone_A/sm02/#01/data/udp_dnlk_loss_latency.csv\n",
      "19/72 /home/wmnlab/F/database/2024-03-20/UDP_Bandlock_9S_Phone_A/sm02/#01/data/udp_uplk_loss_latency.csv\n",
      "19/72 /home/wmnlab/F/database/2024-03-20/UDP_Bandlock_9S_Phone_A/sm07/#01/data/handover_info_log.csv\n",
      "19/72 /home/wmnlab/F/database/2024-03-20/UDP_Bandlock_9S_Phone_A/sm07/#01/data/udp_dnlk_loss_latency.csv\n",
      "19/72 /home/wmnlab/F/database/2024-03-20/UDP_Bandlock_9S_Phone_A/sm07/#01/data/udp_uplk_loss_latency.csv\n"
     ]
    },
    {
     "data": {
      "application/vnd.jupyter.widget-view+json": {
       "model_id": "f7cf4b6aa72c4750a75a9fbdc111d8bd",
       "version_major": 2,
       "version_minor": 0
      },
      "text/plain": [
       "  0%|                                                                                                         …"
      ]
     },
     "metadata": {},
     "output_type": "display_data"
    },
    {
     "name": "stdout",
     "output_type": "stream",
     "text": [
      "/home/wmnlab/F/results/20240329_160006be6c_new_dataset_sync/dr_results/dr_20240329_1700005690/20240329_20214200001_36f03b32a8e9180f_25%_corr/\\home\\wmnlab\\F\\database\\2024-03-20\\UDP_Bandlock_9S_Phone_A\\sm02\\#01\\data\\udp_dnlk_loss_latency\\home\\wmnlab\\F\\database\\2024-03-20\\UDP_Bandlock_9S_Phone_A\\sm07\\#01\\data\\udp_dnlk_loss_latency.csv\n",
      "20/72 /home/wmnlab/F/database/2024-03-20/UDP_Bandlock_9S_Phone_A/sm02/#01/data/handover_info_log.csv\n",
      "20/72 /home/wmnlab/F/database/2024-03-20/UDP_Bandlock_9S_Phone_A/sm02/#01/data/udp_dnlk_loss_latency.csv\n",
      "20/72 /home/wmnlab/F/database/2024-03-20/UDP_Bandlock_9S_Phone_A/sm02/#01/data/udp_uplk_loss_latency.csv\n",
      "20/72 /home/wmnlab/F/database/2024-03-20/UDP_Bandlock_9S_Phone_A/sm08/#01/data/handover_info_log.csv\n",
      "20/72 /home/wmnlab/F/database/2024-03-20/UDP_Bandlock_9S_Phone_A/sm08/#01/data/udp_dnlk_loss_latency.csv\n",
      "20/72 /home/wmnlab/F/database/2024-03-20/UDP_Bandlock_9S_Phone_A/sm08/#01/data/udp_uplk_loss_latency.csv\n"
     ]
    },
    {
     "data": {
      "application/vnd.jupyter.widget-view+json": {
       "model_id": "cccf781f42b8439eae134ce549e533f8",
       "version_major": 2,
       "version_minor": 0
      },
      "text/plain": [
       "  0%|                                                                                                         …"
      ]
     },
     "metadata": {},
     "output_type": "display_data"
    },
    {
     "name": "stdout",
     "output_type": "stream",
     "text": [
      "/home/wmnlab/F/results/20240329_160006be6c_new_dataset_sync/dr_results/dr_20240329_1700005690/20240329_20214200001_36f03b32a8e9180f_25%_corr/\\home\\wmnlab\\F\\database\\2024-03-20\\UDP_Bandlock_9S_Phone_A\\sm02\\#01\\data\\udp_dnlk_loss_latency\\home\\wmnlab\\F\\database\\2024-03-20\\UDP_Bandlock_9S_Phone_A\\sm08\\#01\\data\\udp_dnlk_loss_latency.csv\n",
      "21/72 /home/wmnlab/F/database/2024-03-20/UDP_Bandlock_9S_Phone_A/sm03/#01/data/handover_info_log.csv\n",
      "21/72 /home/wmnlab/F/database/2024-03-20/UDP_Bandlock_9S_Phone_A/sm03/#01/data/udp_dnlk_loss_latency.csv\n",
      "21/72 /home/wmnlab/F/database/2024-03-20/UDP_Bandlock_9S_Phone_A/sm03/#01/data/udp_uplk_loss_latency.csv\n",
      "21/72 /home/wmnlab/F/database/2024-03-20/UDP_Bandlock_9S_Phone_A/sm04/#01/data/handover_info_log.csv\n",
      "21/72 /home/wmnlab/F/database/2024-03-20/UDP_Bandlock_9S_Phone_A/sm04/#01/data/udp_dnlk_loss_latency.csv\n",
      "21/72 /home/wmnlab/F/database/2024-03-20/UDP_Bandlock_9S_Phone_A/sm04/#01/data/udp_uplk_loss_latency.csv\n"
     ]
    },
    {
     "data": {
      "application/vnd.jupyter.widget-view+json": {
       "model_id": "7d14e7ce5ff648f98bddfecbe30f238b",
       "version_major": 2,
       "version_minor": 0
      },
      "text/plain": [
       "  0%|                                                                                                         …"
      ]
     },
     "metadata": {},
     "output_type": "display_data"
    },
    {
     "name": "stdout",
     "output_type": "stream",
     "text": [
      "/home/wmnlab/F/results/20240329_160006be6c_new_dataset_sync/dr_results/dr_20240329_1700005690/20240329_20214200001_36f03b32a8e9180f_25%_corr/\\home\\wmnlab\\F\\database\\2024-03-20\\UDP_Bandlock_9S_Phone_A\\sm03\\#01\\data\\udp_dnlk_loss_latency\\home\\wmnlab\\F\\database\\2024-03-20\\UDP_Bandlock_9S_Phone_A\\sm04\\#01\\data\\udp_dnlk_loss_latency.csv\n",
      "22/72 /home/wmnlab/F/database/2024-03-20/UDP_Bandlock_9S_Phone_A/sm03/#01/data/handover_info_log.csv\n",
      "22/72 /home/wmnlab/F/database/2024-03-20/UDP_Bandlock_9S_Phone_A/sm03/#01/data/udp_dnlk_loss_latency.csv\n",
      "22/72 /home/wmnlab/F/database/2024-03-20/UDP_Bandlock_9S_Phone_A/sm03/#01/data/udp_uplk_loss_latency.csv\n",
      "22/72 /home/wmnlab/F/database/2024-03-20/UDP_Bandlock_9S_Phone_A/sm05/#01/data/handover_info_log.csv\n",
      "22/72 /home/wmnlab/F/database/2024-03-20/UDP_Bandlock_9S_Phone_A/sm05/#01/data/udp_dnlk_loss_latency.csv\n",
      "22/72 /home/wmnlab/F/database/2024-03-20/UDP_Bandlock_9S_Phone_A/sm05/#01/data/udp_uplk_loss_latency.csv\n"
     ]
    },
    {
     "data": {
      "application/vnd.jupyter.widget-view+json": {
       "model_id": "08aac91a7da34e1cba8f4e99c059fa24",
       "version_major": 2,
       "version_minor": 0
      },
      "text/plain": [
       "  0%|                                                                                                         …"
      ]
     },
     "metadata": {},
     "output_type": "display_data"
    },
    {
     "name": "stdout",
     "output_type": "stream",
     "text": [
      "/home/wmnlab/F/results/20240329_160006be6c_new_dataset_sync/dr_results/dr_20240329_1700005690/20240329_20214200001_36f03b32a8e9180f_25%_corr/\\home\\wmnlab\\F\\database\\2024-03-20\\UDP_Bandlock_9S_Phone_A\\sm03\\#01\\data\\udp_dnlk_loss_latency\\home\\wmnlab\\F\\database\\2024-03-20\\UDP_Bandlock_9S_Phone_A\\sm05\\#01\\data\\udp_dnlk_loss_latency.csv\n",
      "23/72 /home/wmnlab/F/database/2024-03-20/UDP_Bandlock_9S_Phone_A/sm03/#01/data/handover_info_log.csv\n",
      "23/72 /home/wmnlab/F/database/2024-03-20/UDP_Bandlock_9S_Phone_A/sm03/#01/data/udp_dnlk_loss_latency.csv\n",
      "23/72 /home/wmnlab/F/database/2024-03-20/UDP_Bandlock_9S_Phone_A/sm03/#01/data/udp_uplk_loss_latency.csv\n",
      "23/72 /home/wmnlab/F/database/2024-03-20/UDP_Bandlock_9S_Phone_A/sm06/#01/data/handover_info_log.csv\n",
      "23/72 /home/wmnlab/F/database/2024-03-20/UDP_Bandlock_9S_Phone_A/sm06/#01/data/udp_dnlk_loss_latency.csv\n",
      "23/72 /home/wmnlab/F/database/2024-03-20/UDP_Bandlock_9S_Phone_A/sm06/#01/data/udp_uplk_loss_latency.csv\n"
     ]
    },
    {
     "data": {
      "application/vnd.jupyter.widget-view+json": {
       "model_id": "860761fbe21a479fba36a02e862d47db",
       "version_major": 2,
       "version_minor": 0
      },
      "text/plain": [
       "  0%|                                                                                                         …"
      ]
     },
     "metadata": {},
     "output_type": "display_data"
    },
    {
     "name": "stdout",
     "output_type": "stream",
     "text": [
      "/home/wmnlab/F/results/20240329_160006be6c_new_dataset_sync/dr_results/dr_20240329_1700005690/20240329_20214200001_36f03b32a8e9180f_25%_corr/\\home\\wmnlab\\F\\database\\2024-03-20\\UDP_Bandlock_9S_Phone_A\\sm03\\#01\\data\\udp_dnlk_loss_latency\\home\\wmnlab\\F\\database\\2024-03-20\\UDP_Bandlock_9S_Phone_A\\sm06\\#01\\data\\udp_dnlk_loss_latency.csv\n",
      "24/72 /home/wmnlab/F/database/2024-03-20/UDP_Bandlock_9S_Phone_A/sm03/#01/data/handover_info_log.csv\n",
      "24/72 /home/wmnlab/F/database/2024-03-20/UDP_Bandlock_9S_Phone_A/sm03/#01/data/udp_dnlk_loss_latency.csv\n",
      "24/72 /home/wmnlab/F/database/2024-03-20/UDP_Bandlock_9S_Phone_A/sm03/#01/data/udp_uplk_loss_latency.csv\n",
      "24/72 /home/wmnlab/F/database/2024-03-20/UDP_Bandlock_9S_Phone_A/sm07/#01/data/handover_info_log.csv\n",
      "24/72 /home/wmnlab/F/database/2024-03-20/UDP_Bandlock_9S_Phone_A/sm07/#01/data/udp_dnlk_loss_latency.csv\n",
      "24/72 /home/wmnlab/F/database/2024-03-20/UDP_Bandlock_9S_Phone_A/sm07/#01/data/udp_uplk_loss_latency.csv\n"
     ]
    },
    {
     "data": {
      "application/vnd.jupyter.widget-view+json": {
       "model_id": "c4f798adfffe485fb3beee7215bc33fe",
       "version_major": 2,
       "version_minor": 0
      },
      "text/plain": [
       "  0%|                                                                                                         …"
      ]
     },
     "metadata": {},
     "output_type": "display_data"
    },
    {
     "name": "stdout",
     "output_type": "stream",
     "text": [
      "/home/wmnlab/F/results/20240329_160006be6c_new_dataset_sync/dr_results/dr_20240329_1700005690/20240329_20214200001_36f03b32a8e9180f_25%_corr/\\home\\wmnlab\\F\\database\\2024-03-20\\UDP_Bandlock_9S_Phone_A\\sm03\\#01\\data\\udp_dnlk_loss_latency\\home\\wmnlab\\F\\database\\2024-03-20\\UDP_Bandlock_9S_Phone_A\\sm07\\#01\\data\\udp_dnlk_loss_latency.csv\n",
      "25/72 /home/wmnlab/F/database/2024-03-20/UDP_Bandlock_9S_Phone_A/sm03/#01/data/handover_info_log.csv\n",
      "25/72 /home/wmnlab/F/database/2024-03-20/UDP_Bandlock_9S_Phone_A/sm03/#01/data/udp_dnlk_loss_latency.csv\n",
      "25/72 /home/wmnlab/F/database/2024-03-20/UDP_Bandlock_9S_Phone_A/sm03/#01/data/udp_uplk_loss_latency.csv\n",
      "25/72 /home/wmnlab/F/database/2024-03-20/UDP_Bandlock_9S_Phone_A/sm08/#01/data/handover_info_log.csv\n",
      "25/72 /home/wmnlab/F/database/2024-03-20/UDP_Bandlock_9S_Phone_A/sm08/#01/data/udp_dnlk_loss_latency.csv\n",
      "25/72 /home/wmnlab/F/database/2024-03-20/UDP_Bandlock_9S_Phone_A/sm08/#01/data/udp_uplk_loss_latency.csv\n"
     ]
    },
    {
     "data": {
      "application/vnd.jupyter.widget-view+json": {
       "model_id": "9d865eb4590a4e8697f33732e1e54562",
       "version_major": 2,
       "version_minor": 0
      },
      "text/plain": [
       "  0%|                                                                                                         …"
      ]
     },
     "metadata": {},
     "output_type": "display_data"
    },
    {
     "name": "stdout",
     "output_type": "stream",
     "text": [
      "/home/wmnlab/F/results/20240329_160006be6c_new_dataset_sync/dr_results/dr_20240329_1700005690/20240329_20214200001_36f03b32a8e9180f_25%_corr/\\home\\wmnlab\\F\\database\\2024-03-20\\UDP_Bandlock_9S_Phone_A\\sm03\\#01\\data\\udp_dnlk_loss_latency\\home\\wmnlab\\F\\database\\2024-03-20\\UDP_Bandlock_9S_Phone_A\\sm08\\#01\\data\\udp_dnlk_loss_latency.csv\n",
      "26/72 /home/wmnlab/F/database/2024-03-20/UDP_Bandlock_9S_Phone_A/sm04/#01/data/handover_info_log.csv\n",
      "26/72 /home/wmnlab/F/database/2024-03-20/UDP_Bandlock_9S_Phone_A/sm04/#01/data/udp_dnlk_loss_latency.csv\n",
      "26/72 /home/wmnlab/F/database/2024-03-20/UDP_Bandlock_9S_Phone_A/sm04/#01/data/udp_uplk_loss_latency.csv\n",
      "26/72 /home/wmnlab/F/database/2024-03-20/UDP_Bandlock_9S_Phone_A/sm05/#01/data/handover_info_log.csv\n",
      "26/72 /home/wmnlab/F/database/2024-03-20/UDP_Bandlock_9S_Phone_A/sm05/#01/data/udp_dnlk_loss_latency.csv\n",
      "26/72 /home/wmnlab/F/database/2024-03-20/UDP_Bandlock_9S_Phone_A/sm05/#01/data/udp_uplk_loss_latency.csv\n"
     ]
    },
    {
     "data": {
      "application/vnd.jupyter.widget-view+json": {
       "model_id": "b79d5a08de3c42b8899029b894411a15",
       "version_major": 2,
       "version_minor": 0
      },
      "text/plain": [
       "  0%|                                                                                                         …"
      ]
     },
     "metadata": {},
     "output_type": "display_data"
    },
    {
     "name": "stdout",
     "output_type": "stream",
     "text": [
      "/home/wmnlab/F/results/20240329_160006be6c_new_dataset_sync/dr_results/dr_20240329_1700005690/20240329_20214200001_36f03b32a8e9180f_25%_corr/\\home\\wmnlab\\F\\database\\2024-03-20\\UDP_Bandlock_9S_Phone_A\\sm04\\#01\\data\\udp_dnlk_loss_latency\\home\\wmnlab\\F\\database\\2024-03-20\\UDP_Bandlock_9S_Phone_A\\sm05\\#01\\data\\udp_dnlk_loss_latency.csv\n",
      "27/72 /home/wmnlab/F/database/2024-03-20/UDP_Bandlock_9S_Phone_A/sm04/#01/data/handover_info_log.csv\n",
      "27/72 /home/wmnlab/F/database/2024-03-20/UDP_Bandlock_9S_Phone_A/sm04/#01/data/udp_dnlk_loss_latency.csv\n",
      "27/72 /home/wmnlab/F/database/2024-03-20/UDP_Bandlock_9S_Phone_A/sm04/#01/data/udp_uplk_loss_latency.csv\n",
      "27/72 /home/wmnlab/F/database/2024-03-20/UDP_Bandlock_9S_Phone_A/sm06/#01/data/handover_info_log.csv\n",
      "27/72 /home/wmnlab/F/database/2024-03-20/UDP_Bandlock_9S_Phone_A/sm06/#01/data/udp_dnlk_loss_latency.csv\n",
      "27/72 /home/wmnlab/F/database/2024-03-20/UDP_Bandlock_9S_Phone_A/sm06/#01/data/udp_uplk_loss_latency.csv\n"
     ]
    },
    {
     "data": {
      "application/vnd.jupyter.widget-view+json": {
       "model_id": "37c4b6110028473195ee019592895d01",
       "version_major": 2,
       "version_minor": 0
      },
      "text/plain": [
       "  0%|                                                                                                         …"
      ]
     },
     "metadata": {},
     "output_type": "display_data"
    },
    {
     "name": "stdout",
     "output_type": "stream",
     "text": [
      "/home/wmnlab/F/results/20240329_160006be6c_new_dataset_sync/dr_results/dr_20240329_1700005690/20240329_20214200001_36f03b32a8e9180f_25%_corr/\\home\\wmnlab\\F\\database\\2024-03-20\\UDP_Bandlock_9S_Phone_A\\sm04\\#01\\data\\udp_dnlk_loss_latency\\home\\wmnlab\\F\\database\\2024-03-20\\UDP_Bandlock_9S_Phone_A\\sm06\\#01\\data\\udp_dnlk_loss_latency.csv\n",
      "28/72 /home/wmnlab/F/database/2024-03-20/UDP_Bandlock_9S_Phone_A/sm04/#01/data/handover_info_log.csv\n",
      "28/72 /home/wmnlab/F/database/2024-03-20/UDP_Bandlock_9S_Phone_A/sm04/#01/data/udp_dnlk_loss_latency.csv\n",
      "28/72 /home/wmnlab/F/database/2024-03-20/UDP_Bandlock_9S_Phone_A/sm04/#01/data/udp_uplk_loss_latency.csv\n",
      "28/72 /home/wmnlab/F/database/2024-03-20/UDP_Bandlock_9S_Phone_A/sm07/#01/data/handover_info_log.csv\n",
      "28/72 /home/wmnlab/F/database/2024-03-20/UDP_Bandlock_9S_Phone_A/sm07/#01/data/udp_dnlk_loss_latency.csv\n",
      "28/72 /home/wmnlab/F/database/2024-03-20/UDP_Bandlock_9S_Phone_A/sm07/#01/data/udp_uplk_loss_latency.csv\n"
     ]
    },
    {
     "data": {
      "application/vnd.jupyter.widget-view+json": {
       "model_id": "ed6a3280ce9a42ad950f704472de6396",
       "version_major": 2,
       "version_minor": 0
      },
      "text/plain": [
       "  0%|                                                                                                         …"
      ]
     },
     "metadata": {},
     "output_type": "display_data"
    },
    {
     "name": "stdout",
     "output_type": "stream",
     "text": [
      "/home/wmnlab/F/results/20240329_160006be6c_new_dataset_sync/dr_results/dr_20240329_1700005690/20240329_20214200001_36f03b32a8e9180f_25%_corr/\\home\\wmnlab\\F\\database\\2024-03-20\\UDP_Bandlock_9S_Phone_A\\sm04\\#01\\data\\udp_dnlk_loss_latency\\home\\wmnlab\\F\\database\\2024-03-20\\UDP_Bandlock_9S_Phone_A\\sm07\\#01\\data\\udp_dnlk_loss_latency.csv\n",
      "29/72 /home/wmnlab/F/database/2024-03-20/UDP_Bandlock_9S_Phone_A/sm04/#01/data/handover_info_log.csv\n",
      "29/72 /home/wmnlab/F/database/2024-03-20/UDP_Bandlock_9S_Phone_A/sm04/#01/data/udp_dnlk_loss_latency.csv\n",
      "29/72 /home/wmnlab/F/database/2024-03-20/UDP_Bandlock_9S_Phone_A/sm04/#01/data/udp_uplk_loss_latency.csv\n",
      "29/72 /home/wmnlab/F/database/2024-03-20/UDP_Bandlock_9S_Phone_A/sm08/#01/data/handover_info_log.csv\n",
      "29/72 /home/wmnlab/F/database/2024-03-20/UDP_Bandlock_9S_Phone_A/sm08/#01/data/udp_dnlk_loss_latency.csv\n",
      "29/72 /home/wmnlab/F/database/2024-03-20/UDP_Bandlock_9S_Phone_A/sm08/#01/data/udp_uplk_loss_latency.csv\n"
     ]
    },
    {
     "data": {
      "application/vnd.jupyter.widget-view+json": {
       "model_id": "4a6570cbf36540ad868437b84846e7af",
       "version_major": 2,
       "version_minor": 0
      },
      "text/plain": [
       "  0%|                                                                                                         …"
      ]
     },
     "metadata": {},
     "output_type": "display_data"
    },
    {
     "name": "stdout",
     "output_type": "stream",
     "text": [
      "/home/wmnlab/F/results/20240329_160006be6c_new_dataset_sync/dr_results/dr_20240329_1700005690/20240329_20214200001_36f03b32a8e9180f_25%_corr/\\home\\wmnlab\\F\\database\\2024-03-20\\UDP_Bandlock_9S_Phone_A\\sm04\\#01\\data\\udp_dnlk_loss_latency\\home\\wmnlab\\F\\database\\2024-03-20\\UDP_Bandlock_9S_Phone_A\\sm08\\#01\\data\\udp_dnlk_loss_latency.csv\n",
      "30/72 /home/wmnlab/F/database/2024-03-20/UDP_Bandlock_9S_Phone_A/sm05/#01/data/handover_info_log.csv\n",
      "30/72 /home/wmnlab/F/database/2024-03-20/UDP_Bandlock_9S_Phone_A/sm05/#01/data/udp_dnlk_loss_latency.csv\n",
      "30/72 /home/wmnlab/F/database/2024-03-20/UDP_Bandlock_9S_Phone_A/sm05/#01/data/udp_uplk_loss_latency.csv\n",
      "30/72 /home/wmnlab/F/database/2024-03-20/UDP_Bandlock_9S_Phone_A/sm06/#01/data/handover_info_log.csv\n",
      "30/72 /home/wmnlab/F/database/2024-03-20/UDP_Bandlock_9S_Phone_A/sm06/#01/data/udp_dnlk_loss_latency.csv\n",
      "30/72 /home/wmnlab/F/database/2024-03-20/UDP_Bandlock_9S_Phone_A/sm06/#01/data/udp_uplk_loss_latency.csv\n"
     ]
    },
    {
     "data": {
      "application/vnd.jupyter.widget-view+json": {
       "model_id": "8eb0125a9a944a8f864d28e29632c4bc",
       "version_major": 2,
       "version_minor": 0
      },
      "text/plain": [
       "  0%|                                                                                                         …"
      ]
     },
     "metadata": {},
     "output_type": "display_data"
    },
    {
     "name": "stdout",
     "output_type": "stream",
     "text": [
      "/home/wmnlab/F/results/20240329_160006be6c_new_dataset_sync/dr_results/dr_20240329_1700005690/20240329_20214200001_36f03b32a8e9180f_25%_corr/\\home\\wmnlab\\F\\database\\2024-03-20\\UDP_Bandlock_9S_Phone_A\\sm05\\#01\\data\\udp_dnlk_loss_latency\\home\\wmnlab\\F\\database\\2024-03-20\\UDP_Bandlock_9S_Phone_A\\sm06\\#01\\data\\udp_dnlk_loss_latency.csv\n",
      "31/72 /home/wmnlab/F/database/2024-03-20/UDP_Bandlock_9S_Phone_A/sm05/#01/data/handover_info_log.csv\n",
      "31/72 /home/wmnlab/F/database/2024-03-20/UDP_Bandlock_9S_Phone_A/sm05/#01/data/udp_dnlk_loss_latency.csv\n",
      "31/72 /home/wmnlab/F/database/2024-03-20/UDP_Bandlock_9S_Phone_A/sm05/#01/data/udp_uplk_loss_latency.csv\n",
      "31/72 /home/wmnlab/F/database/2024-03-20/UDP_Bandlock_9S_Phone_A/sm07/#01/data/handover_info_log.csv\n",
      "31/72 /home/wmnlab/F/database/2024-03-20/UDP_Bandlock_9S_Phone_A/sm07/#01/data/udp_dnlk_loss_latency.csv\n",
      "31/72 /home/wmnlab/F/database/2024-03-20/UDP_Bandlock_9S_Phone_A/sm07/#01/data/udp_uplk_loss_latency.csv\n"
     ]
    },
    {
     "data": {
      "application/vnd.jupyter.widget-view+json": {
       "model_id": "5fe6a3ca6cc842dcbb76698083964a61",
       "version_major": 2,
       "version_minor": 0
      },
      "text/plain": [
       "  0%|                                                                                                         …"
      ]
     },
     "metadata": {},
     "output_type": "display_data"
    },
    {
     "name": "stdout",
     "output_type": "stream",
     "text": [
      "/home/wmnlab/F/results/20240329_160006be6c_new_dataset_sync/dr_results/dr_20240329_1700005690/20240329_20214200001_36f03b32a8e9180f_25%_corr/\\home\\wmnlab\\F\\database\\2024-03-20\\UDP_Bandlock_9S_Phone_A\\sm05\\#01\\data\\udp_dnlk_loss_latency\\home\\wmnlab\\F\\database\\2024-03-20\\UDP_Bandlock_9S_Phone_A\\sm07\\#01\\data\\udp_dnlk_loss_latency.csv\n",
      "32/72 /home/wmnlab/F/database/2024-03-20/UDP_Bandlock_9S_Phone_A/sm05/#01/data/handover_info_log.csv\n",
      "32/72 /home/wmnlab/F/database/2024-03-20/UDP_Bandlock_9S_Phone_A/sm05/#01/data/udp_dnlk_loss_latency.csv\n",
      "32/72 /home/wmnlab/F/database/2024-03-20/UDP_Bandlock_9S_Phone_A/sm05/#01/data/udp_uplk_loss_latency.csv\n",
      "32/72 /home/wmnlab/F/database/2024-03-20/UDP_Bandlock_9S_Phone_A/sm08/#01/data/handover_info_log.csv\n",
      "32/72 /home/wmnlab/F/database/2024-03-20/UDP_Bandlock_9S_Phone_A/sm08/#01/data/udp_dnlk_loss_latency.csv\n",
      "32/72 /home/wmnlab/F/database/2024-03-20/UDP_Bandlock_9S_Phone_A/sm08/#01/data/udp_uplk_loss_latency.csv\n"
     ]
    },
    {
     "data": {
      "application/vnd.jupyter.widget-view+json": {
       "model_id": "afb56576624742db8b148211a41b1abf",
       "version_major": 2,
       "version_minor": 0
      },
      "text/plain": [
       "  0%|                                                                                                         …"
      ]
     },
     "metadata": {},
     "output_type": "display_data"
    },
    {
     "name": "stdout",
     "output_type": "stream",
     "text": [
      "/home/wmnlab/F/results/20240329_160006be6c_new_dataset_sync/dr_results/dr_20240329_1700005690/20240329_20214200001_36f03b32a8e9180f_25%_corr/\\home\\wmnlab\\F\\database\\2024-03-20\\UDP_Bandlock_9S_Phone_A\\sm05\\#01\\data\\udp_dnlk_loss_latency\\home\\wmnlab\\F\\database\\2024-03-20\\UDP_Bandlock_9S_Phone_A\\sm08\\#01\\data\\udp_dnlk_loss_latency.csv\n",
      "33/72 /home/wmnlab/F/database/2024-03-20/UDP_Bandlock_9S_Phone_A/sm06/#01/data/handover_info_log.csv\n",
      "33/72 /home/wmnlab/F/database/2024-03-20/UDP_Bandlock_9S_Phone_A/sm06/#01/data/udp_dnlk_loss_latency.csv\n",
      "33/72 /home/wmnlab/F/database/2024-03-20/UDP_Bandlock_9S_Phone_A/sm06/#01/data/udp_uplk_loss_latency.csv\n",
      "33/72 /home/wmnlab/F/database/2024-03-20/UDP_Bandlock_9S_Phone_A/sm07/#01/data/handover_info_log.csv\n",
      "33/72 /home/wmnlab/F/database/2024-03-20/UDP_Bandlock_9S_Phone_A/sm07/#01/data/udp_dnlk_loss_latency.csv\n",
      "33/72 /home/wmnlab/F/database/2024-03-20/UDP_Bandlock_9S_Phone_A/sm07/#01/data/udp_uplk_loss_latency.csv\n"
     ]
    },
    {
     "data": {
      "application/vnd.jupyter.widget-view+json": {
       "model_id": "a9112e4671064f6c9b22912ab291f105",
       "version_major": 2,
       "version_minor": 0
      },
      "text/plain": [
       "  0%|                                                                                                         …"
      ]
     },
     "metadata": {},
     "output_type": "display_data"
    },
    {
     "name": "stdout",
     "output_type": "stream",
     "text": [
      "/home/wmnlab/F/results/20240329_160006be6c_new_dataset_sync/dr_results/dr_20240329_1700005690/20240329_20214200001_36f03b32a8e9180f_25%_corr/\\home\\wmnlab\\F\\database\\2024-03-20\\UDP_Bandlock_9S_Phone_A\\sm06\\#01\\data\\udp_dnlk_loss_latency\\home\\wmnlab\\F\\database\\2024-03-20\\UDP_Bandlock_9S_Phone_A\\sm07\\#01\\data\\udp_dnlk_loss_latency.csv\n",
      "34/72 /home/wmnlab/F/database/2024-03-20/UDP_Bandlock_9S_Phone_A/sm06/#01/data/handover_info_log.csv\n",
      "34/72 /home/wmnlab/F/database/2024-03-20/UDP_Bandlock_9S_Phone_A/sm06/#01/data/udp_dnlk_loss_latency.csv\n",
      "34/72 /home/wmnlab/F/database/2024-03-20/UDP_Bandlock_9S_Phone_A/sm06/#01/data/udp_uplk_loss_latency.csv\n",
      "34/72 /home/wmnlab/F/database/2024-03-20/UDP_Bandlock_9S_Phone_A/sm08/#01/data/handover_info_log.csv\n",
      "34/72 /home/wmnlab/F/database/2024-03-20/UDP_Bandlock_9S_Phone_A/sm08/#01/data/udp_dnlk_loss_latency.csv\n",
      "34/72 /home/wmnlab/F/database/2024-03-20/UDP_Bandlock_9S_Phone_A/sm08/#01/data/udp_uplk_loss_latency.csv\n"
     ]
    },
    {
     "data": {
      "application/vnd.jupyter.widget-view+json": {
       "model_id": "f1f794a52d484facb65748fa78f46770",
       "version_major": 2,
       "version_minor": 0
      },
      "text/plain": [
       "  0%|                                                                                                         …"
      ]
     },
     "metadata": {},
     "output_type": "display_data"
    },
    {
     "name": "stdout",
     "output_type": "stream",
     "text": [
      "/home/wmnlab/F/results/20240329_160006be6c_new_dataset_sync/dr_results/dr_20240329_1700005690/20240329_20214200001_36f03b32a8e9180f_25%_corr/\\home\\wmnlab\\F\\database\\2024-03-20\\UDP_Bandlock_9S_Phone_A\\sm06\\#01\\data\\udp_dnlk_loss_latency\\home\\wmnlab\\F\\database\\2024-03-20\\UDP_Bandlock_9S_Phone_A\\sm08\\#01\\data\\udp_dnlk_loss_latency.csv\n",
      "35/72 /home/wmnlab/F/database/2024-03-20/UDP_Bandlock_9S_Phone_A/sm07/#01/data/handover_info_log.csv\n",
      "35/72 /home/wmnlab/F/database/2024-03-20/UDP_Bandlock_9S_Phone_A/sm07/#01/data/udp_dnlk_loss_latency.csv\n",
      "35/72 /home/wmnlab/F/database/2024-03-20/UDP_Bandlock_9S_Phone_A/sm07/#01/data/udp_uplk_loss_latency.csv\n",
      "35/72 /home/wmnlab/F/database/2024-03-20/UDP_Bandlock_9S_Phone_A/sm08/#01/data/handover_info_log.csv\n",
      "35/72 /home/wmnlab/F/database/2024-03-20/UDP_Bandlock_9S_Phone_A/sm08/#01/data/udp_dnlk_loss_latency.csv\n",
      "35/72 /home/wmnlab/F/database/2024-03-20/UDP_Bandlock_9S_Phone_A/sm08/#01/data/udp_uplk_loss_latency.csv\n"
     ]
    },
    {
     "data": {
      "application/vnd.jupyter.widget-view+json": {
       "model_id": "70d2def6cae748a9961ee2d33f9e4fa0",
       "version_major": 2,
       "version_minor": 0
      },
      "text/plain": [
       "  0%|                                                                                                         …"
      ]
     },
     "metadata": {},
     "output_type": "display_data"
    },
    {
     "name": "stdout",
     "output_type": "stream",
     "text": [
      "/home/wmnlab/F/results/20240329_160006be6c_new_dataset_sync/dr_results/dr_20240329_1700005690/20240329_20214200001_36f03b32a8e9180f_25%_corr/\\home\\wmnlab\\F\\database\\2024-03-20\\UDP_Bandlock_9S_Phone_A\\sm07\\#01\\data\\udp_dnlk_loss_latency\\home\\wmnlab\\F\\database\\2024-03-20\\UDP_Bandlock_9S_Phone_A\\sm08\\#01\\data\\udp_dnlk_loss_latency.csv\n",
      "36/72 /home/wmnlab/F/database/2024-03-20/UDP_Bandlock_9S_Phone_A/sm00/#02/data/handover_info_log.csv\n",
      "36/72 /home/wmnlab/F/database/2024-03-20/UDP_Bandlock_9S_Phone_A/sm00/#02/data/udp_dnlk_loss_latency.csv\n",
      "36/72 /home/wmnlab/F/database/2024-03-20/UDP_Bandlock_9S_Phone_A/sm00/#02/data/udp_uplk_loss_latency.csv\n",
      "36/72 /home/wmnlab/F/database/2024-03-20/UDP_Bandlock_9S_Phone_A/sm01/#02/data/handover_info_log.csv\n",
      "36/72 /home/wmnlab/F/database/2024-03-20/UDP_Bandlock_9S_Phone_A/sm01/#02/data/udp_dnlk_loss_latency.csv\n",
      "36/72 /home/wmnlab/F/database/2024-03-20/UDP_Bandlock_9S_Phone_A/sm01/#02/data/udp_uplk_loss_latency.csv\n"
     ]
    },
    {
     "data": {
      "application/vnd.jupyter.widget-view+json": {
       "model_id": "129ccc8d7139474099da81d93e1d7bd1",
       "version_major": 2,
       "version_minor": 0
      },
      "text/plain": [
       "  0%|                                                                                                         …"
      ]
     },
     "metadata": {},
     "output_type": "display_data"
    },
    {
     "name": "stdout",
     "output_type": "stream",
     "text": [
      "/home/wmnlab/F/results/20240329_160006be6c_new_dataset_sync/dr_results/dr_20240329_1700005690/20240329_20214200001_36f03b32a8e9180f_25%_corr/\\home\\wmnlab\\F\\database\\2024-03-20\\UDP_Bandlock_9S_Phone_A\\sm00\\#02\\data\\udp_dnlk_loss_latency\\home\\wmnlab\\F\\database\\2024-03-20\\UDP_Bandlock_9S_Phone_A\\sm01\\#02\\data\\udp_dnlk_loss_latency.csv\n",
      "37/72 /home/wmnlab/F/database/2024-03-20/UDP_Bandlock_9S_Phone_A/sm00/#02/data/handover_info_log.csv\n",
      "37/72 /home/wmnlab/F/database/2024-03-20/UDP_Bandlock_9S_Phone_A/sm00/#02/data/udp_dnlk_loss_latency.csv\n",
      "37/72 /home/wmnlab/F/database/2024-03-20/UDP_Bandlock_9S_Phone_A/sm00/#02/data/udp_uplk_loss_latency.csv\n",
      "37/72 /home/wmnlab/F/database/2024-03-20/UDP_Bandlock_9S_Phone_A/sm02/#02/data/handover_info_log.csv\n",
      "37/72 /home/wmnlab/F/database/2024-03-20/UDP_Bandlock_9S_Phone_A/sm02/#02/data/udp_dnlk_loss_latency.csv\n",
      "37/72 /home/wmnlab/F/database/2024-03-20/UDP_Bandlock_9S_Phone_A/sm02/#02/data/udp_uplk_loss_latency.csv\n"
     ]
    },
    {
     "data": {
      "application/vnd.jupyter.widget-view+json": {
       "model_id": "f6ed9d361d0343bfa2f19621a27140b1",
       "version_major": 2,
       "version_minor": 0
      },
      "text/plain": [
       "  0%|                                                                                                         …"
      ]
     },
     "metadata": {},
     "output_type": "display_data"
    },
    {
     "name": "stdout",
     "output_type": "stream",
     "text": [
      "/home/wmnlab/F/results/20240329_160006be6c_new_dataset_sync/dr_results/dr_20240329_1700005690/20240329_20214200001_36f03b32a8e9180f_25%_corr/\\home\\wmnlab\\F\\database\\2024-03-20\\UDP_Bandlock_9S_Phone_A\\sm00\\#02\\data\\udp_dnlk_loss_latency\\home\\wmnlab\\F\\database\\2024-03-20\\UDP_Bandlock_9S_Phone_A\\sm02\\#02\\data\\udp_dnlk_loss_latency.csv\n",
      "38/72 /home/wmnlab/F/database/2024-03-20/UDP_Bandlock_9S_Phone_A/sm00/#02/data/handover_info_log.csv\n",
      "38/72 /home/wmnlab/F/database/2024-03-20/UDP_Bandlock_9S_Phone_A/sm00/#02/data/udp_dnlk_loss_latency.csv\n",
      "38/72 /home/wmnlab/F/database/2024-03-20/UDP_Bandlock_9S_Phone_A/sm00/#02/data/udp_uplk_loss_latency.csv\n",
      "38/72 /home/wmnlab/F/database/2024-03-20/UDP_Bandlock_9S_Phone_A/sm03/#02/data/handover_info_log.csv\n",
      "38/72 /home/wmnlab/F/database/2024-03-20/UDP_Bandlock_9S_Phone_A/sm03/#02/data/udp_dnlk_loss_latency.csv\n",
      "38/72 /home/wmnlab/F/database/2024-03-20/UDP_Bandlock_9S_Phone_A/sm03/#02/data/udp_uplk_loss_latency.csv\n"
     ]
    },
    {
     "data": {
      "application/vnd.jupyter.widget-view+json": {
       "model_id": "4102b1f029a54c0781f49a34642ebcc3",
       "version_major": 2,
       "version_minor": 0
      },
      "text/plain": [
       "  0%|                                                                                                         …"
      ]
     },
     "metadata": {},
     "output_type": "display_data"
    },
    {
     "name": "stdout",
     "output_type": "stream",
     "text": [
      "/home/wmnlab/F/results/20240329_160006be6c_new_dataset_sync/dr_results/dr_20240329_1700005690/20240329_20214200001_36f03b32a8e9180f_25%_corr/\\home\\wmnlab\\F\\database\\2024-03-20\\UDP_Bandlock_9S_Phone_A\\sm00\\#02\\data\\udp_dnlk_loss_latency\\home\\wmnlab\\F\\database\\2024-03-20\\UDP_Bandlock_9S_Phone_A\\sm03\\#02\\data\\udp_dnlk_loss_latency.csv\n",
      "39/72 /home/wmnlab/F/database/2024-03-20/UDP_Bandlock_9S_Phone_A/sm00/#02/data/handover_info_log.csv\n",
      "39/72 /home/wmnlab/F/database/2024-03-20/UDP_Bandlock_9S_Phone_A/sm00/#02/data/udp_dnlk_loss_latency.csv\n",
      "39/72 /home/wmnlab/F/database/2024-03-20/UDP_Bandlock_9S_Phone_A/sm00/#02/data/udp_uplk_loss_latency.csv\n",
      "39/72 /home/wmnlab/F/database/2024-03-20/UDP_Bandlock_9S_Phone_A/sm04/#02/data/handover_info_log.csv\n",
      "39/72 /home/wmnlab/F/database/2024-03-20/UDP_Bandlock_9S_Phone_A/sm04/#02/data/udp_dnlk_loss_latency.csv\n",
      "39/72 /home/wmnlab/F/database/2024-03-20/UDP_Bandlock_9S_Phone_A/sm04/#02/data/udp_uplk_loss_latency.csv\n"
     ]
    },
    {
     "data": {
      "application/vnd.jupyter.widget-view+json": {
       "model_id": "6e6b300e28fe4ca8a479f1322d5f7efc",
       "version_major": 2,
       "version_minor": 0
      },
      "text/plain": [
       "  0%|                                                                                                         …"
      ]
     },
     "metadata": {},
     "output_type": "display_data"
    },
    {
     "name": "stdout",
     "output_type": "stream",
     "text": [
      "/home/wmnlab/F/results/20240329_160006be6c_new_dataset_sync/dr_results/dr_20240329_1700005690/20240329_20214200001_36f03b32a8e9180f_25%_corr/\\home\\wmnlab\\F\\database\\2024-03-20\\UDP_Bandlock_9S_Phone_A\\sm00\\#02\\data\\udp_dnlk_loss_latency\\home\\wmnlab\\F\\database\\2024-03-20\\UDP_Bandlock_9S_Phone_A\\sm04\\#02\\data\\udp_dnlk_loss_latency.csv\n",
      "40/72 /home/wmnlab/F/database/2024-03-20/UDP_Bandlock_9S_Phone_A/sm00/#02/data/handover_info_log.csv\n",
      "40/72 /home/wmnlab/F/database/2024-03-20/UDP_Bandlock_9S_Phone_A/sm00/#02/data/udp_dnlk_loss_latency.csv\n",
      "40/72 /home/wmnlab/F/database/2024-03-20/UDP_Bandlock_9S_Phone_A/sm00/#02/data/udp_uplk_loss_latency.csv\n",
      "40/72 /home/wmnlab/F/database/2024-03-20/UDP_Bandlock_9S_Phone_A/sm05/#02/data/handover_info_log.csv\n",
      "40/72 /home/wmnlab/F/database/2024-03-20/UDP_Bandlock_9S_Phone_A/sm05/#02/data/udp_dnlk_loss_latency.csv\n",
      "40/72 /home/wmnlab/F/database/2024-03-20/UDP_Bandlock_9S_Phone_A/sm05/#02/data/udp_uplk_loss_latency.csv\n"
     ]
    },
    {
     "data": {
      "application/vnd.jupyter.widget-view+json": {
       "model_id": "40db327f774f4086829a76788fb0463d",
       "version_major": 2,
       "version_minor": 0
      },
      "text/plain": [
       "  0%|                                                                                                         …"
      ]
     },
     "metadata": {},
     "output_type": "display_data"
    },
    {
     "name": "stdout",
     "output_type": "stream",
     "text": [
      "/home/wmnlab/F/results/20240329_160006be6c_new_dataset_sync/dr_results/dr_20240329_1700005690/20240329_20214200001_36f03b32a8e9180f_25%_corr/\\home\\wmnlab\\F\\database\\2024-03-20\\UDP_Bandlock_9S_Phone_A\\sm00\\#02\\data\\udp_dnlk_loss_latency\\home\\wmnlab\\F\\database\\2024-03-20\\UDP_Bandlock_9S_Phone_A\\sm05\\#02\\data\\udp_dnlk_loss_latency.csv\n",
      "41/72 /home/wmnlab/F/database/2024-03-20/UDP_Bandlock_9S_Phone_A/sm00/#02/data/handover_info_log.csv\n",
      "41/72 /home/wmnlab/F/database/2024-03-20/UDP_Bandlock_9S_Phone_A/sm00/#02/data/udp_dnlk_loss_latency.csv\n",
      "41/72 /home/wmnlab/F/database/2024-03-20/UDP_Bandlock_9S_Phone_A/sm00/#02/data/udp_uplk_loss_latency.csv\n",
      "41/72 /home/wmnlab/F/database/2024-03-20/UDP_Bandlock_9S_Phone_A/sm06/#02/data/handover_info_log.csv\n",
      "41/72 /home/wmnlab/F/database/2024-03-20/UDP_Bandlock_9S_Phone_A/sm06/#02/data/udp_dnlk_loss_latency.csv\n",
      "41/72 /home/wmnlab/F/database/2024-03-20/UDP_Bandlock_9S_Phone_A/sm06/#02/data/udp_uplk_loss_latency.csv\n"
     ]
    },
    {
     "data": {
      "application/vnd.jupyter.widget-view+json": {
       "model_id": "ba818f5e604841a69425295b4ff3d663",
       "version_major": 2,
       "version_minor": 0
      },
      "text/plain": [
       "  0%|                                                                                                         …"
      ]
     },
     "metadata": {},
     "output_type": "display_data"
    },
    {
     "name": "stdout",
     "output_type": "stream",
     "text": [
      "/home/wmnlab/F/results/20240329_160006be6c_new_dataset_sync/dr_results/dr_20240329_1700005690/20240329_20214200001_36f03b32a8e9180f_25%_corr/\\home\\wmnlab\\F\\database\\2024-03-20\\UDP_Bandlock_9S_Phone_A\\sm00\\#02\\data\\udp_dnlk_loss_latency\\home\\wmnlab\\F\\database\\2024-03-20\\UDP_Bandlock_9S_Phone_A\\sm06\\#02\\data\\udp_dnlk_loss_latency.csv\n",
      "42/72 /home/wmnlab/F/database/2024-03-20/UDP_Bandlock_9S_Phone_A/sm00/#02/data/handover_info_log.csv\n",
      "42/72 /home/wmnlab/F/database/2024-03-20/UDP_Bandlock_9S_Phone_A/sm00/#02/data/udp_dnlk_loss_latency.csv\n",
      "42/72 /home/wmnlab/F/database/2024-03-20/UDP_Bandlock_9S_Phone_A/sm00/#02/data/udp_uplk_loss_latency.csv\n",
      "42/72 /home/wmnlab/F/database/2024-03-20/UDP_Bandlock_9S_Phone_A/sm07/#02/data/handover_info_log.csv\n",
      "42/72 /home/wmnlab/F/database/2024-03-20/UDP_Bandlock_9S_Phone_A/sm07/#02/data/udp_dnlk_loss_latency.csv\n",
      "42/72 /home/wmnlab/F/database/2024-03-20/UDP_Bandlock_9S_Phone_A/sm07/#02/data/udp_uplk_loss_latency.csv\n"
     ]
    },
    {
     "data": {
      "application/vnd.jupyter.widget-view+json": {
       "model_id": "3cb6de442aec431c8abcb00e0b8f4d84",
       "version_major": 2,
       "version_minor": 0
      },
      "text/plain": [
       "  0%|                                                                                                         …"
      ]
     },
     "metadata": {},
     "output_type": "display_data"
    },
    {
     "name": "stdout",
     "output_type": "stream",
     "text": [
      "/home/wmnlab/F/results/20240329_160006be6c_new_dataset_sync/dr_results/dr_20240329_1700005690/20240329_20214200001_36f03b32a8e9180f_25%_corr/\\home\\wmnlab\\F\\database\\2024-03-20\\UDP_Bandlock_9S_Phone_A\\sm00\\#02\\data\\udp_dnlk_loss_latency\\home\\wmnlab\\F\\database\\2024-03-20\\UDP_Bandlock_9S_Phone_A\\sm07\\#02\\data\\udp_dnlk_loss_latency.csv\n",
      "43/72 /home/wmnlab/F/database/2024-03-20/UDP_Bandlock_9S_Phone_A/sm00/#02/data/handover_info_log.csv\n",
      "43/72 /home/wmnlab/F/database/2024-03-20/UDP_Bandlock_9S_Phone_A/sm00/#02/data/udp_dnlk_loss_latency.csv\n",
      "43/72 /home/wmnlab/F/database/2024-03-20/UDP_Bandlock_9S_Phone_A/sm00/#02/data/udp_uplk_loss_latency.csv\n",
      "43/72 /home/wmnlab/F/database/2024-03-20/UDP_Bandlock_9S_Phone_A/sm08/#02/data/handover_info_log.csv\n",
      "43/72 /home/wmnlab/F/database/2024-03-20/UDP_Bandlock_9S_Phone_A/sm08/#02/data/udp_dnlk_loss_latency.csv\n",
      "43/72 /home/wmnlab/F/database/2024-03-20/UDP_Bandlock_9S_Phone_A/sm08/#02/data/udp_uplk_loss_latency.csv\n"
     ]
    },
    {
     "data": {
      "application/vnd.jupyter.widget-view+json": {
       "model_id": "3d7ebfc72fdb4bc5a3a20911168bffea",
       "version_major": 2,
       "version_minor": 0
      },
      "text/plain": [
       "  0%|                                                                                                         …"
      ]
     },
     "metadata": {},
     "output_type": "display_data"
    },
    {
     "name": "stdout",
     "output_type": "stream",
     "text": [
      "/home/wmnlab/F/results/20240329_160006be6c_new_dataset_sync/dr_results/dr_20240329_1700005690/20240329_20214200001_36f03b32a8e9180f_25%_corr/\\home\\wmnlab\\F\\database\\2024-03-20\\UDP_Bandlock_9S_Phone_A\\sm00\\#02\\data\\udp_dnlk_loss_latency\\home\\wmnlab\\F\\database\\2024-03-20\\UDP_Bandlock_9S_Phone_A\\sm08\\#02\\data\\udp_dnlk_loss_latency.csv\n",
      "44/72 /home/wmnlab/F/database/2024-03-20/UDP_Bandlock_9S_Phone_A/sm01/#02/data/handover_info_log.csv\n",
      "44/72 /home/wmnlab/F/database/2024-03-20/UDP_Bandlock_9S_Phone_A/sm01/#02/data/udp_dnlk_loss_latency.csv\n",
      "44/72 /home/wmnlab/F/database/2024-03-20/UDP_Bandlock_9S_Phone_A/sm01/#02/data/udp_uplk_loss_latency.csv\n",
      "44/72 /home/wmnlab/F/database/2024-03-20/UDP_Bandlock_9S_Phone_A/sm02/#02/data/handover_info_log.csv\n",
      "44/72 /home/wmnlab/F/database/2024-03-20/UDP_Bandlock_9S_Phone_A/sm02/#02/data/udp_dnlk_loss_latency.csv\n",
      "44/72 /home/wmnlab/F/database/2024-03-20/UDP_Bandlock_9S_Phone_A/sm02/#02/data/udp_uplk_loss_latency.csv\n"
     ]
    },
    {
     "data": {
      "application/vnd.jupyter.widget-view+json": {
       "model_id": "3e23a304dd6b4d2cbd3ac210ce17650f",
       "version_major": 2,
       "version_minor": 0
      },
      "text/plain": [
       "  0%|                                                                                                         …"
      ]
     },
     "metadata": {},
     "output_type": "display_data"
    },
    {
     "name": "stdout",
     "output_type": "stream",
     "text": [
      "/home/wmnlab/F/results/20240329_160006be6c_new_dataset_sync/dr_results/dr_20240329_1700005690/20240329_20214200001_36f03b32a8e9180f_25%_corr/\\home\\wmnlab\\F\\database\\2024-03-20\\UDP_Bandlock_9S_Phone_A\\sm01\\#02\\data\\udp_dnlk_loss_latency\\home\\wmnlab\\F\\database\\2024-03-20\\UDP_Bandlock_9S_Phone_A\\sm02\\#02\\data\\udp_dnlk_loss_latency.csv\n",
      "45/72 /home/wmnlab/F/database/2024-03-20/UDP_Bandlock_9S_Phone_A/sm01/#02/data/handover_info_log.csv\n",
      "45/72 /home/wmnlab/F/database/2024-03-20/UDP_Bandlock_9S_Phone_A/sm01/#02/data/udp_dnlk_loss_latency.csv\n",
      "45/72 /home/wmnlab/F/database/2024-03-20/UDP_Bandlock_9S_Phone_A/sm01/#02/data/udp_uplk_loss_latency.csv\n",
      "45/72 /home/wmnlab/F/database/2024-03-20/UDP_Bandlock_9S_Phone_A/sm03/#02/data/handover_info_log.csv\n",
      "45/72 /home/wmnlab/F/database/2024-03-20/UDP_Bandlock_9S_Phone_A/sm03/#02/data/udp_dnlk_loss_latency.csv\n",
      "45/72 /home/wmnlab/F/database/2024-03-20/UDP_Bandlock_9S_Phone_A/sm03/#02/data/udp_uplk_loss_latency.csv\n"
     ]
    },
    {
     "data": {
      "application/vnd.jupyter.widget-view+json": {
       "model_id": "bb7bd5d68c8a42fd8e46dcf6f28f2d83",
       "version_major": 2,
       "version_minor": 0
      },
      "text/plain": [
       "  0%|                                                                                                         …"
      ]
     },
     "metadata": {},
     "output_type": "display_data"
    },
    {
     "name": "stdout",
     "output_type": "stream",
     "text": [
      "/home/wmnlab/F/results/20240329_160006be6c_new_dataset_sync/dr_results/dr_20240329_1700005690/20240329_20214200001_36f03b32a8e9180f_25%_corr/\\home\\wmnlab\\F\\database\\2024-03-20\\UDP_Bandlock_9S_Phone_A\\sm01\\#02\\data\\udp_dnlk_loss_latency\\home\\wmnlab\\F\\database\\2024-03-20\\UDP_Bandlock_9S_Phone_A\\sm03\\#02\\data\\udp_dnlk_loss_latency.csv\n",
      "46/72 /home/wmnlab/F/database/2024-03-20/UDP_Bandlock_9S_Phone_A/sm01/#02/data/handover_info_log.csv\n",
      "46/72 /home/wmnlab/F/database/2024-03-20/UDP_Bandlock_9S_Phone_A/sm01/#02/data/udp_dnlk_loss_latency.csv\n",
      "46/72 /home/wmnlab/F/database/2024-03-20/UDP_Bandlock_9S_Phone_A/sm01/#02/data/udp_uplk_loss_latency.csv\n",
      "46/72 /home/wmnlab/F/database/2024-03-20/UDP_Bandlock_9S_Phone_A/sm04/#02/data/handover_info_log.csv\n",
      "46/72 /home/wmnlab/F/database/2024-03-20/UDP_Bandlock_9S_Phone_A/sm04/#02/data/udp_dnlk_loss_latency.csv\n",
      "46/72 /home/wmnlab/F/database/2024-03-20/UDP_Bandlock_9S_Phone_A/sm04/#02/data/udp_uplk_loss_latency.csv\n"
     ]
    },
    {
     "data": {
      "application/vnd.jupyter.widget-view+json": {
       "model_id": "145cc5d5a675409aa8049b565251b2cf",
       "version_major": 2,
       "version_minor": 0
      },
      "text/plain": [
       "  0%|                                                                                                         …"
      ]
     },
     "metadata": {},
     "output_type": "display_data"
    },
    {
     "name": "stdout",
     "output_type": "stream",
     "text": [
      "/home/wmnlab/F/results/20240329_160006be6c_new_dataset_sync/dr_results/dr_20240329_1700005690/20240329_20214200001_36f03b32a8e9180f_25%_corr/\\home\\wmnlab\\F\\database\\2024-03-20\\UDP_Bandlock_9S_Phone_A\\sm01\\#02\\data\\udp_dnlk_loss_latency\\home\\wmnlab\\F\\database\\2024-03-20\\UDP_Bandlock_9S_Phone_A\\sm04\\#02\\data\\udp_dnlk_loss_latency.csv\n",
      "47/72 /home/wmnlab/F/database/2024-03-20/UDP_Bandlock_9S_Phone_A/sm01/#02/data/handover_info_log.csv\n",
      "47/72 /home/wmnlab/F/database/2024-03-20/UDP_Bandlock_9S_Phone_A/sm01/#02/data/udp_dnlk_loss_latency.csv\n",
      "47/72 /home/wmnlab/F/database/2024-03-20/UDP_Bandlock_9S_Phone_A/sm01/#02/data/udp_uplk_loss_latency.csv\n",
      "47/72 /home/wmnlab/F/database/2024-03-20/UDP_Bandlock_9S_Phone_A/sm05/#02/data/handover_info_log.csv\n",
      "47/72 /home/wmnlab/F/database/2024-03-20/UDP_Bandlock_9S_Phone_A/sm05/#02/data/udp_dnlk_loss_latency.csv\n",
      "47/72 /home/wmnlab/F/database/2024-03-20/UDP_Bandlock_9S_Phone_A/sm05/#02/data/udp_uplk_loss_latency.csv\n"
     ]
    },
    {
     "data": {
      "application/vnd.jupyter.widget-view+json": {
       "model_id": "05967148ce5e480aa3a8ef375eabd3bc",
       "version_major": 2,
       "version_minor": 0
      },
      "text/plain": [
       "  0%|                                                                                                         …"
      ]
     },
     "metadata": {},
     "output_type": "display_data"
    },
    {
     "name": "stdout",
     "output_type": "stream",
     "text": [
      "/home/wmnlab/F/results/20240329_160006be6c_new_dataset_sync/dr_results/dr_20240329_1700005690/20240329_20214200001_36f03b32a8e9180f_25%_corr/\\home\\wmnlab\\F\\database\\2024-03-20\\UDP_Bandlock_9S_Phone_A\\sm01\\#02\\data\\udp_dnlk_loss_latency\\home\\wmnlab\\F\\database\\2024-03-20\\UDP_Bandlock_9S_Phone_A\\sm05\\#02\\data\\udp_dnlk_loss_latency.csv\n",
      "48/72 /home/wmnlab/F/database/2024-03-20/UDP_Bandlock_9S_Phone_A/sm01/#02/data/handover_info_log.csv\n",
      "48/72 /home/wmnlab/F/database/2024-03-20/UDP_Bandlock_9S_Phone_A/sm01/#02/data/udp_dnlk_loss_latency.csv\n",
      "48/72 /home/wmnlab/F/database/2024-03-20/UDP_Bandlock_9S_Phone_A/sm01/#02/data/udp_uplk_loss_latency.csv\n",
      "48/72 /home/wmnlab/F/database/2024-03-20/UDP_Bandlock_9S_Phone_A/sm06/#02/data/handover_info_log.csv\n",
      "48/72 /home/wmnlab/F/database/2024-03-20/UDP_Bandlock_9S_Phone_A/sm06/#02/data/udp_dnlk_loss_latency.csv\n",
      "48/72 /home/wmnlab/F/database/2024-03-20/UDP_Bandlock_9S_Phone_A/sm06/#02/data/udp_uplk_loss_latency.csv\n"
     ]
    },
    {
     "data": {
      "application/vnd.jupyter.widget-view+json": {
       "model_id": "f68a1df0ae8344d498475a710713658d",
       "version_major": 2,
       "version_minor": 0
      },
      "text/plain": [
       "  0%|                                                                                                         …"
      ]
     },
     "metadata": {},
     "output_type": "display_data"
    },
    {
     "name": "stdout",
     "output_type": "stream",
     "text": [
      "/home/wmnlab/F/results/20240329_160006be6c_new_dataset_sync/dr_results/dr_20240329_1700005690/20240329_20214200001_36f03b32a8e9180f_25%_corr/\\home\\wmnlab\\F\\database\\2024-03-20\\UDP_Bandlock_9S_Phone_A\\sm01\\#02\\data\\udp_dnlk_loss_latency\\home\\wmnlab\\F\\database\\2024-03-20\\UDP_Bandlock_9S_Phone_A\\sm06\\#02\\data\\udp_dnlk_loss_latency.csv\n",
      "49/72 /home/wmnlab/F/database/2024-03-20/UDP_Bandlock_9S_Phone_A/sm01/#02/data/handover_info_log.csv\n",
      "49/72 /home/wmnlab/F/database/2024-03-20/UDP_Bandlock_9S_Phone_A/sm01/#02/data/udp_dnlk_loss_latency.csv\n",
      "49/72 /home/wmnlab/F/database/2024-03-20/UDP_Bandlock_9S_Phone_A/sm01/#02/data/udp_uplk_loss_latency.csv\n",
      "49/72 /home/wmnlab/F/database/2024-03-20/UDP_Bandlock_9S_Phone_A/sm07/#02/data/handover_info_log.csv\n",
      "49/72 /home/wmnlab/F/database/2024-03-20/UDP_Bandlock_9S_Phone_A/sm07/#02/data/udp_dnlk_loss_latency.csv\n",
      "49/72 /home/wmnlab/F/database/2024-03-20/UDP_Bandlock_9S_Phone_A/sm07/#02/data/udp_uplk_loss_latency.csv\n"
     ]
    },
    {
     "data": {
      "application/vnd.jupyter.widget-view+json": {
       "model_id": "b79b0e432af14ac88ff4f92eee793dd0",
       "version_major": 2,
       "version_minor": 0
      },
      "text/plain": [
       "  0%|                                                                                                         …"
      ]
     },
     "metadata": {},
     "output_type": "display_data"
    },
    {
     "name": "stdout",
     "output_type": "stream",
     "text": [
      "/home/wmnlab/F/results/20240329_160006be6c_new_dataset_sync/dr_results/dr_20240329_1700005690/20240329_20214200001_36f03b32a8e9180f_25%_corr/\\home\\wmnlab\\F\\database\\2024-03-20\\UDP_Bandlock_9S_Phone_A\\sm01\\#02\\data\\udp_dnlk_loss_latency\\home\\wmnlab\\F\\database\\2024-03-20\\UDP_Bandlock_9S_Phone_A\\sm07\\#02\\data\\udp_dnlk_loss_latency.csv\n",
      "50/72 /home/wmnlab/F/database/2024-03-20/UDP_Bandlock_9S_Phone_A/sm01/#02/data/handover_info_log.csv\n",
      "50/72 /home/wmnlab/F/database/2024-03-20/UDP_Bandlock_9S_Phone_A/sm01/#02/data/udp_dnlk_loss_latency.csv\n",
      "50/72 /home/wmnlab/F/database/2024-03-20/UDP_Bandlock_9S_Phone_A/sm01/#02/data/udp_uplk_loss_latency.csv\n",
      "50/72 /home/wmnlab/F/database/2024-03-20/UDP_Bandlock_9S_Phone_A/sm08/#02/data/handover_info_log.csv\n",
      "50/72 /home/wmnlab/F/database/2024-03-20/UDP_Bandlock_9S_Phone_A/sm08/#02/data/udp_dnlk_loss_latency.csv\n",
      "50/72 /home/wmnlab/F/database/2024-03-20/UDP_Bandlock_9S_Phone_A/sm08/#02/data/udp_uplk_loss_latency.csv\n"
     ]
    },
    {
     "data": {
      "application/vnd.jupyter.widget-view+json": {
       "model_id": "dbb430ab05254e09a3f8c19a2d310903",
       "version_major": 2,
       "version_minor": 0
      },
      "text/plain": [
       "  0%|                                                                                                         …"
      ]
     },
     "metadata": {},
     "output_type": "display_data"
    },
    {
     "name": "stdout",
     "output_type": "stream",
     "text": [
      "/home/wmnlab/F/results/20240329_160006be6c_new_dataset_sync/dr_results/dr_20240329_1700005690/20240329_20214200001_36f03b32a8e9180f_25%_corr/\\home\\wmnlab\\F\\database\\2024-03-20\\UDP_Bandlock_9S_Phone_A\\sm01\\#02\\data\\udp_dnlk_loss_latency\\home\\wmnlab\\F\\database\\2024-03-20\\UDP_Bandlock_9S_Phone_A\\sm08\\#02\\data\\udp_dnlk_loss_latency.csv\n",
      "51/72 /home/wmnlab/F/database/2024-03-20/UDP_Bandlock_9S_Phone_A/sm02/#02/data/handover_info_log.csv\n",
      "51/72 /home/wmnlab/F/database/2024-03-20/UDP_Bandlock_9S_Phone_A/sm02/#02/data/udp_dnlk_loss_latency.csv\n",
      "51/72 /home/wmnlab/F/database/2024-03-20/UDP_Bandlock_9S_Phone_A/sm02/#02/data/udp_uplk_loss_latency.csv\n",
      "51/72 /home/wmnlab/F/database/2024-03-20/UDP_Bandlock_9S_Phone_A/sm03/#02/data/handover_info_log.csv\n",
      "51/72 /home/wmnlab/F/database/2024-03-20/UDP_Bandlock_9S_Phone_A/sm03/#02/data/udp_dnlk_loss_latency.csv\n",
      "51/72 /home/wmnlab/F/database/2024-03-20/UDP_Bandlock_9S_Phone_A/sm03/#02/data/udp_uplk_loss_latency.csv\n"
     ]
    },
    {
     "data": {
      "application/vnd.jupyter.widget-view+json": {
       "model_id": "40f317c8e7ed486fabe51589da4f1133",
       "version_major": 2,
       "version_minor": 0
      },
      "text/plain": [
       "  0%|                                                                                                         …"
      ]
     },
     "metadata": {},
     "output_type": "display_data"
    },
    {
     "name": "stdout",
     "output_type": "stream",
     "text": [
      "/home/wmnlab/F/results/20240329_160006be6c_new_dataset_sync/dr_results/dr_20240329_1700005690/20240329_20214200001_36f03b32a8e9180f_25%_corr/\\home\\wmnlab\\F\\database\\2024-03-20\\UDP_Bandlock_9S_Phone_A\\sm02\\#02\\data\\udp_dnlk_loss_latency\\home\\wmnlab\\F\\database\\2024-03-20\\UDP_Bandlock_9S_Phone_A\\sm03\\#02\\data\\udp_dnlk_loss_latency.csv\n",
      "52/72 /home/wmnlab/F/database/2024-03-20/UDP_Bandlock_9S_Phone_A/sm02/#02/data/handover_info_log.csv\n",
      "52/72 /home/wmnlab/F/database/2024-03-20/UDP_Bandlock_9S_Phone_A/sm02/#02/data/udp_dnlk_loss_latency.csv\n",
      "52/72 /home/wmnlab/F/database/2024-03-20/UDP_Bandlock_9S_Phone_A/sm02/#02/data/udp_uplk_loss_latency.csv\n",
      "52/72 /home/wmnlab/F/database/2024-03-20/UDP_Bandlock_9S_Phone_A/sm04/#02/data/handover_info_log.csv\n",
      "52/72 /home/wmnlab/F/database/2024-03-20/UDP_Bandlock_9S_Phone_A/sm04/#02/data/udp_dnlk_loss_latency.csv\n",
      "52/72 /home/wmnlab/F/database/2024-03-20/UDP_Bandlock_9S_Phone_A/sm04/#02/data/udp_uplk_loss_latency.csv\n"
     ]
    },
    {
     "data": {
      "application/vnd.jupyter.widget-view+json": {
       "model_id": "8dda1830cff24c988092f7f36bf3ef84",
       "version_major": 2,
       "version_minor": 0
      },
      "text/plain": [
       "  0%|                                                                                                         …"
      ]
     },
     "metadata": {},
     "output_type": "display_data"
    },
    {
     "name": "stdout",
     "output_type": "stream",
     "text": [
      "/home/wmnlab/F/results/20240329_160006be6c_new_dataset_sync/dr_results/dr_20240329_1700005690/20240329_20214200001_36f03b32a8e9180f_25%_corr/\\home\\wmnlab\\F\\database\\2024-03-20\\UDP_Bandlock_9S_Phone_A\\sm02\\#02\\data\\udp_dnlk_loss_latency\\home\\wmnlab\\F\\database\\2024-03-20\\UDP_Bandlock_9S_Phone_A\\sm04\\#02\\data\\udp_dnlk_loss_latency.csv\n",
      "53/72 /home/wmnlab/F/database/2024-03-20/UDP_Bandlock_9S_Phone_A/sm02/#02/data/handover_info_log.csv\n",
      "53/72 /home/wmnlab/F/database/2024-03-20/UDP_Bandlock_9S_Phone_A/sm02/#02/data/udp_dnlk_loss_latency.csv\n",
      "53/72 /home/wmnlab/F/database/2024-03-20/UDP_Bandlock_9S_Phone_A/sm02/#02/data/udp_uplk_loss_latency.csv\n",
      "53/72 /home/wmnlab/F/database/2024-03-20/UDP_Bandlock_9S_Phone_A/sm05/#02/data/handover_info_log.csv\n",
      "53/72 /home/wmnlab/F/database/2024-03-20/UDP_Bandlock_9S_Phone_A/sm05/#02/data/udp_dnlk_loss_latency.csv\n",
      "53/72 /home/wmnlab/F/database/2024-03-20/UDP_Bandlock_9S_Phone_A/sm05/#02/data/udp_uplk_loss_latency.csv\n"
     ]
    },
    {
     "data": {
      "application/vnd.jupyter.widget-view+json": {
       "model_id": "bab76c161f744871b08e92e992638d99",
       "version_major": 2,
       "version_minor": 0
      },
      "text/plain": [
       "  0%|                                                                                                         …"
      ]
     },
     "metadata": {},
     "output_type": "display_data"
    },
    {
     "name": "stdout",
     "output_type": "stream",
     "text": [
      "/home/wmnlab/F/results/20240329_160006be6c_new_dataset_sync/dr_results/dr_20240329_1700005690/20240329_20214200001_36f03b32a8e9180f_25%_corr/\\home\\wmnlab\\F\\database\\2024-03-20\\UDP_Bandlock_9S_Phone_A\\sm02\\#02\\data\\udp_dnlk_loss_latency\\home\\wmnlab\\F\\database\\2024-03-20\\UDP_Bandlock_9S_Phone_A\\sm05\\#02\\data\\udp_dnlk_loss_latency.csv\n",
      "54/72 /home/wmnlab/F/database/2024-03-20/UDP_Bandlock_9S_Phone_A/sm02/#02/data/handover_info_log.csv\n",
      "54/72 /home/wmnlab/F/database/2024-03-20/UDP_Bandlock_9S_Phone_A/sm02/#02/data/udp_dnlk_loss_latency.csv\n",
      "54/72 /home/wmnlab/F/database/2024-03-20/UDP_Bandlock_9S_Phone_A/sm02/#02/data/udp_uplk_loss_latency.csv\n",
      "54/72 /home/wmnlab/F/database/2024-03-20/UDP_Bandlock_9S_Phone_A/sm06/#02/data/handover_info_log.csv\n",
      "54/72 /home/wmnlab/F/database/2024-03-20/UDP_Bandlock_9S_Phone_A/sm06/#02/data/udp_dnlk_loss_latency.csv\n",
      "54/72 /home/wmnlab/F/database/2024-03-20/UDP_Bandlock_9S_Phone_A/sm06/#02/data/udp_uplk_loss_latency.csv\n"
     ]
    },
    {
     "data": {
      "application/vnd.jupyter.widget-view+json": {
       "model_id": "25507c8603fb4311b03ffd43a57587fd",
       "version_major": 2,
       "version_minor": 0
      },
      "text/plain": [
       "  0%|                                                                                                         …"
      ]
     },
     "metadata": {},
     "output_type": "display_data"
    },
    {
     "name": "stdout",
     "output_type": "stream",
     "text": [
      "/home/wmnlab/F/results/20240329_160006be6c_new_dataset_sync/dr_results/dr_20240329_1700005690/20240329_20214200001_36f03b32a8e9180f_25%_corr/\\home\\wmnlab\\F\\database\\2024-03-20\\UDP_Bandlock_9S_Phone_A\\sm02\\#02\\data\\udp_dnlk_loss_latency\\home\\wmnlab\\F\\database\\2024-03-20\\UDP_Bandlock_9S_Phone_A\\sm06\\#02\\data\\udp_dnlk_loss_latency.csv\n",
      "55/72 /home/wmnlab/F/database/2024-03-20/UDP_Bandlock_9S_Phone_A/sm02/#02/data/handover_info_log.csv\n",
      "55/72 /home/wmnlab/F/database/2024-03-20/UDP_Bandlock_9S_Phone_A/sm02/#02/data/udp_dnlk_loss_latency.csv\n",
      "55/72 /home/wmnlab/F/database/2024-03-20/UDP_Bandlock_9S_Phone_A/sm02/#02/data/udp_uplk_loss_latency.csv\n",
      "55/72 /home/wmnlab/F/database/2024-03-20/UDP_Bandlock_9S_Phone_A/sm07/#02/data/handover_info_log.csv\n",
      "55/72 /home/wmnlab/F/database/2024-03-20/UDP_Bandlock_9S_Phone_A/sm07/#02/data/udp_dnlk_loss_latency.csv\n",
      "55/72 /home/wmnlab/F/database/2024-03-20/UDP_Bandlock_9S_Phone_A/sm07/#02/data/udp_uplk_loss_latency.csv\n"
     ]
    },
    {
     "data": {
      "application/vnd.jupyter.widget-view+json": {
       "model_id": "381449a756e349b1a7e00a61a650b4ab",
       "version_major": 2,
       "version_minor": 0
      },
      "text/plain": [
       "  0%|                                                                                                         …"
      ]
     },
     "metadata": {},
     "output_type": "display_data"
    },
    {
     "name": "stdout",
     "output_type": "stream",
     "text": [
      "/home/wmnlab/F/results/20240329_160006be6c_new_dataset_sync/dr_results/dr_20240329_1700005690/20240329_20214200001_36f03b32a8e9180f_25%_corr/\\home\\wmnlab\\F\\database\\2024-03-20\\UDP_Bandlock_9S_Phone_A\\sm02\\#02\\data\\udp_dnlk_loss_latency\\home\\wmnlab\\F\\database\\2024-03-20\\UDP_Bandlock_9S_Phone_A\\sm07\\#02\\data\\udp_dnlk_loss_latency.csv\n",
      "56/72 /home/wmnlab/F/database/2024-03-20/UDP_Bandlock_9S_Phone_A/sm02/#02/data/handover_info_log.csv\n",
      "56/72 /home/wmnlab/F/database/2024-03-20/UDP_Bandlock_9S_Phone_A/sm02/#02/data/udp_dnlk_loss_latency.csv\n",
      "56/72 /home/wmnlab/F/database/2024-03-20/UDP_Bandlock_9S_Phone_A/sm02/#02/data/udp_uplk_loss_latency.csv\n",
      "56/72 /home/wmnlab/F/database/2024-03-20/UDP_Bandlock_9S_Phone_A/sm08/#02/data/handover_info_log.csv\n",
      "56/72 /home/wmnlab/F/database/2024-03-20/UDP_Bandlock_9S_Phone_A/sm08/#02/data/udp_dnlk_loss_latency.csv\n",
      "56/72 /home/wmnlab/F/database/2024-03-20/UDP_Bandlock_9S_Phone_A/sm08/#02/data/udp_uplk_loss_latency.csv\n"
     ]
    },
    {
     "data": {
      "application/vnd.jupyter.widget-view+json": {
       "model_id": "7382e01bea334f658885c14de703e738",
       "version_major": 2,
       "version_minor": 0
      },
      "text/plain": [
       "  0%|                                                                                                         …"
      ]
     },
     "metadata": {},
     "output_type": "display_data"
    },
    {
     "name": "stdout",
     "output_type": "stream",
     "text": [
      "/home/wmnlab/F/results/20240329_160006be6c_new_dataset_sync/dr_results/dr_20240329_1700005690/20240329_20214200001_36f03b32a8e9180f_25%_corr/\\home\\wmnlab\\F\\database\\2024-03-20\\UDP_Bandlock_9S_Phone_A\\sm02\\#02\\data\\udp_dnlk_loss_latency\\home\\wmnlab\\F\\database\\2024-03-20\\UDP_Bandlock_9S_Phone_A\\sm08\\#02\\data\\udp_dnlk_loss_latency.csv\n",
      "57/72 /home/wmnlab/F/database/2024-03-20/UDP_Bandlock_9S_Phone_A/sm03/#02/data/handover_info_log.csv\n",
      "57/72 /home/wmnlab/F/database/2024-03-20/UDP_Bandlock_9S_Phone_A/sm03/#02/data/udp_dnlk_loss_latency.csv\n",
      "57/72 /home/wmnlab/F/database/2024-03-20/UDP_Bandlock_9S_Phone_A/sm03/#02/data/udp_uplk_loss_latency.csv\n",
      "57/72 /home/wmnlab/F/database/2024-03-20/UDP_Bandlock_9S_Phone_A/sm04/#02/data/handover_info_log.csv\n",
      "57/72 /home/wmnlab/F/database/2024-03-20/UDP_Bandlock_9S_Phone_A/sm04/#02/data/udp_dnlk_loss_latency.csv\n",
      "57/72 /home/wmnlab/F/database/2024-03-20/UDP_Bandlock_9S_Phone_A/sm04/#02/data/udp_uplk_loss_latency.csv\n"
     ]
    },
    {
     "data": {
      "application/vnd.jupyter.widget-view+json": {
       "model_id": "4cd110a7ae234e07993a7a2473fa42b8",
       "version_major": 2,
       "version_minor": 0
      },
      "text/plain": [
       "  0%|                                                                                                         …"
      ]
     },
     "metadata": {},
     "output_type": "display_data"
    },
    {
     "name": "stdout",
     "output_type": "stream",
     "text": [
      "/home/wmnlab/F/results/20240329_160006be6c_new_dataset_sync/dr_results/dr_20240329_1700005690/20240329_20214200001_36f03b32a8e9180f_25%_corr/\\home\\wmnlab\\F\\database\\2024-03-20\\UDP_Bandlock_9S_Phone_A\\sm03\\#02\\data\\udp_dnlk_loss_latency\\home\\wmnlab\\F\\database\\2024-03-20\\UDP_Bandlock_9S_Phone_A\\sm04\\#02\\data\\udp_dnlk_loss_latency.csv\n",
      "58/72 /home/wmnlab/F/database/2024-03-20/UDP_Bandlock_9S_Phone_A/sm03/#02/data/handover_info_log.csv\n",
      "58/72 /home/wmnlab/F/database/2024-03-20/UDP_Bandlock_9S_Phone_A/sm03/#02/data/udp_dnlk_loss_latency.csv\n",
      "58/72 /home/wmnlab/F/database/2024-03-20/UDP_Bandlock_9S_Phone_A/sm03/#02/data/udp_uplk_loss_latency.csv\n",
      "58/72 /home/wmnlab/F/database/2024-03-20/UDP_Bandlock_9S_Phone_A/sm05/#02/data/handover_info_log.csv\n",
      "58/72 /home/wmnlab/F/database/2024-03-20/UDP_Bandlock_9S_Phone_A/sm05/#02/data/udp_dnlk_loss_latency.csv\n",
      "58/72 /home/wmnlab/F/database/2024-03-20/UDP_Bandlock_9S_Phone_A/sm05/#02/data/udp_uplk_loss_latency.csv\n"
     ]
    },
    {
     "data": {
      "application/vnd.jupyter.widget-view+json": {
       "model_id": "530f680f8f504d8090c509b1913d6c82",
       "version_major": 2,
       "version_minor": 0
      },
      "text/plain": [
       "  0%|                                                                                                         …"
      ]
     },
     "metadata": {},
     "output_type": "display_data"
    },
    {
     "name": "stdout",
     "output_type": "stream",
     "text": [
      "/home/wmnlab/F/results/20240329_160006be6c_new_dataset_sync/dr_results/dr_20240329_1700005690/20240329_20214200001_36f03b32a8e9180f_25%_corr/\\home\\wmnlab\\F\\database\\2024-03-20\\UDP_Bandlock_9S_Phone_A\\sm03\\#02\\data\\udp_dnlk_loss_latency\\home\\wmnlab\\F\\database\\2024-03-20\\UDP_Bandlock_9S_Phone_A\\sm05\\#02\\data\\udp_dnlk_loss_latency.csv\n",
      "59/72 /home/wmnlab/F/database/2024-03-20/UDP_Bandlock_9S_Phone_A/sm03/#02/data/handover_info_log.csv\n",
      "59/72 /home/wmnlab/F/database/2024-03-20/UDP_Bandlock_9S_Phone_A/sm03/#02/data/udp_dnlk_loss_latency.csv\n",
      "59/72 /home/wmnlab/F/database/2024-03-20/UDP_Bandlock_9S_Phone_A/sm03/#02/data/udp_uplk_loss_latency.csv\n",
      "59/72 /home/wmnlab/F/database/2024-03-20/UDP_Bandlock_9S_Phone_A/sm06/#02/data/handover_info_log.csv\n",
      "59/72 /home/wmnlab/F/database/2024-03-20/UDP_Bandlock_9S_Phone_A/sm06/#02/data/udp_dnlk_loss_latency.csv\n",
      "59/72 /home/wmnlab/F/database/2024-03-20/UDP_Bandlock_9S_Phone_A/sm06/#02/data/udp_uplk_loss_latency.csv\n"
     ]
    },
    {
     "data": {
      "application/vnd.jupyter.widget-view+json": {
       "model_id": "eda6fd1425b941eba26bbea0126a1f5e",
       "version_major": 2,
       "version_minor": 0
      },
      "text/plain": [
       "  0%|                                                                                                         …"
      ]
     },
     "metadata": {},
     "output_type": "display_data"
    },
    {
     "name": "stdout",
     "output_type": "stream",
     "text": [
      "/home/wmnlab/F/results/20240329_160006be6c_new_dataset_sync/dr_results/dr_20240329_1700005690/20240329_20214200001_36f03b32a8e9180f_25%_corr/\\home\\wmnlab\\F\\database\\2024-03-20\\UDP_Bandlock_9S_Phone_A\\sm03\\#02\\data\\udp_dnlk_loss_latency\\home\\wmnlab\\F\\database\\2024-03-20\\UDP_Bandlock_9S_Phone_A\\sm06\\#02\\data\\udp_dnlk_loss_latency.csv\n",
      "60/72 /home/wmnlab/F/database/2024-03-20/UDP_Bandlock_9S_Phone_A/sm03/#02/data/handover_info_log.csv\n",
      "60/72 /home/wmnlab/F/database/2024-03-20/UDP_Bandlock_9S_Phone_A/sm03/#02/data/udp_dnlk_loss_latency.csv\n",
      "60/72 /home/wmnlab/F/database/2024-03-20/UDP_Bandlock_9S_Phone_A/sm03/#02/data/udp_uplk_loss_latency.csv\n",
      "60/72 /home/wmnlab/F/database/2024-03-20/UDP_Bandlock_9S_Phone_A/sm07/#02/data/handover_info_log.csv\n",
      "60/72 /home/wmnlab/F/database/2024-03-20/UDP_Bandlock_9S_Phone_A/sm07/#02/data/udp_dnlk_loss_latency.csv\n",
      "60/72 /home/wmnlab/F/database/2024-03-20/UDP_Bandlock_9S_Phone_A/sm07/#02/data/udp_uplk_loss_latency.csv\n"
     ]
    },
    {
     "data": {
      "application/vnd.jupyter.widget-view+json": {
       "model_id": "3f85c177ce224e52896dc629304e030b",
       "version_major": 2,
       "version_minor": 0
      },
      "text/plain": [
       "  0%|                                                                                                         …"
      ]
     },
     "metadata": {},
     "output_type": "display_data"
    },
    {
     "name": "stdout",
     "output_type": "stream",
     "text": [
      "/home/wmnlab/F/results/20240329_160006be6c_new_dataset_sync/dr_results/dr_20240329_1700005690/20240329_20214200001_36f03b32a8e9180f_25%_corr/\\home\\wmnlab\\F\\database\\2024-03-20\\UDP_Bandlock_9S_Phone_A\\sm03\\#02\\data\\udp_dnlk_loss_latency\\home\\wmnlab\\F\\database\\2024-03-20\\UDP_Bandlock_9S_Phone_A\\sm07\\#02\\data\\udp_dnlk_loss_latency.csv\n",
      "61/72 /home/wmnlab/F/database/2024-03-20/UDP_Bandlock_9S_Phone_A/sm03/#02/data/handover_info_log.csv\n",
      "61/72 /home/wmnlab/F/database/2024-03-20/UDP_Bandlock_9S_Phone_A/sm03/#02/data/udp_dnlk_loss_latency.csv\n",
      "61/72 /home/wmnlab/F/database/2024-03-20/UDP_Bandlock_9S_Phone_A/sm03/#02/data/udp_uplk_loss_latency.csv\n",
      "61/72 /home/wmnlab/F/database/2024-03-20/UDP_Bandlock_9S_Phone_A/sm08/#02/data/handover_info_log.csv\n",
      "61/72 /home/wmnlab/F/database/2024-03-20/UDP_Bandlock_9S_Phone_A/sm08/#02/data/udp_dnlk_loss_latency.csv\n",
      "61/72 /home/wmnlab/F/database/2024-03-20/UDP_Bandlock_9S_Phone_A/sm08/#02/data/udp_uplk_loss_latency.csv\n"
     ]
    },
    {
     "data": {
      "application/vnd.jupyter.widget-view+json": {
       "model_id": "4bb509425e1942d18d3d95b9b472ffce",
       "version_major": 2,
       "version_minor": 0
      },
      "text/plain": [
       "  0%|                                                                                                         …"
      ]
     },
     "metadata": {},
     "output_type": "display_data"
    },
    {
     "name": "stdout",
     "output_type": "stream",
     "text": [
      "/home/wmnlab/F/results/20240329_160006be6c_new_dataset_sync/dr_results/dr_20240329_1700005690/20240329_20214200001_36f03b32a8e9180f_25%_corr/\\home\\wmnlab\\F\\database\\2024-03-20\\UDP_Bandlock_9S_Phone_A\\sm03\\#02\\data\\udp_dnlk_loss_latency\\home\\wmnlab\\F\\database\\2024-03-20\\UDP_Bandlock_9S_Phone_A\\sm08\\#02\\data\\udp_dnlk_loss_latency.csv\n",
      "62/72 /home/wmnlab/F/database/2024-03-20/UDP_Bandlock_9S_Phone_A/sm04/#02/data/handover_info_log.csv\n",
      "62/72 /home/wmnlab/F/database/2024-03-20/UDP_Bandlock_9S_Phone_A/sm04/#02/data/udp_dnlk_loss_latency.csv\n",
      "62/72 /home/wmnlab/F/database/2024-03-20/UDP_Bandlock_9S_Phone_A/sm04/#02/data/udp_uplk_loss_latency.csv\n",
      "62/72 /home/wmnlab/F/database/2024-03-20/UDP_Bandlock_9S_Phone_A/sm05/#02/data/handover_info_log.csv\n",
      "62/72 /home/wmnlab/F/database/2024-03-20/UDP_Bandlock_9S_Phone_A/sm05/#02/data/udp_dnlk_loss_latency.csv\n",
      "62/72 /home/wmnlab/F/database/2024-03-20/UDP_Bandlock_9S_Phone_A/sm05/#02/data/udp_uplk_loss_latency.csv\n"
     ]
    },
    {
     "data": {
      "application/vnd.jupyter.widget-view+json": {
       "model_id": "99fbcd0cd67c4b14925d81777595d569",
       "version_major": 2,
       "version_minor": 0
      },
      "text/plain": [
       "  0%|                                                                                                         …"
      ]
     },
     "metadata": {},
     "output_type": "display_data"
    },
    {
     "name": "stdout",
     "output_type": "stream",
     "text": [
      "/home/wmnlab/F/results/20240329_160006be6c_new_dataset_sync/dr_results/dr_20240329_1700005690/20240329_20214200001_36f03b32a8e9180f_25%_corr/\\home\\wmnlab\\F\\database\\2024-03-20\\UDP_Bandlock_9S_Phone_A\\sm04\\#02\\data\\udp_dnlk_loss_latency\\home\\wmnlab\\F\\database\\2024-03-20\\UDP_Bandlock_9S_Phone_A\\sm05\\#02\\data\\udp_dnlk_loss_latency.csv\n",
      "63/72 /home/wmnlab/F/database/2024-03-20/UDP_Bandlock_9S_Phone_A/sm04/#02/data/handover_info_log.csv\n",
      "63/72 /home/wmnlab/F/database/2024-03-20/UDP_Bandlock_9S_Phone_A/sm04/#02/data/udp_dnlk_loss_latency.csv\n",
      "63/72 /home/wmnlab/F/database/2024-03-20/UDP_Bandlock_9S_Phone_A/sm04/#02/data/udp_uplk_loss_latency.csv\n",
      "63/72 /home/wmnlab/F/database/2024-03-20/UDP_Bandlock_9S_Phone_A/sm06/#02/data/handover_info_log.csv\n",
      "63/72 /home/wmnlab/F/database/2024-03-20/UDP_Bandlock_9S_Phone_A/sm06/#02/data/udp_dnlk_loss_latency.csv\n",
      "63/72 /home/wmnlab/F/database/2024-03-20/UDP_Bandlock_9S_Phone_A/sm06/#02/data/udp_uplk_loss_latency.csv\n"
     ]
    },
    {
     "data": {
      "application/vnd.jupyter.widget-view+json": {
       "model_id": "8459142dc7c2404e81c246710fb75389",
       "version_major": 2,
       "version_minor": 0
      },
      "text/plain": [
       "  0%|                                                                                                         …"
      ]
     },
     "metadata": {},
     "output_type": "display_data"
    },
    {
     "name": "stdout",
     "output_type": "stream",
     "text": [
      "/home/wmnlab/F/results/20240329_160006be6c_new_dataset_sync/dr_results/dr_20240329_1700005690/20240329_20214200001_36f03b32a8e9180f_25%_corr/\\home\\wmnlab\\F\\database\\2024-03-20\\UDP_Bandlock_9S_Phone_A\\sm04\\#02\\data\\udp_dnlk_loss_latency\\home\\wmnlab\\F\\database\\2024-03-20\\UDP_Bandlock_9S_Phone_A\\sm06\\#02\\data\\udp_dnlk_loss_latency.csv\n",
      "64/72 /home/wmnlab/F/database/2024-03-20/UDP_Bandlock_9S_Phone_A/sm04/#02/data/handover_info_log.csv\n",
      "64/72 /home/wmnlab/F/database/2024-03-20/UDP_Bandlock_9S_Phone_A/sm04/#02/data/udp_dnlk_loss_latency.csv\n",
      "64/72 /home/wmnlab/F/database/2024-03-20/UDP_Bandlock_9S_Phone_A/sm04/#02/data/udp_uplk_loss_latency.csv\n",
      "64/72 /home/wmnlab/F/database/2024-03-20/UDP_Bandlock_9S_Phone_A/sm07/#02/data/handover_info_log.csv\n",
      "64/72 /home/wmnlab/F/database/2024-03-20/UDP_Bandlock_9S_Phone_A/sm07/#02/data/udp_dnlk_loss_latency.csv\n",
      "64/72 /home/wmnlab/F/database/2024-03-20/UDP_Bandlock_9S_Phone_A/sm07/#02/data/udp_uplk_loss_latency.csv\n"
     ]
    },
    {
     "data": {
      "application/vnd.jupyter.widget-view+json": {
       "model_id": "4267f5ef630d448d991e5d4de8d2006a",
       "version_major": 2,
       "version_minor": 0
      },
      "text/plain": [
       "  0%|                                                                                                         …"
      ]
     },
     "metadata": {},
     "output_type": "display_data"
    },
    {
     "name": "stdout",
     "output_type": "stream",
     "text": [
      "/home/wmnlab/F/results/20240329_160006be6c_new_dataset_sync/dr_results/dr_20240329_1700005690/20240329_20214200001_36f03b32a8e9180f_25%_corr/\\home\\wmnlab\\F\\database\\2024-03-20\\UDP_Bandlock_9S_Phone_A\\sm04\\#02\\data\\udp_dnlk_loss_latency\\home\\wmnlab\\F\\database\\2024-03-20\\UDP_Bandlock_9S_Phone_A\\sm07\\#02\\data\\udp_dnlk_loss_latency.csv\n",
      "65/72 /home/wmnlab/F/database/2024-03-20/UDP_Bandlock_9S_Phone_A/sm04/#02/data/handover_info_log.csv\n",
      "65/72 /home/wmnlab/F/database/2024-03-20/UDP_Bandlock_9S_Phone_A/sm04/#02/data/udp_dnlk_loss_latency.csv\n",
      "65/72 /home/wmnlab/F/database/2024-03-20/UDP_Bandlock_9S_Phone_A/sm04/#02/data/udp_uplk_loss_latency.csv\n",
      "65/72 /home/wmnlab/F/database/2024-03-20/UDP_Bandlock_9S_Phone_A/sm08/#02/data/handover_info_log.csv\n",
      "65/72 /home/wmnlab/F/database/2024-03-20/UDP_Bandlock_9S_Phone_A/sm08/#02/data/udp_dnlk_loss_latency.csv\n",
      "65/72 /home/wmnlab/F/database/2024-03-20/UDP_Bandlock_9S_Phone_A/sm08/#02/data/udp_uplk_loss_latency.csv\n"
     ]
    },
    {
     "data": {
      "application/vnd.jupyter.widget-view+json": {
       "model_id": "74ae4ae2f2314100bbdfabfcb3e4d01c",
       "version_major": 2,
       "version_minor": 0
      },
      "text/plain": [
       "  0%|                                                                                                         …"
      ]
     },
     "metadata": {},
     "output_type": "display_data"
    },
    {
     "name": "stdout",
     "output_type": "stream",
     "text": [
      "/home/wmnlab/F/results/20240329_160006be6c_new_dataset_sync/dr_results/dr_20240329_1700005690/20240329_20214200001_36f03b32a8e9180f_25%_corr/\\home\\wmnlab\\F\\database\\2024-03-20\\UDP_Bandlock_9S_Phone_A\\sm04\\#02\\data\\udp_dnlk_loss_latency\\home\\wmnlab\\F\\database\\2024-03-20\\UDP_Bandlock_9S_Phone_A\\sm08\\#02\\data\\udp_dnlk_loss_latency.csv\n",
      "66/72 /home/wmnlab/F/database/2024-03-20/UDP_Bandlock_9S_Phone_A/sm05/#02/data/handover_info_log.csv\n",
      "66/72 /home/wmnlab/F/database/2024-03-20/UDP_Bandlock_9S_Phone_A/sm05/#02/data/udp_dnlk_loss_latency.csv\n",
      "66/72 /home/wmnlab/F/database/2024-03-20/UDP_Bandlock_9S_Phone_A/sm05/#02/data/udp_uplk_loss_latency.csv\n",
      "66/72 /home/wmnlab/F/database/2024-03-20/UDP_Bandlock_9S_Phone_A/sm06/#02/data/handover_info_log.csv\n",
      "66/72 /home/wmnlab/F/database/2024-03-20/UDP_Bandlock_9S_Phone_A/sm06/#02/data/udp_dnlk_loss_latency.csv\n",
      "66/72 /home/wmnlab/F/database/2024-03-20/UDP_Bandlock_9S_Phone_A/sm06/#02/data/udp_uplk_loss_latency.csv\n"
     ]
    },
    {
     "data": {
      "application/vnd.jupyter.widget-view+json": {
       "model_id": "57b9ca30df4e4dee8263e584aa856232",
       "version_major": 2,
       "version_minor": 0
      },
      "text/plain": [
       "  0%|                                                                                                         …"
      ]
     },
     "metadata": {},
     "output_type": "display_data"
    },
    {
     "name": "stdout",
     "output_type": "stream",
     "text": [
      "/home/wmnlab/F/results/20240329_160006be6c_new_dataset_sync/dr_results/dr_20240329_1700005690/20240329_20214200001_36f03b32a8e9180f_25%_corr/\\home\\wmnlab\\F\\database\\2024-03-20\\UDP_Bandlock_9S_Phone_A\\sm05\\#02\\data\\udp_dnlk_loss_latency\\home\\wmnlab\\F\\database\\2024-03-20\\UDP_Bandlock_9S_Phone_A\\sm06\\#02\\data\\udp_dnlk_loss_latency.csv\n",
      "67/72 /home/wmnlab/F/database/2024-03-20/UDP_Bandlock_9S_Phone_A/sm05/#02/data/handover_info_log.csv\n",
      "67/72 /home/wmnlab/F/database/2024-03-20/UDP_Bandlock_9S_Phone_A/sm05/#02/data/udp_dnlk_loss_latency.csv\n",
      "67/72 /home/wmnlab/F/database/2024-03-20/UDP_Bandlock_9S_Phone_A/sm05/#02/data/udp_uplk_loss_latency.csv\n",
      "67/72 /home/wmnlab/F/database/2024-03-20/UDP_Bandlock_9S_Phone_A/sm07/#02/data/handover_info_log.csv\n",
      "67/72 /home/wmnlab/F/database/2024-03-20/UDP_Bandlock_9S_Phone_A/sm07/#02/data/udp_dnlk_loss_latency.csv\n",
      "67/72 /home/wmnlab/F/database/2024-03-20/UDP_Bandlock_9S_Phone_A/sm07/#02/data/udp_uplk_loss_latency.csv\n"
     ]
    },
    {
     "data": {
      "application/vnd.jupyter.widget-view+json": {
       "model_id": "1046ad70cc6e43dca05d8662c45c805f",
       "version_major": 2,
       "version_minor": 0
      },
      "text/plain": [
       "  0%|                                                                                                         …"
      ]
     },
     "metadata": {},
     "output_type": "display_data"
    },
    {
     "name": "stdout",
     "output_type": "stream",
     "text": [
      "/home/wmnlab/F/results/20240329_160006be6c_new_dataset_sync/dr_results/dr_20240329_1700005690/20240329_20214200001_36f03b32a8e9180f_25%_corr/\\home\\wmnlab\\F\\database\\2024-03-20\\UDP_Bandlock_9S_Phone_A\\sm05\\#02\\data\\udp_dnlk_loss_latency\\home\\wmnlab\\F\\database\\2024-03-20\\UDP_Bandlock_9S_Phone_A\\sm07\\#02\\data\\udp_dnlk_loss_latency.csv\n",
      "68/72 /home/wmnlab/F/database/2024-03-20/UDP_Bandlock_9S_Phone_A/sm05/#02/data/handover_info_log.csv\n",
      "68/72 /home/wmnlab/F/database/2024-03-20/UDP_Bandlock_9S_Phone_A/sm05/#02/data/udp_dnlk_loss_latency.csv\n",
      "68/72 /home/wmnlab/F/database/2024-03-20/UDP_Bandlock_9S_Phone_A/sm05/#02/data/udp_uplk_loss_latency.csv\n",
      "68/72 /home/wmnlab/F/database/2024-03-20/UDP_Bandlock_9S_Phone_A/sm08/#02/data/handover_info_log.csv\n",
      "68/72 /home/wmnlab/F/database/2024-03-20/UDP_Bandlock_9S_Phone_A/sm08/#02/data/udp_dnlk_loss_latency.csv\n",
      "68/72 /home/wmnlab/F/database/2024-03-20/UDP_Bandlock_9S_Phone_A/sm08/#02/data/udp_uplk_loss_latency.csv\n"
     ]
    },
    {
     "data": {
      "application/vnd.jupyter.widget-view+json": {
       "model_id": "b20eef5a375443e5ad96ef072a1553e8",
       "version_major": 2,
       "version_minor": 0
      },
      "text/plain": [
       "  0%|                                                                                                         …"
      ]
     },
     "metadata": {},
     "output_type": "display_data"
    },
    {
     "name": "stdout",
     "output_type": "stream",
     "text": [
      "/home/wmnlab/F/results/20240329_160006be6c_new_dataset_sync/dr_results/dr_20240329_1700005690/20240329_20214200001_36f03b32a8e9180f_25%_corr/\\home\\wmnlab\\F\\database\\2024-03-20\\UDP_Bandlock_9S_Phone_A\\sm05\\#02\\data\\udp_dnlk_loss_latency\\home\\wmnlab\\F\\database\\2024-03-20\\UDP_Bandlock_9S_Phone_A\\sm08\\#02\\data\\udp_dnlk_loss_latency.csv\n",
      "69/72 /home/wmnlab/F/database/2024-03-20/UDP_Bandlock_9S_Phone_A/sm06/#02/data/handover_info_log.csv\n",
      "69/72 /home/wmnlab/F/database/2024-03-20/UDP_Bandlock_9S_Phone_A/sm06/#02/data/udp_dnlk_loss_latency.csv\n",
      "69/72 /home/wmnlab/F/database/2024-03-20/UDP_Bandlock_9S_Phone_A/sm06/#02/data/udp_uplk_loss_latency.csv\n",
      "69/72 /home/wmnlab/F/database/2024-03-20/UDP_Bandlock_9S_Phone_A/sm07/#02/data/handover_info_log.csv\n",
      "69/72 /home/wmnlab/F/database/2024-03-20/UDP_Bandlock_9S_Phone_A/sm07/#02/data/udp_dnlk_loss_latency.csv\n",
      "69/72 /home/wmnlab/F/database/2024-03-20/UDP_Bandlock_9S_Phone_A/sm07/#02/data/udp_uplk_loss_latency.csv\n"
     ]
    },
    {
     "data": {
      "application/vnd.jupyter.widget-view+json": {
       "model_id": "1e84aeb7cee94798b36537f9a21aad89",
       "version_major": 2,
       "version_minor": 0
      },
      "text/plain": [
       "  0%|                                                                                                         …"
      ]
     },
     "metadata": {},
     "output_type": "display_data"
    },
    {
     "name": "stdout",
     "output_type": "stream",
     "text": [
      "/home/wmnlab/F/results/20240329_160006be6c_new_dataset_sync/dr_results/dr_20240329_1700005690/20240329_20214200001_36f03b32a8e9180f_25%_corr/\\home\\wmnlab\\F\\database\\2024-03-20\\UDP_Bandlock_9S_Phone_A\\sm06\\#02\\data\\udp_dnlk_loss_latency\\home\\wmnlab\\F\\database\\2024-03-20\\UDP_Bandlock_9S_Phone_A\\sm07\\#02\\data\\udp_dnlk_loss_latency.csv\n",
      "70/72 /home/wmnlab/F/database/2024-03-20/UDP_Bandlock_9S_Phone_A/sm06/#02/data/handover_info_log.csv\n",
      "70/72 /home/wmnlab/F/database/2024-03-20/UDP_Bandlock_9S_Phone_A/sm06/#02/data/udp_dnlk_loss_latency.csv\n",
      "70/72 /home/wmnlab/F/database/2024-03-20/UDP_Bandlock_9S_Phone_A/sm06/#02/data/udp_uplk_loss_latency.csv\n",
      "70/72 /home/wmnlab/F/database/2024-03-20/UDP_Bandlock_9S_Phone_A/sm08/#02/data/handover_info_log.csv\n",
      "70/72 /home/wmnlab/F/database/2024-03-20/UDP_Bandlock_9S_Phone_A/sm08/#02/data/udp_dnlk_loss_latency.csv\n",
      "70/72 /home/wmnlab/F/database/2024-03-20/UDP_Bandlock_9S_Phone_A/sm08/#02/data/udp_uplk_loss_latency.csv\n"
     ]
    },
    {
     "data": {
      "application/vnd.jupyter.widget-view+json": {
       "model_id": "403c96a01dd643978645d96b33d2b58b",
       "version_major": 2,
       "version_minor": 0
      },
      "text/plain": [
       "  0%|                                                                                                         …"
      ]
     },
     "metadata": {},
     "output_type": "display_data"
    },
    {
     "name": "stdout",
     "output_type": "stream",
     "text": [
      "/home/wmnlab/F/results/20240329_160006be6c_new_dataset_sync/dr_results/dr_20240329_1700005690/20240329_20214200001_36f03b32a8e9180f_25%_corr/\\home\\wmnlab\\F\\database\\2024-03-20\\UDP_Bandlock_9S_Phone_A\\sm06\\#02\\data\\udp_dnlk_loss_latency\\home\\wmnlab\\F\\database\\2024-03-20\\UDP_Bandlock_9S_Phone_A\\sm08\\#02\\data\\udp_dnlk_loss_latency.csv\n",
      "71/72 /home/wmnlab/F/database/2024-03-20/UDP_Bandlock_9S_Phone_A/sm07/#02/data/handover_info_log.csv\n",
      "71/72 /home/wmnlab/F/database/2024-03-20/UDP_Bandlock_9S_Phone_A/sm07/#02/data/udp_dnlk_loss_latency.csv\n",
      "71/72 /home/wmnlab/F/database/2024-03-20/UDP_Bandlock_9S_Phone_A/sm07/#02/data/udp_uplk_loss_latency.csv\n",
      "71/72 /home/wmnlab/F/database/2024-03-20/UDP_Bandlock_9S_Phone_A/sm08/#02/data/handover_info_log.csv\n",
      "71/72 /home/wmnlab/F/database/2024-03-20/UDP_Bandlock_9S_Phone_A/sm08/#02/data/udp_dnlk_loss_latency.csv\n",
      "71/72 /home/wmnlab/F/database/2024-03-20/UDP_Bandlock_9S_Phone_A/sm08/#02/data/udp_uplk_loss_latency.csv\n"
     ]
    },
    {
     "data": {
      "application/vnd.jupyter.widget-view+json": {
       "model_id": "e31abed7d38e485da3e76f9b1f89fdee",
       "version_major": 2,
       "version_minor": 0
      },
      "text/plain": [
       "  0%|                                                                                                         …"
      ]
     },
     "metadata": {},
     "output_type": "display_data"
    },
    {
     "name": "stdout",
     "output_type": "stream",
     "text": [
      "/home/wmnlab/F/results/20240329_160006be6c_new_dataset_sync/dr_results/dr_20240329_1700005690/20240329_20214200001_36f03b32a8e9180f_25%_corr/\\home\\wmnlab\\F\\database\\2024-03-20\\UDP_Bandlock_9S_Phone_A\\sm07\\#02\\data\\udp_dnlk_loss_latency\\home\\wmnlab\\F\\database\\2024-03-20\\UDP_Bandlock_9S_Phone_A\\sm08\\#02\\data\\udp_dnlk_loss_latency.csv\n",
      "./20240329_160006be6c_new_dataset_sync/dr_20240329_1700005690/figures/20240329_A_25%_corr_20214200001_36f03b32a8e9180f.png\n"
     ]
    },
    {
     "data": {
      "image/png": "[encoded data removed]",
      "text/plain": [
       "<Figure size 600x400 with 1 Axes>"
      ]
     },
     "metadata": {
      "image/png": {
       "height": 371,
       "width": 556
      }
     },
     "output_type": "display_data"
    }
   ],
   "source": [
    "eval = DrEval(filepaths, model_name='A', model_suffix=suffix, sr_model_id=sr_model_id, dr_model_id=dr_model_id)\n",
    "eval.run_hist_method(N=1)\n",
    "eval.plot('A')"
   ]
  },
  {
   "cell_type": "markdown",
   "metadata": {},
   "source": [
    "# Show Model IDs"
   ]
  },
  {
   "cell_type": "code",
   "execution_count": 11,
   "metadata": {},
   "outputs": [
    {
     "name": "stdout",
     "output_type": "stream",
     "text": [
      "SR Model ID: 20240329_160006be6c_new_dataset_sync\n",
      "DR Model ID: dr_20240329_1700005690\n"
     ]
    }
   ],
   "source": [
    "print('SR Model ID:', sr_model_id)\n",
    "print('DR Model ID:', dr_model_id)\n"
   ]
  },
  {
   "cell_type": "code",
   "execution_count": null,
   "metadata": {},
   "outputs": [],
   "source": []
  }
 ],
 "metadata": {
  "kernelspec": {
   "display_name": "moxa",
   "language": "python",
   "name": "python3"
  },
  "language_info": {
   "codemirror_mode": {
    "name": "ipython",
    "version": 3
   },
   "file_extension": ".py",
   "mimetype": "text/x-python",
   "name": "python",
   "nbconvert_exporter": "python",
   "pygments_lexer": "ipython3",
   "version": "3.8.18"
  },
  "vscode": {
   "interpreter": {
    "hash": "ac7929854b6d4d7e2ce5893f875cc9f600cfede08169dbb82e36bcbc7af2498e"
   }
  }
 },
 "nbformat": 4,
 "nbformat_minor": 2
}
