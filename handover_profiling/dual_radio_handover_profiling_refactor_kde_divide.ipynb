{
 "cells": [
  {
   "cell_type": "markdown",
   "metadata": {},
   "source": [
    "# Import Modules & Util Functions"
   ]
  },
  {
   "cell_type": "code",
   "execution_count": 1,
   "metadata": {},
   "outputs": [],
   "source": [
    "import os\n",
    "import sys\n",
    "import glob\n",
    "import re\n",
    "import ast\n",
    "import warnings\n",
    "import time\n",
    "\n",
    "import csv\n",
    "import json\n",
    "import pickle\n",
    "\n",
    "import math\n",
    "import random\n",
    "import numpy as np\n",
    "import scipy as sp\n",
    "import datetime as dt\n",
    "import pandas as pd\n",
    "import swifter\n",
    "from scipy.stats import gaussian_kde\n",
    "from scipy.integrate import quad\n",
    "from scipy.optimize import minimize\n",
    "from sklearn.metrics import mean_squared_error\n",
    "\n",
    "import portion as P\n",
    "import itertools as it\n",
    "import copy\n",
    "from tqdm.notebook import tqdm\n",
    "from collections import namedtuple\n",
    "from pprint import pprint\n",
    "from pytictoc import TicToc\n",
    "\n",
    "import matplotlib\n",
    "import matplotlib.pyplot as plt\n",
    "import seaborn as sns\n",
    "\n",
    "from myutils import *\n",
    "\n",
    "# Configure display options\n",
    "pd.set_option('display.max_rows', 200)\n",
    "pd.set_option('display.max_columns', 100)\n",
    "%config InlineBackend.figure_format = 'retina'\n",
    "\n",
    "# Set plot style\n",
    "# plt.style.use('ggplot')\n"
   ]
  },
  {
   "cell_type": "markdown",
   "metadata": {},
   "source": [
    "# Dual Radio Profiling"
   ]
  },
  {
   "cell_type": "code",
   "execution_count": 2,
   "metadata": {},
   "outputs": [],
   "source": [
    "class DrProfile():\n",
    "    def __init__(self, filepaths, model_name='Test', sr_model_id=None, dr_model_id=None, load_path='.', save_path='.',\n",
    "                 scope_agg=None, scope=None, sp_columns=['type'], ts_column='Timestamp',\n",
    "                 metrics=['dl_lost', 'dl_excl', 'ul_lost', 'ul_excl']):\n",
    "        \n",
    "        # Initialize instance variables\n",
    "        self.filepaths = copy.deepcopy(filepaths)\n",
    "        \n",
    "        if sr_model_id is None:\n",
    "            raise TypeError(\"請輸入SR模型編號\")\n",
    "        else:\n",
    "            self.sr_model_id = sr_model_id\n",
    "        \n",
    "        if dr_model_id is None:\n",
    "            self.dr_model_id = model_identity()\n",
    "        else:\n",
    "            self.dr_model_id = dr_model_id\n",
    "            \n",
    "        self.model_name = model_name\n",
    "        self.save_path = save_path\n",
    "        \n",
    "        self.load_path = os.path.join(load_path, self.sr_model_id, 'models', self.model_name)\n",
    "        print(self.load_path)\n",
    "        \n",
    "        with open(f'{self.load_path}_kde_models.pkl', 'rb') as f:\n",
    "            self.kde_models = pickle.load(f)\n",
    "        with open(f'{self.load_path}_hist_models.pkl', 'rb') as f:\n",
    "            self.hist_models = pickle.load(f)\n",
    "        with open(f'{self.load_path}_scope_models.pkl', 'rb') as f:\n",
    "            self.scope_models = pickle.load(f)\n",
    "        with open(f'{self.load_path}_plr_models.pkl', 'rb') as f:\n",
    "            self.plr_models = pickle.load(f)\n",
    "        with open(f'{self.load_path}_sr_prob_models.pkl', 'rb') as f:\n",
    "            self.sr_prob_models = pickle.load(f)\n",
    "\n",
    "        self.sp_columns = sp_columns[:]\n",
    "        self.ts_column = ts_column\n",
    "        self.metrics = metrics[:]\n",
    "        \n",
    "        # 之後用 single radio 的 prob 來當作\n",
    "        self.corr_data = { mode_mets: { tag: [[], []] for tag in \\\n",
    "            list(it.product(['LTEH', 'ENBH', 'MCGH', 'MNBH', 'SCGM', 'SCGA', 'SCGR-I', 'SCGR-II', 'SCGC-I', 'SCGC-II', 'SCGF', 'MCGF', 'NASR', 'Stable'], repeat=2)) } \n",
    "                               for mode_mets in metrics }\n",
    "        \n",
    "        self.dr_prob_models = { mode_mets: { tag: (0.5, 0.5) for tag in \\\n",
    "            list(it.product(['LTEH', 'ENBH', 'MCGH', 'MNBH', 'SCGM', 'SCGA', 'SCGR-I', 'SCGR-II', 'SCGC-I', 'SCGC-II', 'SCGF', 'MCGF', 'NASR', 'Stable'], repeat=2)) } \n",
    "                               for mode_mets in metrics }\n",
    "        self.dr_prob_models_table = None\n",
    "        \n",
    "        self.dr_prob_models_adjust = { mode_mets: None for mode_mets in metrics }\n",
    "        self.dr_prob_models_adjust_table = None\n",
    "        \n",
    "        # Construct profiles\n",
    "        self.construct_profile()\n",
    "    \n",
    "    \n",
    "    @staticmethod\n",
    "    def interpolate(x, y, ratio=0.5):\n",
    "        \"\"\"\n",
    "        Args:\n",
    "            x, y (datetime.datetime): x < y\n",
    "            ratio (float): a decimal numeral in a range [0, 1]; 0 means break at x, 1 means break at y.\n",
    "        Returns:\n",
    "            (datetime.datetime): breakpoint of interpolation\n",
    "        \"\"\"\n",
    "        return x + (y - x) * ratio\n",
    "       \n",
    "    \n",
    "    def setup_profile(self, df, ho_df, df2, scope):\n",
    "        \n",
    "        this_df = df2.copy()\n",
    "        this_df = this_df[this_df['lost']].copy().reset_index(drop=True)\n",
    "        \n",
    "        df['anchor_type'] = 'Stable'\n",
    "        df['anchor_state'] = 0\n",
    "        for i, row in ho_df.iterrows():\n",
    "            prior_row = ho_df.iloc[i-1] if i != 0 else None\n",
    "            post_row = ho_df.iloc[i+1] if i != len(ho_df) - 1 else None\n",
    "\n",
    "            # Peek the next event to avoid HO overlapping with handoverFailure (skip!!)\n",
    "            if i != len(ho_df) - 1 and pd.notna(row.end) and row.end > post_row.start:\n",
    "                # print('Overlapping event occurs!!')\n",
    "                # print(i, row['start'], row['end'], row['type'], row['cause'])\n",
    "                # print(i+1, post_row['start'], post_row['end'], post_row['type'], post_row['cause'])\n",
    "                continue\n",
    "            \n",
    "            # Set prior event if the prior loop is skipped\n",
    "            if i != 0 and pd.notna(prior_row.end) and prior_row.end > row.start:\n",
    "                prior_row = ho_df.iloc[i-2] if i > 1 else None\n",
    "            \n",
    "            # Basic information of the current row\n",
    "            tag = '_'.join([s for s in row[self.sp_columns] if pd.notna(s)])  # specific column name\n",
    "            start_ts, end_ts = row['start'], row['end']  # handover start/end time\n",
    "            interruption_time = (end_ts - start_ts).total_seconds() if pd.notna(end_ts) else 0  # handover interruption time\n",
    "            \n",
    "            # Set simple left/right bounds\n",
    "            current_left_bound = start_ts + pd.Timedelta(seconds=(scope[tag][0]))\n",
    "            current_right_bound = start_ts + pd.Timedelta(seconds=(scope[tag][1]))\n",
    "            \n",
    "            # Set left/right bounds to avoid event overlapping with each other\n",
    "            if prior_row is not None:\n",
    "                prior_tag = '_'.join([s for s in prior_row[self.sp_columns] if pd.notna(s)])\n",
    "                prior_right_bound = prior_row['start'] + pd.Timedelta(seconds=(scope[prior_tag][1]))\n",
    "                if pd.notna(prior_row['end']):\n",
    "                    left_bound = min(max(current_left_bound, DrProfile.interpolate(prior_right_bound, current_left_bound), prior_row['end']), start_ts)\n",
    "                else:\n",
    "                    left_bound = min(max(current_left_bound, DrProfile.interpolate(prior_right_bound, current_left_bound), prior_row['start']), start_ts)\n",
    "            else:\n",
    "                left_bound = current_left_bound\n",
    "            \n",
    "            if post_row is not None:\n",
    "                post_tag = '_'.join([s for s in post_row[self.sp_columns] if pd.notna(s)])\n",
    "                post_left_bound = post_row['start'] + pd.Timedelta(seconds=(scope[post_tag][0]))\n",
    "                if pd.notna(end_ts):\n",
    "                    right_bound = max(min(current_right_bound, DrProfile.interpolate(current_right_bound, post_left_bound), post_row['start']), end_ts)\n",
    "                else:\n",
    "                    right_bound = max(min(current_right_bound, DrProfile.interpolate(current_right_bound, post_left_bound), post_row['start']), start_ts)\n",
    "            else:\n",
    "                right_bound = current_right_bound\n",
    "            \n",
    "            interval = P.closed(left_bound, right_bound)\n",
    "            \n",
    "            df.loc[(df['start'] >= interval.lower) & (df['start'] < interval.upper), 'anchor_type'] = tag\n",
    "            \n",
    "            if not this_df[(this_df['Timestamp'] >= interval.lower) & (this_df['Timestamp'] < interval.upper)].empty:\n",
    "                df.loc[(df['start'] >= interval.lower) & (df['start'] < interval.upper), 'anchor_state'] = 1\n",
    "                \n",
    "            # Update dataframe to accelerate the speed\n",
    "            this_df = this_df[this_df[self.ts_column] >= interval.upper].copy()\n",
    "            \n",
    "        return df\n",
    "    \n",
    "    \n",
    "    def setup_profile_stage2(self, df, ho_df, scope):\n",
    "        \n",
    "        this_df = df.copy()\n",
    "        this_df = this_df[this_df['lost']].copy().reset_index(drop=True)\n",
    "        \n",
    "        for i, row in ho_df.iterrows():\n",
    "            prior_row = ho_df.iloc[i-1] if i != 0 else None\n",
    "            post_row = ho_df.iloc[i+1] if i != len(ho_df) - 1 else None\n",
    "\n",
    "            # Peek the next event to avoid HO overlapping with handoverFailure (skip!!)\n",
    "            if i != len(ho_df) - 1 and pd.notna(row.end) and row.end > post_row.start:\n",
    "                # print('Overlapping event occurs!!')\n",
    "                # print(i, row['start'], row['end'], row['type'], row['cause'])\n",
    "                # print(i+1, post_row['start'], post_row['end'], post_row['type'], post_row['cause'])\n",
    "                continue\n",
    "            \n",
    "            # Set prior event if the prior loop is skipped\n",
    "            if i != 0 and pd.notna(prior_row.end) and prior_row.end > row.start:\n",
    "                prior_row = ho_df.iloc[i-2] if i > 1 else None\n",
    "            \n",
    "            # Basic information of the current row\n",
    "            tag = '_'.join([s for s in row[self.sp_columns] if pd.notna(s)])  # specific column name\n",
    "            start_ts, end_ts = row['start'], row['end']  # handover start/end time\n",
    "            interruption_time = (end_ts - start_ts).total_seconds() if pd.notna(end_ts) else 0  # handover interruption time\n",
    "            \n",
    "            # Set simple left/right bounds\n",
    "            current_left_bound = start_ts + pd.Timedelta(seconds=(scope[tag][0]))\n",
    "            current_right_bound = start_ts + pd.Timedelta(seconds=(scope[tag][1]))\n",
    "            \n",
    "            # Set left/right bounds to avoid event overlapping with each other\n",
    "            if prior_row is not None:\n",
    "                prior_tag = '_'.join([s for s in prior_row[self.sp_columns] if pd.notna(s)])\n",
    "                prior_right_bound = prior_row['start'] + pd.Timedelta(seconds=(scope[prior_tag][1]))\n",
    "                if pd.notna(prior_row['end']):\n",
    "                    # left = prior_row['end'] + (start_ts - prior_row['end']) / 2\n",
    "                    left_bound = min(max(current_left_bound, DrProfile.interpolate(prior_right_bound, current_left_bound), prior_row['end']), start_ts)\n",
    "                else:\n",
    "                    # left = prior_row['start'] + (start_ts - prior_row['start']) / 2\n",
    "                    left_bound = min(max(current_left_bound, DrProfile.interpolate(prior_right_bound, current_left_bound), prior_row['start']), start_ts)\n",
    "            else:\n",
    "                # left_bound = pd.Timestamp.min\n",
    "                left_bound = current_left_bound\n",
    "            \n",
    "            if post_row is not None:\n",
    "                post_tag = '_'.join([s for s in post_row[self.sp_columns] if pd.notna(s)])\n",
    "                post_left_bound = post_row['start'] + pd.Timedelta(seconds=(scope[post_tag][0]))\n",
    "                if pd.notna(end_ts):\n",
    "                    # right = end_ts + (post_row['start'] - end_ts) / 2\n",
    "                    right_bound = max(min(current_right_bound, DrProfile.interpolate(current_right_bound, post_left_bound), post_row['start']), end_ts)\n",
    "                else:\n",
    "                    # right = start_ts + (post_row['start'] - start_ts) / 2\n",
    "                    right_bound = max(min(current_right_bound, DrProfile.interpolate(current_right_bound, post_left_bound), post_row['start']), start_ts)\n",
    "            else:\n",
    "                # right_bound = pd.Timestamp.max\n",
    "                right_bound = current_right_bound\n",
    "            \n",
    "            # interval = P.closed(max(start_ts+pd.Timedelta(seconds=scope[tag][0]), left_bound), min(start_ts+pd.Timedelta(seconds=scope[tag][1]), right_bound))\n",
    "            interval = P.closed(left_bound, right_bound)\n",
    "            \n",
    "            anchor_tag = row['anchor_type']\n",
    "            anchor_state = row['anchor_state']\n",
    "            \n",
    "            self.corr_data['dl_lost'][(anchor_tag, tag)][0].append(anchor_state)\n",
    "            if not this_df[(this_df['Timestamp'] >= interval.lower) & (this_df['Timestamp'] < interval.upper)].empty:\n",
    "                self.corr_data['dl_lost'][(anchor_tag, tag)][1].append(1)\n",
    "            else:\n",
    "                self.corr_data['dl_lost'][(anchor_tag, tag)][1].append(0)\n",
    "                \n",
    "            # Update dataframe to accelerate the speed\n",
    "            this_df = this_df[this_df[self.ts_column] >= interval.upper].copy()\n",
    "    \n",
    "\n",
    "    def estimate_probability(self):\n",
    "        for key, lst in self.corr_data['dl_lost'].items():\n",
    "            # print(key, lst)\n",
    "            \n",
    "            # 生成的数据\n",
    "            data = {\n",
    "                'first_distribution_samples': np.array(lst[0]),  # 第一个分布的样本数据\n",
    "                'second_distribution_samples': np.array(lst[1])  # 第二个分布的样本数据\n",
    "            }\n",
    "            \n",
    "            def log_likelihood(params, data):\n",
    "                p, success_prob_when_first_is_success, success_prob_when_first_is_failure = params\n",
    "                first_samples = data['first_distribution_samples']\n",
    "                second_samples = data['second_distribution_samples']\n",
    "                log_likelihood_val = 0.0\n",
    "                for first_sample, second_sample in zip(first_samples, second_samples):\n",
    "                    # 添加检查以确保概率值在有效范围内\n",
    "                    if not 0 <= success_prob_when_first_is_success <= 1:\n",
    "                        return float('inf')  # 返回无穷大值表示非法参数\n",
    "                    if not 0 <= success_prob_when_first_is_failure <= 1:\n",
    "                        return float('inf')  # 返回无穷大值表示非法参数\n",
    "                    # 计算对数似然函数值\n",
    "                    if first_sample == 1:\n",
    "                        log_likelihood_val += np.log(success_prob_when_first_is_success if second_sample == 1 else (1 - success_prob_when_first_is_success))\n",
    "                    else:\n",
    "                        log_likelihood_val += np.log(success_prob_when_first_is_failure if second_sample == 1 else (1 - success_prob_when_first_is_failure))\n",
    "                return -log_likelihood_val  # 取负对数似然函数，因为我们要最大化对数似然函数\n",
    "\n",
    "            # 使用最大似然估计估算参数\n",
    "            initial_guess = [0.5, 0.5, 0.5]  # 初始猜测值\n",
    "            # result = minimize(likelihood, initial_guess, args=(data,), method='Nelder-Mead')\n",
    "            result = minimize(log_likelihood, initial_guess, args=(data,), method='Nelder-Mead')\n",
    "\n",
    "            # 输出估计的参数值\n",
    "            estimated_params = result.x\n",
    "            # print(\"Estimated parameters:\")\n",
    "            # print(f\"p: {estimated_params[0]}\")\n",
    "            # print(f\"success_prob_when_first_is_success: {estimated_params[1]}\")\n",
    "            # print(f\"success_prob_when_first_is_failure: {estimated_params[2]}\")\n",
    "            self.dr_prob_models['dl_lost'][key] = (estimated_params[1], estimated_params[2])\n",
    "        \n",
    "        stable_prob = self.sr_prob_models['dl_lost']['Stable']\n",
    "        self.dr_prob_models['dl_lost'][('Stable', 'Stable')] = (stable_prob, stable_prob)\n",
    "    \n",
    "    \n",
    "    def construct_profile(self):\n",
    "        n = len(self.filepaths)\n",
    "        scope = self.scope_models['dl_lost']\n",
    "    \n",
    "        for i, filepath in enumerate(self.filepaths):\n",
    "            \n",
    "            # if i > 35:\n",
    "            #     break\n",
    "            \n",
    "            # if i > 0:\n",
    "            #     break\n",
    "            \n",
    "            print(f'{i}/{n}', filepath[0][0]); print(f'{i}/{n}', filepath[0][1]); print(f'{i}/{n}', filepath[0][2])\n",
    "            print(f'{i}/{n}', filepath[1][0]); print(f'{i}/{n}', filepath[1][1]); print(f'{i}/{n}', filepath[1][2])\n",
    "                \n",
    "            ho_df1 = pd.read_csv(filepath[0][0], parse_dates=['start', 'end'])\n",
    "            ho_df2 = pd.read_csv(filepath[1][0], parse_dates=['start', 'end'])\n",
    "            \n",
    "            if ho_df1.empty or ho_df2.empty:\n",
    "                continue\n",
    "            \n",
    "            # df, ho_df, empty_data = data_aligner(df, ho_df)\n",
    "            \n",
    "            df1 = pd.read_csv(filepath[0][1], parse_dates=['Timestamp'])[['seq', 'Timestamp', 'lost', 'excl', 'latency']]\n",
    "            df2 = pd.read_csv(filepath[1][1], parse_dates=['Timestamp'])[['seq', 'Timestamp', 'lost', 'excl', 'latency']]\n",
    "            df1, ho_df1, empty_data1 = data_aligner(df1, ho_df1)\n",
    "            df2, ho_df2, empty_data2 = data_aligner(df2, ho_df2)\n",
    "            \n",
    "            if empty_data1 or empty_data2:\n",
    "                continue\n",
    "            \n",
    "            df = pd.merge(df1, df2, on='seq', how='inner').reset_index(drop=True)\n",
    "            \n",
    "            df1 = df[['seq', 'Timestamp_x', 'lost_x', 'excl_x', 'latency_x']].rename(columns={'Timestamp_x': 'Timestamp', 'lost_x': 'lost', 'excl_x': 'excl', 'latency_x': 'latency'})\n",
    "            df2 = df[['seq', 'Timestamp_y', 'lost_y', 'excl_y', 'latency_y']].rename(columns={'Timestamp_y': 'Timestamp', 'lost_y': 'lost', 'excl_y': 'excl', 'latency_y': 'latency'})\n",
    "            \n",
    "            # display(df1)\n",
    "            # display(df2)\n",
    "            # display(ho_df1)\n",
    "            # display(ho_df2)\n",
    "            \n",
    "            ho_df1 = self.setup_profile(ho_df1, ho_df2, df2, scope)\n",
    "            ho_df2 = self.setup_profile(ho_df2, ho_df1, df1, scope)\n",
    "            \n",
    "            # display(ho_df1)\n",
    "            # display(ho_df2)\n",
    "            \n",
    "            self.setup_profile_stage2(df1, ho_df1, scope)\n",
    "            self.setup_profile_stage2(df2, ho_df2, scope)\n",
    "            \n",
    "            self.estimate_probability()\n",
    "    \n",
    "    \n",
    "    def adjust_parameters(self):\n",
    "        \n",
    "        sr_prob_models, dr_prob_models = self.sr_prob_models['dl_lost'], self.dr_prob_models['dl_lost']\n",
    "        \n",
    "        def calculate_rho_conditional(p, q, alpha):\n",
    "            \"\"\"\n",
    "            p := P(X = 1); P(X = 0) = 1 - p\n",
    "            q := P(Y = 1); P(Y = 0) = 1 - q\n",
    "            alpha := P(Y = 1 | X = 1); P(Y = 0 | X = 1) = 1 - alpha\n",
    "            rho: correlation coefficient\n",
    "            \"\"\"\n",
    "            sigma = max(math.sqrt(p * q * (1 - p) * (1 - q)), 1e-9)  # sigma_x * sigma_y\n",
    "            rho = (p * alpha - p * q) / sigma\n",
    "            return rho\n",
    "\n",
    "        def rho_restriction(p, q):\n",
    "            sigma = max(math.sqrt(p * q * (1 - p) * (1 - q)), 1e-9)  # sigma_x * sigma_y\n",
    "            R1 = P.closed(-1, 1)  # -1 <= rho <= 1\n",
    "            R2 = P.closed(-(p * q) / sigma, (1 - p * q) / sigma)  # 0 <= P(X=1, Y=1) <= 1\n",
    "            R3 = P.closed((p * (1 - q) - 1) / sigma, p * (1 - q) / sigma)  # 0 <= P(X=1, Y=0) <= 1\n",
    "            R4 = P.closed((q * (1 - p) - 1) / sigma, q * (1 - p) / sigma)  # 0 <= P(X=0, Y=1) <= 1\n",
    "            R5 = P.closed(-((1 - p) * (1 - q)) / sigma, (1 - (1 - p) * (1 - q)) / sigma)  # 0 <= P(X=0, Y=0) <= 1\n",
    "            R = R1 & R2 & R3 & R4 & R5\n",
    "            return R\n",
    "\n",
    "        def calculate_joint_probabilities(p, q, rho):\n",
    "            \"\"\"\n",
    "            p := P(X = 1); P(X = 0) = 1 - p\n",
    "            q := P(Y = 1); P(Y = 0) = 1 - q\n",
    "            rho: correlation coefficient\n",
    "            a := P(X = 1, Y = 1)\n",
    "            b := P(X = 1, Y = 0)\n",
    "            c := P(X = 0, Y = 1)\n",
    "            d := P(X = 0, Y = 0)\n",
    "            \"\"\"\n",
    "            sigma = max(math.sqrt(p * q * (1 - p) * (1 - q)), 1e-9)  # sigma_x * sigma_y\n",
    "            a = p * q + rho * sigma\n",
    "            b = p * (1 - q) - rho * sigma\n",
    "            c = q * (1 - p) - rho * sigma\n",
    "            d = (1 - p) * (1 - q) + rho * sigma\n",
    "            return a, b, c, d\n",
    "\n",
    "        def calculate_conditional_probabilities(p, q, rho):\n",
    "            \"\"\"\n",
    "            p := P(X = 1); P(X = 0) = 1 - p\n",
    "            q := P(Y = 1); P(Y = 0) = 1 - q\n",
    "            rho: correlation coefficient\n",
    "            alpha := P(Y = 1 | X = 1)\n",
    "            beta  := P(Y = 1 | X = 0)\n",
    "            gamma := P(X = 1 | Y = 1)\n",
    "            delta := P(X = 1 | Y = 0)\n",
    "            \"\"\"\n",
    "            sigma = max(math.sqrt(p * q * (1 - p) * (1 - q)), 1e-9)  # sigma_x * sigma_y\n",
    "            p = min(max(1e-9, p), 1 - 1e-9)\n",
    "            q = min(max(1e-9, q), 1 - 1e-9)\n",
    "            alpha = (p * q + rho * sigma) / p\n",
    "            beta = (q * (1 - p) - rho * sigma) / (1 - p)\n",
    "            gamma = (p * q + rho * sigma) / q\n",
    "            delta = (p * (1 - q) - rho * sigma) / (1 - q)\n",
    "            return alpha, beta, gamma, delta\n",
    "\n",
    "        def generate_combos(items):\n",
    "            combinations_result = list(it.combinations(items, 2))\n",
    "            self_combinations = [(x, x) for x in items]\n",
    "            def custom_sort(item):\n",
    "                return items.index(item[0]), items.index(item[1])\n",
    "            combos = sorted(self_combinations + combinations_result, key=custom_sort)\n",
    "            return combos\n",
    "\n",
    "        def adjust_rho(rho, rho_limit):\n",
    "            if rho > rho_limit.upper:\n",
    "                return rho_limit.upper\n",
    "            elif rho < rho_limit.lower:\n",
    "                return rho_limit.lower\n",
    "            else:\n",
    "                return rho\n",
    "        \n",
    "        table = pd.DataFrame(columns=\"type1, type2, p, q, rho_lower, rho_upper, rho1, rho2, alpha, beta, gamma, delta, a1, a2, b, c, d1, d2, sum\".split(\", \"))\n",
    "        adjust_table = pd.DataFrame(columns=\"type1, type2, p, q, rho_lower, rho_upper, rho, alpha, beta, gamma, delta, a, b, c, d, sum\".split(\", \"))\n",
    "        items = ['LTEH', 'ENBH', 'MCGH', 'MNBH', 'SCGM', 'SCGA', 'SCGR-I', 'SCGR-II', 'SCGC-I', 'SCGC-II', 'SCGF', 'MCGF', 'NASR', 'Stable']\n",
    "        combos = generate_combos(items)\n",
    "\n",
    "        for pair in combos:\n",
    "            p = sr_prob_models[pair[0]]\n",
    "            q = sr_prob_models[pair[1]]\n",
    "            alpha, beta = dr_prob_models[pair]\n",
    "            gamma, delta = dr_prob_models[(pair[1], pair[0])]\n",
    "            a_1, a_2, b_, c_= p * alpha, q * gamma, (1-q) * delta, (1-p) * beta\n",
    "            d_1, d_2 = 1 - a_1 - b_ - c_, 1 - a_2 - b_ - c_\n",
    "            rho1 = calculate_rho_conditional(p, q, alpha)\n",
    "            rho2 = calculate_rho_conditional(q, p, gamma)\n",
    "            rho_limit = rho_restriction(p, q)\n",
    "            table.loc[len(table)] = [pair[0], pair[1], p, q, rho_limit.lower, rho_limit.upper, rho1, rho2, alpha, beta, gamma, delta, a_1, a_2, b_, c_, d_1, d_2, 1.0]\n",
    "            \n",
    "            rho = adjust_rho(np.mean([rho1, rho2]), rho_limit)\n",
    "            a, b, c, d = calculate_joint_probabilities(p, q, rho)\n",
    "            alpha_adjust, beta_adjust, gamma_adjust, delta_adjust = calculate_conditional_probabilities(p, q, rho)\n",
    "            adjust_table.loc[len(adjust_table)] = [pair[0], pair[1], p, q, rho_limit.lower, rho_limit.upper, rho, alpha_adjust, beta_adjust, gamma_adjust, delta_adjust, a, b, c, d, sum([a, b, c, d])]\n",
    "        \n",
    "        table = table.set_index(['type1', 'type2'])\n",
    "        adjust_table = adjust_table.set_index(['type1', 'type2'])\n",
    "        \n",
    "        model_adjust = copy.deepcopy(dr_prob_models)\n",
    "        for pair in combos:\n",
    "            row = adjust_table.loc[pair]\n",
    "            p, q, alpha, beta, gamma, delta = row['p'], row['q'], row['alpha'], row['beta'], row['gamma'], row['delta']\n",
    "            model_adjust[pair] = (alpha, beta)\n",
    "            model_adjust[(pair[1], pair[0])] = (gamma, delta)\n",
    "        \n",
    "        self.dr_prob_models_table = table\n",
    "        self.dr_prob_models_adjust_table = adjust_table\n",
    "        self.dr_prob_models_adjust['dl_lost'] = model_adjust\n",
    "        \n",
    "        # return table, model_adjust\n",
    "            \n",
    "    def save_models(self):\n",
    "        \n",
    "        self.adjust_parameters()\n",
    "        \n",
    "        save_path = os.path.join(self.save_path, self.sr_model_id, self.dr_model_id)\n",
    "        if not os.path.isdir(save_path):\n",
    "            os.makedirs(save_path)\n",
    "        \n",
    "        save_path = os.path.join(save_path, self.model_name)\n",
    "        print(save_path)\n",
    "        print()\n",
    "        \n",
    "        with open(f'{save_path}_dr_prob_models.pkl', 'wb') as f:\n",
    "            pickle.dump(self.dr_prob_models, f)\n",
    "        with open(f'{save_path}_dr_prob_models_adjust.pkl', 'wb') as f:\n",
    "            pickle.dump(self.dr_prob_models_adjust, f)\n",
    "            \n",
    "        self.dr_prob_models_table.to_csv(f'{save_path}_dr_prob_models_table.csv')\n",
    "        self.dr_prob_models_adjust_table.to_csv(f'{save_path}_dr_prob_models_adjust_table.csv')"
   ]
  },
  {
   "cell_type": "markdown",
   "metadata": {},
   "source": [
    "# Generate DR Model ID"
   ]
  },
  {
   "cell_type": "code",
   "execution_count": 3,
   "metadata": {},
   "outputs": [
    {
     "name": "stdout",
     "output_type": "stream",
     "text": [
      "SR Model ID: 20240323_0800028652_new_dataset\n",
      "DR Model ID: 20240324_1800086626_new_dataset\n"
     ]
    }
   ],
   "source": [
    "sr_model_id = '20240323_0800028652_new_dataset'\n",
    "dr_model_id = model_identity()\n",
    "dr_model_id = dr_model_id + '_new_dataset'\n",
    "print('SR Model ID:', sr_model_id)\n",
    "print('DR Model ID:', dr_model_id)\n"
   ]
  },
  {
   "cell_type": "markdown",
   "metadata": {},
   "source": [
    "# BR Model"
   ]
  },
  {
   "cell_type": "code",
   "execution_count": 4,
   "metadata": {},
   "outputs": [
    {
     "name": "stdout",
     "output_type": "stream",
     "text": [
      "72\n",
      "[(['/home/wmnlab/E/database/2024-03-19/UDP_Bandlock_9S_Phone_BR/sm00/#01/data/handover_info_log.csv',\n",
      "   '/home/wmnlab/E/database/2024-03-19/UDP_Bandlock_9S_Phone_BR/sm00/#01/data/udp_dnlk_loss_latency.csv',\n",
      "   '/home/wmnlab/E/database/2024-03-19/UDP_Bandlock_9S_Phone_BR/sm00/#01/data/udp_uplk_loss_latency.csv',\n",
      "   '/home/wmnlab/E/database/2024-03-19/UDP_Bandlock_9S_Phone_BR/sm00/#01/data/diag_log_sm00_2024-03-19_18-39-12_rrc.csv',\n",
      "   '/home/wmnlab/E/database/2024-03-19/UDP_Bandlock_9S_Phone_BR/sm00/#01/data/diag_log_sm00_2024-03-19_18-39-12_ml1.csv',\n",
      "   '/home/wmnlab/E/database/2024-03-19/UDP_Bandlock_9S_Phone_BR/sm00/#01/data/diag_log_sm00_2024-03-19_18-39-12_nr_ml1.csv'],\n",
      "  ['/home/wmnlab/E/database/2024-03-19/UDP_Bandlock_9S_Phone_BR/sm01/#01/data/handover_info_log.csv',\n",
      "   '/home/wmnlab/E/database/2024-03-19/UDP_Bandlock_9S_Phone_BR/sm01/#01/data/udp_dnlk_loss_latency.csv',\n",
      "   '/home/wmnlab/E/database/2024-03-19/UDP_Bandlock_9S_Phone_BR/sm01/#01/data/udp_uplk_loss_latency.csv',\n",
      "   '/home/wmnlab/E/database/2024-03-19/UDP_Bandlock_9S_Phone_BR/sm01/#01/data/diag_log_sm01_2024-03-19_18-39-12_rrc.csv',\n",
      "   '/home/wmnlab/E/database/2024-03-19/UDP_Bandlock_9S_Phone_BR/sm01/#01/data/diag_log_sm01_2024-03-19_18-39-12_ml1.csv',\n",
      "   '/home/wmnlab/E/database/2024-03-19/UDP_Bandlock_9S_Phone_BR/sm01/#01/data/diag_log_sm01_2024-03-19_18-39-12_nr_ml1.csv']),\n",
      " (['/home/wmnlab/E/database/2024-03-19/UDP_Bandlock_9S_Phone_BR/sm00/#01/data/handover_info_log.csv',\n",
      "   '/home/wmnlab/E/database/2024-03-19/UDP_Bandlock_9S_Phone_BR/sm00/#01/data/udp_dnlk_loss_latency.csv',\n",
      "   '/home/wmnlab/E/database/2024-03-19/UDP_Bandlock_9S_Phone_BR/sm00/#01/data/udp_uplk_loss_latency.csv',\n",
      "   '/home/wmnlab/E/database/2024-03-19/UDP_Bandlock_9S_Phone_BR/sm00/#01/data/diag_log_sm00_2024-03-19_18-39-12_rrc.csv',\n",
      "   '/home/wmnlab/E/database/2024-03-19/UDP_Bandlock_9S_Phone_BR/sm00/#01/data/diag_log_sm00_2024-03-19_18-39-12_ml1.csv',\n",
      "   '/home/wmnlab/E/database/2024-03-19/UDP_Bandlock_9S_Phone_BR/sm00/#01/data/diag_log_sm00_2024-03-19_18-39-12_nr_ml1.csv'],\n",
      "  ['/home/wmnlab/E/database/2024-03-19/UDP_Bandlock_9S_Phone_BR/sm02/#01/data/handover_info_log.csv',\n",
      "   '/home/wmnlab/E/database/2024-03-19/UDP_Bandlock_9S_Phone_BR/sm02/#01/data/udp_dnlk_loss_latency.csv',\n",
      "   '/home/wmnlab/E/database/2024-03-19/UDP_Bandlock_9S_Phone_BR/sm02/#01/data/udp_uplk_loss_latency.csv',\n",
      "   '/home/wmnlab/E/database/2024-03-19/UDP_Bandlock_9S_Phone_BR/sm02/#01/data/diag_log_sm02_2024-03-19_18-39-12_rrc.csv',\n",
      "   '/home/wmnlab/E/database/2024-03-19/UDP_Bandlock_9S_Phone_BR/sm02/#01/data/diag_log_sm02_2024-03-19_18-39-12_ml1.csv',\n",
      "   '/home/wmnlab/E/database/2024-03-19/UDP_Bandlock_9S_Phone_BR/sm02/#01/data/diag_log_sm02_2024-03-19_18-39-12_nr_ml1.csv']),\n",
      " (['/home/wmnlab/E/database/2024-03-19/UDP_Bandlock_9S_Phone_BR/sm00/#01/data/handover_info_log.csv',\n",
      "   '/home/wmnlab/E/database/2024-03-19/UDP_Bandlock_9S_Phone_BR/sm00/#01/data/udp_dnlk_loss_latency.csv',\n",
      "   '/home/wmnlab/E/database/2024-03-19/UDP_Bandlock_9S_Phone_BR/sm00/#01/data/udp_uplk_loss_latency.csv',\n",
      "   '/home/wmnlab/E/database/2024-03-19/UDP_Bandlock_9S_Phone_BR/sm00/#01/data/diag_log_sm00_2024-03-19_18-39-12_rrc.csv',\n",
      "   '/home/wmnlab/E/database/2024-03-19/UDP_Bandlock_9S_Phone_BR/sm00/#01/data/diag_log_sm00_2024-03-19_18-39-12_ml1.csv',\n",
      "   '/home/wmnlab/E/database/2024-03-19/UDP_Bandlock_9S_Phone_BR/sm00/#01/data/diag_log_sm00_2024-03-19_18-39-12_nr_ml1.csv'],\n",
      "  ['/home/wmnlab/E/database/2024-03-19/UDP_Bandlock_9S_Phone_BR/sm03/#01/data/handover_info_log.csv',\n",
      "   '/home/wmnlab/E/database/2024-03-19/UDP_Bandlock_9S_Phone_BR/sm03/#01/data/udp_dnlk_loss_latency.csv',\n",
      "   '/home/wmnlab/E/database/2024-03-19/UDP_Bandlock_9S_Phone_BR/sm03/#01/data/udp_uplk_loss_latency.csv',\n",
      "   '/home/wmnlab/E/database/2024-03-19/UDP_Bandlock_9S_Phone_BR/sm03/#01/data/diag_log_sm03_2024-03-19_18-39-12_rrc.csv',\n",
      "   '/home/wmnlab/E/database/2024-03-19/UDP_Bandlock_9S_Phone_BR/sm03/#01/data/diag_log_sm03_2024-03-19_18-39-12_ml1.csv',\n",
      "   '/home/wmnlab/E/database/2024-03-19/UDP_Bandlock_9S_Phone_BR/sm03/#01/data/diag_log_sm03_2024-03-19_18-39-12_nr_ml1.csv']),\n",
      " (['/home/wmnlab/E/database/2024-03-19/UDP_Bandlock_9S_Phone_BR/sm00/#01/data/handover_info_log.csv',\n",
      "   '/home/wmnlab/E/database/2024-03-19/UDP_Bandlock_9S_Phone_BR/sm00/#01/data/udp_dnlk_loss_latency.csv',\n",
      "   '/home/wmnlab/E/database/2024-03-19/UDP_Bandlock_9S_Phone_BR/sm00/#01/data/udp_uplk_loss_latency.csv',\n",
      "   '/home/wmnlab/E/database/2024-03-19/UDP_Bandlock_9S_Phone_BR/sm00/#01/data/diag_log_sm00_2024-03-19_18-39-12_rrc.csv',\n",
      "   '/home/wmnlab/E/database/2024-03-19/UDP_Bandlock_9S_Phone_BR/sm00/#01/data/diag_log_sm00_2024-03-19_18-39-12_ml1.csv',\n",
      "   '/home/wmnlab/E/database/2024-03-19/UDP_Bandlock_9S_Phone_BR/sm00/#01/data/diag_log_sm00_2024-03-19_18-39-12_nr_ml1.csv'],\n",
      "  ['/home/wmnlab/E/database/2024-03-19/UDP_Bandlock_9S_Phone_BR/sm04/#01/data/handover_info_log.csv',\n",
      "   '/home/wmnlab/E/database/2024-03-19/UDP_Bandlock_9S_Phone_BR/sm04/#01/data/udp_dnlk_loss_latency.csv',\n",
      "   '/home/wmnlab/E/database/2024-03-19/UDP_Bandlock_9S_Phone_BR/sm04/#01/data/udp_uplk_loss_latency.csv',\n",
      "   '/home/wmnlab/E/database/2024-03-19/UDP_Bandlock_9S_Phone_BR/sm04/#01/data/diag_log_sm04_2024-03-19_18-39-12_rrc.csv',\n",
      "   '/home/wmnlab/E/database/2024-03-19/UDP_Bandlock_9S_Phone_BR/sm04/#01/data/diag_log_sm04_2024-03-19_18-39-12_ml1.csv',\n",
      "   '/home/wmnlab/E/database/2024-03-19/UDP_Bandlock_9S_Phone_BR/sm04/#01/data/diag_log_sm04_2024-03-19_18-39-12_nr_ml1.csv']),\n",
      " (['/home/wmnlab/E/database/2024-03-19/UDP_Bandlock_9S_Phone_BR/sm00/#01/data/handover_info_log.csv',\n",
      "   '/home/wmnlab/E/database/2024-03-19/UDP_Bandlock_9S_Phone_BR/sm00/#01/data/udp_dnlk_loss_latency.csv',\n",
      "   '/home/wmnlab/E/database/2024-03-19/UDP_Bandlock_9S_Phone_BR/sm00/#01/data/udp_uplk_loss_latency.csv',\n",
      "   '/home/wmnlab/E/database/2024-03-19/UDP_Bandlock_9S_Phone_BR/sm00/#01/data/diag_log_sm00_2024-03-19_18-39-12_rrc.csv',\n",
      "   '/home/wmnlab/E/database/2024-03-19/UDP_Bandlock_9S_Phone_BR/sm00/#01/data/diag_log_sm00_2024-03-19_18-39-12_ml1.csv',\n",
      "   '/home/wmnlab/E/database/2024-03-19/UDP_Bandlock_9S_Phone_BR/sm00/#01/data/diag_log_sm00_2024-03-19_18-39-12_nr_ml1.csv'],\n",
      "  ['/home/wmnlab/E/database/2024-03-19/UDP_Bandlock_9S_Phone_BR/sm05/#01/data/handover_info_log.csv',\n",
      "   '/home/wmnlab/E/database/2024-03-19/UDP_Bandlock_9S_Phone_BR/sm05/#01/data/udp_dnlk_loss_latency.csv',\n",
      "   '/home/wmnlab/E/database/2024-03-19/UDP_Bandlock_9S_Phone_BR/sm05/#01/data/udp_uplk_loss_latency.csv',\n",
      "   '/home/wmnlab/E/database/2024-03-19/UDP_Bandlock_9S_Phone_BR/sm05/#01/data/diag_log_sm05_2024-03-19_18-39-12_rrc.csv',\n",
      "   '/home/wmnlab/E/database/2024-03-19/UDP_Bandlock_9S_Phone_BR/sm05/#01/data/diag_log_sm05_2024-03-19_18-39-12_ml1.csv',\n",
      "   '/home/wmnlab/E/database/2024-03-19/UDP_Bandlock_9S_Phone_BR/sm05/#01/data/diag_log_sm05_2024-03-19_18-39-12_nr_ml1.csv']),\n",
      " (['/home/wmnlab/E/database/2024-03-19/UDP_Bandlock_9S_Phone_BR/sm00/#01/data/handover_info_log.csv',\n",
      "   '/home/wmnlab/E/database/2024-03-19/UDP_Bandlock_9S_Phone_BR/sm00/#01/data/udp_dnlk_loss_latency.csv',\n",
      "   '/home/wmnlab/E/database/2024-03-19/UDP_Bandlock_9S_Phone_BR/sm00/#01/data/udp_uplk_loss_latency.csv',\n",
      "   '/home/wmnlab/E/database/2024-03-19/UDP_Bandlock_9S_Phone_BR/sm00/#01/data/diag_log_sm00_2024-03-19_18-39-12_rrc.csv',\n",
      "   '/home/wmnlab/E/database/2024-03-19/UDP_Bandlock_9S_Phone_BR/sm00/#01/data/diag_log_sm00_2024-03-19_18-39-12_ml1.csv',\n",
      "   '/home/wmnlab/E/database/2024-03-19/UDP_Bandlock_9S_Phone_BR/sm00/#01/data/diag_log_sm00_2024-03-19_18-39-12_nr_ml1.csv'],\n",
      "  ['/home/wmnlab/E/database/2024-03-19/UDP_Bandlock_9S_Phone_BR/sm06/#01/data/handover_info_log.csv',\n",
      "   '/home/wmnlab/E/database/2024-03-19/UDP_Bandlock_9S_Phone_BR/sm06/#01/data/udp_dnlk_loss_latency.csv',\n",
      "   '/home/wmnlab/E/database/2024-03-19/UDP_Bandlock_9S_Phone_BR/sm06/#01/data/udp_uplk_loss_latency.csv',\n",
      "   '/home/wmnlab/E/database/2024-03-19/UDP_Bandlock_9S_Phone_BR/sm06/#01/data/diag_log_sm06_2024-03-19_18-39-12_rrc.csv',\n",
      "   '/home/wmnlab/E/database/2024-03-19/UDP_Bandlock_9S_Phone_BR/sm06/#01/data/diag_log_sm06_2024-03-19_18-39-12_ml1.csv',\n",
      "   '/home/wmnlab/E/database/2024-03-19/UDP_Bandlock_9S_Phone_BR/sm06/#01/data/diag_log_sm06_2024-03-19_18-39-12_nr_ml1.csv']),\n",
      " (['/home/wmnlab/E/database/2024-03-19/UDP_Bandlock_9S_Phone_BR/sm00/#01/data/handover_info_log.csv',\n",
      "   '/home/wmnlab/E/database/2024-03-19/UDP_Bandlock_9S_Phone_BR/sm00/#01/data/udp_dnlk_loss_latency.csv',\n",
      "   '/home/wmnlab/E/database/2024-03-19/UDP_Bandlock_9S_Phone_BR/sm00/#01/data/udp_uplk_loss_latency.csv',\n",
      "   '/home/wmnlab/E/database/2024-03-19/UDP_Bandlock_9S_Phone_BR/sm00/#01/data/diag_log_sm00_2024-03-19_18-39-12_rrc.csv',\n",
      "   '/home/wmnlab/E/database/2024-03-19/UDP_Bandlock_9S_Phone_BR/sm00/#01/data/diag_log_sm00_2024-03-19_18-39-12_ml1.csv',\n",
      "   '/home/wmnlab/E/database/2024-03-19/UDP_Bandlock_9S_Phone_BR/sm00/#01/data/diag_log_sm00_2024-03-19_18-39-12_nr_ml1.csv'],\n",
      "  ['/home/wmnlab/E/database/2024-03-19/UDP_Bandlock_9S_Phone_BR/sm07/#01/data/handover_info_log.csv',\n",
      "   '/home/wmnlab/E/database/2024-03-19/UDP_Bandlock_9S_Phone_BR/sm07/#01/data/udp_dnlk_loss_latency.csv',\n",
      "   '/home/wmnlab/E/database/2024-03-19/UDP_Bandlock_9S_Phone_BR/sm07/#01/data/udp_uplk_loss_latency.csv',\n",
      "   '/home/wmnlab/E/database/2024-03-19/UDP_Bandlock_9S_Phone_BR/sm07/#01/data/diag_log_sm07_2024-03-19_18-39-12_rrc.csv',\n",
      "   '/home/wmnlab/E/database/2024-03-19/UDP_Bandlock_9S_Phone_BR/sm07/#01/data/diag_log_sm07_2024-03-19_18-39-12_ml1.csv',\n",
      "   '/home/wmnlab/E/database/2024-03-19/UDP_Bandlock_9S_Phone_BR/sm07/#01/data/diag_log_sm07_2024-03-19_18-39-12_nr_ml1.csv']),\n",
      " (['/home/wmnlab/E/database/2024-03-19/UDP_Bandlock_9S_Phone_BR/sm00/#01/data/handover_info_log.csv',\n",
      "   '/home/wmnlab/E/database/2024-03-19/UDP_Bandlock_9S_Phone_BR/sm00/#01/data/udp_dnlk_loss_latency.csv',\n",
      "   '/home/wmnlab/E/database/2024-03-19/UDP_Bandlock_9S_Phone_BR/sm00/#01/data/udp_uplk_loss_latency.csv',\n",
      "   '/home/wmnlab/E/database/2024-03-19/UDP_Bandlock_9S_Phone_BR/sm00/#01/data/diag_log_sm00_2024-03-19_18-39-12_rrc.csv',\n",
      "   '/home/wmnlab/E/database/2024-03-19/UDP_Bandlock_9S_Phone_BR/sm00/#01/data/diag_log_sm00_2024-03-19_18-39-12_ml1.csv',\n",
      "   '/home/wmnlab/E/database/2024-03-19/UDP_Bandlock_9S_Phone_BR/sm00/#01/data/diag_log_sm00_2024-03-19_18-39-12_nr_ml1.csv'],\n",
      "  ['/home/wmnlab/E/database/2024-03-19/UDP_Bandlock_9S_Phone_BR/sm08/#01/data/handover_info_log.csv',\n",
      "   '/home/wmnlab/E/database/2024-03-19/UDP_Bandlock_9S_Phone_BR/sm08/#01/data/udp_dnlk_loss_latency.csv',\n",
      "   '/home/wmnlab/E/database/2024-03-19/UDP_Bandlock_9S_Phone_BR/sm08/#01/data/udp_uplk_loss_latency.csv',\n",
      "   '/home/wmnlab/E/database/2024-03-19/UDP_Bandlock_9S_Phone_BR/sm08/#01/data/diag_log_sm08_2024-03-19_18-39-12_rrc.csv',\n",
      "   '/home/wmnlab/E/database/2024-03-19/UDP_Bandlock_9S_Phone_BR/sm08/#01/data/diag_log_sm08_2024-03-19_18-39-12_ml1.csv',\n",
      "   '/home/wmnlab/E/database/2024-03-19/UDP_Bandlock_9S_Phone_BR/sm08/#01/data/diag_log_sm08_2024-03-19_18-39-12_nr_ml1.csv']),\n",
      " (['/home/wmnlab/E/database/2024-03-19/UDP_Bandlock_9S_Phone_BR/sm01/#01/data/handover_info_log.csv',\n",
      "   '/home/wmnlab/E/database/2024-03-19/UDP_Bandlock_9S_Phone_BR/sm01/#01/data/udp_dnlk_loss_latency.csv',\n",
      "   '/home/wmnlab/E/database/2024-03-19/UDP_Bandlock_9S_Phone_BR/sm01/#01/data/udp_uplk_loss_latency.csv',\n",
      "   '/home/wmnlab/E/database/2024-03-19/UDP_Bandlock_9S_Phone_BR/sm01/#01/data/diag_log_sm01_2024-03-19_18-39-12_rrc.csv',\n",
      "   '/home/wmnlab/E/database/2024-03-19/UDP_Bandlock_9S_Phone_BR/sm01/#01/data/diag_log_sm01_2024-03-19_18-39-12_ml1.csv',\n",
      "   '/home/wmnlab/E/database/2024-03-19/UDP_Bandlock_9S_Phone_BR/sm01/#01/data/diag_log_sm01_2024-03-19_18-39-12_nr_ml1.csv'],\n",
      "  ['/home/wmnlab/E/database/2024-03-19/UDP_Bandlock_9S_Phone_BR/sm02/#01/data/handover_info_log.csv',\n",
      "   '/home/wmnlab/E/database/2024-03-19/UDP_Bandlock_9S_Phone_BR/sm02/#01/data/udp_dnlk_loss_latency.csv',\n",
      "   '/home/wmnlab/E/database/2024-03-19/UDP_Bandlock_9S_Phone_BR/sm02/#01/data/udp_uplk_loss_latency.csv',\n",
      "   '/home/wmnlab/E/database/2024-03-19/UDP_Bandlock_9S_Phone_BR/sm02/#01/data/diag_log_sm02_2024-03-19_18-39-12_rrc.csv',\n",
      "   '/home/wmnlab/E/database/2024-03-19/UDP_Bandlock_9S_Phone_BR/sm02/#01/data/diag_log_sm02_2024-03-19_18-39-12_ml1.csv',\n",
      "   '/home/wmnlab/E/database/2024-03-19/UDP_Bandlock_9S_Phone_BR/sm02/#01/data/diag_log_sm02_2024-03-19_18-39-12_nr_ml1.csv']),\n",
      " (['/home/wmnlab/E/database/2024-03-19/UDP_Bandlock_9S_Phone_BR/sm01/#01/data/handover_info_log.csv',\n",
      "   '/home/wmnlab/E/database/2024-03-19/UDP_Bandlock_9S_Phone_BR/sm01/#01/data/udp_dnlk_loss_latency.csv',\n",
      "   '/home/wmnlab/E/database/2024-03-19/UDP_Bandlock_9S_Phone_BR/sm01/#01/data/udp_uplk_loss_latency.csv',\n",
      "   '/home/wmnlab/E/database/2024-03-19/UDP_Bandlock_9S_Phone_BR/sm01/#01/data/diag_log_sm01_2024-03-19_18-39-12_rrc.csv',\n",
      "   '/home/wmnlab/E/database/2024-03-19/UDP_Bandlock_9S_Phone_BR/sm01/#01/data/diag_log_sm01_2024-03-19_18-39-12_ml1.csv',\n",
      "   '/home/wmnlab/E/database/2024-03-19/UDP_Bandlock_9S_Phone_BR/sm01/#01/data/diag_log_sm01_2024-03-19_18-39-12_nr_ml1.csv'],\n",
      "  ['/home/wmnlab/E/database/2024-03-19/UDP_Bandlock_9S_Phone_BR/sm03/#01/data/handover_info_log.csv',\n",
      "   '/home/wmnlab/E/database/2024-03-19/UDP_Bandlock_9S_Phone_BR/sm03/#01/data/udp_dnlk_loss_latency.csv',\n",
      "   '/home/wmnlab/E/database/2024-03-19/UDP_Bandlock_9S_Phone_BR/sm03/#01/data/udp_uplk_loss_latency.csv',\n",
      "   '/home/wmnlab/E/database/2024-03-19/UDP_Bandlock_9S_Phone_BR/sm03/#01/data/diag_log_sm03_2024-03-19_18-39-12_rrc.csv',\n",
      "   '/home/wmnlab/E/database/2024-03-19/UDP_Bandlock_9S_Phone_BR/sm03/#01/data/diag_log_sm03_2024-03-19_18-39-12_ml1.csv',\n",
      "   '/home/wmnlab/E/database/2024-03-19/UDP_Bandlock_9S_Phone_BR/sm03/#01/data/diag_log_sm03_2024-03-19_18-39-12_nr_ml1.csv']),\n",
      " (['/home/wmnlab/E/database/2024-03-19/UDP_Bandlock_9S_Phone_BR/sm01/#01/data/handover_info_log.csv',\n",
      "   '/home/wmnlab/E/database/2024-03-19/UDP_Bandlock_9S_Phone_BR/sm01/#01/data/udp_dnlk_loss_latency.csv',\n",
      "   '/home/wmnlab/E/database/2024-03-19/UDP_Bandlock_9S_Phone_BR/sm01/#01/data/udp_uplk_loss_latency.csv',\n",
      "   '/home/wmnlab/E/database/2024-03-19/UDP_Bandlock_9S_Phone_BR/sm01/#01/data/diag_log_sm01_2024-03-19_18-39-12_rrc.csv',\n",
      "   '/home/wmnlab/E/database/2024-03-19/UDP_Bandlock_9S_Phone_BR/sm01/#01/data/diag_log_sm01_2024-03-19_18-39-12_ml1.csv',\n",
      "   '/home/wmnlab/E/database/2024-03-19/UDP_Bandlock_9S_Phone_BR/sm01/#01/data/diag_log_sm01_2024-03-19_18-39-12_nr_ml1.csv'],\n",
      "  ['/home/wmnlab/E/database/2024-03-19/UDP_Bandlock_9S_Phone_BR/sm04/#01/data/handover_info_log.csv',\n",
      "   '/home/wmnlab/E/database/2024-03-19/UDP_Bandlock_9S_Phone_BR/sm04/#01/data/udp_dnlk_loss_latency.csv',\n",
      "   '/home/wmnlab/E/database/2024-03-19/UDP_Bandlock_9S_Phone_BR/sm04/#01/data/udp_uplk_loss_latency.csv',\n",
      "   '/home/wmnlab/E/database/2024-03-19/UDP_Bandlock_9S_Phone_BR/sm04/#01/data/diag_log_sm04_2024-03-19_18-39-12_rrc.csv',\n",
      "   '/home/wmnlab/E/database/2024-03-19/UDP_Bandlock_9S_Phone_BR/sm04/#01/data/diag_log_sm04_2024-03-19_18-39-12_ml1.csv',\n",
      "   '/home/wmnlab/E/database/2024-03-19/UDP_Bandlock_9S_Phone_BR/sm04/#01/data/diag_log_sm04_2024-03-19_18-39-12_nr_ml1.csv']),\n",
      " (['/home/wmnlab/E/database/2024-03-19/UDP_Bandlock_9S_Phone_BR/sm01/#01/data/handover_info_log.csv',\n",
      "   '/home/wmnlab/E/database/2024-03-19/UDP_Bandlock_9S_Phone_BR/sm01/#01/data/udp_dnlk_loss_latency.csv',\n",
      "   '/home/wmnlab/E/database/2024-03-19/UDP_Bandlock_9S_Phone_BR/sm01/#01/data/udp_uplk_loss_latency.csv',\n",
      "   '/home/wmnlab/E/database/2024-03-19/UDP_Bandlock_9S_Phone_BR/sm01/#01/data/diag_log_sm01_2024-03-19_18-39-12_rrc.csv',\n",
      "   '/home/wmnlab/E/database/2024-03-19/UDP_Bandlock_9S_Phone_BR/sm01/#01/data/diag_log_sm01_2024-03-19_18-39-12_ml1.csv',\n",
      "   '/home/wmnlab/E/database/2024-03-19/UDP_Bandlock_9S_Phone_BR/sm01/#01/data/diag_log_sm01_2024-03-19_18-39-12_nr_ml1.csv'],\n",
      "  ['/home/wmnlab/E/database/2024-03-19/UDP_Bandlock_9S_Phone_BR/sm05/#01/data/handover_info_log.csv',\n",
      "   '/home/wmnlab/E/database/2024-03-19/UDP_Bandlock_9S_Phone_BR/sm05/#01/data/udp_dnlk_loss_latency.csv',\n",
      "   '/home/wmnlab/E/database/2024-03-19/UDP_Bandlock_9S_Phone_BR/sm05/#01/data/udp_uplk_loss_latency.csv',\n",
      "   '/home/wmnlab/E/database/2024-03-19/UDP_Bandlock_9S_Phone_BR/sm05/#01/data/diag_log_sm05_2024-03-19_18-39-12_rrc.csv',\n",
      "   '/home/wmnlab/E/database/2024-03-19/UDP_Bandlock_9S_Phone_BR/sm05/#01/data/diag_log_sm05_2024-03-19_18-39-12_ml1.csv',\n",
      "   '/home/wmnlab/E/database/2024-03-19/UDP_Bandlock_9S_Phone_BR/sm05/#01/data/diag_log_sm05_2024-03-19_18-39-12_nr_ml1.csv']),\n",
      " (['/home/wmnlab/E/database/2024-03-19/UDP_Bandlock_9S_Phone_BR/sm01/#01/data/handover_info_log.csv',\n",
      "   '/home/wmnlab/E/database/2024-03-19/UDP_Bandlock_9S_Phone_BR/sm01/#01/data/udp_dnlk_loss_latency.csv',\n",
      "   '/home/wmnlab/E/database/2024-03-19/UDP_Bandlock_9S_Phone_BR/sm01/#01/data/udp_uplk_loss_latency.csv',\n",
      "   '/home/wmnlab/E/database/2024-03-19/UDP_Bandlock_9S_Phone_BR/sm01/#01/data/diag_log_sm01_2024-03-19_18-39-12_rrc.csv',\n",
      "   '/home/wmnlab/E/database/2024-03-19/UDP_Bandlock_9S_Phone_BR/sm01/#01/data/diag_log_sm01_2024-03-19_18-39-12_ml1.csv',\n",
      "   '/home/wmnlab/E/database/2024-03-19/UDP_Bandlock_9S_Phone_BR/sm01/#01/data/diag_log_sm01_2024-03-19_18-39-12_nr_ml1.csv'],\n",
      "  ['/home/wmnlab/E/database/2024-03-19/UDP_Bandlock_9S_Phone_BR/sm06/#01/data/handover_info_log.csv',\n",
      "   '/home/wmnlab/E/database/2024-03-19/UDP_Bandlock_9S_Phone_BR/sm06/#01/data/udp_dnlk_loss_latency.csv',\n",
      "   '/home/wmnlab/E/database/2024-03-19/UDP_Bandlock_9S_Phone_BR/sm06/#01/data/udp_uplk_loss_latency.csv',\n",
      "   '/home/wmnlab/E/database/2024-03-19/UDP_Bandlock_9S_Phone_BR/sm06/#01/data/diag_log_sm06_2024-03-19_18-39-12_rrc.csv',\n",
      "   '/home/wmnlab/E/database/2024-03-19/UDP_Bandlock_9S_Phone_BR/sm06/#01/data/diag_log_sm06_2024-03-19_18-39-12_ml1.csv',\n",
      "   '/home/wmnlab/E/database/2024-03-19/UDP_Bandlock_9S_Phone_BR/sm06/#01/data/diag_log_sm06_2024-03-19_18-39-12_nr_ml1.csv']),\n",
      " (['/home/wmnlab/E/database/2024-03-19/UDP_Bandlock_9S_Phone_BR/sm01/#01/data/handover_info_log.csv',\n",
      "   '/home/wmnlab/E/database/2024-03-19/UDP_Bandlock_9S_Phone_BR/sm01/#01/data/udp_dnlk_loss_latency.csv',\n",
      "   '/home/wmnlab/E/database/2024-03-19/UDP_Bandlock_9S_Phone_BR/sm01/#01/data/udp_uplk_loss_latency.csv',\n",
      "   '/home/wmnlab/E/database/2024-03-19/UDP_Bandlock_9S_Phone_BR/sm01/#01/data/diag_log_sm01_2024-03-19_18-39-12_rrc.csv',\n",
      "   '/home/wmnlab/E/database/2024-03-19/UDP_Bandlock_9S_Phone_BR/sm01/#01/data/diag_log_sm01_2024-03-19_18-39-12_ml1.csv',\n",
      "   '/home/wmnlab/E/database/2024-03-19/UDP_Bandlock_9S_Phone_BR/sm01/#01/data/diag_log_sm01_2024-03-19_18-39-12_nr_ml1.csv'],\n",
      "  ['/home/wmnlab/E/database/2024-03-19/UDP_Bandlock_9S_Phone_BR/sm07/#01/data/handover_info_log.csv',\n",
      "   '/home/wmnlab/E/database/2024-03-19/UDP_Bandlock_9S_Phone_BR/sm07/#01/data/udp_dnlk_loss_latency.csv',\n",
      "   '/home/wmnlab/E/database/2024-03-19/UDP_Bandlock_9S_Phone_BR/sm07/#01/data/udp_uplk_loss_latency.csv',\n",
      "   '/home/wmnlab/E/database/2024-03-19/UDP_Bandlock_9S_Phone_BR/sm07/#01/data/diag_log_sm07_2024-03-19_18-39-12_rrc.csv',\n",
      "   '/home/wmnlab/E/database/2024-03-19/UDP_Bandlock_9S_Phone_BR/sm07/#01/data/diag_log_sm07_2024-03-19_18-39-12_ml1.csv',\n",
      "   '/home/wmnlab/E/database/2024-03-19/UDP_Bandlock_9S_Phone_BR/sm07/#01/data/diag_log_sm07_2024-03-19_18-39-12_nr_ml1.csv']),\n",
      " (['/home/wmnlab/E/database/2024-03-19/UDP_Bandlock_9S_Phone_BR/sm01/#01/data/handover_info_log.csv',\n",
      "   '/home/wmnlab/E/database/2024-03-19/UDP_Bandlock_9S_Phone_BR/sm01/#01/data/udp_dnlk_loss_latency.csv',\n",
      "   '/home/wmnlab/E/database/2024-03-19/UDP_Bandlock_9S_Phone_BR/sm01/#01/data/udp_uplk_loss_latency.csv',\n",
      "   '/home/wmnlab/E/database/2024-03-19/UDP_Bandlock_9S_Phone_BR/sm01/#01/data/diag_log_sm01_2024-03-19_18-39-12_rrc.csv',\n",
      "   '/home/wmnlab/E/database/2024-03-19/UDP_Bandlock_9S_Phone_BR/sm01/#01/data/diag_log_sm01_2024-03-19_18-39-12_ml1.csv',\n",
      "   '/home/wmnlab/E/database/2024-03-19/UDP_Bandlock_9S_Phone_BR/sm01/#01/data/diag_log_sm01_2024-03-19_18-39-12_nr_ml1.csv'],\n",
      "  ['/home/wmnlab/E/database/2024-03-19/UDP_Bandlock_9S_Phone_BR/sm08/#01/data/handover_info_log.csv',\n",
      "   '/home/wmnlab/E/database/2024-03-19/UDP_Bandlock_9S_Phone_BR/sm08/#01/data/udp_dnlk_loss_latency.csv',\n",
      "   '/home/wmnlab/E/database/2024-03-19/UDP_Bandlock_9S_Phone_BR/sm08/#01/data/udp_uplk_loss_latency.csv',\n",
      "   '/home/wmnlab/E/database/2024-03-19/UDP_Bandlock_9S_Phone_BR/sm08/#01/data/diag_log_sm08_2024-03-19_18-39-12_rrc.csv',\n",
      "   '/home/wmnlab/E/database/2024-03-19/UDP_Bandlock_9S_Phone_BR/sm08/#01/data/diag_log_sm08_2024-03-19_18-39-12_ml1.csv',\n",
      "   '/home/wmnlab/E/database/2024-03-19/UDP_Bandlock_9S_Phone_BR/sm08/#01/data/diag_log_sm08_2024-03-19_18-39-12_nr_ml1.csv']),\n",
      " (['/home/wmnlab/E/database/2024-03-19/UDP_Bandlock_9S_Phone_BR/sm02/#01/data/handover_info_log.csv',\n",
      "   '/home/wmnlab/E/database/2024-03-19/UDP_Bandlock_9S_Phone_BR/sm02/#01/data/udp_dnlk_loss_latency.csv',\n",
      "   '/home/wmnlab/E/database/2024-03-19/UDP_Bandlock_9S_Phone_BR/sm02/#01/data/udp_uplk_loss_latency.csv',\n",
      "   '/home/wmnlab/E/database/2024-03-19/UDP_Bandlock_9S_Phone_BR/sm02/#01/data/diag_log_sm02_2024-03-19_18-39-12_rrc.csv',\n",
      "   '/home/wmnlab/E/database/2024-03-19/UDP_Bandlock_9S_Phone_BR/sm02/#01/data/diag_log_sm02_2024-03-19_18-39-12_ml1.csv',\n",
      "   '/home/wmnlab/E/database/2024-03-19/UDP_Bandlock_9S_Phone_BR/sm02/#01/data/diag_log_sm02_2024-03-19_18-39-12_nr_ml1.csv'],\n",
      "  ['/home/wmnlab/E/database/2024-03-19/UDP_Bandlock_9S_Phone_BR/sm03/#01/data/handover_info_log.csv',\n",
      "   '/home/wmnlab/E/database/2024-03-19/UDP_Bandlock_9S_Phone_BR/sm03/#01/data/udp_dnlk_loss_latency.csv',\n",
      "   '/home/wmnlab/E/database/2024-03-19/UDP_Bandlock_9S_Phone_BR/sm03/#01/data/udp_uplk_loss_latency.csv',\n",
      "   '/home/wmnlab/E/database/2024-03-19/UDP_Bandlock_9S_Phone_BR/sm03/#01/data/diag_log_sm03_2024-03-19_18-39-12_rrc.csv',\n",
      "   '/home/wmnlab/E/database/2024-03-19/UDP_Bandlock_9S_Phone_BR/sm03/#01/data/diag_log_sm03_2024-03-19_18-39-12_ml1.csv',\n",
      "   '/home/wmnlab/E/database/2024-03-19/UDP_Bandlock_9S_Phone_BR/sm03/#01/data/diag_log_sm03_2024-03-19_18-39-12_nr_ml1.csv']),\n",
      " (['/home/wmnlab/E/database/2024-03-19/UDP_Bandlock_9S_Phone_BR/sm02/#01/data/handover_info_log.csv',\n",
      "   '/home/wmnlab/E/database/2024-03-19/UDP_Bandlock_9S_Phone_BR/sm02/#01/data/udp_dnlk_loss_latency.csv',\n",
      "   '/home/wmnlab/E/database/2024-03-19/UDP_Bandlock_9S_Phone_BR/sm02/#01/data/udp_uplk_loss_latency.csv',\n",
      "   '/home/wmnlab/E/database/2024-03-19/UDP_Bandlock_9S_Phone_BR/sm02/#01/data/diag_log_sm02_2024-03-19_18-39-12_rrc.csv',\n",
      "   '/home/wmnlab/E/database/2024-03-19/UDP_Bandlock_9S_Phone_BR/sm02/#01/data/diag_log_sm02_2024-03-19_18-39-12_ml1.csv',\n",
      "   '/home/wmnlab/E/database/2024-03-19/UDP_Bandlock_9S_Phone_BR/sm02/#01/data/diag_log_sm02_2024-03-19_18-39-12_nr_ml1.csv'],\n",
      "  ['/home/wmnlab/E/database/2024-03-19/UDP_Bandlock_9S_Phone_BR/sm04/#01/data/handover_info_log.csv',\n",
      "   '/home/wmnlab/E/database/2024-03-19/UDP_Bandlock_9S_Phone_BR/sm04/#01/data/udp_dnlk_loss_latency.csv',\n",
      "   '/home/wmnlab/E/database/2024-03-19/UDP_Bandlock_9S_Phone_BR/sm04/#01/data/udp_uplk_loss_latency.csv',\n",
      "   '/home/wmnlab/E/database/2024-03-19/UDP_Bandlock_9S_Phone_BR/sm04/#01/data/diag_log_sm04_2024-03-19_18-39-12_rrc.csv',\n",
      "   '/home/wmnlab/E/database/2024-03-19/UDP_Bandlock_9S_Phone_BR/sm04/#01/data/diag_log_sm04_2024-03-19_18-39-12_ml1.csv',\n",
      "   '/home/wmnlab/E/database/2024-03-19/UDP_Bandlock_9S_Phone_BR/sm04/#01/data/diag_log_sm04_2024-03-19_18-39-12_nr_ml1.csv']),\n",
      " (['/home/wmnlab/E/database/2024-03-19/UDP_Bandlock_9S_Phone_BR/sm02/#01/data/handover_info_log.csv',\n",
      "   '/home/wmnlab/E/database/2024-03-19/UDP_Bandlock_9S_Phone_BR/sm02/#01/data/udp_dnlk_loss_latency.csv',\n",
      "   '/home/wmnlab/E/database/2024-03-19/UDP_Bandlock_9S_Phone_BR/sm02/#01/data/udp_uplk_loss_latency.csv',\n",
      "   '/home/wmnlab/E/database/2024-03-19/UDP_Bandlock_9S_Phone_BR/sm02/#01/data/diag_log_sm02_2024-03-19_18-39-12_rrc.csv',\n",
      "   '/home/wmnlab/E/database/2024-03-19/UDP_Bandlock_9S_Phone_BR/sm02/#01/data/diag_log_sm02_2024-03-19_18-39-12_ml1.csv',\n",
      "   '/home/wmnlab/E/database/2024-03-19/UDP_Bandlock_9S_Phone_BR/sm02/#01/data/diag_log_sm02_2024-03-19_18-39-12_nr_ml1.csv'],\n",
      "  ['/home/wmnlab/E/database/2024-03-19/UDP_Bandlock_9S_Phone_BR/sm05/#01/data/handover_info_log.csv',\n",
      "   '/home/wmnlab/E/database/2024-03-19/UDP_Bandlock_9S_Phone_BR/sm05/#01/data/udp_dnlk_loss_latency.csv',\n",
      "   '/home/wmnlab/E/database/2024-03-19/UDP_Bandlock_9S_Phone_BR/sm05/#01/data/udp_uplk_loss_latency.csv',\n",
      "   '/home/wmnlab/E/database/2024-03-19/UDP_Bandlock_9S_Phone_BR/sm05/#01/data/diag_log_sm05_2024-03-19_18-39-12_rrc.csv',\n",
      "   '/home/wmnlab/E/database/2024-03-19/UDP_Bandlock_9S_Phone_BR/sm05/#01/data/diag_log_sm05_2024-03-19_18-39-12_ml1.csv',\n",
      "   '/home/wmnlab/E/database/2024-03-19/UDP_Bandlock_9S_Phone_BR/sm05/#01/data/diag_log_sm05_2024-03-19_18-39-12_nr_ml1.csv']),\n",
      " (['/home/wmnlab/E/database/2024-03-19/UDP_Bandlock_9S_Phone_BR/sm02/#01/data/handover_info_log.csv',\n",
      "   '/home/wmnlab/E/database/2024-03-19/UDP_Bandlock_9S_Phone_BR/sm02/#01/data/udp_dnlk_loss_latency.csv',\n",
      "   '/home/wmnlab/E/database/2024-03-19/UDP_Bandlock_9S_Phone_BR/sm02/#01/data/udp_uplk_loss_latency.csv',\n",
      "   '/home/wmnlab/E/database/2024-03-19/UDP_Bandlock_9S_Phone_BR/sm02/#01/data/diag_log_sm02_2024-03-19_18-39-12_rrc.csv',\n",
      "   '/home/wmnlab/E/database/2024-03-19/UDP_Bandlock_9S_Phone_BR/sm02/#01/data/diag_log_sm02_2024-03-19_18-39-12_ml1.csv',\n",
      "   '/home/wmnlab/E/database/2024-03-19/UDP_Bandlock_9S_Phone_BR/sm02/#01/data/diag_log_sm02_2024-03-19_18-39-12_nr_ml1.csv'],\n",
      "  ['/home/wmnlab/E/database/2024-03-19/UDP_Bandlock_9S_Phone_BR/sm06/#01/data/handover_info_log.csv',\n",
      "   '/home/wmnlab/E/database/2024-03-19/UDP_Bandlock_9S_Phone_BR/sm06/#01/data/udp_dnlk_loss_latency.csv',\n",
      "   '/home/wmnlab/E/database/2024-03-19/UDP_Bandlock_9S_Phone_BR/sm06/#01/data/udp_uplk_loss_latency.csv',\n",
      "   '/home/wmnlab/E/database/2024-03-19/UDP_Bandlock_9S_Phone_BR/sm06/#01/data/diag_log_sm06_2024-03-19_18-39-12_rrc.csv',\n",
      "   '/home/wmnlab/E/database/2024-03-19/UDP_Bandlock_9S_Phone_BR/sm06/#01/data/diag_log_sm06_2024-03-19_18-39-12_ml1.csv',\n",
      "   '/home/wmnlab/E/database/2024-03-19/UDP_Bandlock_9S_Phone_BR/sm06/#01/data/diag_log_sm06_2024-03-19_18-39-12_nr_ml1.csv']),\n",
      " (['/home/wmnlab/E/database/2024-03-19/UDP_Bandlock_9S_Phone_BR/sm02/#01/data/handover_info_log.csv',\n",
      "   '/home/wmnlab/E/database/2024-03-19/UDP_Bandlock_9S_Phone_BR/sm02/#01/data/udp_dnlk_loss_latency.csv',\n",
      "   '/home/wmnlab/E/database/2024-03-19/UDP_Bandlock_9S_Phone_BR/sm02/#01/data/udp_uplk_loss_latency.csv',\n",
      "   '/home/wmnlab/E/database/2024-03-19/UDP_Bandlock_9S_Phone_BR/sm02/#01/data/diag_log_sm02_2024-03-19_18-39-12_rrc.csv',\n",
      "   '/home/wmnlab/E/database/2024-03-19/UDP_Bandlock_9S_Phone_BR/sm02/#01/data/diag_log_sm02_2024-03-19_18-39-12_ml1.csv',\n",
      "   '/home/wmnlab/E/database/2024-03-19/UDP_Bandlock_9S_Phone_BR/sm02/#01/data/diag_log_sm02_2024-03-19_18-39-12_nr_ml1.csv'],\n",
      "  ['/home/wmnlab/E/database/2024-03-19/UDP_Bandlock_9S_Phone_BR/sm07/#01/data/handover_info_log.csv',\n",
      "   '/home/wmnlab/E/database/2024-03-19/UDP_Bandlock_9S_Phone_BR/sm07/#01/data/udp_dnlk_loss_latency.csv',\n",
      "   '/home/wmnlab/E/database/2024-03-19/UDP_Bandlock_9S_Phone_BR/sm07/#01/data/udp_uplk_loss_latency.csv',\n",
      "   '/home/wmnlab/E/database/2024-03-19/UDP_Bandlock_9S_Phone_BR/sm07/#01/data/diag_log_sm07_2024-03-19_18-39-12_rrc.csv',\n",
      "   '/home/wmnlab/E/database/2024-03-19/UDP_Bandlock_9S_Phone_BR/sm07/#01/data/diag_log_sm07_2024-03-19_18-39-12_ml1.csv',\n",
      "   '/home/wmnlab/E/database/2024-03-19/UDP_Bandlock_9S_Phone_BR/sm07/#01/data/diag_log_sm07_2024-03-19_18-39-12_nr_ml1.csv']),\n",
      " (['/home/wmnlab/E/database/2024-03-19/UDP_Bandlock_9S_Phone_BR/sm02/#01/data/handover_info_log.csv',\n",
      "   '/home/wmnlab/E/database/2024-03-19/UDP_Bandlock_9S_Phone_BR/sm02/#01/data/udp_dnlk_loss_latency.csv',\n",
      "   '/home/wmnlab/E/database/2024-03-19/UDP_Bandlock_9S_Phone_BR/sm02/#01/data/udp_uplk_loss_latency.csv',\n",
      "   '/home/wmnlab/E/database/2024-03-19/UDP_Bandlock_9S_Phone_BR/sm02/#01/data/diag_log_sm02_2024-03-19_18-39-12_rrc.csv',\n",
      "   '/home/wmnlab/E/database/2024-03-19/UDP_Bandlock_9S_Phone_BR/sm02/#01/data/diag_log_sm02_2024-03-19_18-39-12_ml1.csv',\n",
      "   '/home/wmnlab/E/database/2024-03-19/UDP_Bandlock_9S_Phone_BR/sm02/#01/data/diag_log_sm02_2024-03-19_18-39-12_nr_ml1.csv'],\n",
      "  ['/home/wmnlab/E/database/2024-03-19/UDP_Bandlock_9S_Phone_BR/sm08/#01/data/handover_info_log.csv',\n",
      "   '/home/wmnlab/E/database/2024-03-19/UDP_Bandlock_9S_Phone_BR/sm08/#01/data/udp_dnlk_loss_latency.csv',\n",
      "   '/home/wmnlab/E/database/2024-03-19/UDP_Bandlock_9S_Phone_BR/sm08/#01/data/udp_uplk_loss_latency.csv',\n",
      "   '/home/wmnlab/E/database/2024-03-19/UDP_Bandlock_9S_Phone_BR/sm08/#01/data/diag_log_sm08_2024-03-19_18-39-12_rrc.csv',\n",
      "   '/home/wmnlab/E/database/2024-03-19/UDP_Bandlock_9S_Phone_BR/sm08/#01/data/diag_log_sm08_2024-03-19_18-39-12_ml1.csv',\n",
      "   '/home/wmnlab/E/database/2024-03-19/UDP_Bandlock_9S_Phone_BR/sm08/#01/data/diag_log_sm08_2024-03-19_18-39-12_nr_ml1.csv']),\n",
      " (['/home/wmnlab/E/database/2024-03-19/UDP_Bandlock_9S_Phone_BR/sm03/#01/data/handover_info_log.csv',\n",
      "   '/home/wmnlab/E/database/2024-03-19/UDP_Bandlock_9S_Phone_BR/sm03/#01/data/udp_dnlk_loss_latency.csv',\n",
      "   '/home/wmnlab/E/database/2024-03-19/UDP_Bandlock_9S_Phone_BR/sm03/#01/data/udp_uplk_loss_latency.csv',\n",
      "   '/home/wmnlab/E/database/2024-03-19/UDP_Bandlock_9S_Phone_BR/sm03/#01/data/diag_log_sm03_2024-03-19_18-39-12_rrc.csv',\n",
      "   '/home/wmnlab/E/database/2024-03-19/UDP_Bandlock_9S_Phone_BR/sm03/#01/data/diag_log_sm03_2024-03-19_18-39-12_ml1.csv',\n",
      "   '/home/wmnlab/E/database/2024-03-19/UDP_Bandlock_9S_Phone_BR/sm03/#01/data/diag_log_sm03_2024-03-19_18-39-12_nr_ml1.csv'],\n",
      "  ['/home/wmnlab/E/database/2024-03-19/UDP_Bandlock_9S_Phone_BR/sm04/#01/data/handover_info_log.csv',\n",
      "   '/home/wmnlab/E/database/2024-03-19/UDP_Bandlock_9S_Phone_BR/sm04/#01/data/udp_dnlk_loss_latency.csv',\n",
      "   '/home/wmnlab/E/database/2024-03-19/UDP_Bandlock_9S_Phone_BR/sm04/#01/data/udp_uplk_loss_latency.csv',\n",
      "   '/home/wmnlab/E/database/2024-03-19/UDP_Bandlock_9S_Phone_BR/sm04/#01/data/diag_log_sm04_2024-03-19_18-39-12_rrc.csv',\n",
      "   '/home/wmnlab/E/database/2024-03-19/UDP_Bandlock_9S_Phone_BR/sm04/#01/data/diag_log_sm04_2024-03-19_18-39-12_ml1.csv',\n",
      "   '/home/wmnlab/E/database/2024-03-19/UDP_Bandlock_9S_Phone_BR/sm04/#01/data/diag_log_sm04_2024-03-19_18-39-12_nr_ml1.csv']),\n",
      " (['/home/wmnlab/E/database/2024-03-19/UDP_Bandlock_9S_Phone_BR/sm03/#01/data/handover_info_log.csv',\n",
      "   '/home/wmnlab/E/database/2024-03-19/UDP_Bandlock_9S_Phone_BR/sm03/#01/data/udp_dnlk_loss_latency.csv',\n",
      "   '/home/wmnlab/E/database/2024-03-19/UDP_Bandlock_9S_Phone_BR/sm03/#01/data/udp_uplk_loss_latency.csv',\n",
      "   '/home/wmnlab/E/database/2024-03-19/UDP_Bandlock_9S_Phone_BR/sm03/#01/data/diag_log_sm03_2024-03-19_18-39-12_rrc.csv',\n",
      "   '/home/wmnlab/E/database/2024-03-19/UDP_Bandlock_9S_Phone_BR/sm03/#01/data/diag_log_sm03_2024-03-19_18-39-12_ml1.csv',\n",
      "   '/home/wmnlab/E/database/2024-03-19/UDP_Bandlock_9S_Phone_BR/sm03/#01/data/diag_log_sm03_2024-03-19_18-39-12_nr_ml1.csv'],\n",
      "  ['/home/wmnlab/E/database/2024-03-19/UDP_Bandlock_9S_Phone_BR/sm05/#01/data/handover_info_log.csv',\n",
      "   '/home/wmnlab/E/database/2024-03-19/UDP_Bandlock_9S_Phone_BR/sm05/#01/data/udp_dnlk_loss_latency.csv',\n",
      "   '/home/wmnlab/E/database/2024-03-19/UDP_Bandlock_9S_Phone_BR/sm05/#01/data/udp_uplk_loss_latency.csv',\n",
      "   '/home/wmnlab/E/database/2024-03-19/UDP_Bandlock_9S_Phone_BR/sm05/#01/data/diag_log_sm05_2024-03-19_18-39-12_rrc.csv',\n",
      "   '/home/wmnlab/E/database/2024-03-19/UDP_Bandlock_9S_Phone_BR/sm05/#01/data/diag_log_sm05_2024-03-19_18-39-12_ml1.csv',\n",
      "   '/home/wmnlab/E/database/2024-03-19/UDP_Bandlock_9S_Phone_BR/sm05/#01/data/diag_log_sm05_2024-03-19_18-39-12_nr_ml1.csv']),\n",
      " (['/home/wmnlab/E/database/2024-03-19/UDP_Bandlock_9S_Phone_BR/sm03/#01/data/handover_info_log.csv',\n",
      "   '/home/wmnlab/E/database/2024-03-19/UDP_Bandlock_9S_Phone_BR/sm03/#01/data/udp_dnlk_loss_latency.csv',\n",
      "   '/home/wmnlab/E/database/2024-03-19/UDP_Bandlock_9S_Phone_BR/sm03/#01/data/udp_uplk_loss_latency.csv',\n",
      "   '/home/wmnlab/E/database/2024-03-19/UDP_Bandlock_9S_Phone_BR/sm03/#01/data/diag_log_sm03_2024-03-19_18-39-12_rrc.csv',\n",
      "   '/home/wmnlab/E/database/2024-03-19/UDP_Bandlock_9S_Phone_BR/sm03/#01/data/diag_log_sm03_2024-03-19_18-39-12_ml1.csv',\n",
      "   '/home/wmnlab/E/database/2024-03-19/UDP_Bandlock_9S_Phone_BR/sm03/#01/data/diag_log_sm03_2024-03-19_18-39-12_nr_ml1.csv'],\n",
      "  ['/home/wmnlab/E/database/2024-03-19/UDP_Bandlock_9S_Phone_BR/sm06/#01/data/handover_info_log.csv',\n",
      "   '/home/wmnlab/E/database/2024-03-19/UDP_Bandlock_9S_Phone_BR/sm06/#01/data/udp_dnlk_loss_latency.csv',\n",
      "   '/home/wmnlab/E/database/2024-03-19/UDP_Bandlock_9S_Phone_BR/sm06/#01/data/udp_uplk_loss_latency.csv',\n",
      "   '/home/wmnlab/E/database/2024-03-19/UDP_Bandlock_9S_Phone_BR/sm06/#01/data/diag_log_sm06_2024-03-19_18-39-12_rrc.csv',\n",
      "   '/home/wmnlab/E/database/2024-03-19/UDP_Bandlock_9S_Phone_BR/sm06/#01/data/diag_log_sm06_2024-03-19_18-39-12_ml1.csv',\n",
      "   '/home/wmnlab/E/database/2024-03-19/UDP_Bandlock_9S_Phone_BR/sm06/#01/data/diag_log_sm06_2024-03-19_18-39-12_nr_ml1.csv']),\n",
      " (['/home/wmnlab/E/database/2024-03-19/UDP_Bandlock_9S_Phone_BR/sm03/#01/data/handover_info_log.csv',\n",
      "   '/home/wmnlab/E/database/2024-03-19/UDP_Bandlock_9S_Phone_BR/sm03/#01/data/udp_dnlk_loss_latency.csv',\n",
      "   '/home/wmnlab/E/database/2024-03-19/UDP_Bandlock_9S_Phone_BR/sm03/#01/data/udp_uplk_loss_latency.csv',\n",
      "   '/home/wmnlab/E/database/2024-03-19/UDP_Bandlock_9S_Phone_BR/sm03/#01/data/diag_log_sm03_2024-03-19_18-39-12_rrc.csv',\n",
      "   '/home/wmnlab/E/database/2024-03-19/UDP_Bandlock_9S_Phone_BR/sm03/#01/data/diag_log_sm03_2024-03-19_18-39-12_ml1.csv',\n",
      "   '/home/wmnlab/E/database/2024-03-19/UDP_Bandlock_9S_Phone_BR/sm03/#01/data/diag_log_sm03_2024-03-19_18-39-12_nr_ml1.csv'],\n",
      "  ['/home/wmnlab/E/database/2024-03-19/UDP_Bandlock_9S_Phone_BR/sm07/#01/data/handover_info_log.csv',\n",
      "   '/home/wmnlab/E/database/2024-03-19/UDP_Bandlock_9S_Phone_BR/sm07/#01/data/udp_dnlk_loss_latency.csv',\n",
      "   '/home/wmnlab/E/database/2024-03-19/UDP_Bandlock_9S_Phone_BR/sm07/#01/data/udp_uplk_loss_latency.csv',\n",
      "   '/home/wmnlab/E/database/2024-03-19/UDP_Bandlock_9S_Phone_BR/sm07/#01/data/diag_log_sm07_2024-03-19_18-39-12_rrc.csv',\n",
      "   '/home/wmnlab/E/database/2024-03-19/UDP_Bandlock_9S_Phone_BR/sm07/#01/data/diag_log_sm07_2024-03-19_18-39-12_ml1.csv',\n",
      "   '/home/wmnlab/E/database/2024-03-19/UDP_Bandlock_9S_Phone_BR/sm07/#01/data/diag_log_sm07_2024-03-19_18-39-12_nr_ml1.csv']),\n",
      " (['/home/wmnlab/E/database/2024-03-19/UDP_Bandlock_9S_Phone_BR/sm03/#01/data/handover_info_log.csv',\n",
      "   '/home/wmnlab/E/database/2024-03-19/UDP_Bandlock_9S_Phone_BR/sm03/#01/data/udp_dnlk_loss_latency.csv',\n",
      "   '/home/wmnlab/E/database/2024-03-19/UDP_Bandlock_9S_Phone_BR/sm03/#01/data/udp_uplk_loss_latency.csv',\n",
      "   '/home/wmnlab/E/database/2024-03-19/UDP_Bandlock_9S_Phone_BR/sm03/#01/data/diag_log_sm03_2024-03-19_18-39-12_rrc.csv',\n",
      "   '/home/wmnlab/E/database/2024-03-19/UDP_Bandlock_9S_Phone_BR/sm03/#01/data/diag_log_sm03_2024-03-19_18-39-12_ml1.csv',\n",
      "   '/home/wmnlab/E/database/2024-03-19/UDP_Bandlock_9S_Phone_BR/sm03/#01/data/diag_log_sm03_2024-03-19_18-39-12_nr_ml1.csv'],\n",
      "  ['/home/wmnlab/E/database/2024-03-19/UDP_Bandlock_9S_Phone_BR/sm08/#01/data/handover_info_log.csv',\n",
      "   '/home/wmnlab/E/database/2024-03-19/UDP_Bandlock_9S_Phone_BR/sm08/#01/data/udp_dnlk_loss_latency.csv',\n",
      "   '/home/wmnlab/E/database/2024-03-19/UDP_Bandlock_9S_Phone_BR/sm08/#01/data/udp_uplk_loss_latency.csv',\n",
      "   '/home/wmnlab/E/database/2024-03-19/UDP_Bandlock_9S_Phone_BR/sm08/#01/data/diag_log_sm08_2024-03-19_18-39-12_rrc.csv',\n",
      "   '/home/wmnlab/E/database/2024-03-19/UDP_Bandlock_9S_Phone_BR/sm08/#01/data/diag_log_sm08_2024-03-19_18-39-12_ml1.csv',\n",
      "   '/home/wmnlab/E/database/2024-03-19/UDP_Bandlock_9S_Phone_BR/sm08/#01/data/diag_log_sm08_2024-03-19_18-39-12_nr_ml1.csv']),\n",
      " (['/home/wmnlab/E/database/2024-03-19/UDP_Bandlock_9S_Phone_BR/sm04/#01/data/handover_info_log.csv',\n",
      "   '/home/wmnlab/E/database/2024-03-19/UDP_Bandlock_9S_Phone_BR/sm04/#01/data/udp_dnlk_loss_latency.csv',\n",
      "   '/home/wmnlab/E/database/2024-03-19/UDP_Bandlock_9S_Phone_BR/sm04/#01/data/udp_uplk_loss_latency.csv',\n",
      "   '/home/wmnlab/E/database/2024-03-19/UDP_Bandlock_9S_Phone_BR/sm04/#01/data/diag_log_sm04_2024-03-19_18-39-12_rrc.csv',\n",
      "   '/home/wmnlab/E/database/2024-03-19/UDP_Bandlock_9S_Phone_BR/sm04/#01/data/diag_log_sm04_2024-03-19_18-39-12_ml1.csv',\n",
      "   '/home/wmnlab/E/database/2024-03-19/UDP_Bandlock_9S_Phone_BR/sm04/#01/data/diag_log_sm04_2024-03-19_18-39-12_nr_ml1.csv'],\n",
      "  ['/home/wmnlab/E/database/2024-03-19/UDP_Bandlock_9S_Phone_BR/sm05/#01/data/handover_info_log.csv',\n",
      "   '/home/wmnlab/E/database/2024-03-19/UDP_Bandlock_9S_Phone_BR/sm05/#01/data/udp_dnlk_loss_latency.csv',\n",
      "   '/home/wmnlab/E/database/2024-03-19/UDP_Bandlock_9S_Phone_BR/sm05/#01/data/udp_uplk_loss_latency.csv',\n",
      "   '/home/wmnlab/E/database/2024-03-19/UDP_Bandlock_9S_Phone_BR/sm05/#01/data/diag_log_sm05_2024-03-19_18-39-12_rrc.csv',\n",
      "   '/home/wmnlab/E/database/2024-03-19/UDP_Bandlock_9S_Phone_BR/sm05/#01/data/diag_log_sm05_2024-03-19_18-39-12_ml1.csv',\n",
      "   '/home/wmnlab/E/database/2024-03-19/UDP_Bandlock_9S_Phone_BR/sm05/#01/data/diag_log_sm05_2024-03-19_18-39-12_nr_ml1.csv']),\n",
      " (['/home/wmnlab/E/database/2024-03-19/UDP_Bandlock_9S_Phone_BR/sm04/#01/data/handover_info_log.csv',\n",
      "   '/home/wmnlab/E/database/2024-03-19/UDP_Bandlock_9S_Phone_BR/sm04/#01/data/udp_dnlk_loss_latency.csv',\n",
      "   '/home/wmnlab/E/database/2024-03-19/UDP_Bandlock_9S_Phone_BR/sm04/#01/data/udp_uplk_loss_latency.csv',\n",
      "   '/home/wmnlab/E/database/2024-03-19/UDP_Bandlock_9S_Phone_BR/sm04/#01/data/diag_log_sm04_2024-03-19_18-39-12_rrc.csv',\n",
      "   '/home/wmnlab/E/database/2024-03-19/UDP_Bandlock_9S_Phone_BR/sm04/#01/data/diag_log_sm04_2024-03-19_18-39-12_ml1.csv',\n",
      "   '/home/wmnlab/E/database/2024-03-19/UDP_Bandlock_9S_Phone_BR/sm04/#01/data/diag_log_sm04_2024-03-19_18-39-12_nr_ml1.csv'],\n",
      "  ['/home/wmnlab/E/database/2024-03-19/UDP_Bandlock_9S_Phone_BR/sm06/#01/data/handover_info_log.csv',\n",
      "   '/home/wmnlab/E/database/2024-03-19/UDP_Bandlock_9S_Phone_BR/sm06/#01/data/udp_dnlk_loss_latency.csv',\n",
      "   '/home/wmnlab/E/database/2024-03-19/UDP_Bandlock_9S_Phone_BR/sm06/#01/data/udp_uplk_loss_latency.csv',\n",
      "   '/home/wmnlab/E/database/2024-03-19/UDP_Bandlock_9S_Phone_BR/sm06/#01/data/diag_log_sm06_2024-03-19_18-39-12_rrc.csv',\n",
      "   '/home/wmnlab/E/database/2024-03-19/UDP_Bandlock_9S_Phone_BR/sm06/#01/data/diag_log_sm06_2024-03-19_18-39-12_ml1.csv',\n",
      "   '/home/wmnlab/E/database/2024-03-19/UDP_Bandlock_9S_Phone_BR/sm06/#01/data/diag_log_sm06_2024-03-19_18-39-12_nr_ml1.csv']),\n",
      " (['/home/wmnlab/E/database/2024-03-19/UDP_Bandlock_9S_Phone_BR/sm04/#01/data/handover_info_log.csv',\n",
      "   '/home/wmnlab/E/database/2024-03-19/UDP_Bandlock_9S_Phone_BR/sm04/#01/data/udp_dnlk_loss_latency.csv',\n",
      "   '/home/wmnlab/E/database/2024-03-19/UDP_Bandlock_9S_Phone_BR/sm04/#01/data/udp_uplk_loss_latency.csv',\n",
      "   '/home/wmnlab/E/database/2024-03-19/UDP_Bandlock_9S_Phone_BR/sm04/#01/data/diag_log_sm04_2024-03-19_18-39-12_rrc.csv',\n",
      "   '/home/wmnlab/E/database/2024-03-19/UDP_Bandlock_9S_Phone_BR/sm04/#01/data/diag_log_sm04_2024-03-19_18-39-12_ml1.csv',\n",
      "   '/home/wmnlab/E/database/2024-03-19/UDP_Bandlock_9S_Phone_BR/sm04/#01/data/diag_log_sm04_2024-03-19_18-39-12_nr_ml1.csv'],\n",
      "  ['/home/wmnlab/E/database/2024-03-19/UDP_Bandlock_9S_Phone_BR/sm07/#01/data/handover_info_log.csv',\n",
      "   '/home/wmnlab/E/database/2024-03-19/UDP_Bandlock_9S_Phone_BR/sm07/#01/data/udp_dnlk_loss_latency.csv',\n",
      "   '/home/wmnlab/E/database/2024-03-19/UDP_Bandlock_9S_Phone_BR/sm07/#01/data/udp_uplk_loss_latency.csv',\n",
      "   '/home/wmnlab/E/database/2024-03-19/UDP_Bandlock_9S_Phone_BR/sm07/#01/data/diag_log_sm07_2024-03-19_18-39-12_rrc.csv',\n",
      "   '/home/wmnlab/E/database/2024-03-19/UDP_Bandlock_9S_Phone_BR/sm07/#01/data/diag_log_sm07_2024-03-19_18-39-12_ml1.csv',\n",
      "   '/home/wmnlab/E/database/2024-03-19/UDP_Bandlock_9S_Phone_BR/sm07/#01/data/diag_log_sm07_2024-03-19_18-39-12_nr_ml1.csv']),\n",
      " (['/home/wmnlab/E/database/2024-03-19/UDP_Bandlock_9S_Phone_BR/sm04/#01/data/handover_info_log.csv',\n",
      "   '/home/wmnlab/E/database/2024-03-19/UDP_Bandlock_9S_Phone_BR/sm04/#01/data/udp_dnlk_loss_latency.csv',\n",
      "   '/home/wmnlab/E/database/2024-03-19/UDP_Bandlock_9S_Phone_BR/sm04/#01/data/udp_uplk_loss_latency.csv',\n",
      "   '/home/wmnlab/E/database/2024-03-19/UDP_Bandlock_9S_Phone_BR/sm04/#01/data/diag_log_sm04_2024-03-19_18-39-12_rrc.csv',\n",
      "   '/home/wmnlab/E/database/2024-03-19/UDP_Bandlock_9S_Phone_BR/sm04/#01/data/diag_log_sm04_2024-03-19_18-39-12_ml1.csv',\n",
      "   '/home/wmnlab/E/database/2024-03-19/UDP_Bandlock_9S_Phone_BR/sm04/#01/data/diag_log_sm04_2024-03-19_18-39-12_nr_ml1.csv'],\n",
      "  ['/home/wmnlab/E/database/2024-03-19/UDP_Bandlock_9S_Phone_BR/sm08/#01/data/handover_info_log.csv',\n",
      "   '/home/wmnlab/E/database/2024-03-19/UDP_Bandlock_9S_Phone_BR/sm08/#01/data/udp_dnlk_loss_latency.csv',\n",
      "   '/home/wmnlab/E/database/2024-03-19/UDP_Bandlock_9S_Phone_BR/sm08/#01/data/udp_uplk_loss_latency.csv',\n",
      "   '/home/wmnlab/E/database/2024-03-19/UDP_Bandlock_9S_Phone_BR/sm08/#01/data/diag_log_sm08_2024-03-19_18-39-12_rrc.csv',\n",
      "   '/home/wmnlab/E/database/2024-03-19/UDP_Bandlock_9S_Phone_BR/sm08/#01/data/diag_log_sm08_2024-03-19_18-39-12_ml1.csv',\n",
      "   '/home/wmnlab/E/database/2024-03-19/UDP_Bandlock_9S_Phone_BR/sm08/#01/data/diag_log_sm08_2024-03-19_18-39-12_nr_ml1.csv']),\n",
      " (['/home/wmnlab/E/database/2024-03-19/UDP_Bandlock_9S_Phone_BR/sm05/#01/data/handover_info_log.csv',\n",
      "   '/home/wmnlab/E/database/2024-03-19/UDP_Bandlock_9S_Phone_BR/sm05/#01/data/udp_dnlk_loss_latency.csv',\n",
      "   '/home/wmnlab/E/database/2024-03-19/UDP_Bandlock_9S_Phone_BR/sm05/#01/data/udp_uplk_loss_latency.csv',\n",
      "   '/home/wmnlab/E/database/2024-03-19/UDP_Bandlock_9S_Phone_BR/sm05/#01/data/diag_log_sm05_2024-03-19_18-39-12_rrc.csv',\n",
      "   '/home/wmnlab/E/database/2024-03-19/UDP_Bandlock_9S_Phone_BR/sm05/#01/data/diag_log_sm05_2024-03-19_18-39-12_ml1.csv',\n",
      "   '/home/wmnlab/E/database/2024-03-19/UDP_Bandlock_9S_Phone_BR/sm05/#01/data/diag_log_sm05_2024-03-19_18-39-12_nr_ml1.csv'],\n",
      "  ['/home/wmnlab/E/database/2024-03-19/UDP_Bandlock_9S_Phone_BR/sm06/#01/data/handover_info_log.csv',\n",
      "   '/home/wmnlab/E/database/2024-03-19/UDP_Bandlock_9S_Phone_BR/sm06/#01/data/udp_dnlk_loss_latency.csv',\n",
      "   '/home/wmnlab/E/database/2024-03-19/UDP_Bandlock_9S_Phone_BR/sm06/#01/data/udp_uplk_loss_latency.csv',\n",
      "   '/home/wmnlab/E/database/2024-03-19/UDP_Bandlock_9S_Phone_BR/sm06/#01/data/diag_log_sm06_2024-03-19_18-39-12_rrc.csv',\n",
      "   '/home/wmnlab/E/database/2024-03-19/UDP_Bandlock_9S_Phone_BR/sm06/#01/data/diag_log_sm06_2024-03-19_18-39-12_ml1.csv',\n",
      "   '/home/wmnlab/E/database/2024-03-19/UDP_Bandlock_9S_Phone_BR/sm06/#01/data/diag_log_sm06_2024-03-19_18-39-12_nr_ml1.csv']),\n",
      " (['/home/wmnlab/E/database/2024-03-19/UDP_Bandlock_9S_Phone_BR/sm05/#01/data/handover_info_log.csv',\n",
      "   '/home/wmnlab/E/database/2024-03-19/UDP_Bandlock_9S_Phone_BR/sm05/#01/data/udp_dnlk_loss_latency.csv',\n",
      "   '/home/wmnlab/E/database/2024-03-19/UDP_Bandlock_9S_Phone_BR/sm05/#01/data/udp_uplk_loss_latency.csv',\n",
      "   '/home/wmnlab/E/database/2024-03-19/UDP_Bandlock_9S_Phone_BR/sm05/#01/data/diag_log_sm05_2024-03-19_18-39-12_rrc.csv',\n",
      "   '/home/wmnlab/E/database/2024-03-19/UDP_Bandlock_9S_Phone_BR/sm05/#01/data/diag_log_sm05_2024-03-19_18-39-12_ml1.csv',\n",
      "   '/home/wmnlab/E/database/2024-03-19/UDP_Bandlock_9S_Phone_BR/sm05/#01/data/diag_log_sm05_2024-03-19_18-39-12_nr_ml1.csv'],\n",
      "  ['/home/wmnlab/E/database/2024-03-19/UDP_Bandlock_9S_Phone_BR/sm07/#01/data/handover_info_log.csv',\n",
      "   '/home/wmnlab/E/database/2024-03-19/UDP_Bandlock_9S_Phone_BR/sm07/#01/data/udp_dnlk_loss_latency.csv',\n",
      "   '/home/wmnlab/E/database/2024-03-19/UDP_Bandlock_9S_Phone_BR/sm07/#01/data/udp_uplk_loss_latency.csv',\n",
      "   '/home/wmnlab/E/database/2024-03-19/UDP_Bandlock_9S_Phone_BR/sm07/#01/data/diag_log_sm07_2024-03-19_18-39-12_rrc.csv',\n",
      "   '/home/wmnlab/E/database/2024-03-19/UDP_Bandlock_9S_Phone_BR/sm07/#01/data/diag_log_sm07_2024-03-19_18-39-12_ml1.csv',\n",
      "   '/home/wmnlab/E/database/2024-03-19/UDP_Bandlock_9S_Phone_BR/sm07/#01/data/diag_log_sm07_2024-03-19_18-39-12_nr_ml1.csv']),\n",
      " (['/home/wmnlab/E/database/2024-03-19/UDP_Bandlock_9S_Phone_BR/sm05/#01/data/handover_info_log.csv',\n",
      "   '/home/wmnlab/E/database/2024-03-19/UDP_Bandlock_9S_Phone_BR/sm05/#01/data/udp_dnlk_loss_latency.csv',\n",
      "   '/home/wmnlab/E/database/2024-03-19/UDP_Bandlock_9S_Phone_BR/sm05/#01/data/udp_uplk_loss_latency.csv',\n",
      "   '/home/wmnlab/E/database/2024-03-19/UDP_Bandlock_9S_Phone_BR/sm05/#01/data/diag_log_sm05_2024-03-19_18-39-12_rrc.csv',\n",
      "   '/home/wmnlab/E/database/2024-03-19/UDP_Bandlock_9S_Phone_BR/sm05/#01/data/diag_log_sm05_2024-03-19_18-39-12_ml1.csv',\n",
      "   '/home/wmnlab/E/database/2024-03-19/UDP_Bandlock_9S_Phone_BR/sm05/#01/data/diag_log_sm05_2024-03-19_18-39-12_nr_ml1.csv'],\n",
      "  ['/home/wmnlab/E/database/2024-03-19/UDP_Bandlock_9S_Phone_BR/sm08/#01/data/handover_info_log.csv',\n",
      "   '/home/wmnlab/E/database/2024-03-19/UDP_Bandlock_9S_Phone_BR/sm08/#01/data/udp_dnlk_loss_latency.csv',\n",
      "   '/home/wmnlab/E/database/2024-03-19/UDP_Bandlock_9S_Phone_BR/sm08/#01/data/udp_uplk_loss_latency.csv',\n",
      "   '/home/wmnlab/E/database/2024-03-19/UDP_Bandlock_9S_Phone_BR/sm08/#01/data/diag_log_sm08_2024-03-19_18-39-12_rrc.csv',\n",
      "   '/home/wmnlab/E/database/2024-03-19/UDP_Bandlock_9S_Phone_BR/sm08/#01/data/diag_log_sm08_2024-03-19_18-39-12_ml1.csv',\n",
      "   '/home/wmnlab/E/database/2024-03-19/UDP_Bandlock_9S_Phone_BR/sm08/#01/data/diag_log_sm08_2024-03-19_18-39-12_nr_ml1.csv']),\n",
      " (['/home/wmnlab/E/database/2024-03-19/UDP_Bandlock_9S_Phone_BR/sm06/#01/data/handover_info_log.csv',\n",
      "   '/home/wmnlab/E/database/2024-03-19/UDP_Bandlock_9S_Phone_BR/sm06/#01/data/udp_dnlk_loss_latency.csv',\n",
      "   '/home/wmnlab/E/database/2024-03-19/UDP_Bandlock_9S_Phone_BR/sm06/#01/data/udp_uplk_loss_latency.csv',\n",
      "   '/home/wmnlab/E/database/2024-03-19/UDP_Bandlock_9S_Phone_BR/sm06/#01/data/diag_log_sm06_2024-03-19_18-39-12_rrc.csv',\n",
      "   '/home/wmnlab/E/database/2024-03-19/UDP_Bandlock_9S_Phone_BR/sm06/#01/data/diag_log_sm06_2024-03-19_18-39-12_ml1.csv',\n",
      "   '/home/wmnlab/E/database/2024-03-19/UDP_Bandlock_9S_Phone_BR/sm06/#01/data/diag_log_sm06_2024-03-19_18-39-12_nr_ml1.csv'],\n",
      "  ['/home/wmnlab/E/database/2024-03-19/UDP_Bandlock_9S_Phone_BR/sm07/#01/data/handover_info_log.csv',\n",
      "   '/home/wmnlab/E/database/2024-03-19/UDP_Bandlock_9S_Phone_BR/sm07/#01/data/udp_dnlk_loss_latency.csv',\n",
      "   '/home/wmnlab/E/database/2024-03-19/UDP_Bandlock_9S_Phone_BR/sm07/#01/data/udp_uplk_loss_latency.csv',\n",
      "   '/home/wmnlab/E/database/2024-03-19/UDP_Bandlock_9S_Phone_BR/sm07/#01/data/diag_log_sm07_2024-03-19_18-39-12_rrc.csv',\n",
      "   '/home/wmnlab/E/database/2024-03-19/UDP_Bandlock_9S_Phone_BR/sm07/#01/data/diag_log_sm07_2024-03-19_18-39-12_ml1.csv',\n",
      "   '/home/wmnlab/E/database/2024-03-19/UDP_Bandlock_9S_Phone_BR/sm07/#01/data/diag_log_sm07_2024-03-19_18-39-12_nr_ml1.csv']),\n",
      " (['/home/wmnlab/E/database/2024-03-19/UDP_Bandlock_9S_Phone_BR/sm06/#01/data/handover_info_log.csv',\n",
      "   '/home/wmnlab/E/database/2024-03-19/UDP_Bandlock_9S_Phone_BR/sm06/#01/data/udp_dnlk_loss_latency.csv',\n",
      "   '/home/wmnlab/E/database/2024-03-19/UDP_Bandlock_9S_Phone_BR/sm06/#01/data/udp_uplk_loss_latency.csv',\n",
      "   '/home/wmnlab/E/database/2024-03-19/UDP_Bandlock_9S_Phone_BR/sm06/#01/data/diag_log_sm06_2024-03-19_18-39-12_rrc.csv',\n",
      "   '/home/wmnlab/E/database/2024-03-19/UDP_Bandlock_9S_Phone_BR/sm06/#01/data/diag_log_sm06_2024-03-19_18-39-12_ml1.csv',\n",
      "   '/home/wmnlab/E/database/2024-03-19/UDP_Bandlock_9S_Phone_BR/sm06/#01/data/diag_log_sm06_2024-03-19_18-39-12_nr_ml1.csv'],\n",
      "  ['/home/wmnlab/E/database/2024-03-19/UDP_Bandlock_9S_Phone_BR/sm08/#01/data/handover_info_log.csv',\n",
      "   '/home/wmnlab/E/database/2024-03-19/UDP_Bandlock_9S_Phone_BR/sm08/#01/data/udp_dnlk_loss_latency.csv',\n",
      "   '/home/wmnlab/E/database/2024-03-19/UDP_Bandlock_9S_Phone_BR/sm08/#01/data/udp_uplk_loss_latency.csv',\n",
      "   '/home/wmnlab/E/database/2024-03-19/UDP_Bandlock_9S_Phone_BR/sm08/#01/data/diag_log_sm08_2024-03-19_18-39-12_rrc.csv',\n",
      "   '/home/wmnlab/E/database/2024-03-19/UDP_Bandlock_9S_Phone_BR/sm08/#01/data/diag_log_sm08_2024-03-19_18-39-12_ml1.csv',\n",
      "   '/home/wmnlab/E/database/2024-03-19/UDP_Bandlock_9S_Phone_BR/sm08/#01/data/diag_log_sm08_2024-03-19_18-39-12_nr_ml1.csv']),\n",
      " (['/home/wmnlab/E/database/2024-03-19/UDP_Bandlock_9S_Phone_BR/sm07/#01/data/handover_info_log.csv',\n",
      "   '/home/wmnlab/E/database/2024-03-19/UDP_Bandlock_9S_Phone_BR/sm07/#01/data/udp_dnlk_loss_latency.csv',\n",
      "   '/home/wmnlab/E/database/2024-03-19/UDP_Bandlock_9S_Phone_BR/sm07/#01/data/udp_uplk_loss_latency.csv',\n",
      "   '/home/wmnlab/E/database/2024-03-19/UDP_Bandlock_9S_Phone_BR/sm07/#01/data/diag_log_sm07_2024-03-19_18-39-12_rrc.csv',\n",
      "   '/home/wmnlab/E/database/2024-03-19/UDP_Bandlock_9S_Phone_BR/sm07/#01/data/diag_log_sm07_2024-03-19_18-39-12_ml1.csv',\n",
      "   '/home/wmnlab/E/database/2024-03-19/UDP_Bandlock_9S_Phone_BR/sm07/#01/data/diag_log_sm07_2024-03-19_18-39-12_nr_ml1.csv'],\n",
      "  ['/home/wmnlab/E/database/2024-03-19/UDP_Bandlock_9S_Phone_BR/sm08/#01/data/handover_info_log.csv',\n",
      "   '/home/wmnlab/E/database/2024-03-19/UDP_Bandlock_9S_Phone_BR/sm08/#01/data/udp_dnlk_loss_latency.csv',\n",
      "   '/home/wmnlab/E/database/2024-03-19/UDP_Bandlock_9S_Phone_BR/sm08/#01/data/udp_uplk_loss_latency.csv',\n",
      "   '/home/wmnlab/E/database/2024-03-19/UDP_Bandlock_9S_Phone_BR/sm08/#01/data/diag_log_sm08_2024-03-19_18-39-12_rrc.csv',\n",
      "   '/home/wmnlab/E/database/2024-03-19/UDP_Bandlock_9S_Phone_BR/sm08/#01/data/diag_log_sm08_2024-03-19_18-39-12_ml1.csv',\n",
      "   '/home/wmnlab/E/database/2024-03-19/UDP_Bandlock_9S_Phone_BR/sm08/#01/data/diag_log_sm08_2024-03-19_18-39-12_nr_ml1.csv']),\n",
      " (['/home/wmnlab/E/database/2024-03-19/UDP_Bandlock_9S_Phone_BR/sm00/#02/data/handover_info_log.csv',\n",
      "   '/home/wmnlab/E/database/2024-03-19/UDP_Bandlock_9S_Phone_BR/sm00/#02/data/udp_dnlk_loss_latency.csv',\n",
      "   '/home/wmnlab/E/database/2024-03-19/UDP_Bandlock_9S_Phone_BR/sm00/#02/data/udp_uplk_loss_latency.csv',\n",
      "   '/home/wmnlab/E/database/2024-03-19/UDP_Bandlock_9S_Phone_BR/sm00/#02/data/diag_log_sm00_2024-03-19_19-55-53_rrc.csv',\n",
      "   '/home/wmnlab/E/database/2024-03-19/UDP_Bandlock_9S_Phone_BR/sm00/#02/data/diag_log_sm00_2024-03-19_19-55-53_ml1.csv',\n",
      "   '/home/wmnlab/E/database/2024-03-19/UDP_Bandlock_9S_Phone_BR/sm00/#02/data/diag_log_sm00_2024-03-19_19-55-53_nr_ml1.csv'],\n",
      "  ['/home/wmnlab/E/database/2024-03-19/UDP_Bandlock_9S_Phone_BR/sm01/#02/data/handover_info_log.csv',\n",
      "   '/home/wmnlab/E/database/2024-03-19/UDP_Bandlock_9S_Phone_BR/sm01/#02/data/udp_dnlk_loss_latency.csv',\n",
      "   '/home/wmnlab/E/database/2024-03-19/UDP_Bandlock_9S_Phone_BR/sm01/#02/data/udp_uplk_loss_latency.csv',\n",
      "   '/home/wmnlab/E/database/2024-03-19/UDP_Bandlock_9S_Phone_BR/sm01/#02/data/diag_log_sm01_2024-03-19_19-55-53_rrc.csv',\n",
      "   '/home/wmnlab/E/database/2024-03-19/UDP_Bandlock_9S_Phone_BR/sm01/#02/data/diag_log_sm01_2024-03-19_19-55-53_ml1.csv',\n",
      "   '/home/wmnlab/E/database/2024-03-19/UDP_Bandlock_9S_Phone_BR/sm01/#02/data/diag_log_sm01_2024-03-19_19-55-53_nr_ml1.csv']),\n",
      " (['/home/wmnlab/E/database/2024-03-19/UDP_Bandlock_9S_Phone_BR/sm00/#02/data/handover_info_log.csv',\n",
      "   '/home/wmnlab/E/database/2024-03-19/UDP_Bandlock_9S_Phone_BR/sm00/#02/data/udp_dnlk_loss_latency.csv',\n",
      "   '/home/wmnlab/E/database/2024-03-19/UDP_Bandlock_9S_Phone_BR/sm00/#02/data/udp_uplk_loss_latency.csv',\n",
      "   '/home/wmnlab/E/database/2024-03-19/UDP_Bandlock_9S_Phone_BR/sm00/#02/data/diag_log_sm00_2024-03-19_19-55-53_rrc.csv',\n",
      "   '/home/wmnlab/E/database/2024-03-19/UDP_Bandlock_9S_Phone_BR/sm00/#02/data/diag_log_sm00_2024-03-19_19-55-53_ml1.csv',\n",
      "   '/home/wmnlab/E/database/2024-03-19/UDP_Bandlock_9S_Phone_BR/sm00/#02/data/diag_log_sm00_2024-03-19_19-55-53_nr_ml1.csv'],\n",
      "  ['/home/wmnlab/E/database/2024-03-19/UDP_Bandlock_9S_Phone_BR/sm02/#02/data/handover_info_log.csv',\n",
      "   '/home/wmnlab/E/database/2024-03-19/UDP_Bandlock_9S_Phone_BR/sm02/#02/data/udp_dnlk_loss_latency.csv',\n",
      "   '/home/wmnlab/E/database/2024-03-19/UDP_Bandlock_9S_Phone_BR/sm02/#02/data/udp_uplk_loss_latency.csv',\n",
      "   '/home/wmnlab/E/database/2024-03-19/UDP_Bandlock_9S_Phone_BR/sm02/#02/data/diag_log_sm02_2024-03-19_19-55-53_rrc.csv',\n",
      "   '/home/wmnlab/E/database/2024-03-19/UDP_Bandlock_9S_Phone_BR/sm02/#02/data/diag_log_sm02_2024-03-19_19-55-53_ml1.csv',\n",
      "   '/home/wmnlab/E/database/2024-03-19/UDP_Bandlock_9S_Phone_BR/sm02/#02/data/diag_log_sm02_2024-03-19_19-55-53_nr_ml1.csv']),\n",
      " (['/home/wmnlab/E/database/2024-03-19/UDP_Bandlock_9S_Phone_BR/sm00/#02/data/handover_info_log.csv',\n",
      "   '/home/wmnlab/E/database/2024-03-19/UDP_Bandlock_9S_Phone_BR/sm00/#02/data/udp_dnlk_loss_latency.csv',\n",
      "   '/home/wmnlab/E/database/2024-03-19/UDP_Bandlock_9S_Phone_BR/sm00/#02/data/udp_uplk_loss_latency.csv',\n",
      "   '/home/wmnlab/E/database/2024-03-19/UDP_Bandlock_9S_Phone_BR/sm00/#02/data/diag_log_sm00_2024-03-19_19-55-53_rrc.csv',\n",
      "   '/home/wmnlab/E/database/2024-03-19/UDP_Bandlock_9S_Phone_BR/sm00/#02/data/diag_log_sm00_2024-03-19_19-55-53_ml1.csv',\n",
      "   '/home/wmnlab/E/database/2024-03-19/UDP_Bandlock_9S_Phone_BR/sm00/#02/data/diag_log_sm00_2024-03-19_19-55-53_nr_ml1.csv'],\n",
      "  ['/home/wmnlab/E/database/2024-03-19/UDP_Bandlock_9S_Phone_BR/sm03/#02/data/handover_info_log.csv',\n",
      "   '/home/wmnlab/E/database/2024-03-19/UDP_Bandlock_9S_Phone_BR/sm03/#02/data/udp_dnlk_loss_latency.csv',\n",
      "   '/home/wmnlab/E/database/2024-03-19/UDP_Bandlock_9S_Phone_BR/sm03/#02/data/udp_uplk_loss_latency.csv',\n",
      "   '/home/wmnlab/E/database/2024-03-19/UDP_Bandlock_9S_Phone_BR/sm03/#02/data/diag_log_sm03_2024-03-19_19-55-53_rrc.csv',\n",
      "   '/home/wmnlab/E/database/2024-03-19/UDP_Bandlock_9S_Phone_BR/sm03/#02/data/diag_log_sm03_2024-03-19_19-55-53_ml1.csv',\n",
      "   '/home/wmnlab/E/database/2024-03-19/UDP_Bandlock_9S_Phone_BR/sm03/#02/data/diag_log_sm03_2024-03-19_19-55-53_nr_ml1.csv']),\n",
      " (['/home/wmnlab/E/database/2024-03-19/UDP_Bandlock_9S_Phone_BR/sm00/#02/data/handover_info_log.csv',\n",
      "   '/home/wmnlab/E/database/2024-03-19/UDP_Bandlock_9S_Phone_BR/sm00/#02/data/udp_dnlk_loss_latency.csv',\n",
      "   '/home/wmnlab/E/database/2024-03-19/UDP_Bandlock_9S_Phone_BR/sm00/#02/data/udp_uplk_loss_latency.csv',\n",
      "   '/home/wmnlab/E/database/2024-03-19/UDP_Bandlock_9S_Phone_BR/sm00/#02/data/diag_log_sm00_2024-03-19_19-55-53_rrc.csv',\n",
      "   '/home/wmnlab/E/database/2024-03-19/UDP_Bandlock_9S_Phone_BR/sm00/#02/data/diag_log_sm00_2024-03-19_19-55-53_ml1.csv',\n",
      "   '/home/wmnlab/E/database/2024-03-19/UDP_Bandlock_9S_Phone_BR/sm00/#02/data/diag_log_sm00_2024-03-19_19-55-53_nr_ml1.csv'],\n",
      "  ['/home/wmnlab/E/database/2024-03-19/UDP_Bandlock_9S_Phone_BR/sm04/#02/data/handover_info_log.csv',\n",
      "   '/home/wmnlab/E/database/2024-03-19/UDP_Bandlock_9S_Phone_BR/sm04/#02/data/udp_dnlk_loss_latency.csv',\n",
      "   '/home/wmnlab/E/database/2024-03-19/UDP_Bandlock_9S_Phone_BR/sm04/#02/data/udp_uplk_loss_latency.csv',\n",
      "   '/home/wmnlab/E/database/2024-03-19/UDP_Bandlock_9S_Phone_BR/sm04/#02/data/diag_log_sm04_2024-03-19_19-55-53_rrc.csv',\n",
      "   '/home/wmnlab/E/database/2024-03-19/UDP_Bandlock_9S_Phone_BR/sm04/#02/data/diag_log_sm04_2024-03-19_19-55-53_ml1.csv',\n",
      "   '/home/wmnlab/E/database/2024-03-19/UDP_Bandlock_9S_Phone_BR/sm04/#02/data/diag_log_sm04_2024-03-19_19-55-53_nr_ml1.csv']),\n",
      " (['/home/wmnlab/E/database/2024-03-19/UDP_Bandlock_9S_Phone_BR/sm00/#02/data/handover_info_log.csv',\n",
      "   '/home/wmnlab/E/database/2024-03-19/UDP_Bandlock_9S_Phone_BR/sm00/#02/data/udp_dnlk_loss_latency.csv',\n",
      "   '/home/wmnlab/E/database/2024-03-19/UDP_Bandlock_9S_Phone_BR/sm00/#02/data/udp_uplk_loss_latency.csv',\n",
      "   '/home/wmnlab/E/database/2024-03-19/UDP_Bandlock_9S_Phone_BR/sm00/#02/data/diag_log_sm00_2024-03-19_19-55-53_rrc.csv',\n",
      "   '/home/wmnlab/E/database/2024-03-19/UDP_Bandlock_9S_Phone_BR/sm00/#02/data/diag_log_sm00_2024-03-19_19-55-53_ml1.csv',\n",
      "   '/home/wmnlab/E/database/2024-03-19/UDP_Bandlock_9S_Phone_BR/sm00/#02/data/diag_log_sm00_2024-03-19_19-55-53_nr_ml1.csv'],\n",
      "  ['/home/wmnlab/E/database/2024-03-19/UDP_Bandlock_9S_Phone_BR/sm05/#02/data/handover_info_log.csv',\n",
      "   '/home/wmnlab/E/database/2024-03-19/UDP_Bandlock_9S_Phone_BR/sm05/#02/data/udp_dnlk_loss_latency.csv',\n",
      "   '/home/wmnlab/E/database/2024-03-19/UDP_Bandlock_9S_Phone_BR/sm05/#02/data/udp_uplk_loss_latency.csv',\n",
      "   '/home/wmnlab/E/database/2024-03-19/UDP_Bandlock_9S_Phone_BR/sm05/#02/data/diag_log_sm05_2024-03-19_19-55-53_rrc.csv',\n",
      "   '/home/wmnlab/E/database/2024-03-19/UDP_Bandlock_9S_Phone_BR/sm05/#02/data/diag_log_sm05_2024-03-19_19-55-53_ml1.csv',\n",
      "   '/home/wmnlab/E/database/2024-03-19/UDP_Bandlock_9S_Phone_BR/sm05/#02/data/diag_log_sm05_2024-03-19_19-55-53_nr_ml1.csv']),\n",
      " (['/home/wmnlab/E/database/2024-03-19/UDP_Bandlock_9S_Phone_BR/sm00/#02/data/handover_info_log.csv',\n",
      "   '/home/wmnlab/E/database/2024-03-19/UDP_Bandlock_9S_Phone_BR/sm00/#02/data/udp_dnlk_loss_latency.csv',\n",
      "   '/home/wmnlab/E/database/2024-03-19/UDP_Bandlock_9S_Phone_BR/sm00/#02/data/udp_uplk_loss_latency.csv',\n",
      "   '/home/wmnlab/E/database/2024-03-19/UDP_Bandlock_9S_Phone_BR/sm00/#02/data/diag_log_sm00_2024-03-19_19-55-53_rrc.csv',\n",
      "   '/home/wmnlab/E/database/2024-03-19/UDP_Bandlock_9S_Phone_BR/sm00/#02/data/diag_log_sm00_2024-03-19_19-55-53_ml1.csv',\n",
      "   '/home/wmnlab/E/database/2024-03-19/UDP_Bandlock_9S_Phone_BR/sm00/#02/data/diag_log_sm00_2024-03-19_19-55-53_nr_ml1.csv'],\n",
      "  ['/home/wmnlab/E/database/2024-03-19/UDP_Bandlock_9S_Phone_BR/sm06/#02/data/handover_info_log.csv',\n",
      "   '/home/wmnlab/E/database/2024-03-19/UDP_Bandlock_9S_Phone_BR/sm06/#02/data/udp_dnlk_loss_latency.csv',\n",
      "   '/home/wmnlab/E/database/2024-03-19/UDP_Bandlock_9S_Phone_BR/sm06/#02/data/udp_uplk_loss_latency.csv',\n",
      "   '/home/wmnlab/E/database/2024-03-19/UDP_Bandlock_9S_Phone_BR/sm06/#02/data/diag_log_sm06_2024-03-19_19-55-53_rrc.csv',\n",
      "   '/home/wmnlab/E/database/2024-03-19/UDP_Bandlock_9S_Phone_BR/sm06/#02/data/diag_log_sm06_2024-03-19_19-55-53_ml1.csv',\n",
      "   '/home/wmnlab/E/database/2024-03-19/UDP_Bandlock_9S_Phone_BR/sm06/#02/data/diag_log_sm06_2024-03-19_19-55-53_nr_ml1.csv']),\n",
      " (['/home/wmnlab/E/database/2024-03-19/UDP_Bandlock_9S_Phone_BR/sm00/#02/data/handover_info_log.csv',\n",
      "   '/home/wmnlab/E/database/2024-03-19/UDP_Bandlock_9S_Phone_BR/sm00/#02/data/udp_dnlk_loss_latency.csv',\n",
      "   '/home/wmnlab/E/database/2024-03-19/UDP_Bandlock_9S_Phone_BR/sm00/#02/data/udp_uplk_loss_latency.csv',\n",
      "   '/home/wmnlab/E/database/2024-03-19/UDP_Bandlock_9S_Phone_BR/sm00/#02/data/diag_log_sm00_2024-03-19_19-55-53_rrc.csv',\n",
      "   '/home/wmnlab/E/database/2024-03-19/UDP_Bandlock_9S_Phone_BR/sm00/#02/data/diag_log_sm00_2024-03-19_19-55-53_ml1.csv',\n",
      "   '/home/wmnlab/E/database/2024-03-19/UDP_Bandlock_9S_Phone_BR/sm00/#02/data/diag_log_sm00_2024-03-19_19-55-53_nr_ml1.csv'],\n",
      "  ['/home/wmnlab/E/database/2024-03-19/UDP_Bandlock_9S_Phone_BR/sm07/#02/data/handover_info_log.csv',\n",
      "   '/home/wmnlab/E/database/2024-03-19/UDP_Bandlock_9S_Phone_BR/sm07/#02/data/udp_dnlk_loss_latency.csv',\n",
      "   '/home/wmnlab/E/database/2024-03-19/UDP_Bandlock_9S_Phone_BR/sm07/#02/data/udp_uplk_loss_latency.csv',\n",
      "   '/home/wmnlab/E/database/2024-03-19/UDP_Bandlock_9S_Phone_BR/sm07/#02/data/diag_log_sm07_2024-03-19_19-55-53_rrc.csv',\n",
      "   '/home/wmnlab/E/database/2024-03-19/UDP_Bandlock_9S_Phone_BR/sm07/#02/data/diag_log_sm07_2024-03-19_19-55-53_ml1.csv',\n",
      "   '/home/wmnlab/E/database/2024-03-19/UDP_Bandlock_9S_Phone_BR/sm07/#02/data/diag_log_sm07_2024-03-19_19-55-53_nr_ml1.csv']),\n",
      " (['/home/wmnlab/E/database/2024-03-19/UDP_Bandlock_9S_Phone_BR/sm00/#02/data/handover_info_log.csv',\n",
      "   '/home/wmnlab/E/database/2024-03-19/UDP_Bandlock_9S_Phone_BR/sm00/#02/data/udp_dnlk_loss_latency.csv',\n",
      "   '/home/wmnlab/E/database/2024-03-19/UDP_Bandlock_9S_Phone_BR/sm00/#02/data/udp_uplk_loss_latency.csv',\n",
      "   '/home/wmnlab/E/database/2024-03-19/UDP_Bandlock_9S_Phone_BR/sm00/#02/data/diag_log_sm00_2024-03-19_19-55-53_rrc.csv',\n",
      "   '/home/wmnlab/E/database/2024-03-19/UDP_Bandlock_9S_Phone_BR/sm00/#02/data/diag_log_sm00_2024-03-19_19-55-53_ml1.csv',\n",
      "   '/home/wmnlab/E/database/2024-03-19/UDP_Bandlock_9S_Phone_BR/sm00/#02/data/diag_log_sm00_2024-03-19_19-55-53_nr_ml1.csv'],\n",
      "  ['/home/wmnlab/E/database/2024-03-19/UDP_Bandlock_9S_Phone_BR/sm08/#02/data/handover_info_log.csv',\n",
      "   '/home/wmnlab/E/database/2024-03-19/UDP_Bandlock_9S_Phone_BR/sm08/#02/data/udp_dnlk_loss_latency.csv',\n",
      "   '/home/wmnlab/E/database/2024-03-19/UDP_Bandlock_9S_Phone_BR/sm08/#02/data/udp_uplk_loss_latency.csv',\n",
      "   '/home/wmnlab/E/database/2024-03-19/UDP_Bandlock_9S_Phone_BR/sm08/#02/data/diag_log_sm08_2024-03-19_19-55-53_rrc.csv',\n",
      "   '/home/wmnlab/E/database/2024-03-19/UDP_Bandlock_9S_Phone_BR/sm08/#02/data/diag_log_sm08_2024-03-19_19-55-53_ml1.csv',\n",
      "   '/home/wmnlab/E/database/2024-03-19/UDP_Bandlock_9S_Phone_BR/sm08/#02/data/diag_log_sm08_2024-03-19_19-55-53_nr_ml1.csv']),\n",
      " (['/home/wmnlab/E/database/2024-03-19/UDP_Bandlock_9S_Phone_BR/sm01/#02/data/handover_info_log.csv',\n",
      "   '/home/wmnlab/E/database/2024-03-19/UDP_Bandlock_9S_Phone_BR/sm01/#02/data/udp_dnlk_loss_latency.csv',\n",
      "   '/home/wmnlab/E/database/2024-03-19/UDP_Bandlock_9S_Phone_BR/sm01/#02/data/udp_uplk_loss_latency.csv',\n",
      "   '/home/wmnlab/E/database/2024-03-19/UDP_Bandlock_9S_Phone_BR/sm01/#02/data/diag_log_sm01_2024-03-19_19-55-53_rrc.csv',\n",
      "   '/home/wmnlab/E/database/2024-03-19/UDP_Bandlock_9S_Phone_BR/sm01/#02/data/diag_log_sm01_2024-03-19_19-55-53_ml1.csv',\n",
      "   '/home/wmnlab/E/database/2024-03-19/UDP_Bandlock_9S_Phone_BR/sm01/#02/data/diag_log_sm01_2024-03-19_19-55-53_nr_ml1.csv'],\n",
      "  ['/home/wmnlab/E/database/2024-03-19/UDP_Bandlock_9S_Phone_BR/sm02/#02/data/handover_info_log.csv',\n",
      "   '/home/wmnlab/E/database/2024-03-19/UDP_Bandlock_9S_Phone_BR/sm02/#02/data/udp_dnlk_loss_latency.csv',\n",
      "   '/home/wmnlab/E/database/2024-03-19/UDP_Bandlock_9S_Phone_BR/sm02/#02/data/udp_uplk_loss_latency.csv',\n",
      "   '/home/wmnlab/E/database/2024-03-19/UDP_Bandlock_9S_Phone_BR/sm02/#02/data/diag_log_sm02_2024-03-19_19-55-53_rrc.csv',\n",
      "   '/home/wmnlab/E/database/2024-03-19/UDP_Bandlock_9S_Phone_BR/sm02/#02/data/diag_log_sm02_2024-03-19_19-55-53_ml1.csv',\n",
      "   '/home/wmnlab/E/database/2024-03-19/UDP_Bandlock_9S_Phone_BR/sm02/#02/data/diag_log_sm02_2024-03-19_19-55-53_nr_ml1.csv']),\n",
      " (['/home/wmnlab/E/database/2024-03-19/UDP_Bandlock_9S_Phone_BR/sm01/#02/data/handover_info_log.csv',\n",
      "   '/home/wmnlab/E/database/2024-03-19/UDP_Bandlock_9S_Phone_BR/sm01/#02/data/udp_dnlk_loss_latency.csv',\n",
      "   '/home/wmnlab/E/database/2024-03-19/UDP_Bandlock_9S_Phone_BR/sm01/#02/data/udp_uplk_loss_latency.csv',\n",
      "   '/home/wmnlab/E/database/2024-03-19/UDP_Bandlock_9S_Phone_BR/sm01/#02/data/diag_log_sm01_2024-03-19_19-55-53_rrc.csv',\n",
      "   '/home/wmnlab/E/database/2024-03-19/UDP_Bandlock_9S_Phone_BR/sm01/#02/data/diag_log_sm01_2024-03-19_19-55-53_ml1.csv',\n",
      "   '/home/wmnlab/E/database/2024-03-19/UDP_Bandlock_9S_Phone_BR/sm01/#02/data/diag_log_sm01_2024-03-19_19-55-53_nr_ml1.csv'],\n",
      "  ['/home/wmnlab/E/database/2024-03-19/UDP_Bandlock_9S_Phone_BR/sm03/#02/data/handover_info_log.csv',\n",
      "   '/home/wmnlab/E/database/2024-03-19/UDP_Bandlock_9S_Phone_BR/sm03/#02/data/udp_dnlk_loss_latency.csv',\n",
      "   '/home/wmnlab/E/database/2024-03-19/UDP_Bandlock_9S_Phone_BR/sm03/#02/data/udp_uplk_loss_latency.csv',\n",
      "   '/home/wmnlab/E/database/2024-03-19/UDP_Bandlock_9S_Phone_BR/sm03/#02/data/diag_log_sm03_2024-03-19_19-55-53_rrc.csv',\n",
      "   '/home/wmnlab/E/database/2024-03-19/UDP_Bandlock_9S_Phone_BR/sm03/#02/data/diag_log_sm03_2024-03-19_19-55-53_ml1.csv',\n",
      "   '/home/wmnlab/E/database/2024-03-19/UDP_Bandlock_9S_Phone_BR/sm03/#02/data/diag_log_sm03_2024-03-19_19-55-53_nr_ml1.csv']),\n",
      " (['/home/wmnlab/E/database/2024-03-19/UDP_Bandlock_9S_Phone_BR/sm01/#02/data/handover_info_log.csv',\n",
      "   '/home/wmnlab/E/database/2024-03-19/UDP_Bandlock_9S_Phone_BR/sm01/#02/data/udp_dnlk_loss_latency.csv',\n",
      "   '/home/wmnlab/E/database/2024-03-19/UDP_Bandlock_9S_Phone_BR/sm01/#02/data/udp_uplk_loss_latency.csv',\n",
      "   '/home/wmnlab/E/database/2024-03-19/UDP_Bandlock_9S_Phone_BR/sm01/#02/data/diag_log_sm01_2024-03-19_19-55-53_rrc.csv',\n",
      "   '/home/wmnlab/E/database/2024-03-19/UDP_Bandlock_9S_Phone_BR/sm01/#02/data/diag_log_sm01_2024-03-19_19-55-53_ml1.csv',\n",
      "   '/home/wmnlab/E/database/2024-03-19/UDP_Bandlock_9S_Phone_BR/sm01/#02/data/diag_log_sm01_2024-03-19_19-55-53_nr_ml1.csv'],\n",
      "  ['/home/wmnlab/E/database/2024-03-19/UDP_Bandlock_9S_Phone_BR/sm04/#02/data/handover_info_log.csv',\n",
      "   '/home/wmnlab/E/database/2024-03-19/UDP_Bandlock_9S_Phone_BR/sm04/#02/data/udp_dnlk_loss_latency.csv',\n",
      "   '/home/wmnlab/E/database/2024-03-19/UDP_Bandlock_9S_Phone_BR/sm04/#02/data/udp_uplk_loss_latency.csv',\n",
      "   '/home/wmnlab/E/database/2024-03-19/UDP_Bandlock_9S_Phone_BR/sm04/#02/data/diag_log_sm04_2024-03-19_19-55-53_rrc.csv',\n",
      "   '/home/wmnlab/E/database/2024-03-19/UDP_Bandlock_9S_Phone_BR/sm04/#02/data/diag_log_sm04_2024-03-19_19-55-53_ml1.csv',\n",
      "   '/home/wmnlab/E/database/2024-03-19/UDP_Bandlock_9S_Phone_BR/sm04/#02/data/diag_log_sm04_2024-03-19_19-55-53_nr_ml1.csv']),\n",
      " (['/home/wmnlab/E/database/2024-03-19/UDP_Bandlock_9S_Phone_BR/sm01/#02/data/handover_info_log.csv',\n",
      "   '/home/wmnlab/E/database/2024-03-19/UDP_Bandlock_9S_Phone_BR/sm01/#02/data/udp_dnlk_loss_latency.csv',\n",
      "   '/home/wmnlab/E/database/2024-03-19/UDP_Bandlock_9S_Phone_BR/sm01/#02/data/udp_uplk_loss_latency.csv',\n",
      "   '/home/wmnlab/E/database/2024-03-19/UDP_Bandlock_9S_Phone_BR/sm01/#02/data/diag_log_sm01_2024-03-19_19-55-53_rrc.csv',\n",
      "   '/home/wmnlab/E/database/2024-03-19/UDP_Bandlock_9S_Phone_BR/sm01/#02/data/diag_log_sm01_2024-03-19_19-55-53_ml1.csv',\n",
      "   '/home/wmnlab/E/database/2024-03-19/UDP_Bandlock_9S_Phone_BR/sm01/#02/data/diag_log_sm01_2024-03-19_19-55-53_nr_ml1.csv'],\n",
      "  ['/home/wmnlab/E/database/2024-03-19/UDP_Bandlock_9S_Phone_BR/sm05/#02/data/handover_info_log.csv',\n",
      "   '/home/wmnlab/E/database/2024-03-19/UDP_Bandlock_9S_Phone_BR/sm05/#02/data/udp_dnlk_loss_latency.csv',\n",
      "   '/home/wmnlab/E/database/2024-03-19/UDP_Bandlock_9S_Phone_BR/sm05/#02/data/udp_uplk_loss_latency.csv',\n",
      "   '/home/wmnlab/E/database/2024-03-19/UDP_Bandlock_9S_Phone_BR/sm05/#02/data/diag_log_sm05_2024-03-19_19-55-53_rrc.csv',\n",
      "   '/home/wmnlab/E/database/2024-03-19/UDP_Bandlock_9S_Phone_BR/sm05/#02/data/diag_log_sm05_2024-03-19_19-55-53_ml1.csv',\n",
      "   '/home/wmnlab/E/database/2024-03-19/UDP_Bandlock_9S_Phone_BR/sm05/#02/data/diag_log_sm05_2024-03-19_19-55-53_nr_ml1.csv']),\n",
      " (['/home/wmnlab/E/database/2024-03-19/UDP_Bandlock_9S_Phone_BR/sm01/#02/data/handover_info_log.csv',\n",
      "   '/home/wmnlab/E/database/2024-03-19/UDP_Bandlock_9S_Phone_BR/sm01/#02/data/udp_dnlk_loss_latency.csv',\n",
      "   '/home/wmnlab/E/database/2024-03-19/UDP_Bandlock_9S_Phone_BR/sm01/#02/data/udp_uplk_loss_latency.csv',\n",
      "   '/home/wmnlab/E/database/2024-03-19/UDP_Bandlock_9S_Phone_BR/sm01/#02/data/diag_log_sm01_2024-03-19_19-55-53_rrc.csv',\n",
      "   '/home/wmnlab/E/database/2024-03-19/UDP_Bandlock_9S_Phone_BR/sm01/#02/data/diag_log_sm01_2024-03-19_19-55-53_ml1.csv',\n",
      "   '/home/wmnlab/E/database/2024-03-19/UDP_Bandlock_9S_Phone_BR/sm01/#02/data/diag_log_sm01_2024-03-19_19-55-53_nr_ml1.csv'],\n",
      "  ['/home/wmnlab/E/database/2024-03-19/UDP_Bandlock_9S_Phone_BR/sm06/#02/data/handover_info_log.csv',\n",
      "   '/home/wmnlab/E/database/2024-03-19/UDP_Bandlock_9S_Phone_BR/sm06/#02/data/udp_dnlk_loss_latency.csv',\n",
      "   '/home/wmnlab/E/database/2024-03-19/UDP_Bandlock_9S_Phone_BR/sm06/#02/data/udp_uplk_loss_latency.csv',\n",
      "   '/home/wmnlab/E/database/2024-03-19/UDP_Bandlock_9S_Phone_BR/sm06/#02/data/diag_log_sm06_2024-03-19_19-55-53_rrc.csv',\n",
      "   '/home/wmnlab/E/database/2024-03-19/UDP_Bandlock_9S_Phone_BR/sm06/#02/data/diag_log_sm06_2024-03-19_19-55-53_ml1.csv',\n",
      "   '/home/wmnlab/E/database/2024-03-19/UDP_Bandlock_9S_Phone_BR/sm06/#02/data/diag_log_sm06_2024-03-19_19-55-53_nr_ml1.csv']),\n",
      " (['/home/wmnlab/E/database/2024-03-19/UDP_Bandlock_9S_Phone_BR/sm01/#02/data/handover_info_log.csv',\n",
      "   '/home/wmnlab/E/database/2024-03-19/UDP_Bandlock_9S_Phone_BR/sm01/#02/data/udp_dnlk_loss_latency.csv',\n",
      "   '/home/wmnlab/E/database/2024-03-19/UDP_Bandlock_9S_Phone_BR/sm01/#02/data/udp_uplk_loss_latency.csv',\n",
      "   '/home/wmnlab/E/database/2024-03-19/UDP_Bandlock_9S_Phone_BR/sm01/#02/data/diag_log_sm01_2024-03-19_19-55-53_rrc.csv',\n",
      "   '/home/wmnlab/E/database/2024-03-19/UDP_Bandlock_9S_Phone_BR/sm01/#02/data/diag_log_sm01_2024-03-19_19-55-53_ml1.csv',\n",
      "   '/home/wmnlab/E/database/2024-03-19/UDP_Bandlock_9S_Phone_BR/sm01/#02/data/diag_log_sm01_2024-03-19_19-55-53_nr_ml1.csv'],\n",
      "  ['/home/wmnlab/E/database/2024-03-19/UDP_Bandlock_9S_Phone_BR/sm07/#02/data/handover_info_log.csv',\n",
      "   '/home/wmnlab/E/database/2024-03-19/UDP_Bandlock_9S_Phone_BR/sm07/#02/data/udp_dnlk_loss_latency.csv',\n",
      "   '/home/wmnlab/E/database/2024-03-19/UDP_Bandlock_9S_Phone_BR/sm07/#02/data/udp_uplk_loss_latency.csv',\n",
      "   '/home/wmnlab/E/database/2024-03-19/UDP_Bandlock_9S_Phone_BR/sm07/#02/data/diag_log_sm07_2024-03-19_19-55-53_rrc.csv',\n",
      "   '/home/wmnlab/E/database/2024-03-19/UDP_Bandlock_9S_Phone_BR/sm07/#02/data/diag_log_sm07_2024-03-19_19-55-53_ml1.csv',\n",
      "   '/home/wmnlab/E/database/2024-03-19/UDP_Bandlock_9S_Phone_BR/sm07/#02/data/diag_log_sm07_2024-03-19_19-55-53_nr_ml1.csv']),\n",
      " (['/home/wmnlab/E/database/2024-03-19/UDP_Bandlock_9S_Phone_BR/sm01/#02/data/handover_info_log.csv',\n",
      "   '/home/wmnlab/E/database/2024-03-19/UDP_Bandlock_9S_Phone_BR/sm01/#02/data/udp_dnlk_loss_latency.csv',\n",
      "   '/home/wmnlab/E/database/2024-03-19/UDP_Bandlock_9S_Phone_BR/sm01/#02/data/udp_uplk_loss_latency.csv',\n",
      "   '/home/wmnlab/E/database/2024-03-19/UDP_Bandlock_9S_Phone_BR/sm01/#02/data/diag_log_sm01_2024-03-19_19-55-53_rrc.csv',\n",
      "   '/home/wmnlab/E/database/2024-03-19/UDP_Bandlock_9S_Phone_BR/sm01/#02/data/diag_log_sm01_2024-03-19_19-55-53_ml1.csv',\n",
      "   '/home/wmnlab/E/database/2024-03-19/UDP_Bandlock_9S_Phone_BR/sm01/#02/data/diag_log_sm01_2024-03-19_19-55-53_nr_ml1.csv'],\n",
      "  ['/home/wmnlab/E/database/2024-03-19/UDP_Bandlock_9S_Phone_BR/sm08/#02/data/handover_info_log.csv',\n",
      "   '/home/wmnlab/E/database/2024-03-19/UDP_Bandlock_9S_Phone_BR/sm08/#02/data/udp_dnlk_loss_latency.csv',\n",
      "   '/home/wmnlab/E/database/2024-03-19/UDP_Bandlock_9S_Phone_BR/sm08/#02/data/udp_uplk_loss_latency.csv',\n",
      "   '/home/wmnlab/E/database/2024-03-19/UDP_Bandlock_9S_Phone_BR/sm08/#02/data/diag_log_sm08_2024-03-19_19-55-53_rrc.csv',\n",
      "   '/home/wmnlab/E/database/2024-03-19/UDP_Bandlock_9S_Phone_BR/sm08/#02/data/diag_log_sm08_2024-03-19_19-55-53_ml1.csv',\n",
      "   '/home/wmnlab/E/database/2024-03-19/UDP_Bandlock_9S_Phone_BR/sm08/#02/data/diag_log_sm08_2024-03-19_19-55-53_nr_ml1.csv']),\n",
      " (['/home/wmnlab/E/database/2024-03-19/UDP_Bandlock_9S_Phone_BR/sm02/#02/data/handover_info_log.csv',\n",
      "   '/home/wmnlab/E/database/2024-03-19/UDP_Bandlock_9S_Phone_BR/sm02/#02/data/udp_dnlk_loss_latency.csv',\n",
      "   '/home/wmnlab/E/database/2024-03-19/UDP_Bandlock_9S_Phone_BR/sm02/#02/data/udp_uplk_loss_latency.csv',\n",
      "   '/home/wmnlab/E/database/2024-03-19/UDP_Bandlock_9S_Phone_BR/sm02/#02/data/diag_log_sm02_2024-03-19_19-55-53_rrc.csv',\n",
      "   '/home/wmnlab/E/database/2024-03-19/UDP_Bandlock_9S_Phone_BR/sm02/#02/data/diag_log_sm02_2024-03-19_19-55-53_ml1.csv',\n",
      "   '/home/wmnlab/E/database/2024-03-19/UDP_Bandlock_9S_Phone_BR/sm02/#02/data/diag_log_sm02_2024-03-19_19-55-53_nr_ml1.csv'],\n",
      "  ['/home/wmnlab/E/database/2024-03-19/UDP_Bandlock_9S_Phone_BR/sm03/#02/data/handover_info_log.csv',\n",
      "   '/home/wmnlab/E/database/2024-03-19/UDP_Bandlock_9S_Phone_BR/sm03/#02/data/udp_dnlk_loss_latency.csv',\n",
      "   '/home/wmnlab/E/database/2024-03-19/UDP_Bandlock_9S_Phone_BR/sm03/#02/data/udp_uplk_loss_latency.csv',\n",
      "   '/home/wmnlab/E/database/2024-03-19/UDP_Bandlock_9S_Phone_BR/sm03/#02/data/diag_log_sm03_2024-03-19_19-55-53_rrc.csv',\n",
      "   '/home/wmnlab/E/database/2024-03-19/UDP_Bandlock_9S_Phone_BR/sm03/#02/data/diag_log_sm03_2024-03-19_19-55-53_ml1.csv',\n",
      "   '/home/wmnlab/E/database/2024-03-19/UDP_Bandlock_9S_Phone_BR/sm03/#02/data/diag_log_sm03_2024-03-19_19-55-53_nr_ml1.csv']),\n",
      " (['/home/wmnlab/E/database/2024-03-19/UDP_Bandlock_9S_Phone_BR/sm02/#02/data/handover_info_log.csv',\n",
      "   '/home/wmnlab/E/database/2024-03-19/UDP_Bandlock_9S_Phone_BR/sm02/#02/data/udp_dnlk_loss_latency.csv',\n",
      "   '/home/wmnlab/E/database/2024-03-19/UDP_Bandlock_9S_Phone_BR/sm02/#02/data/udp_uplk_loss_latency.csv',\n",
      "   '/home/wmnlab/E/database/2024-03-19/UDP_Bandlock_9S_Phone_BR/sm02/#02/data/diag_log_sm02_2024-03-19_19-55-53_rrc.csv',\n",
      "   '/home/wmnlab/E/database/2024-03-19/UDP_Bandlock_9S_Phone_BR/sm02/#02/data/diag_log_sm02_2024-03-19_19-55-53_ml1.csv',\n",
      "   '/home/wmnlab/E/database/2024-03-19/UDP_Bandlock_9S_Phone_BR/sm02/#02/data/diag_log_sm02_2024-03-19_19-55-53_nr_ml1.csv'],\n",
      "  ['/home/wmnlab/E/database/2024-03-19/UDP_Bandlock_9S_Phone_BR/sm04/#02/data/handover_info_log.csv',\n",
      "   '/home/wmnlab/E/database/2024-03-19/UDP_Bandlock_9S_Phone_BR/sm04/#02/data/udp_dnlk_loss_latency.csv',\n",
      "   '/home/wmnlab/E/database/2024-03-19/UDP_Bandlock_9S_Phone_BR/sm04/#02/data/udp_uplk_loss_latency.csv',\n",
      "   '/home/wmnlab/E/database/2024-03-19/UDP_Bandlock_9S_Phone_BR/sm04/#02/data/diag_log_sm04_2024-03-19_19-55-53_rrc.csv',\n",
      "   '/home/wmnlab/E/database/2024-03-19/UDP_Bandlock_9S_Phone_BR/sm04/#02/data/diag_log_sm04_2024-03-19_19-55-53_ml1.csv',\n",
      "   '/home/wmnlab/E/database/2024-03-19/UDP_Bandlock_9S_Phone_BR/sm04/#02/data/diag_log_sm04_2024-03-19_19-55-53_nr_ml1.csv']),\n",
      " (['/home/wmnlab/E/database/2024-03-19/UDP_Bandlock_9S_Phone_BR/sm02/#02/data/handover_info_log.csv',\n",
      "   '/home/wmnlab/E/database/2024-03-19/UDP_Bandlock_9S_Phone_BR/sm02/#02/data/udp_dnlk_loss_latency.csv',\n",
      "   '/home/wmnlab/E/database/2024-03-19/UDP_Bandlock_9S_Phone_BR/sm02/#02/data/udp_uplk_loss_latency.csv',\n",
      "   '/home/wmnlab/E/database/2024-03-19/UDP_Bandlock_9S_Phone_BR/sm02/#02/data/diag_log_sm02_2024-03-19_19-55-53_rrc.csv',\n",
      "   '/home/wmnlab/E/database/2024-03-19/UDP_Bandlock_9S_Phone_BR/sm02/#02/data/diag_log_sm02_2024-03-19_19-55-53_ml1.csv',\n",
      "   '/home/wmnlab/E/database/2024-03-19/UDP_Bandlock_9S_Phone_BR/sm02/#02/data/diag_log_sm02_2024-03-19_19-55-53_nr_ml1.csv'],\n",
      "  ['/home/wmnlab/E/database/2024-03-19/UDP_Bandlock_9S_Phone_BR/sm05/#02/data/handover_info_log.csv',\n",
      "   '/home/wmnlab/E/database/2024-03-19/UDP_Bandlock_9S_Phone_BR/sm05/#02/data/udp_dnlk_loss_latency.csv',\n",
      "   '/home/wmnlab/E/database/2024-03-19/UDP_Bandlock_9S_Phone_BR/sm05/#02/data/udp_uplk_loss_latency.csv',\n",
      "   '/home/wmnlab/E/database/2024-03-19/UDP_Bandlock_9S_Phone_BR/sm05/#02/data/diag_log_sm05_2024-03-19_19-55-53_rrc.csv',\n",
      "   '/home/wmnlab/E/database/2024-03-19/UDP_Bandlock_9S_Phone_BR/sm05/#02/data/diag_log_sm05_2024-03-19_19-55-53_ml1.csv',\n",
      "   '/home/wmnlab/E/database/2024-03-19/UDP_Bandlock_9S_Phone_BR/sm05/#02/data/diag_log_sm05_2024-03-19_19-55-53_nr_ml1.csv']),\n",
      " (['/home/wmnlab/E/database/2024-03-19/UDP_Bandlock_9S_Phone_BR/sm02/#02/data/handover_info_log.csv',\n",
      "   '/home/wmnlab/E/database/2024-03-19/UDP_Bandlock_9S_Phone_BR/sm02/#02/data/udp_dnlk_loss_latency.csv',\n",
      "   '/home/wmnlab/E/database/2024-03-19/UDP_Bandlock_9S_Phone_BR/sm02/#02/data/udp_uplk_loss_latency.csv',\n",
      "   '/home/wmnlab/E/database/2024-03-19/UDP_Bandlock_9S_Phone_BR/sm02/#02/data/diag_log_sm02_2024-03-19_19-55-53_rrc.csv',\n",
      "   '/home/wmnlab/E/database/2024-03-19/UDP_Bandlock_9S_Phone_BR/sm02/#02/data/diag_log_sm02_2024-03-19_19-55-53_ml1.csv',\n",
      "   '/home/wmnlab/E/database/2024-03-19/UDP_Bandlock_9S_Phone_BR/sm02/#02/data/diag_log_sm02_2024-03-19_19-55-53_nr_ml1.csv'],\n",
      "  ['/home/wmnlab/E/database/2024-03-19/UDP_Bandlock_9S_Phone_BR/sm06/#02/data/handover_info_log.csv',\n",
      "   '/home/wmnlab/E/database/2024-03-19/UDP_Bandlock_9S_Phone_BR/sm06/#02/data/udp_dnlk_loss_latency.csv',\n",
      "   '/home/wmnlab/E/database/2024-03-19/UDP_Bandlock_9S_Phone_BR/sm06/#02/data/udp_uplk_loss_latency.csv',\n",
      "   '/home/wmnlab/E/database/2024-03-19/UDP_Bandlock_9S_Phone_BR/sm06/#02/data/diag_log_sm06_2024-03-19_19-55-53_rrc.csv',\n",
      "   '/home/wmnlab/E/database/2024-03-19/UDP_Bandlock_9S_Phone_BR/sm06/#02/data/diag_log_sm06_2024-03-19_19-55-53_ml1.csv',\n",
      "   '/home/wmnlab/E/database/2024-03-19/UDP_Bandlock_9S_Phone_BR/sm06/#02/data/diag_log_sm06_2024-03-19_19-55-53_nr_ml1.csv']),\n",
      " (['/home/wmnlab/E/database/2024-03-19/UDP_Bandlock_9S_Phone_BR/sm02/#02/data/handover_info_log.csv',\n",
      "   '/home/wmnlab/E/database/2024-03-19/UDP_Bandlock_9S_Phone_BR/sm02/#02/data/udp_dnlk_loss_latency.csv',\n",
      "   '/home/wmnlab/E/database/2024-03-19/UDP_Bandlock_9S_Phone_BR/sm02/#02/data/udp_uplk_loss_latency.csv',\n",
      "   '/home/wmnlab/E/database/2024-03-19/UDP_Bandlock_9S_Phone_BR/sm02/#02/data/diag_log_sm02_2024-03-19_19-55-53_rrc.csv',\n",
      "   '/home/wmnlab/E/database/2024-03-19/UDP_Bandlock_9S_Phone_BR/sm02/#02/data/diag_log_sm02_2024-03-19_19-55-53_ml1.csv',\n",
      "   '/home/wmnlab/E/database/2024-03-19/UDP_Bandlock_9S_Phone_BR/sm02/#02/data/diag_log_sm02_2024-03-19_19-55-53_nr_ml1.csv'],\n",
      "  ['/home/wmnlab/E/database/2024-03-19/UDP_Bandlock_9S_Phone_BR/sm07/#02/data/handover_info_log.csv',\n",
      "   '/home/wmnlab/E/database/2024-03-19/UDP_Bandlock_9S_Phone_BR/sm07/#02/data/udp_dnlk_loss_latency.csv',\n",
      "   '/home/wmnlab/E/database/2024-03-19/UDP_Bandlock_9S_Phone_BR/sm07/#02/data/udp_uplk_loss_latency.csv',\n",
      "   '/home/wmnlab/E/database/2024-03-19/UDP_Bandlock_9S_Phone_BR/sm07/#02/data/diag_log_sm07_2024-03-19_19-55-53_rrc.csv',\n",
      "   '/home/wmnlab/E/database/2024-03-19/UDP_Bandlock_9S_Phone_BR/sm07/#02/data/diag_log_sm07_2024-03-19_19-55-53_ml1.csv',\n",
      "   '/home/wmnlab/E/database/2024-03-19/UDP_Bandlock_9S_Phone_BR/sm07/#02/data/diag_log_sm07_2024-03-19_19-55-53_nr_ml1.csv']),\n",
      " (['/home/wmnlab/E/database/2024-03-19/UDP_Bandlock_9S_Phone_BR/sm02/#02/data/handover_info_log.csv',\n",
      "   '/home/wmnlab/E/database/2024-03-19/UDP_Bandlock_9S_Phone_BR/sm02/#02/data/udp_dnlk_loss_latency.csv',\n",
      "   '/home/wmnlab/E/database/2024-03-19/UDP_Bandlock_9S_Phone_BR/sm02/#02/data/udp_uplk_loss_latency.csv',\n",
      "   '/home/wmnlab/E/database/2024-03-19/UDP_Bandlock_9S_Phone_BR/sm02/#02/data/diag_log_sm02_2024-03-19_19-55-53_rrc.csv',\n",
      "   '/home/wmnlab/E/database/2024-03-19/UDP_Bandlock_9S_Phone_BR/sm02/#02/data/diag_log_sm02_2024-03-19_19-55-53_ml1.csv',\n",
      "   '/home/wmnlab/E/database/2024-03-19/UDP_Bandlock_9S_Phone_BR/sm02/#02/data/diag_log_sm02_2024-03-19_19-55-53_nr_ml1.csv'],\n",
      "  ['/home/wmnlab/E/database/2024-03-19/UDP_Bandlock_9S_Phone_BR/sm08/#02/data/handover_info_log.csv',\n",
      "   '/home/wmnlab/E/database/2024-03-19/UDP_Bandlock_9S_Phone_BR/sm08/#02/data/udp_dnlk_loss_latency.csv',\n",
      "   '/home/wmnlab/E/database/2024-03-19/UDP_Bandlock_9S_Phone_BR/sm08/#02/data/udp_uplk_loss_latency.csv',\n",
      "   '/home/wmnlab/E/database/2024-03-19/UDP_Bandlock_9S_Phone_BR/sm08/#02/data/diag_log_sm08_2024-03-19_19-55-53_rrc.csv',\n",
      "   '/home/wmnlab/E/database/2024-03-19/UDP_Bandlock_9S_Phone_BR/sm08/#02/data/diag_log_sm08_2024-03-19_19-55-53_ml1.csv',\n",
      "   '/home/wmnlab/E/database/2024-03-19/UDP_Bandlock_9S_Phone_BR/sm08/#02/data/diag_log_sm08_2024-03-19_19-55-53_nr_ml1.csv']),\n",
      " (['/home/wmnlab/E/database/2024-03-19/UDP_Bandlock_9S_Phone_BR/sm03/#02/data/handover_info_log.csv',\n",
      "   '/home/wmnlab/E/database/2024-03-19/UDP_Bandlock_9S_Phone_BR/sm03/#02/data/udp_dnlk_loss_latency.csv',\n",
      "   '/home/wmnlab/E/database/2024-03-19/UDP_Bandlock_9S_Phone_BR/sm03/#02/data/udp_uplk_loss_latency.csv',\n",
      "   '/home/wmnlab/E/database/2024-03-19/UDP_Bandlock_9S_Phone_BR/sm03/#02/data/diag_log_sm03_2024-03-19_19-55-53_rrc.csv',\n",
      "   '/home/wmnlab/E/database/2024-03-19/UDP_Bandlock_9S_Phone_BR/sm03/#02/data/diag_log_sm03_2024-03-19_19-55-53_ml1.csv',\n",
      "   '/home/wmnlab/E/database/2024-03-19/UDP_Bandlock_9S_Phone_BR/sm03/#02/data/diag_log_sm03_2024-03-19_19-55-53_nr_ml1.csv'],\n",
      "  ['/home/wmnlab/E/database/2024-03-19/UDP_Bandlock_9S_Phone_BR/sm04/#02/data/handover_info_log.csv',\n",
      "   '/home/wmnlab/E/database/2024-03-19/UDP_Bandlock_9S_Phone_BR/sm04/#02/data/udp_dnlk_loss_latency.csv',\n",
      "   '/home/wmnlab/E/database/2024-03-19/UDP_Bandlock_9S_Phone_BR/sm04/#02/data/udp_uplk_loss_latency.csv',\n",
      "   '/home/wmnlab/E/database/2024-03-19/UDP_Bandlock_9S_Phone_BR/sm04/#02/data/diag_log_sm04_2024-03-19_19-55-53_rrc.csv',\n",
      "   '/home/wmnlab/E/database/2024-03-19/UDP_Bandlock_9S_Phone_BR/sm04/#02/data/diag_log_sm04_2024-03-19_19-55-53_ml1.csv',\n",
      "   '/home/wmnlab/E/database/2024-03-19/UDP_Bandlock_9S_Phone_BR/sm04/#02/data/diag_log_sm04_2024-03-19_19-55-53_nr_ml1.csv']),\n",
      " (['/home/wmnlab/E/database/2024-03-19/UDP_Bandlock_9S_Phone_BR/sm03/#02/data/handover_info_log.csv',\n",
      "   '/home/wmnlab/E/database/2024-03-19/UDP_Bandlock_9S_Phone_BR/sm03/#02/data/udp_dnlk_loss_latency.csv',\n",
      "   '/home/wmnlab/E/database/2024-03-19/UDP_Bandlock_9S_Phone_BR/sm03/#02/data/udp_uplk_loss_latency.csv',\n",
      "   '/home/wmnlab/E/database/2024-03-19/UDP_Bandlock_9S_Phone_BR/sm03/#02/data/diag_log_sm03_2024-03-19_19-55-53_rrc.csv',\n",
      "   '/home/wmnlab/E/database/2024-03-19/UDP_Bandlock_9S_Phone_BR/sm03/#02/data/diag_log_sm03_2024-03-19_19-55-53_ml1.csv',\n",
      "   '/home/wmnlab/E/database/2024-03-19/UDP_Bandlock_9S_Phone_BR/sm03/#02/data/diag_log_sm03_2024-03-19_19-55-53_nr_ml1.csv'],\n",
      "  ['/home/wmnlab/E/database/2024-03-19/UDP_Bandlock_9S_Phone_BR/sm05/#02/data/handover_info_log.csv',\n",
      "   '/home/wmnlab/E/database/2024-03-19/UDP_Bandlock_9S_Phone_BR/sm05/#02/data/udp_dnlk_loss_latency.csv',\n",
      "   '/home/wmnlab/E/database/2024-03-19/UDP_Bandlock_9S_Phone_BR/sm05/#02/data/udp_uplk_loss_latency.csv',\n",
      "   '/home/wmnlab/E/database/2024-03-19/UDP_Bandlock_9S_Phone_BR/sm05/#02/data/diag_log_sm05_2024-03-19_19-55-53_rrc.csv',\n",
      "   '/home/wmnlab/E/database/2024-03-19/UDP_Bandlock_9S_Phone_BR/sm05/#02/data/diag_log_sm05_2024-03-19_19-55-53_ml1.csv',\n",
      "   '/home/wmnlab/E/database/2024-03-19/UDP_Bandlock_9S_Phone_BR/sm05/#02/data/diag_log_sm05_2024-03-19_19-55-53_nr_ml1.csv']),\n",
      " (['/home/wmnlab/E/database/2024-03-19/UDP_Bandlock_9S_Phone_BR/sm03/#02/data/handover_info_log.csv',\n",
      "   '/home/wmnlab/E/database/2024-03-19/UDP_Bandlock_9S_Phone_BR/sm03/#02/data/udp_dnlk_loss_latency.csv',\n",
      "   '/home/wmnlab/E/database/2024-03-19/UDP_Bandlock_9S_Phone_BR/sm03/#02/data/udp_uplk_loss_latency.csv',\n",
      "   '/home/wmnlab/E/database/2024-03-19/UDP_Bandlock_9S_Phone_BR/sm03/#02/data/diag_log_sm03_2024-03-19_19-55-53_rrc.csv',\n",
      "   '/home/wmnlab/E/database/2024-03-19/UDP_Bandlock_9S_Phone_BR/sm03/#02/data/diag_log_sm03_2024-03-19_19-55-53_ml1.csv',\n",
      "   '/home/wmnlab/E/database/2024-03-19/UDP_Bandlock_9S_Phone_BR/sm03/#02/data/diag_log_sm03_2024-03-19_19-55-53_nr_ml1.csv'],\n",
      "  ['/home/wmnlab/E/database/2024-03-19/UDP_Bandlock_9S_Phone_BR/sm06/#02/data/handover_info_log.csv',\n",
      "   '/home/wmnlab/E/database/2024-03-19/UDP_Bandlock_9S_Phone_BR/sm06/#02/data/udp_dnlk_loss_latency.csv',\n",
      "   '/home/wmnlab/E/database/2024-03-19/UDP_Bandlock_9S_Phone_BR/sm06/#02/data/udp_uplk_loss_latency.csv',\n",
      "   '/home/wmnlab/E/database/2024-03-19/UDP_Bandlock_9S_Phone_BR/sm06/#02/data/diag_log_sm06_2024-03-19_19-55-53_rrc.csv',\n",
      "   '/home/wmnlab/E/database/2024-03-19/UDP_Bandlock_9S_Phone_BR/sm06/#02/data/diag_log_sm06_2024-03-19_19-55-53_ml1.csv',\n",
      "   '/home/wmnlab/E/database/2024-03-19/UDP_Bandlock_9S_Phone_BR/sm06/#02/data/diag_log_sm06_2024-03-19_19-55-53_nr_ml1.csv']),\n",
      " (['/home/wmnlab/E/database/2024-03-19/UDP_Bandlock_9S_Phone_BR/sm03/#02/data/handover_info_log.csv',\n",
      "   '/home/wmnlab/E/database/2024-03-19/UDP_Bandlock_9S_Phone_BR/sm03/#02/data/udp_dnlk_loss_latency.csv',\n",
      "   '/home/wmnlab/E/database/2024-03-19/UDP_Bandlock_9S_Phone_BR/sm03/#02/data/udp_uplk_loss_latency.csv',\n",
      "   '/home/wmnlab/E/database/2024-03-19/UDP_Bandlock_9S_Phone_BR/sm03/#02/data/diag_log_sm03_2024-03-19_19-55-53_rrc.csv',\n",
      "   '/home/wmnlab/E/database/2024-03-19/UDP_Bandlock_9S_Phone_BR/sm03/#02/data/diag_log_sm03_2024-03-19_19-55-53_ml1.csv',\n",
      "   '/home/wmnlab/E/database/2024-03-19/UDP_Bandlock_9S_Phone_BR/sm03/#02/data/diag_log_sm03_2024-03-19_19-55-53_nr_ml1.csv'],\n",
      "  ['/home/wmnlab/E/database/2024-03-19/UDP_Bandlock_9S_Phone_BR/sm07/#02/data/handover_info_log.csv',\n",
      "   '/home/wmnlab/E/database/2024-03-19/UDP_Bandlock_9S_Phone_BR/sm07/#02/data/udp_dnlk_loss_latency.csv',\n",
      "   '/home/wmnlab/E/database/2024-03-19/UDP_Bandlock_9S_Phone_BR/sm07/#02/data/udp_uplk_loss_latency.csv',\n",
      "   '/home/wmnlab/E/database/2024-03-19/UDP_Bandlock_9S_Phone_BR/sm07/#02/data/diag_log_sm07_2024-03-19_19-55-53_rrc.csv',\n",
      "   '/home/wmnlab/E/database/2024-03-19/UDP_Bandlock_9S_Phone_BR/sm07/#02/data/diag_log_sm07_2024-03-19_19-55-53_ml1.csv',\n",
      "   '/home/wmnlab/E/database/2024-03-19/UDP_Bandlock_9S_Phone_BR/sm07/#02/data/diag_log_sm07_2024-03-19_19-55-53_nr_ml1.csv']),\n",
      " (['/home/wmnlab/E/database/2024-03-19/UDP_Bandlock_9S_Phone_BR/sm03/#02/data/handover_info_log.csv',\n",
      "   '/home/wmnlab/E/database/2024-03-19/UDP_Bandlock_9S_Phone_BR/sm03/#02/data/udp_dnlk_loss_latency.csv',\n",
      "   '/home/wmnlab/E/database/2024-03-19/UDP_Bandlock_9S_Phone_BR/sm03/#02/data/udp_uplk_loss_latency.csv',\n",
      "   '/home/wmnlab/E/database/2024-03-19/UDP_Bandlock_9S_Phone_BR/sm03/#02/data/diag_log_sm03_2024-03-19_19-55-53_rrc.csv',\n",
      "   '/home/wmnlab/E/database/2024-03-19/UDP_Bandlock_9S_Phone_BR/sm03/#02/data/diag_log_sm03_2024-03-19_19-55-53_ml1.csv',\n",
      "   '/home/wmnlab/E/database/2024-03-19/UDP_Bandlock_9S_Phone_BR/sm03/#02/data/diag_log_sm03_2024-03-19_19-55-53_nr_ml1.csv'],\n",
      "  ['/home/wmnlab/E/database/2024-03-19/UDP_Bandlock_9S_Phone_BR/sm08/#02/data/handover_info_log.csv',\n",
      "   '/home/wmnlab/E/database/2024-03-19/UDP_Bandlock_9S_Phone_BR/sm08/#02/data/udp_dnlk_loss_latency.csv',\n",
      "   '/home/wmnlab/E/database/2024-03-19/UDP_Bandlock_9S_Phone_BR/sm08/#02/data/udp_uplk_loss_latency.csv',\n",
      "   '/home/wmnlab/E/database/2024-03-19/UDP_Bandlock_9S_Phone_BR/sm08/#02/data/diag_log_sm08_2024-03-19_19-55-53_rrc.csv',\n",
      "   '/home/wmnlab/E/database/2024-03-19/UDP_Bandlock_9S_Phone_BR/sm08/#02/data/diag_log_sm08_2024-03-19_19-55-53_ml1.csv',\n",
      "   '/home/wmnlab/E/database/2024-03-19/UDP_Bandlock_9S_Phone_BR/sm08/#02/data/diag_log_sm08_2024-03-19_19-55-53_nr_ml1.csv']),\n",
      " (['/home/wmnlab/E/database/2024-03-19/UDP_Bandlock_9S_Phone_BR/sm04/#02/data/handover_info_log.csv',\n",
      "   '/home/wmnlab/E/database/2024-03-19/UDP_Bandlock_9S_Phone_BR/sm04/#02/data/udp_dnlk_loss_latency.csv',\n",
      "   '/home/wmnlab/E/database/2024-03-19/UDP_Bandlock_9S_Phone_BR/sm04/#02/data/udp_uplk_loss_latency.csv',\n",
      "   '/home/wmnlab/E/database/2024-03-19/UDP_Bandlock_9S_Phone_BR/sm04/#02/data/diag_log_sm04_2024-03-19_19-55-53_rrc.csv',\n",
      "   '/home/wmnlab/E/database/2024-03-19/UDP_Bandlock_9S_Phone_BR/sm04/#02/data/diag_log_sm04_2024-03-19_19-55-53_ml1.csv',\n",
      "   '/home/wmnlab/E/database/2024-03-19/UDP_Bandlock_9S_Phone_BR/sm04/#02/data/diag_log_sm04_2024-03-19_19-55-53_nr_ml1.csv'],\n",
      "  ['/home/wmnlab/E/database/2024-03-19/UDP_Bandlock_9S_Phone_BR/sm05/#02/data/handover_info_log.csv',\n",
      "   '/home/wmnlab/E/database/2024-03-19/UDP_Bandlock_9S_Phone_BR/sm05/#02/data/udp_dnlk_loss_latency.csv',\n",
      "   '/home/wmnlab/E/database/2024-03-19/UDP_Bandlock_9S_Phone_BR/sm05/#02/data/udp_uplk_loss_latency.csv',\n",
      "   '/home/wmnlab/E/database/2024-03-19/UDP_Bandlock_9S_Phone_BR/sm05/#02/data/diag_log_sm05_2024-03-19_19-55-53_rrc.csv',\n",
      "   '/home/wmnlab/E/database/2024-03-19/UDP_Bandlock_9S_Phone_BR/sm05/#02/data/diag_log_sm05_2024-03-19_19-55-53_ml1.csv',\n",
      "   '/home/wmnlab/E/database/2024-03-19/UDP_Bandlock_9S_Phone_BR/sm05/#02/data/diag_log_sm05_2024-03-19_19-55-53_nr_ml1.csv']),\n",
      " (['/home/wmnlab/E/database/2024-03-19/UDP_Bandlock_9S_Phone_BR/sm04/#02/data/handover_info_log.csv',\n",
      "   '/home/wmnlab/E/database/2024-03-19/UDP_Bandlock_9S_Phone_BR/sm04/#02/data/udp_dnlk_loss_latency.csv',\n",
      "   '/home/wmnlab/E/database/2024-03-19/UDP_Bandlock_9S_Phone_BR/sm04/#02/data/udp_uplk_loss_latency.csv',\n",
      "   '/home/wmnlab/E/database/2024-03-19/UDP_Bandlock_9S_Phone_BR/sm04/#02/data/diag_log_sm04_2024-03-19_19-55-53_rrc.csv',\n",
      "   '/home/wmnlab/E/database/2024-03-19/UDP_Bandlock_9S_Phone_BR/sm04/#02/data/diag_log_sm04_2024-03-19_19-55-53_ml1.csv',\n",
      "   '/home/wmnlab/E/database/2024-03-19/UDP_Bandlock_9S_Phone_BR/sm04/#02/data/diag_log_sm04_2024-03-19_19-55-53_nr_ml1.csv'],\n",
      "  ['/home/wmnlab/E/database/2024-03-19/UDP_Bandlock_9S_Phone_BR/sm06/#02/data/handover_info_log.csv',\n",
      "   '/home/wmnlab/E/database/2024-03-19/UDP_Bandlock_9S_Phone_BR/sm06/#02/data/udp_dnlk_loss_latency.csv',\n",
      "   '/home/wmnlab/E/database/2024-03-19/UDP_Bandlock_9S_Phone_BR/sm06/#02/data/udp_uplk_loss_latency.csv',\n",
      "   '/home/wmnlab/E/database/2024-03-19/UDP_Bandlock_9S_Phone_BR/sm06/#02/data/diag_log_sm06_2024-03-19_19-55-53_rrc.csv',\n",
      "   '/home/wmnlab/E/database/2024-03-19/UDP_Bandlock_9S_Phone_BR/sm06/#02/data/diag_log_sm06_2024-03-19_19-55-53_ml1.csv',\n",
      "   '/home/wmnlab/E/database/2024-03-19/UDP_Bandlock_9S_Phone_BR/sm06/#02/data/diag_log_sm06_2024-03-19_19-55-53_nr_ml1.csv']),\n",
      " (['/home/wmnlab/E/database/2024-03-19/UDP_Bandlock_9S_Phone_BR/sm04/#02/data/handover_info_log.csv',\n",
      "   '/home/wmnlab/E/database/2024-03-19/UDP_Bandlock_9S_Phone_BR/sm04/#02/data/udp_dnlk_loss_latency.csv',\n",
      "   '/home/wmnlab/E/database/2024-03-19/UDP_Bandlock_9S_Phone_BR/sm04/#02/data/udp_uplk_loss_latency.csv',\n",
      "   '/home/wmnlab/E/database/2024-03-19/UDP_Bandlock_9S_Phone_BR/sm04/#02/data/diag_log_sm04_2024-03-19_19-55-53_rrc.csv',\n",
      "   '/home/wmnlab/E/database/2024-03-19/UDP_Bandlock_9S_Phone_BR/sm04/#02/data/diag_log_sm04_2024-03-19_19-55-53_ml1.csv',\n",
      "   '/home/wmnlab/E/database/2024-03-19/UDP_Bandlock_9S_Phone_BR/sm04/#02/data/diag_log_sm04_2024-03-19_19-55-53_nr_ml1.csv'],\n",
      "  ['/home/wmnlab/E/database/2024-03-19/UDP_Bandlock_9S_Phone_BR/sm07/#02/data/handover_info_log.csv',\n",
      "   '/home/wmnlab/E/database/2024-03-19/UDP_Bandlock_9S_Phone_BR/sm07/#02/data/udp_dnlk_loss_latency.csv',\n",
      "   '/home/wmnlab/E/database/2024-03-19/UDP_Bandlock_9S_Phone_BR/sm07/#02/data/udp_uplk_loss_latency.csv',\n",
      "   '/home/wmnlab/E/database/2024-03-19/UDP_Bandlock_9S_Phone_BR/sm07/#02/data/diag_log_sm07_2024-03-19_19-55-53_rrc.csv',\n",
      "   '/home/wmnlab/E/database/2024-03-19/UDP_Bandlock_9S_Phone_BR/sm07/#02/data/diag_log_sm07_2024-03-19_19-55-53_ml1.csv',\n",
      "   '/home/wmnlab/E/database/2024-03-19/UDP_Bandlock_9S_Phone_BR/sm07/#02/data/diag_log_sm07_2024-03-19_19-55-53_nr_ml1.csv']),\n",
      " (['/home/wmnlab/E/database/2024-03-19/UDP_Bandlock_9S_Phone_BR/sm04/#02/data/handover_info_log.csv',\n",
      "   '/home/wmnlab/E/database/2024-03-19/UDP_Bandlock_9S_Phone_BR/sm04/#02/data/udp_dnlk_loss_latency.csv',\n",
      "   '/home/wmnlab/E/database/2024-03-19/UDP_Bandlock_9S_Phone_BR/sm04/#02/data/udp_uplk_loss_latency.csv',\n",
      "   '/home/wmnlab/E/database/2024-03-19/UDP_Bandlock_9S_Phone_BR/sm04/#02/data/diag_log_sm04_2024-03-19_19-55-53_rrc.csv',\n",
      "   '/home/wmnlab/E/database/2024-03-19/UDP_Bandlock_9S_Phone_BR/sm04/#02/data/diag_log_sm04_2024-03-19_19-55-53_ml1.csv',\n",
      "   '/home/wmnlab/E/database/2024-03-19/UDP_Bandlock_9S_Phone_BR/sm04/#02/data/diag_log_sm04_2024-03-19_19-55-53_nr_ml1.csv'],\n",
      "  ['/home/wmnlab/E/database/2024-03-19/UDP_Bandlock_9S_Phone_BR/sm08/#02/data/handover_info_log.csv',\n",
      "   '/home/wmnlab/E/database/2024-03-19/UDP_Bandlock_9S_Phone_BR/sm08/#02/data/udp_dnlk_loss_latency.csv',\n",
      "   '/home/wmnlab/E/database/2024-03-19/UDP_Bandlock_9S_Phone_BR/sm08/#02/data/udp_uplk_loss_latency.csv',\n",
      "   '/home/wmnlab/E/database/2024-03-19/UDP_Bandlock_9S_Phone_BR/sm08/#02/data/diag_log_sm08_2024-03-19_19-55-53_rrc.csv',\n",
      "   '/home/wmnlab/E/database/2024-03-19/UDP_Bandlock_9S_Phone_BR/sm08/#02/data/diag_log_sm08_2024-03-19_19-55-53_ml1.csv',\n",
      "   '/home/wmnlab/E/database/2024-03-19/UDP_Bandlock_9S_Phone_BR/sm08/#02/data/diag_log_sm08_2024-03-19_19-55-53_nr_ml1.csv']),\n",
      " (['/home/wmnlab/E/database/2024-03-19/UDP_Bandlock_9S_Phone_BR/sm05/#02/data/handover_info_log.csv',\n",
      "   '/home/wmnlab/E/database/2024-03-19/UDP_Bandlock_9S_Phone_BR/sm05/#02/data/udp_dnlk_loss_latency.csv',\n",
      "   '/home/wmnlab/E/database/2024-03-19/UDP_Bandlock_9S_Phone_BR/sm05/#02/data/udp_uplk_loss_latency.csv',\n",
      "   '/home/wmnlab/E/database/2024-03-19/UDP_Bandlock_9S_Phone_BR/sm05/#02/data/diag_log_sm05_2024-03-19_19-55-53_rrc.csv',\n",
      "   '/home/wmnlab/E/database/2024-03-19/UDP_Bandlock_9S_Phone_BR/sm05/#02/data/diag_log_sm05_2024-03-19_19-55-53_ml1.csv',\n",
      "   '/home/wmnlab/E/database/2024-03-19/UDP_Bandlock_9S_Phone_BR/sm05/#02/data/diag_log_sm05_2024-03-19_19-55-53_nr_ml1.csv'],\n",
      "  ['/home/wmnlab/E/database/2024-03-19/UDP_Bandlock_9S_Phone_BR/sm06/#02/data/handover_info_log.csv',\n",
      "   '/home/wmnlab/E/database/2024-03-19/UDP_Bandlock_9S_Phone_BR/sm06/#02/data/udp_dnlk_loss_latency.csv',\n",
      "   '/home/wmnlab/E/database/2024-03-19/UDP_Bandlock_9S_Phone_BR/sm06/#02/data/udp_uplk_loss_latency.csv',\n",
      "   '/home/wmnlab/E/database/2024-03-19/UDP_Bandlock_9S_Phone_BR/sm06/#02/data/diag_log_sm06_2024-03-19_19-55-53_rrc.csv',\n",
      "   '/home/wmnlab/E/database/2024-03-19/UDP_Bandlock_9S_Phone_BR/sm06/#02/data/diag_log_sm06_2024-03-19_19-55-53_ml1.csv',\n",
      "   '/home/wmnlab/E/database/2024-03-19/UDP_Bandlock_9S_Phone_BR/sm06/#02/data/diag_log_sm06_2024-03-19_19-55-53_nr_ml1.csv']),\n",
      " (['/home/wmnlab/E/database/2024-03-19/UDP_Bandlock_9S_Phone_BR/sm05/#02/data/handover_info_log.csv',\n",
      "   '/home/wmnlab/E/database/2024-03-19/UDP_Bandlock_9S_Phone_BR/sm05/#02/data/udp_dnlk_loss_latency.csv',\n",
      "   '/home/wmnlab/E/database/2024-03-19/UDP_Bandlock_9S_Phone_BR/sm05/#02/data/udp_uplk_loss_latency.csv',\n",
      "   '/home/wmnlab/E/database/2024-03-19/UDP_Bandlock_9S_Phone_BR/sm05/#02/data/diag_log_sm05_2024-03-19_19-55-53_rrc.csv',\n",
      "   '/home/wmnlab/E/database/2024-03-19/UDP_Bandlock_9S_Phone_BR/sm05/#02/data/diag_log_sm05_2024-03-19_19-55-53_ml1.csv',\n",
      "   '/home/wmnlab/E/database/2024-03-19/UDP_Bandlock_9S_Phone_BR/sm05/#02/data/diag_log_sm05_2024-03-19_19-55-53_nr_ml1.csv'],\n",
      "  ['/home/wmnlab/E/database/2024-03-19/UDP_Bandlock_9S_Phone_BR/sm07/#02/data/handover_info_log.csv',\n",
      "   '/home/wmnlab/E/database/2024-03-19/UDP_Bandlock_9S_Phone_BR/sm07/#02/data/udp_dnlk_loss_latency.csv',\n",
      "   '/home/wmnlab/E/database/2024-03-19/UDP_Bandlock_9S_Phone_BR/sm07/#02/data/udp_uplk_loss_latency.csv',\n",
      "   '/home/wmnlab/E/database/2024-03-19/UDP_Bandlock_9S_Phone_BR/sm07/#02/data/diag_log_sm07_2024-03-19_19-55-53_rrc.csv',\n",
      "   '/home/wmnlab/E/database/2024-03-19/UDP_Bandlock_9S_Phone_BR/sm07/#02/data/diag_log_sm07_2024-03-19_19-55-53_ml1.csv',\n",
      "   '/home/wmnlab/E/database/2024-03-19/UDP_Bandlock_9S_Phone_BR/sm07/#02/data/diag_log_sm07_2024-03-19_19-55-53_nr_ml1.csv']),\n",
      " (['/home/wmnlab/E/database/2024-03-19/UDP_Bandlock_9S_Phone_BR/sm05/#02/data/handover_info_log.csv',\n",
      "   '/home/wmnlab/E/database/2024-03-19/UDP_Bandlock_9S_Phone_BR/sm05/#02/data/udp_dnlk_loss_latency.csv',\n",
      "   '/home/wmnlab/E/database/2024-03-19/UDP_Bandlock_9S_Phone_BR/sm05/#02/data/udp_uplk_loss_latency.csv',\n",
      "   '/home/wmnlab/E/database/2024-03-19/UDP_Bandlock_9S_Phone_BR/sm05/#02/data/diag_log_sm05_2024-03-19_19-55-53_rrc.csv',\n",
      "   '/home/wmnlab/E/database/2024-03-19/UDP_Bandlock_9S_Phone_BR/sm05/#02/data/diag_log_sm05_2024-03-19_19-55-53_ml1.csv',\n",
      "   '/home/wmnlab/E/database/2024-03-19/UDP_Bandlock_9S_Phone_BR/sm05/#02/data/diag_log_sm05_2024-03-19_19-55-53_nr_ml1.csv'],\n",
      "  ['/home/wmnlab/E/database/2024-03-19/UDP_Bandlock_9S_Phone_BR/sm08/#02/data/handover_info_log.csv',\n",
      "   '/home/wmnlab/E/database/2024-03-19/UDP_Bandlock_9S_Phone_BR/sm08/#02/data/udp_dnlk_loss_latency.csv',\n",
      "   '/home/wmnlab/E/database/2024-03-19/UDP_Bandlock_9S_Phone_BR/sm08/#02/data/udp_uplk_loss_latency.csv',\n",
      "   '/home/wmnlab/E/database/2024-03-19/UDP_Bandlock_9S_Phone_BR/sm08/#02/data/diag_log_sm08_2024-03-19_19-55-53_rrc.csv',\n",
      "   '/home/wmnlab/E/database/2024-03-19/UDP_Bandlock_9S_Phone_BR/sm08/#02/data/diag_log_sm08_2024-03-19_19-55-53_ml1.csv',\n",
      "   '/home/wmnlab/E/database/2024-03-19/UDP_Bandlock_9S_Phone_BR/sm08/#02/data/diag_log_sm08_2024-03-19_19-55-53_nr_ml1.csv']),\n",
      " (['/home/wmnlab/E/database/2024-03-19/UDP_Bandlock_9S_Phone_BR/sm06/#02/data/handover_info_log.csv',\n",
      "   '/home/wmnlab/E/database/2024-03-19/UDP_Bandlock_9S_Phone_BR/sm06/#02/data/udp_dnlk_loss_latency.csv',\n",
      "   '/home/wmnlab/E/database/2024-03-19/UDP_Bandlock_9S_Phone_BR/sm06/#02/data/udp_uplk_loss_latency.csv',\n",
      "   '/home/wmnlab/E/database/2024-03-19/UDP_Bandlock_9S_Phone_BR/sm06/#02/data/diag_log_sm06_2024-03-19_19-55-53_rrc.csv',\n",
      "   '/home/wmnlab/E/database/2024-03-19/UDP_Bandlock_9S_Phone_BR/sm06/#02/data/diag_log_sm06_2024-03-19_19-55-53_ml1.csv',\n",
      "   '/home/wmnlab/E/database/2024-03-19/UDP_Bandlock_9S_Phone_BR/sm06/#02/data/diag_log_sm06_2024-03-19_19-55-53_nr_ml1.csv'],\n",
      "  ['/home/wmnlab/E/database/2024-03-19/UDP_Bandlock_9S_Phone_BR/sm07/#02/data/handover_info_log.csv',\n",
      "   '/home/wmnlab/E/database/2024-03-19/UDP_Bandlock_9S_Phone_BR/sm07/#02/data/udp_dnlk_loss_latency.csv',\n",
      "   '/home/wmnlab/E/database/2024-03-19/UDP_Bandlock_9S_Phone_BR/sm07/#02/data/udp_uplk_loss_latency.csv',\n",
      "   '/home/wmnlab/E/database/2024-03-19/UDP_Bandlock_9S_Phone_BR/sm07/#02/data/diag_log_sm07_2024-03-19_19-55-53_rrc.csv',\n",
      "   '/home/wmnlab/E/database/2024-03-19/UDP_Bandlock_9S_Phone_BR/sm07/#02/data/diag_log_sm07_2024-03-19_19-55-53_ml1.csv',\n",
      "   '/home/wmnlab/E/database/2024-03-19/UDP_Bandlock_9S_Phone_BR/sm07/#02/data/diag_log_sm07_2024-03-19_19-55-53_nr_ml1.csv']),\n",
      " (['/home/wmnlab/E/database/2024-03-19/UDP_Bandlock_9S_Phone_BR/sm06/#02/data/handover_info_log.csv',\n",
      "   '/home/wmnlab/E/database/2024-03-19/UDP_Bandlock_9S_Phone_BR/sm06/#02/data/udp_dnlk_loss_latency.csv',\n",
      "   '/home/wmnlab/E/database/2024-03-19/UDP_Bandlock_9S_Phone_BR/sm06/#02/data/udp_uplk_loss_latency.csv',\n",
      "   '/home/wmnlab/E/database/2024-03-19/UDP_Bandlock_9S_Phone_BR/sm06/#02/data/diag_log_sm06_2024-03-19_19-55-53_rrc.csv',\n",
      "   '/home/wmnlab/E/database/2024-03-19/UDP_Bandlock_9S_Phone_BR/sm06/#02/data/diag_log_sm06_2024-03-19_19-55-53_ml1.csv',\n",
      "   '/home/wmnlab/E/database/2024-03-19/UDP_Bandlock_9S_Phone_BR/sm06/#02/data/diag_log_sm06_2024-03-19_19-55-53_nr_ml1.csv'],\n",
      "  ['/home/wmnlab/E/database/2024-03-19/UDP_Bandlock_9S_Phone_BR/sm08/#02/data/handover_info_log.csv',\n",
      "   '/home/wmnlab/E/database/2024-03-19/UDP_Bandlock_9S_Phone_BR/sm08/#02/data/udp_dnlk_loss_latency.csv',\n",
      "   '/home/wmnlab/E/database/2024-03-19/UDP_Bandlock_9S_Phone_BR/sm08/#02/data/udp_uplk_loss_latency.csv',\n",
      "   '/home/wmnlab/E/database/2024-03-19/UDP_Bandlock_9S_Phone_BR/sm08/#02/data/diag_log_sm08_2024-03-19_19-55-53_rrc.csv',\n",
      "   '/home/wmnlab/E/database/2024-03-19/UDP_Bandlock_9S_Phone_BR/sm08/#02/data/diag_log_sm08_2024-03-19_19-55-53_ml1.csv',\n",
      "   '/home/wmnlab/E/database/2024-03-19/UDP_Bandlock_9S_Phone_BR/sm08/#02/data/diag_log_sm08_2024-03-19_19-55-53_nr_ml1.csv']),\n",
      " (['/home/wmnlab/E/database/2024-03-19/UDP_Bandlock_9S_Phone_BR/sm07/#02/data/handover_info_log.csv',\n",
      "   '/home/wmnlab/E/database/2024-03-19/UDP_Bandlock_9S_Phone_BR/sm07/#02/data/udp_dnlk_loss_latency.csv',\n",
      "   '/home/wmnlab/E/database/2024-03-19/UDP_Bandlock_9S_Phone_BR/sm07/#02/data/udp_uplk_loss_latency.csv',\n",
      "   '/home/wmnlab/E/database/2024-03-19/UDP_Bandlock_9S_Phone_BR/sm07/#02/data/diag_log_sm07_2024-03-19_19-55-53_rrc.csv',\n",
      "   '/home/wmnlab/E/database/2024-03-19/UDP_Bandlock_9S_Phone_BR/sm07/#02/data/diag_log_sm07_2024-03-19_19-55-53_ml1.csv',\n",
      "   '/home/wmnlab/E/database/2024-03-19/UDP_Bandlock_9S_Phone_BR/sm07/#02/data/diag_log_sm07_2024-03-19_19-55-53_nr_ml1.csv'],\n",
      "  ['/home/wmnlab/E/database/2024-03-19/UDP_Bandlock_9S_Phone_BR/sm08/#02/data/handover_info_log.csv',\n",
      "   '/home/wmnlab/E/database/2024-03-19/UDP_Bandlock_9S_Phone_BR/sm08/#02/data/udp_dnlk_loss_latency.csv',\n",
      "   '/home/wmnlab/E/database/2024-03-19/UDP_Bandlock_9S_Phone_BR/sm08/#02/data/udp_uplk_loss_latency.csv',\n",
      "   '/home/wmnlab/E/database/2024-03-19/UDP_Bandlock_9S_Phone_BR/sm08/#02/data/diag_log_sm08_2024-03-19_19-55-53_rrc.csv',\n",
      "   '/home/wmnlab/E/database/2024-03-19/UDP_Bandlock_9S_Phone_BR/sm08/#02/data/diag_log_sm08_2024-03-19_19-55-53_ml1.csv',\n",
      "   '/home/wmnlab/E/database/2024-03-19/UDP_Bandlock_9S_Phone_BR/sm08/#02/data/diag_log_sm08_2024-03-19_19-55-53_nr_ml1.csv'])]\n"
     ]
    }
   ],
   "source": [
    "# Dual Radio Example\n",
    "# dates = data_loader(query_dates=True, show_info=True)\n",
    "\n",
    "# selected_dates = [s for s in dates if s >= '2023-09-12']\n",
    "selected_dates = ['2024-03-19']\n",
    "# excluded_dates = []\n",
    "# selected_exps = []\n",
    "# excluded_exps = ['Modem_Action_Test', 'Control_Group', 'Control_Group2', 'Control_Group3']\n",
    "selected_routes = ['BR']\n",
    "# excluded_routes = []\n",
    "filepaths = data_loader(mode='dr', selected_dates=selected_dates, selected_routes=selected_routes)\n",
    "\n",
    "print(len(filepaths))\n",
    "pprint(filepaths)"
   ]
  },
  {
   "cell_type": "code",
   "execution_count": 5,
   "metadata": {},
   "outputs": [
    {
     "name": "stdout",
     "output_type": "stream",
     "text": [
      "./20240323_0800028652_new_dataset/models/BR\n",
      "0/72 /home/wmnlab/E/database/2024-03-19/UDP_Bandlock_9S_Phone_BR/sm00/#01/data/handover_info_log.csv\n",
      "0/72 /home/wmnlab/E/database/2024-03-19/UDP_Bandlock_9S_Phone_BR/sm00/#01/data/udp_dnlk_loss_latency.csv\n",
      "0/72 /home/wmnlab/E/database/2024-03-19/UDP_Bandlock_9S_Phone_BR/sm00/#01/data/udp_uplk_loss_latency.csv\n",
      "0/72 /home/wmnlab/E/database/2024-03-19/UDP_Bandlock_9S_Phone_BR/sm01/#01/data/handover_info_log.csv\n",
      "0/72 /home/wmnlab/E/database/2024-03-19/UDP_Bandlock_9S_Phone_BR/sm01/#01/data/udp_dnlk_loss_latency.csv\n",
      "0/72 /home/wmnlab/E/database/2024-03-19/UDP_Bandlock_9S_Phone_BR/sm01/#01/data/udp_uplk_loss_latency.csv\n"
     ]
    },
    {
     "name": "stdout",
     "output_type": "stream",
     "text": [
      "1/72 /home/wmnlab/E/database/2024-03-19/UDP_Bandlock_9S_Phone_BR/sm00/#01/data/handover_info_log.csv\n",
      "1/72 /home/wmnlab/E/database/2024-03-19/UDP_Bandlock_9S_Phone_BR/sm00/#01/data/udp_dnlk_loss_latency.csv\n",
      "1/72 /home/wmnlab/E/database/2024-03-19/UDP_Bandlock_9S_Phone_BR/sm00/#01/data/udp_uplk_loss_latency.csv\n",
      "1/72 /home/wmnlab/E/database/2024-03-19/UDP_Bandlock_9S_Phone_BR/sm02/#01/data/handover_info_log.csv\n",
      "1/72 /home/wmnlab/E/database/2024-03-19/UDP_Bandlock_9S_Phone_BR/sm02/#01/data/udp_dnlk_loss_latency.csv\n",
      "1/72 /home/wmnlab/E/database/2024-03-19/UDP_Bandlock_9S_Phone_BR/sm02/#01/data/udp_uplk_loss_latency.csv\n",
      "2/72 /home/wmnlab/E/database/2024-03-19/UDP_Bandlock_9S_Phone_BR/sm00/#01/data/handover_info_log.csv\n",
      "2/72 /home/wmnlab/E/database/2024-03-19/UDP_Bandlock_9S_Phone_BR/sm00/#01/data/udp_dnlk_loss_latency.csv\n",
      "2/72 /home/wmnlab/E/database/2024-03-19/UDP_Bandlock_9S_Phone_BR/sm00/#01/data/udp_uplk_loss_latency.csv\n",
      "2/72 /home/wmnlab/E/database/2024-03-19/UDP_Bandlock_9S_Phone_BR/sm03/#01/data/handover_info_log.csv\n",
      "2/72 /home/wmnlab/E/database/2024-03-19/UDP_Bandlock_9S_Phone_BR/sm03/#01/data/udp_dnlk_loss_latency.csv\n",
      "2/72 /home/wmnlab/E/database/2024-03-19/UDP_Bandlock_9S_Phone_BR/sm03/#01/data/udp_uplk_loss_latency.csv\n",
      "3/72 /home/wmnlab/E/database/2024-03-19/UDP_Bandlock_9S_Phone_BR/sm00/#01/data/handover_info_log.csv\n",
      "3/72 /home/wmnlab/E/database/2024-03-19/UDP_Bandlock_9S_Phone_BR/sm00/#01/data/udp_dnlk_loss_latency.csv\n",
      "3/72 /home/wmnlab/E/database/2024-03-19/UDP_Bandlock_9S_Phone_BR/sm00/#01/data/udp_uplk_loss_latency.csv\n",
      "3/72 /home/wmnlab/E/database/2024-03-19/UDP_Bandlock_9S_Phone_BR/sm04/#01/data/handover_info_log.csv\n",
      "3/72 /home/wmnlab/E/database/2024-03-19/UDP_Bandlock_9S_Phone_BR/sm04/#01/data/udp_dnlk_loss_latency.csv\n",
      "3/72 /home/wmnlab/E/database/2024-03-19/UDP_Bandlock_9S_Phone_BR/sm04/#01/data/udp_uplk_loss_latency.csv\n",
      "4/72 /home/wmnlab/E/database/2024-03-19/UDP_Bandlock_9S_Phone_BR/sm00/#01/data/handover_info_log.csv\n",
      "4/72 /home/wmnlab/E/database/2024-03-19/UDP_Bandlock_9S_Phone_BR/sm00/#01/data/udp_dnlk_loss_latency.csv\n",
      "4/72 /home/wmnlab/E/database/2024-03-19/UDP_Bandlock_9S_Phone_BR/sm00/#01/data/udp_uplk_loss_latency.csv\n",
      "4/72 /home/wmnlab/E/database/2024-03-19/UDP_Bandlock_9S_Phone_BR/sm05/#01/data/handover_info_log.csv\n",
      "4/72 /home/wmnlab/E/database/2024-03-19/UDP_Bandlock_9S_Phone_BR/sm05/#01/data/udp_dnlk_loss_latency.csv\n",
      "4/72 /home/wmnlab/E/database/2024-03-19/UDP_Bandlock_9S_Phone_BR/sm05/#01/data/udp_uplk_loss_latency.csv\n",
      "5/72 /home/wmnlab/E/database/2024-03-19/UDP_Bandlock_9S_Phone_BR/sm00/#01/data/handover_info_log.csv\n",
      "5/72 /home/wmnlab/E/database/2024-03-19/UDP_Bandlock_9S_Phone_BR/sm00/#01/data/udp_dnlk_loss_latency.csv\n",
      "5/72 /home/wmnlab/E/database/2024-03-19/UDP_Bandlock_9S_Phone_BR/sm00/#01/data/udp_uplk_loss_latency.csv\n",
      "5/72 /home/wmnlab/E/database/2024-03-19/UDP_Bandlock_9S_Phone_BR/sm06/#01/data/handover_info_log.csv\n",
      "5/72 /home/wmnlab/E/database/2024-03-19/UDP_Bandlock_9S_Phone_BR/sm06/#01/data/udp_dnlk_loss_latency.csv\n",
      "5/72 /home/wmnlab/E/database/2024-03-19/UDP_Bandlock_9S_Phone_BR/sm06/#01/data/udp_uplk_loss_latency.csv\n",
      "6/72 /home/wmnlab/E/database/2024-03-19/UDP_Bandlock_9S_Phone_BR/sm00/#01/data/handover_info_log.csv\n",
      "6/72 /home/wmnlab/E/database/2024-03-19/UDP_Bandlock_9S_Phone_BR/sm00/#01/data/udp_dnlk_loss_latency.csv\n",
      "6/72 /home/wmnlab/E/database/2024-03-19/UDP_Bandlock_9S_Phone_BR/sm00/#01/data/udp_uplk_loss_latency.csv\n",
      "6/72 /home/wmnlab/E/database/2024-03-19/UDP_Bandlock_9S_Phone_BR/sm07/#01/data/handover_info_log.csv\n",
      "6/72 /home/wmnlab/E/database/2024-03-19/UDP_Bandlock_9S_Phone_BR/sm07/#01/data/udp_dnlk_loss_latency.csv\n",
      "6/72 /home/wmnlab/E/database/2024-03-19/UDP_Bandlock_9S_Phone_BR/sm07/#01/data/udp_uplk_loss_latency.csv\n",
      "7/72 /home/wmnlab/E/database/2024-03-19/UDP_Bandlock_9S_Phone_BR/sm00/#01/data/handover_info_log.csv\n",
      "7/72 /home/wmnlab/E/database/2024-03-19/UDP_Bandlock_9S_Phone_BR/sm00/#01/data/udp_dnlk_loss_latency.csv\n",
      "7/72 /home/wmnlab/E/database/2024-03-19/UDP_Bandlock_9S_Phone_BR/sm00/#01/data/udp_uplk_loss_latency.csv\n",
      "7/72 /home/wmnlab/E/database/2024-03-19/UDP_Bandlock_9S_Phone_BR/sm08/#01/data/handover_info_log.csv\n",
      "7/72 /home/wmnlab/E/database/2024-03-19/UDP_Bandlock_9S_Phone_BR/sm08/#01/data/udp_dnlk_loss_latency.csv\n",
      "7/72 /home/wmnlab/E/database/2024-03-19/UDP_Bandlock_9S_Phone_BR/sm08/#01/data/udp_uplk_loss_latency.csv\n",
      "8/72 /home/wmnlab/E/database/2024-03-19/UDP_Bandlock_9S_Phone_BR/sm01/#01/data/handover_info_log.csv\n",
      "8/72 /home/wmnlab/E/database/2024-03-19/UDP_Bandlock_9S_Phone_BR/sm01/#01/data/udp_dnlk_loss_latency.csv\n",
      "8/72 /home/wmnlab/E/database/2024-03-19/UDP_Bandlock_9S_Phone_BR/sm01/#01/data/udp_uplk_loss_latency.csv\n",
      "8/72 /home/wmnlab/E/database/2024-03-19/UDP_Bandlock_9S_Phone_BR/sm02/#01/data/handover_info_log.csv\n",
      "8/72 /home/wmnlab/E/database/2024-03-19/UDP_Bandlock_9S_Phone_BR/sm02/#01/data/udp_dnlk_loss_latency.csv\n",
      "8/72 /home/wmnlab/E/database/2024-03-19/UDP_Bandlock_9S_Phone_BR/sm02/#01/data/udp_uplk_loss_latency.csv\n",
      "9/72 /home/wmnlab/E/database/2024-03-19/UDP_Bandlock_9S_Phone_BR/sm01/#01/data/handover_info_log.csv\n",
      "9/72 /home/wmnlab/E/database/2024-03-19/UDP_Bandlock_9S_Phone_BR/sm01/#01/data/udp_dnlk_loss_latency.csv\n",
      "9/72 /home/wmnlab/E/database/2024-03-19/UDP_Bandlock_9S_Phone_BR/sm01/#01/data/udp_uplk_loss_latency.csv\n",
      "9/72 /home/wmnlab/E/database/2024-03-19/UDP_Bandlock_9S_Phone_BR/sm03/#01/data/handover_info_log.csv\n",
      "9/72 /home/wmnlab/E/database/2024-03-19/UDP_Bandlock_9S_Phone_BR/sm03/#01/data/udp_dnlk_loss_latency.csv\n",
      "9/72 /home/wmnlab/E/database/2024-03-19/UDP_Bandlock_9S_Phone_BR/sm03/#01/data/udp_uplk_loss_latency.csv\n",
      "10/72 /home/wmnlab/E/database/2024-03-19/UDP_Bandlock_9S_Phone_BR/sm01/#01/data/handover_info_log.csv\n",
      "10/72 /home/wmnlab/E/database/2024-03-19/UDP_Bandlock_9S_Phone_BR/sm01/#01/data/udp_dnlk_loss_latency.csv\n",
      "10/72 /home/wmnlab/E/database/2024-03-19/UDP_Bandlock_9S_Phone_BR/sm01/#01/data/udp_uplk_loss_latency.csv\n",
      "10/72 /home/wmnlab/E/database/2024-03-19/UDP_Bandlock_9S_Phone_BR/sm04/#01/data/handover_info_log.csv\n",
      "10/72 /home/wmnlab/E/database/2024-03-19/UDP_Bandlock_9S_Phone_BR/sm04/#01/data/udp_dnlk_loss_latency.csv\n",
      "10/72 /home/wmnlab/E/database/2024-03-19/UDP_Bandlock_9S_Phone_BR/sm04/#01/data/udp_uplk_loss_latency.csv\n",
      "11/72 /home/wmnlab/E/database/2024-03-19/UDP_Bandlock_9S_Phone_BR/sm01/#01/data/handover_info_log.csv\n",
      "11/72 /home/wmnlab/E/database/2024-03-19/UDP_Bandlock_9S_Phone_BR/sm01/#01/data/udp_dnlk_loss_latency.csv\n",
      "11/72 /home/wmnlab/E/database/2024-03-19/UDP_Bandlock_9S_Phone_BR/sm01/#01/data/udp_uplk_loss_latency.csv\n",
      "11/72 /home/wmnlab/E/database/2024-03-19/UDP_Bandlock_9S_Phone_BR/sm05/#01/data/handover_info_log.csv\n",
      "11/72 /home/wmnlab/E/database/2024-03-19/UDP_Bandlock_9S_Phone_BR/sm05/#01/data/udp_dnlk_loss_latency.csv\n",
      "11/72 /home/wmnlab/E/database/2024-03-19/UDP_Bandlock_9S_Phone_BR/sm05/#01/data/udp_uplk_loss_latency.csv\n",
      "12/72 /home/wmnlab/E/database/2024-03-19/UDP_Bandlock_9S_Phone_BR/sm01/#01/data/handover_info_log.csv\n",
      "12/72 /home/wmnlab/E/database/2024-03-19/UDP_Bandlock_9S_Phone_BR/sm01/#01/data/udp_dnlk_loss_latency.csv\n",
      "12/72 /home/wmnlab/E/database/2024-03-19/UDP_Bandlock_9S_Phone_BR/sm01/#01/data/udp_uplk_loss_latency.csv\n",
      "12/72 /home/wmnlab/E/database/2024-03-19/UDP_Bandlock_9S_Phone_BR/sm06/#01/data/handover_info_log.csv\n",
      "12/72 /home/wmnlab/E/database/2024-03-19/UDP_Bandlock_9S_Phone_BR/sm06/#01/data/udp_dnlk_loss_latency.csv\n",
      "12/72 /home/wmnlab/E/database/2024-03-19/UDP_Bandlock_9S_Phone_BR/sm06/#01/data/udp_uplk_loss_latency.csv\n",
      "13/72 /home/wmnlab/E/database/2024-03-19/UDP_Bandlock_9S_Phone_BR/sm01/#01/data/handover_info_log.csv\n",
      "13/72 /home/wmnlab/E/database/2024-03-19/UDP_Bandlock_9S_Phone_BR/sm01/#01/data/udp_dnlk_loss_latency.csv\n",
      "13/72 /home/wmnlab/E/database/2024-03-19/UDP_Bandlock_9S_Phone_BR/sm01/#01/data/udp_uplk_loss_latency.csv\n",
      "13/72 /home/wmnlab/E/database/2024-03-19/UDP_Bandlock_9S_Phone_BR/sm07/#01/data/handover_info_log.csv\n",
      "13/72 /home/wmnlab/E/database/2024-03-19/UDP_Bandlock_9S_Phone_BR/sm07/#01/data/udp_dnlk_loss_latency.csv\n",
      "13/72 /home/wmnlab/E/database/2024-03-19/UDP_Bandlock_9S_Phone_BR/sm07/#01/data/udp_uplk_loss_latency.csv\n",
      "14/72 /home/wmnlab/E/database/2024-03-19/UDP_Bandlock_9S_Phone_BR/sm01/#01/data/handover_info_log.csv\n",
      "14/72 /home/wmnlab/E/database/2024-03-19/UDP_Bandlock_9S_Phone_BR/sm01/#01/data/udp_dnlk_loss_latency.csv\n",
      "14/72 /home/wmnlab/E/database/2024-03-19/UDP_Bandlock_9S_Phone_BR/sm01/#01/data/udp_uplk_loss_latency.csv\n",
      "14/72 /home/wmnlab/E/database/2024-03-19/UDP_Bandlock_9S_Phone_BR/sm08/#01/data/handover_info_log.csv\n",
      "14/72 /home/wmnlab/E/database/2024-03-19/UDP_Bandlock_9S_Phone_BR/sm08/#01/data/udp_dnlk_loss_latency.csv\n",
      "14/72 /home/wmnlab/E/database/2024-03-19/UDP_Bandlock_9S_Phone_BR/sm08/#01/data/udp_uplk_loss_latency.csv\n",
      "15/72 /home/wmnlab/E/database/2024-03-19/UDP_Bandlock_9S_Phone_BR/sm02/#01/data/handover_info_log.csv\n",
      "15/72 /home/wmnlab/E/database/2024-03-19/UDP_Bandlock_9S_Phone_BR/sm02/#01/data/udp_dnlk_loss_latency.csv\n",
      "15/72 /home/wmnlab/E/database/2024-03-19/UDP_Bandlock_9S_Phone_BR/sm02/#01/data/udp_uplk_loss_latency.csv\n",
      "15/72 /home/wmnlab/E/database/2024-03-19/UDP_Bandlock_9S_Phone_BR/sm03/#01/data/handover_info_log.csv\n",
      "15/72 /home/wmnlab/E/database/2024-03-19/UDP_Bandlock_9S_Phone_BR/sm03/#01/data/udp_dnlk_loss_latency.csv\n",
      "15/72 /home/wmnlab/E/database/2024-03-19/UDP_Bandlock_9S_Phone_BR/sm03/#01/data/udp_uplk_loss_latency.csv\n",
      "16/72 /home/wmnlab/E/database/2024-03-19/UDP_Bandlock_9S_Phone_BR/sm02/#01/data/handover_info_log.csv\n",
      "16/72 /home/wmnlab/E/database/2024-03-19/UDP_Bandlock_9S_Phone_BR/sm02/#01/data/udp_dnlk_loss_latency.csv\n",
      "16/72 /home/wmnlab/E/database/2024-03-19/UDP_Bandlock_9S_Phone_BR/sm02/#01/data/udp_uplk_loss_latency.csv\n",
      "16/72 /home/wmnlab/E/database/2024-03-19/UDP_Bandlock_9S_Phone_BR/sm04/#01/data/handover_info_log.csv\n",
      "16/72 /home/wmnlab/E/database/2024-03-19/UDP_Bandlock_9S_Phone_BR/sm04/#01/data/udp_dnlk_loss_latency.csv\n",
      "16/72 /home/wmnlab/E/database/2024-03-19/UDP_Bandlock_9S_Phone_BR/sm04/#01/data/udp_uplk_loss_latency.csv\n",
      "17/72 /home/wmnlab/E/database/2024-03-19/UDP_Bandlock_9S_Phone_BR/sm02/#01/data/handover_info_log.csv\n",
      "17/72 /home/wmnlab/E/database/2024-03-19/UDP_Bandlock_9S_Phone_BR/sm02/#01/data/udp_dnlk_loss_latency.csv\n",
      "17/72 /home/wmnlab/E/database/2024-03-19/UDP_Bandlock_9S_Phone_BR/sm02/#01/data/udp_uplk_loss_latency.csv\n",
      "17/72 /home/wmnlab/E/database/2024-03-19/UDP_Bandlock_9S_Phone_BR/sm05/#01/data/handover_info_log.csv\n",
      "17/72 /home/wmnlab/E/database/2024-03-19/UDP_Bandlock_9S_Phone_BR/sm05/#01/data/udp_dnlk_loss_latency.csv\n",
      "17/72 /home/wmnlab/E/database/2024-03-19/UDP_Bandlock_9S_Phone_BR/sm05/#01/data/udp_uplk_loss_latency.csv\n",
      "18/72 /home/wmnlab/E/database/2024-03-19/UDP_Bandlock_9S_Phone_BR/sm02/#01/data/handover_info_log.csv\n",
      "18/72 /home/wmnlab/E/database/2024-03-19/UDP_Bandlock_9S_Phone_BR/sm02/#01/data/udp_dnlk_loss_latency.csv\n",
      "18/72 /home/wmnlab/E/database/2024-03-19/UDP_Bandlock_9S_Phone_BR/sm02/#01/data/udp_uplk_loss_latency.csv\n",
      "18/72 /home/wmnlab/E/database/2024-03-19/UDP_Bandlock_9S_Phone_BR/sm06/#01/data/handover_info_log.csv\n",
      "18/72 /home/wmnlab/E/database/2024-03-19/UDP_Bandlock_9S_Phone_BR/sm06/#01/data/udp_dnlk_loss_latency.csv\n",
      "18/72 /home/wmnlab/E/database/2024-03-19/UDP_Bandlock_9S_Phone_BR/sm06/#01/data/udp_uplk_loss_latency.csv\n",
      "19/72 /home/wmnlab/E/database/2024-03-19/UDP_Bandlock_9S_Phone_BR/sm02/#01/data/handover_info_log.csv\n",
      "19/72 /home/wmnlab/E/database/2024-03-19/UDP_Bandlock_9S_Phone_BR/sm02/#01/data/udp_dnlk_loss_latency.csv\n",
      "19/72 /home/wmnlab/E/database/2024-03-19/UDP_Bandlock_9S_Phone_BR/sm02/#01/data/udp_uplk_loss_latency.csv\n",
      "19/72 /home/wmnlab/E/database/2024-03-19/UDP_Bandlock_9S_Phone_BR/sm07/#01/data/handover_info_log.csv\n",
      "19/72 /home/wmnlab/E/database/2024-03-19/UDP_Bandlock_9S_Phone_BR/sm07/#01/data/udp_dnlk_loss_latency.csv\n",
      "19/72 /home/wmnlab/E/database/2024-03-19/UDP_Bandlock_9S_Phone_BR/sm07/#01/data/udp_uplk_loss_latency.csv\n",
      "20/72 /home/wmnlab/E/database/2024-03-19/UDP_Bandlock_9S_Phone_BR/sm02/#01/data/handover_info_log.csv\n",
      "20/72 /home/wmnlab/E/database/2024-03-19/UDP_Bandlock_9S_Phone_BR/sm02/#01/data/udp_dnlk_loss_latency.csv\n",
      "20/72 /home/wmnlab/E/database/2024-03-19/UDP_Bandlock_9S_Phone_BR/sm02/#01/data/udp_uplk_loss_latency.csv\n",
      "20/72 /home/wmnlab/E/database/2024-03-19/UDP_Bandlock_9S_Phone_BR/sm08/#01/data/handover_info_log.csv\n",
      "20/72 /home/wmnlab/E/database/2024-03-19/UDP_Bandlock_9S_Phone_BR/sm08/#01/data/udp_dnlk_loss_latency.csv\n",
      "20/72 /home/wmnlab/E/database/2024-03-19/UDP_Bandlock_9S_Phone_BR/sm08/#01/data/udp_uplk_loss_latency.csv\n",
      "21/72 /home/wmnlab/E/database/2024-03-19/UDP_Bandlock_9S_Phone_BR/sm03/#01/data/handover_info_log.csv\n",
      "21/72 /home/wmnlab/E/database/2024-03-19/UDP_Bandlock_9S_Phone_BR/sm03/#01/data/udp_dnlk_loss_latency.csv\n",
      "21/72 /home/wmnlab/E/database/2024-03-19/UDP_Bandlock_9S_Phone_BR/sm03/#01/data/udp_uplk_loss_latency.csv\n",
      "21/72 /home/wmnlab/E/database/2024-03-19/UDP_Bandlock_9S_Phone_BR/sm04/#01/data/handover_info_log.csv\n",
      "21/72 /home/wmnlab/E/database/2024-03-19/UDP_Bandlock_9S_Phone_BR/sm04/#01/data/udp_dnlk_loss_latency.csv\n",
      "21/72 /home/wmnlab/E/database/2024-03-19/UDP_Bandlock_9S_Phone_BR/sm04/#01/data/udp_uplk_loss_latency.csv\n",
      "22/72 /home/wmnlab/E/database/2024-03-19/UDP_Bandlock_9S_Phone_BR/sm03/#01/data/handover_info_log.csv\n",
      "22/72 /home/wmnlab/E/database/2024-03-19/UDP_Bandlock_9S_Phone_BR/sm03/#01/data/udp_dnlk_loss_latency.csv\n",
      "22/72 /home/wmnlab/E/database/2024-03-19/UDP_Bandlock_9S_Phone_BR/sm03/#01/data/udp_uplk_loss_latency.csv\n",
      "22/72 /home/wmnlab/E/database/2024-03-19/UDP_Bandlock_9S_Phone_BR/sm05/#01/data/handover_info_log.csv\n",
      "22/72 /home/wmnlab/E/database/2024-03-19/UDP_Bandlock_9S_Phone_BR/sm05/#01/data/udp_dnlk_loss_latency.csv\n",
      "22/72 /home/wmnlab/E/database/2024-03-19/UDP_Bandlock_9S_Phone_BR/sm05/#01/data/udp_uplk_loss_latency.csv\n",
      "23/72 /home/wmnlab/E/database/2024-03-19/UDP_Bandlock_9S_Phone_BR/sm03/#01/data/handover_info_log.csv\n",
      "23/72 /home/wmnlab/E/database/2024-03-19/UDP_Bandlock_9S_Phone_BR/sm03/#01/data/udp_dnlk_loss_latency.csv\n",
      "23/72 /home/wmnlab/E/database/2024-03-19/UDP_Bandlock_9S_Phone_BR/sm03/#01/data/udp_uplk_loss_latency.csv\n",
      "23/72 /home/wmnlab/E/database/2024-03-19/UDP_Bandlock_9S_Phone_BR/sm06/#01/data/handover_info_log.csv\n",
      "23/72 /home/wmnlab/E/database/2024-03-19/UDP_Bandlock_9S_Phone_BR/sm06/#01/data/udp_dnlk_loss_latency.csv\n",
      "23/72 /home/wmnlab/E/database/2024-03-19/UDP_Bandlock_9S_Phone_BR/sm06/#01/data/udp_uplk_loss_latency.csv\n",
      "24/72 /home/wmnlab/E/database/2024-03-19/UDP_Bandlock_9S_Phone_BR/sm03/#01/data/handover_info_log.csv\n",
      "24/72 /home/wmnlab/E/database/2024-03-19/UDP_Bandlock_9S_Phone_BR/sm03/#01/data/udp_dnlk_loss_latency.csv\n",
      "24/72 /home/wmnlab/E/database/2024-03-19/UDP_Bandlock_9S_Phone_BR/sm03/#01/data/udp_uplk_loss_latency.csv\n",
      "24/72 /home/wmnlab/E/database/2024-03-19/UDP_Bandlock_9S_Phone_BR/sm07/#01/data/handover_info_log.csv\n",
      "24/72 /home/wmnlab/E/database/2024-03-19/UDP_Bandlock_9S_Phone_BR/sm07/#01/data/udp_dnlk_loss_latency.csv\n",
      "24/72 /home/wmnlab/E/database/2024-03-19/UDP_Bandlock_9S_Phone_BR/sm07/#01/data/udp_uplk_loss_latency.csv\n",
      "25/72 /home/wmnlab/E/database/2024-03-19/UDP_Bandlock_9S_Phone_BR/sm03/#01/data/handover_info_log.csv\n",
      "25/72 /home/wmnlab/E/database/2024-03-19/UDP_Bandlock_9S_Phone_BR/sm03/#01/data/udp_dnlk_loss_latency.csv\n",
      "25/72 /home/wmnlab/E/database/2024-03-19/UDP_Bandlock_9S_Phone_BR/sm03/#01/data/udp_uplk_loss_latency.csv\n",
      "25/72 /home/wmnlab/E/database/2024-03-19/UDP_Bandlock_9S_Phone_BR/sm08/#01/data/handover_info_log.csv\n",
      "25/72 /home/wmnlab/E/database/2024-03-19/UDP_Bandlock_9S_Phone_BR/sm08/#01/data/udp_dnlk_loss_latency.csv\n",
      "25/72 /home/wmnlab/E/database/2024-03-19/UDP_Bandlock_9S_Phone_BR/sm08/#01/data/udp_uplk_loss_latency.csv\n",
      "26/72 /home/wmnlab/E/database/2024-03-19/UDP_Bandlock_9S_Phone_BR/sm04/#01/data/handover_info_log.csv\n",
      "26/72 /home/wmnlab/E/database/2024-03-19/UDP_Bandlock_9S_Phone_BR/sm04/#01/data/udp_dnlk_loss_latency.csv\n",
      "26/72 /home/wmnlab/E/database/2024-03-19/UDP_Bandlock_9S_Phone_BR/sm04/#01/data/udp_uplk_loss_latency.csv\n",
      "26/72 /home/wmnlab/E/database/2024-03-19/UDP_Bandlock_9S_Phone_BR/sm05/#01/data/handover_info_log.csv\n",
      "26/72 /home/wmnlab/E/database/2024-03-19/UDP_Bandlock_9S_Phone_BR/sm05/#01/data/udp_dnlk_loss_latency.csv\n",
      "26/72 /home/wmnlab/E/database/2024-03-19/UDP_Bandlock_9S_Phone_BR/sm05/#01/data/udp_uplk_loss_latency.csv\n",
      "27/72 /home/wmnlab/E/database/2024-03-19/UDP_Bandlock_9S_Phone_BR/sm04/#01/data/handover_info_log.csv\n",
      "27/72 /home/wmnlab/E/database/2024-03-19/UDP_Bandlock_9S_Phone_BR/sm04/#01/data/udp_dnlk_loss_latency.csv\n",
      "27/72 /home/wmnlab/E/database/2024-03-19/UDP_Bandlock_9S_Phone_BR/sm04/#01/data/udp_uplk_loss_latency.csv\n",
      "27/72 /home/wmnlab/E/database/2024-03-19/UDP_Bandlock_9S_Phone_BR/sm06/#01/data/handover_info_log.csv\n",
      "27/72 /home/wmnlab/E/database/2024-03-19/UDP_Bandlock_9S_Phone_BR/sm06/#01/data/udp_dnlk_loss_latency.csv\n",
      "27/72 /home/wmnlab/E/database/2024-03-19/UDP_Bandlock_9S_Phone_BR/sm06/#01/data/udp_uplk_loss_latency.csv\n",
      "28/72 /home/wmnlab/E/database/2024-03-19/UDP_Bandlock_9S_Phone_BR/sm04/#01/data/handover_info_log.csv\n",
      "28/72 /home/wmnlab/E/database/2024-03-19/UDP_Bandlock_9S_Phone_BR/sm04/#01/data/udp_dnlk_loss_latency.csv\n",
      "28/72 /home/wmnlab/E/database/2024-03-19/UDP_Bandlock_9S_Phone_BR/sm04/#01/data/udp_uplk_loss_latency.csv\n",
      "28/72 /home/wmnlab/E/database/2024-03-19/UDP_Bandlock_9S_Phone_BR/sm07/#01/data/handover_info_log.csv\n",
      "28/72 /home/wmnlab/E/database/2024-03-19/UDP_Bandlock_9S_Phone_BR/sm07/#01/data/udp_dnlk_loss_latency.csv\n",
      "28/72 /home/wmnlab/E/database/2024-03-19/UDP_Bandlock_9S_Phone_BR/sm07/#01/data/udp_uplk_loss_latency.csv\n",
      "29/72 /home/wmnlab/E/database/2024-03-19/UDP_Bandlock_9S_Phone_BR/sm04/#01/data/handover_info_log.csv\n",
      "29/72 /home/wmnlab/E/database/2024-03-19/UDP_Bandlock_9S_Phone_BR/sm04/#01/data/udp_dnlk_loss_latency.csv\n",
      "29/72 /home/wmnlab/E/database/2024-03-19/UDP_Bandlock_9S_Phone_BR/sm04/#01/data/udp_uplk_loss_latency.csv\n",
      "29/72 /home/wmnlab/E/database/2024-03-19/UDP_Bandlock_9S_Phone_BR/sm08/#01/data/handover_info_log.csv\n",
      "29/72 /home/wmnlab/E/database/2024-03-19/UDP_Bandlock_9S_Phone_BR/sm08/#01/data/udp_dnlk_loss_latency.csv\n",
      "29/72 /home/wmnlab/E/database/2024-03-19/UDP_Bandlock_9S_Phone_BR/sm08/#01/data/udp_uplk_loss_latency.csv\n",
      "30/72 /home/wmnlab/E/database/2024-03-19/UDP_Bandlock_9S_Phone_BR/sm05/#01/data/handover_info_log.csv\n",
      "30/72 /home/wmnlab/E/database/2024-03-19/UDP_Bandlock_9S_Phone_BR/sm05/#01/data/udp_dnlk_loss_latency.csv\n",
      "30/72 /home/wmnlab/E/database/2024-03-19/UDP_Bandlock_9S_Phone_BR/sm05/#01/data/udp_uplk_loss_latency.csv\n",
      "30/72 /home/wmnlab/E/database/2024-03-19/UDP_Bandlock_9S_Phone_BR/sm06/#01/data/handover_info_log.csv\n",
      "30/72 /home/wmnlab/E/database/2024-03-19/UDP_Bandlock_9S_Phone_BR/sm06/#01/data/udp_dnlk_loss_latency.csv\n",
      "30/72 /home/wmnlab/E/database/2024-03-19/UDP_Bandlock_9S_Phone_BR/sm06/#01/data/udp_uplk_loss_latency.csv\n",
      "31/72 /home/wmnlab/E/database/2024-03-19/UDP_Bandlock_9S_Phone_BR/sm05/#01/data/handover_info_log.csv\n",
      "31/72 /home/wmnlab/E/database/2024-03-19/UDP_Bandlock_9S_Phone_BR/sm05/#01/data/udp_dnlk_loss_latency.csv\n",
      "31/72 /home/wmnlab/E/database/2024-03-19/UDP_Bandlock_9S_Phone_BR/sm05/#01/data/udp_uplk_loss_latency.csv\n",
      "31/72 /home/wmnlab/E/database/2024-03-19/UDP_Bandlock_9S_Phone_BR/sm07/#01/data/handover_info_log.csv\n",
      "31/72 /home/wmnlab/E/database/2024-03-19/UDP_Bandlock_9S_Phone_BR/sm07/#01/data/udp_dnlk_loss_latency.csv\n",
      "31/72 /home/wmnlab/E/database/2024-03-19/UDP_Bandlock_9S_Phone_BR/sm07/#01/data/udp_uplk_loss_latency.csv\n",
      "32/72 /home/wmnlab/E/database/2024-03-19/UDP_Bandlock_9S_Phone_BR/sm05/#01/data/handover_info_log.csv\n",
      "32/72 /home/wmnlab/E/database/2024-03-19/UDP_Bandlock_9S_Phone_BR/sm05/#01/data/udp_dnlk_loss_latency.csv\n",
      "32/72 /home/wmnlab/E/database/2024-03-19/UDP_Bandlock_9S_Phone_BR/sm05/#01/data/udp_uplk_loss_latency.csv\n",
      "32/72 /home/wmnlab/E/database/2024-03-19/UDP_Bandlock_9S_Phone_BR/sm08/#01/data/handover_info_log.csv\n",
      "32/72 /home/wmnlab/E/database/2024-03-19/UDP_Bandlock_9S_Phone_BR/sm08/#01/data/udp_dnlk_loss_latency.csv\n",
      "32/72 /home/wmnlab/E/database/2024-03-19/UDP_Bandlock_9S_Phone_BR/sm08/#01/data/udp_uplk_loss_latency.csv\n",
      "33/72 /home/wmnlab/E/database/2024-03-19/UDP_Bandlock_9S_Phone_BR/sm06/#01/data/handover_info_log.csv\n",
      "33/72 /home/wmnlab/E/database/2024-03-19/UDP_Bandlock_9S_Phone_BR/sm06/#01/data/udp_dnlk_loss_latency.csv\n",
      "33/72 /home/wmnlab/E/database/2024-03-19/UDP_Bandlock_9S_Phone_BR/sm06/#01/data/udp_uplk_loss_latency.csv\n",
      "33/72 /home/wmnlab/E/database/2024-03-19/UDP_Bandlock_9S_Phone_BR/sm07/#01/data/handover_info_log.csv\n",
      "33/72 /home/wmnlab/E/database/2024-03-19/UDP_Bandlock_9S_Phone_BR/sm07/#01/data/udp_dnlk_loss_latency.csv\n",
      "33/72 /home/wmnlab/E/database/2024-03-19/UDP_Bandlock_9S_Phone_BR/sm07/#01/data/udp_uplk_loss_latency.csv\n",
      "34/72 /home/wmnlab/E/database/2024-03-19/UDP_Bandlock_9S_Phone_BR/sm06/#01/data/handover_info_log.csv\n",
      "34/72 /home/wmnlab/E/database/2024-03-19/UDP_Bandlock_9S_Phone_BR/sm06/#01/data/udp_dnlk_loss_latency.csv\n",
      "34/72 /home/wmnlab/E/database/2024-03-19/UDP_Bandlock_9S_Phone_BR/sm06/#01/data/udp_uplk_loss_latency.csv\n",
      "34/72 /home/wmnlab/E/database/2024-03-19/UDP_Bandlock_9S_Phone_BR/sm08/#01/data/handover_info_log.csv\n",
      "34/72 /home/wmnlab/E/database/2024-03-19/UDP_Bandlock_9S_Phone_BR/sm08/#01/data/udp_dnlk_loss_latency.csv\n",
      "34/72 /home/wmnlab/E/database/2024-03-19/UDP_Bandlock_9S_Phone_BR/sm08/#01/data/udp_uplk_loss_latency.csv\n",
      "35/72 /home/wmnlab/E/database/2024-03-19/UDP_Bandlock_9S_Phone_BR/sm07/#01/data/handover_info_log.csv\n",
      "35/72 /home/wmnlab/E/database/2024-03-19/UDP_Bandlock_9S_Phone_BR/sm07/#01/data/udp_dnlk_loss_latency.csv\n",
      "35/72 /home/wmnlab/E/database/2024-03-19/UDP_Bandlock_9S_Phone_BR/sm07/#01/data/udp_uplk_loss_latency.csv\n",
      "35/72 /home/wmnlab/E/database/2024-03-19/UDP_Bandlock_9S_Phone_BR/sm08/#01/data/handover_info_log.csv\n",
      "35/72 /home/wmnlab/E/database/2024-03-19/UDP_Bandlock_9S_Phone_BR/sm08/#01/data/udp_dnlk_loss_latency.csv\n",
      "35/72 /home/wmnlab/E/database/2024-03-19/UDP_Bandlock_9S_Phone_BR/sm08/#01/data/udp_uplk_loss_latency.csv\n",
      "36/72 /home/wmnlab/E/database/2024-03-19/UDP_Bandlock_9S_Phone_BR/sm00/#02/data/handover_info_log.csv\n",
      "36/72 /home/wmnlab/E/database/2024-03-19/UDP_Bandlock_9S_Phone_BR/sm00/#02/data/udp_dnlk_loss_latency.csv\n",
      "36/72 /home/wmnlab/E/database/2024-03-19/UDP_Bandlock_9S_Phone_BR/sm00/#02/data/udp_uplk_loss_latency.csv\n",
      "36/72 /home/wmnlab/E/database/2024-03-19/UDP_Bandlock_9S_Phone_BR/sm01/#02/data/handover_info_log.csv\n",
      "36/72 /home/wmnlab/E/database/2024-03-19/UDP_Bandlock_9S_Phone_BR/sm01/#02/data/udp_dnlk_loss_latency.csv\n",
      "36/72 /home/wmnlab/E/database/2024-03-19/UDP_Bandlock_9S_Phone_BR/sm01/#02/data/udp_uplk_loss_latency.csv\n",
      "37/72 /home/wmnlab/E/database/2024-03-19/UDP_Bandlock_9S_Phone_BR/sm00/#02/data/handover_info_log.csv\n",
      "37/72 /home/wmnlab/E/database/2024-03-19/UDP_Bandlock_9S_Phone_BR/sm00/#02/data/udp_dnlk_loss_latency.csv\n",
      "37/72 /home/wmnlab/E/database/2024-03-19/UDP_Bandlock_9S_Phone_BR/sm00/#02/data/udp_uplk_loss_latency.csv\n",
      "37/72 /home/wmnlab/E/database/2024-03-19/UDP_Bandlock_9S_Phone_BR/sm02/#02/data/handover_info_log.csv\n",
      "37/72 /home/wmnlab/E/database/2024-03-19/UDP_Bandlock_9S_Phone_BR/sm02/#02/data/udp_dnlk_loss_latency.csv\n",
      "37/72 /home/wmnlab/E/database/2024-03-19/UDP_Bandlock_9S_Phone_BR/sm02/#02/data/udp_uplk_loss_latency.csv\n",
      "38/72 /home/wmnlab/E/database/2024-03-19/UDP_Bandlock_9S_Phone_BR/sm00/#02/data/handover_info_log.csv\n",
      "38/72 /home/wmnlab/E/database/2024-03-19/UDP_Bandlock_9S_Phone_BR/sm00/#02/data/udp_dnlk_loss_latency.csv\n",
      "38/72 /home/wmnlab/E/database/2024-03-19/UDP_Bandlock_9S_Phone_BR/sm00/#02/data/udp_uplk_loss_latency.csv\n",
      "38/72 /home/wmnlab/E/database/2024-03-19/UDP_Bandlock_9S_Phone_BR/sm03/#02/data/handover_info_log.csv\n",
      "38/72 /home/wmnlab/E/database/2024-03-19/UDP_Bandlock_9S_Phone_BR/sm03/#02/data/udp_dnlk_loss_latency.csv\n",
      "38/72 /home/wmnlab/E/database/2024-03-19/UDP_Bandlock_9S_Phone_BR/sm03/#02/data/udp_uplk_loss_latency.csv\n",
      "39/72 /home/wmnlab/E/database/2024-03-19/UDP_Bandlock_9S_Phone_BR/sm00/#02/data/handover_info_log.csv\n",
      "39/72 /home/wmnlab/E/database/2024-03-19/UDP_Bandlock_9S_Phone_BR/sm00/#02/data/udp_dnlk_loss_latency.csv\n",
      "39/72 /home/wmnlab/E/database/2024-03-19/UDP_Bandlock_9S_Phone_BR/sm00/#02/data/udp_uplk_loss_latency.csv\n",
      "39/72 /home/wmnlab/E/database/2024-03-19/UDP_Bandlock_9S_Phone_BR/sm04/#02/data/handover_info_log.csv\n",
      "39/72 /home/wmnlab/E/database/2024-03-19/UDP_Bandlock_9S_Phone_BR/sm04/#02/data/udp_dnlk_loss_latency.csv\n",
      "39/72 /home/wmnlab/E/database/2024-03-19/UDP_Bandlock_9S_Phone_BR/sm04/#02/data/udp_uplk_loss_latency.csv\n",
      "40/72 /home/wmnlab/E/database/2024-03-19/UDP_Bandlock_9S_Phone_BR/sm00/#02/data/handover_info_log.csv\n",
      "40/72 /home/wmnlab/E/database/2024-03-19/UDP_Bandlock_9S_Phone_BR/sm00/#02/data/udp_dnlk_loss_latency.csv\n",
      "40/72 /home/wmnlab/E/database/2024-03-19/UDP_Bandlock_9S_Phone_BR/sm00/#02/data/udp_uplk_loss_latency.csv\n",
      "40/72 /home/wmnlab/E/database/2024-03-19/UDP_Bandlock_9S_Phone_BR/sm05/#02/data/handover_info_log.csv\n",
      "40/72 /home/wmnlab/E/database/2024-03-19/UDP_Bandlock_9S_Phone_BR/sm05/#02/data/udp_dnlk_loss_latency.csv\n",
      "40/72 /home/wmnlab/E/database/2024-03-19/UDP_Bandlock_9S_Phone_BR/sm05/#02/data/udp_uplk_loss_latency.csv\n",
      "41/72 /home/wmnlab/E/database/2024-03-19/UDP_Bandlock_9S_Phone_BR/sm00/#02/data/handover_info_log.csv\n",
      "41/72 /home/wmnlab/E/database/2024-03-19/UDP_Bandlock_9S_Phone_BR/sm00/#02/data/udp_dnlk_loss_latency.csv\n",
      "41/72 /home/wmnlab/E/database/2024-03-19/UDP_Bandlock_9S_Phone_BR/sm00/#02/data/udp_uplk_loss_latency.csv\n",
      "41/72 /home/wmnlab/E/database/2024-03-19/UDP_Bandlock_9S_Phone_BR/sm06/#02/data/handover_info_log.csv\n",
      "41/72 /home/wmnlab/E/database/2024-03-19/UDP_Bandlock_9S_Phone_BR/sm06/#02/data/udp_dnlk_loss_latency.csv\n",
      "41/72 /home/wmnlab/E/database/2024-03-19/UDP_Bandlock_9S_Phone_BR/sm06/#02/data/udp_uplk_loss_latency.csv\n",
      "42/72 /home/wmnlab/E/database/2024-03-19/UDP_Bandlock_9S_Phone_BR/sm00/#02/data/handover_info_log.csv\n",
      "42/72 /home/wmnlab/E/database/2024-03-19/UDP_Bandlock_9S_Phone_BR/sm00/#02/data/udp_dnlk_loss_latency.csv\n",
      "42/72 /home/wmnlab/E/database/2024-03-19/UDP_Bandlock_9S_Phone_BR/sm00/#02/data/udp_uplk_loss_latency.csv\n",
      "42/72 /home/wmnlab/E/database/2024-03-19/UDP_Bandlock_9S_Phone_BR/sm07/#02/data/handover_info_log.csv\n",
      "42/72 /home/wmnlab/E/database/2024-03-19/UDP_Bandlock_9S_Phone_BR/sm07/#02/data/udp_dnlk_loss_latency.csv\n",
      "42/72 /home/wmnlab/E/database/2024-03-19/UDP_Bandlock_9S_Phone_BR/sm07/#02/data/udp_uplk_loss_latency.csv\n",
      "43/72 /home/wmnlab/E/database/2024-03-19/UDP_Bandlock_9S_Phone_BR/sm00/#02/data/handover_info_log.csv\n",
      "43/72 /home/wmnlab/E/database/2024-03-19/UDP_Bandlock_9S_Phone_BR/sm00/#02/data/udp_dnlk_loss_latency.csv\n",
      "43/72 /home/wmnlab/E/database/2024-03-19/UDP_Bandlock_9S_Phone_BR/sm00/#02/data/udp_uplk_loss_latency.csv\n",
      "43/72 /home/wmnlab/E/database/2024-03-19/UDP_Bandlock_9S_Phone_BR/sm08/#02/data/handover_info_log.csv\n",
      "43/72 /home/wmnlab/E/database/2024-03-19/UDP_Bandlock_9S_Phone_BR/sm08/#02/data/udp_dnlk_loss_latency.csv\n",
      "43/72 /home/wmnlab/E/database/2024-03-19/UDP_Bandlock_9S_Phone_BR/sm08/#02/data/udp_uplk_loss_latency.csv\n",
      "44/72 /home/wmnlab/E/database/2024-03-19/UDP_Bandlock_9S_Phone_BR/sm01/#02/data/handover_info_log.csv\n",
      "44/72 /home/wmnlab/E/database/2024-03-19/UDP_Bandlock_9S_Phone_BR/sm01/#02/data/udp_dnlk_loss_latency.csv\n",
      "44/72 /home/wmnlab/E/database/2024-03-19/UDP_Bandlock_9S_Phone_BR/sm01/#02/data/udp_uplk_loss_latency.csv\n",
      "44/72 /home/wmnlab/E/database/2024-03-19/UDP_Bandlock_9S_Phone_BR/sm02/#02/data/handover_info_log.csv\n",
      "44/72 /home/wmnlab/E/database/2024-03-19/UDP_Bandlock_9S_Phone_BR/sm02/#02/data/udp_dnlk_loss_latency.csv\n",
      "44/72 /home/wmnlab/E/database/2024-03-19/UDP_Bandlock_9S_Phone_BR/sm02/#02/data/udp_uplk_loss_latency.csv\n",
      "45/72 /home/wmnlab/E/database/2024-03-19/UDP_Bandlock_9S_Phone_BR/sm01/#02/data/handover_info_log.csv\n",
      "45/72 /home/wmnlab/E/database/2024-03-19/UDP_Bandlock_9S_Phone_BR/sm01/#02/data/udp_dnlk_loss_latency.csv\n",
      "45/72 /home/wmnlab/E/database/2024-03-19/UDP_Bandlock_9S_Phone_BR/sm01/#02/data/udp_uplk_loss_latency.csv\n",
      "45/72 /home/wmnlab/E/database/2024-03-19/UDP_Bandlock_9S_Phone_BR/sm03/#02/data/handover_info_log.csv\n",
      "45/72 /home/wmnlab/E/database/2024-03-19/UDP_Bandlock_9S_Phone_BR/sm03/#02/data/udp_dnlk_loss_latency.csv\n",
      "45/72 /home/wmnlab/E/database/2024-03-19/UDP_Bandlock_9S_Phone_BR/sm03/#02/data/udp_uplk_loss_latency.csv\n",
      "46/72 /home/wmnlab/E/database/2024-03-19/UDP_Bandlock_9S_Phone_BR/sm01/#02/data/handover_info_log.csv\n",
      "46/72 /home/wmnlab/E/database/2024-03-19/UDP_Bandlock_9S_Phone_BR/sm01/#02/data/udp_dnlk_loss_latency.csv\n",
      "46/72 /home/wmnlab/E/database/2024-03-19/UDP_Bandlock_9S_Phone_BR/sm01/#02/data/udp_uplk_loss_latency.csv\n",
      "46/72 /home/wmnlab/E/database/2024-03-19/UDP_Bandlock_9S_Phone_BR/sm04/#02/data/handover_info_log.csv\n",
      "46/72 /home/wmnlab/E/database/2024-03-19/UDP_Bandlock_9S_Phone_BR/sm04/#02/data/udp_dnlk_loss_latency.csv\n",
      "46/72 /home/wmnlab/E/database/2024-03-19/UDP_Bandlock_9S_Phone_BR/sm04/#02/data/udp_uplk_loss_latency.csv\n",
      "47/72 /home/wmnlab/E/database/2024-03-19/UDP_Bandlock_9S_Phone_BR/sm01/#02/data/handover_info_log.csv\n",
      "47/72 /home/wmnlab/E/database/2024-03-19/UDP_Bandlock_9S_Phone_BR/sm01/#02/data/udp_dnlk_loss_latency.csv\n",
      "47/72 /home/wmnlab/E/database/2024-03-19/UDP_Bandlock_9S_Phone_BR/sm01/#02/data/udp_uplk_loss_latency.csv\n",
      "47/72 /home/wmnlab/E/database/2024-03-19/UDP_Bandlock_9S_Phone_BR/sm05/#02/data/handover_info_log.csv\n",
      "47/72 /home/wmnlab/E/database/2024-03-19/UDP_Bandlock_9S_Phone_BR/sm05/#02/data/udp_dnlk_loss_latency.csv\n",
      "47/72 /home/wmnlab/E/database/2024-03-19/UDP_Bandlock_9S_Phone_BR/sm05/#02/data/udp_uplk_loss_latency.csv\n",
      "48/72 /home/wmnlab/E/database/2024-03-19/UDP_Bandlock_9S_Phone_BR/sm01/#02/data/handover_info_log.csv\n",
      "48/72 /home/wmnlab/E/database/2024-03-19/UDP_Bandlock_9S_Phone_BR/sm01/#02/data/udp_dnlk_loss_latency.csv\n",
      "48/72 /home/wmnlab/E/database/2024-03-19/UDP_Bandlock_9S_Phone_BR/sm01/#02/data/udp_uplk_loss_latency.csv\n",
      "48/72 /home/wmnlab/E/database/2024-03-19/UDP_Bandlock_9S_Phone_BR/sm06/#02/data/handover_info_log.csv\n",
      "48/72 /home/wmnlab/E/database/2024-03-19/UDP_Bandlock_9S_Phone_BR/sm06/#02/data/udp_dnlk_loss_latency.csv\n",
      "48/72 /home/wmnlab/E/database/2024-03-19/UDP_Bandlock_9S_Phone_BR/sm06/#02/data/udp_uplk_loss_latency.csv\n",
      "49/72 /home/wmnlab/E/database/2024-03-19/UDP_Bandlock_9S_Phone_BR/sm01/#02/data/handover_info_log.csv\n",
      "49/72 /home/wmnlab/E/database/2024-03-19/UDP_Bandlock_9S_Phone_BR/sm01/#02/data/udp_dnlk_loss_latency.csv\n",
      "49/72 /home/wmnlab/E/database/2024-03-19/UDP_Bandlock_9S_Phone_BR/sm01/#02/data/udp_uplk_loss_latency.csv\n",
      "49/72 /home/wmnlab/E/database/2024-03-19/UDP_Bandlock_9S_Phone_BR/sm07/#02/data/handover_info_log.csv\n",
      "49/72 /home/wmnlab/E/database/2024-03-19/UDP_Bandlock_9S_Phone_BR/sm07/#02/data/udp_dnlk_loss_latency.csv\n",
      "49/72 /home/wmnlab/E/database/2024-03-19/UDP_Bandlock_9S_Phone_BR/sm07/#02/data/udp_uplk_loss_latency.csv\n",
      "50/72 /home/wmnlab/E/database/2024-03-19/UDP_Bandlock_9S_Phone_BR/sm01/#02/data/handover_info_log.csv\n",
      "50/72 /home/wmnlab/E/database/2024-03-19/UDP_Bandlock_9S_Phone_BR/sm01/#02/data/udp_dnlk_loss_latency.csv\n",
      "50/72 /home/wmnlab/E/database/2024-03-19/UDP_Bandlock_9S_Phone_BR/sm01/#02/data/udp_uplk_loss_latency.csv\n",
      "50/72 /home/wmnlab/E/database/2024-03-19/UDP_Bandlock_9S_Phone_BR/sm08/#02/data/handover_info_log.csv\n",
      "50/72 /home/wmnlab/E/database/2024-03-19/UDP_Bandlock_9S_Phone_BR/sm08/#02/data/udp_dnlk_loss_latency.csv\n",
      "50/72 /home/wmnlab/E/database/2024-03-19/UDP_Bandlock_9S_Phone_BR/sm08/#02/data/udp_uplk_loss_latency.csv\n",
      "51/72 /home/wmnlab/E/database/2024-03-19/UDP_Bandlock_9S_Phone_BR/sm02/#02/data/handover_info_log.csv\n",
      "51/72 /home/wmnlab/E/database/2024-03-19/UDP_Bandlock_9S_Phone_BR/sm02/#02/data/udp_dnlk_loss_latency.csv\n",
      "51/72 /home/wmnlab/E/database/2024-03-19/UDP_Bandlock_9S_Phone_BR/sm02/#02/data/udp_uplk_loss_latency.csv\n",
      "51/72 /home/wmnlab/E/database/2024-03-19/UDP_Bandlock_9S_Phone_BR/sm03/#02/data/handover_info_log.csv\n",
      "51/72 /home/wmnlab/E/database/2024-03-19/UDP_Bandlock_9S_Phone_BR/sm03/#02/data/udp_dnlk_loss_latency.csv\n",
      "51/72 /home/wmnlab/E/database/2024-03-19/UDP_Bandlock_9S_Phone_BR/sm03/#02/data/udp_uplk_loss_latency.csv\n",
      "52/72 /home/wmnlab/E/database/2024-03-19/UDP_Bandlock_9S_Phone_BR/sm02/#02/data/handover_info_log.csv\n",
      "52/72 /home/wmnlab/E/database/2024-03-19/UDP_Bandlock_9S_Phone_BR/sm02/#02/data/udp_dnlk_loss_latency.csv\n",
      "52/72 /home/wmnlab/E/database/2024-03-19/UDP_Bandlock_9S_Phone_BR/sm02/#02/data/udp_uplk_loss_latency.csv\n",
      "52/72 /home/wmnlab/E/database/2024-03-19/UDP_Bandlock_9S_Phone_BR/sm04/#02/data/handover_info_log.csv\n",
      "52/72 /home/wmnlab/E/database/2024-03-19/UDP_Bandlock_9S_Phone_BR/sm04/#02/data/udp_dnlk_loss_latency.csv\n",
      "52/72 /home/wmnlab/E/database/2024-03-19/UDP_Bandlock_9S_Phone_BR/sm04/#02/data/udp_uplk_loss_latency.csv\n",
      "53/72 /home/wmnlab/E/database/2024-03-19/UDP_Bandlock_9S_Phone_BR/sm02/#02/data/handover_info_log.csv\n",
      "53/72 /home/wmnlab/E/database/2024-03-19/UDP_Bandlock_9S_Phone_BR/sm02/#02/data/udp_dnlk_loss_latency.csv\n",
      "53/72 /home/wmnlab/E/database/2024-03-19/UDP_Bandlock_9S_Phone_BR/sm02/#02/data/udp_uplk_loss_latency.csv\n",
      "53/72 /home/wmnlab/E/database/2024-03-19/UDP_Bandlock_9S_Phone_BR/sm05/#02/data/handover_info_log.csv\n",
      "53/72 /home/wmnlab/E/database/2024-03-19/UDP_Bandlock_9S_Phone_BR/sm05/#02/data/udp_dnlk_loss_latency.csv\n",
      "53/72 /home/wmnlab/E/database/2024-03-19/UDP_Bandlock_9S_Phone_BR/sm05/#02/data/udp_uplk_loss_latency.csv\n",
      "54/72 /home/wmnlab/E/database/2024-03-19/UDP_Bandlock_9S_Phone_BR/sm02/#02/data/handover_info_log.csv\n",
      "54/72 /home/wmnlab/E/database/2024-03-19/UDP_Bandlock_9S_Phone_BR/sm02/#02/data/udp_dnlk_loss_latency.csv\n",
      "54/72 /home/wmnlab/E/database/2024-03-19/UDP_Bandlock_9S_Phone_BR/sm02/#02/data/udp_uplk_loss_latency.csv\n",
      "54/72 /home/wmnlab/E/database/2024-03-19/UDP_Bandlock_9S_Phone_BR/sm06/#02/data/handover_info_log.csv\n",
      "54/72 /home/wmnlab/E/database/2024-03-19/UDP_Bandlock_9S_Phone_BR/sm06/#02/data/udp_dnlk_loss_latency.csv\n",
      "54/72 /home/wmnlab/E/database/2024-03-19/UDP_Bandlock_9S_Phone_BR/sm06/#02/data/udp_uplk_loss_latency.csv\n",
      "55/72 /home/wmnlab/E/database/2024-03-19/UDP_Bandlock_9S_Phone_BR/sm02/#02/data/handover_info_log.csv\n",
      "55/72 /home/wmnlab/E/database/2024-03-19/UDP_Bandlock_9S_Phone_BR/sm02/#02/data/udp_dnlk_loss_latency.csv\n",
      "55/72 /home/wmnlab/E/database/2024-03-19/UDP_Bandlock_9S_Phone_BR/sm02/#02/data/udp_uplk_loss_latency.csv\n",
      "55/72 /home/wmnlab/E/database/2024-03-19/UDP_Bandlock_9S_Phone_BR/sm07/#02/data/handover_info_log.csv\n",
      "55/72 /home/wmnlab/E/database/2024-03-19/UDP_Bandlock_9S_Phone_BR/sm07/#02/data/udp_dnlk_loss_latency.csv\n",
      "55/72 /home/wmnlab/E/database/2024-03-19/UDP_Bandlock_9S_Phone_BR/sm07/#02/data/udp_uplk_loss_latency.csv\n",
      "56/72 /home/wmnlab/E/database/2024-03-19/UDP_Bandlock_9S_Phone_BR/sm02/#02/data/handover_info_log.csv\n",
      "56/72 /home/wmnlab/E/database/2024-03-19/UDP_Bandlock_9S_Phone_BR/sm02/#02/data/udp_dnlk_loss_latency.csv\n",
      "56/72 /home/wmnlab/E/database/2024-03-19/UDP_Bandlock_9S_Phone_BR/sm02/#02/data/udp_uplk_loss_latency.csv\n",
      "56/72 /home/wmnlab/E/database/2024-03-19/UDP_Bandlock_9S_Phone_BR/sm08/#02/data/handover_info_log.csv\n",
      "56/72 /home/wmnlab/E/database/2024-03-19/UDP_Bandlock_9S_Phone_BR/sm08/#02/data/udp_dnlk_loss_latency.csv\n",
      "56/72 /home/wmnlab/E/database/2024-03-19/UDP_Bandlock_9S_Phone_BR/sm08/#02/data/udp_uplk_loss_latency.csv\n",
      "57/72 /home/wmnlab/E/database/2024-03-19/UDP_Bandlock_9S_Phone_BR/sm03/#02/data/handover_info_log.csv\n",
      "57/72 /home/wmnlab/E/database/2024-03-19/UDP_Bandlock_9S_Phone_BR/sm03/#02/data/udp_dnlk_loss_latency.csv\n",
      "57/72 /home/wmnlab/E/database/2024-03-19/UDP_Bandlock_9S_Phone_BR/sm03/#02/data/udp_uplk_loss_latency.csv\n",
      "57/72 /home/wmnlab/E/database/2024-03-19/UDP_Bandlock_9S_Phone_BR/sm04/#02/data/handover_info_log.csv\n",
      "57/72 /home/wmnlab/E/database/2024-03-19/UDP_Bandlock_9S_Phone_BR/sm04/#02/data/udp_dnlk_loss_latency.csv\n",
      "57/72 /home/wmnlab/E/database/2024-03-19/UDP_Bandlock_9S_Phone_BR/sm04/#02/data/udp_uplk_loss_latency.csv\n",
      "58/72 /home/wmnlab/E/database/2024-03-19/UDP_Bandlock_9S_Phone_BR/sm03/#02/data/handover_info_log.csv\n",
      "58/72 /home/wmnlab/E/database/2024-03-19/UDP_Bandlock_9S_Phone_BR/sm03/#02/data/udp_dnlk_loss_latency.csv\n",
      "58/72 /home/wmnlab/E/database/2024-03-19/UDP_Bandlock_9S_Phone_BR/sm03/#02/data/udp_uplk_loss_latency.csv\n",
      "58/72 /home/wmnlab/E/database/2024-03-19/UDP_Bandlock_9S_Phone_BR/sm05/#02/data/handover_info_log.csv\n",
      "58/72 /home/wmnlab/E/database/2024-03-19/UDP_Bandlock_9S_Phone_BR/sm05/#02/data/udp_dnlk_loss_latency.csv\n",
      "58/72 /home/wmnlab/E/database/2024-03-19/UDP_Bandlock_9S_Phone_BR/sm05/#02/data/udp_uplk_loss_latency.csv\n",
      "59/72 /home/wmnlab/E/database/2024-03-19/UDP_Bandlock_9S_Phone_BR/sm03/#02/data/handover_info_log.csv\n",
      "59/72 /home/wmnlab/E/database/2024-03-19/UDP_Bandlock_9S_Phone_BR/sm03/#02/data/udp_dnlk_loss_latency.csv\n",
      "59/72 /home/wmnlab/E/database/2024-03-19/UDP_Bandlock_9S_Phone_BR/sm03/#02/data/udp_uplk_loss_latency.csv\n",
      "59/72 /home/wmnlab/E/database/2024-03-19/UDP_Bandlock_9S_Phone_BR/sm06/#02/data/handover_info_log.csv\n",
      "59/72 /home/wmnlab/E/database/2024-03-19/UDP_Bandlock_9S_Phone_BR/sm06/#02/data/udp_dnlk_loss_latency.csv\n",
      "59/72 /home/wmnlab/E/database/2024-03-19/UDP_Bandlock_9S_Phone_BR/sm06/#02/data/udp_uplk_loss_latency.csv\n",
      "60/72 /home/wmnlab/E/database/2024-03-19/UDP_Bandlock_9S_Phone_BR/sm03/#02/data/handover_info_log.csv\n",
      "60/72 /home/wmnlab/E/database/2024-03-19/UDP_Bandlock_9S_Phone_BR/sm03/#02/data/udp_dnlk_loss_latency.csv\n",
      "60/72 /home/wmnlab/E/database/2024-03-19/UDP_Bandlock_9S_Phone_BR/sm03/#02/data/udp_uplk_loss_latency.csv\n",
      "60/72 /home/wmnlab/E/database/2024-03-19/UDP_Bandlock_9S_Phone_BR/sm07/#02/data/handover_info_log.csv\n",
      "60/72 /home/wmnlab/E/database/2024-03-19/UDP_Bandlock_9S_Phone_BR/sm07/#02/data/udp_dnlk_loss_latency.csv\n",
      "60/72 /home/wmnlab/E/database/2024-03-19/UDP_Bandlock_9S_Phone_BR/sm07/#02/data/udp_uplk_loss_latency.csv\n",
      "61/72 /home/wmnlab/E/database/2024-03-19/UDP_Bandlock_9S_Phone_BR/sm03/#02/data/handover_info_log.csv\n",
      "61/72 /home/wmnlab/E/database/2024-03-19/UDP_Bandlock_9S_Phone_BR/sm03/#02/data/udp_dnlk_loss_latency.csv\n",
      "61/72 /home/wmnlab/E/database/2024-03-19/UDP_Bandlock_9S_Phone_BR/sm03/#02/data/udp_uplk_loss_latency.csv\n",
      "61/72 /home/wmnlab/E/database/2024-03-19/UDP_Bandlock_9S_Phone_BR/sm08/#02/data/handover_info_log.csv\n",
      "61/72 /home/wmnlab/E/database/2024-03-19/UDP_Bandlock_9S_Phone_BR/sm08/#02/data/udp_dnlk_loss_latency.csv\n",
      "61/72 /home/wmnlab/E/database/2024-03-19/UDP_Bandlock_9S_Phone_BR/sm08/#02/data/udp_uplk_loss_latency.csv\n",
      "62/72 /home/wmnlab/E/database/2024-03-19/UDP_Bandlock_9S_Phone_BR/sm04/#02/data/handover_info_log.csv\n",
      "62/72 /home/wmnlab/E/database/2024-03-19/UDP_Bandlock_9S_Phone_BR/sm04/#02/data/udp_dnlk_loss_latency.csv\n",
      "62/72 /home/wmnlab/E/database/2024-03-19/UDP_Bandlock_9S_Phone_BR/sm04/#02/data/udp_uplk_loss_latency.csv\n",
      "62/72 /home/wmnlab/E/database/2024-03-19/UDP_Bandlock_9S_Phone_BR/sm05/#02/data/handover_info_log.csv\n",
      "62/72 /home/wmnlab/E/database/2024-03-19/UDP_Bandlock_9S_Phone_BR/sm05/#02/data/udp_dnlk_loss_latency.csv\n",
      "62/72 /home/wmnlab/E/database/2024-03-19/UDP_Bandlock_9S_Phone_BR/sm05/#02/data/udp_uplk_loss_latency.csv\n",
      "63/72 /home/wmnlab/E/database/2024-03-19/UDP_Bandlock_9S_Phone_BR/sm04/#02/data/handover_info_log.csv\n",
      "63/72 /home/wmnlab/E/database/2024-03-19/UDP_Bandlock_9S_Phone_BR/sm04/#02/data/udp_dnlk_loss_latency.csv\n",
      "63/72 /home/wmnlab/E/database/2024-03-19/UDP_Bandlock_9S_Phone_BR/sm04/#02/data/udp_uplk_loss_latency.csv\n",
      "63/72 /home/wmnlab/E/database/2024-03-19/UDP_Bandlock_9S_Phone_BR/sm06/#02/data/handover_info_log.csv\n",
      "63/72 /home/wmnlab/E/database/2024-03-19/UDP_Bandlock_9S_Phone_BR/sm06/#02/data/udp_dnlk_loss_latency.csv\n",
      "63/72 /home/wmnlab/E/database/2024-03-19/UDP_Bandlock_9S_Phone_BR/sm06/#02/data/udp_uplk_loss_latency.csv\n",
      "64/72 /home/wmnlab/E/database/2024-03-19/UDP_Bandlock_9S_Phone_BR/sm04/#02/data/handover_info_log.csv\n",
      "64/72 /home/wmnlab/E/database/2024-03-19/UDP_Bandlock_9S_Phone_BR/sm04/#02/data/udp_dnlk_loss_latency.csv\n",
      "64/72 /home/wmnlab/E/database/2024-03-19/UDP_Bandlock_9S_Phone_BR/sm04/#02/data/udp_uplk_loss_latency.csv\n",
      "64/72 /home/wmnlab/E/database/2024-03-19/UDP_Bandlock_9S_Phone_BR/sm07/#02/data/handover_info_log.csv\n",
      "64/72 /home/wmnlab/E/database/2024-03-19/UDP_Bandlock_9S_Phone_BR/sm07/#02/data/udp_dnlk_loss_latency.csv\n",
      "64/72 /home/wmnlab/E/database/2024-03-19/UDP_Bandlock_9S_Phone_BR/sm07/#02/data/udp_uplk_loss_latency.csv\n",
      "65/72 /home/wmnlab/E/database/2024-03-19/UDP_Bandlock_9S_Phone_BR/sm04/#02/data/handover_info_log.csv\n",
      "65/72 /home/wmnlab/E/database/2024-03-19/UDP_Bandlock_9S_Phone_BR/sm04/#02/data/udp_dnlk_loss_latency.csv\n",
      "65/72 /home/wmnlab/E/database/2024-03-19/UDP_Bandlock_9S_Phone_BR/sm04/#02/data/udp_uplk_loss_latency.csv\n",
      "65/72 /home/wmnlab/E/database/2024-03-19/UDP_Bandlock_9S_Phone_BR/sm08/#02/data/handover_info_log.csv\n",
      "65/72 /home/wmnlab/E/database/2024-03-19/UDP_Bandlock_9S_Phone_BR/sm08/#02/data/udp_dnlk_loss_latency.csv\n",
      "65/72 /home/wmnlab/E/database/2024-03-19/UDP_Bandlock_9S_Phone_BR/sm08/#02/data/udp_uplk_loss_latency.csv\n",
      "66/72 /home/wmnlab/E/database/2024-03-19/UDP_Bandlock_9S_Phone_BR/sm05/#02/data/handover_info_log.csv\n",
      "66/72 /home/wmnlab/E/database/2024-03-19/UDP_Bandlock_9S_Phone_BR/sm05/#02/data/udp_dnlk_loss_latency.csv\n",
      "66/72 /home/wmnlab/E/database/2024-03-19/UDP_Bandlock_9S_Phone_BR/sm05/#02/data/udp_uplk_loss_latency.csv\n",
      "66/72 /home/wmnlab/E/database/2024-03-19/UDP_Bandlock_9S_Phone_BR/sm06/#02/data/handover_info_log.csv\n",
      "66/72 /home/wmnlab/E/database/2024-03-19/UDP_Bandlock_9S_Phone_BR/sm06/#02/data/udp_dnlk_loss_latency.csv\n",
      "66/72 /home/wmnlab/E/database/2024-03-19/UDP_Bandlock_9S_Phone_BR/sm06/#02/data/udp_uplk_loss_latency.csv\n",
      "67/72 /home/wmnlab/E/database/2024-03-19/UDP_Bandlock_9S_Phone_BR/sm05/#02/data/handover_info_log.csv\n",
      "67/72 /home/wmnlab/E/database/2024-03-19/UDP_Bandlock_9S_Phone_BR/sm05/#02/data/udp_dnlk_loss_latency.csv\n",
      "67/72 /home/wmnlab/E/database/2024-03-19/UDP_Bandlock_9S_Phone_BR/sm05/#02/data/udp_uplk_loss_latency.csv\n",
      "67/72 /home/wmnlab/E/database/2024-03-19/UDP_Bandlock_9S_Phone_BR/sm07/#02/data/handover_info_log.csv\n",
      "67/72 /home/wmnlab/E/database/2024-03-19/UDP_Bandlock_9S_Phone_BR/sm07/#02/data/udp_dnlk_loss_latency.csv\n",
      "67/72 /home/wmnlab/E/database/2024-03-19/UDP_Bandlock_9S_Phone_BR/sm07/#02/data/udp_uplk_loss_latency.csv\n",
      "68/72 /home/wmnlab/E/database/2024-03-19/UDP_Bandlock_9S_Phone_BR/sm05/#02/data/handover_info_log.csv\n",
      "68/72 /home/wmnlab/E/database/2024-03-19/UDP_Bandlock_9S_Phone_BR/sm05/#02/data/udp_dnlk_loss_latency.csv\n",
      "68/72 /home/wmnlab/E/database/2024-03-19/UDP_Bandlock_9S_Phone_BR/sm05/#02/data/udp_uplk_loss_latency.csv\n",
      "68/72 /home/wmnlab/E/database/2024-03-19/UDP_Bandlock_9S_Phone_BR/sm08/#02/data/handover_info_log.csv\n",
      "68/72 /home/wmnlab/E/database/2024-03-19/UDP_Bandlock_9S_Phone_BR/sm08/#02/data/udp_dnlk_loss_latency.csv\n",
      "68/72 /home/wmnlab/E/database/2024-03-19/UDP_Bandlock_9S_Phone_BR/sm08/#02/data/udp_uplk_loss_latency.csv\n",
      "69/72 /home/wmnlab/E/database/2024-03-19/UDP_Bandlock_9S_Phone_BR/sm06/#02/data/handover_info_log.csv\n",
      "69/72 /home/wmnlab/E/database/2024-03-19/UDP_Bandlock_9S_Phone_BR/sm06/#02/data/udp_dnlk_loss_latency.csv\n",
      "69/72 /home/wmnlab/E/database/2024-03-19/UDP_Bandlock_9S_Phone_BR/sm06/#02/data/udp_uplk_loss_latency.csv\n",
      "69/72 /home/wmnlab/E/database/2024-03-19/UDP_Bandlock_9S_Phone_BR/sm07/#02/data/handover_info_log.csv\n",
      "69/72 /home/wmnlab/E/database/2024-03-19/UDP_Bandlock_9S_Phone_BR/sm07/#02/data/udp_dnlk_loss_latency.csv\n",
      "69/72 /home/wmnlab/E/database/2024-03-19/UDP_Bandlock_9S_Phone_BR/sm07/#02/data/udp_uplk_loss_latency.csv\n",
      "70/72 /home/wmnlab/E/database/2024-03-19/UDP_Bandlock_9S_Phone_BR/sm06/#02/data/handover_info_log.csv\n",
      "70/72 /home/wmnlab/E/database/2024-03-19/UDP_Bandlock_9S_Phone_BR/sm06/#02/data/udp_dnlk_loss_latency.csv\n",
      "70/72 /home/wmnlab/E/database/2024-03-19/UDP_Bandlock_9S_Phone_BR/sm06/#02/data/udp_uplk_loss_latency.csv\n",
      "70/72 /home/wmnlab/E/database/2024-03-19/UDP_Bandlock_9S_Phone_BR/sm08/#02/data/handover_info_log.csv\n",
      "70/72 /home/wmnlab/E/database/2024-03-19/UDP_Bandlock_9S_Phone_BR/sm08/#02/data/udp_dnlk_loss_latency.csv\n",
      "70/72 /home/wmnlab/E/database/2024-03-19/UDP_Bandlock_9S_Phone_BR/sm08/#02/data/udp_uplk_loss_latency.csv\n",
      "71/72 /home/wmnlab/E/database/2024-03-19/UDP_Bandlock_9S_Phone_BR/sm07/#02/data/handover_info_log.csv\n",
      "71/72 /home/wmnlab/E/database/2024-03-19/UDP_Bandlock_9S_Phone_BR/sm07/#02/data/udp_dnlk_loss_latency.csv\n",
      "71/72 /home/wmnlab/E/database/2024-03-19/UDP_Bandlock_9S_Phone_BR/sm07/#02/data/udp_uplk_loss_latency.csv\n",
      "71/72 /home/wmnlab/E/database/2024-03-19/UDP_Bandlock_9S_Phone_BR/sm08/#02/data/handover_info_log.csv\n",
      "71/72 /home/wmnlab/E/database/2024-03-19/UDP_Bandlock_9S_Phone_BR/sm08/#02/data/udp_dnlk_loss_latency.csv\n",
      "71/72 /home/wmnlab/E/database/2024-03-19/UDP_Bandlock_9S_Phone_BR/sm08/#02/data/udp_uplk_loss_latency.csv\n",
      "./20240323_0800028652_new_dataset/20240324_1800086626_new_dataset/BR\n",
      "\n"
     ]
    }
   ],
   "source": [
    "dr_model = DrProfile(filepaths, 'BR', sr_model_id=sr_model_id, dr_model_id=dr_model_id, metrics=['dl_lost'])\n",
    "dr_model.save_models()"
   ]
  },
  {
   "cell_type": "markdown",
   "metadata": {},
   "source": [
    "# A Model"
   ]
  },
  {
   "cell_type": "code",
   "execution_count": 6,
   "metadata": {},
   "outputs": [],
   "source": [
    "# Dual Radio Example\n",
    "# dates = data_loader(query_dates=True)\n",
    "\n",
    "# selected_dates = [s for s in dates if s >= '2023-09-12']\n",
    "selected_dates = ['2024-03-20']\n",
    "# excluded_dates = []\n",
    "# selected_exps = []\n",
    "# excluded_exps = ['Modem_Action_Test', 'Control_Group', 'Control_Group2', 'Control_Group3']\n",
    "selected_routes = ['A']\n",
    "# excluded_routes = []\n",
    "filepaths = data_loader(mode='dr', selected_dates=selected_dates, selected_routes=selected_routes)\n",
    "\n",
    "# print(len(filepaths))\n",
    "# pprint(filepaths)"
   ]
  },
  {
   "cell_type": "code",
   "execution_count": 7,
   "metadata": {},
   "outputs": [
    {
     "name": "stdout",
     "output_type": "stream",
     "text": [
      "./20240323_0800028652_new_dataset/models/A\n",
      "0/72 /home/wmnlab/E/database/2024-03-20/UDP_Bandlock_9S_Phone_A/sm00/#01/data/handover_info_log.csv\n",
      "0/72 /home/wmnlab/E/database/2024-03-20/UDP_Bandlock_9S_Phone_A/sm00/#01/data/udp_dnlk_loss_latency.csv\n",
      "0/72 /home/wmnlab/E/database/2024-03-20/UDP_Bandlock_9S_Phone_A/sm00/#01/data/udp_uplk_loss_latency.csv\n",
      "0/72 /home/wmnlab/E/database/2024-03-20/UDP_Bandlock_9S_Phone_A/sm01/#01/data/handover_info_log.csv\n",
      "0/72 /home/wmnlab/E/database/2024-03-20/UDP_Bandlock_9S_Phone_A/sm01/#01/data/udp_dnlk_loss_latency.csv\n",
      "0/72 /home/wmnlab/E/database/2024-03-20/UDP_Bandlock_9S_Phone_A/sm01/#01/data/udp_uplk_loss_latency.csv\n"
     ]
    },
    {
     "name": "stdout",
     "output_type": "stream",
     "text": [
      "1/72 /home/wmnlab/E/database/2024-03-20/UDP_Bandlock_9S_Phone_A/sm00/#01/data/handover_info_log.csv\n",
      "1/72 /home/wmnlab/E/database/2024-03-20/UDP_Bandlock_9S_Phone_A/sm00/#01/data/udp_dnlk_loss_latency.csv\n",
      "1/72 /home/wmnlab/E/database/2024-03-20/UDP_Bandlock_9S_Phone_A/sm00/#01/data/udp_uplk_loss_latency.csv\n",
      "1/72 /home/wmnlab/E/database/2024-03-20/UDP_Bandlock_9S_Phone_A/sm02/#01/data/handover_info_log.csv\n",
      "1/72 /home/wmnlab/E/database/2024-03-20/UDP_Bandlock_9S_Phone_A/sm02/#01/data/udp_dnlk_loss_latency.csv\n",
      "1/72 /home/wmnlab/E/database/2024-03-20/UDP_Bandlock_9S_Phone_A/sm02/#01/data/udp_uplk_loss_latency.csv\n",
      "2/72 /home/wmnlab/E/database/2024-03-20/UDP_Bandlock_9S_Phone_A/sm00/#01/data/handover_info_log.csv\n",
      "2/72 /home/wmnlab/E/database/2024-03-20/UDP_Bandlock_9S_Phone_A/sm00/#01/data/udp_dnlk_loss_latency.csv\n",
      "2/72 /home/wmnlab/E/database/2024-03-20/UDP_Bandlock_9S_Phone_A/sm00/#01/data/udp_uplk_loss_latency.csv\n",
      "2/72 /home/wmnlab/E/database/2024-03-20/UDP_Bandlock_9S_Phone_A/sm03/#01/data/handover_info_log.csv\n",
      "2/72 /home/wmnlab/E/database/2024-03-20/UDP_Bandlock_9S_Phone_A/sm03/#01/data/udp_dnlk_loss_latency.csv\n",
      "2/72 /home/wmnlab/E/database/2024-03-20/UDP_Bandlock_9S_Phone_A/sm03/#01/data/udp_uplk_loss_latency.csv\n",
      "3/72 /home/wmnlab/E/database/2024-03-20/UDP_Bandlock_9S_Phone_A/sm00/#01/data/handover_info_log.csv\n",
      "3/72 /home/wmnlab/E/database/2024-03-20/UDP_Bandlock_9S_Phone_A/sm00/#01/data/udp_dnlk_loss_latency.csv\n",
      "3/72 /home/wmnlab/E/database/2024-03-20/UDP_Bandlock_9S_Phone_A/sm00/#01/data/udp_uplk_loss_latency.csv\n",
      "3/72 /home/wmnlab/E/database/2024-03-20/UDP_Bandlock_9S_Phone_A/sm04/#01/data/handover_info_log.csv\n",
      "3/72 /home/wmnlab/E/database/2024-03-20/UDP_Bandlock_9S_Phone_A/sm04/#01/data/udp_dnlk_loss_latency.csv\n",
      "3/72 /home/wmnlab/E/database/2024-03-20/UDP_Bandlock_9S_Phone_A/sm04/#01/data/udp_uplk_loss_latency.csv\n",
      "4/72 /home/wmnlab/E/database/2024-03-20/UDP_Bandlock_9S_Phone_A/sm00/#01/data/handover_info_log.csv\n",
      "4/72 /home/wmnlab/E/database/2024-03-20/UDP_Bandlock_9S_Phone_A/sm00/#01/data/udp_dnlk_loss_latency.csv\n",
      "4/72 /home/wmnlab/E/database/2024-03-20/UDP_Bandlock_9S_Phone_A/sm00/#01/data/udp_uplk_loss_latency.csv\n",
      "4/72 /home/wmnlab/E/database/2024-03-20/UDP_Bandlock_9S_Phone_A/sm05/#01/data/handover_info_log.csv\n",
      "4/72 /home/wmnlab/E/database/2024-03-20/UDP_Bandlock_9S_Phone_A/sm05/#01/data/udp_dnlk_loss_latency.csv\n",
      "4/72 /home/wmnlab/E/database/2024-03-20/UDP_Bandlock_9S_Phone_A/sm05/#01/data/udp_uplk_loss_latency.csv\n",
      "5/72 /home/wmnlab/E/database/2024-03-20/UDP_Bandlock_9S_Phone_A/sm00/#01/data/handover_info_log.csv\n",
      "5/72 /home/wmnlab/E/database/2024-03-20/UDP_Bandlock_9S_Phone_A/sm00/#01/data/udp_dnlk_loss_latency.csv\n",
      "5/72 /home/wmnlab/E/database/2024-03-20/UDP_Bandlock_9S_Phone_A/sm00/#01/data/udp_uplk_loss_latency.csv\n",
      "5/72 /home/wmnlab/E/database/2024-03-20/UDP_Bandlock_9S_Phone_A/sm06/#01/data/handover_info_log.csv\n",
      "5/72 /home/wmnlab/E/database/2024-03-20/UDP_Bandlock_9S_Phone_A/sm06/#01/data/udp_dnlk_loss_latency.csv\n",
      "5/72 /home/wmnlab/E/database/2024-03-20/UDP_Bandlock_9S_Phone_A/sm06/#01/data/udp_uplk_loss_latency.csv\n",
      "6/72 /home/wmnlab/E/database/2024-03-20/UDP_Bandlock_9S_Phone_A/sm00/#01/data/handover_info_log.csv\n",
      "6/72 /home/wmnlab/E/database/2024-03-20/UDP_Bandlock_9S_Phone_A/sm00/#01/data/udp_dnlk_loss_latency.csv\n",
      "6/72 /home/wmnlab/E/database/2024-03-20/UDP_Bandlock_9S_Phone_A/sm00/#01/data/udp_uplk_loss_latency.csv\n",
      "6/72 /home/wmnlab/E/database/2024-03-20/UDP_Bandlock_9S_Phone_A/sm07/#01/data/handover_info_log.csv\n",
      "6/72 /home/wmnlab/E/database/2024-03-20/UDP_Bandlock_9S_Phone_A/sm07/#01/data/udp_dnlk_loss_latency.csv\n",
      "6/72 /home/wmnlab/E/database/2024-03-20/UDP_Bandlock_9S_Phone_A/sm07/#01/data/udp_uplk_loss_latency.csv\n",
      "7/72 /home/wmnlab/E/database/2024-03-20/UDP_Bandlock_9S_Phone_A/sm00/#01/data/handover_info_log.csv\n",
      "7/72 /home/wmnlab/E/database/2024-03-20/UDP_Bandlock_9S_Phone_A/sm00/#01/data/udp_dnlk_loss_latency.csv\n",
      "7/72 /home/wmnlab/E/database/2024-03-20/UDP_Bandlock_9S_Phone_A/sm00/#01/data/udp_uplk_loss_latency.csv\n",
      "7/72 /home/wmnlab/E/database/2024-03-20/UDP_Bandlock_9S_Phone_A/sm08/#01/data/handover_info_log.csv\n",
      "7/72 /home/wmnlab/E/database/2024-03-20/UDP_Bandlock_9S_Phone_A/sm08/#01/data/udp_dnlk_loss_latency.csv\n",
      "7/72 /home/wmnlab/E/database/2024-03-20/UDP_Bandlock_9S_Phone_A/sm08/#01/data/udp_uplk_loss_latency.csv\n",
      "8/72 /home/wmnlab/E/database/2024-03-20/UDP_Bandlock_9S_Phone_A/sm01/#01/data/handover_info_log.csv\n",
      "8/72 /home/wmnlab/E/database/2024-03-20/UDP_Bandlock_9S_Phone_A/sm01/#01/data/udp_dnlk_loss_latency.csv\n",
      "8/72 /home/wmnlab/E/database/2024-03-20/UDP_Bandlock_9S_Phone_A/sm01/#01/data/udp_uplk_loss_latency.csv\n",
      "8/72 /home/wmnlab/E/database/2024-03-20/UDP_Bandlock_9S_Phone_A/sm02/#01/data/handover_info_log.csv\n",
      "8/72 /home/wmnlab/E/database/2024-03-20/UDP_Bandlock_9S_Phone_A/sm02/#01/data/udp_dnlk_loss_latency.csv\n",
      "8/72 /home/wmnlab/E/database/2024-03-20/UDP_Bandlock_9S_Phone_A/sm02/#01/data/udp_uplk_loss_latency.csv\n",
      "9/72 /home/wmnlab/E/database/2024-03-20/UDP_Bandlock_9S_Phone_A/sm01/#01/data/handover_info_log.csv\n",
      "9/72 /home/wmnlab/E/database/2024-03-20/UDP_Bandlock_9S_Phone_A/sm01/#01/data/udp_dnlk_loss_latency.csv\n",
      "9/72 /home/wmnlab/E/database/2024-03-20/UDP_Bandlock_9S_Phone_A/sm01/#01/data/udp_uplk_loss_latency.csv\n",
      "9/72 /home/wmnlab/E/database/2024-03-20/UDP_Bandlock_9S_Phone_A/sm03/#01/data/handover_info_log.csv\n",
      "9/72 /home/wmnlab/E/database/2024-03-20/UDP_Bandlock_9S_Phone_A/sm03/#01/data/udp_dnlk_loss_latency.csv\n",
      "9/72 /home/wmnlab/E/database/2024-03-20/UDP_Bandlock_9S_Phone_A/sm03/#01/data/udp_uplk_loss_latency.csv\n",
      "10/72 /home/wmnlab/E/database/2024-03-20/UDP_Bandlock_9S_Phone_A/sm01/#01/data/handover_info_log.csv\n",
      "10/72 /home/wmnlab/E/database/2024-03-20/UDP_Bandlock_9S_Phone_A/sm01/#01/data/udp_dnlk_loss_latency.csv\n",
      "10/72 /home/wmnlab/E/database/2024-03-20/UDP_Bandlock_9S_Phone_A/sm01/#01/data/udp_uplk_loss_latency.csv\n",
      "10/72 /home/wmnlab/E/database/2024-03-20/UDP_Bandlock_9S_Phone_A/sm04/#01/data/handover_info_log.csv\n",
      "10/72 /home/wmnlab/E/database/2024-03-20/UDP_Bandlock_9S_Phone_A/sm04/#01/data/udp_dnlk_loss_latency.csv\n",
      "10/72 /home/wmnlab/E/database/2024-03-20/UDP_Bandlock_9S_Phone_A/sm04/#01/data/udp_uplk_loss_latency.csv\n",
      "11/72 /home/wmnlab/E/database/2024-03-20/UDP_Bandlock_9S_Phone_A/sm01/#01/data/handover_info_log.csv\n",
      "11/72 /home/wmnlab/E/database/2024-03-20/UDP_Bandlock_9S_Phone_A/sm01/#01/data/udp_dnlk_loss_latency.csv\n",
      "11/72 /home/wmnlab/E/database/2024-03-20/UDP_Bandlock_9S_Phone_A/sm01/#01/data/udp_uplk_loss_latency.csv\n",
      "11/72 /home/wmnlab/E/database/2024-03-20/UDP_Bandlock_9S_Phone_A/sm05/#01/data/handover_info_log.csv\n",
      "11/72 /home/wmnlab/E/database/2024-03-20/UDP_Bandlock_9S_Phone_A/sm05/#01/data/udp_dnlk_loss_latency.csv\n",
      "11/72 /home/wmnlab/E/database/2024-03-20/UDP_Bandlock_9S_Phone_A/sm05/#01/data/udp_uplk_loss_latency.csv\n",
      "12/72 /home/wmnlab/E/database/2024-03-20/UDP_Bandlock_9S_Phone_A/sm01/#01/data/handover_info_log.csv\n",
      "12/72 /home/wmnlab/E/database/2024-03-20/UDP_Bandlock_9S_Phone_A/sm01/#01/data/udp_dnlk_loss_latency.csv\n",
      "12/72 /home/wmnlab/E/database/2024-03-20/UDP_Bandlock_9S_Phone_A/sm01/#01/data/udp_uplk_loss_latency.csv\n",
      "12/72 /home/wmnlab/E/database/2024-03-20/UDP_Bandlock_9S_Phone_A/sm06/#01/data/handover_info_log.csv\n",
      "12/72 /home/wmnlab/E/database/2024-03-20/UDP_Bandlock_9S_Phone_A/sm06/#01/data/udp_dnlk_loss_latency.csv\n",
      "12/72 /home/wmnlab/E/database/2024-03-20/UDP_Bandlock_9S_Phone_A/sm06/#01/data/udp_uplk_loss_latency.csv\n",
      "13/72 /home/wmnlab/E/database/2024-03-20/UDP_Bandlock_9S_Phone_A/sm01/#01/data/handover_info_log.csv\n",
      "13/72 /home/wmnlab/E/database/2024-03-20/UDP_Bandlock_9S_Phone_A/sm01/#01/data/udp_dnlk_loss_latency.csv\n",
      "13/72 /home/wmnlab/E/database/2024-03-20/UDP_Bandlock_9S_Phone_A/sm01/#01/data/udp_uplk_loss_latency.csv\n",
      "13/72 /home/wmnlab/E/database/2024-03-20/UDP_Bandlock_9S_Phone_A/sm07/#01/data/handover_info_log.csv\n",
      "13/72 /home/wmnlab/E/database/2024-03-20/UDP_Bandlock_9S_Phone_A/sm07/#01/data/udp_dnlk_loss_latency.csv\n",
      "13/72 /home/wmnlab/E/database/2024-03-20/UDP_Bandlock_9S_Phone_A/sm07/#01/data/udp_uplk_loss_latency.csv\n",
      "14/72 /home/wmnlab/E/database/2024-03-20/UDP_Bandlock_9S_Phone_A/sm01/#01/data/handover_info_log.csv\n",
      "14/72 /home/wmnlab/E/database/2024-03-20/UDP_Bandlock_9S_Phone_A/sm01/#01/data/udp_dnlk_loss_latency.csv\n",
      "14/72 /home/wmnlab/E/database/2024-03-20/UDP_Bandlock_9S_Phone_A/sm01/#01/data/udp_uplk_loss_latency.csv\n",
      "14/72 /home/wmnlab/E/database/2024-03-20/UDP_Bandlock_9S_Phone_A/sm08/#01/data/handover_info_log.csv\n",
      "14/72 /home/wmnlab/E/database/2024-03-20/UDP_Bandlock_9S_Phone_A/sm08/#01/data/udp_dnlk_loss_latency.csv\n",
      "14/72 /home/wmnlab/E/database/2024-03-20/UDP_Bandlock_9S_Phone_A/sm08/#01/data/udp_uplk_loss_latency.csv\n",
      "15/72 /home/wmnlab/E/database/2024-03-20/UDP_Bandlock_9S_Phone_A/sm02/#01/data/handover_info_log.csv\n",
      "15/72 /home/wmnlab/E/database/2024-03-20/UDP_Bandlock_9S_Phone_A/sm02/#01/data/udp_dnlk_loss_latency.csv\n",
      "15/72 /home/wmnlab/E/database/2024-03-20/UDP_Bandlock_9S_Phone_A/sm02/#01/data/udp_uplk_loss_latency.csv\n",
      "15/72 /home/wmnlab/E/database/2024-03-20/UDP_Bandlock_9S_Phone_A/sm03/#01/data/handover_info_log.csv\n",
      "15/72 /home/wmnlab/E/database/2024-03-20/UDP_Bandlock_9S_Phone_A/sm03/#01/data/udp_dnlk_loss_latency.csv\n",
      "15/72 /home/wmnlab/E/database/2024-03-20/UDP_Bandlock_9S_Phone_A/sm03/#01/data/udp_uplk_loss_latency.csv\n",
      "16/72 /home/wmnlab/E/database/2024-03-20/UDP_Bandlock_9S_Phone_A/sm02/#01/data/handover_info_log.csv\n",
      "16/72 /home/wmnlab/E/database/2024-03-20/UDP_Bandlock_9S_Phone_A/sm02/#01/data/udp_dnlk_loss_latency.csv\n",
      "16/72 /home/wmnlab/E/database/2024-03-20/UDP_Bandlock_9S_Phone_A/sm02/#01/data/udp_uplk_loss_latency.csv\n",
      "16/72 /home/wmnlab/E/database/2024-03-20/UDP_Bandlock_9S_Phone_A/sm04/#01/data/handover_info_log.csv\n",
      "16/72 /home/wmnlab/E/database/2024-03-20/UDP_Bandlock_9S_Phone_A/sm04/#01/data/udp_dnlk_loss_latency.csv\n",
      "16/72 /home/wmnlab/E/database/2024-03-20/UDP_Bandlock_9S_Phone_A/sm04/#01/data/udp_uplk_loss_latency.csv\n",
      "17/72 /home/wmnlab/E/database/2024-03-20/UDP_Bandlock_9S_Phone_A/sm02/#01/data/handover_info_log.csv\n",
      "17/72 /home/wmnlab/E/database/2024-03-20/UDP_Bandlock_9S_Phone_A/sm02/#01/data/udp_dnlk_loss_latency.csv\n",
      "17/72 /home/wmnlab/E/database/2024-03-20/UDP_Bandlock_9S_Phone_A/sm02/#01/data/udp_uplk_loss_latency.csv\n",
      "17/72 /home/wmnlab/E/database/2024-03-20/UDP_Bandlock_9S_Phone_A/sm05/#01/data/handover_info_log.csv\n",
      "17/72 /home/wmnlab/E/database/2024-03-20/UDP_Bandlock_9S_Phone_A/sm05/#01/data/udp_dnlk_loss_latency.csv\n",
      "17/72 /home/wmnlab/E/database/2024-03-20/UDP_Bandlock_9S_Phone_A/sm05/#01/data/udp_uplk_loss_latency.csv\n",
      "18/72 /home/wmnlab/E/database/2024-03-20/UDP_Bandlock_9S_Phone_A/sm02/#01/data/handover_info_log.csv\n",
      "18/72 /home/wmnlab/E/database/2024-03-20/UDP_Bandlock_9S_Phone_A/sm02/#01/data/udp_dnlk_loss_latency.csv\n",
      "18/72 /home/wmnlab/E/database/2024-03-20/UDP_Bandlock_9S_Phone_A/sm02/#01/data/udp_uplk_loss_latency.csv\n",
      "18/72 /home/wmnlab/E/database/2024-03-20/UDP_Bandlock_9S_Phone_A/sm06/#01/data/handover_info_log.csv\n",
      "18/72 /home/wmnlab/E/database/2024-03-20/UDP_Bandlock_9S_Phone_A/sm06/#01/data/udp_dnlk_loss_latency.csv\n",
      "18/72 /home/wmnlab/E/database/2024-03-20/UDP_Bandlock_9S_Phone_A/sm06/#01/data/udp_uplk_loss_latency.csv\n",
      "19/72 /home/wmnlab/E/database/2024-03-20/UDP_Bandlock_9S_Phone_A/sm02/#01/data/handover_info_log.csv\n",
      "19/72 /home/wmnlab/E/database/2024-03-20/UDP_Bandlock_9S_Phone_A/sm02/#01/data/udp_dnlk_loss_latency.csv\n",
      "19/72 /home/wmnlab/E/database/2024-03-20/UDP_Bandlock_9S_Phone_A/sm02/#01/data/udp_uplk_loss_latency.csv\n",
      "19/72 /home/wmnlab/E/database/2024-03-20/UDP_Bandlock_9S_Phone_A/sm07/#01/data/handover_info_log.csv\n",
      "19/72 /home/wmnlab/E/database/2024-03-20/UDP_Bandlock_9S_Phone_A/sm07/#01/data/udp_dnlk_loss_latency.csv\n",
      "19/72 /home/wmnlab/E/database/2024-03-20/UDP_Bandlock_9S_Phone_A/sm07/#01/data/udp_uplk_loss_latency.csv\n",
      "20/72 /home/wmnlab/E/database/2024-03-20/UDP_Bandlock_9S_Phone_A/sm02/#01/data/handover_info_log.csv\n",
      "20/72 /home/wmnlab/E/database/2024-03-20/UDP_Bandlock_9S_Phone_A/sm02/#01/data/udp_dnlk_loss_latency.csv\n",
      "20/72 /home/wmnlab/E/database/2024-03-20/UDP_Bandlock_9S_Phone_A/sm02/#01/data/udp_uplk_loss_latency.csv\n",
      "20/72 /home/wmnlab/E/database/2024-03-20/UDP_Bandlock_9S_Phone_A/sm08/#01/data/handover_info_log.csv\n",
      "20/72 /home/wmnlab/E/database/2024-03-20/UDP_Bandlock_9S_Phone_A/sm08/#01/data/udp_dnlk_loss_latency.csv\n",
      "20/72 /home/wmnlab/E/database/2024-03-20/UDP_Bandlock_9S_Phone_A/sm08/#01/data/udp_uplk_loss_latency.csv\n",
      "21/72 /home/wmnlab/E/database/2024-03-20/UDP_Bandlock_9S_Phone_A/sm03/#01/data/handover_info_log.csv\n",
      "21/72 /home/wmnlab/E/database/2024-03-20/UDP_Bandlock_9S_Phone_A/sm03/#01/data/udp_dnlk_loss_latency.csv\n",
      "21/72 /home/wmnlab/E/database/2024-03-20/UDP_Bandlock_9S_Phone_A/sm03/#01/data/udp_uplk_loss_latency.csv\n",
      "21/72 /home/wmnlab/E/database/2024-03-20/UDP_Bandlock_9S_Phone_A/sm04/#01/data/handover_info_log.csv\n",
      "21/72 /home/wmnlab/E/database/2024-03-20/UDP_Bandlock_9S_Phone_A/sm04/#01/data/udp_dnlk_loss_latency.csv\n",
      "21/72 /home/wmnlab/E/database/2024-03-20/UDP_Bandlock_9S_Phone_A/sm04/#01/data/udp_uplk_loss_latency.csv\n",
      "22/72 /home/wmnlab/E/database/2024-03-20/UDP_Bandlock_9S_Phone_A/sm03/#01/data/handover_info_log.csv\n",
      "22/72 /home/wmnlab/E/database/2024-03-20/UDP_Bandlock_9S_Phone_A/sm03/#01/data/udp_dnlk_loss_latency.csv\n",
      "22/72 /home/wmnlab/E/database/2024-03-20/UDP_Bandlock_9S_Phone_A/sm03/#01/data/udp_uplk_loss_latency.csv\n",
      "22/72 /home/wmnlab/E/database/2024-03-20/UDP_Bandlock_9S_Phone_A/sm05/#01/data/handover_info_log.csv\n",
      "22/72 /home/wmnlab/E/database/2024-03-20/UDP_Bandlock_9S_Phone_A/sm05/#01/data/udp_dnlk_loss_latency.csv\n",
      "22/72 /home/wmnlab/E/database/2024-03-20/UDP_Bandlock_9S_Phone_A/sm05/#01/data/udp_uplk_loss_latency.csv\n",
      "23/72 /home/wmnlab/E/database/2024-03-20/UDP_Bandlock_9S_Phone_A/sm03/#01/data/handover_info_log.csv\n",
      "23/72 /home/wmnlab/E/database/2024-03-20/UDP_Bandlock_9S_Phone_A/sm03/#01/data/udp_dnlk_loss_latency.csv\n",
      "23/72 /home/wmnlab/E/database/2024-03-20/UDP_Bandlock_9S_Phone_A/sm03/#01/data/udp_uplk_loss_latency.csv\n",
      "23/72 /home/wmnlab/E/database/2024-03-20/UDP_Bandlock_9S_Phone_A/sm06/#01/data/handover_info_log.csv\n",
      "23/72 /home/wmnlab/E/database/2024-03-20/UDP_Bandlock_9S_Phone_A/sm06/#01/data/udp_dnlk_loss_latency.csv\n",
      "23/72 /home/wmnlab/E/database/2024-03-20/UDP_Bandlock_9S_Phone_A/sm06/#01/data/udp_uplk_loss_latency.csv\n",
      "24/72 /home/wmnlab/E/database/2024-03-20/UDP_Bandlock_9S_Phone_A/sm03/#01/data/handover_info_log.csv\n",
      "24/72 /home/wmnlab/E/database/2024-03-20/UDP_Bandlock_9S_Phone_A/sm03/#01/data/udp_dnlk_loss_latency.csv\n",
      "24/72 /home/wmnlab/E/database/2024-03-20/UDP_Bandlock_9S_Phone_A/sm03/#01/data/udp_uplk_loss_latency.csv\n",
      "24/72 /home/wmnlab/E/database/2024-03-20/UDP_Bandlock_9S_Phone_A/sm07/#01/data/handover_info_log.csv\n",
      "24/72 /home/wmnlab/E/database/2024-03-20/UDP_Bandlock_9S_Phone_A/sm07/#01/data/udp_dnlk_loss_latency.csv\n",
      "24/72 /home/wmnlab/E/database/2024-03-20/UDP_Bandlock_9S_Phone_A/sm07/#01/data/udp_uplk_loss_latency.csv\n",
      "25/72 /home/wmnlab/E/database/2024-03-20/UDP_Bandlock_9S_Phone_A/sm03/#01/data/handover_info_log.csv\n",
      "25/72 /home/wmnlab/E/database/2024-03-20/UDP_Bandlock_9S_Phone_A/sm03/#01/data/udp_dnlk_loss_latency.csv\n",
      "25/72 /home/wmnlab/E/database/2024-03-20/UDP_Bandlock_9S_Phone_A/sm03/#01/data/udp_uplk_loss_latency.csv\n",
      "25/72 /home/wmnlab/E/database/2024-03-20/UDP_Bandlock_9S_Phone_A/sm08/#01/data/handover_info_log.csv\n",
      "25/72 /home/wmnlab/E/database/2024-03-20/UDP_Bandlock_9S_Phone_A/sm08/#01/data/udp_dnlk_loss_latency.csv\n",
      "25/72 /home/wmnlab/E/database/2024-03-20/UDP_Bandlock_9S_Phone_A/sm08/#01/data/udp_uplk_loss_latency.csv\n",
      "26/72 /home/wmnlab/E/database/2024-03-20/UDP_Bandlock_9S_Phone_A/sm04/#01/data/handover_info_log.csv\n",
      "26/72 /home/wmnlab/E/database/2024-03-20/UDP_Bandlock_9S_Phone_A/sm04/#01/data/udp_dnlk_loss_latency.csv\n",
      "26/72 /home/wmnlab/E/database/2024-03-20/UDP_Bandlock_9S_Phone_A/sm04/#01/data/udp_uplk_loss_latency.csv\n",
      "26/72 /home/wmnlab/E/database/2024-03-20/UDP_Bandlock_9S_Phone_A/sm05/#01/data/handover_info_log.csv\n",
      "26/72 /home/wmnlab/E/database/2024-03-20/UDP_Bandlock_9S_Phone_A/sm05/#01/data/udp_dnlk_loss_latency.csv\n",
      "26/72 /home/wmnlab/E/database/2024-03-20/UDP_Bandlock_9S_Phone_A/sm05/#01/data/udp_uplk_loss_latency.csv\n",
      "27/72 /home/wmnlab/E/database/2024-03-20/UDP_Bandlock_9S_Phone_A/sm04/#01/data/handover_info_log.csv\n",
      "27/72 /home/wmnlab/E/database/2024-03-20/UDP_Bandlock_9S_Phone_A/sm04/#01/data/udp_dnlk_loss_latency.csv\n",
      "27/72 /home/wmnlab/E/database/2024-03-20/UDP_Bandlock_9S_Phone_A/sm04/#01/data/udp_uplk_loss_latency.csv\n",
      "27/72 /home/wmnlab/E/database/2024-03-20/UDP_Bandlock_9S_Phone_A/sm06/#01/data/handover_info_log.csv\n",
      "27/72 /home/wmnlab/E/database/2024-03-20/UDP_Bandlock_9S_Phone_A/sm06/#01/data/udp_dnlk_loss_latency.csv\n",
      "27/72 /home/wmnlab/E/database/2024-03-20/UDP_Bandlock_9S_Phone_A/sm06/#01/data/udp_uplk_loss_latency.csv\n",
      "28/72 /home/wmnlab/E/database/2024-03-20/UDP_Bandlock_9S_Phone_A/sm04/#01/data/handover_info_log.csv\n",
      "28/72 /home/wmnlab/E/database/2024-03-20/UDP_Bandlock_9S_Phone_A/sm04/#01/data/udp_dnlk_loss_latency.csv\n",
      "28/72 /home/wmnlab/E/database/2024-03-20/UDP_Bandlock_9S_Phone_A/sm04/#01/data/udp_uplk_loss_latency.csv\n",
      "28/72 /home/wmnlab/E/database/2024-03-20/UDP_Bandlock_9S_Phone_A/sm07/#01/data/handover_info_log.csv\n",
      "28/72 /home/wmnlab/E/database/2024-03-20/UDP_Bandlock_9S_Phone_A/sm07/#01/data/udp_dnlk_loss_latency.csv\n",
      "28/72 /home/wmnlab/E/database/2024-03-20/UDP_Bandlock_9S_Phone_A/sm07/#01/data/udp_uplk_loss_latency.csv\n",
      "29/72 /home/wmnlab/E/database/2024-03-20/UDP_Bandlock_9S_Phone_A/sm04/#01/data/handover_info_log.csv\n",
      "29/72 /home/wmnlab/E/database/2024-03-20/UDP_Bandlock_9S_Phone_A/sm04/#01/data/udp_dnlk_loss_latency.csv\n",
      "29/72 /home/wmnlab/E/database/2024-03-20/UDP_Bandlock_9S_Phone_A/sm04/#01/data/udp_uplk_loss_latency.csv\n",
      "29/72 /home/wmnlab/E/database/2024-03-20/UDP_Bandlock_9S_Phone_A/sm08/#01/data/handover_info_log.csv\n",
      "29/72 /home/wmnlab/E/database/2024-03-20/UDP_Bandlock_9S_Phone_A/sm08/#01/data/udp_dnlk_loss_latency.csv\n",
      "29/72 /home/wmnlab/E/database/2024-03-20/UDP_Bandlock_9S_Phone_A/sm08/#01/data/udp_uplk_loss_latency.csv\n",
      "30/72 /home/wmnlab/E/database/2024-03-20/UDP_Bandlock_9S_Phone_A/sm05/#01/data/handover_info_log.csv\n",
      "30/72 /home/wmnlab/E/database/2024-03-20/UDP_Bandlock_9S_Phone_A/sm05/#01/data/udp_dnlk_loss_latency.csv\n",
      "30/72 /home/wmnlab/E/database/2024-03-20/UDP_Bandlock_9S_Phone_A/sm05/#01/data/udp_uplk_loss_latency.csv\n",
      "30/72 /home/wmnlab/E/database/2024-03-20/UDP_Bandlock_9S_Phone_A/sm06/#01/data/handover_info_log.csv\n",
      "30/72 /home/wmnlab/E/database/2024-03-20/UDP_Bandlock_9S_Phone_A/sm06/#01/data/udp_dnlk_loss_latency.csv\n",
      "30/72 /home/wmnlab/E/database/2024-03-20/UDP_Bandlock_9S_Phone_A/sm06/#01/data/udp_uplk_loss_latency.csv\n",
      "31/72 /home/wmnlab/E/database/2024-03-20/UDP_Bandlock_9S_Phone_A/sm05/#01/data/handover_info_log.csv\n",
      "31/72 /home/wmnlab/E/database/2024-03-20/UDP_Bandlock_9S_Phone_A/sm05/#01/data/udp_dnlk_loss_latency.csv\n",
      "31/72 /home/wmnlab/E/database/2024-03-20/UDP_Bandlock_9S_Phone_A/sm05/#01/data/udp_uplk_loss_latency.csv\n",
      "31/72 /home/wmnlab/E/database/2024-03-20/UDP_Bandlock_9S_Phone_A/sm07/#01/data/handover_info_log.csv\n",
      "31/72 /home/wmnlab/E/database/2024-03-20/UDP_Bandlock_9S_Phone_A/sm07/#01/data/udp_dnlk_loss_latency.csv\n",
      "31/72 /home/wmnlab/E/database/2024-03-20/UDP_Bandlock_9S_Phone_A/sm07/#01/data/udp_uplk_loss_latency.csv\n",
      "32/72 /home/wmnlab/E/database/2024-03-20/UDP_Bandlock_9S_Phone_A/sm05/#01/data/handover_info_log.csv\n",
      "32/72 /home/wmnlab/E/database/2024-03-20/UDP_Bandlock_9S_Phone_A/sm05/#01/data/udp_dnlk_loss_latency.csv\n",
      "32/72 /home/wmnlab/E/database/2024-03-20/UDP_Bandlock_9S_Phone_A/sm05/#01/data/udp_uplk_loss_latency.csv\n",
      "32/72 /home/wmnlab/E/database/2024-03-20/UDP_Bandlock_9S_Phone_A/sm08/#01/data/handover_info_log.csv\n",
      "32/72 /home/wmnlab/E/database/2024-03-20/UDP_Bandlock_9S_Phone_A/sm08/#01/data/udp_dnlk_loss_latency.csv\n",
      "32/72 /home/wmnlab/E/database/2024-03-20/UDP_Bandlock_9S_Phone_A/sm08/#01/data/udp_uplk_loss_latency.csv\n",
      "33/72 /home/wmnlab/E/database/2024-03-20/UDP_Bandlock_9S_Phone_A/sm06/#01/data/handover_info_log.csv\n",
      "33/72 /home/wmnlab/E/database/2024-03-20/UDP_Bandlock_9S_Phone_A/sm06/#01/data/udp_dnlk_loss_latency.csv\n",
      "33/72 /home/wmnlab/E/database/2024-03-20/UDP_Bandlock_9S_Phone_A/sm06/#01/data/udp_uplk_loss_latency.csv\n",
      "33/72 /home/wmnlab/E/database/2024-03-20/UDP_Bandlock_9S_Phone_A/sm07/#01/data/handover_info_log.csv\n",
      "33/72 /home/wmnlab/E/database/2024-03-20/UDP_Bandlock_9S_Phone_A/sm07/#01/data/udp_dnlk_loss_latency.csv\n",
      "33/72 /home/wmnlab/E/database/2024-03-20/UDP_Bandlock_9S_Phone_A/sm07/#01/data/udp_uplk_loss_latency.csv\n",
      "34/72 /home/wmnlab/E/database/2024-03-20/UDP_Bandlock_9S_Phone_A/sm06/#01/data/handover_info_log.csv\n",
      "34/72 /home/wmnlab/E/database/2024-03-20/UDP_Bandlock_9S_Phone_A/sm06/#01/data/udp_dnlk_loss_latency.csv\n",
      "34/72 /home/wmnlab/E/database/2024-03-20/UDP_Bandlock_9S_Phone_A/sm06/#01/data/udp_uplk_loss_latency.csv\n",
      "34/72 /home/wmnlab/E/database/2024-03-20/UDP_Bandlock_9S_Phone_A/sm08/#01/data/handover_info_log.csv\n",
      "34/72 /home/wmnlab/E/database/2024-03-20/UDP_Bandlock_9S_Phone_A/sm08/#01/data/udp_dnlk_loss_latency.csv\n",
      "34/72 /home/wmnlab/E/database/2024-03-20/UDP_Bandlock_9S_Phone_A/sm08/#01/data/udp_uplk_loss_latency.csv\n",
      "35/72 /home/wmnlab/E/database/2024-03-20/UDP_Bandlock_9S_Phone_A/sm07/#01/data/handover_info_log.csv\n",
      "35/72 /home/wmnlab/E/database/2024-03-20/UDP_Bandlock_9S_Phone_A/sm07/#01/data/udp_dnlk_loss_latency.csv\n",
      "35/72 /home/wmnlab/E/database/2024-03-20/UDP_Bandlock_9S_Phone_A/sm07/#01/data/udp_uplk_loss_latency.csv\n",
      "35/72 /home/wmnlab/E/database/2024-03-20/UDP_Bandlock_9S_Phone_A/sm08/#01/data/handover_info_log.csv\n",
      "35/72 /home/wmnlab/E/database/2024-03-20/UDP_Bandlock_9S_Phone_A/sm08/#01/data/udp_dnlk_loss_latency.csv\n",
      "35/72 /home/wmnlab/E/database/2024-03-20/UDP_Bandlock_9S_Phone_A/sm08/#01/data/udp_uplk_loss_latency.csv\n",
      "36/72 /home/wmnlab/E/database/2024-03-20/UDP_Bandlock_9S_Phone_A/sm00/#02/data/handover_info_log.csv\n",
      "36/72 /home/wmnlab/E/database/2024-03-20/UDP_Bandlock_9S_Phone_A/sm00/#02/data/udp_dnlk_loss_latency.csv\n",
      "36/72 /home/wmnlab/E/database/2024-03-20/UDP_Bandlock_9S_Phone_A/sm00/#02/data/udp_uplk_loss_latency.csv\n",
      "36/72 /home/wmnlab/E/database/2024-03-20/UDP_Bandlock_9S_Phone_A/sm01/#02/data/handover_info_log.csv\n",
      "36/72 /home/wmnlab/E/database/2024-03-20/UDP_Bandlock_9S_Phone_A/sm01/#02/data/udp_dnlk_loss_latency.csv\n",
      "36/72 /home/wmnlab/E/database/2024-03-20/UDP_Bandlock_9S_Phone_A/sm01/#02/data/udp_uplk_loss_latency.csv\n",
      "37/72 /home/wmnlab/E/database/2024-03-20/UDP_Bandlock_9S_Phone_A/sm00/#02/data/handover_info_log.csv\n",
      "37/72 /home/wmnlab/E/database/2024-03-20/UDP_Bandlock_9S_Phone_A/sm00/#02/data/udp_dnlk_loss_latency.csv\n",
      "37/72 /home/wmnlab/E/database/2024-03-20/UDP_Bandlock_9S_Phone_A/sm00/#02/data/udp_uplk_loss_latency.csv\n",
      "37/72 /home/wmnlab/E/database/2024-03-20/UDP_Bandlock_9S_Phone_A/sm02/#02/data/handover_info_log.csv\n",
      "37/72 /home/wmnlab/E/database/2024-03-20/UDP_Bandlock_9S_Phone_A/sm02/#02/data/udp_dnlk_loss_latency.csv\n",
      "37/72 /home/wmnlab/E/database/2024-03-20/UDP_Bandlock_9S_Phone_A/sm02/#02/data/udp_uplk_loss_latency.csv\n",
      "38/72 /home/wmnlab/E/database/2024-03-20/UDP_Bandlock_9S_Phone_A/sm00/#02/data/handover_info_log.csv\n",
      "38/72 /home/wmnlab/E/database/2024-03-20/UDP_Bandlock_9S_Phone_A/sm00/#02/data/udp_dnlk_loss_latency.csv\n",
      "38/72 /home/wmnlab/E/database/2024-03-20/UDP_Bandlock_9S_Phone_A/sm00/#02/data/udp_uplk_loss_latency.csv\n",
      "38/72 /home/wmnlab/E/database/2024-03-20/UDP_Bandlock_9S_Phone_A/sm03/#02/data/handover_info_log.csv\n",
      "38/72 /home/wmnlab/E/database/2024-03-20/UDP_Bandlock_9S_Phone_A/sm03/#02/data/udp_dnlk_loss_latency.csv\n",
      "38/72 /home/wmnlab/E/database/2024-03-20/UDP_Bandlock_9S_Phone_A/sm03/#02/data/udp_uplk_loss_latency.csv\n",
      "39/72 /home/wmnlab/E/database/2024-03-20/UDP_Bandlock_9S_Phone_A/sm00/#02/data/handover_info_log.csv\n",
      "39/72 /home/wmnlab/E/database/2024-03-20/UDP_Bandlock_9S_Phone_A/sm00/#02/data/udp_dnlk_loss_latency.csv\n",
      "39/72 /home/wmnlab/E/database/2024-03-20/UDP_Bandlock_9S_Phone_A/sm00/#02/data/udp_uplk_loss_latency.csv\n",
      "39/72 /home/wmnlab/E/database/2024-03-20/UDP_Bandlock_9S_Phone_A/sm04/#02/data/handover_info_log.csv\n",
      "39/72 /home/wmnlab/E/database/2024-03-20/UDP_Bandlock_9S_Phone_A/sm04/#02/data/udp_dnlk_loss_latency.csv\n",
      "39/72 /home/wmnlab/E/database/2024-03-20/UDP_Bandlock_9S_Phone_A/sm04/#02/data/udp_uplk_loss_latency.csv\n",
      "40/72 /home/wmnlab/E/database/2024-03-20/UDP_Bandlock_9S_Phone_A/sm00/#02/data/handover_info_log.csv\n",
      "40/72 /home/wmnlab/E/database/2024-03-20/UDP_Bandlock_9S_Phone_A/sm00/#02/data/udp_dnlk_loss_latency.csv\n",
      "40/72 /home/wmnlab/E/database/2024-03-20/UDP_Bandlock_9S_Phone_A/sm00/#02/data/udp_uplk_loss_latency.csv\n",
      "40/72 /home/wmnlab/E/database/2024-03-20/UDP_Bandlock_9S_Phone_A/sm05/#02/data/handover_info_log.csv\n",
      "40/72 /home/wmnlab/E/database/2024-03-20/UDP_Bandlock_9S_Phone_A/sm05/#02/data/udp_dnlk_loss_latency.csv\n",
      "40/72 /home/wmnlab/E/database/2024-03-20/UDP_Bandlock_9S_Phone_A/sm05/#02/data/udp_uplk_loss_latency.csv\n",
      "41/72 /home/wmnlab/E/database/2024-03-20/UDP_Bandlock_9S_Phone_A/sm00/#02/data/handover_info_log.csv\n",
      "41/72 /home/wmnlab/E/database/2024-03-20/UDP_Bandlock_9S_Phone_A/sm00/#02/data/udp_dnlk_loss_latency.csv\n",
      "41/72 /home/wmnlab/E/database/2024-03-20/UDP_Bandlock_9S_Phone_A/sm00/#02/data/udp_uplk_loss_latency.csv\n",
      "41/72 /home/wmnlab/E/database/2024-03-20/UDP_Bandlock_9S_Phone_A/sm06/#02/data/handover_info_log.csv\n",
      "41/72 /home/wmnlab/E/database/2024-03-20/UDP_Bandlock_9S_Phone_A/sm06/#02/data/udp_dnlk_loss_latency.csv\n",
      "41/72 /home/wmnlab/E/database/2024-03-20/UDP_Bandlock_9S_Phone_A/sm06/#02/data/udp_uplk_loss_latency.csv\n",
      "42/72 /home/wmnlab/E/database/2024-03-20/UDP_Bandlock_9S_Phone_A/sm00/#02/data/handover_info_log.csv\n",
      "42/72 /home/wmnlab/E/database/2024-03-20/UDP_Bandlock_9S_Phone_A/sm00/#02/data/udp_dnlk_loss_latency.csv\n",
      "42/72 /home/wmnlab/E/database/2024-03-20/UDP_Bandlock_9S_Phone_A/sm00/#02/data/udp_uplk_loss_latency.csv\n",
      "42/72 /home/wmnlab/E/database/2024-03-20/UDP_Bandlock_9S_Phone_A/sm07/#02/data/handover_info_log.csv\n",
      "42/72 /home/wmnlab/E/database/2024-03-20/UDP_Bandlock_9S_Phone_A/sm07/#02/data/udp_dnlk_loss_latency.csv\n",
      "42/72 /home/wmnlab/E/database/2024-03-20/UDP_Bandlock_9S_Phone_A/sm07/#02/data/udp_uplk_loss_latency.csv\n",
      "43/72 /home/wmnlab/E/database/2024-03-20/UDP_Bandlock_9S_Phone_A/sm00/#02/data/handover_info_log.csv\n",
      "43/72 /home/wmnlab/E/database/2024-03-20/UDP_Bandlock_9S_Phone_A/sm00/#02/data/udp_dnlk_loss_latency.csv\n",
      "43/72 /home/wmnlab/E/database/2024-03-20/UDP_Bandlock_9S_Phone_A/sm00/#02/data/udp_uplk_loss_latency.csv\n",
      "43/72 /home/wmnlab/E/database/2024-03-20/UDP_Bandlock_9S_Phone_A/sm08/#02/data/handover_info_log.csv\n",
      "43/72 /home/wmnlab/E/database/2024-03-20/UDP_Bandlock_9S_Phone_A/sm08/#02/data/udp_dnlk_loss_latency.csv\n",
      "43/72 /home/wmnlab/E/database/2024-03-20/UDP_Bandlock_9S_Phone_A/sm08/#02/data/udp_uplk_loss_latency.csv\n",
      "44/72 /home/wmnlab/E/database/2024-03-20/UDP_Bandlock_9S_Phone_A/sm01/#02/data/handover_info_log.csv\n",
      "44/72 /home/wmnlab/E/database/2024-03-20/UDP_Bandlock_9S_Phone_A/sm01/#02/data/udp_dnlk_loss_latency.csv\n",
      "44/72 /home/wmnlab/E/database/2024-03-20/UDP_Bandlock_9S_Phone_A/sm01/#02/data/udp_uplk_loss_latency.csv\n",
      "44/72 /home/wmnlab/E/database/2024-03-20/UDP_Bandlock_9S_Phone_A/sm02/#02/data/handover_info_log.csv\n",
      "44/72 /home/wmnlab/E/database/2024-03-20/UDP_Bandlock_9S_Phone_A/sm02/#02/data/udp_dnlk_loss_latency.csv\n",
      "44/72 /home/wmnlab/E/database/2024-03-20/UDP_Bandlock_9S_Phone_A/sm02/#02/data/udp_uplk_loss_latency.csv\n",
      "45/72 /home/wmnlab/E/database/2024-03-20/UDP_Bandlock_9S_Phone_A/sm01/#02/data/handover_info_log.csv\n",
      "45/72 /home/wmnlab/E/database/2024-03-20/UDP_Bandlock_9S_Phone_A/sm01/#02/data/udp_dnlk_loss_latency.csv\n",
      "45/72 /home/wmnlab/E/database/2024-03-20/UDP_Bandlock_9S_Phone_A/sm01/#02/data/udp_uplk_loss_latency.csv\n",
      "45/72 /home/wmnlab/E/database/2024-03-20/UDP_Bandlock_9S_Phone_A/sm03/#02/data/handover_info_log.csv\n",
      "45/72 /home/wmnlab/E/database/2024-03-20/UDP_Bandlock_9S_Phone_A/sm03/#02/data/udp_dnlk_loss_latency.csv\n",
      "45/72 /home/wmnlab/E/database/2024-03-20/UDP_Bandlock_9S_Phone_A/sm03/#02/data/udp_uplk_loss_latency.csv\n",
      "46/72 /home/wmnlab/E/database/2024-03-20/UDP_Bandlock_9S_Phone_A/sm01/#02/data/handover_info_log.csv\n",
      "46/72 /home/wmnlab/E/database/2024-03-20/UDP_Bandlock_9S_Phone_A/sm01/#02/data/udp_dnlk_loss_latency.csv\n",
      "46/72 /home/wmnlab/E/database/2024-03-20/UDP_Bandlock_9S_Phone_A/sm01/#02/data/udp_uplk_loss_latency.csv\n",
      "46/72 /home/wmnlab/E/database/2024-03-20/UDP_Bandlock_9S_Phone_A/sm04/#02/data/handover_info_log.csv\n",
      "46/72 /home/wmnlab/E/database/2024-03-20/UDP_Bandlock_9S_Phone_A/sm04/#02/data/udp_dnlk_loss_latency.csv\n",
      "46/72 /home/wmnlab/E/database/2024-03-20/UDP_Bandlock_9S_Phone_A/sm04/#02/data/udp_uplk_loss_latency.csv\n",
      "47/72 /home/wmnlab/E/database/2024-03-20/UDP_Bandlock_9S_Phone_A/sm01/#02/data/handover_info_log.csv\n",
      "47/72 /home/wmnlab/E/database/2024-03-20/UDP_Bandlock_9S_Phone_A/sm01/#02/data/udp_dnlk_loss_latency.csv\n",
      "47/72 /home/wmnlab/E/database/2024-03-20/UDP_Bandlock_9S_Phone_A/sm01/#02/data/udp_uplk_loss_latency.csv\n",
      "47/72 /home/wmnlab/E/database/2024-03-20/UDP_Bandlock_9S_Phone_A/sm05/#02/data/handover_info_log.csv\n",
      "47/72 /home/wmnlab/E/database/2024-03-20/UDP_Bandlock_9S_Phone_A/sm05/#02/data/udp_dnlk_loss_latency.csv\n",
      "47/72 /home/wmnlab/E/database/2024-03-20/UDP_Bandlock_9S_Phone_A/sm05/#02/data/udp_uplk_loss_latency.csv\n",
      "48/72 /home/wmnlab/E/database/2024-03-20/UDP_Bandlock_9S_Phone_A/sm01/#02/data/handover_info_log.csv\n",
      "48/72 /home/wmnlab/E/database/2024-03-20/UDP_Bandlock_9S_Phone_A/sm01/#02/data/udp_dnlk_loss_latency.csv\n",
      "48/72 /home/wmnlab/E/database/2024-03-20/UDP_Bandlock_9S_Phone_A/sm01/#02/data/udp_uplk_loss_latency.csv\n",
      "48/72 /home/wmnlab/E/database/2024-03-20/UDP_Bandlock_9S_Phone_A/sm06/#02/data/handover_info_log.csv\n",
      "48/72 /home/wmnlab/E/database/2024-03-20/UDP_Bandlock_9S_Phone_A/sm06/#02/data/udp_dnlk_loss_latency.csv\n",
      "48/72 /home/wmnlab/E/database/2024-03-20/UDP_Bandlock_9S_Phone_A/sm06/#02/data/udp_uplk_loss_latency.csv\n",
      "49/72 /home/wmnlab/E/database/2024-03-20/UDP_Bandlock_9S_Phone_A/sm01/#02/data/handover_info_log.csv\n",
      "49/72 /home/wmnlab/E/database/2024-03-20/UDP_Bandlock_9S_Phone_A/sm01/#02/data/udp_dnlk_loss_latency.csv\n",
      "49/72 /home/wmnlab/E/database/2024-03-20/UDP_Bandlock_9S_Phone_A/sm01/#02/data/udp_uplk_loss_latency.csv\n",
      "49/72 /home/wmnlab/E/database/2024-03-20/UDP_Bandlock_9S_Phone_A/sm07/#02/data/handover_info_log.csv\n",
      "49/72 /home/wmnlab/E/database/2024-03-20/UDP_Bandlock_9S_Phone_A/sm07/#02/data/udp_dnlk_loss_latency.csv\n",
      "49/72 /home/wmnlab/E/database/2024-03-20/UDP_Bandlock_9S_Phone_A/sm07/#02/data/udp_uplk_loss_latency.csv\n",
      "50/72 /home/wmnlab/E/database/2024-03-20/UDP_Bandlock_9S_Phone_A/sm01/#02/data/handover_info_log.csv\n",
      "50/72 /home/wmnlab/E/database/2024-03-20/UDP_Bandlock_9S_Phone_A/sm01/#02/data/udp_dnlk_loss_latency.csv\n",
      "50/72 /home/wmnlab/E/database/2024-03-20/UDP_Bandlock_9S_Phone_A/sm01/#02/data/udp_uplk_loss_latency.csv\n",
      "50/72 /home/wmnlab/E/database/2024-03-20/UDP_Bandlock_9S_Phone_A/sm08/#02/data/handover_info_log.csv\n",
      "50/72 /home/wmnlab/E/database/2024-03-20/UDP_Bandlock_9S_Phone_A/sm08/#02/data/udp_dnlk_loss_latency.csv\n",
      "50/72 /home/wmnlab/E/database/2024-03-20/UDP_Bandlock_9S_Phone_A/sm08/#02/data/udp_uplk_loss_latency.csv\n",
      "51/72 /home/wmnlab/E/database/2024-03-20/UDP_Bandlock_9S_Phone_A/sm02/#02/data/handover_info_log.csv\n",
      "51/72 /home/wmnlab/E/database/2024-03-20/UDP_Bandlock_9S_Phone_A/sm02/#02/data/udp_dnlk_loss_latency.csv\n",
      "51/72 /home/wmnlab/E/database/2024-03-20/UDP_Bandlock_9S_Phone_A/sm02/#02/data/udp_uplk_loss_latency.csv\n",
      "51/72 /home/wmnlab/E/database/2024-03-20/UDP_Bandlock_9S_Phone_A/sm03/#02/data/handover_info_log.csv\n",
      "51/72 /home/wmnlab/E/database/2024-03-20/UDP_Bandlock_9S_Phone_A/sm03/#02/data/udp_dnlk_loss_latency.csv\n",
      "51/72 /home/wmnlab/E/database/2024-03-20/UDP_Bandlock_9S_Phone_A/sm03/#02/data/udp_uplk_loss_latency.csv\n",
      "52/72 /home/wmnlab/E/database/2024-03-20/UDP_Bandlock_9S_Phone_A/sm02/#02/data/handover_info_log.csv\n",
      "52/72 /home/wmnlab/E/database/2024-03-20/UDP_Bandlock_9S_Phone_A/sm02/#02/data/udp_dnlk_loss_latency.csv\n",
      "52/72 /home/wmnlab/E/database/2024-03-20/UDP_Bandlock_9S_Phone_A/sm02/#02/data/udp_uplk_loss_latency.csv\n",
      "52/72 /home/wmnlab/E/database/2024-03-20/UDP_Bandlock_9S_Phone_A/sm04/#02/data/handover_info_log.csv\n",
      "52/72 /home/wmnlab/E/database/2024-03-20/UDP_Bandlock_9S_Phone_A/sm04/#02/data/udp_dnlk_loss_latency.csv\n",
      "52/72 /home/wmnlab/E/database/2024-03-20/UDP_Bandlock_9S_Phone_A/sm04/#02/data/udp_uplk_loss_latency.csv\n",
      "53/72 /home/wmnlab/E/database/2024-03-20/UDP_Bandlock_9S_Phone_A/sm02/#02/data/handover_info_log.csv\n",
      "53/72 /home/wmnlab/E/database/2024-03-20/UDP_Bandlock_9S_Phone_A/sm02/#02/data/udp_dnlk_loss_latency.csv\n",
      "53/72 /home/wmnlab/E/database/2024-03-20/UDP_Bandlock_9S_Phone_A/sm02/#02/data/udp_uplk_loss_latency.csv\n",
      "53/72 /home/wmnlab/E/database/2024-03-20/UDP_Bandlock_9S_Phone_A/sm05/#02/data/handover_info_log.csv\n",
      "53/72 /home/wmnlab/E/database/2024-03-20/UDP_Bandlock_9S_Phone_A/sm05/#02/data/udp_dnlk_loss_latency.csv\n",
      "53/72 /home/wmnlab/E/database/2024-03-20/UDP_Bandlock_9S_Phone_A/sm05/#02/data/udp_uplk_loss_latency.csv\n",
      "54/72 /home/wmnlab/E/database/2024-03-20/UDP_Bandlock_9S_Phone_A/sm02/#02/data/handover_info_log.csv\n",
      "54/72 /home/wmnlab/E/database/2024-03-20/UDP_Bandlock_9S_Phone_A/sm02/#02/data/udp_dnlk_loss_latency.csv\n",
      "54/72 /home/wmnlab/E/database/2024-03-20/UDP_Bandlock_9S_Phone_A/sm02/#02/data/udp_uplk_loss_latency.csv\n",
      "54/72 /home/wmnlab/E/database/2024-03-20/UDP_Bandlock_9S_Phone_A/sm06/#02/data/handover_info_log.csv\n",
      "54/72 /home/wmnlab/E/database/2024-03-20/UDP_Bandlock_9S_Phone_A/sm06/#02/data/udp_dnlk_loss_latency.csv\n",
      "54/72 /home/wmnlab/E/database/2024-03-20/UDP_Bandlock_9S_Phone_A/sm06/#02/data/udp_uplk_loss_latency.csv\n",
      "55/72 /home/wmnlab/E/database/2024-03-20/UDP_Bandlock_9S_Phone_A/sm02/#02/data/handover_info_log.csv\n",
      "55/72 /home/wmnlab/E/database/2024-03-20/UDP_Bandlock_9S_Phone_A/sm02/#02/data/udp_dnlk_loss_latency.csv\n",
      "55/72 /home/wmnlab/E/database/2024-03-20/UDP_Bandlock_9S_Phone_A/sm02/#02/data/udp_uplk_loss_latency.csv\n",
      "55/72 /home/wmnlab/E/database/2024-03-20/UDP_Bandlock_9S_Phone_A/sm07/#02/data/handover_info_log.csv\n",
      "55/72 /home/wmnlab/E/database/2024-03-20/UDP_Bandlock_9S_Phone_A/sm07/#02/data/udp_dnlk_loss_latency.csv\n",
      "55/72 /home/wmnlab/E/database/2024-03-20/UDP_Bandlock_9S_Phone_A/sm07/#02/data/udp_uplk_loss_latency.csv\n",
      "56/72 /home/wmnlab/E/database/2024-03-20/UDP_Bandlock_9S_Phone_A/sm02/#02/data/handover_info_log.csv\n",
      "56/72 /home/wmnlab/E/database/2024-03-20/UDP_Bandlock_9S_Phone_A/sm02/#02/data/udp_dnlk_loss_latency.csv\n",
      "56/72 /home/wmnlab/E/database/2024-03-20/UDP_Bandlock_9S_Phone_A/sm02/#02/data/udp_uplk_loss_latency.csv\n",
      "56/72 /home/wmnlab/E/database/2024-03-20/UDP_Bandlock_9S_Phone_A/sm08/#02/data/handover_info_log.csv\n",
      "56/72 /home/wmnlab/E/database/2024-03-20/UDP_Bandlock_9S_Phone_A/sm08/#02/data/udp_dnlk_loss_latency.csv\n",
      "56/72 /home/wmnlab/E/database/2024-03-20/UDP_Bandlock_9S_Phone_A/sm08/#02/data/udp_uplk_loss_latency.csv\n",
      "57/72 /home/wmnlab/E/database/2024-03-20/UDP_Bandlock_9S_Phone_A/sm03/#02/data/handover_info_log.csv\n",
      "57/72 /home/wmnlab/E/database/2024-03-20/UDP_Bandlock_9S_Phone_A/sm03/#02/data/udp_dnlk_loss_latency.csv\n",
      "57/72 /home/wmnlab/E/database/2024-03-20/UDP_Bandlock_9S_Phone_A/sm03/#02/data/udp_uplk_loss_latency.csv\n",
      "57/72 /home/wmnlab/E/database/2024-03-20/UDP_Bandlock_9S_Phone_A/sm04/#02/data/handover_info_log.csv\n",
      "57/72 /home/wmnlab/E/database/2024-03-20/UDP_Bandlock_9S_Phone_A/sm04/#02/data/udp_dnlk_loss_latency.csv\n",
      "57/72 /home/wmnlab/E/database/2024-03-20/UDP_Bandlock_9S_Phone_A/sm04/#02/data/udp_uplk_loss_latency.csv\n",
      "58/72 /home/wmnlab/E/database/2024-03-20/UDP_Bandlock_9S_Phone_A/sm03/#02/data/handover_info_log.csv\n",
      "58/72 /home/wmnlab/E/database/2024-03-20/UDP_Bandlock_9S_Phone_A/sm03/#02/data/udp_dnlk_loss_latency.csv\n",
      "58/72 /home/wmnlab/E/database/2024-03-20/UDP_Bandlock_9S_Phone_A/sm03/#02/data/udp_uplk_loss_latency.csv\n",
      "58/72 /home/wmnlab/E/database/2024-03-20/UDP_Bandlock_9S_Phone_A/sm05/#02/data/handover_info_log.csv\n",
      "58/72 /home/wmnlab/E/database/2024-03-20/UDP_Bandlock_9S_Phone_A/sm05/#02/data/udp_dnlk_loss_latency.csv\n",
      "58/72 /home/wmnlab/E/database/2024-03-20/UDP_Bandlock_9S_Phone_A/sm05/#02/data/udp_uplk_loss_latency.csv\n",
      "59/72 /home/wmnlab/E/database/2024-03-20/UDP_Bandlock_9S_Phone_A/sm03/#02/data/handover_info_log.csv\n",
      "59/72 /home/wmnlab/E/database/2024-03-20/UDP_Bandlock_9S_Phone_A/sm03/#02/data/udp_dnlk_loss_latency.csv\n",
      "59/72 /home/wmnlab/E/database/2024-03-20/UDP_Bandlock_9S_Phone_A/sm03/#02/data/udp_uplk_loss_latency.csv\n",
      "59/72 /home/wmnlab/E/database/2024-03-20/UDP_Bandlock_9S_Phone_A/sm06/#02/data/handover_info_log.csv\n",
      "59/72 /home/wmnlab/E/database/2024-03-20/UDP_Bandlock_9S_Phone_A/sm06/#02/data/udp_dnlk_loss_latency.csv\n",
      "59/72 /home/wmnlab/E/database/2024-03-20/UDP_Bandlock_9S_Phone_A/sm06/#02/data/udp_uplk_loss_latency.csv\n",
      "60/72 /home/wmnlab/E/database/2024-03-20/UDP_Bandlock_9S_Phone_A/sm03/#02/data/handover_info_log.csv\n",
      "60/72 /home/wmnlab/E/database/2024-03-20/UDP_Bandlock_9S_Phone_A/sm03/#02/data/udp_dnlk_loss_latency.csv\n",
      "60/72 /home/wmnlab/E/database/2024-03-20/UDP_Bandlock_9S_Phone_A/sm03/#02/data/udp_uplk_loss_latency.csv\n",
      "60/72 /home/wmnlab/E/database/2024-03-20/UDP_Bandlock_9S_Phone_A/sm07/#02/data/handover_info_log.csv\n",
      "60/72 /home/wmnlab/E/database/2024-03-20/UDP_Bandlock_9S_Phone_A/sm07/#02/data/udp_dnlk_loss_latency.csv\n",
      "60/72 /home/wmnlab/E/database/2024-03-20/UDP_Bandlock_9S_Phone_A/sm07/#02/data/udp_uplk_loss_latency.csv\n",
      "61/72 /home/wmnlab/E/database/2024-03-20/UDP_Bandlock_9S_Phone_A/sm03/#02/data/handover_info_log.csv\n",
      "61/72 /home/wmnlab/E/database/2024-03-20/UDP_Bandlock_9S_Phone_A/sm03/#02/data/udp_dnlk_loss_latency.csv\n",
      "61/72 /home/wmnlab/E/database/2024-03-20/UDP_Bandlock_9S_Phone_A/sm03/#02/data/udp_uplk_loss_latency.csv\n",
      "61/72 /home/wmnlab/E/database/2024-03-20/UDP_Bandlock_9S_Phone_A/sm08/#02/data/handover_info_log.csv\n",
      "61/72 /home/wmnlab/E/database/2024-03-20/UDP_Bandlock_9S_Phone_A/sm08/#02/data/udp_dnlk_loss_latency.csv\n",
      "61/72 /home/wmnlab/E/database/2024-03-20/UDP_Bandlock_9S_Phone_A/sm08/#02/data/udp_uplk_loss_latency.csv\n",
      "62/72 /home/wmnlab/E/database/2024-03-20/UDP_Bandlock_9S_Phone_A/sm04/#02/data/handover_info_log.csv\n",
      "62/72 /home/wmnlab/E/database/2024-03-20/UDP_Bandlock_9S_Phone_A/sm04/#02/data/udp_dnlk_loss_latency.csv\n",
      "62/72 /home/wmnlab/E/database/2024-03-20/UDP_Bandlock_9S_Phone_A/sm04/#02/data/udp_uplk_loss_latency.csv\n",
      "62/72 /home/wmnlab/E/database/2024-03-20/UDP_Bandlock_9S_Phone_A/sm05/#02/data/handover_info_log.csv\n",
      "62/72 /home/wmnlab/E/database/2024-03-20/UDP_Bandlock_9S_Phone_A/sm05/#02/data/udp_dnlk_loss_latency.csv\n",
      "62/72 /home/wmnlab/E/database/2024-03-20/UDP_Bandlock_9S_Phone_A/sm05/#02/data/udp_uplk_loss_latency.csv\n",
      "63/72 /home/wmnlab/E/database/2024-03-20/UDP_Bandlock_9S_Phone_A/sm04/#02/data/handover_info_log.csv\n",
      "63/72 /home/wmnlab/E/database/2024-03-20/UDP_Bandlock_9S_Phone_A/sm04/#02/data/udp_dnlk_loss_latency.csv\n",
      "63/72 /home/wmnlab/E/database/2024-03-20/UDP_Bandlock_9S_Phone_A/sm04/#02/data/udp_uplk_loss_latency.csv\n",
      "63/72 /home/wmnlab/E/database/2024-03-20/UDP_Bandlock_9S_Phone_A/sm06/#02/data/handover_info_log.csv\n",
      "63/72 /home/wmnlab/E/database/2024-03-20/UDP_Bandlock_9S_Phone_A/sm06/#02/data/udp_dnlk_loss_latency.csv\n",
      "63/72 /home/wmnlab/E/database/2024-03-20/UDP_Bandlock_9S_Phone_A/sm06/#02/data/udp_uplk_loss_latency.csv\n",
      "64/72 /home/wmnlab/E/database/2024-03-20/UDP_Bandlock_9S_Phone_A/sm04/#02/data/handover_info_log.csv\n",
      "64/72 /home/wmnlab/E/database/2024-03-20/UDP_Bandlock_9S_Phone_A/sm04/#02/data/udp_dnlk_loss_latency.csv\n",
      "64/72 /home/wmnlab/E/database/2024-03-20/UDP_Bandlock_9S_Phone_A/sm04/#02/data/udp_uplk_loss_latency.csv\n",
      "64/72 /home/wmnlab/E/database/2024-03-20/UDP_Bandlock_9S_Phone_A/sm07/#02/data/handover_info_log.csv\n",
      "64/72 /home/wmnlab/E/database/2024-03-20/UDP_Bandlock_9S_Phone_A/sm07/#02/data/udp_dnlk_loss_latency.csv\n",
      "64/72 /home/wmnlab/E/database/2024-03-20/UDP_Bandlock_9S_Phone_A/sm07/#02/data/udp_uplk_loss_latency.csv\n",
      "65/72 /home/wmnlab/E/database/2024-03-20/UDP_Bandlock_9S_Phone_A/sm04/#02/data/handover_info_log.csv\n",
      "65/72 /home/wmnlab/E/database/2024-03-20/UDP_Bandlock_9S_Phone_A/sm04/#02/data/udp_dnlk_loss_latency.csv\n",
      "65/72 /home/wmnlab/E/database/2024-03-20/UDP_Bandlock_9S_Phone_A/sm04/#02/data/udp_uplk_loss_latency.csv\n",
      "65/72 /home/wmnlab/E/database/2024-03-20/UDP_Bandlock_9S_Phone_A/sm08/#02/data/handover_info_log.csv\n",
      "65/72 /home/wmnlab/E/database/2024-03-20/UDP_Bandlock_9S_Phone_A/sm08/#02/data/udp_dnlk_loss_latency.csv\n",
      "65/72 /home/wmnlab/E/database/2024-03-20/UDP_Bandlock_9S_Phone_A/sm08/#02/data/udp_uplk_loss_latency.csv\n",
      "66/72 /home/wmnlab/E/database/2024-03-20/UDP_Bandlock_9S_Phone_A/sm05/#02/data/handover_info_log.csv\n",
      "66/72 /home/wmnlab/E/database/2024-03-20/UDP_Bandlock_9S_Phone_A/sm05/#02/data/udp_dnlk_loss_latency.csv\n",
      "66/72 /home/wmnlab/E/database/2024-03-20/UDP_Bandlock_9S_Phone_A/sm05/#02/data/udp_uplk_loss_latency.csv\n",
      "66/72 /home/wmnlab/E/database/2024-03-20/UDP_Bandlock_9S_Phone_A/sm06/#02/data/handover_info_log.csv\n",
      "66/72 /home/wmnlab/E/database/2024-03-20/UDP_Bandlock_9S_Phone_A/sm06/#02/data/udp_dnlk_loss_latency.csv\n",
      "66/72 /home/wmnlab/E/database/2024-03-20/UDP_Bandlock_9S_Phone_A/sm06/#02/data/udp_uplk_loss_latency.csv\n",
      "67/72 /home/wmnlab/E/database/2024-03-20/UDP_Bandlock_9S_Phone_A/sm05/#02/data/handover_info_log.csv\n",
      "67/72 /home/wmnlab/E/database/2024-03-20/UDP_Bandlock_9S_Phone_A/sm05/#02/data/udp_dnlk_loss_latency.csv\n",
      "67/72 /home/wmnlab/E/database/2024-03-20/UDP_Bandlock_9S_Phone_A/sm05/#02/data/udp_uplk_loss_latency.csv\n",
      "67/72 /home/wmnlab/E/database/2024-03-20/UDP_Bandlock_9S_Phone_A/sm07/#02/data/handover_info_log.csv\n",
      "67/72 /home/wmnlab/E/database/2024-03-20/UDP_Bandlock_9S_Phone_A/sm07/#02/data/udp_dnlk_loss_latency.csv\n",
      "67/72 /home/wmnlab/E/database/2024-03-20/UDP_Bandlock_9S_Phone_A/sm07/#02/data/udp_uplk_loss_latency.csv\n",
      "68/72 /home/wmnlab/E/database/2024-03-20/UDP_Bandlock_9S_Phone_A/sm05/#02/data/handover_info_log.csv\n",
      "68/72 /home/wmnlab/E/database/2024-03-20/UDP_Bandlock_9S_Phone_A/sm05/#02/data/udp_dnlk_loss_latency.csv\n",
      "68/72 /home/wmnlab/E/database/2024-03-20/UDP_Bandlock_9S_Phone_A/sm05/#02/data/udp_uplk_loss_latency.csv\n",
      "68/72 /home/wmnlab/E/database/2024-03-20/UDP_Bandlock_9S_Phone_A/sm08/#02/data/handover_info_log.csv\n",
      "68/72 /home/wmnlab/E/database/2024-03-20/UDP_Bandlock_9S_Phone_A/sm08/#02/data/udp_dnlk_loss_latency.csv\n",
      "68/72 /home/wmnlab/E/database/2024-03-20/UDP_Bandlock_9S_Phone_A/sm08/#02/data/udp_uplk_loss_latency.csv\n",
      "69/72 /home/wmnlab/E/database/2024-03-20/UDP_Bandlock_9S_Phone_A/sm06/#02/data/handover_info_log.csv\n",
      "69/72 /home/wmnlab/E/database/2024-03-20/UDP_Bandlock_9S_Phone_A/sm06/#02/data/udp_dnlk_loss_latency.csv\n",
      "69/72 /home/wmnlab/E/database/2024-03-20/UDP_Bandlock_9S_Phone_A/sm06/#02/data/udp_uplk_loss_latency.csv\n",
      "69/72 /home/wmnlab/E/database/2024-03-20/UDP_Bandlock_9S_Phone_A/sm07/#02/data/handover_info_log.csv\n",
      "69/72 /home/wmnlab/E/database/2024-03-20/UDP_Bandlock_9S_Phone_A/sm07/#02/data/udp_dnlk_loss_latency.csv\n",
      "69/72 /home/wmnlab/E/database/2024-03-20/UDP_Bandlock_9S_Phone_A/sm07/#02/data/udp_uplk_loss_latency.csv\n",
      "70/72 /home/wmnlab/E/database/2024-03-20/UDP_Bandlock_9S_Phone_A/sm06/#02/data/handover_info_log.csv\n",
      "70/72 /home/wmnlab/E/database/2024-03-20/UDP_Bandlock_9S_Phone_A/sm06/#02/data/udp_dnlk_loss_latency.csv\n",
      "70/72 /home/wmnlab/E/database/2024-03-20/UDP_Bandlock_9S_Phone_A/sm06/#02/data/udp_uplk_loss_latency.csv\n",
      "70/72 /home/wmnlab/E/database/2024-03-20/UDP_Bandlock_9S_Phone_A/sm08/#02/data/handover_info_log.csv\n",
      "70/72 /home/wmnlab/E/database/2024-03-20/UDP_Bandlock_9S_Phone_A/sm08/#02/data/udp_dnlk_loss_latency.csv\n",
      "70/72 /home/wmnlab/E/database/2024-03-20/UDP_Bandlock_9S_Phone_A/sm08/#02/data/udp_uplk_loss_latency.csv\n",
      "71/72 /home/wmnlab/E/database/2024-03-20/UDP_Bandlock_9S_Phone_A/sm07/#02/data/handover_info_log.csv\n",
      "71/72 /home/wmnlab/E/database/2024-03-20/UDP_Bandlock_9S_Phone_A/sm07/#02/data/udp_dnlk_loss_latency.csv\n",
      "71/72 /home/wmnlab/E/database/2024-03-20/UDP_Bandlock_9S_Phone_A/sm07/#02/data/udp_uplk_loss_latency.csv\n",
      "71/72 /home/wmnlab/E/database/2024-03-20/UDP_Bandlock_9S_Phone_A/sm08/#02/data/handover_info_log.csv\n",
      "71/72 /home/wmnlab/E/database/2024-03-20/UDP_Bandlock_9S_Phone_A/sm08/#02/data/udp_dnlk_loss_latency.csv\n",
      "71/72 /home/wmnlab/E/database/2024-03-20/UDP_Bandlock_9S_Phone_A/sm08/#02/data/udp_uplk_loss_latency.csv\n",
      "./20240323_0800028652_new_dataset/20240324_1800086626_new_dataset/A\n",
      "\n"
     ]
    }
   ],
   "source": [
    "dr_model = DrProfile(filepaths, 'A', sr_model_id=sr_model_id, dr_model_id=dr_model_id, metrics=['dl_lost'])\n",
    "dr_model.save_models()"
   ]
  },
  {
   "cell_type": "markdown",
   "metadata": {},
   "source": [
    "# Dual Radio Evaluation"
   ]
  },
  {
   "cell_type": "code",
   "execution_count": 8,
   "metadata": {},
   "outputs": [],
   "source": [
    "class DrEval:\n",
    "    def __init__(self, filepaths, model_name='Test', model_suffix=None, sr_model_id=None, dr_model_id=None, load_path='.', save_path='.',\n",
    "                 sp_columns=['type'], ts_column='Timestamp',\n",
    "                 metrics=['dl_lost']):\n",
    "        # Initialize instance variables\n",
    "        self.filepaths = copy.deepcopy(filepaths)\n",
    "        \n",
    "        if sr_model_id is None:\n",
    "            raise TypeError(\"請輸入SR模型編號\")\n",
    "        else:\n",
    "            self.sr_model_id = sr_model_id\n",
    "        \n",
    "        if dr_model_id is None:\n",
    "            raise TypeError(\"請輸入DR模型編號\")\n",
    "        else:\n",
    "            self.dr_model_id = dr_model_id\n",
    "        \n",
    "        self.model_name = model_name\n",
    "        self.save_path = save_path\n",
    "        \n",
    "        self.load_path = os.path.join(load_path, self.sr_model_id, 'models', self.model_name)\n",
    "        print(self.load_path)\n",
    "        with open(f'{self.load_path}_kde_models.pkl', 'rb') as f:\n",
    "            self.kde_models = pickle.load(f)\n",
    "        with open(f'{self.load_path}_hist_models.pkl', 'rb') as f:\n",
    "            self.hist_models = pickle.load(f)\n",
    "        with open(f'{self.load_path}_scope_models.pkl', 'rb') as f:\n",
    "            self.scope_models = pickle.load(f)\n",
    "        with open(f'{self.load_path}_plr_models.pkl', 'rb') as f:\n",
    "            self.plr_models = pickle.load(f)\n",
    "        with open(f'{self.load_path}_sr_prob_models.pkl', 'rb') as f:\n",
    "            self.sr_prob_models = pickle.load(f)\n",
    "            \n",
    "        self.load_path = os.path.join(load_path, self.sr_model_id, self.dr_model_id, self.model_name)\n",
    "        print(self.load_path)\n",
    "        if model_suffix is None:\n",
    "            print(f'{self.load_path}_dr_prob_models.pkl')\n",
    "            with open(f'{self.load_path}_dr_prob_models.pkl', 'rb') as f:\n",
    "                self.dr_prob_models = pickle.load(f)\n",
    "        else:\n",
    "            print(f'{self.load_path}_dr_prob_models_{model_suffix}.pkl')\n",
    "            with open(f'{self.load_path}_dr_prob_models_{model_suffix}.pkl', 'rb') as f:\n",
    "                self.dr_prob_models = pickle.load(f)\n",
    "        self.model_suffix = model_suffix\n",
    "        \n",
    "        self.sp_columns = sp_columns[:]\n",
    "        self.ts_column = ts_column\n",
    "        self.metrics = metrics[:]\n",
    "        \n",
    "        _, _, _, self.figure_id = figure_identity()\n",
    "        \n",
    "        # Sample data\n",
    "        self.LOSS_GT = []\n",
    "        self.LOSS_EV = []\n",
    "        self.LOSS_STD = []\n",
    "        self.DEVICES = []\n",
    "        self.TRACES = []\n",
    "        \n",
    "        # all records\n",
    "        self.records = []\n",
    "\n",
    "    @staticmethod\n",
    "    def generate_random_boolean(probability_true):\n",
    "        return random.random() < probability_true\n",
    "    \n",
    "    @staticmethod\n",
    "    def interpolate(x, y, ratio=0.5):\n",
    "        \"\"\"\n",
    "        Args:\n",
    "            x, y (datetime.datetime): x < y\n",
    "            ratio (float): a decimal numeral in a range [0, 1]; 0 means break at x, 1 means break at y.\n",
    "        Returns:\n",
    "            (datetime.datetime): breakpoint of interpolation\n",
    "        \"\"\"\n",
    "        return x + (y - x) * ratio\n",
    "    \n",
    "    def hist_method(self, df, ho_df, mode_mets, mets, RATE_TYPE):\n",
    "        scope = self.scope_models[mode_mets]\n",
    "        hist_model = self.hist_models[mode_mets]\n",
    "        prob_model = self.sr_prob_models[mode_mets]\n",
    "        plr_model = self.plr_models[mode_mets]\n",
    "        \n",
    "        this_df = df.copy()\n",
    "        for i, row in ho_df.iterrows():\n",
    "            prior_row = ho_df.iloc[i-1] if i != 0 else None\n",
    "            post_row = ho_df.iloc[i+1] if i != len(ho_df) - 1 else None\n",
    "\n",
    "            # Peek the next event to avoid HO overlapping with handoverFailure (skip!!)\n",
    "            if i != len(ho_df) - 1 and pd.notna(row.end) and row.end > post_row.start:\n",
    "                # print('Overlapping event occurs!!')\n",
    "                # print(i, row['start'], row['end'], row['type'], row['cause'])\n",
    "                # print(i+1, post_row['start'], post_row['end'], post_row['type'], post_row['cause'])\n",
    "                continue\n",
    "            \n",
    "            # Set prior event if the prior loop is skipped\n",
    "            if i != 0 and pd.notna(prior_row.end) and prior_row.end > row.start:\n",
    "                prior_row = ho_df.iloc[i-2] if i > 1 else None\n",
    "            \n",
    "            # Basic information of the current row\n",
    "            tag = '_'.join([s for s in row[self.sp_columns] if pd.notna(s)])  # specific column name\n",
    "            start_ts, end_ts = row['start'], row['end']  # handover start/end time\n",
    "            interruption_time = (end_ts - start_ts).total_seconds() if pd.notna(end_ts) else 0  # handover interruption time\n",
    "            \n",
    "            # Set simple left/right bounds\n",
    "            current_left_bound = start_ts + pd.Timedelta(seconds=(scope[tag][0]))\n",
    "            current_right_bound = start_ts + pd.Timedelta(seconds=(scope[tag][1]))\n",
    "            \n",
    "            # Set left/right bounds to avoid event overlapping with each other\n",
    "            if prior_row is not None:\n",
    "                prior_tag = '_'.join([s for s in prior_row[self.sp_columns] if pd.notna(s)])\n",
    "                prior_right_bound = prior_row['start'] + pd.Timedelta(seconds=(scope[prior_tag][1]))\n",
    "                if pd.notna(prior_row['end']):\n",
    "                    left_bound = min(max(current_left_bound, DrEval.interpolate(prior_right_bound, current_left_bound), prior_row['end']), start_ts)\n",
    "                else:\n",
    "                    left_bound = min(max(current_left_bound, DrEval.interpolate(prior_right_bound, current_left_bound), prior_row['start']), start_ts)\n",
    "            else:\n",
    "                left_bound = current_left_bound\n",
    "            \n",
    "            if post_row is not None:\n",
    "                post_tag = '_'.join([s for s in post_row[self.sp_columns] if pd.notna(s)])\n",
    "                post_left_bound = post_row['start'] + pd.Timedelta(seconds=(scope[post_tag][0]))\n",
    "                if pd.notna(end_ts):\n",
    "                    right_bound = max(min(current_right_bound, DrEval.interpolate(current_right_bound, post_left_bound), post_row['start']), end_ts)\n",
    "                else:\n",
    "                    right_bound = max(min(current_right_bound, DrEval.interpolate(current_right_bound, post_left_bound), post_row['start']), start_ts)\n",
    "            else:\n",
    "                right_bound = current_right_bound\n",
    "            \n",
    "            interval = P.closed(left_bound, right_bound)\n",
    "            \n",
    "            # Concatenate PLR from mapping list\n",
    "            current_df = this_df[this_df['Timestamp'] < interval.upper].copy()\n",
    "            plr_mapping = hist_model[tag].copy()\n",
    "            \n",
    "            current_df[f'relative_time'] = (current_df['Timestamp'] - start_ts).dt.total_seconds()\n",
    "            current_df[f'window_id'] = ((current_df[f'relative_time'] + 0.005) // 0.01) * 0.01\n",
    "            \n",
    "            trigger_probability = prob_model[tag]\n",
    "            \n",
    "            if plr_mapping.empty:\n",
    "                tmp = current_df.copy().rename(columns={mets: f'{mets}_x'})\n",
    "            else:\n",
    "                tmp = pd.merge(current_df, plr_mapping, on='window_id', how='left')\n",
    "                tmp[RATE_TYPE] = tmp[RATE_TYPE].fillna(0)\n",
    "                \n",
    "                if not DrEval.generate_random_boolean(trigger_probability):\n",
    "                    tmp[RATE_TYPE] = 0\n",
    "            \n",
    "            tmp['type'] = tag\n",
    "            \n",
    "            if i == 0:\n",
    "                answer = tmp.copy()\n",
    "            else:\n",
    "                answer = pd.concat([answer, tmp], axis=0)\n",
    "            \n",
    "            # Update dataframe to accelerate the speed\n",
    "            this_df = this_df[this_df[self.ts_column] >= interval.upper].copy()\n",
    "        \n",
    "        answer = pd.concat([answer, this_df], axis=0)\n",
    "        \n",
    "        # Consider stable duration\n",
    "        stable_df = answer[answer['tx_count'].isnull()].copy()[['seq', 'lost_x', 'excl', 'Timestamp']].rename(columns={'lost_x': 'lost'})\n",
    "\n",
    "        stable_df['Timestamp_sec'] = stable_df['Timestamp'].dt.floor('S')\n",
    "        stable_df['relative_time'] = (stable_df['Timestamp'] - stable_df['Timestamp_sec']).dt.total_seconds() - 0.5\n",
    "        stable_df['window_id'] = ((stable_df['relative_time'] + 0.01 / 2) // 0.01) * 0.01\n",
    "\n",
    "        plr_mapping = hist_model['Stable'].copy()        \n",
    "        stable_df = pd.merge(stable_df, plr_mapping, on='window_id', how='left').rename(columns={'PLR': 'PLR_if_trigger'})\n",
    "        trigger_prob_mapping = stable_df[~stable_df['Timestamp_sec'].duplicated()].reset_index(drop=True)[['Timestamp_sec']]\n",
    "        \n",
    "        trigger_probability = prob_model['Stable']\n",
    "        random_bool_array = [DrEval.generate_random_boolean(trigger_probability) for _ in range(len(trigger_prob_mapping))]\n",
    "        trigger_prob_mapping['trigger'] = random_bool_array\n",
    "\n",
    "        stable_df = pd.merge(stable_df, trigger_prob_mapping, on='Timestamp_sec', how='left')\n",
    "        stable_df['PLR'] = stable_df['PLR_if_trigger'] * stable_df['trigger']\n",
    "        \n",
    "        stable_df['type'] = 'Stable'\n",
    "\n",
    "        del stable_df['Timestamp_sec'], stable_df['PLR_if_trigger'], stable_df['trigger']\n",
    "        \n",
    "        answer = answer[answer['tx_count'].notnull()].copy()\n",
    "        \n",
    "        answer = pd.concat([answer, stable_df], axis=0)\n",
    "        answer = answer.sort_values(by='Timestamp').reset_index(drop=True)\n",
    "        answer['PLR'] = answer['PLR'] / 100\n",
    "        answer['Y'] = answer['PLR'].apply(DrEval.generate_random_boolean)\n",
    "        \n",
    "        eval_value = answer['Y'].mean() * 100\n",
    "        ground_value = df['lost'].mean() * 100\n",
    "        \n",
    "        answer = pd.concat([answer[['seq', 'Timestamp', 'type', 'relative_time', 'window_id']],\n",
    "                            df[['lost']],\n",
    "                            answer[[RATE_TYPE, 'Y']]], axis=1)\n",
    "        \n",
    "        return answer, eval_value, ground_value\n",
    "    \n",
    "    \n",
    "    def setup_profile(self, df, ho_df, df2, scope):\n",
    "        \n",
    "        this_df = df2.copy()\n",
    "        this_df = this_df[this_df['Y']].copy().reset_index(drop=True)\n",
    "        \n",
    "        df['anchor_type'] = 'Stable'\n",
    "        df['anchor_state'] = 0\n",
    "        for i, row in ho_df.iterrows():\n",
    "            prior_row = ho_df.iloc[i-1] if i != 0 else None\n",
    "            post_row = ho_df.iloc[i+1] if i != len(ho_df) - 1 else None\n",
    "\n",
    "            # Peek the next event to avoid HO overlapping with handoverFailure (skip!!)\n",
    "            if i != len(ho_df) - 1 and pd.notna(row.end) and row.end > post_row.start:\n",
    "                # print('Overlapping event occurs!!')\n",
    "                # print(i, row['start'], row['end'], row['type'], row['cause'])\n",
    "                # print(i+1, post_row['start'], post_row['end'], post_row['type'], post_row['cause'])\n",
    "                continue\n",
    "            \n",
    "            # Set prior event if the prior loop is skipped\n",
    "            if i != 0 and pd.notna(prior_row.end) and prior_row.end > row.start:\n",
    "                prior_row = ho_df.iloc[i-2] if i > 1 else None\n",
    "            \n",
    "            # Basic information of the current row\n",
    "            tag = '_'.join([s for s in row[self.sp_columns] if pd.notna(s)])  # specific column name\n",
    "            start_ts, end_ts = row['start'], row['end']  # handover start/end time\n",
    "            interruption_time = (end_ts - start_ts).total_seconds() if pd.notna(end_ts) else 0  # handover interruption time\n",
    "            \n",
    "            # Set simple left/right bounds\n",
    "            current_left_bound = start_ts + pd.Timedelta(seconds=(scope[tag][0]))\n",
    "            current_right_bound = start_ts + pd.Timedelta(seconds=(scope[tag][1]))\n",
    "            \n",
    "            # Set left/right bounds to avoid event overlapping with each other\n",
    "            if prior_row is not None:\n",
    "                prior_tag = '_'.join([s for s in prior_row[self.sp_columns] if pd.notna(s)])\n",
    "                prior_right_bound = prior_row['start'] + pd.Timedelta(seconds=(scope[prior_tag][1]))\n",
    "                if pd.notna(prior_row['end']):\n",
    "                    left_bound = min(max(current_left_bound, DrEval.interpolate(prior_right_bound, current_left_bound), prior_row['end']), start_ts)\n",
    "                else:\n",
    "                    left_bound = min(max(current_left_bound, DrEval.interpolate(prior_right_bound, current_left_bound), prior_row['start']), start_ts)\n",
    "            else:\n",
    "                left_bound = current_left_bound\n",
    "            \n",
    "            if post_row is not None:\n",
    "                post_tag = '_'.join([s for s in post_row[self.sp_columns] if pd.notna(s)])\n",
    "                post_left_bound = post_row['start'] + pd.Timedelta(seconds=(scope[post_tag][0]))\n",
    "                if pd.notna(end_ts):\n",
    "                    right_bound = max(min(current_right_bound, DrEval.interpolate(current_right_bound, post_left_bound), post_row['start']), end_ts)\n",
    "                else:\n",
    "                    right_bound = max(min(current_right_bound, DrEval.interpolate(current_right_bound, post_left_bound), post_row['start']), start_ts)\n",
    "            else:\n",
    "                right_bound = current_right_bound\n",
    "            \n",
    "            interval = P.closed(left_bound, right_bound)\n",
    "            \n",
    "            df.loc[(df['start'] >= interval.lower) & (df['start'] < interval.upper), 'anchor_type'] = tag\n",
    "            \n",
    "            if not this_df[(this_df['Timestamp'] >= interval.lower) & (this_df['Timestamp'] < interval.upper)].empty:\n",
    "                df.loc[(df['start'] >= interval.lower) & (df['start'] < interval.upper), 'anchor_state'] = 1\n",
    "                \n",
    "            # Update dataframe to accelerate the speed\n",
    "            this_df = this_df[this_df[self.ts_column] >= interval.upper].copy()\n",
    "            \n",
    "        return df\n",
    "    \n",
    "    \n",
    "    def hist_method_dual(self, df, ho_df, mode_mets, mets, RATE_TYPE):\n",
    "        scope = self.scope_models[mode_mets]\n",
    "        hist_model = self.hist_models[mode_mets]\n",
    "        dr_prob_model = self.dr_prob_models[mode_mets]\n",
    "        \n",
    "        this_df = df.copy()\n",
    "        for i, row in ho_df.iterrows():\n",
    "            prior_row = ho_df.iloc[i-1] if i != 0 else None\n",
    "            post_row = ho_df.iloc[i+1] if i != len(ho_df) - 1 else None\n",
    "\n",
    "            # Peek the next event to avoid HO overlapping with handoverFailure (skip!!)\n",
    "            if i != len(ho_df) - 1 and pd.notna(row.end) and row.end > post_row.start:\n",
    "                # print('Overlapping event occurs!!')\n",
    "                # print(i, row['start'], row['end'], row['type'], row['cause'])\n",
    "                # print(i+1, post_row['start'], post_row['end'], post_row['type'], post_row['cause'])\n",
    "                continue\n",
    "            \n",
    "            # Set prior event if the prior loop is skipped\n",
    "            if i != 0 and pd.notna(prior_row.end) and prior_row.end > row.start:\n",
    "                prior_row = ho_df.iloc[i-2] if i > 1 else None\n",
    "            \n",
    "            # Basic information of the current row\n",
    "            tag = '_'.join([s for s in row[self.sp_columns] if pd.notna(s)])  # specific column name\n",
    "            start_ts, end_ts = row['start'], row['end']  # handover start/end time\n",
    "            interruption_time = (end_ts - start_ts).total_seconds() if pd.notna(end_ts) else 0  # handover interruption time\n",
    "            \n",
    "            # Set simple left/right bounds\n",
    "            current_left_bound = start_ts + pd.Timedelta(seconds=(scope[tag][0]))\n",
    "            current_right_bound = start_ts + pd.Timedelta(seconds=(scope[tag][1]))\n",
    "            \n",
    "            # Set left/right bounds to avoid event overlapping with each other\n",
    "            if prior_row is not None:\n",
    "                prior_tag = '_'.join([s for s in prior_row[self.sp_columns] if pd.notna(s)])\n",
    "                prior_right_bound = prior_row['start'] + pd.Timedelta(seconds=(scope[prior_tag][1]))\n",
    "                if pd.notna(prior_row['end']):\n",
    "                    left_bound = min(max(current_left_bound, DrEval.interpolate(prior_right_bound, current_left_bound), prior_row['end']), start_ts)\n",
    "                else:\n",
    "                    left_bound = min(max(current_left_bound, DrEval.interpolate(prior_right_bound, current_left_bound), prior_row['start']), start_ts)\n",
    "            else:\n",
    "                left_bound = current_left_bound\n",
    "            \n",
    "            if post_row is not None:\n",
    "                post_tag = '_'.join([s for s in post_row[self.sp_columns] if pd.notna(s)])\n",
    "                post_left_bound = post_row['start'] + pd.Timedelta(seconds=(scope[post_tag][0]))\n",
    "                if pd.notna(end_ts):\n",
    "                    right_bound = max(min(current_right_bound, DrEval.interpolate(current_right_bound, post_left_bound), post_row['start']), end_ts)\n",
    "                else:\n",
    "                    right_bound = max(min(current_right_bound, DrEval.interpolate(current_right_bound, post_left_bound), post_row['start']), start_ts)\n",
    "            else:\n",
    "                right_bound = current_right_bound\n",
    "            \n",
    "            interval = P.closed(left_bound, right_bound)\n",
    "            \n",
    "            # Concatenate PLR from mapping list\n",
    "            current_df = this_df[this_df['Timestamp'] < interval.upper].copy()\n",
    "            plr_mapping = hist_model[tag].copy()\n",
    "            \n",
    "            current_df[f'relative_time'] = (current_df['Timestamp'] - start_ts).dt.total_seconds()\n",
    "            current_df[f'window_id'] = ((current_df[f'relative_time'] + 0.005) // 0.01) * 0.01\n",
    "            \n",
    "            anchor_tag = row['anchor_type']\n",
    "            anchor_state = row['anchor_state']\n",
    "            \n",
    "            if anchor_state == 1:\n",
    "                trigger_probability = dr_prob_model[(anchor_tag, tag)][0]\n",
    "            else:\n",
    "                trigger_probability = dr_prob_model[(anchor_tag, tag)][1]\n",
    "            \n",
    "            if plr_mapping.empty:\n",
    "                tmp = current_df.copy().rename(columns={mets: f'{mets}_x'})\n",
    "            else:\n",
    "                tmp = pd.merge(current_df, plr_mapping, on='window_id', how='left')\n",
    "                tmp[RATE_TYPE] = tmp[RATE_TYPE].fillna(0)\n",
    "                \n",
    "                if not DrEval.generate_random_boolean(trigger_probability):\n",
    "                    tmp[RATE_TYPE] = 0\n",
    "            \n",
    "            tmp['anchor_type'] = anchor_tag\n",
    "            tmp['anchor_state'] = anchor_state\n",
    "            tmp['type'] = tag\n",
    "            \n",
    "            if i == 0:\n",
    "                answer = tmp.copy()\n",
    "            else:\n",
    "                answer = pd.concat([answer, tmp], axis=0)\n",
    "            \n",
    "            # Update dataframe to accelerate the speed\n",
    "            this_df = this_df[this_df[self.ts_column] >= interval.upper].copy()\n",
    "        \n",
    "        answer = pd.concat([answer, this_df], axis=0)\n",
    "        # display(answer)\n",
    "        \n",
    "        # Consider stable duration\n",
    "        stable_df = answer[answer['tx_count'].isnull()].copy()[['seq', 'lost_x', 'excl', 'Timestamp']].rename(columns={'lost_x': 'lost'})\n",
    "\n",
    "        stable_df['Timestamp_sec'] = stable_df['Timestamp'].dt.floor('S')\n",
    "        stable_df['relative_time'] = (stable_df['Timestamp'] - stable_df['Timestamp_sec']).dt.total_seconds() - 0.5\n",
    "        stable_df['window_id'] = ((stable_df['relative_time'] + 0.01 / 2) // 0.01) * 0.01\n",
    "\n",
    "        plr_mapping = hist_model['Stable'].copy()        \n",
    "        stable_df = pd.merge(stable_df, plr_mapping, on='window_id', how='left').rename(columns={'PLR': 'PLR_if_trigger'})\n",
    "        trigger_prob_mapping = stable_df[~stable_df['Timestamp_sec'].duplicated()].reset_index(drop=True)[['Timestamp_sec']]\n",
    "        \n",
    "        trigger_probability = dr_prob_model[('Stable', 'Stable')][0]\n",
    "        \n",
    "        # if anchor_state == 1:\n",
    "        #     trigger_probability = dr_prob_model[(anchor_tag, tag)][0]\n",
    "        # else:\n",
    "        #     trigger_probability = dr_prob_model[(anchor_tag, tag)][1]\n",
    "                \n",
    "        random_bool_array = [DrEval.generate_random_boolean(trigger_probability) for _ in range(len(trigger_prob_mapping))]\n",
    "        trigger_prob_mapping['trigger'] = random_bool_array\n",
    "\n",
    "        stable_df = pd.merge(stable_df, trigger_prob_mapping, on='Timestamp_sec', how='left')\n",
    "        stable_df['PLR'] = stable_df['PLR_if_trigger'] * stable_df['trigger']\n",
    "        \n",
    "        # stable_df['type'] = 'Stable'\n",
    "        stable_df['anchor_type'] = 'Stable'\n",
    "        stable_df['anchor_state'] = 0\n",
    "        stable_df['type'] = 'Stable'\n",
    "\n",
    "        del stable_df['Timestamp_sec'], stable_df['PLR_if_trigger'], stable_df['trigger']\n",
    "        \n",
    "        answer = answer[answer['tx_count'].notnull()].copy()\n",
    "        \n",
    "        answer = pd.concat([answer, stable_df], axis=0)\n",
    "        answer = answer.sort_values(by='Timestamp').reset_index(drop=True)\n",
    "        answer['PLR'] = answer['PLR'] / 100\n",
    "        answer['Y'] = answer['PLR'].apply(DrEval.generate_random_boolean)\n",
    "        \n",
    "        eval_value = answer['Y'].mean() * 100\n",
    "        ground_value = df['lost'].mean() * 100\n",
    "        \n",
    "        answer = pd.concat([answer[['seq', 'Timestamp', 'anchor_type', 'anchor_state', 'type', 'relative_time', 'window_id']],\n",
    "                            df[['lost']],\n",
    "                            answer[[RATE_TYPE, 'Y']]], axis=1)\n",
    "\n",
    "        return answer, eval_value, ground_value\n",
    "\n",
    "        # return answer, eval_value, ground_value\n",
    "        \n",
    "        # # Consider stable duration\n",
    "        # stable_df = answer[answer['tx_count'].isnull()].copy()[['seq', 'lost_x', 'excl', 'Timestamp']].rename(columns={'lost_x': 'lost'})\n",
    "\n",
    "        # stable_df['Timestamp_sec'] = stable_df['Timestamp'].dt.floor('S')\n",
    "        # stable_df['relative_time'] = (stable_df['Timestamp'] - stable_df['Timestamp_sec']).dt.total_seconds() - 0.5\n",
    "        # stable_df['window_id'] = ((stable_df['relative_time'] + 0.01 / 2) // 0.01) * 0.01\n",
    "\n",
    "        # plr_mapping = hist_model['Stable'].copy()\n",
    "        # stable_df = pd.merge(stable_df, plr_mapping, on='window_id', how='left').rename(columns={'PLR': 'PLR_trig'})\n",
    "\n",
    "        # trig_p_mapping = stable_df[~stable_df['Timestamp_sec'].duplicated()].reset_index(drop=True)\n",
    "        \n",
    "        # triggered_p = dr_prob_model[('Stable', 'Stable')][0]\n",
    "        \n",
    "        # random_bool_array = [DrEval.generate_random_boolean(triggered_p) for _ in range(len(trig_p_mapping))]\n",
    "        # trig_p_mapping['trigger'] = random_bool_array\n",
    "        # trig_p_mapping = trig_p_mapping[['Timestamp_sec', 'trigger']]\n",
    "\n",
    "        # stable_df = pd.merge(stable_df, trig_p_mapping, on='Timestamp_sec', how='left')\n",
    "        # stable_df['PLR'] = stable_df['PLR_trig'] * stable_df['trigger']\n",
    "\n",
    "        # del stable_df['Timestamp_sec'], stable_df['PLR_trig'], stable_df['trigger']\n",
    "        \n",
    "        # answer = answer[answer['tx_count'].notnull()].copy()\n",
    "        # # display(answer)\n",
    "        \n",
    "        # answer = pd.concat([answer, stable_df], axis=0)\n",
    "        # answer = answer.sort_values(by='Timestamp').reset_index(drop=True)\n",
    "        # answer['PLR'] = answer['PLR'] / 100\n",
    "        # answer['Y'] = answer['PLR'].apply(DrEval.generate_random_boolean)\n",
    "        \n",
    "        # eval_value = answer['Y'].mean() * 100\n",
    "        # ground_value = df['lost'].mean() * 100\n",
    "    \n",
    "    \n",
    "    def run_hist_method(self, N=3):\n",
    "        scope = self.scope_models['dl_lost']\n",
    "        n = len(self.filepaths)\n",
    "        for mode_mets in ['dl_lost']:\n",
    "            for i, filepath in enumerate(self.filepaths):\n",
    "                \n",
    "                # if i > 35:\n",
    "                #     break\n",
    "                \n",
    "                # if i > 0:\n",
    "                #     break\n",
    "                \n",
    "                print(f'{i}/{n}', filepath[0][0]); print(f'{i}/{n}', filepath[0][1]); print(f'{i}/{n}', filepath[0][2])\n",
    "                print(f'{i}/{n}', filepath[1][0]); print(f'{i}/{n}', filepath[1][1]); print(f'{i}/{n}', filepath[1][2])\n",
    "                    \n",
    "                ho_df1 = pd.read_csv(filepath[0][0], parse_dates=['start', 'end'])\n",
    "                ho_df2 = pd.read_csv(filepath[1][0], parse_dates=['start', 'end'])\n",
    "                \n",
    "                if ho_df1.empty or ho_df2.empty:\n",
    "                    print('******** Empty RRC Data ********')\n",
    "                    continue\n",
    "                \n",
    "                # df, ho_df, empty_data = data_aligner(df, ho_df)\n",
    "                \n",
    "                df1 = pd.read_csv(filepath[0][1], parse_dates=['Timestamp'])[['seq', 'Timestamp', 'lost', 'excl', 'latency']]\n",
    "                df2 = pd.read_csv(filepath[1][1], parse_dates=['Timestamp'])[['seq', 'Timestamp', 'lost', 'excl', 'latency']]\n",
    "                df1, ho_df1, empty_data1 = data_aligner(df1, ho_df1)\n",
    "                df2, ho_df2, empty_data2 = data_aligner(df2, ho_df2)\n",
    "                \n",
    "                if empty_data1 or empty_data2:\n",
    "                    print('******** Empty RRC Data ********')\n",
    "                    continue\n",
    "                \n",
    "                df = pd.merge(df1, df2, on='seq', how='inner').reset_index(drop=True)\n",
    "                \n",
    "                df1 = df[['seq', 'Timestamp_x', 'lost_x', 'excl_x', 'latency_x']].rename(columns={'Timestamp_x': 'Timestamp', 'lost_x': 'lost', 'excl_x': 'excl', 'latency_x': 'latency'})\n",
    "                df2 = df[['seq', 'Timestamp_y', 'lost_y', 'excl_y', 'latency_y']].rename(columns={'Timestamp_y': 'Timestamp', 'lost_y': 'lost', 'excl_y': 'excl', 'latency_y': 'latency'})\n",
    "                \n",
    "                loss_rate_list = []\n",
    "                answer = None\n",
    "                for iter_round in tqdm(range(N), ncols=1000):\n",
    "                    ans1, eval_value1, ground_value1 = eval.hist_method(df1, ho_df1, mode_mets='dl_lost', mets='lost', RATE_TYPE='PLR')\n",
    "                    # display(answer1)\n",
    "                    \n",
    "                    # setup_profile\n",
    "                    # ho_df1 = self.setup_profile(ho_df1, ho_df2, df2, scope)\n",
    "                    avatar_ho_df2 = self.setup_profile(ho_df2.copy(), ho_df1, ans1, scope)\n",
    "                    \n",
    "                    # display(avatar_ho_df2)\n",
    "                    \n",
    "                    ans2, eval_value2, ground_value2 = eval.hist_method_dual(df2, avatar_ho_df2, mode_mets='dl_lost', mets='lost', RATE_TYPE='PLR')\n",
    "                    \n",
    "                    # display(ans1)\n",
    "                    # display(ans2)\n",
    "                    # display(answer2)\n",
    "                    \n",
    "                    ans = pd.merge(ans1, ans2, on='seq', how='inner').reset_index(drop=True)\n",
    "                    ans['lost'] = (ans['lost_x']) & (ans['lost_y'])\n",
    "                    ans['Y'] = (ans['Y_x']) & (ans['Y_y'])\n",
    "                    ans = ans[['seq', 'Timestamp_x', 'Timestamp_y', 'type_x', 'anchor_type', 'anchor_state', 'type_y', 'relative_time_x', 'window_id_x', 'relative_time_y', 'window_id_y', 'lost_x', 'lost_y', 'lost', 'PLR_x', 'Y_x', 'PLR_y', 'Y_y', 'Y']]\n",
    "                    \n",
    "                    # display(ans)\n",
    "                    \n",
    "                    handle = (ans1['Y']) & (ans2['Y'])\n",
    "                    eval_value = handle.mean() * 100\n",
    "                    # print('eval:', eval_value, len(handle))\n",
    "                    \n",
    "                    handle = (df1['lost']) & (df2['lost'])\n",
    "                    ground_value = handle.mean() * 100\n",
    "                    # print('ground:', ground_value, len(handle))\n",
    "                    \n",
    "                    if answer is None:\n",
    "                        answer = ans.copy()\n",
    "                        answer = answer.rename(columns={'PLR_x': f'PLR_x_0', 'Y_x': f'Y_x_0', 'PLR_y': f'PLR_y_0', 'Y_y': f'Y_y_0', 'Y': f'Y_0'})\n",
    "                    else:\n",
    "                        answer = pd.concat([answer, ans[['PLR_x', 'Y_x', 'PLR_y', 'Y_y', 'Y']]], axis=1)\n",
    "                        answer = answer.rename(columns={'PLR_x': f'PLR_x_{iter_round}', 'Y_x': f'Y_x_{iter_round}', 'PLR_y': f'PLR_y_{iter_round}', 'Y_y': f'Y_y_{iter_round}', 'Y': f'Y_{iter_round}'})\n",
    "                    \n",
    "                    loss_rate_list.append(eval_value)\n",
    "                \n",
    "                # display(answer)\n",
    "        \n",
    "                mean_value = np.mean(loss_rate_list)\n",
    "                std_deviation = np.std(loss_rate_list)\n",
    "\n",
    "                # print()\n",
    "                # print(\"Mean:\", mean_value)\n",
    "                # print(\"Standard Deviation:\", std_deviation)\n",
    "                # print(\"Ground Truth:\", ground_value)\n",
    "                \n",
    "                self.LOSS_GT.append(ground_value)\n",
    "                self.LOSS_EV.append(mean_value)\n",
    "                self.LOSS_STD.append(std_deviation)\n",
    "                \n",
    "                path1 = filepath[0][1]\n",
    "                path2 = filepath[1][1]\n",
    "                \n",
    "                error = mean_value - ground_value\n",
    "                self.records.append((mean_value, std_deviation, ground_value, error, path1, path2))\n",
    "\n",
    "                def find_sm_label(path):\n",
    "                    # 找到 \"sm\" 的位置\n",
    "                    sm_index = path.index(\"sm\")\n",
    "                    # 从 \"sm\" 的位置开始找到下一个斜杠 \"/\"\n",
    "                    next_slash_index = path.index(\"/\", sm_index)\n",
    "                    # 截取 \"sm00\" 标签\n",
    "                    # sm_label = path[sm_index:next_slash_index]\n",
    "                    sm_label = path[sm_index+2:next_slash_index]\n",
    "                    # print(\"截取的标签为:\", sm_label)\n",
    "                    return sm_label\n",
    "                \n",
    "                self.DEVICES.append(find_sm_label(path1)+'+'+find_sm_label(path2))\n",
    "                \n",
    "                def find_tr_label(path):\n",
    "                    # 找到 \"sm\" 的位置\n",
    "                    sm_index = path.index(\"#\")\n",
    "                    # 从 \"sm\" 的位置开始找到下一个斜杠 \"/\"\n",
    "                    next_slash_index = path.index(\"/\", sm_index)\n",
    "                    # 截取 \"sm00\" 标签\n",
    "                    # sm_label = path[sm_index:next_slash_index]\n",
    "                    sm_label = path[sm_index+1:next_slash_index]\n",
    "                    # print(\"截取的标签为:\", sm_label)\n",
    "                    return sm_label\n",
    "                \n",
    "                self.TRACES.append(find_tr_label(path1)+'+'+find_tr_label(path2))\n",
    "                \n",
    "                if self.model_suffix is None:\n",
    "                    # save_path = os.path.join(self.save_path, self.sr_model_id, self.dr_model_id, 'results', self.figure_id)\n",
    "                    save_path = os.path.join('/home/wmnlab/E/results', self.sr_model_id, 'dr_results', self.dr_model_id, self.figure_id)\n",
    "                else:\n",
    "                    # save_path = os.path.join(self.save_path, self.sr_model_id, self.dr_model_id, 'results', f'{self.figure_id}_{self.model_suffix}')\n",
    "                    save_path = os.path.join('/home/wmnlab/E/results', self.sr_model_id, 'dr_results', self.dr_model_id, f'{self.figure_id}_{self.model_suffix}')\n",
    "                    \n",
    "                if not os.path.isdir(save_path):\n",
    "                    os.makedirs(save_path)\n",
    "                \n",
    "                save_path = os.path.join(save_path, path1.replace('/', '\\\\')[:-4]+path2.replace('/', '\\\\'))\n",
    "                print(save_path)\n",
    "                answer.to_csv(save_path, index=False)\n",
    "    \n",
    "    \n",
    "    def plot(self, save_name='plot_example', save_path='.'):\n",
    "        # Sample data\n",
    "        x = self.LOSS_GT.copy()\n",
    "        y = self.LOSS_EV.copy()\n",
    "\n",
    "        # Standard deviations for error bars\n",
    "        y_error = self.LOSS_STD.copy()\n",
    "\n",
    "        # Create figure and axes\n",
    "        fig, ax = plt.subplots(figsize=(6, 4))\n",
    "\n",
    "        # Scatter plot with error bars and horizontal caps\n",
    "        ax.errorbar(x, y, yerr=y_error, linestyle='None', marker='o', color='tab:blue', capsize=5)\n",
    "        ax.scatter([], [], linestyle='None', marker='o', color='tab:blue', label='Data Points')\n",
    "\n",
    "        # Regression line\n",
    "        # coefficients = np.polyfit(x, y, 1)\n",
    "        # regression_line = np.poly1d(coefficients)\n",
    "        # ax.plot(ax.get_xlim(), regression_line(ax.get_xlim()), linestyle='--', linewidth=1.1, color='tab:blue', label='Regression Line')\n",
    "\n",
    "        # Annotate the slope of the regression line\n",
    "        # slope_annotation = f'Slope: {coefficients[0]:.2f}'\n",
    "        # ax.annotate(slope_annotation, xy=(0.5, 0.85), xycoords='axes fraction', fontsize=10, fontstyle='italic', fontweight='bold', color='tab:blue')\n",
    "\n",
    "        # Annotate MSE From the regression line\n",
    "        # y_pred = regression_line(x)\n",
    "        # mse = mean_squared_error(y, y_pred)\n",
    "        mse = np.sqrt(mean_squared_error(x, y))\n",
    "        mse_rate = mse / np.mean(x) * 100\n",
    "        slope_annotation = f'RMSE: {mse:.3f} ({mse_rate:.1f} %)'\n",
    "        ax.annotate(slope_annotation, xy=(0.5, 0.85), xycoords='axes fraction', fontsize=10, fontstyle='italic', fontweight='bold', color='tab:blue')\n",
    "\n",
    "        # 45-Degree Line\n",
    "        ax.plot(ax.get_xlim(), ax.get_xlim(), linestyle='-', linewidth=1.1, color='tab:pink', label='45-Degree Line', alpha=0.9)\n",
    "        # ax.plot(ax.get_xlim(), 1.1 * ax.get_xlim(), linestyle='-', linewidth=1.1, color='tab:pink', label='45-Degree Line', alpha=0.9)\n",
    "        # ax.plot(ax.get_xlim(), 0.9 * ax.get_xlim(), linestyle='-', linewidth=1.1, color='tab:pink', label='45-Degree Line', alpha=0.9)\n",
    "        \n",
    "        # 获取 x 的边界\n",
    "        x_limits = ax.get_xlim()\n",
    "\n",
    "        # 创建 x 值范围\n",
    "        x_values = np.linspace(x_limits[0], x_limits[1], 100)  # 使用 x 的边界值作为范围\n",
    "\n",
    "        # 计算 y = 1.1x 和 y = 0.9x 的值\n",
    "        y_upper = 1.1 * x_values\n",
    "        y_lower = 0.9 * x_values\n",
    "\n",
    "        # 绘制 y = 1.1x 和 y = 0.9x 线\n",
    "        ax.plot(x_values, y_upper, linestyle='-', linewidth=1.1, color='tab:orange')\n",
    "        ax.plot(x_values, y_lower, linestyle='-', linewidth=1.1, color='tab:orange')\n",
    "\n",
    "        # 在两条线之间填充颜色\n",
    "        ax.fill_between(x_values, y_lower, y_upper, color='tab:orange', alpha=0.3)\n",
    "\n",
    "        # Set labels and title\n",
    "        ax.set_xlabel('PLR Ground Truth')\n",
    "        ax.set_ylabel('PLR Evaluated')\n",
    "        # ax.set_title('A Profile Evaluate 9 Traces From A5 Data: Single')\n",
    "\n",
    "        for i, sm_label in enumerate(self.DEVICES):\n",
    "            ax.annotate(sm_label, xy=(x[i], y[i]))\n",
    "            \n",
    "        # Add a legend\n",
    "        ax.legend()\n",
    "        \n",
    "        save_path = os.path.join(save_path, self.sr_model_id, self.dr_model_id, 'figures')\n",
    "        if not os.path.isdir(save_path):\n",
    "            os.makedirs(save_path)\n",
    "        \n",
    "        if self.model_suffix is not None:\n",
    "            save_name = f'{save_name}_{self.model_suffix}'\n",
    "        save_path = os.path.join(save_path, figure_add_prefix_suffix(save_name, image_id=self.figure_id))\n",
    "        print(save_path)\n",
    "        fig.savefig(save_path, dpi=300)\n",
    "\n",
    "        # Show the plot\n",
    "        plt.show()"
   ]
  },
  {
   "cell_type": "markdown",
   "metadata": {},
   "source": [
    "# Enter Model IDs"
   ]
  },
  {
   "cell_type": "code",
   "execution_count": 9,
   "metadata": {},
   "outputs": [
    {
     "name": "stdout",
     "output_type": "stream",
     "text": [
      "SR Model ID: 20240323_0800028652_new_dataset\n",
      "DR Model ID: 20240324_1800086626_new_dataset\n"
     ]
    }
   ],
   "source": [
    "# sr_model_id = '20240312_150032342e_newest'\n",
    "# dr_model_id = ''\n",
    "print('SR Model ID:', sr_model_id)\n",
    "print('DR Model ID:', dr_model_id)"
   ]
  },
  {
   "cell_type": "markdown",
   "metadata": {},
   "source": [
    "# BR: DR Eval"
   ]
  },
  {
   "cell_type": "code",
   "execution_count": 10,
   "metadata": {},
   "outputs": [],
   "source": [
    "# Dual Radio Example\n",
    "# dates = data_loader(query_dates=True, show_info=True)\n",
    "\n",
    "# selected_dates = [s for s in dates if s >= '2023-09-12']\n",
    "selected_dates = ['2024-03-19']\n",
    "# excluded_dates = []\n",
    "# selected_exps = []\n",
    "# excluded_exps = ['Modem_Action_Test', 'Control_Group', 'Control_Group2', 'Control_Group3']\n",
    "selected_routes = ['BR']\n",
    "# excluded_routes = []\n",
    "filepaths = data_loader(mode='dr', selected_dates=selected_dates, selected_routes=selected_routes)\n",
    "\n",
    "# print(len(filepaths[:36]))\n",
    "# pprint(filepaths[:36])"
   ]
  },
  {
   "cell_type": "markdown",
   "metadata": {},
   "source": [
    "## Original Model"
   ]
  },
  {
   "cell_type": "code",
   "execution_count": 11,
   "metadata": {},
   "outputs": [
    {
     "name": "stdout",
     "output_type": "stream",
     "text": [
      "./20240323_0800028652_new_dataset/models/BR\n",
      "./20240323_0800028652_new_dataset/20240324_1800086626_new_dataset/BR\n",
      "./20240323_0800028652_new_dataset/20240324_1800086626_new_dataset/BR_dr_prob_models.pkl\n",
      "0/72 /home/wmnlab/E/database/2024-03-19/UDP_Bandlock_9S_Phone_BR/sm00/#01/data/handover_info_log.csv\n",
      "0/72 /home/wmnlab/E/database/2024-03-19/UDP_Bandlock_9S_Phone_BR/sm00/#01/data/udp_dnlk_loss_latency.csv\n",
      "0/72 /home/wmnlab/E/database/2024-03-19/UDP_Bandlock_9S_Phone_BR/sm00/#01/data/udp_uplk_loss_latency.csv\n",
      "0/72 /home/wmnlab/E/database/2024-03-19/UDP_Bandlock_9S_Phone_BR/sm01/#01/data/handover_info_log.csv\n",
      "0/72 /home/wmnlab/E/database/2024-03-19/UDP_Bandlock_9S_Phone_BR/sm01/#01/data/udp_dnlk_loss_latency.csv\n",
      "0/72 /home/wmnlab/E/database/2024-03-19/UDP_Bandlock_9S_Phone_BR/sm01/#01/data/udp_uplk_loss_latency.csv\n"
     ]
    },
    {
     "data": {
      "application/vnd.jupyter.widget-view+json": {
       "model_id": "e6d275cf689448f9ac5ce5f7bb94999c",
       "version_major": 2,
       "version_minor": 0
      },
      "text/plain": [
       "  0%|                                                                                                         …"
      ]
     },
     "metadata": {},
     "output_type": "display_data"
    },
    {
     "name": "stdout",
     "output_type": "stream",
     "text": [
      "/home/wmnlab/E/results/20240323_0800028652_new_dataset/dr_results/20240324_1800086626_new_dataset/20240324_20594600000_162794466c8f8196/\\home\\wmnlab\\E\\database\\2024-03-19\\UDP_Bandlock_9S_Phone_BR\\sm00\\#01\\data\\udp_dnlk_loss_latency\\home\\wmnlab\\E\\database\\2024-03-19\\UDP_Bandlock_9S_Phone_BR\\sm01\\#01\\data\\udp_dnlk_loss_latency.csv\n",
      "1/72 /home/wmnlab/E/database/2024-03-19/UDP_Bandlock_9S_Phone_BR/sm00/#01/data/handover_info_log.csv\n",
      "1/72 /home/wmnlab/E/database/2024-03-19/UDP_Bandlock_9S_Phone_BR/sm00/#01/data/udp_dnlk_loss_latency.csv\n",
      "1/72 /home/wmnlab/E/database/2024-03-19/UDP_Bandlock_9S_Phone_BR/sm00/#01/data/udp_uplk_loss_latency.csv\n",
      "1/72 /home/wmnlab/E/database/2024-03-19/UDP_Bandlock_9S_Phone_BR/sm02/#01/data/handover_info_log.csv\n",
      "1/72 /home/wmnlab/E/database/2024-03-19/UDP_Bandlock_9S_Phone_BR/sm02/#01/data/udp_dnlk_loss_latency.csv\n",
      "1/72 /home/wmnlab/E/database/2024-03-19/UDP_Bandlock_9S_Phone_BR/sm02/#01/data/udp_uplk_loss_latency.csv\n"
     ]
    },
    {
     "data": {
      "application/vnd.jupyter.widget-view+json": {
       "model_id": "aa18c8ec622846998ca01a0b083baab6",
       "version_major": 2,
       "version_minor": 0
      },
      "text/plain": [
       "  0%|                                                                                                         …"
      ]
     },
     "metadata": {},
     "output_type": "display_data"
    },
    {
     "name": "stdout",
     "output_type": "stream",
     "text": [
      "/home/wmnlab/E/results/20240323_0800028652_new_dataset/dr_results/20240324_1800086626_new_dataset/20240324_20594600000_162794466c8f8196/\\home\\wmnlab\\E\\database\\2024-03-19\\UDP_Bandlock_9S_Phone_BR\\sm00\\#01\\data\\udp_dnlk_loss_latency\\home\\wmnlab\\E\\database\\2024-03-19\\UDP_Bandlock_9S_Phone_BR\\sm02\\#01\\data\\udp_dnlk_loss_latency.csv\n",
      "2/72 /home/wmnlab/E/database/2024-03-19/UDP_Bandlock_9S_Phone_BR/sm00/#01/data/handover_info_log.csv\n",
      "2/72 /home/wmnlab/E/database/2024-03-19/UDP_Bandlock_9S_Phone_BR/sm00/#01/data/udp_dnlk_loss_latency.csv\n",
      "2/72 /home/wmnlab/E/database/2024-03-19/UDP_Bandlock_9S_Phone_BR/sm00/#01/data/udp_uplk_loss_latency.csv\n",
      "2/72 /home/wmnlab/E/database/2024-03-19/UDP_Bandlock_9S_Phone_BR/sm03/#01/data/handover_info_log.csv\n",
      "2/72 /home/wmnlab/E/database/2024-03-19/UDP_Bandlock_9S_Phone_BR/sm03/#01/data/udp_dnlk_loss_latency.csv\n",
      "2/72 /home/wmnlab/E/database/2024-03-19/UDP_Bandlock_9S_Phone_BR/sm03/#01/data/udp_uplk_loss_latency.csv\n"
     ]
    },
    {
     "data": {
      "application/vnd.jupyter.widget-view+json": {
       "model_id": "22e0fdbf00be41748b6faffe3609415e",
       "version_major": 2,
       "version_minor": 0
      },
      "text/plain": [
       "  0%|                                                                                                         …"
      ]
     },
     "metadata": {},
     "output_type": "display_data"
    },
    {
     "name": "stdout",
     "output_type": "stream",
     "text": [
      "/home/wmnlab/E/results/20240323_0800028652_new_dataset/dr_results/20240324_1800086626_new_dataset/20240324_20594600000_162794466c8f8196/\\home\\wmnlab\\E\\database\\2024-03-19\\UDP_Bandlock_9S_Phone_BR\\sm00\\#01\\data\\udp_dnlk_loss_latency\\home\\wmnlab\\E\\database\\2024-03-19\\UDP_Bandlock_9S_Phone_BR\\sm03\\#01\\data\\udp_dnlk_loss_latency.csv\n",
      "3/72 /home/wmnlab/E/database/2024-03-19/UDP_Bandlock_9S_Phone_BR/sm00/#01/data/handover_info_log.csv\n",
      "3/72 /home/wmnlab/E/database/2024-03-19/UDP_Bandlock_9S_Phone_BR/sm00/#01/data/udp_dnlk_loss_latency.csv\n",
      "3/72 /home/wmnlab/E/database/2024-03-19/UDP_Bandlock_9S_Phone_BR/sm00/#01/data/udp_uplk_loss_latency.csv\n",
      "3/72 /home/wmnlab/E/database/2024-03-19/UDP_Bandlock_9S_Phone_BR/sm04/#01/data/handover_info_log.csv\n",
      "3/72 /home/wmnlab/E/database/2024-03-19/UDP_Bandlock_9S_Phone_BR/sm04/#01/data/udp_dnlk_loss_latency.csv\n",
      "3/72 /home/wmnlab/E/database/2024-03-19/UDP_Bandlock_9S_Phone_BR/sm04/#01/data/udp_uplk_loss_latency.csv\n"
     ]
    },
    {
     "data": {
      "application/vnd.jupyter.widget-view+json": {
       "model_id": "a580be54ee0d4f5fa41c27b484e8aac1",
       "version_major": 2,
       "version_minor": 0
      },
      "text/plain": [
       "  0%|                                                                                                         …"
      ]
     },
     "metadata": {},
     "output_type": "display_data"
    },
    {
     "name": "stdout",
     "output_type": "stream",
     "text": [
      "/home/wmnlab/E/results/20240323_0800028652_new_dataset/dr_results/20240324_1800086626_new_dataset/20240324_20594600000_162794466c8f8196/\\home\\wmnlab\\E\\database\\2024-03-19\\UDP_Bandlock_9S_Phone_BR\\sm00\\#01\\data\\udp_dnlk_loss_latency\\home\\wmnlab\\E\\database\\2024-03-19\\UDP_Bandlock_9S_Phone_BR\\sm04\\#01\\data\\udp_dnlk_loss_latency.csv\n",
      "4/72 /home/wmnlab/E/database/2024-03-19/UDP_Bandlock_9S_Phone_BR/sm00/#01/data/handover_info_log.csv\n",
      "4/72 /home/wmnlab/E/database/2024-03-19/UDP_Bandlock_9S_Phone_BR/sm00/#01/data/udp_dnlk_loss_latency.csv\n",
      "4/72 /home/wmnlab/E/database/2024-03-19/UDP_Bandlock_9S_Phone_BR/sm00/#01/data/udp_uplk_loss_latency.csv\n",
      "4/72 /home/wmnlab/E/database/2024-03-19/UDP_Bandlock_9S_Phone_BR/sm05/#01/data/handover_info_log.csv\n",
      "4/72 /home/wmnlab/E/database/2024-03-19/UDP_Bandlock_9S_Phone_BR/sm05/#01/data/udp_dnlk_loss_latency.csv\n",
      "4/72 /home/wmnlab/E/database/2024-03-19/UDP_Bandlock_9S_Phone_BR/sm05/#01/data/udp_uplk_loss_latency.csv\n"
     ]
    },
    {
     "data": {
      "application/vnd.jupyter.widget-view+json": {
       "model_id": "6b156941badc4c9bbcb786f139062446",
       "version_major": 2,
       "version_minor": 0
      },
      "text/plain": [
       "  0%|                                                                                                         …"
      ]
     },
     "metadata": {},
     "output_type": "display_data"
    },
    {
     "name": "stdout",
     "output_type": "stream",
     "text": [
      "/home/wmnlab/E/results/20240323_0800028652_new_dataset/dr_results/20240324_1800086626_new_dataset/20240324_20594600000_162794466c8f8196/\\home\\wmnlab\\E\\database\\2024-03-19\\UDP_Bandlock_9S_Phone_BR\\sm00\\#01\\data\\udp_dnlk_loss_latency\\home\\wmnlab\\E\\database\\2024-03-19\\UDP_Bandlock_9S_Phone_BR\\sm05\\#01\\data\\udp_dnlk_loss_latency.csv\n",
      "5/72 /home/wmnlab/E/database/2024-03-19/UDP_Bandlock_9S_Phone_BR/sm00/#01/data/handover_info_log.csv\n",
      "5/72 /home/wmnlab/E/database/2024-03-19/UDP_Bandlock_9S_Phone_BR/sm00/#01/data/udp_dnlk_loss_latency.csv\n",
      "5/72 /home/wmnlab/E/database/2024-03-19/UDP_Bandlock_9S_Phone_BR/sm00/#01/data/udp_uplk_loss_latency.csv\n",
      "5/72 /home/wmnlab/E/database/2024-03-19/UDP_Bandlock_9S_Phone_BR/sm06/#01/data/handover_info_log.csv\n",
      "5/72 /home/wmnlab/E/database/2024-03-19/UDP_Bandlock_9S_Phone_BR/sm06/#01/data/udp_dnlk_loss_latency.csv\n",
      "5/72 /home/wmnlab/E/database/2024-03-19/UDP_Bandlock_9S_Phone_BR/sm06/#01/data/udp_uplk_loss_latency.csv\n"
     ]
    },
    {
     "data": {
      "application/vnd.jupyter.widget-view+json": {
       "model_id": "13fffad4e2fb41ee92ee18023e1e2721",
       "version_major": 2,
       "version_minor": 0
      },
      "text/plain": [
       "  0%|                                                                                                         …"
      ]
     },
     "metadata": {},
     "output_type": "display_data"
    },
    {
     "name": "stdout",
     "output_type": "stream",
     "text": [
      "/home/wmnlab/E/results/20240323_0800028652_new_dataset/dr_results/20240324_1800086626_new_dataset/20240324_20594600000_162794466c8f8196/\\home\\wmnlab\\E\\database\\2024-03-19\\UDP_Bandlock_9S_Phone_BR\\sm00\\#01\\data\\udp_dnlk_loss_latency\\home\\wmnlab\\E\\database\\2024-03-19\\UDP_Bandlock_9S_Phone_BR\\sm06\\#01\\data\\udp_dnlk_loss_latency.csv\n",
      "6/72 /home/wmnlab/E/database/2024-03-19/UDP_Bandlock_9S_Phone_BR/sm00/#01/data/handover_info_log.csv\n",
      "6/72 /home/wmnlab/E/database/2024-03-19/UDP_Bandlock_9S_Phone_BR/sm00/#01/data/udp_dnlk_loss_latency.csv\n",
      "6/72 /home/wmnlab/E/database/2024-03-19/UDP_Bandlock_9S_Phone_BR/sm00/#01/data/udp_uplk_loss_latency.csv\n",
      "6/72 /home/wmnlab/E/database/2024-03-19/UDP_Bandlock_9S_Phone_BR/sm07/#01/data/handover_info_log.csv\n",
      "6/72 /home/wmnlab/E/database/2024-03-19/UDP_Bandlock_9S_Phone_BR/sm07/#01/data/udp_dnlk_loss_latency.csv\n",
      "6/72 /home/wmnlab/E/database/2024-03-19/UDP_Bandlock_9S_Phone_BR/sm07/#01/data/udp_uplk_loss_latency.csv\n"
     ]
    },
    {
     "data": {
      "application/vnd.jupyter.widget-view+json": {
       "model_id": "c5a20e44e89942248b80bdb9ff886c97",
       "version_major": 2,
       "version_minor": 0
      },
      "text/plain": [
       "  0%|                                                                                                         …"
      ]
     },
     "metadata": {},
     "output_type": "display_data"
    },
    {
     "name": "stdout",
     "output_type": "stream",
     "text": [
      "/home/wmnlab/E/results/20240323_0800028652_new_dataset/dr_results/20240324_1800086626_new_dataset/20240324_20594600000_162794466c8f8196/\\home\\wmnlab\\E\\database\\2024-03-19\\UDP_Bandlock_9S_Phone_BR\\sm00\\#01\\data\\udp_dnlk_loss_latency\\home\\wmnlab\\E\\database\\2024-03-19\\UDP_Bandlock_9S_Phone_BR\\sm07\\#01\\data\\udp_dnlk_loss_latency.csv\n",
      "7/72 /home/wmnlab/E/database/2024-03-19/UDP_Bandlock_9S_Phone_BR/sm00/#01/data/handover_info_log.csv\n",
      "7/72 /home/wmnlab/E/database/2024-03-19/UDP_Bandlock_9S_Phone_BR/sm00/#01/data/udp_dnlk_loss_latency.csv\n",
      "7/72 /home/wmnlab/E/database/2024-03-19/UDP_Bandlock_9S_Phone_BR/sm00/#01/data/udp_uplk_loss_latency.csv\n",
      "7/72 /home/wmnlab/E/database/2024-03-19/UDP_Bandlock_9S_Phone_BR/sm08/#01/data/handover_info_log.csv\n",
      "7/72 /home/wmnlab/E/database/2024-03-19/UDP_Bandlock_9S_Phone_BR/sm08/#01/data/udp_dnlk_loss_latency.csv\n",
      "7/72 /home/wmnlab/E/database/2024-03-19/UDP_Bandlock_9S_Phone_BR/sm08/#01/data/udp_uplk_loss_latency.csv\n"
     ]
    },
    {
     "data": {
      "application/vnd.jupyter.widget-view+json": {
       "model_id": "bb5d99ae67d04c609ccff9fddb73bf02",
       "version_major": 2,
       "version_minor": 0
      },
      "text/plain": [
       "  0%|                                                                                                         …"
      ]
     },
     "metadata": {},
     "output_type": "display_data"
    },
    {
     "name": "stdout",
     "output_type": "stream",
     "text": [
      "/home/wmnlab/E/results/20240323_0800028652_new_dataset/dr_results/20240324_1800086626_new_dataset/20240324_20594600000_162794466c8f8196/\\home\\wmnlab\\E\\database\\2024-03-19\\UDP_Bandlock_9S_Phone_BR\\sm00\\#01\\data\\udp_dnlk_loss_latency\\home\\wmnlab\\E\\database\\2024-03-19\\UDP_Bandlock_9S_Phone_BR\\sm08\\#01\\data\\udp_dnlk_loss_latency.csv\n",
      "8/72 /home/wmnlab/E/database/2024-03-19/UDP_Bandlock_9S_Phone_BR/sm01/#01/data/handover_info_log.csv\n",
      "8/72 /home/wmnlab/E/database/2024-03-19/UDP_Bandlock_9S_Phone_BR/sm01/#01/data/udp_dnlk_loss_latency.csv\n",
      "8/72 /home/wmnlab/E/database/2024-03-19/UDP_Bandlock_9S_Phone_BR/sm01/#01/data/udp_uplk_loss_latency.csv\n",
      "8/72 /home/wmnlab/E/database/2024-03-19/UDP_Bandlock_9S_Phone_BR/sm02/#01/data/handover_info_log.csv\n",
      "8/72 /home/wmnlab/E/database/2024-03-19/UDP_Bandlock_9S_Phone_BR/sm02/#01/data/udp_dnlk_loss_latency.csv\n",
      "8/72 /home/wmnlab/E/database/2024-03-19/UDP_Bandlock_9S_Phone_BR/sm02/#01/data/udp_uplk_loss_latency.csv\n"
     ]
    },
    {
     "data": {
      "application/vnd.jupyter.widget-view+json": {
       "model_id": "0a02795b2ff54534872044efd6b588e8",
       "version_major": 2,
       "version_minor": 0
      },
      "text/plain": [
       "  0%|                                                                                                         …"
      ]
     },
     "metadata": {},
     "output_type": "display_data"
    },
    {
     "name": "stdout",
     "output_type": "stream",
     "text": [
      "/home/wmnlab/E/results/20240323_0800028652_new_dataset/dr_results/20240324_1800086626_new_dataset/20240324_20594600000_162794466c8f8196/\\home\\wmnlab\\E\\database\\2024-03-19\\UDP_Bandlock_9S_Phone_BR\\sm01\\#01\\data\\udp_dnlk_loss_latency\\home\\wmnlab\\E\\database\\2024-03-19\\UDP_Bandlock_9S_Phone_BR\\sm02\\#01\\data\\udp_dnlk_loss_latency.csv\n",
      "9/72 /home/wmnlab/E/database/2024-03-19/UDP_Bandlock_9S_Phone_BR/sm01/#01/data/handover_info_log.csv\n",
      "9/72 /home/wmnlab/E/database/2024-03-19/UDP_Bandlock_9S_Phone_BR/sm01/#01/data/udp_dnlk_loss_latency.csv\n",
      "9/72 /home/wmnlab/E/database/2024-03-19/UDP_Bandlock_9S_Phone_BR/sm01/#01/data/udp_uplk_loss_latency.csv\n",
      "9/72 /home/wmnlab/E/database/2024-03-19/UDP_Bandlock_9S_Phone_BR/sm03/#01/data/handover_info_log.csv\n",
      "9/72 /home/wmnlab/E/database/2024-03-19/UDP_Bandlock_9S_Phone_BR/sm03/#01/data/udp_dnlk_loss_latency.csv\n",
      "9/72 /home/wmnlab/E/database/2024-03-19/UDP_Bandlock_9S_Phone_BR/sm03/#01/data/udp_uplk_loss_latency.csv\n"
     ]
    },
    {
     "data": {
      "application/vnd.jupyter.widget-view+json": {
       "model_id": "758107479504499bb30bca36b6c85753",
       "version_major": 2,
       "version_minor": 0
      },
      "text/plain": [
       "  0%|                                                                                                         …"
      ]
     },
     "metadata": {},
     "output_type": "display_data"
    },
    {
     "name": "stdout",
     "output_type": "stream",
     "text": [
      "/home/wmnlab/E/results/20240323_0800028652_new_dataset/dr_results/20240324_1800086626_new_dataset/20240324_20594600000_162794466c8f8196/\\home\\wmnlab\\E\\database\\2024-03-19\\UDP_Bandlock_9S_Phone_BR\\sm01\\#01\\data\\udp_dnlk_loss_latency\\home\\wmnlab\\E\\database\\2024-03-19\\UDP_Bandlock_9S_Phone_BR\\sm03\\#01\\data\\udp_dnlk_loss_latency.csv\n",
      "10/72 /home/wmnlab/E/database/2024-03-19/UDP_Bandlock_9S_Phone_BR/sm01/#01/data/handover_info_log.csv\n",
      "10/72 /home/wmnlab/E/database/2024-03-19/UDP_Bandlock_9S_Phone_BR/sm01/#01/data/udp_dnlk_loss_latency.csv\n",
      "10/72 /home/wmnlab/E/database/2024-03-19/UDP_Bandlock_9S_Phone_BR/sm01/#01/data/udp_uplk_loss_latency.csv\n",
      "10/72 /home/wmnlab/E/database/2024-03-19/UDP_Bandlock_9S_Phone_BR/sm04/#01/data/handover_info_log.csv\n",
      "10/72 /home/wmnlab/E/database/2024-03-19/UDP_Bandlock_9S_Phone_BR/sm04/#01/data/udp_dnlk_loss_latency.csv\n",
      "10/72 /home/wmnlab/E/database/2024-03-19/UDP_Bandlock_9S_Phone_BR/sm04/#01/data/udp_uplk_loss_latency.csv\n"
     ]
    },
    {
     "data": {
      "application/vnd.jupyter.widget-view+json": {
       "model_id": "dbb10eab1bd74e238f51b14b372bc093",
       "version_major": 2,
       "version_minor": 0
      },
      "text/plain": [
       "  0%|                                                                                                         …"
      ]
     },
     "metadata": {},
     "output_type": "display_data"
    },
    {
     "name": "stdout",
     "output_type": "stream",
     "text": [
      "/home/wmnlab/E/results/20240323_0800028652_new_dataset/dr_results/20240324_1800086626_new_dataset/20240324_20594600000_162794466c8f8196/\\home\\wmnlab\\E\\database\\2024-03-19\\UDP_Bandlock_9S_Phone_BR\\sm01\\#01\\data\\udp_dnlk_loss_latency\\home\\wmnlab\\E\\database\\2024-03-19\\UDP_Bandlock_9S_Phone_BR\\sm04\\#01\\data\\udp_dnlk_loss_latency.csv\n",
      "11/72 /home/wmnlab/E/database/2024-03-19/UDP_Bandlock_9S_Phone_BR/sm01/#01/data/handover_info_log.csv\n",
      "11/72 /home/wmnlab/E/database/2024-03-19/UDP_Bandlock_9S_Phone_BR/sm01/#01/data/udp_dnlk_loss_latency.csv\n",
      "11/72 /home/wmnlab/E/database/2024-03-19/UDP_Bandlock_9S_Phone_BR/sm01/#01/data/udp_uplk_loss_latency.csv\n",
      "11/72 /home/wmnlab/E/database/2024-03-19/UDP_Bandlock_9S_Phone_BR/sm05/#01/data/handover_info_log.csv\n",
      "11/72 /home/wmnlab/E/database/2024-03-19/UDP_Bandlock_9S_Phone_BR/sm05/#01/data/udp_dnlk_loss_latency.csv\n",
      "11/72 /home/wmnlab/E/database/2024-03-19/UDP_Bandlock_9S_Phone_BR/sm05/#01/data/udp_uplk_loss_latency.csv\n"
     ]
    },
    {
     "data": {
      "application/vnd.jupyter.widget-view+json": {
       "model_id": "021bdfd1ce684e8786f62c326070ec6d",
       "version_major": 2,
       "version_minor": 0
      },
      "text/plain": [
       "  0%|                                                                                                         …"
      ]
     },
     "metadata": {},
     "output_type": "display_data"
    },
    {
     "name": "stdout",
     "output_type": "stream",
     "text": [
      "/home/wmnlab/E/results/20240323_0800028652_new_dataset/dr_results/20240324_1800086626_new_dataset/20240324_20594600000_162794466c8f8196/\\home\\wmnlab\\E\\database\\2024-03-19\\UDP_Bandlock_9S_Phone_BR\\sm01\\#01\\data\\udp_dnlk_loss_latency\\home\\wmnlab\\E\\database\\2024-03-19\\UDP_Bandlock_9S_Phone_BR\\sm05\\#01\\data\\udp_dnlk_loss_latency.csv\n",
      "12/72 /home/wmnlab/E/database/2024-03-19/UDP_Bandlock_9S_Phone_BR/sm01/#01/data/handover_info_log.csv\n",
      "12/72 /home/wmnlab/E/database/2024-03-19/UDP_Bandlock_9S_Phone_BR/sm01/#01/data/udp_dnlk_loss_latency.csv\n",
      "12/72 /home/wmnlab/E/database/2024-03-19/UDP_Bandlock_9S_Phone_BR/sm01/#01/data/udp_uplk_loss_latency.csv\n",
      "12/72 /home/wmnlab/E/database/2024-03-19/UDP_Bandlock_9S_Phone_BR/sm06/#01/data/handover_info_log.csv\n",
      "12/72 /home/wmnlab/E/database/2024-03-19/UDP_Bandlock_9S_Phone_BR/sm06/#01/data/udp_dnlk_loss_latency.csv\n",
      "12/72 /home/wmnlab/E/database/2024-03-19/UDP_Bandlock_9S_Phone_BR/sm06/#01/data/udp_uplk_loss_latency.csv\n"
     ]
    },
    {
     "data": {
      "application/vnd.jupyter.widget-view+json": {
       "model_id": "f199cefd0ab44195adfc845982e375ed",
       "version_major": 2,
       "version_minor": 0
      },
      "text/plain": [
       "  0%|                                                                                                         …"
      ]
     },
     "metadata": {},
     "output_type": "display_data"
    },
    {
     "name": "stdout",
     "output_type": "stream",
     "text": [
      "/home/wmnlab/E/results/20240323_0800028652_new_dataset/dr_results/20240324_1800086626_new_dataset/20240324_20594600000_162794466c8f8196/\\home\\wmnlab\\E\\database\\2024-03-19\\UDP_Bandlock_9S_Phone_BR\\sm01\\#01\\data\\udp_dnlk_loss_latency\\home\\wmnlab\\E\\database\\2024-03-19\\UDP_Bandlock_9S_Phone_BR\\sm06\\#01\\data\\udp_dnlk_loss_latency.csv\n",
      "13/72 /home/wmnlab/E/database/2024-03-19/UDP_Bandlock_9S_Phone_BR/sm01/#01/data/handover_info_log.csv\n",
      "13/72 /home/wmnlab/E/database/2024-03-19/UDP_Bandlock_9S_Phone_BR/sm01/#01/data/udp_dnlk_loss_latency.csv\n",
      "13/72 /home/wmnlab/E/database/2024-03-19/UDP_Bandlock_9S_Phone_BR/sm01/#01/data/udp_uplk_loss_latency.csv\n",
      "13/72 /home/wmnlab/E/database/2024-03-19/UDP_Bandlock_9S_Phone_BR/sm07/#01/data/handover_info_log.csv\n",
      "13/72 /home/wmnlab/E/database/2024-03-19/UDP_Bandlock_9S_Phone_BR/sm07/#01/data/udp_dnlk_loss_latency.csv\n",
      "13/72 /home/wmnlab/E/database/2024-03-19/UDP_Bandlock_9S_Phone_BR/sm07/#01/data/udp_uplk_loss_latency.csv\n"
     ]
    },
    {
     "data": {
      "application/vnd.jupyter.widget-view+json": {
       "model_id": "3c8e23f2b9fe4682b01823231c88bceb",
       "version_major": 2,
       "version_minor": 0
      },
      "text/plain": [
       "  0%|                                                                                                         …"
      ]
     },
     "metadata": {},
     "output_type": "display_data"
    },
    {
     "name": "stdout",
     "output_type": "stream",
     "text": [
      "/home/wmnlab/E/results/20240323_0800028652_new_dataset/dr_results/20240324_1800086626_new_dataset/20240324_20594600000_162794466c8f8196/\\home\\wmnlab\\E\\database\\2024-03-19\\UDP_Bandlock_9S_Phone_BR\\sm01\\#01\\data\\udp_dnlk_loss_latency\\home\\wmnlab\\E\\database\\2024-03-19\\UDP_Bandlock_9S_Phone_BR\\sm07\\#01\\data\\udp_dnlk_loss_latency.csv\n",
      "14/72 /home/wmnlab/E/database/2024-03-19/UDP_Bandlock_9S_Phone_BR/sm01/#01/data/handover_info_log.csv\n",
      "14/72 /home/wmnlab/E/database/2024-03-19/UDP_Bandlock_9S_Phone_BR/sm01/#01/data/udp_dnlk_loss_latency.csv\n",
      "14/72 /home/wmnlab/E/database/2024-03-19/UDP_Bandlock_9S_Phone_BR/sm01/#01/data/udp_uplk_loss_latency.csv\n",
      "14/72 /home/wmnlab/E/database/2024-03-19/UDP_Bandlock_9S_Phone_BR/sm08/#01/data/handover_info_log.csv\n",
      "14/72 /home/wmnlab/E/database/2024-03-19/UDP_Bandlock_9S_Phone_BR/sm08/#01/data/udp_dnlk_loss_latency.csv\n",
      "14/72 /home/wmnlab/E/database/2024-03-19/UDP_Bandlock_9S_Phone_BR/sm08/#01/data/udp_uplk_loss_latency.csv\n"
     ]
    },
    {
     "data": {
      "application/vnd.jupyter.widget-view+json": {
       "model_id": "5872b93a49254d3b80c99323ef595cab",
       "version_major": 2,
       "version_minor": 0
      },
      "text/plain": [
       "  0%|                                                                                                         …"
      ]
     },
     "metadata": {},
     "output_type": "display_data"
    },
    {
     "name": "stdout",
     "output_type": "stream",
     "text": [
      "/home/wmnlab/E/results/20240323_0800028652_new_dataset/dr_results/20240324_1800086626_new_dataset/20240324_20594600000_162794466c8f8196/\\home\\wmnlab\\E\\database\\2024-03-19\\UDP_Bandlock_9S_Phone_BR\\sm01\\#01\\data\\udp_dnlk_loss_latency\\home\\wmnlab\\E\\database\\2024-03-19\\UDP_Bandlock_9S_Phone_BR\\sm08\\#01\\data\\udp_dnlk_loss_latency.csv\n",
      "15/72 /home/wmnlab/E/database/2024-03-19/UDP_Bandlock_9S_Phone_BR/sm02/#01/data/handover_info_log.csv\n",
      "15/72 /home/wmnlab/E/database/2024-03-19/UDP_Bandlock_9S_Phone_BR/sm02/#01/data/udp_dnlk_loss_latency.csv\n",
      "15/72 /home/wmnlab/E/database/2024-03-19/UDP_Bandlock_9S_Phone_BR/sm02/#01/data/udp_uplk_loss_latency.csv\n",
      "15/72 /home/wmnlab/E/database/2024-03-19/UDP_Bandlock_9S_Phone_BR/sm03/#01/data/handover_info_log.csv\n",
      "15/72 /home/wmnlab/E/database/2024-03-19/UDP_Bandlock_9S_Phone_BR/sm03/#01/data/udp_dnlk_loss_latency.csv\n",
      "15/72 /home/wmnlab/E/database/2024-03-19/UDP_Bandlock_9S_Phone_BR/sm03/#01/data/udp_uplk_loss_latency.csv\n"
     ]
    },
    {
     "data": {
      "application/vnd.jupyter.widget-view+json": {
       "model_id": "9b86fc80d3af4365a639ef26480a2aad",
       "version_major": 2,
       "version_minor": 0
      },
      "text/plain": [
       "  0%|                                                                                                         …"
      ]
     },
     "metadata": {},
     "output_type": "display_data"
    },
    {
     "name": "stdout",
     "output_type": "stream",
     "text": [
      "/home/wmnlab/E/results/20240323_0800028652_new_dataset/dr_results/20240324_1800086626_new_dataset/20240324_20594600000_162794466c8f8196/\\home\\wmnlab\\E\\database\\2024-03-19\\UDP_Bandlock_9S_Phone_BR\\sm02\\#01\\data\\udp_dnlk_loss_latency\\home\\wmnlab\\E\\database\\2024-03-19\\UDP_Bandlock_9S_Phone_BR\\sm03\\#01\\data\\udp_dnlk_loss_latency.csv\n",
      "16/72 /home/wmnlab/E/database/2024-03-19/UDP_Bandlock_9S_Phone_BR/sm02/#01/data/handover_info_log.csv\n",
      "16/72 /home/wmnlab/E/database/2024-03-19/UDP_Bandlock_9S_Phone_BR/sm02/#01/data/udp_dnlk_loss_latency.csv\n",
      "16/72 /home/wmnlab/E/database/2024-03-19/UDP_Bandlock_9S_Phone_BR/sm02/#01/data/udp_uplk_loss_latency.csv\n",
      "16/72 /home/wmnlab/E/database/2024-03-19/UDP_Bandlock_9S_Phone_BR/sm04/#01/data/handover_info_log.csv\n",
      "16/72 /home/wmnlab/E/database/2024-03-19/UDP_Bandlock_9S_Phone_BR/sm04/#01/data/udp_dnlk_loss_latency.csv\n",
      "16/72 /home/wmnlab/E/database/2024-03-19/UDP_Bandlock_9S_Phone_BR/sm04/#01/data/udp_uplk_loss_latency.csv\n"
     ]
    },
    {
     "data": {
      "application/vnd.jupyter.widget-view+json": {
       "model_id": "85d5fe8b7cf84c7abe96908b8506d7de",
       "version_major": 2,
       "version_minor": 0
      },
      "text/plain": [
       "  0%|                                                                                                         …"
      ]
     },
     "metadata": {},
     "output_type": "display_data"
    },
    {
     "name": "stdout",
     "output_type": "stream",
     "text": [
      "/home/wmnlab/E/results/20240323_0800028652_new_dataset/dr_results/20240324_1800086626_new_dataset/20240324_20594600000_162794466c8f8196/\\home\\wmnlab\\E\\database\\2024-03-19\\UDP_Bandlock_9S_Phone_BR\\sm02\\#01\\data\\udp_dnlk_loss_latency\\home\\wmnlab\\E\\database\\2024-03-19\\UDP_Bandlock_9S_Phone_BR\\sm04\\#01\\data\\udp_dnlk_loss_latency.csv\n",
      "17/72 /home/wmnlab/E/database/2024-03-19/UDP_Bandlock_9S_Phone_BR/sm02/#01/data/handover_info_log.csv\n",
      "17/72 /home/wmnlab/E/database/2024-03-19/UDP_Bandlock_9S_Phone_BR/sm02/#01/data/udp_dnlk_loss_latency.csv\n",
      "17/72 /home/wmnlab/E/database/2024-03-19/UDP_Bandlock_9S_Phone_BR/sm02/#01/data/udp_uplk_loss_latency.csv\n",
      "17/72 /home/wmnlab/E/database/2024-03-19/UDP_Bandlock_9S_Phone_BR/sm05/#01/data/handover_info_log.csv\n",
      "17/72 /home/wmnlab/E/database/2024-03-19/UDP_Bandlock_9S_Phone_BR/sm05/#01/data/udp_dnlk_loss_latency.csv\n",
      "17/72 /home/wmnlab/E/database/2024-03-19/UDP_Bandlock_9S_Phone_BR/sm05/#01/data/udp_uplk_loss_latency.csv\n"
     ]
    },
    {
     "data": {
      "application/vnd.jupyter.widget-view+json": {
       "model_id": "e22e71ba959246aabb6f8b8fed162c53",
       "version_major": 2,
       "version_minor": 0
      },
      "text/plain": [
       "  0%|                                                                                                         …"
      ]
     },
     "metadata": {},
     "output_type": "display_data"
    },
    {
     "name": "stdout",
     "output_type": "stream",
     "text": [
      "/home/wmnlab/E/results/20240323_0800028652_new_dataset/dr_results/20240324_1800086626_new_dataset/20240324_20594600000_162794466c8f8196/\\home\\wmnlab\\E\\database\\2024-03-19\\UDP_Bandlock_9S_Phone_BR\\sm02\\#01\\data\\udp_dnlk_loss_latency\\home\\wmnlab\\E\\database\\2024-03-19\\UDP_Bandlock_9S_Phone_BR\\sm05\\#01\\data\\udp_dnlk_loss_latency.csv\n",
      "18/72 /home/wmnlab/E/database/2024-03-19/UDP_Bandlock_9S_Phone_BR/sm02/#01/data/handover_info_log.csv\n",
      "18/72 /home/wmnlab/E/database/2024-03-19/UDP_Bandlock_9S_Phone_BR/sm02/#01/data/udp_dnlk_loss_latency.csv\n",
      "18/72 /home/wmnlab/E/database/2024-03-19/UDP_Bandlock_9S_Phone_BR/sm02/#01/data/udp_uplk_loss_latency.csv\n",
      "18/72 /home/wmnlab/E/database/2024-03-19/UDP_Bandlock_9S_Phone_BR/sm06/#01/data/handover_info_log.csv\n",
      "18/72 /home/wmnlab/E/database/2024-03-19/UDP_Bandlock_9S_Phone_BR/sm06/#01/data/udp_dnlk_loss_latency.csv\n",
      "18/72 /home/wmnlab/E/database/2024-03-19/UDP_Bandlock_9S_Phone_BR/sm06/#01/data/udp_uplk_loss_latency.csv\n"
     ]
    },
    {
     "data": {
      "application/vnd.jupyter.widget-view+json": {
       "model_id": "fff2d2fee9884d5682630988691a4fa6",
       "version_major": 2,
       "version_minor": 0
      },
      "text/plain": [
       "  0%|                                                                                                         …"
      ]
     },
     "metadata": {},
     "output_type": "display_data"
    },
    {
     "name": "stdout",
     "output_type": "stream",
     "text": [
      "/home/wmnlab/E/results/20240323_0800028652_new_dataset/dr_results/20240324_1800086626_new_dataset/20240324_20594600000_162794466c8f8196/\\home\\wmnlab\\E\\database\\2024-03-19\\UDP_Bandlock_9S_Phone_BR\\sm02\\#01\\data\\udp_dnlk_loss_latency\\home\\wmnlab\\E\\database\\2024-03-19\\UDP_Bandlock_9S_Phone_BR\\sm06\\#01\\data\\udp_dnlk_loss_latency.csv\n",
      "19/72 /home/wmnlab/E/database/2024-03-19/UDP_Bandlock_9S_Phone_BR/sm02/#01/data/handover_info_log.csv\n",
      "19/72 /home/wmnlab/E/database/2024-03-19/UDP_Bandlock_9S_Phone_BR/sm02/#01/data/udp_dnlk_loss_latency.csv\n",
      "19/72 /home/wmnlab/E/database/2024-03-19/UDP_Bandlock_9S_Phone_BR/sm02/#01/data/udp_uplk_loss_latency.csv\n",
      "19/72 /home/wmnlab/E/database/2024-03-19/UDP_Bandlock_9S_Phone_BR/sm07/#01/data/handover_info_log.csv\n",
      "19/72 /home/wmnlab/E/database/2024-03-19/UDP_Bandlock_9S_Phone_BR/sm07/#01/data/udp_dnlk_loss_latency.csv\n",
      "19/72 /home/wmnlab/E/database/2024-03-19/UDP_Bandlock_9S_Phone_BR/sm07/#01/data/udp_uplk_loss_latency.csv\n"
     ]
    },
    {
     "data": {
      "application/vnd.jupyter.widget-view+json": {
       "model_id": "dd0e764726524863880b25e2cb52d0f2",
       "version_major": 2,
       "version_minor": 0
      },
      "text/plain": [
       "  0%|                                                                                                         …"
      ]
     },
     "metadata": {},
     "output_type": "display_data"
    },
    {
     "name": "stdout",
     "output_type": "stream",
     "text": [
      "/home/wmnlab/E/results/20240323_0800028652_new_dataset/dr_results/20240324_1800086626_new_dataset/20240324_20594600000_162794466c8f8196/\\home\\wmnlab\\E\\database\\2024-03-19\\UDP_Bandlock_9S_Phone_BR\\sm02\\#01\\data\\udp_dnlk_loss_latency\\home\\wmnlab\\E\\database\\2024-03-19\\UDP_Bandlock_9S_Phone_BR\\sm07\\#01\\data\\udp_dnlk_loss_latency.csv\n",
      "20/72 /home/wmnlab/E/database/2024-03-19/UDP_Bandlock_9S_Phone_BR/sm02/#01/data/handover_info_log.csv\n",
      "20/72 /home/wmnlab/E/database/2024-03-19/UDP_Bandlock_9S_Phone_BR/sm02/#01/data/udp_dnlk_loss_latency.csv\n",
      "20/72 /home/wmnlab/E/database/2024-03-19/UDP_Bandlock_9S_Phone_BR/sm02/#01/data/udp_uplk_loss_latency.csv\n",
      "20/72 /home/wmnlab/E/database/2024-03-19/UDP_Bandlock_9S_Phone_BR/sm08/#01/data/handover_info_log.csv\n",
      "20/72 /home/wmnlab/E/database/2024-03-19/UDP_Bandlock_9S_Phone_BR/sm08/#01/data/udp_dnlk_loss_latency.csv\n",
      "20/72 /home/wmnlab/E/database/2024-03-19/UDP_Bandlock_9S_Phone_BR/sm08/#01/data/udp_uplk_loss_latency.csv\n"
     ]
    },
    {
     "data": {
      "application/vnd.jupyter.widget-view+json": {
       "model_id": "370921ecf84e4e179e84d336acd1d079",
       "version_major": 2,
       "version_minor": 0
      },
      "text/plain": [
       "  0%|                                                                                                         …"
      ]
     },
     "metadata": {},
     "output_type": "display_data"
    },
    {
     "name": "stdout",
     "output_type": "stream",
     "text": [
      "/home/wmnlab/E/results/20240323_0800028652_new_dataset/dr_results/20240324_1800086626_new_dataset/20240324_20594600000_162794466c8f8196/\\home\\wmnlab\\E\\database\\2024-03-19\\UDP_Bandlock_9S_Phone_BR\\sm02\\#01\\data\\udp_dnlk_loss_latency\\home\\wmnlab\\E\\database\\2024-03-19\\UDP_Bandlock_9S_Phone_BR\\sm08\\#01\\data\\udp_dnlk_loss_latency.csv\n",
      "21/72 /home/wmnlab/E/database/2024-03-19/UDP_Bandlock_9S_Phone_BR/sm03/#01/data/handover_info_log.csv\n",
      "21/72 /home/wmnlab/E/database/2024-03-19/UDP_Bandlock_9S_Phone_BR/sm03/#01/data/udp_dnlk_loss_latency.csv\n",
      "21/72 /home/wmnlab/E/database/2024-03-19/UDP_Bandlock_9S_Phone_BR/sm03/#01/data/udp_uplk_loss_latency.csv\n",
      "21/72 /home/wmnlab/E/database/2024-03-19/UDP_Bandlock_9S_Phone_BR/sm04/#01/data/handover_info_log.csv\n",
      "21/72 /home/wmnlab/E/database/2024-03-19/UDP_Bandlock_9S_Phone_BR/sm04/#01/data/udp_dnlk_loss_latency.csv\n",
      "21/72 /home/wmnlab/E/database/2024-03-19/UDP_Bandlock_9S_Phone_BR/sm04/#01/data/udp_uplk_loss_latency.csv\n"
     ]
    },
    {
     "data": {
      "application/vnd.jupyter.widget-view+json": {
       "model_id": "359fb4ee12d543199a4477f5b4924450",
       "version_major": 2,
       "version_minor": 0
      },
      "text/plain": [
       "  0%|                                                                                                         …"
      ]
     },
     "metadata": {},
     "output_type": "display_data"
    },
    {
     "name": "stdout",
     "output_type": "stream",
     "text": [
      "/home/wmnlab/E/results/20240323_0800028652_new_dataset/dr_results/20240324_1800086626_new_dataset/20240324_20594600000_162794466c8f8196/\\home\\wmnlab\\E\\database\\2024-03-19\\UDP_Bandlock_9S_Phone_BR\\sm03\\#01\\data\\udp_dnlk_loss_latency\\home\\wmnlab\\E\\database\\2024-03-19\\UDP_Bandlock_9S_Phone_BR\\sm04\\#01\\data\\udp_dnlk_loss_latency.csv\n",
      "22/72 /home/wmnlab/E/database/2024-03-19/UDP_Bandlock_9S_Phone_BR/sm03/#01/data/handover_info_log.csv\n",
      "22/72 /home/wmnlab/E/database/2024-03-19/UDP_Bandlock_9S_Phone_BR/sm03/#01/data/udp_dnlk_loss_latency.csv\n",
      "22/72 /home/wmnlab/E/database/2024-03-19/UDP_Bandlock_9S_Phone_BR/sm03/#01/data/udp_uplk_loss_latency.csv\n",
      "22/72 /home/wmnlab/E/database/2024-03-19/UDP_Bandlock_9S_Phone_BR/sm05/#01/data/handover_info_log.csv\n",
      "22/72 /home/wmnlab/E/database/2024-03-19/UDP_Bandlock_9S_Phone_BR/sm05/#01/data/udp_dnlk_loss_latency.csv\n",
      "22/72 /home/wmnlab/E/database/2024-03-19/UDP_Bandlock_9S_Phone_BR/sm05/#01/data/udp_uplk_loss_latency.csv\n"
     ]
    },
    {
     "data": {
      "application/vnd.jupyter.widget-view+json": {
       "model_id": "a50a1a4887ad4e6b88d58c42ac77954c",
       "version_major": 2,
       "version_minor": 0
      },
      "text/plain": [
       "  0%|                                                                                                         …"
      ]
     },
     "metadata": {},
     "output_type": "display_data"
    },
    {
     "name": "stdout",
     "output_type": "stream",
     "text": [
      "/home/wmnlab/E/results/20240323_0800028652_new_dataset/dr_results/20240324_1800086626_new_dataset/20240324_20594600000_162794466c8f8196/\\home\\wmnlab\\E\\database\\2024-03-19\\UDP_Bandlock_9S_Phone_BR\\sm03\\#01\\data\\udp_dnlk_loss_latency\\home\\wmnlab\\E\\database\\2024-03-19\\UDP_Bandlock_9S_Phone_BR\\sm05\\#01\\data\\udp_dnlk_loss_latency.csv\n",
      "23/72 /home/wmnlab/E/database/2024-03-19/UDP_Bandlock_9S_Phone_BR/sm03/#01/data/handover_info_log.csv\n",
      "23/72 /home/wmnlab/E/database/2024-03-19/UDP_Bandlock_9S_Phone_BR/sm03/#01/data/udp_dnlk_loss_latency.csv\n",
      "23/72 /home/wmnlab/E/database/2024-03-19/UDP_Bandlock_9S_Phone_BR/sm03/#01/data/udp_uplk_loss_latency.csv\n",
      "23/72 /home/wmnlab/E/database/2024-03-19/UDP_Bandlock_9S_Phone_BR/sm06/#01/data/handover_info_log.csv\n",
      "23/72 /home/wmnlab/E/database/2024-03-19/UDP_Bandlock_9S_Phone_BR/sm06/#01/data/udp_dnlk_loss_latency.csv\n",
      "23/72 /home/wmnlab/E/database/2024-03-19/UDP_Bandlock_9S_Phone_BR/sm06/#01/data/udp_uplk_loss_latency.csv\n"
     ]
    },
    {
     "data": {
      "application/vnd.jupyter.widget-view+json": {
       "model_id": "a1b622c2181d4b37a69ec8aaf5002407",
       "version_major": 2,
       "version_minor": 0
      },
      "text/plain": [
       "  0%|                                                                                                         …"
      ]
     },
     "metadata": {},
     "output_type": "display_data"
    },
    {
     "name": "stdout",
     "output_type": "stream",
     "text": [
      "/home/wmnlab/E/results/20240323_0800028652_new_dataset/dr_results/20240324_1800086626_new_dataset/20240324_20594600000_162794466c8f8196/\\home\\wmnlab\\E\\database\\2024-03-19\\UDP_Bandlock_9S_Phone_BR\\sm03\\#01\\data\\udp_dnlk_loss_latency\\home\\wmnlab\\E\\database\\2024-03-19\\UDP_Bandlock_9S_Phone_BR\\sm06\\#01\\data\\udp_dnlk_loss_latency.csv\n",
      "24/72 /home/wmnlab/E/database/2024-03-19/UDP_Bandlock_9S_Phone_BR/sm03/#01/data/handover_info_log.csv\n",
      "24/72 /home/wmnlab/E/database/2024-03-19/UDP_Bandlock_9S_Phone_BR/sm03/#01/data/udp_dnlk_loss_latency.csv\n",
      "24/72 /home/wmnlab/E/database/2024-03-19/UDP_Bandlock_9S_Phone_BR/sm03/#01/data/udp_uplk_loss_latency.csv\n",
      "24/72 /home/wmnlab/E/database/2024-03-19/UDP_Bandlock_9S_Phone_BR/sm07/#01/data/handover_info_log.csv\n",
      "24/72 /home/wmnlab/E/database/2024-03-19/UDP_Bandlock_9S_Phone_BR/sm07/#01/data/udp_dnlk_loss_latency.csv\n",
      "24/72 /home/wmnlab/E/database/2024-03-19/UDP_Bandlock_9S_Phone_BR/sm07/#01/data/udp_uplk_loss_latency.csv\n"
     ]
    },
    {
     "data": {
      "application/vnd.jupyter.widget-view+json": {
       "model_id": "5c42aa6d9d3448319c7dad46860167a8",
       "version_major": 2,
       "version_minor": 0
      },
      "text/plain": [
       "  0%|                                                                                                         …"
      ]
     },
     "metadata": {},
     "output_type": "display_data"
    },
    {
     "name": "stdout",
     "output_type": "stream",
     "text": [
      "/home/wmnlab/E/results/20240323_0800028652_new_dataset/dr_results/20240324_1800086626_new_dataset/20240324_20594600000_162794466c8f8196/\\home\\wmnlab\\E\\database\\2024-03-19\\UDP_Bandlock_9S_Phone_BR\\sm03\\#01\\data\\udp_dnlk_loss_latency\\home\\wmnlab\\E\\database\\2024-03-19\\UDP_Bandlock_9S_Phone_BR\\sm07\\#01\\data\\udp_dnlk_loss_latency.csv\n",
      "25/72 /home/wmnlab/E/database/2024-03-19/UDP_Bandlock_9S_Phone_BR/sm03/#01/data/handover_info_log.csv\n",
      "25/72 /home/wmnlab/E/database/2024-03-19/UDP_Bandlock_9S_Phone_BR/sm03/#01/data/udp_dnlk_loss_latency.csv\n",
      "25/72 /home/wmnlab/E/database/2024-03-19/UDP_Bandlock_9S_Phone_BR/sm03/#01/data/udp_uplk_loss_latency.csv\n",
      "25/72 /home/wmnlab/E/database/2024-03-19/UDP_Bandlock_9S_Phone_BR/sm08/#01/data/handover_info_log.csv\n",
      "25/72 /home/wmnlab/E/database/2024-03-19/UDP_Bandlock_9S_Phone_BR/sm08/#01/data/udp_dnlk_loss_latency.csv\n",
      "25/72 /home/wmnlab/E/database/2024-03-19/UDP_Bandlock_9S_Phone_BR/sm08/#01/data/udp_uplk_loss_latency.csv\n"
     ]
    },
    {
     "data": {
      "application/vnd.jupyter.widget-view+json": {
       "model_id": "dc2654718239474798104d074a93f333",
       "version_major": 2,
       "version_minor": 0
      },
      "text/plain": [
       "  0%|                                                                                                         …"
      ]
     },
     "metadata": {},
     "output_type": "display_data"
    },
    {
     "name": "stdout",
     "output_type": "stream",
     "text": [
      "/home/wmnlab/E/results/20240323_0800028652_new_dataset/dr_results/20240324_1800086626_new_dataset/20240324_20594600000_162794466c8f8196/\\home\\wmnlab\\E\\database\\2024-03-19\\UDP_Bandlock_9S_Phone_BR\\sm03\\#01\\data\\udp_dnlk_loss_latency\\home\\wmnlab\\E\\database\\2024-03-19\\UDP_Bandlock_9S_Phone_BR\\sm08\\#01\\data\\udp_dnlk_loss_latency.csv\n",
      "26/72 /home/wmnlab/E/database/2024-03-19/UDP_Bandlock_9S_Phone_BR/sm04/#01/data/handover_info_log.csv\n",
      "26/72 /home/wmnlab/E/database/2024-03-19/UDP_Bandlock_9S_Phone_BR/sm04/#01/data/udp_dnlk_loss_latency.csv\n",
      "26/72 /home/wmnlab/E/database/2024-03-19/UDP_Bandlock_9S_Phone_BR/sm04/#01/data/udp_uplk_loss_latency.csv\n",
      "26/72 /home/wmnlab/E/database/2024-03-19/UDP_Bandlock_9S_Phone_BR/sm05/#01/data/handover_info_log.csv\n",
      "26/72 /home/wmnlab/E/database/2024-03-19/UDP_Bandlock_9S_Phone_BR/sm05/#01/data/udp_dnlk_loss_latency.csv\n",
      "26/72 /home/wmnlab/E/database/2024-03-19/UDP_Bandlock_9S_Phone_BR/sm05/#01/data/udp_uplk_loss_latency.csv\n"
     ]
    },
    {
     "data": {
      "application/vnd.jupyter.widget-view+json": {
       "model_id": "8eddb2467b684a94a3cf92cd02c9057c",
       "version_major": 2,
       "version_minor": 0
      },
      "text/plain": [
       "  0%|                                                                                                         …"
      ]
     },
     "metadata": {},
     "output_type": "display_data"
    },
    {
     "name": "stdout",
     "output_type": "stream",
     "text": [
      "/home/wmnlab/E/results/20240323_0800028652_new_dataset/dr_results/20240324_1800086626_new_dataset/20240324_20594600000_162794466c8f8196/\\home\\wmnlab\\E\\database\\2024-03-19\\UDP_Bandlock_9S_Phone_BR\\sm04\\#01\\data\\udp_dnlk_loss_latency\\home\\wmnlab\\E\\database\\2024-03-19\\UDP_Bandlock_9S_Phone_BR\\sm05\\#01\\data\\udp_dnlk_loss_latency.csv\n",
      "27/72 /home/wmnlab/E/database/2024-03-19/UDP_Bandlock_9S_Phone_BR/sm04/#01/data/handover_info_log.csv\n",
      "27/72 /home/wmnlab/E/database/2024-03-19/UDP_Bandlock_9S_Phone_BR/sm04/#01/data/udp_dnlk_loss_latency.csv\n",
      "27/72 /home/wmnlab/E/database/2024-03-19/UDP_Bandlock_9S_Phone_BR/sm04/#01/data/udp_uplk_loss_latency.csv\n",
      "27/72 /home/wmnlab/E/database/2024-03-19/UDP_Bandlock_9S_Phone_BR/sm06/#01/data/handover_info_log.csv\n",
      "27/72 /home/wmnlab/E/database/2024-03-19/UDP_Bandlock_9S_Phone_BR/sm06/#01/data/udp_dnlk_loss_latency.csv\n",
      "27/72 /home/wmnlab/E/database/2024-03-19/UDP_Bandlock_9S_Phone_BR/sm06/#01/data/udp_uplk_loss_latency.csv\n"
     ]
    },
    {
     "data": {
      "application/vnd.jupyter.widget-view+json": {
       "model_id": "5745fe23f40d45adb117eeb5d0f1810b",
       "version_major": 2,
       "version_minor": 0
      },
      "text/plain": [
       "  0%|                                                                                                         …"
      ]
     },
     "metadata": {},
     "output_type": "display_data"
    },
    {
     "name": "stdout",
     "output_type": "stream",
     "text": [
      "/home/wmnlab/E/results/20240323_0800028652_new_dataset/dr_results/20240324_1800086626_new_dataset/20240324_20594600000_162794466c8f8196/\\home\\wmnlab\\E\\database\\2024-03-19\\UDP_Bandlock_9S_Phone_BR\\sm04\\#01\\data\\udp_dnlk_loss_latency\\home\\wmnlab\\E\\database\\2024-03-19\\UDP_Bandlock_9S_Phone_BR\\sm06\\#01\\data\\udp_dnlk_loss_latency.csv\n",
      "28/72 /home/wmnlab/E/database/2024-03-19/UDP_Bandlock_9S_Phone_BR/sm04/#01/data/handover_info_log.csv\n",
      "28/72 /home/wmnlab/E/database/2024-03-19/UDP_Bandlock_9S_Phone_BR/sm04/#01/data/udp_dnlk_loss_latency.csv\n",
      "28/72 /home/wmnlab/E/database/2024-03-19/UDP_Bandlock_9S_Phone_BR/sm04/#01/data/udp_uplk_loss_latency.csv\n",
      "28/72 /home/wmnlab/E/database/2024-03-19/UDP_Bandlock_9S_Phone_BR/sm07/#01/data/handover_info_log.csv\n",
      "28/72 /home/wmnlab/E/database/2024-03-19/UDP_Bandlock_9S_Phone_BR/sm07/#01/data/udp_dnlk_loss_latency.csv\n",
      "28/72 /home/wmnlab/E/database/2024-03-19/UDP_Bandlock_9S_Phone_BR/sm07/#01/data/udp_uplk_loss_latency.csv\n"
     ]
    },
    {
     "data": {
      "application/vnd.jupyter.widget-view+json": {
       "model_id": "dc8712f9b3b148e798d60266bb5acac2",
       "version_major": 2,
       "version_minor": 0
      },
      "text/plain": [
       "  0%|                                                                                                         …"
      ]
     },
     "metadata": {},
     "output_type": "display_data"
    },
    {
     "name": "stdout",
     "output_type": "stream",
     "text": [
      "/home/wmnlab/E/results/20240323_0800028652_new_dataset/dr_results/20240324_1800086626_new_dataset/20240324_20594600000_162794466c8f8196/\\home\\wmnlab\\E\\database\\2024-03-19\\UDP_Bandlock_9S_Phone_BR\\sm04\\#01\\data\\udp_dnlk_loss_latency\\home\\wmnlab\\E\\database\\2024-03-19\\UDP_Bandlock_9S_Phone_BR\\sm07\\#01\\data\\udp_dnlk_loss_latency.csv\n",
      "29/72 /home/wmnlab/E/database/2024-03-19/UDP_Bandlock_9S_Phone_BR/sm04/#01/data/handover_info_log.csv\n",
      "29/72 /home/wmnlab/E/database/2024-03-19/UDP_Bandlock_9S_Phone_BR/sm04/#01/data/udp_dnlk_loss_latency.csv\n",
      "29/72 /home/wmnlab/E/database/2024-03-19/UDP_Bandlock_9S_Phone_BR/sm04/#01/data/udp_uplk_loss_latency.csv\n",
      "29/72 /home/wmnlab/E/database/2024-03-19/UDP_Bandlock_9S_Phone_BR/sm08/#01/data/handover_info_log.csv\n",
      "29/72 /home/wmnlab/E/database/2024-03-19/UDP_Bandlock_9S_Phone_BR/sm08/#01/data/udp_dnlk_loss_latency.csv\n",
      "29/72 /home/wmnlab/E/database/2024-03-19/UDP_Bandlock_9S_Phone_BR/sm08/#01/data/udp_uplk_loss_latency.csv\n"
     ]
    },
    {
     "data": {
      "application/vnd.jupyter.widget-view+json": {
       "model_id": "b364c2a73cca4bc18d8cd7154cb40379",
       "version_major": 2,
       "version_minor": 0
      },
      "text/plain": [
       "  0%|                                                                                                         …"
      ]
     },
     "metadata": {},
     "output_type": "display_data"
    },
    {
     "name": "stdout",
     "output_type": "stream",
     "text": [
      "/home/wmnlab/E/results/20240323_0800028652_new_dataset/dr_results/20240324_1800086626_new_dataset/20240324_20594600000_162794466c8f8196/\\home\\wmnlab\\E\\database\\2024-03-19\\UDP_Bandlock_9S_Phone_BR\\sm04\\#01\\data\\udp_dnlk_loss_latency\\home\\wmnlab\\E\\database\\2024-03-19\\UDP_Bandlock_9S_Phone_BR\\sm08\\#01\\data\\udp_dnlk_loss_latency.csv\n",
      "30/72 /home/wmnlab/E/database/2024-03-19/UDP_Bandlock_9S_Phone_BR/sm05/#01/data/handover_info_log.csv\n",
      "30/72 /home/wmnlab/E/database/2024-03-19/UDP_Bandlock_9S_Phone_BR/sm05/#01/data/udp_dnlk_loss_latency.csv\n",
      "30/72 /home/wmnlab/E/database/2024-03-19/UDP_Bandlock_9S_Phone_BR/sm05/#01/data/udp_uplk_loss_latency.csv\n",
      "30/72 /home/wmnlab/E/database/2024-03-19/UDP_Bandlock_9S_Phone_BR/sm06/#01/data/handover_info_log.csv\n",
      "30/72 /home/wmnlab/E/database/2024-03-19/UDP_Bandlock_9S_Phone_BR/sm06/#01/data/udp_dnlk_loss_latency.csv\n",
      "30/72 /home/wmnlab/E/database/2024-03-19/UDP_Bandlock_9S_Phone_BR/sm06/#01/data/udp_uplk_loss_latency.csv\n"
     ]
    },
    {
     "data": {
      "application/vnd.jupyter.widget-view+json": {
       "model_id": "d2793b05772c432284459d1c55244b7b",
       "version_major": 2,
       "version_minor": 0
      },
      "text/plain": [
       "  0%|                                                                                                         …"
      ]
     },
     "metadata": {},
     "output_type": "display_data"
    },
    {
     "name": "stdout",
     "output_type": "stream",
     "text": [
      "/home/wmnlab/E/results/20240323_0800028652_new_dataset/dr_results/20240324_1800086626_new_dataset/20240324_20594600000_162794466c8f8196/\\home\\wmnlab\\E\\database\\2024-03-19\\UDP_Bandlock_9S_Phone_BR\\sm05\\#01\\data\\udp_dnlk_loss_latency\\home\\wmnlab\\E\\database\\2024-03-19\\UDP_Bandlock_9S_Phone_BR\\sm06\\#01\\data\\udp_dnlk_loss_latency.csv\n",
      "31/72 /home/wmnlab/E/database/2024-03-19/UDP_Bandlock_9S_Phone_BR/sm05/#01/data/handover_info_log.csv\n",
      "31/72 /home/wmnlab/E/database/2024-03-19/UDP_Bandlock_9S_Phone_BR/sm05/#01/data/udp_dnlk_loss_latency.csv\n",
      "31/72 /home/wmnlab/E/database/2024-03-19/UDP_Bandlock_9S_Phone_BR/sm05/#01/data/udp_uplk_loss_latency.csv\n",
      "31/72 /home/wmnlab/E/database/2024-03-19/UDP_Bandlock_9S_Phone_BR/sm07/#01/data/handover_info_log.csv\n",
      "31/72 /home/wmnlab/E/database/2024-03-19/UDP_Bandlock_9S_Phone_BR/sm07/#01/data/udp_dnlk_loss_latency.csv\n",
      "31/72 /home/wmnlab/E/database/2024-03-19/UDP_Bandlock_9S_Phone_BR/sm07/#01/data/udp_uplk_loss_latency.csv\n"
     ]
    },
    {
     "data": {
      "application/vnd.jupyter.widget-view+json": {
       "model_id": "c695825bac0b41ed95c578e0e865ba8f",
       "version_major": 2,
       "version_minor": 0
      },
      "text/plain": [
       "  0%|                                                                                                         …"
      ]
     },
     "metadata": {},
     "output_type": "display_data"
    },
    {
     "name": "stdout",
     "output_type": "stream",
     "text": [
      "/home/wmnlab/E/results/20240323_0800028652_new_dataset/dr_results/20240324_1800086626_new_dataset/20240324_20594600000_162794466c8f8196/\\home\\wmnlab\\E\\database\\2024-03-19\\UDP_Bandlock_9S_Phone_BR\\sm05\\#01\\data\\udp_dnlk_loss_latency\\home\\wmnlab\\E\\database\\2024-03-19\\UDP_Bandlock_9S_Phone_BR\\sm07\\#01\\data\\udp_dnlk_loss_latency.csv\n",
      "32/72 /home/wmnlab/E/database/2024-03-19/UDP_Bandlock_9S_Phone_BR/sm05/#01/data/handover_info_log.csv\n",
      "32/72 /home/wmnlab/E/database/2024-03-19/UDP_Bandlock_9S_Phone_BR/sm05/#01/data/udp_dnlk_loss_latency.csv\n",
      "32/72 /home/wmnlab/E/database/2024-03-19/UDP_Bandlock_9S_Phone_BR/sm05/#01/data/udp_uplk_loss_latency.csv\n",
      "32/72 /home/wmnlab/E/database/2024-03-19/UDP_Bandlock_9S_Phone_BR/sm08/#01/data/handover_info_log.csv\n",
      "32/72 /home/wmnlab/E/database/2024-03-19/UDP_Bandlock_9S_Phone_BR/sm08/#01/data/udp_dnlk_loss_latency.csv\n",
      "32/72 /home/wmnlab/E/database/2024-03-19/UDP_Bandlock_9S_Phone_BR/sm08/#01/data/udp_uplk_loss_latency.csv\n"
     ]
    },
    {
     "data": {
      "application/vnd.jupyter.widget-view+json": {
       "model_id": "3386d3fc327c4322933189d95e430ef6",
       "version_major": 2,
       "version_minor": 0
      },
      "text/plain": [
       "  0%|                                                                                                         …"
      ]
     },
     "metadata": {},
     "output_type": "display_data"
    },
    {
     "name": "stdout",
     "output_type": "stream",
     "text": [
      "/home/wmnlab/E/results/20240323_0800028652_new_dataset/dr_results/20240324_1800086626_new_dataset/20240324_20594600000_162794466c8f8196/\\home\\wmnlab\\E\\database\\2024-03-19\\UDP_Bandlock_9S_Phone_BR\\sm05\\#01\\data\\udp_dnlk_loss_latency\\home\\wmnlab\\E\\database\\2024-03-19\\UDP_Bandlock_9S_Phone_BR\\sm08\\#01\\data\\udp_dnlk_loss_latency.csv\n",
      "33/72 /home/wmnlab/E/database/2024-03-19/UDP_Bandlock_9S_Phone_BR/sm06/#01/data/handover_info_log.csv\n",
      "33/72 /home/wmnlab/E/database/2024-03-19/UDP_Bandlock_9S_Phone_BR/sm06/#01/data/udp_dnlk_loss_latency.csv\n",
      "33/72 /home/wmnlab/E/database/2024-03-19/UDP_Bandlock_9S_Phone_BR/sm06/#01/data/udp_uplk_loss_latency.csv\n",
      "33/72 /home/wmnlab/E/database/2024-03-19/UDP_Bandlock_9S_Phone_BR/sm07/#01/data/handover_info_log.csv\n",
      "33/72 /home/wmnlab/E/database/2024-03-19/UDP_Bandlock_9S_Phone_BR/sm07/#01/data/udp_dnlk_loss_latency.csv\n",
      "33/72 /home/wmnlab/E/database/2024-03-19/UDP_Bandlock_9S_Phone_BR/sm07/#01/data/udp_uplk_loss_latency.csv\n"
     ]
    },
    {
     "data": {
      "application/vnd.jupyter.widget-view+json": {
       "model_id": "9f467236f6454b1e8d3144b2cd57c360",
       "version_major": 2,
       "version_minor": 0
      },
      "text/plain": [
       "  0%|                                                                                                         …"
      ]
     },
     "metadata": {},
     "output_type": "display_data"
    },
    {
     "name": "stdout",
     "output_type": "stream",
     "text": [
      "/home/wmnlab/E/results/20240323_0800028652_new_dataset/dr_results/20240324_1800086626_new_dataset/20240324_20594600000_162794466c8f8196/\\home\\wmnlab\\E\\database\\2024-03-19\\UDP_Bandlock_9S_Phone_BR\\sm06\\#01\\data\\udp_dnlk_loss_latency\\home\\wmnlab\\E\\database\\2024-03-19\\UDP_Bandlock_9S_Phone_BR\\sm07\\#01\\data\\udp_dnlk_loss_latency.csv\n",
      "34/72 /home/wmnlab/E/database/2024-03-19/UDP_Bandlock_9S_Phone_BR/sm06/#01/data/handover_info_log.csv\n",
      "34/72 /home/wmnlab/E/database/2024-03-19/UDP_Bandlock_9S_Phone_BR/sm06/#01/data/udp_dnlk_loss_latency.csv\n",
      "34/72 /home/wmnlab/E/database/2024-03-19/UDP_Bandlock_9S_Phone_BR/sm06/#01/data/udp_uplk_loss_latency.csv\n",
      "34/72 /home/wmnlab/E/database/2024-03-19/UDP_Bandlock_9S_Phone_BR/sm08/#01/data/handover_info_log.csv\n",
      "34/72 /home/wmnlab/E/database/2024-03-19/UDP_Bandlock_9S_Phone_BR/sm08/#01/data/udp_dnlk_loss_latency.csv\n",
      "34/72 /home/wmnlab/E/database/2024-03-19/UDP_Bandlock_9S_Phone_BR/sm08/#01/data/udp_uplk_loss_latency.csv\n"
     ]
    },
    {
     "data": {
      "application/vnd.jupyter.widget-view+json": {
       "model_id": "2a58805063a340d5b31cfcf24a018d8f",
       "version_major": 2,
       "version_minor": 0
      },
      "text/plain": [
       "  0%|                                                                                                         …"
      ]
     },
     "metadata": {},
     "output_type": "display_data"
    },
    {
     "name": "stdout",
     "output_type": "stream",
     "text": [
      "/home/wmnlab/E/results/20240323_0800028652_new_dataset/dr_results/20240324_1800086626_new_dataset/20240324_20594600000_162794466c8f8196/\\home\\wmnlab\\E\\database\\2024-03-19\\UDP_Bandlock_9S_Phone_BR\\sm06\\#01\\data\\udp_dnlk_loss_latency\\home\\wmnlab\\E\\database\\2024-03-19\\UDP_Bandlock_9S_Phone_BR\\sm08\\#01\\data\\udp_dnlk_loss_latency.csv\n",
      "35/72 /home/wmnlab/E/database/2024-03-19/UDP_Bandlock_9S_Phone_BR/sm07/#01/data/handover_info_log.csv\n",
      "35/72 /home/wmnlab/E/database/2024-03-19/UDP_Bandlock_9S_Phone_BR/sm07/#01/data/udp_dnlk_loss_latency.csv\n",
      "35/72 /home/wmnlab/E/database/2024-03-19/UDP_Bandlock_9S_Phone_BR/sm07/#01/data/udp_uplk_loss_latency.csv\n",
      "35/72 /home/wmnlab/E/database/2024-03-19/UDP_Bandlock_9S_Phone_BR/sm08/#01/data/handover_info_log.csv\n",
      "35/72 /home/wmnlab/E/database/2024-03-19/UDP_Bandlock_9S_Phone_BR/sm08/#01/data/udp_dnlk_loss_latency.csv\n",
      "35/72 /home/wmnlab/E/database/2024-03-19/UDP_Bandlock_9S_Phone_BR/sm08/#01/data/udp_uplk_loss_latency.csv\n"
     ]
    },
    {
     "data": {
      "application/vnd.jupyter.widget-view+json": {
       "model_id": "e6c76a98cc9b4458a04881bc38d466ad",
       "version_major": 2,
       "version_minor": 0
      },
      "text/plain": [
       "  0%|                                                                                                         …"
      ]
     },
     "metadata": {},
     "output_type": "display_data"
    },
    {
     "name": "stdout",
     "output_type": "stream",
     "text": [
      "/home/wmnlab/E/results/20240323_0800028652_new_dataset/dr_results/20240324_1800086626_new_dataset/20240324_20594600000_162794466c8f8196/\\home\\wmnlab\\E\\database\\2024-03-19\\UDP_Bandlock_9S_Phone_BR\\sm07\\#01\\data\\udp_dnlk_loss_latency\\home\\wmnlab\\E\\database\\2024-03-19\\UDP_Bandlock_9S_Phone_BR\\sm08\\#01\\data\\udp_dnlk_loss_latency.csv\n",
      "36/72 /home/wmnlab/E/database/2024-03-19/UDP_Bandlock_9S_Phone_BR/sm00/#02/data/handover_info_log.csv\n",
      "36/72 /home/wmnlab/E/database/2024-03-19/UDP_Bandlock_9S_Phone_BR/sm00/#02/data/udp_dnlk_loss_latency.csv\n",
      "36/72 /home/wmnlab/E/database/2024-03-19/UDP_Bandlock_9S_Phone_BR/sm00/#02/data/udp_uplk_loss_latency.csv\n",
      "36/72 /home/wmnlab/E/database/2024-03-19/UDP_Bandlock_9S_Phone_BR/sm01/#02/data/handover_info_log.csv\n",
      "36/72 /home/wmnlab/E/database/2024-03-19/UDP_Bandlock_9S_Phone_BR/sm01/#02/data/udp_dnlk_loss_latency.csv\n",
      "36/72 /home/wmnlab/E/database/2024-03-19/UDP_Bandlock_9S_Phone_BR/sm01/#02/data/udp_uplk_loss_latency.csv\n"
     ]
    },
    {
     "data": {
      "application/vnd.jupyter.widget-view+json": {
       "model_id": "1a608f90b1fe48a78d2cfb7c0b99d396",
       "version_major": 2,
       "version_minor": 0
      },
      "text/plain": [
       "  0%|                                                                                                         …"
      ]
     },
     "metadata": {},
     "output_type": "display_data"
    },
    {
     "name": "stdout",
     "output_type": "stream",
     "text": [
      "/home/wmnlab/E/results/20240323_0800028652_new_dataset/dr_results/20240324_1800086626_new_dataset/20240324_20594600000_162794466c8f8196/\\home\\wmnlab\\E\\database\\2024-03-19\\UDP_Bandlock_9S_Phone_BR\\sm00\\#02\\data\\udp_dnlk_loss_latency\\home\\wmnlab\\E\\database\\2024-03-19\\UDP_Bandlock_9S_Phone_BR\\sm01\\#02\\data\\udp_dnlk_loss_latency.csv\n",
      "37/72 /home/wmnlab/E/database/2024-03-19/UDP_Bandlock_9S_Phone_BR/sm00/#02/data/handover_info_log.csv\n",
      "37/72 /home/wmnlab/E/database/2024-03-19/UDP_Bandlock_9S_Phone_BR/sm00/#02/data/udp_dnlk_loss_latency.csv\n",
      "37/72 /home/wmnlab/E/database/2024-03-19/UDP_Bandlock_9S_Phone_BR/sm00/#02/data/udp_uplk_loss_latency.csv\n",
      "37/72 /home/wmnlab/E/database/2024-03-19/UDP_Bandlock_9S_Phone_BR/sm02/#02/data/handover_info_log.csv\n",
      "37/72 /home/wmnlab/E/database/2024-03-19/UDP_Bandlock_9S_Phone_BR/sm02/#02/data/udp_dnlk_loss_latency.csv\n",
      "37/72 /home/wmnlab/E/database/2024-03-19/UDP_Bandlock_9S_Phone_BR/sm02/#02/data/udp_uplk_loss_latency.csv\n"
     ]
    },
    {
     "data": {
      "application/vnd.jupyter.widget-view+json": {
       "model_id": "1ad4956f73cf454481404e65ae68e6b6",
       "version_major": 2,
       "version_minor": 0
      },
      "text/plain": [
       "  0%|                                                                                                         …"
      ]
     },
     "metadata": {},
     "output_type": "display_data"
    },
    {
     "name": "stdout",
     "output_type": "stream",
     "text": [
      "/home/wmnlab/E/results/20240323_0800028652_new_dataset/dr_results/20240324_1800086626_new_dataset/20240324_20594600000_162794466c8f8196/\\home\\wmnlab\\E\\database\\2024-03-19\\UDP_Bandlock_9S_Phone_BR\\sm00\\#02\\data\\udp_dnlk_loss_latency\\home\\wmnlab\\E\\database\\2024-03-19\\UDP_Bandlock_9S_Phone_BR\\sm02\\#02\\data\\udp_dnlk_loss_latency.csv\n",
      "38/72 /home/wmnlab/E/database/2024-03-19/UDP_Bandlock_9S_Phone_BR/sm00/#02/data/handover_info_log.csv\n",
      "38/72 /home/wmnlab/E/database/2024-03-19/UDP_Bandlock_9S_Phone_BR/sm00/#02/data/udp_dnlk_loss_latency.csv\n",
      "38/72 /home/wmnlab/E/database/2024-03-19/UDP_Bandlock_9S_Phone_BR/sm00/#02/data/udp_uplk_loss_latency.csv\n",
      "38/72 /home/wmnlab/E/database/2024-03-19/UDP_Bandlock_9S_Phone_BR/sm03/#02/data/handover_info_log.csv\n",
      "38/72 /home/wmnlab/E/database/2024-03-19/UDP_Bandlock_9S_Phone_BR/sm03/#02/data/udp_dnlk_loss_latency.csv\n",
      "38/72 /home/wmnlab/E/database/2024-03-19/UDP_Bandlock_9S_Phone_BR/sm03/#02/data/udp_uplk_loss_latency.csv\n"
     ]
    },
    {
     "data": {
      "application/vnd.jupyter.widget-view+json": {
       "model_id": "2a966a83e5d44498a879e9a7562ccddc",
       "version_major": 2,
       "version_minor": 0
      },
      "text/plain": [
       "  0%|                                                                                                         …"
      ]
     },
     "metadata": {},
     "output_type": "display_data"
    },
    {
     "name": "stdout",
     "output_type": "stream",
     "text": [
      "/home/wmnlab/E/results/20240323_0800028652_new_dataset/dr_results/20240324_1800086626_new_dataset/20240324_20594600000_162794466c8f8196/\\home\\wmnlab\\E\\database\\2024-03-19\\UDP_Bandlock_9S_Phone_BR\\sm00\\#02\\data\\udp_dnlk_loss_latency\\home\\wmnlab\\E\\database\\2024-03-19\\UDP_Bandlock_9S_Phone_BR\\sm03\\#02\\data\\udp_dnlk_loss_latency.csv\n",
      "39/72 /home/wmnlab/E/database/2024-03-19/UDP_Bandlock_9S_Phone_BR/sm00/#02/data/handover_info_log.csv\n",
      "39/72 /home/wmnlab/E/database/2024-03-19/UDP_Bandlock_9S_Phone_BR/sm00/#02/data/udp_dnlk_loss_latency.csv\n",
      "39/72 /home/wmnlab/E/database/2024-03-19/UDP_Bandlock_9S_Phone_BR/sm00/#02/data/udp_uplk_loss_latency.csv\n",
      "39/72 /home/wmnlab/E/database/2024-03-19/UDP_Bandlock_9S_Phone_BR/sm04/#02/data/handover_info_log.csv\n",
      "39/72 /home/wmnlab/E/database/2024-03-19/UDP_Bandlock_9S_Phone_BR/sm04/#02/data/udp_dnlk_loss_latency.csv\n",
      "39/72 /home/wmnlab/E/database/2024-03-19/UDP_Bandlock_9S_Phone_BR/sm04/#02/data/udp_uplk_loss_latency.csv\n"
     ]
    },
    {
     "data": {
      "application/vnd.jupyter.widget-view+json": {
       "model_id": "f02e6eba2d2b476e8902327ecd8b3380",
       "version_major": 2,
       "version_minor": 0
      },
      "text/plain": [
       "  0%|                                                                                                         …"
      ]
     },
     "metadata": {},
     "output_type": "display_data"
    },
    {
     "name": "stdout",
     "output_type": "stream",
     "text": [
      "/home/wmnlab/E/results/20240323_0800028652_new_dataset/dr_results/20240324_1800086626_new_dataset/20240324_20594600000_162794466c8f8196/\\home\\wmnlab\\E\\database\\2024-03-19\\UDP_Bandlock_9S_Phone_BR\\sm00\\#02\\data\\udp_dnlk_loss_latency\\home\\wmnlab\\E\\database\\2024-03-19\\UDP_Bandlock_9S_Phone_BR\\sm04\\#02\\data\\udp_dnlk_loss_latency.csv\n",
      "40/72 /home/wmnlab/E/database/2024-03-19/UDP_Bandlock_9S_Phone_BR/sm00/#02/data/handover_info_log.csv\n",
      "40/72 /home/wmnlab/E/database/2024-03-19/UDP_Bandlock_9S_Phone_BR/sm00/#02/data/udp_dnlk_loss_latency.csv\n",
      "40/72 /home/wmnlab/E/database/2024-03-19/UDP_Bandlock_9S_Phone_BR/sm00/#02/data/udp_uplk_loss_latency.csv\n",
      "40/72 /home/wmnlab/E/database/2024-03-19/UDP_Bandlock_9S_Phone_BR/sm05/#02/data/handover_info_log.csv\n",
      "40/72 /home/wmnlab/E/database/2024-03-19/UDP_Bandlock_9S_Phone_BR/sm05/#02/data/udp_dnlk_loss_latency.csv\n",
      "40/72 /home/wmnlab/E/database/2024-03-19/UDP_Bandlock_9S_Phone_BR/sm05/#02/data/udp_uplk_loss_latency.csv\n"
     ]
    },
    {
     "data": {
      "application/vnd.jupyter.widget-view+json": {
       "model_id": "27a098c9b5884dcfbcce6955ab07e04e",
       "version_major": 2,
       "version_minor": 0
      },
      "text/plain": [
       "  0%|                                                                                                         …"
      ]
     },
     "metadata": {},
     "output_type": "display_data"
    },
    {
     "name": "stdout",
     "output_type": "stream",
     "text": [
      "/home/wmnlab/E/results/20240323_0800028652_new_dataset/dr_results/20240324_1800086626_new_dataset/20240324_20594600000_162794466c8f8196/\\home\\wmnlab\\E\\database\\2024-03-19\\UDP_Bandlock_9S_Phone_BR\\sm00\\#02\\data\\udp_dnlk_loss_latency\\home\\wmnlab\\E\\database\\2024-03-19\\UDP_Bandlock_9S_Phone_BR\\sm05\\#02\\data\\udp_dnlk_loss_latency.csv\n",
      "41/72 /home/wmnlab/E/database/2024-03-19/UDP_Bandlock_9S_Phone_BR/sm00/#02/data/handover_info_log.csv\n",
      "41/72 /home/wmnlab/E/database/2024-03-19/UDP_Bandlock_9S_Phone_BR/sm00/#02/data/udp_dnlk_loss_latency.csv\n",
      "41/72 /home/wmnlab/E/database/2024-03-19/UDP_Bandlock_9S_Phone_BR/sm00/#02/data/udp_uplk_loss_latency.csv\n",
      "41/72 /home/wmnlab/E/database/2024-03-19/UDP_Bandlock_9S_Phone_BR/sm06/#02/data/handover_info_log.csv\n",
      "41/72 /home/wmnlab/E/database/2024-03-19/UDP_Bandlock_9S_Phone_BR/sm06/#02/data/udp_dnlk_loss_latency.csv\n",
      "41/72 /home/wmnlab/E/database/2024-03-19/UDP_Bandlock_9S_Phone_BR/sm06/#02/data/udp_uplk_loss_latency.csv\n"
     ]
    },
    {
     "data": {
      "application/vnd.jupyter.widget-view+json": {
       "model_id": "1ba09c4b6cda4c438270128bcc4ef212",
       "version_major": 2,
       "version_minor": 0
      },
      "text/plain": [
       "  0%|                                                                                                         …"
      ]
     },
     "metadata": {},
     "output_type": "display_data"
    },
    {
     "name": "stdout",
     "output_type": "stream",
     "text": [
      "/home/wmnlab/E/results/20240323_0800028652_new_dataset/dr_results/20240324_1800086626_new_dataset/20240324_20594600000_162794466c8f8196/\\home\\wmnlab\\E\\database\\2024-03-19\\UDP_Bandlock_9S_Phone_BR\\sm00\\#02\\data\\udp_dnlk_loss_latency\\home\\wmnlab\\E\\database\\2024-03-19\\UDP_Bandlock_9S_Phone_BR\\sm06\\#02\\data\\udp_dnlk_loss_latency.csv\n",
      "42/72 /home/wmnlab/E/database/2024-03-19/UDP_Bandlock_9S_Phone_BR/sm00/#02/data/handover_info_log.csv\n",
      "42/72 /home/wmnlab/E/database/2024-03-19/UDP_Bandlock_9S_Phone_BR/sm00/#02/data/udp_dnlk_loss_latency.csv\n",
      "42/72 /home/wmnlab/E/database/2024-03-19/UDP_Bandlock_9S_Phone_BR/sm00/#02/data/udp_uplk_loss_latency.csv\n",
      "42/72 /home/wmnlab/E/database/2024-03-19/UDP_Bandlock_9S_Phone_BR/sm07/#02/data/handover_info_log.csv\n",
      "42/72 /home/wmnlab/E/database/2024-03-19/UDP_Bandlock_9S_Phone_BR/sm07/#02/data/udp_dnlk_loss_latency.csv\n",
      "42/72 /home/wmnlab/E/database/2024-03-19/UDP_Bandlock_9S_Phone_BR/sm07/#02/data/udp_uplk_loss_latency.csv\n"
     ]
    },
    {
     "data": {
      "application/vnd.jupyter.widget-view+json": {
       "model_id": "66bc0c26578842feb9c3a053257f9d59",
       "version_major": 2,
       "version_minor": 0
      },
      "text/plain": [
       "  0%|                                                                                                         …"
      ]
     },
     "metadata": {},
     "output_type": "display_data"
    },
    {
     "name": "stdout",
     "output_type": "stream",
     "text": [
      "/home/wmnlab/E/results/20240323_0800028652_new_dataset/dr_results/20240324_1800086626_new_dataset/20240324_20594600000_162794466c8f8196/\\home\\wmnlab\\E\\database\\2024-03-19\\UDP_Bandlock_9S_Phone_BR\\sm00\\#02\\data\\udp_dnlk_loss_latency\\home\\wmnlab\\E\\database\\2024-03-19\\UDP_Bandlock_9S_Phone_BR\\sm07\\#02\\data\\udp_dnlk_loss_latency.csv\n",
      "43/72 /home/wmnlab/E/database/2024-03-19/UDP_Bandlock_9S_Phone_BR/sm00/#02/data/handover_info_log.csv\n",
      "43/72 /home/wmnlab/E/database/2024-03-19/UDP_Bandlock_9S_Phone_BR/sm00/#02/data/udp_dnlk_loss_latency.csv\n",
      "43/72 /home/wmnlab/E/database/2024-03-19/UDP_Bandlock_9S_Phone_BR/sm00/#02/data/udp_uplk_loss_latency.csv\n",
      "43/72 /home/wmnlab/E/database/2024-03-19/UDP_Bandlock_9S_Phone_BR/sm08/#02/data/handover_info_log.csv\n",
      "43/72 /home/wmnlab/E/database/2024-03-19/UDP_Bandlock_9S_Phone_BR/sm08/#02/data/udp_dnlk_loss_latency.csv\n",
      "43/72 /home/wmnlab/E/database/2024-03-19/UDP_Bandlock_9S_Phone_BR/sm08/#02/data/udp_uplk_loss_latency.csv\n"
     ]
    },
    {
     "data": {
      "application/vnd.jupyter.widget-view+json": {
       "model_id": "c426f08d7b104c22a9daa732a46bf6e8",
       "version_major": 2,
       "version_minor": 0
      },
      "text/plain": [
       "  0%|                                                                                                         …"
      ]
     },
     "metadata": {},
     "output_type": "display_data"
    },
    {
     "name": "stdout",
     "output_type": "stream",
     "text": [
      "/home/wmnlab/E/results/20240323_0800028652_new_dataset/dr_results/20240324_1800086626_new_dataset/20240324_20594600000_162794466c8f8196/\\home\\wmnlab\\E\\database\\2024-03-19\\UDP_Bandlock_9S_Phone_BR\\sm00\\#02\\data\\udp_dnlk_loss_latency\\home\\wmnlab\\E\\database\\2024-03-19\\UDP_Bandlock_9S_Phone_BR\\sm08\\#02\\data\\udp_dnlk_loss_latency.csv\n",
      "44/72 /home/wmnlab/E/database/2024-03-19/UDP_Bandlock_9S_Phone_BR/sm01/#02/data/handover_info_log.csv\n",
      "44/72 /home/wmnlab/E/database/2024-03-19/UDP_Bandlock_9S_Phone_BR/sm01/#02/data/udp_dnlk_loss_latency.csv\n",
      "44/72 /home/wmnlab/E/database/2024-03-19/UDP_Bandlock_9S_Phone_BR/sm01/#02/data/udp_uplk_loss_latency.csv\n",
      "44/72 /home/wmnlab/E/database/2024-03-19/UDP_Bandlock_9S_Phone_BR/sm02/#02/data/handover_info_log.csv\n",
      "44/72 /home/wmnlab/E/database/2024-03-19/UDP_Bandlock_9S_Phone_BR/sm02/#02/data/udp_dnlk_loss_latency.csv\n",
      "44/72 /home/wmnlab/E/database/2024-03-19/UDP_Bandlock_9S_Phone_BR/sm02/#02/data/udp_uplk_loss_latency.csv\n"
     ]
    },
    {
     "data": {
      "application/vnd.jupyter.widget-view+json": {
       "model_id": "f3f24dad004a4beab4455111da06c132",
       "version_major": 2,
       "version_minor": 0
      },
      "text/plain": [
       "  0%|                                                                                                         …"
      ]
     },
     "metadata": {},
     "output_type": "display_data"
    },
    {
     "name": "stdout",
     "output_type": "stream",
     "text": [
      "/home/wmnlab/E/results/20240323_0800028652_new_dataset/dr_results/20240324_1800086626_new_dataset/20240324_20594600000_162794466c8f8196/\\home\\wmnlab\\E\\database\\2024-03-19\\UDP_Bandlock_9S_Phone_BR\\sm01\\#02\\data\\udp_dnlk_loss_latency\\home\\wmnlab\\E\\database\\2024-03-19\\UDP_Bandlock_9S_Phone_BR\\sm02\\#02\\data\\udp_dnlk_loss_latency.csv\n",
      "45/72 /home/wmnlab/E/database/2024-03-19/UDP_Bandlock_9S_Phone_BR/sm01/#02/data/handover_info_log.csv\n",
      "45/72 /home/wmnlab/E/database/2024-03-19/UDP_Bandlock_9S_Phone_BR/sm01/#02/data/udp_dnlk_loss_latency.csv\n",
      "45/72 /home/wmnlab/E/database/2024-03-19/UDP_Bandlock_9S_Phone_BR/sm01/#02/data/udp_uplk_loss_latency.csv\n",
      "45/72 /home/wmnlab/E/database/2024-03-19/UDP_Bandlock_9S_Phone_BR/sm03/#02/data/handover_info_log.csv\n",
      "45/72 /home/wmnlab/E/database/2024-03-19/UDP_Bandlock_9S_Phone_BR/sm03/#02/data/udp_dnlk_loss_latency.csv\n",
      "45/72 /home/wmnlab/E/database/2024-03-19/UDP_Bandlock_9S_Phone_BR/sm03/#02/data/udp_uplk_loss_latency.csv\n"
     ]
    },
    {
     "data": {
      "application/vnd.jupyter.widget-view+json": {
       "model_id": "4213fce997154f509d24cc6f76abd2c4",
       "version_major": 2,
       "version_minor": 0
      },
      "text/plain": [
       "  0%|                                                                                                         …"
      ]
     },
     "metadata": {},
     "output_type": "display_data"
    },
    {
     "name": "stdout",
     "output_type": "stream",
     "text": [
      "/home/wmnlab/E/results/20240323_0800028652_new_dataset/dr_results/20240324_1800086626_new_dataset/20240324_20594600000_162794466c8f8196/\\home\\wmnlab\\E\\database\\2024-03-19\\UDP_Bandlock_9S_Phone_BR\\sm01\\#02\\data\\udp_dnlk_loss_latency\\home\\wmnlab\\E\\database\\2024-03-19\\UDP_Bandlock_9S_Phone_BR\\sm03\\#02\\data\\udp_dnlk_loss_latency.csv\n",
      "46/72 /home/wmnlab/E/database/2024-03-19/UDP_Bandlock_9S_Phone_BR/sm01/#02/data/handover_info_log.csv\n",
      "46/72 /home/wmnlab/E/database/2024-03-19/UDP_Bandlock_9S_Phone_BR/sm01/#02/data/udp_dnlk_loss_latency.csv\n",
      "46/72 /home/wmnlab/E/database/2024-03-19/UDP_Bandlock_9S_Phone_BR/sm01/#02/data/udp_uplk_loss_latency.csv\n",
      "46/72 /home/wmnlab/E/database/2024-03-19/UDP_Bandlock_9S_Phone_BR/sm04/#02/data/handover_info_log.csv\n",
      "46/72 /home/wmnlab/E/database/2024-03-19/UDP_Bandlock_9S_Phone_BR/sm04/#02/data/udp_dnlk_loss_latency.csv\n",
      "46/72 /home/wmnlab/E/database/2024-03-19/UDP_Bandlock_9S_Phone_BR/sm04/#02/data/udp_uplk_loss_latency.csv\n"
     ]
    },
    {
     "data": {
      "application/vnd.jupyter.widget-view+json": {
       "model_id": "2e9afec1f2524c1ba549a2b522f4ff33",
       "version_major": 2,
       "version_minor": 0
      },
      "text/plain": [
       "  0%|                                                                                                         …"
      ]
     },
     "metadata": {},
     "output_type": "display_data"
    },
    {
     "name": "stdout",
     "output_type": "stream",
     "text": [
      "/home/wmnlab/E/results/20240323_0800028652_new_dataset/dr_results/20240324_1800086626_new_dataset/20240324_20594600000_162794466c8f8196/\\home\\wmnlab\\E\\database\\2024-03-19\\UDP_Bandlock_9S_Phone_BR\\sm01\\#02\\data\\udp_dnlk_loss_latency\\home\\wmnlab\\E\\database\\2024-03-19\\UDP_Bandlock_9S_Phone_BR\\sm04\\#02\\data\\udp_dnlk_loss_latency.csv\n",
      "47/72 /home/wmnlab/E/database/2024-03-19/UDP_Bandlock_9S_Phone_BR/sm01/#02/data/handover_info_log.csv\n",
      "47/72 /home/wmnlab/E/database/2024-03-19/UDP_Bandlock_9S_Phone_BR/sm01/#02/data/udp_dnlk_loss_latency.csv\n",
      "47/72 /home/wmnlab/E/database/2024-03-19/UDP_Bandlock_9S_Phone_BR/sm01/#02/data/udp_uplk_loss_latency.csv\n",
      "47/72 /home/wmnlab/E/database/2024-03-19/UDP_Bandlock_9S_Phone_BR/sm05/#02/data/handover_info_log.csv\n",
      "47/72 /home/wmnlab/E/database/2024-03-19/UDP_Bandlock_9S_Phone_BR/sm05/#02/data/udp_dnlk_loss_latency.csv\n",
      "47/72 /home/wmnlab/E/database/2024-03-19/UDP_Bandlock_9S_Phone_BR/sm05/#02/data/udp_uplk_loss_latency.csv\n"
     ]
    },
    {
     "data": {
      "application/vnd.jupyter.widget-view+json": {
       "model_id": "df3057d074104aef8863106dedd175f5",
       "version_major": 2,
       "version_minor": 0
      },
      "text/plain": [
       "  0%|                                                                                                         …"
      ]
     },
     "metadata": {},
     "output_type": "display_data"
    },
    {
     "name": "stdout",
     "output_type": "stream",
     "text": [
      "/home/wmnlab/E/results/20240323_0800028652_new_dataset/dr_results/20240324_1800086626_new_dataset/20240324_20594600000_162794466c8f8196/\\home\\wmnlab\\E\\database\\2024-03-19\\UDP_Bandlock_9S_Phone_BR\\sm01\\#02\\data\\udp_dnlk_loss_latency\\home\\wmnlab\\E\\database\\2024-03-19\\UDP_Bandlock_9S_Phone_BR\\sm05\\#02\\data\\udp_dnlk_loss_latency.csv\n",
      "48/72 /home/wmnlab/E/database/2024-03-19/UDP_Bandlock_9S_Phone_BR/sm01/#02/data/handover_info_log.csv\n",
      "48/72 /home/wmnlab/E/database/2024-03-19/UDP_Bandlock_9S_Phone_BR/sm01/#02/data/udp_dnlk_loss_latency.csv\n",
      "48/72 /home/wmnlab/E/database/2024-03-19/UDP_Bandlock_9S_Phone_BR/sm01/#02/data/udp_uplk_loss_latency.csv\n",
      "48/72 /home/wmnlab/E/database/2024-03-19/UDP_Bandlock_9S_Phone_BR/sm06/#02/data/handover_info_log.csv\n",
      "48/72 /home/wmnlab/E/database/2024-03-19/UDP_Bandlock_9S_Phone_BR/sm06/#02/data/udp_dnlk_loss_latency.csv\n",
      "48/72 /home/wmnlab/E/database/2024-03-19/UDP_Bandlock_9S_Phone_BR/sm06/#02/data/udp_uplk_loss_latency.csv\n"
     ]
    },
    {
     "data": {
      "application/vnd.jupyter.widget-view+json": {
       "model_id": "a6a4aa21507e44c9bccefcaee0a662ae",
       "version_major": 2,
       "version_minor": 0
      },
      "text/plain": [
       "  0%|                                                                                                         …"
      ]
     },
     "metadata": {},
     "output_type": "display_data"
    },
    {
     "name": "stdout",
     "output_type": "stream",
     "text": [
      "/home/wmnlab/E/results/20240323_0800028652_new_dataset/dr_results/20240324_1800086626_new_dataset/20240324_20594600000_162794466c8f8196/\\home\\wmnlab\\E\\database\\2024-03-19\\UDP_Bandlock_9S_Phone_BR\\sm01\\#02\\data\\udp_dnlk_loss_latency\\home\\wmnlab\\E\\database\\2024-03-19\\UDP_Bandlock_9S_Phone_BR\\sm06\\#02\\data\\udp_dnlk_loss_latency.csv\n",
      "49/72 /home/wmnlab/E/database/2024-03-19/UDP_Bandlock_9S_Phone_BR/sm01/#02/data/handover_info_log.csv\n",
      "49/72 /home/wmnlab/E/database/2024-03-19/UDP_Bandlock_9S_Phone_BR/sm01/#02/data/udp_dnlk_loss_latency.csv\n",
      "49/72 /home/wmnlab/E/database/2024-03-19/UDP_Bandlock_9S_Phone_BR/sm01/#02/data/udp_uplk_loss_latency.csv\n",
      "49/72 /home/wmnlab/E/database/2024-03-19/UDP_Bandlock_9S_Phone_BR/sm07/#02/data/handover_info_log.csv\n",
      "49/72 /home/wmnlab/E/database/2024-03-19/UDP_Bandlock_9S_Phone_BR/sm07/#02/data/udp_dnlk_loss_latency.csv\n",
      "49/72 /home/wmnlab/E/database/2024-03-19/UDP_Bandlock_9S_Phone_BR/sm07/#02/data/udp_uplk_loss_latency.csv\n"
     ]
    },
    {
     "data": {
      "application/vnd.jupyter.widget-view+json": {
       "model_id": "a7bed798c62b4404a2ad4f82c65454b3",
       "version_major": 2,
       "version_minor": 0
      },
      "text/plain": [
       "  0%|                                                                                                         …"
      ]
     },
     "metadata": {},
     "output_type": "display_data"
    },
    {
     "name": "stdout",
     "output_type": "stream",
     "text": [
      "/home/wmnlab/E/results/20240323_0800028652_new_dataset/dr_results/20240324_1800086626_new_dataset/20240324_20594600000_162794466c8f8196/\\home\\wmnlab\\E\\database\\2024-03-19\\UDP_Bandlock_9S_Phone_BR\\sm01\\#02\\data\\udp_dnlk_loss_latency\\home\\wmnlab\\E\\database\\2024-03-19\\UDP_Bandlock_9S_Phone_BR\\sm07\\#02\\data\\udp_dnlk_loss_latency.csv\n",
      "50/72 /home/wmnlab/E/database/2024-03-19/UDP_Bandlock_9S_Phone_BR/sm01/#02/data/handover_info_log.csv\n",
      "50/72 /home/wmnlab/E/database/2024-03-19/UDP_Bandlock_9S_Phone_BR/sm01/#02/data/udp_dnlk_loss_latency.csv\n",
      "50/72 /home/wmnlab/E/database/2024-03-19/UDP_Bandlock_9S_Phone_BR/sm01/#02/data/udp_uplk_loss_latency.csv\n",
      "50/72 /home/wmnlab/E/database/2024-03-19/UDP_Bandlock_9S_Phone_BR/sm08/#02/data/handover_info_log.csv\n",
      "50/72 /home/wmnlab/E/database/2024-03-19/UDP_Bandlock_9S_Phone_BR/sm08/#02/data/udp_dnlk_loss_latency.csv\n",
      "50/72 /home/wmnlab/E/database/2024-03-19/UDP_Bandlock_9S_Phone_BR/sm08/#02/data/udp_uplk_loss_latency.csv\n"
     ]
    },
    {
     "data": {
      "application/vnd.jupyter.widget-view+json": {
       "model_id": "50b02e2141e547a58d46b78a53485ec0",
       "version_major": 2,
       "version_minor": 0
      },
      "text/plain": [
       "  0%|                                                                                                         …"
      ]
     },
     "metadata": {},
     "output_type": "display_data"
    },
    {
     "name": "stdout",
     "output_type": "stream",
     "text": [
      "/home/wmnlab/E/results/20240323_0800028652_new_dataset/dr_results/20240324_1800086626_new_dataset/20240324_20594600000_162794466c8f8196/\\home\\wmnlab\\E\\database\\2024-03-19\\UDP_Bandlock_9S_Phone_BR\\sm01\\#02\\data\\udp_dnlk_loss_latency\\home\\wmnlab\\E\\database\\2024-03-19\\UDP_Bandlock_9S_Phone_BR\\sm08\\#02\\data\\udp_dnlk_loss_latency.csv\n",
      "51/72 /home/wmnlab/E/database/2024-03-19/UDP_Bandlock_9S_Phone_BR/sm02/#02/data/handover_info_log.csv\n",
      "51/72 /home/wmnlab/E/database/2024-03-19/UDP_Bandlock_9S_Phone_BR/sm02/#02/data/udp_dnlk_loss_latency.csv\n",
      "51/72 /home/wmnlab/E/database/2024-03-19/UDP_Bandlock_9S_Phone_BR/sm02/#02/data/udp_uplk_loss_latency.csv\n",
      "51/72 /home/wmnlab/E/database/2024-03-19/UDP_Bandlock_9S_Phone_BR/sm03/#02/data/handover_info_log.csv\n",
      "51/72 /home/wmnlab/E/database/2024-03-19/UDP_Bandlock_9S_Phone_BR/sm03/#02/data/udp_dnlk_loss_latency.csv\n",
      "51/72 /home/wmnlab/E/database/2024-03-19/UDP_Bandlock_9S_Phone_BR/sm03/#02/data/udp_uplk_loss_latency.csv\n"
     ]
    },
    {
     "data": {
      "application/vnd.jupyter.widget-view+json": {
       "model_id": "1c98842be12945d6aea4c0a97dcddf1f",
       "version_major": 2,
       "version_minor": 0
      },
      "text/plain": [
       "  0%|                                                                                                         …"
      ]
     },
     "metadata": {},
     "output_type": "display_data"
    },
    {
     "name": "stdout",
     "output_type": "stream",
     "text": [
      "/home/wmnlab/E/results/20240323_0800028652_new_dataset/dr_results/20240324_1800086626_new_dataset/20240324_20594600000_162794466c8f8196/\\home\\wmnlab\\E\\database\\2024-03-19\\UDP_Bandlock_9S_Phone_BR\\sm02\\#02\\data\\udp_dnlk_loss_latency\\home\\wmnlab\\E\\database\\2024-03-19\\UDP_Bandlock_9S_Phone_BR\\sm03\\#02\\data\\udp_dnlk_loss_latency.csv\n",
      "52/72 /home/wmnlab/E/database/2024-03-19/UDP_Bandlock_9S_Phone_BR/sm02/#02/data/handover_info_log.csv\n",
      "52/72 /home/wmnlab/E/database/2024-03-19/UDP_Bandlock_9S_Phone_BR/sm02/#02/data/udp_dnlk_loss_latency.csv\n",
      "52/72 /home/wmnlab/E/database/2024-03-19/UDP_Bandlock_9S_Phone_BR/sm02/#02/data/udp_uplk_loss_latency.csv\n",
      "52/72 /home/wmnlab/E/database/2024-03-19/UDP_Bandlock_9S_Phone_BR/sm04/#02/data/handover_info_log.csv\n",
      "52/72 /home/wmnlab/E/database/2024-03-19/UDP_Bandlock_9S_Phone_BR/sm04/#02/data/udp_dnlk_loss_latency.csv\n",
      "52/72 /home/wmnlab/E/database/2024-03-19/UDP_Bandlock_9S_Phone_BR/sm04/#02/data/udp_uplk_loss_latency.csv\n"
     ]
    },
    {
     "data": {
      "application/vnd.jupyter.widget-view+json": {
       "model_id": "3a3fe6f402934413a819aad751dfa855",
       "version_major": 2,
       "version_minor": 0
      },
      "text/plain": [
       "  0%|                                                                                                         …"
      ]
     },
     "metadata": {},
     "output_type": "display_data"
    },
    {
     "name": "stdout",
     "output_type": "stream",
     "text": [
      "/home/wmnlab/E/results/20240323_0800028652_new_dataset/dr_results/20240324_1800086626_new_dataset/20240324_20594600000_162794466c8f8196/\\home\\wmnlab\\E\\database\\2024-03-19\\UDP_Bandlock_9S_Phone_BR\\sm02\\#02\\data\\udp_dnlk_loss_latency\\home\\wmnlab\\E\\database\\2024-03-19\\UDP_Bandlock_9S_Phone_BR\\sm04\\#02\\data\\udp_dnlk_loss_latency.csv\n",
      "53/72 /home/wmnlab/E/database/2024-03-19/UDP_Bandlock_9S_Phone_BR/sm02/#02/data/handover_info_log.csv\n",
      "53/72 /home/wmnlab/E/database/2024-03-19/UDP_Bandlock_9S_Phone_BR/sm02/#02/data/udp_dnlk_loss_latency.csv\n",
      "53/72 /home/wmnlab/E/database/2024-03-19/UDP_Bandlock_9S_Phone_BR/sm02/#02/data/udp_uplk_loss_latency.csv\n",
      "53/72 /home/wmnlab/E/database/2024-03-19/UDP_Bandlock_9S_Phone_BR/sm05/#02/data/handover_info_log.csv\n",
      "53/72 /home/wmnlab/E/database/2024-03-19/UDP_Bandlock_9S_Phone_BR/sm05/#02/data/udp_dnlk_loss_latency.csv\n",
      "53/72 /home/wmnlab/E/database/2024-03-19/UDP_Bandlock_9S_Phone_BR/sm05/#02/data/udp_uplk_loss_latency.csv\n"
     ]
    },
    {
     "data": {
      "application/vnd.jupyter.widget-view+json": {
       "model_id": "764360d438e446309923053259bdac6e",
       "version_major": 2,
       "version_minor": 0
      },
      "text/plain": [
       "  0%|                                                                                                         …"
      ]
     },
     "metadata": {},
     "output_type": "display_data"
    },
    {
     "name": "stdout",
     "output_type": "stream",
     "text": [
      "/home/wmnlab/E/results/20240323_0800028652_new_dataset/dr_results/20240324_1800086626_new_dataset/20240324_20594600000_162794466c8f8196/\\home\\wmnlab\\E\\database\\2024-03-19\\UDP_Bandlock_9S_Phone_BR\\sm02\\#02\\data\\udp_dnlk_loss_latency\\home\\wmnlab\\E\\database\\2024-03-19\\UDP_Bandlock_9S_Phone_BR\\sm05\\#02\\data\\udp_dnlk_loss_latency.csv\n",
      "54/72 /home/wmnlab/E/database/2024-03-19/UDP_Bandlock_9S_Phone_BR/sm02/#02/data/handover_info_log.csv\n",
      "54/72 /home/wmnlab/E/database/2024-03-19/UDP_Bandlock_9S_Phone_BR/sm02/#02/data/udp_dnlk_loss_latency.csv\n",
      "54/72 /home/wmnlab/E/database/2024-03-19/UDP_Bandlock_9S_Phone_BR/sm02/#02/data/udp_uplk_loss_latency.csv\n",
      "54/72 /home/wmnlab/E/database/2024-03-19/UDP_Bandlock_9S_Phone_BR/sm06/#02/data/handover_info_log.csv\n",
      "54/72 /home/wmnlab/E/database/2024-03-19/UDP_Bandlock_9S_Phone_BR/sm06/#02/data/udp_dnlk_loss_latency.csv\n",
      "54/72 /home/wmnlab/E/database/2024-03-19/UDP_Bandlock_9S_Phone_BR/sm06/#02/data/udp_uplk_loss_latency.csv\n"
     ]
    },
    {
     "data": {
      "application/vnd.jupyter.widget-view+json": {
       "model_id": "7524d912b6304b1ea5c1f3326fddfe2d",
       "version_major": 2,
       "version_minor": 0
      },
      "text/plain": [
       "  0%|                                                                                                         …"
      ]
     },
     "metadata": {},
     "output_type": "display_data"
    },
    {
     "name": "stdout",
     "output_type": "stream",
     "text": [
      "/home/wmnlab/E/results/20240323_0800028652_new_dataset/dr_results/20240324_1800086626_new_dataset/20240324_20594600000_162794466c8f8196/\\home\\wmnlab\\E\\database\\2024-03-19\\UDP_Bandlock_9S_Phone_BR\\sm02\\#02\\data\\udp_dnlk_loss_latency\\home\\wmnlab\\E\\database\\2024-03-19\\UDP_Bandlock_9S_Phone_BR\\sm06\\#02\\data\\udp_dnlk_loss_latency.csv\n",
      "55/72 /home/wmnlab/E/database/2024-03-19/UDP_Bandlock_9S_Phone_BR/sm02/#02/data/handover_info_log.csv\n",
      "55/72 /home/wmnlab/E/database/2024-03-19/UDP_Bandlock_9S_Phone_BR/sm02/#02/data/udp_dnlk_loss_latency.csv\n",
      "55/72 /home/wmnlab/E/database/2024-03-19/UDP_Bandlock_9S_Phone_BR/sm02/#02/data/udp_uplk_loss_latency.csv\n",
      "55/72 /home/wmnlab/E/database/2024-03-19/UDP_Bandlock_9S_Phone_BR/sm07/#02/data/handover_info_log.csv\n",
      "55/72 /home/wmnlab/E/database/2024-03-19/UDP_Bandlock_9S_Phone_BR/sm07/#02/data/udp_dnlk_loss_latency.csv\n",
      "55/72 /home/wmnlab/E/database/2024-03-19/UDP_Bandlock_9S_Phone_BR/sm07/#02/data/udp_uplk_loss_latency.csv\n"
     ]
    },
    {
     "data": {
      "application/vnd.jupyter.widget-view+json": {
       "model_id": "a9f4ed1b4fd9495a98c5b79e3853defd",
       "version_major": 2,
       "version_minor": 0
      },
      "text/plain": [
       "  0%|                                                                                                         …"
      ]
     },
     "metadata": {},
     "output_type": "display_data"
    },
    {
     "name": "stdout",
     "output_type": "stream",
     "text": [
      "/home/wmnlab/E/results/20240323_0800028652_new_dataset/dr_results/20240324_1800086626_new_dataset/20240324_20594600000_162794466c8f8196/\\home\\wmnlab\\E\\database\\2024-03-19\\UDP_Bandlock_9S_Phone_BR\\sm02\\#02\\data\\udp_dnlk_loss_latency\\home\\wmnlab\\E\\database\\2024-03-19\\UDP_Bandlock_9S_Phone_BR\\sm07\\#02\\data\\udp_dnlk_loss_latency.csv\n",
      "56/72 /home/wmnlab/E/database/2024-03-19/UDP_Bandlock_9S_Phone_BR/sm02/#02/data/handover_info_log.csv\n",
      "56/72 /home/wmnlab/E/database/2024-03-19/UDP_Bandlock_9S_Phone_BR/sm02/#02/data/udp_dnlk_loss_latency.csv\n",
      "56/72 /home/wmnlab/E/database/2024-03-19/UDP_Bandlock_9S_Phone_BR/sm02/#02/data/udp_uplk_loss_latency.csv\n",
      "56/72 /home/wmnlab/E/database/2024-03-19/UDP_Bandlock_9S_Phone_BR/sm08/#02/data/handover_info_log.csv\n",
      "56/72 /home/wmnlab/E/database/2024-03-19/UDP_Bandlock_9S_Phone_BR/sm08/#02/data/udp_dnlk_loss_latency.csv\n",
      "56/72 /home/wmnlab/E/database/2024-03-19/UDP_Bandlock_9S_Phone_BR/sm08/#02/data/udp_uplk_loss_latency.csv\n"
     ]
    },
    {
     "data": {
      "application/vnd.jupyter.widget-view+json": {
       "model_id": "6551b590ce2140e1a1c8d7e4f5418544",
       "version_major": 2,
       "version_minor": 0
      },
      "text/plain": [
       "  0%|                                                                                                         …"
      ]
     },
     "metadata": {},
     "output_type": "display_data"
    },
    {
     "name": "stdout",
     "output_type": "stream",
     "text": [
      "/home/wmnlab/E/results/20240323_0800028652_new_dataset/dr_results/20240324_1800086626_new_dataset/20240324_20594600000_162794466c8f8196/\\home\\wmnlab\\E\\database\\2024-03-19\\UDP_Bandlock_9S_Phone_BR\\sm02\\#02\\data\\udp_dnlk_loss_latency\\home\\wmnlab\\E\\database\\2024-03-19\\UDP_Bandlock_9S_Phone_BR\\sm08\\#02\\data\\udp_dnlk_loss_latency.csv\n",
      "57/72 /home/wmnlab/E/database/2024-03-19/UDP_Bandlock_9S_Phone_BR/sm03/#02/data/handover_info_log.csv\n",
      "57/72 /home/wmnlab/E/database/2024-03-19/UDP_Bandlock_9S_Phone_BR/sm03/#02/data/udp_dnlk_loss_latency.csv\n",
      "57/72 /home/wmnlab/E/database/2024-03-19/UDP_Bandlock_9S_Phone_BR/sm03/#02/data/udp_uplk_loss_latency.csv\n",
      "57/72 /home/wmnlab/E/database/2024-03-19/UDP_Bandlock_9S_Phone_BR/sm04/#02/data/handover_info_log.csv\n",
      "57/72 /home/wmnlab/E/database/2024-03-19/UDP_Bandlock_9S_Phone_BR/sm04/#02/data/udp_dnlk_loss_latency.csv\n",
      "57/72 /home/wmnlab/E/database/2024-03-19/UDP_Bandlock_9S_Phone_BR/sm04/#02/data/udp_uplk_loss_latency.csv\n"
     ]
    },
    {
     "data": {
      "application/vnd.jupyter.widget-view+json": {
       "model_id": "8c93d90243f9432eb5b347c90040a073",
       "version_major": 2,
       "version_minor": 0
      },
      "text/plain": [
       "  0%|                                                                                                         …"
      ]
     },
     "metadata": {},
     "output_type": "display_data"
    },
    {
     "name": "stdout",
     "output_type": "stream",
     "text": [
      "/home/wmnlab/E/results/20240323_0800028652_new_dataset/dr_results/20240324_1800086626_new_dataset/20240324_20594600000_162794466c8f8196/\\home\\wmnlab\\E\\database\\2024-03-19\\UDP_Bandlock_9S_Phone_BR\\sm03\\#02\\data\\udp_dnlk_loss_latency\\home\\wmnlab\\E\\database\\2024-03-19\\UDP_Bandlock_9S_Phone_BR\\sm04\\#02\\data\\udp_dnlk_loss_latency.csv\n",
      "58/72 /home/wmnlab/E/database/2024-03-19/UDP_Bandlock_9S_Phone_BR/sm03/#02/data/handover_info_log.csv\n",
      "58/72 /home/wmnlab/E/database/2024-03-19/UDP_Bandlock_9S_Phone_BR/sm03/#02/data/udp_dnlk_loss_latency.csv\n",
      "58/72 /home/wmnlab/E/database/2024-03-19/UDP_Bandlock_9S_Phone_BR/sm03/#02/data/udp_uplk_loss_latency.csv\n",
      "58/72 /home/wmnlab/E/database/2024-03-19/UDP_Bandlock_9S_Phone_BR/sm05/#02/data/handover_info_log.csv\n",
      "58/72 /home/wmnlab/E/database/2024-03-19/UDP_Bandlock_9S_Phone_BR/sm05/#02/data/udp_dnlk_loss_latency.csv\n",
      "58/72 /home/wmnlab/E/database/2024-03-19/UDP_Bandlock_9S_Phone_BR/sm05/#02/data/udp_uplk_loss_latency.csv\n"
     ]
    },
    {
     "data": {
      "application/vnd.jupyter.widget-view+json": {
       "model_id": "3d4567c431344b02b190b833d9c71c75",
       "version_major": 2,
       "version_minor": 0
      },
      "text/plain": [
       "  0%|                                                                                                         …"
      ]
     },
     "metadata": {},
     "output_type": "display_data"
    },
    {
     "name": "stdout",
     "output_type": "stream",
     "text": [
      "/home/wmnlab/E/results/20240323_0800028652_new_dataset/dr_results/20240324_1800086626_new_dataset/20240324_20594600000_162794466c8f8196/\\home\\wmnlab\\E\\database\\2024-03-19\\UDP_Bandlock_9S_Phone_BR\\sm03\\#02\\data\\udp_dnlk_loss_latency\\home\\wmnlab\\E\\database\\2024-03-19\\UDP_Bandlock_9S_Phone_BR\\sm05\\#02\\data\\udp_dnlk_loss_latency.csv\n",
      "59/72 /home/wmnlab/E/database/2024-03-19/UDP_Bandlock_9S_Phone_BR/sm03/#02/data/handover_info_log.csv\n",
      "59/72 /home/wmnlab/E/database/2024-03-19/UDP_Bandlock_9S_Phone_BR/sm03/#02/data/udp_dnlk_loss_latency.csv\n",
      "59/72 /home/wmnlab/E/database/2024-03-19/UDP_Bandlock_9S_Phone_BR/sm03/#02/data/udp_uplk_loss_latency.csv\n",
      "59/72 /home/wmnlab/E/database/2024-03-19/UDP_Bandlock_9S_Phone_BR/sm06/#02/data/handover_info_log.csv\n",
      "59/72 /home/wmnlab/E/database/2024-03-19/UDP_Bandlock_9S_Phone_BR/sm06/#02/data/udp_dnlk_loss_latency.csv\n",
      "59/72 /home/wmnlab/E/database/2024-03-19/UDP_Bandlock_9S_Phone_BR/sm06/#02/data/udp_uplk_loss_latency.csv\n"
     ]
    },
    {
     "data": {
      "application/vnd.jupyter.widget-view+json": {
       "model_id": "2542fcb52a6c4724822492cb0d94b6bd",
       "version_major": 2,
       "version_minor": 0
      },
      "text/plain": [
       "  0%|                                                                                                         …"
      ]
     },
     "metadata": {},
     "output_type": "display_data"
    },
    {
     "name": "stdout",
     "output_type": "stream",
     "text": [
      "/home/wmnlab/E/results/20240323_0800028652_new_dataset/dr_results/20240324_1800086626_new_dataset/20240324_20594600000_162794466c8f8196/\\home\\wmnlab\\E\\database\\2024-03-19\\UDP_Bandlock_9S_Phone_BR\\sm03\\#02\\data\\udp_dnlk_loss_latency\\home\\wmnlab\\E\\database\\2024-03-19\\UDP_Bandlock_9S_Phone_BR\\sm06\\#02\\data\\udp_dnlk_loss_latency.csv\n",
      "60/72 /home/wmnlab/E/database/2024-03-19/UDP_Bandlock_9S_Phone_BR/sm03/#02/data/handover_info_log.csv\n",
      "60/72 /home/wmnlab/E/database/2024-03-19/UDP_Bandlock_9S_Phone_BR/sm03/#02/data/udp_dnlk_loss_latency.csv\n",
      "60/72 /home/wmnlab/E/database/2024-03-19/UDP_Bandlock_9S_Phone_BR/sm03/#02/data/udp_uplk_loss_latency.csv\n",
      "60/72 /home/wmnlab/E/database/2024-03-19/UDP_Bandlock_9S_Phone_BR/sm07/#02/data/handover_info_log.csv\n",
      "60/72 /home/wmnlab/E/database/2024-03-19/UDP_Bandlock_9S_Phone_BR/sm07/#02/data/udp_dnlk_loss_latency.csv\n",
      "60/72 /home/wmnlab/E/database/2024-03-19/UDP_Bandlock_9S_Phone_BR/sm07/#02/data/udp_uplk_loss_latency.csv\n"
     ]
    },
    {
     "data": {
      "application/vnd.jupyter.widget-view+json": {
       "model_id": "97e9afaacee144f8813e4497efe19f99",
       "version_major": 2,
       "version_minor": 0
      },
      "text/plain": [
       "  0%|                                                                                                         …"
      ]
     },
     "metadata": {},
     "output_type": "display_data"
    },
    {
     "name": "stdout",
     "output_type": "stream",
     "text": [
      "/home/wmnlab/E/results/20240323_0800028652_new_dataset/dr_results/20240324_1800086626_new_dataset/20240324_20594600000_162794466c8f8196/\\home\\wmnlab\\E\\database\\2024-03-19\\UDP_Bandlock_9S_Phone_BR\\sm03\\#02\\data\\udp_dnlk_loss_latency\\home\\wmnlab\\E\\database\\2024-03-19\\UDP_Bandlock_9S_Phone_BR\\sm07\\#02\\data\\udp_dnlk_loss_latency.csv\n",
      "61/72 /home/wmnlab/E/database/2024-03-19/UDP_Bandlock_9S_Phone_BR/sm03/#02/data/handover_info_log.csv\n",
      "61/72 /home/wmnlab/E/database/2024-03-19/UDP_Bandlock_9S_Phone_BR/sm03/#02/data/udp_dnlk_loss_latency.csv\n",
      "61/72 /home/wmnlab/E/database/2024-03-19/UDP_Bandlock_9S_Phone_BR/sm03/#02/data/udp_uplk_loss_latency.csv\n",
      "61/72 /home/wmnlab/E/database/2024-03-19/UDP_Bandlock_9S_Phone_BR/sm08/#02/data/handover_info_log.csv\n",
      "61/72 /home/wmnlab/E/database/2024-03-19/UDP_Bandlock_9S_Phone_BR/sm08/#02/data/udp_dnlk_loss_latency.csv\n",
      "61/72 /home/wmnlab/E/database/2024-03-19/UDP_Bandlock_9S_Phone_BR/sm08/#02/data/udp_uplk_loss_latency.csv\n"
     ]
    },
    {
     "data": {
      "application/vnd.jupyter.widget-view+json": {
       "model_id": "2e47fe7f36144a25b037ab8b63c6a1a1",
       "version_major": 2,
       "version_minor": 0
      },
      "text/plain": [
       "  0%|                                                                                                         …"
      ]
     },
     "metadata": {},
     "output_type": "display_data"
    },
    {
     "name": "stdout",
     "output_type": "stream",
     "text": [
      "/home/wmnlab/E/results/20240323_0800028652_new_dataset/dr_results/20240324_1800086626_new_dataset/20240324_20594600000_162794466c8f8196/\\home\\wmnlab\\E\\database\\2024-03-19\\UDP_Bandlock_9S_Phone_BR\\sm03\\#02\\data\\udp_dnlk_loss_latency\\home\\wmnlab\\E\\database\\2024-03-19\\UDP_Bandlock_9S_Phone_BR\\sm08\\#02\\data\\udp_dnlk_loss_latency.csv\n",
      "62/72 /home/wmnlab/E/database/2024-03-19/UDP_Bandlock_9S_Phone_BR/sm04/#02/data/handover_info_log.csv\n",
      "62/72 /home/wmnlab/E/database/2024-03-19/UDP_Bandlock_9S_Phone_BR/sm04/#02/data/udp_dnlk_loss_latency.csv\n",
      "62/72 /home/wmnlab/E/database/2024-03-19/UDP_Bandlock_9S_Phone_BR/sm04/#02/data/udp_uplk_loss_latency.csv\n",
      "62/72 /home/wmnlab/E/database/2024-03-19/UDP_Bandlock_9S_Phone_BR/sm05/#02/data/handover_info_log.csv\n",
      "62/72 /home/wmnlab/E/database/2024-03-19/UDP_Bandlock_9S_Phone_BR/sm05/#02/data/udp_dnlk_loss_latency.csv\n",
      "62/72 /home/wmnlab/E/database/2024-03-19/UDP_Bandlock_9S_Phone_BR/sm05/#02/data/udp_uplk_loss_latency.csv\n"
     ]
    },
    {
     "data": {
      "application/vnd.jupyter.widget-view+json": {
       "model_id": "a0b56c02c554473fa69ecd0102f8d78e",
       "version_major": 2,
       "version_minor": 0
      },
      "text/plain": [
       "  0%|                                                                                                         …"
      ]
     },
     "metadata": {},
     "output_type": "display_data"
    },
    {
     "name": "stdout",
     "output_type": "stream",
     "text": [
      "/home/wmnlab/E/results/20240323_0800028652_new_dataset/dr_results/20240324_1800086626_new_dataset/20240324_20594600000_162794466c8f8196/\\home\\wmnlab\\E\\database\\2024-03-19\\UDP_Bandlock_9S_Phone_BR\\sm04\\#02\\data\\udp_dnlk_loss_latency\\home\\wmnlab\\E\\database\\2024-03-19\\UDP_Bandlock_9S_Phone_BR\\sm05\\#02\\data\\udp_dnlk_loss_latency.csv\n",
      "63/72 /home/wmnlab/E/database/2024-03-19/UDP_Bandlock_9S_Phone_BR/sm04/#02/data/handover_info_log.csv\n",
      "63/72 /home/wmnlab/E/database/2024-03-19/UDP_Bandlock_9S_Phone_BR/sm04/#02/data/udp_dnlk_loss_latency.csv\n",
      "63/72 /home/wmnlab/E/database/2024-03-19/UDP_Bandlock_9S_Phone_BR/sm04/#02/data/udp_uplk_loss_latency.csv\n",
      "63/72 /home/wmnlab/E/database/2024-03-19/UDP_Bandlock_9S_Phone_BR/sm06/#02/data/handover_info_log.csv\n",
      "63/72 /home/wmnlab/E/database/2024-03-19/UDP_Bandlock_9S_Phone_BR/sm06/#02/data/udp_dnlk_loss_latency.csv\n",
      "63/72 /home/wmnlab/E/database/2024-03-19/UDP_Bandlock_9S_Phone_BR/sm06/#02/data/udp_uplk_loss_latency.csv\n"
     ]
    },
    {
     "data": {
      "application/vnd.jupyter.widget-view+json": {
       "model_id": "832797eed05f4cc4b0ddf7e4fc7d2254",
       "version_major": 2,
       "version_minor": 0
      },
      "text/plain": [
       "  0%|                                                                                                         …"
      ]
     },
     "metadata": {},
     "output_type": "display_data"
    },
    {
     "name": "stdout",
     "output_type": "stream",
     "text": [
      "/home/wmnlab/E/results/20240323_0800028652_new_dataset/dr_results/20240324_1800086626_new_dataset/20240324_20594600000_162794466c8f8196/\\home\\wmnlab\\E\\database\\2024-03-19\\UDP_Bandlock_9S_Phone_BR\\sm04\\#02\\data\\udp_dnlk_loss_latency\\home\\wmnlab\\E\\database\\2024-03-19\\UDP_Bandlock_9S_Phone_BR\\sm06\\#02\\data\\udp_dnlk_loss_latency.csv\n",
      "64/72 /home/wmnlab/E/database/2024-03-19/UDP_Bandlock_9S_Phone_BR/sm04/#02/data/handover_info_log.csv\n",
      "64/72 /home/wmnlab/E/database/2024-03-19/UDP_Bandlock_9S_Phone_BR/sm04/#02/data/udp_dnlk_loss_latency.csv\n",
      "64/72 /home/wmnlab/E/database/2024-03-19/UDP_Bandlock_9S_Phone_BR/sm04/#02/data/udp_uplk_loss_latency.csv\n",
      "64/72 /home/wmnlab/E/database/2024-03-19/UDP_Bandlock_9S_Phone_BR/sm07/#02/data/handover_info_log.csv\n",
      "64/72 /home/wmnlab/E/database/2024-03-19/UDP_Bandlock_9S_Phone_BR/sm07/#02/data/udp_dnlk_loss_latency.csv\n",
      "64/72 /home/wmnlab/E/database/2024-03-19/UDP_Bandlock_9S_Phone_BR/sm07/#02/data/udp_uplk_loss_latency.csv\n"
     ]
    },
    {
     "data": {
      "application/vnd.jupyter.widget-view+json": {
       "model_id": "d13b9113acd147ccb506b090af9c59b4",
       "version_major": 2,
       "version_minor": 0
      },
      "text/plain": [
       "  0%|                                                                                                         …"
      ]
     },
     "metadata": {},
     "output_type": "display_data"
    },
    {
     "name": "stdout",
     "output_type": "stream",
     "text": [
      "/home/wmnlab/E/results/20240323_0800028652_new_dataset/dr_results/20240324_1800086626_new_dataset/20240324_20594600000_162794466c8f8196/\\home\\wmnlab\\E\\database\\2024-03-19\\UDP_Bandlock_9S_Phone_BR\\sm04\\#02\\data\\udp_dnlk_loss_latency\\home\\wmnlab\\E\\database\\2024-03-19\\UDP_Bandlock_9S_Phone_BR\\sm07\\#02\\data\\udp_dnlk_loss_latency.csv\n",
      "65/72 /home/wmnlab/E/database/2024-03-19/UDP_Bandlock_9S_Phone_BR/sm04/#02/data/handover_info_log.csv\n",
      "65/72 /home/wmnlab/E/database/2024-03-19/UDP_Bandlock_9S_Phone_BR/sm04/#02/data/udp_dnlk_loss_latency.csv\n",
      "65/72 /home/wmnlab/E/database/2024-03-19/UDP_Bandlock_9S_Phone_BR/sm04/#02/data/udp_uplk_loss_latency.csv\n",
      "65/72 /home/wmnlab/E/database/2024-03-19/UDP_Bandlock_9S_Phone_BR/sm08/#02/data/handover_info_log.csv\n",
      "65/72 /home/wmnlab/E/database/2024-03-19/UDP_Bandlock_9S_Phone_BR/sm08/#02/data/udp_dnlk_loss_latency.csv\n",
      "65/72 /home/wmnlab/E/database/2024-03-19/UDP_Bandlock_9S_Phone_BR/sm08/#02/data/udp_uplk_loss_latency.csv\n"
     ]
    },
    {
     "data": {
      "application/vnd.jupyter.widget-view+json": {
       "model_id": "9e2f54c6f87247deb05333f99d9acd48",
       "version_major": 2,
       "version_minor": 0
      },
      "text/plain": [
       "  0%|                                                                                                         …"
      ]
     },
     "metadata": {},
     "output_type": "display_data"
    },
    {
     "name": "stdout",
     "output_type": "stream",
     "text": [
      "/home/wmnlab/E/results/20240323_0800028652_new_dataset/dr_results/20240324_1800086626_new_dataset/20240324_20594600000_162794466c8f8196/\\home\\wmnlab\\E\\database\\2024-03-19\\UDP_Bandlock_9S_Phone_BR\\sm04\\#02\\data\\udp_dnlk_loss_latency\\home\\wmnlab\\E\\database\\2024-03-19\\UDP_Bandlock_9S_Phone_BR\\sm08\\#02\\data\\udp_dnlk_loss_latency.csv\n",
      "66/72 /home/wmnlab/E/database/2024-03-19/UDP_Bandlock_9S_Phone_BR/sm05/#02/data/handover_info_log.csv\n",
      "66/72 /home/wmnlab/E/database/2024-03-19/UDP_Bandlock_9S_Phone_BR/sm05/#02/data/udp_dnlk_loss_latency.csv\n",
      "66/72 /home/wmnlab/E/database/2024-03-19/UDP_Bandlock_9S_Phone_BR/sm05/#02/data/udp_uplk_loss_latency.csv\n",
      "66/72 /home/wmnlab/E/database/2024-03-19/UDP_Bandlock_9S_Phone_BR/sm06/#02/data/handover_info_log.csv\n",
      "66/72 /home/wmnlab/E/database/2024-03-19/UDP_Bandlock_9S_Phone_BR/sm06/#02/data/udp_dnlk_loss_latency.csv\n",
      "66/72 /home/wmnlab/E/database/2024-03-19/UDP_Bandlock_9S_Phone_BR/sm06/#02/data/udp_uplk_loss_latency.csv\n"
     ]
    },
    {
     "data": {
      "application/vnd.jupyter.widget-view+json": {
       "model_id": "414d72d66f0c4ca6a1ed8fddabf49bdc",
       "version_major": 2,
       "version_minor": 0
      },
      "text/plain": [
       "  0%|                                                                                                         …"
      ]
     },
     "metadata": {},
     "output_type": "display_data"
    },
    {
     "name": "stdout",
     "output_type": "stream",
     "text": [
      "/home/wmnlab/E/results/20240323_0800028652_new_dataset/dr_results/20240324_1800086626_new_dataset/20240324_20594600000_162794466c8f8196/\\home\\wmnlab\\E\\database\\2024-03-19\\UDP_Bandlock_9S_Phone_BR\\sm05\\#02\\data\\udp_dnlk_loss_latency\\home\\wmnlab\\E\\database\\2024-03-19\\UDP_Bandlock_9S_Phone_BR\\sm06\\#02\\data\\udp_dnlk_loss_latency.csv\n",
      "67/72 /home/wmnlab/E/database/2024-03-19/UDP_Bandlock_9S_Phone_BR/sm05/#02/data/handover_info_log.csv\n",
      "67/72 /home/wmnlab/E/database/2024-03-19/UDP_Bandlock_9S_Phone_BR/sm05/#02/data/udp_dnlk_loss_latency.csv\n",
      "67/72 /home/wmnlab/E/database/2024-03-19/UDP_Bandlock_9S_Phone_BR/sm05/#02/data/udp_uplk_loss_latency.csv\n",
      "67/72 /home/wmnlab/E/database/2024-03-19/UDP_Bandlock_9S_Phone_BR/sm07/#02/data/handover_info_log.csv\n",
      "67/72 /home/wmnlab/E/database/2024-03-19/UDP_Bandlock_9S_Phone_BR/sm07/#02/data/udp_dnlk_loss_latency.csv\n",
      "67/72 /home/wmnlab/E/database/2024-03-19/UDP_Bandlock_9S_Phone_BR/sm07/#02/data/udp_uplk_loss_latency.csv\n"
     ]
    },
    {
     "data": {
      "application/vnd.jupyter.widget-view+json": {
       "model_id": "27f4f305e8eb4c22bf1a2db342f8403c",
       "version_major": 2,
       "version_minor": 0
      },
      "text/plain": [
       "  0%|                                                                                                         …"
      ]
     },
     "metadata": {},
     "output_type": "display_data"
    },
    {
     "name": "stdout",
     "output_type": "stream",
     "text": [
      "/home/wmnlab/E/results/20240323_0800028652_new_dataset/dr_results/20240324_1800086626_new_dataset/20240324_20594600000_162794466c8f8196/\\home\\wmnlab\\E\\database\\2024-03-19\\UDP_Bandlock_9S_Phone_BR\\sm05\\#02\\data\\udp_dnlk_loss_latency\\home\\wmnlab\\E\\database\\2024-03-19\\UDP_Bandlock_9S_Phone_BR\\sm07\\#02\\data\\udp_dnlk_loss_latency.csv\n",
      "68/72 /home/wmnlab/E/database/2024-03-19/UDP_Bandlock_9S_Phone_BR/sm05/#02/data/handover_info_log.csv\n",
      "68/72 /home/wmnlab/E/database/2024-03-19/UDP_Bandlock_9S_Phone_BR/sm05/#02/data/udp_dnlk_loss_latency.csv\n",
      "68/72 /home/wmnlab/E/database/2024-03-19/UDP_Bandlock_9S_Phone_BR/sm05/#02/data/udp_uplk_loss_latency.csv\n",
      "68/72 /home/wmnlab/E/database/2024-03-19/UDP_Bandlock_9S_Phone_BR/sm08/#02/data/handover_info_log.csv\n",
      "68/72 /home/wmnlab/E/database/2024-03-19/UDP_Bandlock_9S_Phone_BR/sm08/#02/data/udp_dnlk_loss_latency.csv\n",
      "68/72 /home/wmnlab/E/database/2024-03-19/UDP_Bandlock_9S_Phone_BR/sm08/#02/data/udp_uplk_loss_latency.csv\n"
     ]
    },
    {
     "data": {
      "application/vnd.jupyter.widget-view+json": {
       "model_id": "0a9671d6ad094ae69c8c214a39cbbadc",
       "version_major": 2,
       "version_minor": 0
      },
      "text/plain": [
       "  0%|                                                                                                         …"
      ]
     },
     "metadata": {},
     "output_type": "display_data"
    },
    {
     "name": "stdout",
     "output_type": "stream",
     "text": [
      "/home/wmnlab/E/results/20240323_0800028652_new_dataset/dr_results/20240324_1800086626_new_dataset/20240324_20594600000_162794466c8f8196/\\home\\wmnlab\\E\\database\\2024-03-19\\UDP_Bandlock_9S_Phone_BR\\sm05\\#02\\data\\udp_dnlk_loss_latency\\home\\wmnlab\\E\\database\\2024-03-19\\UDP_Bandlock_9S_Phone_BR\\sm08\\#02\\data\\udp_dnlk_loss_latency.csv\n",
      "69/72 /home/wmnlab/E/database/2024-03-19/UDP_Bandlock_9S_Phone_BR/sm06/#02/data/handover_info_log.csv\n",
      "69/72 /home/wmnlab/E/database/2024-03-19/UDP_Bandlock_9S_Phone_BR/sm06/#02/data/udp_dnlk_loss_latency.csv\n",
      "69/72 /home/wmnlab/E/database/2024-03-19/UDP_Bandlock_9S_Phone_BR/sm06/#02/data/udp_uplk_loss_latency.csv\n",
      "69/72 /home/wmnlab/E/database/2024-03-19/UDP_Bandlock_9S_Phone_BR/sm07/#02/data/handover_info_log.csv\n",
      "69/72 /home/wmnlab/E/database/2024-03-19/UDP_Bandlock_9S_Phone_BR/sm07/#02/data/udp_dnlk_loss_latency.csv\n",
      "69/72 /home/wmnlab/E/database/2024-03-19/UDP_Bandlock_9S_Phone_BR/sm07/#02/data/udp_uplk_loss_latency.csv\n"
     ]
    },
    {
     "data": {
      "application/vnd.jupyter.widget-view+json": {
       "model_id": "a1ad799b6ba74e4db0bbbbea72fc6243",
       "version_major": 2,
       "version_minor": 0
      },
      "text/plain": [
       "  0%|                                                                                                         …"
      ]
     },
     "metadata": {},
     "output_type": "display_data"
    },
    {
     "name": "stdout",
     "output_type": "stream",
     "text": [
      "/home/wmnlab/E/results/20240323_0800028652_new_dataset/dr_results/20240324_1800086626_new_dataset/20240324_20594600000_162794466c8f8196/\\home\\wmnlab\\E\\database\\2024-03-19\\UDP_Bandlock_9S_Phone_BR\\sm06\\#02\\data\\udp_dnlk_loss_latency\\home\\wmnlab\\E\\database\\2024-03-19\\UDP_Bandlock_9S_Phone_BR\\sm07\\#02\\data\\udp_dnlk_loss_latency.csv\n",
      "70/72 /home/wmnlab/E/database/2024-03-19/UDP_Bandlock_9S_Phone_BR/sm06/#02/data/handover_info_log.csv\n",
      "70/72 /home/wmnlab/E/database/2024-03-19/UDP_Bandlock_9S_Phone_BR/sm06/#02/data/udp_dnlk_loss_latency.csv\n",
      "70/72 /home/wmnlab/E/database/2024-03-19/UDP_Bandlock_9S_Phone_BR/sm06/#02/data/udp_uplk_loss_latency.csv\n",
      "70/72 /home/wmnlab/E/database/2024-03-19/UDP_Bandlock_9S_Phone_BR/sm08/#02/data/handover_info_log.csv\n",
      "70/72 /home/wmnlab/E/database/2024-03-19/UDP_Bandlock_9S_Phone_BR/sm08/#02/data/udp_dnlk_loss_latency.csv\n",
      "70/72 /home/wmnlab/E/database/2024-03-19/UDP_Bandlock_9S_Phone_BR/sm08/#02/data/udp_uplk_loss_latency.csv\n"
     ]
    },
    {
     "data": {
      "application/vnd.jupyter.widget-view+json": {
       "model_id": "8a78b256514d46cebc2cd7738126b0f1",
       "version_major": 2,
       "version_minor": 0
      },
      "text/plain": [
       "  0%|                                                                                                         …"
      ]
     },
     "metadata": {},
     "output_type": "display_data"
    },
    {
     "name": "stdout",
     "output_type": "stream",
     "text": [
      "/home/wmnlab/E/results/20240323_0800028652_new_dataset/dr_results/20240324_1800086626_new_dataset/20240324_20594600000_162794466c8f8196/\\home\\wmnlab\\E\\database\\2024-03-19\\UDP_Bandlock_9S_Phone_BR\\sm06\\#02\\data\\udp_dnlk_loss_latency\\home\\wmnlab\\E\\database\\2024-03-19\\UDP_Bandlock_9S_Phone_BR\\sm08\\#02\\data\\udp_dnlk_loss_latency.csv\n",
      "71/72 /home/wmnlab/E/database/2024-03-19/UDP_Bandlock_9S_Phone_BR/sm07/#02/data/handover_info_log.csv\n",
      "71/72 /home/wmnlab/E/database/2024-03-19/UDP_Bandlock_9S_Phone_BR/sm07/#02/data/udp_dnlk_loss_latency.csv\n",
      "71/72 /home/wmnlab/E/database/2024-03-19/UDP_Bandlock_9S_Phone_BR/sm07/#02/data/udp_uplk_loss_latency.csv\n",
      "71/72 /home/wmnlab/E/database/2024-03-19/UDP_Bandlock_9S_Phone_BR/sm08/#02/data/handover_info_log.csv\n",
      "71/72 /home/wmnlab/E/database/2024-03-19/UDP_Bandlock_9S_Phone_BR/sm08/#02/data/udp_dnlk_loss_latency.csv\n",
      "71/72 /home/wmnlab/E/database/2024-03-19/UDP_Bandlock_9S_Phone_BR/sm08/#02/data/udp_uplk_loss_latency.csv\n"
     ]
    },
    {
     "data": {
      "application/vnd.jupyter.widget-view+json": {
       "model_id": "d6255b4e7a2f40418cd16527d9311327",
       "version_major": 2,
       "version_minor": 0
      },
      "text/plain": [
       "  0%|                                                                                                         …"
      ]
     },
     "metadata": {},
     "output_type": "display_data"
    },
    {
     "name": "stdout",
     "output_type": "stream",
     "text": [
      "/home/wmnlab/E/results/20240323_0800028652_new_dataset/dr_results/20240324_1800086626_new_dataset/20240324_20594600000_162794466c8f8196/\\home\\wmnlab\\E\\database\\2024-03-19\\UDP_Bandlock_9S_Phone_BR\\sm07\\#02\\data\\udp_dnlk_loss_latency\\home\\wmnlab\\E\\database\\2024-03-19\\UDP_Bandlock_9S_Phone_BR\\sm08\\#02\\data\\udp_dnlk_loss_latency.csv\n",
      "./20240323_0800028652_new_dataset/20240324_1800086626_new_dataset/figures/20240324_BR_20594600000_162794466c8f8196.png\n"
     ]
    },
    {
     "data": {
      "image/png": "[encoded data removed]",
      "text/plain": [
       "<Figure size 600x400 with 1 Axes>"
      ]
     },
     "metadata": {
      "image/png": {
       "height": 371,
       "width": 536
      }
     },
     "output_type": "display_data"
    }
   ],
   "source": [
    "eval = DrEval(filepaths, model_name='BR', sr_model_id=sr_model_id, dr_model_id=dr_model_id)\n",
    "eval.run_hist_method(N=1)\n",
    "eval.plot('BR')"
   ]
  },
  {
   "cell_type": "markdown",
   "metadata": {},
   "source": [
    "## Adjusted Model"
   ]
  },
  {
   "cell_type": "code",
   "execution_count": 12,
   "metadata": {},
   "outputs": [
    {
     "name": "stdout",
     "output_type": "stream",
     "text": [
      "./20240323_0800028652_new_dataset/models/BR\n",
      "./20240323_0800028652_new_dataset/20240324_1800086626_new_dataset/BR\n",
      "./20240323_0800028652_new_dataset/20240324_1800086626_new_dataset/BR_dr_prob_models_adjust.pkl\n",
      "0/72 /home/wmnlab/E/database/2024-03-19/UDP_Bandlock_9S_Phone_BR/sm00/#01/data/handover_info_log.csv\n",
      "0/72 /home/wmnlab/E/database/2024-03-19/UDP_Bandlock_9S_Phone_BR/sm00/#01/data/udp_dnlk_loss_latency.csv\n",
      "0/72 /home/wmnlab/E/database/2024-03-19/UDP_Bandlock_9S_Phone_BR/sm00/#01/data/udp_uplk_loss_latency.csv\n",
      "0/72 /home/wmnlab/E/database/2024-03-19/UDP_Bandlock_9S_Phone_BR/sm01/#01/data/handover_info_log.csv\n",
      "0/72 /home/wmnlab/E/database/2024-03-19/UDP_Bandlock_9S_Phone_BR/sm01/#01/data/udp_dnlk_loss_latency.csv\n",
      "0/72 /home/wmnlab/E/database/2024-03-19/UDP_Bandlock_9S_Phone_BR/sm01/#01/data/udp_uplk_loss_latency.csv\n"
     ]
    },
    {
     "data": {
      "application/vnd.jupyter.widget-view+json": {
       "model_id": "67e8c02ab3e64710a70805e9710744d7",
       "version_major": 2,
       "version_minor": 0
      },
      "text/plain": [
       "  0%|                                                                                                         …"
      ]
     },
     "metadata": {},
     "output_type": "display_data"
    },
    {
     "name": "stdout",
     "output_type": "stream",
     "text": [
      "/home/wmnlab/E/results/20240323_0800028652_new_dataset/dr_results/20240324_1800086626_new_dataset/20240324_20594600001_19be33d4a1a15a67_adjust/\\home\\wmnlab\\E\\database\\2024-03-19\\UDP_Bandlock_9S_Phone_BR\\sm00\\#01\\data\\udp_dnlk_loss_latency\\home\\wmnlab\\E\\database\\2024-03-19\\UDP_Bandlock_9S_Phone_BR\\sm01\\#01\\data\\udp_dnlk_loss_latency.csv\n",
      "1/72 /home/wmnlab/E/database/2024-03-19/UDP_Bandlock_9S_Phone_BR/sm00/#01/data/handover_info_log.csv\n",
      "1/72 /home/wmnlab/E/database/2024-03-19/UDP_Bandlock_9S_Phone_BR/sm00/#01/data/udp_dnlk_loss_latency.csv\n",
      "1/72 /home/wmnlab/E/database/2024-03-19/UDP_Bandlock_9S_Phone_BR/sm00/#01/data/udp_uplk_loss_latency.csv\n",
      "1/72 /home/wmnlab/E/database/2024-03-19/UDP_Bandlock_9S_Phone_BR/sm02/#01/data/handover_info_log.csv\n",
      "1/72 /home/wmnlab/E/database/2024-03-19/UDP_Bandlock_9S_Phone_BR/sm02/#01/data/udp_dnlk_loss_latency.csv\n",
      "1/72 /home/wmnlab/E/database/2024-03-19/UDP_Bandlock_9S_Phone_BR/sm02/#01/data/udp_uplk_loss_latency.csv\n"
     ]
    },
    {
     "data": {
      "application/vnd.jupyter.widget-view+json": {
       "model_id": "e557a8034015412db77d7556490449db",
       "version_major": 2,
       "version_minor": 0
      },
      "text/plain": [
       "  0%|                                                                                                         …"
      ]
     },
     "metadata": {},
     "output_type": "display_data"
    },
    {
     "name": "stdout",
     "output_type": "stream",
     "text": [
      "/home/wmnlab/E/results/20240323_0800028652_new_dataset/dr_results/20240324_1800086626_new_dataset/20240324_20594600001_19be33d4a1a15a67_adjust/\\home\\wmnlab\\E\\database\\2024-03-19\\UDP_Bandlock_9S_Phone_BR\\sm00\\#01\\data\\udp_dnlk_loss_latency\\home\\wmnlab\\E\\database\\2024-03-19\\UDP_Bandlock_9S_Phone_BR\\sm02\\#01\\data\\udp_dnlk_loss_latency.csv\n",
      "2/72 /home/wmnlab/E/database/2024-03-19/UDP_Bandlock_9S_Phone_BR/sm00/#01/data/handover_info_log.csv\n",
      "2/72 /home/wmnlab/E/database/2024-03-19/UDP_Bandlock_9S_Phone_BR/sm00/#01/data/udp_dnlk_loss_latency.csv\n",
      "2/72 /home/wmnlab/E/database/2024-03-19/UDP_Bandlock_9S_Phone_BR/sm00/#01/data/udp_uplk_loss_latency.csv\n",
      "2/72 /home/wmnlab/E/database/2024-03-19/UDP_Bandlock_9S_Phone_BR/sm03/#01/data/handover_info_log.csv\n",
      "2/72 /home/wmnlab/E/database/2024-03-19/UDP_Bandlock_9S_Phone_BR/sm03/#01/data/udp_dnlk_loss_latency.csv\n",
      "2/72 /home/wmnlab/E/database/2024-03-19/UDP_Bandlock_9S_Phone_BR/sm03/#01/data/udp_uplk_loss_latency.csv\n"
     ]
    },
    {
     "data": {
      "application/vnd.jupyter.widget-view+json": {
       "model_id": "e5e0acd9010f486497358898b8d8fe57",
       "version_major": 2,
       "version_minor": 0
      },
      "text/plain": [
       "  0%|                                                                                                         …"
      ]
     },
     "metadata": {},
     "output_type": "display_data"
    },
    {
     "name": "stdout",
     "output_type": "stream",
     "text": [
      "/home/wmnlab/E/results/20240323_0800028652_new_dataset/dr_results/20240324_1800086626_new_dataset/20240324_20594600001_19be33d4a1a15a67_adjust/\\home\\wmnlab\\E\\database\\2024-03-19\\UDP_Bandlock_9S_Phone_BR\\sm00\\#01\\data\\udp_dnlk_loss_latency\\home\\wmnlab\\E\\database\\2024-03-19\\UDP_Bandlock_9S_Phone_BR\\sm03\\#01\\data\\udp_dnlk_loss_latency.csv\n",
      "3/72 /home/wmnlab/E/database/2024-03-19/UDP_Bandlock_9S_Phone_BR/sm00/#01/data/handover_info_log.csv\n",
      "3/72 /home/wmnlab/E/database/2024-03-19/UDP_Bandlock_9S_Phone_BR/sm00/#01/data/udp_dnlk_loss_latency.csv\n",
      "3/72 /home/wmnlab/E/database/2024-03-19/UDP_Bandlock_9S_Phone_BR/sm00/#01/data/udp_uplk_loss_latency.csv\n",
      "3/72 /home/wmnlab/E/database/2024-03-19/UDP_Bandlock_9S_Phone_BR/sm04/#01/data/handover_info_log.csv\n",
      "3/72 /home/wmnlab/E/database/2024-03-19/UDP_Bandlock_9S_Phone_BR/sm04/#01/data/udp_dnlk_loss_latency.csv\n",
      "3/72 /home/wmnlab/E/database/2024-03-19/UDP_Bandlock_9S_Phone_BR/sm04/#01/data/udp_uplk_loss_latency.csv\n"
     ]
    },
    {
     "data": {
      "application/vnd.jupyter.widget-view+json": {
       "model_id": "72a16587d76946daa91c74fec422a2ca",
       "version_major": 2,
       "version_minor": 0
      },
      "text/plain": [
       "  0%|                                                                                                         …"
      ]
     },
     "metadata": {},
     "output_type": "display_data"
    },
    {
     "name": "stdout",
     "output_type": "stream",
     "text": [
      "/home/wmnlab/E/results/20240323_0800028652_new_dataset/dr_results/20240324_1800086626_new_dataset/20240324_20594600001_19be33d4a1a15a67_adjust/\\home\\wmnlab\\E\\database\\2024-03-19\\UDP_Bandlock_9S_Phone_BR\\sm00\\#01\\data\\udp_dnlk_loss_latency\\home\\wmnlab\\E\\database\\2024-03-19\\UDP_Bandlock_9S_Phone_BR\\sm04\\#01\\data\\udp_dnlk_loss_latency.csv\n",
      "4/72 /home/wmnlab/E/database/2024-03-19/UDP_Bandlock_9S_Phone_BR/sm00/#01/data/handover_info_log.csv\n",
      "4/72 /home/wmnlab/E/database/2024-03-19/UDP_Bandlock_9S_Phone_BR/sm00/#01/data/udp_dnlk_loss_latency.csv\n",
      "4/72 /home/wmnlab/E/database/2024-03-19/UDP_Bandlock_9S_Phone_BR/sm00/#01/data/udp_uplk_loss_latency.csv\n",
      "4/72 /home/wmnlab/E/database/2024-03-19/UDP_Bandlock_9S_Phone_BR/sm05/#01/data/handover_info_log.csv\n",
      "4/72 /home/wmnlab/E/database/2024-03-19/UDP_Bandlock_9S_Phone_BR/sm05/#01/data/udp_dnlk_loss_latency.csv\n",
      "4/72 /home/wmnlab/E/database/2024-03-19/UDP_Bandlock_9S_Phone_BR/sm05/#01/data/udp_uplk_loss_latency.csv\n"
     ]
    },
    {
     "data": {
      "application/vnd.jupyter.widget-view+json": {
       "model_id": "dd7619f6c7f94fedb109c91b20d0f999",
       "version_major": 2,
       "version_minor": 0
      },
      "text/plain": [
       "  0%|                                                                                                         …"
      ]
     },
     "metadata": {},
     "output_type": "display_data"
    },
    {
     "name": "stdout",
     "output_type": "stream",
     "text": [
      "/home/wmnlab/E/results/20240323_0800028652_new_dataset/dr_results/20240324_1800086626_new_dataset/20240324_20594600001_19be33d4a1a15a67_adjust/\\home\\wmnlab\\E\\database\\2024-03-19\\UDP_Bandlock_9S_Phone_BR\\sm00\\#01\\data\\udp_dnlk_loss_latency\\home\\wmnlab\\E\\database\\2024-03-19\\UDP_Bandlock_9S_Phone_BR\\sm05\\#01\\data\\udp_dnlk_loss_latency.csv\n",
      "5/72 /home/wmnlab/E/database/2024-03-19/UDP_Bandlock_9S_Phone_BR/sm00/#01/data/handover_info_log.csv\n",
      "5/72 /home/wmnlab/E/database/2024-03-19/UDP_Bandlock_9S_Phone_BR/sm00/#01/data/udp_dnlk_loss_latency.csv\n",
      "5/72 /home/wmnlab/E/database/2024-03-19/UDP_Bandlock_9S_Phone_BR/sm00/#01/data/udp_uplk_loss_latency.csv\n",
      "5/72 /home/wmnlab/E/database/2024-03-19/UDP_Bandlock_9S_Phone_BR/sm06/#01/data/handover_info_log.csv\n",
      "5/72 /home/wmnlab/E/database/2024-03-19/UDP_Bandlock_9S_Phone_BR/sm06/#01/data/udp_dnlk_loss_latency.csv\n",
      "5/72 /home/wmnlab/E/database/2024-03-19/UDP_Bandlock_9S_Phone_BR/sm06/#01/data/udp_uplk_loss_latency.csv\n"
     ]
    },
    {
     "data": {
      "application/vnd.jupyter.widget-view+json": {
       "model_id": "b7fe8a2c24a5498d8c29d4fafce4c94c",
       "version_major": 2,
       "version_minor": 0
      },
      "text/plain": [
       "  0%|                                                                                                         …"
      ]
     },
     "metadata": {},
     "output_type": "display_data"
    },
    {
     "name": "stdout",
     "output_type": "stream",
     "text": [
      "/home/wmnlab/E/results/20240323_0800028652_new_dataset/dr_results/20240324_1800086626_new_dataset/20240324_20594600001_19be33d4a1a15a67_adjust/\\home\\wmnlab\\E\\database\\2024-03-19\\UDP_Bandlock_9S_Phone_BR\\sm00\\#01\\data\\udp_dnlk_loss_latency\\home\\wmnlab\\E\\database\\2024-03-19\\UDP_Bandlock_9S_Phone_BR\\sm06\\#01\\data\\udp_dnlk_loss_latency.csv\n",
      "6/72 /home/wmnlab/E/database/2024-03-19/UDP_Bandlock_9S_Phone_BR/sm00/#01/data/handover_info_log.csv\n",
      "6/72 /home/wmnlab/E/database/2024-03-19/UDP_Bandlock_9S_Phone_BR/sm00/#01/data/udp_dnlk_loss_latency.csv\n",
      "6/72 /home/wmnlab/E/database/2024-03-19/UDP_Bandlock_9S_Phone_BR/sm00/#01/data/udp_uplk_loss_latency.csv\n",
      "6/72 /home/wmnlab/E/database/2024-03-19/UDP_Bandlock_9S_Phone_BR/sm07/#01/data/handover_info_log.csv\n",
      "6/72 /home/wmnlab/E/database/2024-03-19/UDP_Bandlock_9S_Phone_BR/sm07/#01/data/udp_dnlk_loss_latency.csv\n",
      "6/72 /home/wmnlab/E/database/2024-03-19/UDP_Bandlock_9S_Phone_BR/sm07/#01/data/udp_uplk_loss_latency.csv\n"
     ]
    },
    {
     "data": {
      "application/vnd.jupyter.widget-view+json": {
       "model_id": "45ce1cb6b48f419a80e40782327dbed3",
       "version_major": 2,
       "version_minor": 0
      },
      "text/plain": [
       "  0%|                                                                                                         …"
      ]
     },
     "metadata": {},
     "output_type": "display_data"
    },
    {
     "name": "stdout",
     "output_type": "stream",
     "text": [
      "/home/wmnlab/E/results/20240323_0800028652_new_dataset/dr_results/20240324_1800086626_new_dataset/20240324_20594600001_19be33d4a1a15a67_adjust/\\home\\wmnlab\\E\\database\\2024-03-19\\UDP_Bandlock_9S_Phone_BR\\sm00\\#01\\data\\udp_dnlk_loss_latency\\home\\wmnlab\\E\\database\\2024-03-19\\UDP_Bandlock_9S_Phone_BR\\sm07\\#01\\data\\udp_dnlk_loss_latency.csv\n",
      "7/72 /home/wmnlab/E/database/2024-03-19/UDP_Bandlock_9S_Phone_BR/sm00/#01/data/handover_info_log.csv\n",
      "7/72 /home/wmnlab/E/database/2024-03-19/UDP_Bandlock_9S_Phone_BR/sm00/#01/data/udp_dnlk_loss_latency.csv\n",
      "7/72 /home/wmnlab/E/database/2024-03-19/UDP_Bandlock_9S_Phone_BR/sm00/#01/data/udp_uplk_loss_latency.csv\n",
      "7/72 /home/wmnlab/E/database/2024-03-19/UDP_Bandlock_9S_Phone_BR/sm08/#01/data/handover_info_log.csv\n",
      "7/72 /home/wmnlab/E/database/2024-03-19/UDP_Bandlock_9S_Phone_BR/sm08/#01/data/udp_dnlk_loss_latency.csv\n",
      "7/72 /home/wmnlab/E/database/2024-03-19/UDP_Bandlock_9S_Phone_BR/sm08/#01/data/udp_uplk_loss_latency.csv\n"
     ]
    },
    {
     "data": {
      "application/vnd.jupyter.widget-view+json": {
       "model_id": "4623fc103fa141869d35d0a4eba90348",
       "version_major": 2,
       "version_minor": 0
      },
      "text/plain": [
       "  0%|                                                                                                         …"
      ]
     },
     "metadata": {},
     "output_type": "display_data"
    },
    {
     "name": "stdout",
     "output_type": "stream",
     "text": [
      "/home/wmnlab/E/results/20240323_0800028652_new_dataset/dr_results/20240324_1800086626_new_dataset/20240324_20594600001_19be33d4a1a15a67_adjust/\\home\\wmnlab\\E\\database\\2024-03-19\\UDP_Bandlock_9S_Phone_BR\\sm00\\#01\\data\\udp_dnlk_loss_latency\\home\\wmnlab\\E\\database\\2024-03-19\\UDP_Bandlock_9S_Phone_BR\\sm08\\#01\\data\\udp_dnlk_loss_latency.csv\n",
      "8/72 /home/wmnlab/E/database/2024-03-19/UDP_Bandlock_9S_Phone_BR/sm01/#01/data/handover_info_log.csv\n",
      "8/72 /home/wmnlab/E/database/2024-03-19/UDP_Bandlock_9S_Phone_BR/sm01/#01/data/udp_dnlk_loss_latency.csv\n",
      "8/72 /home/wmnlab/E/database/2024-03-19/UDP_Bandlock_9S_Phone_BR/sm01/#01/data/udp_uplk_loss_latency.csv\n",
      "8/72 /home/wmnlab/E/database/2024-03-19/UDP_Bandlock_9S_Phone_BR/sm02/#01/data/handover_info_log.csv\n",
      "8/72 /home/wmnlab/E/database/2024-03-19/UDP_Bandlock_9S_Phone_BR/sm02/#01/data/udp_dnlk_loss_latency.csv\n",
      "8/72 /home/wmnlab/E/database/2024-03-19/UDP_Bandlock_9S_Phone_BR/sm02/#01/data/udp_uplk_loss_latency.csv\n"
     ]
    },
    {
     "data": {
      "application/vnd.jupyter.widget-view+json": {
       "model_id": "e2f89322cc2046e383ffb3c0ee383221",
       "version_major": 2,
       "version_minor": 0
      },
      "text/plain": [
       "  0%|                                                                                                         …"
      ]
     },
     "metadata": {},
     "output_type": "display_data"
    },
    {
     "name": "stdout",
     "output_type": "stream",
     "text": [
      "/home/wmnlab/E/results/20240323_0800028652_new_dataset/dr_results/20240324_1800086626_new_dataset/20240324_20594600001_19be33d4a1a15a67_adjust/\\home\\wmnlab\\E\\database\\2024-03-19\\UDP_Bandlock_9S_Phone_BR\\sm01\\#01\\data\\udp_dnlk_loss_latency\\home\\wmnlab\\E\\database\\2024-03-19\\UDP_Bandlock_9S_Phone_BR\\sm02\\#01\\data\\udp_dnlk_loss_latency.csv\n",
      "9/72 /home/wmnlab/E/database/2024-03-19/UDP_Bandlock_9S_Phone_BR/sm01/#01/data/handover_info_log.csv\n",
      "9/72 /home/wmnlab/E/database/2024-03-19/UDP_Bandlock_9S_Phone_BR/sm01/#01/data/udp_dnlk_loss_latency.csv\n",
      "9/72 /home/wmnlab/E/database/2024-03-19/UDP_Bandlock_9S_Phone_BR/sm01/#01/data/udp_uplk_loss_latency.csv\n",
      "9/72 /home/wmnlab/E/database/2024-03-19/UDP_Bandlock_9S_Phone_BR/sm03/#01/data/handover_info_log.csv\n",
      "9/72 /home/wmnlab/E/database/2024-03-19/UDP_Bandlock_9S_Phone_BR/sm03/#01/data/udp_dnlk_loss_latency.csv\n",
      "9/72 /home/wmnlab/E/database/2024-03-19/UDP_Bandlock_9S_Phone_BR/sm03/#01/data/udp_uplk_loss_latency.csv\n"
     ]
    },
    {
     "data": {
      "application/vnd.jupyter.widget-view+json": {
       "model_id": "cd5b8896a3bf4927b75f22ae161db74d",
       "version_major": 2,
       "version_minor": 0
      },
      "text/plain": [
       "  0%|                                                                                                         …"
      ]
     },
     "metadata": {},
     "output_type": "display_data"
    },
    {
     "name": "stdout",
     "output_type": "stream",
     "text": [
      "/home/wmnlab/E/results/20240323_0800028652_new_dataset/dr_results/20240324_1800086626_new_dataset/20240324_20594600001_19be33d4a1a15a67_adjust/\\home\\wmnlab\\E\\database\\2024-03-19\\UDP_Bandlock_9S_Phone_BR\\sm01\\#01\\data\\udp_dnlk_loss_latency\\home\\wmnlab\\E\\database\\2024-03-19\\UDP_Bandlock_9S_Phone_BR\\sm03\\#01\\data\\udp_dnlk_loss_latency.csv\n",
      "10/72 /home/wmnlab/E/database/2024-03-19/UDP_Bandlock_9S_Phone_BR/sm01/#01/data/handover_info_log.csv\n",
      "10/72 /home/wmnlab/E/database/2024-03-19/UDP_Bandlock_9S_Phone_BR/sm01/#01/data/udp_dnlk_loss_latency.csv\n",
      "10/72 /home/wmnlab/E/database/2024-03-19/UDP_Bandlock_9S_Phone_BR/sm01/#01/data/udp_uplk_loss_latency.csv\n",
      "10/72 /home/wmnlab/E/database/2024-03-19/UDP_Bandlock_9S_Phone_BR/sm04/#01/data/handover_info_log.csv\n",
      "10/72 /home/wmnlab/E/database/2024-03-19/UDP_Bandlock_9S_Phone_BR/sm04/#01/data/udp_dnlk_loss_latency.csv\n",
      "10/72 /home/wmnlab/E/database/2024-03-19/UDP_Bandlock_9S_Phone_BR/sm04/#01/data/udp_uplk_loss_latency.csv\n"
     ]
    },
    {
     "data": {
      "application/vnd.jupyter.widget-view+json": {
       "model_id": "72457fae446b48a4a9d4255a887c3d8c",
       "version_major": 2,
       "version_minor": 0
      },
      "text/plain": [
       "  0%|                                                                                                         …"
      ]
     },
     "metadata": {},
     "output_type": "display_data"
    },
    {
     "name": "stdout",
     "output_type": "stream",
     "text": [
      "/home/wmnlab/E/results/20240323_0800028652_new_dataset/dr_results/20240324_1800086626_new_dataset/20240324_20594600001_19be33d4a1a15a67_adjust/\\home\\wmnlab\\E\\database\\2024-03-19\\UDP_Bandlock_9S_Phone_BR\\sm01\\#01\\data\\udp_dnlk_loss_latency\\home\\wmnlab\\E\\database\\2024-03-19\\UDP_Bandlock_9S_Phone_BR\\sm04\\#01\\data\\udp_dnlk_loss_latency.csv\n",
      "11/72 /home/wmnlab/E/database/2024-03-19/UDP_Bandlock_9S_Phone_BR/sm01/#01/data/handover_info_log.csv\n",
      "11/72 /home/wmnlab/E/database/2024-03-19/UDP_Bandlock_9S_Phone_BR/sm01/#01/data/udp_dnlk_loss_latency.csv\n",
      "11/72 /home/wmnlab/E/database/2024-03-19/UDP_Bandlock_9S_Phone_BR/sm01/#01/data/udp_uplk_loss_latency.csv\n",
      "11/72 /home/wmnlab/E/database/2024-03-19/UDP_Bandlock_9S_Phone_BR/sm05/#01/data/handover_info_log.csv\n",
      "11/72 /home/wmnlab/E/database/2024-03-19/UDP_Bandlock_9S_Phone_BR/sm05/#01/data/udp_dnlk_loss_latency.csv\n",
      "11/72 /home/wmnlab/E/database/2024-03-19/UDP_Bandlock_9S_Phone_BR/sm05/#01/data/udp_uplk_loss_latency.csv\n"
     ]
    },
    {
     "data": {
      "application/vnd.jupyter.widget-view+json": {
       "model_id": "72a1fb376dde4559a0ba9eade2894aaf",
       "version_major": 2,
       "version_minor": 0
      },
      "text/plain": [
       "  0%|                                                                                                         …"
      ]
     },
     "metadata": {},
     "output_type": "display_data"
    },
    {
     "name": "stdout",
     "output_type": "stream",
     "text": [
      "/home/wmnlab/E/results/20240323_0800028652_new_dataset/dr_results/20240324_1800086626_new_dataset/20240324_20594600001_19be33d4a1a15a67_adjust/\\home\\wmnlab\\E\\database\\2024-03-19\\UDP_Bandlock_9S_Phone_BR\\sm01\\#01\\data\\udp_dnlk_loss_latency\\home\\wmnlab\\E\\database\\2024-03-19\\UDP_Bandlock_9S_Phone_BR\\sm05\\#01\\data\\udp_dnlk_loss_latency.csv\n",
      "12/72 /home/wmnlab/E/database/2024-03-19/UDP_Bandlock_9S_Phone_BR/sm01/#01/data/handover_info_log.csv\n",
      "12/72 /home/wmnlab/E/database/2024-03-19/UDP_Bandlock_9S_Phone_BR/sm01/#01/data/udp_dnlk_loss_latency.csv\n",
      "12/72 /home/wmnlab/E/database/2024-03-19/UDP_Bandlock_9S_Phone_BR/sm01/#01/data/udp_uplk_loss_latency.csv\n",
      "12/72 /home/wmnlab/E/database/2024-03-19/UDP_Bandlock_9S_Phone_BR/sm06/#01/data/handover_info_log.csv\n",
      "12/72 /home/wmnlab/E/database/2024-03-19/UDP_Bandlock_9S_Phone_BR/sm06/#01/data/udp_dnlk_loss_latency.csv\n",
      "12/72 /home/wmnlab/E/database/2024-03-19/UDP_Bandlock_9S_Phone_BR/sm06/#01/data/udp_uplk_loss_latency.csv\n"
     ]
    },
    {
     "data": {
      "application/vnd.jupyter.widget-view+json": {
       "model_id": "cf2fd4be78ad4545a2bbd28b939430c4",
       "version_major": 2,
       "version_minor": 0
      },
      "text/plain": [
       "  0%|                                                                                                         …"
      ]
     },
     "metadata": {},
     "output_type": "display_data"
    },
    {
     "name": "stdout",
     "output_type": "stream",
     "text": [
      "/home/wmnlab/E/results/20240323_0800028652_new_dataset/dr_results/20240324_1800086626_new_dataset/20240324_20594600001_19be33d4a1a15a67_adjust/\\home\\wmnlab\\E\\database\\2024-03-19\\UDP_Bandlock_9S_Phone_BR\\sm01\\#01\\data\\udp_dnlk_loss_latency\\home\\wmnlab\\E\\database\\2024-03-19\\UDP_Bandlock_9S_Phone_BR\\sm06\\#01\\data\\udp_dnlk_loss_latency.csv\n",
      "13/72 /home/wmnlab/E/database/2024-03-19/UDP_Bandlock_9S_Phone_BR/sm01/#01/data/handover_info_log.csv\n",
      "13/72 /home/wmnlab/E/database/2024-03-19/UDP_Bandlock_9S_Phone_BR/sm01/#01/data/udp_dnlk_loss_latency.csv\n",
      "13/72 /home/wmnlab/E/database/2024-03-19/UDP_Bandlock_9S_Phone_BR/sm01/#01/data/udp_uplk_loss_latency.csv\n",
      "13/72 /home/wmnlab/E/database/2024-03-19/UDP_Bandlock_9S_Phone_BR/sm07/#01/data/handover_info_log.csv\n",
      "13/72 /home/wmnlab/E/database/2024-03-19/UDP_Bandlock_9S_Phone_BR/sm07/#01/data/udp_dnlk_loss_latency.csv\n",
      "13/72 /home/wmnlab/E/database/2024-03-19/UDP_Bandlock_9S_Phone_BR/sm07/#01/data/udp_uplk_loss_latency.csv\n"
     ]
    },
    {
     "data": {
      "application/vnd.jupyter.widget-view+json": {
       "model_id": "a1fb569981fa47fd9a0bd53654d852eb",
       "version_major": 2,
       "version_minor": 0
      },
      "text/plain": [
       "  0%|                                                                                                         …"
      ]
     },
     "metadata": {},
     "output_type": "display_data"
    },
    {
     "name": "stdout",
     "output_type": "stream",
     "text": [
      "/home/wmnlab/E/results/20240323_0800028652_new_dataset/dr_results/20240324_1800086626_new_dataset/20240324_20594600001_19be33d4a1a15a67_adjust/\\home\\wmnlab\\E\\database\\2024-03-19\\UDP_Bandlock_9S_Phone_BR\\sm01\\#01\\data\\udp_dnlk_loss_latency\\home\\wmnlab\\E\\database\\2024-03-19\\UDP_Bandlock_9S_Phone_BR\\sm07\\#01\\data\\udp_dnlk_loss_latency.csv\n",
      "14/72 /home/wmnlab/E/database/2024-03-19/UDP_Bandlock_9S_Phone_BR/sm01/#01/data/handover_info_log.csv\n",
      "14/72 /home/wmnlab/E/database/2024-03-19/UDP_Bandlock_9S_Phone_BR/sm01/#01/data/udp_dnlk_loss_latency.csv\n",
      "14/72 /home/wmnlab/E/database/2024-03-19/UDP_Bandlock_9S_Phone_BR/sm01/#01/data/udp_uplk_loss_latency.csv\n",
      "14/72 /home/wmnlab/E/database/2024-03-19/UDP_Bandlock_9S_Phone_BR/sm08/#01/data/handover_info_log.csv\n",
      "14/72 /home/wmnlab/E/database/2024-03-19/UDP_Bandlock_9S_Phone_BR/sm08/#01/data/udp_dnlk_loss_latency.csv\n",
      "14/72 /home/wmnlab/E/database/2024-03-19/UDP_Bandlock_9S_Phone_BR/sm08/#01/data/udp_uplk_loss_latency.csv\n"
     ]
    },
    {
     "data": {
      "application/vnd.jupyter.widget-view+json": {
       "model_id": "467688a02e18472d9cca39e9f86f9f4f",
       "version_major": 2,
       "version_minor": 0
      },
      "text/plain": [
       "  0%|                                                                                                         …"
      ]
     },
     "metadata": {},
     "output_type": "display_data"
    },
    {
     "name": "stdout",
     "output_type": "stream",
     "text": [
      "/home/wmnlab/E/results/20240323_0800028652_new_dataset/dr_results/20240324_1800086626_new_dataset/20240324_20594600001_19be33d4a1a15a67_adjust/\\home\\wmnlab\\E\\database\\2024-03-19\\UDP_Bandlock_9S_Phone_BR\\sm01\\#01\\data\\udp_dnlk_loss_latency\\home\\wmnlab\\E\\database\\2024-03-19\\UDP_Bandlock_9S_Phone_BR\\sm08\\#01\\data\\udp_dnlk_loss_latency.csv\n",
      "15/72 /home/wmnlab/E/database/2024-03-19/UDP_Bandlock_9S_Phone_BR/sm02/#01/data/handover_info_log.csv\n",
      "15/72 /home/wmnlab/E/database/2024-03-19/UDP_Bandlock_9S_Phone_BR/sm02/#01/data/udp_dnlk_loss_latency.csv\n",
      "15/72 /home/wmnlab/E/database/2024-03-19/UDP_Bandlock_9S_Phone_BR/sm02/#01/data/udp_uplk_loss_latency.csv\n",
      "15/72 /home/wmnlab/E/database/2024-03-19/UDP_Bandlock_9S_Phone_BR/sm03/#01/data/handover_info_log.csv\n",
      "15/72 /home/wmnlab/E/database/2024-03-19/UDP_Bandlock_9S_Phone_BR/sm03/#01/data/udp_dnlk_loss_latency.csv\n",
      "15/72 /home/wmnlab/E/database/2024-03-19/UDP_Bandlock_9S_Phone_BR/sm03/#01/data/udp_uplk_loss_latency.csv\n"
     ]
    },
    {
     "data": {
      "application/vnd.jupyter.widget-view+json": {
       "model_id": "0bcdb1ddf77d419da3777aef7ee0e1c0",
       "version_major": 2,
       "version_minor": 0
      },
      "text/plain": [
       "  0%|                                                                                                         …"
      ]
     },
     "metadata": {},
     "output_type": "display_data"
    },
    {
     "name": "stdout",
     "output_type": "stream",
     "text": [
      "/home/wmnlab/E/results/20240323_0800028652_new_dataset/dr_results/20240324_1800086626_new_dataset/20240324_20594600001_19be33d4a1a15a67_adjust/\\home\\wmnlab\\E\\database\\2024-03-19\\UDP_Bandlock_9S_Phone_BR\\sm02\\#01\\data\\udp_dnlk_loss_latency\\home\\wmnlab\\E\\database\\2024-03-19\\UDP_Bandlock_9S_Phone_BR\\sm03\\#01\\data\\udp_dnlk_loss_latency.csv\n",
      "16/72 /home/wmnlab/E/database/2024-03-19/UDP_Bandlock_9S_Phone_BR/sm02/#01/data/handover_info_log.csv\n",
      "16/72 /home/wmnlab/E/database/2024-03-19/UDP_Bandlock_9S_Phone_BR/sm02/#01/data/udp_dnlk_loss_latency.csv\n",
      "16/72 /home/wmnlab/E/database/2024-03-19/UDP_Bandlock_9S_Phone_BR/sm02/#01/data/udp_uplk_loss_latency.csv\n",
      "16/72 /home/wmnlab/E/database/2024-03-19/UDP_Bandlock_9S_Phone_BR/sm04/#01/data/handover_info_log.csv\n",
      "16/72 /home/wmnlab/E/database/2024-03-19/UDP_Bandlock_9S_Phone_BR/sm04/#01/data/udp_dnlk_loss_latency.csv\n",
      "16/72 /home/wmnlab/E/database/2024-03-19/UDP_Bandlock_9S_Phone_BR/sm04/#01/data/udp_uplk_loss_latency.csv\n"
     ]
    },
    {
     "data": {
      "application/vnd.jupyter.widget-view+json": {
       "model_id": "b227277152084369949a1d63a81b6db8",
       "version_major": 2,
       "version_minor": 0
      },
      "text/plain": [
       "  0%|                                                                                                         …"
      ]
     },
     "metadata": {},
     "output_type": "display_data"
    },
    {
     "name": "stdout",
     "output_type": "stream",
     "text": [
      "/home/wmnlab/E/results/20240323_0800028652_new_dataset/dr_results/20240324_1800086626_new_dataset/20240324_20594600001_19be33d4a1a15a67_adjust/\\home\\wmnlab\\E\\database\\2024-03-19\\UDP_Bandlock_9S_Phone_BR\\sm02\\#01\\data\\udp_dnlk_loss_latency\\home\\wmnlab\\E\\database\\2024-03-19\\UDP_Bandlock_9S_Phone_BR\\sm04\\#01\\data\\udp_dnlk_loss_latency.csv\n",
      "17/72 /home/wmnlab/E/database/2024-03-19/UDP_Bandlock_9S_Phone_BR/sm02/#01/data/handover_info_log.csv\n",
      "17/72 /home/wmnlab/E/database/2024-03-19/UDP_Bandlock_9S_Phone_BR/sm02/#01/data/udp_dnlk_loss_latency.csv\n",
      "17/72 /home/wmnlab/E/database/2024-03-19/UDP_Bandlock_9S_Phone_BR/sm02/#01/data/udp_uplk_loss_latency.csv\n",
      "17/72 /home/wmnlab/E/database/2024-03-19/UDP_Bandlock_9S_Phone_BR/sm05/#01/data/handover_info_log.csv\n",
      "17/72 /home/wmnlab/E/database/2024-03-19/UDP_Bandlock_9S_Phone_BR/sm05/#01/data/udp_dnlk_loss_latency.csv\n",
      "17/72 /home/wmnlab/E/database/2024-03-19/UDP_Bandlock_9S_Phone_BR/sm05/#01/data/udp_uplk_loss_latency.csv\n"
     ]
    },
    {
     "data": {
      "application/vnd.jupyter.widget-view+json": {
       "model_id": "1c6af911f0a648f3a6f04a87839300c4",
       "version_major": 2,
       "version_minor": 0
      },
      "text/plain": [
       "  0%|                                                                                                         …"
      ]
     },
     "metadata": {},
     "output_type": "display_data"
    },
    {
     "name": "stdout",
     "output_type": "stream",
     "text": [
      "/home/wmnlab/E/results/20240323_0800028652_new_dataset/dr_results/20240324_1800086626_new_dataset/20240324_20594600001_19be33d4a1a15a67_adjust/\\home\\wmnlab\\E\\database\\2024-03-19\\UDP_Bandlock_9S_Phone_BR\\sm02\\#01\\data\\udp_dnlk_loss_latency\\home\\wmnlab\\E\\database\\2024-03-19\\UDP_Bandlock_9S_Phone_BR\\sm05\\#01\\data\\udp_dnlk_loss_latency.csv\n",
      "18/72 /home/wmnlab/E/database/2024-03-19/UDP_Bandlock_9S_Phone_BR/sm02/#01/data/handover_info_log.csv\n",
      "18/72 /home/wmnlab/E/database/2024-03-19/UDP_Bandlock_9S_Phone_BR/sm02/#01/data/udp_dnlk_loss_latency.csv\n",
      "18/72 /home/wmnlab/E/database/2024-03-19/UDP_Bandlock_9S_Phone_BR/sm02/#01/data/udp_uplk_loss_latency.csv\n",
      "18/72 /home/wmnlab/E/database/2024-03-19/UDP_Bandlock_9S_Phone_BR/sm06/#01/data/handover_info_log.csv\n",
      "18/72 /home/wmnlab/E/database/2024-03-19/UDP_Bandlock_9S_Phone_BR/sm06/#01/data/udp_dnlk_loss_latency.csv\n",
      "18/72 /home/wmnlab/E/database/2024-03-19/UDP_Bandlock_9S_Phone_BR/sm06/#01/data/udp_uplk_loss_latency.csv\n"
     ]
    },
    {
     "data": {
      "application/vnd.jupyter.widget-view+json": {
       "model_id": "ad2eb5d986e04ebcb7d9fdc0cf3884d3",
       "version_major": 2,
       "version_minor": 0
      },
      "text/plain": [
       "  0%|                                                                                                         …"
      ]
     },
     "metadata": {},
     "output_type": "display_data"
    },
    {
     "name": "stdout",
     "output_type": "stream",
     "text": [
      "/home/wmnlab/E/results/20240323_0800028652_new_dataset/dr_results/20240324_1800086626_new_dataset/20240324_20594600001_19be33d4a1a15a67_adjust/\\home\\wmnlab\\E\\database\\2024-03-19\\UDP_Bandlock_9S_Phone_BR\\sm02\\#01\\data\\udp_dnlk_loss_latency\\home\\wmnlab\\E\\database\\2024-03-19\\UDP_Bandlock_9S_Phone_BR\\sm06\\#01\\data\\udp_dnlk_loss_latency.csv\n",
      "19/72 /home/wmnlab/E/database/2024-03-19/UDP_Bandlock_9S_Phone_BR/sm02/#01/data/handover_info_log.csv\n",
      "19/72 /home/wmnlab/E/database/2024-03-19/UDP_Bandlock_9S_Phone_BR/sm02/#01/data/udp_dnlk_loss_latency.csv\n",
      "19/72 /home/wmnlab/E/database/2024-03-19/UDP_Bandlock_9S_Phone_BR/sm02/#01/data/udp_uplk_loss_latency.csv\n",
      "19/72 /home/wmnlab/E/database/2024-03-19/UDP_Bandlock_9S_Phone_BR/sm07/#01/data/handover_info_log.csv\n",
      "19/72 /home/wmnlab/E/database/2024-03-19/UDP_Bandlock_9S_Phone_BR/sm07/#01/data/udp_dnlk_loss_latency.csv\n",
      "19/72 /home/wmnlab/E/database/2024-03-19/UDP_Bandlock_9S_Phone_BR/sm07/#01/data/udp_uplk_loss_latency.csv\n"
     ]
    },
    {
     "data": {
      "application/vnd.jupyter.widget-view+json": {
       "model_id": "b85e206de7b04a208f283886e0f9140f",
       "version_major": 2,
       "version_minor": 0
      },
      "text/plain": [
       "  0%|                                                                                                         …"
      ]
     },
     "metadata": {},
     "output_type": "display_data"
    },
    {
     "name": "stdout",
     "output_type": "stream",
     "text": [
      "/home/wmnlab/E/results/20240323_0800028652_new_dataset/dr_results/20240324_1800086626_new_dataset/20240324_20594600001_19be33d4a1a15a67_adjust/\\home\\wmnlab\\E\\database\\2024-03-19\\UDP_Bandlock_9S_Phone_BR\\sm02\\#01\\data\\udp_dnlk_loss_latency\\home\\wmnlab\\E\\database\\2024-03-19\\UDP_Bandlock_9S_Phone_BR\\sm07\\#01\\data\\udp_dnlk_loss_latency.csv\n",
      "20/72 /home/wmnlab/E/database/2024-03-19/UDP_Bandlock_9S_Phone_BR/sm02/#01/data/handover_info_log.csv\n",
      "20/72 /home/wmnlab/E/database/2024-03-19/UDP_Bandlock_9S_Phone_BR/sm02/#01/data/udp_dnlk_loss_latency.csv\n",
      "20/72 /home/wmnlab/E/database/2024-03-19/UDP_Bandlock_9S_Phone_BR/sm02/#01/data/udp_uplk_loss_latency.csv\n",
      "20/72 /home/wmnlab/E/database/2024-03-19/UDP_Bandlock_9S_Phone_BR/sm08/#01/data/handover_info_log.csv\n",
      "20/72 /home/wmnlab/E/database/2024-03-19/UDP_Bandlock_9S_Phone_BR/sm08/#01/data/udp_dnlk_loss_latency.csv\n",
      "20/72 /home/wmnlab/E/database/2024-03-19/UDP_Bandlock_9S_Phone_BR/sm08/#01/data/udp_uplk_loss_latency.csv\n"
     ]
    },
    {
     "data": {
      "application/vnd.jupyter.widget-view+json": {
       "model_id": "ad8b11fbf1484b08a38852e3d4304203",
       "version_major": 2,
       "version_minor": 0
      },
      "text/plain": [
       "  0%|                                                                                                         …"
      ]
     },
     "metadata": {},
     "output_type": "display_data"
    },
    {
     "name": "stdout",
     "output_type": "stream",
     "text": [
      "/home/wmnlab/E/results/20240323_0800028652_new_dataset/dr_results/20240324_1800086626_new_dataset/20240324_20594600001_19be33d4a1a15a67_adjust/\\home\\wmnlab\\E\\database\\2024-03-19\\UDP_Bandlock_9S_Phone_BR\\sm02\\#01\\data\\udp_dnlk_loss_latency\\home\\wmnlab\\E\\database\\2024-03-19\\UDP_Bandlock_9S_Phone_BR\\sm08\\#01\\data\\udp_dnlk_loss_latency.csv\n",
      "21/72 /home/wmnlab/E/database/2024-03-19/UDP_Bandlock_9S_Phone_BR/sm03/#01/data/handover_info_log.csv\n",
      "21/72 /home/wmnlab/E/database/2024-03-19/UDP_Bandlock_9S_Phone_BR/sm03/#01/data/udp_dnlk_loss_latency.csv\n",
      "21/72 /home/wmnlab/E/database/2024-03-19/UDP_Bandlock_9S_Phone_BR/sm03/#01/data/udp_uplk_loss_latency.csv\n",
      "21/72 /home/wmnlab/E/database/2024-03-19/UDP_Bandlock_9S_Phone_BR/sm04/#01/data/handover_info_log.csv\n",
      "21/72 /home/wmnlab/E/database/2024-03-19/UDP_Bandlock_9S_Phone_BR/sm04/#01/data/udp_dnlk_loss_latency.csv\n",
      "21/72 /home/wmnlab/E/database/2024-03-19/UDP_Bandlock_9S_Phone_BR/sm04/#01/data/udp_uplk_loss_latency.csv\n"
     ]
    },
    {
     "data": {
      "application/vnd.jupyter.widget-view+json": {
       "model_id": "0a29d753469a4d8a9c8d8e26a33f542f",
       "version_major": 2,
       "version_minor": 0
      },
      "text/plain": [
       "  0%|                                                                                                         …"
      ]
     },
     "metadata": {},
     "output_type": "display_data"
    },
    {
     "name": "stdout",
     "output_type": "stream",
     "text": [
      "/home/wmnlab/E/results/20240323_0800028652_new_dataset/dr_results/20240324_1800086626_new_dataset/20240324_20594600001_19be33d4a1a15a67_adjust/\\home\\wmnlab\\E\\database\\2024-03-19\\UDP_Bandlock_9S_Phone_BR\\sm03\\#01\\data\\udp_dnlk_loss_latency\\home\\wmnlab\\E\\database\\2024-03-19\\UDP_Bandlock_9S_Phone_BR\\sm04\\#01\\data\\udp_dnlk_loss_latency.csv\n",
      "22/72 /home/wmnlab/E/database/2024-03-19/UDP_Bandlock_9S_Phone_BR/sm03/#01/data/handover_info_log.csv\n",
      "22/72 /home/wmnlab/E/database/2024-03-19/UDP_Bandlock_9S_Phone_BR/sm03/#01/data/udp_dnlk_loss_latency.csv\n",
      "22/72 /home/wmnlab/E/database/2024-03-19/UDP_Bandlock_9S_Phone_BR/sm03/#01/data/udp_uplk_loss_latency.csv\n",
      "22/72 /home/wmnlab/E/database/2024-03-19/UDP_Bandlock_9S_Phone_BR/sm05/#01/data/handover_info_log.csv\n",
      "22/72 /home/wmnlab/E/database/2024-03-19/UDP_Bandlock_9S_Phone_BR/sm05/#01/data/udp_dnlk_loss_latency.csv\n",
      "22/72 /home/wmnlab/E/database/2024-03-19/UDP_Bandlock_9S_Phone_BR/sm05/#01/data/udp_uplk_loss_latency.csv\n"
     ]
    },
    {
     "data": {
      "application/vnd.jupyter.widget-view+json": {
       "model_id": "80f84b96d2a44bf6bc890e100dbe58bd",
       "version_major": 2,
       "version_minor": 0
      },
      "text/plain": [
       "  0%|                                                                                                         …"
      ]
     },
     "metadata": {},
     "output_type": "display_data"
    },
    {
     "name": "stdout",
     "output_type": "stream",
     "text": [
      "/home/wmnlab/E/results/20240323_0800028652_new_dataset/dr_results/20240324_1800086626_new_dataset/20240324_20594600001_19be33d4a1a15a67_adjust/\\home\\wmnlab\\E\\database\\2024-03-19\\UDP_Bandlock_9S_Phone_BR\\sm03\\#01\\data\\udp_dnlk_loss_latency\\home\\wmnlab\\E\\database\\2024-03-19\\UDP_Bandlock_9S_Phone_BR\\sm05\\#01\\data\\udp_dnlk_loss_latency.csv\n",
      "23/72 /home/wmnlab/E/database/2024-03-19/UDP_Bandlock_9S_Phone_BR/sm03/#01/data/handover_info_log.csv\n",
      "23/72 /home/wmnlab/E/database/2024-03-19/UDP_Bandlock_9S_Phone_BR/sm03/#01/data/udp_dnlk_loss_latency.csv\n",
      "23/72 /home/wmnlab/E/database/2024-03-19/UDP_Bandlock_9S_Phone_BR/sm03/#01/data/udp_uplk_loss_latency.csv\n",
      "23/72 /home/wmnlab/E/database/2024-03-19/UDP_Bandlock_9S_Phone_BR/sm06/#01/data/handover_info_log.csv\n",
      "23/72 /home/wmnlab/E/database/2024-03-19/UDP_Bandlock_9S_Phone_BR/sm06/#01/data/udp_dnlk_loss_latency.csv\n",
      "23/72 /home/wmnlab/E/database/2024-03-19/UDP_Bandlock_9S_Phone_BR/sm06/#01/data/udp_uplk_loss_latency.csv\n"
     ]
    },
    {
     "data": {
      "application/vnd.jupyter.widget-view+json": {
       "model_id": "3c50ffa2d3184f61a64d2d678f6ddeba",
       "version_major": 2,
       "version_minor": 0
      },
      "text/plain": [
       "  0%|                                                                                                         …"
      ]
     },
     "metadata": {},
     "output_type": "display_data"
    },
    {
     "name": "stdout",
     "output_type": "stream",
     "text": [
      "/home/wmnlab/E/results/20240323_0800028652_new_dataset/dr_results/20240324_1800086626_new_dataset/20240324_20594600001_19be33d4a1a15a67_adjust/\\home\\wmnlab\\E\\database\\2024-03-19\\UDP_Bandlock_9S_Phone_BR\\sm03\\#01\\data\\udp_dnlk_loss_latency\\home\\wmnlab\\E\\database\\2024-03-19\\UDP_Bandlock_9S_Phone_BR\\sm06\\#01\\data\\udp_dnlk_loss_latency.csv\n",
      "24/72 /home/wmnlab/E/database/2024-03-19/UDP_Bandlock_9S_Phone_BR/sm03/#01/data/handover_info_log.csv\n",
      "24/72 /home/wmnlab/E/database/2024-03-19/UDP_Bandlock_9S_Phone_BR/sm03/#01/data/udp_dnlk_loss_latency.csv\n",
      "24/72 /home/wmnlab/E/database/2024-03-19/UDP_Bandlock_9S_Phone_BR/sm03/#01/data/udp_uplk_loss_latency.csv\n",
      "24/72 /home/wmnlab/E/database/2024-03-19/UDP_Bandlock_9S_Phone_BR/sm07/#01/data/handover_info_log.csv\n",
      "24/72 /home/wmnlab/E/database/2024-03-19/UDP_Bandlock_9S_Phone_BR/sm07/#01/data/udp_dnlk_loss_latency.csv\n",
      "24/72 /home/wmnlab/E/database/2024-03-19/UDP_Bandlock_9S_Phone_BR/sm07/#01/data/udp_uplk_loss_latency.csv\n"
     ]
    },
    {
     "data": {
      "application/vnd.jupyter.widget-view+json": {
       "model_id": "aee3a65114704715aec579790a188809",
       "version_major": 2,
       "version_minor": 0
      },
      "text/plain": [
       "  0%|                                                                                                         …"
      ]
     },
     "metadata": {},
     "output_type": "display_data"
    },
    {
     "name": "stdout",
     "output_type": "stream",
     "text": [
      "/home/wmnlab/E/results/20240323_0800028652_new_dataset/dr_results/20240324_1800086626_new_dataset/20240324_20594600001_19be33d4a1a15a67_adjust/\\home\\wmnlab\\E\\database\\2024-03-19\\UDP_Bandlock_9S_Phone_BR\\sm03\\#01\\data\\udp_dnlk_loss_latency\\home\\wmnlab\\E\\database\\2024-03-19\\UDP_Bandlock_9S_Phone_BR\\sm07\\#01\\data\\udp_dnlk_loss_latency.csv\n",
      "25/72 /home/wmnlab/E/database/2024-03-19/UDP_Bandlock_9S_Phone_BR/sm03/#01/data/handover_info_log.csv\n",
      "25/72 /home/wmnlab/E/database/2024-03-19/UDP_Bandlock_9S_Phone_BR/sm03/#01/data/udp_dnlk_loss_latency.csv\n",
      "25/72 /home/wmnlab/E/database/2024-03-19/UDP_Bandlock_9S_Phone_BR/sm03/#01/data/udp_uplk_loss_latency.csv\n",
      "25/72 /home/wmnlab/E/database/2024-03-19/UDP_Bandlock_9S_Phone_BR/sm08/#01/data/handover_info_log.csv\n",
      "25/72 /home/wmnlab/E/database/2024-03-19/UDP_Bandlock_9S_Phone_BR/sm08/#01/data/udp_dnlk_loss_latency.csv\n",
      "25/72 /home/wmnlab/E/database/2024-03-19/UDP_Bandlock_9S_Phone_BR/sm08/#01/data/udp_uplk_loss_latency.csv\n"
     ]
    },
    {
     "data": {
      "application/vnd.jupyter.widget-view+json": {
       "model_id": "54d36742047e4f7cbe8232d037268156",
       "version_major": 2,
       "version_minor": 0
      },
      "text/plain": [
       "  0%|                                                                                                         …"
      ]
     },
     "metadata": {},
     "output_type": "display_data"
    },
    {
     "name": "stdout",
     "output_type": "stream",
     "text": [
      "/home/wmnlab/E/results/20240323_0800028652_new_dataset/dr_results/20240324_1800086626_new_dataset/20240324_20594600001_19be33d4a1a15a67_adjust/\\home\\wmnlab\\E\\database\\2024-03-19\\UDP_Bandlock_9S_Phone_BR\\sm03\\#01\\data\\udp_dnlk_loss_latency\\home\\wmnlab\\E\\database\\2024-03-19\\UDP_Bandlock_9S_Phone_BR\\sm08\\#01\\data\\udp_dnlk_loss_latency.csv\n",
      "26/72 /home/wmnlab/E/database/2024-03-19/UDP_Bandlock_9S_Phone_BR/sm04/#01/data/handover_info_log.csv\n",
      "26/72 /home/wmnlab/E/database/2024-03-19/UDP_Bandlock_9S_Phone_BR/sm04/#01/data/udp_dnlk_loss_latency.csv\n",
      "26/72 /home/wmnlab/E/database/2024-03-19/UDP_Bandlock_9S_Phone_BR/sm04/#01/data/udp_uplk_loss_latency.csv\n",
      "26/72 /home/wmnlab/E/database/2024-03-19/UDP_Bandlock_9S_Phone_BR/sm05/#01/data/handover_info_log.csv\n",
      "26/72 /home/wmnlab/E/database/2024-03-19/UDP_Bandlock_9S_Phone_BR/sm05/#01/data/udp_dnlk_loss_latency.csv\n",
      "26/72 /home/wmnlab/E/database/2024-03-19/UDP_Bandlock_9S_Phone_BR/sm05/#01/data/udp_uplk_loss_latency.csv\n"
     ]
    },
    {
     "data": {
      "application/vnd.jupyter.widget-view+json": {
       "model_id": "868d51e6994b487db40873adca8b8d73",
       "version_major": 2,
       "version_minor": 0
      },
      "text/plain": [
       "  0%|                                                                                                         …"
      ]
     },
     "metadata": {},
     "output_type": "display_data"
    },
    {
     "name": "stdout",
     "output_type": "stream",
     "text": [
      "/home/wmnlab/E/results/20240323_0800028652_new_dataset/dr_results/20240324_1800086626_new_dataset/20240324_20594600001_19be33d4a1a15a67_adjust/\\home\\wmnlab\\E\\database\\2024-03-19\\UDP_Bandlock_9S_Phone_BR\\sm04\\#01\\data\\udp_dnlk_loss_latency\\home\\wmnlab\\E\\database\\2024-03-19\\UDP_Bandlock_9S_Phone_BR\\sm05\\#01\\data\\udp_dnlk_loss_latency.csv\n",
      "27/72 /home/wmnlab/E/database/2024-03-19/UDP_Bandlock_9S_Phone_BR/sm04/#01/data/handover_info_log.csv\n",
      "27/72 /home/wmnlab/E/database/2024-03-19/UDP_Bandlock_9S_Phone_BR/sm04/#01/data/udp_dnlk_loss_latency.csv\n",
      "27/72 /home/wmnlab/E/database/2024-03-19/UDP_Bandlock_9S_Phone_BR/sm04/#01/data/udp_uplk_loss_latency.csv\n",
      "27/72 /home/wmnlab/E/database/2024-03-19/UDP_Bandlock_9S_Phone_BR/sm06/#01/data/handover_info_log.csv\n",
      "27/72 /home/wmnlab/E/database/2024-03-19/UDP_Bandlock_9S_Phone_BR/sm06/#01/data/udp_dnlk_loss_latency.csv\n",
      "27/72 /home/wmnlab/E/database/2024-03-19/UDP_Bandlock_9S_Phone_BR/sm06/#01/data/udp_uplk_loss_latency.csv\n"
     ]
    },
    {
     "data": {
      "application/vnd.jupyter.widget-view+json": {
       "model_id": "6a16778992ad439fbdd92a4b9df6b3a7",
       "version_major": 2,
       "version_minor": 0
      },
      "text/plain": [
       "  0%|                                                                                                         …"
      ]
     },
     "metadata": {},
     "output_type": "display_data"
    },
    {
     "name": "stdout",
     "output_type": "stream",
     "text": [
      "/home/wmnlab/E/results/20240323_0800028652_new_dataset/dr_results/20240324_1800086626_new_dataset/20240324_20594600001_19be33d4a1a15a67_adjust/\\home\\wmnlab\\E\\database\\2024-03-19\\UDP_Bandlock_9S_Phone_BR\\sm04\\#01\\data\\udp_dnlk_loss_latency\\home\\wmnlab\\E\\database\\2024-03-19\\UDP_Bandlock_9S_Phone_BR\\sm06\\#01\\data\\udp_dnlk_loss_latency.csv\n",
      "28/72 /home/wmnlab/E/database/2024-03-19/UDP_Bandlock_9S_Phone_BR/sm04/#01/data/handover_info_log.csv\n",
      "28/72 /home/wmnlab/E/database/2024-03-19/UDP_Bandlock_9S_Phone_BR/sm04/#01/data/udp_dnlk_loss_latency.csv\n",
      "28/72 /home/wmnlab/E/database/2024-03-19/UDP_Bandlock_9S_Phone_BR/sm04/#01/data/udp_uplk_loss_latency.csv\n",
      "28/72 /home/wmnlab/E/database/2024-03-19/UDP_Bandlock_9S_Phone_BR/sm07/#01/data/handover_info_log.csv\n",
      "28/72 /home/wmnlab/E/database/2024-03-19/UDP_Bandlock_9S_Phone_BR/sm07/#01/data/udp_dnlk_loss_latency.csv\n",
      "28/72 /home/wmnlab/E/database/2024-03-19/UDP_Bandlock_9S_Phone_BR/sm07/#01/data/udp_uplk_loss_latency.csv\n"
     ]
    },
    {
     "data": {
      "application/vnd.jupyter.widget-view+json": {
       "model_id": "92a77eace1924c61958acb69ba67f74d",
       "version_major": 2,
       "version_minor": 0
      },
      "text/plain": [
       "  0%|                                                                                                         …"
      ]
     },
     "metadata": {},
     "output_type": "display_data"
    },
    {
     "name": "stdout",
     "output_type": "stream",
     "text": [
      "/home/wmnlab/E/results/20240323_0800028652_new_dataset/dr_results/20240324_1800086626_new_dataset/20240324_20594600001_19be33d4a1a15a67_adjust/\\home\\wmnlab\\E\\database\\2024-03-19\\UDP_Bandlock_9S_Phone_BR\\sm04\\#01\\data\\udp_dnlk_loss_latency\\home\\wmnlab\\E\\database\\2024-03-19\\UDP_Bandlock_9S_Phone_BR\\sm07\\#01\\data\\udp_dnlk_loss_latency.csv\n",
      "29/72 /home/wmnlab/E/database/2024-03-19/UDP_Bandlock_9S_Phone_BR/sm04/#01/data/handover_info_log.csv\n",
      "29/72 /home/wmnlab/E/database/2024-03-19/UDP_Bandlock_9S_Phone_BR/sm04/#01/data/udp_dnlk_loss_latency.csv\n",
      "29/72 /home/wmnlab/E/database/2024-03-19/UDP_Bandlock_9S_Phone_BR/sm04/#01/data/udp_uplk_loss_latency.csv\n",
      "29/72 /home/wmnlab/E/database/2024-03-19/UDP_Bandlock_9S_Phone_BR/sm08/#01/data/handover_info_log.csv\n",
      "29/72 /home/wmnlab/E/database/2024-03-19/UDP_Bandlock_9S_Phone_BR/sm08/#01/data/udp_dnlk_loss_latency.csv\n",
      "29/72 /home/wmnlab/E/database/2024-03-19/UDP_Bandlock_9S_Phone_BR/sm08/#01/data/udp_uplk_loss_latency.csv\n"
     ]
    },
    {
     "data": {
      "application/vnd.jupyter.widget-view+json": {
       "model_id": "293bd85cc9fd472a996eb2090a35584f",
       "version_major": 2,
       "version_minor": 0
      },
      "text/plain": [
       "  0%|                                                                                                         …"
      ]
     },
     "metadata": {},
     "output_type": "display_data"
    },
    {
     "name": "stdout",
     "output_type": "stream",
     "text": [
      "/home/wmnlab/E/results/20240323_0800028652_new_dataset/dr_results/20240324_1800086626_new_dataset/20240324_20594600001_19be33d4a1a15a67_adjust/\\home\\wmnlab\\E\\database\\2024-03-19\\UDP_Bandlock_9S_Phone_BR\\sm04\\#01\\data\\udp_dnlk_loss_latency\\home\\wmnlab\\E\\database\\2024-03-19\\UDP_Bandlock_9S_Phone_BR\\sm08\\#01\\data\\udp_dnlk_loss_latency.csv\n",
      "30/72 /home/wmnlab/E/database/2024-03-19/UDP_Bandlock_9S_Phone_BR/sm05/#01/data/handover_info_log.csv\n",
      "30/72 /home/wmnlab/E/database/2024-03-19/UDP_Bandlock_9S_Phone_BR/sm05/#01/data/udp_dnlk_loss_latency.csv\n",
      "30/72 /home/wmnlab/E/database/2024-03-19/UDP_Bandlock_9S_Phone_BR/sm05/#01/data/udp_uplk_loss_latency.csv\n",
      "30/72 /home/wmnlab/E/database/2024-03-19/UDP_Bandlock_9S_Phone_BR/sm06/#01/data/handover_info_log.csv\n",
      "30/72 /home/wmnlab/E/database/2024-03-19/UDP_Bandlock_9S_Phone_BR/sm06/#01/data/udp_dnlk_loss_latency.csv\n",
      "30/72 /home/wmnlab/E/database/2024-03-19/UDP_Bandlock_9S_Phone_BR/sm06/#01/data/udp_uplk_loss_latency.csv\n"
     ]
    },
    {
     "data": {
      "application/vnd.jupyter.widget-view+json": {
       "model_id": "c4ec5df804ca43c1b88b2aa72a449a69",
       "version_major": 2,
       "version_minor": 0
      },
      "text/plain": [
       "  0%|                                                                                                         …"
      ]
     },
     "metadata": {},
     "output_type": "display_data"
    },
    {
     "name": "stdout",
     "output_type": "stream",
     "text": [
      "/home/wmnlab/E/results/20240323_0800028652_new_dataset/dr_results/20240324_1800086626_new_dataset/20240324_20594600001_19be33d4a1a15a67_adjust/\\home\\wmnlab\\E\\database\\2024-03-19\\UDP_Bandlock_9S_Phone_BR\\sm05\\#01\\data\\udp_dnlk_loss_latency\\home\\wmnlab\\E\\database\\2024-03-19\\UDP_Bandlock_9S_Phone_BR\\sm06\\#01\\data\\udp_dnlk_loss_latency.csv\n",
      "31/72 /home/wmnlab/E/database/2024-03-19/UDP_Bandlock_9S_Phone_BR/sm05/#01/data/handover_info_log.csv\n",
      "31/72 /home/wmnlab/E/database/2024-03-19/UDP_Bandlock_9S_Phone_BR/sm05/#01/data/udp_dnlk_loss_latency.csv\n",
      "31/72 /home/wmnlab/E/database/2024-03-19/UDP_Bandlock_9S_Phone_BR/sm05/#01/data/udp_uplk_loss_latency.csv\n",
      "31/72 /home/wmnlab/E/database/2024-03-19/UDP_Bandlock_9S_Phone_BR/sm07/#01/data/handover_info_log.csv\n",
      "31/72 /home/wmnlab/E/database/2024-03-19/UDP_Bandlock_9S_Phone_BR/sm07/#01/data/udp_dnlk_loss_latency.csv\n",
      "31/72 /home/wmnlab/E/database/2024-03-19/UDP_Bandlock_9S_Phone_BR/sm07/#01/data/udp_uplk_loss_latency.csv\n"
     ]
    },
    {
     "data": {
      "application/vnd.jupyter.widget-view+json": {
       "model_id": "daac5186159648538ff777ace92c10d3",
       "version_major": 2,
       "version_minor": 0
      },
      "text/plain": [
       "  0%|                                                                                                         …"
      ]
     },
     "metadata": {},
     "output_type": "display_data"
    },
    {
     "name": "stdout",
     "output_type": "stream",
     "text": [
      "/home/wmnlab/E/results/20240323_0800028652_new_dataset/dr_results/20240324_1800086626_new_dataset/20240324_20594600001_19be33d4a1a15a67_adjust/\\home\\wmnlab\\E\\database\\2024-03-19\\UDP_Bandlock_9S_Phone_BR\\sm05\\#01\\data\\udp_dnlk_loss_latency\\home\\wmnlab\\E\\database\\2024-03-19\\UDP_Bandlock_9S_Phone_BR\\sm07\\#01\\data\\udp_dnlk_loss_latency.csv\n",
      "32/72 /home/wmnlab/E/database/2024-03-19/UDP_Bandlock_9S_Phone_BR/sm05/#01/data/handover_info_log.csv\n",
      "32/72 /home/wmnlab/E/database/2024-03-19/UDP_Bandlock_9S_Phone_BR/sm05/#01/data/udp_dnlk_loss_latency.csv\n",
      "32/72 /home/wmnlab/E/database/2024-03-19/UDP_Bandlock_9S_Phone_BR/sm05/#01/data/udp_uplk_loss_latency.csv\n",
      "32/72 /home/wmnlab/E/database/2024-03-19/UDP_Bandlock_9S_Phone_BR/sm08/#01/data/handover_info_log.csv\n",
      "32/72 /home/wmnlab/E/database/2024-03-19/UDP_Bandlock_9S_Phone_BR/sm08/#01/data/udp_dnlk_loss_latency.csv\n",
      "32/72 /home/wmnlab/E/database/2024-03-19/UDP_Bandlock_9S_Phone_BR/sm08/#01/data/udp_uplk_loss_latency.csv\n"
     ]
    },
    {
     "data": {
      "application/vnd.jupyter.widget-view+json": {
       "model_id": "1ff239fb021546478765a9313fabaf2c",
       "version_major": 2,
       "version_minor": 0
      },
      "text/plain": [
       "  0%|                                                                                                         …"
      ]
     },
     "metadata": {},
     "output_type": "display_data"
    },
    {
     "name": "stdout",
     "output_type": "stream",
     "text": [
      "/home/wmnlab/E/results/20240323_0800028652_new_dataset/dr_results/20240324_1800086626_new_dataset/20240324_20594600001_19be33d4a1a15a67_adjust/\\home\\wmnlab\\E\\database\\2024-03-19\\UDP_Bandlock_9S_Phone_BR\\sm05\\#01\\data\\udp_dnlk_loss_latency\\home\\wmnlab\\E\\database\\2024-03-19\\UDP_Bandlock_9S_Phone_BR\\sm08\\#01\\data\\udp_dnlk_loss_latency.csv\n",
      "33/72 /home/wmnlab/E/database/2024-03-19/UDP_Bandlock_9S_Phone_BR/sm06/#01/data/handover_info_log.csv\n",
      "33/72 /home/wmnlab/E/database/2024-03-19/UDP_Bandlock_9S_Phone_BR/sm06/#01/data/udp_dnlk_loss_latency.csv\n",
      "33/72 /home/wmnlab/E/database/2024-03-19/UDP_Bandlock_9S_Phone_BR/sm06/#01/data/udp_uplk_loss_latency.csv\n",
      "33/72 /home/wmnlab/E/database/2024-03-19/UDP_Bandlock_9S_Phone_BR/sm07/#01/data/handover_info_log.csv\n",
      "33/72 /home/wmnlab/E/database/2024-03-19/UDP_Bandlock_9S_Phone_BR/sm07/#01/data/udp_dnlk_loss_latency.csv\n",
      "33/72 /home/wmnlab/E/database/2024-03-19/UDP_Bandlock_9S_Phone_BR/sm07/#01/data/udp_uplk_loss_latency.csv\n"
     ]
    },
    {
     "data": {
      "application/vnd.jupyter.widget-view+json": {
       "model_id": "c221647758764b16aea3ba2cf438af8b",
       "version_major": 2,
       "version_minor": 0
      },
      "text/plain": [
       "  0%|                                                                                                         …"
      ]
     },
     "metadata": {},
     "output_type": "display_data"
    },
    {
     "name": "stdout",
     "output_type": "stream",
     "text": [
      "/home/wmnlab/E/results/20240323_0800028652_new_dataset/dr_results/20240324_1800086626_new_dataset/20240324_20594600001_19be33d4a1a15a67_adjust/\\home\\wmnlab\\E\\database\\2024-03-19\\UDP_Bandlock_9S_Phone_BR\\sm06\\#01\\data\\udp_dnlk_loss_latency\\home\\wmnlab\\E\\database\\2024-03-19\\UDP_Bandlock_9S_Phone_BR\\sm07\\#01\\data\\udp_dnlk_loss_latency.csv\n",
      "34/72 /home/wmnlab/E/database/2024-03-19/UDP_Bandlock_9S_Phone_BR/sm06/#01/data/handover_info_log.csv\n",
      "34/72 /home/wmnlab/E/database/2024-03-19/UDP_Bandlock_9S_Phone_BR/sm06/#01/data/udp_dnlk_loss_latency.csv\n",
      "34/72 /home/wmnlab/E/database/2024-03-19/UDP_Bandlock_9S_Phone_BR/sm06/#01/data/udp_uplk_loss_latency.csv\n",
      "34/72 /home/wmnlab/E/database/2024-03-19/UDP_Bandlock_9S_Phone_BR/sm08/#01/data/handover_info_log.csv\n",
      "34/72 /home/wmnlab/E/database/2024-03-19/UDP_Bandlock_9S_Phone_BR/sm08/#01/data/udp_dnlk_loss_latency.csv\n",
      "34/72 /home/wmnlab/E/database/2024-03-19/UDP_Bandlock_9S_Phone_BR/sm08/#01/data/udp_uplk_loss_latency.csv\n"
     ]
    },
    {
     "data": {
      "application/vnd.jupyter.widget-view+json": {
       "model_id": "0e0cbe20737f416ba62f2270dfe65d5b",
       "version_major": 2,
       "version_minor": 0
      },
      "text/plain": [
       "  0%|                                                                                                         …"
      ]
     },
     "metadata": {},
     "output_type": "display_data"
    },
    {
     "name": "stdout",
     "output_type": "stream",
     "text": [
      "/home/wmnlab/E/results/20240323_0800028652_new_dataset/dr_results/20240324_1800086626_new_dataset/20240324_20594600001_19be33d4a1a15a67_adjust/\\home\\wmnlab\\E\\database\\2024-03-19\\UDP_Bandlock_9S_Phone_BR\\sm06\\#01\\data\\udp_dnlk_loss_latency\\home\\wmnlab\\E\\database\\2024-03-19\\UDP_Bandlock_9S_Phone_BR\\sm08\\#01\\data\\udp_dnlk_loss_latency.csv\n",
      "35/72 /home/wmnlab/E/database/2024-03-19/UDP_Bandlock_9S_Phone_BR/sm07/#01/data/handover_info_log.csv\n",
      "35/72 /home/wmnlab/E/database/2024-03-19/UDP_Bandlock_9S_Phone_BR/sm07/#01/data/udp_dnlk_loss_latency.csv\n",
      "35/72 /home/wmnlab/E/database/2024-03-19/UDP_Bandlock_9S_Phone_BR/sm07/#01/data/udp_uplk_loss_latency.csv\n",
      "35/72 /home/wmnlab/E/database/2024-03-19/UDP_Bandlock_9S_Phone_BR/sm08/#01/data/handover_info_log.csv\n",
      "35/72 /home/wmnlab/E/database/2024-03-19/UDP_Bandlock_9S_Phone_BR/sm08/#01/data/udp_dnlk_loss_latency.csv\n",
      "35/72 /home/wmnlab/E/database/2024-03-19/UDP_Bandlock_9S_Phone_BR/sm08/#01/data/udp_uplk_loss_latency.csv\n"
     ]
    },
    {
     "data": {
      "application/vnd.jupyter.widget-view+json": {
       "model_id": "97c7dc653af44fd9a424f7bef63accce",
       "version_major": 2,
       "version_minor": 0
      },
      "text/plain": [
       "  0%|                                                                                                         …"
      ]
     },
     "metadata": {},
     "output_type": "display_data"
    },
    {
     "name": "stdout",
     "output_type": "stream",
     "text": [
      "/home/wmnlab/E/results/20240323_0800028652_new_dataset/dr_results/20240324_1800086626_new_dataset/20240324_20594600001_19be33d4a1a15a67_adjust/\\home\\wmnlab\\E\\database\\2024-03-19\\UDP_Bandlock_9S_Phone_BR\\sm07\\#01\\data\\udp_dnlk_loss_latency\\home\\wmnlab\\E\\database\\2024-03-19\\UDP_Bandlock_9S_Phone_BR\\sm08\\#01\\data\\udp_dnlk_loss_latency.csv\n",
      "36/72 /home/wmnlab/E/database/2024-03-19/UDP_Bandlock_9S_Phone_BR/sm00/#02/data/handover_info_log.csv\n",
      "36/72 /home/wmnlab/E/database/2024-03-19/UDP_Bandlock_9S_Phone_BR/sm00/#02/data/udp_dnlk_loss_latency.csv\n",
      "36/72 /home/wmnlab/E/database/2024-03-19/UDP_Bandlock_9S_Phone_BR/sm00/#02/data/udp_uplk_loss_latency.csv\n",
      "36/72 /home/wmnlab/E/database/2024-03-19/UDP_Bandlock_9S_Phone_BR/sm01/#02/data/handover_info_log.csv\n",
      "36/72 /home/wmnlab/E/database/2024-03-19/UDP_Bandlock_9S_Phone_BR/sm01/#02/data/udp_dnlk_loss_latency.csv\n",
      "36/72 /home/wmnlab/E/database/2024-03-19/UDP_Bandlock_9S_Phone_BR/sm01/#02/data/udp_uplk_loss_latency.csv\n"
     ]
    },
    {
     "data": {
      "application/vnd.jupyter.widget-view+json": {
       "model_id": "b60fdcdd4e39498d872d13904e466d73",
       "version_major": 2,
       "version_minor": 0
      },
      "text/plain": [
       "  0%|                                                                                                         …"
      ]
     },
     "metadata": {},
     "output_type": "display_data"
    },
    {
     "name": "stdout",
     "output_type": "stream",
     "text": [
      "/home/wmnlab/E/results/20240323_0800028652_new_dataset/dr_results/20240324_1800086626_new_dataset/20240324_20594600001_19be33d4a1a15a67_adjust/\\home\\wmnlab\\E\\database\\2024-03-19\\UDP_Bandlock_9S_Phone_BR\\sm00\\#02\\data\\udp_dnlk_loss_latency\\home\\wmnlab\\E\\database\\2024-03-19\\UDP_Bandlock_9S_Phone_BR\\sm01\\#02\\data\\udp_dnlk_loss_latency.csv\n",
      "37/72 /home/wmnlab/E/database/2024-03-19/UDP_Bandlock_9S_Phone_BR/sm00/#02/data/handover_info_log.csv\n",
      "37/72 /home/wmnlab/E/database/2024-03-19/UDP_Bandlock_9S_Phone_BR/sm00/#02/data/udp_dnlk_loss_latency.csv\n",
      "37/72 /home/wmnlab/E/database/2024-03-19/UDP_Bandlock_9S_Phone_BR/sm00/#02/data/udp_uplk_loss_latency.csv\n",
      "37/72 /home/wmnlab/E/database/2024-03-19/UDP_Bandlock_9S_Phone_BR/sm02/#02/data/handover_info_log.csv\n",
      "37/72 /home/wmnlab/E/database/2024-03-19/UDP_Bandlock_9S_Phone_BR/sm02/#02/data/udp_dnlk_loss_latency.csv\n",
      "37/72 /home/wmnlab/E/database/2024-03-19/UDP_Bandlock_9S_Phone_BR/sm02/#02/data/udp_uplk_loss_latency.csv\n"
     ]
    },
    {
     "data": {
      "application/vnd.jupyter.widget-view+json": {
       "model_id": "e45240e550d34bd897959e92ad315716",
       "version_major": 2,
       "version_minor": 0
      },
      "text/plain": [
       "  0%|                                                                                                         …"
      ]
     },
     "metadata": {},
     "output_type": "display_data"
    },
    {
     "name": "stdout",
     "output_type": "stream",
     "text": [
      "/home/wmnlab/E/results/20240323_0800028652_new_dataset/dr_results/20240324_1800086626_new_dataset/20240324_20594600001_19be33d4a1a15a67_adjust/\\home\\wmnlab\\E\\database\\2024-03-19\\UDP_Bandlock_9S_Phone_BR\\sm00\\#02\\data\\udp_dnlk_loss_latency\\home\\wmnlab\\E\\database\\2024-03-19\\UDP_Bandlock_9S_Phone_BR\\sm02\\#02\\data\\udp_dnlk_loss_latency.csv\n",
      "38/72 /home/wmnlab/E/database/2024-03-19/UDP_Bandlock_9S_Phone_BR/sm00/#02/data/handover_info_log.csv\n",
      "38/72 /home/wmnlab/E/database/2024-03-19/UDP_Bandlock_9S_Phone_BR/sm00/#02/data/udp_dnlk_loss_latency.csv\n",
      "38/72 /home/wmnlab/E/database/2024-03-19/UDP_Bandlock_9S_Phone_BR/sm00/#02/data/udp_uplk_loss_latency.csv\n",
      "38/72 /home/wmnlab/E/database/2024-03-19/UDP_Bandlock_9S_Phone_BR/sm03/#02/data/handover_info_log.csv\n",
      "38/72 /home/wmnlab/E/database/2024-03-19/UDP_Bandlock_9S_Phone_BR/sm03/#02/data/udp_dnlk_loss_latency.csv\n",
      "38/72 /home/wmnlab/E/database/2024-03-19/UDP_Bandlock_9S_Phone_BR/sm03/#02/data/udp_uplk_loss_latency.csv\n"
     ]
    },
    {
     "data": {
      "application/vnd.jupyter.widget-view+json": {
       "model_id": "3c57444026624378a27ac6d49f422575",
       "version_major": 2,
       "version_minor": 0
      },
      "text/plain": [
       "  0%|                                                                                                         …"
      ]
     },
     "metadata": {},
     "output_type": "display_data"
    },
    {
     "name": "stdout",
     "output_type": "stream",
     "text": [
      "/home/wmnlab/E/results/20240323_0800028652_new_dataset/dr_results/20240324_1800086626_new_dataset/20240324_20594600001_19be33d4a1a15a67_adjust/\\home\\wmnlab\\E\\database\\2024-03-19\\UDP_Bandlock_9S_Phone_BR\\sm00\\#02\\data\\udp_dnlk_loss_latency\\home\\wmnlab\\E\\database\\2024-03-19\\UDP_Bandlock_9S_Phone_BR\\sm03\\#02\\data\\udp_dnlk_loss_latency.csv\n",
      "39/72 /home/wmnlab/E/database/2024-03-19/UDP_Bandlock_9S_Phone_BR/sm00/#02/data/handover_info_log.csv\n",
      "39/72 /home/wmnlab/E/database/2024-03-19/UDP_Bandlock_9S_Phone_BR/sm00/#02/data/udp_dnlk_loss_latency.csv\n",
      "39/72 /home/wmnlab/E/database/2024-03-19/UDP_Bandlock_9S_Phone_BR/sm00/#02/data/udp_uplk_loss_latency.csv\n",
      "39/72 /home/wmnlab/E/database/2024-03-19/UDP_Bandlock_9S_Phone_BR/sm04/#02/data/handover_info_log.csv\n",
      "39/72 /home/wmnlab/E/database/2024-03-19/UDP_Bandlock_9S_Phone_BR/sm04/#02/data/udp_dnlk_loss_latency.csv\n",
      "39/72 /home/wmnlab/E/database/2024-03-19/UDP_Bandlock_9S_Phone_BR/sm04/#02/data/udp_uplk_loss_latency.csv\n"
     ]
    },
    {
     "data": {
      "application/vnd.jupyter.widget-view+json": {
       "model_id": "cd440dc63f1c423e9a047b9b47f627e5",
       "version_major": 2,
       "version_minor": 0
      },
      "text/plain": [
       "  0%|                                                                                                         …"
      ]
     },
     "metadata": {},
     "output_type": "display_data"
    },
    {
     "name": "stdout",
     "output_type": "stream",
     "text": [
      "/home/wmnlab/E/results/20240323_0800028652_new_dataset/dr_results/20240324_1800086626_new_dataset/20240324_20594600001_19be33d4a1a15a67_adjust/\\home\\wmnlab\\E\\database\\2024-03-19\\UDP_Bandlock_9S_Phone_BR\\sm00\\#02\\data\\udp_dnlk_loss_latency\\home\\wmnlab\\E\\database\\2024-03-19\\UDP_Bandlock_9S_Phone_BR\\sm04\\#02\\data\\udp_dnlk_loss_latency.csv\n",
      "40/72 /home/wmnlab/E/database/2024-03-19/UDP_Bandlock_9S_Phone_BR/sm00/#02/data/handover_info_log.csv\n",
      "40/72 /home/wmnlab/E/database/2024-03-19/UDP_Bandlock_9S_Phone_BR/sm00/#02/data/udp_dnlk_loss_latency.csv\n",
      "40/72 /home/wmnlab/E/database/2024-03-19/UDP_Bandlock_9S_Phone_BR/sm00/#02/data/udp_uplk_loss_latency.csv\n",
      "40/72 /home/wmnlab/E/database/2024-03-19/UDP_Bandlock_9S_Phone_BR/sm05/#02/data/handover_info_log.csv\n",
      "40/72 /home/wmnlab/E/database/2024-03-19/UDP_Bandlock_9S_Phone_BR/sm05/#02/data/udp_dnlk_loss_latency.csv\n",
      "40/72 /home/wmnlab/E/database/2024-03-19/UDP_Bandlock_9S_Phone_BR/sm05/#02/data/udp_uplk_loss_latency.csv\n"
     ]
    },
    {
     "data": {
      "application/vnd.jupyter.widget-view+json": {
       "model_id": "0c8e15d061a04128aa65d3ade49b9dff",
       "version_major": 2,
       "version_minor": 0
      },
      "text/plain": [
       "  0%|                                                                                                         …"
      ]
     },
     "metadata": {},
     "output_type": "display_data"
    },
    {
     "name": "stdout",
     "output_type": "stream",
     "text": [
      "/home/wmnlab/E/results/20240323_0800028652_new_dataset/dr_results/20240324_1800086626_new_dataset/20240324_20594600001_19be33d4a1a15a67_adjust/\\home\\wmnlab\\E\\database\\2024-03-19\\UDP_Bandlock_9S_Phone_BR\\sm00\\#02\\data\\udp_dnlk_loss_latency\\home\\wmnlab\\E\\database\\2024-03-19\\UDP_Bandlock_9S_Phone_BR\\sm05\\#02\\data\\udp_dnlk_loss_latency.csv\n",
      "41/72 /home/wmnlab/E/database/2024-03-19/UDP_Bandlock_9S_Phone_BR/sm00/#02/data/handover_info_log.csv\n",
      "41/72 /home/wmnlab/E/database/2024-03-19/UDP_Bandlock_9S_Phone_BR/sm00/#02/data/udp_dnlk_loss_latency.csv\n",
      "41/72 /home/wmnlab/E/database/2024-03-19/UDP_Bandlock_9S_Phone_BR/sm00/#02/data/udp_uplk_loss_latency.csv\n",
      "41/72 /home/wmnlab/E/database/2024-03-19/UDP_Bandlock_9S_Phone_BR/sm06/#02/data/handover_info_log.csv\n",
      "41/72 /home/wmnlab/E/database/2024-03-19/UDP_Bandlock_9S_Phone_BR/sm06/#02/data/udp_dnlk_loss_latency.csv\n",
      "41/72 /home/wmnlab/E/database/2024-03-19/UDP_Bandlock_9S_Phone_BR/sm06/#02/data/udp_uplk_loss_latency.csv\n"
     ]
    },
    {
     "data": {
      "application/vnd.jupyter.widget-view+json": {
       "model_id": "a4f9f36e3e60409696e7576f2c682f83",
       "version_major": 2,
       "version_minor": 0
      },
      "text/plain": [
       "  0%|                                                                                                         …"
      ]
     },
     "metadata": {},
     "output_type": "display_data"
    },
    {
     "name": "stdout",
     "output_type": "stream",
     "text": [
      "/home/wmnlab/E/results/20240323_0800028652_new_dataset/dr_results/20240324_1800086626_new_dataset/20240324_20594600001_19be33d4a1a15a67_adjust/\\home\\wmnlab\\E\\database\\2024-03-19\\UDP_Bandlock_9S_Phone_BR\\sm00\\#02\\data\\udp_dnlk_loss_latency\\home\\wmnlab\\E\\database\\2024-03-19\\UDP_Bandlock_9S_Phone_BR\\sm06\\#02\\data\\udp_dnlk_loss_latency.csv\n",
      "42/72 /home/wmnlab/E/database/2024-03-19/UDP_Bandlock_9S_Phone_BR/sm00/#02/data/handover_info_log.csv\n",
      "42/72 /home/wmnlab/E/database/2024-03-19/UDP_Bandlock_9S_Phone_BR/sm00/#02/data/udp_dnlk_loss_latency.csv\n",
      "42/72 /home/wmnlab/E/database/2024-03-19/UDP_Bandlock_9S_Phone_BR/sm00/#02/data/udp_uplk_loss_latency.csv\n",
      "42/72 /home/wmnlab/E/database/2024-03-19/UDP_Bandlock_9S_Phone_BR/sm07/#02/data/handover_info_log.csv\n",
      "42/72 /home/wmnlab/E/database/2024-03-19/UDP_Bandlock_9S_Phone_BR/sm07/#02/data/udp_dnlk_loss_latency.csv\n",
      "42/72 /home/wmnlab/E/database/2024-03-19/UDP_Bandlock_9S_Phone_BR/sm07/#02/data/udp_uplk_loss_latency.csv\n"
     ]
    },
    {
     "data": {
      "application/vnd.jupyter.widget-view+json": {
       "model_id": "f45ccd9b68464d1396243b2594e449af",
       "version_major": 2,
       "version_minor": 0
      },
      "text/plain": [
       "  0%|                                                                                                         …"
      ]
     },
     "metadata": {},
     "output_type": "display_data"
    },
    {
     "name": "stdout",
     "output_type": "stream",
     "text": [
      "/home/wmnlab/E/results/20240323_0800028652_new_dataset/dr_results/20240324_1800086626_new_dataset/20240324_20594600001_19be33d4a1a15a67_adjust/\\home\\wmnlab\\E\\database\\2024-03-19\\UDP_Bandlock_9S_Phone_BR\\sm00\\#02\\data\\udp_dnlk_loss_latency\\home\\wmnlab\\E\\database\\2024-03-19\\UDP_Bandlock_9S_Phone_BR\\sm07\\#02\\data\\udp_dnlk_loss_latency.csv\n",
      "43/72 /home/wmnlab/E/database/2024-03-19/UDP_Bandlock_9S_Phone_BR/sm00/#02/data/handover_info_log.csv\n",
      "43/72 /home/wmnlab/E/database/2024-03-19/UDP_Bandlock_9S_Phone_BR/sm00/#02/data/udp_dnlk_loss_latency.csv\n",
      "43/72 /home/wmnlab/E/database/2024-03-19/UDP_Bandlock_9S_Phone_BR/sm00/#02/data/udp_uplk_loss_latency.csv\n",
      "43/72 /home/wmnlab/E/database/2024-03-19/UDP_Bandlock_9S_Phone_BR/sm08/#02/data/handover_info_log.csv\n",
      "43/72 /home/wmnlab/E/database/2024-03-19/UDP_Bandlock_9S_Phone_BR/sm08/#02/data/udp_dnlk_loss_latency.csv\n",
      "43/72 /home/wmnlab/E/database/2024-03-19/UDP_Bandlock_9S_Phone_BR/sm08/#02/data/udp_uplk_loss_latency.csv\n"
     ]
    },
    {
     "data": {
      "application/vnd.jupyter.widget-view+json": {
       "model_id": "a4c2114eb8474c5f944740fc5c9e222f",
       "version_major": 2,
       "version_minor": 0
      },
      "text/plain": [
       "  0%|                                                                                                         …"
      ]
     },
     "metadata": {},
     "output_type": "display_data"
    },
    {
     "name": "stdout",
     "output_type": "stream",
     "text": [
      "/home/wmnlab/E/results/20240323_0800028652_new_dataset/dr_results/20240324_1800086626_new_dataset/20240324_20594600001_19be33d4a1a15a67_adjust/\\home\\wmnlab\\E\\database\\2024-03-19\\UDP_Bandlock_9S_Phone_BR\\sm00\\#02\\data\\udp_dnlk_loss_latency\\home\\wmnlab\\E\\database\\2024-03-19\\UDP_Bandlock_9S_Phone_BR\\sm08\\#02\\data\\udp_dnlk_loss_latency.csv\n",
      "44/72 /home/wmnlab/E/database/2024-03-19/UDP_Bandlock_9S_Phone_BR/sm01/#02/data/handover_info_log.csv\n",
      "44/72 /home/wmnlab/E/database/2024-03-19/UDP_Bandlock_9S_Phone_BR/sm01/#02/data/udp_dnlk_loss_latency.csv\n",
      "44/72 /home/wmnlab/E/database/2024-03-19/UDP_Bandlock_9S_Phone_BR/sm01/#02/data/udp_uplk_loss_latency.csv\n",
      "44/72 /home/wmnlab/E/database/2024-03-19/UDP_Bandlock_9S_Phone_BR/sm02/#02/data/handover_info_log.csv\n",
      "44/72 /home/wmnlab/E/database/2024-03-19/UDP_Bandlock_9S_Phone_BR/sm02/#02/data/udp_dnlk_loss_latency.csv\n",
      "44/72 /home/wmnlab/E/database/2024-03-19/UDP_Bandlock_9S_Phone_BR/sm02/#02/data/udp_uplk_loss_latency.csv\n"
     ]
    },
    {
     "data": {
      "application/vnd.jupyter.widget-view+json": {
       "model_id": "94bd776f7b6b45a38fa93217efece635",
       "version_major": 2,
       "version_minor": 0
      },
      "text/plain": [
       "  0%|                                                                                                         …"
      ]
     },
     "metadata": {},
     "output_type": "display_data"
    },
    {
     "name": "stdout",
     "output_type": "stream",
     "text": [
      "/home/wmnlab/E/results/20240323_0800028652_new_dataset/dr_results/20240324_1800086626_new_dataset/20240324_20594600001_19be33d4a1a15a67_adjust/\\home\\wmnlab\\E\\database\\2024-03-19\\UDP_Bandlock_9S_Phone_BR\\sm01\\#02\\data\\udp_dnlk_loss_latency\\home\\wmnlab\\E\\database\\2024-03-19\\UDP_Bandlock_9S_Phone_BR\\sm02\\#02\\data\\udp_dnlk_loss_latency.csv\n",
      "45/72 /home/wmnlab/E/database/2024-03-19/UDP_Bandlock_9S_Phone_BR/sm01/#02/data/handover_info_log.csv\n",
      "45/72 /home/wmnlab/E/database/2024-03-19/UDP_Bandlock_9S_Phone_BR/sm01/#02/data/udp_dnlk_loss_latency.csv\n",
      "45/72 /home/wmnlab/E/database/2024-03-19/UDP_Bandlock_9S_Phone_BR/sm01/#02/data/udp_uplk_loss_latency.csv\n",
      "45/72 /home/wmnlab/E/database/2024-03-19/UDP_Bandlock_9S_Phone_BR/sm03/#02/data/handover_info_log.csv\n",
      "45/72 /home/wmnlab/E/database/2024-03-19/UDP_Bandlock_9S_Phone_BR/sm03/#02/data/udp_dnlk_loss_latency.csv\n",
      "45/72 /home/wmnlab/E/database/2024-03-19/UDP_Bandlock_9S_Phone_BR/sm03/#02/data/udp_uplk_loss_latency.csv\n"
     ]
    },
    {
     "data": {
      "application/vnd.jupyter.widget-view+json": {
       "model_id": "72d93895abe04b9a9c043b7aedd8ac91",
       "version_major": 2,
       "version_minor": 0
      },
      "text/plain": [
       "  0%|                                                                                                         …"
      ]
     },
     "metadata": {},
     "output_type": "display_data"
    },
    {
     "name": "stdout",
     "output_type": "stream",
     "text": [
      "/home/wmnlab/E/results/20240323_0800028652_new_dataset/dr_results/20240324_1800086626_new_dataset/20240324_20594600001_19be33d4a1a15a67_adjust/\\home\\wmnlab\\E\\database\\2024-03-19\\UDP_Bandlock_9S_Phone_BR\\sm01\\#02\\data\\udp_dnlk_loss_latency\\home\\wmnlab\\E\\database\\2024-03-19\\UDP_Bandlock_9S_Phone_BR\\sm03\\#02\\data\\udp_dnlk_loss_latency.csv\n",
      "46/72 /home/wmnlab/E/database/2024-03-19/UDP_Bandlock_9S_Phone_BR/sm01/#02/data/handover_info_log.csv\n",
      "46/72 /home/wmnlab/E/database/2024-03-19/UDP_Bandlock_9S_Phone_BR/sm01/#02/data/udp_dnlk_loss_latency.csv\n",
      "46/72 /home/wmnlab/E/database/2024-03-19/UDP_Bandlock_9S_Phone_BR/sm01/#02/data/udp_uplk_loss_latency.csv\n",
      "46/72 /home/wmnlab/E/database/2024-03-19/UDP_Bandlock_9S_Phone_BR/sm04/#02/data/handover_info_log.csv\n",
      "46/72 /home/wmnlab/E/database/2024-03-19/UDP_Bandlock_9S_Phone_BR/sm04/#02/data/udp_dnlk_loss_latency.csv\n",
      "46/72 /home/wmnlab/E/database/2024-03-19/UDP_Bandlock_9S_Phone_BR/sm04/#02/data/udp_uplk_loss_latency.csv\n"
     ]
    },
    {
     "data": {
      "application/vnd.jupyter.widget-view+json": {
       "model_id": "e7aad317369c4866b62422fa213c85e3",
       "version_major": 2,
       "version_minor": 0
      },
      "text/plain": [
       "  0%|                                                                                                         …"
      ]
     },
     "metadata": {},
     "output_type": "display_data"
    },
    {
     "name": "stdout",
     "output_type": "stream",
     "text": [
      "/home/wmnlab/E/results/20240323_0800028652_new_dataset/dr_results/20240324_1800086626_new_dataset/20240324_20594600001_19be33d4a1a15a67_adjust/\\home\\wmnlab\\E\\database\\2024-03-19\\UDP_Bandlock_9S_Phone_BR\\sm01\\#02\\data\\udp_dnlk_loss_latency\\home\\wmnlab\\E\\database\\2024-03-19\\UDP_Bandlock_9S_Phone_BR\\sm04\\#02\\data\\udp_dnlk_loss_latency.csv\n",
      "47/72 /home/wmnlab/E/database/2024-03-19/UDP_Bandlock_9S_Phone_BR/sm01/#02/data/handover_info_log.csv\n",
      "47/72 /home/wmnlab/E/database/2024-03-19/UDP_Bandlock_9S_Phone_BR/sm01/#02/data/udp_dnlk_loss_latency.csv\n",
      "47/72 /home/wmnlab/E/database/2024-03-19/UDP_Bandlock_9S_Phone_BR/sm01/#02/data/udp_uplk_loss_latency.csv\n",
      "47/72 /home/wmnlab/E/database/2024-03-19/UDP_Bandlock_9S_Phone_BR/sm05/#02/data/handover_info_log.csv\n",
      "47/72 /home/wmnlab/E/database/2024-03-19/UDP_Bandlock_9S_Phone_BR/sm05/#02/data/udp_dnlk_loss_latency.csv\n",
      "47/72 /home/wmnlab/E/database/2024-03-19/UDP_Bandlock_9S_Phone_BR/sm05/#02/data/udp_uplk_loss_latency.csv\n"
     ]
    },
    {
     "data": {
      "application/vnd.jupyter.widget-view+json": {
       "model_id": "7e7c7ea472d2412580ec60a3887b5cbd",
       "version_major": 2,
       "version_minor": 0
      },
      "text/plain": [
       "  0%|                                                                                                         …"
      ]
     },
     "metadata": {},
     "output_type": "display_data"
    },
    {
     "name": "stdout",
     "output_type": "stream",
     "text": [
      "/home/wmnlab/E/results/20240323_0800028652_new_dataset/dr_results/20240324_1800086626_new_dataset/20240324_20594600001_19be33d4a1a15a67_adjust/\\home\\wmnlab\\E\\database\\2024-03-19\\UDP_Bandlock_9S_Phone_BR\\sm01\\#02\\data\\udp_dnlk_loss_latency\\home\\wmnlab\\E\\database\\2024-03-19\\UDP_Bandlock_9S_Phone_BR\\sm05\\#02\\data\\udp_dnlk_loss_latency.csv\n",
      "48/72 /home/wmnlab/E/database/2024-03-19/UDP_Bandlock_9S_Phone_BR/sm01/#02/data/handover_info_log.csv\n",
      "48/72 /home/wmnlab/E/database/2024-03-19/UDP_Bandlock_9S_Phone_BR/sm01/#02/data/udp_dnlk_loss_latency.csv\n",
      "48/72 /home/wmnlab/E/database/2024-03-19/UDP_Bandlock_9S_Phone_BR/sm01/#02/data/udp_uplk_loss_latency.csv\n",
      "48/72 /home/wmnlab/E/database/2024-03-19/UDP_Bandlock_9S_Phone_BR/sm06/#02/data/handover_info_log.csv\n",
      "48/72 /home/wmnlab/E/database/2024-03-19/UDP_Bandlock_9S_Phone_BR/sm06/#02/data/udp_dnlk_loss_latency.csv\n",
      "48/72 /home/wmnlab/E/database/2024-03-19/UDP_Bandlock_9S_Phone_BR/sm06/#02/data/udp_uplk_loss_latency.csv\n"
     ]
    },
    {
     "data": {
      "application/vnd.jupyter.widget-view+json": {
       "model_id": "29eb87daa10b4288b5234f01bd7e8e5f",
       "version_major": 2,
       "version_minor": 0
      },
      "text/plain": [
       "  0%|                                                                                                         …"
      ]
     },
     "metadata": {},
     "output_type": "display_data"
    },
    {
     "name": "stdout",
     "output_type": "stream",
     "text": [
      "/home/wmnlab/E/results/20240323_0800028652_new_dataset/dr_results/20240324_1800086626_new_dataset/20240324_20594600001_19be33d4a1a15a67_adjust/\\home\\wmnlab\\E\\database\\2024-03-19\\UDP_Bandlock_9S_Phone_BR\\sm01\\#02\\data\\udp_dnlk_loss_latency\\home\\wmnlab\\E\\database\\2024-03-19\\UDP_Bandlock_9S_Phone_BR\\sm06\\#02\\data\\udp_dnlk_loss_latency.csv\n",
      "49/72 /home/wmnlab/E/database/2024-03-19/UDP_Bandlock_9S_Phone_BR/sm01/#02/data/handover_info_log.csv\n",
      "49/72 /home/wmnlab/E/database/2024-03-19/UDP_Bandlock_9S_Phone_BR/sm01/#02/data/udp_dnlk_loss_latency.csv\n",
      "49/72 /home/wmnlab/E/database/2024-03-19/UDP_Bandlock_9S_Phone_BR/sm01/#02/data/udp_uplk_loss_latency.csv\n",
      "49/72 /home/wmnlab/E/database/2024-03-19/UDP_Bandlock_9S_Phone_BR/sm07/#02/data/handover_info_log.csv\n",
      "49/72 /home/wmnlab/E/database/2024-03-19/UDP_Bandlock_9S_Phone_BR/sm07/#02/data/udp_dnlk_loss_latency.csv\n",
      "49/72 /home/wmnlab/E/database/2024-03-19/UDP_Bandlock_9S_Phone_BR/sm07/#02/data/udp_uplk_loss_latency.csv\n"
     ]
    },
    {
     "data": {
      "application/vnd.jupyter.widget-view+json": {
       "model_id": "24cd55159d924756a0b385f99624a513",
       "version_major": 2,
       "version_minor": 0
      },
      "text/plain": [
       "  0%|                                                                                                         …"
      ]
     },
     "metadata": {},
     "output_type": "display_data"
    },
    {
     "name": "stdout",
     "output_type": "stream",
     "text": [
      "/home/wmnlab/E/results/20240323_0800028652_new_dataset/dr_results/20240324_1800086626_new_dataset/20240324_20594600001_19be33d4a1a15a67_adjust/\\home\\wmnlab\\E\\database\\2024-03-19\\UDP_Bandlock_9S_Phone_BR\\sm01\\#02\\data\\udp_dnlk_loss_latency\\home\\wmnlab\\E\\database\\2024-03-19\\UDP_Bandlock_9S_Phone_BR\\sm07\\#02\\data\\udp_dnlk_loss_latency.csv\n",
      "50/72 /home/wmnlab/E/database/2024-03-19/UDP_Bandlock_9S_Phone_BR/sm01/#02/data/handover_info_log.csv\n",
      "50/72 /home/wmnlab/E/database/2024-03-19/UDP_Bandlock_9S_Phone_BR/sm01/#02/data/udp_dnlk_loss_latency.csv\n",
      "50/72 /home/wmnlab/E/database/2024-03-19/UDP_Bandlock_9S_Phone_BR/sm01/#02/data/udp_uplk_loss_latency.csv\n",
      "50/72 /home/wmnlab/E/database/2024-03-19/UDP_Bandlock_9S_Phone_BR/sm08/#02/data/handover_info_log.csv\n",
      "50/72 /home/wmnlab/E/database/2024-03-19/UDP_Bandlock_9S_Phone_BR/sm08/#02/data/udp_dnlk_loss_latency.csv\n",
      "50/72 /home/wmnlab/E/database/2024-03-19/UDP_Bandlock_9S_Phone_BR/sm08/#02/data/udp_uplk_loss_latency.csv\n"
     ]
    },
    {
     "data": {
      "application/vnd.jupyter.widget-view+json": {
       "model_id": "ca2ef85040db4079ab5a9ba92b97bc53",
       "version_major": 2,
       "version_minor": 0
      },
      "text/plain": [
       "  0%|                                                                                                         …"
      ]
     },
     "metadata": {},
     "output_type": "display_data"
    },
    {
     "name": "stdout",
     "output_type": "stream",
     "text": [
      "/home/wmnlab/E/results/20240323_0800028652_new_dataset/dr_results/20240324_1800086626_new_dataset/20240324_20594600001_19be33d4a1a15a67_adjust/\\home\\wmnlab\\E\\database\\2024-03-19\\UDP_Bandlock_9S_Phone_BR\\sm01\\#02\\data\\udp_dnlk_loss_latency\\home\\wmnlab\\E\\database\\2024-03-19\\UDP_Bandlock_9S_Phone_BR\\sm08\\#02\\data\\udp_dnlk_loss_latency.csv\n",
      "51/72 /home/wmnlab/E/database/2024-03-19/UDP_Bandlock_9S_Phone_BR/sm02/#02/data/handover_info_log.csv\n",
      "51/72 /home/wmnlab/E/database/2024-03-19/UDP_Bandlock_9S_Phone_BR/sm02/#02/data/udp_dnlk_loss_latency.csv\n",
      "51/72 /home/wmnlab/E/database/2024-03-19/UDP_Bandlock_9S_Phone_BR/sm02/#02/data/udp_uplk_loss_latency.csv\n",
      "51/72 /home/wmnlab/E/database/2024-03-19/UDP_Bandlock_9S_Phone_BR/sm03/#02/data/handover_info_log.csv\n",
      "51/72 /home/wmnlab/E/database/2024-03-19/UDP_Bandlock_9S_Phone_BR/sm03/#02/data/udp_dnlk_loss_latency.csv\n",
      "51/72 /home/wmnlab/E/database/2024-03-19/UDP_Bandlock_9S_Phone_BR/sm03/#02/data/udp_uplk_loss_latency.csv\n"
     ]
    },
    {
     "data": {
      "application/vnd.jupyter.widget-view+json": {
       "model_id": "4dd82f134255437a9f1d77e3f0da97cd",
       "version_major": 2,
       "version_minor": 0
      },
      "text/plain": [
       "  0%|                                                                                                         …"
      ]
     },
     "metadata": {},
     "output_type": "display_data"
    },
    {
     "name": "stdout",
     "output_type": "stream",
     "text": [
      "/home/wmnlab/E/results/20240323_0800028652_new_dataset/dr_results/20240324_1800086626_new_dataset/20240324_20594600001_19be33d4a1a15a67_adjust/\\home\\wmnlab\\E\\database\\2024-03-19\\UDP_Bandlock_9S_Phone_BR\\sm02\\#02\\data\\udp_dnlk_loss_latency\\home\\wmnlab\\E\\database\\2024-03-19\\UDP_Bandlock_9S_Phone_BR\\sm03\\#02\\data\\udp_dnlk_loss_latency.csv\n",
      "52/72 /home/wmnlab/E/database/2024-03-19/UDP_Bandlock_9S_Phone_BR/sm02/#02/data/handover_info_log.csv\n",
      "52/72 /home/wmnlab/E/database/2024-03-19/UDP_Bandlock_9S_Phone_BR/sm02/#02/data/udp_dnlk_loss_latency.csv\n",
      "52/72 /home/wmnlab/E/database/2024-03-19/UDP_Bandlock_9S_Phone_BR/sm02/#02/data/udp_uplk_loss_latency.csv\n",
      "52/72 /home/wmnlab/E/database/2024-03-19/UDP_Bandlock_9S_Phone_BR/sm04/#02/data/handover_info_log.csv\n",
      "52/72 /home/wmnlab/E/database/2024-03-19/UDP_Bandlock_9S_Phone_BR/sm04/#02/data/udp_dnlk_loss_latency.csv\n",
      "52/72 /home/wmnlab/E/database/2024-03-19/UDP_Bandlock_9S_Phone_BR/sm04/#02/data/udp_uplk_loss_latency.csv\n"
     ]
    },
    {
     "data": {
      "application/vnd.jupyter.widget-view+json": {
       "model_id": "ef2012a489254367be4908397a3d410c",
       "version_major": 2,
       "version_minor": 0
      },
      "text/plain": [
       "  0%|                                                                                                         …"
      ]
     },
     "metadata": {},
     "output_type": "display_data"
    },
    {
     "name": "stdout",
     "output_type": "stream",
     "text": [
      "/home/wmnlab/E/results/20240323_0800028652_new_dataset/dr_results/20240324_1800086626_new_dataset/20240324_20594600001_19be33d4a1a15a67_adjust/\\home\\wmnlab\\E\\database\\2024-03-19\\UDP_Bandlock_9S_Phone_BR\\sm02\\#02\\data\\udp_dnlk_loss_latency\\home\\wmnlab\\E\\database\\2024-03-19\\UDP_Bandlock_9S_Phone_BR\\sm04\\#02\\data\\udp_dnlk_loss_latency.csv\n",
      "53/72 /home/wmnlab/E/database/2024-03-19/UDP_Bandlock_9S_Phone_BR/sm02/#02/data/handover_info_log.csv\n",
      "53/72 /home/wmnlab/E/database/2024-03-19/UDP_Bandlock_9S_Phone_BR/sm02/#02/data/udp_dnlk_loss_latency.csv\n",
      "53/72 /home/wmnlab/E/database/2024-03-19/UDP_Bandlock_9S_Phone_BR/sm02/#02/data/udp_uplk_loss_latency.csv\n",
      "53/72 /home/wmnlab/E/database/2024-03-19/UDP_Bandlock_9S_Phone_BR/sm05/#02/data/handover_info_log.csv\n",
      "53/72 /home/wmnlab/E/database/2024-03-19/UDP_Bandlock_9S_Phone_BR/sm05/#02/data/udp_dnlk_loss_latency.csv\n",
      "53/72 /home/wmnlab/E/database/2024-03-19/UDP_Bandlock_9S_Phone_BR/sm05/#02/data/udp_uplk_loss_latency.csv\n"
     ]
    },
    {
     "data": {
      "application/vnd.jupyter.widget-view+json": {
       "model_id": "f09682c7da6d4dbe84e97785886a6a3d",
       "version_major": 2,
       "version_minor": 0
      },
      "text/plain": [
       "  0%|                                                                                                         …"
      ]
     },
     "metadata": {},
     "output_type": "display_data"
    },
    {
     "name": "stdout",
     "output_type": "stream",
     "text": [
      "/home/wmnlab/E/results/20240323_0800028652_new_dataset/dr_results/20240324_1800086626_new_dataset/20240324_20594600001_19be33d4a1a15a67_adjust/\\home\\wmnlab\\E\\database\\2024-03-19\\UDP_Bandlock_9S_Phone_BR\\sm02\\#02\\data\\udp_dnlk_loss_latency\\home\\wmnlab\\E\\database\\2024-03-19\\UDP_Bandlock_9S_Phone_BR\\sm05\\#02\\data\\udp_dnlk_loss_latency.csv\n",
      "54/72 /home/wmnlab/E/database/2024-03-19/UDP_Bandlock_9S_Phone_BR/sm02/#02/data/handover_info_log.csv\n",
      "54/72 /home/wmnlab/E/database/2024-03-19/UDP_Bandlock_9S_Phone_BR/sm02/#02/data/udp_dnlk_loss_latency.csv\n",
      "54/72 /home/wmnlab/E/database/2024-03-19/UDP_Bandlock_9S_Phone_BR/sm02/#02/data/udp_uplk_loss_latency.csv\n",
      "54/72 /home/wmnlab/E/database/2024-03-19/UDP_Bandlock_9S_Phone_BR/sm06/#02/data/handover_info_log.csv\n",
      "54/72 /home/wmnlab/E/database/2024-03-19/UDP_Bandlock_9S_Phone_BR/sm06/#02/data/udp_dnlk_loss_latency.csv\n",
      "54/72 /home/wmnlab/E/database/2024-03-19/UDP_Bandlock_9S_Phone_BR/sm06/#02/data/udp_uplk_loss_latency.csv\n"
     ]
    },
    {
     "data": {
      "application/vnd.jupyter.widget-view+json": {
       "model_id": "2435565c3ef54c36bb53842e087d44bd",
       "version_major": 2,
       "version_minor": 0
      },
      "text/plain": [
       "  0%|                                                                                                         …"
      ]
     },
     "metadata": {},
     "output_type": "display_data"
    },
    {
     "name": "stdout",
     "output_type": "stream",
     "text": [
      "/home/wmnlab/E/results/20240323_0800028652_new_dataset/dr_results/20240324_1800086626_new_dataset/20240324_20594600001_19be33d4a1a15a67_adjust/\\home\\wmnlab\\E\\database\\2024-03-19\\UDP_Bandlock_9S_Phone_BR\\sm02\\#02\\data\\udp_dnlk_loss_latency\\home\\wmnlab\\E\\database\\2024-03-19\\UDP_Bandlock_9S_Phone_BR\\sm06\\#02\\data\\udp_dnlk_loss_latency.csv\n",
      "55/72 /home/wmnlab/E/database/2024-03-19/UDP_Bandlock_9S_Phone_BR/sm02/#02/data/handover_info_log.csv\n",
      "55/72 /home/wmnlab/E/database/2024-03-19/UDP_Bandlock_9S_Phone_BR/sm02/#02/data/udp_dnlk_loss_latency.csv\n",
      "55/72 /home/wmnlab/E/database/2024-03-19/UDP_Bandlock_9S_Phone_BR/sm02/#02/data/udp_uplk_loss_latency.csv\n",
      "55/72 /home/wmnlab/E/database/2024-03-19/UDP_Bandlock_9S_Phone_BR/sm07/#02/data/handover_info_log.csv\n",
      "55/72 /home/wmnlab/E/database/2024-03-19/UDP_Bandlock_9S_Phone_BR/sm07/#02/data/udp_dnlk_loss_latency.csv\n",
      "55/72 /home/wmnlab/E/database/2024-03-19/UDP_Bandlock_9S_Phone_BR/sm07/#02/data/udp_uplk_loss_latency.csv\n"
     ]
    },
    {
     "data": {
      "application/vnd.jupyter.widget-view+json": {
       "model_id": "288358d6c63f4f988e6389b6666c0a90",
       "version_major": 2,
       "version_minor": 0
      },
      "text/plain": [
       "  0%|                                                                                                         …"
      ]
     },
     "metadata": {},
     "output_type": "display_data"
    },
    {
     "name": "stdout",
     "output_type": "stream",
     "text": [
      "/home/wmnlab/E/results/20240323_0800028652_new_dataset/dr_results/20240324_1800086626_new_dataset/20240324_20594600001_19be33d4a1a15a67_adjust/\\home\\wmnlab\\E\\database\\2024-03-19\\UDP_Bandlock_9S_Phone_BR\\sm02\\#02\\data\\udp_dnlk_loss_latency\\home\\wmnlab\\E\\database\\2024-03-19\\UDP_Bandlock_9S_Phone_BR\\sm07\\#02\\data\\udp_dnlk_loss_latency.csv\n",
      "56/72 /home/wmnlab/E/database/2024-03-19/UDP_Bandlock_9S_Phone_BR/sm02/#02/data/handover_info_log.csv\n",
      "56/72 /home/wmnlab/E/database/2024-03-19/UDP_Bandlock_9S_Phone_BR/sm02/#02/data/udp_dnlk_loss_latency.csv\n",
      "56/72 /home/wmnlab/E/database/2024-03-19/UDP_Bandlock_9S_Phone_BR/sm02/#02/data/udp_uplk_loss_latency.csv\n",
      "56/72 /home/wmnlab/E/database/2024-03-19/UDP_Bandlock_9S_Phone_BR/sm08/#02/data/handover_info_log.csv\n",
      "56/72 /home/wmnlab/E/database/2024-03-19/UDP_Bandlock_9S_Phone_BR/sm08/#02/data/udp_dnlk_loss_latency.csv\n",
      "56/72 /home/wmnlab/E/database/2024-03-19/UDP_Bandlock_9S_Phone_BR/sm08/#02/data/udp_uplk_loss_latency.csv\n"
     ]
    },
    {
     "data": {
      "application/vnd.jupyter.widget-view+json": {
       "model_id": "4e97ae89eacf46ed9d4a0014dbd0e0cb",
       "version_major": 2,
       "version_minor": 0
      },
      "text/plain": [
       "  0%|                                                                                                         …"
      ]
     },
     "metadata": {},
     "output_type": "display_data"
    },
    {
     "name": "stdout",
     "output_type": "stream",
     "text": [
      "/home/wmnlab/E/results/20240323_0800028652_new_dataset/dr_results/20240324_1800086626_new_dataset/20240324_20594600001_19be33d4a1a15a67_adjust/\\home\\wmnlab\\E\\database\\2024-03-19\\UDP_Bandlock_9S_Phone_BR\\sm02\\#02\\data\\udp_dnlk_loss_latency\\home\\wmnlab\\E\\database\\2024-03-19\\UDP_Bandlock_9S_Phone_BR\\sm08\\#02\\data\\udp_dnlk_loss_latency.csv\n",
      "57/72 /home/wmnlab/E/database/2024-03-19/UDP_Bandlock_9S_Phone_BR/sm03/#02/data/handover_info_log.csv\n",
      "57/72 /home/wmnlab/E/database/2024-03-19/UDP_Bandlock_9S_Phone_BR/sm03/#02/data/udp_dnlk_loss_latency.csv\n",
      "57/72 /home/wmnlab/E/database/2024-03-19/UDP_Bandlock_9S_Phone_BR/sm03/#02/data/udp_uplk_loss_latency.csv\n",
      "57/72 /home/wmnlab/E/database/2024-03-19/UDP_Bandlock_9S_Phone_BR/sm04/#02/data/handover_info_log.csv\n",
      "57/72 /home/wmnlab/E/database/2024-03-19/UDP_Bandlock_9S_Phone_BR/sm04/#02/data/udp_dnlk_loss_latency.csv\n",
      "57/72 /home/wmnlab/E/database/2024-03-19/UDP_Bandlock_9S_Phone_BR/sm04/#02/data/udp_uplk_loss_latency.csv\n"
     ]
    },
    {
     "data": {
      "application/vnd.jupyter.widget-view+json": {
       "model_id": "e06e589f347f41fab5d319ef862cae17",
       "version_major": 2,
       "version_minor": 0
      },
      "text/plain": [
       "  0%|                                                                                                         …"
      ]
     },
     "metadata": {},
     "output_type": "display_data"
    },
    {
     "name": "stdout",
     "output_type": "stream",
     "text": [
      "/home/wmnlab/E/results/20240323_0800028652_new_dataset/dr_results/20240324_1800086626_new_dataset/20240324_20594600001_19be33d4a1a15a67_adjust/\\home\\wmnlab\\E\\database\\2024-03-19\\UDP_Bandlock_9S_Phone_BR\\sm03\\#02\\data\\udp_dnlk_loss_latency\\home\\wmnlab\\E\\database\\2024-03-19\\UDP_Bandlock_9S_Phone_BR\\sm04\\#02\\data\\udp_dnlk_loss_latency.csv\n",
      "58/72 /home/wmnlab/E/database/2024-03-19/UDP_Bandlock_9S_Phone_BR/sm03/#02/data/handover_info_log.csv\n",
      "58/72 /home/wmnlab/E/database/2024-03-19/UDP_Bandlock_9S_Phone_BR/sm03/#02/data/udp_dnlk_loss_latency.csv\n",
      "58/72 /home/wmnlab/E/database/2024-03-19/UDP_Bandlock_9S_Phone_BR/sm03/#02/data/udp_uplk_loss_latency.csv\n",
      "58/72 /home/wmnlab/E/database/2024-03-19/UDP_Bandlock_9S_Phone_BR/sm05/#02/data/handover_info_log.csv\n",
      "58/72 /home/wmnlab/E/database/2024-03-19/UDP_Bandlock_9S_Phone_BR/sm05/#02/data/udp_dnlk_loss_latency.csv\n",
      "58/72 /home/wmnlab/E/database/2024-03-19/UDP_Bandlock_9S_Phone_BR/sm05/#02/data/udp_uplk_loss_latency.csv\n"
     ]
    },
    {
     "data": {
      "application/vnd.jupyter.widget-view+json": {
       "model_id": "a8abbf48a5e24fbeb5860921920ffe39",
       "version_major": 2,
       "version_minor": 0
      },
      "text/plain": [
       "  0%|                                                                                                         …"
      ]
     },
     "metadata": {},
     "output_type": "display_data"
    },
    {
     "name": "stdout",
     "output_type": "stream",
     "text": [
      "/home/wmnlab/E/results/20240323_0800028652_new_dataset/dr_results/20240324_1800086626_new_dataset/20240324_20594600001_19be33d4a1a15a67_adjust/\\home\\wmnlab\\E\\database\\2024-03-19\\UDP_Bandlock_9S_Phone_BR\\sm03\\#02\\data\\udp_dnlk_loss_latency\\home\\wmnlab\\E\\database\\2024-03-19\\UDP_Bandlock_9S_Phone_BR\\sm05\\#02\\data\\udp_dnlk_loss_latency.csv\n",
      "59/72 /home/wmnlab/E/database/2024-03-19/UDP_Bandlock_9S_Phone_BR/sm03/#02/data/handover_info_log.csv\n",
      "59/72 /home/wmnlab/E/database/2024-03-19/UDP_Bandlock_9S_Phone_BR/sm03/#02/data/udp_dnlk_loss_latency.csv\n",
      "59/72 /home/wmnlab/E/database/2024-03-19/UDP_Bandlock_9S_Phone_BR/sm03/#02/data/udp_uplk_loss_latency.csv\n",
      "59/72 /home/wmnlab/E/database/2024-03-19/UDP_Bandlock_9S_Phone_BR/sm06/#02/data/handover_info_log.csv\n",
      "59/72 /home/wmnlab/E/database/2024-03-19/UDP_Bandlock_9S_Phone_BR/sm06/#02/data/udp_dnlk_loss_latency.csv\n",
      "59/72 /home/wmnlab/E/database/2024-03-19/UDP_Bandlock_9S_Phone_BR/sm06/#02/data/udp_uplk_loss_latency.csv\n"
     ]
    },
    {
     "data": {
      "application/vnd.jupyter.widget-view+json": {
       "model_id": "be561cbb18c344a9b2e1666cfcc2c9dc",
       "version_major": 2,
       "version_minor": 0
      },
      "text/plain": [
       "  0%|                                                                                                         …"
      ]
     },
     "metadata": {},
     "output_type": "display_data"
    },
    {
     "name": "stdout",
     "output_type": "stream",
     "text": [
      "/home/wmnlab/E/results/20240323_0800028652_new_dataset/dr_results/20240324_1800086626_new_dataset/20240324_20594600001_19be33d4a1a15a67_adjust/\\home\\wmnlab\\E\\database\\2024-03-19\\UDP_Bandlock_9S_Phone_BR\\sm03\\#02\\data\\udp_dnlk_loss_latency\\home\\wmnlab\\E\\database\\2024-03-19\\UDP_Bandlock_9S_Phone_BR\\sm06\\#02\\data\\udp_dnlk_loss_latency.csv\n",
      "60/72 /home/wmnlab/E/database/2024-03-19/UDP_Bandlock_9S_Phone_BR/sm03/#02/data/handover_info_log.csv\n",
      "60/72 /home/wmnlab/E/database/2024-03-19/UDP_Bandlock_9S_Phone_BR/sm03/#02/data/udp_dnlk_loss_latency.csv\n",
      "60/72 /home/wmnlab/E/database/2024-03-19/UDP_Bandlock_9S_Phone_BR/sm03/#02/data/udp_uplk_loss_latency.csv\n",
      "60/72 /home/wmnlab/E/database/2024-03-19/UDP_Bandlock_9S_Phone_BR/sm07/#02/data/handover_info_log.csv\n",
      "60/72 /home/wmnlab/E/database/2024-03-19/UDP_Bandlock_9S_Phone_BR/sm07/#02/data/udp_dnlk_loss_latency.csv\n",
      "60/72 /home/wmnlab/E/database/2024-03-19/UDP_Bandlock_9S_Phone_BR/sm07/#02/data/udp_uplk_loss_latency.csv\n"
     ]
    },
    {
     "data": {
      "application/vnd.jupyter.widget-view+json": {
       "model_id": "85b3c16d93e84fc6a0f216cd7c471b1d",
       "version_major": 2,
       "version_minor": 0
      },
      "text/plain": [
       "  0%|                                                                                                         …"
      ]
     },
     "metadata": {},
     "output_type": "display_data"
    },
    {
     "name": "stdout",
     "output_type": "stream",
     "text": [
      "/home/wmnlab/E/results/20240323_0800028652_new_dataset/dr_results/20240324_1800086626_new_dataset/20240324_20594600001_19be33d4a1a15a67_adjust/\\home\\wmnlab\\E\\database\\2024-03-19\\UDP_Bandlock_9S_Phone_BR\\sm03\\#02\\data\\udp_dnlk_loss_latency\\home\\wmnlab\\E\\database\\2024-03-19\\UDP_Bandlock_9S_Phone_BR\\sm07\\#02\\data\\udp_dnlk_loss_latency.csv\n",
      "61/72 /home/wmnlab/E/database/2024-03-19/UDP_Bandlock_9S_Phone_BR/sm03/#02/data/handover_info_log.csv\n",
      "61/72 /home/wmnlab/E/database/2024-03-19/UDP_Bandlock_9S_Phone_BR/sm03/#02/data/udp_dnlk_loss_latency.csv\n",
      "61/72 /home/wmnlab/E/database/2024-03-19/UDP_Bandlock_9S_Phone_BR/sm03/#02/data/udp_uplk_loss_latency.csv\n",
      "61/72 /home/wmnlab/E/database/2024-03-19/UDP_Bandlock_9S_Phone_BR/sm08/#02/data/handover_info_log.csv\n",
      "61/72 /home/wmnlab/E/database/2024-03-19/UDP_Bandlock_9S_Phone_BR/sm08/#02/data/udp_dnlk_loss_latency.csv\n",
      "61/72 /home/wmnlab/E/database/2024-03-19/UDP_Bandlock_9S_Phone_BR/sm08/#02/data/udp_uplk_loss_latency.csv\n"
     ]
    },
    {
     "data": {
      "application/vnd.jupyter.widget-view+json": {
       "model_id": "c971d767c867481dac6532decb66e4ed",
       "version_major": 2,
       "version_minor": 0
      },
      "text/plain": [
       "  0%|                                                                                                         …"
      ]
     },
     "metadata": {},
     "output_type": "display_data"
    },
    {
     "name": "stdout",
     "output_type": "stream",
     "text": [
      "/home/wmnlab/E/results/20240323_0800028652_new_dataset/dr_results/20240324_1800086626_new_dataset/20240324_20594600001_19be33d4a1a15a67_adjust/\\home\\wmnlab\\E\\database\\2024-03-19\\UDP_Bandlock_9S_Phone_BR\\sm03\\#02\\data\\udp_dnlk_loss_latency\\home\\wmnlab\\E\\database\\2024-03-19\\UDP_Bandlock_9S_Phone_BR\\sm08\\#02\\data\\udp_dnlk_loss_latency.csv\n",
      "62/72 /home/wmnlab/E/database/2024-03-19/UDP_Bandlock_9S_Phone_BR/sm04/#02/data/handover_info_log.csv\n",
      "62/72 /home/wmnlab/E/database/2024-03-19/UDP_Bandlock_9S_Phone_BR/sm04/#02/data/udp_dnlk_loss_latency.csv\n",
      "62/72 /home/wmnlab/E/database/2024-03-19/UDP_Bandlock_9S_Phone_BR/sm04/#02/data/udp_uplk_loss_latency.csv\n",
      "62/72 /home/wmnlab/E/database/2024-03-19/UDP_Bandlock_9S_Phone_BR/sm05/#02/data/handover_info_log.csv\n",
      "62/72 /home/wmnlab/E/database/2024-03-19/UDP_Bandlock_9S_Phone_BR/sm05/#02/data/udp_dnlk_loss_latency.csv\n",
      "62/72 /home/wmnlab/E/database/2024-03-19/UDP_Bandlock_9S_Phone_BR/sm05/#02/data/udp_uplk_loss_latency.csv\n"
     ]
    },
    {
     "data": {
      "application/vnd.jupyter.widget-view+json": {
       "model_id": "2b92d0eac6044bf6910227f36e7e5f51",
       "version_major": 2,
       "version_minor": 0
      },
      "text/plain": [
       "  0%|                                                                                                         …"
      ]
     },
     "metadata": {},
     "output_type": "display_data"
    },
    {
     "name": "stdout",
     "output_type": "stream",
     "text": [
      "/home/wmnlab/E/results/20240323_0800028652_new_dataset/dr_results/20240324_1800086626_new_dataset/20240324_20594600001_19be33d4a1a15a67_adjust/\\home\\wmnlab\\E\\database\\2024-03-19\\UDP_Bandlock_9S_Phone_BR\\sm04\\#02\\data\\udp_dnlk_loss_latency\\home\\wmnlab\\E\\database\\2024-03-19\\UDP_Bandlock_9S_Phone_BR\\sm05\\#02\\data\\udp_dnlk_loss_latency.csv\n",
      "63/72 /home/wmnlab/E/database/2024-03-19/UDP_Bandlock_9S_Phone_BR/sm04/#02/data/handover_info_log.csv\n",
      "63/72 /home/wmnlab/E/database/2024-03-19/UDP_Bandlock_9S_Phone_BR/sm04/#02/data/udp_dnlk_loss_latency.csv\n",
      "63/72 /home/wmnlab/E/database/2024-03-19/UDP_Bandlock_9S_Phone_BR/sm04/#02/data/udp_uplk_loss_latency.csv\n",
      "63/72 /home/wmnlab/E/database/2024-03-19/UDP_Bandlock_9S_Phone_BR/sm06/#02/data/handover_info_log.csv\n",
      "63/72 /home/wmnlab/E/database/2024-03-19/UDP_Bandlock_9S_Phone_BR/sm06/#02/data/udp_dnlk_loss_latency.csv\n",
      "63/72 /home/wmnlab/E/database/2024-03-19/UDP_Bandlock_9S_Phone_BR/sm06/#02/data/udp_uplk_loss_latency.csv\n"
     ]
    },
    {
     "data": {
      "application/vnd.jupyter.widget-view+json": {
       "model_id": "a6a126c473524770b73a171140a45b04",
       "version_major": 2,
       "version_minor": 0
      },
      "text/plain": [
       "  0%|                                                                                                         …"
      ]
     },
     "metadata": {},
     "output_type": "display_data"
    },
    {
     "name": "stdout",
     "output_type": "stream",
     "text": [
      "/home/wmnlab/E/results/20240323_0800028652_new_dataset/dr_results/20240324_1800086626_new_dataset/20240324_20594600001_19be33d4a1a15a67_adjust/\\home\\wmnlab\\E\\database\\2024-03-19\\UDP_Bandlock_9S_Phone_BR\\sm04\\#02\\data\\udp_dnlk_loss_latency\\home\\wmnlab\\E\\database\\2024-03-19\\UDP_Bandlock_9S_Phone_BR\\sm06\\#02\\data\\udp_dnlk_loss_latency.csv\n",
      "64/72 /home/wmnlab/E/database/2024-03-19/UDP_Bandlock_9S_Phone_BR/sm04/#02/data/handover_info_log.csv\n",
      "64/72 /home/wmnlab/E/database/2024-03-19/UDP_Bandlock_9S_Phone_BR/sm04/#02/data/udp_dnlk_loss_latency.csv\n",
      "64/72 /home/wmnlab/E/database/2024-03-19/UDP_Bandlock_9S_Phone_BR/sm04/#02/data/udp_uplk_loss_latency.csv\n",
      "64/72 /home/wmnlab/E/database/2024-03-19/UDP_Bandlock_9S_Phone_BR/sm07/#02/data/handover_info_log.csv\n",
      "64/72 /home/wmnlab/E/database/2024-03-19/UDP_Bandlock_9S_Phone_BR/sm07/#02/data/udp_dnlk_loss_latency.csv\n",
      "64/72 /home/wmnlab/E/database/2024-03-19/UDP_Bandlock_9S_Phone_BR/sm07/#02/data/udp_uplk_loss_latency.csv\n"
     ]
    },
    {
     "data": {
      "application/vnd.jupyter.widget-view+json": {
       "model_id": "16b54a7b59fe4031bbf593015ae2a2df",
       "version_major": 2,
       "version_minor": 0
      },
      "text/plain": [
       "  0%|                                                                                                         …"
      ]
     },
     "metadata": {},
     "output_type": "display_data"
    },
    {
     "name": "stdout",
     "output_type": "stream",
     "text": [
      "/home/wmnlab/E/results/20240323_0800028652_new_dataset/dr_results/20240324_1800086626_new_dataset/20240324_20594600001_19be33d4a1a15a67_adjust/\\home\\wmnlab\\E\\database\\2024-03-19\\UDP_Bandlock_9S_Phone_BR\\sm04\\#02\\data\\udp_dnlk_loss_latency\\home\\wmnlab\\E\\database\\2024-03-19\\UDP_Bandlock_9S_Phone_BR\\sm07\\#02\\data\\udp_dnlk_loss_latency.csv\n",
      "65/72 /home/wmnlab/E/database/2024-03-19/UDP_Bandlock_9S_Phone_BR/sm04/#02/data/handover_info_log.csv\n",
      "65/72 /home/wmnlab/E/database/2024-03-19/UDP_Bandlock_9S_Phone_BR/sm04/#02/data/udp_dnlk_loss_latency.csv\n",
      "65/72 /home/wmnlab/E/database/2024-03-19/UDP_Bandlock_9S_Phone_BR/sm04/#02/data/udp_uplk_loss_latency.csv\n",
      "65/72 /home/wmnlab/E/database/2024-03-19/UDP_Bandlock_9S_Phone_BR/sm08/#02/data/handover_info_log.csv\n",
      "65/72 /home/wmnlab/E/database/2024-03-19/UDP_Bandlock_9S_Phone_BR/sm08/#02/data/udp_dnlk_loss_latency.csv\n",
      "65/72 /home/wmnlab/E/database/2024-03-19/UDP_Bandlock_9S_Phone_BR/sm08/#02/data/udp_uplk_loss_latency.csv\n"
     ]
    },
    {
     "data": {
      "application/vnd.jupyter.widget-view+json": {
       "model_id": "c4838c3afc204251b9a4bd7b45be7fcc",
       "version_major": 2,
       "version_minor": 0
      },
      "text/plain": [
       "  0%|                                                                                                         …"
      ]
     },
     "metadata": {},
     "output_type": "display_data"
    },
    {
     "name": "stdout",
     "output_type": "stream",
     "text": [
      "/home/wmnlab/E/results/20240323_0800028652_new_dataset/dr_results/20240324_1800086626_new_dataset/20240324_20594600001_19be33d4a1a15a67_adjust/\\home\\wmnlab\\E\\database\\2024-03-19\\UDP_Bandlock_9S_Phone_BR\\sm04\\#02\\data\\udp_dnlk_loss_latency\\home\\wmnlab\\E\\database\\2024-03-19\\UDP_Bandlock_9S_Phone_BR\\sm08\\#02\\data\\udp_dnlk_loss_latency.csv\n",
      "66/72 /home/wmnlab/E/database/2024-03-19/UDP_Bandlock_9S_Phone_BR/sm05/#02/data/handover_info_log.csv\n",
      "66/72 /home/wmnlab/E/database/2024-03-19/UDP_Bandlock_9S_Phone_BR/sm05/#02/data/udp_dnlk_loss_latency.csv\n",
      "66/72 /home/wmnlab/E/database/2024-03-19/UDP_Bandlock_9S_Phone_BR/sm05/#02/data/udp_uplk_loss_latency.csv\n",
      "66/72 /home/wmnlab/E/database/2024-03-19/UDP_Bandlock_9S_Phone_BR/sm06/#02/data/handover_info_log.csv\n",
      "66/72 /home/wmnlab/E/database/2024-03-19/UDP_Bandlock_9S_Phone_BR/sm06/#02/data/udp_dnlk_loss_latency.csv\n",
      "66/72 /home/wmnlab/E/database/2024-03-19/UDP_Bandlock_9S_Phone_BR/sm06/#02/data/udp_uplk_loss_latency.csv\n"
     ]
    },
    {
     "data": {
      "application/vnd.jupyter.widget-view+json": {
       "model_id": "e84cedf1c1a44bd0ae9add380942171f",
       "version_major": 2,
       "version_minor": 0
      },
      "text/plain": [
       "  0%|                                                                                                         …"
      ]
     },
     "metadata": {},
     "output_type": "display_data"
    },
    {
     "name": "stdout",
     "output_type": "stream",
     "text": [
      "/home/wmnlab/E/results/20240323_0800028652_new_dataset/dr_results/20240324_1800086626_new_dataset/20240324_20594600001_19be33d4a1a15a67_adjust/\\home\\wmnlab\\E\\database\\2024-03-19\\UDP_Bandlock_9S_Phone_BR\\sm05\\#02\\data\\udp_dnlk_loss_latency\\home\\wmnlab\\E\\database\\2024-03-19\\UDP_Bandlock_9S_Phone_BR\\sm06\\#02\\data\\udp_dnlk_loss_latency.csv\n",
      "67/72 /home/wmnlab/E/database/2024-03-19/UDP_Bandlock_9S_Phone_BR/sm05/#02/data/handover_info_log.csv\n",
      "67/72 /home/wmnlab/E/database/2024-03-19/UDP_Bandlock_9S_Phone_BR/sm05/#02/data/udp_dnlk_loss_latency.csv\n",
      "67/72 /home/wmnlab/E/database/2024-03-19/UDP_Bandlock_9S_Phone_BR/sm05/#02/data/udp_uplk_loss_latency.csv\n",
      "67/72 /home/wmnlab/E/database/2024-03-19/UDP_Bandlock_9S_Phone_BR/sm07/#02/data/handover_info_log.csv\n",
      "67/72 /home/wmnlab/E/database/2024-03-19/UDP_Bandlock_9S_Phone_BR/sm07/#02/data/udp_dnlk_loss_latency.csv\n",
      "67/72 /home/wmnlab/E/database/2024-03-19/UDP_Bandlock_9S_Phone_BR/sm07/#02/data/udp_uplk_loss_latency.csv\n"
     ]
    },
    {
     "data": {
      "application/vnd.jupyter.widget-view+json": {
       "model_id": "30ec4ee2d935428aa8444f6ab2c2de08",
       "version_major": 2,
       "version_minor": 0
      },
      "text/plain": [
       "  0%|                                                                                                         …"
      ]
     },
     "metadata": {},
     "output_type": "display_data"
    },
    {
     "name": "stdout",
     "output_type": "stream",
     "text": [
      "/home/wmnlab/E/results/20240323_0800028652_new_dataset/dr_results/20240324_1800086626_new_dataset/20240324_20594600001_19be33d4a1a15a67_adjust/\\home\\wmnlab\\E\\database\\2024-03-19\\UDP_Bandlock_9S_Phone_BR\\sm05\\#02\\data\\udp_dnlk_loss_latency\\home\\wmnlab\\E\\database\\2024-03-19\\UDP_Bandlock_9S_Phone_BR\\sm07\\#02\\data\\udp_dnlk_loss_latency.csv\n",
      "68/72 /home/wmnlab/E/database/2024-03-19/UDP_Bandlock_9S_Phone_BR/sm05/#02/data/handover_info_log.csv\n",
      "68/72 /home/wmnlab/E/database/2024-03-19/UDP_Bandlock_9S_Phone_BR/sm05/#02/data/udp_dnlk_loss_latency.csv\n",
      "68/72 /home/wmnlab/E/database/2024-03-19/UDP_Bandlock_9S_Phone_BR/sm05/#02/data/udp_uplk_loss_latency.csv\n",
      "68/72 /home/wmnlab/E/database/2024-03-19/UDP_Bandlock_9S_Phone_BR/sm08/#02/data/handover_info_log.csv\n",
      "68/72 /home/wmnlab/E/database/2024-03-19/UDP_Bandlock_9S_Phone_BR/sm08/#02/data/udp_dnlk_loss_latency.csv\n",
      "68/72 /home/wmnlab/E/database/2024-03-19/UDP_Bandlock_9S_Phone_BR/sm08/#02/data/udp_uplk_loss_latency.csv\n"
     ]
    },
    {
     "data": {
      "application/vnd.jupyter.widget-view+json": {
       "model_id": "3eb19e28ad7c49a0ad4031d632b26dc9",
       "version_major": 2,
       "version_minor": 0
      },
      "text/plain": [
       "  0%|                                                                                                         …"
      ]
     },
     "metadata": {},
     "output_type": "display_data"
    },
    {
     "name": "stdout",
     "output_type": "stream",
     "text": [
      "/home/wmnlab/E/results/20240323_0800028652_new_dataset/dr_results/20240324_1800086626_new_dataset/20240324_20594600001_19be33d4a1a15a67_adjust/\\home\\wmnlab\\E\\database\\2024-03-19\\UDP_Bandlock_9S_Phone_BR\\sm05\\#02\\data\\udp_dnlk_loss_latency\\home\\wmnlab\\E\\database\\2024-03-19\\UDP_Bandlock_9S_Phone_BR\\sm08\\#02\\data\\udp_dnlk_loss_latency.csv\n",
      "69/72 /home/wmnlab/E/database/2024-03-19/UDP_Bandlock_9S_Phone_BR/sm06/#02/data/handover_info_log.csv\n",
      "69/72 /home/wmnlab/E/database/2024-03-19/UDP_Bandlock_9S_Phone_BR/sm06/#02/data/udp_dnlk_loss_latency.csv\n",
      "69/72 /home/wmnlab/E/database/2024-03-19/UDP_Bandlock_9S_Phone_BR/sm06/#02/data/udp_uplk_loss_latency.csv\n",
      "69/72 /home/wmnlab/E/database/2024-03-19/UDP_Bandlock_9S_Phone_BR/sm07/#02/data/handover_info_log.csv\n",
      "69/72 /home/wmnlab/E/database/2024-03-19/UDP_Bandlock_9S_Phone_BR/sm07/#02/data/udp_dnlk_loss_latency.csv\n",
      "69/72 /home/wmnlab/E/database/2024-03-19/UDP_Bandlock_9S_Phone_BR/sm07/#02/data/udp_uplk_loss_latency.csv\n"
     ]
    },
    {
     "data": {
      "application/vnd.jupyter.widget-view+json": {
       "model_id": "cf65ec65543d4d0889d9fe6a4e45a257",
       "version_major": 2,
       "version_minor": 0
      },
      "text/plain": [
       "  0%|                                                                                                         …"
      ]
     },
     "metadata": {},
     "output_type": "display_data"
    },
    {
     "name": "stdout",
     "output_type": "stream",
     "text": [
      "/home/wmnlab/E/results/20240323_0800028652_new_dataset/dr_results/20240324_1800086626_new_dataset/20240324_20594600001_19be33d4a1a15a67_adjust/\\home\\wmnlab\\E\\database\\2024-03-19\\UDP_Bandlock_9S_Phone_BR\\sm06\\#02\\data\\udp_dnlk_loss_latency\\home\\wmnlab\\E\\database\\2024-03-19\\UDP_Bandlock_9S_Phone_BR\\sm07\\#02\\data\\udp_dnlk_loss_latency.csv\n",
      "70/72 /home/wmnlab/E/database/2024-03-19/UDP_Bandlock_9S_Phone_BR/sm06/#02/data/handover_info_log.csv\n",
      "70/72 /home/wmnlab/E/database/2024-03-19/UDP_Bandlock_9S_Phone_BR/sm06/#02/data/udp_dnlk_loss_latency.csv\n",
      "70/72 /home/wmnlab/E/database/2024-03-19/UDP_Bandlock_9S_Phone_BR/sm06/#02/data/udp_uplk_loss_latency.csv\n",
      "70/72 /home/wmnlab/E/database/2024-03-19/UDP_Bandlock_9S_Phone_BR/sm08/#02/data/handover_info_log.csv\n",
      "70/72 /home/wmnlab/E/database/2024-03-19/UDP_Bandlock_9S_Phone_BR/sm08/#02/data/udp_dnlk_loss_latency.csv\n",
      "70/72 /home/wmnlab/E/database/2024-03-19/UDP_Bandlock_9S_Phone_BR/sm08/#02/data/udp_uplk_loss_latency.csv\n"
     ]
    },
    {
     "data": {
      "application/vnd.jupyter.widget-view+json": {
       "model_id": "3af19c5fdff049f0b791db14a1f789ef",
       "version_major": 2,
       "version_minor": 0
      },
      "text/plain": [
       "  0%|                                                                                                         …"
      ]
     },
     "metadata": {},
     "output_type": "display_data"
    },
    {
     "name": "stdout",
     "output_type": "stream",
     "text": [
      "/home/wmnlab/E/results/20240323_0800028652_new_dataset/dr_results/20240324_1800086626_new_dataset/20240324_20594600001_19be33d4a1a15a67_adjust/\\home\\wmnlab\\E\\database\\2024-03-19\\UDP_Bandlock_9S_Phone_BR\\sm06\\#02\\data\\udp_dnlk_loss_latency\\home\\wmnlab\\E\\database\\2024-03-19\\UDP_Bandlock_9S_Phone_BR\\sm08\\#02\\data\\udp_dnlk_loss_latency.csv\n",
      "71/72 /home/wmnlab/E/database/2024-03-19/UDP_Bandlock_9S_Phone_BR/sm07/#02/data/handover_info_log.csv\n",
      "71/72 /home/wmnlab/E/database/2024-03-19/UDP_Bandlock_9S_Phone_BR/sm07/#02/data/udp_dnlk_loss_latency.csv\n",
      "71/72 /home/wmnlab/E/database/2024-03-19/UDP_Bandlock_9S_Phone_BR/sm07/#02/data/udp_uplk_loss_latency.csv\n",
      "71/72 /home/wmnlab/E/database/2024-03-19/UDP_Bandlock_9S_Phone_BR/sm08/#02/data/handover_info_log.csv\n",
      "71/72 /home/wmnlab/E/database/2024-03-19/UDP_Bandlock_9S_Phone_BR/sm08/#02/data/udp_dnlk_loss_latency.csv\n",
      "71/72 /home/wmnlab/E/database/2024-03-19/UDP_Bandlock_9S_Phone_BR/sm08/#02/data/udp_uplk_loss_latency.csv\n"
     ]
    },
    {
     "data": {
      "application/vnd.jupyter.widget-view+json": {
       "model_id": "594d4031c6804589bc0b09bacc370b6c",
       "version_major": 2,
       "version_minor": 0
      },
      "text/plain": [
       "  0%|                                                                                                         …"
      ]
     },
     "metadata": {},
     "output_type": "display_data"
    },
    {
     "name": "stdout",
     "output_type": "stream",
     "text": [
      "/home/wmnlab/E/results/20240323_0800028652_new_dataset/dr_results/20240324_1800086626_new_dataset/20240324_20594600001_19be33d4a1a15a67_adjust/\\home\\wmnlab\\E\\database\\2024-03-19\\UDP_Bandlock_9S_Phone_BR\\sm07\\#02\\data\\udp_dnlk_loss_latency\\home\\wmnlab\\E\\database\\2024-03-19\\UDP_Bandlock_9S_Phone_BR\\sm08\\#02\\data\\udp_dnlk_loss_latency.csv\n",
      "./20240323_0800028652_new_dataset/20240324_1800086626_new_dataset/figures/20240324_BR_adjust_20594600001_19be33d4a1a15a67.png\n"
     ]
    },
    {
     "data": {
      "image/png": "[encoded data removed]",
      "text/plain": [
       "<Figure size 600x400 with 1 Axes>"
      ]
     },
     "metadata": {
      "image/png": {
       "height": 371,
       "width": 536
      }
     },
     "output_type": "display_data"
    }
   ],
   "source": [
    "eval = DrEval(filepaths, model_name='BR', model_suffix='adjust', sr_model_id=sr_model_id, dr_model_id=dr_model_id)\n",
    "eval.run_hist_method(N=1)\n",
    "eval.plot('BR')"
   ]
  },
  {
   "cell_type": "markdown",
   "metadata": {},
   "source": [
    "# A: Dual Eval"
   ]
  },
  {
   "cell_type": "code",
   "execution_count": 13,
   "metadata": {},
   "outputs": [],
   "source": [
    "# Dual Radio Example\n",
    "# dates = data_loader(query_dates=True)\n",
    "\n",
    "# selected_dates = [s for s in dates if s >= '2023-09-12']\n",
    "selected_dates = ['2024-03-20']\n",
    "# excluded_dates = []\n",
    "# selected_exps = []\n",
    "# excluded_exps = ['Modem_Action_Test', 'Control_Group', 'Control_Group2', 'Control_Group3']\n",
    "selected_routes = ['A']\n",
    "# excluded_routes = []\n",
    "filepaths = data_loader(mode='dr', selected_dates=selected_dates, selected_routes=selected_routes)\n",
    "\n",
    "# print(len(filepaths[:36]))\n",
    "# pprint(filepaths[:36])"
   ]
  },
  {
   "cell_type": "markdown",
   "metadata": {},
   "source": [
    "## Original Model"
   ]
  },
  {
   "cell_type": "code",
   "execution_count": 14,
   "metadata": {},
   "outputs": [
    {
     "name": "stdout",
     "output_type": "stream",
     "text": [
      "./20240323_0800028652_new_dataset/models/A\n",
      "./20240323_0800028652_new_dataset/20240324_1800086626_new_dataset/A\n",
      "./20240323_0800028652_new_dataset/20240324_1800086626_new_dataset/A_dr_prob_models.pkl\n",
      "0/72 /home/wmnlab/E/database/2024-03-20/UDP_Bandlock_9S_Phone_A/sm00/#01/data/handover_info_log.csv\n",
      "0/72 /home/wmnlab/E/database/2024-03-20/UDP_Bandlock_9S_Phone_A/sm00/#01/data/udp_dnlk_loss_latency.csv\n",
      "0/72 /home/wmnlab/E/database/2024-03-20/UDP_Bandlock_9S_Phone_A/sm00/#01/data/udp_uplk_loss_latency.csv\n",
      "0/72 /home/wmnlab/E/database/2024-03-20/UDP_Bandlock_9S_Phone_A/sm01/#01/data/handover_info_log.csv\n",
      "0/72 /home/wmnlab/E/database/2024-03-20/UDP_Bandlock_9S_Phone_A/sm01/#01/data/udp_dnlk_loss_latency.csv\n",
      "0/72 /home/wmnlab/E/database/2024-03-20/UDP_Bandlock_9S_Phone_A/sm01/#01/data/udp_uplk_loss_latency.csv\n"
     ]
    },
    {
     "data": {
      "application/vnd.jupyter.widget-view+json": {
       "model_id": "a190d6a4b8c3440ba9c9d4d7ecc906d8",
       "version_major": 2,
       "version_minor": 0
      },
      "text/plain": [
       "  0%|                                                                                                         …"
      ]
     },
     "metadata": {},
     "output_type": "display_data"
    },
    {
     "name": "stdout",
     "output_type": "stream",
     "text": [
      "/home/wmnlab/E/results/20240323_0800028652_new_dataset/dr_results/20240324_1800086626_new_dataset/20240324_20594600002_4eb2eb72dc52e959/\\home\\wmnlab\\E\\database\\2024-03-20\\UDP_Bandlock_9S_Phone_A\\sm00\\#01\\data\\udp_dnlk_loss_latency\\home\\wmnlab\\E\\database\\2024-03-20\\UDP_Bandlock_9S_Phone_A\\sm01\\#01\\data\\udp_dnlk_loss_latency.csv\n",
      "1/72 /home/wmnlab/E/database/2024-03-20/UDP_Bandlock_9S_Phone_A/sm00/#01/data/handover_info_log.csv\n",
      "1/72 /home/wmnlab/E/database/2024-03-20/UDP_Bandlock_9S_Phone_A/sm00/#01/data/udp_dnlk_loss_latency.csv\n",
      "1/72 /home/wmnlab/E/database/2024-03-20/UDP_Bandlock_9S_Phone_A/sm00/#01/data/udp_uplk_loss_latency.csv\n",
      "1/72 /home/wmnlab/E/database/2024-03-20/UDP_Bandlock_9S_Phone_A/sm02/#01/data/handover_info_log.csv\n",
      "1/72 /home/wmnlab/E/database/2024-03-20/UDP_Bandlock_9S_Phone_A/sm02/#01/data/udp_dnlk_loss_latency.csv\n",
      "1/72 /home/wmnlab/E/database/2024-03-20/UDP_Bandlock_9S_Phone_A/sm02/#01/data/udp_uplk_loss_latency.csv\n"
     ]
    },
    {
     "data": {
      "application/vnd.jupyter.widget-view+json": {
       "model_id": "f85e28b9ac524571aff0ee20bed3bedb",
       "version_major": 2,
       "version_minor": 0
      },
      "text/plain": [
       "  0%|                                                                                                         …"
      ]
     },
     "metadata": {},
     "output_type": "display_data"
    },
    {
     "name": "stdout",
     "output_type": "stream",
     "text": [
      "/home/wmnlab/E/results/20240323_0800028652_new_dataset/dr_results/20240324_1800086626_new_dataset/20240324_20594600002_4eb2eb72dc52e959/\\home\\wmnlab\\E\\database\\2024-03-20\\UDP_Bandlock_9S_Phone_A\\sm00\\#01\\data\\udp_dnlk_loss_latency\\home\\wmnlab\\E\\database\\2024-03-20\\UDP_Bandlock_9S_Phone_A\\sm02\\#01\\data\\udp_dnlk_loss_latency.csv\n",
      "2/72 /home/wmnlab/E/database/2024-03-20/UDP_Bandlock_9S_Phone_A/sm00/#01/data/handover_info_log.csv\n",
      "2/72 /home/wmnlab/E/database/2024-03-20/UDP_Bandlock_9S_Phone_A/sm00/#01/data/udp_dnlk_loss_latency.csv\n",
      "2/72 /home/wmnlab/E/database/2024-03-20/UDP_Bandlock_9S_Phone_A/sm00/#01/data/udp_uplk_loss_latency.csv\n",
      "2/72 /home/wmnlab/E/database/2024-03-20/UDP_Bandlock_9S_Phone_A/sm03/#01/data/handover_info_log.csv\n",
      "2/72 /home/wmnlab/E/database/2024-03-20/UDP_Bandlock_9S_Phone_A/sm03/#01/data/udp_dnlk_loss_latency.csv\n",
      "2/72 /home/wmnlab/E/database/2024-03-20/UDP_Bandlock_9S_Phone_A/sm03/#01/data/udp_uplk_loss_latency.csv\n"
     ]
    },
    {
     "data": {
      "application/vnd.jupyter.widget-view+json": {
       "model_id": "fc0f2b3cf0044dd394bba77b121b543a",
       "version_major": 2,
       "version_minor": 0
      },
      "text/plain": [
       "  0%|                                                                                                         …"
      ]
     },
     "metadata": {},
     "output_type": "display_data"
    },
    {
     "name": "stdout",
     "output_type": "stream",
     "text": [
      "/home/wmnlab/E/results/20240323_0800028652_new_dataset/dr_results/20240324_1800086626_new_dataset/20240324_20594600002_4eb2eb72dc52e959/\\home\\wmnlab\\E\\database\\2024-03-20\\UDP_Bandlock_9S_Phone_A\\sm00\\#01\\data\\udp_dnlk_loss_latency\\home\\wmnlab\\E\\database\\2024-03-20\\UDP_Bandlock_9S_Phone_A\\sm03\\#01\\data\\udp_dnlk_loss_latency.csv\n",
      "3/72 /home/wmnlab/E/database/2024-03-20/UDP_Bandlock_9S_Phone_A/sm00/#01/data/handover_info_log.csv\n",
      "3/72 /home/wmnlab/E/database/2024-03-20/UDP_Bandlock_9S_Phone_A/sm00/#01/data/udp_dnlk_loss_latency.csv\n",
      "3/72 /home/wmnlab/E/database/2024-03-20/UDP_Bandlock_9S_Phone_A/sm00/#01/data/udp_uplk_loss_latency.csv\n",
      "3/72 /home/wmnlab/E/database/2024-03-20/UDP_Bandlock_9S_Phone_A/sm04/#01/data/handover_info_log.csv\n",
      "3/72 /home/wmnlab/E/database/2024-03-20/UDP_Bandlock_9S_Phone_A/sm04/#01/data/udp_dnlk_loss_latency.csv\n",
      "3/72 /home/wmnlab/E/database/2024-03-20/UDP_Bandlock_9S_Phone_A/sm04/#01/data/udp_uplk_loss_latency.csv\n"
     ]
    },
    {
     "data": {
      "application/vnd.jupyter.widget-view+json": {
       "model_id": "0dea9b65db4544dc90cb9de3de1a7cb0",
       "version_major": 2,
       "version_minor": 0
      },
      "text/plain": [
       "  0%|                                                                                                         …"
      ]
     },
     "metadata": {},
     "output_type": "display_data"
    },
    {
     "name": "stdout",
     "output_type": "stream",
     "text": [
      "/home/wmnlab/E/results/20240323_0800028652_new_dataset/dr_results/20240324_1800086626_new_dataset/20240324_20594600002_4eb2eb72dc52e959/\\home\\wmnlab\\E\\database\\2024-03-20\\UDP_Bandlock_9S_Phone_A\\sm00\\#01\\data\\udp_dnlk_loss_latency\\home\\wmnlab\\E\\database\\2024-03-20\\UDP_Bandlock_9S_Phone_A\\sm04\\#01\\data\\udp_dnlk_loss_latency.csv\n",
      "4/72 /home/wmnlab/E/database/2024-03-20/UDP_Bandlock_9S_Phone_A/sm00/#01/data/handover_info_log.csv\n",
      "4/72 /home/wmnlab/E/database/2024-03-20/UDP_Bandlock_9S_Phone_A/sm00/#01/data/udp_dnlk_loss_latency.csv\n",
      "4/72 /home/wmnlab/E/database/2024-03-20/UDP_Bandlock_9S_Phone_A/sm00/#01/data/udp_uplk_loss_latency.csv\n",
      "4/72 /home/wmnlab/E/database/2024-03-20/UDP_Bandlock_9S_Phone_A/sm05/#01/data/handover_info_log.csv\n",
      "4/72 /home/wmnlab/E/database/2024-03-20/UDP_Bandlock_9S_Phone_A/sm05/#01/data/udp_dnlk_loss_latency.csv\n",
      "4/72 /home/wmnlab/E/database/2024-03-20/UDP_Bandlock_9S_Phone_A/sm05/#01/data/udp_uplk_loss_latency.csv\n"
     ]
    },
    {
     "data": {
      "application/vnd.jupyter.widget-view+json": {
       "model_id": "48e1d589f5fa4b39837fef60ede52fa5",
       "version_major": 2,
       "version_minor": 0
      },
      "text/plain": [
       "  0%|                                                                                                         …"
      ]
     },
     "metadata": {},
     "output_type": "display_data"
    },
    {
     "name": "stdout",
     "output_type": "stream",
     "text": [
      "/home/wmnlab/E/results/20240323_0800028652_new_dataset/dr_results/20240324_1800086626_new_dataset/20240324_20594600002_4eb2eb72dc52e959/\\home\\wmnlab\\E\\database\\2024-03-20\\UDP_Bandlock_9S_Phone_A\\sm00\\#01\\data\\udp_dnlk_loss_latency\\home\\wmnlab\\E\\database\\2024-03-20\\UDP_Bandlock_9S_Phone_A\\sm05\\#01\\data\\udp_dnlk_loss_latency.csv\n",
      "5/72 /home/wmnlab/E/database/2024-03-20/UDP_Bandlock_9S_Phone_A/sm00/#01/data/handover_info_log.csv\n",
      "5/72 /home/wmnlab/E/database/2024-03-20/UDP_Bandlock_9S_Phone_A/sm00/#01/data/udp_dnlk_loss_latency.csv\n",
      "5/72 /home/wmnlab/E/database/2024-03-20/UDP_Bandlock_9S_Phone_A/sm00/#01/data/udp_uplk_loss_latency.csv\n",
      "5/72 /home/wmnlab/E/database/2024-03-20/UDP_Bandlock_9S_Phone_A/sm06/#01/data/handover_info_log.csv\n",
      "5/72 /home/wmnlab/E/database/2024-03-20/UDP_Bandlock_9S_Phone_A/sm06/#01/data/udp_dnlk_loss_latency.csv\n",
      "5/72 /home/wmnlab/E/database/2024-03-20/UDP_Bandlock_9S_Phone_A/sm06/#01/data/udp_uplk_loss_latency.csv\n"
     ]
    },
    {
     "data": {
      "application/vnd.jupyter.widget-view+json": {
       "model_id": "8543615bf7dd490e82e390adb015067a",
       "version_major": 2,
       "version_minor": 0
      },
      "text/plain": [
       "  0%|                                                                                                         …"
      ]
     },
     "metadata": {},
     "output_type": "display_data"
    },
    {
     "name": "stdout",
     "output_type": "stream",
     "text": [
      "/home/wmnlab/E/results/20240323_0800028652_new_dataset/dr_results/20240324_1800086626_new_dataset/20240324_20594600002_4eb2eb72dc52e959/\\home\\wmnlab\\E\\database\\2024-03-20\\UDP_Bandlock_9S_Phone_A\\sm00\\#01\\data\\udp_dnlk_loss_latency\\home\\wmnlab\\E\\database\\2024-03-20\\UDP_Bandlock_9S_Phone_A\\sm06\\#01\\data\\udp_dnlk_loss_latency.csv\n",
      "6/72 /home/wmnlab/E/database/2024-03-20/UDP_Bandlock_9S_Phone_A/sm00/#01/data/handover_info_log.csv\n",
      "6/72 /home/wmnlab/E/database/2024-03-20/UDP_Bandlock_9S_Phone_A/sm00/#01/data/udp_dnlk_loss_latency.csv\n",
      "6/72 /home/wmnlab/E/database/2024-03-20/UDP_Bandlock_9S_Phone_A/sm00/#01/data/udp_uplk_loss_latency.csv\n",
      "6/72 /home/wmnlab/E/database/2024-03-20/UDP_Bandlock_9S_Phone_A/sm07/#01/data/handover_info_log.csv\n",
      "6/72 /home/wmnlab/E/database/2024-03-20/UDP_Bandlock_9S_Phone_A/sm07/#01/data/udp_dnlk_loss_latency.csv\n",
      "6/72 /home/wmnlab/E/database/2024-03-20/UDP_Bandlock_9S_Phone_A/sm07/#01/data/udp_uplk_loss_latency.csv\n"
     ]
    },
    {
     "data": {
      "application/vnd.jupyter.widget-view+json": {
       "model_id": "424a03d2152b4d78807b0c699015486d",
       "version_major": 2,
       "version_minor": 0
      },
      "text/plain": [
       "  0%|                                                                                                         …"
      ]
     },
     "metadata": {},
     "output_type": "display_data"
    },
    {
     "name": "stdout",
     "output_type": "stream",
     "text": [
      "/home/wmnlab/E/results/20240323_0800028652_new_dataset/dr_results/20240324_1800086626_new_dataset/20240324_20594600002_4eb2eb72dc52e959/\\home\\wmnlab\\E\\database\\2024-03-20\\UDP_Bandlock_9S_Phone_A\\sm00\\#01\\data\\udp_dnlk_loss_latency\\home\\wmnlab\\E\\database\\2024-03-20\\UDP_Bandlock_9S_Phone_A\\sm07\\#01\\data\\udp_dnlk_loss_latency.csv\n",
      "7/72 /home/wmnlab/E/database/2024-03-20/UDP_Bandlock_9S_Phone_A/sm00/#01/data/handover_info_log.csv\n",
      "7/72 /home/wmnlab/E/database/2024-03-20/UDP_Bandlock_9S_Phone_A/sm00/#01/data/udp_dnlk_loss_latency.csv\n",
      "7/72 /home/wmnlab/E/database/2024-03-20/UDP_Bandlock_9S_Phone_A/sm00/#01/data/udp_uplk_loss_latency.csv\n",
      "7/72 /home/wmnlab/E/database/2024-03-20/UDP_Bandlock_9S_Phone_A/sm08/#01/data/handover_info_log.csv\n",
      "7/72 /home/wmnlab/E/database/2024-03-20/UDP_Bandlock_9S_Phone_A/sm08/#01/data/udp_dnlk_loss_latency.csv\n",
      "7/72 /home/wmnlab/E/database/2024-03-20/UDP_Bandlock_9S_Phone_A/sm08/#01/data/udp_uplk_loss_latency.csv\n"
     ]
    },
    {
     "data": {
      "application/vnd.jupyter.widget-view+json": {
       "model_id": "b30f7d22d5a841b7b98f48aab7468030",
       "version_major": 2,
       "version_minor": 0
      },
      "text/plain": [
       "  0%|                                                                                                         …"
      ]
     },
     "metadata": {},
     "output_type": "display_data"
    },
    {
     "name": "stdout",
     "output_type": "stream",
     "text": [
      "/home/wmnlab/E/results/20240323_0800028652_new_dataset/dr_results/20240324_1800086626_new_dataset/20240324_20594600002_4eb2eb72dc52e959/\\home\\wmnlab\\E\\database\\2024-03-20\\UDP_Bandlock_9S_Phone_A\\sm00\\#01\\data\\udp_dnlk_loss_latency\\home\\wmnlab\\E\\database\\2024-03-20\\UDP_Bandlock_9S_Phone_A\\sm08\\#01\\data\\udp_dnlk_loss_latency.csv\n",
      "8/72 /home/wmnlab/E/database/2024-03-20/UDP_Bandlock_9S_Phone_A/sm01/#01/data/handover_info_log.csv\n",
      "8/72 /home/wmnlab/E/database/2024-03-20/UDP_Bandlock_9S_Phone_A/sm01/#01/data/udp_dnlk_loss_latency.csv\n",
      "8/72 /home/wmnlab/E/database/2024-03-20/UDP_Bandlock_9S_Phone_A/sm01/#01/data/udp_uplk_loss_latency.csv\n",
      "8/72 /home/wmnlab/E/database/2024-03-20/UDP_Bandlock_9S_Phone_A/sm02/#01/data/handover_info_log.csv\n",
      "8/72 /home/wmnlab/E/database/2024-03-20/UDP_Bandlock_9S_Phone_A/sm02/#01/data/udp_dnlk_loss_latency.csv\n",
      "8/72 /home/wmnlab/E/database/2024-03-20/UDP_Bandlock_9S_Phone_A/sm02/#01/data/udp_uplk_loss_latency.csv\n"
     ]
    },
    {
     "data": {
      "application/vnd.jupyter.widget-view+json": {
       "model_id": "33caec2291094766a66b521e6cebdabf",
       "version_major": 2,
       "version_minor": 0
      },
      "text/plain": [
       "  0%|                                                                                                         …"
      ]
     },
     "metadata": {},
     "output_type": "display_data"
    },
    {
     "name": "stdout",
     "output_type": "stream",
     "text": [
      "/home/wmnlab/E/results/20240323_0800028652_new_dataset/dr_results/20240324_1800086626_new_dataset/20240324_20594600002_4eb2eb72dc52e959/\\home\\wmnlab\\E\\database\\2024-03-20\\UDP_Bandlock_9S_Phone_A\\sm01\\#01\\data\\udp_dnlk_loss_latency\\home\\wmnlab\\E\\database\\2024-03-20\\UDP_Bandlock_9S_Phone_A\\sm02\\#01\\data\\udp_dnlk_loss_latency.csv\n",
      "9/72 /home/wmnlab/E/database/2024-03-20/UDP_Bandlock_9S_Phone_A/sm01/#01/data/handover_info_log.csv\n",
      "9/72 /home/wmnlab/E/database/2024-03-20/UDP_Bandlock_9S_Phone_A/sm01/#01/data/udp_dnlk_loss_latency.csv\n",
      "9/72 /home/wmnlab/E/database/2024-03-20/UDP_Bandlock_9S_Phone_A/sm01/#01/data/udp_uplk_loss_latency.csv\n",
      "9/72 /home/wmnlab/E/database/2024-03-20/UDP_Bandlock_9S_Phone_A/sm03/#01/data/handover_info_log.csv\n",
      "9/72 /home/wmnlab/E/database/2024-03-20/UDP_Bandlock_9S_Phone_A/sm03/#01/data/udp_dnlk_loss_latency.csv\n",
      "9/72 /home/wmnlab/E/database/2024-03-20/UDP_Bandlock_9S_Phone_A/sm03/#01/data/udp_uplk_loss_latency.csv\n"
     ]
    },
    {
     "data": {
      "application/vnd.jupyter.widget-view+json": {
       "model_id": "be56f9d745df4d68b47c9ffd4e913fbf",
       "version_major": 2,
       "version_minor": 0
      },
      "text/plain": [
       "  0%|                                                                                                         …"
      ]
     },
     "metadata": {},
     "output_type": "display_data"
    },
    {
     "name": "stdout",
     "output_type": "stream",
     "text": [
      "/home/wmnlab/E/results/20240323_0800028652_new_dataset/dr_results/20240324_1800086626_new_dataset/20240324_20594600002_4eb2eb72dc52e959/\\home\\wmnlab\\E\\database\\2024-03-20\\UDP_Bandlock_9S_Phone_A\\sm01\\#01\\data\\udp_dnlk_loss_latency\\home\\wmnlab\\E\\database\\2024-03-20\\UDP_Bandlock_9S_Phone_A\\sm03\\#01\\data\\udp_dnlk_loss_latency.csv\n",
      "10/72 /home/wmnlab/E/database/2024-03-20/UDP_Bandlock_9S_Phone_A/sm01/#01/data/handover_info_log.csv\n",
      "10/72 /home/wmnlab/E/database/2024-03-20/UDP_Bandlock_9S_Phone_A/sm01/#01/data/udp_dnlk_loss_latency.csv\n",
      "10/72 /home/wmnlab/E/database/2024-03-20/UDP_Bandlock_9S_Phone_A/sm01/#01/data/udp_uplk_loss_latency.csv\n",
      "10/72 /home/wmnlab/E/database/2024-03-20/UDP_Bandlock_9S_Phone_A/sm04/#01/data/handover_info_log.csv\n",
      "10/72 /home/wmnlab/E/database/2024-03-20/UDP_Bandlock_9S_Phone_A/sm04/#01/data/udp_dnlk_loss_latency.csv\n",
      "10/72 /home/wmnlab/E/database/2024-03-20/UDP_Bandlock_9S_Phone_A/sm04/#01/data/udp_uplk_loss_latency.csv\n"
     ]
    },
    {
     "data": {
      "application/vnd.jupyter.widget-view+json": {
       "model_id": "a5d429956a1f4d6d97fc22e375ce2029",
       "version_major": 2,
       "version_minor": 0
      },
      "text/plain": [
       "  0%|                                                                                                         …"
      ]
     },
     "metadata": {},
     "output_type": "display_data"
    },
    {
     "name": "stdout",
     "output_type": "stream",
     "text": [
      "/home/wmnlab/E/results/20240323_0800028652_new_dataset/dr_results/20240324_1800086626_new_dataset/20240324_20594600002_4eb2eb72dc52e959/\\home\\wmnlab\\E\\database\\2024-03-20\\UDP_Bandlock_9S_Phone_A\\sm01\\#01\\data\\udp_dnlk_loss_latency\\home\\wmnlab\\E\\database\\2024-03-20\\UDP_Bandlock_9S_Phone_A\\sm04\\#01\\data\\udp_dnlk_loss_latency.csv\n",
      "11/72 /home/wmnlab/E/database/2024-03-20/UDP_Bandlock_9S_Phone_A/sm01/#01/data/handover_info_log.csv\n",
      "11/72 /home/wmnlab/E/database/2024-03-20/UDP_Bandlock_9S_Phone_A/sm01/#01/data/udp_dnlk_loss_latency.csv\n",
      "11/72 /home/wmnlab/E/database/2024-03-20/UDP_Bandlock_9S_Phone_A/sm01/#01/data/udp_uplk_loss_latency.csv\n",
      "11/72 /home/wmnlab/E/database/2024-03-20/UDP_Bandlock_9S_Phone_A/sm05/#01/data/handover_info_log.csv\n",
      "11/72 /home/wmnlab/E/database/2024-03-20/UDP_Bandlock_9S_Phone_A/sm05/#01/data/udp_dnlk_loss_latency.csv\n",
      "11/72 /home/wmnlab/E/database/2024-03-20/UDP_Bandlock_9S_Phone_A/sm05/#01/data/udp_uplk_loss_latency.csv\n"
     ]
    },
    {
     "data": {
      "application/vnd.jupyter.widget-view+json": {
       "model_id": "c17cd4d9ffbc4110ae8da7ecc86f3eba",
       "version_major": 2,
       "version_minor": 0
      },
      "text/plain": [
       "  0%|                                                                                                         …"
      ]
     },
     "metadata": {},
     "output_type": "display_data"
    },
    {
     "name": "stdout",
     "output_type": "stream",
     "text": [
      "/home/wmnlab/E/results/20240323_0800028652_new_dataset/dr_results/20240324_1800086626_new_dataset/20240324_20594600002_4eb2eb72dc52e959/\\home\\wmnlab\\E\\database\\2024-03-20\\UDP_Bandlock_9S_Phone_A\\sm01\\#01\\data\\udp_dnlk_loss_latency\\home\\wmnlab\\E\\database\\2024-03-20\\UDP_Bandlock_9S_Phone_A\\sm05\\#01\\data\\udp_dnlk_loss_latency.csv\n",
      "12/72 /home/wmnlab/E/database/2024-03-20/UDP_Bandlock_9S_Phone_A/sm01/#01/data/handover_info_log.csv\n",
      "12/72 /home/wmnlab/E/database/2024-03-20/UDP_Bandlock_9S_Phone_A/sm01/#01/data/udp_dnlk_loss_latency.csv\n",
      "12/72 /home/wmnlab/E/database/2024-03-20/UDP_Bandlock_9S_Phone_A/sm01/#01/data/udp_uplk_loss_latency.csv\n",
      "12/72 /home/wmnlab/E/database/2024-03-20/UDP_Bandlock_9S_Phone_A/sm06/#01/data/handover_info_log.csv\n",
      "12/72 /home/wmnlab/E/database/2024-03-20/UDP_Bandlock_9S_Phone_A/sm06/#01/data/udp_dnlk_loss_latency.csv\n",
      "12/72 /home/wmnlab/E/database/2024-03-20/UDP_Bandlock_9S_Phone_A/sm06/#01/data/udp_uplk_loss_latency.csv\n"
     ]
    },
    {
     "data": {
      "application/vnd.jupyter.widget-view+json": {
       "model_id": "0395cfaee1ee456491205e10c555acf6",
       "version_major": 2,
       "version_minor": 0
      },
      "text/plain": [
       "  0%|                                                                                                         …"
      ]
     },
     "metadata": {},
     "output_type": "display_data"
    },
    {
     "name": "stdout",
     "output_type": "stream",
     "text": [
      "/home/wmnlab/E/results/20240323_0800028652_new_dataset/dr_results/20240324_1800086626_new_dataset/20240324_20594600002_4eb2eb72dc52e959/\\home\\wmnlab\\E\\database\\2024-03-20\\UDP_Bandlock_9S_Phone_A\\sm01\\#01\\data\\udp_dnlk_loss_latency\\home\\wmnlab\\E\\database\\2024-03-20\\UDP_Bandlock_9S_Phone_A\\sm06\\#01\\data\\udp_dnlk_loss_latency.csv\n",
      "13/72 /home/wmnlab/E/database/2024-03-20/UDP_Bandlock_9S_Phone_A/sm01/#01/data/handover_info_log.csv\n",
      "13/72 /home/wmnlab/E/database/2024-03-20/UDP_Bandlock_9S_Phone_A/sm01/#01/data/udp_dnlk_loss_latency.csv\n",
      "13/72 /home/wmnlab/E/database/2024-03-20/UDP_Bandlock_9S_Phone_A/sm01/#01/data/udp_uplk_loss_latency.csv\n",
      "13/72 /home/wmnlab/E/database/2024-03-20/UDP_Bandlock_9S_Phone_A/sm07/#01/data/handover_info_log.csv\n",
      "13/72 /home/wmnlab/E/database/2024-03-20/UDP_Bandlock_9S_Phone_A/sm07/#01/data/udp_dnlk_loss_latency.csv\n",
      "13/72 /home/wmnlab/E/database/2024-03-20/UDP_Bandlock_9S_Phone_A/sm07/#01/data/udp_uplk_loss_latency.csv\n"
     ]
    },
    {
     "data": {
      "application/vnd.jupyter.widget-view+json": {
       "model_id": "7951e2f9e33a430ab380c59e5fd5e7b0",
       "version_major": 2,
       "version_minor": 0
      },
      "text/plain": [
       "  0%|                                                                                                         …"
      ]
     },
     "metadata": {},
     "output_type": "display_data"
    },
    {
     "name": "stdout",
     "output_type": "stream",
     "text": [
      "/home/wmnlab/E/results/20240323_0800028652_new_dataset/dr_results/20240324_1800086626_new_dataset/20240324_20594600002_4eb2eb72dc52e959/\\home\\wmnlab\\E\\database\\2024-03-20\\UDP_Bandlock_9S_Phone_A\\sm01\\#01\\data\\udp_dnlk_loss_latency\\home\\wmnlab\\E\\database\\2024-03-20\\UDP_Bandlock_9S_Phone_A\\sm07\\#01\\data\\udp_dnlk_loss_latency.csv\n",
      "14/72 /home/wmnlab/E/database/2024-03-20/UDP_Bandlock_9S_Phone_A/sm01/#01/data/handover_info_log.csv\n",
      "14/72 /home/wmnlab/E/database/2024-03-20/UDP_Bandlock_9S_Phone_A/sm01/#01/data/udp_dnlk_loss_latency.csv\n",
      "14/72 /home/wmnlab/E/database/2024-03-20/UDP_Bandlock_9S_Phone_A/sm01/#01/data/udp_uplk_loss_latency.csv\n",
      "14/72 /home/wmnlab/E/database/2024-03-20/UDP_Bandlock_9S_Phone_A/sm08/#01/data/handover_info_log.csv\n",
      "14/72 /home/wmnlab/E/database/2024-03-20/UDP_Bandlock_9S_Phone_A/sm08/#01/data/udp_dnlk_loss_latency.csv\n",
      "14/72 /home/wmnlab/E/database/2024-03-20/UDP_Bandlock_9S_Phone_A/sm08/#01/data/udp_uplk_loss_latency.csv\n"
     ]
    },
    {
     "data": {
      "application/vnd.jupyter.widget-view+json": {
       "model_id": "267c9fae83fd45a1a0a7f276d1c8aae7",
       "version_major": 2,
       "version_minor": 0
      },
      "text/plain": [
       "  0%|                                                                                                         …"
      ]
     },
     "metadata": {},
     "output_type": "display_data"
    },
    {
     "name": "stdout",
     "output_type": "stream",
     "text": [
      "/home/wmnlab/E/results/20240323_0800028652_new_dataset/dr_results/20240324_1800086626_new_dataset/20240324_20594600002_4eb2eb72dc52e959/\\home\\wmnlab\\E\\database\\2024-03-20\\UDP_Bandlock_9S_Phone_A\\sm01\\#01\\data\\udp_dnlk_loss_latency\\home\\wmnlab\\E\\database\\2024-03-20\\UDP_Bandlock_9S_Phone_A\\sm08\\#01\\data\\udp_dnlk_loss_latency.csv\n",
      "15/72 /home/wmnlab/E/database/2024-03-20/UDP_Bandlock_9S_Phone_A/sm02/#01/data/handover_info_log.csv\n",
      "15/72 /home/wmnlab/E/database/2024-03-20/UDP_Bandlock_9S_Phone_A/sm02/#01/data/udp_dnlk_loss_latency.csv\n",
      "15/72 /home/wmnlab/E/database/2024-03-20/UDP_Bandlock_9S_Phone_A/sm02/#01/data/udp_uplk_loss_latency.csv\n",
      "15/72 /home/wmnlab/E/database/2024-03-20/UDP_Bandlock_9S_Phone_A/sm03/#01/data/handover_info_log.csv\n",
      "15/72 /home/wmnlab/E/database/2024-03-20/UDP_Bandlock_9S_Phone_A/sm03/#01/data/udp_dnlk_loss_latency.csv\n",
      "15/72 /home/wmnlab/E/database/2024-03-20/UDP_Bandlock_9S_Phone_A/sm03/#01/data/udp_uplk_loss_latency.csv\n"
     ]
    },
    {
     "data": {
      "application/vnd.jupyter.widget-view+json": {
       "model_id": "9295c111492745c5a5ad81f3a3bcf1fb",
       "version_major": 2,
       "version_minor": 0
      },
      "text/plain": [
       "  0%|                                                                                                         …"
      ]
     },
     "metadata": {},
     "output_type": "display_data"
    },
    {
     "name": "stdout",
     "output_type": "stream",
     "text": [
      "/home/wmnlab/E/results/20240323_0800028652_new_dataset/dr_results/20240324_1800086626_new_dataset/20240324_20594600002_4eb2eb72dc52e959/\\home\\wmnlab\\E\\database\\2024-03-20\\UDP_Bandlock_9S_Phone_A\\sm02\\#01\\data\\udp_dnlk_loss_latency\\home\\wmnlab\\E\\database\\2024-03-20\\UDP_Bandlock_9S_Phone_A\\sm03\\#01\\data\\udp_dnlk_loss_latency.csv\n",
      "16/72 /home/wmnlab/E/database/2024-03-20/UDP_Bandlock_9S_Phone_A/sm02/#01/data/handover_info_log.csv\n",
      "16/72 /home/wmnlab/E/database/2024-03-20/UDP_Bandlock_9S_Phone_A/sm02/#01/data/udp_dnlk_loss_latency.csv\n",
      "16/72 /home/wmnlab/E/database/2024-03-20/UDP_Bandlock_9S_Phone_A/sm02/#01/data/udp_uplk_loss_latency.csv\n",
      "16/72 /home/wmnlab/E/database/2024-03-20/UDP_Bandlock_9S_Phone_A/sm04/#01/data/handover_info_log.csv\n",
      "16/72 /home/wmnlab/E/database/2024-03-20/UDP_Bandlock_9S_Phone_A/sm04/#01/data/udp_dnlk_loss_latency.csv\n",
      "16/72 /home/wmnlab/E/database/2024-03-20/UDP_Bandlock_9S_Phone_A/sm04/#01/data/udp_uplk_loss_latency.csv\n"
     ]
    },
    {
     "data": {
      "application/vnd.jupyter.widget-view+json": {
       "model_id": "078dae0f95404f23911c2b7d2d5e3654",
       "version_major": 2,
       "version_minor": 0
      },
      "text/plain": [
       "  0%|                                                                                                         …"
      ]
     },
     "metadata": {},
     "output_type": "display_data"
    },
    {
     "name": "stdout",
     "output_type": "stream",
     "text": [
      "/home/wmnlab/E/results/20240323_0800028652_new_dataset/dr_results/20240324_1800086626_new_dataset/20240324_20594600002_4eb2eb72dc52e959/\\home\\wmnlab\\E\\database\\2024-03-20\\UDP_Bandlock_9S_Phone_A\\sm02\\#01\\data\\udp_dnlk_loss_latency\\home\\wmnlab\\E\\database\\2024-03-20\\UDP_Bandlock_9S_Phone_A\\sm04\\#01\\data\\udp_dnlk_loss_latency.csv\n",
      "17/72 /home/wmnlab/E/database/2024-03-20/UDP_Bandlock_9S_Phone_A/sm02/#01/data/handover_info_log.csv\n",
      "17/72 /home/wmnlab/E/database/2024-03-20/UDP_Bandlock_9S_Phone_A/sm02/#01/data/udp_dnlk_loss_latency.csv\n",
      "17/72 /home/wmnlab/E/database/2024-03-20/UDP_Bandlock_9S_Phone_A/sm02/#01/data/udp_uplk_loss_latency.csv\n",
      "17/72 /home/wmnlab/E/database/2024-03-20/UDP_Bandlock_9S_Phone_A/sm05/#01/data/handover_info_log.csv\n",
      "17/72 /home/wmnlab/E/database/2024-03-20/UDP_Bandlock_9S_Phone_A/sm05/#01/data/udp_dnlk_loss_latency.csv\n",
      "17/72 /home/wmnlab/E/database/2024-03-20/UDP_Bandlock_9S_Phone_A/sm05/#01/data/udp_uplk_loss_latency.csv\n"
     ]
    },
    {
     "data": {
      "application/vnd.jupyter.widget-view+json": {
       "model_id": "3cf2ff15c9dc4454afa1cc7fbc88e3b2",
       "version_major": 2,
       "version_minor": 0
      },
      "text/plain": [
       "  0%|                                                                                                         …"
      ]
     },
     "metadata": {},
     "output_type": "display_data"
    },
    {
     "name": "stdout",
     "output_type": "stream",
     "text": [
      "/home/wmnlab/E/results/20240323_0800028652_new_dataset/dr_results/20240324_1800086626_new_dataset/20240324_20594600002_4eb2eb72dc52e959/\\home\\wmnlab\\E\\database\\2024-03-20\\UDP_Bandlock_9S_Phone_A\\sm02\\#01\\data\\udp_dnlk_loss_latency\\home\\wmnlab\\E\\database\\2024-03-20\\UDP_Bandlock_9S_Phone_A\\sm05\\#01\\data\\udp_dnlk_loss_latency.csv\n",
      "18/72 /home/wmnlab/E/database/2024-03-20/UDP_Bandlock_9S_Phone_A/sm02/#01/data/handover_info_log.csv\n",
      "18/72 /home/wmnlab/E/database/2024-03-20/UDP_Bandlock_9S_Phone_A/sm02/#01/data/udp_dnlk_loss_latency.csv\n",
      "18/72 /home/wmnlab/E/database/2024-03-20/UDP_Bandlock_9S_Phone_A/sm02/#01/data/udp_uplk_loss_latency.csv\n",
      "18/72 /home/wmnlab/E/database/2024-03-20/UDP_Bandlock_9S_Phone_A/sm06/#01/data/handover_info_log.csv\n",
      "18/72 /home/wmnlab/E/database/2024-03-20/UDP_Bandlock_9S_Phone_A/sm06/#01/data/udp_dnlk_loss_latency.csv\n",
      "18/72 /home/wmnlab/E/database/2024-03-20/UDP_Bandlock_9S_Phone_A/sm06/#01/data/udp_uplk_loss_latency.csv\n"
     ]
    },
    {
     "data": {
      "application/vnd.jupyter.widget-view+json": {
       "model_id": "2f1c7c0b4d43490981382690c6404219",
       "version_major": 2,
       "version_minor": 0
      },
      "text/plain": [
       "  0%|                                                                                                         …"
      ]
     },
     "metadata": {},
     "output_type": "display_data"
    },
    {
     "name": "stdout",
     "output_type": "stream",
     "text": [
      "/home/wmnlab/E/results/20240323_0800028652_new_dataset/dr_results/20240324_1800086626_new_dataset/20240324_20594600002_4eb2eb72dc52e959/\\home\\wmnlab\\E\\database\\2024-03-20\\UDP_Bandlock_9S_Phone_A\\sm02\\#01\\data\\udp_dnlk_loss_latency\\home\\wmnlab\\E\\database\\2024-03-20\\UDP_Bandlock_9S_Phone_A\\sm06\\#01\\data\\udp_dnlk_loss_latency.csv\n",
      "19/72 /home/wmnlab/E/database/2024-03-20/UDP_Bandlock_9S_Phone_A/sm02/#01/data/handover_info_log.csv\n",
      "19/72 /home/wmnlab/E/database/2024-03-20/UDP_Bandlock_9S_Phone_A/sm02/#01/data/udp_dnlk_loss_latency.csv\n",
      "19/72 /home/wmnlab/E/database/2024-03-20/UDP_Bandlock_9S_Phone_A/sm02/#01/data/udp_uplk_loss_latency.csv\n",
      "19/72 /home/wmnlab/E/database/2024-03-20/UDP_Bandlock_9S_Phone_A/sm07/#01/data/handover_info_log.csv\n",
      "19/72 /home/wmnlab/E/database/2024-03-20/UDP_Bandlock_9S_Phone_A/sm07/#01/data/udp_dnlk_loss_latency.csv\n",
      "19/72 /home/wmnlab/E/database/2024-03-20/UDP_Bandlock_9S_Phone_A/sm07/#01/data/udp_uplk_loss_latency.csv\n"
     ]
    },
    {
     "data": {
      "application/vnd.jupyter.widget-view+json": {
       "model_id": "e03f24178a4c4915badacd3f5d570600",
       "version_major": 2,
       "version_minor": 0
      },
      "text/plain": [
       "  0%|                                                                                                         …"
      ]
     },
     "metadata": {},
     "output_type": "display_data"
    },
    {
     "name": "stdout",
     "output_type": "stream",
     "text": [
      "/home/wmnlab/E/results/20240323_0800028652_new_dataset/dr_results/20240324_1800086626_new_dataset/20240324_20594600002_4eb2eb72dc52e959/\\home\\wmnlab\\E\\database\\2024-03-20\\UDP_Bandlock_9S_Phone_A\\sm02\\#01\\data\\udp_dnlk_loss_latency\\home\\wmnlab\\E\\database\\2024-03-20\\UDP_Bandlock_9S_Phone_A\\sm07\\#01\\data\\udp_dnlk_loss_latency.csv\n",
      "20/72 /home/wmnlab/E/database/2024-03-20/UDP_Bandlock_9S_Phone_A/sm02/#01/data/handover_info_log.csv\n",
      "20/72 /home/wmnlab/E/database/2024-03-20/UDP_Bandlock_9S_Phone_A/sm02/#01/data/udp_dnlk_loss_latency.csv\n",
      "20/72 /home/wmnlab/E/database/2024-03-20/UDP_Bandlock_9S_Phone_A/sm02/#01/data/udp_uplk_loss_latency.csv\n",
      "20/72 /home/wmnlab/E/database/2024-03-20/UDP_Bandlock_9S_Phone_A/sm08/#01/data/handover_info_log.csv\n",
      "20/72 /home/wmnlab/E/database/2024-03-20/UDP_Bandlock_9S_Phone_A/sm08/#01/data/udp_dnlk_loss_latency.csv\n",
      "20/72 /home/wmnlab/E/database/2024-03-20/UDP_Bandlock_9S_Phone_A/sm08/#01/data/udp_uplk_loss_latency.csv\n"
     ]
    },
    {
     "data": {
      "application/vnd.jupyter.widget-view+json": {
       "model_id": "72811945cec747c7a8af1a09f2aaf1e3",
       "version_major": 2,
       "version_minor": 0
      },
      "text/plain": [
       "  0%|                                                                                                         …"
      ]
     },
     "metadata": {},
     "output_type": "display_data"
    },
    {
     "name": "stdout",
     "output_type": "stream",
     "text": [
      "/home/wmnlab/E/results/20240323_0800028652_new_dataset/dr_results/20240324_1800086626_new_dataset/20240324_20594600002_4eb2eb72dc52e959/\\home\\wmnlab\\E\\database\\2024-03-20\\UDP_Bandlock_9S_Phone_A\\sm02\\#01\\data\\udp_dnlk_loss_latency\\home\\wmnlab\\E\\database\\2024-03-20\\UDP_Bandlock_9S_Phone_A\\sm08\\#01\\data\\udp_dnlk_loss_latency.csv\n",
      "21/72 /home/wmnlab/E/database/2024-03-20/UDP_Bandlock_9S_Phone_A/sm03/#01/data/handover_info_log.csv\n",
      "21/72 /home/wmnlab/E/database/2024-03-20/UDP_Bandlock_9S_Phone_A/sm03/#01/data/udp_dnlk_loss_latency.csv\n",
      "21/72 /home/wmnlab/E/database/2024-03-20/UDP_Bandlock_9S_Phone_A/sm03/#01/data/udp_uplk_loss_latency.csv\n",
      "21/72 /home/wmnlab/E/database/2024-03-20/UDP_Bandlock_9S_Phone_A/sm04/#01/data/handover_info_log.csv\n",
      "21/72 /home/wmnlab/E/database/2024-03-20/UDP_Bandlock_9S_Phone_A/sm04/#01/data/udp_dnlk_loss_latency.csv\n",
      "21/72 /home/wmnlab/E/database/2024-03-20/UDP_Bandlock_9S_Phone_A/sm04/#01/data/udp_uplk_loss_latency.csv\n"
     ]
    },
    {
     "data": {
      "application/vnd.jupyter.widget-view+json": {
       "model_id": "debe461bfb784bcf83f258eff93e0938",
       "version_major": 2,
       "version_minor": 0
      },
      "text/plain": [
       "  0%|                                                                                                         …"
      ]
     },
     "metadata": {},
     "output_type": "display_data"
    },
    {
     "name": "stdout",
     "output_type": "stream",
     "text": [
      "/home/wmnlab/E/results/20240323_0800028652_new_dataset/dr_results/20240324_1800086626_new_dataset/20240324_20594600002_4eb2eb72dc52e959/\\home\\wmnlab\\E\\database\\2024-03-20\\UDP_Bandlock_9S_Phone_A\\sm03\\#01\\data\\udp_dnlk_loss_latency\\home\\wmnlab\\E\\database\\2024-03-20\\UDP_Bandlock_9S_Phone_A\\sm04\\#01\\data\\udp_dnlk_loss_latency.csv\n",
      "22/72 /home/wmnlab/E/database/2024-03-20/UDP_Bandlock_9S_Phone_A/sm03/#01/data/handover_info_log.csv\n",
      "22/72 /home/wmnlab/E/database/2024-03-20/UDP_Bandlock_9S_Phone_A/sm03/#01/data/udp_dnlk_loss_latency.csv\n",
      "22/72 /home/wmnlab/E/database/2024-03-20/UDP_Bandlock_9S_Phone_A/sm03/#01/data/udp_uplk_loss_latency.csv\n",
      "22/72 /home/wmnlab/E/database/2024-03-20/UDP_Bandlock_9S_Phone_A/sm05/#01/data/handover_info_log.csv\n",
      "22/72 /home/wmnlab/E/database/2024-03-20/UDP_Bandlock_9S_Phone_A/sm05/#01/data/udp_dnlk_loss_latency.csv\n",
      "22/72 /home/wmnlab/E/database/2024-03-20/UDP_Bandlock_9S_Phone_A/sm05/#01/data/udp_uplk_loss_latency.csv\n"
     ]
    },
    {
     "data": {
      "application/vnd.jupyter.widget-view+json": {
       "model_id": "ed478650239842fe890dfc10aea7b8ae",
       "version_major": 2,
       "version_minor": 0
      },
      "text/plain": [
       "  0%|                                                                                                         …"
      ]
     },
     "metadata": {},
     "output_type": "display_data"
    },
    {
     "name": "stdout",
     "output_type": "stream",
     "text": [
      "/home/wmnlab/E/results/20240323_0800028652_new_dataset/dr_results/20240324_1800086626_new_dataset/20240324_20594600002_4eb2eb72dc52e959/\\home\\wmnlab\\E\\database\\2024-03-20\\UDP_Bandlock_9S_Phone_A\\sm03\\#01\\data\\udp_dnlk_loss_latency\\home\\wmnlab\\E\\database\\2024-03-20\\UDP_Bandlock_9S_Phone_A\\sm05\\#01\\data\\udp_dnlk_loss_latency.csv\n",
      "23/72 /home/wmnlab/E/database/2024-03-20/UDP_Bandlock_9S_Phone_A/sm03/#01/data/handover_info_log.csv\n",
      "23/72 /home/wmnlab/E/database/2024-03-20/UDP_Bandlock_9S_Phone_A/sm03/#01/data/udp_dnlk_loss_latency.csv\n",
      "23/72 /home/wmnlab/E/database/2024-03-20/UDP_Bandlock_9S_Phone_A/sm03/#01/data/udp_uplk_loss_latency.csv\n",
      "23/72 /home/wmnlab/E/database/2024-03-20/UDP_Bandlock_9S_Phone_A/sm06/#01/data/handover_info_log.csv\n",
      "23/72 /home/wmnlab/E/database/2024-03-20/UDP_Bandlock_9S_Phone_A/sm06/#01/data/udp_dnlk_loss_latency.csv\n",
      "23/72 /home/wmnlab/E/database/2024-03-20/UDP_Bandlock_9S_Phone_A/sm06/#01/data/udp_uplk_loss_latency.csv\n"
     ]
    },
    {
     "data": {
      "application/vnd.jupyter.widget-view+json": {
       "model_id": "529489f98cb047559f0761606477e742",
       "version_major": 2,
       "version_minor": 0
      },
      "text/plain": [
       "  0%|                                                                                                         …"
      ]
     },
     "metadata": {},
     "output_type": "display_data"
    },
    {
     "name": "stdout",
     "output_type": "stream",
     "text": [
      "/home/wmnlab/E/results/20240323_0800028652_new_dataset/dr_results/20240324_1800086626_new_dataset/20240324_20594600002_4eb2eb72dc52e959/\\home\\wmnlab\\E\\database\\2024-03-20\\UDP_Bandlock_9S_Phone_A\\sm03\\#01\\data\\udp_dnlk_loss_latency\\home\\wmnlab\\E\\database\\2024-03-20\\UDP_Bandlock_9S_Phone_A\\sm06\\#01\\data\\udp_dnlk_loss_latency.csv\n",
      "24/72 /home/wmnlab/E/database/2024-03-20/UDP_Bandlock_9S_Phone_A/sm03/#01/data/handover_info_log.csv\n",
      "24/72 /home/wmnlab/E/database/2024-03-20/UDP_Bandlock_9S_Phone_A/sm03/#01/data/udp_dnlk_loss_latency.csv\n",
      "24/72 /home/wmnlab/E/database/2024-03-20/UDP_Bandlock_9S_Phone_A/sm03/#01/data/udp_uplk_loss_latency.csv\n",
      "24/72 /home/wmnlab/E/database/2024-03-20/UDP_Bandlock_9S_Phone_A/sm07/#01/data/handover_info_log.csv\n",
      "24/72 /home/wmnlab/E/database/2024-03-20/UDP_Bandlock_9S_Phone_A/sm07/#01/data/udp_dnlk_loss_latency.csv\n",
      "24/72 /home/wmnlab/E/database/2024-03-20/UDP_Bandlock_9S_Phone_A/sm07/#01/data/udp_uplk_loss_latency.csv\n"
     ]
    },
    {
     "data": {
      "application/vnd.jupyter.widget-view+json": {
       "model_id": "dabe45592d204287abadc1d09b64d7a6",
       "version_major": 2,
       "version_minor": 0
      },
      "text/plain": [
       "  0%|                                                                                                         …"
      ]
     },
     "metadata": {},
     "output_type": "display_data"
    },
    {
     "name": "stdout",
     "output_type": "stream",
     "text": [
      "/home/wmnlab/E/results/20240323_0800028652_new_dataset/dr_results/20240324_1800086626_new_dataset/20240324_20594600002_4eb2eb72dc52e959/\\home\\wmnlab\\E\\database\\2024-03-20\\UDP_Bandlock_9S_Phone_A\\sm03\\#01\\data\\udp_dnlk_loss_latency\\home\\wmnlab\\E\\database\\2024-03-20\\UDP_Bandlock_9S_Phone_A\\sm07\\#01\\data\\udp_dnlk_loss_latency.csv\n",
      "25/72 /home/wmnlab/E/database/2024-03-20/UDP_Bandlock_9S_Phone_A/sm03/#01/data/handover_info_log.csv\n",
      "25/72 /home/wmnlab/E/database/2024-03-20/UDP_Bandlock_9S_Phone_A/sm03/#01/data/udp_dnlk_loss_latency.csv\n",
      "25/72 /home/wmnlab/E/database/2024-03-20/UDP_Bandlock_9S_Phone_A/sm03/#01/data/udp_uplk_loss_latency.csv\n",
      "25/72 /home/wmnlab/E/database/2024-03-20/UDP_Bandlock_9S_Phone_A/sm08/#01/data/handover_info_log.csv\n",
      "25/72 /home/wmnlab/E/database/2024-03-20/UDP_Bandlock_9S_Phone_A/sm08/#01/data/udp_dnlk_loss_latency.csv\n",
      "25/72 /home/wmnlab/E/database/2024-03-20/UDP_Bandlock_9S_Phone_A/sm08/#01/data/udp_uplk_loss_latency.csv\n"
     ]
    },
    {
     "data": {
      "application/vnd.jupyter.widget-view+json": {
       "model_id": "7dfa9049537a47629e4acd97320313ac",
       "version_major": 2,
       "version_minor": 0
      },
      "text/plain": [
       "  0%|                                                                                                         …"
      ]
     },
     "metadata": {},
     "output_type": "display_data"
    },
    {
     "name": "stdout",
     "output_type": "stream",
     "text": [
      "/home/wmnlab/E/results/20240323_0800028652_new_dataset/dr_results/20240324_1800086626_new_dataset/20240324_20594600002_4eb2eb72dc52e959/\\home\\wmnlab\\E\\database\\2024-03-20\\UDP_Bandlock_9S_Phone_A\\sm03\\#01\\data\\udp_dnlk_loss_latency\\home\\wmnlab\\E\\database\\2024-03-20\\UDP_Bandlock_9S_Phone_A\\sm08\\#01\\data\\udp_dnlk_loss_latency.csv\n",
      "26/72 /home/wmnlab/E/database/2024-03-20/UDP_Bandlock_9S_Phone_A/sm04/#01/data/handover_info_log.csv\n",
      "26/72 /home/wmnlab/E/database/2024-03-20/UDP_Bandlock_9S_Phone_A/sm04/#01/data/udp_dnlk_loss_latency.csv\n",
      "26/72 /home/wmnlab/E/database/2024-03-20/UDP_Bandlock_9S_Phone_A/sm04/#01/data/udp_uplk_loss_latency.csv\n",
      "26/72 /home/wmnlab/E/database/2024-03-20/UDP_Bandlock_9S_Phone_A/sm05/#01/data/handover_info_log.csv\n",
      "26/72 /home/wmnlab/E/database/2024-03-20/UDP_Bandlock_9S_Phone_A/sm05/#01/data/udp_dnlk_loss_latency.csv\n",
      "26/72 /home/wmnlab/E/database/2024-03-20/UDP_Bandlock_9S_Phone_A/sm05/#01/data/udp_uplk_loss_latency.csv\n"
     ]
    },
    {
     "data": {
      "application/vnd.jupyter.widget-view+json": {
       "model_id": "ee99eb1a8a6d437b915048aeb891bc42",
       "version_major": 2,
       "version_minor": 0
      },
      "text/plain": [
       "  0%|                                                                                                         …"
      ]
     },
     "metadata": {},
     "output_type": "display_data"
    },
    {
     "name": "stdout",
     "output_type": "stream",
     "text": [
      "/home/wmnlab/E/results/20240323_0800028652_new_dataset/dr_results/20240324_1800086626_new_dataset/20240324_20594600002_4eb2eb72dc52e959/\\home\\wmnlab\\E\\database\\2024-03-20\\UDP_Bandlock_9S_Phone_A\\sm04\\#01\\data\\udp_dnlk_loss_latency\\home\\wmnlab\\E\\database\\2024-03-20\\UDP_Bandlock_9S_Phone_A\\sm05\\#01\\data\\udp_dnlk_loss_latency.csv\n",
      "27/72 /home/wmnlab/E/database/2024-03-20/UDP_Bandlock_9S_Phone_A/sm04/#01/data/handover_info_log.csv\n",
      "27/72 /home/wmnlab/E/database/2024-03-20/UDP_Bandlock_9S_Phone_A/sm04/#01/data/udp_dnlk_loss_latency.csv\n",
      "27/72 /home/wmnlab/E/database/2024-03-20/UDP_Bandlock_9S_Phone_A/sm04/#01/data/udp_uplk_loss_latency.csv\n",
      "27/72 /home/wmnlab/E/database/2024-03-20/UDP_Bandlock_9S_Phone_A/sm06/#01/data/handover_info_log.csv\n",
      "27/72 /home/wmnlab/E/database/2024-03-20/UDP_Bandlock_9S_Phone_A/sm06/#01/data/udp_dnlk_loss_latency.csv\n",
      "27/72 /home/wmnlab/E/database/2024-03-20/UDP_Bandlock_9S_Phone_A/sm06/#01/data/udp_uplk_loss_latency.csv\n"
     ]
    },
    {
     "data": {
      "application/vnd.jupyter.widget-view+json": {
       "model_id": "e322e360e30947f9a4958c469f95c7dc",
       "version_major": 2,
       "version_minor": 0
      },
      "text/plain": [
       "  0%|                                                                                                         …"
      ]
     },
     "metadata": {},
     "output_type": "display_data"
    },
    {
     "name": "stdout",
     "output_type": "stream",
     "text": [
      "/home/wmnlab/E/results/20240323_0800028652_new_dataset/dr_results/20240324_1800086626_new_dataset/20240324_20594600002_4eb2eb72dc52e959/\\home\\wmnlab\\E\\database\\2024-03-20\\UDP_Bandlock_9S_Phone_A\\sm04\\#01\\data\\udp_dnlk_loss_latency\\home\\wmnlab\\E\\database\\2024-03-20\\UDP_Bandlock_9S_Phone_A\\sm06\\#01\\data\\udp_dnlk_loss_latency.csv\n",
      "28/72 /home/wmnlab/E/database/2024-03-20/UDP_Bandlock_9S_Phone_A/sm04/#01/data/handover_info_log.csv\n",
      "28/72 /home/wmnlab/E/database/2024-03-20/UDP_Bandlock_9S_Phone_A/sm04/#01/data/udp_dnlk_loss_latency.csv\n",
      "28/72 /home/wmnlab/E/database/2024-03-20/UDP_Bandlock_9S_Phone_A/sm04/#01/data/udp_uplk_loss_latency.csv\n",
      "28/72 /home/wmnlab/E/database/2024-03-20/UDP_Bandlock_9S_Phone_A/sm07/#01/data/handover_info_log.csv\n",
      "28/72 /home/wmnlab/E/database/2024-03-20/UDP_Bandlock_9S_Phone_A/sm07/#01/data/udp_dnlk_loss_latency.csv\n",
      "28/72 /home/wmnlab/E/database/2024-03-20/UDP_Bandlock_9S_Phone_A/sm07/#01/data/udp_uplk_loss_latency.csv\n"
     ]
    },
    {
     "data": {
      "application/vnd.jupyter.widget-view+json": {
       "model_id": "15b2f71a94d343418174b01a2e228cfc",
       "version_major": 2,
       "version_minor": 0
      },
      "text/plain": [
       "  0%|                                                                                                         …"
      ]
     },
     "metadata": {},
     "output_type": "display_data"
    },
    {
     "name": "stdout",
     "output_type": "stream",
     "text": [
      "/home/wmnlab/E/results/20240323_0800028652_new_dataset/dr_results/20240324_1800086626_new_dataset/20240324_20594600002_4eb2eb72dc52e959/\\home\\wmnlab\\E\\database\\2024-03-20\\UDP_Bandlock_9S_Phone_A\\sm04\\#01\\data\\udp_dnlk_loss_latency\\home\\wmnlab\\E\\database\\2024-03-20\\UDP_Bandlock_9S_Phone_A\\sm07\\#01\\data\\udp_dnlk_loss_latency.csv\n",
      "29/72 /home/wmnlab/E/database/2024-03-20/UDP_Bandlock_9S_Phone_A/sm04/#01/data/handover_info_log.csv\n",
      "29/72 /home/wmnlab/E/database/2024-03-20/UDP_Bandlock_9S_Phone_A/sm04/#01/data/udp_dnlk_loss_latency.csv\n",
      "29/72 /home/wmnlab/E/database/2024-03-20/UDP_Bandlock_9S_Phone_A/sm04/#01/data/udp_uplk_loss_latency.csv\n",
      "29/72 /home/wmnlab/E/database/2024-03-20/UDP_Bandlock_9S_Phone_A/sm08/#01/data/handover_info_log.csv\n",
      "29/72 /home/wmnlab/E/database/2024-03-20/UDP_Bandlock_9S_Phone_A/sm08/#01/data/udp_dnlk_loss_latency.csv\n",
      "29/72 /home/wmnlab/E/database/2024-03-20/UDP_Bandlock_9S_Phone_A/sm08/#01/data/udp_uplk_loss_latency.csv\n"
     ]
    },
    {
     "data": {
      "application/vnd.jupyter.widget-view+json": {
       "model_id": "cd2faad65fa74851bbc6fc0aae375cd1",
       "version_major": 2,
       "version_minor": 0
      },
      "text/plain": [
       "  0%|                                                                                                         …"
      ]
     },
     "metadata": {},
     "output_type": "display_data"
    },
    {
     "name": "stdout",
     "output_type": "stream",
     "text": [
      "/home/wmnlab/E/results/20240323_0800028652_new_dataset/dr_results/20240324_1800086626_new_dataset/20240324_20594600002_4eb2eb72dc52e959/\\home\\wmnlab\\E\\database\\2024-03-20\\UDP_Bandlock_9S_Phone_A\\sm04\\#01\\data\\udp_dnlk_loss_latency\\home\\wmnlab\\E\\database\\2024-03-20\\UDP_Bandlock_9S_Phone_A\\sm08\\#01\\data\\udp_dnlk_loss_latency.csv\n",
      "30/72 /home/wmnlab/E/database/2024-03-20/UDP_Bandlock_9S_Phone_A/sm05/#01/data/handover_info_log.csv\n",
      "30/72 /home/wmnlab/E/database/2024-03-20/UDP_Bandlock_9S_Phone_A/sm05/#01/data/udp_dnlk_loss_latency.csv\n",
      "30/72 /home/wmnlab/E/database/2024-03-20/UDP_Bandlock_9S_Phone_A/sm05/#01/data/udp_uplk_loss_latency.csv\n",
      "30/72 /home/wmnlab/E/database/2024-03-20/UDP_Bandlock_9S_Phone_A/sm06/#01/data/handover_info_log.csv\n",
      "30/72 /home/wmnlab/E/database/2024-03-20/UDP_Bandlock_9S_Phone_A/sm06/#01/data/udp_dnlk_loss_latency.csv\n",
      "30/72 /home/wmnlab/E/database/2024-03-20/UDP_Bandlock_9S_Phone_A/sm06/#01/data/udp_uplk_loss_latency.csv\n"
     ]
    },
    {
     "data": {
      "application/vnd.jupyter.widget-view+json": {
       "model_id": "bdb9e8b48d8e43f0b7b7f55070a35333",
       "version_major": 2,
       "version_minor": 0
      },
      "text/plain": [
       "  0%|                                                                                                         …"
      ]
     },
     "metadata": {},
     "output_type": "display_data"
    },
    {
     "name": "stdout",
     "output_type": "stream",
     "text": [
      "/home/wmnlab/E/results/20240323_0800028652_new_dataset/dr_results/20240324_1800086626_new_dataset/20240324_20594600002_4eb2eb72dc52e959/\\home\\wmnlab\\E\\database\\2024-03-20\\UDP_Bandlock_9S_Phone_A\\sm05\\#01\\data\\udp_dnlk_loss_latency\\home\\wmnlab\\E\\database\\2024-03-20\\UDP_Bandlock_9S_Phone_A\\sm06\\#01\\data\\udp_dnlk_loss_latency.csv\n",
      "31/72 /home/wmnlab/E/database/2024-03-20/UDP_Bandlock_9S_Phone_A/sm05/#01/data/handover_info_log.csv\n",
      "31/72 /home/wmnlab/E/database/2024-03-20/UDP_Bandlock_9S_Phone_A/sm05/#01/data/udp_dnlk_loss_latency.csv\n",
      "31/72 /home/wmnlab/E/database/2024-03-20/UDP_Bandlock_9S_Phone_A/sm05/#01/data/udp_uplk_loss_latency.csv\n",
      "31/72 /home/wmnlab/E/database/2024-03-20/UDP_Bandlock_9S_Phone_A/sm07/#01/data/handover_info_log.csv\n",
      "31/72 /home/wmnlab/E/database/2024-03-20/UDP_Bandlock_9S_Phone_A/sm07/#01/data/udp_dnlk_loss_latency.csv\n",
      "31/72 /home/wmnlab/E/database/2024-03-20/UDP_Bandlock_9S_Phone_A/sm07/#01/data/udp_uplk_loss_latency.csv\n"
     ]
    },
    {
     "data": {
      "application/vnd.jupyter.widget-view+json": {
       "model_id": "abe610e2d56f4a809d747aaf1f5f3251",
       "version_major": 2,
       "version_minor": 0
      },
      "text/plain": [
       "  0%|                                                                                                         …"
      ]
     },
     "metadata": {},
     "output_type": "display_data"
    },
    {
     "name": "stdout",
     "output_type": "stream",
     "text": [
      "/home/wmnlab/E/results/20240323_0800028652_new_dataset/dr_results/20240324_1800086626_new_dataset/20240324_20594600002_4eb2eb72dc52e959/\\home\\wmnlab\\E\\database\\2024-03-20\\UDP_Bandlock_9S_Phone_A\\sm05\\#01\\data\\udp_dnlk_loss_latency\\home\\wmnlab\\E\\database\\2024-03-20\\UDP_Bandlock_9S_Phone_A\\sm07\\#01\\data\\udp_dnlk_loss_latency.csv\n",
      "32/72 /home/wmnlab/E/database/2024-03-20/UDP_Bandlock_9S_Phone_A/sm05/#01/data/handover_info_log.csv\n",
      "32/72 /home/wmnlab/E/database/2024-03-20/UDP_Bandlock_9S_Phone_A/sm05/#01/data/udp_dnlk_loss_latency.csv\n",
      "32/72 /home/wmnlab/E/database/2024-03-20/UDP_Bandlock_9S_Phone_A/sm05/#01/data/udp_uplk_loss_latency.csv\n",
      "32/72 /home/wmnlab/E/database/2024-03-20/UDP_Bandlock_9S_Phone_A/sm08/#01/data/handover_info_log.csv\n",
      "32/72 /home/wmnlab/E/database/2024-03-20/UDP_Bandlock_9S_Phone_A/sm08/#01/data/udp_dnlk_loss_latency.csv\n",
      "32/72 /home/wmnlab/E/database/2024-03-20/UDP_Bandlock_9S_Phone_A/sm08/#01/data/udp_uplk_loss_latency.csv\n"
     ]
    },
    {
     "data": {
      "application/vnd.jupyter.widget-view+json": {
       "model_id": "04d3745739d04df8b1198ab01cce9ff0",
       "version_major": 2,
       "version_minor": 0
      },
      "text/plain": [
       "  0%|                                                                                                         …"
      ]
     },
     "metadata": {},
     "output_type": "display_data"
    },
    {
     "name": "stdout",
     "output_type": "stream",
     "text": [
      "/home/wmnlab/E/results/20240323_0800028652_new_dataset/dr_results/20240324_1800086626_new_dataset/20240324_20594600002_4eb2eb72dc52e959/\\home\\wmnlab\\E\\database\\2024-03-20\\UDP_Bandlock_9S_Phone_A\\sm05\\#01\\data\\udp_dnlk_loss_latency\\home\\wmnlab\\E\\database\\2024-03-20\\UDP_Bandlock_9S_Phone_A\\sm08\\#01\\data\\udp_dnlk_loss_latency.csv\n",
      "33/72 /home/wmnlab/E/database/2024-03-20/UDP_Bandlock_9S_Phone_A/sm06/#01/data/handover_info_log.csv\n",
      "33/72 /home/wmnlab/E/database/2024-03-20/UDP_Bandlock_9S_Phone_A/sm06/#01/data/udp_dnlk_loss_latency.csv\n",
      "33/72 /home/wmnlab/E/database/2024-03-20/UDP_Bandlock_9S_Phone_A/sm06/#01/data/udp_uplk_loss_latency.csv\n",
      "33/72 /home/wmnlab/E/database/2024-03-20/UDP_Bandlock_9S_Phone_A/sm07/#01/data/handover_info_log.csv\n",
      "33/72 /home/wmnlab/E/database/2024-03-20/UDP_Bandlock_9S_Phone_A/sm07/#01/data/udp_dnlk_loss_latency.csv\n",
      "33/72 /home/wmnlab/E/database/2024-03-20/UDP_Bandlock_9S_Phone_A/sm07/#01/data/udp_uplk_loss_latency.csv\n"
     ]
    },
    {
     "data": {
      "application/vnd.jupyter.widget-view+json": {
       "model_id": "7fad08faf8d84e08b49fac1fc3ed6cec",
       "version_major": 2,
       "version_minor": 0
      },
      "text/plain": [
       "  0%|                                                                                                         …"
      ]
     },
     "metadata": {},
     "output_type": "display_data"
    }
   ],
   "source": [
    "eval = DrEval(filepaths, model_name='A', sr_model_id=sr_model_id, dr_model_id=dr_model_id)\n",
    "eval.run_hist_method(N=1)\n",
    "eval.plot('A')"
   ]
  },
  {
   "cell_type": "markdown",
   "metadata": {},
   "source": [
    "## Adjusted Model"
   ]
  },
  {
   "cell_type": "code",
   "execution_count": null,
   "metadata": {},
   "outputs": [],
   "source": [
    "eval = DrEval(filepaths, model_name='A', model_suffix='adjust', sr_model_id=sr_model_id, dr_model_id=dr_model_id)\n",
    "eval.run_hist_method(N=1)\n",
    "eval.plot('A')"
   ]
  },
  {
   "cell_type": "markdown",
   "metadata": {},
   "source": [
    "# Show Model IDs"
   ]
  },
  {
   "cell_type": "code",
   "execution_count": null,
   "metadata": {},
   "outputs": [
    {
     "ename": "NameError",
     "evalue": "name 'sr_model_id' is not defined",
     "output_type": "error",
     "traceback": [
      "\u001b[0;31m---------------------------------------------------------------------------\u001b[0m",
      "\u001b[0;31mNameError\u001b[0m                                 Traceback (most recent call last)",
      "Cell \u001b[0;32mIn[2], line 1\u001b[0m\n\u001b[0;32m----> 1\u001b[0m \u001b[39mprint\u001b[39m(\u001b[39m'\u001b[39m\u001b[39mSR Model ID:\u001b[39m\u001b[39m'\u001b[39m, sr_model_id)\n\u001b[1;32m      2\u001b[0m \u001b[39mprint\u001b[39m(\u001b[39m'\u001b[39m\u001b[39mDR Model ID:\u001b[39m\u001b[39m'\u001b[39m, dr_model_id)\n",
      "\u001b[0;31mNameError\u001b[0m: name 'sr_model_id' is not defined"
     ]
    }
   ],
   "source": [
    "print('SR Model ID:', sr_model_id)\n",
    "print('DR Model ID:', dr_model_id)"
   ]
  },
  {
   "cell_type": "code",
   "execution_count": null,
   "metadata": {},
   "outputs": [],
   "source": []
  }
 ],
 "metadata": {
  "kernelspec": {
   "display_name": "moxa",
   "language": "python",
   "name": "python3"
  },
  "language_info": {
   "codemirror_mode": {
    "name": "ipython",
    "version": 3
   },
   "file_extension": ".py",
   "mimetype": "text/x-python",
   "name": "python",
   "nbconvert_exporter": "python",
   "pygments_lexer": "ipython3",
   "version": "3.10.12"
  },
  "vscode": {
   "interpreter": {
    "hash": "ac7929854b6d4d7e2ce5893f875cc9f600cfede08169dbb82e36bcbc7af2498e"
   }
  }
 },
 "nbformat": 4,
 "nbformat_minor": 2
}
