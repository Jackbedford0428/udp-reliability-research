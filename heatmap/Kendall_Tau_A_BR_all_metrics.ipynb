{
 "cells": [
  {
   "cell_type": "code",
   "execution_count": 3,
   "metadata": {},
   "outputs": [],
   "source": [
    "import pickle\n",
    "import numpy as np\n",
    "import itertools as it\n",
    "import matplotlib.pylab as plt\n",
    "import seaborn as sns\n",
    "from pprint import pprint\n",
    "from myutils import *\n",
    "import math\n",
    "from scipy.stats import kendalltau\n",
    "import os\n",
    "\n",
    "%config InlineBackend.figure_format = 'retina'  # 提高 jupyter notebook 的圖形顯示解析度"
   ]
  },
  {
   "cell_type": "code",
   "execution_count": 4,
   "metadata": {},
   "outputs": [],
   "source": [
    "def count_discordant_concordant_pairs(x, y):\n",
    "    n = len(x)\n",
    "    discordant_pairs = 0\n",
    "    concordant_pairs = 0\n",
    "    equal_pairs = 0\n",
    "    partial_eq_pairs = 0\n",
    "\n",
    "    for i in range(n):\n",
    "        for j in range(i+1, n):\n",
    "            if (x[i] < x[j] and y[i] > y[j]) or (x[i] > x[j] and y[i] < y[j]):\n",
    "                discordant_pairs += 1\n",
    "            elif (x[i] < x[j] and y[i] < y[j]) or (x[i] > x[j] and y[i] > y[j]):\n",
    "                concordant_pairs += 1\n",
    "            else:\n",
    "                # print((x[i], y[i]), (x[j], y[j]))\n",
    "                if math.isclose(x[i], x[j]) and math.isclose(y[i], y[j]):\n",
    "                    equal_pairs += 1\n",
    "                else:\n",
    "                    partial_eq_pairs += 1\n",
    "    \n",
    "    def bucketize(value, bucket_size=1e-9):\n",
    "        return round(value / bucket_size)\n",
    "    \n",
    "    def count_tied_values(arr):\n",
    "        counts = {}\n",
    "        for val in arr:\n",
    "            if bucketize(val) in counts:\n",
    "                counts[bucketize(val)] += 1\n",
    "            else:\n",
    "                counts[bucketize(val)] = 1\n",
    "        return counts\n",
    "    \n",
    "    def calculate_tied_pairs(counts):\n",
    "        tied_pairs = sum([(count * (count - 1)) // 2 for count in counts.values()])\n",
    "        return tied_pairs\n",
    "    \n",
    "    counts = count_tied_values(x)\n",
    "    tied_pairs_x = calculate_tied_pairs(counts)\n",
    "    # print('x_counts:', len(counts), counts)\n",
    "    # print('tied_pairs_x:', tied_pairs_x)\n",
    "    \n",
    "    counts = count_tied_values(y)\n",
    "    tied_pairs_y = calculate_tied_pairs(counts)\n",
    "    # print('y_counts:', len(counts), counts)\n",
    "    # print('y_tied_pairs:', tied_pairs_y)\n",
    "\n",
    "    return discordant_pairs, concordant_pairs, equal_pairs, partial_eq_pairs, tied_pairs_x, tied_pairs_y, n*(n-1)//2\n",
    "\n",
    "def calc_tau(discordant_pairs, concordant_pairs, equal_pairs, partial_eq_pairs, T_x, T_y, total_pairs):\n",
    "    tau = (concordant_pairs - discordant_pairs) / math.sqrt((concordant_pairs + discordant_pairs + T_x) * (concordant_pairs + discordant_pairs + T_y))\n",
    "    return tau"
   ]
  },
  {
   "cell_type": "code",
   "execution_count": 5,
   "metadata": {},
   "outputs": [],
   "source": [
    "dr_by_event_dir = \"/home/wmnlab/jackbedford/udp-reliability-research/handover_profiling/20240417_1333007d66_new_data_sync_v2/dr_20240417_1452001e84_anchor_by_event\"\n",
    "dr_by_packet_dir = \"/home/wmnlab/jackbedford/udp-reliability-research/handover_profiling/20240417_1333007d66_new_data_sync_v2/dr_20240417_1452001e84_anchor_by_packet\"\n",
    "sr_dir = \"/home/wmnlab/jackbedford/udp-reliability-research/handover_profiling/20240417_1333007d66_new_data_sync_v2/sr\""
   ]
  },
  {
   "cell_type": "markdown",
   "metadata": {},
   "source": [
    "# BR"
   ]
  },
  {
   "cell_type": "code",
   "execution_count": 26,
   "metadata": {},
   "outputs": [
    {
     "name": "stdout",
     "output_type": "stream",
     "text": [
      "BR\n",
      "======= dl_lost =======\n",
      "SR ----------- tau (p-value): 0.7385620915032681 (2.5215800485929758e-06)\n",
      "DR By Event -- tau (p-value): 0.6463223787167448 (9.68547513977747e-16)\n",
      "DR By Packet - tau (p-value): 0.6439749608763693 (1.2280011701749441e-15)\n",
      "\n",
      "======= dl_excl =======\n",
      "SR ----------- tau (p-value): 0.607843137254902 (0.00022573646929059787)\n",
      "DR By Event -- tau (p-value): -0.03912363067292644 (0.6268787493474591)\n",
      "DR By Packet - tau (p-value): -0.1838810641627543 (0.022325371330546795)\n",
      "\n",
      "======= ul_lost =======\n",
      "SR ----------- tau (p-value): 0.6209150326797386 (0.0001549082772801415)\n",
      "DR By Event -- tau (p-value): 0.14871557434344784 (0.06532466502656226)\n",
      "DR By Packet - tau (p-value): 0.40612300645242355 (4.826716527271656e-07)\n",
      "\n",
      "======= ul_excl =======\n",
      "SR ----------- tau (p-value): 0.07189542483660132 (0.7088807630470404)\n",
      "DR By Event -- tau (p-value): -0.016431924882629106 (0.8382187961733422)\n",
      "DR By Packet - tau (p-value): -0.20344287949921752 (0.011476386727573505)\n",
      "\n"
     ]
    }
   ],
   "source": [
    "route = 'BR'\n",
    "print(route)\n",
    "for mm in ['dl_lost', 'dl_excl', 'ul_lost', 'ul_excl']:\n",
    "    print(f\"======= {mm} =======\")\n",
    "    for i, dirpath in enumerate([sr_dir, dr_by_event_dir, dr_by_packet_dir]):\n",
    "        dir = os.path.join(dirpath, mm, 'results')\n",
    "        res_file = [os.path.join(dir, s) for s in os.listdir(dir) if s.startswith(route)][0] if i == 0 else [os.path.join(dir, s) for s in os.listdir(dir) if s.startswith(f'{route}_mle')][0]\n",
    "        # print(res_file)\n",
    "        with open(res_file, 'rb') as f:\n",
    "            res = pickle.load(f)\n",
    "        \n",
    "        devices = [item[5] for item in res]\n",
    "        mean_values = [item[1] for item in res]\n",
    "        ground_truths = [item[3] for item in res]\n",
    "\n",
    "        # discordant_pairs, concordant_pairs, equal_pairs, partial_eq_pairs, T_x, T_y, total_pairs = count_discordant_concordant_pairs(ground_truths, mean_values)\n",
    "        tau, p_value = kendalltau(ground_truths, mean_values)\n",
    "        \n",
    "        if i == 0:\n",
    "            print('SR -----------', end=' ')\n",
    "        elif i == 1:\n",
    "            print('DR By Event --', end=' ')\n",
    "        else:\n",
    "            print('DR By Packet -', end=' ')\n",
    "        print('tau (p-value):', f'{tau} ({p_value})')\n",
    "    print()"
   ]
  },
  {
   "cell_type": "markdown",
   "metadata": {},
   "source": [
    "# Airport"
   ]
  },
  {
   "cell_type": "code",
   "execution_count": 25,
   "metadata": {},
   "outputs": [
    {
     "name": "stdout",
     "output_type": "stream",
     "text": [
      "A\n",
      "======= dl_lost =======\n",
      "SR ----------- tau (p-value): 0.8431372549019609 (1.2272689725953054e-08)\n",
      "DR By Event -- tau (p-value): 0.726277001186339 (2.9122949665757866e-19)\n",
      "DR By Packet - tau (p-value): 0.7531645569620252 (1.859706232212446e-20)\n",
      "\n",
      "======= dl_excl =======\n",
      "SR ----------- tau (p-value): 0.32026143790849676 (0.06849691078121536)\n",
      "DR By Event -- tau (p-value): 0.04853228962818004 (0.5466358377540781)\n",
      "DR By Packet - tau (p-value): 0.14529080243235976 (0.07128722698394292)\n",
      "\n",
      "======= ul_lost =======\n",
      "SR ----------- tau (p-value): 0.607843137254902 (0.00022573646929059787)\n",
      "DR By Event -- tau (p-value): 0.3564914065525715 (1.873109443383019e-05)\n",
      "DR By Packet - tau (p-value): 0.4761516433574152 (1.234560796184773e-08)\n",
      "\n",
      "======= ul_excl =======\n",
      "SR ----------- tau (p-value): 0.18954248366013074 (0.293450858549159)\n",
      "DR By Event -- tau (p-value): 0.37996478911588283 (2.3546615312257084e-06)\n",
      "DR By Packet - tau (p-value): -0.0293484646587963 (0.7154116278430649)\n",
      "\n"
     ]
    }
   ],
   "source": [
    "route = 'A'\n",
    "print(route)\n",
    "for mm in ['dl_lost', 'dl_excl', 'ul_lost', 'ul_excl']:\n",
    "    print(f\"======= {mm} =======\")\n",
    "    for i, dirpath in enumerate([sr_dir, dr_by_event_dir, dr_by_packet_dir]):\n",
    "        dir = os.path.join(dirpath, mm, 'results')\n",
    "        res_file = [os.path.join(dir, s) for s in os.listdir(dir) if s.startswith(route)][0] if i == 0 else [os.path.join(dir, s) for s in os.listdir(dir) if s.startswith(f'{route}_mle')][0]\n",
    "        # print(res_file)\n",
    "        with open(res_file, 'rb') as f:\n",
    "            res = pickle.load(f)\n",
    "        \n",
    "        devices = [item[5] for item in res]\n",
    "        mean_values = [item[1] for item in res]\n",
    "        ground_truths = [item[3] for item in res]\n",
    "\n",
    "        # discordant_pairs, concordant_pairs, equal_pairs, partial_eq_pairs, T_x, T_y, total_pairs = count_discordant_concordant_pairs(ground_truths, mean_values)\n",
    "        tau, p_value = kendalltau(ground_truths, mean_values)\n",
    "        \n",
    "        if i == 0:\n",
    "            print('SR -----------', end=' ')\n",
    "        elif i == 1:\n",
    "            print('DR By Event --', end=' ')\n",
    "        else:\n",
    "            print('DR By Packet -', end=' ')\n",
    "        print('tau (p-value):', f'{tau} ({p_value})')\n",
    "    print()"
   ]
  },
  {
   "cell_type": "code",
   "execution_count": null,
   "metadata": {},
   "outputs": [],
   "source": []
  }
 ],
 "metadata": {
  "kernelspec": {
   "display_name": "moxa",
   "language": "python",
   "name": "python3"
  },
  "language_info": {
   "codemirror_mode": {
    "name": "ipython",
    "version": 3
   },
   "file_extension": ".py",
   "mimetype": "text/x-python",
   "name": "python",
   "nbconvert_exporter": "python",
   "pygments_lexer": "ipython3",
   "version": "3.8.18"
  }
 },
 "nbformat": 4,
 "nbformat_minor": 2
}
